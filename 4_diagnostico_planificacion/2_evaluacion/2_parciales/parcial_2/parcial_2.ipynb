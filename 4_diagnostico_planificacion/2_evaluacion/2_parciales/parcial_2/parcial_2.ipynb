{
 "cells": [
  {
   "cell_type": "markdown",
   "id": "e756b516",
   "metadata": {},
   "source": [
    "\n",
    "[Registro de asistencia a asesoría](https://forms.gle/FNg7WMenKvcgEh2T6)"
   ]
  },
  {
   "cell_type": "markdown",
   "id": "dc06dec7",
   "metadata": {
    "slideshow": {
     "slide_type": "slide"
    }
   },
   "source": [
    "<table align=\"left\">\n",
    "  <td>\n",
    "    <a href=\"https://colab.research.google.com/github/marco-canas/fundamentos_logica/blob/main/4_fase_1_diagnostico_planificacion/0_formatos_clase/1_class_logica.ipynb\" target=\"_parent\"><img src=\"https://colab.research.google.com/assets/colab-badge.svg\" alt=\"Open In Colab\"/></a>\n",
    "  </td>\n",
    "  <td>\n",
    "    <a target=\"_blank\" href=\"https://kaggle.com/kernels/welcome?src=https://github.com/marco-canas/fundamentos_logica/blob/main/4_fase_1_diagnostico_planificacion/0_formatos_clase/1_class_logica.ipynb\"><img src=\"https://kaggle.com/static/images/open-in-kaggle.svg\" /></a>\n",
    "  </td>\n",
    "</table>"
   ]
  },
  {
   "cell_type": "code",
   "execution_count": null,
   "id": "2e20462f",
   "metadata": {},
   "outputs": [],
   "source": [
    "# función de usuario para el código QR \n",
    "\n",
    "# Instalación necesaria si no tienes qrcode\n",
    "# # !pip install qrcode[pil]\n",
    "\n",
    "import qrcode\n",
    "from IPython.display import Image, display\n",
    "from io import BytesIO\n",
    "\n",
    "def generar_qr(url: str, box_size: int = 10, border: int = 4):\n",
    "    \"\"\"\n",
    "    Genera y muestra en Jupyter un código QR para la URL dada.\n",
    "    \n",
    "    Parámetros:\n",
    "    -----------\n",
    "    url : str\n",
    "        Dirección web o texto a codificar en el QR.\n",
    "    box_size : int\n",
    "        Tamaño de cada caja (pixel) en el QR.\n",
    "    border : int\n",
    "        Grosor del borde del QR (en cajas).\n",
    "    \"\"\"\n",
    "    # Crear el objeto QR\n",
    "    qr = qrcode.QRCode(\n",
    "        version=1,\n",
    "        box_size=box_size,\n",
    "        border=border\n",
    "    )\n",
    "    qr.add_data(url)\n",
    "    qr.make(fit=True)\n",
    "\n",
    "    # Convertir a imagen\n",
    "    img = qr.make_image(fill_color=\"black\", back_color=\"white\")\n",
    "\n",
    "    # Guardar en memoria para mostrar en Jupyter\n",
    "    buffer = BytesIO()\n",
    "    img.save(buffer, format=\"PNG\")\n",
    "    buffer.seek(0)\n",
    "    display(Image(data=buffer.getvalue()))\n"
   ]
  },
  {
   "cell_type": "markdown",
   "id": "e0c5b198",
   "metadata": {
    "slideshow": {
     "slide_type": "slide"
    }
   },
   "source": [
    "### [Video de apoyo a la lectura interactiva y experimental de este cuaderno]()"
   ]
  },
  {
   "cell_type": "markdown",
   "id": "41e82203",
   "metadata": {
    "slideshow": {
     "slide_type": "slide"
    }
   },
   "source": [
    "### [Vínculo al programa del curso de Fundamentos de la Lógica binaria  ](https://github.com/marco-canas/fundamentos_logica/blob/main/3_programa_curso/2_programa_logica.md)\n",
    "\n"
   ]
  },
  {
   "cell_type": "markdown",
   "id": "d11ab06d",
   "metadata": {
    "slideshow": {
     "slide_type": "slide"
    }
   },
   "source": [
    "Un reconocimiento a mis estudiantes que han construido conmigo este saber pedagógico:\n",
    "\n",
    "<img src = 'https://github.com/marco-canas/fundamentos_logica/blob/main/images/analisis_numerico_2025-05-27.jpeg?raw=true'>  \n",
    "\n"
   ]
  },
  {
   "cell_type": "code",
   "execution_count": 1,
   "id": "b179a7ed",
   "metadata": {},
   "outputs": [
    {
     "data": {
      "application/vnd.microsoft.datawrangler.viewer.v0+json": {
       "columns": [
        {
         "name": "index",
         "rawType": "int64",
         "type": "integer"
        },
        {
         "name": "Cedula",
         "rawType": "int64",
         "type": "integer"
        },
        {
         "name": "Nombre",
         "rawType": "object",
         "type": "string"
        },
        {
         "name": "Email",
         "rawType": "object",
         "type": "string"
        }
       ],
       "ref": "bd752637-923b-47e9-b57f-2f75a6068be9",
       "rows": [
        [
         "0",
         "1066727564",
         "ARIAS ARRIETA FREDY",
         "fredy.arias1@udea.edu.co"
        ],
        [
         "1",
         "1066512662",
         "BOHORQUEZ NAVARRO DINA ESTELA",
         "dina.bohorquez@udea.edu.co"
        ],
        [
         "2",
         "1216729759",
         "CARDONA RAMÍREZ SARA PAULINA",
         "sara.cardona7@udea.edu.co"
        ],
        [
         "3",
         "5798176",
         "CASTANEDA REINOZA DIEGO",
         "diego.castaneda2@udea.edu.co"
        ],
        [
         "4",
         "1001549324",
         "HERRERA CASTILLO LUKAS MATEO",
         "lukas.herrera@udea.edu.co"
        ],
        [
         "5",
         "1066600808",
         "LUCAS FLOREZ NAYELIS NATALIA",
         "natalia.lucas@udea.edu.co"
        ],
        [
         "6",
         "1038096462",
         "OCHOA ARRIETA JUAN ANDRES",
         "juan.ochoaa1@udea.edu.co"
        ],
        [
         "7",
         "1129805697",
         "RUIZ CARDENAS LUIS MARIO",
         "luismario.ruiz@udea.edu.co"
        ],
        [
         "8",
         "1137974924",
         "TAMAYO DE LA OSSA SARA",
         "sara.tamayod@udea.edu.co"
        ]
       ],
       "shape": {
        "columns": 3,
        "rows": 9
       }
      },
      "text/html": [
       "<div>\n",
       "<style scoped>\n",
       "    .dataframe tbody tr th:only-of-type {\n",
       "        vertical-align: middle;\n",
       "    }\n",
       "\n",
       "    .dataframe tbody tr th {\n",
       "        vertical-align: top;\n",
       "    }\n",
       "\n",
       "    .dataframe thead th {\n",
       "        text-align: right;\n",
       "    }\n",
       "</style>\n",
       "<table border=\"1\" class=\"dataframe\">\n",
       "  <thead>\n",
       "    <tr style=\"text-align: right;\">\n",
       "      <th></th>\n",
       "      <th>Cedula</th>\n",
       "      <th>Nombre</th>\n",
       "      <th>Email</th>\n",
       "    </tr>\n",
       "  </thead>\n",
       "  <tbody>\n",
       "    <tr>\n",
       "      <th>0</th>\n",
       "      <td>1066727564</td>\n",
       "      <td>ARIAS ARRIETA FREDY</td>\n",
       "      <td>fredy.arias1@udea.edu.co</td>\n",
       "    </tr>\n",
       "    <tr>\n",
       "      <th>1</th>\n",
       "      <td>1066512662</td>\n",
       "      <td>BOHORQUEZ NAVARRO DINA ESTELA</td>\n",
       "      <td>dina.bohorquez@udea.edu.co</td>\n",
       "    </tr>\n",
       "    <tr>\n",
       "      <th>2</th>\n",
       "      <td>1216729759</td>\n",
       "      <td>CARDONA RAMÍREZ SARA PAULINA</td>\n",
       "      <td>sara.cardona7@udea.edu.co</td>\n",
       "    </tr>\n",
       "    <tr>\n",
       "      <th>3</th>\n",
       "      <td>5798176</td>\n",
       "      <td>CASTANEDA REINOZA DIEGO</td>\n",
       "      <td>diego.castaneda2@udea.edu.co</td>\n",
       "    </tr>\n",
       "    <tr>\n",
       "      <th>4</th>\n",
       "      <td>1001549324</td>\n",
       "      <td>HERRERA CASTILLO LUKAS MATEO</td>\n",
       "      <td>lukas.herrera@udea.edu.co</td>\n",
       "    </tr>\n",
       "    <tr>\n",
       "      <th>5</th>\n",
       "      <td>1066600808</td>\n",
       "      <td>LUCAS FLOREZ NAYELIS NATALIA</td>\n",
       "      <td>natalia.lucas@udea.edu.co</td>\n",
       "    </tr>\n",
       "    <tr>\n",
       "      <th>6</th>\n",
       "      <td>1038096462</td>\n",
       "      <td>OCHOA ARRIETA JUAN ANDRES</td>\n",
       "      <td>juan.ochoaa1@udea.edu.co</td>\n",
       "    </tr>\n",
       "    <tr>\n",
       "      <th>7</th>\n",
       "      <td>1129805697</td>\n",
       "      <td>RUIZ CARDENAS LUIS MARIO</td>\n",
       "      <td>luismario.ruiz@udea.edu.co</td>\n",
       "    </tr>\n",
       "    <tr>\n",
       "      <th>8</th>\n",
       "      <td>1137974924</td>\n",
       "      <td>TAMAYO DE LA OSSA SARA</td>\n",
       "      <td>sara.tamayod@udea.edu.co</td>\n",
       "    </tr>\n",
       "  </tbody>\n",
       "</table>\n",
       "</div>"
      ],
      "text/plain": [
       "       Cedula                         Nombre                         Email\n",
       "0  1066727564            ARIAS ARRIETA FREDY      fredy.arias1@udea.edu.co\n",
       "1  1066512662  BOHORQUEZ NAVARRO DINA ESTELA    dina.bohorquez@udea.edu.co\n",
       "2  1216729759   CARDONA RAMÍREZ SARA PAULINA     sara.cardona7@udea.edu.co\n",
       "3     5798176        CASTANEDA REINOZA DIEGO  diego.castaneda2@udea.edu.co\n",
       "4  1001549324   HERRERA CASTILLO LUKAS MATEO     lukas.herrera@udea.edu.co\n",
       "5  1066600808   LUCAS FLOREZ NAYELIS NATALIA     natalia.lucas@udea.edu.co\n",
       "6  1038096462      OCHOA ARRIETA JUAN ANDRES      juan.ochoaa1@udea.edu.co\n",
       "7  1129805697       RUIZ CARDENAS LUIS MARIO    luismario.ruiz@udea.edu.co\n",
       "8  1137974924         TAMAYO DE LA OSSA SARA      sara.tamayod@udea.edu.co"
      ]
     },
     "execution_count": 1,
     "metadata": {},
     "output_type": "execute_result"
    }
   ],
   "source": [
    "import pandas as pd\n",
    "import numpy as np\n",
    "\n",
    "# Cargar la lista de estudiantes desde el archivo CSV\n",
    "path = 'C:/Users/marco/Documentos/docencia/groups_list/logica.xlsx'\n",
    "df = pd.read_excel(path)\n",
    "\n",
    "df.head(9)"
   ]
  },
  {
   "cell_type": "markdown",
   "id": "f916feb9",
   "metadata": {},
   "source": [
    "# Prompt para diseño del parcial 2 de fundamentos de lógica, a realizar el 29 de septiembre de 2025.   \n",
    "\n",
    "Dame, por favor, el diseño de una parcial sobre lógica proposicional para estudiantes de licenciatura en matemáticas:  \n",
    "El examen debe constar de 10 preguntas que evalúen los siguientes temas:  \n",
    "\n",
    "1. Escriba la implicación, la conjunción y la equivalencia en términos de disyunción y negación. \n",
    "2. Verificar algunas de las 12 reglas de la lógica utilizando tablas de verdad.\n",
    "3. Enunciar verbal y simbólicamente, las 8 reglas de inferencia. \n",
    "4. Cuál es la diferencia entre condicional e implicación lógica. \n",
    "5. Ejemplifique la negación de una disyunción, \n",
    "6. Ejemplifique la negación de una condicional.\n",
    "7. Ejemplifique la negación de una conjunción.\n",
    "8. Ejemplifique la negación de una bicondicional.\n",
    "9. Cómo hallar la negación de un condicional dado de manera simbólica y verbal. \n",
    "10. Mostrar la capacidad de mostrar la validez de argumentos dados de manera simbólica utilizando las leyes de la lógica y las reglas de inferencia. \n"
   ]
  },
  {
   "cell_type": "markdown",
   "id": "79924a1d",
   "metadata": {},
   "source": [
    "Perfecto 🙌 Te preparo un **diseño de parcial de lógica proposicional** con 10 preguntas alineadas exactamente con los temas que mencionaste. Está pensado para estudiantes de **Licenciatura en Matemáticas**, con redacción clara, nivel universitario, y criterios de evaluación implícitos.\n",
    "\n",
    "---\n",
    "\n",
    "# 📘 Parcial de Lógica Proposicional\n",
    "\n",
    "**Programa:** Licenciatura en Matemáticas\n",
    "**Duración:** 2 horas\n",
    "**Número de preguntas:** 10\n",
    "**Valor total:** 100 puntos (cada pregunta vale 10 puntos)\n",
    "\n",
    "---\n",
    "\n",
    "### **Pregunta 1 (10 puntos)**\n",
    "\n",
    "Escriba la **implicación, la conjunción y la equivalencia** en términos de disyunción y negación.\n",
    "\n",
    "* Presente las tres expresiones simbólicas con justificación breve.\n",
    "\n",
    "---\n",
    "\n",
    "### **Pregunta 2 (10 puntos)**\n",
    "\n",
    "Verifique mediante **tablas de verdad** las siguientes equivalencias lógicas:\n",
    "a) ( \\lnot(p \\vee q) \\equiv \\lnot p \\wedge \\lnot q ).\n",
    "b) ( p \\to q \\equiv \\lnot p \\vee q ).\n",
    "c) ( p \\to q \\equiv \\lnot q \\to \\lnot p ).\n",
    "\n",
    "---\n",
    "\n",
    "### **Pregunta 3 (10 puntos)**\n",
    "\n",
    "Enuncie de forma **verbal y simbólica** las **8 reglas de inferencia** básicas de la lógica proposicional.\n",
    "\n",
    "---\n",
    "\n",
    "### **Pregunta 4 (10 puntos)**\n",
    "\n",
    "Explique con sus propias palabras la diferencia entre:\n",
    "\n",
    "* **El condicional material** ((p \\to q))\n",
    "* **La implicación lógica** ((\\Gamma \\models q))\n",
    "\n",
    "Proporcione un ejemplo para cada caso.\n",
    "\n",
    "---\n",
    "\n",
    "### **Pregunta 5 (10 puntos)**\n",
    "\n",
    "Dé un ejemplo de una proposición en forma de **disyunción** y escriba su **negación**, primero en forma simbólica y luego en forma verbal.\n",
    "\n",
    "---\n",
    "\n",
    "### **Pregunta 6 (10 puntos)**\n",
    "\n",
    "Considere la proposición condicional:\n",
    "\n",
    "> *“Si el estudiante estudia, entonces aprueba el curso.”*\n",
    "\n",
    "* Escríbala simbólicamente.\n",
    "* Determine su **negación** simbólica.\n",
    "* Exprese la negación en forma verbal.\n",
    "\n",
    "---\n",
    "\n",
    "### **Pregunta 7 (10 puntos)**\n",
    "\n",
    "Escriba un ejemplo de proposición en forma de **conjunción** y determine su **negación**, mostrando los pasos formales de aplicación de la ley de De Morgan.\n",
    "\n",
    "---\n",
    "\n",
    "### **Pregunta 8 (10 puntos)**\n",
    "\n",
    "Plantee una proposición en forma de **bicondicional** y exprese su **negación** simbólica y verbal.\n",
    "\n",
    "---\n",
    "\n",
    "### **Pregunta 9 (10 puntos)**\n",
    "\n",
    "Explique el procedimiento general para hallar la **negación de un condicional** dado.\n",
    "\n",
    "* Presente el desarrollo simbólico paso a paso.\n",
    "* Acompañe la explicación con un ejemplo verbal.\n",
    "\n",
    "---\n",
    "\n",
    "### **Pregunta 10 (10 puntos)**\n",
    "\n",
    "Determine la **validez del siguiente argumento** utilizando las leyes de la lógica y reglas de inferencia:\n",
    "\n",
    "1. Si (p), entonces (q).\n",
    "2. Si (q), entonces (r).\n",
    "3. (p).\n",
    "   **Conclusión:** (r).\n",
    "\n",
    "* Realice la deducción paso a paso.\n",
    "\n",
    "---\n",
    "\n",
    "✅ Este parcial cubre **conceptos teóricos, manejo simbólico, aplicación de tablas de verdad, negaciones, y demostraciones de validez de argumentos**, de manera equilibrada.\n",
    "\n",
    "---\n",
    "\n",
    "¿Quieres que te lo prepare también en **formato LaTeX** para que lo puedas usar directamente como examen en clase?\n"
   ]
  },
  {
   "cell_type": "markdown",
   "id": "ffbba14d",
   "metadata": {},
   "source": [
    "# Prompt para diseño del parcial 2 de fundamentos de lógica, a realizar el 29 de septiembre de 2025.  \n",
    "\n",
    "Dame, por favor, el script de Python para convertir este parcial en formato .docx sin el uso de látex pero con símbolos Unicode para hacer legibles las expresiones matemáticas simbólicas.  "
   ]
  },
  {
   "cell_type": "code",
   "execution_count": 2,
   "id": "d990b618",
   "metadata": {},
   "outputs": [
    {
     "name": "stdout",
     "output_type": "stream",
     "text": [
      "Archivo generado: C:\\Users\\marco\\Downloads\\parcial_logica_proposicional.docx\n"
     ]
    }
   ],
   "source": [
    "# Crearemos un script que genera un archivo .docx con el parcial de Lógica Proposicional usando símbolos Unicode.\n",
    "# El script también guarda el archivo en /mnt/data para que puedas descargarlo.\n",
    "# Nota: este bloque crea el archivo inmediatamente y lo guarda en el entorno.\n",
    "\n",
    "from docx import Document\n",
    "from docx.shared import Pt\n",
    "from docx.enum.text import WD_PARAGRAPH_ALIGNMENT\n",
    "\n",
    "doc = Document()\n",
    "\n",
    "# Título\n",
    "title = doc.add_heading('Parcial de Lógica Proposicional', level=1)\n",
    "title.alignment = WD_PARAGRAPH_ALIGNMENT.CENTER\n",
    "\n",
    "# Metadata\n",
    "doc.add_paragraph('Programa: Licenciatura en Matemáticas')\n",
    "doc.add_paragraph('Duración: 2 horas')\n",
    "doc.add_paragraph('Número de preguntas: 10')\n",
    "doc.add_paragraph('Valor total: 100 puntos (cada pregunta vale 10 puntos)')\n",
    "doc.add_paragraph('')  # espacio\n",
    "\n",
    "# Helper to add question with unicode symbols kept\n",
    "def add_question(num, text):\n",
    "    p = doc.add_paragraph()\n",
    "    p.add_run(f'Pregunta {num} (10 puntos)').bold = True\n",
    "    doc.add_paragraph(text)\n",
    "    doc.add_paragraph('')  # espacio\n",
    "\n",
    "# Questions content with Unicode symbols\n",
    "q1 = (\"Escriba la implicación, la conjunción y la equivalencia en términos de disyunción y negación.\\n\\n\"\n",
    "      \"Escriba las tres expresiones simbólicas usando los símbolos Unicode: → (implicación), ∧ (conjunción), ∨ (disyunción), ¬ (negación), ↔ (bicondicional). \"\n",
    "      \"Justifique brevemente cada equivalencia.\")\n",
    "\n",
    "q2 = (\"Verifique mediante tablas de verdad las siguientes equivalencias lógicas:\\n\\n\"\n",
    "      \"a) ¬(p ∨ q) ≡ ¬p ∧ ¬q.\\n\"\n",
    "      \"b) p → q ≡ ¬p ∨ q.\\n\"\n",
    "      \"c) p → q ≡ ¬q → ¬p.\\n\\n\"\n",
    "      \"Incluya tablas de verdad completas para cada equivalencia.\")\n",
    "\n",
    "q3 = (\"Enuncie de forma verbal y simbólica las 8 reglas de inferencia básicas de la lógica proposicional.\\n\\n\"\n",
    "      \"Por ejemplo: Modus Ponens: p, p → q ⊢ q (verbal: si p y p implica q, entonces q). \"\n",
    "      \"Complete las 8 reglas con un ejemplo corto para cada una.\")\n",
    "\n",
    "q4 = (\"Explique con sus propias palabras la diferencia entre:\\n\\n\"\n",
    "      \"- El condicional material (p → q).\\n\"\n",
    "      \"- La implicación lógica (Γ ⊨ q o p ⊨ q).\\n\\n\"\n",
    "      \"Proporcione un ejemplo para cada caso.\")\n",
    "\n",
    "q5 = (\"Dé un ejemplo de una proposición en forma de disyunción y escriba su negación, primero en forma simbólica y luego en forma verbal.\\n\\n\"\n",
    "      \"Use símbolos: ∨ para 'o', ¬ para negación, ∧ para 'y'.\")\n",
    "\n",
    "q6 = (\"Considere la proposición condicional:\\n\\n\"\n",
    "      \"“Si el estudiante estudia, entonces aprueba el curso.”\\n\\n\"\n",
    "      \"- Escríbala simbólicamente.\\n\"\n",
    "      \"- Determine su negación simbólica.\\n\"\n",
    "      \"- Exprese la negación en forma verbal.\")\n",
    "\n",
    "q7 = (\"Escriba un ejemplo de proposición en forma de conjunción y determine su negación, mostrando los pasos formales de aplicación de la ley de De Morgan.\\n\\n\"\n",
    "      \"Use símbolos Unicode: ∧, ∨, ¬.\")\n",
    "\n",
    "q8 = (\"Plantee una proposición en forma de bicondicional y exprese su negación simbólica y verbal.\\n\\n\"\n",
    "      \"Use ↔ para bicondicional y muestre la transformación: ¬(p ↔ q) ≡ (p ∧ ¬q) ∨ (¬p ∧ q).\")\n",
    "\n",
    "q9 = (\"Explique el procedimiento general para hallar la negación de un condicional dado.\\n\\n\"\n",
    "      \"- Presente el desarrollo simbólico paso a paso: ¬(p → q) = ¬(¬p ∨ q) = p ∧ ¬q.\\n\"\n",
    "      \"- Acompañe la explicación con un ejemplo verbal.\")\n",
    "\n",
    "q10 = (\"Determine la validez del siguiente argumento utilizando las leyes de la lógica y reglas de inferencia:\\n\\n\"\n",
    "       \"1. Si p, entonces q. (p → q)\\n\"\n",
    "       \"2. Si q, entonces r. (q → r)\\n\"\n",
    "       \"3. p.\\n\\n\"\n",
    "       \"Conclusión: r.\\n\\n\"\n",
    "       \"Realice la deducción paso a paso (usar Modus Ponens y Silogismo Hipotético si procede).\")\n",
    "\n",
    "questions = [q1,q2,q3,q4,q5,q6,q7,q8,q9,q10]\n",
    "\n",
    "for i, q in enumerate(questions, start=1):\n",
    "    add_question(i, q)\n",
    "\n",
    "# Añadimos una sección de rúbrica y observaciones al final\n",
    "doc.add_heading('Rúbrica y observaciones', level=2)\n",
    "doc.add_paragraph('Cada pregunta vale 10 puntos. Se evaluará: exactitud simbólica, claridad en el razonamiento, uso correcto de equivalencias y reglas de inferencia, y la presentación de tablas cuando se soliciten.')\n",
    "doc.add_paragraph('Se permite el uso de diccionarios y apuntes de clase; no se permite el uso de internet ni comunicación entre estudiantes durante el examen.')\n",
    "\n",
    "# Guardar el archivo\n",
    "filename = r'C:\\Users\\marco\\Downloads\\parcial_logica_proposicional.docx'\n",
    "doc.save(filename)\n",
    "\n",
    "print(f'Archivo generado: {filename}')\n",
    "\n",
    "\n"
   ]
  },
  {
   "cell_type": "markdown",
   "id": "3cac948a",
   "metadata": {},
   "source": [
    "# Lectura interactiva y experimental  \n"
   ]
  },
  {
   "cell_type": "markdown",
   "id": "0e175354",
   "metadata": {},
   "source": [
    "La **lectura interactiva y experimental** de los cuadernos Jupyter diseñados para el curso de **Fundamentos de Lógica** implica un enfoque dinámico y práctico para el aprendizaje, donde los estudiantes no solo consumen información teórica, sino que también interactúan con el contenido, modifican ejemplos, ejecutan código y experimentan con los conceptos lógicos en un entorno computacional. A continuación, se detallan las características clave de este enfoque:\n",
    "\n",
    "\n"
   ]
  },
  {
   "cell_type": "markdown",
   "id": "bab6c6f9",
   "metadata": {},
   "source": [
    "\n",
    "### **1. Lectura Interactiva**  \n"
   ]
  },
  {
   "cell_type": "markdown",
   "id": "356cc63f",
   "metadata": {},
   "source": [
    "- **Manipulación directa del contenido**: Los estudiantes pueden ejecutar celdas de código, modificar fórmulas lógicas o ejemplos, y observar cómo cambian los resultados en tiempo real.  \n"
   ]
  },
  {
   "cell_type": "markdown",
   "id": "32db3a3c",
   "metadata": {},
   "source": [
    "- **Visualización interactiva**: Uso de gráficos, diagramas (como árboles semánticos o tablas de verdad) o herramientas que respondan a entradas del usuario para ilustrar conceptos como validez, consistencia o inferencia."
   ]
  },
  {
   "cell_type": "markdown",
   "id": "595659ad",
   "metadata": {},
   "source": [
    "  \n",
    "- **Retroalimentación inmediata**: Los cuadernos pueden incluir ejercicios con autoevaluación (ejecutando código que verifica soluciones) o explicaciones emergentes al resolver problemas.  \n",
    "\n",
    "\n"
   ]
  },
  {
   "cell_type": "markdown",
   "id": "05442fd7",
   "metadata": {},
   "source": [
    "\n",
    "### **2. Lectura Experimental**  \n"
   ]
  },
  {
   "cell_type": "markdown",
   "id": "1744b5c4",
   "metadata": {},
   "source": [
    "- **Aprendizaje basado en prueba y error**: Los estudiantes pueden \"jugar\" con estructuras lógicas (por ejemplo, modificar conectores en una fórmula proposicional y ver cómo afecta su tabla de verdad). "
   ]
  },
  {
   "cell_type": "markdown",
   "id": "e65ca72b",
   "metadata": {},
   "source": [
    " \n",
    "- **Simulación de escenarios**: Por ejemplo, modelar argumentos en lógica de primer orden y evaluar su corrección mediante ejecución de código (usando librerías como `sympy` o herramientas ad-hoc).  \n"
   ]
  },
  {
   "cell_type": "markdown",
   "id": "efb97cde",
   "metadata": {},
   "source": [
    "- **Exploración guiada y abierta**: Se incluyen secciones con consignas del tipo *\"¿Qué pasa si cambias este axioma?\"* o *\"Intenta construir un contraejemplo\"* para fomentar la curiosidad.  \n",
    "\n",
    "\n"
   ]
  },
  {
   "cell_type": "markdown",
   "id": "374a8ea9",
   "metadata": {},
   "source": [
    "\n",
    "### **3. Componentes clave de los cuadernos**  \n",
    "- **Fragmentos de código ejecutable**: Para evaluar expresiones lógicas, automatizar pruebas o implementar algoritmos (ej: verificación de tautologías).  \n",
    "- **Celdas con texto teórico y preguntas reflexivas**: Integradas con ejemplos prácticos que requieren intervención activa (ej: *\"Define aquí tu propia fórmula y comprueba si es satisfacible\"*).  \n",
    "- **Enlaces a recursos externos**: Como demostradores en línea o lecturas complementarias para profundizar.  \n",
    "\n",
    "---\n"
   ]
  },
  {
   "cell_type": "markdown",
   "id": "c750af8a",
   "metadata": {},
   "source": [
    "\n",
    "### **4. Beneficios pedagógicos**  \n",
    "- **Enganche activo**: Combina teoría y práctica sin salir del entorno digital.  \n",
    "- **Personalización**: Los estudiantes pueden ajustar el ritmo y profundidad de su aprendizaje.  \n",
    "- **Preparación para aplicaciones reales**: Familiariza a los estudiantes con herramientas usadas en investigación (ej: Python para lógica simbólica).  \n",
    "\n",
    "---\n"
   ]
  },
  {
   "cell_type": "markdown",
   "id": "0602e6ee",
   "metadata": {},
   "source": [
    "\n",
    "### **Ejemplo concreto**  \n",
    "Un cuaderno podría incluir:  \n",
    "1. Una explicación de *modus ponens* con una fórmula predefinida (`p → q`, `p`, luego `q`).  \n",
    "2. Una celda interactiva donde el estudiante modifique `p` o `q` y observe cómo falla la regla si las premisas cambian.  \n",
    "3. Un ejercicio para programar un verificador de *modus ponens* usando diccionarios de Python.  \n"
   ]
  },
  {
   "cell_type": "markdown",
   "id": "70e1a505",
   "metadata": {},
   "source": [
    "\n",
    "Este enfoque transforma la lógica (a menudo abstracta) en una experiencia tangible y adaptable."
   ]
  },
  {
   "cell_type": "markdown",
   "id": "8396c0ed",
   "metadata": {},
   "source": [
    "# Presentación de la estructura de la clase  "
   ]
  },
  {
   "cell_type": "markdown",
   "id": "36bc2964",
   "metadata": {},
   "source": [
    "# Desarrollo de habilidades Metacognitivas en enseñanza con metodología IAE \n"
   ]
  },
  {
   "cell_type": "markdown",
   "id": "9c5cb582",
   "metadata": {},
   "source": [
    "\n",
    "Desarrollar habilidades metacognitivas en los estudiantes dentro de una **Investigación Acción Educativa (IAE)** implica un proceso cíclico de reflexión, acción y evaluación. "
   ]
  },
  {
   "cell_type": "markdown",
   "id": "64451e0b",
   "metadata": {},
   "source": [
    "Aquí te propongo una estrategia estructurada en fases, alineada con la IAE, para fomentar la metacognición:\n",
    "\n",
    "\n"
   ]
  },
  {
   "cell_type": "markdown",
   "id": "42be70b3",
   "metadata": {},
   "source": [
    "\n",
    "### **1. Diagnóstico Inicial (Fase de Observación)**  \n"
   ]
  },
  {
   "cell_type": "markdown",
   "id": "55736208",
   "metadata": {},
   "source": [
    "- **Identifica el nivel metacognitivo actual**:  \n",
    "  - Realiza cuestionarios, entrevistas o actividades reflexivas (ej.: \"¿Cómo estudiaste para el último examen? ¿Qué te funcionó o no?\").  \n",
    "  - Observa si los estudiantes pueden explicar sus procesos de aprendizaje o identificar dificultades.  \n"
   ]
  },
  {
   "cell_type": "markdown",
   "id": "56467690",
   "metadata": {},
   "source": [
    "\n",
    "- **Registra evidencias**: Anota cómo los estudiantes planifican, monitorean y evalúan sus tareas (ej.: diarios de aprendizaje, grabaciones de debates).  \n",
    "\n",
    "\n"
   ]
  },
  {
   "cell_type": "markdown",
   "id": "e252e7b1",
   "metadata": {},
   "source": [
    "\n",
    "### **2. Diseño de Intervenciones (Fase de Planificación)**"
   ]
  },
  {
   "cell_type": "markdown",
   "id": "4b036a02",
   "metadata": {},
   "source": [
    "  \n",
    "**a. Enseñanza explícita de estrategias metacognitivas**:  \n"
   ]
  },
  {
   "cell_type": "markdown",
   "id": "114930fc",
   "metadata": {},
   "source": [
    "  - **Modelado**: Muestra cómo *tú* piensas al resolver un problema (\"Pensamiento en voz alta\"). Ejemplo:  \n",
    "    *\"Primero, voy a leer el objetivo de la clase. Luego, revisaré si entiendo los conceptos clave...\"*.  \n",
    "  - **Listas de verificación (checklists)**: Proporciona guías para autoevaluarse (ej.: \"¿Puedo explicar este tema con mis propias palabras?\").  \n"
   ]
  },
  {
   "cell_type": "markdown",
   "id": "1ba3c6a5",
   "metadata": {},
   "source": [
    "\n",
    "**b. Herramientas para la autorregulación**:  \n",
    "  - **Diarios de aprendizaje**: Pide que registren:  \n",
    "    - *\"¿Qué aprendí hoy?\"* (conocimiento).  \n",
    "    - *\"¿Cómo lo aprendí?\"* (proceso).  \n",
    "    - *\"¿Qué me falta por entender?\"* (brechas).  \n",
    "  - **Rúbricas de autoevaluación**: Incluye criterios como: *\"Puedo resolver ejercicios sin ayuda\"* o *\"Sé dónde buscar información confiable\"*.  \n"
   ]
  },
  {
   "cell_type": "markdown",
   "id": "f206e682",
   "metadata": {},
   "source": [
    "\n",
    "**c. Espacios de reflexión colaborativa**:  \n",
    "  - **Debates metacognitivos**: En grupos, discuten: *\"¿Qué estrategia usamos? ¿Funcionó? ¿Por qué?\"*.  \n",
    "  - **Peer feedback**: Intercambian comentarios sobre sus procesos (ej.: \"Tú organizaste bien tus ideas, pero podrías revisar las fuentes\").  \n",
    "\n",
    "---\n"
   ]
  },
  {
   "cell_type": "markdown",
   "id": "0ed547ca",
   "metadata": {},
   "source": [
    "\n",
    "### **3. Implementación (Fase de Acción)**  \n",
    "- **Integra la metacognición en las actividades cotidianas**:  \n",
    "  - Antes de una tarea: *\"¿Qué sabes ya sobre este tema? ¿Cómo planeas abordarlo?\"*.  \n",
    "  - Durante la tarea: *\"¿Estás siguiendo tu plan? ¿Necesitas ajustarlo?\"*.  \n",
    "  - Después: *\"¿Lograste el objetivo? ¿Qué cambiarías la próxima vez?\"*.  \n",
    "- **Usa preguntas clave**:  \n",
    "  - *\"¿Qué parte fue más difícil? ¿Por qué?\"* (identificación de obstáculos).  \n",
    "  - *\"Si tuvieras que enseñarle esto a un compañero, ¿cómo lo harías?\"* (transferencia).  \n",
    "\n",
    "---\n"
   ]
  },
  {
   "cell_type": "markdown",
   "id": "26514009",
   "metadata": {},
   "source": [
    "\n",
    "### **4. Evaluación y Reflexión (Fase de Observación/Reflexión)**  \n",
    "- **Analiza el impacto**: Compara evidencias pre y post intervención (ej.: diarios, desempeño en tareas).  \n",
    "- **Reflexión grupal**: Realiza una sesión donde los estudiantes compartan:  \n",
    "  - *\"¿Qué estrategias metacognitivas les ayudaron más?\"*.  \n",
    "  - *\"¿Cómo se sintieron al gestionar su aprendizaje?\"*.  \n",
    "- **Ajusta la intervención**: Si notas que persisten dificultades, propón nuevas herramientas (ej.: mapas conceptuales para organizar ideas).  \n",
    "\n",
    "---\n"
   ]
  },
  {
   "cell_type": "markdown",
   "id": "02475f41",
   "metadata": {},
   "source": [
    "\n",
    "### **5. Iteración (Ciclo de IAE)**  \n",
    "Repite el ciclo con ajustes basados en los hallazgos. Por ejemplo:  \n",
    "- Si los estudiantes no identifican errores, introduce actividades de *análisis de errores* (\"¿Por qué te equivocaste? ¿Cómo corregirlo?\").  \n",
    "- Si les cuesta planificar, usa herramientas visuales como *diagramas de flujo* para secuenciar pasos.  \n",
    "\n",
    "---\n",
    "\n",
    "### **Ejemplo Práctico**  \n",
    "**Situación**: Estudiantes no revisan sus errores en matemáticas.  \n",
    "- **Intervención**:  \n",
    "  1. **Modelado**: Resuelves un problema cometiendo un error adrede y muestras cómo detectarlo.  \n",
    "  2. **Checklist**: \"¿Revisé cada paso? ¿Mi respuesta tiene sentido?\".  \n",
    "  3. **Diario**: \"Hoy cometí un error en... Lo corregí cambiando...\".  \n",
    "\n",
    "---\n",
    "\n",
    "### **Claves para el Éxito**  \n",
    "- **Consistencia**: Integra la metacognición en todas las clases, no como actividad aislada.  \n",
    "- **Andamiaje**: Reduce gradualmente la guía del docente a medida que los estudiantes ganan autonomía.  \n",
    "- **Cultura de error**: Normaliza los errores como parte del aprendizaje (\"¿Qué podemos aprender de esto?\").  \n",
    "\n",
    "La metacognición no solo mejora el logro académico, sino que empodera a los estudiantes para ser aprendices autónomos y resilientes. En la IAE, este proceso se enriquece al ser colaborativo (docente-estudiantes) y basado en evidencia concreta.  \n",
    "\n",
    "¿Te gustaría profundizar en alguna herramienta específica o ajustar la estrategia a un nivel educativo en particular?"
   ]
  },
  {
   "cell_type": "markdown",
   "id": "239427f7",
   "metadata": {},
   "source": [
    "# Calendario Académico Semestre 2025-2  \n",
    "\n",
    "\n",
    "\n",
    "\n"
   ]
  },
  {
   "cell_type": "code",
   "execution_count": null,
   "id": "c804f8d3",
   "metadata": {},
   "outputs": [],
   "source": []
  },
  {
   "cell_type": "code",
   "execution_count": null,
   "id": "cc539357",
   "metadata": {},
   "outputs": [],
   "source": []
  },
  {
   "cell_type": "markdown",
   "id": "8ba64aed",
   "metadata": {},
   "source": [
    "# Cursos que orienta el profesor Marco Julio Cañas Campillo en 2025-2  \n",
    "\n",
    "1. Fundamentos de Lógica para Licenciatura en Matemáticas \n",
    "2. Álgebra y Trigonometría. \n",
    "3. Geometría Vectorial. \n",
    "4. Análisis Numérico para Licenciatura en Matemáticas. \n"
   ]
  },
  {
   "cell_type": "markdown",
   "id": "8d41fe58",
   "metadata": {
    "slideshow": {
     "slide_type": "slide"
    }
   },
   "source": [
    "# Horario de clases del profesor Marco\n"
   ]
  },
  {
   "cell_type": "markdown",
   "id": "43da7f45",
   "metadata": {},
   "source": [
    "\n",
    "* Lunes 8-12: Fundamentos de Lógica\n",
    "* Martes 9-11 M: Álgebra y Trigonometría. \n",
    "* Martes 2 a 5 PM: Geometría Vectorial. \n",
    "* Miércoles 9 a 11 M: Álgebra y Trigonometría. \n",
    "* Miércoles de 2 a 3 PM: Asesoría Trabajo de Grado Janis Zuñiga Biología. \n",
    "* Jueves 2 a 6 PM: \n",
    "* Viernes 2 - 6 PM: Análisis numérico.  \n",
    "* Sábados 8-12 Asesorías y espacio para retroalimentación y apoyo al trabajo independiente  \n",
    "  y desarrollo de habilidades metacognitivas. "
   ]
  },
  {
   "cell_type": "markdown",
   "id": "ae114e14",
   "metadata": {
    "slideshow": {
     "slide_type": "slide"
    }
   },
   "source": [
    "# Coordinador de los cursos de la Facultad de Educación para regiones:    \n",
    "\n",
    "Andrés Vélez: regioneducacion.fedu@udea.edu.co  \n",
    "Coordinador Regiones  \n",
    "Facultad de Educación  \n",
    "Universidad de Antioquia  "
   ]
  },
  {
   "cell_type": "markdown",
   "id": "b1db4b6c",
   "metadata": {
    "slideshow": {
     "slide_type": "slide"
    }
   },
   "source": [
    "## Monitores\n",
    "* Manuel San Juan Serrano: Contactar escribiendo al correo: manuel.serrano1@udea.edu.co\n",
    "* Yeifry Sebastián Uribe: Contactar escribiendo al correo: yeifry.uribe@udea.edu.co"
   ]
  },
  {
   "cell_type": "markdown",
   "id": "10bce0d0",
   "metadata": {
    "slideshow": {
     "slide_type": "slide"
    }
   },
   "source": [
    "## Referentes "
   ]
  },
  {
   "cell_type": "markdown",
   "id": "1db3c468",
   "metadata": {
    "slideshow": {
     "slide_type": "slide"
    }
   },
   "source": [
    "* [Jupyter Book de fundamentos_logica](file:///C:/Users/marco/Documentos/docencia/fundamentos_logica/fundamentos_logica_book/_build/html/index.html)\n",
    "\n",
    "* [Matemáticas Discretas: una perspectiva funcional con Python 3.x](https://ri.ujat.mx/handle/200.500.12107/3942)  \n",
    "  \n",
    "* [Decargue Crocodile Clip aquí](https://crocodileclips.net/descargar-crocodile-clips/)\n",
    "\n",
    "* [Matemáticas discretas Una introducción abierta, 3ª edición](https://discrete.openmathbooks.org/dmoi3.html)  \n",
    "  \n",
    "* [Desarrollo del pensamiento matemático con calculadora Casio ](https://bibliotecadigital.udea.edu.co/entities/publication/17180405-9f1d-4800-aa7c-e6369779cece)\n",
    "\n",
    "* [CALCULO I DE UNA VARIABLE Ron Larson-Bruce Edwards. Mc Graw Hill. 9º Edición](https://www.academia.edu/42139251/CALCULO_I_DE_UNA_VARIABLE_Ron_Larson_Bruce_Edwards_Mc_Graw_Hill_9o_Edici%C3%B3n)   \n",
    "  \n",
    "\n",
    "* [Grajales Vanegas, L. M., Restrepo Estrada, C. E., Restrepo Ochoa, S. I., & Ruíz De Villalba, F. (2015). Matemáticas I para las ciencias económicas.](https://bibliotecadigital.udea.edu.co/handle/10495/3010)\n",
    "  \n",
    "* R. Duval y Semiosis y pensamiento humano, 2.ª ed. Cali, Colombia: Programa Editorial Universidad del Valle, 2017. [En línea]. Disponible en: https://programaeditorial.univalle.edu.co/gpd-semiosis-y-pensamiento-humano-9789587655278-63324cdb0f6b3.html\n",
    "\n",
    "* [Aylwin, C. U. (2011). Lógica, conjuntos y números. Universidad de los Andes, Consejo de Publicaciones, Colección: Ciencias Básicas, Serie: Matemáticas.](chrome-extension://efaidnbmnnnibpcajpcglclefindmkaj/https://www.u-cursos.cl/ciencias/2011/1/MC110/1/material_docente/bajar?id_material=574722)\n",
    "  \n",
    "* [Chollet, F. (2021). Deep learning with Python. Simon and Schuster.](chrome-extension://efaidnbmnnnibpcajpcglclefindmkaj/https://tanthiamhuat.wordpress.com/wp-content/uploads/2018/03/deeplearningwithpython.pdf)  \n",
    "  \n",
    "* [Watson, S., Stewart, J., & Redlin, L. (2009). Precálculo. Matemáticas para el cálculo.](chrome-extension://efaidnbmnnnibpcajpcglclefindmkaj/https://students.aiu.edu/submissions/profiles/resources/onlineBook/k6L8A3_precalculo_-_matematicas_para_el_calculo-1.pdf)  \n",
    "\n",
    "* [Purcell, E. J., Varberg, D., & Rigdon, S. E. (2007). Cálculo diferencial e integral. Pearson Educación.](https://github.com/marco-canas/calculo/blob/main/referents/purcell/purcell_calculo.pdf)\n",
    "\n",
    "  \n",
    "\n",
    "* [stewart cálculo](https://udeaeduco-my.sharepoint.com/:b:/g/personal/marco_canas_udea_edu_co/EZgXZjAp8QxPqOAim2hs6LcBNPLGjSHf-xwYnUVYkwa04w?e=RZdTCy)  \n",
    "\n",
    "\n",
    "* [Recomendación de la UNESCO sobre ciencia abierta](https://unesdoc.unesco.org/ark:/48223/pf0000379949_spa)\n",
    "\n",
    "* [chatGPT](https://openai.com/blog/chatgpt)  \n",
    "\n",
    "* [Géron, A. (2017). Hands-on machine learning with scikit-learn and tensorflow: Concepts. Tools, and Techniques to build intelligent systems.](chrome-extension://efaidnbmnnnibpcajpcglclefindmkaj/http://14.139.161.31/OddSem-0822-1122/Hands-On_Machine_Learning_with_Scikit-Learn-Keras-and-TensorFlow-2nd-Edition-Aurelien-Geron.pdf)   \n"
   ]
  },
  {
   "cell_type": "markdown",
   "id": "df925560",
   "metadata": {},
   "source": [
    "\n",
    "* [McKinney, W. (2012). Python for data analysis: Data wrangling with Pandas, NumPy, and IPython. \" O'Reilly Media, Inc.\".](https://wesmckinney.com/book/) "
   ]
  },
  {
   "cell_type": "markdown",
   "id": "8e65d6f9",
   "metadata": {},
   "source": [
    "# Como estudiante, encuentro que...   \n",
    "\n",
    "F: Mis Fortalezas son:     \n",
    "O: Mis Oportunidades son:    \n",
    "D: Mis Debilidades son:    \n",
    "A: Lo que Amenazas mi aprendizaje es:  "
   ]
  },
  {
   "cell_type": "markdown",
   "id": "6b9e56a8",
   "metadata": {
    "slideshow": {
     "slide_type": "slide"
    }
   },
   "source": [
    "### [Evaluamos al profesor Marco Cañas Aquí](https://forms.office.com/Pages/ResponsePage.aspx?id=IefhmYRxjkmK_7KtTlPBwkanXIs1i1FEujpsZgO6dXpUREJPV1kxUk1JV1ozTFJIQVNIQjY5WEY3US4u)"
   ]
  },
  {
   "cell_type": "markdown",
   "id": "10f43536",
   "metadata": {
    "slideshow": {
     "slide_type": "slide"
    }
   },
   "source": [
    "### Continue su aprendizaje en la siguiente clase a través del siguiente [vínculo]()"
   ]
  },
  {
   "cell_type": "markdown",
   "id": "53cc9115",
   "metadata": {
    "slideshow": {
     "slide_type": "slide"
    }
   },
   "source": [
    "## Agradecimientos  \n",
    "\n",
    "Doy gracias a Dios por la vida de mi Hijo Joseph Cañas Osorio y la madurez que ha alcanzado. Este hijo me enorgullece y me hace falta abrazarlo cada día. \n",
    "\n",
    "Y a mi esposa Yasmira Emperatriz Barboza Mogollón por su apoyo, orientación y acompañamiento. "
   ]
  },
  {
   "cell_type": "code",
   "execution_count": null,
   "id": "6a7a627c",
   "metadata": {},
   "outputs": [],
   "source": []
  }
 ],
 "metadata": {
  "celltoolbar": "Slideshow",
  "kernelspec": {
   "display_name": ".venv",
   "language": "python",
   "name": "python3"
  },
  "language_info": {
   "codemirror_mode": {
    "name": "ipython",
    "version": 3
   },
   "file_extension": ".py",
   "mimetype": "text/x-python",
   "name": "python",
   "nbconvert_exporter": "python",
   "pygments_lexer": "ipython3",
   "version": "3.11.9"
  },
  "rise": {
   "enable_chalkboard": true,
   "theme": "sky",
   "transition": "zoom"
  }
 },
 "nbformat": 4,
 "nbformat_minor": 5
}
