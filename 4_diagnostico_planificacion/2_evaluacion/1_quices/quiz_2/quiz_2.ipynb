{
 "cells": [
  {
   "cell_type": "markdown",
   "id": "a401b4d1",
   "metadata": {},
   "source": []
  },
  {
   "cell_type": "markdown",
   "id": "7441c25c",
   "metadata": {},
   "source": [
    "# Prompt para el diseño del quiz 2  "
   ]
  },
  {
   "cell_type": "markdown",
   "id": "df014142",
   "metadata": {},
   "source": [
    "Perfecto, Marco. Te diseño un **Quiz 2 (30 min, 3 ítems)**, alineado con los temas ya vistos hasta la **sesión 5 (08/09)**: sintaxis y semántica proposicional, tablas de verdad, tautologías/contradicciones/contingencias, equivalencias lógicas, leyes de la lógica y nociones iniciales de reglas de inferencia.\n",
    "\n",
    "---\n",
    "\n",
    "# ✏️ **Quiz 2 — Fundamentos de la Lógica**\n",
    "\n",
    "**Duración:** 30 min\n",
    "**Número de ítems:** 3\n",
    "\n",
    "---\n",
    "\n",
    "### **Ítem 1. (Sintaxis y semántica – 10 puntos)**\n",
    "\n",
    "Considere la fórmula proposicional:\n",
    "\n",
    "$$\n",
    "\\varphi = \\lnot (p \\land q) \\lor (p \\rightarrow r)\n",
    "$$\n",
    "\n",
    "a) Indique si $\\varphi$ está bien formada según las reglas de sintaxis proposicional.\n",
    "b) Construya la **tabla de verdad** completa para $\\varphi$.\n",
    "\n",
    "---\n",
    "\n",
    "### **Ítem 2. (Tautologías y equivalencias – 10 puntos)**\n",
    "\n",
    "Demuestre si la siguiente equivalencia es verdadera usando **leyes de la lógica** (no solo tabla de verdad):\n",
    "\n",
    "$$\n",
    "(p \\rightarrow q) \\equiv (\\lnot p \\lor q)\n",
    "$$\n",
    "\n",
    "Escriba la justificación paso a paso, indicando la ley usada en cada transformación.\n",
    "\n",
    "---\n",
    "\n",
    "### **Ítem 3. (Reglas de inferencia – 10 puntos)**\n",
    "\n",
    "Considere el siguiente argumento:\n",
    "\n",
    "1. $p \\rightarrow q$\n",
    "2. $p$\n",
    "3. $\\therefore q$\n",
    "\n",
    "a) Identifique la **regla de inferencia** que se aplica.\n",
    "b) Explique por qué este argumento es válido.\n",
    "\n",
    "---\n",
    "\n",
    "👉 Con este diseño:\n",
    "\n",
    "* El **ítem 1** revisa comprensión de fórmulas y manejo de tablas de verdad.\n",
    "* El **ítem 2** mide destreza con leyes y equivalencias.\n",
    "* El **ítem 3** introduce reglas de inferencia (tema de S5).\n",
    "\n",
    "---\n",
    "\n",
    "¿Quieres que te lo prepare también en **formato .docx listo para imprimir**, con espacio para respuestas y tabla en blanco para el Ítem 1?\n"
   ]
  },
  {
   "cell_type": "markdown",
   "id": "1ee9ac5f",
   "metadata": {},
   "source": [
    "# Prompt para convertir en .docx  \n",
    "\n",
    "Dame el script de python para convertir este quiz en archivo .docx sin utilizar lenguaje latex, y utilizando símbolos unicode para garantizar la legibilidad de las fórmulas matemáticas.  \n",
    "\n"
   ]
  },
  {
   "cell_type": "code",
   "execution_count": 1,
   "id": "77076c3a",
   "metadata": {},
   "outputs": [
    {
     "name": "stdout",
     "output_type": "stream",
     "text": [
      "Documento guardado como: Quiz2_Fundamentos_Logica.docx\n"
     ]
    }
   ],
   "source": [
    "from docx import Document\n",
    "from docx.shared import Pt\n",
    "\n",
    "def crear_quiz2_docx(nombre_archivo=\"Quiz2_Fundamentos_Logica.docx\"):\n",
    "    # Crear documento\n",
    "    doc = Document()\n",
    "    doc.add_heading(\"Quiz 2 — Fundamentos de la Lógica\", level=0)\n",
    "\n",
    "    # Info general\n",
    "    doc.add_paragraph(\"Duración: 30 min\")\n",
    "    doc.add_paragraph(\"Número de ítems: 3\")\n",
    "    doc.add_paragraph(\" \")\n",
    "\n",
    "    # Ítem 1\n",
    "    doc.add_heading(\"Ítem 1. (Sintaxis y semántica – 10 puntos)\", level=1)\n",
    "    doc.add_paragraph(\n",
    "        \"Considere la fórmula proposicional:\\n\\n\"\n",
    "        \"    φ = ¬(p ∧ q) ∨ (p → r)\\n\\n\"\n",
    "        \"a) Indique si φ está bien formada según las reglas de sintaxis proposicional.\\n\"\n",
    "        \"b) Construya la tabla de verdad completa para φ.\"\n",
    "    )\n",
    "\n",
    "    # Ítem 2\n",
    "    doc.add_heading(\"Ítem 2. (Tautologías y equivalencias – 10 puntos)\", level=1)\n",
    "    doc.add_paragraph(\n",
    "        \"Demuestre si la siguiente equivalencia es verdadera usando leyes de la lógica \"\n",
    "        \"(no solo tabla de verdad):\\n\\n\"\n",
    "        \"    (p → q) ≡ (¬p ∨ q)\\n\\n\"\n",
    "        \"Escriba la justificación paso a paso, indicando la ley usada en cada transformación.\"\n",
    "    )\n",
    "\n",
    "    # Ítem 3\n",
    "    doc.add_heading(\"Ítem 3. (Reglas de inferencia – 10 puntos)\", level=1)\n",
    "    doc.add_paragraph(\n",
    "        \"Considere el siguiente argumento:\\n\\n\"\n",
    "        \"    1. p → q\\n\"\n",
    "        \"    2. p\\n\"\n",
    "        \"    ∴ q\\n\\n\"\n",
    "        \"a) Identifique la regla de inferencia que se aplica.\\n\"\n",
    "        \"b) Explique por qué este argumento es válido.\"\n",
    "    )\n",
    "\n",
    "    # Guardar documento\n",
    "    doc.save(nombre_archivo)\n",
    "    print(f\"Documento guardado como: {nombre_archivo}\")\n",
    "\n",
    "# Ejecutar función\n",
    "crear_quiz2_docx()\n"
   ]
  }
 ],
 "metadata": {
  "kernelspec": {
   "display_name": ".venv",
   "language": "python",
   "name": "python3"
  },
  "language_info": {
   "codemirror_mode": {
    "name": "ipython",
    "version": 3
   },
   "file_extension": ".py",
   "mimetype": "text/x-python",
   "name": "python",
   "nbconvert_exporter": "python",
   "pygments_lexer": "ipython3",
   "version": "3.11.9"
  }
 },
 "nbformat": 4,
 "nbformat_minor": 5
}
