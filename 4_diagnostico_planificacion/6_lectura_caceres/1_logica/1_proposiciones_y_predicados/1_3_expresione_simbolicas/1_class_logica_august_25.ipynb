{
 "cells": [
  {
   "cell_type": "markdown",
   "id": "dc06dec7",
   "metadata": {
    "slideshow": {
     "slide_type": "slide"
    }
   },
   "source": [
    "<table align=\"left\">\n",
    "  <td>\n",
    "    <a href=\"https://colab.research.google.com/github/marco-canas/fundamentos_logica/blob/main/4_diagnostico_planificacion/6_lectura_caceres/1_logica/1_proposiciones_y_predicados/1_3_expresione_simbolicas/1_class_logica_august_25.ipynb\" target=\"_parent\"><img src=\"https://colab.research.google.com/assets/colab-badge.svg\" alt=\"Open In Colab\"/></a>\n",
    "  </td>\n",
    "  <td>\n",
    "    <a target=\"_blank\" href=\"https://kaggle.com/kernels/welcome?src=https://github.com/marco-canas/fundamentos_logica/blob/main/4_diagnostico_planificacion/6_lectura_caceres/1_logica/1_proposiciones_y_predicados/1_3_expresione_simbolicas/1_class_logica_august_25.ipynb\"><img src=\"https://kaggle.com/static/images/open-in-kaggle.svg\" /></a>\n",
    "  </td>\n",
    "</table>"
   ]
  },
  {
   "cell_type": "code",
   "execution_count": 2,
   "id": "2e20462f",
   "metadata": {},
   "outputs": [],
   "source": [
    "# función de usuario para el código QR \n",
    "\n",
    "\n",
    "import qrcode\n",
    "from IPython.display import Image, display\n",
    "from io import BytesIO\n",
    "\n",
    "def generar_qr(url: str, box_size: int = 10, border: int = 4):\n",
    "    \"\"\"\n",
    "    Genera y muestra en Jupyter un código QR para la URL dada.\n",
    "    \n",
    "    Parámetros:\n",
    "    -----------\n",
    "    url : str\n",
    "        Dirección web o texto a codificar en el QR.\n",
    "    box_size : int\n",
    "        Tamaño de cada caja (pixel) en el QR.\n",
    "    border : int\n",
    "        Grosor del borde del QR (en cajas).\n",
    "    \"\"\"\n",
    "    # Crear el objeto QR\n",
    "    qr = qrcode.QRCode(\n",
    "        version=1,\n",
    "        box_size=box_size,\n",
    "        border=border\n",
    "    )\n",
    "    qr.add_data(url)\n",
    "    qr.make(fit=True)\n",
    "\n",
    "    # Convertir a imagen\n",
    "    img = qr.make_image(fill_color=\"black\", back_color=\"white\")\n",
    "\n",
    "    # Guardar en memoria para mostrar en Jupyter\n",
    "    buffer = BytesIO()\n",
    "    img.save(buffer, format=\"PNG\")\n",
    "    buffer.seek(0)\n",
    "    display(Image(data=buffer.getvalue()))\n"
   ]
  },
  {
   "cell_type": "code",
   "execution_count": 3,
   "id": "50352bb0",
   "metadata": {},
   "outputs": [
    {
     "data": {
      "image/png": "[encoded data removed]",
      "text/plain": [
       "<IPython.core.display.Image object>"
      ]
     },
     "metadata": {},
     "output_type": "display_data"
    }
   ],
   "source": [
    "generar_qr('https://colab.research.google.com/github/marco-canas/fundamentos_logica/blob/main/4_diagnostico_planificacion/6_lectura_caceres/1_logica/1_proposiciones_y_predicados/1_3_expresione_simbolicas/1_class_logica_august_25.ipynb#scrollTo=2e20462f')"
   ]
  },
  {
   "cell_type": "markdown",
   "id": "e0c5b198",
   "metadata": {
    "slideshow": {
     "slide_type": "slide"
    }
   },
   "source": [
    "### [Video de apoyo a la lectura interactiva y experimental de este cuaderno](https://www.youtube.com/watch?v=GEemiBvDANU)"
   ]
  },
  {
   "cell_type": "markdown",
   "id": "41e82203",
   "metadata": {
    "slideshow": {
     "slide_type": "slide"
    }
   },
   "source": [
    "### [Vínculo al programa del curso de Fundamentos de la Lógica binaria  ](https://github.com/marco-canas/fundamentos_logica/blob/main/3_programa_curso/2_programa_logica.md)\n",
    "\n"
   ]
  },
  {
   "cell_type": "markdown",
   "id": "d11ab06d",
   "metadata": {
    "slideshow": {
     "slide_type": "slide"
    }
   },
   "source": [
    "Un reconocimiento a mis estudiantes que han construido conmigo este saber pedagógico:\n",
    "\n",
    "<img src = 'https://github.com/marco-canas/fundamentos_logica/blob/main/images/analisis_numerico_2025-05-27.jpeg?raw=true'>  \n",
    "\n"
   ]
  },
  {
   "cell_type": "markdown",
   "id": "8a74a56c-0ce6-4ad6-b985-553fd7fb68bb",
   "metadata": {},
   "source": [
    "# Reconocimiento a las profesoras destacadas en enseñanza de la matemática en Colombia  \n"
   ]
  },
  {
   "cell_type": "markdown",
   "id": "27c4e49a",
   "metadata": {},
   "source": [
    "\n",
    "Esta es una lista de **20 mujeres destacadas** por sus contribuciones a la **enseñanza, investigación y divulgación de la lógica y la teoría de conjuntos**, en contextos tanto matemáticos como filosóficos y computacionales. La lista incluye académicas históricas y contemporáneas, de diferentes partes del mundo.\n",
    "\n",
    "\n"
   ]
  },
  {
   "cell_type": "markdown",
   "id": "d18b126a",
   "metadata": {},
   "source": [
    "\n",
    "## **Mujeres destacadas en lógica y teoría de conjuntos**\n"
   ]
  },
  {
   "cell_type": "markdown",
   "id": "596f773e",
   "metadata": {},
   "source": [
    "\n",
    "| # | Nombre | País | Aportes principales |\n",
    "|---|--------|------|---------------------|\n",
    "| 1. | **Christine Ladd-Franklin** | EE.UU. | Primera mujer en formular trabajos en lógica simbólica y álgebra booleana. Alumna de Peirce. |\n",
    "| 2. | **Emilie du Châtelet** | Francia | Precursora del pensamiento racional en matemáticas, influenció la lógica natural. |\n",
    "| 3. | **Ruth Barcan Marcus** | EE.UU. | Fundadora de la lógica modal cuantificacional; creadora de las fórmulas de Barcan. |\n",
    "| 4. | **Julia Robinson** | EE.UU. | Trabajó en lógica matemática, teoría de la decisión y problemas de Hilbert. |\n",
    "| 5. | **Anne Troelstra** (en colaboración con L.E.J. Brouwer) | Países Bajos | Contribuyó a la lógica intuicionista y constructiva. |\n",
    "| 6. | **Dorothy Edgington** | Reino Unido | Importante en semántica de condicionales y lógica filosófica. |\n",
    "| 7. | **Valeria de Paiva** | Brasil / Reino Unido | Investigadora en lógica categórica y lógica en ciencias computacionales. |\n",
    "| 8. | **Sara Negri** https://sites.google.com/view/saranegri/home | Finlandia / Italia | Especialista en teoría de demostraciones y lógica formal. |\n",
    "| 9. | **Mária Kaluszová** | Eslovaquia | Investigadora en lógica matemática, álgebra booleana y educación matemática. |\n",
    "| 10. | **Louise McNally** | EE.UU. / España | Ha trabajado en semántica formal y lógica del lenguaje natural. |\n",
    "| 11. | **Juliet Floyd** | EE.UU. | Historiadora de la lógica y el pensamiento de Gödel, Turing y Wittgenstein. |\n",
    "| 12. | **Dagmar Sattler-Klein** | Alemania | Contribuciones a la lógica computacional y educación en matemáticas. |\n",
    "| 13. | **Penelope Maddy** | EE.UU. | Filósofa de la matemática, especializada en teoría de conjuntos y realismo matemático. |\n",
    "| 14. | **Anil Nerode (con tribuciones compartidas con su esposa, Lois Nerode)** | EE.UU. | Investigación conjunta en lógica y teoría de autómatas. |\n",
    "| 15. | **Joan Moschovakis** | EE.UU. | Investigadora en lógica intuicionista, teoría de funciones recursivas. |\n",
    "| 16. | **Phoebe McLaughlin** | Australia | Enseñanza de lógica matemática y computacional. |\n",
    "| 17. | **Francesca Poggiolesi** | Francia | Especialista en lógica subestructural, demostraciones, y epistemología formal. |\n",
    "| 18. | **Helena Rasiowa** | Polonia | Autora influyente en lógica algebraica y lógica matemática computacional. |\n",
    "| 19. | **Mary Tiles** | Reino Unido | Historiadora de la lógica y la teoría de conjuntos, enfocada en matemáticas del siglo XIX. |\n",
    "| 20. | **Barbara Partee** | EE.UU. | Lingüista y lógica; pionera en semántica formal y su aplicación al lenguaje natural. |\n",
    "\n",
    "---\n"
   ]
  },
  {
   "cell_type": "markdown",
   "id": "010e9b58",
   "metadata": {},
   "source": [
    "\n",
    "## ¿Cómo utilizar esta lista en tu curso?\n",
    "\n",
    "Puedes:\n"
   ]
  },
  {
   "cell_type": "markdown",
   "id": "79ecf3fa",
   "metadata": {},
   "source": [
    "\n",
    "- Diseñar una **galería de mujeres en la lógica** en tu repositorio GitHub con biografías y recursos asociados.\n",
    "- Crear **actividades de lectura e investigación**, como mini-biografías o análisis de sus aportes.\n",
    "- Invitar a algunas (como Valeria de Paiva o Sara Negri) a encuentros virtuales.\n",
    "- Generar un **podcast o video de YouTube** titulado *“Mujeres que transformaron la lógica”* para tu canal *DiMathData*.\n",
    "\n",
    "---\n",
    "\n",
    "¿Quieres que te ayude a construir esa galería o una línea del tiempo interactiva con sus aportes?\n"
   ]
  },
  {
   "cell_type": "code",
   "execution_count": 1,
   "id": "b179a7ed",
   "metadata": {},
   "outputs": [
    {
     "data": {
      "application/vnd.microsoft.datawrangler.viewer.v0+json": {
       "columns": [
        {
         "name": "index",
         "rawType": "int64",
         "type": "integer"
        },
        {
         "name": "Cedula",
         "rawType": "int64",
         "type": "integer"
        },
        {
         "name": "Nombre",
         "rawType": "object",
         "type": "string"
        },
        {
         "name": "Email",
         "rawType": "object",
         "type": "string"
        }
       ],
       "ref": "bd752637-923b-47e9-b57f-2f75a6068be9",
       "rows": [
        [
         "0",
         "1066727564",
         "ARIAS ARRIETA FREDY",
         "fredy.arias1@udea.edu.co"
        ],
        [
         "1",
         "1066512662",
         "BOHORQUEZ NAVARRO DINA ESTELA",
         "dina.bohorquez@udea.edu.co"
        ],
        [
         "2",
         "1216729759",
         "CARDONA RAMÍREZ SARA PAULINA",
         "sara.cardona7@udea.edu.co"
        ],
        [
         "3",
         "5798176",
         "CASTANEDA REINOZA DIEGO",
         "diego.castaneda2@udea.edu.co"
        ],
        [
         "4",
         "1001549324",
         "HERRERA CASTILLO LUKAS MATEO",
         "lukas.herrera@udea.edu.co"
        ],
        [
         "5",
         "1066600808",
         "LUCAS FLOREZ NAYELIS NATALIA",
         "natalia.lucas@udea.edu.co"
        ],
        [
         "6",
         "1038096462",
         "OCHOA ARRIETA JUAN ANDRES",
         "juan.ochoaa1@udea.edu.co"
        ],
        [
         "7",
         "1129805697",
         "RUIZ CARDENAS LUIS MARIO",
         "luismario.ruiz@udea.edu.co"
        ],
        [
         "8",
         "1137974924",
         "TAMAYO DE LA OSSA SARA",
         "sara.tamayod@udea.edu.co"
        ]
       ],
       "shape": {
        "columns": 3,
        "rows": 9
       }
      },
      "text/html": [
       "<div>\n",
       "<style scoped>\n",
       "    .dataframe tbody tr th:only-of-type {\n",
       "        vertical-align: middle;\n",
       "    }\n",
       "\n",
       "    .dataframe tbody tr th {\n",
       "        vertical-align: top;\n",
       "    }\n",
       "\n",
       "    .dataframe thead th {\n",
       "        text-align: right;\n",
       "    }\n",
       "</style>\n",
       "<table border=\"1\" class=\"dataframe\">\n",
       "  <thead>\n",
       "    <tr style=\"text-align: right;\">\n",
       "      <th></th>\n",
       "      <th>Cedula</th>\n",
       "      <th>Nombre</th>\n",
       "      <th>Email</th>\n",
       "    </tr>\n",
       "  </thead>\n",
       "  <tbody>\n",
       "    <tr>\n",
       "      <th>0</th>\n",
       "      <td>1066727564</td>\n",
       "      <td>ARIAS ARRIETA FREDY</td>\n",
       "      <td>fredy.arias1@udea.edu.co</td>\n",
       "    </tr>\n",
       "    <tr>\n",
       "      <th>1</th>\n",
       "      <td>1066512662</td>\n",
       "      <td>BOHORQUEZ NAVARRO DINA ESTELA</td>\n",
       "      <td>dina.bohorquez@udea.edu.co</td>\n",
       "    </tr>\n",
       "    <tr>\n",
       "      <th>2</th>\n",
       "      <td>1216729759</td>\n",
       "      <td>CARDONA RAMÍREZ SARA PAULINA</td>\n",
       "      <td>sara.cardona7@udea.edu.co</td>\n",
       "    </tr>\n",
       "    <tr>\n",
       "      <th>3</th>\n",
       "      <td>5798176</td>\n",
       "      <td>CASTANEDA REINOZA DIEGO</td>\n",
       "      <td>diego.castaneda2@udea.edu.co</td>\n",
       "    </tr>\n",
       "    <tr>\n",
       "      <th>4</th>\n",
       "      <td>1001549324</td>\n",
       "      <td>HERRERA CASTILLO LUKAS MATEO</td>\n",
       "      <td>lukas.herrera@udea.edu.co</td>\n",
       "    </tr>\n",
       "    <tr>\n",
       "      <th>5</th>\n",
       "      <td>1066600808</td>\n",
       "      <td>LUCAS FLOREZ NAYELIS NATALIA</td>\n",
       "      <td>natalia.lucas@udea.edu.co</td>\n",
       "    </tr>\n",
       "    <tr>\n",
       "      <th>6</th>\n",
       "      <td>1038096462</td>\n",
       "      <td>OCHOA ARRIETA JUAN ANDRES</td>\n",
       "      <td>juan.ochoaa1@udea.edu.co</td>\n",
       "    </tr>\n",
       "    <tr>\n",
       "      <th>7</th>\n",
       "      <td>1129805697</td>\n",
       "      <td>RUIZ CARDENAS LUIS MARIO</td>\n",
       "      <td>luismario.ruiz@udea.edu.co</td>\n",
       "    </tr>\n",
       "    <tr>\n",
       "      <th>8</th>\n",
       "      <td>1137974924</td>\n",
       "      <td>TAMAYO DE LA OSSA SARA</td>\n",
       "      <td>sara.tamayod@udea.edu.co</td>\n",
       "    </tr>\n",
       "  </tbody>\n",
       "</table>\n",
       "</div>"
      ],
      "text/plain": [
       "       Cedula                         Nombre                         Email\n",
       "0  1066727564            ARIAS ARRIETA FREDY      fredy.arias1@udea.edu.co\n",
       "1  1066512662  BOHORQUEZ NAVARRO DINA ESTELA    dina.bohorquez@udea.edu.co\n",
       "2  1216729759   CARDONA RAMÍREZ SARA PAULINA     sara.cardona7@udea.edu.co\n",
       "3     5798176        CASTANEDA REINOZA DIEGO  diego.castaneda2@udea.edu.co\n",
       "4  1001549324   HERRERA CASTILLO LUKAS MATEO     lukas.herrera@udea.edu.co\n",
       "5  1066600808   LUCAS FLOREZ NAYELIS NATALIA     natalia.lucas@udea.edu.co\n",
       "6  1038096462      OCHOA ARRIETA JUAN ANDRES      juan.ochoaa1@udea.edu.co\n",
       "7  1129805697       RUIZ CARDENAS LUIS MARIO    luismario.ruiz@udea.edu.co\n",
       "8  1137974924         TAMAYO DE LA OSSA SARA      sara.tamayod@udea.edu.co"
      ]
     },
     "execution_count": 1,
     "metadata": {},
     "output_type": "execute_result"
    }
   ],
   "source": [
    "import pandas as pd\n",
    "import numpy as np\n",
    "\n",
    "# Cargar la lista de estudiantes desde el archivo CSV\n",
    "path = 'C:/Users/marco/Documentos/docencia/groups_list/logica.xlsx'\n",
    "df = pd.read_excel(path)\n",
    "\n",
    "df.head(9)"
   ]
  },
  {
   "cell_type": "markdown",
   "id": "d7598d0a-d9b7-4ae0-b029-a0ed6ed1130b",
   "metadata": {},
   "source": [
    "\n",
    "# Principios de mi labor docente"
   ]
  },
  {
   "cell_type": "markdown",
   "id": "4f9d8cf9",
   "metadata": {
    "slideshow": {
     "slide_type": "slide"
    }
   },
   "source": [
    "## Modelo general de clase: [aula invertida](https://www3.gobiernodecanarias.org/medusa/ecoescuela/pedagotic/aprendizaje-invertido-flipped-classroom/)"
   ]
  },
  {
   "cell_type": "markdown",
   "id": "eb6ed03a",
   "metadata": {},
   "source": [
    "<img src = 'https://resources.maneuveringthemiddle.com/wp-content/uploads/2020/07/04212706/1-5.png' width = 500>  \n",
    "\n"
   ]
  },
  {
   "cell_type": "markdown",
   "id": "34319cce-a71b-4f64-aab8-b53e521efa40",
   "metadata": {},
   "source": [
    "# Metodología de Aprendizaje Basado en Problemas y Proyectos (ABPP) \n"
   ]
  },
  {
   "cell_type": "markdown",
   "id": "c4f73d81",
   "metadata": {},
   "source": [
    "\n",
    "<img src = 'https://www.unir.net/wp-content/uploads/2020/07/aprendizaje-problemas2-1-1-1-1.jpeg' width = 500>"
   ]
  },
  {
   "cell_type": "markdown",
   "id": "841a985c-bd9b-4dd3-8e4c-893983980af2",
   "metadata": {},
   "source": [
    "# Desarrollo del pensamiento computacional con Lenguajes Python y R, y con archivos Markdown orientado a la formación en ciencia de datos \n",
    "\n"
   ]
  },
  {
   "cell_type": "markdown",
   "id": "3d0eba94",
   "metadata": {},
   "source": [
    "\n",
    "<img src = 'https://i.ytimg.com/vi/mcG_wcR4e6M/maxresdefault.jpg' width = 200>"
   ]
  },
  {
   "cell_type": "markdown",
   "id": "65aa0404-f7ae-495e-864c-1aec01b4255e",
   "metadata": {},
   "source": [
    "# Principio de fomento a la ciencia abierta, enseñar en el acceso a los datos públicos y el uso de software de código abierto  \n"
   ]
  },
  {
   "cell_type": "markdown",
   "id": "18ae9b87",
   "metadata": {},
   "source": [
    "\n",
    "<img src = 'https://unesdoc.unesco.org/in/rest/Thumb/image?id=p%3A%3Ausmarcdef_0000379949_spa&author=UNESCO&title=Recomendaci%C3%B3n+de+la+UNESCO+sobre+la+Ciencia+Abierta&year=2021&publisher=UNESCO&TypeOfDocument=UnescoPhysicalDocument&mat=PGD&ct=true&size=512&isPhysical=1' width = 200>"
   ]
  },
  {
   "cell_type": "markdown",
   "id": "d9559f85",
   "metadata": {},
   "source": [
    "El enfoque STEAMS en educación preescolar, primaria y secundaria es una extensión del enfoque STEM (Ciencia, Tecnología, Ingeniería y Matemáticas) y su variante STEAM, que incorpora el Arte. "
   ]
  },
  {
   "cell_type": "markdown",
   "id": "9d556584",
   "metadata": {},
   "source": [
    "En educación preescolar, primaria, secundaria y superior, se adapta a las diferentes etapas de desarrollo cognitivo y emocional de los estudiantes, promoviendo el aprendizaje activo y contextualizado.  \n"
   ]
  },
  {
   "cell_type": "markdown",
   "id": "0130ec1b",
   "metadata": {},
   "source": [
    "\n",
    "<img src = 'https://www.campuseducacion.com/blog/wp-content/uploads/2023/03/foto01-1.jpg' width = 200>"
   ]
  },
  {
   "cell_type": "markdown",
   "id": "9d15c10d-2c02-4158-9419-b1ed79b4c1ee",
   "metadata": {},
   "source": [
    "# Qué estamos haciendo por la internalización en esta clase y este curso  \n"
   ]
  },
  {
   "cell_type": "markdown",
   "id": "6e4feef2",
   "metadata": {},
   "source": [
    "Estas son mis acciones como docente de matemáticas en la Universidad de Antioquia con miras a la **internacionalización** de mi práctica docente y el desarrollo de competencias internacionales para mis estudiantes, ls cuales he estructurado con el siguiente enfoque:\n"
   ]
  },
  {
   "cell_type": "markdown",
   "id": "964d9de7-53ee-4255-9bcd-d8e6454f2993",
   "metadata": {},
   "source": [
    "### 1. **Visión Global en la Formación Académica**\n"
   ]
  },
  {
   "cell_type": "markdown",
   "id": "d9bdd3e2",
   "metadata": {},
   "source": [
    "   - **Competencias Internacionales**: Asegúrate de que el contenido de tus cursos fomente habilidades que sean reconocidas globalmente. "
   ]
  },
  {
   "cell_type": "markdown",
   "id": "47dad129",
   "metadata": {},
   "source": [
    "Al educar a los estudiantes en **Python, LaTeX, Markdown y Jupyter Notebooks** y en la **introducción a la ciencia de datos y técnicas de Machine Learning**, estás proporcionando competencias altamente demandadas en los sectores tecnológicos y académicos a nivel internacional.\n"
   ]
  },
  {
   "cell_type": "markdown",
   "id": "39b55206",
   "metadata": {},
   "source": [
    "   - **Relevancia de los Contenidos**: Destaca cómo los temas que enseñas, como el **desarrollo del pensamiento computacional** y la **ciencia de datos**, están alineados con las necesidades globales actuales en diversas industrias, desde la tecnología hasta las ciencias naturales y sociales.\n"
   ]
  },
  {
   "cell_type": "markdown",
   "id": "a054599e",
   "metadata": {},
   "source": [
    "   - **Referencias a Estándares Internacionales**: Puedes vincular tu enseñanza a estándares internacionales de competencias en programación y ciencia de datos (por ejemplo, frameworks del **IEEE, ACM**, y estándares de la **data science** o la **computación en la nube**)."
   ]
  },
  {
   "cell_type": "markdown",
   "id": "0f1d110c-3142-48fe-9e7d-5fbd9e8bb931",
   "metadata": {},
   "source": [
    "### 2. **Innovación Pedagógica con Enfoque Internacional**\n"
   ]
  },
  {
   "cell_type": "markdown",
   "id": "fae6ae34",
   "metadata": {},
   "source": [
    "   - **Aula Invertida y ABP**: Presenta cómo tu enfoque de **aula invertida** y **aprendizaje basado en problemas (ABP)** permite a los estudiantes trabajar de manera autónoma y colaborativa, lo que los prepara para escenarios laborales internacionales que requieren autoaprendizaje y habilidades de resolución de problemas en equipo.\n"
   ]
  },
  {
   "cell_type": "markdown",
   "id": "c83062d9",
   "metadata": {},
   "source": [
    "   - **Uso de Jupyter Notebooks**: El uso de **Jupyter Notebooks** en tus clases no solo facilita la **integración de código, matemáticas y texto**, sino que también es una plataforma utilizada globalmente en ambientes académicos y profesionales, lo que hace a tus estudiantes más competitivos internacionalmente."
   ]
  },
  {
   "cell_type": "markdown",
   "id": "960d52b7-03cd-4eb3-965e-5cdfeb7d9f8e",
   "metadata": {},
   "source": [
    "### 3. **Tecnología y Herramientas de Uso Global**\n"
   ]
  },
  {
   "cell_type": "markdown",
   "id": "4be7269f",
   "metadata": {},
   "source": [
    "   - **Lenguaje Python**: Python es uno de los lenguajes de programación más usados a nivel mundial, tanto en la academia como en la industria. "
   ]
  },
  {
   "cell_type": "markdown",
   "id": "a3abaac8",
   "metadata": {},
   "source": [
    "Al formar a tus estudiantes en Python para ciencia de datos y machine learning, los preparas para operar en entornos tecnológicos globales.\n"
   ]
  },
  {
   "cell_type": "markdown",
   "id": "102655af",
   "metadata": {},
   "source": [
    "   - **Herramientas de Ciencia Abierta**: Resalta cómo herramientas como **GitHub**, **Google Colab** y otras plataformas de código abierto están alineadas con el movimiento de **ciencia abierta**, el cual es internacionalmente reconocido y permite que los estudiantes colaboren y compartan proyectos a nivel global."
   ]
  },
  {
   "cell_type": "markdown",
   "id": "3b2ffa32-7a6f-4545-ba7b-c6a69f51109f",
   "metadata": {},
   "source": [
    "### 4. **Investigación y Publicaciones Internacionales**\n"
   ]
  },
  {
   "cell_type": "markdown",
   "id": "bdbf52a5",
   "metadata": {},
   "source": [
    "   - **Promoción de la Investigación**: Detalla cómo promueves que tus estudiantes participen en proyectos de **investigación aplicada**, con posibilidad de publicación en revistas internacionales. "
   ]
  },
  {
   "cell_type": "markdown",
   "id": "df13a52f",
   "metadata": {},
   "source": [
    "Esto contribuye a la reputación internacional de la Universidad de Antioquia.\n"
   ]
  },
  {
   "cell_type": "markdown",
   "id": "ea01fcbc",
   "metadata": {},
   "source": [
    "   - **Colaboraciones Internacionales**: Si has colaborado con investigadores de otras instituciones o universidades en el extranjero, menciona estos proyectos y cómo han enriquecido tu enseñanza y proporcionado a los estudiantes una visión más globalizada."
   ]
  },
  {
   "cell_type": "markdown",
   "id": "5d1e396e-aece-4bf7-9421-32fa7809eaf4",
   "metadata": {},
   "source": [
    "## 5. **Uso del Inglés para la Internacionalización**\n"
   ]
  },
  {
   "cell_type": "markdown",
   "id": "29cabf26",
   "metadata": {},
   "source": [
    "   - **Comunicación Científica en Inglés**: "
   ]
  },
  {
   "cell_type": "markdown",
   "id": "8ec53ff3",
   "metadata": {},
   "source": [
    "Fomentar el aprendizaje del inglés como lengua científica es clave para que tus estudiantes puedan acceder a publicaciones internacionales, conferencias, y material académico que no está disponible en español. "
   ]
  },
  {
   "cell_type": "markdown",
   "id": "12b4cdcf",
   "metadata": {},
   "source": [
    "Esto es esencial para que adquieran competencias que les permitan desempeñarse en cualquier contexto internacional.\n"
   ]
  },
  {
   "cell_type": "markdown",
   "id": "b831224f",
   "metadata": {},
   "source": [
    "   - **Material Bilingüe**: Al generar material educativo en Python, LaTeX y Markdown, considera ofrecer algunos de estos recursos en inglés, para que los estudiantes se familiaricen con el vocabulario técnico y científico internacional."
   ]
  },
  {
   "cell_type": "markdown",
   "id": "c6a8c3b0-426a-4692-a384-3065aea81c9a",
   "metadata": {},
   "source": [
    "### 6. **Certificaciones y Estándares Internacionales**\n"
   ]
  },
  {
   "cell_type": "markdown",
   "id": "b1f41da5",
   "metadata": {},
   "source": [
    "   - **Participación en Certificaciones Internacionales**: Impulsa que los estudiantes busquen certificaciones internacionales en Python o ciencia de datos (como las ofrecidas por **Coursera, edX,** o **Google**). "
   ]
  },
  {
   "cell_type": "markdown",
   "id": "0279b6b6",
   "metadata": {},
   "source": [
    "Estas certificaciones no solo validan sus competencias, sino que también incrementan el reconocimiento de la Universidad de Antioquia en el contexto internacional.\n"
   ]
  },
  {
   "cell_type": "markdown",
   "id": "7cc66317",
   "metadata": {},
   "source": [
    "   - **Alineación con Acreditaciones Internacionales**: Vincula tu trabajo docente con los estándares de acreditación y certificación que garantizan que la universidad siga siendo reconocida internacionalmente. "
   ]
  },
  {
   "cell_type": "markdown",
   "id": "116629e7",
   "metadata": {},
   "source": [
    "Puedes vincularte con organizaciones internacionales que promuevan la excelencia en la educación y tecnología, como **ABET** para la acreditación en ingeniería y ciencias computacionales."
   ]
  },
  {
   "cell_type": "markdown",
   "id": "65d3d9e1-ea84-43e0-8197-a2a9c9e21594",
   "metadata": {},
   "source": [
    "### 7. **Proyectos Abiertos y Ciencia Reproducible**\n"
   ]
  },
  {
   "cell_type": "markdown",
   "id": "f03f7b20",
   "metadata": {},
   "source": [
    "   - **GitHub y Open Science**: La utilización de **GitHub** para almacenar los proyectos y materiales de enseñanza en repositorios públicos permite que otros investigadores y educadores internacionales puedan revisar y replicar tu trabajo. "
   ]
  },
  {
   "cell_type": "markdown",
   "id": "b0d16f59",
   "metadata": {},
   "source": [
    "Esto contribuye a la creación de una red de colaboración científica abierta.\n"
   ]
  },
  {
   "cell_type": "markdown",
   "id": "7dd85589",
   "metadata": {},
   "source": [
    "   - **Transparencia y Reproducibilidad**: La ciencia de datos y machine learning están profundamente ligados a la reproducibilidad. "
   ]
  },
  {
   "cell_type": "markdown",
   "id": "386bb5bf",
   "metadata": {},
   "source": [
    "Asegura que tus estudiantes desarrollen prácticas de transparencia y documentación en la investigación, que son pilares en la comunidad científica global.\n"
   ]
  },
  {
   "cell_type": "markdown",
   "id": "215cb551",
   "metadata": {},
   "source": [
    "\n",
    "### 8. **Participación en Redes y Conferencias Internacionales**\n"
   ]
  },
  {
   "cell_type": "markdown",
   "id": "685d90a6",
   "metadata": {},
   "source": [
    "   - **Presentación en Conferencias Internacionales**: Destaca cómo tu participación en conferencias internacionales (como la **ASCOLFA** o eventos sobre educación en matemáticas) contribuye al prestigio de la universidad y permite que tus prácticas sean evaluadas y reconocidas a nivel global.\n"
   ]
  },
  {
   "cell_type": "markdown",
   "id": "cdf46e29",
   "metadata": {},
   "source": [
    "   - **Promoción de Estudiantes en Eventos Internacionales**: Impulsa la participación de tus estudiantes en competiciones internacionales de programación o hackathons, como los organizados por **Google**, **ACM** o **Kaggle**. "
   ]
  },
  {
   "cell_type": "markdown",
   "id": "482a7f87",
   "metadata": {},
   "source": [
    "Esto no solo desarrolla sus habilidades, sino que también visibiliza el talento de la Universidad de Antioquia a nivel global.\n",
    "\n",
    "---"
   ]
  },
  {
   "cell_type": "markdown",
   "id": "233294a4-1983-4641-a7ad-866825e02315",
   "metadata": {},
   "source": [
    "Con esta estrategia, presento mis acciones docentes en términos de competencias internacionales, innovación pedagógica, tecnología, investigación y participación en redes globales, asegurando que mi práctica esté alineada con los estándares internacionales y que tus estudiantes estén preparados para competir en contextos internacionales."
   ]
  },
  {
   "cell_type": "code",
   "execution_count": 2,
   "id": "0c673e3c",
   "metadata": {},
   "outputs": [],
   "source": [
    "# Gestión del guardado de imagenes  \n",
    "\n",
    "def save_fig(nombre_archivo_imagen):\n",
    "    import os \n",
    "    import matplotlib.pyplot as plt\n",
    "    ubicacion_para_imagenes = r\"C:/Users/marco/Downloads\"\n",
    "    imagen_path = os.path.join(ubicacion_para_imagenes, nombre_archivo_imagen)\n",
    "    plt.savefig(imagen_path, bbox_inches='tight')"
   ]
  },
  {
   "cell_type": "markdown",
   "id": "10e55ccf",
   "metadata": {},
   "source": [
    "# Prompt de diseño de clase: \n",
    "\n",
    "Dame, por favor, un diseño de clase, con la conjugación de los enfoques: STEAMS  y de aprendizaje basado en problemas y proyectos(ABPP) y Teoría de Registros de Representación Semiótica (TRRS) de Duval; sobre: **\"**S3 — Lun 25/08/2025 (4 h)**\n",
    "**Tema:** Tautologías, contradicciones y contingencias; equivalencias lógicas.\n",
    "**Lecturas:** Cáceres, equivalencias; leyes básicas. **Actividades:** Detección de tautologías con generador de tablas; pruebas por equivalencia. Teniendo en cuenta el libro 'Matemáticas discretas: una perspectiva funcional con Python 3.x' que encuentras en: https://ri.ujat.mx/handle/200.500.12107/3942 \"**, siguiendo la estructura:   \n",
    "\n",
    "1. Título de la clase   \n",
    "   \n",
    "2. Objetivo de aprendizaje e indicadores de logro de estos objetivos.   \n",
    "   Diseña la clase incluyendo objetivos de educación matemática basada en el pensamiento crítico.   \n",
    "\n",
    "3.  Un mapa conceptual que resuma la clase elaborado en Graphviz de python con nodos y edges de diferentes formas, colores y rellenos y renderizado en la siguiente ubicación: `\"C:/Users/marco/Downloads\"`. No olvides el parámetro `view = True` para el método `render()` de Graphviz. Para este mapa controla las superposiciones de los nodos con: graph [overlap=false]; // Elimina superposiciones (puede aumentar el espacio)\n",
    "graph [overlap=\"scalexy\"]; // Escala el gráfico para evitar overlaps\n",
    "graph [overlap=\"compress\"]; // Comprime el grafo sin overlaps   \n",
    "   \n",
    "4. Contenido de la clase    \n",
    "   \n",
    "5. Incluye una canción o un poema que ayude a interiorizar y fijar los conceptos asociados a esta clase.  \n",
    "   \n",
    "6. Dame elementos históricos y epistemológicos asociados a esta clase, pero contados como un cuento al estilo de un cuentero antioqueño en Colombia. Incluye imágenes de los protagonistas históricos de esta clase.   \n",
    "   \n",
    "7. Actividades de aprendizaje    \n",
    "     * Incluya actividades de aprendizaje utilizando Calculadora **Casio 991 LA cw**\n",
    "     * Incluya también actividades de aprendizaje y modelación de situaciones o problemas reales a través de circuitos lógicos y circuitos digitales o electrónicos utilizando la aplicación portable cocodrilo. [Descarge esta aplicación portable aquí](https://crocodileclips.net/descargar-crocodile-clips/) \n",
    "     * Incluye actividades de aprendizaje utilizando lenguaje Python y Jupyter Notebook.   \n",
    "\n",
    "8. Incluye una canción o un poema que ayude a interiorizar y fijar los conceptos asociados a esta clase.  \n",
    "\n",
    "9.  Tarea o actividades de ejercitación y fijación.  \n",
    "     * Diseña 20 item de tareas de tal manera que en cada ejercicio se realicen las siguientes cuatro preguntas:  \n",
    "        - ¿Por qué esta expresión representa el problema?\n",
    "        - ¿Qué pasaría si cambiamos este valor?\n",
    "        - ¿Hay otra manera de resolverlo?\n",
    "        - ¿Cómo justificas que tu resultado es razonable? \n",
    "    \n",
    "10.  Evaluación incluyendo diez proyectos, un ejemplo de quiz y un ejemplo de parcial.  \n",
    "     * Diseña el quiz con preguntas, donde se pida al estudiante el mostrar la aplicación de las expresiones lógicas en contextos: \n",
    "       - Deportivos\n",
    "       - Cotidianos\n",
    "       - Matemáticas en teoría de números \n",
    "       - Matemáticas en geometría euclidiana\n",
    "       - Matemática en Cálculo Diferencial.\n",
    "       - Económicos. \n",
    "     * Actividad de desarrollo de habilidades metacognitivas para hacernos consientes de nuestro propio proceso de aprendizaje y de la importancia de la evaluación continua.\n",
    "\n",
    "11.  Diseño de actividad de retroalimentación.  \n",
    "      \n",
    "12.  Dame un vocabulario y frases del idioma inglés asociadas a esta clase.   \n",
    "    \n",
    "13.  Incluye apéndice para la clase sobre desarrollo de habilidades para trabajar en equipo y de asertividad y empatía para relacionarnos. También elementos de la inteligencia emocional para presentar pruebas sin temor y desarrollar habilidades metacognitivas.   \n",
    "      \n",
    "14. Incluye 10 referentes en didáctica de la matemática que estén de acuerdo a la propuesta didáctica de esta clase. Adiciona a estos referentes a Raymond Duval (Representaciones y cambios de representación para la adquisición de conceptos matemáticos) y a Jeannette Wing (Desarrollo del pensamiento computacional). Déjame todos estos referentes ordenados de acuerdo a las normas APA. Déjame todos estos referentes ordenados de acuerdo a las normas APA. Incluye las citaciones a estos referentes a medida que vallas diseñando la clase. \n",
    "\n",
    "\n",
    "Pero  que este diseño sea para que el estudiante pueda aprender experimentando en cuadernos Jupyter con funciones de usuario y animaciones y visualizaciones en Python. En particular utiliza para el diseño de clase a NumPy, Pandas, SymPy, Matplotlib.pyplot, Seaborn, Plotly, ipywidgets, matplotlib.animation y Jupyter Notebook.  \n",
    "Cuando vallas a utilizar SymPy, ten en cuanta la siguiente configuración: \n",
    "# Corrección y mejora del código\n",
    "from sympy import symbols, Equivalent\n",
    "from sympy.logic.boolalg import truth_table\n",
    "\n",
    "Cada vez que utilices `matplotlib.animacion` no olvides incluir el uso de `IPython. display` para la renderización de estas animaciones a través de Jupyter Notebook. No olvides darme los diseños de clase con las ecuaciones matemáticas delimitadas con signo de dólar $ para que VS Code si me renderice estas expresiones del lenguaje latex. Cuando vallas a utilizar ipywidgets ten en cuenta la siguiente importación inicial para garantizar que la visualización interactiva si se renderice en VS Code:                                                      \n",
    "import numpy as np\n",
    "import matplotlib.pyplot as plt\n",
    "import ipywidgets as widgets\n",
    "from IPython.display import display, clear_output\n",
    "from matplotlib.patches import Rectangle\n",
    "\n",
    "Ubicación del diseño IAE para el curso de Fundamentos de Lógica: https://github.com/marco-canas/fundamentos_logica/blob/main/2_diseno_investigacion_educativa/1_diseno_investigacion_educativa.md\n",
    "\n",
    "Ubicación del programa del curso: https://github.com/marco-canas/fundamentos_logica/blob/main/3_programa_curso/1_programa_logica.md\n",
    "\n",
    "Ubicación del cronograma del curso: https://github.com/marco-canas/fundamentos_logica/blob/main/3_programa_curso/3_programacion_clase_a_clase.md\n",
    "\n",
    "Ubicación de la lista de estudiantes del curso: https://github.com/marco-canas/groups_list/blob/main/logica.xlsx"
   ]
  },
  {
   "cell_type": "markdown",
   "id": "f916feb9",
   "metadata": {},
   "source": [
    "Excelente solicitud, Marco. Te armo un **diseño de clase integral, de 4 horas**, para **S3 – Lunes 25/08/2025**, que articula STEAMS, ABPP y TRRS (Duval), con herramientas digitales (Python + Jupyter + bibliotecas de visualización/animación), e incluyendo todos los apartados que me pediste.\n",
    "\n",
    "---\n"
   ]
  },
  {
   "cell_type": "markdown",
   "id": "b2fbca64",
   "metadata": {},
   "source": [
    "\n",
    "# Diseño de Clase\n",
    "\n",
    "**Curso:** Fundamentos de la Lógica (UdeA – Campus Caucasia)\n",
    "**Sesión S3 – Lunes 25/08/2025**\n",
    "**Tema:** Tautologías, contradicciones y contingencias; equivalencias lógicas.\n",
    "**Duración:** 4 horas\n",
    "\n",
    "---\n"
   ]
  },
  {
   "cell_type": "markdown",
   "id": "00530654",
   "metadata": {},
   "source": [
    "\n",
    "## 1. Título de la clase\n",
    "\n",
    "**“Leyes de la verdad: descubriendo tautologías, contradicciones y equivalencias a través de múltiples registros y proyectos”**\n",
    "\n",
    "---\n"
   ]
  },
  {
   "cell_type": "markdown",
   "id": "33b7890b",
   "metadata": {},
   "source": [
    "\n",
    "## 2. Objetivo de aprendizaje e indicadores\n"
   ]
  },
  {
   "cell_type": "markdown",
   "id": "d8c0a956",
   "metadata": {},
   "source": [
    "\n",
    "### Objetivo general:\n"
   ]
  },
  {
   "cell_type": "markdown",
   "id": "907e7f9d",
   "metadata": {},
   "source": [
    "\n",
    "Que el estudiante **analice y construya expresiones lógicas**, distinguiendo entre tautologías, contradicciones y contingencias, **usando distintos registros semióticos (Duval, 1993)**, experimentación computacional y aplicaciones reales.\n"
   ]
  },
  {
   "cell_type": "markdown",
   "id": "b4f775cd",
   "metadata": {},
   "source": [
    "\n",
    "### Objetivos específicos:\n"
   ]
  },
  {
   "cell_type": "markdown",
   "id": "360b9d2c",
   "metadata": {},
   "source": [
    "\n",
    "1. Identificar tautologías, contradicciones y contingencias mediante tablas de verdad y argumentos cotidianos.\n"
   ]
  },
  {
   "cell_type": "markdown",
   "id": "e4d667d1",
   "metadata": {},
   "source": [
    "2. Usar Python y Jupyter para generar y visualizar automáticamente tablas de verdad.\n"
   ]
  },
  {
   "cell_type": "markdown",
   "id": "eb4852e8",
   "metadata": {},
   "source": [
    "3. Relacionar las expresiones lógicas con aplicaciones en circuitos digitales, deportes, economía y matemáticas.\n"
   ]
  },
  {
   "cell_type": "markdown",
   "id": "9e0f06f7",
   "metadata": {},
   "source": [
    "4. Desarrollar pensamiento crítico al cuestionar la validez de proposiciones en distintos contextos.\n"
   ]
  },
  {
   "cell_type": "markdown",
   "id": "9fd3159b",
   "metadata": {},
   "source": [
    "5. Trabajar colaborativamente en resolución de problemas aplicando ABPP y el enfoque STEAMS.\n"
   ]
  },
  {
   "cell_type": "markdown",
   "id": "bfe2e3a1",
   "metadata": {},
   "source": [
    "\n",
    "### Indicadores de logro:\n",
    "\n",
    "* El estudiante explica con claridad si una proposición es tautología, contradicción o contingencia.\n",
    "* Elabora y ejecuta un programa en Python para generar tablas de verdad.\n"
   ]
  },
  {
   "cell_type": "markdown",
   "id": "c680510f",
   "metadata": {},
   "source": [
    "* Traduce expresiones lógicas a representaciones en circuitos digitales.\n"
   ]
  },
  {
   "cell_type": "markdown",
   "id": "f3f11ead",
   "metadata": {},
   "source": [
    "* Justifica la validez de equivalencias mediante leyes lógicas.\n",
    "* Trabaja en equipo con empatía y asertividad, participando activamente en la construcción colectiva de soluciones.\n",
    "\n",
    "---\n"
   ]
  },
  {
   "cell_type": "markdown",
   "id": "385f432d",
   "metadata": {},
   "source": [
    "\n",
    "## 3. Mapa conceptual (Graphviz)\n",
    "\n",
    "Código en Python para el mapa conceptual:\n"
   ]
  },
  {
   "cell_type": "markdown",
   "id": "a240587e",
   "metadata": {},
   "source": [
    "\n",
    "```python\n"
   ]
  },
  {
   "cell_type": "code",
   "execution_count": null,
   "id": "cdd4a2c1",
   "metadata": {},
   "outputs": [
    {
     "data": {
      "text/plain": [
       "'C:\\\\Users\\\\marco\\\\Downloads\\\\mapa_S3.pdf'"
      ]
     },
     "execution_count": 7,
     "metadata": {},
     "output_type": "execute_result"
    }
   ],
   "source": [
    "from graphviz import Digraph\n",
    "\n",
    "dot = Digraph(comment=\"Clase S3: Tautologías, Contradicciones y Contingencias\")\n",
    "\n",
    "dot.attr(overlap=\"false\")\n",
    "dot.attr(overlap=\"scalexy\")\n",
    "dot.attr(overlap=\"compress\")\n",
    "\n",
    "dot.node(\"A\", \"Proposiciones\", shape=\"ellipse\", style=\"filled\", color=\"lightblue\")\n",
    "dot.node(\"B\", \"Tautologías\", shape=\"box\", style=\"filled\", color=\"lightgreen\")\n",
    "dot.node(\"C\", \"Contradicciones\", shape=\"box\", style=\"filled\", color=\"lightcoral\")\n",
    "dot.node(\"D\", \"Contingencias\", shape=\"box\", style=\"filled\", color=\"lightyellow\")\n",
    "dot.node(\"E\", \"Tablas de verdad\", shape=\"parallelogram\", style=\"filled\", color=\"lightgray\")\n",
    "dot.node(\"F\", \"Equivalencias lógicas\", shape=\"diamond\", style=\"filled\", color=\"lightpink\")\n",
    "dot.node(\"G\", \"Aplicaciones\\n(circuitos, Python, vida diaria)\", shape=\"ellipse\", style=\"filled\", color=\"orange\")\n",
    "\n",
    "dot.edges([\"AE\", \"EB\", \"EC\", \"ED\", \"EF\", \"FG\"])\n",
    "\n",
    "dot.render(\"C:/Users/marco/Downloads/mapa_S3\", view=True)\n",
    "\n"
   ]
  },
  {
   "cell_type": "markdown",
   "id": "b00b445c",
   "metadata": {},
   "source": [
    "\n",
    "## 4. Contenido de la clase\n"
   ]
  },
  {
   "cell_type": "markdown",
   "id": "66231696",
   "metadata": {},
   "source": [
    "\n",
    "1. **Recordatorio (20 min):** proposiciones y tablas de verdad.\n"
   ]
  },
  {
   "cell_type": "markdown",
   "id": "4146b0c2",
   "metadata": {},
   "source": [
    "2. **Nuevos conceptos (1h 20 min):**\n",
    "\n",
    "   * Definición de tautología, contradicción y contingencia.\n",
    "   * Equivalencias lógicas básicas (leyes de De Morgan, doble negación).\n",
    "   * Registros semióticos: tablas ↔ fórmulas ↔ diagramas ↔ circuitos.\n"
   ]
  },
  {
   "cell_type": "markdown",
   "id": "b990ac1f",
   "metadata": {},
   "source": [
    "3. **Exploración en Python (1 h):**\n",
    "\n",
    "   * Generación automática de tablas de verdad con `sympy`.\n",
    "   * Visualización de resultados con `pandas` y `seaborn`.\n",
    "   * Animación de cambios en expresiones con `matplotlib.animation`.\n"
   ]
  },
  {
   "cell_type": "markdown",
   "id": "8b2bb1dd",
   "metadata": {},
   "source": [
    "4. **Proyecto ABPP (1h 20 min):**\n",
    "\n",
    "   * Construir y validar un circuito en *Crocodile Clips* que represente una tautología y una contradicción.\n",
    "   * Aplicación en deportes (reglas de clasificación), economía (decisiones de inversión), matemáticas (divisibilidad).\n",
    "\n",
    "---\n"
   ]
  },
  {
   "cell_type": "markdown",
   "id": "cd54926d",
   "metadata": {},
   "source": [
    "\n",
    "## 5. Canción/poema para fijar conceptos\n"
   ]
  },
  {
   "cell_type": "markdown",
   "id": "34bd1ed7",
   "metadata": {},
   "source": [
    "\n",
    "**Poema en cuartetos:**\n",
    "\n",
    "> Si siempre es verdad, se llama tautología,\n",
    "> si nunca lo es, contradicción la nombrarás,\n",
    "> si a veces sí y otras no, contingencia es su historia,\n",
    "> con tablas de verdad la certeza hallarás.\n",
    "\n",
    "---\n"
   ]
  },
  {
   "cell_type": "markdown",
   "id": "888c8a6f",
   "metadata": {},
   "source": [
    "\n",
    "## 6. Elementos históricos y epistemológicos (cuento estilo cuentero antioqueño)\n"
   ]
  },
  {
   "cell_type": "markdown",
   "id": "cf9a43fb",
   "metadata": {},
   "source": [
    "\n",
    "Había una vez, en tierras lejanas, un filósofo griego llamado **Aristóteles**, que se preguntaba cómo distinguir lo verdadero de lo falso.   \n",
    "\n",
    "Pasaron siglos, y un señor barbudo llamado **George Boole** inventó una manera de “hacer cuentas con verdades y mentiras”. Cuentan que Boole trabajaba tanto que hasta soñaba en tablas de verdad.   \n",
    "\n",
    "Luego, un alemán inquieto, **Gottlob Frege**, le dio un aire más formal, y más tarde **Bertrand Russell** y **Alfred North Whitehead** se enredaron con libros enormes como vacas gordas.   \n",
    "\n",
    "Y en los años 40, **Claude Shannon** descubrió que esas mismas verdades y mentiras eran las que hacían prender o apagar los bombillos de los circuitos eléctricos.\n",
    "Así, de Aristóteles a Shannon, la lógica fue bajando la montaña como río que llega al río Cauca, hasta llegar hoy a ustedes.\n",
    "\n",
    "\n",
    "<img src = 'aristoteles_1.png'>\n",
    "\n",
    "*(Aquí se incluirían imágenes de Aristóteles, Boole, Frege, Russell y Shannon.)*\n",
    "\n",
    "---\n"
   ]
  },
  {
   "cell_type": "markdown",
   "id": "f123270d",
   "metadata": {},
   "source": [
    "\n",
    "## 7. Actividades de aprendizaje\n"
   ]
  },
  {
   "cell_type": "markdown",
   "id": "d62aca50",
   "metadata": {},
   "source": [
    "\n",
    "1. **Con calculadora Casio 991 LA cw:** evaluar expresiones lógicas usando modos de conversión en binario y operaciones lógicas.  \n"
   ]
  },
  {
   "cell_type": "markdown",
   "id": "ff691f3a",
   "metadata": {},
   "source": [
    "Sí, la **Casio fx-991LA cw (ClassWiz)** sí permite operar con expresiones lógicas, pero **solo a nivel bit a bit sobre números en base-n (binario, octal, hexadecimal)**. Esto significa que no evalúa lógica proposicional (como `p AND q` con valores verdaderos/falsos), pero sí permite:\n"
   ]
  },
  {
   "cell_type": "markdown",
   "id": "4e5f22f9",
   "metadata": {},
   "source": [
    "\n",
    "* Ingresar números en modo **BASE-n (por ejemplo en modo binario)**.\n",
    "* Utilizar operadores lógicos **bit a bit** como AND, OR, XOR, XNOR, Not, Neg (complemento a dos), directamente desde el menú `LOGIC` ([CASIO Official Website][1]).\n",
    "\n",
    "### Lo que puedes hacer:\n",
    "\n",
    "1. Cambiar al **modo BASE-n**, seleccionando BIN (binario).\n",
    "2. Ingresar números binarios y usar los operadores lógicos para obtener resultados también en binario:\n",
    "\n",
    "   Por ejemplo:\n",
    "\n",
    "   * `1010₂ LOGIC AND 1100₂` → `1000₂`\n",
    "   * `1010₂ LOGIC XOR 1100₂` → `110₂`\n",
    "   * `Not(1010₂)` → `…11110101₂` dependiendo de la longitud del registro ([CASIO Official Website][1]).\n",
    "\n",
    "### ¿Y las expresiones lógicas proposicionales?\n",
    "\n",
    "No podrás ingresar directamente `p ∧ q`, `p ∨ ¬p` ni evaluar proposiciones abstractas. La calculadora **no permite lógica simbólica**, sino **operaciones sobre bits reales**.\n",
    "\n",
    "---\n"
   ]
  },
  {
   "cell_type": "markdown",
   "id": "dc3fa73e",
   "metadata": {},
   "source": [
    "\n",
    "### ¿Cómo integrar esto en tus clases?\n",
    "\n",
    "Podrías usarlo de la siguiente manera:\n",
    "\n",
    "* **Ejemplo práctico**: Representa las verdades `1 = verdadero`, `0 = falso`.\n",
    "\n",
    "* En modo BIN:\n",
    "\n",
    "  * `1 AND 1` → 1 (verdadero ∧ verdadero = verdadero)\n",
    "  * `1 AND 0` → 0 (verdadero ∧ falso = falso)\n",
    "\n",
    "* Puedes explorar complementos, XOR como “diferencia simétrica”, etc.\n",
    "\n",
    "---\n",
    "\n",
    "### Resumen\n",
    "\n",
    "| Función                        | Disponible en fx-991LA cw          |\n",
    "| ------------------------------ | ---------------------------------- |\n",
    "| Lógica proposicional abstracta | No (no admite símbolos como p, q…) |\n",
    "| Operaciones lógicas bit a bit  | Sí (AND, OR, XOR, XNOR, NOT, NEG)  |\n",
    "\n",
    "---\n",
    "\n",
    "¿Te gustaría un paso a paso para realizar estas operaciones en clase usando la Casio (con menú, teclado y ejemplos), y cómo vincularlo con lógica proposicional (usando analogías con bits)? Te puedo preparar una mini-guía instructiva.\n",
    "\n",
    "[1]: https://support.casio.com/global/en/calc/manual/fx-100MS_570MS_991MS_en/using_calculation_modes/base-n/operations.html?utm_source=chatgpt.com \"Logical and Negation Operations - Support - CASIO\"\n"
   ]
  },
  {
   "cell_type": "markdown",
   "id": "796f72e0",
   "metadata": {},
   "source": [
    "   \n",
    "# 2. **Con Cocodrile Clips:** diseñar un circuito que modele la proposición $(p \\lor \\neg p)$ y otro que modele $(p \\land \\neg p)$.\n"
   ]
  },
  {
   "cell_type": "markdown",
   "id": "cf713c58",
   "metadata": {},
   "source": [
    "Perfecto 🚀. Te detallo cómo puedes guiar a tus estudiantes a realizar esa actividad de aprendizaje con **Crocodile Clips** (el simulador de circuitos electrónicos que permite trabajar con compuertas lógicas):\n",
    "\n",
    "---\n",
    "\n",
    "### 🎯 Actividad de Aprendizaje\n",
    "\n",
    "**Diseñar un circuito en Crocodile Clips que modele las proposiciones:**\n",
    "\n",
    "1. \\$(p \\lor \\neg p)\\$\n",
    "2. \\$(p \\land \\neg p)\\$\n",
    "\n",
    "---\n",
    "\n",
    "### 🔹 Paso a paso\n",
    "\n",
    "#### **1. Abrir Crocodile Clips y elegir lógica digital**\n",
    "\n",
    "* Inicia el programa y selecciona el **entorno de circuitos digitales**.\n",
    "* En la barra de componentes, busca la sección de **compuertas lógicas** (NOT, AND, OR).\n",
    "\n",
    "---\n",
    "\n",
    "#### **2. Definir la variable \\$p\\$**\n",
    "\n",
    "* Inserta un **interruptor** o un **generador de pulso digital (0/1)**.\n",
    "* Ese será tu valor de entrada **\\$p\\$**, que puede ser **0 (falso)** o **1 (verdadero)**.\n",
    "\n",
    "---\n",
    "\n",
    "#### **3. Circuito para \\$(p \\lor \\neg p)\\$ (Tautología)**\n",
    "\n",
    "* Conecta el interruptor \\$p\\$ a una compuerta **NOT**, generando \\$\\neg p\\$.\n",
    "* Conecta \\$p\\$ y \\$\\neg p\\$ a una compuerta **OR**.\n",
    "* A la salida de la OR, pon un **LED o display digital**.\n",
    "\n",
    "👉 Observación: No importa si \\$p = 0\\$ o \\$p = 1\\$, el LED siempre estará encendido (la proposición es **siempre verdadera**).\n",
    "\n",
    "---\n",
    "\n",
    "#### **4. Circuito para \\$(p \\land \\neg p)\\$ (Contradicción)**\n",
    "\n",
    "* Conecta nuevamente \\$p\\$ a una compuerta **NOT**, obteniendo \\$\\neg p\\$.\n",
    "* Conecta \\$p\\$ y \\$\\neg p\\$ a una compuerta **AND**.\n",
    "* A la salida de la AND, conecta un LED.\n",
    "\n",
    "👉 Observación: El LED **nunca se encenderá** (la proposición es **siempre falsa**).\n",
    "\n",
    "---\n",
    "\n",
    "#### **5. Comparación epistemológica en clase**\n",
    "\n",
    "* Explica a tus estudiantes que **\\$(p \\lor \\neg p)\\$** representa la **ley del tercero excluido** (siempre verdadero).\n",
    "* Mientras que **\\$(p \\land \\neg p)\\$** representa la **ley de no contradicción** (siempre falso).\n",
    "* Así, con un circuito eléctrico simulan los **principios fundamentales de la lógica clásica de Aristóteles**.\n",
    "\n",
    "---\n",
    "\n",
    "**Sugerencia didáctica**: Pide a los estudiantes que elaboren **tablas de verdad** en paralelo al diseño del circuito, para verificar que el comportamiento del LED coincide con lo esperado en lógica proposicional.\n",
    "\n",
    "---\n",
    "\n",
    "¿Quieres que te prepare un **esquema gráfico de los dos circuitos** para que lo uses directamente en tu clase?\n"
   ]
  },
  {
   "cell_type": "markdown",
   "id": "61a7fdc1",
   "metadata": {},
   "source": [
    "3. **En Python/Jupyter:**\n"
   ]
  },
  {
   "cell_type": "code",
   "execution_count": null,
   "id": "0a88e056",
   "metadata": {},
   "outputs": [
    {
     "name": "stdout",
     "output_type": "stream",
     "text": [
      "([0, 0], True)\n",
      "([0, 1], False)\n",
      "([1, 0], False)\n",
      "([1, 1], True)\n"
     ]
    }
   ],
   "source": [
    "from sympy import symbols, Equivalent\n",
    "from sympy.logic.boolalg import truth_table\n",
    "\n",
    "p, q = symbols('p q')\n",
    "expr1 = (p >> q) & (q >> p) # p -> q and q -> p\n",
    "expr2 = Equivalent(p,q)\n",
    "\n",
    "for row in truth_table(expr2, [p,q]): # el ciclo for cuando recorre una tabla, la recorre por fila \n",
    "    print(row)\n",
    "\n"
   ]
  },
  {
   "cell_type": "markdown",
   "id": "20ec3865",
   "metadata": {},
   "source": [
    "# Conclusiones  \n",
    "\n",
    "Sympy nos permite dos notaciones para operaciones lógicas: \n",
    "1. Una es la notación aditiva\n",
    "2. la otra, la notación funcional. "
   ]
  },
  {
   "cell_type": "markdown",
   "id": "ccb2a83f",
   "metadata": {},
   "source": [
    "\n",
    "# 4. **Visualización interactiva con ipywidgets:**\n",
    "\n",
    "\n",
    "Tu código actual muestra el valor de `(p XOR q)` con botones, pero no está generalizado para **mostrar si una proposición es tautología, contradicción o contingencia**. Para eso necesitamos:\n",
    "\n",
    "1. Que el usuario pueda escribir una proposición lógica en términos de `p` y `q`.\n",
    "2. Generar la tabla de verdad completa.\n",
    "3. Evaluar si siempre es **verdadero** (tautología), siempre **falso** (contradicción) o depende (contingencia).\n",
    "4. Mostrar el resultado de manera interactiva.\n",
    "\n",
    "Aquí te dejo un código corregido y extendido:\n"
   ]
  },
  {
   "cell_type": "code",
   "execution_count": null,
   "id": "540bde2b",
   "metadata": {},
   "outputs": [
    {
     "data": {
      "application/vnd.jupyter.widget-view+json": {
       "model_id": "f2206c69cc164a98867e9301cede869c",
       "version_major": 2,
       "version_minor": 0
      },
      "text/plain": [
       "Text(value='(p or not p)', description='Expr:', layout=Layout(width='70%'))"
      ]
     },
     "metadata": {},
     "output_type": "display_data"
    },
    {
     "data": {
      "application/vnd.jupyter.widget-view+json": {
       "model_id": "ce1cc5e4e72043eba8b3b2c757bab73f",
       "version_major": 2,
       "version_minor": 0
      },
      "text/plain": [
       "Output()"
      ]
     },
     "metadata": {},
     "output_type": "display_data"
    }
   ],
   "source": [
    "\n",
    "import itertools\n",
    "import ipywidgets as widgets\n",
    "from IPython.display import display, clear_output\n",
    "\n",
    "# Función para evaluar una proposición lógica\n",
    "def evaluar_expresion(expr):\n",
    "    # Variables booleanas\n",
    "    valores = list(itertools.product([False, True], repeat=2))\n",
    "    resultados = []\n",
    "    \n",
    "    for p, q in valores:\n",
    "        # Evalúa la expresión en un entorno controlado\n",
    "        resultado = eval(expr, {\"__builtins__\": None}, {\"p\": p, \"q\": q})\n",
    "        resultados.append(resultado)\n",
    "    \n",
    "    return valores, resultados\n",
    "\n",
    "# Determinar tipo de proposición\n",
    "def tipo_proposicion(resultados):\n",
    "    if all(resultados):\n",
    "        return \"Tautología\"\n",
    "    elif not any(resultados):\n",
    "        return \"Contradicción\"\n",
    "    else:\n",
    "        return \"Contingencia\"\n",
    "\n",
    "# Interfaz con ipywidgets\n",
    "entrada = widgets.Text(\n",
    "    value=\"(p or not p)\",\n",
    "    description=\"Expr:\",\n",
    "    layout=widgets.Layout(width=\"70%\"),\n",
    ")\n",
    "\n",
    "out = widgets.Output()\n",
    "\n",
    "def actualizar(change):\n",
    "    with out:\n",
    "        clear_output()\n",
    "        try:\n",
    "            valores, resultados = evaluar_expresion(entrada.value)\n",
    "            \n",
    "            print(\"Tabla de verdad:\")\n",
    "            for (p, q), r in zip(valores, resultados):\n",
    "                print(f\"p={p}, q={q} → {r}\")\n",
    "            \n",
    "            print(\"\\nClasificación:\", tipo_proposicion(resultados))\n",
    "        except Exception as e:\n",
    "            print(\"Error en la expresión:\", e)\n",
    "\n",
    "entrada.observe(actualizar, \"value\")\n",
    "\n",
    "display(entrada, out)\n",
    "\n"
   ]
  },
  {
   "cell_type": "markdown",
   "id": "a20edbb2",
   "metadata": {},
   "source": [
    "\n",
    "## Cómo usarlo\n"
   ]
  },
  {
   "cell_type": "markdown",
   "id": "2e50bcd5",
   "metadata": {},
   "source": [
    "\n",
    "* En la caja de texto escribe expresiones como:\n",
    "\n",
    "  * `(p or not p)` → **Tautología**\n",
    "  * `(p and not p)` → **Contradicción**\n",
    "  * `(p or q)` → **Contingencia**\n",
    "* La tabla de verdad y el resultado se actualizan automáticamente.\n",
    "\n",
    "---\n",
    "\n",
    "¿Quieres que te lo prepare también con **más de dos variables** (ejemplo: `p, q, r`) para que tus estudiantes lo usen en casos más generales?\n"
   ]
  },
  {
   "cell_type": "markdown",
   "id": "bc87d166",
   "metadata": {},
   "source": [
    "\n",
    "## 8. Canción/poema repetido (otra versión estilo rap corto)\n"
   ]
  },
  {
   "cell_type": "markdown",
   "id": "88aecfe2",
   "metadata": {},
   "source": [
    "\n",
    "> \"Verdad o mentira, la tabla lo dirá,\n",
    "> si siempre es verdad, tautología será,\n",
    "> si nunca es verdad, contradicción está,\n",
    "> y si depende el caso, contingencia será.\"\n",
    "\n",
    "---\n"
   ]
  },
  {
   "cell_type": "markdown",
   "id": "702aa8d0",
   "metadata": {},
   "source": []
  },
  {
   "cell_type": "markdown",
   "id": "f889ffab",
   "metadata": {},
   "source": [
    "\n",
    "## 9. Tarea (20 ítems con 4 preguntas metacognitivas)\n"
   ]
  },
  {
   "cell_type": "markdown",
   "id": "42f9a899",
   "metadata": {},
   "source": [
    "\n",
    "*(Ejemplo de un ítem:)*\n",
    "Expresión: \\$(p \\lor \\neg q) \\to (q \\lor p)\\$.\n",
    "\n",
    "Preguntas:\n",
    "\n",
    "* ¿Por qué esta expresión representa el problema?\n",
    "* ¿Qué pasaría si cambiamos este valor?\n",
    "* ¿Hay otra manera de resolverlo?\n",
    "* ¿Cómo justificas que tu resultado es razonable?\n",
    "\n",
    "*(Se diseñan 20 expresiones de este tipo combinando conectores lógicos básicos.)*\n",
    "\n",
    "---\n"
   ]
  },
  {
   "cell_type": "markdown",
   "id": "d76245cc",
   "metadata": {},
   "source": [
    "\n",
    "## 10. Evaluación\n"
   ]
  },
  {
   "cell_type": "markdown",
   "id": "89ea6060",
   "metadata": {},
   "source": [
    "\n",
    "### 10 proyectos sugeridos:\n",
    "\n",
    "1. Modelo lógico de reglas de un torneo de fútbol.\n",
    "2. Análisis lógico de sistemas de votación.\n",
    "3. Modelado de un sistema de semáforos.\n",
    "4. Lógica en decisiones económicas de riesgo.\n",
    "5. Representación lógica de divisibilidad en números.\n",
    "6. Circuito de alarma hogareña.\n",
    "7. Diseño de puerta lógica equivalente en Cocodrile Clips.\n",
    "8. Traducción lógica de reglas de geometría.\n",
    "9. Verificación lógica de derivadas en cálculo.\n",
    "10. App en Python que clasifique proposiciones como tautología, contradicción o contingencia.\n"
   ]
  },
  {
   "cell_type": "markdown",
   "id": "7c2b5c8c",
   "metadata": {},
   "source": [
    "\n",
    "### Ejemplo de quiz (6 preguntas, contextuales).\n",
    "\n",
    "1. En un partido de fútbol: “Si el equipo gana o empata, entonces suma puntos.” ¿Es tautología?\n",
    "2. En economía: “Si ahorro, tengo más capital; si no ahorro, no tengo más capital.” ¿Contradicción?\n",
    "3. En teoría de números: “Si un número es par, entonces es divisible por 2.”\n",
    "4. En geometría: “Si un triángulo es equilátero, entonces tiene tres ángulos iguales.”\n",
    "5. En cálculo: “Si una función es derivable, entonces es continua.”\n",
    "6. En la vida cotidiana: “Si estudio, apruebo; si no estudio, no apruebo.”\n"
   ]
  },
  {
   "cell_type": "markdown",
   "id": "b6daaeab",
   "metadata": {},
   "source": [
    "\n",
    "### Ejemplo de parcial:\n",
    "\n",
    "* Parte I: 4 problemas de tablas de verdad (20 pts).\n",
    "* Parte II: Equivalencias con leyes lógicas (20 pts).\n",
    "* Parte III: Aplicación en circuitos digitales (20 pts).\n",
    "* Parte IV: Problemas contextuales (40 pts).\n",
    "\n",
    "---\n"
   ]
  },
  {
   "cell_type": "markdown",
   "id": "4455d870",
   "metadata": {},
   "source": [
    "\n",
    "## 11. Retroalimentación\n",
    "\n",
    "Dinámica grupal: cada equipo explica un error común en las tablas de verdad que encontró en su solución, y otro equipo propone la corrección.\n",
    "\n",
    "---\n"
   ]
  },
  {
   "cell_type": "markdown",
   "id": "9e61540e",
   "metadata": {},
   "source": [
    "\n",
    "## 12. Vocabulario inglés asociado\n",
    "\n",
    "* Truth table = Tabla de verdad\n",
    "* Tautology = Tautología\n",
    "* Contradiction = Contradicción\n",
    "* Contingency = Contingencia\n",
    "* Logical equivalence = Equivalencia lógica\n",
    "* Connective = Conector lógico\n",
    "* Boolean algebra = Álgebra de Boole\n",
    "\n",
    "---\n"
   ]
  },
  {
   "cell_type": "markdown",
   "id": "ff59dcbc",
   "metadata": {},
   "source": [
    "\n",
    "## 13. Apéndice socioemocional\n",
    "\n",
    "* **Trabajo en equipo:** roles rotativos (líder, relator, verificador).\n",
    "* **Asertividad:** expresar ideas lógicas sin invalidar al otro.\n",
    "* **Inteligencia emocional:** técnicas de respiración antes de un examen.\n",
    "* **Metacognición:** diario de aprendizaje: “¿Qué aprendí hoy? ¿Qué estrategias usé?”\n",
    "\n",
    "---\n"
   ]
  },
  {
   "cell_type": "markdown",
   "id": "5960210d",
   "metadata": {},
   "source": [
    "\n",
    "## 14. Referentes didácticos (APA)\n"
   ]
  },
  {
   "cell_type": "markdown",
   "id": "93e32be9",
   "metadata": {},
   "source": [
    "\n",
    "* Duval, R. (1993). *Registros de representación semiótica y funcionamiento cognitivo del pensamiento matemático.* Recherches en Didactique des Mathématiques.\n"
   ]
  },
  {
   "cell_type": "markdown",
   "id": "ded1bf6f",
   "metadata": {},
   "source": [
    "* Wing, J. M. (2006). *Computational thinking.* Communications of the ACM, 49(3), 33–35.\n",
    "* Brousseau, G. (1997). *Theory of didactical situations in mathematics.* Springer.\n",
    "* [Chevallard, Y. (1999). *La transposición didáctica.* Aique.](chrome-extension://efaidnbmnnnibpcajpcglclefindmkaj/https://www.psi.uba.ar/academica/carrerasdegrado/profesorado/sitios_catedras/902_didactica_general/material/biblioteca_digital/chevallard.pdf)\n",
    "* Hiebert, J., & Carpenter, T. P. (1992). *Learning and teaching with understanding.* Handbook of research on mathematics teaching and learning.\n",
    "* Kilpatrick, J., Swafford, J., & Findell, B. (2001). *Adding it up: Helping children learn mathematics.* National Academy Press.\n",
    "* Schoenfeld, A. H. (2016). *Learning to think mathematically: Problem solving, metacognition, and sense-making.* Journal of Education.\n",
    "* Mason, J., Burton, L., & Stacey, K. (2010). *Thinking mathematically.* Pearson.\n",
    "* Polya, G. (1957). *How to solve it.* Princeton University Press.\n",
    "* Sfard, A. (2008). *Thinking as communicating: Human development, the growth of discourses, and mathematizing.* Cambridge University Press.\n",
    "* Tall, D. (2013). *How humans learn to think mathematically.* Cambridge University Press.\n",
    "\n",
    "---\n",
    "\n",
    "¿Quieres que te arme el **Jupyter Notebook listo** con el código de SymPy, ipywidgets y animaciones de matplotlib, para que sea directamente usable en tu curso?\n"
   ]
  },
  {
   "cell_type": "markdown",
   "id": "3cac948a",
   "metadata": {},
   "source": [
    "# Lectura interactiva y experimental  \n"
   ]
  },
  {
   "cell_type": "markdown",
   "id": "0e175354",
   "metadata": {},
   "source": [
    "La **lectura interactiva y experimental** de los cuadernos Jupyter diseñados para el curso de **Fundamentos de Lógica** implica un enfoque dinámico y práctico para el aprendizaje, donde los estudiantes no solo consumen información teórica, sino que también interactúan con el contenido, modifican ejemplos, ejecutan código y experimentan con los conceptos lógicos en un entorno computacional. A continuación, se detallan las características clave de este enfoque:\n",
    "\n",
    "\n"
   ]
  },
  {
   "cell_type": "markdown",
   "id": "bab6c6f9",
   "metadata": {},
   "source": [
    "\n",
    "### **1. Lectura Interactiva**  \n"
   ]
  },
  {
   "cell_type": "markdown",
   "id": "356cc63f",
   "metadata": {},
   "source": [
    "- **Manipulación directa del contenido**: Los estudiantes pueden ejecutar celdas de código, modificar fórmulas lógicas o ejemplos, y observar cómo cambian los resultados en tiempo real.  \n"
   ]
  },
  {
   "cell_type": "markdown",
   "id": "32db3a3c",
   "metadata": {},
   "source": [
    "- **Visualización interactiva**: Uso de gráficos, diagramas (como árboles semánticos o tablas de verdad) o herramientas que respondan a entradas del usuario para ilustrar conceptos como validez, consistencia o inferencia."
   ]
  },
  {
   "cell_type": "markdown",
   "id": "595659ad",
   "metadata": {},
   "source": [
    "  \n",
    "- **Retroalimentación inmediata**: Los cuadernos pueden incluir ejercicios con autoevaluación (ejecutando código que verifica soluciones) o explicaciones emergentes al resolver problemas.  \n",
    "\n",
    "\n"
   ]
  },
  {
   "cell_type": "markdown",
   "id": "05442fd7",
   "metadata": {},
   "source": [
    "\n",
    "### **2. Lectura Experimental**  \n"
   ]
  },
  {
   "cell_type": "markdown",
   "id": "1744b5c4",
   "metadata": {},
   "source": [
    "- **Aprendizaje basado en prueba y error**: Los estudiantes pueden \"jugar\" con estructuras lógicas (por ejemplo, modificar conectores en una fórmula proposicional y ver cómo afecta su tabla de verdad). "
   ]
  },
  {
   "cell_type": "markdown",
   "id": "e65ca72b",
   "metadata": {},
   "source": [
    " \n",
    "- **Simulación de escenarios**: Por ejemplo, modelar argumentos en lógica de primer orden y evaluar su corrección mediante ejecución de código (usando librerías como `sympy` o herramientas ad-hoc).  \n"
   ]
  },
  {
   "cell_type": "markdown",
   "id": "efb97cde",
   "metadata": {},
   "source": [
    "- **Exploración guiada y abierta**: Se incluyen secciones con consignas del tipo *\"¿Qué pasa si cambias este axioma?\"* o *\"Intenta construir un contraejemplo\"* para fomentar la curiosidad.  \n",
    "\n",
    "\n"
   ]
  },
  {
   "cell_type": "markdown",
   "id": "374a8ea9",
   "metadata": {},
   "source": [
    "\n",
    "### **3. Componentes clave de los cuadernos**  \n",
    "- **Fragmentos de código ejecutable**: Para evaluar expresiones lógicas, automatizar pruebas o implementar algoritmos (ej: verificación de tautologías).  \n",
    "- **Celdas con texto teórico y preguntas reflexivas**: Integradas con ejemplos prácticos que requieren intervención activa (ej: *\"Define aquí tu propia fórmula y comprueba si es satisfacible\"*).  \n",
    "- **Enlaces a recursos externos**: Como demostradores en línea o lecturas complementarias para profundizar.  \n",
    "\n",
    "---\n"
   ]
  },
  {
   "cell_type": "markdown",
   "id": "c750af8a",
   "metadata": {},
   "source": [
    "\n",
    "### **4. Beneficios pedagógicos**  \n",
    "- **Enganche activo**: Combina teoría y práctica sin salir del entorno digital.  \n",
    "- **Personalización**: Los estudiantes pueden ajustar el ritmo y profundidad de su aprendizaje.  \n",
    "- **Preparación para aplicaciones reales**: Familiariza a los estudiantes con herramientas usadas en investigación (ej: Python para lógica simbólica).  \n",
    "\n",
    "---\n"
   ]
  },
  {
   "cell_type": "markdown",
   "id": "0602e6ee",
   "metadata": {},
   "source": [
    "\n",
    "### **Ejemplo concreto**  \n",
    "Un cuaderno podría incluir:  \n",
    "1. Una explicación de *modus ponens* con una fórmula predefinida (`p → q`, `p`, luego `q`).  \n",
    "2. Una celda interactiva donde el estudiante modifique `p` o `q` y observe cómo falla la regla si las premisas cambian.  \n",
    "3. Un ejercicio para programar un verificador de *modus ponens* usando diccionarios de Python.  \n"
   ]
  },
  {
   "cell_type": "markdown",
   "id": "70e1a505",
   "metadata": {},
   "source": [
    "\n",
    "Este enfoque transforma la lógica (a menudo abstracta) en una experiencia tangible y adaptable."
   ]
  },
  {
   "cell_type": "markdown",
   "id": "8396c0ed",
   "metadata": {},
   "source": [
    "# Presentación de la estructura de la clase  "
   ]
  },
  {
   "cell_type": "markdown",
   "id": "36bc2964",
   "metadata": {},
   "source": [
    "# Desarrollo de habilidades Metacognitivas en enseñanza con metodología IAE \n"
   ]
  },
  {
   "cell_type": "markdown",
   "id": "9c5cb582",
   "metadata": {},
   "source": [
    "\n",
    "Desarrollar habilidades metacognitivas en los estudiantes dentro de una **Investigación Acción Educativa (IAE)** implica un proceso cíclico de reflexión, acción y evaluación. "
   ]
  },
  {
   "cell_type": "markdown",
   "id": "64451e0b",
   "metadata": {},
   "source": [
    "Te propongo una estrategia estructurada en fases, alineada con la IAE, para fomentar la metacognición:\n",
    "\n",
    "\n"
   ]
  },
  {
   "cell_type": "markdown",
   "id": "42be70b3",
   "metadata": {},
   "source": [
    "\n",
    "### **1. Diagnóstico Inicial (Fase de Observación)**  \n"
   ]
  },
  {
   "cell_type": "markdown",
   "id": "55736208",
   "metadata": {},
   "source": [
    "- **Identifica el nivel metacognitivo actual**:  \n"
   ]
  },
  {
   "cell_type": "markdown",
   "id": "e9832417",
   "metadata": {},
   "source": [
    "  - Realiza cuestionarios, entrevistas o actividades reflexivas (ej.: \n",
    "      * \"¿Cómo estudiaste para el último examen?\n",
    "      *  ¿Qué te funcionó o no?\").  \n",
    "  - Observa si los estudiantes pueden explicar sus procesos de aprendizaje o identificar dificultades.  \n"
   ]
  },
  {
   "cell_type": "markdown",
   "id": "56467690",
   "metadata": {},
   "source": [
    "\n",
    "- **Registra evidencias**: Anota cómo los estudiantes planifican, monitorean y evalúan sus tareas (ej.: diarios de aprendizaje, grabaciones de debates).  \n",
    "\n",
    "\n"
   ]
  },
  {
   "cell_type": "markdown",
   "id": "e252e7b1",
   "metadata": {},
   "source": [
    "\n",
    "### **2. Diseño de Intervenciones (Fase de Planificación)**"
   ]
  },
  {
   "cell_type": "markdown",
   "id": "4b036a02",
   "metadata": {},
   "source": [
    "  \n",
    "**a. Enseñanza explícita de estrategias metacognitivas**:  \n"
   ]
  },
  {
   "cell_type": "markdown",
   "id": "114930fc",
   "metadata": {},
   "source": [
    "  - **Modelado**: Muestra cómo *tú* piensas al resolver un problema (\"Pensamiento en voz alta\"). Ejemplo:  \n",
    "    *\"Primero, voy a leer el objetivo de la clase. Luego, revisaré si entiendo los conceptos clave...\"*.  \n",
    "  - **Listas de verificación (checklists)**: Proporciona guías para autoevaluarse (ej.: \"¿Puedo explicar este tema con mis propias palabras?\").  \n"
   ]
  },
  {
   "cell_type": "markdown",
   "id": "1ba3c6a5",
   "metadata": {},
   "source": [
    "\n",
    "**b. Herramientas para la autorregulación**:  \n",
    "  - **Diarios de aprendizaje**: Pide que registren:  \n",
    "    - *\"¿Qué aprendí hoy?\"* (conocimiento).  \n",
    "    - *\"¿Cómo lo aprendí?\"* (proceso).  \n",
    "    - *\"¿Qué me falta por entender?\"* (brechas).  \n",
    "  - **Rúbricas de autoevaluación**: Incluye criterios como: *\"Puedo resolver ejercicios sin ayuda\"* o *\"Sé dónde buscar información confiable\"*.  \n"
   ]
  },
  {
   "cell_type": "markdown",
   "id": "f206e682",
   "metadata": {},
   "source": [
    "\n",
    "**c. Espacios de reflexión colaborativa**:  \n",
    "  - **Debates metacognitivos**: En grupos, discuten: *\"¿Qué estrategia usamos? ¿Funcionó? ¿Por qué?\"*.  \n",
    "  - **Peer feedback**: Intercambian comentarios sobre sus procesos (ej.: \"Tú organizaste bien tus ideas, pero podrías revisar las fuentes\").  \n",
    "\n",
    "---\n"
   ]
  },
  {
   "cell_type": "markdown",
   "id": "0ed547ca",
   "metadata": {},
   "source": [
    "\n",
    "### **3. Implementación (Fase de Acción)**  \n",
    "- **Integra la metacognición en las actividades cotidianas**:  \n",
    "  - Antes de una tarea: *\"¿Qué sabes ya sobre este tema? ¿Cómo planeas abordarlo?\"*.  \n",
    "  - Durante la tarea: *\"¿Estás siguiendo tu plan? ¿Necesitas ajustarlo?\"*.  \n",
    "  - Después: *\"¿Lograste el objetivo? ¿Qué cambiarías la próxima vez?\"*.  \n",
    "- **Usa preguntas clave**:  \n",
    "  - *\"¿Qué parte fue más difícil? ¿Por qué?\"* (identificación de obstáculos).  \n",
    "  - *\"Si tuvieras que enseñarle esto a un compañero, ¿cómo lo harías?\"* (transferencia).  \n",
    "\n",
    "---\n"
   ]
  },
  {
   "cell_type": "markdown",
   "id": "26514009",
   "metadata": {},
   "source": [
    "\n",
    "### **4. Evaluación y Reflexión (Fase de Observación/Reflexión)**  \n",
    "- **Analiza el impacto**: Compara evidencias pre y post intervención (ej.: diarios, desempeño en tareas).  \n",
    "- **Reflexión grupal**: Realiza una sesión donde los estudiantes compartan:  \n",
    "  - *\"¿Qué estrategias metacognitivas les ayudaron más?\"*.  \n",
    "  - *\"¿Cómo se sintieron al gestionar su aprendizaje?\"*.  \n",
    "- **Ajusta la intervención**: Si notas que persisten dificultades, propón nuevas herramientas (ej.: mapas conceptuales para organizar ideas).  \n",
    "\n",
    "---\n"
   ]
  },
  {
   "cell_type": "markdown",
   "id": "02475f41",
   "metadata": {},
   "source": [
    "\n",
    "### **5. Iteración (Ciclo de IAE)**  \n",
    "Repite el ciclo con ajustes basados en los hallazgos. Por ejemplo:  \n",
    "- Si los estudiantes no identifican errores, introduce actividades de *análisis de errores* (\"¿Por qué te equivocaste? ¿Cómo corregirlo?\").  \n",
    "- Si les cuesta planificar, usa herramientas visuales como *diagramas de flujo* para secuenciar pasos.  \n",
    "\n",
    "---\n",
    "\n",
    "### **Ejemplo Práctico**  \n",
    "**Situación**: Estudiantes no revisan sus errores en matemáticas.  \n",
    "- **Intervención**:  \n",
    "  1. **Modelado**: Resuelves un problema cometiendo un error adrede y muestras cómo detectarlo.  \n",
    "  2. **Checklist**: \"¿Revisé cada paso? ¿Mi respuesta tiene sentido?\".  \n",
    "  3. **Diario**: \"Hoy cometí un error en... Lo corregí cambiando...\".  \n",
    "\n",
    "---\n",
    "\n",
    "### **Claves para el Éxito**  \n",
    "- **Consistencia**: Integra la metacognición en todas las clases, no como actividad aislada.  \n",
    "- **Andamiaje**: Reduce gradualmente la guía del docente a medida que los estudiantes ganan autonomía.  \n",
    "- **Cultura de error**: Normaliza los errores como parte del aprendizaje (\"¿Qué podemos aprender de esto?\").  \n",
    "\n",
    "La metacognición no solo mejora el logro académico, sino que empodera a los estudiantes para ser aprendices autónomos y resilientes. En la IAE, este proceso se enriquece al ser colaborativo (docente-estudiantes) y basado en evidencia concreta.  \n",
    "\n",
    "¿Te gustaría profundizar en alguna herramienta específica o ajustar la estrategia a un nivel educativo en particular?"
   ]
  },
  {
   "cell_type": "markdown",
   "id": "239427f7",
   "metadata": {},
   "source": [
    "# Calendario Académico Semestre 2025-2  \n",
    "\n",
    "\n",
    "\n",
    "\n"
   ]
  },
  {
   "cell_type": "code",
   "execution_count": null,
   "id": "c804f8d3",
   "metadata": {},
   "outputs": [],
   "source": []
  },
  {
   "cell_type": "code",
   "execution_count": null,
   "id": "cc539357",
   "metadata": {},
   "outputs": [],
   "source": []
  },
  {
   "cell_type": "markdown",
   "id": "8ba64aed",
   "metadata": {},
   "source": [
    "# Cursos que orienta el profesor Marco Julio Cañas Campillo en 2025-2  \n",
    "\n",
    "1. Fundamentos de Lógica para Licenciatura en Matemáticas \n",
    "2. Álgebra y Trigonometría. \n",
    "3. Geometría Vectorial. \n",
    "4. Análisis Numérico para Licenciatura en Matemáticas. \n"
   ]
  },
  {
   "cell_type": "markdown",
   "id": "8d41fe58",
   "metadata": {
    "slideshow": {
     "slide_type": "slide"
    }
   },
   "source": [
    "# Horario de clases del profesor Marco\n"
   ]
  },
  {
   "cell_type": "markdown",
   "id": "43da7f45",
   "metadata": {},
   "source": [
    "\n",
    "* Lunes 8-12: Fundamentos de Lógica\n",
    "* Martes 9-11 M: Álgebra y Trigonometría. \n",
    "* Martes 2 a 5 PM: Geometría Vectorial. \n",
    "* Miércoles 9 a 11 M: Álgebra y Trigonometría. \n",
    "* Jueves 2 a 6 PM:\n",
    "* Viernes de 8 a 9 AM: Asesoría Trabajo de Grado Janis Zuñiga Biología. \n",
    "* Viernes de 10 a 11 AM: Reunión SAT Dengue.  \n",
    "* Viernes 2 - 6 PM: Análisis numérico.  \n",
    "* Sábados 8-12 Asesorías y espacio para retroalimentación y apoyo al trabajo independiente  \n",
    "  y desarrollo de habilidades metacognitivas. "
   ]
  },
  {
   "cell_type": "markdown",
   "id": "ae114e14",
   "metadata": {
    "slideshow": {
     "slide_type": "slide"
    }
   },
   "source": [
    "# Coordinador de los cursos de la Facultad de Educación para regiones:    \n",
    "\n",
    "Andrés Vélez: regioneducacion.fedu@udea.edu.co  \n",
    "Coordinador Regiones  \n",
    "Facultad de Educación  \n",
    "Universidad de Antioquia  "
   ]
  },
  {
   "cell_type": "markdown",
   "id": "b1db4b6c",
   "metadata": {
    "slideshow": {
     "slide_type": "slide"
    }
   },
   "source": [
    "## Monitores\n",
    "* Manuel San Juan Serrano: Contactar escribiendo al correo: manuel.serrano1@udea.edu.co\n",
    "* Yeifry Sebastián Uribe: Contactar escribiendo al correo: yeifry.uribe@udea.edu.co"
   ]
  },
  {
   "cell_type": "markdown",
   "id": "10bce0d0",
   "metadata": {
    "slideshow": {
     "slide_type": "slide"
    }
   },
   "source": [
    "## Referentes "
   ]
  },
  {
   "cell_type": "markdown",
   "id": "1db3c468",
   "metadata": {
    "slideshow": {
     "slide_type": "slide"
    }
   },
   "source": [
    "* [Jupyter Book de fundamentos_logica](file:///C:/Users/marco/Documentos/docencia/fundamentos_logica/fundamentos_logica_book/_build/html/index.html)\n",
    "\n",
    "* [Matemáticas Discretas: una perspectiva funcional con Python 3.x](https://ri.ujat.mx/handle/200.500.12107/3942)  \n",
    "  \n",
    "* [Decargue Crocodile Clip aquí](https://crocodileclips.net/descargar-crocodile-clips/)\n",
    "\n",
    "* [Matemáticas discretas Una introducción abierta, 3ª edición](https://discrete.openmathbooks.org/dmoi3.html)  \n",
    "  \n",
    "* [Desarrollo del pensamiento matemático con calculadora Casio ](https://bibliotecadigital.udea.edu.co/entities/publication/17180405-9f1d-4800-aa7c-e6369779cece)\n",
    "\n",
    "* [CALCULO I DE UNA VARIABLE Ron Larson-Bruce Edwards. Mc Graw Hill. 9º Edición](https://www.academia.edu/42139251/CALCULO_I_DE_UNA_VARIABLE_Ron_Larson_Bruce_Edwards_Mc_Graw_Hill_9o_Edici%C3%B3n)   \n",
    "  \n",
    "\n",
    "* [Grajales Vanegas, L. M., Restrepo Estrada, C. E., Restrepo Ochoa, S. I., & Ruíz De Villalba, F. (2015). Matemáticas I para las ciencias económicas.](https://bibliotecadigital.udea.edu.co/handle/10495/3010)\n",
    "  \n",
    "* R. Duval y Semiosis y pensamiento humano, 2.ª ed. Cali, Colombia: Programa Editorial Universidad del Valle, 2017. [En línea]. Disponible en: https://programaeditorial.univalle.edu.co/gpd-semiosis-y-pensamiento-humano-9789587655278-63324cdb0f6b3.html\n",
    "\n",
    "* [Aylwin, C. U. (2011). Lógica, conjuntos y números. Universidad de los Andes, Consejo de Publicaciones, Colección: Ciencias Básicas, Serie: Matemáticas.](chrome-extension://efaidnbmnnnibpcajpcglclefindmkaj/https://www.u-cursos.cl/ciencias/2011/1/MC110/1/material_docente/bajar?id_material=574722)\n",
    "  \n",
    "* [Chollet, F. (2021). Deep learning with Python. Simon and Schuster.](chrome-extension://efaidnbmnnnibpcajpcglclefindmkaj/https://tanthiamhuat.wordpress.com/wp-content/uploads/2018/03/deeplearningwithpython.pdf)  \n",
    "  \n",
    "* [Watson, S., Stewart, J., & Redlin, L. (2009). Precálculo. Matemáticas para el cálculo.](chrome-extension://efaidnbmnnnibpcajpcglclefindmkaj/https://students.aiu.edu/submissions/profiles/resources/onlineBook/k6L8A3_precalculo_-_matematicas_para_el_calculo-1.pdf)  \n",
    "\n",
    "* [Purcell, E. J., Varberg, D., & Rigdon, S. E. (2007). Cálculo diferencial e integral. Pearson Educación.](https://github.com/marco-canas/calculo/blob/main/referents/purcell/purcell_calculo.pdf)\n",
    "\n",
    "  \n",
    "\n",
    "* [stewart cálculo](https://udeaeduco-my.sharepoint.com/:b:/g/personal/marco_canas_udea_edu_co/EZgXZjAp8QxPqOAim2hs6LcBNPLGjSHf-xwYnUVYkwa04w?e=RZdTCy)  \n",
    "\n",
    "\n",
    "* [Recomendación de la UNESCO sobre ciencia abierta](https://unesdoc.unesco.org/ark:/48223/pf0000379949_spa)\n",
    "\n",
    "* [chatGPT](https://openai.com/blog/chatgpt)  \n",
    "\n",
    "* [Géron, A. (2017). Hands-on machine learning with scikit-learn and tensorflow: Concepts. Tools, and Techniques to build intelligent systems.](chrome-extension://efaidnbmnnnibpcajpcglclefindmkaj/http://14.139.161.31/OddSem-0822-1122/Hands-On_Machine_Learning_with_Scikit-Learn-Keras-and-TensorFlow-2nd-Edition-Aurelien-Geron.pdf)   \n"
   ]
  },
  {
   "cell_type": "markdown",
   "id": "df925560",
   "metadata": {},
   "source": [
    "\n",
    "* [McKinney, W. (2012). Python for data analysis: Data wrangling with Pandas, NumPy, and IPython. \" O'Reilly Media, Inc.\".](https://wesmckinney.com/book/) "
   ]
  },
  {
   "cell_type": "markdown",
   "id": "8e65d6f9",
   "metadata": {},
   "source": [
    "# Como estudiante, encuentro que...   \n",
    "\n",
    "F: Mis Fortalezas son:     \n",
    "O: Mis Oportunidades son:    \n",
    "D: Mis Debilidades son:    \n",
    "A: Lo que Amenazas mi aprendizaje es:  "
   ]
  },
  {
   "cell_type": "markdown",
   "id": "6b9e56a8",
   "metadata": {
    "slideshow": {
     "slide_type": "slide"
    }
   },
   "source": [
    "### [Evaluamos al profesor Marco Cañas Aquí](https://forms.office.com/Pages/ResponsePage.aspx?id=IefhmYRxjkmK_7KtTlPBwkanXIs1i1FEujpsZgO6dXpUREJPV1kxUk1JV1ozTFJIQVNIQjY5WEY3US4u)"
   ]
  },
  {
   "cell_type": "markdown",
   "id": "10f43536",
   "metadata": {
    "slideshow": {
     "slide_type": "slide"
    }
   },
   "source": [
    "### Continue su aprendizaje en la siguiente clase a través del siguiente [vínculo]()"
   ]
  },
  {
   "cell_type": "markdown",
   "id": "53cc9115",
   "metadata": {
    "slideshow": {
     "slide_type": "slide"
    }
   },
   "source": [
    "## Agradecimientos  \n",
    "\n",
    "Doy gracias a Dios por la vida de mi Hijo Joseph Cañas Osorio y la madurez que ha alcanzado. Este hijo me enorgullece y me hace falta abrazarlo cada día. \n",
    "\n",
    "Y a mi esposa Yasmira Emperatriz Barboza Mogollón por su apoyo, orientación y acompañamiento. "
   ]
  }
 ],
 "metadata": {
  "celltoolbar": "Slideshow",
  "kernelspec": {
   "display_name": ".venv",
   "language": "python",
   "name": "python3"
  },
  "language_info": {
   "codemirror_mode": {
    "name": "ipython",
    "version": 3
   },
   "file_extension": ".py",
   "mimetype": "text/x-python",
   "name": "python",
   "nbconvert_exporter": "python",
   "pygments_lexer": "ipython3",
   "version": "3.11.9"
  },
  "rise": {
   "enable_chalkboard": true,
   "theme": "sky",
   "transition": "zoom"
  }
 },
 "nbformat": 4,
 "nbformat_minor": 5
}
