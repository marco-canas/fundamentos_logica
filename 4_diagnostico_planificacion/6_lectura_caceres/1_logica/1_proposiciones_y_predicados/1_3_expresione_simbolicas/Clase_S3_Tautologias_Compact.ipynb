{
 "cells": [
  {
   "cell_type": "markdown",
   "id": "4aa0fc5d",
   "metadata": {},
   "source": [
    "<table align=\"left\">\n",
    "  <td>\n",
    "    <a href=\"https://colab.research.google.com/github/marco-canas/fundamentos_logica/blob/main/4_fase_1_diagnostico_planificacion/0_formatos_clase/1_class_logica.ipynb\" target=\"_parent\"><img src=\"https://colab.research.google.com/assets/colab-badge.svg\" alt=\"Open In Colab\"/></a>\n",
    "  </td>\n",
    "  <td>\n",
    "    <a target=\"_blank\" href=\"https://kaggle.com/kernels/welcome?src=https://github.com/marco-canas/fundamentos_logica/blob/main/4_fase_1_diagnostico_planificacion/0_formatos_clase/1_class_logica.ipynb\"><img src=\"https://kaggle.com/static/images/open-in-kaggle.svg\" /></a>\n",
    "  </td>\n",
    "</table>"
   ]
  },
  {
   "cell_type": "markdown",
   "id": "372cd151",
   "metadata": {},
   "source": [
    "\n",
    "# S3 — Tautologías, contradicciones y contingencias; equivalencias lógicas\n"
   ]
  },
  {
   "cell_type": "markdown",
   "id": "32d9e56b",
   "metadata": {},
   "source": [
    "**Clase:** Fundamentos de la Lógica — UdeA Campus Caucasia  \n",
    "**Fecha:** Lunes 25/08/2025 — 4 h  \n",
    "**Enfoques:** STEAMS + ABPP + TRRS (Duval)  \n",
    "**Objetivo:** Identificar y clasificar proposiciones como tautologías, contradicciones o contingencias; traducir entre registros y experimentar en Jupyter.\n"
   ]
  },
  {
   "cell_type": "code",
   "execution_count": 2,
   "id": "5a7367b5",
   "metadata": {},
   "outputs": [
    {
     "name": "stdout",
     "output_type": "stream",
     "text": [
      "Entorno básico cargado. SymPy version: 1.14.0\n"
     ]
    }
   ],
   "source": [
    "\n",
    "# Entorno mínimo\n",
    "import numpy as np, pandas as pd\n",
    "import matplotlib.pyplot as plt\n",
    "from matplotlib.animation import FuncAnimation\n",
    "from IPython.display import HTML, display, clear_output, Markdown\n",
    "import ipywidgets as widgets\n",
    "\n",
    "from sympy import symbols, Equivalent, simplify_logic, sympify\n",
    "from sympy.logic.boolalg import truth_table\n",
    "\n",
    "print(\"Entorno básico cargado. SymPy version:\", __import__('sympy').__version__)\n"
   ]
  },
  {
   "cell_type": "markdown",
   "id": "ff39ff26",
   "metadata": {},
   "source": [
    "\n",
    "## Funciones útiles: tabla de verdad y clasificación\n",
    "Usa expresiones en sintaxis SymPy (ej.: `p & q`, `p | ~p`, `p >> q`, `Equivalent(p,q)`).\n"
   ]
  },
  {
   "cell_type": "code",
   "execution_count": null,
   "id": "7b726646",
   "metadata": {},
   "outputs": [],
   "source": [
    "import sympy as sp\n",
    "from sympy.logic.boolalg import truth_table\n",
    "import pandas as pd\n",
    "import matplotlib.pyplot as plt\n",
    "from matplotlib.animation import FuncAnimation\n",
    "import ipywidgets as widgets\n",
    "from IPython.display import display, Markdown\n",
    "\n",
    "# =========================\n",
    "# Función tabla de verdad\n",
    "# =========================\n",
    "def tabla_verdad(expr, syms):\n",
    "    rows = []\n",
    "    header = [str(s) for s in syms] + [str(expr)]\n",
    "    \n",
    "    for assignment, value in truth_table(expr, syms):\n",
    "        # Verificar si assignment ya es dict o no\n",
    "        if isinstance(assignment, dict):\n",
    "            assign_dict = assignment\n",
    "        else:\n",
    "            assign_dict = dict(assignment)\n",
    "\n",
    "        row = [assign_dict.get(s, False) for s in syms] + [bool(value)]\n",
    "        rows.append(row)\n",
    "    \n",
    "    return pd.DataFrame(rows, columns=header)\n",
    "\n",
    "# =========================\n",
    "# Clasificación\n",
    "# =========================\n",
    "def clasificar(expr, syms):\n",
    "    df = tabla_verdad(expr, syms)\n",
    "    col = df.iloc[:, -1]\n",
    "    if col.all():\n",
    "        return \"Tautología\", df\n",
    "    elif (~col).all():\n",
    "        return \"Contradicción\", df\n",
    "    else:\n",
    "        return \"Contingencia\", df\n",
    "\n",
    "# =========================\n",
    "# Animación de tabla\n",
    "# =========================\n",
    "def animar_tabla(df):\n",
    "    fig, ax = plt.subplots()\n",
    "    ax.axis('off')\n",
    "    table = ax.table(cellText=df.values, colLabels=df.columns, loc='center', cellLoc='center')\n",
    "\n",
    "    def update(i):\n",
    "        for c in table.get_celld().values():\n",
    "            c.set_facecolor(\"white\")\n",
    "        for j in range(df.shape[1]):\n",
    "            table[(i+1, j)].set_facecolor(\"yellow\")\n",
    "\n",
    "    ani = FuncAnimation(fig, update, frames=len(df), repeat=False, interval=1000)\n",
    "    plt.show()\n",
    "\n",
    "# =========================\n",
    "# Interfaz con ipywidgets\n",
    "# =========================\n",
    "def interfaz(expr_str):\n",
    "    p, q = sp.symbols('p q')\n",
    "    try:\n",
    "        expr = sp.sympify(expr_str)\n",
    "        clas, df = clasificar(expr, [p, q])\n",
    "        display(Markdown(f\"**Expresión:** ${sp.latex(expr)}$ → **{clas}**\"))\n",
    "        display(df)\n",
    "        animar_tabla(df)\n",
    "    except Exception as e:\n",
    "        print(\"Error:\", e)\n",
    "\n",
    "# Entrada interactiva\n",
    "entrada = widgets.Text(\n",
    "    value=\"p | ~p\",\n",
    "    description=\"Expresión:\",\n",
    "    disabled=False\n",
    ")\n",
    "\n",
    "widgets.interact(interfaz, expr_str=entrada);\n"
   ]
  },
  {
   "cell_type": "markdown",
   "id": "194f813f",
   "metadata": {},
   "source": [
    "\n",
    "## Interfaz interactiva rápida\n",
    "Escribe la expresión y los símbolos separados por comas. Ejemplo símbolos: `p,q` y expresión: `p & ~q`.\n"
   ]
  },
  {
   "cell_type": "code",
   "execution_count": null,
   "id": "d1924d0c",
   "metadata": {},
   "outputs": [
    {
     "data": {
      "application/vnd.jupyter.widget-view+json": {
       "model_id": "04070fa4d0694fc48b4bb20aa1729486",
       "version_major": 2,
       "version_minor": 0
      },
      "text/plain": [
       "HBox(children=(Text(value='p & q', description='Expr:', layout=Layout(width='60%')), Text(value='p,q', descrip…"
      ]
     },
     "metadata": {},
     "output_type": "display_data"
    },
    {
     "data": {
      "application/vnd.jupyter.widget-view+json": {
       "model_id": "a4f07afe4f1f46d39224a9d38c7503f6",
       "version_major": 2,
       "version_minor": 0
      },
      "text/plain": [
       "Output()"
      ]
     },
     "metadata": {},
     "output_type": "display_data"
    }
   ],
   "source": [
    "import ipywidgets as widgets \n",
    "\n",
    "expr_input = widgets.Text(value='p & q', description='Expr:', layout=widgets.Layout(width='60%'))\n",
    "syms_input = widgets.Text(value='p,q', description='Símbolos:', layout=widgets.Layout(width='40%'))\n",
    "btn = widgets.Button(description='Evaluar', button_style='success')\n",
    "out = widgets.Output()\n",
    "\n",
    "def on_btn(b):\n",
    "    with out:\n",
    "        clear_output()\n",
    "        txt = expr_input.value.strip()\n",
    "        syms_list = [s.strip() for s in syms_input.value.split(',') if s.strip()!='']\n",
    "        try:\n",
    "            syms_dict = {s: symbols(s) for s in syms_list}\n",
    "            expr_sym = sympify(txt, locals=syms_dict)\n",
    "            syms_objs = [syms_dict[s] for s in syms_list]\n",
    "            clas, df = clasificar(expr_sym, syms_objs)\n",
    "            display(Markdown(f\"**Fórmula:** ${expr_sym}$  \\n**Clasificación:** **{clas}**\"))\n",
    "            display(df)\n",
    "        except Exception as e:\n",
    "            display(Markdown(f\"**Error:** {e}\"))\n",
    "\n",
    "btn.on_click(on_btn)\n",
    "display(widgets.HBox([expr_input, syms_input, btn]))\n",
    "display(out)\n"
   ]
  },
  {
   "cell_type": "markdown",
   "id": "9f7b2083",
   "metadata": {},
   "source": [
    "\n",
    "## Animación ilustrativa\n",
    "La siguiente animación muestra la evaluación de una expresión para todas las combinaciones de dos variables.\n"
   ]
  },
  {
   "cell_type": "code",
   "execution_count": 3,
   "id": "17318b67",
   "metadata": {},
   "outputs": [
    {
     "data": {
      "text/markdown": [
       "Animación demo: $(p \\land q) \\lor (\\lnot p \\land \\lnot q)$ (equivalencia)"
      ],
      "text/plain": [
       "<IPython.core.display.Markdown object>"
      ]
     },
     "metadata": {},
     "output_type": "display_data"
    },
    {
     "ename": "NameError",
     "evalue": "name 'p' is not defined",
     "output_type": "error",
     "traceback": [
      "\u001b[31m---------------------------------------------------------------------------\u001b[39m",
      "\u001b[31mNameError\u001b[39m                                 Traceback (most recent call last)",
      "\u001b[36mCell\u001b[39m\u001b[36m \u001b[39m\u001b[32mIn[3]\u001b[39m\u001b[32m, line 27\u001b[39m\n\u001b[32m     25\u001b[39m \u001b[38;5;66;03m# demo\u001b[39;00m\n\u001b[32m     26\u001b[39m display(Markdown(\u001b[33m\"\u001b[39m\u001b[33mAnimación demo: $(p \u001b[39m\u001b[38;5;130;01m\\\\\u001b[39;00m\u001b[33mland q) \u001b[39m\u001b[38;5;130;01m\\\\\u001b[39;00m\u001b[33mlor (\u001b[39m\u001b[38;5;130;01m\\\\\u001b[39;00m\u001b[33mlnot p \u001b[39m\u001b[38;5;130;01m\\\\\u001b[39;00m\u001b[33mland \u001b[39m\u001b[38;5;130;01m\\\\\u001b[39;00m\u001b[33mlnot q)$ (equivalencia)\u001b[39m\u001b[33m\"\u001b[39m))\n\u001b[32m---> \u001b[39m\u001b[32m27\u001b[39m display(anim_demo((\u001b[43mp\u001b[49m & q) | (~p & ~q), [p,q]))\n",
      "\u001b[31mNameError\u001b[39m: name 'p' is not defined"
     ]
    }
   ],
   "source": [
    "import matplotlib.pyplot as plt\n",
    "from matplotlib.animation import FuncAnimation\n",
    "from sympy import symbols\n",
    "from IPython.display import HTML, display, Markdown\n",
    "\n",
    "\n",
    "def anim_demo(expr, syms):\n",
    "    combos = [(0,0),(0,1),(1,0),(1,1)]\n",
    "    fig, ax = plt.subplots(figsize=(4,2))\n",
    "    ax.axis('off')\n",
    "    txt = ax.text(0.5,0.6,'', ha='center', fontsize=12)\n",
    "    res = ax.text(0.5,0.3,'', ha='center', fontsize=18)\n",
    "    def update(i):\n",
    "        a,b = combos[i%4]\n",
    "        assign = {syms[0]: bool(a), syms[1]: bool(b)}\n",
    "        val = bool(expr.subs(assign))\n",
    "        txt.set_text(f'{syms[0]}={int(a)}, {syms[1]}={int(b)}')\n",
    "        res.set_text('V' if val else 'F')\n",
    "        res.set_bbox(dict(facecolor='lightgreen' if val else 'lightcoral'))\n",
    "        return txt, res\n",
    "    ani = FuncAnimation(fig, update, frames=4, interval=700, blit=True)\n",
    "    plt.close(fig)\n",
    "    return HTML(ani.to_jshtml())\n",
    "\n",
    "# demo\n",
    "display(Markdown(\"Animación demo: $(p \\\\land q) \\\\lor (\\\\lnot p \\\\land \\\\lnot q)$ (equivalencia)\"))\n",
    "display(anim_demo((p & q) | (~p & ~q), [p,q]))\n"
   ]
  },
  {
   "cell_type": "markdown",
   "id": "be9f10ea",
   "metadata": {},
   "source": [
    "\n",
    "## Actividades en clase (resumen)\n",
    "- Mini-lab: probar 5 expresiones con la interfaz (pares).  \n",
    "- Casio 991 LA cw: ejercicios de manipulación binaria y operaciones lógicas bit a bit.  \n",
    "- Crocodile Clips: diseñar circuito de tautología y circuito de contradicción.  \n",
    "- Mini-proyecto ABPP: regla de desempate en torneo → formalizar, probar y presentar.\n"
   ]
  },
  {
   "cell_type": "markdown",
   "id": "eeb9be39",
   "metadata": {},
   "source": [
    "\n",
    "## Tarea (20 ítems)\n",
    "Cada ejercicio pide responder:  \n",
    "1) ¿Por qué esta expresión representa el problema?  \n",
    "2) ¿Qué pasaría si cambiamos este valor?  \n",
    "3) ¿Hay otra manera de resolverlo?  \n",
    "4) ¿Cómo justificas que tu resultado es razonable?\n",
    "\n",
    "(La lista completa de expresiones se entregará en el aula y en el repositorio del curso.)\n"
   ]
  },
  {
   "cell_type": "markdown",
   "id": "e8e8bc25",
   "metadata": {},
   "source": [
    "\n",
    "## Evaluación (ejemplo de quiz y parcial)\n",
    "**Quiz (breve):** Formalizar la regla de puntos en un torneo y clasificar la expresión.  \n",
    "**Parcial (estructura):** Tablas (40%), Equivalencias (30%), Aplicación (30%).\n"
   ]
  },
  {
   "cell_type": "markdown",
   "id": "64c36e16",
   "metadata": {},
   "source": [
    "\n",
    "## Referencias breves (APA)\n",
    "- Duval, R. (1993). Registros de representación semiótica y funcionamiento cognitivo del pensamiento matemático.  \n",
    "- Wing, J. M. (2006). Computational thinking. Communications of the ACM, 49(3), 33–35.  \n",
    "- Shannon, C. E. (1938). A symbolic analysis of relay and switching circuits.\n"
   ]
  }
 ],
 "metadata": {
  "kernelspec": {
   "display_name": ".venv",
   "language": "python",
   "name": "python3"
  },
  "language_info": {
   "codemirror_mode": {
    "name": "ipython",
    "version": 3
   },
   "file_extension": ".py",
   "mimetype": "text/x-python",
   "name": "python",
   "nbconvert_exporter": "python",
   "pygments_lexer": "ipython3",
   "version": "3.11.9"
  }
 },
 "nbformat": 4,
 "nbformat_minor": 5
}
