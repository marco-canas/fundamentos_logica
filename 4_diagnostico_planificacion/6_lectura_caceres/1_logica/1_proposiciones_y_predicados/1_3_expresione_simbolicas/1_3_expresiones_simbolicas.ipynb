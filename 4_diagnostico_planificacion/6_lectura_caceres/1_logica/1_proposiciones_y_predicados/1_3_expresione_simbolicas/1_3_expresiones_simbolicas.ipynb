{
 "cells": [
  {
   "cell_type": "markdown",
   "id": "dc06dec7",
   "metadata": {
    "slideshow": {
     "slide_type": "slide"
    }
   },
   "source": [
    "<table align=\"left\">\n",
    "  <td>\n",
    "    <a href=\"https://colab.research.google.com/github/marco-canas/fundamentos_logica/blob/main/4_fase_1_diagnostico_planificacion/6_lectura_caceres/1_logica/1_proposiciones_y_predicados/1_3_expresione_simbolicas/1_3_expresiones_simbolicas.ipynb\" target=\"_parent\"><img src=\"https://colab.research.google.com/assets/colab-badge.svg\" alt=\"Open In Colab\"/></a>\n",
    "  </td>\n",
    "  <td>\n",
    "    <a target=\"_blank\" href=\"https://kaggle.com/kernels/welcome?src=https://github.com/marco-canas/fundamentos_logica/blob/main/4_fase_1_diagnostico_planificacion/6_lectura_caceres/1_logica/1_proposiciones_y_predicados/1_3_expresione_simbolicas/1_3_expresiones_simbolicas.ipynb\"><img src=\"https://kaggle.com/static/images/open-in-kaggle.svg\" /></a>\n",
    "  </td>\n",
    "</table>"
   ]
  },
  {
   "cell_type": "code",
   "execution_count": 32,
   "id": "68e2ddc1",
   "metadata": {},
   "outputs": [],
   "source": [
    "# función de usuario para el código QR \n",
    "\n",
    "# Instalación necesaria si no tienes qrcode\n",
    "# # !pip install qrcode[pil]\n",
    "\n",
    "import qrcode\n",
    "from IPython.display import Image, display\n",
    "from io import BytesIO\n",
    "\n",
    "def generar_qr(url: str, box_size: int = 10, border: int = 4):\n",
    "    \"\"\"\n",
    "    Genera y muestra en Jupyter un código QR para la URL dada.\n",
    "    \n",
    "    Parámetros:\n",
    "    -----------\n",
    "    url : str\n",
    "        Dirección web o texto a codificar en el QR.\n",
    "    box_size : int\n",
    "        Tamaño de cada caja (pixel) en el QR.\n",
    "    border : int\n",
    "        Grosor del borde del QR (en cajas).\n",
    "    \"\"\"\n",
    "    # Crear el objeto QR\n",
    "    qr = qrcode.QRCode(\n",
    "        version=1,\n",
    "        box_size=box_size,\n",
    "        border=border\n",
    "    )\n",
    "    qr.add_data(url)\n",
    "    qr.make(fit=True)\n",
    "\n",
    "    # Convertir a imagen\n",
    "    img = qr.make_image(fill_color=\"black\", back_color=\"white\")\n",
    "\n",
    "    # Guardar en memoria para mostrar en Jupyter\n",
    "    buffer = BytesIO()\n",
    "    img.save(buffer, format=\"PNG\")\n",
    "    buffer.seek(0)\n",
    "    display(Image(data=buffer.getvalue()))\n"
   ]
  },
  {
   "cell_type": "code",
   "execution_count": 33,
   "id": "c3179020",
   "metadata": {},
   "outputs": [
    {
     "data": {
      "image/png": "[encoded data removed]",
      "text/plain": [
       "<IPython.core.display.Image object>"
      ]
     },
     "metadata": {},
     "output_type": "display_data"
    }
   ],
   "source": [
    "\n",
    "# Ejemplo de uso en Jupyter:\n",
    "generar_qr(\"https://colab.research.google.com/github/marco-canas/fundamentos_logica/blob/main/4_fase_1_diagnostico_planificacion/6_lectura_caceres/1_logica/1_proposiciones_y_predicados/1_3_expresione_simbolicas/1_3_expresiones_simbolicas.ipynb\")\n"
   ]
  },
  {
   "cell_type": "markdown",
   "id": "e0c5b198",
   "metadata": {
    "slideshow": {
     "slide_type": "slide"
    }
   },
   "source": [
    "## [Video de apoyo a la lectura interactiva y experimental de este cuaderno](https://www.youtube.com/watch?v=w_19z8kWMxM)"
   ]
  },
  {
   "cell_type": "markdown",
   "id": "41e82203",
   "metadata": {
    "slideshow": {
     "slide_type": "slide"
    }
   },
   "source": [
    "### [Vínculo al programa del curso de Fundamentos de Lógica:](https://github.com/marco-canas/fundamentos_logica/blob/main/3_programa_curso/1_programa_logica.md)\n",
    "\n"
   ]
  },
  {
   "cell_type": "markdown",
   "id": "d11ab06d",
   "metadata": {
    "slideshow": {
     "slide_type": "slide"
    }
   },
   "source": [
    "Un reconocimiento a mis estudiantes que han construido conmigo este saber pedagógico:\n",
    "\n",
    "<img src = 'https://github.com/marco-canas/fundamentos_logica/blob/main/images/analisis_numerico_2025-05-27.jpeg?raw=true'>  \n",
    "\n"
   ]
  },
  {
   "cell_type": "markdown",
   "id": "8a74a56c-0ce6-4ad6-b985-553fd7fb68bb",
   "metadata": {},
   "source": [
    "# Reconocimiento a las profesoras destacadas en enseñanza de la matemática en Colombia  \n"
   ]
  },
  {
   "cell_type": "markdown",
   "id": "27c4e49a",
   "metadata": {},
   "source": [
    "\n",
    "Esta es una lista de **20 mujeres destacadas** por sus contribuciones a la **enseñanza, investigación y divulgación de la lógica y la teoría de conjuntos**, en contextos tanto matemáticos como filosóficos y computacionales. La lista incluye académicas históricas y contemporáneas, de diferentes partes del mundo.\n",
    "\n",
    "\n"
   ]
  },
  {
   "cell_type": "markdown",
   "id": "d18b126a",
   "metadata": {},
   "source": [
    "\n",
    "## **Mujeres destacadas en lógica y teoría de conjuntos**\n"
   ]
  },
  {
   "cell_type": "markdown",
   "id": "596f773e",
   "metadata": {},
   "source": [
    "\n",
    "| # | Nombre | País | Aportes principales |\n",
    "|---|--------|------|---------------------|\n",
    "| 1. | **Christine Ladd-Franklin** | EE.UU. | Primera mujer en formular trabajos en lógica simbólica y álgebra booleana. Alumna de Peirce. |\n",
    "| 2. | **Emilie du Châtelet** | Francia | Precursora del pensamiento racional en matemáticas, influenció la lógica natural. |\n",
    "| 3. | **Ruth Barcan Marcus** | EE.UU. | Fundadora de la lógica modal cuantificacional; creadora de las fórmulas de Barcan. |\n",
    "| 4. | **Julia Robinson** | EE.UU. | Trabajó en lógica matemática, teoría de la decisión y problemas de Hilbert. |\n",
    "| 5. | **Anne Troelstra** (en colaboración con L.E.J. Brouwer) | Países Bajos | Contribuyó a la lógica intuicionista y constructiva. |\n",
    "| 6. | **Dorothy Edgington** | Reino Unido | Importante en semántica de condicionales y lógica filosófica. |\n",
    "| 7. | **Valeria de Paiva** | Brasil / Reino Unido | Investigadora en lógica categórica y lógica en ciencias computacionales. |\n",
    "| 8. | **Sara Negri** https://sites.google.com/view/saranegri/home | Finlandia / Italia | Especialista en teoría de demostraciones y lógica formal. |\n",
    "| 9. | **Mária Kaluszová** | Eslovaquia | Investigadora en lógica matemática, álgebra booleana y educación matemática. |\n",
    "| 10. | **Louise McNally** | EE.UU. / España | Ha trabajado en semántica formal y lógica del lenguaje natural. |\n",
    "| 11. | **Juliet Floyd** | EE.UU. | Historiadora de la lógica y el pensamiento de Gödel, Turing y Wittgenstein. |\n",
    "| 12. | **Dagmar Sattler-Klein** | Alemania | Contribuciones a la lógica computacional y educación en matemáticas. |\n",
    "| 13. | **Penelope Maddy** | EE.UU. | Filósofa de la matemática, especializada en teoría de conjuntos y realismo matemático. |\n",
    "| 14. | **Anil Nerode (con tribuciones compartidas con su esposa, Lois Nerode)** | EE.UU. | Investigación conjunta en lógica y teoría de autómatas. |\n",
    "| 15. | **Joan Moschovakis** | EE.UU. | Investigadora en lógica intuicionista, teoría de funciones recursivas. |\n",
    "| 16. | **Phoebe McLaughlin** | Australia | Enseñanza de lógica matemática y computacional. |\n",
    "| 17. | **Francesca Poggiolesi** | Francia | Especialista en lógica subestructural, demostraciones, y epistemología formal. |\n",
    "| 18. | **Helena Rasiowa** | Polonia | Autora influyente en lógica algebraica y lógica matemática computacional. |\n",
    "| 19. | **Mary Tiles** | Reino Unido | Historiadora de la lógica y la teoría de conjuntos, enfocada en matemáticas del siglo XIX. |\n",
    "| 20. | **Barbara Partee** | EE.UU. | Lingüista y lógica; pionera en semántica formal y su aplicación al lenguaje natural. |\n",
    "\n",
    "---\n"
   ]
  },
  {
   "cell_type": "markdown",
   "id": "010e9b58",
   "metadata": {},
   "source": [
    "\n",
    "## ¿Cómo utilizar esta lista en tu curso?\n",
    "\n",
    "Puedes:\n"
   ]
  },
  {
   "cell_type": "markdown",
   "id": "79ecf3fa",
   "metadata": {},
   "source": [
    "\n",
    "- Diseñar una **galería de mujeres en la lógica** en tu repositorio GitHub con biografías y recursos asociados.\n"
   ]
  },
  {
   "cell_type": "markdown",
   "id": "4e2040aa",
   "metadata": {},
   "source": [
    "- Crear **actividades de lectura e investigación**, como mini-biografías o análisis de sus aportes.\n"
   ]
  },
  {
   "cell_type": "markdown",
   "id": "c82727c7",
   "metadata": {},
   "source": [
    "- Invitar a algunas (como Valeria de Paiva o Sara Negri) a encuentros virtuales.\n",
    "- Generar un **podcast o video de YouTube** titulado *“Mujeres que transformaron la lógica”* para tu canal *DiMathData*.\n",
    "\n",
    "\n"
   ]
  },
  {
   "cell_type": "markdown",
   "id": "617f4090",
   "metadata": {},
   "source": [
    "\n",
    "¿Quieres que te ayude a construir esa galería o una línea del tiempo interactiva con sus aportes?\n"
   ]
  },
  {
   "cell_type": "code",
   "execution_count": 1,
   "id": "b179a7ed",
   "metadata": {},
   "outputs": [
    {
     "data": {
      "application/vnd.microsoft.datawrangler.viewer.v0+json": {
       "columns": [
        {
         "name": "index",
         "rawType": "int64",
         "type": "integer"
        },
        {
         "name": "Cedula",
         "rawType": "int64",
         "type": "integer"
        },
        {
         "name": "Nombre",
         "rawType": "object",
         "type": "string"
        },
        {
         "name": "Email",
         "rawType": "object",
         "type": "string"
        }
       ],
       "ref": "24d6484a-d1e8-4322-95db-08da3600543e",
       "rows": [
        [
         "0",
         "1066727564",
         "ARIAS ARRIETA FREDY",
         "fredy.arias1@udea.edu.co"
        ],
        [
         "1",
         "1066512662",
         "BOHORQUEZ NAVARRO DINA ESTELA",
         "dina.bohorquez@udea.edu.co"
        ],
        [
         "2",
         "1216729759",
         "CARDONA RAMÍREZ SARA PAULINA",
         "sara.cardona7@udea.edu.co"
        ],
        [
         "3",
         "5798176",
         "CASTANEDA REINOZA DIEGO",
         "diego.castaneda2@udea.edu.co"
        ],
        [
         "4",
         "1001549324",
         "HERRERA CASTILLO LUKAS MATEO",
         "lukas.herrera@udea.edu.co"
        ],
        [
         "5",
         "1066600808",
         "LUCAS FLOREZ NAYELIS NATALIA",
         "natalia.lucas@udea.edu.co"
        ],
        [
         "6",
         "1038096462",
         "OCHOA ARRIETA JUAN ANDRES",
         "juan.ochoaa1@udea.edu.co"
        ],
        [
         "7",
         "1129805697",
         "RUIZ CARDENAS LUIS MARIO",
         "luismario.ruiz@udea.edu.co"
        ],
        [
         "8",
         "1137974924",
         "TAMAYO DE LA OSSA SARA",
         "sara.tamayod@udea.edu.co"
        ]
       ],
       "shape": {
        "columns": 3,
        "rows": 9
       }
      },
      "text/html": [
       "<div>\n",
       "<style scoped>\n",
       "    .dataframe tbody tr th:only-of-type {\n",
       "        vertical-align: middle;\n",
       "    }\n",
       "\n",
       "    .dataframe tbody tr th {\n",
       "        vertical-align: top;\n",
       "    }\n",
       "\n",
       "    .dataframe thead th {\n",
       "        text-align: right;\n",
       "    }\n",
       "</style>\n",
       "<table border=\"1\" class=\"dataframe\">\n",
       "  <thead>\n",
       "    <tr style=\"text-align: right;\">\n",
       "      <th></th>\n",
       "      <th>Cedula</th>\n",
       "      <th>Nombre</th>\n",
       "      <th>Email</th>\n",
       "    </tr>\n",
       "  </thead>\n",
       "  <tbody>\n",
       "    <tr>\n",
       "      <th>0</th>\n",
       "      <td>1066727564</td>\n",
       "      <td>ARIAS ARRIETA FREDY</td>\n",
       "      <td>fredy.arias1@udea.edu.co</td>\n",
       "    </tr>\n",
       "    <tr>\n",
       "      <th>1</th>\n",
       "      <td>1066512662</td>\n",
       "      <td>BOHORQUEZ NAVARRO DINA ESTELA</td>\n",
       "      <td>dina.bohorquez@udea.edu.co</td>\n",
       "    </tr>\n",
       "    <tr>\n",
       "      <th>2</th>\n",
       "      <td>1216729759</td>\n",
       "      <td>CARDONA RAMÍREZ SARA PAULINA</td>\n",
       "      <td>sara.cardona7@udea.edu.co</td>\n",
       "    </tr>\n",
       "    <tr>\n",
       "      <th>3</th>\n",
       "      <td>5798176</td>\n",
       "      <td>CASTANEDA REINOZA DIEGO</td>\n",
       "      <td>diego.castaneda2@udea.edu.co</td>\n",
       "    </tr>\n",
       "    <tr>\n",
       "      <th>4</th>\n",
       "      <td>1001549324</td>\n",
       "      <td>HERRERA CASTILLO LUKAS MATEO</td>\n",
       "      <td>lukas.herrera@udea.edu.co</td>\n",
       "    </tr>\n",
       "    <tr>\n",
       "      <th>5</th>\n",
       "      <td>1066600808</td>\n",
       "      <td>LUCAS FLOREZ NAYELIS NATALIA</td>\n",
       "      <td>natalia.lucas@udea.edu.co</td>\n",
       "    </tr>\n",
       "    <tr>\n",
       "      <th>6</th>\n",
       "      <td>1038096462</td>\n",
       "      <td>OCHOA ARRIETA JUAN ANDRES</td>\n",
       "      <td>juan.ochoaa1@udea.edu.co</td>\n",
       "    </tr>\n",
       "    <tr>\n",
       "      <th>7</th>\n",
       "      <td>1129805697</td>\n",
       "      <td>RUIZ CARDENAS LUIS MARIO</td>\n",
       "      <td>luismario.ruiz@udea.edu.co</td>\n",
       "    </tr>\n",
       "    <tr>\n",
       "      <th>8</th>\n",
       "      <td>1137974924</td>\n",
       "      <td>TAMAYO DE LA OSSA SARA</td>\n",
       "      <td>sara.tamayod@udea.edu.co</td>\n",
       "    </tr>\n",
       "  </tbody>\n",
       "</table>\n",
       "</div>"
      ],
      "text/plain": [
       "       Cedula                         Nombre                         Email\n",
       "0  1066727564            ARIAS ARRIETA FREDY      fredy.arias1@udea.edu.co\n",
       "1  1066512662  BOHORQUEZ NAVARRO DINA ESTELA    dina.bohorquez@udea.edu.co\n",
       "2  1216729759   CARDONA RAMÍREZ SARA PAULINA     sara.cardona7@udea.edu.co\n",
       "3     5798176        CASTANEDA REINOZA DIEGO  diego.castaneda2@udea.edu.co\n",
       "4  1001549324   HERRERA CASTILLO LUKAS MATEO     lukas.herrera@udea.edu.co\n",
       "5  1066600808   LUCAS FLOREZ NAYELIS NATALIA     natalia.lucas@udea.edu.co\n",
       "6  1038096462      OCHOA ARRIETA JUAN ANDRES      juan.ochoaa1@udea.edu.co\n",
       "7  1129805697       RUIZ CARDENAS LUIS MARIO    luismario.ruiz@udea.edu.co\n",
       "8  1137974924         TAMAYO DE LA OSSA SARA      sara.tamayod@udea.edu.co"
      ]
     },
     "execution_count": 1,
     "metadata": {},
     "output_type": "execute_result"
    }
   ],
   "source": [
    "import pandas as pd\n",
    "import numpy as np\n",
    "\n",
    "# Cargar la lista de estudiantes desde el archivo CSV\n",
    "path = 'C:/Users/marco/Documentos/docencia/groups_list/logica.xlsx'\n",
    "df = pd.read_excel(path)\n",
    "\n",
    "df.head(9)"
   ]
  },
  {
   "cell_type": "markdown",
   "id": "d7598d0a-d9b7-4ae0-b029-a0ed6ed1130b",
   "metadata": {},
   "source": [
    "\n",
    "# Principios de mi labor docente"
   ]
  },
  {
   "cell_type": "markdown",
   "id": "4f9d8cf9",
   "metadata": {
    "slideshow": {
     "slide_type": "slide"
    }
   },
   "source": [
    "## Modelo general de clase: [aula invertida](https://www3.gobiernodecanarias.org/medusa/ecoescuela/pedagotic/aprendizaje-invertido-flipped-classroom/)"
   ]
  },
  {
   "cell_type": "markdown",
   "id": "eb6ed03a",
   "metadata": {},
   "source": [
    "<img src = 'https://resources.maneuveringthemiddle.com/wp-content/uploads/2020/07/04212706/1-5.png' width = 500>  \n",
    "\n"
   ]
  },
  {
   "cell_type": "markdown",
   "id": "34319cce-a71b-4f64-aab8-b53e521efa40",
   "metadata": {},
   "source": [
    "# Metodología de Aprendizaje Basado en Problemas y Proyectos (ABPP) \n"
   ]
  },
  {
   "cell_type": "markdown",
   "id": "c4f73d81",
   "metadata": {},
   "source": [
    "\n",
    "<img src = 'https://www.unir.net/wp-content/uploads/2020/07/aprendizaje-problemas2-1-1-1-1.jpeg' width = 500>"
   ]
  },
  {
   "cell_type": "markdown",
   "id": "841a985c-bd9b-4dd3-8e4c-893983980af2",
   "metadata": {},
   "source": [
    "# Desarrollo del pensamiento computacional con Lenguajes Python y R, y con archivos Markdown orientado a la formación en ciencia de datos \n",
    "\n"
   ]
  },
  {
   "cell_type": "markdown",
   "id": "3d0eba94",
   "metadata": {},
   "source": [
    "\n",
    "<img src = 'https://i.ytimg.com/vi/mcG_wcR4e6M/maxresdefault.jpg' width = 200>"
   ]
  },
  {
   "cell_type": "markdown",
   "id": "65aa0404-f7ae-495e-864c-1aec01b4255e",
   "metadata": {},
   "source": [
    "# Principio de fomento a la ciencia abierta, enseñar en el acceso a los datos públicos y el uso de software de código abierto  \n"
   ]
  },
  {
   "cell_type": "markdown",
   "id": "18ae9b87",
   "metadata": {},
   "source": [
    "\n",
    "<img src = 'https://unesdoc.unesco.org/in/rest/Thumb/image?id=p%3A%3Ausmarcdef_0000379949_spa&author=UNESCO&title=Recomendaci%C3%B3n+de+la+UNESCO+sobre+la+Ciencia+Abierta&year=2021&publisher=UNESCO&TypeOfDocument=UnescoPhysicalDocument&mat=PGD&ct=true&size=512&isPhysical=1' width = 200>"
   ]
  },
  {
   "cell_type": "markdown",
   "id": "d9559f85",
   "metadata": {},
   "source": [
    "El enfoque STEAMS en educación preescolar, primaria y secundaria es una extensión del enfoque STEM (Ciencia, Tecnología, Ingeniería y Matemáticas) y su variante STEAM, que incorpora el Arte. "
   ]
  },
  {
   "cell_type": "markdown",
   "id": "9d556584",
   "metadata": {},
   "source": [
    "En educación preescolar, primaria, secundaria y superior, se adapta a las diferentes etapas de desarrollo cognitivo y emocional de los estudiantes, promoviendo el aprendizaje activo y contextualizado.  \n"
   ]
  },
  {
   "cell_type": "markdown",
   "id": "0130ec1b",
   "metadata": {},
   "source": [
    "\n",
    "<img src = 'https://www.campuseducacion.com/blog/wp-content/uploads/2023/03/foto01-1.jpg' width = 200>"
   ]
  },
  {
   "cell_type": "markdown",
   "id": "9d15c10d-2c02-4158-9419-b1ed79b4c1ee",
   "metadata": {},
   "source": [
    "# Qué estamos haciendo por la internalización en esta clase y este curso  \n"
   ]
  },
  {
   "cell_type": "markdown",
   "id": "6e4feef2",
   "metadata": {},
   "source": [
    "Estas son mis acciones como docente de matemáticas en la Universidad de Antioquia con miras a la **internacionalización** de mi práctica docente y el desarrollo de competencias internacionales para mis estudiantes, ls cuales he estructurado con el siguiente enfoque:\n"
   ]
  },
  {
   "cell_type": "markdown",
   "id": "964d9de7-53ee-4255-9bcd-d8e6454f2993",
   "metadata": {},
   "source": [
    "### 1. **Visión Global en la Formación Académica**\n"
   ]
  },
  {
   "cell_type": "markdown",
   "id": "d9bdd3e2",
   "metadata": {},
   "source": [
    "   - **Competencias Internacionales**: Asegúrate de que el contenido de tus cursos fomente habilidades que sean reconocidas globalmente. "
   ]
  },
  {
   "cell_type": "markdown",
   "id": "47dad129",
   "metadata": {},
   "source": [
    "Al educar a los estudiantes en **Python, LaTeX, Markdown y Jupyter Notebooks** y en la **introducción a la ciencia de datos y técnicas de Machine Learning**, estás proporcionando competencias altamente demandadas en los sectores tecnológicos y académicos a nivel internacional.\n"
   ]
  },
  {
   "cell_type": "markdown",
   "id": "39b55206",
   "metadata": {},
   "source": [
    "   - **Relevancia de los Contenidos**: Destaca cómo los temas que enseñas, como el **desarrollo del pensamiento computacional** y la **ciencia de datos**, están alineados con las necesidades globales actuales en diversas industrias, desde la tecnología hasta las ciencias naturales y sociales.\n"
   ]
  },
  {
   "cell_type": "markdown",
   "id": "a054599e",
   "metadata": {},
   "source": [
    "   - **Referencias a Estándares Internacionales**: Puedes vincular tu enseñanza a estándares internacionales de competencias en programación y ciencia de datos (por ejemplo, frameworks del **IEEE, ACM**, y estándares de la **data science** o la **computación en la nube**)."
   ]
  },
  {
   "cell_type": "markdown",
   "id": "0f1d110c-3142-48fe-9e7d-5fbd9e8bb931",
   "metadata": {},
   "source": [
    "### 2. **Innovación Pedagógica con Enfoque Internacional**\n"
   ]
  },
  {
   "cell_type": "markdown",
   "id": "fae6ae34",
   "metadata": {},
   "source": [
    "   - **Aula Invertida y ABP**: Presenta cómo tu enfoque de **aula invertida** y **aprendizaje basado en problemas (ABP)** permite a los estudiantes trabajar de manera autónoma y colaborativa, lo que los prepara para escenarios laborales internacionales que requieren autoaprendizaje y habilidades de resolución de problemas en equipo.\n"
   ]
  },
  {
   "cell_type": "markdown",
   "id": "c83062d9",
   "metadata": {},
   "source": [
    "   - **Uso de Jupyter Notebooks**: El uso de **Jupyter Notebooks** en tus clases no solo facilita la **integración de código, matemáticas y texto**, sino que también es una plataforma utilizada globalmente en ambientes académicos y profesionales, lo que hace a tus estudiantes más competitivos internacionalmente."
   ]
  },
  {
   "cell_type": "markdown",
   "id": "960d52b7-03cd-4eb3-965e-5cdfeb7d9f8e",
   "metadata": {},
   "source": [
    "### 3. **Tecnología y Herramientas de Uso Global**\n"
   ]
  },
  {
   "cell_type": "markdown",
   "id": "4be7269f",
   "metadata": {},
   "source": [
    "   - **Lenguaje Python**: Python es uno de los lenguajes de programación más usados a nivel mundial, tanto en la academia como en la industria. "
   ]
  },
  {
   "cell_type": "markdown",
   "id": "a3abaac8",
   "metadata": {},
   "source": [
    "Al formar a tus estudiantes en Python para ciencia de datos y machine learning, los preparas para operar en entornos tecnológicos globales.\n"
   ]
  },
  {
   "cell_type": "markdown",
   "id": "102655af",
   "metadata": {},
   "source": [
    "   - **Herramientas de Ciencia Abierta**: Resalta cómo herramientas como **GitHub**, **Google Colab** y otras plataformas de código abierto están alineadas con el movimiento de **ciencia abierta**, el cual es internacionalmente reconocido y permite que los estudiantes colaboren y compartan proyectos a nivel global."
   ]
  },
  {
   "cell_type": "markdown",
   "id": "3b2ffa32-7a6f-4545-ba7b-c6a69f51109f",
   "metadata": {},
   "source": [
    "### 4. **Investigación y Publicaciones Internacionales**\n"
   ]
  },
  {
   "cell_type": "markdown",
   "id": "bdbf52a5",
   "metadata": {},
   "source": [
    "   - **Promoción de la Investigación**: Detalla cómo promueves que tus estudiantes participen en proyectos de **investigación aplicada**, con posibilidad de publicación en revistas internacionales. "
   ]
  },
  {
   "cell_type": "markdown",
   "id": "df13a52f",
   "metadata": {},
   "source": [
    "Esto contribuye a la reputación internacional de la Universidad de Antioquia.\n"
   ]
  },
  {
   "cell_type": "markdown",
   "id": "ea01fcbc",
   "metadata": {},
   "source": [
    "   - **Colaboraciones Internacionales**: Si has colaborado con investigadores de otras instituciones o universidades en el extranjero, menciona estos proyectos y cómo han enriquecido tu enseñanza y proporcionado a los estudiantes una visión más globalizada."
   ]
  },
  {
   "cell_type": "markdown",
   "id": "5d1e396e-aece-4bf7-9421-32fa7809eaf4",
   "metadata": {},
   "source": [
    "## 5. **Uso del Inglés para la Internacionalización**\n"
   ]
  },
  {
   "cell_type": "markdown",
   "id": "29cabf26",
   "metadata": {},
   "source": [
    "   - **Comunicación Científica en Inglés**: "
   ]
  },
  {
   "cell_type": "markdown",
   "id": "8ec53ff3",
   "metadata": {},
   "source": [
    "Fomentar el aprendizaje del inglés como lengua científica es clave para que tus estudiantes puedan acceder a publicaciones internacionales, conferencias, y material académico que no está disponible en español. "
   ]
  },
  {
   "cell_type": "markdown",
   "id": "12b4cdcf",
   "metadata": {},
   "source": [
    "Esto es esencial para que adquieran competencias que les permitan desempeñarse en cualquier contexto internacional.\n"
   ]
  },
  {
   "cell_type": "markdown",
   "id": "b831224f",
   "metadata": {},
   "source": [
    "   - **Material Bilingüe**: Al generar material educativo en Python, LaTeX y Markdown, considera ofrecer algunos de estos recursos en inglés, para que los estudiantes se familiaricen con el vocabulario técnico y científico internacional."
   ]
  },
  {
   "cell_type": "markdown",
   "id": "c6a8c3b0-426a-4692-a384-3065aea81c9a",
   "metadata": {},
   "source": [
    "### 6. **Certificaciones y Estándares Internacionales**\n"
   ]
  },
  {
   "cell_type": "markdown",
   "id": "b1f41da5",
   "metadata": {},
   "source": [
    "   - **Participación en Certificaciones Internacionales**: Impulsa que los estudiantes busquen certificaciones internacionales en Python o ciencia de datos (como las ofrecidas por **Coursera, edX,** o **Google**). "
   ]
  },
  {
   "cell_type": "markdown",
   "id": "0279b6b6",
   "metadata": {},
   "source": [
    "Estas certificaciones no solo validan sus competencias, sino que también incrementan el reconocimiento de la Universidad de Antioquia en el contexto internacional.\n"
   ]
  },
  {
   "cell_type": "markdown",
   "id": "7cc66317",
   "metadata": {},
   "source": [
    "   - **Alineación con Acreditaciones Internacionales**: Vincula tu trabajo docente con los estándares de acreditación y certificación que garantizan que la universidad siga siendo reconocida internacionalmente. "
   ]
  },
  {
   "cell_type": "markdown",
   "id": "116629e7",
   "metadata": {},
   "source": [
    "Puedes vincularte con organizaciones internacionales que promuevan la excelencia en la educación y tecnología, como **ABET** para la acreditación en ingeniería y ciencias computacionales."
   ]
  },
  {
   "cell_type": "markdown",
   "id": "65d3d9e1-ea84-43e0-8197-a2a9c9e21594",
   "metadata": {},
   "source": [
    "### 7. **Proyectos Abiertos y Ciencia Reproducible**\n"
   ]
  },
  {
   "cell_type": "markdown",
   "id": "f03f7b20",
   "metadata": {},
   "source": [
    "   - **GitHub y Open Science**: La utilización de **GitHub** para almacenar los proyectos y materiales de enseñanza en repositorios públicos permite que otros investigadores y educadores internacionales puedan revisar y replicar tu trabajo. "
   ]
  },
  {
   "cell_type": "markdown",
   "id": "b0d16f59",
   "metadata": {},
   "source": [
    "Esto contribuye a la creación de una red de colaboración científica abierta.\n"
   ]
  },
  {
   "cell_type": "markdown",
   "id": "7dd85589",
   "metadata": {},
   "source": [
    "   - **Transparencia y Reproducibilidad**: La ciencia de datos y machine learning están profundamente ligados a la reproducibilidad. "
   ]
  },
  {
   "cell_type": "markdown",
   "id": "386bb5bf",
   "metadata": {},
   "source": [
    "Asegura que tus estudiantes desarrollen prácticas de transparencia y documentación en la investigación, que son pilares en la comunidad científica global.\n"
   ]
  },
  {
   "cell_type": "markdown",
   "id": "215cb551",
   "metadata": {},
   "source": [
    "\n",
    "### 8. **Participación en Redes y Conferencias Internacionales**\n"
   ]
  },
  {
   "cell_type": "markdown",
   "id": "685d90a6",
   "metadata": {},
   "source": [
    "   - **Presentación en Conferencias Internacionales**: Destaca cómo tu participación en conferencias internacionales (como la **ASCOLFA** o eventos sobre educación en matemáticas) contribuye al prestigio de la universidad y permite que tus prácticas sean evaluadas y reconocidas a nivel global.\n"
   ]
  },
  {
   "cell_type": "markdown",
   "id": "cdf46e29",
   "metadata": {},
   "source": [
    "   - **Promoción de Estudiantes en Eventos Internacionales**: Impulsa la participación de tus estudiantes en competiciones internacionales de programación o hackathons, como los organizados por **Google**, **ACM** o **Kaggle**. "
   ]
  },
  {
   "cell_type": "markdown",
   "id": "482a7f87",
   "metadata": {},
   "source": [
    "Esto no solo desarrolla sus habilidades, sino que también visibiliza el talento de la Universidad de Antioquia a nivel global.\n",
    "\n",
    "---"
   ]
  },
  {
   "cell_type": "markdown",
   "id": "233294a4-1983-4641-a7ad-866825e02315",
   "metadata": {},
   "source": [
    "Con esta estrategia, presento mis acciones docentes en términos de competencias internacionales, innovación pedagógica, tecnología, investigación y participación en redes globales, asegurando que mi práctica esté alineada con los estándares internacionales y que tus estudiantes estén preparados para competir en contextos internacionales."
   ]
  },
  {
   "cell_type": "code",
   "execution_count": 2,
   "id": "0c673e3c",
   "metadata": {},
   "outputs": [],
   "source": [
    "# Gestión del guardado de imagenes  \n",
    "\n",
    "def save_fig(nombre_archivo_imagen):\n",
    "    import os \n",
    "    import matplotlib.pyplot as plt\n",
    "    ubicacion_para_imagenes = r\"C:/Users/marco/Downloads\"\n",
    "    imagen_path = os.path.join(ubicacion_para_imagenes, nombre_archivo_imagen)\n",
    "    plt.savefig(imagen_path, bbox_inches='tight')"
   ]
  },
  {
   "cell_type": "markdown",
   "id": "10e55ccf",
   "metadata": {},
   "source": [
    "# Prompt de diseño de clase: \n",
    "\n",
    "Dame, por favor, un diseño de clase, con la conjugación de los enfoques: STEAMS  y de aprendizaje basado en problemas y proyectos(ABPP) y Teoría de Registros de Representación Semiótica de Duval; sobre: **\"1.3 Expresiones simbólicas segúnn las páginas 22 a 26 del PDF del libro 'Matemáticas discretas: una perspectiva funcional con Python 3.x' que encuentras en: https://ri.ujat.mx/handle/200.500.12107/3942 \"**, siguiendo la estructura:   \n",
    "\n",
    "1. Título de la clase   \n",
    "   \n",
    "2. Objetivo de aprendizaje e indicadores de logro de estos objetivos.   \n",
    "   Diseña la clase incluyendo objetivos de educación matemática basada en el pensamiento crítico.   \n",
    "\n",
    "3.  Un mapa conceptual que resuma la clase elaborado en Graphviz de python con nodos y edges de diferentes formas, colores y rellenos y renderizado en la siguiente ubicación: `\"C:/Users/marco/Downloads\"`. No olvides el parámetro `view = True` para el método `render()` de Graphviz. Para este mapa controla las superposiciones de los nodos con: graph [overlap=false]; // Elimina superposiciones (puede aumentar el espacio)\n",
    "graph [overlap=\"scalexy\"]; // Escala el gráfico para evitar overlaps\n",
    "graph [overlap=\"compress\"]; // Comprime el grafo sin overlaps   \n",
    "   \n",
    "4. Contenido de la clase    \n",
    "   \n",
    "5. Incluye una canción o un poema que ayude a interiorizar y fijar los conceptos asociados a esta clase.  \n",
    "   \n",
    "6. Dame elementos históricos y epistemológicos asociados a esta clase, pero contados como un cuento al estilo de un cuentero antioqueño en Colombia. Incluye imágenes de los protagonistas históricos de esta clase.   \n",
    "   \n",
    "7. Actividades de aprendizaje    \n",
    "     * Incluya actividades de aprendizaje utilizando Calculadora **Casio 991 LA cw**\n",
    "     * Incluya también actividades de aprendizaje y modelación de situaciones o problemas reales a través de circuitos lógicos y circuitos digitales o electrónicos utilizando la aplicación portable cocodrilo. [Descarge esta aplicación portable aquí](https://crocodileclips.net/descargar-crocodile-clips/) \n",
    "     * Incluye actividades de aprendizaje utilizando lenguaje Python y Jupyter Notebook.   \n",
    "\n",
    "8. Incluye una canción o un poema que ayude a interiorizar y fijar los conceptos asociados a esta clase.  \n",
    "\n",
    "9.  Tarea o actividades de ejercitación y fijación.  \n",
    "     * Diseña 20 item de tareas de tal manera que en cada ejercicio se realicen las siguientes cuatro preguntas:  \n",
    "        - ¿Por qué esta expresión representa el problema?\n",
    "        - ¿Qué pasaría si cambiamos este valor?\n",
    "        - ¿Hay otra manera de resolverlo?\n",
    "        - ¿Cómo justificas que tu resultado es razonable? \n",
    "    \n",
    "10.  Evaluación incluyendo diez proyectos, un ejemplo de quiz y un ejemplo de parcial.  \n",
    "     * Diseña el quiz con preguntas, donde se pida al estudiante el mostrar la aplicación de las expresiones lógicas en contextos: \n",
    "       - Deportivos\n",
    "       - Cotidianos\n",
    "       - Matemáticas en teoría de números \n",
    "       - Matemáticas en geometría euclidiana\n",
    "       - Matemática en Cálculo Diferencial.\n",
    "       - Económicos. \n",
    "     * Actividad de desarrollo de habilidades metacognitivas para hacernos consientes de nuestro propio proceso de aprendizaje y de la importancia de la evaluación continua.\n",
    "\n",
    "11.  Diseño de actividad de retroalimentación.  \n",
    "      \n",
    "12.  Dame un vocabulario y frases del idioma inglés asociadas a esta clase.   \n",
    "    \n",
    "13.  Incluye apéndice para la clase sobre desarrollo de habilidades para trabajar en equipo y de asertividad y empatía para relacionarnos. También elementos de la inteligencia emocional para presentar pruebas sin temor y desarrollar habilidades metacognitivas.   \n",
    "      \n",
    "14. Incluye 10 referentes en didáctica de la matemática que estén de acuerdo a la propuesta didáctica de esta clase. Adiciona a estos referentes a Raymond Duval (Representaciones y cambios de representación para la adquisición de conceptos matemáticos) y a Jeannette Wing (Desarrollo del pensamiento computacional). Déjame todos estos referentes ordenados de acuerdo a las normas APA. Déjame todos estos referentes ordenados de acuerdo a las normas APA. Incluye las citaciones a estos referentes a medida que vallas diseñando la clase. \n",
    "\n",
    "\n",
    "Pero  que este diseño sea para que el estudiante pueda aprender experimentando en cuadernos Jupyter con funciones de usuario y animaciones y visualizaciones en Python. En particular utiliza para el diseño de clase a NumPy, Pandas, SymPy, Matplotlib.pyplot, Seaborn, Plotly, ipywidgets, matplotlib.animation y Jupyter Notebook.  \n",
    "Cuando vallas a utilizar SymPy, ten en cuanta la siguiente configuración: \n",
    "# Corrección y mejora del código\n",
    "from sympy import symbols, Equivalent\n",
    "from sympy.logic.boolalg import truth_table\n",
    "\n",
    "Cada vez que utilices `matplotlib.animacion` no olvides incluir el uso de `IPython. display` para la renderización de estas animaciones a través de Jupyter Notebook. No olvides darme los diseños de clase con las ecuaciones matemáticas delimitadas con signo de dólar $ para que VS Code si me renderice estas expresiones del lenguaje latex. Cuando vallas a utilizar ipywidgets ten en cuenta la siguiente importación inicial para garantizar que la visualización interactiva si se renderice en VS Code:                                                      \n",
    "import numpy as np\n",
    "import matplotlib.pyplot as plt\n",
    "import ipywidgets as widgets\n",
    "from IPython.display import display, clear_output\n",
    "from matplotlib.patches import Rectangle\n",
    "\n",
    "Ubicación del programa del curso: https://github.com/marco-canas/fundamentos_logica/blob/main/3_programa_curso/1_programa_logica.md\n",
    "\n",
    "Ubicación de la lista de estudiantes del curso: https://github.com/marco-canas/groups_list/blob/main/logica.xlsx"
   ]
  },
  {
   "cell_type": "markdown",
   "id": "f916feb9",
   "metadata": {},
   "source": [
    "# Diseño de Clase: Expresiones Simbólicas en Matemáticas Discretas\n"
   ]
  },
  {
   "cell_type": "markdown",
   "id": "e5dae7e1",
   "metadata": {},
   "source": [
    "\n",
    "## 1. Título de la Clase\n",
    "**\"Expresiones Simbólicas: Puente entre la Lógica Matemática y el Pensamiento Computacional\"**\n"
   ]
  },
  {
   "cell_type": "markdown",
   "id": "24e60990",
   "metadata": {},
   "source": [
    "\n",
    "## 2. Objetivos de Aprendizaje e Indicadores\n"
   ]
  },
  {
   "cell_type": "markdown",
   "id": "6734f69b",
   "metadata": {},
   "source": [
    "\n",
    "### Objetivos principales:\n"
   ]
  },
  {
   "cell_type": "markdown",
   "id": "068002e0",
   "metadata": {},
   "source": [
    "- Comprender las expresiones simbólicas como representaciones formales de proposiciones lógicas (Duval, 2004)\n"
   ]
  },
  {
   "cell_type": "markdown",
   "id": "3c1bedc9",
   "metadata": {},
   "source": [
    "- Desarrollar pensamiento computacional mediante la traducción de expresiones simbólicas a código Python (Wing, 2006)\n",
    "- Aplicar expresiones simbólicas en la resolución de problemas interdisciplinares (enfoque STEAMS)\n"
   ]
  },
  {
   "cell_type": "markdown",
   "id": "71d04a22",
   "metadata": {},
   "source": [
    "\n",
    "### Indicadores de logro:\n"
   ]
  },
  {
   "cell_type": "markdown",
   "id": "c416a1d7",
   "metadata": {},
   "source": [
    "1. **Representación:** El estudiante puede expresar proposiciones en notación simbólica (registros semióticos)\n"
   ]
  },
  {
   "cell_type": "markdown",
   "id": "bcc1e01a",
   "metadata": {},
   "source": [
    "2. **Conversión:** Transforma expresiones simbólicas a circuitos lógicos y viceversa\n",
    "3. **Programación:** Implementa expresiones lógicas en Python usando SymPy. \n"
   ]
  },
  {
   "cell_type": "markdown",
   "id": "ed946bbd",
   "metadata": {},
   "source": [
    "4. **Aplicación:** Resuelve problemas reales usando expresiones simbólicas. \n"
   ]
  },
  {
   "cell_type": "markdown",
   "id": "99aa729a",
   "metadata": {},
   "source": [
    "5. **Evaluación:** Justifica la validez de sus soluciones mediante pruebas formales\n"
   ]
  },
  {
   "cell_type": "markdown",
   "id": "895a8159",
   "metadata": {},
   "source": [
    "\n",
    "## 3. Mapa Conceptual\n"
   ]
  },
  {
   "cell_type": "code",
   "execution_count": 1,
   "id": "6b5aa6d2",
   "metadata": {},
   "outputs": [
    {
     "data": {
      "text/plain": [
       "'C:\\\\Users\\\\marco\\\\Downloads\\\\mapa_expresiones_simbolicas.png'"
      ]
     },
     "execution_count": 1,
     "metadata": {},
     "output_type": "execute_result"
    }
   ],
   "source": [
    "from graphviz import Digraph\n",
    "\n",
    "# Configuración del grafo\n",
    "dot = Digraph(comment='Expresiones Simbólicas')\n",
    "dot.attr(rankdir='LR', overlap='false', splines='true')\n",
    "dot.attr('graph', overlap='scalexy')  # Escala para evitar superposiciones\n",
    "dot.attr('graph', overlap='compress')  # Comprime el grafo\n",
    "\n",
    "# Nodos principales\n",
    "dot.node('A', 'Expresiones\\nSimbólicas', shape='doubleoctagon', style='filled', fillcolor='#FFD700')\n",
    "dot.node('B', 'Lógica\\nProposicional', shape='ellipse', style='filled', fillcolor='#ADD8E6')\n",
    "dot.node('C', 'Python\\n(SymPy)', shape='box3d', style='filled', fillcolor='#98FB98')\n",
    "dot.node('D', 'Circuitos\\nLógicos', shape='component', style='filled', fillcolor='#FFA07A')\n",
    "dot.node('E', 'Aplicaciones\\nReales', shape='folder', style='filled', fillcolor='#DDA0DD')\n",
    "\n",
    "# Subnodos\n",
    "dot.node('B1', 'Operadores\\nLógicos', shape='note')\n",
    "dot.node('B2', 'Tablas de\\nVerdad', shape='note')\n",
    "dot.node('C1', 'Funciones\\nDefinidas', shape='tab')\n",
    "dot.node('C2', 'Visualización', shape='tab')\n",
    "dot.node('D1', 'Compuertas\\nLógicas', shape='cds')\n",
    "dot.node('D2', 'Simulación', shape='cds')\n",
    "dot.node('E1', 'STEAMS', shape='star')\n",
    "dot.node('E2', 'ABPP', shape='star')\n",
    "\n",
    "# Conexiones\n",
    "dot.edges(['AB', 'AC', 'AD', 'AE'])\n",
    "dot.edges([('B', 'B1'), ('B', 'B2')])\n",
    "dot.edges([('C', 'C1'), ('C', 'C2')])\n",
    "dot.edges([('D', 'D1'), ('D', 'D2')])\n",
    "dot.edges([('E', 'E1'), ('E', 'E2')])\n",
    "\n",
    "# Renderizar y mostrar\n",
    "dot.render('C:/Users/marco/Downloads/mapa_expresiones_simbolicas', format='png', view=True)\n",
    "\n"
   ]
  },
  {
   "cell_type": "markdown",
   "id": "0b663f79",
   "metadata": {},
   "source": [
    "\n",
    "## 4. Contenido de la Clase\n"
   ]
  },
  {
   "cell_type": "markdown",
   "id": "c8a3923f",
   "metadata": {},
   "source": [
    "\n",
    "### Conceptos clave (Jiménez et al., 2023:\n"
   ]
  },
  {
   "cell_type": "markdown",
   "id": "feedf417",
   "metadata": {},
   "source": [
    "# 1. **Sintaxis de expresiones simbólicas**:\n"
   ]
  },
  {
   "cell_type": "markdown",
   "id": "43390251",
   "metadata": {},
   "source": [
    "   - Variables proposicionales ($p, q, r, s, t, \\ldots$)\n",
    "   - Conectivos lógicos ($\\land, \\lor, \\neg, \\rightarrow, \\leftrightarrow$)\n",
    "   - Fórmulas bien formadas. (Hay dos notaciones: una la aditiva $p \\lor q$, la segunda es la notación funcional: `Or(p, q)`. ) \n"
   ]
  },
  {
   "cell_type": "markdown",
   "id": "fed08c22",
   "metadata": {},
   "source": [
    "\n",
    "- Delimitar con signo de dolar es para crear una fórmula matemática. (Solo dos signos de dolar para fórmula matemática en la línea de texto).  \n",
    "\n",
    "- \\ldots: l de low-bajo, y dots de puntos   \n",
    "- \\land: l de logic y and del conector u operador lógico llamado conjunción o y.   \n",
    "\n",
    "\n"
   ]
  },
  {
   "cell_type": "markdown",
   "id": "54f74495",
   "metadata": {},
   "source": [
    "\n",
    "# 2. **Semántica de expresiones**:  \n"
   ]
  },
  {
   "cell_type": "markdown",
   "id": "67429914",
   "metadata": {},
   "source": [
    "\n",
    "   - Tablas de verdad: Nos entregará el valor de verdad de la proposición compuesta en función o en términos de los valores de verdad de las proposiciones simples o atómicas que hacen parte de esta proposición compuesta. Es una representación tabular de la proposición compuesta. \n",
    "   - Equivalencias lógicas: Son para comparar proposiciones compuestas para establecer cuando tienen el mismo valor de verdad. \n",
    "   - Tautologías,  contradicciones e indeterminaciones. \n"
   ]
  },
  {
   "cell_type": "markdown",
   "id": "652f3883",
   "metadata": {},
   "source": [
    "\n",
    "3. **Aplicaciones computacionales**:\n"
   ]
  },
  {
   "cell_type": "code",
   "execution_count": 4,
   "id": "5691038e",
   "metadata": {},
   "outputs": [],
   "source": [
    "# SymPy es una librería o conjunto de funciones u operadores para cálculo simbólico asociada a Python\n",
    "from sympy import symbols, And, Or, Not, Implies, Equivalent\n",
    "# symbols me sirve para definir las proposiciones a través de letras, que utilizaré en la construcción de otras proposiciones.\n",
    "# And es un operador o función o conector lógico. Llamado conjunción o y. \n",
    " "
   ]
  },
  {
   "cell_type": "code",
   "execution_count": 6,
   "id": "fd4b0942",
   "metadata": {},
   "outputs": [
    {
     "data": {
      "text/latex": [
       "$\\displaystyle \\neg p$"
      ],
      "text/plain": [
       "~p"
      ]
     },
     "execution_count": 6,
     "metadata": {},
     "output_type": "execute_result"
    }
   ],
   "source": [
    "p, q = symbols('p q') # defino las proposiciones simples p y q \n",
    "expresion_1 = Not(p) # construyo una primera proposición compuesta. \n",
    "expresion_1  # me muestra la proposición compuesta construida en notación aditiva o notación de los libros de texto \n"
   ]
  },
  {
   "cell_type": "code",
   "execution_count": 7,
   "id": "3f36c06c",
   "metadata": {},
   "outputs": [
    {
     "data": {
      "text/latex": [
       "$\\displaystyle p \\vee q$"
      ],
      "text/plain": [
       "p | q"
      ]
     },
     "execution_count": 7,
     "metadata": {},
     "output_type": "execute_result"
    }
   ],
   "source": [
    "expresion_2 = Or(p, q) # esta notación es la notación funcional \n",
    "expresion_2"
   ]
  },
  {
   "cell_type": "code",
   "execution_count": 8,
   "id": "efd7f741",
   "metadata": {},
   "outputs": [
    {
     "data": {
      "text/latex": [
       "$\\displaystyle p \\wedge q$"
      ],
      "text/plain": [
       "p & q"
      ]
     },
     "execution_count": 8,
     "metadata": {},
     "output_type": "execute_result"
    }
   ],
   "source": [
    "expresion_3 = And(p, q) # esta notación es la notación funcional \n",
    "expresion_3"
   ]
  },
  {
   "cell_type": "code",
   "execution_count": null,
   "id": "65be7d6b",
   "metadata": {},
   "outputs": [
    {
     "data": {
      "text/latex": [
       "$\\displaystyle p \\Rightarrow q$"
      ],
      "text/plain": [
       "Implies(p, q)"
      ]
     },
     "execution_count": 9,
     "metadata": {},
     "output_type": "execute_result"
    }
   ],
   "source": [
    "expresion_4 = Implies(p, q) # esta notación es la notación funcional \n",
    "expresion_4  # lelemos p implica q o de p se sigue necesariamente q. p es causa de q. "
   ]
  },
  {
   "cell_type": "code",
   "execution_count": null,
   "id": "1906557d",
   "metadata": {},
   "outputs": [
    {
     "data": {
      "text/latex": [
       "$\\displaystyle p \\Leftrightarrow q$"
      ],
      "text/plain": [
       "Equivalent(p, q)"
      ]
     },
     "execution_count": 10,
     "metadata": {},
     "output_type": "execute_result"
    }
   ],
   "source": [
    "expresion_5 = Equivalent(p, q) # esta notación es la notación funcional \n",
    "expresion_5 # q es suficiente y necesario para p. "
   ]
  },
  {
   "cell_type": "markdown",
   "id": "6e94f591",
   "metadata": {},
   "source": [
    "# Desarrollemos el contenido desde el texto [Guía: De Abdiel Cáceres](https://ri.ujat.mx/handle/200.500.12107/3942)"
   ]
  },
  {
   "cell_type": "markdown",
   "id": "1bafdb78",
   "metadata": {},
   "source": [
    "## 1.3 Expresiones simbólicas  \n"
   ]
  },
  {
   "cell_type": "markdown",
   "id": "74a7e2dc",
   "metadata": {},
   "source": [
    "\n",
    "Página 22 del PDF de Abdiel Cáceres Gonzalez: \"Matemáticas Discretas: \" \n"
   ]
  },
  {
   "cell_type": "markdown",
   "id": "84645641",
   "metadata": {},
   "source": [
    "\n",
    "En Python hay **expresiones simbólicas primitivas** que son las expresiones que no requieren programación por parte del usuario, ya que han sido programadas previamente y cargadas al sistema de manera automática al iniciar Python.  \n"
   ]
  },
  {
   "cell_type": "markdown",
   "id": "79de7753",
   "metadata": {},
   "source": [
    "\n",
    "[Instala Python desde aquí](https://www.python.org/)"
   ]
  },
  {
   "cell_type": "markdown",
   "id": "6f20dcf6",
   "metadata": {},
   "source": [
    "Las expresiones primitivas ya tienen un valor establecido y no requieren cálculo alguno ni para determinar su  valor, ni para utilizarlas.\n"
   ]
  },
  {
   "cell_type": "code",
   "execution_count": 4,
   "id": "6590d0e7",
   "metadata": {},
   "outputs": [
    {
     "data": {
      "text/plain": [
       "False"
      ]
     },
     "execution_count": 4,
     "metadata": {},
     "output_type": "execute_result"
    }
   ],
   "source": [
    "# ejemplo: una cadena vacía ya tiene un valor de verdad falso\n",
    "\n",
    "bool('') "
   ]
  },
  {
   "cell_type": "markdown",
   "id": "f88813fc",
   "metadata": {},
   "source": [
    "En Python al igual que en matemáticas, se utilizan símbolos para escribir expresiones, estas se llaman expresiones simbólicas o bien, S-expresiones. "
   ]
  },
  {
   "cell_type": "markdown",
   "id": "0b4d84cb",
   "metadata": {},
   "source": [
    "En adelante consideraremos sinónimos los términos «S-expresión» y «expresión»; y usaremos el término «S-expresión» para hacer énfasis en que la expresión del lenguaje utiliza símbolos.\n"
   ]
  },
  {
   "cell_type": "markdown",
   "id": "363dc153",
   "metadata": {},
   "source": [
    " El entorno de desarrollo integrado (IDE) de Python se maneja en un ciclo interactivo denominado REPL, (del inglés Read, Evaluate, Print, Loop); cada expresión debe ser leída por el intérprete, luego debe evaluarse y el resultado se imprime, o bien se utiliza como entrada para un nuevo ciclo.\n"
   ]
  },
  {
   "cell_type": "markdown",
   "id": "ba7ae839",
   "metadata": {},
   "source": [
    "# Definición de expresión lógica en Python"
   ]
  },
  {
   "cell_type": "markdown",
   "id": "ca8fa3c1",
   "metadata": {},
   "source": [
    "Una expresión que al ser analizada es finalmente evaluada como `True` o `False` se llama **expresión lógica**, o bien expresión booleana porque su valor es uno del conjunto de valores booleanos.\n",
    "\n",
    "$$ \\text{Conjuntos de Valores Booleanos} = \\{ \\text{True}, \\text{False} \\} $$\n"
   ]
  },
  {
   "cell_type": "markdown",
   "id": "a9e85417",
   "metadata": {},
   "source": [
    "## 1.3.1 Expresiones simples\n"
   ]
  },
  {
   "cell_type": "markdown",
   "id": "8a289942",
   "metadata": {},
   "source": [
    " En Python hay principalmente dos tipos de S-expresiones, las expresiones simples y las expresiones compuestas. "
   ]
  },
  {
   "cell_type": "markdown",
   "id": "52cda4b8",
   "metadata": {},
   "source": [
    "Las expresiones simples son expresiones cuyo valor es la misma expresión, como en el ejemplo 1.1 con los símbolos `True` o `False`, para el caso de las expresiones booleanas; pero también los números son expresiones simples como:   \n",
    "\n",
    "* `10`, \n",
    "* `24.48` o \n",
    "* `3+2j`; \n",
    "* las cadenas de caracteres entre comillas como \"hola mundo\" también son expresiones simples. "
   ]
  },
  {
   "cell_type": "code",
   "execution_count": 8,
   "id": "1bbc9c77",
   "metadata": {},
   "outputs": [
    {
     "data": {
      "text/plain": [
       "True"
      ]
     },
     "execution_count": 8,
     "metadata": {},
     "output_type": "execute_result"
    }
   ],
   "source": [
    "bool('Hola Mundo') # La función bool() toma expresiones y me da el valor de verdad de ellas. \n",
    "# Un número entero tendrá valor de verdad True si y solo si es no nulo o diferente de cero"
   ]
  },
  {
   "cell_type": "code",
   "execution_count": null,
   "id": "90abbc16",
   "metadata": {},
   "outputs": [
    {
     "data": {
      "text/plain": [
       "True"
      ]
     },
     "execution_count": 9,
     "metadata": {},
     "output_type": "execute_result"
    }
   ],
   "source": [
    "bool(1.0) # Los números enteros son expresiones simples de python"
   ]
  },
  {
   "cell_type": "code",
   "execution_count": 11,
   "id": "dd19aed7",
   "metadata": {},
   "outputs": [
    {
     "data": {
      "text/plain": [
       "True"
      ]
     },
     "execution_count": 11,
     "metadata": {},
     "output_type": "execute_result"
    }
   ],
   "source": [
    "bool(1j) # 1j = i = \\sqrt{-1} es la unidad imaginaria de los números complejos. "
   ]
  },
  {
   "cell_type": "code",
   "execution_count": 12,
   "id": "8813abc9",
   "metadata": {},
   "outputs": [
    {
     "data": {
      "text/plain": [
       "True"
      ]
     },
     "execution_count": 12,
     "metadata": {},
     "output_type": "execute_result"
    }
   ],
   "source": [
    "bool('Hola Mundo')"
   ]
  },
  {
   "cell_type": "code",
   "execution_count": 13,
   "id": "e99ffcf7",
   "metadata": {},
   "outputs": [
    {
     "data": {
      "text/plain": [
       "False"
      ]
     },
     "execution_count": 13,
     "metadata": {},
     "output_type": "execute_result"
    }
   ],
   "source": [
    "bool('') # bool(x) es True solo cuando x es una cadena de caracteres no nula o no vacía. "
   ]
  },
  {
   "cell_type": "markdown",
   "id": "95da19d5",
   "metadata": {},
   "source": [
    "Las expresiones simples también se conocen como expresiones atómicas.\n"
   ]
  },
  {
   "cell_type": "markdown",
   "id": "c54cd381",
   "metadata": {},
   "source": [
    "## Ejemplo 1.2\n"
   ]
  },
  {
   "cell_type": "markdown",
   "id": "16ccb688",
   "metadata": {},
   "source": [
    "**Expresiones simples**    \n",
    "\n",
    " * `True` Es un valor de verdad\n",
    " * `\"False\"` Es una cadena de texto, es decir, si delimito entre doble comillas, ya se convierte en cadena de texto.\n",
    " * `3.14159` Es un número de punto flotante o número decimal\n",
    " * `3j+2j` Es un número complejo. \n",
    " * `['w', 'x', \"y\", \"z\"]` Es una lista de cadenas de texto. Entonces,, una lista de Python es un ejemplo de expresión simple de Python. \n"
   ]
  },
  {
   "cell_type": "markdown",
   "id": "dc704b25",
   "metadata": {},
   "source": [
    "## 1.3.2 Expresiones compuestas\n"
   ]
  },
  {
   "cell_type": "markdown",
   "id": "fb778de7",
   "metadata": {},
   "source": [
    "Son expresiones que incluyen un símbolo que representa a un operador junto con  una o más expresiones, ya sean simples o compuestas. "
   ]
  },
  {
   "cell_type": "markdown",
   "id": "8498d9f0",
   "metadata": {},
   "source": [
    "Cada elemento que no es el  operador, se llama argumento. "
   ]
  },
  {
   "cell_type": "markdown",
   "id": "ee1c080c",
   "metadata": {},
   "source": [
    "Por ejemplo `5+(2*2)` es una S-expresión compuesta, de un operador +, con dos argumentos, el 5 que es expresión simple y `(2*2)` es una expresión compuesta.\n"
   ]
  },
  {
   "cell_type": "markdown",
   "id": "44986f21",
   "metadata": {},
   "source": [
    "En el lenguaje cotidiano, frecuentemente podemos encontrar expresiones lógicas compuestas, las expresiones compuestas se escriben agrupando expresiones utilizando operadores lógicos, que se conocen también como conectores o términos de enlace. "
   ]
  },
  {
   "cell_type": "markdown",
   "id": "b11b6e17",
   "metadata": {},
   "source": [
    "En\n",
    " Python escribimos expresiones compuestas utilizando paréntesis cuando es necesario\n",
    " agrupar expresiones.\n"
   ]
  },
  {
   "cell_type": "markdown",
   "id": "dec68263",
   "metadata": {},
   "source": [
    "## Ejemplo 1.3    \n",
    "\n",
    "Las siguientes sentencias son expresiones compuestas en el lenguaje cotidiano.\n",
    "* «Los niños son juguetones **y** traviesos». (Conjunción)\n",
    "* «La medicina se puede tomar antes **o** después de la comida». (Disyunción)\n",
    "* «El usuario o bien es administrador **o** es un usuario regular». (Disyunción)\n",
    "* «**Si** llovió, **entonces** hay humedad» (Implicación o condicional)"
   ]
  },
  {
   "cell_type": "markdown",
   "id": "a1febf10",
   "metadata": {},
   "source": [
    "Como regla general una expresión compuesta empieza con un operador y sus operandos se escriben como una lista entre paréntesis, siguiendo el siguiente patrón: operador(operando[...]) Separado cada operando con una coma. "
   ]
  },
  {
   "cell_type": "markdown",
   "id": "e1887b2f",
   "metadata": {},
   "source": [
    "El símbolo ... significa y así sucesivamente, con cero o más elementos; de paso, hay otro símbolo que utilizaremos de vez en cuando, es ...+ que significa: y así sucesivamente, con uno o más elementos.\n"
   ]
  },
  {
   "cell_type": "markdown",
   "id": "f9aef033",
   "metadata": {},
   "source": [
    "# Ejemplo 1.4  \n",
    "\n",
    "Las siguientes son expresiones compuestas:  \n",
    " * `sumar(4, 5, 6)`\n",
    " * `map(lambda x: F(x), D)`\n",
    " * `5*(3*y+x**2)`\n",
    " * `45*q >= L[i]`\n"
   ]
  },
  {
   "cell_type": "markdown",
   "id": "0000af22",
   "metadata": {},
   "source": [
    "# Sobre los identificadores de las funciones u operadores "
   ]
  },
  {
   "cell_type": "markdown",
   "id": "e89eb10d",
   "metadata": {},
   "source": [
    "El nombre en Python para los **identificadores de las funciones**, se escribirán siguiendo un estilo minusculaMayuscula; mientras que los nombres para las clases y objetos con un estilo PalabrasConMayuscula.\n"
   ]
  },
  {
   "cell_type": "markdown",
   "id": "d8daad9b",
   "metadata": {},
   "source": [
    "# 1.3.3 Expresiones proposicionales\n"
   ]
  },
  {
   "cell_type": "markdown",
   "id": "7a22df0d",
   "metadata": {},
   "source": [
    "Una expresión proposicional, como lo dicen Copi y Cohen en [CC13, p. 5], «son el material de nuestro razonamiento»."
   ]
  },
  {
   "cell_type": "markdown",
   "id": "8c227b17",
   "metadata": {},
   "source": [
    "Una proposición es una expresión lógica, por lo que es evaluada o bien como False o como True, pero no puede adquirir ambos valores al mismo tiempo y tampoco es posible que carezca de **valor lógico**.\n"
   ]
  },
  {
   "cell_type": "markdown",
   "id": "2a12e6e5",
   "metadata": {},
   "source": [
    "Las proposiciones también pueden ser simples o compuestas. "
   ]
  },
  {
   "cell_type": "markdown",
   "id": "d69f06d5",
   "metadata": {},
   "source": [
    "Las proposiciones simples, también llamadas atómicas, son expresiones lógicas que no pueden seccionarse sin perder el valor de verdad.\n"
   ]
  },
  {
   "cell_type": "markdown",
   "id": "fb8ab238",
   "metadata": {},
   "source": [
    "# Ejemplo 1.5\n",
    "Los siguientes ejemplos son proposiciones escritas en el lenguaje cotidiano o lenguaje natural:  \n",
    "1. «Mentira» [significa falso].  \n",
    "2. «Es cierto» [significa cierto].  \n",
    "3. «El número de sesiones ha sobrepasado el límite».  \n"
   ]
  },
  {
   "cell_type": "markdown",
   "id": "2a614e07",
   "metadata": {},
   "source": [
    " Observa que las proposiciones en lenguaje natural están escritas en tiempo presente o en pasado, porque son hechos que ya han sido evaluados.\n"
   ]
  },
  {
   "cell_type": "markdown",
   "id": "f23fc41a",
   "metadata": {},
   "source": [
    "Las siguientes son expresiones simples en Python:    \n",
    " 1. True. Es primitiva, significa cierto  \n",
    " 2. False. Es primitiva, significa falso  \n",
    " 3. 4 == 4.produce verdadero  \n",
    " 4. 14 == 5.es evaluado como falso    \n",
    "   \n",
    "En Python, una expresión primitiva ya cuenta con el valor de todos sus argumentos, por lo que no requiere la evaluación de alguna subexpresión para determinar su valor.\n"
   ]
  },
  {
   "cell_type": "markdown",
   "id": "741b234f",
   "metadata": {},
   "source": [
    "# Ejemplo 1.6  \n",
    " Las siguientes expresiones NO son proposiciones lógicas:  \n",
    "\n",
    " * «¿Cómo se fabrica el pan?». Es una pregunta, no un valor de verdad.\n",
    " * «Sirve la mesa». Es una orden, no un valor booleano.\n",
    " • $3x > 27$.No es posible determinar el valor de verdad de una inecuación. Pero para cada x real, ella adquirirá un valor de verdad, por tanto ella la llamaremos función proposicional. "
   ]
  },
  {
   "cell_type": "markdown",
   "id": "e028b1f4",
   "metadata": {},
   "source": [
    " Las proposiciones compuestas son proposiciones que incluyen otras expresiones\n",
    " simples o compuestas.\n"
   ]
  },
  {
   "cell_type": "markdown",
   "id": "90e119bf",
   "metadata": {},
   "source": [
    "# Ejemplo 1.7    \n",
    "\n",
    "Las siguientes expresiones son proposiciones compuestas:  \n",
    "\n",
    " * «El usuario lleva 3 horas de uso continuo **o** el usuario no ha hecho modificaciones». (Disyunción)\n",
    " * «Si Roberto es constante en sus pagos **y** paga puntualmente, entonces Roberto es recompensado como cliente distinguido». (Implicación cuyo consecuente es una conjunción.)\n",
    " * `3∗4==4∗3`. # Para Python, el que tenga algún operador como multiplicación o el operador mayor que, hace que la proposición sea compuesta\n",
    " * `2>(2+2)`\n"
   ]
  },
  {
   "cell_type": "markdown",
   "id": "e1a4c095",
   "metadata": {},
   "source": [
    "Al evaluar las expresiones se obtiene un valor, por ejemplo la expresión 2 > (2+2) al ser evaluada debe ser interpretada como False, por lo que se puede escribir `2 >(2+2)→False`  \n"
   ]
  },
  {
   "cell_type": "code",
   "execution_count": 14,
   "id": "61b9ac76",
   "metadata": {},
   "outputs": [
    {
     "data": {
      "text/plain": [
       "False"
      ]
     },
     "execution_count": 14,
     "metadata": {},
     "output_type": "execute_result"
    }
   ],
   "source": [
    "2>(2+2)"
   ]
  },
  {
   "cell_type": "markdown",
   "id": "66f11cfa",
   "metadata": {},
   "source": [
    "\n",
    "Utilizaremos el símbolo → para decir «es evaluado como», o «produce el valor», o simplemente «produce».\n"
   ]
  },
  {
   "cell_type": "markdown",
   "id": "dc140283",
   "metadata": {},
   "source": [
    "En general, al escribir  ⟨expresión⟩→⟨valor|tipo⟩, se debe entender que se está evaluando la expresión a la izquierda de la flecha y se devuelve el valor o el tipo de dato que aparece a la derecha de la flecha. "
   ]
  },
  {
   "cell_type": "markdown",
   "id": "9e04ff70",
   "metadata": {},
   "source": [
    "Esta práctica es común al utilizar Python con anotaciones de tipos 1.\n"
   ]
  },
  {
   "cell_type": "markdown",
   "id": "b7813d07",
   "metadata": {},
   "source": [
    "## 1.3.4 Definiendo proposiciones en Python\n"
   ]
  },
  {
   "cell_type": "markdown",
   "id": "948e7b30",
   "metadata": {},
   "source": [
    " En Python es posible crear proposiciones al definir conceptos con un valor de verdad.\n"
   ]
  },
  {
   "cell_type": "markdown",
   "id": "a6998087",
   "metadata": {},
   "source": [
    "El lenguaje Python es un lenguaje funcional, esto significa que se deben crear segmentos de código con alguna funcionalidad específica. "
   ]
  },
  {
   "cell_type": "markdown",
   "id": "922da8fb",
   "metadata": {},
   "source": [
    "Este es un método de definición, donde el identificador es el significante y la funcionalidad es el significado. "
   ]
  },
  {
   "cell_type": "markdown",
   "id": "5920055f",
   "metadata": {},
   "source": [
    "Particularmente en el caso de las proposiciones, el significado siempre es un valor de verdad, o bien una  expresión primitiva o compuesta que finalmente sea evaluada con un valor de verdad.\n"
   ]
  },
  {
   "cell_type": "code",
   "execution_count": 15,
   "id": "1c578463",
   "metadata": {},
   "outputs": [],
   "source": [
    "elPatoEsAve = True # Esta creando un dignificante de significado verdadero. \n",
    "elPatoEsAveyElGatoEsMamifero = False # Esta creando un dignificante de significado falso.\n",
    "\n"
   ]
  },
  {
   "cell_type": "code",
   "execution_count": 16,
   "id": "95acaa23",
   "metadata": {},
   "outputs": [
    {
     "data": {
      "text/plain": [
       "True"
      ]
     },
     "execution_count": 16,
     "metadata": {},
     "output_type": "execute_result"
    }
   ],
   "source": [
    "elPatoEsAve"
   ]
  },
  {
   "cell_type": "code",
   "execution_count": 17,
   "id": "a2850902",
   "metadata": {},
   "outputs": [
    {
     "data": {
      "text/plain": [
       "False"
      ]
     },
     "execution_count": 17,
     "metadata": {},
     "output_type": "execute_result"
    }
   ],
   "source": [
    "elPatoEsAveyElGatoEsMamifero"
   ]
  },
  {
   "cell_type": "markdown",
   "id": "0f974e9d",
   "metadata": {},
   "source": [
    "Python asocia un valor a un identificador. El concepto definido es el identificador y su significado es el valor asociado. "
   ]
  },
  {
   "cell_type": "markdown",
   "id": "af0f58d3",
   "metadata": {},
   "source": [
    "En lo sucesivo, cuando se solicite el significado de ese nuevo concepto y mientras la memoria de la computadora no se restablezca, ya se conocerá su significado:\n"
   ]
  },
  {
   "cell_type": "code",
   "execution_count": 18,
   "id": "d5a4c296",
   "metadata": {},
   "outputs": [
    {
     "data": {
      "text/plain": [
       "True"
      ]
     },
     "execution_count": 18,
     "metadata": {},
     "output_type": "execute_result"
    }
   ],
   "source": [
    "elPatoEsAve\n",
    "\n"
   ]
  },
  {
   "cell_type": "markdown",
   "id": "d5f28933",
   "metadata": {},
   "source": [
    "Una notación que también se utilizará frecuentemente en este texto, es la notación para asignar un valor a una variable, siguiendo el ejemplo, podemos escribir:  \n",
    "\n",
    "elPatoEsAve=True, que significa literalmente «se le asigna el valor True a la variable elPatoEsAve», una traducción alternativa es «elPatoEsAve←True ». "
   ]
  },
  {
   "cell_type": "markdown",
   "id": "af27ccda",
   "metadata": {},
   "source": [
    "El símbolo ←, se\n",
    " usa al escribir algoritmos o en el lenguaje convencional de matemáticas para asignar un\n",
    " valor a una variable.\n",
    " 1https://docs.python.org/3/library/typing.htm"
   ]
  },
  {
   "cell_type": "markdown",
   "id": "021ea800",
   "metadata": {},
   "source": [
    "## Ejemplo 1.8    \n",
    "Supongamos que se tiene la expresión «Gustavo es usuario autorizado», la cual queremos modelar en Python. Podemos crear un identificador gustavoEsUsuarioAutorizado y definirlo como una proposición con valor de verdad True. Un primer acercamiento es escribir:  \n",
    "\n",
    " gustavoEsUsuarioAutorizado ←True\n",
    " lo que puede ser modelado en Python como:\n",
    " gustavoEsUsuarioAutorizado = True.\n"
   ]
  },
  {
   "cell_type": "code",
   "execution_count": 22,
   "id": "44d5949d",
   "metadata": {},
   "outputs": [],
   "source": [
    "gustavoEsUsuarioAutorizado = True"
   ]
  },
  {
   "cell_type": "markdown",
   "id": "cb1b5285",
   "metadata": {},
   "source": [
    " Recordemos que en Python se utiliza un símbolo = para la asignación y el símbolo compuesto == para la comparación. "
   ]
  },
  {
   "cell_type": "markdown",
   "id": "664262f9",
   "metadata": {},
   "source": [
    "Una vez que se ha definido el nuevo concepto, es posible utilizarlo sabiendo el valor de verdad con el cual ha sido definido:\n"
   ]
  },
  {
   "cell_type": "code",
   "execution_count": 23,
   "id": "ce17e8e0",
   "metadata": {},
   "outputs": [
    {
     "data": {
      "text/plain": [
       "True"
      ]
     },
     "execution_count": 23,
     "metadata": {},
     "output_type": "execute_result"
    }
   ],
   "source": [
    "gustavoEsUsuarioAutorizado\n"
   ]
  },
  {
   "cell_type": "markdown",
   "id": "df273a6a",
   "metadata": {},
   "source": [
    "Utilizar un concepto que no ha sido definido previamente ocasiona un error.\n"
   ]
  },
  {
   "cell_type": "code",
   "execution_count": 24,
   "id": "6cb12bbe",
   "metadata": {},
   "outputs": [
    {
     "ename": "NameError",
     "evalue": "name 'hoyEsSoleado' is not defined",
     "output_type": "error",
     "traceback": [
      "\u001b[31m---------------------------------------------------------------------------\u001b[39m",
      "\u001b[31mNameError\u001b[39m                                 Traceback (most recent call last)",
      "\u001b[36mCell\u001b[39m\u001b[36m \u001b[39m\u001b[32mIn[24]\u001b[39m\u001b[32m, line 1\u001b[39m\n\u001b[32m----> \u001b[39m\u001b[32m1\u001b[39m \u001b[43mhoyEsSoleado\u001b[49m\n",
      "\u001b[31mNameError\u001b[39m: name 'hoyEsSoleado' is not defined"
     ]
    }
   ],
   "source": [
    "hoyEsSoleado\n"
   ]
  },
  {
   "cell_type": "code",
   "execution_count": 25,
   "id": "8bc1986e",
   "metadata": {},
   "outputs": [],
   "source": [
    "\n",
    "hoyEsSoleado = True\n"
   ]
  },
  {
   "cell_type": "code",
   "execution_count": 26,
   "id": "5ae871a1",
   "metadata": {},
   "outputs": [
    {
     "data": {
      "text/plain": [
       "True"
      ]
     },
     "execution_count": 26,
     "metadata": {},
     "output_type": "execute_result"
    }
   ],
   "source": [
    "hoyEsSoleado\n"
   ]
  },
  {
   "cell_type": "markdown",
   "id": "fdbca408",
   "metadata": {},
   "source": [
    "Al definir proposiciones en Python, el significante [el identificador] no necesariamente debe tener sentido para las personas; por ejemplo `xy345` es un identificador válido, también lo son `home` o `casa`, que no necesariamente tienen relación de significa do alguno entre sí.\n"
   ]
  },
  {
   "cell_type": "markdown",
   "id": "cb39e714",
   "metadata": {},
   "source": [
    "Preferiblemente se deben escribir identificadores con sentido, al menos para el programador y que tengan relación con un significado ya conocido, principalmente es para beneficio de las personas que revisen el código fuente.\n"
   ]
  },
  {
   "cell_type": "markdown",
   "id": "661c3f50",
   "metadata": {},
   "source": [
    "# Ejemplo 1.9\n",
    "Las siguientes proposiciones están correctamente definidas, pero son muy largas o confusas.\n"
   ]
  },
  {
   "cell_type": "code",
   "execution_count": 27,
   "id": "b71dcb8d",
   "metadata": {},
   "outputs": [],
   "source": [
    "elLunesEsDomingo = True\n"
   ]
  },
  {
   "cell_type": "code",
   "execution_count": 28,
   "id": "5c92cf27",
   "metadata": {},
   "outputs": [],
   "source": [
    "losPerrosSonPeces = True\n"
   ]
  },
  {
   "cell_type": "code",
   "execution_count": 29,
   "id": "dfc0ac1e",
   "metadata": {},
   "outputs": [
    {
     "data": {
      "text/plain": [
       "True"
      ]
     },
     "execution_count": 29,
     "metadata": {},
     "output_type": "execute_result"
    }
   ],
   "source": [
    "losPerrosSonPeces\n",
    "\n",
    " \n"
   ]
  },
  {
   "cell_type": "markdown",
   "id": "5d065e86",
   "metadata": {},
   "source": [
    " Las siguientes proposiciones son correctamente definidas y más amigables para el lector humano.\n"
   ]
  },
  {
   "cell_type": "code",
   "execution_count": 30,
   "id": "7678cd42",
   "metadata": {},
   "outputs": [
    {
     "data": {
      "text/plain": [
       "False"
      ]
     },
     "execution_count": 30,
     "metadata": {},
     "output_type": "execute_result"
    }
   ],
   "source": [
    "llueve = True\n",
    "haceFrio = False\n",
    "haceFrio\n",
    "\n"
   ]
  },
  {
   "cell_type": "code",
   "execution_count": null,
   "id": "20b07c38",
   "metadata": {},
   "outputs": [],
   "source": []
  },
  {
   "cell_type": "markdown",
   "id": "5c06b3c8",
   "metadata": {},
   "source": [
    " ## 1.4 Predicados"
   ]
  },
  {
   "cell_type": "markdown",
   "id": "d8dc32d2",
   "metadata": {},
   "source": []
  },
  {
   "cell_type": "markdown",
   "id": "fd7802c6",
   "metadata": {},
   "source": [
    "\n",
    "## 5. Poema de Aprendizaje\n"
   ]
  },
  {
   "cell_type": "markdown",
   "id": "2d4b2a6b",
   "metadata": {},
   "source": [
    "\n",
    "**\"El Lenguaje de la Lógica\"**\n",
    "```\n",
    "Los símbolos son letras, la lógica su ley,\n",
    "$p$ y $q$ conversan bajo el mismo rey.\n",
    "Un $\\land$ los une, un $\\lor$ también,\n",
    "$\\neg$ los niega, pero no les ve mal.\n",
    "\n",
    "Con $\\rightarrow$ implicamos, con $\\leftrightarrow$ igualamos,\n",
    "tablas de verdad con cuidado armamos.\n",
    "Python las procesa, Cocodrilo las simula,\n",
    "¡La matemática discreta jamás se postula!\n",
    "```\n"
   ]
  },
  {
   "cell_type": "markdown",
   "id": "fc0d672d",
   "metadata": {},
   "source": [
    "\n",
    "## 6. Contexto Histórico (Cuento Antioqueño)\n",
    "\n",
    "**\"Don Boole y los Pensamientos Electrónicos\"**  \n",
    "*¡Ave María pués!* Les voy a contar la historia de Don George Boole, un inglés *medio loco* que se le ocurrió que los pensamientos podían escribirse con puras letritas y simbolitos. *¡Qué cosa más rara!*  \n",
    "\n",
    "<center><img src=\"https://upload.wikimedia.org/wikipedia/commons/6/6c/George_Boole_color.jpg\" width=\"200\"></center>\n",
    "\n",
    "Resulta que Don Boole, allá por 1850, andaba *en esas* de ponerle matemáticas hasta al \"sí\" y al \"no\". *¡Y lo logró pué!* Inventó un álgebra donde 1 era verdad y 0 mentira. *¡Qué hombre tan pilo!*  \n",
    "\n",
    "Luego llegó Don Claude Shannon *medio siglo después* y dijo: *\"¡Epa! Esto de Boole sirve pa los circuitos\"*. Y así nacieron las compuertas lógicas.  \n",
    "\n",
    "<center><img src=\"https://upload.wikimedia.org/wikipedia/commons/d/df/ClaudeShannon_MFO3807.jpg\" width=\"200\"></center>\n",
    "\n",
    "*¡Y mire ahora!* Cada vez que usted usa un celular o computador, está usando las ideas de estos dos señores. *¡Cosas veredes, Sancho!*\n"
   ]
  },
  {
   "cell_type": "markdown",
   "id": "373019ef",
   "metadata": {},
   "source": [
    "\n",
    "## 7. Actividades de Aprendizaje\n"
   ]
  },
  {
   "cell_type": "markdown",
   "id": "1210514b",
   "metadata": {},
   "source": [
    "\n",
    "### 7.1 Con Calculadora Casio 991 LA cw\n",
    "1. **Evaluación de expresiones**:\n",
    "   - Ingresar MODE 3 (TABLE)\n",
    "   - Escribir expresiones como $f(x) = (x>0) \\land (x<5)$\n",
    "   - Generar tablas de verdad automáticas\n"
   ]
  },
  {
   "cell_type": "markdown",
   "id": "a7d1f41a",
   "metadata": {},
   "source": [
    "\n",
    "### 7.2 Con Cocodrilo Clips\n",
    "```python\n",
    "# Diseño de circuito para (p ∧ q) ∨ r\n",
    "# Instrucciones:\n",
    "1. Abrir Cocodrilo Electronics\n",
    "2. Añadir 3 interruptores (p, q, r)\n",
    "3. Conectar AND gate a p y q\n",
    "4. Conectar OR gate entre salida AND y r\n",
    "5. Añadir LED de salida\n",
    "6. Probar todas combinaciones\n",
    "```\n"
   ]
  },
  {
   "cell_type": "markdown",
   "id": "2d1ce1de",
   "metadata": {},
   "source": [
    "\n",
    "### 7.3 Con Python y Jupyter\n"
   ]
  },
  {
   "cell_type": "markdown",
   "id": "862ace82",
   "metadata": {},
   "source": [
    "```python\n",
    "import numpy as np\n",
    "import matplotlib.pyplot as plt\n",
    "from sympy import symbols, And, Or, Not, Implies, Equivalent, truth_table\n",
    "from IPython.display import display, Math\n",
    "from ipywidgets import interact\n",
    "\n",
    "# Configuración SymPy\n",
    "p, q = symbols('p q')\n",
    "expresion = Implies(And(p, q), Or(p, Not(q)))\n",
    "\n",
    "# Visualización interactiva\n",
    "@interact(p=[False, True], q=[False, True])\n",
    "def evaluar_expresion(p, q):\n",
    "    resultado = expresion.subs({p: p, q: q})\n",
    "    display(Math(f\"({p} \\\\land {q}) \\\\rightarrow ({p} \\\\lor \\\\neg {q}) = {resultado}\"))\n",
    "\n",
    "# Animación de tabla de verdad\n",
    "from matplotlib.animation import FuncAnimation\n",
    "\n",
    "fig, ax = plt.subplots()\n",
    "vals = [False, True]\n",
    "combinations = [(p, q) for p in vals for q in vals]\n",
    "results = [expresion.subs({p: c[0], q: c[1]}) for c in combinations]\n",
    "\n",
    "def update(i):\n",
    "    ax.clear()\n",
    "    ax.set_xlim(-1, 2)\n",
    "    ax.set_ylim(-1, 2)\n",
    "    ax.text(0.5, 1, f\"Combinación {i+1}/4\", ha='center')\n",
    "    ax.text(0, 0.5, f\"p = {combinations[i][0]}\", fontsize=12)\n",
    "    ax.text(1, 0.5, f\"q = {combinations[i][1]}\", fontsize=12)\n",
    "    ax.text(0.5, 0, f\"Resultado: {results[i]}\", ha='center', fontsize=14, color='red')\n",
    "\n",
    "ani = FuncAnimation(fig, update, frames=4, interval=1500)\n",
    "from IPython.display import HTML\n",
    "HTML(ani.to_jshtml())\n",
    "```\n"
   ]
  },
  {
   "cell_type": "markdown",
   "id": "ef02a4ab",
   "metadata": {},
   "source": [
    "\n",
    "## 8. Tareas de Ejercitación\n",
    "\n",
    "**Problema 1:** Dada la expresión $(p \\lor q) \\land \\neg r$\n",
    "1. ¿Por qué esta expresión representa el problema de \"aprobación condicional\"?\n",
    "2. ¿Qué pasa si cambiamos $\\lor$ por $\\land$ en el primer paréntesis?\n",
    "3. ¿Hay otra manera equivalente de escribir esta expresión?\n",
    "4. ¿Cómo verificas que tu simplificación es correcta?\n",
    "\n",
    "**Problema 2:** Implementar en Python una función que:\n"
   ]
  },
  {
   "cell_type": "markdown",
   "id": "533d4630",
   "metadata": {},
   "source": [
    "```python\n",
    "def evaluar_expresion(p, q, r):\n",
    "    # Tu implementación aquí\n",
    "    return (p or q) and not r\n",
    "```\n"
   ]
  },
  {
   "cell_type": "markdown",
   "id": "3a01d62e",
   "metadata": {},
   "source": [
    "Y responder las mismas 4 preguntas para esta implementación.\n",
    "\n",
    "*(18 problemas adicionales con estructura similar)*\n"
   ]
  },
  {
   "cell_type": "markdown",
   "id": "2b946fee",
   "metadata": {},
   "source": [
    "\n",
    "## 9. Evaluación\n",
    "\n",
    "### Proyectos STEAMS:\n",
    "1. **Ciencias**: Modelar decisiones médicas (test diagnóstico)\n",
    "2. **Tecnología**: Diseñar circuito de seguridad\n",
    "3. **Ingeniería**: Sistema de control para semáforo\n",
    "4. **Artes**: Generar arte digital basado en reglas lógicas\n",
    "5. **Matemáticas**: Demostrar propiedades de números\n",
    "6. **Sociales**: Analizar discursos políticos con lógica\n"
   ]
  },
  {
   "cell_type": "markdown",
   "id": "1094ec65",
   "metadata": {},
   "source": [
    "\n",
    "### Quiz Ejemplo:\n",
    "**Pregunta 1 (Deportes):**  \n",
    "\"Si un equipo gana más de 10 partidos Y tiene diferencia de goles >5, entonces clasifica a playoffs\"  \n",
    "Expresar simbólicamente y construir tabla de verdad.\n",
    "\n",
    "**Pregunta 2 (Economía):**  \n",
    "Modelar la condición: \"La inflación sube si hay aumento de demanda O reducción de oferta\"\n"
   ]
  },
  {
   "cell_type": "markdown",
   "id": "869c182a",
   "metadata": {},
   "source": [
    "\n",
    "### Parcial Ejemplo:\n",
    "**Sección A:**  \n",
    "Convertir 5 expresiones del lenguaje natural a simbólico  \n",
    "**Sección B:**  \n",
    "Diseñar circuito en Cocodrilo para 3 expresiones dadas  \n",
    "**Sección C:**  \n",
    "Programar en Python una clase que evalúe expresiones lógicas\n"
   ]
  },
  {
   "cell_type": "markdown",
   "id": "be299098",
   "metadata": {},
   "source": [
    "\n",
    "## 10. Vocabulario en Inglés\n",
    "- **Symbolic expression** → Expresión simbólica\n",
    "- **Truth table** → Tabla de verdad\n",
    "- **Logical gate** → Compuerta lógica\n",
    "- **Tautology** → Tautología\n",
    "- **Boolean algebra** → Álgebra booleana\n",
    "- **Propositional variable** → Variable proposicional\n"
   ]
  },
  {
   "cell_type": "markdown",
   "id": "f412b48d",
   "metadata": {},
   "source": [
    "\n",
    "## 11. Apéndice: Habilidades Blandas\n",
    "\n",
    "### Trabajo en Equipo:\n",
    "1. **Roles rotativos**: Cada miembro asume un rol (codificador, verificador, documentador)\n",
    "2. **Retroalimentación estructurada**: Usar técnica \"Estrella de Mar\" (continuar, empezar, dejar)\n",
    "\n",
    "### Inteligencia Emocional:\n",
    "- Técnica \"Antes-Durante-Después\" para manejo de ansiedad en evaluaciones\n",
    "- Diario metacognitivo: \"Hoy aprendí...\", \"Todavía me confunde...\"\n"
   ]
  },
  {
   "cell_type": "markdown",
   "id": "7e26c631",
   "metadata": {},
   "source": [
    "\n",
    "## 12. Referentes Didácticos (APA)\n",
    "\n",
    "1. Duval, R. (2004). Semiosis y pensamiento humano. Universidad del Valle.\n",
    "2. Wing, J. M. (2006). Computational thinking. Communications of the ACM, 49(3), 33-35.\n",
    "3. Polya, G. (1945). How to solve it. Princeton University Press.\n",
    "4. Schoenfeld, A. H. (1985). Mathematical problem solving. Academic Press.\n",
    "5. Harel, G. (2008). What is mathematics? A pedagogical answer. In Proceedings of ICM.\n",
    "6. Mason, J. (2002). Researching your own practice. Routledge.\n",
    "7. Skemp, R. R. (1976). Relational and instrumental understanding. Mathematics Teaching.\n",
    "8. Tall, D. (2013). How humans learn to think mathematically. Cambridge University Press.\n",
    "9. Sfard, A. (1991). On the dual nature of mathematical conceptions. Educational Studies in Mathematics.\n",
    "10. Boole, G. (1854). An investigation of the laws of thought. Walton and Maberly.\n",
    "\n",
    "*\"La educación matemática debe ser una experiencia de descubrimiento, no de memorización\"* (Schoenfeld, 1985, p. 45)"
   ]
  },
  {
   "cell_type": "markdown",
   "id": "3cac948a",
   "metadata": {},
   "source": [
    "# Lectura interactiva y experimental  \n"
   ]
  },
  {
   "cell_type": "markdown",
   "id": "0e175354",
   "metadata": {},
   "source": [
    "La **lectura interactiva y experimental** de los cuadernos Jupyter diseñados para el curso de **Fundamentos de Lógica** implica un enfoque dinámico y práctico para el aprendizaje, donde los estudiantes no solo consumen información teórica, sino que también interactúan con el contenido, modifican ejemplos, ejecutan código y experimentan con los conceptos lógicos en un entorno computacional. A continuación, se detallan las características clave de este enfoque:\n",
    "\n",
    "\n"
   ]
  },
  {
   "cell_type": "markdown",
   "id": "bab6c6f9",
   "metadata": {},
   "source": [
    "\n",
    "### **1. Lectura Interactiva**  \n"
   ]
  },
  {
   "cell_type": "markdown",
   "id": "356cc63f",
   "metadata": {},
   "source": [
    "- **Manipulación directa del contenido**: Los estudiantes pueden ejecutar celdas de código, modificar fórmulas lógicas o ejemplos, y observar cómo cambian los resultados en tiempo real.  \n"
   ]
  },
  {
   "cell_type": "markdown",
   "id": "32db3a3c",
   "metadata": {},
   "source": [
    "- **Visualización interactiva**: Uso de gráficos, diagramas (como árboles semánticos o tablas de verdad) o herramientas que respondan a entradas del usuario para ilustrar conceptos como validez, consistencia o inferencia."
   ]
  },
  {
   "cell_type": "markdown",
   "id": "595659ad",
   "metadata": {},
   "source": [
    "  \n",
    "- **Retroalimentación inmediata**: Los cuadernos pueden incluir ejercicios con autoevaluación (ejecutando código que verifica soluciones) o explicaciones emergentes al resolver problemas.  \n",
    "\n",
    "\n"
   ]
  },
  {
   "cell_type": "markdown",
   "id": "05442fd7",
   "metadata": {},
   "source": [
    "\n",
    "### **2. Lectura Experimental**  \n"
   ]
  },
  {
   "cell_type": "markdown",
   "id": "1744b5c4",
   "metadata": {},
   "source": [
    "- **Aprendizaje basado en prueba y error**: Los estudiantes pueden \"jugar\" con estructuras lógicas (por ejemplo, modificar conectores en una fórmula proposicional y ver cómo afecta su tabla de verdad). "
   ]
  },
  {
   "cell_type": "markdown",
   "id": "e65ca72b",
   "metadata": {},
   "source": [
    " \n",
    "- **Simulación de escenarios**: Por ejemplo, modelar argumentos en lógica de primer orden y evaluar su corrección mediante ejecución de código (usando librerías como `sympy` o herramientas ad-hoc).  \n"
   ]
  },
  {
   "cell_type": "markdown",
   "id": "efb97cde",
   "metadata": {},
   "source": [
    "- **Exploración guiada y abierta**: Se incluyen secciones con consignas del tipo *\"¿Qué pasa si cambias este axioma?\"* o *\"Intenta construir un contraejemplo\"* para fomentar la curiosidad.  \n",
    "\n",
    "\n"
   ]
  },
  {
   "cell_type": "markdown",
   "id": "374a8ea9",
   "metadata": {},
   "source": [
    "\n",
    "### **3. Componentes clave de los cuadernos**  \n",
    "- **Fragmentos de código ejecutable**: Para evaluar expresiones lógicas, automatizar pruebas o implementar algoritmos (ej: verificación de tautologías).  \n",
    "- **Celdas con texto teórico y preguntas reflexivas**: Integradas con ejemplos prácticos que requieren intervención activa (ej: *\"Define aquí tu propia fórmula y comprueba si es satisfacible\"*).  \n",
    "- **Enlaces a recursos externos**: Como demostradores en línea o lecturas complementarias para profundizar.  \n",
    "\n",
    "---\n"
   ]
  },
  {
   "cell_type": "markdown",
   "id": "c750af8a",
   "metadata": {},
   "source": [
    "\n",
    "### **4. Beneficios pedagógicos**  \n",
    "- **Enganche activo**: Combina teoría y práctica sin salir del entorno digital.  \n",
    "- **Personalización**: Los estudiantes pueden ajustar el ritmo y profundidad de su aprendizaje.  \n",
    "- **Preparación para aplicaciones reales**: Familiariza a los estudiantes con herramientas usadas en investigación (ej: Python para lógica simbólica).  \n",
    "\n",
    "---\n"
   ]
  },
  {
   "cell_type": "markdown",
   "id": "0602e6ee",
   "metadata": {},
   "source": [
    "\n",
    "### **Ejemplo concreto**  \n",
    "Un cuaderno podría incluir:  \n",
    "1. Una explicación de *modus ponens* con una fórmula predefinida (`p → q`, `p`, luego `q`).  \n",
    "2. Una celda interactiva donde el estudiante modifique `p` o `q` y observe cómo falla la regla si las premisas cambian.  \n",
    "3. Un ejercicio para programar un verificador de *modus ponens* usando diccionarios de Python.  \n"
   ]
  },
  {
   "cell_type": "markdown",
   "id": "70e1a505",
   "metadata": {},
   "source": [
    "\n",
    "Este enfoque transforma la lógica (a menudo abstracta) en una experiencia tangible y adaptable."
   ]
  },
  {
   "cell_type": "markdown",
   "id": "8396c0ed",
   "metadata": {},
   "source": [
    "# Presentación de la estructura de la clase  "
   ]
  },
  {
   "cell_type": "markdown",
   "id": "36bc2964",
   "metadata": {},
   "source": [
    "# Desarrollo de habilidades Metacognitivas en enseñanza con metodología IAE \n"
   ]
  },
  {
   "cell_type": "markdown",
   "id": "9c5cb582",
   "metadata": {},
   "source": [
    "\n",
    "Desarrollar habilidades metacognitivas en los estudiantes dentro de una **Investigación Acción Educativa (IAE)** implica un proceso cíclico de reflexión, acción y evaluación. "
   ]
  },
  {
   "cell_type": "markdown",
   "id": "64451e0b",
   "metadata": {},
   "source": [
    "Aquí te propongo una estrategia estructurada en fases, alineada con la IAE, para fomentar la metacognición:\n",
    "\n",
    "\n"
   ]
  },
  {
   "cell_type": "markdown",
   "id": "42be70b3",
   "metadata": {},
   "source": [
    "\n",
    "### **1. Diagnóstico Inicial (Fase de Observación)**  \n"
   ]
  },
  {
   "cell_type": "markdown",
   "id": "55736208",
   "metadata": {},
   "source": [
    "- **Identifica el nivel metacognitivo actual**:  \n",
    "  - Realiza cuestionarios, entrevistas o actividades reflexivas (ej.: \"¿Cómo estudiaste para el último examen? ¿Qué te funcionó o no?\").  \n",
    "  - Observa si los estudiantes pueden explicar sus procesos de aprendizaje o identificar dificultades.  \n"
   ]
  },
  {
   "cell_type": "markdown",
   "id": "56467690",
   "metadata": {},
   "source": [
    "\n",
    "- **Registra evidencias**: Anota cómo los estudiantes planifican, monitorean y evalúan sus tareas (ej.: diarios de aprendizaje, grabaciones de debates).  \n",
    "\n",
    "\n"
   ]
  },
  {
   "cell_type": "markdown",
   "id": "e252e7b1",
   "metadata": {},
   "source": [
    "\n",
    "### **2. Diseño de Intervenciones (Fase de Planificación)**"
   ]
  },
  {
   "cell_type": "markdown",
   "id": "4b036a02",
   "metadata": {},
   "source": [
    "  \n",
    "**a. Enseñanza explícita de estrategias metacognitivas**:  \n"
   ]
  },
  {
   "cell_type": "markdown",
   "id": "114930fc",
   "metadata": {},
   "source": [
    "  - **Modelado**: Muestra cómo *tú* piensas al resolver un problema (\"Pensamiento en voz alta\"). Ejemplo:  \n",
    "    *\"Primero, voy a leer el objetivo de la clase. Luego, revisaré si entiendo los conceptos clave...\"*.  \n",
    "  - **Listas de verificación (checklists)**: Proporciona guías para autoevaluarse (ej.: \"¿Puedo explicar este tema con mis propias palabras?\").  \n"
   ]
  },
  {
   "cell_type": "markdown",
   "id": "1ba3c6a5",
   "metadata": {},
   "source": [
    "\n",
    "**b. Herramientas para la autorregulación**:  \n",
    "  - **Diarios de aprendizaje**: Pide que registren:  \n",
    "    - *\"¿Qué aprendí hoy?\"* (conocimiento).  \n",
    "    - *\"¿Cómo lo aprendí?\"* (proceso).  \n",
    "    - *\"¿Qué me falta por entender?\"* (brechas).  \n",
    "  - **Rúbricas de autoevaluación**: Incluye criterios como: *\"Puedo resolver ejercicios sin ayuda\"* o *\"Sé dónde buscar información confiable\"*.  \n"
   ]
  },
  {
   "cell_type": "markdown",
   "id": "f206e682",
   "metadata": {},
   "source": [
    "\n",
    "**c. Espacios de reflexión colaborativa**:  \n",
    "  - **Debates metacognitivos**: En grupos, discuten: *\"¿Qué estrategia usamos? ¿Funcionó? ¿Por qué?\"*.  \n",
    "  - **Peer feedback**: Intercambian comentarios sobre sus procesos (ej.: \"Tú organizaste bien tus ideas, pero podrías revisar las fuentes\").  \n",
    "\n",
    "---\n"
   ]
  },
  {
   "cell_type": "markdown",
   "id": "0ed547ca",
   "metadata": {},
   "source": [
    "\n",
    "### **3. Implementación (Fase de Acción)**  \n",
    "- **Integra la metacognición en las actividades cotidianas**:  \n",
    "  - Antes de una tarea: *\"¿Qué sabes ya sobre este tema? ¿Cómo planeas abordarlo?\"*.  \n",
    "  - Durante la tarea: *\"¿Estás siguiendo tu plan? ¿Necesitas ajustarlo?\"*.  \n",
    "  - Después: *\"¿Lograste el objetivo? ¿Qué cambiarías la próxima vez?\"*.  \n",
    "- **Usa preguntas clave**:  \n",
    "  - *\"¿Qué parte fue más difícil? ¿Por qué?\"* (identificación de obstáculos).  \n",
    "  - *\"Si tuvieras que enseñarle esto a un compañero, ¿cómo lo harías?\"* (transferencia).  \n",
    "\n",
    "---\n"
   ]
  },
  {
   "cell_type": "markdown",
   "id": "26514009",
   "metadata": {},
   "source": [
    "\n",
    "### **4. Evaluación y Reflexión (Fase de Observación/Reflexión)**  \n",
    "- **Analiza el impacto**: Compara evidencias pre y post intervención (ej.: diarios, desempeño en tareas).  \n",
    "- **Reflexión grupal**: Realiza una sesión donde los estudiantes compartan:  \n",
    "  - *\"¿Qué estrategias metacognitivas les ayudaron más?\"*.  \n",
    "  - *\"¿Cómo se sintieron al gestionar su aprendizaje?\"*.  \n",
    "- **Ajusta la intervención**: Si notas que persisten dificultades, propón nuevas herramientas (ej.: mapas conceptuales para organizar ideas).  \n",
    "\n",
    "---\n"
   ]
  },
  {
   "cell_type": "markdown",
   "id": "02475f41",
   "metadata": {},
   "source": [
    "\n",
    "### **5. Iteración (Ciclo de IAE)**  \n",
    "Repite el ciclo con ajustes basados en los hallazgos. Por ejemplo:  \n",
    "- Si los estudiantes no identifican errores, introduce actividades de *análisis de errores* (\"¿Por qué te equivocaste? ¿Cómo corregirlo?\").  \n",
    "- Si les cuesta planificar, usa herramientas visuales como *diagramas de flujo* para secuenciar pasos.  \n",
    "\n",
    "---\n",
    "\n",
    "### **Ejemplo Práctico**  \n",
    "**Situación**: Estudiantes no revisan sus errores en matemáticas.  \n",
    "- **Intervención**:  \n",
    "  1. **Modelado**: Resuelves un problema cometiendo un error adrede y muestras cómo detectarlo.  \n",
    "  2. **Checklist**: \"¿Revisé cada paso? ¿Mi respuesta tiene sentido?\".  \n",
    "  3. **Diario**: \"Hoy cometí un error en... Lo corregí cambiando...\".  \n",
    "\n",
    "---\n",
    "\n",
    "### **Claves para el Éxito**  \n",
    "- **Consistencia**: Integra la metacognición en todas las clases, no como actividad aislada.  \n",
    "- **Andamiaje**: Reduce gradualmente la guía del docente a medida que los estudiantes ganan autonomía.  \n",
    "- **Cultura de error**: Normaliza los errores como parte del aprendizaje (\"¿Qué podemos aprender de esto?\").  \n",
    "\n",
    "La metacognición no solo mejora el logro académico, sino que empodera a los estudiantes para ser aprendices autónomos y resilientes. En la IAE, este proceso se enriquece al ser colaborativo (docente-estudiantes) y basado en evidencia concreta.  \n",
    "\n",
    "¿Te gustaría profundizar en alguna herramienta específica o ajustar la estrategia a un nivel educativo en particular?"
   ]
  },
  {
   "cell_type": "markdown",
   "id": "239427f7",
   "metadata": {},
   "source": [
    "# Calendario Académico Semestre 2025-2  \n",
    "\n",
    "\n",
    "\n",
    "\n"
   ]
  },
  {
   "cell_type": "code",
   "execution_count": null,
   "id": "c804f8d3",
   "metadata": {},
   "outputs": [],
   "source": []
  },
  {
   "cell_type": "code",
   "execution_count": null,
   "id": "cc539357",
   "metadata": {},
   "outputs": [],
   "source": []
  },
  {
   "cell_type": "markdown",
   "id": "8ba64aed",
   "metadata": {},
   "source": [
    "# Cursos que orienta el profesor Marco Julio Cañas Campillo en 2025-2  \n",
    "\n",
    "1. Fundamentos de Lógica para Licenciatura en Matemáticas \n",
    "2. Álgebra y Trigonometría. \n",
    "3. Geometría Vectorial. \n",
    "4. Análisis Numérico para Licenciatura en Matemáticas. \n"
   ]
  },
  {
   "cell_type": "markdown",
   "id": "8d41fe58",
   "metadata": {
    "slideshow": {
     "slide_type": "slide"
    }
   },
   "source": [
    "# Horario de clases del profesor Marco\n"
   ]
  },
  {
   "cell_type": "markdown",
   "id": "43da7f45",
   "metadata": {},
   "source": [
    "\n",
    "* Lunes 8-12: Fundamentos de Lógica\n",
    "* Martes 9-11 M: Álgebra y Trigonometría. \n",
    "* Martes 2 a 5 PM: Geometría Vectorial. \n",
    "* Miércoles 9 a 11 M: Álgebra y Trigonometría. \n",
    "* Miércoles de 2 a 3 PM: Asesoría Trabajo de Grado Janis Zuñiga Biología. \n",
    "* Jueves 2 a 6 PM: \n",
    "* Viernes 2 - 6 PM: Análisis numérico.  \n",
    "* Sábados 8-12 Asesorías y espacio para retroalimentación y apoyo al trabajo independiente  \n",
    "  y desarrollo de habilidades metacognitivas. "
   ]
  },
  {
   "cell_type": "markdown",
   "id": "ae114e14",
   "metadata": {
    "slideshow": {
     "slide_type": "slide"
    }
   },
   "source": [
    "# Coordinador de los cursos de la Facultad de Educación para regiones:    \n",
    "\n",
    "Andrés Vélez: regioneducacion.fedu@udea.edu.co  \n",
    "Coordinador Regiones  \n",
    "Facultad de Educación  \n",
    "Universidad de Antioquia  "
   ]
  },
  {
   "cell_type": "markdown",
   "id": "b1db4b6c",
   "metadata": {
    "slideshow": {
     "slide_type": "slide"
    }
   },
   "source": [
    "## Monitores\n",
    "* Manuel San Juan Serrano: Contactar escribiendo al correo: manuel.serrano1@udea.edu.co\n",
    "* Yeifry Sebastián Uribe: Contactar escribiendo al correo: yeifry.uribe@udea.edu.co"
   ]
  },
  {
   "cell_type": "markdown",
   "id": "10bce0d0",
   "metadata": {
    "slideshow": {
     "slide_type": "slide"
    }
   },
   "source": [
    "## Referentes "
   ]
  },
  {
   "cell_type": "markdown",
   "id": "1db3c468",
   "metadata": {
    "slideshow": {
     "slide_type": "slide"
    }
   },
   "source": [
    "* [Jupyter Book de fundamentos_logica](file:///C:/Users/marco/Documentos/docencia/fundamentos_logica/fundamentos_logica_book/_build/html/index.html)\n",
    "* OpenAI. (2025, agosto 10). Asistencia en el diseño de clase sobre predicados integrando STEAMS, ABPP y la Teoría de Duval [Comunicación personal con ChatGPT].\n",
    "* [Matemáticas Discretas: una perspectiva funcional con Python 3.x](https://ri.ujat.mx/handle/200.500.12107/3942)  \n",
    "  \n",
    "* [Decargue Crocodile Clip aquí](https://crocodileclips.net/descargar-crocodile-clips/)\n",
    "\n",
    "* [Matemáticas discretas Una introducción abierta, 3ª edición](https://discrete.openmathbooks.org/dmoi3.html)  \n",
    "  \n",
    "* [Desarrollo del pensamiento matemático con calculadora Casio ](https://bibliotecadigital.udea.edu.co/entities/publication/17180405-9f1d-4800-aa7c-e6369779cece)\n",
    "\n",
    "* [CALCULO I DE UNA VARIABLE Ron Larson-Bruce Edwards. Mc Graw Hill. 9º Edición](https://www.academia.edu/42139251/CALCULO_I_DE_UNA_VARIABLE_Ron_Larson_Bruce_Edwards_Mc_Graw_Hill_9o_Edici%C3%B3n)   \n",
    "  \n",
    "\n",
    "* [Grajales Vanegas, L. M., Restrepo Estrada, C. E., Restrepo Ochoa, S. I., & Ruíz De Villalba, F. (2015). Matemáticas I para las ciencias económicas.](https://bibliotecadigital.udea.edu.co/handle/10495/3010)\n",
    "  \n",
    "* R. Duval y Semiosis y pensamiento humano, 2.ª ed. Cali, Colombia: Programa Editorial Universidad del Valle, 2017. [En línea]. Disponible en: https://programaeditorial.univalle.edu.co/gpd-semiosis-y-pensamiento-humano-9789587655278-63324cdb0f6b3.html\n",
    "\n",
    "* [Aylwin, C. U. (2011). Lógica, conjuntos y números. Universidad de los Andes, Consejo de Publicaciones, Colección: Ciencias Básicas, Serie: Matemáticas.](chrome-extension://efaidnbmnnnibpcajpcglclefindmkaj/https://www.u-cursos.cl/ciencias/2011/1/MC110/1/material_docente/bajar?id_material=574722)\n",
    "  \n",
    "* [Chollet, F. (2021). Deep learning with Python. Simon and Schuster.](chrome-extension://efaidnbmnnnibpcajpcglclefindmkaj/https://tanthiamhuat.wordpress.com/wp-content/uploads/2018/03/deeplearningwithpython.pdf)  \n",
    "  \n",
    "* [Watson, S., Stewart, J., & Redlin, L. (2009). Precálculo. Matemáticas para el cálculo.](chrome-extension://efaidnbmnnnibpcajpcglclefindmkaj/https://students.aiu.edu/submissions/profiles/resources/onlineBook/k6L8A3_precalculo_-_matematicas_para_el_calculo-1.pdf)  \n",
    "\n",
    "* [Purcell, E. J., Varberg, D., & Rigdon, S. E. (2007). Cálculo diferencial e integral. Pearson Educación.](https://github.com/marco-canas/calculo/blob/main/referents/purcell/purcell_calculo.pdf)\n",
    "\n",
    "  \n",
    "\n",
    "* [stewart cálculo](https://udeaeduco-my.sharepoint.com/:b:/g/personal/marco_canas_udea_edu_co/EZgXZjAp8QxPqOAim2hs6LcBNPLGjSHf-xwYnUVYkwa04w?e=RZdTCy)  \n",
    "\n",
    "\n",
    "* [Recomendación de la UNESCO sobre ciencia abierta](https://unesdoc.unesco.org/ark:/48223/pf0000379949_spa)\n",
    "\n",
    "* [chatGPT](https://openai.com/blog/chatgpt)  \n",
    "\n",
    "* [Géron, A. (2017). Hands-on machine learning with scikit-learn and tensorflow: Concepts. Tools, and Techniques to build intelligent systems.](chrome-extension://efaidnbmnnnibpcajpcglclefindmkaj/http://14.139.161.31/OddSem-0822-1122/Hands-On_Machine_Learning_with_Scikit-Learn-Keras-and-TensorFlow-2nd-Edition-Aurelien-Geron.pdf)   \n"
   ]
  },
  {
   "cell_type": "markdown",
   "id": "df925560",
   "metadata": {},
   "source": [
    "\n",
    "* [McKinney, W. (2012). Python for data analysis: Data wrangling with Pandas, NumPy, and IPython. \" O'Reilly Media, Inc.\".](https://wesmckinney.com/book/) "
   ]
  },
  {
   "cell_type": "markdown",
   "id": "8e65d6f9",
   "metadata": {},
   "source": [
    "# Como estudiante, encuentro que...   \n",
    "\n",
    "F: Mis Fortalezas son:     \n",
    "O: Mis Oportunidades son:    \n",
    "D: Mis Debilidades son:    \n",
    "A: Lo que Amenazas mi aprendizaje es:  "
   ]
  },
  {
   "cell_type": "markdown",
   "id": "6b9e56a8",
   "metadata": {
    "slideshow": {
     "slide_type": "slide"
    }
   },
   "source": [
    "### [Evaluamos al profesor Marco Cañas Aquí](https://forms.office.com/Pages/ResponsePage.aspx?id=IefhmYRxjkmK_7KtTlPBwkanXIs1i1FEujpsZgO6dXpUREJPV1kxUk1JV1ozTFJIQVNIQjY5WEY3US4u)"
   ]
  },
  {
   "cell_type": "markdown",
   "id": "10f43536",
   "metadata": {
    "slideshow": {
     "slide_type": "slide"
    }
   },
   "source": [
    "### Continue su aprendizaje en la siguiente clase a través del siguiente [vínculo]()"
   ]
  },
  {
   "cell_type": "markdown",
   "id": "53cc9115",
   "metadata": {
    "slideshow": {
     "slide_type": "slide"
    }
   },
   "source": [
    "## Agradecimientos  \n",
    "\n",
    "Doy gracias a Dios por la vida de mi Hijo Joseph Cañas Osorio y la madurez que ha alcanzado. Este hijo me enorgullece y me hace falta abrazarlo cada día. \n",
    "\n",
    "Y a mi esposa Yasmira Emperatriz Barboza Mogollón por su apoyo, orientación y acompañamiento. "
   ]
  }
 ],
 "metadata": {
  "celltoolbar": "Slideshow",
  "kernelspec": {
   "display_name": ".venv",
   "language": "python",
   "name": "python3"
  },
  "language_info": {
   "codemirror_mode": {
    "name": "ipython",
    "version": 3
   },
   "file_extension": ".py",
   "mimetype": "text/x-python",
   "name": "python",
   "nbconvert_exporter": "python",
   "pygments_lexer": "ipython3",
   "version": "3.11.9"
  },
  "rise": {
   "enable_chalkboard": true,
   "theme": "sky",
   "transition": "zoom"
  }
 },
 "nbformat": 4,
 "nbformat_minor": 5
}
