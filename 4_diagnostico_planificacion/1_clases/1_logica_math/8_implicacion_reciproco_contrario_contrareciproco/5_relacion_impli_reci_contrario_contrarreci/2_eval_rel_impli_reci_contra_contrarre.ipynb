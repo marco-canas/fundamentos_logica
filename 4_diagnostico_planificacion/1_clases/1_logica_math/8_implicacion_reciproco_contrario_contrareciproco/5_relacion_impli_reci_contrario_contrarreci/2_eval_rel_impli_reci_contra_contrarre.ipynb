{
 "cells": [
  {
   "cell_type": "markdown",
   "id": "dc06dec7",
   "metadata": {
    "slideshow": {
     "slide_type": "slide"
    }
   },
   "source": [
    "<table align=\"left\">\n",
    "  <td>\n",
    "    <a href=\"https://colab.research.google.com/github/marco-canas/didactica_ciencia_datos/blob/main/1_curso_machine_learning/1_evaluacion_oral_tarea_quiz_parcial.ipynb\" target=\"_parent\"><img src=\"https://colab.research.google.com/assets/colab-badge.svg\" alt=\"Open In Colab\"/></a>\n",
    "  </td>\n",
    "  <td>\n",
    "    <a target=\"_blank\" href=\"https://kaggle.com/kernels/welcome?src=https://github.com/marco-canas/didactica_ciencia_datos/blob/main/1_curso_machine_learning/1_evaluacion_oral_tarea_quiz_parcial.ipynb\"><img src=\"https://kaggle.com/static/images/open-in-kaggle.svg\" /></a>\n",
    "  </td>\n",
    "</table>"
   ]
  },
  {
   "cell_type": "markdown",
   "id": "e0c5b198",
   "metadata": {
    "slideshow": {
     "slide_type": "slide"
    }
   },
   "source": [
    "### [Video de apoyo a la lectura interactiva y experimental de este cuaderno]()"
   ]
  },
  {
   "cell_type": "markdown",
   "id": "41e82203",
   "metadata": {
    "slideshow": {
     "slide_type": "slide"
    }
   },
   "source": [
    "## [Vínculo al programa del curso:  ]()"
   ]
  },
  {
   "cell_type": "markdown",
   "id": "ca46c23b",
   "metadata": {
    "slideshow": {
     "slide_type": "slide"
    }
   },
   "source": [
    "# Modelo general de clase: [aula invertida](https://www3.gobiernodecanarias.org/medusa/ecoescuela/pedagotic/aprendizaje-invertido-flipped-classroom/)\n"
   ]
  },
  {
   "cell_type": "markdown",
   "id": "7f9be90f",
   "metadata": {
    "slideshow": {
     "slide_type": "slide"
    }
   },
   "source": [
    "# Fomento de la lectura literaria asociada a Ingeniería agropecuaria y licenciatura en Matemáticas y administración de empresas\n",
    "\n",
    "[Hábitos atómicos](https://github.com/marco-canas/habitos_atomicos/blob/main/13_como_dejar_de_postergar_usando_la_regla_de_los_dos_minutos/1_13_como_dejar_de_postergar_usando_la_regla_de_los_dos_minutos.ipynb)"
   ]
  },
  {
   "cell_type": "markdown",
   "id": "96775931",
   "metadata": {
    "slideshow": {
     "slide_type": "slide"
    }
   },
   "source": [
    "# Título de la clase: Realización evaluación oral, de Tareas en cuadernos Jupyter, Quiz o Parcial de selección múltiple o de preguntas cerradas.  \n",
    "\n"
   ]
  },
  {
   "cell_type": "markdown",
   "id": "cf101603",
   "metadata": {},
   "source": [
    "# Prompt para pedir el diseño de evaluación de acuerdo a la metodología de \"Enseñanza basada en proyectos\"  \n",
    "\n",
    "Dame, por favor, un diseño de clase, con el enfoque: STEAMS  y de aprendizaje basado en problemas y proyectos(ABPP); sobre: **\"La relación Lógica entre la Implicación, su Recíproco, su Contrario y su Contrarrecíproco\"**, siguiendo la estructura:   \n",
    "\n",
    "1. Título de la clase.  \n",
    "    \n",
    "2. Objetivo de aprendizaje e indicadores de logro de estos objetivos.   \n",
    "   \n",
    "3.  Un mapa conceptual que resuma la clase elaborado en Graphviz de Python con nodos y edges de diferentes formas, colores y rellenos y renderizado en la siguiente ubicación: `\"C:/Users/marco/Descargas\"`. No olvides el parámetro `view = True` para el método `render()` de Graphviz. Para este mapa controla las superposiciones de los nodos con: graph [overlap=false]; // Elimina superposiciones (puede aumentar el espacio)\n",
    "graph [overlap=\"scalexy\"]; // Escala el gráfico para evitar overlaps\n",
    "graph [overlap=\"compress\"]; // Comprime el grafo sin overlaps   \n",
    "   \n",
    "4. Contenido de la clase    \n",
    "   \n",
    "5. Incluye una canción o un poema que ayude a interiorizar y fijar los conceptos asociados a esta clase.  \n",
    "   \n",
    "6. Dame elementos históricos y epistemológicos asociados a esta clase, pero contados como un cuento al estilo de un cuentero antioqueño en Colombia. Incluye imágenes de los protagonistas históricos de esta clase.   \n",
    "   \n",
    "7. Actividades de aprendizaje    \n",
    "     * Incluya actividades de aprendizaje utilizando Calculadora **Casio 991 LA cw**\n",
    "     * Incluya también actividades de aprendizaje y modelación de situaciones o problemas reales a través de circuitos lógicos y circuitos digitales o electrónicos utilizando la aplicación portable cocodrilo. [Descarge esta aplicación portable aquí](https://crocodileclips.net/descargar-crocodile-clips/)     \n",
    "  \n",
    "8.  Tarea o actividades de ejercitación y fijación.  \n",
    "   \n",
    "9.  Evaluación incluyendo diez proyectos, un ejemplo de quiz y un ejemplo de parcial.  \n",
    "   * Diseña el quiz con preguntas, donde se pida al estudiante el mostrar la aplicación de las expresiones lógicas en contextos: \n",
    "       - Deportivos\n",
    "       - Cotidianos\n",
    "       - Matemáticas en teoría de números \n",
    "       - Matemáticas en geometría euclidiana\n",
    "       - Matemática en Cálculo Diferencial.\n",
    "       - Económicos. \n",
    "\n",
    "10.   Diseño de actividad de retroalimentación.   \n",
    "     \n",
    "11.   Dame un vocabulario y frases del idioma inglés asociadas a esta clase.   \n",
    "      \n",
    "12.   Incluye apéndice para la clase sobre desarrollo de habilidades para trabajar en equipo y de asertividad y empatía para relacionarnos. También elementos de la inteligencia emocional para presentar pruebas sin temor y sin realizar fraude en ellas.  \n",
    "       \n",
    "13. Incluye 10 referentes en didáctica de la matemática que estén de acuerdo a la propuesta didáctica de esta clase. Adiciona a estos referentes a Raymond Duval (Representaciones y cambios de representación para la adquisición de conceptos matemáticos) y a Janete Wing (Desarrollo del pensamiento computacional). Dejame todos estos referentes ordenados de acuerdo a las normas APA. Dejame todos estos referentes ordenados de acuerdo a las normas APA. Incluye las citaciones a estos referentes a medida que vallas diseñando la clase. \n",
    "\n",
    "\n",
    "Pero  que este diseño sea para que el estudiante pueda aprender experimentando en cuadernos Jupyter con funciones de usuario y animaciones y visualizaciones en python. En particular utiliza para el diseño de clase a Numpy, Pandas, SymPy, Matplotlib.pyplot, Seaborn, Plotly, ipywidgets, matplotlib.animation y Jupyter Notebook.  \n",
    "Cuando vallas a utilizar SymPy, ten en cuanta la siguiente configuración: \n",
    "# Corrección y mejora del código\n",
    "from sympy import symbols, Equivalent\n",
    "from sympy.logic.boolalg import truth_table\n",
    "\n",
    "Cada vez que utilices `matplotlib.animacion` no olvides incluir el uso de `IPython. display` para la rederización de estas animaciones a través de Jupyter Notebook. No olvides darme los diseños de clase con las ecuaciones matemáticas delimitadas con signo de dolar $ para que VS Code si me renderize estas expresiones del lenguaje latex. Cuando vallas a utilizar ipywidgets ten en cuenta la siguiente importación inicial para garantizar que la visualización interactiva si se renderize en VS Code:   \n",
    "\n",
    "import numpy as np\n",
    "import matplotlib.pyplot as plt\n",
    "import ipywidgets as widgets\n",
    "from IPython.display import display, clear_output\n",
    "from matplotlib.patches import Rectangle\n",
    "\n",
    "# Configuración inicial para visualización estática\n",
    "%matplotlib inline "
   ]
  },
  {
   "cell_type": "markdown",
   "id": "42797498",
   "metadata": {},
   "source": [
    "A continuación, te presento un diseño de clase basado en el enfoque **STEAMS** y el **aprendizaje basado en problemas y proyectos (ABPP)** sobre el tema **\"La relación lógica entre la implicación, su recíproco, su contrario y su contrarrecíproco\"**. Este diseño integra herramientas tecnológicas como Jupyter Notebook, Python (Numpy, Pandas, SymPy, Matplotlib, Seaborn, Plotly, ipywidgets, y matplotlib.animation), y actividades prácticas con calculadoras y simuladores de circuitos.\n",
    "\n",
    "---\n",
    "\n",
    "### 1. **Título de la clase**  \n",
    "**\"Relaciones lógicas: Implicación, recíproco, contrario y contrarrecíproco en contextos STEAMS\"**\n",
    "\n",
    "---\n",
    "\n",
    "### 2. **Objetivo de aprendizaje e indicadores de logro**  \n",
    "**Objetivo de aprendizaje:**  \n",
    "Comprender y analizar las relaciones lógicas entre la implicación, su recíproco, su contrario y su contrarrecíproco, aplicando herramientas matemáticas y computacionales para resolver problemas reales.\n",
    "\n",
    "**Indicadores de logro:**  \n",
    "- Identifica y diferencia entre implicación, recíproco, contrario y contrarrecíproco.  \n",
    "- Construye tablas de verdad para cada una de estas relaciones lógicas.  \n",
    "- Modela problemas reales utilizando relaciones lógicas y herramientas computacionales.  \n",
    "- Diseña circuitos lógicos que representen estas relaciones.  \n",
    "- Trabaja en equipo para presentar proyectos basados en lógica proposicional.  \n",
    "\n",
    "---\n"
   ]
  },
  {
   "cell_type": "markdown",
   "id": "639d9292",
   "metadata": {},
   "source": [
    "\n",
    "# 3. **Mapa conceptual**  \n"
   ]
  },
  {
   "cell_type": "markdown",
   "id": "d2225ff1",
   "metadata": {},
   "source": [
    "El mapa conceptual se genera utilizando Graphviz en Python. El código para generarlo es el siguiente:\n"
   ]
  },
  {
   "cell_type": "markdown",
   "id": "497e96c3",
   "metadata": {},
   "source": [
    "\n",
    "Para que Graphviz reconozca y renderice correctamente las expresiones en lenguaje LaTeX, es necesario utilizar el formato `plain-ext` o `dot` con la opción `latex` habilitada. Sin embargo, Graphviz no soporta directamente LaTeX en los nodos o etiquetas. Para lograr esto, puedes utilizar la librería `graphviz` junto con `matplotlib` para renderizar las expresiones LaTeX en imágenes y luego incorporarlas en el gráfico.\n",
    "\n",
    "Aquí te dejo el código corregido y mejorado para lograr este objetivo:\n",
    "\n",
    "---\n",
    "\n",
    "### **Código corregido y mejorado**\n",
    "\n",
    "\n"
   ]
  },
  {
   "cell_type": "code",
   "execution_count": 5,
   "id": "a2a81b73",
   "metadata": {},
   "outputs": [
    {
     "data": {
      "text/plain": [
       "'C:\\\\Users\\\\marco\\\\Descargas\\\\RelacionesLogicas.png'"
      ]
     },
     "execution_count": 5,
     "metadata": {},
     "output_type": "execute_result"
    }
   ],
   "source": [
    "from graphviz import Digraph\n",
    "import matplotlib.pyplot as plt\n",
    "import os\n",
    "\n",
    "# Crear el grafo\n",
    "graph = Digraph('RelacionesLogicas', format='png')\n",
    "graph.attr(overlap='false')  # Evitar superposiciones\n",
    "graph.attr(splines='true')   # Mejorar la distribución de los nodos\n",
    "\n",
    "# Función para renderizar expresiones matemáticas sin LaTeX\n",
    "def render_math_to_image(math_str, filename):\n",
    "    fig = plt.figure(figsize=(1, 0.5))  # Tamaño de la imagen\n",
    "    plt.axis('off')  # Ocultar ejes\n",
    "    plt.text(0.5, 0.5, math_str, fontsize=12, ha='center', va='center', usetex=False)\n",
    "    plt.savefig(filename, bbox_inches='tight', pad_inches=0.1, dpi=300)\n",
    "    plt.close()\n",
    "\n",
    "# Ruta donde se guardarán las imágenes\n",
    "output_dir = 'C:/Users/marco/Descargas'\n",
    "os.makedirs(output_dir, exist_ok=True)\n",
    "\n",
    "# Renderizar expresiones matemáticas\n",
    "implicacion_path = os.path.join(output_dir, 'implicacion.png')\n",
    "reciproco_path = os.path.join(output_dir, 'reciproco.png')\n",
    "contrario_path = os.path.join(output_dir, 'contrario.png')\n",
    "contrarecciproco_path = os.path.join(output_dir, 'contrarecciproco.png')\n",
    "\n",
    "render_math_to_image(r'$p \\rightarrow q$', implicacion_path)\n",
    "render_math_to_image(r'$q \\rightarrow p$', reciproco_path)\n",
    "render_math_to_image(r'$\\neg p \\rightarrow \\neg q$', contrario_path)\n",
    "render_math_to_image(r'$\\neg q \\rightarrow \\neg p$', contrarecciproco_path)\n",
    "\n",
    "# Nodos con imágenes\n",
    "graph.node('A', label='', image=implicacion_path, shape='ellipse', color='blue', style='filled', fillcolor='lightblue')\n",
    "graph.node('B', label='', image=reciproco_path, shape='box', color='red', style='filled', fillcolor='pink')\n",
    "graph.node('C', label='', image=contrario_path, shape='diamond', color='green', style='filled', fillcolor='lightgreen')\n",
    "graph.node('D', label='', image=contrarecciproco_path, shape='ellipse', color='purple', style='filled', fillcolor='lavender')\n",
    "graph.node('E', 'Tablas de Verdad', shape='box', color='orange', style='filled', fillcolor='yellow')\n",
    "graph.node('F', 'Circuitos Lógicos', shape='diamond', color='brown', style='filled', fillcolor='tan')\n",
    "\n",
    "# Edges (conexiones)\n",
    "graph.edge('A', 'B', label='Relación')\n",
    "graph.edge('A', 'C', label='Relación')\n",
    "graph.edge('A', 'D', label='Equivalencia')\n",
    "graph.edge('A', 'E', label='Representación')\n",
    "graph.edge('E', 'F', label='Aplicación')\n",
    "\n",
    "# Renderizar y guardar\n",
    "graph.render(os.path.join(output_dir, 'RelacionesLogicas'), view=True, directory=r\"C:\\Users\\marco\\Downloads\")"
   ]
  },
  {
   "cell_type": "markdown",
   "id": "9ded9a03",
   "metadata": {},
   "source": [
    "### **Explicación de los cambios**\n",
    "\n",
    "1. **Renderizado de LaTeX a imágenes**:\n",
    "   - Se utiliza `matplotlib` para renderizar las expresiones LaTeX en imágenes (`png`).\n",
    "   - La función `render_latex_to_image` toma una cadena LaTeX y la guarda como una imagen.\n",
    "\n",
    "2. **Uso de imágenes en los nodos**:\n",
    "   - En lugar de incluir directamente el texto LaTeX en los nodos, se utiliza la opción `image` para cargar las imágenes generadas.\n",
    "\n",
    "3. **Formato de los nodos**:\n",
    "   - Se elimina el texto de los nodos (`label=''`) y se reemplaza con la imagen correspondiente.\n",
    "\n",
    "4. **Renderizado del grafo**:\n",
    "   - El grafo se renderiza en la ubicación especificada (`C:/Users/marco/Descargas/RelacionesLogicas`).\n",
    "\n",
    "---\n",
    "\n",
    "### **Requisitos adicionales**\n",
    "\n",
    "- Instala `matplotlib` y `LaTeX` en tu sistema para que `usetex=True` funcione correctamente.\n",
    "- Asegúrate de que las rutas de las imágenes sean correctas y accesibles.\n",
    "\n",
    "---\n",
    "\n",
    "### **Resultado esperado**\n",
    "El grafo generado tendrá nodos con expresiones LaTeX renderizadas correctamente, lo que mejorará la claridad y el aspecto visual del diagrama. Las imágenes se guardarán en la ubicación especificada y se abrirán automáticamente si `view=True`. \n",
    "\n",
    "¡Espero que esto resuelva tu problema! \n"
   ]
  },
  {
   "cell_type": "markdown",
   "id": "568188ff",
   "metadata": {},
   "source": [
    "```\n",
    "\n",
    "---\n"
   ]
  },
  {
   "cell_type": "markdown",
   "id": "70319a93",
   "metadata": {},
   "source": [
    "\n",
    "### 4. **Contenido de la clase**  \n",
    "1. **Introducción a las relaciones lógicas:**  \n",
    "   - Definición de implicación ($p \\rightarrow q$).  \n",
    "   - Recíproco ($q \\rightarrow p$), contrario ($\\neg p \\rightarrow \\neg q$) y contrarrecíproco ($\\neg q \\rightarrow \\neg p$).  \n",
    "   - Ejemplos de relaciones lógicas en la vida real.  \n",
    "\n",
    "2. **Tablas de verdad:**  \n",
    "   - Uso de SymPy para generar tablas de verdad.  \n",
    "   ```python\n",
    "   from sympy import symbols, Implies, Not\n",
    "   p, q = symbols('p q')\n",
    "   Implies(p, q)  # Implicación\n",
    "   Implies(q, p)  # Recíproco\n",
    "   Implies(Not(p), Not(q))  # Contrario\n",
    "   Implies(Not(q), Not(p))  # Contrarrecíproco\n",
    "   ```  \n",
    "\n",
    "3. **Circuitos lógicos y su relación con las implicaciones:**  \n",
    "   - Diseño de circuitos lógicos en Crocodile Clips.  \n",
    "   - Simulación de circuitos básicos (AND, OR, NOT).  \n",
    "\n",
    "4. **Pensamiento computacional y modelación:**  \n",
    "   - Uso de Python para modelar problemas con relaciones lógicas.  \n",
    "   - Visualización de datos con Matplotlib y Seaborn.  \n",
    "\n",
    "---\n"
   ]
  },
  {
   "cell_type": "markdown",
   "id": "9f837baa",
   "metadata": {},
   "source": [
    "\n",
    "### 5. **Canción o poema**  \n",
    "**Poema:**  \n",
    "\"La implicación es un camino,  \n",
    "que va de $p$ a $q$ sin parar,  \n",
    "su recíproco es otro sendero,  \n",
    "que de $q$ a $p$ nos lleva a andar.  \n",
    "El contrario nos dice,  \n",
    "que si no es $p$, no es $q$,  \n",
    "y el contrarrecíproco,  \n",
    "nos muestra la verdad sin dudar.\"  \n",
    "\n",
    "---\n",
    "\n",
    "### 6. **Elementos históricos y epistemológicos**  \n",
    "**Cuento al estilo antioqueño:**  \n",
    "\"Érase una vez, en la antigua Grecia, un filósofo llamado Aristóteles, que se paseaba por los jardines de Atenas pensando en cómo las cosas se relacionan entre sí. Un día, dijo: 'Si llueve, el suelo se moja'. Así nació la idea de la implicación lógica. Muchos años después, George Boole, un matemático inglés, convirtió esas ideas en símbolos y ecuaciones, y Claude Shannon las llevó a los circuitos eléctricos. Hoy, gracias a ellos, podemos entender cómo las relaciones lógicas se entrelazan en un mundo de causas y efectos.\"  \n",
    "\n",
    "**Imágenes:**  \n",
    "- Aristóteles  \n",
    "- George Boole  \n",
    "- Claude Shannon  \n",
    "\n",
    "---\n",
    "\n",
    "### 7. **Actividades de aprendizaje**  \n",
    "1. **Con calculadora Casio 991 LA cw:**  \n",
    "   - Resolver ecuaciones lógicas y verificar tablas de verdad.  \n",
    "\n",
    "2. **Con Crocodile Clips:**  \n",
    "   - Diseñar un circuito que represente la implicación y su contrarrecíproco.  \n",
    "\n",
    "3. **En Jupyter Notebook:**  \n",
    "   - Crear una animación con `matplotlib.animation` que muestre cómo cambia una tabla de verdad al modificar las entradas.  \n",
    "   ```python\n",
    "   import matplotlib.pyplot as plt\n",
    "   import matplotlib.animation as animation\n",
    "   from IPython.display import HTML\n",
    "\n",
    "   fig, ax = plt.subplots()\n",
    "   def animate(i):\n",
    "       ax.clear()\n",
    "       ax.plot([0, i], [0, i], 'ro-')\n",
    "       ax.set_xlim(0, 10)\n",
    "       ax.set_ylim(0, 10)\n",
    "   ani = animation.FuncAnimation(fig, animate, frames=10, interval=500)\n",
    "   HTML(ani.to_jshtml())\n",
    "   ```\n",
    "\n",
    "---\n",
    "\n",
    "### 8. **Evaluación**  \n",
    "- **Proyectos:**  \n",
    "  1. Diseñar un circuito lógico para un sistema de riego automático.  \n",
    "  2. Modelar un problema real utilizando relaciones lógicas en Python.  \n",
    "- **Quiz:**  \n",
    "  Preguntas sobre tablas de verdad y relaciones lógicas.  \n",
    "- **Parcial:**  \n",
    "  Resolver un problema utilizando relaciones lógicas y herramientas computacionales.  \n",
    "\n",
    "---\n",
    "\n",
    "### 9. **Tarea o actividades de ejercitación**  \n",
    "- Resolver 10 ejercicios de relaciones lógicas utilizando SymPy.  \n",
    "- Diseñar 5 circuitos lógicos en Crocodile Clips.  \n",
    "\n",
    "---\n",
    "\n",
    "### 10. **Actividad de retroalimentación**  \n",
    "- Revisión en equipo de los proyectos y discusión de mejoras.  \n",
    "\n",
    "---\n",
    "\n",
    "### 11. **Vocabulario en inglés**  \n",
    "- Logical implication: Implicación lógica.  \n",
    "- Converse: Recíproco.  \n",
    "- Inverse: Contrario.  \n",
    "- Contrapositive: Contrarrecíproco.  \n",
    "- Truth table: Tabla de verdad.  \n",
    "- Logic gates: Compuertas lógicas.  \n",
    "\n",
    "---\n",
    "\n",
    "### 12. **Apéndice**  \n",
    "- Desarrollo de habilidades para trabajar en equipo.  \n",
    "- Inteligencia emocional para presentar pruebas sin temor.  \n",
    "\n",
    "---\n",
    "\n",
    "### 13. **Referentes en didáctica de la matemática**  \n",
    "1. Duval, R. (1999). *Representations and changes of representation for the acquisition of mathematical concepts*.  \n",
    "2. Wing, J. (2006). *Computational thinking*.  \n",
    "3. ... (otros 8 referentes en APA).  \n",
    "\n",
    "---\n",
    "\n",
    "Este diseño integra tecnología, creatividad y rigor académico para un aprendizaje significativo. ¡Espero que sea útil!"
   ]
  },
  {
   "cell_type": "markdown",
   "id": "fb9402bb",
   "metadata": {
    "slideshow": {
     "slide_type": "slide"
    }
   },
   "source": [
    "## Estrategias propuestas para la solución de las dificultades de aprendizaje detectadas"
   ]
  },
  {
   "cell_type": "markdown",
   "id": "2dd3bd5c",
   "metadata": {
    "slideshow": {
     "slide_type": "slide"
    }
   },
   "source": []
  },
  {
   "cell_type": "markdown",
   "id": "c6236d5d",
   "metadata": {},
   "source": [
    "# FODA del grupo y del profesor  \n",
    "\n",
    "* F: Fortalezas\n",
    "* O: Oportunidades\n",
    "* D: Dificultades\n",
    "* A: Amenazas."
   ]
  },
  {
   "cell_type": "markdown",
   "id": "b48f9542",
   "metadata": {},
   "source": [
    "## ¿Cómo se sintió en este espacio de enseñanza y aprendizaje?\n",
    "\n",
    "!Dios te bendiga¡"
   ]
  },
  {
   "cell_type": "markdown",
   "id": "10bce0d0",
   "metadata": {
    "slideshow": {
     "slide_type": "slide"
    }
   },
   "source": [
    "## Referentes "
   ]
  },
  {
   "cell_type": "markdown",
   "id": "d204c917",
   "metadata": {},
   "source": [
    "* [Cuaderno de viaje de un maestro](https://www.youtube.com/watch?v=zl6iSEC0zeE&t=3789s)\n",
    "\n",
    "* [Grajales Vanegas, L. M., Restrepo Estrada, C. E., Restrepo Ochoa, S. I., & Ruíz De Villalba, F. (2015). Matemáticas I para las ciencias económicas.](https://github.com/marco-canas/fundamentos_de_la_aritmetica/blob/main/referentes/2_grajales_logica/grajales_lina_matemticas.pdf)\n",
    "  \n",
    "* Duval, R. (2004). Semiosis y pensamiento humano: registros semióticos y aprendizajes intelectuales. Universidad del Valle.\n",
    "\n",
    "* [Aylwin, C. U. (2011). Lógica, conjuntos y números. Universidad de los Andes, Consejo de Publicaciones, Colección: Ciencias Básicas, Serie: Matemáticas.](https://github.com/marco-canas/fundamentos_logica/blob/main/referentes/2_uzcategui/uscategui.pdf)\n",
    "  \n",
    "* [Chollet, F. (2021). Deep learning with Python. Simon and Schuster.](https://github.com/marco-canas/didactica_ciencia_datos/blob/main/2_referentes/chollet/Fran%C3%A7ois%20Chollet%20-%20Deep%20Learning%20with%20Python-Manning%20(2018).pdf)  \n",
    "  \n",
    " \n",
    "\n",
    "* [stewart cálculo](https://udeaeduco-my.sharepoint.com/:b:/g/personal/marco_canas_udea_edu_co/EZgXZjAp8QxPqOAim2hs6LcBNPLGjSHf-xwYnUVYkwa04w?e=RZdTCy)  \n",
    "\n",
    "* [larson](https://udeaeduco-my.sharepoint.com/:b:/g/personal/marco_canas_udea_edu_co/ES71ChFeO9ZDhW3TwC5Ijk8BjxUK3Pdqz_fjHxTTFAfIAg?e=VDEjfu)\n",
    "\n",
    "\n",
    "\n",
    "* [Recomendación de la UNESCO sobre ciencia abierta](https://unesdoc.unesco.org/ark:/48223/pf0000379949_spa)\n",
    "\n",
    "* [chatGPT](https://openai.com/blog/chatgpt)  \n",
    "\n",
    "* [Géron, A. (2017). Hands-on machine learning with scikit-learn and tensorflow: Concepts. Tools, and Techniques to build intelligent systems.](chrome-extension://efaidnbmnnnibpcajpcglclefindmkaj/http://14.139.161.31/OddSem-0822-1122/Hands-On_Machine_Learning_with_Scikit-Learn-Keras-and-TensorFlow-2nd-Edition-Aurelien-Geron.pdf)   \n"
   ]
  },
  {
   "cell_type": "markdown",
   "id": "6b9e56a8",
   "metadata": {
    "slideshow": {
     "slide_type": "slide"
    }
   },
   "source": [
    "### [Evaluamos al profesor Marco Cañas Aquí](https://forms.office.com/Pages/ResponsePage.aspx?id=IefhmYRxjkmK_7KtTlPBwkanXIs1i1FEujpsZgO6dXpUREJPV1kxUk1JV1ozTFJIQVNIQjY5WEY3US4u)"
   ]
  },
  {
   "cell_type": "markdown",
   "id": "071afa04",
   "metadata": {
    "slideshow": {
     "slide_type": "slide"
    }
   },
   "source": [
    "## [Evaluación luego de alcanzar estos objetivos de aprendizaje]()"
   ]
  },
  {
   "cell_type": "markdown",
   "id": "10f43536",
   "metadata": {
    "slideshow": {
     "slide_type": "slide"
    }
   },
   "source": [
    "### Continue su aprendizaje en la siguiente clase a través del siguiente [vínculo]()"
   ]
  },
  {
   "cell_type": "markdown",
   "id": "af751e30",
   "metadata": {
    "slideshow": {
     "slide_type": "slide"
    }
   },
   "source": [
    "# Conjeturas pedagógicas fruto de la aplicación del modelo de aprendizaje invertido y del enfoque hacia la ciencia de datos con python\n",
    "\n",
    "1. Todo cálculo o resultado debe ser interpretado en una línea markdown del cuaderno Jupyter, inmediatamente después de la enunciación del resultado y después de la presentación de una tabla o gráfico bidimensional, de tal menera que el estudiante explicite la comprensión verbal del resultado y las inferencias o estrategias que este resultado le sugieren.   "
   ]
  }
 ],
 "metadata": {
  "celltoolbar": "Slideshow",
  "kernelspec": {
   "display_name": ".venv",
   "language": "python",
   "name": "python3"
  },
  "language_info": {
   "codemirror_mode": {
    "name": "ipython",
    "version": 3
   },
   "file_extension": ".py",
   "mimetype": "text/x-python",
   "name": "python",
   "nbconvert_exporter": "python",
   "pygments_lexer": "ipython3",
   "version": "3.12.6"
  },
  "rise": {
   "enable_chalkboard": true,
   "theme": "sky",
   "transition": "zoom"
  }
 },
 "nbformat": 4,
 "nbformat_minor": 5
}
