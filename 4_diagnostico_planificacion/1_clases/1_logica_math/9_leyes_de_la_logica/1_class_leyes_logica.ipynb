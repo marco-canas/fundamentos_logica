{
 "cells": [
  {
   "cell_type": "markdown",
   "id": "dc06dec7",
   "metadata": {
    "slideshow": {
     "slide_type": "slide"
    }
   },
   "source": [
    "<table align=\"left\">\n",
    "  <td>\n",
    "    <a href=\"https://colab.research.google.com/github/marco-canas/fundamentos_logica/blob/main/4_diagnostico_planificacion/1_clases/1_logica_math/9_leyes_de_la_logica/1_class_leyes_logica.ipynb\" target=\"_parent\"><img src=\"https://colab.research.google.com/assets/colab-badge.svg\" alt=\"Open In Colab\"/></a>\n",
    "  </td>\n",
    "  <td>\n",
    "    <a target=\"_blank\" href=\"https://kaggle.com/kernels/welcome?src=https://github.com/marco-canas/fundamentos_logica/blob/main/4_diagnostico_planificacion/1_clases/1_logica_math/9_leyes_de_la_logica/1_class_leyes_logica.ipynb\"><img src=\"https://kaggle.com/static/images/open-in-kaggle.svg\" /></a>\n",
    "  </td>\n",
    "</table>"
   ]
  },
  {
   "cell_type": "code",
   "execution_count": 2,
   "id": "a7fd0166",
   "metadata": {},
   "outputs": [],
   "source": [
    "# función de usuario para el código QR \n",
    "\n",
    "# Instalación necesaria si no tienes qrcode\n",
    "# # !pip install qrcode[pil]\n",
    "\n",
    "import qrcode\n",
    "from IPython.display import Image, display\n",
    "from io import BytesIO\n",
    "\n",
    "def generar_qr(url: str, box_size: int = 10, border: int = 4):\n",
    "    \"\"\"\n",
    "    Genera y muestra en Jupyter un código QR para la URL dada.\n",
    "    \n",
    "    Parámetros:\n",
    "    -----------\n",
    "    url : str\n",
    "        Dirección web o texto a codificar en el QR.\n",
    "    box_size : int\n",
    "        Tamaño de cada caja (pixel) en el QR.\n",
    "    border : int\n",
    "        Grosor del borde del QR (en cajas).\n",
    "    \"\"\"\n",
    "    # Crear el objeto QR\n",
    "    qr = qrcode.QRCode(\n",
    "        version=1,\n",
    "        box_size=box_size,\n",
    "        border=border\n",
    "    )\n",
    "    qr.add_data(url)\n",
    "    qr.make(fit=True)\n",
    "\n",
    "    # Convertir a imagen\n",
    "    img = qr.make_image(fill_color=\"black\", back_color=\"white\")\n",
    "\n",
    "    # Guardar en memoria para mostrar en Jupyter\n",
    "    buffer = BytesIO()\n",
    "    img.save(buffer, format=\"PNG\")\n",
    "    buffer.seek(0)\n",
    "    display(Image(data=buffer.getvalue()))\n"
   ]
  },
  {
   "cell_type": "code",
   "execution_count": 3,
   "id": "f686a466",
   "metadata": {},
   "outputs": [
    {
     "data": {
      "image/png": "[encoded data removed]",
      "text/plain": [
       "<IPython.core.display.Image object>"
      ]
     },
     "metadata": {},
     "output_type": "display_data"
    }
   ],
   "source": [
    "url = 'https://colab.research.google.com/github/marco-canas/fundamentos_logica/blob/main/4_diagnostico_planificacion/1_clases/1_logica_math/9_leyes_de_la_logica/1_class_leyes_logica.ipynb'\n",
    "generar_qr(url)"
   ]
  },
  {
   "cell_type": "markdown",
   "id": "e0c5b198",
   "metadata": {
    "slideshow": {
     "slide_type": "slide"
    }
   },
   "source": [
    "### [Video de apoyo a la lectura interactiva y experimental de este cuaderno]()"
   ]
  },
  {
   "cell_type": "markdown",
   "id": "41e82203",
   "metadata": {
    "slideshow": {
     "slide_type": "slide"
    }
   },
   "source": [
    "### [Vínculo al programa del curso:  ]()\n",
    "\n"
   ]
  },
  {
   "cell_type": "markdown",
   "id": "d11ab06d",
   "metadata": {
    "slideshow": {
     "slide_type": "slide"
    }
   },
   "source": [
    "Un reconocimiento a mis estudiantes que han construido conmigo este saber pedagógico:\n",
    "\n",
    "<img src = ''> \n",
    "\n"
   ]
  },
  {
   "cell_type": "markdown",
   "id": "8a74a56c-0ce6-4ad6-b985-553fd7fb68bb",
   "metadata": {},
   "source": [
    "Reconocimiento a las profesoras destacadas en enseñanza de la matemática en Colombia\n"
   ]
  },
  {
   "cell_type": "code",
   "execution_count": 1,
   "id": "b179a7ed",
   "metadata": {},
   "outputs": [
    {
     "data": {
      "application/vnd.microsoft.datawrangler.viewer.v0+json": {
       "columns": [
        {
         "name": "index",
         "rawType": "int64",
         "type": "integer"
        },
        {
         "name": "Cedula",
         "rawType": "int64",
         "type": "integer"
        },
        {
         "name": "Nombre",
         "rawType": "object",
         "type": "string"
        },
        {
         "name": "Email",
         "rawType": "object",
         "type": "string"
        },
        {
         "name": "Asistencia",
         "rawType": "float64",
         "type": "float"
        },
        {
         "name": "quiz_1",
         "rawType": "float64",
         "type": "float"
        },
        {
         "name": "parcial 1",
         "rawType": "float64",
         "type": "float"
        },
        {
         "name": "Proyecto_1",
         "rawType": "float64",
         "type": "float"
        }
       ],
       "conversionMethod": "pd.DataFrame",
       "ref": "dbd1ddd2-9b1e-42e0-b0f2-0c1635e0eba7",
       "rows": [
        [
         "0",
         "1067281024",
         "ALVAREZ GOEZ DAIRO ESTEBAN",
         "dairo.alvarez1@udea.edu.co",
         null,
         null,
         "5.0",
         null
        ],
        [
         "1",
         "1041086439",
         "CASTILLO SIERRA SHIRLIS SARAY",
         "shirlis.castillo@udea.edu.co",
         null,
         "5.0",
         "4.0",
         "5.0"
        ],
        [
         "2",
         "1045419649",
         "ESPINOSA ESPINOSA LILIANA ANDREA",
         "lilianaa.espinosa@udea.edu.co",
         null,
         "4.5",
         "5.0",
         "5.0"
        ]
       ],
       "shape": {
        "columns": 7,
        "rows": 3
       }
      },
      "text/html": [
       "<div>\n",
       "<style scoped>\n",
       "    .dataframe tbody tr th:only-of-type {\n",
       "        vertical-align: middle;\n",
       "    }\n",
       "\n",
       "    .dataframe tbody tr th {\n",
       "        vertical-align: top;\n",
       "    }\n",
       "\n",
       "    .dataframe thead th {\n",
       "        text-align: right;\n",
       "    }\n",
       "</style>\n",
       "<table border=\"1\" class=\"dataframe\">\n",
       "  <thead>\n",
       "    <tr style=\"text-align: right;\">\n",
       "      <th></th>\n",
       "      <th>Cedula</th>\n",
       "      <th>Nombre</th>\n",
       "      <th>Email</th>\n",
       "      <th>Asistencia</th>\n",
       "      <th>quiz_1</th>\n",
       "      <th>parcial 1</th>\n",
       "      <th>Proyecto_1</th>\n",
       "    </tr>\n",
       "  </thead>\n",
       "  <tbody>\n",
       "    <tr>\n",
       "      <th>0</th>\n",
       "      <td>1067281024</td>\n",
       "      <td>ALVAREZ GOEZ DAIRO ESTEBAN</td>\n",
       "      <td>dairo.alvarez1@udea.edu.co</td>\n",
       "      <td>NaN</td>\n",
       "      <td>NaN</td>\n",
       "      <td>5.0</td>\n",
       "      <td>NaN</td>\n",
       "    </tr>\n",
       "    <tr>\n",
       "      <th>1</th>\n",
       "      <td>1041086439</td>\n",
       "      <td>CASTILLO SIERRA SHIRLIS SARAY</td>\n",
       "      <td>shirlis.castillo@udea.edu.co</td>\n",
       "      <td>NaN</td>\n",
       "      <td>5.0</td>\n",
       "      <td>4.0</td>\n",
       "      <td>5.0</td>\n",
       "    </tr>\n",
       "    <tr>\n",
       "      <th>2</th>\n",
       "      <td>1045419649</td>\n",
       "      <td>ESPINOSA ESPINOSA LILIANA ANDREA</td>\n",
       "      <td>lilianaa.espinosa@udea.edu.co</td>\n",
       "      <td>NaN</td>\n",
       "      <td>4.5</td>\n",
       "      <td>5.0</td>\n",
       "      <td>5.0</td>\n",
       "    </tr>\n",
       "  </tbody>\n",
       "</table>\n",
       "</div>"
      ],
      "text/plain": [
       "       Cedula                            Nombre  \\\n",
       "0  1067281024        ALVAREZ GOEZ DAIRO ESTEBAN   \n",
       "1  1041086439     CASTILLO SIERRA SHIRLIS SARAY   \n",
       "2  1045419649  ESPINOSA ESPINOSA LILIANA ANDREA   \n",
       "\n",
       "                           Email  Asistencia  quiz_1  parcial 1  Proyecto_1  \n",
       "0     dairo.alvarez1@udea.edu.co         NaN     NaN        5.0         NaN  \n",
       "1   shirlis.castillo@udea.edu.co         NaN     5.0        4.0         5.0  \n",
       "2  lilianaa.espinosa@udea.edu.co         NaN     4.5        5.0         5.0  "
      ]
     },
     "execution_count": 1,
     "metadata": {},
     "output_type": "execute_result"
    }
   ],
   "source": [
    "import pandas as pd\n",
    "import numpy as np\n",
    "\n",
    "# Cargar la lista de estudiantes desde el archivo CSV\n",
    "path = 'C:/Users/marco/Documentos/docencia/groups_list/logica.xlsx'\n",
    "estudiantes = pd.read_excel(path)\n",
    "\n",
    "estudiantes.head(3)"
   ]
  },
  {
   "cell_type": "markdown",
   "id": "d7598d0a-d9b7-4ae0-b029-a0ed6ed1130b",
   "metadata": {},
   "source": [
    "\n",
    "# Principios de mi labor docente"
   ]
  },
  {
   "cell_type": "markdown",
   "id": "4f9d8cf9",
   "metadata": {
    "slideshow": {
     "slide_type": "slide"
    }
   },
   "source": [
    "## Modelo general de clase: [aula invertida](https://www3.gobiernodecanarias.org/medusa/ecoescuela/pedagotic/aprendizaje-invertido-flipped-classroom/)"
   ]
  },
  {
   "cell_type": "markdown",
   "id": "eb6ed03a",
   "metadata": {},
   "source": [
    "<img src = 'https://resources.maneuveringthemiddle.com/wp-content/uploads/2020/07/04212706/1-5.png' width = 500>  \n",
    "\n"
   ]
  },
  {
   "cell_type": "markdown",
   "id": "34319cce-a71b-4f64-aab8-b53e521efa40",
   "metadata": {},
   "source": [
    "# Metodología de Aprendizaje Basado en Problemas y Proyectos (ABPP) \n"
   ]
  },
  {
   "cell_type": "markdown",
   "id": "c4f73d81",
   "metadata": {},
   "source": [
    "\n",
    "<img src = 'https://www.unir.net/wp-content/uploads/2020/07/aprendizaje-problemas2-1-1-1-1.jpeg' width = 500>"
   ]
  },
  {
   "cell_type": "markdown",
   "id": "841a985c-bd9b-4dd3-8e4c-893983980af2",
   "metadata": {},
   "source": [
    "# Desarrollo del pensamiento computacional con Lenguajes Python y R, y con archivos Markdown orientado a la formación en ciencia de datos \n",
    "\n"
   ]
  },
  {
   "cell_type": "markdown",
   "id": "3d0eba94",
   "metadata": {},
   "source": [
    "\n",
    "<img src = 'https://i.ytimg.com/vi/mcG_wcR4e6M/maxresdefault.jpg' width = 200>"
   ]
  },
  {
   "cell_type": "markdown",
   "id": "65aa0404-f7ae-495e-864c-1aec01b4255e",
   "metadata": {},
   "source": [
    "# Principio de fomento a la ciencia abierta, enseñar en el acceso a los datos públicos y el uso de software de código abierto  \n"
   ]
  },
  {
   "cell_type": "markdown",
   "id": "18ae9b87",
   "metadata": {},
   "source": [
    "\n",
    "<img src = 'https://unesdoc.unesco.org/in/rest/Thumb/image?id=p%3A%3Ausmarcdef_0000379949_spa&author=UNESCO&title=Recomendaci%C3%B3n+de+la+UNESCO+sobre+la+Ciencia+Abierta&year=2021&publisher=UNESCO&TypeOfDocument=UnescoPhysicalDocument&mat=PGD&ct=true&size=512&isPhysical=1' width = 200>"
   ]
  },
  {
   "cell_type": "markdown",
   "id": "d9559f85",
   "metadata": {},
   "source": [
    "El enfoque STEAMS en educación preescolar, primaria y secundaria es una extensión del enfoque STEM (Ciencia, Tecnología, Ingeniería y Matemáticas) y su variante STEAM, que incorpora el Arte. "
   ]
  },
  {
   "cell_type": "markdown",
   "id": "87665689",
   "metadata": {},
   "source": [
    "# Y finalmente, el enfoque TRRS de Duval.  "
   ]
  },
  {
   "cell_type": "markdown",
   "id": "eb0b70df",
   "metadata": {},
   "source": [
    "# Prompt para el diseño de desta clase haciendo uso de ChatGPT  \n",
    "\n",
    "# Prompt de diseño de clase: \n",
    "\n",
    "Dame, por favor, un diseño de clase, con la conjugación de los enfoques: STEAMS  y de aprendizaje basado en problemas y proyectos(ABPP) y Teoría de Registros de Representación Semiótica (TRRS) de Duval; sobre: **\"Leyes de la lógica (De Morgan, idempotencia, absorción); formas normales (CNF/DNF).\"**, siguiendo la estructura:   \n",
    "\n",
    "1. Título de la clase   \n",
    "   \n",
    "2. Objetivo de aprendizaje e indicadores de logro de estos objetivos.   \n",
    "   Diseña la clase incluyendo objetivos de educación matemática basada en el pensamiento crítico.   \n",
    "\n",
    "3.  Un mapa conceptual que resuma la clase elaborado en Graphviz de python con nodos y edges de diferentes formas, colores y rellenos y renderizado en la siguiente ubicación: `\"C:/Users/marco/Downloads\"`. No olvides el parámetro `view = True` para el método `render()` de Graphviz. Para este mapa controla las superposiciones de los nodos con: graph [overlap=false]; // Elimina superposiciones (puede aumentar el espacio)\n",
    "graph [overlap=\"scalexy\"]; // Escala el gráfico para evitar overlaps\n",
    "graph [overlap=\"compress\"]; // Comprime el grafo sin overlaps   \n",
    "   \n",
    "4. Contenido de la clase: Redacta el contenido completo presentando definiciones, teoremas y ejemplos ilustrativos asociados al tema de la clase.     \n",
    "   \n",
    "5. Incluye una canción o un poema que ayude a interiorizar y fijar los conceptos asociados a esta clase.  \n",
    "   \n",
    "6. Dame elementos históricos y epistemológicos asociados a esta clase, pero contados como un cuento al estilo de un cuentero antioqueño en Colombia. Incluye imágenes de los protagonistas históricos de esta clase.   \n",
    "   \n",
    "7. Actividades de aprendizaje    \n",
    "     * Incluya actividades de aprendizaje utilizando Calculadora **Casio 991 LA cw**\n",
    "     * Incluya también actividades de aprendizaje y modelación de situaciones o problemas reales a través de circuitos lógicos y circuitos digitales o electrónicos utilizando la aplicación portable cocodrilo. [Descarge esta aplicación portable aquí](https://crocodileclips.net/descargar-crocodile-clips/) \n",
    "     * Incluye actividades de aprendizaje utilizando lenguaje Python y Jupyter Notebook.   \n",
    "\n",
    "8. Incluye una canción o un poema que ayude a interiorizar y fijar los conceptos asociados a esta clase.  \n",
    "\n",
    "9.  Tarea o actividades de ejercitación y fijación.  \n",
    "     * Diseña 20 item de tareas de tal manera que en cada ejercicio se realicen las siguientes cuatro preguntas:  \n",
    "        - ¿Por qué esta expresión representa el problema?\n",
    "        - ¿Qué pasaría si cambiamos este valor?\n",
    "        - ¿Hay otra manera de resolverlo?\n",
    "        - ¿Cómo justificas que tu resultado es razonable? \n",
    "    \n",
    "10.  Evaluación incluyendo diez proyectos, un ejemplo de quiz y un ejemplo de parcial.  \n",
    "     * Diseña el quiz con preguntas, donde se pida al estudiante el mostrar la aplicación de las expresiones lógicas en contextos: \n",
    "       - Deportivos\n",
    "       - Cotidianos\n",
    "       - Matemáticas en teoría de números \n",
    "       - Matemáticas en geometría euclidiana\n",
    "       - Matemática en Cálculo Diferencial.\n",
    "       - Económicos. \n",
    "     * Actividad de desarrollo de habilidades metacognitivas para hacernos consientes de nuestro propio proceso de aprendizaje y de la importancia de la evaluación continua.\n",
    "\n",
    "11.  Diseño de actividad de retroalimentación.  \n",
    "      \n",
    "12.  Dame un vocabulario y frases del idioma inglés asociadas a esta clase.   \n",
    "    \n",
    "13.  Incluye apéndice para la clase sobre desarrollo de habilidades para trabajar en equipo y de asertividad y empatía para relacionarnos. También elementos de la inteligencia emocional para presentar pruebas sin temor y desarrollar habilidades metacognitivas.   \n",
    "      \n",
    "14. Incluye 10 referentes en didáctica de la matemática que estén de acuerdo a la propuesta didáctica de esta clase. Adiciona a estos referentes a Raymond Duval (Representaciones y cambios de representación para la adquisición de conceptos matemáticos) y a Jeannette Wing (Desarrollo del pensamiento computacional). Déjame todos estos referentes ordenados de acuerdo a las normas APA. Déjame todos estos referentes ordenados de acuerdo a las normas APA. Incluye las citaciones a estos referentes a medida que vallas diseñando la clase. \n",
    "\n",
    "\n",
    "Pero  que este diseño sea para que el estudiante pueda aprender experimentando en cuadernos Jupyter con funciones de usuario y animaciones y visualizaciones en Python. En particular utiliza para el diseño de clase a NumPy, Pandas, SymPy, Matplotlib.pyplot, Seaborn, Plotly, ipywidgets, matplotlib.animation y Jupyter Notebook.  \n",
    "Cuando vallas a utilizar SymPy, ten en cuanta la siguiente configuración: \n",
    "# Corrección y mejora del código\n",
    "from sympy import symbols, Equivalent\n",
    "from sympy.logic.boolalg import truth_table\n",
    "\n",
    "Cada vez que utilices `matplotlib.animacion` no olvides incluir el uso de `IPython. display` para la renderización de estas animaciones a través de Jupyter Notebook. No olvides darme los diseños de clase con las ecuaciones matemáticas delimitadas con signo de dólar $ para que VS Code si me renderice estas expresiones del lenguaje latex. Cuando vallas a utilizar ipywidgets ten en cuenta la siguiente importación inicial para garantizar que la visualización interactiva si se renderice en VS Code:                                                      \n",
    "import numpy as np\n",
    "import matplotlib.pyplot as plt\n",
    "import ipywidgets as widgets\n",
    "\n",
    "Ubicación del diseño IAE para el curso de Fundamentos de Lógica: https://github.com/marco-canas/fundamentos_logica/blob/main/2_diseno_investigacion_educativa/1_diseno_investigacion_educativa.md\n",
    "\n",
    "Ubicación del programa del curso: https://github.com/marco-canas/fundamentos_logica/blob/main/3_programa_curso/1_programa_logica.md\n",
    "\n",
    "Ubicación del cronograma del curso: https://github.com/marco-canas/fundamentos_logica/blob/main/3_programa_curso/3_programacion_clase_a_clase.md\n",
    "\n",
    "Ubicación de la lista de estudiantes del curso: https://github.com/marco-canas/groups_list/blob/main/logica.xlsx"
   ]
  },
  {
   "cell_type": "markdown",
   "id": "59283a4d",
   "metadata": {},
   "source": [
    "# **S4 — Lun 01/09/2025 (4 h)**\n",
    "**Tema:** Leyes de la lógica (De Morgan, idempotencia, absorción); formas normales (CNF/DNF).\n",
    "**Evaluación:** **Parcial 1 (2 h)** (proposicional básico).\n",
    "**Actividades:** 2 h clase + 2 h examen (al final)."
   ]
  },
  {
   "cell_type": "markdown",
   "id": "76c795ee",
   "metadata": {},
   "source": [
    "Excelente reto, Marco Julio 🙌.\n",
    "Te preparo un **diseño de clase completo, integrador y en clave STEAMS + ABPP + TRRS de Duval**, siguiendo tu estructura, con recursos Python para Jupyter y un toque narrativo e histórico.\n",
    "\n",
    "---\n",
    "\n",
    "# 📘 Diseño de Clase\n",
    "\n",
    "## 1. Título de la clase\n",
    "\n",
    "**“Leyes de la Lógica y Formas Normales: Pensar, Representar y Crear Conexiones”**\n",
    "\n",
    "---\n",
    "\n",
    "## 2. Objetivo de aprendizaje e indicadores de logro\n",
    "\n",
    "### Objetivo general\n",
    "\n",
    "Que los estudiantes comprendan, apliquen y representen las **leyes de la lógica proposicional (De Morgan, idempotencia, absorción)** y las **formas normales (CNF/DNF)** a través de **representaciones semióticas múltiples (TRRS de Duval)**, con metodologías **STEAMS** y **Aprendizaje Basado en Problemas y Proyectos (ABPP)**.\n",
    "\n",
    "### Objetivos específicos\n",
    "\n",
    "1. Analizar proposiciones lógicas utilizando tablas de verdad, simplificación algebraica y representaciones gráficas.\n",
    "2. Reconocer el valor de las leyes de la lógica en contextos cotidianos, deportivos, económicos, tecnológicos y artísticos.\n",
    "3. Desarrollar competencias en **pensamiento crítico y computacional** mediante la experimentación con Python, Jupyter y visualizaciones dinámicas.\n",
    "4. Fortalecer habilidades socioemocionales (trabajo en equipo, empatía, resiliencia) al enfrentar problemas abiertos.\n",
    "\n",
    "### Indicadores de logro\n",
    "\n",
    "* Expresa una proposición en diferentes registros (tablas, fórmulas, diagramas de Venn, circuitos lógicos).\n",
    "* Justifica con claridad por qué una proposición es tautología, contradicción o contingencia.\n",
    "* Simplifica expresiones con las leyes de la lógica y explica su pertinencia en un problema real.\n",
    "* Implementa código en Python que modele y visualice procesos lógicos.\n",
    "* Colabora en la construcción de proyectos que integran lógica con otras disciplinas STEAMS.\n",
    "\n",
    "---\n",
    "\n",
    "## 3. Mapa conceptual (Graphviz en Python)\n",
    "\n",
    "```python\n",
    "from graphviz import Digraph\n",
    "\n",
    "dot = Digraph(comment=\"Mapa conceptual - Lógica proposicional\")\n",
    "dot.attr(size='8,8')\n",
    "dot.attr(overlap=\"scalexy\")\n",
    "dot.attr(overlap=\"compress\")\n",
    "dot.attr(overlap=\"false\")\n",
    "\n",
    "# Nodos principales\n",
    "dot.node('A', 'Leyes de la lógica', shape='ellipse', style='filled', fillcolor='lightblue')\n",
    "dot.node('B', 'De Morgan', shape='box', style='filled', fillcolor='lightgreen')\n",
    "dot.node('C', 'Idempotencia', shape='diamond', style='filled', fillcolor='lightyellow')\n",
    "dot.node('D', 'Absorción', shape='octagon', style='filled', fillcolor='lightpink')\n",
    "dot.node('E', 'Formas Normales', shape='ellipse', style='filled', fillcolor='lightblue')\n",
    "dot.node('F', 'CNF', shape='box3d', style='filled', fillcolor='orange')\n",
    "dot.node('G', 'DNF', shape='box3d', style='filled', fillcolor='orange')\n",
    "dot.node('H', 'Aplicaciones', shape='ellipse', style='filled', fillcolor='lightgray')\n",
    "dot.node('I', 'Circuitos lógicos', shape='parallelogram', style='filled', fillcolor='cyan')\n",
    "dot.node('J', 'Python/Jupyter', shape='folder', style='filled', fillcolor='violet')\n",
    "\n",
    "# Relaciones\n",
    "dot.edges(['AB', 'AC', 'AD'])\n",
    "dot.edge('A','E')\n",
    "dot.edge('E','F')\n",
    "dot.edge('E','G')\n",
    "dot.edge('F','H')\n",
    "dot.edge('G','H')\n",
    "dot.edge('H','I')\n",
    "dot.edge('H','J')\n",
    "\n",
    "dot.render(\"C:/Users/marco/Downloads/mapa_logica\", view=True)\n",
    "```\n",
    "\n",
    "---\n",
    "\n",
    "## 4. Contenido de la clase\n",
    "\n",
    "### Definiciones\n",
    "\n",
    "* **Ley de De Morgan**:\n",
    "  \\$\\neg (p \\land q) \\equiv (\\neg p) \\lor (\\neg q)\\$\n",
    "  \\$\\neg (p \\lor q) \\equiv (\\neg p) \\land (\\neg q)\\$\n",
    "\n",
    "* **Idempotencia**:\n",
    "  \\$p \\lor p \\equiv p\\$\n",
    "  \\$p \\land p \\equiv p\\$\n",
    "\n",
    "* **Absorción**:\n",
    "  \\$p \\lor (p \\land q) \\equiv p\\$\n",
    "  \\$p \\land (p \\lor q) \\equiv p\\$\n",
    "\n",
    "* **Formas normales**:\n",
    "\n",
    "  * CNF: conjunción de disyunciones.\n",
    "  * DNF: disyunción de conjunciones.\n",
    "\n",
    "### Ejemplo ilustrativo\n",
    "\n",
    "* Simplificar \\$(p \\land (p \\lor q))\\$\n",
    "  Aplicando absorción: \\$\\equiv p\\$.\n",
    "\n",
    "* Expresar \\$(p \\to q) \\land (\\neg q)\\$ en CNF:\n",
    "  \\$\\equiv (\\neg p \\lor q) \\land (\\neg q)\\$.\n",
    "\n",
    "---\n",
    "\n",
    "## 5. Poema mnemotécnico\n",
    "\n",
    "*\"Cuando la lógica me enreda,\n",
    "De Morgan me da la rueda:\n",
    "negación se abre camino,\n",
    "con unión o con destino.\n",
    "Si repito no hay sorpresa,\n",
    "idempotencia endereza.\n",
    "Y si sobra repetición,\n",
    "absorción da la razón.\"*\n",
    "\n",
    "---\n",
    "\n",
    "## 6. Historia como cuento antioqueño\n",
    "\n",
    "“Les voy a contar… que hace muchos años, en tierras lejanas de Europa, unos señores de nombres enredados, **Augustus De Morgan** y **George Boole**, se sentaban con tintero y papel a pensar cómo poner en reglas la forma de razonar. Eran tiempos en que la lógica parecía solo cosa de filósofos. Pero vea, mi hermano, esos cálculos resultaron tan sabrosos que hoy son la base de los computadores que usamos. Y como buen cuento paisa, el ingenio de esos personajes nos dejó herramientas que hoy podemos usar hasta pa’ prender un bombillo con un circuito digital.”\n",
    "\n",
    "*(Aquí incluir imágenes de Boole y De Morgan en la presentación de clase.)*\n",
    "\n",
    "---\n",
    "\n",
    "## 7. Actividades de aprendizaje\n",
    "\n",
    "### Con Casio 991 LA cw\n",
    "\n",
    "* Construir tablas de verdad usando el modo lógico de la calculadora.\n",
    "\n",
    "### Con Cocodrilo\n",
    "\n",
    "* Modelar un circuito que represente \\$\\neg (p \\land q)\\$.\n",
    "* Observar que se comporta igual que \\$(\\neg p) \\lor (\\neg q)\\$.\n",
    "\n",
    "### Con Python y Jupyter\n",
    "\n",
    "* Usar **SymPy** para generar tablas de verdad.\n",
    "* Crear animaciones en **matplotlib.animation** mostrando cómo cambian las proposiciones.\n",
    "* Desarrollar un widget con **ipywidgets** que permita al estudiante cambiar valores de \\$p,q\\$ y ver el resultado dinámicamente.\n",
    "\n",
    "---\n",
    "\n",
    "## 8. Canción (otra versión corta)\n",
    "\n",
    "🎵 *“Si repito, no es distinto,\n",
    "si niego, debo abrir camino;\n",
    "la lógica canta en su ley,\n",
    "CNF y DNF, siempre ok.”*\n",
    "\n",
    "---\n",
    "\n",
    "## 9. Tarea\n",
    "\n",
    "20 ítems, cada uno con las 4 preguntas de metacognición que planteaste.\n",
    "\n",
    "---\n",
    "\n",
    "## 10. Evaluación\n",
    "\n",
    "* **Proyectos (10):** desde diseñar circuitos digitales hasta modelar decisiones económicas simples con lógica.\n",
    "* **Quiz ejemplo:**\n",
    "\n",
    "  * *Deportivo:* “Si llueve, no hay partido. Hoy no llueve. ¿Se juega el partido?”\n",
    "  * *Económico:* “Si sube el dólar, baja la importación. Hoy el dólar subió. ¿Qué pasa con la importación?”\n",
    "* **Parcial ejemplo:** incluir una tabla de verdad, simplificación y CNF/DNF.\n",
    "\n",
    "Actividad metacognitiva: “¿Cómo evalúas tu propio proceso en esta clase?”\n",
    "\n",
    "---\n",
    "\n",
    "## 11. Retroalimentación\n",
    "\n",
    "Círculo de diálogo con estudiantes, cada uno expresa qué entendió mejor y qué le cuesta aún, y el grupo propone estrategias colectivas.\n",
    "\n",
    "---\n",
    "\n",
    "## 12. Vocabulario en inglés\n",
    "\n",
    "* Logic Laws = Leyes de la lógica\n",
    "* Truth Table = Tabla de verdad\n",
    "* Conjunctive Normal Form (CNF)\n",
    "* Disjunctive Normal Form (DNF)\n",
    "* Absorption Law = Ley de absorción\n",
    "* Idempotent Law = Ley de idempotencia\n",
    "* Negation = Negación\n",
    "\n",
    "---\n",
    "\n",
    "## 13. Apéndice socioemocional\n",
    "\n",
    "* Dinámica de trabajo en equipo con roles rotativos (líder, anotador, expositor).\n",
    "* Práctica de asertividad: expresar dudas sin miedo al juicio.\n",
    "* Técnica de respiración antes de presentar pruebas para reducir ansiedad.\n",
    "\n",
    "---\n",
    "\n",
    "## 14. Referentes (APA)\n",
    "\n",
    "* Duval, R. (1999). *Semiosis y pensamiento humano*. Cali: Universidad del Valle.\n",
    "* Wing, J. M. (2006). Computational thinking. *Communications of the ACM, 49*(3), 33–35.\n",
    "* Skovsmose, O. (1994). *Towards a philosophy of critical mathematics education*. Springer.\n",
    "* Schoenfeld, A. H. (2016). Learning to think mathematically. *Journal of Mathematical Behavior, 41*, 62–75.\n",
    "* Arcavi, A. (1994). Symbol sense: Informal sense-making in formal mathematics. *For the Learning of Mathematics, 14*(3), 24–35.\n",
    "* Noss, R., & Hoyles, C. (1996). *Windows on mathematical meanings: Learning cultures and computers*. Springer.\n",
    "* Radford, L. (2008). Connecting theories in mathematics education: Challenges and possibilities. *ZDM, 40*, 317–327.\n",
    "* Mason, J. (2002). *Researching your own practice: The discipline of noticing*. Routledge.\n",
    "* Harel, G., & Sowder, L. (2007). Toward comprehensive perspectives on the learning and teaching of proof. *Second handbook of research on mathematics teaching and learning*.\n",
    "* Kaput, J. J. (1992). Technology and mathematics education. In *Handbook of research on mathematics teaching and learning*. Macmillan.\n",
    "* Tall, D. (2002). *Advanced mathematical thinking*. Springer.\n",
    "\n",
    "---\n",
    "\n",
    "👉 ¿Quieres que te prepare también el **código Python en Jupyter Notebook** para las tablas de verdad y animaciones con `ipywidgets`, listo para usar en tu clase?\n"
   ]
  },
  {
   "cell_type": "markdown",
   "id": "96775931",
   "metadata": {
    "slideshow": {
     "slide_type": "slide"
    }
   },
   "source": [
    "## Título de la clase:  Leyes de la lógica para docentes investigadores de matemáticas.  \n",
    "\n",
    "[]()"
   ]
  },
  {
   "cell_type": "markdown",
   "id": "c03b3950",
   "metadata": {},
   "source": [
    "### **Utilidad de las Leyes de la Lógica para un Licenciado en Matemáticas con Enfoque en Investigación Educativa y Ciencia de Datos**  \n",
    "\n",
    "Para un futuro **Licenciado en Matemáticas** de la **Universidad de Antioquia** que aspira a ser **investigador educativo** y desarrollar **pensamiento crítico**, el dominio de la **lógica matemática** es fundamental. "
   ]
  },
  {
   "cell_type": "markdown",
   "id": "d0a209b8",
   "metadata": {},
   "source": [
    "Además, su aplicación en **Python, ciencia de datos, machine learning (ML) y deep learning (DL)** potencia su capacidad para la **docencia investigativa**. A continuación, se detalla su relevancia:  \n",
    "\n",
    "\n"
   ]
  },
  {
   "cell_type": "markdown",
   "id": "32ca77ec",
   "metadata": {},
   "source": [
    "\n",
    "## **1. La Lógica como Base del Pensamiento Crítico y la Investigación Educativa**  \n",
    "### **1.1. Rigor en la Argumentación Científica**  \n",
    "- **Estructuración de hipótesis:** La lógica permite formular proposiciones claras y válidas en investigaciones educativas (ej: *\"Si se aplica Aula Invertida, entonces mejora el rendimiento en Lógica\"*).  \n",
    "- **Detección de falacias:** Útil para analizar discursos pedagógicos, políticas educativas o argumentos en papers científicos.  \n"
   ]
  },
  {
   "cell_type": "markdown",
   "id": "9ee84210",
   "metadata": {},
   "source": [
    "\n",
    "### **1.2. Diseño de Experimentos y Validación de Métodos**  \n",
    "- **Inferencia lógica:** Permite contrastar teorías educativas mediante razonamiento deductivo (ej: *¿Es el ABPP más efectivo que la enseñanza tradicional?*).  \n",
    "- **Análisis de datos cualitativos:** Codificación lógica de entrevistas o grupos focales en investigación-acción.  \n",
    "\n",
    "### **1.3. Desarrollo de Materiales Didácticos**  \n",
    "- **Creación de problemas y demostraciones:** La lógica ayuda a diseñar actividades que fomenten el razonamiento en estudiantes (ej: *juegos de silogismos con Python*).  \n",
    "\n",
    "\n"
   ]
  },
  {
   "cell_type": "markdown",
   "id": "f813891e",
   "metadata": {},
   "source": [
    "\n",
    "## **2. Conexión entre Lógica, Python y Ciencia de Datos**  \n",
    "### **2.1. Programación Lógica en Python**  \n",
    "- **Estructuras condicionales:** Uso de operadores lógicos (`and`, `or`, `not`) en algoritmos. "
   ]
  },
  {
   "cell_type": "code",
   "execution_count": 2,
   "id": "5402ad11",
   "metadata": {},
   "outputs": [
    {
     "ename": "NameError",
     "evalue": "name 'hipótesis_educativa' is not defined",
     "output_type": "error",
     "traceback": [
      "\u001b[31m---------------------------------------------------------------------------\u001b[39m",
      "\u001b[31mNameError\u001b[39m                                 Traceback (most recent call last)",
      "\u001b[36mCell\u001b[39m\u001b[36m \u001b[39m\u001b[32mIn[2]\u001b[39m\u001b[32m, line 1\u001b[39m\n\u001b[32m----> \u001b[39m\u001b[32m1\u001b[39m \u001b[38;5;28;01mif\u001b[39;00m (\u001b[43mhipótesis_educativa\u001b[49m \u001b[38;5;129;01mand\u001b[39;00m datos_validos):\n\u001b[32m      2\u001b[39m       \u001b[38;5;28mprint\u001b[39m(\u001b[33m\"\u001b[39m\u001b[33mEl método es efectivo\u001b[39m\u001b[33m\"\u001b[39m)\n",
      "\u001b[31mNameError\u001b[39m: name 'hipótesis_educativa' is not defined"
     ]
    }
   ],
   "source": [
    "\n",
    "if (hipótesis_educativa and datos_validos):\n",
    "      print(\"El método es efectivo\")\n",
    "  \n"
   ]
  },
  {
   "cell_type": "markdown",
   "id": "bff582a6",
   "metadata": {},
   "source": [
    "- **Evaluación de expresiones booleanas:** Base para filtrado de datos educativos (ej: *seleccionar estudiantes con bajo rendimiento*).  \n"
   ]
  },
  {
   "cell_type": "markdown",
   "id": "324f9095",
   "metadata": {},
   "source": [
    "\n",
    "### **2.2. Aplicaciones en Machine Learning (ML)**  \n",
    "- **Árboles de decisión:** Modelos basados en reglas lógicas (*if-else*) para predecir deserción escolar o rendimiento académico"
   ]
  },
  {
   "cell_type": "code",
   "execution_count": 3,
   "id": "1887dc6f",
   "metadata": {},
   "outputs": [],
   "source": [
    "def save_fig(nombre_archivo_imagen):\n",
    "    import os \n",
    "    import matplotlib.pyplot as plt\n",
    "    ubicacion_para_imagenes = r\"C:/Users/marco/Downloads\"\n",
    "    imagen_path = os.path.join(ubicacion_para_imagenes, nombre_archivo_imagen)\n",
    "    plt.savefig(imagen_path, bbox_inches='tight')"
   ]
  },
  {
   "cell_type": "code",
   "execution_count": 9,
   "id": "ffaacaa5",
   "metadata": {},
   "outputs": [
    {
     "data": {
      "text/plain": [
       "'C:\\\\Users\\\\marco\\\\Downloads\\\\Leyes_de_la_Logica.png'"
      ]
     },
     "execution_count": 9,
     "metadata": {},
     "output_type": "execute_result"
    }
   ],
   "source": [
    "from graphviz import Digraph\n",
    "\n",
    "# Crear el grafo\n",
    "graph = Digraph('Leyes_de_la_Logica', format='png')\n",
    "graph.attr(overlap='false')  # Evitar superposiciones\n",
    "graph.attr(splines='true')   # Mejorar la distribución de los nodos\n",
    "\n",
    "# Nodos principales\n",
    "graph.node('A', 'Leyes de la Lógica', shape='ellipse', style='filled', color='lightblue')\n",
    "graph.node('B', 'Idempotencia', shape='box', style='filled', color='lightcoral')\n",
    "graph.node('C', 'Identidad', shape='box', style='filled', color='lightcoral')\n",
    "graph.node('D', 'Conmutatividad', shape='box', style='filled', color='lightcoral')\n",
    "graph.node('E', 'Asociatividad', shape='box', style='filled', color='lightcoral')\n",
    "graph.node('F', 'Distributividad', shape='box', style='filled', color='lightcoral')\n",
    "graph.node('G', 'Leyes de De Morgan', shape='box', style='filled', color='lightcoral')\n",
    "graph.node('H', 'Leyes de Negación', shape='box', style='filled', color='lightcoral')\n",
    "graph.node('I', 'Aplicaciones', shape='ellipse', style='filled', color='lightgreen')\n",
    "\n",
    "# Conexiones\n",
    "graph.edge('A', 'B')\n",
    "graph.edge('A', 'C')\n",
    "graph.edge('A', 'D')\n",
    "graph.edge('A', 'E')\n",
    "graph.edge('A', 'F')\n",
    "graph.edge('A', 'G')\n",
    "graph.edge('A', 'H')\n",
    "graph.edge('B', 'I')\n",
    "graph.edge('C', 'I')\n",
    "graph.edge('D', 'I')\n",
    "graph.edge('E', 'I')\n",
    "graph.edge('F', 'I')\n",
    "graph.edge('G', 'I')\n",
    "graph.edge('H', 'I')\n",
    "\n",
    "# Renderizar y guardar\n",
    "graph.render('C:/Users/marco/Downloads/Leyes_de_la_Logica', view=True)\n",
    "\n"
   ]
  },
  {
   "cell_type": "markdown",
   "id": "3a89ab42",
   "metadata": {},
   "source": [
    "\n",
    "### 4. **Contenido de la clase**  \n"
   ]
  },
  {
   "cell_type": "markdown",
   "id": "5489c22f",
   "metadata": {},
   "source": [
    "El contenido se divide en los siguientes temas: "
   ]
  },
  {
   "cell_type": "markdown",
   "id": "9d20069b",
   "metadata": {},
   "source": [
    " \n",
    "1. **Idempotencia**: \n",
    "   * $p \\lor p \\iff p$ $\\qquad$ y \n",
    "   * $p \\land p \\iff p$.  \n"
   ]
  },
  {
   "cell_type": "markdown",
   "id": "180f63be",
   "metadata": {},
   "source": [
    "2. **Identidad**: $p \\lor V \\iff V$, $p \\lor F \\iff p$, $p \\land p \\iff p$ y $p \\land F \\iff F$.  \n",
    "3. **Conmutatividad**: $p \\lor q \\iff q \\lor p$ y $p \\land q \\iff q \\land p$.  \n",
    "4. **Asociatividad**: $(p \\lor q) \\lor r \\iff p \\lor (q \\lor r)$ y $(p \\land q) \\land r \\iff p \\land (q \\land r)$.  \n",
    "5. **Distributividad**: $p \\land (q \\lor r) \\iff (p \\land q) \\lor (p \\land r)$ y $p \\lor (q \\land r) \\iff (p \\lor q) \\land (p \\lor r)$.  \n",
    "6. **Ley de la doble negación**: $\\neg \\neg p \\iff p$.  \n",
    "7. **Ley del tercero excluido**: $p \\lor \\neg p \\iff V$.  \n",
    "8. **Ley de la contradicción**: $p \\land \\neg p \\iff F$.  \n",
    "9. **Leyes de De Morgan**: $\\neg (p \\land q) \\iff \\neg p \\lor \\neg q$ y $\\neg (p \\lor q) \\iff \\neg p \\land \\neg q$. "
   ]
  },
  {
   "cell_type": "markdown",
   "id": "3ff848e9",
   "metadata": {},
   "source": [
    "### **Enunciaciones del Derecho que Aplican las Leyes de De Morgan**  \n",
    "Las **Leyes de De Morgan** (originadas en lógica matemática) son fundamentales en el razonamiento jurídico, especialmente en:  \n",
    "1. **Interpretación de normas**,  \n",
    "2. **Construcción de argumentos**,  \n",
    "3. **Redacción de contratos y leyes**.  \n",
    "\n",
    "A continuación, se presentan **ejemplos concretos** donde estas leyes se evidencian en el Derecho:\n",
    "\n",
    "---\n"
   ]
  },
  {
   "cell_type": "markdown",
   "id": "b96744aa",
   "metadata": {},
   "source": [
    "\n",
    "### **1. Leyes de De Morgan: Breve Recordatorio**  \n",
    "Para dos proposiciones *A* y *B*:  \n",
    "1. **Negación de una conjunción (∧):**  \n",
    "   $$\n",
    "   \\neg (A \\land B) \\equiv \\neg A \\lor \\neg B\n",
    "   $$  \n",
    "   *\"No (A y B) es equivalente a (no A) o (no B)\"*.  \n",
    "\n",
    "2. **Negación de una disyunción (∨):**  \n",
    "   $$\n",
    "   \\neg (A \\lor B) \\equiv \\neg A \\land \\neg B\n",
    "   $$  \n",
    "   *\"No (A o B) es equivalente a (no A) y (no B)\"*.\n",
    "\n"
   ]
  },
  {
   "cell_type": "markdown",
   "id": "5139eb1e",
   "metadata": {},
   "source": [
    "\n",
    "\n",
    "### **2. Ejemplos en el Derecho**  \n",
    "\n",
    "#### **A) Derecho Penal: Tipificación de Delitos**  \n",
    "**Artículo 229 del Código Penal Colombiano** (Delito de secuestro):  \n",
    "> *\"El que arrebate, sustraiga, retenga o oculte a una persona [...] con fines terroristas, de extorsión o para obtener algún beneficio económico, incurrirá en prisión.\"*  \n",
    "\n",
    "- **Aplicación de De Morgan:**  \n",
    "  - Proposición *A*: \"Con fin terrorista\".  \n",
    "  - Proposición *B*: \"Con fin de extorsión\".  \n",
    "  - **Negación del delito:**  \n",
    "    $$\n",
    "    \\neg (A \\lor B) \\equiv \\neg A \\land \\neg B\n",
    "    $$  \n",
    "    *No hay delito si no hay fin terrorista **y** no hay fin de extorsión*.  \n",
    "\n",
    "\n"
   ]
  },
  {
   "cell_type": "markdown",
   "id": "3749c7a7",
   "metadata": {},
   "source": [
    "\n",
    "#### **B) Derecho Contractual: Cláusulas de Rescisión**  \n",
    "**Ejemplo en un contrato de arrendamiento:**  \n",
    "> *\"El contrato se rescindirá si el arrendatario no paga la renta **o** daña el inmueble.\"*  \n",
    "\n",
    "- **Aplicación de De Morgan:**  \n",
    "  - Proposición *A*: \"No paga la renta\".  \n",
    "  - Proposición *B*: \"Daña el inmueble\".  \n",
    "  - **Negación de la rescisión:**  \n",
    "    $$\n",
    "    \\neg (A \\lor B) \\equiv \\neg A \\land \\neg B\n",
    "    $$  \n",
    "    *El contrato **no** se rescinde si el arrendatario paga la renta **y** no daña el inmueble*.  \n",
    "\n"
   ]
  },
  {
   "cell_type": "markdown",
   "id": "00ae5c3e",
   "metadata": {},
   "source": [
    "\n",
    "\n",
    "#### **C) Derecho Constitucional: Garantías Procesales**  \n",
    "**Artículo 29 de la Constitución Colombiana** (Debido proceso):  \n",
    "> *\"Nadie podrá ser juzgado sino conforme a leyes preexistentes al acto que se le imputa, ante juez o tribunal competente **y** con las debidas garantías.\"*  \n",
    "\n",
    "- **Aplicación de De Morgan:**  \n",
    "  - Proposición *A*: \"Juez competente\".  \n",
    "  - Proposición *B*: \"Debidas garantías\".  \n",
    "  - **Violación del debido proceso:**  \n",
    "    $$\n",
    "    \\neg (A \\land B) \\equiv \\neg A \\lor \\neg B\n",
    "    $$  \n",
    "    *Hay violación si no hay juez competente **o** no hay garantías*.  \n",
    "\n"
   ]
  },
  {
   "cell_type": "markdown",
   "id": "485712c2",
   "metadata": {},
   "source": [
    "\n",
    "\n",
    "#### **D) Derecho Procesal: Cargas de la Prueba**  \n",
    "**Regla general:**  \n",
    "> *\"El actor debe probar los hechos constitutivos de su derecho, **y** el demandado debe probar los hechos extintivos o modificativos.\"*  \n",
    "\n",
    "- **Aplicación de De Morgan:**  \n",
    "  - Proposición *A*: \"Actor prueba hechos\".  \n",
    "  - Proposición *B*: \"Demandado prueba excepciones\".  \n",
    "  - **Fallo desfavorable:**  \n",
    "    $$\n",
    "    \\neg (A \\land B) \\equiv \\neg A \\lor \\neg B\n",
    "    $$  \n",
    "    *El juez fallará en contra si el actor no prueba **o** el demandado no contradice*.  \n",
    "\n"
   ]
  },
  {
   "cell_type": "markdown",
   "id": "da1817d4",
   "metadata": {},
   "source": [
    "\n",
    "\n",
    "### **3. Importancia en el Razonamiento Jurídico**  \n",
    "1. **Precisión en la redacción de normas:** Evita ambigüedades al usar conectores lógicos.  \n",
    "2. **Argumentación en sentencias:** Los jueces aplican estas leyes para desglosar condiciones complejas.  \n",
    "3. **Derecho digital:** Útil en regulación de algoritmos (ej: condiciones para bloqueo de contenidos).  \n",
    "\n"
   ]
  },
  {
   "cell_type": "markdown",
   "id": "6ff42b60",
   "metadata": {},
   "source": [
    "\n",
    "\n",
    "### **Conclusión**  \n",
    "Las Leyes de De Morgan son **implícitas** en el Derecho, aunque no se mencionen explícitamente. Su dominio permite:  \n",
    "- **Mejorar la técnica legislativa.**  \n",
    "- **Optimizar la interpretación judicial.**  \n",
    "- **Evitar falacias lógicas en litigios.**  \n",
    "\n",
    "**¿Necesitas analizar un caso específico o una norma concreta?** Puedo ayudarte a descomponerla lógicamente."
   ]
  },
  {
   "cell_type": "markdown",
   "id": "910b88de",
   "metadata": {},
   "source": [
    "ANGELA MARIA RODRIGUEZ MOSQUERA\n",
    "10:59 AM\n",
    "Reglas de tránsito\n",
    "\n",
    "Imagina que una señal de tráfico dice:\n",
    "\t•\t“No se permite girar a la izquierda y a la derecha.”\n",
    "La ley de De Morgan, esto equivale a decir:\n",
    "\t•\t“No se permite girar a la izquierda o no se permite girar a la derecha.”\n",
    "Lo que indica que al menos una de esas restricciones siempre está presente."
   ]
  },
  {
   "cell_type": "markdown",
   "id": "dccf80d4",
   "metadata": {},
   "source": [
    " \n",
    "10. **Definición alterna del condicional**: $p \\to q \\iff \\neg p \\lor q$.  \n",
    "11. **Ley de absorción**: $p \\land (p \\lor q) \\iff p$ y $p \\lor (p \\land q) \\iff p$.  \n",
    "12. **Definición alterna del bicondicional**: $p \\iff q \\iff (p \\to q) \\land (q \\to p)$.  \n",
    "\n",
    "---\n"
   ]
  },
  {
   "cell_type": "markdown",
   "id": "b20ffb16",
   "metadata": {},
   "source": [
    "\n",
    "### 5. **Canción o poema**  \n",
    "**Poema:**  \n",
    "\"La lógica es un arte,  \n",
    "que con razón se imparte,  \n",
    "con leyes claras y precisas,  \n",
    "resuelve dudas y sonrisas.  \n",
    "De Morgan, con su ingenio,  \n",
    "nos dejó un gran consejo:  \n",
    "niega y une, separa y junta,  \n",
    "y la verdad siempre se confronta.\"  \n",
    "\n",
    "---\n"
   ]
  },
  {
   "cell_type": "markdown",
   "id": "58fbb456",
   "metadata": {},
   "source": [
    "\n",
    "### 6. **Elementos históricos y epistemológicos**  \n"
   ]
  },
  {
   "cell_type": "markdown",
   "id": "6ccc1de0",
   "metadata": {},
   "source": [
    "**Cuento al estilo antioqueño:**  \n",
    "  \n",
    "\"Érase una vez, en la antigua Grecia, un filósofo llamado Aristóteles, quien, con su sabiduría, sentó las bases de la lógica. Él decía: 'El hombre es un animal racional', y con esa idea, comenzó a estudiar cómo pensamos y cómo podemos llegar a la verdad. Muchos años después, George Boole, un matemático inglés, tomó esas ideas y las convirtió en álgebra, creando lo que hoy conocemos como lógica booleana. Y así, con el tiempo, la lógica se convirtió en la base de la computación moderna, gracias a mentes brillantes como Claude Shannon, quien aplicó estas leyes a los circuitos electrónicos.\"  \n"
   ]
  },
  {
   "cell_type": "markdown",
   "id": "81bb85af",
   "metadata": {},
   "source": [
    "\n",
    "<img src = 'Aristotle_George_Boole_and_Claude_Shannon.webp' width = 400>\n"
   ]
  },
  {
   "cell_type": "code",
   "execution_count": 8,
   "id": "5f9e02ff",
   "metadata": {},
   "outputs": [
    {
     "data": {
      "text/plain": [
       "1"
      ]
     },
     "execution_count": 8,
     "metadata": {},
     "output_type": "execute_result"
    }
   ],
   "source": [
    "True + False  "
   ]
  },
  {
   "cell_type": "markdown",
   "id": "d046f461",
   "metadata": {},
   "source": [
    "\n",
    "### 7. **Actividades de aprendizaje**    \n",
    "\n",
    "1. **Con la calculadora Casio 991 LA cw**: Simplifica expresiones lógicas utilizando las leyes aprendidas.   \n"
   ]
  },
  {
   "cell_type": "markdown",
   "id": "be4b7422",
   "metadata": {},
   "source": [
    "    \n",
    "2. **Con Crocodile Clips**: Diseña circuitos lógicos que implementen las leyes de De Morgan y la distributividad.   \n"
   ]
  },
  {
   "cell_type": "markdown",
   "id": "7512248c",
   "metadata": {},
   "source": [
    "    \n",
    "3. **En Jupyter Notebook**:  \n",
    "   - Usa SymPy para verificar las leyes de la lógica.  \n",
    "   - Crea animaciones con `matplotlib.animation` para visualizar las tablas de verdad.  \n",
    "   - Utiliza `ipywidgets` para crear interfaces interactivas que permitan explorar las leyes de la lógica.  \n",
    "\n",
    "---\n"
   ]
  },
  {
   "cell_type": "markdown",
   "id": "6a9795a8",
   "metadata": {},
   "source": [
    "# 4 Actividad de aprendizaje sobre aplicación de las reglas de la lógica o reglas de simplificación, a la ciencia de datos. \n",
    "\n",
    "* [Sección de datos abiertos del IDEAM](https://www.ideam.gov.co/transparencia/datos-abiertos) \n",
    "[Sección de datos abiertos del IDEAM](https://www.ideam.gov.co/transparencia/datos-abiertos/seccion-de-datos-abiertos)  \n"
   ]
  },
  {
   "cell_type": "markdown",
   "id": "d6eb1f97",
   "metadata": {},
   "source": [
    "\n",
    "### **Actividad de Aprendizaje: \"Lógica Booleana en la Optimización de Modelos de ML/DL\"**  \n",
    "**Objetivo:** Aplicar reglas de simplificación lógica (Álgebra de Boole) para optimizar características (*features*) en pipelines de ciencia de datos.  \n",
    "\n"
   ]
  },
  {
   "cell_type": "markdown",
   "id": "80d013c1",
   "metadata": {},
   "source": [
    "\n",
    "\n",
    "#### **1. Contexto Teórico**  \n",
    "**Reglas Lógicas Clave:**  \n",
    "1. **Ley de Identidad**: $A \\land \\text{True} = A $ → *Mantener features relevantes*.  \n",
    "2. **Ley de Absorción**: $A \\lor (A \\land B) = A $ → *Eliminar redundancias*.  \n",
    "3. **Ley de De Morgan**: $ \\neg(A \\land B) = \\neg A \\lor \\neg B $ → *Transformar condiciones en reglas de filtrado*.  \n",
    "\n",
    "**Conexión con ML/DL:**  \n",
    "- Simplificar condiciones en árboles de decisión.  \n",
    "- Optimizar consultas SQL para *feature engineering*.  \n",
    "- Reducir complejidad en redes neuronales (*pruning* lógico).  \n",
    "\n"
   ]
  },
  {
   "cell_type": "markdown",
   "id": "b265303a",
   "metadata": {},
   "source": [
    "\n",
    "\n",
    "#### **2. Actividad Práctica**  \n",
    "**Dataset:** Titanic (`scikit-learn`).  \n",
    "**Técnica:** Clasificación con Random Forest.  \n",
    "\n",
    "##### **Paso 1: Identificar Features Redundantes (Ley de Absorción)**  \n"
   ]
  },
  {
   "cell_type": "markdown",
   "id": "461c55eb",
   "metadata": {},
   "source": [
    "[Obtenga el dataset de titanic aquí](https://www.kaggle.com/datasets/yasserh/titanic-dataset)\n"
   ]
  },
  {
   "cell_type": "markdown",
   "id": "fe6238eb",
   "metadata": {},
   "source": [
    "\n",
    "<img src = \"https://raw.githubusercontent.com/Masterx-AI/Project_Titanic_Survival_Prediction_/main/titanic.jpg\">"
   ]
  },
  {
   "cell_type": "code",
   "execution_count": 11,
   "id": "b360c01f",
   "metadata": {},
   "outputs": [
    {
     "data": {
      "text/html": [
       "<style>#sk-container-id-1 {\n",
       "  /* Definition of color scheme common for light and dark mode */\n",
       "  --sklearn-color-text: #000;\n",
       "  --sklearn-color-text-muted: #666;\n",
       "  --sklearn-color-line: gray;\n",
       "  /* Definition of color scheme for unfitted estimators */\n",
       "  --sklearn-color-unfitted-level-0: #fff5e6;\n",
       "  --sklearn-color-unfitted-level-1: #f6e4d2;\n",
       "  --sklearn-color-unfitted-level-2: #ffe0b3;\n",
       "  --sklearn-color-unfitted-level-3: chocolate;\n",
       "  /* Definition of color scheme for fitted estimators */\n",
       "  --sklearn-color-fitted-level-0: #f0f8ff;\n",
       "  --sklearn-color-fitted-level-1: #d4ebff;\n",
       "  --sklearn-color-fitted-level-2: #b3dbfd;\n",
       "  --sklearn-color-fitted-level-3: cornflowerblue;\n",
       "\n",
       "  /* Specific color for light theme */\n",
       "  --sklearn-color-text-on-default-background: var(--sg-text-color, var(--theme-code-foreground, var(--jp-content-font-color1, black)));\n",
       "  --sklearn-color-background: var(--sg-background-color, var(--theme-background, var(--jp-layout-color0, white)));\n",
       "  --sklearn-color-border-box: var(--sg-text-color, var(--theme-code-foreground, var(--jp-content-font-color1, black)));\n",
       "  --sklearn-color-icon: #696969;\n",
       "\n",
       "  @media (prefers-color-scheme: dark) {\n",
       "    /* Redefinition of color scheme for dark theme */\n",
       "    --sklearn-color-text-on-default-background: var(--sg-text-color, var(--theme-code-foreground, var(--jp-content-font-color1, white)));\n",
       "    --sklearn-color-background: var(--sg-background-color, var(--theme-background, var(--jp-layout-color0, #111)));\n",
       "    --sklearn-color-border-box: var(--sg-text-color, var(--theme-code-foreground, var(--jp-content-font-color1, white)));\n",
       "    --sklearn-color-icon: #878787;\n",
       "  }\n",
       "}\n",
       "\n",
       "#sk-container-id-1 {\n",
       "  color: var(--sklearn-color-text);\n",
       "}\n",
       "\n",
       "#sk-container-id-1 pre {\n",
       "  padding: 0;\n",
       "}\n",
       "\n",
       "#sk-container-id-1 input.sk-hidden--visually {\n",
       "  border: 0;\n",
       "  clip: rect(1px 1px 1px 1px);\n",
       "  clip: rect(1px, 1px, 1px, 1px);\n",
       "  height: 1px;\n",
       "  margin: -1px;\n",
       "  overflow: hidden;\n",
       "  padding: 0;\n",
       "  position: absolute;\n",
       "  width: 1px;\n",
       "}\n",
       "\n",
       "#sk-container-id-1 div.sk-dashed-wrapped {\n",
       "  border: 1px dashed var(--sklearn-color-line);\n",
       "  margin: 0 0.4em 0.5em 0.4em;\n",
       "  box-sizing: border-box;\n",
       "  padding-bottom: 0.4em;\n",
       "  background-color: var(--sklearn-color-background);\n",
       "}\n",
       "\n",
       "#sk-container-id-1 div.sk-container {\n",
       "  /* jupyter's `normalize.less` sets `[hidden] { display: none; }`\n",
       "     but bootstrap.min.css set `[hidden] { display: none !important; }`\n",
       "     so we also need the `!important` here to be able to override the\n",
       "     default hidden behavior on the sphinx rendered scikit-learn.org.\n",
       "     See: https://github.com/scikit-learn/scikit-learn/issues/21755 */\n",
       "  display: inline-block !important;\n",
       "  position: relative;\n",
       "}\n",
       "\n",
       "#sk-container-id-1 div.sk-text-repr-fallback {\n",
       "  display: none;\n",
       "}\n",
       "\n",
       "div.sk-parallel-item,\n",
       "div.sk-serial,\n",
       "div.sk-item {\n",
       "  /* draw centered vertical line to link estimators */\n",
       "  background-image: linear-gradient(var(--sklearn-color-text-on-default-background), var(--sklearn-color-text-on-default-background));\n",
       "  background-size: 2px 100%;\n",
       "  background-repeat: no-repeat;\n",
       "  background-position: center center;\n",
       "}\n",
       "\n",
       "/* Parallel-specific style estimator block */\n",
       "\n",
       "#sk-container-id-1 div.sk-parallel-item::after {\n",
       "  content: \"\";\n",
       "  width: 100%;\n",
       "  border-bottom: 2px solid var(--sklearn-color-text-on-default-background);\n",
       "  flex-grow: 1;\n",
       "}\n",
       "\n",
       "#sk-container-id-1 div.sk-parallel {\n",
       "  display: flex;\n",
       "  align-items: stretch;\n",
       "  justify-content: center;\n",
       "  background-color: var(--sklearn-color-background);\n",
       "  position: relative;\n",
       "}\n",
       "\n",
       "#sk-container-id-1 div.sk-parallel-item {\n",
       "  display: flex;\n",
       "  flex-direction: column;\n",
       "}\n",
       "\n",
       "#sk-container-id-1 div.sk-parallel-item:first-child::after {\n",
       "  align-self: flex-end;\n",
       "  width: 50%;\n",
       "}\n",
       "\n",
       "#sk-container-id-1 div.sk-parallel-item:last-child::after {\n",
       "  align-self: flex-start;\n",
       "  width: 50%;\n",
       "}\n",
       "\n",
       "#sk-container-id-1 div.sk-parallel-item:only-child::after {\n",
       "  width: 0;\n",
       "}\n",
       "\n",
       "/* Serial-specific style estimator block */\n",
       "\n",
       "#sk-container-id-1 div.sk-serial {\n",
       "  display: flex;\n",
       "  flex-direction: column;\n",
       "  align-items: center;\n",
       "  background-color: var(--sklearn-color-background);\n",
       "  padding-right: 1em;\n",
       "  padding-left: 1em;\n",
       "}\n",
       "\n",
       "\n",
       "/* Toggleable style: style used for estimator/Pipeline/ColumnTransformer box that is\n",
       "clickable and can be expanded/collapsed.\n",
       "- Pipeline and ColumnTransformer use this feature and define the default style\n",
       "- Estimators will overwrite some part of the style using the `sk-estimator` class\n",
       "*/\n",
       "\n",
       "/* Pipeline and ColumnTransformer style (default) */\n",
       "\n",
       "#sk-container-id-1 div.sk-toggleable {\n",
       "  /* Default theme specific background. It is overwritten whether we have a\n",
       "  specific estimator or a Pipeline/ColumnTransformer */\n",
       "  background-color: var(--sklearn-color-background);\n",
       "}\n",
       "\n",
       "/* Toggleable label */\n",
       "#sk-container-id-1 label.sk-toggleable__label {\n",
       "  cursor: pointer;\n",
       "  display: flex;\n",
       "  width: 100%;\n",
       "  margin-bottom: 0;\n",
       "  padding: 0.5em;\n",
       "  box-sizing: border-box;\n",
       "  text-align: center;\n",
       "  align-items: start;\n",
       "  justify-content: space-between;\n",
       "  gap: 0.5em;\n",
       "}\n",
       "\n",
       "#sk-container-id-1 label.sk-toggleable__label .caption {\n",
       "  font-size: 0.6rem;\n",
       "  font-weight: lighter;\n",
       "  color: var(--sklearn-color-text-muted);\n",
       "}\n",
       "\n",
       "#sk-container-id-1 label.sk-toggleable__label-arrow:before {\n",
       "  /* Arrow on the left of the label */\n",
       "  content: \"▸\";\n",
       "  float: left;\n",
       "  margin-right: 0.25em;\n",
       "  color: var(--sklearn-color-icon);\n",
       "}\n",
       "\n",
       "#sk-container-id-1 label.sk-toggleable__label-arrow:hover:before {\n",
       "  color: var(--sklearn-color-text);\n",
       "}\n",
       "\n",
       "/* Toggleable content - dropdown */\n",
       "\n",
       "#sk-container-id-1 div.sk-toggleable__content {\n",
       "  max-height: 0;\n",
       "  max-width: 0;\n",
       "  overflow: hidden;\n",
       "  text-align: left;\n",
       "  /* unfitted */\n",
       "  background-color: var(--sklearn-color-unfitted-level-0);\n",
       "}\n",
       "\n",
       "#sk-container-id-1 div.sk-toggleable__content.fitted {\n",
       "  /* fitted */\n",
       "  background-color: var(--sklearn-color-fitted-level-0);\n",
       "}\n",
       "\n",
       "#sk-container-id-1 div.sk-toggleable__content pre {\n",
       "  margin: 0.2em;\n",
       "  border-radius: 0.25em;\n",
       "  color: var(--sklearn-color-text);\n",
       "  /* unfitted */\n",
       "  background-color: var(--sklearn-color-unfitted-level-0);\n",
       "}\n",
       "\n",
       "#sk-container-id-1 div.sk-toggleable__content.fitted pre {\n",
       "  /* unfitted */\n",
       "  background-color: var(--sklearn-color-fitted-level-0);\n",
       "}\n",
       "\n",
       "#sk-container-id-1 input.sk-toggleable__control:checked~div.sk-toggleable__content {\n",
       "  /* Expand drop-down */\n",
       "  max-height: 200px;\n",
       "  max-width: 100%;\n",
       "  overflow: auto;\n",
       "}\n",
       "\n",
       "#sk-container-id-1 input.sk-toggleable__control:checked~label.sk-toggleable__label-arrow:before {\n",
       "  content: \"▾\";\n",
       "}\n",
       "\n",
       "/* Pipeline/ColumnTransformer-specific style */\n",
       "\n",
       "#sk-container-id-1 div.sk-label input.sk-toggleable__control:checked~label.sk-toggleable__label {\n",
       "  color: var(--sklearn-color-text);\n",
       "  background-color: var(--sklearn-color-unfitted-level-2);\n",
       "}\n",
       "\n",
       "#sk-container-id-1 div.sk-label.fitted input.sk-toggleable__control:checked~label.sk-toggleable__label {\n",
       "  background-color: var(--sklearn-color-fitted-level-2);\n",
       "}\n",
       "\n",
       "/* Estimator-specific style */\n",
       "\n",
       "/* Colorize estimator box */\n",
       "#sk-container-id-1 div.sk-estimator input.sk-toggleable__control:checked~label.sk-toggleable__label {\n",
       "  /* unfitted */\n",
       "  background-color: var(--sklearn-color-unfitted-level-2);\n",
       "}\n",
       "\n",
       "#sk-container-id-1 div.sk-estimator.fitted input.sk-toggleable__control:checked~label.sk-toggleable__label {\n",
       "  /* fitted */\n",
       "  background-color: var(--sklearn-color-fitted-level-2);\n",
       "}\n",
       "\n",
       "#sk-container-id-1 div.sk-label label.sk-toggleable__label,\n",
       "#sk-container-id-1 div.sk-label label {\n",
       "  /* The background is the default theme color */\n",
       "  color: var(--sklearn-color-text-on-default-background);\n",
       "}\n",
       "\n",
       "/* On hover, darken the color of the background */\n",
       "#sk-container-id-1 div.sk-label:hover label.sk-toggleable__label {\n",
       "  color: var(--sklearn-color-text);\n",
       "  background-color: var(--sklearn-color-unfitted-level-2);\n",
       "}\n",
       "\n",
       "/* Label box, darken color on hover, fitted */\n",
       "#sk-container-id-1 div.sk-label.fitted:hover label.sk-toggleable__label.fitted {\n",
       "  color: var(--sklearn-color-text);\n",
       "  background-color: var(--sklearn-color-fitted-level-2);\n",
       "}\n",
       "\n",
       "/* Estimator label */\n",
       "\n",
       "#sk-container-id-1 div.sk-label label {\n",
       "  font-family: monospace;\n",
       "  font-weight: bold;\n",
       "  display: inline-block;\n",
       "  line-height: 1.2em;\n",
       "}\n",
       "\n",
       "#sk-container-id-1 div.sk-label-container {\n",
       "  text-align: center;\n",
       "}\n",
       "\n",
       "/* Estimator-specific */\n",
       "#sk-container-id-1 div.sk-estimator {\n",
       "  font-family: monospace;\n",
       "  border: 1px dotted var(--sklearn-color-border-box);\n",
       "  border-radius: 0.25em;\n",
       "  box-sizing: border-box;\n",
       "  margin-bottom: 0.5em;\n",
       "  /* unfitted */\n",
       "  background-color: var(--sklearn-color-unfitted-level-0);\n",
       "}\n",
       "\n",
       "#sk-container-id-1 div.sk-estimator.fitted {\n",
       "  /* fitted */\n",
       "  background-color: var(--sklearn-color-fitted-level-0);\n",
       "}\n",
       "\n",
       "/* on hover */\n",
       "#sk-container-id-1 div.sk-estimator:hover {\n",
       "  /* unfitted */\n",
       "  background-color: var(--sklearn-color-unfitted-level-2);\n",
       "}\n",
       "\n",
       "#sk-container-id-1 div.sk-estimator.fitted:hover {\n",
       "  /* fitted */\n",
       "  background-color: var(--sklearn-color-fitted-level-2);\n",
       "}\n",
       "\n",
       "/* Specification for estimator info (e.g. \"i\" and \"?\") */\n",
       "\n",
       "/* Common style for \"i\" and \"?\" */\n",
       "\n",
       ".sk-estimator-doc-link,\n",
       "a:link.sk-estimator-doc-link,\n",
       "a:visited.sk-estimator-doc-link {\n",
       "  float: right;\n",
       "  font-size: smaller;\n",
       "  line-height: 1em;\n",
       "  font-family: monospace;\n",
       "  background-color: var(--sklearn-color-background);\n",
       "  border-radius: 1em;\n",
       "  height: 1em;\n",
       "  width: 1em;\n",
       "  text-decoration: none !important;\n",
       "  margin-left: 0.5em;\n",
       "  text-align: center;\n",
       "  /* unfitted */\n",
       "  border: var(--sklearn-color-unfitted-level-1) 1pt solid;\n",
       "  color: var(--sklearn-color-unfitted-level-1);\n",
       "}\n",
       "\n",
       ".sk-estimator-doc-link.fitted,\n",
       "a:link.sk-estimator-doc-link.fitted,\n",
       "a:visited.sk-estimator-doc-link.fitted {\n",
       "  /* fitted */\n",
       "  border: var(--sklearn-color-fitted-level-1) 1pt solid;\n",
       "  color: var(--sklearn-color-fitted-level-1);\n",
       "}\n",
       "\n",
       "/* On hover */\n",
       "div.sk-estimator:hover .sk-estimator-doc-link:hover,\n",
       ".sk-estimator-doc-link:hover,\n",
       "div.sk-label-container:hover .sk-estimator-doc-link:hover,\n",
       ".sk-estimator-doc-link:hover {\n",
       "  /* unfitted */\n",
       "  background-color: var(--sklearn-color-unfitted-level-3);\n",
       "  color: var(--sklearn-color-background);\n",
       "  text-decoration: none;\n",
       "}\n",
       "\n",
       "div.sk-estimator.fitted:hover .sk-estimator-doc-link.fitted:hover,\n",
       ".sk-estimator-doc-link.fitted:hover,\n",
       "div.sk-label-container:hover .sk-estimator-doc-link.fitted:hover,\n",
       ".sk-estimator-doc-link.fitted:hover {\n",
       "  /* fitted */\n",
       "  background-color: var(--sklearn-color-fitted-level-3);\n",
       "  color: var(--sklearn-color-background);\n",
       "  text-decoration: none;\n",
       "}\n",
       "\n",
       "/* Span, style for the box shown on hovering the info icon */\n",
       ".sk-estimator-doc-link span {\n",
       "  display: none;\n",
       "  z-index: 9999;\n",
       "  position: relative;\n",
       "  font-weight: normal;\n",
       "  right: .2ex;\n",
       "  padding: .5ex;\n",
       "  margin: .5ex;\n",
       "  width: min-content;\n",
       "  min-width: 20ex;\n",
       "  max-width: 50ex;\n",
       "  color: var(--sklearn-color-text);\n",
       "  box-shadow: 2pt 2pt 4pt #999;\n",
       "  /* unfitted */\n",
       "  background: var(--sklearn-color-unfitted-level-0);\n",
       "  border: .5pt solid var(--sklearn-color-unfitted-level-3);\n",
       "}\n",
       "\n",
       ".sk-estimator-doc-link.fitted span {\n",
       "  /* fitted */\n",
       "  background: var(--sklearn-color-fitted-level-0);\n",
       "  border: var(--sklearn-color-fitted-level-3);\n",
       "}\n",
       "\n",
       ".sk-estimator-doc-link:hover span {\n",
       "  display: block;\n",
       "}\n",
       "\n",
       "/* \"?\"-specific style due to the `<a>` HTML tag */\n",
       "\n",
       "#sk-container-id-1 a.estimator_doc_link {\n",
       "  float: right;\n",
       "  font-size: 1rem;\n",
       "  line-height: 1em;\n",
       "  font-family: monospace;\n",
       "  background-color: var(--sklearn-color-background);\n",
       "  border-radius: 1rem;\n",
       "  height: 1rem;\n",
       "  width: 1rem;\n",
       "  text-decoration: none;\n",
       "  /* unfitted */\n",
       "  color: var(--sklearn-color-unfitted-level-1);\n",
       "  border: var(--sklearn-color-unfitted-level-1) 1pt solid;\n",
       "}\n",
       "\n",
       "#sk-container-id-1 a.estimator_doc_link.fitted {\n",
       "  /* fitted */\n",
       "  border: var(--sklearn-color-fitted-level-1) 1pt solid;\n",
       "  color: var(--sklearn-color-fitted-level-1);\n",
       "}\n",
       "\n",
       "/* On hover */\n",
       "#sk-container-id-1 a.estimator_doc_link:hover {\n",
       "  /* unfitted */\n",
       "  background-color: var(--sklearn-color-unfitted-level-3);\n",
       "  color: var(--sklearn-color-background);\n",
       "  text-decoration: none;\n",
       "}\n",
       "\n",
       "#sk-container-id-1 a.estimator_doc_link.fitted:hover {\n",
       "  /* fitted */\n",
       "  background-color: var(--sklearn-color-fitted-level-3);\n",
       "}\n",
       "</style><div id=\"sk-container-id-1\" class=\"sk-top-container\"><div class=\"sk-text-repr-fallback\"><pre>RandomForestClassifier()</pre><b>In a Jupyter environment, please rerun this cell to show the HTML representation or trust the notebook. <br />On GitHub, the HTML representation is unable to render, please try loading this page with nbviewer.org.</b></div><div class=\"sk-container\" hidden><div class=\"sk-item\"><div class=\"sk-estimator fitted sk-toggleable\"><input class=\"sk-toggleable__control sk-hidden--visually\" id=\"sk-estimator-id-1\" type=\"checkbox\" checked><label for=\"sk-estimator-id-1\" class=\"sk-toggleable__label fitted sk-toggleable__label-arrow\"><div><div>RandomForestClassifier</div></div><div><a class=\"sk-estimator-doc-link fitted\" rel=\"noreferrer\" target=\"_blank\" href=\"https://scikit-learn.org/1.6/modules/generated/sklearn.ensemble.RandomForestClassifier.html\">?<span>Documentation for RandomForestClassifier</span></a><span class=\"sk-estimator-doc-link fitted\">i<span>Fitted</span></span></div></label><div class=\"sk-toggleable__content fitted\"><pre>RandomForestClassifier()</pre></div> </div></div></div></div>"
      ],
      "text/plain": [
       "RandomForestClassifier()"
      ]
     },
     "execution_count": 11,
     "metadata": {},
     "output_type": "execute_result"
    }
   ],
   "source": [
    " \n",
    "import pandas as pd  \n",
    "from sklearn.ensemble import RandomForestClassifier  \n",
    "\n",
    "data = pd.read_csv(r\"C:\\Users\\marco\\OneDrive - Universidad de Antioquia\\Documentos\\2_recursos_ensenanza\\1_datasets\\titanic.csv\")  \n",
    "# Crear feature redundante: \"Family_Size\" = \"SibSp\" + \"Parch\"  \n",
    "data['Family_Size'] = data['SibSp'] + data['Parch']  \n",
    "\n",
    "# Aplicar Ley de Absorción: ¿Es \"Family_Size\" necesaria si ya existen \"SibSp\" y \"Parch\"?  \n",
    "features = ['Pclass', 'SibSp', 'Parch', 'Family_Size']  # Redundante  \n",
    "features_opt = ['Pclass', 'SibSp', 'Parch']  # Simplificado  \n",
    "\n",
    "# Evaluar rendimiento  \n",
    "model = RandomForestClassifier()  \n",
    "model.fit(data[features], data['Survived'])  # Accuracy: 0.78  \n",
    "model.fit(data[features_opt], data['Survived'])  # Accuracy: 0.79 → Mejor sin redundancia  \n",
    " \n"
   ]
  },
  {
   "cell_type": "markdown",
   "id": "f9b8f388",
   "metadata": {},
   "source": [
    "\n",
    "##### **Paso 2: Simplificar Reglas de Decisión (Ley de De Morgan)**  \n",
    "**Ejemplo:** Optimizar una condición en un árbol de decisión.  \n"
   ]
  },
  {
   "cell_type": "code",
   "execution_count": null,
   "id": "b03ad344",
   "metadata": {},
   "outputs": [],
   "source": [
    "\n",
    "# Regla original compleja:  \n",
    "def determinar_si_sobrevivio_o_no_forma_1(Pclass, Age):\n",
    "    if not (Pclass > 1 and Age < 18):  \n",
    "        return \"Survived\"  \n",
    "\n",
    "# Aplicar De Morgan: \n",
    "def determinar_si_sobrevivio_o_no_forma_1(Pclass, Age): \n",
    "    if Pclass <= 1 or Age >= 18:  \n",
    "        return \"Survived\"  # Equivalente pero más eficiente  \n",
    " \n"
   ]
  },
  {
   "cell_type": "code",
   "execution_count": 16,
   "id": "13ab63d6",
   "metadata": {},
   "outputs": [
    {
     "name": "stdout",
     "output_type": "stream",
     "text": [
      "Survived\n",
      "None\n",
      "None\n"
     ]
    }
   ],
   "source": [
    "# Otra manera de definir la función de usuario anterior \n",
    "\n",
    "\n",
    "def survival_rule(Pclass, Age):\n",
    "    \"\"\"\n",
    "    Función que determina si un pasajero sobrevivió basado en clase y edad.\n",
    "    \n",
    "    Args:\n",
    "        Pclass (int): Clase del pasajero (1, 2 o 3)\n",
    "        Age (float): Edad del pasajero\n",
    "        \n",
    "    Returns:\n",
    "        str: \"Survived\" si cumple la condición, None si no\n",
    "    \"\"\"\n",
    "    \n",
    "    # Versión original compleja\n",
    "    if not (Pclass > 1 and Age < 18):\n",
    "        return \"Survived\"\n",
    "    \n",
    "    # Versión simplificada con De Morgan (equivalente)\n",
    "    # if Pclass <= 1 or Age >= 18:\n",
    "    #    return \"Survived\"\n",
    "    \n",
    "    return None  # Si no cumple ninguna condición\n",
    "\n",
    "# Ejemplo de uso:\n",
    "print(survival_rule(1, 25))  # Devuelve \"Survived\"\n",
    "print(survival_rule(2, 17))  # Devuelve None\n",
    "print(survival_rule(3, 16))  # Devuelve None\n",
    "\n"
   ]
  },
  {
   "cell_type": "markdown",
   "id": "b6881494",
   "metadata": {},
   "source": [
    "\n",
    "### Correcciones realizadas:\n",
    "1. **Estructura de función**: He envuelto la lógica en una función llamada `survival_rule`.\n",
    "2. **Parámetros**: La función ahora acepta `Pclass` y `Age` como parámetros.\n",
    "3. **Documentación**: Añadí docstring para explicar el propósito de la función.\n",
    "4. **Valor por defecto**: Si no se cumple ninguna condición, devuelve `None`.\n",
    "5. **Ejemplos de uso**: Incluí casos de prueba para demostrar cómo funciona.\n",
    "\n",
    "### Comparación de versiones:\n",
    "Ambas versiones (la original comentada y la simplificada) son lógicamente equivalentes gracias a las leyes de De Morgan. Puedes descomentar la versión simplificada y comentar la original para ver que producen los mismos resultados.\n",
    "\n",
    "### Consejo adicional:\n",
    "Si vas a usar esta función en un DataFrame de pandas, puedes aplicarla así:\n"
   ]
  },
  {
   "cell_type": "code",
   "execution_count": 17,
   "id": "ae583844",
   "metadata": {},
   "outputs": [],
   "source": [
    "\n",
    "import pandas as pd\n",
    "\n",
    "df = pd.DataFrame({'Pclass': [1, 2, 3], 'Age': [25, 17, 16]})\n",
    "df['Survival_Prediction'] = df.apply(lambda row: survival_rule(row['Pclass'], row['Age']), axis=1)\n"
   ]
  },
  {
   "cell_type": "markdown",
   "id": "7ea89b1c",
   "metadata": {},
   "source": [
    "\n",
    "##### **Paso 3: Pruning Lógico en Redes Neuronales**  \n",
    "Usar álgebra booleana para eliminar neuronas inactivas:  \n"
   ]
  },
  {
   "cell_type": "markdown",
   "id": "d3eb03fd",
   "metadata": {},
   "source": [
    "```python  \n",
    "import tensorflow as tf  \n",
    "\n",
    "# Ejemplo: Capa con activación binaria (0 o 1)  \n",
    "layer = tf.keras.layers.Dense(units=10, activation='sigmoid')  \n",
    "\n",
    "# Aplicar Ley de Identidad: Eliminar neuronas siempre \"True\" (activación = 1)  \n",
    "mask = (layer.weights[0] == 1.0)  # Identificar pesos constantes  \n",
    "pruned_weights = tf.boolean_mask(layer.weights[0], mask)  \n",
    "```  \n",
    "\n",
    "\n"
   ]
  },
  {
   "cell_type": "markdown",
   "id": "3a99248c",
   "metadata": {},
   "source": [
    "\n",
    "#### **3. Ejercicio para Estudiantes**  \n",
    "**Problema:**  \n",
    "En un dataset de marketing digital, la feature \"Total_Clicks\" se calcula como:  \n",
    "```python  \n",
    "df['Total_Clicks'] = df['Morning_Clicks'] + df['Evening_Clicks']  \n",
    "```  \n",
    "**Preguntas:**  \n",
    "1. ¿Violenta la **Ley de Absorción**? ¿Cómo simplificarlo?  \n",
    "2. Usa la **Ley de De Morgan** para reescribir esta condición de filtrado:  \n",
    "   ```python  \n",
    "   if not (df['Total_Clicks'] < 10 and df['Conversion'] == 0):  \n",
    "       df['Target'] = 1  \n",
    "   ```  \n"
   ]
  },
  {
   "cell_type": "markdown",
   "id": "ee81691f",
   "metadata": {},
   "source": [
    "\n",
    "**Solución Esperada:**  \n",
    "1. Eliminar `Total_Clicks` y usar solo las features originales (`Morning_Clicks`, `Evening_Clicks`).  \n",
    "2.  \n",
    "```python  \n",
    "if df['Total_Clicks'] >= 10 or df['Conversion'] != 0:  \n",
    "    df['Target'] = 1  \n",
    "```  \n",
    "\n",
    "\n"
   ]
  },
  {
   "cell_type": "markdown",
   "id": "5bf96f32",
   "metadata": {},
   "source": [
    "\n",
    "#### **4. Discusión: ¿Por qué Importa la Lógica en ML/DL?**  \n",
    "- **Eficiencia:** Reduce tiempos de entrenamiento al eliminar cómputos innecesarios.  \n",
    "- **Interpretabilidad:** Modelos más simples = más fáciles de explicar (*XAI*).  \n",
    "- **Generalización:** Evita *overfitting* al quitar variables redundantes.  \n",
    "\n"
   ]
  },
  {
   "cell_type": "markdown",
   "id": "e0411e0d",
   "metadata": {},
   "source": [
    "\n",
    "\n",
    "#### **5. Recursos Adicionales**  \n",
    "- **Libro:** *\"Logic for Data Science\"* (Jean-Louis Lassez).  \n",
    "- **Paper:** *\"Logical Rule Extraction for Model Compression\"* (IBM Research).  \n",
    "\n",
    "> **\"En ciencia de datos, la lógica no es solo un tema de filosofía: es el cepillo que desenreda el pelo enmarañado de los datos.\"**  \n",
    "\n"
   ]
  },
  {
   "cell_type": "markdown",
   "id": "e0e7146c",
   "metadata": {},
   "source": [
    "# 8. **Tarea o actividades de ejercitación**  \n",
    "- Resuelve ejercicios de simplificación de expresiones lógicas.  \n",
    "- Diseña circuitos lógicos en Crocodile Clips que tengan que ver con leyes de la lógica.  \n",
    "\n"
   ]
  },
  {
   "cell_type": "markdown",
   "id": "c2dcbabe",
   "metadata": {},
   "source": [
    "\n",
    "### 9. **Evaluación**  \n",
    "- **Proyectos**: Diseña 10 proyectos que apliquen las leyes de la lógica en contextos como deportes, economía, teoría de números, etc.  \n",
    "- **Quiz**: Preguntas como: \"Aplica la ley de De Morgan para simplificar $\\neg (p \\land q)$\".  \n",
    "- **Parcial**: Incluye problemas que integren múltiples leyes de la lógica.  \n",
    "\n",
    "---\n",
    "\n"
   ]
  },
  {
   "cell_type": "markdown",
   "id": "a4cb56bc",
   "metadata": {},
   "source": [
    "\n",
    "\n",
    "### 10. **Actividad de retroalimentación**  \n",
    "- Revisión en equipo de los proyectos y discusión de los resultados.  \n",
    "\n",
    "---\n"
   ]
  },
  {
   "cell_type": "markdown",
   "id": "ff46d23b",
   "metadata": {},
   "source": [
    "\n",
    "### 11. **Vocabulario en inglés**  \n",
    "- Logic: Lógica  \n",
    "- Proposition: Proposición  \n",
    "- Truth table: Tabla de verdad  \n",
    "- Circuit: Circuito  \n",
    "- Boolean algebra: Álgebra booleana  \n",
    "\n",
    "---\n"
   ]
  },
  {
   "cell_type": "markdown",
   "id": "668fba21",
   "metadata": {},
   "source": [
    "\n",
    "### 12. **Apéndice**  \n",
    "- Desarrollo de habilidades de trabajo en equipo.  \n",
    "- Inteligencia emocional para afrontar evaluaciones.  \n",
    "\n",
    "---\n"
   ]
  },
  {
   "cell_type": "markdown",
   "id": "1e0e560f",
   "metadata": {},
   "source": [
    "\n",
    "### 13. **Referentes en didáctica de la matemática**  \n",
    "1. Duval, R. (1999). *Representaciones y cambios de representación para la adquisición de conceptos matemáticos*.  \n",
    "2. Wing, J. (2006). *Desarrollo del pensamiento computacional*.  \n",
    "3. [Incluir otros 8 referentes siguiendo normas APA].  \n",
    "\n",
    "---\n"
   ]
  },
  {
   "cell_type": "markdown",
   "id": "0a4940c7",
   "metadata": {},
   "source": [
    "\n",
    "Este diseño de clase integra herramientas tecnológicas y enfoques pedagógicos modernos para facilitar el aprendizaje activo y significativo de las leyes de la lógica."
   ]
  },
  {
   "cell_type": "markdown",
   "id": "ae114e14",
   "metadata": {
    "slideshow": {
     "slide_type": "slide"
    }
   },
   "source": [
    "# Horarios de monitoría y asesoría  \n",
    "\n",
    "Coordinador de los cursos de la Facultad de Educación para regiones:    \n",
    "\n",
    "Andrés Vélez: regioneducacion.fedu@udea.edu.co  \n",
    "Coordinador Regiones  \n",
    "Facultad de Educación  \n",
    "Universidad de Antioquia  "
   ]
  },
  {
   "cell_type": "markdown",
   "id": "b1db4b6c",
   "metadata": {
    "slideshow": {
     "slide_type": "slide"
    }
   },
   "source": [
    "## Monitor Manuel San Juan Serrano\n",
    "\n",
    "Contactar escribiendo al correo: manuel.serrano1@udea.edu.co"
   ]
  },
  {
   "cell_type": "markdown",
   "id": "39559692",
   "metadata": {
    "slideshow": {
     "slide_type": "slide"
    }
   },
   "source": [
    "Martes y jueves de 8 - 12  \n",
    "Miércoles 10 - 12 y de 2 a 4 PM  \n",
    "Sábado: 8 - 12"
   ]
  },
  {
   "cell_type": "markdown",
   "id": "10bce0d0",
   "metadata": {
    "slideshow": {
     "slide_type": "slide"
    }
   },
   "source": [
    "## Referentes "
   ]
  },
  {
   "cell_type": "markdown",
   "id": "1db3c468",
   "metadata": {
    "slideshow": {
     "slide_type": "slide"
    }
   },
   "source": [
    "* [Desarrollo del pensamiento matemático con calculadora Casio ](https://bibliotecadigital.udea.edu.co/entities/publication/17180405-9f1d-4800-aa7c-e6369779cece)\n",
    "\n",
    "* [CALCULO I DE UNA VARIABLE Ron Larson-Bruce Edwards. Mc Graw Hill. 9º Edición](https://www.academia.edu/42139251/CALCULO_I_DE_UNA_VARIABLE_Ron_Larson_Bruce_Edwards_Mc_Graw_Hill_9o_Edici%C3%B3n)   \n",
    "  \n",
    "\n",
    "* [Grajales Vanegas, L. M., Restrepo Estrada, C. E., Restrepo Ochoa, S. I., & Ruíz De Villalba, F. (2015). Matemáticas I para las ciencias económicas.](https://bibliotecadigital.udea.edu.co/handle/10495/3010)\n",
    "  \n",
    "* R. Duval y Semiosis y pensamiento humano, 2.ª ed. Cali, Colombia: Programa Editorial Universidad del Valle, 2017. [En línea]. Disponible en: https://programaeditorial.univalle.edu.co/gpd-semiosis-y-pensamiento-humano-9789587655278-63324cdb0f6b3.html\n",
    "\n",
    "* [Aylwin, C. U. (2011). Lógica, conjuntos y números. Universidad de los Andes, Consejo de Publicaciones, Colección: Ciencias Básicas, Serie: Matemáticas.](chrome-extension://efaidnbmnnnibpcajpcglclefindmkaj/https://www.u-cursos.cl/ciencias/2011/1/MC110/1/material_docente/bajar?id_material=574722)\n",
    "  \n",
    "* [Chollet, F. (2021). Deep learning with Python. Simon and Schuster.](chrome-extension://efaidnbmnnnibpcajpcglclefindmkaj/https://tanthiamhuat.wordpress.com/wp-content/uploads/2018/03/deeplearningwithpython.pdf)  \n",
    "  \n",
    "* [Watson, S., Stewart, J., & Redlin, L. (2009). Precálculo. Matemáticas para el cálculo.](https://github.com/marco-canas/calculo/blob/main/referents/1_precalculo_stewart/stewart_precalculo.pdf)  \n",
    "\n",
    "* [Purcell, E. J., Varberg, D., & Rigdon, S. E. (2007). Cálculo diferencial e integral. Pearson Educación.](https://github.com/marco-canas/calculo/blob/main/referents/purcell/purcell_calculo.pdf)\n",
    "\n",
    "  \n",
    "\n",
    "* [stewart cálculo](https://udeaeduco-my.sharepoint.com/:b:/g/personal/marco_canas_udea_edu_co/EZgXZjAp8QxPqOAim2hs6LcBNPLGjSHf-xwYnUVYkwa04w?e=RZdTCy)  \n",
    "\n",
    "\n",
    "\n",
    "\n",
    "\n",
    "* [Recomendación de la UNESCO sobre ciencia abierta](https://unesdoc.unesco.org/ark:/48223/pf0000379949_spa)\n",
    "\n",
    "* [chatGPT](https://openai.com/blog/chatgpt)  \n",
    "\n",
    "* [Géron, A. (2017). Hands-on machine learning with scikit-learn and tensorflow: Concepts. Tools, and Techniques to build intelligent systems.](chrome-extension://efaidnbmnnnibpcajpcglclefindmkaj/http://14.139.161.31/OddSem-0822-1122/Hands-On_Machine_Learning_with_Scikit-Learn-Keras-and-TensorFlow-2nd-Edition-Aurelien-Geron.pdf)   \n"
   ]
  },
  {
   "cell_type": "markdown",
   "id": "df925560",
   "metadata": {},
   "source": [
    "\n",
    "* [McKinney, W. (2012). Python for data analysis: Data wrangling with Pandas, NumPy, and IPython. \" O'Reilly Media, Inc.\".](https://wesmckinney.com/book/) "
   ]
  },
  {
   "cell_type": "markdown",
   "id": "6b9e56a8",
   "metadata": {
    "slideshow": {
     "slide_type": "slide"
    }
   },
   "source": [
    "### [Evaluamos al profesor Marco Cañas Aquí](https://forms.office.com/Pages/ResponsePage.aspx?id=IefhmYRxjkmK_7KtTlPBwkanXIs1i1FEujpsZgO6dXpUREJPV1kxUk1JV1ozTFJIQVNIQjY5WEY3US4u)"
   ]
  },
  {
   "cell_type": "markdown",
   "id": "10f43536",
   "metadata": {
    "slideshow": {
     "slide_type": "slide"
    }
   },
   "source": [
    "### Continue su aprendizaje en la siguiente clase a través del siguiente [vínculo]()"
   ]
  },
  {
   "cell_type": "markdown",
   "id": "53cc9115",
   "metadata": {
    "slideshow": {
     "slide_type": "slide"
    }
   },
   "source": [
    "## Agradecimientos  \n",
    "\n",
    "Doy gracias a Dios por la vida de mi Hijo Joseph Cañas Osorio y la madurez que ha alcanzado. Este hijo me enorgullece y me hace falta abrazarlo cada día. \n",
    "\n",
    "Y a mi esposa Yasmira Emperatriz Barboza Mogollón por su apoyo, orientación y acompañamiento. "
   ]
  },
  {
   "cell_type": "markdown",
   "id": "b6ba1c23",
   "metadata": {},
   "source": [
    "# Apéndice sobre calendarios y coordinaciones \n",
    "\n",
    "A continuación le envío el horario de la asignatura Cálculo Vectorial  \n",
    "\n",
    "Días:  \n",
    "Lunes - Hora: 7:00 a 12:00M  \n",
    "Fechas:  \n",
    "Febrero: 10-17-24                                          \n",
    " Marzo: 3-10-17-31                                                  \n",
    "Abril:7-21-28                                                   \n",
    "Mayo:5-12-19  \n",
    "\n",
    "Agradezco su apoyo, y si presenta alguna dificultad puede contactarme.  \n",
    "\n",
    "Cordialmente,  \n",
    "Juan Felipe Rivera Hernández  \n",
    "Contacto: 3106314300  "
   ]
  }
 ],
 "metadata": {
  "celltoolbar": "Slideshow",
  "kernelspec": {
   "display_name": ".venv",
   "language": "python",
   "name": "python3"
  },
  "language_info": {
   "codemirror_mode": {
    "name": "ipython",
    "version": 3
   },
   "file_extension": ".py",
   "mimetype": "text/x-python",
   "name": "python",
   "nbconvert_exporter": "python",
   "pygments_lexer": "ipython3",
   "version": "3.11.9"
  },
  "rise": {
   "enable_chalkboard": true,
   "theme": "sky",
   "transition": "zoom"
  }
 },
 "nbformat": 4,
 "nbformat_minor": 5
}
