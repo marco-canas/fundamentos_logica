{
 "cells": [
  {
   "cell_type": "markdown",
   "id": "dc06dec7",
   "metadata": {
    "slideshow": {
     "slide_type": "slide"
    }
   },
   "source": [
    "<table align=\"left\">\n",
    "  <td>\n",
    "    <a href=\"https://colab.research.google.com/github/marco-canas/fundamentos_logica/blob/main/referentes/1_grajales_lina/2_inferencias_metodos_demostracion/2_inferencias/1_inferencias.ipynb\" target=\"_parent\"><img src=\"https://colab.research.google.com/assets/colab-badge.svg\" alt=\"Open In Colab\"/></a>\n",
    "  </td>\n",
    "  <td>\n",
    "    <a target=\"_blank\" href=\"https://kaggle.com/kernels/welcome?src=https://github.com/marco-canas/fundamentos_logica/blob/main/referentes/1_grajales_lina/2_inferencias_metodos_demostracion/2_inferencias/1_inferencias.ipynb\"><img src=\"https://kaggle.com/static/images/open-in-kaggle.svg\" /></a>\n",
    "  </td>\n",
    "</table>"
   ]
  },
  {
   "cell_type": "markdown",
   "id": "e0c5b198",
   "metadata": {
    "slideshow": {
     "slide_type": "slide"
    }
   },
   "source": [
    "### [Video de apoyo a la lectura interactiva y experimental de este cuaderno](https://www.youtube.com/watch?v=hnPa_a60fRE)"
   ]
  },
  {
   "cell_type": "markdown",
   "id": "41e82203",
   "metadata": {
    "slideshow": {
     "slide_type": "slide"
    }
   },
   "source": [
    "## [Vínculo al programa del curso de Fundamentos de la lógica:](https://github.com/marco-canas/fundamentos_logica/blob/main/programa_curso_fundamentos_logica_profesor_marco_canas_caucasia.docx)\n",
    "\n"
   ]
  },
  {
   "cell_type": "markdown",
   "id": "d11ab06d",
   "metadata": {
    "slideshow": {
     "slide_type": "slide"
    }
   },
   "source": [
    "Un reconocimiento a mis estudiantes que han construido conmigo este saber pedagógico:\n",
    "\n",
    "<img src = 'https://github.com/marco-canas/fundamentos_logica/blob/main/images/analisis_numerico_2025-05-27.jpeg?raw=true' width = 800> \n",
    "\n"
   ]
  },
  {
   "cell_type": "code",
   "execution_count": 1,
   "id": "7604880f",
   "metadata": {
    "slideshow": {
     "slide_type": "slide"
    }
   },
   "outputs": [
    {
     "data": {
      "application/vnd.microsoft.datawrangler.viewer.v0+json": {
       "columns": [
        {
         "name": "index",
         "rawType": "int64",
         "type": "integer"
        },
        {
         "name": "Cedula",
         "rawType": "int64",
         "type": "integer"
        },
        {
         "name": "Nombre",
         "rawType": "object",
         "type": "string"
        },
        {
         "name": "Email",
         "rawType": "object",
         "type": "string"
        },
        {
         "name": "p1",
         "rawType": "float64",
         "type": "float"
        }
       ],
       "ref": "60c3a8fb-dfce-45b9-9d1e-7e1ce4fafbe4",
       "rows": [
        [
         "1",
         "1066727564",
         "ARIAS ARRIETA FREDY",
         "fredy.arias1@udea.edu.co",
         null
        ],
        [
         "2",
         "1066512662",
         "BOHORQUEZ NAVARRO DINA ESTELA",
         "dina.bohorquez@udea.edu.co",
         null
        ],
        [
         "3",
         "1216729759",
         "CARDONA RAMÍREZ SARA PAULINA",
         "sara.cardona7@udea.edu.co",
         null
        ],
        [
         "4",
         "5798176",
         "CASTANEDA REINOZA DIEGO",
         "diego.castaneda2@udea.edu.co",
         "2.5"
        ],
        [
         "5",
         "1001549324",
         "HERRERA CASTILLO LUKAS MATEO",
         "lukas.herrera@udea.edu.co",
         "1.7"
        ],
        [
         "6",
         "1066600808",
         "LUCAS FLOREZ NAYELIS NATALIA",
         "natalia.lucas@udea.edu.co",
         null
        ],
        [
         "7",
         "1038096462",
         "OCHOA ARRIETA JUAN ANDRES",
         "juan.ochoaa1@udea.edu.co",
         null
        ],
        [
         "8",
         "1129805697",
         "RUIZ CARDENAS LUIS MARIO",
         "luismario.ruiz@udea.edu.co",
         null
        ],
        [
         "9",
         "1137974924",
         "TAMAYO DE LA OSSA SARA",
         "sara.tamayod@udea.edu.co",
         null
        ]
       ],
       "shape": {
        "columns": 4,
        "rows": 9
       }
      },
      "text/html": [
       "<div>\n",
       "<style scoped>\n",
       "    .dataframe tbody tr th:only-of-type {\n",
       "        vertical-align: middle;\n",
       "    }\n",
       "\n",
       "    .dataframe tbody tr th {\n",
       "        vertical-align: top;\n",
       "    }\n",
       "\n",
       "    .dataframe thead th {\n",
       "        text-align: right;\n",
       "    }\n",
       "</style>\n",
       "<table border=\"1\" class=\"dataframe\">\n",
       "  <thead>\n",
       "    <tr style=\"text-align: right;\">\n",
       "      <th></th>\n",
       "      <th>Cedula</th>\n",
       "      <th>Nombre</th>\n",
       "      <th>Email</th>\n",
       "      <th>p1</th>\n",
       "    </tr>\n",
       "  </thead>\n",
       "  <tbody>\n",
       "    <tr>\n",
       "      <th>1</th>\n",
       "      <td>1066727564</td>\n",
       "      <td>ARIAS ARRIETA FREDY</td>\n",
       "      <td>fredy.arias1@udea.edu.co</td>\n",
       "      <td>NaN</td>\n",
       "    </tr>\n",
       "    <tr>\n",
       "      <th>2</th>\n",
       "      <td>1066512662</td>\n",
       "      <td>BOHORQUEZ NAVARRO DINA ESTELA</td>\n",
       "      <td>dina.bohorquez@udea.edu.co</td>\n",
       "      <td>NaN</td>\n",
       "    </tr>\n",
       "    <tr>\n",
       "      <th>3</th>\n",
       "      <td>1216729759</td>\n",
       "      <td>CARDONA RAMÍREZ SARA PAULINA</td>\n",
       "      <td>sara.cardona7@udea.edu.co</td>\n",
       "      <td>NaN</td>\n",
       "    </tr>\n",
       "    <tr>\n",
       "      <th>4</th>\n",
       "      <td>5798176</td>\n",
       "      <td>CASTANEDA REINOZA DIEGO</td>\n",
       "      <td>diego.castaneda2@udea.edu.co</td>\n",
       "      <td>2.5</td>\n",
       "    </tr>\n",
       "    <tr>\n",
       "      <th>5</th>\n",
       "      <td>1001549324</td>\n",
       "      <td>HERRERA CASTILLO LUKAS MATEO</td>\n",
       "      <td>lukas.herrera@udea.edu.co</td>\n",
       "      <td>1.7</td>\n",
       "    </tr>\n",
       "    <tr>\n",
       "      <th>6</th>\n",
       "      <td>1066600808</td>\n",
       "      <td>LUCAS FLOREZ NAYELIS NATALIA</td>\n",
       "      <td>natalia.lucas@udea.edu.co</td>\n",
       "      <td>NaN</td>\n",
       "    </tr>\n",
       "    <tr>\n",
       "      <th>7</th>\n",
       "      <td>1038096462</td>\n",
       "      <td>OCHOA ARRIETA JUAN ANDRES</td>\n",
       "      <td>juan.ochoaa1@udea.edu.co</td>\n",
       "      <td>NaN</td>\n",
       "    </tr>\n",
       "    <tr>\n",
       "      <th>8</th>\n",
       "      <td>1129805697</td>\n",
       "      <td>RUIZ CARDENAS LUIS MARIO</td>\n",
       "      <td>luismario.ruiz@udea.edu.co</td>\n",
       "      <td>NaN</td>\n",
       "    </tr>\n",
       "    <tr>\n",
       "      <th>9</th>\n",
       "      <td>1137974924</td>\n",
       "      <td>TAMAYO DE LA OSSA SARA</td>\n",
       "      <td>sara.tamayod@udea.edu.co</td>\n",
       "      <td>NaN</td>\n",
       "    </tr>\n",
       "  </tbody>\n",
       "</table>\n",
       "</div>"
      ],
      "text/plain": [
       "       Cedula                         Nombre                         Email  \\\n",
       "1  1066727564            ARIAS ARRIETA FREDY      fredy.arias1@udea.edu.co   \n",
       "2  1066512662  BOHORQUEZ NAVARRO DINA ESTELA    dina.bohorquez@udea.edu.co   \n",
       "3  1216729759   CARDONA RAMÍREZ SARA PAULINA     sara.cardona7@udea.edu.co   \n",
       "4     5798176        CASTANEDA REINOZA DIEGO  diego.castaneda2@udea.edu.co   \n",
       "5  1001549324   HERRERA CASTILLO LUKAS MATEO     lukas.herrera@udea.edu.co   \n",
       "6  1066600808   LUCAS FLOREZ NAYELIS NATALIA     natalia.lucas@udea.edu.co   \n",
       "7  1038096462      OCHOA ARRIETA JUAN ANDRES      juan.ochoaa1@udea.edu.co   \n",
       "8  1129805697       RUIZ CARDENAS LUIS MARIO    luismario.ruiz@udea.edu.co   \n",
       "9  1137974924         TAMAYO DE LA OSSA SARA      sara.tamayod@udea.edu.co   \n",
       "\n",
       "    p1  \n",
       "1  NaN  \n",
       "2  NaN  \n",
       "3  NaN  \n",
       "4  2.5  \n",
       "5  1.7  \n",
       "6  NaN  \n",
       "7  NaN  \n",
       "8  NaN  \n",
       "9  NaN  "
      ]
     },
     "execution_count": 1,
     "metadata": {},
     "output_type": "execute_result"
    }
   ],
   "source": [
    "import pandas as pd\n",
    "import numpy as np\n",
    "\n",
    "# Cargar la lista de estudiantes desde la URL\n",
    "path = 'C:/Users/marco/Documentos/docencia/groups_list/logica.xlsx'\n",
    "df = pd.read_excel(path)\n",
    "df.index = range(1, len(df) + 1)  \n",
    "df \n"
   ]
  },
  {
   "cell_type": "markdown",
   "id": "d7598d0a-d9b7-4ae0-b029-a0ed6ed1130b",
   "metadata": {},
   "source": [
    "\n",
    "# Principios de mi labor docente"
   ]
  },
  {
   "cell_type": "markdown",
   "id": "4f9d8cf9",
   "metadata": {
    "slideshow": {
     "slide_type": "slide"
    }
   },
   "source": [
    "## Modelo general de clase: [aula invertida](https://www3.gobiernodecanarias.org/medusa/ecoescuela/pedagotic/aprendizaje-invertido-flipped-classroom/)"
   ]
  },
  {
   "cell_type": "markdown",
   "id": "eb6ed03a",
   "metadata": {},
   "source": [
    "<img src = 'https://resources.maneuveringthemiddle.com/wp-content/uploads/2020/07/04212706/1-5.png' width = 400>  \n",
    "\n"
   ]
  },
  {
   "cell_type": "markdown",
   "id": "34319cce-a71b-4f64-aab8-b53e521efa40",
   "metadata": {},
   "source": [
    "# Metodología de Aprendizaje Basado en Problemas y Proyectos (ABPP)\n"
   ]
  },
  {
   "cell_type": "markdown",
   "id": "248b1008",
   "metadata": {},
   "source": [
    "\n",
    "<img src = 'https://www.unir.net/wp-content/uploads/2020/07/aprendizaje-problemas2-1-1-1-1.jpeg' width = 300>"
   ]
  },
  {
   "cell_type": "markdown",
   "id": "841a985c-bd9b-4dd3-8e4c-893983980af2",
   "metadata": {},
   "source": [
    "# Desarrollo del pensamiento computacional con python y cuadernos Jupyter  orientado a la formación en ciencia de datos \n",
    "\n"
   ]
  },
  {
   "cell_type": "markdown",
   "id": "df1a1d8b",
   "metadata": {},
   "source": [
    "\n",
    "<img src = 'https://i.ytimg.com/vi/mcG_wcR4e6M/maxresdefault.jpg' width = 300>"
   ]
  },
  {
   "cell_type": "markdown",
   "id": "65aa0404-f7ae-495e-864c-1aec01b4255e",
   "metadata": {},
   "source": [
    "# Principio de fomento a la ciencia abierta, enseñar en el acceso a los datos públicos y el uso de software de código abierto  \n"
   ]
  },
  {
   "cell_type": "markdown",
   "id": "18ae9b87",
   "metadata": {},
   "source": [
    "\n",
    "<img src = 'https://unesdoc.unesco.org/in/rest/Thumb/image?id=p%3A%3Ausmarcdef_0000379949_spa&author=UNESCO&title=Recomendaci%C3%B3n+de+la+UNESCO+sobre+la+Ciencia+Abierta&year=2021&publisher=UNESCO&TypeOfDocument=UnescoPhysicalDocument&mat=PGD&ct=true&size=512&isPhysical=1' width = 200>"
   ]
  },
  {
   "cell_type": "markdown",
   "id": "0130ec1b",
   "metadata": {},
   "source": [
    "\n",
    "<img src = 'https://www.campuseducacion.com/blog/wp-content/uploads/2023/03/foto01-1.jpg' width = 400>"
   ]
  },
  {
   "cell_type": "markdown",
   "id": "968c9c69",
   "metadata": {},
   "source": [
    "# Prompt para la clase sobre Raglas de Inferencia Lógicas  \n",
    "\n",
    "Dame, por favor, un diseño de clase, con el enfoque: STEAMS  y de aprendizaje basado en problemas y proyectos(ABPP); sobre: **\"Las reglas de Inferencia vs las falacias asociadas a ellas.\"**, siguiendo la estructura:   \n",
    "\n",
    "1. Título de la clase \n",
    "2. Objetivo de aprendizaje e indicadores de logro de estos objetivos. \n",
    "3.  Un mapa conceptual que resuma la clase elaborado en Graphviz de python con nodos y edges de diferentes formas, colores y rellenos y renderizado en la siguiente ubicación: `\"C:/Users/marco/Downloads\"`. No olvides el parámetro `view = True` para el método `render()` de Graphviz. Para este mapa controla las superposiciones de los nodos con: graph [overlap=false]; // Elimina superposiciones (puede aumentar el espacio)\n",
    "graph [overlap=\"scalexy\"]; // Escala el gráfico para evitar overlaps\n",
    "graph [overlap=\"compress\"]; // Comprime el grafo sin overlaps   \n",
    "   \n",
    "4. Contenido de la clase    \n",
    "   \n",
    "5. Incluye una canción o un poema que ayude a interiorizar y fijar los conceptos asociados a esta clase.  \n",
    "   \n",
    "6. Dame elementos históricos y epistemológicos asociados a esta clase, pero contados como un cuento al estilo de un cuentero antioqueño en Colombia. Incluye imágenes de los protagonistas históricos de esta clase.   \n",
    "   \n",
    "7. Actividades de aprendizaje    \n",
    "     * Incluya actividades de aprendizaje utilizando Calculadora **Casio 991 LA cw**\n",
    "     * Incluya también actividades de aprendizaje y modelación de situaciones o problemas reales a través de circuitos lógicos y circuitos digitales o electrónicos utilizando la aplicación portable cocodrilo. [Descarge esta aplicación portable aquí](https://crocodileclips.net/descargar-crocodile-clips/)    \n",
    "   \n",
    "8.  Tarea o actividades de ejercitación y fijación.  \n",
    "     \n",
    "    \n",
    "9.  Evaluación incluyendo diez proyectos, un ejemplo de quiz y un ejemplo de parcial.  \n",
    "     * Diseña el quiz con preguntas, donde se pida al estudiante el mostrar la aplicación de las expresiones lógicas en contextos: \n",
    "       - Deportivos\n",
    "       - Cotidianos\n",
    "       - Matemáticas en teoría de números \n",
    "       - Matemáticas en geometría euclidiana\n",
    "       - Matemática en Cálculo Diferencial.\n",
    "       - Económicos. \n",
    "     * Actividad de desarrollo de habilidades metacognitivas para hacernos concientes de nuestro propio proceso de aprendizaje y de la importancia de la evaluación continua.\n",
    "\n",
    "10. Diseño de actividad de retroalimentación.  \n",
    "      \n",
    "11. Dame un vocabulario y frases del idioma inglés asociadas a esta clase.   \n",
    "    \n",
    "12. Incluye apéndice para la clase sobre desarrollo de habilidades para trabajar en equipo y de asertividad y empatía para relacionarnos. También elementos de la inteligencia emocional para presentar pruebas sin temor y sin realizar fraude en ellas.   \n",
    "13. Incluye 10 referentes en didáctica de la matemática que estén de acuerdo a la propuesta didáctica de esta clase. Adiciona a estos referentes a Raymond Duval (Representaciones y cambios de representación para la adquisición de conceptos matemáticos) y a Janete Wing (Desarrollo del pensamiento computacional). Dejame todos estos referentes ordenados de acuerdo a las normas APA. Dejame todos estos referentes ordenados de acuerdo a las normas APA. Incluye las citaciones a estos referentes a medida que vallas diseñando la clase. \n",
    "\n",
    "\n",
    "Pero  que este diseño sea para que el estudiante pueda aprender experimentando en cuadernos Jupyter con funciones de usuario y animaciones y visualizaciones en python. En particular utiliza para el diseño de clase a Numpy, Pandas, SymPy, Matplotlib.pyplot, Seaborn, Plotly, ipywidgets, matplotlib.animation y Jupyter Notebook.  \n",
    "Cuando vallas a utilizar SymPy, ten en cuanta la siguiente configuración: \n",
    "# Corrección y mejora del código\n",
    "from sympy import symbols, Equivalent\n",
    "from sympy.logic.boolalg import truth_table\n",
    "\n",
    "Cada vez que utilices `matplotlib.animacion` no olvides incluir el uso de `IPython. display` para la rederización de estas animaciones a través de Jupyter Notebook. No olvides darme los diseños de clase con las ecuaciones matemáticas delimitadas con signo de dolar $ para que VS Code si me renderize estas expresiones del lenguaje latex. Cuando vallas a utilizar ipywidgets ten en cuenta la siguiente importación inicial para garantizar que la visualización interactiva si se renderize en VS Code: import numpy as np\n",
    "import matplotlib.pyplot as plt\n",
    "import ipywidgets as widgets\n",
    "from IPython.display import display, clear_output\n",
    "from matplotlib.patches import Rectangle\n",
    "\n",
    "# Configuración inicial para visualización estática\n",
    "%matplotlib inline "
   ]
  },
  {
   "cell_type": "markdown",
   "id": "c0ed24e8",
   "metadata": {},
   "source": [
    "# **Diseño de Clase STEAM con ABPP: \"Reglas de Inferencias Lógicas para el Ejercicio Profesional del Licenciado en Matemáticas en Colombia\"**  \n",
    "\n",
    "---\n"
   ]
  },
  {
   "cell_type": "markdown",
   "id": "4f0f769c",
   "metadata": {},
   "source": [
    "\n",
    "## **1. Título de la Clase**  \n",
    "**\"Lógica Matemática en Acción: Inferencias para la Solución de Problemas Reales\"**  \n",
    "\n",
    "---\n"
   ]
  },
  {
   "cell_type": "markdown",
   "id": "e290b4b2",
   "metadata": {},
   "source": [
    "\n",
    "## **2. Objetivos de Aprendizaje e Indicadores de Logro**  \n",
    "### **Objetivo Principal:**  \n",
    "Aplicar reglas de inferencia lógica en contextos profesionales (educación, investigación, industria) mediante enfoque STEAM y ABPP.  \n"
   ]
  },
  {
   "cell_type": "markdown",
   "id": "35f9c8f9",
   "metadata": {},
   "source": [
    "\n",
    "### **Indicadores de Logro:** "
   ]
  },
  {
   "cell_type": "markdown",
   "id": "aa1ae8da",
   "metadata": {},
   "source": [
    " \n",
    "- Identifica y aplica las 9 reglas de inferencia clásicas (*Modus Ponens, Modus Tollens, Silogismo Hipotético, etc.*).  \n",
    "- Modela problemas reales usando lógica proposicional y circuitos digitales.  \n",
    "- Diseña algoritmos en Python (`SymPy`, `Truth Tables`) para automatizar inferencias.  \n",
    "- Relaciona la lógica con áreas como teoría de números, geometría y economía.  \n",
    "- Trabaja en equipo aplicando inteligencia emocional y pensamiento computacional.  \n"
   ]
  },
  {
   "cell_type": "markdown",
   "id": "1d442800",
   "metadata": {},
   "source": [
    "\n",
    "---\n",
    "\n",
    "## **3. Mapa Conceptual (Graphviz)**  \n"
   ]
  },
  {
   "cell_type": "code",
   "execution_count": 2,
   "id": "7e619716",
   "metadata": {},
   "outputs": [
    {
     "name": "stdout",
     "output_type": "stream",
     "text": [
      "Mapa guardado en: C:/Users/marco/Downloads/Mapa_Inferencias_Lógicas.png\n"
     ]
    }
   ],
   "source": [
    "\n",
    "from graphviz import Digraph\n",
    "import os\n",
    "\n",
    "# Configuración del grafo\n",
    "dot = Digraph(comment='Reglas de Inferencia Lógica', \n",
    "              graph_attr={'overlap': 'scalexy', 'splines': 'true', 'fontsize': '12'})\n",
    "dot.attr(rankdir='LR')  # Orientación horizontal\n",
    "\n",
    "# Nodos principales (con colores y formas)\n",
    "dot.node('A', 'Reglas de Inferencia Lógica', shape='ellipse', style='filled', fillcolor='#FFD700')\n",
    "dot.node('B', 'Modus Ponens\\n(Si P→Q y P, entonces Q)', shape='box', color='blue')\n",
    "dot.node('C', 'Modus Tollens\\n(Si P→Q y ¬Q, entonces ¬P)', shape='box', color='blue')\n",
    "dot.node('D', 'Silogismo Hipotético\\n((P→Q y Q→R) →  (P→R))',\\\n",
    "    shape='box', color='green')\n",
    "dot.node('E', 'Aplicaciones\\nProfesionales', shape='doubleoctagon', fillcolor='#FFA07A')\n",
    "\n",
    "# Conexiones (edges)\n",
    "dot.edges(['AB', 'AC', 'AD', 'BE', 'CE', 'DE'])\n",
    "\n",
    "# Renderizar y guardar\n",
    "output_path = \"C:/Users/marco/Downloads/Mapa_Inferencias_Lógicas\"\n",
    "dot.render(output_path, format='png', view=True, cleanup=True)\n",
    "print(f\"Mapa guardado en: {output_path}.png\")\n"
   ]
  },
  {
   "cell_type": "markdown",
   "id": "8a6f15db",
   "metadata": {},
   "source": [
    "\n",
    "## **4. Contenido de la Clase** "
   ]
  },
  {
   "cell_type": "markdown",
   "id": "094fa77e",
   "metadata": {},
   "source": [
    " \n",
    "### **Conceptos Clave:**  \n",
    "- **Lógica Proposicional:**  \n",
    "  - Sintaxis ($P \\land Q$, $P \\lor Q$, $\\neg P$, $P \\rightarrow Q$).  \n",
    "  - Tablas de verdad (`SymPy.truth_table`).  \n",
    "- **Reglas de Inferencia:**  \n",
    "  - Ejemplo en Python:"
   ]
  },
  {
   "cell_type": "code",
   "execution_count": null,
   "id": "5016e501",
   "metadata": {},
   "outputs": [],
   "source": [
    "  \n",
    "from sympy import symbols, Implies, Equivalent\n",
    "P, Q = symbols('P Q')\n",
    "modus_ponens = Implies(P, Q) & P  # Si P→Q y P, entonces Q\n",
    "modus_ponens.simplify()     # Output: Q\n"
   ]
  },
  {
   "cell_type": "markdown",
   "id": "3d813e0c",
   "metadata": {},
   "source": [
    "  \n",
    "- **Circuitos Lógicos (Crocodile Clips):**  \n",
    "  - Simulación de compuertas AND/OR/NOT.  \n",
    "\n",
    "---\n"
   ]
  },
  {
   "cell_type": "markdown",
   "id": "7a56e487",
   "metadata": {},
   "source": [
    "# Las reglas de inferencia vs la falacia asociada a cada una de ellas "
   ]
  },
  {
   "cell_type": "markdown",
   "id": "a0659e90",
   "metadata": {},
   "source": []
  },
  {
   "cell_type": "markdown",
   "id": "97f5d1f0",
   "metadata": {},
   "source": [
    "# |Nombre Regla de inferencia|Representacion simbólica|Falacia asociada|\n",
    "\n",
    "## |Simplificación|\n",
    "$$ p \\land q \\Rightarrow p$$ \n",
    "* Falacia asociada: $p \\Rightarrow p \\land q$\n"
   ]
  },
  {
   "cell_type": "markdown",
   "id": "5e85b398",
   "metadata": {},
   "source": [
    "## Adjunción  \n",
    "\n",
    "$$ p \\Rightarrow (p \\lor q) $$  \n",
    "\n",
    "* Falacia asociada: $(p \\lor q) \\Rightarrow p$. \n"
   ]
  },
  {
   "cell_type": "markdown",
   "id": "eaa84265",
   "metadata": {},
   "source": [
    "## Modus Ponens  \n",
    "$$[(p \\to q) \\land p] \\to q $$ \n",
    "\n",
    "* Falacia asociada: $[(p \\to q) \\land q] \\to p $. \n",
    "  \n"
   ]
  },
  {
   "cell_type": "markdown",
   "id": "db681b39",
   "metadata": {},
   "source": [
    "## |Modus Tollens|\n",
    "$$[(p \\to q) \\land \\neg q] \\Rightarrow \\neg p $$\n",
    "- Falacia asociada:: $[(p \\to q) \\land q] \\to p $. \n"
   ]
  },
  {
   "cell_type": "markdown",
   "id": "b6f78254",
   "metadata": {},
   "source": [
    "## Silogismo Hipotético\n",
    "$$[() \\land ()] \\Rightarrow $$\n",
    "- Falacia asociada: $$\n",
    "|Silogismo disyuntivo|||"
   ]
  },
  {
   "cell_type": "markdown",
   "id": "fe380788",
   "metadata": {},
   "source": [
    "\n",
    "## **5. Canción/Poema para Fijar Conceptos**  \n",
    "**\"El Vals de los Operadores\"** (Adaptación de *\"El Vals del Obelisco\"*):  \n",
    "```\n",
    "Si P implica Q, y P es verdad,  \n",
    "¡Q no falla, es la realidad! (Modus Ponens).  \n",
    "Pero si Q es falso, ¡oh dolor!,  \n",
    "entonces P se va con el señor (Modus Tollens).  \n",
    "```  \n"
   ]
  },
  {
   "cell_type": "markdown",
   "id": "fbc41c8f",
   "metadata": {},
   "source": [
    "\n",
    "## **6. Historia y Epistemología (Cuento Antioqueño)**  \n",
    "**\"Don Aristóteles y el Muchacho Lógico\"**  \n",
    "*\"Érase una vez, en Medellín, un joven que quería ser matemático...*  \n",
    "*...hasta que un día, leyendo a Boole (imagen), descubrió que la lógica era como el ajedrez: reglas claras y estrategias infinitas.\"*   \n",
    "\n",
    "<img src = 'reglas_inferencias.png' width = 300>"
   ]
  },
  {
   "cell_type": "markdown",
   "id": "d5756ac0",
   "metadata": {},
   "source": [
    "\n",
    "## **7. Actividades de Aprendizaje**  \n",
    "\n",
    "### Bloques Lógicos con carton  \n",
    "\n",
    "\n"
   ]
  },
  {
   "cell_type": "markdown",
   "id": "52169e59",
   "metadata": {},
   "source": [
    "### **Con Casio 991 LA cw:**  \n",
    "- Calcular tablas de verdad para $(P \\lor Q) \\land \\neg R$.  \n",
    "- Verificar tautologías usando `MODE → TABLE`.  \n"
   ]
  },
  {
   "cell_type": "markdown",
   "id": "83b50c3c",
   "metadata": {},
   "source": [
    "\n",
    "### **Con Crocodile Clips:**  \n",
    "- Diseñar un circuito que simule $P \\rightarrow (P \\lor Q)$.  \n"
   ]
  },
  {
   "cell_type": "markdown",
   "id": "c2fc7198",
   "metadata": {},
   "source": [
    "\n",
    "### **En Jupyter Notebook:**  \n"
   ]
  },
  {
   "cell_type": "code",
   "execution_count": null,
   "id": "512c3bb9",
   "metadata": {},
   "outputs": [],
   "source": [
    "\n",
    "import numpy as np\n",
    "import matplotlib.pyplot as plt\n",
    "from sympy.logic import SOPform\n",
    "from ipywidgets import interact\n",
    "\n",
    "# Widget interactivo para tablas de verdad\n",
    "@interact(P=[True, False], Q=[True, False])\n",
    "def tabla_verdad(P, Q):\n",
    "    print(f\"P ∧ Q = {P and Q}\\nP ∨ Q = {P or Q}\")\n",
    "  \n"
   ]
  },
  {
   "cell_type": "markdown",
   "id": "e95b8277",
   "metadata": {},
   "source": [
    "\n",
    "---\n",
    "\n",
    "## **8. Tareas**  \n",
    "- Implementar en Python un validador de reglas de inferencia.  \n",
    "- Resolver problemas de lógica en contextos deportivos (ej: *\"Si ganas 3 partidos, vas a playoffs. Ganaste 3. ¿Vas a playoffs?\"*).  \n",
    "\n",
    "---\n"
   ]
  },
  {
   "cell_type": "markdown",
   "id": "da0b0e6b",
   "metadata": {},
   "source": [
    "\n",
    "## **9. Evaluación**    \n",
    "\n",
    "## Proyectos \n",
    "\n",
    "### Cómo enseñar reglas de inferencia con el juego de Ajedres. \n",
    "\n",
    "### Cómo Enseñar la diferencia entre condición suficiente y condición necesaria con bloques lógicos y el concepto de subconjunto. \n",
    "\n",
    "###  Bloques Lógicos con carton  \n",
    "\n",
    "### **Quiz (Ejemplo):**  \n",
    "**Pregunta 1:**  \n",
    "*\"En un partido, si un equipo anota 5 goles ($P$), gana (Q). Hoy anotó 5. ¿Qué inferencia aplica?\"*  \n",
    "**Respuesta:** Modus Ponens ($P \\rightarrow Q, P \\vdash Q$).  \n",
    "\n",
    "### **Parcial (Proyecto):**  \n",
    "- Modelar un sistema de préstamos bancarios usando lógica proposicional.  \n",
    "\n",
    "---\n"
   ]
  },
  {
   "cell_type": "markdown",
   "id": "e62194f2",
   "metadata": {},
   "source": [
    "\n",
    "## **10. Retroalimentación**  \n",
    "- **Rúbrica de Autoevaluación** (Google Forms).  \n",
    "- **Discusión en Equipo:** *\"¿Cómo usaron la lógica en su proyecto?\"*  \n",
    "\n",
    "---\n"
   ]
  },
  {
   "cell_type": "markdown",
   "id": "a39b5936",
   "metadata": {},
   "source": [
    "\n",
    "## **11. Vocabulario en Inglés**  \n",
    "- **Premise:** Premisa  \n",
    "- **Truth Table:** Tabla de Verdad  \n",
    "- **Logical Equivalence:** Equivalencia Lógica  \n"
   ]
  },
  {
   "cell_type": "markdown",
   "id": "2556c382",
   "metadata": {},
   "source": [
    "\n",
    "---\n",
    "\n",
    "## **12. Apéndice: Habilidades Blandas**  \n",
    "- **Técnica del Semáforo** para manejo del estrés en evaluaciones.  \n",
    "- **Role-Playing** para practicar asertividad en debates lógicos.  \n",
    "\n",
    "---\n"
   ]
  },
  {
   "cell_type": "markdown",
   "id": "2e8e375a",
   "metadata": {},
   "source": [
    "\n",
    "## **13. Referentes APA**  \n",
    "1. Duval, R. (2006). *Un tema crucial en la educación matemática: La habilidad de cambiar representaciones.*  \n",
    "2. Wing, J. (2006). *Computational Thinking.* Communications of the ACM.  \n",
    "3. Polya, G. (1945). *How to Solve It.* Princeton University Press.  \n",
    "\n",
    "--- \n"
   ]
  },
  {
   "cell_type": "markdown",
   "id": "9445d18e",
   "metadata": {},
   "source": [
    "[]()"
   ]
  },
  {
   "cell_type": "markdown",
   "id": "14b47874",
   "metadata": {},
   "source": [
    "# Implementación de la clase  \n",
    "\n",
    "# **Diseño de Clase STEAM con ABPP: \"Reglas de Inferencias Lógicas para el Ejercicio Profesional del Licenciado en Matemáticas en Colombia\"**  \n",
    "\n",
    "---\n",
    "\n",
    "## **1. Título de la Clase**  \n",
    "**\"Lógica Matemática en Acción: Inferencias para la Solución de Problemas Reales\"**  \n",
    "\n",
    "---\n"
   ]
  },
  {
   "cell_type": "markdown",
   "id": "b14de40d",
   "metadata": {},
   "source": [
    "\n",
    "## **2. Objetivos de Aprendizaje e Indicadores de Logro**  \n",
    "### **Objetivo Principal:**  \n",
    "Aplicar reglas de inferencia lógica en contextos profesionales (educación, investigación, industria) mediante enfoque STEAM y ABPP.  \n",
    "\n",
    "### **Indicadores de Logro:**  \n",
    "✅ Identifica y aplica las 9 reglas de inferencia clásicas (*Modus Ponens, Modus Tollens, Silogismo Hipotético, etc.*).  \n",
    "✅ Modela problemas reales usando lógica proposicional y circuitos digitales.  \n",
    "✅ Diseña algoritmos en Python (`SymPy`, `Truth Tables`) para automatizar inferencias.  \n",
    "✅ Relaciona la lógica con áreas como teoría de números, geometría y economía.  \n",
    "✅ Trabaja en equipo aplicando inteligencia emocional y pensamiento computacional.  \n",
    "\n",
    "---\n"
   ]
  },
  {
   "cell_type": "markdown",
   "id": "e17c7620",
   "metadata": {},
   "source": [
    "\n",
    "## **3. Mapa Conceptual (Graphviz)** "
   ]
  },
  {
   "cell_type": "code",
   "execution_count": null,
   "id": "a000412e",
   "metadata": {},
   "outputs": [],
   "source": [
    "\n",
    "from graphviz import Digraph\n",
    "import os\n",
    "\n",
    "# Configuración del grafo\n",
    "dot = Digraph(comment='Reglas de Inferencia Lógica', \n",
    "              graph_attr={'overlap': 'scalexy', 'splines': 'true', 'fontsize': '12'})\n",
    "dot.attr(rankdir='LR')  # Orientación horizontal\n",
    "\n",
    "# Nodos principales (con colores y formas)\n",
    "dot.node('A', 'Reglas de Inferencia Lógica', shape='ellipse', style='filled', fillcolor='#FFD700')\n",
    "dot.node('B', 'Modus Ponens\\n(Si P→Q y P, entonces Q)', shape='box', color='blue')\n",
    "dot.node('C', 'Modus Tollens\\n(Si P→Q y ¬Q, entonces ¬P)', shape='box', color='blue')\n",
    "dot.node('D', 'Silogismo Hipotético\\n(P→Q, Q→R ⇒ P→R)', shape='box', color='green')\n",
    "dot.node('E', 'Aplicaciones\\nProfesionales', shape='doubleoctagon', fillcolor='#FFA07A')\n",
    "\n",
    "# Conexiones (edges)\n",
    "dot.edges(['AB', 'AC', 'AD', 'BE', 'CE', 'DE'])\n",
    "\n",
    "# Renderizar y guardar\n",
    "output_path = \"C:/Users/marco/Downloads/Mapa_Inferencias_Lógicas\"\n",
    "dot.render(output_path, format='png', view=True, cleanup=True)\n",
    "print(f\"Mapa guardado en: {output_path}.png\")\n",
    " "
   ]
  },
  {
   "cell_type": "markdown",
   "id": "69c60e13",
   "metadata": {},
   "source": [
    " \n",
    "**Salida:**  \n",
    "![Mapa Conceptual](C:/Users/marco/Downloads/Mapa_Inferencias_Lógicas.png)  \n",
    "\n",
    "---\n"
   ]
  },
  {
   "cell_type": "markdown",
   "id": "904a56bc",
   "metadata": {},
   "source": [
    "\n",
    "## **4. Contenido de la Clase**  \n",
    "### **Conceptos Clave:**  \n",
    "- **Lógica Proposicional:**  \n",
    "  - Sintaxis ($P \\land Q$, $P \\lor Q$, $\\neg P$, $P \\rightarrow Q$).  \n",
    "  - Tablas de verdad (`SymPy.truth_table`). "
   ]
  },
  {
   "cell_type": "markdown",
   "id": "e0bf53f5",
   "metadata": {},
   "source": [
    " \n",
    "- **Reglas de Inferencia:**  \n",
    "  - Ejemplo en Python:"
   ]
  },
  {
   "cell_type": "code",
   "execution_count": null,
   "id": "f59ee084",
   "metadata": {},
   "outputs": [],
   "source": [
    "from sympy import symbols, Implies, Equivalent\n",
    "P, Q = symbols('P Q')\n",
    "modus_ponens = Implies(P, Q) & P  # Si P→Q y P, entonces Q\n",
    "modus_ponens.simplify()     # Output: Q\n",
    " "
   ]
  },
  {
   "cell_type": "markdown",
   "id": "c2d732c2",
   "metadata": {},
   "source": [
    "# Ahora presentemos cada regla de inferencia vs su falacia asociada\n",
    "\n",
    "## Empecemos con Modus Ponens  \n",
    "\n"
   ]
  },
  {
   "cell_type": "markdown",
   "id": "2cd3455d",
   "metadata": {},
   "source": [
    " \n",
    "- **Circuitos Lógicos (Crocodile Clips):**  \n",
    "  - Simulación de compuertas AND/OR/NOT.  \n",
    "\n",
    "---\n",
    "\n",
    "## **5. Canción/Poema para Fijar Conceptos**  \n",
    "**\"El Vals de los Operadores\"** (Adaptación de *\"El Vals del Obelisco\"*):  \n",
    "```\n",
    "Si P implica Q, y P es verdad,  \n",
    "¡Q no falla, es la realidad! (Modus Ponens).  \n",
    "Pero si Q es falso, ¡oh dolor!,  \n",
    "entonces P se va con el señor (Modus Tollens).  \n",
    "```  \n"
   ]
  },
  {
   "cell_type": "markdown",
   "id": "aac7ec58",
   "metadata": {},
   "source": [
    "\n",
    "---\n",
    "\n",
    "## **6. Historia y Epistemología (Cuento Antioqueño)**  \n",
    "**\"Don Aristóteles y el Muchacho Lógico\"**  \n",
    "*\"Érase una vez, en Medellín, un joven que quería ser matemático...*  \n",
    "*...hasta que un día, leyendo a Boole (imagen), descubrió que la lógica era como el ajedrez: reglas claras y estrategias infinitas.\"*  \n",
    "\n",
    "![George Boole](https://upload.wikimedia.org/wikipedia/commons/5/5c/George_Boole_color.jpg)  \n",
    "\n",
    "---\n"
   ]
  },
  {
   "cell_type": "markdown",
   "id": "0b680f4b",
   "metadata": {},
   "source": [
    "\n",
    "## **7. Actividades de Aprendizaje**  \n",
    "### **Con Casio 991 LA cw:**  \n",
    "- Calcular tablas de verdad para $(P \\lor Q) \\land \\neg R$.  \n",
    "- Verificar tautologías usando `MODE → TABLE`.  \n",
    "\n",
    "### **Con Crocodile Clips:**  \n",
    "- Diseñar un circuito que simule $P \\rightarrow (Q \\lor R)$.  \n",
    "\n",
    "### **En Jupyter Notebook:**  \n"
   ]
  },
  {
   "cell_type": "code",
   "execution_count": null,
   "id": "eb539f68",
   "metadata": {},
   "outputs": [],
   "source": [
    "import numpy as np\n",
    "import matplotlib.pyplot as plt\n",
    "from sympy.logic import SOPform\n",
    "from ipywidgets import interact\n",
    "\n",
    "# Widget interactivo para tablas de verdad\n",
    "@interact(P=[True, False], Q=[True, False])\n",
    "def tabla_verdad(P, Q):\n",
    "    print(f\"P ∧ Q = {P and Q}\\nP ∨ Q = {P or Q}\")\n",
    " \n"
   ]
  },
  {
   "cell_type": "markdown",
   "id": "4c4405b7",
   "metadata": {},
   "source": [
    "\n",
    "---\n",
    "\n",
    "## **8. Tareas**  \n",
    "- Implementar en Python un validador de reglas de inferencia.  \n",
    "- Resolver problemas de lógica en contextos deportivos (ej: *\"Si ganas 3 partidos, vas a playoffs. Ganaste 3. ¿Vas a playoffs?\"*).  \n",
    "\n",
    "---\n"
   ]
  },
  {
   "cell_type": "markdown",
   "id": "2549d7d1",
   "metadata": {},
   "source": [
    "\n",
    "## **9. Evaluación**  \n"
   ]
  },
  {
   "cell_type": "markdown",
   "id": "3d90b329",
   "metadata": {},
   "source": [
    "### **Quiz (Ejemplo):**  \n",
    "**Pregunta 1:**  \n",
    "*\"En un partido, si un equipo anota 5 goles (P), gana (Q). Hoy anotó 5. ¿Qué inferencia aplica?\"*  \n",
    "**Respuesta:** Modus Ponens ($P \\rightarrow Q, P \\vdash Q$).  \n",
    "\n",
    "### **Parcial (Proyecto):**  \n",
    "- Modelar un sistema de préstamos bancarios usando lógica proposicional.  \n",
    "\n",
    "---\n",
    "\n",
    "## **10. Retroalimentación**  \n",
    "- **Rúbrica de Autoevaluación** (Google Forms).  \n",
    "- **Discusión en Equipo:** *\"¿Cómo usaron la lógica en su proyecto?\"*  \n",
    "\n",
    "---\n",
    "\n",
    "## **11. Vocabulario en Inglés**  \n",
    "- **Premise:** Premisa  \n",
    "- **Truth Table:** Tabla de Verdad  \n",
    "- **Logical Equivalence:** Equivalencia Lógica  \n",
    "\n",
    "---\n",
    "\n",
    "## **12. Apéndice: Habilidades Blandas**  \n",
    "- **Técnica del Semáforo** para manejo del estrés en evaluaciones.  \n",
    "- **Role-Playing** para practicar asertividad en debates lógicos.  \n",
    "\n",
    "---\n",
    "\n",
    "## **13. Referentes APA**  \n",
    "1. Duval, R. (2006). *Un tema crucial en la educación matemática: La habilidad de cambiar representaciones.*  \n",
    "2. Wing, J. (2006). *Computational Thinking.* Communications of the ACM.  \n",
    "3. Polya, G. (1945). *How to Solve It.* Princeton University Press.  \n",
    "\n",
    "--- \n",
    "\n",
    "**Nota:** Todos los códigos Python están diseñados para ejecutarse en Jupyter Notebook con salidas interactivas. ¡Experimenta y modifica! 🚀"
   ]
  },
  {
   "cell_type": "markdown",
   "id": "10e55ccf",
   "metadata": {},
   "source": [
    "# Reglas de Inferencia  "
   ]
  },
  {
   "cell_type": "markdown",
   "id": "239427f7",
   "metadata": {},
   "source": [
    "Este es un diseño de clase para enseñar las reglas de inferencia en fundamentos de la lógica matemática. "
   ]
  },
  {
   "cell_type": "markdown",
   "id": "ca990e9c",
   "metadata": {},
   "source": [
    "Este diseño utiliza cuadernos Jupyter y Python, y vincula las reglas de inferencia con demostraciones en geometría euclidiana y argumentos de optimización en cálculo diferencial.\n",
    "\n",
    "---\n"
   ]
  },
  {
   "cell_type": "markdown",
   "id": "b96a3778",
   "metadata": {},
   "source": [
    "\n",
    "### **Título de la Clase:** Reglas de Inferencia y Construcción de Argumentos Válidos\n"
   ]
  },
  {
   "cell_type": "markdown",
   "id": "c61ac59c",
   "metadata": {},
   "source": [
    "\n",
    "### **Objetivo General:**\n",
    "Comprender y aplicar las reglas de inferencia en la construcción de argumentos válidos, desarrollando habilidades para demostrar teoremas en geometría euclidiana y resolver problemas de optimización en cálculo diferencial.\n"
   ]
  },
  {
   "cell_type": "markdown",
   "id": "8c69cea6",
   "metadata": {},
   "source": [
    "\n",
    "### **Objetivos Específicos:**\n",
    "1. Identificar y utilizar las reglas de inferencia (modus ponendo ponens, modus tolendo tollens, silogismo hipotético, simplificación y adición) en la construcción de argumentos válidos.\n",
    "2. Implementar en Python las reglas de inferencia y verificar la validez de argumentos en cuadernos Jupyter.\n",
    "3. Aplicar las reglas de inferencia en demostraciones en geometría y en problemas de optimización.\n"
   ]
  },
  {
   "cell_type": "markdown",
   "id": "811f117a",
   "metadata": {},
   "source": [
    "\n",
    "### **Estructura de la Clase:**\n"
   ]
  },
  {
   "cell_type": "markdown",
   "id": "2d65d74e",
   "metadata": {},
   "source": [
    "\n",
    "1. **Introducción a las Reglas de Inferencia** (15 minutos)\n",
    "   - Definición de argumento válido.\n",
    "   - Importancia de las reglas de inferencia en la lógica y su uso en la construcción de argumentos matemáticos.\n",
    "   - Breve explicación de cada regla:\n",
    "     - **Modus Ponendo Ponens (MPP)**: Si $ p \\to q $ y $ p $, entonces $q$.\n",
    "     - **Modus Tolendo Tollens (MTT)**: Si $p \\to q$ y $\\neg q$, entonces $\\neg p$.\n",
    "     - **Silogismo Hipotético (SH)**: Si $p \\to q$ y $q \\to r$, entonces $p \\to r$.\n",
    "     - **Simplificación (Simp)**: Si \\( p \\land q \\), entonces \\( p \\) (o \\( q \\)).\n",
    "     - **Adición (Add)**: Si \\( p \\), entonces \\( p \\lor q \\).\n"
   ]
  },
  {
   "cell_type": "markdown",
   "id": "cd6c5dfd",
   "metadata": {},
   "source": [
    "Este es el contenido para la introducción a las reglas de inferencia con el uso de expresiones matemáticas delimitadas por el símbolo de dólar, además de una breve explicación de cómo estas reglas pueden aplicarse en la construcción de algoritmos en Python:\n",
    "\n",
    "---\n"
   ]
  },
  {
   "cell_type": "markdown",
   "id": "526ec5c0",
   "metadata": {},
   "source": [
    "\n",
    "### **Introducción a las Reglas de Inferencia**\n",
    "\n",
    "En lógica matemática, un **argumento válido** es una secuencia de proposiciones en la cual una proposición, llamada **conclusión**, se deduce necesariamente de las otras proposiciones, llamadas **premisas**. Para construir argumentos válidos, empleamos **reglas de inferencia**, que nos permiten deducir conclusiones correctas a partir de las premisas dadas. Estas reglas son fundamentales en la demostración matemática y también se aplican en la construcción de algoritmos lógicos en programación.\n"
   ]
  },
  {
   "cell_type": "markdown",
   "id": "bb685c97",
   "metadata": {},
   "source": [
    "\n",
    "Las principales reglas de inferencia que veremos son:\n",
    "\n",
    "1. **Modus Ponendo Ponens (MPP)**  \n",
    "   También llamado **Modus Ponens**, esta regla establece que si tenemos una implicación $p \\to q$ y sabemos que $p$ es verdadera, entonces \\( q \\) también debe ser verdadera.  \n",
    "   - Expresión formal:  \n",
    "     $$\n",
    "     \\text{Si } p \\to q \\text{ y } p, \\text{ entonces } q.\n",
    "     $$\n",
    "   - **Ejemplo en Python**: Podemos crear un algoritmo que determine un valor booleano \\( q \\) si \\( p \\to q \\) y \\( p \\) son verdaderos.\n"
   ]
  },
  {
   "cell_type": "markdown",
   "id": "4dbcf8b6",
   "metadata": {},
   "source": [
    "El *Modus Ponendo Ponens*, también conocido simplemente como *Modus Ponens*, es una forma de razonamiento lógico en la lógica proposicional y es una de las reglas de inferencia más fundamentales. Su nombre proviene del latín y significa \"el modo que afirma afirmando.\"\n",
    "\n",
    "### Estructura del Modus Ponens\n",
    "La estructura del Modus Ponens es la siguiente:\n",
    "\n",
    "1. Si \\( P \\) implica \\( Q \\) (es decir, \\( P \\rightarrow Q \\)),\n",
    "2. Y \\( P \\) es verdadero,\n",
    "3. Entonces, \\( Q \\) debe ser verdadero.\n",
    "\n",
    "En símbolos:\n",
    "- Premisa 1: \\( P \\rightarrow Q \\)\n",
    "- Premisa 2: \\( P \\)\n",
    "- Conclusión: \\( Q \\)\n",
    "\n",
    "### Ejemplo del Modus Ponens\n",
    "Consideremos un ejemplo para entender cómo se aplica en la práctica:\n",
    "\n",
    "- Premisa 1: \"Si está lloviendo, entonces la calle estará mojada.\"\n",
    "- Premisa 2: \"Está lloviendo.\"\n",
    "- Conclusión: \"La calle estará mojada.\"\n",
    "\n",
    "Aquí, si ambas premisas son verdaderas, la conclusión debe ser verdadera. El Modus Ponens, entonces, nos permite hacer inferencias válidas a partir de una implicación y su antecedente.\n",
    "\n",
    "### Importancia en la Lógica y las Matemáticas\n",
    "El Modus Ponens es esencial en razonamientos lógicos y matemáticos, ya que permite derivar conclusiones de enunciados condicionales. Es especialmente útil en pruebas matemáticas y en la programación, donde se establecen implicaciones y, basándonos en el cumplimiento de condiciones específicas, se infieren resultados."
   ]
  },
  {
   "cell_type": "markdown",
   "id": "93ee3650",
   "metadata": {},
   "source": [
    "Aquí tienes algunas aplicaciones del *Modus Ponens* en pruebas matemáticas y en programación usando Python.\n",
    "\n",
    "### 1. Aplicación en Pruebas Matemáticas\n",
    "\n",
    "En una prueba matemática, el Modus Ponens permite hacer inferencias lógicas. Supongamos que queremos probar que un número entero es par si el cuadrado del número es par.\n",
    "\n",
    "#### Teorema:\n",
    "Si $n^2$ es par, entonces $n$ es par.\n",
    "\n",
    "#### Prueba utilizando Modus Ponens:\n",
    "1. **Premisa**: \\( n^2 \\) es par (es decir, \\( P(n) = \\) \"El cuadrado de \\( n \\) es par\").\n",
    "2. **Implicación**: Si \\( P(n) \\), entonces \\( n \\) es par.\n",
    "3. **Conclusión**: Por Modus Ponens, si \\( n^2 \\) es par, entonces \\( n \\) también debe ser par.\n",
    "\n",
    "**Implementación en Python** para verificar si el cuadrado de un número es par y deducir que el número también debe ser par:\n"
   ]
  },
  {
   "cell_type": "code",
   "execution_count": null,
   "id": "b6ad7fc1",
   "metadata": {},
   "outputs": [],
   "source": [
    "\n",
    "def es_par(n):\n",
    "    return n % 2 == 0\n",
    "\n",
    "def verificar_paridad_con_modus_ponens(n):\n",
    "    if es_par(n**2):\n",
    "        print(f\"Dado que {n**2} es par, podemos concluir que {n} también es par.\")\n",
    "    else:\n",
    "        print(f\"No se puede concluir que {n} es par.\")\n",
    "\n",
    "# Ejemplo de uso\n",
    "numero = 4\n",
    "verificar_paridad_con_modus_ponens(numero)\n",
    "\n"
   ]
  },
  {
   "cell_type": "markdown",
   "id": "bbeba9a8",
   "metadata": {},
   "source": [
    "\n",
    "Aquí, estamos aplicando la inferencia basada en el teorema: si el cuadrado de \\( n \\) es par, entonces \\( n \\) es par. Probamos esto en el programa verificando si \\( n^2 \\) es par y, si es cierto, deducimos que \\( n \\) también es par.\n",
    "\n",
    "### 2. Aplicación en Programación con Python (Control de Flujo con *Modus Ponens*)\n",
    "\n",
    "El Modus Ponens se usa comúnmente en programación a través de estructuras condicionales (como `if` statements), donde una condición desencadena un resultado basado en una implicación.\n",
    "\n",
    "#### Ejemplo: Verificación de Acceso según Nivel de Permisos\n",
    "\n",
    "Supongamos que en un sistema, solo se permite el acceso a un recurso si el usuario tiene el rol de \"admin\".\n",
    "\n",
    "1. **Premisa**: Si el rol del usuario es \"admin\", entonces tiene acceso.\n",
    "2. **Condición**: El rol del usuario es \"admin\".\n",
    "3. **Conclusión**: Por Modus Ponens, el usuario tiene acceso.\n",
    "\n",
    "**Implementación en Python**:\n",
    "\n",
    "```python\n",
    "def verificar_acceso(rol):\n",
    "    if rol == \"admin\":\n",
    "        print(\"Acceso concedido.\")\n",
    "    else:\n",
    "        print(\"Acceso denegado.\")\n",
    "\n",
    "# Ejemplo de uso\n",
    "rol_usuario = \"admin\"\n",
    "verificar_acceso(rol_usuario)\n",
    "```\n",
    "\n",
    "En este código:\n",
    "- La condición `if rol == \"admin\"` representa el antecedente.\n",
    "- Si el rol es \"admin\", la consecuencia se activa (`print(\"Acceso concedido.\")`), aplicando la lógica del Modus Ponens.\n"
   ]
  },
  {
   "cell_type": "markdown",
   "id": "720f28ec",
   "metadata": {},
   "source": [
    "\n",
    "### 3. Aplicación en Algoritmos Matemáticos: Criba de Eratóstenes\n",
    "\n",
    "En la Criba de Eratóstenes, usamos el Modus Ponens indirectamente para decidir si un número es primo o no: si un número $n$ es múltiplo de un número primo menor, entonces $n$ no es primo.\n"
   ]
  },
  {
   "cell_type": "code",
   "execution_count": null,
   "id": "e8ce9d5b",
   "metadata": {},
   "outputs": [],
   "source": [
    "\n",
    "\n",
    "def criba_eratostenes(limite):\n",
    "    # Inicializar una lista de booleanos que representará si un número es primo\n",
    "    es_primo = [True] * (limite + 1)\n",
    "    p = 2\n",
    "    while p**2 <= limite:\n",
    "        # Si es primo, marquemos sus múltiplos como no primos\n",
    "        if es_primo[p]:\n",
    "            for i in range(p * p, limite + 1, p):\n",
    "                es_primo[i] = False\n",
    "        p += 1\n",
    "    # Los números que siguen marcados como primos son aquellos que no tienen divisores menores\n",
    "    return [p for p in range(2, limite + 1) if es_primo[p]]\n",
    "\n",
    "# Ejemplo de uso\n",
    "limite = 30\n",
    "print(f\"Números primos hasta {limite}: {criba_eratostenes(limite)}\")\n",
    "\n"
   ]
  },
  {
   "cell_type": "markdown",
   "id": "58b5c36c",
   "metadata": {},
   "source": [
    "\n",
    "### Explicación:\n",
    "- La implicación aquí es: \"Si \\( n \\) es múltiplo de un número primo menor, entonces \\( n \\) no es primo.\"\n",
    "- Usando el Modus Ponens, marcamos como no primos aquellos números que cumplen esta condición.\n",
    "- Finalmente, los números que permanecen verdaderos en la lista `es_primo` son los números primos hasta el límite especificado.\n",
    "\n",
    "El Modus Ponens es esencial para definir y aplicar condiciones, probar teoremas, y construir algoritmos efectivos en Python y en lógica matemática."
   ]
  },
  {
   "cell_type": "markdown",
   "id": "3cd23e34",
   "metadata": {},
   "source": [
    "\n",
    "2. **Modus Tolendo Tollens (MTT)**  \n",
    "   Esta regla, también llamada **Modus Tollens**, establece que si $p \\to q$ y $q$ es falso ($\\neg q$), entonces $p$ también debe ser falso.  \n",
    "   - Expresión formal:  \n",
    "     $$\n",
    "     \\text{Si } p \\to q \\text{ y } \\neg q, \\text{ entonces } \\neg p.\n",
    "     $$\n",
    "   - **Ejemplo en Python**: Podemos escribir un bloque de código condicional para inferir la falsedad de $p$ si $q$ es falso, dado $p \\to q$.\n"
   ]
  },
  {
   "cell_type": "markdown",
   "id": "2843db52",
   "metadata": {},
   "source": [
    "\n",
    "3. **Silogismo Hipotético (SH)**  \n",
    "   En esta regla, si tenemos dos implicaciones \\( p \\to q \\) y \\( q \\to r \\), podemos concluir que \\( p \\to r \\).  \n",
    "   - Expresión formal:  \n",
    "     $$\n",
    "     \\text{Si } p \\to q \\text{ y } q \\to r, \\text{ entonces } p \\to r.\n",
    "     $$\n",
    "   - **Ejemplo en Python**: Esta regla es útil para encadenar condiciones en un algoritmo; si una condición implica otra, podemos simplificar el flujo lógico del programa.\n"
   ]
  },
  {
   "cell_type": "markdown",
   "id": "c8c4c69d",
   "metadata": {},
   "source": [
    "\n",
    "4. **Simplificación (Simp)**  \n",
    "   Si tenemos una conjunción \\( p \\land q \\), podemos deducir que \\( p \\) es verdadera (y lo mismo para \\( q \\)).  \n",
    "   - Expresión formal:  \n",
    "     \\[\n",
    "     \\text{Si } p \\land q, \\text{ entonces } p \\text{ (o } q\\text{)}.\n",
    "     \\]\n",
    "   - **Ejemplo en Python**: En programación, esta regla permite reducir y simplificar condiciones lógicas, evaluando solo una parte de una condición compleja.\n",
    "\n",
    "5. **Adición (Add)**  \n",
    "   Esta regla establece que si \\( p \\) es verdadero, entonces la disyunción \\( p \\lor q \\) también lo es, sin importar el valor de \\( q \\).  \n",
    "   - Expresión formal:  \n",
    "     \\[\n",
    "     \\text{Si } p, \\text{ entonces } p \\lor q.\n",
    "     \\]\n",
    "   - **Ejemplo en Python**: Podemos usar esta regla para optimizar condicionales, evaluando una disyunción si sabemos que una de las condiciones es verdadera.\n",
    "\n",
    "### **Aplicación de las Reglas de Inferencia en la Construcción de Algoritmos**\n",
    "\n",
    "Las reglas de inferencia no solo son herramientas para la demostración lógica, sino que también son aplicables en la lógica computacional. Al diseñar un algoritmo en Python, por ejemplo, podemos emplear estas reglas para definir condiciones de manera precisa y asegurar que nuestro código siga un flujo lógico válido. A continuación, mostramos ejemplos prácticos de cómo estas reglas pueden ser implementadas:\n"
   ]
  },
  {
   "cell_type": "markdown",
   "id": "d7ef6cf7",
   "metadata": {},
   "source": [
    "\n",
    "2. **Implementación en Python** (30 minutos)\n",
    "   - Mostrar cómo usar Python y SymPy para crear una función que verifique la validez de argumentos aplicando estas reglas de inferencia.\n",
    "   - Ejemplos guiados en cuadernos Jupyter:\n",
    "     - Implementar cada regla de inferencia y hacer verificaciones sencillas.\n",
    "     - Ejercicio práctico: Crear un argumento compuesto y verificar su validez aplicando secuencialmente varias reglas de inferencia.\n"
   ]
  },
  {
   "cell_type": "markdown",
   "id": "951ebc85",
   "metadata": {},
   "source": [
    "\n",
    "3. **Aplicación en Geometría Euclidiana** (20 minutos)\n",
    "   - **Demostración de Ejemplo**: Usar las reglas de inferencia en la demostración de un teorema de geometría euclidiana (por ejemplo, demostrar que si dos ángulos de un triángulo son iguales, entonces los lados opuestos a estos ángulos también son iguales).\n",
    "   - Guía paso a paso para que los estudiantes construyan el argumento usando las reglas de inferencia y luego verifiquen cada paso en Python.\n"
   ]
  },
  {
   "cell_type": "markdown",
   "id": "fba01db3",
   "metadata": {},
   "source": [
    "\n",
    "4. **Aplicación en Optimización en Cálculo Diferencial** (20 minutos)\n",
    "   - **Ejercicio de Optimización**: Resolver un problema de optimización utilizando derivadas y reglas de inferencia, como deducir que una función tiene un máximo o mínimo local.\n",
    "   - Aplicar las reglas de inferencia para construir un argumento que demuestre la conclusión del problema (por ejemplo, que un punto crítico es un máximo local si la derivada segunda es negativa).\n",
    "   - Ejercicio guiado en Python para evaluar el argumento completo.\n"
   ]
  },
  {
   "cell_type": "markdown",
   "id": "414d2bde",
   "metadata": {},
   "source": [
    "\n",
    "5. **Actividad en Parejas: Construcción y Validación de Argumentos** (15 minutos)\n",
    "   - Los estudiantes crean sus propios argumentos válidos usando las reglas de inferencia en problemas de geometría y cálculo.\n",
    "   - Verifican los argumentos en Python y comparten sus resultados con otro grupo para revisión y discusión.\n"
   ]
  },
  {
   "cell_type": "markdown",
   "id": "4d0b15c3",
   "metadata": {},
   "source": [
    "\n",
    "6. **Cierre y Reflexión** (10 minutos)\n",
    "   - Discusión en grupo sobre la importancia de construir argumentos válidos en matemáticas y ciencia.\n",
    "   - Reflexión sobre cómo la implementación en Python facilita el aprendizaje y la validación de argumentos.\n",
    "\n",
    "---\n"
   ]
  },
  {
   "cell_type": "markdown",
   "id": "768b7b4b",
   "metadata": {},
   "source": [
    "\n",
    "### **Materiales y Recursos:**\n",
    "- **Cuadernos Jupyter**: Para implementar y verificar argumentos utilizando Python.\n",
    "- **Biblioteca SymPy**: Para manipular proposiciones lógicas y verificar su validez.\n",
    "- **Ejemplos Prácticos en Geometría y Cálculo**: Enunciados de teoremas y problemas de optimización.\n",
    "\n",
    "### **Evaluación:**\n",
    "- Verificación de argumentos en cuadernos Jupyter y aplicación correcta de las reglas de inferencia.\n",
    "- Evaluación de la participación en la actividad en parejas y la discusión final.\n"
   ]
  },
  {
   "cell_type": "markdown",
   "id": "12684937",
   "metadata": {},
   "source": [
    "\n",
    "Este diseño proporciona una estructura sólida para ayudar a los estudiantes a comprender y aplicar las reglas de inferencia de forma práctica y orientada a problemas, aprovechando la tecnología para validar su razonamiento."
   ]
  },
  {
   "cell_type": "code",
   "execution_count": null,
   "id": "ec048afb",
   "metadata": {},
   "outputs": [],
   "source": []
  },
  {
   "cell_type": "markdown",
   "id": "a3e5e6ab",
   "metadata": {},
   "source": [
    "# 10 ejercicios de entrenamiento o adquisición de habilidades obtenido a través de ChatGPT para una formación personalizada y centrada en la habilidad que se quiere lograr con la enseñanza del ejemplo anterior"
   ]
  },
  {
   "cell_type": "markdown",
   "id": "cc539357",
   "metadata": {},
   "source": [
    "---\n",
    "\n",
    "**Reglas de Inferencia:**\n",
    "\n",
    "1. **Modus Ponens**: Si $p \\to q$ y $p$, entonces $q$.\n",
    "2. **Modus Tollens**: Si $p \\to q$ y $\\neg q$, entonces $\\neg p$.\n",
    "3. **Silogismo Disyuntivo**: Si $p \\lor q$ y $\\neg p$, entonces $q$.\n",
    "4. **Silogismo Hipotético**: Si $p \\to q$ y $q \\to r$, entonces $p \\to r$.\n",
    "5. **Introducción de Conjunción**: Si $p$ y $q$, entonces $p \\land q$.\n",
    "6. **Eliminación de Doble Negación**: Si $\\neg(\\neg p)$, entonces $p$.\n",
    "\n",
    "---"
   ]
  },
  {
   "cell_type": "markdown",
   "id": "3963ea18",
   "metadata": {},
   "source": [
    "\n",
    "**Ejercicio 1**  \n",
    "Dadas las siguientes premisas, deduzca de ellas a $t$.  \n",
    "1. $p \\to q$  \n",
    "2. $q \\to r$  \n",
    "3. $r \\to s$  \n",
    "4. $s \\to t$  \n",
    "5. $p$  \n",
    "\n",
    "---\n"
   ]
  },
  {
   "cell_type": "markdown",
   "id": "19159ab3",
   "metadata": {},
   "source": [
    "\n",
    "**Ejercicio 2**  \n",
    "Dadas las siguientes premisas, deduzca de ellas a $q$.  \n",
    "1. $p \\lor r$  \n",
    "2. $p \\to q$  \n",
    "3. $\\neg r$  \n",
    "\n",
    "---\n"
   ]
  },
  {
   "cell_type": "markdown",
   "id": "f29a2c3a",
   "metadata": {},
   "source": [
    "\n",
    "**Ejercicio 3**  \n",
    "Dadas las siguientes premisas, deduzca de ellas a $s$.  \n",
    "1. $p \\to (q \\land r)$  \n",
    "2. $r \\to s$  \n",
    "3. $p$  \n",
    "\n",
    "---\n"
   ]
  },
  {
   "cell_type": "markdown",
   "id": "41a0d64b",
   "metadata": {},
   "source": [
    "\n",
    "**Ejercicio 4**  \n",
    "Dadas las siguientes premisas, deduzca de ellas a $u$.  \n",
    "1. $p \\to q$  \n",
    "2. $q \\to r$  \n",
    "3. $\\neg r \\lor s$  \n",
    "4. $s \\to t$  \n",
    "5. $t \\to u$  \n",
    "6. $p$  \n",
    "\n",
    "---\n"
   ]
  },
  {
   "cell_type": "markdown",
   "id": "ec29a988",
   "metadata": {},
   "source": [
    "\n",
    "**Ejercicio 5**  \n",
    "Dadas las siguientes premisas, deduzca de ellas a $\\neg r$.  \n",
    "1. $p \\lor q$  \n",
    "2. $\\neg q$  \n",
    "3. $\\neg (p \\land r)$  \n",
    "\n",
    "---\n"
   ]
  },
  {
   "cell_type": "markdown",
   "id": "29972e34",
   "metadata": {},
   "source": [
    "\n",
    "**Ejercicio 6**  \n",
    "Dadas las siguientes premisas, deduzca de ellas a $p$.  \n",
    "1. $p \\lor q$  \n",
    "2. $\\neg q$  \n",
    "\n",
    "---\n"
   ]
  },
  {
   "cell_type": "markdown",
   "id": "b924dac8",
   "metadata": {},
   "source": [
    "\n",
    "**Ejercicio 7**  \n",
    "Dadas las siguientes premisas, deduzca de ellas a $t$.  \n",
    "1. $p \\to q$  \n",
    "2. $q \\to (r \\lor s)$  \n",
    "3. $s \\to t$  \n",
    "4. $p$  \n",
    "\n",
    "---\n"
   ]
  },
  {
   "cell_type": "markdown",
   "id": "ac824cf6",
   "metadata": {},
   "source": [
    "\n",
    "**Ejercicio 8**  \n",
    "Dadas las siguientes premisas, deduzca de ellas a $t$.  \n",
    "1. $p \\to q$  \n",
    "2. $q \\to r$  \n",
    "3. $\\neg r \\to s$  \n",
    "4. $s \\to t$  \n",
    "5. $\\neg p$  \n",
    "\n",
    "---\n"
   ]
  },
  {
   "cell_type": "markdown",
   "id": "89527772",
   "metadata": {},
   "source": [
    "\n",
    "**Ejercicio 9**  \n",
    "Dadas las siguientes premisas, deduzca de ellas a $\\neg s$.  \n",
    "1. $p \\to (q \\lor r)$  \n",
    "2. $r \\to s$  \n",
    "3. $p$  \n",
    "4. $\\neg q$  \n",
    "\n",
    "---\n"
   ]
  },
  {
   "cell_type": "markdown",
   "id": "ff60da9c",
   "metadata": {},
   "source": [
    "\n",
    "**Ejercicio 10**  \n",
    "Dadas las siguientes premisas, deduzca de ellas a $r$.  \n",
    "1. $p \\to q$  \n",
    "2. $q \\to r$  \n",
    "3. $p$  \n",
    "\n",
    "---\n",
    "\n",
    "Estos ejercicios ayudan a los estudiantes a desarrollar habilidades en la aplicación de reglas de inferencia y la construcción de argumentos válidos paso a paso."
   ]
  },
  {
   "cell_type": "markdown",
   "id": "4346ea88",
   "metadata": {},
   "source": [
    "# Adicionaré ejercicios sobre muestre que las premisas llevan a una contradicción. "
   ]
  },
  {
   "cell_type": "markdown",
   "id": "13e5fce6",
   "metadata": {},
   "source": [
    "Estos son 10 ejercicios con premisas que llevan a contradicción al aplicar las reglas de inferencia vistas en tu curso de Fundamentos de Lógica. También incluyo la lista de las seis reglas de inferencia para que los estudiantes las tengan como referencia.\n"
   ]
  },
  {
   "cell_type": "markdown",
   "id": "bcbc0484",
   "metadata": {},
   "source": [
    "\n",
    "---\n",
    "\n",
    "**Reglas de Inferencia:**\n",
    "\n",
    "1. **Modus Ponens**: Si $p \\to q$ y $p$, entonces $q$.\n",
    "2. **Modus Tollens**: Si $p \\to q$ y $\\neg q$, entonces $\\neg p$.\n",
    "3. **Silogismo Disyuntivo**: Si $p \\lor q$ y $\\neg p$, entonces $q$.\n",
    "4. **Silogismo Hipotético**: Si $p \\to q$ y $q \\to r$, entonces $p \\to r$.\n",
    "5. **Introducción de Conjunción**: Si $p$ y $q$, entonces $p \\land q$.\n",
    "6. **Eliminación de Doble Negación**: Si $\\neg(\\neg p)$, entonces $p$.\n",
    "\n",
    "---\n",
    "\n",
    "**Ejercicios de Deducción:**\n",
    "\n",
    "---\n",
    "\n",
    "**Ejercicio 1**  \n",
    "Dadas las siguientes premisas, muestre que ellas llevan a una contradicción.\n",
    "\n",
    "1. $a \\to b$\n",
    "2. $b \\to c$\n",
    "3. $\\neg c \\lor d$\n",
    "4. $d \\to \\neg a$\n",
    "5. $a$\n",
    "\n",
    "---\n",
    "\n",
    "**Ejercicio 2**  \n",
    "Dadas las siguientes premisas, muestre que ellas llevan a una contradicción.\n",
    "\n",
    "1. $p \\lor q$\n",
    "2. $\\neg q \\to r$\n",
    "3. $r \\to s$\n",
    "4. $\\neg s$\n",
    "5. $p$\n",
    "\n",
    "---\n",
    "\n",
    "**Ejercicio 3**  \n",
    "Dadas las siguientes premisas, muestre que ellas llevan a una contradicción.\n",
    "\n",
    "1. $x \\to y$\n",
    "2. $y \\to z$\n",
    "3. $\\neg z \\lor w$\n",
    "4. $w \\to \\neg x$\n",
    "5. $x$\n",
    "\n",
    "---\n",
    "\n",
    "**Ejercicio 4**  \n",
    "Dadas las siguientes premisas, muestre que ellas llevan a una contradicción.\n",
    "\n",
    "1. $m \\to n$\n",
    "2. $n \\to o$\n",
    "3. $\\neg o \\lor p$\n",
    "4. $p \\to \\neg m$\n",
    "5. $m$\n",
    "\n",
    "---\n",
    "\n",
    "**Ejercicio 5**  \n",
    "Dadas las siguientes premisas, muestre que ellas llevan a una contradicción.\n",
    "\n",
    "1. $j \\lor k$\n",
    "2. $\\neg k \\to l$\n",
    "3. $l \\to m$\n",
    "4. $\\neg m$\n",
    "5. $j$\n",
    "\n",
    "---\n",
    "\n",
    "**Ejercicio 6**  \n",
    "Dadas las siguientes premisas, muestre que ellas llevan a una contradicción.\n",
    "\n",
    "1. $s \\to t$\n",
    "2. $t \\to u$\n",
    "3. $\\neg u \\lor v$\n",
    "4. $v \\to \\neg s$\n",
    "5. $s$\n",
    "\n",
    "---\n",
    "\n",
    "**Ejercicio 7**  \n",
    "Dadas las siguientes premisas, muestre que ellas llevan a una contradicción.\n",
    "\n",
    "1. $p \\lor q$\n",
    "2. $\\neg q \\to r$\n",
    "3. $r \\to \\neg p$\n",
    "4. $p$\n",
    "\n",
    "---\n",
    "\n",
    "**Ejercicio 8**  \n",
    "Dadas las siguientes premisas, muestre que ellas llevan a una contradicción.\n",
    "\n",
    "1. $f \\to g$\n",
    "2. $g \\to h$\n",
    "3. $\\neg h \\lor i$\n",
    "4. $i \\to \\neg f$\n",
    "5. $f$\n",
    "\n",
    "---\n",
    "\n",
    "**Ejercicio 9**  \n",
    "Dadas las siguientes premisas, muestre que ellas llevan a una contradicción.\n",
    "\n",
    "1. $a \\to b$\n",
    "2. $b \\to c$\n",
    "3. $c \\to d$\n",
    "4. $\\neg d$\n",
    "5. $a$\n",
    "\n",
    "---\n",
    "\n",
    "**Ejercicio 10**  \n",
    "Dadas las siguientes premisas, muestre que ellas llevan a una contradicción.\n",
    "\n",
    "1. $x \\to y$\n",
    "2. $y \\to z$\n",
    "3. $\\neg z \\lor w$\n",
    "4. $w \\to \\neg x$\n",
    "5. $x$\n",
    "\n",
    "---\n",
    "\n",
    "En cada ejercicio, los estudiantes deben aplicar las seis reglas de inferencia mencionadas para mostrar que las premisas llevan a una contradicción lógica."
   ]
  },
  {
   "cell_type": "markdown",
   "id": "740f3401",
   "metadata": {
    "slideshow": {
     "slide_type": "slide"
    }
   },
   "source": [
    "# Componente de manejo de calculadora Casio asociado al objetivo de aprendizaje de esta clase  \n",
    "\n",
    "## Pasos para lograr el objetivo de aprendizaje con la experimentación en la calculadora casio 991LA cw  "
   ]
  },
  {
   "cell_type": "markdown",
   "id": "8d41fe58",
   "metadata": {
    "slideshow": {
     "slide_type": "slide"
    }
   },
   "source": [
    "# Horario de clases del profesor Marco\n",
    "\n",
    "* Lunes 8-12: Cálculo Vectorial\n",
    "* Martes 8-12 M: Fundamentos de Aritmética. \n",
    "* Miércoles 8 a 12 M: Fundamentos de la Lógica\n",
    "\n",
    "* Sábados 8-12 Asesorías "
   ]
  },
  {
   "cell_type": "markdown",
   "id": "ae114e14",
   "metadata": {
    "slideshow": {
     "slide_type": "slide"
    }
   },
   "source": [
    "# Horarios de monitoría y asesoría  \n",
    "\n",
    "Coordinador de los cursos de la Facultad de Educación para regiones:    \n",
    "\n",
    "Andrés Vélez: regioneducacion.fedu@udea.edu.co  \n",
    "Coordinador Regiones  \n",
    "Facultad de Educación  \n",
    "Universidad de Antioquia  "
   ]
  },
  {
   "cell_type": "markdown",
   "id": "b1db4b6c",
   "metadata": {
    "slideshow": {
     "slide_type": "slide"
    }
   },
   "source": [
    "## Monitor Manuel San Juan Serrano y Yeifry Uribe  \n",
    "\n",
    "Contactar escribiendo a cualquiera de los correos:   \n",
    "manuel.serrano1@udea.edu.co  \n",
    "yeifry.uribe@udea.edu.co"
   ]
  },
  {
   "cell_type": "markdown",
   "id": "39559692",
   "metadata": {
    "slideshow": {
     "slide_type": "slide"
    }
   },
   "source": [
    "Martes y jueves de 8 - 12  \n",
    "Miércoles 10 - 12 y de 2 a 4 PM  \n",
    "Sábado: 8 - 12"
   ]
  },
  {
   "cell_type": "markdown",
   "id": "5a190057",
   "metadata": {},
   "source": [
    "## Monitoría virtual   \n",
    "\n",
    "Telefono del monitos en whatsApp: 3043936088  \n",
    "\n",
    "Juan David Cano Castrillón  \n",
    "Estudiante de Pregrado.  \n",
    "juan.canoc1@udea.edu.co  \n",
    "3043936088  \n"
   ]
  },
  {
   "cell_type": "markdown",
   "id": "10bce0d0",
   "metadata": {
    "slideshow": {
     "slide_type": "slide"
    }
   },
   "source": [
    "## Referentes "
   ]
  },
  {
   "cell_type": "markdown",
   "id": "1db3c468",
   "metadata": {
    "slideshow": {
     "slide_type": "slide"
    }
   },
   "source": [
    "* [Grajales Vanegas, L. M., Restrepo Estrada, C. E., Restrepo Ochoa, S. I., & Ruíz De Villalba, F. (2015). Matemáticas I para las ciencias económicas.](https://github.com/marco-canas/fundamentos_de_la_aritmetica/blob/main/referentes/2_grajales_logica/grajales_lina_matemticas.pdf)\n",
    "  \n",
    "* Duval, R. (2004). Semiosis y pensamiento humano: registros semióticos y aprendizajes intelectuales. Universidad del Valle.\n",
    "\n",
    "* [Aylwin, C. U. (2011). Lógica, conjuntos y números. Universidad de los Andes, Consejo de Publicaciones, Colección: Ciencias Básicas, Serie: Matemáticas.](https://github.com/marco-canas/fundamentos_logica/blob/main/referentes/2_uzcategui/uscategui.pdf)\n",
    "  \n",
    "* [Chollet, F. (2021). Deep learning with Python. Simon and Schuster.](https://github.com/marco-canas/didactica_ciencia_datos/blob/main/2_referentes/chollet/Fran%C3%A7ois%20Chollet%20-%20Deep%20Learning%20with%20Python-Manning%20(2018).pdf)  \n",
    "  \n",
    "* [Watson, S., Stewart, J., & Redlin, L. (2009). Precálculo. Matemáticas para el cálculo.](https://github.com/marco-canas/calculo/blob/main/referents/1_precalculo_stewart/stewart_precalculo.pdf)  \n",
    "\n",
    "* [Purcell, E. J., Varberg, D., & Rigdon, S. E. (2007). Cálculo diferencial e integral. Pearson Educación.](https://github.com/marco-canas/calculo/blob/main/referents/purcell/purcell_calculo.pdf)\n",
    "\n",
    "  \n",
    "\n",
    "* [stewart cálculo](https://udeaeduco-my.sharepoint.com/:b:/g/personal/marco_canas_udea_edu_co/EZgXZjAp8QxPqOAim2hs6LcBNPLGjSHf-xwYnUVYkwa04w?e=RZdTCy)  \n",
    "\n",
    "* [larson](https://udeaeduco-my.sharepoint.com/:b:/g/personal/marco_canas_udea_edu_co/ES71ChFeO9ZDhW3TwC5Ijk8BjxUK3Pdqz_fjHxTTFAfIAg?e=VDEjfu)\n",
    "\n",
    "\n",
    "\n",
    "* [Recomendación de la UNESCO sobre ciencia abierta](https://unesdoc.unesco.org/ark:/48223/pf0000379949_spa)\n",
    "\n",
    "* [chatGPT](https://openai.com/blog/chatgpt)  \n",
    "\n",
    "* [Géron, A. (2017). Hands-on machine learning with scikit-learn and tensorflow: Concepts. Tools, and Techniques to build intelligent systems.](https://github.com/marco-canas/didactica_ciencia_datos/blob/main/2_referentes/geron/Hands-On%20Machine%20Learning-3nd_Edition(2022).pdf)  \n",
    "\n",
    "* [McKinney, W. (2012). Python for data analysis: Data wrangling with Pandas, NumPy, and IPython. \" O'Reilly Media, Inc.\".](https://github.com/marco-canas/didactica_ciencia_datos/blob/main/2_referentes/mckinney/Wes_McKinney.pdf)  "
   ]
  },
  {
   "cell_type": "markdown",
   "id": "8e65d6f9",
   "metadata": {},
   "source": [
    "# Como estudiante, encuentro que...   \n",
    "\n",
    "F: Mis Fortalezas son:     \n",
    "O: Mis Oportunidades son:    \n",
    "D: Mis Debilidades son:    \n",
    "A: Lo que Amenazas mi aprendizaje es:  "
   ]
  },
  {
   "cell_type": "markdown",
   "id": "6b9e56a8",
   "metadata": {
    "slideshow": {
     "slide_type": "slide"
    }
   },
   "source": [
    "### [Evaluamos al profesor Marco Cañas Aquí](https://forms.office.com/Pages/ResponsePage.aspx?id=IefhmYRxjkmK_7KtTlPBwkanXIs1i1FEujpsZgO6dXpUREJPV1kxUk1JV1ozTFJIQVNIQjY5WEY3US4u)"
   ]
  },
  {
   "cell_type": "markdown",
   "id": "050b9508",
   "metadata": {},
   "source": [
    "# Aportes de mis estudiantes a la metodología del curso  \n",
    "1. \n",
    "\n",
    "Sus opiniones y aportes son muy importantes para mi. Pues esta es una investigación educativa y un servicio de enseñanza para ustedes. Ustedes son la razón de ser de mi actividad docente. Dios los bendiga. "
   ]
  },
  {
   "cell_type": "markdown",
   "id": "6c4af91f",
   "metadata": {},
   "source": [
    "# Aportes de mis colegas docentes a la metodología que estoy aplicando en mis cursos. "
   ]
  },
  {
   "cell_type": "markdown",
   "id": "071afa04",
   "metadata": {
    "slideshow": {
     "slide_type": "slide"
    }
   },
   "source": [
    "## [Evaluación luego de alcanzar estos objetivos de aprendizaje]()"
   ]
  },
  {
   "cell_type": "markdown",
   "id": "10f43536",
   "metadata": {
    "slideshow": {
     "slide_type": "slide"
    }
   },
   "source": [
    "### Continue su aprendizaje en la siguiente clase a través del siguiente [vínculo]()"
   ]
  },
  {
   "cell_type": "markdown",
   "id": "ba236f4d",
   "metadata": {},
   "source": [
    "### **Actividad de Clase: Expresar Ideas, Dudas y Emociones de Manera Respetuosa y Asertiva**\n"
   ]
  },
  {
   "cell_type": "markdown",
   "id": "33bcd185",
   "metadata": {},
   "source": [
    "\n",
    "**Objetivo:**  \n",
    "Desarrollar habilidades de comunicación efectiva en los estudiantes para que puedan expresar sus ideas, dudas y emociones de forma respetuosa y asertiva.\n",
    "\n",
    "**Duración:**  \n",
    "15-20 minutos\n",
    "\n",
    "---\n"
   ]
  },
  {
   "cell_type": "markdown",
   "id": "f61da648",
   "metadata": {},
   "source": [
    "\n",
    "### **1. Introducción (5 minutos)**  \n",
    "- **Tema:** Introducir a los estudiantes al concepto de la comunicación asertiva, explicando cómo expresar pensamientos y emociones de manera clara y respetuosa sin agredir o ser pasivo.\n",
    "- **Dinámica:** Mostrar dos ejemplos contrastantes: uno de comunicación pasiva/agresiva y otro de comunicación asertiva. Preguntar a los estudiantes cuál creen que es más efectivo y por qué.\n"
   ]
  },
  {
   "cell_type": "markdown",
   "id": "126505e3",
   "metadata": {},
   "source": [
    "\n",
    "**Materiales:**  \n",
    "- Pizarra o diapositivas con ejemplos de frases pasivas, agresivas y asertivas.\n",
    "  \n",
    "**Ejemplo:**  \n",
    "- **Pasivo:** “Bueno… no sé si es una buena idea, pero… tal vez podrías intentarlo.”\n",
    "- **Agresivo:** “¡Tu idea es terrible, no va a funcionar!”\n",
    "- **Asertivo:** “Creo que podríamos mejorar esa idea si consideramos otro enfoque.”\n",
    "\n",
    "---\n"
   ]
  },
  {
   "cell_type": "markdown",
   "id": "72b793a7",
   "metadata": {},
   "source": [
    "\n",
    "### **2. Ejercicio en Parejas (10 minutos)**  \n",
    "- **Instrucciones:** Dividir a los estudiantes en parejas. Darles diferentes situaciones cotidianas en las que deben comunicarse (pedir ayuda, expresar desacuerdo, compartir una idea, etc.). Cada pareja debe crear una breve conversación donde practiquen la comunicación asertiva.\n",
    "  \n",
    "**Situaciones propuestas:**\n",
    "  - Expresar desacuerdo con un compañero sobre una tarea de grupo.\n",
    "  - Pedirle ayuda al profesor sobre un concepto difícil.\n",
    "  - Expresar frustración por un malentendido en clase.\n",
    "\n",
    "- **Reglas:** Cada estudiante debe asegurarse de usar lenguaje respetuoso y asertivo para expresar su posición y emociones. Al final, cada pareja debe compartir con la clase un ejemplo de lo que discutieron.\n",
    "\n",
    "---\n"
   ]
  },
  {
   "cell_type": "markdown",
   "id": "fee06399",
   "metadata": {},
   "source": [
    "\n",
    "### **3. Retroalimentación y Discusión (5 minutos)**  \n",
    "- **Discusión:** Invitar a algunos estudiantes a compartir sus experiencias de la actividad. \n",
    "- **Preguntas:** ¿Cómo se sintieron al intentar ser asertivos? ¿Les resultó difícil? ¿Cómo fue recibido el mensaje?\n",
    "  \n",
    "**Consejo:** Resaltar la importancia de practicar la asertividad como una herramienta para mejorar la comunicación interpersonal y reducir conflictos.\n",
    "\n",
    "---\n",
    "\n",
    "### **Cierre**  \n",
    "- Resumir las características de la comunicación asertiva: uso de \"yo\" en lugar de \"tú\" para evitar culpabilizar, tono de voz calmado, y respeto hacia el interlocutor.\n",
    "- **Tarea opcional:** Pedirles que practiquen la comunicación asertiva en sus conversaciones durante la semana y escriban una reflexión breve sobre cómo les fue.\n",
    "\n",
    "**Material adicional:**  \n",
    "- Video corto o recurso digital sobre la importancia de la comunicación asertiva."
   ]
  },
  {
   "cell_type": "markdown",
   "id": "53cc9115",
   "metadata": {
    "slideshow": {
     "slide_type": "slide"
    }
   },
   "source": [
    "## Agradecimientos  \n",
    "\n",
    "Doy gracias a Dios por la vida de mi Hijo Joseph Cañas Osorio y la madurez que ha alcanzado.\n",
    "\n",
    "Y a mi esposa Yasmira por su apoyo, orientación y acompañamiento. "
   ]
  }
 ],
 "metadata": {
  "celltoolbar": "Slideshow",
  "kernelspec": {
   "display_name": ".venv",
   "language": "python",
   "name": "python3"
  },
  "language_info": {
   "codemirror_mode": {
    "name": "ipython",
    "version": 3
   },
   "file_extension": ".py",
   "mimetype": "text/x-python",
   "name": "python",
   "nbconvert_exporter": "python",
   "pygments_lexer": "ipython3",
   "version": "3.11.9"
  },
  "rise": {
   "enable_chalkboard": true,
   "theme": "sky",
   "transition": "zoom"
  }
 },
 "nbformat": 4,
 "nbformat_minor": 5
}
