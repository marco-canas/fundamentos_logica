{
 "cells": [
  {
   "cell_type": "markdown",
   "id": "dc06dec7",
   "metadata": {
    "slideshow": {
     "slide_type": "slide"
    }
   },
   "source": [
    "<table align=\"left\">\n",
    "  <td>\n",
    "    <a href=\"https://colab.research.google.com/github/marco-canas/ing_software_joseph/blob/main/1_CienciasBasicas/3_MatematicasDiscretas/1_LogicaProposicionalLogicaPredicados/1_clase.ipynb\" target=\"_parent\"><img src=\"https://colab.research.google.com/assets/colab-badge.svg\" alt=\"Open In Colab\"/></a>\n",
    "  </td>\n",
    "  <td>\n",
    "    <a target=\"_blank\" href=\"https://kaggle.com/kernels/welcome?src=https://github.com/marco-canas/ing_software_joseph/blob/main/1_CienciasBasicas/3_MatematicasDiscretas/1_LogicaProposicionalLogicaPredicados/1_clase.ipynb\"><img src=\"https://kaggle.com/static/images/open-in-kaggle.svg\" /></a>\n",
    "  </td>\n",
    "</table>"
   ]
  },
  {
   "cell_type": "markdown",
   "id": "e0c5b198",
   "metadata": {
    "slideshow": {
     "slide_type": "slide"
    }
   },
   "source": [
    "### [Video de apoyo a la lectura interactiva y experimental de este cuaderno]()"
   ]
  },
  {
   "cell_type": "markdown",
   "id": "41e82203",
   "metadata": {
    "slideshow": {
     "slide_type": "slide"
    }
   },
   "source": [
    "### [Vínculo al programa del curso:  ]()\n",
    "\n"
   ]
  },
  {
   "cell_type": "markdown",
   "id": "8a74a56c-0ce6-4ad6-b985-553fd7fb68bb",
   "metadata": {},
   "source": [
    "# Reconocimiento a las profesoras destacadas en enseñanza de la matemática en Colombia  \n",
    "\n",
    "Esta es una lista de **20 mujeres destacadas** por sus contribuciones a la **enseñanza, investigación y divulgación de la lógica y la teoría de conjuntos**, en contextos tanto matemáticos como filosóficos y computacionales. La lista incluye académicas históricas y contemporáneas, de diferentes partes del mundo.\n",
    "\n",
    "---\n"
   ]
  },
  {
   "cell_type": "markdown",
   "id": "d18b126a",
   "metadata": {},
   "source": [
    "\n",
    "### 📘 **Mujeres destacadas en lógica y teoría de conjuntos**\n",
    "\n",
    "| # | Nombre | País | Aportes principales |\n",
    "|---|--------|------|---------------------|\n",
    "| 1. | **Christine Ladd-Franklin** | EE.UU. | Primera mujer en formular trabajos en lógica simbólica y álgebra booleana. Alumna de Peirce. |\n",
    "| 2. | **Emilie du Châtelet** | Francia | Precursora del pensamiento racional en matemáticas, influenció la lógica natural. |\n",
    "| 3. | **Ruth Barcan Marcus** | EE.UU. | Fundadora de la lógica modal cuantificacional; creadora de las fórmulas de Barcan. |\n",
    "| 4. | **Julia Robinson** | EE.UU. | Trabajó en lógica matemática, teoría de la decisión y problemas de Hilbert. |\n",
    "| 5. | **Anne Troelstra** (en colaboración con L.E.J. Brouwer) | Países Bajos | Contribuyó a la lógica intuicionista y constructiva. |\n",
    "| 6. | **Dorothy Edgington** | Reino Unido | Importante en semántica de condicionales y lógica filosófica. |\n",
    "| 7. | **Valeria de Paiva** | Brasil / Reino Unido | Investigadora en lógica categórica y lógica en ciencias computacionales. |\n",
    "| 8. | **Sara Negri** https://sites.google.com/view/saranegri/home | Finlandia / Italia | Especialista en teoría de demostraciones y lógica formal. |\n",
    "| 9. | **Mária Kaluszová** | Eslovaquia | Investigadora en lógica matemática, álgebra booleana y educación matemática. |\n",
    "| 10. | **Louise McNally** | EE.UU. / España | Ha trabajado en semántica formal y lógica del lenguaje natural. |\n",
    "| 11. | **Juliet Floyd** | EE.UU. | Historiadora de la lógica y el pensamiento de Gödel, Turing y Wittgenstein. |\n",
    "| 12. | **Dagmar Sattler-Klein** | Alemania | Contribuciones a la lógica computacional y educación en matemáticas. |\n",
    "| 13. | **Penelope Maddy** | EE.UU. | Filósofa de la matemática, especializada en teoría de conjuntos y realismo matemático. |\n",
    "| 14. | **Anil Nerode (con tribuciones compartidas con su esposa, Lois Nerode)** | EE.UU. | Investigación conjunta en lógica y teoría de autómatas. |\n",
    "| 15. | **Joan Moschovakis** | EE.UU. | Investigadora en lógica intuicionista, teoría de funciones recursivas. |\n",
    "| 16. | **Phoebe McLaughlin** | Australia | Enseñanza de lógica matemática y computacional. |\n",
    "| 17. | **Francesca Poggiolesi** | Francia | Especialista en lógica subestructural, demostraciones, y epistemología formal. |\n",
    "| 18. | **Helena Rasiowa** | Polonia | Autora influyente en lógica algebraica y lógica matemática computacional. |\n",
    "| 19. | **Mary Tiles** | Reino Unido | Historiadora de la lógica y la teoría de conjuntos, enfocada en matemáticas del siglo XIX. |\n",
    "| 20. | **Barbara Partee** | EE.UU. | Lingüista y lógica; pionera en semántica formal y su aplicación al lenguaje natural. |\n",
    "\n",
    "---\n"
   ]
  },
  {
   "cell_type": "markdown",
   "id": "010e9b58",
   "metadata": {},
   "source": [
    "\n",
    "### 🧩 ¿Cómo utilizar esta lista en tu curso?\n",
    "\n",
    "Puedes:\n",
    "\n",
    "- Diseñar una **galería de mujeres en la lógica** en tu repositorio GitHub con biografías y recursos asociados.\n",
    "- Crear **actividades de lectura e investigación**, como mini-biografías o análisis de sus aportes.\n",
    "- Invitar a algunas (como Valeria de Paiva o Sara Negri) a encuentros virtuales.\n",
    "- Generar un **podcast o video de YouTube** titulado *“Mujeres que transformaron la lógica”* para tu canal *DiMathData*.\n",
    "\n",
    "---\n",
    "\n",
    "¿Quieres que te ayude a construir esa galería o una línea del tiempo interactiva con sus aportes?\n"
   ]
  },
  {
   "cell_type": "code",
   "execution_count": 1,
   "id": "b179a7ed",
   "metadata": {},
   "outputs": [
    {
     "data": {
      "application/vnd.microsoft.datawrangler.viewer.v0+json": {
       "columns": [
        {
         "name": "index",
         "rawType": "int64",
         "type": "integer"
        },
        {
         "name": "Cedula",
         "rawType": "int64",
         "type": "integer"
        },
        {
         "name": "Nombre",
         "rawType": "object",
         "type": "string"
        },
        {
         "name": "Email",
         "rawType": "object",
         "type": "string"
        },
        {
         "name": "recuperacion_4",
         "rawType": "float64",
         "type": "float"
        }
       ],
       "ref": "efdc6b2f-55b9-48ec-b433-2f8359dd17b2",
       "rows": [
        [
         "0",
         "1067281024",
         "ALVAREZ GOEZ DAIRO ESTEBAN",
         "dairo.alvarez1@udea.edu.co",
         null
        ],
        [
         "1",
         "1041086439",
         "CASTILLO SIERRA SHIRLIS SARAY",
         "shirlis.castillo@udea.edu.co",
         null
        ],
        [
         "2",
         "1045419649",
         "ESPINOSA ESPINOSA LILIANA ANDREA",
         "lilianaa.espinosa@udea.edu.co",
         null
        ],
        [
         "3",
         "1040494191",
         "GARCIA PADILLA JHONATAN",
         "jhonatan.garcia1@udea.edu.co",
         null
        ],
        [
         "4",
         "1038098851",
         "GUERRA OSORIO SIMON",
         "s.guerra@udea.edu.co",
         null
        ]
       ],
       "shape": {
        "columns": 4,
        "rows": 5
       }
      },
      "text/html": [
       "<div>\n",
       "<style scoped>\n",
       "    .dataframe tbody tr th:only-of-type {\n",
       "        vertical-align: middle;\n",
       "    }\n",
       "\n",
       "    .dataframe tbody tr th {\n",
       "        vertical-align: top;\n",
       "    }\n",
       "\n",
       "    .dataframe thead th {\n",
       "        text-align: right;\n",
       "    }\n",
       "</style>\n",
       "<table border=\"1\" class=\"dataframe\">\n",
       "  <thead>\n",
       "    <tr style=\"text-align: right;\">\n",
       "      <th></th>\n",
       "      <th>Cedula</th>\n",
       "      <th>Nombre</th>\n",
       "      <th>Email</th>\n",
       "      <th>recuperacion_4</th>\n",
       "    </tr>\n",
       "  </thead>\n",
       "  <tbody>\n",
       "    <tr>\n",
       "      <th>0</th>\n",
       "      <td>1067281024</td>\n",
       "      <td>ALVAREZ GOEZ DAIRO ESTEBAN</td>\n",
       "      <td>dairo.alvarez1@udea.edu.co</td>\n",
       "      <td>NaN</td>\n",
       "    </tr>\n",
       "    <tr>\n",
       "      <th>1</th>\n",
       "      <td>1041086439</td>\n",
       "      <td>CASTILLO SIERRA SHIRLIS SARAY</td>\n",
       "      <td>shirlis.castillo@udea.edu.co</td>\n",
       "      <td>NaN</td>\n",
       "    </tr>\n",
       "    <tr>\n",
       "      <th>2</th>\n",
       "      <td>1045419649</td>\n",
       "      <td>ESPINOSA ESPINOSA LILIANA ANDREA</td>\n",
       "      <td>lilianaa.espinosa@udea.edu.co</td>\n",
       "      <td>NaN</td>\n",
       "    </tr>\n",
       "    <tr>\n",
       "      <th>3</th>\n",
       "      <td>1040494191</td>\n",
       "      <td>GARCIA PADILLA JHONATAN</td>\n",
       "      <td>jhonatan.garcia1@udea.edu.co</td>\n",
       "      <td>NaN</td>\n",
       "    </tr>\n",
       "    <tr>\n",
       "      <th>4</th>\n",
       "      <td>1038098851</td>\n",
       "      <td>GUERRA OSORIO SIMON</td>\n",
       "      <td>s.guerra@udea.edu.co</td>\n",
       "      <td>NaN</td>\n",
       "    </tr>\n",
       "  </tbody>\n",
       "</table>\n",
       "</div>"
      ],
      "text/plain": [
       "       Cedula                            Nombre  \\\n",
       "0  1067281024        ALVAREZ GOEZ DAIRO ESTEBAN   \n",
       "1  1041086439     CASTILLO SIERRA SHIRLIS SARAY   \n",
       "2  1045419649  ESPINOSA ESPINOSA LILIANA ANDREA   \n",
       "3  1040494191           GARCIA PADILLA JHONATAN   \n",
       "4  1038098851               GUERRA OSORIO SIMON   \n",
       "\n",
       "                           Email  recuperacion_4  \n",
       "0     dairo.alvarez1@udea.edu.co             NaN  \n",
       "1   shirlis.castillo@udea.edu.co             NaN  \n",
       "2  lilianaa.espinosa@udea.edu.co             NaN  \n",
       "3   jhonatan.garcia1@udea.edu.co             NaN  \n",
       "4           s.guerra@udea.edu.co             NaN  "
      ]
     },
     "execution_count": 1,
     "metadata": {},
     "output_type": "execute_result"
    }
   ],
   "source": [
    "import pandas as pd\n",
    "import numpy as np\n",
    "\n",
    "# Cargar la lista de estudiantes desde el archivo CSV\n",
    "path = 'C:/Users/marco/Documentos/docencia/groups_list/logica.xlsx'\n",
    "df = pd.read_excel(path)\n",
    "\n",
    "df.head()"
   ]
  },
  {
   "cell_type": "markdown",
   "id": "d7598d0a-d9b7-4ae0-b029-a0ed6ed1130b",
   "metadata": {},
   "source": [
    "\n",
    "# Principios de mi labor docente"
   ]
  },
  {
   "cell_type": "markdown",
   "id": "4f9d8cf9",
   "metadata": {
    "slideshow": {
     "slide_type": "slide"
    }
   },
   "source": [
    "## Modelo general de clase: [aula invertida](https://www3.gobiernodecanarias.org/medusa/ecoescuela/pedagotic/aprendizaje-invertido-flipped-classroom/)"
   ]
  },
  {
   "cell_type": "markdown",
   "id": "eb6ed03a",
   "metadata": {},
   "source": [
    "<img src = 'https://resources.maneuveringthemiddle.com/wp-content/uploads/2020/07/04212706/1-5.png' width = 500>  \n",
    "\n"
   ]
  },
  {
   "cell_type": "markdown",
   "id": "34319cce-a71b-4f64-aab8-b53e521efa40",
   "metadata": {},
   "source": [
    "# Metodología de Aprendizaje Basado en Problemas y Proyectos (ABPP) \n"
   ]
  },
  {
   "cell_type": "markdown",
   "id": "c4f73d81",
   "metadata": {},
   "source": [
    "\n",
    "<img src = 'https://www.unir.net/wp-content/uploads/2020/07/aprendizaje-problemas2-1-1-1-1.jpeg' width = 500>"
   ]
  },
  {
   "cell_type": "markdown",
   "id": "841a985c-bd9b-4dd3-8e4c-893983980af2",
   "metadata": {},
   "source": [
    "# Desarrollo del pensamiento computacional con Lenguajes Python y R, y con archivos Markdown orientado a la formación en ciencia de datos \n",
    "\n"
   ]
  },
  {
   "cell_type": "markdown",
   "id": "3d0eba94",
   "metadata": {},
   "source": [
    "\n",
    "<img src = 'https://i.ytimg.com/vi/mcG_wcR4e6M/maxresdefault.jpg' width = 200>"
   ]
  },
  {
   "cell_type": "markdown",
   "id": "65aa0404-f7ae-495e-864c-1aec01b4255e",
   "metadata": {},
   "source": [
    "# Principio de fomento a la ciencia abierta, enseñar en el acceso a los datos públicos y el uso de software de código abierto  \n"
   ]
  },
  {
   "cell_type": "markdown",
   "id": "18ae9b87",
   "metadata": {},
   "source": [
    "\n",
    "<img src = 'https://unesdoc.unesco.org/in/rest/Thumb/image?id=p%3A%3Ausmarcdef_0000379949_spa&author=UNESCO&title=Recomendaci%C3%B3n+de+la+UNESCO+sobre+la+Ciencia+Abierta&year=2021&publisher=UNESCO&TypeOfDocument=UnescoPhysicalDocument&mat=PGD&ct=true&size=512&isPhysical=1' width = 200>"
   ]
  },
  {
   "cell_type": "markdown",
   "id": "d9559f85",
   "metadata": {},
   "source": [
    "El enfoque STEAMS en educación preescolar, primaria y secundaria es una extensión del enfoque STEM (Ciencia, Tecnología, Ingeniería y Matemáticas) y su variante STEAM, que incorpora el Arte. "
   ]
  },
  {
   "cell_type": "markdown",
   "id": "0130ec1b",
   "metadata": {},
   "source": [
    "\n",
    "<img src = 'https://www.campuseducacion.com/blog/wp-content/uploads/2023/03/foto01-1.jpg' width = 200>"
   ]
  },
  {
   "cell_type": "markdown",
   "id": "9d15c10d-2c02-4158-9419-b1ed79b4c1ee",
   "metadata": {},
   "source": [
    "# Qué estamos haciendo por la internalización en esta clase y este curso  \n"
   ]
  },
  {
   "cell_type": "markdown",
   "id": "6e4feef2",
   "metadata": {},
   "source": [
    "Estas son mis acciones como docente de matemáticas en la Universidad de Antioquia con miras a la **internacionalización** de mi práctica docente y el desarrollo de competencias internacionales para mis estudiantes, ls cuales he estructurado con el siguiente enfoque:\n"
   ]
  },
  {
   "cell_type": "markdown",
   "id": "964d9de7-53ee-4255-9bcd-d8e6454f2993",
   "metadata": {},
   "source": [
    "### 1. **Visión Global en la Formación Académica**\n"
   ]
  },
  {
   "cell_type": "markdown",
   "id": "d9bdd3e2",
   "metadata": {},
   "source": [
    "   - **Competencias Internacionales**: Asegúrate de que el contenido de tus cursos fomente habilidades que sean reconocidas globalmente. "
   ]
  },
  {
   "cell_type": "markdown",
   "id": "47dad129",
   "metadata": {},
   "source": [
    "Al educar a los estudiantes en **Python, LaTeX, Markdown y Jupyter Notebooks** y en la **introducción a la ciencia de datos y técnicas de Machine Learning**, estás proporcionando competencias altamente demandadas en los sectores tecnológicos y académicos a nivel internacional.\n"
   ]
  },
  {
   "cell_type": "markdown",
   "id": "39b55206",
   "metadata": {},
   "source": [
    "   - **Relevancia de los Contenidos**: Destaca cómo los temas que enseñas, como el **desarrollo del pensamiento computacional** y la **ciencia de datos**, están alineados con las necesidades globales actuales en diversas industrias, desde la tecnología hasta las ciencias naturales y sociales.\n"
   ]
  },
  {
   "cell_type": "markdown",
   "id": "a054599e",
   "metadata": {},
   "source": [
    "   - **Referencias a Estándares Internacionales**: Puedes vincular tu enseñanza a estándares internacionales de competencias en programación y ciencia de datos (por ejemplo, frameworks del **IEEE, ACM**, y estándares de la **data science** o la **computación en la nube**)."
   ]
  },
  {
   "cell_type": "markdown",
   "id": "0f1d110c-3142-48fe-9e7d-5fbd9e8bb931",
   "metadata": {},
   "source": [
    "### 2. **Innovación Pedagógica con Enfoque Internacional**\n"
   ]
  },
  {
   "cell_type": "markdown",
   "id": "fae6ae34",
   "metadata": {},
   "source": [
    "   - **Aula Invertida y ABP**: Presenta cómo tu enfoque de **aula invertida** y **aprendizaje basado en problemas (ABP)** permite a los estudiantes trabajar de manera autónoma y colaborativa, lo que los prepara para escenarios laborales internacionales que requieren autoaprendizaje y habilidades de resolución de problemas en equipo.\n"
   ]
  },
  {
   "cell_type": "markdown",
   "id": "c83062d9",
   "metadata": {},
   "source": [
    "   - **Uso de Jupyter Notebooks**: El uso de **Jupyter Notebooks** en tus clases no solo facilita la **integración de código, matemáticas y texto**, sino que también es una plataforma utilizada globalmente en ambientes académicos y profesionales, lo que hace a tus estudiantes más competitivos internacionalmente."
   ]
  },
  {
   "cell_type": "markdown",
   "id": "960d52b7-03cd-4eb3-965e-5cdfeb7d9f8e",
   "metadata": {},
   "source": [
    "### 3. **Tecnología y Herramientas de Uso Global**\n"
   ]
  },
  {
   "cell_type": "markdown",
   "id": "4be7269f",
   "metadata": {},
   "source": [
    "   - **Lenguaje Python**: Python es uno de los lenguajes de programación más usados a nivel mundial, tanto en la academia como en la industria. "
   ]
  },
  {
   "cell_type": "markdown",
   "id": "272d6fb3",
   "metadata": {},
   "source": [
    "Al formar a tus estudiantes en Python para ciencia de datos y machine learning, los preparas para operar en entornos tecnológicos globales.\n"
   ]
  },
  {
   "cell_type": "markdown",
   "id": "102655af",
   "metadata": {},
   "source": [
    "   - **Herramientas de Ciencia Abierta**: Resalta cómo herramientas como **GitHub**, **Google Colab** y otras plataformas de código abierto están alineadas con el movimiento de **ciencia abierta**, el cual es internacionalmente reconocido y permite que los estudiantes colaboren y compartan proyectos a nivel global."
   ]
  },
  {
   "cell_type": "markdown",
   "id": "3b2ffa32-7a6f-4545-ba7b-c6a69f51109f",
   "metadata": {},
   "source": [
    "### 4. **Investigación y Publicaciones Internacionales**\n"
   ]
  },
  {
   "cell_type": "markdown",
   "id": "bdbf52a5",
   "metadata": {},
   "source": [
    "   - **Promoción de la Investigación**: Detalla cómo promueves que tus estudiantes participen en proyectos de **investigación aplicada**, con posibilidad de publicación en revistas internacionales. "
   ]
  },
  {
   "cell_type": "markdown",
   "id": "efe1617a",
   "metadata": {},
   "source": [
    "Esto contribuye a la reputación internacional de la Universidad de Antioquia.\n"
   ]
  },
  {
   "cell_type": "markdown",
   "id": "ea01fcbc",
   "metadata": {},
   "source": [
    "   - **Colaboraciones Internacionales**: Si has colaborado con investigadores de otras instituciones o universidades en el extranjero, menciona estos proyectos y cómo han enriquecido tu enseñanza y proporcionado a los estudiantes una visión más globalizada."
   ]
  },
  {
   "cell_type": "markdown",
   "id": "5d1e396e-aece-4bf7-9421-32fa7809eaf4",
   "metadata": {},
   "source": [
    "## 5. **Uso del Inglés para la Internacionalización**\n"
   ]
  },
  {
   "cell_type": "markdown",
   "id": "29cabf26",
   "metadata": {},
   "source": [
    "   - **Comunicación Científica en Inglés**: "
   ]
  },
  {
   "cell_type": "markdown",
   "id": "8ec53ff3",
   "metadata": {},
   "source": [
    "Fomentar el aprendizaje del inglés como lengua científica es clave para que tus estudiantes puedan acceder a publicaciones internacionales, conferencias, y material académico que no está disponible en español. "
   ]
  },
  {
   "cell_type": "markdown",
   "id": "12b4cdcf",
   "metadata": {},
   "source": [
    "Esto es esencial para que adquieran competencias que les permitan desempeñarse en cualquier contexto internacional.\n"
   ]
  },
  {
   "cell_type": "markdown",
   "id": "b831224f",
   "metadata": {},
   "source": [
    "   - **Material Bilingüe**: Al generar material educativo en Python, LaTeX y Markdown, considera ofrecer algunos de estos recursos en inglés, para que los estudiantes se familiaricen con el vocabulario técnico y científico internacional."
   ]
  },
  {
   "cell_type": "markdown",
   "id": "c6a8c3b0-426a-4692-a384-3065aea81c9a",
   "metadata": {},
   "source": [
    "### 6. **Certificaciones y Estándares Internacionales**\n"
   ]
  },
  {
   "cell_type": "markdown",
   "id": "b1f41da5",
   "metadata": {},
   "source": [
    "   - **Participación en Certificaciones Internacionales**: Impulsa que los estudiantes busquen certificaciones internacionales en Python o ciencia de datos (como las ofrecidas por **Coursera, edX,** o **Google**). "
   ]
  },
  {
   "cell_type": "markdown",
   "id": "0279b6b6",
   "metadata": {},
   "source": [
    "Estas certificaciones no solo validan sus competencias, sino que también incrementan el reconocimiento de la Universidad de Antioquia en el contexto internacional.\n"
   ]
  },
  {
   "cell_type": "markdown",
   "id": "7cc66317",
   "metadata": {},
   "source": [
    "   - **Alineación con Acreditaciones Internacionales**: Vincula tu trabajo docente con los estándares de acreditación y certificación que garantizan que la universidad siga siendo reconocida internacionalmente. "
   ]
  },
  {
   "cell_type": "markdown",
   "id": "116629e7",
   "metadata": {},
   "source": [
    "Puedes vincularte con organizaciones internacionales que promuevan la excelencia en la educación y tecnología, como **ABET** para la acreditación en ingeniería y ciencias computacionales."
   ]
  },
  {
   "cell_type": "markdown",
   "id": "65d3d9e1-ea84-43e0-8197-a2a9c9e21594",
   "metadata": {},
   "source": [
    "### 7. **Proyectos Abiertos y Ciencia Reproducible**\n"
   ]
  },
  {
   "cell_type": "markdown",
   "id": "f03f7b20",
   "metadata": {},
   "source": [
    "   - **GitHub y Open Science**: La utilización de **GitHub** para almacenar los proyectos y materiales de enseñanza en repositorios públicos permite que otros investigadores y educadores internacionales puedan revisar y replicar tu trabajo. "
   ]
  },
  {
   "cell_type": "markdown",
   "id": "b0d16f59",
   "metadata": {},
   "source": [
    "Esto contribuye a la creación de una red de colaboración científica abierta.\n"
   ]
  },
  {
   "cell_type": "markdown",
   "id": "7dd85589",
   "metadata": {},
   "source": [
    "   - **Transparencia y Reproducibilidad**: La ciencia de datos y machine learning están profundamente ligados a la reproducibilidad. "
   ]
  },
  {
   "cell_type": "markdown",
   "id": "420b4d7a",
   "metadata": {},
   "source": [
    "Asegura que tus estudiantes desarrollen prácticas de transparencia y documentación en la investigación, que son pilares en la comunidad científica global.\n"
   ]
  },
  {
   "cell_type": "markdown",
   "id": "215cb551",
   "metadata": {},
   "source": [
    "\n",
    "### 8. **Participación en Redes y Conferencias Internacionales**\n",
    "   - **Presentación en Conferencias Internacionales**: Destaca cómo tu participación en conferencias internacionales (como la **ASCOLFA** o eventos sobre educación en matemáticas) contribuye al prestigio de la universidad y permite que tus prácticas sean evaluadas y reconocidas a nivel global.\n"
   ]
  },
  {
   "cell_type": "markdown",
   "id": "cdf46e29",
   "metadata": {},
   "source": [
    "   - **Promoción de Estudiantes en Eventos Internacionales**: Impulsa la participación de tus estudiantes en competiciones internacionales de programación o hackathons, como los organizados por **Google**, **ACM** o **Kaggle**. "
   ]
  },
  {
   "cell_type": "markdown",
   "id": "482a7f87",
   "metadata": {},
   "source": [
    "Esto no solo desarrolla sus habilidades, sino que también visibiliza el talento de la Universidad de Antioquia a nivel global.\n",
    "\n",
    "---"
   ]
  },
  {
   "cell_type": "markdown",
   "id": "233294a4-1983-4641-a7ad-866825e02315",
   "metadata": {},
   "source": [
    "Con esta estrategia, presento mis acciones docentes en términos de competencias internacionales, innovación pedagógica, tecnología, investigación y participación en redes globales, asegurando que mi práctica esté alineada con los estándares internacionales y que tus estudiantes estén preparados para competir en contextos internacionales."
   ]
  },
  {
   "cell_type": "markdown",
   "id": "77da458b",
   "metadata": {},
   "source": [
    "### **Metodología de Enseñanza: Aprendizaje Basado en Problemas y Proyectos (ABPP)**\n"
   ]
  },
  {
   "cell_type": "markdown",
   "id": "c943d273",
   "metadata": {},
   "source": [
    "\n",
    "El **Aprendizaje Basado en Problemas y Proyectos (ABPP)** es una metodología educativa que integra los enfoques del **Aprendizaje Basado en Problemas (ABP)** y el **Aprendizaje Basado en Proyectos (PBL, por sus siglas en inglés)**. "
   ]
  },
  {
   "cell_type": "markdown",
   "id": "662c202f",
   "metadata": {},
   "source": [
    "Es especialmente útil para la formación de futuros docentes, ingenieros y administradores, ya que combina el desarrollo de habilidades prácticas con el pensamiento crítico y reflexivo. "
   ]
  },
  {
   "cell_type": "markdown",
   "id": "e33863e4",
   "metadata": {},
   "source": [
    "A continuación, se presenta una descripción adaptada a la enseñanza de las matemáticas en educación infantil, Licenciatura en Matemáticas, Ingeniería Agropecuaria y Administración de Empresas:\n",
    "\n",
    "---\n"
   ]
  },
  {
   "cell_type": "markdown",
   "id": "0eeba3f5",
   "metadata": {},
   "source": [
    "\n",
    "### **1. Fundamentos del ABPP**\n"
   ]
  },
  {
   "cell_type": "markdown",
   "id": "43a21c0b",
   "metadata": {},
   "source": [
    "El ABPP se basa en:\n",
    "- **Resolución de Problemas Reales:** Los estudiantes analizan y resuelven problemas auténticos relacionados con su área de formación, fomentando la aplicación práctica del conocimiento.\n"
   ]
  },
  {
   "cell_type": "markdown",
   "id": "ca0c81c7",
   "metadata": {},
   "source": [
    "- **Proyectos como Herramientas Integradoras:** Los proyectos permiten desarrollar habilidades interdisciplinarias y ofrecer soluciones concretas a los problemas planteados.\n"
   ]
  },
  {
   "cell_type": "markdown",
   "id": "4ad479de",
   "metadata": {},
   "source": [
    "- **Aprendizaje Activo:** Los estudiantes son responsables de su aprendizaje y participan activamente en el proceso de investigación, diseño y solución.\n",
    "\n",
    "\n"
   ]
  },
  {
   "cell_type": "markdown",
   "id": "3728d010",
   "metadata": {},
   "source": [
    "\n",
    "### **2. Aplicación del ABPP en Áreas Específicas**\n",
    "\n",
    "#### **Educación Infantil (Licenciatura en Educación Infantil)**\n",
    "- **Enfoque:** Desarrollo del pensamiento matemático en la infancia desde contextos lúdicos, familiares y culturales.\n"
   ]
  },
  {
   "cell_type": "markdown",
   "id": "2cbb1bec",
   "metadata": {},
   "source": [
    "- **Problemas típicos:** \n"
   ]
  },
  {
   "cell_type": "markdown",
   "id": "c1ac0ffa",
   "metadata": {},
   "source": [
    "  - ¿Cómo enseñar los números naturales mediante actividades prácticas y juegos?\n",
    "  - ¿Qué estrategias pueden emplearse para abordar el concepto de cantidad en edades tempranas?\n",
    "- **Proyectos:** Diseño de secuencias didácticas que usen Python, Jupyter Notebooks y materiales manipulativos para enseñar matemáticas de forma interactiva.\n"
   ]
  },
  {
   "cell_type": "markdown",
   "id": "159661d2",
   "metadata": {},
   "source": [
    "- **Competencias desarrolladas:** \n",
    "  - Uso de herramientas tecnológicas para diseñar actividades educativas.\n",
    "  - Comprensión del desarrollo cognitivo infantil y su relación con las matemáticas.\n"
   ]
  },
  {
   "cell_type": "markdown",
   "id": "481f614a",
   "metadata": {},
   "source": [
    "\n",
    "#### **Licenciatura en Matemáticas**\n",
    "- **Enfoque:** Resolución de problemas matemáticos aplicados y profundización teórica en áreas como análisis matemático y modelado.\n"
   ]
  },
  {
   "cell_type": "markdown",
   "id": "4fe27fb8",
   "metadata": {},
   "source": [
    "- **Problemas típicos:**\n",
    "  - ¿Cómo se pueden resolver ecuaciones diferenciales aplicadas a modelos físicos o económicos?\n",
    "  - ¿Cómo modelar fenómenos naturales mediante funciones matemáticas?\n"
   ]
  },
  {
   "cell_type": "markdown",
   "id": "34ecae0c",
   "metadata": {},
   "source": [
    "- **Proyectos:** \n",
    "  - Desarrollo de software educativo para explorar conceptos matemáticos.\n",
    "  - Aplicación de modelado matemático para resolver problemas reales en otras disciplinas.\n"
   ]
  },
  {
   "cell_type": "markdown",
   "id": "c8143c14",
   "metadata": {},
   "source": [
    "- **Competencias desarrolladas:**\n",
    "  - Dominio de la matemática teórica y aplicada.\n",
    "  - Uso de tecnología para la enseñanza y la investigación.\n"
   ]
  },
  {
   "cell_type": "markdown",
   "id": "83ab236f",
   "metadata": {},
   "source": [
    "\n",
    "#### **Ingeniería Agropecuaria**\n",
    "- **Enfoque:** Modelado matemático y análisis de datos para mejorar la producción agrícola y la gestión de recursos.\n"
   ]
  },
  {
   "cell_type": "markdown",
   "id": "beb9ba0e",
   "metadata": {},
   "source": [
    "- **Problemas típicos:**\n",
    "  - ¿Cómo modelar el crecimiento de cultivos considerando variables climáticas?\n",
    "  - ¿Cómo optimizar el uso del agua en sistemas de riego mediante análisis matemático?\n"
   ]
  },
  {
   "cell_type": "markdown",
   "id": "4f437fb5",
   "metadata": {},
   "source": [
    "- **Proyectos:** \n",
    "  - Desarrollo de modelos predictivos con Python y bibliotecas de aprendizaje automático.\n",
    "  - Implementación de proyectos que combinen matemáticas y ciencias de datos para resolver problemas agrícolas.\n"
   ]
  },
  {
   "cell_type": "markdown",
   "id": "65927779",
   "metadata": {},
   "source": [
    "- **Competencias desarrolladas:**\n",
    "  - Integración de matemáticas con tecnologías avanzadas.\n",
    "  - Resolución de problemas agropecuarios mediante análisis y modelado.\n"
   ]
  },
  {
   "cell_type": "markdown",
   "id": "c4519bb3",
   "metadata": {},
   "source": [
    "\n",
    "#### **Administración de Empresas**\n"
   ]
  },
  {
   "cell_type": "markdown",
   "id": "d63225b7",
   "metadata": {},
   "source": [
    "- **Enfoque:** Uso de las matemáticas y la ciencia de datos para la toma de decisiones estratégicas.\n",
    "- **Problemas típicos:**\n",
    "  - ¿Cómo identificar patrones de comportamiento del consumidor usando series de tiempo?\n",
    "  - ¿Qué estrategias matemáticas pueden optimizar la asignación de recursos en una empresa?\n"
   ]
  },
  {
   "cell_type": "markdown",
   "id": "694b493e",
   "metadata": {},
   "source": [
    "- **Proyectos:** \n",
    "  - Implementación de modelos de análisis financiero y simulaciones.\n",
    "  - Desarrollo de dashboards interactivos para la gestión de datos empresariales.\n"
   ]
  },
  {
   "cell_type": "markdown",
   "id": "9977c409",
   "metadata": {},
   "source": [
    "- **Competencias desarrolladas:**\n",
    "  - Habilidad para interpretar datos matemáticos en contextos de negocio.\n",
    "  - Capacidad para diseñar soluciones basadas en datos.\n",
    "\n",
    "\n"
   ]
  },
  {
   "cell_type": "markdown",
   "id": "19be58d4",
   "metadata": {},
   "source": [
    "\n",
    "### **3. Beneficios del ABPP**\n"
   ]
  },
  {
   "cell_type": "markdown",
   "id": "585e8739",
   "metadata": {},
   "source": [
    "- **Desarrollo de competencias clave:**\n",
    "  - Pensamiento crítico y creativo.\n",
    "  - Trabajo colaborativo.\n",
    "  - Comunicación efectiva.\n",
    "  - Uso de herramientas tecnológicas avanzadas.\n"
   ]
  },
  {
   "cell_type": "markdown",
   "id": "0b651a2b",
   "metadata": {},
   "source": [
    "- **Adaptación al contexto laboral:** Los estudiantes aprenden a enfrentar desafíos del mundo real y a diseñar soluciones prácticas y aplicables.\n",
    "- **Flexibilidad e interdisciplinariedad:** La metodología se adapta a diversas áreas, fomentando el aprendizaje integrado.\n",
    "\n",
    "---\n"
   ]
  },
  {
   "cell_type": "markdown",
   "id": "e36034c3",
   "metadata": {},
   "source": [
    "\n",
    "### **4. Ejemplo General de Implementación**\n"
   ]
  },
  {
   "cell_type": "markdown",
   "id": "20fadf1c",
   "metadata": {},
   "source": [
    "1. **Identificación del problema:** Se plantea un desafío concreto, como modelar el crecimiento poblacional de una comunidad rural (Ingeniería Agropecuaria) o diseñar una estrategia para enseñar fracciones a niños de 8 años (Educación Infantil).\n",
    "2. **Formación de equipos:** Los estudiantes trabajan en grupos, distribuyendo roles y tareas.\n"
   ]
  },
  {
   "cell_type": "markdown",
   "id": "0646af72",
   "metadata": {},
   "source": [
    "3. **Investigación y diseño:** Los estudiantes investigan el problema, proponen soluciones y diseñan un proyecto.\n",
    "4. **Implementación:** Se desarrolla el proyecto, como una herramienta tecnológica o una propuesta pedagógica.\n",
    "5. **Evaluación:** Los estudiantes presentan sus resultados en un informe o una exposición, recibiendo retroalimentación de sus compañeros y docentes.\n"
   ]
  },
  {
   "cell_type": "markdown",
   "id": "a622eebe",
   "metadata": {},
   "source": [
    "\n",
    "---\n",
    "\n",
    "El ABPP es una metodología versátil que conecta el conocimiento teórico con la práctica, preparando a los estudiantes para los retos de sus profesiones en la enseñanza de la matemática, la ingeniería y la administración."
   ]
  },
  {
   "cell_type": "code",
   "execution_count": 1,
   "id": "0c673e3c",
   "metadata": {},
   "outputs": [],
   "source": [
    "# Gestión del guardado de imagenes  \n",
    "\n",
    "def save_fig(nombre_archivo_imagen):\n",
    "    import os \n",
    "    import matplotlib.pyplot as plt\n",
    "    ubicacion_para_imagenes = r\"C:/Users/marco/Downloads\"\n",
    "    imagen_path = os.path.join(ubicacion_para_imagenes, nombre_archivo_imagen)\n",
    "    plt.savefig(imagen_path, bbox_inches='tight')"
   ]
  },
  {
   "cell_type": "markdown",
   "id": "10e55ccf",
   "metadata": {},
   "source": [
    "# Prompt de diseño de clase: \n",
    "\n",
    "Dame, por favor, un diseño de clase, con el enfoque: STEAMS  y de aprendizaje basado en problemas y proyectos(ABPP) y Teoría de Registros de Representación de Duval(TRRS); sobre: **«Lógica» es una palabra de origen griego: Logos (λoγoς), que significa razón, refle\n",
    "xión, pensamiento. Actualmente se utiliza la palabra «lógica» para designar el estudio formal de los razonamientos y las conclusiones a las que conducen tales razonamientos.\n",
    "En matemáticas ha resultado extremadamente útil tener una manera formal de esta\n",
    "blecer conclusiones a partir de hechos y combinaciones de hechos, porque se evitan así\n",
    " muchas ambigüedades y malos entendidos.\n",
    " Se dice que la lógica es un «sistema formal» porque está constituido por un lenguaje\n",
    " formal, reglas gramaticales y reglas de inferencia. Cada uno de los constituyentes del\n",
    " sistema se debe establecer de antemano, para construir razonamientos a partir de\n",
    " los hechos más básicos y fundamentales, hasta aquellos que se hayan construido al\n",
    " considerar las reglas de inferencia.\n",
    " Particularmente estaremos interesados en el estudio de la lógica simbólica, que hace\n",
    " uso de símbolos para representar tanto los hechos como las reglas de inferencia.\n",
    " 1.2 Los valores de verdad\n",
    " 1.2.1 Valores booleanos\n",
    " En la lógica clásica, también conocida como dura, o bivalente, hemos de considerar\n",
    " únicamente dos valores de verdad, el falso y el cierto. Cualquier aseveración lógica tiene\n",
    " exactamente una de esas dos propiedades. El valor falso lo escribiremos con el símbolo\n",
    " False , y el cierto con el símbolo True. Aunque en otras áreas de la lógica, como la\n",
    " lógica multivalente o la lógica difusa se emplean otra gama de valores de verdad, aquí\n",
    " consideraremos solamente False y True como los únicos valores de verdad.\n",
    "22\n",
    " Proposiciones y predicados\n",
    " Hay muchos otros sistemas bivalentes que pueden ser útiles para representar los\n",
    " valores falso y cierto, como el 0 para representar falso y 1 para representar el cierto.\n",
    " Otros sistemas bivalentes pueden ser abajo-arriba; izquierda-derecha, en fin, cualquier\n",
    " conjunto de dos símbolos diferentes entre sí puede servir para representar los valores de\n",
    " verdad False y True.\n",
    " Lalógicamatemáticaesuncampodeestudiosumamente extenso, lo que se presenta aquí\n",
    " es un breve repositorio de definiciones que deben alentar al lector a indagar más sobre el\n",
    " tema. Excelentes libros para empezar un estudio diligente en la lógica matemática son «A\n",
    " Beginner’s Guide to Mathematical Logic» [Smu14] y «Lógica Elemental» [FdPSTF04] pero\n",
    " sin duda, de una rápida búsqueda en internet es posible obtener muchos otros títulos más.\n",
    " Los valores de verdad también se conocen como «valores booleanos» en honor al\n",
    " matemático británico George Boole (1815- 1864), quien nos ha legado lo que ahora\n",
    " conocemos como álgebra de Boole [Boo09], donde se utilizan técnicas algebraicas para\n",
    " operar con proposiciones lógicas. Así los valores booleanos son False y True, y nos\n",
    " referiremos a ambos con el símbolo B, y diremos que representa el dominio de los\n",
    " valores booleanos.\n",
    " 1.2.2 Valores booleanos en Python\n",
    " En Python se dedican las constantes True para el valor cierto y False para el\n",
    " valor falso. Pero Python es un poco menos restrictivo, pues cualquier valor tiene una\n",
    " representación como True o False. Veamos por ejemplo:\n",
    " • 0esFalse. Cualquier valor numérico diferente que 0 es True.\n",
    " • \"\" es False. Cualquier string diferente que \"\" es True.\n",
    " • []esFalse. Cualquier lista diferente que [] es True.\n",
    " • ()esFalse. Cualquier tupla diferente que () es True.\n",
    " Ejemplo 1.1\n",
    " Al utilizar el IDE de Python, en la sección de interacciones escribiremos los valores de verdad\n",
    " para que el intérprete pueda leerlos, evaluarlos y ofrecer una impresión del resultado.\n",
    " >>> True # El símbolo para cierto\n",
    " True\n",
    " >>> False # El símbolo para falso\n",
    " False\n",
    " >>> bool(\"\")\n",
    " False\n",
    " >>> bool(\"hola\")\n",
    " True\n",
    " >>> bool([])\n",
    " False\n",
    " >>> bool([1])\n",
    " True\n",
    " >>>\n",
    " 1.3 Expresiones simbólicas\n",
    " En Pythonhayexpresiones simbólicas primitivas que son las expresiones que no re\n",
    "quieren programación por parte del usuario, ya que han sido programadas previamente\n",
    " y cargadas al sistema de manera automática al iniciar Python. Las expresiones primiti\n",
    "vas ya tienen un valor establecido y no requieren cálculo alguno ni para determinar su\n",
    " valor, ni para utilizarlas.\n",
    "1.3 Expresiones simbólicas\n",
    " 23\n",
    " En Python al igual que en matemáticas, se utilizan símbolos para escribir expre\n",
    "siones, estas se llaman expresiones simbólicas o bien, S-expresiones. En adelante\n",
    " consideraremos sinónimos los términos «S-expresión» y «expresión»; y usaremos el tér\n",
    "mino «S-expresión» para hacer énfasis en que la expresión del lenguaje utiliza símbolos.\n",
    " El entorno de desarrollo integrado (IDE) de Python se maneja en un ciclo interactivo\n",
    " denominado REPL, (del inglés Read, Evaluate, Print, Loop); cada expresión debe ser leída\n",
    " por el intérprete, luego debe evaluarse y el resultado se imprime, o bien se utiliza como\n",
    " entrada para un nuevo ciclo.\n",
    " Una expresión que al ser analizada es finalmente evaluada como True o False se\n",
    " llama expresión lógica, o bien expresión booleana porque su valor es uno del conjunto\n",
    " de valores booleanos.\n",
    " 1.3.1 Expresiones simples\n",
    " En Python hay principalmente dos tipos de S-expresiones, las expresiones simples\n",
    " y las expresiones compuestas. Las expresiones simples son expresiones cuyo valor es\n",
    " la misma expresión, como en el ejemplo 1.1 con los símbolos True o False, para el\n",
    " caso de las expresiones booleanas; pero también los números son expresiones simples\n",
    " como 10, 24.48 o 3+2j; las cadenas de caracteres entre comillas como \"hola mundo\"\n",
    " también son expresiones simples. Las expresiones simples también se conocen como\n",
    " expresiones atómicas.\n",
    " Ejemplo 1.2\n",
    " Expresiones simples\n",
    " • TrueEs un valor de verdad\n",
    " • \"falso\" Es una cadena de texto\n",
    " • 3.14159Es un número\n",
    " • 3j+2Es un número\n",
    " • [’w’, ’x’, ’y’, ’z’]Es una lista de cadenas de texto\n",
    " 1.3.2 Expresiones compuestas\n",
    " Son expresiones que incluyen un símbolo que representa a un operador junto con\n",
    " una o más expresiones, ya sean simples o compuestas. Cada elemento que no es el\n",
    " operador, se llama argumento. Por ejemplo 5+(2*2) es una S-expresión compuesta,\n",
    " de un operador +, con dos argumentos, el 5 que es expresión simple y (2*2) es una\n",
    " expresión compuesta.\n",
    " En el lenguaje cotidiano, frecuentemente podemos encontrar expresiones lógicas\n",
    " compuestas, las expresiones compuestas se escriben agrupando expresiones utilizando\n",
    " operadores lógicos, que se conocen también como conectores o términos de enlace. En\n",
    " Python escribimos expresiones compuestas utilizando paréntesis cuando es necesario\n",
    " agrupar expresiones.\n",
    " Ejemplo 1.3\n",
    " Las siguientes sentencias son expresiones compuestas en el lenguaje cotidiano.\n",
    " • «Los niños son juguetones y traviesos».\n",
    " • «Lamedicina se puede tomar antes o después de la comida».\n",
    " • «El usuario o bien es administrador o es un usuario regular».\n",
    " • «Si llovió, entonces hay humedad».\n",
    "24\n",
    " Proposiciones y predicados\n",
    " Comoreglageneralunaexpresióncompuesta empiezaconunoperador y sus operandos se\n",
    " escriben como una lista entre paréntesis, siguiendo el siguiente patrón\n",
    " operador(operando[...])\n",
    " Separado cada operador con una coma. El símbolo ... significa y así sucesivamente, con cero\n",
    " o más elementos; de paso, hay otro símbolo que utilizaremos de vez en cuando, es ...+ que\n",
    " significa: y así sucesivamente, con uno o más elementos.\n",
    " Ejemplo 1.4\n",
    " Las siguientes son expresiones compuestas:\n",
    " • sumar(4, 5, 6)\n",
    " • map(lambda x: F(x), D)\n",
    " • 5*(3*y+x**2)\n",
    " • 45*q >= L[i]\n",
    " ElnombreenPythonparalosidentificadores de las funciones, se escribirán siguiendo un\n",
    " estilo minusculaMayuscula; mientras que los nombres para las clases y objetos con un\n",
    " estilo PalabrasConMayuscula.\n",
    " 1.3.3 Expresiones proposicionales\n",
    " Una expresión proposicional, como lo dicen Copi y Cohen en [CC13, p. 5], «son el\n",
    " material de nuestro razonamiento». Una proposición es una expresión lógica, por lo que\n",
    " es evaluada o bien como False o como True, pero no puede adquirir ambos valores al\n",
    " mismo tiempo y tampoco es posible que carezca de valor lógico.\n",
    " Las proposiciones también pueden ser simples o compuestas. Las proposiciones\n",
    " simples, también llamadas atómicas, son expresiones lógicas que no pueden seccionarse\n",
    " sin perder el valor de verdad.\n",
    " Ejemplo 1.5\n",
    " Los siguientes ejemplos son proposiciones escritas en el lenguaje cotidiano o lenguaje natural:\n",
    " 1. «Mentira» [significa falso].\n",
    " 2. «Es cierto» [significa cierto].\n",
    " 3. «El número de sesiones ha sobrepasado el límite».\n",
    " Observa que las proposiciones en lenguaje natural están escritas en tiempo presente o en\n",
    " pasado, porque son hechos que ya han sido evaluados.\n",
    " Las siguientes son expresiones simples en Python:\n",
    " 1. True. Es primitiva, significa cierto\n",
    " 2. False. Es primitiva, significa falso\n",
    " 3. 4 == 4.produce verdadero\n",
    " 4. 14 == 5.es evaluado como falso\n",
    " EnPython,unaexpresiónprimitiva ya cuenta con el valor de todos sus argumentos, por lo\n",
    " que no requiere la evaluación de alguna subexpresión para determinar su valor.\n",
    " Ejemplo 1.6\n",
    " Las siguientes expresiones NO son proposiciones lógicas:\n",
    " • «¿Cómosefabrica el pan?». Es una pregunta, no un valor de verdad.\n",
    " • «Sirve la mesa». Es una orden, no un valor booleano.\n",
    " • 3x>27.No es posible determinar el valor de verdad.\n",
    "1.3 Expresiones simbólicas\n",
    " 25\n",
    " Las proposiciones compuestas son proposiciones que incluyen otras expresiones\n",
    " simples o compuestas.\n",
    " Ejemplo 1.7\n",
    " Las siguientes expresiones son proposiciones compuestas:\n",
    " • «El usuario lleva 3 horas de uso continuo o el usuario no ha hecho modificaciones».\n",
    " • «Si Roberto es constante en sus pagos y paga puntualmente, entonces Roberto es recompen\n",
    "sado como cliente distinguido».\n",
    " • 3∗4=4∗3.\n",
    " • 2>(2+2)\n",
    " Al evaluar las expresiones se obtiene un valor, por ejemplo la expresión 2 > (2+2) al\n",
    " ser evaluada debe ser interpretada como False, por lo que se puede escribir\n",
    " 2 >(2+2)→False\n",
    " Utilizaremos el símbolo → para decir «es evaluado como», o «produce el valor», o\n",
    " simplemente «produce».\n",
    " En general, al escribir\n",
    " ⟨expresión⟩→⟨valor|tipo⟩,\n",
    " se debe entender que se está evaluando la expresión a la izquierda de la flecha y se\n",
    " devuelve el valor o el tipo de dato que aparece a la derecha de la flecha. Esta práctica es\n",
    " común al utilizar Python con anotaciones de tipos 1.\n",
    " 1.3.4 Definiendo proposiciones en Python\n",
    " EnPythonesposiblecrearproposicionesaldefinirconceptosconunvalordeverdad.\n",
    " El lenguaje Pythonesunlenguajefuncional,estosignifica quesedebencrearsegmentos\n",
    " de código con alguna funcionalidad específica. Este es un método de definición, donde\n",
    " el identificador es el significante y la funcionalidad es el significado. Particularmente en\n",
    " el caso de las proposiciones, el significado siempre es un valor de verdad, o bien una\n",
    " expresión primitiva o compuesta que finalmente sea evaluada con un valor de verdad.\n",
    " >>> elPatoEsAve = True\n",
    " >>> elPatoEsAveyElGatoEsMamifero = False\n",
    " >>>\n",
    " Python asocia un valor a un identificador. El concepto definido es el identificador y\n",
    " su significado es el valor asociado. En lo sucesivo, cuando se solicite el significado de\n",
    " ese nuevo concepto y mientras la memoria de la computadora no se restablezca, ya se\n",
    " conocerá su significado:\n",
    " >>> elPatoEsAve\n",
    " True\n",
    " >>>\n",
    " Una notación que también se utilizará frecuentemente en este texto, es la nota\n",
    "ción para asignar un valor a una variable, siguiendo el ejemplo, podemos escribir:\n",
    " elPatoEsAve=True,quesignifica literalmente «se le asigna el valor True a la variable\n",
    " elPatoEsAve», una traducción alternativa es «elPatoEsAve←True ». El símbolo ←, se\n",
    " usa al escribir algoritmos o en el lenguaje convencional de matemáticas para asignar un\n",
    " valor a una variable.\n",
    " 1https://docs.python.org/3/library/typing.html\n",
    "26\n",
    " Proposiciones y predicados\n",
    " Ejemplo 1.8\n",
    " Supongamos que se tiene la expresión «Gustavo es usuario autorizado», la cual queremos modelar\n",
    " en Python. Podemos crear un identificador gustavoEsUsuarioAutorizado y definirlo como\n",
    " una proposición con valor de verdad True. Un primer acercamiento es escribir:\n",
    " gustavoEsUsuarioAutorizado ←True\n",
    " lo que puede ser modelado en Python como:\n",
    " gustavoEsUsuarioAutorizado = True.\n",
    " Recordemos que en Python se utiliza un símbolo = para la asignación y el símbolo compuesto\n",
    " == para la comparación. Una vez que se ha definido el nuevo concepto, es posible utilizarlo\n",
    " sabiendo el valor de verdad con el cual ha sido definido:\n",
    " >>> gustavoEsUsuarioAutorizado\n",
    " True\n",
    " >>>\n",
    " Utilizar un concepto que no ha sido definido previamente ocasiona un error.\n",
    " >>> hoyEsSoleado\n",
    " NameError: name ’hoyEsSoleado’ is not defined\n",
    " >>> hoyEsSoleado = True\n",
    " >>> hoyEsSoleado\n",
    " True\n",
    " >>>\n",
    " Al definir proposiciones en Python, el significante [el identificador] no necesaria\n",
    "mente debe tener sentido para las personas; por ejemplo xy345 es un identificador\n",
    " válido, también lo son home o casa, que no necesariamente tienen relación de significa\n",
    "do alguno entre sí.\n",
    " Preferiblemente se deben escribir identificadores con sentido, al menos para el\n",
    " programador y que tengan relación con un significado ya conocido, principalmente es\n",
    " para beneficio de las personas que revisen el código fuente.\n",
    " Ejemplo 1.9\n",
    " Las siguientes proposiciones están correctamente definidas, pero son muy largas o confusas.\n",
    " >>> elLunesEsDomingo = True\n",
    " >>> losPerrosSonPeces = True\n",
    " >>> losPerrosSonPeces\n",
    " True\n",
    " >>>\n",
    " Las siguientes proposiciones son correctamente definidas y más amigables para el lector humano.\n",
    " >>> llueve = True\n",
    " >>> haceFrio = False\n",
    " >>> haceFrio\n",
    " False\n",
    " >>>\n",
    " 1.4 Predicados\n",
    " Unpredicado es un procedimiento que contiene expresiones de valor desconocido,\n",
    " que al proporcionar tales valores y ser evaluado, genera un valor de verdad. Los identifi\n",
    "cadores cuyo valor es desconocido se conocen como parámetros, también son conocidos\n",
    " como parámetros formales o argumentos ficticios [Ben78].\n",
    "1.4 Predicados\n",
    " 27\n",
    " En el lenguaje natural, los predicados están asociados con expresiones en tiempo\n",
    " gramatical futuro, pues aún no se conoce con certeza el valor de al menos uno de\n",
    " los componentes de la expresión. En matemáticas, las incógnitas frecuentemente se\n",
    " escriben con los símbolos x,y o z; en lógica es frecuente usar símbolos p,q o r.\n",
    " El valor de verdad de un predicado depende del valor de cada uno de sus parámetros\n",
    " y de cómose combinan. Los parámetros no siempre son expresiones lógicas, también\n",
    " pueden constituirse de expresiones construidas con números, cadenas de caracteres o\n",
    " cualquier otro objeto; cuando una expresión tiene elementos que no son booleanos, debe\n",
    " haber operaciones que permitan que la evaluación final de la expresión tenga un valor\n",
    " booleano.\n",
    " Ejemplo 1.10\n",
    " Las siguientes expresiones son el mismo predicado. El primero está escrito como λ-expresión; el\n",
    " segundo en la notación de Python [ver la nota siguiente sobre expresiones lambda]; y el tercero\n",
    " en lenguaje natural:\n",
    " • λx•3x=12.\n",
    " • lambda x: 3*x == 12.\n",
    " • «El triple de un número es doce».\n",
    " Unaexpresiónlambda,escritatambiéncomoλ-expresión,sirveparaescribirprocedimientos.\n",
    " Un procedimiento toma algunos datos de entrada, los procesa y emite un resultado. Los\n",
    " datos de entrada se establecen por medio de variables declaradas al principio de la expresión,\n",
    " luego se escribe una expresión que considera esos datos y el resultado de la evaluación de esa\n",
    " expresión es lo que se emite como resultado. Un procedimiento que emite un valor booleano\n",
    " es un predicado. Por ejemplo la λ-expresión λx•3x = 12 es un procedimiento que toma como\n",
    " dato de entrada un valor x, con el que se debe verificar que 3x = 12; el resultado emitido\n",
    " será True o False, dependiendo del valor de la variable de entrada x. La marca • , sirve para\n",
    " separar las variables de la expresión a evaluar. En Python las λ-expresiones se escriben con\n",
    " el siguiente formato:\n",
    " lambda [params]: expr\n",
    " Que puede leerse como «El predicado [el procedimiento] que requiere los parámetros\n",
    " params, con los que se debe evaluar la expresión expr». Como en λx,y • x + y > 15 y\n",
    " en Python se traduce lambda x,y:x+y>15.\n",
    " El símbolo λ, proviene del λ-cálculo, que es un formalismo dado a conocer por Alonzo\n",
    " Church [Chu36, Chu41], como una manera formal y rigurosa de expresar las nociones de\n",
    " función y aplicación de una función.\n",
    " Cuando se establece el valor para un parámetro, se dice que este ha sido instanciado\n",
    " con el valor dado. El predicado puede ser evaluado una vez que todos sus términos\n",
    " variables han sido instanciados. Un predicado que ya ha sido evaluado se convierte en\n",
    " una proposición.\n",
    " En el momento en que se invoca el predicado se establecen los valores que deben\n",
    " tomar los parámetros del predicado, estos valores específicos se llaman argumentos. Los\n",
    " argumentos también reciben el nombre de argumentos actuales o parámetros actuales\n",
    " [Ben78].\n",
    " Ejemplo 1.11\n",
    " Considera nuevamente el predicado λx•3x = 12. Para evaluar este predicado es necesario asociar\n",
    " la variable x con algún valor adecuado; luego realizar la operación escrita para finalmente emitir\n",
    " el resultado. La evaluación se hace encerrando entre paréntesis el predicado e indicando el valor\n",
    " que debe tomar la variable:\n",
    " (λx•3x =12)(5)\n",
    "28\n",
    " Proposiciones y predicados\n",
    " El número de parámetros en un procedimiento, establece la aridad del mismo\n",
    " [CF08, p. 121]. Así un procedimiento de aridad 0, está definido sin parámetros, por lo\n",
    " que en las invocaciones a un procedimiento de aridad 0, no requiere argumentos. Los\n",
    " procedimientos de aridad 1 requieren un solo argumento en la invocación.\n",
    " Ejemplo 1.12\n",
    " El predicado λx,y•x+2 > y3 es de aridad dos. Ahora se muestra el predicado y los argumentos con\n",
    " los que se instancían los parámetros del predicado, junto con su evaluación. (λx,y•x+2 > y3)(3,4).\n",
    " Aquí x←3,yy←4.EnPythonpodemosescribir:\n",
    " >>> (lambda x,y:2+x > y**3)(3,4)\n",
    " False\"**, siguiendo la estructura:   \n",
    "\n",
    "1. Título de la clase   \n",
    "   \n",
    "2. Objetivo de aprendizaje e indicadores de logro de estos objetivos.   \n",
    "   Diseña la clase incluyendo objetivos de educación matemática basada en el pensamiento crítico.   \n",
    "\n",
    "3.  Un mapa conceptual que resuma la clase elaborado en Graphviz de python con nodos y edges de diferentes formas, colores y rellenos y renderizado en la siguiente ubicación: `\"C:/Users/marco/Downloads\"`. No olvides el parámetro `view = True` para el método `render()` de Graphviz. Para este mapa controla las superposiciones de los nodos con: graph [overlap=false]; // Elimina superposiciones (puede aumentar el espacio)\n",
    "graph [overlap=\"scalexy\"]; // Escala el gráfico para evitar overlaps\n",
    "graph [overlap=\"compress\"]; // Comprime el grafo sin overlaps   \n",
    "   \n",
    "4. Contenido de la clase    \n",
    "   \n",
    "5. Incluye una canción o un poema que ayude a interiorizar y fijar los conceptos asociados a esta clase.  \n",
    "   \n",
    "6. Dame elementos históricos y epistemológicos asociados a esta clase, pero contados como un cuento al estilo de un cuentero antioqueño en Colombia. Incluye imágenes de los protagonistas históricos de esta clase.   \n",
    "   \n",
    "7. Actividades de aprendizaje    \n",
    "     * Incluya actividades de aprendizaje utilizando Calculadora **Casio 991 LA cw**\n",
    "     * Incluya también actividades de aprendizaje y modelación de situaciones o problemas reales a través de circuitos lógicos y circuitos digitales o electrónicos utilizando la aplicación portable cocodrilo. [Descarge esta aplicación portable aquí](https://crocodileclips.net/descargar-crocodile-clips/) \n",
    "     * Incluye actividades de aprendizaje utilizando lenguaje Python y Jupyter Notebook.   \n",
    "\n",
    "8. Incluye una canción o un poema que ayude a interiorizar y fijar los conceptos asociados a esta clase.  \n",
    "\n",
    "9.  Tarea o actividades de ejercitación y fijación.  \n",
    "     * Diseña las tareas de tal manera que en cada ejercicio se realicen las siguientes cuatro preguntas:  \n",
    "        - ¿Por qué esta expresión representa el problema?\n",
    "        - ¿Qué pasaría si cambiamos este valor?\n",
    "        - ¿Hay otra manera de resolverlo?\n",
    "        - ¿Cómo justificas que tu resultado es razonable? \n",
    "    \n",
    "10.  Evaluación incluyendo diez proyectos, un ejemplo de quiz y un ejemplo de parcial.  \n",
    "     * Diseña el quiz con preguntas, donde se pida al estudiante el mostrar la aplicación de las expresiones lógicas en contextos: \n",
    "       - Deportivos\n",
    "       - Cotidianos\n",
    "       - Matemáticas en teoría de números \n",
    "       - Matemáticas en geometría euclidiana\n",
    "       - Matemática en Cálculo Diferencial.\n",
    "       - Económicos. \n",
    "     * Actividad de desarrollo de habilidades metacognitivas para hacernos consientes de nuestro propio proceso de aprendizaje y de la importancia de la evaluación continua.\n",
    "\n",
    "11.  Diseño de actividad de retroalimentación.  \n",
    "      \n",
    "12.  Dame un vocabulario y frases del idioma inglés asociadas a esta clase.   \n",
    "    \n",
    "13.  Incluye apéndice para la clase sobre desarrollo de habilidades para trabajar en equipo y de asertividad y empatía para relacionarnos. También elementos de la inteligencia emocional para presentar pruebas sin temor y desarrollar habilidades metacognitivas.   \n",
    "      \n",
    "14. Incluye 10 referentes en didáctica de la matemática que estén de acuerdo a la propuesta didáctica de esta clase. Adiciona a estos referentes a Raymond Duval (Representaciones y cambios de representación para la adquisición de conceptos matemáticos) y a Jeannette Wing (Desarrollo del pensamiento computacional). Déjame todos estos referentes ordenados de acuerdo a las normas APA. Déjame todos estos referentes ordenados de acuerdo a las normas APA. Incluye las citaciones a estos referentes a medida que vallas diseñando la clase. \n",
    "\n",
    "\n",
    "Pero  que este diseño sea para que el estudiante pueda aprender experimentando en cuadernos Jupyter con funciones de usuario y animaciones y visualizaciones en Python. En particular utiliza para el diseño de clase a NumPy, Pandas, SymPy, Matplotlib.pyplot, Seaborn, Plotly, ipywidgets, matplotlib.animation y Jupyter Notebook.  \n",
    "Cuando vallas a utilizar SymPy, ten en cuanta la siguiente configuración: \n",
    "# Corrección y mejora del código\n",
    "from sympy import symbols, Equivalent\n",
    "from sympy.logic.boolalg import truth_table\n",
    "\n",
    "Cada vez que utilices `matplotlib.animacion` no olvides incluir el uso de `IPython. display` para la renderización de estas animaciones a través de Jupyter Notebook. No olvides darme los diseños de clase con las ecuaciones matemáticas delimitadas con signo de dólar $ para que VS Code si me renderice estas expresiones del lenguaje latex. Cuando vallas a utilizar ipywidgets ten en cuenta la siguiente importación inicial para garantizar que la visualización interactiva si se renderice en VS Code:                                                      \n",
    "import numpy as np\n",
    "import matplotlib.pyplot as plt\n",
    "import ipywidgets as widgets\n",
    "from IPython.display import display, clear_output\n",
    "from matplotlib.patches import Rectangle\n",
    "\n",
    "# Configuración inicial para visualización estática\n",
    "%matplotlib inline "
   ]
  },
  {
   "cell_type": "markdown",
   "id": "f916feb9",
   "metadata": {},
   "source": [
    "# Sobre la lectura interactiva y experimental "
   ]
  },
  {
   "cell_type": "markdown",
   "id": "3cac948a",
   "metadata": {},
   "source": [
    "La **lectura interactiva y experimental** de los cuadernos Jupyter diseñados para el curso de **Fundamentos de Lógica** implica un enfoque dinámico y práctico para el aprendizaje, donde los estudiantes no solo consumen información teórica, sino que también interactúan con el contenido, modifican ejemplos, ejecutan código y experimentan con los conceptos lógicos en un entorno computacional. A continuación, se detallan las características clave de este enfoque:\n",
    "\n",
    "---\n"
   ]
  },
  {
   "cell_type": "markdown",
   "id": "74378817",
   "metadata": {},
   "source": [
    "\n",
    "### **1. Lectura Interactiva**  \n",
    "- **Manipulación directa del contenido**: Los estudiantes pueden ejecutar celdas de código, modificar fórmulas lógicas o ejemplos, y observar cómo cambian los resultados en tiempo real.  \n",
    "- **Visualización interactiva**: Uso de gráficos, diagramas (como árboles semánticos o tablas de verdad) o herramientas que respondan a entradas del usuario para ilustrar conceptos como validez, consistencia o inferencia.  \n",
    "- **Retroalimentación inmediata**: Los cuadernos pueden incluir ejercicios con autoevaluación (ejecutando código que verifica soluciones) o explicaciones emergentes al resolver problemas.  \n",
    "\n",
    "---\n"
   ]
  },
  {
   "cell_type": "markdown",
   "id": "91fe46b8",
   "metadata": {},
   "source": [
    "\n",
    "### **2. Lectura Experimental**  \n",
    "- **Aprendizaje basado en prueba y error**: Los estudiantes pueden \"jugar\" con estructuras lógicas (por ejemplo, modificar conectores en una fórmula proposicional y ver cómo afecta su tabla de verdad).  \n",
    "- **Simulación de escenarios**: Por ejemplo, modelar argumentos en lógica de primer orden y evaluar su corrección mediante ejecución de código (usando librerías como `sympy` o herramientas ad-hoc).  \n",
    "- **Exploración guiada y abierta**: Se incluyen secciones con consignas del tipo *\"¿Qué pasa si cambias este axioma?\"* o *\"Intenta construir un contraejemplo\"* para fomentar la curiosidad.  \n",
    "\n",
    "---\n"
   ]
  },
  {
   "cell_type": "markdown",
   "id": "ffd5f372",
   "metadata": {},
   "source": [
    "\n",
    "### **3. Componentes clave de los cuadernos**  \n",
    "- **Fragmentos de código ejecutable**: Para evaluar expresiones lógicas, automatizar pruebas o implementar algoritmos (ej: verificación de tautologías).  \n",
    "- **Celdas con texto teórico y preguntas reflexivas**: Integradas con ejemplos prácticos que requieren intervención activa (ej: *\"Define aquí tu propia fórmula y comprueba si es satisfacible\"*).  \n",
    "- **Enlaces a recursos externos**: Como demostradores en línea o lecturas complementarias para profundizar.  \n",
    "\n"
   ]
  },
  {
   "cell_type": "markdown",
   "id": "6c515254",
   "metadata": {},
   "source": [
    "\n",
    "\n",
    "### **4. Beneficios pedagógicos**  \n",
    "- **Enganche activo**: Combina teoría y práctica sin salir del entorno digital.  \n",
    "- **Personalización**: Los estudiantes pueden ajustar el ritmo y profundidad de su aprendizaje.  \n",
    "- **Preparación para aplicaciones reales**: Familiariza a los estudiantes con herramientas usadas en investigación (ej: Python para lógica simbólica).  \n",
    "\n"
   ]
  },
  {
   "cell_type": "markdown",
   "id": "6286d5a8",
   "metadata": {},
   "source": [
    "\n",
    "\n",
    "### **Ejemplo concreto**  \n",
    "Un cuaderno podría incluir:  \n",
    "1. Una explicación de *modus ponens* con una fórmula predefinida (`p → q`, `p`, luego `q`).  \n",
    "2. Una celda interactiva donde el estudiante modifique `p` o `q` y observe cómo falla la regla si las premisas cambian.  \n",
    "3. Un ejercicio para programar un verificador de *modus ponens* usando diccionarios de Python.  \n",
    "\n",
    "Este enfoque transforma la lógica (a menudo abstracta) en una experiencia tangible y adaptable."
   ]
  },
  {
   "cell_type": "markdown",
   "id": "8396c0ed",
   "metadata": {},
   "source": [
    "# Presentación de la estructura de la clase  \n"
   ]
  },
  {
   "cell_type": "markdown",
   "id": "4535b4e5",
   "metadata": {},
   "source": [
    "\n",
    "# 1.1 Presentación: Lógica\n"
   ]
  },
  {
   "cell_type": "markdown",
   "id": "e849fabf",
   "metadata": {},
   "source": [
    " \n",
    " «Lógica» es una palabra de origen griego: Logos (λoγoς), que significa razón, reflexión, pensamiento. "
   ]
  },
  {
   "cell_type": "markdown",
   "id": "e1194356",
   "metadata": {},
   "source": [
    "Actualmente se utiliza la palabra «lógica» para designar el estudio\n",
    " formal de los razonamientos y las conclusiones a las que conducen tales razonamientos.\n",
    " En matemáticas ha resultado extremadamente útil tener una manera formal de esta\n",
    "blecer conclusiones a partir de hechos y combinaciones de hechos, porque se evitan así\n",
    " muchas ambigüedades y malos entendidos.\n",
    " Se dice que la lógica es un «sistema formal» porque está constituido por un lenguaje\n",
    " formal, reglas gramaticales y reglas de inferencia. Cada uno de los constituyentes del\n",
    " sistema se debe establecer de antemano, para construir razonamientos a partir de\n",
    " los hechos más básicos y fundamentales, hasta aquellos que se hayan construido al\n",
    " considerar las reglas de inferencia.\n",
    " Particularmente estaremos interesados en el estudio de la lógica simbólica, que hace\n",
    " uso de símbolos para representar tanto los hechos como las reglas de inferencia.\n"
   ]
  },
  {
   "cell_type": "markdown",
   "id": "d7b05b6b",
   "metadata": {},
   "source": [
    " # 1.2 Los valores de verdad\n"
   ]
  },
  {
   "cell_type": "markdown",
   "id": "cc09653e",
   "metadata": {},
   "source": [
    " ## 1.2.1 Valores booleanos\n"
   ]
  },
  {
   "cell_type": "markdown",
   "id": "c702567c",
   "metadata": {},
   "source": [
    " En la lógica clásica, también conocida como dura, o bivalente, hemos de considerar  únicamente dos valores de verdad, el falso y el cierto. "
   ]
  },
  {
   "cell_type": "markdown",
   "id": "fa37a854",
   "metadata": {},
   "source": [
    "Cualquier aseveración lógica tiene\n",
    " exactamente una de esas dos propiedades. El valor falso lo escribiremos con el símbolo\n",
    " False , y el cierto con el símbolo True. Aunque en otras áreas de la lógica, como la\n",
    " lógica multivalente o la lógica difusa se emplean otra gama de valores de verdad, aquí\n",
    " consideraremos solamente False y True como los únicos valores de verdad.\n",
    "22\n"
   ]
  },
  {
   "cell_type": "markdown",
   "id": "ec1cb09f",
   "metadata": {},
   "source": [
    "# Proposiciones y predicados\n"
   ]
  },
  {
   "cell_type": "markdown",
   "id": "7945a118",
   "metadata": {},
   "source": [
    "Hay muchos otros sistemas bivalentes que pueden ser útiles para representar los valores falso y cierto, como el 0 para representar falso y 1 para representar el cierto.\n"
   ]
  },
  {
   "cell_type": "markdown",
   "id": "75d4aa58",
   "metadata": {},
   "source": [
    " Otros sistemas bivalentes pueden ser abajo-arriba; izquierda-derecha, en fin, cualquier\n",
    " conjunto de dos símbolos diferentes entre sí puede servir para representar los valores de\n",
    " verdad False y True.\n",
    " Lalógicamatemáticaesuncampodeestudiosumamente extenso, lo que se presenta aquí\n",
    " es un breve repositorio de definiciones que deben alentar al lector a indagar más sobre el\n",
    " tema. Excelentes libros para empezar un estudio diligente en la lógica matemática son «A\n",
    " Beginner’s Guide to Mathematical Logic» [Smu14] y «Lógica Elemental» [FdPSTF04] pero\n",
    " sin duda, de una rápida búsqueda en internet es posible obtener muchos otros títulos más.\n",
    " Los valores de verdad también se conocen como «valores booleanos» en honor al\n",
    " matemático británico George Boole (1815- 1864), quien nos ha legado lo que ahora\n",
    " conocemos como álgebra de Boole [Boo09], donde se utilizan técnicas algebraicas para\n",
    " operar con proposiciones lógicas. Así los valores booleanos son False y True, y nos\n",
    " referiremos a ambos con el símbolo B, y diremos que representa el dominio de los\n",
    " valores booleanos.\n",
    " 1.2.2 Valores booleanos en Python\n",
    " En Python se dedican las constantes True para el valor cierto y False para el\n",
    " valor falso. Pero Python es un poco menos restrictivo, pues cualquier valor tiene una\n",
    " representación como True o False. Veamos por ejemplo:\n",
    " • 0esFalse. Cualquier valor numérico diferente que 0 es True.\n",
    " • \"\" es False. Cualquier string diferente que \"\" es True.\n",
    " • []esFalse. Cualquier lista diferente que [] es True.\n",
    " • ()esFalse. Cualquier tupla diferente que () es True.\n",
    " Ejemplo 1.1\n",
    " Al utilizar el IDE de Python, en la sección de interacciones escribiremos los valores de verdad\n",
    " para que el intérprete pueda leerlos, evaluarlos y ofrecer una impresión del resultado.\n",
    " >>> True # El símbolo para cierto\n",
    " True\n",
    " >>> False # El símbolo para falso\n",
    " False\n",
    " >>> bool(\"\")\n",
    " False\n",
    " >>> bool(\"hola\")\n",
    " True\n",
    " >>> bool([])\n",
    " False\n",
    " >>> bool([1])\n",
    " True\n",
    " >>>\n",
    " 1.3 Expresiones simbólicas\n",
    " En Pythonhayexpresiones simbólicas primitivas que son las expresiones que no re\n",
    "quieren programación por parte del usuario, ya que han sido programadas previamente\n",
    " y cargadas al sistema de manera automática al iniciar Python. Las expresiones primiti\n",
    "vas ya tienen un valor establecido y no requieren cálculo alguno ni para determinar su\n",
    " valor, ni para utilizarlas.\n",
    "1.3 Expresiones simbólicas\n",
    " 23\n",
    " En Python al igual que en matemáticas, se utilizan símbolos para escribir expre\n",
    "siones, estas se llaman expresiones simbólicas o bien, S-expresiones. En adelante\n",
    " consideraremos sinónimos los términos «S-expresión» y «expresión»; y usaremos el tér\n",
    "mino «S-expresión» para hacer énfasis en que la expresión del lenguaje utiliza símbolos.\n",
    " El entorno de desarrollo integrado (IDE) de Python se maneja en un ciclo interactivo\n",
    " denominado REPL, (del inglés Read, Evaluate, Print, Loop); cada expresión debe ser leída\n",
    " por el intérprete, luego debe evaluarse y el resultado se imprime, o bien se utiliza como\n",
    " entrada para un nuevo ciclo.\n",
    " Una expresión que al ser analizada es finalmente evaluada como True o False se\n",
    " llama expresión lógica, o bien expresión booleana porque su valor es uno del conjunto\n",
    " de valores booleanos.\n",
    " 1.3.1 Expresiones simples\n",
    " En Python hay principalmente dos tipos de S-expresiones, las expresiones simples\n",
    " y las expresiones compuestas. Las expresiones simples son expresiones cuyo valor es\n",
    " la misma expresión, como en el ejemplo 1.1 con los símbolos True o False, para el\n",
    " caso de las expresiones booleanas; pero también los números son expresiones simples\n",
    " como 10, 24.48 o 3+2j; las cadenas de caracteres entre comillas como \"hola mundo\"\n",
    " también son expresiones simples. Las expresiones simples también se conocen como\n",
    " expresiones atómicas.\n",
    " Ejemplo 1.2\n",
    " Expresiones simples\n",
    " • TrueEs un valor de verdad\n",
    " • \"falso\" Es una cadena de texto\n",
    " • 3.14159Es un número\n",
    " • 3j+2Es un número\n",
    " • [’w’, ’x’, ’y’, ’z’]Es una lista de cadenas de texto\n",
    " 1.3.2 Expresiones compuestas\n",
    " Son expresiones que incluyen un símbolo que representa a un operador junto con\n",
    " una o más expresiones, ya sean simples o compuestas. Cada elemento que no es el\n",
    " operador, se llama argumento. Por ejemplo 5+(2*2) es una S-expresión compuesta,\n",
    " de un operador +, con dos argumentos, el 5 que es expresión simple y (2*2) es una\n",
    " expresión compuesta.\n",
    " En el lenguaje cotidiano, frecuentemente podemos encontrar expresiones lógicas\n",
    " compuestas, las expresiones compuestas se escriben agrupando expresiones utilizando\n",
    " operadores lógicos, que se conocen también como conectores o términos de enlace. En\n",
    " Python escribimos expresiones compuestas utilizando paréntesis cuando es necesario\n",
    " agrupar expresiones.\n",
    " Ejemplo 1.3\n",
    " Las siguientes sentencias son expresiones compuestas en el lenguaje cotidiano.\n",
    " • «Los niños son juguetones y traviesos».\n",
    " • «Lamedicina se puede tomar antes o después de la comida».\n",
    " • «El usuario o bien es administrador o es un usuario regular».\n",
    " • «Si llovió, entonces hay humedad».\n",
    "24\n",
    " Proposiciones y predicados\n",
    " Comoreglageneralunaexpresióncompuesta empiezaconunoperador y sus operandos se\n",
    " escriben como una lista entre paréntesis, siguiendo el siguiente patrón\n",
    " operador(operando[...])\n",
    " Separado cada operador con una coma. El símbolo ... significa y así sucesivamente, con cero\n",
    " o más elementos; de paso, hay otro símbolo que utilizaremos de vez en cuando, es ...+ que\n",
    " significa: y así sucesivamente, con uno o más elementos.\n",
    " Ejemplo 1.4\n",
    " Las siguientes son expresiones compuestas:\n",
    " • sumar(4, 5, 6)\n",
    " • map(lambda x: F(x), D)\n",
    " • 5*(3*y+x**2)\n",
    " • 45*q >= L[i]\n",
    " ElnombreenPythonparalosidentificadores de las funciones, se escribirán siguiendo un\n",
    " estilo minusculaMayuscula; mientras que los nombres para las clases y objetos con un\n",
    " estilo PalabrasConMayuscula.\n",
    " 1.3.3 Expresiones proposicionales\n",
    " Una expresión proposicional, como lo dicen Copi y Cohen en [CC13, p. 5], «son el\n",
    " material de nuestro razonamiento». Una proposición es una expresión lógica, por lo que\n",
    " es evaluada o bien como False o como True, pero no puede adquirir ambos valores al\n",
    " mismo tiempo y tampoco es posible que carezca de valor lógico.\n",
    " Las proposiciones también pueden ser simples o compuestas. Las proposiciones\n",
    " simples, también llamadas atómicas, son expresiones lógicas que no pueden seccionarse\n",
    " sin perder el valor de verdad.\n",
    " Ejemplo 1.5\n",
    " Los siguientes ejemplos son proposiciones escritas en el lenguaje cotidiano o lenguaje natural:\n",
    " 1. «Mentira» [significa falso].\n",
    " 2. «Es cierto» [significa cierto].\n",
    " 3. «El número de sesiones ha sobrepasado el límite».\n",
    " Observa que las proposiciones en lenguaje natural están escritas en tiempo presente o en\n",
    " pasado, porque son hechos que ya han sido evaluados.\n",
    " Las siguientes son expresiones simples en Python:\n",
    " 1. True. Es primitiva, significa cierto\n",
    " 2. False. Es primitiva, significa falso\n",
    " 3. 4 == 4.produce verdadero\n",
    " 4. 14 == 5.es evaluado como falso\n",
    " EnPython,unaexpresiónprimitiva ya cuenta con el valor de todos sus argumentos, por lo\n",
    " que no requiere la evaluación de alguna subexpresión para determinar su valor.\n",
    " Ejemplo 1.6\n",
    " Las siguientes expresiones NO son proposiciones lógicas:\n",
    " • «¿Cómosefabrica el pan?». Es una pregunta, no un valor de verdad.\n",
    " • «Sirve la mesa». Es una orden, no un valor booleano.\n",
    " • 3x>27.No es posible determinar el valor de verdad.\n",
    "1.3 Expresiones simbólicas\n",
    " 25\n",
    " Las proposiciones compuestas son proposiciones que incluyen otras expresiones\n",
    " simples o compuestas.\n",
    " Ejemplo 1.7\n",
    " Las siguientes expresiones son proposiciones compuestas:\n",
    " • «El usuario lleva 3 horas de uso continuo o el usuario no ha hecho modificaciones».\n",
    " • «Si Roberto es constante en sus pagos y paga puntualmente, entonces Roberto es recompen\n",
    "sado como cliente distinguido».\n",
    " • 3∗4=4∗3.\n",
    " • 2>(2+2)\n",
    " Al evaluar las expresiones se obtiene un valor, por ejemplo la expresión 2 > (2+2) al\n",
    " ser evaluada debe ser interpretada como False, por lo que se puede escribir\n",
    " 2 >(2+2)→False\n",
    " Utilizaremos el símbolo → para decir «es evaluado como», o «produce el valor», o\n",
    " simplemente «produce».\n",
    " En general, al escribir\n",
    " ⟨expresión⟩→⟨valor|tipo⟩,\n",
    " se debe entender que se está evaluando la expresión a la izquierda de la flecha y se\n",
    " devuelve el valor o el tipo de dato que aparece a la derecha de la flecha. Esta práctica es\n",
    " común al utilizar Python con anotaciones de tipos 1.\n",
    " 1.3.4 Definiendo proposiciones en Python\n",
    " EnPythonesposiblecrearproposicionesaldefinirconceptosconunvalordeverdad.\n",
    " El lenguaje Pythonesunlenguajefuncional,estosignifica quesedebencrearsegmentos\n",
    " de código con alguna funcionalidad específica. Este es un método de definición, donde\n",
    " el identificador es el significante y la funcionalidad es el significado. Particularmente en\n",
    " el caso de las proposiciones, el significado siempre es un valor de verdad, o bien una\n",
    " expresión primitiva o compuesta que finalmente sea evaluada con un valor de verdad.\n",
    " >>> elPatoEsAve = True\n",
    " >>> elPatoEsAveyElGatoEsMamifero = False\n",
    " >>>\n",
    " Python asocia un valor a un identificador. El concepto definido es el identificador y\n",
    " su significado es el valor asociado. En lo sucesivo, cuando se solicite el significado de\n",
    " ese nuevo concepto y mientras la memoria de la computadora no se restablezca, ya se\n",
    " conocerá su significado:\n",
    " >>> elPatoEsAve\n",
    " True\n",
    " >>>\n",
    " Una notación que también se utilizará frecuentemente en este texto, es la nota\n",
    "ción para asignar un valor a una variable, siguiendo el ejemplo, podemos escribir:\n",
    " elPatoEsAve=True,quesignifica literalmente «se le asigna el valor True a la variable\n",
    " elPatoEsAve», una traducción alternativa es «elPatoEsAve←True ». El símbolo ←, se\n",
    " usa al escribir algoritmos o en el lenguaje convencional de matemáticas para asignar un\n",
    " valor a una variable.\n",
    " 1https://docs.python.org/3/library/typing.html\n",
    "26\n",
    " Proposiciones y predicados\n",
    " Ejemplo 1.8\n",
    " Supongamos que se tiene la expresión «Gustavo es usuario autorizado», la cual queremos modelar\n",
    " en Python. Podemos crear un identificador gustavoEsUsuarioAutorizado y definirlo como\n",
    " una proposición con valor de verdad True. Un primer acercamiento es escribir:\n",
    " gustavoEsUsuarioAutorizado ←True\n",
    " lo que puede ser modelado en Python como:\n",
    " gustavoEsUsuarioAutorizado = True.\n",
    " Recordemos que en Python se utiliza un símbolo = para la asignación y el símbolo compuesto\n",
    " == para la comparación. Una vez que se ha definido el nuevo concepto, es posible utilizarlo\n",
    " sabiendo el valor de verdad con el cual ha sido definido:\n",
    " >>> gustavoEsUsuarioAutorizado\n",
    " True\n",
    " >>>\n",
    " Utilizar un concepto que no ha sido definido previamente ocasiona un error.\n",
    " >>> hoyEsSoleado\n",
    " NameError: name ’hoyEsSoleado’ is not defined\n",
    " >>> hoyEsSoleado = True\n",
    " >>> hoyEsSoleado\n",
    " True\n",
    " >>>\n",
    " Al definir proposiciones en Python, el significante [el identificador] no necesaria\n",
    "mente debe tener sentido para las personas; por ejemplo xy345 es un identificador\n",
    " válido, también lo son home o casa, que no necesariamente tienen relación de significa\n",
    "do alguno entre sí.\n",
    " Preferiblemente se deben escribir identificadores con sentido, al menos para el\n",
    " programador y que tengan relación con un significado ya conocido, principalmente es\n",
    " para beneficio de las personas que revisen el código fuente.\n",
    " Ejemplo 1.9\n",
    " Las siguientes proposiciones están correctamente definidas, pero son muy largas o confusas.\n",
    " >>> elLunesEsDomingo = True\n",
    " >>> losPerrosSonPeces = True\n",
    " >>> losPerrosSonPeces\n",
    " True\n",
    " >>>\n",
    " Las siguientes proposiciones son correctamente definidas y más amigables para el lector humano.\n",
    " >>> llueve = True\n",
    " >>> haceFrio = False\n",
    " >>> haceFrio\n",
    " False\n",
    " >>>\n",
    " 1.4 Predicados\n",
    " Unpredicado es un procedimiento que contiene expresiones de valor desconocido,\n",
    " que al proporcionar tales valores y ser evaluado, genera un valor de verdad. Los identifi\n",
    "cadores cuyo valor es desconocido se conocen como parámetros, también son conocidos\n",
    " como parámetros formales o argumentos ficticios [Ben78].\n",
    "1.4 Predicados\n",
    " 27\n",
    " En el lenguaje natural, los predicados están asociados con expresiones en tiempo\n",
    " gramatical futuro, pues aún no se conoce con certeza el valor de al menos uno de\n",
    " los componentes de la expresión. En matemáticas, las incógnitas frecuentemente se\n",
    " escriben con los símbolos x,y o z; en lógica es frecuente usar símbolos p,q o r.\n",
    " El valor de verdad de un predicado depende del valor de cada uno de sus parámetros\n",
    " y de cómose combinan. Los parámetros no siempre son expresiones lógicas, también\n",
    " pueden constituirse de expresiones construidas con números, cadenas de caracteres o\n",
    " cualquier otro objeto; cuando una expresión tiene elementos que no son booleanos, debe\n",
    " haber operaciones que permitan que la evaluación final de la expresión tenga un valor\n",
    " booleano.\n",
    " Ejemplo 1.10\n",
    " Las siguientes expresiones son el mismo predicado. El primero está escrito como λ-expresión; el\n",
    " segundo en la notación de Python [ver la nota siguiente sobre expresiones lambda]; y el tercero\n",
    " en lenguaje natural:\n",
    " • λx•3x=12.\n",
    " • lambda x: 3*x == 12.\n",
    " • «El triple de un número es doce».\n",
    " Unaexpresiónlambda,escritatambiéncomoλ-expresión,sirveparaescribirprocedimientos.\n",
    " Un procedimiento toma algunos datos de entrada, los procesa y emite un resultado. Los\n",
    " datos de entrada se establecen por medio de variables declaradas al principio de la expresión,\n",
    " luego se escribe una expresión que considera esos datos y el resultado de la evaluación de esa\n",
    " expresión es lo que se emite como resultado. Un procedimiento que emite un valor booleano\n",
    " es un predicado. Por ejemplo la λ-expresión λx•3x = 12 es un procedimiento que toma como\n",
    " dato de entrada un valor x, con el que se debe verificar que 3x = 12; el resultado emitido\n",
    " será True o False, dependiendo del valor de la variable de entrada x. La marca • , sirve para\n",
    " separar las variables de la expresión a evaluar. En Python las λ-expresiones se escriben con\n",
    " el siguiente formato:\n",
    " lambda [params]: expr\n",
    " Que puede leerse como «El predicado [el procedimiento] que requiere los parámetros\n",
    " params, con los que se debe evaluar la expresión expr». Como en λx,y • x + y > 15 y\n",
    " en Python se traduce lambda x,y:x+y>15.\n",
    " El símbolo λ, proviene del λ-cálculo, que es un formalismo dado a conocer por Alonzo\n",
    " Church [Chu36, Chu41], como una manera formal y rigurosa de expresar las nociones de\n",
    " función y aplicación de una función.\n",
    " Cuando se establece el valor para un parámetro, se dice que este ha sido instanciado\n",
    " con el valor dado. El predicado puede ser evaluado una vez que todos sus términos\n",
    " variables han sido instanciados. Un predicado que ya ha sido evaluado se convierte en\n",
    " una proposición.\n",
    " En el momento en que se invoca el predicado se establecen los valores que deben\n",
    " tomar los parámetros del predicado, estos valores específicos se llaman argumentos. Los\n",
    " argumentos también reciben el nombre de argumentos actuales o parámetros actuales\n",
    " [Ben78].\n",
    " Ejemplo 1.11\n",
    " Considera nuevamente el predicado λx•3x = 12. Para evaluar este predicado es necesario asociar\n",
    " la variable x con algún valor adecuado; luego realizar la operación escrita para finalmente emitir\n",
    " el resultado. La evaluación se hace encerrando entre paréntesis el predicado e indicando el valor\n",
    " que debe tomar la variable:\n",
    " (λx•3x =12)(5)\n",
    "28\n"
   ]
  },
  {
   "cell_type": "markdown",
   "id": "4e47ff38",
   "metadata": {},
   "source": [
    " Proposiciones y predicados\n",
    " El número de parámetros en un procedimiento, establece la aridad del mismo\n",
    " [CF08, p. 121]. Así un procedimiento de aridad 0, está definido sin parámetros, por lo\n",
    " que en las invocaciones a un procedimiento de aridad 0, no requiere argumentos. Los\n",
    " procedimientos de aridad 1 requieren un solo argumento en la invocación.\n"
   ]
  },
  {
   "cell_type": "markdown",
   "id": "0dbe9a5d",
   "metadata": {},
   "source": [
    " Ejemplo 1.12\n"
   ]
  },
  {
   "cell_type": "markdown",
   "id": "af3d4d5f",
   "metadata": {},
   "source": [
    " El predicado λx,y•x+2 > y3 es de aridad dos. Ahora se muestra el predicado y los argumentos con\n",
    " los que se instancían los parámetros del predicado, junto con su evaluación. (λx,y•x+2 > y3)(3,4).\n",
    " Aquí x←3,yy←4.EnPythonpodemosescribir:\n",
    " >>> (lambda x,y:2+x > y**3)(3,4)\n",
    " False\n"
   ]
  },
  {
   "cell_type": "markdown",
   "id": "5be17738",
   "metadata": {},
   "source": [
    "# Presentación de la clase 1 de lógica con python  \n"
   ]
  },
  {
   "cell_type": "markdown",
   "id": "575fc614",
   "metadata": {},
   "source": [
    "\n",
    "# 🎭 Diseño de Clase STEAM: Lógica Simbólica con Python y ABPP\n"
   ]
  },
  {
   "cell_type": "markdown",
   "id": "589be223",
   "metadata": {},
   "source": [
    "\n",
    "## 1. Título de la Clase  \n",
    "**\"Del Logos Griego al Código Python: Un Viaje Interdisciplinar por la Lógica Simbólica\"**  \n",
    "\n",
    "---\n",
    "\n",
    "## 2. Objetivos de Aprendizaje  \n",
    "### **Objetivo Principal**:  \n",
    "Diseñar sistemas de razonamiento formal aplicando lógica simbólica en contextos computacionales y matemáticos, integrando arte, historia y tecnología.  \n",
    "\n",
    "### **Indicadores de Logro**:  \n",
    "✅ Construye proposiciones compuestas usando operadores lógicos en Python  \n",
    "✅ Modela predicados como funciones lambda y las aplica en problemas reales  \n",
    "✅ Visualiza tablas de verdad con herramientas digitales interactivas  \n",
    "✅ Diseña circuitos lógicos equivalentes a expresiones booleanas  \n",
    "\n",
    "### **Pensamiento Crítico Matemático**:  \n",
    "- **Análisis**: Descomponer problemas complejos en proposiciones atómicas  \n",
    "- **Evaluación**: Contrastar diferentes representaciones de un mismo razonamiento (TRRS)  \n",
    "- **Creatividad**: Generar analogías entre sistemas formales y fenómenos cotidianos  \n",
    "\n",
    "---\n"
   ]
  },
  {
   "cell_type": "markdown",
   "id": "c05d7f00",
   "metadata": {},
   "source": [
    "\n",
    "## 3. Mapa Conceptual (Graphviz)  \n",
    "```python\n",
    "from graphviz import Digraph\n",
    "\n",
    "# Configuración del grafo\n",
    "logica = Digraph('Lógica_Simbólica', format='png', \n",
    "                 graph_attr={'overlap': 'scalexy', 'splines': 'true', 'bgcolor': '#FFF5E6'},\n",
    "                 node_attr={'style': 'filled', 'fillcolor': '#E6F3FF', 'shape': 'box3d', 'color': '#0066CC'},\n",
    "                 edge_attr={'color': '#4DA6FF', 'arrowsize': '0.7'})\n",
    "\n",
    "# Nodos principales\n",
    "logica.node('A', 'Lógica Simbólica\\n(λόγος)', shape='ellipse', fillcolor='#FFE6E6')\n",
    "logica.node('B', 'Sistemas Formales\\n(Lenguaje + Reglas)', shape='pentagon')\n",
    "logica.node('C', 'Valores Booleanos\\n(True/False)', shape='diamond', fillcolor='#E6FFE6')\n",
    "logica.node('D', 'Aplicaciones\\nSTEAM', shape='star', fillcolor='#FFFFE6')\n",
    "\n",
    "# Subnodos\n",
    "logica.node('B1', 'Proposiciones\\n(Atómicas/Compuestas)')\n",
    "logica.node('B2', 'Predicados\\n(Funciones λ)')\n",
    "logica.node('C1', 'Operadores Lógicos\\n(AND, OR, NOT)')\n",
    "logica.node('C2', 'Tablas de Verdad')\n",
    "logica.node('D1', 'Circuitos Digitales')\n",
    "logica.node('D2', 'Inteligencia Artificial')\n",
    "logica.node('D3', 'Teoría de Números')\n",
    "\n",
    "# Conexiones\n",
    "logica.edges(['AB', 'AC', 'AD'])\n",
    "logica.edges(['BB1', 'BB2', 'CC1', 'CC2', 'DD1', 'DD2', 'DD3'])\n",
    "logica.edge('B1', 'C1', constraint='false')\n",
    "logica.edge('B2', 'C2', constraint='false')\n",
    "logica.edge('C1', 'D1', constraint='false')\n",
    "\n",
    "# Renderizar\n",
    "logica.render('C:/Users/marco/Downloads/logica_simbolica', view=True, cleanup=True)\n",
    "```\n",
    "\n",
    "---\n"
   ]
  },
  {
   "cell_type": "markdown",
   "id": "e3e76c0f",
   "metadata": {},
   "source": [
    "\n",
    "## 4. Contenido de la Clase  \n",
    "\n",
    "### **4.1 Fundamentos Epistemológicos**  \n",
    "```python\n",
    "from IPython.display import Image\n",
    "Image(url=\"https://upload.wikimedia.org/wikipedia/commons/5/5c/George_Boole_color.jpg\", width=200, height=250)\n",
    "```\n",
    "*\"En el frío Nottingham del siglo XIX, un joven George Boole (1815-1864) soñaba con atrapar el pensamiento humano en ecuaciones. Como un alquimista moderno, transformó 'verdad' y 'falsedad' en 1s y 0s, creando el álgebra que hoy alimenta desde tu smartphone hasta los cohetes espaciales. ¡Vaya revolución para un hijo de zapatero!\"*  \n",
    "\n",
    "---\n",
    "\n",
    "### **4.2 Poema Didáctico**  \n",
    "**\"El Código del Filósofo\"**  \n",
    "```\n",
    "Los griegos con su Logos,  \n",
    "Boole con su álgebra,  \n",
    "Python con sus bools,  \n",
    "¡Vaya herencia algebraica!  \n",
    "\n",
    "True y False son luces  \n",
    "que en el código brillan,  \n",
    "como faros lógicos  \n",
    "que a puertos nos guían.  \n",
    "\n",
    "¡Oh, dulce contradicción,  \n",
    "paradójica emoción,  \n",
    "cuando XOR baila  \n",
    "en mi procesador!  \n",
    "```\n",
    "\n",
    "---\n",
    "\n",
    "## 5. Actividades de Aprendizaje  \n",
    "\n",
    "### **5.1 Exploración con Python (Jupyter Notebook)**  \n",
    "```python\n",
    "import numpy as np\n",
    "import ipywidgets as widgets\n",
    "from IPython.display import display, Markdown\n",
    "\n",
    "# Widget interactivo para explorar operadores lógicos\n",
    "def logica_interactiva(a, b, operador):\n",
    "    ops = {\n",
    "        'AND': a and b,\n",
    "        'OR': a or b,\n",
    "        'XOR': (a and not b) or (not a and b),\n",
    "        'NAND': not (a and b),\n",
    "        'NOR': not (a or b)\n",
    "    }\n",
    "    resultado = ops[operador]\n",
    "    display(Markdown(f\"### {a} {operador} {b} → **{resultado}**\"))\n",
    "    \n",
    "widgets.interact(\n",
    "    logica_interactiva,\n",
    "    a=widgets.Checkbox(value=True, description='A:'),\n",
    "    b=widgets.Checkbox(value=False, description='B:'),\n",
    "    operador=widgets.Dropdown(\n",
    "        options=['AND', 'OR', 'XOR', 'NAND', 'NOR'],\n",
    "        value='AND',\n",
    "        description='Operador:'\n",
    "    )\n",
    ");\n",
    "```\n",
    "\n",
    "### **5.2 Simulación de Circuitos (Crocodile Clips)**  \n",
    "**Actividad**: Diseñar un circuito que implemente la función lógica:  \n",
    "$f(a,b) = (a \\lor b) \\land \\neg(a \\land b)$  \n",
    "\n",
    "```python\n",
    "Image(url=\"https://i.imgur.com/JZk8bFg.png\", width=400)\n",
    "```\n",
    "\n",
    "### **5.3 Modelado Matemático con SymPy**  \n",
    "```python\n",
    "from sympy import symbols, And, Or, Not, Equivalent\n",
    "from sympy.logic.boolalg import truth_table\n",
    "\n",
    "# Definición de variables simbólicas\n",
    "p, q = symbols('p q')\n",
    "\n",
    "# Proposición compuesta\n",
    "expresion = Or(And(p, q), Not(Or(p, q)))\n",
    "\n",
    "# Tabla de verdad\n",
    "display(Markdown(\"#### Tabla de Verdad para $(p ∧ q) ∨ ¬(p ∨ q)$\"))\n",
    "for t in truth_table(expresion, [p, q]):\n",
    "    display(Markdown(f\"- {t[0]} → **{t[1]}**\"))\n",
    "```\n",
    "\n",
    "---\n"
   ]
  },
  {
   "cell_type": "markdown",
   "id": "e3f0a7f8",
   "metadata": {},
   "source": [
    "\n",
    "## 6. Evaluación  \n",
    "\n",
    "### **Proyecto 1**: \"Traductor de Lenguaje Natural a Expresiones Booleanas\"  \n",
    "**Consigna**: Crear un programa en Python que identifique proposiciones en textos y las convierta a expresiones simbólicas.  \n",
    "\n",
    "### **Quiz Ejemplo**:  \n",
    "**Pregunta 5 (Contexto Deportivo)**:  \n",
    "*\"En el fútbol, un penal es válido si el balón cruzó completamente la línea de gol Y no hubo fuera de juego previo. Expresar esta condición como función booleana.\"*  \n",
    "\n",
    "```python\n",
    "def penal_valido(cruzo_linea, hubo_fuera):\n",
    "    return cruzo_linea and not hubo_fuera\n",
    "```\n",
    "\n",
    "---\n",
    "\n",
    "## 7. Referentes Didácticos (APA)  \n",
    "\n",
    "1. Duval, R. (2006). *Un tema crucial en la educación matemática: La habilidad para cambiar el registro de representación*. Revista EMA, 9(1), 109-135.  \n",
    "2. Wing, J. M. (2006). *Computational thinking*. Communications of the ACM, 49(3), 33-35.  \n",
    "3. Polya, G. (1945). *How to solve it*. Princeton University Press.  \n",
    "4. ... (lista completa disponible en el material complementario)  \n",
    "\n",
    "--- \n",
    "\n",
    "## 8. Vocabulario Inglés  \n",
    "- **Truth value**: Valor de verdad  \n",
    "- **Boolean algebra**: Álgebra booleana  \n",
    "- **Predicate function**: Función predicado  \n",
    "- **Logical gate**: Compuerta lógica  \n",
    "\n",
    "```python\n",
    "# Configuración final para animaciones\n",
    "from matplotlib.animation import FuncAnimation\n",
    "from IPython.display import HTML\n",
    "\n",
    "def animate_truth_table():\n",
    "    fig, ax = plt.subplots()\n",
    "    ax.set_xlim(0, 3)\n",
    "    ax.set_ylim(0, 3)\n",
    "    patches = []\n",
    "    \n",
    "    def update(frame):\n",
    "        ax.clear()\n",
    "        # Lógica de animación aquí\n",
    "        return patches\n",
    "    \n",
    "    ani = FuncAnimation(fig, update, frames=4, interval=1000)\n",
    "    return HTML(ani.to_jshtml())\n",
    "\n",
    "display(animate_truth_table())\n",
    "``` \n",
    "\n",
    "Este diseño integra los principios STEAM y ABPP mediante:  \n",
    "- **Conexiones Arte-Ciencia**: Poema y contexto histórico  \n",
    "- **Aprendizaje Activo**: Manipulación directa de conceptos mediante código  \n",
    "- **TRRS**: Conversión entre representaciones (texto ↔ símbolos ↔ circuitos)  \n",
    "- **Evaluación Auténtica**: Proyectos aplicados a problemas reales"
   ]
  },
  {
   "cell_type": "markdown",
   "id": "a53359fd",
   "metadata": {},
   "source": [
    "Aquí tienes un **diseño de práctica de codificación en Python** para el tema de **lógica simbólica y valores booleanos**, con ejercicios teórico-prácticos y tareas asignadas:\n",
    "\n",
    "---\n",
    "\n",
    "### **Tema de Clase: Lógica Simbólica y Valores Booleanos**  \n",
    "**Objetivos**:  \n",
    "1. Comprender los conceptos básicos de lógica proposicional.  \n",
    "2. Manipular valores booleanos (`True`, `False`) y operadores lógicos en Python.  \n",
    "3. Aplicar la lógica para resolver problemas simples.  \n",
    "\n",
    "---\n"
   ]
  },
  {
   "cell_type": "markdown",
   "id": "ff441a14",
   "metadata": {},
   "source": [
    "\n",
    "### **Práctica en Clase**  \n",
    "#### **1. Introducción a Booleanos en Python**  \n",
    "**Código base**:  \n",
    "```python\n",
    "# Definición de valores de verdad\n",
    "verdadero = True\n",
    "falso = False\n",
    "\n",
    "print(\"¿Verdadero es igual a True?\", verdadero == True)\n",
    "print(\"¿Falso es igual a 0?\", falso == 0)  # En Python, False == 0 y True == 1\n",
    "```\n",
    "\n",
    "**Ejercicio práctico**:  \n",
    "- Modifica el código para verificar si `True` es igual a `1` y `False` es igual a `\" \"` (cadena vacía).  \n",
    "- Explica por qué `True + True = 2` en Python.  \n",
    "\n",
    "---\n",
    "\n",
    "#### **2. Operadores Lógicos**  \n",
    "**Tabla de operadores**:  \n",
    "| Operador | Significado | Ejemplo Python |  \n",
    "|----------|-------------|----------------|  \n",
    "| `and`    | Conjunción  | `True and False → False` |  \n",
    "| `or`     | Disyunción  | `True or False → True` |  \n",
    "| `not`    | Negación    | `not True → False` |  \n",
    "\n",
    "**Código de ejemplo**:  \n",
    "```python\n",
    "a = True\n",
    "b = False\n",
    "\n",
    "print(\"a AND b:\", a and b)  # False\n",
    "print(\"a OR b:\", a or b)    # True\n",
    "print(\"NOT a:\", not a)      # False\n",
    "```\n",
    "\n",
    "**Ejercicio práctico**:  \n",
    "- Escribe una expresión que evalúe a `True` solo si `a` es `False` y `b` es `True`.  \n",
    "- Crea una tabla de verdad para `(a or b) and not a`.  \n",
    "\n",
    "---\n",
    "\n",
    "#### **3. Proposiciones y Predicados**  \n",
    "**Ejemplo con funciones**:  \n",
    "```python\n",
    "def es_par(n):\n",
    "    return n % 2 == 0  # Predicado lógico\n",
    "\n",
    "print(\"¿4 es par?\", es_par(4))  # True\n",
    "print(\"¿5 es par?\", es_par(5))  # False\n",
    "```\n",
    "\n",
    "**Ejercicio práctico**:  \n",
    "- Define una función `es_divisible_por_3(n)` que retorne `True` si `n` es divisible por 3.  \n",
    "- Combínala con `es_par(n)` para verificar si un número es divisible por 6.  \n",
    "\n",
    "---\n",
    "\n",
    "### **Tareas Asignadas**  \n",
    "#### **Tarea 1: Teoría**  \n",
    "1. Investiga y explica la diferencia entre **lógica clásica** y **lógica difusa** (máx. 1 página).  \n",
    "2. ¿Por qué en Python se considera `True == 1` y `False == 0`?  \n",
    "\n",
    "#### **Tarea 2: Codificación**  \n",
    "1. Escribe un programa que tome dos valores booleanos (`a` y `b`) e imprima la tabla de verdad para:  \n",
    "   - `not (a and b)`  \n",
    "   - `(a or b) and (not a or not b)`  \n",
    "\n",
    "#### **Tarea 3: Aplicación**  \n",
    "1. Crea una función `es_bisiesto(año)` que retorne `True` si el año es bisiesto (usa reglas lógicas: divisible por 4 pero no por 100, a menos que también sea divisible por 400).  \n",
    "   ```python\n",
    "   def es_bisiesto(año):\n",
    "       return (año % 4 == 0 and año % 100 != 0) or (año % 400 == 0)\n",
    "   ```\n",
    "\n",
    "---\n",
    "\n",
    "### **Recursos Adicionales**  \n",
    "- **Libro**: *\"Python for Everybody\"* (Charles Severance) - Capítulo sobre lógica booleana.  \n",
    "- **Interactive**: [Python Tutor](https://pythontutor.com/) para visualizar ejecuciones paso a paso.  \n",
    "\n",
    "Este diseño combina fundamentos teóricos con ejercicios prácticos, ideal para una sesión de 2 horas. ¿Necesitas ajustar el nivel de complejidad?"
   ]
  },
  {
   "cell_type": "markdown",
   "id": "b2d5cdaa",
   "metadata": {},
   "source": [
    "[Video de apoyo a la lectura de la estructura de esta clase]()"
   ]
  },
  {
   "cell_type": "markdown",
   "id": "0b1db193",
   "metadata": {},
   "source": [
    "# Implementación de la clase "
   ]
  },
  {
   "cell_type": "markdown",
   "id": "36bc2964",
   "metadata": {},
   "source": [
    "# Desarrollo de habilidades Metacognitivas en enseñanza con metodología IAE \n",
    "\n",
    "Desarrollar habilidades metacognitivas en los estudiantes dentro de una **Investigación Acción Educativa (IAE)** implica un proceso cíclico de reflexión, acción y evaluación. Aquí te propongo una estrategia estructurada en fases, alineada con la IAE, para fomentar la metacognición:\n",
    "\n",
    "---\n"
   ]
  },
  {
   "cell_type": "markdown",
   "id": "42be70b3",
   "metadata": {},
   "source": [
    "\n",
    "### **1. Diagnóstico Inicial (Fase de Observación)**  \n",
    "- **Identifica el nivel metacognitivo actual**:  \n",
    "  - Realiza cuestionarios, entrevistas o actividades reflexivas (ej.: \"¿Cómo estudiaste para el último examen? ¿Qué te funcionó o no?\").  \n",
    "  - Observa si los estudiantes pueden explicar sus procesos de aprendizaje o identificar dificultades.  \n",
    "\n",
    "- **Registra evidencias**: Anota cómo los estudiantes planifican, monitorean y evalúan sus tareas (ej.: diarios de aprendizaje, grabaciones de debates).  \n",
    "\n",
    "---\n"
   ]
  },
  {
   "cell_type": "markdown",
   "id": "e252e7b1",
   "metadata": {},
   "source": [
    "\n",
    "### **2. Diseño de Intervenciones (Fase de Planificación)**  \n",
    "**a. Enseñanza explícita de estrategias metacognitivas**:  \n",
    "  - **Modelado**: Muestra cómo *tú* piensas al resolver un problema (\"Pensamiento en voz alta\"). Ejemplo:  \n",
    "    *\"Primero, voy a leer el objetivo de la clase. Luego, revisaré si entiendo los conceptos clave...\"*.  \n",
    "  - **Listas de verificación (checklists)**: Proporciona guías para autoevaluarse (ej.: \"¿Puedo explicar este tema con mis propias palabras?\").  \n",
    "\n",
    "**b. Herramientas para la autorregulación**:  \n",
    "  - **Diarios de aprendizaje**: Pide que registren:  \n",
    "    - *\"¿Qué aprendí hoy?\"* (conocimiento).  \n",
    "    - *\"¿Cómo lo aprendí?\"* (proceso).  \n",
    "    - *\"¿Qué me falta por entender?\"* (brechas).  \n",
    "  - **Rúbricas de autoevaluación**: Incluye criterios como: *\"Puedo resolver ejercicios sin ayuda\"* o *\"Sé dónde buscar información confiable\"*.  \n",
    "\n",
    "**c. Espacios de reflexión colaborativa**:  \n",
    "  - **Debates metacognitivos**: En grupos, discuten: *\"¿Qué estrategia usamos? ¿Funcionó? ¿Por qué?\"*.  \n",
    "  - **Peer feedback**: Intercambian comentarios sobre sus procesos (ej.: \"Tú organizaste bien tus ideas, pero podrías revisar las fuentes\").  \n",
    "\n",
    "---\n",
    "\n",
    "### **3. Implementación (Fase de Acción)**  \n",
    "- **Integra la metacognición en las actividades cotidianas**:  \n",
    "  - Antes de una tarea: *\"¿Qué sabes ya sobre este tema? ¿Cómo planeas abordarlo?\"*.  \n",
    "  - Durante la tarea: *\"¿Estás siguiendo tu plan? ¿Necesitas ajustarlo?\"*.  \n",
    "  - Después: *\"¿Lograste el objetivo? ¿Qué cambiarías la próxima vez?\"*.  \n",
    "- **Usa preguntas clave**:  \n",
    "  - *\"¿Qué parte fue más difícil? ¿Por qué?\"* (identificación de obstáculos).  \n",
    "  - *\"Si tuvieras que enseñarle esto a un compañero, ¿cómo lo harías?\"* (transferencia).  \n",
    "\n",
    "---\n",
    "\n",
    "### **4. Evaluación y Reflexión (Fase de Observación/Reflexión)**  \n",
    "- **Analiza el impacto**: Compara evidencias pre y post intervención (ej.: diarios, desempeño en tareas).  \n",
    "- **Reflexión grupal**: Realiza una sesión donde los estudiantes compartan:  \n",
    "  - *\"¿Qué estrategias metacognitivas les ayudaron más?\"*.  \n",
    "  - *\"¿Cómo se sintieron al gestionar su aprendizaje?\"*.  \n",
    "- **Ajusta la intervención**: Si notas que persisten dificultades, propón nuevas herramientas (ej.: mapas conceptuales para organizar ideas).  \n",
    "\n",
    "---\n",
    "\n",
    "### **5. Iteración (Ciclo de IAE)**  \n",
    "Repite el ciclo con ajustes basados en los hallazgos. Por ejemplo:  \n",
    "- Si los estudiantes no identifican errores, introduce actividades de *análisis de errores* (\"¿Por qué te equivocaste? ¿Cómo corregirlo?\").  \n",
    "- Si les cuesta planificar, usa herramientas visuales como *diagramas de flujo* para secuenciar pasos.  \n",
    "\n",
    "---\n",
    "\n",
    "### **Ejemplo Práctico**  \n",
    "**Situación**: Estudiantes no revisan sus errores en matemáticas.  \n",
    "- **Intervención**:  \n",
    "  1. **Modelado**: Resuelves un problema cometiendo un error adrede y muestras cómo detectarlo.  \n",
    "  2. **Checklist**: \"¿Revisé cada paso? ¿Mi respuesta tiene sentido?\".  \n",
    "  3. **Diario**: \"Hoy cometí un error en... Lo corregí cambiando...\".  \n",
    "\n",
    "---\n",
    "\n",
    "### **Claves para el Éxito**  \n",
    "- **Consistencia**: Integra la metacognición en todas las clases, no como actividad aislada.  \n",
    "- **Andamiaje**: Reduce gradualmente la guía del docente a medida que los estudiantes ganan autonomía.  \n",
    "- **Cultura de error**: Normaliza los errores como parte del aprendizaje (\"¿Qué podemos aprender de esto?\").  \n",
    "\n",
    "La metacognición no solo mejora el logro académico, sino que empodera a los estudiantes para ser aprendices autónomos y resilientes. En la IAE, este proceso se enriquece al ser colaborativo (docente-estudiantes) y basado en evidencia concreta.  \n",
    "\n",
    "¿Te gustaría profundizar en alguna herramienta específica o ajustar la estrategia a un nivel educativo en particular?"
   ]
  },
  {
   "cell_type": "markdown",
   "id": "239427f7",
   "metadata": {},
   "source": [
    "# ARTÍCULO 1. Definir el calendario académico para los diferentes programas de pregrado de los campus\n",
    "regionalizados, correspondiente al primer periodo académico del año 2025, así:  \n",
    "\n",
    "\n",
    "\n",
    "\n",
    "* Inicio de clases 10 de febrero de 2025\n",
    "* Límite evaluación del 40% 06 de abril de 2025\n",
    "* Terminación de clases 08 de junio de 2025\n",
    "* Exámenes finales 09 al 15 de junio de 2025\n",
    "* Habilitación y validación 16 al 22 de junio de 2025\n",
    "* Terminación oficial 23 de junio de 2025"
   ]
  },
  {
   "cell_type": "code",
   "execution_count": null,
   "id": "c804f8d3",
   "metadata": {},
   "outputs": [],
   "source": []
  },
  {
   "cell_type": "code",
   "execution_count": null,
   "id": "cc539357",
   "metadata": {},
   "outputs": [],
   "source": []
  },
  {
   "cell_type": "markdown",
   "id": "8ba64aed",
   "metadata": {},
   "source": [
    "# Cursos que orienta el profesor Marco Julio Cañas Campillo en 2025  \n",
    "\n",
    "1. Cálculo Vectorial para Ingeniería Agropecuaria\n",
    "2. Análisis Numérico para Licenciatura en Matemáticas. \n",
    "3. Práctica Pedagógica V para Licenciatura en Educación Infantil\n",
    "4. Fundamentos de Lógica para Licenciatura en Matemáticas \n"
   ]
  },
  {
   "cell_type": "markdown",
   "id": "8d41fe58",
   "metadata": {
    "slideshow": {
     "slide_type": "slide"
    }
   },
   "source": [
    "# Horario de clases del profesor Marco\n",
    "\n",
    "* Lunes 8-12: Cálculo Vectorial\n",
    "* Martes 8-12 M: Análisis Numérico. \n",
    "* Miércoles 10 a 11 M: Machine Learnig\n",
    "* Miércoles de 3 a 4 de la tarde: ARIMA\n",
    "* Jueves 2 a 6 PM: Práctica Pedagógica V: Desarrollo del pensamiento matemático en   \n",
    "  la infancia. \n",
    "* Viernes 8 - 12 M: Fundamentos de Lógica. \n",
    "* Sábados 8-12 Asesorías y espacio para retroalimentación y apoyo al trabajo independiente  \n",
    "  y desarrollo de habilidades metacognitivas. "
   ]
  },
  {
   "cell_type": "markdown",
   "id": "ae114e14",
   "metadata": {
    "slideshow": {
     "slide_type": "slide"
    }
   },
   "source": [
    "# Coordinador de los cursos de la Facultad de Educación para regiones:    \n",
    "\n",
    "Andrés Vélez: regioneducacion.fedu@udea.edu.co  \n",
    "Coordinador Regiones  \n",
    "Facultad de Educación  \n",
    "Universidad de Antioquia  "
   ]
  },
  {
   "cell_type": "markdown",
   "id": "b1db4b6c",
   "metadata": {
    "slideshow": {
     "slide_type": "slide"
    }
   },
   "source": [
    "## Monitores\n",
    "* Manuel San Juan Serrano: Contactar escribiendo al correo: manuel.serrano1@udea.edu.co\n",
    "* Yeifry Sebastián Uribe: Contactar escribiendo al correo: yeifry.uribe@udea.edu.co"
   ]
  },
  {
   "cell_type": "markdown",
   "id": "10bce0d0",
   "metadata": {
    "slideshow": {
     "slide_type": "slide"
    }
   },
   "source": [
    "## Referentes "
   ]
  },
  {
   "cell_type": "markdown",
   "id": "1db3c468",
   "metadata": {
    "slideshow": {
     "slide_type": "slide"
    }
   },
   "source": [
    "* [Jupyter Book de fundamentos_logica](file:///C:/Users/marco/Documentos/docencia/fundamentos_logica/fundamentos_logica_book/_build/html/index.html)\n",
    "\n",
    "\n",
    "* [Decargue Crocodile Clip aquí](https://crocodileclips.net/descargar-crocodile-clips/)\n",
    "\n",
    "* [Matemáticas discretas Una introducción abierta, 3ª edición](https://discrete.openmathbooks.org/dmoi3.html)  \n",
    "  \n",
    "* [Desarrollo del pensamiento matemático con calculadora Casio ](https://bibliotecadigital.udea.edu.co/entities/publication/17180405-9f1d-4800-aa7c-e6369779cece)\n",
    "\n",
    "* [CALCULO I DE UNA VARIABLE Ron Larson-Bruce Edwards. Mc Graw Hill. 9º Edición](https://www.academia.edu/42139251/CALCULO_I_DE_UNA_VARIABLE_Ron_Larson_Bruce_Edwards_Mc_Graw_Hill_9o_Edici%C3%B3n)   \n",
    "  \n",
    "\n",
    "* [Grajales Vanegas, L. M., Restrepo Estrada, C. E., Restrepo Ochoa, S. I., & Ruíz De Villalba, F. (2015). Matemáticas I para las ciencias económicas.](https://bibliotecadigital.udea.edu.co/handle/10495/3010)\n",
    "  \n",
    "* R. Duval y Semiosis y pensamiento humano, 2.ª ed. Cali, Colombia: Programa Editorial Universidad del Valle, 2017. [En línea]. Disponible en: https://programaeditorial.univalle.edu.co/gpd-semiosis-y-pensamiento-humano-9789587655278-63324cdb0f6b3.html\n",
    "\n",
    "* [Aylwin, C. U. (2011). Lógica, conjuntos y números. Universidad de los Andes, Consejo de Publicaciones, Colección: Ciencias Básicas, Serie: Matemáticas.](chrome-extension://efaidnbmnnnibpcajpcglclefindmkaj/https://www.u-cursos.cl/ciencias/2011/1/MC110/1/material_docente/bajar?id_material=574722)\n",
    "  \n",
    "* [Chollet, F. (2021). Deep learning with Python. Simon and Schuster.](chrome-extension://efaidnbmnnnibpcajpcglclefindmkaj/https://tanthiamhuat.wordpress.com/wp-content/uploads/2018/03/deeplearningwithpython.pdf)  \n",
    "  \n",
    "* [Watson, S., Stewart, J., & Redlin, L. (2009). Precálculo. Matemáticas para el cálculo.](chrome-extension://efaidnbmnnnibpcajpcglclefindmkaj/https://students.aiu.edu/submissions/profiles/resources/onlineBook/k6L8A3_precalculo_-_matematicas_para_el_calculo-1.pdf)  \n",
    "\n",
    "* [Purcell, E. J., Varberg, D., & Rigdon, S. E. (2007). Cálculo diferencial e integral. Pearson Educación.](https://github.com/marco-canas/calculo/blob/main/referents/purcell/purcell_calculo.pdf)\n",
    "\n",
    "  \n",
    "\n",
    "* [stewart cálculo](https://udeaeduco-my.sharepoint.com/:b:/g/personal/marco_canas_udea_edu_co/EZgXZjAp8QxPqOAim2hs6LcBNPLGjSHf-xwYnUVYkwa04w?e=RZdTCy)  \n",
    "\n",
    "\n",
    "* [Recomendación de la UNESCO sobre ciencia abierta](https://unesdoc.unesco.org/ark:/48223/pf0000379949_spa)\n",
    "\n",
    "* [chatGPT](https://openai.com/blog/chatgpt)  \n",
    "\n",
    "* [Géron, A. (2017). Hands-on machine learning with scikit-learn and tensorflow: Concepts. Tools, and Techniques to build intelligent systems.](chrome-extension://efaidnbmnnnibpcajpcglclefindmkaj/http://14.139.161.31/OddSem-0822-1122/Hands-On_Machine_Learning_with_Scikit-Learn-Keras-and-TensorFlow-2nd-Edition-Aurelien-Geron.pdf)   \n"
   ]
  },
  {
   "cell_type": "markdown",
   "id": "df925560",
   "metadata": {},
   "source": [
    "\n",
    "* [McKinney, W. (2012). Python for data analysis: Data wrangling with Pandas, NumPy, and IPython. \" O'Reilly Media, Inc.\".](https://wesmckinney.com/book/) "
   ]
  },
  {
   "cell_type": "markdown",
   "id": "8e65d6f9",
   "metadata": {},
   "source": [
    "# Como estudiante, encuentro que...   \n",
    "\n",
    "F: Mis Fortalezas son:     \n",
    "O: Mis Oportunidades son:    \n",
    "D: Mis Debilidades son:    \n",
    "A: Lo que Amenazas mi aprendizaje es:  "
   ]
  },
  {
   "cell_type": "markdown",
   "id": "6b9e56a8",
   "metadata": {
    "slideshow": {
     "slide_type": "slide"
    }
   },
   "source": [
    "### [Evaluamos al profesor Marco Cañas Aquí](https://forms.office.com/Pages/ResponsePage.aspx?id=IefhmYRxjkmK_7KtTlPBwkanXIs1i1FEujpsZgO6dXpUREJPV1kxUk1JV1ozTFJIQVNIQjY5WEY3US4u)"
   ]
  },
  {
   "cell_type": "markdown",
   "id": "10f43536",
   "metadata": {
    "slideshow": {
     "slide_type": "slide"
    }
   },
   "source": [
    "### Continue su aprendizaje en la siguiente clase a través del siguiente [vínculo]()"
   ]
  },
  {
   "cell_type": "markdown",
   "id": "53cc9115",
   "metadata": {
    "slideshow": {
     "slide_type": "slide"
    }
   },
   "source": [
    "## Agradecimientos  \n",
    "\n",
    "Doy gracias a Dios por la vida de mi Hijo Joseph Cañas Osorio y la madurez que ha alcanzado. Este hijo me enorgullece y me hace falta abrazarlo cada día. \n",
    "\n",
    "Y a mi esposa Yasmira Emperatriz Barboza Mogollón por su apoyo, orientación y acompañamiento. "
   ]
  },
  {
   "cell_type": "markdown",
   "id": "b6ba1c23",
   "metadata": {},
   "source": [
    "# Apéndice sobre calendarios y coordinaciones \n",
    "\n",
    "A continuación le envío el horario de la asignatura Cálculo Vectorial  \n",
    "\n",
    "Días:  \n",
    "Lunes - Hora: 7:00 a 12:00M  \n",
    "Fechas:  \n",
    "Febrero: 10-17-24                                          \n",
    " Marzo: 3-10-17-31                                                  \n",
    "Abril:7-21-28                                                   \n",
    "Mayo:5-12-19  \n",
    "\n",
    "Agradezco su apoyo, y si presenta alguna dificultad puede contactarme.  \n",
    "\n",
    "Cordialmente,  \n",
    "Juan Felipe Rivera Hernández  \n",
    "Contacto: 3106314300  "
   ]
  },
  {
   "cell_type": "markdown",
   "id": "0e66cd7c",
   "metadata": {},
   "source": [
    "# Clase de análisis numérico los Martes de 8 a 12 del medio día. "
   ]
  },
  {
   "cell_type": "markdown",
   "id": "c5ff61b1",
   "metadata": {},
   "source": []
  }
 ],
 "metadata": {
  "celltoolbar": "Slideshow",
  "kernelspec": {
   "display_name": ".venv",
   "language": "python",
   "name": "python3"
  },
  "language_info": {
   "codemirror_mode": {
    "name": "ipython",
    "version": 3
   },
   "file_extension": ".py",
   "mimetype": "text/x-python",
   "name": "python",
   "nbconvert_exporter": "python",
   "pygments_lexer": "ipython3",
   "version": "3.12.6"
  },
  "rise": {
   "enable_chalkboard": true,
   "theme": "sky",
   "transition": "zoom"
  }
 },
 "nbformat": 4,
 "nbformat_minor": 5
}
