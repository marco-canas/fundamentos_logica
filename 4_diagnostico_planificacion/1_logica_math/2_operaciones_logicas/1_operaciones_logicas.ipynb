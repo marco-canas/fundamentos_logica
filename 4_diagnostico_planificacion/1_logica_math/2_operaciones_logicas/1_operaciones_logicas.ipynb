{
 "cells": [
  {
   "cell_type": "markdown",
   "id": "dc06dec7",
   "metadata": {
    "slideshow": {
     "slide_type": "slide"
    }
   },
   "source": [
    "<table align=\"left\">\n",
    "  <td>\n",
    "    <a href=\"https://colab.research.google.com/github/marco-canas/fundamentos_logica/blob/main/4_diagnostico_planificacion/1_logica_math/2_operaciones_logicas/1_operaciones_logicas.ipynb\" target=\"_parent\"><img src=\"https://colab.research.google.com/assets/colab-badge.svg\" alt=\"Open In Colab\"/></a>\n",
    "  </td>\n",
    "  <td>\n",
    "    <a target=\"_blank\" href=\"https://colab.research.google.com/github/marco-canas/fundamentos_logica/blob/main/4_diagnostico_planificacion/1_logica_math/2_operaciones_logicas/1_operaciones_logicas.ipynb\"><img src=\"https://kaggle.com/static/images/open-in-kaggle.svg\" /></a>\n",
    "  </td>\n",
    "</table>"
   ]
  },
  {
   "cell_type": "code",
   "execution_count": 10,
   "id": "a53f1df5",
   "metadata": {},
   "outputs": [],
   "source": [
    "# función de usuario para el código QR \n",
    "\n",
    "# Instalación necesaria si no tienes qrcode\n",
    "# # !pip install qrcode[pil]\n",
    "\n",
    "import qrcode\n",
    "from IPython.display import Image, display\n",
    "from io import BytesIO\n",
    "\n",
    "def generar_qr(url: str, box_size: int = 10, border: int = 4):\n",
    "    \"\"\"\n",
    "    Genera y muestra en Jupyter un código QR para la URL dada.\n",
    "    \n",
    "    Parámetros:\n",
    "    -----------\n",
    "    url : str\n",
    "        Dirección web o texto a codificar en el QR.\n",
    "    box_size : int\n",
    "        Tamaño de cada caja (pixel) en el QR.\n",
    "    border : int\n",
    "        Grosor del borde del QR (en cajas).\n",
    "    \"\"\"\n",
    "    # Crear el objeto QR\n",
    "    qr = qrcode.QRCode(\n",
    "        version=1,\n",
    "        box_size=box_size,\n",
    "        border=border\n",
    "    )\n",
    "    qr.add_data(url)\n",
    "    qr.make(fit=True)\n",
    "\n",
    "    # Convertir a imagen\n",
    "    img = qr.make_image(fill_color=\"black\", back_color=\"white\")\n",
    "\n",
    "    # Guardar en memoria para mostrar en Jupyter\n",
    "    buffer = BytesIO()\n",
    "    img.save(buffer, format=\"PNG\")\n",
    "    buffer.seek(0)\n",
    "    display(Image(data=buffer.getvalue()))\n"
   ]
  },
  {
   "cell_type": "code",
   "execution_count": 11,
   "id": "cc2ddb21",
   "metadata": {},
   "outputs": [
    {
     "data": {
      "image/png": "[encoded data removed]",
      "text/plain": [
       "<IPython.core.display.Image object>"
      ]
     },
     "metadata": {},
     "output_type": "display_data"
    }
   ],
   "source": [
    "generar_qr('https://colab.research.google.com/github/marco-canas/fundamentos_logica/blob/main/4_diagnostico_planificacion/1_logica_math/2_operaciones_logicas/1_operaciones_logicas.ipynb')"
   ]
  },
  {
   "cell_type": "markdown",
   "id": "e0c5b198",
   "metadata": {
    "slideshow": {
     "slide_type": "slide"
    }
   },
   "source": [
    "### [Video de apoyo a la lectura interactiva y experimental de este cuaderno](https://www.youtube.com/watch?v=D_bYRAQNnTo)"
   ]
  },
  {
   "cell_type": "markdown",
   "id": "41e82203",
   "metadata": {
    "slideshow": {
     "slide_type": "slide"
    }
   },
   "source": [
    "### [Vínculo al programa del curso de Fundamentos de Lógica:](https://github.com/marco-canas/fundamentos_logica/blob/main/3_programa_curso/2_programa_logica.md)\n",
    "\n"
   ]
  },
  {
   "cell_type": "markdown",
   "id": "d11ab06d",
   "metadata": {
    "slideshow": {
     "slide_type": "slide"
    }
   },
   "source": [
    "Un reconocimiento a mis estudiantes que han construido conmigo este saber pedagógico:\n",
    "\n",
    "<img src = 'https://github.com/marco-canas/fundamentos_logica/blob/main/images/analisis_numerico_2025-05-27.jpeg?raw=true'>  \n",
    "\n"
   ]
  },
  {
   "cell_type": "code",
   "execution_count": 12,
   "id": "b179a7ed",
   "metadata": {},
   "outputs": [
    {
     "data": {
      "application/vnd.microsoft.datawrangler.viewer.v0+json": {
       "columns": [
        {
         "name": "index",
         "rawType": "int64",
         "type": "integer"
        },
        {
         "name": "Cedula",
         "rawType": "int64",
         "type": "integer"
        },
        {
         "name": "Nombre",
         "rawType": "object",
         "type": "string"
        },
        {
         "name": "Email",
         "rawType": "object",
         "type": "string"
        }
       ],
       "ref": "9a6b8a61-8b03-436e-923e-ed09a84c9c3f",
       "rows": [
        [
         "1",
         "1066727564",
         "ARIAS ARRIETA FREDY",
         "fredy.arias1@udea.edu.co"
        ],
        [
         "2",
         "1066512662",
         "BOHORQUEZ NAVARRO DINA ESTELA",
         "dina.bohorquez@udea.edu.co"
        ],
        [
         "3",
         "1216729759",
         "CARDONA RAMÍREZ SARA PAULINA",
         "sara.cardona7@udea.edu.co"
        ],
        [
         "4",
         "5798176",
         "CASTANEDA REINOZA DIEGO",
         "diego.castaneda2@udea.edu.co"
        ],
        [
         "5",
         "1001549324",
         "HERRERA CASTILLO LUKAS MATEO",
         "lukas.herrera@udea.edu.co"
        ],
        [
         "6",
         "1066600808",
         "LUCAS FLOREZ NAYELIS NATALIA",
         "natalia.lucas@udea.edu.co"
        ],
        [
         "7",
         "1038096462",
         "OCHOA ARRIETA JUAN ANDRES",
         "juan.ochoaa1@udea.edu.co"
        ],
        [
         "8",
         "1129805697",
         "RUIZ CARDENAS LUIS MARIO",
         "luismario.ruiz@udea.edu.co"
        ],
        [
         "9",
         "1137974924",
         "TAMAYO DE LA OSSA SARA",
         "sara.tamayod@udea.edu.co"
        ]
       ],
       "shape": {
        "columns": 3,
        "rows": 9
       }
      },
      "text/html": [
       "<div>\n",
       "<style scoped>\n",
       "    .dataframe tbody tr th:only-of-type {\n",
       "        vertical-align: middle;\n",
       "    }\n",
       "\n",
       "    .dataframe tbody tr th {\n",
       "        vertical-align: top;\n",
       "    }\n",
       "\n",
       "    .dataframe thead th {\n",
       "        text-align: right;\n",
       "    }\n",
       "</style>\n",
       "<table border=\"1\" class=\"dataframe\">\n",
       "  <thead>\n",
       "    <tr style=\"text-align: right;\">\n",
       "      <th></th>\n",
       "      <th>Cedula</th>\n",
       "      <th>Nombre</th>\n",
       "      <th>Email</th>\n",
       "    </tr>\n",
       "  </thead>\n",
       "  <tbody>\n",
       "    <tr>\n",
       "      <th>1</th>\n",
       "      <td>1066727564</td>\n",
       "      <td>ARIAS ARRIETA FREDY</td>\n",
       "      <td>fredy.arias1@udea.edu.co</td>\n",
       "    </tr>\n",
       "    <tr>\n",
       "      <th>2</th>\n",
       "      <td>1066512662</td>\n",
       "      <td>BOHORQUEZ NAVARRO DINA ESTELA</td>\n",
       "      <td>dina.bohorquez@udea.edu.co</td>\n",
       "    </tr>\n",
       "    <tr>\n",
       "      <th>3</th>\n",
       "      <td>1216729759</td>\n",
       "      <td>CARDONA RAMÍREZ SARA PAULINA</td>\n",
       "      <td>sara.cardona7@udea.edu.co</td>\n",
       "    </tr>\n",
       "    <tr>\n",
       "      <th>4</th>\n",
       "      <td>5798176</td>\n",
       "      <td>CASTANEDA REINOZA DIEGO</td>\n",
       "      <td>diego.castaneda2@udea.edu.co</td>\n",
       "    </tr>\n",
       "    <tr>\n",
       "      <th>5</th>\n",
       "      <td>1001549324</td>\n",
       "      <td>HERRERA CASTILLO LUKAS MATEO</td>\n",
       "      <td>lukas.herrera@udea.edu.co</td>\n",
       "    </tr>\n",
       "    <tr>\n",
       "      <th>6</th>\n",
       "      <td>1066600808</td>\n",
       "      <td>LUCAS FLOREZ NAYELIS NATALIA</td>\n",
       "      <td>natalia.lucas@udea.edu.co</td>\n",
       "    </tr>\n",
       "    <tr>\n",
       "      <th>7</th>\n",
       "      <td>1038096462</td>\n",
       "      <td>OCHOA ARRIETA JUAN ANDRES</td>\n",
       "      <td>juan.ochoaa1@udea.edu.co</td>\n",
       "    </tr>\n",
       "    <tr>\n",
       "      <th>8</th>\n",
       "      <td>1129805697</td>\n",
       "      <td>RUIZ CARDENAS LUIS MARIO</td>\n",
       "      <td>luismario.ruiz@udea.edu.co</td>\n",
       "    </tr>\n",
       "    <tr>\n",
       "      <th>9</th>\n",
       "      <td>1137974924</td>\n",
       "      <td>TAMAYO DE LA OSSA SARA</td>\n",
       "      <td>sara.tamayod@udea.edu.co</td>\n",
       "    </tr>\n",
       "  </tbody>\n",
       "</table>\n",
       "</div>"
      ],
      "text/plain": [
       "       Cedula                         Nombre                         Email\n",
       "1  1066727564            ARIAS ARRIETA FREDY      fredy.arias1@udea.edu.co\n",
       "2  1066512662  BOHORQUEZ NAVARRO DINA ESTELA    dina.bohorquez@udea.edu.co\n",
       "3  1216729759   CARDONA RAMÍREZ SARA PAULINA     sara.cardona7@udea.edu.co\n",
       "4     5798176        CASTANEDA REINOZA DIEGO  diego.castaneda2@udea.edu.co\n",
       "5  1001549324   HERRERA CASTILLO LUKAS MATEO     lukas.herrera@udea.edu.co\n",
       "6  1066600808   LUCAS FLOREZ NAYELIS NATALIA     natalia.lucas@udea.edu.co\n",
       "7  1038096462      OCHOA ARRIETA JUAN ANDRES      juan.ochoaa1@udea.edu.co\n",
       "8  1129805697       RUIZ CARDENAS LUIS MARIO    luismario.ruiz@udea.edu.co\n",
       "9  1137974924         TAMAYO DE LA OSSA SARA      sara.tamayod@udea.edu.co"
      ]
     },
     "execution_count": 12,
     "metadata": {},
     "output_type": "execute_result"
    }
   ],
   "source": [
    "import pandas as pd\n",
    "import numpy as np\n",
    "\n",
    "# Cargar la lista de estudiantes desde el archivo CSV\n",
    "path = 'C:/Users/marco/Documentos/docencia/groups_list/logica.xlsx'\n",
    "df = pd.read_excel(path)\n",
    "df.head(9) \n",
    "df.index = range(1,10)\n",
    "df"
   ]
  },
  {
   "cell_type": "markdown",
   "id": "d7598d0a-d9b7-4ae0-b029-a0ed6ed1130b",
   "metadata": {},
   "source": [
    "\n",
    "# Principios de mi labor docente"
   ]
  },
  {
   "cell_type": "markdown",
   "id": "4f9d8cf9",
   "metadata": {
    "slideshow": {
     "slide_type": "slide"
    }
   },
   "source": [
    "## Modelo general de clase: [aula invertida](https://www3.gobiernodecanarias.org/medusa/ecoescuela/pedagotic/aprendizaje-invertido-flipped-classroom/)"
   ]
  },
  {
   "cell_type": "markdown",
   "id": "eb6ed03a",
   "metadata": {},
   "source": [
    "<img src = 'https://resources.maneuveringthemiddle.com/wp-content/uploads/2020/07/04212706/1-5.png' width = 500>  \n",
    "\n"
   ]
  },
  {
   "cell_type": "markdown",
   "id": "34319cce-a71b-4f64-aab8-b53e521efa40",
   "metadata": {},
   "source": [
    "# Metodología de Aprendizaje Basado en Problemas y Proyectos (ABPP)\n"
   ]
  },
  {
   "cell_type": "markdown",
   "id": "c4f73d81",
   "metadata": {},
   "source": [
    "\n",
    "<img src = 'https://www.unir.net/wp-content/uploads/2020/07/aprendizaje-problemas2-1-1-1-1.jpeg' width = 500>"
   ]
  },
  {
   "cell_type": "markdown",
   "id": "841a985c-bd9b-4dd3-8e4c-893983980af2",
   "metadata": {},
   "source": [
    "# Desarrollo del pensamiento computacional con Lenguaje Python y R y con archivos R Markdown y ipynb orientado a la formación en ciencia de datos \n",
    "\n"
   ]
  },
  {
   "cell_type": "markdown",
   "id": "3d0eba94",
   "metadata": {},
   "source": [
    "\n",
    "<img src = 'https://i.ytimg.com/vi/mcG_wcR4e6M/maxresdefault.jpg' width = 200>"
   ]
  },
  {
   "cell_type": "markdown",
   "id": "65aa0404-f7ae-495e-864c-1aec01b4255e",
   "metadata": {},
   "source": [
    "# Principio de fomento a la ciencia abierta, enseñar en el acceso a los datos públicos y el uso de software de código abierto  \n"
   ]
  },
  {
   "cell_type": "markdown",
   "id": "18ae9b87",
   "metadata": {},
   "source": [
    "\n",
    "<img src = 'https://unesdoc.unesco.org/in/rest/Thumb/image?id=p%3A%3Ausmarcdef_0000379949_spa&author=UNESCO&title=Recomendaci%C3%B3n+de+la+UNESCO+sobre+la+Ciencia+Abierta&year=2021&publisher=UNESCO&TypeOfDocument=UnescoPhysicalDocument&mat=PGD&ct=true&size=512&isPhysical=1' width = 200>"
   ]
  },
  {
   "cell_type": "markdown",
   "id": "d9559f85",
   "metadata": {},
   "source": [
    "El enfoque STEAMS en educación preescolar, primaria y secundaria es una extensión del enfoque STEM (Ciencia, Tecnología, Ingeniería y Matemáticas) y su variante STEAM, que incorpora el Arte. "
   ]
  },
  {
   "cell_type": "markdown",
   "id": "72e1cfd2",
   "metadata": {},
   "source": [
    "El acrónimo STEAMS incluye:\n"
   ]
  },
  {
   "cell_type": "markdown",
   "id": "0130ec1b",
   "metadata": {},
   "source": [
    "\n",
    "<img src = 'https://www.campuseducacion.com/blog/wp-content/uploads/2023/03/foto01-1.jpg' width = 200>"
   ]
  },
  {
   "cell_type": "markdown",
   "id": "995f71fa",
   "metadata": {},
   "source": [
    "# Y Enfoque Teoría de Registros de Representación Semiótica (TRRS) de Duval "
   ]
  },
  {
   "cell_type": "markdown",
   "id": "9d15c10d-2c02-4158-9419-b1ed79b4c1ee",
   "metadata": {},
   "source": [
    "# Qué estamos haciendo por la internalización en esta clase y este curso  \n"
   ]
  },
  {
   "cell_type": "markdown",
   "id": "964d9de7-53ee-4255-9bcd-d8e6454f2993",
   "metadata": {},
   "source": [
    "### 1. **Visión Global en la Formación Académica**\n"
   ]
  },
  {
   "cell_type": "markdown",
   "id": "d9bdd3e2",
   "metadata": {},
   "source": [
    "   - **Competencias Internacionales**: Busco que el contenido de mis cursos fomente habilidades que sean reconocidas globalmente. "
   ]
  },
  {
   "cell_type": "markdown",
   "id": "74984bb5",
   "metadata": {},
   "source": [
    "Al educar a los estudiantes en **Python, LaTeX, Markdown y Jupyter Notebooks** y en la **introducción a la ciencia de datos y técnicas de Machine Learning**, estás proporcionando competencias altamente demandadas en los sectores tecnológicos y académicos a nivel internacional.\n"
   ]
  },
  {
   "cell_type": "markdown",
   "id": "39b55206",
   "metadata": {},
   "source": [
    "   - **Relevancia de los Contenidos**: Destaca cómo los temas que enseñas, como el **desarrollo del pensamiento computacional** y la **ciencia de datos**, están alineados con las necesidades globales actuales en diversas industrias, desde la tecnología hasta las ciencias naturales y sociales.\n"
   ]
  },
  {
   "cell_type": "markdown",
   "id": "a054599e",
   "metadata": {},
   "source": [
    "   - **Referencias a Estándares Internacionales**: Puedes vincular tu enseñanza a estándares internacionales de competencias en programación y ciencia de datos (por ejemplo, frameworks del **IEEE, ACM**, y estándares de la **data science** o la **computación en la nube**)."
   ]
  },
  {
   "cell_type": "markdown",
   "id": "0f1d110c-3142-48fe-9e7d-5fbd9e8bb931",
   "metadata": {},
   "source": [
    "### 2. **Innovación Pedagógica con Enfoque Internacional**\n"
   ]
  },
  {
   "cell_type": "markdown",
   "id": "fae6ae34",
   "metadata": {},
   "source": [
    "   - **Aula Invertida y ABPP**: Presenta cómo tu enfoque de **aula invertida** y **Aprendizaje Basado en Problemas y Proyectos (ABPP)** permite a los estudiantes trabajar de manera autónoma y colaborativa, lo que los prepara para escenarios laborales internacionales que requieren autoaprendizaje y habilidades de resolución de problemas en equipo.\n"
   ]
  },
  {
   "cell_type": "markdown",
   "id": "c83062d9",
   "metadata": {},
   "source": [
    "   - **Uso de Jupyter Notebooks**: El uso de **Jupyter Notebooks** en tus clases no solo facilita la **integración de código, matemáticas y texto**, sino que también es una plataforma utilizada globalmente en ambientes académicos y profesionales, lo que hace a tus estudiantes más competitivos internacionalmente."
   ]
  },
  {
   "cell_type": "markdown",
   "id": "960d52b7-03cd-4eb3-965e-5cdfeb7d9f8e",
   "metadata": {},
   "source": [
    "### 3. **Tecnología y Herramientas de Uso Global**\n"
   ]
  },
  {
   "cell_type": "markdown",
   "id": "4be7269f",
   "metadata": {},
   "source": [
    "   - **Lenguaje Python**: Python es uno de los lenguajes de programación más usados a nivel mundial, tanto en la academia como en la industria. Al formar a tus estudiantes en Python para ciencia de datos y machine learning, los preparas para operar en entornos tecnológicos globales.\n"
   ]
  },
  {
   "cell_type": "markdown",
   "id": "102655af",
   "metadata": {},
   "source": [
    "   - **Herramientas de Ciencia Abierta**: Resalta cómo herramientas como **GitHub**, **Google Colab** y otras plataformas de código abierto están alineadas con el movimiento de **ciencia abierta**, el cual es internacionalmente reconocido y permite que los estudiantes colaboren y compartan proyectos a nivel global."
   ]
  },
  {
   "cell_type": "markdown",
   "id": "3b2ffa32-7a6f-4545-ba7b-c6a69f51109f",
   "metadata": {},
   "source": [
    "### 4. **Investigación y Publicaciones Internacionales**\n"
   ]
  },
  {
   "cell_type": "markdown",
   "id": "bdbf52a5",
   "metadata": {},
   "source": [
    "   - **Promoción de la Investigación**: Detalla cómo promueves que tus estudiantes participen en proyectos de **investigación aplicada**, con posibilidad de publicación en revistas internacionales. Esto contribuye a la reputación internacional de la Universidad de Antioquia.\n"
   ]
  },
  {
   "cell_type": "markdown",
   "id": "ea01fcbc",
   "metadata": {},
   "source": [
    "   - **Colaboraciones Internacionales**: Si has colaborado con investigadores de otras instituciones o universidades en el extranjero, menciona estos proyectos y cómo han enriquecido tu enseñanza y proporcionado a los estudiantes una visión más globalizada."
   ]
  },
  {
   "cell_type": "markdown",
   "id": "5d1e396e-aece-4bf7-9421-32fa7809eaf4",
   "metadata": {},
   "source": [
    "## 5. **Uso del Inglés para la Internacionalización**\n"
   ]
  },
  {
   "cell_type": "markdown",
   "id": "29cabf26",
   "metadata": {},
   "source": [
    "   - **Comunicación Científica en Inglés**: "
   ]
  },
  {
   "cell_type": "markdown",
   "id": "8ec53ff3",
   "metadata": {},
   "source": [
    "Fomentar el aprendizaje del inglés como lengua científica es clave para que tus estudiantes puedan acceder a publicaciones internacionales, conferencias, y material académico que no está disponible en español. "
   ]
  },
  {
   "cell_type": "markdown",
   "id": "0ab3104b",
   "metadata": {},
   "source": [
    "Esto es esencial para que adquieran competencias que les permitan desempeñarse en cualquier contexto internacional.\n"
   ]
  },
  {
   "cell_type": "markdown",
   "id": "b831224f",
   "metadata": {},
   "source": [
    "   - **Material Bilingüe**: Al generar material educativo en Python, LaTeX y Markdown, considera ofrecer algunos de estos recursos en inglés, para que los estudiantes se familiaricen con el vocabulario técnico y científico internacional."
   ]
  },
  {
   "cell_type": "markdown",
   "id": "c6a8c3b0-426a-4692-a384-3065aea81c9a",
   "metadata": {},
   "source": [
    "### 6. **Certificaciones y Estándares Internacionales**\n"
   ]
  },
  {
   "cell_type": "markdown",
   "id": "b1f41da5",
   "metadata": {},
   "source": [
    "   - **Participación en Certificaciones Internacionales**: Impulsa que los estudiantes busquen certificaciones internacionales en Python o ciencia de datos (como las ofrecidas por **Coursera, edX,** o **Google**). Estas certificaciones no solo validan sus competencias, sino que también incrementan el reconocimiento de la Universidad de Antioquia en el contexto internacional.\n"
   ]
  },
  {
   "cell_type": "markdown",
   "id": "7cc66317",
   "metadata": {},
   "source": [
    "   - **Alineación con Acreditaciones Internacionales**: Vincula tu trabajo docente con los estándares de acreditación y certificación que garantizan que la universidad siga siendo reconocida internacionalmente. "
   ]
  },
  {
   "cell_type": "markdown",
   "id": "66ba7570",
   "metadata": {},
   "source": [
    "Puedes vincularte con organizaciones internacionales que promuevan la excelencia en la educación y tecnología, como **ABET** para la acreditación en ingeniería y ciencias computacionales."
   ]
  },
  {
   "cell_type": "markdown",
   "id": "65d3d9e1-ea84-43e0-8197-a2a9c9e21594",
   "metadata": {},
   "source": [
    "### 7. **Proyectos Abiertos y Ciencia Reproducible**\n"
   ]
  },
  {
   "cell_type": "markdown",
   "id": "f03f7b20",
   "metadata": {},
   "source": [
    "   - **GitHub y Open Science**: La utilización de **GitHub** para almacenar los proyectos y materiales de enseñanza en repositorios públicos permite que otros investigadores y educadores internacionales puedan revisar y replicar tu trabajo. "
   ]
  },
  {
   "cell_type": "markdown",
   "id": "346badc3",
   "metadata": {},
   "source": [
    "Esto contribuye a la creación de una red de colaboración científica abierta.\n"
   ]
  },
  {
   "cell_type": "markdown",
   "id": "44fc92f6",
   "metadata": {},
   "source": [
    "   - **Transparencia y Reproducibilidad**: La ciencia de datos y machine learning están profundamente ligados a la reproducibilidad. "
   ]
  },
  {
   "cell_type": "markdown",
   "id": "1fa6867f",
   "metadata": {},
   "source": [
    "Asegura que mis estudiantes desarrollen prácticas de transparencia y documentación en la investigación, que son pilares en la comunidad científica global.\n"
   ]
  },
  {
   "cell_type": "markdown",
   "id": "215cb551",
   "metadata": {},
   "source": [
    "\n",
    "### 8. **Participación en Redes y Conferencias Internacionales**\n"
   ]
  },
  {
   "cell_type": "markdown",
   "id": "47828cba",
   "metadata": {},
   "source": [
    "   - **Presentación en Conferencias Internacionales**: Destaca cómo tu participación en conferencias internacionales (como la **ASCOLFA** o eventos sobre educación en matemáticas) contribuye al prestigio de la universidad y permite que tus prácticas sean evaluadas y reconocidas a nivel global.\n"
   ]
  },
  {
   "cell_type": "markdown",
   "id": "cdf46e29",
   "metadata": {},
   "source": [
    "   - **Promoción de Estudiantes en Eventos Internacionales**: Impulsa la participación de tus estudiantes en competiciones internacionales de programación o hackathons, como los organizados por **Google**, **ACM** o **Kaggle**. "
   ]
  },
  {
   "cell_type": "markdown",
   "id": "929e2344",
   "metadata": {},
   "source": [
    "Esto no solo desarrolla sus habilidades, sino que también visibiliza el talento de la Universidad de Antioquia a nivel global.\n",
    "\n",
    "---"
   ]
  },
  {
   "cell_type": "markdown",
   "id": "233294a4-1983-4641-a7ad-866825e02315",
   "metadata": {},
   "source": [
    "Con esta estrategia, presento mis acciones docentes en términos de competencias internacionales, innovación pedagógica, tecnología, investigación y participación en redes globales, asegurando que mi práctica esté alineada con los estándares internacionales y que tus estudiantes estén preparados para competir en contextos internacionales."
   ]
  },
  {
   "cell_type": "markdown",
   "id": "77da458b",
   "metadata": {},
   "source": [
    "### **Metodología de Enseñanza: Aprendizaje Basado en Problemas y Proyectos (ABPP)**\n"
   ]
  },
  {
   "cell_type": "markdown",
   "id": "c943d273",
   "metadata": {},
   "source": [
    "\n",
    "El **Aprendizaje Basado en Problemas y Proyectos (ABPP)** es una metodología educativa que integra los enfoques del **Aprendizaje Basado en Problemas (ABP)** y el **Aprendizaje Basado en Proyectos (PBL, por sus siglas en inglés)**. "
   ]
  },
  {
   "cell_type": "markdown",
   "id": "662c202f",
   "metadata": {},
   "source": [
    "Es especialmente útil para la formación de futuros docentes, ingenieros y administradores, ya que combina el desarrollo de habilidades prácticas con el pensamiento crítico y reflexivo. "
   ]
  },
  {
   "cell_type": "markdown",
   "id": "2f3535f3",
   "metadata": {},
   "source": [
    "A continuación, se presenta una descripción adaptada a la enseñanza de las matemáticas en educación infantil, Licenciatura en Matemáticas, Ingeniería Agropecuaria y Administración de Empresas:\n",
    "\n",
    "---\n"
   ]
  },
  {
   "cell_type": "markdown",
   "id": "0eeba3f5",
   "metadata": {},
   "source": [
    "\n",
    "### **1. Fundamentos del ABPP**\n"
   ]
  },
  {
   "cell_type": "markdown",
   "id": "43a21c0b",
   "metadata": {},
   "source": [
    "El ABPP se basa en:\n",
    "- **Resolución de Problemas Reales:** Los estudiantes analizan y resuelven problemas auténticos relacionados con su área de formación, fomentando la aplicación práctica del conocimiento.\n"
   ]
  },
  {
   "cell_type": "markdown",
   "id": "a3b3aec8",
   "metadata": {},
   "source": [
    "- **Proyectos como Herramientas Integradoras:** Los proyectos permiten desarrollar habilidades interdisciplinarias y ofrecer soluciones concretas a los problemas planteados.\n"
   ]
  },
  {
   "cell_type": "markdown",
   "id": "c7613fdb",
   "metadata": {},
   "source": [
    "- **Aprendizaje Activo:** Los estudiantes son responsables de su aprendizaje y participan activamente en el proceso de investigación, diseño y solución.\n",
    "\n",
    "---\n"
   ]
  },
  {
   "cell_type": "markdown",
   "id": "3728d010",
   "metadata": {},
   "source": [
    "\n",
    "### **2. Aplicación del ABPP en Áreas Específicas**\n"
   ]
  },
  {
   "cell_type": "markdown",
   "id": "411f3dc8",
   "metadata": {},
   "source": [
    "\n",
    "#### **Educación Infantil (Licenciatura en Educación Infantil)**\n"
   ]
  },
  {
   "cell_type": "markdown",
   "id": "6bee6002",
   "metadata": {},
   "source": [
    "- **Enfoque:** Desarrollo del pensamiento matemático en la infancia desde contextos lúdicos, familiares y culturales.\n"
   ]
  },
  {
   "cell_type": "markdown",
   "id": "e618449d",
   "metadata": {},
   "source": [
    "- **Problemas típicos:** \n",
    "  - ¿Cómo enseñar los números naturales mediante actividades prácticas y juegos?\n",
    "  - ¿Qué estrategias pueden emplearse para abordar el concepto de cantidad en edades tempranas?\n"
   ]
  },
  {
   "cell_type": "markdown",
   "id": "bd29a667",
   "metadata": {},
   "source": [
    "- **Proyectos:** Diseño de secuencias didácticas que usen Python, Jupyter Notebooks y materiales manipulativos para enseñar matemáticas de forma interactiva.\n"
   ]
  },
  {
   "cell_type": "markdown",
   "id": "1f866c36",
   "metadata": {},
   "source": [
    "- **Competencias desarrolladas:** \n",
    "  - Uso de herramientas tecnológicas para diseñar actividades educativas.\n",
    "  - Comprensión del desarrollo cognitivo infantil y su relación con las matemáticas.\n"
   ]
  },
  {
   "cell_type": "markdown",
   "id": "481f614a",
   "metadata": {},
   "source": [
    "\n",
    "#### **Licenciatura en Matemáticas**\n",
    "- **Enfoque:** Resolución de problemas matemáticos aplicados y profundización teórica en áreas como análisis matemático y modelado.\n"
   ]
  },
  {
   "cell_type": "markdown",
   "id": "4fe27fb8",
   "metadata": {},
   "source": [
    "- **Problemas típicos:**\n",
    "  - ¿Cómo se pueden resolver ecuaciones diferenciales aplicadas a modelos físicos o económicos?\n",
    "  - ¿Cómo modelar fenómenos naturales mediante funciones matemáticas?\n"
   ]
  },
  {
   "cell_type": "markdown",
   "id": "56002488",
   "metadata": {},
   "source": [
    "- **Proyectos:** \n",
    "  - Desarrollo de software educativo para explorar conceptos matemáticos.\n",
    "  - Aplicación de modelado matemático para resolver problemas reales en otras disciplinas.\n"
   ]
  },
  {
   "cell_type": "markdown",
   "id": "805b6e6a",
   "metadata": {},
   "source": [
    "- **Competencias desarrolladas:**\n",
    "  - Dominio de la matemática teórica y aplicada.\n",
    "  - Uso de tecnología para la enseñanza y la investigación.\n"
   ]
  },
  {
   "cell_type": "markdown",
   "id": "83ab236f",
   "metadata": {},
   "source": [
    "\n",
    "#### **Ingeniería Agropecuaria**\n",
    "- **Enfoque:** Modelado matemático y análisis de datos para mejorar la producción agrícola y la gestión de recursos.\n"
   ]
  },
  {
   "cell_type": "markdown",
   "id": "beb9ba0e",
   "metadata": {},
   "source": [
    "- **Problemas típicos:**\n",
    "  - ¿Cómo modelar el crecimiento de cultivos considerando variables climáticas?\n",
    "  - ¿Cómo optimizar el uso del agua en sistemas de riego mediante análisis matemático?\n"
   ]
  },
  {
   "cell_type": "markdown",
   "id": "db746989",
   "metadata": {},
   "source": [
    "- **Proyectos:** \n",
    "  - Desarrollo de modelos predictivos con Python y bibliotecas de aprendizaje automático.\n",
    "  - Implementación de proyectos que combinen matemáticas y ciencias de datos para resolver problemas agrícolas.\n"
   ]
  },
  {
   "cell_type": "markdown",
   "id": "9bac9c84",
   "metadata": {},
   "source": [
    "- **Competencias desarrolladas:**\n",
    "  - Integración de matemáticas con tecnologías avanzadas.\n",
    "  - Resolución de problemas agropecuarios mediante análisis y modelado.\n"
   ]
  },
  {
   "cell_type": "markdown",
   "id": "c4519bb3",
   "metadata": {},
   "source": [
    "\n",
    "#### **Administración de Empresas**\n"
   ]
  },
  {
   "cell_type": "markdown",
   "id": "d63225b7",
   "metadata": {},
   "source": [
    "- **Enfoque:** Uso de las matemáticas y la ciencia de datos para la toma de decisiones estratégicas.\n",
    "- **Problemas típicos:**\n",
    "  - ¿Cómo identificar patrones de comportamiento del consumidor usando series de tiempo?\n",
    "  - ¿Qué estrategias matemáticas pueden optimizar la asignación de recursos en una empresa?\n"
   ]
  },
  {
   "cell_type": "markdown",
   "id": "48c56234",
   "metadata": {},
   "source": [
    "- **Proyectos:** \n",
    "  - Implementación de modelos de análisis financiero y simulaciones.\n",
    "  - Desarrollo de dashboards interactivos para la gestión de datos empresariales.\n"
   ]
  },
  {
   "cell_type": "markdown",
   "id": "2101752e",
   "metadata": {},
   "source": [
    "- **Competencias desarrolladas:**\n",
    "  - Habilidad para interpretar datos matemáticos en contextos de negocio.\n",
    "  - Capacidad para diseñar soluciones basadas en datos.\n",
    "\n",
    "---\n"
   ]
  },
  {
   "cell_type": "markdown",
   "id": "19be58d4",
   "metadata": {},
   "source": [
    "\n",
    "### **3. Beneficios del ABPP**\n"
   ]
  },
  {
   "cell_type": "markdown",
   "id": "585e8739",
   "metadata": {},
   "source": [
    "- **Desarrollo de competencias clave:**\n"
   ]
  },
  {
   "cell_type": "markdown",
   "id": "734ca257",
   "metadata": {},
   "source": [
    "  - Pensamiento crítico y creativo.\n",
    "  - Trabajo colaborativo.\n"
   ]
  },
  {
   "cell_type": "markdown",
   "id": "62b1c2b3",
   "metadata": {},
   "source": [
    "  - Comunicación efectiva.\n",
    "  - Uso de herramientas tecnológicas avanzadas.\n"
   ]
  },
  {
   "cell_type": "markdown",
   "id": "cc68c44e",
   "metadata": {},
   "source": [
    "- **Adaptación al contexto laboral:** Los estudiantes aprenden a enfrentar desafíos del mundo real y a diseñar soluciones prácticas y aplicables.\n",
    "- **Flexibilidad e interdisciplinariedad:** La metodología se adapta a diversas áreas, fomentando el aprendizaje integrado.\n",
    "\n",
    "---\n"
   ]
  },
  {
   "cell_type": "markdown",
   "id": "e36034c3",
   "metadata": {},
   "source": [
    "\n",
    "### **4. Ejemplo General de Implementación**\n"
   ]
  },
  {
   "cell_type": "markdown",
   "id": "20fadf1c",
   "metadata": {},
   "source": [
    "1. **Identificación del problema:** Se plantea un desafío concreto, como modelar el crecimiento poblacional de una comunidad rural (Ingeniería Agropecuaria) o diseñar una estrategia para enseñar fracciones a niños de 8 años (Educación Infantil).\n"
   ]
  },
  {
   "cell_type": "markdown",
   "id": "82a840c0",
   "metadata": {},
   "source": [
    "2. **Formación de equipos:** Los estudiantes trabajan en grupos, distribuyendo roles y tareas.\n",
    "3. **Investigación y diseño:** Los estudiantes investigan el problema, proponen soluciones y diseñan un proyecto.\n"
   ]
  },
  {
   "cell_type": "markdown",
   "id": "035928e0",
   "metadata": {},
   "source": [
    "4. **Implementación:** Se desarrolla el proyecto, como una herramienta tecnológica o una propuesta pedagógica.\n",
    "5. **Evaluación:** Los estudiantes presentan sus resultados en un informe o una exposición, recibiendo retroalimentación de sus compañeros y docentes.\n",
    "\n",
    "---\n"
   ]
  },
  {
   "cell_type": "markdown",
   "id": "03c29efc",
   "metadata": {},
   "source": [
    "\n",
    "El ABPP es una metodología versátil que conecta el conocimiento teórico con la práctica, preparando a los estudiantes para los retos de sus profesiones en la enseñanza de la matemática, la ingeniería y la administración."
   ]
  },
  {
   "cell_type": "markdown",
   "id": "96775931",
   "metadata": {
    "slideshow": {
     "slide_type": "slide"
    }
   },
   "source": [
    "## Título de la clase: 1.2 Operaciones Lógicas Según Lina Grajales    \n",
    "\n",
    "Página 15 de su PDF\n",
    "\n",
    "[Matemáticas I para ciencias económicas](https://bibliotecadigital.udea.edu.co/entities/publication/0b3501bd-c78f-4371-bdb0-8d629f0a331a)"
   ]
  },
  {
   "cell_type": "markdown",
   "id": "10e55ccf",
   "metadata": {},
   "source": [
    "# Estructura general para todas las clases\n",
    "\n",
    "Dame, por favor, un diseño de clase, con el enfoque: STEAMS y de Aprendizaje Basado en Problemas y Proyectos(ABPP) y Teoría de Registros de Representación Semiótica (TRRS) de Duval; sobre: **\" Operadores lógicos o conectores lógicos, según las páginas 22 a 26 del PDF del libro 'Matemáticas discretas: una perspectiva funcional con Python 3.x' que encuentras en: https://ri.ujat.mx/handle/200.500.12107/3942\", siguiendo la estructura:  \n",
    "\n",
    "1. Título de la clase \n",
    "2. Objetivos de aprendizaje e indicadores del logro de estos oobjetivos. \n",
    "3. Un mapa conceptual que resuma la clase elaborado en Graphviz de python con nodos y edges de diferentes formas, colores y rellenos y renderizado en la siguiente ubicación: `\"C:/Users/marco/Descargas\"`. No olvides el parámetro `view = True` para el método `render()` de Graphviz. Para este mapa controla las superposiciones de los nodos con:   \n",
    "   graph [overlap=false]; // Elimina superposiciones (puede aumentar el espacio)\n",
    "   graph [overlap=\"scalexy\"]; // Escala el gráfico para evitar overlaps\n",
    "   graph [overlap=\"compress\"]; // Comprime el grafo sin overlaps   \n",
    "   \n",
    "   \n",
    "4. Contenido de la clase. Pero para la presentación de las tablas de verdad de cada uno de los cinco conector utiliza una analogía coloquial como la siguiente: \"La mamá de juenito le dice que será consecuente con el cumplimiento de dos dondiciones $p$ y $q$ para dejarlo salir a jugar. La condición dada por la mamá es que: 'Te dejaré salir a jugar si lavas los trastes **o** barres la casa'\". Así, el que Juanito salga está dado por el valor de verdad de la proposición $p \\lor q$. Y juanito ha entendido que tiene tres posibilidades para que la mamá le deje salir a jugar: 1) si lava los trastes , 2) si barre la casa, 3) si hace ambas cosas. Y sabe además que no saldrá a jugar solo cuando no realice ninguna de las dos tareas. Es decir, la disyunción es casi siempre verdadera, o es verdadera si almenos una de las dos proposiciones simples que la componen es verdadera. Y Además, la disyunción es solo falsa cuendo ambas proposiciones simples que la conforman son falsas. Por lo tanto, la singularidad de la disyunción es que ella es F cuando ambas proposiciones atómicas que la conforman son F. Y también diseña la clase sobre los conectores lógicos usando modelaciones electricas y electrónicas, para mostrar que por ejemplo una disyunción puede ser el modelo lógico que resuelve el problema de poder encender una lámpara de al menos dos puntos distintos.   \n",
    "   \n",
    "5. Incluye una canción o un poema que ayude a interiorizar y fijar los conceptos asociados a esta clase.  \n",
    "   \n",
    "6. Dame elementos históricos y epistemológicos asociados a esta clase, pero contados como un cuento al estilo de un cuentero antioqueño en Colombia. Incluye imágenes de los protagonistas históricos de esta clase.  \n",
    "    \n",
    "7. Actividades de aprendizaje  \n",
    "   \n",
    "8. Tarea o actividades de ejercitación y fijación. Diseña al menos 20 ejercicios de tarea.   \n",
    "     \n",
    "9.  Evaluación incluyendo diez proyectos, un ejemplo de quiz y un ejemplo de parcial. Y que en esta evaluación se le pida al estudiante el interpretar las proposiciones compuestas de cada punto de manera verbal con ejemplos de contextos económicos, cotidianos, deportivos y matemáticos. Por ejemplo, pidele interpretar proposiciones compuestas como: \n",
    "    $$\\left[ (p \\to q) \\land (q \\to r) \\right] \\to (p \\to r)$$  \n",
    "\n",
    "10.  Diseño de actividad de retroalimentación.   \n",
    "    \n",
    "11.  Dame un vocabulario y frases del idioma inglés asociadas a esta clase.   \n",
    "        \n",
    "12.  Incluye apéndice para la clase sobre desarrollo de habilidades para trabajar en equipo y de asertividad y empatía para relacionarnos. También elementos de la inteligencia emocional para presentar pruebas sin temor y sin realizar fraude en ellas.     \n",
    "    \n",
    "13. Incluye 10 referentes en didáctica de la matemática que estén de acuerdo a la propuesta didáctica de esta clase. Adiciona a estos referentes a Raymond Duval (Representaciones y cambios de representación para la adquisición de conceptos matemáticos) y a Jeannette Wing (Desarrollo del pensamiento computacional). Dejame todos estos referentes ordenados de acuerdo a las normas APA. Dejame todos estos referentes ordenados de acuerdo a las normas APA. Incluye las citaciones a estos referentes a medida que vallas diseñando la clase. \n",
    "\n",
    "\n",
    "\n",
    "Pero  que este diseño sea para que el estudiante pueda aprender experimentando en cuadernos Jupyter con funciones de usuario y animaciones y visualizaciones en python.   \n",
    "\n",
    "En particular utiliza para el diseño de clase a Numpy, Pandas, SymPy, Matplotlib.pyplot, Seaborn, Plotly, ipywidgets, matplotlib.animation y Jupyter Notebook. Cada vez que utilices `matplotlib.animacion` no olvides incluir el uso de `IPython. display` para la rederización de estas animaciones a través de Jupyter Notebook.   \n",
    "\n",
    "No olvides darme los diseños de clase con las ecuaciones matemáticas delimitadas con signo de dolar $ para que VS Code si me renderize estas expresiones del lenguaje latex. Cuando vallas a utilizar ipywidgets ten en cuenta la siguiente importación inicial para garantizar que la visualización interactiva si se renderize en VS Code:  \n",
    "\n",
    "import numpy as np\n",
    "import matplotlib.pyplot as plt\n",
    "import ipywidgets as widgets\n",
    "from IPython.display import display, clear_output\n",
    "\n",
    "Ubicación del diseño IAE para el curso de Fundamentos de Lógica: https://github.com/marco-canas/fundamentos_logica/blob/main/2_diseno_investigacion_educativa/1_diseno_investigacion_educativa.md  \n",
    "\n",
    "Ubicación del programa del curso: https://github.com/marco-canas/fundamentos_logica/blob/main/3_programa_curso/1_programa_logica.md\n",
    "\n",
    "Ubicación del cronograma del curso: https://github.com/marco-canas/fundamentos_logica/blob/main/3_programa_curso/3_programacion_clase_a_clase.md\n",
    "\n",
    "Ubicación de la lista de estudiantes del curso: https://github.com/marco-canas/groups_list/blob/main/logica.xlsx"
   ]
  },
  {
   "cell_type": "markdown",
   "id": "b3b1ec6b",
   "metadata": {},
   "source": [
    "**Diseño de Clase: \"Lógica en Acción: Operaciones Lógicas con STEAMS y ABPP\"**  \n",
    "*(Integrando Python, Jupyter Notebook, y Analogías Cotidianas)*  \n"
   ]
  },
  {
   "cell_type": "markdown",
   "id": "c49b199b",
   "metadata": {},
   "source": [
    "\n",
    "---\n",
    "\n",
    "### **1. Título de la Clase**  \n",
    "**\"Del Mercado a la Programación: Operaciones Lógicas con Python y STEAMS\"**  \n",
    "\n",
    "---\n"
   ]
  },
  {
   "cell_type": "markdown",
   "id": "4a7d9342",
   "metadata": {},
   "source": [
    "\n",
    "### **2. Objetivos de Aprendizaje e Indicadores**  \n"
   ]
  },
  {
   "cell_type": "markdown",
   "id": "8000cc04",
   "metadata": {},
   "source": [
    "- **Objetivo 1:** Comprender los cinco conectores lógicos (AND, OR, NOT, IMPLIES, IFF) mediante analogías cotidianas y modelado matemático (Problemas reales donde sean aplicables los circuitos eléctricos y digitales).  \n",
    "  *Indicador:* Resuelve problemas con tablas de verdad usando `pandas.DataFrame`."
   ]
  },
  {
   "cell_type": "markdown",
   "id": "1b681a08",
   "metadata": {},
   "source": [
    "  \n",
    "- **Objetivo 2:** Aplicar operaciones lógicas en contextos económicos/deportivos usando Python.  \n",
    "  *Indicador:* Crea un modelo en Jupyter que simule decisiones de compra/venta con `if-else`. "
   ]
  },
  {
   "cell_type": "markdown",
   "id": "1c798bf5",
   "metadata": {},
   "source": [
    " \n",
    "- **Objetivo 3:** Diseñar visualizaciones interactivas con `matplotlib`, `ipywidgets` y `plotly`.  \n",
    "  *Indicador:* Genera una animación de tablas de verdad con `matplotlib.animation`.  \n",
    "\n",
    "\n"
   ]
  },
  {
   "cell_type": "markdown",
   "id": "638e21ec",
   "metadata": {},
   "source": [
    "\n",
    "### **3. Mapa Conceptual (Graphviz)**  \n"
   ]
  },
  {
   "cell_type": "code",
   "execution_count": 13,
   "id": "3392e215",
   "metadata": {},
   "outputs": [
    {
     "data": {
      "text/plain": [
       "'C:\\\\Users\\\\marco\\\\Descargas\\\\Mapa_Logica.png'"
      ]
     },
     "execution_count": 13,
     "metadata": {},
     "output_type": "execute_result"
    }
   ],
   "source": [
    "# Instala graphviz si es necesario: !pip install graphviz\n",
    "from graphviz import Digraph\n",
    "\n",
    "dot = Digraph(comment='Operaciones Lógicas', format='png', engine='dot')\n",
    "\n",
    "# Configuración global para más espacio\n",
    "dot.attr(rankdir='LR', splines='true', nodesep='1', ranksep='1.5')\n",
    "dot.attr('edge', color='#4B0082', penwidth='2')\n",
    "\n",
    "# Nodos con formas y colores variados\n",
    "dot.node('A', 'Conectores Lógicos\\n(AND, OR, NOT, IMPLIES, IFF)',\n",
    "         shape='box', style='filled', fillcolor='#E6F0FF')\n",
    "dot.node('B', 'Tablas de Verdad\\n(pandas.DataFrame)',\n",
    "         shape='ellipse', style='filled', fillcolor='#FFDAB9')\n",
    "dot.node('C', 'Aplicaciones Reales\\n(Ej: Decisiones de Compra)',\n",
    "         shape='hexagon', style='filled', fillcolor='#C1FFC1')\n",
    "dot.node('D', 'Historia: Boole & Shannon',\n",
    "         shape='octagon', style='filled', fillcolor='#FFB6C1')\n",
    "dot.node('E', 'STEAMS\\n(Conexión Arte-Lógica)',\n",
    "         shape='diamond', style='filled', fillcolor='#FFFACD')\n",
    "\n",
    "# Conexiones\n",
    "dot.edge('A', 'B')\n",
    "dot.edge('A', 'C')\n",
    "dot.edge('A', 'D')\n",
    "dot.edge('A', 'E')\n",
    "dot.edge('B', 'C', label='Simulación con\\nipywidgets')\n",
    "dot.edge('D', 'A', label='Fundamentos\\nMatemáticos')\n",
    "\n",
    "# Guardar y renderizar\n",
    "dot.render('C:/Users/marco/Descargas/Mapa_Logica', view=True)\n"
   ]
  },
  {
   "cell_type": "markdown",
   "id": "85d44300",
   "metadata": {},
   "source": [
    "\n",
    "---\n",
    "\n",
    "# **4. Contenido de la Clase**"
   ]
  },
  {
   "cell_type": "markdown",
   "id": "a996e7db",
   "metadata": {},
   "source": [
    "## Diferentes formas de representación de una proposición compuesta básica  \n"
   ]
  },
  {
   "cell_type": "markdown",
   "id": "340d4366",
   "metadata": {},
   "source": [
    "Esta es tabla** representa en **circuito eléctrico** (con suiches y bombilla) y **circuito digital/electrónico** (con compuertas lógicas y un bombillo LED): (Estos circuitos eléctricos y digitales los vas a poder implementar con Crocodile Clips que es un simulador de circuitos eléctricos y electrónicos. )\n",
    "\n",
    "\n"
   ]
  },
  {
   "cell_type": "markdown",
   "id": "b8d8344c",
   "metadata": {},
   "source": [
    "\n",
    "### **Tabla 1: Representaciones Verbales, Notación Lógica y Circuitos**\n",
    "\n",
    "| Representación Verbal                     | Notación Lógica Proposicional | Circuito Eléctrico (Suiches y Bombilla) | Circuito Digital/Electrónico (Compuertas y LED) |\n",
    "|-------------------------------------------|-------------------------------|-----------------------------------------|-------------------------------------------------|\n",
    "| La disyunción entre p y q                 | $p \\lor q$                    | Dos suiches en paralelo, conectados a una bombilla. El primer swich es normalmente cerrado ($\\neg p$), y el segundo ($q$) suiches es normalmente abierto. | Compuerta **OR**: La salida se conecta a un LED que se enciende si **p** o **q** son 1. |\n",
    "| La conjunción entre p y q                 | $p \\land q$                   | Dos suiches en serie, conectados a una bombilla. Solo si **p** y **q** están cerrados, la bombilla se enciende. | Compuerta **AND**: La salida se conecta a un LED que se enciende solo si **p** y **q** son 1. |\n",
    "| La negación de p                          | $\\lnot p$                     | Un suiche normalmente cerrado (NC) conectado a una bombilla. Si **p** está abierto, la bombilla se enciende. | Compuerta **NOT**: La salida se conecta a un LED que se enciende si **p** es 0. |\n",
    "| La implicación de p a q                   | $p \\rightarrow q$             | Un suiche **p** en serie con un suiche normalmente cerrado **q**, conectados a una bombilla. Si **p** está cerrado y **q** abierto, la bombilla se apaga. | Compuerta **NOT** + **OR**: $\\lnot p \\lor q$. La salida se conecta a un LED que se enciende si **p** es 0 o **q** es 1. |\n",
    "| La doble implicación entre p y q          | $p \\leftrightarrow q$         | Dos circuitos en paralelo: uno con **p** y **q** en serie, y otro con $\\lnot p$ y $\\lnot q$ en serie. La bombilla se enciende si ambos suiches están en el mismo estado. | Compuerta **XNOR**: La salida se conecta a un LED que se enciende si **p** y **q** son iguales. |\n",
    "| La disyunción exclusiva entre p y q       | $p \\oplus q$                  | Dos circuitos en paralelo: uno con **p** y $\\lnot q$ en serie, y otro con $\\lnot p$ y **q** en serie. La bombilla se enciende si **p** y **q** están en estados opuestos. | Compuerta **XOR**: La salida se conecta a un LED que se enciende si **p** y **q** son diferentes. |\n",
    "\n",
    "---\n"
   ]
  },
  {
   "cell_type": "markdown",
   "id": "1f4b527b",
   "metadata": {},
   "source": [
    "\n",
    "2. **Circuito Digital/Electrónico (Compuertas y LED):**\n",
    "   - Describe cómo se implementaría la proposición en un circuito digital usando compuertas lógicas y un LED como indicador de salida.\n",
    "   - **Compuertas lógicas:** OR, AND, NOT, XOR, XNOR.\n",
    "   - **LED:** Se enciende cuando la salida de la compuerta es 1 (verdadero).\n",
    "\n",
    "\n"
   ]
  },
  {
   "cell_type": "markdown",
   "id": "e6469975",
   "metadata": {},
   "source": [
    "\n",
    "### **Ejemplo de Representación Gráfica:**\n"
   ]
  },
  {
   "cell_type": "code",
   "execution_count": null,
   "id": "0a775247",
   "metadata": {},
   "outputs": [],
   "source": []
  },
  {
   "cell_type": "markdown",
   "id": "bd60e51b",
   "metadata": {},
   "source": [
    "\n",
    "#### **Circuito Eléctrico para $p \\lor q$ (Disyunción):**\n",
    "\n",
    "- Si **p** o **q** están cerrados, la bombilla se enciende.\n"
   ]
  },
  {
   "cell_type": "markdown",
   "id": "5f70dcb5",
   "metadata": {},
   "source": [
    "Claro, Marco.\n",
    "Te hago un ejemplo en Python que simula el **circuito eléctrico para $p \\lor q$** (interruptores en paralelo) y muestra si la bombilla se enciende o no según el estado de los interruptores.\n",
    "\n",
    "Aquí está:\n"
   ]
  },
  {
   "cell_type": "code",
   "execution_count": null,
   "id": "3c6de2de",
   "metadata": {},
   "outputs": [],
   "source": [
    "\n",
    "```python\n",
    "# Circuito eléctrico para p OR q (Disyunción)\n",
    "# Interruptores en paralelo: si p o q están cerrados, la bombilla se enciende.\n",
    "\n",
    "def bombilla_or(p: bool, q: bool) -> str:\n",
    "    \"\"\"\n",
    "    Simula un circuito eléctrico para p ∨ q.\n",
    "    p y q representan interruptores (True = cerrado, False = abierto).\n",
    "    Retorna \"Encendida\" o \"Apagada\".\n",
    "    \"\"\"\n",
    "    # Disyunción lógica\n",
    "    if p or q:\n",
    "        return \"💡 Encendida\"\n",
    "    else:\n",
    "        return \"💡 Apagada\"\n",
    "\n",
    "# Probamos todas las combinaciones de p y q\n",
    "print(\"p\\tq\\tBombilla\")\n",
    "for p in [False, True]:\n",
    "    for q in [False, True]:\n",
    "        print(f\"{p}\\t{q}\\t{bombilla_or(p, q)}\")\n",
    "```\n"
   ]
  },
  {
   "cell_type": "markdown",
   "id": "8662449d",
   "metadata": {},
   "source": [
    "\n",
    "---\n",
    "\n",
    "### Salida esperada:\n",
    "\n",
    "```\n",
    "p\tq\tBombilla\n",
    "False\tFalse\t💡 Apagada\n",
    "False\tTrue\t💡 Encendida\n",
    "True\tFalse\t💡 Encendida\n",
    "True\tTrue\t💡 Encendida\n",
    "```\n",
    "\n",
    "---\n",
    "\n",
    "Si quieres, puedo hacerte también una **representación gráfica con `matplotlib`** del circuito eléctrico en paralelo para que visualices la conexión de los interruptores.\n",
    "¿Quieres que lo haga?\n"
   ]
  },
  {
   "cell_type": "markdown",
   "id": "260e0a21",
   "metadata": {},
   "source": [
    "Aquí tienes la representación gráfica del circuito eléctrico para $p \\lor q$ con los interruptores en paralelo y la bombilla al final del circuito.  \n"
   ]
  },
  {
   "cell_type": "code",
   "execution_count": 14,
   "id": "25dfbc7b",
   "metadata": {},
   "outputs": [
    {
     "name": "stderr",
     "output_type": "stream",
     "text": [
      "c:\\Users\\marco\\Documentos\\docencia\\fundamentos_logica\\.venv\\Lib\\site-packages\\IPython\\core\\pylabtools.py:170: UserWarning:\n",
      "\n",
      "Glyph 128161 (\\N{ELECTRIC LIGHT BULB}) missing from font(s) DejaVu Sans.\n",
      "\n"
     ]
    },
    {
     "data": {
      "image/png": "[encoded data removed]",
      "text/plain": [
       "<Figure size 600x400 with 1 Axes>"
      ]
     },
     "metadata": {},
     "output_type": "display_data"
    }
   ],
   "source": [
    "\n",
    "import matplotlib.pyplot as plt\n",
    "\n",
    "def dibujar_circuito_or():\n",
    "    fig, ax = plt.subplots(figsize=(6,4))\n",
    "    \n",
    "    # Configuración inicial\n",
    "    ax.set_xlim(0, 10)\n",
    "    ax.set_ylim(0, 6)\n",
    "    ax.axis('off')\n",
    "\n",
    "    # Fuente (+)\n",
    "    ax.plot([0, 0], [2.5, 3.5], color='black', lw=2)\n",
    "    ax.text(-0.5, 3.0, '+V', fontsize=12, va='center')\n",
    "\n",
    "    # Línea principal hasta el nodo de división\n",
    "    ax.plot([0, 3], [3.0, 3.0], color='black', lw=2)\n",
    "\n",
    "    # Interruptor p (rama superior)\n",
    "    ax.plot([3, 4], [3.0, 3.0], color='black', lw=2)  # cable\n",
    "    ax.plot([4, 5], [3.0, 3.0], color='black', lw=2, linestyle='--')  # interruptor abierto\n",
    "    ax.text(4.5, 3.3, 'p', fontsize=12)\n",
    "\n",
    "    # Interruptor q (rama inferior)\n",
    "    ax.plot([3, 4], [1.0, 1.0], color='black', lw=2)  # cable\n",
    "    ax.plot([4, 5], [1.0, 1.0], color='black', lw=2, linestyle='--')  # interruptor abierto\n",
    "    ax.text(4.5, 1.3, 'q', fontsize=12)\n",
    "\n",
    "    # Conexión paralela\n",
    "    ax.plot([3, 3], [1.0, 3.0], color='black', lw=2)\n",
    "    ax.plot([5, 5], [1.0, 3.0], color='black', lw=2)\n",
    "\n",
    "    # Unión hacia la bombilla\n",
    "    ax.plot([5, 6], [3.0, 3.0], color='black', lw=2)\n",
    "\n",
    "    # Bombilla\n",
    "    circle = plt.Circle((7, 3), 0.5, fill=False, lw=2)\n",
    "    ax.add_patch(circle)\n",
    "    ax.plot([6, 6.5], [3.0, 3.0], color='black', lw=2)\n",
    "    ax.plot([7.5, 8], [3.0, 3.0], color='black', lw=2)\n",
    "    ax.text(7, 3, '💡', fontsize=14, ha='center', va='center')\n",
    "\n",
    "    # Retorno a tierra\n",
    "    ax.plot([8, 8], [2.5, 3.5], color='black', lw=2)\n",
    "    ax.text(8.2, 3.0, 'GND', fontsize=10, va='center')\n",
    "\n",
    "    plt.title(\"Circuito Eléctrico para p ∨ q (Interruptores en paralelo)\", fontsize=12)\n",
    "    plt.show()\n",
    "\n",
    "dibujar_circuito_or()\n",
    "\n"
   ]
  },
  {
   "cell_type": "markdown",
   "id": "53e80a68",
   "metadata": {},
   "source": [
    "\n",
    "#### **Circuito Digital para $p \\lor q$ (Compuerta OR):**\n",
    "```\n",
    "  +---------+\n",
    "  |   OR    |\n",
    "  p ---|    |--- LED\n",
    "  q ---|    |\n",
    "  +---------+\n",
    "```\n",
    "- El LED se enciende si **p** o **q** son 1.\n",
    "\n",
    "\n"
   ]
  },
  {
   "cell_type": "markdown",
   "id": "2575e399",
   "metadata": {},
   "source": [
    "\n",
    "### **Renderizado en VS Code:**\n",
    "- Usa un visor de Markdown para ver las tablas correctamente.\n",
    "- Las fórmulas matemáticas se renderizan gracias a la delimitación con `$`.\n",
    "\n"
   ]
  },
  {
   "cell_type": "markdown",
   "id": "ca31386a",
   "metadata": {},
   "source": [
    "\n",
    "### **Tabla 2: Representaciones en Python y SymPy**\n",
    "\n",
    "| Notación Python | Notación SymPy (Aditiva) | Notación SymPy (Funcional) |\n",
    "|-----------------|--------------------------|----------------------------|\n",
    "| `p or q`        | `p | q`                  | `Or(p, q)`                 |\n",
    "| `p and q`       | `p & q`                  | `And(p, q)`                |\n",
    "| `not p`         | `~p`                     | `Not(p)`                   |\n",
    "| `not p or q`    | `p >> q`                 | `Implies(p, q)`            |\n",
    "| `p == q`        | `p ^ q`                  | `Equivalent(p, q)`         |\n",
    "| `p != q`        | `p ^ q`                  | `Xor(p, q)`                |\n",
    "\n",
    "---\n"
   ]
  },
  {
   "cell_type": "markdown",
   "id": "3c4f1e19",
   "metadata": {},
   "source": [
    "\n",
    "### **Explicación de las Tablas:**\n",
    "1. **Tabla 1:** Se enfoca en la representación verbal y la notación formal de lógica proposicional.\n",
    "2. **Tabla 2:** Muestra cómo se expresan las proposiciones en Python y SymPy, tanto en notación aditiva como funcional.\n"
   ]
  },
  {
   "cell_type": "markdown",
   "id": "1c8eb063",
   "metadata": {},
   "source": [
    "\n",
    "### **Ventajas de la División:**\n",
    "- **Legibilidad:** Las columnas no se superponen, lo que facilita la lectura.\n",
    "- **Organización:** Cada tabla tiene un enfoque claro (lógica formal vs. implementación en código).\n",
    "- **Adaptabilidad:** Puedes usar una u otra tabla según el contexto.\n"
   ]
  },
  {
   "cell_type": "markdown",
   "id": "e77ef164",
   "metadata": {},
   "source": [
    "\n",
    "### **Ejemplo de Uso en SymPy:**\n"
   ]
  },
  {
   "cell_type": "code",
   "execution_count": 3,
   "id": "c59dd30e",
   "metadata": {},
   "outputs": [
    {
     "data": {
      "text/latex": [
       "$\\displaystyle p \\Leftrightarrow q$"
      ],
      "text/plain": [
       "Equivalent(p, q)"
      ]
     },
     "execution_count": 3,
     "metadata": {},
     "output_type": "execute_result"
    }
   ],
   "source": [
    "\n",
    "from sympy import symbols, Or, And, Not, Implies, Equivalent, Xor\n",
    "\n",
    "p, q = symbols('p q')\n",
    "\n",
    "# Ejemplo de doble implicación\n",
    "doble_implicacion = Equivalent(p, q)\n",
    "doble_implicacion  # Salida: Equivalent(p, q)\n"
   ]
  },
  {
   "cell_type": "code",
   "execution_count": 4,
   "id": "d5c85ae5",
   "metadata": {},
   "outputs": [
    {
     "data": {
      "text/latex": [
       "$\\displaystyle p \\veebar q$"
      ],
      "text/plain": [
       "p ^ q"
      ]
     },
     "execution_count": 4,
     "metadata": {},
     "output_type": "execute_result"
    }
   ],
   "source": [
    "\n",
    "# Ejemplo de disyunción exclusiva\n",
    "disyuncion_exclusiva = Xor(p, q)\n",
    "disyuncion_exclusiva  # Salida: Xor(p, q)\n",
    "\n"
   ]
  },
  {
   "cell_type": "markdown",
   "id": "d7439d0d",
   "metadata": {},
   "source": [
    "\n",
    "### **Renderizado en VS Code:**\n",
    "- Asegúrate de usar un visor de Markdown para ver las tablas correctamente.\n",
    "- Las fórmulas matemáticas se renderizan gracias a la delimitación con `$`.\n",
    "\n",
    "¿Necesitas más ajustes o detalles adicionales? "
   ]
  },
  {
   "cell_type": "markdown",
   "id": "2028ba98",
   "metadata": {},
   "source": [
    "\n",
    "## **Explicación de las Columnas:**\n"
   ]
  },
  {
   "cell_type": "markdown",
   "id": "75e2643f",
   "metadata": {},
   "source": [
    "1. **Representación Verbal:** Descripción en lenguaje natural de la proposición molecular.\n",
    "2. **Notación Lógica Proposicional:** Representación formal en lógica proposicional usando símbolos matemáticos.\n",
    "3. **Notación Python:** Sintaxis en Python para expresar la proposición.\n",
    "4. **Notación SymPy (Aditiva):** Forma abreviada en SymPy para representar la proposición.\n",
    "5. **Notación SymPy (Funcional):** Forma funcional en SymPy, que es más explícita y programática.\n"
   ]
  },
  {
   "cell_type": "markdown",
   "id": "a66f0abe",
   "metadata": {},
   "source": [
    "\n",
    "### **Ejemplo de Uso en SymPy:**\n"
   ]
  },
  {
   "cell_type": "code",
   "execution_count": 3,
   "id": "2d8275b8",
   "metadata": {},
   "outputs": [
    {
     "name": "stdout",
     "output_type": "stream",
     "text": [
      "p | q\n",
      "p & q\n"
     ]
    }
   ],
   "source": [
    "from sympy import symbols, Or, And, Not, Implies, Equivalent, Xor\n",
    "\n",
    "p, q = symbols('p q')\n",
    "\n",
    "# Ejemplo de disyunción\n",
    "disyuncion = Or(p, q)\n",
    "print(disyuncion)  # Salida: Or(p, q)\n",
    "\n",
    "# Ejemplo de conjunción\n",
    "conjuncion = And(p, q)\n",
    "print(conjuncion)  # Salida: And(p, q)\n",
    "\n"
   ]
  },
  {
   "cell_type": "markdown",
   "id": "61a5eb80",
   "metadata": {},
   "source": [
    "\n",
    "## **Renderizado en VS Code:**\n"
   ]
  },
  {
   "cell_type": "markdown",
   "id": "c22151ff",
   "metadata": {},
   "source": [
    "- Asegúrate de usar un visor de Markdown (como el integrado en VS Code) para ver la tabla correctamente.\n",
    "- Las fórmulas matemáticas se renderizan gracias a la delimitación con `$`.\n",
    "\n"
   ]
  },
  {
   "cell_type": "markdown",
   "id": "5b234f79",
   "metadata": {},
   "source": [
    "  \n",
    "#### **Analogías Cotidianas para Tablas de Verdad**  \n",
    "**Ejemplo con OR (∨):**  \n",
    "*\"La mamá de Juanito: '¡Saldrás si lavas trastes **o** barres!'. Juanito sabe que si hace al menos una, gana. Solo no sale si no hace ninguna (F ∨ F = F).\"*  \n",
    "\n",
    "**Código en Python:**  \n"
   ]
  },
  {
   "cell_type": "code",
   "execution_count": 4,
   "id": "1f37bb64",
   "metadata": {},
   "outputs": [
    {
     "name": "stdout",
     "output_type": "stream",
     "text": [
      "       p      q  p ∨ q\n",
      "0   True   True   True\n",
      "1   True  False   True\n",
      "2  False   True   True\n",
      "3  False  False  False\n"
     ]
    }
   ],
   "source": [
    "import pandas as pd\n",
    "\n",
    "# Tabla de verdad para OR\n",
    "p = [True, True, False, False]\n",
    "q = [True, False, True, False]\n",
    "or_result = [pi | qj for pi, qj in zip(p, q)]\n",
    "\n",
    "df = pd.DataFrame({'p': p, 'q': q, 'p ∨ q': or_result})\n",
    "print(df)\n",
    "\n"
   ]
  },
  {
   "cell_type": "markdown",
   "id": "de4d1e10",
   "metadata": {},
   "source": [
    "\n",
    "---\n",
    "\n",
    "### **5. Canción/Poema para Memorizar**  \n",
    "**\"Vallenato Lógico\"** (Ritmo de *La Gota Fría*):  \n",
    "```  \n",
    "En la lógica hay conexión,  \n",
    "OR es como el corazón:  \n",
    "Si uno es True, ¡acción!  \n",
    "Solo es False en la inacción.  \n",
    "\n",
    "El AND es más exigente,  \n",
    "Dos verdades son su puente.  \n",
    "IMPLICA es condicional,  \n",
    "Si p es True, q es vital.  \n",
    "```  \n",
    "\n",
    "---\n"
   ]
  },
  {
   "cell_type": "markdown",
   "id": "c8864f44",
   "metadata": {},
   "source": [
    "\n",
    "### **6. Historia y Epistemología**  \n",
    "**\"El Tío Boole y el Mago Shannon\"** (Cuento Antioqueño):  \n",
    "*\"Erase una vez en Santa Fe de Antioquia, un tío llamado George Boole que inventó un lenguaje de \"verdadecitas\" (álgebra booleana). Años después, el mago Claude Shannon usó esas \"verdadecitas\" para crear el internet, ¡y así nació la era digital! ¡Ajá!\"*  \n",
    "*(Incluir imágenes estilo cómic de Boole con ruana y Shannon con sombrero aguadeño)*.  \n",
    "\n",
    "---\n"
   ]
  },
  {
   "cell_type": "markdown",
   "id": "78688d1d",
   "metadata": {},
   "source": [
    "\n",
    "### **7. Actividades de Aprendizaje**  \n",
    "**Actividad 1:** En Jupyter, crea una función `verdad(p, q, operador)` que devuelva la tabla de verdad usando `numpy.where`.  \n",
    "**Código Base:** "
   ]
  },
  {
   "cell_type": "code",
   "execution_count": 5,
   "id": "205827ea",
   "metadata": {},
   "outputs": [
    {
     "name": "stdout",
     "output_type": "stream",
     "text": [
      "[ True  True  True False]\n"
     ]
    }
   ],
   "source": [
    "import numpy as np\n",
    "\n",
    "def verdad(p, q, operador):\n",
    "    return eval(f\"p {operador} q\")\n",
    "\n",
    "p = np.array([True, True, False, False])\n",
    "q = np.array([True, False, True, False])\n",
    "print(verdad(p, q, '|'))  # OR\n",
    "\n"
   ]
  },
  {
   "cell_type": "markdown",
   "id": "e2dd74dd",
   "metadata": {},
   "source": [
    "\n",
    "**Actividad 2:** Simula un partido de fútbol donde un gol se anota si (delantero_en_posición ∧ portería_abierta) usando `ipywidgets`.  \n",
    "\n",
    "---\n"
   ]
  },
  {
   "cell_type": "markdown",
   "id": "26351753",
   "metadata": {},
   "source": [
    "\n",
    "### **8. Tareas/Proyectos**  \n"
   ]
  },
  {
   "cell_type": "markdown",
   "id": "432c8f0c",
   "metadata": {},
   "source": [
    "**Tarea 1:** Usa `plotly.express` para hacer un heatmap interactivo de tablas de verdad.  \n",
    "**Código:**"
   ]
  },
  {
   "cell_type": "code",
   "execution_count": 7,
   "id": "5970e683",
   "metadata": {},
   "outputs": [
    {
     "data": {
      "application/vnd.plotly.v1+json": {
       "config": {
        "plotlyServerURL": "https://plot.ly"
       },
       "data": [
        {
         "coloraxis": "coloraxis",
         "hovertemplate": "x: %{x}<br>y: %{y}<br>color: %{z}<extra></extra>",
         "name": "0",
         "texttemplate": "%{z}",
         "type": "heatmap",
         "x": [
          "p",
          "q",
          "p ∨ q"
         ],
         "xaxis": "x",
         "y": {
          "bdata": "AAECAw==",
          "dtype": "i1"
         },
         "yaxis": "y",
         "z": {
          "bdata": "/////wD/AP//AAAA",
          "dtype": "u1",
          "shape": "4, 3"
         }
        }
       ],
       "layout": {
        "coloraxis": {
         "colorscale": [
          [
           0,
           "#0d0887"
          ],
          [
           0.1111111111111111,
           "#46039f"
          ],
          [
           0.2222222222222222,
           "#7201a8"
          ],
          [
           0.3333333333333333,
           "#9c179e"
          ],
          [
           0.4444444444444444,
           "#bd3786"
          ],
          [
           0.5555555555555556,
           "#d8576b"
          ],
          [
           0.6666666666666666,
           "#ed7953"
          ],
          [
           0.7777777777777778,
           "#fb9f3a"
          ],
          [
           0.8888888888888888,
           "#fdca26"
          ],
          [
           1,
           "#f0f921"
          ]
         ]
        },
        "template": {
         "data": {
          "bar": [
           {
            "error_x": {
             "color": "#2a3f5f"
            },
            "error_y": {
             "color": "#2a3f5f"
            },
            "marker": {
             "line": {
              "color": "#E5ECF6",
              "width": 0.5
             },
             "pattern": {
              "fillmode": "overlay",
              "size": 10,
              "solidity": 0.2
             }
            },
            "type": "bar"
           }
          ],
          "barpolar": [
           {
            "marker": {
             "line": {
              "color": "#E5ECF6",
              "width": 0.5
             },
             "pattern": {
              "fillmode": "overlay",
              "size": 10,
              "solidity": 0.2
             }
            },
            "type": "barpolar"
           }
          ],
          "carpet": [
           {
            "aaxis": {
             "endlinecolor": "#2a3f5f",
             "gridcolor": "white",
             "linecolor": "white",
             "minorgridcolor": "white",
             "startlinecolor": "#2a3f5f"
            },
            "baxis": {
             "endlinecolor": "#2a3f5f",
             "gridcolor": "white",
             "linecolor": "white",
             "minorgridcolor": "white",
             "startlinecolor": "#2a3f5f"
            },
            "type": "carpet"
           }
          ],
          "choropleth": [
           {
            "colorbar": {
             "outlinewidth": 0,
             "ticks": ""
            },
            "type": "choropleth"
           }
          ],
          "contour": [
           {
            "colorbar": {
             "outlinewidth": 0,
             "ticks": ""
            },
            "colorscale": [
             [
              0,
              "#0d0887"
             ],
             [
              0.1111111111111111,
              "#46039f"
             ],
             [
              0.2222222222222222,
              "#7201a8"
             ],
             [
              0.3333333333333333,
              "#9c179e"
             ],
             [
              0.4444444444444444,
              "#bd3786"
             ],
             [
              0.5555555555555556,
              "#d8576b"
             ],
             [
              0.6666666666666666,
              "#ed7953"
             ],
             [
              0.7777777777777778,
              "#fb9f3a"
             ],
             [
              0.8888888888888888,
              "#fdca26"
             ],
             [
              1,
              "#f0f921"
             ]
            ],
            "type": "contour"
           }
          ],
          "contourcarpet": [
           {
            "colorbar": {
             "outlinewidth": 0,
             "ticks": ""
            },
            "type": "contourcarpet"
           }
          ],
          "heatmap": [
           {
            "colorbar": {
             "outlinewidth": 0,
             "ticks": ""
            },
            "colorscale": [
             [
              0,
              "#0d0887"
             ],
             [
              0.1111111111111111,
              "#46039f"
             ],
             [
              0.2222222222222222,
              "#7201a8"
             ],
             [
              0.3333333333333333,
              "#9c179e"
             ],
             [
              0.4444444444444444,
              "#bd3786"
             ],
             [
              0.5555555555555556,
              "#d8576b"
             ],
             [
              0.6666666666666666,
              "#ed7953"
             ],
             [
              0.7777777777777778,
              "#fb9f3a"
             ],
             [
              0.8888888888888888,
              "#fdca26"
             ],
             [
              1,
              "#f0f921"
             ]
            ],
            "type": "heatmap"
           }
          ],
          "histogram": [
           {
            "marker": {
             "pattern": {
              "fillmode": "overlay",
              "size": 10,
              "solidity": 0.2
             }
            },
            "type": "histogram"
           }
          ],
          "histogram2d": [
           {
            "colorbar": {
             "outlinewidth": 0,
             "ticks": ""
            },
            "colorscale": [
             [
              0,
              "#0d0887"
             ],
             [
              0.1111111111111111,
              "#46039f"
             ],
             [
              0.2222222222222222,
              "#7201a8"
             ],
             [
              0.3333333333333333,
              "#9c179e"
             ],
             [
              0.4444444444444444,
              "#bd3786"
             ],
             [
              0.5555555555555556,
              "#d8576b"
             ],
             [
              0.6666666666666666,
              "#ed7953"
             ],
             [
              0.7777777777777778,
              "#fb9f3a"
             ],
             [
              0.8888888888888888,
              "#fdca26"
             ],
             [
              1,
              "#f0f921"
             ]
            ],
            "type": "histogram2d"
           }
          ],
          "histogram2dcontour": [
           {
            "colorbar": {
             "outlinewidth": 0,
             "ticks": ""
            },
            "colorscale": [
             [
              0,
              "#0d0887"
             ],
             [
              0.1111111111111111,
              "#46039f"
             ],
             [
              0.2222222222222222,
              "#7201a8"
             ],
             [
              0.3333333333333333,
              "#9c179e"
             ],
             [
              0.4444444444444444,
              "#bd3786"
             ],
             [
              0.5555555555555556,
              "#d8576b"
             ],
             [
              0.6666666666666666,
              "#ed7953"
             ],
             [
              0.7777777777777778,
              "#fb9f3a"
             ],
             [
              0.8888888888888888,
              "#fdca26"
             ],
             [
              1,
              "#f0f921"
             ]
            ],
            "type": "histogram2dcontour"
           }
          ],
          "mesh3d": [
           {
            "colorbar": {
             "outlinewidth": 0,
             "ticks": ""
            },
            "type": "mesh3d"
           }
          ],
          "parcoords": [
           {
            "line": {
             "colorbar": {
              "outlinewidth": 0,
              "ticks": ""
             }
            },
            "type": "parcoords"
           }
          ],
          "pie": [
           {
            "automargin": true,
            "type": "pie"
           }
          ],
          "scatter": [
           {
            "fillpattern": {
             "fillmode": "overlay",
             "size": 10,
             "solidity": 0.2
            },
            "type": "scatter"
           }
          ],
          "scatter3d": [
           {
            "line": {
             "colorbar": {
              "outlinewidth": 0,
              "ticks": ""
             }
            },
            "marker": {
             "colorbar": {
              "outlinewidth": 0,
              "ticks": ""
             }
            },
            "type": "scatter3d"
           }
          ],
          "scattercarpet": [
           {
            "marker": {
             "colorbar": {
              "outlinewidth": 0,
              "ticks": ""
             }
            },
            "type": "scattercarpet"
           }
          ],
          "scattergeo": [
           {
            "marker": {
             "colorbar": {
              "outlinewidth": 0,
              "ticks": ""
             }
            },
            "type": "scattergeo"
           }
          ],
          "scattergl": [
           {
            "marker": {
             "colorbar": {
              "outlinewidth": 0,
              "ticks": ""
             }
            },
            "type": "scattergl"
           }
          ],
          "scattermap": [
           {
            "marker": {
             "colorbar": {
              "outlinewidth": 0,
              "ticks": ""
             }
            },
            "type": "scattermap"
           }
          ],
          "scattermapbox": [
           {
            "marker": {
             "colorbar": {
              "outlinewidth": 0,
              "ticks": ""
             }
            },
            "type": "scattermapbox"
           }
          ],
          "scatterpolar": [
           {
            "marker": {
             "colorbar": {
              "outlinewidth": 0,
              "ticks": ""
             }
            },
            "type": "scatterpolar"
           }
          ],
          "scatterpolargl": [
           {
            "marker": {
             "colorbar": {
              "outlinewidth": 0,
              "ticks": ""
             }
            },
            "type": "scatterpolargl"
           }
          ],
          "scatterternary": [
           {
            "marker": {
             "colorbar": {
              "outlinewidth": 0,
              "ticks": ""
             }
            },
            "type": "scatterternary"
           }
          ],
          "surface": [
           {
            "colorbar": {
             "outlinewidth": 0,
             "ticks": ""
            },
            "colorscale": [
             [
              0,
              "#0d0887"
             ],
             [
              0.1111111111111111,
              "#46039f"
             ],
             [
              0.2222222222222222,
              "#7201a8"
             ],
             [
              0.3333333333333333,
              "#9c179e"
             ],
             [
              0.4444444444444444,
              "#bd3786"
             ],
             [
              0.5555555555555556,
              "#d8576b"
             ],
             [
              0.6666666666666666,
              "#ed7953"
             ],
             [
              0.7777777777777778,
              "#fb9f3a"
             ],
             [
              0.8888888888888888,
              "#fdca26"
             ],
             [
              1,
              "#f0f921"
             ]
            ],
            "type": "surface"
           }
          ],
          "table": [
           {
            "cells": {
             "fill": {
              "color": "#EBF0F8"
             },
             "line": {
              "color": "white"
             }
            },
            "header": {
             "fill": {
              "color": "#C8D4E3"
             },
             "line": {
              "color": "white"
             }
            },
            "type": "table"
           }
          ]
         },
         "layout": {
          "annotationdefaults": {
           "arrowcolor": "#2a3f5f",
           "arrowhead": 0,
           "arrowwidth": 1
          },
          "autotypenumbers": "strict",
          "coloraxis": {
           "colorbar": {
            "outlinewidth": 0,
            "ticks": ""
           }
          },
          "colorscale": {
           "diverging": [
            [
             0,
             "#8e0152"
            ],
            [
             0.1,
             "#c51b7d"
            ],
            [
             0.2,
             "#de77ae"
            ],
            [
             0.3,
             "#f1b6da"
            ],
            [
             0.4,
             "#fde0ef"
            ],
            [
             0.5,
             "#f7f7f7"
            ],
            [
             0.6,
             "#e6f5d0"
            ],
            [
             0.7,
             "#b8e186"
            ],
            [
             0.8,
             "#7fbc41"
            ],
            [
             0.9,
             "#4d9221"
            ],
            [
             1,
             "#276419"
            ]
           ],
           "sequential": [
            [
             0,
             "#0d0887"
            ],
            [
             0.1111111111111111,
             "#46039f"
            ],
            [
             0.2222222222222222,
             "#7201a8"
            ],
            [
             0.3333333333333333,
             "#9c179e"
            ],
            [
             0.4444444444444444,
             "#bd3786"
            ],
            [
             0.5555555555555556,
             "#d8576b"
            ],
            [
             0.6666666666666666,
             "#ed7953"
            ],
            [
             0.7777777777777778,
             "#fb9f3a"
            ],
            [
             0.8888888888888888,
             "#fdca26"
            ],
            [
             1,
             "#f0f921"
            ]
           ],
           "sequentialminus": [
            [
             0,
             "#0d0887"
            ],
            [
             0.1111111111111111,
             "#46039f"
            ],
            [
             0.2222222222222222,
             "#7201a8"
            ],
            [
             0.3333333333333333,
             "#9c179e"
            ],
            [
             0.4444444444444444,
             "#bd3786"
            ],
            [
             0.5555555555555556,
             "#d8576b"
            ],
            [
             0.6666666666666666,
             "#ed7953"
            ],
            [
             0.7777777777777778,
             "#fb9f3a"
            ],
            [
             0.8888888888888888,
             "#fdca26"
            ],
            [
             1,
             "#f0f921"
            ]
           ]
          },
          "colorway": [
           "#636efa",
           "#EF553B",
           "#00cc96",
           "#ab63fa",
           "#FFA15A",
           "#19d3f3",
           "#FF6692",
           "#B6E880",
           "#FF97FF",
           "#FECB52"
          ],
          "font": {
           "color": "#2a3f5f"
          },
          "geo": {
           "bgcolor": "white",
           "lakecolor": "white",
           "landcolor": "#E5ECF6",
           "showlakes": true,
           "showland": true,
           "subunitcolor": "white"
          },
          "hoverlabel": {
           "align": "left"
          },
          "hovermode": "closest",
          "mapbox": {
           "style": "light"
          },
          "paper_bgcolor": "white",
          "plot_bgcolor": "#E5ECF6",
          "polar": {
           "angularaxis": {
            "gridcolor": "white",
            "linecolor": "white",
            "ticks": ""
           },
           "bgcolor": "#E5ECF6",
           "radialaxis": {
            "gridcolor": "white",
            "linecolor": "white",
            "ticks": ""
           }
          },
          "scene": {
           "xaxis": {
            "backgroundcolor": "#E5ECF6",
            "gridcolor": "white",
            "gridwidth": 2,
            "linecolor": "white",
            "showbackground": true,
            "ticks": "",
            "zerolinecolor": "white"
           },
           "yaxis": {
            "backgroundcolor": "#E5ECF6",
            "gridcolor": "white",
            "gridwidth": 2,
            "linecolor": "white",
            "showbackground": true,
            "ticks": "",
            "zerolinecolor": "white"
           },
           "zaxis": {
            "backgroundcolor": "#E5ECF6",
            "gridcolor": "white",
            "gridwidth": 2,
            "linecolor": "white",
            "showbackground": true,
            "ticks": "",
            "zerolinecolor": "white"
           }
          },
          "shapedefaults": {
           "line": {
            "color": "#2a3f5f"
           }
          },
          "ternary": {
           "aaxis": {
            "gridcolor": "white",
            "linecolor": "white",
            "ticks": ""
           },
           "baxis": {
            "gridcolor": "white",
            "linecolor": "white",
            "ticks": ""
           },
           "bgcolor": "#E5ECF6",
           "caxis": {
            "gridcolor": "white",
            "linecolor": "white",
            "ticks": ""
           }
          },
          "title": {
           "x": 0.05
          },
          "xaxis": {
           "automargin": true,
           "gridcolor": "white",
           "linecolor": "white",
           "ticks": "",
           "title": {
            "standoff": 15
           },
           "zerolinecolor": "white",
           "zerolinewidth": 2
          },
          "yaxis": {
           "automargin": true,
           "gridcolor": "white",
           "linecolor": "white",
           "ticks": "",
           "title": {
            "standoff": 15
           },
           "zerolinecolor": "white",
           "zerolinewidth": 2
          }
         }
        },
        "title": {
         "text": "Tabla de Verdad OR"
        },
        "xaxis": {
         "anchor": "y",
         "constrain": "domain",
         "domain": [
          0,
          1
         ],
         "scaleanchor": "y"
        },
        "yaxis": {
         "anchor": "x",
         "autorange": "reversed",
         "constrain": "domain",
         "domain": [
          0,
          1
         ]
        }
       }
      }
     },
     "metadata": {},
     "output_type": "display_data"
    }
   ],
   "source": [
    "import plotly.express as px\n",
    "\n",
    "fig = px.imshow(df, text_auto=True, title=\"Tabla de Verdad OR\")\n",
    "fig.show()\n",
    "\n"
   ]
  },
  {
   "cell_type": "markdown",
   "id": "458b6c6a",
   "metadata": {},
   "source": [
    "\n",
    "---\n",
    "\n",
    "### **9. Evaluación**  \n"
   ]
  },
  {
   "cell_type": "markdown",
   "id": "90c085f1",
   "metadata": {},
   "source": [
    "**Quiz Ejemplo:**  \n",
    "```  \n",
    "Pregunta: Interpreta $(p \\land q) \\to r$ en contexto económico.  \n",
    "Ejemplo Respuesta: \"Si sube el dólar (p) y hay inflación (q), entonces aumentan los precios (r)\".  \n",
    "```\n"
   ]
  },
  {
   "cell_type": "markdown",
   "id": "475fce0a",
   "metadata": {},
   "source": [
    "\n",
    "**Parcial:**  \n",
    "- **Parte Python:** Crea una animación con `FuncAnimation` que muestre cómo cambia la tabla de verdad al variar el operador.  \n",
    "- **Parte Teórica:** Demuestra con ejemplos deportivos por qué $(p \\to q) \\equiv (\\neg p \\lor q)$.  \n",
    "\n",
    "---\n"
   ]
  },
  {
   "cell_type": "markdown",
   "id": "2f7519bf",
   "metadata": {},
   "source": [
    "\n",
    "### **10. Retroalimentación**  \n",
    "**Actividad:** Usando `ipywidgets`, diseña un quiz interactivo donde los estudiantes arrastren (drag-and-drop) conectores a su tabla de verdad correcta. Si fallan, muestra una explicación con `IPython.display`.  \n",
    "\n",
    "---\n"
   ]
  },
  {
   "cell_type": "markdown",
   "id": "8662b308",
   "metadata": {},
   "source": [
    "\n",
    "### **11. Vocabulario en Inglés**  \n"
   ]
  },
  {
   "cell_type": "markdown",
   "id": "9f129271",
   "metadata": {},
   "source": [
    "- **Truth Table:** *\"The truth table shows all possible combinations of inputs and outputs\"*  \n",
    "- **Logical Connective:** *\"AND is like a strict friend: both must agree!\"*  \n",
    "- **Phrases:**  \n",
    "  - *\"Could you explain the IMPLIES operator using a soccer example?\"*  \n",
    "  - *\"Let's code the XOR gate with numpy!\"*  \n",
    "\n",
    "---\n"
   ]
  },
  {
   "cell_type": "markdown",
   "id": "efb7064e",
   "metadata": {},
   "source": [
    "\n",
    "### **Notas Finales:**  \n",
    "- **STEAMS Integration:**  \n",
    "  - **Arte:** Diseña infografías de tablas de verdad con `seaborn`.  \n",
    "  - **Sociedad:** Debate cómo la lógica booleana afecta algoritmos de redes sociales.  \n",
    "- **ABPP:** Los proyectos deben incluir problemas del mercado de Caucasia (ej: lógica en precios agrícolas).  \n"
   ]
  },
  {
   "cell_type": "code",
   "execution_count": 9,
   "id": "7df62ed1",
   "metadata": {},
   "outputs": [
    {
     "data": {
      "text/html": [
       "\n",
       "<link rel=\"stylesheet\"\n",
       "href=\"https://maxcdn.bootstrapcdn.com/font-awesome/4.4.0/css/font-awesome.min.css\">\n",
       "<script language=\"javascript\">\n",
       "  function isInternetExplorer() {\n",
       "    ua = navigator.userAgent;\n",
       "    /* MSIE used to detect old browsers and Trident used to newer ones*/\n",
       "    return ua.indexOf(\"MSIE \") > -1 || ua.indexOf(\"Trident/\") > -1;\n",
       "  }\n",
       "\n",
       "  /* Define the Animation class */\n",
       "  function Animation(frames, img_id, slider_id, interval, loop_select_id){\n",
       "    this.img_id = img_id;\n",
       "    this.slider_id = slider_id;\n",
       "    this.loop_select_id = loop_select_id;\n",
       "    this.interval = interval;\n",
       "    this.current_frame = 0;\n",
       "    this.direction = 0;\n",
       "    this.timer = null;\n",
       "    this.frames = new Array(frames.length);\n",
       "\n",
       "    for (var i=0; i<frames.length; i++)\n",
       "    {\n",
       "     this.frames[i] = new Image();\n",
       "     this.frames[i].src = frames[i];\n",
       "    }\n",
       "    var slider = document.getElementById(this.slider_id);\n",
       "    slider.max = this.frames.length - 1;\n",
       "    if (isInternetExplorer()) {\n",
       "        // switch from oninput to onchange because IE <= 11 does not conform\n",
       "        // with W3C specification. It ignores oninput and onchange behaves\n",
       "        // like oninput. In contrast, Microsoft Edge behaves correctly.\n",
       "        slider.setAttribute('onchange', slider.getAttribute('oninput'));\n",
       "        slider.setAttribute('oninput', null);\n",
       "    }\n",
       "    this.set_frame(this.current_frame);\n",
       "  }\n",
       "\n",
       "  Animation.prototype.get_loop_state = function(){\n",
       "    var button_group = document[this.loop_select_id].state;\n",
       "    for (var i = 0; i < button_group.length; i++) {\n",
       "        var button = button_group[i];\n",
       "        if (button.checked) {\n",
       "            return button.value;\n",
       "        }\n",
       "    }\n",
       "    return undefined;\n",
       "  }\n",
       "\n",
       "  Animation.prototype.set_frame = function(frame){\n",
       "    this.current_frame = frame;\n",
       "    document.getElementById(this.img_id).src =\n",
       "            this.frames[this.current_frame].src;\n",
       "    document.getElementById(this.slider_id).value = this.current_frame;\n",
       "  }\n",
       "\n",
       "  Animation.prototype.next_frame = function()\n",
       "  {\n",
       "    this.set_frame(Math.min(this.frames.length - 1, this.current_frame + 1));\n",
       "  }\n",
       "\n",
       "  Animation.prototype.previous_frame = function()\n",
       "  {\n",
       "    this.set_frame(Math.max(0, this.current_frame - 1));\n",
       "  }\n",
       "\n",
       "  Animation.prototype.first_frame = function()\n",
       "  {\n",
       "    this.set_frame(0);\n",
       "  }\n",
       "\n",
       "  Animation.prototype.last_frame = function()\n",
       "  {\n",
       "    this.set_frame(this.frames.length - 1);\n",
       "  }\n",
       "\n",
       "  Animation.prototype.slower = function()\n",
       "  {\n",
       "    this.interval /= 0.7;\n",
       "    if(this.direction > 0){this.play_animation();}\n",
       "    else if(this.direction < 0){this.reverse_animation();}\n",
       "  }\n",
       "\n",
       "  Animation.prototype.faster = function()\n",
       "  {\n",
       "    this.interval *= 0.7;\n",
       "    if(this.direction > 0){this.play_animation();}\n",
       "    else if(this.direction < 0){this.reverse_animation();}\n",
       "  }\n",
       "\n",
       "  Animation.prototype.anim_step_forward = function()\n",
       "  {\n",
       "    this.current_frame += 1;\n",
       "    if(this.current_frame < this.frames.length){\n",
       "      this.set_frame(this.current_frame);\n",
       "    }else{\n",
       "      var loop_state = this.get_loop_state();\n",
       "      if(loop_state == \"loop\"){\n",
       "        this.first_frame();\n",
       "      }else if(loop_state == \"reflect\"){\n",
       "        this.last_frame();\n",
       "        this.reverse_animation();\n",
       "      }else{\n",
       "        this.pause_animation();\n",
       "        this.last_frame();\n",
       "      }\n",
       "    }\n",
       "  }\n",
       "\n",
       "  Animation.prototype.anim_step_reverse = function()\n",
       "  {\n",
       "    this.current_frame -= 1;\n",
       "    if(this.current_frame >= 0){\n",
       "      this.set_frame(this.current_frame);\n",
       "    }else{\n",
       "      var loop_state = this.get_loop_state();\n",
       "      if(loop_state == \"loop\"){\n",
       "        this.last_frame();\n",
       "      }else if(loop_state == \"reflect\"){\n",
       "        this.first_frame();\n",
       "        this.play_animation();\n",
       "      }else{\n",
       "        this.pause_animation();\n",
       "        this.first_frame();\n",
       "      }\n",
       "    }\n",
       "  }\n",
       "\n",
       "  Animation.prototype.pause_animation = function()\n",
       "  {\n",
       "    this.direction = 0;\n",
       "    if (this.timer){\n",
       "      clearInterval(this.timer);\n",
       "      this.timer = null;\n",
       "    }\n",
       "  }\n",
       "\n",
       "  Animation.prototype.play_animation = function()\n",
       "  {\n",
       "    this.pause_animation();\n",
       "    this.direction = 1;\n",
       "    var t = this;\n",
       "    if (!this.timer) this.timer = setInterval(function() {\n",
       "        t.anim_step_forward();\n",
       "    }, this.interval);\n",
       "  }\n",
       "\n",
       "  Animation.prototype.reverse_animation = function()\n",
       "  {\n",
       "    this.pause_animation();\n",
       "    this.direction = -1;\n",
       "    var t = this;\n",
       "    if (!this.timer) this.timer = setInterval(function() {\n",
       "        t.anim_step_reverse();\n",
       "    }, this.interval);\n",
       "  }\n",
       "</script>\n",
       "\n",
       "<style>\n",
       ".animation {\n",
       "    display: inline-block;\n",
       "    text-align: center;\n",
       "}\n",
       "input[type=range].anim-slider {\n",
       "    width: 374px;\n",
       "    margin-left: auto;\n",
       "    margin-right: auto;\n",
       "}\n",
       ".anim-buttons {\n",
       "    margin: 8px 0px;\n",
       "}\n",
       ".anim-buttons button {\n",
       "    padding: 0;\n",
       "    width: 36px;\n",
       "}\n",
       ".anim-state label {\n",
       "    margin-right: 8px;\n",
       "}\n",
       ".anim-state input {\n",
       "    margin: 0;\n",
       "    vertical-align: middle;\n",
       "}\n",
       "</style>\n",
       "\n",
       "<div class=\"animation\">\n",
       "  <img id=\"_anim_img768e3e09e0a941e19eaba39aceb6680a\">\n",
       "  <div class=\"anim-controls\">\n",
       "    <input id=\"_anim_slider768e3e09e0a941e19eaba39aceb6680a\" type=\"range\" class=\"anim-slider\"\n",
       "           name=\"points\" min=\"0\" max=\"1\" step=\"1\" value=\"0\"\n",
       "           oninput=\"anim768e3e09e0a941e19eaba39aceb6680a.set_frame(parseInt(this.value));\">\n",
       "    <div class=\"anim-buttons\">\n",
       "      <button title=\"Decrease speed\" aria-label=\"Decrease speed\" onclick=\"anim768e3e09e0a941e19eaba39aceb6680a.slower()\">\n",
       "          <i class=\"fa fa-minus\"></i></button>\n",
       "      <button title=\"First frame\" aria-label=\"First frame\" onclick=\"anim768e3e09e0a941e19eaba39aceb6680a.first_frame()\">\n",
       "        <i class=\"fa fa-fast-backward\"></i></button>\n",
       "      <button title=\"Previous frame\" aria-label=\"Previous frame\" onclick=\"anim768e3e09e0a941e19eaba39aceb6680a.previous_frame()\">\n",
       "          <i class=\"fa fa-step-backward\"></i></button>\n",
       "      <button title=\"Play backwards\" aria-label=\"Play backwards\" onclick=\"anim768e3e09e0a941e19eaba39aceb6680a.reverse_animation()\">\n",
       "          <i class=\"fa fa-play fa-flip-horizontal\"></i></button>\n",
       "      <button title=\"Pause\" aria-label=\"Pause\" onclick=\"anim768e3e09e0a941e19eaba39aceb6680a.pause_animation()\">\n",
       "          <i class=\"fa fa-pause\"></i></button>\n",
       "      <button title=\"Play\" aria-label=\"Play\" onclick=\"anim768e3e09e0a941e19eaba39aceb6680a.play_animation()\">\n",
       "          <i class=\"fa fa-play\"></i></button>\n",
       "      <button title=\"Next frame\" aria-label=\"Next frame\" onclick=\"anim768e3e09e0a941e19eaba39aceb6680a.next_frame()\">\n",
       "          <i class=\"fa fa-step-forward\"></i></button>\n",
       "      <button title=\"Last frame\" aria-label=\"Last frame\" onclick=\"anim768e3e09e0a941e19eaba39aceb6680a.last_frame()\">\n",
       "          <i class=\"fa fa-fast-forward\"></i></button>\n",
       "      <button title=\"Increase speed\" aria-label=\"Increase speed\" onclick=\"anim768e3e09e0a941e19eaba39aceb6680a.faster()\">\n",
       "          <i class=\"fa fa-plus\"></i></button>\n",
       "    </div>\n",
       "    <form title=\"Repetition mode\" aria-label=\"Repetition mode\" action=\"#n\" name=\"_anim_loop_select768e3e09e0a941e19eaba39aceb6680a\"\n",
       "          class=\"anim-state\">\n",
       "      <input type=\"radio\" name=\"state\" value=\"once\" id=\"_anim_radio1_768e3e09e0a941e19eaba39aceb6680a\"\n",
       "             >\n",
       "      <label for=\"_anim_radio1_768e3e09e0a941e19eaba39aceb6680a\">Once</label>\n",
       "      <input type=\"radio\" name=\"state\" value=\"loop\" id=\"_anim_radio2_768e3e09e0a941e19eaba39aceb6680a\"\n",
       "             checked>\n",
       "      <label for=\"_anim_radio2_768e3e09e0a941e19eaba39aceb6680a\">Loop</label>\n",
       "      <input type=\"radio\" name=\"state\" value=\"reflect\" id=\"_anim_radio3_768e3e09e0a941e19eaba39aceb6680a\"\n",
       "             >\n",
       "      <label for=\"_anim_radio3_768e3e09e0a941e19eaba39aceb6680a\">Reflect</label>\n",
       "    </form>\n",
       "  </div>\n",
       "</div>\n",
       "\n",
       "\n",
       "<script language=\"javascript\">\n",
       "  /* Instantiate the Animation class. */\n",
       "  /* The IDs given should match those used in the template above. */\n",
       "  (function() {\n",
       "    var img_id = \"_anim_img768e3e09e0a941e19eaba39aceb6680a\";\n",
       "    var slider_id = \"_anim_slider768e3e09e0a941e19eaba39aceb6680a\";\n",
       "    var loop_select_id = \"_anim_loop_select768e3e09e0a941e19eaba39aceb6680a\";\n",
       "    var frames = new Array(3);\n",
       "    \n",
       "  frames[0] = \"data:image/png;base64,iVBORw0KGgoAAAANSUhEUgAAAoAAAAHgCAYAAAA10dzkAAAAOnRFWHRTb2Z0d2FyZQBNYXRwbG90\\\n",
       "bGliIHZlcnNpb24zLjEwLjUsIGh0dHBzOi8vbWF0cGxvdGxpYi5vcmcvWftoOwAAAAlwSFlzAAAP\\\n",
       "YQAAD2EBqD+naQAAI1pJREFUeJzt3Q2QldV9P/AfLwJSBTUEEESJWuNbhAQEERmjJaHVaphpGqJW\\\n",
       "CPUlNsYx0DSALxBjFOPb0IkoDb62iQV1NDFCsYpSayRlBGk1ChlFA7GCECOrqIBw/3POv7vDwi4s\\\n",
       "Krtwz+cz87j3ee45d8/17HK/e57nnKdVpVKpBAAAxWjd0g0AAKB5CYAAAIURAAEACiMAAgAURgAE\\\n",
       "ACiMAAgAUBgBEACgMAIgAEBhBEAAgMIIgAAAhREAAQAKIwACABRGAAQAKIwACABQGAEQAKAwAiAA\\\n",
       "QGEEQACAwgiAAACFEQABAAojAAIAFEYABAAojAAIAFAYARAAoDACIABAYQRAAIDCCIAAAIURAAEA\\\n",
       "CiMAAgAURgAEACiMAAgAUBgBEACgMAIgAEBhBEAAgMIIgAAAhREAAQAKIwACABRGAAQAKIwACABQ\\\n",
       "GAEQAKAwAiAAQGEEQACAwgiAAACFEQABAAojAAIAFEYABAAojAAIAFAYARAAoDACIABAYQRAAIDC\\\n",
       "CIAAAIURAAEACiMAAgAUpmoC4FNPPRVnnHFG9OjRI1q1ahU///nPd1hn3rx58YUvfCHat28fhx9+\\\n",
       "eNx9993N0lYAgJZUNQFw3bp10adPn5g6dWqTyr/66qtx+umnxymnnBKLFy+O73znO3H++efHo48+\\\n",
       "usvbCgDQklpVKpVKVJk0AvjQQw/F8OHDGy0zbty4mDVrVrzwwgt1x77+9a/H22+/HXPmzGmmlgIA\\\n",
       "NL+qGQHcWfPnz4+hQ4fWOzZs2LB8HACgmrWNQq1cuTK6detW71jar6mpiffffz/23nvvbeqsX78+\\\n",
       "b7U2b94cb731VnzqU5/Ko44AwO6vUqnEO++8k+cNtG5d5lhYsQHwo5g8eXJcddVVLd0MAOATsGLF\\\n",
       "ijjooIOiRMUGwO7du8eqVavqHUv7nTp1anD0L5kwYUKMHTu2bn/t2rVx8MEH5x+gVA8A2P3V1NRE\\\n",
       "r169Yt99941SFRsABw0aFLNnz6537LHHHsvHG5OWi0nb1lL4EwABYM/SquDLt6rmxPe7776bl3NJ\\\n",
       "W+0yL+nx8uXL60bvRo4cWVf+oosuimXLlsX3vve9WLJkSdx6661x3333xZgxY1rsPQAANIeqCYDP\\\n",
       "PvtsfP7zn89bkk7VpscTJ07M+2+88UZdGEw+85nP5GVg0qhfWj/wpptuittvvz3PBAYAqGZVuQ5g\\\n",
       "c15D0Llz53wtoFPAALBn8PldRSOAAAA0jQAIAFAYARAAoDACIABAYQRAAIDCCIAAAIURAAEACiMA\\\n",
       "AgAURgAEACiMAAgAUBgBEACgMAIgAEBhBEAAgMIIgAAAhREAAQAKIwACABRGAAQAKIwACABQGAEQ\\\n",
       "AKAwAiAAQGEEQACAwgiAAACFEQABAAojAAIAFEYABAAojAAIAFAYARAAoDACIABAYQRAAIDCCIAA\\\n",
       "AIURAAEACiMAAgAURgAEACiMAAgAUBgBEACgMAIgAEBhBEAAgMIIgAAAhREAAQAKIwACABRGAAQA\\\n",
       "KIwACABQGAEQAKAwAiAAQGEEQACAwgiAAACFEQABAAojAAIAFEYABAAojAAIAFAYARAAoDACIABA\\\n",
       "YQRAAIDCCIAAAIURAAEACiMAAgAURgAEACiMAAgAUBgBEACgMAIgAEBhBEAAgMIIgAAAhREAAQAK\\\n",
       "U1UBcOrUqdG7d+/o0KFDDBw4MBYsWLDd8lOmTInPfvazsffee0evXr1izJgx8cEHHzRbewEAWkLV\\\n",
       "BMCZM2fG2LFjY9KkSbFo0aLo06dPDBs2LN58880Gy997770xfvz4XP6ll16KO+64I7/GZZdd1uxt\\\n",
       "BwBoTlUTAG+++ea44IILYvTo0XH00UfHtGnTomPHjnHnnXc2WP6ZZ56JwYMHx9lnn51HDb/85S/H\\\n",
       "WWedtcNRQwCAPV1VBMANGzbEwoULY+jQoXXHWrdunffnz5/fYJ0TTzwx16kNfMuWLYvZs2fHaaed\\\n",
       "1mztBgBoCW2jCqxZsyY2bdoU3bp1q3c87S9ZsqTBOmnkL9U76aSTolKpxIcffhgXXXTRdk8Br1+/\\\n",
       "Pm+1ampqPsF3AQDQPKpiBPCjmDdvXlx77bVx66235msGH3zwwZg1a1ZcffXVjdaZPHlydO7cuW5L\\\n",
       "E0cAAPY0rSpp+KsKTgGn6/0eeOCBGD58eN3xUaNGxdtvvx2/+MUvtqkzZMiQOOGEE+KGG26oO/bT\\\n",
       "n/40Lrzwwnj33XfzKeSmjACmELh27dro1KnTLnlvAMAnq6amJg/klPz5XRUjgO3atYt+/frF3Llz\\\n",
       "645t3rw57w8aNKjBOu+99942Ia9Nmzb5a2OZuH379vkHZcsNAGBPUxXXACZpCZg04te/f/8YMGBA\\\n",
       "XuNv3bp1eVZwMnLkyOjZs2c+jZucccYZeebw5z//+bxm4MsvvxxXXnllPl4bBAEAqlHVBMARI0bE\\\n",
       "6tWrY+LEibFy5cro27dvzJkzp25iyPLly+uN+F1xxRXRqlWr/PX111+PT3/60zn8XXPNNS34LgAA\\\n",
       "dr2quAawpbiGAAD2PDU+v6vjGkAAAJpOAAQAKIwACABQGAEQAKAwAiAAQGEEQACAwgiAAACFEQAB\\\n",
       "AAojAAIAFEYABAAojAAIAFAYARAAoDACIABAYQRAAIDCCIAAAIURAAEACiMAAgAURgAEACiMAAgA\\\n",
       "UBgBEACgMAIgAEBhBEAAgMIIgAAAhREAAQAKIwACABRGAAQAKIwACABQGAEQAKAwAiAAQGEEQACA\\\n",
       "wgiAAACFEQABAAojAAIAFEYABAAojAAIAFAYARAAoDACIABAYQRAAIDCCIAAAIURAAEACiMAAgAU\\\n",
       "RgAEACiMAAgAUBgBEACgMAIgAEBhBEAAgMIIgAAAhREAAQAKIwACABRGAAQAKIwACABQGAEQAKAw\\\n",
       "AiAAQGEEQACAwgiAAACFEQABAAojAAIAFEYABAAojAAIAFAYARAAoDACIABAYQRAAIDCCIAAAIWp\\\n",
       "qgA4derU6N27d3To0CEGDhwYCxYs2G75t99+Oy6++OI48MADo3379nHEEUfE7Nmzm629AAAtoW1U\\\n",
       "iZkzZ8bYsWNj2rRpOfxNmTIlhg0bFkuXLo2uXbtuU37Dhg3xpS99KT/3wAMPRM+ePeN3v/td7Lff\\\n",
       "fi3SfgCA5tKqUqlUogqk0Hf88cfHLbfckvc3b94cvXr1iksuuSTGjx+/TfkUFG+44YZYsmRJ7LXX\\\n",
       "Xh/pe9bU1ETnzp1j7dq10alTp4/9HgCAXa/G53d1nAJOo3kLFy6MoUOH1h1r3bp13p8/f36DdR5+\\\n",
       "+OEYNGhQPgXcrVu3OPbYY+Paa6+NTZs2Nfp91q9fn39ottwAAPY0VREA16xZk4NbCnJbSvsrV65s\\\n",
       "sM6yZcvyqd9UL133d+WVV8ZNN90UP/zhDxv9PpMnT85/MdRuaYQRAGBPUxUB8KNIp4jT9X8/+clP\\\n",
       "ol+/fjFixIi4/PLL86nhxkyYMCEPF9duK1asaNY2AwB8EqpiEkiXLl2iTZs2sWrVqnrH03737t0b\\\n",
       "rJNm/qZr/1K9WkcddVQeMUynlNu1a7dNnTRTOG0AAHuyqhgBTGEtjeLNnTu33ghf2k/X+TVk8ODB\\\n",
       "8fLLL+dytX7729/mYNhQ+AMAqBZVEQCTtATM9OnT45577omXXnop/u7v/i7WrVsXo0ePzs+PHDky\\\n",
       "n8KtlZ5/66234tJLL83Bb9asWXkSSJoUAgBQzariFHCSruFbvXp1TJw4MZ/G7du3b8yZM6duYsjy\\\n",
       "5cvzzOBaaQLHo48+GmPGjInjjjsurwOYwuC4ceNa8F0AAOx6VbMOYEuwjhAA7HlqfH5XzylgAACa\\\n",
       "RgAEACiMAAgAUBgBEACgMAIgAEBhBEAAgMIIgAAAhREAAQAKIwACABRGAAQA+D/p7iBTp06N0047\\\n",
       "LXr37h0dO3bMdw054ogj4pxzzomZM2fGpk2bYk/nVnAfg1vJAED1fH5Pnz49JkyYEH/4wx+2W//o\\\n",
       "o4+Of/qnf4qTTjop9lRGAAGA4n33u9+NCy+8MIe/tm3bxt/8zd/EfffdF//1X/8V//mf/xm33357\\\n",
       "nHrqqbnsiy++GEOHDo0HHngg9lRGAD8GI4AAsOd/ft96661x8cUX5+cOOuig+OUvfxl9+/ZtsO69\\\n",
       "994bo0ePjg0bNkT79u3j17/+daNld2cC4McgAALAnv35/cc//jGOPPLI+OCDD+JP/uRPYtGiRfl6\\\n",
       "v+352c9+lkcIk2OPPTb+53/+J1q1ahV7EqeAAYBiTZkyJYe/ZOLEiTsMf0maDPLnf/7n+fELL7wQ\\\n",
       "jzzyyDZlvvjFL+ZQmL4mS5cuzaeYP/OZz0SHDh3iwAMPjK997Wt5BLEpVq5cGZdffnn0798/Djjg\\\n",
       "gDz62KtXr/wajz/+eKP1XnvttdyOtN1999352IMPPigAAgBlqlQq8c///M/58d577x3f/OY3m1z3\\\n",
       "O9/5Tt3ju+66a7tl/+3f/i369euXJ5mkQLZ+/foc6O6///4YPHhwDqE7GnE8/PDD49prr42FCxfm\\\n",
       "Uct0Cvr3v/99fo0vfelLcf7558eHH364w/c7cuTI+Ku/+qto2+R3CgBQRV566aV466238uMhQ4bk\\\n",
       "08JNlSaBpND4/vvvx9NPP91ouf/93/+Ns88+O08sSQGudkTwySefjB/96Ef5dPSYMWPykjPDhw/f\\\n",
       "pn6aiHLuuefm8HbooYfGt7/97TwL+dOf/nQOk3fccUfMnj07f02Xo918882NtiUFzXS6Or3X9IJ8\\\n",
       "RGvXrk3XT+avAMCe9fk9ffr0/DVt48eP3+nXOeGEE+rqv/766/WeO/nkk+ue69y5c+XFF1/cpv4L\\\n",
       "L7xQ6dSpUy7Ts2fPyoYNG+o9v3r16lw3Pf+3f/u3lY0bNzbYjssuuyyXad26dWXJkiX1nnv11Vfr\\\n",
       "2pG2kSNHVjZv3lxxChgAKNIftljvr3v37jtdv1u3bg2+1tauvPLKOOqoo7Y5fswxx+Tr+pLXX389\\\n",
       "fvGLX9R7/rbbbssTVXr27JlnKqdRxIZcddVVuczmzZvrTmk3ZL/99otbbrklXw8oAAIARXr33Xfr\\\n",
       "Hu+zzz47XX/LOulUbkNS2Bo1alSjr5GWlKmdQbz1ZI6HH344f/3Lv/zLPOmjMSkYDho0KD+eP39+\\\n",
       "o+XOOOOM2HffffNjARAAKNI+WwS4LcNgU21Zp7Hl4NKs3y5dujT6GulavnT9X/L888/XHU+3m1u8\\\n",
       "eHF+nO46UjuTt7GtdlHqNLmkMccdd1zdYwEQACjSpz71qbrH2wtOjVm1alWDr7Wlrl27NvlUcu2E\\\n",
       "lNrHO5rV25D33nuv0ef233//usdmAQMARTrmmGPqHj/33HM7VTeN0KUZtbWjeD169Giw3EddIDq9\\\n",
       "fq20xMull17apHrt2rVr9Lk2bdrUPRYAAYAiHX300XlR5TTa9tRTT+UJF01dCiZdr1c72paXVWnC\\\n",
       "KOGOyqS21NrycVoCJt1x5JPkFDAAUKRWrVrlhZGTtJ5fWqi5qX784x/XPf7GN77RaLlXX311uzOE\\\n",
       "V69endfzS7YMeWkkr3aE8le/+lV80gRAAKBYl156ad0M27Scyssvv7zDOjNmzIhZs2bVhbY0S7cp\\\n",
       "dxtpSLo9WypTu7j0ls4888z8dcmSJfHoo4/GJ0kABACK1bt377jhhhvqZvX+2Z/9Wfz3f/93o+XT\\\n",
       "nTlql3VJo3T/8i//ssPr/K6++up8L+CG7kRyzTXX5Mfp3sBf+cpXtgmntTOV03Ixv/nNb7b7fVIo\\\n",
       "rb0ucUdcAwgAFO2SSy6JV155Jf7xH/8xli9fHv3794+zzjorj8AdcsghsXHjxjwKd++998bcuXNz\\\n",
       "nTRq+NOf/jT69u273ddO9/BNp3lPOOGEGDduXN2t4ObNmxfXXXddvu6w9pTy1hM40uzge+65J776\\\n",
       "1a/GG2+8kduVTjf/xV/8RRx00EG5Xel+wAsWLMjLwCxbtix++ctf1lvupVE7fd8T6rgVHABUz+f3\\\n",
       "bbfdVjnggAPq3Tqtoe2oo46qPPXUU9v9HrW3gktfH3nkkUrHjh0bfK10+7Ybb7xxu6/18MMPN6ld\\\n",
       "6bWeeOKJRm8Fd9ddd9UdNwIIABARF110UXz961/PI3vpdGo65ZpG79KdNtJo3PHHH59P0/71X/91\\\n",
       "vSVVduT000+PZ599Np9qfuKJJ/JoXrotW5o9/Pd///d1d/HY3h080mSSNEll9uzZuV1p5nJqV7qF\\\n",
       "XZoscuqpp+aRwl69ejWpTa1SCmzyO6CedNuXNF08Dd82tgI4AFDe5/cXv/jF+I//+I84+eST8+ne\\\n",
       "3Y1JIAAAhREAAQAKIwACABRGAAQAKIwACABQGMvAAAB8wnbHmb9bMgIIAFAYARAAoDACIABAYQRA\\\n",
       "AIDCCIAAAIURAAEACiMAAgAURgAEACiMAAgAUBgBEACgMAIgAEBhBEAAgMIIgAAAhREAAQAKIwAC\\\n",
       "ABRGAAQAKIwACABQGAEQAKAwAiAAQGEEQACAwgiAAACFEQABAAojAAIAFEYABAAojAAIAFAYARAA\\\n",
       "oDBVFQCnTp0avXv3jg4dOsTAgQNjwYIFTao3Y8aMaNWqVQwfPnyXtxEAoKVVTQCcOXNmjB07NiZN\\\n",
       "mhSLFi2KPn36xLBhw+LNN9/cbr3XXnstvvvd78aQIUOara0AAC2pagLgzTffHBdccEGMHj06jj76\\\n",
       "6Jg2bVp07Ngx7rzzzkbrbNq0Kc4555y46qqr4tBDD23W9gIAtJSqCIAbNmyIhQsXxtChQ+uOtW7d\\\n",
       "Ou/Pnz+/0Xo/+MEPomvXrnHeeec16fusX78+ampq6m0AAHuaqgiAa9asyaN53bp1q3c87a9cubLB\\\n",
       "Ok8//XTccccdMX369CZ/n8mTJ0fnzp3rtl69en3stgMANLeqCIA765133olzzz03h78uXbo0ud6E\\\n",
       "CRNi7dq1dduKFSt2aTsBAHaFtlEFUohr06ZNrFq1qt7xtN+9e/dtyr/yyit58scZZ5xRd2zz5s35\\\n",
       "a9u2bWPp0qVx2GGHbVOvffv2eQMA2JNVxQhgu3btol+/fjF37tx6gS7tDxo0aJvyRx55ZDz//POx\\\n",
       "ePHiuu3MM8+MU045JT92ahcAqGZVMQKYpCVgRo0aFf37948BAwbElClTYt26dXlWcDJy5Mjo2bNn\\\n",
       "vo4vrRN47LHH1qu/33775a9bHwcAqDZVEwBHjBgRq1evjokTJ+aJH3379o05c+bUTQxZvnx5nhkM\\\n",
       "AFC6VpVKpdLSjdhTpWVg0mzgNCGkU6dOLd0cAKAJanx+V8c1gAAANJ0ACABQGAEQAKAwAiAAQGEE\\\n",
       "QACAwgiAAACFEQABAAojAAIAFEYABAAojAAIAFAYARAAoDACIABAYQRAAIDCCIAAAIURAAEACiMA\\\n",
       "AgAURgAEACiMAAgAUBgBEACgMAIgAEBhBEAAgMIIgAAAhREAAQAKIwACABRGAAQAKIwACABQGAEQ\\\n",
       "AKAwAiAAQGEEQACAwgiAAACFEQABAAojAAIAFEYABAAojAAIAFAYARAAoDACIABAYQRAAIDCCIAA\\\n",
       "AIURAAEACiMAAgAURgAEACiMAAgAUBgBEACgMAIgAEBhBEAAgMIIgAAAhREAAQAKIwACABRGAAQA\\\n",
       "KIwACABQGAEQAKAwAiAAQGEEQACAwgiAAACFEQABAAojAAIAFEYABAAojAAIAFAYARAAoDACIABA\\\n",
       "YQRAAIDCCIAAAIURAAEAClNVAXDq1KnRu3fv6NChQwwcODAWLFjQaNnp06fHkCFDYv/998/b0KFD\\\n",
       "t1seAKBaVE0AnDlzZowdOzYmTZoUixYtij59+sSwYcPizTffbLD8vHnz4qyzzoonn3wy5s+fH716\\\n",
       "9Yovf/nL8frrrzd72wEAmlOrSqVSiSqQRvyOP/74uOWWW/L+5s2bc6i75JJLYvz48Tusv2nTpjwS\\\n",
       "mOqPHDmySd+zpqYmOnfuHGvXro1OnTp97PcAAOx6NT6/q2MEcMOGDbFw4cJ8GrdW69at834a3WuK\\\n",
       "9957LzZu3BgHHHBAo2XWr1+ff2i23AAA9jRVEQDXrFmTR/C6detW73jaX7lyZZNeY9y4cdGjR496\\\n",
       "IXJrkydPzn8x1G5phBEAYE9TFQHw47ruuutixowZ8dBDD+UJJI2ZMGFCHi6u3VasWNGs7QQA+CS0\\\n",
       "jSrQpUuXaNOmTaxatare8bTfvXv37da98cYbcwB8/PHH47jjjttu2fbt2+cNAGBPVhUjgO3atYt+\\\n",
       "/frF3Llz646lSSBpf9CgQY3Wu/766+Pqq6+OOXPmRP/+/ZuptQAALasqRgCTtATMqFGjcpAbMGBA\\\n",
       "TJkyJdatWxejR4/Oz6eZvT179szX8SU/+tGPYuLEiXHvvffmtQNrrxXcZ5998gYAUK2qJgCOGDEi\\\n",
       "Vq9enUNdCnN9+/bNI3u1E0OWL1+eZwbXuu222/Ls4a9+9av1XietI/j973+/2dsPANBcqmYdwJZg\\\n",
       "HSEA2PPU+PyujmsAAQBoOgEQAKAwAiAAQGEEQACAwgiAAACFEQABAAojAAIAFEYABAAojAAIAFAY\\\n",
       "ARAAoDACIABAYQRAAIDCCIAAAIURAAEACiMAAgAURgAEACiMAAgAUBgBEACgMAIgAEBhBEAAgMII\\\n",
       "gAAAhREAAQAKIwACABRGAAQAKIwACABQGAEQAKAwAiAAQGEEQACAwgiAAACFEQABAAojAAIAFEYA\\\n",
       "BAAojAAIAFAYARAAoDACIABAYQRAAIDCCIAAAIURAAEACiMAAgAURgAEACiMAAgAUBgBEACgMAIg\\\n",
       "AEBhBEAAgMIIgAAAhREAAQAKIwACABRGAAQAKIwACABQGAEQAKAwAiAAQGEEQACAwgiAAACFEQAB\\\n",
       "AAojAAIAFEYABAAojAAIAFAYARAAoDACIABAYQRAAIDCCIAAAIURAAEACiMAAgAUpqoC4NSpU6N3\\\n",
       "797RoUOHGDhwYCxYsGC75e+///448sgjc/nPfe5zMXv27GZrKwBAS6maADhz5swYO3ZsTJo0KRYt\\\n",
       "WhR9+vSJYcOGxZtvvtlg+WeeeSbOOuusOO+88+K5556L4cOH5+2FF15o9rYDADSnVpVKpRJVII34\\\n",
       "HX/88XHLLbfk/c2bN0evXr3ikksuifHjx29TfsSIEbFu3bp45JFH6o6dcMIJ0bdv35g2bVqTvmdN\\\n",
       "TU107tw51q5dG506dfoE3w0AsKvU+PyOtlEFNmzYEAsXLowJEybUHWvdunUMHTo05s+f32CddDyN\\\n",
       "GG4pjRj+/Oc/b/T7rF+/Pm+10g9O7Q8SALBnqPm/z+0qGQMrNwCuWbMmNm3aFN26dat3PO0vWbKk\\\n",
       "wTorV65ssHw63pjJkyfHVVddtc3xNNIIAOxZ/vCHP+SRwBJVRQBsLmmEcctRw7fffjsOOeSQWL58\\\n",
       "ebE/QLvTX3MpiK9YsaLY4fzdhb7YveiP3Ye+2H2sXbs2Dj744DjggAOiVFURALt06RJt2rSJVatW\\\n",
       "1Tue9rt3795gnXR8Z8on7du3z9vWUvjzy7x7SP2gL3YP+mL3oj92H/pi99G6ddXMhd1pVfHO27Vr\\\n",
       "F/369Yu5c+fWHUuTQNL+oEGDGqyTjm9ZPnnssccaLQ8AUC2qYgQwSadmR40aFf37948BAwbElClT\\\n",
       "8izf0aNH5+dHjhwZPXv2zNfxJZdeemmcfPLJcdNNN8Xpp58eM2bMiGeffTZ+8pOftPA7AQDYtaom\\\n",
       "AKZlXVavXh0TJ07MEznSci5z5sypm+iRrtPbcqj3xBNPjHvvvTeuuOKKuOyyy+JP//RP8wzgY489\\\n",
       "tsnfM50OTusONnRamOalL3Yf+mL3oj92H/pi99FeX1TPOoAAABR0DSAAAE0nAAIAFEYABAAojAAI\\\n",
       "AFAYAXAHpk6dGr17944OHTrEwIEDY8GCBdstf//998eRRx6Zy3/uc5+L2bNnN1tbq93O9MX06dNj\\\n",
       "yJAhsf/+++ct3Rd6R33Hrvu9qJWWW2rVqlUMHz58l7exFDvbF+kORhdffHEceOCBeQbkEUcc4d+p\\\n",
       "FuyPtGTZZz/72dh7773zXULGjBkTH3zwQbO1t1o99dRTccYZZ0SPHj3yvzlplY8dmTdvXnzhC1/I\\\n",
       "vxeHH3543H333VHV0ixgGjZjxoxKu3btKnfeeWflN7/5TeWCCy6o7LfffpVVq1Y1WP5Xv/pVpU2b\\\n",
       "NpXrr7++8uKLL1auuOKKyl577VV5/vnnm73tpffF2WefXZk6dWrlueeeq7z00kuVb3zjG5XOnTtX\\\n",
       "fv/73zd720vvi1qvvvpqpWfPnpUhQ4ZUvvKVrzRbe6vZzvbF+vXrK/3796+cdtpplaeffjr3ybx5\\\n",
       "8yqLFy9u9rZXo53tj5/97GeV9u3b56+pLx599NHKgQceWBkzZkyzt73azJ49u3L55ZdXHnzwwbTS\\\n",
       "SeWhhx7abvlly5ZVOnbsWBk7dmz+/P7xj3+cP8/nzJlTqVYC4HYMGDCgcvHFF9ftb9q0qdKjR4/K\\\n",
       "5MmTGyz/ta99rXL66afXOzZw4MDKN7/5zV3e1mq3s32xtQ8//LCy7777Vu65555d2MoyfJS+SP//\\\n",
       "TzzxxMrtt99eGTVqlADYQn1x2223VQ499NDKhg0bmrGV5djZ/khlTz311HrHUgAZPHjwLm9rSZoS\\\n",
       "AL/3ve9VjjnmmHrHRowYURk2bFilWjkF3IgNGzbEwoUL86nDWmkh6bQ/f/78Buuk41uWT4YNG9Zo\\\n",
       "eXZdX2ztvffei40bNxZ94++W7Isf/OAH0bVr1zjvvPOaqaXV76P0xcMPP5xvd5lOAadF8tPC99de\\\n",
       "e21s2rSpGVtenT5Kf6QbEqQ6taeJly1blk/Hn3baac3Wbsr9/K6aO4F80tasWZP/Uay9k0ittL9k\\\n",
       "yZIG66Q7kDRUPh2neftia+PGjcvXgmz9C86u74unn3467rjjjli8eHEztbIMH6UvUsB44okn4pxz\\\n",
       "zslB4+WXX45vfetb+Y+jdFcEmrc/zj777FzvpJNOSmfj4sMPP4yLLroo352K5rWykc/vmpqaeP/9\\\n",
       "9/M1mtXGCCBV77rrrsuTDx566KF8YTbN55133olzzz03T8rp0qVLSzeneJs3b84jseme5/369cu3\\\n",
       "0Lz88stj2rRpLd20IqVJB2kE9tZbb41FixbFgw8+GLNmzYqrr766pZtGAYwANiJ9WLVp0yZWrVpV\\\n",
       "73ja7969e4N10vGdKc+u64taN954Yw6Ajz/+eBx33HG7uKXVb2f74pVXXonXXnstz8bbMoQkbdu2\\\n",
       "jaVLl8Zhhx3WDC2vPh/l9yLN/N1rr71yvVpHHXVUHv1IpzDbtWu3y9tdrT5Kf1x55ZX5D6Tzzz8/\\\n",
       "76eVI9atWxcXXnhhDuZb3r+eXat7I5/fnTp1qsrRv8RPVyPSP4TpL+S5c+fW++BK++kamoak41uW\\\n",
       "Tx577LFGy7Pr+iK5/vrr81/Sc+bMif79+zdTa6vbzvZFWhLp+eefz6d/a7czzzwzTjnllPw4LXtB\\\n",
       "8/1eDB48OJ/2rQ3hyW9/+9scDIW/5u+PdG3y1iGvNpz//7kLNJdBJX5+t/QslN19Sn+aon/33Xfn\\\n",
       "aeEXXnhhntK/cuXK/Py5555bGT9+fL1lYNq2bVu58cYb89IjkyZNsgxMC/XFddddl5djeOCBBypv\\\n",
       "vPFG3fbOO++04Lsosy+2ZhZwy/XF8uXL82z4b3/725WlS5dWHnnkkUrXrl0rP/zhD1vwXZTbH+kz\\\n",
       "IvXHv/7rv+ZlSP793/+9cthhh+UVJfh40r/1aRmwtKWoc/PNN+fHv/vd7/Lz48ePz/2x9TIw//AP\\\n",
       "/5A/v9MyYpaBKVxaC+jggw/OYSJN8f/1r39d99zJJ5+cP8y2dN9991WOOOKIXD5NKZ81a1YLtLo6\\\n",
       "7UxfHHLIIfmXfust/YNL8/9ebEkAbNm+eOaZZ/LyVCmopCVhrrnmmrxMD5+MnemPjRs3Vr7//e/n\\\n",
       "0NehQ4dKr169Kt/61rcqf/zjH1uo9dXjySefbPAzoPb//6hRo3J/bF2nb9++ue/S78Zdd91VqWat\\\n",
       "0n9aehQSAIDm4xpAAIDCCIAAAIURAAEACiMAAgAURgAEACiMAAgAUBgBEACgMAIgAEBhBEAAgMII\\\n",
       "gAAAhREAAQAKIwACABRGAAQAKIwACABQGAEQAKAwAiAAQGEEQACAwgiAAACFEQABAAojAAIAFEYA\\\n",
       "BAAojAAIAFAYARAAoDACIABAYQRAAIDCCIAAAIURAAEACiMAAgAURgAEACiMAAgAUBgBEAAgyvL/\\\n",
       "AJc7bZQ9QgxWAAAAAElFTkSuQmCC\\\n",
       "\"\n",
       "  frames[1] = \"data:image/png;base64,iVBORw0KGgoAAAANSUhEUgAAAoAAAAHgCAYAAAA10dzkAAAAOnRFWHRTb2Z0d2FyZQBNYXRwbG90\\\n",
       "bGliIHZlcnNpb24zLjEwLjUsIGh0dHBzOi8vbWF0cGxvdGxpYi5vcmcvWftoOwAAAAlwSFlzAAAP\\\n",
       "YQAAD2EBqD+naQAAI1pJREFUeJzt3Q2QldV9P/AfLwJSBTUEEESJWuNbhAQEERmjJaHVaphpGqJW\\\n",
       "CPUlNsYx0DSALxBjFOPb0IkoDb62iQV1NDFCsYpSayRlBGk1ChlFA7GCECOrqIBw/3POv7vDwi4s\\\n",
       "Krtwz+cz87j3ee45d8/17HK/e57nnKdVpVKpBAAAxWjd0g0AAKB5CYAAAIURAAEACiMAAgAURgAE\\\n",
       "ACiMAAgAUBgBEACgMAIgAEBhBEAAgMIIgAAAhREAAQAKIwACABRGAAQAKIwACABQGAEQAKAwAiAA\\\n",
       "QGEEQACAwgiAAACFEQABAAojAAIAFEYABAAojAAIAFAYARAAoDACIABAYQRAAIDCCIAAAIURAAEA\\\n",
       "CiMAAgAURgAEACiMAAgAUBgBEACgMAIgAEBhBEAAgMIIgAAAhREAAQAKIwACABRGAAQAKIwACABQ\\\n",
       "GAEQAKAwAiAAQGEEQACAwgiAAACFEQABAAojAAIAFEYABAAojAAIAFAYARAAoDACIABAYQRAAIDC\\\n",
       "CIAAAIURAAEACiMAAgAUpmoC4FNPPRVnnHFG9OjRI1q1ahU///nPd1hn3rx58YUvfCHat28fhx9+\\\n",
       "eNx9993N0lYAgJZUNQFw3bp10adPn5g6dWqTyr/66qtx+umnxymnnBKLFy+O73znO3H++efHo48+\\\n",
       "usvbCgDQklpVKpVKVJk0AvjQQw/F8OHDGy0zbty4mDVrVrzwwgt1x77+9a/H22+/HXPmzGmmlgIA\\\n",
       "NL+qGQHcWfPnz4+hQ4fWOzZs2LB8HACgmrWNQq1cuTK6detW71jar6mpiffffz/23nvvbeqsX78+\\\n",
       "b7U2b94cb731VnzqU5/Ko44AwO6vUqnEO++8k+cNtG5d5lhYsQHwo5g8eXJcddVVLd0MAOATsGLF\\\n",
       "ijjooIOiRMUGwO7du8eqVavqHUv7nTp1anD0L5kwYUKMHTu2bn/t2rVx8MEH5x+gVA8A2P3V1NRE\\\n",
       "r169Yt99941SFRsABw0aFLNnz6537LHHHsvHG5OWi0nb1lL4EwABYM/SquDLt6rmxPe7776bl3NJ\\\n",
       "W+0yL+nx8uXL60bvRo4cWVf+oosuimXLlsX3vve9WLJkSdx6661x3333xZgxY1rsPQAANIeqCYDP\\\n",
       "PvtsfP7zn89bkk7VpscTJ07M+2+88UZdGEw+85nP5GVg0qhfWj/wpptuittvvz3PBAYAqGZVuQ5g\\\n",
       "c15D0Llz53wtoFPAALBn8PldRSOAAAA0jQAIAFAYARAAoDACIABAYQRAAIDCCIAAAIURAAEACiMA\\\n",
       "AgAURgAEACiMAAgAUBgBEACgMAIgAEBhBEAAgMIIgAAAhREAAQAKIwACABRGAAQAKIwACABQGAEQ\\\n",
       "AKAwAiAAQGEEQACAwgiAAACFEQABAAojAAIAFEYABAAojAAIAFAYARAAoDACIABAYQRAAIDCCIAA\\\n",
       "AIURAAEACiMAAgAURgAEACiMAAgAUBgBEACgMAIgAEBhBEAAgMIIgAAAhREAAQAKIwACABRGAAQA\\\n",
       "KIwACABQGAEQAKAwAiAAQGEEQACAwgiAAACFEQABAAojAAIAFEYABAAojAAIAFAYARAAoDACIABA\\\n",
       "YQRAAIDCCIAAAIURAAEACiMAAgAURgAEACiMAAgAUBgBEACgMAIgAEBhBEAAgMIIgAAAhREAAQAK\\\n",
       "U1UBcOrUqdG7d+/o0KFDDBw4MBYsWLDd8lOmTInPfvazsffee0evXr1izJgx8cEHHzRbewEAWkLV\\\n",
       "BMCZM2fG2LFjY9KkSbFo0aLo06dPDBs2LN58880Gy997770xfvz4XP6ll16KO+64I7/GZZdd1uxt\\\n",
       "BwBoTlUTAG+++ea44IILYvTo0XH00UfHtGnTomPHjnHnnXc2WP6ZZ56JwYMHx9lnn51HDb/85S/H\\\n",
       "WWedtcNRQwCAPV1VBMANGzbEwoULY+jQoXXHWrdunffnz5/fYJ0TTzwx16kNfMuWLYvZs2fHaaed\\\n",
       "1mztBgBoCW2jCqxZsyY2bdoU3bp1q3c87S9ZsqTBOmnkL9U76aSTolKpxIcffhgXXXTRdk8Br1+/\\\n",
       "Pm+1ampqPsF3AQDQPKpiBPCjmDdvXlx77bVx66235msGH3zwwZg1a1ZcffXVjdaZPHlydO7cuW5L\\\n",
       "E0cAAPY0rSpp+KsKTgGn6/0eeOCBGD58eN3xUaNGxdtvvx2/+MUvtqkzZMiQOOGEE+KGG26oO/bT\\\n",
       "n/40Lrzwwnj33XfzKeSmjACmELh27dro1KnTLnlvAMAnq6amJg/klPz5XRUjgO3atYt+/frF3Llz\\\n",
       "645t3rw57w8aNKjBOu+99942Ia9Nmzb5a2OZuH379vkHZcsNAGBPUxXXACZpCZg04te/f/8YMGBA\\\n",
       "XuNv3bp1eVZwMnLkyOjZs2c+jZucccYZeebw5z//+bxm4MsvvxxXXnllPl4bBAEAqlHVBMARI0bE\\\n",
       "6tWrY+LEibFy5cro27dvzJkzp25iyPLly+uN+F1xxRXRqlWr/PX111+PT3/60zn8XXPNNS34LgAA\\\n",
       "dr2quAawpbiGAAD2PDU+v6vjGkAAAJpOAAQAKIwACABQGAEQAKAwAiAAQGEEQACAwgiAAACFEQAB\\\n",
       "AAojAAIAFEYABAAojAAIAFAYARAAoDACIABAYQRAAIDCCIAAAIURAAEACiMAAgAURgAEACiMAAgA\\\n",
       "UBgBEACgMAIgAEBhBEAAgMIIgAAAhREAAQAKIwACABRGAAQAKIwACABQGAEQAKAwAiAAQGEEQACA\\\n",
       "wgiAAACFEQABAAojAAIAFEYABAAojAAIAFAYARAAoDACIABAYQRAAIDCCIAAAIURAAEACiMAAgAU\\\n",
       "RgAEACiMAAgAUBgBEACgMAIgAEBhBEAAgMIIgAAAhREAAQAKIwACABRGAAQAKIwACABQGAEQAKAw\\\n",
       "AiAAQGEEQACAwgiAAACFEQABAAojAAIAFEYABAAojAAIAFAYARAAoDACIABAYQRAAIDCCIAAAIWp\\\n",
       "qgA4derU6N27d3To0CEGDhwYCxYs2G75t99+Oy6++OI48MADo3379nHEEUfE7Nmzm629AAAtoW1U\\\n",
       "iZkzZ8bYsWNj2rRpOfxNmTIlhg0bFkuXLo2uXbtuU37Dhg3xpS99KT/3wAMPRM+ePeN3v/td7Lff\\\n",
       "fi3SfgCA5tKqUqlUogqk0Hf88cfHLbfckvc3b94cvXr1iksuuSTGjx+/TfkUFG+44YZYsmRJ7LXX\\\n",
       "Xh/pe9bU1ETnzp1j7dq10alTp4/9HgCAXa/G53d1nAJOo3kLFy6MoUOH1h1r3bp13p8/f36DdR5+\\\n",
       "+OEYNGhQPgXcrVu3OPbYY+Paa6+NTZs2Nfp91q9fn39ottwAAPY0VREA16xZk4NbCnJbSvsrV65s\\\n",
       "sM6yZcvyqd9UL133d+WVV8ZNN90UP/zhDxv9PpMnT85/MdRuaYQRAGBPUxUB8KNIp4jT9X8/+clP\\\n",
       "ol+/fjFixIi4/PLL86nhxkyYMCEPF9duK1asaNY2AwB8EqpiEkiXLl2iTZs2sWrVqnrH03737t0b\\\n",
       "rJNm/qZr/1K9WkcddVQeMUynlNu1a7dNnTRTOG0AAHuyqhgBTGEtjeLNnTu33ghf2k/X+TVk8ODB\\\n",
       "8fLLL+dytX7729/mYNhQ+AMAqBZVEQCTtATM9OnT45577omXXnop/u7v/i7WrVsXo0ePzs+PHDky\\\n",
       "n8KtlZ5/66234tJLL83Bb9asWXkSSJoUAgBQzariFHCSruFbvXp1TJw4MZ/G7du3b8yZM6duYsjy\\\n",
       "5cvzzOBaaQLHo48+GmPGjInjjjsurwOYwuC4ceNa8F0AAOx6VbMOYEuwjhAA7HlqfH5XzylgAACa\\\n",
       "RgAEACiMAAgAUBgBEACgMAIgAEBhBEAAgMIIgAAAhREAAQAKIwACABRGAAQA+D/p7iBTp06N0047\\\n",
       "LXr37h0dO3bMdw054ogj4pxzzomZM2fGpk2bYk/nVnAfg1vJAED1fH5Pnz49JkyYEH/4wx+2W//o\\\n",
       "o4+Of/qnf4qTTjop9lRGAAGA4n33u9+NCy+8MIe/tm3bxt/8zd/EfffdF//1X/8V//mf/xm33357\\\n",
       "nHrqqbnsiy++GEOHDo0HHngg9lRGAD8GI4AAsOd/ft96661x8cUX5+cOOuig+OUvfxl9+/ZtsO69\\\n",
       "994bo0ePjg0bNkT79u3j17/+daNld2cC4McgAALAnv35/cc//jGOPPLI+OCDD+JP/uRPYtGiRfl6\\\n",
       "v+352c9+lkcIk2OPPTb+53/+J1q1ahV7EqeAAYBiTZkyJYe/ZOLEiTsMf0maDPLnf/7n+fELL7wQ\\\n",
       "jzzyyDZlvvjFL+ZQmL4mS5cuzaeYP/OZz0SHDh3iwAMPjK997Wt5BLEpVq5cGZdffnn0798/Djjg\\\n",
       "gDz62KtXr/wajz/+eKP1XnvttdyOtN1999352IMPPigAAgBlqlQq8c///M/58d577x3f/OY3m1z3\\\n",
       "O9/5Tt3ju+66a7tl/+3f/i369euXJ5mkQLZ+/foc6O6///4YPHhwDqE7GnE8/PDD49prr42FCxfm\\\n",
       "Uct0Cvr3v/99fo0vfelLcf7558eHH364w/c7cuTI+Ku/+qto2+R3CgBQRV566aV466238uMhQ4bk\\\n",
       "08JNlSaBpND4/vvvx9NPP91ouf/93/+Ns88+O08sSQGudkTwySefjB/96Ef5dPSYMWPykjPDhw/f\\\n",
       "pn6aiHLuuefm8HbooYfGt7/97TwL+dOf/nQOk3fccUfMnj07f02Xo918882NtiUFzXS6Or3X9IJ8\\\n",
       "RGvXrk3XT+avAMCe9fk9ffr0/DVt48eP3+nXOeGEE+rqv/766/WeO/nkk+ue69y5c+XFF1/cpv4L\\\n",
       "L7xQ6dSpUy7Ts2fPyoYNG+o9v3r16lw3Pf+3f/u3lY0bNzbYjssuuyyXad26dWXJkiX1nnv11Vfr\\\n",
       "2pG2kSNHVjZv3lxxChgAKNIftljvr3v37jtdv1u3bg2+1tauvPLKOOqoo7Y5fswxx+Tr+pLXX389\\\n",
       "fvGLX9R7/rbbbssTVXr27JlnKqdRxIZcddVVuczmzZvrTmk3ZL/99otbbrklXw8oAAIARXr33Xfr\\\n",
       "Hu+zzz47XX/LOulUbkNS2Bo1alSjr5GWlKmdQbz1ZI6HH344f/3Lv/zLPOmjMSkYDho0KD+eP39+\\\n",
       "o+XOOOOM2HffffNjARAAKNI+WwS4LcNgU21Zp7Hl4NKs3y5dujT6GulavnT9X/L888/XHU+3m1u8\\\n",
       "eHF+nO46UjuTt7GtdlHqNLmkMccdd1zdYwEQACjSpz71qbrH2wtOjVm1alWDr7Wlrl27NvlUcu2E\\\n",
       "lNrHO5rV25D33nuv0ef233//usdmAQMARTrmmGPqHj/33HM7VTeN0KUZtbWjeD169Giw3EddIDq9\\\n",
       "fq20xMull17apHrt2rVr9Lk2bdrUPRYAAYAiHX300XlR5TTa9tRTT+UJF01dCiZdr1c72paXVWnC\\\n",
       "KOGOyqS21NrycVoCJt1x5JPkFDAAUKRWrVrlhZGTtJ5fWqi5qX784x/XPf7GN77RaLlXX311uzOE\\\n",
       "V69endfzS7YMeWkkr3aE8le/+lV80gRAAKBYl156ad0M27Scyssvv7zDOjNmzIhZs2bVhbY0S7cp\\\n",
       "dxtpSLo9WypTu7j0ls4888z8dcmSJfHoo4/GJ0kABACK1bt377jhhhvqZvX+2Z/9Wfz3f/93o+XT\\\n",
       "nTlql3VJo3T/8i//ssPr/K6++up8L+CG7kRyzTXX5Mfp3sBf+cpXtgmntTOV03Ixv/nNb7b7fVIo\\\n",
       "rb0ucUdcAwgAFO2SSy6JV155Jf7xH/8xli9fHv3794+zzjorj8AdcsghsXHjxjwKd++998bcuXNz\\\n",
       "nTRq+NOf/jT69u273ddO9/BNp3lPOOGEGDduXN2t4ObNmxfXXXddvu6w9pTy1hM40uzge+65J776\\\n",
       "1a/GG2+8kduVTjf/xV/8RRx00EG5Xel+wAsWLMjLwCxbtix++ctf1lvupVE7fd8T6rgVHABUz+f3\\\n",
       "bbfdVjnggAPq3Tqtoe2oo46qPPXUU9v9HrW3gktfH3nkkUrHjh0bfK10+7Ybb7xxu6/18MMPN6ld\\\n",
       "6bWeeOKJRm8Fd9ddd9UdNwIIABARF110UXz961/PI3vpdGo65ZpG79KdNtJo3PHHH59P0/71X/91\\\n",
       "vSVVduT000+PZ599Np9qfuKJJ/JoXrotW5o9/Pd///d1d/HY3h080mSSNEll9uzZuV1p5nJqV7qF\\\n",
       "XZoscuqpp+aRwl69ejWpTa1SCmzyO6CedNuXNF08Dd82tgI4AFDe5/cXv/jF+I//+I84+eST8+ne\\\n",
       "3Y1JIAAAhREAAQAKIwACABRGAAQAKIwACABQGMvAAAB8wnbHmb9bMgIIAFAYARAAoDACIABAYQRA\\\n",
       "AIDCCIAAAIURAAEACiMAAgAURgAEACiMAAgAUBgBEACgMAIgAEBhBEAAgMIIgAAAhREAAQAKIwAC\\\n",
       "ABRGAAQAKIwACABQGAEQAKAwAiAAQGEEQACAwgiAAACFEQABAAojAAIAFEYABAAojAAIAFAYARAA\\\n",
       "oDBVFQCnTp0avXv3jg4dOsTAgQNjwYIFTao3Y8aMaNWqVQwfPnyXtxEAoKVVTQCcOXNmjB07NiZN\\\n",
       "mhSLFi2KPn36xLBhw+LNN9/cbr3XXnstvvvd78aQIUOara0AAC2pagLgzTffHBdccEGMHj06jj76\\\n",
       "6Jg2bVp07Ngx7rzzzkbrbNq0Kc4555y46qqr4tBDD23W9gIAtJSqCIAbNmyIhQsXxtChQ+uOtW7d\\\n",
       "Ou/Pnz+/0Xo/+MEPomvXrnHeeec16fusX78+ampq6m0AAHuaqgiAa9asyaN53bp1q3c87a9cubLB\\\n",
       "Ok8//XTccccdMX369CZ/n8mTJ0fnzp3rtl69en3stgMANLeqCIA765133olzzz03h78uXbo0ud6E\\\n",
       "CRNi7dq1dduKFSt2aTsBAHaFtlEFUohr06ZNrFq1qt7xtN+9e/dtyr/yyit58scZZ5xRd2zz5s35\\\n",
       "a9u2bWPp0qVx2GGHbVOvffv2eQMA2JNVxQhgu3btol+/fjF37tx6gS7tDxo0aJvyRx55ZDz//POx\\\n",
       "ePHiuu3MM8+MU045JT92ahcAqGZVMQKYpCVgRo0aFf37948BAwbElClTYt26dXlWcDJy5Mjo2bNn\\\n",
       "vo4vrRN47LHH1qu/33775a9bHwcAqDZVEwBHjBgRq1evjokTJ+aJH3379o05c+bUTQxZvnx5nhkM\\\n",
       "AFC6VpVKpdLSjdhTpWVg0mzgNCGkU6dOLd0cAKAJanx+V8c1gAAANJ0ACABQGAEQAKAwAiAAQGEE\\\n",
       "QACAwgiAAACFEQABAAojAAIAFEYABAAojAAIAFAYARAAoDACIABAYQRAAIDCCIAAAIURAAEACiMA\\\n",
       "AgAURgAEACiMAAgAUBgBEACgMAIgAEBhBEAAgMIIgAAAhREAAQAKIwACABRGAAQAKIwACABQGAEQ\\\n",
       "AKAwAiAAQGEEQACAwgiAAACFEQABAAojAAIAFEYABAAojAAIAFAYARAAoDACIABAYQRAAIDCCIAA\\\n",
       "AIURAAEACiMAAgAURgAEACiMAAgAUBgBEACgMAIgAEBhBEAAgMIIgAAAhREAAQAKIwACABRGAAQA\\\n",
       "KIwACABQGAEQAKAwAiAAQGEEQACAwgiAAACFEQABAAojAAIAFEYABAAojAAIAFAYARAAoDACIABA\\\n",
       "YQRAAIDCCIAAAIURAAEAClNVAXDq1KnRu3fv6NChQwwcODAWLFjQaNnp06fHkCFDYv/998/b0KFD\\\n",
       "t1seAKBaVE0AnDlzZowdOzYmTZoUixYtij59+sSwYcPizTffbLD8vHnz4qyzzoonn3wy5s+fH716\\\n",
       "9Yovf/nL8frrrzd72wEAmlOrSqVSiSqQRvyOP/74uOWWW/L+5s2bc6i75JJLYvz48Tusv2nTpjwS\\\n",
       "mOqPHDmySd+zpqYmOnfuHGvXro1OnTp97PcAAOx6NT6/q2MEcMOGDbFw4cJ8GrdW69at834a3WuK\\\n",
       "9957LzZu3BgHHHBAo2XWr1+ff2i23AAA9jRVEQDXrFmTR/C6detW73jaX7lyZZNeY9y4cdGjR496\\\n",
       "IXJrkydPzn8x1G5phBEAYE9TFQHw47ruuutixowZ8dBDD+UJJI2ZMGFCHi6u3VasWNGs7QQA+CS0\\\n",
       "jSrQpUuXaNOmTaxatare8bTfvXv37da98cYbcwB8/PHH47jjjttu2fbt2+cNAGBPVhUjgO3atYt+\\\n",
       "/frF3Llz646lSSBpf9CgQY3Wu/766+Pqq6+OOXPmRP/+/ZuptQAALasqRgCTtATMqFGjcpAbMGBA\\\n",
       "TJkyJdatWxejR4/Oz6eZvT179szX8SU/+tGPYuLEiXHvvffmtQNrrxXcZ5998gYAUK2qJgCOGDEi\\\n",
       "Vq9enUNdCnN9+/bNI3u1E0OWL1+eZwbXuu222/Ls4a9+9av1XietI/j973+/2dsPANBcqmYdwJZg\\\n",
       "HSEA2PPU+PyujmsAAQBoOgEQAKAwAiAAQGEEQACAwgiAAACFEQABAAojAAIAFEYABAAojAAIAFAY\\\n",
       "ARAAoDACIABAYQRAAIDCCIAAAIURAAEACiMAAgAURgAEACiMAAgAUBgBEACgMAIgAEBhBEAAgMII\\\n",
       "gAAAhREAAQAKIwACABRGAAQAKIwACABQGAEQAKAwAiAAQGEEQACAwgiAAACFEQABAAojAAIAFEYA\\\n",
       "BAAojAAIAFAYARAAoDACIABAYQRAAIDCCIAAAIURAAEACiMAAgAURgAEACiMAAgAUBgBEACgMAIg\\\n",
       "AEBhBEAAgMIIgAAAhREAAQAKIwACABRGAAQAKIwACABQGAEQAKAwAiAAQGEEQACAwgiAAACFEQAB\\\n",
       "AAojAAIAFEYABAAojAAIAFAYARAAoDACIABAYQRAAIDCCIAAAIURAAEACiMAAgAUpqoC4NSpU6N3\\\n",
       "797RoUOHGDhwYCxYsGC75e+///448sgjc/nPfe5zMXv27GZrKwBAS6maADhz5swYO3ZsTJo0KRYt\\\n",
       "WhR9+vSJYcOGxZtvvtlg+WeeeSbOOuusOO+88+K5556L4cOH5+2FF15o9rYDADSnVpVKpRJVII34\\\n",
       "HX/88XHLLbfk/c2bN0evXr3ikksuifHjx29TfsSIEbFu3bp45JFH6o6dcMIJ0bdv35g2bVqTvmdN\\\n",
       "TU107tw51q5dG506dfoE3w0AsKvU+PyOtlEFNmzYEAsXLowJEybUHWvdunUMHTo05s+f32CddDyN\\\n",
       "GG4pjRj+/Oc/b/T7rF+/Pm+10g9O7Q8SALBnqPm/z+0qGQMrNwCuWbMmNm3aFN26dat3PO0vWbKk\\\n",
       "wTorV65ssHw63pjJkyfHVVddtc3xNNIIAOxZ/vCHP+SRwBJVRQBsLmmEcctRw7fffjsOOeSQWL58\\\n",
       "ebE/QLvTX3MpiK9YsaLY4fzdhb7YveiP3Ye+2H2sXbs2Dj744DjggAOiVFURALt06RJt2rSJVatW\\\n",
       "1Tue9rt3795gnXR8Z8on7du3z9vWUvjzy7x7SP2gL3YP+mL3oj92H/pi99G6ddXMhd1pVfHO27Vr\\\n",
       "F/369Yu5c+fWHUuTQNL+oEGDGqyTjm9ZPnnssccaLQ8AUC2qYgQwSadmR40aFf37948BAwbElClT\\\n",
       "8izf0aNH5+dHjhwZPXv2zNfxJZdeemmcfPLJcdNNN8Xpp58eM2bMiGeffTZ+8pOftPA7AQDYtaom\\\n",
       "AKZlXVavXh0TJ07MEznSci5z5sypm+iRrtPbcqj3xBNPjHvvvTeuuOKKuOyyy+JP//RP8wzgY489\\\n",
       "tsnfM50OTusONnRamOalL3Yf+mL3oj92H/pi99FeX1TPOoAAABR0DSAAAE0nAAIAFEYABAAojAAI\\\n",
       "AFAYAXAHpk6dGr17944OHTrEwIEDY8GCBdstf//998eRRx6Zy3/uc5+L2bNnN1tbq93O9MX06dNj\\\n",
       "yJAhsf/+++ct3Rd6R33Hrvu9qJWWW2rVqlUMHz58l7exFDvbF+kORhdffHEceOCBeQbkEUcc4d+p\\\n",
       "FuyPtGTZZz/72dh7773zXULGjBkTH3zwQbO1t1o99dRTccYZZ0SPHj3yvzlplY8dmTdvXnzhC1/I\\\n",
       "vxeHH3543H333VHV0ixgGjZjxoxKu3btKnfeeWflN7/5TeWCCy6o7LfffpVVq1Y1WP5Xv/pVpU2b\\\n",
       "NpXrr7++8uKLL1auuOKKyl577VV5/vnnm73tpffF2WefXZk6dWrlueeeq7z00kuVb3zjG5XOnTtX\\\n",
       "fv/73zd720vvi1qvvvpqpWfPnpUhQ4ZUvvKVrzRbe6vZzvbF+vXrK/3796+cdtpplaeffjr3ybx5\\\n",
       "8yqLFy9u9rZXo53tj5/97GeV9u3b56+pLx599NHKgQceWBkzZkyzt73azJ49u3L55ZdXHnzwwbTS\\\n",
       "SeWhhx7abvlly5ZVOnbsWBk7dmz+/P7xj3+cP8/nzJlTqVYC4HYMGDCgcvHFF9ftb9q0qdKjR4/K\\\n",
       "5MmTGyz/ta99rXL66afXOzZw4MDKN7/5zV3e1mq3s32xtQ8//LCy7777Vu65555d2MoyfJS+SP//\\\n",
       "TzzxxMrtt99eGTVqlADYQn1x2223VQ499NDKhg0bmrGV5djZ/khlTz311HrHUgAZPHjwLm9rSZoS\\\n",
       "AL/3ve9VjjnmmHrHRowYURk2bFilWjkF3IgNGzbEwoUL86nDWmkh6bQ/f/78Buuk41uWT4YNG9Zo\\\n",
       "eXZdX2ztvffei40bNxZ94++W7Isf/OAH0bVr1zjvvPOaqaXV76P0xcMPP5xvd5lOAadF8tPC99de\\\n",
       "e21s2rSpGVtenT5Kf6QbEqQ6taeJly1blk/Hn3baac3Wbsr9/K6aO4F80tasWZP/Uay9k0ittL9k\\\n",
       "yZIG66Q7kDRUPh2neftia+PGjcvXgmz9C86u74unn3467rjjjli8eHEztbIMH6UvUsB44okn4pxz\\\n",
       "zslB4+WXX45vfetb+Y+jdFcEmrc/zj777FzvpJNOSmfj4sMPP4yLLroo352K5rWykc/vmpqaeP/9\\\n",
       "9/M1mtXGCCBV77rrrsuTDx566KF8YTbN55133olzzz03T8rp0qVLSzeneJs3b84jseme5/369cu3\\\n",
       "0Lz88stj2rRpLd20IqVJB2kE9tZbb41FixbFgw8+GLNmzYqrr766pZtGAYwANiJ9WLVp0yZWrVpV\\\n",
       "73ja7969e4N10vGdKc+u64taN954Yw6Ajz/+eBx33HG7uKXVb2f74pVXXonXXnstz8bbMoQkbdu2\\\n",
       "jaVLl8Zhhx3WDC2vPh/l9yLN/N1rr71yvVpHHXVUHv1IpzDbtWu3y9tdrT5Kf1x55ZX5D6Tzzz8/\\\n",
       "76eVI9atWxcXXnhhDuZb3r+eXat7I5/fnTp1qsrRv8RPVyPSP4TpL+S5c+fW++BK++kamoak41uW\\\n",
       "Tx577LFGy7Pr+iK5/vrr81/Sc+bMif79+zdTa6vbzvZFWhLp+eefz6d/a7czzzwzTjnllPw4LXtB\\\n",
       "8/1eDB48OJ/2rQ3hyW9/+9scDIW/5u+PdG3y1iGvNpz//7kLNJdBJX5+t/QslN19Sn+aon/33Xfn\\\n",
       "aeEXXnhhntK/cuXK/Py5555bGT9+fL1lYNq2bVu58cYb89IjkyZNsgxMC/XFddddl5djeOCBBypv\\\n",
       "vPFG3fbOO++04Lsosy+2ZhZwy/XF8uXL82z4b3/725WlS5dWHnnkkUrXrl0rP/zhD1vwXZTbH+kz\\\n",
       "IvXHv/7rv+ZlSP793/+9cthhh+UVJfh40r/1aRmwtKWoc/PNN+fHv/vd7/Lz48ePz/2x9TIw//AP\\\n",
       "/5A/v9MyYpaBKVxaC+jggw/OYSJN8f/1r39d99zJJ5+cP8y2dN9991WOOOKIXD5NKZ81a1YLtLo6\\\n",
       "7UxfHHLIIfmXfust/YNL8/9ebEkAbNm+eOaZZ/LyVCmopCVhrrnmmrxMD5+MnemPjRs3Vr7//e/n\\\n",
       "0NehQ4dKr169Kt/61rcqf/zjH1uo9dXjySefbPAzoPb//6hRo3J/bF2nb9++ue/S78Zdd91VqWat\\\n",
       "0n9aehQSAIDm4xpAAIDCCIAAAIURAAEACiMAAgAURgAEACiMAAgAUBgBEACgMAIgAEBhBEAAgMII\\\n",
       "gAAAhREAAQAKIwACABRGAAQAKIwACABQGAEQAKAwAiAAQGEEQACAwgiAAACFEQABAAojAAIAFEYA\\\n",
       "BAAojAAIAFAYARAAoDACIABAYQRAAIDCCIAAAIURAAEACiMAAgAURgAEACiMAAgAUBgBEAAgyvL/\\\n",
       "AJc7bZQ9QgxWAAAAAElFTkSuQmCC\\\n",
       "\"\n",
       "  frames[2] = \"data:image/png;base64,iVBORw0KGgoAAAANSUhEUgAAAoAAAAHgCAYAAAA10dzkAAAAOnRFWHRTb2Z0d2FyZQBNYXRwbG90\\\n",
       "bGliIHZlcnNpb24zLjEwLjUsIGh0dHBzOi8vbWF0cGxvdGxpYi5vcmcvWftoOwAAAAlwSFlzAAAP\\\n",
       "YQAAD2EBqD+naQAAI1pJREFUeJzt3Q2QldV9P/AfLwJSBTUEEESJWuNbhAQEERmjJaHVaphpGqJW\\\n",
       "CPUlNsYx0DSALxBjFOPb0IkoDb62iQV1NDFCsYpSayRlBGk1ChlFA7GCECOrqIBw/3POv7vDwi4s\\\n",
       "Krtwz+cz87j3ee45d8/17HK/e57nnKdVpVKpBAAAxWjd0g0AAKB5CYAAAIURAAEACiMAAgAURgAE\\\n",
       "ACiMAAgAUBgBEACgMAIgAEBhBEAAgMIIgAAAhREAAQAKIwACABRGAAQAKIwACABQGAEQAKAwAiAA\\\n",
       "QGEEQACAwgiAAACFEQABAAojAAIAFEYABAAojAAIAFAYARAAoDACIABAYQRAAIDCCIAAAIURAAEA\\\n",
       "CiMAAgAURgAEACiMAAgAUBgBEACgMAIgAEBhBEAAgMIIgAAAhREAAQAKIwACABRGAAQAKIwACABQ\\\n",
       "GAEQAKAwAiAAQGEEQACAwgiAAACFEQABAAojAAIAFEYABAAojAAIAFAYARAAoDACIABAYQRAAIDC\\\n",
       "CIAAAIURAAEACiMAAgAUpmoC4FNPPRVnnHFG9OjRI1q1ahU///nPd1hn3rx58YUvfCHat28fhx9+\\\n",
       "eNx9993N0lYAgJZUNQFw3bp10adPn5g6dWqTyr/66qtx+umnxymnnBKLFy+O73znO3H++efHo48+\\\n",
       "usvbCgDQklpVKpVKVJk0AvjQQw/F8OHDGy0zbty4mDVrVrzwwgt1x77+9a/H22+/HXPmzGmmlgIA\\\n",
       "NL+qGQHcWfPnz4+hQ4fWOzZs2LB8HACgmrWNQq1cuTK6detW71jar6mpiffffz/23nvvbeqsX78+\\\n",
       "b7U2b94cb731VnzqU5/Ko44AwO6vUqnEO++8k+cNtG5d5lhYsQHwo5g8eXJcddVVLd0MAOATsGLF\\\n",
       "ijjooIOiRMUGwO7du8eqVavqHUv7nTp1anD0L5kwYUKMHTu2bn/t2rVx8MEH5x+gVA8A2P3V1NRE\\\n",
       "r169Yt99941SFRsABw0aFLNnz6537LHHHsvHG5OWi0nb1lL4EwABYM/SquDLt6rmxPe7776bl3NJ\\\n",
       "W+0yL+nx8uXL60bvRo4cWVf+oosuimXLlsX3vve9WLJkSdx6661x3333xZgxY1rsPQAANIeqCYDP\\\n",
       "PvtsfP7zn89bkk7VpscTJ07M+2+88UZdGEw+85nP5GVg0qhfWj/wpptuittvvz3PBAYAqGZVuQ5g\\\n",
       "c15D0Llz53wtoFPAALBn8PldRSOAAAA0jQAIAFAYARAAoDACIABAYQRAAIDCCIAAAIURAAEACiMA\\\n",
       "AgAURgAEACiMAAgAUBgBEACgMAIgAEBhBEAAgMIIgAAAhREAAQAKIwACABRGAAQAKIwACABQGAEQ\\\n",
       "AKAwAiAAQGEEQACAwgiAAACFEQABAAojAAIAFEYABAAojAAIAFAYARAAoDACIABAYQRAAIDCCIAA\\\n",
       "AIURAAEACiMAAgAURgAEACiMAAgAUBgBEACgMAIgAEBhBEAAgMIIgAAAhREAAQAKIwACABRGAAQA\\\n",
       "KIwACABQGAEQAKAwAiAAQGEEQACAwgiAAACFEQABAAojAAIAFEYABAAojAAIAFAYARAAoDACIABA\\\n",
       "YQRAAIDCCIAAAIURAAEACiMAAgAURgAEACiMAAgAUBgBEACgMAIgAEBhBEAAgMIIgAAAhREAAQAK\\\n",
       "U1UBcOrUqdG7d+/o0KFDDBw4MBYsWLDd8lOmTInPfvazsffee0evXr1izJgx8cEHHzRbewEAWkLV\\\n",
       "BMCZM2fG2LFjY9KkSbFo0aLo06dPDBs2LN58880Gy997770xfvz4XP6ll16KO+64I7/GZZdd1uxt\\\n",
       "BwBoTlUTAG+++ea44IILYvTo0XH00UfHtGnTomPHjnHnnXc2WP6ZZ56JwYMHx9lnn51HDb/85S/H\\\n",
       "WWedtcNRQwCAPV1VBMANGzbEwoULY+jQoXXHWrdunffnz5/fYJ0TTzwx16kNfMuWLYvZs2fHaaed\\\n",
       "1mztBgBoCW2jCqxZsyY2bdoU3bp1q3c87S9ZsqTBOmnkL9U76aSTolKpxIcffhgXXXTRdk8Br1+/\\\n",
       "Pm+1ampqPsF3AQDQPKpiBPCjmDdvXlx77bVx66235msGH3zwwZg1a1ZcffXVjdaZPHlydO7cuW5L\\\n",
       "E0cAAPY0rSpp+KsKTgGn6/0eeOCBGD58eN3xUaNGxdtvvx2/+MUvtqkzZMiQOOGEE+KGG26oO/bT\\\n",
       "n/40Lrzwwnj33XfzKeSmjACmELh27dro1KnTLnlvAMAnq6amJg/klPz5XRUjgO3atYt+/frF3Llz\\\n",
       "645t3rw57w8aNKjBOu+99942Ia9Nmzb5a2OZuH379vkHZcsNAGBPUxXXACZpCZg04te/f/8YMGBA\\\n",
       "XuNv3bp1eVZwMnLkyOjZs2c+jZucccYZeebw5z//+bxm4MsvvxxXXnllPl4bBAEAqlHVBMARI0bE\\\n",
       "6tWrY+LEibFy5cro27dvzJkzp25iyPLly+uN+F1xxRXRqlWr/PX111+PT3/60zn8XXPNNS34LgAA\\\n",
       "dr2quAawpbiGAAD2PDU+v6vjGkAAAJpOAAQAKIwACABQGAEQAKAwAiAAQGEEQACAwgiAAACFEQAB\\\n",
       "AAojAAIAFEYABAAojAAIAFAYARAAoDACIABAYQRAAIDCCIAAAIURAAEACiMAAgAURgAEACiMAAgA\\\n",
       "UBgBEACgMAIgAEBhBEAAgMIIgAAAhREAAQAKIwACABRGAAQAKIwACABQGAEQAKAwAiAAQGEEQACA\\\n",
       "wgiAAACFEQABAAojAAIAFEYABAAojAAIAFAYARAAoDACIABAYQRAAIDCCIAAAIURAAEACiMAAgAU\\\n",
       "RgAEACiMAAgAUBgBEACgMAIgAEBhBEAAgMIIgAAAhREAAQAKIwACABRGAAQAKIwACABQGAEQAKAw\\\n",
       "AiAAQGEEQACAwgiAAACFEQABAAojAAIAFEYABAAojAAIAFAYARAAoDACIABAYQRAAIDCCIAAAIWp\\\n",
       "qgA4derU6N27d3To0CEGDhwYCxYs2G75t99+Oy6++OI48MADo3379nHEEUfE7Nmzm629AAAtoW1U\\\n",
       "iZkzZ8bYsWNj2rRpOfxNmTIlhg0bFkuXLo2uXbtuU37Dhg3xpS99KT/3wAMPRM+ePeN3v/td7Lff\\\n",
       "fi3SfgCA5tKqUqlUogqk0Hf88cfHLbfckvc3b94cvXr1iksuuSTGjx+/TfkUFG+44YZYsmRJ7LXX\\\n",
       "Xh/pe9bU1ETnzp1j7dq10alTp4/9HgCAXa/G53d1nAJOo3kLFy6MoUOH1h1r3bp13p8/f36DdR5+\\\n",
       "+OEYNGhQPgXcrVu3OPbYY+Paa6+NTZs2Nfp91q9fn39ottwAAPY0VREA16xZk4NbCnJbSvsrV65s\\\n",
       "sM6yZcvyqd9UL133d+WVV8ZNN90UP/zhDxv9PpMnT85/MdRuaYQRAGBPUxUB8KNIp4jT9X8/+clP\\\n",
       "ol+/fjFixIi4/PLL86nhxkyYMCEPF9duK1asaNY2AwB8EqpiEkiXLl2iTZs2sWrVqnrH03737t0b\\\n",
       "rJNm/qZr/1K9WkcddVQeMUynlNu1a7dNnTRTOG0AAHuyqhgBTGEtjeLNnTu33ghf2k/X+TVk8ODB\\\n",
       "8fLLL+dytX7729/mYNhQ+AMAqBZVEQCTtATM9OnT45577omXXnop/u7v/i7WrVsXo0ePzs+PHDky\\\n",
       "n8KtlZ5/66234tJLL83Bb9asWXkSSJoUAgBQzariFHCSruFbvXp1TJw4MZ/G7du3b8yZM6duYsjy\\\n",
       "5cvzzOBaaQLHo48+GmPGjInjjjsurwOYwuC4ceNa8F0AAOx6VbMOYEuwjhAA7HlqfH5XzylgAACa\\\n",
       "RgAEACiMAAgAUBgBEACgMAIgAEBhBEAAgMIIgAAAhREAAQAKIwACABRGAAQA+D/p7iBTp06N0047\\\n",
       "LXr37h0dO3bMdw054ogj4pxzzomZM2fGpk2bYk/nVnAfg1vJAED1fH5Pnz49JkyYEH/4wx+2W//o\\\n",
       "o4+Of/qnf4qTTjop9lRGAAGA4n33u9+NCy+8MIe/tm3bxt/8zd/EfffdF//1X/8V//mf/xm33357\\\n",
       "nHrqqbnsiy++GEOHDo0HHngg9lRGAD8GI4AAsOd/ft96661x8cUX5+cOOuig+OUvfxl9+/ZtsO69\\\n",
       "994bo0ePjg0bNkT79u3j17/+daNld2cC4McgAALAnv35/cc//jGOPPLI+OCDD+JP/uRPYtGiRfl6\\\n",
       "v+352c9+lkcIk2OPPTb+53/+J1q1ahV7EqeAAYBiTZkyJYe/ZOLEiTsMf0maDPLnf/7n+fELL7wQ\\\n",
       "jzzyyDZlvvjFL+ZQmL4mS5cuzaeYP/OZz0SHDh3iwAMPjK997Wt5BLEpVq5cGZdffnn0798/Djjg\\\n",
       "gDz62KtXr/wajz/+eKP1XnvttdyOtN1999352IMPPigAAgBlqlQq8c///M/58d577x3f/OY3m1z3\\\n",
       "O9/5Tt3ju+66a7tl/+3f/i369euXJ5mkQLZ+/foc6O6///4YPHhwDqE7GnE8/PDD49prr42FCxfm\\\n",
       "Uct0Cvr3v/99fo0vfelLcf7558eHH364w/c7cuTI+Ku/+qto2+R3CgBQRV566aV466238uMhQ4bk\\\n",
       "08JNlSaBpND4/vvvx9NPP91ouf/93/+Ns88+O08sSQGudkTwySefjB/96Ef5dPSYMWPykjPDhw/f\\\n",
       "pn6aiHLuuefm8HbooYfGt7/97TwL+dOf/nQOk3fccUfMnj07f02Xo918882NtiUFzXS6Or3X9IJ8\\\n",
       "RGvXrk3XT+avAMCe9fk9ffr0/DVt48eP3+nXOeGEE+rqv/766/WeO/nkk+ue69y5c+XFF1/cpv4L\\\n",
       "L7xQ6dSpUy7Ts2fPyoYNG+o9v3r16lw3Pf+3f/u3lY0bNzbYjssuuyyXad26dWXJkiX1nnv11Vfr\\\n",
       "2pG2kSNHVjZv3lxxChgAKNIftljvr3v37jtdv1u3bg2+1tauvPLKOOqoo7Y5fswxx+Tr+pLXX389\\\n",
       "fvGLX9R7/rbbbssTVXr27JlnKqdRxIZcddVVuczmzZvrTmk3ZL/99otbbrklXw8oAAIARXr33Xfr\\\n",
       "Hu+zzz47XX/LOulUbkNS2Bo1alSjr5GWlKmdQbz1ZI6HH344f/3Lv/zLPOmjMSkYDho0KD+eP39+\\\n",
       "o+XOOOOM2HffffNjARAAKNI+WwS4LcNgU21Zp7Hl4NKs3y5dujT6GulavnT9X/L888/XHU+3m1u8\\\n",
       "eHF+nO46UjuTt7GtdlHqNLmkMccdd1zdYwEQACjSpz71qbrH2wtOjVm1alWDr7Wlrl27NvlUcu2E\\\n",
       "lNrHO5rV25D33nuv0ef233//usdmAQMARTrmmGPqHj/33HM7VTeN0KUZtbWjeD169Giw3EddIDq9\\\n",
       "fq20xMull17apHrt2rVr9Lk2bdrUPRYAAYAiHX300XlR5TTa9tRTT+UJF01dCiZdr1c72paXVWnC\\\n",
       "KOGOyqS21NrycVoCJt1x5JPkFDAAUKRWrVrlhZGTtJ5fWqi5qX784x/XPf7GN77RaLlXX311uzOE\\\n",
       "V69endfzS7YMeWkkr3aE8le/+lV80gRAAKBYl156ad0M27Scyssvv7zDOjNmzIhZs2bVhbY0S7cp\\\n",
       "dxtpSLo9WypTu7j0ls4888z8dcmSJfHoo4/GJ0kABACK1bt377jhhhvqZvX+2Z/9Wfz3f/93o+XT\\\n",
       "nTlql3VJo3T/8i//ssPr/K6++up8L+CG7kRyzTXX5Mfp3sBf+cpXtgmntTOV03Ixv/nNb7b7fVIo\\\n",
       "rb0ucUdcAwgAFO2SSy6JV155Jf7xH/8xli9fHv3794+zzjorj8AdcsghsXHjxjwKd++998bcuXNz\\\n",
       "nTRq+NOf/jT69u273ddO9/BNp3lPOOGEGDduXN2t4ObNmxfXXXddvu6w9pTy1hM40uzge+65J776\\\n",
       "1a/GG2+8kduVTjf/xV/8RRx00EG5Xel+wAsWLMjLwCxbtix++ctf1lvupVE7fd8T6rgVHABUz+f3\\\n",
       "bbfdVjnggAPq3Tqtoe2oo46qPPXUU9v9HrW3gktfH3nkkUrHjh0bfK10+7Ybb7xxu6/18MMPN6ld\\\n",
       "6bWeeOKJRm8Fd9ddd9UdNwIIABARF110UXz961/PI3vpdGo65ZpG79KdNtJo3PHHH59P0/71X/91\\\n",
       "vSVVduT000+PZ599Np9qfuKJJ/JoXrotW5o9/Pd///d1d/HY3h080mSSNEll9uzZuV1p5nJqV7qF\\\n",
       "XZoscuqpp+aRwl69ejWpTa1SCmzyO6CedNuXNF08Dd82tgI4AFDe5/cXv/jF+I//+I84+eST8+ne\\\n",
       "3Y1JIAAAhREAAQAKIwACABRGAAQAKIwACABQGMvAAAB8wnbHmb9bMgIIAFAYARAAoDACIABAYQRA\\\n",
       "AIDCCIAAAIURAAEACiMAAgAURgAEACiMAAgAUBgBEACgMAIgAEBhBEAAgMIIgAAAhREAAQAKIwAC\\\n",
       "ABRGAAQAKIwACABQGAEQAKAwAiAAQGEEQACAwgiAAACFEQABAAojAAIAFEYABAAojAAIAFAYARAA\\\n",
       "oDBVFQCnTp0avXv3jg4dOsTAgQNjwYIFTao3Y8aMaNWqVQwfPnyXtxEAoKVVTQCcOXNmjB07NiZN\\\n",
       "mhSLFi2KPn36xLBhw+LNN9/cbr3XXnstvvvd78aQIUOara0AAC2pagLgzTffHBdccEGMHj06jj76\\\n",
       "6Jg2bVp07Ngx7rzzzkbrbNq0Kc4555y46qqr4tBDD23W9gIAtJSqCIAbNmyIhQsXxtChQ+uOtW7d\\\n",
       "Ou/Pnz+/0Xo/+MEPomvXrnHeeec16fusX78+ampq6m0AAHuaqgiAa9asyaN53bp1q3c87a9cubLB\\\n",
       "Ok8//XTccccdMX369CZ/n8mTJ0fnzp3rtl69en3stgMANLeqCIA765133olzzz03h78uXbo0ud6E\\\n",
       "CRNi7dq1dduKFSt2aTsBAHaFtlEFUohr06ZNrFq1qt7xtN+9e/dtyr/yyit58scZZ5xRd2zz5s35\\\n",
       "a9u2bWPp0qVx2GGHbVOvffv2eQMA2JNVxQhgu3btol+/fjF37tx6gS7tDxo0aJvyRx55ZDz//POx\\\n",
       "ePHiuu3MM8+MU045JT92ahcAqGZVMQKYpCVgRo0aFf37948BAwbElClTYt26dXlWcDJy5Mjo2bNn\\\n",
       "vo4vrRN47LHH1qu/33775a9bHwcAqDZVEwBHjBgRq1evjokTJ+aJH3379o05c+bUTQxZvnx5nhkM\\\n",
       "AFC6VpVKpdLSjdhTpWVg0mzgNCGkU6dOLd0cAKAJanx+V8c1gAAANJ0ACABQGAEQAKAwAiAAQGEE\\\n",
       "QACAwgiAAACFEQABAAojAAIAFEYABAAojAAIAFAYARAAoDACIABAYQRAAIDCCIAAAIURAAEACiMA\\\n",
       "AgAURgAEACiMAAgAUBgBEACgMAIgAEBhBEAAgMIIgAAAhREAAQAKIwACABRGAAQAKIwACABQGAEQ\\\n",
       "AKAwAiAAQGEEQACAwgiAAACFEQABAAojAAIAFEYABAAojAAIAFAYARAAoDACIABAYQRAAIDCCIAA\\\n",
       "AIURAAEACiMAAgAURgAEACiMAAgAUBgBEACgMAIgAEBhBEAAgMIIgAAAhREAAQAKIwACABRGAAQA\\\n",
       "KIwACABQGAEQAKAwAiAAQGEEQACAwgiAAACFEQABAAojAAIAFEYABAAojAAIAFAYARAAoDACIABA\\\n",
       "YQRAAIDCCIAAAIURAAEAClNVAXDq1KnRu3fv6NChQwwcODAWLFjQaNnp06fHkCFDYv/998/b0KFD\\\n",
       "t1seAKBaVE0AnDlzZowdOzYmTZoUixYtij59+sSwYcPizTffbLD8vHnz4qyzzoonn3wy5s+fH716\\\n",
       "9Yovf/nL8frrrzd72wEAmlOrSqVSiSqQRvyOP/74uOWWW/L+5s2bc6i75JJLYvz48Tusv2nTpjwS\\\n",
       "mOqPHDmySd+zpqYmOnfuHGvXro1OnTp97PcAAOx6NT6/q2MEcMOGDbFw4cJ8GrdW69at834a3WuK\\\n",
       "9957LzZu3BgHHHBAo2XWr1+ff2i23AAA9jRVEQDXrFmTR/C6detW73jaX7lyZZNeY9y4cdGjR496\\\n",
       "IXJrkydPzn8x1G5phBEAYE9TFQHw47ruuutixowZ8dBDD+UJJI2ZMGFCHi6u3VasWNGs7QQA+CS0\\\n",
       "jSrQpUuXaNOmTaxatare8bTfvXv37da98cYbcwB8/PHH47jjjttu2fbt2+cNAGBPVhUjgO3atYt+\\\n",
       "/frF3Llz646lSSBpf9CgQY3Wu/766+Pqq6+OOXPmRP/+/ZuptQAALasqRgCTtATMqFGjcpAbMGBA\\\n",
       "TJkyJdatWxejR4/Oz6eZvT179szX8SU/+tGPYuLEiXHvvffmtQNrrxXcZ5998gYAUK2qJgCOGDEi\\\n",
       "Vq9enUNdCnN9+/bNI3u1E0OWL1+eZwbXuu222/Ls4a9+9av1XietI/j973+/2dsPANBcqmYdwJZg\\\n",
       "HSEA2PPU+PyujmsAAQBoOgEQAKAwAiAAQGEEQACAwgiAAACFEQABAAojAAIAFEYABAAojAAIAFAY\\\n",
       "ARAAoDACIABAYQRAAIDCCIAAAIURAAEACiMAAgAURgAEACiMAAgAUBgBEACgMAIgAEBhBEAAgMII\\\n",
       "gAAAhREAAQAKIwACABRGAAQAKIwACABQGAEQAKAwAiAAQGEEQACAwgiAAACFEQABAAojAAIAFEYA\\\n",
       "BAAojAAIAFAYARAAoDACIABAYQRAAIDCCIAAAIURAAEACiMAAgAURgAEACiMAAgAUBgBEACgMAIg\\\n",
       "AEBhBEAAgMIIgAAAhREAAQAKIwACABRGAAQAKIwACABQGAEQAKAwAiAAQGEEQACAwgiAAACFEQAB\\\n",
       "AAojAAIAFEYABAAojAAIAFAYARAAoDACIABAYQRAAIDCCIAAAIURAAEACiMAAgAUpqoC4NSpU6N3\\\n",
       "797RoUOHGDhwYCxYsGC75e+///448sgjc/nPfe5zMXv27GZrKwBAS6maADhz5swYO3ZsTJo0KRYt\\\n",
       "WhR9+vSJYcOGxZtvvtlg+WeeeSbOOuusOO+88+K5556L4cOH5+2FF15o9rYDADSnVpVKpRJVII34\\\n",
       "HX/88XHLLbfk/c2bN0evXr3ikksuifHjx29TfsSIEbFu3bp45JFH6o6dcMIJ0bdv35g2bVqTvmdN\\\n",
       "TU107tw51q5dG506dfoE3w0AsKvU+PyOtlEFNmzYEAsXLowJEybUHWvdunUMHTo05s+f32CddDyN\\\n",
       "GG4pjRj+/Oc/b/T7rF+/Pm+10g9O7Q8SALBnqPm/z+0qGQMrNwCuWbMmNm3aFN26dat3PO0vWbKk\\\n",
       "wTorV65ssHw63pjJkyfHVVddtc3xNNIIAOxZ/vCHP+SRwBJVRQBsLmmEcctRw7fffjsOOeSQWL58\\\n",
       "ebE/QLvTX3MpiK9YsaLY4fzdhb7YveiP3Ye+2H2sXbs2Dj744DjggAOiVFURALt06RJt2rSJVatW\\\n",
       "1Tue9rt3795gnXR8Z8on7du3z9vWUvjzy7x7SP2gL3YP+mL3oj92H/pi99G6ddXMhd1pVfHO27Vr\\\n",
       "F/369Yu5c+fWHUuTQNL+oEGDGqyTjm9ZPnnssccaLQ8AUC2qYgQwSadmR40aFf37948BAwbElClT\\\n",
       "8izf0aNH5+dHjhwZPXv2zNfxJZdeemmcfPLJcdNNN8Xpp58eM2bMiGeffTZ+8pOftPA7AQDYtaom\\\n",
       "AKZlXVavXh0TJ07MEznSci5z5sypm+iRrtPbcqj3xBNPjHvvvTeuuOKKuOyyy+JP//RP8wzgY489\\\n",
       "tsnfM50OTusONnRamOalL3Yf+mL3oj92H/pi99FeX1TPOoAAABR0DSAAAE0nAAIAFEYABAAojAAI\\\n",
       "AFAYAXAHpk6dGr17944OHTrEwIEDY8GCBdstf//998eRRx6Zy3/uc5+L2bNnN1tbq93O9MX06dNj\\\n",
       "yJAhsf/+++ct3Rd6R33Hrvu9qJWWW2rVqlUMHz58l7exFDvbF+kORhdffHEceOCBeQbkEUcc4d+p\\\n",
       "FuyPtGTZZz/72dh7773zXULGjBkTH3zwQbO1t1o99dRTccYZZ0SPHj3yvzlplY8dmTdvXnzhC1/I\\\n",
       "vxeHH3543H333VHV0ixgGjZjxoxKu3btKnfeeWflN7/5TeWCCy6o7LfffpVVq1Y1WP5Xv/pVpU2b\\\n",
       "NpXrr7++8uKLL1auuOKKyl577VV5/vnnm73tpffF2WefXZk6dWrlueeeq7z00kuVb3zjG5XOnTtX\\\n",
       "fv/73zd720vvi1qvvvpqpWfPnpUhQ4ZUvvKVrzRbe6vZzvbF+vXrK/3796+cdtpplaeffjr3ybx5\\\n",
       "8yqLFy9u9rZXo53tj5/97GeV9u3b56+pLx599NHKgQceWBkzZkyzt73azJ49u3L55ZdXHnzwwbTS\\\n",
       "SeWhhx7abvlly5ZVOnbsWBk7dmz+/P7xj3+cP8/nzJlTqVYC4HYMGDCgcvHFF9ftb9q0qdKjR4/K\\\n",
       "5MmTGyz/ta99rXL66afXOzZw4MDKN7/5zV3e1mq3s32xtQ8//LCy7777Vu65555d2MoyfJS+SP//\\\n",
       "TzzxxMrtt99eGTVqlADYQn1x2223VQ499NDKhg0bmrGV5djZ/khlTz311HrHUgAZPHjwLm9rSZoS\\\n",
       "AL/3ve9VjjnmmHrHRowYURk2bFilWjkF3IgNGzbEwoUL86nDWmkh6bQ/f/78Buuk41uWT4YNG9Zo\\\n",
       "eXZdX2ztvffei40bNxZ94++W7Isf/OAH0bVr1zjvvPOaqaXV76P0xcMPP5xvd5lOAadF8tPC99de\\\n",
       "e21s2rSpGVtenT5Kf6QbEqQ6taeJly1blk/Hn3baac3Wbsr9/K6aO4F80tasWZP/Uay9k0ittL9k\\\n",
       "yZIG66Q7kDRUPh2neftia+PGjcvXgmz9C86u74unn3467rjjjli8eHEztbIMH6UvUsB44okn4pxz\\\n",
       "zslB4+WXX45vfetb+Y+jdFcEmrc/zj777FzvpJNOSmfj4sMPP4yLLroo352K5rWykc/vmpqaeP/9\\\n",
       "9/M1mtXGCCBV77rrrsuTDx566KF8YTbN55133olzzz03T8rp0qVLSzeneJs3b84jseme5/369cu3\\\n",
       "0Lz88stj2rRpLd20IqVJB2kE9tZbb41FixbFgw8+GLNmzYqrr766pZtGAYwANiJ9WLVp0yZWrVpV\\\n",
       "73ja7969e4N10vGdKc+u64taN954Yw6Ajz/+eBx33HG7uKXVb2f74pVXXonXXnstz8bbMoQkbdu2\\\n",
       "jaVLl8Zhhx3WDC2vPh/l9yLN/N1rr71yvVpHHXVUHv1IpzDbtWu3y9tdrT5Kf1x55ZX5D6Tzzz8/\\\n",
       "76eVI9atWxcXXnhhDuZb3r+eXat7I5/fnTp1qsrRv8RPVyPSP4TpL+S5c+fW++BK++kamoak41uW\\\n",
       "Tx577LFGy7Pr+iK5/vrr81/Sc+bMif79+zdTa6vbzvZFWhLp+eefz6d/a7czzzwzTjnllPw4LXtB\\\n",
       "8/1eDB48OJ/2rQ3hyW9/+9scDIW/5u+PdG3y1iGvNpz//7kLNJdBJX5+t/QslN19Sn+aon/33Xfn\\\n",
       "aeEXXnhhntK/cuXK/Py5555bGT9+fL1lYNq2bVu58cYb89IjkyZNsgxMC/XFddddl5djeOCBBypv\\\n",
       "vPFG3fbOO++04Lsosy+2ZhZwy/XF8uXL82z4b3/725WlS5dWHnnkkUrXrl0rP/zhD1vwXZTbH+kz\\\n",
       "IvXHv/7rv+ZlSP793/+9cthhh+UVJfh40r/1aRmwtKWoc/PNN+fHv/vd7/Lz48ePz/2x9TIw//AP\\\n",
       "/5A/v9MyYpaBKVxaC+jggw/OYSJN8f/1r39d99zJJ5+cP8y2dN9991WOOOKIXD5NKZ81a1YLtLo6\\\n",
       "7UxfHHLIIfmXfust/YNL8/9ebEkAbNm+eOaZZ/LyVCmopCVhrrnmmrxMD5+MnemPjRs3Vr7//e/n\\\n",
       "0NehQ4dKr169Kt/61rcqf/zjH1uo9dXjySefbPAzoPb//6hRo3J/bF2nb9++ue/S78Zdd91VqWat\\\n",
       "0n9aehQSAIDm4xpAAIDCCIAAAIURAAEACiMAAgAURgAEACiMAAgAUBgBEACgMAIgAEBhBEAAgMII\\\n",
       "gAAAhREAAQAKIwACABRGAAQAKIwACABQGAEQAKAwAiAAQGEEQACAwgiAAACFEQABAAojAAIAFEYA\\\n",
       "BAAojAAIAFAYARAAoDACIABAYQRAAIDCCIAAAIURAAEACiMAAgAURgAEACiMAAgAUBgBEAAgyvL/\\\n",
       "AJc7bZQ9QgxWAAAAAElFTkSuQmCC\\\n",
       "\"\n",
       "\n",
       "\n",
       "    /* set a timeout to make sure all the above elements are created before\n",
       "       the object is initialized. */\n",
       "    setTimeout(function() {\n",
       "        anim768e3e09e0a941e19eaba39aceb6680a = new Animation(frames, img_id, slider_id, 1000.0,\n",
       "                                 loop_select_id);\n",
       "    }, 0);\n",
       "  })()\n",
       "</script>\n"
      ],
      "text/plain": [
       "<IPython.core.display.HTML object>"
      ]
     },
     "execution_count": 9,
     "metadata": {},
     "output_type": "execute_result"
    },
    {
     "data": {
      "image/png": "[encoded data removed]",
      "text/plain": [
       "<Figure size 640x480 with 1 Axes>"
      ]
     },
     "metadata": {},
     "output_type": "display_data"
    }
   ],
   "source": [
    "# Ejemplo de animación con matplotlib (requiere Jupyter)\n",
    "import matplotlib.pyplot as plt \n",
    "from matplotlib.animation import FuncAnimation\n",
    "from IPython.display import HTML\n",
    "\n",
    "fig, ax = plt.subplots()\n",
    "ax.set_xlim(0, 3)\n",
    "ax.set_ylim(0, 1)\n",
    "\n",
    "def animate(frame):\n",
    "    ax.clear()\n",
    "    ax.text(1, 0.5, f'Operador: {[\"AND\", \"OR\", \"XOR\"][frame%3]}', fontsize=20)\n",
    "    return ax\n",
    "\n",
    "ani = FuncAnimation(fig, animate, frames=3, interval=1000)\n",
    "HTML(ani.to_jshtml())\n"
   ]
  },
  {
   "cell_type": "markdown",
   "id": "239427f7",
   "metadata": {},
   "source": [
    "# ARTÍCULO 1. Definir el calendario académico para los diferentes programas de pregrado de los campus\n",
    "regionalizados, correspondiente al primer periodo académico del año 2025, así:\n",
    "\n",
    "* Ajustes de matrícula: 01 al 08 de agosto de 2025\n",
    "\n",
    "Inicio de clases\n",
    "\n",
    "04 de agosto de 2025\n",
    "\n",
    "Límite evaluación del 40%\n",
    "\n",
    "27 de septiembre de 2025\n",
    "\n",
    "Terminación de clases\n",
    "\n",
    "22 de noviembre de 2025\n",
    "\n",
    "Exámenes finales\n",
    "\n",
    "24 al 29 de noviembre de 2025\n",
    "\n",
    "Habilitación y validación\n",
    "\n",
    "01 al 06 de diciembre 2025\n",
    "\n",
    "Terminación oficial del semestre\n",
    "\n",
    "09 de diciembre de 2025"
   ]
  },
  {
   "cell_type": "code",
   "execution_count": null,
   "id": "cc539357",
   "metadata": {},
   "outputs": [],
   "source": []
  },
  {
   "cell_type": "markdown",
   "id": "740f3401",
   "metadata": {
    "slideshow": {
     "slide_type": "slide"
    }
   },
   "source": [
    "# Componente de manejo de calculadora Casio asociado al objetivo de aprendizaje de esta clase  \n",
    "\n",
    "## Pasos para lograr el objetivo de aprendizaje con la experimentación en la calculadora Casio 991LA cw  "
   ]
  },
  {
   "cell_type": "markdown",
   "id": "8ba64aed",
   "metadata": {},
   "source": [
    "# Cursos que orienta el profesor Marco Julio Cañas Campillo en 2025  \n",
    "\n",
    "1. Práctica Pedagógica V para Licenciatura en Educación Infantil\n",
    "2. Fundamentos de Lógica para Licenciatura en Matemáticas \n",
    "3. Análisis Numérico para Licenciatura en Matemáticas. \n",
    "4. Cálculo Vectorial para Ingeniería Agropecuaria"
   ]
  },
  {
   "cell_type": "markdown",
   "id": "8d41fe58",
   "metadata": {
    "slideshow": {
     "slide_type": "slide"
    }
   },
   "source": [
    "# Horario de clases del profesor Marco\n",
    "\n",
    "* Lunes 8-12: Cálculo Vectorial\n",
    "* Martes 8-12 M: Fundamentos de Aritmética. \n",
    "* Miércoles 8 a 12 M: Fundamentos de la Lógica\n",
    "* Jueves 2 a 6 PM: Desarrollo del pensamiento matemático en la infancia. \n",
    "* Viernes 8 - 12 M: Desarrollo del pensamiento matemático en la infancia. \n",
    "* Sábados 8-12 Asesorías y espacio para retroalimentación y apoyo al trabajo independiente. "
   ]
  },
  {
   "cell_type": "markdown",
   "id": "ae114e14",
   "metadata": {
    "slideshow": {
     "slide_type": "slide"
    }
   },
   "source": [
    "# Horarios de monitoría y asesoría  \n",
    "\n",
    "Coordinador de los cursos de la Facultad de Educación para regiones:    \n",
    "\n",
    "Andrés Vélez: regioneducacion.fedu@udea.edu.co  \n",
    "Coordinador Regiones  \n",
    "Facultad de Educación  \n",
    "Universidad de Antioquia  "
   ]
  },
  {
   "cell_type": "markdown",
   "id": "b1db4b6c",
   "metadata": {
    "slideshow": {
     "slide_type": "slide"
    }
   },
   "source": [
    "## Monitor Manuel San Juan Serrano\n",
    "\n",
    "Contactar escribiendo al correo: manuel.serrano1@udea.edu.co"
   ]
  },
  {
   "cell_type": "markdown",
   "id": "39559692",
   "metadata": {
    "slideshow": {
     "slide_type": "slide"
    }
   },
   "source": [
    "Martes y jueves de 8 - 12  \n",
    "Miércoles 10 - 12 y de 2 a 4 PM  \n",
    "Sábado: 8 - 12"
   ]
  },
  {
   "cell_type": "markdown",
   "id": "10bce0d0",
   "metadata": {
    "slideshow": {
     "slide_type": "slide"
    }
   },
   "source": [
    "## Referentes "
   ]
  },
  {
   "cell_type": "markdown",
   "id": "1db3c468",
   "metadata": {
    "slideshow": {
     "slide_type": "slide"
    }
   },
   "source": [
    "* ChatGPT. (2025, 11 de agosto). Circuito eléctrico para p ∨ q (Disyunción) en Python y representación gráfica con matplotlib. Respuesta a consulta de Marco Julio Cañas en ChatGPT. OpenAI. https://chat.openai.com/\n",
    "\n",
    "* [CALCULO I DE UNA VARIABLE Ron Larson-Bruce Edwards. Mc Graw Hill. 9º Edición](https://www.academia.edu/42139251/CALCULO_I_DE_UNA_VARIABLE_Ron_Larson_Bruce_Edwards_Mc_Graw_Hill_9o_Edici%C3%B3n)   \n",
    "  \n",
    "\n",
    "* [Grajales Vanegas, L. M., Restrepo Estrada, C. E., Restrepo Ochoa, S. I., & Ruíz De Villalba, F. (2015). Matemáticas I para las ciencias económicas.](https://bibliotecadigital.udea.edu.co/handle/10495/3010)\n",
    "  \n",
    "* R. Duval y Semiosis y pensamiento humano, 2.ª ed. Cali, Colombia: Programa Editorial Universidad del Valle, 2017. [En línea]. Disponible en: https://programaeditorial.univalle.edu.co/gpd-semiosis-y-pensamiento-humano-9789587655278-63324cdb0f6b3.html\n",
    "\n",
    "* [Aylwin, C. U. (2011). Lógica, conjuntos y números. Universidad de los Andes, Consejo de Publicaciones, Colección: Ciencias Básicas, Serie: Matemáticas.](chrome-extension://efaidnbmnnnibpcajpcglclefindmkaj/https://www.u-cursos.cl/ciencias/2011/1/MC110/1/material_docente/bajar?id_material=574722)\n",
    "  \n",
    "* [Chollet, F. (2021). Deep learning with Python. Simon and Schuster.](chrome-extension://efaidnbmnnnibpcajpcglclefindmkaj/https://tanthiamhuat.wordpress.com/wp-content/uploads/2018/03/deeplearningwithpython.pdf)  \n",
    "  \n",
    "* [Watson, S., Stewart, J., & Redlin, L. (2009). Precálculo. Matemáticas para el cálculo.](https://github.com/marco-canas/calculo/blob/main/referents/1_precalculo_stewart/stewart_precalculo.pdf)  \n",
    "\n",
    "* [Purcell, E. J., Varberg, D., & Rigdon, S. E. (2007). Cálculo diferencial e integral. Pearson Educación.](https://github.com/marco-canas/calculo/blob/main/referents/purcell/purcell_calculo.pdf)\n",
    "\n",
    "  \n",
    "\n",
    "* [stewart cálculo](https://udeaeduco-my.sharepoint.com/:b:/g/personal/marco_canas_udea_edu_co/EZgXZjAp8QxPqOAim2hs6LcBNPLGjSHf-xwYnUVYkwa04w?e=RZdTCy)  \n",
    "\n",
    "\n",
    "\n",
    "\n",
    "\n",
    "* [Recomendación de la UNESCO sobre ciencia abierta](https://unesdoc.unesco.org/ark:/48223/pf0000379949_spa)\n",
    "\n",
    "* [chatGPT](https://openai.com/blog/chatgpt)  \n",
    "\n",
    "* [Géron, A. (2017). Hands-on machine learning with scikit-learn and tensorflow: Concepts. Tools, and Techniques to build intelligent systems.](chrome-extension://efaidnbmnnnibpcajpcglclefindmkaj/http://14.139.161.31/OddSem-0822-1122/Hands-On_Machine_Learning_with_Scikit-Learn-Keras-and-TensorFlow-2nd-Edition-Aurelien-Geron.pdf)   \n"
   ]
  },
  {
   "cell_type": "markdown",
   "id": "df925560",
   "metadata": {},
   "source": [
    "\n",
    "* [McKinney, W. (2012). Python for data analysis: Data wrangling with Pandas, NumPy, and IPython. \" O'Reilly Media, Inc.\".](https://wesmckinney.com/book/) "
   ]
  },
  {
   "cell_type": "markdown",
   "id": "8e65d6f9",
   "metadata": {},
   "source": [
    "# Como estudiante, encuentro que...   \n",
    "\n",
    "F: Mis Fortalezas son:     \n",
    "O: Mis Oportunidades son:    \n",
    "D: Mis Debilidades son:    \n",
    "A: Lo que Amenazas mi aprendizaje es:  "
   ]
  },
  {
   "cell_type": "markdown",
   "id": "6b9e56a8",
   "metadata": {
    "slideshow": {
     "slide_type": "slide"
    }
   },
   "source": [
    "### [Evaluamos al profesor Marco Cañas Aquí](https://forms.office.com/Pages/ResponsePage.aspx?id=IefhmYRxjkmK_7KtTlPBwkanXIs1i1FEujpsZgO6dXpUREJPV1kxUk1JV1ozTFJIQVNIQjY5WEY3US4u)"
   ]
  },
  {
   "cell_type": "markdown",
   "id": "10f43536",
   "metadata": {
    "slideshow": {
     "slide_type": "slide"
    }
   },
   "source": [
    "### Continue su aprendizaje en la siguiente clase a través del siguiente [vínculo]()"
   ]
  },
  {
   "cell_type": "markdown",
   "id": "53cc9115",
   "metadata": {
    "slideshow": {
     "slide_type": "slide"
    }
   },
   "source": [
    "## Agradecimientos  \n",
    "\n",
    "Doy gracias a Dios por la vida de mi Hijo Joseph Cañas Osorio y la madurez que ha alcanzado. Este hijo me enorgullece y me hace falta abrazarlo cada día. \n",
    "\n",
    "Y a mi esposa Yasmira Emperatriz Barboza Mogollón por su apoyo, orientación y acompañamiento. "
   ]
  },
  {
   "cell_type": "markdown",
   "id": "b6ba1c23",
   "metadata": {},
   "source": [
    "# Apéndice sobre calendarios y coordinaciones \n",
    "\n",
    "A continuación le envío el horario de la asignatura Cálculo Vectorial  \n",
    "\n",
    "Días:  \n",
    "Lunes - Hora: 7:00 a 12:00M  \n",
    "Fechas:  \n",
    "Febrero: 10-17-24                                          \n",
    " Marzo: 3-10-17-31                                                  \n",
    "Abril:7-21-28                                                   \n",
    "Mayo:5-12-19  \n",
    "\n",
    "Agradezco su apoyo, y si presenta alguna dificultad puede contactarme.  \n",
    "\n",
    "Cordialmente,  \n",
    "Juan Felipe Rivera Hernández  \n",
    "Contacto: 3106314300  "
   ]
  },
  {
   "cell_type": "markdown",
   "id": "0e66cd7c",
   "metadata": {},
   "source": [
    "# Clase de análisis numérico los Martes de 8 a 12 del medio día. "
   ]
  },
  {
   "cell_type": "markdown",
   "id": "c5ff61b1",
   "metadata": {},
   "source": []
  }
 ],
 "metadata": {
  "celltoolbar": "Slideshow",
  "kernelspec": {
   "display_name": ".venv",
   "language": "python",
   "name": "python3"
  },
  "language_info": {
   "codemirror_mode": {
    "name": "ipython",
    "version": 3
   },
   "file_extension": ".py",
   "mimetype": "text/x-python",
   "name": "python",
   "nbconvert_exporter": "python",
   "pygments_lexer": "ipython3",
   "version": "3.11.9"
  },
  "rise": {
   "enable_chalkboard": true,
   "theme": "sky",
   "transition": "zoom"
  }
 },
 "nbformat": 4,
 "nbformat_minor": 5
}
