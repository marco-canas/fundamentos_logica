{
 "cells": [
  {
   "cell_type": "markdown",
   "id": "dc06dec7",
   "metadata": {
    "slideshow": {
     "slide_type": "slide"
    }
   },
   "source": [
    "<table align=\"left\">\n",
    "  <td>\n",
    "    <a href=\"https://colab.research.google.com/github/marco-canas/fundamentos_logica/blob/main/4_diagnostico_planificacion/1_logica_math/2_operaciones_logicas/1_operaciones_logicas.ipynb\" target=\"_parent\"><img src=\"https://colab.research.google.com/assets/colab-badge.svg\" alt=\"Open In Colab\"/></a>\n",
    "  </td>\n",
    "  <td>\n",
    "    <a target=\"_blank\" href=\"https://colab.research.google.com/github/marco-canas/fundamentos_logica/blob/main/4_diagnostico_planificacion/1_logica_math/2_operaciones_logicas/1_operaciones_logicas.ipynb\"><img src=\"https://kaggle.com/static/images/open-in-kaggle.svg\" /></a>\n",
    "  </td>\n",
    "</table>"
   ]
  },
  {
   "cell_type": "code",
   "execution_count": 1,
   "id": "a53f1df5",
   "metadata": {},
   "outputs": [],
   "source": [
    "# función de usuario para el código QR \n",
    "\n",
    "# Instalación necesaria si no tienes qrcode\n",
    "# # !pip install qrcode[pil]\n",
    "\n",
    "import qrcode\n",
    "from IPython.display import Image, display\n",
    "from io import BytesIO\n",
    "\n",
    "def generar_qr(url: str, box_size: int = 10, border: int = 4):\n",
    "    \"\"\"\n",
    "    Genera y muestra en Jupyter un código QR para la URL dada.\n",
    "    \n",
    "    Parámetros:\n",
    "    -----------\n",
    "    url : str\n",
    "        Dirección web o texto a codificar en el QR.\n",
    "    box_size : int\n",
    "        Tamaño de cada caja (pixel) en el QR.\n",
    "    border : int\n",
    "        Grosor del borde del QR (en cajas).\n",
    "    \"\"\"\n",
    "    # Crear el objeto QR\n",
    "    qr = qrcode.QRCode(\n",
    "        version=1,\n",
    "        box_size=box_size,\n",
    "        border=border\n",
    "    )\n",
    "    qr.add_data(url)\n",
    "    qr.make(fit=True)\n",
    "\n",
    "    # Convertir a imagen\n",
    "    img = qr.make_image(fill_color=\"black\", back_color=\"white\")\n",
    "\n",
    "    # Guardar en memoria para mostrar en Jupyter\n",
    "    buffer = BytesIO()\n",
    "    img.save(buffer, format=\"PNG\")\n",
    "    buffer.seek(0)\n",
    "    display(Image(data=buffer.getvalue()))\n"
   ]
  },
  {
   "cell_type": "code",
   "execution_count": 2,
   "id": "cc2ddb21",
   "metadata": {},
   "outputs": [
    {
     "data": {
      "image/png": "[encoded data removed]",
      "text/plain": [
       "<IPython.core.display.Image object>"
      ]
     },
     "metadata": {},
     "output_type": "display_data"
    }
   ],
   "source": [
    "generar_qr('https://colab.research.google.com/github/marco-canas/fundamentos_logica/blob/main/4_diagnostico_planificacion/1_logica_math/2_operaciones_logicas/1_operaciones_logicas.ipynb')"
   ]
  },
  {
   "cell_type": "markdown",
   "id": "e0c5b198",
   "metadata": {
    "slideshow": {
     "slide_type": "slide"
    }
   },
   "source": [
    "### [Video de apoyo a la lectura interactiva y experimental de este cuaderno]()"
   ]
  },
  {
   "cell_type": "markdown",
   "id": "41e82203",
   "metadata": {
    "slideshow": {
     "slide_type": "slide"
    }
   },
   "source": [
    "### [Vínculo al programa del curso de Fundamentos de Lógica:](https://github.com/marco-canas/fundamentos_logica/blob/main/3_programa_curso/2_programa_logica.md)\n",
    "\n"
   ]
  },
  {
   "cell_type": "markdown",
   "id": "d11ab06d",
   "metadata": {
    "slideshow": {
     "slide_type": "slide"
    }
   },
   "source": [
    "Un reconocimiento a mis estudiantes que han construido conmigo este saber pedagógico:\n",
    "\n",
    "<img src = 'https://github.com/marco-canas/fundamentos_logica/blob/main/images/analisis_numerico_2025-05-27.jpeg?raw=true'>  \n",
    "\n"
   ]
  },
  {
   "cell_type": "markdown",
   "id": "8a74a56c-0ce6-4ad6-b985-553fd7fb68bb",
   "metadata": {},
   "source": [
    "Reconocimiento a las profesoras destacadas en enseñanza de la matemática en Colombia\n"
   ]
  },
  {
   "cell_type": "code",
   "execution_count": 2,
   "id": "b179a7ed",
   "metadata": {},
   "outputs": [
    {
     "data": {
      "application/vnd.microsoft.datawrangler.viewer.v0+json": {
       "columns": [
        {
         "name": "index",
         "rawType": "int64",
         "type": "integer"
        },
        {
         "name": "Cedula",
         "rawType": "int64",
         "type": "integer"
        },
        {
         "name": "Nombre",
         "rawType": "object",
         "type": "string"
        },
        {
         "name": "Email",
         "rawType": "object",
         "type": "string"
        }
       ],
       "ref": "c18a56e0-a184-416b-8779-170e810b8bca",
       "rows": [
        [
         "0",
         "1066727564",
         "ARIAS ARRIETA FREDY",
         "fredy.arias1@udea.edu.co"
        ],
        [
         "1",
         "1066512662",
         "BOHORQUEZ NAVARRO DINA ESTELA",
         "dina.bohorquez@udea.edu.co"
        ],
        [
         "2",
         "1216729759",
         "CARDONA RAMÍREZ SARA PAULINA",
         "sara.cardona7@udea.edu.co"
        ],
        [
         "3",
         "5798176",
         "CASTANEDA REINOZA DIEGO",
         "diego.castaneda2@udea.edu.co"
        ],
        [
         "4",
         "1001549324",
         "HERRERA CASTILLO LUKAS MATEO",
         "lukas.herrera@udea.edu.co"
        ]
       ],
       "shape": {
        "columns": 3,
        "rows": 5
       }
      },
      "text/html": [
       "<div>\n",
       "<style scoped>\n",
       "    .dataframe tbody tr th:only-of-type {\n",
       "        vertical-align: middle;\n",
       "    }\n",
       "\n",
       "    .dataframe tbody tr th {\n",
       "        vertical-align: top;\n",
       "    }\n",
       "\n",
       "    .dataframe thead th {\n",
       "        text-align: right;\n",
       "    }\n",
       "</style>\n",
       "<table border=\"1\" class=\"dataframe\">\n",
       "  <thead>\n",
       "    <tr style=\"text-align: right;\">\n",
       "      <th></th>\n",
       "      <th>Cedula</th>\n",
       "      <th>Nombre</th>\n",
       "      <th>Email</th>\n",
       "    </tr>\n",
       "  </thead>\n",
       "  <tbody>\n",
       "    <tr>\n",
       "      <th>0</th>\n",
       "      <td>1066727564</td>\n",
       "      <td>ARIAS ARRIETA FREDY</td>\n",
       "      <td>fredy.arias1@udea.edu.co</td>\n",
       "    </tr>\n",
       "    <tr>\n",
       "      <th>1</th>\n",
       "      <td>1066512662</td>\n",
       "      <td>BOHORQUEZ NAVARRO DINA ESTELA</td>\n",
       "      <td>dina.bohorquez@udea.edu.co</td>\n",
       "    </tr>\n",
       "    <tr>\n",
       "      <th>2</th>\n",
       "      <td>1216729759</td>\n",
       "      <td>CARDONA RAMÍREZ SARA PAULINA</td>\n",
       "      <td>sara.cardona7@udea.edu.co</td>\n",
       "    </tr>\n",
       "    <tr>\n",
       "      <th>3</th>\n",
       "      <td>5798176</td>\n",
       "      <td>CASTANEDA REINOZA DIEGO</td>\n",
       "      <td>diego.castaneda2@udea.edu.co</td>\n",
       "    </tr>\n",
       "    <tr>\n",
       "      <th>4</th>\n",
       "      <td>1001549324</td>\n",
       "      <td>HERRERA CASTILLO LUKAS MATEO</td>\n",
       "      <td>lukas.herrera@udea.edu.co</td>\n",
       "    </tr>\n",
       "  </tbody>\n",
       "</table>\n",
       "</div>"
      ],
      "text/plain": [
       "       Cedula                         Nombre                         Email\n",
       "0  1066727564            ARIAS ARRIETA FREDY      fredy.arias1@udea.edu.co\n",
       "1  1066512662  BOHORQUEZ NAVARRO DINA ESTELA    dina.bohorquez@udea.edu.co\n",
       "2  1216729759   CARDONA RAMÍREZ SARA PAULINA     sara.cardona7@udea.edu.co\n",
       "3     5798176        CASTANEDA REINOZA DIEGO  diego.castaneda2@udea.edu.co\n",
       "4  1001549324   HERRERA CASTILLO LUKAS MATEO     lukas.herrera@udea.edu.co"
      ]
     },
     "execution_count": 2,
     "metadata": {},
     "output_type": "execute_result"
    }
   ],
   "source": [
    "import pandas as pd\n",
    "import numpy as np\n",
    "\n",
    "# Cargar la lista de estudiantes desde el archivo CSV\n",
    "path = 'C:/Users/marco/Documentos/docencia/groups_list/logica.xlsx'\n",
    "df = pd.read_excel(path)\n",
    "df.head() "
   ]
  },
  {
   "cell_type": "markdown",
   "id": "d7598d0a-d9b7-4ae0-b029-a0ed6ed1130b",
   "metadata": {},
   "source": [
    "\n",
    "# Principios de mi labor docente"
   ]
  },
  {
   "cell_type": "markdown",
   "id": "4f9d8cf9",
   "metadata": {
    "slideshow": {
     "slide_type": "slide"
    }
   },
   "source": [
    "## Modelo general de clase: [aula invertida](https://www3.gobiernodecanarias.org/medusa/ecoescuela/pedagotic/aprendizaje-invertido-flipped-classroom/)"
   ]
  },
  {
   "cell_type": "markdown",
   "id": "eb6ed03a",
   "metadata": {},
   "source": [
    "<img src = 'https://resources.maneuveringthemiddle.com/wp-content/uploads/2020/07/04212706/1-5.png' width = 500>  \n",
    "\n"
   ]
  },
  {
   "cell_type": "markdown",
   "id": "34319cce-a71b-4f64-aab8-b53e521efa40",
   "metadata": {},
   "source": [
    "# Metodología de enseñanza basada en problemas (ABP)\n"
   ]
  },
  {
   "cell_type": "markdown",
   "id": "c4f73d81",
   "metadata": {},
   "source": [
    "\n",
    "<img src = 'https://www.unir.net/wp-content/uploads/2020/07/aprendizaje-problemas2-1-1-1-1.jpeg' width = 500>"
   ]
  },
  {
   "cell_type": "markdown",
   "id": "841a985c-bd9b-4dd3-8e4c-893983980af2",
   "metadata": {},
   "source": [
    "# Desarrollo del pensamiento computacional con Lenguaje R y con archivos R Markdown orientado a la formación en ciencia de datos \n",
    "\n"
   ]
  },
  {
   "cell_type": "markdown",
   "id": "3d0eba94",
   "metadata": {},
   "source": [
    "\n",
    "<img src = 'https://i.ytimg.com/vi/mcG_wcR4e6M/maxresdefault.jpg' width = 200>"
   ]
  },
  {
   "cell_type": "markdown",
   "id": "65aa0404-f7ae-495e-864c-1aec01b4255e",
   "metadata": {},
   "source": [
    "# Principio de fomento a la ciencia abierta, enseñar en el acceso a los datos públicos y el uso de software de código abierto  \n"
   ]
  },
  {
   "cell_type": "markdown",
   "id": "18ae9b87",
   "metadata": {},
   "source": [
    "\n",
    "<img src = 'https://unesdoc.unesco.org/in/rest/Thumb/image?id=p%3A%3Ausmarcdef_0000379949_spa&author=UNESCO&title=Recomendaci%C3%B3n+de+la+UNESCO+sobre+la+Ciencia+Abierta&year=2021&publisher=UNESCO&TypeOfDocument=UnescoPhysicalDocument&mat=PGD&ct=true&size=512&isPhysical=1' width = 200>"
   ]
  },
  {
   "cell_type": "markdown",
   "id": "d9559f85",
   "metadata": {},
   "source": [
    "El enfoque STEAMS en educación preescolar, primaria y secundaria es una extensión del enfoque STEM (Ciencia, Tecnología, Ingeniería y Matemáticas) y su variante STEAM, que incorpora el Arte. "
   ]
  },
  {
   "cell_type": "markdown",
   "id": "72e1cfd2",
   "metadata": {},
   "source": [
    "El acrónimo STEAMS incluye:\n"
   ]
  },
  {
   "cell_type": "markdown",
   "id": "0130ec1b",
   "metadata": {},
   "source": [
    "\n",
    "<img src = 'https://www.campuseducacion.com/blog/wp-content/uploads/2023/03/foto01-1.jpg' width = 200>"
   ]
  },
  {
   "cell_type": "markdown",
   "id": "995f71fa",
   "metadata": {},
   "source": [
    "# Y Enfoque TRRS de Duval "
   ]
  },
  {
   "cell_type": "markdown",
   "id": "9d15c10d-2c02-4158-9419-b1ed79b4c1ee",
   "metadata": {},
   "source": [
    "# Qué estamos haciendo por la internalización en esta clase y este curso  \n"
   ]
  },
  {
   "cell_type": "markdown",
   "id": "964d9de7-53ee-4255-9bcd-d8e6454f2993",
   "metadata": {},
   "source": [
    "### 1. **Visión Global en la Formación Académica**\n"
   ]
  },
  {
   "cell_type": "markdown",
   "id": "d9bdd3e2",
   "metadata": {},
   "source": [
    "   - **Competencias Internacionales**: Busco que el contenido de mis cursos fomente habilidades que sean reconocidas globalmente. "
   ]
  },
  {
   "cell_type": "markdown",
   "id": "74984bb5",
   "metadata": {},
   "source": [
    "Al educar a los estudiantes en **Python, LaTeX, Markdown y Jupyter Notebooks** y en la **introducción a la ciencia de datos y técnicas de Machine Learning**, estás proporcionando competencias altamente demandadas en los sectores tecnológicos y académicos a nivel internacional.\n"
   ]
  },
  {
   "cell_type": "markdown",
   "id": "39b55206",
   "metadata": {},
   "source": [
    "   - **Relevancia de los Contenidos**: Destaca cómo los temas que enseñas, como el **desarrollo del pensamiento computacional** y la **ciencia de datos**, están alineados con las necesidades globales actuales en diversas industrias, desde la tecnología hasta las ciencias naturales y sociales.\n"
   ]
  },
  {
   "cell_type": "markdown",
   "id": "a054599e",
   "metadata": {},
   "source": [
    "   - **Referencias a Estándares Internacionales**: Puedes vincular tu enseñanza a estándares internacionales de competencias en programación y ciencia de datos (por ejemplo, frameworks del **IEEE, ACM**, y estándares de la **data science** o la **computación en la nube**)."
   ]
  },
  {
   "cell_type": "markdown",
   "id": "0f1d110c-3142-48fe-9e7d-5fbd9e8bb931",
   "metadata": {},
   "source": [
    "### 2. **Innovación Pedagógica con Enfoque Internacional**\n"
   ]
  },
  {
   "cell_type": "markdown",
   "id": "fae6ae34",
   "metadata": {},
   "source": [
    "   - **Aula Invertida y ABP**: Presenta cómo tu enfoque de **aula invertida** y **aprendizaje basado en problemas (ABP)** permite a los estudiantes trabajar de manera autónoma y colaborativa, lo que los prepara para escenarios laborales internacionales que requieren autoaprendizaje y habilidades de resolución de problemas en equipo.\n"
   ]
  },
  {
   "cell_type": "markdown",
   "id": "c83062d9",
   "metadata": {},
   "source": [
    "   - **Uso de Jupyter Notebooks**: El uso de **Jupyter Notebooks** en tus clases no solo facilita la **integración de código, matemáticas y texto**, sino que también es una plataforma utilizada globalmente en ambientes académicos y profesionales, lo que hace a tus estudiantes más competitivos internacionalmente."
   ]
  },
  {
   "cell_type": "markdown",
   "id": "960d52b7-03cd-4eb3-965e-5cdfeb7d9f8e",
   "metadata": {},
   "source": [
    "### 3. **Tecnología y Herramientas de Uso Global**\n"
   ]
  },
  {
   "cell_type": "markdown",
   "id": "4be7269f",
   "metadata": {},
   "source": [
    "   - **Lenguaje Python**: Python es uno de los lenguajes de programación más usados a nivel mundial, tanto en la academia como en la industria. Al formar a tus estudiantes en Python para ciencia de datos y machine learning, los preparas para operar en entornos tecnológicos globales.\n"
   ]
  },
  {
   "cell_type": "markdown",
   "id": "102655af",
   "metadata": {},
   "source": [
    "   - **Herramientas de Ciencia Abierta**: Resalta cómo herramientas como **GitHub**, **Google Colab** y otras plataformas de código abierto están alineadas con el movimiento de **ciencia abierta**, el cual es internacionalmente reconocido y permite que los estudiantes colaboren y compartan proyectos a nivel global."
   ]
  },
  {
   "cell_type": "markdown",
   "id": "3b2ffa32-7a6f-4545-ba7b-c6a69f51109f",
   "metadata": {},
   "source": [
    "### 4. **Investigación y Publicaciones Internacionales**\n"
   ]
  },
  {
   "cell_type": "markdown",
   "id": "bdbf52a5",
   "metadata": {},
   "source": [
    "   - **Promoción de la Investigación**: Detalla cómo promueves que tus estudiantes participen en proyectos de **investigación aplicada**, con posibilidad de publicación en revistas internacionales. Esto contribuye a la reputación internacional de la Universidad de Antioquia.\n"
   ]
  },
  {
   "cell_type": "markdown",
   "id": "ea01fcbc",
   "metadata": {},
   "source": [
    "   - **Colaboraciones Internacionales**: Si has colaborado con investigadores de otras instituciones o universidades en el extranjero, menciona estos proyectos y cómo han enriquecido tu enseñanza y proporcionado a los estudiantes una visión más globalizada."
   ]
  },
  {
   "cell_type": "markdown",
   "id": "5d1e396e-aece-4bf7-9421-32fa7809eaf4",
   "metadata": {},
   "source": [
    "## 5. **Uso del Inglés para la Internacionalización**\n"
   ]
  },
  {
   "cell_type": "markdown",
   "id": "29cabf26",
   "metadata": {},
   "source": [
    "   - **Comunicación Científica en Inglés**: "
   ]
  },
  {
   "cell_type": "markdown",
   "id": "8ec53ff3",
   "metadata": {},
   "source": [
    "Fomentar el aprendizaje del inglés como lengua científica es clave para que tus estudiantes puedan acceder a publicaciones internacionales, conferencias, y material académico que no está disponible en español. "
   ]
  },
  {
   "cell_type": "markdown",
   "id": "0ab3104b",
   "metadata": {},
   "source": [
    "Esto es esencial para que adquieran competencias que les permitan desempeñarse en cualquier contexto internacional.\n"
   ]
  },
  {
   "cell_type": "markdown",
   "id": "b831224f",
   "metadata": {},
   "source": [
    "   - **Material Bilingüe**: Al generar material educativo en Python, LaTeX y Markdown, considera ofrecer algunos de estos recursos en inglés, para que los estudiantes se familiaricen con el vocabulario técnico y científico internacional."
   ]
  },
  {
   "cell_type": "markdown",
   "id": "c6a8c3b0-426a-4692-a384-3065aea81c9a",
   "metadata": {},
   "source": [
    "### 6. **Certificaciones y Estándares Internacionales**\n"
   ]
  },
  {
   "cell_type": "markdown",
   "id": "b1f41da5",
   "metadata": {},
   "source": [
    "   - **Participación en Certificaciones Internacionales**: Impulsa que los estudiantes busquen certificaciones internacionales en Python o ciencia de datos (como las ofrecidas por **Coursera, edX,** o **Google**). Estas certificaciones no solo validan sus competencias, sino que también incrementan el reconocimiento de la Universidad de Antioquia en el contexto internacional.\n"
   ]
  },
  {
   "cell_type": "markdown",
   "id": "7cc66317",
   "metadata": {},
   "source": [
    "   - **Alineación con Acreditaciones Internacionales**: Vincula tu trabajo docente con los estándares de acreditación y certificación que garantizan que la universidad siga siendo reconocida internacionalmente. "
   ]
  },
  {
   "cell_type": "markdown",
   "id": "66ba7570",
   "metadata": {},
   "source": [
    "Puedes vincularte con organizaciones internacionales que promuevan la excelencia en la educación y tecnología, como **ABET** para la acreditación en ingeniería y ciencias computacionales."
   ]
  },
  {
   "cell_type": "markdown",
   "id": "65d3d9e1-ea84-43e0-8197-a2a9c9e21594",
   "metadata": {},
   "source": [
    "### 7. **Proyectos Abiertos y Ciencia Reproducible**\n"
   ]
  },
  {
   "cell_type": "markdown",
   "id": "f03f7b20",
   "metadata": {},
   "source": [
    "   - **GitHub y Open Science**: La utilización de **GitHub** para almacenar los proyectos y materiales de enseñanza en repositorios públicos permite que otros investigadores y educadores internacionales puedan revisar y replicar tu trabajo. "
   ]
  },
  {
   "cell_type": "markdown",
   "id": "346badc3",
   "metadata": {},
   "source": [
    "Esto contribuye a la creación de una red de colaboración científica abierta.\n"
   ]
  },
  {
   "cell_type": "markdown",
   "id": "44fc92f6",
   "metadata": {},
   "source": [
    "   - **Transparencia y Reproducibilidad**: La ciencia de datos y machine learning están profundamente ligados a la reproducibilidad. Asegura que tus estudiantes desarrollen prácticas de transparencia y documentación en la investigación, que son pilares en la comunidad científica global.\n"
   ]
  },
  {
   "cell_type": "markdown",
   "id": "215cb551",
   "metadata": {},
   "source": [
    "\n",
    "### 8. **Participación en Redes y Conferencias Internacionales**\n"
   ]
  },
  {
   "cell_type": "markdown",
   "id": "47828cba",
   "metadata": {},
   "source": [
    "   - **Presentación en Conferencias Internacionales**: Destaca cómo tu participación en conferencias internacionales (como la **ASCOLFA** o eventos sobre educación en matemáticas) contribuye al prestigio de la universidad y permite que tus prácticas sean evaluadas y reconocidas a nivel global.\n"
   ]
  },
  {
   "cell_type": "markdown",
   "id": "cdf46e29",
   "metadata": {},
   "source": [
    "   - **Promoción de Estudiantes en Eventos Internacionales**: Impulsa la participación de tus estudiantes en competiciones internacionales de programación o hackathons, como los organizados por **Google**, **ACM** o **Kaggle**. "
   ]
  },
  {
   "cell_type": "markdown",
   "id": "929e2344",
   "metadata": {},
   "source": [
    "Esto no solo desarrolla sus habilidades, sino que también visibiliza el talento de la Universidad de Antioquia a nivel global.\n",
    "\n",
    "---"
   ]
  },
  {
   "cell_type": "markdown",
   "id": "233294a4-1983-4641-a7ad-866825e02315",
   "metadata": {},
   "source": [
    "Con esta estrategia, presento mis acciones docentes en términos de competencias internacionales, innovación pedagógica, tecnología, investigación y participación en redes globales, asegurando que mi práctica esté alineada con los estándares internacionales y que tus estudiantes estén preparados para competir en contextos internacionales."
   ]
  },
  {
   "cell_type": "markdown",
   "id": "77da458b",
   "metadata": {},
   "source": [
    "### **Metodología de Enseñanza: Aprendizaje Basado en Problemas y Proyectos (ABPP)**\n"
   ]
  },
  {
   "cell_type": "markdown",
   "id": "c943d273",
   "metadata": {},
   "source": [
    "\n",
    "El **Aprendizaje Basado en Problemas y Proyectos (ABPP)** es una metodología educativa que integra los enfoques del **Aprendizaje Basado en Problemas (ABP)** y el **Aprendizaje Basado en Proyectos (PBL, por sus siglas en inglés)**. "
   ]
  },
  {
   "cell_type": "markdown",
   "id": "662c202f",
   "metadata": {},
   "source": [
    "Es especialmente útil para la formación de futuros docentes, ingenieros y administradores, ya que combina el desarrollo de habilidades prácticas con el pensamiento crítico y reflexivo. "
   ]
  },
  {
   "cell_type": "markdown",
   "id": "2f3535f3",
   "metadata": {},
   "source": [
    "A continuación, se presenta una descripción adaptada a la enseñanza de las matemáticas en educación infantil, Licenciatura en Matemáticas, Ingeniería Agropecuaria y Administración de Empresas:\n",
    "\n",
    "---\n"
   ]
  },
  {
   "cell_type": "markdown",
   "id": "0eeba3f5",
   "metadata": {},
   "source": [
    "\n",
    "### **1. Fundamentos del ABPP**\n"
   ]
  },
  {
   "cell_type": "markdown",
   "id": "43a21c0b",
   "metadata": {},
   "source": [
    "El ABPP se basa en:\n",
    "- **Resolución de Problemas Reales:** Los estudiantes analizan y resuelven problemas auténticos relacionados con su área de formación, fomentando la aplicación práctica del conocimiento.\n"
   ]
  },
  {
   "cell_type": "markdown",
   "id": "a3b3aec8",
   "metadata": {},
   "source": [
    "- **Proyectos como Herramientas Integradoras:** Los proyectos permiten desarrollar habilidades interdisciplinarias y ofrecer soluciones concretas a los problemas planteados.\n"
   ]
  },
  {
   "cell_type": "markdown",
   "id": "c7613fdb",
   "metadata": {},
   "source": [
    "- **Aprendizaje Activo:** Los estudiantes son responsables de su aprendizaje y participan activamente en el proceso de investigación, diseño y solución.\n",
    "\n",
    "---\n"
   ]
  },
  {
   "cell_type": "markdown",
   "id": "3728d010",
   "metadata": {},
   "source": [
    "\n",
    "### **2. Aplicación del ABPP en Áreas Específicas**\n"
   ]
  },
  {
   "cell_type": "markdown",
   "id": "411f3dc8",
   "metadata": {},
   "source": [
    "\n",
    "#### **Educación Infantil (Licenciatura en Educación Infantil)**\n"
   ]
  },
  {
   "cell_type": "markdown",
   "id": "6bee6002",
   "metadata": {},
   "source": [
    "- **Enfoque:** Desarrollo del pensamiento matemático en la infancia desde contextos lúdicos, familiares y culturales.\n",
    "- **Problemas típicos:** \n",
    "  - ¿Cómo enseñar los números naturales mediante actividades prácticas y juegos?\n",
    "  - ¿Qué estrategias pueden emplearse para abordar el concepto de cantidad en edades tempranas?\n"
   ]
  },
  {
   "cell_type": "markdown",
   "id": "bd29a667",
   "metadata": {},
   "source": [
    "- **Proyectos:** Diseño de secuencias didácticas que usen Python, Jupyter Notebooks y materiales manipulativos para enseñar matemáticas de forma interactiva.\n"
   ]
  },
  {
   "cell_type": "markdown",
   "id": "1f866c36",
   "metadata": {},
   "source": [
    "- **Competencias desarrolladas:** \n",
    "  - Uso de herramientas tecnológicas para diseñar actividades educativas.\n",
    "  - Comprensión del desarrollo cognitivo infantil y su relación con las matemáticas.\n"
   ]
  },
  {
   "cell_type": "markdown",
   "id": "481f614a",
   "metadata": {},
   "source": [
    "\n",
    "#### **Licenciatura en Matemáticas**\n",
    "- **Enfoque:** Resolución de problemas matemáticos aplicados y profundización teórica en áreas como análisis matemático y modelado.\n"
   ]
  },
  {
   "cell_type": "markdown",
   "id": "4fe27fb8",
   "metadata": {},
   "source": [
    "- **Problemas típicos:**\n",
    "  - ¿Cómo se pueden resolver ecuaciones diferenciales aplicadas a modelos físicos o económicos?\n",
    "  - ¿Cómo modelar fenómenos naturales mediante funciones matemáticas?\n"
   ]
  },
  {
   "cell_type": "markdown",
   "id": "56002488",
   "metadata": {},
   "source": [
    "- **Proyectos:** \n",
    "  - Desarrollo de software educativo para explorar conceptos matemáticos.\n",
    "  - Aplicación de modelado matemático para resolver problemas reales en otras disciplinas.\n"
   ]
  },
  {
   "cell_type": "markdown",
   "id": "805b6e6a",
   "metadata": {},
   "source": [
    "- **Competencias desarrolladas:**\n",
    "  - Dominio de la matemática teórica y aplicada.\n",
    "  - Uso de tecnología para la enseñanza y la investigación.\n"
   ]
  },
  {
   "cell_type": "markdown",
   "id": "83ab236f",
   "metadata": {},
   "source": [
    "\n",
    "#### **Ingeniería Agropecuaria**\n",
    "- **Enfoque:** Modelado matemático y análisis de datos para mejorar la producción agrícola y la gestión de recursos.\n"
   ]
  },
  {
   "cell_type": "markdown",
   "id": "beb9ba0e",
   "metadata": {},
   "source": [
    "- **Problemas típicos:**\n",
    "  - ¿Cómo modelar el crecimiento de cultivos considerando variables climáticas?\n",
    "  - ¿Cómo optimizar el uso del agua en sistemas de riego mediante análisis matemático?\n"
   ]
  },
  {
   "cell_type": "markdown",
   "id": "db746989",
   "metadata": {},
   "source": [
    "- **Proyectos:** \n",
    "  - Desarrollo de modelos predictivos con Python y bibliotecas de aprendizaje automático.\n",
    "  - Implementación de proyectos que combinen matemáticas y ciencias de datos para resolver problemas agrícolas.\n"
   ]
  },
  {
   "cell_type": "markdown",
   "id": "9bac9c84",
   "metadata": {},
   "source": [
    "- **Competencias desarrolladas:**\n",
    "  - Integración de matemáticas con tecnologías avanzadas.\n",
    "  - Resolución de problemas agropecuarios mediante análisis y modelado.\n"
   ]
  },
  {
   "cell_type": "markdown",
   "id": "c4519bb3",
   "metadata": {},
   "source": [
    "\n",
    "#### **Administración de Empresas**\n"
   ]
  },
  {
   "cell_type": "markdown",
   "id": "d63225b7",
   "metadata": {},
   "source": [
    "- **Enfoque:** Uso de las matemáticas y la ciencia de datos para la toma de decisiones estratégicas.\n",
    "- **Problemas típicos:**\n",
    "  - ¿Cómo identificar patrones de comportamiento del consumidor usando series de tiempo?\n",
    "  - ¿Qué estrategias matemáticas pueden optimizar la asignación de recursos en una empresa?\n"
   ]
  },
  {
   "cell_type": "markdown",
   "id": "48c56234",
   "metadata": {},
   "source": [
    "- **Proyectos:** \n",
    "  - Implementación de modelos de análisis financiero y simulaciones.\n",
    "  - Desarrollo de dashboards interactivos para la gestión de datos empresariales.\n"
   ]
  },
  {
   "cell_type": "markdown",
   "id": "2101752e",
   "metadata": {},
   "source": [
    "- **Competencias desarrolladas:**\n",
    "  - Habilidad para interpretar datos matemáticos en contextos de negocio.\n",
    "  - Capacidad para diseñar soluciones basadas en datos.\n",
    "\n",
    "---\n"
   ]
  },
  {
   "cell_type": "markdown",
   "id": "19be58d4",
   "metadata": {},
   "source": [
    "\n",
    "### **3. Beneficios del ABPP**\n"
   ]
  },
  {
   "cell_type": "markdown",
   "id": "585e8739",
   "metadata": {},
   "source": [
    "- **Desarrollo de competencias clave:**\n"
   ]
  },
  {
   "cell_type": "markdown",
   "id": "734ca257",
   "metadata": {},
   "source": [
    "  - Pensamiento crítico y creativo.\n",
    "  - Trabajo colaborativo.\n",
    "  - Comunicación efectiva.\n",
    "  - Uso de herramientas tecnológicas avanzadas.\n"
   ]
  },
  {
   "cell_type": "markdown",
   "id": "cc68c44e",
   "metadata": {},
   "source": [
    "- **Adaptación al contexto laboral:** Los estudiantes aprenden a enfrentar desafíos del mundo real y a diseñar soluciones prácticas y aplicables.\n",
    "- **Flexibilidad e interdisciplinariedad:** La metodología se adapta a diversas áreas, fomentando el aprendizaje integrado.\n",
    "\n",
    "---\n"
   ]
  },
  {
   "cell_type": "markdown",
   "id": "e36034c3",
   "metadata": {},
   "source": [
    "\n",
    "### **4. Ejemplo General de Implementación**\n"
   ]
  },
  {
   "cell_type": "markdown",
   "id": "20fadf1c",
   "metadata": {},
   "source": [
    "1. **Identificación del problema:** Se plantea un desafío concreto, como modelar el crecimiento poblacional de una comunidad rural (Ingeniería Agropecuaria) o diseñar una estrategia para enseñar fracciones a niños de 8 años (Educación Infantil).\n"
   ]
  },
  {
   "cell_type": "markdown",
   "id": "82a840c0",
   "metadata": {},
   "source": [
    "2. **Formación de equipos:** Los estudiantes trabajan en grupos, distribuyendo roles y tareas.\n",
    "3. **Investigación y diseño:** Los estudiantes investigan el problema, proponen soluciones y diseñan un proyecto.\n"
   ]
  },
  {
   "cell_type": "markdown",
   "id": "035928e0",
   "metadata": {},
   "source": [
    "4. **Implementación:** Se desarrolla el proyecto, como una herramienta tecnológica o una propuesta pedagógica.\n",
    "5. **Evaluación:** Los estudiantes presentan sus resultados en un informe o una exposición, recibiendo retroalimentación de sus compañeros y docentes.\n",
    "\n",
    "---\n"
   ]
  },
  {
   "cell_type": "markdown",
   "id": "03c29efc",
   "metadata": {},
   "source": [
    "\n",
    "El ABPP es una metodología versátil que conecta el conocimiento teórico con la práctica, preparando a los estudiantes para los retos de sus profesiones en la enseñanza de la matemática, la ingeniería y la administración."
   ]
  },
  {
   "cell_type": "markdown",
   "id": "8d97dc80",
   "metadata": {
    "slideshow": {
     "slide_type": "slide"
    }
   },
   "source": [
    "## Fomento de la lectura literaria asociada a Ingeniería agropecuaria y licenciatura en Matemáticas\n",
    "\n",
    "[Aprender a obtener el sí sin ceder]()"
   ]
  },
  {
   "cell_type": "markdown",
   "id": "96775931",
   "metadata": {
    "slideshow": {
     "slide_type": "slide"
    }
   },
   "source": [
    "## Título de la clase: 1.2 Operaciones Lógicas Según Lina Grajales    \n",
    "\n",
    "Página 15 de su PDF\n",
    "\n",
    "[Matemáticas I para ciencias económicas](https://bibliotecadigital.udea.edu.co/entities/publication/0b3501bd-c78f-4371-bdb0-8d629f0a331a)"
   ]
  },
  {
   "cell_type": "markdown",
   "id": "10e55ccf",
   "metadata": {},
   "source": [
    "# Estructura general para todas las clases\n",
    "\n",
    "Dame, por favor, un diseño de clase, con el enfoque: STEAMS y de Aprendizaje Basado en Problemas y Proyectos(ABPP) y Teoría de Registros de Representación Semiótica (TRRS) de Duval; sobre: **\"1.3 Expresiones simbólicas según las páginas 22 a 26 del PDF del libro 'Matemáticas discretas: una perspectiva funcional con Python 3.x' que encuentras en: https://ri.ujat.mx/handle/200.500.12107/3942\", siguiendo la estructura:  \n",
    "\n",
    "1. Título de la clase \n",
    "2. Objetivos de aprendizaje e indicadores del logro de estos oobjetivos. \n",
    "3. Un mapa conceptual que resuma la clase elaborado en Graphviz de python con nodos y edges de diferentes formas, colores y rellenos y renderizado en la siguiente ubicación: `\"C:/Users/marco/Descargas\"`. No olvides el parámetro `view = True` para el método `render()` de Graphviz. Para este mapa controla las superposiciones de los nodos con:   \n",
    "   graph [overlap=false]; // Elimina superposiciones (puede aumentar el espacio)\n",
    "   graph [overlap=\"scalexy\"]; // Escala el gráfico para evitar overlaps\n",
    "   graph [overlap=\"compress\"]; // Comprime el grafo sin overlaps   \n",
    "   \n",
    "   \n",
    "4. Contenido de la clase. Pero para la presentación de las tablas de verdad de cada uno de los cinco conector utiliza una analogía coloquial como la siguiente: \"La mamá de juenito le dice que será consecuente con el cumplimiento de dos dondiciones $p$ y $q$ para dejarlo salis a jugar. La condición dada por la mamá es que: 'Te dejaré salir a jugar si lavas los trastes **o** barres la casa'\". Así, el que Juanito salga está dado por el valor de verdad de la proposición $p \\lor q$. Y juanito ha entendido que tiene tres posibilidades para que la mamá le deje salir a jugar: 1) si lava los trastes , 2) si barre la casa, 3) si hace ambas cosas. Y sabe además que no saldrá a jugar solo cuando no realice ninguna de las dos tareas. Es decir, la disyunción es casi siempre verdadera, o es verdadera si almenos una de las dos proposiciones simples que la componen es verdadera. Y Además, la disyunción es solo falsa cuendo ambas proposiciones simples que la conforman son falsas. Por lo tanto, la singularidad de la disyunción es que ella es F cuando ambas proposiciones atómicas que la conforman son F. \n",
    "5. Incluye una canción o un poema que ayude a interiorizar y fijar los conceptos asociados a esta clase.\n",
    "6. Dame elementos históricos y epistemológicos asociados a esta clase, pero contados como un cuento al estilo de un cuentero antioqueño en Colombia. Incluye imágenes de los protagonistas históricos de esta clase. \n",
    "7. Actividades de aprendizaje\n",
    "8. Tarea o actividades de ejercitación y fijación.  \n",
    "     \n",
    "9.  Evaluación incluyendo diez proyectos, un ejemplo de quiz y un ejemplo de parcial. Y que en esta evaluación se le pida al estudiante el interpretar las proposiciones compuestas de cada punto de manera verbal con ejemplos de contextos económicos, cotidianos, deportivos y matemáticos. Por ejemplo, pidele interpretar proposiciones compuestas como: \n",
    "    $$\\left[ (p \\to q) \\land (q \\to r) \\right] \\to (p \\to r)$$  \n",
    "\n",
    "10.  Diseño de actividad de retroalimentación.   \n",
    "    \n",
    "11.  Dame un vocabulario y frases del idioma inglés asociadas a esta clase.   \n",
    "        \n",
    "12.  Incluye apéndice para la clase sobre desarrollo de habilidades para trabajar en equipo y de asertividad y empatía para relacionarnos. También elementos de la inteligencia emocional para presentar pruebas sin temor y sin realizar fraude en ellas.     \n",
    "    \n",
    "13. Incluye 10 referentes en didáctica de la matemática que estén de acuerdo a la propuesta didáctica de esta clase. Adiciona a estos referentes a Raymond Duval (Representaciones y cambios de representación para la adquisición de conceptos matemáticos) y a Janete Wing (Desarrollo del pensamiento computacional). Dejame todos estos referentes ordenados de acuerdo a las normas APA. Dejame todos estos referentes ordenados de acuerdo a las normas APA. Incluye las citaciones a estos referentes a medida que vallas diseñando la clase. \n",
    "\n",
    "\n",
    "\n",
    "Pero  que este diseño sea para que el estudiante pueda aprender experimentando en cuadernos Jupyter con funciones de usuario y animaciones y visualizaciones en python.   \n",
    "\n",
    "En particular utiliza para el diseño de clase a Numpy, Pandas, SymPy, Matplotlib.pyplot, Seaborn, Plotly, ipywidgets, matplotlib.animation y Jupyter Notebook. Cada vez que utilices `matplotlib.animacion` no olvides incluir el uso de `IPython. display` para la rederización de estas animaciones a través de Jupyter Notebook.   \n",
    "\n",
    "No olvides darme los diseños de clase con las ecuaciones matemáticas delimitadas con signo de dolar $ para que VS Code si me renderize estas expresiones del lenguaje latex. Cuando vallas a utilizar ipywidgets ten en cuenta la siguiente importación inicial para garantizar que la visualización interactiva si se renderize en VS Code:  \n",
    "\n",
    "import numpy as np\n",
    "import matplotlib.pyplot as plt\n",
    "import ipywidgets as widgets\n",
    "from IPython.display import display, clear_output\n",
    "\n",
    "Ubicación del diseño IAE para el curso de Fundamentos de Lógica: https://github.com/marco-canas/fundamentos_logica/blob/main/2_diseno_investigacion_educativa/1_diseno_investigacion_educativa.md  \n",
    "\n",
    "Ubicación del programa del curso: https://github.com/marco-canas/fundamentos_logica/blob/main/3_programa_curso/1_programa_logica.md\n",
    "\n",
    "Ubicación del cronograma del curso: https://github.com/marco-canas/fundamentos_logica/blob/main/3_programa_curso/3_programacion_clase_a_clase.md\n",
    "\n",
    "Ubicación de la lista de estudiantes del curso: https://github.com/marco-canas/groups_list/blob/main/logica.xlsx"
   ]
  },
  {
   "cell_type": "markdown",
   "id": "b3b1ec6b",
   "metadata": {},
   "source": [
    "**Diseño de Clase: \"Lógica en Acción: Operaciones Lógicas con STEAMS y ABPP\"**  \n",
    "*(Integrando Python, Jupyter Notebook, y Analogías Cotidianas)*  \n"
   ]
  },
  {
   "cell_type": "markdown",
   "id": "c49b199b",
   "metadata": {},
   "source": [
    "\n",
    "---\n",
    "\n",
    "### **1. Título de la Clase**  \n",
    "**\"Del Mercado a la Programación: Operaciones Lógicas con Python y STEAMS\"**  \n",
    "\n",
    "---\n"
   ]
  },
  {
   "cell_type": "markdown",
   "id": "4a7d9342",
   "metadata": {},
   "source": [
    "\n",
    "### **2. Objetivos de Aprendizaje e Indicadores**  \n"
   ]
  },
  {
   "cell_type": "markdown",
   "id": "8000cc04",
   "metadata": {},
   "source": [
    "- **Objetivo 1:** Comprender los cinco conectores lógicos (AND, OR, NOT, IMPLIES, IFF) mediante analogías cotidianas y modelado matemático.  \n",
    "  *Indicador:* Resuelve problemas con tablas de verdad usando `pandas.DataFrame`."
   ]
  },
  {
   "cell_type": "markdown",
   "id": "1b681a08",
   "metadata": {},
   "source": [
    "  \n",
    "- **Objetivo 2:** Aplicar operaciones lógicas en contextos económicos/deportivos usando Python.  \n",
    "  *Indicador:* Crea un modelo en Jupyter que simule decisiones de compra/venta con `if-else`. "
   ]
  },
  {
   "cell_type": "markdown",
   "id": "1c798bf5",
   "metadata": {},
   "source": [
    " \n",
    "- **Objetivo 3:** Diseñar visualizaciones interactivas con `ipywidgets` y `plotly`.  \n",
    "  *Indicador:* Genera una animación de tablas de verdad con `matplotlib.animation`.  \n",
    "\n",
    "\n"
   ]
  },
  {
   "cell_type": "markdown",
   "id": "638e21ec",
   "metadata": {},
   "source": [
    "\n",
    "### **3. Mapa Conceptual (Graphviz)**  \n"
   ]
  },
  {
   "cell_type": "code",
   "execution_count": 4,
   "id": "3392e215",
   "metadata": {},
   "outputs": [
    {
     "data": {
      "text/plain": [
       "'C:\\\\Users\\\\marco\\\\Descargas\\\\Mapa_Logica.png'"
      ]
     },
     "execution_count": 4,
     "metadata": {},
     "output_type": "execute_result"
    }
   ],
   "source": [
    "# Instala graphviz si es necesario: !pip install graphviz\n",
    "from graphviz import Digraph\n",
    "\n",
    "dot = Digraph(comment='Operaciones Lógicas', format='png', engine='dot')\n",
    "\n",
    "# Configuración global para más espacio\n",
    "dot.attr(rankdir='LR', splines='true', nodesep='1', ranksep='1.5')\n",
    "dot.attr('edge', color='#4B0082', penwidth='2')\n",
    "\n",
    "# Nodos con formas y colores variados\n",
    "dot.node('A', 'Conectores Lógicos\\n(AND, OR, NOT, IMPLIES, IFF)',\n",
    "         shape='box', style='filled', fillcolor='#E6F0FF')\n",
    "dot.node('B', 'Tablas de Verdad\\n(pandas.DataFrame)',\n",
    "         shape='ellipse', style='filled', fillcolor='#FFDAB9')\n",
    "dot.node('C', 'Aplicaciones Reales\\n(Ej: Decisiones de Compra)',\n",
    "         shape='hexagon', style='filled', fillcolor='#C1FFC1')\n",
    "dot.node('D', 'Historia: Boole & Shannon',\n",
    "         shape='octagon', style='filled', fillcolor='#FFB6C1')\n",
    "dot.node('E', 'STEAMS\\n(Conexión Arte-Lógica)',\n",
    "         shape='diamond', style='filled', fillcolor='#FFFACD')\n",
    "\n",
    "# Conexiones\n",
    "dot.edge('A', 'B')\n",
    "dot.edge('A', 'C')\n",
    "dot.edge('A', 'D')\n",
    "dot.edge('A', 'E')\n",
    "dot.edge('B', 'C', label='Simulación con\\nipywidgets')\n",
    "dot.edge('D', 'A', label='Fundamentos\\nMatemáticos')\n",
    "\n",
    "# Guardar y renderizar\n",
    "dot.render('C:/Users/marco/Descargas/Mapa_Logica', view=True)\n"
   ]
  },
  {
   "cell_type": "markdown",
   "id": "85d44300",
   "metadata": {},
   "source": [
    "\n",
    "---\n",
    "\n",
    "# **4. Contenido de la Clase**"
   ]
  },
  {
   "cell_type": "markdown",
   "id": "a996e7db",
   "metadata": {},
   "source": [
    "## Diferentes formas de representación de una proposición compuesta básica  \n"
   ]
  },
  {
   "cell_type": "markdown",
   "id": "340d4366",
   "metadata": {},
   "source": [
    "Esta es tabla** representa en **circuito eléctrico** (con suiches y bombilla) y **circuito digital/electrónico** (con compuertas lógicas y un bombillo LED):\n",
    "\n",
    "\n"
   ]
  },
  {
   "cell_type": "markdown",
   "id": "b8d8344c",
   "metadata": {},
   "source": [
    "\n",
    "### **Tabla 1: Representaciones Verbales, Notación Lógica y Circuitos**\n",
    "\n",
    "| Representación Verbal                     | Notación Lógica Proposicional | Circuito Eléctrico (Suiches y Bombilla) | Circuito Digital/Electrónico (Compuertas y LED) |\n",
    "|-------------------------------------------|-------------------------------|-----------------------------------------|-------------------------------------------------|\n",
    "| La disyunción entre p y q                 | $p \\lor q$                    | Dos suiches en paralelo, conectados a una bombilla. Si **p** o **q** están cerrados, la bombilla se enciende. | Compuerta **OR**: La salida se conecta a un LED que se enciende si **p** o **q** son 1. |\n",
    "| La conjunción entre p y q                 | $p \\land q$                   | Dos suiches en serie, conectados a una bombilla. Solo si **p** y **q** están cerrados, la bombilla se enciende. | Compuerta **AND**: La salida se conecta a un LED que se enciende solo si **p** y **q** son 1. |\n",
    "| La negación de p                          | $\\lnot p$                     | Un suiche normalmente cerrado (NC) conectado a una bombilla. Si **p** está abierto, la bombilla se enciende. | Compuerta **NOT**: La salida se conecta a un LED que se enciende si **p** es 0. |\n",
    "| La implicación de p a q                   | $p \\rightarrow q$             | Un suiche **p** en serie con un suiche normalmente cerrado **q**, conectados a una bombilla. Si **p** está cerrado y **q** abierto, la bombilla se apaga. | Compuerta **NOT** + **OR**: $\\lnot p \\lor q$. La salida se conecta a un LED que se enciende si **p** es 0 o **q** es 1. |\n",
    "| La doble implicación entre p y q          | $p \\leftrightarrow q$         | Dos circuitos en paralelo: uno con **p** y **q** en serie, y otro con $\\lnot p$ y $\\lnot q$ en serie. La bombilla se enciende si ambos suiches están en el mismo estado. | Compuerta **XNOR**: La salida se conecta a un LED que se enciende si **p** y **q** son iguales. |\n",
    "| La disyunción exclusiva entre p y q       | $p \\oplus q$                  | Dos circuitos en paralelo: uno con **p** y $\\lnot q$ en serie, y otro con $\\lnot p$ y **q** en serie. La bombilla se enciende si **p** y **q** están en estados opuestos. | Compuerta **XOR**: La salida se conecta a un LED que se enciende si **p** y **q** son diferentes. |\n",
    "\n",
    "---\n"
   ]
  },
  {
   "cell_type": "markdown",
   "id": "43f64e58",
   "metadata": {},
   "source": [
    "\n",
    "### **Explicación de las Nuevas Columnas:**\n"
   ]
  },
  {
   "cell_type": "markdown",
   "id": "d4c9b64c",
   "metadata": {},
   "source": [
    "\n",
    "1. **Circuito Eléctrico (Suiches y Bombilla):**\n",
    "   - Describe cómo se implementaría la proposición en un circuito eléctrico básico usando suiches (interruptores) y una bombilla.\n",
    "   - **Suiche normalmente cerrado (NC):** Se abre cuando se activa.\n",
    "   - **Suiche normalmente abierto (NO):** Se cierra cuando se activa.\n"
   ]
  },
  {
   "cell_type": "markdown",
   "id": "1f4b527b",
   "metadata": {},
   "source": [
    "\n",
    "2. **Circuito Digital/Electrónico (Compuertas y LED):**\n",
    "   - Describe cómo se implementaría la proposición en un circuito digital usando compuertas lógicas y un LED como indicador de salida.\n",
    "   - **Compuertas lógicas:** OR, AND, NOT, XOR, XNOR.\n",
    "   - **LED:** Se enciende cuando la salida de la compuerta es 1 (verdadero).\n",
    "\n",
    "\n"
   ]
  },
  {
   "cell_type": "markdown",
   "id": "e6469975",
   "metadata": {},
   "source": [
    "\n",
    "### **Ejemplo de Representación Gráfica:**\n",
    "\n",
    "#### **Circuito Eléctrico para $p \\lor q$ (Disyunción):**\n",
    "```\n",
    "  +---------+---------+\n",
    "  |         |         |\n",
    "  p         q         Bombilla\n",
    "  |         |         |\n",
    "  +---------+---------+\n",
    "```\n",
    "- Si **p** o **q** están cerrados, la bombilla se enciende.\n"
   ]
  },
  {
   "cell_type": "markdown",
   "id": "53e80a68",
   "metadata": {},
   "source": [
    "\n",
    "#### **Circuito Digital para $p \\lor q$ (Compuerta OR):**\n",
    "```\n",
    "  +---------+\n",
    "  |   OR    |\n",
    "  p ---|    |--- LED\n",
    "  q ---|    |\n",
    "  +---------+\n",
    "```\n",
    "- El LED se enciende si **p** o **q** son 1.\n",
    "\n",
    "\n"
   ]
  },
  {
   "cell_type": "markdown",
   "id": "2575e399",
   "metadata": {},
   "source": [
    "\n",
    "### **Renderizado en VS Code:**\n",
    "- Usa un visor de Markdown para ver las tablas correctamente.\n",
    "- Las fórmulas matemáticas se renderizan gracias a la delimitación con `$`.\n",
    "\n"
   ]
  },
  {
   "cell_type": "markdown",
   "id": "ca31386a",
   "metadata": {},
   "source": [
    "\n",
    "### **Tabla 2: Representaciones en Python y SymPy**\n",
    "\n",
    "| Notación Python | Notación SymPy (Aditiva) | Notación SymPy (Funcional) |\n",
    "|-----------------|--------------------------|----------------------------|\n",
    "| `p or q`        | `p | q`                  | `Or(p, q)`                 |\n",
    "| `p and q`       | `p & q`                  | `And(p, q)`                |\n",
    "| `not p`         | `~p`                     | `Not(p)`                   |\n",
    "| `not p or q`    | `p >> q`                 | `Implies(p, q)`            |\n",
    "| `p == q`        | `p ^ q`                  | `Equivalent(p, q)`         |\n",
    "| `p != q`        | `p ^ q`                  | `Xor(p, q)`                |\n",
    "\n",
    "---\n"
   ]
  },
  {
   "cell_type": "markdown",
   "id": "3c4f1e19",
   "metadata": {},
   "source": [
    "\n",
    "### **Explicación de las Tablas:**\n",
    "1. **Tabla 1:** Se enfoca en la representación verbal y la notación formal de lógica proposicional.\n",
    "2. **Tabla 2:** Muestra cómo se expresan las proposiciones en Python y SymPy, tanto en notación aditiva como funcional.\n",
    "\n",
    "### **Ventajas de la División:**\n",
    "- **Legibilidad:** Las columnas no se superponen, lo que facilita la lectura.\n",
    "- **Organización:** Cada tabla tiene un enfoque claro (lógica formal vs. implementación en código).\n",
    "- **Adaptabilidad:** Puedes usar una u otra tabla según el contexto.\n"
   ]
  },
  {
   "cell_type": "markdown",
   "id": "e77ef164",
   "metadata": {},
   "source": [
    "\n",
    "### **Ejemplo de Uso en SymPy:**\n"
   ]
  },
  {
   "cell_type": "code",
   "execution_count": 3,
   "id": "c59dd30e",
   "metadata": {},
   "outputs": [
    {
     "data": {
      "text/latex": [
       "$\\displaystyle p \\Leftrightarrow q$"
      ],
      "text/plain": [
       "Equivalent(p, q)"
      ]
     },
     "execution_count": 3,
     "metadata": {},
     "output_type": "execute_result"
    }
   ],
   "source": [
    "\n",
    "from sympy import symbols, Or, And, Not, Implies, Equivalent, Xor\n",
    "\n",
    "p, q = symbols('p q')\n",
    "\n",
    "# Ejemplo de doble implicación\n",
    "doble_implicacion = Equivalent(p, q)\n",
    "doble_implicacion  # Salida: Equivalent(p, q)\n"
   ]
  },
  {
   "cell_type": "code",
   "execution_count": 4,
   "id": "d5c85ae5",
   "metadata": {},
   "outputs": [
    {
     "data": {
      "text/latex": [
       "$\\displaystyle p \\veebar q$"
      ],
      "text/plain": [
       "p ^ q"
      ]
     },
     "execution_count": 4,
     "metadata": {},
     "output_type": "execute_result"
    }
   ],
   "source": [
    "\n",
    "# Ejemplo de disyunción exclusiva\n",
    "disyuncion_exclusiva = Xor(p, q)\n",
    "disyuncion_exclusiva  # Salida: Xor(p, q)\n",
    "\n"
   ]
  },
  {
   "cell_type": "markdown",
   "id": "d7439d0d",
   "metadata": {},
   "source": [
    "\n",
    "### **Renderizado en VS Code:**\n",
    "- Asegúrate de usar un visor de Markdown para ver las tablas correctamente.\n",
    "- Las fórmulas matemáticas se renderizan gracias a la delimitación con `$`.\n",
    "\n",
    "¿Necesitas más ajustes o detalles adicionales? "
   ]
  },
  {
   "cell_type": "markdown",
   "id": "2028ba98",
   "metadata": {},
   "source": [
    "\n",
    "### **Explicación de las Columnas:**\n",
    "1. **Representación Verbal:** Descripción en lenguaje natural de la proposición molecular.\n",
    "2. **Notación Lógica Proposicional:** Representación formal en lógica proposicional usando símbolos matemáticos.\n",
    "3. **Notación Python:** Sintaxis en Python para expresar la proposición.\n",
    "4. **Notación SymPy (Aditiva):** Forma abreviada en SymPy para representar la proposición.\n",
    "5. **Notación SymPy (Funcional):** Forma funcional en SymPy, que es más explícita y programática.\n"
   ]
  },
  {
   "cell_type": "markdown",
   "id": "a66f0abe",
   "metadata": {},
   "source": [
    "\n",
    "### **Ejemplo de Uso en SymPy:**\n"
   ]
  },
  {
   "cell_type": "markdown",
   "id": "2d8275b8",
   "metadata": {},
   "source": [
    "```python\n",
    "from sympy import symbols, Or, And, Not, Implies, Equivalent, Xor\n",
    "\n",
    "p, q = symbols('p q')\n",
    "\n",
    "# Ejemplo de disyunción\n",
    "disyuncion = Or(p, q)\n",
    "print(disyuncion)  # Salida: Or(p, q)\n",
    "\n",
    "# Ejemplo de conjunción\n",
    "conjuncion = And(p, q)\n",
    "print(conjuncion)  # Salida: And(p, q)\n",
    "```\n"
   ]
  },
  {
   "cell_type": "markdown",
   "id": "61a5eb80",
   "metadata": {},
   "source": [
    "\n",
    "### **Renderizado en VS Code:**\n",
    "- Asegúrate de usar un visor de Markdown (como el integrado en VS Code) para ver la tabla correctamente.\n",
    "- Las fórmulas matemáticas se renderizan gracias a la delimitación con `$`.\n",
    "\n",
    "¿Necesitas más detalles o ajustes en la tabla? 😊"
   ]
  },
  {
   "cell_type": "markdown",
   "id": "5b234f79",
   "metadata": {},
   "source": [
    "  \n",
    "#### **Analogías Cotidianas para Tablas de Verdad**  \n",
    "**Ejemplo con OR (∨):**  \n",
    "*\"La mamá de Juanito: '¡Saldrás si lavas trastes **o** barres!'. Juanito sabe que si hace al menos una, gana. Solo no sale si no hace ninguna (F ∨ F = F).\"*  \n",
    "\n",
    "**Código en Python:**  \n"
   ]
  },
  {
   "cell_type": "markdown",
   "id": "1f37bb64",
   "metadata": {},
   "source": [
    "```python\n",
    "import pandas as pd\n",
    "\n",
    "# Tabla de verdad para OR\n",
    "p = [True, True, False, False]\n",
    "q = [True, False, True, False]\n",
    "or_result = [pi | qj for pi, qj in zip(p, q)]\n",
    "\n",
    "df = pd.DataFrame({'p': p, 'q': q, 'p ∨ q': or_result})\n",
    "print(df)\n",
    "```\n"
   ]
  },
  {
   "cell_type": "markdown",
   "id": "de4d1e10",
   "metadata": {},
   "source": [
    "\n",
    "---\n",
    "\n",
    "### **5. Canción/Poema para Memorizar**  \n",
    "**\"Vallenato Lógico\"** (Ritmo de *La Gota Fría*):  \n",
    "```  \n",
    "En la lógica hay conexión,  \n",
    "OR es como el corazón:  \n",
    "Si uno es True, ¡acción!  \n",
    "Solo es False en la inacción.  \n",
    "\n",
    "El AND es más exigente,  \n",
    "Dos verdades son su puente.  \n",
    "IMPLICA es condicional,  \n",
    "Si p es True, q es vital.  \n",
    "```  \n",
    "\n",
    "---\n"
   ]
  },
  {
   "cell_type": "markdown",
   "id": "c8864f44",
   "metadata": {},
   "source": [
    "\n",
    "### **6. Historia y Epistemología**  \n",
    "**\"El Tío Boole y el Mago Shannon\"** (Cuento Antioqueño):  \n",
    "*\"Erase una vez en Santa Fe de Antioquia, un tío llamado George Boole que inventó un lenguaje de \"verdadecitas\" (álgebra booleana). Años después, el mago Claude Shannon usó esas \"verdadecitas\" para crear el internet, ¡y así nació la era digital! ¡Ajá!\"*  \n",
    "*(Incluir imágenes estilo cómic de Boole con ruana y Shannon con sombrero aguadeño)*.  \n",
    "\n",
    "---\n"
   ]
  },
  {
   "cell_type": "markdown",
   "id": "78688d1d",
   "metadata": {},
   "source": [
    "\n",
    "### **7. Actividades de Aprendizaje**  \n",
    "**Actividad 1:** En Jupyter, crea una función `verdad(p, q, operador)` que devuelva la tabla de verdad usando `numpy.where`.  \n",
    "**Código Base:** "
   ]
  },
  {
   "cell_type": "markdown",
   "id": "205827ea",
   "metadata": {},
   "source": [
    " \n",
    "```python\n",
    "import numpy as np\n",
    "\n",
    "def verdad(p, q, operador):\n",
    "    return eval(f\"p {operador} q\")\n",
    "\n",
    "p = np.array([True, True, False, False])\n",
    "q = np.array([True, False, True, False])\n",
    "print(verdad(p, q, '|'))  # OR\n",
    "```\n"
   ]
  },
  {
   "cell_type": "markdown",
   "id": "e2dd74dd",
   "metadata": {},
   "source": [
    "\n",
    "**Actividad 2:** Simula un partido de fútbol donde un gol se anota si (delantero_en_posición ∧ portería_abierta) usando `ipywidgets`.  \n",
    "\n",
    "---\n",
    "\n",
    "### **8. Tareas/Proyectos**  \n",
    "**Tarea 1:** Usa `plotly.express` para hacer un heatmap interactivo de tablas de verdad.  \n",
    "**Código:**  \n",
    "```python\n",
    "import plotly.express as px\n",
    "\n",
    "fig = px.imshow(df, text_auto=True, title=\"Tabla de Verdad OR\")\n",
    "fig.show()\n",
    "```\n",
    "\n",
    "---\n",
    "\n",
    "### **9. Evaluación**  \n",
    "**Quiz Ejemplo:**  \n",
    "```  \n",
    "Pregunta: Interpreta $(p \\land q) \\to r$ en contexto económico.  \n",
    "Ejemplo Respuesta: \"Si sube el dólar (p) y hay inflación (q), entonces aumentan los precios (r)\".  \n",
    "```\n",
    "\n",
    "**Parcial:**  \n",
    "- **Parte Python:** Crea una animación con `FuncAnimation` que muestre cómo cambia la tabla de verdad al variar el operador.  \n",
    "- **Parte Teórica:** Demuestra con ejemplos deportivos por qué $(p \\to q) \\equiv (\\neg p \\lor q)$.  \n",
    "\n",
    "---\n",
    "\n",
    "### **10. Retroalimentación**  \n",
    "**Actividad:** Usando `ipywidgets`, diseña un quiz interactivo donde los estudiantes arrastren (drag-and-drop) conectores a su tabla de verdad correcta. Si fallan, muestra una explicación con `IPython.display`.  \n",
    "\n",
    "---\n",
    "\n",
    "### **11. Vocabulario en Inglés**  \n",
    "- **Truth Table:** *\"The truth table shows all possible combinations of inputs and outputs\"*  \n",
    "- **Logical Connective:** *\"AND is like a strict friend: both must agree!\"*  \n",
    "- **Phrases:**  \n",
    "  - *\"Could you explain the IMPLIES operator using a soccer example?\"*  \n",
    "  - *\"Let's code the XOR gate with numpy!\"*  \n",
    "\n",
    "---\n",
    "\n",
    "### **Notas Finales:**  \n",
    "- **STEAMS Integration:**  \n",
    "  - **Arte:** Diseña infografías de tablas de verdad con `seaborn`.  \n",
    "  - **Sociedad:** Debate cómo la lógica booleana afecta algoritmos de redes sociales.  \n",
    "- **ABPP:** Los proyectos deben incluir problemas del mercado de Caucasia (ej: lógica en precios agrícolas).  \n",
    "\n",
    "```python\n",
    "# Ejemplo de animación con matplotlib (requiere Jupyter)\n",
    "from matplotlib.animation import FuncAnimation\n",
    "from IPython.display import HTML\n",
    "\n",
    "fig, ax = plt.subplots()\n",
    "ax.set_xlim(0, 3)\n",
    "ax.set_ylim(0, 1)\n",
    "\n",
    "def animate(frame):\n",
    "    ax.clear()\n",
    "    ax.text(1, 0.5, f'Operador: {[\"AND\", \"OR\", \"XOR\"][frame%3]}', fontsize=20)\n",
    "    return ax\n",
    "\n",
    "ani = FuncAnimation(fig, animate, frames=3, interval=1000)\n",
    "HTML(ani.to_jshtml())\n",
    "```"
   ]
  },
  {
   "cell_type": "markdown",
   "id": "673ed633",
   "metadata": {},
   "source": [
    "[Video de apoyo a la presentación de la estructura de esta clase]()"
   ]
  },
  {
   "cell_type": "markdown",
   "id": "f6e89294",
   "metadata": {},
   "source": [
    "**Diseño de Clase: \"Lógica en Acción: Operaciones Lógicas con STEAMS y ABPP\"**  \n",
    "*(Integrando Python, Jupyter Notebook, y Analogías Cotidianas)*  \n",
    "\n",
    "---\n"
   ]
  },
  {
   "cell_type": "markdown",
   "id": "1c65467d",
   "metadata": {},
   "source": [
    "\n",
    "### **1. Título de la Clase**  \n",
    "**\"Del Mercado a la Programación: Operaciones Lógicas con Python y STEAMS\"**  \n",
    "\n",
    "---\n"
   ]
  },
  {
   "cell_type": "markdown",
   "id": "536c8e72",
   "metadata": {},
   "source": [
    "\n",
    "### **2. Objetivos de Aprendizaje e Indicadores**  \n",
    "- **Objetivo 1:** Comprender los cinco conectores lógicos (AND, OR, NOT, IMPLIES, IFF) mediante analogías cotidianas y modelado matemático.  \n",
    "  *Indicador:* Resuelve problemas con tablas de verdad usando `pandas.DataFrame`.  \n",
    "- **Objetivo 2:** Aplicar operaciones lógicas en contextos económicos/deportivos usando Python.  \n",
    "  *Indicador:* Crea un modelo en Jupyter que simule decisiones de compra/venta con `if-else`.  \n",
    "- **Objetivo 3:** Diseñar visualizaciones interactivas con `ipywidgets` y `plotly`.  \n",
    "  *Indicador:* Genera una animación de tablas de verdad con `matplotlib.animation`.  \n",
    "\n",
    "---\n"
   ]
  },
  {
   "cell_type": "markdown",
   "id": "84fb978b",
   "metadata": {},
   "source": [
    "\n",
    "### **3. Mapa Conceptual (Graphviz)**  \n"
   ]
  },
  {
   "cell_type": "markdown",
   "id": "e763cb01",
   "metadata": {},
   "source": [
    "El error `PermissionError: [Errno 13] Permission denied` indica que el programa no tiene permisos para escribir en la ruta especificada (`C:/Users/marco/Descargas/Mapa_Logica`). Esto puede deberse a varias razones, como restricciones de permisos en la carpeta o que la ruta no existe.\n",
    "\n",
    "Para solucionar este problema, puedes hacer lo siguiente:\n",
    "\n",
    "### 1. **Cambiar la ruta de guardado**\n",
    "Guarda el archivo en una ubicación donde tengas permisos de escritura, como tu carpeta de documentos o el directorio actual del script.\n",
    "\n",
    "```python\n",
    "# Guardar y renderizar en el directorio actual\n",
    "dot.render('Mapa_Logica', view=True)\n",
    "```\n",
    "\n",
    "### 2. **Verificar permisos de la carpeta**\n",
    "Asegúrate de que tienes permisos de escritura en la carpeta `C:/Users/marco/Descargas`. Si no los tienes, cambia los permisos o elige otra carpeta.\n",
    "\n",
    "### 3. **Crear la carpeta manualmente**\n",
    "Si la carpeta no existe, créala manualmente antes de ejecutar el código.\n",
    "\n",
    "### 4. **Usar una ruta relativa**\n",
    "En lugar de una ruta absoluta, usa una ruta relativa para evitar problemas de permisos.\n",
    "\n",
    "### Código corregido:\n"
   ]
  },
  {
   "cell_type": "code",
   "execution_count": 3,
   "id": "57651d92",
   "metadata": {},
   "outputs": [
    {
     "data": {
      "text/plain": [
       "'C:\\\\Users\\\\marco\\\\Downloads\\\\Mapa_Logica.png'"
      ]
     },
     "execution_count": 3,
     "metadata": {},
     "output_type": "execute_result"
    }
   ],
   "source": [
    "\n",
    "# Instala graphviz: !pip install graphviz\n",
    "from graphviz import Digraph\n",
    "\n",
    "# Crear el gráfico\n",
    "dot = Digraph(comment='Operaciones Lógicas', format='png', engine='neato')\n",
    "dot.attr('node', shape='box3d', style='filled', fillcolor='#E6F0FF')\n",
    "dot.attr('edge', color='#4B0082')\n",
    "\n",
    "# Nodos\n",
    "dot.node('A', 'Conectores Lógicos\\n(AND, OR, NOT, IMPLIES, IFF)')\n",
    "dot.node('B', 'Tablas de Verdad\\n(pandas.DataFrame)')\n",
    "dot.node('C', 'Aplicaciones Reales\\n(Ej: Decisiones de Compra)')\n",
    "dot.node('D', 'Historia: Boole & Shannon')\n",
    "dot.node('E', 'STEAMS\\n(Conexión Arte-Lógica)')\n",
    "\n",
    "# Edges\n",
    "dot.edges(['AB', 'AC', 'AD', 'AE'])\n",
    "dot.edge('B', 'C', label='Simulación con\\nipywidgets')\n",
    "dot.edge('D', 'A', label='Fundamentos\\nMatemáticos')\n",
    "\n",
    "# Guardar y renderizar (Ruta relativa o en el directorio actual)\n",
    "dot.render('C:/Users/marco/Downloads/Mapa_Logica', view=True)\n"
   ]
  },
  {
   "cell_type": "markdown",
   "id": "9346e60b",
   "metadata": {},
   "source": [
    "\n",
    "### Notas adicionales:\n",
    "- Si estás en un entorno restringido (como un servidor o un entorno virtual), asegúrate de que tienes permisos para escribir en el directorio actual.\n",
    "- Si usas `view=True`, asegúrate de que tienes un visor de imágenes configurado para abrir archivos `.png`.\n",
    "\n",
    "Con estos cambios, el código debería funcionar sin problemas de permisos."
   ]
  },
  {
   "cell_type": "markdown",
   "id": "5cf9e15b",
   "metadata": {},
   "source": [
    "\n",
    "---\n",
    "\n",
    "### **4. Contenido de la Clase**  \n",
    "#### **Analogías Cotidianas para Tablas de Verdad**  \n",
    "**Ejemplo con OR (∨):**  \n",
    "*\"La mamá de Juanito: '¡Saldrás si lavas trastes **o** barres!'. Juanito sabe que si hace al menos una, gana. Solo no sale si no hace ninguna (F ∨ F = F).\"*  \n",
    "\n",
    "**Código en Python:**  \n"
   ]
  },
  {
   "cell_type": "code",
   "execution_count": 5,
   "id": "9b2874f1",
   "metadata": {},
   "outputs": [
    {
     "name": "stdout",
     "output_type": "stream",
     "text": [
      "       p      q  p ∨ q\n",
      "0   True   True   True\n",
      "1   True  False   True\n",
      "2  False   True   True\n",
      "3  False  False  False\n"
     ]
    }
   ],
   "source": [
    "\n",
    "import pandas as pd\n",
    "\n",
    "# Tabla de verdad para OR\n",
    "p = [True, True, False, False]\n",
    "q = [True, False, True, False]\n",
    "or_result = [pi | qj for pi, qj in zip(p, q)]\n",
    "\n",
    "df = pd.DataFrame({'p': p, 'q': q, 'p ∨ q': or_result})\n",
    "print(df)\n",
    "\n"
   ]
  },
  {
   "cell_type": "markdown",
   "id": "b8261203",
   "metadata": {},
   "source": [
    "\n",
    "---\n",
    "\n",
    "### **5. Canción/Poema para Memorizar**  \n",
    "**\"Vallenato Lógico\"** (Ritmo de *La Gota Fría*):  \n",
    "```  \n",
    "En la lógica hay conexión,  \n",
    "OR es como el corazón:  \n",
    "Si uno es True, ¡acción!  \n",
    "Solo es False en la inacción.  \n",
    "\n",
    "El AND es más exigente,  \n",
    "Dos verdades son su puente.  \n",
    "IMPLICA es condicional,  \n",
    "Si p es True, q es vital.  \n",
    "```  \n"
   ]
  },
  {
   "cell_type": "markdown",
   "id": "342bd582",
   "metadata": {},
   "source": [
    "\n",
    "---\n",
    "\n",
    "### **6. Historia y Epistemología**  \n",
    "**\"El Tío Boole y el Mago Shannon\"** (Cuento Antioqueño):  \n",
    "*\"Erase una vez en Santa Fe de Antioquia, un tío llamado George Boole que inventó un lenguaje de \"verdadecitas\" (álgebra booleana). Años después, el mago Claude Shannon usó esas \"verdadecitas\" para crear el internet, ¡y así nació la era digital! ¡Ajá!\"*  \n",
    "*(Incluir imágenes estilo cómic de Boole con ruana y Shannon con sombrero aguadeño)*.  \n",
    "\n",
    "---\n",
    "\n",
    "### **7. Actividades de Aprendizaje**  \n",
    "**Actividad 1:** En Jupyter, crea una función `verdad(p, q, operador)` que devuelva la tabla de verdad usando `numpy.where`.  \n",
    "**Código Base:** "
   ]
  },
  {
   "cell_type": "markdown",
   "id": "10ae5b85",
   "metadata": {},
   "source": [
    " \n",
    "```python\n",
    "import numpy as np\n",
    "\n",
    "def verdad(p, q, operador):\n",
    "    return eval(f\"p {operador} q\")\n",
    "\n",
    "p = np.array([True, True, False, False])\n",
    "q = np.array([True, False, True, False])\n",
    "print(verdad(p, q, '|'))  # OR\n",
    "```\n"
   ]
  },
  {
   "cell_type": "markdown",
   "id": "8f353b6c",
   "metadata": {},
   "source": [
    "\n",
    "**Actividad 2:** Simula un partido de fútbol donde un gol se anota si (delantero_en_posición ∧ portería_abierta) usando `ipywidgets`.  \n",
    "\n",
    "---\n",
    "\n",
    "### **8. Tareas/Proyectos**  \n",
    "**Tarea 1:** Usa `plotly.express` para hacer un heatmap interactivo de tablas de verdad.  \n",
    "**Código:** "
   ]
  },
  {
   "cell_type": "markdown",
   "id": "e2491ace",
   "metadata": {},
   "source": [
    " \n",
    "```python\n",
    "import plotly.express as px\n",
    "\n",
    "fig = px.imshow(df, text_auto=True, title=\"Tabla de Verdad OR\")\n",
    "fig.show()\n",
    "```\n"
   ]
  },
  {
   "cell_type": "markdown",
   "id": "7da7bd83",
   "metadata": {},
   "source": [
    "\n",
    "---\n",
    "\n",
    "# **9. Evaluación**  \n",
    "**Quiz Ejemplo:**  \n",
    "```  \n",
    "Pregunta: Interpreta $(p \\land q) \\to r$ en contexto económico.  \n",
    "Ejemplo Respuesta: \"Si sube el dólar (p) y hay inflación (q), entonces aumentan los precios (r)\".  \n",
    "```\n"
   ]
  },
  {
   "cell_type": "markdown",
   "id": "01079b21",
   "metadata": {},
   "source": [
    "\n",
    "**Parcial:**  \n",
    "- **Parte Python:** Crea una animación con `FuncAnimation` que muestre cómo cambia la tabla de verdad al variar el operador.  \n",
    "- **Parte Teórica:** Demuestra con ejemplos deportivos por qué $(p \\to q) \\equiv (\\neg p \\lor q)$.  \n",
    "\n",
    "---\n",
    "\n",
    "### **10. Retroalimentación**  \n",
    "**Actividad:** Usando `ipywidgets`, diseña un quiz interactivo donde los estudiantes arrastren (drag-and-drop) conectores a su tabla de verdad correcta. Si fallan, muestra una explicación con `IPython.display`.  \n",
    "\n",
    "---\n",
    "\n",
    "### **11. Vocabulario en Inglés**  \n",
    "- **Truth Table:** *\"The truth table shows all possible combinations of inputs and outputs\"*  \n",
    "- **Logical Connective:** *\"AND is like a strict friend: both must agree!\"*  \n",
    "- **Phrases:**  \n",
    "  - *\"Could you explain the IMPLIES operator using a soccer example?\"*  \n",
    "  - *\"Let's code the XOR gate with numpy!\"*  \n",
    "\n",
    "---\n",
    "\n",
    "### **Notas Finales:**  \n",
    "- **STEAMS Integration:**  \n",
    "  - **Arte:** Diseña infografías de tablas de verdad con `seaborn`.  \n",
    "  - **Sociedad:** Debate cómo la lógica booleana afecta algoritmos de redes sociales.  \n",
    "- **ABPP:** Los proyectos deben incluir problemas del mercado de Caucasia (ej: lógica en precios agrícolas).  \n"
   ]
  },
  {
   "cell_type": "code",
   "execution_count": 7,
   "id": "9fcd7ae5",
   "metadata": {},
   "outputs": [
    {
     "ename": "NameError",
     "evalue": "name 'plt' is not defined",
     "output_type": "error",
     "traceback": [
      "\u001b[31m---------------------------------------------------------------------------\u001b[39m",
      "\u001b[31mNameError\u001b[39m                                 Traceback (most recent call last)",
      "\u001b[36mCell\u001b[39m\u001b[36m \u001b[39m\u001b[32mIn[7]\u001b[39m\u001b[32m, line 5\u001b[39m\n\u001b[32m      2\u001b[39m \u001b[38;5;28;01mfrom\u001b[39;00m\u001b[38;5;250m \u001b[39m\u001b[34;01mmatplotlib\u001b[39;00m\u001b[34;01m.\u001b[39;00m\u001b[34;01manimation\u001b[39;00m\u001b[38;5;250m \u001b[39m\u001b[38;5;28;01mimport\u001b[39;00m FuncAnimation\n\u001b[32m      3\u001b[39m \u001b[38;5;28;01mfrom\u001b[39;00m\u001b[38;5;250m \u001b[39m\u001b[34;01mIPython\u001b[39;00m\u001b[34;01m.\u001b[39;00m\u001b[34;01mdisplay\u001b[39;00m\u001b[38;5;250m \u001b[39m\u001b[38;5;28;01mimport\u001b[39;00m HTML\n\u001b[32m----> \u001b[39m\u001b[32m5\u001b[39m fig, ax = \u001b[43mplt\u001b[49m.subplots()\n\u001b[32m      6\u001b[39m ax.set_xlim(\u001b[32m0\u001b[39m, \u001b[32m3\u001b[39m)\n\u001b[32m      7\u001b[39m ax.set_ylim(\u001b[32m0\u001b[39m, \u001b[32m1\u001b[39m)\n",
      "\u001b[31mNameError\u001b[39m: name 'plt' is not defined"
     ]
    }
   ],
   "source": [
    "# Ejemplo de animación con matplotlib (requiere Jupyter)\n",
    "from matplotlib.animation import FuncAnimation\n",
    "from IPython.display import HTML\n",
    "\n",
    "fig, ax = plt.subplots()\n",
    "ax.set_xlim(0, 3)\n",
    "ax.set_ylim(0, 1)\n",
    "\n",
    "def animate(frame):\n",
    "    ax.clear()\n",
    "    ax.text(1, 0.5, f'Operador: {[\"AND\", \"OR\", \"XOR\"][frame%3]}', fontsize=20)\n",
    "    return ax\n",
    "\n",
    "ani = FuncAnimation(fig, animate, frames=3, interval=1000)\n",
    "HTML(ani.to_jshtml())\n"
   ]
  },
  {
   "cell_type": "markdown",
   "id": "239427f7",
   "metadata": {},
   "source": [
    "# ARTÍCULO 1. Definir el calendario académico para los diferentes programas de pregrado de los campus\n",
    "regionalizados, correspondiente al primer periodo académico del año 2025, así:\n",
    "* Oferta 28 de enero de 2025\n",
    "* Matrícula 30 de enero de 2025\n",
    "* Ajustes 03 al 10 de febrero de 2025\n",
    "* Inicio de clases 10 de febrero de 2025\n",
    "* Límite evaluación del 40% 06 de abril de 2025\n",
    "* Terminación de clases 08 de junio de 2025\n",
    "* Exámenes finales 09 al 15 de junio de 2025\n",
    "* Habilitación y validación 16 al 22 de junio de 2025\n",
    "* Terminación oficial 23 de junio de 2025"
   ]
  },
  {
   "cell_type": "code",
   "execution_count": null,
   "id": "cc539357",
   "metadata": {},
   "outputs": [],
   "source": []
  },
  {
   "cell_type": "markdown",
   "id": "740f3401",
   "metadata": {
    "slideshow": {
     "slide_type": "slide"
    }
   },
   "source": [
    "# Componente de manejo de calculadora Casio asociado al objetivo de aprendizaje de esta clase  \n",
    "\n",
    "## Pasos para lograr el objetivo de aprendizaje con la experimentación en la calculadora Casio 991LA cw  "
   ]
  },
  {
   "cell_type": "markdown",
   "id": "8ba64aed",
   "metadata": {},
   "source": [
    "# Cursos que orienta el profesor Marco Julio Cañas Campillo en 2025  \n",
    "\n",
    "1. Práctica Pedagógica V para Licenciatura en Educación Infantil\n",
    "2. Fundamentos de Lógica para Licenciatura en Matemáticas \n",
    "3. Análisis Numérico para Licenciatura en Matemáticas. \n",
    "4. Cálculo Vectorial para Ingeniería Agropecuaria"
   ]
  },
  {
   "cell_type": "markdown",
   "id": "8d41fe58",
   "metadata": {
    "slideshow": {
     "slide_type": "slide"
    }
   },
   "source": [
    "# Horario de clases del profesor Marco\n",
    "\n",
    "* Lunes 8-12: Cálculo Vectorial\n",
    "* Martes 8-12 M: Fundamentos de Aritmética. \n",
    "* Miércoles 8 a 12 M: Fundamentos de la Lógica\n",
    "* Jueves 2 a 6 PM: Desarrollo del pensamiento matemático en la infancia. \n",
    "* Viernes 8 - 12 M: Desarrollo del pensamiento matemático en la infancia. \n",
    "* Sábados 8-12 Asesorías y espacio para retroalimentación y apoyo al trabajo independiente. "
   ]
  },
  {
   "cell_type": "markdown",
   "id": "ae114e14",
   "metadata": {
    "slideshow": {
     "slide_type": "slide"
    }
   },
   "source": [
    "# Horarios de monitoría y asesoría  \n",
    "\n",
    "Coordinador de los cursos de la Facultad de Educación para regiones:    \n",
    "\n",
    "Andrés Vélez: regioneducacion.fedu@udea.edu.co  \n",
    "Coordinador Regiones  \n",
    "Facultad de Educación  \n",
    "Universidad de Antioquia  "
   ]
  },
  {
   "cell_type": "markdown",
   "id": "b1db4b6c",
   "metadata": {
    "slideshow": {
     "slide_type": "slide"
    }
   },
   "source": [
    "## Monitor Manuel San Juan Serrano\n",
    "\n",
    "Contactar escribiendo al correo: manuel.serrano1@udea.edu.co"
   ]
  },
  {
   "cell_type": "markdown",
   "id": "39559692",
   "metadata": {
    "slideshow": {
     "slide_type": "slide"
    }
   },
   "source": [
    "Martes y jueves de 8 - 12  \n",
    "Miércoles 10 - 12 y de 2 a 4 PM  \n",
    "Sábado: 8 - 12"
   ]
  },
  {
   "cell_type": "markdown",
   "id": "10bce0d0",
   "metadata": {
    "slideshow": {
     "slide_type": "slide"
    }
   },
   "source": [
    "## Referentes "
   ]
  },
  {
   "cell_type": "markdown",
   "id": "1db3c468",
   "metadata": {
    "slideshow": {
     "slide_type": "slide"
    }
   },
   "source": [
    "* [CALCULO I DE UNA VARIABLE Ron Larson-Bruce Edwards. Mc Graw Hill. 9º Edición](https://www.academia.edu/42139251/CALCULO_I_DE_UNA_VARIABLE_Ron_Larson_Bruce_Edwards_Mc_Graw_Hill_9o_Edici%C3%B3n)   \n",
    "  \n",
    "\n",
    "* [Grajales Vanegas, L. M., Restrepo Estrada, C. E., Restrepo Ochoa, S. I., & Ruíz De Villalba, F. (2015). Matemáticas I para las ciencias económicas.](https://bibliotecadigital.udea.edu.co/handle/10495/3010)\n",
    "  \n",
    "* R. Duval y Semiosis y pensamiento humano, 2.ª ed. Cali, Colombia: Programa Editorial Universidad del Valle, 2017. [En línea]. Disponible en: https://programaeditorial.univalle.edu.co/gpd-semiosis-y-pensamiento-humano-9789587655278-63324cdb0f6b3.html\n",
    "\n",
    "* [Aylwin, C. U. (2011). Lógica, conjuntos y números. Universidad de los Andes, Consejo de Publicaciones, Colección: Ciencias Básicas, Serie: Matemáticas.](chrome-extension://efaidnbmnnnibpcajpcglclefindmkaj/https://www.u-cursos.cl/ciencias/2011/1/MC110/1/material_docente/bajar?id_material=574722)\n",
    "  \n",
    "* [Chollet, F. (2021). Deep learning with Python. Simon and Schuster.](chrome-extension://efaidnbmnnnibpcajpcglclefindmkaj/https://tanthiamhuat.wordpress.com/wp-content/uploads/2018/03/deeplearningwithpython.pdf)  \n",
    "  \n",
    "* [Watson, S., Stewart, J., & Redlin, L. (2009). Precálculo. Matemáticas para el cálculo.](https://github.com/marco-canas/calculo/blob/main/referents/1_precalculo_stewart/stewart_precalculo.pdf)  \n",
    "\n",
    "* [Purcell, E. J., Varberg, D., & Rigdon, S. E. (2007). Cálculo diferencial e integral. Pearson Educación.](https://github.com/marco-canas/calculo/blob/main/referents/purcell/purcell_calculo.pdf)\n",
    "\n",
    "  \n",
    "\n",
    "* [stewart cálculo](https://udeaeduco-my.sharepoint.com/:b:/g/personal/marco_canas_udea_edu_co/EZgXZjAp8QxPqOAim2hs6LcBNPLGjSHf-xwYnUVYkwa04w?e=RZdTCy)  \n",
    "\n",
    "\n",
    "\n",
    "\n",
    "\n",
    "* [Recomendación de la UNESCO sobre ciencia abierta](https://unesdoc.unesco.org/ark:/48223/pf0000379949_spa)\n",
    "\n",
    "* [chatGPT](https://openai.com/blog/chatgpt)  \n",
    "\n",
    "* [Géron, A. (2017). Hands-on machine learning with scikit-learn and tensorflow: Concepts. Tools, and Techniques to build intelligent systems.](chrome-extension://efaidnbmnnnibpcajpcglclefindmkaj/http://14.139.161.31/OddSem-0822-1122/Hands-On_Machine_Learning_with_Scikit-Learn-Keras-and-TensorFlow-2nd-Edition-Aurelien-Geron.pdf)   \n"
   ]
  },
  {
   "cell_type": "markdown",
   "id": "df925560",
   "metadata": {},
   "source": [
    "\n",
    "* [McKinney, W. (2012). Python for data analysis: Data wrangling with Pandas, NumPy, and IPython. \" O'Reilly Media, Inc.\".](https://wesmckinney.com/book/) "
   ]
  },
  {
   "cell_type": "markdown",
   "id": "8e65d6f9",
   "metadata": {},
   "source": [
    "# Como estudiante, encuentro que...   \n",
    "\n",
    "F: Mis Fortalezas son:     \n",
    "O: Mis Oportunidades son:    \n",
    "D: Mis Debilidades son:    \n",
    "A: Lo que Amenazas mi aprendizaje es:  "
   ]
  },
  {
   "cell_type": "markdown",
   "id": "6b9e56a8",
   "metadata": {
    "slideshow": {
     "slide_type": "slide"
    }
   },
   "source": [
    "### [Evaluamos al profesor Marco Cañas Aquí](https://forms.office.com/Pages/ResponsePage.aspx?id=IefhmYRxjkmK_7KtTlPBwkanXIs1i1FEujpsZgO6dXpUREJPV1kxUk1JV1ozTFJIQVNIQjY5WEY3US4u)"
   ]
  },
  {
   "cell_type": "markdown",
   "id": "10f43536",
   "metadata": {
    "slideshow": {
     "slide_type": "slide"
    }
   },
   "source": [
    "### Continue su aprendizaje en la siguiente clase a través del siguiente [vínculo]()"
   ]
  },
  {
   "cell_type": "markdown",
   "id": "53cc9115",
   "metadata": {
    "slideshow": {
     "slide_type": "slide"
    }
   },
   "source": [
    "## Agradecimientos  \n",
    "\n",
    "Doy gracias a Dios por la vida de mi Hijo Joseph Cañas Osorio y la madurez que ha alcanzado. Este hijo me enorgullece y me hace falta abrazarlo cada día. \n",
    "\n",
    "Y a mi esposa Yasmira Emperatriz Barboza Mogollón por su apoyo, orientación y acompañamiento. "
   ]
  },
  {
   "cell_type": "markdown",
   "id": "b6ba1c23",
   "metadata": {},
   "source": [
    "# Apéndice sobre calendarios y coordinaciones \n",
    "\n",
    "A continuación le envío el horario de la asignatura Cálculo Vectorial  \n",
    "\n",
    "Días:  \n",
    "Lunes - Hora: 7:00 a 12:00M  \n",
    "Fechas:  \n",
    "Febrero: 10-17-24                                          \n",
    " Marzo: 3-10-17-31                                                  \n",
    "Abril:7-21-28                                                   \n",
    "Mayo:5-12-19  \n",
    "\n",
    "Agradezco su apoyo, y si presenta alguna dificultad puede contactarme.  \n",
    "\n",
    "Cordialmente,  \n",
    "Juan Felipe Rivera Hernández  \n",
    "Contacto: 3106314300  "
   ]
  },
  {
   "cell_type": "markdown",
   "id": "0e66cd7c",
   "metadata": {},
   "source": [
    "# Clase de análisis numérico los Martes de 8 a 12 del medio día. "
   ]
  },
  {
   "cell_type": "markdown",
   "id": "c5ff61b1",
   "metadata": {},
   "source": []
  }
 ],
 "metadata": {
  "celltoolbar": "Slideshow",
  "kernelspec": {
   "display_name": ".venv",
   "language": "python",
   "name": "python3"
  },
  "language_info": {
   "codemirror_mode": {
    "name": "ipython",
    "version": 3
   },
   "file_extension": ".py",
   "mimetype": "text/x-python",
   "name": "python",
   "nbconvert_exporter": "python",
   "pygments_lexer": "ipython3",
   "version": "3.11.9"
  },
  "rise": {
   "enable_chalkboard": true,
   "theme": "sky",
   "transition": "zoom"
  }
 },
 "nbformat": 4,
 "nbformat_minor": 5
}
