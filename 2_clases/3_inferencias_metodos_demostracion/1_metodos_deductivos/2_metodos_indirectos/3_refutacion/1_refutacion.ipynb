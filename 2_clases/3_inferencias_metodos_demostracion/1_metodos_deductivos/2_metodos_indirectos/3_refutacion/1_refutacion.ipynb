{
 "cells": [
  {
   "cell_type": "markdown",
   "id": "dc06dec7",
   "metadata": {
    "slideshow": {
     "slide_type": "slide"
    }
   },
   "source": [
    "<table align=\"left\">\n",
    "  <td>\n",
    "    <a href=\"https://colab.research.google.com/github/marco-canas/fundamentos_logica/blob/main/1_clases/3_inferencias_metodos_demostracion/1_metodos_deductivos/2_metodos_indirectos/3_refutacion/1_refutacion.ipynb\" target=\"_parent\"><img src=\"https://colab.research.google.com/assets/colab-badge.svg\" alt=\"Open In Colab\"/></a>\n",
    "  </td>\n",
    "  <td>\n",
    "    <a target=\"_blank\" href=\"https://kaggle.com/kernels/welcome?src=https://github.com/marco-canas/fundamentos_logica/blob/main/1_clases/3_inferencias_metodos_demostracion/1_metodos_deductivos/2_metodos_indirectos/3_refutacion/1_refutacion.ipynb\"><img src=\"https://kaggle.com/static/images/open-in-kaggle.svg\" /></a>\n",
    "  </td>\n",
    "</table>"
   ]
  },
  {
   "cell_type": "markdown",
   "id": "e0c5b198",
   "metadata": {
    "slideshow": {
     "slide_type": "slide"
    }
   },
   "source": [
    "### [Video de apoyo a la lectura interactiva y experimental de este cuaderno]()"
   ]
  },
  {
   "cell_type": "markdown",
   "id": "41e82203",
   "metadata": {
    "slideshow": {
     "slide_type": "slide"
    }
   },
   "source": [
    "### [Vínculo al programa del curso:  ]()\n",
    "\n"
   ]
  },
  {
   "cell_type": "markdown",
   "id": "d11ab06d",
   "metadata": {
    "slideshow": {
     "slide_type": "slide"
    }
   },
   "source": [
    "Un reconocimiento a mis estudiantes que han construido conmigo este saber pedagógico:\n",
    "\n",
    "<img src = 'https://github.com/marco-canas/fundamentos_logica/blob/main/images/fundamento_logica_2024_octubre_cafeteria.jpeg?raw=true'> \n",
    "\n"
   ]
  },
  {
   "cell_type": "code",
   "execution_count": null,
   "id": "7604880f",
   "metadata": {
    "slideshow": {
     "slide_type": "slide"
    }
   },
   "outputs": [
    {
     "name": "stdout",
     "output_type": "stream",
     "text": [
      "Llamando a ROSILLO TEJADA VANESA...\n",
      "Cambios guardados en el archivo CSV.\n",
      "Llamando a QUINONEZ CERVANTES MARIANA...\n"
     ]
    }
   ],
   "source": [
    "import pandas as pd\n",
    "import numpy as np\n",
    "\n",
    "# Cargar la lista de estudiantes desde el archivo CSV\n",
    "path = 'C:/Users/marco/Documentos/docencia/groups_list/fundamentos_aritmetica.csv'\n",
    "estudiantes = pd.read_csv(path)\n",
    "estudiantes['Parcial'] = estudiantes['Parcial'].astype(float)  # Asegurar que la columna 'Parcial' es float\n",
    "\n",
    "# Convertir la columna 'Nombre' a una lista de Python\n",
    "lista_estudiantes = estudiantes['Nombre'].tolist()\n",
    "\n",
    "# Función para llamar a un estudiante aleatoriamente y registrar su nota de seguimiento\n",
    "def asistencia():\n",
    "    global lista_estudiantes\n",
    "    if lista_estudiantes:\n",
    "        estudiante_aleatorio = np.random.choice(lista_estudiantes)\n",
    "        print(f\"Llamando a {estudiante_aleatorio}...\")\n",
    "        asistencia = input(f\"¿Asistió {estudiante_aleatorio}? (s/n): \").strip().lower()\n",
    "        \n",
    "        # Validación de entrada\n",
    "        if asistencia == 's':\n",
    "            # Obtener el índice del estudiante en el DataFrame\n",
    "            indice = estudiantes[estudiantes['Nombre'] == estudiante_aleatorio].index[0]\n",
    "            # Incrementar su valor en la columna 'Parcial'\n",
    "            estudiantes.at[indice, 'Parcial'] += 0.3\n",
    "            print(f\"Actualizado: {estudiante_aleatorio} ahora tiene {estudiantes.at[indice, 'Parcial']} en la columna 'Parcial'.\")\n",
    "        \n",
    "        elif asistencia != 'n':\n",
    "            print(\"Entrada inválida. Por favor, introduce 's' para sí o 'n' para no.\")\n",
    "            return  # Volver a preguntar para el mismo estudiante si la entrada es inválida\n",
    "        \n",
    "        # Remover al estudiante de la lista para no llamarlo de nuevo\n",
    "        lista_estudiantes.remove(estudiante_aleatorio)\n",
    "    else:\n",
    "        print(\"Se han llamado a todos los estudiantes del grupo completo.\")\n",
    "\n",
    "# Función para guardar cambios al final de la sesión\n",
    "def guardar_cambios():\n",
    "    estudiantes.to_csv(path, index=False)\n",
    "    print(\"Cambios guardados en el archivo CSV.\")\n",
    "\n",
    "# Ejemplo de uso\n",
    "while lista_estudiantes:\n",
    "    asistencia()\n",
    "\n",
    "# Guardar los cambios una vez que todos los estudiantes hayan sido llamados\n",
    "guardar_cambios()\n",
    "\n"
   ]
  },
  {
   "cell_type": "markdown",
   "id": "d7598d0a-d9b7-4ae0-b029-a0ed6ed1130b",
   "metadata": {},
   "source": [
    "\n",
    "# Principios de mi labor docente"
   ]
  },
  {
   "cell_type": "markdown",
   "id": "4f9d8cf9",
   "metadata": {
    "slideshow": {
     "slide_type": "slide"
    }
   },
   "source": [
    "## Modelo general de clase: [aula invertida](https://www3.gobiernodecanarias.org/medusa/ecoescuela/pedagotic/aprendizaje-invertido-flipped-classroom/)"
   ]
  },
  {
   "cell_type": "markdown",
   "id": "eb6ed03a",
   "metadata": {},
   "source": [
    "<img src = 'https://resources.maneuveringthemiddle.com/wp-content/uploads/2020/07/04212706/1-5.png' width = 400>  \n",
    "\n"
   ]
  },
  {
   "cell_type": "markdown",
   "id": "34319cce-a71b-4f64-aab8-b53e521efa40",
   "metadata": {},
   "source": [
    "# Metodología de enseñanza basada en problemas (ABP)\n"
   ]
  },
  {
   "cell_type": "markdown",
   "id": "c4f73d81",
   "metadata": {},
   "source": [
    "\n",
    "<img src = 'https://www.unir.net/wp-content/uploads/2020/07/aprendizaje-problemas2-1-1-1-1.jpeg' width = 300>"
   ]
  },
  {
   "cell_type": "markdown",
   "id": "841a985c-bd9b-4dd3-8e4c-893983980af2",
   "metadata": {},
   "source": [
    "# Desarrollo del pensamiento computacional con python y cuadernos Jupyter  orientado a la formación en ciencia de datos \n",
    "\n"
   ]
  },
  {
   "cell_type": "markdown",
   "id": "3d0eba94",
   "metadata": {},
   "source": [
    "\n",
    "<img src = 'https://i.ytimg.com/vi/mcG_wcR4e6M/maxresdefault.jpg' width = 400>"
   ]
  },
  {
   "cell_type": "markdown",
   "id": "65aa0404-f7ae-495e-864c-1aec01b4255e",
   "metadata": {},
   "source": [
    "# Principio de fomento a la ciencia abierta, enseñar en el acceso a los datos públicos y el uso de software de código abierto  \n"
   ]
  },
  {
   "cell_type": "markdown",
   "id": "18ae9b87",
   "metadata": {},
   "source": [
    "\n",
    "<img src = 'https://unesdoc.unesco.org/in/rest/Thumb/image?id=p%3A%3Ausmarcdef_0000379949_spa&author=UNESCO&title=Recomendaci%C3%B3n+de+la+UNESCO+sobre+la+Ciencia+Abierta&year=2021&publisher=UNESCO&TypeOfDocument=UnescoPhysicalDocument&mat=PGD&ct=true&size=512&isPhysical=1' width = 200>"
   ]
  },
  {
   "cell_type": "markdown",
   "id": "d9559f85",
   "metadata": {},
   "source": [
    "El enfoque STEAMS en educación preescolar, primaria y secundaria es una extensión del enfoque STEM (Ciencia, Tecnología, Ingeniería y Matemáticas) y su variante STEAM, que incorpora el Arte. "
   ]
  },
  {
   "cell_type": "markdown",
   "id": "72e1cfd2",
   "metadata": {},
   "source": [
    "El acrónimo STEAMS incluye:\n"
   ]
  },
  {
   "cell_type": "markdown",
   "id": "03182fd1",
   "metadata": {},
   "source": [
    "\n",
    "1. **Science (Ciencia):** Fomenta la curiosidad por el mundo natural y el desarrollo de habilidades científicas, como la observación, experimentación y análisis.\n"
   ]
  },
  {
   "cell_type": "markdown",
   "id": "1306d0fa",
   "metadata": {},
   "source": [
    "\n",
    "2. **Technology (Tecnología):** Integra herramientas tecnológicas para potenciar el aprendizaje y la resolución de problemas, promoviendo la alfabetización digital desde edades tempranas.\n"
   ]
  },
  {
   "cell_type": "markdown",
   "id": "3b1a53e8",
   "metadata": {},
   "source": [
    "\n",
    "3. **Engineering (Ingeniería):** Introduce el pensamiento lógico y la resolución de problemas estructurados, fomentando habilidades como el diseño y la construcción de soluciones.\n"
   ]
  },
  {
   "cell_type": "markdown",
   "id": "0196de87",
   "metadata": {},
   "source": [
    "\n",
    "4. **Arts (Arte):** Añade creatividad y pensamiento crítico, permitiendo a los estudiantes expresarse y explorar el aprendizaje a través de formas artísticas (plásticas, música, teatro).\n"
   ]
  },
  {
   "cell_type": "markdown",
   "id": "8bcc485a",
   "metadata": {},
   "source": [
    "\n",
    "5. **Mathematics (Matemáticas):** Refuerza las habilidades numéricas y el razonamiento lógico, fundamentales en la resolución de problemas y comprensión de conceptos abstractos.\n"
   ]
  },
  {
   "cell_type": "markdown",
   "id": "907935f4",
   "metadata": {},
   "source": [
    "\n",
    "6. **Social Sciences (Ciencias Sociales):** Incorpora la comprensión del entorno social, político, cultural y económico, promoviendo el desarrollo de la conciencia crítica sobre el mundo y su historia, además de habilidades de empatía y ciudadanía.\n"
   ]
  },
  {
   "cell_type": "markdown",
   "id": "39967d63",
   "metadata": {},
   "source": [
    "\n",
    "El enfoque STEAMS pretende desarrollar un aprendizaje **interdisciplinario** que integre estas áreas para fomentar un pensamiento más holístico y práctico. "
   ]
  },
  {
   "cell_type": "markdown",
   "id": "5145f077",
   "metadata": {},
   "source": [
    "Se busca que los estudiantes no solo aprendan conocimientos técnicos, sino también cómo aplicarlos creativa y críticamente en situaciones reales, promoviendo habilidades como el trabajo en equipo, la comunicación y la innovación. "
   ]
  },
  {
   "cell_type": "markdown",
   "id": "9d556584",
   "metadata": {},
   "source": [
    "En educación preescolar, primaria, secundaria y superior, se adapta a las diferentes etapas de desarrollo cognitivo y emocional de los estudiantes, promoviendo el aprendizaje activo y contextualizado.  \n"
   ]
  },
  {
   "cell_type": "markdown",
   "id": "0130ec1b",
   "metadata": {},
   "source": [
    "\n",
    "<img src = 'https://www.campuseducacion.com/blog/wp-content/uploads/2023/03/foto01-1.jpg' width = 400>"
   ]
  },
  {
   "cell_type": "markdown",
   "id": "9d15c10d-2c02-4158-9419-b1ed79b4c1ee",
   "metadata": {},
   "source": [
    "# Qué estamos haciendo por la internalización en esta clase y este curso  \n"
   ]
  },
  {
   "cell_type": "markdown",
   "id": "6e4feef2",
   "metadata": {},
   "source": [
    "\n",
    "Para presentar tus acciones como docente de matemáticas en la Universidad de Antioquia con miras a la **internacionalización** de tu práctica docente y el desarrollo de competencias internacionales en tus estudiantes, te sugiero estructurar tu enfoque en los siguientes aspectos clave:"
   ]
  },
  {
   "cell_type": "markdown",
   "id": "964d9de7-53ee-4255-9bcd-d8e6454f2993",
   "metadata": {},
   "source": [
    "### 1. **Visión Global en la Formación Académica**\n"
   ]
  },
  {
   "cell_type": "markdown",
   "id": "d9bdd3e2",
   "metadata": {},
   "source": [
    "   - **Competencias Internacionales**: Asegúrate de que el contenido de tus cursos fomente habilidades que sean reconocidas globalmente. Al educar a los estudiantes en **Python, LaTeX, Markdown y Jupyter Notebooks** y en la **introducción a la ciencia de datos y técnicas de Machine Learning**, estás proporcionando competencias altamente demandadas en los sectores tecnológicos y académicos a nivel internacional.\n"
   ]
  },
  {
   "cell_type": "markdown",
   "id": "39b55206",
   "metadata": {},
   "source": [
    "   - **Relevancia de los Contenidos**: Destaca cómo los temas que enseñas, como el **desarrollo del pensamiento computacional** y la **ciencia de datos**, están alineados con las necesidades globales actuales en diversas industrias, desde la tecnología hasta las ciencias naturales y sociales.\n"
   ]
  },
  {
   "cell_type": "markdown",
   "id": "a054599e",
   "metadata": {},
   "source": [
    "   - **Referencias a Estándares Internacionales**: Puedes vincular tu enseñanza a estándares internacionales de competencias en programación y ciencia de datos (por ejemplo, frameworks del **IEEE, ACM**, y estándares de la **data science** o la **computación en la nube**)."
   ]
  },
  {
   "cell_type": "markdown",
   "id": "0f1d110c-3142-48fe-9e7d-5fbd9e8bb931",
   "metadata": {},
   "source": [
    "### 2. **Innovación Pedagógica con Enfoque Internacional**\n"
   ]
  },
  {
   "cell_type": "markdown",
   "id": "fae6ae34",
   "metadata": {},
   "source": [
    "   - **Aula Invertida y ABP**: Presenta cómo tu enfoque de **aula invertida** y **aprendizaje basado en problemas (ABP)** permite a los estudiantes trabajar de manera autónoma y colaborativa, lo que los prepara para escenarios laborales internacionales que requieren autoaprendizaje y habilidades de resolución de problemas en equipo.\n"
   ]
  },
  {
   "cell_type": "markdown",
   "id": "c83062d9",
   "metadata": {},
   "source": [
    "   - **Uso de Jupyter Notebooks**: El uso de **Jupyter Notebooks** en tus clases no solo facilita la **integración de código, matemáticas y texto**, sino que también es una plataforma utilizada globalmente en ambientes académicos y profesionales, lo que hace a tus estudiantes más competitivos internacionalmente."
   ]
  },
  {
   "cell_type": "markdown",
   "id": "960d52b7-03cd-4eb3-965e-5cdfeb7d9f8e",
   "metadata": {},
   "source": [
    "### 3. **Tecnología y Herramientas de Uso Global**\n"
   ]
  },
  {
   "cell_type": "markdown",
   "id": "4be7269f",
   "metadata": {},
   "source": [
    "   - **Lenguaje Python**: Python es uno de los lenguajes de programación más usados a nivel mundial, tanto en la academia como en la industria. Al formar a tus estudiantes en Python para ciencia de datos y machine learning, los preparas para operar en entornos tecnológicos globales.\n"
   ]
  },
  {
   "cell_type": "markdown",
   "id": "102655af",
   "metadata": {},
   "source": [
    "   - **Herramientas de Ciencia Abierta**: Resalta cómo herramientas como **GitHub**, **Google Colab** y otras plataformas de código abierto están alineadas con el movimiento de **ciencia abierta**, el cual es internacionalmente reconocido y permite que los estudiantes colaboren y compartan proyectos a nivel global."
   ]
  },
  {
   "cell_type": "markdown",
   "id": "3b2ffa32-7a6f-4545-ba7b-c6a69f51109f",
   "metadata": {},
   "source": [
    "### 4. **Investigación y Publicaciones Internacionales**\n"
   ]
  },
  {
   "cell_type": "markdown",
   "id": "bdbf52a5",
   "metadata": {},
   "source": [
    "   - **Promoción de la Investigación**: Detalla cómo promueves que tus estudiantes participen en proyectos de **investigación aplicada**, con posibilidad de publicación en revistas internacionales. Esto contribuye a la reputación internacional de la Universidad de Antioquia.\n"
   ]
  },
  {
   "cell_type": "markdown",
   "id": "ea01fcbc",
   "metadata": {},
   "source": [
    "   - **Colaboraciones Internacionales**: Si has colaborado con investigadores de otras instituciones o universidades en el extranjero, menciona estos proyectos y cómo han enriquecido tu enseñanza y proporcionado a los estudiantes una visión más globalizada."
   ]
  },
  {
   "cell_type": "markdown",
   "id": "5d1e396e-aece-4bf7-9421-32fa7809eaf4",
   "metadata": {},
   "source": [
    "### 5. **Uso del Inglés para la Internacionalización**\n",
    "   - **Comunicación Científica en Inglés**: Fomentar el aprendizaje del inglés como lengua científica es clave para que tus estudiantes puedan acceder a publicaciones internacionales, conferencias, y material académico que no está disponible en español. Esto es esencial para que adquieran competencias que les permitan desempeñarse en cualquier contexto internacional.\n",
    "   - **Material Bilingüe**: Al generar material educativo en Python, LaTeX y Markdown, considera ofrecer algunos de estos recursos en inglés, para que los estudiantes se familiaricen con el vocabulario técnico y científico internacional."
   ]
  },
  {
   "cell_type": "markdown",
   "id": "c6a8c3b0-426a-4692-a384-3065aea81c9a",
   "metadata": {},
   "source": [
    "### 6. **Certificaciones y Estándares Internacionales**\n"
   ]
  },
  {
   "cell_type": "markdown",
   "id": "b1f41da5",
   "metadata": {},
   "source": [
    "   - **Participación en Certificaciones Internacionales**: Impulsa que los estudiantes busquen certificaciones internacionales en Python o ciencia de datos (como las ofrecidas por **Coursera, edX,** o **Google**). Estas certificaciones no solo validan sus competencias, sino que también incrementan el reconocimiento de la Universidad de Antioquia en el contexto internacional.\n",
    "   - **Alineación con Acreditaciones Internacionales**: Vincula tu trabajo docente con los estándares de acreditación y certificación que garantizan que la universidad siga siendo reconocida internacionalmente. Puedes vincularte con organizaciones internacionales que promuevan la excelencia en la educación y tecnología, como **ABET** para la acreditación en ingeniería y ciencias computacionales."
   ]
  },
  {
   "cell_type": "markdown",
   "id": "65d3d9e1-ea84-43e0-8197-a2a9c9e21594",
   "metadata": {},
   "source": [
    "### 7. **Proyectos Abiertos y Ciencia Reproducible**\n"
   ]
  },
  {
   "cell_type": "markdown",
   "id": "8fd56d22",
   "metadata": {},
   "source": [
    "   - **GitHub y Open Science**: La utilización de **GitHub** para almacenar los proyectos y materiales de enseñanza en repositorios públicos permite que otros investigadores y educadores internacionales puedan revisar y replicar tu trabajo. Esto contribuye a la creación de una red de colaboración científica abierta.\n",
    "   - **Transparencia y Reproducibilidad**: La ciencia de datos y machine learning están profundamente ligados a la reproducibilidad. Asegura que tus estudiantes desarrollen prácticas de transparencia y documentación en la investigación, que son pilares en la comunidad científica global.\n"
   ]
  },
  {
   "cell_type": "markdown",
   "id": "215cb551",
   "metadata": {},
   "source": [
    "\n",
    "### 8. **Participación en Redes y Conferencias Internacionales**\n",
    "   - **Presentación en Conferencias Internacionales**: Destaca cómo tu participación en conferencias internacionales (como la **ASCOLFA** o eventos sobre educación en matemáticas) contribuye al prestigio de la universidad y permite que tus prácticas sean evaluadas y reconocidas a nivel global.\n"
   ]
  },
  {
   "cell_type": "markdown",
   "id": "cdf46e29",
   "metadata": {},
   "source": [
    "   - **Promoción de Estudiantes en Eventos Internacionales**: Impulsa la participación de tus estudiantes en competiciones internacionales de programación o hackathons, como los organizados por **Google**, **ACM** o **Kaggle**. Esto no solo desarrolla sus habilidades, sino que también visibiliza el talento de la Universidad de Antioquia a nivel global.\n",
    "\n",
    "---"
   ]
  },
  {
   "cell_type": "markdown",
   "id": "233294a4-1983-4641-a7ad-866825e02315",
   "metadata": {},
   "source": [
    "Con esta estrategia, presento mis acciones docentes en términos de competencias internacionales, innovación pedagógica, tecnología, investigación y participación en redes globales, asegurando que mi práctica esté alineada con los estándares internacionales y que tus estudiantes estén preparados para competir en contextos internacionales."
   ]
  },
  {
   "cell_type": "markdown",
   "id": "8d97dc80",
   "metadata": {
    "slideshow": {
     "slide_type": "slide"
    }
   },
   "source": [
    "## Fomento de la lectura literaria asociada a Ingeniería agropecuaria y licenciatura en Matemáticas\n",
    "\n",
    "[Aprender a obtener el sí sin ceder]()"
   ]
  },
  {
   "cell_type": "markdown",
   "id": "96775931",
   "metadata": {
    "slideshow": {
     "slide_type": "slide"
    }
   },
   "source": [
    "## Título de la clase: El método de desmotración por refutación con contraejemplos \n",
    "\n",
    "[Obtenga el libro de libra grajales aquí](https://bibliotecadigital.udea.edu.co/handle/10495/3010?mode=full)"
   ]
  },
  {
   "cell_type": "markdown",
   "id": "1d38dd4e",
   "metadata": {
    "slideshow": {
     "slide_type": "slide"
    }
   },
   "source": [
    "### Objetivo de aprendizaje \n",
    "\n",
    "1. Qué el futuro maestro de matemáticas adquiera la capacidad para mostrar que las afirmaciones matemáticas son afirmaciones validas en contextos dados y a siempre dejar explícito el contexto de la afirmación que enseña. \n",
    "2. Que aprendamos a mostrar la validez de una afirmación en contextos particulares usando, razonamiento numérico, algebraico, tabular o geométrico. \n",
    "3. Que aprendamos a escribir claramente un argumento de refutación por contraejemplos. \n"
   ]
  },
  {
   "cell_type": "markdown",
   "id": "540f0ec1",
   "metadata": {
    "slideshow": {
     "slide_type": "slide"
    }
   },
   "source": [
    "## Cuestionario para realizar labores de memorización, observación y síntesis de la información (Además de diagnóstico)  \n",
    "\n",
    "1. ¿Qué?\n",
    "2. ¿Cómo?\n",
    "3. ¿Dónde?\n",
    "4. ¿Cuándo?\n",
    "5. ¿Por qué? "
   ]
  },
  {
   "cell_type": "markdown",
   "id": "8e457ea2",
   "metadata": {},
   "source": [
    "# Definiciones y Resultados científicos a comprender y memorizar \n",
    "\n",
    "[Primera grabación en Vocaroo]()"
   ]
  },
  {
   "cell_type": "markdown",
   "id": "2298e976",
   "metadata": {
    "slideshow": {
     "slide_type": "slide"
    }
   },
   "source": [
    "# Para el diseño de la clase tenga en cuenta algunos problemas de aprendizaje"
   ]
  },
  {
   "cell_type": "markdown",
   "id": "523d3acf",
   "metadata": {
    "slideshow": {
     "slide_type": "slide"
    }
   },
   "source": [
    "1. La dificultad para idear o encontrar contraejemplos \n",
    "\n",
    "Para esta dificultad presento a Pandas y a matplotlib, como recursos para realizar exploraciones en busca de contraejemplos  \n",
    "\n",
    "Aquí tienes ejemplos concretos que muestran cómo **pandas** y **matplotlib** pueden ayudar a buscar contraejemplos a afirmaciones que se deben refutar. Los ejemplos están diseñados para trabajar con afirmaciones matemáticas usando tablas y gráficos como herramientas de análisis.\n",
    "\n",
    "---\n",
    "\n",
    "### **Ejemplo 1: Refutar la afirmación $\\forall x \\in \\mathbb{R}, \\; x^2 \\geq 2x$**\n"
   ]
  },
  {
   "cell_type": "markdown",
   "id": "2d108579",
   "metadata": {},
   "source": [
    "\n",
    "#### Código en Python\n"
   ]
  },
  {
   "cell_type": "code",
   "execution_count": 1,
   "id": "e13f7bff",
   "metadata": {},
   "outputs": [
    {
     "name": "stdout",
     "output_type": "stream",
     "text": [
      "Contraejemplos encontrados:\n"
     ]
    },
    {
     "data": {
      "text/html": [
       "<div>\n",
       "<style scoped>\n",
       "    .dataframe tbody tr th:only-of-type {\n",
       "        vertical-align: middle;\n",
       "    }\n",
       "\n",
       "    .dataframe tbody tr th {\n",
       "        vertical-align: top;\n",
       "    }\n",
       "\n",
       "    .dataframe thead th {\n",
       "        text-align: right;\n",
       "    }\n",
       "</style>\n",
       "<table border=\"1\" class=\"dataframe\">\n",
       "  <thead>\n",
       "    <tr style=\"text-align: right;\">\n",
       "      <th></th>\n",
       "      <th>x</th>\n",
       "      <th>x^2</th>\n",
       "      <th>2x</th>\n",
       "      <th>x^2 - 2x</th>\n",
       "    </tr>\n",
       "  </thead>\n",
       "  <tbody>\n",
       "    <tr>\n",
       "      <th>50</th>\n",
       "      <td>0.030303</td>\n",
       "      <td>0.000918</td>\n",
       "      <td>0.060606</td>\n",
       "      <td>-0.059688</td>\n",
       "    </tr>\n",
       "    <tr>\n",
       "      <th>51</th>\n",
       "      <td>0.090909</td>\n",
       "      <td>0.008264</td>\n",
       "      <td>0.181818</td>\n",
       "      <td>-0.173554</td>\n",
       "    </tr>\n",
       "    <tr>\n",
       "      <th>52</th>\n",
       "      <td>0.151515</td>\n",
       "      <td>0.022957</td>\n",
       "      <td>0.303030</td>\n",
       "      <td>-0.280073</td>\n",
       "    </tr>\n",
       "    <tr>\n",
       "      <th>53</th>\n",
       "      <td>0.212121</td>\n",
       "      <td>0.044995</td>\n",
       "      <td>0.424242</td>\n",
       "      <td>-0.379247</td>\n",
       "    </tr>\n",
       "    <tr>\n",
       "      <th>54</th>\n",
       "      <td>0.272727</td>\n",
       "      <td>0.074380</td>\n",
       "      <td>0.545455</td>\n",
       "      <td>-0.471074</td>\n",
       "    </tr>\n",
       "    <tr>\n",
       "      <th>55</th>\n",
       "      <td>0.333333</td>\n",
       "      <td>0.111111</td>\n",
       "      <td>0.666667</td>\n",
       "      <td>-0.555556</td>\n",
       "    </tr>\n",
       "    <tr>\n",
       "      <th>56</th>\n",
       "      <td>0.393939</td>\n",
       "      <td>0.155188</td>\n",
       "      <td>0.787879</td>\n",
       "      <td>-0.632691</td>\n",
       "    </tr>\n",
       "    <tr>\n",
       "      <th>57</th>\n",
       "      <td>0.454545</td>\n",
       "      <td>0.206612</td>\n",
       "      <td>0.909091</td>\n",
       "      <td>-0.702479</td>\n",
       "    </tr>\n",
       "    <tr>\n",
       "      <th>58</th>\n",
       "      <td>0.515152</td>\n",
       "      <td>0.265381</td>\n",
       "      <td>1.030303</td>\n",
       "      <td>-0.764922</td>\n",
       "    </tr>\n",
       "    <tr>\n",
       "      <th>59</th>\n",
       "      <td>0.575758</td>\n",
       "      <td>0.331497</td>\n",
       "      <td>1.151515</td>\n",
       "      <td>-0.820018</td>\n",
       "    </tr>\n",
       "    <tr>\n",
       "      <th>60</th>\n",
       "      <td>0.636364</td>\n",
       "      <td>0.404959</td>\n",
       "      <td>1.272727</td>\n",
       "      <td>-0.867769</td>\n",
       "    </tr>\n",
       "    <tr>\n",
       "      <th>61</th>\n",
       "      <td>0.696970</td>\n",
       "      <td>0.485767</td>\n",
       "      <td>1.393939</td>\n",
       "      <td>-0.908173</td>\n",
       "    </tr>\n",
       "    <tr>\n",
       "      <th>62</th>\n",
       "      <td>0.757576</td>\n",
       "      <td>0.573921</td>\n",
       "      <td>1.515152</td>\n",
       "      <td>-0.941230</td>\n",
       "    </tr>\n",
       "    <tr>\n",
       "      <th>63</th>\n",
       "      <td>0.818182</td>\n",
       "      <td>0.669421</td>\n",
       "      <td>1.636364</td>\n",
       "      <td>-0.966942</td>\n",
       "    </tr>\n",
       "    <tr>\n",
       "      <th>64</th>\n",
       "      <td>0.878788</td>\n",
       "      <td>0.772268</td>\n",
       "      <td>1.757576</td>\n",
       "      <td>-0.985308</td>\n",
       "    </tr>\n",
       "    <tr>\n",
       "      <th>65</th>\n",
       "      <td>0.939394</td>\n",
       "      <td>0.882461</td>\n",
       "      <td>1.878788</td>\n",
       "      <td>-0.996327</td>\n",
       "    </tr>\n",
       "    <tr>\n",
       "      <th>66</th>\n",
       "      <td>1.000000</td>\n",
       "      <td>1.000000</td>\n",
       "      <td>2.000000</td>\n",
       "      <td>-1.000000</td>\n",
       "    </tr>\n",
       "    <tr>\n",
       "      <th>67</th>\n",
       "      <td>1.060606</td>\n",
       "      <td>1.124885</td>\n",
       "      <td>2.121212</td>\n",
       "      <td>-0.996327</td>\n",
       "    </tr>\n",
       "    <tr>\n",
       "      <th>68</th>\n",
       "      <td>1.121212</td>\n",
       "      <td>1.257117</td>\n",
       "      <td>2.242424</td>\n",
       "      <td>-0.985308</td>\n",
       "    </tr>\n",
       "    <tr>\n",
       "      <th>69</th>\n",
       "      <td>1.181818</td>\n",
       "      <td>1.396694</td>\n",
       "      <td>2.363636</td>\n",
       "      <td>-0.966942</td>\n",
       "    </tr>\n",
       "    <tr>\n",
       "      <th>70</th>\n",
       "      <td>1.242424</td>\n",
       "      <td>1.543618</td>\n",
       "      <td>2.484848</td>\n",
       "      <td>-0.941230</td>\n",
       "    </tr>\n",
       "    <tr>\n",
       "      <th>71</th>\n",
       "      <td>1.303030</td>\n",
       "      <td>1.697888</td>\n",
       "      <td>2.606061</td>\n",
       "      <td>-0.908173</td>\n",
       "    </tr>\n",
       "    <tr>\n",
       "      <th>72</th>\n",
       "      <td>1.363636</td>\n",
       "      <td>1.859504</td>\n",
       "      <td>2.727273</td>\n",
       "      <td>-0.867769</td>\n",
       "    </tr>\n",
       "    <tr>\n",
       "      <th>73</th>\n",
       "      <td>1.424242</td>\n",
       "      <td>2.028466</td>\n",
       "      <td>2.848485</td>\n",
       "      <td>-0.820018</td>\n",
       "    </tr>\n",
       "    <tr>\n",
       "      <th>74</th>\n",
       "      <td>1.484848</td>\n",
       "      <td>2.204775</td>\n",
       "      <td>2.969697</td>\n",
       "      <td>-0.764922</td>\n",
       "    </tr>\n",
       "    <tr>\n",
       "      <th>75</th>\n",
       "      <td>1.545455</td>\n",
       "      <td>2.388430</td>\n",
       "      <td>3.090909</td>\n",
       "      <td>-0.702479</td>\n",
       "    </tr>\n",
       "    <tr>\n",
       "      <th>76</th>\n",
       "      <td>1.606061</td>\n",
       "      <td>2.579431</td>\n",
       "      <td>3.212121</td>\n",
       "      <td>-0.632691</td>\n",
       "    </tr>\n",
       "    <tr>\n",
       "      <th>77</th>\n",
       "      <td>1.666667</td>\n",
       "      <td>2.777778</td>\n",
       "      <td>3.333333</td>\n",
       "      <td>-0.555556</td>\n",
       "    </tr>\n",
       "    <tr>\n",
       "      <th>78</th>\n",
       "      <td>1.727273</td>\n",
       "      <td>2.983471</td>\n",
       "      <td>3.454545</td>\n",
       "      <td>-0.471074</td>\n",
       "    </tr>\n",
       "    <tr>\n",
       "      <th>79</th>\n",
       "      <td>1.787879</td>\n",
       "      <td>3.196511</td>\n",
       "      <td>3.575758</td>\n",
       "      <td>-0.379247</td>\n",
       "    </tr>\n",
       "    <tr>\n",
       "      <th>80</th>\n",
       "      <td>1.848485</td>\n",
       "      <td>3.416896</td>\n",
       "      <td>3.696970</td>\n",
       "      <td>-0.280073</td>\n",
       "    </tr>\n",
       "    <tr>\n",
       "      <th>81</th>\n",
       "      <td>1.909091</td>\n",
       "      <td>3.644628</td>\n",
       "      <td>3.818182</td>\n",
       "      <td>-0.173554</td>\n",
       "    </tr>\n",
       "    <tr>\n",
       "      <th>82</th>\n",
       "      <td>1.969697</td>\n",
       "      <td>3.879706</td>\n",
       "      <td>3.939394</td>\n",
       "      <td>-0.059688</td>\n",
       "    </tr>\n",
       "  </tbody>\n",
       "</table>\n",
       "</div>"
      ],
      "text/plain": [
       "           x       x^2        2x  x^2 - 2x\n",
       "50  0.030303  0.000918  0.060606 -0.059688\n",
       "51  0.090909  0.008264  0.181818 -0.173554\n",
       "52  0.151515  0.022957  0.303030 -0.280073\n",
       "53  0.212121  0.044995  0.424242 -0.379247\n",
       "54  0.272727  0.074380  0.545455 -0.471074\n",
       "55  0.333333  0.111111  0.666667 -0.555556\n",
       "56  0.393939  0.155188  0.787879 -0.632691\n",
       "57  0.454545  0.206612  0.909091 -0.702479\n",
       "58  0.515152  0.265381  1.030303 -0.764922\n",
       "59  0.575758  0.331497  1.151515 -0.820018\n",
       "60  0.636364  0.404959  1.272727 -0.867769\n",
       "61  0.696970  0.485767  1.393939 -0.908173\n",
       "62  0.757576  0.573921  1.515152 -0.941230\n",
       "63  0.818182  0.669421  1.636364 -0.966942\n",
       "64  0.878788  0.772268  1.757576 -0.985308\n",
       "65  0.939394  0.882461  1.878788 -0.996327\n",
       "66  1.000000  1.000000  2.000000 -1.000000\n",
       "67  1.060606  1.124885  2.121212 -0.996327\n",
       "68  1.121212  1.257117  2.242424 -0.985308\n",
       "69  1.181818  1.396694  2.363636 -0.966942\n",
       "70  1.242424  1.543618  2.484848 -0.941230\n",
       "71  1.303030  1.697888  2.606061 -0.908173\n",
       "72  1.363636  1.859504  2.727273 -0.867769\n",
       "73  1.424242  2.028466  2.848485 -0.820018\n",
       "74  1.484848  2.204775  2.969697 -0.764922\n",
       "75  1.545455  2.388430  3.090909 -0.702479\n",
       "76  1.606061  2.579431  3.212121 -0.632691\n",
       "77  1.666667  2.777778  3.333333 -0.555556\n",
       "78  1.727273  2.983471  3.454545 -0.471074\n",
       "79  1.787879  3.196511  3.575758 -0.379247\n",
       "80  1.848485  3.416896  3.696970 -0.280073\n",
       "81  1.909091  3.644628  3.818182 -0.173554\n",
       "82  1.969697  3.879706  3.939394 -0.059688"
      ]
     },
     "metadata": {},
     "output_type": "display_data"
    },
    {
     "data": {
      "image/png": "[encoded data removed]",
      "text/plain": [
       "<Figure size 800x600 with 1 Axes>"
      ]
     },
     "metadata": {},
     "output_type": "display_data"
    }
   ],
   "source": [
    "import numpy as np\n",
    "import pandas as pd\n",
    "import matplotlib.pyplot as plt\n",
    "\n",
    "# Generar valores de x\n",
    "x_values = np.linspace(-3, 3, 100)\n",
    "\n",
    "# Calcular x^2 y 2x\n",
    "x_squared = x_values**2\n",
    "twice_x = 2 * x_values\n",
    "\n",
    "# Crear un DataFrame\n",
    "data = pd.DataFrame({\n",
    "    'x': x_values,\n",
    "    'x^2': x_squared,\n",
    "    '2x': twice_x,\n",
    "    'x^2 - 2x': x_squared - twice_x\n",
    "})\n",
    "\n",
    "# Buscar contraejemplos donde x^2 < 2x\n",
    "contraejemplos = data[data['x^2 - 2x'] < 0]\n",
    "print(\"Contraejemplos encontrados:\")\n",
    "display(contraejemplos)\n",
    "\n",
    "# Graficar las funciones para observar los puntos donde x^2 < 2x\n",
    "plt.figure(figsize=(8, 6))\n",
    "plt.plot(x_values, x_squared, label='$x^2$', color='blue')\n",
    "plt.plot(x_values, twice_x, label='$2x$', color='red')\n",
    "plt.axhline(0, color='black', linestyle='--', linewidth=0.8)\n",
    "plt.fill_between(x_values, x_squared, twice_x, where=(x_squared < twice_x), color='lightgrey', alpha=0.5, label='Contraejemplos')\n",
    "plt.title('Gráfica de $x^2$ y $2x$')\n",
    "plt.xlabel('$x$')\n",
    "plt.ylabel('Valores')\n",
    "plt.legend()\n",
    "plt.grid()\n",
    "plt.show()\n"
   ]
  },
  {
   "cell_type": "markdown",
   "id": "e4245710",
   "metadata": {},
   "source": [
    "\n",
    "### **Ejemplo 2: Refutar la afirmación $\\forall x, y \\in \\mathbb{R}, \\; x + y \\geq x \\cdot y$**\n"
   ]
  },
  {
   "cell_type": "markdown",
   "id": "747de599",
   "metadata": {},
   "source": [
    "\n",
    "#### Código en Python\n"
   ]
  },
  {
   "cell_type": "code",
   "execution_count": 2,
   "id": "2369e053",
   "metadata": {},
   "outputs": [
    {
     "name": "stdout",
     "output_type": "stream",
     "text": [
      "Contraejemplos encontrados:\n"
     ]
    },
    {
     "data": {
      "text/html": [
       "<div>\n",
       "<style scoped>\n",
       "    .dataframe tbody tr th:only-of-type {\n",
       "        vertical-align: middle;\n",
       "    }\n",
       "\n",
       "    .dataframe tbody tr th {\n",
       "        vertical-align: top;\n",
       "    }\n",
       "\n",
       "    .dataframe thead th {\n",
       "        text-align: right;\n",
       "    }\n",
       "</style>\n",
       "<table border=\"1\" class=\"dataframe\">\n",
       "  <thead>\n",
       "    <tr style=\"text-align: right;\">\n",
       "      <th></th>\n",
       "      <th>x</th>\n",
       "      <th>y</th>\n",
       "      <th>x + y</th>\n",
       "      <th>x * y</th>\n",
       "      <th>(x + y) - (x * y)</th>\n",
       "    </tr>\n",
       "  </thead>\n",
       "  <tbody>\n",
       "    <tr>\n",
       "      <th>0</th>\n",
       "      <td>-2.0</td>\n",
       "      <td>-2.000000</td>\n",
       "      <td>-4.000000</td>\n",
       "      <td>4.000000</td>\n",
       "      <td>-8.000000</td>\n",
       "    </tr>\n",
       "    <tr>\n",
       "      <th>1</th>\n",
       "      <td>-2.0</td>\n",
       "      <td>-1.918367</td>\n",
       "      <td>-3.918367</td>\n",
       "      <td>3.836735</td>\n",
       "      <td>-7.755102</td>\n",
       "    </tr>\n",
       "    <tr>\n",
       "      <th>2</th>\n",
       "      <td>-2.0</td>\n",
       "      <td>-1.836735</td>\n",
       "      <td>-3.836735</td>\n",
       "      <td>3.673469</td>\n",
       "      <td>-7.510204</td>\n",
       "    </tr>\n",
       "    <tr>\n",
       "      <th>3</th>\n",
       "      <td>-2.0</td>\n",
       "      <td>-1.755102</td>\n",
       "      <td>-3.755102</td>\n",
       "      <td>3.510204</td>\n",
       "      <td>-7.265306</td>\n",
       "    </tr>\n",
       "    <tr>\n",
       "      <th>4</th>\n",
       "      <td>-2.0</td>\n",
       "      <td>-1.673469</td>\n",
       "      <td>-3.673469</td>\n",
       "      <td>3.346939</td>\n",
       "      <td>-7.020408</td>\n",
       "    </tr>\n",
       "    <tr>\n",
       "      <th>5</th>\n",
       "      <td>-2.0</td>\n",
       "      <td>-1.591837</td>\n",
       "      <td>-3.591837</td>\n",
       "      <td>3.183673</td>\n",
       "      <td>-6.775510</td>\n",
       "    </tr>\n",
       "    <tr>\n",
       "      <th>6</th>\n",
       "      <td>-2.0</td>\n",
       "      <td>-1.510204</td>\n",
       "      <td>-3.510204</td>\n",
       "      <td>3.020408</td>\n",
       "      <td>-6.530612</td>\n",
       "    </tr>\n",
       "    <tr>\n",
       "      <th>7</th>\n",
       "      <td>-2.0</td>\n",
       "      <td>-1.428571</td>\n",
       "      <td>-3.428571</td>\n",
       "      <td>2.857143</td>\n",
       "      <td>-6.285714</td>\n",
       "    </tr>\n",
       "    <tr>\n",
       "      <th>8</th>\n",
       "      <td>-2.0</td>\n",
       "      <td>-1.346939</td>\n",
       "      <td>-3.346939</td>\n",
       "      <td>2.693878</td>\n",
       "      <td>-6.040816</td>\n",
       "    </tr>\n",
       "    <tr>\n",
       "      <th>9</th>\n",
       "      <td>-2.0</td>\n",
       "      <td>-1.265306</td>\n",
       "      <td>-3.265306</td>\n",
       "      <td>2.530612</td>\n",
       "      <td>-5.795918</td>\n",
       "    </tr>\n",
       "  </tbody>\n",
       "</table>\n",
       "</div>"
      ],
      "text/plain": [
       "     x         y     x + y     x * y  (x + y) - (x * y)\n",
       "0 -2.0 -2.000000 -4.000000  4.000000          -8.000000\n",
       "1 -2.0 -1.918367 -3.918367  3.836735          -7.755102\n",
       "2 -2.0 -1.836735 -3.836735  3.673469          -7.510204\n",
       "3 -2.0 -1.755102 -3.755102  3.510204          -7.265306\n",
       "4 -2.0 -1.673469 -3.673469  3.346939          -7.020408\n",
       "5 -2.0 -1.591837 -3.591837  3.183673          -6.775510\n",
       "6 -2.0 -1.510204 -3.510204  3.020408          -6.530612\n",
       "7 -2.0 -1.428571 -3.428571  2.857143          -6.285714\n",
       "8 -2.0 -1.346939 -3.346939  2.693878          -6.040816\n",
       "9 -2.0 -1.265306 -3.265306  2.530612          -5.795918"
      ]
     },
     "metadata": {},
     "output_type": "display_data"
    },
    {
     "data": {
      "image/png": "[encoded data removed]",
      "text/plain": [
       "<Figure size 800x600 with 1 Axes>"
      ]
     },
     "metadata": {},
     "output_type": "display_data"
    }
   ],
   "source": [
    "# Generar valores para x e y\n",
    "x_values = np.linspace(-2, 2, 50)\n",
    "y_values = np.linspace(-2, 2, 50)\n",
    "\n",
    "# Crear pares (x, y) y calcular x + y y x * y\n",
    "pairs = [(x, y) for x in x_values for y in y_values]\n",
    "results = []\n",
    "for x, y in pairs:\n",
    "    results.append({\n",
    "        'x': x,\n",
    "        'y': y,\n",
    "        'x + y': x + y,\n",
    "        'x * y': x * y,\n",
    "        '(x + y) - (x * y)': (x + y) - (x * y)\n",
    "    })\n",
    "\n",
    "# Convertir resultados a un DataFrame\n",
    "df = pd.DataFrame(results)\n",
    "\n",
    "# Filtrar contraejemplos donde x + y < x * y\n",
    "contraejemplos = df[df['(x + y) - (x * y)'] < 0]\n",
    "print(\"Contraejemplos encontrados:\")\n",
    "display(contraejemplos.head(10))\n",
    "\n",
    "# Graficar los contraejemplos\n",
    "plt.figure(figsize=(8, 6))\n",
    "plt.scatter(contraejemplos['x'], contraejemplos['y'], color='red', label='Contraejemplos')\n",
    "plt.axhline(0, color='black', linestyle='--', linewidth=0.8)\n",
    "plt.axvline(0, color='black', linestyle='--', linewidth=0.8)\n",
    "plt.title('Contraejemplos para $x + y \\\\geq x \\\\cdot y$')\n",
    "plt.xlabel('$x$')\n",
    "plt.ylabel('$y$')\n",
    "plt.legend()\n",
    "plt.grid()\n",
    "plt.show()\n"
   ]
  },
  {
   "cell_type": "markdown",
   "id": "8f687ec0",
   "metadata": {},
   "source": [
    "\n",
    "### **Ejemplo 3: Refutar la afirmación $\\forall x \\in \\mathbb{R}, \\; \\sin(x) \\leq x$**\n",
    "\n",
    "#### Código en Python\n"
   ]
  },
  {
   "cell_type": "code",
   "execution_count": 3,
   "id": "724bc487",
   "metadata": {},
   "outputs": [
    {
     "name": "stdout",
     "output_type": "stream",
     "text": [
      "Contraejemplos encontrados:\n"
     ]
    },
    {
     "name": "stderr",
     "output_type": "stream",
     "text": [
      "<>:22: SyntaxWarning: invalid escape sequence '\\s'\n",
      "<>:26: SyntaxWarning: invalid escape sequence '\\s'\n",
      "<>:22: SyntaxWarning: invalid escape sequence '\\s'\n",
      "<>:26: SyntaxWarning: invalid escape sequence '\\s'\n",
      "C:\\Users\\marco\\AppData\\Local\\Temp\\ipykernel_15940\\1275366036.py:22: SyntaxWarning: invalid escape sequence '\\s'\n",
      "  plt.plot(x_values, sin_values, label='$\\sin(x)$', color='blue')\n",
      "C:\\Users\\marco\\AppData\\Local\\Temp\\ipykernel_15940\\1275366036.py:26: SyntaxWarning: invalid escape sequence '\\s'\n",
      "  plt.title('Gráfica de $\\sin(x)$ y $x$')\n"
     ]
    },
    {
     "data": {
      "text/html": [
       "<div>\n",
       "<style scoped>\n",
       "    .dataframe tbody tr th:only-of-type {\n",
       "        vertical-align: middle;\n",
       "    }\n",
       "\n",
       "    .dataframe tbody tr th {\n",
       "        vertical-align: top;\n",
       "    }\n",
       "\n",
       "    .dataframe thead th {\n",
       "        text-align: right;\n",
       "    }\n",
       "</style>\n",
       "<table border=\"1\" class=\"dataframe\">\n",
       "  <thead>\n",
       "    <tr style=\"text-align: right;\">\n",
       "      <th></th>\n",
       "      <th>x</th>\n",
       "      <th>sin(x)</th>\n",
       "      <th>sin(x) - x</th>\n",
       "    </tr>\n",
       "  </thead>\n",
       "  <tbody>\n",
       "    <tr>\n",
       "      <th>0</th>\n",
       "      <td>-6.283185</td>\n",
       "      <td>2.449294e-16</td>\n",
       "      <td>6.283185</td>\n",
       "    </tr>\n",
       "    <tr>\n",
       "      <th>1</th>\n",
       "      <td>-6.220038</td>\n",
       "      <td>6.310563e-02</td>\n",
       "      <td>6.283143</td>\n",
       "    </tr>\n",
       "    <tr>\n",
       "      <th>2</th>\n",
       "      <td>-6.156890</td>\n",
       "      <td>1.259597e-01</td>\n",
       "      <td>6.282850</td>\n",
       "    </tr>\n",
       "    <tr>\n",
       "      <th>3</th>\n",
       "      <td>-6.093743</td>\n",
       "      <td>1.883117e-01</td>\n",
       "      <td>6.282054</td>\n",
       "    </tr>\n",
       "    <tr>\n",
       "      <th>4</th>\n",
       "      <td>-6.030595</td>\n",
       "      <td>2.499130e-01</td>\n",
       "      <td>6.280508</td>\n",
       "    </tr>\n",
       "    <tr>\n",
       "      <th>...</th>\n",
       "      <td>...</td>\n",
       "      <td>...</td>\n",
       "      <td>...</td>\n",
       "    </tr>\n",
       "    <tr>\n",
       "      <th>95</th>\n",
       "      <td>-0.284164</td>\n",
       "      <td>-2.803552e-01</td>\n",
       "      <td>0.003809</td>\n",
       "    </tr>\n",
       "    <tr>\n",
       "      <th>96</th>\n",
       "      <td>-0.221017</td>\n",
       "      <td>-2.192216e-01</td>\n",
       "      <td>0.001795</td>\n",
       "    </tr>\n",
       "    <tr>\n",
       "      <th>97</th>\n",
       "      <td>-0.157869</td>\n",
       "      <td>-1.572140e-01</td>\n",
       "      <td>0.000655</td>\n",
       "    </tr>\n",
       "    <tr>\n",
       "      <th>98</th>\n",
       "      <td>-0.094721</td>\n",
       "      <td>-9.457981e-02</td>\n",
       "      <td>0.000142</td>\n",
       "    </tr>\n",
       "    <tr>\n",
       "      <th>99</th>\n",
       "      <td>-0.031574</td>\n",
       "      <td>-3.156855e-02</td>\n",
       "      <td>0.000005</td>\n",
       "    </tr>\n",
       "  </tbody>\n",
       "</table>\n",
       "<p>100 rows × 3 columns</p>\n",
       "</div>"
      ],
      "text/plain": [
       "           x        sin(x)  sin(x) - x\n",
       "0  -6.283185  2.449294e-16    6.283185\n",
       "1  -6.220038  6.310563e-02    6.283143\n",
       "2  -6.156890  1.259597e-01    6.282850\n",
       "3  -6.093743  1.883117e-01    6.282054\n",
       "4  -6.030595  2.499130e-01    6.280508\n",
       "..       ...           ...         ...\n",
       "95 -0.284164 -2.803552e-01    0.003809\n",
       "96 -0.221017 -2.192216e-01    0.001795\n",
       "97 -0.157869 -1.572140e-01    0.000655\n",
       "98 -0.094721 -9.457981e-02    0.000142\n",
       "99 -0.031574 -3.156855e-02    0.000005\n",
       "\n",
       "[100 rows x 3 columns]"
      ]
     },
     "metadata": {},
     "output_type": "display_data"
    },
    {
     "data": {
      "image/png": "[encoded data removed]",
      "text/plain": [
       "<Figure size 800x600 with 1 Axes>"
      ]
     },
     "metadata": {},
     "output_type": "display_data"
    }
   ],
   "source": [
    "# Generar valores de x\n",
    "x_values = np.linspace(-2*np.pi, 2*np.pi, 200)\n",
    "\n",
    "# Calcular sin(x) y x\n",
    "sin_values = np.sin(x_values)\n",
    "\n",
    "# Crear un DataFrame\n",
    "data = pd.DataFrame({\n",
    "    'x': x_values,\n",
    "    'sin(x)': sin_values,\n",
    "    'x': x_values,\n",
    "    'sin(x) - x': sin_values - x_values\n",
    "})\n",
    "\n",
    "# Buscar contraejemplos donde sin(x) > x\n",
    "contraejemplos = data[data['sin(x) - x'] > 0]\n",
    "print(\"Contraejemplos encontrados:\")\n",
    "display(contraejemplos)\n",
    "\n",
    "# Graficar para observar los puntos donde sin(x) > x\n",
    "plt.figure(figsize=(8, 6))\n",
    "plt.plot(x_values, sin_values, label='$\\sin(x)$', color='blue')\n",
    "plt.plot(x_values, x_values, label='$x$', color='green')\n",
    "plt.fill_between(x_values, sin_values, x_values, where=(sin_values > x_values), color='lightgrey', alpha=0.5, label='Contraejemplos')\n",
    "plt.axhline(0, color='black', linestyle='--', linewidth=0.8)\n",
    "plt.title('Gráfica de $\\sin(x)$ y $x$')\n",
    "plt.xlabel('$x$')\n",
    "plt.ylabel('Valores')\n",
    "plt.legend()\n",
    "plt.grid()\n",
    "plt.show()\n",
    "\n"
   ]
  },
  {
   "cell_type": "markdown",
   "id": "f3063dc6",
   "metadata": {},
   "source": [
    "\n",
    "---\n",
    "\n",
    "### Explicación de los ejemplos\n",
    "\n",
    "1. **Pandas:**  \n",
    "   - Se utiliza para estructurar y analizar datos en forma tabular. Esto facilita identificar patrones o excepciones que refutan afirmaciones.\n",
    "   - El método `DataFrame` permite filtrar filas que no cumplen con la afirmación.\n"
   ]
  },
  {
   "cell_type": "markdown",
   "id": "102c032a",
   "metadata": {},
   "source": [
    "\n",
    "2. **Matplotlib:**  \n",
    "   - Ayuda a visualizar gráficamente los casos en los que las afirmaciones son refutadas. \n",
    "   - Las áreas sombreadas o los puntos marcados destacan claramente los contraejemplos.\n"
   ]
  },
  {
   "cell_type": "markdown",
   "id": "a40a4704",
   "metadata": {
    "slideshow": {
     "slide_type": "slide"
    }
   },
   "source": [
    "## Secuencia conceptual introductoria a la clase"
   ]
  },
  {
   "cell_type": "markdown",
   "id": "8853d874",
   "metadata": {},
   "source": [
    "## El componente histórico y epistemológico  \n"
   ]
  },
  {
   "cell_type": "markdown",
   "id": "fc764c0f",
   "metadata": {},
   "source": [
    "\n",
    "Estos son elementos históricos y epistemológicos para diseñar una clase sobre el método de demostración por refutación con contraejemplos, integrando Python y Jupyter Notebooks:\n"
   ]
  },
  {
   "cell_type": "markdown",
   "id": "638943b1",
   "metadata": {},
   "source": [
    "\n",
    "---\n"
   ]
  },
  {
   "cell_type": "markdown",
   "id": "cfec317c",
   "metadata": {},
   "source": [
    "\n",
    "### **Elementos históricos**\n"
   ]
  },
  {
   "cell_type": "markdown",
   "id": "b1353322",
   "metadata": {},
   "source": [
    "1. **Origen del método por contraejemplo**  \n",
    "   - **Grecia antigua**: Los filósofos griegos como **Aristóteles** desarrollaron principios de lógica y razonamiento crítico que sentaron las bases del método de refutación. Aristóteles empleaba ejemplos concretos para mostrar la falsedad de afirmaciones generales.\n",
    "   - **Euclides**: En los *Elementos*, aunque el texto es constructivo, implícitamente utiliza la idea de refutación al mostrar que ciertas propiedades no se cumplen para ciertas configuraciones geométricas.\n"
   ]
  },
  {
   "cell_type": "markdown",
   "id": "8adc86e3",
   "metadata": {},
   "source": [
    "\n",
    "2. **Matemáticas modernas**  \n",
    "   - En el siglo XIX, la matemática comenzó a cuestionar axiomas tradicionales. Por ejemplo:\n",
    "     - **Geometría no euclidiana**: Se refutaron algunas \"verdades\" euclidianas al construir contraejemplos en geometrías hiperbólicas y elípticas.\n",
    "     - **Conjuntos infinitos (Cantor)**: Los contraejemplos fueron fundamentales para entender el infinito, como el conjunto de números racionales versus irracionales.\n"
   ]
  },
  {
   "cell_type": "markdown",
   "id": "e92f8abc",
   "metadata": {},
   "source": [
    "\n",
    "3. **Lógica formal y computación**  \n",
    "   - **Kurt Gödel** y **Alan Turing** exploraron límites de la formalización matemática. Los contraejemplos ayudaron a identificar problemas irresolubles o proposiciones independientes de ciertos sistemas axiomáticos.\n",
    "\n",
    "---\n"
   ]
  },
  {
   "cell_type": "markdown",
   "id": "173fcf22",
   "metadata": {},
   "source": [
    "\n",
    "### **Elementos epistemológicos**\n",
    "1. **Importancia de los contraejemplos**\n",
    "   - Los contraejemplos no solo refutan hipótesis; también enriquecen el entendimiento al delimitar el alcance de los enunciados matemáticos.\n",
    "   - El método resalta la importancia del **pensamiento crítico** y la **falsabilidad** como aspectos fundamentales del conocimiento científico.\n"
   ]
  },
  {
   "cell_type": "markdown",
   "id": "08dbcde3",
   "metadata": {},
   "source": [
    "\n",
    "2. **Relación con la didáctica**\n",
    "   - Introducir contraejemplos en clase ayuda a los estudiantes a comprender que la matemática no es solo un conjunto de verdades inamovibles, sino un proceso de exploración y refinamiento.\n",
    "   - Los contraejemplos fomentan la **curiosidad** y la habilidad de **dudar razonadamente**, una habilidad clave para la resolución de problemas.\n"
   ]
  },
  {
   "cell_type": "markdown",
   "id": "47567cff",
   "metadata": {},
   "source": [
    "\n",
    "3. **Visualización y computación**  \n",
    "   - Las herramientas computacionales permiten **experimentar** con datos y conceptos matemáticos. Python y Jupyter Notebooks facilitan:\n",
    "     - Construcción de tableros interactivos para explorar ejemplos y contraejemplos.\n",
    "     - Visualización gráfica que permita evidenciar rápidamente la refutación de hipótesis.\n",
    "\n",
    "---\n"
   ]
  },
  {
   "cell_type": "markdown",
   "id": "e21a717b",
   "metadata": {},
   "source": [
    "\n",
    "### **Propuesta de clase práctica**\n",
    "\n",
    "1. **Objetivo**  \n",
    "   Introducir el método de demostración por refutación utilizando contraejemplos en problemas matemáticos y computacionales, aprovechando Python para tabular, graficar y experimentar.\n"
   ]
  },
  {
   "cell_type": "markdown",
   "id": "296993eb",
   "metadata": {},
   "source": [
    "\n",
    "2. **Actividad inicial**  \n",
    "   - Introducir un enunciado general, como:  \n",
    "     **\"Si un número es par, entonces es divisible entre 4.\"**  \n",
    "   - Pedir a los estudiantes que discutan verbalmente posibles refutaciones.\n"
   ]
  },
  {
   "cell_type": "markdown",
   "id": "2cdc1ec3",
   "metadata": {},
   "source": [
    "\n",
    "3. **Uso de Python para experimentar**  \n",
    "   - Generar números aleatorios y clasificar aquellos que son pares pero no divisibles entre 4.  \n"
   ]
  },
  {
   "cell_type": "code",
   "execution_count": 7,
   "id": "0ec17552",
   "metadata": {},
   "outputs": [
    {
     "data": {
      "text/plain": [
       "[(26, False),\n",
       " (50, False),\n",
       " (14, False),\n",
       " (34, False),\n",
       " (58, False),\n",
       " (74, False),\n",
       " (86, False),\n",
       " (2, False),\n",
       " (46, False),\n",
       " (82, False),\n",
       " (38, False),\n",
       " (66, False),\n",
       " (46, False),\n",
       " (82, False)]"
      ]
     },
     "execution_count": 7,
     "metadata": {},
     "output_type": "execute_result"
    }
   ],
   "source": [
    "import random\n",
    "\n",
    "# Generar números aleatorios\n",
    "numeros = [random.randint(1, 100) for _ in range(40)]\n",
    "\n",
    "# Identificar contraejemplos\n",
    "contraejemplos = [(n, n % 4 == 0) for n in numeros if n % 2 == 0 and n % 4 != 0]\n",
    "contraejemplos\n",
    "     \n"
   ]
  },
  {
   "cell_type": "markdown",
   "id": "8373855a",
   "metadata": {},
   "source": [
    "\n",
    "4. **Visualización gráfica**  \n",
    "   - Usar **matplotlib** para mostrar gráficamente los números que cumplen la hipótesis y los contraejemplos.  \n"
   ]
  },
  {
   "cell_type": "code",
   "execution_count": 9,
   "id": "f98139fa",
   "metadata": {},
   "outputs": [
    {
     "data": {
      "image/png": "[encoded data removed]",
      "text/plain": [
       "<Figure size 640x480 with 1 Axes>"
      ]
     },
     "metadata": {},
     "output_type": "display_data"
    }
   ],
   "source": [
    "import matplotlib.pyplot as plt\n",
    "\n",
    "pares = [n for n in numeros if n % 2 == 0]\n",
    "divisibles_4 = [n for n in numeros if n % 4 == 0]\n",
    "\n",
    "plt.scatter(pares, [1]*len(pares), label=\"Pares\", color=\"blue\")\n",
    "plt.scatter(divisibles_4, [1]*len(divisibles_4), label=\"Divisibles entre 4\", color=\"green\")\n",
    "plt.scatter([n for n, _ in contraejemplos], [1]*len(contraejemplos), label=\"Contraejemplos\", color=\"red\")\n",
    "plt.legend()\n",
    "plt.grid(alpha = 0.4)\n",
    "plt.show()\n",
    "\n"
   ]
  },
  {
   "cell_type": "markdown",
   "id": "5373b899",
   "metadata": {},
   "source": [
    "\n",
    "5. **Contraejemplos tabulados**  \n",
    "   Crear una tabla con pandas para mostrar los números y su clasificación:\n"
   ]
  },
  {
   "cell_type": "code",
   "execution_count": 11,
   "id": "e2b367d2",
   "metadata": {},
   "outputs": [
    {
     "data": {
      "text/html": [
       "<div>\n",
       "<style scoped>\n",
       "    .dataframe tbody tr th:only-of-type {\n",
       "        vertical-align: middle;\n",
       "    }\n",
       "\n",
       "    .dataframe tbody tr th {\n",
       "        vertical-align: top;\n",
       "    }\n",
       "\n",
       "    .dataframe thead th {\n",
       "        text-align: right;\n",
       "    }\n",
       "</style>\n",
       "<table border=\"1\" class=\"dataframe\">\n",
       "  <thead>\n",
       "    <tr style=\"text-align: right;\">\n",
       "      <th></th>\n",
       "      <th>Número</th>\n",
       "      <th>Par</th>\n",
       "      <th>Divisible entre 4</th>\n",
       "    </tr>\n",
       "  </thead>\n",
       "  <tbody>\n",
       "    <tr>\n",
       "      <th>0</th>\n",
       "      <td>80</td>\n",
       "      <td>True</td>\n",
       "      <td>True</td>\n",
       "    </tr>\n",
       "    <tr>\n",
       "      <th>1</th>\n",
       "      <td>48</td>\n",
       "      <td>True</td>\n",
       "      <td>True</td>\n",
       "    </tr>\n",
       "    <tr>\n",
       "      <th>2</th>\n",
       "      <td>32</td>\n",
       "      <td>True</td>\n",
       "      <td>True</td>\n",
       "    </tr>\n",
       "    <tr>\n",
       "      <th>3</th>\n",
       "      <td>93</td>\n",
       "      <td>False</td>\n",
       "      <td>False</td>\n",
       "    </tr>\n",
       "    <tr>\n",
       "      <th>4</th>\n",
       "      <td>26</td>\n",
       "      <td>True</td>\n",
       "      <td>False</td>\n",
       "    </tr>\n",
       "    <tr>\n",
       "      <th>5</th>\n",
       "      <td>41</td>\n",
       "      <td>False</td>\n",
       "      <td>False</td>\n",
       "    </tr>\n",
       "    <tr>\n",
       "      <th>6</th>\n",
       "      <td>50</td>\n",
       "      <td>True</td>\n",
       "      <td>False</td>\n",
       "    </tr>\n",
       "    <tr>\n",
       "      <th>7</th>\n",
       "      <td>99</td>\n",
       "      <td>False</td>\n",
       "      <td>False</td>\n",
       "    </tr>\n",
       "    <tr>\n",
       "      <th>8</th>\n",
       "      <td>39</td>\n",
       "      <td>False</td>\n",
       "      <td>False</td>\n",
       "    </tr>\n",
       "    <tr>\n",
       "      <th>9</th>\n",
       "      <td>23</td>\n",
       "      <td>False</td>\n",
       "      <td>False</td>\n",
       "    </tr>\n",
       "    <tr>\n",
       "      <th>10</th>\n",
       "      <td>14</td>\n",
       "      <td>True</td>\n",
       "      <td>False</td>\n",
       "    </tr>\n",
       "    <tr>\n",
       "      <th>11</th>\n",
       "      <td>34</td>\n",
       "      <td>True</td>\n",
       "      <td>False</td>\n",
       "    </tr>\n",
       "    <tr>\n",
       "      <th>12</th>\n",
       "      <td>84</td>\n",
       "      <td>True</td>\n",
       "      <td>True</td>\n",
       "    </tr>\n",
       "    <tr>\n",
       "      <th>13</th>\n",
       "      <td>1</td>\n",
       "      <td>False</td>\n",
       "      <td>False</td>\n",
       "    </tr>\n",
       "    <tr>\n",
       "      <th>14</th>\n",
       "      <td>4</td>\n",
       "      <td>True</td>\n",
       "      <td>True</td>\n",
       "    </tr>\n",
       "    <tr>\n",
       "      <th>15</th>\n",
       "      <td>4</td>\n",
       "      <td>True</td>\n",
       "      <td>True</td>\n",
       "    </tr>\n",
       "    <tr>\n",
       "      <th>16</th>\n",
       "      <td>58</td>\n",
       "      <td>True</td>\n",
       "      <td>False</td>\n",
       "    </tr>\n",
       "    <tr>\n",
       "      <th>17</th>\n",
       "      <td>15</td>\n",
       "      <td>False</td>\n",
       "      <td>False</td>\n",
       "    </tr>\n",
       "    <tr>\n",
       "      <th>18</th>\n",
       "      <td>88</td>\n",
       "      <td>True</td>\n",
       "      <td>True</td>\n",
       "    </tr>\n",
       "    <tr>\n",
       "      <th>19</th>\n",
       "      <td>74</td>\n",
       "      <td>True</td>\n",
       "      <td>False</td>\n",
       "    </tr>\n",
       "    <tr>\n",
       "      <th>20</th>\n",
       "      <td>25</td>\n",
       "      <td>False</td>\n",
       "      <td>False</td>\n",
       "    </tr>\n",
       "    <tr>\n",
       "      <th>21</th>\n",
       "      <td>86</td>\n",
       "      <td>True</td>\n",
       "      <td>False</td>\n",
       "    </tr>\n",
       "    <tr>\n",
       "      <th>22</th>\n",
       "      <td>2</td>\n",
       "      <td>True</td>\n",
       "      <td>False</td>\n",
       "    </tr>\n",
       "    <tr>\n",
       "      <th>23</th>\n",
       "      <td>46</td>\n",
       "      <td>True</td>\n",
       "      <td>False</td>\n",
       "    </tr>\n",
       "    <tr>\n",
       "      <th>24</th>\n",
       "      <td>82</td>\n",
       "      <td>True</td>\n",
       "      <td>False</td>\n",
       "    </tr>\n",
       "    <tr>\n",
       "      <th>25</th>\n",
       "      <td>12</td>\n",
       "      <td>True</td>\n",
       "      <td>True</td>\n",
       "    </tr>\n",
       "    <tr>\n",
       "      <th>26</th>\n",
       "      <td>48</td>\n",
       "      <td>True</td>\n",
       "      <td>True</td>\n",
       "    </tr>\n",
       "    <tr>\n",
       "      <th>27</th>\n",
       "      <td>38</td>\n",
       "      <td>True</td>\n",
       "      <td>False</td>\n",
       "    </tr>\n",
       "    <tr>\n",
       "      <th>28</th>\n",
       "      <td>3</td>\n",
       "      <td>False</td>\n",
       "      <td>False</td>\n",
       "    </tr>\n",
       "    <tr>\n",
       "      <th>29</th>\n",
       "      <td>87</td>\n",
       "      <td>False</td>\n",
       "      <td>False</td>\n",
       "    </tr>\n",
       "    <tr>\n",
       "      <th>30</th>\n",
       "      <td>67</td>\n",
       "      <td>False</td>\n",
       "      <td>False</td>\n",
       "    </tr>\n",
       "    <tr>\n",
       "      <th>31</th>\n",
       "      <td>44</td>\n",
       "      <td>True</td>\n",
       "      <td>True</td>\n",
       "    </tr>\n",
       "    <tr>\n",
       "      <th>32</th>\n",
       "      <td>66</td>\n",
       "      <td>True</td>\n",
       "      <td>False</td>\n",
       "    </tr>\n",
       "    <tr>\n",
       "      <th>33</th>\n",
       "      <td>100</td>\n",
       "      <td>True</td>\n",
       "      <td>True</td>\n",
       "    </tr>\n",
       "    <tr>\n",
       "      <th>34</th>\n",
       "      <td>100</td>\n",
       "      <td>True</td>\n",
       "      <td>True</td>\n",
       "    </tr>\n",
       "    <tr>\n",
       "      <th>35</th>\n",
       "      <td>81</td>\n",
       "      <td>False</td>\n",
       "      <td>False</td>\n",
       "    </tr>\n",
       "    <tr>\n",
       "      <th>36</th>\n",
       "      <td>63</td>\n",
       "      <td>False</td>\n",
       "      <td>False</td>\n",
       "    </tr>\n",
       "    <tr>\n",
       "      <th>37</th>\n",
       "      <td>46</td>\n",
       "      <td>True</td>\n",
       "      <td>False</td>\n",
       "    </tr>\n",
       "    <tr>\n",
       "      <th>38</th>\n",
       "      <td>82</td>\n",
       "      <td>True</td>\n",
       "      <td>False</td>\n",
       "    </tr>\n",
       "    <tr>\n",
       "      <th>39</th>\n",
       "      <td>15</td>\n",
       "      <td>False</td>\n",
       "      <td>False</td>\n",
       "    </tr>\n",
       "  </tbody>\n",
       "</table>\n",
       "</div>"
      ],
      "text/plain": [
       "    Número    Par  Divisible entre 4\n",
       "0       80   True               True\n",
       "1       48   True               True\n",
       "2       32   True               True\n",
       "3       93  False              False\n",
       "4       26   True              False\n",
       "5       41  False              False\n",
       "6       50   True              False\n",
       "7       99  False              False\n",
       "8       39  False              False\n",
       "9       23  False              False\n",
       "10      14   True              False\n",
       "11      34   True              False\n",
       "12      84   True               True\n",
       "13       1  False              False\n",
       "14       4   True               True\n",
       "15       4   True               True\n",
       "16      58   True              False\n",
       "17      15  False              False\n",
       "18      88   True               True\n",
       "19      74   True              False\n",
       "20      25  False              False\n",
       "21      86   True              False\n",
       "22       2   True              False\n",
       "23      46   True              False\n",
       "24      82   True              False\n",
       "25      12   True               True\n",
       "26      48   True               True\n",
       "27      38   True              False\n",
       "28       3  False              False\n",
       "29      87  False              False\n",
       "30      67  False              False\n",
       "31      44   True               True\n",
       "32      66   True              False\n",
       "33     100   True               True\n",
       "34     100   True               True\n",
       "35      81  False              False\n",
       "36      63  False              False\n",
       "37      46   True              False\n",
       "38      82   True              False\n",
       "39      15  False              False"
      ]
     },
     "execution_count": 11,
     "metadata": {},
     "output_type": "execute_result"
    }
   ],
   "source": [
    "import pandas as pd\n",
    "\n",
    "data = {\n",
    "    \"Número\": numeros,\n",
    "    \"Par\": [n % 2 == 0 for n in numeros],\n",
    "    \"Divisible entre 4\": [n % 4 == 0 for n in numeros]\n",
    "}\n",
    "\n",
    "df = pd.DataFrame(data)\n",
    "df\n",
    "\n"
   ]
  },
  {
   "cell_type": "markdown",
   "id": "a3918111",
   "metadata": {},
   "source": [
    "\n",
    "6. **Ejemplo avanzado: funciones continuas y derivables**  \n",
    "   - Explorar el enunciado:  \n",
    "     **\"Toda función continua es derivable.\"**  \n",
    "   - Usar Python para graficar \\( f(x) = |x| \\) y evidenciar la no derivabilidad en \\( x = 0 \\).  \n"
   ]
  },
  {
   "cell_type": "code",
   "execution_count": 5,
   "id": "fdc122f4",
   "metadata": {},
   "outputs": [
    {
     "data": {
      "image/png": "[encoded data removed]",
      "text/plain": [
       "<Figure size 640x480 with 1 Axes>"
      ]
     },
     "metadata": {},
     "output_type": "display_data"
    }
   ],
   "source": [
    "import numpy as np\n",
    "import matplotlib.pyplot as plt \n",
    "x = np.linspace(-2, 2, 100)\n",
    "y = np.abs(x)\n",
    "\n",
    "plt.plot(x, y, label=\"f(x) = |x|\", color=\"purple\")\n",
    "plt.axvline(0, linestyle=\"--\", color=\"red\", label=\"No derivable en x=0\")\n",
    "plt.legend()\n",
    "plt.axis('equal')\n",
    "plt.grid(alpha = 0.3) \n",
    "plt.show()\n",
    "\n"
   ]
  },
  {
   "cell_type": "markdown",
   "id": "9bb5ea4a",
   "metadata": {},
   "source": [
    "\n",
    "---\n"
   ]
  },
  {
   "cell_type": "markdown",
   "id": "7233a7f5",
   "metadata": {},
   "source": [
    "\n",
    "### **Recursos adicionales**\n",
    "1. Bibliotecas:  \n",
    "   - **SymPy**: Para verificar proposiciones lógicas o propiedades algebraicas.  \n",
    "   - **Matplotlib/Plotly**: Para visualización interactiva.  \n",
    "   - **ipywidgets**: Para permitir exploración interactiva en los cuadernos Jupyter.\n",
    "\n",
    "2. Lecturas:  \n",
    "   - Historia de la lógica: Aristóteles, Euclides y Gödel.  \n",
    "   - Ejemplos y contraejemplos matemáticos: Análisis, álgebra y geometría.\n",
    "\n",
    "3. Evaluación:  \n",
    "   - Diseñar un proyecto en el que los estudiantes creen contraejemplos propios y los visualicen gráficamente, explicando por qué refutan el enunciado original.\n",
    "\n",
    "---\n"
   ]
  },
  {
   "cell_type": "markdown",
   "id": "f5e9c06a",
   "metadata": {},
   "source": [
    "\n",
    "¿Te gustaría ejemplos más específicos o recomendaciones para implementarlo en clase?"
   ]
  },
  {
   "cell_type": "code",
   "execution_count": 4,
   "id": "6ff395c3",
   "metadata": {},
   "outputs": [],
   "source": [
    "# Traducción del inglés al español con python\n",
    "\n",
    "def traducir(texto):\n",
    "    from googletrans import Translator\n",
    "\n",
    "    translator = Translator() # instancia la clase \n",
    "\n",
    "    # Traducir al español\n",
    "    translation = translator.translate(texto, src='en', dest='es')\n",
    "    return translation.text"
   ]
  },
  {
   "cell_type": "code",
   "execution_count": 5,
   "id": "b583f414-ac87-4912-8a86-b338234d83d7",
   "metadata": {},
   "outputs": [
    {
     "data": {
      "text/plain": [
       "'Hola'"
      ]
     },
     "execution_count": 5,
     "metadata": {},
     "output_type": "execute_result"
    }
   ],
   "source": [
    "traducir('Hi')"
   ]
  },
  {
   "cell_type": "code",
   "execution_count": 4,
   "id": "bc0addfe",
   "metadata": {},
   "outputs": [
    {
     "data": {
      "text/plain": [
       "'C:\\\\Users\\\\marco\\\\Documentos\\\\docencia\\\\mapa_conceptual_metodo_refutacion.png'"
      ]
     },
     "execution_count": 4,
     "metadata": {},
     "output_type": "execute_result"
    }
   ],
   "source": [
    "from graphviz import Digraph\n",
    "\n",
    "# Crear un nuevo grafo dirigido\n",
    "dot = Digraph(comment='Mapa Conceptual: Método de Refutación con Contraejemplos', format='png')\n",
    "\n",
    "# Estilo general del grafo\n",
    "dot.attr('node', style='filled', shape='ellipse', fontname='Arial', color='lightgrey')\n",
    "\n",
    "# Concepto central\n",
    "main_concept = 'Método de Refutación con Contraejemplos'\n",
    "dot.node('A', main_concept, color='lightcoral')\n",
    "\n",
    "# Subconceptos principales\n",
    "dot.node('B', 'Demostración por Refutación')\n",
    "dot.node('C', 'Contraejemplo')\n",
    "dot.node('D', 'Uso de Python')\n",
    "dot.node('E', 'Cuadernos Jupyter')\n",
    "\n",
    "# Detalles interrelacionados\n",
    "dot.node('F', 'Identificación de Hipótesis')\n",
    "dot.node('G', 'Búsqueda de Casos\\nque Refuten')\n",
    "dot.node('H', 'Construcción de Ejemplos')\n",
    "dot.node('I', 'Automatización con\\nPython')\n",
    "dot.node('J', 'Visualización de Resultados')\n",
    "dot.node('K', 'Validación Matemática')\n",
    "\n",
    "# Relación entre conceptos (No jerárquica, conexiones cruzadas)\n",
    "dot.edges(['AB', 'AC', 'AD', 'AE', 'BF', 'CG', 'DH', 'EI', 'DI', 'GJ', 'HK', 'FI', 'FG', 'IJ'])\n",
    "\n",
    "# Personalización adicional para nodos específicos\n",
    "dot.node('L', 'Exploración de\\nErrores Comunes', color='lightblue')\n",
    "dot.node('M', 'Colaboración en\\nCuadernos Compartidos', color='lightgreen')\n",
    "\n",
    "# Relacionar nodos adicionales\n",
    "dot.edges(['BL', 'EM', 'AL', 'GM'])\n",
    "\n",
    "# Estilo general del grafo\n",
    "dot.attr(rankdir='LR', size='10')\n",
    "\n",
    "# Guardar el grafo como un archivo de imagen\n",
    "dot.render(filename='mapa_conceptual_metodo_refutacion', directory='C:/Users/marco/Documentos/docencia/', cleanup=True)\n",
    "\n",
    "# Ver el grafo\n",
    "dot.view()\n"
   ]
  },
  {
   "cell_type": "markdown",
   "id": "10e55ccf",
   "metadata": {},
   "source": [
    "# Estructura general para todas las clases\n",
    "\n",
    "Dame, por favor, un diseño de clase sobre la estructura de datos llamada DataFrame de Pandas en python y su utilización en ciencia de datos con técnicas de machine learning siguiendo la siguiente estructura: \n",
    "1. Título de la clase \n",
    "2. Objetivo de aprendizaje\n",
    "3. Contenido de la clase\n",
    "4. Actividades de aprendizaje\n",
    "5. Tarea o actividades de ejercitación y fijación\n",
    "6. Diseño de actividad de retroalimentación. "
   ]
  },
  {
   "cell_type": "markdown",
   "id": "ec048afb",
   "metadata": {},
   "source": [
    "### **1. Título de la clase**  \n",
    "**El método de demostración por refutación con contraejemplos: Tablas y Gráficas en Python**\n",
    "\n",
    "---\n",
    "\n",
    "### **2. Objetivo de aprendizaje**  \n",
    "El estudiante será capaz de utilizar representaciones tabulares y gráficas de funciones en Python para identificar contraejemplos que refuten afirmaciones matemáticas, desarrollando habilidades de análisis crítico y argumentación lógica.\n",
    "\n",
    "---\n"
   ]
  },
  {
   "cell_type": "markdown",
   "id": "af0eceed",
   "metadata": {},
   "source": [
    "\n",
    "### **3. Contenido de la clase**  \n",
    "\n",
    "1. **Introducción al método de demostración por refutación con contraejemplos**  \n",
    "   - Definición de afirmación y su negación.  \n",
    "   - Concepto de contraejemplo como herramienta lógica.  \n",
    "   - Casos generales y particulares en afirmaciones cuantificadas.  \n",
    "\n",
    "2. **Uso de Python para la búsqueda de contraejemplos**  \n",
    "   - Representaciones tabulares: Tablas de valores de funciones.  \n",
    "   - Representaciones gráficas: Visualización con bibliotecas como matplotlib y seaborn.  \n",
    "\n",
    "3. **Procedimiento para refutar afirmaciones matemáticas con contraejemplos**  \n",
    "   - Análisis algebraico previo.  \n",
    "   - Construcción de tablas de valores relevantes.  \n",
    "   - Identificación de contraejemplos en gráficos.  \n",
    "\n",
    "4. **Estudio de casos prácticos**  \n",
    "   - Ejemplo 1: Refutación de una afirmación sobre una función cuadrática.  \n",
    "   - Ejemplo 2: Identificación gráfica de un contraejemplo en una función trigonométrica.  \n",
    "\n",
    "---\n"
   ]
  },
  {
   "cell_type": "markdown",
   "id": "96bab6e4",
   "metadata": {},
   "source": [
    "\n",
    "### **4. Actividades de aprendizaje**  \n",
    "\n",
    "1. **Exploración guiada:**  \n",
    "   Los estudiantes replicarán en un cuaderno de Jupyter un ejemplo donde se analice la afirmación:  \n",
    "   $$\\forall x \\in \\mathbb{R}, \\; x^2 \\geq x.$$  \n",
    "   - Generarán una tabla de valores de \\(x\\) y \\(x^2 - x\\) usando pandas.  \n",
    "   - Construirán un gráfico con matplotlib para identificar los valores donde la desigualdad no se cumple.  \n",
    "\n",
    "2. **Discusión en grupo:**  \n",
    "   Los estudiantes analizarán los gráficos y discutirán si los resultados gráficos coinciden con la tabla generada.  \n",
    "\n",
    "3. **Desafío colaborativo:**  \n",
    "   Los estudiantes trabajarán en parejas para refutar la afirmación:  \n",
    "   $$\\forall x, y \\in \\mathbb{R}, \\; x \\cdot y \\geq x + y.$$  \n",
    "   Usarán Python para explorar valores particulares y presentarán un contraejemplo.  \n",
    "\n",
    "---\n"
   ]
  },
  {
   "cell_type": "markdown",
   "id": "33ba51a7",
   "metadata": {},
   "source": [
    "\n",
    "### **5. Tarea o actividades de ejercitación y fijación**  \n",
    "\n",
    "1. Resolver en un cuaderno de Jupyter las siguientes afirmaciones, identificando contraejemplos con representaciones tabulares y gráficas:  \n",
    "   - $$\\forall x \\in \\mathbb{R}, \\; \\sin(x) \\leq x.$$  \n",
    "   - $$\\forall x \\in \\mathbb{R}, \\; (x + 1)^3 = x^3 + 3x^2 + 3x.$$  \n",
    "   - $$\\forall n \\in \\mathbb{N}, \\; n^2 + n + 41 \\; \\text{es primo}.$$  \n",
    "\n",
    "2. Elaborar un informe breve (en Markdown dentro del cuaderno) que incluya:  \n",
    "   - La afirmación inicial.  \n",
    "   - Contraejemplo encontrado.  \n",
    "   - Justificación lógica y gráfica del contraejemplo.  \n",
    "\n",
    "---\n"
   ]
  },
  {
   "cell_type": "markdown",
   "id": "c39e6f97",
   "metadata": {},
   "source": [
    "\n",
    "### **6. Diseño de actividad de retroalimentación**  \n",
    "\n",
    "1. **Análisis de soluciones:**  \n",
    "   - Los estudiantes compartirán sus soluciones en pequeños grupos.  \n",
    "   - Se analizarán los gráficos y tablas generadas por cada estudiante para verificar su validez.  \n",
    "\n",
    "2. **Corrección guiada:**  \n",
    "   - El profesor seleccionará dos o tres ejercicios de la tarea y realizará un análisis en clase, mostrando cómo corregir errores comunes en la construcción de tablas y gráficos.  \n",
    "\n",
    "3. **Preguntas reflexivas:**  \n",
    "   - ¿Cómo se relaciona la tabla con la gráfica al buscar contraejemplos?  \n",
    "   - ¿Qué estrategias usaste para determinar qué valores analizar?  \n",
    "\n",
    "4. **Foro de discusión:**  \n",
    "   En la plataforma de la clase (o mediante un canal de comunicación como GitHub), los estudiantes publicarán sus soluciones y recibirán retroalimentación de sus compañeros y del profesor.  \n",
    "\n",
    "---\n",
    "\n",
    "Aquí tienes ejemplos en Python para desarrollar los contenidos de la clase sobre **\"El método de demostración por refutación con contraejemplos\"**. Los códigos están diseñados para ser ejecutados en un cuaderno de Jupyter.\n",
    "\n",
    "---\n",
    "\n",
    "### **Ejemplo 1: Refutar la afirmación \\(\\forall x \\in \\mathbb{R}, \\; x^2 \\geq x\\)**\n",
    "\n",
    "#### Código en Python\n"
   ]
  },
  {
   "cell_type": "code",
   "execution_count": 5,
   "id": "4d9b13fa",
   "metadata": {},
   "outputs": [
    {
     "data": {
      "text/html": [
       "<div>\n",
       "<style scoped>\n",
       "    .dataframe tbody tr th:only-of-type {\n",
       "        vertical-align: middle;\n",
       "    }\n",
       "\n",
       "    .dataframe tbody tr th {\n",
       "        vertical-align: top;\n",
       "    }\n",
       "\n",
       "    .dataframe thead th {\n",
       "        text-align: right;\n",
       "    }\n",
       "</style>\n",
       "<table border=\"1\" class=\"dataframe\">\n",
       "  <thead>\n",
       "    <tr style=\"text-align: right;\">\n",
       "      <th></th>\n",
       "      <th>x</th>\n",
       "      <th>x^2</th>\n",
       "      <th>x^2 - x</th>\n",
       "    </tr>\n",
       "  </thead>\n",
       "  <tbody>\n",
       "    <tr>\n",
       "      <th>0</th>\n",
       "      <td>-2.000000</td>\n",
       "      <td>4.000000</td>\n",
       "      <td>6.000000</td>\n",
       "    </tr>\n",
       "    <tr>\n",
       "      <th>1</th>\n",
       "      <td>-1.959596</td>\n",
       "      <td>3.840016</td>\n",
       "      <td>5.799612</td>\n",
       "    </tr>\n",
       "    <tr>\n",
       "      <th>2</th>\n",
       "      <td>-1.919192</td>\n",
       "      <td>3.683298</td>\n",
       "      <td>5.602490</td>\n",
       "    </tr>\n",
       "    <tr>\n",
       "      <th>3</th>\n",
       "      <td>-1.878788</td>\n",
       "      <td>3.529844</td>\n",
       "      <td>5.408632</td>\n",
       "    </tr>\n",
       "    <tr>\n",
       "      <th>4</th>\n",
       "      <td>-1.838384</td>\n",
       "      <td>3.379655</td>\n",
       "      <td>5.218039</td>\n",
       "    </tr>\n",
       "    <tr>\n",
       "      <th>5</th>\n",
       "      <td>-1.797980</td>\n",
       "      <td>3.232731</td>\n",
       "      <td>5.030711</td>\n",
       "    </tr>\n",
       "    <tr>\n",
       "      <th>6</th>\n",
       "      <td>-1.757576</td>\n",
       "      <td>3.089073</td>\n",
       "      <td>4.846648</td>\n",
       "    </tr>\n",
       "    <tr>\n",
       "      <th>7</th>\n",
       "      <td>-1.717172</td>\n",
       "      <td>2.948679</td>\n",
       "      <td>4.665850</td>\n",
       "    </tr>\n",
       "    <tr>\n",
       "      <th>8</th>\n",
       "      <td>-1.676768</td>\n",
       "      <td>2.811550</td>\n",
       "      <td>4.488318</td>\n",
       "    </tr>\n",
       "    <tr>\n",
       "      <th>9</th>\n",
       "      <td>-1.636364</td>\n",
       "      <td>2.677686</td>\n",
       "      <td>4.314050</td>\n",
       "    </tr>\n",
       "  </tbody>\n",
       "</table>\n",
       "</div>"
      ],
      "text/plain": [
       "          x       x^2   x^2 - x\n",
       "0 -2.000000  4.000000  6.000000\n",
       "1 -1.959596  3.840016  5.799612\n",
       "2 -1.919192  3.683298  5.602490\n",
       "3 -1.878788  3.529844  5.408632\n",
       "4 -1.838384  3.379655  5.218039\n",
       "5 -1.797980  3.232731  5.030711\n",
       "6 -1.757576  3.089073  4.846648\n",
       "7 -1.717172  2.948679  4.665850\n",
       "8 -1.676768  2.811550  4.488318\n",
       "9 -1.636364  2.677686  4.314050"
      ]
     },
     "metadata": {},
     "output_type": "display_data"
    },
    {
     "data": {
      "image/png": "[encoded data removed]",
      "text/plain": [
       "<Figure size 800x600 with 1 Axes>"
      ]
     },
     "metadata": {},
     "output_type": "display_data"
    },
    {
     "name": "stdout",
     "output_type": "stream",
     "text": [
      "Contraejemplos encontrados:\n"
     ]
    },
    {
     "data": {
      "text/html": [
       "<div>\n",
       "<style scoped>\n",
       "    .dataframe tbody tr th:only-of-type {\n",
       "        vertical-align: middle;\n",
       "    }\n",
       "\n",
       "    .dataframe tbody tr th {\n",
       "        vertical-align: top;\n",
       "    }\n",
       "\n",
       "    .dataframe thead th {\n",
       "        text-align: right;\n",
       "    }\n",
       "</style>\n",
       "<table border=\"1\" class=\"dataframe\">\n",
       "  <thead>\n",
       "    <tr style=\"text-align: right;\">\n",
       "      <th></th>\n",
       "      <th>x</th>\n",
       "      <th>x^2</th>\n",
       "      <th>x^2 - x</th>\n",
       "    </tr>\n",
       "  </thead>\n",
       "  <tbody>\n",
       "    <tr>\n",
       "      <th>50</th>\n",
       "      <td>0.020202</td>\n",
       "      <td>0.000408</td>\n",
       "      <td>-0.019794</td>\n",
       "    </tr>\n",
       "    <tr>\n",
       "      <th>51</th>\n",
       "      <td>0.060606</td>\n",
       "      <td>0.003673</td>\n",
       "      <td>-0.056933</td>\n",
       "    </tr>\n",
       "    <tr>\n",
       "      <th>52</th>\n",
       "      <td>0.101010</td>\n",
       "      <td>0.010203</td>\n",
       "      <td>-0.090807</td>\n",
       "    </tr>\n",
       "    <tr>\n",
       "      <th>53</th>\n",
       "      <td>0.141414</td>\n",
       "      <td>0.019998</td>\n",
       "      <td>-0.121416</td>\n",
       "    </tr>\n",
       "    <tr>\n",
       "      <th>54</th>\n",
       "      <td>0.181818</td>\n",
       "      <td>0.033058</td>\n",
       "      <td>-0.148760</td>\n",
       "    </tr>\n",
       "    <tr>\n",
       "      <th>55</th>\n",
       "      <td>0.222222</td>\n",
       "      <td>0.049383</td>\n",
       "      <td>-0.172840</td>\n",
       "    </tr>\n",
       "    <tr>\n",
       "      <th>56</th>\n",
       "      <td>0.262626</td>\n",
       "      <td>0.068973</td>\n",
       "      <td>-0.193654</td>\n",
       "    </tr>\n",
       "    <tr>\n",
       "      <th>57</th>\n",
       "      <td>0.303030</td>\n",
       "      <td>0.091827</td>\n",
       "      <td>-0.211203</td>\n",
       "    </tr>\n",
       "    <tr>\n",
       "      <th>58</th>\n",
       "      <td>0.343434</td>\n",
       "      <td>0.117947</td>\n",
       "      <td>-0.225487</td>\n",
       "    </tr>\n",
       "    <tr>\n",
       "      <th>59</th>\n",
       "      <td>0.383838</td>\n",
       "      <td>0.147332</td>\n",
       "      <td>-0.236506</td>\n",
       "    </tr>\n",
       "    <tr>\n",
       "      <th>60</th>\n",
       "      <td>0.424242</td>\n",
       "      <td>0.179982</td>\n",
       "      <td>-0.244261</td>\n",
       "    </tr>\n",
       "    <tr>\n",
       "      <th>61</th>\n",
       "      <td>0.464646</td>\n",
       "      <td>0.215896</td>\n",
       "      <td>-0.248750</td>\n",
       "    </tr>\n",
       "    <tr>\n",
       "      <th>62</th>\n",
       "      <td>0.505051</td>\n",
       "      <td>0.255076</td>\n",
       "      <td>-0.249974</td>\n",
       "    </tr>\n",
       "    <tr>\n",
       "      <th>63</th>\n",
       "      <td>0.545455</td>\n",
       "      <td>0.297521</td>\n",
       "      <td>-0.247934</td>\n",
       "    </tr>\n",
       "    <tr>\n",
       "      <th>64</th>\n",
       "      <td>0.585859</td>\n",
       "      <td>0.343230</td>\n",
       "      <td>-0.242628</td>\n",
       "    </tr>\n",
       "    <tr>\n",
       "      <th>65</th>\n",
       "      <td>0.626263</td>\n",
       "      <td>0.392205</td>\n",
       "      <td>-0.234058</td>\n",
       "    </tr>\n",
       "    <tr>\n",
       "      <th>66</th>\n",
       "      <td>0.666667</td>\n",
       "      <td>0.444444</td>\n",
       "      <td>-0.222222</td>\n",
       "    </tr>\n",
       "    <tr>\n",
       "      <th>67</th>\n",
       "      <td>0.707071</td>\n",
       "      <td>0.499949</td>\n",
       "      <td>-0.207122</td>\n",
       "    </tr>\n",
       "    <tr>\n",
       "      <th>68</th>\n",
       "      <td>0.747475</td>\n",
       "      <td>0.558718</td>\n",
       "      <td>-0.188756</td>\n",
       "    </tr>\n",
       "    <tr>\n",
       "      <th>69</th>\n",
       "      <td>0.787879</td>\n",
       "      <td>0.620753</td>\n",
       "      <td>-0.167126</td>\n",
       "    </tr>\n",
       "    <tr>\n",
       "      <th>70</th>\n",
       "      <td>0.828283</td>\n",
       "      <td>0.686052</td>\n",
       "      <td>-0.142230</td>\n",
       "    </tr>\n",
       "    <tr>\n",
       "      <th>71</th>\n",
       "      <td>0.868687</td>\n",
       "      <td>0.754617</td>\n",
       "      <td>-0.114070</td>\n",
       "    </tr>\n",
       "    <tr>\n",
       "      <th>72</th>\n",
       "      <td>0.909091</td>\n",
       "      <td>0.826446</td>\n",
       "      <td>-0.082645</td>\n",
       "    </tr>\n",
       "    <tr>\n",
       "      <th>73</th>\n",
       "      <td>0.949495</td>\n",
       "      <td>0.901541</td>\n",
       "      <td>-0.047954</td>\n",
       "    </tr>\n",
       "    <tr>\n",
       "      <th>74</th>\n",
       "      <td>0.989899</td>\n",
       "      <td>0.979900</td>\n",
       "      <td>-0.009999</td>\n",
       "    </tr>\n",
       "  </tbody>\n",
       "</table>\n",
       "</div>"
      ],
      "text/plain": [
       "           x       x^2   x^2 - x\n",
       "50  0.020202  0.000408 -0.019794\n",
       "51  0.060606  0.003673 -0.056933\n",
       "52  0.101010  0.010203 -0.090807\n",
       "53  0.141414  0.019998 -0.121416\n",
       "54  0.181818  0.033058 -0.148760\n",
       "55  0.222222  0.049383 -0.172840\n",
       "56  0.262626  0.068973 -0.193654\n",
       "57  0.303030  0.091827 -0.211203\n",
       "58  0.343434  0.117947 -0.225487\n",
       "59  0.383838  0.147332 -0.236506\n",
       "60  0.424242  0.179982 -0.244261\n",
       "61  0.464646  0.215896 -0.248750\n",
       "62  0.505051  0.255076 -0.249974\n",
       "63  0.545455  0.297521 -0.247934\n",
       "64  0.585859  0.343230 -0.242628\n",
       "65  0.626263  0.392205 -0.234058\n",
       "66  0.666667  0.444444 -0.222222\n",
       "67  0.707071  0.499949 -0.207122\n",
       "68  0.747475  0.558718 -0.188756\n",
       "69  0.787879  0.620753 -0.167126\n",
       "70  0.828283  0.686052 -0.142230\n",
       "71  0.868687  0.754617 -0.114070\n",
       "72  0.909091  0.826446 -0.082645\n",
       "73  0.949495  0.901541 -0.047954\n",
       "74  0.989899  0.979900 -0.009999"
      ]
     },
     "metadata": {},
     "output_type": "display_data"
    }
   ],
   "source": [
    "import numpy as np\n",
    "import pandas as pd\n",
    "import matplotlib.pyplot as plt\n",
    "\n",
    "# Generar valores para x\n",
    "x_values = np.linspace(-2, 2, 100)  # Valores de -2 a 2\n",
    "# Calcular x^2 y x\n",
    "x_squared = x_values**2\n",
    "x_minus = x_values\n",
    "\n",
    "# Crear una tabla de valores\n",
    "data = pd.DataFrame({\n",
    "    'x': x_values,\n",
    "    'x^2': x_squared,\n",
    "    'x': x_minus,\n",
    "    'x^2 - x': x_squared - x_minus\n",
    "})\n",
    "display(data.head(10))  # Mostrar las primeras 10 filas de la tabla\n",
    "\n",
    "# Graficar\n",
    "plt.figure(figsize=(8, 6))\n",
    "plt.plot(x_values, x_squared, label='$x^2$', color='blue')\n",
    "plt.plot(x_values, x_minus, label='$x$', color='red')\n",
    "plt.axhline(0, color='black', linestyle='--', linewidth=0.8)\n",
    "plt.legend()\n",
    "plt.title('Comparación de $x^2$ y $x$')\n",
    "plt.xlabel('$x$')\n",
    "plt.ylabel('Valores')\n",
    "plt.grid()\n",
    "plt.show()\n",
    "\n",
    "# Identificar contraejemplos\n",
    "contraejemplo = data[data['x^2 - x'] < 0]\n",
    "print(\"Contraejemplos encontrados:\")\n",
    "display(contraejemplo)\n",
    "\n"
   ]
  },
  {
   "cell_type": "markdown",
   "id": "03614e04",
   "metadata": {},
   "source": [
    "\n",
    "---\n",
    "\n",
    "### **Ejemplo 2: Refutar la afirmación $\\forall x, y \\in \\mathbb{R}, \\; x \\cdot y \\geq x + y$**\n"
   ]
  },
  {
   "cell_type": "markdown",
   "id": "ab613e73",
   "metadata": {},
   "source": [
    "\n",
    "#### Código en Python\n"
   ]
  },
  {
   "cell_type": "code",
   "execution_count": 6,
   "id": "8f5e7e7b",
   "metadata": {},
   "outputs": [
    {
     "data": {
      "text/html": [
       "<div>\n",
       "<style scoped>\n",
       "    .dataframe tbody tr th:only-of-type {\n",
       "        vertical-align: middle;\n",
       "    }\n",
       "\n",
       "    .dataframe tbody tr th {\n",
       "        vertical-align: top;\n",
       "    }\n",
       "\n",
       "    .dataframe thead th {\n",
       "        text-align: right;\n",
       "    }\n",
       "</style>\n",
       "<table border=\"1\" class=\"dataframe\">\n",
       "  <thead>\n",
       "    <tr style=\"text-align: right;\">\n",
       "      <th></th>\n",
       "      <th>x</th>\n",
       "      <th>y</th>\n",
       "      <th>x*y</th>\n",
       "      <th>x+y</th>\n",
       "      <th>x*y - (x+y)</th>\n",
       "    </tr>\n",
       "  </thead>\n",
       "  <tbody>\n",
       "    <tr>\n",
       "      <th>31</th>\n",
       "      <td>-3.0</td>\n",
       "      <td>0.795918</td>\n",
       "      <td>-2.387755</td>\n",
       "      <td>-2.204082</td>\n",
       "      <td>-0.183673</td>\n",
       "    </tr>\n",
       "    <tr>\n",
       "      <th>32</th>\n",
       "      <td>-3.0</td>\n",
       "      <td>0.918367</td>\n",
       "      <td>-2.755102</td>\n",
       "      <td>-2.081633</td>\n",
       "      <td>-0.673469</td>\n",
       "    </tr>\n",
       "    <tr>\n",
       "      <th>33</th>\n",
       "      <td>-3.0</td>\n",
       "      <td>1.040816</td>\n",
       "      <td>-3.122449</td>\n",
       "      <td>-1.959184</td>\n",
       "      <td>-1.163265</td>\n",
       "    </tr>\n",
       "    <tr>\n",
       "      <th>34</th>\n",
       "      <td>-3.0</td>\n",
       "      <td>1.163265</td>\n",
       "      <td>-3.489796</td>\n",
       "      <td>-1.836735</td>\n",
       "      <td>-1.653061</td>\n",
       "    </tr>\n",
       "    <tr>\n",
       "      <th>35</th>\n",
       "      <td>-3.0</td>\n",
       "      <td>1.285714</td>\n",
       "      <td>-3.857143</td>\n",
       "      <td>-1.714286</td>\n",
       "      <td>-2.142857</td>\n",
       "    </tr>\n",
       "    <tr>\n",
       "      <th>36</th>\n",
       "      <td>-3.0</td>\n",
       "      <td>1.408163</td>\n",
       "      <td>-4.224490</td>\n",
       "      <td>-1.591837</td>\n",
       "      <td>-2.632653</td>\n",
       "    </tr>\n",
       "    <tr>\n",
       "      <th>37</th>\n",
       "      <td>-3.0</td>\n",
       "      <td>1.530612</td>\n",
       "      <td>-4.591837</td>\n",
       "      <td>-1.469388</td>\n",
       "      <td>-3.122449</td>\n",
       "    </tr>\n",
       "    <tr>\n",
       "      <th>38</th>\n",
       "      <td>-3.0</td>\n",
       "      <td>1.653061</td>\n",
       "      <td>-4.959184</td>\n",
       "      <td>-1.346939</td>\n",
       "      <td>-3.612245</td>\n",
       "    </tr>\n",
       "    <tr>\n",
       "      <th>39</th>\n",
       "      <td>-3.0</td>\n",
       "      <td>1.775510</td>\n",
       "      <td>-5.326531</td>\n",
       "      <td>-1.224490</td>\n",
       "      <td>-4.102041</td>\n",
       "    </tr>\n",
       "    <tr>\n",
       "      <th>40</th>\n",
       "      <td>-3.0</td>\n",
       "      <td>1.897959</td>\n",
       "      <td>-5.693878</td>\n",
       "      <td>-1.102041</td>\n",
       "      <td>-4.591837</td>\n",
       "    </tr>\n",
       "  </tbody>\n",
       "</table>\n",
       "</div>"
      ],
      "text/plain": [
       "      x         y       x*y       x+y  x*y - (x+y)\n",
       "31 -3.0  0.795918 -2.387755 -2.204082    -0.183673\n",
       "32 -3.0  0.918367 -2.755102 -2.081633    -0.673469\n",
       "33 -3.0  1.040816 -3.122449 -1.959184    -1.163265\n",
       "34 -3.0  1.163265 -3.489796 -1.836735    -1.653061\n",
       "35 -3.0  1.285714 -3.857143 -1.714286    -2.142857\n",
       "36 -3.0  1.408163 -4.224490 -1.591837    -2.632653\n",
       "37 -3.0  1.530612 -4.591837 -1.469388    -3.122449\n",
       "38 -3.0  1.653061 -4.959184 -1.346939    -3.612245\n",
       "39 -3.0  1.775510 -5.326531 -1.224490    -4.102041\n",
       "40 -3.0  1.897959 -5.693878 -1.102041    -4.591837"
      ]
     },
     "metadata": {},
     "output_type": "display_data"
    },
    {
     "data": {
      "image/png": "[encoded data removed]",
      "text/plain": [
       "<Figure size 800x600 with 1 Axes>"
      ]
     },
     "metadata": {},
     "output_type": "display_data"
    }
   ],
   "source": [
    "# Generar valores para x e y\n",
    "x_values = np.linspace(-3, 3, 50)\n",
    "y_values = np.linspace(-3, 3, 50)\n",
    "\n",
    "# Crear pares (x, y)\n",
    "pairs = [(x, y) for x in x_values for y in y_values]\n",
    "\n",
    "# Calcular x*y y x+y\n",
    "results = []\n",
    "for x, y in pairs:\n",
    "    results.append({\n",
    "        'x': x,\n",
    "        'y': y,\n",
    "        'x*y': x * y,\n",
    "        'x+y': x + y,\n",
    "        'x*y - (x+y)': (x * y) - (x + y)\n",
    "    })\n",
    "\n",
    "# Convertir a DataFrame\n",
    "df = pd.DataFrame(results)\n",
    "\n",
    "# Filtrar contraejemplos\n",
    "contraejemplos = df[df['x*y - (x+y)'] < 0]\n",
    "display(contraejemplos.head(10))\n",
    "\n",
    "# Graficar los contraejemplos\n",
    "plt.figure(figsize=(8, 6))\n",
    "plt.scatter(contraejemplos['x'], contraejemplos['y'], color='red', label='Contraejemplos')\n",
    "plt.axhline(0, color='black', linestyle='--', linewidth=0.8)\n",
    "plt.axvline(0, color='black', linestyle='--', linewidth=0.8)\n",
    "plt.title('Contraejemplos para $x \\\\cdot y \\\\geq x + y$')\n",
    "plt.xlabel('$x$')\n",
    "plt.ylabel('$y$')\n",
    "plt.legend()\n",
    "plt.grid()\n",
    "plt.show()\n"
   ]
  },
  {
   "cell_type": "markdown",
   "id": "5741601e",
   "metadata": {},
   "source": [
    "\n",
    "### **Ejemplo 3: Refutar la afirmación $$\\forall x \\in \\mathbb{R}, \\; \\sin(x) \\leq x$$**\n",
    "\n",
    "#### Código en Python\n"
   ]
  },
  {
   "cell_type": "code",
   "execution_count": 12,
   "id": "577c796c",
   "metadata": {},
   "outputs": [
    {
     "name": "stderr",
     "output_type": "stream",
     "text": [
      "<>:16: SyntaxWarning: invalid escape sequence '\\s'\n",
      "<>:20: SyntaxWarning: invalid escape sequence '\\s'\n",
      "<>:16: SyntaxWarning: invalid escape sequence '\\s'\n",
      "<>:20: SyntaxWarning: invalid escape sequence '\\s'\n",
      "C:\\Users\\marco\\AppData\\Local\\Temp\\ipykernel_10116\\2041752881.py:16: SyntaxWarning: invalid escape sequence '\\s'\n",
      "  plt.plot(x_values, sin_values, label='$\\sin(x)$', color='blue')\n",
      "C:\\Users\\marco\\AppData\\Local\\Temp\\ipykernel_10116\\2041752881.py:20: SyntaxWarning: invalid escape sequence '\\s'\n",
      "  plt.title('Comparación de $\\sin(x)$ y $x$')\n"
     ]
    },
    {
     "data": {
      "text/html": [
       "<div>\n",
       "<style scoped>\n",
       "    .dataframe tbody tr th:only-of-type {\n",
       "        vertical-align: middle;\n",
       "    }\n",
       "\n",
       "    .dataframe tbody tr th {\n",
       "        vertical-align: top;\n",
       "    }\n",
       "\n",
       "    .dataframe thead th {\n",
       "        text-align: right;\n",
       "    }\n",
       "</style>\n",
       "<table border=\"1\" class=\"dataframe\">\n",
       "  <thead>\n",
       "    <tr style=\"text-align: right;\">\n",
       "      <th></th>\n",
       "      <th>x</th>\n",
       "      <th>sin(x)</th>\n",
       "      <th>sin(x) - x</th>\n",
       "    </tr>\n",
       "  </thead>\n",
       "  <tbody>\n",
       "    <tr>\n",
       "      <th>0</th>\n",
       "      <td>-6.283185</td>\n",
       "      <td>2.449294e-16</td>\n",
       "      <td>6.283185</td>\n",
       "    </tr>\n",
       "    <tr>\n",
       "      <th>1</th>\n",
       "      <td>-6.220038</td>\n",
       "      <td>6.310563e-02</td>\n",
       "      <td>6.283143</td>\n",
       "    </tr>\n",
       "    <tr>\n",
       "      <th>2</th>\n",
       "      <td>-6.156890</td>\n",
       "      <td>1.259597e-01</td>\n",
       "      <td>6.282850</td>\n",
       "    </tr>\n",
       "    <tr>\n",
       "      <th>3</th>\n",
       "      <td>-6.093743</td>\n",
       "      <td>1.883117e-01</td>\n",
       "      <td>6.282054</td>\n",
       "    </tr>\n",
       "    <tr>\n",
       "      <th>4</th>\n",
       "      <td>-6.030595</td>\n",
       "      <td>2.499130e-01</td>\n",
       "      <td>6.280508</td>\n",
       "    </tr>\n",
       "    <tr>\n",
       "      <th>5</th>\n",
       "      <td>-5.967447</td>\n",
       "      <td>3.105180e-01</td>\n",
       "      <td>6.277965</td>\n",
       "    </tr>\n",
       "    <tr>\n",
       "      <th>6</th>\n",
       "      <td>-5.904300</td>\n",
       "      <td>3.698853e-01</td>\n",
       "      <td>6.274185</td>\n",
       "    </tr>\n",
       "    <tr>\n",
       "      <th>7</th>\n",
       "      <td>-5.841152</td>\n",
       "      <td>4.277781e-01</td>\n",
       "      <td>6.268930</td>\n",
       "    </tr>\n",
       "    <tr>\n",
       "      <th>8</th>\n",
       "      <td>-5.778005</td>\n",
       "      <td>4.839656e-01</td>\n",
       "      <td>6.261970</td>\n",
       "    </tr>\n",
       "    <tr>\n",
       "      <th>9</th>\n",
       "      <td>-5.714857</td>\n",
       "      <td>5.382239e-01</td>\n",
       "      <td>6.253081</td>\n",
       "    </tr>\n",
       "  </tbody>\n",
       "</table>\n",
       "</div>"
      ],
      "text/plain": [
       "          x        sin(x)  sin(x) - x\n",
       "0 -6.283185  2.449294e-16    6.283185\n",
       "1 -6.220038  6.310563e-02    6.283143\n",
       "2 -6.156890  1.259597e-01    6.282850\n",
       "3 -6.093743  1.883117e-01    6.282054\n",
       "4 -6.030595  2.499130e-01    6.280508\n",
       "5 -5.967447  3.105180e-01    6.277965\n",
       "6 -5.904300  3.698853e-01    6.274185\n",
       "7 -5.841152  4.277781e-01    6.268930\n",
       "8 -5.778005  4.839656e-01    6.261970\n",
       "9 -5.714857  5.382239e-01    6.253081"
      ]
     },
     "metadata": {},
     "output_type": "display_data"
    },
    {
     "data": {
      "image/png": "[encoded data removed]",
      "text/plain": [
       "<Figure size 800x600 with 1 Axes>"
      ]
     },
     "metadata": {},
     "output_type": "display_data"
    },
    {
     "name": "stdout",
     "output_type": "stream",
     "text": [
      "Contraejemplos encontrados:\n"
     ]
    },
    {
     "data": {
      "text/html": [
       "<div>\n",
       "<style scoped>\n",
       "    .dataframe tbody tr th:only-of-type {\n",
       "        vertical-align: middle;\n",
       "    }\n",
       "\n",
       "    .dataframe tbody tr th {\n",
       "        vertical-align: top;\n",
       "    }\n",
       "\n",
       "    .dataframe thead th {\n",
       "        text-align: right;\n",
       "    }\n",
       "</style>\n",
       "<table border=\"1\" class=\"dataframe\">\n",
       "  <thead>\n",
       "    <tr style=\"text-align: right;\">\n",
       "      <th></th>\n",
       "      <th>x</th>\n",
       "      <th>sin(x)</th>\n",
       "      <th>sin(x) - x</th>\n",
       "    </tr>\n",
       "  </thead>\n",
       "  <tbody>\n",
       "    <tr>\n",
       "      <th>0</th>\n",
       "      <td>-6.283185</td>\n",
       "      <td>2.449294e-16</td>\n",
       "      <td>6.283185</td>\n",
       "    </tr>\n",
       "    <tr>\n",
       "      <th>1</th>\n",
       "      <td>-6.220038</td>\n",
       "      <td>6.310563e-02</td>\n",
       "      <td>6.283143</td>\n",
       "    </tr>\n",
       "    <tr>\n",
       "      <th>2</th>\n",
       "      <td>-6.156890</td>\n",
       "      <td>1.259597e-01</td>\n",
       "      <td>6.282850</td>\n",
       "    </tr>\n",
       "    <tr>\n",
       "      <th>3</th>\n",
       "      <td>-6.093743</td>\n",
       "      <td>1.883117e-01</td>\n",
       "      <td>6.282054</td>\n",
       "    </tr>\n",
       "    <tr>\n",
       "      <th>4</th>\n",
       "      <td>-6.030595</td>\n",
       "      <td>2.499130e-01</td>\n",
       "      <td>6.280508</td>\n",
       "    </tr>\n",
       "    <tr>\n",
       "      <th>...</th>\n",
       "      <td>...</td>\n",
       "      <td>...</td>\n",
       "      <td>...</td>\n",
       "    </tr>\n",
       "    <tr>\n",
       "      <th>95</th>\n",
       "      <td>-0.284164</td>\n",
       "      <td>-2.803552e-01</td>\n",
       "      <td>0.003809</td>\n",
       "    </tr>\n",
       "    <tr>\n",
       "      <th>96</th>\n",
       "      <td>-0.221017</td>\n",
       "      <td>-2.192216e-01</td>\n",
       "      <td>0.001795</td>\n",
       "    </tr>\n",
       "    <tr>\n",
       "      <th>97</th>\n",
       "      <td>-0.157869</td>\n",
       "      <td>-1.572140e-01</td>\n",
       "      <td>0.000655</td>\n",
       "    </tr>\n",
       "    <tr>\n",
       "      <th>98</th>\n",
       "      <td>-0.094721</td>\n",
       "      <td>-9.457981e-02</td>\n",
       "      <td>0.000142</td>\n",
       "    </tr>\n",
       "    <tr>\n",
       "      <th>99</th>\n",
       "      <td>-0.031574</td>\n",
       "      <td>-3.156855e-02</td>\n",
       "      <td>0.000005</td>\n",
       "    </tr>\n",
       "  </tbody>\n",
       "</table>\n",
       "<p>100 rows × 3 columns</p>\n",
       "</div>"
      ],
      "text/plain": [
       "           x        sin(x)  sin(x) - x\n",
       "0  -6.283185  2.449294e-16    6.283185\n",
       "1  -6.220038  6.310563e-02    6.283143\n",
       "2  -6.156890  1.259597e-01    6.282850\n",
       "3  -6.093743  1.883117e-01    6.282054\n",
       "4  -6.030595  2.499130e-01    6.280508\n",
       "..       ...           ...         ...\n",
       "95 -0.284164 -2.803552e-01    0.003809\n",
       "96 -0.221017 -2.192216e-01    0.001795\n",
       "97 -0.157869 -1.572140e-01    0.000655\n",
       "98 -0.094721 -9.457981e-02    0.000142\n",
       "99 -0.031574 -3.156855e-02    0.000005\n",
       "\n",
       "[100 rows x 3 columns]"
      ]
     },
     "metadata": {},
     "output_type": "display_data"
    }
   ],
   "source": [
    "\n",
    "# Importar bibliotecas necesarias\n",
    "x_values = np.linspace(-2*np.pi, 2*np.pi, 200)  # Rango amplio para analizar\n",
    "sin_values = np.sin(x_values)\n",
    "\n",
    "# Crear una tabla de valores\n",
    "data = pd.DataFrame({\n",
    "    'x': x_values,\n",
    "    'sin(x)': sin_values,\n",
    "    'x': x_values,\n",
    "    'sin(x) - x': sin_values - x_values\n",
    "})\n",
    "display(data.head(10))\n",
    "\n",
    "# Graficar\n",
    "plt.figure(figsize=(8, 6))\n",
    "plt.plot(x_values, sin_values, label='$\\sin(x)$', color='blue')\n",
    "plt.plot(x_values, x_values, label='$x$', color='green')\n",
    "plt.axhline(0, color='black', linestyle='--', linewidth=0.8)\n",
    "plt.legend()\n",
    "plt.title('Comparación de $\\sin(x)$ y $x$')\n",
    "plt.xlabel('$x$')\n",
    "plt.ylabel('Valores')\n",
    "plt.grid()\n",
    "plt.show()\n",
    "\n",
    "# Identificar contraejemplos\n",
    "contraejemplo = data[data['sin(x) - x'] > 0]\n",
    "print(\"Contraejemplos encontrados:\")\n",
    "display(contraejemplo)\n",
    "\n"
   ]
  },
  {
   "cell_type": "markdown",
   "id": "144199ef",
   "metadata": {},
   "source": [
    "\n",
    "---\n",
    "\n",
    "### **Instrucciones para estudiantes**\n",
    "1. Ejecuta los códigos en un cuaderno de Jupyter.\n",
    "2. Analiza las tablas generadas para identificar contraejemplos.\n",
    "3. Interpreta los gráficos y comprueba si coinciden con los datos tabulares.\n",
    "4. Modifica los rangos y valores para explorar otros posibles contraejemplos.\n",
    "\n"
   ]
  },
  {
   "cell_type": "markdown",
   "id": "64ac8d32",
   "metadata": {},
   "source": [
    "# Ejemplo ilustrativo"
   ]
  },
  {
   "cell_type": "markdown",
   "id": "a3e5e6ab",
   "metadata": {},
   "source": [
    "## 20 ejercicios de entrenamiento o adquisición de habilidades obtenido a través de ChatGPT para una formación personalizada y centrada en la habilidad que se quiere lograr con la enseñanza del ejemplo anterior"
   ]
  },
  {
   "cell_type": "markdown",
   "id": "a0cfcc80",
   "metadata": {},
   "source": [
    "\n",
    "1. **Afirmación cuantificada:**  \n",
    "   $$\\forall x, y \\in \\mathbb{R}, \\; x + y = \\sqrt{x^2} + \\sqrt{y^2}.$$  \n",
    "   - 1. Determine el caso general en que se verifica la afirmación.  \n",
    "   - 2. Determine la veracidad de esta afirmación con al menos un contraejemplo.\n",
    "\n",
    "---\n"
   ]
  },
  {
   "cell_type": "markdown",
   "id": "fc0a088f",
   "metadata": {},
   "source": [
    "\n",
    "2. **Afirmación cuantificada:**  \n",
    "   $$\\forall n \\in \\mathbb{N}, \\; n^2 + n + 41 \\; \\text{es un número primo}.$$  \n",
    "   - 1. Determine el caso general en que se verifica la afirmación.  \n",
    "   - 2. Determine la veracidad de esta afirmación con al menos un contraejemplo.\n",
    "\n",
    "---\n"
   ]
  },
  {
   "cell_type": "markdown",
   "id": "60680a93",
   "metadata": {},
   "source": [
    "\n",
    "3. **Afirmación cuantificada:**  \n",
    "   $$\\forall x \\in \\mathbb{R}, \\; \\sin(x) \\leq x.$$  \n",
    "   - 1. Determine el caso general en que se verifica la afirmación.  \n",
    "   - 2. Determine la veracidad de esta afirmación con al menos un contraejemplo.\n",
    "\n",
    "---\n"
   ]
  },
  {
   "cell_type": "markdown",
   "id": "f066fee5",
   "metadata": {},
   "source": [
    "\n",
    "4. **Afirmación cuantificada:**  \n",
    "   $$\\forall x, y \\in \\mathbb{R}, \\; (x + y)^2 = x^2 + y^2.$$  \n",
    "   - 1. Determine el caso general en que se verifica la afirmación.  \n",
    "   - 2. Determine la veracidad de esta afirmación con al menos un contraejemplo.\n",
    "\n",
    "---\n"
   ]
  },
  {
   "cell_type": "markdown",
   "id": "72c0b1e1",
   "metadata": {},
   "source": [
    "\n",
    "5. **Afirmación cuantificada:**  \n",
    "   $$\\forall x \\in \\mathbb{Z}, \\; x^3 \\; \\text{es divisible por 3}.$$  \n",
    "   - 1. Determine el caso general en que se verifica la afirmación.  \n",
    "   - 2. Determine la veracidad de esta afirmación con al menos un contraejemplo.\n",
    "\n",
    "---\n"
   ]
  },
  {
   "cell_type": "markdown",
   "id": "649b80d5",
   "metadata": {},
   "source": [
    "\n",
    "6. **Afirmación cuantificada:**  \n",
    "   $$\\forall x, y \\in \\mathbb{R}, \\; \\max(x, y) = \\frac{x + y}{2}.$$  \n",
    "   - 1. Determine el caso general en que se verifica la afirmación.  \n",
    "   - 2. Determine la veracidad de esta afirmación con al menos un contraejemplo.\n",
    "\n",
    "---\n"
   ]
  },
  {
   "cell_type": "markdown",
   "id": "a064d0a1",
   "metadata": {},
   "source": [
    "\n",
    "7. **Afirmación cuantificada:**  \n",
    "   $$\\forall a, b \\in \\mathbb{R}, \\; a^2 + b^2 \\geq 2ab.$$  \n",
    "   - 1. Determine el caso general en que se verifica la afirmación.  \n",
    "   - 2. Determine la veracidad de esta afirmación con al menos un contraejemplo.\n",
    "\n",
    "---\n"
   ]
  },
  {
   "cell_type": "markdown",
   "id": "68be2749",
   "metadata": {},
   "source": [
    "\n",
    "8. **Afirmación cuantificada:**  \n",
    "   $$\\forall x \\in \\mathbb{R}, \\; x^2 \\geq x.$$  \n",
    "   - 1. Determine el caso general en que se verifica la afirmación.  \n",
    "   - 2. Determine la veracidad de esta afirmación con al menos un contraejemplo.\n",
    "\n",
    "---\n"
   ]
  },
  {
   "cell_type": "markdown",
   "id": "143e118a",
   "metadata": {},
   "source": [
    "\n",
    "9. **Afirmación cuantificada:**  \n",
    "   $$\\forall n \\in \\mathbb{N}, \\; n! > n^2.$$  \n",
    "   - 1. Determine el caso general en que se verifica la afirmación.  \n",
    "   - 2. Determine la veracidad de esta afirmación con al menos un contraejemplo.\n",
    "\n",
    "---\n"
   ]
  },
  {
   "cell_type": "markdown",
   "id": "c6f52cac",
   "metadata": {},
   "source": [
    "\n",
    "10. **Afirmación cuantificada:**  \n",
    "   $$\\forall x \\in \\mathbb{R}, \\; e^x > 1 + x.$$  \n",
    "   - 1. Determine el caso general en que se verifica la afirmación.  \n",
    "   - 2. Determine la veracidad de esta afirmación con al menos un contraejemplo.\n",
    "\n",
    "---\n"
   ]
  },
  {
   "cell_type": "markdown",
   "id": "f7ec770e",
   "metadata": {},
   "source": [
    "\n",
    "11. **Afirmación cuantificada:**  \n",
    "   $$\\forall x, y \\in \\mathbb{R}, \\; \\sqrt{x^2 + y^2} = \\sqrt{x} + \\sqrt{y}.$$  \n",
    "   - 1. Determine el caso general en que se verifica la afirmación.  \n",
    "   - 2. Determine la veracidad de esta afirmación con al menos un contraejemplo.\n",
    "\n",
    "---\n"
   ]
  },
  {
   "cell_type": "markdown",
   "id": "78675f80",
   "metadata": {},
   "source": [
    "\n",
    "12. **Afirmación cuantificada:**  \n",
    "   $$\\forall x \\in \\mathbb{R}, \\; \\ln(x) > x.$$  \n",
    "   - 1. Determine el caso general en que se verifica la afirmación.  \n",
    "   - 2. Determine la veracidad de esta afirmación con al menos un contraejemplo.\n"
   ]
  },
  {
   "cell_type": "markdown",
   "id": "8ef74271",
   "metadata": {},
   "source": [
    "\n",
    "---\n",
    "\n",
    "13. **Afirmación cuantificada:**  \n",
    "   $$\\forall n \\in \\mathbb{N}, \\; 2^n > n^2.$$  \n",
    "   - 1. Determine el caso general en que se verifica la afirmación.  \n",
    "   - 2. Determine la veracidad de esta afirmación con al menos un contraejemplo.\n",
    "\n",
    "---\n"
   ]
  },
  {
   "cell_type": "markdown",
   "id": "e8df1f5c",
   "metadata": {},
   "source": [
    "\n",
    "14. **Afirmación cuantificada:**  \n",
    "   $$\\forall x \\in \\mathbb{R}, \\; x^4 > x^2.$$  \n",
    "   - 1. Determine el caso general en que se verifica la afirmación.  \n",
    "   - 2. Determine la veracidad de esta afirmación con al menos un contraejemplo.\n",
    "\n",
    "---\n"
   ]
  },
  {
   "cell_type": "markdown",
   "id": "6c5f8d0f",
   "metadata": {},
   "source": [
    "\n",
    "15. **Afirmación cuantificada:**  \n",
    "   $$\\forall x \\in \\mathbb{R}, \\; x + x^{-1} > 2.$$  \n",
    "   - 1. Determine el caso general en que se verifica la afirmación.  \n",
    "   - 2. Determine la veracidad de esta afirmación con al menos un contraejemplo.\n",
    "   - 3. Utilice Geogebra para visualizar la afirmación. Y redacte conclusiones. \n",
    "\n",
    "---\n"
   ]
  },
  {
   "cell_type": "markdown",
   "id": "6e14b218",
   "metadata": {},
   "source": [
    "\n",
    "16. **Afirmación cuantificada:**  \n",
    "   $$\\forall x \\in \\mathbb{R}, \\; \\tan(x) \\geq \\sin(x).$$  \n",
    "   - 1. Determine el caso general en que se verifica la afirmación.  \n",
    "   - 2. Determine la veracidad de esta afirmación con al menos un contraejemplo.\n",
    "\n",
    "---\n"
   ]
  },
  {
   "cell_type": "markdown",
   "id": "c1b6549e",
   "metadata": {},
   "source": [
    "\n",
    "17. **Afirmación cuantificada:**  \n",
    "   $$\\forall x, y \\in \\mathbb{R}, \\; x \\cdot y \\geq x + y.$$  \n",
    "   - 1. Determine el caso general en que se verifica la afirmación.  \n",
    "   - 2. Determine la veracidad de esta afirmación con al menos un contraejemplo.\n",
    "   - 3. Utilice GeoGebra para visualizar la afirmación y verificar su veracidad.\n",
    "---\n"
   ]
  },
  {
   "cell_type": "markdown",
   "id": "0571d5dc",
   "metadata": {},
   "source": [
    "\n",
    "18. **Afirmación cuantificada:**  \n",
    "   $$\\forall x \\in \\mathbb{R}, \\; \\cos^2(x) > \\sin^2(x).$$  \n",
    "   - 1. Determine el caso general en que se verifica la afirmación.  \n",
    "   - 2. Determine la veracidad de esta afirmación con al menos un contraejemplo.\n",
    "\n",
    "---\n"
   ]
  },
  {
   "cell_type": "markdown",
   "id": "ddcb2e7b",
   "metadata": {},
   "source": [
    "\n",
    "19. **Afirmación cuantificada:**  \n",
    "   $$\\forall n \\in \\mathbb{Z}, \\; n^2 + n \\; \\text{no es divisible entre 2}.$$  \n",
    "   - 1. Determine el caso general en que se verifica la afirmación.  \n",
    "   - 2. Determine la veracidad de esta afirmación con al menos un contraejemplo.\n",
    "\n",
    "---\n"
   ]
  },
  {
   "cell_type": "markdown",
   "id": "f5e1cae6",
   "metadata": {},
   "source": [
    "\n",
    "20. **Afirmación cuantificada:**  \n",
    "   $$\\forall x \\in \\mathbb{R}, \\; (x + 1)^3 = x^{3} + 1.$$  \n",
    "   - 1. Determine el caso general en que se verifica la afirmación.  \n",
    "   - 2. Determine la veracidad de esta afirmación con al menos un contraejemplo.\n",
    "\n",
    "---\n"
   ]
  },
  {
   "cell_type": "markdown",
   "id": "769fb13c",
   "metadata": {},
   "source": [
    "\n",
    "## Pasos para lograr el objetivo de aprendizaje con la experimentación en la calculadora Casio 991LA cw  "
   ]
  },
  {
   "cell_type": "markdown",
   "id": "8d41fe58",
   "metadata": {
    "slideshow": {
     "slide_type": "slide"
    }
   },
   "source": [
    "# Horario de clases del profesor Marco\n",
    "\n",
    "* Lunes 8-12: Cálculo Vectorial\n",
    "* Martes 8-12 M: Fundamentos de Aritmética. \n",
    "* Miércoles 8 a 12 M: Fundamentos de la Lógica\n",
    "* Jueves 2 a 6 PM: Desarrollo del pensamiento matemático en la infancia. \n",
    "* Viernes 8 - 12 M: Desarrollo del pensamiento matemático en la infancia. \n",
    "* Sábados 8-12 Asesorías y espacio para retroalimentación y apoyo al trabajo independiente. "
   ]
  },
  {
   "cell_type": "markdown",
   "id": "ae114e14",
   "metadata": {
    "slideshow": {
     "slide_type": "slide"
    }
   },
   "source": [
    "# Horarios de monitoría y asesoría  \n",
    "\n",
    "Coordinador de los cursos de la Facultad de Educación para regiones:    \n",
    "\n",
    "Andrés Vélez: regioneducacion.fedu@udea.edu.co  \n",
    "Coordinador Regiones  \n",
    "Facultad de Educación  \n",
    "Universidad de Antioquia  "
   ]
  },
  {
   "cell_type": "markdown",
   "id": "b1db4b6c",
   "metadata": {
    "slideshow": {
     "slide_type": "slide"
    }
   },
   "source": [
    "## Monitor Manuel San Juan Serrano\n",
    "\n",
    "Contactar escribiendo al correo: manuel.serrano1@udea.edu.co"
   ]
  },
  {
   "cell_type": "markdown",
   "id": "39559692",
   "metadata": {
    "slideshow": {
     "slide_type": "slide"
    }
   },
   "source": [
    "Martes y jueves de 8 - 12  \n",
    "Miércoles 10 - 12 y de 2 a 4 PM  \n",
    "Sábado: 8 - 12"
   ]
  },
  {
   "cell_type": "markdown",
   "id": "5a190057",
   "metadata": {},
   "source": [
    "## Monitoría virtual   \n",
    "\n",
    "Telefono del monitos en whatsApp: 3043936088  \n",
    "\n",
    "Juan David Cano Castrillón  \n",
    "Estudiante de Pregrado.  \n",
    "juan.canoc1@udea.edu.co  \n",
    "3043936088  \n"
   ]
  },
  {
   "cell_type": "markdown",
   "id": "10bce0d0",
   "metadata": {
    "slideshow": {
     "slide_type": "slide"
    }
   },
   "source": [
    "## Referentes "
   ]
  },
  {
   "cell_type": "markdown",
   "id": "1db3c468",
   "metadata": {
    "slideshow": {
     "slide_type": "slide"
    }
   },
   "source": [
    "* [Grajales Vanegas, L. M., Restrepo Estrada, C. E., Restrepo Ochoa, S. I., & Ruíz De Villalba, F. (2015). Matemáticas I para las ciencias económicas.](https://github.com/marco-canas/fundamentos_de_la_aritmetica/blob/main/referentes/2_grajales_logica/grajales_lina_matemticas.pdf)\n",
    "  \n",
    "* Duval, R. (2004). Semiosis y pensamiento humano: registros semióticos y aprendizajes intelectuales. Universidad del Valle.\n",
    "\n",
    "* [Aylwin, C. U. (2011). Lógica, conjuntos y números. Universidad de los Andes, Consejo de Publicaciones, Colección: Ciencias Básicas, Serie: Matemáticas.](https://github.com/marco-canas/fundamentos_logica/blob/main/referentes/2_uzcategui/uscategui.pdf)\n",
    "  \n",
    "* [Chollet, F. (2021). Deep learning with Python. Simon and Schuster.](https://github.com/marco-canas/didactica_ciencia_datos/blob/main/2_referentes/chollet/Fran%C3%A7ois%20Chollet%20-%20Deep%20Learning%20with%20Python-Manning%20(2018).pdf)  \n",
    "  \n",
    "* [Watson, S., Stewart, J., & Redlin, L. (2009). Precálculo. Matemáticas para el cálculo.](https://github.com/marco-canas/calculo/blob/main/referents/1_precalculo_stewart/stewart_precalculo.pdf)  \n",
    "\n",
    "* [Purcell, E. J., Varberg, D., & Rigdon, S. E. (2007). Cálculo diferencial e integral. Pearson Educación.](https://github.com/marco-canas/calculo/blob/main/referents/purcell/purcell_calculo.pdf)\n",
    "\n",
    "  \n",
    "\n",
    "* [stewart cálculo](https://udeaeduco-my.sharepoint.com/:b:/g/personal/marco_canas_udea_edu_co/EZgXZjAp8QxPqOAim2hs6LcBNPLGjSHf-xwYnUVYkwa04w?e=RZdTCy)  \n",
    "\n",
    "* [larson](https://udeaeduco-my.sharepoint.com/:b:/g/personal/marco_canas_udea_edu_co/ES71ChFeO9ZDhW3TwC5Ijk8BjxUK3Pdqz_fjHxTTFAfIAg?e=VDEjfu)\n",
    "\n",
    "\n",
    "\n",
    "* [Recomendación de la UNESCO sobre ciencia abierta](https://unesdoc.unesco.org/ark:/48223/pf0000379949_spa)\n",
    "\n",
    "* [chatGPT](https://openai.com/blog/chatgpt)  \n",
    "\n",
    "* [Géron, A. (2017). Hands-on machine learning with scikit-learn and tensorflow: Concepts. Tools, and Techniques to build intelligent systems.](https://github.com/marco-canas/didactica_ciencia_datos/blob/main/2_referentes/geron/Hands-On%20Machine%20Learning-3nd_Edition(2022).pdf)  \n",
    "\n",
    "* [McKinney, W. (2012). Python for data analysis: Data wrangling with Pandas, NumPy, and IPython. \" O'Reilly Media, Inc.\".](https://github.com/marco-canas/didactica_ciencia_datos/blob/main/2_referentes/mckinney/Wes_McKinney.pdf)  "
   ]
  },
  {
   "cell_type": "markdown",
   "id": "8e65d6f9",
   "metadata": {},
   "source": [
    "# Como estudiante, encuentro que...   \n",
    "\n",
    "F: Mis Fortalezas son:     \n",
    "O: Mis Oportunidades son:    \n",
    "D: Mis Debilidades son:    \n",
    "A: Lo que Amenazas mi aprendizaje es:  "
   ]
  },
  {
   "cell_type": "markdown",
   "id": "6b9e56a8",
   "metadata": {
    "slideshow": {
     "slide_type": "slide"
    }
   },
   "source": [
    "### [Evaluamos al profesor Marco Cañas Aquí](https://forms.office.com/Pages/ResponsePage.aspx?id=IefhmYRxjkmK_7KtTlPBwkanXIs1i1FEujpsZgO6dXpUREJPV1kxUk1JV1ozTFJIQVNIQjY5WEY3US4u)"
   ]
  },
  {
   "cell_type": "markdown",
   "id": "10f43536",
   "metadata": {
    "slideshow": {
     "slide_type": "slide"
    }
   },
   "source": [
    "### Continue su aprendizaje en la siguiente clase a través del siguiente [vínculo]()"
   ]
  },
  {
   "cell_type": "markdown",
   "id": "ba236f4d",
   "metadata": {},
   "source": [
    "### **Actividad de Clase: Expresar Ideas, Dudas y Emociones de Manera Respetuosa y Asertiva**\n"
   ]
  },
  {
   "cell_type": "markdown",
   "id": "33bcd185",
   "metadata": {},
   "source": [
    "\n",
    "**Objetivo:**  \n",
    "Desarrollar habilidades de comunicación efectiva en los estudiantes para que puedan expresar sus ideas, dudas y emociones de forma respetuosa y asertiva.\n"
   ]
  },
  {
   "cell_type": "markdown",
   "id": "701a6b0c",
   "metadata": {},
   "source": [
    "\n",
    "**Duración:**  \n",
    "15-20 minutos\n",
    "\n",
    "---\n"
   ]
  },
  {
   "cell_type": "markdown",
   "id": "f61da648",
   "metadata": {},
   "source": [
    "\n",
    "### **1. Introducción (5 minutos)**  \n",
    "- **Tema:** Introducir a los estudiantes al concepto de la comunicación asertiva, explicando cómo expresar pensamientos y emociones de manera clara y respetuosa sin agredir o ser pasivo.\n",
    "- **Dinámica:** Mostrar dos ejemplos contrastantes: uno de comunicación pasiva/agresiva y otro de comunicación asertiva. Preguntar a los estudiantes cuál creen que es más efectivo y por qué.\n"
   ]
  },
  {
   "cell_type": "markdown",
   "id": "fb5fcc8d",
   "metadata": {},
   "source": [
    "\n",
    "**Materiales:**  \n",
    "- Pizarra o diapositivas con ejemplos de frases pasivas, agresivas y asertivas.\n",
    "  \n",
    "**Ejemplo:**  \n",
    "- **Pasivo:** “Bueno… no sé si es una buena idea, pero… tal vez podrías intentarlo.”\n",
    "- **Agresivo:** “¡Tu idea es terrible, no va a funcionar!”\n",
    "- **Asertivo:** “Creo que podríamos mejorar esa idea si consideramos otro enfoque.”\n",
    "\n",
    "---\n"
   ]
  },
  {
   "cell_type": "markdown",
   "id": "b5445d5e",
   "metadata": {},
   "source": [
    "\n",
    "### **2. Ejercicio en Parejas (10 minutos)**  \n",
    "- **Instrucciones:** Dividir a los estudiantes en parejas. Darles diferentes situaciones cotidianas en las que deben comunicarse (pedir ayuda, expresar desacuerdo, compartir una idea, etc.). Cada pareja debe crear una breve conversación donde practiquen la comunicación asertiva.\n",
    "  \n",
    "**Situaciones propuestas:**\n",
    "  - Expresar desacuerdo con un compañero sobre una tarea de grupo.\n",
    "  - Pedirle ayuda al profesor sobre un concepto difícil.\n",
    "  - Expresar frustración por un malentendido en clase.\n",
    "\n",
    "- **Reglas:** Cada estudiante debe asegurarse de usar lenguaje respetuoso y asertivo para expresar su posición y emociones. Al final, cada pareja debe compartir con la clase un ejemplo de lo que discutieron.\n",
    "\n",
    "---\n"
   ]
  },
  {
   "cell_type": "markdown",
   "id": "9bcd1b30",
   "metadata": {},
   "source": [
    "\n",
    "### **3. Retroalimentación y Discusión (5 minutos)**  \n",
    "- **Discusión:** Invitar a algunos estudiantes a compartir sus experiencias de la actividad. \n",
    "- **Preguntas:** ¿Cómo se sintieron al intentar ser asertivos? ¿Les resultó difícil? ¿Cómo fue recibido el mensaje?\n",
    "  \n",
    "**Consejo:** Resaltar la importancia de practicar la asertividad como una herramienta para mejorar la comunicación interpersonal y reducir conflictos.\n",
    "\n",
    "---\n"
   ]
  },
  {
   "cell_type": "markdown",
   "id": "512fe655",
   "metadata": {},
   "source": [
    "\n",
    "### **Cierre**  \n",
    "- Resumir las características de la comunicación asertiva: uso de \"yo\" en lugar de \"tú\" para evitar culpabilizar, tono de voz calmado, y respeto hacia el interlocutor.\n",
    "- **Tarea opcional:** Pedirles que practiquen la comunicación asertiva en sus conversaciones durante la semana y escriban una reflexión breve sobre cómo les fue.\n"
   ]
  },
  {
   "cell_type": "markdown",
   "id": "42b177d7",
   "metadata": {},
   "source": [
    "\n",
    "**Material adicional:**  \n",
    "- Video corto o recurso digital sobre la importancia de la comunicación asertiva."
   ]
  },
  {
   "cell_type": "markdown",
   "id": "53cc9115",
   "metadata": {
    "slideshow": {
     "slide_type": "slide"
    }
   },
   "source": [
    "## Agradecimientos  \n",
    "\n",
    "Doy gracias a Dios por la vida de mi Hijo Joseph Cañas Osorio y la madurez que ha alcanzado. Este hijo me enorgullece y me hace falta abrazarlo cada día. \n",
    "\n",
    "Y a mi esposa Yasmira Emperatriz Barboza Mogollón por su apoyo, orientación y acompañamiento. "
   ]
  },
  {
   "cell_type": "markdown",
   "id": "88f7dbda",
   "metadata": {},
   "source": []
  }
 ],
 "metadata": {
  "celltoolbar": "Slideshow",
  "kernelspec": {
   "display_name": "base",
   "language": "python",
   "name": "python3"
  },
  "language_info": {
   "codemirror_mode": {
    "name": "ipython",
    "version": 3
   },
   "file_extension": ".py",
   "mimetype": "text/x-python",
   "name": "python",
   "nbconvert_exporter": "python",
   "pygments_lexer": "ipython3",
   "version": "3.12.4"
  },
  "rise": {
   "enable_chalkboard": true,
   "theme": "sky",
   "transition": "zoom"
  }
 },
 "nbformat": 4,
 "nbformat_minor": 5
}
