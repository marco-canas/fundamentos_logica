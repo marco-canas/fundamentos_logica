{
 "cells": [
  {
   "cell_type": "markdown",
   "id": "dc06dec7",
   "metadata": {
    "slideshow": {
     "slide_type": "slide"
    }
   },
   "source": [
    "<table align=\"left\">\n",
    "  <td>\n",
    "    <a href=\"https://colab.research.google.com/github/marco-canas/didactica_ciencia_datos/blob/main/1_curso_machine_learning/1_evaluacion_oral_tarea_quiz_parcial.ipynb\" target=\"_parent\"><img src=\"https://colab.research.google.com/assets/colab-badge.svg\" alt=\"Open In Colab\"/></a>\n",
    "  </td>\n",
    "  <td>\n",
    "    <a target=\"_blank\" href=\"https://kaggle.com/kernels/welcome?src=https://github.com/marco-canas/didactica_ciencia_datos/blob/main/1_curso_machine_learning/1_evaluacion_oral_tarea_quiz_parcial.ipynb\"><img src=\"https://kaggle.com/static/images/open-in-kaggle.svg\" /></a>\n",
    "  </td>\n",
    "</table>"
   ]
  },
  {
   "cell_type": "markdown",
   "id": "e0c5b198",
   "metadata": {
    "slideshow": {
     "slide_type": "slide"
    }
   },
   "source": [
    "### [Video de apoyo a la lectura interactiva y experimental de este cuaderno]()"
   ]
  },
  {
   "cell_type": "markdown",
   "id": "41e82203",
   "metadata": {
    "slideshow": {
     "slide_type": "slide"
    }
   },
   "source": [
    "## [Vínculo al programa del curso:  ]()"
   ]
  },
  {
   "cell_type": "markdown",
   "id": "ca46c23b",
   "metadata": {
    "slideshow": {
     "slide_type": "slide"
    }
   },
   "source": [
    "# Modelo general de clase: [aula invertida](https://www3.gobiernodecanarias.org/medusa/ecoescuela/pedagotic/aprendizaje-invertido-flipped-classroom/)\n"
   ]
  },
  {
   "cell_type": "markdown",
   "id": "7f9be90f",
   "metadata": {
    "slideshow": {
     "slide_type": "slide"
    }
   },
   "source": [
    "# Fomento de la lectura literaria asociada a Ingeniería agropecuaria y licenciatura en Matemáticas y administración de empresas\n",
    "\n",
    "[Hábitos atómicos](https://github.com/marco-canas/habitos_atomicos/blob/main/13_como_dejar_de_postergar_usando_la_regla_de_los_dos_minutos/1_13_como_dejar_de_postergar_usando_la_regla_de_los_dos_minutos.ipynb)"
   ]
  },
  {
   "cell_type": "markdown",
   "id": "96775931",
   "metadata": {
    "slideshow": {
     "slide_type": "slide"
    }
   },
   "source": [
    "# Título de la clase: Realización evaluación oral, de Tareas en cuadernos Jupyter, Quiz o Parcial de selección múltiple o de preguntas cerradas.  \n",
    "\n"
   ]
  },
  {
   "cell_type": "markdown",
   "id": "cf101603",
   "metadata": {},
   "source": [
    "# Prompt para pedir el diseño de evaluación de acuerdo a la metodología de \"Enseñanza basada en proyectos\"  \n"
   ]
  },
  {
   "cell_type": "markdown",
   "id": "75a9d96e",
   "metadata": {},
   "source": [
    "Dame, por favor, un diseño de clase, con los enfoques: de Aula Invertida, STEAMS  y de Aprendizaje Basado en Problemas y Proyectos(ABPP); sobre: **\"Las leyes de la Lógica\"**, siguiendo la estructura:   \n",
    "\n",
    "1. Título de la clase \n",
    "2. Objetivo de aprendizaje e indicadores de logro de estos objetivos. \n",
    "3.  Un mapa conceptual que resuma la clase elaborado en Graphviz de python con nodos y edges de diferentes formas, colores y rellenos y renderizado en la siguiente ubicación: `\"C:/Users/marco/Descargas\"`. No olvides el parámetro `view = True` para el método `render()` de Graphviz. Para este mapa controla las superposiciones de los nodos con: graph [overlap=false]; // Elimina superposiciones (puede aumentar el espacio)\n",
    "graph [overlap=\"scalexy\"]; // Escala el gráfico para evitar overlaps\n",
    "graph [overlap=\"compress\"]; // Comprime el grafo sin overlaps   \n",
    "   \n",
    "4. Contenido de la clase: \n",
    "     a. Idempotencia: $p \\lor p \\iff p$ y $p \\land p \\iff p$.\n",
    "     b. Identidad: $p \\lor V \\iff V$, $p \\lor F \\iff p$, $p \\land p \\iff p$ y $p \\land F \\iff F$ .\n",
    "     c. Comutatividad: $p \\lor q \\iff q \\lor p$ y $p \\land q \\iff q \\land p$.\n",
    "     d. Asociatividad: $(p \\lor q) \\lor r \\iff p \\lor (q \\lor r)$ y $(p \\land q) \\land r \\iff p \\land (q \\land r)$.\n",
    "     e. Distributividad: $p \\land (q \\lor r) \\iff (p \\land q) \\lor (p \\land r)$ y $p \\lor (q \\land r) \\iff (p \\lor q) \\land (p \\lor r)$. \n",
    "     f. Ley de la doble negación: $\\neg \\neg p \\iff p$.\n",
    "     g. Ley del tercero excluido: $p \\lor \\neg p \\iff V$.\n",
    "     h. Ley de la contradicción: $p \\land \\neg p \\iff F$. \n",
    "     i. Leyes de De Morgan: $\\neg (p \\land q) \\iff \\neg p \\lor \\neg q$ y $\\neg (p \\lor q) \\iff \\neg p \\land \\neg q$.\n",
    "     j. Definición alterna del condicional: $p \\to q \\iff \\neg p \\lor q$.\n",
    "     k. Ley de absorción: $p \\land (p \\lor q) \\iff p$ y $p \\lor (p \\land q) \\iff p$.\n",
    "     l. Definición alterna del bicondicional: $p \\iff q \\iff (p \\to q) \\land (q \\to p)$\n",
    "\n",
    "   \n",
    "5. Incluye una canción o un poema que ayude a interiorizar y fijar los conceptos asociados a esta clase.  \n",
    "   \n",
    "6. Dame elementos históricos y epistemológicos asociados a esta clase, pero contados como un cuento al estilo de un cuentero antioqueño en Colombia. Incluye imágenes de los protagonistas históricos de esta clase.   \n",
    "   \n",
    "7. Actividades de aprendizaje    \n",
    "     * Incluya actividades de aprendizaje utilizando Calculadora **Casio 991 LA cw**\n",
    "     * Incluya también actividades de aprendizaje y modelación de situaciones o problemas reales a través de circuitos lógicos y circuitos digitales o electrónicos utilizando la aplicación portable cocodrilo. [Descarge esta aplicación portable aquí](https://crocodileclips.net/descargar-crocodile-clips/) \n",
    "8. Evaluación incluyendo diez proyectos, un ejemplo de quiz y un ejemplo de parcial.  \n",
    "     * Diseña el quiz con preguntas, donde se pida al estudiante el mostrar la aplicación de las expresiones lógicas en contextos: \n",
    "       - Deportivos\n",
    "       - Cotidianos\n",
    "       - Matemáticas en teoría de números \n",
    "       - Matemáticas en geometría euclidiana\n",
    "       - Matemática en Cálculo Diferencial.\n",
    "       - Económicos. \n",
    "9.  Tarea o actividades de ejercitación y fijación.  \n",
    "    \n",
    "10. Diseño de actividad de retroalimentación.  \n",
    "      \n",
    "11. Dame un vocabulario y frases del idioma inglés asociadas a esta clase.   \n",
    "    \n",
    "12. Incluye apéndice para la clase sobre desarrollo de habilidades para trabajar en equipo y de asertividad y empatía para relacionarnos. También elementos de la inteligencia emocional para presentar pruebas sin temor y sin realizar fraude en ellas.   \n",
    "13. Incluye 10 referentes en didáctica de la matemática que estén de acuerdo a la propuesta didáctica de esta clase. Adiciona a estos referentes a Raymond Duval (Representaciones y cambios de representación para la adquisición de conceptos matemáticos) y a Janete Wing (Desarrollo del pensamiento computacional). Dejame todos estos referentes ordenados de acuerdo a las normas APA. Dejame todos estos referentes ordenados de acuerdo a las normas APA. Incluye las citaciones a estos referentes a medida que vallas diseñando la clase. \n",
    "\n",
    "\n",
    "Pero  que este diseño sea para que el estudiante pueda aprender experimentando en cuadernos Jupyter con funciones de usuario y animaciones y visualizaciones en python. En particular utiliza para el diseño de clase a Numpy, Pandas, SymPy, Matplotlib.pyplot, Seaborn, Plotly, ipywidgets, matplotlib.animation y Jupyter Notebook.  \n",
    "Cuando vallas a utilizar SymPy, ten en cuanta la siguiente configuración: \n",
    "# Corrección y mejora del código\n",
    "from sympy import symbols, Equivalent\n",
    "from sympy.logic.boolalg import truth_table\n",
    "\n",
    "Cada vez que utilices `matplotlib.animacion` no olvides incluir el uso de `IPython. display` para la rederización de estas animaciones a través de Jupyter Notebook. No olvides darme los diseños de clase con las ecuaciones matemáticas delimitadas con signo de dolar $ para que VS Code si me renderize estas expresiones del lenguaje latex. Cuando vallas a utilizar ipywidgets ten en cuenta la siguiente importación inicial para garantizar que la visualización interactiva si se renderize en VS Code: import numpy as np\n",
    "import matplotlib.pyplot as plt\n",
    "import ipywidgets as widgets\n",
    "from IPython.display import display, clear_output\n",
    "from matplotlib.patches import Rectangle\n",
    "\n",
    "# Configuración inicial para visualización estática\n",
    "%matplotlib inline "
   ]
  },
  {
   "cell_type": "markdown",
   "id": "42797498",
   "metadata": {},
   "source": [
    "A continuación, te presento un diseño de clase detallado que integra los enfoques de Aula Invertida, STEAMS (Ciencia, Tecnología, Ingeniería, Artes, Matemáticas y Sociedad) y Aprendizaje Basado en Problemas y Proyectos (ABPP) sobre el tema **\"Las leyes de la Lógica\"**. Este diseño está pensado para ser implementado en un entorno de aprendizaje interactivo utilizando cuadernos Jupyter con Python y sus librerías asociadas.\n",
    "\n",
    "---\n"
   ]
  },
  {
   "cell_type": "markdown",
   "id": "899035ba",
   "metadata": {},
   "source": [
    "\n",
    "### 1. **Título de la clase**  \n",
    "**\"Las leyes de la Lógica: Fundamentos para el pensamiento crítico y computacional\"**\n",
    "\n",
    "---\n",
    "\n",
    "### 2. **Objetivo de aprendizaje e indicadores de logro**  \n",
    "**Objetivo de aprendizaje:**  \n",
    "Comprender y aplicar las leyes de la lógica proposicional en la resolución de problemas matemáticos, computacionales y cotidianos, utilizando herramientas tecnológicas y enfoques colaborativos.\n",
    "\n",
    "**Indicadores de logro:**  \n",
    "- Identifica y explica las leyes de la lógica proposicional (idempotencia, identidad, conmutatividad, asociatividad, distributividad, etc.).  \n",
    "- Aplica las leyes de la lógica en la simplificación de expresiones lógicas y en la construcción de circuitos digitales.  \n",
    "- Utiliza herramientas como Python, SymPy y Crocodile Clips para modelar y resolver problemas lógicos.  \n",
    "- Trabaja en equipo para diseñar proyectos que integren las leyes de la lógica en contextos reales.  \n",
    "- Desarrolla habilidades de pensamiento crítico y computacional a través de la experimentación y la visualización interactiva.  \n",
    "\n",
    "---\n",
    "\n",
    "### 3. **Mapa conceptual**  \n",
    "El mapa conceptual se genera utilizando Graphviz en Python. El código para generarlo es el siguiente:\n",
    "\n",
    "```python\n",
    "from graphviz import Digraph\n",
    "\n",
    "# Crear el grafo\n",
    "graph = Digraph('Leyes_de_la_Logica', format='png')\n",
    "graph.attr(overlap='false')  # Evitar superposiciones\n",
    "graph.attr(splines='true')   # Mejorar la distribución de los nodos\n",
    "\n",
    "# Nodos principales\n",
    "graph.node('A', 'Leyes de la Lógica', shape='ellipse', style='filled', color='lightblue')\n",
    "graph.node('B', 'Idempotencia', shape='box', style='filled', color='lightcoral')\n",
    "graph.node('C', 'Identidad', shape='box', style='filled', color='lightcoral')\n",
    "graph.node('D', 'Conmutatividad', shape='box', style='filled', color='lightcoral')\n",
    "graph.node('E', 'Asociatividad', shape='box', style='filled', color='lightcoral')\n",
    "graph.node('F', 'Distributividad', shape='box', style='filled', color='lightcoral')\n",
    "graph.node('G', 'Leyes de De Morgan', shape='box', style='filled', color='lightcoral')\n",
    "graph.node('H', 'Leyes de Negación', shape='box', style='filled', color='lightcoral')\n",
    "graph.node('I', 'Aplicaciones', shape='ellipse', style='filled', color='lightgreen')\n",
    "\n",
    "# Conexiones\n",
    "graph.edge('A', 'B')\n",
    "graph.edge('A', 'C')\n",
    "graph.edge('A', 'D')\n",
    "graph.edge('A', 'E')\n",
    "graph.edge('A', 'F')\n",
    "graph.edge('A', 'G')\n",
    "graph.edge('A', 'H')\n",
    "graph.edge('B', 'I')\n",
    "graph.edge('C', 'I')\n",
    "graph.edge('D', 'I')\n",
    "graph.edge('E', 'I')\n",
    "graph.edge('F', 'I')\n",
    "graph.edge('G', 'I')\n",
    "graph.edge('H', 'I')\n",
    "\n",
    "# Renderizar y guardar\n",
    "graph.render('C:/Users/marco/Descargas/Leyes_de_la_Logica', view=True)\n",
    "```\n",
    "\n",
    "---\n",
    "\n",
    "### 4. **Contenido de la clase**  \n",
    "El contenido se divide en los siguientes temas:  \n",
    "1. **Idempotencia**: $p \\lor p \\iff p$ y $p \\land p \\iff p$.  \n",
    "2. **Identidad**: $p \\lor V \\iff V$, $p \\lor F \\iff p$, $p \\land p \\iff p$ y $p \\land F \\iff F$.  \n",
    "3. **Conmutatividad**: $p \\lor q \\iff q \\lor p$ y $p \\land q \\iff q \\land p$.  \n",
    "4. **Asociatividad**: $(p \\lor q) \\lor r \\iff p \\lor (q \\lor r)$ y $(p \\land q) \\land r \\iff p \\land (q \\land r)$.  \n",
    "5. **Distributividad**: $p \\land (q \\lor r) \\iff (p \\land q) \\lor (p \\land r)$ y $p \\lor (q \\land r) \\iff (p \\lor q) \\land (p \\lor r)$.  \n",
    "6. **Ley de la doble negación**: $\\neg \\neg p \\iff p$.  \n",
    "7. **Ley del tercero excluido**: $p \\lor \\neg p \\iff V$.  \n",
    "8. **Ley de la contradicción**: $p \\land \\neg p \\iff F$.  \n",
    "9. **Leyes de De Morgan**: $\\neg (p \\land q) \\iff \\neg p \\lor \\neg q$ y $\\neg (p \\lor q) \\iff \\neg p \\land \\neg q$.  \n",
    "10. **Definición alterna del condicional**: $p \\to q \\iff \\neg p \\lor q$.  \n",
    "11. **Ley de absorción**: $p \\land (p \\lor q) \\iff p$ y $p \\lor (p \\land q) \\iff p$.  \n",
    "12. **Definición alterna del bicondicional**: $p \\iff q \\iff (p \\to q) \\land (q \\to p)$.  \n",
    "\n",
    "---\n",
    "\n",
    "### 5. **Canción o poema**  \n",
    "**Poema:**  \n",
    "\"La lógica es un arte,  \n",
    "que con razón se imparte,  \n",
    "con leyes claras y precisas,  \n",
    "resuelve dudas y sonrisas.  \n",
    "De Morgan, con su ingenio,  \n",
    "nos dejó un gran consejo:  \n",
    "niega y une, separa y junta,  \n",
    "y la verdad siempre se confronta.\"  \n",
    "\n",
    "---\n",
    "\n",
    "### 6. **Elementos históricos y epistemológicos**  \n",
    "**Cuento al estilo antioqueño:**  \n",
    "\"Érase una vez, en la antigua Grecia, un filósofo llamado Aristóteles, quien, con su sabiduría, sentó las bases de la lógica. Él decía: 'El hombre es un animal racional', y con esa idea, comenzó a estudiar cómo pensamos y cómo podemos llegar a la verdad. Muchos años después, George Boole, un matemático inglés, tomó esas ideas y las convirtió en álgebra, creando lo que hoy conocemos como lógica booleana. Y así, con el tiempo, la lógica se convirtió en la base de la computación moderna, gracias a mentes brillantes como Claude Shannon, quien aplicó estas leyes a los circuitos electrónicos.\"  \n",
    "\n",
    "**Imágenes:**  \n",
    "- Aristóteles: [Insertar imagen]  \n",
    "- George Boole: [Insertar imagen]  \n",
    "- Claude Shannon: [Insertar imagen]  \n",
    "\n",
    "---\n",
    "\n",
    "### 7. **Actividades de aprendizaje**  \n",
    "1. **Con la calculadora Casio 991 LA cw**: Simplifica expresiones lógicas utilizando las leyes aprendidas.  \n",
    "2. **Con Crocodile Clips**: Diseña circuitos lógicos que implementen las leyes de De Morgan y la distributividad.  \n",
    "3. **En Jupyter Notebook**:  \n",
    "   - Usa SymPy para verificar las leyes de la lógica.  \n",
    "   - Crea animaciones con `matplotlib.animation` para visualizar las tablas de verdad.  \n",
    "   - Utiliza `ipywidgets` para crear interfaces interactivas que permitan explorar las leyes de la lógica.  \n",
    "\n",
    "---\n"
   ]
  },
  {
   "cell_type": "markdown",
   "id": "181220c5",
   "metadata": {},
   "source": [
    "\n",
    "### 8. **Evaluación**  \n",
    "- **Proyectos**: Diseña 10 proyectos que apliquen las leyes de la lógica en contextos como deportes, economía, teoría de números, etc.  \n",
    "- **Quiz**: Preguntas como: \"Aplica la ley de De Morgan para simplificar $\\neg (p \\land q)$\".  \n",
    "- **Parcial**: Incluye problemas que integren múltiples leyes de la lógica.  \n",
    "\n",
    "---\n"
   ]
  },
  {
   "cell_type": "markdown",
   "id": "7af70913",
   "metadata": {},
   "source": [
    "A continuación, te presento las **10 propuestas de proyectos**, **tres ejemplos de quices** y **tres ejemplos de parciales** para la clase sobre **\"Las leyes de la Lógica\"**. Cada actividad está diseñada para que los estudiantes apliquen las expresiones lógicas en diversos contextos, fomentando el pensamiento crítico y la resolución de problemas.\n",
    "\n",
    "---\n",
    "\n",
    "### **10 Propuestas de Proyectos**\n"
   ]
  },
  {
   "cell_type": "markdown",
   "id": "d6ccbe4c",
   "metadata": {},
   "source": [
    "\n",
    "1. **Diseño de un sistema de semáforos inteligentes**:  \n",
    "   - Aplicar las leyes de la lógica para optimizar el flujo de tráfico en una intersección.  \n",
    "   - Usar Crocodile Clips para simular el circuito lógico.  \n"
   ]
  },
  {
   "cell_type": "markdown",
   "id": "91fc2a6a",
   "metadata": {},
   "source": [
    "\n",
    "2. **Creación de un juego de preguntas y respuestas**:  \n",
    "   - Diseñar un circuito lógico que evalúe respuestas correctas e incorrectas.  \n",
    "   - Implementar las leyes de De Morgan para simplificar el circuito.  \n"
   ]
  },
  {
   "cell_type": "markdown",
   "id": "12c8d564",
   "metadata": {},
   "source": [
    "\n",
    "3. **Modelado de un sistema de riego automático**:  \n",
    "   - Usar lógica proposicional para determinar cuándo regar un cultivo basado en condiciones climáticas.  \n",
    "   - Simular el sistema en Python con SymPy.  \n"
   ]
  },
  {
   "cell_type": "markdown",
   "id": "c848bbb8",
   "metadata": {},
   "source": [
    "\n",
    "4. **Diseño de un sistema de seguridad para una casa**:  \n",
    "   - Aplicar las leyes de la lógica para activar alarmas basadas en sensores de movimiento y puertas.  \n",
    "   - Crear el circuito en Crocodile Clips.  \n",
    "\n",
    "5. **Optimización de rutas de entrega**:  \n",
    "   - Usar lógica proposicional para determinar la ruta más eficiente para un repartidor.  \n",
    "   - Implementar el modelo en Python con Pandas y SymPy.  \n",
    "\n",
    "6. **Simulación de un sistema de votación electrónica**:  \n",
    "   - Diseñar un circuito lógico que cuente votos y determine el ganador.  \n",
    "   - Aplicar las leyes de la distributividad y asociatividad.  \n",
    "\n",
    "7. **Creación de un asistente virtual básico**:  \n",
    "   - Usar lógica proposicional para responder preguntas simples (sí/no).  \n",
    "   - Implementar el sistema en Python con SymPy.  \n",
    "\n",
    "8. **Diseño de un sistema de control de inventarios**:  \n",
    "   - Aplicar las leyes de la lógica para determinar cuándo reordenar productos.  \n",
    "   - Simular el sistema en Python con Pandas.  \n",
    "\n",
    "9. **Modelado de un sistema de préstamos bancarios**:  \n",
    "   - Usar lógica proposicional para aprobar o rechazar préstamos basados en condiciones financieras.  \n",
    "   - Implementar el modelo en Python con SymPy.  \n",
    "\n",
    "10. **Diseño de un sistema de control de acceso**:  \n",
    "   - Aplicar las leyes de la lógica para permitir o denegar el acceso a un área restringida.  \n",
    "   - Crear el circuito en Crocodile Clips.  \n",
    "\n",
    "---\n"
   ]
  },
  {
   "cell_type": "markdown",
   "id": "944f9453",
   "metadata": {},
   "source": [
    "\n",
    "### **Tres Ejemplos de Quices**\n"
   ]
  },
  {
   "cell_type": "markdown",
   "id": "bbbf08a2",
   "metadata": {},
   "source": [
    "\n",
    "#### **Quiz 1**  \n",
    "1. **Contexto Deportivo**:  \n",
    "   - En un partido de fútbol, un jugador puede anotar un gol si está en posición de ataque y no está fuera de juego. Define las proposiciones lógicas y escribe la expresión lógica que represente esta situación.  (Ojo, al definir las proposiciones lógicas, por favor presente la oración gramatical completa que define a la proposición, es decir, entregue todo el sujeto y todo el predicado.)\n",
    "\n",
    "2. **Contexto Cotidiano**:  \n",
    "   - Si una persona quiere comprar un helado, debe tener dinero y la heladería debe estar abierta. Simplifica la expresión lógica usando las leyes de la lógica.  \n",
    "\n",
    "3. **Contexto Matemático (Teoría de Números)**:  \n",
    "   - Un número es divisible por 6 si es divisible por 2 y por 3. Escribe la expresión lógica que represente esta condición y simplifícala.  \n",
    "\n",
    "---\n"
   ]
  },
  {
   "cell_type": "markdown",
   "id": "03e88677",
   "metadata": {},
   "source": [
    "\n",
    "#### **Quiz 2**  \n",
    "1. **Contexto Matemático (Geometría Euclidiana)**:  \n",
    "   - Un triángulo es equilátero si y solo si todos sus lados son iguales y todos sus ángulos son iguales. Escribe la expresión lógica que represente esta condición.  \n",
    "\n",
    "2. **Contexto Económico**:  \n",
    "   - Una inversión es rentable si el retorno es mayor que el costo y el riesgo es bajo. Simplifica la expresión lógica usando las leyes de De Morgan.  \n",
    "\n",
    "3. **Contexto Cotidiano**:  \n",
    "   - Un estudiante puede graduarse si aprueba todas las materias y completa el servicio social. Escribe la expresión lógica que represente esta situación.  \n",
    "\n",
    "---\n"
   ]
  },
  {
   "cell_type": "markdown",
   "id": "65183361",
   "metadata": {},
   "source": [
    "\n",
    "#### **Quiz 3**  \n",
    "1. **Contexto Matemático (Cálculo Diferencial)**:  \n",
    "   - Una función es continua en un punto si el límite existe y es igual al valor de la función en ese punto. Escribe la expresión lógica que represente esta condición.  \n",
    "\n",
    "2. **Contexto Deportivo**:  \n",
    "   - Un equipo gana un partido si anota más goles que el oponente y no comete faltas graves. Simplifica la expresión lógica usando las leyes de la lógica.  \n",
    "\n",
    "3. **Contexto Económico**:  \n",
    "   - Un producto es competitivo si su precio es bajo y su calidad es alta. Escribe la expresión lógica que represente esta situación.  \n",
    "\n",
    "---\n"
   ]
  },
  {
   "cell_type": "markdown",
   "id": "02fb57c3",
   "metadata": {},
   "source": [
    "\n",
    "### **Tres Ejemplos de Parciales**\n",
    "\n",
    "#### **Parcial 1**  \n",
    "1. **Contexto Deportivo**:  \n",
    "   - En un torneo de baloncesto, un equipo avanza a la siguiente ronda si gana al menos dos de tres partidos. Escribe la expresión lógica que represente esta condición.  \n",
    "\n",
    "2. **Contexto Cotidiano**:  \n",
    "   - Una persona puede viajar si tiene pasaporte y visa, o si es ciudadano del país de destino. Simplifica la expresión lógica usando las leyes de la lógica.  \n",
    "\n",
    "3. **Contexto Matemático (Teoría de Números)**:  \n",
    "   - Un número es primo si es mayor que 1 y no tiene divisores excepto 1 y sí mismo. Escribe la expresión lógica que represente esta condición.  \n",
    "\n",
    "4. **Contexto Matemático (Geometría Euclidiana)**:  \n",
    "   - Un cuadrilátero es un rectángulo si y solo si todos sus ángulos son rectos y sus lados opuestos son iguales. Escribe la expresión lógica que represente esta condición.  \n",
    "\n",
    "5. **Contexto Económico**:  \n",
    "   - Un negocio es rentable si los ingresos son mayores que los costos y la demanda es alta. Simplifica la expresión lógica usando las leyes de De Morgan.  \n",
    "\n",
    "---\n"
   ]
  },
  {
   "cell_type": "markdown",
   "id": "a3ffdff0",
   "metadata": {},
   "source": [
    "\n",
    "#### **Parcial 2**  \n",
    "1. **Contexto Deportivo**:  \n",
    "   - Un jugador de tenis gana un set si gana al menos 6 juegos y tiene una ventaja de 2 juegos sobre el oponente. Escribe la expresión lógica que represente esta condición.  \n",
    "\n",
    "2. **Contexto Cotidiano**:  \n",
    "   - Un estudiante puede inscribirse en una clase si ha aprobado el prerrequisito y hay cupos disponibles. Simplifica la expresión lógica usando las leyes de la lógica.  \n",
    "\n",
    "3. **Contexto Matemático (Cálculo Diferencial)**:  \n",
    "   - Una función es derivable en un punto si es continua en ese punto y no tiene picos. Escribe la expresión lógica que represente esta condición.  \n",
    "\n",
    "4. **Contexto Económico**:  \n",
    "   - Un proyecto es viable si el retorno de la inversión es positivo y el riesgo es manejable. Simplifica la expresión lógica usando las leyes de la lógica.  \n",
    "\n",
    "5. **Contexto Matemático (Teoría de Números)**:  \n",
    "   - Un número es par si es divisible por 2. Escribe la expresión lógica que represente esta condición.  \n",
    "\n",
    "---\n"
   ]
  },
  {
   "cell_type": "markdown",
   "id": "59620f80",
   "metadata": {},
   "source": [
    "\n",
    "#### **Parcial 3**  \n",
    "1. **Contexto Deportivo**:  \n",
    "   - Un equipo de béisbol gana un juego si anota más carreras que el oponente en 9 entradas. Escribe la expresión lógica que represente esta condición.  \n",
    "\n",
    "2. **Contexto Cotidiano**:  \n",
    "   - Una persona puede comprar un automóvil si tiene licencia de conducir y suficiente dinero. Simplifica la expresión lógica usando las leyes de la lógica.  \n",
    "\n",
    "3. **Contexto Matemático (Geometría Euclidiana)**:  \n",
    "   - Un triángulo es isósceles si tiene al menos dos lados iguales. Escribe la expresión lógica que represente esta condición.  \n",
    "\n",
    "4. **Contexto Económico**:  \n",
    "   - Un producto no es de lujo si su precio no es alto o su demanda no es exclusiva. Simplifica la expresión lógica usando las leyes de De Morgan.  \n",
    "\n",
    "5. **Contexto Matemático (Cálculo Diferencial)**:  \n",
    "   - Una función tiene un máximo local en un punto si su derivada es cero y la segunda derivada es negativa. Escribe la expresión lógica que represente esta condición.  \n",
    "\n",
    "---\n"
   ]
  },
  {
   "cell_type": "markdown",
   "id": "62e39b05",
   "metadata": {},
   "source": [
    "\n",
    "Estas propuestas de proyectos, quices y parciales están diseñadas para que los estudiantes apliquen las leyes de la lógica en contextos variados, fomentando su comprensión y capacidad de resolución de problemas."
   ]
  },
  {
   "cell_type": "markdown",
   "id": "964594b9",
   "metadata": {},
   "source": [
    "\n",
    "### 9. **Tarea o actividades de ejercitación**  \n",
    "- Resuelve ejercicios de simplificación de expresiones lógicas.  \n",
    "- Diseña circuitos lógicos en Crocodile Clips.  \n",
    "\n",
    "---\n"
   ]
  },
  {
   "cell_type": "markdown",
   "id": "35c024eb",
   "metadata": {},
   "source": [
    "\n",
    "### 10. **Actividad de retroalimentación**  \n",
    "- Revisión en equipo de los proyectos y discusión de los resultados.  \n",
    "\n",
    "---\n"
   ]
  },
  {
   "cell_type": "markdown",
   "id": "152e47fe",
   "metadata": {},
   "source": [
    "\n",
    "### 11. **Vocabulario en inglés**  \n",
    "- Logic: Lógica  \n",
    "- Proposition: Proposición  \n",
    "- Truth table: Tabla de verdad  \n",
    "- Circuit: Circuito  \n",
    "- Boolean algebra: Álgebra booleana  \n",
    "\n",
    "---\n"
   ]
  },
  {
   "cell_type": "markdown",
   "id": "6029d9ab",
   "metadata": {},
   "source": [
    "\n",
    "### 12. **Apéndice**  \n",
    "- Desarrollo de habilidades de trabajo en equipo.  \n",
    "- Inteligencia emocional para afrontar evaluaciones.  \n",
    "\n",
    "---\n"
   ]
  },
  {
   "cell_type": "markdown",
   "id": "c51909aa",
   "metadata": {},
   "source": [
    "\n",
    "### 13. **Referentes en didáctica de la matemática**  \n",
    "1. Duval, R. (1999). *Representaciones y cambios de representación para la adquisición de conceptos matemáticos*.  \n",
    "2. Wing, J. (2006). *Desarrollo del pensamiento computacional*.  \n",
    "3. [Incluir otros 8 referentes siguiendo normas APA].  \n",
    "\n",
    "---\n"
   ]
  },
  {
   "cell_type": "markdown",
   "id": "8178f050",
   "metadata": {},
   "source": [
    "\n",
    "Este diseño de clase integra herramientas tecnológicas y enfoques pedagógicos modernos para facilitar el aprendizaje activo y significativo de las leyes de la lógica."
   ]
  },
  {
   "cell_type": "markdown",
   "id": "fb9402bb",
   "metadata": {
    "slideshow": {
     "slide_type": "slide"
    }
   },
   "source": [
    "## Estrategias propuestas para la solución de las dificultades de aprendizaje detectadas"
   ]
  },
  {
   "cell_type": "markdown",
   "id": "2dd3bd5c",
   "metadata": {
    "slideshow": {
     "slide_type": "slide"
    }
   },
   "source": []
  },
  {
   "cell_type": "markdown",
   "id": "c6236d5d",
   "metadata": {},
   "source": [
    "# FODA del grupo y del profesor  \n",
    "\n",
    "* F: Fortalezas\n",
    "* O: Oportunidades\n",
    "* D: Dificultades\n",
    "* A: Amenazas."
   ]
  },
  {
   "cell_type": "markdown",
   "id": "b48f9542",
   "metadata": {},
   "source": [
    "## ¿Cómo se sintió en este espacio de enseñanza y aprendizaje?\n",
    "\n",
    "!Dios te bendiga¡"
   ]
  },
  {
   "cell_type": "markdown",
   "id": "10bce0d0",
   "metadata": {
    "slideshow": {
     "slide_type": "slide"
    }
   },
   "source": [
    "## Referentes "
   ]
  },
  {
   "cell_type": "markdown",
   "id": "d204c917",
   "metadata": {},
   "source": [
    "* [Grajales Vanegas, L. M., Restrepo Estrada, C. E., Restrepo Ochoa, S. I., & Ruíz De Villalba, F. (2015). Matemáticas I para las ciencias económicas.](https://github.com/marco-canas/fundamentos_de_la_aritmetica/blob/main/referentes/2_grajales_logica/grajales_lina_matemticas.pdf)\n",
    "  \n",
    "* Duval, R. (2004). Semiosis y pensamiento humano: registros semióticos y aprendizajes intelectuales. Universidad del Valle.\n",
    "\n",
    "* [Aylwin, C. U. (2011). Lógica, conjuntos y números. Universidad de los Andes, Consejo de Publicaciones, Colección: Ciencias Básicas, Serie: Matemáticas.](https://github.com/marco-canas/fundamentos_logica/blob/main/referentes/2_uzcategui/uscategui.pdf)\n",
    "  \n",
    "* [Chollet, F. (2021). Deep learning with Python. Simon and Schuster.](https://github.com/marco-canas/didactica_ciencia_datos/blob/main/2_referentes/chollet/Fran%C3%A7ois%20Chollet%20-%20Deep%20Learning%20with%20Python-Manning%20(2018).pdf)  \n",
    "  \n",
    "* [Watson, S., Stewart, J., & Redlin, L. (2009). Precálculo. Matemáticas para el cálculo.](https://github.com/marco-canas/calculo/blob/main/referents/1_precalculo_stewart/stewart_precalculo.pdf)  \n",
    "\n",
    "* [Purcell, E. J., Varberg, D., & Rigdon, S. E. (2007). Cálculo diferencial e integral. Pearson Educación.](https://github.com/marco-canas/calculo/blob/main/referents/purcell/purcell_calculo.pdf)\n",
    "\n",
    "  \n",
    "\n",
    "* [stewart cálculo](https://udeaeduco-my.sharepoint.com/:b:/g/personal/marco_canas_udea_edu_co/EZgXZjAp8QxPqOAim2hs6LcBNPLGjSHf-xwYnUVYkwa04w?e=RZdTCy)  \n",
    "\n",
    "* [larson](https://udeaeduco-my.sharepoint.com/:b:/g/personal/marco_canas_udea_edu_co/ES71ChFeO9ZDhW3TwC5Ijk8BjxUK3Pdqz_fjHxTTFAfIAg?e=VDEjfu)\n",
    "\n",
    "\n",
    "\n",
    "* [Recomendación de la UNESCO sobre ciencia abierta](https://unesdoc.unesco.org/ark:/48223/pf0000379949_spa)\n",
    "\n",
    "* [chatGPT](https://openai.com/blog/chatgpt)  \n",
    "\n",
    "* [Géron, A. (2017). Hands-on machine learning with scikit-learn and tensorflow: Concepts. Tools, and Techniques to build intelligent systems.](chrome-extension://efaidnbmnnnibpcajpcglclefindmkaj/http://14.139.161.31/OddSem-0822-1122/Hands-On_Machine_Learning_with_Scikit-Learn-Keras-and-TensorFlow-2nd-Edition-Aurelien-Geron.pdf)   \n"
   ]
  },
  {
   "cell_type": "markdown",
   "id": "6b9e56a8",
   "metadata": {
    "slideshow": {
     "slide_type": "slide"
    }
   },
   "source": [
    "### [Evaluamos al profesor Marco Cañas Aquí](https://forms.office.com/Pages/ResponsePage.aspx?id=IefhmYRxjkmK_7KtTlPBwkanXIs1i1FEujpsZgO6dXpUREJPV1kxUk1JV1ozTFJIQVNIQjY5WEY3US4u)"
   ]
  },
  {
   "cell_type": "markdown",
   "id": "071afa04",
   "metadata": {
    "slideshow": {
     "slide_type": "slide"
    }
   },
   "source": [
    "## [Evaluación luego de alcanzar estos objetivos de aprendizaje]()"
   ]
  },
  {
   "cell_type": "markdown",
   "id": "10f43536",
   "metadata": {
    "slideshow": {
     "slide_type": "slide"
    }
   },
   "source": [
    "### Continue su aprendizaje en la siguiente clase a través del siguiente [vínculo]()"
   ]
  },
  {
   "cell_type": "markdown",
   "id": "af751e30",
   "metadata": {
    "slideshow": {
     "slide_type": "slide"
    }
   },
   "source": [
    "# Conjeturas pedagógicas fruto de la aplicación del modelo de aprendizaje invertido y del enfoque hacia la ciencia de datos con python\n",
    "\n",
    "1. Todo cálculo o resultado debe ser interpretado en una línea markdown del cuaderno Jupyter, inmediatamente después de la enunciación del resultado y después de la presentación de una tabla o gráfico bidimensional, de tal menera que el estudiante explicite la comprensión verbal del resultado y las inferencias o estrategias que este resultado le sugieren.   "
   ]
  }
 ],
 "metadata": {
  "celltoolbar": "Slideshow",
  "kernelspec": {
   "display_name": "Python 3 (ipykernel)",
   "language": "python",
   "name": "python3"
  },
  "language_info": {
   "codemirror_mode": {
    "name": "ipython",
    "version": 3
   },
   "file_extension": ".py",
   "mimetype": "text/x-python",
   "name": "python",
   "nbconvert_exporter": "python",
   "pygments_lexer": "ipython3",
   "version": "3.10.12"
  },
  "rise": {
   "enable_chalkboard": true,
   "theme": "sky",
   "transition": "zoom"
  }
 },
 "nbformat": 4,
 "nbformat_minor": 5
}
