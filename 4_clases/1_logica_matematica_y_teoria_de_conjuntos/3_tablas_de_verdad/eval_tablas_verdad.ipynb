{
 "cells": [
  {
   "cell_type": "markdown",
   "id": "dc06dec7",
   "metadata": {
    "slideshow": {
     "slide_type": "slide"
    }
   },
   "source": [
    "<table align=\"left\">\n",
    "  <td>\n",
    "    <a href=\"https://colab.research.google.com/github/marco-canas/didactica_ciencia_datos/blob/main/1_curso_machine_learning/1_evaluacion_oral_tarea_quiz_parcial.ipynb\" target=\"_parent\"><img src=\"https://colab.research.google.com/assets/colab-badge.svg\" alt=\"Open In Colab\"/></a>\n",
    "  </td>\n",
    "  <td>\n",
    "    <a target=\"_blank\" href=\"https://kaggle.com/kernels/welcome?src=https://github.com/marco-canas/didactica_ciencia_datos/blob/main/1_curso_machine_learning/1_evaluacion_oral_tarea_quiz_parcial.ipynb\"><img src=\"https://kaggle.com/static/images/open-in-kaggle.svg\" /></a>\n",
    "  </td>\n",
    "</table>"
   ]
  },
  {
   "cell_type": "markdown",
   "id": "e0c5b198",
   "metadata": {
    "slideshow": {
     "slide_type": "slide"
    }
   },
   "source": [
    "### [Video de apoyo a la lectura interactiva y experimental de este cuaderno]()"
   ]
  },
  {
   "cell_type": "markdown",
   "id": "41e82203",
   "metadata": {
    "slideshow": {
     "slide_type": "slide"
    }
   },
   "source": [
    "## [Vínculo al programa del curso:  ]()"
   ]
  },
  {
   "cell_type": "markdown",
   "id": "ca46c23b",
   "metadata": {
    "slideshow": {
     "slide_type": "slide"
    }
   },
   "source": [
    "# Modelo general de clase: [aula invertida](https://www3.gobiernodecanarias.org/medusa/ecoescuela/pedagotic/aprendizaje-invertido-flipped-classroom/)\n"
   ]
  },
  {
   "cell_type": "markdown",
   "id": "7f9be90f",
   "metadata": {
    "slideshow": {
     "slide_type": "slide"
    }
   },
   "source": [
    "# Fomento de la lectura literaria asociada a Ingeniería agropecuaria y licenciatura en Matemáticas y administración de empresas\n",
    "\n",
    "[Hábitos atómicos](https://github.com/marco-canas/habitos_atomicos/blob/main/13_como_dejar_de_postergar_usando_la_regla_de_los_dos_minutos/1_13_como_dejar_de_postergar_usando_la_regla_de_los_dos_minutos.ipynb)"
   ]
  },
  {
   "cell_type": "markdown",
   "id": "96775931",
   "metadata": {
    "slideshow": {
     "slide_type": "slide"
    }
   },
   "source": [
    "# Título de la clase: Realización evaluación Tablas de verdad \n"
   ]
  },
  {
   "cell_type": "markdown",
   "id": "cf101603",
   "metadata": {},
   "source": [
    "# Prompt para pedir el diseño de evaluación de acuerdo a la metodología de \"Enseñanza basada en proyectos\"  \n",
    "\n",
    "Dame, por favor, un diseño de clase, con el enfoque: \"Aula Invertida, STEAMS y De aprendizaje basado en problemas y proyectos(ABPP)\" sobre: \" \", siguiendo la estructura:  \n",
    "\n",
    "1. Título de la clase \n",
    "2. Objetivos de aprendizaje que incluyan los indicadores del logro de estos objetivos.\n",
    "3. Un mapa conceptual que resuma la clase elaborado en Graphviz de python con nodos y edges de diferentes formas, colores y rellenos y renderizado en la siguiente ubicación: `\"C:/Users/marco/Descargas\"`. No olvides el parámetro `view = True` ppara el método render() de graphviz. \n",
    "4. Dame elementos históricos y epistemológicos asociados a esta clase, pero contados como un cuento al estilo de un cuentero antioqueño en Colombia. Incluye imágenes de los protagonistas históricos de esta clase. \n",
    "5. Contenido de la clase. Que el contenido parta de una situación real para llegar a una constitución del modelo matemático que represente tal situación real. \n",
    "6. Actividades de aprendizaje\n",
    "7. Incluye una canción o un poema que ayude a interiorizar y fijar los conceptos asociados a esta clase. \n",
    "8. Tarea o actividades de ejercitación y fijación\n",
    "9. Evaluación incluyendo diez proyectos, un ejemplo de quiz (de tres preguntas) y un ejemplo de parcial (de cinco puntos)\n",
    "10. Diseño de actividad de retroalimentación. \n",
    "11. Dame un vocabulario y frases del idioma inglés asociadas a esta clase.   \n",
    "\n",
    "Pero  que este diseño sea para que el estudiante pueda aprender experimentando en cuadernos Jupyter con funciones de usuario y animaciones y visualizaciones en python. En particular utiliza para el diseño de clase a Numpy, Pandas, SymPy, Matplotlib.pyplot, Seaborn, Plotly, ipywidgets, matplotlib.animation y Jupyter Notebook.  Cada vez que utilices `matplotlib.animacion` no olvides incluir el uso de `IPython. display` para la rederización de estas animaciones a través de Jupyter Notebook. No olvides darme los diseños de clase con las ecuaciones matemáticas delimitadas con signo de dolar $ para que VS Code si me renderize estas expresiones del lenguaje latex. Cuando vallas a utilizar ipywidgets ten en cuenta la siguiente importación inicial para garantizar que la visualización interactiva si se renderize en VS Code: import numpy as np\n",
    "import matplotlib.pyplot as plt\n",
    "import ipywidgets as widgets\n",
    "from IPython.display import display, clear_output\n",
    "from matplotlib.patches import Rectangle\n",
    "\n",
    "# Configuración inicial para visualización estática\n",
    "%matplotlib inline "
   ]
  },
  {
   "cell_type": "markdown",
   "id": "42797498",
   "metadata": {},
   "source": [
    "**1. Título de la clase**  \n",
    "**\"STEAM-Powered Truth Tables: Coding Logic with Python\"**  \n"
   ]
  },
  {
   "cell_type": "markdown",
   "id": "e5be9acc",
   "metadata": {},
   "source": [
    "\n",
    "---\n",
    "\n",
    "**2. Objetivo de aprendizaje e indicadores de logro**  \n",
    "**Objetivo:**  \n",
    "*Diseñar e implementar tablas de verdad en Python utilizando herramientas STEAM, resolviendo problemas lógicos mediante ABPP.*  \n",
    "\n",
    "**Indicadores de logro:**  \n",
    "- Crea funciones en Python para generar tablas de verdad con `numpy` y `sympy`.  \n",
    "- Analiza proposiciones compuestas usando conectores lógicos ($\\land, \\lor, \\neg, \\rightarrow$).  \n",
    "- Diseña visualizaciones interactivas con `ipywidgets` y animaciones con `matplotlib.animation`.  \n",
    "- Aplica tablas de verdad en proyectos interdisciplinares (ej: circuitos electrónicos, ética en IA).  \n",
    "\n",
    "---\n"
   ]
  },
  {
   "cell_type": "markdown",
   "id": "54d79ed1",
   "metadata": {},
   "source": [
    "\n",
    "**3. Mapa conceptual** "
   ]
  },
  {
   "cell_type": "code",
   "execution_count": 7,
   "id": "bf61ee5a",
   "metadata": {},
   "outputs": [
    {
     "data": {
      "text/plain": [
       "'C:\\\\Users\\\\marco\\\\Descargas\\\\mapa_tablas_verdad.gv.png'"
      ]
     },
     "execution_count": 7,
     "metadata": {},
     "output_type": "execute_result"
    }
   ],
   "source": [
    "# Instala graphviz si es necesario: !pip install graphviz\n",
    "from graphviz import Digraph\n",
    "\n",
    "dot = Digraph(comment='Tablas de Verdad', format='png')\n",
    "dot.attr('node', shape='box', style='filled', fillcolor='#E6F3FF', color='#2B65EC')\n",
    "dot.node('A', 'Lógica Proposicional')\n",
    "dot.node('B', 'Proposiciones\\n(Atómicas/Compuestas)', shape='ellipse', fillcolor='#FFE4E1')\n",
    "dot.node('C', 'Conectivos Lógicos\\n(AND, OR, NOT, →)', shape='diamond', fillcolor='#90EE90')\n",
    "dot.node('D', 'Tablas de Verdad', shape='parallelogram', fillcolor='#FFD700')\n",
    "dot.node('E', 'Aplicaciones\\n(Circuitos, Algoritmos)', shape='hexagon', fillcolor='#FFA07A')\n",
    "\n",
    "dot.edges(['AB', 'AC', 'AD', 'BD', 'CD', 'DE'])\n",
    "dot.render(directory='C:/Users/marco/Descargas', filename='mapa_tablas_verdad.gv', view = True)\n",
    "\n"
   ]
  },
  {
   "cell_type": "markdown",
   "id": "e068f31c",
   "metadata": {},
   "source": [
    "![Mapa conceptual](C:/Users/marco/Descargas/mapa_tablas_verdad.gv.png)  \n",
    "\n",
    "---\n"
   ]
  },
  {
   "cell_type": "markdown",
   "id": "97c3aa18",
   "metadata": {},
   "source": [
    "\n",
    "**4. Contenido de la clase**  \n",
    "**a. Conceptos básicos:**  \n",
    "- **Proposición:** Expresión con valor $V$ o $F$ (ej: $p =$ \"Llueve\").  \n",
    "- **Conectivos:**  \n",
    "  - $p \\land q$ (AND): $V$ solo si ambos son $V$.  \n",
    "  - $p \\lor q$ (OR): $F$ solo si ambos son $F$.  \n",
    "  - $\\neg p$ (NOT): Invierte el valor.  \n",
    "  - $p \\rightarrow q$: $F$ solo si $p=V$ y $q=F$.  \n",
    "\n",
    "**b. Tabla de verdad con Python:**  \n"
   ]
  },
  {
   "cell_type": "code",
   "execution_count": 10,
   "id": "f3869b1e",
   "metadata": {},
   "outputs": [
    {
     "data": {
      "application/vnd.microsoft.datawrangler.viewer.v0+json": {
       "columns": [
        {
         "name": "index",
         "rawType": "int64",
         "type": "integer"
        },
        {
         "name": "p",
         "rawType": "bool",
         "type": "boolean"
        },
        {
         "name": "q",
         "rawType": "bool",
         "type": "boolean"
        },
        {
         "name": "Resultado Implies(p, q)",
         "rawType": "object",
         "type": "unknown"
        }
       ],
       "conversionMethod": "pd.DataFrame",
       "ref": "e1a47704-4ada-42b0-bfad-2938176f4082",
       "rows": [
        [
         "0",
         "False",
         "False",
         "True"
        ],
        [
         "1",
         "False",
         "True",
         "True"
        ],
        [
         "2",
         "True",
         "False",
         "False"
        ],
        [
         "3",
         "True",
         "True",
         "True"
        ]
       ],
       "shape": {
        "columns": 3,
        "rows": 4
       }
      },
      "text/html": [
       "<div>\n",
       "<style scoped>\n",
       "    .dataframe tbody tr th:only-of-type {\n",
       "        vertical-align: middle;\n",
       "    }\n",
       "\n",
       "    .dataframe tbody tr th {\n",
       "        vertical-align: top;\n",
       "    }\n",
       "\n",
       "    .dataframe thead th {\n",
       "        text-align: right;\n",
       "    }\n",
       "</style>\n",
       "<table border=\"1\" class=\"dataframe\">\n",
       "  <thead>\n",
       "    <tr style=\"text-align: right;\">\n",
       "      <th></th>\n",
       "      <th>p</th>\n",
       "      <th>q</th>\n",
       "      <th>Resultado Implies(p, q)</th>\n",
       "    </tr>\n",
       "  </thead>\n",
       "  <tbody>\n",
       "    <tr>\n",
       "      <th>0</th>\n",
       "      <td>False</td>\n",
       "      <td>False</td>\n",
       "      <td>True</td>\n",
       "    </tr>\n",
       "    <tr>\n",
       "      <th>1</th>\n",
       "      <td>False</td>\n",
       "      <td>True</td>\n",
       "      <td>True</td>\n",
       "    </tr>\n",
       "    <tr>\n",
       "      <th>2</th>\n",
       "      <td>True</td>\n",
       "      <td>False</td>\n",
       "      <td>False</td>\n",
       "    </tr>\n",
       "    <tr>\n",
       "      <th>3</th>\n",
       "      <td>True</td>\n",
       "      <td>True</td>\n",
       "      <td>True</td>\n",
       "    </tr>\n",
       "  </tbody>\n",
       "</table>\n",
       "</div>"
      ],
      "text/plain": [
       "       p      q Resultado Implies(p, q)\n",
       "0  False  False                    True\n",
       "1  False   True                    True\n",
       "2   True  False                   False\n",
       "3   True   True                    True"
      ]
     },
     "metadata": {},
     "output_type": "display_data"
    }
   ],
   "source": [
    "import numpy as np\n",
    "import pandas as pd\n",
    "from sympy import symbols, And, Or, Not, Implies\n",
    "\n",
    "p, q = symbols('p q')\n",
    "proposicion = Implies(p, q)\n",
    "\n",
    "def generar_tabla(func):\n",
    "    combinaciones = np.array(np.meshgrid([False, True], [False, True])).T.reshape(-1,2)\n",
    "    df = pd.DataFrame(combinaciones, columns=['p', 'q'])\n",
    "    df[f'Resultado {func}'] = [func.subs({p: row[0], q: row[1]}) for row in combinaciones]\n",
    "    return df\n",
    "\n",
    "display(generar_tabla(proposicion))\n",
    "\n"
   ]
  },
  {
   "cell_type": "markdown",
   "id": "091bcb8d",
   "metadata": {},
   "source": [
    "\n",
    "---\n",
    "\n",
    "**5. Canción/Poema**  \n",
    "**\"La Cumbia de los Verdadines\"** (Ritmo de cumbia colombiana):  \n"
   ]
  },
  {
   "cell_type": "markdown",
   "id": "bbcb7d81",
   "metadata": {},
   "source": [
    "\n",
    "Si p es V y q es F, la implicación ¡ay, no es verdad!  \n",
    "El AND es exigente, dos verdades pide él.  \n",
    "OR es más consentidor, con una V, ¡ya está bien!  \n",
    "NOT revuelve la tortilla, lo que es V lo vuelve F.  \n",
    "¡Tablas de verdad, mi gente, resuelven cualquier problemita!  \n",
    "\n",
    "\n",
    "---\n"
   ]
  },
  {
   "cell_type": "markdown",
   "id": "cb2fe264",
   "metadata": {},
   "source": [
    "\n",
    "**6. Historia epistemológica**  \n",
    "**\"El Misterio de los Símbolos Lógicos\"**  \n",
    "Érase una vez, en el frío norte de Inglaterra, un joven George Boole (imagen: `C:/Users/marco/Descargas/boole.jpg`) que soñaba con convertir el pensamiento en ecuaciones. \"¡Las ideas son como números!\", decía, mientras escribía $x \\cdot y$ para el \"y\" lógico. Años después, un alemán llamado Frege (imagen: `C:/Users/marco/Descargas/frege.jpg`) unió lógica y matemáticas con su *Begriffsschrift*, ¡y el mundo nunca fue igual! Hoy, hasta tu celular usa sus reglas para tomar decisiones... ¿Quién dijo que la lógica no era mágica?  \n",
    "\n",
    "---\n"
   ]
  },
  {
   "cell_type": "markdown",
   "id": "536ab506",
   "metadata": {},
   "source": [
    "\n",
    "**7. Actividades de aprendizaje**  \n",
    "**a. Laboratorio interactivo:** "
   ]
  },
  {
   "cell_type": "code",
   "execution_count": 6,
   "id": "0dc70f57",
   "metadata": {},
   "outputs": [
    {
     "data": {
      "application/vnd.microsoft.datawrangler.viewer.v0+json": {
       "columns": [
        {
         "name": "index",
         "rawType": "object",
         "type": "string"
        },
        {
         "name": "Valor",
         "rawType": "bool",
         "type": "boolean"
        }
       ],
       "conversionMethod": "pd.DataFrame",
       "ref": "ba24b0b6-0fa0-4f97-8b81-3fd009a64c2f",
       "rows": [
        [
         "AND",
         "True"
        ],
        [
         "OR",
         "True"
        ],
        [
         "NOT p",
         "False"
        ],
        [
         "p → q",
         "True"
        ]
       ],
       "shape": {
        "columns": 1,
        "rows": 4
       }
      },
      "text/html": [
       "<div>\n",
       "<style scoped>\n",
       "    .dataframe tbody tr th:only-of-type {\n",
       "        vertical-align: middle;\n",
       "    }\n",
       "\n",
       "    .dataframe tbody tr th {\n",
       "        vertical-align: top;\n",
       "    }\n",
       "\n",
       "    .dataframe thead th {\n",
       "        text-align: right;\n",
       "    }\n",
       "</style>\n",
       "<table border=\"1\" class=\"dataframe\">\n",
       "  <thead>\n",
       "    <tr style=\"text-align: right;\">\n",
       "      <th></th>\n",
       "      <th>Valor</th>\n",
       "    </tr>\n",
       "  </thead>\n",
       "  <tbody>\n",
       "    <tr>\n",
       "      <th>AND</th>\n",
       "      <td>True</td>\n",
       "    </tr>\n",
       "    <tr>\n",
       "      <th>OR</th>\n",
       "      <td>True</td>\n",
       "    </tr>\n",
       "    <tr>\n",
       "      <th>NOT p</th>\n",
       "      <td>False</td>\n",
       "    </tr>\n",
       "    <tr>\n",
       "      <th>p → q</th>\n",
       "      <td>True</td>\n",
       "    </tr>\n",
       "  </tbody>\n",
       "</table>\n",
       "</div>"
      ],
      "text/plain": [
       "       Valor\n",
       "AND     True\n",
       "OR      True\n",
       "NOT p  False\n",
       "p → q   True"
      ]
     },
     "metadata": {},
     "output_type": "display_data"
    },
    {
     "data": {
      "application/vnd.jupyter.widget-view+json": {
       "model_id": "cd1b803af66c4f4793345521803505b1",
       "version_major": 2,
       "version_minor": 0
      },
      "text/plain": [
       "interactive(children=(Dropdown(description='p', options=(('Verdadero', True), ('Falso', False)), value=True), …"
      ]
     },
     "metadata": {},
     "output_type": "display_data"
    }
   ],
   "source": [
    "import pandas as pd \n",
    "from ipywidgets import interact, Dropdown\n",
    "\n",
    "@interact(\n",
    "    p=Dropdown(options=[('Verdadero', True), ('Falso', False)]),\n",
    "    q=Dropdown(options=[('Verdadero', True), ('Falso', False)])\n",
    ")\n",
    "def calcular_conectivos(p, q):\n",
    "    resultado = {\n",
    "        'AND': p and q,\n",
    "        'OR': p or q,\n",
    "        'NOT p': not p,\n",
    "        'p → q': (not p) or q\n",
    "    }\n",
    "    display(pd.DataFrame.from_dict(resultado, orient='index', columns=['Valor']))\n",
    "\n"
   ]
  },
  {
   "cell_type": "markdown",
   "id": "aedeb52e",
   "metadata": {},
   "source": [
    "\n",
    "**b. Animación de tabla de verdad:**  \n"
   ]
  },
  {
   "cell_type": "code",
   "execution_count": 3,
   "id": "e8b5facf",
   "metadata": {},
   "outputs": [
    {
     "data": {
      "text/html": [
       "\n",
       "<link rel=\"stylesheet\"\n",
       "href=\"https://maxcdn.bootstrapcdn.com/font-awesome/4.4.0/css/font-awesome.min.css\">\n",
       "<script language=\"javascript\">\n",
       "  function isInternetExplorer() {\n",
       "    ua = navigator.userAgent;\n",
       "    /* MSIE used to detect old browsers and Trident used to newer ones*/\n",
       "    return ua.indexOf(\"MSIE \") > -1 || ua.indexOf(\"Trident/\") > -1;\n",
       "  }\n",
       "\n",
       "  /* Define the Animation class */\n",
       "  function Animation(frames, img_id, slider_id, interval, loop_select_id){\n",
       "    this.img_id = img_id;\n",
       "    this.slider_id = slider_id;\n",
       "    this.loop_select_id = loop_select_id;\n",
       "    this.interval = interval;\n",
       "    this.current_frame = 0;\n",
       "    this.direction = 0;\n",
       "    this.timer = null;\n",
       "    this.frames = new Array(frames.length);\n",
       "\n",
       "    for (var i=0; i<frames.length; i++)\n",
       "    {\n",
       "     this.frames[i] = new Image();\n",
       "     this.frames[i].src = frames[i];\n",
       "    }\n",
       "    var slider = document.getElementById(this.slider_id);\n",
       "    slider.max = this.frames.length - 1;\n",
       "    if (isInternetExplorer()) {\n",
       "        // switch from oninput to onchange because IE <= 11 does not conform\n",
       "        // with W3C specification. It ignores oninput and onchange behaves\n",
       "        // like oninput. In contrast, Microsoft Edge behaves correctly.\n",
       "        slider.setAttribute('onchange', slider.getAttribute('oninput'));\n",
       "        slider.setAttribute('oninput', null);\n",
       "    }\n",
       "    this.set_frame(this.current_frame);\n",
       "  }\n",
       "\n",
       "  Animation.prototype.get_loop_state = function(){\n",
       "    var button_group = document[this.loop_select_id].state;\n",
       "    for (var i = 0; i < button_group.length; i++) {\n",
       "        var button = button_group[i];\n",
       "        if (button.checked) {\n",
       "            return button.value;\n",
       "        }\n",
       "    }\n",
       "    return undefined;\n",
       "  }\n",
       "\n",
       "  Animation.prototype.set_frame = function(frame){\n",
       "    this.current_frame = frame;\n",
       "    document.getElementById(this.img_id).src =\n",
       "            this.frames[this.current_frame].src;\n",
       "    document.getElementById(this.slider_id).value = this.current_frame;\n",
       "  }\n",
       "\n",
       "  Animation.prototype.next_frame = function()\n",
       "  {\n",
       "    this.set_frame(Math.min(this.frames.length - 1, this.current_frame + 1));\n",
       "  }\n",
       "\n",
       "  Animation.prototype.previous_frame = function()\n",
       "  {\n",
       "    this.set_frame(Math.max(0, this.current_frame - 1));\n",
       "  }\n",
       "\n",
       "  Animation.prototype.first_frame = function()\n",
       "  {\n",
       "    this.set_frame(0);\n",
       "  }\n",
       "\n",
       "  Animation.prototype.last_frame = function()\n",
       "  {\n",
       "    this.set_frame(this.frames.length - 1);\n",
       "  }\n",
       "\n",
       "  Animation.prototype.slower = function()\n",
       "  {\n",
       "    this.interval /= 0.7;\n",
       "    if(this.direction > 0){this.play_animation();}\n",
       "    else if(this.direction < 0){this.reverse_animation();}\n",
       "  }\n",
       "\n",
       "  Animation.prototype.faster = function()\n",
       "  {\n",
       "    this.interval *= 0.7;\n",
       "    if(this.direction > 0){this.play_animation();}\n",
       "    else if(this.direction < 0){this.reverse_animation();}\n",
       "  }\n",
       "\n",
       "  Animation.prototype.anim_step_forward = function()\n",
       "  {\n",
       "    this.current_frame += 1;\n",
       "    if(this.current_frame < this.frames.length){\n",
       "      this.set_frame(this.current_frame);\n",
       "    }else{\n",
       "      var loop_state = this.get_loop_state();\n",
       "      if(loop_state == \"loop\"){\n",
       "        this.first_frame();\n",
       "      }else if(loop_state == \"reflect\"){\n",
       "        this.last_frame();\n",
       "        this.reverse_animation();\n",
       "      }else{\n",
       "        this.pause_animation();\n",
       "        this.last_frame();\n",
       "      }\n",
       "    }\n",
       "  }\n",
       "\n",
       "  Animation.prototype.anim_step_reverse = function()\n",
       "  {\n",
       "    this.current_frame -= 1;\n",
       "    if(this.current_frame >= 0){\n",
       "      this.set_frame(this.current_frame);\n",
       "    }else{\n",
       "      var loop_state = this.get_loop_state();\n",
       "      if(loop_state == \"loop\"){\n",
       "        this.last_frame();\n",
       "      }else if(loop_state == \"reflect\"){\n",
       "        this.first_frame();\n",
       "        this.play_animation();\n",
       "      }else{\n",
       "        this.pause_animation();\n",
       "        this.first_frame();\n",
       "      }\n",
       "    }\n",
       "  }\n",
       "\n",
       "  Animation.prototype.pause_animation = function()\n",
       "  {\n",
       "    this.direction = 0;\n",
       "    if (this.timer){\n",
       "      clearInterval(this.timer);\n",
       "      this.timer = null;\n",
       "    }\n",
       "  }\n",
       "\n",
       "  Animation.prototype.play_animation = function()\n",
       "  {\n",
       "    this.pause_animation();\n",
       "    this.direction = 1;\n",
       "    var t = this;\n",
       "    if (!this.timer) this.timer = setInterval(function() {\n",
       "        t.anim_step_forward();\n",
       "    }, this.interval);\n",
       "  }\n",
       "\n",
       "  Animation.prototype.reverse_animation = function()\n",
       "  {\n",
       "    this.pause_animation();\n",
       "    this.direction = -1;\n",
       "    var t = this;\n",
       "    if (!this.timer) this.timer = setInterval(function() {\n",
       "        t.anim_step_reverse();\n",
       "    }, this.interval);\n",
       "  }\n",
       "</script>\n",
       "\n",
       "<style>\n",
       ".animation {\n",
       "    display: inline-block;\n",
       "    text-align: center;\n",
       "}\n",
       "input[type=range].anim-slider {\n",
       "    width: 374px;\n",
       "    margin-left: auto;\n",
       "    margin-right: auto;\n",
       "}\n",
       ".anim-buttons {\n",
       "    margin: 8px 0px;\n",
       "}\n",
       ".anim-buttons button {\n",
       "    padding: 0;\n",
       "    width: 36px;\n",
       "}\n",
       ".anim-state label {\n",
       "    margin-right: 8px;\n",
       "}\n",
       ".anim-state input {\n",
       "    margin: 0;\n",
       "    vertical-align: middle;\n",
       "}\n",
       "</style>\n",
       "\n",
       "<div class=\"animation\">\n",
       "  <img id=\"_anim_imgfa76d2f64af144fbb8db61024a1bfd49\">\n",
       "  <div class=\"anim-controls\">\n",
       "    <input id=\"_anim_sliderfa76d2f64af144fbb8db61024a1bfd49\" type=\"range\" class=\"anim-slider\"\n",
       "           name=\"points\" min=\"0\" max=\"1\" step=\"1\" value=\"0\"\n",
       "           oninput=\"animfa76d2f64af144fbb8db61024a1bfd49.set_frame(parseInt(this.value));\">\n",
       "    <div class=\"anim-buttons\">\n",
       "      <button title=\"Decrease speed\" aria-label=\"Decrease speed\" onclick=\"animfa76d2f64af144fbb8db61024a1bfd49.slower()\">\n",
       "          <i class=\"fa fa-minus\"></i></button>\n",
       "      <button title=\"First frame\" aria-label=\"First frame\" onclick=\"animfa76d2f64af144fbb8db61024a1bfd49.first_frame()\">\n",
       "        <i class=\"fa fa-fast-backward\"></i></button>\n",
       "      <button title=\"Previous frame\" aria-label=\"Previous frame\" onclick=\"animfa76d2f64af144fbb8db61024a1bfd49.previous_frame()\">\n",
       "          <i class=\"fa fa-step-backward\"></i></button>\n",
       "      <button title=\"Play backwards\" aria-label=\"Play backwards\" onclick=\"animfa76d2f64af144fbb8db61024a1bfd49.reverse_animation()\">\n",
       "          <i class=\"fa fa-play fa-flip-horizontal\"></i></button>\n",
       "      <button title=\"Pause\" aria-label=\"Pause\" onclick=\"animfa76d2f64af144fbb8db61024a1bfd49.pause_animation()\">\n",
       "          <i class=\"fa fa-pause\"></i></button>\n",
       "      <button title=\"Play\" aria-label=\"Play\" onclick=\"animfa76d2f64af144fbb8db61024a1bfd49.play_animation()\">\n",
       "          <i class=\"fa fa-play\"></i></button>\n",
       "      <button title=\"Next frame\" aria-label=\"Next frame\" onclick=\"animfa76d2f64af144fbb8db61024a1bfd49.next_frame()\">\n",
       "          <i class=\"fa fa-step-forward\"></i></button>\n",
       "      <button title=\"Last frame\" aria-label=\"Last frame\" onclick=\"animfa76d2f64af144fbb8db61024a1bfd49.last_frame()\">\n",
       "          <i class=\"fa fa-fast-forward\"></i></button>\n",
       "      <button title=\"Increase speed\" aria-label=\"Increase speed\" onclick=\"animfa76d2f64af144fbb8db61024a1bfd49.faster()\">\n",
       "          <i class=\"fa fa-plus\"></i></button>\n",
       "    </div>\n",
       "    <form title=\"Repetition mode\" aria-label=\"Repetition mode\" action=\"#n\" name=\"_anim_loop_selectfa76d2f64af144fbb8db61024a1bfd49\"\n",
       "          class=\"anim-state\">\n",
       "      <input type=\"radio\" name=\"state\" value=\"once\" id=\"_anim_radio1_fa76d2f64af144fbb8db61024a1bfd49\"\n",
       "             >\n",
       "      <label for=\"_anim_radio1_fa76d2f64af144fbb8db61024a1bfd49\">Once</label>\n",
       "      <input type=\"radio\" name=\"state\" value=\"loop\" id=\"_anim_radio2_fa76d2f64af144fbb8db61024a1bfd49\"\n",
       "             checked>\n",
       "      <label for=\"_anim_radio2_fa76d2f64af144fbb8db61024a1bfd49\">Loop</label>\n",
       "      <input type=\"radio\" name=\"state\" value=\"reflect\" id=\"_anim_radio3_fa76d2f64af144fbb8db61024a1bfd49\"\n",
       "             >\n",
       "      <label for=\"_anim_radio3_fa76d2f64af144fbb8db61024a1bfd49\">Reflect</label>\n",
       "    </form>\n",
       "  </div>\n",
       "</div>\n",
       "\n",
       "\n",
       "<script language=\"javascript\">\n",
       "  /* Instantiate the Animation class. */\n",
       "  /* The IDs given should match those used in the template above. */\n",
       "  (function() {\n",
       "    var img_id = \"_anim_imgfa76d2f64af144fbb8db61024a1bfd49\";\n",
       "    var slider_id = \"_anim_sliderfa76d2f64af144fbb8db61024a1bfd49\";\n",
       "    var loop_select_id = \"_anim_loop_selectfa76d2f64af144fbb8db61024a1bfd49\";\n",
       "    var frames = new Array(4);\n",
       "    \n",
       "  frames[0] = \"data:image/png;base64,iVBORw0KGgoAAAANSUhEUgAAAoAAAAHgCAYAAAA10dzkAAAAOnRFWHRTb2Z0d2FyZQBNYXRwbG90\\\n",
       "bGliIHZlcnNpb24zLjEwLjAsIGh0dHBzOi8vbWF0cGxvdGxpYi5vcmcvlHJYcgAAAAlwSFlzAAAP\\\n",
       "YQAAD2EBqD+naQAAEBlJREFUeJzt3G3Ij+fjx/EDk7vx00ZZsSfMotxE7eaBu/KA2AMkSaEmJBnW\\\n",
       "hrTikbTITUKtEFqGZA+XRKEZFhrZGNkzi82EuZvr13nWrn4y/drV//+//tc+r1edD77nefpeR/nW\\\n",
       "9b6O4zy+rRoaGhoKAAAxWjf3AAAA+L8lAAEAwghAAIAwAhAAIIwABAAIIwABAMIIQACAMAIQACCM\\\n",
       "AAQACCMAAQDCCEAAgDACEAAgjAAEAAgjAAEAwghAAIAwAhAAIIwABAAIIwABAMIIQACAMAIQACCM\\\n",
       "AAQACCMAAQDCCEAAgDACEAAgjAAEAAgjAAEAwghAAIAwAhAAIIwABAAIIwABAMIIQACAMAIQACCM\\\n",
       "AAQACCMAAQDCCEAAgDACEAAgjAAEAAgjAAEAwghAAIAwAhAAIIwABAAIIwABAMIIQACAMAIQACCM\\\n",
       "AAQACCMAAQDCCEAAgDACEAAgjAAEAAgjAAEAwghAACDG9u3bS9euXUs6AQgAtDgzZ84srVq1eu64\\\n",
       "cuVKcw+tRXipuQcAANAUY8aMKdu2bXvmXPfu3ZttPC2JGcAmuHfvXpk+fXp5+eWXy2uvvVbWrFlT\\\n",
       "Ro4cWRYuXNjcQwOAGO3atSs9evR45li/fn0ZMGBA6dSpU+nVq1eZN29euXv37gvf49y5c2XUqFGl\\\n",
       "c+fOpUuXLmXo0KHl9OnTjdePHTtWhg0bVjp06FC/34IFC+oOaOkEYBN89NFH5ejRo+XgwYPlq6++\\\n",
       "KkeOHCnffvttcw8LAOK1bt26bNiwoVy4cKHs2LGjHD58uHz88ccvvH/atGmlZ8+e5dSpU+XMmTNl\\\n",
       "6dKlpW3btvW1H3/8sZ5lnDRpUjl//nzZs2dPHYTz588vLV2rhoaGhuYeREtS/RXx6quvll27dpXJ\\\n",
       "kyfX53755Zf6wzN79uyybt265h4iAEQ8A1j9Lm7fvn3jubFjx5a9e/c+c9++ffvK3Llzy82bNxs3\\\n",
       "gSxcuLDcvn27fl3N+m3cuLHMmDHjuZ8xa9as0qZNm7J169bGc1UAjhgxop4F/M+f3dJ4BvBvqv4a\\\n",
       "ePToUXn77bcbz73yyivlzTffbNZxAUCaaul28+bNja+rZd9Dhw6VVatWlUuXLpU7d+6UJ0+elAcP\\\n",
       "HpT79++Xjh07PvceixcvrkNv586dZfTo0fXkTu/evRuXh6uZv927dzfeX82bPX36tFy7dq3069ev\\\n",
       "tFSWgAGAFqkKvj59+jQeDx8+LOPHjy8DBw4s+/fvr5d0N23aVN9bTd78lRUrVtTLxePGjauXi/v3\\\n",
       "718OHDjQuOo3Z86ccvbs2cajisLLly83RmJLZQbwb6r+w6tnA06ePFlef/31+tyvv/5afvjhh3pK\\\n",
       "GABoHlXwVbNz1ebM6lnAyhdffPFf/13fvn3rY9GiRWXq1Kn1zuIJEyaUIUOGlIsXL9Zx+U9jBvBv\\\n",
       "qnb+vv/++/VGkOovhe+++65+DuHPDxoA0DyqUHv8+HH9TN/Vq1frZd0tW7a88P7ff/+93tBRbea8\\\n",
       "fv16OX78eL0Z5M+l3SVLlpQTJ07U91Szf9XMX7UB9J+wCcQMYBN8+umn9bTwe++9V28b//DDD8tv\\\n",
       "v/3W3MMCgGiDBg0qa9euLatXry7Lli0rw4cPr58HrL667a+0adOm3Lp1q75+48aN0q1btzJx4sSy\\\n",
       "cuXK+nq1lFx968fy5cvrr4Kpnv+rVgKnTJlSWjq7gP+HVN8DOHjwYLuAAYD/96xbAgCEEYAAAGEs\\\n",
       "AQMAhDEDCAAQRgACAIQRgAAAYQQgAEAYAQgAEEYAAgCEEYAAAGEEIABAGAEIABBGAAIAhBGAAABh\\\n",
       "BCAAQBgBCAAQRgACAIQRgAAAYQQgAEAYAQgAEEYAAgCEEYAAAGEEIABAGAEIABBGAAIAhBGAAABh\\\n",
       "BCAAQBgBCAAQRgACAIQRgAAAYQQgAEAYAQgAEEYAAgCEEYAAAGEEIABAGAEIABBGAAIAhBGAAABh\\\n",
       "BCAAQBgBCAAQRgACAIQRgAAAYQQgAEAYAQgAEEYAAgCEEYAAAGEEIABAGAEIABBGAAIAhBGAAABh\\\n",
       "BCAAQBgBCAAQRgACAIQRgAAAYQQgAEAYAQgAEEYAAgCEEYAAAGEEIABAGAEIABBGAAIAhBGAAABh\\\n",
       "BCAAQBgBCAAQRgACAIQRgAAAYQQgAEAYAQgAEEYAAgCEEYAAAGEEIABAGAEIABBGAAIAhBGAAABh\\\n",
       "BCAAQBgBCAAQRgACAIQRgAAAYQQgAEAYAQgAEEYAAgCEEYAAAGEEIABAGAEIABBGAAIAhBGAAABh\\\n",
       "BCAAQBgBCAAQRgACAIQRgAAAYQQgAEAYAQgAEEYAAgCEEYAAAGEEIABAGAEIABBGAAIAhBGAAABh\\\n",
       "BCAAQBgBCAAQRgACAIQRgAAAYQQgAEAYAQgAEEYAAgCEEYAAAGEEIABAGAEIABBGAAIAhBGAAABh\\\n",
       "BCAAQBgBCAAQRgACAIQRgAAAYQQgAEAYAQgAEEYAAgCEEYAAAGEEIABAGAEIABBGAAIAhBGAAABh\\\n",
       "BCAAQBgBCAAQRgACAIQRgAAAYQQgAEAYAQgAEEYAAgCEEYAAAGEEIABAGAEIABBGAAIAhBGAAABh\\\n",
       "BCAAQBgBCAAQRgACAIQRgAAAYQQgAEAYAQgAEEYAAgCEEYAAAGEEIABAGAEIABBGAAIAhBGAAABh\\\n",
       "BCAAQBgBCAAQRgACAIQRgAAAYQQgAEAYAQgAEEYAAgCEEYAAAGEEIABAGAEIABBGAAIAhBGAAABh\\\n",
       "BCAAQBgBCAAQRgACAIQRgAAAYQQgAEAYAQgAEEYAAgCEEYAAAGEEIABAGAEIABBGAAIAhBGAAABh\\\n",
       "BCAAQBgBCAAQRgACAIQRgAAAYQQgAEAYAQgAEEYAAgCEEYAAAGEEIABAGAEIABBGAAIAhBGAAABh\\\n",
       "BCAAQBgBCAAQRgACAIQRgAAAYQQgAEAYAQgAEEYAAgCEEYAAAGEEIABAGAEIABBGAAIAhBGAAABh\\\n",
       "BCAAQBgBCAAQRgACAIQRgAAAYQQgAEAYAQgAEEYAAgCEEYAAAGEEIABAGAEIABBGAAIAhBGAAABh\\\n",
       "BCAAQBgBCAAQRgACAIQRgAAAYQQgAEAYAQgAEEYAAgCEEYAAAGEEIABAGAEIABBGAAIAhBGAAABh\\\n",
       "BCAAQBgBCAAQRgACAIQRgAAAYQQgAEAYAQgAEEYAAgCEEYAAAGEEIABAGAEIABBGAAIAhBGAAABh\\\n",
       "BCAAQBgBCAAQRgACAIQRgAAAYQQgAEAYAQgAEEYAAgCEEYAAAGEEIABAGAEIABBGAAIAhBGAAABh\\\n",
       "BCAAQBgBCAAQRgACAIQRgAAAYQQgAEAYAQgAEEYAAgCEEYAAAGEEIABAGAEIABBGAAIAhBGAAABh\\\n",
       "BCAAQBgBCAAQRgACAIQRgAAAYQQgAEAYAQgAEEYAAgCEEYAAAGEEIABAGAEIABBGAAIAhBGAAABh\\\n",
       "BCAAQBgBCAAQRgACAIQRgAAAYQQgAEAYAQgAEEYAAgCEEYAAAGEEIABAGAEIABBGAAIAhBGAAABh\\\n",
       "BCAAQBgBCAAQRgACAIQRgAAAYQQgAEAYAQgAEEYAAgCEEYAAAGEEIABAGAEIABBGAAIAhBGAAABh\\\n",
       "BCAAQBgBCAAQRgACAIQRgAAAYQQgAEAYAQgAEEYAAgCEEYAAAGEEIABAGAEIABBGAAIAhBGAAABh\\\n",
       "BCAAQBgBCAAQRgACAIQRgAAAYQQgAEAYAQgAEEYAAgCEEYAAAGEEIABAGAEIABBGAAIAhBGAAABh\\\n",
       "BCAAQBgBCAAQRgACAIQRgAAAYQQgAEAYAQgAEEYAAgCEEYAAAGEEIABAGAEIABBGAAIAhBGAAABh\\\n",
       "BCAAQBgBCAAQRgACAIQRgAAAYQQgAEAYAQgAEEYAAgCEEYAAAGEEIABAGAEIABBGAAIAhBGAAABh\\\n",
       "BCAAQBgBCAAQRgACAIQRgAAAYQQgAEAYAQgAEEYAAgCEEYAAAGEEIABAGAEIABBGAAIAhBGAAABh\\\n",
       "BCAAQBgBCAAQRgACAIQRgAAAYQQgAEAYAQgAEEYAAgCEEYAAQIzt27eXrl27lnQCEABocWbOnFla\\\n",
       "tWr13HHlypXmHlqL8FJzDwAAoCnGjBlTtm3b9sy57t27N9t4WhIzgE0wcuTIMn/+/Pr417/+Vbp1\\\n",
       "61Y++eST0tDQ0NxDA4AY7dq1Kz169HjmWL9+fRkwYEDp1KlT6dWrV5k3b165e/fuC9/j3LlzZdSo\\\n",
       "UaVz586lS5cuZejQoeX06dON148dO1aGDRtWOnToUL/fggULyr1790pLJwCbaMeOHeWll14q33zz\\\n",
       "Tf1hW7t2bfnss8+ae1gAEK1169Zlw4YN5cKFC/Xv6sOHD5ePP/74hfdPmzat9OzZs5w6daqcOXOm\\\n",
       "LF26tLRt27a+9uOPP9azjJMmTSrnz58ve/bsqYOwmgBq6Vo1mLZq0gzgzz//XH+4qucNKtUH5ssv\\\n",
       "vywXL15s7uEBQMQzgLt27Srt27dvPDd27Niyd+/eZ+7bt29fmTt3brl582bjJpCFCxeW27dv16+r\\\n",
       "Wb+NGzeWGTNmPPczZs2aVdq0aVO2bt3aeK4KwBEjRtSzgP/5s1sazwA20TvvvNMYf5V33323rFmz\\\n",
       "pvzxxx/1hwUA+N9VLd1u3ry58XW17Hvo0KGyatWqcunSpXLnzp3y5MmT8uDBg3L//v3SsWPH595j\\\n",
       "8eLFdejt3LmzjB49ukyePLn07t27cXm4mvnbvXt34/3VvNnTp0/LtWvXSr9+/UpLZQkYAGiRquDr\\\n",
       "06dP4/Hw4cMyfvz4MnDgwLJ///56SXfTpk31vY8ePfrL91ixYkW9ojdu3Lh6ubh///7lwIED9bXq\\\n",
       "2cE5c+aUs2fPNh5VFF6+fLkxElsqM4BNdPLkyWdef/311+WNN94w+wcAzaQKvmp2rlqRq54FrHzx\\\n",
       "xRf/9d/17du3PhYtWlSmTp1a7yyeMGFCGTJkSP1oVxWX/zRmAJvop59+qqeNv//++/L555/Xzw98\\\n",
       "8MEHzT0sAIhVhdrjx4/r38lXr16tl3W3bNnywvt///33ekPHkSNHyvXr18vx48frzSB/Lu0uWbKk\\\n",
       "nDhxor6nmv2rZv4OHjz4j9gEYgawiaZPn15/cN5666161q+Kv9mzZzf3sAAg1qBBg+pv5Vi9enVZ\\\n",
       "tmxZGT58eP08YPU7+6+0adOm3Lp1q75+48aN+mvdJk6cWFauXFlfr5aSjx49WpYvX15/FUz1/F+1\\\n",
       "9DtlypTS0tkF3MRdwIMHDy7r1q1r7qEAAPxtloABAMIIQACAMJaAAQDCmAEEAAgjAAEAwghAAIAw\\\n",
       "AhAAIIwABAAIIwABAMIIQACAMAIQACCMAAQACCMAAQDCCEAAgDACEAAgjAAEAAgjAAEAwghAAIAw\\\n",
       "AhAAIIwABAAIIwABAMIIQACAMAIQACCMAAQACCMAAQDCCEAAgDACEAAgjAAEAAgjAAEAwghAAIAw\\\n",
       "AhAAIIwABAAIIwABAMIIQACAMAIQACCMAAQACCMAAQDCCEAAgDACEAAgjAAEAAgjAAEAwghAAIAw\\\n",
       "AhAAIIwABAAIIwABAMIIQACAMAIQACCMAAQAKFn+DcsfrH8aX+ApAAAAAElFTkSuQmCC\\\n",
       "\"\n",
       "  frames[1] = \"data:image/png;base64,iVBORw0KGgoAAAANSUhEUgAAAoAAAAHgCAYAAAA10dzkAAAAOnRFWHRTb2Z0d2FyZQBNYXRwbG90\\\n",
       "bGliIHZlcnNpb24zLjEwLjAsIGh0dHBzOi8vbWF0cGxvdGxpYi5vcmcvlHJYcgAAAAlwSFlzAAAP\\\n",
       "YQAAD2EBqD+naQAAD0ZJREFUeJzt3HmoVeX+x/GvE2am2WAY6R+lFgmlaVRCpU1UdIMGIqJQqaiI\\\n",
       "KG0wSwwrSKIMKyKFoiwjLCMMon8kMjSyCRvRUiP/iaJoQM0hPZe1oEPebvfeDvx+J/28XrDg7L3X\\\n",
       "2ef5Y8F+n+dZz+7R0dHRUQAAxOjZ3QMAAOD/lwAEAAgjAAEAwghAAIAwAhAAIIwABAAIIwABAMII\\\n",
       "QACAMAIQACCMAAQACCMAAQDCCEAAgDACEAAgjAAEAAgjAAEAwghAAIAwAhAAIIwABAAIIwABAMII\\\n",
       "QACAMAIQACCMAAQACCMAAQDCCEAAgDACEAAgjAAEAAgjAAEAwghAAIAwAhAAIIwABAAIIwABAMII\\\n",
       "QACAMAIQACCMAAQACCMAAQDCCEAAgDACEAAgjAAEAAgjAAEAwghAAIAwAhAAIIwABAAIIwABAMII\\\n",
       "QACAMAIQACCMAAQACCMAAQDCCEAAgDACEAAgjAAEAAgjAAEAwghAAGCP1KNHj/94zJ49u7uH+LfV\\\n",
       "u7sHAADQFV9//XXnz4sXL6677rqr1q5d2/ncfvvt1/lzR0dH7dy5s3r3lj4NM4BdsHnz5po0aVJ7\\\n",
       "YR166KE1d+7cmjhxYk2dOrW7hwYAMYYMGdJ57L///u2s32+P16xZUwMGDKjXXnutxo0bV3379q0V\\\n",
       "K1bUlClT6oILLtjtfZrP7+Zz/De7du2qOXPm1OGHH179+vWr0aNH15IlS2pvIoO74Lbbbqvly5fX\\\n",
       "0qVL65BDDqk777yzPvjggxozZkx3Dw0A+J0ZM2bUgw8+WEcccUQdcMAB/9PvzJkzpxYtWlTz58+v\\\n",
       "kSNH1ptvvllXXHFFDR48uCZMmFB7AwH4F23atKmefPLJ9sI444wz2ucWLlxYQ4cO7e6hAQD/4p57\\\n",
       "7qmzzjrrfz5/27Ztdd9999WyZctq/Pjx7XNNPDazhwsWLBCAqdavX1/bt2+vE088sfO5Aw88sI46\\\n",
       "6qhuHRcA8EfHH3/8Xzp/3bp1tWXLlj9EY/PZf9xxx9XeQgACAHut/v377/a4Z8+e7YaQ39uxY8du\\\n",
       "K32NV199tQ477LDdzmvuI9xb2ATyFw0fPrz69OlTq1at6nzuhx9+qM8//7xbxwUA/HfNfXxf/273\\\n",
       "cGP16tWdP48aNaoNvY0bN9aIESN2O4YNG1Z7CzOAf1Gz8/eqq65qN4IcdNBB7SaQmTNntv9RAAB/\\\n",
       "b6effno98MAD9cwzz7T3+DX39H/yySedy7vNzuFbb721pk2b1u4GPvnkk+unn36qlStX1sCBA2vy\\\n",
       "5Mm1NxCAXdBcOM0U8fnnn99eKLfcckt7cQAAf29nn312zZo1q6ZPn15bt26tK6+8sv1qt48//rjz\\\n",
       "nHvvvbedKWx2A2/YsKEGDRpUY8eObb/1Y2/Ro+NfF8Lpkub7g5qvgZk3b153DwUA4D+ybgkAEEYA\\\n",
       "AgCEsQQMABDGDCAAQBgBCAAQRgACAIQRgAAAYQQgAEAYAQgAEEYAAgCEEYAAAGEEIABAGAEIABBG\\\n",
       "AAIAhBGAAABhBCAAQBgBCAAQRgACAIQRgAAAYQQgAEAYAQgAEEYAAgCEEYAAAGEEIABAGAEIABBG\\\n",
       "AAIAhBGAAABhBCAAQBgBCAAQRgACAIQRgAAAYQQgAEAYAQgAEEYAAgCEEYAAAGEEIABAGAEIABBG\\\n",
       "AAIAhBGAAABhBCAAQBgBCAAQRgACAIQRgAAAYQQgAEAYAQgAEEYAAgCEEYAAAGEEIABAGAEIABBG\\\n",
       "AAIAhBGAAABhBCAAQBgBCAAQRgACAIQRgAAAYQQgAEAYAQgAEEYAAgCEEYAAAGEEIABAGAEIABBG\\\n",
       "AAIAhBGAAABhBCAAQBgBCAAQRgACAIQRgAAAYQQgAEAYAQgAEEYAAgCEEYAAAGEEIABAGAEIABBG\\\n",
       "AAIAhBGAAABhBCAAQBgBCAAQRgACAIQRgAAAYQQgAEAYAQgAEEYAAgCEEYAAAGEEIABAGAEIABBG\\\n",
       "AAIAhBGAAABhBCAAQBgBCAAQRgACAIQRgAAAYQQgAEAYAQgAEEYAAgCEEYAAAGEEIABAGAEIABBG\\\n",
       "AAIAhBGAAABhBCAAQBgBCAAQRgACAIQRgAAAYQQgAEAYAQgAEEYAAgCEEYAAAGEEIABAGAEIABBG\\\n",
       "AAIAhBGAAABhBCAAQBgBCAAQRgACAIQRgAAAYQQgAEAYAQgAEEYAAgCEEYAAAGEEIABAGAEIABBG\\\n",
       "AAIAhBGAAABhBCAAQBgBCAAQRgACAIQRgAAAYQQgAEAYAQgAEEYAAgCEEYAAAGEEIABAGAEIABBG\\\n",
       "AAIAhBGAAABhBCAAQBgBCAAQRgACAIQRgAAAYQQgAEAYAQgAEEYAAgCEEYAAAGEEIABAGAEIABBG\\\n",
       "AAIAhBGAAABhBCAAQBgBCAAQRgACAIQRgAAAYQQgAEAYAQgAEEYAAgCEEYAAAGEEIABAGAEIABBG\\\n",
       "AAIAhBGAAABhBCAAQBgBCAAQRgACAIQRgAAAYQQgAEAYAQgAEEYAAgCEEYAAAGEEIABAGAEIABBG\\\n",
       "AAIAhBGAAABhBCAAQBgBCAAQRgACAIQRgAAAYQQgAEAYAQgAEEYAAgCEEYAAAGEEIABAGAEIABBG\\\n",
       "AAIAhBGAAABhBCAAQBgBCAAQRgACAIQRgAAAYQQgAEAYAQgAEEYAAgCEEYAAAGEEIABAGAEIABBG\\\n",
       "AAIAhBGAAABhBCAAQBgBCAAQRgACAIQRgAAAYQQgAEAYAQgAEEYAAgCEEYAAAGEEIABAGAEIABBG\\\n",
       "AAIAhBGAAABhBCAAQBgBCAAQRgACAIQRgAAAYQQgAEAYAQgAEEYAAgCEEYAAAGEEIABAGAEIABBG\\\n",
       "AAIAhBGAAABhBCAAQBgBCAAQRgACAIQRgAAAYQQgAEAYAQgAEEYAAgCEEYAAAGEEIABAGAEIABBG\\\n",
       "AAIAhBGAAABhBCAAQBgBCAAQRgACAIQRgAAAYQQgAEAYAQgAEEYAAgCEEYAAAGEEIABAGAEIABBG\\\n",
       "AAIAhBGAAABhBCAAQBgBCAAQRgACAIQRgAAAYQQgAEAYAQgAEEYAAgCEEYAAAGEEIABAGAEIABBG\\\n",
       "AAIAhBGAAABhBCAAQBgBCAAQRgACAIQRgAAAYQQgAEAYAQgAEEYAAgCEEYAAAGEEIABAGAEIABBG\\\n",
       "AAIAhBGAAABhBCAAQBgBCAAQRgACAIQRgAAAYQQgAEAYAQgAEEYAAgCEEYAAAGEEIABAGAEIABBG\\\n",
       "AAIAhBGAAABhBCAAQBgBCAAQRgACAIQRgAAAYQQgAEAYAQgAEEYAAgCEEYAAAGEEIABAGAEIABBG\\\n",
       "AAIAhBGAAABhBCAAQBgBCAAQRgACAIQRgAAAYQQgAEAYAQgAEEYAAgCEEYAAAGEEIABAGAEIABBG\\\n",
       "AAIAhBGAAABhBCAAQBgBCAAQRgACAIQRgAAAYQQgAEAYAQgAEEYAAgCEEYAAAGEEIABAGAEIABBG\\\n",
       "AAIAhBGAAABhBCAAQBgBCAAQRgACAIQRgAAAYQQgAEAYAQgAEEYAAgCEEYAAAGEEIABAGAEIABBG\\\n",
       "AAIAhBGAAABhBCAAQBgBCAAQRgACAIQRgAAAYQQgAEAYAQgAEEYAAgCEEYAAAGEEIABAGAEIABBG\\\n",
       "AAIAhBGAAABhBCAAQBgBCAAQRgACAIQRgAAAYQQgAEAYAQgAEEYAAgCEEYAAAGEEIABAGAEIABBG\\\n",
       "AAIAhBGAAABhBCAAQBgBCAAQRgACAIQRgAAAYQQgAEAYAQgAEEYAAgAxnn766Ro0aFClE4AAwB5n\\\n",
       "ypQp1aNHjz8c69at6+6h7RF6d/cAAAC64pxzzqmnnnpqt+cGDx7cbePZk5gB7IKJEyfWDTfc0B77\\\n",
       "779/HXzwwTVr1qzq6Ojo7qEBQIy+ffvWkCFDdjsefvjhOuaYY6p///41bNiwuv7662vTpk1/+h4f\\\n",
       "fvhhnXbaaTVgwIAaOHBgjRs3rt57773O11esWFGnnHJK9evXr32/G2+8sTZv3lx7OgHYRQsXLqze\\\n",
       "vXvXO++8015sDz30UD3xxBPdPSwAiNazZ8965JFH6tNPP20/q19//fWaPn36n55/+eWX19ChQ+vd\\\n",
       "d9+t999/v2bMmFF9+vRpX1u/fn07y3jxxRfXRx99VIsXL26DsJkA2tP16DBt1aUZwG+//ba9uJr7\\\n",
       "DRrNBfPKK6/UZ5991t3DA4CIewAXLVpU++yzT+dz5557br344ou7nbdkyZK67rrr6rvvvuvcBDJ1\\\n",
       "6tT68ccf28fNrN+jjz5akydP/sPfuPrqq6tXr161YMGCzueaAJwwYUI7C/j7v72ncQ9gF5100kmd\\\n",
       "8dcYP358zZ07t3bu3NleLADA/61m6fbxxx/vfNws+y5btqzmzJlTa9asqZ9//rl+/fXX2rp1a23Z\\\n",
       "sqX23XffP7zHzTff3Ibes88+W2eeeWZdcsklNXz48M7l4Wbm77nnnus8v5k327VrV3355Zd19NFH\\\n",
       "157KEjAAsEdqgm/EiBGdx7Zt2+of//hHHXvssfXSSy+1S7qPPfZYe+727dv/7XvMnj27XdE777zz\\\n",
       "2uXiUaNG1csvv9y+1tw7eO2119bq1as7jyYKv/jii85I3FOZAeyiVatW7fb47bffrpEjR5r9A4Bu\\\n",
       "0gRfMzvXrMg19wI2Xnjhhf/6e0ceeWR7TJs2rS677LJ2Z/GFF15YY8eObW/tauJyb2MGsIs2btzY\\\n",
       "ThuvXbu2nn/++fb+gZtuuqm7hwUAsZpQ27FjR/uZvGHDhnZZd/78+X96/i+//NJu6HjjjTfqq6++\\\n",
       "qpUrV7abQX5b2r399tvrrbfeas9pZv+amb+lS5fuFZtAzAB20aRJk9oL54QTTmhn/Zr4u+aaa7p7\\\n",
       "WAAQa/To0e23ctx///11xx131KmnntreD9h8Zv87vXr1qu+//759/Ztvvmm/1u2iiy6qu+++u329\\\n",
       "WUpevnx5zZw5s/0qmOb+v2bp99JLL609nV3AXdwFPGbMmJo3b153DwUA4C+zBAwAEEYAAgCEsQQM\\\n",
       "ABDGDCAAQBgBCAAQRgACAIQRgAAAYQQgAEAYAQgAEEYAAgCEEYAAAGEEIABAGAEIABBGAAIAhBGA\\\n",
       "AABhBCAAQBgBCAAQRgACAIQRgAAAYQQgAEAYAQgAEEYAAgCEEYAAAGEEIABAGAEIABBGAAIAhBGA\\\n",
       "AABhBCAAQBgBCAAQRgACAIQRgAAAYQQgAEAYAQgAEEYAAgCEEYAAAGEEIABAGAEIABBGAAIAhBGA\\\n",
       "AABhBCAAQBgBCAAQRgACAIQRgAAAYQQgAEAYAQgAEEYAAgCEEYAAAGEEIABAZfkn0ocn58ULTSIA\\\n",
       "AAAASUVORK5CYII=\\\n",
       "\"\n",
       "  frames[2] = \"data:image/png;base64,iVBORw0KGgoAAAANSUhEUgAAAoAAAAHgCAYAAAA10dzkAAAAOnRFWHRTb2Z0d2FyZQBNYXRwbG90\\\n",
       "bGliIHZlcnNpb24zLjEwLjAsIGh0dHBzOi8vbWF0cGxvdGxpYi5vcmcvlHJYcgAAAAlwSFlzAAAP\\\n",
       "YQAAD2EBqD+naQAAD0ZJREFUeJzt3FuoVWW/x/G/mph5yErBKIWOklCaRgeotCgqKuhARBQqWRoh\\\n",
       "pVZmRWEFSZhlSaRXZdmFZUQXEYREhUaWiZWFlRl1E0EnwzyW62WMvV1sqfZ+lc271N/nAwPnHGus\\\n",
       "uQY4YX7n84xndOvo6OgoAABidO/qEwAA4D9LAAIAhBGAAABhBCAAQBgBCAAQRgACAIQRgAAAYQQg\\\n",
       "AEAYAQgAEEYAAgCEEYAAAGEEIABAGAEIABBGAAIAhBGAAABhBCAAQBgBCAAQRgACAIQRgAAAYQQg\\\n",
       "AEAYAQgAEEYAAgCEEYAAAGEEIABAGAEIABBGAAIAhBGAAABhBCAAQBgBCAAQRgACAIQRgAAAYQQg\\\n",
       "AEAYAQgAEEYAAgCEEYAAAGEEIABAGAEIABBGAAIAhBGAAABhBCAAQBgBCAAQRgACAIQRgAAAYQQg\\\n",
       "AEAYAQgAEEYAAgCEEYAAAGEEIABAGAEIABBGAAIAhBGAAECM5557rgYMGFDpBCAAsN+ZMGFCdevW\\\n",
       "7S/b+vXru/rU9gsHdfUJAADsjYsvvrieffbZ3fYNGjSoy85nf2IEcC/8/vvvNW7cuOrbt28deeSR\\\n",
       "NXfu3Bo7dmxNnTq1q08NAGL06tWrBg8evNv25JNP1sknn1x9+vSpIUOG1K233lqbNm36x9f4+OOP\\\n",
       "67zzzqt+/fpV//79a/To0bVq1arOny9fvrzOOeec6t27d/t6t912W9sB+zsBuBfuuuuueuedd+q1\\\n",
       "116rN998s95+++1avXp1V58WAMTr3r17PfXUU/XZZ5/VokWL6q233qoZM2b84/HXX399HX300fXh\\\n",
       "hx/WRx99VDNnzqyePXu2P/v666/bUcarr766Pvnkk1qyZEkbhFOmTKn9XbeOjo6Orj6J/UnzLeKI\\\n",
       "I46oxYsX1zXXXNPu+/nnn9s3z6RJk2revHldfYoAEHENYPNZfPDBB3fuu+SSS+rll1/e7bilS5fW\\\n",
       "LbfcUj/++GPnIpCpU6fWr7/+2j5vRv3mz59f48eP/8vfuOmmm6pHjx61cOHCzn1NAI4ZM6YdBfyf\\\n",
       "f3t/4xrAPdR8G9i+fXudccYZnfsOP/zwGjZsWJeeFwCkaaZun3nmmc7nzbTvsmXLavbs2bVu3br6\\\n",
       "7bff6o8//qitW7fW5s2b65BDDvnLa0yfPr0NvRdeeKEuuOCCdnDnuOOO65webkb+Xnzxxc7jm3Gz\\\n",
       "nTt31jfffFMnnXRS7a9MAQMA+6Um+I4//vjObdu2bXXZZZfVKaecUq+88ko7pfv000+3xzaDN39n\\\n",
       "1qxZ7XTxpZde2k4XDx8+vF599dXOWb/JkyfXmjVrOrcmCr/66qvOSNxfGQHcQ81/eHNtwMqVK2vo\\\n",
       "0KHtvl9++aW+/PLLdkgYAOgaTfA1o3PN4szmWsDGSy+99H/+3oknnthu06ZNq+uuu65dWXzllVfW\\\n",
       "qFGj6vPPP2/j8kBjBHAPNSt/J06c2C4Eab4prF27tr0OYdcbDQDoGk2o7dixo72mb8OGDe207oIF\\\n",
       "C/7x+C1btrQLOprFnN9++22tWLGiXQyya2r37rvvrvfee689phn9a0b+mgWgB8IiECOAe2HOnDnt\\\n",
       "sPDll1/eLhu/4447auPGjV19WgAQbcSIEfX444/Xo48+Wvfcc0+de+657fWAza3b/k6PHj3qp59+\\\n",
       "an/+ww8/1MCBA+uqq66qBx98sP15M5Xc3PXjvvvua28F01z/18wEXnvttbW/swr4/0lzH8CRI0da\\\n",
       "BQwA7PPMWwIAhBGAAABhTAEDAIQxAggAEEYAAgCEEYAAAGEEIABAGAEIABBGAAIAhBGAAABhBCAA\\\n",
       "QBgBCAAQRgACAIQRgAAAYQQgAEAYAQgAEEYAAgCEEYAAAGEEIABAGAEIABBGAAIAhBGAAABhBCAA\\\n",
       "QBgBCAAQRgACAIQRgAAAYQQgAEAYAQgAEEYAAgCEEYAAAGEEIABAGAEIABBGAAIAhBGAAABhBCAA\\\n",
       "QBgBCAAQRgACAIQRgAAAYQQgAEAYAQgAEEYAAgCEEYAAAGEEIABAGAEIABBGAAIAhBGAAABhBCAA\\\n",
       "QBgBCAAQRgACAIQRgAAAYQQgAEAYAQgAEEYAAgCEEYAAAGEEIABAGAEIABBGAAIAhBGAAABhBCAA\\\n",
       "QBgBCAAQRgACAIQRgAAAYQQgAEAYAQgAEEYAAgCEEYAAAGEEIABAGAEIABBGAAIAhBGAAABhBCAA\\\n",
       "QBgBCAAQRgACAIQRgAAAYQQgAEAYAQgAEEYAAgCEEYAAAGEEIABAGAEIABBGAAIAhBGAAABhBCAA\\\n",
       "QBgBCAAQRgACAIQRgAAAYQQgAEAYAQgAEEYAAgCEEYAAAGEEIABAGAEIABBGAAIAhBGAAABhBCAA\\\n",
       "QBgBCAAQRgACAIQRgAAAYQQgAEAYAQgAEEYAAgCEEYAAAGEEIABAGAEIABBGAAIAhBGAAABhBCAA\\\n",
       "QBgBCAAQRgACAIQRgAAAYQQgAEAYAQgAEEYAAgCEEYAAAGEEIABAGAEIABBGAAIAhBGAAABhBCAA\\\n",
       "QBgBCAAQRgACAIQRgAAAYQQgAEAYAQgAEEYAAgCEEYAAAGEEIABAGAEIABBGAAIAhBGAAABhBCAA\\\n",
       "QBgBCAAQRgACAIQRgAAAYQQgAEAYAQgAEEYAAgCEEYAAAGEEIABAGAEIABBGAAIAhBGAAABhBCAA\\\n",
       "QBgBCAAQRgACAIQRgAAAYQQgAEAYAQgAEEYAAgCEEYAAAGEEIABAGAEIABBGAAIAhBGAAABhBCAA\\\n",
       "QBgBCAAQRgACAIQRgAAAYQQgAEAYAQgAEEYAAgCEEYAAAGEEIABAGAEIABBGAAIAhBGAAABhBCAA\\\n",
       "QBgBCAAQRgACAIQRgAAAYQQgAEAYAQgAEEYAAgCEEYAAAGEEIABAGAEIABBGAAIAhBGAAABhBCAA\\\n",
       "QBgBCAAQRgACAIQRgAAAYQQgAEAYAQgAEEYAAgCEEYAAAGEEIABAGAEIABBGAAIAhBGAAABhBCAA\\\n",
       "QBgBCAAQRgACAIQRgAAAYQQgAEAYAQgAEEYAAgCEEYAAAGEEIABAGAEIABBGAAIAhBGAAABhBCAA\\\n",
       "QBgBCAAQRgACAIQRgAAAYQQgAEAYAQgAEEYAAgCEEYAAAGEEIABAGAEIABBGAAIAhBGAAABhBCAA\\\n",
       "QBgBCAAQRgACAIQRgAAAYQQgAEAYAQgAEEYAAgCEEYAAAGEEIABAGAEIABBGAAIAhBGAAABhBCAA\\\n",
       "QBgBCAAQRgACAIQRgAAAYQQgAEAYAQgAEEYAAgCEEYAAAGEEIABAGAEIABBGAAIAhBGAAABhBCAA\\\n",
       "QBgBCAAQRgACAIQRgAAAYQQgAEAYAQgAEEYAAgCEEYAAAGEEIABAGAEIABBGAAIAhBGAAABhBCAA\\\n",
       "QBgBCAAQRgACAIQRgAAAYQQgAEAYAQgAEEYAAgCEEYAAAGEEIABAGAEIABBGAAIAhBGAAABhBCAA\\\n",
       "QBgBCAAQRgACAIQRgAAAYQQgAEAYAQgAEEYAAgCEEYAAAGEEIABAGAEIABBGAAIAhBGAAABhBCAA\\\n",
       "QBgBCAAQRgACAIQRgAAAYQQgAEAYAQgAEEYAAgCEEYAAAGEEIABAGAEIABBGAAIAhBGAAABhBCAA\\\n",
       "QBgBCAAQRgACAIQRgAAAYQQgAEAYAQgAEEYAAgCEEYAAAGEEIABAGAEIABBGAAIAhBGAAABhBCAA\\\n",
       "QBgBCAAQRgACAIQRgAAAYQQgAEAYAQgAEEYAAgCEEYAAAGEEIABAGAEIABBGAAIAhBGAAABhBCAA\\\n",
       "QBgBCAAQRgACAIQRgAAAYQQgAEAYAQgAEEYAAgCEEYAAAGEEIABAGAEIABBGAAIAhBGAAABhBCAA\\\n",
       "QBgBCAAQRgACAIQRgAAAYQQgAEAYAQgAEEYAAgCEEYAAAGEEIABAGAEIABBGAAIAhBGAAABhBCAA\\\n",
       "QBgBCAAQRgACAIQRgAAAYQQgAEAYAQgAEEYAAgCEEYAAAGEEIABAGAEIABBGAAIAhBGAAABhBCAA\\\n",
       "QBgBCAAQRgACAIQRgAAAYQQgAEAYAQgAEEYAAgCEEYAAAGEEIABAGAEIABBGAAIAhBGAAABhBCAA\\\n",
       "sF/q1q3b/7rNmjWrq09xn3VQV58AAMDe+P777zsfL1mypB544IH64osvOvf17du383FHR0f9+eef\\\n",
       "ddBB0qdhBHAvjB07tqZMmdJuhx56aA0cOLDuv//+9s0FAPxnDB48uHNrPo+bUb9dz9etW1f9+vWr\\\n",
       "N954o0aPHl29evWq5cuX14QJE+qKK67Y7XWmTp3afrbvsnPnzpo9e3Ydc8wx1bt37xoxYkQtXbq0\\\n",
       "DiQyeC8tWrSoJk6cWB988EGtWrWqJk2aVEOHDq2bb765q08NAPhvM2fOrMcee6yOPfbYOuyww/6t\\\n",
       "35k9e3YtXry4FixYUCeccEK9++67dcMNN9SgQYNqzJgxdSAQgHtpyJAh9cQTT7TfNoYNG1affvpp\\\n",
       "+1wAAsC+46GHHqoLL7zw3z5+27Zt9cgjj9SyZcvqrLPOavc18diMHi5cuFAApjvzzDPb+NuleZPM\\\n",
       "nTu3vb6gR48eXXpuAMB/Oe200/bo+PXr19fmzZv/Eo3bt2+vU089tQ4UAhAAOGD16dNnt+fdu3f/\\\n",
       "yzX7O3bs6Hy8adOm9t/XX3+9jjrqqN2Oa64jPFAIwL20cuXK3Z6///777XUCRv8AYN/VXMe3du3a\\\n",
       "3fatWbOmevbs2T4ePnx4G3rffffdATPd+3cE4F5q3hjTp0+vyZMn1+rVq2v+/PntFDAAsO86//zz\\\n",
       "a86cOfX888+3l281iz2aINw1vdusHL7zzjtr2rRp7Wrgs88+uzZu3FgrVqyo/v371/jx4+tAIAD3\\\n",
       "0rhx42rLli11+umnt6N+t99+e7sSGADYd1100UXtrdtmzJhRW7durRtvvLH9TG8Wc+7y8MMPtyOF\\\n",
       "zWrgDRs21IABA2rUqFF177331oGiW4eb1+2x5l5BI0eOrHnz5nX1qQAA7DE3ggYACCMAAQDCmAIG\\\n",
       "AAhjBBAAIIwABAAIIwABAMIIQACAMAIQACCMAAQACCMAAQDCCEAAgDACEAAgjAAEAAgjAAEAwghA\\\n",
       "AIAwAhAAIIwABAAIIwABAMIIQACAMAIQACCMAAQACCMAAQDCCEAAgDACEAAgjAAEAAgjAAEAwghA\\\n",
       "AIAwAhAAIIwABAAIIwABAMIIQACAMAIQACCMAAQACCMAAQDCCEAAgDACEAAgjAAEAAgjAAEAwghA\\\n",
       "AIAwAhAAIIwABAAIIwABAMIIQACAMAIQACCMAAQACCMAAQDCCEAAgDACEACgsvwLgKgsWtNWhucA\\\n",
       "AAAASUVORK5CYII=\\\n",
       "\"\n",
       "  frames[3] = \"data:image/png;base64,iVBORw0KGgoAAAANSUhEUgAAAoAAAAHgCAYAAAA10dzkAAAAOnRFWHRTb2Z0d2FyZQBNYXRwbG90\\\n",
       "bGliIHZlcnNpb24zLjEwLjAsIGh0dHBzOi8vbWF0cGxvdGxpYi5vcmcvlHJYcgAAAAlwSFlzAAAP\\\n",
       "YQAAD2EBqD+naQAADixJREFUeJzt3M+LV/Uex/H3TIqIvyvDMAMtEdz4k0oQFENcBf4BoqJUmyAt\\\n",
       "EzEUUXAWKgltdNFCcSO4aSFu3CQKGSGCLjTMhZtZhmDmD3Qu59w7X5q8dJ1Z9J37fT0ecJjzPZwZ\\\n",
       "PosD3+d8zvmcvqGhoaECACBGf7cHAADAP0sAAgCEEYAAAGEEIABAGAEIABBGAAIAhBGAAABhBCAA\\\n",
       "QBgBCAAQRgACAIQRgAAAYQQgAEAYAQgAEEYAAgCEEYAAAGEEIABAGAEIABBGAAIAhBGAAABhBCAA\\\n",
       "QBgBCAAQRgACAIQRgAAAYQQgAEAYAQgAEEYAAgCEEYAAAGEEIABAGAEIABBGAAIAhBGAAABhBCAA\\\n",
       "QBgBCAAQRgACAIQRgAAAYQQgAEAYAQgAEEYAAgCEEYAAAGEEIABAGAEIABBGAAIAhBGAAABhBCAA\\\n",
       "QBgBCAAQRgACAIQRgAAAYQQgAEAYAQgAEEYAAgCEEYAAAGEEIADwf6mvr+9vtwMHDnR7iOPWhG4P\\\n",
       "AABgLAYHBzv7Z8+erf3799ft27c7x6ZOndrZHxoaqmfPntWECdKnYQZwDH7//ffavHlze2G9+eab\\\n",
       "dezYsVq7dm3t2LGj20MDgBhz5szpbDNmzGhn/YY/37p1q6ZNm1YXLlyoFStW1KRJk+ry5cu1devW\\\n",
       "2rhx44i/03x/N9/jw54/f14DAwM1f/78mjx5ci1ZsqTOnTtXvUQGj8FXX31VP/zwQ33//ff1xhtv\\\n",
       "1N69e+vatWu1dOnSbg8NAPiTPXv21NGjR2vBggU1a9asl/qdgYGBOnPmTJ04caIWLlxYly5dqk2b\\\n",
       "NtXs2bNrzZo11QsE4Cg9ePCgvvvuu/bC+PDDD9tjp06dqrfeeqvbQwMA/uLgwYO1fv36lz7/8ePH\\\n",
       "dfjw4bp48WKtWrWqPdbEYzN7ePLkSQGY6tdff60nT57U+++/3zn26quv1qJFi7o6LgDgRStXrhzV\\\n",
       "+Xfu3KmHDx++EI3Nd/+yZcuqVwhAAKBnTZkyZcTn/v7+dkHInz19+nTEnb7G+fPna+7cuSPOa54j\\\n",
       "7BUWgYzSO++8UxMnTqyrV692jv3222/1yy+/dHVcAMD/1jzHN/in1cON69evd/YXL17cht69e/fq\\\n",
       "3XffHbHNmzeveoUZwFFqVv5u3769XQjy2muvtYtAvv766/Y/CgBgfFu3bl0dOXKkTp8+3T7j1zzT\\\n",
       "f/Pmzc7t3Wbl8K5du2rnzp3tauDVq1fX/fv368qVKzV9+vTasmVL9QIBOAbNhdNMEX/00UfthfLl\\\n",
       "l1+2FwcAML5t2LCh9u3bV7t3765Hjx7Vtm3b2le73bhxo3POoUOH2pnCZjXw3bt3a+bMmbV8+fL2\\\n",
       "rR+9om/orzfCGZPm/UHNa2COHz/e7aEAAPwt9y0BAMIIQACAMG4BAwCEMQMIABBGAAIAhBGAAABh\\\n",
       "BCAAQBgBCAAQRgACAIQRgAAAYQQgAEAYAQgAEEYAAgCEEYAAAGEEIABAGAEIABBGAAIAhBGAAABh\\\n",
       "BCAAQBgBCAAQRgACAIQRgAAAYQQgAEAYAQgAEEYAAgCEEYAAAGEEIABAGAEIABBGAAIAhBGAAABh\\\n",
       "BCAAQBgBCAAQRgACAIQRgAAAYQQgAEAYAQgAEEYAAgCEEYAAAGEEIABAGAEIABBGAAIAhBGAAABh\\\n",
       "BCAAQBgBCAAQRgACAIQRgAAAYQQgAEAYAQgAEEYAAgCEEYAAAGEEIABAGAEIABBGAAIAhBGAAABh\\\n",
       "BCAAQBgBCAAQRgACAIQRgAAAYQQgAEAYAQgAEEYAAgCEEYAAAGEEIABAGAEIABBGAAIAhBGAAABh\\\n",
       "BCAAQBgBCAAQRgACAIQRgAAAYQQgAEAYAQgAEEYAAgCEEYAAAGEEIABAGAEIABBGAAIAhBGAAABh\\\n",
       "BCAAQBgBCAAQRgACAIQRgAAAYQQgAEAYAQgAEEYAAgCEEYAAAGEEIABAGAEIABBGAAIAhBGAAABh\\\n",
       "BCAAQBgBCAAQRgACAIQRgAAAYQQgAEAYAQgAEEYAAgCEEYAAAGEEIABAGAEIABBGAAIAhBGAAABh\\\n",
       "BCAAQBgBCAAQRgACAIQRgAAAYQQgAEAYAQgAEEYAAgCEEYAAAGEEIABAGAEIABBGAAIAhBGAAABh\\\n",
       "BCAAQBgBCAAQRgACAIQRgAAAYQQgAEAYAQgAEEYAAgCEEYAAAGEEIABAGAEIABBGAAIAhBGAAABh\\\n",
       "BCAAQBgBCAAQRgACAIQRgAAAYQQgAEAYAQgAEEYAAgCEEYAAAGEEIABAGAEIABBGAAIAhBGAAABh\\\n",
       "BCAAQBgBCAAQRgACAIQRgAAAYQQgAEAYAQgAEEYAAgCEEYAAAGEEIABAGAEIABBGAAIAhBGAAABh\\\n",
       "BCAAQBgBCAAQRgACAIQRgAAAYQQgAEAYAQgAEEYAAgCEEYAAAGEEIABAGAEIABBGAAIAhBGAAABh\\\n",
       "BCAAQBgBCAAQRgACAIQRgAAAYQQgAEAYAQgAEEYAAgCEEYAAAGEEIABAGAEIABBGAAIAhBGAAABh\\\n",
       "BCAAQBgBCAAQRgACAIQRgAAAYQQgAEAYAQgAEEYAAgCEEYAAAGEEIABAGAEIABBGAAIAhBGAAABh\\\n",
       "BCAAQBgBCAAQRgACAIQRgAAAYQQgAEAYAQgAEEYAAgCEEYAAAGEEIABAGAEIABBGAAIAhBGAAABh\\\n",
       "BCAAQBgBCAAQRgACAIQRgAAAYQQgAEAYAQgAEEYAAgCEEYAAAGEEIABAGAEIABBGAAIAhBGAAABh\\\n",
       "BCAAQBgBCAAQRgACAIQRgAAAYQQgAEAYAQgAEEYAAgCEEYAAAGEEIABAGAEIABBGAAIAhBGAAABh\\\n",
       "BCAAQBgBCAAQRgACAIQRgAAAYQQgAEAYAQgAEEYAAgCEEYAAAGEEIABAGAEIABBGAAIAhBGAAABh\\\n",
       "BCAAQBgBCAAQRgACAIQRgAAAYQQgAEAYAQgAEEYAAgCEEYAAAGEEIABAGAEIABBGAAIAhBGAAABh\\\n",
       "BCAAQBgBCAAQRgACAIQRgAAAYQQgAEAYAQgAEEYAAgCEEYAAAGEEIABAGAEIABBGAAIAhBGAAABh\\\n",
       "BCAAQBgBCAAQRgACAIQRgAAAYQQgAEAYAQgAEEYAAgCEEYAAAGEEIABAGAEIABBGAAIAhBGAAABh\\\n",
       "BCAAQBgBCAAQRgACAIQRgAAAYQQgAEAYAQgAEEYAAgCEEYAAAGEEIABAGAEIABBGAAIAhBGAAABh\\\n",
       "BCAAQBgBCAAQRgACAIQRgAAAYQQgAEAYAQgAEEYAAgCEEYAAAGEEIABAGAEIABBGAAIAhBGAAABh\\\n",
       "BCAAQBgBCAAQRgACAIQRgAAAYQQgAEAYAQgAEEYAAgCEEYAAAGEEIABAGAEIABBGAAIAhBGAAABh\\\n",
       "BCAAQBgBCAAQRgACAIQRgAAAYQQgAEAYAQgAEEYAAgCEEYAAAGEEIABAGAEIABBGAAIAhBGAAABh\\\n",
       "BCAAQBgBCAAQRgACAIQRgAAAYQQgAEAYAQgAEEYAAgCEEYAAAGEEIABAGAEIABBGAAIAhBGAAABh\\\n",
       "BCAAQBgBCAAQRgACAIQRgAAAYQQgAEAYAQgAEEYAAgCEEYAAAGEEIABAGAEIABBGAAIAhBGAAABh\\\n",
       "BCAAQBgBCAAQRgACAIQRgAAAYQQgAEAYAQgAEEYAAgCEEYAAAGEEIABAGAEIABBGAAIAhBGAAABh\\\n",
       "BCAAQBgBCAAQRgACAIQRgAAAYQQgAPB/qa+v72+3AwcOdHuI49aEbg8AAGAsBgcHO/tnz56t/fv3\\\n",
       "1+3btzvHpk6d2tkfGhqqZ8+e1YQJ0qdhBnAM1q5dW5999lm7zZgxo15//fXat29fe3EBAP+MOXPm\\\n",
       "dLbm+7iZ9Rv+fOvWrZo2bVpduHChVqxYUZMmTarLly/X1q1ba+PGjSP+zo4dO9rv9mHPnz+vgYGB\\\n",
       "mj9/fk2ePLmWLFlS586dq14ig8fo1KlTtX379vrpp5/q559/rk8++aTefvvt+vjjj7s9NADgP/bs\\\n",
       "2VNHjx6tBQsW1KxZs17qdwYGBurMmTN14sSJWrhwYV26dKk2bdpUs2fPrjVr1lQvEIBjNG/evPrm\\\n",
       "m2/a/zYWLVpUN27caD8LQAAYPw4ePFjr169/6fMfP35chw8frosXL9aqVavaY008NrOHJ0+eFIDp\\\n",
       "Pvjggzb+hjUXybFjx9rnC1555ZWujg0A+LeVK1eO6vw7d+7Uw4cPX4jGJ0+e1LJly6pXCEAAoGdN\\\n",
       "mTJlxOf+/v4Xntl/+vRpZ//Bgwftz/Pnz9fcuXNHnNc8R9grBOAYXb16dcTnH3/8sX1OwOwfAIxf\\\n",
       "zXN8N2/eHHHs+vXrNXHixHZ/8eLFbejdu3evZ273/jcCcIyaC+OLL76oTz/9tK5du1bffvttewsY\\\n",
       "ABi/1q1bV0eOHKnTp0+3j281iz2aIBy+vdusHN61a1ft3LmzXQ28evXqun//fl25cqWmT59eW7Zs\\\n",
       "qV4gAMdo8+bN9ccff9R7773Xzvp9/vnn7UpgAGD82rBhQ/vqtt27d9ejR49q27Zt7Xd6s5hz2KFD\\\n",
       "h9qZwmY18N27d2vmzJm1fPny2rt3b/WKviEvrxu15l1BS5curePHj3d7KAAAo+ZF0AAAYQQgAEAY\\\n",
       "t4ABAMKYAQQACCMAAQDCCEAAgDACEAAgjAAEAAgjAAEAwghAAIAwAhAAIIwABAAIIwABAMIIQACA\\\n",
       "MAIQACCMAAQACCMAAQDCCEAAgDACEAAgjAAEAAgjAAEAwghAAIAwAhAAIIwABAAIIwABAMIIQACA\\\n",
       "MAIQACCMAAQACCMAAQDCCEAAgDACEAAgjAAEAAgjAAEAwghAAIAwAhAAIIwABAAIIwABAMIIQACA\\\n",
       "MAIQACCMAAQACCMAAQDCCEAAgDACEAAgjAAEAAgjAAEAwghAAIAwAhAAIIwABACoLP8CiBCns4uk\\\n",
       "cOwAAAAASUVORK5CYII=\\\n",
       "\"\n",
       "\n",
       "\n",
       "    /* set a timeout to make sure all the above elements are created before\n",
       "       the object is initialized. */\n",
       "    setTimeout(function() {\n",
       "        animfa76d2f64af144fbb8db61024a1bfd49 = new Animation(frames, img_id, slider_id, 1000.0,\n",
       "                                 loop_select_id);\n",
       "    }, 0);\n",
       "  })()\n",
       "</script>\n"
      ],
      "text/plain": [
       "<IPython.core.display.HTML object>"
      ]
     },
     "execution_count": 3,
     "metadata": {},
     "output_type": "execute_result"
    },
    {
     "data": {
      "image/png": "[encoded data removed]",
      "text/plain": [
       "<Figure size 640x480 with 1 Axes>"
      ]
     },
     "metadata": {},
     "output_type": "display_data"
    }
   ],
   "source": [
    "import matplotlib.pyplot as plt \n",
    "from matplotlib.animation import FuncAnimation\n",
    "from IPython.display import HTML\n",
    "\n",
    "fig, ax = plt.subplots()\n",
    "ax.axis('off')\n",
    "celdas = [ax.text(i, j, '', ha='center', va='center') for i in range(3) for j in range(3)]\n",
    "\n",
    "def init():\n",
    "    for txt in celdas:\n",
    "        txt.set_text('')\n",
    "    return celdas\n",
    "\n",
    "def animate(frame):\n",
    "    valores = [(p, q, p and q) for p in [False, True] for q in [False, True]][frame]\n",
    "    textos = ['p', 'q', 'p ∧ q'] + list(valores)\n",
    "    for i, txt in enumerate(textos):\n",
    "        celdas[i].set_text(str(txt))\n",
    "    return celdas\n",
    "\n",
    "ani = FuncAnimation(fig, animate, frames=4, init_func=init, interval=1000)\n",
    "HTML(ani.to_jshtml())\n"
   ]
  },
  {
   "cell_type": "markdown",
   "id": "587bf948",
   "metadata": {},
   "source": [
    "\n",
    "---\n"
   ]
  },
  {
   "cell_type": "markdown",
   "id": "da9d3e1e",
   "metadata": {},
   "source": [
    "\n",
    "**8. Evaluación**  \n",
    "**Proyectos STEAM:**  \n",
    "1. **Ciencias:** Modelar el comportamiento de un ecosistema con reglas lógicas.  \n",
    "2. **Tecnología:** Simular compuertas AND/OR con circuitos en Python.  \n",
    "3. **Arte:** Crear una escultura digital que cambie con combinaciones lógicas.  \n"
   ]
  },
  {
   "cell_type": "markdown",
   "id": "cd10203e",
   "metadata": {},
   "source": [
    "\n",
    "**Quiz ejemplo:**  \n"
   ]
  },
  {
   "cell_type": "code",
   "execution_count": 4,
   "id": "d9aeda13",
   "metadata": {},
   "outputs": [],
   "source": [
    "\n",
    "preguntas = [\n",
    "    {\"pregunta\": \"¿Qué valor tiene ¬(V ∧ F)?\", \"opciones\": [\"V\", \"F\"], \"respuesta\": 0},\n",
    "    {\"pregunta\": \"Si p=V y q=F, ¿p → q es...?\", \"opciones\": [\"V\", \"F\"], \"respuesta\": 1}\n",
    "]\n",
    "\n"
   ]
  },
  {
   "cell_type": "markdown",
   "id": "26938d6b",
   "metadata": {},
   "source": [
    "Aquí tienes tres ejemplos de **quizzes de 3 puntos** integrando lógica, código Python y aplicaciones prácticas:\n",
    "\n",
    "---\n"
   ]
  },
  {
   "cell_type": "markdown",
   "id": "040cf06a",
   "metadata": {},
   "source": [
    "\n",
    "### **Quiz 1: Operador AND**  \n",
    "1. **Circuito eléctrico**:  \n",
    "   ¿Cómo representarías una compuerta AND con interruptores y una lámpara?  \n",
    "   *Respuesta*: Dos interruptores en serie: la lámpara se enciende solo si ambos están cerrados (True).  \n",
    "\n",
    "2. **Código Python**:  \n",
    "   Completa la función usando `numpy.where`:  \n"
   ]
  },
  {
   "cell_type": "code",
   "execution_count": 11,
   "id": "b3cd705e",
   "metadata": {},
   "outputs": [],
   "source": [
    "def logical_and(a, b):\n",
    "    return np.where(a & b, 1, 0)  \n",
    "  \n"
   ]
  },
  {
   "cell_type": "code",
   "execution_count": 12,
   "id": "4b1b36e0",
   "metadata": {},
   "outputs": [
    {
     "data": {
      "text/plain": [
       "array(0)"
      ]
     },
     "execution_count": 12,
     "metadata": {},
     "output_type": "execute_result"
    }
   ],
   "source": [
    "logical_and(False, True)"
   ]
  },
  {
   "cell_type": "markdown",
   "id": "5f581abd",
   "metadata": {},
   "source": [
    "\n",
    "3. **Aplicación real**:  \n",
    "   ¿En qué sistema de seguridad se usaría una lógica AND?  \n"
   ]
  },
  {
   "cell_type": "markdown",
   "id": "3c76c6ed",
   "metadata": {},
   "source": [
    "   *Respuesta*: Alarma que requiere dos códigos simultáneos para desactivarse.  \n",
    "\n",
    "---\n"
   ]
  },
  {
   "cell_type": "markdown",
   "id": "cae7f4ee",
   "metadata": {},
   "source": [
    "\n",
    "### **Quiz 2: Operador OR**  \n",
    "1. **Analogía física**:  \n",
    "   Dibuja un circuito equivalente a OR usando switches.  \n",
    "   *Respuesta*: Interruptores en paralelo: la lámpara se enciende si al menos uno está cerrado.  \n",
    "\n",
    "2. **Tabla de verdad**:  \n",
    "   Genera un DataFrame con Pandas para OR:  \n"
   ]
  },
  {
   "cell_type": "markdown",
   "id": "40535833",
   "metadata": {},
   "source": [
    "   ```python  \n",
    "   import pandas as pd  \n",
    "   data = {'A': [0,0,1,1], 'B': [0,1,0,1], 'OR': [0,1,1,1]}  \n",
    "   df = pd.DataFrame(data)  \n",
    "   ```  \n"
   ]
  },
  {
   "cell_type": "markdown",
   "id": "69537bf9",
   "metadata": {},
   "source": [
    "\n",
    "3. **Caso práctico**:  \n",
    "   ¿Dónde se aplica OR en domótica?  \n",
    "   *Respuesta*: Sistema de luces que se activan con cualquier sensor de movimiento.  \n",
    "\n",
    "---\n"
   ]
  },
  {
   "cell_type": "markdown",
   "id": "499d3c8b",
   "metadata": {},
   "source": [
    "\n",
    "### **Quiz 3: Operador XOR**  \n",
    "1. **Circuito lógico**:  \n",
    "   ¿Qué combinación de compuertas crea un XOR?  \n",
    "   *Respuesta*: (A OR B) AND NOT (A AND B).  \n",
    "\n",
    "2. **Simulación**:  \n",
    "   Implementa XOR con SymPy:  \n"
   ]
  },
  {
   "cell_type": "code",
   "execution_count": 16,
   "id": "81b1879b",
   "metadata": {},
   "outputs": [
    {
     "data": {
      "text/latex": [
       "$\\displaystyle \\text{False}$"
      ],
      "text/plain": [
       "False"
      ]
     },
     "execution_count": 16,
     "metadata": {},
     "output_type": "execute_result"
    }
   ],
   "source": [
    "from sympy import Xor \n",
    "from sympy.abc import A, B\n",
    "A,B = 1, 1\n",
    "expr = Xor(A, B)  # Retorna A ^ B  \n",
    "expr  \n"
   ]
  },
  {
   "cell_type": "markdown",
   "id": "f94c0e5d",
   "metadata": {},
   "source": [
    "# Aplicaciones reales para la XOR   \n",
    "\n",
    "Aquí tienes una descripción detallada de **aplicaciones del operador XOR** (OR exclusivo) especialmente relevantes para la formación de licenciados en matemáticas de la Universidad de Antioquia, con énfasis en ciencia de datos y conexiones interdisciplinares:\n",
    "\n",
    "---\n"
   ]
  },
  {
   "cell_type": "markdown",
   "id": "371eb032",
   "metadata": {},
   "source": [
    "\n",
    "### **Aplicaciones del XOR en Matemáticas Puras y Aplicadas**  \n",
    "**1. Criptografía y Teoría de Códigos**  \n",
    "   - **Cifrado de Vernam**:  \n",
    "     El XOR es la base del cifrado perfecto (One-Time Pad). Ejemplo:  \n"
   ]
  },
  {
   "cell_type": "code",
   "execution_count": 18,
   "id": "eba2c3f4",
   "metadata": {},
   "outputs": [
    {
     "data": {
      "text/plain": [
       "[5, 9]"
      ]
     },
     "execution_count": 18,
     "metadata": {},
     "output_type": "execute_result"
    }
   ],
   "source": [
    "mensaje = [0b1010, 0b1100]  # \"Hola\" en binario  \n",
    "clave = [0b1111, 0b0101]  \n",
    "cifrado = [m ^ k for m, k in zip(mensaje, clave)]  # [0b0101, 0b1001]  \n",
    "cifrado "
   ]
  },
  {
   "cell_type": "markdown",
   "id": "f88c5d38",
   "metadata": {},
   "source": [
    "# Cómo se simboliza en Python el operador XOR \n",
    "\n"
   ]
  },
  {
   "cell_type": "code",
   "execution_count": 22,
   "id": "bd59a51b",
   "metadata": {},
   "outputs": [
    {
     "data": {
      "text/plain": [
       "True"
      ]
     },
     "execution_count": 22,
     "metadata": {},
     "output_type": "execute_result"
    }
   ],
   "source": [
    "False ^ True # El acento circunplejo es el símbolo para el operador lógico XOR "
   ]
  },
  {
   "cell_type": "markdown",
   "id": "a614563c",
   "metadata": {},
   "source": [
    "  \n",
    "     *Relevancia para matemáticos*: Estudio de grupos aditivos en cuerpos finitos (𝔽₂).  \n",
    "\n",
    "   - **Detección de Errores**:  \n",
    "     En códigos Hamming, el XOR calcula bits de paridad para identificar errores en transmisión de datos.  \n"
   ]
  },
  {
   "cell_type": "markdown",
   "id": "659945a7",
   "metadata": {},
   "source": [
    "\n",
    "**2. Álgebra Abstracta**  \n",
    "   - **Estructuras Algebraicas**:  \n",
    "     El XOR (⊕) define un grupo abeliano en 𝔽₂, con aplicaciones en teoría de retículos (lattices) y álgebras booleanas.  \n",
    "     *Ejercicio*: Demostrar que (𝔽₂, ⊕) cumple asociatividad, conmutatividad y existencia de inverso.  \n"
   ]
  },
  {
   "cell_type": "markdown",
   "id": "f987ad0d",
   "metadata": {},
   "source": [
    "\n",
    "**3. Topología y Geometría Discreta**  \n",
    "   - **Persistencia Topológica**:  \n",
    "     En análisis de datos topológicos (TDA), el XOR ayuda a identificar patrones no lineales en nubes de puntos.  \n",
    "\n",
    "---\n"
   ]
  },
  {
   "cell_type": "markdown",
   "id": "ad45ff6e",
   "metadata": {},
   "source": [
    "\n",
    "### **Aplicaciones en Ciencia de Datos (Enfoque Práctico)**  \n",
    "**1. Clasificación No Lineal**  \n",
    "   - **Problema del XOR**:  \n",
    "     Caso emblemático donde perceptrones simples fallan, requiriendo redes neuronales multicapa (MLP). Ejemplo en TensorFlow: "
   ]
  },
  {
   "cell_type": "code",
   "execution_count": 24,
   "id": "b2caa618",
   "metadata": {},
   "outputs": [
    {
     "ename": "ModuleNotFoundError",
     "evalue": "No module named 'distutils'",
     "output_type": "error",
     "traceback": [
      "\u001b[1;31m---------------------------------------------------------------------------\u001b[0m",
      "\u001b[1;31mModuleNotFoundError\u001b[0m                       Traceback (most recent call last)",
      "Cell \u001b[1;32mIn[24], line 1\u001b[0m\n\u001b[1;32m----> 1\u001b[0m \u001b[38;5;28;01mimport\u001b[39;00m\u001b[38;5;250m \u001b[39m\u001b[38;5;21;01mtensorflow\u001b[39;00m\u001b[38;5;250m \u001b[39m\u001b[38;5;28;01mas\u001b[39;00m\u001b[38;5;250m \u001b[39m\u001b[38;5;21;01mtf\u001b[39;00m  \n\u001b[0;32m      2\u001b[0m modelo \u001b[38;5;241m=\u001b[39m tf\u001b[38;5;241m.\u001b[39mkeras\u001b[38;5;241m.\u001b[39mSequential([  \n\u001b[0;32m      3\u001b[0m     tf\u001b[38;5;241m.\u001b[39mkeras\u001b[38;5;241m.\u001b[39mlayers\u001b[38;5;241m.\u001b[39mDense(\u001b[38;5;241m2\u001b[39m, activation\u001b[38;5;241m=\u001b[39m\u001b[38;5;124m'\u001b[39m\u001b[38;5;124mrelu\u001b[39m\u001b[38;5;124m'\u001b[39m, input_shape\u001b[38;5;241m=\u001b[39m(\u001b[38;5;241m2\u001b[39m,)),  \n\u001b[0;32m      4\u001b[0m     tf\u001b[38;5;241m.\u001b[39mkeras\u001b[38;5;241m.\u001b[39mlayers\u001b[38;5;241m.\u001b[39mDense(\u001b[38;5;241m1\u001b[39m, activation\u001b[38;5;241m=\u001b[39m\u001b[38;5;124m'\u001b[39m\u001b[38;5;124msigmoid\u001b[39m\u001b[38;5;124m'\u001b[39m)  \n\u001b[0;32m      5\u001b[0m ])  \n\u001b[0;32m      6\u001b[0m modelo\u001b[38;5;241m.\u001b[39mcompile(optimizer\u001b[38;5;241m=\u001b[39m\u001b[38;5;124m'\u001b[39m\u001b[38;5;124madam\u001b[39m\u001b[38;5;124m'\u001b[39m, loss\u001b[38;5;241m=\u001b[39m\u001b[38;5;124m'\u001b[39m\u001b[38;5;124mbinary_crossentropy\u001b[39m\u001b[38;5;124m'\u001b[39m)  \n",
      "File \u001b[1;32mc:\\Users\\marco\\Documentos\\docencia\\fundamentos_logica\\.venv\\Lib\\site-packages\\tensorflow\\__init__.py:30\u001b[0m\n\u001b[0;32m     15\u001b[0m \u001b[38;5;124;03m\"\"\"\u001b[39;00m\n\u001b[0;32m     16\u001b[0m \u001b[38;5;124;03mTop-level module of TensorFlow. By convention, we refer to this module as\u001b[39;00m\n\u001b[0;32m     17\u001b[0m \u001b[38;5;124;03m`tf` instead of `tensorflow`, following the common practice of importing\u001b[39;00m\n\u001b[1;32m   (...)\u001b[0m\n\u001b[0;32m     26\u001b[0m \u001b[38;5;124;03mthis file with a file generated from [`api_template.__init__.py`](https://www.github.com/tensorflow/tensorflow/blob/master/tensorflow/api_template.__init__.py)\u001b[39;00m\n\u001b[0;32m     27\u001b[0m \u001b[38;5;124;03m\"\"\"\u001b[39;00m\n\u001b[0;32m     28\u001b[0m \u001b[38;5;66;03m# pylint: disable=g-bad-import-order,protected-access,g-import-not-at-top\u001b[39;00m\n\u001b[1;32m---> 30\u001b[0m \u001b[38;5;28;01mimport\u001b[39;00m\u001b[38;5;250m \u001b[39m\u001b[38;5;21;01mdistutils\u001b[39;00m\u001b[38;5;250m \u001b[39m\u001b[38;5;28;01mas\u001b[39;00m\u001b[38;5;250m \u001b[39m\u001b[38;5;21;01m_distutils\u001b[39;00m\n\u001b[0;32m     31\u001b[0m \u001b[38;5;28;01mimport\u001b[39;00m\u001b[38;5;250m \u001b[39m\u001b[38;5;21;01mimportlib\u001b[39;00m\n\u001b[0;32m     32\u001b[0m \u001b[38;5;28;01mimport\u001b[39;00m\u001b[38;5;250m \u001b[39m\u001b[38;5;21;01minspect\u001b[39;00m\u001b[38;5;250m \u001b[39m\u001b[38;5;28;01mas\u001b[39;00m\u001b[38;5;250m \u001b[39m\u001b[38;5;21;01m_inspect\u001b[39;00m\n",
      "\u001b[1;31mModuleNotFoundError\u001b[0m: No module named 'distutils'"
     ]
    }
   ],
   "source": [
    " \n",
    "import tensorflow as tf  \n",
    "modelo = tf.keras.Sequential([  \n",
    "    tf.keras.layers.Dense(2, activation='relu', input_shape=(2,)),  \n",
    "    tf.keras.layers.Dense(1, activation='sigmoid')  \n",
    "])  \n",
    "modelo.compile(optimizer='adam', loss='binary_crossentropy')  \n",
    "  \n"
   ]
  },
  {
   "cell_type": "markdown",
   "id": "277ff294",
   "metadata": {},
   "source": [
    "     *Dataset XOR*:  \n"
   ]
  },
  {
   "cell_type": "code",
   "execution_count": 25,
   "id": "c8c4e571",
   "metadata": {},
   "outputs": [],
   "source": [
    "X = [[0,0], [0,1], [1,0], [1,1]]  \n",
    "y = [0, 1, 1, 0]  # Salida XOR  \n",
    "  \n"
   ]
  },
  {
   "cell_type": "markdown",
   "id": "d08f507c",
   "metadata": {},
   "source": [
    "\n",
    "**2. Ingeniería de Características**  \n",
    "   - **Creación de Features No Lineales**:  \n",
    "     En problemas donde variables interactúan de forma no aditiva, se añaden columnas como `(A ⊕ B)` a DataFrames.  \n",
    "     *Ejemplo en Pandas*:  \n"
   ]
  },
  {
   "cell_type": "code",
   "execution_count": 26,
   "id": "01d41af5",
   "metadata": {},
   "outputs": [
    {
     "ename": "NameError",
     "evalue": "name 'df' is not defined",
     "output_type": "error",
     "traceback": [
      "\u001b[1;31m---------------------------------------------------------------------------\u001b[0m",
      "\u001b[1;31mNameError\u001b[0m                                 Traceback (most recent call last)",
      "Cell \u001b[1;32mIn[26], line 2\u001b[0m\n\u001b[0;32m      1\u001b[0m \u001b[38;5;28;01mimport\u001b[39;00m\u001b[38;5;250m \u001b[39m\u001b[38;5;21;01mpandas\u001b[39;00m\u001b[38;5;250m \u001b[39m\u001b[38;5;28;01mas\u001b[39;00m\u001b[38;5;250m \u001b[39m\u001b[38;5;21;01mpd\u001b[39;00m  \n\u001b[1;32m----> 2\u001b[0m df[\u001b[38;5;124m'\u001b[39m\u001b[38;5;124mXOR_AB\u001b[39m\u001b[38;5;124m'\u001b[39m] \u001b[38;5;241m=\u001b[39m \u001b[43mdf\u001b[49m[\u001b[38;5;124m'\u001b[39m\u001b[38;5;124mA\u001b[39m\u001b[38;5;124m'\u001b[39m]\u001b[38;5;241m.\u001b[39mastype(\u001b[38;5;28mint\u001b[39m) \u001b[38;5;241m^\u001b[39m df[\u001b[38;5;124m'\u001b[39m\u001b[38;5;124mB\u001b[39m\u001b[38;5;124m'\u001b[39m]\u001b[38;5;241m.\u001b[39mastype(\u001b[38;5;28mint\u001b[39m)  \n",
      "\u001b[1;31mNameError\u001b[0m: name 'df' is not defined"
     ]
    }
   ],
   "source": [
    "import pandas as pd  \n",
    "df['XOR_AB'] = df['A'].astype(int) ^ df['B'].astype(int)  \n",
    "  \n"
   ]
  },
  {
   "cell_type": "markdown",
   "id": "5b60c988",
   "metadata": {},
   "source": [
    "\n",
    "**3. Detección de Anomalías**  \n",
    "   - **Sistemas de Auditoría**:  \n",
    "     Identificar transacciones sospechosas donde campos incongruentes (ej: `país_residencia ≠ país_tarjeta`) se modelan como XOR.  \n",
    "\n",
    "**4. Redes Neuronales para Data Augmentation**  \n",
    "   - **Generación de Datos Sintéticos**:  \n",
    "     En GANs (Redes Generativas Antagónicas), el XOR se usa para crear variaciones no triviales en datos binarios.  \n",
    "\n",
    "---\n"
   ]
  },
  {
   "cell_type": "markdown",
   "id": "8f47e8f4",
   "metadata": {},
   "source": [
    "\n",
    "### **Caso de Estudio: Universidad de Antioquia**  \n",
    "**Proyecto de Investigación Local**  \n",
    "   - **Análisis de Patrones en Biología Molecular**:  \n",
    "     Estudiar la presencia/ausencia de mutaciones genéticas (codificadas como 1/0) usando XOR para identificar relaciones exclusivas entre genes.  \n",
    "     *Herramientas*: Python + BioPython + Matplotlib.  \n",
    "\n",
    "   - **Optimización de Redes Eléctricas**:  \n",
    "     Modelar fallos en circuitos usando álgebra booleana (XOR para diferencias entre estados esperados vs. observados).  \n",
    "\n",
    "---\n"
   ]
  },
  {
   "cell_type": "markdown",
   "id": "e81823df",
   "metadata": {},
   "source": [
    "\n",
    "### **Ejercicios Propuestos para Licenciados**  \n",
    "1. **Teoría de Grafos**:  \n",
    "   Demostrar que el número cromático de un grafo bipartito completo se relaciona con operaciones XOR en su matriz de adyacencia.  \n",
    "\n",
    "2. **Simulación en Python**:  \n",
    "   Implementar un generador de números pseudoaleatorios usando XORShift, algoritmo clave en criptografía:  \n"
   ]
  },
  {
   "cell_type": "code",
   "execution_count": 1,
   "id": "12d4fb59",
   "metadata": {},
   "outputs": [],
   "source": [
    "def xor_shift(seed):  \n",
    "    seed ^= seed << 13  \n",
    "    seed ^= seed >> 17  \n",
    "    seed ^= seed << 5  \n",
    "    return seed % 2**32  \n",
    "  \n"
   ]
  },
  {
   "cell_type": "markdown",
   "id": "bb06113c",
   "metadata": {},
   "source": [
    "\n",
    "3. **Ciencia de Datos Sociales**:  \n",
    "   Analizar datos de encuestas (ej: respuestas sí/no) usando XOR para detectar contradicciones en preferencias políticas.  \n",
    "\n",
    "---\n"
   ]
  },
  {
   "cell_type": "markdown",
   "id": "ab7dbf1d",
   "metadata": {},
   "source": [
    "\n",
    "### **Por qué es Clave para Matemáticos de la UdeA**  \n",
    "- **Conexión con el Plan de Estudios**:  \n",
    "  - Álgebra Lineal → Espacios vectoriales sobre 𝔽₂.  \n",
    "  - Estadística → Modelos log-lineales con interacciones no aditivas.  \n",
    "  - Optimización → Algoritmos genéticos con operadores binarios.  \n",
    "\n",
    "- **Competencias STEAM**:  \n",
    "  Desarrollan habilidades para resolver problemas en áreas emergentes como ciberseguridad, inteligencia artificial y bioinformática.  \n",
    "\n",
    "\n",
    "\n"
   ]
  },
  {
   "cell_type": "markdown",
   "id": "d8f4a0aa",
   "metadata": {},
   "source": [
    "\n",
    "3. **Aplicación STEAM**:  \n",
    "   ¿Cómo usarías XOR en un sistema de detección de errores?  \n",
    "   *Respuesta*: En comunicación digital para verificación de paridad.  \n",
    "\n",
    "---\n"
   ]
  },
  {
   "cell_type": "markdown",
   "id": "a2e10a96",
   "metadata": {},
   "source": [
    "\n",
    "### Características comunes:  \n",
    "- **Integración ABPP**: Cada pregunta vincula teoría (lógica), práctica (código) y contexto real.  \n",
    "- **Herramientas usadas**:  \n",
    "  - `numpy.where` para operaciones vectorizadas.  \n",
    "  - `pandas.DataFrame` para análisis tabular.  \n",
    "  - `sympy.Xor` para modelado algebraico.  \n",
    "- **Evaluación formativa**: Combina respuestas cortas, código incompleto y casos aplicados.  \n",
    "\n"
   ]
  },
  {
   "cell_type": "markdown",
   "id": "e2937bac",
   "metadata": {},
   "source": [
    "\n",
    "**Examen parcial:**  \n",
    "*Demuestre con una tabla de verdad que $(p \\rightarrow q) \\equiv (\\neg p \\lor q)$.*  \n",
    "\n",
    "---\n"
   ]
  },
  {
   "cell_type": "markdown",
   "id": "84fb2a37",
   "metadata": {},
   "source": [
    "### **Diseño de Tres Parciales (5 Puntos Cada Uno) para Lógica Proposicional**\n",
    "\n",
    "A continuación, te presento tres ejemplos de parciales que integran los enfoques de **Aula Invertida**, **STEAMS** y **ABPP**, utilizando **cuadernos Jupyter**, **Python**, y cambios de representación a **circuitos eléctricos** y **circuitos digitales**.\n",
    "\n",
    "---\n"
   ]
  },
  {
   "cell_type": "markdown",
   "id": "647eb004",
   "metadata": {},
   "source": [
    "\n",
    "## **Parcial 1: Aula Invertida y Tablas de Verdad**\n",
    "\n",
    "### **Instrucciones:**\n",
    "1. Resuelve los siguientes ejercicios en un cuaderno Jupyter.\n",
    "2. Usa SymPy para verificar tus respuestas.\n",
    "3. Sube tu cuaderno a GitHub en la carpeta `Parcial1`.\n",
    "\n",
    "---\n"
   ]
  },
  {
   "cell_type": "markdown",
   "id": "67becc1f",
   "metadata": {},
   "source": [
    "\n",
    "### **Preguntas:**\n",
    "\n",
    "1. **(1 Punto)** Define con tus propias palabras qué es una **proposición lógica** y da dos ejemplos.\n",
    "\n",
    "2. **(2 Puntos)** Dadas las proposiciones:\n",
    "   - $p$: \"Está lloviendo.\"\n",
    "   - $q$: \"Llevo paraguas.\"\n",
    "   Escribe en notación lógica:\n",
    "   - a) \"Si está lloviendo, entonces llevo paraguas.\"\n",
    "   - b) \"No está lloviendo y no llevo paraguas.\"\n",
    "\n",
    "3. **(2 Puntos)** Usa SymPy para generar la tabla de verdad de la expresión: $(p \\land q) \\lor \\lnot p$.\n",
    "\n",
    "---\n"
   ]
  },
  {
   "cell_type": "markdown",
   "id": "2114aa05",
   "metadata": {},
   "source": [
    "\n",
    "## **Parcial 2: STEAMS y Circuitos Eléctricos**\n",
    "\n",
    "### **Instrucciones:**\n",
    "1. Resuelve los ejercicios en un cuaderno Jupyter.\n",
    "2. Usa Python para simular los circuitos eléctricos.\n",
    "3. Sube tu cuaderno a GitHub en la carpeta `Parcial2`.\n",
    "\n",
    "---\n"
   ]
  },
  {
   "cell_type": "markdown",
   "id": "cc9c7847",
   "metadata": {},
   "source": [
    "\n",
    "### **Preguntas:**\n",
    "\n",
    "1. **(1 Punto)** Dibuja el circuito eléctrico que representa la expresión lógica: $p \\lor q$.\n",
    "\n",
    "2. **(2 Puntos)** Simula en Python el circuito eléctrico de la expresión: $(p \\land q) \\lor \\lnot p$. Usa `ipywidgets` para crear controles interactivos que permitan cambiar los estados de $p$ y $q$.\n",
    "\n",
    "3. **(2 Puntos)** Explica cómo se relaciona la tabla de verdad de una expresión lógica con el comportamiento de un circuito eléctrico.\n",
    "\n",
    "---\n"
   ]
  },
  {
   "cell_type": "markdown",
   "id": "aceba407",
   "metadata": {},
   "source": [
    "\n",
    "## **Parcial 3: ABPP y Circuitos Digitales**\n",
    "\n",
    "### **Instrucciones:**\n",
    "1. Resuelve los ejercicios en un cuaderno Jupyter.\n",
    "2. Usa Python para simular los circuitos digitales.\n",
    "3. Sube tu cuaderno a GitHub en la carpeta `Parcial3`.\n",
    "\n",
    "---\n"
   ]
  },
  {
   "cell_type": "markdown",
   "id": "c39aa706",
   "metadata": {},
   "source": [
    "\n",
    "### **Preguntas:**\n",
    "\n",
    "1. **(1 Punto)** Dibuja el circuito digital que representa la expresión lógica: $p \\oplus q$.\n",
    "\n",
    "2. **(2 Puntos)** Simula en Python el circuito digital de la expresión: $(p \\land q) \\lor \\lnot p$. Usa `matplotlib` para visualizar las señales de entrada y salida.\n",
    "\n",
    "3. **(2 Puntos)** Propón un problema de la vida real que pueda resolverse usando lógica proposicional y diseña un circuito digital para implementar la solución.\n",
    "\n",
    "---\n"
   ]
  },
  {
   "cell_type": "markdown",
   "id": "f933c228",
   "metadata": {},
   "source": [
    "\n",
    "### **Script de Python para Convertir a .docx**\n"
   ]
  },
  {
   "cell_type": "code",
   "execution_count": 2,
   "id": "9dca119e",
   "metadata": {},
   "outputs": [
    {
     "name": "stderr",
     "output_type": "stream",
     "text": [
      "<>:12: SyntaxWarning: invalid escape sequence '\\l'\n",
      "<>:30: SyntaxWarning: invalid escape sequence '\\l'\n",
      "<>:43: SyntaxWarning: invalid escape sequence '\\o'\n",
      "<>:12: SyntaxWarning: invalid escape sequence '\\l'\n",
      "<>:30: SyntaxWarning: invalid escape sequence '\\l'\n",
      "<>:43: SyntaxWarning: invalid escape sequence '\\o'\n",
      "C:\\Users\\marco\\AppData\\Local\\Temp\\ipykernel_18868\\2483304312.py:12: SyntaxWarning: invalid escape sequence '\\l'\n",
      "  \"\"\"\n",
      "C:\\Users\\marco\\AppData\\Local\\Temp\\ipykernel_18868\\2483304312.py:30: SyntaxWarning: invalid escape sequence '\\l'\n",
      "  \"\"\"\n",
      "C:\\Users\\marco\\AppData\\Local\\Temp\\ipykernel_18868\\2483304312.py:43: SyntaxWarning: invalid escape sequence '\\o'\n",
      "  \"\"\"\n"
     ]
    },
    {
     "name": "stdout",
     "output_type": "stream",
     "text": [
      "✅ Documento Word generado exitosamente.\n"
     ]
    }
   ],
   "source": [
    "\n",
    "\n",
    "from docx import Document\n",
    "from docx.shared import Inches\n",
    "\n",
    "# Crear un documento de Word\n",
    "doc = Document()\n",
    "\n",
    "# Añadir título\n",
    "doc.add_heading('Parciales de Lógica Proposicional', 0)\n",
    "\n",
    "# Añadir contenido de los parciales\n",
    "parciales = [\n",
    "    \"\"\"\n",
    "    ## Parcial 1: Aula Invertida y Tablas de Verdad\n",
    "\n",
    "    ### Instrucciones:\n",
    "    1. Resuelve los siguientes ejercicios en un cuaderno Jupyter.\n",
    "    2. Usa SymPy para verificar tus respuestas.\n",
    "    3. Sube tu cuaderno a GitHub en la carpeta `Parcial1`.\n",
    "\n",
    "    ### Preguntas:\n",
    "    1. **(1 Punto)** Define con tus propias palabras qué es una **proposición lógica** y da dos ejemplos.\n",
    "    2. **(2 Puntos)** Dadas las proposiciones:\n",
    "       - $p$: \"Está lloviendo.\"\n",
    "       - $q$: \"Llevo paraguas.\"\n",
    "       Escribe en notación lógica:\n",
    "       - a) \"Si está lloviendo, entonces llevo paraguas.\"\n",
    "       - b) \"No está lloviendo y no llevo paraguas.\"\n",
    "    3. **(2 Puntos)** Usa SymPy para generar la tabla de verdad de la expresión: $(p \\land q) \\lor \\lnot p$.\n",
    "    \"\"\",\n",
    "    \"\"\"\n",
    "    ## Parcial 2: STEAMS y Circuitos Eléctricos\n",
    "\n",
    "    ### Instrucciones:\n",
    "    1. Resuelve los ejercicios en un cuaderno Jupyter.\n",
    "    2. Usa Python para simular los circuitos eléctricos.\n",
    "    3. Sube tu cuaderno a GitHub en la carpeta `Parcial2`.\n",
    "\n",
    "    ### Preguntas:\n",
    "    1. **(1 Punto)** Dibuja el circuito eléctrico que representa la expresión lógica: $p \\lor q$.\n",
    "    2. **(2 Puntos)** Simula en Python el circuito eléctrico de la expresión: $(p \\land q) \\lor \\lnot p$. Usa `ipywidgets` para crear controles interactivos.\n",
    "    3. **(2 Puntos)** Explica cómo se relaciona la tabla de verdad de una expresión lógica con el comportamiento de un circuito eléctrico.\n",
    "    \"\"\",\n",
    "    \"\"\"\n",
    "    ## Parcial 3: ABPP y Circuitos Digitales\n",
    "\n",
    "    ### Instrucciones:\n",
    "    1. Resuelve los ejercicios en un cuaderno Jupyter.\n",
    "    2. Usa Python para simular los circuitos digitales.\n",
    "    3. Sube tu cuaderno a GitHub en la carpeta `Parcial3`.\n",
    "\n",
    "    ### Preguntas:\n",
    "    1. **(1 Punto)** Dibuja el circuito digital que representa la expresión lógica: $p \\oplus q$.\n",
    "    2. **(2 Puntos)** Simula en Python el circuito digital de la expresión: $(p \\land q) \\lor \\lnot p$. Usa `matplotlib` para visualizar las señales.\n",
    "    3. **(2 Puntos)** Propón un problema de la vida real que pueda resolverse usando lógica proposicional y diseña un circuito digital para implementar la solución.\n",
    "    \"\"\"\n",
    "]\n",
    "\n",
    "# Añadir cada parcial al documento\n",
    "for parcial in parciales:\n",
    "    doc.add_paragraph(parcial)\n",
    "\n",
    "# Guardar el documento\n",
    "doc.save('Parciales_Logica_Proposicional.docx')\n",
    "\n",
    "print(\"✅ Documento Word generado exitosamente.\")\n",
    "\n"
   ]
  },
  {
   "cell_type": "markdown",
   "id": "f54601ca",
   "metadata": {},
   "source": [
    "\n",
    "---\n",
    "\n",
    "### **Instrucciones para Usar el Script:**\n",
    "1. Guarda el script en un archivo `.py`.\n",
    "2. Ejecuta el script en tu entorno de Python.\n",
    "3. El archivo `Parciales_Logica_Proposicional.docx` se generará en la misma carpeta.\n",
    "\n",
    "---\n"
   ]
  },
  {
   "cell_type": "markdown",
   "id": "b2087853",
   "metadata": {},
   "source": [
    "\n",
    "### **Resultado:**\n",
    "- Obtendrás un archivo `.docx` con los tres parciales listos para imprimir o compartir.\n",
    "- Las fórmulas matemáticas se renderizarán correctamente en Word si usas un editor compatible con LaTeX.\n"
   ]
  },
  {
   "cell_type": "markdown",
   "id": "6eac8044",
   "metadata": {},
   "source": [
    "\n",
    "**9. Tarea**  \n",
    "**Ejercicio 1:**  \n",
    "Crea una función en Python que genere tablas de verdad para proposiciones con 3 variables (p, q, r).  \n",
    "\n",
    "**Ejercicio 2:**  \n",
    "Resuelve y visualiza la tabla de verdad para $\\neg(p \\lor q) \\rightarrow (\\neg p \\land \\neg q)$.  \n",
    "\n",
    "---\n"
   ]
  },
  {
   "cell_type": "markdown",
   "id": "05ff9beb",
   "metadata": {},
   "source": [
    "\n",
    "**10. Retroalimentación**  \n",
    "**Actividad \"Debuggeando Lógica\":**  \n",
    "- Los estudiantes intercambian notebooks y encuentran errores en tablas de verdad ajenas usando `sympy.satisfiable`.  \n",
    "- Uso de `ipywidgets` para crear un juego de \"Adivina el conector\" con feedback instantáneo.  \n",
    "\n",
    "---\n"
   ]
  },
  {
   "cell_type": "markdown",
   "id": "6b0ae17b",
   "metadata": {},
   "source": [
    "\n",
    "# **11. Vocabulario en inglés**  \n",
    "- **Truth value**: Valor de verdad (V/F).  \n",
    "- **Logical connective**: Conector lógico.  \n",
    "- **Tautology**: Tautología ($\\equiv V$).  \n",
    "- **Contradiction**: Contradicción ($\\equiv F$).  \n",
    "- *Phrase*: \"The truth table **shows** all possible combinations: `La tabla de verdad muestra todas las combinaciones posibles`.\""
   ]
  },
  {
   "cell_type": "code",
   "execution_count": null,
   "id": "7fa5e891",
   "metadata": {},
   "outputs": [],
   "source": []
  },
  {
   "cell_type": "markdown",
   "id": "fb9402bb",
   "metadata": {
    "slideshow": {
     "slide_type": "slide"
    }
   },
   "source": [
    "## Estrategias propuestas para la solución de las dificultades de aprendizaje detectadas"
   ]
  },
  {
   "cell_type": "markdown",
   "id": "2dd3bd5c",
   "metadata": {
    "slideshow": {
     "slide_type": "slide"
    }
   },
   "source": []
  },
  {
   "cell_type": "markdown",
   "id": "c6236d5d",
   "metadata": {},
   "source": [
    "# FODA del grupo y del profesor  \n",
    "\n",
    "* F: Fortalezas\n",
    "* O: Oportunidades\n",
    "* D: Dificultades\n",
    "* A: Amenazas."
   ]
  },
  {
   "cell_type": "markdown",
   "id": "b48f9542",
   "metadata": {},
   "source": [
    "## ¿Cómo se sintió en este espacio de enseñanza y aprendizaje?\n",
    "\n",
    "!Dios te bendiga¡"
   ]
  },
  {
   "cell_type": "markdown",
   "id": "10bce0d0",
   "metadata": {
    "slideshow": {
     "slide_type": "slide"
    }
   },
   "source": [
    "## Referentes "
   ]
  },
  {
   "cell_type": "markdown",
   "id": "d204c917",
   "metadata": {},
   "source": [
    "* [Grajales Vanegas, L. M., Restrepo Estrada, C. E., Restrepo Ochoa, S. I., & Ruíz De Villalba, F. (2015). Matemáticas I para las ciencias económicas.](https://github.com/marco-canas/fundamentos_de_la_aritmetica/blob/main/referentes/2_grajales_logica/grajales_lina_matemticas.pdf)\n",
    "  \n",
    "* Duval, R. (2004). Semiosis y pensamiento humano: registros semióticos y aprendizajes intelectuales. Universidad del Valle.\n",
    "\n",
    "* [Aylwin, C. U. (2011). Lógica, conjuntos y números. Universidad de los Andes, Consejo de Publicaciones, Colección: Ciencias Básicas, Serie: Matemáticas.](https://github.com/marco-canas/fundamentos_logica/blob/main/referentes/2_uzcategui/uscategui.pdf)\n",
    "  \n",
    "* [Chollet, F. (2021). Deep learning with Python. Simon and Schuster.](https://github.com/marco-canas/didactica_ciencia_datos/blob/main/2_referentes/chollet/Fran%C3%A7ois%20Chollet%20-%20Deep%20Learning%20with%20Python-Manning%20(2018).pdf)  \n",
    "  \n",
    "* [Watson, S., Stewart, J., & Redlin, L. (2009). Precálculo. Matemáticas para el cálculo.](https://github.com/marco-canas/calculo/blob/main/referents/1_precalculo_stewart/stewart_precalculo.pdf)  \n",
    "\n",
    "* [Purcell, E. J., Varberg, D., & Rigdon, S. E. (2007). Cálculo diferencial e integral. Pearson Educación.](https://github.com/marco-canas/calculo/blob/main/referents/purcell/purcell_calculo.pdf)\n",
    "\n",
    "  \n",
    "\n",
    "* [stewart cálculo](https://udeaeduco-my.sharepoint.com/:b:/g/personal/marco_canas_udea_edu_co/EZgXZjAp8QxPqOAim2hs6LcBNPLGjSHf-xwYnUVYkwa04w?e=RZdTCy)  \n",
    "\n",
    "* [larson](https://udeaeduco-my.sharepoint.com/:b:/g/personal/marco_canas_udea_edu_co/ES71ChFeO9ZDhW3TwC5Ijk8BjxUK3Pdqz_fjHxTTFAfIAg?e=VDEjfu)\n",
    "\n",
    "\n",
    "\n",
    "* [Recomendación de la UNESCO sobre ciencia abierta](https://unesdoc.unesco.org/ark:/48223/pf0000379949_spa)\n",
    "\n",
    "* [chatGPT](https://openai.com/blog/chatgpt)  \n",
    "\n",
    "* [Géron, A. (2017). Hands-on machine learning with scikit-learn and tensorflow: Concepts. Tools, and Techniques to build intelligent systems.](chrome-extension://efaidnbmnnnibpcajpcglclefindmkaj/http://14.139.161.31/OddSem-0822-1122/Hands-On_Machine_Learning_with_Scikit-Learn-Keras-and-TensorFlow-2nd-Edition-Aurelien-Geron.pdf)   \n"
   ]
  },
  {
   "cell_type": "markdown",
   "id": "6b9e56a8",
   "metadata": {
    "slideshow": {
     "slide_type": "slide"
    }
   },
   "source": [
    "### [Evaluamos al profesor Marco Cañas Aquí](https://forms.office.com/Pages/ResponsePage.aspx?id=IefhmYRxjkmK_7KtTlPBwkanXIs1i1FEujpsZgO6dXpUREJPV1kxUk1JV1ozTFJIQVNIQjY5WEY3US4u)"
   ]
  },
  {
   "cell_type": "markdown",
   "id": "071afa04",
   "metadata": {
    "slideshow": {
     "slide_type": "slide"
    }
   },
   "source": [
    "## [Evaluación luego de alcanzar estos objetivos de aprendizaje]()"
   ]
  },
  {
   "cell_type": "markdown",
   "id": "10f43536",
   "metadata": {
    "slideshow": {
     "slide_type": "slide"
    }
   },
   "source": [
    "### Continue su aprendizaje en la siguiente clase a través del siguiente [vínculo]()"
   ]
  }
 ],
 "metadata": {
  "celltoolbar": "Slideshow",
  "kernelspec": {
   "display_name": ".venv",
   "language": "python",
   "name": "python3"
  },
  "language_info": {
   "codemirror_mode": {
    "name": "ipython",
    "version": 3
   },
   "file_extension": ".py",
   "mimetype": "text/x-python",
   "name": "python",
   "nbconvert_exporter": "python",
   "pygments_lexer": "ipython3",
   "version": "3.12.6"
  },
  "rise": {
   "enable_chalkboard": true,
   "theme": "sky",
   "transition": "zoom"
  }
 },
 "nbformat": 4,
 "nbformat_minor": 5
}
