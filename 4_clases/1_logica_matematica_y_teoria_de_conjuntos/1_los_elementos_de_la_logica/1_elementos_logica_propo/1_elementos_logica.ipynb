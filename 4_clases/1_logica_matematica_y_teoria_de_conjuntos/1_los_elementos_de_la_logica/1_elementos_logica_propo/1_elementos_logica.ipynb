{
 "cells": [
  {
   "cell_type": "markdown",
   "id": "dc06dec7",
   "metadata": {
    "slideshow": {
     "slide_type": "slide"
    }
   },
   "source": [
    "<table align=\"left\">\n",
    "  <td>\n",
    "    <a href=\"https://colab.research.google.com/github/marco-canas/fundamentos_logica/blob/main/4_clases/1_logica_matematica_y_teoria_de_conjuntos/1_los_elementos_de_la_logica/1_elementos_logica_propo/1_class_logica.ipynb\" target=\"_parent\"><img src=\"https://colab.research.google.com/assets/colab-badge.svg\" alt=\"Open In Colab\"/></a>\n",
    "  </td>\n",
    "  <td>\n",
    "    <a target=\"_blank\" href=\"https://kaggle.com/kernels/welcome?src=https://github.com/marco-canas/fundamentos_logica/blob/main/4_clases/1_logica_matematica_y_teoria_de_conjuntos/1_los_elementos_de_la_logica/1_elementos_logica_propo/1_class_logica.ipynb\"><img src=\"https://kaggle.com/static/images/open-in-kaggle.svg\" /></a>\n",
    "  </td>\n",
    "</table>"
   ]
  },
  {
   "cell_type": "markdown",
   "id": "e0c5b198",
   "metadata": {
    "slideshow": {
     "slide_type": "slide"
    }
   },
   "source": [
    "### [Video de apoyo a la lectura interactiva y experimental de este cuaderno]()"
   ]
  },
  {
   "cell_type": "markdown",
   "id": "41e82203",
   "metadata": {
    "slideshow": {
     "slide_type": "slide"
    }
   },
   "source": [
    "### [Vínculo al programa del curso:  ]()\n",
    "\n"
   ]
  },
  {
   "cell_type": "markdown",
   "id": "d11ab06d",
   "metadata": {
    "slideshow": {
     "slide_type": "slide"
    }
   },
   "source": [
    "Un reconocimiento a mis estudiantes que han construido conmigo este saber pedagógico:\n",
    "\n",
    "<img src = ''> \n",
    "\n"
   ]
  },
  {
   "cell_type": "markdown",
   "id": "8a74a56c-0ce6-4ad6-b985-553fd7fb68bb",
   "metadata": {},
   "source": [
    "Reconocimiento a las profesoras destacadas en enseñanza de la matemática en Colombia\n"
   ]
  },
  {
   "cell_type": "code",
   "execution_count": null,
   "id": "b179a7ed",
   "metadata": {},
   "outputs": [
    {
     "data": {
      "text/html": [
       "<div>\n",
       "<style scoped>\n",
       "    .dataframe tbody tr th:only-of-type {\n",
       "        vertical-align: middle;\n",
       "    }\n",
       "\n",
       "    .dataframe tbody tr th {\n",
       "        vertical-align: top;\n",
       "    }\n",
       "\n",
       "    .dataframe thead th {\n",
       "        text-align: right;\n",
       "    }\n",
       "</style>\n",
       "<table border=\"1\" class=\"dataframe\">\n",
       "  <thead>\n",
       "    <tr style=\"text-align: right;\">\n",
       "      <th></th>\n",
       "      <th>Cedula</th>\n",
       "      <th>Nombre</th>\n",
       "      <th>Email</th>\n",
       "      <th>Parcial</th>\n",
       "      <th>Asistencia</th>\n",
       "    </tr>\n",
       "  </thead>\n",
       "  <tbody>\n",
       "    <tr>\n",
       "      <th>0</th>\n",
       "      <td>1067281024</td>\n",
       "      <td>ALVAREZ GOEZ DAIRO ESTEBAN</td>\n",
       "      <td>dairo.alvarez1@udea.edu.co</td>\n",
       "      <td>0.0</td>\n",
       "      <td>NaN</td>\n",
       "    </tr>\n",
       "    <tr>\n",
       "      <th>1</th>\n",
       "      <td>1041086439</td>\n",
       "      <td>CASTILLO SIERRA SHIRLIS SARAY</td>\n",
       "      <td>shirlis.castillo@udea.edu.co</td>\n",
       "      <td>0.0</td>\n",
       "      <td>NaN</td>\n",
       "    </tr>\n",
       "    <tr>\n",
       "      <th>2</th>\n",
       "      <td>1045419649</td>\n",
       "      <td>ESPINOSA ESPINOSA LILIANA ANDREA</td>\n",
       "      <td>lilianaa.espinosa@udea.edu.co</td>\n",
       "      <td>0.0</td>\n",
       "      <td>NaN</td>\n",
       "    </tr>\n",
       "    <tr>\n",
       "      <th>3</th>\n",
       "      <td>1040494191</td>\n",
       "      <td>GARCIA PADILLA JHONATAN</td>\n",
       "      <td>jhonatan.garcia1@udea.edu.co</td>\n",
       "      <td>0.0</td>\n",
       "      <td>NaN</td>\n",
       "    </tr>\n",
       "    <tr>\n",
       "      <th>4</th>\n",
       "      <td>1038098851</td>\n",
       "      <td>GUERRA OSORIO SIMON</td>\n",
       "      <td>s.guerra@udea.edu.co</td>\n",
       "      <td>0.0</td>\n",
       "      <td>NaN</td>\n",
       "    </tr>\n",
       "    <tr>\n",
       "      <th>5</th>\n",
       "      <td>1038131529</td>\n",
       "      <td>HOYOS ARRIETA ELIECER JOSE</td>\n",
       "      <td>jose.hoyos2@udea.edu.co</td>\n",
       "      <td>0.0</td>\n",
       "      <td>NaN</td>\n",
       "    </tr>\n",
       "    <tr>\n",
       "      <th>6</th>\n",
       "      <td>1038116007</td>\n",
       "      <td>MARIAGA BALLESTEROS KEILA MELIZA</td>\n",
       "      <td>keila.mariaga@udea.edu.co</td>\n",
       "      <td>0.0</td>\n",
       "      <td>NaN</td>\n",
       "    </tr>\n",
       "    <tr>\n",
       "      <th>7</th>\n",
       "      <td>1007112550</td>\n",
       "      <td>MARTINEZ MENDOZA JAIR MIGUEL</td>\n",
       "      <td>jair.mmendoza@udea.edu.co</td>\n",
       "      <td>0.0</td>\n",
       "      <td>NaN</td>\n",
       "    </tr>\n",
       "    <tr>\n",
       "      <th>8</th>\n",
       "      <td>1038092575</td>\n",
       "      <td>OSORIO ACEVEDO LUIS MARIO</td>\n",
       "      <td>luismario.osorio@udea.edu.co</td>\n",
       "      <td>0.0</td>\n",
       "      <td>NaN</td>\n",
       "    </tr>\n",
       "    <tr>\n",
       "      <th>9</th>\n",
       "      <td>1038130817</td>\n",
       "      <td>PENATE PENA JHON SEBASTIAN</td>\n",
       "      <td>jhon.penate@udea.edu.co</td>\n",
       "      <td>0.0</td>\n",
       "      <td>NaN</td>\n",
       "    </tr>\n",
       "    <tr>\n",
       "      <th>10</th>\n",
       "      <td>1019842256</td>\n",
       "      <td>RODELO ZABALA ARIANA</td>\n",
       "      <td>a.rodelo@udea.edu.co</td>\n",
       "      <td>0.0</td>\n",
       "      <td>NaN</td>\n",
       "    </tr>\n",
       "    <tr>\n",
       "      <th>11</th>\n",
       "      <td>1042822239</td>\n",
       "      <td>RODRIGUEZ MOSQUERA ANGELA MARIA</td>\n",
       "      <td>maria.rodriguez8@udea.edu.co</td>\n",
       "      <td>0.0</td>\n",
       "      <td>NaN</td>\n",
       "    </tr>\n",
       "    <tr>\n",
       "      <th>12</th>\n",
       "      <td>1038436130</td>\n",
       "      <td>ROHENES DE ARCO CAMILO ANDRES</td>\n",
       "      <td>camilo.rohenes@udea.edu.co</td>\n",
       "      <td>0.0</td>\n",
       "      <td>NaN</td>\n",
       "    </tr>\n",
       "    <tr>\n",
       "      <th>13</th>\n",
       "      <td>1038436131</td>\n",
       "      <td>ROHENES DE ARCO DIEGO ANDRES</td>\n",
       "      <td>diego.rohenes@udea.edu.co</td>\n",
       "      <td>0.0</td>\n",
       "      <td>NaN</td>\n",
       "    </tr>\n",
       "    <tr>\n",
       "      <th>14</th>\n",
       "      <td>1032251887</td>\n",
       "      <td>SIERRA OLIVEROS OMAR DARIO</td>\n",
       "      <td>omar.sierra1@udea.edu.co</td>\n",
       "      <td>0.0</td>\n",
       "      <td>NaN</td>\n",
       "    </tr>\n",
       "    <tr>\n",
       "      <th>15</th>\n",
       "      <td>1038646944</td>\n",
       "      <td>SILVA URDA FABIAN</td>\n",
       "      <td>fabian.silva1@udea.edu.co</td>\n",
       "      <td>0.0</td>\n",
       "      <td>NaN</td>\n",
       "    </tr>\n",
       "    <tr>\n",
       "      <th>16</th>\n",
       "      <td>1007429411</td>\n",
       "      <td>VILLA CABARCA SANDY JANETH</td>\n",
       "      <td>sandy.villac@udea.edu.co</td>\n",
       "      <td>0.0</td>\n",
       "      <td>NaN</td>\n",
       "    </tr>\n",
       "  </tbody>\n",
       "</table>\n",
       "</div>"
      ],
      "text/plain": [
       "        Cedula                            Nombre  \\\n",
       "0   1067281024        ALVAREZ GOEZ DAIRO ESTEBAN   \n",
       "1   1041086439     CASTILLO SIERRA SHIRLIS SARAY   \n",
       "2   1045419649  ESPINOSA ESPINOSA LILIANA ANDREA   \n",
       "3   1040494191           GARCIA PADILLA JHONATAN   \n",
       "4   1038098851               GUERRA OSORIO SIMON   \n",
       "5   1038131529        HOYOS ARRIETA ELIECER JOSE   \n",
       "6   1038116007  MARIAGA BALLESTEROS KEILA MELIZA   \n",
       "7   1007112550      MARTINEZ MENDOZA JAIR MIGUEL   \n",
       "8   1038092575         OSORIO ACEVEDO LUIS MARIO   \n",
       "9   1038130817        PENATE PENA JHON SEBASTIAN   \n",
       "10  1019842256              RODELO ZABALA ARIANA   \n",
       "11  1042822239   RODRIGUEZ MOSQUERA ANGELA MARIA   \n",
       "12  1038436130     ROHENES DE ARCO CAMILO ANDRES   \n",
       "13  1038436131      ROHENES DE ARCO DIEGO ANDRES   \n",
       "14  1032251887        SIERRA OLIVEROS OMAR DARIO   \n",
       "15  1038646944                 SILVA URDA FABIAN   \n",
       "16  1007429411        VILLA CABARCA SANDY JANETH   \n",
       "\n",
       "                            Email  Parcial  Asistencia  \n",
       "0      dairo.alvarez1@udea.edu.co      0.0         NaN  \n",
       "1    shirlis.castillo@udea.edu.co      0.0         NaN  \n",
       "2   lilianaa.espinosa@udea.edu.co      0.0         NaN  \n",
       "3    jhonatan.garcia1@udea.edu.co      0.0         NaN  \n",
       "4            s.guerra@udea.edu.co      0.0         NaN  \n",
       "5         jose.hoyos2@udea.edu.co      0.0         NaN  \n",
       "6       keila.mariaga@udea.edu.co      0.0         NaN  \n",
       "7       jair.mmendoza@udea.edu.co      0.0         NaN  \n",
       "8    luismario.osorio@udea.edu.co      0.0         NaN  \n",
       "9         jhon.penate@udea.edu.co      0.0         NaN  \n",
       "10           a.rodelo@udea.edu.co      0.0         NaN  \n",
       "11   maria.rodriguez8@udea.edu.co      0.0         NaN  \n",
       "12     camilo.rohenes@udea.edu.co      0.0         NaN  \n",
       "13      diego.rohenes@udea.edu.co      0.0         NaN  \n",
       "14       omar.sierra1@udea.edu.co      0.0         NaN  \n",
       "15      fabian.silva1@udea.edu.co      0.0         NaN  \n",
       "16       sandy.villac@udea.edu.co      0.0         NaN  "
      ]
     },
     "execution_count": 1,
     "metadata": {},
     "output_type": "execute_result"
    }
   ],
   "source": [
    "import pandas as pd\n",
    "import numpy as np\n",
    "\n",
    "# Cargar la lista de estudiantes desde el archivo CSV\n",
    "path = 'C:/Users/marco/Documentos/docencia/groups_list/logica.csv'\n",
    "estudiantes = pd.read_csv(path, sep = ';')\n",
    "#estudiantes['Asistencia'] = estudiantes['Asistencia'].astype(float)  # Asegurar que la columna 'Parcial' es float\n",
    "estudiantes.head(17)"
   ]
  },
  {
   "cell_type": "code",
   "execution_count": 2,
   "id": "adb345dc",
   "metadata": {},
   "outputs": [],
   "source": [
    "\n",
    "estudiantes.to_csv('logica.csv', index=False)"
   ]
  },
  {
   "cell_type": "code",
   "execution_count": 3,
   "id": "3268dbba",
   "metadata": {},
   "outputs": [
    {
     "data": {
      "application/vnd.microsoft.datawrangler.viewer.v0+json": {
       "columns": [
        {
         "name": "index",
         "rawType": "int64",
         "type": "integer"
        },
        {
         "name": "Cedula",
         "rawType": "int64",
         "type": "integer"
        },
        {
         "name": "Nombre",
         "rawType": "object",
         "type": "string"
        },
        {
         "name": "Email",
         "rawType": "object",
         "type": "string"
        },
        {
         "name": "Parcial",
         "rawType": "float64",
         "type": "float"
        },
        {
         "name": "Asistencia",
         "rawType": "float64",
         "type": "float"
        }
       ],
       "conversionMethod": "pd.DataFrame",
       "ref": "9f39b47f-5f2c-46d4-9b51-31bd72dbbf74",
       "rows": [
        [
         "0",
         "1067281024",
         "ALVAREZ GOEZ DAIRO ESTEBAN",
         "dairo.alvarez1@udea.edu.co",
         "0.0",
         null
        ],
        [
         "1",
         "1041086439",
         "CASTILLO SIERRA SHIRLIS SARAY",
         "shirlis.castillo@udea.edu.co",
         "0.0",
         null
        ],
        [
         "2",
         "1045419649",
         "ESPINOSA ESPINOSA LILIANA ANDREA",
         "lilianaa.espinosa@udea.edu.co",
         "0.0",
         null
        ],
        [
         "3",
         "1040494191",
         "GARCIA PADILLA JHONATAN",
         "jhonatan.garcia1@udea.edu.co",
         "0.0",
         null
        ],
        [
         "4",
         "1038098851",
         "GUERRA OSORIO SIMON",
         "s.guerra@udea.edu.co",
         "0.0",
         null
        ]
       ],
       "shape": {
        "columns": 5,
        "rows": 5
       }
      },
      "text/html": [
       "<div>\n",
       "<style scoped>\n",
       "    .dataframe tbody tr th:only-of-type {\n",
       "        vertical-align: middle;\n",
       "    }\n",
       "\n",
       "    .dataframe tbody tr th {\n",
       "        vertical-align: top;\n",
       "    }\n",
       "\n",
       "    .dataframe thead th {\n",
       "        text-align: right;\n",
       "    }\n",
       "</style>\n",
       "<table border=\"1\" class=\"dataframe\">\n",
       "  <thead>\n",
       "    <tr style=\"text-align: right;\">\n",
       "      <th></th>\n",
       "      <th>Cedula</th>\n",
       "      <th>Nombre</th>\n",
       "      <th>Email</th>\n",
       "      <th>Parcial</th>\n",
       "      <th>Asistencia</th>\n",
       "    </tr>\n",
       "  </thead>\n",
       "  <tbody>\n",
       "    <tr>\n",
       "      <th>0</th>\n",
       "      <td>1067281024</td>\n",
       "      <td>ALVAREZ GOEZ DAIRO ESTEBAN</td>\n",
       "      <td>dairo.alvarez1@udea.edu.co</td>\n",
       "      <td>0.0</td>\n",
       "      <td>NaN</td>\n",
       "    </tr>\n",
       "    <tr>\n",
       "      <th>1</th>\n",
       "      <td>1041086439</td>\n",
       "      <td>CASTILLO SIERRA SHIRLIS SARAY</td>\n",
       "      <td>shirlis.castillo@udea.edu.co</td>\n",
       "      <td>0.0</td>\n",
       "      <td>NaN</td>\n",
       "    </tr>\n",
       "    <tr>\n",
       "      <th>2</th>\n",
       "      <td>1045419649</td>\n",
       "      <td>ESPINOSA ESPINOSA LILIANA ANDREA</td>\n",
       "      <td>lilianaa.espinosa@udea.edu.co</td>\n",
       "      <td>0.0</td>\n",
       "      <td>NaN</td>\n",
       "    </tr>\n",
       "    <tr>\n",
       "      <th>3</th>\n",
       "      <td>1040494191</td>\n",
       "      <td>GARCIA PADILLA JHONATAN</td>\n",
       "      <td>jhonatan.garcia1@udea.edu.co</td>\n",
       "      <td>0.0</td>\n",
       "      <td>NaN</td>\n",
       "    </tr>\n",
       "    <tr>\n",
       "      <th>4</th>\n",
       "      <td>1038098851</td>\n",
       "      <td>GUERRA OSORIO SIMON</td>\n",
       "      <td>s.guerra@udea.edu.co</td>\n",
       "      <td>0.0</td>\n",
       "      <td>NaN</td>\n",
       "    </tr>\n",
       "  </tbody>\n",
       "</table>\n",
       "</div>"
      ],
      "text/plain": [
       "       Cedula                            Nombre  \\\n",
       "0  1067281024        ALVAREZ GOEZ DAIRO ESTEBAN   \n",
       "1  1041086439     CASTILLO SIERRA SHIRLIS SARAY   \n",
       "2  1045419649  ESPINOSA ESPINOSA LILIANA ANDREA   \n",
       "3  1040494191           GARCIA PADILLA JHONATAN   \n",
       "4  1038098851               GUERRA OSORIO SIMON   \n",
       "\n",
       "                           Email  Parcial  Asistencia  \n",
       "0     dairo.alvarez1@udea.edu.co      0.0         NaN  \n",
       "1   shirlis.castillo@udea.edu.co      0.0         NaN  \n",
       "2  lilianaa.espinosa@udea.edu.co      0.0         NaN  \n",
       "3   jhonatan.garcia1@udea.edu.co      0.0         NaN  \n",
       "4           s.guerra@udea.edu.co      0.0         NaN  "
      ]
     },
     "execution_count": 3,
     "metadata": {},
     "output_type": "execute_result"
    }
   ],
   "source": [
    "estudiantes.head() "
   ]
  },
  {
   "cell_type": "code",
   "execution_count": 4,
   "id": "e1dc3e00",
   "metadata": {},
   "outputs": [
    {
     "data": {
      "text/plain": [
       "Index(['Cedula', 'Nombre', 'Email', 'Parcial', 'Asistencia'], dtype='object')"
      ]
     },
     "execution_count": 4,
     "metadata": {},
     "output_type": "execute_result"
    }
   ],
   "source": [
    "estudiantes.keys() "
   ]
  },
  {
   "cell_type": "code",
   "execution_count": 18,
   "id": "7604880f",
   "metadata": {
    "slideshow": {
     "slide_type": "slide"
    }
   },
   "outputs": [
    {
     "name": "stdout",
     "output_type": "stream",
     "text": [
      "Llamando a ALVAREZ GOEZ DAIRO ESTEBAN...\n"
     ]
    },
    {
     "name": "stdout",
     "output_type": "stream",
     "text": [
      "Llamando a ROHENES DE ARCO CAMILO ANDRES...\n",
      "Llamando a ESPINOSA ESPINOSA LILIANA ANDREA...\n",
      "Llamando a MARIAGA BALLESTEROS KEILA MELIZA...\n",
      "Llamando a CASTILLO SIERRA SHIRLIS SARAY...\n",
      "Llamando a SIERRA OLIVEROS OMAR DARIO...\n",
      "Llamando a OSORIO ACEVEDO LUIS MARIO...\n",
      "Llamando a RODELO ZABALA ARIANA...\n",
      "Llamando a HOYOS ARRIETA ELIECER JOSE...\n",
      "Llamando a GARCIA PADILLA JHONATAN...\n",
      "Llamando a PENATE PENA JHON SEBASTIAN...\n",
      "Llamando a GUERRA OSORIO SIMON...\n",
      "Llamando a SILVA URDA FABIAN...\n",
      "Llamando a RODRIGUEZ MOSQUERA ANGELA MARIA...\n",
      "Llamando a MARTINEZ MENDOZA JAIR MIGUEL...\n",
      "Llamando a VILLA CABARCA SANDY JANETH...\n",
      "Llamando a ROHENES DE ARCO DIEGO ANDRES...\n"
     ]
    },
    {
     "ename": "PermissionError",
     "evalue": "[Errno 13] Permission denied: 'C:/Users/marco/Documentos/docencia/groups_list/logica.csv'",
     "output_type": "error",
     "traceback": [
      "\u001b[1;31m---------------------------------------------------------------------------\u001b[0m",
      "\u001b[1;31mPermissionError\u001b[0m                           Traceback (most recent call last)",
      "Cell \u001b[1;32mIn[18], line 47\u001b[0m\n\u001b[0;32m     44\u001b[0m     asistencia()\n\u001b[0;32m     46\u001b[0m \u001b[38;5;66;03m# Guardar los cambios una vez que todos los estudiantes hayan sido llamados\u001b[39;00m\n\u001b[1;32m---> 47\u001b[0m \u001b[43mguardar_cambios\u001b[49m\u001b[43m(\u001b[49m\u001b[43m)\u001b[49m\n",
      "Cell \u001b[1;32mIn[18], line 39\u001b[0m, in \u001b[0;36mguardar_cambios\u001b[1;34m()\u001b[0m\n\u001b[0;32m     38\u001b[0m \u001b[38;5;28;01mdef\u001b[39;00m\u001b[38;5;250m \u001b[39m\u001b[38;5;21mguardar_cambios\u001b[39m():\n\u001b[1;32m---> 39\u001b[0m     \u001b[43mestudiantes\u001b[49m\u001b[38;5;241;43m.\u001b[39;49m\u001b[43mto_csv\u001b[49m\u001b[43m(\u001b[49m\u001b[43mpath\u001b[49m\u001b[43m,\u001b[49m\u001b[43m \u001b[49m\u001b[43mindex\u001b[49m\u001b[38;5;241;43m=\u001b[39;49m\u001b[38;5;28;43;01mFalse\u001b[39;49;00m\u001b[43m)\u001b[49m\n\u001b[0;32m     40\u001b[0m     \u001b[38;5;28mprint\u001b[39m(\u001b[38;5;124m\"\u001b[39m\u001b[38;5;124mCambios guardados en el archivo CSV.\u001b[39m\u001b[38;5;124m\"\u001b[39m)\n",
      "File \u001b[1;32mc:\\Users\\marco\\Documentos\\docencia\\fundamentos_logica\\.venv\\Lib\\site-packages\\pandas\\util\\_decorators.py:333\u001b[0m, in \u001b[0;36mdeprecate_nonkeyword_arguments.<locals>.decorate.<locals>.wrapper\u001b[1;34m(*args, **kwargs)\u001b[0m\n\u001b[0;32m    327\u001b[0m \u001b[38;5;28;01mif\u001b[39;00m \u001b[38;5;28mlen\u001b[39m(args) \u001b[38;5;241m>\u001b[39m num_allow_args:\n\u001b[0;32m    328\u001b[0m     warnings\u001b[38;5;241m.\u001b[39mwarn(\n\u001b[0;32m    329\u001b[0m         msg\u001b[38;5;241m.\u001b[39mformat(arguments\u001b[38;5;241m=\u001b[39m_format_argument_list(allow_args)),\n\u001b[0;32m    330\u001b[0m         \u001b[38;5;167;01mFutureWarning\u001b[39;00m,\n\u001b[0;32m    331\u001b[0m         stacklevel\u001b[38;5;241m=\u001b[39mfind_stack_level(),\n\u001b[0;32m    332\u001b[0m     )\n\u001b[1;32m--> 333\u001b[0m \u001b[38;5;28;01mreturn\u001b[39;00m \u001b[43mfunc\u001b[49m\u001b[43m(\u001b[49m\u001b[38;5;241;43m*\u001b[39;49m\u001b[43margs\u001b[49m\u001b[43m,\u001b[49m\u001b[43m \u001b[49m\u001b[38;5;241;43m*\u001b[39;49m\u001b[38;5;241;43m*\u001b[39;49m\u001b[43mkwargs\u001b[49m\u001b[43m)\u001b[49m\n",
      "File \u001b[1;32mc:\\Users\\marco\\Documentos\\docencia\\fundamentos_logica\\.venv\\Lib\\site-packages\\pandas\\core\\generic.py:3967\u001b[0m, in \u001b[0;36mNDFrame.to_csv\u001b[1;34m(self, path_or_buf, sep, na_rep, float_format, columns, header, index, index_label, mode, encoding, compression, quoting, quotechar, lineterminator, chunksize, date_format, doublequote, escapechar, decimal, errors, storage_options)\u001b[0m\n\u001b[0;32m   3956\u001b[0m df \u001b[38;5;241m=\u001b[39m \u001b[38;5;28mself\u001b[39m \u001b[38;5;28;01mif\u001b[39;00m \u001b[38;5;28misinstance\u001b[39m(\u001b[38;5;28mself\u001b[39m, ABCDataFrame) \u001b[38;5;28;01melse\u001b[39;00m \u001b[38;5;28mself\u001b[39m\u001b[38;5;241m.\u001b[39mto_frame()\n\u001b[0;32m   3958\u001b[0m formatter \u001b[38;5;241m=\u001b[39m DataFrameFormatter(\n\u001b[0;32m   3959\u001b[0m     frame\u001b[38;5;241m=\u001b[39mdf,\n\u001b[0;32m   3960\u001b[0m     header\u001b[38;5;241m=\u001b[39mheader,\n\u001b[1;32m   (...)\u001b[0m\n\u001b[0;32m   3964\u001b[0m     decimal\u001b[38;5;241m=\u001b[39mdecimal,\n\u001b[0;32m   3965\u001b[0m )\n\u001b[1;32m-> 3967\u001b[0m \u001b[38;5;28;01mreturn\u001b[39;00m \u001b[43mDataFrameRenderer\u001b[49m\u001b[43m(\u001b[49m\u001b[43mformatter\u001b[49m\u001b[43m)\u001b[49m\u001b[38;5;241;43m.\u001b[39;49m\u001b[43mto_csv\u001b[49m\u001b[43m(\u001b[49m\n\u001b[0;32m   3968\u001b[0m \u001b[43m    \u001b[49m\u001b[43mpath_or_buf\u001b[49m\u001b[43m,\u001b[49m\n\u001b[0;32m   3969\u001b[0m \u001b[43m    \u001b[49m\u001b[43mlineterminator\u001b[49m\u001b[38;5;241;43m=\u001b[39;49m\u001b[43mlineterminator\u001b[49m\u001b[43m,\u001b[49m\n\u001b[0;32m   3970\u001b[0m \u001b[43m    \u001b[49m\u001b[43msep\u001b[49m\u001b[38;5;241;43m=\u001b[39;49m\u001b[43msep\u001b[49m\u001b[43m,\u001b[49m\n\u001b[0;32m   3971\u001b[0m \u001b[43m    \u001b[49m\u001b[43mencoding\u001b[49m\u001b[38;5;241;43m=\u001b[39;49m\u001b[43mencoding\u001b[49m\u001b[43m,\u001b[49m\n\u001b[0;32m   3972\u001b[0m \u001b[43m    \u001b[49m\u001b[43merrors\u001b[49m\u001b[38;5;241;43m=\u001b[39;49m\u001b[43merrors\u001b[49m\u001b[43m,\u001b[49m\n\u001b[0;32m   3973\u001b[0m \u001b[43m    \u001b[49m\u001b[43mcompression\u001b[49m\u001b[38;5;241;43m=\u001b[39;49m\u001b[43mcompression\u001b[49m\u001b[43m,\u001b[49m\n\u001b[0;32m   3974\u001b[0m \u001b[43m    \u001b[49m\u001b[43mquoting\u001b[49m\u001b[38;5;241;43m=\u001b[39;49m\u001b[43mquoting\u001b[49m\u001b[43m,\u001b[49m\n\u001b[0;32m   3975\u001b[0m \u001b[43m    \u001b[49m\u001b[43mcolumns\u001b[49m\u001b[38;5;241;43m=\u001b[39;49m\u001b[43mcolumns\u001b[49m\u001b[43m,\u001b[49m\n\u001b[0;32m   3976\u001b[0m \u001b[43m    \u001b[49m\u001b[43mindex_label\u001b[49m\u001b[38;5;241;43m=\u001b[39;49m\u001b[43mindex_label\u001b[49m\u001b[43m,\u001b[49m\n\u001b[0;32m   3977\u001b[0m \u001b[43m    \u001b[49m\u001b[43mmode\u001b[49m\u001b[38;5;241;43m=\u001b[39;49m\u001b[43mmode\u001b[49m\u001b[43m,\u001b[49m\n\u001b[0;32m   3978\u001b[0m \u001b[43m    \u001b[49m\u001b[43mchunksize\u001b[49m\u001b[38;5;241;43m=\u001b[39;49m\u001b[43mchunksize\u001b[49m\u001b[43m,\u001b[49m\n\u001b[0;32m   3979\u001b[0m \u001b[43m    \u001b[49m\u001b[43mquotechar\u001b[49m\u001b[38;5;241;43m=\u001b[39;49m\u001b[43mquotechar\u001b[49m\u001b[43m,\u001b[49m\n\u001b[0;32m   3980\u001b[0m \u001b[43m    \u001b[49m\u001b[43mdate_format\u001b[49m\u001b[38;5;241;43m=\u001b[39;49m\u001b[43mdate_format\u001b[49m\u001b[43m,\u001b[49m\n\u001b[0;32m   3981\u001b[0m \u001b[43m    \u001b[49m\u001b[43mdoublequote\u001b[49m\u001b[38;5;241;43m=\u001b[39;49m\u001b[43mdoublequote\u001b[49m\u001b[43m,\u001b[49m\n\u001b[0;32m   3982\u001b[0m \u001b[43m    \u001b[49m\u001b[43mescapechar\u001b[49m\u001b[38;5;241;43m=\u001b[39;49m\u001b[43mescapechar\u001b[49m\u001b[43m,\u001b[49m\n\u001b[0;32m   3983\u001b[0m \u001b[43m    \u001b[49m\u001b[43mstorage_options\u001b[49m\u001b[38;5;241;43m=\u001b[39;49m\u001b[43mstorage_options\u001b[49m\u001b[43m,\u001b[49m\n\u001b[0;32m   3984\u001b[0m \u001b[43m\u001b[49m\u001b[43m)\u001b[49m\n",
      "File \u001b[1;32mc:\\Users\\marco\\Documentos\\docencia\\fundamentos_logica\\.venv\\Lib\\site-packages\\pandas\\io\\formats\\format.py:1014\u001b[0m, in \u001b[0;36mDataFrameRenderer.to_csv\u001b[1;34m(self, path_or_buf, encoding, sep, columns, index_label, mode, compression, quoting, quotechar, lineterminator, chunksize, date_format, doublequote, escapechar, errors, storage_options)\u001b[0m\n\u001b[0;32m    993\u001b[0m     created_buffer \u001b[38;5;241m=\u001b[39m \u001b[38;5;28;01mFalse\u001b[39;00m\n\u001b[0;32m    995\u001b[0m csv_formatter \u001b[38;5;241m=\u001b[39m CSVFormatter(\n\u001b[0;32m    996\u001b[0m     path_or_buf\u001b[38;5;241m=\u001b[39mpath_or_buf,\n\u001b[0;32m    997\u001b[0m     lineterminator\u001b[38;5;241m=\u001b[39mlineterminator,\n\u001b[1;32m   (...)\u001b[0m\n\u001b[0;32m   1012\u001b[0m     formatter\u001b[38;5;241m=\u001b[39m\u001b[38;5;28mself\u001b[39m\u001b[38;5;241m.\u001b[39mfmt,\n\u001b[0;32m   1013\u001b[0m )\n\u001b[1;32m-> 1014\u001b[0m \u001b[43mcsv_formatter\u001b[49m\u001b[38;5;241;43m.\u001b[39;49m\u001b[43msave\u001b[49m\u001b[43m(\u001b[49m\u001b[43m)\u001b[49m\n\u001b[0;32m   1016\u001b[0m \u001b[38;5;28;01mif\u001b[39;00m created_buffer:\n\u001b[0;32m   1017\u001b[0m     \u001b[38;5;28;01massert\u001b[39;00m \u001b[38;5;28misinstance\u001b[39m(path_or_buf, StringIO)\n",
      "File \u001b[1;32mc:\\Users\\marco\\Documentos\\docencia\\fundamentos_logica\\.venv\\Lib\\site-packages\\pandas\\io\\formats\\csvs.py:251\u001b[0m, in \u001b[0;36mCSVFormatter.save\u001b[1;34m(self)\u001b[0m\n\u001b[0;32m    247\u001b[0m \u001b[38;5;250m\u001b[39m\u001b[38;5;124;03m\"\"\"\u001b[39;00m\n\u001b[0;32m    248\u001b[0m \u001b[38;5;124;03mCreate the writer & save.\u001b[39;00m\n\u001b[0;32m    249\u001b[0m \u001b[38;5;124;03m\"\"\"\u001b[39;00m\n\u001b[0;32m    250\u001b[0m \u001b[38;5;66;03m# apply compression and byte/text conversion\u001b[39;00m\n\u001b[1;32m--> 251\u001b[0m \u001b[38;5;28;01mwith\u001b[39;00m \u001b[43mget_handle\u001b[49m\u001b[43m(\u001b[49m\n\u001b[0;32m    252\u001b[0m \u001b[43m    \u001b[49m\u001b[38;5;28;43mself\u001b[39;49m\u001b[38;5;241;43m.\u001b[39;49m\u001b[43mfilepath_or_buffer\u001b[49m\u001b[43m,\u001b[49m\n\u001b[0;32m    253\u001b[0m \u001b[43m    \u001b[49m\u001b[38;5;28;43mself\u001b[39;49m\u001b[38;5;241;43m.\u001b[39;49m\u001b[43mmode\u001b[49m\u001b[43m,\u001b[49m\n\u001b[0;32m    254\u001b[0m \u001b[43m    \u001b[49m\u001b[43mencoding\u001b[49m\u001b[38;5;241;43m=\u001b[39;49m\u001b[38;5;28;43mself\u001b[39;49m\u001b[38;5;241;43m.\u001b[39;49m\u001b[43mencoding\u001b[49m\u001b[43m,\u001b[49m\n\u001b[0;32m    255\u001b[0m \u001b[43m    \u001b[49m\u001b[43merrors\u001b[49m\u001b[38;5;241;43m=\u001b[39;49m\u001b[38;5;28;43mself\u001b[39;49m\u001b[38;5;241;43m.\u001b[39;49m\u001b[43merrors\u001b[49m\u001b[43m,\u001b[49m\n\u001b[0;32m    256\u001b[0m \u001b[43m    \u001b[49m\u001b[43mcompression\u001b[49m\u001b[38;5;241;43m=\u001b[39;49m\u001b[38;5;28;43mself\u001b[39;49m\u001b[38;5;241;43m.\u001b[39;49m\u001b[43mcompression\u001b[49m\u001b[43m,\u001b[49m\n\u001b[0;32m    257\u001b[0m \u001b[43m    \u001b[49m\u001b[43mstorage_options\u001b[49m\u001b[38;5;241;43m=\u001b[39;49m\u001b[38;5;28;43mself\u001b[39;49m\u001b[38;5;241;43m.\u001b[39;49m\u001b[43mstorage_options\u001b[49m\u001b[43m,\u001b[49m\n\u001b[0;32m    258\u001b[0m \u001b[43m\u001b[49m\u001b[43m)\u001b[49m \u001b[38;5;28;01mas\u001b[39;00m handles:\n\u001b[0;32m    259\u001b[0m     \u001b[38;5;66;03m# Note: self.encoding is irrelevant here\u001b[39;00m\n\u001b[0;32m    260\u001b[0m     \u001b[38;5;28mself\u001b[39m\u001b[38;5;241m.\u001b[39mwriter \u001b[38;5;241m=\u001b[39m csvlib\u001b[38;5;241m.\u001b[39mwriter(\n\u001b[0;32m    261\u001b[0m         handles\u001b[38;5;241m.\u001b[39mhandle,\n\u001b[0;32m    262\u001b[0m         lineterminator\u001b[38;5;241m=\u001b[39m\u001b[38;5;28mself\u001b[39m\u001b[38;5;241m.\u001b[39mlineterminator,\n\u001b[1;32m   (...)\u001b[0m\n\u001b[0;32m    267\u001b[0m         quotechar\u001b[38;5;241m=\u001b[39m\u001b[38;5;28mself\u001b[39m\u001b[38;5;241m.\u001b[39mquotechar,\n\u001b[0;32m    268\u001b[0m     )\n\u001b[0;32m    270\u001b[0m     \u001b[38;5;28mself\u001b[39m\u001b[38;5;241m.\u001b[39m_save()\n",
      "File \u001b[1;32mc:\\Users\\marco\\Documentos\\docencia\\fundamentos_logica\\.venv\\Lib\\site-packages\\pandas\\io\\common.py:873\u001b[0m, in \u001b[0;36mget_handle\u001b[1;34m(path_or_buf, mode, encoding, compression, memory_map, is_text, errors, storage_options)\u001b[0m\n\u001b[0;32m    868\u001b[0m \u001b[38;5;28;01melif\u001b[39;00m \u001b[38;5;28misinstance\u001b[39m(handle, \u001b[38;5;28mstr\u001b[39m):\n\u001b[0;32m    869\u001b[0m     \u001b[38;5;66;03m# Check whether the filename is to be opened in binary mode.\u001b[39;00m\n\u001b[0;32m    870\u001b[0m     \u001b[38;5;66;03m# Binary mode does not support 'encoding' and 'newline'.\u001b[39;00m\n\u001b[0;32m    871\u001b[0m     \u001b[38;5;28;01mif\u001b[39;00m ioargs\u001b[38;5;241m.\u001b[39mencoding \u001b[38;5;129;01mand\u001b[39;00m \u001b[38;5;124m\"\u001b[39m\u001b[38;5;124mb\u001b[39m\u001b[38;5;124m\"\u001b[39m \u001b[38;5;129;01mnot\u001b[39;00m \u001b[38;5;129;01min\u001b[39;00m ioargs\u001b[38;5;241m.\u001b[39mmode:\n\u001b[0;32m    872\u001b[0m         \u001b[38;5;66;03m# Encoding\u001b[39;00m\n\u001b[1;32m--> 873\u001b[0m         handle \u001b[38;5;241m=\u001b[39m \u001b[38;5;28;43mopen\u001b[39;49m\u001b[43m(\u001b[49m\n\u001b[0;32m    874\u001b[0m \u001b[43m            \u001b[49m\u001b[43mhandle\u001b[49m\u001b[43m,\u001b[49m\n\u001b[0;32m    875\u001b[0m \u001b[43m            \u001b[49m\u001b[43mioargs\u001b[49m\u001b[38;5;241;43m.\u001b[39;49m\u001b[43mmode\u001b[49m\u001b[43m,\u001b[49m\n\u001b[0;32m    876\u001b[0m \u001b[43m            \u001b[49m\u001b[43mencoding\u001b[49m\u001b[38;5;241;43m=\u001b[39;49m\u001b[43mioargs\u001b[49m\u001b[38;5;241;43m.\u001b[39;49m\u001b[43mencoding\u001b[49m\u001b[43m,\u001b[49m\n\u001b[0;32m    877\u001b[0m \u001b[43m            \u001b[49m\u001b[43merrors\u001b[49m\u001b[38;5;241;43m=\u001b[39;49m\u001b[43merrors\u001b[49m\u001b[43m,\u001b[49m\n\u001b[0;32m    878\u001b[0m \u001b[43m            \u001b[49m\u001b[43mnewline\u001b[49m\u001b[38;5;241;43m=\u001b[39;49m\u001b[38;5;124;43m\"\u001b[39;49m\u001b[38;5;124;43m\"\u001b[39;49m\u001b[43m,\u001b[49m\n\u001b[0;32m    879\u001b[0m \u001b[43m        \u001b[49m\u001b[43m)\u001b[49m\n\u001b[0;32m    880\u001b[0m     \u001b[38;5;28;01melse\u001b[39;00m:\n\u001b[0;32m    881\u001b[0m         \u001b[38;5;66;03m# Binary mode\u001b[39;00m\n\u001b[0;32m    882\u001b[0m         handle \u001b[38;5;241m=\u001b[39m \u001b[38;5;28mopen\u001b[39m(handle, ioargs\u001b[38;5;241m.\u001b[39mmode)\n",
      "\u001b[1;31mPermissionError\u001b[0m: [Errno 13] Permission denied: 'C:/Users/marco/Documentos/docencia/groups_list/logica.csv'"
     ]
    }
   ],
   "source": [
    "import pandas as pd\n",
    "import numpy as np\n",
    "\n",
    "# Cargar la lista de estudiantes desde el archivo CSV\n",
    "# path = 'C:/Users/marco/Documentos/docencia/groups_list/logica.csv'\n",
    "# estudiantes = pd.read_csv(path)\n",
    "# estudiantes['Asistencia'] = estudiantes['Asistencia'].astype(float)  # Asegurar que la columna 'Parcial' es float\n",
    "\n",
    "# Convertir la columna 'Nombre' a una lista de Python\n",
    "lista_estudiantes = estudiantes['Nombre'].tolist()\n",
    "\n",
    "# Función para llamar a un estudiante aleatoriamente y registrar su nota de seguimiento\n",
    "def asistencia():\n",
    "    global lista_estudiantes\n",
    "    if lista_estudiantes:\n",
    "        estudiante_aleatorio = np.random.choice(lista_estudiantes)\n",
    "        print(f\"Llamando a {estudiante_aleatorio}...\")\n",
    "        asistencia = input(f\"¿Asistió {estudiante_aleatorio}? (s/n): \").strip().lower()\n",
    "        \n",
    "        # Validación de entrada\n",
    "        if asistencia == 'n':\n",
    "            # Obtener el índice del estudiante en el DataFrame\n",
    "            indice = estudiantes[estudiantes['Nombre'] == estudiante_aleatorio].index[0]\n",
    "            # Incrementar su valor en la columna 'Parcial'\n",
    "            estudiantes.at[indice, 'Asistencia'] += 4\n",
    "            print(f\"Actualizado: {estudiante_aleatorio} ahora tiene {estudiantes.at[indice, 'Parcial']} en la columna 'Parcial'.\")\n",
    "        \n",
    "        elif asistencia != 's':\n",
    "            print(\"Entrada inválida. Por favor, introduce 's' para sí o 'n' para no.\")\n",
    "            return  # Volver a preguntar para el mismo estudiante si la entrada es inválida\n",
    "        \n",
    "        # Remover al estudiante de la lista para no llamarlo de nuevo\n",
    "        lista_estudiantes.remove(estudiante_aleatorio)\n",
    "    else:\n",
    "        print(\"Se han llamado a todos los estudiantes del grupo completo.\")\n",
    "\n",
    "# Función para guardar cambios al final de la sesión\n",
    "def guardar_cambios():\n",
    "    estudiantes.to_csv(path, index=False)\n",
    "    print(\"Cambios guardados en el archivo CSV.\")\n",
    "\n",
    "# Ejemplo de uso\n",
    "while lista_estudiantes:\n",
    "    asistencia()\n",
    "\n",
    "# Guardar los cambios una vez que todos los estudiantes hayan sido llamados\n",
    "guardar_cambios()\n",
    "\n"
   ]
  },
  {
   "cell_type": "code",
   "execution_count": 5,
   "id": "87bfa29b",
   "metadata": {},
   "outputs": [
    {
     "data": {
      "application/vnd.microsoft.datawrangler.viewer.v0+json": {
       "columns": [
        {
         "name": "index",
         "rawType": "int64",
         "type": "integer"
        },
        {
         "name": "Cedula",
         "rawType": "int64",
         "type": "integer"
        },
        {
         "name": "Nombre",
         "rawType": "object",
         "type": "string"
        },
        {
         "name": "Email",
         "rawType": "object",
         "type": "string"
        },
        {
         "name": "Parcial",
         "rawType": "float64",
         "type": "float"
        },
        {
         "name": "Asistencia",
         "rawType": "float64",
         "type": "float"
        }
       ],
       "conversionMethod": "pd.DataFrame",
       "ref": "5d1335c7-de82-4633-99db-471850f67d49",
       "rows": [
        [
         "0",
         "1067281024",
         "ALVAREZ GOEZ DAIRO ESTEBAN",
         "dairo.alvarez1@udea.edu.co",
         "0.0",
         null
        ],
        [
         "1",
         "1041086439",
         "CASTILLO SIERRA SHIRLIS SARAY",
         "shirlis.castillo@udea.edu.co",
         "0.0",
         null
        ],
        [
         "2",
         "1045419649",
         "ESPINOSA ESPINOSA LILIANA ANDREA",
         "lilianaa.espinosa@udea.edu.co",
         "0.0",
         null
        ],
        [
         "3",
         "1040494191",
         "GARCIA PADILLA JHONATAN",
         "jhonatan.garcia1@udea.edu.co",
         "0.0",
         null
        ],
        [
         "4",
         "1038098851",
         "GUERRA OSORIO SIMON",
         "s.guerra@udea.edu.co",
         "0.0",
         null
        ],
        [
         "5",
         "1038131529",
         "HOYOS ARRIETA ELIECER JOSE",
         "jose.hoyos2@udea.edu.co",
         "0.0",
         null
        ],
        [
         "6",
         "1038116007",
         "MARIAGA BALLESTEROS KEILA MELIZA",
         "keila.mariaga@udea.edu.co",
         "0.0",
         null
        ],
        [
         "7",
         "1007112550",
         "MARTINEZ MENDOZA JAIR MIGUEL",
         "jair.mmendoza@udea.edu.co",
         "0.0",
         null
        ],
        [
         "8",
         "1038092575",
         "OSORIO ACEVEDO LUIS MARIO",
         "luismario.osorio@udea.edu.co",
         "0.0",
         null
        ],
        [
         "9",
         "1038130817",
         "PENATE PENA JHON SEBASTIAN",
         "jhon.penate@udea.edu.co",
         "0.0",
         null
        ],
        [
         "10",
         "1019842256",
         "RODELO ZABALA ARIANA",
         "a.rodelo@udea.edu.co",
         "0.0",
         null
        ],
        [
         "11",
         "1042822239",
         "RODRIGUEZ MOSQUERA ANGELA MARIA",
         "maria.rodriguez8@udea.edu.co",
         "0.0",
         null
        ],
        [
         "12",
         "1038436130",
         "ROHENES DE ARCO CAMILO ANDRES",
         "camilo.rohenes@udea.edu.co",
         "0.0",
         null
        ],
        [
         "13",
         "1038436131",
         "ROHENES DE ARCO DIEGO ANDRES",
         "diego.rohenes@udea.edu.co",
         "0.0",
         null
        ],
        [
         "14",
         "1032251887",
         "SIERRA OLIVEROS OMAR DARIO",
         "omar.sierra1@udea.edu.co",
         "0.0",
         null
        ],
        [
         "15",
         "1038646944",
         "SILVA URDA FABIAN",
         "fabian.silva1@udea.edu.co",
         "0.0",
         null
        ],
        [
         "16",
         "1007429411",
         "VILLA CABARCA SANDY JANETH",
         "sandy.villac@udea.edu.co",
         "0.0",
         null
        ]
       ],
       "shape": {
        "columns": 5,
        "rows": 17
       }
      },
      "text/html": [
       "<div>\n",
       "<style scoped>\n",
       "    .dataframe tbody tr th:only-of-type {\n",
       "        vertical-align: middle;\n",
       "    }\n",
       "\n",
       "    .dataframe tbody tr th {\n",
       "        vertical-align: top;\n",
       "    }\n",
       "\n",
       "    .dataframe thead th {\n",
       "        text-align: right;\n",
       "    }\n",
       "</style>\n",
       "<table border=\"1\" class=\"dataframe\">\n",
       "  <thead>\n",
       "    <tr style=\"text-align: right;\">\n",
       "      <th></th>\n",
       "      <th>Cedula</th>\n",
       "      <th>Nombre</th>\n",
       "      <th>Email</th>\n",
       "      <th>Parcial</th>\n",
       "      <th>Asistencia</th>\n",
       "    </tr>\n",
       "  </thead>\n",
       "  <tbody>\n",
       "    <tr>\n",
       "      <th>0</th>\n",
       "      <td>1067281024</td>\n",
       "      <td>ALVAREZ GOEZ DAIRO ESTEBAN</td>\n",
       "      <td>dairo.alvarez1@udea.edu.co</td>\n",
       "      <td>0.0</td>\n",
       "      <td>NaN</td>\n",
       "    </tr>\n",
       "    <tr>\n",
       "      <th>1</th>\n",
       "      <td>1041086439</td>\n",
       "      <td>CASTILLO SIERRA SHIRLIS SARAY</td>\n",
       "      <td>shirlis.castillo@udea.edu.co</td>\n",
       "      <td>0.0</td>\n",
       "      <td>NaN</td>\n",
       "    </tr>\n",
       "    <tr>\n",
       "      <th>2</th>\n",
       "      <td>1045419649</td>\n",
       "      <td>ESPINOSA ESPINOSA LILIANA ANDREA</td>\n",
       "      <td>lilianaa.espinosa@udea.edu.co</td>\n",
       "      <td>0.0</td>\n",
       "      <td>NaN</td>\n",
       "    </tr>\n",
       "    <tr>\n",
       "      <th>3</th>\n",
       "      <td>1040494191</td>\n",
       "      <td>GARCIA PADILLA JHONATAN</td>\n",
       "      <td>jhonatan.garcia1@udea.edu.co</td>\n",
       "      <td>0.0</td>\n",
       "      <td>NaN</td>\n",
       "    </tr>\n",
       "    <tr>\n",
       "      <th>4</th>\n",
       "      <td>1038098851</td>\n",
       "      <td>GUERRA OSORIO SIMON</td>\n",
       "      <td>s.guerra@udea.edu.co</td>\n",
       "      <td>0.0</td>\n",
       "      <td>NaN</td>\n",
       "    </tr>\n",
       "    <tr>\n",
       "      <th>5</th>\n",
       "      <td>1038131529</td>\n",
       "      <td>HOYOS ARRIETA ELIECER JOSE</td>\n",
       "      <td>jose.hoyos2@udea.edu.co</td>\n",
       "      <td>0.0</td>\n",
       "      <td>NaN</td>\n",
       "    </tr>\n",
       "    <tr>\n",
       "      <th>6</th>\n",
       "      <td>1038116007</td>\n",
       "      <td>MARIAGA BALLESTEROS KEILA MELIZA</td>\n",
       "      <td>keila.mariaga@udea.edu.co</td>\n",
       "      <td>0.0</td>\n",
       "      <td>NaN</td>\n",
       "    </tr>\n",
       "    <tr>\n",
       "      <th>7</th>\n",
       "      <td>1007112550</td>\n",
       "      <td>MARTINEZ MENDOZA JAIR MIGUEL</td>\n",
       "      <td>jair.mmendoza@udea.edu.co</td>\n",
       "      <td>0.0</td>\n",
       "      <td>NaN</td>\n",
       "    </tr>\n",
       "    <tr>\n",
       "      <th>8</th>\n",
       "      <td>1038092575</td>\n",
       "      <td>OSORIO ACEVEDO LUIS MARIO</td>\n",
       "      <td>luismario.osorio@udea.edu.co</td>\n",
       "      <td>0.0</td>\n",
       "      <td>NaN</td>\n",
       "    </tr>\n",
       "    <tr>\n",
       "      <th>9</th>\n",
       "      <td>1038130817</td>\n",
       "      <td>PENATE PENA JHON SEBASTIAN</td>\n",
       "      <td>jhon.penate@udea.edu.co</td>\n",
       "      <td>0.0</td>\n",
       "      <td>NaN</td>\n",
       "    </tr>\n",
       "    <tr>\n",
       "      <th>10</th>\n",
       "      <td>1019842256</td>\n",
       "      <td>RODELO ZABALA ARIANA</td>\n",
       "      <td>a.rodelo@udea.edu.co</td>\n",
       "      <td>0.0</td>\n",
       "      <td>NaN</td>\n",
       "    </tr>\n",
       "    <tr>\n",
       "      <th>11</th>\n",
       "      <td>1042822239</td>\n",
       "      <td>RODRIGUEZ MOSQUERA ANGELA MARIA</td>\n",
       "      <td>maria.rodriguez8@udea.edu.co</td>\n",
       "      <td>0.0</td>\n",
       "      <td>NaN</td>\n",
       "    </tr>\n",
       "    <tr>\n",
       "      <th>12</th>\n",
       "      <td>1038436130</td>\n",
       "      <td>ROHENES DE ARCO CAMILO ANDRES</td>\n",
       "      <td>camilo.rohenes@udea.edu.co</td>\n",
       "      <td>0.0</td>\n",
       "      <td>NaN</td>\n",
       "    </tr>\n",
       "    <tr>\n",
       "      <th>13</th>\n",
       "      <td>1038436131</td>\n",
       "      <td>ROHENES DE ARCO DIEGO ANDRES</td>\n",
       "      <td>diego.rohenes@udea.edu.co</td>\n",
       "      <td>0.0</td>\n",
       "      <td>NaN</td>\n",
       "    </tr>\n",
       "    <tr>\n",
       "      <th>14</th>\n",
       "      <td>1032251887</td>\n",
       "      <td>SIERRA OLIVEROS OMAR DARIO</td>\n",
       "      <td>omar.sierra1@udea.edu.co</td>\n",
       "      <td>0.0</td>\n",
       "      <td>NaN</td>\n",
       "    </tr>\n",
       "    <tr>\n",
       "      <th>15</th>\n",
       "      <td>1038646944</td>\n",
       "      <td>SILVA URDA FABIAN</td>\n",
       "      <td>fabian.silva1@udea.edu.co</td>\n",
       "      <td>0.0</td>\n",
       "      <td>NaN</td>\n",
       "    </tr>\n",
       "    <tr>\n",
       "      <th>16</th>\n",
       "      <td>1007429411</td>\n",
       "      <td>VILLA CABARCA SANDY JANETH</td>\n",
       "      <td>sandy.villac@udea.edu.co</td>\n",
       "      <td>0.0</td>\n",
       "      <td>NaN</td>\n",
       "    </tr>\n",
       "  </tbody>\n",
       "</table>\n",
       "</div>"
      ],
      "text/plain": [
       "        Cedula                            Nombre  \\\n",
       "0   1067281024        ALVAREZ GOEZ DAIRO ESTEBAN   \n",
       "1   1041086439     CASTILLO SIERRA SHIRLIS SARAY   \n",
       "2   1045419649  ESPINOSA ESPINOSA LILIANA ANDREA   \n",
       "3   1040494191           GARCIA PADILLA JHONATAN   \n",
       "4   1038098851               GUERRA OSORIO SIMON   \n",
       "5   1038131529        HOYOS ARRIETA ELIECER JOSE   \n",
       "6   1038116007  MARIAGA BALLESTEROS KEILA MELIZA   \n",
       "7   1007112550      MARTINEZ MENDOZA JAIR MIGUEL   \n",
       "8   1038092575         OSORIO ACEVEDO LUIS MARIO   \n",
       "9   1038130817        PENATE PENA JHON SEBASTIAN   \n",
       "10  1019842256              RODELO ZABALA ARIANA   \n",
       "11  1042822239   RODRIGUEZ MOSQUERA ANGELA MARIA   \n",
       "12  1038436130     ROHENES DE ARCO CAMILO ANDRES   \n",
       "13  1038436131      ROHENES DE ARCO DIEGO ANDRES   \n",
       "14  1032251887        SIERRA OLIVEROS OMAR DARIO   \n",
       "15  1038646944                 SILVA URDA FABIAN   \n",
       "16  1007429411        VILLA CABARCA SANDY JANETH   \n",
       "\n",
       "                            Email  Parcial  Asistencia  \n",
       "0      dairo.alvarez1@udea.edu.co      0.0         NaN  \n",
       "1    shirlis.castillo@udea.edu.co      0.0         NaN  \n",
       "2   lilianaa.espinosa@udea.edu.co      0.0         NaN  \n",
       "3    jhonatan.garcia1@udea.edu.co      0.0         NaN  \n",
       "4            s.guerra@udea.edu.co      0.0         NaN  \n",
       "5         jose.hoyos2@udea.edu.co      0.0         NaN  \n",
       "6       keila.mariaga@udea.edu.co      0.0         NaN  \n",
       "7       jair.mmendoza@udea.edu.co      0.0         NaN  \n",
       "8    luismario.osorio@udea.edu.co      0.0         NaN  \n",
       "9         jhon.penate@udea.edu.co      0.0         NaN  \n",
       "10           a.rodelo@udea.edu.co      0.0         NaN  \n",
       "11   maria.rodriguez8@udea.edu.co      0.0         NaN  \n",
       "12     camilo.rohenes@udea.edu.co      0.0         NaN  \n",
       "13      diego.rohenes@udea.edu.co      0.0         NaN  \n",
       "14       omar.sierra1@udea.edu.co      0.0         NaN  \n",
       "15      fabian.silva1@udea.edu.co      0.0         NaN  \n",
       "16       sandy.villac@udea.edu.co      0.0         NaN  "
      ]
     },
     "execution_count": 5,
     "metadata": {},
     "output_type": "execute_result"
    }
   ],
   "source": [
    "estudiantes.head(17)"
   ]
  },
  {
   "cell_type": "code",
   "execution_count": 7,
   "id": "3f755719",
   "metadata": {},
   "outputs": [],
   "source": [
    "estudiantes.to_excel('C:/Users/marco/Documentos/docencia/groups_list/logica.xlsx', index=False)"
   ]
  },
  {
   "cell_type": "markdown",
   "id": "d7598d0a-d9b7-4ae0-b029-a0ed6ed1130b",
   "metadata": {},
   "source": [
    "\n",
    "# Principios de mi labor docente"
   ]
  },
  {
   "cell_type": "markdown",
   "id": "4f9d8cf9",
   "metadata": {
    "slideshow": {
     "slide_type": "slide"
    }
   },
   "source": [
    "## Modelo general de clase: [aula invertida](https://www3.gobiernodecanarias.org/medusa/ecoescuela/pedagotic/aprendizaje-invertido-flipped-classroom/)"
   ]
  },
  {
   "cell_type": "markdown",
   "id": "eb6ed03a",
   "metadata": {},
   "source": [
    "<img src = 'https://resources.maneuveringthemiddle.com/wp-content/uploads/2020/07/04212706/1-5.png' width = 500>  \n",
    "\n"
   ]
  },
  {
   "cell_type": "markdown",
   "id": "34319cce-a71b-4f64-aab8-b53e521efa40",
   "metadata": {},
   "source": [
    "# Metodología de enseñanza basada en problemas (ABP)\n"
   ]
  },
  {
   "cell_type": "markdown",
   "id": "c4f73d81",
   "metadata": {},
   "source": [
    "\n",
    "<img src = 'https://www.unir.net/wp-content/uploads/2020/07/aprendizaje-problemas2-1-1-1-1.jpeg' width = 500>"
   ]
  },
  {
   "cell_type": "markdown",
   "id": "841a985c-bd9b-4dd3-8e4c-893983980af2",
   "metadata": {},
   "source": [
    "# Desarrollo del pensamiento computacional con Lenguaje Python, R y con archivos R Markdown, latex orientado a la formación en ciencia de datos \n",
    "\n"
   ]
  },
  {
   "cell_type": "markdown",
   "id": "3d0eba94",
   "metadata": {},
   "source": [
    "\n",
    "<img src = 'https://i.ytimg.com/vi/mcG_wcR4e6M/maxresdefault.jpg' width = 500>"
   ]
  },
  {
   "cell_type": "markdown",
   "id": "65aa0404-f7ae-495e-864c-1aec01b4255e",
   "metadata": {},
   "source": [
    "# Principio de fomento a la ciencia abierta, enseñar en el acceso a los datos públicos y el uso de software de código abierto  \n"
   ]
  },
  {
   "cell_type": "markdown",
   "id": "18ae9b87",
   "metadata": {},
   "source": [
    "\n",
    "<img src = 'https://unesdoc.unesco.org/in/rest/Thumb/image?id=p%3A%3Ausmarcdef_0000379949_spa&author=UNESCO&title=Recomendaci%C3%B3n+de+la+UNESCO+sobre+la+Ciencia+Abierta&year=2021&publisher=UNESCO&TypeOfDocument=UnescoPhysicalDocument&mat=PGD&ct=true&size=512&isPhysical=1' width = 200>"
   ]
  },
  {
   "cell_type": "markdown",
   "id": "d9559f85",
   "metadata": {},
   "source": [
    "El enfoque STEAMS en educación preescolar, primaria y secundaria y Universidad es una extensión del enfoque STEM (Ciencia, Tecnología, Ingeniería y Matemáticas) y su variante STEAM, que incorpora el Arte. "
   ]
  },
  {
   "cell_type": "markdown",
   "id": "72e1cfd2",
   "metadata": {},
   "source": [
    "El acrónimo STEAMS incluye:\n"
   ]
  },
  {
   "cell_type": "markdown",
   "id": "03182fd1",
   "metadata": {},
   "source": [
    "\n",
    "1. **Science (Ciencia):** Fomenta la curiosidad por el mundo natural y el desarrollo de habilidades científicas, como la observación, experimentación y análisis.\n"
   ]
  },
  {
   "cell_type": "markdown",
   "id": "1306d0fa",
   "metadata": {},
   "source": [
    "\n",
    "2. **Technology (Tecnología):** Integra herramientas tecnológicas para potenciar el aprendizaje y la resolución de problemas, promoviendo la alfabetización digital desde edades tempranas.\n"
   ]
  },
  {
   "cell_type": "markdown",
   "id": "3b1a53e8",
   "metadata": {},
   "source": [
    "\n",
    "3. **Engineering (Ingeniería):** Introduce el pensamiento lógico y la resolución de problemas estructurados, fomentando habilidades como el diseño y la construcción de soluciones.\n"
   ]
  },
  {
   "cell_type": "markdown",
   "id": "0196de87",
   "metadata": {},
   "source": [
    "\n",
    "4. **Arts (Arte):** Añade creatividad y pensamiento crítico, permitiendo a los estudiantes expresarse y explorar el aprendizaje a través de formas artísticas (plásticas, música, teatro).\n"
   ]
  },
  {
   "cell_type": "markdown",
   "id": "8bcc485a",
   "metadata": {},
   "source": [
    "\n",
    "5. **Mathematics (Matemáticas):** Refuerza las habilidades numéricas y el razonamiento lógico, fundamentales en la resolución de problemas y comprensión de conceptos abstractos.\n"
   ]
  },
  {
   "cell_type": "markdown",
   "id": "907935f4",
   "metadata": {},
   "source": [
    "\n",
    "6. **Social Sciences (Ciencias Sociales):** Incorpora la comprensión del entorno social, político, cultural y económico, promoviendo el desarrollo de la conciencia crítica sobre el mundo y su historia, además de habilidades de empatía y ciudadanía.\n"
   ]
  },
  {
   "cell_type": "markdown",
   "id": "39967d63",
   "metadata": {},
   "source": [
    "\n",
    "El enfoque STEAMS pretende desarrollar un aprendizaje **interdisciplinario** que integre estas áreas para fomentar un pensamiento más holístico y práctico. "
   ]
  },
  {
   "cell_type": "markdown",
   "id": "5145f077",
   "metadata": {},
   "source": [
    "Se busca que los estudiantes no solo aprendan conocimientos técnicos, sino también cómo aplicarlos creativa y críticamente en situaciones reales, promoviendo habilidades como el trabajo en equipo, la comunicación y la innovación. "
   ]
  },
  {
   "cell_type": "markdown",
   "id": "9d556584",
   "metadata": {},
   "source": [
    "En educación preescolar, primaria, secundaria y superior, se adapta a las diferentes etapas de desarrollo cognitivo y emocional de los estudiantes, promoviendo el aprendizaje activo y contextualizado.  \n"
   ]
  },
  {
   "cell_type": "markdown",
   "id": "0130ec1b",
   "metadata": {},
   "source": [
    "\n",
    "<img src = 'https://www.campuseducacion.com/blog/wp-content/uploads/2023/03/foto01-1.jpg' width = 200>"
   ]
  },
  {
   "cell_type": "markdown",
   "id": "9d15c10d-2c02-4158-9419-b1ed79b4c1ee",
   "metadata": {},
   "source": [
    "# Qué estamos haciendo por la internalización en esta clase y este curso  \n"
   ]
  },
  {
   "cell_type": "markdown",
   "id": "6e4feef2",
   "metadata": {},
   "source": [
    "Estas son mis acciones como docente de matemáticas en la Universidad de Antioquia con miras a la **internacionalización** de mi práctica docente y el desarrollo de competencias internacionales para mis estudiantes, ls cuales he estructurado con el siguiente enfoque:\n"
   ]
  },
  {
   "cell_type": "markdown",
   "id": "964d9de7-53ee-4255-9bcd-d8e6454f2993",
   "metadata": {},
   "source": [
    "### 1. **Visión Global en la Formación Académica**\n"
   ]
  },
  {
   "cell_type": "markdown",
   "id": "d9bdd3e2",
   "metadata": {},
   "source": [
    "   - **Competencias Internacionales**: Asegúrate de que el contenido de tus cursos fomente habilidades que sean reconocidas globalmente. Al educar a los estudiantes en **Python, LaTeX, Markdown y Jupyter Notebooks** y en la **introducción a la ciencia de datos y técnicas de Machine Learning**, estás proporcionando competencias altamente demandadas en los sectores tecnológicos y académicos a nivel internacional.\n"
   ]
  },
  {
   "cell_type": "markdown",
   "id": "39b55206",
   "metadata": {},
   "source": [
    "   - **Relevancia de los Contenidos**: Destaca cómo los temas que enseñas, como el **desarrollo del pensamiento computacional** y la **ciencia de datos**, están alineados con las necesidades globales actuales en diversas industrias, desde la tecnología hasta las ciencias naturales y sociales.\n"
   ]
  },
  {
   "cell_type": "markdown",
   "id": "a054599e",
   "metadata": {},
   "source": [
    "   - **Referencias a Estándares Internacionales**: Puedes vincular tu enseñanza a estándares internacionales de competencias en programación y ciencia de datos (por ejemplo, frameworks del **IEEE, ACM**, y estándares de la **data science** o la **computación en la nube**)."
   ]
  },
  {
   "cell_type": "markdown",
   "id": "0f1d110c-3142-48fe-9e7d-5fbd9e8bb931",
   "metadata": {},
   "source": [
    "### 2. **Innovación Pedagógica con Enfoque Internacional**\n"
   ]
  },
  {
   "cell_type": "markdown",
   "id": "fae6ae34",
   "metadata": {},
   "source": [
    "   - **Aula Invertida y ABP**: Presenta cómo tu enfoque de **aula invertida** y **aprendizaje basado en problemas (ABP)** permite a los estudiantes trabajar de manera autónoma y colaborativa, lo que los prepara para escenarios laborales internacionales que requieren autoaprendizaje y habilidades de resolución de problemas en equipo.\n"
   ]
  },
  {
   "cell_type": "markdown",
   "id": "c83062d9",
   "metadata": {},
   "source": [
    "   - **Uso de Jupyter Notebooks**: El uso de **Jupyter Notebooks** en tus clases no solo facilita la **integración de código, matemáticas y texto**, sino que también es una plataforma utilizada globalmente en ambientes académicos y profesionales, lo que hace a tus estudiantes más competitivos internacionalmente."
   ]
  },
  {
   "cell_type": "markdown",
   "id": "960d52b7-03cd-4eb3-965e-5cdfeb7d9f8e",
   "metadata": {},
   "source": [
    "### 3. **Tecnología y Herramientas de Uso Global**\n"
   ]
  },
  {
   "cell_type": "markdown",
   "id": "4be7269f",
   "metadata": {},
   "source": [
    "   - **Lenguaje Python**: Python es uno de los lenguajes de programación más usados a nivel mundial, tanto en la academia como en la industria. "
   ]
  },
  {
   "cell_type": "markdown",
   "id": "2a1683e3",
   "metadata": {},
   "source": [
    "Al formar a tus estudiantes en Python para ciencia de datos y machine learning, los preparas para operar en entornos tecnológicos globales.\n"
   ]
  },
  {
   "cell_type": "markdown",
   "id": "102655af",
   "metadata": {},
   "source": [
    "   - **Herramientas de Ciencia Abierta**: Resalta cómo herramientas como **GitHub**, **Google Colab** y otras plataformas de código abierto están alineadas con el movimiento de **ciencia abierta**, el cual es internacionalmente reconocido y permite que los estudiantes colaboren y compartan proyectos a nivel global."
   ]
  },
  {
   "cell_type": "markdown",
   "id": "3b2ffa32-7a6f-4545-ba7b-c6a69f51109f",
   "metadata": {},
   "source": [
    "### 4. **Investigación y Publicaciones Internacionales**\n"
   ]
  },
  {
   "cell_type": "markdown",
   "id": "bdbf52a5",
   "metadata": {},
   "source": [
    "   - **Promoción de la Investigación**: Detalla cómo promueves que tus estudiantes participen en proyectos de **investigación aplicada**, con posibilidad de publicación en revistas internacionales. Esto contribuye a la reputación internacional de la Universidad de Antioquia.\n"
   ]
  },
  {
   "cell_type": "markdown",
   "id": "ea01fcbc",
   "metadata": {},
   "source": [
    "   - **Colaboraciones Internacionales**: Si has colaborado con investigadores de otras instituciones o universidades en el extranjero, menciona estos proyectos y cómo han enriquecido tu enseñanza y proporcionado a los estudiantes una visión más globalizada."
   ]
  },
  {
   "cell_type": "markdown",
   "id": "5d1e396e-aece-4bf7-9421-32fa7809eaf4",
   "metadata": {},
   "source": [
    "## 5. **Uso del Inglés para la Internacionalización**\n"
   ]
  },
  {
   "cell_type": "markdown",
   "id": "29cabf26",
   "metadata": {},
   "source": [
    "   - **Comunicación Científica en Inglés**: "
   ]
  },
  {
   "cell_type": "markdown",
   "id": "8ec53ff3",
   "metadata": {},
   "source": [
    "Fomentar el aprendizaje del inglés como lengua científica es clave para que tus estudiantes puedan acceder a publicaciones internacionales, conferencias, y material académico que no está disponible en español. "
   ]
  },
  {
   "cell_type": "markdown",
   "id": "ce07e46e",
   "metadata": {},
   "source": [
    "Esto es esencial para que adquieran competencias que les permitan desempeñarse en cualquier contexto internacional.\n"
   ]
  },
  {
   "cell_type": "markdown",
   "id": "b831224f",
   "metadata": {},
   "source": [
    "   - **Material Bilingüe**: Al generar material educativo en Python, LaTeX y Markdown, considera ofrecer algunos de estos recursos en inglés, para que los estudiantes se familiaricen con el vocabulario técnico y científico internacional."
   ]
  },
  {
   "cell_type": "markdown",
   "id": "c6a8c3b0-426a-4692-a384-3065aea81c9a",
   "metadata": {},
   "source": [
    "### 6. **Certificaciones y Estándares Internacionales**\n"
   ]
  },
  {
   "cell_type": "markdown",
   "id": "b1f41da5",
   "metadata": {},
   "source": [
    "   - **Participación en Certificaciones Internacionales**: Impulsa que los estudiantes busquen certificaciones internacionales en Python o ciencia de datos (como las ofrecidas por **Coursera, edX,** o **Google**). "
   ]
  },
  {
   "cell_type": "markdown",
   "id": "818e5422",
   "metadata": {},
   "source": [
    "Estas certificaciones no solo validan sus competencias, sino que también incrementan el reconocimiento de la Universidad de Antioquia en el contexto internacional.\n"
   ]
  },
  {
   "cell_type": "markdown",
   "id": "7cc66317",
   "metadata": {},
   "source": [
    "   - **Alineación con Acreditaciones Internacionales**: Vincula tu trabajo docente con los estándares de acreditación y certificación que garantizan que la universidad siga siendo reconocida internacionalmente. "
   ]
  },
  {
   "cell_type": "markdown",
   "id": "7c7b0418",
   "metadata": {},
   "source": [
    "Puedes vincularte con organizaciones internacionales que promuevan la excelencia en la educación y tecnología, como **ABET** para la acreditación en ingeniería y ciencias computacionales."
   ]
  },
  {
   "cell_type": "markdown",
   "id": "65d3d9e1-ea84-43e0-8197-a2a9c9e21594",
   "metadata": {},
   "source": [
    "### 7. **Proyectos Abiertos y Ciencia Reproducible**\n"
   ]
  },
  {
   "cell_type": "markdown",
   "id": "f03f7b20",
   "metadata": {},
   "source": [
    "   - **GitHub y Open Science**: La utilización de **GitHub** para almacenar los proyectos y materiales de enseñanza en repositorios públicos permite que otros investigadores y educadores internacionales puedan revisar y replicar tu trabajo. Esto contribuye a la creación de una red de colaboración científica abierta.\n"
   ]
  },
  {
   "cell_type": "markdown",
   "id": "23149c10",
   "metadata": {},
   "source": [
    "   - **Transparencia y Reproducibilidad**: La ciencia de datos y machine learning están profundamente ligados a la reproducibilidad. Asegura que tus estudiantes desarrollen prácticas de transparencia y documentación en la investigación, que son pilares en la comunidad científica global.\n"
   ]
  },
  {
   "cell_type": "markdown",
   "id": "215cb551",
   "metadata": {},
   "source": [
    "\n",
    "### 8. **Participación en Redes y Conferencias Internacionales**\n",
    "   - **Presentación en Conferencias Internacionales**: Destaca cómo tu participación en conferencias internacionales (como la **ASCOLFA** o eventos sobre educación en matemáticas) contribuye al prestigio de la universidad y permite que tus prácticas sean evaluadas y reconocidas a nivel global.\n"
   ]
  },
  {
   "cell_type": "markdown",
   "id": "cdf46e29",
   "metadata": {},
   "source": [
    "   - **Promoción de Estudiantes en Eventos Internacionales**: Impulsa la participación de tus estudiantes en competiciones internacionales de programación o hackathons, como los organizados por **Google**, **ACM** o **Kaggle**. Esto no solo desarrolla sus habilidades, sino que también visibiliza el talento de la Universidad de Antioquia a nivel global.\n",
    "\n",
    "---"
   ]
  },
  {
   "cell_type": "markdown",
   "id": "233294a4-1983-4641-a7ad-866825e02315",
   "metadata": {},
   "source": [
    "Con esta estrategia, presento mis acciones docentes en términos de competencias internacionales, innovación pedagógica, tecnología, investigación y participación en redes globales, asegurando que mi práctica esté alineada con los estándares internacionales y que tus estudiantes estén preparados para competir en contextos internacionales."
   ]
  },
  {
   "cell_type": "markdown",
   "id": "77da458b",
   "metadata": {},
   "source": [
    "### **Metodología de Enseñanza: Aprendizaje Basado en Problemas y Proyectos (ABPP)**\n"
   ]
  },
  {
   "cell_type": "markdown",
   "id": "c943d273",
   "metadata": {},
   "source": [
    "\n",
    "El **Aprendizaje Basado en Problemas y Proyectos (ABPP)** es una metodología educativa que integra los enfoques del **Aprendizaje Basado en Problemas (ABP)** y el **Aprendizaje Basado en Proyectos (PBL, por sus siglas en inglés)**. "
   ]
  },
  {
   "cell_type": "markdown",
   "id": "662c202f",
   "metadata": {},
   "source": [
    "Es especialmente útil para la formación de futuros docentes, ingenieros y administradores, ya que combina el desarrollo de habilidades prácticas con el pensamiento crítico y reflexivo. A continuación, se presenta una descripción adaptada a la enseñanza de las matemáticas en educación infantil, Licenciatura en Matemáticas, Ingeniería Agropecuaria y Administración de Empresas:\n",
    "\n",
    "---\n"
   ]
  },
  {
   "cell_type": "markdown",
   "id": "0eeba3f5",
   "metadata": {},
   "source": [
    "\n",
    "### **1. Fundamentos del ABPP**\n"
   ]
  },
  {
   "cell_type": "markdown",
   "id": "43a21c0b",
   "metadata": {},
   "source": [
    "El ABPP se basa en:\n",
    "- **Resolución de Problemas Reales:** Los estudiantes analizan y resuelven problemas auténticos relacionados con su área de formación, fomentando la aplicación práctica del conocimiento.\n",
    "- **Proyectos como Herramientas Integradoras:** Los proyectos permiten desarrollar habilidades interdisciplinarias y ofrecer soluciones concretas a los problemas planteados.\n",
    "- **Aprendizaje Activo:** Los estudiantes son responsables de su aprendizaje y participan activamente en el proceso de investigación, diseño y solución.\n",
    "\n",
    "---\n"
   ]
  },
  {
   "cell_type": "markdown",
   "id": "3728d010",
   "metadata": {},
   "source": [
    "\n",
    "### **2. Aplicación del ABPP en Áreas Específicas**\n",
    "\n",
    "#### **Educación Infantil (Licenciatura en Educación Infantil)**\n",
    "- **Enfoque:** Desarrollo del pensamiento matemático en la infancia desde contextos lúdicos, familiares y culturales.\n",
    "- **Problemas típicos:** \n",
    "  - ¿Cómo enseñar los números naturales mediante actividades prácticas y juegos?\n",
    "  - ¿Qué estrategias pueden emplearse para abordar el concepto de cantidad en edades tempranas?\n",
    "- **Proyectos:** Diseño de secuencias didácticas que usen Python, Jupyter Notebooks y materiales manipulativos para enseñar matemáticas de forma interactiva.\n",
    "- **Competencias desarrolladas:** \n",
    "  - Uso de herramientas tecnológicas para diseñar actividades educativas.\n",
    "  - Comprensión del desarrollo cognitivo infantil y su relación con las matemáticas.\n"
   ]
  },
  {
   "cell_type": "markdown",
   "id": "481f614a",
   "metadata": {},
   "source": [
    "\n",
    "#### **Licenciatura en Matemáticas**\n",
    "- **Enfoque:** Resolución de problemas matemáticos aplicados y profundización teórica en áreas como análisis matemático y modelado.\n"
   ]
  },
  {
   "cell_type": "markdown",
   "id": "4fe27fb8",
   "metadata": {},
   "source": [
    "- **Problemas típicos:**\n",
    "  - ¿Cómo se pueden resolver ecuaciones diferenciales aplicadas a modelos físicos o económicos?\n",
    "  - ¿Cómo modelar fenómenos naturales mediante funciones matemáticas?\n",
    "- **Proyectos:** \n",
    "  - Desarrollo de software educativo para explorar conceptos matemáticos.\n",
    "  - Aplicación de modelado matemático para resolver problemas reales en otras disciplinas.\n",
    "- **Competencias desarrolladas:**\n",
    "  - Dominio de la matemática teórica y aplicada.\n",
    "  - Uso de tecnología para la enseñanza y la investigación.\n"
   ]
  },
  {
   "cell_type": "markdown",
   "id": "83ab236f",
   "metadata": {},
   "source": [
    "\n",
    "#### **Ingeniería Agropecuaria**\n",
    "- **Enfoque:** Modelado matemático y análisis de datos para mejorar la producción agrícola y la gestión de recursos.\n"
   ]
  },
  {
   "cell_type": "markdown",
   "id": "beb9ba0e",
   "metadata": {},
   "source": [
    "- **Problemas típicos:**\n",
    "  - ¿Cómo modelar el crecimiento de cultivos considerando variables climáticas?\n",
    "  - ¿Cómo optimizar el uso del agua en sistemas de riego mediante análisis matemático?\n"
   ]
  },
  {
   "cell_type": "markdown",
   "id": "342f8443",
   "metadata": {},
   "source": [
    "- **Proyectos:** \n",
    "  - Desarrollo de modelos predictivos con Python y bibliotecas de aprendizaje automático.\n",
    "  - Implementación de proyectos que combinen matemáticas y ciencias de datos para resolver problemas agrícolas.\n"
   ]
  },
  {
   "cell_type": "markdown",
   "id": "4715f560",
   "metadata": {},
   "source": [
    "- **Competencias desarrolladas:**\n",
    "  - Integración de matemáticas con tecnologías avanzadas.\n",
    "  - Resolución de problemas agropecuarios mediante análisis y modelado.\n"
   ]
  },
  {
   "cell_type": "markdown",
   "id": "c4519bb3",
   "metadata": {},
   "source": [
    "\n",
    "#### **Administración de Empresas**\n"
   ]
  },
  {
   "cell_type": "markdown",
   "id": "d63225b7",
   "metadata": {},
   "source": [
    "- **Enfoque:** Uso de las matemáticas y la ciencia de datos para la toma de decisiones estratégicas.\n",
    "- **Problemas típicos:**\n",
    "  - ¿Cómo identificar patrones de comportamiento del consumidor usando series de tiempo?\n",
    "  - ¿Qué estrategias matemáticas pueden optimizar la asignación de recursos en una empresa?\n"
   ]
  },
  {
   "cell_type": "markdown",
   "id": "cc6057d6",
   "metadata": {},
   "source": [
    "- **Proyectos:** \n",
    "  - Implementación de modelos de análisis financiero y simulaciones.\n",
    "  - Desarrollo de dashboards interactivos para la gestión de datos empresariales.\n",
    "- **Competencias desarrolladas:**\n",
    "  - Habilidad para interpretar datos matemáticos en contextos de negocio.\n",
    "  - Capacidad para diseñar soluciones basadas en datos.\n",
    "\n",
    "---\n"
   ]
  },
  {
   "cell_type": "markdown",
   "id": "19be58d4",
   "metadata": {},
   "source": [
    "\n",
    "### **3. Beneficios del ABPP**\n"
   ]
  },
  {
   "cell_type": "markdown",
   "id": "585e8739",
   "metadata": {},
   "source": [
    "- **Desarrollo de competencias clave:**\n",
    "  - Pensamiento crítico y creativo.\n",
    "  - Trabajo colaborativo.\n",
    "  - Comunicación efectiva.\n",
    "  - Uso de herramientas tecnológicas avanzadas.\n"
   ]
  },
  {
   "cell_type": "markdown",
   "id": "f62f95f2",
   "metadata": {},
   "source": [
    "- **Adaptación al contexto laboral:** Los estudiantes aprenden a enfrentar desafíos del mundo real y a diseñar soluciones prácticas y aplicables.\n",
    "- **Flexibilidad e interdisciplinariedad:** La metodología se adapta a diversas áreas, fomentando el aprendizaje integrado.\n",
    "\n",
    "---\n"
   ]
  },
  {
   "cell_type": "markdown",
   "id": "e36034c3",
   "metadata": {},
   "source": [
    "\n",
    "### **4. Ejemplo General de Implementación**\n"
   ]
  },
  {
   "cell_type": "markdown",
   "id": "20fadf1c",
   "metadata": {},
   "source": [
    "1. **Identificación del problema:** Se plantea un desafío concreto, como modelar el crecimiento poblacional de una comunidad rural (Ingeniería Agropecuaria) o diseñar una estrategia para enseñar fracciones a niños de 8 años (Educación Infantil).\n",
    "2. **Formación de equipos:** Los estudiantes trabajan en grupos, distribuyendo roles y tareas.\n",
    "3. **Investigación y diseño:** Los estudiantes investigan el problema, proponen soluciones y diseñan un proyecto.\n",
    "4. **Implementación:** Se desarrolla el proyecto, como una herramienta tecnológica o una propuesta pedagógica.\n",
    "5. **Evaluación:** Los estudiantes presentan sus resultados en un informe o una exposición, recibiendo retroalimentación de sus compañeros y docentes.\n",
    "\n",
    "---\n"
   ]
  },
  {
   "cell_type": "markdown",
   "id": "2b40de36",
   "metadata": {},
   "source": [
    "\n",
    "El ABPP es una metodología versátil que conecta el conocimiento teórico con la práctica, preparando a los estudiantes para los retos de sus profesiones en la enseñanza de la matemática, la ingeniería y la administración."
   ]
  },
  {
   "cell_type": "markdown",
   "id": "8d97dc80",
   "metadata": {
    "slideshow": {
     "slide_type": "slide"
    }
   },
   "source": [
    "## Fomento de la lectura literaria asociada a Ingeniería agropecuaria y licenciatura en Matemáticas\n",
    "\n",
    "[Aprender a obtener el sí sin ceder]()"
   ]
  },
  {
   "cell_type": "markdown",
   "id": "96775931",
   "metadata": {
    "slideshow": {
     "slide_type": "slide"
    }
   },
   "source": [
    "## Título de la clase: Lógica Matemática: Lógica proposicional.   \n",
    "\n",
    "[Obtenga el libro guía aquí](chrome-extension://efaidnbmnnnibpcajpcglclefindmkaj/https://bibliotecadigital.udea.edu.co/bitstream/10495/3010/5/GrajalesLina_2015_MatemticasCienciasEconmicas.pdf)"
   ]
  },
  {
   "cell_type": "code",
   "execution_count": 9,
   "id": "28bae6cb",
   "metadata": {},
   "outputs": [],
   "source": [
    "\n",
    "ubicacion_base_graficos_logica = r\"C:/Users/marco/Documentos/docencia/fundamentos_logica/referentes/1_grajales_lina/\"\n",
    "def save_fig(nombre_archivo_imagen):\n",
    "    ubicacion_para_imagenes = r\"C:/Users/marco/Documentos/docencia/fundamentos_logica/referentes/1_grajales_lina/1_logica_matematica_y_teoria_de_conjuntos/1_logica_matematica/1_los_elementos_de_la_logica/1_elementos_logica_propo/images\"\n",
    "    imagen_path = os.path.join(ubicacion_para_imagenes, nombre_archivo_imagen)\n",
    "    plt.savefig(imagen_path, bbox_inches='tight')"
   ]
  },
  {
   "cell_type": "markdown",
   "id": "e3ffa494",
   "metadata": {},
   "source": [
    "# Vocabulary   \n",
    "\n",
    "1. left: izquierda\n",
    "2. right: derecha\n",
    "3. arrow: flecha \n",
    "4. or: o \n",
    "5. and: y \n",
    "6.  "
   ]
  },
  {
   "cell_type": "markdown",
   "id": "10e55ccf",
   "metadata": {},
   "source": [
    "# Estructura general para todas las clases\n",
    "\n",
    "Dame, por favor, un diseño de clase, con el enfoque: \"STEAMS y de aprendizaje basado en problemas y proyectos(ABPP)sobre: \"Lógica matemática: Los elementos de la lógica\", siguiendo la estructura:   \n",
    "\n",
    "1. Título de la clase \n",
    "2. Objetivos de aprendizaje con los indicadores de logro de estos objetivos\n",
    "3. Mapa conceptual elaborado con graphviz de python y de nodos y edges de doversas formas, colores y relleno y renderizado en la unicación: `\"C:\\Users\\marco\\Documentos\\docencia\\fundamentos_logica\\referentes\\1_grajales_lina\\1_logica_matematica_y_teoria_de_conjuntos\\1_logica_matematica\\1_los_elementos_de_la_logica\\1_elementos_logica_propo\\images\"`\n",
    "4. Contenido de la clase\n",
    "5. Elementos históricos y epistemológicos. \n",
    "6. Actividades de aprendizaje\n",
    "7. Dame una canción o poema que ilustre el tema de la clase.\n",
    "8. Tarea o actividades de ejercitación y fijación\n",
    "9. Diseño de actividad de retroalimentación. \n",
    "10. Dame las palabras y frases en inglés asociadas a esta clase.   \n",
    "\n",
    "Pero  que este diseño sea para que el estudiante pueda aprender experimentando en cuadernos Jupyter con funciones de usuario y animaciones y visualizaciones en python. En particular usa numpy, pandas, sympy, matplotlib.pyplot, seaborn, plotly, ipywidgets y matplotlib.animation."
   ]
  },
  {
   "cell_type": "markdown",
   "id": "0c4885c9",
   "metadata": {},
   "source": [
    "# Estructura de la clase  \n",
    "\n"
   ]
  },
  {
   "cell_type": "markdown",
   "id": "93b16217",
   "metadata": {},
   "source": [
    "**1. Título de la clase**  \n",
    "Lógica Matemática: Los elementos de la lógica\n"
   ]
  },
  {
   "cell_type": "markdown",
   "id": "b5dccee0",
   "metadata": {},
   "source": [
    "\n",
    "**2. Objetivos de aprendizaje con indicadores de logro**  \n"
   ]
  },
  {
   "cell_type": "markdown",
   "id": "4ba8ae28",
   "metadata": {},
   "source": [
    "- **Comprender los elementos fundamentales de la lógica proposicional** mediante la exploración y visualización interactiva en Python.  \n",
    "  - Indicador de logro: Identifica y clasifica correctamente proposiciones lógicas simples y compuestas.  \n",
    "- **Aplicar herramientas computacionales para la representación y validación de proposiciones lógicas**.  \n",
    "  - Indicador de logro: Implementa funciones en Python para evaluar la veracidad de proposiciones lógicas.  \n",
    "- **Utilizar Jupyter Notebooks y visualizaciones para analizar estructuras lógicas**.  \n",
    "  - Indicador de logro: Desarrolla notebooks interactivos que permiten experimentar con expresiones lógicas y sus tablas de verdad.  \n"
   ]
  },
  {
   "cell_type": "markdown",
   "id": "c5813b6e",
   "metadata": {},
   "source": [
    "\n",
    "**3. Mapa conceptual**  \n",
    "El siguiente código genera un mapa conceptual con Graphviz, con nodos y aristas de diversas formas, colores y rellenos, y lo renderiza en la ubicación especificada:\n"
   ]
  },
  {
   "cell_type": "code",
   "execution_count": 1,
   "id": "a3aee547",
   "metadata": {},
   "outputs": [
    {
     "data": {
      "text/plain": [
       "'C:\\\\Users\\\\marco\\\\Documentos\\\\docencia\\\\fundamentos_logica\\\\referentes\\\\1_grajales_lina\\\\1_logica_matematica_y_teoria_de_conjuntos\\\\1_logica_matematica\\\\1_los_elementos_de_la_logica\\\\1_elementos_logica_propo\\\\images\\\\mapa_conceptual.png'"
      ]
     },
     "execution_count": 1,
     "metadata": {},
     "output_type": "execute_result"
    }
   ],
   "source": [
    "\n",
    "from graphviz import Digraph\n",
    "\n",
    "# Crear un nuevo grafo dirigido\n",
    "dot = Digraph(format='png')\n",
    "\n",
    "dot.attr(bgcolor='lightgray')\n",
    "\n",
    "# Nodos con diferentes formas y colores\n",
    "dot.node('A', 'Lógica Matemática', shape='box', style='filled', fillcolor='lightblue')\n",
    "dot.node('B', 'Proposiciones', shape='ellipse', style='filled', fillcolor='yellow')\n",
    "dot.node('C', 'Conectores Lógicos', shape='diamond', style='filled', fillcolor='orange')\n",
    "dot.node('D', 'Tablas de Verdad', shape='hexagon', style='filled', fillcolor='lightgreen')\n",
    "dot.node('E', 'Leyes de la Lógica', shape='parallelogram', style='filled', fillcolor='pink')\n",
    "dot.node('F', 'Representación Computacional', shape='octagon', style='filled', fillcolor='cyan')\n",
    "\n",
    "dot.edges(['AB', 'AC', 'AD', 'AE', 'AF'])\n",
    "\n",
    "dot.render(directory=\"C:\\\\Users\\\\marco\\\\Documentos\\\\docencia\\\\fundamentos_logica\\\\referentes\\\\1_grajales_lina\\\\1_logica_matematica_y_teoria_de_conjuntos\\\\1_logica_matematica\\\\1_los_elementos_de_la_logica\\\\1_elementos_logica_propo\\\\images\", filename='mapa_conceptual', cleanup=True)\n",
    "dot.view()\n",
    "\n"
   ]
  },
  {
   "cell_type": "markdown",
   "id": "47540867",
   "metadata": {},
   "source": [
    "\n",
    "**4. Contenido de la clase**  \n"
   ]
  },
  {
   "cell_type": "markdown",
   "id": "5ef11dc4",
   "metadata": {},
   "source": [
    "- Definición de proposición lógica.  \n",
    "- Conectores lógicos fundamentales (negación, conjunción, disyunción (inclusiva y exclusiva), condicional y bicondicional).  \n",
    "- Construcción de tablas de verdad con cuaderno manuscrito, excel, Python.  \n",
    "- Leyes de la lógica y su validación computacional.  \n",
    "- Introducción a la evaluación de expresiones lógicas con Calculadora (Sirve una \"suma huevos\") Casio, NumPy, sympy, GeoGrebra, WolframeAlpha y pandas.  \n",
    "- Visualización de relaciones lógicas con matplotlib, seaborn y plotly (Visuales).  (Raymond Duval, Milciades)\n"
   ]
  },
  {
   "cell_type": "markdown",
   "id": "43f3a89b",
   "metadata": {},
   "source": [
    "# Elementos históricos y epistemológicos para la clase sobre elementos básicos de la lógica proposicional  \n",
    "\n",
    "**Elementos Históricos y Epistemológicos de la Lógica Proposicional**\n",
    "\n",
    "La lógica proposicional tiene sus raíces en la antigüedad y ha evolucionado a lo largo de los siglos hasta convertirse en una disciplina formal y rigurosa dentro de la matemática y la filosofía.\n"
   ]
  },
  {
   "cell_type": "markdown",
   "id": "e28b6b98",
   "metadata": {},
   "source": [
    "\n",
    "### **1. Elementos Históricos**\n",
    "\n",
    "1. **Lógica Aristotélica (Siglo IV a.C.)**  \n",
    "   Aristóteles estableció los primeros sistemas formales de lógica en su obra *Organon*, en particular en los *Analíticos Primeros y Segundos*. Sin embargo, su sistema se centraba en la lógica de los términos y silogismos, no en la lógica proposicional tal como la conocemos hoy.\n",
    "\n",
    "2. **Estoicos y la noción de Proposiciones (Siglo III a.C.)**  \n",
    "   Filósofos estoicos como Crisipo de Solos desarrollaron una forma primitiva de lógica proposicional al centrarse en proposiciones y sus conexiones a través de operadores lógicos como la conjunción y la disyunción.\n",
    "\n",
    "3. **Desarrollo Medieval (Siglos IX-XIV)**  \n",
    "   Lógicos medievales como Pedro Abelardo y Guillermo de Ockham extendieron la lógica aristotélica con un enfoque en la lógica modal y la lógica de las proposiciones.\n",
    "\n",
    "4. **Gottfried Leibniz (Siglo XVII)**  \n",
    "   Leibniz propuso la idea de una *lingua characteristica*, un lenguaje formal para expresar ideas matemáticas y lógicas de manera precisa, sentando bases para la lógica formal moderna.\n",
    "\n",
    "5. **Lógica Simbólica y Formalización (Siglo XIX)**  \n",
    "   En el siglo XIX, George Boole desarrolló la *lógica algebraica* o *lógica booleana*, que formaliza la lógica proposicional mediante operaciones algebraicas. Augustus De Morgan estableció leyes fundamentales de la lógica.\n",
    "\n",
    "6. **Lógica Matemática y Formalización en el Siglo XX**  \n",
    "   Bertrand Russell y Alfred North Whitehead desarrollaron la *Principia Mathematica* (1910-1913), sistematizando la lógica matemática. Por otro lado, Emil Post y Jan Łukasiewicz refinaron la lógica proposicional y sus sistemas de notación.\n"
   ]
  },
  {
   "cell_type": "markdown",
   "id": "4dcad2fb",
   "metadata": {},
   "source": [
    "\n",
    "### **2. Elementos Epistemológicos**\n",
    "\n",
    "1. **Naturaleza Formal de la Lógica Proposicional**  \n",
    "   La lógica proposicional es un sistema formal basado en reglas precisas que permiten evaluar la validez de argumentos sin depender del contenido semántico de las proposiciones.\n",
    "\n",
    "2. **Relación con la Filosofía del Lenguaje**  \n",
    "   La lógica proposicional está vinculada a la teoría del significado en la filosofía del lenguaje. Frege y Russell enfatizaron la importancia de la estructura lógica en el significado de las proposiciones.\n",
    "\n",
    "3. **Lógica y Conocimiento Científico**  \n",
    "   La lógica proposicional se usa en la construcción y verificación de teorías científicas, proporcionando un método para evaluar la coherencia y validez de argumentos y demostraciones matemáticas.\n",
    "\n",
    "4. **Impacto en la Computación y la Inteligencia Artificial**  \n",
    "   La lógica proposicional es la base de la computación moderna. Claude Shannon demostró en 1937 que los circuitos eléctricos podían representarse con lógica booleana, sentando las bases de la electrónica digital y la programación. Además, la lógica formal es fundamental en inteligencia artificial y sistemas de inferencia automática.\n"
   ]
  },
  {
   "cell_type": "markdown",
   "id": "166d87c2",
   "metadata": {},
   "source": [
    "\n",
    "Con estos elementos históricos y epistemológicos, los estudiantes podrán comprender cómo la lógica proposicional ha evolucionado y cómo su formalización impacta diversas áreas del conocimiento y la tecnología.\n",
    "\n"
   ]
  },
  {
   "cell_type": "markdown",
   "id": "51cc4de8",
   "metadata": {},
   "source": [
    "\n",
    "**5. Actividades de aprendizaje**  \n",
    "- Implementación de funciones en cuadernos maniscritos, calculadora casio, excel, \"Tablita con bombillas\", Python para evaluar expresiones lógicas.  \n",
    "- Creación de tablas de verdad interactivas usando pandas.  \n",
    "- Uso de ipywidgets para modificar proposiciones y ver su impacto en tiempo real.  (Aprendizaje activo porque es una herramienta interactiva)\n",
    "- Generación de diagramas de relaciones lógicas con matplotlib y plotly.  \n"
   ]
  },
  {
   "cell_type": "markdown",
   "id": "d8481490",
   "metadata": {},
   "source": [
    "\n",
    "**6. Tarea o actividades de ejercitación y fijación**  \n",
    "- Diseñar una función en Python que reciba una proposición lógica y devuelva su tabla de verdad.  \n",
    "- Programar un visualizador interactivo de expresiones lógicas usando ipywidgets.  \n",
    "- Realizar un experimento en Python que demuestre una ley de la lógica.  \n"
   ]
  },
  {
   "cell_type": "markdown",
   "id": "b73dc19a",
   "metadata": {},
   "source": [
    "\n",
    "**7. Evaluación**  \n",
    "- **10 Proyectos:**  \n",
    "  1. Creación de tablas de verdad con pandas y matplotlib. (Cuaderno manuscrito, excel, y otros ) \n",
    "  2. Implementación de operadores lógicos en Python.  \n",
    "  3. Análisis de tautologías y contradicciones con funciones de usuario.  \n",
    "  4. Desarrollo de un simulador de circuitos lógicos.  \n",
    "  5. Visualización de la implicación lógica con matplotlib. (GeoGebra, u otros) \n",
    "  6. Implementación de reglas de inferencia básicas con Python.  (Casio La991)\n",
    "  7. Creación de un quiz interactivo sobre tablas de verdad con ipywidgets.  \n",
    "  8. Simulación de sistemas lógicos en la vida cotidiana con Python.  \n",
    "  9. Programación de una calculadora de lógica proposicional.  \n",
    "  10. Exploración de la relación entre la lógica y la inteligencia artificial.  \n",
    "\n",
    "- **Quiz:** Evaluación sobre la construcción de tablas de verdad y conectores lógicos.  \n",
    "- **Parcial:** Desarrollo de una aplicación en Jupyter Notebook que implemente visualizaciones y cálculos lógicos interactivos.  \n"
   ]
  },
  {
   "cell_type": "markdown",
   "id": "8b9b4ce8",
   "metadata": {},
   "source": [
    "\n",
    "**8. Diseño de actividad de retroalimentación**  \n",
    "- **Taller colaborativo:** Los estudiantes revisan y comentan los proyectos de sus compañeros.  \n",
    "- **Revisión guiada en clase:** Discusión sobre las mejores prácticas en la implementación de lógica en Python.  \n",
    "- **Foro de discusión en el aula virtual:** Espacio para compartir dudas y mejoras en los proyectos.  (Utilicemos el grupo de whatsapp)\n",
    "- **Retroalimentación personalizada:** Comentarios del docente sobre el código, visualizaciones y metodología aplicada.  \n",
    "\n"
   ]
  },
  {
   "cell_type": "markdown",
   "id": "6b1ab443",
   "metadata": {},
   "source": [
    "# Implementación de esta estructura de clase  \n"
   ]
  },
  {
   "cell_type": "markdown",
   "id": "85851bb5",
   "metadata": {},
   "source": [
    "\n",
    "**1. Título de la clase**  \n",
    "Lógica Matemática: Los elementos de la lógica\n"
   ]
  },
  {
   "cell_type": "markdown",
   "id": "bbdf6ed4",
   "metadata": {},
   "source": [
    "\n",
    "**2. Objetivos de aprendizaje con indicadores de logro** "
   ]
  },
  {
   "cell_type": "markdown",
   "id": "771d06d1",
   "metadata": {},
   "source": [
    " \n",
    "- **Comprender los elementos fundamentales de la lógica proposicional** mediante la exploración y visualización interactiva en Python.  \n",
    "  - Indicador de logro: Identifica y clasifica correctamente proposiciones lógicas simples y compuestas.  \n",
    "- **Aplicar herramientas computacionales para la representación y validación de proposiciones lógicas**.  \n",
    "  - Indicador de logro: Implementa funciones en Python para evaluar la veracidad de proposiciones lógicas.  \n",
    "- **Utilizar Jupyter Notebooks y visualizaciones para analizar estructuras lógicas**.  \n",
    "  - Indicador de logro: Desarrolla notebooks interactivos que permiten experimentar con expresiones lógicas y sus tablas de verdad.  \n"
   ]
  },
  {
   "cell_type": "markdown",
   "id": "a2ff4627",
   "metadata": {},
   "source": [
    "\n",
    "**3. Mapa conceptual**  \n",
    "El siguiente código genera un mapa conceptual con Graphviz, con nodos y aristas de diversas formas, colores y rellenos, y lo renderiza en la ubicación especificada:\n"
   ]
  },
  {
   "cell_type": "code",
   "execution_count": null,
   "id": "1046578a",
   "metadata": {},
   "outputs": [],
   "source": [
    "from graphviz import Digraph\n",
    "\n",
    "# Crear un nuevo grafo dirigido\n",
    "dot = Digraph(format='png')\n",
    "\n",
    "dot.attr(bgcolor='lightgray')\n",
    "\n",
    "# Nodos con diferentes formas y colores\n",
    "dot.node('A', 'Lógica Matemática', shape='box', style='filled', fillcolor='lightblue')\n",
    "dot.node('B', 'Proposiciones', shape='ellipse', style='filled', fillcolor='yellow')\n",
    "dot.node('C', 'Conectores Lógicos', shape='diamond', style='filled', fillcolor='orange')\n",
    "dot.node('D', 'Tablas de Verdad', shape='hexagon', style='filled', fillcolor='lightgreen')\n",
    "dot.node('E', 'Leyes de la Lógica', shape='parallelogram', style='filled', fillcolor='pink')\n",
    "dot.node('F', 'Representación Computacional', shape='octagon', style='filled', fillcolor='cyan')\n",
    "\n",
    "dot.edges(['AB', 'AC', 'AD', 'AE', 'AF'])\n",
    "\n",
    "dot.render(directory=\"C:\\\\Users\\\\marco\\\\Documentos\\\\docencia\\\\fundamentos_logica\\\\referentes\\\\1_grajales_lina\\\\1_logica_matematica_y_teoria_de_conjuntos\\\\1_logica_matematica\\\\1_los_elementos_de_la_logica\\\\1_elementos_logica_propo\\\\images\", filename='mapa_conceptual', cleanup=True)\n",
    "dot.view()\n",
    "\n"
   ]
  },
  {
   "cell_type": "markdown",
   "id": "323f4f9e",
   "metadata": {},
   "source": [
    "\n",
    "**4. Contenido de la clase**  \n",
    "- Definición de proposición lógica. "
   ]
  },
  {
   "cell_type": "markdown",
   "id": "dcac816c",
   "metadata": {},
   "source": [
    "Proposición es: afirmación, es una oración gramatica (Sujeto + Predicado) que expresa una idea o un hecho. Por ejemplo: \"El cielo es azul\".\n",
    "Un saludo no es proposición: 'Hola'. Porque no es una oración gramática (Sujeto + Predicado).\n",
    "Proposiciones simples o atómicas: son aquellas que no contienen ni conjunciones ni subordinadas. Por ejemplo: \"el cielo es azul\"  \n",
    "\n",
    "Proposiciones compuestas o moleculares: las que si tienen colectores lógicos. "
   ]
  },
  {
   "cell_type": "markdown",
   "id": "6d1ef516",
   "metadata": {},
   "source": [
    " \n",
    "- Conectores lógicos fundamentales (negación, conjunción, disyunción, condicional y bicondicional).  \n",
    "\n",
    "1. Negación $\\neg$ $\\sim$ \n",
    "2. Disyunción $\\lor$ $\\vee$ \n"
   ]
  },
  {
   "cell_type": "markdown",
   "id": "1352259e",
   "metadata": {},
   "source": [
    "Estos son los conectores básicos con los cuales se puede construir toda la lógica proposicional. "
   ]
  },
  {
   "cell_type": "markdown",
   "id": "c3d46225",
   "metadata": {},
   "source": [
    "3. Conjunción (\"y\") $\\land$   \n",
    "   La conjunción ($p \\land q$) puede escribirse en términos de los conectores fundamentales **negación** ($\\neg$) y **disyunción** ($\\lor$) utilizando la **ley de De Morgan**:\n",
    "\n",
    "   $$\n",
    "   p \\land q \\equiv \\neg (\\neg p \\lor \\neg q)\n",
    "   $$\n",
    "\n",
    "Esto significa que la conjunción de dos proposiciones es equivalente a la negación de la disyunción de sus negaciones.\n",
    "4. Inplicación: Este es el centro de nuestro estudio en lógica. (Si ..., entonces ...) $\\rightarrow$ $\\to$\n",
    "5. Bicondicional ($\\leftrightarrow$ $\\iff$)"
   ]
  },
  {
   "cell_type": "markdown",
   "id": "4af8f159",
   "metadata": {},
   "source": [
    "- Construcción de tablas de verdad con Python.  \n",
    "- Leyes de la lógica y su validación computacional.  \n",
    "- Introducción a la evaluación de expresiones lógicas con NumPy y pandas.  \n",
    "- Visualización de relaciones lógicas con matplotlib, seaborn y plotly.  \n"
   ]
  },
  {
   "cell_type": "markdown",
   "id": "ea5e0474",
   "metadata": {},
   "source": [
    "# **4. Contenido de la Clase (Desarrollo Detallado)**  \n",
    "*Integrando STEAMS, ABPP y herramientas Python interactivas*\n",
    "\n",
    "---\n"
   ]
  },
  {
   "cell_type": "markdown",
   "id": "5ba27f12",
   "metadata": {},
   "source": [
    "\n",
    "### **1. Sintaxis lógica: proposiciones y operadores**  \n"
   ]
  },
  {
   "cell_type": "markdown",
   "id": "cacfc9e8",
   "metadata": {},
   "source": [
    "**Enfoque pedagógico**: Experimentación con símbolos y operadores mediante código.  \n"
   ]
  },
  {
   "cell_type": "markdown",
   "id": "044dc6db",
   "metadata": {},
   "source": [
    "**Herramientas**: `sympy`, `ipywidgets`, `pandas`, `plotly`.\n"
   ]
  },
  {
   "cell_type": "code",
   "execution_count": 10,
   "id": "3001681e",
   "metadata": {},
   "outputs": [
    {
     "data": {
      "application/vnd.jupyter.widget-view+json": {
       "model_id": "58613bfeb9994c1abf988ddc1540cb10",
       "version_major": 2,
       "version_minor": 0
      },
      "text/plain": [
       "interactive(children=(Dropdown(description='operador', options=('Or', 'Not', 'And', 'Implies'), value='Or'), O…"
      ]
     },
     "metadata": {},
     "output_type": "display_data"
    }
   ],
   "source": [
    "\n",
    "from sympy import symbols, And, Or, Not, Implies, Equivalent\n",
    "from sympy.logic.boolalg import truth_table\n",
    "import ipywidgets as widgets\n",
    "from IPython.display import display\n",
    "\n",
    "# Definición interactiva de proposiciones\n",
    "p, q = symbols('p q')\n",
    "expresion = And(p, q)  # (p ∧ q)\n",
    "\n",
    "# Widget para explorar operadores\n",
    "@widgets.interact(operador=['Or', 'Not', 'And', 'Implies'])\n",
    "\n",
    "def explicar_operador(operador):\n",
    "    ejemplos = {\n",
    "        'Or': Or(p, q),\n",
    "        'Not': Not(p),\n",
    "        'And': And(p, q),\n",
    "        'Implies': Implies(p, q)\n",
    "    }\n",
    "    \n",
    "    print(f\"Tabla de verdad para {operador}:\")\n",
    "    \n",
    "    # Mostrar tabla de verdad\n",
    "    tabla = list(truth_table(ejemplos[operador], [p, q]))\n",
    "    \n",
    "    # Imprimir la tabla\n",
    "    for fila in tabla:\n",
    "        print(fila)\n"
   ]
  },
  {
   "cell_type": "markdown",
   "id": "4fa7fa37",
   "metadata": {},
   "source": [
    "\n",
    "**Actividad ABPP**:\n",
    "Objetivo: Que el estudiante pueda hacer conversiónes entre las representaciones verbales y simbólicas de una proposición compuesta.   \n",
    "- Los estudiantes crean un \"traductor\" de frases naturales a expresiones lógicas usando diccionarios de Python.  \n",
    "- Ejemplo: `{\"Si llueve, no voy\": Implies(symbols('llueve'), Not(symbols('voy'))}`.\n",
    "\n",
    "---\n"
   ]
  },
  {
   "cell_type": "markdown",
   "id": "d15c733d",
   "metadata": {},
   "source": [
    "\n",
    "## **2. Algoritmo para generación de tablas de verdad**  \n"
   ]
  },
  {
   "cell_type": "markdown",
   "id": "5fb44274",
   "metadata": {},
   "source": [
    "**Enfoque pedagógico**: Construcción colaborativa de algoritmos con visualización paso a paso.  \n",
    "**Herramientas**: `numpy`, `pandas`, `itertools`.\n"
   ]
  },
  {
   "cell_type": "code",
   "execution_count": 18,
   "id": "ad7bdc44",
   "metadata": {},
   "outputs": [
    {
     "data": {
      "application/vnd.microsoft.datawrangler.viewer.v0+json": {
       "columns": [
        {
         "name": "index",
         "rawType": "int64",
         "type": "integer"
        },
        {
         "name": "p",
         "rawType": "int64",
         "type": "integer"
        },
        {
         "name": "q",
         "rawType": "int64",
         "type": "integer"
        },
        {
         "name": "Resultado",
         "rawType": "int64",
         "type": "integer"
        }
       ],
       "conversionMethod": "pd.DataFrame",
       "ref": "7b4846c6-91ed-4743-97fd-884481b6d076",
       "rows": [
        [
         "0",
         "0",
         "0",
         "0"
        ],
        [
         "1",
         "0",
         "1",
         "1"
        ],
        [
         "2",
         "1",
         "0",
         "1"
        ],
        [
         "3",
         "1",
         "1",
         "1"
        ]
       ],
       "shape": {
        "columns": 3,
        "rows": 4
       }
      },
      "text/html": [
       "<div>\n",
       "<style scoped>\n",
       "    .dataframe tbody tr th:only-of-type {\n",
       "        vertical-align: middle;\n",
       "    }\n",
       "\n",
       "    .dataframe tbody tr th {\n",
       "        vertical-align: top;\n",
       "    }\n",
       "\n",
       "    .dataframe thead th {\n",
       "        text-align: right;\n",
       "    }\n",
       "</style>\n",
       "<table border=\"1\" class=\"dataframe\">\n",
       "  <thead>\n",
       "    <tr style=\"text-align: right;\">\n",
       "      <th></th>\n",
       "      <th>p</th>\n",
       "      <th>q</th>\n",
       "      <th>Resultado</th>\n",
       "    </tr>\n",
       "  </thead>\n",
       "  <tbody>\n",
       "    <tr>\n",
       "      <th>0</th>\n",
       "      <td>0</td>\n",
       "      <td>0</td>\n",
       "      <td>0</td>\n",
       "    </tr>\n",
       "    <tr>\n",
       "      <th>1</th>\n",
       "      <td>0</td>\n",
       "      <td>1</td>\n",
       "      <td>1</td>\n",
       "    </tr>\n",
       "    <tr>\n",
       "      <th>2</th>\n",
       "      <td>1</td>\n",
       "      <td>0</td>\n",
       "      <td>1</td>\n",
       "    </tr>\n",
       "    <tr>\n",
       "      <th>3</th>\n",
       "      <td>1</td>\n",
       "      <td>1</td>\n",
       "      <td>1</td>\n",
       "    </tr>\n",
       "  </tbody>\n",
       "</table>\n",
       "</div>"
      ],
      "text/plain": [
       "   p  q  Resultado\n",
       "0  0  0          0\n",
       "1  0  1          1\n",
       "2  1  0          1\n",
       "3  1  1          1"
      ]
     },
     "execution_count": 18,
     "metadata": {},
     "output_type": "execute_result"
    }
   ],
   "source": [
    "\n",
    "import numpy as np\n",
    "import pandas as pd\n",
    "from itertools import product\n",
    "import sympy as sp\n",
    "\n",
    "def generar_tabla(funcion_logica):\n",
    "    \"\"\"\n",
    "    Genera la tabla de verdad de una función lógica dada.\n",
    "\n",
    "    Parámetros:\n",
    "    -----------\n",
    "    funcion_logica : str o sympy.Expr\n",
    "        Expresión lógica en formato de `sympy`, o una cadena con la expresión lógica.\n",
    "\n",
    "    Retorna:\n",
    "    --------\n",
    "    pd.DataFrame\n",
    "        Un DataFrame de pandas con todas las combinaciones de valores de verdad \n",
    "        y el resultado de la función lógica.\n",
    "    \n",
    "    Ejemplo de uso:\n",
    "    ---------------\n",
    "    >>> generar_tabla('p | q')\n",
    "       p      q  Resultado\n",
    "    0  0  False          0\n",
    "    1  0   True          1\n",
    "    2  1  False          1\n",
    "    3  1   True          1\n",
    "    \"\"\"\n",
    "    \n",
    "    # Convertir a expresión sympy si es una cadena\n",
    "    if isinstance(funcion_logica, str):\n",
    "        funcion_logica = sp.sympify(funcion_logica)\n",
    "\n",
    "    # Obtener variables en la expresión\n",
    "    variables = sorted(funcion_logica.free_symbols, key=lambda x: str(x))\n",
    "    n = len(variables)\n",
    "\n",
    "    # Generar todas las combinaciones posibles de valores de verdad\n",
    "    combinaciones = np.array(list(product([False, True], repeat=n)))\n",
    "\n",
    "    # Evaluar la función lógica para cada combinación\n",
    "    resultados = [int(bool(funcion_logica.subs(dict(zip(variables, fila))))) for fila in combinaciones]\n",
    "\n",
    "    # Construir el DataFrame con nombres de variables y resultados\n",
    "    return pd.DataFrame(\n",
    "        np.hstack([combinaciones, np.array(resultados).reshape(-1, 1)]),\n",
    "        columns=[str(var) for var in variables] + ['Resultado']\n",
    "    )\n",
    "\n",
    "# Ejemplo de uso\n",
    "generar_tabla('p | q')\n"
   ]
  },
  {
   "cell_type": "markdown",
   "id": "103c9a07",
   "metadata": {},
   "source": [
    "\n",
    "# **Visualización interactiva con widgets**:  \n"
   ]
  },
  {
   "cell_type": "code",
   "execution_count": 22,
   "id": "6030d3d9",
   "metadata": {},
   "outputs": [
    {
     "data": {
      "application/vnd.jupyter.widget-view+json": {
       "model_id": "b8799194201140d49f69fedb3090ab7f",
       "version_major": 2,
       "version_minor": 0
      },
      "text/plain": [
       "interactive(children=(Text(value='(p & q) | ~r', description='expresion'), Output()), _dom_classes=('widget-in…"
      ]
     },
     "metadata": {},
     "output_type": "display_data"
    }
   ],
   "source": [
    "import sympy as sp\n",
    "import ipywidgets as widgets\n",
    "import pandas as pd\n",
    "import matplotlib.pyplot as plt\n",
    "\n",
    "# Definir variables booleanas\n",
    "p, q, r = sp.symbols('p q r')\n",
    "\n",
    "# Función para generar la tabla de verdad\n",
    "def generar_tabla(expresion):\n",
    "    \"\"\"\n",
    "    Genera la tabla de verdad de una expresión lógica dada.\n",
    "\n",
    "    Parámetros:\n",
    "    -----------\n",
    "    expresion : sympy.Expr\n",
    "        Expresión lógica en formato sympy.\n",
    "\n",
    "    Retorna:\n",
    "    --------\n",
    "    pd.DataFrame\n",
    "        DataFrame con la tabla de verdad, donde las variables y el resultado son columnas.\n",
    "    \"\"\"\n",
    "    variables = sorted(expresion.free_symbols, key=lambda x: str(x))  # Ordenar variables\n",
    "    tabla = []\n",
    "\n",
    "    for fila in sp.logic.boolalg.truth_table(expresion, variables):\n",
    "        valores, resultado = fila  # Desempaquetar\n",
    "        tabla.append(list(valores) + [int(bool(resultado))])  # Convertir resultado a 1/0\n",
    "\n",
    "    columnas = [str(var) for var in variables] + [expresion]\n",
    "    return pd.DataFrame(tabla, columns=columnas)\n",
    "\n",
    "# Función para guardar la tabla como imagen\n",
    "def guardar_tabla_como_png(df, filename=\"tabla_verdad.png\"):\n",
    "    \"\"\"\n",
    "    Guarda la tabla de verdad en un archivo .png.\n",
    "\n",
    "    Parámetros:\n",
    "    -----------\n",
    "    df : pd.DataFrame\n",
    "        DataFrame que contiene la tabla de verdad.\n",
    "\n",
    "    filename : str, opcional\n",
    "        Nombre del archivo donde se guardará la imagen (por defecto 'tabla_verdad.png').\n",
    "    \"\"\"\n",
    "    fig, ax = plt.subplots(figsize=(5, 2 + len(df) * 0.5))  # Ajustar tamaño de la figura\n",
    "    ax.axis('tight')\n",
    "    ax.axis('off')\n",
    "\n",
    "    # Dibujar la tabla\n",
    "    table = ax.table(cellText=df.values,\n",
    "                     colLabels=df.columns,\n",
    "                     cellLoc='center',\n",
    "                     loc='center')\n",
    "\n",
    "    # Guardar la figura como PNG\n",
    "    plt.savefig(filename, bbox_inches='tight', dpi=300)\n",
    "    plt.close()\n",
    "\n",
    "# Widget interactivo\n",
    "@widgets.interact(expresion='(p & q) | ~r')  \n",
    "\n",
    "\n",
    "def actualizar_tabla(expresion):\n",
    "    \"\"\"\n",
    "    Función que actualiza la tabla de verdad según la expresión ingresada.\n",
    "    \"\"\"\n",
    "    expr = sp.sympify(expresion, locals={'p': p, 'q': q, 'r': r})  # Evaluar expresiones con variables definidas\n",
    "    df = generar_tabla(expr)\n",
    "\n",
    "    # Aplicar colores: verde si es 1 (Verdadero), rosa si es 0 (Falso)\n",
    "    styled_df = df.style.map(lambda x: 'background: #90EE90' if x == 1 else 'background: #FFB6C1')\n",
    "\n",
    "    # Mostrar tabla\n",
    "    display(styled_df)\n",
    "\n",
    "    # Guardar la imagen automáticamente\n",
    "    guardar_tabla_como_png(df)\n",
    "    print(f\"Tabla guardada como 'tabla_verdad.png'.\")\n",
    "\n",
    "\n"
   ]
  },
  {
   "cell_type": "markdown",
   "id": "3ced6f4c",
   "metadata": {},
   "source": [
    "\n",
    "---\n"
   ]
  },
  {
   "cell_type": "markdown",
   "id": "4fcc3153",
   "metadata": {},
   "source": [
    "\n",
    "## **3. Equivalencias lógicas fundamentales**  \n"
   ]
  },
  {
   "cell_type": "markdown",
   "id": "efbbd393",
   "metadata": {},
   "source": [
    "**Enfoque pedagógico**: Validación computacional de leyes mediante comparación de tablas.  \n"
   ]
  },
  {
   "cell_type": "markdown",
   "id": "e8172854",
   "metadata": {},
   "source": [
    "**Herramientas**: `sympy`, `plotly`, `numpy`.\n"
   ]
  },
  {
   "cell_type": "code",
   "execution_count": 17,
   "id": "fa5827c5",
   "metadata": {},
   "outputs": [
    {
     "name": "stdout",
     "output_type": "stream",
     "text": [
      "Depuración - Fila generada: ([0, 0], True)\n",
      "Depuración - Fila generada: ([0, 1], True)\n",
      "Depuración - Fila generada: ([1, 0], True)\n",
      "Depuración - Fila generada: ([1, 1], True)\n"
     ]
    },
    {
     "data": {
      "application/vnd.plotly.v1+json": {
       "config": {
        "plotlyServerURL": "https://plot.ly"
       },
       "data": [
        {
         "coloraxis": "coloraxis",
         "hovertemplate": "q: %{x}<br>p: %{y}<br>Equivalencia: %{z}<extra></extra>",
         "name": "0",
         "type": "heatmap",
         "x": {
          "bdata": "AAE=",
          "dtype": "i1"
         },
         "xaxis": "x",
         "y": {
          "bdata": "AAE=",
          "dtype": "i1"
         },
         "yaxis": "y",
         "z": {
          "bdata": "AQEBAQ==",
          "dtype": "i1",
          "shape": "2, 2"
         }
        }
       ],
       "layout": {
        "coloraxis": {
         "cmax": 1,
         "cmin": 0,
         "colorbar": {
          "title": {
           "text": "Equivalencia"
          }
         },
         "colorscale": [
          [
           0,
           "rgb(247,251,255)"
          ],
          [
           0.125,
           "rgb(222,235,247)"
          ],
          [
           0.25,
           "rgb(198,219,239)"
          ],
          [
           0.375,
           "rgb(158,202,225)"
          ],
          [
           0.5,
           "rgb(107,174,214)"
          ],
          [
           0.625,
           "rgb(66,146,198)"
          ],
          [
           0.75,
           "rgb(33,113,181)"
          ],
          [
           0.875,
           "rgb(8,81,156)"
          ],
          [
           1,
           "rgb(8,48,107)"
          ]
         ]
        },
        "template": {
         "data": {
          "bar": [
           {
            "error_x": {
             "color": "#2a3f5f"
            },
            "error_y": {
             "color": "#2a3f5f"
            },
            "marker": {
             "line": {
              "color": "#E5ECF6",
              "width": 0.5
             },
             "pattern": {
              "fillmode": "overlay",
              "size": 10,
              "solidity": 0.2
             }
            },
            "type": "bar"
           }
          ],
          "barpolar": [
           {
            "marker": {
             "line": {
              "color": "#E5ECF6",
              "width": 0.5
             },
             "pattern": {
              "fillmode": "overlay",
              "size": 10,
              "solidity": 0.2
             }
            },
            "type": "barpolar"
           }
          ],
          "carpet": [
           {
            "aaxis": {
             "endlinecolor": "#2a3f5f",
             "gridcolor": "white",
             "linecolor": "white",
             "minorgridcolor": "white",
             "startlinecolor": "#2a3f5f"
            },
            "baxis": {
             "endlinecolor": "#2a3f5f",
             "gridcolor": "white",
             "linecolor": "white",
             "minorgridcolor": "white",
             "startlinecolor": "#2a3f5f"
            },
            "type": "carpet"
           }
          ],
          "choropleth": [
           {
            "colorbar": {
             "outlinewidth": 0,
             "ticks": ""
            },
            "type": "choropleth"
           }
          ],
          "contour": [
           {
            "colorbar": {
             "outlinewidth": 0,
             "ticks": ""
            },
            "colorscale": [
             [
              0,
              "#0d0887"
             ],
             [
              0.1111111111111111,
              "#46039f"
             ],
             [
              0.2222222222222222,
              "#7201a8"
             ],
             [
              0.3333333333333333,
              "#9c179e"
             ],
             [
              0.4444444444444444,
              "#bd3786"
             ],
             [
              0.5555555555555556,
              "#d8576b"
             ],
             [
              0.6666666666666666,
              "#ed7953"
             ],
             [
              0.7777777777777778,
              "#fb9f3a"
             ],
             [
              0.8888888888888888,
              "#fdca26"
             ],
             [
              1,
              "#f0f921"
             ]
            ],
            "type": "contour"
           }
          ],
          "contourcarpet": [
           {
            "colorbar": {
             "outlinewidth": 0,
             "ticks": ""
            },
            "type": "contourcarpet"
           }
          ],
          "heatmap": [
           {
            "colorbar": {
             "outlinewidth": 0,
             "ticks": ""
            },
            "colorscale": [
             [
              0,
              "#0d0887"
             ],
             [
              0.1111111111111111,
              "#46039f"
             ],
             [
              0.2222222222222222,
              "#7201a8"
             ],
             [
              0.3333333333333333,
              "#9c179e"
             ],
             [
              0.4444444444444444,
              "#bd3786"
             ],
             [
              0.5555555555555556,
              "#d8576b"
             ],
             [
              0.6666666666666666,
              "#ed7953"
             ],
             [
              0.7777777777777778,
              "#fb9f3a"
             ],
             [
              0.8888888888888888,
              "#fdca26"
             ],
             [
              1,
              "#f0f921"
             ]
            ],
            "type": "heatmap"
           }
          ],
          "histogram": [
           {
            "marker": {
             "pattern": {
              "fillmode": "overlay",
              "size": 10,
              "solidity": 0.2
             }
            },
            "type": "histogram"
           }
          ],
          "histogram2d": [
           {
            "colorbar": {
             "outlinewidth": 0,
             "ticks": ""
            },
            "colorscale": [
             [
              0,
              "#0d0887"
             ],
             [
              0.1111111111111111,
              "#46039f"
             ],
             [
              0.2222222222222222,
              "#7201a8"
             ],
             [
              0.3333333333333333,
              "#9c179e"
             ],
             [
              0.4444444444444444,
              "#bd3786"
             ],
             [
              0.5555555555555556,
              "#d8576b"
             ],
             [
              0.6666666666666666,
              "#ed7953"
             ],
             [
              0.7777777777777778,
              "#fb9f3a"
             ],
             [
              0.8888888888888888,
              "#fdca26"
             ],
             [
              1,
              "#f0f921"
             ]
            ],
            "type": "histogram2d"
           }
          ],
          "histogram2dcontour": [
           {
            "colorbar": {
             "outlinewidth": 0,
             "ticks": ""
            },
            "colorscale": [
             [
              0,
              "#0d0887"
             ],
             [
              0.1111111111111111,
              "#46039f"
             ],
             [
              0.2222222222222222,
              "#7201a8"
             ],
             [
              0.3333333333333333,
              "#9c179e"
             ],
             [
              0.4444444444444444,
              "#bd3786"
             ],
             [
              0.5555555555555556,
              "#d8576b"
             ],
             [
              0.6666666666666666,
              "#ed7953"
             ],
             [
              0.7777777777777778,
              "#fb9f3a"
             ],
             [
              0.8888888888888888,
              "#fdca26"
             ],
             [
              1,
              "#f0f921"
             ]
            ],
            "type": "histogram2dcontour"
           }
          ],
          "mesh3d": [
           {
            "colorbar": {
             "outlinewidth": 0,
             "ticks": ""
            },
            "type": "mesh3d"
           }
          ],
          "parcoords": [
           {
            "line": {
             "colorbar": {
              "outlinewidth": 0,
              "ticks": ""
             }
            },
            "type": "parcoords"
           }
          ],
          "pie": [
           {
            "automargin": true,
            "type": "pie"
           }
          ],
          "scatter": [
           {
            "fillpattern": {
             "fillmode": "overlay",
             "size": 10,
             "solidity": 0.2
            },
            "type": "scatter"
           }
          ],
          "scatter3d": [
           {
            "line": {
             "colorbar": {
              "outlinewidth": 0,
              "ticks": ""
             }
            },
            "marker": {
             "colorbar": {
              "outlinewidth": 0,
              "ticks": ""
             }
            },
            "type": "scatter3d"
           }
          ],
          "scattercarpet": [
           {
            "marker": {
             "colorbar": {
              "outlinewidth": 0,
              "ticks": ""
             }
            },
            "type": "scattercarpet"
           }
          ],
          "scattergeo": [
           {
            "marker": {
             "colorbar": {
              "outlinewidth": 0,
              "ticks": ""
             }
            },
            "type": "scattergeo"
           }
          ],
          "scattergl": [
           {
            "marker": {
             "colorbar": {
              "outlinewidth": 0,
              "ticks": ""
             }
            },
            "type": "scattergl"
           }
          ],
          "scattermap": [
           {
            "marker": {
             "colorbar": {
              "outlinewidth": 0,
              "ticks": ""
             }
            },
            "type": "scattermap"
           }
          ],
          "scattermapbox": [
           {
            "marker": {
             "colorbar": {
              "outlinewidth": 0,
              "ticks": ""
             }
            },
            "type": "scattermapbox"
           }
          ],
          "scatterpolar": [
           {
            "marker": {
             "colorbar": {
              "outlinewidth": 0,
              "ticks": ""
             }
            },
            "type": "scatterpolar"
           }
          ],
          "scatterpolargl": [
           {
            "marker": {
             "colorbar": {
              "outlinewidth": 0,
              "ticks": ""
             }
            },
            "type": "scatterpolargl"
           }
          ],
          "scatterternary": [
           {
            "marker": {
             "colorbar": {
              "outlinewidth": 0,
              "ticks": ""
             }
            },
            "type": "scatterternary"
           }
          ],
          "surface": [
           {
            "colorbar": {
             "outlinewidth": 0,
             "ticks": ""
            },
            "colorscale": [
             [
              0,
              "#0d0887"
             ],
             [
              0.1111111111111111,
              "#46039f"
             ],
             [
              0.2222222222222222,
              "#7201a8"
             ],
             [
              0.3333333333333333,
              "#9c179e"
             ],
             [
              0.4444444444444444,
              "#bd3786"
             ],
             [
              0.5555555555555556,
              "#d8576b"
             ],
             [
              0.6666666666666666,
              "#ed7953"
             ],
             [
              0.7777777777777778,
              "#fb9f3a"
             ],
             [
              0.8888888888888888,
              "#fdca26"
             ],
             [
              1,
              "#f0f921"
             ]
            ],
            "type": "surface"
           }
          ],
          "table": [
           {
            "cells": {
             "fill": {
              "color": "#EBF0F8"
             },
             "line": {
              "color": "white"
             }
            },
            "header": {
             "fill": {
              "color": "#C8D4E3"
             },
             "line": {
              "color": "white"
             }
            },
            "type": "table"
           }
          ]
         },
         "layout": {
          "annotationdefaults": {
           "arrowcolor": "#2a3f5f",
           "arrowhead": 0,
           "arrowwidth": 1
          },
          "autotypenumbers": "strict",
          "coloraxis": {
           "colorbar": {
            "outlinewidth": 0,
            "ticks": ""
           }
          },
          "colorscale": {
           "diverging": [
            [
             0,
             "#8e0152"
            ],
            [
             0.1,
             "#c51b7d"
            ],
            [
             0.2,
             "#de77ae"
            ],
            [
             0.3,
             "#f1b6da"
            ],
            [
             0.4,
             "#fde0ef"
            ],
            [
             0.5,
             "#f7f7f7"
            ],
            [
             0.6,
             "#e6f5d0"
            ],
            [
             0.7,
             "#b8e186"
            ],
            [
             0.8,
             "#7fbc41"
            ],
            [
             0.9,
             "#4d9221"
            ],
            [
             1,
             "#276419"
            ]
           ],
           "sequential": [
            [
             0,
             "#0d0887"
            ],
            [
             0.1111111111111111,
             "#46039f"
            ],
            [
             0.2222222222222222,
             "#7201a8"
            ],
            [
             0.3333333333333333,
             "#9c179e"
            ],
            [
             0.4444444444444444,
             "#bd3786"
            ],
            [
             0.5555555555555556,
             "#d8576b"
            ],
            [
             0.6666666666666666,
             "#ed7953"
            ],
            [
             0.7777777777777778,
             "#fb9f3a"
            ],
            [
             0.8888888888888888,
             "#fdca26"
            ],
            [
             1,
             "#f0f921"
            ]
           ],
           "sequentialminus": [
            [
             0,
             "#0d0887"
            ],
            [
             0.1111111111111111,
             "#46039f"
            ],
            [
             0.2222222222222222,
             "#7201a8"
            ],
            [
             0.3333333333333333,
             "#9c179e"
            ],
            [
             0.4444444444444444,
             "#bd3786"
            ],
            [
             0.5555555555555556,
             "#d8576b"
            ],
            [
             0.6666666666666666,
             "#ed7953"
            ],
            [
             0.7777777777777778,
             "#fb9f3a"
            ],
            [
             0.8888888888888888,
             "#fdca26"
            ],
            [
             1,
             "#f0f921"
            ]
           ]
          },
          "colorway": [
           "#636efa",
           "#EF553B",
           "#00cc96",
           "#ab63fa",
           "#FFA15A",
           "#19d3f3",
           "#FF6692",
           "#B6E880",
           "#FF97FF",
           "#FECB52"
          ],
          "font": {
           "color": "#2a3f5f"
          },
          "geo": {
           "bgcolor": "white",
           "lakecolor": "white",
           "landcolor": "#E5ECF6",
           "showlakes": true,
           "showland": true,
           "subunitcolor": "white"
          },
          "hoverlabel": {
           "align": "left"
          },
          "hovermode": "closest",
          "mapbox": {
           "style": "light"
          },
          "paper_bgcolor": "white",
          "plot_bgcolor": "#E5ECF6",
          "polar": {
           "angularaxis": {
            "gridcolor": "white",
            "linecolor": "white",
            "ticks": ""
           },
           "bgcolor": "#E5ECF6",
           "radialaxis": {
            "gridcolor": "white",
            "linecolor": "white",
            "ticks": ""
           }
          },
          "scene": {
           "xaxis": {
            "backgroundcolor": "#E5ECF6",
            "gridcolor": "white",
            "gridwidth": 2,
            "linecolor": "white",
            "showbackground": true,
            "ticks": "",
            "zerolinecolor": "white"
           },
           "yaxis": {
            "backgroundcolor": "#E5ECF6",
            "gridcolor": "white",
            "gridwidth": 2,
            "linecolor": "white",
            "showbackground": true,
            "ticks": "",
            "zerolinecolor": "white"
           },
           "zaxis": {
            "backgroundcolor": "#E5ECF6",
            "gridcolor": "white",
            "gridwidth": 2,
            "linecolor": "white",
            "showbackground": true,
            "ticks": "",
            "zerolinecolor": "white"
           }
          },
          "shapedefaults": {
           "line": {
            "color": "#2a3f5f"
           }
          },
          "ternary": {
           "aaxis": {
            "gridcolor": "white",
            "linecolor": "white",
            "ticks": ""
           },
           "baxis": {
            "gridcolor": "white",
            "linecolor": "white",
            "ticks": ""
           },
           "bgcolor": "#E5ECF6",
           "caxis": {
            "gridcolor": "white",
            "linecolor": "white",
            "ticks": ""
           }
          },
          "title": {
           "x": 0.05
          },
          "xaxis": {
           "automargin": true,
           "gridcolor": "white",
           "linecolor": "white",
           "ticks": "",
           "title": {
            "standoff": 15
           },
           "zerolinecolor": "white",
           "zerolinewidth": 2
          },
          "yaxis": {
           "automargin": true,
           "gridcolor": "white",
           "linecolor": "white",
           "ticks": "",
           "title": {
            "standoff": 15
           },
           "zerolinecolor": "white",
           "zerolinewidth": 2
          }
         }
        },
        "title": {
         "text": "Equivalencia Lógica: Ley de De Morgan"
        },
        "xaxis": {
         "anchor": "y",
         "constrain": "domain",
         "domain": [
          0,
          1
         ],
         "scaleanchor": "y",
         "title": {
          "text": "q"
         }
        },
        "yaxis": {
         "anchor": "x",
         "autorange": "reversed",
         "constrain": "domain",
         "domain": [
          0,
          1
         ],
         "title": {
          "text": "p"
         }
        }
       }
      }
     },
     "metadata": {},
     "output_type": "display_data"
    }
   ],
   "source": [
    "from sympy import symbols, And, Or, Not, Equivalent\n",
    "from sympy.logic.boolalg import truth_table\n",
    "import plotly.express as px\n",
    "import pandas as pd\n",
    "\n",
    "# Definir variables\n",
    "p, q = symbols('p q')\n",
    "\n",
    "# Definir expresión lógica (Ley de De Morgan)\n",
    "ley_izq = Not(And(p, q))\n",
    "ley_der = Or(Not(p), Not(q))\n",
    "expresion_equivalencia = Equivalent(ley_izq, ley_der)\n",
    "\n",
    "\n",
    "\n",
    "# Función para generar la tabla de verdad con desempaquetado correcto\n",
    "def generar_tabla(expresion):\n",
    "    tabla = []\n",
    "\n",
    "    for fila in truth_table(expresion, [p, q]):\n",
    "        print(f\"Depuración - Fila generada: {fila}\")  # Ver qué devuelve SymPy\n",
    "        \n",
    "        # Extraer valores correctamente\n",
    "        valores, resultado = fila  # Desempaquetar la tupla (lista de variables y resultado)\n",
    "        p_valor, q_valor = valores  # Extraer valores individuales de la lista\n",
    "\n",
    "        resultado = int(bool(resultado))  # Convertir True/False a 1/0\n",
    "\n",
    "        tabla.append([p_valor, q_valor, resultado])  # Asegurar formato correcto\n",
    "\n",
    "    return pd.DataFrame(tabla, columns=['p', 'q', 'equivalencia'])\n",
    "\n",
    "# Generar la tabla de verdad\n",
    "equivalencia = generar_tabla(expresion_equivalencia)\n",
    "\n",
    "# Convertir valores booleanos a enteros\n",
    "equivalencia['p'] = equivalencia['p'].astype(int)\n",
    "equivalencia['q'] = equivalencia['q'].astype(int)\n",
    "\n",
    "# Reestructurar tabla para graficar\n",
    "equivalencia = equivalencia.pivot(index='p', columns='q', values='equivalencia')\n",
    "\n",
    "# Crear heatmap con Plotly\n",
    "fig = px.imshow(equivalencia,\n",
    "                title=\"Equivalencia Lógica: Ley de De Morgan\",\n",
    "                labels=dict(x=\"q\", y=\"p\", color=\"Equivalencia\"),\n",
    "                zmin=0, zmax=1, color_continuous_scale='Blues')\n",
    "\n",
    "# Mostrar la figura\n",
    "fig.show()\n",
    "\n",
    "\n",
    "\n",
    "\n",
    "\n"
   ]
  },
  {
   "cell_type": "markdown",
   "id": "96cdf46a",
   "metadata": {},
   "source": [
    "# ¡Genial! Vamos a desglosar la **intencionalidad del script** y su **funcionamiento línea a línea** para asegurarnos de que comprendes cada parte del código.  \n",
    "\n",
    "---\n",
    "\n",
    "# **📌 Intencionalidad del Script**\n",
    "Este script tiene como propósito:\n",
    "1. **Verificar la equivalencia lógica** de la **Ley de De Morgan** utilizando Python y `sympy`.  \n",
    "2. **Construir la tabla de verdad** de la equivalencia lógica \\( \\neg (p \\land q) \\equiv \\neg p \\lor \\neg q \\).  \n",
    "3. **Visualizar la tabla de verdad como un heatmap** con `plotly`, donde 1 representa verdadero y 0 representa falso.\n",
    "\n",
    "---\n",
    "\n",
    "# **🔍 Explicación Línea a Línea**\n",
    "---\n",
    "\n",
    "### **1️⃣ Importación de Librerías**\n",
    "```python\n",
    "from sympy import symbols, And, Or, Not, Equivalent\n",
    "from sympy.logic.boolalg import truth_table\n",
    "import plotly.express as px\n",
    "import pandas as pd\n",
    "```\n",
    "📌 **¿Qué hace?**  \n",
    "- Importa funciones de **SymPy** para manejar expresiones lógicas.\n",
    "- Importa `truth_table`, que genera automáticamente la tabla de verdad de una expresión lógica.\n",
    "- Importa **Pandas** para manipular datos tabulares.\n",
    "- Importa **Plotly Express** para visualizar la tabla de verdad como un heatmap.\n",
    "\n",
    "---\n",
    "\n",
    "### **2️⃣ Definir Variables Booleanas**\n",
    "```python\n",
    "p, q = symbols('p q')\n",
    "```\n",
    "📌 **¿Qué hace?**  \n",
    "- Declara `p` y `q` como **símbolos booleanos** en SymPy.\n",
    "\n",
    "---\n",
    "\n",
    "### **3️⃣ Definir la Expresión Lógica**\n",
    "```python\n",
    "ley_izq = Not(And(p, q))  # ¬(p ∧ q)\n",
    "ley_der = Or(Not(p), Not(q))  # ¬p ∨ ¬q\n",
    "expresion_equivalencia = Equivalent(ley_izq, ley_der)\n",
    "```\n",
    "📌 **¿Qué hace?**  \n",
    "- Define **ambos lados de la Ley de De Morgan**:\n",
    "  - `ley_izq = ¬(p ∧ q)`\n",
    "  - `ley_der = ¬p ∨ ¬q`\n",
    "- Usa `Equivalent(ley_izq, ley_der)` para verificar si estas dos expresiones son **lógicamente equivalentes**.\n",
    "\n",
    "---\n",
    "\n",
    "### **4️⃣ Función para Generar la Tabla de Verdad**\n",
    "```python\n",
    "def generar_tabla(expresion):\n",
    "    tabla = []\n",
    "\n",
    "    for fila in truth_table(expresion, [p, q]):\n",
    "        print(f\"Depuración - Fila generada: {fila}\")  # Ver qué devuelve SymPy\n",
    "        \n",
    "        # Extraer valores correctamente\n",
    "        valores, resultado = fila  # Desempaquetar la tupla (lista de variables y resultado)\n",
    "        p_valor, q_valor = valores  # Extraer valores individuales de la lista\n",
    "\n",
    "        resultado = int(bool(resultado))  # Convertir True/False a 1/0\n",
    "\n",
    "        tabla.append([p_valor, q_valor, resultado])  # Asegurar formato correcto\n",
    "\n",
    "    return pd.DataFrame(tabla, columns=['p', 'q', 'equivalencia'])\n",
    "```\n",
    "📌 **¿Qué hace?**  \n",
    "- **Genera la tabla de verdad** de la expresión dada.\n",
    "- Usa `truth_table(expresion, [p, q])` para generar todas las combinaciones posibles de `p` y `q` y calcular el valor de la expresión.\n",
    "- **Corrige el problema de desempaquetado**:\n",
    "  - `fila` tiene el formato `([p, q], resultado)`, donde:\n",
    "    - `[p, q]` es una **lista** con los valores de `p` y `q`.\n",
    "    - `resultado` es el valor booleano de la expresión.\n",
    "- Convierte `True/False` en `1/0` para facilitar la representación.\n",
    "- Devuelve un **DataFrame de Pandas** con tres columnas: `p`, `q`, y `equivalencia`.\n",
    "\n",
    "---\n",
    "\n",
    "### **5️⃣ Generar la Tabla de Verdad**\n",
    "```python\n",
    "equivalencia = generar_tabla(expresion_equivalencia)\n",
    "```\n",
    "📌 **¿Qué hace?**  \n",
    "- Llama a `generar_tabla(expresion_equivalencia)` y almacena el resultado en `equivalencia`.\n",
    "\n",
    "---\n",
    "\n",
    "### **6️⃣ Convertir Valores Booleanos a Enteros**\n",
    "```python\n",
    "equivalencia['p'] = equivalencia['p'].astype(int)\n",
    "equivalencia['q'] = equivalencia['q'].astype(int)\n",
    "```\n",
    "📌 **¿Qué hace?**  \n",
    "- Asegura que los valores de `p` y `q` sean enteros (`0` o `1`) en el DataFrame.\n",
    "\n",
    "---\n",
    "\n",
    "### **7️⃣ Reestructurar la Tabla para Graficar**\n",
    "```python\n",
    "equivalencia = equivalencia.pivot(index='p', columns='q', values='equivalencia')\n",
    "```\n",
    "📌 **¿Qué hace?**  \n",
    "- **Transforma la tabla de verdad** en una matriz adecuada para graficar.\n",
    "- Establece:\n",
    "  - `p` como índice (filas).\n",
    "  - `q` como columnas.\n",
    "  - `equivalencia` como valores.\n",
    "\n",
    "Ejemplo de salida:\n",
    "```\n",
    "q    0   1\n",
    "p        \n",
    "0    1   1\n",
    "1    1   1\n",
    "```\n",
    "---\n",
    "\n",
    "### **8️⃣ Crear Heatmap con Plotly**\n",
    "```python\n",
    "fig = px.imshow(equivalencia,\n",
    "                title=\"Equivalencia Lógica: Ley de De Morgan\",\n",
    "                labels=dict(x=\"q\", y=\"p\", color=\"Equivalencia\"),\n",
    "                zmin=0, zmax=1, color_continuous_scale='Blues')\n",
    "\n",
    "fig.show()\n",
    "```\n",
    "📌 **¿Qué hace?**  \n",
    "- **Crea una representación gráfica de la tabla de verdad** con un **heatmap**.\n",
    "- Configura:\n",
    "  - **Título**: \"Equivalencia Lógica: Ley de De Morgan\".\n",
    "  - **Etiquetas** en el gráfico (`x=\"q\"`, `y=\"p\"`, `color=\"Equivalencia\"`).\n",
    "  - **Rango de valores** (`0` a `1`).\n",
    "  - **Escala de colores** `Blues`, donde:\n",
    "    - Azul claro = `0` (Falso).\n",
    "    - Azul oscuro = `1` (Verdadero).\n",
    "\n",
    "---\n",
    "\n",
    "# **📊 Ejemplo de Salida Gráfica**\n",
    "El heatmap generado representará lo siguiente:\n",
    "\n",
    "| p | q | Equivalencia |\n",
    "|---|---|-------------|\n",
    "| 0 | 0 | 1 |\n",
    "| 0 | 1 | 1 |\n",
    "| 1 | 0 | 1 |\n",
    "| 1 | 1 | 1 |\n",
    "\n",
    "🔹 Como la equivalencia siempre es `1`, el heatmap mostrará un **cuadro azul oscuro** en todas las posiciones, confirmando que la Ley de De Morgan se cumple.\n",
    "\n",
    "---\n",
    "\n",
    "# **✅ Resumen**\n",
    "Este script:\n",
    "1. **Verifica la Ley de De Morgan** generando su tabla de verdad.\n",
    "2. **Corrige errores de desempaquetado** en `truth_table()`.\n",
    "3. **Convierte la tabla en una estructura lista para graficar**.\n",
    "4. **Genera un heatmap para visualizar la equivalencia**.\n",
    "\n",
    "¡Déjame saber si quieres hacer mejoras o agregar más funcionalidades! 🚀"
   ]
  },
  {
   "cell_type": "markdown",
   "id": "f1a0e656",
   "metadata": {},
   "source": [
    "[Video de apoyo a la lectura del contenido hasta aquí](https://www.youtube.com/watch?v=UlUtcwgdeac)"
   ]
  },
  {
   "cell_type": "markdown",
   "id": "e023ce83",
   "metadata": {},
   "source": [
    "\n",
    "**Proyecto STEAMS**:  \n",
    "- Diseñar un validador de equivalencias para circuitos digitales usando matrices booleanas en `numpy`.\n",
    "\n",
    "---\n"
   ]
  },
  {
   "cell_type": "markdown",
   "id": "71137597",
   "metadata": {},
   "source": [
    "\n",
    "### **4. Representación matricial de operaciones lógicas**  \n",
    "**Enfoque pedagógico**: Conexión entre álgebra lineal y lógica.  \n",
    "**Herramientas**: `numpy`, `seaborn`.\n",
    "\n",
    "```python\n",
    "import seaborn as sns\n",
    "import matplotlib.pyplot as plt\n",
    "\n",
    "# Matriz AND en lógica difusa\n",
    "matriz_and = np.array([[p & q for p in [0,1]] for q in [0,1]])\n",
    "\n",
    "# Visualización con seaborn\n",
    "plt.figure(figsize=(4,4))\n",
    "sns.heatmap(matriz_and, annot=True, cmap='viridis', xticklabels=[0,1], yticklabels=[0,1])\n",
    "plt.title(\"Matriz AND como Operador T-Norm\")\n",
    "plt.show()\n",
    "```\n"
   ]
  },
  {
   "cell_type": "markdown",
   "id": "9b7ec8f1",
   "metadata": {},
   "source": [
    "\n",
    "**Aplicación ABPP**:  \n",
    "- Implementar operaciones lógicas para procesamiento de imágenes binarias usando `numpy`.\n",
    "\n",
    "---\n",
    "\n",
    "### **5. Grafos de dependencias lógicas**  \n",
    "**Enfoque pedagógico**: Análisis de estructuras lógicas como redes complejas.  \n",
    "**Herramientas**: `networkx`, `plotly`, `graphviz`.\n"
   ]
  },
  {
   "cell_type": "markdown",
   "id": "ac8e3376",
   "metadata": {},
   "source": [
    "\n",
    "```python\n",
    "import networkx as nx\n",
    "from plotly.graph_objs import Figure\n",
    "\n",
    "# Construir grafo de dependencias\n",
    "G = nx.DiGraph()\n",
    "expresion = Equivalent(Implies(p, q), Or(Not(p), q))\n",
    "for nodo in expresion.free_symbols:\n",
    "    G.add_edge(nodo, expresion)\n",
    "\n",
    "# Visualización 3D interactiva\n",
    "pos = nx.spring_layout(G)\n",
    "edge_trace = nx.scatterplot3d(G, pos=pos, with_labels=True)\n",
    "fig = Figure(data=edge_trace)\n",
    "fig.update_layout(title='Grafo de Dependencias Lógicas')\n",
    "fig.show()\n",
    "```\n"
   ]
  },
  {
   "cell_type": "markdown",
   "id": "668f974b",
   "metadata": {},
   "source": [
    "\n",
    "**Actividad Integradora**:  \n",
    "- Los estudiantes crean un \"árbol lógico\" interactivo para expresiones ingresadas con `ipywidgets`, donde cada nodo muestra su tabla de verdad al hacer clic.\n",
    "\n",
    "---\n",
    "\n",
    "**Conexión STEAMS**:  \n",
    "- **Arte**: Diseño de visualizaciones estéticas con `plotly`.  \n",
    "- **Ingeniería**: Optimización de algoritmos para tablas de verdad con >10 variables usando `numpy`.  \n",
    "- **Ciencias Sociales**: Debate ético sobre límites de la lógica binaria en IA, usando argumentos estructurados con los operadores aprendidos."
   ]
  },
  {
   "cell_type": "markdown",
   "id": "967f7523",
   "metadata": {},
   "source": [
    "# **Elementos Históricos y Epistemológicos de la Lógica Proposicional**\n",
    "\n",
    "La lógica proposicional tiene sus raíces en la antigüedad y ha evolucionado a lo largo de los siglos hasta convertirse en una disciplina formal y rigurosa dentro de la matemática y la filosofía.\n"
   ]
  },
  {
   "cell_type": "markdown",
   "id": "c1a741e7",
   "metadata": {},
   "source": [
    "\n",
    "### **1. Elementos Históricos**\n"
   ]
  },
  {
   "cell_type": "markdown",
   "id": "f8d91753",
   "metadata": {},
   "source": [
    "\n",
    "1. **Lógica Aristotélica (Siglo IV a.C.)**  \n",
    "   Aristóteles estableció los primeros sistemas formales de lógica en su obra *Organon*, en particular en los *Analíticos Primeros y Segundos*. Sin embargo, su sistema se centraba en la lógica de los términos y silogismos, no en la lógica proposicional tal como la conocemos hoy.\n"
   ]
  },
  {
   "cell_type": "markdown",
   "id": "844e02f9",
   "metadata": {},
   "source": [
    "\n",
    "2. **Estoicos y la noción de Proposiciones (Siglo III a.C.)**  \n",
    "   Filósofos estoicos como Crisipo de Solos desarrollaron una forma primitiva de lógica proposicional al centrarse en proposiciones y sus conexiones a través de operadores lógicos como la conjunción y la disyunción.\n",
    "\n",
    "3. **Desarrollo Medieval (Siglos IX-XIV)**  \n",
    "   Lógicos medievales como Pedro Abelardo y Guillermo de Ockham extendieron la lógica aristotélica con un enfoque en la lógica modal y la lógica de las proposiciones.\n",
    "\n",
    "4. **Gottfried Leibniz (Siglo XVII)**  \n",
    "   Leibniz propuso la idea de una *lingua characteristica*, un lenguaje formal para expresar ideas matemáticas y lógicas de manera precisa, sentando bases para la lógica formal moderna.\n",
    "\n",
    "5. **Lógica Simbólica y Formalización (Siglo XIX)**  \n",
    "   En el siglo XIX, George Boole desarrolló la *lógica algebraica* o *lógica booleana*, que formaliza la lógica proposicional mediante operaciones algebraicas. Augustus De Morgan estableció leyes fundamentales de la lógica.\n",
    "\n",
    "6. **Lógica Matemática y Formalización en el Siglo XX**  \n",
    "   Bertrand Russell y Alfred North Whitehead desarrollaron la *Principia Mathematica* (1910-1913), sistematizando la lógica matemática. Por otro lado, Emil Post y Jan Łukasiewicz refinaron la lógica proposicional y sus sistemas de notación.\n"
   ]
  },
  {
   "cell_type": "markdown",
   "id": "bb640033",
   "metadata": {},
   "source": [
    "\n",
    "### **2. Elementos Epistemológicos**\n",
    "\n",
    "1. **Naturaleza Formal de la Lógica Proposicional**  \n",
    "   La lógica proposicional es un sistema formal basado en reglas precisas que permiten evaluar la validez de argumentos sin depender del contenido semántico de las proposiciones.\n",
    "\n",
    "2. **Relación con la Filosofía del Lenguaje**  \n",
    "   La lógica proposicional está vinculada a la teoría del significado en la filosofía del lenguaje. Frege y Russell enfatizaron la importancia de la estructura lógica en el significado de las proposiciones.\n",
    "\n",
    "3. **Lógica y Conocimiento Científico**  \n",
    "   La lógica proposicional se usa en la construcción y verificación de teorías científicas, proporcionando un método para evaluar la coherencia y validez de argumentos y demostraciones matemáticas.\n",
    "\n",
    "4. **Impacto en la Computación y la Inteligencia Artificial**  \n",
    "   La lógica proposicional es la base de la computación moderna. Claude Shannon demostró en 1937 que los circuitos eléctricos podían representarse con lógica booleana, sentando las bases de la electrónica digital y la programación. Además, la lógica formal es fundamental en inteligencia artificial y sistemas de inferencia automática.\n",
    "\n",
    "Con estos elementos históricos y epistemológicos, los estudiantes podrán comprender cómo la lógica proposicional ha evolucionado y cómo su formalización impacta diversas áreas del conocimiento y la tecnología.\n",
    "\n"
   ]
  },
  {
   "cell_type": "markdown",
   "id": "f3326af9",
   "metadata": {},
   "source": [
    "\n",
    "**5. Actividades de aprendizaje**  \n",
    "- Implementación de funciones en Python para evaluar expresiones lógicas.  \n",
    "- Creación de tablas de verdad interactivas usando pandas.  \n",
    "- Uso de ipywidgets para modificar proposiciones y ver su impacto en tiempo real.  \n",
    "- Generación de diagramas de relaciones lógicas con matplotlib y plotly.  \n"
   ]
  },
  {
   "cell_type": "markdown",
   "id": "eb78f0c6",
   "metadata": {},
   "source": [
    "\n",
    "**6. Tarea o actividades de ejercitación y fijación**  \n",
    "- Diseñar una función en Python que reciba una proposición lógica y devuelva su tabla de verdad.  \n",
    "- Programar un visualizador interactivo de expresiones lógicas usando ipywidgets.  \n",
    "- Realizar un experimento en Python que demuestre una ley de la lógica.  \n"
   ]
  },
  {
   "cell_type": "markdown",
   "id": "c447bc57",
   "metadata": {},
   "source": [
    "\n",
    "**7. Evaluación**  \n",
    "- **10 Proyectos:**  \n",
    "  1. Creación de tablas de verdad con pandas y matplotlib.  \n",
    "  2. Implementación de operadores lógicos en Python.  \n",
    "  3. Análisis de tautologías y contradicciones con funciones de usuario.  \n",
    "  4. Desarrollo de un simulador de circuitos lógicos.  \n",
    "  5. Visualización de la implicación lógica con matplotlib.  \n",
    "  6. Implementación de reglas de inferencia básicas con Python.  \n",
    "  7. Creación de un quiz interactivo sobre tablas de verdad con ipywidgets.  \n",
    "  8. Simulación de sistemas lógicos en la vida cotidiana con Python.  \n",
    "  9. Programación de una calculadora de lógica proposicional.  \n",
    "  10. Exploración de la relación entre la lógica y la inteligencia artificial.  \n",
    "\n",
    "- **Quiz:** Evaluación sobre la construcción de tablas de verdad y conectores lógicos.  \n",
    "- **Parcial:** Desarrollo de una aplicación en Jupyter Notebook que implemente visualizaciones y cálculos lógicos interactivos.  \n"
   ]
  },
  {
   "cell_type": "markdown",
   "id": "8e95fc55",
   "metadata": {},
   "source": [
    "\n",
    "**8. Diseño de actividad de retroalimentación**  \n",
    "- **Taller colaborativo:** Los estudiantes revisan y comentan los proyectos de sus compañeros.  \n",
    "- **Revisión guiada en clase:** Discusión sobre las mejores prácticas en la implementación de lógica en Python.  \n",
    "- **Foro de discusión en el aula virtual:** Espacio para compartir dudas y mejoras en los proyectos.  \n",
    "- **Retroalimentación personalizada:** Comentarios del docente sobre el código, visualizaciones y metodología aplicada.  \n",
    "\n"
   ]
  },
  {
   "cell_type": "markdown",
   "id": "9a6b2fa6",
   "metadata": {},
   "source": [
    "[Video de apoyo a la implementación de esta clase](https://www.youtube.com/watch?v=EdxM4EUrOCc)"
   ]
  },
  {
   "cell_type": "code",
   "execution_count": null,
   "id": "5c24d91a",
   "metadata": {},
   "outputs": [],
   "source": []
  },
  {
   "cell_type": "markdown",
   "id": "239427f7",
   "metadata": {},
   "source": [
    "# ARTÍCULO 1. Definir el calendario académico para los diferentes programas de pregrado de los campus\n",
    "regionalizados, correspondiente al primer periodo académico del año 2025, así:\n",
    "* Oferta 28 de enero de 2025\n",
    "* Matrícula 30 de enero de 2025\n",
    "* Ajustes 03 al 10 de febrero de 2025\n",
    "* Inicio de clases 10 de febrero de 2025\n",
    "* Límite evaluación del 40% 06 de abril de 2025\n",
    "* Terminación de clases 08 de junio de 2025\n",
    "* Exámenes finales 09 al 15 de junio de 2025\n",
    "* Habilitación y validación 16 al 22 de junio de 2025\n",
    "* Terminación oficial 23 de junio de 2025"
   ]
  },
  {
   "cell_type": "code",
   "execution_count": null,
   "id": "ec048afb",
   "metadata": {},
   "outputs": [],
   "source": []
  },
  {
   "cell_type": "code",
   "execution_count": null,
   "id": "c804f8d3",
   "metadata": {},
   "outputs": [],
   "source": []
  },
  {
   "cell_type": "code",
   "execution_count": null,
   "id": "cc539357",
   "metadata": {},
   "outputs": [],
   "source": []
  },
  {
   "cell_type": "markdown",
   "id": "740f3401",
   "metadata": {
    "slideshow": {
     "slide_type": "slide"
    }
   },
   "source": [
    "# Componente de manejo de calculadora Casio asociado al objetivo de aprendizaje de esta clase  \n",
    "\n",
    "## Pasos para lograr el objetivo de aprendizaje con la experimentación en la calculadora Casio 991LA cw  "
   ]
  },
  {
   "cell_type": "markdown",
   "id": "8ba64aed",
   "metadata": {},
   "source": [
    "# Cursos que orienta el profesor Marco Julio Cañas Campillo en 2025  \n",
    "\n",
    "1. Práctica Pedagógica V para Licenciatura en Educación Infantil\n",
    "2. Fundamentos de Lógica para Licenciatura en Matemáticas \n",
    "3. Análisis Numérico para Licenciatura en Matemáticas. \n",
    "4. Cálculo Vectorial para Ingeniería Agropecuaria"
   ]
  },
  {
   "cell_type": "markdown",
   "id": "8d41fe58",
   "metadata": {
    "slideshow": {
     "slide_type": "slide"
    }
   },
   "source": [
    "# Horario de clases del profesor Marco\n",
    "\n",
    "* Lunes 8-12: Cálculo Vectorial\n",
    "* Martes 8-12 M: Análisis numérico Licenciatura en matemáticas. \n",
    "* Miércoles 8 a 12 M: \n",
    "* Jueves 2 a 6 PM: Práctica V Desarrollo del pensamiento matemático en la infancia. \n",
    "* Viernes 8 - 12 M: Fundamentos de lógica (Presencial). \n",
    "* Sábados 8-12 Asesorías y espacio para retroalimentación y apoyo al trabajo independiente. 9-10 de la mañana es la de lógica. "
   ]
  },
  {
   "cell_type": "markdown",
   "id": "ae114e14",
   "metadata": {
    "slideshow": {
     "slide_type": "slide"
    }
   },
   "source": [
    "# Contacto con el coordinador de regiones. Horarios de monitoría y asesoría  \n",
    "\n",
    "Coordinador de los cursos de la Facultad de Educación para regiones:    \n",
    "\n",
    "Andrés Vélez: regioneducacion.fedu@udea.edu.co  \n",
    "Coordinador Regiones  \n",
    "Facultad de Educación  \n",
    "Universidad de Antioquia  \n",
    "\n",
    "La coordinadora del programa es Zaida Magoth Santa. "
   ]
  },
  {
   "cell_type": "markdown",
   "id": "b1db4b6c",
   "metadata": {
    "slideshow": {
     "slide_type": "slide"
    }
   },
   "source": [
    "## Monitor Manuel San Juan Serrano\n",
    "\n",
    "Contactar escribiendo al correo: manuel.serrano1@udea.edu.co  \n",
    "Contactar a Yeifry: yeifry.uribe@udea.edu.co"
   ]
  },
  {
   "cell_type": "markdown",
   "id": "39559692",
   "metadata": {
    "slideshow": {
     "slide_type": "slide"
    }
   },
   "source": [
    "Martes y jueves de 8 - 12  \n",
    "Miércoles 10 - 12 y de 2 a 4 PM  \n",
    "Sábado: 8 - 12"
   ]
  },
  {
   "cell_type": "markdown",
   "id": "10bce0d0",
   "metadata": {
    "slideshow": {
     "slide_type": "slide"
    }
   },
   "source": [
    "## Referentes "
   ]
  },
  {
   "cell_type": "markdown",
   "id": "1db3c468",
   "metadata": {
    "slideshow": {
     "slide_type": "slide"
    }
   },
   "source": [
    "* [CALCULO I DE UNA VARIABLE Ron Larson-Bruce Edwards. Mc Graw Hill. 9º Edición](https://www.academia.edu/42139251/CALCULO_I_DE_UNA_VARIABLE_Ron_Larson_Bruce_Edwards_Mc_Graw_Hill_9o_Edici%C3%B3n)   \n",
    "  \n",
    "\n",
    "* [Grajales Vanegas, L. M., Restrepo Estrada, C. E., Restrepo Ochoa, S. I., & Ruíz De Villalba, F. (2015). Matemáticas I para las ciencias económicas.](https://bibliotecadigital.udea.edu.co/handle/10495/3010)\n",
    "  \n",
    "* R. Duval y Semiosis y pensamiento humano, 2.ª ed. Cali, Colombia: Programa Editorial Universidad del Valle, 2017. [En línea]. Disponible en: https://programaeditorial.univalle.edu.co/gpd-semiosis-y-pensamiento-humano-9789587655278-63324cdb0f6b3.html\n",
    "\n",
    "* [Aylwin, C. U. (2011). Lógica, conjuntos y números. Universidad de los Andes, Consejo de Publicaciones, Colección: Ciencias Básicas, Serie: Matemáticas.](chrome-extension://efaidnbmnnnibpcajpcglclefindmkaj/https://www.u-cursos.cl/ciencias/2011/1/MC110/1/material_docente/bajar?id_material=574722)\n",
    "  \n",
    "* [Chollet, F. (2021). Deep learning with Python. Simon and Schuster.](chrome-extension://efaidnbmnnnibpcajpcglclefindmkaj/https://tanthiamhuat.wordpress.com/wp-content/uploads/2018/03/deeplearningwithpython.pdf)  \n",
    "  \n",
    "* [Watson, S., Stewart, J., & Redlin, L. (2009). Precálculo. Matemáticas para el cálculo.](https://github.com/marco-canas/calculo/blob/main/referents/1_precalculo_stewart/stewart_precalculo.pdf)  \n",
    "\n",
    "* [Purcell, E. J., Varberg, D., & Rigdon, S. E. (2007). Cálculo diferencial e integral. Pearson Educación.](https://github.com/marco-canas/calculo/blob/main/referents/purcell/purcell_calculo.pdf)\n",
    "\n",
    "  \n",
    "\n",
    "* [stewart cálculo](https://udeaeduco-my.sharepoint.com/:b:/g/personal/marco_canas_udea_edu_co/EZgXZjAp8QxPqOAim2hs6LcBNPLGjSHf-xwYnUVYkwa04w?e=RZdTCy)  \n",
    "\n",
    "\n",
    "\n",
    "\n",
    "\n",
    "* [Recomendación de la UNESCO sobre ciencia abierta](https://unesdoc.unesco.org/ark:/48223/pf0000379949_spa)\n",
    "\n",
    "* [chatGPT](https://openai.com/blog/chatgpt)  \n",
    "\n",
    "* [Géron, A. (2017). Hands-on machine learning with scikit-learn and tensorflow: Concepts. Tools, and Techniques to build intelligent systems.](chrome-extension://efaidnbmnnnibpcajpcglclefindmkaj/http://14.139.161.31/OddSem-0822-1122/Hands-On_Machine_Learning_with_Scikit-Learn-Keras-and-TensorFlow-2nd-Edition-Aurelien-Geron.pdf)   \n"
   ]
  },
  {
   "cell_type": "markdown",
   "id": "df925560",
   "metadata": {},
   "source": [
    "\n",
    "* [McKinney, W. (2012). Python for data analysis: Data wrangling with Pandas, NumPy, and IPython. \" O'Reilly Media, Inc.\".](https://wesmckinney.com/book/) "
   ]
  },
  {
   "cell_type": "markdown",
   "id": "8e65d6f9",
   "metadata": {},
   "source": [
    "# Como estudiante, encuentro que...   \n",
    "\n",
    "F: Mis Fortalezas son:     \n",
    "O: Mis Oportunidades son:    \n",
    "D: Mis Debilidades son:    \n",
    "A: Lo que Amenazas mi aprendizaje es:  "
   ]
  },
  {
   "cell_type": "markdown",
   "id": "6b9e56a8",
   "metadata": {
    "slideshow": {
     "slide_type": "slide"
    }
   },
   "source": [
    "### [Evaluamos al profesor Marco Cañas Aquí](https://forms.office.com/Pages/ResponsePage.aspx?id=IefhmYRxjkmK_7KtTlPBwkanXIs1i1FEujpsZgO6dXpUREJPV1kxUk1JV1ozTFJIQVNIQjY5WEY3US4u)"
   ]
  },
  {
   "cell_type": "markdown",
   "id": "10f43536",
   "metadata": {
    "slideshow": {
     "slide_type": "slide"
    }
   },
   "source": [
    "### Continue su aprendizaje en la siguiente clase a través del siguiente [vínculo]()"
   ]
  },
  {
   "cell_type": "markdown",
   "id": "53cc9115",
   "metadata": {
    "slideshow": {
     "slide_type": "slide"
    }
   },
   "source": [
    "## Agradecimientos  \n",
    "\n",
    "Doy gracias a Dios por la vida de mi Hijo Joseph Cañas Osorio y la madurez que ha alcanzado. Este hijo me enorgullece y me hace falta abrazarlo cada día. \n",
    "\n",
    "Y a mi esposa Yasmira Emperatriz Barboza Mogollón por su apoyo, orientación y acompañamiento. "
   ]
  },
  {
   "cell_type": "markdown",
   "id": "b6ba1c23",
   "metadata": {},
   "source": [
    "# Apéndice sobre calendarios y coordinaciones \n",
    "\n",
    "A continuación le envío el horario de la asignatura Cálculo Vectorial  \n",
    "\n",
    "Días:  \n",
    "Lunes - Hora: 7:00 a 12:00M  \n",
    "Fechas:  \n",
    "Febrero: 10-17-24                                          \n",
    " Marzo: 3-10-17-31                                                  \n",
    "Abril:7-21-28                                                   \n",
    "Mayo:5-12-19  \n",
    "\n",
    "Agradezco su apoyo, y si presenta alguna dificultad puede contactarme.  \n",
    "\n",
    "Cordialmente,  \n",
    "Juan Felipe Rivera Hernández  \n",
    "Contacto: 3106314300  "
   ]
  },
  {
   "cell_type": "markdown",
   "id": "0e66cd7c",
   "metadata": {},
   "source": [
    "# Clase de análisis numérico los Martes de 8 a 12 del medio día. "
   ]
  },
  {
   "cell_type": "markdown",
   "id": "c5ff61b1",
   "metadata": {},
   "source": []
  }
 ],
 "metadata": {
  "celltoolbar": "Slideshow",
  "kernelspec": {
   "display_name": ".venv",
   "language": "python",
   "name": "python3"
  },
  "language_info": {
   "codemirror_mode": {
    "name": "ipython",
    "version": 3
   },
   "file_extension": ".py",
   "mimetype": "text/x-python",
   "name": "python",
   "nbconvert_exporter": "python",
   "pygments_lexer": "ipython3",
   "version": "3.12.6"
  },
  "rise": {
   "enable_chalkboard": true,
   "theme": "sky",
   "transition": "zoom"
  }
 },
 "nbformat": 4,
 "nbformat_minor": 5
}
