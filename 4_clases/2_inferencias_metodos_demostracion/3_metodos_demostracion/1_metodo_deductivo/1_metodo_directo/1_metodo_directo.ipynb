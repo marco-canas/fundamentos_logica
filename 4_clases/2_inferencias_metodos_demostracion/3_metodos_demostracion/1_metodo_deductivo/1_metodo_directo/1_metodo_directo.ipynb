{
 "cells": [
  {
   "cell_type": "markdown",
   "id": "dc06dec7",
   "metadata": {
    "slideshow": {
     "slide_type": "slide"
    }
   },
   "source": [
    "<table align=\"left\">\n",
    "  <td>\n",
    "    <a href=\"https://colab.research.google.com/github/ageron/handson-ml3/blob/main/tools_numpy.ipynb\" target=\"_parent\"><img src=\"https://colab.research.google.com/assets/colab-badge.svg\" alt=\"Open In Colab\"/></a>\n",
    "  </td>\n",
    "  <td>\n",
    "    <a target=\"_blank\" href=\"https://kaggle.com/kernels/welcome?src=https://github.com/ageron/handson-ml3/blob/main/tools_numpy.ipynb\"><img src=\"https://kaggle.com/static/images/open-in-kaggle.svg\" /></a>\n",
    "  </td>\n",
    "</table>"
   ]
  },
  {
   "cell_type": "markdown",
   "id": "e0c5b198",
   "metadata": {
    "slideshow": {
     "slide_type": "slide"
    }
   },
   "source": [
    "### [Video de apoyo a la lectura interactiva y experimental de este cuaderno]()"
   ]
  },
  {
   "cell_type": "markdown",
   "id": "41e82203",
   "metadata": {
    "slideshow": {
     "slide_type": "slide"
    }
   },
   "source": [
    "## [Vínculo al programa del curso:  ]()\n",
    "\n"
   ]
  },
  {
   "cell_type": "markdown",
   "id": "d11ab06d",
   "metadata": {
    "slideshow": {
     "slide_type": "slide"
    }
   },
   "source": [
    "Un reconocimiento a mis estudiantes que han construido conmigo este saber pedagógico:\n",
    "\n",
    "<img src = ''> \n",
    "\n"
   ]
  },
  {
   "cell_type": "markdown",
   "id": "8a74a56c-0ce6-4ad6-b985-553fd7fb68bb",
   "metadata": {},
   "source": [
    "Reconocimiento a las profesoras destacadas en enseñanza de la matemática en Colombia\n",
    "\n",
    "Aquí tienes algunas mujeres destacadas en Colombia en la enseñanza de la matemática, junto con una breve biografía de cada una:"
   ]
  },
  {
   "cell_type": "code",
   "execution_count": 1,
   "id": "7604880f",
   "metadata": {
    "slideshow": {
     "slide_type": "slide"
    }
   },
   "outputs": [
    {
     "name": "stdout",
     "output_type": "stream",
     "text": [
      "Llamando a CALY HERRERA ESTEFANIA...\n",
      "Actualizado: CALY HERRERA ESTEFANIA ahora tiene 5.1 en la columna 'Parcial'.\n",
      "Cambios guardados en el archivo CSV.\n",
      "Llamando a DORADO PADILLA LEONEL ESTEBAN...\n",
      "Actualizado: DORADO PADILLA LEONEL ESTEBAN ahora tiene 0.55 en la columna 'Parcial'.\n",
      "Cambios guardados en el archivo CSV.\n",
      "Llamando a VELASQUEZ LOPEZ MERLIS...\n",
      "Actualizado: VELASQUEZ LOPEZ MERLIS ahora tiene 5.119999999999999 en la columna 'Parcial'.\n",
      "Cambios guardados en el archivo CSV.\n",
      "Llamando a URIBE ARRIETA YEIFRY SEBASTIAN...\n",
      "Actualizado: URIBE ARRIETA YEIFRY SEBASTIAN ahora tiene 0.72 en la columna 'Parcial'.\n",
      "Cambios guardados en el archivo CSV.\n",
      "Llamando a LONDONO CASTRO FRED IVAN...\n",
      "Actualizado: LONDONO CASTRO FRED IVAN ahora tiene 3.52 en la columna 'Parcial'.\n",
      "Cambios guardados en el archivo CSV.\n",
      "Llamando a RODRIGUEZ MOSQUERA ANGELA MARIA...\n",
      "Actualizado: RODRIGUEZ MOSQUERA ANGELA MARIA ahora tiene 0.1 en la columna 'Parcial'.\n",
      "Cambios guardados en el archivo CSV.\n",
      "Llamando a SAN JUAN SERRANO MANUEL...\n",
      "Actualizado: SAN JUAN SERRANO MANUEL ahora tiene 0.9299999999999999 en la columna 'Parcial'.\n",
      "Cambios guardados en el archivo CSV.\n"
     ]
    }
   ],
   "source": [
    "import pandas as pd\n",
    "import numpy as np\n",
    "\n",
    "# Cargar la lista de estudiantes desde la URL\n",
    "path = 'C:/Users/marco/Documentos/docencia/groups_list/fundamentos_logica.csv'\n",
    "estudiantes = pd.read_csv(path)\n",
    "estudiantes['Parcial'] = estudiantes['Parcial'].astype(float) # hacer que todos los valores de la columna Parcial seen de tipo float\n",
    "\n",
    "# Convertir la columna 'Nombre' a una lista de Python\n",
    "lista_estudiantes = estudiantes['Nombre'].tolist()\n",
    "\n",
    "# Función para llamar a un estudiante aleatoriamente y registrar su nota de seguimiento\n",
    "def asistencia():\n",
    "    if lista_estudiantes:\n",
    "        estudiante_aleatorio = np.random.choice(lista_estudiantes)\n",
    "        print(f\"Llamando a {estudiante_aleatorio}...\")\n",
    "        asistencia = input(f\"¿Asistió {estudiante_aleatorio}? (s/n): \").strip().lower()\n",
    "        \n",
    "        if asistencia == 's':\n",
    "            # Obtener el índice del estudiante en el DataFrame\n",
    "            indice = estudiantes[estudiantes['Nombre'] == estudiante_aleatorio].index[0]\n",
    "            # Incrementar su valor en la columna 'Parcial'\n",
    "            estudiantes.at[indice, 'Parcial'] += 0.1\n",
    "            print(f\"Actualizado: {estudiante_aleatorio} ahora tiene {estudiantes.at[indice, 'Parcial']} en la columna 'Parcial'.\")\n",
    "        \n",
    "        lista_estudiantes.remove(estudiante_aleatorio)\n",
    "    else:\n",
    "        print(\"Se han llamado a todos los estudiantes del grupo completo.\")\n",
    "\n",
    "# Guardar los cambios en el archivo CSV\n",
    "def guardar_cambios():\n",
    "    estudiantes.to_csv(path, index=False)\n",
    "    print(\"Cambios guardados en el archivo CSV.\")\n",
    "\n",
    "# Ejemplo de uso\n",
    "while lista_estudiantes:\n",
    "    asistencia()\n",
    "    guardar_cambios()\n",
    "\n",
    "\n"
   ]
  },
  {
   "cell_type": "markdown",
   "id": "d7598d0a-d9b7-4ae0-b029-a0ed6ed1130b",
   "metadata": {},
   "source": [
    "\n",
    "# Principios de mi labor docente"
   ]
  },
  {
   "cell_type": "markdown",
   "id": "4f9d8cf9",
   "metadata": {
    "slideshow": {
     "slide_type": "slide"
    }
   },
   "source": [
    "## Modelo general de clase: [aula invertida](https://www3.gobiernodecanarias.org/medusa/ecoescuela/pedagotic/aprendizaje-invertido-flipped-classroom/)"
   ]
  },
  {
   "cell_type": "markdown",
   "id": "eb6ed03a",
   "metadata": {},
   "source": [
    "<img src = 'https://resources.maneuveringthemiddle.com/wp-content/uploads/2020/07/04212706/1-5.png' width = 400>"
   ]
  },
  {
   "cell_type": "markdown",
   "id": "34319cce-a71b-4f64-aab8-b53e521efa40",
   "metadata": {},
   "source": [
    "# Metodología de Aprendizaje Basado en Problemas y Proyectos (ABPP)\n"
   ]
  },
  {
   "cell_type": "markdown",
   "id": "c97704ab",
   "metadata": {},
   "source": [
    "\n",
    "<img src = 'https://www.unir.net/wp-content/uploads/2020/07/aprendizaje-problemas2-1-1-1-1.jpeg' width = 400>"
   ]
  },
  {
   "cell_type": "markdown",
   "id": "841a985c-bd9b-4dd3-8e4c-893983980af2",
   "metadata": {},
   "source": [
    "# Desarrollo del pensamiento computacional con python y R, y cuadernos Jupyter  orientado a la formación en ciencia de datos \n"
   ]
  },
  {
   "cell_type": "markdown",
   "id": "47b66627",
   "metadata": {},
   "source": [
    "\n",
    "\n",
    "<img src = 'https://i.ytimg.com/vi/mcG_wcR4e6M/maxresdefault.jpg' width = 400> "
   ]
  },
  {
   "cell_type": "markdown",
   "id": "65aa0404-f7ae-495e-864c-1aec01b4255e",
   "metadata": {},
   "source": [
    "# Principio de fomento a la ciencia abierta, enseñar en el acceso a los datos públicos y el uso de software de código abierto  \n"
   ]
  },
  {
   "cell_type": "markdown",
   "id": "d007f013",
   "metadata": {},
   "source": [
    "\n",
    "<img src = 'https://unesdoc.unesco.org/in/rest/Thumb/image?id=p%3A%3Ausmarcdef_0000379949_spa&author=UNESCO&title=Recomendaci%C3%B3n+de+la+UNESCO+sobre+la+Ciencia+Abierta&year=2021&publisher=UNESCO&TypeOfDocument=UnescoPhysicalDocument&mat=PGD&ct=true&size=512&isPhysical=1' width = 300>"
   ]
  },
  {
   "cell_type": "markdown",
   "id": "d9559f85",
   "metadata": {},
   "source": [
    "El enfoque STEAMS en educación preescolar, primaria, secundaria y universidad es una extensión del enfoque STEM (Ciencia, Tecnología, Ingeniería y Matemáticas) y su variante STEAM, que incorpora el Arte. El acrónimo STEAMS incluye:\n"
   ]
  },
  {
   "cell_type": "markdown",
   "id": "dfe23d88",
   "metadata": {},
   "source": [
    "\n",
    "1. **Science (Ciencia):** Fomenta la curiosidad por el mundo natural y el desarrollo de habilidades científicas, como la observación, experimentación y análisis.\n",
    "\n",
    "2. **Technology (Tecnología):** Integra herramientas tecnológicas para potenciar el aprendizaje y la resolución de problemas, promoviendo la alfabetización digital desde edades tempranas.\n",
    "\n",
    "3. **Engineering (Ingeniería):** Introduce el pensamiento lógico y la resolución de problemas estructurados, fomentando habilidades como el diseño y la construcción de soluciones.\n"
   ]
  },
  {
   "cell_type": "markdown",
   "id": "a32cd321",
   "metadata": {},
   "source": [
    "\n",
    "4. **Arts (Arte):** Añade creatividad y pensamiento crítico, permitiendo a los estudiantes expresarse y explorar el aprendizaje a través de formas artísticas (plásticas, música, teatro).\n"
   ]
  },
  {
   "cell_type": "markdown",
   "id": "68043097",
   "metadata": {},
   "source": [
    "\n",
    "5. **Mathematics (Matemáticas):** Refuerza las habilidades numéricas y el razonamiento lógico, fundamentales en la resolución de problemas y comprensión de conceptos abstractos.\n"
   ]
  },
  {
   "cell_type": "markdown",
   "id": "39b387d5",
   "metadata": {},
   "source": [
    "\n",
    "6. **Social Sciences (Ciencias Sociales):** Incorpora la comprensión del entorno social, político, cultural y económico, promoviendo el desarrollo de la conciencia crítica sobre el mundo y su historia, además de habilidades de empatía y ciudadanía.\n"
   ]
  },
  {
   "cell_type": "markdown",
   "id": "5b22eaf3",
   "metadata": {},
   "source": [
    "\n",
    "El enfoque STEAMS pretende desarrollar un aprendizaje **interdisciplinario** que integre estas áreas para fomentar un pensamiento más holístico y práctico. "
   ]
  },
  {
   "cell_type": "markdown",
   "id": "40d3b33b",
   "metadata": {},
   "source": [
    "Se busca que los estudiantes no solo aprendan conocimientos técnicos, sino también cómo aplicarlos creativa y críticamente en situaciones reales, promoviendo habilidades como el trabajo en equipo, la comunicación y la innovación. "
   ]
  },
  {
   "cell_type": "markdown",
   "id": "39e5e50f",
   "metadata": {},
   "source": [
    "En educación preescolar, primaria y secundaria, se adapta a las diferentes etapas de desarrollo cognitivo y emocional de los estudiantes, promoviendo el aprendizaje activo y contextualizado.  \n"
   ]
  },
  {
   "cell_type": "markdown",
   "id": "654b9c07",
   "metadata": {},
   "source": [
    "\n",
    "<img src = 'https://www.campuseducacion.com/blog/wp-content/uploads/2023/03/foto01-1.jpg' width = 400>"
   ]
  },
  {
   "cell_type": "markdown",
   "id": "9d15c10d-2c02-4158-9419-b1ed79b4c1ee",
   "metadata": {},
   "source": [
    "# Qué estamos haciendo por la internalización en esta clase y este curso  \n",
    "\n",
    "Para presentar tus acciones como docente de matemáticas en la Universidad de Antioquia con miras a la **internacionalización** de tu práctica docente y el desarrollo de competencias internacionales en tus estudiantes, te sugiero estructurar tu enfoque en los siguientes aspectos clave:"
   ]
  },
  {
   "cell_type": "markdown",
   "id": "964d9de7-53ee-4255-9bcd-d8e6454f2993",
   "metadata": {},
   "source": [
    "### 1. **Visión Global en la Formación Académica**\n",
    "   - **Competencias Internacionales**: Asegúrate de que el contenido de tus cursos fomente habilidades que sean reconocidas globalmente. Al educar a los estudiantes en **Python, LaTeX, Markdown y Jupyter Notebooks** y en la **introducción a la ciencia de datos y técnicas de Machine Learning**, estás proporcionando competencias altamente demandadas en los sectores tecnológicos y académicos a nivel internacional.\n"
   ]
  },
  {
   "cell_type": "markdown",
   "id": "a1cbc8d6",
   "metadata": {},
   "source": [
    "   - **Relevancia de los Contenidos**: Destaca cómo los temas que enseñas, como el **desarrollo del pensamiento computacional** y la **ciencia de datos**, están alineados con las necesidades globales actuales en diversas industrias, desde la tecnología hasta las ciencias naturales y sociales.\n"
   ]
  },
  {
   "cell_type": "markdown",
   "id": "97bfba2e",
   "metadata": {},
   "source": [
    "   - **Referencias a Estándares Internacionales**: Puedes vincular tu enseñanza a estándares internacionales de competencias en programación y ciencia de datos (por ejemplo, frameworks del **IEEE, ACM**, y estándares de la **data science** o la **computación en la nube**)."
   ]
  },
  {
   "cell_type": "markdown",
   "id": "0f1d110c-3142-48fe-9e7d-5fbd9e8bb931",
   "metadata": {},
   "source": [
    "### 2. **Innovación Pedagógica con Enfoque Internacional**\n"
   ]
  },
  {
   "cell_type": "markdown",
   "id": "ab583f94",
   "metadata": {},
   "source": [
    "   - **Aula Invertida y ABP**: Presenta cómo tu enfoque de **aula invertida** y **aprendizaje basado en problemas (ABP)** permite a los estudiantes trabajar de manera autónoma y colaborativa, lo que los prepara para escenarios laborales internacionales que requieren autoaprendizaje y habilidades de resolución de problemas en equipo.\n"
   ]
  },
  {
   "cell_type": "markdown",
   "id": "06ee7067",
   "metadata": {},
   "source": [
    "   - **Uso de Jupyter Notebooks**: El uso de **Jupyter Notebooks** en tus clases no solo facilita la **integración de código, matemáticas y texto**, sino que también es una plataforma utilizada globalmente en ambientes académicos y profesionales, lo que hace a tus estudiantes más competitivos internacionalmente."
   ]
  },
  {
   "cell_type": "markdown",
   "id": "960d52b7-03cd-4eb3-965e-5cdfeb7d9f8e",
   "metadata": {},
   "source": [
    "### 3. **Tecnología y Herramientas de Uso Global**\n"
   ]
  },
  {
   "cell_type": "markdown",
   "id": "eab90373",
   "metadata": {},
   "source": [
    "   - **Lenguaje Python**: Python es uno de los lenguajes de programación más usados a nivel mundial, tanto en la academia como en la industria. Al formar a tus estudiantes en Python para ciencia de datos y machine learning, los preparas para operar en entornos tecnológicos globales.\n"
   ]
  },
  {
   "cell_type": "markdown",
   "id": "6be6202f",
   "metadata": {},
   "source": [
    "   - **Herramientas de Ciencia Abierta**: Resalta cómo herramientas como **GitHub**, **Google Colab** y otras plataformas de código abierto están alineadas con el movimiento de **ciencia abierta**, el cual es internacionalmente reconocido y permite que los estudiantes colaboren y compartan proyectos a nivel global."
   ]
  },
  {
   "cell_type": "markdown",
   "id": "3b2ffa32-7a6f-4545-ba7b-c6a69f51109f",
   "metadata": {},
   "source": [
    "### 4. **Investigación y Publicaciones Internacionales**\n"
   ]
  },
  {
   "cell_type": "markdown",
   "id": "62364c4c",
   "metadata": {},
   "source": [
    "   - **Promoción de la Investigación**: Detalla cómo promueves que tus estudiantes participen en proyectos de **investigación aplicada**, con posibilidad de publicación en revistas internacionales. Esto contribuye a la reputación internacional de la Universidad de Antioquia.\n"
   ]
  },
  {
   "cell_type": "markdown",
   "id": "d099ffca",
   "metadata": {},
   "source": [
    "   - **Colaboraciones Internacionales**: Si has colaborado con investigadores de otras instituciones o universidades en el extranjero, menciona estos proyectos y cómo han enriquecido tu enseñanza y proporcionado a los estudiantes una visión más globalizada."
   ]
  },
  {
   "cell_type": "markdown",
   "id": "5d1e396e-aece-4bf7-9421-32fa7809eaf4",
   "metadata": {},
   "source": [
    "### 5. **Uso del Inglés para la Internacionalización**\n"
   ]
  },
  {
   "cell_type": "markdown",
   "id": "ff8f2f0a",
   "metadata": {},
   "source": [
    "   - **Comunicación Científica en Inglés**: Fomentar el aprendizaje del inglés como lengua científica es clave para que tus estudiantes puedan acceder a publicaciones internacionales, conferencias, y material académico que no está disponible en español. Esto es esencial para que adquieran competencias que les permitan desempeñarse en cualquier contexto internacional.\n"
   ]
  },
  {
   "cell_type": "markdown",
   "id": "1b0705d5",
   "metadata": {},
   "source": [
    "   - **Material Bilingüe**: Al generar material educativo en Python, LaTeX y Markdown, considera ofrecer algunos de estos recursos en inglés, para que los estudiantes se familiaricen con el vocabulario técnico y científico internacional."
   ]
  },
  {
   "cell_type": "markdown",
   "id": "c6a8c3b0-426a-4692-a384-3065aea81c9a",
   "metadata": {},
   "source": [
    "### 6. **Certificaciones y Estándares Internacionales**\n",
    "   - **Participación en Certificaciones Internacionales**: Impulsa que los estudiantes busquen certificaciones internacionales en Python o ciencia de datos (como las ofrecidas por **Coursera, edX,** o **Google**). Estas certificaciones no solo validan sus competencias, sino que también incrementan el reconocimiento de la Universidad de Antioquia en el contexto internacional.\n"
   ]
  },
  {
   "cell_type": "markdown",
   "id": "aeb066fc",
   "metadata": {},
   "source": [
    "   - **Alineación con Acreditaciones Internacionales**: Vincula tu trabajo docente con los estándares de acreditación y certificación que garantizan que la universidad siga siendo reconocida internacionalmente. "
   ]
  },
  {
   "cell_type": "markdown",
   "id": "5e52cd22",
   "metadata": {},
   "source": [
    "Puedes vincularte con organizaciones internacionales que promuevan la excelencia en la educación y tecnología, como **ABET** para la acreditación en ingeniería y ciencias computacionales."
   ]
  },
  {
   "cell_type": "markdown",
   "id": "65d3d9e1-ea84-43e0-8197-a2a9c9e21594",
   "metadata": {},
   "source": [
    "### 7. **Proyectos Abiertos y Ciencia Reproducible**\n",
    "   - **GitHub y Open Science**: La utilización de **GitHub** para almacenar los proyectos y materiales de enseñanza en repositorios públicos permite que otros investigadores y educadores internacionales puedan revisar y replicar tu trabajo. Esto contribuye a la creación de una red de colaboración científica abierta.\n"
   ]
  },
  {
   "cell_type": "markdown",
   "id": "990aff0a",
   "metadata": {},
   "source": [
    "   - **Transparencia y Reproducibilidad**: La ciencia de datos y machine learning están profundamente ligados a la reproducibilidad. Asegura que tus estudiantes desarrollen prácticas de transparencia y documentación en la investigación, que son pilares en la comunidad científica global.\n"
   ]
  },
  {
   "cell_type": "markdown",
   "id": "9aeae17c",
   "metadata": {},
   "source": [
    "\n",
    "### 8. **Participación en Redes y Conferencias Internacionales**\n",
    "   - **Presentación en Conferencias Internacionales**: Destaca cómo tu participación en conferencias internacionales (como la **ASCOLFA** o eventos sobre educación en matemáticas) contribuye al prestigio de la universidad y permite que tus prácticas sean evaluadas y reconocidas a nivel global.\n"
   ]
  },
  {
   "cell_type": "markdown",
   "id": "89f618de",
   "metadata": {},
   "source": [
    "   - **Promoción de Estudiantes en Eventos Internacionales**: Impulsa la participación de tus estudiantes en competiciones internacionales de programación o hackathons, como los organizados por **Google**, **ACM** o **Kaggle**. Esto no solo desarrolla sus habilidades, sino que también visibiliza el talento de la Universidad de Antioquia a nivel global.\n",
    "\n",
    "---"
   ]
  },
  {
   "cell_type": "markdown",
   "id": "233294a4-1983-4641-a7ad-866825e02315",
   "metadata": {},
   "source": [
    "Con esta estrategia, presento mis acciones docentes en términos de competencias internacionales, innovación pedagógica, tecnología, investigación y participación en redes globales, asegurando que tu práctica esté alineada con los estándares internacionales y que tus estudiantes estén preparados para competir en contextos internacionales."
   ]
  },
  {
   "cell_type": "markdown",
   "id": "8d97dc80",
   "metadata": {
    "slideshow": {
     "slide_type": "slide"
    }
   },
   "source": [
    "## Fomento al desarrollo de habilidades emocionales y de comunicación y convivencia amable y asertiva\n",
    "\n"
   ]
  },
  {
   "cell_type": "markdown",
   "id": "96775931",
   "metadata": {
    "slideshow": {
     "slide_type": "slide"
    }
   },
   "source": [
    "## Título de la clase:  Método directo de demostración\n",
    "\n",
    "[]()"
   ]
  },
  {
   "cell_type": "markdown",
   "id": "1d38dd4e",
   "metadata": {
    "slideshow": {
     "slide_type": "slide"
    }
   },
   "source": [
    "### Objetivo de aprendizaje (Enunciar, de manera corta sencilla y clara para todos los asistentes)\n",
    "\n",
    "Que el licendiado aprenda a deducir una tesis a partir de una hipótesis como un proceso secuencial en el que justifica cada paso del proceso utilizando propiedades de las operaciones en el contexto numérico que se encuentre y de los operadores de comparación. \n",
    "\n",
    " \n"
   ]
  },
  {
   "cell_type": "markdown",
   "id": "5e042aed",
   "metadata": {},
   "source": [
    "# Cómo aprender a deducir  \n"
   ]
  },
  {
   "cell_type": "markdown",
   "id": "ffa94272",
   "metadata": {},
   "source": [
    "\n",
    "Entrenar a tus estudiantes en la construcción de **cadenas deductivas** de 6 o 7 eslabones implica guiarlos para que desarrollen la capacidad de aplicar **razonamientos lógicos** secuenciales y rigurosos que los conduzcan desde una **hipótesis** hasta una **conclusión** a través de pasos intermedios bien fundamentados. "
   ]
  },
  {
   "cell_type": "markdown",
   "id": "1e4d7922",
   "metadata": {},
   "source": [
    "Aquí te dejo un plan con estrategias y actividades para ayudarte a entrenar esta habilidad:\n"
   ]
  },
  {
   "cell_type": "markdown",
   "id": "b9011380",
   "metadata": {},
   "source": [
    "\n",
    "### 1. **Introducción al proceso deductivo**\n"
   ]
  },
  {
   "cell_type": "markdown",
   "id": "17ff8043",
   "metadata": {},
   "source": [
    "   - **Explica la deducción**: Comienza explicando el concepto de deducción como el proceso de partir de una hipótesis (premisas) y, mediante reglas lógicas o matemáticas, llegar a una tesis o conclusión.\n"
   ]
  },
  {
   "cell_type": "markdown",
   "id": "7be253b1",
   "metadata": {},
   "source": [
    "   - **Muestra ejemplos sencillos**: Expón ejemplos cortos, como la deducción del carácter par de un número cuadrado que mencionaste antes, para mostrar cómo se avanza de manera lógica y ordenada de una idea a otra.\n"
   ]
  },
  {
   "cell_type": "markdown",
   "id": "1858142c",
   "metadata": {},
   "source": [
    "\n",
    "### 2. **Descomposición de ejemplos en eslabones**\n",
    "   - **Desglosa deducciones largas**: Toma un ejemplo de una deducción completa (de 6 o 7 pasos) y descompón cada paso (eslabón). Explica por qué se realiza cada paso y qué regla lógica o propiedad matemática se está utilizando.\n",
    "   - **Enfatiza la justificación de cada paso**: Haz que los estudiantes justifiquen por qué el paso es válido (propiedad algebraica, definición de un concepto, teorema anterior, etc.).\n"
   ]
  },
  {
   "cell_type": "markdown",
   "id": "73abc13a",
   "metadata": {},
   "source": [
    "\n",
    "   **Ejemplo**: Deducción sobre la paridad de un número:\n",
    "   - Hipótesis: $a$ es un número par, entonces $a = 2p$ para algún $p \\in \\mathbb{N}$.\n",
    "   - Paso 1: $a^2 = (2p)^2 = 4p^2$. (Justificación: Los cuadrados de iguales son iguales en $\\mathbb{R}$)\n",
    "   - Paso 2: Factoriza: $a^2 = 2(2p^2)$.\n",
    "   - Paso 3: Definir $b = 2p^2$, de modo que $a^2 = 2b$.\n",
    "   - Paso 4: Dado que $b$ es un número natural, $a^2$ es par. (Porque la multiplicación en los enteros es cerrada)\n",
    "   - Tesis: El cuadrado de un número par es par.\n"
   ]
  },
  {
   "cell_type": "markdown",
   "id": "557f7ce8",
   "metadata": {},
   "source": [
    "\n",
    "### 3. **Practicar con deducciones guiadas**\n",
    "   - **Ejercicios semi-guiados**: Presenta ejercicios donde los estudiantes tengan que llenar los pasos faltantes en una deducción ya comenzada. Así pueden enfocarse en identificar cuál es el siguiente paso lógico sin estar abrumados por deducir todo el proceso.\n",
    "   - **Pistas para encadenar**: Da pistas o sugerencias sobre qué propiedad o regla deben aplicar en cada paso, de modo que aprendan a conectar las ideas sin perderse en el proceso.\n"
   ]
  },
  {
   "cell_type": "markdown",
   "id": "1204e08a",
   "metadata": {},
   "source": [
    "\n",
    "   **Ejemplo de ejercicio guiado**: Demostremos que el cuadrado de un múltiplo de 3 es multiplo de 3\n",
    "   - Hipótesis: Si $a$ es múltiplo de 3, entonces $a = 3k$ para algún $k \\in \\mathbb{N}$.\n",
    "   - Paso 1: Eleva al cuadrado: $a^2 = (3k)^2 = \\_ \\_ \\_ $.\n",
    "   - Paso 2: Factoriza para escribir $a^2$ como múltiplo de 3.\n",
    "   - Paso 3: Define una nueva variable que permita concluir que $a^2$ es múltiplo de 3.\n"
   ]
  },
  {
   "cell_type": "markdown",
   "id": "bb1f23de",
   "metadata": {},
   "source": [
    "\n",
    "### 4. **Construcción de deducciones completas**\n",
    "   - **Ejercicios no guiados**: Una vez que los estudiantes comprendan el formato y la lógica detrás de los pasos, dales ejercicios completos donde deban construir la deducción desde cero. Estos ejercicios pueden centrarse en propiedades matemáticas conocidas, como los números enteros, irracionales, la divisibilidad, etc.\n"
   ]
  },
  {
   "cell_type": "markdown",
   "id": "e887ce85",
   "metadata": {},
   "source": [
    "   \n",
    "   **Ejemplo**: \n",
    "   - Hipótesis: Si $n$ es un número impar, entonces $n^2$ también es impar.\n",
    "   - Deducción: Parte de la definición de un número impar ($n = 2k + 1$) y guía a los estudiantes a aplicar las propiedades algebraicas y justificar cada paso hasta concluir que $n^2$ es impar.\n"
   ]
  },
  {
   "cell_type": "markdown",
   "id": "3bb6abd7",
   "metadata": {},
   "source": [
    "\n",
    "### 5. **Incorporar visualización y lógica**\n"
   ]
  },
  {
   "cell_type": "markdown",
   "id": "db0a54ea",
   "metadata": {},
   "source": [
    "   - **Visualización de eslabones deductivos**: Usa diagramas de flujo o mapas conceptuales que muestren los pasos de una deducción. Esto ayuda a los estudiantes a visualizar cómo se conecta una idea con otra, lo que refuerza el pensamiento secuencial.\n"
   ]
  },
  {
   "cell_type": "markdown",
   "id": "db3fd8b3",
   "metadata": {},
   "source": [
    "   - **Relación con lógica formal**: Introduce ejercicios en los que relacionen estas deducciones con reglas de la lógica formal, como el modus ponens, silogismos, o las leyes de la lógica. Esto ayuda a fortalecer el razonamiento deductivo formal.\n"
   ]
  },
  {
   "cell_type": "markdown",
   "id": "52872cef",
   "metadata": {},
   "source": [
    "\n",
    "### 6. **Revisión colaborativa**\n"
   ]
  },
  {
   "cell_type": "markdown",
   "id": "c1add7bf",
   "metadata": {},
   "source": [
    "   - **Trabajo en parejas o grupos**: Divide a los estudiantes en parejas o pequeños grupos y pídeles que construyan deducciones juntos. Luego, que se revisen entre ellos, identificando posibles errores o puntos de mejora en la cadena deductiva de los otros.\n"
   ]
  },
  {
   "cell_type": "markdown",
   "id": "3be4c09a",
   "metadata": {},
   "source": [
    "   - **Discusión grupal**: Realiza una revisión colectiva de un ejercicio y promueve una discusión sobre por qué ciertos pasos son correctos o si hay otros caminos posibles para llegar a la misma conclusión.\n"
   ]
  },
  {
   "cell_type": "markdown",
   "id": "44e748fd",
   "metadata": {},
   "source": [
    "\n",
    "### 7. **Proyectos de deducción aplicada**\n"
   ]
  },
  {
   "cell_type": "markdown",
   "id": "baf5398a",
   "metadata": {},
   "source": [
    "   - **Desafíos de deducción avanzada**: A medida que tus estudiantes se sientan más cómodos, introduce problemas más complejos que requieran cadenas deductivas de 6 o 7 eslabones. Estos pueden incluir deducciones en álgebra, geometría o cálculo.\n",
    "   - **Ejemplos de deducción en el mundo real**: Anima a los estudiantes a encontrar ejemplos cotidianos o del mundo real donde puedan aplicar deducciones lógicas. Por ejemplo, en finanzas, optimización de recursos, o en teoría de juegos, deduciendo estrategias óptimas.\n"
   ]
  },
  {
   "cell_type": "markdown",
   "id": "ddbbcab2",
   "metadata": {},
   "source": [
    "\n",
    "### 8. **Rúbricas claras para evaluar deducciones**\n",
    "   - **Criterios de evaluación**: Asegúrate de que los estudiantes sepan cómo serán evaluados. "
   ]
  },
  {
   "cell_type": "markdown",
   "id": "751e5575",
   "metadata": {},
   "source": [
    "Proporcionales una rúbrica donde se valore la justificación de cada paso, la claridad en la secuencia de ideas, y la corrección matemática o lógica de los argumentos. "
   ]
  },
  {
   "cell_type": "markdown",
   "id": "4aad3a9f",
   "metadata": {},
   "source": [
    "Esto les ayudará a enfocarse en la precisión y la lógica en cada eslabón.\n"
   ]
  },
  {
   "cell_type": "markdown",
   "id": "74c57706",
   "metadata": {},
   "source": [
    "\n",
    "### 9. **Reforzar la práctica constante**\n"
   ]
  },
  {
   "cell_type": "markdown",
   "id": "ec11885a",
   "metadata": {},
   "source": [
    "   - **Ejercicios regulares**: Introduce ejercicios de deducción en tareas y evaluaciones con regularidad. Cuanta más práctica tengan los estudiantes, más cómodos se sentirán en la construcción de estas cadenas deductivas.\n",
    "   - **Retroalimentación individual**: Proporciona retroalimentación específica sobre los pasos deductivos de cada estudiante para ayudarles a mejorar sus habilidades de razonamiento.\n"
   ]
  },
  {
   "cell_type": "markdown",
   "id": "1a113d30",
   "metadata": {},
   "source": [
    "\n",
    "### Ejercicios propuestos:\n",
    "Aquí te dejo algunos ejercicios que puedes utilizar con tus estudiantes para construir cadenas deductivas:\n",
    "\n",
    "1. **Propiedad del número impar**: Deducir que si un número es impar, su cuadrado también es impar.\n",
    "2. **Producto de números primos**: Si el producto de dos números es primo, deducir que uno de ellos debe ser igual a 1.\n",
    "3. **Suma de números racionales**: Demostrar que la suma de dos números racionales es siempre un número racional.\n",
    "4. **Divisibilidad por 3**: Si la suma de las cifras de un número es divisible por 3, entonces el número es divisible por 3.\n",
    "5. **Ángulos complementarios**: Los complementos de angulos congruentes, son congruentes. \n"
   ]
  },
  {
   "cell_type": "markdown",
   "id": "5f0a2977",
   "metadata": {},
   "source": [
    "\n",
    "Con estas estrategias y ejercicios, podrás entrenar a tus estudiantes en la capacidad de deducir de manera precisa y eficiente, lo que los preparará para enfrentarse a problemas matemáticos más complejos en su carrera académica."
   ]
  },
  {
   "cell_type": "markdown",
   "id": "bf5fe598",
   "metadata": {},
   "source": [
    "# Estructura general para todas las clases\n",
    "\n",
    "Dame, por favor, un diseño de clase, con el enfoque: STEAMS  y de aprendizaje basado en problemas y proyectos(ABPP); sobre: **\"El método de demostración directa y su implementación en la validación de supuestos geométricos en la formación de Licenciados en matemáticas en Caucasia Antioquia.\"**, siguiendo la estructura:   \n",
    "\n",
    "1. Título de la clase \n",
    "2. Objetivo de aprendizaje e indicadores de logro de estos objetivos. \n",
    "3.  Un mapa conceptual que resuma la clase elaborado en Graphviz de python con nodos y edges de diferentes formas, colores y rellenos y renderizado en la siguiente ubicación: `\"C:/Users/marco/Downloads\"`. No olvides el parámetro `view = True` para el método `render()` de Graphviz. Para este mapa controla las superposiciones de los nodos con: graph [overlap=false]; // Elimina superposiciones (puede aumentar el espacio)\n",
    "graph [overlap=\"scalexy\"]; // Escala el gráfico para evitar overlaps\n",
    "graph [overlap=\"compress\"]; // Comprime el grafo sin overlaps   \n",
    "   \n",
    "4. Contenido de la clase    \n",
    "   \n",
    "5. Incluye una canción o un poema que ayude a interiorizar y fijar los conceptos asociados a esta clase.  \n",
    "   \n",
    "6. Dame elementos históricos y epistemológicos asociados a esta clase, pero contados como un cuento al estilo de un cuentero antioqueño en Colombia. Incluye imágenes de los protagonistas históricos de esta clase.   \n",
    "   \n",
    "7. Actividades de aprendizaje    \n",
    "     * Incluya actividades de aprendizaje utilizando Calculadora **Casio 991 LA cw**\n",
    "     * Incluya también actividades de aprendizaje y modelación de situaciones o problemas reales a través de circuitos lógicos y circuitos digitales o electrónicos utilizando la aplicación portable cocodrilo. [Descarge esta aplicación portable aquí](https://crocodileclips.net/descargar-crocodile-clips/)    \n",
    "   \n",
    "8.  Tarea o actividades de ejercitación y fijación.  \n",
    "     \n",
    "    \n",
    "9.  Evaluación incluyendo diez proyectos, un ejemplo de quiz y un ejemplo de parcial.  \n",
    "     * Diseña el quiz con preguntas, donde se pida al estudiante el mostrar la aplicación de las expresiones lógicas en contextos: \n",
    "       - Deportivos\n",
    "       - Cotidianos\n",
    "       - Matemáticas en teoría de números \n",
    "       - Matemáticas en geometría euclidiana\n",
    "       - Matemática en Cálculo Diferencial.\n",
    "       - Económicos. \n",
    "     * Actividad de desarrollo de habilidades metacognitivas para hacernos consientes de nuestro propio proceso de aprendizaje y de la importancia de la evaluación continua.\n",
    "\n",
    "10. Diseño de actividad de retroalimentación.  \n",
    "      \n",
    "11. Dame un vocabulario y frases del idioma inglés asociadas a esta clase.   \n",
    "    \n",
    "12. Incluye apéndice para la clase sobre desarrollo de habilidades para trabajar en equipo y de asertividad y empatía para relacionarnos. También elementos de la inteligencia emocional para presentar pruebas sin temor y sin realizar fraude en ellas.   \n",
    "13. Incluye 10 referentes en didáctica de la matemática que estén de acuerdo a la propuesta didáctica de esta clase. Adiciona a estos referentes a Raymond Duval (Representaciones y cambios de representación para la adquisición de conceptos matemáticos) y a Jeannette Wing (Desarrollo del pensamiento computacional). Déjame todos estos referentes ordenados de acuerdo a las normas APA. Déjame todos estos referentes ordenados de acuerdo a las normas APA. Incluye las citaciones a estos referentes a medida que vallas diseñando la clase. \n",
    "\n",
    "\n",
    "Pero  que este diseño sea para que el estudiante pueda aprender experimentando en cuadernos Jupyter con funciones de usuario y animaciones y visualizaciones en Python. En particular utiliza para el diseño de clase a NumPy, Pandas, SymPy, Matplotlib.pyplot, Seaborn, Plotly, ipywidgets, matplotlib.animation y Jupyter Notebook.  \n",
    "Cuando vallas a utilizar SymPy, ten en cuanta la siguiente configuración: \n",
    "# Corrección y mejora del código\n",
    "from sympy import symbols, Equivalent\n",
    "from sympy.logic.boolalg import truth_table\n",
    "\n",
    "Cada vez que utilices `matplotlib.animacion` no olvides incluir el uso de `IPython. display` para la renderización de estas animaciones a través de Jupyter Notebook. No olvides darme los diseños de clase con las ecuaciones matemáticas delimitadas con signo de dólar $ para que VS Code si me renderice estas expresiones del lenguaje latex. Cuando vallas a utilizar ipywidgets ten en cuenta la siguiente importación inicial para garantizar que la visualización interactiva si se renderice en VS Code:                                                      \n",
    "import numpy as np\n",
    "import matplotlib.pyplot as plt\n",
    "import ipywidgets as widgets\n",
    "from IPython.display import display, clear_output\n",
    "from matplotlib.patches import Rectangle\n",
    "\n",
    "# Configuración inicial para visualización estática\n",
    "%matplotlib inline "
   ]
  },
  {
   "cell_type": "markdown",
   "id": "f68d17e5",
   "metadata": {},
   "source": [
    "# Sobre la Lectura Interactiva y Experimental (LIE)\n"
   ]
  },
  {
   "cell_type": "markdown",
   "id": "0f883945",
   "metadata": {},
   "source": [
    "\n",
    "La **lectura interactiva y experimental** de los cuadernos Jupyter diseñados para el curso de **Fundamentos de Lógica** implica un enfoque dinámico y práctico para el aprendizaje, donde los estudiantes no solo consumen información teórica, sino que también interactúan con el contenido, modifican ejemplos, ejecutan código y experimentan con los conceptos lógicos en un entorno computacional. "
   ]
  },
  {
   "cell_type": "markdown",
   "id": "5fce4e2a",
   "metadata": {},
   "source": [
    "A continuación, se detallan las características clave de este enfoque:\n",
    "\n",
    "---\n"
   ]
  },
  {
   "cell_type": "markdown",
   "id": "240d9ecc",
   "metadata": {},
   "source": [
    "\n",
    "### **1. Lectura Interactiva**  \n",
    "- **Manipulación directa del contenido**: Los estudiantes pueden ejecutar celdas de código, modificar fórmulas lógicas o ejemplos, y observar cómo cambian los resultados en tiempo real.  \n"
   ]
  },
  {
   "cell_type": "markdown",
   "id": "f6b1b167",
   "metadata": {},
   "source": [
    "- **Visualización interactiva**: Uso de gráficos, diagramas (como árboles semánticos o tablas de verdad) o herramientas que respondan a entradas del usuario para ilustrar conceptos como validez, consistencia o inferencia. "
   ]
  },
  {
   "cell_type": "markdown",
   "id": "f92e7a6c",
   "metadata": {},
   "source": [
    " \n",
    "- **Retroalimentación inmediata**: Los cuadernos pueden incluir ejercicios con autoevaluación (ejecutando código que verifica soluciones) o explicaciones emergentes al resolver problemas.  \n",
    "\n",
    "---\n"
   ]
  },
  {
   "cell_type": "markdown",
   "id": "06d292d0",
   "metadata": {},
   "source": [
    "\n",
    "### **2. Lectura Experimental**  \n"
   ]
  },
  {
   "cell_type": "markdown",
   "id": "d4bc9955",
   "metadata": {},
   "source": [
    "- **Aprendizaje basado en prueba y error**: Los estudiantes pueden \"jugar\" con estructuras lógicas (por ejemplo, modificar conectores en una fórmula proposicional y ver cómo afecta su tabla de verdad).  \n"
   ]
  },
  {
   "cell_type": "markdown",
   "id": "dd66dabf",
   "metadata": {},
   "source": [
    "- **Simulación de escenarios**: Por ejemplo, modelar argumentos en lógica de primer orden y evaluar su corrección mediante ejecución de código (usando librerías como `sympy` o herramientas ad-hoc).  \n"
   ]
  },
  {
   "cell_type": "markdown",
   "id": "6412d941",
   "metadata": {},
   "source": [
    "- **Exploración guiada y abierta**: Se incluyen secciones con consignas del tipo *\"¿Qué pasa si cambias este axioma?\"* o *\"Intenta construir un contraejemplo\"* para fomentar la curiosidad.  \n",
    "\n",
    "---\n"
   ]
  },
  {
   "cell_type": "markdown",
   "id": "2f933f67",
   "metadata": {},
   "source": [
    "\n",
    "### **3. Componentes clave de los cuadernos**  \n"
   ]
  },
  {
   "cell_type": "markdown",
   "id": "6a8fb53c",
   "metadata": {},
   "source": [
    "- **Fragmentos de código ejecutable**: Para evaluar expresiones lógicas, automatizar pruebas o implementar algoritmos (ej: verificación de tautologías).  \n"
   ]
  },
  {
   "cell_type": "markdown",
   "id": "9b4ad3c8",
   "metadata": {},
   "source": [
    "- **Celdas con texto teórico y preguntas reflexivas**: Integradas con ejemplos prácticos que requieren intervención activa (ej: *\"Define aquí tu propia fórmula y comprueba si es satisfacible\"*).  \n"
   ]
  },
  {
   "cell_type": "markdown",
   "id": "970bfe23",
   "metadata": {},
   "source": [
    "- **Enlaces a recursos externos**: Como demostradores en línea o lecturas complementarias para profundizar.  \n",
    "\n",
    "---\n"
   ]
  },
  {
   "cell_type": "markdown",
   "id": "40bf9a6f",
   "metadata": {},
   "source": [
    "\n",
    "### **4. Beneficios pedagógicos**  \n",
    "- **Enganche activo**: Combina teoría y práctica sin salir del entorno digital.  \n",
    "- **Personalización**: Los estudiantes pueden ajustar el ritmo y profundidad de su aprendizaje.  \n",
    "- **Preparación para aplicaciones reales**: Familiariza a los estudiantes con herramientas usadas en investigación (ej: Python para lógica simbólica).  \n",
    "\n",
    "---\n"
   ]
  },
  {
   "cell_type": "markdown",
   "id": "de14b2f2",
   "metadata": {},
   "source": [
    "\n",
    "### **Ejemplo concreto**  \n",
    "Un cuaderno podría incluir:  \n",
    "1. Una explicación de *modus ponens* con una fórmula predefinida (`p → q`, `p`, luego `q`).  \n",
    "2. Una celda interactiva donde el estudiante modifique `p` o `q` y observe cómo falla la regla si las premisas cambian.  \n",
    "3. Un ejercicio para programar un verificador de *modus ponens* usando diccionarios de Python.  \n"
   ]
  },
  {
   "cell_type": "markdown",
   "id": "be89b25c",
   "metadata": {},
   "source": [
    "\n",
    "Este enfoque transforma la lógica (a menudo abstracta) en una experiencia tangible y adaptable."
   ]
  },
  {
   "cell_type": "markdown",
   "id": "10e55ccf",
   "metadata": {},
   "source": [
    "# Método directo  Para formación de Licenciados en Matemáticas en el Campus Caucasia de la Universidad de Antioquia"
   ]
  },
  {
   "cell_type": "markdown",
   "id": "239427f7",
   "metadata": {},
   "source": [
    "# Presentación de la estructura de la clase  \n",
    "\n",
    "## **Diseño de Clase STEAMS con Enfoque ABPP: \"El Método de Demostración Directa en Geometría\"**  \n"
   ]
  },
  {
   "cell_type": "markdown",
   "id": "c6a82a1e",
   "metadata": {},
   "source": [
    "\n",
    "### **1. Título de la Clase:** *\"Demostración Directa en Geometría: Validando Supuestos con Python y Lógica\"*  \n",
    "\n",
    "---\n"
   ]
  },
  {
   "cell_type": "markdown",
   "id": "bc6f3252",
   "metadata": {},
   "source": [
    "\n",
    "## **2. Objetivos e Indicadores de Logro**  \n"
   ]
  },
  {
   "cell_type": "markdown",
   "id": "6ae1860e",
   "metadata": {},
   "source": [
    "**Objetivo Principal:**  \n"
   ]
  },
  {
   "cell_type": "markdown",
   "id": "34490f02",
   "metadata": {},
   "source": [
    "Aplicar el método de demostración directa para validar supuestos geométricos, integrando herramientas computacionales (Python, SymPy, Circuitos Lógicos, Casio Sencillita) y enfoques STEAMS.  \n"
   ]
  },
  {
   "cell_type": "markdown",
   "id": "0d38fc66",
   "metadata": {},
   "source": [
    "\n",
    "**Indicadores de Logro:**  \n",
    "- Identifica los pasos de una demostración directa en geometría euclidiana.  \n",
    "- Modela problemas geométricos usando SymPy, GeoGebra y visualizaciones interactivas.  \n",
    "- Diseña circuitos lógicos en Crocodile Clips que representen proposiciones geométricas.  \n",
    "- Analiza contextos cotidianos y deportivos aplicando lógica proposicional.  \n",
    "- Representa operadores con calculadora Casio (Sencillita)\n",
    "---\n"
   ]
  },
  {
   "cell_type": "markdown",
   "id": "497b408f",
   "metadata": {},
   "source": [
    "\n",
    "## **3. Mapa Conceptual (Graphviz)**  \n"
   ]
  },
  {
   "cell_type": "markdown",
   "id": "5f903a76",
   "metadata": {},
   "source": [
    "Aquí tienes el mapa conceptual en formato Graphviz con la estructura que solicitaste:\n"
   ]
  },
  {
   "cell_type": "code",
   "execution_count": 1,
   "id": "b7ac1d4f",
   "metadata": {},
   "outputs": [
    {
     "data": {
      "text/plain": [
       "'C:\\\\Users\\\\marco\\\\Downloads\\\\metodos_demostracion.gv.png'"
      ]
     },
     "execution_count": 1,
     "metadata": {},
     "output_type": "execute_result"
    }
   ],
   "source": [
    "\n",
    "from graphviz import Digraph\n",
    "\n",
    "# Crear grafo\n",
    "graph = Digraph('MetodosDemostracion', filename='C:/Users/marco/Downloads/metodos_demostracion.gv', format='png')\n",
    "graph.attr(overlap='scalexy', rankdir='TB', splines='true')\n",
    "\n",
    "# Configuración general de estilo\n",
    "graph.attr('node', fontname='Helvetica', fontsize='12')\n",
    "graph.attr('edge', fontname='Helvetica', fontsize='10')\n",
    "\n",
    "# Nodo raíz\n",
    "graph.node('RAIZ', 'Métodos de Demostración', shape='doublecircle', style='filled', color='lightblue2')\n",
    "\n",
    "# Nodos principales\n",
    "graph.node('DEDUCTIVOS', 'Métodos Deductivos', shape='ellipse', style='filled', color='lightblue')\n",
    "graph.node('INDUCTIVOS', 'Métodos Inductivos', shape='ellipse', style='filled', color='lightpink')\n",
    "\n",
    "# Subnodos deductivos\n",
    "graph.node('DIRECTO', 'Directo', shape='box', style='rounded,filled', color='lightblue3')\n",
    "graph.node('INDIRECTO', 'Indirecto', shape='box', style='rounded,filled', color='lightblue3')\n",
    "\n",
    "# Subnodos indirectos\n",
    "graph.node('ABSURDO', 'Reducción al Absurdo', shape='note', color='plum')\n",
    "graph.node('CONTRARECIPROCO', 'Contrarrecíproco', shape='note', color='plum')\n",
    "\n",
    "# Subnodos inductivos\n",
    "graph.node('INDUCCION', 'Inducción Matemática', shape='component', color='tan')\n",
    "graph.node('EMPIRICO', 'Empírico/Experimental', shape='component', color='tan')\n",
    "\n",
    "# Conexiones principales\n",
    "graph.edge('RAIZ', 'DEDUCTIVOS')\n",
    "graph.edge('RAIZ', 'INDUCTIVOS')\n",
    "\n",
    "# Conexiones deductivos\n",
    "graph.edge('DEDUCTIVOS', 'DIRECTO')\n",
    "graph.edge('DEDUCTIVOS', 'INDIRECTO')\n",
    "\n",
    "# Conexiones indirectos\n",
    "graph.edge('INDIRECTO', 'ABSURDO')\n",
    "graph.edge('INDIRECTO', 'CONTRARECIPROCO')\n",
    "\n",
    "# Conexiones inductivos\n",
    "graph.edge('INDUCTIVOS', 'INDUCCION')\n",
    "graph.edge('INDUCTIVOS', 'EMPIRICO')\n",
    "\n",
    "# Ejemplos y conexiones adicionales\n",
    "graph.node('EJ_DIRECTO', 'Ej: A→B→C ∴ A→C', shape='plaintext')\n",
    "graph.node('EJ_ABSURDO', 'Ej: ¬P lleva a contradicción ∴ P', shape='plaintext')\n",
    "graph.node('EJ_CONTRARECIPROCO', 'Ej: P→Q ≡ ¬Q→¬P', shape='plaintext')\n",
    "graph.node('EJ_INDUCCION', 'Ej: Base + Paso inductivo', shape='plaintext')\n",
    "\n",
    "graph.edge('DIRECTO', 'EJ_DIRECTO', style='dashed')\n",
    "graph.edge('ABSURDO', 'EJ_ABSURDO', style='dashed')\n",
    "graph.edge('CONTRARECIPROCO', 'EJ_CONTRARECIPROCO', style='dashed')\n",
    "graph.edge('INDUCCION', 'EJ_INDUCCION', style='dashed')\n",
    "\n",
    "# Renderizar\n",
    "graph.render(view=True, directory=r\"C:/Users/marco/Downloads\")\n",
    "\n"
   ]
  },
  {
   "cell_type": "markdown",
   "id": "f6e2fe1c",
   "metadata": {},
   "source": [
    "\n",
    "Este código generará un mapa conceptual que incluye:\n",
    "1. La clasificación principal entre métodos deductivos e inductivos\n",
    "2. Subdivisión de deductivos en directos e indirectos\n",
    "3. Subdivisión de indirectos en reducción al absurdo y contrarrecíproco\n",
    "4. Ejemplos de cada método\n",
    "5. Estilo visual similar al ejemplo que proporcionaste, con colores y formas variadas\n",
    "\n",
    "Puedes ajustar los colores, formas o añadir más ejemplos según tus necesidades. El gráfico se generará en formato PNG en la ubicación especificada."
   ]
  },
  {
   "cell_type": "code",
   "execution_count": 3,
   "id": "49107f65",
   "metadata": {},
   "outputs": [
    {
     "data": {
      "text/plain": [
       "'C:\\\\Users\\\\marco\\\\Downloads\\\\demo_directa.gv.png'"
      ]
     },
     "execution_count": 3,
     "metadata": {},
     "output_type": "execute_result"
    }
   ],
   "source": [
    "from graphviz import Digraph\n",
    "\n",
    "# Crear grafo\n",
    "graph = Digraph('DemoDirecta', filename='C:/Users/marco/Downloads/demo_directa.gv', format='png')\n",
    "graph.attr(overlap='scalexy', rankdir='TB', splines='true')\n",
    "\n",
    "# Nodos principales\n",
    "graph.node('A', 'Método de Demostración Directa', shape='ellipse', style='filled', color='lightblue2')\n",
    "graph.node('B', 'STEAM', shape='doubleoctagon', color='gold')\n",
    "graph.node('C', 'ABPP', shape='box3d', color='coral')\n",
    "\n",
    "# Subnodos\n",
    "graph.node('D', 'Geometría Euclidiana', shape='note', color='plum')\n",
    "graph.node('E', 'Lógica Proposicional', shape='component', color='tan')\n",
    "graph.node('F', 'Python (SymPy/Matplotlib)', shape='hexagon', color='lightgreen')\n",
    "graph.node('G', 'Circuitos Lógicos', shape='cds', color='salmon')\n",
    "\n",
    "# Conexiones\n",
    "graph.edges(['AB', 'AC', 'AD', 'AE', 'AF', 'AG'])\n",
    "graph.edge('D', 'E', label='Axiomas → Teoremas', style='dashed')\n",
    "graph.edge('F', 'G', label='Modelación', color='red:blue')\n",
    "\n",
    "# Renderizar\n",
    "graph.render(view=True, directory= r\"C:/Users/marco/Downloads\")\n",
    "\n"
   ]
  },
  {
   "cell_type": "code",
   "execution_count": null,
   "id": "64c40d53",
   "metadata": {},
   "outputs": [],
   "source": []
  },
  {
   "cell_type": "markdown",
   "id": "50719002",
   "metadata": {},
   "source": [
    "\n",
    "## **4. Contenido de la Clase**  \n"
   ]
  },
  {
   "cell_type": "markdown",
   "id": "56884290",
   "metadata": {},
   "source": [
    "### **4.1. Fundamentos Teóricos**  \n"
   ]
  },
  {
   "cell_type": "markdown",
   "id": "93306e57",
   "metadata": {},
   "source": [
    "- **Demostración Directa:**  \n",
    "  Dado un Implicación $P \\implies Q$, se construye una cadena lógica desde $P$ hasta $Q$ usando axiomas, definiciones y Teoremas.  \n",
    "  Ejemplo: *\"Si un triángulo es isósceles, entonces tiene dos ángulos iguales.\"*  \n"
   ]
  },
  {
   "cell_type": "markdown",
   "id": "bf77085c",
   "metadata": {},
   "source": [
    "\n",
    "- **Herramientas Computacionales:** "
   ]
  },
  {
   "cell_type": "code",
   "execution_count": 8,
   "id": "50e1adb6",
   "metadata": {},
   "outputs": [
    {
     "data": {
      "text/latex": [
       "$\\displaystyle P \\Rightarrow Q$"
      ],
      "text/plain": [
       "Implies(P, Q)"
      ]
     },
     "execution_count": 8,
     "metadata": {},
     "output_type": "execute_result"
    }
   ],
   "source": [
    "from sympy import symbols, Implies, Equivalent\n",
    "P, Q = symbols('P Q') # Definir las variables \n",
    "demostracion = Implies(P, Q)  # P → Q, con notación funcional\n",
    "demostracion\n",
    "\n"
   ]
  },
  {
   "cell_type": "markdown",
   "id": "49c26f1e",
   "metadata": {},
   "source": [
    "\n",
    "### **4.2. Visualización con Python**  \n",
    "**Animación de Teorema de Pitágoras:** "
   ]
  },
  {
   "cell_type": "code",
   "execution_count": 10,
   "id": "bd7d7cbc",
   "metadata": {},
   "outputs": [
    {
     "data": {
      "text/html": [
       "\n",
       "<link rel=\"stylesheet\"\n",
       "href=\"https://maxcdn.bootstrapcdn.com/font-awesome/4.4.0/css/font-awesome.min.css\">\n",
       "<script language=\"javascript\">\n",
       "  function isInternetExplorer() {\n",
       "    ua = navigator.userAgent;\n",
       "    /* MSIE used to detect old browsers and Trident used to newer ones*/\n",
       "    return ua.indexOf(\"MSIE \") > -1 || ua.indexOf(\"Trident/\") > -1;\n",
       "  }\n",
       "\n",
       "  /* Define the Animation class */\n",
       "  function Animation(frames, img_id, slider_id, interval, loop_select_id){\n",
       "    this.img_id = img_id;\n",
       "    this.slider_id = slider_id;\n",
       "    this.loop_select_id = loop_select_id;\n",
       "    this.interval = interval;\n",
       "    this.current_frame = 0;\n",
       "    this.direction = 0;\n",
       "    this.timer = null;\n",
       "    this.frames = new Array(frames.length);\n",
       "\n",
       "    for (var i=0; i<frames.length; i++)\n",
       "    {\n",
       "     this.frames[i] = new Image();\n",
       "     this.frames[i].src = frames[i];\n",
       "    }\n",
       "    var slider = document.getElementById(this.slider_id);\n",
       "    slider.max = this.frames.length - 1;\n",
       "    if (isInternetExplorer()) {\n",
       "        // switch from oninput to onchange because IE <= 11 does not conform\n",
       "        // with W3C specification. It ignores oninput and onchange behaves\n",
       "        // like oninput. In contrast, Microsoft Edge behaves correctly.\n",
       "        slider.setAttribute('onchange', slider.getAttribute('oninput'));\n",
       "        slider.setAttribute('oninput', null);\n",
       "    }\n",
       "    this.set_frame(this.current_frame);\n",
       "  }\n",
       "\n",
       "  Animation.prototype.get_loop_state = function(){\n",
       "    var button_group = document[this.loop_select_id].state;\n",
       "    for (var i = 0; i < button_group.length; i++) {\n",
       "        var button = button_group[i];\n",
       "        if (button.checked) {\n",
       "            return button.value;\n",
       "        }\n",
       "    }\n",
       "    return undefined;\n",
       "  }\n",
       "\n",
       "  Animation.prototype.set_frame = function(frame){\n",
       "    this.current_frame = frame;\n",
       "    document.getElementById(this.img_id).src =\n",
       "            this.frames[this.current_frame].src;\n",
       "    document.getElementById(this.slider_id).value = this.current_frame;\n",
       "  }\n",
       "\n",
       "  Animation.prototype.next_frame = function()\n",
       "  {\n",
       "    this.set_frame(Math.min(this.frames.length - 1, this.current_frame + 1));\n",
       "  }\n",
       "\n",
       "  Animation.prototype.previous_frame = function()\n",
       "  {\n",
       "    this.set_frame(Math.max(0, this.current_frame - 1));\n",
       "  }\n",
       "\n",
       "  Animation.prototype.first_frame = function()\n",
       "  {\n",
       "    this.set_frame(0);\n",
       "  }\n",
       "\n",
       "  Animation.prototype.last_frame = function()\n",
       "  {\n",
       "    this.set_frame(this.frames.length - 1);\n",
       "  }\n",
       "\n",
       "  Animation.prototype.slower = function()\n",
       "  {\n",
       "    this.interval /= 0.7;\n",
       "    if(this.direction > 0){this.play_animation();}\n",
       "    else if(this.direction < 0){this.reverse_animation();}\n",
       "  }\n",
       "\n",
       "  Animation.prototype.faster = function()\n",
       "  {\n",
       "    this.interval *= 0.7;\n",
       "    if(this.direction > 0){this.play_animation();}\n",
       "    else if(this.direction < 0){this.reverse_animation();}\n",
       "  }\n",
       "\n",
       "  Animation.prototype.anim_step_forward = function()\n",
       "  {\n",
       "    this.current_frame += 1;\n",
       "    if(this.current_frame < this.frames.length){\n",
       "      this.set_frame(this.current_frame);\n",
       "    }else{\n",
       "      var loop_state = this.get_loop_state();\n",
       "      if(loop_state == \"loop\"){\n",
       "        this.first_frame();\n",
       "      }else if(loop_state == \"reflect\"){\n",
       "        this.last_frame();\n",
       "        this.reverse_animation();\n",
       "      }else{\n",
       "        this.pause_animation();\n",
       "        this.last_frame();\n",
       "      }\n",
       "    }\n",
       "  }\n",
       "\n",
       "  Animation.prototype.anim_step_reverse = function()\n",
       "  {\n",
       "    this.current_frame -= 1;\n",
       "    if(this.current_frame >= 0){\n",
       "      this.set_frame(this.current_frame);\n",
       "    }else{\n",
       "      var loop_state = this.get_loop_state();\n",
       "      if(loop_state == \"loop\"){\n",
       "        this.last_frame();\n",
       "      }else if(loop_state == \"reflect\"){\n",
       "        this.first_frame();\n",
       "        this.play_animation();\n",
       "      }else{\n",
       "        this.pause_animation();\n",
       "        this.first_frame();\n",
       "      }\n",
       "    }\n",
       "  }\n",
       "\n",
       "  Animation.prototype.pause_animation = function()\n",
       "  {\n",
       "    this.direction = 0;\n",
       "    if (this.timer){\n",
       "      clearInterval(this.timer);\n",
       "      this.timer = null;\n",
       "    }\n",
       "  }\n",
       "\n",
       "  Animation.prototype.play_animation = function()\n",
       "  {\n",
       "    this.pause_animation();\n",
       "    this.direction = 1;\n",
       "    var t = this;\n",
       "    if (!this.timer) this.timer = setInterval(function() {\n",
       "        t.anim_step_forward();\n",
       "    }, this.interval);\n",
       "  }\n",
       "\n",
       "  Animation.prototype.reverse_animation = function()\n",
       "  {\n",
       "    this.pause_animation();\n",
       "    this.direction = -1;\n",
       "    var t = this;\n",
       "    if (!this.timer) this.timer = setInterval(function() {\n",
       "        t.anim_step_reverse();\n",
       "    }, this.interval);\n",
       "  }\n",
       "</script>\n",
       "\n",
       "<style>\n",
       ".animation {\n",
       "    display: inline-block;\n",
       "    text-align: center;\n",
       "}\n",
       "input[type=range].anim-slider {\n",
       "    width: 374px;\n",
       "    margin-left: auto;\n",
       "    margin-right: auto;\n",
       "}\n",
       ".anim-buttons {\n",
       "    margin: 8px 0px;\n",
       "}\n",
       ".anim-buttons button {\n",
       "    padding: 0;\n",
       "    width: 36px;\n",
       "}\n",
       ".anim-state label {\n",
       "    margin-right: 8px;\n",
       "}\n",
       ".anim-state input {\n",
       "    margin: 0;\n",
       "    vertical-align: middle;\n",
       "}\n",
       "</style>\n",
       "\n",
       "<div class=\"animation\">\n",
       "  <img id=\"_anim_img697fa585fbf04538b162627474a75cd3\">\n",
       "  <div class=\"anim-controls\">\n",
       "    <input id=\"_anim_slider697fa585fbf04538b162627474a75cd3\" type=\"range\" class=\"anim-slider\"\n",
       "           name=\"points\" min=\"0\" max=\"1\" step=\"1\" value=\"0\"\n",
       "           oninput=\"anim697fa585fbf04538b162627474a75cd3.set_frame(parseInt(this.value));\">\n",
       "    <div class=\"anim-buttons\">\n",
       "      <button title=\"Decrease speed\" aria-label=\"Decrease speed\" onclick=\"anim697fa585fbf04538b162627474a75cd3.slower()\">\n",
       "          <i class=\"fa fa-minus\"></i></button>\n",
       "      <button title=\"First frame\" aria-label=\"First frame\" onclick=\"anim697fa585fbf04538b162627474a75cd3.first_frame()\">\n",
       "        <i class=\"fa fa-fast-backward\"></i></button>\n",
       "      <button title=\"Previous frame\" aria-label=\"Previous frame\" onclick=\"anim697fa585fbf04538b162627474a75cd3.previous_frame()\">\n",
       "          <i class=\"fa fa-step-backward\"></i></button>\n",
       "      <button title=\"Play backwards\" aria-label=\"Play backwards\" onclick=\"anim697fa585fbf04538b162627474a75cd3.reverse_animation()\">\n",
       "          <i class=\"fa fa-play fa-flip-horizontal\"></i></button>\n",
       "      <button title=\"Pause\" aria-label=\"Pause\" onclick=\"anim697fa585fbf04538b162627474a75cd3.pause_animation()\">\n",
       "          <i class=\"fa fa-pause\"></i></button>\n",
       "      <button title=\"Play\" aria-label=\"Play\" onclick=\"anim697fa585fbf04538b162627474a75cd3.play_animation()\">\n",
       "          <i class=\"fa fa-play\"></i></button>\n",
       "      <button title=\"Next frame\" aria-label=\"Next frame\" onclick=\"anim697fa585fbf04538b162627474a75cd3.next_frame()\">\n",
       "          <i class=\"fa fa-step-forward\"></i></button>\n",
       "      <button title=\"Last frame\" aria-label=\"Last frame\" onclick=\"anim697fa585fbf04538b162627474a75cd3.last_frame()\">\n",
       "          <i class=\"fa fa-fast-forward\"></i></button>\n",
       "      <button title=\"Increase speed\" aria-label=\"Increase speed\" onclick=\"anim697fa585fbf04538b162627474a75cd3.faster()\">\n",
       "          <i class=\"fa fa-plus\"></i></button>\n",
       "    </div>\n",
       "    <form title=\"Repetition mode\" aria-label=\"Repetition mode\" action=\"#n\" name=\"_anim_loop_select697fa585fbf04538b162627474a75cd3\"\n",
       "          class=\"anim-state\">\n",
       "      <input type=\"radio\" name=\"state\" value=\"once\" id=\"_anim_radio1_697fa585fbf04538b162627474a75cd3\"\n",
       "             >\n",
       "      <label for=\"_anim_radio1_697fa585fbf04538b162627474a75cd3\">Once</label>\n",
       "      <input type=\"radio\" name=\"state\" value=\"loop\" id=\"_anim_radio2_697fa585fbf04538b162627474a75cd3\"\n",
       "             checked>\n",
       "      <label for=\"_anim_radio2_697fa585fbf04538b162627474a75cd3\">Loop</label>\n",
       "      <input type=\"radio\" name=\"state\" value=\"reflect\" id=\"_anim_radio3_697fa585fbf04538b162627474a75cd3\"\n",
       "             >\n",
       "      <label for=\"_anim_radio3_697fa585fbf04538b162627474a75cd3\">Reflect</label>\n",
       "    </form>\n",
       "  </div>\n",
       "</div>\n",
       "\n",
       "\n",
       "<script language=\"javascript\">\n",
       "  /* Instantiate the Animation class. */\n",
       "  /* The IDs given should match those used in the template above. */\n",
       "  (function() {\n",
       "    var img_id = \"_anim_img697fa585fbf04538b162627474a75cd3\";\n",
       "    var slider_id = \"_anim_slider697fa585fbf04538b162627474a75cd3\";\n",
       "    var loop_select_id = \"_anim_loop_select697fa585fbf04538b162627474a75cd3\";\n",
       "    var frames = new Array(5);\n",
       "    \n",
       "  frames[0] = \"data:image/png;base64,iVBORw0KGgoAAAANSUhEUgAAAlgAAAJYCAYAAAC+ZpjcAAAAOnRFWHRTb2Z0d2FyZQBNYXRwbG90\\\n",
       "bGliIHZlcnNpb24zLjEwLjEsIGh0dHBzOi8vbWF0cGxvdGxpYi5vcmcvc2/+5QAAAAlwSFlzAAAP\\\n",
       "YQAAD2EBqD+naQAAGHdJREFUeJzt3X2IVnXe+PHPZNPYlNo61TriQ+0uJhoaZYVsG1paSLi5f0UF\\\n",
       "tRL7x2KxEcGu/7QOtCgsRAu5ruyTf4nuBhoEGm7rA7FJqQQW1Ga0aLtjbiOOTzQOOj/O4afkQ/d6\\\n",
       "3/dnzuG+zusFh5nraia+fvS65j3nnOtcbUNDQ0MBAECaK/L+VwAAFAQWAEAygQUAkExgAQAkE1gA\\\n",
       "AMkEFgBAMoEFAJBMYAEAJBNYAADJBBYAQDKBBQCQTGABACQTWAAAyQQWAEAygQUAkExgAQAkE1gA\\\n",
       "AMkEFgBAMoEFAJBMYAEAJBNYAADJBBYAQDKBBQCQTGABACQTWAAAyQQWAEAygQUAkExgAQAkE1gA\\\n",
       "AMkEFgBAMoEFAJBMYAEAJBNYAADJBBYAQDKBBQCQTGABACQTWAAAyQQWAEAygQUAkExgAQAkE1gA\\\n",
       "AMkEFgBAMoEFAJBMYAEAJBNYAADJBBYAQDKBBQCQTGABACQTWAAAyQQWAEAygQUAkExgAQAkE1gA\\\n",
       "AMkEFgBAMoEFAJBMYAEAJBNYAADJBBYAQDKBBQCQTGABACQTWAAAyQQWAEAygQUAkExgAQAkE1gA\\\n",
       "AMkEFgBAMoEFAJCsMYG1bNmyaGtrO2+bOnVq3csCAFrQldEg06dPj7/85S/nbl95ZaP++ABARRpV\\\n",
       "GEVQjRs3ru5lAAAtrlGB9fHHH8f48eNj5MiRMXv27Fi+fHlMmjTpkl87MDBQbmedOXMmDh8+HF1d\\\n",
       "XeXhRQDg8gwNDcWxY8fKn8FXXNGMs5Pahoo/dQNs2rQpjh8/Hrfcckv09vZGT09P/POf/4z3338/\\\n",
       "Ro0adclztoqvAQByHDhwICZMmBBN0JjAutCRI0di8uTJ8dJLL8VTTz31H/dg9ff3l3u7/v73v8fY\\\n",
       "sWMrXm0zDQ4OxtatW2Pu3LnR3t5e93IawcyrZ+bVM/PqHT58OKZMmVL+7B0zZkw0QaMOEX7Vdddd\\\n",
       "V/5l79u375L/vaOjo9wuVMRVcZiQap4EOzs7y3l7EqyGmVfPzKtn5vVpa9ApNs04EHoJxeHCTz75\\\n",
       "JLq7u+teCgDQYhoTWM8//3xs3749/vGPf8Tf/va3+MEPfhAjRoyIRx99tO6lAQAtpjGHCD/77LMy\\\n",
       "pvr6+uKGG26Ie+65J3bu3Fl+DgCQqTGBtW7durqXAAA0RGMOEQIAVEVgAQAkE1gAAMkEFgBAMoEF\\\n",
       "AJBMYAEAJBNYAADJBBYAQDKBBQCQTGABACQTWAAAyQQWAEAygQUAkExgAQAkE1gAAMkEFgBAMoEF\\\n",
       "AJBMYAEAJBNYAADJBBYAQDKBBQCQTGABACQTWAAAyQQWAEAygQUAkExgAQAkE1gAAMkEFgBAMoEF\\\n",
       "AJBMYAEAJBNYAADJBBYAQDKBBQCQTGABACQTWAAAyQQWAEAygQUAkExgAQAkE1gAAMkEFgBAMoEF\\\n",
       "AJBMYAEAJBNYAADJBBYAQDKBBQCQTGABACQTWAAAyQQWAEAygQUAkExgAQAkE1gAAMkEFgBAMoEF\\\n",
       "AJBMYAEAJBNYAADJBBYAQDKBBQCQTGABACQTWAAAyQQWAEAygQUAkExgAQAkE1gAAMkEFgBAMoEF\\\n",
       "AJBMYAEAJBNYAADJBBYAQDKBBQCQTGABACQTWAAAyQQWAEAygQUAkExgAQAkE1gAAMkEFgBAMoEF\\\n",
       "AJBMYAEAJBNYAADJBBYAQDKBBQCQrJGBtWLFimhra4tnn3227qUAAC2ocYH17rvvxurVq2PGjBl1\\\n",
       "LwUAaFGNCqzjx4/H448/Hr/97W/jG9/4Rt3LAQBa1JXRIEuWLImHHnoo5s2bFy+++OJ/+bUDAwPl\\\n",
       "dtbRo0fLj4ODg+XG8Ds7Z/OujplXz8yrZ+bVG2zgrBsTWOvWrYs9e/aUhwgvx/Lly6Onp+ei+7du\\\n",
       "3RqdnZ3DsEK+zpYtW+peQuOYefXMvHpmXp2TJ09G07QNDQ0NRYs7cOBAzJo1q3wwnT33as6cOXHb\\\n",
       "bbfFyy+/fNl7sCZOnBi9vb3R1dVV2dqb/htP8Xc2f/78aG9vr3s5jWDm1TPz6pl59fr6+qK7uzv6\\\n",
       "+/tj9OjR0QSN2IO1e/fuOHToUNx+++3n7jt9+nTs2LEjXnnllTKkRowYcd73dHR0lNuFigejB2S1\\\n",
       "zLx6Zl49M6+emVenvYFzbkRg3X///bF3797z7lu8eHFMnTo1fvrTn14UVwAA/xuNCKxRo0bFrbfe\\\n",
       "et5911xzTXmo78L7AQD+txp1mQYAgCo0Yg/WpWzbtq3uJQAALcoeLACAZAILACCZwAIASCawAACS\\\n",
       "CSwAgGQCCwAgmcACAEgmsAAAkgksAIBkAgsAIJnAAgBIJrAAAJIJLACAZAILACCZwAIASCawAACS\\\n",
       "CSwAgGQCCwAgmcACAEgmsAAAkgksAIBkAgsAIJnAAgBIJrAAAJIJLACAZAILACCZwAIASCawAACS\\\n",
       "CSwAgGQCCwAgmcACAEgmsAAAkgksAIBkAgsAIJnAAgBIJrAAAJIJLACAZAILACCZwAIASCawAACS\\\n",
       "CSwAgGQCCwAgmcACAEgmsAAAkgksAIBkAgsAIJnAAgBIJrAAAJIJLACAZAILACCZwAIASCawAACS\\\n",
       "CSwAgGQCCwAgmcACAEgmsAAAkgksAIBkAgsAIJnAAgBIJrAAAJIJLACAZAILACCZwAIASCawAACS\\\n",
       "CSwAgGQCCwAgmcACAEgmsAAAkgksAIBkAgsAIJnAAgBIJrAAAJIJLACAZAILACCZwAIASCawAACS\\\n",
       "CSwAgGQCCwAgmcACAEgmsAAAkgksAIBkjQmsVatWxYwZM2L06NHlNnv27Ni0aVPdywIAWlBjAmvC\\\n",
       "hAmxYsWK2L17d+zatSvuu+++ePjhh+ODDz6oe2kAQIu5Mhpi4cKF593+xS9+Ue7V2rlzZ0yfPr22\\\n",
       "dQEAracxgfVVp0+fjj//+c9x4sSJ8lAhAECmRgXW3r17y6D68ssv49prr40NGzbEtGnTLvm1AwMD\\\n",
       "5XbW0aNHy4+Dg4PlxvA7O2fzro6ZV8/Mq2fm1Rts4KzbhoaGhqIhTp06Ffv374/+/v549dVX43e/\\\n",
       "+11s3779kpG1bNmy6Onpuej+tWvXRmdnZ0UrBoD/+06ePBmPPfZY+fO3eKFZEzQqsC40b968+Pa3\\\n",
       "vx2rV6++rD1YEydOjN7e3ujq6qp4pc39jWfLli0xf/78aG9vr3s5jWDm1TPz6pl59fr6+qK7u7tR\\\n",
       "gdWoQ4QXOnPmzHkR9VUdHR3ldqHiwegBWS0zr56ZV8/Mq2fm1Wlv4JwbE1hLly6NBQsWxKRJk+LY\\\n",
       "sWPlob5t27bFG2+8UffSAIAW05jAOnToUDzxxBPlIb4xY8aUFx0t4qrYRQwAkKkxgfX73/++7iUA\\\n",
       "AA3RmCu5AwBURWABACQTWAAAyQQWAEAygQUAkExgAQAkE1gAAMkEFgBAMoEFAJBMYAEAJBNYAADJ\\\n",
       "BBYAQDKBBQCQTGABACQTWAAAyQQWAEAygQUAkExgAQAkE1gAAMkEFgBAMoEFAJBMYAEAJBNYAADJ\\\n",
       "BBYAQDKBBQCQTGABACQTWAAAyQQWAEAygQUAkExgAQAkE1gAAMkEFgBAMoEFAJBMYAEAJBNYAADJ\\\n",
       "BBYAQDKBBQCQTGABACQTWAAAyQQWAEAygQUAkExgAQAkE1gAAMkEFgBAMoEFAJBMYAEAJBNYAADJ\\\n",
       "BBYAQDKBBQCQTGABACQTWAAAyQQWAEAygQUAkExgAQAkE1gAAMkEFgBAMoEFAJBMYAEAJBNYAADJ\\\n",
       "BBYAQDKBBQCQTGABACQTWAAAyQQWAEAygQUAkExgAQAkE1gAAMkEFgBAMoEFAJBMYAEAJBNYAADJ\\\n",
       "BBYAQDKBBQCQTGABACQTWAAAyQQWAEAygQUAkExgAQAkE1gAAMkEFgBAMoEFAJBMYAEAJGtMYC1f\\\n",
       "vjzuvPPOGDVqVNx4442xaNGi+Oijj+peFgDQghoTWNu3b48lS5bEzp07Y8uWLTE4OBgPPPBAnDhx\\\n",
       "ou6lAQAt5spoiM2bN593e82aNeWerN27d8e9995b27oAgNbTmMC6UH9/f/lx7Nixl/zvAwMD5XbW\\\n",
       "0aNHy4/Fnq9iY/idnbN5V8fMq2fm1TPz6g02cNZtQ0NDQ9EwZ86cie9///tx5MiReOutty75NcuW\\\n",
       "LYuenp6L7l+7dm10dnZWsEoAaA0nT56Mxx57rNy5MXr06GiCRgbWj3/849i0aVMZVxMmTLjsPVgT\\\n",
       "J06M3t7e6OrqqnC1zf6Npzhfbv78+dHe3l73chrBzKtn5tUz8+r19fVFd3d3owKrcYcIn3766Xj9\\\n",
       "9ddjx44dXxtXhY6OjnK7UPFg9ICslplXz8yrZ+bVM/PqtDdwzo0JrGJH3TPPPBMbNmyIbdu2xc03\\\n",
       "31z3kgCAFtWYwCou0VCcP/Xaa6+V18I6ePBgef+YMWPi6quvrnt5AEALacx1sFatWlUe+50zZ055\\\n",
       "HPjstn79+rqXBgC0mMbswWrgufwAQE0aswcLAKAqAgsAIJnAAgBIJrAAAJIJLACAZAILACCZwAIA\\\n",
       "SCawAACSCSwAgGQCCwAgmcACAEgmsAAAkgksAIBkAgsAIJnAAgBIJrAAAJIJLACAZAILACCZwAIA\\\n",
       "SCawAACSCSwAgGQCCwAgmcACAEgmsAAAkgksAIBkAgsAIJnAAgBIJrAAAJIJLACAZAILACCZwAIA\\\n",
       "SCawAACSCSwAgGQCCwAgmcACAEgmsAAAkgksAIBkAgsAIJnAAgBIJrAAAJIJLACAZAILACCZwAIA\\\n",
       "SCawAACSCSwAgGQCCwAgmcACAEgmsAAAkgksAIBkAgsAIJnAAgBIJrAAAJIJLACAZAILACCZwAIA\\\n",
       "SCawAACSCSwAgGQCCwAgmcACAEgmsAAAkgksAIBkAgsAIJnAAgBIJrAAAJIJLACAZAILACCZwAIA\\\n",
       "SCawAACSCSwAgGQCCwAgmcACAEgmsAAAkgksAIBkAgsAIJnAAgBIJrAAAJIJLACAZAILACCZwAIA\\\n",
       "SCawAACSCSwAgGSNCawdO3bEwoULY/z48dHW1hYbN26se0kAQItqTGCdOHEiZs6cGStXrqx7KQBA\\\n",
       "i7syGmLBggXlBgAw3BqzBwsAoCqN2YP13zUwMFBuZx09erT8ODg4WG4Mv7NzNu/qmHn1zLx6Zl69\\\n",
       "wQbOWmB9jeXLl0dPT89F92/dujU6OztrWVNTbdmype4lNI6ZV8/Mq2fm1Tl58mQ0TdvQ0NBQNEzx\\\n",
       "KsINGzbEokWL/lt7sCZOnBi9vb3R1dVV0UqbrfiNp3gCnD9/frS3t9e9nEYw8+qZefXMvHp9fX3R\\\n",
       "3d0d/f39MXr06GgCe7C+RkdHR7ldqHgwekBWy8yrZ+bVM/PqmXl12hs458YE1vHjx2Pfvn3nbn/6\\\n",
       "6afx3nvvxdixY2PSpEm1rg0AaC2NCaxdu3bF3Llzz91+7rnnyo9PPvlkrFmzpsaVAQCtpjGBNWfO\\\n",
       "nGjg6WYAQA1cBwsAIJnAAgBIJrAAAJIJLACAZAILACCZwAIASCawAACSCSwAgGQCCwAgmcACAEgm\\\n",
       "sAAAkgksAIBkAgsAIJnAAgBIJrAAAJIJLACAZAILACCZwAIASCawAACSCSwAgGQCCwAgmcACAEgm\\\n",
       "sAAAkgksAIBkAgsAIJnAAgBIJrAAAJIJLACAZAILACCZwAIASCawAACSCSwAgGQCCwAgmcACAEgm\\\n",
       "sAAAkgksAIBkAgsAIJnAAgBIJrAAAJIJLACAZAILACCZwAIASCawAACSCSwAgGQCCwAgmcACAEgm\\\n",
       "sAAAkgksAIBkAgsAIJnAAgBIJrAAAJIJLACAZAILACCZwAIASCawAACSCSwAgGQCCwAgmcACAEgm\\\n",
       "sAAAkgksAIBkAgsAIJnAAgBIJrAAAJIJLACAZAILACCZwAIASCawAACSCSwAgGQCCwAgmcACAEgm\\\n",
       "sAAAkgksAIBkAgsAIJnAAgBIJrAAAJIJLACAZAILACCZwAIASCawAACSCSwAgGQCCwAgmcACAEjW\\\n",
       "qMBauXJl3HTTTTFy5Mi4++6745133ql7SQBAC2pMYK1fvz6ee+65+PnPfx579uyJmTNnxoMPPhiH\\\n",
       "Dh2qe2kAQItpTGC99NJL8aMf/SgWL14c06ZNi9/85jfR2dkZf/jDH+peGgDQYq6MBjh16lTs3r07\\\n",
       "li5deu6+K664IubNmxdvv/32Jb9nYGCg3M7q7+8vPx4+fLiCFVMYHByMkydPRl9fX7S3t9e9nEYw\\\n",
       "8+qZefXMvHqH///PzqGhoWiKRgTWF198EadPn45vfvOb591f3P7www8v+T3Lly+Pnp6ei+6fMmXK\\\n",
       "sK0TAFpZX19fjBkzJpqgEYH1P1Hs7SrO2TrryJEjMXny5Ni/f39j/nHU7ejRozFx4sQ4cOBAjB49\\\n",
       "uu7lNIKZV8/Mq2fm1evv749JkybF2LFjoykaEVjXX399jBgxIj7//PPz7i9ujxs37pLf09HRUW4X\\\n",
       "KuLKA7JaxbzNvFpmXj0zr56ZV++KKxpz6nczTnK/6qqr4o477og333zz3H1nzpwpb8+ePbvWtQEA\\\n",
       "racRe7AKxeG+J598MmbNmhV33XVXvPzyy3HixInyVYUAAJkaE1iPPPJI/Pvf/44XXnghDh48GLfd\\\n",
       "dlts3rz5ohPfv05xuLC4htalDhsyPMy8emZePTOvnplXr6OBM28batJrJgEAKtCIc7AAAKoksAAA\\\n",
       "kgksAIBkAgsAIJnAukwrV66Mm266KUaOHBl33313vPPOO3UvqWXt2LEjFi5cGOPHj4+2trbYuHFj\\\n",
       "3UtqecVbQ915550xatSouPHGG2PRokXx0Ucf1b2slrZq1aqYMWPGuYtdFtfk27RpU93LaowVK1aU\\\n",
       "zy/PPvts3UtpacuWLSvn/NVt6tSp0QQC6zKsX7++vI5W8RLTPXv2xMyZM+PBBx+MQ4cO1b20llRc\\\n",
       "n6yYcRG1VGP79u2xZMmS2LlzZ2zZsqV8M9wHHnig/LtgeEyYMKH8IV+8Ef2uXbvivvvui4cffjg+\\\n",
       "+OCDupfW8t59991YvXp1GbgMv+nTp0dvb++57a233oomcJmGy1DssSp+u3/llVfOXQW+eB+rZ555\\\n",
       "Jn72s5/VvbyWVvy2s2HDhnKPCtUprhlX7Mkqwuvee++tezmNUbxP2y9/+ct46qmn6l5Kyzp+/Hjc\\\n",
       "fvvt8etf/zpefPHF8pqIxYWnGb49WBs3boz33nsvmsYerP/g1KlT5W+Y8+bNO++9lIrbb7/9dq1r\\\n",
       "g+F8Y9ZCk96YtU6nT5+OdevWlXsMvX3X8Cr21D700EPnPaczvD7++OPylI9vfetb8fjjj8f+/fuj\\\n",
       "CRpzJff/qS+++KJ88rvwiu/F7Q8//LC2dcFwKfbQFuelfPe7341bb7217uW0tL1795ZB9eWXX8a1\\\n",
       "115b7q2dNm1a3ctqWUXEFqd5FIcIqe4I0Jo1a+KWW24pDw/29PTE9773vXj//ffLcz5bmcACLvoN\\\n",
       "v3jya8p5EnUqfugUh06KPYavvvpq+X6pxWFZkZXvwIED8ZOf/KQ8x7B4sRLVWLBgwbnPi3PeiuCa\\\n",
       "PHly/OlPf2r5Q+EC6z+4/vrrY8SIEfH555+fd39xe9y4cbWtC4bD008/Ha+//nr5Ss7iJGyG11VX\\\n",
       "XRXf+c53ys/vuOOOcs/Kr371q/IEbHIVp3oUL0wqzr86qzg6UfxbL86vHRgYKJ/rGV7XXXddTJky\\\n",
       "Jfbt2xetzjlYl/EEWDzxvfnmm+cdQiluO1eCVlG81qWIq+IQ1V//+te4+eab615SIxXPLcUPevLd\\\n",
       "f//95SHZYo/h2W3WrFnlOUHF5+KquhcZfPLJJ9Hd3R2tzh6sy1BcoqHYdV88GO+6667yFSfFyaiL\\\n",
       "Fy+ue2kt+wD86m83n376afkEWJxwPWnSpFrX1sqHBdeuXRuvvfZaeV7EwYMHy/vHjBkTV199dd3L\\\n",
       "a0lLly4tD58U/6aPHTtWzn/btm3xxhtv1L20llT8u77wnMJrrrkmurq6nGs4jJ5//vnyuobFYcF/\\\n",
       "/etf5eWOiph99NFHo9UJrMvwyCOPlC9bf+GFF8ofPMXLejdv3nzRie/kKK4JNHfu3PMCt1BEbnGy\\\n",
       "JMNz0cvCnDlzzrv/j3/8Y/zwhz+saVWtrThc9cQTT5Qn/hYhW5yfUsTV/Pnz614apPnss8/KmOrr\\\n",
       "64sbbrgh7rnnnvJ6e8Xnrc51sAAAkjkHCwAgmcACAEgmsAAAkgksAIBkAgsAIJnAAgBIJrAAAJIJ\\\n",
       "LACAZAILACCZwAIASCawAACSCSwAgGQCCwAgmcACAEgmsAAAkgksAIBkAgsAIJnAAgBIJrAAAJIJ\\\n",
       "LACAZAILACCZwAIASCawAACSCSwAgGQCCwAgmcACAEgmsAAAkgksAIBkAgsAIJnAAgBIJrAAAJIJ\\\n",
       "LACAZAILACCZwAIASCawAACSCSwAgGQCCwAgmcACAEgmsAAAkgksAIBkAgsAIJnAAgBIJrAAAJIJ\\\n",
       "LACAyPX/ABcmns6LNRtIAAAAAElFTkSuQmCC\\\n",
       "\"\n",
       "  frames[1] = \"data:image/png;base64,iVBORw0KGgoAAAANSUhEUgAAAlgAAAJYCAYAAAC+ZpjcAAAAOnRFWHRTb2Z0d2FyZQBNYXRwbG90\\\n",
       "bGliIHZlcnNpb24zLjEwLjEsIGh0dHBzOi8vbWF0cGxvdGxpYi5vcmcvc2/+5QAAAAlwSFlzAAAP\\\n",
       "YQAAD2EBqD+naQAAGNBJREFUeJzt3W+MFfW9+PHPiusiClhQyxIWtDZKxYBR1JBaAwoaYqj0kVET\\\n",
       "LTF90KCpMSaVJ5ZNbCBpYmwipaT/eESgNQETGjDUCsRUokDMRXO1YmzAFqQuYYHd67KBvZm5gZ8g\\\n",
       "/sq997MzuWder2Syew4L+fKBc/a9M3PmtA0NDQ0FAABpLsr7owAAKAgsAIBkAgsAIJnAAgBIJrAA\\\n",
       "AJIJLACAZAILACCZwAIASCawAACSCSwAgGQCCwAgmcACAEgmsAAAkgksAIBkAgsAIJnAAgBIJrAA\\\n",
       "AJIJLACAZAILACCZwAIASCawAACSCSwAgGQCCwAgmcACAEgmsAAAkgksAIBkAgsAIJnAAgBIJrAA\\\n",
       "AJIJLACAZAILACCZwAIASCawAACSCSwAgGQCCwAgmcACAEgmsAAAkgksAIBkAgsAIJnAAgBIJrAA\\\n",
       "AJIJLACAZAILACCZwAIASCawAACSCSwAgGQCCwAgmcACAEgmsAAAkgksAIBkAgsAIJnAAgBIJrAA\\\n",
       "AJIJLACAZAILACCZwAIASCawAACSCSwAgGQCCwAgmcACAEgmsAAAkgksAIBkAgsAIJnAAgBIJrAA\\\n",
       "AJIJLACAZAILACBZYwJr6dKl0dbWdtY2derUupcFALSgi6NBpk2bFn/605/O3L744kb99QGAijSq\\\n",
       "MIqgmjBhQt3LAABaXKMC68MPP4yJEyfGyJEjY9asWbFs2bKYPHnyeb92YGCg3E47depUHD58OMaP\\\n",
       "H18eXgQALszQ0FAcO3as/B580UXNODupbaj4WzfApk2b4vjx43HDDTfEgQMHoru7O/7+97/Hu+++\\\n",
       "G6NHjz7vOVvF1wAAOfbv3x+TJk2KJmhMYJ3ryJEjMWXKlHjhhRfi8ccf/5d7sHp7e8u9XX/9619j\\\n",
       "3LhxFa+2mQYHB+P111+POXPmRHt7e93LaQQzr56ZV8/Mq3f48OG4/vrry++9Y8eOjSZo1CHCL7ri\\\n",
       "iivKf+y9e/ee99c7OjrK7VxFXBWHCanmSXDUqFHlvD0JVsPMq2fm1TPz+rQ16BSbZhwIPY/icOFH\\\n",
       "H30UnZ2ddS8FAGgxjQmsZ555JrZt2xZ/+9vf4i9/+Ut873vfixEjRsRDDz1U99IAgBbTmEOEn3zy\\\n",
       "SRlTPT09cdVVV8Wdd94ZO3bsKD8HAMjUmMBau3Zt3UsAABqiMYcIAQCqIrAAAJIJLACAZAILACCZ\\\n",
       "wAIASCawAACSCSwAgGQCCwAgmcACAEgmsAAAkgksAIBkAgsAIJnAAgBIJrAAAJIJLACAZAILACCZ\\\n",
       "wAIASCawAACSCSwAgGQCCwAgmcACAEgmsAAAkgksAIBkAgsAIJnAAgBIJrAAAJIJLACAZAILACCZ\\\n",
       "wAIASCawAACSCSwAgGQCCwAgmcACAEgmsAAAkgksAIBkAgsAIJnAAgBIJrAAAJIJLACAZAILACCZ\\\n",
       "wAIASCawAACSCSwAgGQCCwAgmcACAEgmsAAAkgksAIBkAgsAIJnAAgBIJrAAAJIJLACAZAILACCZ\\\n",
       "wAIASCawAACSCSwAgGQCCwAgmcACAEgmsAAAkgksAIBkAgsAIJnAAgBIJrAAAJIJLACAZAILACCZ\\\n",
       "wAIASCawAACSCSwAgGQCCwAgmcACAEgmsAAAkgksAIBkAgsAIJnAAgBIJrAAAJIJLACAZAILACCZ\\\n",
       "wAIASCawAACSCSwAgGQCCwAgmcACAEjWyMBavnx5tLW1xVNPPVX3UgCAFtS4wHr77bdj1apVMX36\\\n",
       "9LqXAgC0qEYF1vHjx+ORRx6JX/3qV/G1r32t7uUAAC3q4miQxYsXx/333x9z586N559//v/7tQMD\\\n",
       "A+V22tGjR8uPg4OD5cbwOz1n866OmVfPzKtn5tUbbOCsGxNYa9eujd27d5eHCC/EsmXLoru7+0v3\\\n",
       "v/766zFq1KhhWCFfZcuWLXUvoXHMvHpmXj0zr05/f380TdvQ0NBQtLj9+/fHzJkzywfT6XOvZs+e\\\n",
       "HTfffHO8+OKLF7wHq6urKw4cOBDjx4+vbO1N/4mn+DebN29etLe3172cRjDz6pl59cy8ej09PdHZ\\\n",
       "2Rm9vb0xZsyYaIJG7MHatWtXHDp0KG655ZYz9508eTK2b98eL730UhlSI0aMOOv3dHR0lNu5igej\\\n",
       "B2S1zLx6Zl49M6+emVenvYFzbkRg3XPPPbFnz56z7lu0aFFMnTo1fvzjH38prgAA/jcaEVijR4+O\\\n",
       "m2666az7LrvssvJQ37n3AwD8bzXqMg0AAFVoxB6s89m6dWvdSwAAWpQ9WAAAyQQWAEAygQUAkExg\\\n",
       "AQAkE1gAAMkEFgBAMoEFAJBMYAEAJBNYAADJBBYAQDKBBQCQTGABACQTWAAAyQQWAEAygQUAkExg\\\n",
       "AQAkE1gAAMkEFgBAMoEFAJBMYAEAJBNYAADJBBYAQDKBBQCQTGABACQTWAAAyQQWAEAygQUAkExg\\\n",
       "AQAkE1gAAMkEFgBAMoEFAJBMYAEAJBNYAADJBBYAQDKBBQCQTGABACQTWAAAyQQWAEAygQUAkExg\\\n",
       "AQAkE1gAAMkEFgBAMoEFAJBMYAEAJBNYAADJBBYAQDKBBQCQTGABACQTWAAAyQQWAEAygQUAkExg\\\n",
       "AQAkE1gAAMkEFgBAMoEFAJBMYAEAJBNYAADJBBYAQDKBBQCQTGABACQTWAAAyQQWAEAygQUAkExg\\\n",
       "AQAkE1gAAMkEFgBAMoEFAJBMYAEAJBNYAADJBBYAQDKBBQCQTGABACQTWAAAyQQWAEAygQUAkExg\\\n",
       "AQAkE1gAAMkEFgBAMoEFAJBMYAEAJBNYAADJGhNYK1eujOnTp8eYMWPKbdasWbFp06a6lwUAtKDG\\\n",
       "BNakSZNi+fLlsWvXrti5c2fcfffd8cADD8R7771X99IAgBZzcTTEggULzrr905/+tNyrtWPHjpg2\\\n",
       "bVpt6wIAWk9jAuuLTp48GX/4wx+ir6+vPFQIAJCpUYG1Z8+eMqg+//zzuPzyy2P9+vVx4403nvdr\\\n",
       "BwYGyu20o0ePlh8HBwfLjeF3es7mXR0zr56ZV8/MqzfYwFm3DQ0NDUVDnDhxIvbt2xe9vb3x8ssv\\\n",
       "x69//evYtm3beSNr6dKl0d3d/aX716xZE6NGjapoxQDwf19/f388/PDD5fff4oVmTdCowDrX3Llz\\\n",
       "47rrrotVq1Zd0B6srq6uOHDgQIwfP77ilTb3J54tW7bEvHnzor29ve7lNIKZV8/Mq2fm1evp6YnO\\\n",
       "zs5GBVajDhGe69SpU2dF1Bd1dHSU27mKB6MHZLXMvHpmXj0zr56ZV6e9gXNuTGAtWbIk5s+fH5Mn\\\n",
       "T45jx46Vh/q2bt0ar776at1LAwBaTGMC69ChQ/Hoo4+Wh/jGjh1bXnS0iKtiFzEAQKbGBNZvfvOb\\\n",
       "upcAADREY67kDgBQFYEFAJBMYAEAJBNYAADJBBYAQDKBBQCQTGABACQTWAAAyQQWAEAygQUAkExg\\\n",
       "AQAkE1gAAMkEFgBAMoEFAJBMYAEAJBNYAADJBBYAQDKBBQCQTGABACQTWAAAyQQWAEAygQUAkExg\\\n",
       "AQAkE1gAAMkEFgBAMoEFAJBMYAEAJBNYAADJBBYAQDKBBQCQTGABACQTWAAAyQQWAEAygQUAkExg\\\n",
       "AQAkE1gAAMkEFgBAMoEFAJBMYAEAJBNYAADJBBYAQDKBBQCQTGABACQTWAAAyQQWAEAygQUAkExg\\\n",
       "AQAkE1gAAMkEFgBAMoEFAJBMYAEAJBNYAADJBBYAQDKBBQCQTGABACQTWAAAyQQWAEAygQUAkExg\\\n",
       "AQAkE1gAAMkEFgBAMoEFAJBMYAEAJBNYAADJBBYAQDKBBQCQTGABACQTWAAAyQQWAEAygQUAkExg\\\n",
       "AQAkE1gAAMkEFgBAMoEFAJBMYAEAJBNYAADJBBYAQDKBBQCQTGABACQTWAAAyQQWAEAygQUAkKwx\\\n",
       "gbVs2bK47bbbYvTo0XH11VfHwoUL44MPPqh7WQBAC2pMYG3bti0WL14cO3bsiC1btsTg4GDce++9\\\n",
       "0dfXV/fSAIAWc3E0xObNm8+6vXr16nJP1q5du+Kuu+6qbV0AQOtpTGCdq7e3t/w4bty48/76wMBA\\\n",
       "uZ129OjR8mOx56vYGH6n52ze1THz6pl59cy8eoMNnHXb0NDQUDTMqVOn4rvf/W4cOXIk3njjjfN+\\\n",
       "zdKlS6O7u/tL969ZsyZGjRpVwSoBoDX09/fHww8/XO7cGDNmTDRBIwPrhz/8YWzatKmMq0mTJl3w\\\n",
       "Hqyurq44cOBAjB8/vsLVNvsnnuJ8uXnz5kV7e3vdy2kEM6+emVfPzKvX09MTnZ2djQqsxh0ifOKJ\\\n",
       "J2Ljxo2xffv2r4yrQkdHR7mdq3gwekBWy8yrZ+bVM/PqmXl12hs458YEVrGj7sknn4z169fH1q1b\\\n",
       "49prr617SQBAi2pMYBWXaCjOn3rllVfKa2EdPHiwvH/s2LFx6aWX1r08AKCFNOY6WCtXriyP/c6e\\\n",
       "Pbs8Dnx6W7duXd1LAwBaTGP2YDXwXH4AoCaN2YMFAFAVgQUAkExgAQAkE1gAAMkEFgBAMoEFAJBM\\\n",
       "YAEAJBNYAADJBBYAQDKBBQCQTGABACQTWAAAyQQWAEAygQUAkExgAQAkE1gAAMkEFgBAMoEFAJBM\\\n",
       "YAEAJBNYAADJBBYAQDKBBQCQTGABACQTWAAAyQQWAEAygQUAkExgAQAkE1gAAMkEFgBAMoEFAJBM\\\n",
       "YAEAJBNYAADJBBYAQDKBBQCQTGABACQTWAAAyQQWAEAygQUAkExgAQAkE1gAAMkEFgBAMoEFAJBM\\\n",
       "YAEAJBNYAADJBBYAQDKBBQCQTGABACQTWAAAyQQWAEAygQUAkExgAQAkE1gAAMkEFgBAMoEFAJBM\\\n",
       "YAEAJBNYAADJBBYAQDKBBQCQTGABACQTWAAAyQQWAEAygQUAkExgAQAkE1gAAMkEFgBAMoEFAJBM\\\n",
       "YAEAJBNYAADJBBYAQDKBBQCQTGABACQTWAAAyQQWAEAygQUAkExgAQAkE1gAAMkEFgBAMoEFAJBM\\\n",
       "YAEAJBNYAADJBBYAQLLGBNb27dtjwYIFMXHixGhra4sNGzbUvSQAoEU1JrD6+vpixowZsWLFirqX\\\n",
       "AgC0uIujIebPn19uAADDrTGBlaavL2LkyLpX0QyDgxFDQ3WvAgD+2wTWVxgYGCi3044ePVp+bJ8y\\\n",
       "pcZVNUt7RNz5rW/F4Lx5dS+lMQaLqP3CR4afmVfPzKs32MBZC6yvsGzZsuju7q57GY03/t//PTZu\\\n",
       "3Bgn7TWs1JYtW+peQuOYefXMvDr9/f3RNG1DQ807BlO8inD9+vWxcOHC/9YerK6urjjwb/8W47u6\\\n",
       "Klppg/X1RfukSeWn/YcORfsVV9S9osb8lFl805k3b160txf7EBluZl49M69eT09PdHZ2Rm9vb4wZ\\\n",
       "MyaawB6sr9DR0VFu52ofO9Y3+yp84UmveAL0JFgtM6+emVfPzKvT3sA5Nyawjh8/Hnv37j1z++OP\\\n",
       "P4533nknxo0bF5MnT651bQBAa2lMYO3cuTPmzJlz5vbTTz9dfnzsscdi9erVNa4MAGg1jQms2bNn\\\n",
       "RwNPNwMAatCYK7kDAFRFYAEAJBNYAADJBBYAQDKBBQCQTGABACQTWAAAyQQWAEAygQUAkExgAQAk\\\n",
       "E1gAAMkEFgBAMoEFAJBMYAEAJBNYAADJBBYAQDKBBQCQTGABACQTWAAAyQQWAEAygQUAkExgAQAk\\\n",
       "E1gAAMkEFgBAMoEFAJBMYAEAJBNYAADJBBYAQDKBBQCQTGABACQTWAAAyQQWAEAygQUAkExgAQAk\\\n",
       "E1gAAMkEFgBAMoEFAJBMYAEAJBNYAADJBBYAQDKBBQCQTGABACQTWAAAyQQWAEAygQUAkExgAQAk\\\n",
       "E1gAAMkEFgBAMoEFAJBMYAEAJBNYAADJBBYAQDKBBQCQTGABACQTWAAAyQQWAEAygQUAkExgAQAk\\\n",
       "E1gAAMkEFgBAMoEFAJBMYAEAJBNYAADJBBYAQDKBBQCQTGABACQTWAAAyQQWAEAygQUAkExgAQAk\\\n",
       "E1gAAMkEFgBAMoEFAJBMYAEAJBNYAADJBBYAQDKBBQCQTGABACQTWAAAyQQWAEAygQUAkExgAQAk\\\n",
       "a1RgrVixIq655poYOXJk3HHHHfHWW2/VvSQAoAU1JrDWrVsXTz/9dPzkJz+J3bt3x4wZM+K+++6L\\\n",
       "Q4cO1b00AKDFXBwN8cILL8QPfvCDWLRoUXn7l7/8Zfzxj3+M3/72t/Hss89e+B/U3x/R1zd8C+W/\\\n",
       "mDEA/4c1IrBOnDgRu3btiiVLlpy576KLLoq5c+fGm2++ed7fMzAwUG6n9fb2lh//41vfiqMVrJn/\\\n",
       "p//w4Wg/ebLuZTTC4OBg9Pf3R09PT7S3t9e9nEYw8+qZefUOHz5cfhwaGoqmaERgffbZZ3Hy5Mn4\\\n",
       "+te/ftb9xe3333//vL9n2bJl0d3d/aX7u4ZtlXyl666rewUAJOjp6YmxY8dGEzQisP4nir1dxTlb\\\n",
       "px05ciSmTJkS+/bta8x/jrodPXo0urq6Yv/+/TFmzJi6l9MIZl49M6+emVevt7c3Jk+eHOPGjYum\\\n",
       "aERgXXnllTFixIj49NNPz7q/uD1hwoTz/p6Ojo5yO1cRVx6Q1SrmbebVMvPqmXn1zLx6F13UmNfW\\\n",
       "NeNVhJdccknceuut8dprr52579SpU+XtWbNm1bo2AKD1NGIPVqE43PfYY4/FzJkz4/bbb48XX3wx\\\n",
       "+vr6zryqEAAgS2MC68EHH4x//vOf8dxzz8XBgwfj5ptvjs2bN3/pxPevUhwuLK6hdb7DhgwPM6+e\\\n",
       "mVfPzKtn5tXraODM24aa9JpJAIAKNOIcLACAKgksAIBkAgsAIJnAAgBIJrAu0IoVK+Kaa66JkSNH\\\n",
       "xh133BFvvfVW3UtqWdu3b48FCxbExIkTo62tLTZs2FD3klpe8dZQt912W4wePTquvvrqWLhwYXzw\\\n",
       "wQd1L6ulrVy5MqZPn37mYpfFNfk2bdpU97IaY/ny5eXzy1NPPVX3Ulra0qVLyzl/cZs6dWo0gcC6\\\n",
       "AOvWrSuvo1W8xHT37t0xY8aMuO++++LQoUN1L60lFdcnK2ZcRC3V2LZtWyxevDh27NgRW7ZsKd8M\\\n",
       "99577y3/LRgekyZNKr/JF29Ev3Pnzrj77rvjgQceiPfee6/upbW8t99+O1atWlUGLsNv2rRpceDA\\\n",
       "gTPbG2+8EU3gMg0XoNhjVfx0/9JLL525CnzxPlZPPvlkPPvss3Uvr6UVP+2sX7++3KNCdYprxhV7\\\n",
       "sorwuuuuu+peTmMU79P2s5/9LB5//PG6l9Kyjh8/Hrfcckv84he/iOeff768JmJx4WmGbw/Whg0b\\\n",
       "4p133ommsQfrXzhx4kT5E+bcuXPPei+l4vabb75Z69pgON+YtdCkN2at08mTJ2Pt2rXlHkNv3zW8\\\n",
       "ij21999//1nP6QyvDz/8sDzl4xvf+EY88sgjsW/fvmiCxlzJ/X/qs88+K5/8zr3ie3H7/fffr21d\\\n",
       "MFyKPbTFeSnf/va346abbqp7OS1tz549ZVB9/vnncfnll5d7a2+88ca6l9WyiogtTvMoDhFS3RGg\\\n",
       "1atXxw033FAeHuzu7o7vfOc78e6775bnfLYygQV86Sf84smvKedJ1Kn4plMcOin2GL788svl+6UW\\\n",
       "h2VFVr79+/fHj370o/Icw+LFSlRj/vz5Zz4vznkrgmvKlCnx+9//vuUPhQusf+HKK6+MESNGxKef\\\n",
       "fnrW/cXtCRMm1LYuGA5PPPFEbNy4sXwlZ3ESNsPrkksuiW9+85vl57feemu5Z+XnP/95eQI2uYpT\\\n",
       "PYoXJhXnX51WHJ0o/q8X59cODAyUz/UMryuuuCKuv/762Lt3b7Q652BdwBNg8cT32muvnXUIpbjt\\\n",
       "XAlaRfFalyKuikNUf/7zn+Paa6+te0mNVDy3FN/oyXfPPfeUh2SLPYant5kzZ5bnBBWfi6vqXmTw\\\n",
       "0UcfRWdnZ7Q6e7AuQHGJhmLXffFgvP3228tXnBQnoy5atKjupbXsA/CLP918/PHH5RNgccL15MmT\\\n",
       "a11bKx8WXLNmTbzyyivleREHDx4s7x87dmxceumldS+vJS1ZsqQ8fFL8nz527Fg5/61bt8arr75a\\\n",
       "99JaUvH/+txzCi+77LIYP368cw2H0TPPPFNe17A4LPiPf/yjvNxREbMPPfRQtDqBdQEefPDB8mXr\\\n",
       "zz33XPmNp3hZ7+bNm7904js5imsCzZkz56zALRSRW5wsyfBc9LIwe/bss+7/3e9+F9///vdrWlVr\\\n",
       "Kw5XPfroo+WJv0XIFuenFHE1b968upcGaT755JMypnp6euKqq66KO++8s7zeXvF5q3MdLACAZM7B\\\n",
       "AgBIJrAAAJIJLACAZAILACCZwAIASCawAACSCSwAgGQCCwAgmcACAEgmsAAAkgksAIBkAgsAIJnA\\\n",
       "AgBIJrAAAJIJLACAZAILACCZwAIASCawAACSCSwAgGQCCwAgmcACAEgmsAAAkgksAIBkAgsAIJnA\\\n",
       "AgBIJrAAAJIJLACAZAILACCZwAIASCawAACSCSwAgGQCCwAgmcACAEgmsAAAkgksAIBkAgsAIJnA\\\n",
       "AgBIJrAAAJIJLACAZAILACCZwAIASCawAACSCSwAgGQCCwAgcv0nWwufHoDF9Y8AAAAASUVORK5C\\\n",
       "YII=\\\n",
       "\"\n",
       "  frames[2] = \"data:image/png;base64,iVBORw0KGgoAAAANSUhEUgAAAlgAAAJYCAYAAAC+ZpjcAAAAOnRFWHRTb2Z0d2FyZQBNYXRwbG90\\\n",
       "bGliIHZlcnNpb24zLjEwLjEsIGh0dHBzOi8vbWF0cGxvdGxpYi5vcmcvc2/+5QAAAAlwSFlzAAAP\\\n",
       "YQAAD2EBqD+naQAAGT1JREFUeJzt3W2MVfW58OF7hHEQ5UVQyxAGtDZKxYBR1JBaAwga4rHST0ZN\\\n",
       "tMT0Q4OmxphUvlgmsYGkibGJlpK+8YlAa4ImNmCoCMRUokDMQROtGhuxBalDGF7mMMyBebJWC4+8\\\n",
       "+JRzzj1rPWev60pWZvZ2IH9vZu/57bXWXtM2ODg4GAAApLkg768CAKAgsAAAkgksAIBkAgsAIJnA\\\n",
       "AgBIJrAAAJIJLACAZAILACCZwAIASCawAACSCSwAgGQCCwAgmcACAEgmsAAAkgksAIBkAgsAIJnA\\\n",
       "AgBIJrAAAJIJLACAZAILACCZwAIASCawAACSCSwAgGQCCwAgmcACAEgmsAAAkgksAIBkAgsAIJnA\\\n",
       "AgBIJrAAAJIJLACAZAILACCZwAIASCawAACSCSwAgGQCCwAgmcACAEgmsAAAkgksAIBkAgsAIJnA\\\n",
       "AgBIJrAAAJIJLACAZAILACCZwAIASCawAACSCSwAgGQCCwAgmcACAEgmsAAAkgksAIBkAgsAIJnA\\\n",
       "AgBIJrAAAJIJLACAZAILACCZwAIASCawAACSCSwAgGQCCwAgmcACAEgmsAAAkgksAIBkAgsAIJnA\\\n",
       "AgBIJrAAAJIJLACAZI0JrKVLl0ZbW9tp29SpU+teFgDQgoZHg0ybNi3++Mc/nro9fHij/vcBgIo0\\\n",
       "qjCKoJowYULdywAAWlyjAuvDDz+MiRMnxogRI2LWrFmxbNmymDx58jm/tr+/v9xOOnHiROzfvz/G\\\n",
       "jx9fHl4EAM7P4OBgHDp0qPwZfMEFzTg7qW2w+L9ugPXr18fhw4fj2muvjT179kR3d3f89a9/jXff\\\n",
       "fTdGjRp1znO2iq8BAHLs3r07Jk2aFE3QmMA604EDB2LKlCnx7LPPxiOPPPIv92D19vaWe7v+/Oc/\\\n",
       "x7hx4ypebTMNDAzE66+/HnPmzIn29va6l9MIZl49M6+emVdv//79cc0115Q/e8eMGRNN0KhDhF82\\\n",
       "duzY8h/7o48+Oud/7+joKLczFXFVHCakmifBkSNHlvP2JFgNM6+emVfPzOvT1qBTbJpxIPQcisOF\\\n",
       "H3/8cXR2dta9FACgxTQmsJ588snYsmVL/OUvf4k//elP8d3vfjeGDRsW999/f91LAwBaTGMOEX72\\\n",
       "2WdlTPX09MTll18et912W2zbtq38HAAgU2MCa82aNXUvAQBoiMYcIgQAqIrAAgBIJrAAAJIJLACA\\\n",
       "ZAILACCZwAIASCawAACSCSwAgGQCCwAgmcACAEgmsAAAkgksAIBkAgsAIJnAAgBIJrAAAJIJLACA\\\n",
       "ZAILACCZwAIASCawAACSCSwAgGQCCwAgmcACAEgmsAAAkgksAIBkAgsAIJnAAgBIJrAAAJIJLACA\\\n",
       "ZAILACCZwAIASCawAACSCSwAgGQCCwAgmcACAEgmsAAAkgksAIBkAgsAIJnAAgBIJrAAAJIJLACA\\\n",
       "ZAILACCZwAIASCawAACSCSwAgGQCCwAgmcACAEgmsAAAkgksAIBkAgsAIJnAAgBIJrAAAJIJLACA\\\n",
       "ZAILACCZwAIASCawAACSCSwAgGQCCwAgmcACAEgmsAAAkgksAIBkAgsAIJnAAgBIJrAAAJIJLACA\\\n",
       "ZAILACCZwAIASCawAACSCSwAgGQCCwAgmcACAEgmsAAAkgksAIBkAgsAIJnAAgBIJrAAAJIJLACA\\\n",
       "ZAILACCZwAIASCawAACSCSwAgGQCCwAgWSMDa/ny5dHW1haPP/543UsBAFpQ4wLr7bffjpUrV8b0\\\n",
       "6dPrXgoA0KIaFViHDx+OBx98MH75y1/GpZdeWvdyAIAWNTwaZPHixXH33XfHvHnz4plnnvl/fm1/\\\n",
       "f3+5nXTw4MHy48DAQLkx9E7O2byrY+bVM/PqmXn1Bho468YE1po1a2Lnzp3lIcLzsWzZsuju7j7r\\\n",
       "/tdffz1Gjhw5BCvkq2zcuLHuJTSOmVfPzKtn5tXp6+uLpmkbHBwcjBa3e/fumDlzZvlgOnnu1ezZ\\\n",
       "s+OGG26I55577rz3YHV1dcWePXti/Pjxla296a94in+z+fPnR3t7e93LaQQzr56ZV8/Mq9fT0xOd\\\n",
       "nZ3R29sbo0ePjiZoxB6sHTt2xL59++LGG288dd/x48dj69at8fzzz5chNWzYsNP+TEdHR7mdqXgw\\\n",
       "ekBWy8yrZ+bVM/PqmXl12hs450YE1h133BG7du067b5FixbF1KlT40c/+tFZcQUA8D/RiMAaNWpU\\\n",
       "XH/99afdd/HFF5eH+s68HwDgf6pRl2kAAKhCI/ZgncvmzZvrXgIA0KLswQIASCawAACSCSwAgGQC\\\n",
       "CwAgmcACAEgmsAAAkgksAIBkAgsAIJnAAgBIJrAAAJIJLACAZAILACCZwAIASCawAACSCSwAgGQC\\\n",
       "CwAgmcACAEgmsAAAkgksAIBkAgsAIJnAAgBIJrAAAJIJLACAZAILACCZwAIASCawAACSCSwAgGQC\\\n",
       "CwAgmcACAEgmsAAAkgksAIBkAgsAIJnAAgBIJrAAAJIJLACAZAILACCZwAIASCawAACSCSwAgGQC\\\n",
       "CwAgmcACAEgmsAAAkgksAIBkAgsAIJnAAgBIJrAAAJIJLACAZAILACCZwAIASCawAACSCSwAgGQC\\\n",
       "CwAgmcACAEgmsAAAkgksAIBkAgsAIJnAAgBIJrAAAJIJLACAZAILACCZwAIASCawAACSCSwAgGQC\\\n",
       "CwAgmcACAEgmsAAAkgksAIBkAgsAIJnAAgBIJrAAAJIJLACAZAILACCZwAIASCawAACSCSwAgGQC\\\n",
       "CwAgmcACAEgmsAAAkgksAIBkAgsAIJnAAgBI1pjAWrFiRUyfPj1Gjx5dbrNmzYr169fXvSwAoAU1\\\n",
       "JrAmTZoUy5cvjx07dsT27dtj7ty5ce+998Z7771X99IAgBYzPBrinnvuOe32T37yk3Kv1rZt22La\\\n",
       "tGm1rQsAaD2NCawvO378ePz+97+PI0eOlIcKAQAyNSqwdu3aVQbV0aNH45JLLol169bFddddd86v\\\n",
       "7e/vL7eTDh48WH4cGBgoN4beyTmbd3XMvHpmXj0zr95AA2fdNjg4OBgNcezYsfj000+jt7c3Xnzx\\\n",
       "xfjVr34VW7ZsOWdkLV26NLq7u8+6f/Xq1TFy5MiKVgwA//v19fXFAw88UP78Ld5o1gSNCqwzzZs3\\\n",
       "L66++upYuXLlee3B6urqij179sT48eMrXmlzX/Fs3Lgx5s+fH+3t7XUvpxHMvHpmXj0zr15PT090\\\n",
       "dnY2KrAadYjwTCdOnDgtor6so6Oj3M5UPBg9IKtl5tUz8+qZefXMvDrtDZxzYwJryZIlsWDBgpg8\\\n",
       "eXIcOnSoPNS3efPmePXVV+teGgDQYhoTWPv27YuHHnqoPMQ3ZsyY8qKjRVwVu4gBADI1JrB+/etf\\\n",
       "170EAKAhGnMldwCAqggsAIBkAgsAIJnAAgBIJrAAAJIJLACAZAILACCZwAIASCawAACSCSwAgGQC\\\n",
       "CwAgmcACAEgmsAAAkgksAIBkAgsAIJnAAgBIJrAAAJIJLACAZAILACCZwAIASCawAACSCSwAgGQC\\\n",
       "CwAgmcACAEgmsAAAkgksAIBkAgsAIJnAAgBIJrAAAJIJLACAZAILACCZwAIASCawAACSCSwAgGQC\\\n",
       "CwAgmcACAEgmsAAAkgksAIBkAgsAIJnAAgBIJrAAAJIJLACAZAILACCZwAIASCawAACSCSwAgGQC\\\n",
       "CwAgmcACAEgmsAAAkgksAIBkAgsAIJnAAgBIJrAAAJIJLACAZAILACCZwAIASCawAACSCSwAgGQC\\\n",
       "CwAgmcACAEgmsAAAkgksAIBkAgsAIJnAAgBIJrAAAJIJLACAZAILACCZwAIASCawAACSCSwAgGQC\\\n",
       "CwAgmcACAEgmsAAAkgksAIBkAgsAIJnAAgBIJrAAAJIJLACAZAILACCZwAIASCawAACSCSwAgGSN\\\n",
       "Caxly5bFzTffHKNGjYorrrgiFi5cGB988EHdywIAWlBjAmvLli2xePHi2LZtW2zcuDEGBgbizjvv\\\n",
       "jCNHjtS9NACgxQyPhtiwYcNpt1etWlXuydqxY0fcfvvt5/8XFUE2YkT+AjnbwEAMO3r0HzNvb697\\\n",
       "Nc0wMBAxOFj3KgD+12tMYJ2pt7e3/Dhu3Lhz/vf+/v5yO+ngwYPlx/YpUypaIUVS/Vvdi2jgzG/7\\\n",
       "5jdjYP78upfSGMXe9C9/ZOiZefUGGjjrtsHB5r1cPXHiRHznO9+JAwcOxBtvvHHOr1m6dGl0d3ef\\\n",
       "dX+RZaMrWCPU6ZU1a+K4PbVAkr6+vnjggQfKnRujRzfjp2gjA+sHP/hBrF+/voyrSZMmnfcerK6u\\\n",
       "rtjz7/8e47u6Klxts1/xbNq0KebOnRvtDhEOvSNHov2fj4e+ffuifezYulfUmO/z4rzQ+fPn+z6v\\\n",
       "iJlXr6enJzo7OxsVWI07RPjoo4/GK6+8Elu3bv3KuCp0dHSU25nax4zxg6cqAwPlXpRi3p4EK/Cl\\\n",
       "GRfzNvNqmXn1zLw67Q2cc2MCq9hR99hjj8W6deti8+bNcdVVV9W9JACgRTUmsIpLNKxevTpefvnl\\\n",
       "8lpYe/fuLe8fM2ZMXHTRRXUvDwBoIY25DtaKFSvKY7+zZ88ujwOf3NauXVv30gCAFtOYPVgNPJcf\\\n",
       "AKhJY/ZgAQBURWABACQTWAAAyQQWAEAygQUAkExgAQAkE1gAAMkEFgBAMoEFAJBMYAEAJBNYAADJ\\\n",
       "BBYAQDKBBQCQTGABACQTWAAAyQQWAEAygQUAkExgAQAkE1gAAMkEFgBAMoEFAJBMYAEAJBNYAADJ\\\n",
       "BBYAQDKBBQCQTGABACQTWAAAyQQWAEAygQUAkExgAQAkE1gAAMkEFgBAMoEFAJBMYAEAJBNYAADJ\\\n",
       "BBYAQDKBBQCQTGABACQTWAAAyQQWAEAygQUAkExgAQAkE1gAAMkEFgBAMoEFAJBMYAEAJBNYAADJ\\\n",
       "BBYAQDKBBQCQTGABACQTWAAAyQQWAEAygQUAkExgAQAkE1gAAMkEFgBAMoEFAJBMYAEAJBNYAADJ\\\n",
       "BBYAQDKBBQCQTGABACQTWAAAyQQWAEAygQUAkExgAQAkE1gAAMkEFgBAMoEFAJBMYAEAJBNYAADJ\\\n",
       "BBYAQDKBBQCQTGABACQTWAAAyQQWAEAygQUAkExgAQAkE1gAAMkEFgBAMoEFAJCsMYG1devWuOee\\\n",
       "e2LixInR1tYWL730Ut1LAgBaVGMC68iRIzFjxox44YUX6l4KANDihkdDLFiwoNwAAIZaY/ZgAQBU\\\n",
       "pTF7sP6r+vv7y+2kgwcPlh8H/vM/Y2BgoMaVNcfJOZt3RQYGov3UpwPlbYae7/PqmXn1Bho4a4H1\\\n",
       "FZYtWxbd3d1n3b91y5boGDeuljU11caNG+teQiMMO3o0/u2fn2/atCmOjxhR84qaxfd59cy8On19\\\n",
       "fdE0bYODg4PRMMW7CNetWxcLFy78L+3B6urqij0ffxzju7oqWmmzFa94iifA+fPnR3v7yX0rDJkj\\\n",
       "R6L90kvLT/v27Yv2sWPrXlEj+D6vnplXr6enJzo7O6O3tzdGjx4dTWAP1lfo6OgotzO1Dx/uAVmx\\\n",
       "Yt5mXoEvzdjMq2fm1TPz6rQ3cM6NCazDhw/HRx99dOr2J598Eu+8806MGzcuJk+eXOvaAIDW0pjA\\\n",
       "2r59e8yZM+fU7SeeeKL8+PDDD8eqVatqXBkA0GoaE1izZ8+OBp5uBgDUwHWwAACSCSwAgGQCCwAg\\\n",
       "mcACAEgmsAAAkgksAIBkAgsAIJnAAgBIJrAAAJIJLACAZAILACCZwAIASCawAACSCSwAgGQCCwAg\\\n",
       "mcACAEgmsAAAkgksAIBkAgsAIJnAAgBIJrAAAJIJLACAZAILACCZwAIASCawAACSCSwAgGQCCwAg\\\n",
       "mcACAEgmsAAAkgksAIBkAgsAIJnAAgBIJrAAAJIJLACAZAILACCZwAIASCawAACSCSwAgGQCCwAg\\\n",
       "mcACAEgmsAAAkgksAIBkAgsAIJnAAgBIJrAAAJIJLACAZAILACCZwAIASCawAACSCSwAgGQCCwAg\\\n",
       "mcACAEgmsAAAkgksAIBkAgsAIJnAAgBIJrAAAJIJLACAZAILACCZwAIASCawAACSCSwAgGQCCwAg\\\n",
       "mcACAEgmsAAAkgksAIBkAgsAIJnAAgBIJrAAAJIJLACAZAILACCZwAIASCawAACSCSwAgGQCCwAg\\\n",
       "mcACAEgmsAAAkgksAIBkAgsAIJnAAgBIJrAAAJIJLACAZI0KrBdeeCGuvPLKGDFiRNx6663x1ltv\\\n",
       "1b0kAKAFNSaw1q5dG0888UT8+Mc/jp07d8aMGTPirrvuin379tW9NACgxQyPhnj22Wfj+9//fixa\\\n",
       "tKi8/Ytf/CL+8Ic/xG9+85t46qmnzv8v6uuLOHJk6BbK/zUwEMOOHv3HvNvb615N6/N9DZCmEYF1\\\n",
       "7Nix2LFjRyxZsuTUfRdccEHMmzcv3nzzzXP+mf7+/nI7qbe3t/z4H9/8ZhysYM38w+3FzP+5UZ2+\\\n",
       "/fuj/fjxupfRCAMDA9HX1xc9PT3R7oVEJcy8evv37y8/Dg4ORlM0IrC++OKLOH78eHzta1877f7i\\\n",
       "9vvvv3/OP7Ns2bLo7u4+6/6uIVsl/H/k6qvrXgHQgnp6emLMmDHRBI0IrP+OYm9Xcc7WSQcOHIgp\\\n",
       "U6bEp59+2phvjrodPHgwurq6Yvfu3TF69Oi6l9MIZl49M6+emVevt7c3Jk+eHOPGjYumaERgXXbZ\\\n",
       "ZTFs2LD4/PPPT7u/uD1hwoRz/pmOjo5yO1MRVx6Q1SrmbebVMvPqmXn1zLx6F1zQmPfWNeNdhBde\\\n",
       "eGHcdNNN8dprr52678SJE+XtWbNm1bo2AKD1NGIPVqE43Pfwww/HzJkz45Zbbonnnnsujhw5cupd\\\n",
       "hQAAWRoTWPfdd1/8/e9/j6effjr27t0bN9xwQ2zYsOGsE9+/SnG4sLiG1rkOGzI0zLx6Zl49M6+e\\\n",
       "mVevo4Ezbxts0nsmAQAq0IhzsAAAqiSwAACSCSwAgGQCCwAgmcA6Ty+88EJceeWVMWLEiLj11lvj\\\n",
       "rbfeqntJLWvr1q1xzz33xMSJE6OtrS1eeumlupfU8opfDXXzzTfHqFGj4oorroiFCxfGBx98UPey\\\n",
       "WtqKFSti+vTppy52WVyTb/369XUvqzGWL19ePr88/vjjdS+lpS1durSc85e3qVOnRhMIrPOwdu3a\\\n",
       "8jpaxVtMd+7cGTNmzIi77ror9u3bV/fSWlJxfbJixkXUUo0tW7bE4sWLY9u2bbFx48byl+Heeeed\\\n",
       "5b8FQ2PSpEnlD/niF9Fv37495s6dG/fee2+89957dS+t5b399tuxcuXKMnAZetOmTYs9e/ac2t54\\\n",
       "441oApdpOA/FHqvi1f3zzz9/6irwxe+xeuyxx+Kpp56qe3ktrXi1s27dunKPCtUprhlX7Mkqwuv2\\\n",
       "22+vezmNUfyetp/+9KfxyCOP1L2UlnX48OG48cYb4+c//3k888wz5TURiwtPM3R7sF566aV45513\\\n",
       "omnswfoXjh07Vr7CnDdv3mm/S6m4/eabb9a6NhjKX8xaaNIvZq3T8ePHY82aNeUeQ7++a2gVe2rv\\\n",
       "vvvu057TGVoffvhhecrH17/+9XjwwQfj008/jSZozJXc/7u++OKL8snvzCu+F7fff//92tYFQ6XY\\\n",
       "Q1ucl/Ktb30rrr/++rqX09J27dpVBtXRo0fjkksuKffWXnfddXUvq2UVEVuc5lEcIqS6I0CrVq2K\\\n",
       "a6+9tjw82N3dHd/+9rfj3XffLc/5bGUCCzjrFX7x5NeU8yTqVPzQKQ6dFHsMX3zxxfL3pRaHZUVW\\\n",
       "vt27d8cPf/jD8hzD4s1KVGPBggWnPi/OeSuCa8qUKfG73/2u5Q+FC6x/4bLLLothw4bF559/ftr9\\\n",
       "xe0JEybUti4YCo8++mi88sor5Ts5i5OwGVoXXnhhfOMb3yg/v+mmm8o9Kz/72c/KE7DJVZzqUbwx\\\n",
       "qTj/6qTi6ETxvV6cX9vf318+1zO0xo4dG9dcc0189NFH0eqcg3UeT4DFE99rr7122iGU4rZzJWgV\\\n",
       "xXtdirgqDlFt2rQprrrqqrqX1EjFc0vxg558d9xxR3lItthjeHKbOXNmeU5Q8bm4qu5NBh9//HF0\\\n",
       "dnZGq7MH6zwUl2godt0XD8ZbbrmlfMdJcTLqokWL6l5ayz4Av/zq5pNPPimfAIsTridPnlzr2lr5\\\n",
       "sODq1avj5ZdfLs+L2Lt3b3n/mDFj4qKLLqp7eS1pyZIl5eGT4nv60KFD5fw3b94cr776at1La0nF\\\n",
       "9/WZ5xRefPHFMX78eOcaDqEnn3yyvK5hcVjwb3/7W3m5oyJm77///mh1Aus83HfffeXb1p9++uny\\\n",
       "B0/xtt4NGzacdeI7OYprAs2ZM+e0wC0UkVucLMnQXPSyMHv27NPu/+1vfxvf+973alpVaysOVz30\\\n",
       "0EPlib9FyBbnpxRxNX/+/LqXBmk+++yzMqZ6enri8ssvj9tuu6283l7xeatzHSwAgGTOwQIASCaw\\\n",
       "AACSCSwAgGQCCwAgmcACAEgmsAAAkgksAIBkAgsAIJnAAgBIJrAAAJIJLACAZAILACCZwAIASCaw\\\n",
       "AACSCSwAgGQCCwAgmcACAEgmsAAAkgksAIBkAgsAIJnAAgBIJrAAAJIJLACAZAILACCZwAIASCaw\\\n",
       "AACSCSwAgGQCCwAgmcACAEgmsAAAkgksAIBkAgsAIJnAAgBIJrAAAJIJLACAZAILACCZwAIASCaw\\\n",
       "AACSCSwAgGQCCwAgmcACAEgmsAAAkgksAIBkAgsAIHL9H6/4pvZX/6/SAAAAAElFTkSuQmCC\\\n",
       "\"\n",
       "  frames[3] = \"data:image/png;base64,iVBORw0KGgoAAAANSUhEUgAAAlgAAAJYCAYAAAC+ZpjcAAAAOnRFWHRTb2Z0d2FyZQBNYXRwbG90\\\n",
       "bGliIHZlcnNpb24zLjEwLjEsIGh0dHBzOi8vbWF0cGxvdGxpYi5vcmcvc2/+5QAAAAlwSFlzAAAP\\\n",
       "YQAAD2EBqD+naQAAGXtJREFUeJzt3W+MFfW9+PHPCuviH/4IaoGwoLVRqwaMoobUGlTQEEu1j7xq\\\n",
       "oiWmDxo1Ncak8sSyiQ0mTYxNpJS0tT4i0JqAiQ0YKgIxlagQc9FEq8QGbNGtS1xg97Kcwt7M9MIP\\\n",
       "EH+l9352JjnzeiWTPecI5uvHs2ffZ2bObMfw8PBwAACQ5oy8fxUAAAWBBQCQTGABACQTWAAAyQQW\\\n",
       "AEAygQUAkExgAQAkE1gAAMkEFgBAMoEFAJBMYAEAJBNYAADJBBYAQDKBBQCQTGABACQTWAAAyQQW\\\n",
       "AEAygQUAkExgAQAkE1gAAMkEFgBAMoEFAJBMYAEAJBNYAADJBBYAQDKBBQCQTGABACQTWAAAyQQW\\\n",
       "AEAygQUAkExgAQAkE1gAAMkEFgBAMoEFAJBMYAEAJBNYAADJBBYAQDKBBQCQTGABACQTWAAAyQQW\\\n",
       "AEAygQUAkExgAQAkE1gAAMkEFgBAMoEFAJBMYAEAJBNYAADJBBYAQDKBBQCQTGABACQTWAAAyQQW\\\n",
       "AEAygQUAkExgAQAkE1gAAMkEFgBAMoEFAJBMYAEAJBNYAADJBBYAQDKBBQCQTGABACQTWAAAyQQW\\\n",
       "AEAygQUAkExgAQAka0xgLVmyJDo6Ok7YLr/88rqXBQC0odHRIFdeeWX88Y9/PHZ/9OhG/ecDABVp\\\n",
       "VGEUQTV58uS6lwEAtLlGBdaHH34YU6dOjTFjxsScOXNi6dKlMX369FP+2aGhoXI76siRI7F3796Y\\\n",
       "NGlSeXgRADg9w8PDsX///vJn8BlnNOPspI7h4r+6AdatWxcHDhyIyy67LPbs2RM9PT3x17/+Nd59\\\n",
       "990YO3bsKc/ZKv4MAJBj9+7dMW3atGiCxgTWyb744ouYMWNGPPPMM/Hggw/+yz1Y/f395d6uP//5\\\n",
       "zzFx4sSKV9tMrVYrXnvttbj55pujs7Oz7uU0gplXz8yrZ+bV27t3b1x66aXlz97x48dHEzTqEOHx\\\n",
       "JkyYUP7P/uijj075z7u6usrtZEVcFYcJqeZF8Oyzzy7n7UWwGmZePTOvnpnXp6NBp9g040DoKRSH\\\n",
       "C3fu3BlTpkypeykAQJtpTGA9/vjjsXnz5vjLX/4Sf/rTn+J73/tejBo1Ku655566lwYAtJnGHCL8\\\n",
       "5JNPypjq6+uLCy64IG688cbYunVreRsAIFNjAmvVqlV1LwEAaIjGHCIEAKiKwAIASCawAACSCSwA\\\n",
       "gGQCCwAgmcACAEgmsAAAkgksAIBkAgsAIJnAAgBIJrAAAJIJLACAZAILACCZwAIASCawAACSCSwA\\\n",
       "gGQCCwAgmcACAEgmsAAAkgksAIBkAgsAIJnAAgBIJrAAAJIJLACAZAILACCZwAIASCawAACSCSwA\\\n",
       "gGQCCwAgmcACAEgmsAAAkgksAIBkAgsAIJnAAgBIJrAAAJIJLACAZAILACCZwAIASCawAACSCSwA\\\n",
       "gGQCCwAgmcACAEgmsAAAkgksAIBkAgsAIJnAAgBIJrAAAJIJLACAZAILACCZwAIASCawAACSCSwA\\\n",
       "gGQCCwAgmcACAEgmsAAAkgksAIBkAgsAIJnAAgBIJrAAAJIJLACAZAILACCZwAIASCawAACSCSwA\\\n",
       "gGQCCwAgmcACAEgmsAAAkgksAIBkAgsAIJnAAgBIJrAAAJIJLACAZAILACCZwAIASCawAACSCSwA\\\n",
       "gGQCCwAgmcACAEgmsAAAkgksAIBkAgsAIFkjA+vpp5+Ojo6OePTRR+teCgDQhhoXWG+99VasWLEi\\\n",
       "Zs6cWfdSAIA21ajAOnDgQNx3333xq1/9Ks4777y6lwMAtKnR0SAPPfRQ3HHHHTFv3rx46qmn/r9/\\\n",
       "dmhoqNyO2rdvX/m11WqVGyPv6JzNuzpmXj0zr56ZV6/VwFk3JrBWrVoV27dvLw8Rno6lS5dGT0/P\\\n",
       "lx5/7bXX4uyzzx6BFfJVNmzYUPcSGsfMq2fm1TPz6gwODkbTdAwPDw9Hm9u9e3fMnj27/GY6eu7V\\\n",
       "3Llz4+qrr45nn332tPdgdXd3x549e2LSpEmVrb3p73iK/2fz58+Pzs7OupfTCGZePTOvnplXr6+v\\\n",
       "L6ZMmRL9/f0xbty4aIJG7MHatm1b9Pb2xjXXXHPsscOHD8eWLVviueeeK0Nq1KhRJ/ydrq6ucjtZ\\\n",
       "8c3oG7JaZl49M6+emVfPzKvT2cA5NyKwbr311tixY8cJjy1atCguv/zy+PGPf/yluAIA+L9oRGCN\\\n",
       "HTs2rrrqqhMeO+ecc8pDfSc/DgDwf9WoyzQAAFShEXuwTmXTpk11LwEAaFP2YAEAJBNYAADJBBYA\\\n",
       "QDKBBQCQTGABACQTWAAAyQQWAEAygQUAkExgAQAkE1gAAMkEFgBAMoEFAJBMYAEAJBNYAADJBBYA\\\n",
       "QDKBBQCQTGABACQTWAAAyQQWAEAygQUAkExgAQAkE1gAAMkEFgBAMoEFAJBMYAEAJBNYAADJBBYA\\\n",
       "QDKBBQCQTGABACQTWAAAyQQWAEAygQUAkExgAQAkE1gAAMkEFgBAMoEFAJBMYAEAJBNYAADJBBYA\\\n",
       "QDKBBQCQTGABACQTWAAAyQQWAEAygQUAkExgAQAkE1gAAMkEFgBAMoEFAJBMYAEAJBNYAADJBBYA\\\n",
       "QDKBBQCQTGABACQTWAAAyQQWAEAygQUAkExgAQAkE1gAAMkEFgBAMoEFAJBMYAEAJBNYAADJBBYA\\\n",
       "QDKBBQCQTGABACQTWAAAyQQWAEAygQUAkExgAQAkE1gAAMkEFgBAMoEFAJBMYAEAJBNYAADJBBYA\\\n",
       "QDKBBQCQTGABACQTWAAAyQQWAEAygQUAkExgAQAka0xgLV++PGbOnBnjxo0rtzlz5sS6devqXhYA\\\n",
       "0IYaE1jTpk2Lp59+OrZt2xZvv/123HLLLXHnnXfGe++9V/fSAIA2MzoaYuHChSfc/+lPf1ru1dq6\\\n",
       "dWtceeWVta0LAGg/jQms4x0+fDh+//vfx8DAQHmo8N8yMBAxZsxILY3jtVox6uDBf868s7Pu1TSD\\\n",
       "mVev1YoYHq57FUCyRgXWjh07yqA6ePBgnHvuubFmzZq44oorTvlnh4aGyu2offv2lV87Z8yobL1N\\\n",
       "V/x4/07di2gYM69n5jd+85vRmj+/7qU0RquI2uO+MvJaDZx1x/Bwc946HTp0KHbt2hX9/f3x4osv\\\n",
       "xq9//evYvHnzKSNryZIl0dPT86XH+yNiXEXrBZrj5VWr4rC947SpwcHBuPfee8ufv8UHzZqgUYF1\\\n",
       "snnz5sUll1wSK1asOK09WN3d3bHnP/8zJnV3V7zS5r7j2bhxY/mBhE6Hqyph5hUbGIjOadPKm4O9\\\n",
       "vdE5YULdK2rM83zDhg0xf/58z/OK9PX1xZQpUxoVWI06RHiyI0eOnBBRx+vq6iq3k3WOH+9FsCqt\\\n",
       "VvmOvpi3F8GKmHm1jptxMW8zr5aZV6ezgXNuTGAtXrw4FixYENOnT4/9+/fHypUrY9OmTfHKK6/U\\\n",
       "vTQAoM00JrB6e3vj/vvvjz179sT48ePLi44WcVXsIgYAyNSYwPrNb35T9xIAgIZozJXcAQCqIrAA\\\n",
       "AJIJLACAZAILACCZwAIASCawAACSCSwAgGQCCwAgmcACAEgmsAAAkgksAIBkAgsAIJnAAgBIJrAA\\\n",
       "AJIJLACAZAILACCZwAIASCawAACSCSwAgGQCCwAgmcACAEgmsAAAkgksAIBkAgsAIJnAAgBIJrAA\\\n",
       "AJIJLACAZAILACCZwAIASCawAACSCSwAgGQCCwAgmcACAEgmsAAAkgksAIBkAgsAIJnAAgBIJrAA\\\n",
       "AJIJLACAZAILACCZwAIASCawAACSCSwAgGQCCwAgmcACAEgmsAAAkgksAIBkAgsAIJnAAgBIJrAA\\\n",
       "AJIJLACAZAILACCZwAIASCawAACSCSwAgGQCCwAgmcACAEgmsAAAkgksAIBkAgsAIJnAAgBIJrAA\\\n",
       "AJIJLACAZAILACCZwAIASCawAACSCSwAgGQCCwAgmcACAEgmsAAAkgksAIBkAgsAIJnAAgBIJrAA\\\n",
       "AJIJLACAZAILACCZwAIASCawAACSCSwAgGQCCwAgmcACAEgmsAAAkjUmsJYuXRrXXXddjB07Ni68\\\n",
       "8MK466674oMPPqh7WQBAG2pMYG3evDkeeuih2Lp1a2zYsCFarVbcdtttMTAwUPfSAIA2MzoaYv36\\\n",
       "9Sfcf+GFF8o9Wdu2bYubbrqptnUBAO2nMYF1sv7+/vLrxIkTT/nPh4aGyu2offv2lV9b//hHufeL\\\n",
       "kXd0zuZdHTOvWKsVncdutsr7jDzP8+q1GjjrjuHh4eFomCNHjsR3v/vd+OKLL+L1118/5Z9ZsmRJ\\\n",
       "9PT0fOnx1c8/H11fEWUA/45RBw/Gd/7jP8rbL69aFYfHjKl7STAiBgcH49577y13bowbNy6aoJGB\\\n",
       "9cMf/jDWrVtXxtW0adNOew9Wd3d37Nm5MyZ1d1e42ma/4ynOl5s/f350dh59n89IMvOKDQxE53nn\\\n",
       "lTcHe3ujc8KEulfUCJ7n1evr64spU6Y0KrAad4jw4Ycfjpdffjm2bNnylXFV6OrqKreTdY4e7Ruy\\\n",
       "YsW8zbxaZl6R42Zs5tUz8+p0NnDOjQmsYkfdI488EmvWrIlNmzbFxRdfXPeSAIA21ZjAKi7RsHLl\\\n",
       "ynjppZfKa2F9+umn5ePjx4+Ps846q+7lAQBtpDHXwVq+fHl57Hfu3LnlceCj2+rVq+teGgDQZhqz\\\n",
       "B6uB5/IDADVpzB4sAICqCCwAgGQCCwAgmcACAEgmsAAAkgksAIBkAgsAIJnAAgBIJrAAAJIJLACA\\\n",
       "ZAILACCZwAIASCawAACSCSwAgGQCCwAgmcACAEgmsAAAkgksAIBkAgsAIJnAAgBIJrAAAJIJLACA\\\n",
       "ZAILACCZwAIASCawAACSCSwAgGQCCwAgmcACAEgmsAAAkgksAIBkAgsAIJnAAgBIJrAAAJIJLACA\\\n",
       "ZAILACCZwAIASCawAACSCSwAgGQCCwAgmcACAEgmsAAAkgksAIBkAgsAIJnAAgBIJrAAAJIJLACA\\\n",
       "ZAILACCZwAIASCawAACSCSwAgGQCCwAgmcACAEgmsAAAkgksAIBkAgsAIJnAAgBIJrAAAJIJLACA\\\n",
       "ZAILACCZwAIASCawAACSCSwAgGQCCwAgmcACAEgmsAAAkgksAIBkAgsAIJnAAgBIJrAAAJIJLACA\\\n",
       "ZAILACCZwAIASCawAACSCSwAgGQCCwAgmcACAEgmsAAAkgksAIBkAgsAIJnAAgBIJrAAAJI1JrC2\\\n",
       "bNkSCxcujKlTp0ZHR0esXbu27iUBAG2qMYE1MDAQs2bNimXLltW9FACgzY2OhliwYEG5AQCMtMbs\\\n",
       "wQIAqEpj9mD9u4aGhsrtqH379pVfW//4R7RarRpX1hxH52ze1THzirVa0XnsZqu8z8jzPK9eq4Gz\\\n",
       "FlhfYenSpdHT0/Olx7ds3hxdEyfWsqam2rBhQ91LaBwzr8aogwfjO/9ze+PGjXF4zJiaV9QsnufV\\\n",
       "GRwcjKbpGB4eHo6GKT5FuGbNmrjrrrv+rT1Y3d3dsWfnzpjU3V3RSputeMdTvADOnz8/OjuPvs9n\\\n",
       "JJl5xQYGovO888qbg7290TlhQt0ragTP8+r19fXFlClTor+/P8aNGxdNYA/WV+jq6iq3k3WOHu0b\\\n",
       "smLFvM28WmZekeNmbObVM/PqdDZwzo0JrAMHDsRHH3107P7HH38c77zzTkycODGmT59e69oAgPbS\\\n",
       "mMB6++234+abbz52/7HHHiu/PvDAA/HCCy/UuDIAoN00JrDmzp0bDTzdDACogetgAQAkE1gAAMkE\\\n",
       "FgBAMoEFAJBMYAEAJBNYAADJBBYAQDKBBQCQTGABACQTWAAAyQQWAEAygQUAkExgAQAkE1gAAMkE\\\n",
       "FgBAMoEFAJBMYAEAJBNYAADJBBYAQDKBBQCQTGABACQTWAAAyQQWAEAygQUAkExgAQAkE1gAAMkE\\\n",
       "FgBAMoEFAJBMYAEAJBNYAADJBBYAQDKBBQCQTGABACQTWAAAyQQWAEAygQUAkExgAQAkE1gAAMkE\\\n",
       "FgBAMoEFAJBMYAEAJBNYAADJBBYAQDKBBQCQTGABACQTWAAAyQQWAEAygQUAkExgAQAkE1gAAMkE\\\n",
       "FgBAMoEFAJBMYAEAJBNYAADJBBYAQDKBBQCQTGABACQTWAAAyQQWAEAygQUAkExgAQAkE1gAAMkE\\\n",
       "FgBAMoEFAJBMYAEAJBNYAADJBBYAQDKBBQCQTGABACQTWAAAyQQWAEAygQUAkExgAQAkE1gAAMkE\\\n",
       "FgBAMoEFAJBMYAEAJBNYAADJBBYAQDKBBQCQTGABACQTWAAAyRoVWMuWLYuLLrooxowZEzfccEO8\\\n",
       "+eabdS8JAGhDjQms1atXx2OPPRY/+clPYvv27TFr1qy4/fbbo7e3t+6lAQBtZnQ0xDPPPBM/+MEP\\\n",
       "YtGiReX9X/7yl/GHP/whnn/++XjiiSdO/180OBgxMDByC+X/abVi1MGD/5x3Z2fdq2kGM6+W1xJo\\\n",
       "W40IrEOHDsW2bdti8eLFxx4744wzYt68efHGG2+c8u8MDQ2V21H9/f3l1//65jdjXwVr5p9uKmb+\\\n",
       "PxvVMPN6DO7dG52HD9e9jEZotVoxODgYfX190emNRCX27t1bfh0eHo6maERgff7553H48OH42te+\\\n",
       "dsLjxf3333//lH9n6dKl0dPT86XHu0dslUCjXXJJ3SuAEdfX1xfjx4+PJmhEYP1vFHu7inO2jvri\\\n",
       "iy9ixowZsWvXrsY8Oeq2b9++6O7ujt27d8e4cePqXk4jmHn1zLx6Zl69/v7+mD59ekycODGaohGB\\\n",
       "df7558eoUaPis88+O+Hx4v7kyZNP+Xe6urrK7WRFXPmGrFYxbzOvlplXz8yrZ+bVO+OMxny2rhmf\\\n",
       "IjzzzDPj2muvjVdfffXYY0eOHCnvz5kzp9a1AQDtpxF7sArF4b4HHnggZs+eHddff308++yzMTAw\\\n",
       "cOxThQAAWRoTWHfffXf8/e9/jyeffDI+/fTTuPrqq2P9+vVfOvH9qxSHC4traJ3qsCEjw8yrZ+bV\\\n",
       "M/PqmXn1uho4847hJn1mEgCgAo04BwsAoEoCCwAgmcACAEgmsAAAkgms07Rs2bK46KKLYsyYMXHD\\\n",
       "DTfEm2++WfeS2taWLVti4cKFMXXq1Ojo6Ii1a9fWvaS2V/xqqOuuuy7Gjh0bF154Ydx1113xwQcf\\\n",
       "1L2strZ8+fKYOXPmsYtdFtfkW7duXd3Laoynn366fH159NFH615KW1uyZEk55+O3yy+/PJpAYJ2G\\\n",
       "1atXl9fRKj5iun379pg1a1bcfvvt0dvbW/fS2lJxfbJixkXUUo3NmzfHQw89FFu3bo0NGzaUvwz3\\\n",
       "tttuK/9fMDKmTZtW/pAvfhH922+/Hbfcckvceeed8d5779W9tLb31ltvxYoVK8rAZeRdeeWVsWfP\\\n",
       "nmPb66+/Hk3gMg2nodhjVby7f+65545dBb74PVaPPPJIPPHEE3Uvr60V73bWrFlT7lGhOsU144o9\\\n",
       "WUV43XTTTXUvpzGK39P2s5/9LB588MG6l9K2Dhw4ENdcc0384he/iKeeeqq8JmJx4WlGbg/W2rVr\\\n",
       "45133ommsQfrXzh06FD5DnPevHkn/C6l4v4bb7xR69pgJH8xa6FJv5i1TocPH45Vq1aVewz9+q6R\\\n",
       "VeypveOOO054TWdkffjhh+UpH1//+tfjvvvui127dkUTNOZK7v9bn3/+efnid/IV34v777//fm3r\\\n",
       "gpFS7KEtzkv51re+FVdddVXdy2lrO3bsKIPq4MGDce6555Z7a6+44oq6l9W2iogtTvMoDhFS3RGg\\\n",
       "F154IS677LLy8GBPT098+9vfjnfffbc857OdCSzgS+/wixe/ppwnUafih05x6KTYY/jiiy+Wvy+1\\\n",
       "OCwrsvLt3r07fvSjH5XnGBYfVqIaCxYsOHa7OOetCK4ZM2bE7373u7Y/FC6w/oXzzz8/Ro0aFZ99\\\n",
       "9tkJjxf3J0+eXNu6YCQ8/PDD8fLLL5ef5CxOwmZknXnmmfGNb3yjvH3ttdeWe1Z+/vOflydgk6s4\\\n",
       "1aP4YFJx/tVRxdGJ4rlenF87NDRUvtYzsiZMmBCXXnppfPTRR9HunIN1Gi+AxQvfq6++esIhlOK+\\\n",
       "cyVoF8VnXYq4Kg5Rbdy4MS6++OK6l9RIxWtL8YOefLfeemt5SLbYY3h0mz17dnlOUHFbXFX3IYOd\\\n",
       "O3fGlClTot3Zg3Uaiks0FLvui2/G66+/vvzESXEy6qJFi+peWtt+Ax7/7ubjjz8uXwCLE66nT59e\\\n",
       "69ra+bDgypUr46WXXirPi/j000/Lx8ePHx9nnXVW3ctrS4sXLy4PnxTP6f3795fz37RpU7zyyit1\\\n",
       "L60tFc/rk88pPOecc2LSpEnONRxBjz/+eHldw+Kw4N/+9rfyckdFzN5zzz3R7gTWabj77rvLj60/\\\n",
       "+eST5Q+e4mO969ev/9KJ7+Qorgl08803nxC4hSJyi5MlGZmLXhbmzp17wuO//e1v4/vf/35Nq2pv\\\n",
       "xeGq+++/vzzxtwjZ4vyUIq7mz59f99IgzSeffFLGVF9fX1xwwQVx4403ltfbK263O9fBAgBI5hws\\\n",
       "AIBkAgsAIJnAAgBIJrAAAJIJLACAZAILACCZwAIASCawAACSCSwAgGQCCwAgmcACAEgmsAAAkgks\\\n",
       "AIBkAgsAIJnAAgBIJrAAAJIJLACAZAILACCZwAIASCawAACSCSwAgGQCCwAgmcACAEgmsAAAkgks\\\n",
       "AIBkAgsAIJnAAgBIJrAAAJIJLACAZAILACCZwAIASCawAACSCSwAgGQCCwAgmcACAEgmsAAAkgks\\\n",
       "AIBkAgsAIJnAAgBIJrAAAJIJLACAZAILACCZwAIASCawAAAi138DnvOvxXF0nxEAAAAASUVORK5C\\\n",
       "YII=\\\n",
       "\"\n",
       "  frames[4] = \"data:image/png;base64,iVBORw0KGgoAAAANSUhEUgAAAlgAAAJYCAYAAAC+ZpjcAAAAOnRFWHRTb2Z0d2FyZQBNYXRwbG90\\\n",
       "bGliIHZlcnNpb24zLjEwLjEsIGh0dHBzOi8vbWF0cGxvdGxpYi5vcmcvc2/+5QAAAAlwSFlzAAAP\\\n",
       "YQAAD2EBqD+naQAAGYhJREFUeJzt3X2MFfW9+PHPCutilQdBLRgWtDZK1YjxMabWgIKGWCv9y6qJ\\\n",
       "lpj+0aipMSbVfyyb2EDSxNhESklby18EWhM0oQFDtUBMJQrGXDRXK8RGbNGtS1xg97Icl72Z6YWf\\\n",
       "PJhyez8788uZ1yuZ7DmHh3z5AOe8z8yc2Y6RkZGRAAAgzWl5vxUAAAWBBQCQTGABACQTWAAAyQQW\\\n",
       "AEAygQUAkExgAQAkE1gAAMkEFgBAMoEFAJBMYAEAJBNYAADJBBYAQDKBBQCQTGABACQTWAAAyQQW\\\n",
       "AEAygQUAkExgAQAkE1gAAMkEFgBAMoEFAJBMYAEAJBNYAADJBBYAQDKBBQCQTGABACQTWAAAyQQW\\\n",
       "AEAygQUAkExgAQAkE1gAAMkEFgBAMoEFAJBMYAEAJBNYAADJBBYAQDKBBQCQTGABACQTWAAAyQQW\\\n",
       "AEAygQUAkExgAQAkE1gAAMkEFgBAMoEFAJBMYAEAJBNYAADJBBYAQDKBBQCQTGABACQTWAAAyQQW\\\n",
       "AEAygQUAkExgAQAkE1gAAMkEFgBAMoEFAJBMYAEAJBNYAADJBBYAQDKBBQCQTGABACQTWAAAyQQW\\\n",
       "AEAygQUAkExgAQAka0xgLV68ODo6Oo7ZZs2aVfeyAIA2NDYa5LLLLos//vGPR++PHduoPz4AUJFG\\\n",
       "FUYRVFOnTq17GQBAm2tUYL3//vtx/vnnx7hx4+KGG26IJUuWxIwZM076c4eGhsrtiMOHD8fevXtj\\\n",
       "ypQp5eFFAODUjIyMxP79+8vX4NNOa8bZSR0jxZ+6AdavXx8HDhyISy65JPbs2RM9PT3xt7/9Ld5+\\\n",
       "++0YP378Sc/ZKn4OAJBj9+7dMX369GiCxgTW8T777LOYOXNmPP300/HAAw/8yz1Y/f395d6uv/zl\\\n",
       "LzF58uSKV9tMrVYr/vSnP8XcuXOjs7Oz7uU0gplXz8yrZ+bV27t3b1x88cXla+/EiROjCRp1iPCL\\\n",
       "Jk2aVP5l79y586Q/3tXVVW7HK+KqOExINU+CX/nKV8p5exKshplXz8yrZ+b16WjQKTbNOBB6EsXh\\\n",
       "wl27dsW0adPqXgoA0GYaE1iPPfZYbN68Of7617/Gn//85/jud78bY8aMibvvvrvupQEAbaYxhwg/\\\n",
       "+uijMqb6+vri3HPPjRtvvDG2bt1a3gYAyNSYwFq9enXdSwAAGqIxhwgBAKoisAAAkgksAIBkAgsA\\\n",
       "IJnAAgBIJrAAAJIJLACAZAILACCZwAIASCawAACSCSwAgGQCCwAgmcACAEgmsAAAkgksAIBkAgsA\\\n",
       "IJnAAgBIJrAAAJIJLACAZAILACCZwAIASCawAACSCSwAgGQCCwAgmcACAEgmsAAAkgksAIBkAgsA\\\n",
       "IJnAAgBIJrAAAJIJLACAZAILACCZwAIASCawAACSCSwAgGQCCwAgmcACAEgmsAAAkgksAIBkAgsA\\\n",
       "IJnAAgBIJrAAAJIJLACAZAILACCZwAIASCawAACSCSwAgGQCCwAgmcACAEgmsAAAkgksAIBkAgsA\\\n",
       "IJnAAgBIJrAAAJIJLACAZAILACCZwAIASCawAACSCSwAgGQCCwAgmcACAEgmsAAAkgksAIBkAgsA\\\n",
       "IJnAAgBIJrAAAJIJLACAZAILACCZwAIASCawAACSCSwAgGQCCwAgmcACAEgmsAAAkgksAIBkAgsA\\\n",
       "IJnAAgBIJrAAAJIJLACAZAILACCZwAIASNbIwFq6dGl0dHTEI488UvdSAIA21LjAeuONN2LFihVx\\\n",
       "xRVX1L0UAKBNjY0GOXDgQNx7773xq1/9Kp566ql/7zcZGIgYNy57aZxMqxVjDh7858w7O+teTTOY\\\n",
       "efXMvHqtVsTISN2roM01KrAefPDBuP3222PevHn/MrCGhobK7Yh9+/aVXztnzhz1dfJPxUvNt+te\\\n",
       "RMOYefXMvJ6Z3/iNb0Rr/vy6l9IYrSJqG6YxgbV69ep48803y0OEp2LJkiXR09Mz6usCoHpT/vM/\\\n",
       "Y926dTHsiEQlBgcHo2k6Rkbafz/p7t2745prromNGzcePfdqzpw5ceWVV8Yzzzxzynuwuru7Y89/\\\n",
       "/EdM6e6ubO1Nf8fzyiuvxM033xydDp1UwsyrZ+YVGxiIzunTy5uDvb3ROWlS3StqhL6+vpg2bVr0\\\n",
       "9/fHhAkTogkasQdr+/bt0dvbG1ddddXRx4aHh2PLli3x7LPPliE1ZsyYY35NV1dXuR2vc+JE/yGr\\\n",
       "0mqV7y6LeXvhqYiZV8/Mq/WFGRfzNvNqdDZwzo0IrFtuuSV27NhxzGOLFi2KWbNmxY9//OMT4goA\\\n",
       "4P+iEYE1fvz4uPzyy4957Mwzz4wpU6ac8DgAwP9V466DBQAw2hqxB+tkNm3aVPcSAIA2ZQ8WAEAy\\\n",
       "gQUAkExgAQAkE1gAAMkEFgBAMoEFAJBMYAEAJBNYAADJBBYAQDKBBQCQTGABACQTWAAAyQQWAEAy\\\n",
       "gQUAkExgAQAkE1gAAMkEFgBAMoEFAJBMYAEAJBNYAADJBBYAQDKBBQCQTGABACQTWAAAyQQWAEAy\\\n",
       "gQUAkExgAQAkE1gAAMkEFgBAMoEFAJBMYAEAJBNYAADJBBYAQDKBBQCQTGABACQTWAAAyQQWAEAy\\\n",
       "gQUAkExgAQAkE1gAAMkEFgBAMoEFAJBMYAEAJBNYAADJBBYAQDKBBQCQTGABACQTWAAAyQQWAEAy\\\n",
       "gQUAkExgAQAkE1gAAMkEFgBAMoEFAJBMYAEAJBNYAADJBBYAQDKBBQCQTGABACQTWAAAyQQWAEAy\\\n",
       "gQUAkExgAQAkE1gAAMkEFgBAMoEFAJBMYAEAJBNYAADJBBYAQDKBBQCQTGABACQTWAAAyQQWAEAy\\\n",
       "gQUAkExgAQAkE1gAAMkEFgBAMoEFAJBMYAEAJBNYAADJBBYAQLLGBNby5cvjiiuuiAkTJpTbDTfc\\\n",
       "EOvXr697WQBAG2pMYE2fPj2WLl0a27dvj23btsXNN98cd955Z7zzzjt1Lw0AaDNjoyHuuOOOY+7/\\\n",
       "9Kc/Lfdqbd26NS677LLa1gUAtJ/GBNYXDQ8Px+9///sYGBgoDxUCAGRqVGDt2LGjDKqDBw/GWWed\\\n",
       "FWvXro1LL730pD93aGio3I7Yt29f+bX1+efRarUqW3OTHZmzeVfHzKtn5hVrtaLz6M1WeZ/R12rg\\\n",
       "nDtGRkZGoiEOHToUH374YfT398fzzz8fv/71r2Pz5s0njazFixdHT0/PCY+vee656Jo8uaIVA5Bp\\\n",
       "zMGD8e3vfa+8vW716hgeN67uJTXC4OBg3HPPPeXrb/FBsyZoVGAdb968eXHRRRfFihUrTmkPVnd3\\\n",
       "d+zZtSumdHdXvNLmvuPZuHFjzJ8/Pzo7j7znZDSZefXMvGIDA9F59tnlzcHe3uicNKnuFTVCX19f\\\n",
       "TJs2rVGB1ahDhMc7fPjwMRH1RV1dXeV2vM6xYz0JVqyYt5lXy8yrZ+YV+cKMzbw6nQ2cc2MC64kn\\\n",
       "nogFCxbEjBkzYv/+/bFq1arYtGlTvPTSS3UvDQBoM40JrN7e3rjvvvtiz549MXHixPKio0VcFbvl\\\n",
       "AQAyNSawfvOb39S9BACgIRpzJXcAgKoILACAZAILACCZwAIASCawAACSCSwAgGQCCwAgmcACAEgm\\\n",
       "sAAAkgksAIBkAgsAIJnAAgBIJrAAAJIJLACAZAILACCZwAIASCawAACSCSwAgGQCCwAgmcACAEgm\\\n",
       "sAAAkgksAIBkAgsAIJnAAgBIJrAAAJIJLACAZAILACCZwAIASCawAACSCSwAgGQCCwAgmcACAEgm\\\n",
       "sAAAkgksAIBkAgsAIJnAAgBIJrAAAJIJLACAZAILACCZwAIASCawAACSCSwAgGQCCwAgmcACAEgm\\\n",
       "sAAAkgksAIBkAgsAIJnAAgBIJrAAAJIJLACAZAILACCZwAIASCawAACSCSwAgGQCCwAgmcACAEgm\\\n",
       "sAAAkgksAIBkAgsAIJnAAgBIJrAAAJIJLACAZAILACCZwAIASCawAACSCSwAgGQCCwAgmcACAEgm\\\n",
       "sAAAkgksAIBkAgsAIJnAAgBIJrAAAJIJLACAZAILACCZwAIASCawAACSCSwAgGQCCwAgmcACAEgm\\\n",
       "sAAAkgksAIBkjQmsJUuWxLXXXhvjx4+P8847LxYuXBjvvfde3csCANpQYwJr8+bN8eCDD8bWrVtj\\\n",
       "48aN0Wq14tZbb42BgYG6lwYAtJmx0RAbNmw45v7KlSvLPVnbt2+Pm266qbZ1AQDtpzGBdbz+/v7y\\\n",
       "6+TJk0/640NDQ+V2xL59+8qvrc8/L/d+MfqOzNm8q2Pm1TPzirVa0Xn0Zqu8z+hrNXDOHSMjIyPR\\\n",
       "MIcPH47vfOc78dlnn8Wrr7560p+zePHi6OnpOeHxNc89F11fEmUA/P9tzMGD8e3vfa+8vW716hge\\\n",
       "N67uJTXC4OBg3HPPPeXOjQkTJkQTNDKwfvjDH8b69evLuJo+ffop78Hq7u6OPbt2xZTu7gpX2+x3\\\n",
       "PMX5cvPnz4/OziPvORlNZl49M6/YwEB0nn12eXOwtzc6J02qe0WN0NfXF9OmTWtUYDXuEOFDDz0U\\\n",
       "69atiy1btnxpXBW6urrK7XidY8d6EqxYMW8zr5aZV8/MK/KFGZt5dTobOOfGBFaxo+7hhx+OtWvX\\\n",
       "xqZNm+LCCy+se0kAQJtqTGAVl2hYtWpVvPjii+W1sD7++OPy8YkTJ8YZZ5xR9/IAgDbSmOtgLV++\\\n",
       "vDz2O2fOnPI48JFtzZo1dS8NAGgzjdmD1cBz+QGAmjRmDxYAQFUEFgBAMoEFAJBMYAEAJBNYAADJ\\\n",
       "BBYAQDKBBQCQTGABACQTWAAAyQQWAEAygQUAkExgAQAkE1gAAMkEFgBAMoEFAJBMYAEAJBNYAADJ\\\n",
       "BBYAQDKBBQCQTGABACQTWAAAyQQWAEAygQUAkExgAQAkE1gAAMkEFgBAMoEFAJBMYAEAJBNYAADJ\\\n",
       "BBYAQDKBBQCQTGABACQTWAAAyQQWAEAygQUAkExgAQAkE1gAAMkEFgBAMoEFAJBMYAEAJBNYAADJ\\\n",
       "BBYAQDKBBQCQTGABACQTWAAAyQQWAEAygQUAkExgAQAkE1gAAMkEFgBAMoEFAJBMYAEAJBNYAADJ\\\n",
       "BBYAQDKBBQCQTGABACQTWAAAyQQWAEAygQUAkExgAQAkE1gAAMkEFgBAMoEFAJBMYAEAJBNYAADJ\\\n",
       "BBYAQDKBBQCQTGABACQTWAAAyQQWAEAygQUAkExgAQAkE1gAAMkEFgBAMoEFAJBMYAEAJBNYAADJ\\\n",
       "BBYAQDKBBQCQTGABACQTWAAAyRoTWFu2bIk77rgjzj///Ojo6IgXXnih7iUBAG2qMYE1MDAQs2fP\\\n",
       "jmXLltW9FACgzY2NhliwYEG5AQCMtsbswQIAqEpj9mD9bw0NDZXbEfv27Su/tj7/PFqtVo0ra44j\\\n",
       "czbv6ph59cy8Yq1WdB692SrvM/paDZyzwPoSS5YsiZ6enhMe37J5c3RNnlzLmppq48aNdS+hccy8\\\n",
       "emZejTEHD8a3/+f2K6+8EsPjxtW8omYYHByMpukYGRkZiYYpPkW4du3aWLhw4f9qD1Z3d3fs2bUr\\\n",
       "pnR3V7TSZive8RQvOvPnz4/OziPvORlNZl49M6/YwEB0nn12eXOwtzc6J02qe0WN0NfXF9OmTYv+\\\n",
       "/v6YMGFCNIE9WF+iq6ur3I7XOXasJ8GKFfM282qZefXMvCJfmLGZV6ezgXNuTGAdOHAgdu7cefT+\\\n",
       "Bx98EG+99VZMnjw5ZsyYUevaAID20pjA2rZtW8ydO/fo/UcffbT8ev/998fKlStrXBkA0G4aE1hz\\\n",
       "5syJBp5uBgDUwHWwAACSCSwAgGQCCwAgmcACAEgmsAAAkgksAIBkAgsAIJnAAgBIJrAAAJIJLACA\\\n",
       "ZAILACCZwAIASCawAACSCSwAgGQCCwAgmcACAEgmsAAAkgksAIBkAgsAIJnAAgBIJrAAAJIJLACA\\\n",
       "ZAILACCZwAIASCawAACSCSwAgGQCCwAgmcACAEgmsAAAkgksAIBkAgsAIJnAAgBIJrAAAJIJLACA\\\n",
       "ZAILACCZwAIASCawAACSCSwAgGQCCwAgmcACAEgmsAAAkgksAIBkAgsAIJnAAgBIJrAAAJIJLACA\\\n",
       "ZAILACCZwAIASCawAACSCSwAgGQCCwAgmcACAEgmsAAAkgksAIBkAgsAIJnAAgBIJrAAAJIJLACA\\\n",
       "ZAILACCZwAIASCawAACSCSwAgGQCCwAgmcACAEgmsAAAkgksAIBkAgsAIJnAAgBIJrAAAJIJLACA\\\n",
       "ZAILACCZwAIASCawAACSCSwAgGQCCwAgmcACAEgmsAAAkgksAIBkAgsAIJnAAgBIJrAAAJIJLACA\\\n",
       "ZI0KrGXLlsUFF1wQ48aNi+uvvz5ef/31upcEALShxgTWmjVr4tFHH42f/OQn8eabb8bs2bPjtttu\\\n",
       "i97e3rqXBgC0mbHREE8//XT84Ac/iEWLFpX3f/nLX8Yf/vCHeO655+Lxxx8/9d9ocDBiYGD0Fsr/\\\n",
       "02rFmIMH/znvzs66V9MMZl49M6+W528q0ojAOnToUGzfvj2eeOKJo4+ddtppMW/evHjttddO+muG\\\n",
       "hobK7Yj+/v7y63994xuxr4I18083FTP/n41qmHn1zLweg3v3RufwcN3LaIS9e/eWX0dGRqIpGhFY\\\n",
       "n376aQwPD8dXv/rVYx4v7r/77rsn/TVLliyJnp6eEx7vHrVVAlCpiy6qewWN09fXFxMnTowmaERg\\\n",
       "/TuKvV3FOVtHfPbZZzFz5sz48MMPG/OPo2779u2L7u7u2L17d0yYMKHu5TSCmVfPzKtn5tXr7++P\\\n",
       "GTNmxOTJk6MpGhFY55xzTowZMyY++eSTYx4v7k+dOvWkv6arq6vcjlfElf+Q1SrmbebVMvPqmXn1\\\n",
       "zLx6p53WmM/WNeNThKeffnpcffXV8fLLLx997PDhw+X9G264oda1AQDtpxF7sArF4b77778/rrnm\\\n",
       "mrjuuuvimWeeiYGBgaOfKgQAyNKYwLrrrrviH//4Rzz55JPx8ccfx5VXXhkbNmw44cT3L1McLiyu\\\n",
       "oXWyw4aMDjOvnplXz8yrZ+bV62rgzDtGmvSZSQCACjTiHCwAgCoJLACAZAILACCZwAIASCawTtGy\\\n",
       "ZcviggsuiHHjxsX1118fr7/+et1LaltbtmyJO+64I84///zo6OiIF154oe4ltb3iW0Nde+21MX78\\\n",
       "+DjvvPNi4cKF8d5779W9rLa2fPnyuOKKK45e7LK4Jt/69evrXlZjLF26tHx+eeSRR+peSltbvHhx\\\n",
       "OecvbrNmzYomEFinYM2aNeV1tIqPmL755psxe/bsuO2226K3t7fupbWl4vpkxYyLqKUamzdvjgcf\\\n",
       "fDC2bt0aGzdujFarFbfeemv5d8HomD59evkiX3wj+m3btsXNN98cd955Z7zzzjt1L63tvfHGG7Fi\\\n",
       "xYoycBl9l112WezZs+fo9uqrr0YTuEzDKSj2WBXv7p999tmjV4Evvo/Vww8/HI8//njdy2trxbud\\\n",
       "tWvXlntUqE5xzbhiT1YRXjfddFPdy2mM4vu0/exnP4sHHnig7qW0rQMHDsRVV10Vv/jFL+Kpp54q\\\n",
       "r4lYXHia0duD9cILL8Rbb70VTWMP1r9w6NCh8h3mvHnzjvleSsX91157rda1wWh+Y9ZCk74xa52G\\\n",
       "h4dj9erV5R5D375rdBV7am+//fZjntMZXe+//355ysfXvva1uPfee+PDDz+MJmjMldz/XZ9++mn5\\\n",
       "5Hf8Fd+L+++++25t64LRUuyhLc5L+eY3vxmXX3553ctpazt27CiD6uDBg3HWWWeVe2svvfTSupfV\\\n",
       "toqILU7zKA4RUt0RoJUrV8Yll1xSHh7s6emJb33rW/H222+X53y2M4EFnPAOv3jya8p5EnUqXnSK\\\n",
       "QyfFHsPnn3++/H6pxWFZkZVv9+7d8aMf/ag8x7D4sBLVWLBgwdHbxTlvRXDNnDkzfve737X9oXCB\\\n",
       "9S+cc845MWbMmPjkk0+Oeby4P3Xq1NrWBaPhoYceinXr1pWf5CxOwmZ0nX766fH1r3+9vH311VeX\\\n",
       "e1Z+/vOflydgk6s41aP4YFJx/tURxdGJ4t96cX7t0NBQ+VzP6Jo0aVJcfPHFsXPnzmh3zsE6hSfA\\\n",
       "4onv5ZdfPuYQSnHfuRK0i+KzLkVcFYeoXnnllbjwwgvrXlIjFc8txQs9+W655ZbykGyxx/DIds01\\\n",
       "15TnBBW3xVV1HzLYtWtXTJs2LdqdPVinoLhEQ7HrvvjPeN1115WfOClORl20aFHdS2vb/4BffHfz\\\n",
       "wQcflE+AxQnXM2bMqHVt7XxYcNWqVfHiiy+W50V8/PHH5eMTJ06MM844o+7ltaUnnniiPHxS/Jve\\\n",
       "v39/Of9NmzbFSy+9VPfS2lLx7/r4cwrPPPPMmDJlinMNR9Fjjz1WXtewOCz497//vbzcURGzd999\\\n",
       "d7Q7gXUK7rrrrvJj608++WT5wlN8rHfDhg0nnPhOjuKaQHPnzj0mcAtF5BYnSzI6F70szJkz55jH\\\n",
       "f/vb38b3v//9mlbV3orDVffdd1954m8RssX5KUVczZ8/v+6lQZqPPvqojKm+vr4499xz48Ybbyyv\\\n",
       "t1fcbneugwUAkMw5WAAAyQQWAEAygQUAkExgAQAkE1gAAMkEFgBAMoEFAJBMYAEAJBNYAADJBBYA\\\n",
       "QDKBBQCQTGABACQTWAAAyQQWAEAygQUAkExgAQAkE1gAAMkEFgBAMoEFAJBMYAEAJBNYAADJBBYA\\\n",
       "QDKBBQCQTGABACQTWAAAyQQWAEAygQUAkExgAQAkE1gAAMkEFgBAMoEFAJBMYAEAJBNYAADJBBYA\\\n",
       "QDKBBQCQTGABACQTWAAAyQQWAEAygQUAkExgAQAkE1gAAMkEFgBAMoEFAJBMYAEARK7/BsHysbqZ\\\n",
       "H9/dAAAAAElFTkSuQmCC\\\n",
       "\"\n",
       "\n",
       "\n",
       "    /* set a timeout to make sure all the above elements are created before\n",
       "       the object is initialized. */\n",
       "    setTimeout(function() {\n",
       "        anim697fa585fbf04538b162627474a75cd3 = new Animation(frames, img_id, slider_id, 200.0,\n",
       "                                 loop_select_id);\n",
       "    }, 0);\n",
       "  })()\n",
       "</script>\n"
      ],
      "text/plain": [
       "<IPython.core.display.HTML object>"
      ]
     },
     "execution_count": 10,
     "metadata": {},
     "output_type": "execute_result"
    },
    {
     "data": {
      "image/png": "[encoded data removed]",
      "text/plain": [
       "<Figure size 600x600 with 1 Axes>"
      ]
     },
     "metadata": {},
     "output_type": "display_data"
    }
   ],
   "source": [
    "\n",
    "import matplotlib.pyplot as plt\n",
    "import matplotlib.animation as animation\n",
    "from IPython.display import HTML\n",
    "\n",
    "fig, ax = plt.subplots(figsize = (6,6))\n",
    "square, = ax.plot([], [], 'r-')\n",
    "ax.set_xlim(0, 5); ax.set_ylim(0, 5)\n",
    "ax.grid()\n",
    "\n",
    "def init():\n",
    "    square.set_data([], [])\n",
    "    return (square,)\n",
    "\n",
    "def animate(i):\n",
    "    x = [0, i, i, 0, 0]\n",
    "    y = [0, 0, i, i, 0]\n",
    "    square.set_data(x, y)\n",
    "    return (square,)\n",
    "\n",
    "ani = animation.FuncAnimation(fig, animate, frames=5, init_func=init, blit=True)\n",
    "HTML(ani.to_jshtml())\n",
    "\n"
   ]
  },
  {
   "cell_type": "markdown",
   "id": "b3fd2684",
   "metadata": {},
   "source": [
    "\n",
    "---\n",
    "\n",
    "## **5. Canción/Poema**  \n"
   ]
  },
  {
   "cell_type": "markdown",
   "id": "8a017adf",
   "metadata": {},
   "source": [
    "**\"El Poema del Geómetra\"** (Fragmento)  \n",
    "*\"Con regla y compás, trazo mi verdad,*  \n",
    "*un axioma firme, sin incertidumbre ya.*  \n",
    "*Python y lógica, mi nuevo compás,*  \n",
    "*¡Demuestra! ¡No asumas! ¡Que el rigor es paz.\"*  \n",
    "\n",
    "Salomón Urrutia (Puerto Libertador (\"Bijao\"))\n"
   ]
  },
  {
   "cell_type": "markdown",
   "id": "f0382e08",
   "metadata": {},
   "source": [
    "\n",
    "## **6. Historia Epistemológica**  \n",
    "**Cuento Antioqueño:**  \n",
    "*\"¡Ajá! Pues verán, muchachos... allá por el 300 a.C., un grieto llamado Euclides, más terco que un mulo paisa, se empeñó en escribir *Los Elementos*. ¡Y vaya que lo logró! Con sus cinco postulados, armó más lío que un domingo en la plaza de Caucasia... Pero ¡claro! Sin él, hoy no tendríamos WiFi (que usa geometría hiperbólica, ¡eso sí es *arrecho*!).\"*  \n"
   ]
  },
  {
   "cell_type": "markdown",
   "id": "51dda2b0",
   "metadata": {},
   "source": [
    "\n",
    "**Imagen:**  \n",
    "[Euclides](https://upload.wikimedia.org/wikipedia/commons/thumb/7/7f/Euclid.jpg/220px-Euclid.jpg)  \n",
    "\n",
    "---\n"
   ]
  },
  {
   "cell_type": "markdown",
   "id": "41af0a39",
   "metadata": {},
   "source": [
    "\n",
    "## **7. Actividades**  \n",
    "### **7.1. Con Casio 991 LA cw**  \n",
    "- Calcular ángulos en triángulos usando funciones trigonométricas.  \n",
    "- Verificar identidades como $\\sin^2(x) + \\cos^2(x) = 1$.  \n"
   ]
  },
  {
   "cell_type": "markdown",
   "id": "8e8c5ddb",
   "metadata": {},
   "source": [
    "\n",
    "### **7.2. Crocodile Clips**  \n",
    "- Diseñar un circuito que represente $P \\land Q \\implies R$ (ejemplo: \"Si llueve *y* hace frío, entonces llevo sombrilla\"). (Hagálo con circuitos electricos y con circuitos electrónicos) \n",
    "\n",
    "---\n"
   ]
  },
  {
   "cell_type": "markdown",
   "id": "e2059914",
   "metadata": {},
   "source": [
    "\n",
    "## **8. Tareas**  \n",
    "- Implementar en SymPy la demostración de que \"la suma de ángulos internos de un triángulo es 180°\". (Prompt para esta tarea: \"Ayúdame, por favor, para mmplementar en SymPy la demostración de que \"la suma de ángulos internos de un triángulo es 180°\".  \") \n",
    "- \n"
   ]
  },
  {
   "cell_type": "markdown",
   "id": "83ad5d9e",
   "metadata": {},
   "source": [
    "Para demostrar que **\"la suma de los ángulos internos de un triángulo es 180°\"** usando **SymPy**, podemos seguir un enfoque simbólico basado en geometría euclidiana. Aquí te muestro cómo implementarlo paso a paso en un Jupyter Notebook:\n",
    "\n",
    "---\n",
    "\n",
    "### **1. Configuración inicial**\n",
    "Primero, importamos las funciones necesarias de SymPy:\n"
   ]
  },
  {
   "cell_type": "code",
   "execution_count": 16,
   "id": "9e43c599",
   "metadata": {},
   "outputs": [],
   "source": [
    "\n",
    "\n",
    "from sympy import symbols, Eq, solve, degree, pi\n",
    "from sympy.geometry import Triangle, Point\n",
    "\n"
   ]
  },
  {
   "cell_type": "markdown",
   "id": "18deb778",
   "metadata": {},
   "source": [
    "\n",
    "---\n",
    "\n",
    "### **2. Crear un triángulo genérico**\n",
    "Definimos tres puntos en el plano para formar un triángulo:\n"
   ]
  },
  {
   "cell_type": "code",
   "execution_count": 18,
   "id": "a14d3ba3",
   "metadata": {},
   "outputs": [
    {
     "data": {
      "image/svg+xml": [
       "<svg xmlns=\"http://www.w3.org/2000/svg\"\n",
       "            xmlns:xlink=\"http://www.w3.org/1999/xlink\"\n",
       "            width=\"100.0\" height=\"100.0\" viewBox=\"-0.100000000000000 -0.100000000000000 1.20000000000000 1.20000000000000\"\n",
       "            preserveAspectRatio=\"xMinYMin meet\">\n",
       "            <defs>\n",
       "                <marker id=\"markerCircle\" markerWidth=\"8\" markerHeight=\"8\"\n",
       "                    refx=\"5\" refy=\"5\" markerUnits=\"strokeWidth\">\n",
       "                    <circle cx=\"5\" cy=\"5\" r=\"1.5\" style=\"stroke: none; fill:#000000;\"/>\n",
       "                </marker>\n",
       "                <marker id=\"markerArrow\" markerWidth=\"13\" markerHeight=\"13\" refx=\"2\" refy=\"4\"\n",
       "                       orient=\"auto\" markerUnits=\"strokeWidth\">\n",
       "                    <path d=\"M2,2 L2,6 L6,4\" style=\"fill: #000000;\" />\n",
       "                </marker>\n",
       "                <marker id=\"markerReverseArrow\" markerWidth=\"13\" markerHeight=\"13\" refx=\"6\" refy=\"4\"\n",
       "                       orient=\"auto\" markerUnits=\"strokeWidth\">\n",
       "                    <path d=\"M6,2 L6,6 L2,4\" style=\"fill: #000000;\" />\n",
       "                </marker>\n",
       "            </defs><g transform=\"matrix(1,0,0,-1,0,1.00000000000000)\"><path fill-rule=\"evenodd\" fill=\"#66cc99\" stroke=\"#555555\" stroke-width=\"0.0240000000000000\" opacity=\"0.6\" d=\"M 0,0 L 1.00000000000000,0 L 0,1.00000000000000 z\" /></g></svg>"
      ],
      "text/latex": [
       "$\\displaystyle \\operatorname{Triangle}\\left(\\operatorname{Point2D}\\left(0, 0\\right), \\operatorname{Point2D}\\left(1, 0\\right), \\operatorname{Point2D}\\left(0, 1\\right)\\right)$"
      ],
      "text/plain": [
       "Triangle(Point2D(0, 0), Point2D(1, 0), Point2D(0, 1))"
      ]
     },
     "execution_count": 18,
     "metadata": {},
     "output_type": "execute_result"
    }
   ],
   "source": [
    "\n",
    "A = Point(0, 0)\n",
    "B = Point(1, 0)\n",
    "C = Point(0, 1)\n",
    "triangulo = Triangle(A, B, C)\n",
    "\n",
    "triangulo"
   ]
  },
  {
   "cell_type": "markdown",
   "id": "4345e90e",
   "metadata": {},
   "source": [
    "\n",
    "*(En geometría euclidiana, la suma de ángulos no depende de las coordenadas específicas, por lo que este triángulo rectángulo es suficiente para la demostración).*\n",
    "\n",
    "---\n",
    "\n",
    "### **3. Obtener los ángulos internos**\n",
    "SymPy puede calcular los ángulos entre los lados del triángulo:\n"
   ]
  },
  {
   "cell_type": "code",
   "execution_count": 19,
   "id": "2bbffad5",
   "metadata": {},
   "outputs": [
    {
     "name": "stdout",
     "output_type": "stream",
     "text": [
      "Las medidas de los ángulos son:  pi/2 pi/4 pi/4\n"
     ]
    }
   ],
   "source": [
    "\n",
    "\n",
    "angulo_A = triangulo.angles[A]  # Ángulo en el vértice A (en radianes)\n",
    "angulo_B = triangulo.angles[B]  # Ángulo en el vértice B\n",
    "angulo_C = triangulo.angles[C]  # Ángulo en el vértice C\n",
    "print('Las medidas de los ángulos son: ', angulo_A, angulo_B, angulo_C)\n"
   ]
  },
  {
   "cell_type": "markdown",
   "id": "a7a561de",
   "metadata": {},
   "source": [
    "\n",
    "---\n",
    "\n",
    "### **4. Sumar los ángulos y convertir a grados**\n",
    "SymPy trabaja en radianes, así que convertimos la suma a grados para verificar que sea **180°**:\n"
   ]
  },
  {
   "cell_type": "code",
   "execution_count": 20,
   "id": "3e9980ee",
   "metadata": {},
   "outputs": [
    {
     "name": "stdout",
     "output_type": "stream",
     "text": [
      "Suma en radianes: pi\n",
      "Suma en grados: 180.000000000000\n"
     ]
    }
   ],
   "source": [
    "\n",
    "\n",
    "suma_radianes = angulo_A + angulo_B + angulo_C\n",
    "suma_grados = suma_radianes * 180 / pi  # Conversión a grados\n",
    "\n",
    "print(\"Suma en radianes:\", suma_radianes)\n",
    "print(\"Suma en grados:\", suma_grados.evalf())  # Evaluación numérica\n",
    "\n"
   ]
  },
  {
   "cell_type": "markdown",
   "id": "36f1249f",
   "metadata": {},
   "source": [
    "\n",
    "**Salida esperada:**\n",
    "```\n",
    "Suma en radianes: pi\n",
    "Suma en grados: 180.000000000000\n",
    "```\n",
    "\n",
    "---\n"
   ]
  },
  {
   "cell_type": "markdown",
   "id": "825d7555",
   "metadata": {},
   "source": [
    "\n",
    "### **5. Demostración general (sin coordenadas)**\n",
    "Para generalizar, podemos usar símbolos y propiedades geométricas:\n"
   ]
  },
  {
   "cell_type": "code",
   "execution_count": 21,
   "id": "668bc215",
   "metadata": {},
   "outputs": [
    {
     "name": "stdout",
     "output_type": "stream",
     "text": [
      "El ángulo restante debe ser: 50 °\n"
     ]
    }
   ],
   "source": [
    "\n",
    "\n",
    "a, b, c = symbols('a b c', real=True)  # Ángulos del triángulo\n",
    "\n",
    "# Postulado: a + b + c = 180° (en geometría euclidiana)\n",
    "ecuacion = Eq(a + b + c, 180)\n",
    "\n",
    "# Supongamos que conocemos dos ángulos (ej: a=60°, b=70°)\n",
    "solucion = solve(ecuacion.subs({a: 60, b: 70}), c)\n",
    "print(\"El ángulo restante debe ser:\", solucion[0], \"°\")\n",
    "\n"
   ]
  },
  {
   "cell_type": "markdown",
   "id": "b6c774b0",
   "metadata": {},
   "source": [
    "\n",
    "**Salida:**\n",
    "```\n",
    "El ángulo restante debe ser: 50 °\n",
    "```\n"
   ]
  },
  {
   "cell_type": "markdown",
   "id": "134edc27",
   "metadata": {},
   "source": [
    "\n",
    "---\n",
    "\n",
    "### **6. Explicación clave**\n",
    "- **Geometría euclidiana**: En este sistema, la suma de ángulos siempre es **π radianes (180°)** para cualquier triángulo.\n",
    "- **SymPy** automatiza los cálculos simbólicos, pero la demostración rigurosa depende de postulados como el **quinto postulado de Euclides** (paralelas).\n",
    "\n",
    "---\n"
   ]
  },
  {
   "cell_type": "markdown",
   "id": "8fdfe245",
   "metadata": {},
   "source": [
    "\n",
    "### **Nota para el curso de Lógica**\n",
    "Este ejemplo vincula **lógica y geometría** mostrando cómo herramientas computacionales (SymPy) pueden verificar proposiciones matemáticas. Puedes extenderlo para:\n",
    "- Triángulos no euclidianos (suma ≠ 180°).\n",
    "- Demostrar teoremas derivados (ej: ángulo externo).\n"
   ]
  },
  {
   "cell_type": "markdown",
   "id": "340fdf0f",
   "metadata": {},
   "source": [
    "\n",
    "¿Te gustaría adaptar algún detalle para enfatizar aspectos lógicos?"
   ]
  },
  {
   "cell_type": "markdown",
   "id": "3437ee71",
   "metadata": {},
   "source": [
    "## Tarea 2 \n",
    "- Crear un Jupyter Notebook con animaciones de transformaciones geométricas.  \n",
    "\n",
    "---\n"
   ]
  },
  {
   "cell_type": "code",
   "execution_count": null,
   "id": "dd1c18d2",
   "metadata": {},
   "outputs": [],
   "source": []
  },
  {
   "cell_type": "markdown",
   "id": "a6796d4f",
   "metadata": {},
   "source": [
    "\n",
    "## **9. Evaluación**  \n"
   ]
  },
  {
   "cell_type": "markdown",
   "id": "4e1f2b73",
   "metadata": {},
   "source": [
    "**Quiz Ejemplo:**  \n",
    "- *\"En fútbol, si 'toco el balón' (P) y 'estoy en área' (Q), entonces 'es penal' (R). Representa esto en lógica proposicional y simula un circuito en Crocodile.\"*  \n"
   ]
  },
  {
   "cell_type": "markdown",
   "id": "ae06d091",
   "metadata": {},
   "source": [
    "\n",
    "**Parcial:**  \n",
    "- Proyecto: *\"Modelar el Teorema de Tales usando Matplotlib y validar con SymPy.\"*  \n",
    "\n",
    "---\n"
   ]
  },
  {
   "cell_type": "markdown",
   "id": "192fa587",
   "metadata": {},
   "source": [
    "\n",
    "## **10. Retroalimentación**  \n",
    "- Rúbrica de autoevaluación con criterios: *\"Claridad en la demostración\", \"Uso de herramientas STEAMS\"*.  \n",
    "\n",
    "---\n"
   ]
  },
  {
   "cell_type": "markdown",
   "id": "0dcdea7c",
   "metadata": {},
   "source": [
    "\n",
    "## **11. Vocabulario Inglés**  \n",
    "- **Proof/Demostración**, **Axiom/Axioma**, **Theorem/Teorema**, *\"Q.E.D. (Quod Erat Demonstrandum)\"*.  \n",
    "\n",
    "---\n"
   ]
  },
  {
   "cell_type": "markdown",
   "id": "937d34f3",
   "metadata": {},
   "source": [
    "\n",
    "## **12. Apéndice: Habilidades Blandas** "
   ]
  },
  {
   "cell_type": "markdown",
   "id": "33f413c1",
   "metadata": {},
   "source": [
    " \n",
    "- Técnicas para trabajo en equipo: *\"Escucha activa en discusiones de demostraciones\"*.  \n",
    "- Inteligencia Emocional: *\"Manejo de ansiedad en evaluaciones\"*.  \n",
    "\n",
    "---\n"
   ]
  },
  {
   "cell_type": "markdown",
   "id": "310f3006",
   "metadata": {},
   "source": [
    "\n",
    "## **13. Referentes APA**  \n",
    "1. Duval, R. (2006). *A cognitive analysis of problems of comprehension in the learning of mathematics*. Educational Studies in Mathematics, 61(1-2), 103-131.  \n",
    "2. Wing, J. M. (2006). *Computational thinking*. Communications of the ACM, 49(3), 33-35.  \n",
    "... *(lista completa en el diseño extendido)*.  \n",
    "\n",
    "---  \n"
   ]
  },
  {
   "cell_type": "markdown",
   "id": "228edde7",
   "metadata": {},
   "source": [
    "**Nota:** Este diseño integra ABPP, STEAMS y herramientas interactivas para un aprendizaje experimental. ¡Ajusta los paths y URLs según tu entorno!"
   ]
  },
  {
   "cell_type": "markdown",
   "id": "9f486b5f",
   "metadata": {},
   "source": [
    "[Video de presentación de la estructura de clase]()"
   ]
  },
  {
   "cell_type": "markdown",
   "id": "ec048afb",
   "metadata": {},
   "source": [
    "# Implementación de la   \n",
    "\n",
    "## **Diseño de Clase STEAM con Enfoque ABPP: \"El Método de Demostración Directa en Geometría\"**  \n"
   ]
  },
  {
   "cell_type": "markdown",
   "id": "d80994de",
   "metadata": {},
   "source": [
    "\n",
    "**1. Título de la Clase:**  \n",
    "*\"Demostración Directa en Geometría: Validando Supuestos con Python y Lógica\"*  \n",
    "\n",
    "---\n"
   ]
  },
  {
   "cell_type": "markdown",
   "id": "a8c24ada",
   "metadata": {},
   "source": [
    "\n",
    "## **2. Objetivos e Indicadores de Logro**  \n",
    "**Objetivo Principal:**  \n",
    "Aplicar el método de demostración directa para validar supuestos geométricos, integrando herramientas computacionales (Python, SymPy, Circuitos Lógicos) y enfoques STEAM.  \n"
   ]
  },
  {
   "cell_type": "markdown",
   "id": "494f1daf",
   "metadata": {},
   "source": [
    "\n",
    "**Indicadores de Logro:**  \n",
    "- Identifica los pasos de una demostración directa en geometría euclidiana.  \n",
    "- Modela problemas geométricos usando SymPy y visualizaciones interactivas.  \n",
    "- Diseña circuitos lógicos en Crocodile Clips que representen proposiciones geométricas.  \n",
    "- Analiza contextos cotidianos y deportivos aplicando lógica proposicional.  \n",
    "\n",
    "---\n"
   ]
  },
  {
   "cell_type": "markdown",
   "id": "d267291a",
   "metadata": {},
   "source": [
    "\n",
    "## **3. Mapa Conceptual (Graphviz)** "
   ]
  },
  {
   "cell_type": "code",
   "execution_count": null,
   "id": "d44b409c",
   "metadata": {},
   "outputs": [],
   "source": [
    "from graphviz import Digraph\n",
    "\n",
    "# Crear grafo\n",
    "graph = Digraph('DemoDirecta', filename='C:/Users/marco/Downloads/demo_directa.gv', format='png')\n",
    "graph.attr(overlap='scalexy', rankdir='TB', splines='true')\n",
    "\n",
    "# Nodos principales\n",
    "graph.node('A', 'Método de Demostración Directa', shape='ellipse', style='filled', color='lightblue2')\n",
    "graph.node('B', 'STEAM', shape='doubleoctagon', color='gold')\n",
    "graph.node('C', 'ABPP', shape='box3d', color='coral')\n",
    "\n",
    "# Subnodos\n",
    "graph.node('D', 'Geometría Euclidiana', shape='note', color='plum')\n",
    "graph.node('E', 'Lógica Proposicional', shape='component', color='tan')\n",
    "graph.node('F', 'Python (SymPy/Matplotlib)', shape='hexagon', color='lightgreen')\n",
    "graph.node('G', 'Circuitos Lógicos', shape='cds', color='salmon')\n",
    "\n",
    "# Conexiones\n",
    "graph.edges(['AB', 'AC', 'AD', 'AE', 'AF', 'AG'])\n",
    "graph.edge('D', 'E', label='Axiomas → Teoremas', style='dashed')\n",
    "graph.edge('F', 'G', label='Modelación', color='red:blue')\n",
    "\n",
    "# Renderizar\n",
    "graph.render(view=True, directory=r\"C:\\Users\\marco\\Downloads\")\n",
    "\n"
   ]
  },
  {
   "cell_type": "markdown",
   "id": "be4f6d18",
   "metadata": {},
   "source": [
    "**Salida:**  \n",
    "![Mapa Conceptual](C:/Users/marco/Downloads/demo_directa.gv.png)  \n",
    "\n",
    "---\n"
   ]
  },
  {
   "cell_type": "markdown",
   "id": "4ef42636",
   "metadata": {},
   "source": [
    "\n",
    "## **4. Contenido de la Clase**  \n",
    "### **4.1. Fundamentos Teóricos**  \n",
    "- **Demostración Directa:**  \n",
    "  Dado un supuesto $P \\implies Q$, se construye una cadena lógica desde $P$ hasta $Q$ usando axiomas.  \n",
    "  Ejemplo: *\"Si un triángulo es isósceles, entonces tiene dos ángulos iguales.\"*  \n",
    "\n",
    "- **Herramientas Computacionales:**  \n"
   ]
  },
  {
   "cell_type": "code",
   "execution_count": 5,
   "id": "4c623397",
   "metadata": {},
   "outputs": [],
   "source": [
    "from sympy import symbols, Implies, Equivalent\n",
    "P, Q = symbols('P Q')\n",
    "demostracion = Implies(P, Q)  # P → Q\n",
    "\n"
   ]
  },
  {
   "cell_type": "markdown",
   "id": "0e2c2785",
   "metadata": {},
   "source": [
    "\n",
    "### **4.2. Visualización con Python**  \n",
    "**Animación de Teorema de Pitágoras:**  \n"
   ]
  },
  {
   "cell_type": "code",
   "execution_count": null,
   "id": "988e07d9",
   "metadata": {},
   "outputs": [],
   "source": [
    "import matplotlib.pyplot as plt\n",
    "import matplotlib.animation as animation\n",
    "from IPython.display import HTML\n",
    "\n",
    "fig, ax = plt.subplots()\n",
    "square, = ax.plot([], [], 'r-')\n",
    "ax.set_xlim(0, 5); ax.set_ylim(0, 5)\n",
    "\n",
    "def init():\n",
    "    square.set_data([], [])\n",
    "    return (square,)\n",
    "\n",
    "def animate(i):\n",
    "    x = [0, i, i, 0, 0]\n",
    "    y = [0, 0, i, i, 0]\n",
    "    square.set_data(x, y)\n",
    "    return (square,)\n",
    "\n",
    "ani = animation.FuncAnimation(fig, animate, frames=5, init_func=init, blit=True)\n",
    "HTML(ani.to_jshtml())\n",
    "\n"
   ]
  },
  {
   "cell_type": "markdown",
   "id": "7dbabd4f",
   "metadata": {},
   "source": [
    "\n",
    "---\n",
    "\n",
    "## **5. Canción/Poema**  \n",
    "**\"El Poema del Geómetra\"** (Fragmento)  \n",
    "*\"Con regla y compás, trazo mi verdad,*  \n",
    "*un axioma firme, sin incertidumbre ya.*  \n",
    "*Python y lógica, mi nuevo compás,*  \n",
    "*¡Demuestra! ¡No asumas! ¡Que el rigor es paz.\"*  \n",
    "\n",
    "---\n"
   ]
  },
  {
   "cell_type": "markdown",
   "id": "28530175",
   "metadata": {},
   "source": [
    "\n",
    "## **6. Historia Epistemológica**  \n",
    "**Cuento Antioqueño:**  \n",
    "*\"¡Ajá! Pues verán, muchachos... allá por el 300 a.C., un grieto llamado Euclides, más terco que un mulo paisa, se empeñó en escribir *Los Elementos*. ¡Y vaya que lo logró! Con sus cinco postulados, armó más lío que un domingo en la plaza de Caucasia... Pero ¡claro! Sin él, hoy no tendríamos WiFi (que usa geometría hiperbólica, ¡eso sí es *arrecho*!).\"*  \n",
    "\n",
    "**Imagen:**  \n",
    "[Euclides](https://upload.wikimedia.org/wikipedia/commons/thumb/7/7f/Euclid.jpg/220px-Euclid.jpg)  \n",
    "\n",
    "---\n"
   ]
  },
  {
   "cell_type": "markdown",
   "id": "48eadf57",
   "metadata": {},
   "source": [
    "\n",
    "## **7. Actividades**  \n",
    "### **7.1. Con Casio 991 LA cw**  \n",
    "- Calcular ángulos en triángulos usando funciones trigonométricas.  \n",
    "- Verificar identidades como $\\sin^2(x) + \\cos^2(x) = 1$.  \n",
    "\n",
    "### **7.2. Crocodile Clips**  \n",
    "- Diseñar un circuito que represente $P \\land Q \\implies R$ (ejemplo: \"Si llueve *y* hace frío, entonces llevo sombrilla\").  \n",
    "\n",
    "---\n"
   ]
  },
  {
   "cell_type": "markdown",
   "id": "0ff290dc",
   "metadata": {},
   "source": [
    "\n",
    "## **8. Tareas**  \n",
    "- Implementar en SymPy la demostración de que \"la suma de ángulos internos de un triángulo es 180°\".  \n",
    "- Crear un Jupyter Notebook con animaciones de transformaciones geométricas.  \n",
    "\n",
    "---\n"
   ]
  },
  {
   "cell_type": "markdown",
   "id": "743c78e3",
   "metadata": {},
   "source": [
    "\n",
    "## **9. Evaluación**  \n",
    "**Quiz Ejemplo:**  \n",
    "- *\"En fútbol, si 'toco el balón' (P) y 'estoy en área' (Q), entonces 'es penal' (R). Representa esto en lógica proposicional y simula un circuito en Crocodile.\"*  \n",
    "\n",
    "**Parcial:**  \n",
    "- Proyecto: *\"Modelar el Teorema de Tales usando Matplotlib y validar con SymPy.\"*  \n",
    "\n",
    "---\n"
   ]
  },
  {
   "cell_type": "markdown",
   "id": "c4f43f71",
   "metadata": {},
   "source": [
    "\n",
    "## **10. Retroalimentación**  \n",
    "- Rúbrica de autoevaluación con criterios: *\"Claridad en la demostración\", \"Uso de herramientas STEAM\"*.  \n",
    "\n",
    "---\n"
   ]
  },
  {
   "cell_type": "markdown",
   "id": "cac713ab",
   "metadata": {},
   "source": [
    "\n",
    "## **11. Vocabulario Inglés**  \n",
    "- **Proof/Demostración**, **Axiom/Axioma**, **Theorem/Teorema**, *\"Q.E.D. (Quod Erat Demonstrandum)\"*.  \n",
    "\n",
    "---\n"
   ]
  },
  {
   "cell_type": "markdown",
   "id": "81b1eb34",
   "metadata": {},
   "source": [
    "\n",
    "## **12. Apéndice: Habilidades Blandas**  \n",
    "- Técnicas para trabajo en equipo: *\"Escucha activa en discusiones de demostraciones\"*.  \n",
    "- Inteligencia Emocional: *\"Manejo de ansiedad en evaluaciones\"*.  \n",
    "\n",
    "---\n"
   ]
  },
  {
   "cell_type": "markdown",
   "id": "73991ceb",
   "metadata": {},
   "source": [
    "\n",
    "## **13. Referentes APA**  \n",
    "1. Duval, R. (2006). *A cognitive analysis of problems of comprehension in the learning of mathematics*. Educational Studies in Mathematics, 61(1-2), 103-131.  \n",
    "2. Wing, J. M. (2006). *Computational thinking*. Communications of the ACM, 49(3), 33-35.  \n",
    "... *(lista completa en el diseño extendido)*.  \n"
   ]
  },
  {
   "cell_type": "markdown",
   "id": "92433174",
   "metadata": {},
   "source": [
    "\n",
    "---  \n",
    "**Nota:** Este diseño integra ABPP, STEAM y herramientas interactivas para un aprendizaje experimental, activo e interactivo. ¡Ajusta los paths y URLs según tu entorno!"
   ]
  },
  {
   "cell_type": "markdown",
   "id": "a3e5e6ab",
   "metadata": {},
   "source": [
    "# 20 ejercicios de entrenamiento o adquisición de habilidades obtenido a través de ChatGPT para una formación personalizada y centrada en la habilidad que se quiere lograr con la enseñanza del ejemplo anterior"
   ]
  },
  {
   "cell_type": "markdown",
   "id": "cc539357",
   "metadata": {},
   "source": [
    "Aquí tienes 20 ejercicios diseñados para que los estudiantes de licenciatura en matemáticas puedan ejercitar la capacidad de deducir una tesis a partir de una hipótesis mediante una cadena de transformaciones, similares al ejemplo que proporcionaste.\n"
   ]
  },
  {
   "cell_type": "markdown",
   "id": "c2f5a175",
   "metadata": {},
   "source": [
    "\n",
    "### Ejercicio 1\n",
    "**Hipótesis**: $n$ es un número impar.  \n",
    "**Tesis**: El cuadrado de $n$ es impar.\n"
   ]
  },
  {
   "cell_type": "markdown",
   "id": "95e90d87",
   "metadata": {},
   "source": [
    "\n",
    "### Ejercicio 2\n",
    "**Hipótesis**: \\( a \\) y \\( b \\) son números racionales.  \n",
    "**Tesis**: La suma de \\( a \\) y \\( b \\) es un número racional.\n"
   ]
  },
  {
   "cell_type": "markdown",
   "id": "19a6f2d9",
   "metadata": {},
   "source": [
    "\n",
    "### Ejercicio 3\n",
    "**Hipótesis**: \\( n \\) es divisible por 3.  \n",
    "**Tesis**: El cubo de \\( n \\) es divisible por 27.\n",
    "\n",
    "### Ejercicio 4\n",
    "**Hipótesis**: \\( x \\) y \\( y \\) son números reales positivos.  \n",
    "**Tesis**: El producto de \\( x \\) y \\( y \\) es un número real positivo.\n",
    "\n",
    "### Ejercicio 5\n",
    "**Hipótesis**: \\( p \\) es un número primo.  \n",
    "**Tesis**: Si \\( p \\) divide al producto de dos números, entonces \\( p \\) divide al menos a uno de ellos.\n",
    "\n",
    "### Ejercicio 6\n",
    "**Hipótesis**: \\( a \\) y \\( b \\) son enteros tales que \\( a = 2k \\) y \\( b = 2m \\).  \n",
    "**Tesis**: La suma \\( a + b \\) es divisible por 2.\n",
    "\n",
    "### Ejercicio 7\n",
    "**Hipótesis**: \\( n \\) es divisible por 4.  \n",
    "**Tesis**: El cuadrado de \\( n \\) es divisible por 16.\n",
    "\n",
    "### Ejercicio 8\n",
    "**Hipótesis**: \\( x \\) es mayor que \\( y \\).  \n",
    "**Tesis**: El cuadrado de \\( x \\) es mayor que el cuadrado de \\( y \\).\n",
    "\n",
    "### Ejercicio 9\n",
    "**Hipótesis**: \\( a \\) y \\( b \\) son enteros tales que \\( a = 2p \\) y \\( b = 2q \\).  \n",
    "**Tesis**: El producto \\( ab \\) es divisible por 4.\n",
    "\n",
    "### Ejercicio 10\n",
    "**Hipótesis**: \\( n \\) es un número natural mayor que 1.  \n",
    "**Tesis**: Si \\( n \\) no tiene divisores propios, entonces \\( n \\) es primo.\n",
    "\n",
    "### Ejercicio 11\n",
    "**Hipótesis**: \\( a \\) es un número impar.  \n",
    "**Tesis**: El cubo de \\( a \\) es impar.\n",
    "\n",
    "### Ejercicio 12\n",
    "**Hipótesis**: \\( a \\equiv b \\pmod{n} \\).  \n",
    "**Tesis**: Si \\( a^2 \\equiv b^2 \\pmod{n} \\), entonces \\( a \\equiv b \\pmod{n} \\).\n",
    "\n",
    "### Ejercicio 13\n",
    "**Hipótesis**: \\( x \\in \\mathbb{R} \\).  \n",
    "**Tesis**: \\( \\lvert x \\rvert^2 = x^2 \\).\n",
    "\n",
    "### Ejercicio 14\n",
    "**Hipótesis**: \\( x \\) es un número irracional.  \n",
    "**Tesis**: \\( \\frac{1}{x} \\) es irracional.\n",
    "\n",
    "### Ejercicio 15\n",
    "**Hipótesis**: \\( a \\) es un número impar.  \n",
    "**Tesis**: \\( a^2 \\equiv 1 \\pmod{8} \\).\n",
    "\n",
    "### Ejercicio 16\n",
    "**Hipótesis**: Si \\( a \\equiv b \\pmod{n} \\), entonces \\( a + c \\equiv b + c \\pmod{n} \\).  \n",
    "**Tesis**: \\( a^k \\equiv b^k \\pmod{n} \\).\n",
    "\n",
    "### Ejercicio 17\n",
    "**Hipótesis**: \\( x \\in \\mathbb{Q} \\).  \n",
    "**Tesis**: Si \\( x = \\frac{a}{b} \\), entonces \\( x^2 \\) es racional.\n",
    "\n",
    "### Ejercicio 18\n",
    "**Hipótesis**: \\( x \\) y \\( y \\) son números irracionales.  \n",
    "**Tesis**: La suma \\( x + y \\) no necesariamente es irracional.\n",
    "\n",
    "### Ejercicio 19\n",
    "**Hipótesis**: \\( a \\) es múltiplo de 5.  \n",
    "**Tesis**: \\( a^2 \\equiv 0 \\pmod{5} \\).\n",
    "\n",
    "### Ejercicio 20\n",
    "**Hipótesis**: Si \\( f \\) es una función continua en un intervalo cerrado, entonces alcanza un máximo y un mínimo en ese intervalo.  \n",
    "**Tesis**: La función \\( f(x) = x^2 \\) en el intervalo \\( [0, 2] \\) tiene un máximo y un mínimo.\n",
    "\n",
    "Cada ejercicio invita a los estudiantes a aplicar un proceso lógico similar al que mostraste, partiendo de una hipótesis, aplicando reglas matemáticas y propiedades, y llegando a una tesis clara."
   ]
  },
  {
   "cell_type": "markdown",
   "id": "2f0141c3",
   "metadata": {},
   "source": [
    "## Tareas para realizar antes de la clase  \n",
    "\n",
    "1. Ver los videos respectivos []()\n",
    "2. Memorizar las definiciones []()\n",
    "3. Sintetizar o resumir la información en mapas conceptuales. []()\n",
    "4. Tareas para incentivar el uso de la calculadora Casio Para ingenieros y licenciados. \n",
    "5. Leer los ejemplos resueltos y repricar la manera de hacerlos"
   ]
  },
  {
   "cell_type": "code",
   "execution_count": 2,
   "id": "83d849ab",
   "metadata": {},
   "outputs": [
    {
     "name": "stdout",
     "output_type": "stream",
     "text": [
      "Tarea 1 de lectura de ejemplos y completación de procedimientos: \n",
      "     Si faltan los enunciados de los problemas, no se valora la tarea\n",
      "    Si faltan de la conclusión verbales, no se valora la tarea.\n",
      "    Esta tarea se valora solo si la presenta de manera manuscrita en su cuaderno de clase.  \n",
      "       tarea_1_lectura_y_completacion_ejemplos_Purcell_Página_202_Sección_3.8.csv\n"
     ]
    },
    {
     "data": {
      "text/html": [
       "<div>\n",
       "<style scoped>\n",
       "    .dataframe tbody tr th:only-of-type {\n",
       "        vertical-align: middle;\n",
       "    }\n",
       "\n",
       "    .dataframe tbody tr th {\n",
       "        vertical-align: top;\n",
       "    }\n",
       "\n",
       "    .dataframe thead th {\n",
       "        text-align: right;\n",
       "    }\n",
       "</style>\n",
       "<table border=\"1\" class=\"dataframe\">\n",
       "  <thead>\n",
       "    <tr style=\"text-align: right;\">\n",
       "      <th></th>\n",
       "      <th>Student</th>\n",
       "      <th>Example1</th>\n",
       "      <th>Example2</th>\n",
       "      <th>Example3</th>\n",
       "      <th>Example4</th>\n",
       "      <th>Example5</th>\n",
       "      <th>Example6</th>\n",
       "      <th>Example7</th>\n",
       "      <th>Example8</th>\n",
       "      <th>Example9</th>\n",
       "      <th>Example10</th>\n",
       "    </tr>\n",
       "  </thead>\n",
       "  <tbody>\n",
       "    <tr>\n",
       "      <th>0</th>\n",
       "      <td>AMARIS FERNANDEZ SEBASTIAN CAMILO</td>\n",
       "      <td>4</td>\n",
       "      <td>9</td>\n",
       "      <td>10</td>\n",
       "      <td>11</td>\n",
       "      <td>15</td>\n",
       "      <td>19</td>\n",
       "      <td>20</td>\n",
       "      <td>21</td>\n",
       "      <td>22</td>\n",
       "      <td>24</td>\n",
       "    </tr>\n",
       "    <tr>\n",
       "      <th>1</th>\n",
       "      <td>ARENAS HERAZO GABRIEL ENRIQUE</td>\n",
       "      <td>2</td>\n",
       "      <td>6</td>\n",
       "      <td>7</td>\n",
       "      <td>15</td>\n",
       "      <td>16</td>\n",
       "      <td>17</td>\n",
       "      <td>18</td>\n",
       "      <td>19</td>\n",
       "      <td>22</td>\n",
       "      <td>27</td>\n",
       "    </tr>\n",
       "    <tr>\n",
       "      <th>2</th>\n",
       "      <td>AYALA MENDOZA MARISOL YACIRA</td>\n",
       "      <td>2</td>\n",
       "      <td>4</td>\n",
       "      <td>8</td>\n",
       "      <td>10</td>\n",
       "      <td>11</td>\n",
       "      <td>14</td>\n",
       "      <td>16</td>\n",
       "      <td>20</td>\n",
       "      <td>25</td>\n",
       "      <td>26</td>\n",
       "    </tr>\n",
       "    <tr>\n",
       "      <th>3</th>\n",
       "      <td>BERTEL RODELO MICHELL SMIT</td>\n",
       "      <td>10</td>\n",
       "      <td>11</td>\n",
       "      <td>14</td>\n",
       "      <td>15</td>\n",
       "      <td>16</td>\n",
       "      <td>17</td>\n",
       "      <td>18</td>\n",
       "      <td>20</td>\n",
       "      <td>24</td>\n",
       "      <td>27</td>\n",
       "    </tr>\n",
       "    <tr>\n",
       "      <th>4</th>\n",
       "      <td>BULA VERGARA MARIA PAULA</td>\n",
       "      <td>5</td>\n",
       "      <td>7</td>\n",
       "      <td>9</td>\n",
       "      <td>16</td>\n",
       "      <td>17</td>\n",
       "      <td>19</td>\n",
       "      <td>22</td>\n",
       "      <td>24</td>\n",
       "      <td>25</td>\n",
       "      <td>26</td>\n",
       "    </tr>\n",
       "    <tr>\n",
       "      <th>5</th>\n",
       "      <td>CANTILLO ENSUCHO DANIEL</td>\n",
       "      <td>5</td>\n",
       "      <td>6</td>\n",
       "      <td>9</td>\n",
       "      <td>15</td>\n",
       "      <td>17</td>\n",
       "      <td>18</td>\n",
       "      <td>20</td>\n",
       "      <td>23</td>\n",
       "      <td>24</td>\n",
       "      <td>26</td>\n",
       "    </tr>\n",
       "    <tr>\n",
       "      <th>6</th>\n",
       "      <td>CERVANTES DURAN ANGELICA</td>\n",
       "      <td>4</td>\n",
       "      <td>5</td>\n",
       "      <td>8</td>\n",
       "      <td>9</td>\n",
       "      <td>12</td>\n",
       "      <td>13</td>\n",
       "      <td>19</td>\n",
       "      <td>23</td>\n",
       "      <td>26</td>\n",
       "      <td>27</td>\n",
       "    </tr>\n",
       "    <tr>\n",
       "      <th>7</th>\n",
       "      <td>GUERRA NORIEGA YONATHAN</td>\n",
       "      <td>2</td>\n",
       "      <td>3</td>\n",
       "      <td>6</td>\n",
       "      <td>7</td>\n",
       "      <td>10</td>\n",
       "      <td>11</td>\n",
       "      <td>21</td>\n",
       "      <td>23</td>\n",
       "      <td>24</td>\n",
       "      <td>26</td>\n",
       "    </tr>\n",
       "    <tr>\n",
       "      <th>8</th>\n",
       "      <td>HINCAPIE CASTRO JOHAN SEBASTIAN</td>\n",
       "      <td>4</td>\n",
       "      <td>8</td>\n",
       "      <td>10</td>\n",
       "      <td>12</td>\n",
       "      <td>15</td>\n",
       "      <td>16</td>\n",
       "      <td>20</td>\n",
       "      <td>23</td>\n",
       "      <td>24</td>\n",
       "      <td>27</td>\n",
       "    </tr>\n",
       "    <tr>\n",
       "      <th>9</th>\n",
       "      <td>HUMANEZ SANCHEZ CAMILO</td>\n",
       "      <td>4</td>\n",
       "      <td>5</td>\n",
       "      <td>14</td>\n",
       "      <td>16</td>\n",
       "      <td>20</td>\n",
       "      <td>21</td>\n",
       "      <td>23</td>\n",
       "      <td>24</td>\n",
       "      <td>25</td>\n",
       "      <td>26</td>\n",
       "    </tr>\n",
       "    <tr>\n",
       "      <th>10</th>\n",
       "      <td>IBAÑEZ MORENO FRANCISCO LUIS</td>\n",
       "      <td>2</td>\n",
       "      <td>3</td>\n",
       "      <td>10</td>\n",
       "      <td>13</td>\n",
       "      <td>14</td>\n",
       "      <td>18</td>\n",
       "      <td>19</td>\n",
       "      <td>21</td>\n",
       "      <td>23</td>\n",
       "      <td>26</td>\n",
       "    </tr>\n",
       "    <tr>\n",
       "      <th>11</th>\n",
       "      <td>MASS MIRANDA RIVALDO JOSE</td>\n",
       "      <td>2</td>\n",
       "      <td>4</td>\n",
       "      <td>5</td>\n",
       "      <td>7</td>\n",
       "      <td>9</td>\n",
       "      <td>10</td>\n",
       "      <td>11</td>\n",
       "      <td>17</td>\n",
       "      <td>21</td>\n",
       "      <td>23</td>\n",
       "    </tr>\n",
       "    <tr>\n",
       "      <th>12</th>\n",
       "      <td>MIRANDA MARTINEZ CARLOS ANDRES</td>\n",
       "      <td>7</td>\n",
       "      <td>11</td>\n",
       "      <td>12</td>\n",
       "      <td>13</td>\n",
       "      <td>16</td>\n",
       "      <td>17</td>\n",
       "      <td>18</td>\n",
       "      <td>21</td>\n",
       "      <td>22</td>\n",
       "      <td>24</td>\n",
       "    </tr>\n",
       "    <tr>\n",
       "      <th>13</th>\n",
       "      <td>MONTERROSA SOTO ABRIL</td>\n",
       "      <td>4</td>\n",
       "      <td>12</td>\n",
       "      <td>13</td>\n",
       "      <td>14</td>\n",
       "      <td>16</td>\n",
       "      <td>19</td>\n",
       "      <td>21</td>\n",
       "      <td>23</td>\n",
       "      <td>26</td>\n",
       "      <td>27</td>\n",
       "    </tr>\n",
       "    <tr>\n",
       "      <th>14</th>\n",
       "      <td>NORIEGA JIMENEZ GABRIELA</td>\n",
       "      <td>3</td>\n",
       "      <td>6</td>\n",
       "      <td>8</td>\n",
       "      <td>9</td>\n",
       "      <td>10</td>\n",
       "      <td>11</td>\n",
       "      <td>13</td>\n",
       "      <td>15</td>\n",
       "      <td>16</td>\n",
       "      <td>27</td>\n",
       "    </tr>\n",
       "    <tr>\n",
       "      <th>15</th>\n",
       "      <td>PEREZ REYES IVAN DARIO</td>\n",
       "      <td>2</td>\n",
       "      <td>3</td>\n",
       "      <td>10</td>\n",
       "      <td>13</td>\n",
       "      <td>17</td>\n",
       "      <td>22</td>\n",
       "      <td>24</td>\n",
       "      <td>25</td>\n",
       "      <td>26</td>\n",
       "      <td>27</td>\n",
       "    </tr>\n",
       "    <tr>\n",
       "      <th>16</th>\n",
       "      <td>PEREZ THERAN ERLINDA</td>\n",
       "      <td>4</td>\n",
       "      <td>5</td>\n",
       "      <td>11</td>\n",
       "      <td>13</td>\n",
       "      <td>16</td>\n",
       "      <td>19</td>\n",
       "      <td>20</td>\n",
       "      <td>21</td>\n",
       "      <td>22</td>\n",
       "      <td>25</td>\n",
       "    </tr>\n",
       "    <tr>\n",
       "      <th>17</th>\n",
       "      <td>PINEDA ROMERO YOSMERI</td>\n",
       "      <td>4</td>\n",
       "      <td>5</td>\n",
       "      <td>6</td>\n",
       "      <td>8</td>\n",
       "      <td>9</td>\n",
       "      <td>11</td>\n",
       "      <td>12</td>\n",
       "      <td>16</td>\n",
       "      <td>17</td>\n",
       "      <td>27</td>\n",
       "    </tr>\n",
       "    <tr>\n",
       "      <th>18</th>\n",
       "      <td>QUINONEZ CERVANTES MARIANA</td>\n",
       "      <td>8</td>\n",
       "      <td>10</td>\n",
       "      <td>11</td>\n",
       "      <td>12</td>\n",
       "      <td>15</td>\n",
       "      <td>17</td>\n",
       "      <td>21</td>\n",
       "      <td>22</td>\n",
       "      <td>24</td>\n",
       "      <td>26</td>\n",
       "    </tr>\n",
       "    <tr>\n",
       "      <th>19</th>\n",
       "      <td>RAMOS PEREZ YANINE</td>\n",
       "      <td>6</td>\n",
       "      <td>7</td>\n",
       "      <td>10</td>\n",
       "      <td>14</td>\n",
       "      <td>16</td>\n",
       "      <td>20</td>\n",
       "      <td>21</td>\n",
       "      <td>23</td>\n",
       "      <td>24</td>\n",
       "      <td>25</td>\n",
       "    </tr>\n",
       "    <tr>\n",
       "      <th>20</th>\n",
       "      <td>RIVAS HOYOS ESTEFANIA</td>\n",
       "      <td>3</td>\n",
       "      <td>4</td>\n",
       "      <td>6</td>\n",
       "      <td>7</td>\n",
       "      <td>11</td>\n",
       "      <td>16</td>\n",
       "      <td>22</td>\n",
       "      <td>23</td>\n",
       "      <td>25</td>\n",
       "      <td>26</td>\n",
       "    </tr>\n",
       "    <tr>\n",
       "      <th>21</th>\n",
       "      <td>ROSILLO TEJADA VANESA</td>\n",
       "      <td>2</td>\n",
       "      <td>4</td>\n",
       "      <td>14</td>\n",
       "      <td>15</td>\n",
       "      <td>16</td>\n",
       "      <td>20</td>\n",
       "      <td>22</td>\n",
       "      <td>25</td>\n",
       "      <td>26</td>\n",
       "      <td>27</td>\n",
       "    </tr>\n",
       "    <tr>\n",
       "      <th>22</th>\n",
       "      <td>SANCHEZ PADILLA SILVESTRE</td>\n",
       "      <td>4</td>\n",
       "      <td>6</td>\n",
       "      <td>8</td>\n",
       "      <td>11</td>\n",
       "      <td>15</td>\n",
       "      <td>19</td>\n",
       "      <td>22</td>\n",
       "      <td>23</td>\n",
       "      <td>25</td>\n",
       "      <td>26</td>\n",
       "    </tr>\n",
       "    <tr>\n",
       "      <th>23</th>\n",
       "      <td>SILVA ROYERO MAILY CRISTINA</td>\n",
       "      <td>7</td>\n",
       "      <td>8</td>\n",
       "      <td>12</td>\n",
       "      <td>14</td>\n",
       "      <td>15</td>\n",
       "      <td>17</td>\n",
       "      <td>18</td>\n",
       "      <td>21</td>\n",
       "      <td>26</td>\n",
       "      <td>27</td>\n",
       "    </tr>\n",
       "    <tr>\n",
       "      <th>24</th>\n",
       "      <td>USUGA GEORGE JHON ESTIVEN</td>\n",
       "      <td>3</td>\n",
       "      <td>7</td>\n",
       "      <td>8</td>\n",
       "      <td>10</td>\n",
       "      <td>16</td>\n",
       "      <td>18</td>\n",
       "      <td>23</td>\n",
       "      <td>24</td>\n",
       "      <td>25</td>\n",
       "      <td>27</td>\n",
       "    </tr>\n",
       "  </tbody>\n",
       "</table>\n",
       "</div>"
      ],
      "text/plain": [
       "                              Student  Example1  Example2  Example3  Example4  \\\n",
       "0   AMARIS FERNANDEZ SEBASTIAN CAMILO         4         9        10        11   \n",
       "1       ARENAS HERAZO GABRIEL ENRIQUE         2         6         7        15   \n",
       "2        AYALA MENDOZA MARISOL YACIRA         2         4         8        10   \n",
       "3          BERTEL RODELO MICHELL SMIT        10        11        14        15   \n",
       "4            BULA VERGARA MARIA PAULA         5         7         9        16   \n",
       "5             CANTILLO ENSUCHO DANIEL         5         6         9        15   \n",
       "6            CERVANTES DURAN ANGELICA         4         5         8         9   \n",
       "7             GUERRA NORIEGA YONATHAN         2         3         6         7   \n",
       "8     HINCAPIE CASTRO JOHAN SEBASTIAN         4         8        10        12   \n",
       "9              HUMANEZ SANCHEZ CAMILO         4         5        14        16   \n",
       "10       IBAÑEZ MORENO FRANCISCO LUIS         2         3        10        13   \n",
       "11          MASS MIRANDA RIVALDO JOSE         2         4         5         7   \n",
       "12     MIRANDA MARTINEZ CARLOS ANDRES         7        11        12        13   \n",
       "13              MONTERROSA SOTO ABRIL         4        12        13        14   \n",
       "14           NORIEGA JIMENEZ GABRIELA         3         6         8         9   \n",
       "15             PEREZ REYES IVAN DARIO         2         3        10        13   \n",
       "16               PEREZ THERAN ERLINDA         4         5        11        13   \n",
       "17              PINEDA ROMERO YOSMERI         4         5         6         8   \n",
       "18         QUINONEZ CERVANTES MARIANA         8        10        11        12   \n",
       "19                 RAMOS PEREZ YANINE         6         7        10        14   \n",
       "20              RIVAS HOYOS ESTEFANIA         3         4         6         7   \n",
       "21              ROSILLO TEJADA VANESA         2         4        14        15   \n",
       "22          SANCHEZ PADILLA SILVESTRE         4         6         8        11   \n",
       "23        SILVA ROYERO MAILY CRISTINA         7         8        12        14   \n",
       "24          USUGA GEORGE JHON ESTIVEN         3         7         8        10   \n",
       "\n",
       "    Example5  Example6  Example7  Example8  Example9  Example10  \n",
       "0         15        19        20        21        22         24  \n",
       "1         16        17        18        19        22         27  \n",
       "2         11        14        16        20        25         26  \n",
       "3         16        17        18        20        24         27  \n",
       "4         17        19        22        24        25         26  \n",
       "5         17        18        20        23        24         26  \n",
       "6         12        13        19        23        26         27  \n",
       "7         10        11        21        23        24         26  \n",
       "8         15        16        20        23        24         27  \n",
       "9         20        21        23        24        25         26  \n",
       "10        14        18        19        21        23         26  \n",
       "11         9        10        11        17        21         23  \n",
       "12        16        17        18        21        22         24  \n",
       "13        16        19        21        23        26         27  \n",
       "14        10        11        13        15        16         27  \n",
       "15        17        22        24        25        26         27  \n",
       "16        16        19        20        21        22         25  \n",
       "17         9        11        12        16        17         27  \n",
       "18        15        17        21        22        24         26  \n",
       "19        16        20        21        23        24         25  \n",
       "20        11        16        22        23        25         26  \n",
       "21        16        20        22        25        26         27  \n",
       "22        15        19        22        23        25         26  \n",
       "23        15        17        18        21        26         27  \n",
       "24        16        18        23        24        25         27  "
      ]
     },
     "execution_count": 2,
     "metadata": {},
     "output_type": "execute_result"
    }
   ],
   "source": [
    "# Tarea 1 de lectura de ejemplos y completación de procedimientos\n",
    "# asignación de tarea para realizar antes de clase\n",
    "# Consiste en leer y completar un ejemplo de texto guía\n",
    "# Esta tarea es para realizar solo de manera manuscrita en su cuaderno de clase. \n",
    "# La otra opción de presentación es elaborada en cuadernos Jupyter (En este caso solo debe realizar la cuarta parte de los ejercicios asignados)\n",
    "# \n",
    "\n",
    "import pandas as pd\n",
    "import numpy as np\n",
    "import requests\n",
    "np.random.seed(1213)  # establecer semilla aleatoria para hacer los resultados reproducibles\n",
    "\n",
    "\n",
    "nombre_tarea = \"tarea_1_lectura_y_completacion_ejemplos\"\n",
    "grupo_estudiantes = 'calculo_vectorial'\n",
    "nombre_texto_guia = 'Purcell'\n",
    "pagina_y_seccion = 'Página_202_Sección_3.8'\n",
    "numero_ejemplos_de_la_seccion = 27\n",
    "numero_de_ejemplos_asignados = 10\n",
    "\n",
    "\n",
    "# Descargar la lista de  estudiantes\n",
    "students_path = \"/home/marco/Documentos/docencia/groups_list/\" + grupo_estudiantes + \".csv\"\n",
    "examples = list(range(1, numero_ejemplos_de_la_seccion))  \n",
    "\n",
    "students_data = pd.read_csv(students_path)\n",
    "\n",
    "# Crear una lista para almacenar las asignaciones\n",
    "assignments = []\n",
    "\n",
    "# Asignar ejercicios aleatorios a cada estudiante\n",
    "for index, student in students_data.iterrows():\n",
    "    # Seleccionar 5 ejercicios aleatorios sin repetición\n",
    "    random_exercises = np.sort(np.random.choice(examples, numero_de_ejemplos_asignados, \\\n",
    "                                                replace = False)+ 1)\n",
    "    assignments.append([students_data[\"Nombre\"][index], *random_exercises])  # Agregar asignación a la lista\n",
    "\n",
    "# Crear un DataFrame con las asignaciones\n",
    "columns = [\"Student\"] + [ \"Example\" + str(i+1) for i in range(numero_de_ejemplos_asignados)]\n",
    "assignment_df = pd.DataFrame(assignments, columns=columns)\n",
    "\n",
    "# Guardar el DataFrame en un archivo CSV\n",
    "assignment_csv = nombre_tarea + \"_\" + nombre_texto_guia + \"_\"+ pagina_y_seccion + \".csv\"\n",
    "assignment_df.to_csv(assignment_csv, index=False)\n",
    "\n",
    "print(\"\"\"Tarea 1 de lectura de ejemplos y completación de procedimientos: \n",
    "     Si faltan los enunciados de los problemas, no se valora la tarea\n",
    "    Si faltan de la conclusión verbales, no se valora la tarea.\n",
    "    Esta tarea se valora solo si la presenta de manera manuscrita en su cuaderno de clase.  \n",
    "      \"\"\", assignment_csv)\n",
    "assignment_df"
   ]
  },
  {
   "cell_type": "markdown",
   "id": "740f3401",
   "metadata": {
    "slideshow": {
     "slide_type": "slide"
    }
   },
   "source": [
    "# Componente de manejo de calculadora Casio asociado al objetivo de aprendizaje de esta clase  \n",
    "\n",
    "## Pasos para lograr el objetivo de aprendizaje con la experimentación en la calculadora casio 570 "
   ]
  },
  {
   "cell_type": "markdown",
   "id": "fccb447c",
   "metadata": {
    "slideshow": {
     "slide_type": "slide"
    }
   },
   "source": [
    "# Tareas para realizar en clase"
   ]
  },
  {
   "cell_type": "code",
   "execution_count": 1,
   "id": "0f1f0ab2",
   "metadata": {},
   "outputs": [
    {
     "name": "stdout",
     "output_type": "stream",
     "text": [
      "Tarea 2 de solución de problemas:\n",
      "      Si faltan los enunciados de los problemas, no se valora la tarea.\n",
      "      Si faltan de la conclusión verbales, no se valora la tarea.\n",
      "      Esta tarea se valora solo si la presenta de manera manuscrita en su cuaderno de clase.  \n",
      "         Tarea_2_Purcell_Página_202_Sección_3.8.csv\n"
     ]
    },
    {
     "data": {
      "text/html": [
       "<div>\n",
       "<style scoped>\n",
       "    .dataframe tbody tr th:only-of-type {\n",
       "        vertical-align: middle;\n",
       "    }\n",
       "\n",
       "    .dataframe tbody tr th {\n",
       "        vertical-align: top;\n",
       "    }\n",
       "\n",
       "    .dataframe thead th {\n",
       "        text-align: right;\n",
       "    }\n",
       "</style>\n",
       "<table border=\"1\" class=\"dataframe\">\n",
       "  <thead>\n",
       "    <tr style=\"text-align: right;\">\n",
       "      <th></th>\n",
       "      <th>Student</th>\n",
       "      <th>Exer1</th>\n",
       "      <th>Exer2</th>\n",
       "      <th>Exer3</th>\n",
       "      <th>Exer4</th>\n",
       "      <th>Exer5</th>\n",
       "      <th>Exer6</th>\n",
       "      <th>Exer7</th>\n",
       "      <th>Exer8</th>\n",
       "      <th>Exer9</th>\n",
       "      <th>Exer10</th>\n",
       "    </tr>\n",
       "  </thead>\n",
       "  <tbody>\n",
       "    <tr>\n",
       "      <th>0</th>\n",
       "      <td>AMARIS FERNANDEZ SEBASTIAN CAMILO</td>\n",
       "      <td>47</td>\n",
       "      <td>2</td>\n",
       "      <td>52</td>\n",
       "      <td>29</td>\n",
       "      <td>21</td>\n",
       "      <td>4</td>\n",
       "      <td>36</td>\n",
       "      <td>54</td>\n",
       "      <td>35</td>\n",
       "      <td>53</td>\n",
       "    </tr>\n",
       "    <tr>\n",
       "      <th>1</th>\n",
       "      <td>ARENAS HERAZO GABRIEL ENRIQUE</td>\n",
       "      <td>42</td>\n",
       "      <td>23</td>\n",
       "      <td>44</td>\n",
       "      <td>20</td>\n",
       "      <td>2</td>\n",
       "      <td>34</td>\n",
       "      <td>45</td>\n",
       "      <td>43</td>\n",
       "      <td>37</td>\n",
       "      <td>8</td>\n",
       "    </tr>\n",
       "    <tr>\n",
       "      <th>2</th>\n",
       "      <td>AYALA MENDOZA MARISOL YACIRA</td>\n",
       "      <td>45</td>\n",
       "      <td>26</td>\n",
       "      <td>20</td>\n",
       "      <td>10</td>\n",
       "      <td>35</td>\n",
       "      <td>36</td>\n",
       "      <td>23</td>\n",
       "      <td>29</td>\n",
       "      <td>31</td>\n",
       "      <td>12</td>\n",
       "    </tr>\n",
       "    <tr>\n",
       "      <th>3</th>\n",
       "      <td>BERTEL RODELO MICHELL SMIT</td>\n",
       "      <td>24</td>\n",
       "      <td>18</td>\n",
       "      <td>39</td>\n",
       "      <td>54</td>\n",
       "      <td>5</td>\n",
       "      <td>19</td>\n",
       "      <td>38</td>\n",
       "      <td>41</td>\n",
       "      <td>30</td>\n",
       "      <td>28</td>\n",
       "    </tr>\n",
       "    <tr>\n",
       "      <th>4</th>\n",
       "      <td>BULA VERGARA MARIA PAULA</td>\n",
       "      <td>9</td>\n",
       "      <td>23</td>\n",
       "      <td>32</td>\n",
       "      <td>46</td>\n",
       "      <td>18</td>\n",
       "      <td>48</td>\n",
       "      <td>34</td>\n",
       "      <td>21</td>\n",
       "      <td>10</td>\n",
       "      <td>33</td>\n",
       "    </tr>\n",
       "    <tr>\n",
       "      <th>5</th>\n",
       "      <td>CANTILLO ENSUCHO DANIEL</td>\n",
       "      <td>34</td>\n",
       "      <td>5</td>\n",
       "      <td>44</td>\n",
       "      <td>43</td>\n",
       "      <td>21</td>\n",
       "      <td>23</td>\n",
       "      <td>40</td>\n",
       "      <td>36</td>\n",
       "      <td>18</td>\n",
       "      <td>51</td>\n",
       "    </tr>\n",
       "    <tr>\n",
       "      <th>6</th>\n",
       "      <td>CERVANTES DURAN ANGELICA</td>\n",
       "      <td>2</td>\n",
       "      <td>20</td>\n",
       "      <td>43</td>\n",
       "      <td>7</td>\n",
       "      <td>32</td>\n",
       "      <td>11</td>\n",
       "      <td>23</td>\n",
       "      <td>12</td>\n",
       "      <td>22</td>\n",
       "      <td>34</td>\n",
       "    </tr>\n",
       "    <tr>\n",
       "      <th>7</th>\n",
       "      <td>GUERRA NORIEGA YONATHAN</td>\n",
       "      <td>46</td>\n",
       "      <td>39</td>\n",
       "      <td>20</td>\n",
       "      <td>19</td>\n",
       "      <td>36</td>\n",
       "      <td>42</td>\n",
       "      <td>12</td>\n",
       "      <td>23</td>\n",
       "      <td>25</td>\n",
       "      <td>34</td>\n",
       "    </tr>\n",
       "    <tr>\n",
       "      <th>8</th>\n",
       "      <td>HINCAPIE CASTRO JOHAN SEBASTIAN</td>\n",
       "      <td>19</td>\n",
       "      <td>7</td>\n",
       "      <td>6</td>\n",
       "      <td>34</td>\n",
       "      <td>30</td>\n",
       "      <td>37</td>\n",
       "      <td>18</td>\n",
       "      <td>41</td>\n",
       "      <td>11</td>\n",
       "      <td>24</td>\n",
       "    </tr>\n",
       "    <tr>\n",
       "      <th>9</th>\n",
       "      <td>HUMANEZ SANCHEZ CAMILO</td>\n",
       "      <td>54</td>\n",
       "      <td>46</td>\n",
       "      <td>2</td>\n",
       "      <td>35</td>\n",
       "      <td>9</td>\n",
       "      <td>7</td>\n",
       "      <td>31</td>\n",
       "      <td>11</td>\n",
       "      <td>34</td>\n",
       "      <td>23</td>\n",
       "    </tr>\n",
       "    <tr>\n",
       "      <th>10</th>\n",
       "      <td>IBAÑEZ MORENO FRANCISCO LUIS</td>\n",
       "      <td>47</td>\n",
       "      <td>53</td>\n",
       "      <td>42</td>\n",
       "      <td>46</td>\n",
       "      <td>4</td>\n",
       "      <td>54</td>\n",
       "      <td>30</td>\n",
       "      <td>13</td>\n",
       "      <td>50</td>\n",
       "      <td>36</td>\n",
       "    </tr>\n",
       "    <tr>\n",
       "      <th>11</th>\n",
       "      <td>MASS MIRANDA RIVALDO JOSE</td>\n",
       "      <td>5</td>\n",
       "      <td>14</td>\n",
       "      <td>43</td>\n",
       "      <td>16</td>\n",
       "      <td>33</td>\n",
       "      <td>28</td>\n",
       "      <td>8</td>\n",
       "      <td>41</td>\n",
       "      <td>52</td>\n",
       "      <td>2</td>\n",
       "    </tr>\n",
       "    <tr>\n",
       "      <th>12</th>\n",
       "      <td>MIRANDA MARTINEZ CARLOS ANDRES</td>\n",
       "      <td>25</td>\n",
       "      <td>31</td>\n",
       "      <td>16</td>\n",
       "      <td>47</td>\n",
       "      <td>26</td>\n",
       "      <td>48</td>\n",
       "      <td>32</td>\n",
       "      <td>40</td>\n",
       "      <td>27</td>\n",
       "      <td>3</td>\n",
       "    </tr>\n",
       "    <tr>\n",
       "      <th>13</th>\n",
       "      <td>MONTERROSA SOTO ABRIL</td>\n",
       "      <td>4</td>\n",
       "      <td>26</td>\n",
       "      <td>30</td>\n",
       "      <td>25</td>\n",
       "      <td>33</td>\n",
       "      <td>13</td>\n",
       "      <td>7</td>\n",
       "      <td>23</td>\n",
       "      <td>19</td>\n",
       "      <td>14</td>\n",
       "    </tr>\n",
       "    <tr>\n",
       "      <th>14</th>\n",
       "      <td>NORIEGA JIMENEZ GABRIELA</td>\n",
       "      <td>19</td>\n",
       "      <td>11</td>\n",
       "      <td>43</td>\n",
       "      <td>47</td>\n",
       "      <td>21</td>\n",
       "      <td>13</td>\n",
       "      <td>38</td>\n",
       "      <td>29</td>\n",
       "      <td>33</td>\n",
       "      <td>50</td>\n",
       "    </tr>\n",
       "    <tr>\n",
       "      <th>15</th>\n",
       "      <td>PEREZ REYES IVAN DARIO</td>\n",
       "      <td>15</td>\n",
       "      <td>10</td>\n",
       "      <td>45</td>\n",
       "      <td>14</td>\n",
       "      <td>21</td>\n",
       "      <td>36</td>\n",
       "      <td>42</td>\n",
       "      <td>30</td>\n",
       "      <td>13</td>\n",
       "      <td>29</td>\n",
       "    </tr>\n",
       "    <tr>\n",
       "      <th>16</th>\n",
       "      <td>PEREZ THERAN ERLINDA</td>\n",
       "      <td>5</td>\n",
       "      <td>52</td>\n",
       "      <td>10</td>\n",
       "      <td>32</td>\n",
       "      <td>35</td>\n",
       "      <td>21</td>\n",
       "      <td>11</td>\n",
       "      <td>15</td>\n",
       "      <td>46</td>\n",
       "      <td>39</td>\n",
       "    </tr>\n",
       "    <tr>\n",
       "      <th>17</th>\n",
       "      <td>PINEDA ROMERO YOSMERI</td>\n",
       "      <td>10</td>\n",
       "      <td>52</td>\n",
       "      <td>24</td>\n",
       "      <td>6</td>\n",
       "      <td>50</td>\n",
       "      <td>26</td>\n",
       "      <td>41</td>\n",
       "      <td>18</td>\n",
       "      <td>7</td>\n",
       "      <td>21</td>\n",
       "    </tr>\n",
       "    <tr>\n",
       "      <th>18</th>\n",
       "      <td>QUINONEZ CERVANTES MARIANA</td>\n",
       "      <td>39</td>\n",
       "      <td>38</td>\n",
       "      <td>12</td>\n",
       "      <td>22</td>\n",
       "      <td>17</td>\n",
       "      <td>47</td>\n",
       "      <td>52</td>\n",
       "      <td>27</td>\n",
       "      <td>53</td>\n",
       "      <td>34</td>\n",
       "    </tr>\n",
       "    <tr>\n",
       "      <th>19</th>\n",
       "      <td>RAMOS PEREZ YANINE</td>\n",
       "      <td>52</td>\n",
       "      <td>3</td>\n",
       "      <td>46</td>\n",
       "      <td>23</td>\n",
       "      <td>50</td>\n",
       "      <td>25</td>\n",
       "      <td>51</td>\n",
       "      <td>39</td>\n",
       "      <td>20</td>\n",
       "      <td>35</td>\n",
       "    </tr>\n",
       "    <tr>\n",
       "      <th>20</th>\n",
       "      <td>RIVAS HOYOS ESTEFANIA</td>\n",
       "      <td>6</td>\n",
       "      <td>20</td>\n",
       "      <td>49</td>\n",
       "      <td>37</td>\n",
       "      <td>18</td>\n",
       "      <td>15</td>\n",
       "      <td>33</td>\n",
       "      <td>25</td>\n",
       "      <td>43</td>\n",
       "      <td>24</td>\n",
       "    </tr>\n",
       "    <tr>\n",
       "      <th>21</th>\n",
       "      <td>ROSILLO TEJADA VANESA</td>\n",
       "      <td>17</td>\n",
       "      <td>24</td>\n",
       "      <td>27</td>\n",
       "      <td>41</td>\n",
       "      <td>37</td>\n",
       "      <td>21</td>\n",
       "      <td>51</td>\n",
       "      <td>50</td>\n",
       "      <td>11</td>\n",
       "      <td>42</td>\n",
       "    </tr>\n",
       "    <tr>\n",
       "      <th>22</th>\n",
       "      <td>SANCHEZ PADILLA SILVESTRE</td>\n",
       "      <td>7</td>\n",
       "      <td>32</td>\n",
       "      <td>45</td>\n",
       "      <td>14</td>\n",
       "      <td>10</td>\n",
       "      <td>47</td>\n",
       "      <td>6</td>\n",
       "      <td>3</td>\n",
       "      <td>38</td>\n",
       "      <td>12</td>\n",
       "    </tr>\n",
       "    <tr>\n",
       "      <th>23</th>\n",
       "      <td>SILVA ROYERO MAILY CRISTINA</td>\n",
       "      <td>14</td>\n",
       "      <td>13</td>\n",
       "      <td>18</td>\n",
       "      <td>38</td>\n",
       "      <td>11</td>\n",
       "      <td>2</td>\n",
       "      <td>3</td>\n",
       "      <td>4</td>\n",
       "      <td>22</td>\n",
       "      <td>32</td>\n",
       "    </tr>\n",
       "    <tr>\n",
       "      <th>24</th>\n",
       "      <td>USUGA GEORGE JHON ESTIVEN</td>\n",
       "      <td>11</td>\n",
       "      <td>12</td>\n",
       "      <td>45</td>\n",
       "      <td>43</td>\n",
       "      <td>15</td>\n",
       "      <td>13</td>\n",
       "      <td>49</td>\n",
       "      <td>18</td>\n",
       "      <td>31</td>\n",
       "      <td>28</td>\n",
       "    </tr>\n",
       "  </tbody>\n",
       "</table>\n",
       "</div>"
      ],
      "text/plain": [
       "                              Student  Exer1  Exer2  Exer3  Exer4  Exer5  \\\n",
       "0   AMARIS FERNANDEZ SEBASTIAN CAMILO     47      2     52     29     21   \n",
       "1       ARENAS HERAZO GABRIEL ENRIQUE     42     23     44     20      2   \n",
       "2        AYALA MENDOZA MARISOL YACIRA     45     26     20     10     35   \n",
       "3          BERTEL RODELO MICHELL SMIT     24     18     39     54      5   \n",
       "4            BULA VERGARA MARIA PAULA      9     23     32     46     18   \n",
       "5             CANTILLO ENSUCHO DANIEL     34      5     44     43     21   \n",
       "6            CERVANTES DURAN ANGELICA      2     20     43      7     32   \n",
       "7             GUERRA NORIEGA YONATHAN     46     39     20     19     36   \n",
       "8     HINCAPIE CASTRO JOHAN SEBASTIAN     19      7      6     34     30   \n",
       "9              HUMANEZ SANCHEZ CAMILO     54     46      2     35      9   \n",
       "10       IBAÑEZ MORENO FRANCISCO LUIS     47     53     42     46      4   \n",
       "11          MASS MIRANDA RIVALDO JOSE      5     14     43     16     33   \n",
       "12     MIRANDA MARTINEZ CARLOS ANDRES     25     31     16     47     26   \n",
       "13              MONTERROSA SOTO ABRIL      4     26     30     25     33   \n",
       "14           NORIEGA JIMENEZ GABRIELA     19     11     43     47     21   \n",
       "15             PEREZ REYES IVAN DARIO     15     10     45     14     21   \n",
       "16               PEREZ THERAN ERLINDA      5     52     10     32     35   \n",
       "17              PINEDA ROMERO YOSMERI     10     52     24      6     50   \n",
       "18         QUINONEZ CERVANTES MARIANA     39     38     12     22     17   \n",
       "19                 RAMOS PEREZ YANINE     52      3     46     23     50   \n",
       "20              RIVAS HOYOS ESTEFANIA      6     20     49     37     18   \n",
       "21              ROSILLO TEJADA VANESA     17     24     27     41     37   \n",
       "22          SANCHEZ PADILLA SILVESTRE      7     32     45     14     10   \n",
       "23        SILVA ROYERO MAILY CRISTINA     14     13     18     38     11   \n",
       "24          USUGA GEORGE JHON ESTIVEN     11     12     45     43     15   \n",
       "\n",
       "    Exer6  Exer7  Exer8  Exer9  Exer10  \n",
       "0       4     36     54     35      53  \n",
       "1      34     45     43     37       8  \n",
       "2      36     23     29     31      12  \n",
       "3      19     38     41     30      28  \n",
       "4      48     34     21     10      33  \n",
       "5      23     40     36     18      51  \n",
       "6      11     23     12     22      34  \n",
       "7      42     12     23     25      34  \n",
       "8      37     18     41     11      24  \n",
       "9       7     31     11     34      23  \n",
       "10     54     30     13     50      36  \n",
       "11     28      8     41     52       2  \n",
       "12     48     32     40     27       3  \n",
       "13     13      7     23     19      14  \n",
       "14     13     38     29     33      50  \n",
       "15     36     42     30     13      29  \n",
       "16     21     11     15     46      39  \n",
       "17     26     41     18      7      21  \n",
       "18     47     52     27     53      34  \n",
       "19     25     51     39     20      35  \n",
       "20     15     33     25     43      24  \n",
       "21     21     51     50     11      42  \n",
       "22     47      6      3     38      12  \n",
       "23      2      3      4     22      32  \n",
       "24     13     49     18     31      28  "
      ]
     },
     "execution_count": 1,
     "metadata": {},
     "output_type": "execute_result"
    }
   ],
   "source": [
    "# Tarea 2 de solución de problemas \n",
    "# asignación de ejercicios de un seccion del texto guía\n",
    "\n",
    "# numpy.random.choice() obten la documentación de esta función en: \n",
    "# https://numpy.org/doc/stable/reference/random/generated/numpy.random.choice.html\n",
    "\n",
    "import pandas as pd\n",
    "import numpy as np\n",
    "import requests\n",
    "np.random.seed(424)  # establecer semilla aleatoria para hacer los resultados reproducibles\n",
    "\n",
    "\n",
    "nombre_tarea = 'Tarea_2'\n",
    "grupo_estudiantes = 'calculo_vectorial'\n",
    "nombre_texto_guia = 'Purcell'\n",
    "pagina_y_seccion = 'Página_202_Sección_3.8'\n",
    "numero_ejercicios_taller = 54\n",
    "numero_de_ejercicios_asignados = 10\n",
    "\n",
    "\n",
    "# Descargar la lista de  estudiantes\n",
    "students_path = \"/home/marco/Documentos/docencia/groups_list/\" + grupo_estudiantes + \".csv\"\n",
    "exercises = list(range(1, numero_ejercicios_taller))  \n",
    "\n",
    "students_data = pd.read_csv(students_path)\n",
    "\n",
    "# Crear una lista para almacenar las asignaciones\n",
    "assignments = []\n",
    "\n",
    "# Asignar ejercicios aleatorios a cada estudiante\n",
    "for index, student in students_data.iterrows():\n",
    "    # Seleccionar 5 ejercicios aleatorios sin repetición\n",
    "    random_exercises = np.random.choice(exercises, numero_de_ejercicios_asignados, replace = False)+ 1 \n",
    "    assignments.append([students_data[\"Nombre\"][index], *random_exercises])  # Agregar asignación a la lista\n",
    "\n",
    "# Crear un DataFrame con las asignaciones\n",
    "columns = [\"Student\"] + [ \"Exer\" + str(i+1) for i in range(numero_de_ejercicios_asignados)]\n",
    "assignment_df = pd.DataFrame(assignments, columns=columns)\n",
    "\n",
    "# Guardar el DataFrame en un archivo CSV\n",
    "assignment_csv = nombre_tarea + \"_\" + nombre_texto_guia + \"_\"+ pagina_y_seccion + \".csv\"\n",
    "assignment_df.to_csv(assignment_csv, index=False)\n",
    "\n",
    "print(\"\"\"Tarea 2 de solución de problemas:\n",
    "      Si faltan los enunciados de los problemas, no se valora la tarea.\n",
    "      Si faltan de la conclusión verbales, no se valora la tarea.\n",
    "      Esta tarea se valora solo si la presenta de manera manuscrita en su cuaderno de clase.  \n",
    "        \"\"\", assignment_csv)\n",
    "assignment_df"
   ]
  },
  {
   "cell_type": "markdown",
   "id": "d34defb9",
   "metadata": {
    "slideshow": {
     "slide_type": "slide"
    }
   },
   "source": [
    "## Asignación individual de tareas semanales "
   ]
  },
  {
   "cell_type": "code",
   "execution_count": 5,
   "id": "0406f442",
   "metadata": {
    "slideshow": {
     "slide_type": "slide"
    }
   },
   "outputs": [
    {
     "name": "stdout",
     "output_type": "stream",
     "text": [
      "Tarea 3 Solución problemas describiendo y justificando verbalmente: \n",
      "      Si faltan los enunciados de los problemas, no se valora la tarea\n",
      "      Si faltan de la conclusión verbales, no se valora la tarea \n",
      "      Esta tarea se valora solo si la presenta de manera manuscrita en su cuaderno de clase  \n",
      "       tarea_Purcell_Página_202_Sección_3.8.csv\n"
     ]
    },
    {
     "data": {
      "text/html": [
       "<div>\n",
       "<style scoped>\n",
       "    .dataframe tbody tr th:only-of-type {\n",
       "        vertical-align: middle;\n",
       "    }\n",
       "\n",
       "    .dataframe tbody tr th {\n",
       "        vertical-align: top;\n",
       "    }\n",
       "\n",
       "    .dataframe thead th {\n",
       "        text-align: right;\n",
       "    }\n",
       "</style>\n",
       "<table border=\"1\" class=\"dataframe\">\n",
       "  <thead>\n",
       "    <tr style=\"text-align: right;\">\n",
       "      <th></th>\n",
       "      <th>Student</th>\n",
       "      <th>Exer1</th>\n",
       "      <th>Exer2</th>\n",
       "      <th>Exer3</th>\n",
       "      <th>Exer4</th>\n",
       "      <th>Exer5</th>\n",
       "      <th>Exer6</th>\n",
       "      <th>Exer7</th>\n",
       "      <th>Exer8</th>\n",
       "      <th>Exer9</th>\n",
       "      <th>Exer10</th>\n",
       "    </tr>\n",
       "  </thead>\n",
       "  <tbody>\n",
       "    <tr>\n",
       "      <th>0</th>\n",
       "      <td>AMARIS FERNANDEZ SEBASTIAN CAMILO</td>\n",
       "      <td>4</td>\n",
       "      <td>7</td>\n",
       "      <td>9</td>\n",
       "      <td>17</td>\n",
       "      <td>21</td>\n",
       "      <td>30</td>\n",
       "      <td>39</td>\n",
       "      <td>44</td>\n",
       "      <td>51</td>\n",
       "      <td>54</td>\n",
       "    </tr>\n",
       "    <tr>\n",
       "      <th>1</th>\n",
       "      <td>ARENAS HERAZO GABRIEL ENRIQUE</td>\n",
       "      <td>2</td>\n",
       "      <td>5</td>\n",
       "      <td>11</td>\n",
       "      <td>17</td>\n",
       "      <td>26</td>\n",
       "      <td>28</td>\n",
       "      <td>32</td>\n",
       "      <td>40</td>\n",
       "      <td>46</td>\n",
       "      <td>50</td>\n",
       "    </tr>\n",
       "    <tr>\n",
       "      <th>2</th>\n",
       "      <td>AYALA MENDOZA MARISOL YACIRA</td>\n",
       "      <td>10</td>\n",
       "      <td>18</td>\n",
       "      <td>21</td>\n",
       "      <td>37</td>\n",
       "      <td>39</td>\n",
       "      <td>45</td>\n",
       "      <td>46</td>\n",
       "      <td>47</td>\n",
       "      <td>51</td>\n",
       "      <td>52</td>\n",
       "    </tr>\n",
       "    <tr>\n",
       "      <th>3</th>\n",
       "      <td>BERTEL RODELO MICHELL SMIT</td>\n",
       "      <td>4</td>\n",
       "      <td>8</td>\n",
       "      <td>20</td>\n",
       "      <td>26</td>\n",
       "      <td>28</td>\n",
       "      <td>33</td>\n",
       "      <td>40</td>\n",
       "      <td>41</td>\n",
       "      <td>42</td>\n",
       "      <td>47</td>\n",
       "    </tr>\n",
       "    <tr>\n",
       "      <th>4</th>\n",
       "      <td>BULA VERGARA MARIA PAULA</td>\n",
       "      <td>12</td>\n",
       "      <td>13</td>\n",
       "      <td>20</td>\n",
       "      <td>23</td>\n",
       "      <td>25</td>\n",
       "      <td>27</td>\n",
       "      <td>29</td>\n",
       "      <td>30</td>\n",
       "      <td>34</td>\n",
       "      <td>48</td>\n",
       "    </tr>\n",
       "    <tr>\n",
       "      <th>5</th>\n",
       "      <td>CANTILLO ENSUCHO DANIEL</td>\n",
       "      <td>2</td>\n",
       "      <td>4</td>\n",
       "      <td>5</td>\n",
       "      <td>7</td>\n",
       "      <td>15</td>\n",
       "      <td>25</td>\n",
       "      <td>27</td>\n",
       "      <td>33</td>\n",
       "      <td>46</td>\n",
       "      <td>51</td>\n",
       "    </tr>\n",
       "    <tr>\n",
       "      <th>6</th>\n",
       "      <td>CERVANTES DURAN ANGELICA</td>\n",
       "      <td>2</td>\n",
       "      <td>4</td>\n",
       "      <td>5</td>\n",
       "      <td>14</td>\n",
       "      <td>17</td>\n",
       "      <td>19</td>\n",
       "      <td>22</td>\n",
       "      <td>24</td>\n",
       "      <td>34</td>\n",
       "      <td>52</td>\n",
       "    </tr>\n",
       "    <tr>\n",
       "      <th>7</th>\n",
       "      <td>GUERRA NORIEGA YONATHAN</td>\n",
       "      <td>3</td>\n",
       "      <td>20</td>\n",
       "      <td>24</td>\n",
       "      <td>26</td>\n",
       "      <td>28</td>\n",
       "      <td>35</td>\n",
       "      <td>39</td>\n",
       "      <td>48</td>\n",
       "      <td>49</td>\n",
       "      <td>53</td>\n",
       "    </tr>\n",
       "    <tr>\n",
       "      <th>8</th>\n",
       "      <td>HINCAPIE CASTRO JOHAN SEBASTIAN</td>\n",
       "      <td>10</td>\n",
       "      <td>17</td>\n",
       "      <td>27</td>\n",
       "      <td>28</td>\n",
       "      <td>29</td>\n",
       "      <td>32</td>\n",
       "      <td>36</td>\n",
       "      <td>44</td>\n",
       "      <td>48</td>\n",
       "      <td>54</td>\n",
       "    </tr>\n",
       "    <tr>\n",
       "      <th>9</th>\n",
       "      <td>HUMANEZ SANCHEZ CAMILO</td>\n",
       "      <td>3</td>\n",
       "      <td>16</td>\n",
       "      <td>19</td>\n",
       "      <td>24</td>\n",
       "      <td>33</td>\n",
       "      <td>41</td>\n",
       "      <td>43</td>\n",
       "      <td>44</td>\n",
       "      <td>47</td>\n",
       "      <td>49</td>\n",
       "    </tr>\n",
       "    <tr>\n",
       "      <th>10</th>\n",
       "      <td>IBAÑEZ MORENO FRANCISCO LUIS</td>\n",
       "      <td>3</td>\n",
       "      <td>8</td>\n",
       "      <td>13</td>\n",
       "      <td>16</td>\n",
       "      <td>21</td>\n",
       "      <td>27</td>\n",
       "      <td>28</td>\n",
       "      <td>31</td>\n",
       "      <td>42</td>\n",
       "      <td>43</td>\n",
       "    </tr>\n",
       "    <tr>\n",
       "      <th>11</th>\n",
       "      <td>MASS MIRANDA RIVALDO JOSE</td>\n",
       "      <td>2</td>\n",
       "      <td>3</td>\n",
       "      <td>12</td>\n",
       "      <td>13</td>\n",
       "      <td>23</td>\n",
       "      <td>24</td>\n",
       "      <td>31</td>\n",
       "      <td>35</td>\n",
       "      <td>46</td>\n",
       "      <td>52</td>\n",
       "    </tr>\n",
       "    <tr>\n",
       "      <th>12</th>\n",
       "      <td>MIRANDA MARTINEZ CARLOS ANDRES</td>\n",
       "      <td>10</td>\n",
       "      <td>12</td>\n",
       "      <td>21</td>\n",
       "      <td>24</td>\n",
       "      <td>25</td>\n",
       "      <td>26</td>\n",
       "      <td>27</td>\n",
       "      <td>29</td>\n",
       "      <td>39</td>\n",
       "      <td>50</td>\n",
       "    </tr>\n",
       "    <tr>\n",
       "      <th>13</th>\n",
       "      <td>MONTERROSA SOTO ABRIL</td>\n",
       "      <td>10</td>\n",
       "      <td>14</td>\n",
       "      <td>16</td>\n",
       "      <td>18</td>\n",
       "      <td>28</td>\n",
       "      <td>30</td>\n",
       "      <td>35</td>\n",
       "      <td>36</td>\n",
       "      <td>42</td>\n",
       "      <td>50</td>\n",
       "    </tr>\n",
       "    <tr>\n",
       "      <th>14</th>\n",
       "      <td>NORIEGA JIMENEZ GABRIELA</td>\n",
       "      <td>4</td>\n",
       "      <td>13</td>\n",
       "      <td>14</td>\n",
       "      <td>16</td>\n",
       "      <td>19</td>\n",
       "      <td>22</td>\n",
       "      <td>36</td>\n",
       "      <td>37</td>\n",
       "      <td>46</td>\n",
       "      <td>51</td>\n",
       "    </tr>\n",
       "    <tr>\n",
       "      <th>15</th>\n",
       "      <td>PEREZ REYES IVAN DARIO</td>\n",
       "      <td>17</td>\n",
       "      <td>19</td>\n",
       "      <td>23</td>\n",
       "      <td>26</td>\n",
       "      <td>30</td>\n",
       "      <td>33</td>\n",
       "      <td>34</td>\n",
       "      <td>40</td>\n",
       "      <td>46</td>\n",
       "      <td>53</td>\n",
       "    </tr>\n",
       "    <tr>\n",
       "      <th>16</th>\n",
       "      <td>PEREZ THERAN ERLINDA</td>\n",
       "      <td>3</td>\n",
       "      <td>6</td>\n",
       "      <td>19</td>\n",
       "      <td>21</td>\n",
       "      <td>25</td>\n",
       "      <td>30</td>\n",
       "      <td>32</td>\n",
       "      <td>39</td>\n",
       "      <td>42</td>\n",
       "      <td>45</td>\n",
       "    </tr>\n",
       "    <tr>\n",
       "      <th>17</th>\n",
       "      <td>PINEDA ROMERO YOSMERI</td>\n",
       "      <td>2</td>\n",
       "      <td>30</td>\n",
       "      <td>31</td>\n",
       "      <td>32</td>\n",
       "      <td>35</td>\n",
       "      <td>36</td>\n",
       "      <td>37</td>\n",
       "      <td>42</td>\n",
       "      <td>47</td>\n",
       "      <td>50</td>\n",
       "    </tr>\n",
       "    <tr>\n",
       "      <th>18</th>\n",
       "      <td>QUINONEZ CERVANTES MARIANA</td>\n",
       "      <td>5</td>\n",
       "      <td>6</td>\n",
       "      <td>8</td>\n",
       "      <td>13</td>\n",
       "      <td>15</td>\n",
       "      <td>32</td>\n",
       "      <td>33</td>\n",
       "      <td>42</td>\n",
       "      <td>46</td>\n",
       "      <td>49</td>\n",
       "    </tr>\n",
       "    <tr>\n",
       "      <th>19</th>\n",
       "      <td>RAMOS PEREZ YANINE</td>\n",
       "      <td>11</td>\n",
       "      <td>20</td>\n",
       "      <td>21</td>\n",
       "      <td>28</td>\n",
       "      <td>29</td>\n",
       "      <td>37</td>\n",
       "      <td>39</td>\n",
       "      <td>44</td>\n",
       "      <td>46</td>\n",
       "      <td>52</td>\n",
       "    </tr>\n",
       "    <tr>\n",
       "      <th>20</th>\n",
       "      <td>RIVAS HOYOS ESTEFANIA</td>\n",
       "      <td>7</td>\n",
       "      <td>10</td>\n",
       "      <td>12</td>\n",
       "      <td>14</td>\n",
       "      <td>17</td>\n",
       "      <td>25</td>\n",
       "      <td>28</td>\n",
       "      <td>30</td>\n",
       "      <td>37</td>\n",
       "      <td>48</td>\n",
       "    </tr>\n",
       "    <tr>\n",
       "      <th>21</th>\n",
       "      <td>ROSILLO TEJADA VANESA</td>\n",
       "      <td>12</td>\n",
       "      <td>22</td>\n",
       "      <td>23</td>\n",
       "      <td>27</td>\n",
       "      <td>28</td>\n",
       "      <td>30</td>\n",
       "      <td>34</td>\n",
       "      <td>36</td>\n",
       "      <td>40</td>\n",
       "      <td>44</td>\n",
       "    </tr>\n",
       "    <tr>\n",
       "      <th>22</th>\n",
       "      <td>SANCHEZ PADILLA SILVESTRE</td>\n",
       "      <td>4</td>\n",
       "      <td>7</td>\n",
       "      <td>15</td>\n",
       "      <td>22</td>\n",
       "      <td>32</td>\n",
       "      <td>34</td>\n",
       "      <td>38</td>\n",
       "      <td>43</td>\n",
       "      <td>48</td>\n",
       "      <td>53</td>\n",
       "    </tr>\n",
       "    <tr>\n",
       "      <th>23</th>\n",
       "      <td>SILVA ROYERO MAILY CRISTINA</td>\n",
       "      <td>4</td>\n",
       "      <td>5</td>\n",
       "      <td>12</td>\n",
       "      <td>13</td>\n",
       "      <td>20</td>\n",
       "      <td>25</td>\n",
       "      <td>30</td>\n",
       "      <td>35</td>\n",
       "      <td>42</td>\n",
       "      <td>54</td>\n",
       "    </tr>\n",
       "    <tr>\n",
       "      <th>24</th>\n",
       "      <td>USUGA GEORGE JHON ESTIVEN</td>\n",
       "      <td>5</td>\n",
       "      <td>7</td>\n",
       "      <td>8</td>\n",
       "      <td>10</td>\n",
       "      <td>22</td>\n",
       "      <td>37</td>\n",
       "      <td>39</td>\n",
       "      <td>42</td>\n",
       "      <td>44</td>\n",
       "      <td>51</td>\n",
       "    </tr>\n",
       "  </tbody>\n",
       "</table>\n",
       "</div>"
      ],
      "text/plain": [
       "                              Student  Exer1  Exer2  Exer3  Exer4  Exer5  \\\n",
       "0   AMARIS FERNANDEZ SEBASTIAN CAMILO      4      7      9     17     21   \n",
       "1       ARENAS HERAZO GABRIEL ENRIQUE      2      5     11     17     26   \n",
       "2        AYALA MENDOZA MARISOL YACIRA     10     18     21     37     39   \n",
       "3          BERTEL RODELO MICHELL SMIT      4      8     20     26     28   \n",
       "4            BULA VERGARA MARIA PAULA     12     13     20     23     25   \n",
       "5             CANTILLO ENSUCHO DANIEL      2      4      5      7     15   \n",
       "6            CERVANTES DURAN ANGELICA      2      4      5     14     17   \n",
       "7             GUERRA NORIEGA YONATHAN      3     20     24     26     28   \n",
       "8     HINCAPIE CASTRO JOHAN SEBASTIAN     10     17     27     28     29   \n",
       "9              HUMANEZ SANCHEZ CAMILO      3     16     19     24     33   \n",
       "10       IBAÑEZ MORENO FRANCISCO LUIS      3      8     13     16     21   \n",
       "11          MASS MIRANDA RIVALDO JOSE      2      3     12     13     23   \n",
       "12     MIRANDA MARTINEZ CARLOS ANDRES     10     12     21     24     25   \n",
       "13              MONTERROSA SOTO ABRIL     10     14     16     18     28   \n",
       "14           NORIEGA JIMENEZ GABRIELA      4     13     14     16     19   \n",
       "15             PEREZ REYES IVAN DARIO     17     19     23     26     30   \n",
       "16               PEREZ THERAN ERLINDA      3      6     19     21     25   \n",
       "17              PINEDA ROMERO YOSMERI      2     30     31     32     35   \n",
       "18         QUINONEZ CERVANTES MARIANA      5      6      8     13     15   \n",
       "19                 RAMOS PEREZ YANINE     11     20     21     28     29   \n",
       "20              RIVAS HOYOS ESTEFANIA      7     10     12     14     17   \n",
       "21              ROSILLO TEJADA VANESA     12     22     23     27     28   \n",
       "22          SANCHEZ PADILLA SILVESTRE      4      7     15     22     32   \n",
       "23        SILVA ROYERO MAILY CRISTINA      4      5     12     13     20   \n",
       "24          USUGA GEORGE JHON ESTIVEN      5      7      8     10     22   \n",
       "\n",
       "    Exer6  Exer7  Exer8  Exer9  Exer10  \n",
       "0      30     39     44     51      54  \n",
       "1      28     32     40     46      50  \n",
       "2      45     46     47     51      52  \n",
       "3      33     40     41     42      47  \n",
       "4      27     29     30     34      48  \n",
       "5      25     27     33     46      51  \n",
       "6      19     22     24     34      52  \n",
       "7      35     39     48     49      53  \n",
       "8      32     36     44     48      54  \n",
       "9      41     43     44     47      49  \n",
       "10     27     28     31     42      43  \n",
       "11     24     31     35     46      52  \n",
       "12     26     27     29     39      50  \n",
       "13     30     35     36     42      50  \n",
       "14     22     36     37     46      51  \n",
       "15     33     34     40     46      53  \n",
       "16     30     32     39     42      45  \n",
       "17     36     37     42     47      50  \n",
       "18     32     33     42     46      49  \n",
       "19     37     39     44     46      52  \n",
       "20     25     28     30     37      48  \n",
       "21     30     34     36     40      44  \n",
       "22     34     38     43     48      53  \n",
       "23     25     30     35     42      54  \n",
       "24     37     39     42     44      51  "
      ]
     },
     "execution_count": 5,
     "metadata": {},
     "output_type": "execute_result"
    }
   ],
   "source": [
    "# Tarea 3 de solución de problemas describiendo procedimientos y justificándolos\n",
    "\n",
    "# asignación de ejercicios de un seccion del texto guía\n",
    "\n",
    "# numpy.random.choice() obten la documentación de esta función en: \n",
    "# https://numpy.org/doc/stable/reference/random/generated/numpy.random.choice.html\n",
    "\n",
    "import pandas as pd\n",
    "import numpy as np\n",
    "import requests\n",
    "np.random.seed(126)  # establecer semilla aleatoria para hacer los resultados reproducibles\n",
    "\n",
    "\n",
    "nombre_tarea = 'Tarea_3_Solución_problemas_describiendo_y_justificando_verbalmente'\n",
    "grupo_estudiantes = 'calculo_vectorial'\n",
    "nombre_texto_guia = 'Purcell'\n",
    "pagina_y_seccion = 'Página_202_Sección_3.8'\n",
    "numero_ejercicios_taller = 54\n",
    "numero_de_ejercicios_asignados = 10\n",
    "\n",
    "\n",
    "# Descargar la lista de  estudiantes\n",
    "students_path = \"/home/marco/Documentos/docencia/groups_list/\" + grupo_estudiantes + \".csv\"\n",
    "exercises = list(range(1, numero_ejercicios_taller))  \n",
    "\n",
    "students_data = pd.read_csv(students_path)\n",
    "\n",
    "# Crear una lista para almacenar las asignaciones\n",
    "assignments = []\n",
    "\n",
    "# Asignar ejercicios aleatorios a cada estudiante\n",
    "for index, student in students_data.iterrows():\n",
    "    # Seleccionar 5 ejercicios aleatorios sin repetición\n",
    "    random_exercises = np.sort(np.random.choice(exercises, numero_de_ejercicios_asignados,\\\n",
    "                                                 replace = False)+ 1) \n",
    "    assignments.append([students_data[\"Nombre\"][index], *random_exercises])  # Agregar asignación a la lista\n",
    "\n",
    "# Crear un DataFrame con las asignaciones\n",
    "columns = [\"Student\"] + [ \"Exer\" + str(i+1) for i in range(numero_de_ejercicios_asignados)]\n",
    "assignment_df = pd.DataFrame(assignments, columns=columns)\n",
    "\n",
    "# Guardar el DataFrame en un archivo CSV\n",
    "assignment_csv = nombre_tarea + \"_\" + nombre_texto_guia + \"_\"+ pagina_y_seccion + \".csv\"\n",
    "assignment_df.to_csv(assignment_csv, index=False)\n",
    "\n",
    "print(\"\"\"Tarea 3 Solución problemas describiendo y justificando verbalmente: \n",
    "      Si faltan los enunciados de los problemas, no se valora la tarea\n",
    "      Si faltan de la conclusión verbales, no se valora la tarea \n",
    "      Esta tarea se valora solo si la presenta de manera manuscrita en su cuaderno de clase  \n",
    "      \"\"\", assignment_csv)\n",
    "assignment_df"
   ]
  },
  {
   "cell_type": "markdown",
   "id": "8d41fe58",
   "metadata": {
    "slideshow": {
     "slide_type": "slide"
    }
   },
   "source": [
    "# Horario de clases del profesor Marco\n",
    "\n",
    "* Lunes 8-12: Cálculo Vectorial\n",
    "* Martes 8-12 M: Fundamentos de Aritmética. \n",
    "* Miércoles 8 a 12 M: Fundamentos de la Lógica\n",
    "* Jueves 2 a 6PM: Desarrollo del pensamiento matemático en la infancia. \n",
    "* Viernes 8 - 12 M: Desarrollo del pensamiento matemático en la infancia. \n",
    "* Sábados 8-12 Asesorías "
   ]
  },
  {
   "cell_type": "markdown",
   "id": "ae114e14",
   "metadata": {
    "slideshow": {
     "slide_type": "slide"
    }
   },
   "source": [
    "# Horarios de monitoría y asesoría  \n",
    "\n",
    "Coordinador de los cursos de la Facultad de Educación para regiones:    \n",
    "\n",
    "Andrés Vélez: regioneducacion.fedu@udea.edu.co  \n",
    "Coordinador Regiones  \n",
    "Facultad de Educación  \n",
    "Universidad de Antioquia  "
   ]
  },
  {
   "cell_type": "markdown",
   "id": "b1db4b6c",
   "metadata": {
    "slideshow": {
     "slide_type": "slide"
    }
   },
   "source": [
    "## Monitor Manuel San Juan Serrano\n",
    "\n",
    "Contactar escribiendo al correo: manuel.serrano1@udea.edu.co"
   ]
  },
  {
   "cell_type": "markdown",
   "id": "39559692",
   "metadata": {
    "slideshow": {
     "slide_type": "slide"
    }
   },
   "source": [
    "Martes y jueves de 8 - 12  \n",
    "Miércoles 10 - 12 y de 2 a 4 PM  \n",
    "Sábado: 8 - 12"
   ]
  },
  {
   "cell_type": "markdown",
   "id": "5a190057",
   "metadata": {},
   "source": [
    "## Monitoría virtual   \n",
    "\n",
    "Telefono del monitos en whatsApp: 3043936088  \n",
    "\n",
    "Juan David Cano Castrillón  \n",
    "Estudiante de Pregrado.  \n",
    "juan.canoc1@udea.edu.co  \n",
    "3043936088  \n"
   ]
  },
  {
   "cell_type": "markdown",
   "id": "10bce0d0",
   "metadata": {
    "slideshow": {
     "slide_type": "slide"
    }
   },
   "source": [
    "## Referentes "
   ]
  },
  {
   "cell_type": "markdown",
   "id": "1db3c468",
   "metadata": {
    "slideshow": {
     "slide_type": "slide"
    }
   },
   "source": [
    "* [Grajales Vanegas, L. M., Restrepo Estrada, C. E., Restrepo Ochoa, S. I., & Ruíz De Villalba, F. (2015). Matemáticas I para las ciencias económicas.](https://github.com/marco-canas/fundamentos_de_la_aritmetica/blob/main/referentes/2_grajales_logica/grajales_lina_matemticas.pdf)\n",
    "  \n",
    "* Duval, R. (2004). Semiosis y pensamiento humano: registros semióticos y aprendizajes intelectuales. Universidad del Valle.\n",
    "\n",
    "* [Aylwin, C. U. (2011). Lógica, conjuntos y números. Universidad de los Andes, Consejo de Publicaciones, Colección: Ciencias Básicas, Serie: Matemáticas.](https://github.com/marco-canas/fundamentos_logica/blob/main/referentes/2_uzcategui/uscategui.pdf)\n",
    "  \n",
    "* [Chollet, F. (2021). Deep learning with Python. Simon and Schuster.](https://github.com/marco-canas/didactica_ciencia_datos/blob/main/2_referentes/chollet/Fran%C3%A7ois%20Chollet%20-%20Deep%20Learning%20with%20Python-Manning%20(2018).pdf)  \n",
    "  \n",
    "* [Watson, S., Stewart, J., & Redlin, L. (2009). Precálculo. Matemáticas para el cálculo.](https://github.com/marco-canas/calculo/blob/main/referents/1_precalculo_stewart/stewart_precalculo.pdf)  \n",
    "\n",
    "* [Purcell, E. J., Varberg, D., & Rigdon, S. E. (2007). Cálculo diferencial e integral. Pearson Educación.](https://github.com/marco-canas/calculo/blob/main/referents/purcell/purcell_calculo.pdf)\n",
    "\n",
    "  \n",
    "\n",
    "* [stewart cálculo](https://udeaeduco-my.sharepoint.com/:b:/g/personal/marco_canas_udea_edu_co/EZgXZjAp8QxPqOAim2hs6LcBNPLGjSHf-xwYnUVYkwa04w?e=RZdTCy)  \n",
    "\n",
    "* [larson](https://udeaeduco-my.sharepoint.com/:b:/g/personal/marco_canas_udea_edu_co/ES71ChFeO9ZDhW3TwC5Ijk8BjxUK3Pdqz_fjHxTTFAfIAg?e=VDEjfu)\n",
    "\n",
    "\n",
    "\n",
    "* [Recomendación de la UNESCO sobre ciencia abierta](https://unesdoc.unesco.org/ark:/48223/pf0000379949_spa)\n",
    "\n",
    "* [chatGPT](https://openai.com/blog/chatgpt)  \n",
    "\n",
    "* [Géron, A. (2017). Hands-on machine learning with scikit-learn and tensorflow: Concepts. Tools, and Techniques to build intelligent systems.](https://github.com/marco-canas/didactica_ciencia_datos/blob/main/2_referentes/geron/Hands-On%20Machine%20Learning-3nd_Edition(2022).pdf)  \n",
    "\n",
    "* [McKinney, W. (2012). Python for data analysis: Data wrangling with Pandas, NumPy, and IPython. \" O'Reilly Media, Inc.\".](https://github.com/marco-canas/didactica_ciencia_datos/blob/main/2_referentes/mckinney/Wes_McKinney.pdf)  "
   ]
  },
  {
   "cell_type": "markdown",
   "id": "8e65d6f9",
   "metadata": {},
   "source": [
    "# Como estudiante, encuentro que...   \n",
    "\n",
    "F: Mis Fortalezas son:     \n",
    "O: Mis Oportunidades son:    \n",
    "D: Mis Debilidades son:    \n",
    "A: Lo que Amenazas mi aprendizaje es:  "
   ]
  },
  {
   "cell_type": "markdown",
   "id": "6b9e56a8",
   "metadata": {
    "slideshow": {
     "slide_type": "slide"
    }
   },
   "source": [
    "### [Evaluamos al profesor Marco Cañas Aquí](https://forms.office.com/Pages/ResponsePage.aspx?id=IefhmYRxjkmK_7KtTlPBwkanXIs1i1FEujpsZgO6dXpUREJPV1kxUk1JV1ozTFJIQVNIQjY5WEY3US4u)"
   ]
  },
  {
   "cell_type": "markdown",
   "id": "050b9508",
   "metadata": {},
   "source": [
    "# Aportes de mis estudiantes a la metodología del curso  \n",
    "1. \n",
    "\n",
    "Sus opiniones y aportes son muy importantes para mi. Pues esta es una investigación educativa y un servicio de enseñanza para ustedes. Ustedes son la razón de ser de mi actividad docente. Dios los bendiga. "
   ]
  },
  {
   "cell_type": "markdown",
   "id": "6c4af91f",
   "metadata": {},
   "source": [
    "# Aportes de mis colegas docentes a la metodología que estoy aplicando en mis cursos. "
   ]
  },
  {
   "cell_type": "markdown",
   "id": "071afa04",
   "metadata": {
    "slideshow": {
     "slide_type": "slide"
    }
   },
   "source": [
    "## [Evaluación luego de alcanzar estos objetivos de aprendizaje]()"
   ]
  },
  {
   "cell_type": "markdown",
   "id": "10f43536",
   "metadata": {
    "slideshow": {
     "slide_type": "slide"
    }
   },
   "source": [
    "### Continue su aprendizaje en la siguiente clase a través del siguiente [vínculo]()"
   ]
  },
  {
   "cell_type": "markdown",
   "id": "ba236f4d",
   "metadata": {},
   "source": [
    "### **Actividad de Clase: Expresar Ideas, Dudas y Emociones de Manera Respetuosa y Asertiva**\n"
   ]
  },
  {
   "cell_type": "markdown",
   "id": "33bcd185",
   "metadata": {},
   "source": [
    "\n",
    "**Objetivo:**  \n",
    "Desarrollar habilidades de comunicación efectiva en los estudiantes para que puedan expresar sus ideas, dudas y emociones de forma respetuosa y asertiva.\n",
    "\n",
    "**Duración:**  \n",
    "15-20 minutos\n",
    "\n",
    "---\n"
   ]
  },
  {
   "cell_type": "markdown",
   "id": "f61da648",
   "metadata": {},
   "source": [
    "\n",
    "### **1. Introducción (5 minutos)**  \n",
    "- **Tema:** Introducir a los estudiantes al concepto de la comunicación asertiva, explicando cómo expresar pensamientos y emociones de manera clara y respetuosa sin agredir o ser pasivo.\n",
    "- **Dinámica:** Mostrar dos ejemplos contrastantes: uno de comunicación pasiva/agresiva y otro de comunicación asertiva. Preguntar a los estudiantes cuál creen que es más efectivo y por qué.\n",
    "\n",
    "**Materiales:**  \n",
    "- Pizarra o diapositivas con ejemplos de frases pasivas, agresivas y asertivas.\n",
    "  \n",
    "**Ejemplo:**  \n",
    "- **Pasivo:** “Bueno… no sé si es una buena idea, pero… tal vez podrías intentarlo.”\n",
    "- **Agresivo:** “¡Tu idea es terrible, no va a funcionar!”\n",
    "- **Asertivo:** “Creo que podríamos mejorar esa idea si consideramos otro enfoque.”\n",
    "\n",
    "---\n",
    "\n",
    "### **2. Ejercicio en Parejas (10 minutos)**  \n",
    "- **Instrucciones:** Dividir a los estudiantes en parejas. Darles diferentes situaciones cotidianas en las que deben comunicarse (pedir ayuda, expresar desacuerdo, compartir una idea, etc.). Cada pareja debe crear una breve conversación donde practiquen la comunicación asertiva.\n",
    "  \n",
    "**Situaciones propuestas:**\n",
    "  - Expresar desacuerdo con un compañero sobre una tarea de grupo.\n",
    "  - Pedirle ayuda al profesor sobre un concepto difícil.\n",
    "  - Expresar frustración por un malentendido en clase.\n",
    "\n",
    "- **Reglas:** Cada estudiante debe asegurarse de usar lenguaje respetuoso y asertivo para expresar su posición y emociones. Al final, cada pareja debe compartir con la clase un ejemplo de lo que discutieron.\n",
    "\n",
    "---\n",
    "\n",
    "### **3. Retroalimentación y Discusión (5 minutos)**  \n",
    "- **Discusión:** Invitar a algunos estudiantes a compartir sus experiencias de la actividad. \n",
    "- **Preguntas:** ¿Cómo se sintieron al intentar ser asertivos? ¿Les resultó difícil? ¿Cómo fue recibido el mensaje?\n",
    "  \n",
    "**Consejo:** Resaltar la importancia de practicar la asertividad como una herramienta para mejorar la comunicación interpersonal y reducir conflictos.\n",
    "\n",
    "---\n",
    "\n",
    "### **Cierre**  \n",
    "- Resumir las características de la comunicación asertiva: uso de \"yo\" en lugar de \"tú\" para evitar culpabilizar, tono de voz calmado, y respeto hacia el interlocutor.\n",
    "- **Tarea opcional:** Pedirles que practiquen la comunicación asertiva en sus conversaciones durante la semana y escriban una reflexión breve sobre cómo les fue.\n",
    "\n",
    "**Material adicional:**  \n",
    "- Video corto o recurso digital sobre la importancia de la comunicación asertiva."
   ]
  },
  {
   "cell_type": "markdown",
   "id": "53cc9115",
   "metadata": {
    "slideshow": {
     "slide_type": "slide"
    }
   },
   "source": [
    "## Agradecimientos  \n",
    "\n",
    "Doy gracias a Dios por la vida de mi Hijo Joseph Cañas Osorio y la madurez que ha alcanzado.\n",
    "\n",
    "Y a mi esposa Yasmira por su apoyo, orientación y acompañamiento. "
   ]
  }
 ],
 "metadata": {
  "celltoolbar": "Slideshow",
  "kernelspec": {
   "display_name": ".venv",
   "language": "python",
   "name": "python3"
  },
  "language_info": {
   "codemirror_mode": {
    "name": "ipython",
    "version": 3
   },
   "file_extension": ".py",
   "mimetype": "text/x-python",
   "name": "python",
   "nbconvert_exporter": "python",
   "pygments_lexer": "ipython3",
   "version": "3.12.6"
  },
  "rise": {
   "enable_chalkboard": true,
   "theme": "sky",
   "transition": "zoom"
  }
 },
 "nbformat": 4,
 "nbformat_minor": 5
}
