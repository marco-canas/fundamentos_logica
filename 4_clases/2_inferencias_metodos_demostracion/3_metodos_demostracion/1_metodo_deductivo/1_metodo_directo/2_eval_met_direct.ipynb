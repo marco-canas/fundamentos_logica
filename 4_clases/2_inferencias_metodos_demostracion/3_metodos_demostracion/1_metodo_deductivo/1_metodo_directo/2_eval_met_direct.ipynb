{
 "cells": [
  {
   "cell_type": "markdown",
   "id": "dc06dec7",
   "metadata": {
    "slideshow": {
     "slide_type": "slide"
    }
   },
   "source": [
    "<table align=\"left\">\n",
    "  <td>\n",
    "    <a href=\"https://colab.research.google.com/github/marco-canas/didactica_ciencia_datos/blob/main/1_curso_machine_learning/1_evaluacion_oral_tarea_quiz_parcial.ipynb\" target=\"_parent\"><img src=\"https://colab.research.google.com/assets/colab-badge.svg\" alt=\"Open In Colab\"/></a>\n",
    "  </td>\n",
    "  <td>\n",
    "    <a target=\"_blank\" href=\"https://kaggle.com/kernels/welcome?src=https://github.com/marco-canas/didactica_ciencia_datos/blob/main/1_curso_machine_learning/1_evaluacion_oral_tarea_quiz_parcial.ipynb\"><img src=\"https://kaggle.com/static/images/open-in-kaggle.svg\" /></a>\n",
    "  </td>\n",
    "</table>"
   ]
  },
  {
   "cell_type": "markdown",
   "id": "e0c5b198",
   "metadata": {
    "slideshow": {
     "slide_type": "slide"
    }
   },
   "source": [
    "### [Video de apoyo a la lectura interactiva y experimental de este cuaderno]()"
   ]
  },
  {
   "cell_type": "markdown",
   "id": "41e82203",
   "metadata": {
    "slideshow": {
     "slide_type": "slide"
    }
   },
   "source": [
    "## [Vínculo al programa del curso:  ]()"
   ]
  },
  {
   "cell_type": "markdown",
   "id": "ca46c23b",
   "metadata": {
    "slideshow": {
     "slide_type": "slide"
    }
   },
   "source": [
    "# Modelo general de clase: [aula invertida](https://www3.gobiernodecanarias.org/medusa/ecoescuela/pedagotic/aprendizaje-invertido-flipped-classroom/)\n"
   ]
  },
  {
   "cell_type": "markdown",
   "id": "7f9be90f",
   "metadata": {
    "slideshow": {
     "slide_type": "slide"
    }
   },
   "source": [
    "# Fomento de la lectura literaria asociada a Ingeniería agropecuaria y licenciatura en Matemáticas y administración de empresas\n",
    "\n",
    "[Hábitos atómicos](https://github.com/marco-canas/habitos_atomicos/blob/main/13_como_dejar_de_postergar_usando_la_regla_de_los_dos_minutos/1_13_como_dejar_de_postergar_usando_la_regla_de_los_dos_minutos.ipynb)"
   ]
  },
  {
   "cell_type": "markdown",
   "id": "96775931",
   "metadata": {
    "slideshow": {
     "slide_type": "slide"
    }
   },
   "source": [
    "# Título de la clase: Realización evaluación oral, de Tareas en cuadernos Jupyter, Quiz o Parcial de selección múltiple o de preguntas cerradas.  \n",
    "\n"
   ]
  },
  {
   "cell_type": "markdown",
   "id": "2ddbecf3",
   "metadata": {},
   "source": [
    "Dame, por favor, un diseño de clase, con el enfoque: STEAMS  y de aprendizaje basado en problemas y proyectos(ABPP); sobre: **\"El método de demostración directa y su implementación en la validación de supuestos geométricos en la formación de Licenciados en matemáticas en Caucasia Antioquia.\"**, siguiendo la estructura:   \n",
    "\n",
    "1. Título de la clase \n",
    "2. Objetivo de aprendizaje e indicadores de logro de estos objetivos. \n",
    "3.  Un mapa conceptual que resuma la clase elaborado en Graphviz de python con nodos y edges de diferentes formas, colores y rellenos y renderizado en la siguiente ubicación: `\"C:/Users/marco/Downloads\"`. No olvides el parámetro `view = True` para el método `render()` de Graphviz. Para este mapa controla las superposiciones de los nodos con: graph [overlap=false]; // Elimina superposiciones (puede aumentar el espacio)\n",
    "graph [overlap=\"scalexy\"]; // Escala el gráfico para evitar overlaps\n",
    "graph [overlap=\"compress\"]; // Comprime el grafo sin overlaps   \n",
    "   \n",
    "4. Contenido de la clase    \n",
    "   \n",
    "5. Incluye una canción o un poema que ayude a interiorizar y fijar los conceptos asociados a esta clase.  \n",
    "   \n",
    "6. Dame elementos históricos y epistemológicos asociados a esta clase, pero contados como un cuento al estilo de un cuentero antioqueño en Colombia. Incluye imágenes de los protagonistas históricos de esta clase.   \n",
    "   \n",
    "7. Actividades de aprendizaje    \n",
    "     * Incluya actividades de aprendizaje utilizando Calculadora **Casio 991 LA cw**\n",
    "     * Incluya también actividades de aprendizaje y modelación de situaciones o problemas reales a través de circuitos lógicos y circuitos digitales o electrónicos utilizando la aplicación portable cocodrilo. [Descarge esta aplicación portable aquí](https://crocodileclips.net/descargar-crocodile-clips/)    \n",
    "   \n",
    "8.  Tarea o actividades de ejercitación y fijación.  \n",
    "     \n",
    "    \n",
    "9.  Evaluación incluyendo diez proyectos, un ejemplo de quiz y un ejemplo de parcial.  \n",
    "     * Diseña el quiz con preguntas, donde se pida al estudiante el mostrar la aplicación de las expresiones lógicas en contextos: \n",
    "       - Deportivos\n",
    "       - Cotidianos\n",
    "       - Matemáticas en teoría de números \n",
    "       - Matemáticas en geometría euclidiana\n",
    "       - Matemática en Cálculo Diferencial.\n",
    "       - Económicos. \n",
    "     * Actividad de desarrollo de habilidades metacognitivas para hacernos consientes de nuestro propio proceso de aprendizaje y de la importancia de la evaluación continua.\n",
    "\n",
    "10. Diseño de actividad de retroalimentación.  \n",
    "      \n",
    "11. Dame un vocabulario y frases del idioma inglés asociadas a esta clase.   \n",
    "    \n",
    "12. Incluye apéndice para la clase sobre desarrollo de habilidades para trabajar en equipo y de asertividad y empatía para relacionarnos. También elementos de la inteligencia emocional para presentar pruebas sin temor y sin realizar fraude en ellas.   \n",
    "13. Incluye 10 referentes en didáctica de la matemática que estén de acuerdo a la propuesta didáctica de esta clase. Adiciona a estos referentes a Raymond Duval (Representaciones y cambios de representación para la adquisición de conceptos matemáticos) y a Jeannette Wing (Desarrollo del pensamiento computacional). Déjame todos estos referentes ordenados de acuerdo a las normas APA. Déjame todos estos referentes ordenados de acuerdo a las normas APA. Incluye las citaciones a estos referentes a medida que vallas diseñando la clase. \n",
    "\n",
    "\n",
    "Pero  que este diseño sea para que el estudiante pueda aprender experimentando en cuadernos Jupyter con funciones de usuario y animaciones y visualizaciones en Python. En particular utiliza para el diseño de clase a NumPy, Pandas, SymPy, Matplotlib.pyplot, Seaborn, Plotly, ipywidgets, matplotlib.animation y Jupyter Notebook.  \n",
    "Cuando vallas a utilizar SymPy, ten en cuanta la siguiente configuración: \n",
    "# Corrección y mejora del código\n",
    "from sympy import symbols, Equivalent\n",
    "from sympy.logic.boolalg import truth_table\n",
    "\n",
    "Cada vez que utilices `matplotlib.animacion` no olvides incluir el uso de `IPython. display` para la renderización de estas animaciones a través de Jupyter Notebook. No olvides darme los diseños de clase con las ecuaciones matemáticas delimitadas con signo de dólar $ para que VS Code si me renderice estas expresiones del lenguaje latex. Cuando vallas a utilizar ipywidgets ten en cuenta la siguiente importación inicial para garantizar que la visualización interactiva si se renderice en VS Code:                                                      \n",
    "import numpy as np\n",
    "import matplotlib.pyplot as plt\n",
    "import ipywidgets as widgets\n",
    "from IPython.display import display, clear_output\n",
    "from matplotlib.patches import Rectangle\n",
    "\n",
    "# Configuración inicial para visualización estática\n",
    "%matplotlib inline "
   ]
  },
  {
   "cell_type": "code",
   "execution_count": null,
   "id": "9a4d9384",
   "metadata": {},
   "outputs": [],
   "source": [
    "# Gestión del guardado de imagenes  \n",
    "\n",
    "def save_fig(nombre_archivo_imagen):\n",
    "    import os \n",
    "    import matplotlib.pyplot as plt\n",
    "    ubicacion_para_imagenes = r\"C:/Users/marco/Downloads\"\n",
    "    imagen_path = os.path.join(ubicacion_para_imagenes, nombre_archivo_imagen)\n",
    "    plt.savefig(imagen_path, bbox_inches='tight')"
   ]
  },
  {
   "cell_type": "markdown",
   "id": "a2563458",
   "metadata": {},
   "source": [
    "# **Diseño de Clase STEAM con Enfoque ABPP: \"El Método de Demostración Directa en Geometría\"**  \n",
    "\n",
    "**1. Título de la Clase:**  \n",
    "*\"Demostración Directa en Geometría: Validando Supuestos con Python y Lógica\"*  \n",
    "\n",
    "---\n"
   ]
  },
  {
   "cell_type": "markdown",
   "id": "e7546ec8",
   "metadata": {},
   "source": [
    "\n",
    "## **2. Objetivos e Indicadores de Logro**  \n",
    "**Objetivo Principal:**  \n",
    "Aplicar el método de demostración directa para validar supuestos geométricos, integrando herramientas computacionales (Python, SymPy, Circuitos Lógicos) y enfoques STEAM.  \n",
    "\n",
    "**Indicadores de Logro:**  \n",
    "- Identifica los pasos de una demostración directa en geometría euclidiana.  \n",
    "- Modela problemas geométricos usando SymPy y visualizaciones interactivas.  \n",
    "- Diseña circuitos lógicos en Crocodile Clips que representen proposiciones geométricas.  \n",
    "- Analiza contextos cotidianos y deportivos aplicando lógica proposicional.  \n",
    "\n",
    "---\n"
   ]
  },
  {
   "cell_type": "markdown",
   "id": "81e0be26",
   "metadata": {},
   "source": [
    "\n",
    "## **3. Mapa Conceptual (Graphviz)**  \n"
   ]
  },
  {
   "cell_type": "markdown",
   "id": "74357579",
   "metadata": {},
   "source": [
    "```python\n",
    "from graphviz import Digraph\n",
    "\n",
    "# Crear grafo\n",
    "graph = Digraph('DemoDirecta', filename='C:/Users/marco/Downloads/demo_directa.gv', format='png')\n",
    "graph.attr(overlap='scalexy', rankdir='TB', splines='true')\n",
    "\n",
    "# Nodos principales\n",
    "graph.node('A', 'Método de Demostración Directa', shape='ellipse', style='filled', color='lightblue2')\n",
    "graph.node('B', 'STEAM', shape='doubleoctagon', color='gold')\n",
    "graph.node('C', 'ABPP', shape='box3d', color='coral')\n",
    "\n",
    "# Subnodos\n",
    "graph.node('D', 'Geometría Euclidiana', shape='note', color='plum')\n",
    "graph.node('E', 'Lógica Proposicional', shape='component', color='tan')\n",
    "graph.node('F', 'Python (SymPy/Matplotlib)', shape='hexagon', color='lightgreen')\n",
    "graph.node('G', 'Circuitos Lógicos', shape='cds', color='salmon')\n",
    "\n",
    "# Conexiones\n",
    "graph.edges(['AB', 'AC', 'AD', 'AE', 'AF', 'AG'])\n",
    "graph.edge('D', 'E', label='Axiomas → Teoremas', style='dashed')\n",
    "graph.edge('F', 'G', label='Modelación', color='red:blue')\n",
    "\n",
    "# Renderizar\n",
    "graph.render(view=True)\n",
    "```\n",
    "**Salida:**  \n",
    "![Mapa Conceptual](C:/Users/marco/Downloads/demo_directa.gv.png)  \n",
    "\n",
    "---\n"
   ]
  },
  {
   "cell_type": "markdown",
   "id": "7f3bca9d",
   "metadata": {},
   "source": [
    "\n",
    "## **4. Contenido de la Clase**  \n",
    "### **4.1. Fundamentos Teóricos**  \n",
    "- **Demostración Directa:**  \n",
    "  Dado un supuesto $P \\implies Q$, se construye una cadena lógica desde $P$ hasta $Q$ usando axiomas.  \n",
    "  Ejemplo: *\"Si un triángulo es isósceles, entonces tiene dos ángulos iguales.\"*  \n",
    "\n",
    "- **Herramientas Computacionales:**  \n",
    "  ```python\n",
    "  from sympy import symbols, Implies, Equivalent\n",
    "  P, Q = symbols('P Q')\n",
    "  demostracion = Implies(P, Q)  # P → Q\n",
    "  ```\n",
    "\n",
    "### **4.2. Visualización con Python**  \n",
    "**Animación de Teorema de Pitágoras:**  \n",
    "```python\n",
    "import matplotlib.pyplot as plt\n",
    "import matplotlib.animation as animation\n",
    "from IPython.display import HTML\n",
    "\n",
    "fig, ax = plt.subplots()\n",
    "square, = ax.plot([], [], 'r-')\n",
    "ax.set_xlim(0, 5); ax.set_ylim(0, 5)\n",
    "\n",
    "def init():\n",
    "    square.set_data([], [])\n",
    "    return (square,)\n",
    "\n",
    "def animate(i):\n",
    "    x = [0, i, i, 0, 0]\n",
    "    y = [0, 0, i, i, 0]\n",
    "    square.set_data(x, y)\n",
    "    return (square,)\n",
    "\n",
    "ani = animation.FuncAnimation(fig, animate, frames=5, init_func=init, blit=True)\n",
    "HTML(ani.to_jshtml())\n",
    "```\n",
    "\n",
    "---\n",
    "\n",
    "## **5. Canción/Poema**  \n",
    "**\"El Poema del Geómetra\"** (Fragmento)  \n",
    "*\"Con regla y compás, trazo mi verdad,*  \n",
    "*un axioma firme, sin incertidumbre ya.*  \n",
    "*Python y lógica, mi nuevo compás,*  \n",
    "*¡Demuestra! ¡No asumas! ¡Que el rigor es paz.\"*  \n",
    "\n",
    "---\n",
    "\n",
    "## **6. Historia Epistemológica**  \n",
    "**Cuento Antioqueño:**  \n",
    "*\"¡Ajá! Pues verán, muchachos... allá por el 300 a.C., un grieto llamado Euclides, más terco que un mulo paisa, se empeñó en escribir *Los Elementos*. ¡Y vaya que lo logró! Con sus cinco postulados, armó más lío que un domingo en la plaza de Caucasia... Pero ¡claro! Sin él, hoy no tendríamos WiFi (que usa geometría hiperbólica, ¡eso sí es *arrecho*!).\"*  \n",
    "\n",
    "**Imagen:**  \n",
    "[Euclides](https://upload.wikimedia.org/wikipedia/commons/thumb/7/7f/Euclid.jpg/220px-Euclid.jpg)  \n",
    "\n",
    "---\n",
    "\n",
    "## **7. Actividades**  \n",
    "### **7.1. Con Casio 991 LA cw**  \n",
    "- Calcular ángulos en triángulos usando funciones trigonométricas.  \n",
    "- Verificar identidades como $\\sin^2(x) + \\cos^2(x) = 1$.  \n",
    "\n",
    "### **7.2. Crocodile Clips**  \n",
    "- Diseñar un circuito que represente $P \\land Q \\implies R$ (ejemplo: \"Si llueve *y* hace frío, entonces llevo sombrilla\").  \n",
    "\n",
    "---\n",
    "\n",
    "## **8. Tareas**  \n",
    "- Implementar en SymPy la demostración de que \"la suma de ángulos internos de un triángulo es 180°\".  \n",
    "- Crear un Jupyter Notebook con animaciones de transformaciones geométricas.  \n",
    "\n",
    "---\n",
    "\n",
    "## **9. Evaluación**  \n",
    "**Quiz Ejemplo:**  \n",
    "- *\"En fútbol, si 'toco el balón' (P) y 'estoy en área' (Q), entonces 'es penal' (R). Representa esto en lógica proposicional y simula un circuito en Crocodile.\"*  \n",
    "\n",
    "**Parcial:**  \n",
    "- Proyecto: *\"Modelar el Teorema de Tales usando Matplotlib y validar con SymPy.\"*  \n",
    "\n",
    "---\n",
    "\n",
    "## **10. Retroalimentación**  \n",
    "- Rúbrica de autoevaluación con criterios: *\"Claridad en la demostración\", \"Uso de herramientas STEAM\"*.  \n",
    "\n",
    "---\n",
    "\n",
    "## **11. Vocabulario Inglés**  \n",
    "- **Proof/Demostración**, **Axiom/Axioma**, **Theorem/Teorema**, *\"Q.E.D. (Quod Erat Demonstrandum)\"*.  \n",
    "\n",
    "---\n",
    "\n",
    "## **12. Apéndice: Habilidades Blandas**  \n",
    "- Técnicas para trabajo en equipo: *\"Escucha activa en discusiones de demostraciones\"*.  \n",
    "- Inteligencia Emocional: *\"Manejo de ansiedad en evaluaciones\"*.  \n",
    "\n",
    "---\n",
    "\n",
    "## **13. Referentes APA**  \n",
    "1. Duval, R. (2006). *A cognitive analysis of problems of comprehension in the learning of mathematics*. Educational Studies in Mathematics, 61(1-2), 103-131.  \n",
    "2. Wing, J. M. (2006). *Computational thinking*. Communications of the ACM, 49(3), 33-35.  \n",
    "... *(lista completa en el diseño extendido)*.  \n",
    "\n",
    "---  \n",
    "**Nota:** Este diseño integra ABPP, STEAM y herramientas interactivas para un aprendizaje experimental. ¡Ajusta los paths y URLs según tu entorno!"
   ]
  },
  {
   "cell_type": "markdown",
   "id": "fb9402bb",
   "metadata": {
    "slideshow": {
     "slide_type": "slide"
    }
   },
   "source": [
    "## Estrategias propuestas para la solución de las dificultades de aprendizaje detectadas"
   ]
  },
  {
   "cell_type": "markdown",
   "id": "2dd3bd5c",
   "metadata": {
    "slideshow": {
     "slide_type": "slide"
    }
   },
   "source": []
  },
  {
   "cell_type": "markdown",
   "id": "c6236d5d",
   "metadata": {},
   "source": [
    "# FODA del grupo y del profesor  \n",
    "\n",
    "* F: Fortalezas\n",
    "* O: Oportunidades\n",
    "* D: Dificultades\n",
    "* A: Amenazas."
   ]
  },
  {
   "cell_type": "markdown",
   "id": "b48f9542",
   "metadata": {},
   "source": [
    "## ¿Cómo se sintió en este espacio de enseñanza y aprendizaje?\n",
    "\n",
    "!Dios te bendiga¡"
   ]
  },
  {
   "cell_type": "markdown",
   "id": "10bce0d0",
   "metadata": {
    "slideshow": {
     "slide_type": "slide"
    }
   },
   "source": [
    "## Referentes "
   ]
  },
  {
   "cell_type": "markdown",
   "id": "1db3c468",
   "metadata": {
    "slideshow": {
     "slide_type": "slide"
    }
   },
   "source": [
    "* [Grajales Vanegas, L. M., Restrepo Estrada, C. E., Restrepo Ochoa, S. I., & Ruíz De Villalba, F. (2015). Matemáticas I para las ciencias económicas.](https://github.com/marco-canas/fundamentos_de_la_aritmetica/blob/main/referentes/2_grajales_logica/grajales_lina_matemticas.pdf)\n",
    "  \n",
    "* Duval, R. (2004). Semiosis y pensamiento humano: registros semióticos y aprendizajes intelectuales. Universidad del Valle.\n",
    "\n",
    "* [Aylwin, C. U. (2011). Lógica, conjuntos y números. Universidad de los Andes, Consejo de Publicaciones, Colección: Ciencias Básicas, Serie: Matemáticas.](https://github.com/marco-canas/fundamentos_logica/blob/main/referentes/2_uzcategui/uscategui.pdf)\n",
    "  \n",
    "* [Chollet, F. (2021). Deep learning with Python. Simon and Schuster.](https://github.com/marco-canas/didactica_ciencia_datos/blob/main/2_referentes/chollet/Fran%C3%A7ois%20Chollet%20-%20Deep%20Learning%20with%20Python-Manning%20(2018).pdf)  \n",
    "  \n",
    "* [Watson, S., Stewart, J., & Redlin, L. (2009). Precálculo. Matemáticas para el cálculo.](https://github.com/marco-canas/calculo/blob/main/referents/1_precalculo_stewart/stewart_precalculo.pdf)  \n",
    "\n",
    "* [Purcell, E. J., Varberg, D., & Rigdon, S. E. (2007). Cálculo diferencial e integral. Pearson Educación.](https://github.com/marco-canas/calculo/blob/main/referents/purcell/purcell_calculo.pdf)\n",
    "\n",
    "  \n",
    "\n",
    "* [stewart cálculo](https://udeaeduco-my.sharepoint.com/:b:/g/personal/marco_canas_udea_edu_co/EZgXZjAp8QxPqOAim2hs6LcBNPLGjSHf-xwYnUVYkwa04w?e=RZdTCy)  \n",
    "\n",
    "* [larson](https://udeaeduco-my.sharepoint.com/:b:/g/personal/marco_canas_udea_edu_co/ES71ChFeO9ZDhW3TwC5Ijk8BjxUK3Pdqz_fjHxTTFAfIAg?e=VDEjfu)\n",
    "\n",
    "\n",
    "\n",
    "* [Recomendación de la UNESCO sobre ciencia abierta](https://unesdoc.unesco.org/ark:/48223/pf0000379949_spa)\n",
    "\n",
    "* [chatGPT](https://openai.com/blog/chatgpt)  \n",
    "\n",
    "* [Géron, A. (2017). Hands-on machine learning with scikit-learn and tensorflow: Concepts. Tools, and Techniques to build intelligent systems.](https://github.com/marco-canas/didactica_ciencia_datos/blob/main/2_referentes/geron/Hands-On%20Machine%20Learning-3nd_Edition(2022).pdf)  \n",
    "\n",
    "* [McKinney, W. (2012). Python for data analysis: Data wrangling with Pandas, NumPy, and IPython. \" O'Reilly Media, Inc.\".](https://github.com/marco-canas/didactica_ciencia_datos/blob/main/2_referentes/mckinney/Wes_McKinney.pdf)  "
   ]
  },
  {
   "cell_type": "markdown",
   "id": "6b9e56a8",
   "metadata": {
    "slideshow": {
     "slide_type": "slide"
    }
   },
   "source": [
    "### [Evaluamos al profesor Marco Cañas Aquí](https://forms.office.com/Pages/ResponsePage.aspx?id=IefhmYRxjkmK_7KtTlPBwkanXIs1i1FEujpsZgO6dXpUREJPV1kxUk1JV1ozTFJIQVNIQjY5WEY3US4u)"
   ]
  },
  {
   "cell_type": "markdown",
   "id": "071afa04",
   "metadata": {
    "slideshow": {
     "slide_type": "slide"
    }
   },
   "source": [
    "## [Evaluación luego de alcanzar estos objetivos de aprendizaje]()"
   ]
  },
  {
   "cell_type": "markdown",
   "id": "10f43536",
   "metadata": {
    "slideshow": {
     "slide_type": "slide"
    }
   },
   "source": [
    "### Continue su aprendizaje en la siguiente clase a través del siguiente [vínculo]()"
   ]
  }
 ],
 "metadata": {
  "celltoolbar": "Slideshow",
  "kernelspec": {
   "display_name": "Python 3 (ipykernel)",
   "language": "python",
   "name": "python3"
  },
  "language_info": {
   "codemirror_mode": {
    "name": "ipython",
    "version": 3
   },
   "file_extension": ".py",
   "mimetype": "text/x-python",
   "name": "python",
   "nbconvert_exporter": "python",
   "pygments_lexer": "ipython3",
   "version": "3.10.12"
  },
  "rise": {
   "enable_chalkboard": true,
   "theme": "sky",
   "transition": "zoom"
  }
 },
 "nbformat": 4,
 "nbformat_minor": 5
}
