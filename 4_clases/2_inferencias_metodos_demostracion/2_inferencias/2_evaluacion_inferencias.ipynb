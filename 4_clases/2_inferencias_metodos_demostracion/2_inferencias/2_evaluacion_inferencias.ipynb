{
 "cells": [
  {
   "cell_type": "markdown",
   "id": "dc06dec7",
   "metadata": {
    "slideshow": {
     "slide_type": "slide"
    }
   },
   "source": [
    "<table align=\"left\">\n",
    "  <td>\n",
    "    <a href=\"https://colab.research.google.com/github/marco-canas/didactica_ciencia_datos/blob/main/1_curso_machine_learning/1_evaluacion_oral_tarea_quiz_parcial.ipynb\" target=\"_parent\"><img src=\"https://colab.research.google.com/assets/colab-badge.svg\" alt=\"Open In Colab\"/></a>\n",
    "  </td>\n",
    "  <td>\n",
    "    <a target=\"_blank\" href=\"https://kaggle.com/kernels/welcome?src=https://github.com/marco-canas/didactica_ciencia_datos/blob/main/1_curso_machine_learning/1_evaluacion_oral_tarea_quiz_parcial.ipynb\"><img src=\"https://kaggle.com/static/images/open-in-kaggle.svg\" /></a>\n",
    "  </td>\n",
    "</table>"
   ]
  },
  {
   "cell_type": "markdown",
   "id": "e0c5b198",
   "metadata": {
    "slideshow": {
     "slide_type": "slide"
    }
   },
   "source": [
    "### [Video de apoyo a la lectura interactiva y experimental de este cuaderno]()"
   ]
  },
  {
   "cell_type": "markdown",
   "id": "41e82203",
   "metadata": {
    "slideshow": {
     "slide_type": "slide"
    }
   },
   "source": [
    "## [Vínculo al programa del curso:  ]()"
   ]
  },
  {
   "cell_type": "markdown",
   "id": "ca46c23b",
   "metadata": {
    "slideshow": {
     "slide_type": "slide"
    }
   },
   "source": [
    "# Modelo general de clase: [aula invertida](https://www3.gobiernodecanarias.org/medusa/ecoescuela/pedagotic/aprendizaje-invertido-flipped-classroom/)\n"
   ]
  },
  {
   "cell_type": "markdown",
   "id": "7f9be90f",
   "metadata": {
    "slideshow": {
     "slide_type": "slide"
    }
   },
   "source": [
    "# Fomento de la lectura literaria asociada a Ingeniería agropecuaria y licenciatura en Matemáticas y administración de empresas\n",
    "\n",
    "[Hábitos atómicos](https://github.com/marco-canas/habitos_atomicos/blob/main/13_como_dejar_de_postergar_usando_la_regla_de_los_dos_minutos/1_13_como_dejar_de_postergar_usando_la_regla_de_los_dos_minutos.ipynb)"
   ]
  },
  {
   "cell_type": "markdown",
   "id": "96775931",
   "metadata": {
    "slideshow": {
     "slide_type": "slide"
    }
   },
   "source": [
    "# Título de la clase: Realización evaluación oral, de Tareas en cuadernos Jupyter, Quiz o Parcial de selección múltiple o de preguntas cerradas.  \n",
    "\n"
   ]
  },
  {
   "cell_type": "markdown",
   "id": "1d38dd4e",
   "metadata": {
    "slideshow": {
     "slide_type": "slide"
    }
   },
   "source": [
    "### Objetivo de aprendizaje (Enunciar, de manera corta sencilla y clara para todos los asistentes)\n",
    "\n",
    "* [Hipervínculo para el cuaderno de enseñanza]()\n",
    "1. Evaluar las tareas realizadas de manera manúscrita\n",
    "2. Evaluar las tareas realizadas en los cuadernos Jupyter. (Solo realizar la tercera parte de las tareas asignadas de manera manuscrita)\n",
    "3. Evaluar con un quiz escrito\n",
    "4. Evaluar con un parcial escrito.\n",
    "5. Evaluar la capacidad de describir un problema y su solución de manera oral. "
   ]
  },
  {
   "cell_type": "markdown",
   "id": "ca7261b1",
   "metadata": {
    "slideshow": {
     "slide_type": "slide"
    }
   },
   "source": [
    "## Establecimiento de prerrequisitos conceptuales para alcanzar el objetivo de aprendizaje trazado.   \n",
    "\n",
    "(Elabore una lista de preguntas al rededor de los conceptos que consideres necesarios para empezar la clase).  \n",
    "\n",
    "1. \n",
    "2. \n",
    "3. "
   ]
  },
  {
   "cell_type": "markdown",
   "id": "2298e976",
   "metadata": {
    "slideshow": {
     "slide_type": "slide"
    }
   },
   "source": [
    "# Para el diseño de la clase tenga en cuenta algunos problemas de aprendizaje"
   ]
  },
  {
   "cell_type": "markdown",
   "id": "2d46be3a",
   "metadata": {},
   "source": [
    "# Diseño de evaluación oral de si se alcanzaron los objetivos de aprendizaje planteados\n",
    "\n",
    "* Describa verbalmente el objetivo de aprendizaje y evidencie de forma oral si lo logró o no. "
   ]
  },
  {
   "cell_type": "markdown",
   "id": "4566108f",
   "metadata": {},
   "source": [
    "## Cuestionario para realizar labores de memorización, observación y síntesis de la información (Además de diagnóstico)\n",
    "\n",
    "1. ¿?\n",
    "2. ¿?\n",
    "3. ¿?\n",
    "4. ¿?\n",
    "5. ¿?"
   ]
  },
  {
   "cell_type": "markdown",
   "id": "b6b22e38",
   "metadata": {},
   "source": [
    "Dame, por favor, un diseño de clase, con el enfoque: STEAMS  y de aprendizaje basado en problemas y proyectos(ABPP); sobre: **\" \"**, siguiendo la estructura:   \n",
    "\n",
    "1. Título de la clase \n",
    "2. Objetivo de aprendizaje e indicadores de logro de estos objetivos. \n",
    "3.  Un mapa conceptual que resuma la clase elaborado en Graphviz de python con nodos y edges de diferentes formas, colores y rellenos y renderizado en la siguiente ubicación: `\"C:/Users/marco/Downloads\"`. No olvides el parámetro `view = True` para el método `render()` de Graphviz. Para este mapa controla las superposiciones de los nodos con: graph [overlap=false]; // Elimina superposiciones (puede aumentar el espacio)\n",
    "graph [overlap=\"scalexy\"]; // Escala el gráfico para evitar overlaps\n",
    "graph [overlap=\"compress\"]; // Comprime el grafo sin overlaps   \n",
    "   \n",
    "4. Contenido de la clase    \n",
    "   \n",
    "5. Incluye una canción o un poema que ayude a interiorizar y fijar los conceptos asociados a esta clase.  \n",
    "   \n",
    "6. Dame elementos históricos y epistemológicos asociados a esta clase, pero contados como un cuento al estilo de un cuentero antioqueño en Colombia. Incluye imágenes de los protagonistas históricos de esta clase.   \n",
    "   \n",
    "7. Actividades de aprendizaje    \n",
    "     * Incluya actividades de aprendizaje utilizando Calculadora **Casio 991 LA cw**\n",
    "     * Incluya también actividades de aprendizaje y modelación de situaciones o problemas reales a través de circuitos lógicos y circuitos digitales o electrónicos utilizando la aplicación portable cocodrilo. [Descarge esta aplicación portable aquí](https://crocodileclips.net/descargar-crocodile-clips/)    \n",
    "   \n",
    "8.  Tarea o actividades de ejercitación y fijación.  \n",
    "     \n",
    "    \n",
    "9.  Evaluación incluyendo diez proyectos, un ejemplo de quiz y un ejemplo de parcial.  \n",
    "     * Diseña el quiz con preguntas, donde se pida al estudiante el mostrar la aplicación de las expresiones lógicas en contextos: \n",
    "       - Deportivos\n",
    "       - Cotidianos\n",
    "       - Matemáticas en teoría de números \n",
    "       - Matemáticas en geometría euclidiana\n",
    "       - Matemática en Cálculo Diferencial.\n",
    "       - Económicos. \n",
    "     * Actividad de desarrollo de habilidades metacognitivas para hacernos concientes de nuestro propio proceso de aprendizaje y de la importancia de la evaluación continua.\n",
    "\n",
    "10. Diseño de actividad de retroalimentación.  \n",
    "      \n",
    "11. Dame un vocabulario y frases del idioma inglés asociadas a esta clase.   \n",
    "    \n",
    "12. Incluye apéndice para la clase sobre desarrollo de habilidades para trabajar en equipo y de asertividad y empatía para relacionarnos. También elementos de la inteligencia emocional para presentar pruebas sin temor y sin realizar fraude en ellas.   \n",
    "13. Incluye 10 referentes en didáctica de la matemática que estén de acuerdo a la propuesta didáctica de esta clase. Adiciona a estos referentes a Raymond Duval (Representaciones y cambios de representación para la adquisición de conceptos matemáticos) y a Janete Wing (Desarrollo del pensamiento computacional). Dejame todos estos referentes ordenados de acuerdo a las normas APA. Dejame todos estos referentes ordenados de acuerdo a las normas APA. Incluye las citaciones a estos referentes a medida que vallas diseñando la clase. \n",
    "\n",
    "\n",
    "Pero  que este diseño sea para que el estudiante pueda aprender experimentando en cuadernos Jupyter con funciones de usuario y animaciones y visualizaciones en python. En particular utiliza para el diseño de clase a Numpy, Pandas, SymPy, Matplotlib.pyplot, Seaborn, Plotly, ipywidgets, matplotlib.animation y Jupyter Notebook.  \n",
    "Cuando vallas a utilizar SymPy, ten en cuanta la siguiente configuración: \n",
    "# Corrección y mejora del código\n",
    "from sympy import symbols, Equivalent\n",
    "from sympy.logic.boolalg import truth_table\n",
    "\n",
    "Cada vez que utilices `matplotlib.animacion` no olvides incluir el uso de `IPython. display` para la rederización de estas animaciones a través de Jupyter Notebook. No olvides darme los diseños de clase con las ecuaciones matemáticas delimitadas con signo de dolar $ para que VS Code si me renderize estas expresiones del lenguaje latex. Cuando vallas a utilizar ipywidgets ten en cuenta la siguiente importación inicial para garantizar que la visualización interactiva si se renderize en VS Code: import numpy as np\n",
    "import matplotlib.pyplot as plt\n",
    "import ipywidgets as widgets\n",
    "from IPython.display import display, clear_output\n",
    "from matplotlib.patches import Rectangle\n",
    "\n",
    "# Configuración inicial para visualización estática\n",
    "%matplotlib inline "
   ]
  },
  {
   "cell_type": "markdown",
   "id": "9a597964",
   "metadata": {},
   "source": [
    "# **Diseño de Clase STEAM con ABPP: \"Reglas de Inferencias Lógicas para el Ejercicio Profesional del Licenciado en Matemáticas en Colombia\"**  \n",
    "\n",
    "---\n",
    "\n",
    "## **1. Título de la Clase**  \n",
    "**\"Lógica Matemática en Acción: Inferencias para la Solución de Problemas Reales\"**  \n",
    "\n",
    "---\n",
    "\n",
    "## **2. Objetivos de Aprendizaje e Indicadores de Logro**  \n",
    "### **Objetivo Principal:**  \n",
    "Aplicar reglas de inferencia lógica en contextos profesionales (educación, investigación, industria) mediante enfoque STEAM y ABPP.  \n",
    "\n",
    "### **Indicadores de Logro:**  \n",
    "✅ Identifica y aplica las 9 reglas de inferencia clásicas (*Modus Ponens, Modus Tollens, Silogismo Hipotético, etc.*).  \n",
    "✅ Modela problemas reales usando lógica proposicional y circuitos digitales.  \n",
    "✅ Diseña algoritmos en Python (`SymPy`, `Truth Tables`) para automatizar inferencias.  \n",
    "✅ Relaciona la lógica con áreas como teoría de números, geometría y economía.  \n",
    "✅ Trabaja en equipo aplicando inteligencia emocional y pensamiento computacional.  \n",
    "\n",
    "---\n",
    "\n",
    "## **3. Mapa Conceptual (Graphviz)**  \n",
    "```python\n",
    "from graphviz import Digraph\n",
    "import os\n",
    "\n",
    "# Configuración del grafo\n",
    "dot = Digraph(comment='Reglas de Inferencia Lógica', \n",
    "              graph_attr={'overlap': 'scalexy', 'splines': 'true', 'fontsize': '12'})\n",
    "dot.attr(rankdir='LR')  # Orientación horizontal\n",
    "\n",
    "# Nodos principales (con colores y formas)\n",
    "dot.node('A', 'Reglas de Inferencia Lógica', shape='ellipse', style='filled', fillcolor='#FFD700')\n",
    "dot.node('B', 'Modus Ponens\\n(Si P→Q y P, entonces Q)', shape='box', color='blue')\n",
    "dot.node('C', 'Modus Tollens\\n(Si P→Q y ¬Q, entonces ¬P)', shape='box', color='blue')\n",
    "dot.node('D', 'Silogismo Hipotético\\n(P→Q, Q→R ⇒ P→R)', shape='box', color='green')\n",
    "dot.node('E', 'Aplicaciones\\nProfesionales', shape='doubleoctagon', fillcolor='#FFA07A')\n",
    "\n",
    "# Conexiones (edges)\n",
    "dot.edges(['AB', 'AC', 'AD', 'BE', 'CE', 'DE'])\n",
    "\n",
    "# Renderizar y guardar\n",
    "output_path = \"C:/Users/marco/Downloads/Mapa_Inferencias_Lógicas\"\n",
    "dot.render(output_path, format='png', view=True, cleanup=True)\n",
    "print(f\"Mapa guardado en: {output_path}.png\")\n",
    "```  \n",
    "**Salida:**  \n",
    "![Mapa Conceptual](C:/Users/marco/Downloads/Mapa_Inferencias_Lógicas.png)  \n",
    "\n",
    "---\n",
    "\n",
    "## **4. Contenido de la Clase**  \n",
    "### **Conceptos Clave:**  \n",
    "- **Lógica Proposicional:**  \n",
    "  - Sintaxis ($P \\land Q$, $P \\lor Q$, $\\neg P$, $P \\rightarrow Q$).  \n",
    "  - Tablas de verdad (`SymPy.truth_table`).  \n",
    "- **Reglas de Inferencia:**  \n",
    "  - Ejemplo en Python:  \n",
    "  ```python\n",
    "  from sympy import symbols, Implies, Equivalent\n",
    "  P, Q = symbols('P Q')\n",
    "  modus_ponens = Implies(P, Q) & P  # Si P→Q y P, entonces Q\n",
    "  print(modus_ponens.simplify())     # Output: Q\n",
    "  ```  \n",
    "- **Circuitos Lógicos (Crocodile Clips):**  \n",
    "  - Simulación de compuertas AND/OR/NOT.  \n",
    "\n",
    "---\n",
    "\n",
    "## **5. Canción/Poema para Fijar Conceptos**  \n",
    "**\"El Vals de los Operadores\"** (Adaptación de *\"El Vals del Obelisco\"*):  \n",
    "```\n",
    "Si P implica Q, y P es verdad,  \n",
    "¡Q no falla, es la realidad! (Modus Ponens).  \n",
    "Pero si Q es falso, ¡oh dolor!,  \n",
    "entonces P se va con el señor (Modus Tollens).  \n",
    "```  \n",
    "\n",
    "---\n",
    "\n",
    "## **6. Historia y Epistemología (Cuento Antioqueño)**  \n",
    "**\"Don Aristóteles y el Muchacho Lógico\"**  \n",
    "*\"Érase una vez, en Medellín, un joven que quería ser matemático...*  \n",
    "*...hasta que un día, leyendo a Boole (imagen), descubrió que la lógica era como el ajedrez: reglas claras y estrategias infinitas.\"*  \n",
    "\n",
    "![George Boole](https://upload.wikimedia.org/wikipedia/commons/5/5c/George_Boole_color.jpg)  \n",
    "\n",
    "---\n",
    "\n",
    "## **7. Actividades de Aprendizaje**  \n",
    "### **Con Casio 991 LA cw:**  \n",
    "- Calcular tablas de verdad para $(P \\lor Q) \\land \\neg R$.  \n",
    "- Verificar tautologías usando `MODE → TABLE`.  \n",
    "\n",
    "### **Con Crocodile Clips:**  \n",
    "- Diseñar un circuito que simule $P \\rightarrow (Q \\lor R)$.  \n",
    "\n",
    "### **En Jupyter Notebook:**  \n",
    "```python\n",
    "import numpy as np\n",
    "import matplotlib.pyplot as plt\n",
    "from sympy.logic import SOPform\n",
    "from ipywidgets import interact\n",
    "\n",
    "# Widget interactivo para tablas de verdad\n",
    "@interact(P=[True, False], Q=[True, False])\n",
    "def tabla_verdad(P, Q):\n",
    "    print(f\"P ∧ Q = {P and Q}\\nP ∨ Q = {P or Q}\")\n",
    "```  \n",
    "\n",
    "---\n",
    "\n",
    "## **8. Tareas**  \n",
    "- Implementar en Python un validador de reglas de inferencia.  \n",
    "- Resolver problemas de lógica en contextos deportivos (ej: *\"Si ganas 3 partidos, vas a playoffs. Ganaste 3. ¿Vas a playoffs?\"*).  \n",
    "\n",
    "---\n",
    "\n",
    "## **9. Evaluación**  \n",
    "### **Quiz (Ejemplo):**  \n",
    "**Pregunta 1:**  \n",
    "*\"En un partido, si un equipo anota 5 goles (P), gana (Q). Hoy anotó 5. ¿Qué inferencia aplica?\"*  \n",
    "**Respuesta:** Modus Ponens ($P \\rightarrow Q, P \\vdash Q$).  \n",
    "\n",
    "### **Parcial (Proyecto):**  \n",
    "- Modelar un sistema de préstamos bancarios usando lógica proposicional.  \n"
   ]
  },
  {
   "cell_type": "markdown",
   "id": "a65ebe5e",
   "metadata": {},
   "source": [
    "\n",
    "## Proyectos   \n",
    "\n",
    "Este es un conjunto de **estrategias prácticas, inclusivas y realistas** para fomentar la **colaboración con estudiantes internacionales** en tu curso *Fundamentos de la Lógica*, en la Universidad de Antioquia, Campus Caucasia.\n",
    "\n",
    "---\n",
    "\n",
    "## 🌍 Estrategias para fomentar la Colaboración con Estudiantes Internacionales\n",
    "\n",
    "### 🔗 1. **Convenios activos y redes académicas**\n",
    "**Objetivo:** Establecer conexiones institucionales para intercambios académicos virtuales.\n",
    "\n",
    "- Contacta con docentes de cursos similares en universidades de América Latina, España o incluso África o Asia que hablen español o inglés básico.\n",
    "- Crea **pequeños grupos de intercambio** entre tus estudiantes y los de esas universidades.\n",
    "- Usa redes como:\n",
    "  - [**RELaC**](https://relac.net) (Red Latinoamericana de Cognición)\n",
    "  - [**UNESCO Open Education Resources**](https://www.oercommons.org/)\n",
    "  - [**Red Clara**](https://www.redclara.net/)\n",
    "\n",
    "---\n",
    "\n",
    "### 💬 2. **Grupos de lectura colaborativa internacional**\n",
    "**Objetivo:** Fomentar la lectura crítica y la discusión conjunta sobre textos de lógica.\n",
    "\n",
    "- Selecciona un artículo de acceso abierto en inglés o español.\n",
    "- Forma grupos mixtos (tus estudiantes + internacionales).\n",
    "- Utiliza plataformas como [**Perusall**](https://perusall.com/) o [**Hypothes.is**](https://web.hypothes.is/) para comentar el texto en línea.\n",
    "- Propón preguntas guiadas y sesiones virtuales de cierre.\n",
    "\n",
    "---\n",
    "\n",
    "### 🧠 3. **Proyectos colaborativos de lógica aplicada**\n",
    "**Objetivo:** Resolver juntos problemas lógicos contextualizados en distintos países.\n",
    "\n",
    "- Tema sugerido: *“Aplicaciones de la lógica formal en la vida cotidiana y la política pública.”*\n",
    "- Asigna roles interdisciplinarios (ej: uno modela, otro redacta, otro programa).\n",
    "- Productos posibles:\n",
    "  - Infografía multilingüe\n",
    "  - Minivideo conjunto (subido a YouTube)\n",
    "  - Cuaderno Jupyter colaborativo en GitHub\n",
    "\n",
    "---\n",
    "\n",
    "### 💻 4. **Uso de GitHub como entorno de colaboración internacional**\n",
    "**Objetivo:** Centralizar y compartir trabajos colaborativos.\n",
    "\n",
    "- Usa tu repositorio [https://github.com/marco-canas/fundamentos_logica](https://github.com/marco-canas/fundamentos_logica)\n",
    "- Crea carpetas por país o por grupo internacional.\n",
    "- Activa los **issues** y **discussions** como foros entre estudiantes internacionales.\n",
    "- Haz una guía para contribuir a los repositorios (pull requests, markdown, etc.).\n",
    "\n",
    "---\n",
    "\n",
    "### 🎓 5. **Sesiones virtuales con estudiantes o docentes invitados**\n",
    "**Objetivo:** Enriquecer el curso con voces internacionales.\n",
    "\n",
    "- Invita a estudiantes avanzados de otras universidades a sesiones sincrónicas.\n",
    "- Usa plataformas como:\n",
    "  - [**ClassCentral**](https://www.classcentral.com/)\n",
    "  - [**Tandem**](https://www.tandem.net/) (intercambio lingüístico para estudiantes)\n",
    "- Promueve que cada estudiante escriba una **reflexión intercultural** después del encuentro.\n",
    "\n",
    "---\n",
    "\n",
    "### 📆 6. **“Semana Internacional de la Lógica”**\n",
    "**Objetivo:** Crear un evento académico corto y global.\n",
    "\n",
    "- Actividades posibles:\n",
    "  - Concurso de problemas de lógica en español e inglés\n",
    "  - Foro GitHub con preguntas abiertas de estudiantes extranjeros\n",
    "  - Publicación colaborativa de un cuaderno Jupyter en coautoría internacional\n",
    "\n",
    "---\n",
    "\n",
    "### 🌐 7. **Intercambio asíncrono de videos**\n",
    "**Objetivo:** Presentar ideas sin necesidad de coincidencia horaria.\n",
    "\n",
    "- Tus estudiantes pueden grabar videos de 3 minutos:\n",
    "  - Explicando una ley lógica o una paradoja\n",
    "  - Proponiendo un problema lógico\n",
    "- Los estudiantes internacionales responden con sus comentarios o soluciones.\n",
    "- Herramientas:\n",
    "  - YouTube (privado)\n",
    "  - Flipgrid / Flip (gratuito y educativo)\n",
    "\n",
    "---\n",
    "\n",
    "### 🤝 8. **Mentoría cruzada (peer-to-peer)**\n",
    "**Objetivo:** Promover el apoyo entre pares internacionales.\n",
    "\n",
    "- Tus estudiantes se emparejan con un par extranjero.\n",
    "- Comparten avances de proyectos o resoluciones lógicas.\n",
    "- Crean un pequeño diario compartido (Google Docs, Notion, GitHub wiki).\n",
    "\n",
    "---\n",
    "\n",
    "## 🎯 Resultado esperado\n",
    "\n",
    "Estas estrategias te ayudarán a:\n",
    "\n",
    "- Desarrollar habilidades de comunicación intercultural.\n",
    "- Fomentar la cooperación, el pensamiento crítico y la tolerancia.\n",
    "- Ampliar el alcance académico de tu curso hacia una dimensión verdaderamente global.\n",
    "\n",
    "---\n",
    "\n",
    "¿Te gustaría que preparemos un modelo de actividad específica para GitHub o un cronograma de trabajo internacional con un socio académico? También puedo ayudarte a escribir la carta de invitación para universidades aliadas.\n",
    "\n",
    "---\n"
   ]
  },
  {
   "cell_type": "markdown",
   "id": "9545225c",
   "metadata": {},
   "source": [
    "\n",
    "## **10. Retroalimentación**  \n",
    "- **Rúbrica de Autoevaluación** (Google Forms).  \n",
    "- **Discusión en Equipo:** *\"¿Cómo usaron la lógica en su proyecto?\"*  \n",
    "\n",
    "---\n",
    "\n",
    "## **11. Vocabulario en Inglés**  \n",
    "- **Premise:** Premisa  \n",
    "- **Truth Table:** Tabla de Verdad  \n",
    "- **Logical Equivalence:** Equivalencia Lógica  \n",
    "\n",
    "---\n",
    "\n",
    "## **12. Apéndice: Habilidades Blandas**  \n",
    "- **Técnica del Semáforo** para manejo del estrés en evaluaciones.  \n",
    "- **Role-Playing** para practicar asertividad en debates lógicos.  \n",
    "\n",
    "---\n",
    "\n",
    "## **13. Referentes APA**  \n",
    "1. Duval, R. (2006). *Un tema crucial en la educación matemática: La habilidad de cambiar representaciones.*  \n",
    "2. Wing, J. (2006). *Computational Thinking.* Communications of the ACM.  \n",
    "3. Polya, G. (1945). *How to Solve It.* Princeton University Press.  \n",
    "\n",
    "--- \n",
    "\n",
    "**Nota:** Todos los códigos Python están diseñados para ejecutarse en Jupyter Notebook con salidas interactivas. ¡Experimenta y modifica! 🚀"
   ]
  },
  {
   "cell_type": "markdown",
   "id": "fb9402bb",
   "metadata": {
    "slideshow": {
     "slide_type": "slide"
    }
   },
   "source": [
    "## Estrategias propuestas para la solución de las dificultades de aprendizaje detectadas"
   ]
  },
  {
   "cell_type": "markdown",
   "id": "2dd3bd5c",
   "metadata": {
    "slideshow": {
     "slide_type": "slide"
    }
   },
   "source": []
  },
  {
   "cell_type": "markdown",
   "id": "c6236d5d",
   "metadata": {},
   "source": [
    "# FODA del grupo y del profesor  \n",
    "\n",
    "* F: Fortalezas\n",
    "* O: Oportunidades\n",
    "* D: Dificultades\n",
    "* A: Amenazas."
   ]
  },
  {
   "cell_type": "markdown",
   "id": "b48f9542",
   "metadata": {},
   "source": [
    "## ¿Cómo se sintió en este espacio de enseñanza y aprendizaje?\n",
    "\n",
    "!Dios te bendiga¡"
   ]
  },
  {
   "cell_type": "markdown",
   "id": "10bce0d0",
   "metadata": {
    "slideshow": {
     "slide_type": "slide"
    }
   },
   "source": [
    "## Referentes "
   ]
  },
  {
   "cell_type": "markdown",
   "id": "1db3c468",
   "metadata": {
    "slideshow": {
     "slide_type": "slide"
    }
   },
   "source": [
    "* [Matemáticas discretas Una introducción abierta, 3ª edición](https://discrete.openmathbooks.org/dmoi3.html)  \n",
    "  \n",
    "* [Grajales Vanegas, L. M., Restrepo Estrada, C. E., Restrepo Ochoa, S. I., & Ruíz De Villalba, F. (2015). Matemáticas I para las ciencias económicas.](https://github.com/marco-canas/fundamentos_de_la_aritmetica/blob/main/referentes/2_grajales_logica/grajales_lina_matemticas.pdf)\n",
    "  \n",
    "* Duval, R. (2004). Semiosis y pensamiento humano: registros semióticos y aprendizajes intelectuales. Universidad del Valle.\n",
    "\n",
    "* [Aylwin, C. U. (2011). Lógica, conjuntos y números. Universidad de los Andes, Consejo de Publicaciones, Colección: Ciencias Básicas, Serie: Matemáticas.](https://github.com/marco-canas/fundamentos_logica/blob/main/referentes/2_uzcategui/uscategui.pdf)\n",
    "  \n",
    "* [Chollet, F. (2021). Deep learning with Python. Simon and Schuster.](https://github.com/marco-canas/didactica_ciencia_datos/blob/main/2_referentes/chollet/Fran%C3%A7ois%20Chollet%20-%20Deep%20Learning%20with%20Python-Manning%20(2018).pdf)  \n",
    "  \n",
    "* [Watson, S., Stewart, J., & Redlin, L. (2009). Precálculo. Matemáticas para el cálculo.](https://github.com/marco-canas/calculo/blob/main/referents/1_precalculo_stewart/stewart_precalculo.pdf)  \n",
    "\n",
    "* [Purcell, E. J., Varberg, D., & Rigdon, S. E. (2007). Cálculo diferencial e integral. Pearson Educación.](https://github.com/marco-canas/calculo/blob/main/referents/purcell/purcell_calculo.pdf)\n",
    "\n",
    "  \n",
    "\n",
    "* [stewart cálculo](https://udeaeduco-my.sharepoint.com/:b:/g/personal/marco_canas_udea_edu_co/EZgXZjAp8QxPqOAim2hs6LcBNPLGjSHf-xwYnUVYkwa04w?e=RZdTCy)  \n",
    "\n",
    "* [larson](https://udeaeduco-my.sharepoint.com/:b:/g/personal/marco_canas_udea_edu_co/ES71ChFeO9ZDhW3TwC5Ijk8BjxUK3Pdqz_fjHxTTFAfIAg?e=VDEjfu)\n",
    "\n",
    "\n",
    "\n",
    "* [Recomendación de la UNESCO sobre ciencia abierta](https://unesdoc.unesco.org/ark:/48223/pf0000379949_spa)\n",
    "\n",
    "* [chatGPT](https://openai.com/blog/chatgpt)  \n",
    "\n",
    "* [Géron, A. (2017). Hands-on machine learning with scikit-learn and tensorflow: Concepts. Tools, and Techniques to build intelligent systems.](https://github.com/marco-canas/didactica_ciencia_datos/blob/main/2_referentes/geron/Hands-On%20Machine%20Learning-3nd_Edition(2022).pdf)  \n",
    "\n",
    "* [McKinney, W. (2012). Python for data analysis: Data wrangling with Pandas, NumPy, and IPython. \" O'Reilly Media, Inc.\".](https://github.com/marco-canas/didactica_ciencia_datos/blob/main/2_referentes/mckinney/Wes_McKinney.pdf)  "
   ]
  },
  {
   "cell_type": "markdown",
   "id": "6b9e56a8",
   "metadata": {
    "slideshow": {
     "slide_type": "slide"
    }
   },
   "source": [
    "### [Evaluamos al profesor Marco Cañas Aquí](https://forms.office.com/Pages/ResponsePage.aspx?id=IefhmYRxjkmK_7KtTlPBwkanXIs1i1FEujpsZgO6dXpUREJPV1kxUk1JV1ozTFJIQVNIQjY5WEY3US4u)"
   ]
  },
  {
   "cell_type": "markdown",
   "id": "071afa04",
   "metadata": {
    "slideshow": {
     "slide_type": "slide"
    }
   },
   "source": [
    "## [Evaluación luego de alcanzar estos objetivos de aprendizaje]()"
   ]
  },
  {
   "cell_type": "markdown",
   "id": "10f43536",
   "metadata": {
    "slideshow": {
     "slide_type": "slide"
    }
   },
   "source": [
    "### Continue su aprendizaje en la siguiente clase a través del siguiente [vínculo]()"
   ]
  },
  {
   "cell_type": "markdown",
   "id": "af751e30",
   "metadata": {
    "slideshow": {
     "slide_type": "slide"
    }
   },
   "source": [
    "# Conjeturas pedagógicas fruto de la aplicación del modelo de aprendizaje invertido y del enfoque hacia la ciencia de datos con python\n",
    "\n",
    "1. Todo cálculo o resultado debe ser interpretado en una línea markdown del cuaderno Jupyter, inmediatamente después de la enunciación del resultado y después de la presentación de una tabla o gráfico bidimensional, de tal menera que el estudiante explicite la comprensión verbal del resultado y las inferencias o estrategias que este resultado le sugieren.   "
   ]
  }
 ],
 "metadata": {
  "celltoolbar": "Slideshow",
  "kernelspec": {
   "display_name": "Python 3 (ipykernel)",
   "language": "python",
   "name": "python3"
  },
  "language_info": {
   "codemirror_mode": {
    "name": "ipython",
    "version": 3
   },
   "file_extension": ".py",
   "mimetype": "text/x-python",
   "name": "python",
   "nbconvert_exporter": "python",
   "pygments_lexer": "ipython3",
   "version": "3.10.12"
  },
  "rise": {
   "enable_chalkboard": true,
   "theme": "sky",
   "transition": "zoom"
  }
 },
 "nbformat": 4,
 "nbformat_minor": 5
}
