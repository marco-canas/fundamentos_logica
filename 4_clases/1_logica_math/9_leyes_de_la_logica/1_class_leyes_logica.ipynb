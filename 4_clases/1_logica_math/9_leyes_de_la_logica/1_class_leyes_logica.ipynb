{
 "cells": [
  {
   "cell_type": "markdown",
   "id": "dc06dec7",
   "metadata": {
    "slideshow": {
     "slide_type": "slide"
    }
   },
   "source": [
    "<table align=\"left\">\n",
    "  <td>\n",
    "    <a href=\"https://colab.research.google.com/github/marco-canas/fundamentos_logica/blob/main/4_clases/1_logica_matematica_y_teoria_de_conjuntos/9_leyes_de_la_logica/1_class_leyes_logica.ipynb\" target=\"_parent\"><img src=\"https://colab.research.google.com/assets/colab-badge.svg\" alt=\"Open In Colab\"/></a>\n",
    "  </td>\n",
    "  <td>\n",
    "    <a target=\"_blank\" href=\"https://kaggle.com/kernels/welcome?src=https://github.com/marco-canas/fundamentos_logica/blob/main/4_clases/1_logica_matematica_y_teoria_de_conjuntos/9_leyes_de_la_logica/1_class_leyes_logica.ipynb\"><img src=\"https://kaggle.com/static/images/open-in-kaggle.svg\" /></a>\n",
    "  </td>\n",
    "</table>"
   ]
  },
  {
   "cell_type": "markdown",
   "id": "e0c5b198",
   "metadata": {
    "slideshow": {
     "slide_type": "slide"
    }
   },
   "source": [
    "### [Video de apoyo a la lectura interactiva y experimental de este cuaderno]()"
   ]
  },
  {
   "cell_type": "markdown",
   "id": "41e82203",
   "metadata": {
    "slideshow": {
     "slide_type": "slide"
    }
   },
   "source": [
    "### [Vínculo al programa del curso:  ]()\n",
    "\n"
   ]
  },
  {
   "cell_type": "markdown",
   "id": "d11ab06d",
   "metadata": {
    "slideshow": {
     "slide_type": "slide"
    }
   },
   "source": [
    "Un reconocimiento a mis estudiantes que han construido conmigo este saber pedagógico:\n",
    "\n",
    "<img src = ''> \n",
    "\n"
   ]
  },
  {
   "cell_type": "markdown",
   "id": "8a74a56c-0ce6-4ad6-b985-553fd7fb68bb",
   "metadata": {},
   "source": [
    "Reconocimiento a las profesoras destacadas en enseñanza de la matemática en Colombia\n"
   ]
  },
  {
   "cell_type": "code",
   "execution_count": 1,
   "id": "b179a7ed",
   "metadata": {},
   "outputs": [
    {
     "data": {
      "application/vnd.microsoft.datawrangler.viewer.v0+json": {
       "columns": [
        {
         "name": "index",
         "rawType": "int64",
         "type": "integer"
        },
        {
         "name": "Cedula",
         "rawType": "int64",
         "type": "integer"
        },
        {
         "name": "Nombre",
         "rawType": "object",
         "type": "string"
        },
        {
         "name": "Email",
         "rawType": "object",
         "type": "string"
        },
        {
         "name": "Asistencia",
         "rawType": "float64",
         "type": "float"
        },
        {
         "name": "quiz_1",
         "rawType": "float64",
         "type": "float"
        },
        {
         "name": "parcial 1",
         "rawType": "float64",
         "type": "float"
        },
        {
         "name": "Proyecto_1",
         "rawType": "float64",
         "type": "float"
        }
       ],
       "conversionMethod": "pd.DataFrame",
       "ref": "dbd1ddd2-9b1e-42e0-b0f2-0c1635e0eba7",
       "rows": [
        [
         "0",
         "1067281024",
         "ALVAREZ GOEZ DAIRO ESTEBAN",
         "dairo.alvarez1@udea.edu.co",
         null,
         null,
         "5.0",
         null
        ],
        [
         "1",
         "1041086439",
         "CASTILLO SIERRA SHIRLIS SARAY",
         "shirlis.castillo@udea.edu.co",
         null,
         "5.0",
         "4.0",
         "5.0"
        ],
        [
         "2",
         "1045419649",
         "ESPINOSA ESPINOSA LILIANA ANDREA",
         "lilianaa.espinosa@udea.edu.co",
         null,
         "4.5",
         "5.0",
         "5.0"
        ]
       ],
       "shape": {
        "columns": 7,
        "rows": 3
       }
      },
      "text/html": [
       "<div>\n",
       "<style scoped>\n",
       "    .dataframe tbody tr th:only-of-type {\n",
       "        vertical-align: middle;\n",
       "    }\n",
       "\n",
       "    .dataframe tbody tr th {\n",
       "        vertical-align: top;\n",
       "    }\n",
       "\n",
       "    .dataframe thead th {\n",
       "        text-align: right;\n",
       "    }\n",
       "</style>\n",
       "<table border=\"1\" class=\"dataframe\">\n",
       "  <thead>\n",
       "    <tr style=\"text-align: right;\">\n",
       "      <th></th>\n",
       "      <th>Cedula</th>\n",
       "      <th>Nombre</th>\n",
       "      <th>Email</th>\n",
       "      <th>Asistencia</th>\n",
       "      <th>quiz_1</th>\n",
       "      <th>parcial 1</th>\n",
       "      <th>Proyecto_1</th>\n",
       "    </tr>\n",
       "  </thead>\n",
       "  <tbody>\n",
       "    <tr>\n",
       "      <th>0</th>\n",
       "      <td>1067281024</td>\n",
       "      <td>ALVAREZ GOEZ DAIRO ESTEBAN</td>\n",
       "      <td>dairo.alvarez1@udea.edu.co</td>\n",
       "      <td>NaN</td>\n",
       "      <td>NaN</td>\n",
       "      <td>5.0</td>\n",
       "      <td>NaN</td>\n",
       "    </tr>\n",
       "    <tr>\n",
       "      <th>1</th>\n",
       "      <td>1041086439</td>\n",
       "      <td>CASTILLO SIERRA SHIRLIS SARAY</td>\n",
       "      <td>shirlis.castillo@udea.edu.co</td>\n",
       "      <td>NaN</td>\n",
       "      <td>5.0</td>\n",
       "      <td>4.0</td>\n",
       "      <td>5.0</td>\n",
       "    </tr>\n",
       "    <tr>\n",
       "      <th>2</th>\n",
       "      <td>1045419649</td>\n",
       "      <td>ESPINOSA ESPINOSA LILIANA ANDREA</td>\n",
       "      <td>lilianaa.espinosa@udea.edu.co</td>\n",
       "      <td>NaN</td>\n",
       "      <td>4.5</td>\n",
       "      <td>5.0</td>\n",
       "      <td>5.0</td>\n",
       "    </tr>\n",
       "  </tbody>\n",
       "</table>\n",
       "</div>"
      ],
      "text/plain": [
       "       Cedula                            Nombre  \\\n",
       "0  1067281024        ALVAREZ GOEZ DAIRO ESTEBAN   \n",
       "1  1041086439     CASTILLO SIERRA SHIRLIS SARAY   \n",
       "2  1045419649  ESPINOSA ESPINOSA LILIANA ANDREA   \n",
       "\n",
       "                           Email  Asistencia  quiz_1  parcial 1  Proyecto_1  \n",
       "0     dairo.alvarez1@udea.edu.co         NaN     NaN        5.0         NaN  \n",
       "1   shirlis.castillo@udea.edu.co         NaN     5.0        4.0         5.0  \n",
       "2  lilianaa.espinosa@udea.edu.co         NaN     4.5        5.0         5.0  "
      ]
     },
     "execution_count": 1,
     "metadata": {},
     "output_type": "execute_result"
    }
   ],
   "source": [
    "import pandas as pd\n",
    "import numpy as np\n",
    "\n",
    "# Cargar la lista de estudiantes desde el archivo CSV\n",
    "path = 'C:/Users/marco/Documentos/docencia/groups_list/logica.xlsx'\n",
    "estudiantes = pd.read_excel(path)\n",
    "\n",
    "estudiantes.head(3)"
   ]
  },
  {
   "cell_type": "code",
   "execution_count": 5,
   "id": "6e1bac0e",
   "metadata": {},
   "outputs": [],
   "source": [
    "estudiantes['Asistencia'] = np.zeros_like(len(estudiantes))\n",
    "estudiantes.to_excel('logica.xlsx', index = False)"
   ]
  },
  {
   "cell_type": "code",
   "execution_count": 6,
   "id": "3268dbba",
   "metadata": {},
   "outputs": [
    {
     "data": {
      "application/vnd.microsoft.datawrangler.viewer.v0+json": {
       "columns": [
        {
         "name": "index",
         "rawType": "int64",
         "type": "integer"
        },
        {
         "name": "Cedula",
         "rawType": "int64",
         "type": "integer"
        },
        {
         "name": "Nombre",
         "rawType": "object",
         "type": "string"
        },
        {
         "name": "Email",
         "rawType": "object",
         "type": "string"
        },
        {
         "name": "Asistencia",
         "rawType": "int64",
         "type": "integer"
        },
        {
         "name": "quiz_1",
         "rawType": "float64",
         "type": "float"
        },
        {
         "name": "parcial 1",
         "rawType": "float64",
         "type": "float"
        },
        {
         "name": "Proyecto_1",
         "rawType": "float64",
         "type": "float"
        }
       ],
       "conversionMethod": "pd.DataFrame",
       "ref": "4138678c-084e-4e33-82eb-6d8945467f13",
       "rows": [
        [
         "0",
         "1067281024",
         "ALVAREZ GOEZ DAIRO ESTEBAN",
         "dairo.alvarez1@udea.edu.co",
         "0",
         null,
         "5.0",
         null
        ],
        [
         "1",
         "1041086439",
         "CASTILLO SIERRA SHIRLIS SARAY",
         "shirlis.castillo@udea.edu.co",
         "0",
         "5.0",
         "4.0",
         "5.0"
        ],
        [
         "2",
         "1045419649",
         "ESPINOSA ESPINOSA LILIANA ANDREA",
         "lilianaa.espinosa@udea.edu.co",
         "0",
         "4.5",
         "5.0",
         "5.0"
        ],
        [
         "3",
         "1040494191",
         "GARCIA PADILLA JHONATAN",
         "jhonatan.garcia1@udea.edu.co",
         "0",
         "5.0",
         "5.0",
         null
        ],
        [
         "4",
         "1038098851",
         "GUERRA OSORIO SIMON",
         "s.guerra@udea.edu.co",
         "0",
         "5.0",
         "5.0",
         null
        ]
       ],
       "shape": {
        "columns": 7,
        "rows": 5
       }
      },
      "text/html": [
       "<div>\n",
       "<style scoped>\n",
       "    .dataframe tbody tr th:only-of-type {\n",
       "        vertical-align: middle;\n",
       "    }\n",
       "\n",
       "    .dataframe tbody tr th {\n",
       "        vertical-align: top;\n",
       "    }\n",
       "\n",
       "    .dataframe thead th {\n",
       "        text-align: right;\n",
       "    }\n",
       "</style>\n",
       "<table border=\"1\" class=\"dataframe\">\n",
       "  <thead>\n",
       "    <tr style=\"text-align: right;\">\n",
       "      <th></th>\n",
       "      <th>Cedula</th>\n",
       "      <th>Nombre</th>\n",
       "      <th>Email</th>\n",
       "      <th>Asistencia</th>\n",
       "      <th>quiz_1</th>\n",
       "      <th>parcial 1</th>\n",
       "      <th>Proyecto_1</th>\n",
       "    </tr>\n",
       "  </thead>\n",
       "  <tbody>\n",
       "    <tr>\n",
       "      <th>0</th>\n",
       "      <td>1067281024</td>\n",
       "      <td>ALVAREZ GOEZ DAIRO ESTEBAN</td>\n",
       "      <td>dairo.alvarez1@udea.edu.co</td>\n",
       "      <td>0</td>\n",
       "      <td>NaN</td>\n",
       "      <td>5.0</td>\n",
       "      <td>NaN</td>\n",
       "    </tr>\n",
       "    <tr>\n",
       "      <th>1</th>\n",
       "      <td>1041086439</td>\n",
       "      <td>CASTILLO SIERRA SHIRLIS SARAY</td>\n",
       "      <td>shirlis.castillo@udea.edu.co</td>\n",
       "      <td>0</td>\n",
       "      <td>5.0</td>\n",
       "      <td>4.0</td>\n",
       "      <td>5.0</td>\n",
       "    </tr>\n",
       "    <tr>\n",
       "      <th>2</th>\n",
       "      <td>1045419649</td>\n",
       "      <td>ESPINOSA ESPINOSA LILIANA ANDREA</td>\n",
       "      <td>lilianaa.espinosa@udea.edu.co</td>\n",
       "      <td>0</td>\n",
       "      <td>4.5</td>\n",
       "      <td>5.0</td>\n",
       "      <td>5.0</td>\n",
       "    </tr>\n",
       "    <tr>\n",
       "      <th>3</th>\n",
       "      <td>1040494191</td>\n",
       "      <td>GARCIA PADILLA JHONATAN</td>\n",
       "      <td>jhonatan.garcia1@udea.edu.co</td>\n",
       "      <td>0</td>\n",
       "      <td>5.0</td>\n",
       "      <td>5.0</td>\n",
       "      <td>NaN</td>\n",
       "    </tr>\n",
       "    <tr>\n",
       "      <th>4</th>\n",
       "      <td>1038098851</td>\n",
       "      <td>GUERRA OSORIO SIMON</td>\n",
       "      <td>s.guerra@udea.edu.co</td>\n",
       "      <td>0</td>\n",
       "      <td>5.0</td>\n",
       "      <td>5.0</td>\n",
       "      <td>NaN</td>\n",
       "    </tr>\n",
       "  </tbody>\n",
       "</table>\n",
       "</div>"
      ],
      "text/plain": [
       "       Cedula                            Nombre  \\\n",
       "0  1067281024        ALVAREZ GOEZ DAIRO ESTEBAN   \n",
       "1  1041086439     CASTILLO SIERRA SHIRLIS SARAY   \n",
       "2  1045419649  ESPINOSA ESPINOSA LILIANA ANDREA   \n",
       "3  1040494191           GARCIA PADILLA JHONATAN   \n",
       "4  1038098851               GUERRA OSORIO SIMON   \n",
       "\n",
       "                           Email  Asistencia  quiz_1  parcial 1  Proyecto_1  \n",
       "0     dairo.alvarez1@udea.edu.co           0     NaN        5.0         NaN  \n",
       "1   shirlis.castillo@udea.edu.co           0     5.0        4.0         5.0  \n",
       "2  lilianaa.espinosa@udea.edu.co           0     4.5        5.0         5.0  \n",
       "3   jhonatan.garcia1@udea.edu.co           0     5.0        5.0         NaN  \n",
       "4           s.guerra@udea.edu.co           0     5.0        5.0         NaN  "
      ]
     },
     "execution_count": 6,
     "metadata": {},
     "output_type": "execute_result"
    }
   ],
   "source": [
    "estudiantes.head() "
   ]
  },
  {
   "cell_type": "code",
   "execution_count": 7,
   "id": "e1dc3e00",
   "metadata": {},
   "outputs": [
    {
     "data": {
      "text/plain": [
       "Index(['Cedula', 'Nombre', 'Email', 'Asistencia', 'quiz_1', 'parcial 1',\n",
       "       'Proyecto_1'],\n",
       "      dtype='object')"
      ]
     },
     "execution_count": 7,
     "metadata": {},
     "output_type": "execute_result"
    }
   ],
   "source": [
    "estudiantes.keys() "
   ]
  },
  {
   "cell_type": "code",
   "execution_count": 18,
   "id": "7604880f",
   "metadata": {
    "slideshow": {
     "slide_type": "slide"
    }
   },
   "outputs": [
    {
     "name": "stdout",
     "output_type": "stream",
     "text": [
      "Llamando a ALVAREZ GOEZ DAIRO ESTEBAN...\n"
     ]
    },
    {
     "name": "stdout",
     "output_type": "stream",
     "text": [
      "Llamando a ROHENES DE ARCO CAMILO ANDRES...\n",
      "Llamando a ESPINOSA ESPINOSA LILIANA ANDREA...\n",
      "Llamando a MARIAGA BALLESTEROS KEILA MELIZA...\n",
      "Llamando a CASTILLO SIERRA SHIRLIS SARAY...\n",
      "Llamando a SIERRA OLIVEROS OMAR DARIO...\n",
      "Llamando a OSORIO ACEVEDO LUIS MARIO...\n",
      "Llamando a RODELO ZABALA ARIANA...\n",
      "Llamando a HOYOS ARRIETA ELIECER JOSE...\n",
      "Llamando a GARCIA PADILLA JHONATAN...\n",
      "Llamando a PENATE PENA JHON SEBASTIAN...\n",
      "Llamando a GUERRA OSORIO SIMON...\n",
      "Llamando a SILVA URDA FABIAN...\n",
      "Llamando a RODRIGUEZ MOSQUERA ANGELA MARIA...\n",
      "Llamando a MARTINEZ MENDOZA JAIR MIGUEL...\n",
      "Llamando a VILLA CABARCA SANDY JANETH...\n",
      "Llamando a ROHENES DE ARCO DIEGO ANDRES...\n"
     ]
    },
    {
     "ename": "PermissionError",
     "evalue": "[Errno 13] Permission denied: 'C:/Users/marco/Documentos/docencia/groups_list/logica.csv'",
     "output_type": "error",
     "traceback": [
      "\u001b[1;31m---------------------------------------------------------------------------\u001b[0m",
      "\u001b[1;31mPermissionError\u001b[0m                           Traceback (most recent call last)",
      "Cell \u001b[1;32mIn[18], line 47\u001b[0m\n\u001b[0;32m     44\u001b[0m     asistencia()\n\u001b[0;32m     46\u001b[0m \u001b[38;5;66;03m# Guardar los cambios una vez que todos los estudiantes hayan sido llamados\u001b[39;00m\n\u001b[1;32m---> 47\u001b[0m \u001b[43mguardar_cambios\u001b[49m\u001b[43m(\u001b[49m\u001b[43m)\u001b[49m\n",
      "Cell \u001b[1;32mIn[18], line 39\u001b[0m, in \u001b[0;36mguardar_cambios\u001b[1;34m()\u001b[0m\n\u001b[0;32m     38\u001b[0m \u001b[38;5;28;01mdef\u001b[39;00m\u001b[38;5;250m \u001b[39m\u001b[38;5;21mguardar_cambios\u001b[39m():\n\u001b[1;32m---> 39\u001b[0m     \u001b[43mestudiantes\u001b[49m\u001b[38;5;241;43m.\u001b[39;49m\u001b[43mto_csv\u001b[49m\u001b[43m(\u001b[49m\u001b[43mpath\u001b[49m\u001b[43m,\u001b[49m\u001b[43m \u001b[49m\u001b[43mindex\u001b[49m\u001b[38;5;241;43m=\u001b[39;49m\u001b[38;5;28;43;01mFalse\u001b[39;49;00m\u001b[43m)\u001b[49m\n\u001b[0;32m     40\u001b[0m     \u001b[38;5;28mprint\u001b[39m(\u001b[38;5;124m\"\u001b[39m\u001b[38;5;124mCambios guardados en el archivo CSV.\u001b[39m\u001b[38;5;124m\"\u001b[39m)\n",
      "File \u001b[1;32mc:\\Users\\marco\\Documentos\\docencia\\fundamentos_logica\\.venv\\Lib\\site-packages\\pandas\\util\\_decorators.py:333\u001b[0m, in \u001b[0;36mdeprecate_nonkeyword_arguments.<locals>.decorate.<locals>.wrapper\u001b[1;34m(*args, **kwargs)\u001b[0m\n\u001b[0;32m    327\u001b[0m \u001b[38;5;28;01mif\u001b[39;00m \u001b[38;5;28mlen\u001b[39m(args) \u001b[38;5;241m>\u001b[39m num_allow_args:\n\u001b[0;32m    328\u001b[0m     warnings\u001b[38;5;241m.\u001b[39mwarn(\n\u001b[0;32m    329\u001b[0m         msg\u001b[38;5;241m.\u001b[39mformat(arguments\u001b[38;5;241m=\u001b[39m_format_argument_list(allow_args)),\n\u001b[0;32m    330\u001b[0m         \u001b[38;5;167;01mFutureWarning\u001b[39;00m,\n\u001b[0;32m    331\u001b[0m         stacklevel\u001b[38;5;241m=\u001b[39mfind_stack_level(),\n\u001b[0;32m    332\u001b[0m     )\n\u001b[1;32m--> 333\u001b[0m \u001b[38;5;28;01mreturn\u001b[39;00m \u001b[43mfunc\u001b[49m\u001b[43m(\u001b[49m\u001b[38;5;241;43m*\u001b[39;49m\u001b[43margs\u001b[49m\u001b[43m,\u001b[49m\u001b[43m \u001b[49m\u001b[38;5;241;43m*\u001b[39;49m\u001b[38;5;241;43m*\u001b[39;49m\u001b[43mkwargs\u001b[49m\u001b[43m)\u001b[49m\n",
      "File \u001b[1;32mc:\\Users\\marco\\Documentos\\docencia\\fundamentos_logica\\.venv\\Lib\\site-packages\\pandas\\core\\generic.py:3967\u001b[0m, in \u001b[0;36mNDFrame.to_csv\u001b[1;34m(self, path_or_buf, sep, na_rep, float_format, columns, header, index, index_label, mode, encoding, compression, quoting, quotechar, lineterminator, chunksize, date_format, doublequote, escapechar, decimal, errors, storage_options)\u001b[0m\n\u001b[0;32m   3956\u001b[0m df \u001b[38;5;241m=\u001b[39m \u001b[38;5;28mself\u001b[39m \u001b[38;5;28;01mif\u001b[39;00m \u001b[38;5;28misinstance\u001b[39m(\u001b[38;5;28mself\u001b[39m, ABCDataFrame) \u001b[38;5;28;01melse\u001b[39;00m \u001b[38;5;28mself\u001b[39m\u001b[38;5;241m.\u001b[39mto_frame()\n\u001b[0;32m   3958\u001b[0m formatter \u001b[38;5;241m=\u001b[39m DataFrameFormatter(\n\u001b[0;32m   3959\u001b[0m     frame\u001b[38;5;241m=\u001b[39mdf,\n\u001b[0;32m   3960\u001b[0m     header\u001b[38;5;241m=\u001b[39mheader,\n\u001b[1;32m   (...)\u001b[0m\n\u001b[0;32m   3964\u001b[0m     decimal\u001b[38;5;241m=\u001b[39mdecimal,\n\u001b[0;32m   3965\u001b[0m )\n\u001b[1;32m-> 3967\u001b[0m \u001b[38;5;28;01mreturn\u001b[39;00m \u001b[43mDataFrameRenderer\u001b[49m\u001b[43m(\u001b[49m\u001b[43mformatter\u001b[49m\u001b[43m)\u001b[49m\u001b[38;5;241;43m.\u001b[39;49m\u001b[43mto_csv\u001b[49m\u001b[43m(\u001b[49m\n\u001b[0;32m   3968\u001b[0m \u001b[43m    \u001b[49m\u001b[43mpath_or_buf\u001b[49m\u001b[43m,\u001b[49m\n\u001b[0;32m   3969\u001b[0m \u001b[43m    \u001b[49m\u001b[43mlineterminator\u001b[49m\u001b[38;5;241;43m=\u001b[39;49m\u001b[43mlineterminator\u001b[49m\u001b[43m,\u001b[49m\n\u001b[0;32m   3970\u001b[0m \u001b[43m    \u001b[49m\u001b[43msep\u001b[49m\u001b[38;5;241;43m=\u001b[39;49m\u001b[43msep\u001b[49m\u001b[43m,\u001b[49m\n\u001b[0;32m   3971\u001b[0m \u001b[43m    \u001b[49m\u001b[43mencoding\u001b[49m\u001b[38;5;241;43m=\u001b[39;49m\u001b[43mencoding\u001b[49m\u001b[43m,\u001b[49m\n\u001b[0;32m   3972\u001b[0m \u001b[43m    \u001b[49m\u001b[43merrors\u001b[49m\u001b[38;5;241;43m=\u001b[39;49m\u001b[43merrors\u001b[49m\u001b[43m,\u001b[49m\n\u001b[0;32m   3973\u001b[0m \u001b[43m    \u001b[49m\u001b[43mcompression\u001b[49m\u001b[38;5;241;43m=\u001b[39;49m\u001b[43mcompression\u001b[49m\u001b[43m,\u001b[49m\n\u001b[0;32m   3974\u001b[0m \u001b[43m    \u001b[49m\u001b[43mquoting\u001b[49m\u001b[38;5;241;43m=\u001b[39;49m\u001b[43mquoting\u001b[49m\u001b[43m,\u001b[49m\n\u001b[0;32m   3975\u001b[0m \u001b[43m    \u001b[49m\u001b[43mcolumns\u001b[49m\u001b[38;5;241;43m=\u001b[39;49m\u001b[43mcolumns\u001b[49m\u001b[43m,\u001b[49m\n\u001b[0;32m   3976\u001b[0m \u001b[43m    \u001b[49m\u001b[43mindex_label\u001b[49m\u001b[38;5;241;43m=\u001b[39;49m\u001b[43mindex_label\u001b[49m\u001b[43m,\u001b[49m\n\u001b[0;32m   3977\u001b[0m \u001b[43m    \u001b[49m\u001b[43mmode\u001b[49m\u001b[38;5;241;43m=\u001b[39;49m\u001b[43mmode\u001b[49m\u001b[43m,\u001b[49m\n\u001b[0;32m   3978\u001b[0m \u001b[43m    \u001b[49m\u001b[43mchunksize\u001b[49m\u001b[38;5;241;43m=\u001b[39;49m\u001b[43mchunksize\u001b[49m\u001b[43m,\u001b[49m\n\u001b[0;32m   3979\u001b[0m \u001b[43m    \u001b[49m\u001b[43mquotechar\u001b[49m\u001b[38;5;241;43m=\u001b[39;49m\u001b[43mquotechar\u001b[49m\u001b[43m,\u001b[49m\n\u001b[0;32m   3980\u001b[0m \u001b[43m    \u001b[49m\u001b[43mdate_format\u001b[49m\u001b[38;5;241;43m=\u001b[39;49m\u001b[43mdate_format\u001b[49m\u001b[43m,\u001b[49m\n\u001b[0;32m   3981\u001b[0m \u001b[43m    \u001b[49m\u001b[43mdoublequote\u001b[49m\u001b[38;5;241;43m=\u001b[39;49m\u001b[43mdoublequote\u001b[49m\u001b[43m,\u001b[49m\n\u001b[0;32m   3982\u001b[0m \u001b[43m    \u001b[49m\u001b[43mescapechar\u001b[49m\u001b[38;5;241;43m=\u001b[39;49m\u001b[43mescapechar\u001b[49m\u001b[43m,\u001b[49m\n\u001b[0;32m   3983\u001b[0m \u001b[43m    \u001b[49m\u001b[43mstorage_options\u001b[49m\u001b[38;5;241;43m=\u001b[39;49m\u001b[43mstorage_options\u001b[49m\u001b[43m,\u001b[49m\n\u001b[0;32m   3984\u001b[0m \u001b[43m\u001b[49m\u001b[43m)\u001b[49m\n",
      "File \u001b[1;32mc:\\Users\\marco\\Documentos\\docencia\\fundamentos_logica\\.venv\\Lib\\site-packages\\pandas\\io\\formats\\format.py:1014\u001b[0m, in \u001b[0;36mDataFrameRenderer.to_csv\u001b[1;34m(self, path_or_buf, encoding, sep, columns, index_label, mode, compression, quoting, quotechar, lineterminator, chunksize, date_format, doublequote, escapechar, errors, storage_options)\u001b[0m\n\u001b[0;32m    993\u001b[0m     created_buffer \u001b[38;5;241m=\u001b[39m \u001b[38;5;28;01mFalse\u001b[39;00m\n\u001b[0;32m    995\u001b[0m csv_formatter \u001b[38;5;241m=\u001b[39m CSVFormatter(\n\u001b[0;32m    996\u001b[0m     path_or_buf\u001b[38;5;241m=\u001b[39mpath_or_buf,\n\u001b[0;32m    997\u001b[0m     lineterminator\u001b[38;5;241m=\u001b[39mlineterminator,\n\u001b[1;32m   (...)\u001b[0m\n\u001b[0;32m   1012\u001b[0m     formatter\u001b[38;5;241m=\u001b[39m\u001b[38;5;28mself\u001b[39m\u001b[38;5;241m.\u001b[39mfmt,\n\u001b[0;32m   1013\u001b[0m )\n\u001b[1;32m-> 1014\u001b[0m \u001b[43mcsv_formatter\u001b[49m\u001b[38;5;241;43m.\u001b[39;49m\u001b[43msave\u001b[49m\u001b[43m(\u001b[49m\u001b[43m)\u001b[49m\n\u001b[0;32m   1016\u001b[0m \u001b[38;5;28;01mif\u001b[39;00m created_buffer:\n\u001b[0;32m   1017\u001b[0m     \u001b[38;5;28;01massert\u001b[39;00m \u001b[38;5;28misinstance\u001b[39m(path_or_buf, StringIO)\n",
      "File \u001b[1;32mc:\\Users\\marco\\Documentos\\docencia\\fundamentos_logica\\.venv\\Lib\\site-packages\\pandas\\io\\formats\\csvs.py:251\u001b[0m, in \u001b[0;36mCSVFormatter.save\u001b[1;34m(self)\u001b[0m\n\u001b[0;32m    247\u001b[0m \u001b[38;5;250m\u001b[39m\u001b[38;5;124;03m\"\"\"\u001b[39;00m\n\u001b[0;32m    248\u001b[0m \u001b[38;5;124;03mCreate the writer & save.\u001b[39;00m\n\u001b[0;32m    249\u001b[0m \u001b[38;5;124;03m\"\"\"\u001b[39;00m\n\u001b[0;32m    250\u001b[0m \u001b[38;5;66;03m# apply compression and byte/text conversion\u001b[39;00m\n\u001b[1;32m--> 251\u001b[0m \u001b[38;5;28;01mwith\u001b[39;00m \u001b[43mget_handle\u001b[49m\u001b[43m(\u001b[49m\n\u001b[0;32m    252\u001b[0m \u001b[43m    \u001b[49m\u001b[38;5;28;43mself\u001b[39;49m\u001b[38;5;241;43m.\u001b[39;49m\u001b[43mfilepath_or_buffer\u001b[49m\u001b[43m,\u001b[49m\n\u001b[0;32m    253\u001b[0m \u001b[43m    \u001b[49m\u001b[38;5;28;43mself\u001b[39;49m\u001b[38;5;241;43m.\u001b[39;49m\u001b[43mmode\u001b[49m\u001b[43m,\u001b[49m\n\u001b[0;32m    254\u001b[0m \u001b[43m    \u001b[49m\u001b[43mencoding\u001b[49m\u001b[38;5;241;43m=\u001b[39;49m\u001b[38;5;28;43mself\u001b[39;49m\u001b[38;5;241;43m.\u001b[39;49m\u001b[43mencoding\u001b[49m\u001b[43m,\u001b[49m\n\u001b[0;32m    255\u001b[0m \u001b[43m    \u001b[49m\u001b[43merrors\u001b[49m\u001b[38;5;241;43m=\u001b[39;49m\u001b[38;5;28;43mself\u001b[39;49m\u001b[38;5;241;43m.\u001b[39;49m\u001b[43merrors\u001b[49m\u001b[43m,\u001b[49m\n\u001b[0;32m    256\u001b[0m \u001b[43m    \u001b[49m\u001b[43mcompression\u001b[49m\u001b[38;5;241;43m=\u001b[39;49m\u001b[38;5;28;43mself\u001b[39;49m\u001b[38;5;241;43m.\u001b[39;49m\u001b[43mcompression\u001b[49m\u001b[43m,\u001b[49m\n\u001b[0;32m    257\u001b[0m \u001b[43m    \u001b[49m\u001b[43mstorage_options\u001b[49m\u001b[38;5;241;43m=\u001b[39;49m\u001b[38;5;28;43mself\u001b[39;49m\u001b[38;5;241;43m.\u001b[39;49m\u001b[43mstorage_options\u001b[49m\u001b[43m,\u001b[49m\n\u001b[0;32m    258\u001b[0m \u001b[43m\u001b[49m\u001b[43m)\u001b[49m \u001b[38;5;28;01mas\u001b[39;00m handles:\n\u001b[0;32m    259\u001b[0m     \u001b[38;5;66;03m# Note: self.encoding is irrelevant here\u001b[39;00m\n\u001b[0;32m    260\u001b[0m     \u001b[38;5;28mself\u001b[39m\u001b[38;5;241m.\u001b[39mwriter \u001b[38;5;241m=\u001b[39m csvlib\u001b[38;5;241m.\u001b[39mwriter(\n\u001b[0;32m    261\u001b[0m         handles\u001b[38;5;241m.\u001b[39mhandle,\n\u001b[0;32m    262\u001b[0m         lineterminator\u001b[38;5;241m=\u001b[39m\u001b[38;5;28mself\u001b[39m\u001b[38;5;241m.\u001b[39mlineterminator,\n\u001b[1;32m   (...)\u001b[0m\n\u001b[0;32m    267\u001b[0m         quotechar\u001b[38;5;241m=\u001b[39m\u001b[38;5;28mself\u001b[39m\u001b[38;5;241m.\u001b[39mquotechar,\n\u001b[0;32m    268\u001b[0m     )\n\u001b[0;32m    270\u001b[0m     \u001b[38;5;28mself\u001b[39m\u001b[38;5;241m.\u001b[39m_save()\n",
      "File \u001b[1;32mc:\\Users\\marco\\Documentos\\docencia\\fundamentos_logica\\.venv\\Lib\\site-packages\\pandas\\io\\common.py:873\u001b[0m, in \u001b[0;36mget_handle\u001b[1;34m(path_or_buf, mode, encoding, compression, memory_map, is_text, errors, storage_options)\u001b[0m\n\u001b[0;32m    868\u001b[0m \u001b[38;5;28;01melif\u001b[39;00m \u001b[38;5;28misinstance\u001b[39m(handle, \u001b[38;5;28mstr\u001b[39m):\n\u001b[0;32m    869\u001b[0m     \u001b[38;5;66;03m# Check whether the filename is to be opened in binary mode.\u001b[39;00m\n\u001b[0;32m    870\u001b[0m     \u001b[38;5;66;03m# Binary mode does not support 'encoding' and 'newline'.\u001b[39;00m\n\u001b[0;32m    871\u001b[0m     \u001b[38;5;28;01mif\u001b[39;00m ioargs\u001b[38;5;241m.\u001b[39mencoding \u001b[38;5;129;01mand\u001b[39;00m \u001b[38;5;124m\"\u001b[39m\u001b[38;5;124mb\u001b[39m\u001b[38;5;124m\"\u001b[39m \u001b[38;5;129;01mnot\u001b[39;00m \u001b[38;5;129;01min\u001b[39;00m ioargs\u001b[38;5;241m.\u001b[39mmode:\n\u001b[0;32m    872\u001b[0m         \u001b[38;5;66;03m# Encoding\u001b[39;00m\n\u001b[1;32m--> 873\u001b[0m         handle \u001b[38;5;241m=\u001b[39m \u001b[38;5;28;43mopen\u001b[39;49m\u001b[43m(\u001b[49m\n\u001b[0;32m    874\u001b[0m \u001b[43m            \u001b[49m\u001b[43mhandle\u001b[49m\u001b[43m,\u001b[49m\n\u001b[0;32m    875\u001b[0m \u001b[43m            \u001b[49m\u001b[43mioargs\u001b[49m\u001b[38;5;241;43m.\u001b[39;49m\u001b[43mmode\u001b[49m\u001b[43m,\u001b[49m\n\u001b[0;32m    876\u001b[0m \u001b[43m            \u001b[49m\u001b[43mencoding\u001b[49m\u001b[38;5;241;43m=\u001b[39;49m\u001b[43mioargs\u001b[49m\u001b[38;5;241;43m.\u001b[39;49m\u001b[43mencoding\u001b[49m\u001b[43m,\u001b[49m\n\u001b[0;32m    877\u001b[0m \u001b[43m            \u001b[49m\u001b[43merrors\u001b[49m\u001b[38;5;241;43m=\u001b[39;49m\u001b[43merrors\u001b[49m\u001b[43m,\u001b[49m\n\u001b[0;32m    878\u001b[0m \u001b[43m            \u001b[49m\u001b[43mnewline\u001b[49m\u001b[38;5;241;43m=\u001b[39;49m\u001b[38;5;124;43m\"\u001b[39;49m\u001b[38;5;124;43m\"\u001b[39;49m\u001b[43m,\u001b[49m\n\u001b[0;32m    879\u001b[0m \u001b[43m        \u001b[49m\u001b[43m)\u001b[49m\n\u001b[0;32m    880\u001b[0m     \u001b[38;5;28;01melse\u001b[39;00m:\n\u001b[0;32m    881\u001b[0m         \u001b[38;5;66;03m# Binary mode\u001b[39;00m\n\u001b[0;32m    882\u001b[0m         handle \u001b[38;5;241m=\u001b[39m \u001b[38;5;28mopen\u001b[39m(handle, ioargs\u001b[38;5;241m.\u001b[39mmode)\n",
      "\u001b[1;31mPermissionError\u001b[0m: [Errno 13] Permission denied: 'C:/Users/marco/Documentos/docencia/groups_list/logica.csv'"
     ]
    }
   ],
   "source": [
    "import pandas as pd\n",
    "import numpy as np\n",
    "\n",
    "# Cargar la lista de estudiantes desde el archivo CSV\n",
    "# path = 'C:/Users/marco/Documentos/docencia/groups_list/logica.csv'\n",
    "# estudiantes = pd.read_csv(path)\n",
    "# estudiantes['Asistencia'] = estudiantes['Asistencia'].astype(float)  # Asegurar que la columna 'Parcial' es float\n",
    "\n",
    "# Convertir la columna 'Nombre' a una lista de Python\n",
    "lista_estudiantes = estudiantes['Nombre'].tolist()\n",
    "\n",
    "# Función para llamar a un estudiante aleatoriamente y registrar su nota de seguimiento\n",
    "def asistencia():\n",
    "    global lista_estudiantes\n",
    "    if lista_estudiantes:\n",
    "        estudiante_aleatorio = np.random.choice(lista_estudiantes)\n",
    "        print(f\"Llamando a {estudiante_aleatorio}...\")\n",
    "        asistencia = input(f\"¿Asistió {estudiante_aleatorio}? (s/n): \").strip().lower()\n",
    "        \n",
    "        # Validación de entrada\n",
    "        if asistencia == 'n':\n",
    "            # Obtener el índice del estudiante en el DataFrame\n",
    "            indice = estudiantes[estudiantes['Nombre'] == estudiante_aleatorio].index[0]\n",
    "            # Incrementar su valor en la columna 'Parcial'\n",
    "            estudiantes.at[indice, 'Asistencia'] += 4\n",
    "            print(f\"Actualizado: {estudiante_aleatorio} ahora tiene {estudiantes.at[indice, 'Parcial']} en la columna 'Parcial'.\")\n",
    "        \n",
    "        elif asistencia != 's':\n",
    "            print(\"Entrada inválida. Por favor, introduce 's' para sí o 'n' para no.\")\n",
    "            return  # Volver a preguntar para el mismo estudiante si la entrada es inválida\n",
    "        \n",
    "        # Remover al estudiante de la lista para no llamarlo de nuevo\n",
    "        lista_estudiantes.remove(estudiante_aleatorio)\n",
    "    else:\n",
    "        print(\"Se han llamado a todos los estudiantes del grupo completo.\")\n",
    "\n",
    "# Función para guardar cambios al final de la sesión\n",
    "def guardar_cambios():\n",
    "    estudiantes.to_csv(path, index=False)\n",
    "    print(\"Cambios guardados en el archivo CSV.\")\n",
    "\n",
    "# Ejemplo de uso\n",
    "while lista_estudiantes:\n",
    "    asistencia()\n",
    "\n",
    "# Guardar los cambios una vez que todos los estudiantes hayan sido llamados\n",
    "guardar_cambios()\n",
    "\n"
   ]
  },
  {
   "cell_type": "code",
   "execution_count": 9,
   "id": "87bfa29b",
   "metadata": {},
   "outputs": [
    {
     "data": {
      "application/vnd.microsoft.datawrangler.viewer.v0+json": {
       "columns": [
        {
         "name": "index",
         "rawType": "int64",
         "type": "integer"
        },
        {
         "name": "Cedula",
         "rawType": "int64",
         "type": "integer"
        },
        {
         "name": "Nombre",
         "rawType": "object",
         "type": "string"
        },
        {
         "name": "Email",
         "rawType": "object",
         "type": "string"
        },
        {
         "name": "Asistencia",
         "rawType": "int64",
         "type": "integer"
        },
        {
         "name": "quiz_1",
         "rawType": "float64",
         "type": "float"
        },
        {
         "name": "parcial 1",
         "rawType": "float64",
         "type": "float"
        },
        {
         "name": "Proyecto_1",
         "rawType": "float64",
         "type": "float"
        }
       ],
       "conversionMethod": "pd.DataFrame",
       "ref": "28d465e5-28dc-40d8-8005-103192172861",
       "rows": [
        [
         "0",
         "1067281024",
         "ALVAREZ GOEZ DAIRO ESTEBAN",
         "dairo.alvarez1@udea.edu.co",
         "0",
         null,
         "5.0",
         null
        ],
        [
         "1",
         "1041086439",
         "CASTILLO SIERRA SHIRLIS SARAY",
         "shirlis.castillo@udea.edu.co",
         "0",
         "5.0",
         "4.0",
         "5.0"
        ],
        [
         "2",
         "1045419649",
         "ESPINOSA ESPINOSA LILIANA ANDREA",
         "lilianaa.espinosa@udea.edu.co",
         "0",
         "4.5",
         "5.0",
         "5.0"
        ],
        [
         "3",
         "1040494191",
         "GARCIA PADILLA JHONATAN",
         "jhonatan.garcia1@udea.edu.co",
         "0",
         "5.0",
         "5.0",
         null
        ]
       ],
       "shape": {
        "columns": 7,
        "rows": 4
       }
      },
      "text/html": [
       "<div>\n",
       "<style scoped>\n",
       "    .dataframe tbody tr th:only-of-type {\n",
       "        vertical-align: middle;\n",
       "    }\n",
       "\n",
       "    .dataframe tbody tr th {\n",
       "        vertical-align: top;\n",
       "    }\n",
       "\n",
       "    .dataframe thead th {\n",
       "        text-align: right;\n",
       "    }\n",
       "</style>\n",
       "<table border=\"1\" class=\"dataframe\">\n",
       "  <thead>\n",
       "    <tr style=\"text-align: right;\">\n",
       "      <th></th>\n",
       "      <th>Cedula</th>\n",
       "      <th>Nombre</th>\n",
       "      <th>Email</th>\n",
       "      <th>Asistencia</th>\n",
       "      <th>quiz_1</th>\n",
       "      <th>parcial 1</th>\n",
       "      <th>Proyecto_1</th>\n",
       "    </tr>\n",
       "  </thead>\n",
       "  <tbody>\n",
       "    <tr>\n",
       "      <th>0</th>\n",
       "      <td>1067281024</td>\n",
       "      <td>ALVAREZ GOEZ DAIRO ESTEBAN</td>\n",
       "      <td>dairo.alvarez1@udea.edu.co</td>\n",
       "      <td>0</td>\n",
       "      <td>NaN</td>\n",
       "      <td>5.0</td>\n",
       "      <td>NaN</td>\n",
       "    </tr>\n",
       "    <tr>\n",
       "      <th>1</th>\n",
       "      <td>1041086439</td>\n",
       "      <td>CASTILLO SIERRA SHIRLIS SARAY</td>\n",
       "      <td>shirlis.castillo@udea.edu.co</td>\n",
       "      <td>0</td>\n",
       "      <td>5.0</td>\n",
       "      <td>4.0</td>\n",
       "      <td>5.0</td>\n",
       "    </tr>\n",
       "    <tr>\n",
       "      <th>2</th>\n",
       "      <td>1045419649</td>\n",
       "      <td>ESPINOSA ESPINOSA LILIANA ANDREA</td>\n",
       "      <td>lilianaa.espinosa@udea.edu.co</td>\n",
       "      <td>0</td>\n",
       "      <td>4.5</td>\n",
       "      <td>5.0</td>\n",
       "      <td>5.0</td>\n",
       "    </tr>\n",
       "    <tr>\n",
       "      <th>3</th>\n",
       "      <td>1040494191</td>\n",
       "      <td>GARCIA PADILLA JHONATAN</td>\n",
       "      <td>jhonatan.garcia1@udea.edu.co</td>\n",
       "      <td>0</td>\n",
       "      <td>5.0</td>\n",
       "      <td>5.0</td>\n",
       "      <td>NaN</td>\n",
       "    </tr>\n",
       "  </tbody>\n",
       "</table>\n",
       "</div>"
      ],
      "text/plain": [
       "       Cedula                            Nombre  \\\n",
       "0  1067281024        ALVAREZ GOEZ DAIRO ESTEBAN   \n",
       "1  1041086439     CASTILLO SIERRA SHIRLIS SARAY   \n",
       "2  1045419649  ESPINOSA ESPINOSA LILIANA ANDREA   \n",
       "3  1040494191           GARCIA PADILLA JHONATAN   \n",
       "\n",
       "                           Email  Asistencia  quiz_1  parcial 1  Proyecto_1  \n",
       "0     dairo.alvarez1@udea.edu.co           0     NaN        5.0         NaN  \n",
       "1   shirlis.castillo@udea.edu.co           0     5.0        4.0         5.0  \n",
       "2  lilianaa.espinosa@udea.edu.co           0     4.5        5.0         5.0  \n",
       "3   jhonatan.garcia1@udea.edu.co           0     5.0        5.0         NaN  "
      ]
     },
     "execution_count": 9,
     "metadata": {},
     "output_type": "execute_result"
    }
   ],
   "source": [
    "estudiantes.head(4)"
   ]
  },
  {
   "cell_type": "markdown",
   "id": "d7598d0a-d9b7-4ae0-b029-a0ed6ed1130b",
   "metadata": {},
   "source": [
    "\n",
    "# Principios de mi labor docente"
   ]
  },
  {
   "cell_type": "markdown",
   "id": "4f9d8cf9",
   "metadata": {
    "slideshow": {
     "slide_type": "slide"
    }
   },
   "source": [
    "## Modelo general de clase: [aula invertida](https://www3.gobiernodecanarias.org/medusa/ecoescuela/pedagotic/aprendizaje-invertido-flipped-classroom/)"
   ]
  },
  {
   "cell_type": "markdown",
   "id": "eb6ed03a",
   "metadata": {},
   "source": [
    "<img src = 'https://resources.maneuveringthemiddle.com/wp-content/uploads/2020/07/04212706/1-5.png' width = 500>  \n",
    "\n"
   ]
  },
  {
   "cell_type": "markdown",
   "id": "34319cce-a71b-4f64-aab8-b53e521efa40",
   "metadata": {},
   "source": [
    "# Metodología de Aprendizaje Basado en Problemas y Proyectos (ABPP) \n"
   ]
  },
  {
   "cell_type": "markdown",
   "id": "c4f73d81",
   "metadata": {},
   "source": [
    "\n",
    "<img src = 'https://www.unir.net/wp-content/uploads/2020/07/aprendizaje-problemas2-1-1-1-1.jpeg' width = 500>"
   ]
  },
  {
   "cell_type": "markdown",
   "id": "841a985c-bd9b-4dd3-8e4c-893983980af2",
   "metadata": {},
   "source": [
    "# Desarrollo del pensamiento computacional con Lenguajes Python y R, y con archivos Markdown orientado a la formación en ciencia de datos \n",
    "\n"
   ]
  },
  {
   "cell_type": "markdown",
   "id": "3d0eba94",
   "metadata": {},
   "source": [
    "\n",
    "<img src = 'https://i.ytimg.com/vi/mcG_wcR4e6M/maxresdefault.jpg' width = 200>"
   ]
  },
  {
   "cell_type": "markdown",
   "id": "65aa0404-f7ae-495e-864c-1aec01b4255e",
   "metadata": {},
   "source": [
    "# Principio de fomento a la ciencia abierta, enseñar en el acceso a los datos públicos y el uso de software de código abierto  \n"
   ]
  },
  {
   "cell_type": "markdown",
   "id": "18ae9b87",
   "metadata": {},
   "source": [
    "\n",
    "<img src = 'https://unesdoc.unesco.org/in/rest/Thumb/image?id=p%3A%3Ausmarcdef_0000379949_spa&author=UNESCO&title=Recomendaci%C3%B3n+de+la+UNESCO+sobre+la+Ciencia+Abierta&year=2021&publisher=UNESCO&TypeOfDocument=UnescoPhysicalDocument&mat=PGD&ct=true&size=512&isPhysical=1' width = 200>"
   ]
  },
  {
   "cell_type": "markdown",
   "id": "d9559f85",
   "metadata": {},
   "source": [
    "El enfoque STEAMS en educación preescolar, primaria y secundaria es una extensión del enfoque STEM (Ciencia, Tecnología, Ingeniería y Matemáticas) y su variante STEAM, que incorpora el Arte. "
   ]
  },
  {
   "cell_type": "markdown",
   "id": "72e1cfd2",
   "metadata": {},
   "source": [
    "El acrónimo STEAMS incluye:\n"
   ]
  },
  {
   "cell_type": "markdown",
   "id": "03182fd1",
   "metadata": {},
   "source": [
    "\n",
    "1. **Science (Ciencia):** Fomenta la curiosidad por el mundo natural y el desarrollo de habilidades científicas, como la observación, experimentación y análisis.\n"
   ]
  },
  {
   "cell_type": "markdown",
   "id": "1306d0fa",
   "metadata": {},
   "source": [
    "\n",
    "2. **Technology (Tecnología):** Integra herramientas tecnológicas para potenciar el aprendizaje y la resolución de problemas, promoviendo la alfabetización digital desde edades tempranas.\n"
   ]
  },
  {
   "cell_type": "markdown",
   "id": "3b1a53e8",
   "metadata": {},
   "source": [
    "\n",
    "3. **Engineering (Ingeniería):** Introduce el pensamiento lógico y la resolución de problemas estructurados, fomentando habilidades como el diseño y la construcción de soluciones.\n"
   ]
  },
  {
   "cell_type": "markdown",
   "id": "0196de87",
   "metadata": {},
   "source": [
    "\n",
    "4. **Arts (Arte):** Añade creatividad y pensamiento crítico, permitiendo a los estudiantes expresarse y explorar el aprendizaje a través de formas artísticas (plásticas, música, teatro).\n"
   ]
  },
  {
   "cell_type": "markdown",
   "id": "8bcc485a",
   "metadata": {},
   "source": [
    "\n",
    "5. **Mathematics (Matemáticas):** Refuerza las habilidades numéricas y el razonamiento lógico, fundamentales en la resolución de problemas y comprensión de conceptos abstractos.\n"
   ]
  },
  {
   "cell_type": "markdown",
   "id": "907935f4",
   "metadata": {},
   "source": [
    "\n",
    "6. **Social Sciences (Ciencias Sociales):** Incorpora la comprensión del entorno social, político, cultural y económico, promoviendo el desarrollo de la conciencia crítica sobre el mundo y su historia, además de habilidades de empatía y ciudadanía.\n"
   ]
  },
  {
   "cell_type": "markdown",
   "id": "39967d63",
   "metadata": {},
   "source": [
    "\n",
    "El enfoque STEAMS pretende desarrollar un aprendizaje **interdisciplinario** que integre estas áreas para fomentar un pensamiento más holístico y práctico. "
   ]
  },
  {
   "cell_type": "markdown",
   "id": "5145f077",
   "metadata": {},
   "source": [
    "Se busca que los estudiantes no solo aprendan conocimientos técnicos, sino también cómo aplicarlos creativa y críticamente en situaciones reales, promoviendo habilidades como el trabajo en equipo, la comunicación y la innovación. "
   ]
  },
  {
   "cell_type": "markdown",
   "id": "9d556584",
   "metadata": {},
   "source": [
    "En educación preescolar, primaria, secundaria y superior, se adapta a las diferentes etapas de desarrollo cognitivo y emocional de los estudiantes, promoviendo el aprendizaje activo y contextualizado.  \n"
   ]
  },
  {
   "cell_type": "markdown",
   "id": "0130ec1b",
   "metadata": {},
   "source": [
    "\n",
    "<img src = 'https://www.campuseducacion.com/blog/wp-content/uploads/2023/03/foto01-1.jpg' width = 200>"
   ]
  },
  {
   "cell_type": "markdown",
   "id": "9d15c10d-2c02-4158-9419-b1ed79b4c1ee",
   "metadata": {},
   "source": [
    "# Qué estamos haciendo por la internalización en esta clase y este curso  \n"
   ]
  },
  {
   "cell_type": "markdown",
   "id": "6e4feef2",
   "metadata": {},
   "source": [
    "Estas son mis acciones como docente de matemáticas en la Universidad de Antioquia con miras a la **internacionalización** de mi práctica docente y el desarrollo de competencias internacionales para mis estudiantes, ls cuales he estructurado con el siguiente enfoque:\n"
   ]
  },
  {
   "cell_type": "markdown",
   "id": "964d9de7-53ee-4255-9bcd-d8e6454f2993",
   "metadata": {},
   "source": [
    "### 1. **Visión Global en la Formación Académica**\n"
   ]
  },
  {
   "cell_type": "markdown",
   "id": "d9bdd3e2",
   "metadata": {},
   "source": [
    "   - **Competencias Internacionales**: Asegúrate de que el contenido de tus cursos fomente habilidades que sean reconocidas globalmente. "
   ]
  },
  {
   "cell_type": "markdown",
   "id": "47dad129",
   "metadata": {},
   "source": [
    "Al educar a los estudiantes en **Python, LaTeX, Markdown y Jupyter Notebooks** y en la **introducción a la ciencia de datos y técnicas de Machine Learning**, estás proporcionando competencias altamente demandadas en los sectores tecnológicos y académicos a nivel internacional.\n"
   ]
  },
  {
   "cell_type": "markdown",
   "id": "39b55206",
   "metadata": {},
   "source": [
    "   - **Relevancia de los Contenidos**: Destaca cómo los temas que enseñas, como el **desarrollo del pensamiento computacional** y la **ciencia de datos**, están alineados con las necesidades globales actuales en diversas industrias, desde la tecnología hasta las ciencias naturales y sociales.\n"
   ]
  },
  {
   "cell_type": "markdown",
   "id": "a054599e",
   "metadata": {},
   "source": [
    "   - **Referencias a Estándares Internacionales**: Puedes vincular tu enseñanza a estándares internacionales de competencias en programación y ciencia de datos (por ejemplo, frameworks del **IEEE, ACM**, y estándares de la **data science** o la **computación en la nube**)."
   ]
  },
  {
   "cell_type": "markdown",
   "id": "0f1d110c-3142-48fe-9e7d-5fbd9e8bb931",
   "metadata": {},
   "source": [
    "### 2. **Innovación Pedagógica con Enfoque Internacional**\n"
   ]
  },
  {
   "cell_type": "markdown",
   "id": "fae6ae34",
   "metadata": {},
   "source": [
    "   - **Aula Invertida y ABP**: Presenta cómo tu enfoque de **aula invertida** y **aprendizaje basado en problemas (ABP)** permite a los estudiantes trabajar de manera autónoma y colaborativa, lo que los prepara para escenarios laborales internacionales que requieren autoaprendizaje y habilidades de resolución de problemas en equipo.\n"
   ]
  },
  {
   "cell_type": "markdown",
   "id": "c83062d9",
   "metadata": {},
   "source": [
    "   - **Uso de Jupyter Notebooks**: El uso de **Jupyter Notebooks** en tus clases no solo facilita la **integración de código, matemáticas y texto**, sino que también es una plataforma utilizada globalmente en ambientes académicos y profesionales, lo que hace a tus estudiantes más competitivos internacionalmente."
   ]
  },
  {
   "cell_type": "markdown",
   "id": "960d52b7-03cd-4eb3-965e-5cdfeb7d9f8e",
   "metadata": {},
   "source": [
    "### 3. **Tecnología y Herramientas de Uso Global**\n"
   ]
  },
  {
   "cell_type": "markdown",
   "id": "4be7269f",
   "metadata": {},
   "source": [
    "   - **Lenguaje Python**: Python es uno de los lenguajes de programación más usados a nivel mundial, tanto en la academia como en la industria. Al formar a tus estudiantes en Python para ciencia de datos y machine learning, los preparas para operar en entornos tecnológicos globales.\n"
   ]
  },
  {
   "cell_type": "markdown",
   "id": "102655af",
   "metadata": {},
   "source": [
    "   - **Herramientas de Ciencia Abierta**: Resalta cómo herramientas como **GitHub**, **Google Colab** y otras plataformas de código abierto están alineadas con el movimiento de **ciencia abierta**, el cual es internacionalmente reconocido y permite que los estudiantes colaboren y compartan proyectos a nivel global."
   ]
  },
  {
   "cell_type": "markdown",
   "id": "3b2ffa32-7a6f-4545-ba7b-c6a69f51109f",
   "metadata": {},
   "source": [
    "### 4. **Investigación y Publicaciones Internacionales**\n"
   ]
  },
  {
   "cell_type": "markdown",
   "id": "bdbf52a5",
   "metadata": {},
   "source": [
    "   - **Promoción de la Investigación**: Detalla cómo promueves que tus estudiantes participen en proyectos de **investigación aplicada**, con posibilidad de publicación en revistas internacionales. "
   ]
  },
  {
   "cell_type": "markdown",
   "id": "b8f9929c",
   "metadata": {},
   "source": [
    "Esto contribuye a la reputación internacional de la Universidad de Antioquia.\n"
   ]
  },
  {
   "cell_type": "markdown",
   "id": "ea01fcbc",
   "metadata": {},
   "source": [
    "   - **Colaboraciones Internacionales**: Si has colaborado con investigadores de otras instituciones o universidades en el extranjero, menciona estos proyectos y cómo han enriquecido tu enseñanza y proporcionado a los estudiantes una visión más globalizada."
   ]
  },
  {
   "cell_type": "markdown",
   "id": "5d1e396e-aece-4bf7-9421-32fa7809eaf4",
   "metadata": {},
   "source": [
    "## 5. **Uso del Inglés para la Internacionalización**\n"
   ]
  },
  {
   "cell_type": "markdown",
   "id": "29cabf26",
   "metadata": {},
   "source": [
    "   - **Comunicación Científica en Inglés**: "
   ]
  },
  {
   "cell_type": "markdown",
   "id": "8ec53ff3",
   "metadata": {},
   "source": [
    "Fomentar el aprendizaje del inglés como lengua científica es clave para que tus estudiantes puedan acceder a publicaciones internacionales, conferencias, y material académico que no está disponible en español. "
   ]
  },
  {
   "cell_type": "markdown",
   "id": "12b4cdcf",
   "metadata": {},
   "source": [
    "Esto es esencial para que adquieran competencias que les permitan desempeñarse en cualquier contexto internacional.\n"
   ]
  },
  {
   "cell_type": "markdown",
   "id": "b831224f",
   "metadata": {},
   "source": [
    "   - **Material Bilingüe**: Al generar material educativo en Python, LaTeX y Markdown, considera ofrecer algunos de estos recursos en inglés, para que los estudiantes se familiaricen con el vocabulario técnico y científico internacional."
   ]
  },
  {
   "cell_type": "markdown",
   "id": "c6a8c3b0-426a-4692-a384-3065aea81c9a",
   "metadata": {},
   "source": [
    "### 6. **Certificaciones y Estándares Internacionales**\n"
   ]
  },
  {
   "cell_type": "markdown",
   "id": "b1f41da5",
   "metadata": {},
   "source": [
    "   - **Participación en Certificaciones Internacionales**: Impulsa que los estudiantes busquen certificaciones internacionales en Python o ciencia de datos (como las ofrecidas por **Coursera, edX,** o **Google**). "
   ]
  },
  {
   "cell_type": "markdown",
   "id": "0279b6b6",
   "metadata": {},
   "source": [
    "Estas certificaciones no solo validan sus competencias, sino que también incrementan el reconocimiento de la Universidad de Antioquia en el contexto internacional.\n"
   ]
  },
  {
   "cell_type": "markdown",
   "id": "7cc66317",
   "metadata": {},
   "source": [
    "   - **Alineación con Acreditaciones Internacionales**: Vincula tu trabajo docente con los estándares de acreditación y certificación que garantizan que la universidad siga siendo reconocida internacionalmente. "
   ]
  },
  {
   "cell_type": "markdown",
   "id": "116629e7",
   "metadata": {},
   "source": [
    "Puedes vincularte con organizaciones internacionales que promuevan la excelencia en la educación y tecnología, como **ABET** para la acreditación en ingeniería y ciencias computacionales."
   ]
  },
  {
   "cell_type": "markdown",
   "id": "65d3d9e1-ea84-43e0-8197-a2a9c9e21594",
   "metadata": {},
   "source": [
    "### 7. **Proyectos Abiertos y Ciencia Reproducible**\n"
   ]
  },
  {
   "cell_type": "markdown",
   "id": "f03f7b20",
   "metadata": {},
   "source": [
    "   - **GitHub y Open Science**: La utilización de **GitHub** para almacenar los proyectos y materiales de enseñanza en repositorios públicos permite que otros investigadores y educadores internacionales puedan revisar y replicar tu trabajo. "
   ]
  },
  {
   "cell_type": "markdown",
   "id": "b0d16f59",
   "metadata": {},
   "source": [
    "Esto contribuye a la creación de una red de colaboración científica abierta.\n"
   ]
  },
  {
   "cell_type": "markdown",
   "id": "7dd85589",
   "metadata": {},
   "source": [
    "   - **Transparencia y Reproducibilidad**: La ciencia de datos y machine learning están profundamente ligados a la reproducibilidad. "
   ]
  },
  {
   "cell_type": "markdown",
   "id": "6a258c22",
   "metadata": {},
   "source": [
    "Asegura que tus estudiantes desarrollen prácticas de transparencia y documentación en la investigación, que son pilares en la comunidad científica global.\n"
   ]
  },
  {
   "cell_type": "markdown",
   "id": "215cb551",
   "metadata": {},
   "source": [
    "\n",
    "### 8. **Participación en Redes y Conferencias Internacionales**\n"
   ]
  },
  {
   "cell_type": "markdown",
   "id": "be515adb",
   "metadata": {},
   "source": [
    "   - **Presentación en Conferencias Internacionales**: Destaca cómo tu participación en conferencias internacionales (como la **ASCOLFA** o eventos sobre educación en matemáticas) contribuye al prestigio de la universidad y permite que tus prácticas sean evaluadas y reconocidas a nivel global.\n"
   ]
  },
  {
   "cell_type": "markdown",
   "id": "cdf46e29",
   "metadata": {},
   "source": [
    "   - **Promoción de Estudiantes en Eventos Internacionales**: Impulsa la participación de tus estudiantes en competiciones internacionales de programación o hackathons, como los organizados por **Google**, **ACM** o **Kaggle**. "
   ]
  },
  {
   "cell_type": "markdown",
   "id": "482a7f87",
   "metadata": {},
   "source": [
    "Esto no solo desarrolla sus habilidades, sino que también visibiliza el talento de la Universidad de Antioquia a nivel global.\n",
    "\n",
    "---"
   ]
  },
  {
   "cell_type": "markdown",
   "id": "233294a4-1983-4641-a7ad-866825e02315",
   "metadata": {},
   "source": [
    "Con esta estrategia, presento mis acciones docentes en términos de competencias internacionales, innovación pedagógica, tecnología, investigación y participación en redes globales, asegurando que mi práctica esté alineada con los estándares internacionales y que tus estudiantes estén preparados para competir en contextos internacionales."
   ]
  },
  {
   "cell_type": "markdown",
   "id": "77da458b",
   "metadata": {},
   "source": [
    "### **Metodología de Enseñanza: Aprendizaje Basado en Problemas y Proyectos (ABPP)**\n"
   ]
  },
  {
   "cell_type": "markdown",
   "id": "c943d273",
   "metadata": {},
   "source": [
    "\n",
    "El **Aprendizaje Basado en Problemas y Proyectos (ABPP)** es una metodología educativa que integra los enfoques del **Aprendizaje Basado en Problemas (ABP)** y el **Aprendizaje Basado en Proyectos (PBL, por sus siglas en inglés)**. "
   ]
  },
  {
   "cell_type": "markdown",
   "id": "662c202f",
   "metadata": {},
   "source": [
    "Es especialmente útil para la formación de futuros docentes, ingenieros y administradores, ya que combina el desarrollo de habilidades prácticas con el pensamiento crítico y reflexivo. "
   ]
  },
  {
   "cell_type": "markdown",
   "id": "e33863e4",
   "metadata": {},
   "source": [
    "A continuación, se presenta una descripción adaptada a la enseñanza de las matemáticas en educación infantil, Licenciatura en Matemáticas, Ingeniería Agropecuaria y Administración de Empresas:\n",
    "\n",
    "---\n"
   ]
  },
  {
   "cell_type": "markdown",
   "id": "0eeba3f5",
   "metadata": {},
   "source": [
    "\n",
    "### **1. Fundamentos del ABPP**\n"
   ]
  },
  {
   "cell_type": "markdown",
   "id": "43a21c0b",
   "metadata": {},
   "source": [
    "El ABPP se basa en:\n",
    "- **Resolución de Problemas Reales:** Los estudiantes analizan y resuelven problemas auténticos relacionados con su área de formación, fomentando la aplicación práctica del conocimiento.\n"
   ]
  },
  {
   "cell_type": "markdown",
   "id": "ca0c81c7",
   "metadata": {},
   "source": [
    "- **Proyectos como Herramientas Integradoras:** Los proyectos permiten desarrollar habilidades interdisciplinarias y ofrecer soluciones concretas a los problemas planteados.\n"
   ]
  },
  {
   "cell_type": "markdown",
   "id": "819dcbcd",
   "metadata": {},
   "source": [
    "- **Aprendizaje Activo:** Los estudiantes son responsables de su aprendizaje y participan activamente en el proceso de investigación, diseño y solución.\n",
    "\n",
    "---\n"
   ]
  },
  {
   "cell_type": "markdown",
   "id": "3728d010",
   "metadata": {},
   "source": [
    "\n",
    "### **2. Aplicación del ABPP en Áreas Específicas**\n"
   ]
  },
  {
   "cell_type": "markdown",
   "id": "64eb39ff",
   "metadata": {},
   "source": [
    "\n",
    "#### **Educación Infantil (Licenciatura en Educación Infantil)**\n",
    "- **Enfoque:** Desarrollo del pensamiento matemático en la infancia desde contextos lúdicos, familiares y culturales.\n"
   ]
  },
  {
   "cell_type": "markdown",
   "id": "2cbb1bec",
   "metadata": {},
   "source": [
    "- **Problemas típicos:** \n"
   ]
  },
  {
   "cell_type": "markdown",
   "id": "c1ac0ffa",
   "metadata": {},
   "source": [
    "  - ¿Cómo enseñar los números naturales mediante actividades prácticas y juegos?\n"
   ]
  },
  {
   "cell_type": "markdown",
   "id": "0967d98a",
   "metadata": {},
   "source": [
    "  - ¿Qué estrategias pueden emplearse para abordar el concepto de cantidad en edades tempranas?\n",
    "- **Proyectos:** Diseño de secuencias didácticas que usen Python, Jupyter Notebooks y materiales manipulativos para enseñar matemáticas de forma interactiva.\n"
   ]
  },
  {
   "cell_type": "markdown",
   "id": "159661d2",
   "metadata": {},
   "source": [
    "- **Competencias desarrolladas:** \n",
    "  - Uso de herramientas tecnológicas para diseñar actividades educativas.\n",
    "  - Comprensión del desarrollo cognitivo infantil y su relación con las matemáticas.\n"
   ]
  },
  {
   "cell_type": "markdown",
   "id": "481f614a",
   "metadata": {},
   "source": [
    "\n",
    "#### **Licenciatura en Matemáticas**\n",
    "- **Enfoque:** Resolución de problemas matemáticos aplicados y profundización teórica en áreas como análisis matemático y modelado.\n"
   ]
  },
  {
   "cell_type": "markdown",
   "id": "4fe27fb8",
   "metadata": {},
   "source": [
    "- **Problemas típicos:**\n",
    "  - ¿Cómo se pueden resolver ecuaciones diferenciales aplicadas a modelos físicos o económicos?\n",
    "  - ¿Cómo modelar fenómenos naturales mediante funciones matemáticas?\n"
   ]
  },
  {
   "cell_type": "markdown",
   "id": "34ecae0c",
   "metadata": {},
   "source": [
    "- **Proyectos:** \n",
    "  - Desarrollo de software educativo para explorar conceptos matemáticos.\n",
    "  - Aplicación de modelado matemático para resolver problemas reales en otras disciplinas.\n"
   ]
  },
  {
   "cell_type": "markdown",
   "id": "c8143c14",
   "metadata": {},
   "source": [
    "- **Competencias desarrolladas:**\n",
    "  - Dominio de la matemática teórica y aplicada.\n",
    "  - Uso de tecnología para la enseñanza y la investigación.\n"
   ]
  },
  {
   "cell_type": "markdown",
   "id": "83ab236f",
   "metadata": {},
   "source": [
    "\n",
    "#### **Ingeniería Agropecuaria**\n",
    "- **Enfoque:** Modelado matemático y análisis de datos para mejorar la producción agrícola y la gestión de recursos.\n"
   ]
  },
  {
   "cell_type": "markdown",
   "id": "beb9ba0e",
   "metadata": {},
   "source": [
    "- **Problemas típicos:**\n",
    "  - ¿Cómo modelar el crecimiento de cultivos considerando variables climáticas?\n",
    "  - ¿Cómo optimizar el uso del agua en sistemas de riego mediante análisis matemático?\n"
   ]
  },
  {
   "cell_type": "markdown",
   "id": "4f437fb5",
   "metadata": {},
   "source": [
    "- **Proyectos:** \n",
    "  - Desarrollo de modelos predictivos con Python y bibliotecas de aprendizaje automático.\n",
    "  - Implementación de proyectos que combinen matemáticas y ciencias de datos para resolver problemas agrícolas.\n"
   ]
  },
  {
   "cell_type": "markdown",
   "id": "65927779",
   "metadata": {},
   "source": [
    "- **Competencias desarrolladas:**\n",
    "  - Integración de matemáticas con tecnologías avanzadas.\n",
    "  - Resolución de problemas agropecuarios mediante análisis y modelado.\n"
   ]
  },
  {
   "cell_type": "markdown",
   "id": "c4519bb3",
   "metadata": {},
   "source": [
    "\n",
    "#### **Administración de Empresas**\n"
   ]
  },
  {
   "cell_type": "markdown",
   "id": "d63225b7",
   "metadata": {},
   "source": [
    "- **Enfoque:** Uso de las matemáticas y la ciencia de datos para la toma de decisiones estratégicas.\n"
   ]
  },
  {
   "cell_type": "markdown",
   "id": "22df745a",
   "metadata": {},
   "source": [
    "- **Problemas típicos:**\n",
    "  - ¿Cómo identificar patrones de comportamiento del consumidor usando series de tiempo?\n",
    "  - ¿Qué estrategias matemáticas pueden optimizar la asignación de recursos en una empresa?\n"
   ]
  },
  {
   "cell_type": "markdown",
   "id": "694b493e",
   "metadata": {},
   "source": [
    "- **Proyectos:** \n",
    "  - Implementación de modelos de análisis financiero y simulaciones.\n",
    "  - Desarrollo de dashboards interactivos para la gestión de datos empresariales.\n"
   ]
  },
  {
   "cell_type": "markdown",
   "id": "4ac0a91d",
   "metadata": {},
   "source": [
    "- **Competencias desarrolladas:**\n",
    "  - Habilidad para interpretar datos matemáticos en contextos de negocio.\n",
    "  - Capacidad para diseñar soluciones basadas en datos.\n",
    "\n",
    "\n"
   ]
  },
  {
   "cell_type": "markdown",
   "id": "19be58d4",
   "metadata": {},
   "source": [
    "\n",
    "### **3. Beneficios del ABPP**\n"
   ]
  },
  {
   "cell_type": "markdown",
   "id": "585e8739",
   "metadata": {},
   "source": [
    "- **Desarrollo de competencias clave:**\n",
    "  - Pensamiento crítico y creativo.\n",
    "  - Trabajo colaborativo.\n",
    "  - Comunicación efectiva.\n",
    "  - Uso de herramientas tecnológicas avanzadas.\n"
   ]
  },
  {
   "cell_type": "markdown",
   "id": "0b651a2b",
   "metadata": {},
   "source": [
    "- **Adaptación al contexto laboral:** Los estudiantes aprenden a enfrentar desafíos del mundo real y a diseñar soluciones prácticas y aplicables.\n",
    "- **Flexibilidad e interdisciplinariedad:** La metodología se adapta a diversas áreas, fomentando el aprendizaje integrado.\n",
    "\n",
    "---\n"
   ]
  },
  {
   "cell_type": "markdown",
   "id": "e36034c3",
   "metadata": {},
   "source": [
    "\n",
    "### **4. Ejemplo General de Implementación**\n"
   ]
  },
  {
   "cell_type": "markdown",
   "id": "20fadf1c",
   "metadata": {},
   "source": [
    "1. **Identificación del problema:** Se plantea un desafío concreto, como modelar el crecimiento poblacional de una comunidad rural (Ingeniería Agropecuaria) o diseñar una estrategia para enseñar fracciones a niños de 8 años (Educación Infantil).\n"
   ]
  },
  {
   "cell_type": "markdown",
   "id": "933cac6f",
   "metadata": {},
   "source": [
    "2. **Formación de equipos:** Los estudiantes trabajan en grupos, distribuyendo roles y tareas.\n",
    "3. **Investigación y diseño:** Los estudiantes investigan el problema, proponen soluciones y diseñan un proyecto.\n",
    "4. **Implementación:** Se desarrolla el proyecto, como una herramienta tecnológica o una propuesta pedagógica.\n",
    "5. **Evaluación:** Los estudiantes presentan sus resultados en un informe o una exposición, recibiendo retroalimentación de sus compañeros y docentes.\n"
   ]
  },
  {
   "cell_type": "markdown",
   "id": "a622eebe",
   "metadata": {},
   "source": [
    "\n",
    "---\n",
    "\n",
    "El ABPP es una metodología versátil que conecta el conocimiento teórico con la práctica, preparando a los estudiantes para los retos de sus profesiones en la enseñanza de la matemática, la ingeniería y la administración."
   ]
  },
  {
   "cell_type": "markdown",
   "id": "8d97dc80",
   "metadata": {
    "slideshow": {
     "slide_type": "slide"
    }
   },
   "source": [
    "## Fomento de la lectura literaria asociada a Ingeniería agropecuaria y licenciatura en Matemáticas\n",
    "\n",
    "[Aprender a obtener el sí sin ceder]()"
   ]
  },
  {
   "cell_type": "markdown",
   "id": "96775931",
   "metadata": {
    "slideshow": {
     "slide_type": "slide"
    }
   },
   "source": [
    "## Título de la clase:  Leyes de la lógica para docentes investigadores de matemáticas.  \n",
    "\n",
    "[]()"
   ]
  },
  {
   "cell_type": "markdown",
   "id": "c03b3950",
   "metadata": {},
   "source": [
    "### **Utilidad de las Leyes de la Lógica para un Licenciado en Matemáticas con Enfoque en Investigación Educativa y Ciencia de Datos**  \n",
    "\n",
    "Para un futuro **Licenciado en Matemáticas** de la **Universidad de Antioquia** que aspira a ser **investigador educativo** y desarrollar **pensamiento crítico**, el dominio de la **lógica matemática** es fundamental. Además, su aplicación en **Python, ciencia de datos, machine learning (ML) y deep learning (DL)** potencia su capacidad para la **docencia investigativa**. A continuación, se detalla su relevancia:  \n",
    "\n",
    "---\n",
    "\n",
    "## **1. La Lógica como Base del Pensamiento Crítico y la Investigación Educativa**  \n",
    "### **1.1. Rigor en la Argumentación Científica**  \n",
    "- **Estructuración de hipótesis:** La lógica permite formular proposiciones claras y válidas en investigaciones educativas (ej: *\"Si se aplica Aula Invertida, entonces mejora el rendimiento en Lógica\"*).  \n",
    "- **Detección de falacias:** Útil para analizar discursos pedagógicos, políticas educativas o argumentos en papers científicos.  \n",
    "\n",
    "### **1.2. Diseño de Experimentos y Validación de Métodos**  \n",
    "- **Inferencia lógica:** Permite contrastar teorías educativas mediante razonamiento deductivo (ej: *¿Es el ABPP más efectivo que la enseñanza tradicional?*).  \n",
    "- **Análisis de datos cualitativos:** Codificación lógica de entrevistas o grupos focales en investigación-acción.  \n",
    "\n",
    "### **1.3. Desarrollo de Materiales Didácticos**  \n",
    "- **Creación de problemas y demostraciones:** La lógica ayuda a diseñar actividades que fomenten el razonamiento en estudiantes (ej: *juegos de silogismos con Python*).  \n",
    "\n",
    "---\n",
    "\n",
    "## **2. Conexión entre Lógica, Python y Ciencia de Datos**  \n",
    "### **2.1. Programación Lógica en Python**  \n",
    "- **Estructuras condicionales:** Uso de operadores lógicos (`and`, `or`, `not`) en algoritmos.  \n",
    "  ```python\n",
    "  if (hipótesis_educativa and datos_validos):\n",
    "      print(\"El método es efectivo\")\n",
    "  ```  \n",
    "- **Evaluación de expresiones booleanas:** Base para filtrado de datos educativos (ej: *seleccionar estudiantes con bajo rendimiento*).  \n",
    "\n",
    "### **2.2. Aplicaciones en Machine Learning (ML)**  \n",
    "- **Árboles de decisión:** Modelos basados en reglas lógicas (*if-else*) para predecir deserción escolar o rendimiento académico"
   ]
  },
  {
   "cell_type": "markdown",
   "id": "10e55ccf",
   "metadata": {},
   "source": [
    "# Estructura general para todas las clases\n",
    "\n",
    "Dame, por favor, un diseño de clase, con los enfoques: de Aula Invertida, STEAMS  y de Aprendizaje Basado en Problemas y Proyectos(ABPP); sobre: **\"Las leyes de la Lógica y su aplicación con el lenguaje de programación Python para Licenciatos en Matemáticas\"**, siguiendo la estructura:   \n",
    "\n",
    "1. Título de la clase \n",
    "2. Objetivo de aprendizaje e indicadores de logro de estos objetivos. \n",
    "3.  Un mapa conceptual que resuma la clase elaborado en Graphviz de python con nodos y edges de diferentes formas, colores y rellenos y renderizado en la siguiente ubicación: `\"C:/Users/marco/Descargas\"`. No olvides el parámetro `view = True` para el método `render()` de Graphviz. Para este mapa controla las superposiciones de los nodos con: graph [overlap=false]; // Elimina superposiciones (puede aumentar el espacio)\n",
    "graph [overlap=\"scalexy\"]; // Escala el gráfico para evitar overlaps\n",
    "graph [overlap=\"compress\"]; // Comprime el grafo sin overlaps   \n",
    "   \n",
    "4. Contenido de la clase: \n",
    "     a. Idempotencia: $p \\lor p \\iff p$ y $p \\land p \\iff p$.\n",
    "     b. Identidad: $p \\lor V \\iff V$, $p \\lor F \\iff p$, $p \\land p \\iff p$ y $p \\land F \\iff F$ .\n",
    "     c. Comutatividad: $p \\lor q \\iff q \\lor p$ y $p \\land q \\iff q \\land p$.\n",
    "     d. Asociatividad: $(p \\lor q) \\lor r \\iff p \\lor (q \\lor r)$ y $(p \\land q) \\land r \\iff p \\land (q \\land r)$.\n",
    "     e. Distributividad: $p \\land (q \\lor r) \\iff (p \\land q) \\lor (p \\land r)$ y $p \\lor (q \\land r) \\iff (p \\lor q) \\land (p \\lor r)$. \n",
    "     f. Ley de la doble negación: $\\neg \\neg p \\iff p$.\n",
    "     g. Ley del tercero excluido: $p \\lor \\neg p \\iff V$.\n",
    "     h. Ley de la contradicción: $p \\land \\neg p \\iff F$. \n",
    "     i. Leyes de De Morgan: $\\neg (p \\land q) \\iff \\neg p \\lor \\neg q$ y $\\neg (p \\lor q) \\iff \\neg p \\land \\neg q$.\n",
    "     j. Definición alterna del condicional: $p \\to q \\iff \\neg p \\lor q$.\n",
    "     k. Ley de absorción: $p \\land (p \\lor q) \\iff p$ y $p \\lor (p \\land q) \\iff p$.\n",
    "     l. Definición alterna del bicondicional: $p \\iff q \\iff (p \\to q) \\land (q \\to p)$\n",
    "\n",
    "   \n",
    "5. Incluye una canción o un poema que ayude a interiorizar y fijar los conceptos asociados a esta clase.  \n",
    "   \n",
    "6. Dame elementos históricos y epistemológicos asociados a esta clase, pero contados como un cuento al estilo de un cuentero antioqueño en Colombia. Incluye imágenes de los protagonistas históricos de esta clase.   \n",
    "   \n",
    "7. Actividades de aprendizaje  \n",
    "     * Empieza con una actividad de aprendizaje que estableca un paralelo entre \"la regla Modus Ponens\" vs \"el condicional de Python\".   \n",
    "     * Incluya actividades de aprendizaje utilizando Calculadora **Casio 991 LA cw**\n",
    "     * Incluya también actividades de aprendizaje y modelación de situaciones o problemas reales a través de circuitos lógicos y circuitos digitales o electrónicos utilizando la aplicación portable cocodrilo. [Descarge esta aplicación portable aquí](https://crocodileclips.net/descargar-crocodile-clips/) \n",
    "     * Incluye actividades de aprendizaje de las leyes de la lógica con el Uso de Hojas de Cálculo como Excel.    \n",
    "   \n",
    "8.  Tarea o actividades de ejercitación y fijación.   \n",
    "    \n",
    "9.  Evaluación incluyendo diez proyectos, un ejemplo de quiz y un ejemplo de parcial.  \n",
    "     * Diseña el quiz con preguntas, donde se pida al estudiante el mostrar la aplicación de las expresiones lógicas en contextos: \n",
    "       - Deportivos\n",
    "       - Cotidianos\n",
    "       - Matemáticas en teoría de números \n",
    "       - Matemáticas en geometría euclidiana\n",
    "       - Matemática en Cálculo Diferencial.\n",
    "       - Económicos. \n",
    "\n",
    "    \n",
    "10. Diseño de actividad de retroalimentación.  \n",
    "      \n",
    "11. Dame un vocabulario y frases del idioma inglés asociadas a esta clase.   \n",
    "    \n",
    "12. Incluye apéndice para la clase sobre desarrollo de habilidades para trabajar en equipo y de asertividad y empatía para relacionarnos. También elementos de la inteligencia emocional para presentar pruebas sin temor y sin realizar fraude en ellas.   \n",
    "\n",
    "13. Incluye 10 referentes en didáctica de la matemática que estén de acuerdo a la propuesta didáctica de esta clase. Adiciona a estos referentes a Raymond Duval (Representaciones y cambios de representación para la adquisición de conceptos matemáticos) y a Jeannette Wing (Desarrollo del pensamiento computacional). Dejame todos estos referentes ordenados de acuerdo a las normas APA. Dejame todos estos referentes ordenados de acuerdo a las normas APA. Incluye las citaciones a estos referentes a medida que vallas diseñando la clase. \n",
    "\n",
    "\n",
    "Pero  que este diseño sea para que el estudiante pueda aprender experimentando en cuadernos Jupyter con funciones de usuario y animaciones y visualizaciones en python. En particular utiliza para el diseño de clase a Numpy, Pandas, SymPy, Matplotlib.pyplot, Seaborn, Plotly, ipywidgets, matplotlib.animation y Jupyter Notebook.  \n",
    "Cuando vallas a utilizar SymPy, ten en cuanta la siguiente configuración: \n",
    "# Corrección y mejora del código\n",
    "from sympy import symbols, Equivalent\n",
    "from sympy.logic.boolalg import truth_table\n",
    "\n",
    "Cada vez que utilices `matplotlib.animacion` no olvides incluir el uso de `IPython. display` para la rederización de estas animaciones a través de Jupyter Notebook. No olvides darme los diseños de clase con las ecuaciones matemáticas delimitadas con signo de dolar $ para que VS Code si me renderize estas expresiones del lenguaje latex. Cuando vallas a utilizar ipywidgets ten en cuenta la siguiente importación inicial para garantizar que la visualización interactiva si se renderize en VS Code: import numpy as np\n",
    "import matplotlib.pyplot as plt\n",
    "import ipywidgets as widgets\n",
    "from IPython.display import display, clear_output\n",
    "from matplotlib.patches import Rectangle\n",
    "\n",
    "# Configuración inicial para visualización estática\n",
    "%matplotlib inline "
   ]
  },
  {
   "cell_type": "code",
   "execution_count": 3,
   "id": "1887dc6f",
   "metadata": {},
   "outputs": [],
   "source": [
    "def save_fig(nombre_archivo_imagen):\n",
    "    import os \n",
    "    import matplotlib.pyplot as plt\n",
    "    ubicacion_para_imagenes = r\"C:/Users/marco/Downloads\"\n",
    "    imagen_path = os.path.join(ubicacion_para_imagenes, nombre_archivo_imagen)\n",
    "    plt.savefig(imagen_path, bbox_inches='tight')"
   ]
  },
  {
   "cell_type": "code",
   "execution_count": 5,
   "id": "ae0fe410",
   "metadata": {},
   "outputs": [
    {
     "name": "stdout",
     "output_type": "stream",
     "text": [
      "Error al convertir la imagen: [Errno 2] No such file or directory: 'imagen.webp'\n",
      "Error al convertir la imagen: [Errno 2] No such file or directory: 'imagen.webp'\n"
     ]
    }
   ],
   "source": [
    "from PIL import Image\n",
    "import os\n",
    "\n",
    "def convert_webp_to_jpeg(input_path, output_path=None, quality=95):\n",
    "    \"\"\"\n",
    "    Convierte un archivo .webp a .jpeg usando Pillow (PIL).\n",
    "    \n",
    "    Parámetros:\n",
    "        input_path (str): Ruta del archivo .webp de entrada.\n",
    "        output_path (str, opcional): Ruta del archivo .jpeg de salida. \n",
    "                                    Si no se especifica, se usa la misma ruta que el input con extensión .jpeg.\n",
    "        quality (int, opcional): Calidad de la imagen JPEG (0-100). Por defecto: 95.\n",
    "    \n",
    "    Retorna:\n",
    "        str: Ruta del archivo .jpeg generado.\n",
    "    \"\"\"\n",
    "    try:\n",
    "        # Abrir la imagen .webp\n",
    "        with Image.open(input_path) as img:\n",
    "            # Si no se especifica output_path, se cambia la extensión a .jpeg\n",
    "            if output_path is None:\n",
    "                output_path = os.path.splitext(input_path)[0] + \".jpeg\"\n",
    "            \n",
    "            # Convertir a RGB si la imagen está en modo RGBA (para evitar errores en JPEG)\n",
    "            if img.mode in ('RGBA', 'P'):\n",
    "                img = img.convert('RGB')\n",
    "            \n",
    "            # Guardar como JPEG\n",
    "            img.save(output_path, \"JPEG\", quality=quality)\n",
    "            print(f\"Imagen convertida y guardada en: {output_path}\")\n",
    "            return output_path\n",
    "    \n",
    "    except Exception as e:\n",
    "        print(f\"Error al convertir la imagen: {e}\")\n",
    "        return None\n",
    "\n",
    "# Ejemplo de uso:\n",
    "convert_webp_to_jpeg(\"imagen.webp\")  # Guardará como \"imagen.jpeg\"\n",
    "# O con ruta personalizada:\n",
    "convert_webp_to_jpeg(\"imagen.webp\", \"salida.jpg\", quality=90)"
   ]
  },
  {
   "cell_type": "markdown",
   "id": "8396c0ed",
   "metadata": {},
   "source": [
    "A continuación, te presento un diseño de clase detallado que integra los enfoques de Aula Invertida, STEAMS (Ciencia, Tecnología, Ingeniería, Artes, Matemáticas y Sociedad) y Aprendizaje Basado en Problemas y Proyectos (ABPP) sobre el tema **\"Las leyes de la Lógica\"**. "
   ]
  },
  {
   "cell_type": "markdown",
   "id": "6391d23f",
   "metadata": {},
   "source": [
    "Este diseño está pensado para ser implementado en un entorno de aprendizaje interactivo utilizando cuadernos Jupyter con Python y sus librerías asociadas.\n",
    "\n",
    "---\n"
   ]
  },
  {
   "cell_type": "markdown",
   "id": "7e6d08b8",
   "metadata": {},
   "source": [
    "\n",
    "### 1. **Título de la clase**  \n",
    "**\"Las leyes de la Lógica: Fundamentos para el pensamiento crítico y computacional\"**\n",
    "\n",
    "---\n"
   ]
  },
  {
   "cell_type": "markdown",
   "id": "87a2a9d8",
   "metadata": {},
   "source": [
    "\n",
    "### 2. **Objetivo de aprendizaje e indicadores de logro**  \n",
    "**Objetivo de aprendizaje:**  \n",
    "Comprender y aplicar las leyes de la lógica proposicional en la resolución de problemas matemáticos, computacionales y cotidianos, utilizando herramientas tecnológicas y enfoques colaborativos.\n"
   ]
  },
  {
   "cell_type": "markdown",
   "id": "b8a5896a",
   "metadata": {},
   "source": [
    "\n",
    "**Indicadores de logro:**  \n",
    "- Identifica y explica las leyes de la lógica proposicional (idempotencia, identidad, conmutatividad, asociatividad, distributividad, etc.).  \n",
    "- Aplica las leyes de la lógica en la simplificación de expresiones lógicas y en la construcción de circuitos digitales.  \n",
    "- Utiliza herramientas como Python, SymPy y Crocodile Clips para modelar y resolver problemas lógicos.  \n",
    "- Trabaja en equipo para diseñar proyectos que integren las leyes de la lógica en contextos reales.  \n",
    "- Desarrolla habilidades de pensamiento crítico y computacional a través de la experimentación y la visualización interactiva.  \n",
    "\n",
    "---\n"
   ]
  },
  {
   "cell_type": "markdown",
   "id": "44c5b5b4",
   "metadata": {},
   "source": [
    "\n",
    "### 3. **Mapa conceptual**  \n",
    "El mapa conceptual se genera utilizando Graphviz en Python. El código para generarlo es el siguiente:\n"
   ]
  },
  {
   "cell_type": "code",
   "execution_count": 9,
   "id": "ffaacaa5",
   "metadata": {},
   "outputs": [
    {
     "data": {
      "text/plain": [
       "'C:\\\\Users\\\\marco\\\\Downloads\\\\Leyes_de_la_Logica.png'"
      ]
     },
     "execution_count": 9,
     "metadata": {},
     "output_type": "execute_result"
    }
   ],
   "source": [
    "from graphviz import Digraph\n",
    "\n",
    "# Crear el grafo\n",
    "graph = Digraph('Leyes_de_la_Logica', format='png')\n",
    "graph.attr(overlap='false')  # Evitar superposiciones\n",
    "graph.attr(splines='true')   # Mejorar la distribución de los nodos\n",
    "\n",
    "# Nodos principales\n",
    "graph.node('A', 'Leyes de la Lógica', shape='ellipse', style='filled', color='lightblue')\n",
    "graph.node('B', 'Idempotencia', shape='box', style='filled', color='lightcoral')\n",
    "graph.node('C', 'Identidad', shape='box', style='filled', color='lightcoral')\n",
    "graph.node('D', 'Conmutatividad', shape='box', style='filled', color='lightcoral')\n",
    "graph.node('E', 'Asociatividad', shape='box', style='filled', color='lightcoral')\n",
    "graph.node('F', 'Distributividad', shape='box', style='filled', color='lightcoral')\n",
    "graph.node('G', 'Leyes de De Morgan', shape='box', style='filled', color='lightcoral')\n",
    "graph.node('H', 'Leyes de Negación', shape='box', style='filled', color='lightcoral')\n",
    "graph.node('I', 'Aplicaciones', shape='ellipse', style='filled', color='lightgreen')\n",
    "\n",
    "# Conexiones\n",
    "graph.edge('A', 'B')\n",
    "graph.edge('A', 'C')\n",
    "graph.edge('A', 'D')\n",
    "graph.edge('A', 'E')\n",
    "graph.edge('A', 'F')\n",
    "graph.edge('A', 'G')\n",
    "graph.edge('A', 'H')\n",
    "graph.edge('B', 'I')\n",
    "graph.edge('C', 'I')\n",
    "graph.edge('D', 'I')\n",
    "graph.edge('E', 'I')\n",
    "graph.edge('F', 'I')\n",
    "graph.edge('G', 'I')\n",
    "graph.edge('H', 'I')\n",
    "\n",
    "# Renderizar y guardar\n",
    "graph.render('C:/Users/marco/Downloads/Leyes_de_la_Logica', view=True)\n",
    "\n"
   ]
  },
  {
   "cell_type": "markdown",
   "id": "3a89ab42",
   "metadata": {},
   "source": [
    "\n",
    "### 4. **Contenido de la clase**  \n"
   ]
  },
  {
   "cell_type": "markdown",
   "id": "5489c22f",
   "metadata": {},
   "source": [
    "El contenido se divide en los siguientes temas: "
   ]
  },
  {
   "cell_type": "markdown",
   "id": "9d20069b",
   "metadata": {},
   "source": [
    " \n",
    "1. **Idempotencia**: \n",
    "   * $p \\lor p \\iff p$ $\\qquad$ y \n",
    "   * $p \\land p \\iff p$.  \n"
   ]
  },
  {
   "cell_type": "markdown",
   "id": "180f63be",
   "metadata": {},
   "source": [
    "2. **Identidad**: $p \\lor V \\iff V$, $p \\lor F \\iff p$, $p \\land p \\iff p$ y $p \\land F \\iff F$.  \n",
    "3. **Conmutatividad**: $p \\lor q \\iff q \\lor p$ y $p \\land q \\iff q \\land p$.  \n",
    "4. **Asociatividad**: $(p \\lor q) \\lor r \\iff p \\lor (q \\lor r)$ y $(p \\land q) \\land r \\iff p \\land (q \\land r)$.  \n",
    "5. **Distributividad**: $p \\land (q \\lor r) \\iff (p \\land q) \\lor (p \\land r)$ y $p \\lor (q \\land r) \\iff (p \\lor q) \\land (p \\lor r)$.  \n",
    "6. **Ley de la doble negación**: $\\neg \\neg p \\iff p$.  \n",
    "7. **Ley del tercero excluido**: $p \\lor \\neg p \\iff V$.  \n",
    "8. **Ley de la contradicción**: $p \\land \\neg p \\iff F$.  \n",
    "9. **Leyes de De Morgan**: $\\neg (p \\land q) \\iff \\neg p \\lor \\neg q$ y $\\neg (p \\lor q) \\iff \\neg p \\land \\neg q$. "
   ]
  },
  {
   "cell_type": "markdown",
   "id": "3ff848e9",
   "metadata": {},
   "source": [
    "### **Enunciaciones del Derecho que Aplican las Leyes de De Morgan**  \n",
    "Las **Leyes de De Morgan** (originadas en lógica matemática) son fundamentales en el razonamiento jurídico, especialmente en:  \n",
    "1. **Interpretación de normas**,  \n",
    "2. **Construcción de argumentos**,  \n",
    "3. **Redacción de contratos y leyes**.  \n",
    "\n",
    "A continuación, se presentan **ejemplos concretos** donde estas leyes se evidencian en el Derecho:\n",
    "\n",
    "---\n",
    "\n",
    "### **1. Leyes de De Morgan: Breve Recordatorio**  \n",
    "Para dos proposiciones *A* y *B*:  \n",
    "1. **Negación de una conjunción (∧):**  \n",
    "   \\[\n",
    "   \\neg (A \\land B) \\equiv \\neg A \\lor \\neg B\n",
    "   \\]  \n",
    "   *\"No (A y B) es equivalente a (no A) o (no B)\"*.  \n",
    "\n",
    "2. **Negación de una disyunción (∨):**  \n",
    "   \\[\n",
    "   \\neg (A \\lor B) \\equiv \\neg A \\land \\neg B\n",
    "   \\]  \n",
    "   *\"No (A o B) es equivalente a (no A) y (no B)\"*.\n",
    "\n",
    "---\n",
    "\n",
    "### **2. Ejemplos en el Derecho**  \n",
    "\n",
    "#### **A) Derecho Penal: Tipificación de Delitos**  \n",
    "**Artículo 229 del Código Penal Colombiano** (Delito de secuestro):  \n",
    "> *\"El que arrebate, sustraiga, retenga o oculte a una persona [...] con fines terroristas, de extorsión o para obtener algún beneficio económico, incurrirá en prisión.\"*  \n",
    "\n",
    "- **Aplicación de De Morgan:**  \n",
    "  - Proposición *A*: \"Con fin terrorista\".  \n",
    "  - Proposición *B*: \"Con fin de extorsión\".  \n",
    "  - **Negación del delito:**  \n",
    "    \\[\n",
    "    \\neg (A \\lor B) \\equiv \\neg A \\land \\neg B\n",
    "    \\]  \n",
    "    *No hay delito si no hay fin terrorista **y** no hay fin de extorsión*.  \n",
    "\n",
    "---\n",
    "\n",
    "#### **B) Derecho Contractual: Cláusulas de Rescisión**  \n",
    "**Ejemplo en un contrato de arrendamiento:**  \n",
    "> *\"El contrato se rescindirá si el arrendatario no paga la renta **o** daña el inmueble.\"*  \n",
    "\n",
    "- **Aplicación de De Morgan:**  \n",
    "  - Proposición *A*: \"No paga la renta\".  \n",
    "  - Proposición *B*: \"Daña el inmueble\".  \n",
    "  - **Negación de la rescisión:**  \n",
    "    \\[\n",
    "    \\neg (A \\lor B) \\equiv \\neg A \\land \\neg B\n",
    "    \\]  \n",
    "    *El contrato **no** se rescinde si el arrendatario paga la renta **y** no daña el inmueble*.  \n",
    "\n",
    "---\n",
    "\n",
    "#### **C) Derecho Constitucional: Garantías Procesales**  \n",
    "**Artículo 29 de la Constitución Colombiana** (Debido proceso):  \n",
    "> *\"Nadie podrá ser juzgado sino conforme a leyes preexistentes al acto que se le imputa, ante juez o tribunal competente **y** con las debidas garantías.\"*  \n",
    "\n",
    "- **Aplicación de De Morgan:**  \n",
    "  - Proposición *A*: \"Juez competente\".  \n",
    "  - Proposición *B*: \"Debidas garantías\".  \n",
    "  - **Violación del debido proceso:**  \n",
    "    \\[\n",
    "    \\neg (A \\land B) \\equiv \\neg A \\lor \\neg B\n",
    "    \\]  \n",
    "    *Hay violación si no hay juez competente **o** no hay garantías*.  \n",
    "\n",
    "---\n",
    "\n",
    "#### **D) Derecho Procesal: Cargas de la Prueba**  \n",
    "**Regla general:**  \n",
    "> *\"El actor debe probar los hechos constitutivos de su derecho, **y** el demandado debe probar los hechos extintivos o modificativos.\"*  \n",
    "\n",
    "- **Aplicación de De Morgan:**  \n",
    "  - Proposición *A*: \"Actor prueba hechos\".  \n",
    "  - Proposición *B*: \"Demandado prueba excepciones\".  \n",
    "  - **Fallo desfavorable:**  \n",
    "    \\[\n",
    "    \\neg (A \\land B) \\equiv \\neg A \\lor \\neg B\n",
    "    \\]  \n",
    "    *El juez fallará en contra si el actor no prueba **o** el demandado no contradice*.  \n",
    "\n",
    "---\n",
    "\n",
    "### **3. Importancia en el Razonamiento Jurídico**  \n",
    "1. **Precisión en la redacción de normas:** Evita ambigüedades al usar conectores lógicos.  \n",
    "2. **Argumentación en sentencias:** Los jueces aplican estas leyes para desglosar condiciones complejas.  \n",
    "3. **Derecho digital:** Útil en regulación de algoritmos (ej: condiciones para bloqueo de contenidos).  \n",
    "\n",
    "---\n",
    "\n",
    "### **Conclusión**  \n",
    "Las Leyes de De Morgan son **implícitas** en el Derecho, aunque no se mencionen explícitamente. Su dominio permite:  \n",
    "- **Mejorar la técnica legislativa.**  \n",
    "- **Optimizar la interpretación judicial.**  \n",
    "- **Evitar falacias lógicas en litigios.**  \n",
    "\n",
    "**¿Necesitas analizar un caso específico o una norma concreta?** Puedo ayudarte a descomponerla lógicamente."
   ]
  },
  {
   "cell_type": "markdown",
   "id": "910b88de",
   "metadata": {},
   "source": [
    "ANGELA MARIA RODRIGUEZ MOSQUERA\n",
    "10:59 AM\n",
    "Reglas de tránsito\n",
    "\n",
    "Imagina que una señal de tráfico dice:\n",
    "\t•\t“No se permite girar a la izquierda y a la derecha.”\n",
    "La ley de De Morgan, esto equivale a decir:\n",
    "\t•\t“No se permite girar a la izquierda o no se permite girar a la derecha.”\n",
    "Lo que indica que al menos una de esas restricciones siempre está presente."
   ]
  },
  {
   "cell_type": "markdown",
   "id": "dccf80d4",
   "metadata": {},
   "source": [
    " \n",
    "10. **Definición alterna del condicional**: $p \\to q \\iff \\neg p \\lor q$.  \n",
    "11. **Ley de absorción**: $p \\land (p \\lor q) \\iff p$ y $p \\lor (p \\land q) \\iff p$.  \n",
    "12. **Definición alterna del bicondicional**: $p \\iff q \\iff (p \\to q) \\land (q \\to p)$.  \n",
    "\n",
    "---\n"
   ]
  },
  {
   "cell_type": "markdown",
   "id": "b20ffb16",
   "metadata": {},
   "source": [
    "\n",
    "### 5. **Canción o poema**  \n",
    "**Poema:**  \n",
    "\"La lógica es un arte,  \n",
    "que con razón se imparte,  \n",
    "con leyes claras y precisas,  \n",
    "resuelve dudas y sonrisas.  \n",
    "De Morgan, con su ingenio,  \n",
    "nos dejó un gran consejo:  \n",
    "niega y une, separa y junta,  \n",
    "y la verdad siempre se confronta.\"  \n",
    "\n",
    "---\n"
   ]
  },
  {
   "cell_type": "markdown",
   "id": "58fbb456",
   "metadata": {},
   "source": [
    "\n",
    "### 6. **Elementos históricos y epistemológicos**  \n"
   ]
  },
  {
   "cell_type": "markdown",
   "id": "6ccc1de0",
   "metadata": {},
   "source": [
    "**Cuento al estilo antioqueño:**  \n",
    "  \n",
    "\"Érase una vez, en la antigua Grecia, un filósofo llamado Aristóteles, quien, con su sabiduría, sentó las bases de la lógica. Él decía: 'El hombre es un animal racional', y con esa idea, comenzó a estudiar cómo pensamos y cómo podemos llegar a la verdad. Muchos años después, George Boole, un matemático inglés, tomó esas ideas y las convirtió en álgebra, creando lo que hoy conocemos como lógica booleana. Y así, con el tiempo, la lógica se convirtió en la base de la computación moderna, gracias a mentes brillantes como Claude Shannon, quien aplicó estas leyes a los circuitos electrónicos.\"  \n"
   ]
  },
  {
   "cell_type": "markdown",
   "id": "81bb85af",
   "metadata": {},
   "source": [
    "\n",
    "<img src = 'Aristotle_George_Boole_and_Claude_Shannon.webp' width = 400>\n"
   ]
  },
  {
   "cell_type": "code",
   "execution_count": 8,
   "id": "5f9e02ff",
   "metadata": {},
   "outputs": [
    {
     "data": {
      "text/plain": [
       "1"
      ]
     },
     "execution_count": 8,
     "metadata": {},
     "output_type": "execute_result"
    }
   ],
   "source": [
    "True + False  "
   ]
  },
  {
   "cell_type": "markdown",
   "id": "d046f461",
   "metadata": {},
   "source": [
    "\n",
    "### 7. **Actividades de aprendizaje**    \n",
    "\n",
    "1. **Con la calculadora Casio 991 LA cw**: Simplifica expresiones lógicas utilizando las leyes aprendidas.   \n"
   ]
  },
  {
   "cell_type": "markdown",
   "id": "be4b7422",
   "metadata": {},
   "source": [
    "    \n",
    "2. **Con Crocodile Clips**: Diseña circuitos lógicos que implementen las leyes de De Morgan y la distributividad.   \n"
   ]
  },
  {
   "cell_type": "markdown",
   "id": "7512248c",
   "metadata": {},
   "source": [
    "    \n",
    "3. **En Jupyter Notebook**:  \n",
    "   - Usa SymPy para verificar las leyes de la lógica.  \n",
    "   - Crea animaciones con `matplotlib.animation` para visualizar las tablas de verdad.  \n",
    "   - Utiliza `ipywidgets` para crear interfaces interactivas que permitan explorar las leyes de la lógica.  \n",
    "\n",
    "---\n"
   ]
  },
  {
   "cell_type": "markdown",
   "id": "e0e7146c",
   "metadata": {},
   "source": [
    "### 8. **Tarea o actividades de ejercitación**  \n",
    "- Resuelve ejercicios de simplificación de expresiones lógicas.  \n",
    "- Diseña circuitos lógicos en Crocodile Clips que tengan que ver con leyes de la lógica.  \n",
    "\n",
    "---"
   ]
  },
  {
   "cell_type": "markdown",
   "id": "c2dcbabe",
   "metadata": {},
   "source": [
    "\n",
    "### 9. **Evaluación**  \n",
    "- **Proyectos**: Diseña 10 proyectos que apliquen las leyes de la lógica en contextos como deportes, economía, teoría de números, etc.  \n",
    "- **Quiz**: Preguntas como: \"Aplica la ley de De Morgan para simplificar $\\neg (p \\land q)$\".  \n",
    "- **Parcial**: Incluye problemas que integren múltiples leyes de la lógica.  \n",
    "\n",
    "---\n",
    "\n"
   ]
  },
  {
   "cell_type": "markdown",
   "id": "a4cb56bc",
   "metadata": {},
   "source": [
    "\n",
    "\n",
    "### 10. **Actividad de retroalimentación**  \n",
    "- Revisión en equipo de los proyectos y discusión de los resultados.  \n",
    "\n",
    "---\n"
   ]
  },
  {
   "cell_type": "markdown",
   "id": "ff46d23b",
   "metadata": {},
   "source": [
    "\n",
    "### 11. **Vocabulario en inglés**  \n",
    "- Logic: Lógica  \n",
    "- Proposition: Proposición  \n",
    "- Truth table: Tabla de verdad  \n",
    "- Circuit: Circuito  \n",
    "- Boolean algebra: Álgebra booleana  \n",
    "\n",
    "---\n"
   ]
  },
  {
   "cell_type": "markdown",
   "id": "668fba21",
   "metadata": {},
   "source": [
    "\n",
    "### 12. **Apéndice**  \n",
    "- Desarrollo de habilidades de trabajo en equipo.  \n",
    "- Inteligencia emocional para afrontar evaluaciones.  \n",
    "\n",
    "---\n"
   ]
  },
  {
   "cell_type": "markdown",
   "id": "1e0e560f",
   "metadata": {},
   "source": [
    "\n",
    "### 13. **Referentes en didáctica de la matemática**  \n",
    "1. Duval, R. (1999). *Representaciones y cambios de representación para la adquisición de conceptos matemáticos*.  \n",
    "2. Wing, J. (2006). *Desarrollo del pensamiento computacional*.  \n",
    "3. [Incluir otros 8 referentes siguiendo normas APA].  \n",
    "\n",
    "---\n"
   ]
  },
  {
   "cell_type": "markdown",
   "id": "0a4940c7",
   "metadata": {},
   "source": [
    "\n",
    "Este diseño de clase integra herramientas tecnológicas y enfoques pedagógicos modernos para facilitar el aprendizaje activo y significativo de las leyes de la lógica."
   ]
  },
  {
   "cell_type": "markdown",
   "id": "b2d5cdaa",
   "metadata": {},
   "source": [
    "[Video de apoyo a la lectura de esta estructura de clase]()"
   ]
  },
  {
   "cell_type": "markdown",
   "id": "0b1db193",
   "metadata": {},
   "source": [
    "# Implementación de la clase  \n",
    "\n",
    "A continuación, te presento un diseño de clase detallado que integra los enfoques de Aula Invertida, STEAMS (Ciencia, Tecnología, Ingeniería, Artes, Matemáticas y Sociedad) y Aprendizaje Basado en Problemas y Proyectos (ABPP) sobre el tema **\"Las leyes de la Lógica\"**. Este diseño está pensado para ser implementado en un entorno de aprendizaje interactivo utilizando cuadernos Jupyter con Python y sus librerías asociadas.\n",
    "\n",
    "---\n"
   ]
  },
  {
   "cell_type": "markdown",
   "id": "4cba00ca",
   "metadata": {},
   "source": [
    "\n",
    "### 1. **Título de la clase**  \n",
    "**\"Las leyes de la Lógica: Fundamentos para el pensamiento crítico y computacional\"**\n",
    "\n",
    "---\n"
   ]
  },
  {
   "cell_type": "markdown",
   "id": "6f9fdca6",
   "metadata": {},
   "source": [
    "\n",
    "### 2. **Objetivo de aprendizaje e indicadores de logro**  \n",
    "**Objetivo de aprendizaje:**  \n",
    "Comprender y aplicar las leyes de la lógica proposicional en la resolución de problemas matemáticos, computacionales y cotidianos, utilizando herramientas tecnológicas y enfoques colaborativos.\n",
    "\n",
    "**Indicadores de logro:**  \n",
    "- Identifica y explica las leyes de la lógica proposicional (idempotencia, identidad, conmutatividad, asociatividad, distributividad, etc.).  \n",
    "- Aplica las leyes de la lógica en la simplificación de expresiones lógicas y en la construcción de circuitos digitales.  \n",
    "- Utiliza herramientas como Python, SymPy y Crocodile Clips para modelar y resolver problemas lógicos.  \n",
    "- Trabaja en equipo para diseñar proyectos que integren las leyes de la lógica en contextos reales.  \n",
    "- Desarrolla habilidades de pensamiento crítico y computacional a través de la experimentación y la visualización interactiva.  \n",
    "\n",
    "---\n"
   ]
  },
  {
   "cell_type": "markdown",
   "id": "89cc18f2",
   "metadata": {},
   "source": [
    "\n",
    "### 3. **Mapa conceptual**  \n",
    "El mapa conceptual se genera utilizando Graphviz en Python. El código para generarlo es el siguiente:\n"
   ]
  },
  {
   "cell_type": "code",
   "execution_count": null,
   "id": "18e740d5",
   "metadata": {},
   "outputs": [],
   "source": [
    "\n",
    "from graphviz import Digraph\n",
    "\n",
    "# Crear el grafo\n",
    "graph = Digraph('Leyes_de_la_Logica', format='png')\n",
    "graph.attr(overlap='false')  # Evitar superposiciones\n",
    "graph.attr(splines='true')   # Mejorar la distribución de los nodos\n",
    "\n",
    "# Nodos principales\n",
    "graph.node('A', 'Leyes de la Lógica', shape='ellipse', style='filled', color='lightblue')\n",
    "graph.node('B', 'Idempotencia', shape='box', style='filled', color='lightcoral')\n",
    "graph.node('C', 'Identidad', shape='box', style='filled', color='lightcoral')\n",
    "graph.node('D', 'Conmutatividad', shape='box', style='filled', color='lightcoral')\n",
    "graph.node('E', 'Asociatividad', shape='box', style='filled', color='lightcoral')\n",
    "graph.node('F', 'Distributividad', shape='box', style='filled', color='lightcoral')\n",
    "graph.node('G', 'Leyes de De Morgan', shape='box', style='filled', color='lightcoral')\n",
    "graph.node('H', 'Leyes de Negación', shape='box', style='filled', color='lightcoral')\n",
    "graph.node('I', 'Aplicaciones', shape='ellipse', style='filled', color='lightgreen')\n",
    "\n",
    "# Conexiones\n",
    "graph.edge('A', 'B')\n",
    "graph.edge('A', 'C')\n",
    "graph.edge('A', 'D')\n",
    "graph.edge('A', 'E')\n",
    "graph.edge('A', 'F')\n",
    "graph.edge('A', 'G')\n",
    "graph.edge('A', 'H')\n",
    "graph.edge('B', 'I')\n",
    "graph.edge('C', 'I')\n",
    "graph.edge('D', 'I')\n",
    "graph.edge('E', 'I')\n",
    "graph.edge('F', 'I')\n",
    "graph.edge('G', 'I')\n",
    "graph.edge('H', 'I')\n",
    "\n",
    "# Renderizar y guardar\n",
    "graph.render('C:/Users/marco/Downloads/Leyes_de_la_Logica', view=True)\n",
    "\n"
   ]
  },
  {
   "cell_type": "markdown",
   "id": "cd8a96c4",
   "metadata": {},
   "source": [
    "\n",
    "---\n",
    "\n",
    "### 4. **Contenido de la clase**  \n",
    "El contenido se divide en los siguientes temas:  \n",
    "1. **Idempotencia**: $p \\lor p \\iff p$ y $p \\land p \\iff p$. "
   ]
  },
  {
   "cell_type": "markdown",
   "id": "d5990991",
   "metadata": {},
   "source": [
    " \n",
    "2. **Identidad**: $p \\lor V \\iff V$, $p \\lor F \\iff p$, $p \\land p \\iff p$ y $p \\land F \\iff F$.  \n"
   ]
  },
  {
   "cell_type": "markdown",
   "id": "79a22f43",
   "metadata": {},
   "source": [
    "3. **Conmutatividad**: $p \\lor q \\iff q \\lor p$ y $p \\land q \\iff q \\land p$.  \n",
    "4. **Asociatividad**: $(p \\lor q) \\lor r \\iff p \\lor (q \\lor r)$ y $(p \\land q) \\land r \\iff p \\land (q \\land r)$.  \n",
    "5. **Distributividad**: $p \\land (q \\lor r) \\iff (p \\land q) \\lor (p \\land r)$ y $p \\lor (q \\land r) \\iff (p \\lor q) \\land (p \\lor r)$.  \n",
    "6. **Ley de la doble negación**: $\\neg \\neg p \\iff p$.  \n",
    "7. **Ley del tercero excluido**: $p \\lor \\neg p \\iff V$.  \n",
    "8. **Ley de la contradicción**: $p \\land \\neg p \\iff F$.  \n",
    "9. **Leyes de De Morgan**: $\\neg (p \\land q) \\iff \\neg p \\lor \\neg q$ y $\\neg (p \\lor q) \\iff \\neg p \\land \\neg q$.  \n",
    "10. **Definición alterna del condicional**: $p \\to q \\iff \\neg p \\lor q$.  \n"
   ]
  },
  {
   "cell_type": "markdown",
   "id": "e511e2fa",
   "metadata": {},
   "source": [
    "11. **Ley de absorción**: $p \\land (p \\lor q) \\iff p$ y $p \\lor (p \\land q) \\iff p$.  \n"
   ]
  },
  {
   "cell_type": "markdown",
   "id": "f490df6d",
   "metadata": {},
   "source": [
    "12. **Definición alterna del bicondicional**: $p \\iff q \\iff (p \\to q) \\land (q \\to p)$.  \n",
    "\n",
    "---\n"
   ]
  },
  {
   "cell_type": "markdown",
   "id": "90e7d008",
   "metadata": {},
   "source": [
    "\n",
    "### 5. **Canción o poema**  \n",
    "**Poema:**  \n",
    "\"La lógica es un arte,  \n",
    "que con razón se imparte,  \n",
    "con leyes claras y precisas,  \n",
    "resuelve dudas y sonrisas.  \n",
    "De Morgan, con su ingenio,  \n",
    "nos dejó un gran consejo:  \n",
    "niega y une, separa y junta,  \n",
    "y la verdad siempre se confronta.\"  \n",
    "\n",
    "---\n"
   ]
  },
  {
   "cell_type": "markdown",
   "id": "27de4cbd",
   "metadata": {},
   "source": [
    "\n",
    "### 6. **Elementos históricos y epistemológicos**  \n",
    "**Cuento al estilo antioqueño:**  \n",
    "\"Érase una vez, en la antigua Grecia, un filósofo llamado Aristóteles, quien, con su sabiduría, sentó las bases de la lógica. Él decía: 'El hombre es un animal racional', y con esa idea, comenzó a estudiar cómo pensamos y cómo podemos llegar a la verdad. Muchos años después, George Boole, un matemático inglés, tomó esas ideas y las convirtió en álgebra, creando lo que hoy conocemos como lógica booleana. Y así, con el tiempo, la lógica se convirtió en la base de la computación moderna, gracias a mentes brillantes como Claude Shannon, quien aplicó estas leyes a los circuitos electrónicos.\"  \n"
   ]
  },
  {
   "cell_type": "markdown",
   "id": "9aed0eb9",
   "metadata": {},
   "source": [
    "\n",
    "<img src = 'Aristotle_George_Boole_and_Claude_Shannon.webp' width = 400>\n"
   ]
  },
  {
   "cell_type": "markdown",
   "id": "0cb4ed40",
   "metadata": {},
   "source": [
    "\n",
    "### 7. **Actividades de aprendizaje** "
   ]
  },
  {
   "cell_type": "markdown",
   "id": "70e2b685",
   "metadata": {},
   "source": [
    " \n",
    "1. **Con la calculadora Casio 991 LA cw**: Simplifica expresiones lógicas utilizando las leyes aprendidas.  \n",
    "2. **Con Crocodile Clips**: Diseña circuitos lógicos que implementen las leyes de De Morgan y la distributividad.  \n",
    "3. **En Jupyter Notebook**:  \n",
    "   - Usa SymPy para verificar las leyes de la lógica.  \n",
    "   - Crea animaciones con `matplotlib.animation` para visualizar las tablas de verdad.  \n",
    "   - Utiliza `ipywidgets` para crear interfaces interactivas que permitan explorar las leyes de la lógica.  \n",
    "\n",
    "---\n"
   ]
  },
  {
   "cell_type": "markdown",
   "id": "099589a8",
   "metadata": {},
   "source": [
    "\n",
    "### 8. **Tarea o actividades de ejercitación**  \n",
    "- Resuelve ejercicios de simplificación de expresiones lógicas.  \n",
    "- Diseña circuitos lógicos en Crocodile Clips.  \n",
    "\n",
    "---\n"
   ]
  },
  {
   "cell_type": "markdown",
   "id": "1d51741f",
   "metadata": {},
   "source": [
    "\n",
    "### 9. **Evaluación**  \n",
    "- **Proyectos**: Diseña 10 proyectos que apliquen las leyes de la lógica en contextos como deportes, economía, teoría de números, etc.  \n",
    "- **Quiz**: Preguntas como: \"Aplica la ley de De Morgan para simplificar $\\neg (p \\land q)$\".  \n",
    "- **Parcial**: Incluye problemas que integren múltiples leyes de la lógica.  \n",
    "\n",
    "---\n"
   ]
  },
  {
   "cell_type": "markdown",
   "id": "30a4bcda",
   "metadata": {},
   "source": [
    "# Desarrollo de habilidades metacognitivas \n",
    "\n",
    "F: Mis Fortalezas son:     \n",
    "O: Mis Oportunidades son:    \n",
    "D: Mis Debilidades son:    \n",
    "A: Lo que Amenazas mi aprendizaje es:  "
   ]
  },
  {
   "cell_type": "markdown",
   "id": "cc08fd6d",
   "metadata": {},
   "source": [
    "\n",
    "### 10. **Actividad de retroalimentación**  \n",
    "- Revisión en equipo de los proyectos y discusión de los resultados.  \n",
    "\n",
    "---\n"
   ]
  },
  {
   "cell_type": "markdown",
   "id": "f09b4dd6",
   "metadata": {},
   "source": [
    "\n",
    "### 11. **Vocabulario en inglés**  \n",
    "- Logic: Lógica  \n",
    "- Proposition: Proposición  \n",
    "- Truth table: Tabla de verdad  \n",
    "- Circuit: Circuito  \n",
    "- Boolean algebra: Álgebra booleana  \n",
    "\n",
    "---\n"
   ]
  },
  {
   "cell_type": "markdown",
   "id": "cc732659",
   "metadata": {},
   "source": [
    "\n",
    "### 12. **Apéndice**  \n",
    "- Desarrollo de habilidades de trabajo en equipo.  \n",
    "- Inteligencia emocional para afrontar evaluaciones.  \n",
    "\n",
    "---\n"
   ]
  },
  {
   "cell_type": "markdown",
   "id": "d309b98b",
   "metadata": {},
   "source": [
    "\n",
    "### 13. **Referentes en didáctica de la matemática**  \n",
    "1. Duval, R. (1999). *Representaciones y cambios de representación para la adquisición de conceptos matemáticos*.  \n",
    "2. Wing, J. (2006). *Desarrollo del pensamiento computacional*.  \n",
    "3. [Incluir otros 8 referentes siguiendo normas APA].  \n",
    "\n",
    "---\n"
   ]
  },
  {
   "cell_type": "markdown",
   "id": "81ba2c45",
   "metadata": {},
   "source": [
    "\n",
    "Este diseño de clase integra herramientas tecnológicas y enfoques pedagógicos modernos para facilitar el aprendizaje activo y significativo de las leyes de la lógica."
   ]
  },
  {
   "cell_type": "markdown",
   "id": "239427f7",
   "metadata": {},
   "source": [
    "# El calendario académico para los diferentes programas de pregrado de los campus regionalizados, correspondiente al primer periodo académico del año 2025, así:\n",
    "\n",
    "\n",
    "* Inicio de clases 10 de febrero de 2025\n",
    "* Límite evaluación del 40% 06 de abril de 2025\n",
    "* Terminación de clases 08 de junio de 2025\n",
    "* Exámenes finales 09 al 15 de junio de 2025\n",
    "* Habilitación y validación 16 al 22 de junio de 2025\n",
    "* Terminación oficial 23 de junio de 2025"
   ]
  },
  {
   "cell_type": "markdown",
   "id": "8ba64aed",
   "metadata": {},
   "source": [
    "# Cursos que orienta el profesor Marco Julio Cañas Campillo en 2025  \n",
    "\n",
    "1. Práctica Pedagógica V para Licenciatura en Educación Infantil\n",
    "2. Fundamentos de Lógica para Licenciatura en Matemáticas \n",
    "3. Análisis Numérico para Licenciatura en Matemáticas. \n",
    "4. Cálculo Vectorial para Ingeniería Agropecuaria"
   ]
  },
  {
   "cell_type": "markdown",
   "id": "8d41fe58",
   "metadata": {
    "slideshow": {
     "slide_type": "slide"
    }
   },
   "source": [
    "# Horario de clases del profesor Marco\n",
    "\n",
    "* Lunes 8-12: Cálculo Vectorial\n",
    "* Martes 8-12 M: Fundamentos de Aritmética. \n",
    "* Miércoles 8 a 12 M: Fundamentos de la Lógica\n",
    "* Jueves 2 a 6 PM: Desarrollo del pensamiento matemático en la infancia. \n",
    "* Viernes 8 - 12 M: Desarrollo del pensamiento matemático en la infancia. \n",
    "* Sábados 8-12 Asesorías y espacio para retroalimentación y apoyo al trabajo independiente. "
   ]
  },
  {
   "cell_type": "markdown",
   "id": "ae114e14",
   "metadata": {
    "slideshow": {
     "slide_type": "slide"
    }
   },
   "source": [
    "# Horarios de monitoría y asesoría  \n",
    "\n",
    "Coordinador de los cursos de la Facultad de Educación para regiones:    \n",
    "\n",
    "Andrés Vélez: regioneducacion.fedu@udea.edu.co  \n",
    "Coordinador Regiones  \n",
    "Facultad de Educación  \n",
    "Universidad de Antioquia  "
   ]
  },
  {
   "cell_type": "markdown",
   "id": "b1db4b6c",
   "metadata": {
    "slideshow": {
     "slide_type": "slide"
    }
   },
   "source": [
    "## Monitor Manuel San Juan Serrano\n",
    "\n",
    "Contactar escribiendo al correo: manuel.serrano1@udea.edu.co"
   ]
  },
  {
   "cell_type": "markdown",
   "id": "39559692",
   "metadata": {
    "slideshow": {
     "slide_type": "slide"
    }
   },
   "source": [
    "Martes y jueves de 8 - 12  \n",
    "Miércoles 10 - 12 y de 2 a 4 PM  \n",
    "Sábado: 8 - 12"
   ]
  },
  {
   "cell_type": "markdown",
   "id": "10bce0d0",
   "metadata": {
    "slideshow": {
     "slide_type": "slide"
    }
   },
   "source": [
    "## Referentes "
   ]
  },
  {
   "cell_type": "markdown",
   "id": "1db3c468",
   "metadata": {
    "slideshow": {
     "slide_type": "slide"
    }
   },
   "source": [
    "* [Desarrollo del pensamiento matemático con calculadora Casio ](https://bibliotecadigital.udea.edu.co/entities/publication/17180405-9f1d-4800-aa7c-e6369779cece)\n",
    "\n",
    "* [CALCULO I DE UNA VARIABLE Ron Larson-Bruce Edwards. Mc Graw Hill. 9º Edición](https://www.academia.edu/42139251/CALCULO_I_DE_UNA_VARIABLE_Ron_Larson_Bruce_Edwards_Mc_Graw_Hill_9o_Edici%C3%B3n)   \n",
    "  \n",
    "\n",
    "* [Grajales Vanegas, L. M., Restrepo Estrada, C. E., Restrepo Ochoa, S. I., & Ruíz De Villalba, F. (2015). Matemáticas I para las ciencias económicas.](https://bibliotecadigital.udea.edu.co/handle/10495/3010)\n",
    "  \n",
    "* R. Duval y Semiosis y pensamiento humano, 2.ª ed. Cali, Colombia: Programa Editorial Universidad del Valle, 2017. [En línea]. Disponible en: https://programaeditorial.univalle.edu.co/gpd-semiosis-y-pensamiento-humano-9789587655278-63324cdb0f6b3.html\n",
    "\n",
    "* [Aylwin, C. U. (2011). Lógica, conjuntos y números. Universidad de los Andes, Consejo de Publicaciones, Colección: Ciencias Básicas, Serie: Matemáticas.](chrome-extension://efaidnbmnnnibpcajpcglclefindmkaj/https://www.u-cursos.cl/ciencias/2011/1/MC110/1/material_docente/bajar?id_material=574722)\n",
    "  \n",
    "* [Chollet, F. (2021). Deep learning with Python. Simon and Schuster.](chrome-extension://efaidnbmnnnibpcajpcglclefindmkaj/https://tanthiamhuat.wordpress.com/wp-content/uploads/2018/03/deeplearningwithpython.pdf)  \n",
    "  \n",
    "* [Watson, S., Stewart, J., & Redlin, L. (2009). Precálculo. Matemáticas para el cálculo.](https://github.com/marco-canas/calculo/blob/main/referents/1_precalculo_stewart/stewart_precalculo.pdf)  \n",
    "\n",
    "* [Purcell, E. J., Varberg, D., & Rigdon, S. E. (2007). Cálculo diferencial e integral. Pearson Educación.](https://github.com/marco-canas/calculo/blob/main/referents/purcell/purcell_calculo.pdf)\n",
    "\n",
    "  \n",
    "\n",
    "* [stewart cálculo](https://udeaeduco-my.sharepoint.com/:b:/g/personal/marco_canas_udea_edu_co/EZgXZjAp8QxPqOAim2hs6LcBNPLGjSHf-xwYnUVYkwa04w?e=RZdTCy)  \n",
    "\n",
    "\n",
    "\n",
    "\n",
    "\n",
    "* [Recomendación de la UNESCO sobre ciencia abierta](https://unesdoc.unesco.org/ark:/48223/pf0000379949_spa)\n",
    "\n",
    "* [chatGPT](https://openai.com/blog/chatgpt)  \n",
    "\n",
    "* [Géron, A. (2017). Hands-on machine learning with scikit-learn and tensorflow: Concepts. Tools, and Techniques to build intelligent systems.](chrome-extension://efaidnbmnnnibpcajpcglclefindmkaj/http://14.139.161.31/OddSem-0822-1122/Hands-On_Machine_Learning_with_Scikit-Learn-Keras-and-TensorFlow-2nd-Edition-Aurelien-Geron.pdf)   \n"
   ]
  },
  {
   "cell_type": "markdown",
   "id": "df925560",
   "metadata": {},
   "source": [
    "\n",
    "* [McKinney, W. (2012). Python for data analysis: Data wrangling with Pandas, NumPy, and IPython. \" O'Reilly Media, Inc.\".](https://wesmckinney.com/book/) "
   ]
  },
  {
   "cell_type": "markdown",
   "id": "6b9e56a8",
   "metadata": {
    "slideshow": {
     "slide_type": "slide"
    }
   },
   "source": [
    "### [Evaluamos al profesor Marco Cañas Aquí](https://forms.office.com/Pages/ResponsePage.aspx?id=IefhmYRxjkmK_7KtTlPBwkanXIs1i1FEujpsZgO6dXpUREJPV1kxUk1JV1ozTFJIQVNIQjY5WEY3US4u)"
   ]
  },
  {
   "cell_type": "markdown",
   "id": "10f43536",
   "metadata": {
    "slideshow": {
     "slide_type": "slide"
    }
   },
   "source": [
    "### Continue su aprendizaje en la siguiente clase a través del siguiente [vínculo]()"
   ]
  },
  {
   "cell_type": "markdown",
   "id": "53cc9115",
   "metadata": {
    "slideshow": {
     "slide_type": "slide"
    }
   },
   "source": [
    "## Agradecimientos  \n",
    "\n",
    "Doy gracias a Dios por la vida de mi Hijo Joseph Cañas Osorio y la madurez que ha alcanzado. Este hijo me enorgullece y me hace falta abrazarlo cada día. \n",
    "\n",
    "Y a mi esposa Yasmira Emperatriz Barboza Mogollón por su apoyo, orientación y acompañamiento. "
   ]
  },
  {
   "cell_type": "markdown",
   "id": "b6ba1c23",
   "metadata": {},
   "source": [
    "# Apéndice sobre calendarios y coordinaciones \n",
    "\n",
    "A continuación le envío el horario de la asignatura Cálculo Vectorial  \n",
    "\n",
    "Días:  \n",
    "Lunes - Hora: 7:00 a 12:00M  \n",
    "Fechas:  \n",
    "Febrero: 10-17-24                                          \n",
    " Marzo: 3-10-17-31                                                  \n",
    "Abril:7-21-28                                                   \n",
    "Mayo:5-12-19  \n",
    "\n",
    "Agradezco su apoyo, y si presenta alguna dificultad puede contactarme.  \n",
    "\n",
    "Cordialmente,  \n",
    "Juan Felipe Rivera Hernández  \n",
    "Contacto: 3106314300  "
   ]
  }
 ],
 "metadata": {
  "celltoolbar": "Slideshow",
  "kernelspec": {
   "display_name": ".venv",
   "language": "python",
   "name": "python3"
  },
  "language_info": {
   "codemirror_mode": {
    "name": "ipython",
    "version": 3
   },
   "file_extension": ".py",
   "mimetype": "text/x-python",
   "name": "python",
   "nbconvert_exporter": "python",
   "pygments_lexer": "ipython3",
   "version": "3.12.6"
  },
  "rise": {
   "enable_chalkboard": true,
   "theme": "sky",
   "transition": "zoom"
  }
 },
 "nbformat": 4,
 "nbformat_minor": 5
}
