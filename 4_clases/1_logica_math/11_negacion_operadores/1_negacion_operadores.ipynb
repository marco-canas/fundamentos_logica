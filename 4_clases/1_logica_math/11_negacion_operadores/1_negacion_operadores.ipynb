{
 "cells": [
  {
   "cell_type": "markdown",
   "id": "dc06dec7",
   "metadata": {
    "slideshow": {
     "slide_type": "slide"
    }
   },
   "source": [
    "<table align=\"left\">\n",
    "  <td>\n",
    "    <a href=\"https://colab.research.google.com/github/ageron/handson-ml3/blob/main/tools_numpy.ipynb\" target=\"_parent\"><img src=\"https://colab.research.google.com/assets/colab-badge.svg\" alt=\"Open In Colab\"/></a>\n",
    "  </td>\n",
    "  <td>\n",
    "    <a target=\"_blank\" href=\"https://kaggle.com/kernels/welcome?src=https://github.com/ageron/handson-ml3/blob/main/tools_numpy.ipynb\"><img src=\"https://kaggle.com/static/images/open-in-kaggle.svg\" /></a>\n",
    "  </td>\n",
    "</table>"
   ]
  },
  {
   "cell_type": "markdown",
   "id": "e0c5b198",
   "metadata": {
    "slideshow": {
     "slide_type": "slide"
    }
   },
   "source": [
    "### [Video de apoyo a la lectura interactiva y experimental de este cuaderno]()"
   ]
  },
  {
   "cell_type": "markdown",
   "id": "41e82203",
   "metadata": {
    "slideshow": {
     "slide_type": "slide"
    }
   },
   "source": [
    "## [Vínculo al programa del curso:  ]()\n",
    "\n"
   ]
  },
  {
   "cell_type": "markdown",
   "id": "d11ab06d",
   "metadata": {
    "slideshow": {
     "slide_type": "slide"
    }
   },
   "source": [
    "Un reconocimiento a mis estudiantes que han construido conmigo este saber pedagógico:\n",
    "\n",
    "<img src = ''> \n",
    "\n"
   ]
  },
  {
   "cell_type": "markdown",
   "id": "ae9860dc",
   "metadata": {},
   "source": [
    "# Cómo mejorar cada día la propuesta didáctica y pedagógica para enseñanza de la matemática\n"
   ]
  },
  {
   "cell_type": "markdown",
   "id": "1014ce5d",
   "metadata": {},
   "source": [
    "\n",
    "Para estructurar una propuesta pedagógica y didáctica centrada en: \n",
    "*  mostrar la matemática como un conjunto de **lenguajes** que ayudan a la comunicación científica y cotidiana, y \n",
    "* la promoción del inglés, el lenguaje Markdown, el lenguaje Latex, el lenguaje Python en los cuadernos Jupyter, y \n",
    "* adoptar un enfoque pedagógico de aula invertida y una metodología de clase basada en problemas (ABP),  \n",
    "  \n",
    "puedes seguir los siguientes pasos:\n"
   ]
  },
  {
   "cell_type": "markdown",
   "id": "19b90db0",
   "metadata": {},
   "source": [
    "\n",
    "1. **Diagnóstico de necesidades:**\n",
    "   - Realiza un análisis detallado de las necesidades y habilidades de los estudiantes en matemáticas, inglés y tecnología.\n",
    "   - Identifica las áreas de dificultad y las áreas en las que los estudiantes muestran interés.\n"
   ]
  },
  {
   "cell_type": "markdown",
   "id": "4a85e2ae",
   "metadata": {},
   "source": [
    "\n",
    "2. **Definición de objetivos:**\n",
    "   - Establece objetivos claros y alcanzables que integren el aprendizaje de matemáticas, inglés y tecnología.\n",
    "   - Los objetivos deben centrarse en mejorar la comprensión de conceptos matemáticos, desarrollar habilidades en inglés y fomentar la competencia en el uso de herramientas tecnológicas.\n"
   ]
  },
  {
   "cell_type": "markdown",
   "id": "c1174613",
   "metadata": {},
   "source": [
    "\n",
    "3. **Diseño de actividades y recursos:**\n",
    "   - Diseña actividades interactivas y colaborativas que permitan a los estudiantes explorar conceptos matemáticos a través del uso de cuadernos Jupyter, Python y Markdown.\n",
    "   - Incorpora lecturas y ejercicios en inglés relacionados con conceptos matemáticos para fortalecer el vocabulario y la comprensión del idioma.\n",
    "   - Utiliza recursos multimedia, como videos y tutoriales en línea, para apoyar el aprendizaje autónomo de los estudiantes.\n"
   ]
  },
  {
   "cell_type": "markdown",
   "id": "94eb1010",
   "metadata": {},
   "source": [
    "\n",
    "4. **Implementación del enfoque pedagógico de aula invertida:**\n",
    "   - Proporciona a los estudiantes acceso a materiales de aprendizaje antes de la clase, como cuadernos Jupyter con ejercicios y lecturas en inglés.\n",
    "   - Utiliza el tiempo en clase para actividades prácticas y colaborativas, donde los estudiantes puedan aplicar los conceptos aprendidos, resolver problemas y discutir en grupos.\n"
   ]
  },
  {
   "cell_type": "markdown",
   "id": "75dda2d1",
   "metadata": {},
   "source": [
    "\n",
    "5. **Metodología de clase basada en problemas (ABP):**\n",
    "   - Plantea problemas y desafíos relacionados con situaciones reales que requieran el uso de conceptos matemáticos, el inglés y la tecnología para su solución.\n",
    "   - Fomenta la participación activa de los estudiantes en la resolución de problemas, la discusión de estrategias y la presentación de soluciones.\n"
   ]
  },
  {
   "cell_type": "markdown",
   "id": "f5262339",
   "metadata": {},
   "source": [
    "\n",
    "6. **Evaluación y retroalimentación:**\n",
    "   - Implementa un sistema de evaluación formativa que permita monitorear el progreso de los estudiantes de manera continua.\n",
    "   - Proporciona retroalimentación individualizada y oportunidades para la reflexión sobre el aprendizaje y el desarrollo de habilidades.\n"
   ]
  },
  {
   "cell_type": "markdown",
   "id": "7bb4e865",
   "metadata": {},
   "source": [
    "\n",
    "7. **Mejora continua:**\n",
    "   - Recopila retroalimentación de los estudiantes y realiza ajustes en el plan de enseñanza según sea necesario.\n",
    "   - Mantente al tanto de las nuevas tendencias y herramientas en matemáticas, tecnología y enseñanza de idiomas para seguir mejorando la propuesta pedagógica y didáctica.\n"
   ]
  },
  {
   "cell_type": "markdown",
   "id": "4dbe7644",
   "metadata": {},
   "source": [
    "\n",
    "Al seguir estos pasos, podrás estructurar una propuesta pedagógica y didáctica efectiva que integre la enseñanza de matemáticas, inglés y tecnología, y promueva el aprendizaje significativo y el desarrollo de habilidades clave en los estudiantes de la licenciatura en matemáticas."
   ]
  },
  {
   "cell_type": "code",
   "execution_count": null,
   "id": "7604880f",
   "metadata": {
    "slideshow": {
     "slide_type": "slide"
    }
   },
   "outputs": [
    {
     "name": "stdout",
     "output_type": "stream",
     "text": [
      "Llamando a ROSILLO TEJADA VANESA...\n",
      "Cambios guardados en el archivo CSV.\n",
      "Llamando a QUINONEZ CERVANTES MARIANA...\n"
     ]
    }
   ],
   "source": [
    "import pandas as pd\n",
    "import numpy as np\n",
    "\n",
    "# Cargar la lista de estudiantes desde la URL\n",
    "path = '/home/marco/Documentos/docencia/groups_list/calculo_vectorial.csv'\n",
    "estudiantes = pd.read_csv(path)\n"
   ]
  },
  {
   "cell_type": "markdown",
   "id": "4f9d8cf9",
   "metadata": {
    "slideshow": {
     "slide_type": "slide"
    }
   },
   "source": [
    "# Modelo general de clase: [aula invertida](https://www3.gobiernodecanarias.org/medusa/ecoescuela/pedagotic/aprendizaje-invertido-flipped-classroom/)"
   ]
  },
  {
   "cell_type": "markdown",
   "id": "eb6ed03a",
   "metadata": {},
   "source": [
    "![Definamos flipped learning de manera gráfica](https://resources.maneuveringthemiddle.com/wp-content/uploads/2020/07/04212706/1-5.png)"
   ]
  },
  {
   "cell_type": "markdown",
   "id": "8d97dc80",
   "metadata": {
    "slideshow": {
     "slide_type": "slide"
    }
   },
   "source": [
    "## Fomento de la lectura literaria asociada a Ingeniería agropecuaria y licenciatura en Matemáticas\n",
    "\n"
   ]
  },
  {
   "cell_type": "markdown",
   "id": "96775931",
   "metadata": {
    "slideshow": {
     "slide_type": "slide"
    }
   },
   "source": [
    "## Título de la clase: Negación de los cuatro operadores ($\\lor, \\land, \\implies, \\leftrightarrow$)  \n",
    "\n",
    "[]()"
   ]
  },
  {
   "cell_type": "markdown",
   "id": "9a7647d8",
   "metadata": {},
   "source": [
    "# Prompt para el diseño de clase \n",
    "\n",
    "Dame, por favor, un diseño de clase, con el enfoque: STEAMS  y de aprendizaje basado en problemas y proyectos(ABPP); sobre: **\"Cómo negar a cada uno de los operadores lógicos\"**, siguiendo la estructura:   \n",
    "\n",
    "1. Título de la clase   \n",
    "   \n",
    "2. Objetivo de aprendizaje e indicadores de logro de estos objetivos.   \n",
    "   Diseña la clase incluyendo objetivos de educación matemática basada en el pensamiento crítico.   \n",
    "\n",
    "3.  Un mapa conceptual que resuma la clase elaborado en Graphviz de Python con nodos y edges de diferentes formas, colores y rellenos y renderizado en la siguiente ubicación: `\"C:/Users/marco/Downloads\"`. No olvides el parámetro `view = True` para el método `render()` de Graphviz. Para este mapa controla las superposiciones de los nodos con: graph [overlap=false]; // Elimina superposiciones (puede aumentar el espacio)\n",
    "graph [overlap=\"scalexy\"]; // Escala el gráfico para evitar overlaps\n",
    "graph [overlap=\"compress\"]; // Comprime el grafo sin overlaps   \n",
    "   \n",
    "1. Contenido de la clase    \n",
    "   \n",
    "2. Incluye una canción o un poema que ayude a interiorizar y fijar los conceptos asociados a esta clase.  \n",
    "   \n",
    "3. Dame elementos históricos y epistemológicos asociados a esta clase, pero contados como un cuento al estilo de un cuentero antioqueño en Colombia. Incluye imágenes de los protagonistas históricos de esta clase.   \n",
    "   \n",
    "4. Actividades de aprendizaje    \n",
    "     * Incluya actividades de aprendizaje utilizando Calculadora **Casio 991 LA cw**\n",
    "     * Incluya también actividades de aprendizaje y modelación de situaciones o problemas reales a través de circuitos lógicos y circuitos digitales o electrónicos utilizando la aplicación portable cocodrilo. [Descargue esta aplicación portable aquí](https://crocodileclips.net/descargar-crocodile-clips/)    \n",
    "\n",
    "       \n",
    "5.  Tarea o actividades de ejercitación y fijación.  \n",
    "     \n",
    "    \n",
    "6.  Evaluación incluyendo diez proyectos, un ejemplo de quiz y un ejemplo de parcial.  \n",
    "     * Diseña el quiz con preguntas, donde se pida al estudiante el mostrar la aplicación de las expresiones lógicas en contextos: \n",
    "       - Deportivos\n",
    "       - Cotidianos\n",
    "       - Matemáticas en teoría de números \n",
    "       - Matemáticas en geometría euclidiana\n",
    "       - Matemática en Cálculo Diferencial.\n",
    "       - Económicos. \n",
    "     * Actividad de desarrollo de habilidades metacognitivas para hacernos consientes de nuestro propio proceso de aprendizaje y de la importancia de la evaluación continua.\n",
    "\n",
    "7.  Diseño de actividad de retroalimentación.  \n",
    "      \n",
    "8.  Dame un vocabulario y frases del idioma inglés asociadas a esta clase.   \n",
    "    \n",
    "9.  Incluye apéndice para la clase sobre desarrollo de habilidades para trabajar en equipo y de asertividad y empatía para relacionarnos. También elementos de la inteligencia emocional para presentar pruebas sin temor y desarrollar habilidades metacognitivas.   \n",
    "      \n",
    "10. Incluye 10 referentes en didáctica de la matemática que estén de acuerdo a la propuesta didáctica de esta clase. Adiciona a estos referentes a Raymond Duval (Representaciones y cambios de representación para la adquisición de conceptos matemáticos) y a Jeannette Wing (Desarrollo del pensamiento computacional). Déjame todos estos referentes ordenados de acuerdo a las normas APA. Déjame todos estos referentes ordenados de acuerdo a las normas APA. Incluye las citaciones a estos referentes a medida que vallas diseñando la clase. \n",
    "\n",
    "\n",
    "Pero  que este diseño sea para que el estudiante pueda aprender experimentando en cuadernos Jupyter con funciones de usuario y animaciones y visualizaciones en Python. En particular utiliza para el diseño de clase a NumPy, Pandas, SymPy, Matplotlib.pyplot, Seaborn, Plotly, ipywidgets, matplotlib.animation y Jupyter Notebook.  \n",
    "Cuando vallas a utilizar SymPy, ten en cuanta la siguiente configuración: \n",
    "# Corrección y mejora del código\n",
    "from sympy import symbols, Equivalent\n",
    "from sympy.logic.boolalg import truth_table\n",
    "\n",
    "Cada vez que utilices `matplotlib.animacion` no olvides incluir el uso de `IPython. display` para la renderización de estas animaciones a través de Jupyter Notebook. No olvides darme los diseños de clase con las ecuaciones matemáticas delimitadas con signo de dólar $ para que VS Code si me renderice estas expresiones del lenguaje latex. Cuando vallas a utilizar ipywidgets ten en cuenta la siguiente importación inicial para garantizar que la visualización interactiva si se renderice en VS Code:                                                      \n",
    "import numpy as np\n",
    "import matplotlib.pyplot as plt\n",
    "import ipywidgets as widgets\n",
    "from IPython.display import display, clear_output\n",
    "from matplotlib.patches import Rectangle\n",
    "\n",
    "# Configuración inicial para visualización estática\n",
    "%matplotlib inline"
   ]
  },
  {
   "cell_type": "markdown",
   "id": "56f9be6b",
   "metadata": {},
   "source": [
    "# **Diseño de Clase: Negación de Operadores Lógicos con Enfoque STEAM y ABPP**\n"
   ]
  },
  {
   "cell_type": "markdown",
   "id": "de4b21c1",
   "metadata": {},
   "source": [
    "\n",
    "## **1. Título de la Clase**  \n",
    "**\"Negando Operadores Lógicos: De la Lógica Booleana a Circuitos Digitales con Python\"**  \n",
    "\n",
    "---\n",
    "\n",
    "## **2. Objetivos de Aprendizaje e Indicadores de Logro**  \n",
    "\n",
    "### **Objetivos:**  \n",
    "- **Matemática:** Aplicar las leyes de De Morgan para negar operadores lógicos ($\\neg$, $\\land$, $\\lor$, $\\rightarrow$, $\\leftrightarrow$).  \n",
    "- **Pensamiento Crítico:** Analizar expresiones lógicas en contextos reales.  \n",
    "- **STEAM:**  \n",
    "  - **Ciencia:** Relacionar lógica booleana con circuitos electrónicos.  \n",
    "  - **Tecnología:** Programar funciones lógicas en Python (SymPy, NumPy).  \n",
    "  - **Ingeniería:** Diseñar circuitos digitales en Crocodile Clips.  \n",
    "  - **Arte:** Crear visualizaciones interactivas con Matplotlib y Plotly.  \n",
    "  - **Matemáticas:** Modelar problemas con álgebra booleana.  \n",
    "\n",
    "### **Indicadores de Logro:**  \n",
    "✅ El estudiante niega correctamente operadores lógicos usando SymPy.  \n",
    "✅ Diseña circuitos lógicos equivalentes a expresiones negadas.  \n",
    "✅ Resuelve problemas cotidianos aplicando negaciones lógicas.  \n",
    "\n",
    "---\n",
    "\n",
    "## **3. Mapa Conceptual (Graphviz)**  \n",
    "\n",
    "```python\n",
    "from graphviz import Digraph\n",
    "\n",
    "# Crear grafo\n",
    "dot = Digraph(comment='Negación de Operadores Lógicos', \n",
    "              graph_attr={'overlap': 'scalexy', 'splines': 'true'})\n",
    "\n",
    "# Nodos principales\n",
    "dot.node('A', 'Negación de Operadores Lógicos', shape='ellipse', style='filled', fillcolor='lightblue')\n",
    "dot.node('B', 'Leyes de De Morgan', shape='box', style='filled', fillcolor='orange')\n",
    "dot.node('C', 'Aplicaciones en Circuitos', shape='diamond', style='filled', fillcolor='yellow')\n",
    "dot.node('D', 'Python (SymPy)', shape='octagon', style='filled', fillcolor='green')\n",
    "\n",
    "# Conexiones\n",
    "dot.edges(['AB', 'AC', 'AD'])\n",
    "dot.edge('B', 'C', label='Transforma')\n",
    "dot.edge('C', 'D', label='Simula')\n",
    "\n",
    "# Renderizar\n",
    "dot.render('C:/Users/marco/Downloads/mapa_logica', view=True, format='png')\n",
    "```\n"
   ]
  },
  {
   "cell_type": "markdown",
   "id": "e0035bef",
   "metadata": {},
   "source": [
    "\n",
    "---\n",
    "\n",
    "## **4. Contenido de la Clase**  \n",
    "\n",
    "### **Conceptos Clave:**  \n",
    "- **Negación ($\\neg$):**  \n",
    "  - $\\neg (P \\land Q) \\equiv \\neg P \\lor \\neg Q$ (1ª Ley de De Morgan).  \n",
    "  - $\\neg (P \\lor Q) \\equiv \\neg P \\land \\neg Q$ (2ª Ley de De Morgan).  \n",
    "\n",
    "- **Implicación y Equivalencia:**  \n",
    "  - $\\neg (P \\rightarrow Q) \\equiv P \\land \\neg Q$.  \n",
    "\n",
    "### **Visualización en Python:**  \n"
   ]
  },
  {
   "cell_type": "code",
   "execution_count": null,
   "id": "5d649328",
   "metadata": {
    "vscode": {
     "languageId": "plaintext"
    }
   },
   "outputs": [],
   "source": [
    "```python\n",
    "import sympy as sp\n",
    "\n",
    "P, Q = sp.symbols('P Q')\n",
    "expr = ~(P & Q)  # Negación de AND\n",
    "sp.Eq(expr, sp.simplify_logic(expr))\n",
    "```\n"
   ]
  },
  {
   "cell_type": "markdown",
   "id": "3d8e9b64",
   "metadata": {},
   "source": [
    "**Salida:**  \n",
    "$\\neg (P \\land Q) \\equiv \\neg P \\lor \\neg Q$  \n",
    "\n",
    "---\n"
   ]
  },
  {
   "cell_type": "markdown",
   "id": "feb921fa",
   "metadata": {},
   "source": [
    "\n",
    "## **5. Canción/Poema**  \n",
    "**\"Las Leyes de De Morgan\"** (Ritmo de Rap)  \n",
    "```\n",
    "Si niegas un AND, separa con OR,  \n",
    "y cambia el signo, ¡eso es ley de De Morgan!  \n",
    "Si niegas un OR, junta con AND,  \n",
    "¡la lógica es fácil, ya lo entiendes bien! 🎶\n",
    "```\n",
    "\n",
    "---\n",
    "\n",
    "## **6. Historia Epistemológica**  \n",
    "**\"El Cuento de George Boole y los Operadores\"**  \n",
    "*\"Érase una vez, en el frío condado de Lincoln (Inglaterra), un joven George Boole que soñaba con convertir el pensamiento humano en ecuaciones...\"*  \n",
    "\n",
    "![George Boole](https://upload.wikimedia.org/wikipedia/commons/thumb/5/5c/George_Boole_color.jpg/220px-George_Boole_color.jpg)  \n",
    "\n",
    "---\n",
    "\n",
    "## **7. Actividades de Aprendizaje**  \n",
    "\n",
    "### **Actividad 1: Calculadora Casio 991 LA cw**  \n",
    "- Ingresar `(A AND B)` y calcular su negación usando tablas de verdad.  \n",
    "\n",
    "### **Actividad 2: Crocodile Clips**  \n",
    "- Diseñar un circuito que implemente $\\neg (A \\lor B)$ usando compuertas NOR.  \n",
    "\n",
    "### **Actividad 3: Jupyter Notebook**  \n",
    "```python\n",
    "import matplotlib.pyplot as plt\n",
    "import numpy as np\n",
    "from ipywidgets import interact\n",
    "\n",
    "@interact(P=[True, False], Q=[True, False])\n",
    "def tabla_verdad(P, Q):\n",
    "    neg_and = not (P and Q)\n",
    "    print(f\"¬(P ∧ Q) = {neg_and}\")\n",
    "```\n",
    "\n",
    "---\n"
   ]
  },
  {
   "cell_type": "markdown",
   "id": "1392b55f",
   "metadata": {},
   "source": [
    "\n",
    "## **8. Evaluación**  \n",
    "\n",
    "### **Quiz (Ejemplo):**  \n",
    "- **Deportes:** \"Si un jugador NO (anota un gol Y recibe tarjeta amarilla), ¿qué significa?\"  \n",
    "- **Economía:** \"Negar la expresión: 'Si sube el dólar, entonces baja el peso'\".  \n",
    "\n",
    "### **Parcial:**  \n",
    "- Proyecto 1: Simular en Python la negación de un circuito XOR.  \n",
    "\n",
    "---\n"
   ]
  },
  {
   "cell_type": "markdown",
   "id": "ed4a90bb",
   "metadata": {},
   "source": [
    "\n",
    "## **9. Vocabulario en Inglés**  \n",
    "- **Negation:** Negación  \n",
    "- **Truth Table:** Tabla de verdad  \n",
    "- **Logic Gate:** Compuerta lógica  \n",
    "\n",
    "---\n"
   ]
  },
  {
   "cell_type": "markdown",
   "id": "fe4be86c",
   "metadata": {},
   "source": [
    "\n",
    "## **10. Referentes APA**  \n",
    "1. Duval, R. (2006). *Un tema crucial en educación matemática: La conversión de representaciones*.  \n",
    "2. Wing, J. (2006). *Computational Thinking*. Communications of the ACM.  \n",
    "\n",
    "---\n"
   ]
  },
  {
   "cell_type": "markdown",
   "id": "dc2c8462",
   "metadata": {},
   "source": [
    "\n",
    "**Nota:** Todas las visualizaciones Python deben ejecutarse en Jupyter Notebook con `%matplotlib inline` y `IPython.display` para animaciones."
   ]
  },
  {
   "cell_type": "markdown",
   "id": "902021b6",
   "metadata": {},
   "source": [
    "# Horario de clases del profesor Marco\n",
    "\n",
    "* Lunes 8-12: Cálculo Vectorial\n",
    "* Martes 8-12 M: Análisis Numérico. \n",
    "* Miércoles 10 a 11 M: Machine Learnig\n",
    "* Miércoles de 3 a 4 de la tarde: ARIMA\n",
    "* Jueves 2 a 6 PM: Práctica Pedagógica V: Desarrollo del pensamiento matemático en   \n",
    "  la infancia. \n",
    "* Viernes 8 - 12 M: Fundamentos de Lógica. \n",
    "* Sábados 8-12 Asesorías y espacio para retroalimentación y apoyo al trabajo independiente  \n",
    "  y desarrollo de habilidades metacognitivas. "
   ]
  },
  {
   "cell_type": "markdown",
   "id": "2d4911f8",
   "metadata": {},
   "source": [
    "## Monitores\n",
    "* Manuel San Juan Serrano: Contactar escribiendo al correo: manuel.serrano1@udea.edu.co\n",
    "* Yeifry Sebastián Uribe: Contactar escribiendo al correo: yeifry.uribe@udea.edu.co"
   ]
  },
  {
   "cell_type": "markdown",
   "id": "10bce0d0",
   "metadata": {
    "slideshow": {
     "slide_type": "slide"
    }
   },
   "source": [
    "## Referentes "
   ]
  },
  {
   "cell_type": "markdown",
   "id": "ac1cb844",
   "metadata": {},
   "source": [
    "* [Jupyter Book de fundamentos_logica](file:///C:/Users/marco/Documentos/docencia/fundamentos_logica/fundamentos_logica_book/_build/html/index.html)\n",
    "\n",
    "\n",
    "* [Decargue Crocodile Clip aquí](https://crocodileclips.net/descargar-crocodile-clips/)\n",
    "\n",
    "* [Matemáticas discretas Una introducción abierta, 3ª edición](https://discrete.openmathbooks.org/dmoi3.html)  \n",
    "  \n",
    "* [Desarrollo del pensamiento matemático con calculadora Casio ](https://bibliotecadigital.udea.edu.co/entities/publication/17180405-9f1d-4800-aa7c-e6369779cece)\n",
    "\n",
    "* [CALCULO I DE UNA VARIABLE Ron Larson-Bruce Edwards. Mc Graw Hill. 9º Edición](https://www.academia.edu/42139251/CALCULO_I_DE_UNA_VARIABLE_Ron_Larson_Bruce_Edwards_Mc_Graw_Hill_9o_Edici%C3%B3n)   \n",
    "  \n",
    "\n",
    "* [Grajales Vanegas, L. M., Restrepo Estrada, C. E., Restrepo Ochoa, S. I., & Ruíz De Villalba, F. (2015). Matemáticas I para las ciencias económicas.](https://bibliotecadigital.udea.edu.co/handle/10495/3010)\n",
    "  \n",
    "* R. Duval y Semiosis y pensamiento humano, 2.ª ed. Cali, Colombia: Programa Editorial Universidad del Valle, 2017. [En línea]. Disponible en: https://programaeditorial.univalle.edu.co/gpd-semiosis-y-pensamiento-humano-9789587655278-63324cdb0f6b3.html\n",
    "\n",
    "* [Aylwin, C. U. (2011). Lógica, conjuntos y números. Universidad de los Andes, Consejo de Publicaciones, Colección: Ciencias Básicas, Serie: Matemáticas.](chrome-extension://efaidnbmnnnibpcajpcglclefindmkaj/https://www.u-cursos.cl/ciencias/2011/1/MC110/1/material_docente/bajar?id_material=574722)\n",
    "  \n",
    "* [Chollet, F. (2021). Deep learning with Python. Simon and Schuster.](chrome-extension://efaidnbmnnnibpcajpcglclefindmkaj/https://tanthiamhuat.wordpress.com/wp-content/uploads/2018/03/deeplearningwithpython.pdf)  \n",
    "  \n",
    "* [Watson, S., Stewart, J., & Redlin, L. (2009). Precálculo. Matemáticas para el cálculo.](chrome-extension://efaidnbmnnnibpcajpcglclefindmkaj/https://students.aiu.edu/submissions/profiles/resources/onlineBook/k6L8A3_precalculo_-_matematicas_para_el_calculo-1.pdf)  \n",
    "\n",
    "* [Purcell, E. J., Varberg, D., & Rigdon, S. E. (2007). Cálculo diferencial e integral. Pearson Educación.](https://github.com/marco-canas/calculo/blob/main/referents/purcell/purcell_calculo.pdf)\n",
    "\n",
    "  \n",
    "\n",
    "* [stewart cálculo](https://udeaeduco-my.sharepoint.com/:b:/g/personal/marco_canas_udea_edu_co/EZgXZjAp8QxPqOAim2hs6LcBNPLGjSHf-xwYnUVYkwa04w?e=RZdTCy)  \n",
    "\n",
    "\n",
    "* [Recomendación de la UNESCO sobre ciencia abierta](https://unesdoc.unesco.org/ark:/48223/pf0000379949_spa)\n",
    "\n",
    "* [chatGPT](https://openai.com/blog/chatgpt)  \n",
    "\n",
    "* [Géron, A. (2017). Hands-on machine learning with scikit-learn and tensorflow: Concepts. Tools, and Techniques to build intelligent systems.](chrome-extension://efaidnbmnnnibpcajpcglclefindmkaj/http://14.139.161.31/OddSem-0822-1122/Hands-On_Machine_Learning_with_Scikit-Learn-Keras-and-TensorFlow-2nd-Edition-Aurelien-Geron.pdf)   \n"
   ]
  },
  {
   "cell_type": "markdown",
   "id": "8e65d6f9",
   "metadata": {},
   "source": [
    "# Como estudiante, encuentro que...   \n",
    "\n",
    "F: Mis Fortalezas son:     \n",
    "O: Mis Oportunidades son:    \n",
    "D: Mis Debilidades son:    \n",
    "A: Lo que Amenazas mi aprendizaje es:  "
   ]
  },
  {
   "cell_type": "markdown",
   "id": "6b9e56a8",
   "metadata": {
    "slideshow": {
     "slide_type": "slide"
    }
   },
   "source": [
    "### [Evaluamos al profesor Marco Cañas Aquí](https://forms.office.com/Pages/ResponsePage.aspx?id=IefhmYRxjkmK_7KtTlPBwkanXIs1i1FEujpsZgO6dXpUREJPV1kxUk1JV1ozTFJIQVNIQjY5WEY3US4u)"
   ]
  },
  {
   "cell_type": "markdown",
   "id": "10f43536",
   "metadata": {
    "slideshow": {
     "slide_type": "slide"
    }
   },
   "source": [
    "### Continue su aprendizaje en la siguiente clase a través del siguiente [vínculo]()"
   ]
  },
  {
   "cell_type": "markdown",
   "id": "53cc9115",
   "metadata": {
    "slideshow": {
     "slide_type": "slide"
    }
   },
   "source": [
    "## Agradecimientos  \n",
    "\n",
    "Doy gracias a Dios por la vida de mi Hijo Joseph Cañas Osorio y la madurez que ha alcanzado.\n",
    "\n",
    "Y a mi esposa Yasmira por su apoyo, orientación y acompañamiento. "
   ]
  }
 ],
 "metadata": {
  "celltoolbar": "Slideshow",
  "kernelspec": {
   "display_name": "Python 3 (ipykernel)",
   "language": "python",
   "name": "python3"
  },
  "language_info": {
   "codemirror_mode": {
    "name": "ipython",
    "version": 3
   },
   "file_extension": ".py",
   "mimetype": "text/x-python",
   "name": "python",
   "nbconvert_exporter": "python",
   "pygments_lexer": "ipython3",
   "version": "3.10.12"
  },
  "rise": {
   "enable_chalkboard": true,
   "theme": "sky",
   "transition": "zoom"
  }
 },
 "nbformat": 4,
 "nbformat_minor": 5
}
