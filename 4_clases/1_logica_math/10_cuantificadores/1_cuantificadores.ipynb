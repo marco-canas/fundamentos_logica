{
 "cells": [
  {
   "cell_type": "markdown",
   "id": "dc06dec7",
   "metadata": {
    "slideshow": {
     "slide_type": "slide"
    }
   },
   "source": [
    "<table align=\"left\">\n",
    "  <td>\n",
    "    <a href=\"https://colab.research.google.com/github/marco-canas/fundamentos_logica/blob/main/referentes/1_grajales_lina/1_logica_matematica_y_teoria_de_conjuntos/1_logica_matematica/10_cuantificadores/1_cuantificadores.ipynb\" target=\"_parent\"><img src=\"https://colab.research.google.com/assets/colab-badge.svg\" alt=\"Open In Colab\"/></a>\n",
    "  </td>\n",
    "  <td>\n",
    "    <a target=\"_blank\" href=\"https://kaggle.com/kernels/welcome?src=https://github.com/marco-canas/fundamentos_logica/blob/main/referentes/1_grajales_lina/1_logica_matematica_y_teoria_de_conjuntos/1_logica_matematica/10_cuantificadores/1_cuantificadores.ipynb\"><img src=\"https://kaggle.com/static/images/open-in-kaggle.svg\" /></a>\n",
    "  </td>\n",
    "</table>"
   ]
  },
  {
   "cell_type": "markdown",
   "id": "e0c5b198",
   "metadata": {
    "slideshow": {
     "slide_type": "slide"
    }
   },
   "source": [
    "### [Video de apoyo a la lectura interactiva y experimental de este cuaderno]()"
   ]
  },
  {
   "cell_type": "markdown",
   "id": "41e82203",
   "metadata": {
    "slideshow": {
     "slide_type": "slide"
    }
   },
   "source": [
    "## [Vínculo al programa del curso:  ]()\n",
    "\n"
   ]
  },
  {
   "cell_type": "markdown",
   "id": "d11ab06d",
   "metadata": {
    "slideshow": {
     "slide_type": "slide"
    }
   },
   "source": [
    "Un reconocimiento a mis estudiantes que han construido conmigo este saber pedagógico:\n",
    "\n",
    "<img src = ''> \n",
    "\n"
   ]
  },
  {
   "cell_type": "markdown",
   "id": "ae9860dc",
   "metadata": {},
   "source": [
    "# Cómo mejorar cada día la propuesta didáctica y pedagógica para enseñanza de la matemática\n"
   ]
  },
  {
   "cell_type": "markdown",
   "id": "1014ce5d",
   "metadata": {},
   "source": [
    "\n",
    "Para estructurar una propuesta pedagógica y didáctica centrada en: \n",
    "*  mostrar la matemática como un conjunto de **lenguajes** que ayudan a la comunicación científica y cotidiana, y \n",
    "* la promoción del inglés, el lenguaje Markdown, el lenguaje Latex, el lenguaje Python en los cuadernos Jupyter, y \n",
    "* adoptar un enfoque pedagógico de aula invertida y una metodología de clase basada en problemas (ABP),  \n",
    "  \n",
    "puedes seguir los siguientes pasos:\n"
   ]
  },
  {
   "cell_type": "markdown",
   "id": "19b90db0",
   "metadata": {},
   "source": [
    "\n",
    "1. **Diagnóstico de necesidades:**\n",
    "   - Realiza un análisis detallado de las necesidades y habilidades de los estudiantes en matemáticas, inglés y tecnología.\n",
    "   - Identifica las áreas de dificultad y las áreas en las que los estudiantes muestran interés.\n"
   ]
  },
  {
   "cell_type": "markdown",
   "id": "4a85e2ae",
   "metadata": {},
   "source": [
    "\n",
    "2. **Definición de objetivos:**\n",
    "   - Establece objetivos claros y alcanzables que integren el aprendizaje de matemáticas, inglés y tecnología.\n",
    "   - Los objetivos deben centrarse en mejorar la comprensión de conceptos matemáticos, desarrollar habilidades en inglés y fomentar la competencia en el uso de herramientas tecnológicas.\n"
   ]
  },
  {
   "cell_type": "markdown",
   "id": "c1174613",
   "metadata": {},
   "source": [
    "\n",
    "3. **Diseño de actividades y recursos:**\n",
    "   - Diseña actividades interactivas y colaborativas que permitan a los estudiantes explorar conceptos matemáticos a través del uso de cuadernos Jupyter, Python y Markdown.\n",
    "   - Incorpora lecturas y ejercicios en inglés relacionados con conceptos matemáticos para fortalecer el vocabulario y la comprensión del idioma.\n",
    "   - Utiliza recursos multimedia, como videos y tutoriales en línea, para apoyar el aprendizaje autónomo de los estudiantes.\n"
   ]
  },
  {
   "cell_type": "markdown",
   "id": "94eb1010",
   "metadata": {},
   "source": [
    "\n",
    "4. **Implementación del enfoque pedagógico de aula invertida:**\n",
    "   - Proporciona a los estudiantes acceso a materiales de aprendizaje antes de la clase, como cuadernos Jupyter con ejercicios y lecturas en inglés.\n",
    "   - Utiliza el tiempo en clase para actividades prácticas y colaborativas, donde los estudiantes puedan aplicar los conceptos aprendidos, resolver problemas y discutir en grupos.\n"
   ]
  },
  {
   "cell_type": "markdown",
   "id": "75dda2d1",
   "metadata": {},
   "source": [
    "\n",
    "5. **Metodología de clase basada en problemas (ABP):**\n",
    "   - Plantea problemas y desafíos relacionados con situaciones reales que requieran el uso de conceptos matemáticos, el inglés y la tecnología para su solución.\n",
    "   - Fomenta la participación activa de los estudiantes en la resolución de problemas, la discusión de estrategias y la presentación de soluciones.\n"
   ]
  },
  {
   "cell_type": "markdown",
   "id": "f5262339",
   "metadata": {},
   "source": [
    "\n",
    "6. **Evaluación y retroalimentación:**\n",
    "   - Implementa un sistema de evaluación formativa que permita monitorear el progreso de los estudiantes de manera continua.\n",
    "   - Proporciona retroalimentación individualizada y oportunidades para la reflexión sobre el aprendizaje y el desarrollo de habilidades.\n"
   ]
  },
  {
   "cell_type": "markdown",
   "id": "7bb4e865",
   "metadata": {},
   "source": [
    "\n",
    "7. **Mejora continua:**\n",
    "   - Recopila retroalimentación de los estudiantes y realiza ajustes en el plan de enseñanza según sea necesario.\n",
    "   - Mantente al tanto de las nuevas tendencias y herramientas en matemáticas, tecnología y enseñanza de idiomas para seguir mejorando la propuesta pedagógica y didáctica.\n"
   ]
  },
  {
   "cell_type": "markdown",
   "id": "4dbe7644",
   "metadata": {},
   "source": [
    "\n",
    "Al seguir estos pasos, podrás estructurar una propuesta pedagógica y didáctica efectiva que integre la enseñanza de matemáticas, inglés y tecnología, y promueva el aprendizaje significativo y el desarrollo de habilidades clave en los estudiantes de la licenciatura en matemáticas."
   ]
  },
  {
   "cell_type": "code",
   "execution_count": 3,
   "id": "7604880f",
   "metadata": {
    "slideshow": {
     "slide_type": "slide"
    }
   },
   "outputs": [
    {
     "data": {
      "application/vnd.microsoft.datawrangler.viewer.v0+json": {
       "columns": [
        {
         "name": "index",
         "rawType": "int64",
         "type": "integer"
        },
        {
         "name": "Cedula",
         "rawType": "int64",
         "type": "integer"
        },
        {
         "name": "Nombre",
         "rawType": "object",
         "type": "string"
        },
        {
         "name": "Email",
         "rawType": "object",
         "type": "string"
        },
        {
         "name": "Asistencia",
         "rawType": "float64",
         "type": "float"
        },
        {
         "name": "quiz_1",
         "rawType": "float64",
         "type": "float"
        },
        {
         "name": "parcial 1",
         "rawType": "float64",
         "type": "float"
        },
        {
         "name": "Proyecto_1",
         "rawType": "float64",
         "type": "float"
        },
        {
         "name": "proyecto_2",
         "rawType": "float64",
         "type": "float"
        }
       ],
       "conversionMethod": "pd.DataFrame",
       "ref": "379b61f3-b612-49cc-8bdf-545b96ffcb8b",
       "rows": [
        [
         "0",
         "1067281024",
         "ALVAREZ GOEZ DAIRO ESTEBAN",
         "dairo.alvarez1@udea.edu.co",
         null,
         null,
         "5.0",
         null,
         null
        ],
        [
         "1",
         "1041086439",
         "CASTILLO SIERRA SHIRLIS SARAY",
         "shirlis.castillo@udea.edu.co",
         null,
         "5.0",
         "4.0",
         "5.0",
         null
        ],
        [
         "2",
         "1045419649",
         "ESPINOSA ESPINOSA LILIANA ANDREA",
         "lilianaa.espinosa@udea.edu.co",
         null,
         "4.5",
         "5.0",
         "5.0",
         null
        ],
        [
         "3",
         "1040494191",
         "GARCIA PADILLA JHONATAN",
         "jhonatan.garcia1@udea.edu.co",
         null,
         "5.0",
         "5.0",
         null,
         null
        ],
        [
         "4",
         "1038098851",
         "GUERRA OSORIO SIMON",
         "s.guerra@udea.edu.co",
         null,
         "5.0",
         "5.0",
         null,
         null
        ]
       ],
       "shape": {
        "columns": 8,
        "rows": 5
       }
      },
      "text/html": [
       "<div>\n",
       "<style scoped>\n",
       "    .dataframe tbody tr th:only-of-type {\n",
       "        vertical-align: middle;\n",
       "    }\n",
       "\n",
       "    .dataframe tbody tr th {\n",
       "        vertical-align: top;\n",
       "    }\n",
       "\n",
       "    .dataframe thead th {\n",
       "        text-align: right;\n",
       "    }\n",
       "</style>\n",
       "<table border=\"1\" class=\"dataframe\">\n",
       "  <thead>\n",
       "    <tr style=\"text-align: right;\">\n",
       "      <th></th>\n",
       "      <th>Cedula</th>\n",
       "      <th>Nombre</th>\n",
       "      <th>Email</th>\n",
       "      <th>Asistencia</th>\n",
       "      <th>quiz_1</th>\n",
       "      <th>parcial 1</th>\n",
       "      <th>Proyecto_1</th>\n",
       "      <th>proyecto_2</th>\n",
       "    </tr>\n",
       "  </thead>\n",
       "  <tbody>\n",
       "    <tr>\n",
       "      <th>0</th>\n",
       "      <td>1067281024</td>\n",
       "      <td>ALVAREZ GOEZ DAIRO ESTEBAN</td>\n",
       "      <td>dairo.alvarez1@udea.edu.co</td>\n",
       "      <td>NaN</td>\n",
       "      <td>NaN</td>\n",
       "      <td>5.0</td>\n",
       "      <td>NaN</td>\n",
       "      <td>NaN</td>\n",
       "    </tr>\n",
       "    <tr>\n",
       "      <th>1</th>\n",
       "      <td>1041086439</td>\n",
       "      <td>CASTILLO SIERRA SHIRLIS SARAY</td>\n",
       "      <td>shirlis.castillo@udea.edu.co</td>\n",
       "      <td>NaN</td>\n",
       "      <td>5.0</td>\n",
       "      <td>4.0</td>\n",
       "      <td>5.0</td>\n",
       "      <td>NaN</td>\n",
       "    </tr>\n",
       "    <tr>\n",
       "      <th>2</th>\n",
       "      <td>1045419649</td>\n",
       "      <td>ESPINOSA ESPINOSA LILIANA ANDREA</td>\n",
       "      <td>lilianaa.espinosa@udea.edu.co</td>\n",
       "      <td>NaN</td>\n",
       "      <td>4.5</td>\n",
       "      <td>5.0</td>\n",
       "      <td>5.0</td>\n",
       "      <td>NaN</td>\n",
       "    </tr>\n",
       "    <tr>\n",
       "      <th>3</th>\n",
       "      <td>1040494191</td>\n",
       "      <td>GARCIA PADILLA JHONATAN</td>\n",
       "      <td>jhonatan.garcia1@udea.edu.co</td>\n",
       "      <td>NaN</td>\n",
       "      <td>5.0</td>\n",
       "      <td>5.0</td>\n",
       "      <td>NaN</td>\n",
       "      <td>NaN</td>\n",
       "    </tr>\n",
       "    <tr>\n",
       "      <th>4</th>\n",
       "      <td>1038098851</td>\n",
       "      <td>GUERRA OSORIO SIMON</td>\n",
       "      <td>s.guerra@udea.edu.co</td>\n",
       "      <td>NaN</td>\n",
       "      <td>5.0</td>\n",
       "      <td>5.0</td>\n",
       "      <td>NaN</td>\n",
       "      <td>NaN</td>\n",
       "    </tr>\n",
       "  </tbody>\n",
       "</table>\n",
       "</div>"
      ],
      "text/plain": [
       "       Cedula                            Nombre  \\\n",
       "0  1067281024        ALVAREZ GOEZ DAIRO ESTEBAN   \n",
       "1  1041086439     CASTILLO SIERRA SHIRLIS SARAY   \n",
       "2  1045419649  ESPINOSA ESPINOSA LILIANA ANDREA   \n",
       "3  1040494191           GARCIA PADILLA JHONATAN   \n",
       "4  1038098851               GUERRA OSORIO SIMON   \n",
       "\n",
       "                           Email  Asistencia  quiz_1  parcial 1  Proyecto_1  \\\n",
       "0     dairo.alvarez1@udea.edu.co         NaN     NaN        5.0         NaN   \n",
       "1   shirlis.castillo@udea.edu.co         NaN     5.0        4.0         5.0   \n",
       "2  lilianaa.espinosa@udea.edu.co         NaN     4.5        5.0         5.0   \n",
       "3   jhonatan.garcia1@udea.edu.co         NaN     5.0        5.0         NaN   \n",
       "4           s.guerra@udea.edu.co         NaN     5.0        5.0         NaN   \n",
       "\n",
       "   proyecto_2  \n",
       "0         NaN  \n",
       "1         NaN  \n",
       "2         NaN  \n",
       "3         NaN  \n",
       "4         NaN  "
      ]
     },
     "execution_count": 3,
     "metadata": {},
     "output_type": "execute_result"
    }
   ],
   "source": [
    "import pandas as pd\n",
    "import numpy as np\n",
    "\n",
    "# Cargar la lista de estudiantes desde la URL\n",
    "path = 'C:/Users/marco/Documentos/docencia/groups_list/logica.xlsx'\n",
    "df = pd.read_excel(path)\n",
    "df.head() "
   ]
  },
  {
   "cell_type": "markdown",
   "id": "4f9d8cf9",
   "metadata": {
    "slideshow": {
     "slide_type": "slide"
    }
   },
   "source": [
    "# Modelo general de clase: [aula invertida](https://www3.gobiernodecanarias.org/medusa/ecoescuela/pedagotic/aprendizaje-invertido-flipped-classroom/)"
   ]
  },
  {
   "cell_type": "markdown",
   "id": "eb6ed03a",
   "metadata": {},
   "source": [
    "<img src = 'https://resources.maneuveringthemiddle.com/wp-content/uploads/2020/07/04212706/1-5.png' width = 400> "
   ]
  },
  {
   "cell_type": "markdown",
   "id": "8d97dc80",
   "metadata": {
    "slideshow": {
     "slide_type": "slide"
    }
   },
   "source": [
    "## Fomento de la lectura literaria asociada a Ingeniería agropecuaria y licenciatura en Matemáticas\n",
    "\n"
   ]
  },
  {
   "cell_type": "markdown",
   "id": "96775931",
   "metadata": {
    "slideshow": {
     "slide_type": "slide"
    }
   },
   "source": [
    "## Título de la clase:   Lógica de predicados: Cuantificadores\n",
    "\n",
    "[]()"
   ]
  },
  {
   "cell_type": "markdown",
   "id": "a558a77a",
   "metadata": {},
   "source": [
    "Dame, por favor, un diseño de clase, con el enfoque: STEAMS  y de aprendizaje basado en problemas y proyectos(ABPP); sobre: **\"Cómo construir e interpretar expresiones cuantificadas. Lógica de predicados\"**, siguiendo la estructura:   \n",
    "\n",
    "1. Título de la clase   \n",
    "   \n",
    "2. Objetivo de aprendizaje e indicadores de logro de estos objetivos.   \n",
    "   Diseña la clase incluyendo objetivos de educación matemática basada en el pensamiento crítico.   \n",
    "\n",
    "3.  Un mapa conceptual que resuma la clase elaborado en Graphviz de Python con nodos y edges de diferentes formas, colores y rellenos y renderizado en la siguiente ubicación: `\"C:/Users/marco/Downloads\"`. No olvides el parámetro `view = True` para el método `render()` de Graphviz. Para este mapa controla las superposiciones de los nodos con: graph [overlap=false]; // Elimina superposiciones (puede aumentar el espacio)\n",
    "graph [overlap=\"scalexy\"]; // Escala el gráfico para evitar overlaps\n",
    "graph [overlap=\"compress\"]; // Comprime el grafo sin overlaps   \n",
    "   \n",
    "1. Contenido de la clase    \n",
    "   \n",
    "2. Incluye una canción o un poema que ayude a interiorizar y fijar los conceptos asociados a esta clase.  \n",
    "   \n",
    "3. Dame elementos históricos y epistemológicos asociados a esta clase, pero contados como un cuento al estilo de un cuentero antioqueño en Colombia. Incluye imágenes de los protagonistas históricos de esta clase.   \n",
    "   \n",
    "4. Actividades de aprendizaje    \n",
    "     * Incluya actividades de aprendizaje utilizando Calculadora **Casio 991 LA cw**\n",
    "     * Incluya también actividades de aprendizaje y modelación de situaciones o problemas reales a través de circuitos lógicos y circuitos digitales o electrónicos utilizando la aplicación portable cocodrilo. [Descargue esta aplicación portable aquí](https://crocodileclips.net/descargar-crocodile-clips/)    \n",
    "\n",
    "       \n",
    "5.  Tarea o actividades de ejercitación y fijación.  \n",
    "     \n",
    "    \n",
    "6.  Evaluación incluyendo diez proyectos, un ejemplo de quiz y un ejemplo de parcial.  \n",
    "     * Diseña el quiz con preguntas, donde se pida al estudiante el mostrar la aplicación de las expresiones lógicas en contextos: \n",
    "       - Deportivos\n",
    "       - Cotidianos\n",
    "       - Matemáticas en teoría de números \n",
    "       - Matemáticas en geometría euclidiana\n",
    "       - Matemática en Cálculo Diferencial.\n",
    "       - Económicos. \n",
    "     * Actividad de desarrollo de habilidades metacognitivas para hacernos consientes de nuestro propio proceso de aprendizaje y de la importancia de la evaluación continua.\n",
    "\n",
    "7.  Diseño de actividad de retroalimentación.  \n",
    "      \n",
    "8.  Dame un vocabulario y frases del idioma inglés asociadas a esta clase.   \n",
    "    \n",
    "9.  Incluye apéndice para la clase sobre desarrollo de habilidades para trabajar en equipo y de asertividad y empatía para relacionarnos. También elementos de la inteligencia emocional para presentar pruebas sin temor y desarrollar habilidades metacognitivas.   \n",
    "      \n",
    "10. Incluye 10 referentes en didáctica de la matemática que estén de acuerdo a la propuesta didáctica de esta clase. Adiciona a estos referentes a Raymond Duval (Representaciones y cambios de representación para la adquisición de conceptos matemáticos) y a Jeannette Wing (Desarrollo del pensamiento computacional). Déjame todos estos referentes ordenados de acuerdo a las normas APA. Déjame todos estos referentes ordenados de acuerdo a las normas APA. Incluye las citaciones a estos referentes a medida que vallas diseñando la clase. \n",
    "\n",
    "\n",
    "Pero  que este diseño sea para que el estudiante pueda aprender experimentando en cuadernos Jupyter con funciones de usuario y animaciones y visualizaciones en Python. En particular utiliza para el diseño de clase a NumPy, Pandas, SymPy, Matplotlib.pyplot, Seaborn, Plotly, ipywidgets, matplotlib.animation y Jupyter Notebook.  \n",
    "Cuando vallas a utilizar SymPy, ten en cuanta la siguiente configuración: \n",
    "# Corrección y mejora del código\n",
    "from sympy import symbols, Equivalent\n",
    "from sympy.logic.boolalg import truth_table\n",
    "\n",
    "Cada vez que utilices `matplotlib.animacion` no olvides incluir el uso de `IPython. display` para la renderización de estas animaciones a través de Jupyter Notebook. No olvides Dame, por favor, los diseños de clase con las ecuaciones matemáticas delimitadas con signo de dólar $ para que VS Code si me renderice estas expresiones del lenguaje latex. Cuando vallas a utilizar ipywidgets ten en cuenta la siguiente importación inicial para garantizar que la visualización interactiva si se renderice en VS Code:                                                      \n",
    "import numpy as np\n",
    "import matplotlib.pyplot as plt\n",
    "import ipywidgets as widgets\n",
    "from IPython.display import display, clear_output\n",
    "from matplotlib.patches import Rectangle\n",
    "\n",
    "# Configuración inicial para visualización estática\n",
    "%matplotlib inline"
   ]
  },
  {
   "cell_type": "markdown",
   "id": "35845559",
   "metadata": {},
   "source": [
    "# Diseño de Clase STEAMS con ABPP: Lógica de Predicados y Expresiones Cuantificadas\n",
    "\n",
    "## 1. Título de la clase\n",
    "**\"Descubriendo el lenguaje del universo: Construyendo e interpretando expresiones cuantificadas con Python\"**\n",
    "\n",
    "## 2. Objetivos de aprendizaje e indicadores\n",
    "\n",
    "**Objetivo principal:**  \n",
    "Desarrollar competencias en lógica de predicados mediante el enfoque STEAMS (Ciencia, Tecnología, Ingeniería, Artes, Matemáticas y Sociedad) y ABPP, integrando herramientas computacionales y pensamiento crítico.\n",
    "\n",
    "**Indicadores de logro:**\n",
    "- Construye expresiones cuantificadas correctamente formadas (ECCF) usando símbolos matemáticos (95% precisión)\n",
    "- Interpreta enunciados en lenguaje natural traduciéndolos a ECCF y viceversa (9/10 casos)\n",
    "- Evalúa la validez de argumentos usando tablas de verdad y circuitos lógicos (90% efectividad)\n",
    "- Modela problemas reales con cuantificadores universales ($\\forall$) y existenciales ($\\exists$)\n",
    "- Diseña visualizaciones interactivas que representen conceptos de lógica de predicados\n",
    "\n",
    "**Objetivos de educación matemática basada en pensamiento crítico:**\n",
    "- Analizar críticamente argumentos en medios de comunicación identificando su estructura lógica\n",
    "- Evaluar la solidez de argumentos matemáticos en contextos sociales\n",
    "- Construir contraejemplos para proposiciones universalmente cuantificadas\n",
    "- Distinguir entre correlación y causalidad en enunciados estadísticos\n",
    "\n",
    "## 3. Mapa Conceptual (Graphviz)\n",
    "\n",
    "```python\n",
    "from graphviz import Digraph\n",
    "import os\n",
    "\n",
    "# Configuración del entorno para Graphviz\n",
    "os.environ[\"PATH\"] += os.pathsep + 'C:/Program Files/Graphviz/bin/'\n",
    "\n",
    "# Creación del mapa conceptual\n",
    "graph = Digraph('LógicaPredicados', \n",
    "                filename='C:/Users/marco/Downloads/logica_predicados.gv',\n",
    "                format='png',\n",
    "                engine='neato')\n",
    "\n",
    "# Configuración del gráfico para evitar overlaps\n",
    "graph.attr(overlap='scalexy', splines='true', layout='neato')\n",
    "\n",
    "# Nodos principales\n",
    "graph.node('A', 'Lógica de Predicados', shape='doubleoctagon', style='filled', fillcolor='#FFD700', fontsize='16')\n",
    "graph.node('B', 'Cuantificadores', shape='ellipse', style='filled', fillcolor='#FFA07A')\n",
    "graph.node('C', '∀ Universal', shape='box', style='filled', fillcolor='#98FB98')\n",
    "graph.node('D', '∃ Existencial', shape='box', style='filled', fillcolor='#ADD8E6')\n",
    "graph.node('E', 'Variables', shape='ellipse', style='filled', fillcolor='#E6E6FA')\n",
    "graph.node('F', 'Predicados', shape='ellipse', style='filled', fillcolor='#FFB6C1')\n",
    "graph.node('G', 'Tablas Verdad', shape='hexagon', style='filled', fillcolor='#F0E68C')\n",
    "graph.node('H', 'Circuitos Lógicos', shape='hexagon', style='filled', fillcolor='#90EE90')\n",
    "graph.node('I', 'Aplicaciones', shape='doubleoctagon', style='filled', fillcolor='#FF6347', fontsize='16')\n",
    "\n",
    "# Subnodos y conexiones\n",
    "graph.edges(['AB', 'BA', 'BC', 'BD', 'BE', 'BF', 'AG', 'AH', 'AI'])\n",
    "graph.edge('B', 'C', label='Incluye', color='blue')\n",
    "graph.edge('B', 'D', label='Incluye', color='blue')\n",
    "graph.edge('F', 'G', label='Evalúa', color='red')\n",
    "graph.edge('F', 'H', label='Implementa', color='green')\n",
    "graph.edge('I', 'C', label='Ej: ∀x∈ℝ, x²≥0', color='purple')\n",
    "graph.edge('I', 'D', label='Ej: ∃x∈ℤ, x+5=2', color='purple')\n",
    "\n",
    "# Renderizar y mostrar\n",
    "graph.render(view=True, cleanup=True)\n",
    "```\n",
    "\n",
    "## 4. Contenido de la clase\n",
    "\n",
    "### Conceptos Fundamentales:\n",
    "1. **Variables y predicados**: $P(x), Q(x,y)$ donde $x,y$ son variables y $P,Q$ son propiedades\n",
    "2. **Cuantificadores**:\n",
    "   - Universal: $\\forall x P(x)$ (\"Para todo x, P(x)\")\n",
    "   - Existencial: $\\exists x P(x)$ (\"Existe al menos un x tal que P(x)\")\n",
    "3. **Ámbito de los cuantificadores**: Paréntesis y precedencia\n",
    "4. **Negación de cuantificadores**:\n",
    "   - $\\neg(\\forall x P(x)) \\equiv \\exists x \\neg P(x)$\n",
    "   - $\\neg(\\exists x P(x)) \\equiv \\forall x \\neg P(x)$\n",
    "\n",
    "### Implementación en Python (SymPy):\n",
    "```python\n",
    "from sympy import symbols, ForAll, Exists, Not, Implies, And, Or\n",
    "from sympy.logic.boolalg import to_cnf, to_dnf\n",
    "from IPython.display import display, Math\n",
    "\n",
    "x, y = symbols('x y')\n",
    "P = symbols('P', cls=Function)\n",
    "Q = symbols('Q', cls=Function)\n",
    "\n",
    "# Ejemplo de expresión cuantificada\n",
    "exp_universal = ForAll(x, P(x))\n",
    "exp_existencial = Exists(x, Q(x))\n",
    "\n",
    "# Visualización LaTeX\n",
    "display(Math(f\"Universal: {latex(exp_universal)}\"))\n",
    "display(Math(f\"Existencial: {latex(exp_existencial)}\"))\n",
    "```\n",
    "\n",
    "### Visualización Interactiva con ipywidgets:\n",
    "```python\n",
    "import ipywidgets as widgets\n",
    "from IPython.display import display\n",
    "\n",
    "def update_expression(quantifier_type, predicate):\n",
    "    x = symbols('x')\n",
    "    P = symbols(predicate, cls=Function)\n",
    "    \n",
    "    if quantifier_type == 'Universal':\n",
    "        expr = ForAll(x, P(x))\n",
    "    else:\n",
    "        expr = Exists(x, P(x))\n",
    "    \n",
    "    display(Math(latex(expr)))\n",
    "\n",
    "quantifier = widgets.RadioButtons(\n",
    "    options=['Universal', 'Existencial'],\n",
    "    description='Cuantificador:'\n",
    ")\n",
    "\n",
    "predicate = widgets.Text(\n",
    "    value='P',\n",
    "    description='Predicado:'\n",
    ")\n",
    "\n",
    "widgets.interactive(update_expression, quantifier_type=quantifier, predicate=predicate)\n",
    "```\n",
    "\n",
    "## 5. Canción/Poema de Aprendizaje\n",
    "\n",
    "**\"El Vals de los Cuantificadores\"**  \n",
    "*(Melodía: \"Vals de las Flores\" de Tchaikovsky)*\n",
    "\n",
    "```\n",
    "Para todo x en mi corazón, (∀x)  \n",
    "Hay un teorema y una canción.  \n",
    "Si P de x es verdad,  \n",
    "¡Qué felicidad!  \n",
    "\n",
    "Pero existe algún y especial (∃y)  \n",
    "Que hace Q de y realidad.  \n",
    "Si lo niegas con esmero,  \n",
    "El cuantificador cambia entero.  \n",
    "\n",
    "Negar ∀ es ∃ con no,  \n",
    "Y ∃ sin ∀ voló.  \n",
    "Esta lógica es un baile,  \n",
    "¡Que nunca te falle!\n",
    "```\n",
    "\n",
    "## 6. Historia Epistemológica (Estilo Cuentero Antioqueño)\n",
    "\n",
    "*\"¡Ay hombe!* Les voy a contar la historia de estos señores que le dieron vuelta a la lógica como una arepa en el comal...\"\n",
    "\n",
    "*\"Allá por los años 300 antes de Cristo, caminaba Aristóteles por Atenas con su túnica blanca, pensando en cómo clasificar los silogismos. 'Todo hombre es mortal, Sócrates es hombre, luego...' ¡Pum! Había nacido la lógica de predicados, aunque él no lo sabía todavía.\"*\n",
    "\n",
    "![Aristóteles](https://upload.wikimedia.org/wikipedia/commons/a/ae/Aristotle_Altemps_Inv8575.jpg)\n",
    "\n",
    "*\"Pasaron los siglos como pasan las nubes sobre el cerro Nutibara, hasta que llegó el alemán Gottlob Frege en 1879, con su 'Begriffsschrift' (que pa' nombre tan complicado, ¿no?). Este señor inventó un lenguaje formal pa' escribir matemáticas como si fueran recetas de cocina, con sus cuantificadores y todo.\"*\n",
    "\n",
    "![Frege](https://upload.wikimedia.org/wikipedia/commons/5/57/Gottlob_Frege_1891_cropped.jpg)\n",
    "\n",
    "*\"Y no les cuento del joven Bertrand Russell, que descubrió una paradoja en la teoría de conjuntos que dejó temblando los cimientos de las matemáticas. Imagínese, ¡hasta le escribió una carta a Frege que casi lo hace llorar!\"*\n",
    "\n",
    "![Russell](https://upload.wikimedia.org/wikipedia/commons/1/18/Bertrand_Russell_1957.jpg)\n",
    "\n",
    "*\"Moraleja: hasta las ideas más firmes como roca, a veces necesitan ser repensadas. ¡Eso es pensamiento crítico, muchá!\"*\n",
    "\n",
    "## 7. Actividades de Aprendizaje\n",
    "\n",
    "### Actividad 1: Calculadora Casio 991 LA cw\n",
    "**Objetivo:** Evaluar expresiones lógicas con valores numéricos\n",
    "\n",
    "1. Ingresar a modo TABLE (MODE 7)\n",
    "2. Definir la función lógica: f(x) = (x > 5) AND (x < 10)\n",
    "3. Configurar:\n",
    "   - Start: 0\n",
    "   - End: 12\n",
    "   - Step: 1\n",
    "4. Analizar para qué valores de x la proposición es verdadera\n",
    "5. Relacionar con el cuantificador existencial: ∃x∈{0,...,12} | f(x)=True\n",
    "\n",
    "### Actividad 2: Crocodile Clips (Circuitos Lógicos)\n",
    "**Problema:** Modelar el circuito equivalente a ∀x (P(x) → Q(x))\n",
    "\n",
    "1. Construir un circuito que implemente la implicación lógica\n",
    "2. Usar interruptores para P(x) y Q(x)\n",
    "3. Conectar LEDs para visualizar el resultado\n",
    "4. Probar todas las combinaciones posibles (tabla de verdad)\n",
    "5. Discutir: ¿Cómo representaríamos \"para todo x\"?\n",
    "\n",
    "```python\n",
    "# Simulación equivalente en Python\n",
    "import pandas as pd\n",
    "import numpy as np\n",
    "\n",
    "def implica(p, q):\n",
    "    return not p or q\n",
    "\n",
    "data = {'P(x)': [True, True, False, False],\n",
    "        'Q(x)': [True, False, True, False]}\n",
    "df = pd.DataFrame(data)\n",
    "df['P→Q'] = df.apply(lambda row: implica(row['P(x)'], row['Q(x)']), axis=1)\n",
    "print(df)\n",
    "```\n",
    "\n",
    "### Actividad 3: Jupyter Notebook Interactivo\n",
    "```python\n",
    "import numpy as np\n",
    "import matplotlib.pyplot as plt\n",
    "from matplotlib.animation import FuncAnimation\n",
    "from IPython.display import HTML\n",
    "\n",
    "# Configuración inicial\n",
    "fig, ax = plt.subplots(figsize=(10, 6))\n",
    "ax.set_xlim(0, 10)\n",
    "ax.set_ylim(0, 1)\n",
    "ax.set_title('Visualización de Cuantificadores', fontsize=14)\n",
    "\n",
    "# Predicado P(x): x es número primo\n",
    "def P(x):\n",
    "    if x < 2:\n",
    "        return False\n",
    "    for i in range(2, int(np.sqrt(x)) + 1):\n",
    "        if x % i == 0:\n",
    "            return False\n",
    "    return True\n",
    "\n",
    "# Animación\n",
    "def animate(i):\n",
    "    ax.clear()\n",
    "    ax.set_xlim(0, 10)\n",
    "    ax.set_ylim(0, 1)\n",
    "    \n",
    "    x_vals = np.linspace(0.1, 9.9, 100)\n",
    "    y_vals = [0.5] * 100\n",
    "    \n",
    "    # Puntos que satisfacen P(x)\n",
    "    primes = [x for x in range(1, 11) if P(x)]\n",
    "    \n",
    "    # Dibujar todos los puntos\n",
    "    scat_all = ax.scatter(range(1, 11), [0.3]*10, color='blue', label='∀x∈{1,...,10}')\n",
    "    \n",
    "    # Resaltar los que satisfacen P(x)\n",
    "    scat_prime = ax.scatter(primes, [0.3]*len(primes), color='red', label='∃x P(x)')\n",
    "    \n",
    "    ax.legend()\n",
    "    \n",
    "    # Anotaciones\n",
    "    if i > 5:\n",
    "        ax.text(5, 0.8, f'∃x P(x) es {\"VERDADERO\" if primes else \"FALSO\"}', \n",
    "                fontsize=12, ha='center')\n",
    "    \n",
    "    return scat_all, scat_prime\n",
    "\n",
    "anim = FuncAnimation(fig, animate, frames=10, interval=1000)\n",
    "HTML(anim.to_jshtml())\n",
    "```\n",
    "\n",
    "## 8. Tareas de Ejercitación\n",
    "\n",
    "1. **Traducción lenguaje natural-formal**:\n",
    "   - \"Todos los perros son mamíferos\" → $∀x (Perro(x) → Mamífero(x))$\n",
    "   - \"Existe un número par mayor que 10\" → $∃x (Par(x) ∧ x>10)$\n",
    "\n",
    "2. **Negación de expresiones**:\n",
    "   - Negar $∀x (Estudiante(x) → Aprobado(x))$ y simplificar\n",
    "\n",
    "3. **Problema real**:\n",
    "   - Modelar con cuantificadores: \"En toda sociedad, existen líderes naturales\"\n",
    "\n",
    "4. **Programación**:\n",
    "   - Crear una función Python que evalúe si $∀x∈S, P(x)$ es verdadero\n",
    "\n",
    "```python\n",
    "def para_todo(S, P):\n",
    "    return all(P(x) for x in S)\n",
    "\n",
    "def existe(S, P):\n",
    "    return any(P(x) for x in S)\n",
    "\n",
    "# Ejemplo de uso\n",
    "numeros = range(1, 11)\n",
    "print(para_todo(numeros, lambda x: x > 0))  # True\n",
    "print(existe(numeros, lambda x: x % 7 == 0))  # True\n",
    "```\n",
    "\n",
    "## 9. Evaluación\n",
    "\n",
    "### Quiz Ejemplo:\n",
    "1. **Deportes**: Expresar formalmente: \"Todos los equipos tienen al menos un jugador estrella\"\n",
    "2. **Cotidiano**: Negar \"Todas las calles están mojadas\" y expresar en lenguaje natural\n",
    "3. **Teoría de Números**: Expresar el Teorema Fundamental de la Aritmética usando cuantificadores\n",
    "4. **Geometría**: Formalizar: \"Por dos puntos distintos pasa exactamente una recta\"\n",
    "5. **Cálculo**: Expresar la definición de límite ($\\lim_{x→a}f(x)=L$) con cuantificadores\n",
    "6. **Economía**: Modelar \"Para todo producto, existe un precio que maximiza las ganancias\"\n",
    "\n",
    "### Proyectos STEAMS:\n",
    "1. Analizar discursos políticos identificando estructuras lógicas\n",
    "2. Modelar leyes físicas (ej. 2da ley de Newton) con lógica de predicados\n",
    "3. Diseñar un juego interactivo para aprender cuantificadores\n",
    "4. Analizar bases de datos con queries que usen ∀ y ∃\n",
    "5. Crear arte generativo basado en expresiones lógicas\n",
    "6. Modelar ecosistemas con predicados (ej. ∀presa ∃depredador)\n",
    "7. Analizar circuitos electrónicos complejos\n",
    "8. Traducir teoremas matemáticos a lenguaje formal\n",
    "9. Diseñar un test de inteligencia lógica\n",
    "10. Crear un chatbot que responda preguntas usando lógica de predicados\n",
    "\n",
    "### Examen Parcial (Ejemplo):\n",
    "**Problema 1:**  \n",
    "Demuestre que: $¬∀x(P(x)→Q(x)) ≡ ∃x(P(x)∧¬Q(x))$\n",
    "\n",
    "**Problema 2:**  \n",
    "En una base de datos de empleados, modele: \"Todos los gerentes supervisan a algún empleado, pero ningún empleado es supervisado por todos los gerentes\"\n",
    "\n",
    "**Problema 3:**  \n",
    "Implemente en Python una función que reciba una fórmula cuantificada y un dominio finito, y devuelva su valor de verdad.\n",
    "\n",
    "## 10. Retroalimentación\n",
    "\n",
    "**Técnica \"El Semáforo\":**\n",
    "1. **Verde**: Conceptos claros (ej: estructura de los cuantificadores)\n",
    "2. **Amarillo**: Dudas parciales (ej: negación de cuantificadores anidados)\n",
    "3. **Rojo**: Dificultades (ej: aplicación en problemas de cálculo)\n",
    "\n",
    "**Rúbrica de Autoevaluación:**\n",
    "```python\n",
    "import pandas as pd\n",
    "\n",
    "rubrica = pd.DataFrame({\n",
    "    'Criterio': ['Traducción', 'Negación', 'Aplicación', 'Programación'],\n",
    "    'Excelente (4)': ['Traduce correctamente en ambos sentidos', \n",
    "                     'Niega correctamente expresiones complejas',\n",
    "                     'Aplica en 5 contextos diferentes',\n",
    "                     'Implementa todas las funciones requeridas'],\n",
    "    'Satisfactorio (3)': ['Traduce con pequeños errores',\n",
    "                         'Niega correctamente expresiones simples',\n",
    "                         'Aplica en 3 contextos',\n",
    "                         'Implementa funciones básicas'],\n",
    "    'En desarrollo (2)': ['Traduce solo con ayuda',\n",
    "                         'Comete errores al negar',\n",
    "                         'Aplica en 1 contexto',\n",
    "                         'Implementa parcialmente'],\n",
    "    'Inicial (1)': ['No logra traducir',\n",
    "                   'No niega correctamente',\n",
    "                   'No aplica',\n",
    "                   'No implementa']\n",
    "})\n",
    "\n",
    "display(rubrica)\n",
    "```\n",
    "\n",
    "## 11. Vocabulario Inglés\n",
    "\n",
    "**Términos clave:**\n",
    "1. Quantifiers / Cuantificadores\n",
    "2. Universal quantifier / Cuantificador universal ($\\forall$)\n",
    "3. Existential quantifier / Cuantificador existencial ($\\exists$)\n",
    "4. Predicate / Predicado\n",
    "5. Bound variable / Variable ligada\n",
    "6. Free variable / Variable libre\n",
    "7. Scope / Ámbito\n",
    "8. Well-formed formula / Fórmula bien formada\n",
    "9. Domain of discourse / Dominio de discurso\n",
    "10. Counterexample / Contraejemplo\n",
    "\n",
    "**Frases útiles:**\n",
    "- \"For all x, P of x holds\" / Para todo x, se cumple P de x\n",
    "- \"There exists some y such that Q of y\" / Existe algún y tal que Q de y\n",
    "- \"The negation transforms the universal into existential\" / La negación transforma el universal en existencial\n",
    "- \"Let's find a counterexample to the universal statement\" / Busquemos un contraejemplo para el enunciado universal\n",
    "\n",
    "## 12. Apéndice: Habilidades Blandas\n",
    "\n",
    "**Trabajo en Equipo:**\n",
    "- Técnica \"Puzzle\" para construir demostraciones complejas\n",
    "- Roles rotativos: traductor (lenguaje natural ↔ formal), programador, verificador\n",
    "\n",
    "**Inteligencia Emocional:**\n",
    "- Ejercicio \"El Error es Oportunidad\": Analizar errores históricos en lógica (ej. paradoja de Russell)\n",
    "- Técnica \"Antes-Durante-Después\" para manejar ansiedad en evaluaciones\n",
    "\n",
    "**Metacognición:**\n",
    "- Diario de aprendizaje: \"Hoy aprendí...\", \"Todavía me confunde...\", \"Preguntaré sobre...\"\n",
    "- Matriz KWL (Know, Want to know, Learned) para autorregular el aprendizaje\n",
    "\n",
    "## 13. Referentes Didácticos (APA)\n",
    "\n",
    "1. Duval, R. (2006). A cognitive analysis of problems of comprehension in a learning of mathematics. *Educational Studies in Mathematics*, *61*(1-2), 103-131. https://doi.org/10.1007/s10649-006-0400-z\n",
    "\n",
    "2. Wing, J. M. (2006). Computational thinking. *Communications of the ACM*, *49*(3), 33-35. https://doi.org/10.1145/1118178.1118215\n",
    "\n",
    "3. Schoenfeld, A. H. (2016). Learning to think mathematically: Problem solving, metacognition, and sense making in mathematics (Reprint). *Journal of Education*, *196*(2), 1-38. https://doi.org/10.1177/002205741619600202\n",
    "\n",
    "4. Boaler, J. (2016). Mathematical mindsets: Unleashing students' potential through creative math, inspiring messages and innovative teaching. Jossey-Bass.\n",
    "\n",
    "5. Polya, G. (1945). How to solve it. Princeton University Press.\n",
    "\n",
    "6. Harel, G., & Sowder, L. (2005). Advanced mathematical-thinking at any age: Its nature and its development. *Mathematical Thinking and Learning*, *7*(1), 27-50. https://doi.org/10.1207/s15327833mtl0701_3\n",
    "\n",
    "7. Lesh, R., & Doerr, H. M. (2003). Beyond constructivism: Models and modeling perspectives on mathematics problem solving, learning, and teaching. Lawrence Erlbaum Associates.\n",
    "\n",
    "8. Mason, J., Burton, L., & Stacey, K. (2010). Thinking mathematically (2nd ed.). Pearson.\n",
    "\n",
    "9. Sfard, A. (2008). Thinking as communicating: Human development, the growth of discourses, and mathematizing. Cambridge University Press.\n",
    "\n",
    "10. Zazkis, R., & Liljedahl, P. (2004). Understanding primes: The role of representation. *Journal for Research in Mathematics Education*, *35*(3), 164-186. https://doi.org/10.2307/30034911\n",
    "\n",
    "Este diseño integra los referentes teóricos mencionados, especialmente:\n",
    "- Duval (representaciones múltiples) al usar código, gráficos y lenguaje natural\n",
    "- Wing (pensamiento computacional) en las actividades de programación\n",
    "- Boaler (mentalidad matemática) en el enfoque de errores como oportunidades\n",
    "- Polya (resolución de problemas) en la estructura de las actividades"
   ]
  },
  {
   "cell_type": "markdown",
   "id": "862b9958",
   "metadata": {},
   "source": [
    "\n",
    "# Cuestionario diseñado para ayudar a tus estudiantes a fortalecer su comprensión de los cuantificadores en lógica de predicados. "
   ]
  },
  {
   "cell_type": "markdown",
   "id": "35bf51a9",
   "metadata": {},
   "source": [
    "Este cuestionario fomenta el uso de diferentes habilidades, como expresar, ejemplificar, y negar proposiciones cuantificadas de manera verbal y gráfica.\n",
    "\n",
    "---\n",
    "\n",
    "### Cuestionario: Cuantificadores en Lógica de Predicados\n"
   ]
  },
  {
   "cell_type": "markdown",
   "id": "3640f0b6",
   "metadata": {},
   "source": [
    "\n",
    "1. **Expresar Verbalmente**  \n",
    "   Sea la proposición $P(x)$: \"$x \\in \\mathbb{N}$ y es mayor que 5\".\n",
    "   - a) Escribe en lenguaje natural la proposición cuantificada $ \\forall x \\, P(x)$ para $x$ en el conjunto de los números naturales.\n",
    "   - b) Expresa en lenguaje natural la proposición cuantificada $\\exists x \\, P(x)$ para $x$ en el conjunto de los números naturales.\n"
   ]
  },
  {
   "cell_type": "markdown",
   "id": "e5df23eb",
   "metadata": {},
   "source": [
    "\n",
    "2. **Representación Gráfica de Cuantificadores**  \n",
    "   Considera la proposición $Q(y)$: \"y es un número impar\".\n",
    "   - a) Dibuja una representación gráfica en la que se muestre que \"existe un número impar en el conjunto de los números menores que 10\". Usa símbolos para representar el conjunto y los elementos.\n",
    "   - b) Dibuja una representación gráfica que muestre \"todos los números del conjunto $\\{1, 2, 3, 4, 5\\}$ son impares\".\n"
   ]
  },
  {
   "cell_type": "markdown",
   "id": "604a8113",
   "metadata": {},
   "source": [
    "\n",
    "3. **Negación de Cuantificadores**  \n",
    "   Sea la proposición \\( R(z) \\): \"z es divisible por 3\".\n",
    "   - a) Escribe la negación de \\( \\forall z \\, R(z) \\) en lenguaje lógico y luego exprésala en lenguaje natural.\n",
    "   - b) Escribe la negación de \\( \\exists z \\, R(z) \\) en lenguaje lógico y luego exprésala en lenguaje natural.\n",
    "   - c) Explica el significado de la negación \\( \\forall z \\, \\neg R(z) \\) en tus propias palabras.\n",
    "\n",
    "4. **Ejemplificar Cuantificadores**  \n",
    "   Sea la proposición \\( S(w) \\): \"w es un número primo\".\n",
    "   - a) Da un ejemplo concreto que satisfaga la proposición \\( \\exists w \\, S(w) \\) en el conjunto de los números enteros.\n",
    "   - b) Da un ejemplo concreto que satisfaga la proposición \\( \\forall w \\in \\{2, 3, 5\\}, S(w) \\).\n"
   ]
  },
  {
   "cell_type": "markdown",
   "id": "9747ab36",
   "metadata": {},
   "source": [
    "\n",
    "5. **Cuantificadores Combinados**  \n",
    "   Considera la proposición \\( T(x, y) \\): \"x es mayor que y\".\n",
    "   - a) Expresa en lenguaje natural la proposición \\( \\forall x \\, \\exists y \\, T(x, y) \\).\n",
    "   - b) Expresa en lenguaje natural la proposición \\( \\exists x \\, \\forall y \\, T(x, y) \\).\n",
    "   - c) Dibuja una representación gráfica sencilla para la proposición \\( \\forall x \\, \\exists y \\, T(x, y) \\), asumiendo \\( x \\) e \\( y \\) en el conjunto de los números naturales del 1 al 5.\n"
   ]
  },
  {
   "cell_type": "markdown",
   "id": "083b283b",
   "metadata": {},
   "source": [
    "\n",
    "6. **Identificación de Cuantificadores en Contextos Reales**  \n",
    "   Lee la siguiente afirmación: \"Para cada persona, existe al menos una comida que le gusta\".\n",
    "   - a) Escribe esta afirmación en notación lógica de predicados, usando \\( P(p, c) \\) para representar \"a la persona \\( p \\) le gusta la comida \\( c \\)\".\n",
    "   - b) Escribe la negación de esta proposición en notación lógica y en lenguaje natural.\n",
    "   - c) Explica cómo podrías representar esta proposición en una gráfica o tabla.\n",
    "\n",
    "7. **Proposiciones Universales y Existenciales en Matemáticas**  \n",
    "   Considera la proposición: \"Todo número par mayor que 2 es la suma de dos números primos\" (conjetura de Goldbach).\n",
    "   - a) Escribe esta proposición usando cuantificadores y la notación lógica de predicados.\n",
    "   - b) Describe en palabras la negación de esta proposición.\n",
    "   - c) Da un ejemplo de un caso particular que se cumpla o no se cumpla para ilustrar la proposición.\n"
   ]
  },
  {
   "cell_type": "markdown",
   "id": "67db8f10",
   "metadata": {},
   "source": [
    "\n",
    "8. **Transformación entre Cuantificadores y Expresiones Verbales**  \n",
    "   Escribe en notación lógica las siguientes proposiciones:\n",
    "   - a) \"Existe un número entero positivo que es divisible por 5 y es menor que 10\".\n",
    "   - b) \"Para cada número entero, su cuadrado es no negativo\".\n",
    "   - c) \"Hay un número entero cuya raíz cuadrada no es un número entero\".\n",
    "\n",
    "9. **Aplicación de Cuantificadores en Problemas Matemáticos**  \n",
    "   Considera el conjunto de proposiciones relacionadas con divisibilidad.\n",
    "   - a) Expresa en lenguaje lógico: \"Para cada número entero par, existe un múltiplo de 3 que es mayor que dicho número\".\n",
    "   - b) Da un ejemplo de un número que satisfaga esta proposición.\n",
    "   - c) Representa gráficamente el conjunto de números que cumplen esta propiedad para los números pares menores que 10.\n",
    "\n",
    "10. **Cuantificadores en Afirmaciones de Conjuntos**  \n",
    "    Sean los conjuntos \\( A = \\{1, 2, 3, 4\\} \\) y \\( B = \\{3, 4, 5, 6\\} \\).\n",
    "    - a) Usa cuantificadores para expresar la proposición: \"Todo elemento de \\( A \\) es también un elemento de \\( B \\)\".\n",
    "    - b) Expresa la negación de esta proposición en lenguaje natural.\n",
    "    - c) Dibuja un diagrama de Venn que muestre si la proposición original es verdadera o falsa.\n",
    "\n",
    "---\n",
    "\n",
    "Este cuestionario les permitirá a los estudiantes desarrollar habilidades en el manejo de cuantificadores desde diferentes perspectivas (verbal, lógica y gráfica), profundizando su comprensión y facilitando su aplicación en problemas concretos."
   ]
  },
  {
   "cell_type": "markdown",
   "id": "8e457ea2",
   "metadata": {},
   "source": [
    "# Definiciones y Resultados científicos a comprender y memorizar \n",
    "\n",
    "[Primera grabación en Vocaroo]()"
   ]
  },
  {
   "cell_type": "markdown",
   "id": "ca7261b1",
   "metadata": {
    "slideshow": {
     "slide_type": "slide"
    }
   },
   "source": [
    "## Establecimiento de prerrequisitos conceptuales para alcanzar el objetivo de aprendizaje trazado.   \n",
    "\n",
    "(Elabore una lista de preguntas al rededor de los conceptos que consideres necesarios para empezar la clase).  \n",
    "\n",
    "1. El teorema de monotonía de la integral definida: Sea $f$ una función continua en $[a,b]$, entonces: \n",
    "\n",
    "$$ f(x) > 0 \\Rightarrow \\int_{a}^{b}  f(x) dx > 0 $$\n",
    "\n",
    "\n",
    "2. \n",
    "3. \n",
    "4. "
   ]
  },
  {
   "cell_type": "markdown",
   "id": "2298e976",
   "metadata": {
    "slideshow": {
     "slide_type": "slide"
    }
   },
   "source": [
    "# Para el diseño de la clase tenga en cuenta algunos problemas de aprendizaje"
   ]
  },
  {
   "cell_type": "markdown",
   "id": "523d3acf",
   "metadata": {
    "slideshow": {
     "slide_type": "slide"
    }
   },
   "source": [
    "* Para enseñar sobre cómo formar o enunciar un fenómeno a través de proposiciones cuantificadas, conviene utilizar animaciones con ipywidgets  \n",
    "\n",
    "\n"
   ]
  },
  {
   "cell_type": "markdown",
   "id": "a40a4704",
   "metadata": {
    "slideshow": {
     "slide_type": "slide"
    }
   },
   "source": [
    "## Secuencia conceptual introductoria a la clase"
   ]
  },
  {
   "cell_type": "markdown",
   "id": "8853d874",
   "metadata": {},
   "source": [
    "## El componente histórico y epistemológico  \n"
   ]
  },
  {
   "cell_type": "markdown",
   "id": "3601cd7d",
   "metadata": {},
   "source": [
    "\n",
    "La temática de los cuantificadores en lógica de predicados tiene raíces profundas en la historia de la lógica y se ha desarrollado como un pilar fundamental en matemáticas y filosofía. A continuación, se presentan algunos elementos históricos y epistemológicos de los cuantificadores, junto con una explicación sobre su implementación en Python usando las funciones `any()` y `all()`.\n",
    "\n",
    "---\n"
   ]
  },
  {
   "cell_type": "markdown",
   "id": "7645ad12",
   "metadata": {},
   "source": [
    "\n",
    "### Elementos Históricos y Epistemológicos de los Cuantificadores en Lógica de Predicados\n"
   ]
  },
  {
   "cell_type": "markdown",
   "id": "316127e7",
   "metadata": {},
   "source": [
    "\n",
    "1. **Origen de la Lógica de Predicados**  \n",
    "   La lógica de predicados (o lógica de primer orden) es una extensión de la lógica proposicional, que se limita a proposiciones simples. Este enfoque fue ampliamente desarrollado a finales del siglo XIX y principios del siglo XX por lógicos como **Gottlob Frege**, **Bertrand Russell** y **David Hilbert**. Frege, en particular, es conocido por formalizar la lógica cuantificacional en su obra *Begriffsschrift* (1879), que marca un avance significativo al introducir símbolos para cuantificadores universales y existenciales.\n"
   ]
  },
  {
   "cell_type": "markdown",
   "id": "30a46505",
   "metadata": {},
   "source": [
    "\n",
    "2. **Frege y el Cuantificador Universal**  \n",
    "   Frege fue el primero en proponer un sistema lógico formal que permitiera la representación de proposiciones cuantificadas. Utilizó una notación que hoy entendemos como el cuantificador universal (para todo) y el cuantificador existencial (existe). Su trabajo sentó las bases para que lógicos posteriores pudieran explorar las conexiones entre la lógica formal y la teoría de conjuntos.\n"
   ]
  },
  {
   "cell_type": "markdown",
   "id": "143c7d62",
   "metadata": {},
   "source": [
    "\n",
    "3. **Cuantificadores y la Matemática de la Teoría de Conjuntos**  \n",
    "   La teoría de conjuntos, desarrollada principalmente por **Georg Cantor**, proporcionó un contexto en el que los cuantificadores cobraron un significado más profundo, permitiendo expresar relaciones dentro de conjuntos de objetos. La teoría de conjuntos y la lógica de predicados se complementan y enriquecen mutuamente, ya que los cuantificadores permiten hacer afirmaciones sobre todos los elementos de un conjunto o sobre la existencia de algún elemento que cumpla una cierta propiedad.\n",
    "\n",
    "4. **El Cuantificador Existencial y el Principio de Prueba por Contradicción**  \n",
    "   La lógica de predicados introdujo el concepto del cuantificador existencial (\\( \\exists \\)), que se utiliza para hacer afirmaciones de existencia. En matemáticas, este cuantificador tiene implicaciones prácticas en el método de prueba por contradicción, donde se asume la negación de una afirmación existencial y se llega a una contradicción.\n",
    "\n",
    "5. **El Rol de la Lógica de Primer Orden en la Computación**  \n",
    "   Con el desarrollo de la computación en el siglo XX, la lógica de predicados se convirtió en un marco esencial para el diseño de algoritmos y lenguajes de programación, ya que permitía formalizar y evaluar condiciones sobre colecciones de datos. Los cuantificadores también son cruciales en los sistemas de bases de datos y en la inteligencia artificial para expresar propiedades y condiciones sobre los datos.\n",
    "\n",
    "6. **Influencia de Alfred Tarski y la Semántica de Modelos**  \n",
    "   **Alfred Tarski** desarrolló la semántica de modelos, que ofrece un enfoque para interpretar los cuantificadores en términos de conjuntos y relaciones. En la semántica de modelos, se entiende que una proposición es verdadera en un modelo si existe una interpretación que satisfaga las condiciones definidas. Esto facilitó el entendimiento de cómo cuantificadores universales y existenciales pueden aplicarse en estructuras matemáticas y en el diseño de programas.\n",
    "\n",
    "### Implementación en Python: Cuantificadores con `any()` y `all()`\n",
    "\n",
    "Python proporciona dos funciones integradas, `any()` y `all()`, que implementan de manera práctica y eficiente los cuantificadores existencial y universal sobre iterables. Estas funciones son herramientas fundamentales en la programación funcional y en la evaluación de condiciones sobre colecciones de datos.\n",
    "\n",
    "1. **Cuantificador Existencial con `any()`**  \n",
    "   La función `any()` evalúa si **al menos un elemento de un iterable cumple con una condición dada**. Es equivalente al cuantificador existencial \\( \\exists x \\, P(x) \\), que afirma que existe un elemento \\( x \\) en un conjunto tal que \\( P(x) \\) es verdadero.\n",
    "\n",
    "   - **Ejemplo**: Determinar si existe un número par en una lista.\n",
    "     ```python\n",
    "     numeros = [1, 3, 5, 7, 8]\n",
    "     hay_par = any(n % 2 == 0 for n in numeros)  # Devuelve True porque 8 es par.\n",
    "     ```\n",
    "\n",
    "2. **Cuantificador Universal con `all()`**  \n",
    "   La función `all()` verifica si **todos los elementos de un iterable cumplen con una condición dada**. Es equivalente al cuantificador universal \\( \\forall x \\, P(x) \\), que significa que para todo \\( x \\) en un conjunto, \\( P(x) \\) es verdadero.\n",
    "\n",
    "   - **Ejemplo**: Comprobar si todos los números en una lista son positivos.\n",
    "     ```python\n",
    "     numeros = [1, 2, 3, 4, 5]\n",
    "     todos_positivos = all(n > 0 for n in numeros)  # Devuelve True si todos los números son positivos.\n",
    "     ```\n",
    "\n",
    "3. **Negación de Cuantificadores con `any()` y `all()`**  \n",
    "   La negación de un cuantificador universal se convierte en un cuantificador existencial y viceversa. Esto se traduce en Python de la siguiente manera:\n",
    "   \n",
    "   - **Negación del Cuantificador Universal**: La expresión \\( \\neg(\\forall x \\, P(x)) \\) se convierte en \\( \\exists x \\, \\neg P(x) \\), que se implementa como `not all()`.\n",
    "     ```python\n",
    "     numeros = [1, 2, -3, 4]\n",
    "     no_todos_positivos = not all(n > 0 for n in numeros)  # Devuelve True porque hay un número negativo.\n",
    "     ```\n",
    "   \n",
    "   - **Negación del Cuantificador Existencial**: La expresión \\( \\neg(\\exists x \\, P(x)) \\) se convierte en \\( \\forall x \\, \\neg P(x) \\), que se implementa como `not any()`.\n",
    "     ```python\n",
    "     numeros = [1, 3, 5, 7]\n",
    "     no_hay_pares = not any(n % 2 == 0 for n in numeros)  # Devuelve True porque no hay números pares.\n",
    "     ```\n",
    "\n",
    "### Aplicaciones de `any()` y `all()` en Epistemología y Modelado Lógico\n",
    "\n",
    "1. **Evaluación de Conjeturas Matemáticas**  \n",
    "   Los cuantificadores en Python permiten formular y probar conjeturas de manera simple. Por ejemplo, los estudiantes pueden usar `all()` para verificar si todos los elementos de una lista cumplen con una propiedad matemática.\n",
    "\n",
    "2. **Comprobación de Condiciones en Bases de Datos**  \n",
    "   En la programación, `any()` y `all()` permiten verificar condiciones en bases de datos o listas de objetos, como si alguna o todas las entradas de una tabla cumplen con ciertas restricciones, facilitando aplicaciones en lógica difusa y en sistemas de recomendación.\n",
    "\n",
    "3. **Epistemología Computacional y Verificación Automática**  \n",
    "   Desde una perspectiva epistemológica, `any()` y `all()` se relacionan con cómo formulamos y verificamos conocimiento computacional. Permiten a los estudiantes entrenarse en la identificación y prueba de afirmaciones, desarrollando habilidades críticas para la modelación lógica y el análisis de datos.\n",
    "\n",
    "Estos conceptos históricos, junto con las herramientas de Python, pueden ayudar a tus estudiantes a entender y aplicar cuantificadores en problemas prácticos y lógicos, facilitando el paso del pensamiento lógico al pensamiento computacional."
   ]
  },
  {
   "cell_type": "markdown",
   "id": "e3ffa494",
   "metadata": {},
   "source": [
    "# Vocabulary   \n",
    "\n",
    "1. over size:  larger than normal size-   bigger than usual\n",
    "\n",
    "\n",
    "2. for all:   for every one-   for each one\n",
    "\n",
    "3. any:   any one of a number of things-   any one of several things\n",
    "\n",
    "4.  \n",
    "5.  \n",
    "6.  "
   ]
  },
  {
   "cell_type": "code",
   "execution_count": 22,
   "id": "bc0addfe",
   "metadata": {},
   "outputs": [
    {
     "data": {
      "text/plain": [
       "'\\\\Users\\\\marco\\\\Documentos\\\\docencia\\\\fundamentos_logica\\\\Lógica de predicados.pdf'"
      ]
     },
     "execution_count": 22,
     "metadata": {},
     "output_type": "execute_result"
    }
   ],
   "source": [
    "# mapa conceptual para cada clase\n",
    "from graphviz import Digraph\n",
    "\n",
    "# Crear un nuevo grafo dirigido\n",
    "dot = Digraph()\n",
    "\n",
    "# Añadir nodos y relaciones al grafo\n",
    "main_concept = 'Lógica de predicados'\n",
    "dot.node('A', main_concept)\n",
    "\n",
    "# Nodos secundarios relacionados con cuantificadores\n",
    "dot.node('B', 'Cuantificadores')\n",
    "dot.node('C', 'Cuantificador Universal ∀')\n",
    "dot.node('D', 'Cuantificador Existencial ∃')\n",
    "\n",
    "# Nodos de objetivos de clase\n",
    "dot.node('E', 'Interpretar proposiciones cuantificadas')\n",
    "dot.node('F', 'Construir proposiciones cuantificadas')\n",
    "dot.node('G', 'Determinar valor de verdad')\n",
    "\n",
    "# Nodos para herramientas usadas\n",
    "dot.node('H', 'Jupyter Notebooks')\n",
    "dot.node('I', 'Markdown, LaTeX, Python')\n",
    "\n",
    "# Definir las relaciones entre los nodos\n",
    "dot.edges(['AB', 'BC', 'BD'])\n",
    "dot.edge('B', 'E', label='Objetivo 1')\n",
    "dot.edge('B', 'F', label='Objetivo 2')\n",
    "dot.edge('B', 'G', label='Objetivo 3')\n",
    "dot.edge('A', 'H', label='Herramienta')\n",
    "dot.edge('A', 'I', label='Lenguajes y Tecnologías')\n",
    "\n",
    "# Guardar el grafo como un archivo de imagen\n",
    "dot.render(filename=main_concept, format='png', cleanup=True, \\\n",
    "           directory='/Users/marco/Documentos/docencia/fundamentos_logica/')\n",
    "\n",
    "# Visualizar el grafo\n",
    "dot.view()\n"
   ]
  },
  {
   "cell_type": "markdown",
   "id": "10e55ccf",
   "metadata": {},
   "source": [
    "# Lógica de predicados: Cuantificadores"
   ]
  },
  {
   "cell_type": "markdown",
   "id": "239427f7",
   "metadata": {},
   "source": [
    "Hemos visto que $x + 3 = 7$ no es una proposición sino que es una función proposicional $P(x)$.   \n",
    "\n",
    "$$ P(x): x+3 = 7 $$"
   ]
  },
  {
   "cell_type": "markdown",
   "id": "ea018d2d",
   "metadata": {},
   "source": [
    "Toda función proposicional $P(x)$ se puede convertir es proposición de dos modos:  \n",
    "\n",
    "− Sustituyendo la variable $x$ por una constante de un conjunto referencial ($\\mathbb{N}, \\mathbb{Z}$, etc) o  \n",
    "− Cuantificando esa expresión.  \n",
    "\n",
    "Cuando en el lenguaje ordinario utilizamos las expresiones ningún, todos, algunos, cada, existe al menos, estamos hablando de proposiciones cuantificadas. "
   ]
  },
  {
   "cell_type": "markdown",
   "id": "44df3d5c",
   "metadata": {},
   "source": [
    "Hay dos tipos de cuantificadores:  \n",
    "\n",
    "− Existencial se denota por $\\exists x$ se lee “algún $x$”, “por lo menos un $x$”, “hay un $x$”, “existe al\n",
    "menos un $x$”.  \n",
    "\n",
    "− Universal se denota por $\\forall x$ se lee “todo $x$”, “cualquier $x$”, “para $x$”, “cada $x$”"
   ]
  },
  {
   "cell_type": "markdown",
   "id": "c036b137",
   "metadata": {},
   "source": [
    "Aquí tienes una tabla que relaciona los tipos de cuantificadores con su representación simbólica en lenguaje LaTeX, delimitadas entre signos de dólar:\n",
    "\n",
    "| **Tipo de Cuantificador** | **Descripción**              | **Representación Simbólica (LaTeX)**      |\n",
    "|---------------------------|------------------------------|-------------------------------------------|\n",
    "| Cuantificador universal    | \"Para todo\"                  | $ \\forall x \\in A, P(x) $                 |\n",
    "| Cuantificador existencial  | \"Existe al menos uno\"        | $ \\exists x \\in A, P(x) $                 |\n",
    "| Cuantificador existencial único | \"Existe uno y solo uno\"  | $ \\exists ! x \\in A, P(x) $               |\n",
    "| Cuantificador universal-negado | \"No para todo\"          | $ \\neg \\forall x \\in A, P(x) $            |\n",
    "| Cuantificador existencial-negado | \"No existe ninguno\"    | $ \\neg \\exists x \\in A, P(x) $            |\n",
    "\n",
    "Cada fila de la tabla relaciona un tipo de cuantificador con su respectiva descripción y representación simbólica en LaTeX."
   ]
  },
  {
   "cell_type": "markdown",
   "id": "0b766d90",
   "metadata": {},
   "source": [
    "### Ejemplo 1.13\n",
    "Sea $D = \\{ 1, 2, 3,\\ldots, 10 \\}$ y sea $P(x): x < 7$ una función proposicional.    \n",
    "\n",
    "$P(2): 2 < 7$ es una proposición verdadera.\n",
    "$P(9): 9 > 7$ es una proposición falsa.\n",
    "Todos los elementos de $D$ son menores que 7 es una proposición falsa.\n",
    "Algunos de los elementos de $D$ son menores que 7 es una proposición verdadera.\n",
    "El conjunto solución es $\\{1,2,3,4,5,6\\}$."
   ]
  },
  {
   "cell_type": "markdown",
   "id": "da9c5432",
   "metadata": {},
   "source": [
    "Aquí tienes el lenguaje LaTeX para la negación de proposiciones y de proposiciones cuantificadas usando la ley de De Morgan, junto con ejemplos aplicados a diferentes áreas de matemáticas y scripts en Python para el aprendizaje experiencial.\n"
   ]
  },
  {
   "cell_type": "markdown",
   "id": "67c60a91",
   "metadata": {},
   "source": [
    "\n",
    "### Negación de proposiciones usando la ley de De Morgan\n",
    "\n",
    "La ley de De Morgan establece que:\n",
    "\n",
    "$$ \\neg (P \\land Q) \\equiv (\\neg P) \\lor (\\neg Q) $$  \n",
    "$$ \\neg (P \\lor Q) \\equiv (\\neg P) \\land (\\neg Q) $$\n"
   ]
  },
  {
   "cell_type": "markdown",
   "id": "26d6aa00",
   "metadata": {},
   "source": [
    "\n",
    "### Negación de proposiciones cuantificadas usando la ley de De Morgan\n",
    "\n",
    "Para proposiciones cuantificadas, la negación de un cuantificador se aplica de la siguiente manera:\n",
    "\n",
    "- Negación de un cuantificador universal:\n",
    "  \n",
    "  $$ \\neg (\\forall x \\in A, P(x)) \\equiv \\exists x \\in A, \\neg P(x) $$\n",
    "\n",
    "- Negación de un cuantificador existencial:\n",
    "  \n",
    "  $$ \\neg (\\exists x \\in A, P(x)) \\equiv \\forall x \\in A, \\neg P(x) $$\n"
   ]
  },
  {
   "cell_type": "markdown",
   "id": "f24bd3af",
   "metadata": {},
   "source": [
    "\n",
    "### Ejemplos de aplicación\n",
    "\n",
    "#### 1. **En el conjunto de los números naturales $\\mathbb{N}$**\n",
    "\n",
    "- **Proposición:** \"Todos los números naturales son mayores que 0.\"\n",
    "  \n",
    "  $$ \\forall n \\in \\mathbb{N}, n > 0 $$\n",
    "\n",
    "- **Negación usando la ley de De Morgan:**\n",
    "\n",
    "  $$ \\neg (\\forall n \\in \\mathbb{N}, n > 0) \\equiv \\exists n \\in \\mathbb{N}, n \\leq 0 $$\n",
    "\n",
    "  Esto significa que \"Existe un número natural que no es mayor que 0.\"\n"
   ]
  },
  {
   "cell_type": "markdown",
   "id": "117e3a93",
   "metadata": {},
   "source": [
    "\n",
    "#### 2. **En el conjunto de los números enteros $\\mathbb{Z}$**\n",
    "\n",
    "- **Proposición:** \"Existe un número entero que es mayor que 100.\"\n",
    "  \n",
    "  $$ \\exists z \\in \\mathbb{Z}, z > 100 $$\n",
    "\n",
    "- **Negación usando la ley de De Morgan:**\n",
    "\n",
    "  $$ \\neg (\\exists z \\in \\mathbb{Z}, z > 100) \\equiv \\forall z \\in \\mathbb{Z}, z \\leq 100 $$\n",
    "\n",
    "  Esto significa que \"Todos los números enteros son menores o iguales que 100.\"\n"
   ]
  },
  {
   "cell_type": "markdown",
   "id": "d53ee79a",
   "metadata": {},
   "source": [
    "\n",
    "#### 3. **En el cálculo diferencial**\n",
    "\n",
    "- **Proposición:** \"La derivada de una función es siempre positiva en el intervalo $(a, b)$.\"\n",
    "  \n",
    "  $$ \\forall x \\in (a, b), f'(x) > 0 $$\n",
    "\n",
    "- **Negación usando la ley de De Morgan:**\n",
    "\n",
    "  $$ \\neg (\\forall x \\in (a, b), f'(x) > 0) \\equiv \\exists x \\in (a, b), f'(x) \\leq 0 $$\n",
    "\n",
    "  Esto significa que \"Existe un punto en el intervalo $(a, b)$ donde la derivada es menor o igual que 0.\"\n"
   ]
  },
  {
   "cell_type": "markdown",
   "id": "0dd326dd",
   "metadata": {},
   "source": [
    "\n",
    "#### 4. **En el cálculo integral**\n",
    "\n",
    "- **Proposición:** \"Existe un valor de $x$ donde la integral de $f(t)$ en $[a, x]$ es mayor que 0.\"\n",
    "  \n",
    "  $$ \\exists x \\in [a, b], \\int_a^{x} f(t) dt > 0 $$  \n",
    "  \n",
    "La siguientte animación le da sentido y veracidad a esta proposición cuantificada.   \n",
    "\n",
    "- **Negación usando la ley de De Morgan:**\n",
    "\n",
    "  $$ \\neg (\\exists x \\in [a, b], \\int_a^x f(t) dt > 0) \\equiv \\forall x \\in [a, b], \\int_a^x f(t) dt \\leq 0 $$\n",
    "\n",
    "  Esto significa que \"Para todo $x$ en el intervalo $[a, b]$, la integral es menor o igual que 0.\"\n"
   ]
  },
  {
   "cell_type": "code",
   "execution_count": 1,
   "id": "21a0116a",
   "metadata": {},
   "outputs": [
    {
     "data": {
      "application/vnd.jupyter.widget-view+json": {
       "model_id": "639d7cd4c0f14562bbb75db96ccf9efa",
       "version_major": 2,
       "version_minor": 0
      },
      "text/plain": [
       "interactive(children=(FloatSlider(value=0.0, description='x', max=3.0), Output()), _dom_classes=('widget-inter…"
      ]
     },
     "metadata": {},
     "output_type": "display_data"
    },
    {
     "data": {
      "text/plain": [
       "<function __main__.trazar_region_sombreada(x=0)>"
      ]
     },
     "execution_count": 1,
     "metadata": {},
     "output_type": "execute_result"
    }
   ],
   "source": [
    "# Veamos una animación para ver la existencia de un x tal que la integral hasta este punto sea positiva.  \n",
    "# Esta anuimación es para mostrar que si puede existir al menos un x in [0,3] tal que int_0^x f(t) dt > 0   \n",
    "\n",
    "import numpy as np \n",
    "import matplotlib.pyplot as plt\n",
    "from ipywidgets import interact  \n",
    "\n",
    "def trazar_region_sombreada(x = 0):\n",
    "    plt.figure(figsize = (6,4)) \n",
    "    plt.title(r'Integral hasta $x$ de $f(t) = t-1$')\n",
    "    plt.xlabel('t')\n",
    "    plt.ylabel('f(t)')\n",
    "    plt.axis('equal') \n",
    "    plt.grid(alpha = 0.3)  \n",
    "    paso =  0.1\n",
    "    t = np.arange(0,3+paso, paso)\n",
    "    t_region = np.arange(0,x+paso, paso)\n",
    "    f = lambda t: t-1\n",
    "    F = lambda t: t**2/2 - t\n",
    "    plt.plot(t,f(t))\n",
    "    plt.fill_between(t_region, f(t_region), color = 'red', label = f'Integral en [0,x] = {F(x):.1f}') \n",
    "    plt.axhline(y = 0, color = 'green')\n",
    "    plt.axvline(x = 0, ymin = -1, ymax = 2, color = 'green')\n",
    "    plt.legend()\n",
    "    plt.show()\n",
    "    \n",
    "    \n",
    "interact(trazar_region_sombreada, x = (0,3, 0.1))     "
   ]
  },
  {
   "cell_type": "markdown",
   "id": "e418abbe",
   "metadata": {},
   "source": [
    "\n",
    "### Scripts de Python para un aprendizaje experiencial sobre cuantificadores\n",
    "\n",
    "Para que los estudiantes puedan interactuar con los cuantificadores de manera experiencial, podemos usar Python. A continuación se incluyen scripts que permiten explorar el comportamiento de los cuantificadores.\n",
    "\n",
    "#### 1. **Cuantificador Universal en Python (Todos los elementos de una lista son mayores que un valor)**\n"
   ]
  },
  {
   "cell_type": "code",
   "execution_count": 3,
   "id": "b77ee2fc",
   "metadata": {},
   "outputs": [
    {
     "name": "stdout",
     "output_type": "stream",
     "text": [
      "Todos los números son mayores que 0: True\n"
     ]
    }
   ],
   "source": [
    "# Una función que revisa si una colección de números está por encima de un umbral dado\n",
    "def all_greater_than(lst, threshold):\n",
    "    return all(x > threshold for x in lst)\n",
    "\n",
    "# Ejemplo\n",
    "naturals = [1, 2, 3, 4, 5]\n",
    "threshold = 0\n",
    "print(f\"Todos los números son mayores que {threshold}: {all_greater_than(naturals, threshold)}\")\n",
    "\n"
   ]
  },
  {
   "cell_type": "markdown",
   "id": "f2309fa2",
   "metadata": {},
   "source": [
    "\n",
    "#### 2. **Cuantificador Existencial en Python (Existe al menos un elemento mayor que un valor)**\n"
   ]
  },
  {
   "cell_type": "code",
   "execution_count": 45,
   "id": "e19a5a55",
   "metadata": {},
   "outputs": [
    {
     "name": "stdout",
     "output_type": "stream",
     "text": [
      "Existe un número mayor que 100: False\n"
     ]
    }
   ],
   "source": [
    "\n",
    "def exists_greater_than(lst, threshold):\n",
    "    return any(x > threshold for x in lst)\n",
    "\n",
    "# Ejemplo\n",
    "integers = [-10, 0, 50, 100]\n",
    "threshold = 100\n",
    "print(f\"Existe un número mayor que {threshold}: {exists_greater_than(integers, threshold)}\")\n",
    "\n"
   ]
  },
  {
   "cell_type": "markdown",
   "id": "571bfd35",
   "metadata": {},
   "source": [
    "\n",
    "#### 3. **Aplicación de la ley de De Morgan en Python (Negación de un cuantificador universal)**\n"
   ]
  },
  {
   "cell_type": "code",
   "execution_count": 44,
   "id": "39e2e6e5",
   "metadata": {},
   "outputs": [
    {
     "name": "stdout",
     "output_type": "stream",
     "text": [
      "Negación del cuantificador universal (No todos mayores que 0): False\n"
     ]
    }
   ],
   "source": [
    "\n",
    "def negation_universal(lst, threshold):\n",
    "    return any(x <= threshold for x in lst)\n",
    "\n",
    "# Ejemplo: \"No todos los números son mayores que el umbral\"\n",
    "naturals = [1, 2, 3, 4, 5]\n",
    "threshold = 0\n",
    "print(f\"Negación del cuantificador universal (No todos mayores que {threshold}): {negation_universal(naturals, threshold)}\")\n",
    "\n"
   ]
  },
  {
   "cell_type": "markdown",
   "id": "9cef1a92",
   "metadata": {},
   "source": [
    "\n",
    "#### 4. **Aplicación de la ley de De Morgan en Python (Negación de un cuantificador existencial)**\n"
   ]
  },
  {
   "cell_type": "code",
   "execution_count": 4,
   "id": "103589be",
   "metadata": {},
   "outputs": [
    {
     "name": "stdout",
     "output_type": "stream",
     "text": [
      "Negación del cuantificador existencial (Ningún número mayor que 100): True\n"
     ]
    }
   ],
   "source": [
    "\n",
    "def negation_existential(lst, threshold):\n",
    "    return all(x <= threshold for x in lst)\n",
    "\n",
    "# Ejemplo: \"No existe ningún número mayor que el umbral\"\n",
    "integers = [-10, 0, 50, 100]\n",
    "threshold = 100\n",
    "print(f\"Negación del cuantificador existencial (Ningún número mayor que {threshold}): {negation_existential(integers, threshold)}\")\n",
    "\n"
   ]
  },
  {
   "cell_type": "markdown",
   "id": "5dd779df",
   "metadata": {},
   "source": [
    "\n",
    "Estos ejemplos en Python permiten a los estudiantes practicar cuantificadores y aplicar las leyes de De Morgan de manera interactiva, vinculando la teoría con ejemplos prácticos."
   ]
  },
  {
   "cell_type": "markdown",
   "id": "b300943a",
   "metadata": {},
   "source": [
    "## Ejemplo 1.14  \n",
    "\n",
    "Escriba las siguientes preposiciones en lenguaje lógico o corriente, según el caso. Después niéguelas en ambos lenguajes.  \n",
    "\n",
    "a. Todos los futbolistas son millonarios.  \n",
    "b. Algunos políticos son corruptos.  \n",
    "c. Todos los estudiantes ganaron la materia.  \n",
    "d. Todo número es par o primo.\n",
    "e. $(\\forall x \\in \\mathbb{R})(x < 5)$     \n",
    "f. $(\\exists x \\in \\mathbb{R})(x \\leq 5)$    \n",
    "g. $(\\exists x \\in \\mathbb{R})(x > 2 \\land x^{2} \\neq 3)$   \n",
    "h. $(\\forall x \\in \\mathbb{R})(x > 1 \\rightarrow x = 2)$  \n",
    "i. Si estudio, apruebo.  \n",
    "j. $3 + 4 < 2 ∧ 7$ es impar.    "
   ]
  },
  {
   "cell_type": "markdown",
   "id": "9027885f",
   "metadata": {},
   "source": [
    "### Diseño de Clase: Lógica de Predicados y Cuantificadores con Enfoque en Desarrollo del Pensamiento Algorítmico y Aprendizaje Experiencial usando Python, Pandas, Matplotlib, Plotly, y SymPy\n"
   ]
  },
  {
   "cell_type": "markdown",
   "id": "36e17919",
   "metadata": {},
   "source": [
    "\n",
    "#### **Objetivo General:**\n",
    "Introducir el concepto de **Lógica de Predicados**, centrándose en los **cuantificadores universales y existenciales**, y desarrollar el **pensamiento algorítmico** mediante la implementación de ejemplos y ejercicios interactivos en Python. Los estudiantes aplicarán las herramientas de **Pandas**, **Matplotlib**, **Plotly**, y **SymPy** para resolver problemas relacionados con la lógica de predicados.\n"
   ]
  },
  {
   "cell_type": "markdown",
   "id": "93dc134e",
   "metadata": {},
   "source": [
    "\n",
    "#### **Objetivos Específicos:**\n",
    "1. Comprender los cuantificadores universales y existenciales y su representación simbólica.\n",
    "2. Aplicar las leyes de De Morgan para la negación de proposiciones cuantificadas.\n",
    "3. Desarrollar algoritmos en Python que permitan explorar el comportamiento de los cuantificadores.\n",
    "4. Utilizar **Pandas** para manejar datos y formular predicados sobre conjuntos.\n",
    "5. Representar visualmente los resultados lógicos mediante **Matplotlib** y **Plotly**.\n",
    "6. Verificar proposiciones lógicas y cuantificadores con **SymPy**.\n",
    "\n",
    "---\n"
   ]
  },
  {
   "cell_type": "markdown",
   "id": "caa2e569",
   "metadata": {},
   "source": [
    "\n",
    "#### **Materiales:**\n",
    "- Computadora con **Python** instalado.\n",
    "- Bibliotecas: `Pandas`, `Matplotlib`, `Plotly`, `SymPy`.\n",
    "\n",
    "#### **Duración:**\n",
    "2 horas (1 hora teórica y 1 hora práctica).\n",
    "\n",
    "---\n"
   ]
  },
  {
   "cell_type": "markdown",
   "id": "f7fb4cad",
   "metadata": {},
   "source": [
    "\n",
    "### **1. Introducción al Concepto de Cuantificadores (30 minutos)**\n",
    "\n",
    "**Explicación Teórica:**\n",
    "- **Cuantificador Universal ( $\\forall$):** \"Para todo\" o \"Para cada\" elemento de un conjunto.\n",
    "  \n",
    "  Ejemplo en lenguaje natural: \"Para todo $x \\in \\mathbb{N}$, $x + 1 > x$\".\n",
    "  \n",
    "  LaTeX: $ \\forall x \\in \\mathbb{N}, x + 1 > x $.\n",
    "\n",
    "- **Cuantificador Existencial ($\\exists$ ):** \"Existe al menos uno\" o \"Al menos un elemento\".\n",
    "  \n",
    "  Ejemplo en lenguaje natural: \"Existe $x \\in \\mathbb{Z}$ tal que $ x^2 = 1$\".\n",
    "  \n",
    "  LaTeX: $\\exists x \\in \\mathbb{Z}, x^2 = 1$.\n",
    "\n",
    "- **Ley de De Morgan para cuantificadores**:\n",
    "  \n",
    "  $$\\neg (\\forall x, P(x)) \\equiv \\exists x, \\neg P(x)$$ \n",
    "  $$\\neg (\\exists x, P(x)) \\equiv \\forall x, \\neg P(x)$$\n",
    "\n",
    "---\n"
   ]
  },
  {
   "cell_type": "markdown",
   "id": "fc5b98f6",
   "metadata": {},
   "source": [
    "\n",
    "**Discusión**: Analizamos las expresiones lógicas simbólicas y cómo Python nos ayuda a verificar predicados.\n",
    "\n",
    "---\n",
    "\n",
    "#### **Actividad 2: Manipulación de Datos con Pandas y Cuantificadores (20 minutos)**\n",
    "\n",
    "**Objetivo:** Utilizar conjuntos de datos para aplicar cuantificadores sobre filas de una tabla. Este ejemplo se centrará en predicados sobre el conjunto de los números naturales y enteros.\n"
   ]
  },
  {
   "cell_type": "code",
   "execution_count": 38,
   "id": "5da27e04",
   "metadata": {},
   "outputs": [
    {
     "name": "stdout",
     "output_type": "stream",
     "text": [
      "Todos los números naturales son mayores que 0: True\n",
      "Existe un número entero mayor que 2: True\n"
     ]
    }
   ],
   "source": [
    "import pandas as pd\n",
    "\n",
    "# Crear un DataFrame con números naturales y enteros\n",
    "data = {'Numeros Naturales': [1, 2, 3, 4, 5],\n",
    "        'Numeros Enteros': [-5, 0, 1, 2, 3]}\n",
    "\n",
    "df = pd.DataFrame(data)\n",
    "\n",
    "# Predicado: \"Todos los números naturales son mayores que 0\"\n",
    "todos_mayores_cero = (df['Numeros Naturales'] > 0).all()\n",
    "\n",
    "# Predicado: \"Existe un número entero mayor que 2\"\n",
    "existe_mayor_dos = (df['Numeros Enteros'] > 2).any()\n",
    "\n",
    "print(f\"Todos los números naturales son mayores que 0: {todos_mayores_cero}\")\n",
    "print(f\"Existe un número entero mayor que 2: {existe_mayor_dos}\")\n",
    "\n"
   ]
  },
  {
   "cell_type": "markdown",
   "id": "a352f860",
   "metadata": {},
   "source": [
    "\n",
    "**Discusión:** Los estudiantes verificarán las condiciones lógicas sobre los datos en forma de tablas, aplicando cuantificadores.\n",
    "\n",
    "---\n",
    "\n",
    "#### **Actividad 3: Visualización de Cuantificadores usando Matplotlib (20 minutos)**\n",
    "\n",
    "**Objetivo:** Visualizar predicados y cuantificadores de manera gráfica con **Matplotlib**.\n"
   ]
  },
  {
   "cell_type": "code",
   "execution_count": 39,
   "id": "285afb8f",
   "metadata": {},
   "outputs": [
    {
     "data": {
      "image/png": "[encoded data removed]",
      "text/plain": [
       "<Figure size 640x480 with 1 Axes>"
      ]
     },
     "metadata": {},
     "output_type": "display_data"
    }
   ],
   "source": [
    "import matplotlib.pyplot as plt\n",
    "import numpy as np\n",
    "\n",
    "# Datos: Números naturales y un predicado\n",
    "naturals = np.array([0, 1, 2, 3, 4, 5])\n",
    "predicado = naturals > 0  # Todos mayores que 0\n",
    "\n",
    "plt.bar(naturals, predicado)\n",
    "plt.xlabel('Número Natural')\n",
    "plt.ylabel('Predicado: n > 0')\n",
    "plt.title('Visualización de Predicado: Todos los números naturales son mayores que 0')\n",
    "plt.show()\n",
    "\n"
   ]
  },
  {
   "cell_type": "markdown",
   "id": "fecda0ca",
   "metadata": {},
   "source": [
    "\n",
    "**Discusión:** Los estudiantes observarán visualmente el cumplimiento de un predicado sobre un conjunto numérico.\n",
    "\n",
    "---\n",
    "\n",
    "#### **Actividad 4: Interacción con Cuantificadores y Gráficas usando Plotly (20 minutos)**\n",
    "\n",
    "**Objetivo:** Usar **Plotly** para realizar una visualización interactiva de cuantificadores sobre conjuntos de datos.\n"
   ]
  },
  {
   "cell_type": "code",
   "execution_count": 21,
   "id": "7b08458d",
   "metadata": {},
   "outputs": [
    {
     "data": {
      "application/vnd.plotly.v1+json": {
       "config": {
        "plotlyServerURL": "https://plot.ly"
       },
       "data": [
        {
         "type": "bar",
         "x": [
          1,
          2,
          3,
          4,
          5
         ],
         "y": [
          true,
          true,
          true,
          true,
          true
         ]
        }
       ],
       "layout": {
        "template": {
         "data": {
          "bar": [
           {
            "error_x": {
             "color": "#2a3f5f"
            },
            "error_y": {
             "color": "#2a3f5f"
            },
            "marker": {
             "line": {
              "color": "#E5ECF6",
              "width": 0.5
             },
             "pattern": {
              "fillmode": "overlay",
              "size": 10,
              "solidity": 0.2
             }
            },
            "type": "bar"
           }
          ],
          "barpolar": [
           {
            "marker": {
             "line": {
              "color": "#E5ECF6",
              "width": 0.5
             },
             "pattern": {
              "fillmode": "overlay",
              "size": 10,
              "solidity": 0.2
             }
            },
            "type": "barpolar"
           }
          ],
          "carpet": [
           {
            "aaxis": {
             "endlinecolor": "#2a3f5f",
             "gridcolor": "white",
             "linecolor": "white",
             "minorgridcolor": "white",
             "startlinecolor": "#2a3f5f"
            },
            "baxis": {
             "endlinecolor": "#2a3f5f",
             "gridcolor": "white",
             "linecolor": "white",
             "minorgridcolor": "white",
             "startlinecolor": "#2a3f5f"
            },
            "type": "carpet"
           }
          ],
          "choropleth": [
           {
            "colorbar": {
             "outlinewidth": 0,
             "ticks": ""
            },
            "type": "choropleth"
           }
          ],
          "contour": [
           {
            "colorbar": {
             "outlinewidth": 0,
             "ticks": ""
            },
            "colorscale": [
             [
              0,
              "#0d0887"
             ],
             [
              0.1111111111111111,
              "#46039f"
             ],
             [
              0.2222222222222222,
              "#7201a8"
             ],
             [
              0.3333333333333333,
              "#9c179e"
             ],
             [
              0.4444444444444444,
              "#bd3786"
             ],
             [
              0.5555555555555556,
              "#d8576b"
             ],
             [
              0.6666666666666666,
              "#ed7953"
             ],
             [
              0.7777777777777778,
              "#fb9f3a"
             ],
             [
              0.8888888888888888,
              "#fdca26"
             ],
             [
              1,
              "#f0f921"
             ]
            ],
            "type": "contour"
           }
          ],
          "contourcarpet": [
           {
            "colorbar": {
             "outlinewidth": 0,
             "ticks": ""
            },
            "type": "contourcarpet"
           }
          ],
          "heatmap": [
           {
            "colorbar": {
             "outlinewidth": 0,
             "ticks": ""
            },
            "colorscale": [
             [
              0,
              "#0d0887"
             ],
             [
              0.1111111111111111,
              "#46039f"
             ],
             [
              0.2222222222222222,
              "#7201a8"
             ],
             [
              0.3333333333333333,
              "#9c179e"
             ],
             [
              0.4444444444444444,
              "#bd3786"
             ],
             [
              0.5555555555555556,
              "#d8576b"
             ],
             [
              0.6666666666666666,
              "#ed7953"
             ],
             [
              0.7777777777777778,
              "#fb9f3a"
             ],
             [
              0.8888888888888888,
              "#fdca26"
             ],
             [
              1,
              "#f0f921"
             ]
            ],
            "type": "heatmap"
           }
          ],
          "heatmapgl": [
           {
            "colorbar": {
             "outlinewidth": 0,
             "ticks": ""
            },
            "colorscale": [
             [
              0,
              "#0d0887"
             ],
             [
              0.1111111111111111,
              "#46039f"
             ],
             [
              0.2222222222222222,
              "#7201a8"
             ],
             [
              0.3333333333333333,
              "#9c179e"
             ],
             [
              0.4444444444444444,
              "#bd3786"
             ],
             [
              0.5555555555555556,
              "#d8576b"
             ],
             [
              0.6666666666666666,
              "#ed7953"
             ],
             [
              0.7777777777777778,
              "#fb9f3a"
             ],
             [
              0.8888888888888888,
              "#fdca26"
             ],
             [
              1,
              "#f0f921"
             ]
            ],
            "type": "heatmapgl"
           }
          ],
          "histogram": [
           {
            "marker": {
             "pattern": {
              "fillmode": "overlay",
              "size": 10,
              "solidity": 0.2
             }
            },
            "type": "histogram"
           }
          ],
          "histogram2d": [
           {
            "colorbar": {
             "outlinewidth": 0,
             "ticks": ""
            },
            "colorscale": [
             [
              0,
              "#0d0887"
             ],
             [
              0.1111111111111111,
              "#46039f"
             ],
             [
              0.2222222222222222,
              "#7201a8"
             ],
             [
              0.3333333333333333,
              "#9c179e"
             ],
             [
              0.4444444444444444,
              "#bd3786"
             ],
             [
              0.5555555555555556,
              "#d8576b"
             ],
             [
              0.6666666666666666,
              "#ed7953"
             ],
             [
              0.7777777777777778,
              "#fb9f3a"
             ],
             [
              0.8888888888888888,
              "#fdca26"
             ],
             [
              1,
              "#f0f921"
             ]
            ],
            "type": "histogram2d"
           }
          ],
          "histogram2dcontour": [
           {
            "colorbar": {
             "outlinewidth": 0,
             "ticks": ""
            },
            "colorscale": [
             [
              0,
              "#0d0887"
             ],
             [
              0.1111111111111111,
              "#46039f"
             ],
             [
              0.2222222222222222,
              "#7201a8"
             ],
             [
              0.3333333333333333,
              "#9c179e"
             ],
             [
              0.4444444444444444,
              "#bd3786"
             ],
             [
              0.5555555555555556,
              "#d8576b"
             ],
             [
              0.6666666666666666,
              "#ed7953"
             ],
             [
              0.7777777777777778,
              "#fb9f3a"
             ],
             [
              0.8888888888888888,
              "#fdca26"
             ],
             [
              1,
              "#f0f921"
             ]
            ],
            "type": "histogram2dcontour"
           }
          ],
          "mesh3d": [
           {
            "colorbar": {
             "outlinewidth": 0,
             "ticks": ""
            },
            "type": "mesh3d"
           }
          ],
          "parcoords": [
           {
            "line": {
             "colorbar": {
              "outlinewidth": 0,
              "ticks": ""
             }
            },
            "type": "parcoords"
           }
          ],
          "pie": [
           {
            "automargin": true,
            "type": "pie"
           }
          ],
          "scatter": [
           {
            "fillpattern": {
             "fillmode": "overlay",
             "size": 10,
             "solidity": 0.2
            },
            "type": "scatter"
           }
          ],
          "scatter3d": [
           {
            "line": {
             "colorbar": {
              "outlinewidth": 0,
              "ticks": ""
             }
            },
            "marker": {
             "colorbar": {
              "outlinewidth": 0,
              "ticks": ""
             }
            },
            "type": "scatter3d"
           }
          ],
          "scattercarpet": [
           {
            "marker": {
             "colorbar": {
              "outlinewidth": 0,
              "ticks": ""
             }
            },
            "type": "scattercarpet"
           }
          ],
          "scattergeo": [
           {
            "marker": {
             "colorbar": {
              "outlinewidth": 0,
              "ticks": ""
             }
            },
            "type": "scattergeo"
           }
          ],
          "scattergl": [
           {
            "marker": {
             "colorbar": {
              "outlinewidth": 0,
              "ticks": ""
             }
            },
            "type": "scattergl"
           }
          ],
          "scattermapbox": [
           {
            "marker": {
             "colorbar": {
              "outlinewidth": 0,
              "ticks": ""
             }
            },
            "type": "scattermapbox"
           }
          ],
          "scatterpolar": [
           {
            "marker": {
             "colorbar": {
              "outlinewidth": 0,
              "ticks": ""
             }
            },
            "type": "scatterpolar"
           }
          ],
          "scatterpolargl": [
           {
            "marker": {
             "colorbar": {
              "outlinewidth": 0,
              "ticks": ""
             }
            },
            "type": "scatterpolargl"
           }
          ],
          "scatterternary": [
           {
            "marker": {
             "colorbar": {
              "outlinewidth": 0,
              "ticks": ""
             }
            },
            "type": "scatterternary"
           }
          ],
          "surface": [
           {
            "colorbar": {
             "outlinewidth": 0,
             "ticks": ""
            },
            "colorscale": [
             [
              0,
              "#0d0887"
             ],
             [
              0.1111111111111111,
              "#46039f"
             ],
             [
              0.2222222222222222,
              "#7201a8"
             ],
             [
              0.3333333333333333,
              "#9c179e"
             ],
             [
              0.4444444444444444,
              "#bd3786"
             ],
             [
              0.5555555555555556,
              "#d8576b"
             ],
             [
              0.6666666666666666,
              "#ed7953"
             ],
             [
              0.7777777777777778,
              "#fb9f3a"
             ],
             [
              0.8888888888888888,
              "#fdca26"
             ],
             [
              1,
              "#f0f921"
             ]
            ],
            "type": "surface"
           }
          ],
          "table": [
           {
            "cells": {
             "fill": {
              "color": "#EBF0F8"
             },
             "line": {
              "color": "white"
             }
            },
            "header": {
             "fill": {
              "color": "#C8D4E3"
             },
             "line": {
              "color": "white"
             }
            },
            "type": "table"
           }
          ]
         },
         "layout": {
          "annotationdefaults": {
           "arrowcolor": "#2a3f5f",
           "arrowhead": 0,
           "arrowwidth": 1
          },
          "autotypenumbers": "strict",
          "coloraxis": {
           "colorbar": {
            "outlinewidth": 0,
            "ticks": ""
           }
          },
          "colorscale": {
           "diverging": [
            [
             0,
             "#8e0152"
            ],
            [
             0.1,
             "#c51b7d"
            ],
            [
             0.2,
             "#de77ae"
            ],
            [
             0.3,
             "#f1b6da"
            ],
            [
             0.4,
             "#fde0ef"
            ],
            [
             0.5,
             "#f7f7f7"
            ],
            [
             0.6,
             "#e6f5d0"
            ],
            [
             0.7,
             "#b8e186"
            ],
            [
             0.8,
             "#7fbc41"
            ],
            [
             0.9,
             "#4d9221"
            ],
            [
             1,
             "#276419"
            ]
           ],
           "sequential": [
            [
             0,
             "#0d0887"
            ],
            [
             0.1111111111111111,
             "#46039f"
            ],
            [
             0.2222222222222222,
             "#7201a8"
            ],
            [
             0.3333333333333333,
             "#9c179e"
            ],
            [
             0.4444444444444444,
             "#bd3786"
            ],
            [
             0.5555555555555556,
             "#d8576b"
            ],
            [
             0.6666666666666666,
             "#ed7953"
            ],
            [
             0.7777777777777778,
             "#fb9f3a"
            ],
            [
             0.8888888888888888,
             "#fdca26"
            ],
            [
             1,
             "#f0f921"
            ]
           ],
           "sequentialminus": [
            [
             0,
             "#0d0887"
            ],
            [
             0.1111111111111111,
             "#46039f"
            ],
            [
             0.2222222222222222,
             "#7201a8"
            ],
            [
             0.3333333333333333,
             "#9c179e"
            ],
            [
             0.4444444444444444,
             "#bd3786"
            ],
            [
             0.5555555555555556,
             "#d8576b"
            ],
            [
             0.6666666666666666,
             "#ed7953"
            ],
            [
             0.7777777777777778,
             "#fb9f3a"
            ],
            [
             0.8888888888888888,
             "#fdca26"
            ],
            [
             1,
             "#f0f921"
            ]
           ]
          },
          "colorway": [
           "#636efa",
           "#EF553B",
           "#00cc96",
           "#ab63fa",
           "#FFA15A",
           "#19d3f3",
           "#FF6692",
           "#B6E880",
           "#FF97FF",
           "#FECB52"
          ],
          "font": {
           "color": "#2a3f5f"
          },
          "geo": {
           "bgcolor": "white",
           "lakecolor": "white",
           "landcolor": "#E5ECF6",
           "showlakes": true,
           "showland": true,
           "subunitcolor": "white"
          },
          "hoverlabel": {
           "align": "left"
          },
          "hovermode": "closest",
          "mapbox": {
           "style": "light"
          },
          "paper_bgcolor": "white",
          "plot_bgcolor": "#E5ECF6",
          "polar": {
           "angularaxis": {
            "gridcolor": "white",
            "linecolor": "white",
            "ticks": ""
           },
           "bgcolor": "#E5ECF6",
           "radialaxis": {
            "gridcolor": "white",
            "linecolor": "white",
            "ticks": ""
           }
          },
          "scene": {
           "xaxis": {
            "backgroundcolor": "#E5ECF6",
            "gridcolor": "white",
            "gridwidth": 2,
            "linecolor": "white",
            "showbackground": true,
            "ticks": "",
            "zerolinecolor": "white"
           },
           "yaxis": {
            "backgroundcolor": "#E5ECF6",
            "gridcolor": "white",
            "gridwidth": 2,
            "linecolor": "white",
            "showbackground": true,
            "ticks": "",
            "zerolinecolor": "white"
           },
           "zaxis": {
            "backgroundcolor": "#E5ECF6",
            "gridcolor": "white",
            "gridwidth": 2,
            "linecolor": "white",
            "showbackground": true,
            "ticks": "",
            "zerolinecolor": "white"
           }
          },
          "shapedefaults": {
           "line": {
            "color": "#2a3f5f"
           }
          },
          "ternary": {
           "aaxis": {
            "gridcolor": "white",
            "linecolor": "white",
            "ticks": ""
           },
           "baxis": {
            "gridcolor": "white",
            "linecolor": "white",
            "ticks": ""
           },
           "bgcolor": "#E5ECF6",
           "caxis": {
            "gridcolor": "white",
            "linecolor": "white",
            "ticks": ""
           }
          },
          "title": {
           "x": 0.05
          },
          "xaxis": {
           "automargin": true,
           "gridcolor": "white",
           "linecolor": "white",
           "ticks": "",
           "title": {
            "standoff": 15
           },
           "zerolinecolor": "white",
           "zerolinewidth": 2
          },
          "yaxis": {
           "automargin": true,
           "gridcolor": "white",
           "linecolor": "white",
           "ticks": "",
           "title": {
            "standoff": 15
           },
           "zerolinecolor": "white",
           "zerolinewidth": 2
          }
         }
        },
        "title": {
         "text": "Visualización Interactiva: Cuantificador Universal (n > 0)"
        },
        "xaxis": {
         "title": {
          "text": "Número Natural"
         }
        },
        "yaxis": {
         "title": {
          "text": "Cumple Predicado (n > 0)"
         }
        }
       }
      }
     },
     "metadata": {},
     "output_type": "display_data"
    }
   ],
   "source": [
    "\n",
    "\n",
    "import plotly.graph_objects as go\n",
    "\n",
    "naturals = [1, 2, 3, 4, 5]\n",
    "predicado = [True, True, True, True, True]\n",
    "\n",
    "fig = go.Figure(data=[go.Bar(x=naturals, y=predicado)])\n",
    "\n",
    "fig.update_layout(\n",
    "    title=\"Visualización Interactiva: Cuantificador Universal (n > 0)\",\n",
    "    xaxis_title=\"Número Natural\",\n",
    "    yaxis_title=\"Cumple Predicado (n > 0)\"\n",
    ")\n",
    "\n",
    "fig.show()\n",
    "\n"
   ]
  },
  {
   "cell_type": "markdown",
   "id": "2ed3229f",
   "metadata": {},
   "source": [
    "\n",
    "**Discusión:** Se analizará cómo la interacción mejora el entendimiento visual de los cuantificadores.\n",
    "\n",
    "---\n",
    "\n",
    "#### **Actividad 5: Aplicación de la Ley de De Morgan en Python (10 minutos)**\n",
    "\n",
    "**Objetivo:** Implementar la ley de De Morgan para cuantificadores y verificar su validez con ejemplos.\n"
   ]
  },
  {
   "cell_type": "code",
   "execution_count": 42,
   "id": "9ba9dacf",
   "metadata": {},
   "outputs": [
    {
     "name": "stdout",
     "output_type": "stream",
     "text": [
      "Todos mayores que 0: True\n",
      "Negación (No todos mayores que 0): False\n"
     ]
    }
   ],
   "source": [
    "\n",
    "# Predicado: \"Todos los números son mayores que 0\"\n",
    "todos_mayores_cero = all(n > 0 for n in naturals)\n",
    "\n",
    "# Negación: \"No todos los números son mayores que 0\" (Ley de De Morgan)\n",
    "negacion_universal = any(n <= 0 for n in naturals)\n",
    "\n",
    "print(f\"Todos mayores que 0: {todos_mayores_cero}\")\n",
    "print(f\"Negación (No todos mayores que 0): {negacion_universal}\")\n",
    "\n"
   ]
  },
  {
   "cell_type": "markdown",
   "id": "80ad43ed",
   "metadata": {},
   "source": [
    "\n",
    "---\n",
    "\n",
    "### **3. Evaluación y Reflexión (10 minutos)**\n",
    "\n",
    "- **Preguntas de reflexión:**\n",
    "  1. ¿Qué tipo de problemas podemos resolver usando cuantificadores en Python?\n",
    "  2. ¿Cómo la visualización de los predicados ayuda a entender mejor el concepto de cuantificadores?\n",
    "  3. ¿Cómo las leyes de De Morgan se aplican de manera efectiva en el contexto de algoritmos?\n",
    "\n",
    "---\n"
   ]
  },
  {
   "cell_type": "markdown",
   "id": "d2db2e05",
   "metadata": {},
   "source": [
    "\n",
    "### **Recursos Adicionales:**\n",
    "- Documentación de **SymPy**: https://docs.sympy.org\n",
    "- Documentación de **Pandas**: https://pandas.pydata.org\n",
    "- Documentación de **Matplotlib**: https://matplotlib.org\n",
    "- Documentación de **Plotly**: https://plotly.com\n",
    "\n",
    "---\n",
    "\n",
    "Este diseño de clase fomenta el **aprendizaje experiencial** y el **desarrollo del pensamiento algorítmico** mediante el uso de herramientas interactivas y potentes como **Python, Pandas, Matplotlib, Plotly, y SymPy**."
   ]
  },
  {
   "cell_type": "markdown",
   "id": "6d9d8831",
   "metadata": {},
   "source": [
    "## Práctica de Enseñanza: Cuantificadores usando `any()` y `all()` en Python\n"
   ]
  },
  {
   "cell_type": "markdown",
   "id": "e375b4a3",
   "metadata": {},
   "source": [
    "\n",
    "#### **Objetivo de la Práctica:**\n",
    "En esta práctica, los estudiantes aprenderán a aplicar los cuantificadores universales y existenciales mediante las funciones `any()` y `all()` de la librería estándar de Python. Desarrollarán un entendimiento claro de cómo estas funciones pueden representar lógicamente los cuantificadores en listas y estructuras de datos, y aplicarán este conocimiento a la resolución de problemas.\n"
   ]
  },
  {
   "cell_type": "markdown",
   "id": "d3a121c5",
   "metadata": {},
   "source": [
    "\n",
    "#### **Descripción:**\n",
    "- `all(iterable)`: Retorna `True` si **todos** los elementos del iterable son verdaderos (representa el **cuantificador universal** $ \\forall $).\n",
    "- `any(iterable)`: Retorna `True` si **al menos uno** de los elementos del iterable es verdadero (representa el **cuantificador existencial** $ \\exists $).\n",
    "\n",
    "---\n"
   ]
  },
  {
   "cell_type": "markdown",
   "id": "fd07407a",
   "metadata": {},
   "source": [
    "\n",
    "### **1. Explicación Teórica (15 minutos)**\n",
    "\n",
    "**Cuantificador Universal con `all()`**:\n",
    "- Representa la expresión lógica $\\forall x \\in A, P(x)$.\n",
    "- Ejemplo: \"Todos los números en una lista son mayores que 0\".\n",
    "  \n"
   ]
  },
  {
   "cell_type": "code",
   "execution_count": 12,
   "id": "bb88cb14",
   "metadata": {},
   "outputs": [
    {
     "name": "stdout",
     "output_type": "stream",
     "text": [
      "False\n"
     ]
    }
   ],
   "source": [
    "  \n",
    "numeros = [-1, 2, 3, 4, 5]\n",
    "resultado = all(n > 0 for n in numeros)\n",
    "print(resultado)  # True\n",
    "  \n"
   ]
  },
  {
   "cell_type": "code",
   "execution_count": 15,
   "id": "587e6215",
   "metadata": {},
   "outputs": [
    {
     "data": {
      "text/plain": [
       "[False, True, True, True, True]"
      ]
     },
     "execution_count": 15,
     "metadata": {},
     "output_type": "execute_result"
    }
   ],
   "source": [
    "list((n > 0 for n in numeros))"
   ]
  },
  {
   "cell_type": "markdown",
   "id": "906d52e6",
   "metadata": {},
   "source": [
    "\n",
    "**Cuantificador Existencial con `any()`**:\n",
    "- Representa la expresión lógica $ \\exists x \\in A, P(x) $.\n",
    "- Ejemplo: \"Existe al menos un número en una lista que es mayor que 0\".\n",
    "  \n",
    "  \n"
   ]
  },
  {
   "cell_type": "code",
   "execution_count": 17,
   "id": "f3ee9680",
   "metadata": {},
   "outputs": [
    {
     "name": "stdout",
     "output_type": "stream",
     "text": [
      "False\n"
     ]
    }
   ],
   "source": [
    "numeros = [-1, -2, -3, -1]\n",
    "resultado = any(n > 0 for n in numeros)\n",
    "print(resultado)  # True\n",
    "  \n"
   ]
  },
  {
   "cell_type": "markdown",
   "id": "238c0d10",
   "metadata": {},
   "source": [
    "\n",
    "---\n"
   ]
  },
  {
   "cell_type": "markdown",
   "id": "522714d3",
   "metadata": {},
   "source": [
    "\n",
    "### **2. Actividades Prácticas (30 minutos)**\n",
    "\n",
    "#### **Ejercicio 1: Verificación de Predicados en Listas**\n",
    "\n",
    "**Instrucción:**\n",
    "Implemente las funciones `any()` y `all()` para verificar los siguientes predicados en una lista de números enteros:\n",
    "\n",
    "1. **Todos los números son positivos**.\n",
    "2. **Existe al menos un número impar**.\n",
    "\n",
    "**Código de ejemplo para referencia:**\n"
   ]
  },
  {
   "cell_type": "code",
   "execution_count": 19,
   "id": "ae109adc",
   "metadata": {},
   "outputs": [
    {
     "name": "stdout",
     "output_type": "stream",
     "text": [
      "Todos los números son positivos: False\n"
     ]
    }
   ],
   "source": [
    "numeros = [1, 2, 3, -4, 5]\n",
    "\n",
    "# Todos los números son positivos\n",
    "todos_positivos = all(n > 0 for n in numeros)\n",
    "print(f\"Todos los números son positivos: {todos_positivos}\")\n"
   ]
  },
  {
   "cell_type": "code",
   "execution_count": 20,
   "id": "2a0f4e82",
   "metadata": {},
   "outputs": [
    {
     "name": "stdout",
     "output_type": "stream",
     "text": [
      "Existe al menos un número impar: True\n"
     ]
    }
   ],
   "source": [
    "\n",
    "# Existe al menos un número impar\n",
    "existe_impar = any(n % 2 != 0 for n in numeros)\n",
    "print(f\"Existe al menos un número impar: {existe_impar}\")\n",
    "\n"
   ]
  },
  {
   "cell_type": "markdown",
   "id": "a242043a",
   "metadata": {},
   "source": [
    "\n",
    "---\n",
    "\n",
    "#### **Ejercicio 2: Aplicación a Conjuntos de Datos**\n",
    "\n",
    "**Instrucción:**\n",
    "Dado un conjunto de datos de temperaturas en grados Celsius, verifica los siguientes predicados utilizando `any()` y `all()`:\n",
    "\n",
    "1. **Todas las temperaturas están por debajo de los 40°C**.\n",
    "2. **Existe al menos una temperatura negativa**.\n",
    "\n",
    "**Código de ejemplo para referencia:**\n"
   ]
  },
  {
   "cell_type": "code",
   "execution_count": 26,
   "id": "f2fac2db",
   "metadata": {},
   "outputs": [
    {
     "name": "stdout",
     "output_type": "stream",
     "text": [
      "Todas las temperaturas están por debajo de los 40°C: False\n"
     ]
    }
   ],
   "source": [
    "\n",
    "\n",
    "temperaturas = [0,15, 23, 30, 2, 35, 38]\n",
    "\n",
    "# Todas las temperaturas están por debajo de los 40°C\n",
    "todas_bajo_40 = all(temp < 35 for temp in temperaturas)\n",
    "print(f\"Todas las temperaturas están por debajo de los 40°C: {todas_bajo_40}\")\n"
   ]
  },
  {
   "cell_type": "code",
   "execution_count": 27,
   "id": "d28eb4a7",
   "metadata": {},
   "outputs": [
    {
     "name": "stdout",
     "output_type": "stream",
     "text": [
      "Existe al menos una temperatura negativa: False\n"
     ]
    }
   ],
   "source": [
    "\n",
    "# Existe al menos una temperatura negativa\n",
    "existe_negativa = any(temp < 0 for temp in temperaturas)\n",
    "print(f\"Existe al menos una temperatura negativa: {existe_negativa}\")\n",
    "\n"
   ]
  },
  {
   "cell_type": "markdown",
   "id": "b39ba089",
   "metadata": {},
   "source": [
    "\n",
    "---\n",
    "\n",
    "### **3. Ejercicios de Práctica para los Estudiantes (15 minutos)**\n",
    "\n",
    "#### **Ejercicio 1: Verificación de Primos**\n",
    "\n",
    "Dada una lista de números enteros, implementa un predicado que verifique si:\n",
    "\n",
    "- **Todos los números en la lista son primos**.\n",
    "- **Existe al menos un número primo en la lista**.\n",
    "\n",
    "**Instrucciones:**\n",
    "1. Define una función auxiliar para verificar si un número es primo.\n",
    "2. Aplica `all()` y `any()` para realizar las verificaciones.\n"
   ]
  },
  {
   "cell_type": "code",
   "execution_count": 31,
   "id": "d8710550",
   "metadata": {},
   "outputs": [
    {
     "name": "stdout",
     "output_type": "stream",
     "text": [
      "Todos los números son primos: False\n"
     ]
    }
   ],
   "source": [
    "\n",
    "def es_primo(n):\n",
    "    if n < 2:\n",
    "        return False\n",
    "    for i in range(2, int(n**0.5) + 1):\n",
    "        if n % i == 0:\n",
    "            return False\n",
    "    return True\n",
    "\n",
    "numeros = [1,1,1,1]\n",
    "\n",
    "# Todos los números son primos\n",
    "todos_primos = all(es_primo(n) for n in numeros)\n",
    "print(f\"Todos los números son primos: {todos_primos}\")\n"
   ]
  },
  {
   "cell_type": "code",
   "execution_count": 32,
   "id": "6f2f3ee4",
   "metadata": {},
   "outputs": [
    {
     "name": "stdout",
     "output_type": "stream",
     "text": [
      "Existe al menos un número primo: False\n"
     ]
    }
   ],
   "source": [
    "\n",
    "# Existe al menos un número primo\n",
    "existe_primo = any(es_primo(n) for n in numeros)\n",
    "print(f\"Existe al menos un número primo: {existe_primo}\")\n",
    "\n"
   ]
  },
  {
   "cell_type": "markdown",
   "id": "ec09502e",
   "metadata": {},
   "source": [
    "\n",
    "#### **Ejercicio 2: Alturas de Personas**\n",
    "\n",
    "Dada una lista de alturas en centímetros, implementa un predicado que verifique si:\n",
    "\n",
    "- **Todas las personas miden más de 150 cm**.\n",
    "- **Existe al menos una persona que mide más de 190 cm**.\n"
   ]
  },
  {
   "cell_type": "code",
   "execution_count": 33,
   "id": "7d3f9e42",
   "metadata": {},
   "outputs": [
    {
     "name": "stdout",
     "output_type": "stream",
     "text": [
      "Todos miden más de 150 cm: False\n"
     ]
    }
   ],
   "source": [
    "\n",
    "alturas = [160, 175, 180, 145, 200]\n",
    "\n",
    "# Todos miden más de 150 cm\n",
    "todos_mas_150 = all(altura > 150 for altura in alturas)\n",
    "print(f\"Todos miden más de 150 cm: {todos_mas_150}\")\n"
   ]
  },
  {
   "cell_type": "code",
   "execution_count": 34,
   "id": "3deb8e00",
   "metadata": {},
   "outputs": [
    {
     "name": "stdout",
     "output_type": "stream",
     "text": [
      "Existe al menos una persona que mide más de 190 cm: True\n"
     ]
    }
   ],
   "source": [
    "\n",
    "# Existe al menos una persona que mide más de 190 cm\n",
    "existe_mas_190 = any(altura > 190 for altura in alturas)\n",
    "print(f\"Existe al menos una persona que mide más de 190 cm: {existe_mas_190}\")\n",
    "\n"
   ]
  },
  {
   "cell_type": "markdown",
   "id": "71201c89",
   "metadata": {},
   "source": [
    "\n",
    "---\n",
    "\n",
    "### **4. Reflexión Final (15 minutos)**\n",
    "\n",
    "- **Preguntas de reflexión:**\n",
    "  1. ¿Cómo se puede aplicar `any()` y `all()` a otros contextos de datos o en problemas más complejos?\n",
    "  2. ¿Qué aprendiste sobre el uso de los cuantificadores al implementarlos en Python?\n",
    "  3. ¿Cómo esta representación algorítmica ayuda a desarrollar tu pensamiento lógico y computacional?\n",
    "\n",
    "---\n",
    "\n",
    "### **Conclusión:**\n",
    "Esta práctica permitirá a los estudiantes adquirir una comprensión sólida de los cuantificadores a través de su implementación práctica usando las funciones `any()` y `all()`. Además, desarrollarán el pensamiento algorítmico y aprenderán a formular y verificar predicados en conjuntos de datos."
   ]
  },
  {
   "cell_type": "markdown",
   "id": "4237ecab",
   "metadata": {},
   "source": [
    "[Video de apoyo](https://www.youtube.com/watch?v=RMUEBUDatWA)"
   ]
  },
  {
   "cell_type": "code",
   "execution_count": null,
   "id": "761b8e6d",
   "metadata": {},
   "outputs": [],
   "source": []
  },
  {
   "cell_type": "code",
   "execution_count": null,
   "id": "ec048afb",
   "metadata": {},
   "outputs": [],
   "source": []
  },
  {
   "cell_type": "markdown",
   "id": "64ac8d32",
   "metadata": {},
   "source": [
    "# Ejemplo ilustrativo"
   ]
  },
  {
   "cell_type": "markdown",
   "id": "a3e5e6ab",
   "metadata": {},
   "source": [
    "# 20 ejercicios de entrenamiento o adquisición de habilidades obtenido a través de ChatGPT para una formación personalizada y centrada en la habilidad que se quiere lograr con la enseñanza del ejemplo anterior"
   ]
  },
  {
   "cell_type": "markdown",
   "id": "cc539357",
   "metadata": {},
   "source": [
    "Esta lista de **20 ejercicios** cubre las tres habilidades clave: interpretar proposiciones cuantificadas, construir sus negaciones y determinar el valor de verdad de la proposición original mediante el uso de su negación. Estos ejercicios también se contextualizan en temas de números naturales, números enteros, cálculo diferencial e integral.\n"
   ]
  },
  {
   "cell_type": "markdown",
   "id": "9e5c1e1b",
   "metadata": {},
   "source": [
    "\n",
    "### **Ejercicios sobre números naturales y enteros**\n"
   ]
  },
  {
   "cell_type": "markdown",
   "id": "f2db3626",
   "metadata": {},
   "source": [
    "\n",
    "1. **Interpretación**: Interpreta verbalmente la proposición simbólica:  \n",
    "   $$\n",
    "   \\forall n \\in \\mathbb{N}, \\ n+1 > n\n",
    "   $$  \n",
    "   **Construcción de la negación**: Escribe la negación de esta proposición.  \n",
    "   **Valor de verdad**: Determina si la proposición original y su negación son verdaderas o falsas.\n"
   ]
  },
  {
   "cell_type": "markdown",
   "id": "ae1c72ea",
   "metadata": {},
   "source": [
    "\n",
    "2. **Interpretación**: Traduce a lenguaje simbólico:  \n",
    "   \"Para todo número entero, su cuadrado es mayor o igual que cero\".  \n",
    "   **Construcción de la negación**: Niega la proposición.  \n",
    "   **Valor de verdad**: Justifica el valor de verdad usando propiedades de los números enteros.\n",
    "\n",
    "3. **Interpretación**: Interpreta verbalmente:  \n",
    "   \\[\n",
    "   \\exists m \\in \\mathbb{Z}, \\ m^2 = 2\n",
    "   \\]  \n",
    "   **Construcción de la negación**: Escribe la negación de la proposición.  \n",
    "   **Valor de verdad**: Determina el valor de verdad de ambas proposiciones y discútelo.\n",
    "\n",
    "4. **Interpretación**: Traduce al lenguaje simbólico:  \n",
    "   \"Existe un número entero que es divisible por 2 y por 3\".  \n",
    "   **Construcción de la negación**: Escribe la negación.  \n",
    "   **Valor de verdad**: Justifica si la proposición y su negación son verdaderas o falsas.\n",
    "\n",
    "5. **Interpretación**: Interpreta la proposición:  \n",
    "   $$\n",
    "   \\forall x \\in \\mathbb{N}, \\ x^2 - 2x + 1 \\geq 0\n",
    "   $$  \n",
    "   **Construcción de la negación**: Niega la proposición.  \n",
    "   **Valor de verdad**: Determina el valor de verdad usando ejemplos numéricos.\n"
   ]
  },
  {
   "cell_type": "markdown",
   "id": "95856012",
   "metadata": {},
   "source": [
    "\n",
    "### **Ejercicios sobre cálculo diferencial**\n"
   ]
  },
  {
   "cell_type": "markdown",
   "id": "e8a21bf6",
   "metadata": {},
   "source": [
    "\n",
    "6. **Interpretación**: Interpreta la siguiente proposición:  \n",
    "   \\[\n",
    "   \\forall f \\in C^1(\\mathbb{R}), \\ f'(x) = 0 \\implies f \\ \\text{es constante}\n",
    "   \\]  \n",
    "   **Construcción de la negación**: Niega la proposición.  \n",
    "   **Valor de verdad**: Justifica el valor de verdad usando un teorema del cálculo diferencial.\n",
    "\n",
    "7. **Interpretación**: Traduce al lenguaje natural:  \n",
    "   \\[\n",
    "   \\exists c \\in \\mathbb{R}, \\ \\text{tal que} \\ f'(c) = 0 \\ \\text{y} \\ f(c) \\ \\text{es un máximo local}\n",
    "   \\]  \n",
    "   **Construcción de la negación**: Escribe la negación.  \n",
    "   **Valor de verdad**: Usa el teorema de Fermat para justificar el valor de verdad.\n",
    "\n",
    "8. **Interpretación**: Traduce al lenguaje simbólico:  \n",
    "   \"Si una función derivable tiene derivada cero en todos los puntos, entonces es constante\".  \n",
    "   **Construcción de la negación**: Niega la proposición.  \n",
    "   **Valor de verdad**: Usa un contraejemplo para justificar.\n",
    "\n",
    "9. **Interpretación**: Traduce al lenguaje simbólico:  \n",
    "   \"Para todo número real, la función exponencial es positiva\".  \n",
    "   **Construcción de la negación**: Escribe la negación.  \n",
    "   **Valor de verdad**: Determina si ambas proposiciones son verdaderas o falsas.\n",
    "\n",
    "10. **Interpretación**: Interpreta verbalmente:  \n",
    "    \\[\n",
    "    \\exists x_0 \\in \\mathbb{R}, \\ f'(x_0) > 0\n",
    "    \\]  \n",
    "    **Construcción de la negación**: Escribe la negación.  \n",
    "    **Valor de verdad**: Usa ejemplos de funciones para justificar el valor de verdad.\n"
   ]
  },
  {
   "cell_type": "markdown",
   "id": "d6d013c2",
   "metadata": {},
   "source": [
    "\n",
    "### **Ejercicios sobre cálculo integral**\n",
    "\n",
    "11. **Interpretación**: Traduce al lenguaje natural:  \n",
    "    $$\n",
    "    \\forall f \\in C^1([a,b]), \\ \\int_a^b f'(x) dx = f(b) - f(a)\n",
    "    $$  \n",
    "    \n",
    "    **Construcción de la negación**: Niega la proposición.  \n",
    "    **Valor de verdad**: Usa el teorema fundamental del cálculo para justificar el valor de verdad.\n",
    "**Nota importante**  \n",
    "    $C^1([a,b]$: es el conjunto de funciones de derivada continua en $[a,b]$. \n"
   ]
  },
  {
   "cell_type": "markdown",
   "id": "3f8d589b",
   "metadata": {},
   "source": [
    "\n",
    "12. **Interpretación**: Interpreta la siguiente proposición:  \n",
    "    \"Existe una función continua cuya integral definida entre 0 y 1 es 1\".  \n",
    "    **Construcción de la negación**: Escribe la negación.  \n",
    "    **Valor de verdad**: Usa un ejemplo específico para justificar.\n"
   ]
  },
  {
   "cell_type": "markdown",
   "id": "5b6b6fe6",
   "metadata": {},
   "source": [
    "\n",
    "13. **Interpretación**: Traduce al lenguaje simbólico:  \n",
    "    \"Para todo número $x$ en el intervalo $[0, 1]$, la integral de $x^2$ entre 0 y $x$ es menor que $\\frac{x^3}{3}$\".  \n",
    "    **Construcción de la negación**: Niega la proposición.  \n",
    "    **Valor de verdad**: Justifica usando un cálculo integral.\n"
   ]
  },
  {
   "cell_type": "markdown",
   "id": "f277e53d",
   "metadata": {},
   "source": [
    "\n",
    "14. **Interpretación**: Interpreta verbalmente la proposición:  \n",
    "    $$\n",
    "    (\\forall f \\in C[a,b])(\\exists c \\in (a,b)), \\ \\int_a^b f(x)dx = (b-a)f(c)\n",
    "    $$  \n",
    "    **Interpreta geométricamente** este teorema que es llamado: Teorema del valor medio para integrales. \n",
    "    **Construcción de la negación**: Escribe la negación.  \n",
    "    **Valor de verdad**: Justifica el valor de verdad usando el teorema del valor medio del cálculo integral.\n",
    "\n",
    "    * Redacte una conclusión en lenguaje natural, que exprese el significado de este teorema y su utilidad. \n"
   ]
  },
  {
   "cell_type": "code",
   "execution_count": 3,
   "id": "ce080707",
   "metadata": {},
   "outputs": [],
   "source": [
    "# El objetivo de cada recurso es que sea una función de usuario o clase de python \n",
    "# que para unos elementos datos por el usuario, le permita \n",
    "# Ya logré un recurso que se adapta para funciones constantes y funciones negativas \n",
    "#  \n",
    "# recurso_teorema_valor_medio_integrales.py\n",
    "import numpy as np\n",
    "import matplotlib.pyplot as plt\n",
    "from ipywidgets import interact\n",
    "from scipy.integrate import quad\n",
    "\n",
    "def determine_punto_c(f, a, b):\n",
    "    \"\"\"\n",
    "    Grafica el área bajo la curva de la función f en el intervalo [a, b] \n",
    "    y permite visualizar un punto c donde el rectángulo tiene el mismo \n",
    "    área bajo la curva de f en [a, b].\n",
    "\n",
    "    Parámetros:\n",
    "    f : function\n",
    "        Función continua en el intervalo [a, b].\n",
    "    a : float\n",
    "        Límite inferior del intervalo.\n",
    "    b : float\n",
    "        Límite superior del intervalo.\n",
    "    \"\"\"\n",
    "    def trazo_region_rectangular(c=a):\n",
    "        plt.figure(figsize=(6, 4))\n",
    "        plt.title('Trazo del rectángulo de área igual al área bajo la curva de f')\n",
    "        plt.xlabel('x')\n",
    "        plt.ylabel('y')\n",
    "\n",
    "        # Trazo de la región bajo la función f\n",
    "        paso = 0.01 * (b - a)\n",
    "        dominio = np.arange(a, b + paso, paso)\n",
    "        y = np.array([f(d) for d in dominio])\n",
    "        plt.axis([a, b, 1.1 * np.min(y), 1.1 * np.max(y)])\n",
    "        plt.plot(dominio, y, label=\"Curva de f(x)\", color='blue')\n",
    "\n",
    "        # Cálculo del área bajo la curva de f en [a, b]\n",
    "        resultado, error = quad(f, a, b)\n",
    "        plt.fill_between(dominio, y, color=\"skyblue\", alpha=0.4, label=f'Área bajo f: {round(resultado, 2)}')\n",
    "\n",
    "        # Trazo del rectángulo con área igual al área bajo la curva de f\n",
    "        rectangulo_y = f(c) * np.ones_like(dominio)\n",
    "        plt.fill_between(dominio, rectangulo_y, color=\"red\", alpha=0.3, label=f'Área del rectángulo: {round(f(c) * (b - a), 2)}')\n",
    "\n",
    "        plt.xticks(np.arange(a, b + paso, (b - a) / 5))\n",
    "        plt.yticks(np.linspace(np.min(y), np.max(y), 5))\n",
    "        plt.grid(alpha=0.3)\n",
    "        plt.legend()\n",
    "        plt.show()\n",
    "\n",
    "    # Interactivo para el valor de c\n",
    "    interact(trazo_region_rectangular, c=(a, b, 0.01))\n"
   ]
  },
  {
   "cell_type": "code",
   "execution_count": null,
   "id": "e9f11095",
   "metadata": {},
   "outputs": [
    {
     "data": {
      "application/vnd.jupyter.widget-view+json": {
       "model_id": "e7b916313ca14a88ba76a1d7bda68548",
       "version_major": 2,
       "version_minor": 0
      },
      "text/plain": [
       "interactive(children=(FloatSlider(value=0.0, description='c', max=1.0, step=0.01), Output()), _dom_classes=('w…"
      ]
     },
     "metadata": {},
     "output_type": "display_data"
    }
   ],
   "source": [
    "determine_punto_c(f = lambda x: x**2, a = 0, b = 1)"
   ]
  },
  {
   "cell_type": "markdown",
   "id": "691d6bec",
   "metadata": {},
   "source": [
    "\n",
    "15. **Interpretación**: Traduce al lenguaje natural:  \n",
    "    \"Para todo $c \\in [0, 1]$, la integral de $e^{-x^2}$ entre 0 y 1 es mayor que 0\".  \n",
    "    **Construcción de la negación**: Escribe la negación.  \n",
    "    **Valor de verdad**: Determina si la proposición es verdadera o falsa.\n"
   ]
  },
  {
   "cell_type": "markdown",
   "id": "85c934a6",
   "metadata": {},
   "source": [
    "\n",
    "### **Ejercicios generales sobre cuantificadores**\n",
    "\n",
    "16. **Interpretación**: Traduce al lenguaje simbólico:  \n",
    "    \"Para todo número real, su derivada es mayor o igual a cero implica que la función es no decreciente\".  \n",
    "    **Construcción de la negación**: Niega la proposición.  \n",
    "    **Valor de verdad**: Justifica si la proposición es verdadera o falsa.\n"
   ]
  },
  {
   "cell_type": "markdown",
   "id": "cdb4d24b",
   "metadata": {},
   "source": [
    "\n",
    "17. **Interpretación**: Interpreta verbalmente la proposición:  \n",
    "    $$\n",
    "    \\forall x \\in \\mathbb{R}, \\ \\sin^2(x) + \\cos^2(x) = 1\n",
    "    $$  \n",
    "    **Construcción de la negación**: Escribe la negación.  \n",
    "    **Valor de verdad**: Usa una identidad trigonométrica para justificar el valor de verdad.\n"
   ]
  },
  {
   "cell_type": "markdown",
   "id": "53a68ed5",
   "metadata": {},
   "source": [
    "\n",
    "18. **Interpretación**: Traduce al lenguaje natural:  \n",
    "    \\[\n",
    "    \\exists x \\in \\mathbb{R}, \\ \\text{tal que} \\ x^2 + 1 = 0\n",
    "    \\]  \n",
    "    **Construcción de la negación**: Niega la proposición.  \n",
    "    **Valor de verdad**: Determina si la proposición original y su negación son verdaderas o falsas.\n",
    "\n",
    "19. **Interpretación**: Interpreta verbalmente la proposición:  \n",
    "    \\[\n",
    "    \\forall x \\in \\mathbb{N}, \\ \\gcd(x, 1) = 1\n",
    "    \\]  \n",
    "    **Construcción de la negación**: Escribe la negación.  \n",
    "    **Valor de verdad**: Usa la definición del máximo común divisor para justificar el valor de verdad.\n",
    "\n",
    "20. **Interpretación**: Traduce al lenguaje simbólico:  \n",
    "    \"Para todo número natural, si es divisible por 2, entonces es par\".  \n",
    "    **Construcción de la negación**: Niega la proposición.  \n",
    "    **Valor de verdad**: Justifica si la proposición es verdadera o falsa utilizando ejemplos.\n",
    "\n",
    "### Conclusión\n",
    "Estos ejercicios están diseñados para que los estudiantes trabajen tanto con la interpretación como con la construcción y validación de proposiciones cuantificadas, usando temas de matemáticas relevantes para su formación en cálculo y números."
   ]
  },
  {
   "cell_type": "markdown",
   "id": "740f3401",
   "metadata": {
    "slideshow": {
     "slide_type": "slide"
    }
   },
   "source": [
    "# Componente de manejo de calculadora Casio asociado al objetivo de aprendizaje de esta clase  \n",
    "\n",
    "## Pasos para lograr el objetivo de aprendizaje con la experimentación en la calculadora casio 991LA cw  "
   ]
  },
  {
   "cell_type": "markdown",
   "id": "fccb447c",
   "metadata": {
    "slideshow": {
     "slide_type": "slide"
    }
   },
   "source": [
    "# Tareas para realizar en clase"
   ]
  },
  {
   "cell_type": "markdown",
   "id": "742281f4",
   "metadata": {},
   "source": [
    "# No olvide la tarea de realizar la foda para autoevaluarse\n",
    "\n",
    "Fortalezas: F  \n",
    "Oportuniudades O:  \n",
    "Debilidades: D:   \n",
    "Amenazas: A:     "
   ]
  },
  {
   "cell_type": "markdown",
   "id": "8d41fe58",
   "metadata": {
    "slideshow": {
     "slide_type": "slide"
    }
   },
   "source": [
    "# Horario de clases del profesor Marco\n",
    "\n",
    "* Lunes: Cálculo Integral. \n",
    "* Martes Fundamentos de la aritmética.\n",
    "* Miércoles: Fundamentos de la Lógica. \n",
    "\n",
    "\n"
   ]
  },
  {
   "cell_type": "markdown",
   "id": "ae114e14",
   "metadata": {
    "slideshow": {
     "slide_type": "slide"
    }
   },
   "source": [
    "# Horarios de monitoría y asesoría"
   ]
  },
  {
   "cell_type": "markdown",
   "id": "b1db4b6c",
   "metadata": {
    "slideshow": {
     "slide_type": "slide"
    }
   },
   "source": [
    "## Monitor Manuel"
   ]
  },
  {
   "cell_type": "markdown",
   "id": "39559692",
   "metadata": {
    "slideshow": {
     "slide_type": "slide"
    }
   },
   "source": [
    "Martes y jueves de 8 - 12  \n",
    "Miércoles 10 - 12 y de 2 a 4 PM  \n",
    "Sábado: 8 - 12"
   ]
  },
  {
   "cell_type": "markdown",
   "id": "10bce0d0",
   "metadata": {
    "slideshow": {
     "slide_type": "slide"
    }
   },
   "source": [
    "## Referentes "
   ]
  },
  {
   "cell_type": "markdown",
   "id": "1db3c468",
   "metadata": {
    "slideshow": {
     "slide_type": "slide"
    }
   },
   "source": [
    "  \n",
    "* [uzcategui](chrome-extension://efaidnbmnnnibpcajpcglclefindmkaj/https://www.ciencias.ula.ve/matematica/publicaciones/libros/por_profesor/carlos_uzca/LoConNu.pdf) \n",
    "\n",
    "* [Recomendación de la UNESCO sobre ciencia abierta](https://unesdoc.unesco.org/ark:/48223/pf0000379949_spa)\n",
    "\n",
    "* [chatGPT](https://openai.com/blog/chatgpt)  \n",
    "\n",
    "\n"
   ]
  },
  {
   "cell_type": "markdown",
   "id": "6b9e56a8",
   "metadata": {
    "slideshow": {
     "slide_type": "slide"
    }
   },
   "source": [
    "### [Evaluamos al profesor Marco Cañas Aquí](https://forms.office.com/Pages/ResponsePage.aspx?id=IefhmYRxjkmK_7KtTlPBwkanXIs1i1FEujpsZgO6dXpUREJPV1kxUk1JV1ozTFJIQVNIQjY5WEY3US4u)"
   ]
  },
  {
   "cell_type": "markdown",
   "id": "050b9508",
   "metadata": {},
   "source": [
    "# Aportes de mis estudiantes a la metodología del curso    \n",
    "\n",
    "1. Incluir la codificación de manera gradual  y progresiva en el curso, para que los estudiantes puedan ir entendiendo y aplicando este camino a el aprendizaje experiencial. \n",
    "\n",
    "Sus opiniones y aportes son muy importantes para mi. Pues esta es una investigación educativa y un servicio de enseñanza para ustedes. Ustedes son la razón de ser de mi actividad docente. Dios los bendiga. "
   ]
  },
  {
   "cell_type": "markdown",
   "id": "10f43536",
   "metadata": {
    "slideshow": {
     "slide_type": "slide"
    }
   },
   "source": [
    "### Continue su aprendizaje en la siguiente clase a través del siguiente [vínculo]()"
   ]
  },
  {
   "cell_type": "markdown",
   "id": "53cc9115",
   "metadata": {
    "slideshow": {
     "slide_type": "slide"
    }
   },
   "source": [
    "## Agradecimientos  \n",
    "\n",
    "Doy gracias a Dios por la vida de mi Hijo Joseph Cañas Osorio y la madurez que ha alcanzado.\n",
    "\n",
    "Y a mi esposa Yasmira por su apoyo, orientación y acompañamiento. "
   ]
  }
 ],
 "metadata": {
  "celltoolbar": "Slideshow",
  "kernelspec": {
   "display_name": ".venv",
   "language": "python",
   "name": "python3"
  },
  "language_info": {
   "codemirror_mode": {
    "name": "ipython",
    "version": 3
   },
   "file_extension": ".py",
   "mimetype": "text/x-python",
   "name": "python",
   "nbconvert_exporter": "python",
   "pygments_lexer": "ipython3",
   "version": "3.12.6"
  },
  "rise": {
   "enable_chalkboard": true,
   "theme": "sky",
   "transition": "zoom"
  }
 },
 "nbformat": 4,
 "nbformat_minor": 5
}
