{
 "cells": [
  {
   "cell_type": "markdown",
   "id": "dc06dec7",
   "metadata": {
    "slideshow": {
     "slide_type": "slide"
    }
   },
   "source": [
    "<table align=\"left\">\n",
    "  <td>\n",
    "    <a href=\"https://colab.research.google.com/github/marco-canas/fundamentos_logica/blob/main/4_clases/2_infer_met_demost/3_metodos_demostracion/1_metodo_deductivo/1_metodo_directo/1_metodo_directo.ipynb\" target=\"_parent\"><img src=\"https://colab.research.google.com/assets/colab-badge.svg\" alt=\"Open In Colab\"/></a>\n",
    "  </td>\n",
    "  <td>\n",
    "    <a target=\"_blank\" href=\"https://kaggle.com/kernels/welcome?src=https://github.com/marco-canas/fundamentos_logica/blob/main/4_clases/2_infer_met_demost/3_metodos_demostracion/1_metodo_deductivo/1_metodo_directo/1_metodo_directo.ipynb\"><img src=\"https://kaggle.com/static/images/open-in-kaggle.svg\" /></a>\n",
    "  </td>\n",
    "</table>"
   ]
  },
  {
   "cell_type": "markdown",
   "id": "e0c5b198",
   "metadata": {
    "slideshow": {
     "slide_type": "slide"
    }
   },
   "source": [
    "### [Video de apoyo a la lectura interactiva y experimental de este cuaderno]()"
   ]
  },
  {
   "cell_type": "markdown",
   "id": "41e82203",
   "metadata": {
    "slideshow": {
     "slide_type": "slide"
    }
   },
   "source": [
    "## [Vínculo al programa del curso:  ]()\n",
    "\n"
   ]
  },
  {
   "cell_type": "markdown",
   "id": "d11ab06d",
   "metadata": {
    "slideshow": {
     "slide_type": "slide"
    }
   },
   "source": [
    "Un reconocimiento a mis estudiantes que han construido conmigo este saber pedagógico:\n",
    "\n",
    "<img src = ''> \n",
    "\n"
   ]
  },
  {
   "cell_type": "markdown",
   "id": "8a74a56c-0ce6-4ad6-b985-553fd7fb68bb",
   "metadata": {},
   "source": [
    "Reconocimiento a las profesoras destacadas en enseñanza de la matemática en Colombia\n",
    "\n",
    "Aquí tienes algunas mujeres destacadas en Colombia en la enseñanza de la matemática, junto con una breve biografía de cada una:"
   ]
  },
  {
   "cell_type": "code",
   "execution_count": 1,
   "id": "7604880f",
   "metadata": {
    "slideshow": {
     "slide_type": "slide"
    }
   },
   "outputs": [
    {
     "data": {
      "application/vnd.microsoft.datawrangler.viewer.v0+json": {
       "columns": [
        {
         "name": "index",
         "rawType": "int64",
         "type": "integer"
        },
        {
         "name": "Cedula",
         "rawType": "int64",
         "type": "integer"
        },
        {
         "name": "Nombre",
         "rawType": "object",
         "type": "string"
        },
        {
         "name": "Email",
         "rawType": "object",
         "type": "string"
        },
        {
         "name": "quiz_1",
         "rawType": "float64",
         "type": "float"
        },
        {
         "name": "taller_clase",
         "rawType": "float64",
         "type": "float"
        },
        {
         "name": "Proyecto_1",
         "rawType": "float64",
         "type": "float"
        },
        {
         "name": "proyecto_2",
         "rawType": "float64",
         "type": "float"
        },
        {
         "name": "google_colab_operadores logicos",
         "rawType": "float64",
         "type": "float"
        },
        {
         "name": "parcial_1",
         "rawType": "float64",
         "type": "float"
        }
       ],
       "conversionMethod": "pd.DataFrame",
       "ref": "c5c4e7eb-33a8-4102-91b0-29496b11f3b1",
       "rows": [
        [
         "0",
         "1067281024",
         "ALVAREZ GOEZ DAIRO ESTEBAN",
         "dairo.alvarez1@udea.edu.co",
         null,
         "5.0",
         null,
         null,
         null,
         null
        ],
        [
         "1",
         "1041086439",
         "CASTILLO SIERRA SHIRLIS SARAY",
         "shirlis.castillo@udea.edu.co",
         "5.0",
         "4.0",
         "5.0",
         null,
         null,
         null
        ],
        [
         "2",
         "1045419649",
         "ESPINOSA ESPINOSA LILIANA ANDREA",
         "lilianaa.espinosa@udea.edu.co",
         "4.5",
         "5.0",
         "5.0",
         null,
         null,
         "5.0"
        ],
        [
         "3",
         "1040494191",
         "GARCIA PADILLA JHONATAN",
         "jhonatan.garcia1@udea.edu.co",
         "5.0",
         "5.0",
         null,
         null,
         null,
         null
        ],
        [
         "4",
         "1038098851",
         "GUERRA OSORIO SIMON",
         "s.guerra@udea.edu.co",
         "5.0",
         "5.0",
         null,
         null,
         null,
         "3.0"
        ],
        [
         "5",
         "1038131529",
         "HOYOS ARRIETA ELIECER JOSE",
         "jose.hoyos2@udea.edu.co",
         "5.0",
         "5.0",
         "5.0",
         "5.0",
         null,
         "5.0"
        ],
        [
         "6",
         "1038116007",
         "MARIAGA BALLESTEROS KEILA MELIZA",
         "keila.mariaga@udea.edu.co",
         null,
         "0.0",
         "5.0",
         null,
         null,
         null
        ],
        [
         "7",
         "3667402",
         "MARIN MARTINEZ FRANCISCO JAVIER",
         "fjavier.marin@udea.edu.co",
         "1.0",
         "4.0",
         null,
         null,
         null,
         "1.0"
        ],
        [
         "8",
         "1007112550",
         "MARTINEZ MENDOZA JAIR MIGUEL",
         "jair.mmendoza@udea.edu.co",
         "3.0",
         "4.5",
         null,
         null,
         null,
         null
        ],
        [
         "9",
         "1038092575",
         "OSORIO ACEVEDO LUIS MARIO",
         "luismario.osorio@udea.edu.co",
         null,
         "5.0",
         null,
         null,
         null,
         null
        ],
        [
         "10",
         "1038130817",
         "PENATE PENA JHON SEBASTIAN",
         "jhon.penate@udea.edu.co",
         "4.0",
         "5.0",
         "4.0",
         null,
         null,
         "3.5"
        ],
        [
         "11",
         "1040494087",
         "POLANCO LUCAS FABIER GABRIEL",
         "fabier.polanco@udea.edu.co",
         "5.0",
         "0.0",
         null,
         null,
         null,
         null
        ],
        [
         "12",
         "1019842256",
         "RODELO ZABALA ARIANA",
         "a.rodelo@udea.edu.co",
         null,
         "5.0",
         null,
         null,
         "4.0",
         "4.0"
        ],
        [
         "13",
         "1042822239",
         "RODRIGUEZ MOSQUERA ANGELA MARIA",
         "maria.rodriguez8@udea.edu.co",
         "2.5",
         "1.0",
         null,
         null,
         null,
         null
        ],
        [
         "14",
         "1038436130",
         "ROHENES DE ARCO CAMILO ANDRES",
         "camilo.rohenes@udea.edu.co",
         null,
         "5.0",
         null,
         null,
         null,
         null
        ],
        [
         "15",
         "1038436131",
         "ROHENES DE ARCO DIEGO ANDRES",
         "diego.rohenes@udea.edu.co",
         "5.0",
         "5.0",
         null,
         null,
         null,
         null
        ],
        [
         "16",
         "1032251887",
         "SIERRA OLIVEROS OMAR DARIO",
         "omar.sierra1@udea.edu.co",
         null,
         "5.0",
         null,
         null,
         null,
         null
        ],
        [
         "17",
         "1038646944",
         "SILVA URDA FABIAN",
         "fabian.silva1@udea.edu.co",
         null,
         "5.0",
         "5.0",
         null,
         null,
         null
        ],
        [
         "18",
         "1007429411",
         "VILLA CABARCA SANDY JANETH",
         "sandy.villac@udea.edu.co",
         "5.0",
         "5.0",
         "5.0",
         null,
         null,
         null
        ]
       ],
       "shape": {
        "columns": 9,
        "rows": 19
       }
      },
      "text/html": [
       "<div>\n",
       "<style scoped>\n",
       "    .dataframe tbody tr th:only-of-type {\n",
       "        vertical-align: middle;\n",
       "    }\n",
       "\n",
       "    .dataframe tbody tr th {\n",
       "        vertical-align: top;\n",
       "    }\n",
       "\n",
       "    .dataframe thead th {\n",
       "        text-align: right;\n",
       "    }\n",
       "</style>\n",
       "<table border=\"1\" class=\"dataframe\">\n",
       "  <thead>\n",
       "    <tr style=\"text-align: right;\">\n",
       "      <th></th>\n",
       "      <th>Cedula</th>\n",
       "      <th>Nombre</th>\n",
       "      <th>Email</th>\n",
       "      <th>quiz_1</th>\n",
       "      <th>taller_clase</th>\n",
       "      <th>Proyecto_1</th>\n",
       "      <th>proyecto_2</th>\n",
       "      <th>google_colab_operadores logicos</th>\n",
       "      <th>parcial_1</th>\n",
       "    </tr>\n",
       "  </thead>\n",
       "  <tbody>\n",
       "    <tr>\n",
       "      <th>0</th>\n",
       "      <td>1067281024</td>\n",
       "      <td>ALVAREZ GOEZ DAIRO ESTEBAN</td>\n",
       "      <td>dairo.alvarez1@udea.edu.co</td>\n",
       "      <td>NaN</td>\n",
       "      <td>5.0</td>\n",
       "      <td>NaN</td>\n",
       "      <td>NaN</td>\n",
       "      <td>NaN</td>\n",
       "      <td>NaN</td>\n",
       "    </tr>\n",
       "    <tr>\n",
       "      <th>1</th>\n",
       "      <td>1041086439</td>\n",
       "      <td>CASTILLO SIERRA SHIRLIS SARAY</td>\n",
       "      <td>shirlis.castillo@udea.edu.co</td>\n",
       "      <td>5.0</td>\n",
       "      <td>4.0</td>\n",
       "      <td>5.0</td>\n",
       "      <td>NaN</td>\n",
       "      <td>NaN</td>\n",
       "      <td>NaN</td>\n",
       "    </tr>\n",
       "    <tr>\n",
       "      <th>2</th>\n",
       "      <td>1045419649</td>\n",
       "      <td>ESPINOSA ESPINOSA LILIANA ANDREA</td>\n",
       "      <td>lilianaa.espinosa@udea.edu.co</td>\n",
       "      <td>4.5</td>\n",
       "      <td>5.0</td>\n",
       "      <td>5.0</td>\n",
       "      <td>NaN</td>\n",
       "      <td>NaN</td>\n",
       "      <td>5.0</td>\n",
       "    </tr>\n",
       "    <tr>\n",
       "      <th>3</th>\n",
       "      <td>1040494191</td>\n",
       "      <td>GARCIA PADILLA JHONATAN</td>\n",
       "      <td>jhonatan.garcia1@udea.edu.co</td>\n",
       "      <td>5.0</td>\n",
       "      <td>5.0</td>\n",
       "      <td>NaN</td>\n",
       "      <td>NaN</td>\n",
       "      <td>NaN</td>\n",
       "      <td>NaN</td>\n",
       "    </tr>\n",
       "    <tr>\n",
       "      <th>4</th>\n",
       "      <td>1038098851</td>\n",
       "      <td>GUERRA OSORIO SIMON</td>\n",
       "      <td>s.guerra@udea.edu.co</td>\n",
       "      <td>5.0</td>\n",
       "      <td>5.0</td>\n",
       "      <td>NaN</td>\n",
       "      <td>NaN</td>\n",
       "      <td>NaN</td>\n",
       "      <td>3.0</td>\n",
       "    </tr>\n",
       "    <tr>\n",
       "      <th>5</th>\n",
       "      <td>1038131529</td>\n",
       "      <td>HOYOS ARRIETA ELIECER JOSE</td>\n",
       "      <td>jose.hoyos2@udea.edu.co</td>\n",
       "      <td>5.0</td>\n",
       "      <td>5.0</td>\n",
       "      <td>5.0</td>\n",
       "      <td>5.0</td>\n",
       "      <td>NaN</td>\n",
       "      <td>5.0</td>\n",
       "    </tr>\n",
       "    <tr>\n",
       "      <th>6</th>\n",
       "      <td>1038116007</td>\n",
       "      <td>MARIAGA BALLESTEROS KEILA MELIZA</td>\n",
       "      <td>keila.mariaga@udea.edu.co</td>\n",
       "      <td>NaN</td>\n",
       "      <td>0.0</td>\n",
       "      <td>5.0</td>\n",
       "      <td>NaN</td>\n",
       "      <td>NaN</td>\n",
       "      <td>NaN</td>\n",
       "    </tr>\n",
       "    <tr>\n",
       "      <th>7</th>\n",
       "      <td>3667402</td>\n",
       "      <td>MARIN MARTINEZ FRANCISCO JAVIER</td>\n",
       "      <td>fjavier.marin@udea.edu.co</td>\n",
       "      <td>1.0</td>\n",
       "      <td>4.0</td>\n",
       "      <td>NaN</td>\n",
       "      <td>NaN</td>\n",
       "      <td>NaN</td>\n",
       "      <td>1.0</td>\n",
       "    </tr>\n",
       "    <tr>\n",
       "      <th>8</th>\n",
       "      <td>1007112550</td>\n",
       "      <td>MARTINEZ MENDOZA JAIR MIGUEL</td>\n",
       "      <td>jair.mmendoza@udea.edu.co</td>\n",
       "      <td>3.0</td>\n",
       "      <td>4.5</td>\n",
       "      <td>NaN</td>\n",
       "      <td>NaN</td>\n",
       "      <td>NaN</td>\n",
       "      <td>NaN</td>\n",
       "    </tr>\n",
       "    <tr>\n",
       "      <th>9</th>\n",
       "      <td>1038092575</td>\n",
       "      <td>OSORIO ACEVEDO LUIS MARIO</td>\n",
       "      <td>luismario.osorio@udea.edu.co</td>\n",
       "      <td>NaN</td>\n",
       "      <td>5.0</td>\n",
       "      <td>NaN</td>\n",
       "      <td>NaN</td>\n",
       "      <td>NaN</td>\n",
       "      <td>NaN</td>\n",
       "    </tr>\n",
       "    <tr>\n",
       "      <th>10</th>\n",
       "      <td>1038130817</td>\n",
       "      <td>PENATE PENA JHON SEBASTIAN</td>\n",
       "      <td>jhon.penate@udea.edu.co</td>\n",
       "      <td>4.0</td>\n",
       "      <td>5.0</td>\n",
       "      <td>4.0</td>\n",
       "      <td>NaN</td>\n",
       "      <td>NaN</td>\n",
       "      <td>3.5</td>\n",
       "    </tr>\n",
       "    <tr>\n",
       "      <th>11</th>\n",
       "      <td>1040494087</td>\n",
       "      <td>POLANCO LUCAS FABIER GABRIEL</td>\n",
       "      <td>fabier.polanco@udea.edu.co</td>\n",
       "      <td>5.0</td>\n",
       "      <td>0.0</td>\n",
       "      <td>NaN</td>\n",
       "      <td>NaN</td>\n",
       "      <td>NaN</td>\n",
       "      <td>NaN</td>\n",
       "    </tr>\n",
       "    <tr>\n",
       "      <th>12</th>\n",
       "      <td>1019842256</td>\n",
       "      <td>RODELO ZABALA ARIANA</td>\n",
       "      <td>a.rodelo@udea.edu.co</td>\n",
       "      <td>NaN</td>\n",
       "      <td>5.0</td>\n",
       "      <td>NaN</td>\n",
       "      <td>NaN</td>\n",
       "      <td>4.0</td>\n",
       "      <td>4.0</td>\n",
       "    </tr>\n",
       "    <tr>\n",
       "      <th>13</th>\n",
       "      <td>1042822239</td>\n",
       "      <td>RODRIGUEZ MOSQUERA ANGELA MARIA</td>\n",
       "      <td>maria.rodriguez8@udea.edu.co</td>\n",
       "      <td>2.5</td>\n",
       "      <td>1.0</td>\n",
       "      <td>NaN</td>\n",
       "      <td>NaN</td>\n",
       "      <td>NaN</td>\n",
       "      <td>NaN</td>\n",
       "    </tr>\n",
       "    <tr>\n",
       "      <th>14</th>\n",
       "      <td>1038436130</td>\n",
       "      <td>ROHENES DE ARCO CAMILO ANDRES</td>\n",
       "      <td>camilo.rohenes@udea.edu.co</td>\n",
       "      <td>NaN</td>\n",
       "      <td>5.0</td>\n",
       "      <td>NaN</td>\n",
       "      <td>NaN</td>\n",
       "      <td>NaN</td>\n",
       "      <td>NaN</td>\n",
       "    </tr>\n",
       "    <tr>\n",
       "      <th>15</th>\n",
       "      <td>1038436131</td>\n",
       "      <td>ROHENES DE ARCO DIEGO ANDRES</td>\n",
       "      <td>diego.rohenes@udea.edu.co</td>\n",
       "      <td>5.0</td>\n",
       "      <td>5.0</td>\n",
       "      <td>NaN</td>\n",
       "      <td>NaN</td>\n",
       "      <td>NaN</td>\n",
       "      <td>NaN</td>\n",
       "    </tr>\n",
       "    <tr>\n",
       "      <th>16</th>\n",
       "      <td>1032251887</td>\n",
       "      <td>SIERRA OLIVEROS OMAR DARIO</td>\n",
       "      <td>omar.sierra1@udea.edu.co</td>\n",
       "      <td>NaN</td>\n",
       "      <td>5.0</td>\n",
       "      <td>NaN</td>\n",
       "      <td>NaN</td>\n",
       "      <td>NaN</td>\n",
       "      <td>NaN</td>\n",
       "    </tr>\n",
       "    <tr>\n",
       "      <th>17</th>\n",
       "      <td>1038646944</td>\n",
       "      <td>SILVA URDA FABIAN</td>\n",
       "      <td>fabian.silva1@udea.edu.co</td>\n",
       "      <td>NaN</td>\n",
       "      <td>5.0</td>\n",
       "      <td>5.0</td>\n",
       "      <td>NaN</td>\n",
       "      <td>NaN</td>\n",
       "      <td>NaN</td>\n",
       "    </tr>\n",
       "    <tr>\n",
       "      <th>18</th>\n",
       "      <td>1007429411</td>\n",
       "      <td>VILLA CABARCA SANDY JANETH</td>\n",
       "      <td>sandy.villac@udea.edu.co</td>\n",
       "      <td>5.0</td>\n",
       "      <td>5.0</td>\n",
       "      <td>5.0</td>\n",
       "      <td>NaN</td>\n",
       "      <td>NaN</td>\n",
       "      <td>NaN</td>\n",
       "    </tr>\n",
       "  </tbody>\n",
       "</table>\n",
       "</div>"
      ],
      "text/plain": [
       "        Cedula                            Nombre  \\\n",
       "0   1067281024        ALVAREZ GOEZ DAIRO ESTEBAN   \n",
       "1   1041086439     CASTILLO SIERRA SHIRLIS SARAY   \n",
       "2   1045419649  ESPINOSA ESPINOSA LILIANA ANDREA   \n",
       "3   1040494191           GARCIA PADILLA JHONATAN   \n",
       "4   1038098851               GUERRA OSORIO SIMON   \n",
       "5   1038131529        HOYOS ARRIETA ELIECER JOSE   \n",
       "6   1038116007  MARIAGA BALLESTEROS KEILA MELIZA   \n",
       "7      3667402   MARIN MARTINEZ FRANCISCO JAVIER   \n",
       "8   1007112550      MARTINEZ MENDOZA JAIR MIGUEL   \n",
       "9   1038092575         OSORIO ACEVEDO LUIS MARIO   \n",
       "10  1038130817        PENATE PENA JHON SEBASTIAN   \n",
       "11  1040494087      POLANCO LUCAS FABIER GABRIEL   \n",
       "12  1019842256              RODELO ZABALA ARIANA   \n",
       "13  1042822239   RODRIGUEZ MOSQUERA ANGELA MARIA   \n",
       "14  1038436130     ROHENES DE ARCO CAMILO ANDRES   \n",
       "15  1038436131      ROHENES DE ARCO DIEGO ANDRES   \n",
       "16  1032251887        SIERRA OLIVEROS OMAR DARIO   \n",
       "17  1038646944                 SILVA URDA FABIAN   \n",
       "18  1007429411        VILLA CABARCA SANDY JANETH   \n",
       "\n",
       "                            Email  quiz_1  taller_clase  Proyecto_1  \\\n",
       "0      dairo.alvarez1@udea.edu.co     NaN           5.0         NaN   \n",
       "1    shirlis.castillo@udea.edu.co     5.0           4.0         5.0   \n",
       "2   lilianaa.espinosa@udea.edu.co     4.5           5.0         5.0   \n",
       "3    jhonatan.garcia1@udea.edu.co     5.0           5.0         NaN   \n",
       "4            s.guerra@udea.edu.co     5.0           5.0         NaN   \n",
       "5         jose.hoyos2@udea.edu.co     5.0           5.0         5.0   \n",
       "6       keila.mariaga@udea.edu.co     NaN           0.0         5.0   \n",
       "7       fjavier.marin@udea.edu.co     1.0           4.0         NaN   \n",
       "8       jair.mmendoza@udea.edu.co     3.0           4.5         NaN   \n",
       "9    luismario.osorio@udea.edu.co     NaN           5.0         NaN   \n",
       "10        jhon.penate@udea.edu.co     4.0           5.0         4.0   \n",
       "11     fabier.polanco@udea.edu.co     5.0           0.0         NaN   \n",
       "12           a.rodelo@udea.edu.co     NaN           5.0         NaN   \n",
       "13   maria.rodriguez8@udea.edu.co     2.5           1.0         NaN   \n",
       "14     camilo.rohenes@udea.edu.co     NaN           5.0         NaN   \n",
       "15      diego.rohenes@udea.edu.co     5.0           5.0         NaN   \n",
       "16       omar.sierra1@udea.edu.co     NaN           5.0         NaN   \n",
       "17      fabian.silva1@udea.edu.co     NaN           5.0         5.0   \n",
       "18       sandy.villac@udea.edu.co     5.0           5.0         5.0   \n",
       "\n",
       "    proyecto_2  google_colab_operadores logicos  parcial_1  \n",
       "0          NaN                              NaN        NaN  \n",
       "1          NaN                              NaN        NaN  \n",
       "2          NaN                              NaN        5.0  \n",
       "3          NaN                              NaN        NaN  \n",
       "4          NaN                              NaN        3.0  \n",
       "5          5.0                              NaN        5.0  \n",
       "6          NaN                              NaN        NaN  \n",
       "7          NaN                              NaN        1.0  \n",
       "8          NaN                              NaN        NaN  \n",
       "9          NaN                              NaN        NaN  \n",
       "10         NaN                              NaN        3.5  \n",
       "11         NaN                              NaN        NaN  \n",
       "12         NaN                              4.0        4.0  \n",
       "13         NaN                              NaN        NaN  \n",
       "14         NaN                              NaN        NaN  \n",
       "15         NaN                              NaN        NaN  \n",
       "16         NaN                              NaN        NaN  \n",
       "17         NaN                              NaN        NaN  \n",
       "18         NaN                              NaN        NaN  "
      ]
     },
     "execution_count": 1,
     "metadata": {},
     "output_type": "execute_result"
    }
   ],
   "source": [
    "import pandas as pd\n",
    "import numpy as np\n",
    "\n",
    "# Cargar la lista de estudiantes desde la URL\n",
    "path = 'C:/Users/marco/Documentos/docencia/groups_list/logica.xlsx'\n",
    "estudiantes = pd.read_excel(path)\n",
    "estudiantes \n"
   ]
  },
  {
   "cell_type": "markdown",
   "id": "d7598d0a-d9b7-4ae0-b029-a0ed6ed1130b",
   "metadata": {},
   "source": [
    "\n",
    "# Principios de mi labor docente"
   ]
  },
  {
   "cell_type": "markdown",
   "id": "4f9d8cf9",
   "metadata": {
    "slideshow": {
     "slide_type": "slide"
    }
   },
   "source": [
    "## Modelo general de clase: [aula invertida](https://www3.gobiernodecanarias.org/medusa/ecoescuela/pedagotic/aprendizaje-invertido-flipped-classroom/)"
   ]
  },
  {
   "cell_type": "markdown",
   "id": "eb6ed03a",
   "metadata": {},
   "source": [
    "<img src = 'https://resources.maneuveringthemiddle.com/wp-content/uploads/2020/07/04212706/1-5.png' width = 400>"
   ]
  },
  {
   "cell_type": "markdown",
   "id": "34319cce-a71b-4f64-aab8-b53e521efa40",
   "metadata": {},
   "source": [
    "# Metodología de Aprendizaje Basado en Problemas y Proyectos (ABPP)\n"
   ]
  },
  {
   "cell_type": "markdown",
   "id": "c97704ab",
   "metadata": {},
   "source": [
    "\n",
    "<img src = 'https://www.unir.net/wp-content/uploads/2020/07/aprendizaje-problemas2-1-1-1-1.jpeg' width = 400>"
   ]
  },
  {
   "cell_type": "markdown",
   "id": "841a985c-bd9b-4dd3-8e4c-893983980af2",
   "metadata": {},
   "source": [
    "# Desarrollo del pensamiento computacional con python y R, y cuadernos Jupyter  orientado a la formación en ciencia de datos \n"
   ]
  },
  {
   "cell_type": "markdown",
   "id": "47b66627",
   "metadata": {},
   "source": [
    "\n",
    "\n",
    "<img src = 'https://i.ytimg.com/vi/mcG_wcR4e6M/maxresdefault.jpg' width = 400> "
   ]
  },
  {
   "cell_type": "markdown",
   "id": "65aa0404-f7ae-495e-864c-1aec01b4255e",
   "metadata": {},
   "source": [
    "# Principio de fomento a la ciencia abierta, enseñar en el acceso a los datos públicos y el uso de software de código abierto  \n"
   ]
  },
  {
   "cell_type": "markdown",
   "id": "d007f013",
   "metadata": {},
   "source": [
    "\n",
    "<img src = 'https://unesdoc.unesco.org/in/rest/Thumb/image?id=p%3A%3Ausmarcdef_0000379949_spa&author=UNESCO&title=Recomendaci%C3%B3n+de+la+UNESCO+sobre+la+Ciencia+Abierta&year=2021&publisher=UNESCO&TypeOfDocument=UnescoPhysicalDocument&mat=PGD&ct=true&size=512&isPhysical=1' width = 300>"
   ]
  },
  {
   "cell_type": "markdown",
   "id": "d9559f85",
   "metadata": {},
   "source": [
    "El enfoque STEAMS en educación preescolar, primaria, secundaria y universidad es una extensión del enfoque STEM (Ciencia, Tecnología, Ingeniería y Matemáticas) y su variante STEAM, que incorpora el Arte. El acrónimo STEAMS incluye:\n"
   ]
  },
  {
   "cell_type": "markdown",
   "id": "dfe23d88",
   "metadata": {},
   "source": [
    "\n",
    "1. **Science (Ciencia):** Fomenta la curiosidad por el mundo natural y el desarrollo de habilidades científicas, como la observación, experimentación y análisis.\n",
    "\n",
    "2. **Technology (Tecnología):** Integra herramientas tecnológicas para potenciar el aprendizaje y la resolución de problemas, promoviendo la alfabetización digital desde edades tempranas.\n",
    "\n",
    "3. **Engineering (Ingeniería):** Introduce el pensamiento lógico y la resolución de problemas estructurados, fomentando habilidades como el diseño y la construcción de soluciones.\n"
   ]
  },
  {
   "cell_type": "markdown",
   "id": "a32cd321",
   "metadata": {},
   "source": [
    "\n",
    "4. **Arts (Arte):** Añade creatividad y pensamiento crítico, permitiendo a los estudiantes expresarse y explorar el aprendizaje a través de formas artísticas (plásticas, música, teatro).\n"
   ]
  },
  {
   "cell_type": "markdown",
   "id": "68043097",
   "metadata": {},
   "source": [
    "\n",
    "5. **Mathematics (Matemáticas):** Refuerza las habilidades numéricas y el razonamiento lógico, fundamentales en la resolución de problemas y comprensión de conceptos abstractos.\n"
   ]
  },
  {
   "cell_type": "markdown",
   "id": "39b387d5",
   "metadata": {},
   "source": [
    "\n",
    "6. **Social Sciences (Ciencias Sociales):** Incorpora la comprensión del entorno social, político, cultural y económico, promoviendo el desarrollo de la conciencia crítica sobre el mundo y su historia, además de habilidades de empatía y ciudadanía.\n"
   ]
  },
  {
   "cell_type": "markdown",
   "id": "5b22eaf3",
   "metadata": {},
   "source": [
    "\n",
    "El enfoque STEAMS pretende desarrollar un aprendizaje **interdisciplinario** que integre estas áreas para fomentar un pensamiento más holístico y práctico. "
   ]
  },
  {
   "cell_type": "markdown",
   "id": "40d3b33b",
   "metadata": {},
   "source": [
    "Se busca que los estudiantes no solo aprendan conocimientos técnicos, sino también cómo aplicarlos creativa y críticamente en situaciones reales, promoviendo habilidades como el trabajo en equipo, la comunicación y la innovación. "
   ]
  },
  {
   "cell_type": "markdown",
   "id": "39e5e50f",
   "metadata": {},
   "source": [
    "En educación preescolar, primaria y secundaria, se adapta a las diferentes etapas de desarrollo cognitivo y emocional de los estudiantes, promoviendo el aprendizaje activo y contextualizado.  \n"
   ]
  },
  {
   "cell_type": "markdown",
   "id": "654b9c07",
   "metadata": {},
   "source": [
    "\n",
    "<img src = 'https://www.campuseducacion.com/blog/wp-content/uploads/2023/03/foto01-1.jpg' width = 400>"
   ]
  },
  {
   "cell_type": "markdown",
   "id": "9d15c10d-2c02-4158-9419-b1ed79b4c1ee",
   "metadata": {},
   "source": [
    "# Qué estamos haciendo por la internalización en esta clase y este curso  \n",
    "\n",
    "Para presentar tus acciones como docente de matemáticas en la Universidad de Antioquia con miras a la **internacionalización** de tu práctica docente y el desarrollo de competencias internacionales en tus estudiantes, te sugiero estructurar tu enfoque en los siguientes aspectos clave:"
   ]
  },
  {
   "cell_type": "markdown",
   "id": "964d9de7-53ee-4255-9bcd-d8e6454f2993",
   "metadata": {},
   "source": [
    "### 1. **Visión Global en la Formación Académica**\n",
    "   - **Competencias Internacionales**: Asegúrate de que el contenido de tus cursos fomente habilidades que sean reconocidas globalmente. Al educar a los estudiantes en **Python, LaTeX, Markdown y Jupyter Notebooks** y en la **introducción a la ciencia de datos y técnicas de Machine Learning**, estás proporcionando competencias altamente demandadas en los sectores tecnológicos y académicos a nivel internacional.\n"
   ]
  },
  {
   "cell_type": "markdown",
   "id": "a1cbc8d6",
   "metadata": {},
   "source": [
    "   - **Relevancia de los Contenidos**: Destaca cómo los temas que enseñas, como el **desarrollo del pensamiento computacional** y la **ciencia de datos**, están alineados con las necesidades globales actuales en diversas industrias, desde la tecnología hasta las ciencias naturales y sociales.\n"
   ]
  },
  {
   "cell_type": "markdown",
   "id": "97bfba2e",
   "metadata": {},
   "source": [
    "   - **Referencias a Estándares Internacionales**: Puedes vincular tu enseñanza a estándares internacionales de competencias en programación y ciencia de datos (por ejemplo, frameworks del **IEEE, ACM**, y estándares de la **data science** o la **computación en la nube**)."
   ]
  },
  {
   "cell_type": "markdown",
   "id": "0f1d110c-3142-48fe-9e7d-5fbd9e8bb931",
   "metadata": {},
   "source": [
    "### 2. **Innovación Pedagógica con Enfoque Internacional**\n"
   ]
  },
  {
   "cell_type": "markdown",
   "id": "ab583f94",
   "metadata": {},
   "source": [
    "   - **Aula Invertida y ABP**: Presenta cómo tu enfoque de **aula invertida** y **aprendizaje basado en problemas (ABP)** permite a los estudiantes trabajar de manera autónoma y colaborativa, lo que los prepara para escenarios laborales internacionales que requieren autoaprendizaje y habilidades de resolución de problemas en equipo.\n"
   ]
  },
  {
   "cell_type": "markdown",
   "id": "06ee7067",
   "metadata": {},
   "source": [
    "   - **Uso de Jupyter Notebooks**: El uso de **Jupyter Notebooks** en tus clases no solo facilita la **integración de código, matemáticas y texto**, sino que también es una plataforma utilizada globalmente en ambientes académicos y profesionales, lo que hace a tus estudiantes más competitivos internacionalmente."
   ]
  },
  {
   "cell_type": "markdown",
   "id": "960d52b7-03cd-4eb3-965e-5cdfeb7d9f8e",
   "metadata": {},
   "source": [
    "### 3. **Tecnología y Herramientas de Uso Global**\n"
   ]
  },
  {
   "cell_type": "markdown",
   "id": "eab90373",
   "metadata": {},
   "source": [
    "   - **Lenguaje Python**: Python es uno de los lenguajes de programación más usados a nivel mundial, tanto en la academia como en la industria. Al formar a tus estudiantes en Python para ciencia de datos y machine learning, los preparas para operar en entornos tecnológicos globales.\n"
   ]
  },
  {
   "cell_type": "markdown",
   "id": "6be6202f",
   "metadata": {},
   "source": [
    "   - **Herramientas de Ciencia Abierta**: Resalta cómo herramientas como **GitHub**, **Google Colab** y otras plataformas de código abierto están alineadas con el movimiento de **ciencia abierta**, el cual es internacionalmente reconocido y permite que los estudiantes colaboren y compartan proyectos a nivel global."
   ]
  },
  {
   "cell_type": "markdown",
   "id": "3b2ffa32-7a6f-4545-ba7b-c6a69f51109f",
   "metadata": {},
   "source": [
    "### 4. **Investigación y Publicaciones Internacionales**\n"
   ]
  },
  {
   "cell_type": "markdown",
   "id": "62364c4c",
   "metadata": {},
   "source": [
    "   - **Promoción de la Investigación**: Detalla cómo promueves que tus estudiantes participen en proyectos de **investigación aplicada**, con posibilidad de publicación en revistas internacionales. Esto contribuye a la reputación internacional de la Universidad de Antioquia.\n"
   ]
  },
  {
   "cell_type": "markdown",
   "id": "d099ffca",
   "metadata": {},
   "source": [
    "   - **Colaboraciones Internacionales**: Si has colaborado con investigadores de otras instituciones o universidades en el extranjero, menciona estos proyectos y cómo han enriquecido tu enseñanza y proporcionado a los estudiantes una visión más globalizada."
   ]
  },
  {
   "cell_type": "markdown",
   "id": "5d1e396e-aece-4bf7-9421-32fa7809eaf4",
   "metadata": {},
   "source": [
    "### 5. **Uso del Inglés para la Internacionalización**\n"
   ]
  },
  {
   "cell_type": "markdown",
   "id": "ff8f2f0a",
   "metadata": {},
   "source": [
    "   - **Comunicación Científica en Inglés**: Fomentar el aprendizaje del inglés como lengua científica es clave para que tus estudiantes puedan acceder a publicaciones internacionales, conferencias, y material académico que no está disponible en español. Esto es esencial para que adquieran competencias que les permitan desempeñarse en cualquier contexto internacional.\n"
   ]
  },
  {
   "cell_type": "markdown",
   "id": "1b0705d5",
   "metadata": {},
   "source": [
    "   - **Material Bilingüe**: Al generar material educativo en Python, LaTeX y Markdown, considera ofrecer algunos de estos recursos en inglés, para que los estudiantes se familiaricen con el vocabulario técnico y científico internacional."
   ]
  },
  {
   "cell_type": "markdown",
   "id": "c6a8c3b0-426a-4692-a384-3065aea81c9a",
   "metadata": {},
   "source": [
    "### 6. **Certificaciones y Estándares Internacionales**\n",
    "   - **Participación en Certificaciones Internacionales**: Impulsa que los estudiantes busquen certificaciones internacionales en Python o ciencia de datos (como las ofrecidas por **Coursera, edX,** o **Google**). Estas certificaciones no solo validan sus competencias, sino que también incrementan el reconocimiento de la Universidad de Antioquia en el contexto internacional.\n"
   ]
  },
  {
   "cell_type": "markdown",
   "id": "aeb066fc",
   "metadata": {},
   "source": [
    "   - **Alineación con Acreditaciones Internacionales**: Vincula tu trabajo docente con los estándares de acreditación y certificación que garantizan que la universidad siga siendo reconocida internacionalmente. "
   ]
  },
  {
   "cell_type": "markdown",
   "id": "5e52cd22",
   "metadata": {},
   "source": [
    "Puedes vincularte con organizaciones internacionales que promuevan la excelencia en la educación y tecnología, como **ABET** para la acreditación en ingeniería y ciencias computacionales."
   ]
  },
  {
   "cell_type": "markdown",
   "id": "65d3d9e1-ea84-43e0-8197-a2a9c9e21594",
   "metadata": {},
   "source": [
    "### 7. **Proyectos Abiertos y Ciencia Reproducible**\n",
    "   - **GitHub y Open Science**: La utilización de **GitHub** para almacenar los proyectos y materiales de enseñanza en repositorios públicos permite que otros investigadores y educadores internacionales puedan revisar y replicar tu trabajo. Esto contribuye a la creación de una red de colaboración científica abierta.\n"
   ]
  },
  {
   "cell_type": "markdown",
   "id": "990aff0a",
   "metadata": {},
   "source": [
    "   - **Transparencia y Reproducibilidad**: La ciencia de datos y machine learning están profundamente ligados a la reproducibilidad. Asegura que tus estudiantes desarrollen prácticas de transparencia y documentación en la investigación, que son pilares en la comunidad científica global.\n"
   ]
  },
  {
   "cell_type": "markdown",
   "id": "9aeae17c",
   "metadata": {},
   "source": [
    "\n",
    "### 8. **Participación en Redes y Conferencias Internacionales**\n",
    "   - **Presentación en Conferencias Internacionales**: Destaca cómo tu participación en conferencias internacionales (como la **ASCOLFA** o eventos sobre educación en matemáticas) contribuye al prestigio de la universidad y permite que tus prácticas sean evaluadas y reconocidas a nivel global.\n"
   ]
  },
  {
   "cell_type": "markdown",
   "id": "89f618de",
   "metadata": {},
   "source": [
    "   - **Promoción de Estudiantes en Eventos Internacionales**: Impulsa la participación de tus estudiantes en competiciones internacionales de programación o hackathons, como los organizados por **Google**, **ACM** o **Kaggle**. Esto no solo desarrolla sus habilidades, sino que también visibiliza el talento de la Universidad de Antioquia a nivel global.\n",
    "\n",
    "---"
   ]
  },
  {
   "cell_type": "markdown",
   "id": "233294a4-1983-4641-a7ad-866825e02315",
   "metadata": {},
   "source": [
    "Con esta estrategia, presento mis acciones docentes en términos de competencias internacionales, innovación pedagógica, tecnología, investigación y participación en redes globales, asegurando que tu práctica esté alineada con los estándares internacionales y que tus estudiantes estén preparados para competir en contextos internacionales."
   ]
  },
  {
   "cell_type": "markdown",
   "id": "8d97dc80",
   "metadata": {
    "slideshow": {
     "slide_type": "slide"
    }
   },
   "source": [
    "## Fomento al desarrollo de habilidades emocionales y de comunicación y convivencia amable y asertiva\n",
    "\n"
   ]
  },
  {
   "cell_type": "markdown",
   "id": "96775931",
   "metadata": {
    "slideshow": {
     "slide_type": "slide"
    }
   },
   "source": [
    "## Título de la clase:  Método directo de demostración\n",
    "\n",
    "[]()"
   ]
  },
  {
   "cell_type": "markdown",
   "id": "1d38dd4e",
   "metadata": {
    "slideshow": {
     "slide_type": "slide"
    }
   },
   "source": [
    "### Objetivo de aprendizaje (Enunciar, de manera corta sencilla y clara para todos los asistentes)\n",
    "\n",
    "Que el licendiado aprenda a deducir una tesis a partir de una hipótesis como un proceso secuencial en el que justifica cada paso del proceso utilizando propiedades de las operaciones en el contexto numérico que se encuentre y de los operadores de comparación. \n",
    "\n",
    " \n"
   ]
  },
  {
   "cell_type": "markdown",
   "id": "5e042aed",
   "metadata": {},
   "source": [
    "# Cómo aprender a deducir  \n"
   ]
  },
  {
   "cell_type": "markdown",
   "id": "ffa94272",
   "metadata": {},
   "source": [
    "\n",
    "Entrenar a tus estudiantes en la construcción de **cadenas deductivas** de 6 o 7 eslabones implica guiarlos para que desarrollen la capacidad de aplicar **razonamientos lógicos** secuenciales y rigurosos que los conduzcan desde una **hipótesis** hasta una **conclusión** a través de pasos intermedios bien fundamentados. "
   ]
  },
  {
   "cell_type": "markdown",
   "id": "1e4d7922",
   "metadata": {},
   "source": [
    "Aquí te dejo un plan con estrategias y actividades para ayudarte a entrenar esta habilidad:\n"
   ]
  },
  {
   "cell_type": "markdown",
   "id": "b9011380",
   "metadata": {},
   "source": [
    "\n",
    "### 1. **Introducción al proceso deductivo**\n"
   ]
  },
  {
   "cell_type": "markdown",
   "id": "17ff8043",
   "metadata": {},
   "source": [
    "   - **Explica la deducción**: Comienza explicando el concepto de deducción como el proceso de partir de una hipótesis (premisas) y, mediante reglas lógicas o matemáticas, llegar a una tesis o conclusión.\n"
   ]
  },
  {
   "cell_type": "markdown",
   "id": "7be253b1",
   "metadata": {},
   "source": [
    "   - **Muestra ejemplos sencillos**: Expón ejemplos cortos, como la deducción del carácter par de un número cuadrado que mencionaste antes, para mostrar cómo se avanza de manera lógica y ordenada de una idea a otra.\n"
   ]
  },
  {
   "cell_type": "markdown",
   "id": "1858142c",
   "metadata": {},
   "source": [
    "\n",
    "### 2. **Descomposición de ejemplos en eslabones**\n",
    "   - **Desglosa deducciones largas**: Toma un ejemplo de una deducción completa (de 6 o 7 pasos) y descompón cada paso (eslabón). Explica por qué se realiza cada paso y qué regla lógica o propiedad matemática se está utilizando.\n",
    "   - **Enfatiza la justificación de cada paso**: Haz que los estudiantes justifiquen por qué el paso es válido (propiedad algebraica, definición de un concepto, teorema anterior, etc.).\n"
   ]
  },
  {
   "cell_type": "markdown",
   "id": "73abc13a",
   "metadata": {},
   "source": [
    "\n",
    "   **Ejemplo**: Deducción sobre la paridad de un número:\n",
    "   - Hipótesis: $a$ es un número par, entonces $a = 2p$ para algún $p \\in \\mathbb{N}$.\n",
    "   - Paso 1: $a^2 = (2p)^2 = 4p^2$. (Justificación: Los cuadrados de iguales son iguales en $\\mathbb{R}$)\n",
    "   - Paso 2: Factoriza: $a^2 = 2(2p^2)$.\n",
    "   - Paso 3: Definir $b = 2p^2$, de modo que $a^2 = 2b$.\n",
    "   - Paso 4: Dado que $b$ es un número natural, $a^2$ es par. (Porque la multiplicación en los enteros es cerrada)\n",
    "   - Tesis: El cuadrado de un número par es par.\n"
   ]
  },
  {
   "cell_type": "markdown",
   "id": "557f7ce8",
   "metadata": {},
   "source": [
    "\n",
    "### 3. **Practicar con deducciones guiadas**\n",
    "   - **Ejercicios semi-guiados**: Presenta ejercicios donde los estudiantes tengan que llenar los pasos faltantes en una deducción ya comenzada. Así pueden enfocarse en identificar cuál es el siguiente paso lógico sin estar abrumados por deducir todo el proceso.\n",
    "   - **Pistas para encadenar**: Da pistas o sugerencias sobre qué propiedad o regla deben aplicar en cada paso, de modo que aprendan a conectar las ideas sin perderse en el proceso.\n"
   ]
  },
  {
   "cell_type": "markdown",
   "id": "1204e08a",
   "metadata": {},
   "source": [
    "\n",
    "   **Ejemplo de ejercicio guiado**: Demostremos que el cuadrado de un múltiplo de 3 es multiplo de 3\n",
    "   - Hipótesis: Si $a$ es múltiplo de 3, entonces $a = 3k$ para algún $k \\in \\mathbb{N}$.\n",
    "   - Paso 1: Eleva al cuadrado: $a^2 = (3k)^2 = \\_ \\_ \\_ $.\n",
    "   - Paso 2: Factoriza para escribir $a^2$ como múltiplo de 3.\n",
    "   - Paso 3: Define una nueva variable que permita concluir que $a^2$ es múltiplo de 3.\n"
   ]
  },
  {
   "cell_type": "markdown",
   "id": "bb1f23de",
   "metadata": {},
   "source": [
    "\n",
    "### 4. **Construcción de deducciones completas**\n",
    "   - **Ejercicios no guiados**: Una vez que los estudiantes comprendan el formato y la lógica detrás de los pasos, dales ejercicios completos donde deban construir la deducción desde cero. Estos ejercicios pueden centrarse en propiedades matemáticas conocidas, como los números enteros, irracionales, la divisibilidad, etc.\n"
   ]
  },
  {
   "cell_type": "markdown",
   "id": "e887ce85",
   "metadata": {},
   "source": [
    "   \n",
    "   **Ejemplo**: \n",
    "   - Hipótesis: Si $n$ es un número impar, entonces $n^2$ también es impar.\n",
    "   - Deducción: Parte de la definición de un número impar ($n = 2k + 1$) y guía a los estudiantes a aplicar las propiedades algebraicas y justificar cada paso hasta concluir que $n^2$ es impar.\n"
   ]
  },
  {
   "cell_type": "markdown",
   "id": "3bb6abd7",
   "metadata": {},
   "source": [
    "\n",
    "### 5. **Incorporar visualización y lógica**\n"
   ]
  },
  {
   "cell_type": "markdown",
   "id": "db0a54ea",
   "metadata": {},
   "source": [
    "   - **Visualización de eslabones deductivos**: Usa diagramas de flujo o mapas conceptuales que muestren los pasos de una deducción. Esto ayuda a los estudiantes a visualizar cómo se conecta una idea con otra, lo que refuerza el pensamiento secuencial.\n"
   ]
  },
  {
   "cell_type": "markdown",
   "id": "db3fd8b3",
   "metadata": {},
   "source": [
    "   - **Relación con lógica formal**: Introduce ejercicios en los que relacionen estas deducciones con reglas de la lógica formal, como el modus ponens, silogismos, o las leyes de la lógica. Esto ayuda a fortalecer el razonamiento deductivo formal.\n"
   ]
  },
  {
   "cell_type": "markdown",
   "id": "52872cef",
   "metadata": {},
   "source": [
    "\n",
    "### 6. **Revisión colaborativa**\n"
   ]
  },
  {
   "cell_type": "markdown",
   "id": "c1add7bf",
   "metadata": {},
   "source": [
    "   - **Trabajo en parejas o grupos**: Divide a los estudiantes en parejas o pequeños grupos y pídeles que construyan deducciones juntos. Luego, que se revisen entre ellos, identificando posibles errores o puntos de mejora en la cadena deductiva de los otros.\n"
   ]
  },
  {
   "cell_type": "markdown",
   "id": "3be4c09a",
   "metadata": {},
   "source": [
    "   - **Discusión grupal**: Realiza una revisión colectiva de un ejercicio y promueve una discusión sobre por qué ciertos pasos son correctos o si hay otros caminos posibles para llegar a la misma conclusión.\n"
   ]
  },
  {
   "cell_type": "markdown",
   "id": "44e748fd",
   "metadata": {},
   "source": [
    "\n",
    "### 7. **Proyectos de deducción aplicada**\n"
   ]
  },
  {
   "cell_type": "markdown",
   "id": "baf5398a",
   "metadata": {},
   "source": [
    "   - **Desafíos de deducción avanzada**: A medida que tus estudiantes se sientan más cómodos, introduce problemas más complejos que requieran cadenas deductivas de 6 o 7 eslabones. Estos pueden incluir deducciones en álgebra, geometría o cálculo.\n",
    "   - **Ejemplos de deducción en el mundo real**: Anima a los estudiantes a encontrar ejemplos cotidianos o del mundo real donde puedan aplicar deducciones lógicas. Por ejemplo, en finanzas, optimización de recursos, o en teoría de juegos, deduciendo estrategias óptimas.\n"
   ]
  },
  {
   "cell_type": "markdown",
   "id": "ddbbcab2",
   "metadata": {},
   "source": [
    "\n",
    "### 8. **Rúbricas claras para evaluar deducciones**\n",
    "   - **Criterios de evaluación**: Asegúrate de que los estudiantes sepan cómo serán evaluados. "
   ]
  },
  {
   "cell_type": "markdown",
   "id": "751e5575",
   "metadata": {},
   "source": [
    "Proporcionales una rúbrica donde se valore la justificación de cada paso, la claridad en la secuencia de ideas, y la corrección matemática o lógica de los argumentos. "
   ]
  },
  {
   "cell_type": "markdown",
   "id": "4aad3a9f",
   "metadata": {},
   "source": [
    "Esto les ayudará a enfocarse en la precisión y la lógica en cada eslabón.\n"
   ]
  },
  {
   "cell_type": "markdown",
   "id": "74c57706",
   "metadata": {},
   "source": [
    "\n",
    "### 9. **Reforzar la práctica constante**\n"
   ]
  },
  {
   "cell_type": "markdown",
   "id": "ec11885a",
   "metadata": {},
   "source": [
    "   - **Ejercicios regulares**: Introduce ejercicios de deducción en tareas y evaluaciones con regularidad. Cuanta más práctica tengan los estudiantes, más cómodos se sentirán en la construcción de estas cadenas deductivas.\n",
    "   - **Retroalimentación individual**: Proporciona retroalimentación específica sobre los pasos deductivos de cada estudiante para ayudarles a mejorar sus habilidades de razonamiento.\n"
   ]
  },
  {
   "cell_type": "markdown",
   "id": "1a113d30",
   "metadata": {},
   "source": [
    "\n",
    "### Ejercicios propuestos:\n",
    "Aquí te dejo algunos ejercicios que puedes utilizar con tus estudiantes para construir cadenas deductivas:\n",
    "\n",
    "1. **Propiedad del número impar**: Deducir que si un número es impar, su cuadrado también es impar.\n",
    "2. **Producto de números primos**: Si el producto de dos números es primo, deducir que uno de ellos debe ser igual a 1.\n",
    "3. **Suma de números racionales**: Demostrar que la suma de dos números racionales es siempre un número racional.\n",
    "4. **Divisibilidad por 3**: Si la suma de las cifras de un número es divisible por 3, entonces el número es divisible por 3.\n",
    "5. **Ángulos complementarios**: Los complementos de angulos congruentes, son congruentes. \n"
   ]
  },
  {
   "cell_type": "markdown",
   "id": "5f0a2977",
   "metadata": {},
   "source": [
    "\n",
    "Con estas estrategias y ejercicios, podrás entrenar a tus estudiantes en la capacidad de deducir de manera precisa y eficiente, lo que los preparará para enfrentarse a problemas matemáticos más complejos en su carrera académica."
   ]
  },
  {
   "cell_type": "markdown",
   "id": "bf5fe598",
   "metadata": {},
   "source": [
    "# Estructura general para todas las clases\n",
    "\n",
    "Dame, por favor, un diseño de clase, con el enfoque: STEAMS  y de aprendizaje basado en problemas y proyectos(ABPP); sobre: **\"El método de demostración directa y su implementación en la validación de supuestos geométricos en la formación de Licenciados en matemáticas en Caucasia Antioquia.\"**, siguiendo la estructura:   \n",
    "\n",
    "1. Título de la clase \n",
    "2. Objetivo de aprendizaje e indicadores de logro de estos objetivos. \n",
    "3.  Un mapa conceptual que resuma la clase elaborado en Graphviz de python con nodos y edges de diferentes formas, colores y rellenos y renderizado en la siguiente ubicación: `\"C:/Users/marco/Downloads\"`. No olvides el parámetro `view = True` para el método `render()` de Graphviz. Para este mapa controla las superposiciones de los nodos con: graph [overlap=false]; // Elimina superposiciones (puede aumentar el espacio)\n",
    "graph [overlap=\"scalexy\"]; // Escala el gráfico para evitar overlaps\n",
    "graph [overlap=\"compress\"]; // Comprime el grafo sin overlaps   \n",
    "   \n",
    "4. Contenido de la clase    \n",
    "   \n",
    "5. Incluye una canción o un poema que ayude a interiorizar y fijar los conceptos asociados a esta clase.  \n",
    "   \n",
    "6. Dame elementos históricos y epistemológicos asociados a esta clase, pero contados como un cuento al estilo de un cuentero antioqueño en Colombia. Incluye imágenes de los protagonistas históricos de esta clase.   \n",
    "   \n",
    "7. Actividades de aprendizaje    \n",
    "     * Incluya actividades de aprendizaje utilizando Calculadora **Casio 991 LA cw**\n",
    "     * Incluya también actividades de aprendizaje y modelación de situaciones o problemas reales a través de circuitos lógicos y circuitos digitales o electrónicos utilizando la aplicación portable cocodrilo. [Descarge esta aplicación portable aquí](https://crocodileclips.net/descargar-crocodile-clips/)    \n",
    "   \n",
    "8.  Tarea o actividades de ejercitación y fijación.  \n",
    "     \n",
    "    \n",
    "9.  Evaluación incluyendo diez proyectos, un ejemplo de quiz y un ejemplo de parcial.  \n",
    "     * Diseña el quiz con preguntas, donde se pida al estudiante el mostrar la aplicación de las expresiones lógicas en contextos: \n",
    "       - Deportivos\n",
    "       - Cotidianos\n",
    "       - Matemáticas en teoría de números \n",
    "       - Matemáticas en geometría euclidiana\n",
    "       - Matemática en Cálculo Diferencial.\n",
    "       - Económicos. \n",
    "     * Actividad de desarrollo de habilidades metacognitivas para hacernos consientes de nuestro propio proceso de aprendizaje y de la importancia de la evaluación continua.\n",
    "\n",
    "10. Diseño de actividad de retroalimentación.  \n",
    "      \n",
    "11. Dame un vocabulario y frases del idioma inglés asociadas a esta clase.   \n",
    "    \n",
    "12. Incluye apéndice para la clase sobre desarrollo de habilidades para trabajar en equipo y de asertividad y empatía para relacionarnos. También elementos de la inteligencia emocional para presentar pruebas sin temor y sin realizar fraude en ellas.   \n",
    "13. Incluye 10 referentes en didáctica de la matemática que estén de acuerdo a la propuesta didáctica de esta clase. Adiciona a estos referentes a Raymond Duval (Representaciones y cambios de representación para la adquisición de conceptos matemáticos) y a Jeannette Wing (Desarrollo del pensamiento computacional). Déjame todos estos referentes ordenados de acuerdo a las normas APA. Déjame todos estos referentes ordenados de acuerdo a las normas APA. Incluye las citaciones a estos referentes a medida que vallas diseñando la clase. \n",
    "\n",
    "\n",
    "Pero  que este diseño sea para que el estudiante pueda aprender experimentando en cuadernos Jupyter con funciones de usuario y animaciones y visualizaciones en Python. En particular utiliza para el diseño de clase a NumPy, Pandas, SymPy, Matplotlib.pyplot, Seaborn, Plotly, ipywidgets, matplotlib.animation y Jupyter Notebook.  \n",
    "Cuando vallas a utilizar SymPy, ten en cuanta la siguiente configuración: \n",
    "# Corrección y mejora del código\n",
    "from sympy import symbols, Equivalent\n",
    "from sympy.logic.boolalg import truth_table\n",
    "\n",
    "Cada vez que utilices `matplotlib.animacion` no olvides incluir el uso de `IPython. display` para la renderización de estas animaciones a través de Jupyter Notebook. No olvides darme los diseños de clase con las ecuaciones matemáticas delimitadas con signo de dólar $ para que VS Code si me renderice estas expresiones del lenguaje latex. Cuando vallas a utilizar ipywidgets ten en cuenta la siguiente importación inicial para garantizar que la visualización interactiva si se renderice en VS Code:                                                      \n",
    "import numpy as np\n",
    "import matplotlib.pyplot as plt\n",
    "import ipywidgets as widgets\n",
    "from IPython.display import display, clear_output\n",
    "from matplotlib.patches import Rectangle\n",
    "\n",
    "# Configuración inicial para visualización estática\n",
    "%matplotlib inline "
   ]
  },
  {
   "cell_type": "markdown",
   "id": "f68d17e5",
   "metadata": {},
   "source": [
    "# Sobre la Lectura Interactiva y Experimental (LIE)\n"
   ]
  },
  {
   "cell_type": "markdown",
   "id": "0f883945",
   "metadata": {},
   "source": [
    "\n",
    "La **lectura interactiva y experimental** de los cuadernos Jupyter diseñados para el curso de **Fundamentos de Lógica** implica un enfoque dinámico y práctico para el aprendizaje, donde los estudiantes no solo consumen información teórica, sino que también interactúan con el contenido, modifican ejemplos, ejecutan código y experimentan con los conceptos lógicos en un entorno computacional. "
   ]
  },
  {
   "cell_type": "markdown",
   "id": "5fce4e2a",
   "metadata": {},
   "source": [
    "A continuación, se detallan las características clave de este enfoque:\n",
    "\n",
    "---\n"
   ]
  },
  {
   "cell_type": "markdown",
   "id": "240d9ecc",
   "metadata": {},
   "source": [
    "\n",
    "### **1. Lectura Interactiva**  \n",
    "- **Manipulación directa del contenido**: Los estudiantes pueden ejecutar celdas de código, modificar fórmulas lógicas o ejemplos, y observar cómo cambian los resultados en tiempo real.  \n"
   ]
  },
  {
   "cell_type": "markdown",
   "id": "f6b1b167",
   "metadata": {},
   "source": [
    "- **Visualización interactiva**: Uso de gráficos, diagramas (como árboles semánticos o tablas de verdad) o herramientas que respondan a entradas del usuario para ilustrar conceptos como validez, consistencia o inferencia. "
   ]
  },
  {
   "cell_type": "markdown",
   "id": "f92e7a6c",
   "metadata": {},
   "source": [
    " \n",
    "- **Retroalimentación inmediata**: Los cuadernos pueden incluir ejercicios con autoevaluación (ejecutando código que verifica soluciones) o explicaciones emergentes al resolver problemas.  \n",
    "\n",
    "---\n"
   ]
  },
  {
   "cell_type": "markdown",
   "id": "06d292d0",
   "metadata": {},
   "source": [
    "\n",
    "### **2. Lectura Experimental**  \n"
   ]
  },
  {
   "cell_type": "markdown",
   "id": "d4bc9955",
   "metadata": {},
   "source": [
    "- **Aprendizaje basado en prueba y error**: Los estudiantes pueden \"jugar\" con estructuras lógicas (por ejemplo, modificar conectores en una fórmula proposicional y ver cómo afecta su tabla de verdad).  \n"
   ]
  },
  {
   "cell_type": "markdown",
   "id": "dd66dabf",
   "metadata": {},
   "source": [
    "- **Simulación de escenarios**: Por ejemplo, modelar argumentos en lógica de primer orden y evaluar su corrección mediante ejecución de código (usando librerías como `sympy` o herramientas ad-hoc).  \n"
   ]
  },
  {
   "cell_type": "markdown",
   "id": "6412d941",
   "metadata": {},
   "source": [
    "- **Exploración guiada y abierta**: Se incluyen secciones con consignas del tipo *\"¿Qué pasa si cambias este axioma?\"* o *\"Intenta construir un contraejemplo\"* para fomentar la curiosidad.  \n",
    "\n",
    "---\n"
   ]
  },
  {
   "cell_type": "markdown",
   "id": "2f933f67",
   "metadata": {},
   "source": [
    "\n",
    "### **3. Componentes clave de los cuadernos**  \n"
   ]
  },
  {
   "cell_type": "markdown",
   "id": "6a8fb53c",
   "metadata": {},
   "source": [
    "- **Fragmentos de código ejecutable**: Para evaluar expresiones lógicas, automatizar pruebas o implementar algoritmos (ej: verificación de tautologías).  \n"
   ]
  },
  {
   "cell_type": "markdown",
   "id": "9b4ad3c8",
   "metadata": {},
   "source": [
    "- **Celdas con texto teórico y preguntas reflexivas**: Integradas con ejemplos prácticos que requieren intervención activa (ej: *\"Define aquí tu propia fórmula y comprueba si es satisfacible\"*).  \n"
   ]
  },
  {
   "cell_type": "markdown",
   "id": "970bfe23",
   "metadata": {},
   "source": [
    "- **Enlaces a recursos externos**: Como demostradores en línea o lecturas complementarias para profundizar.  \n",
    "\n",
    "---\n"
   ]
  },
  {
   "cell_type": "markdown",
   "id": "40bf9a6f",
   "metadata": {},
   "source": [
    "\n",
    "### **4. Beneficios pedagógicos**  \n",
    "- **Enganche activo**: Combina teoría y práctica sin salir del entorno digital.  \n",
    "- **Personalización**: Los estudiantes pueden ajustar el ritmo y profundidad de su aprendizaje.  \n",
    "- **Preparación para aplicaciones reales**: Familiariza a los estudiantes con herramientas usadas en investigación (ej: Python para lógica simbólica).  \n",
    "\n",
    "---\n"
   ]
  },
  {
   "cell_type": "markdown",
   "id": "de14b2f2",
   "metadata": {},
   "source": [
    "\n",
    "### **Ejemplo concreto**  \n",
    "Un cuaderno podría incluir:  \n",
    "1. Una explicación de *modus ponens* con una fórmula predefinida (`p → q`, `p`, luego `q`).  \n",
    "2. Una celda interactiva donde el estudiante modifique `p` o `q` y observe cómo falla la regla si las premisas cambian.  \n",
    "3. Un ejercicio para programar un verificador de *modus ponens* usando diccionarios de Python.  \n"
   ]
  },
  {
   "cell_type": "markdown",
   "id": "be89b25c",
   "metadata": {},
   "source": [
    "\n",
    "Este enfoque transforma la lógica (a menudo abstracta) en una experiencia tangible y adaptable."
   ]
  },
  {
   "cell_type": "markdown",
   "id": "10e55ccf",
   "metadata": {},
   "source": [
    "# Método directo  Para formación de Licenciados en Matemáticas en el Campus Caucasia de la Universidad de Antioquia"
   ]
  },
  {
   "cell_type": "markdown",
   "id": "239427f7",
   "metadata": {},
   "source": [
    "# Presentación de la estructura de la clase  \n",
    "\n",
    "## **Diseño de Clase STEAMS con Enfoque ABPP: \"El Método de Demostración Directa en Geometría\"**  \n"
   ]
  },
  {
   "cell_type": "markdown",
   "id": "c6a82a1e",
   "metadata": {},
   "source": [
    "\n",
    "### **1. Título de la Clase:** *\"Demostración Directa en Geometría: Validando Supuestos con Python y Lógica\"*  \n",
    "\n",
    "---\n"
   ]
  },
  {
   "cell_type": "markdown",
   "id": "bc6f3252",
   "metadata": {},
   "source": [
    "\n",
    "## **2. Objetivos e Indicadores de Logro**  \n"
   ]
  },
  {
   "cell_type": "markdown",
   "id": "6ae1860e",
   "metadata": {},
   "source": [
    "**Objetivo Principal:**  \n"
   ]
  },
  {
   "cell_type": "markdown",
   "id": "34490f02",
   "metadata": {},
   "source": [
    "Aplicar el método de demostración directa para validar supuestos geométricos, integrando herramientas computacionales (Python, SymPy, Circuitos Lógicos, Casio Sencillita) y enfoques STEAMS.  \n"
   ]
  },
  {
   "cell_type": "markdown",
   "id": "0d38fc66",
   "metadata": {},
   "source": [
    "\n",
    "**Indicadores de Logro:**  \n",
    "- Identifica los pasos de una demostración directa en geometría euclidiana.  \n",
    "- Modela problemas geométricos usando SymPy, GeoGebra y visualizaciones interactivas.  \n",
    "- Diseña circuitos lógicos en Crocodile Clips que representen proposiciones geométricas.  \n",
    "- Analiza contextos cotidianos y deportivos aplicando lógica proposicional.  \n",
    "- Representa operadores con calculadora Casio (Sencillita)\n",
    "---\n"
   ]
  },
  {
   "cell_type": "markdown",
   "id": "497b408f",
   "metadata": {},
   "source": [
    "\n",
    "## **3. Mapa Conceptual (Graphviz)**  \n"
   ]
  },
  {
   "cell_type": "markdown",
   "id": "5f903a76",
   "metadata": {},
   "source": [
    "Aquí tienes el mapa conceptual en formato Graphviz con la estructura que solicitaste:\n"
   ]
  },
  {
   "cell_type": "code",
   "execution_count": 1,
   "id": "b7ac1d4f",
   "metadata": {},
   "outputs": [
    {
     "data": {
      "text/plain": [
       "'C:\\\\Users\\\\marco\\\\Downloads\\\\metodos_demostracion.gv.png'"
      ]
     },
     "execution_count": 1,
     "metadata": {},
     "output_type": "execute_result"
    }
   ],
   "source": [
    "\n",
    "from graphviz import Digraph\n",
    "\n",
    "# Crear grafo\n",
    "graph = Digraph('MetodosDemostracion', filename='C:/Users/marco/Downloads/metodos_demostracion.gv', format='png')\n",
    "graph.attr(overlap='scalexy', rankdir='TB', splines='true')\n",
    "\n",
    "# Configuración general de estilo\n",
    "graph.attr('node', fontname='Helvetica', fontsize='12')\n",
    "graph.attr('edge', fontname='Helvetica', fontsize='10')\n",
    "\n",
    "# Nodo raíz\n",
    "graph.node('RAIZ', 'Métodos de Demostración', shape='doublecircle', style='filled', color='lightblue2')\n",
    "\n",
    "# Nodos principales\n",
    "graph.node('DEDUCTIVOS', 'Métodos Deductivos', shape='ellipse', style='filled', color='lightblue')\n",
    "graph.node('INDUCTIVOS', 'Métodos Inductivos', shape='ellipse', style='filled', color='lightpink')\n",
    "\n",
    "# Subnodos deductivos\n",
    "graph.node('DIRECTO', 'Directo', shape='box', style='rounded,filled', color='lightblue3')\n",
    "graph.node('INDIRECTO', 'Indirecto', shape='box', style='rounded,filled', color='lightblue3')\n",
    "\n",
    "# Subnodos indirectos\n",
    "graph.node('ABSURDO', 'Reducción al Absurdo', shape='note', color='plum')\n",
    "graph.node('CONTRARECIPROCO', 'Contrarrecíproco', shape='note', color='plum')\n",
    "\n",
    "# Subnodos inductivos\n",
    "graph.node('INDUCCION', 'Inducción Matemática', shape='component', color='tan')\n",
    "graph.node('EMPIRICO', 'Empírico/Experimental', shape='component', color='tan')\n",
    "\n",
    "# Conexiones principales\n",
    "graph.edge('RAIZ', 'DEDUCTIVOS')\n",
    "graph.edge('RAIZ', 'INDUCTIVOS')\n",
    "\n",
    "# Conexiones deductivos\n",
    "graph.edge('DEDUCTIVOS', 'DIRECTO')\n",
    "graph.edge('DEDUCTIVOS', 'INDIRECTO')\n",
    "\n",
    "# Conexiones indirectos\n",
    "graph.edge('INDIRECTO', 'ABSURDO')\n",
    "graph.edge('INDIRECTO', 'CONTRARECIPROCO')\n",
    "\n",
    "# Conexiones inductivos\n",
    "graph.edge('INDUCTIVOS', 'INDUCCION')\n",
    "graph.edge('INDUCTIVOS', 'EMPIRICO')\n",
    "\n",
    "# Ejemplos y conexiones adicionales\n",
    "graph.node('EJ_DIRECTO', 'Ej: A→B→C ∴ A→C', shape='plaintext')\n",
    "graph.node('EJ_ABSURDO', 'Ej: ¬P lleva a contradicción ∴ P', shape='plaintext')\n",
    "graph.node('EJ_CONTRARECIPROCO', 'Ej: P→Q ≡ ¬Q→¬P', shape='plaintext')\n",
    "graph.node('EJ_INDUCCION', 'Ej: Base + Paso inductivo', shape='plaintext')\n",
    "\n",
    "graph.edge('DIRECTO', 'EJ_DIRECTO', style='dashed')\n",
    "graph.edge('ABSURDO', 'EJ_ABSURDO', style='dashed')\n",
    "graph.edge('CONTRARECIPROCO', 'EJ_CONTRARECIPROCO', style='dashed')\n",
    "graph.edge('INDUCCION', 'EJ_INDUCCION', style='dashed')\n",
    "\n",
    "# Renderizar\n",
    "graph.render(view=True, directory=r\"C:/Users/marco/Downloads\")\n",
    "\n"
   ]
  },
  {
   "cell_type": "markdown",
   "id": "f6e2fe1c",
   "metadata": {},
   "source": [
    "\n",
    "Este código generará un mapa conceptual que incluye:\n",
    "1. La clasificación principal entre métodos deductivos e inductivos\n",
    "2. Subdivisión de deductivos en directos e indirectos\n",
    "3. Subdivisión de indirectos en reducción al absurdo y contrarrecíproco\n",
    "4. Ejemplos de cada método\n",
    "5. Estilo visual similar al ejemplo que proporcionaste, con colores y formas variadas\n",
    "\n",
    "Puedes ajustar los colores, formas o añadir más ejemplos según tus necesidades. El gráfico se generará en formato PNG en la ubicación especificada."
   ]
  },
  {
   "cell_type": "code",
   "execution_count": 3,
   "id": "49107f65",
   "metadata": {},
   "outputs": [
    {
     "data": {
      "text/plain": [
       "'C:\\\\Users\\\\marco\\\\Downloads\\\\demo_directa.gv.png'"
      ]
     },
     "execution_count": 3,
     "metadata": {},
     "output_type": "execute_result"
    }
   ],
   "source": [
    "from graphviz import Digraph\n",
    "\n",
    "# Crear grafo\n",
    "graph = Digraph('DemoDirecta', filename='C:/Users/marco/Downloads/demo_directa.gv', format='png')\n",
    "graph.attr(overlap='scalexy', rankdir='TB', splines='true')\n",
    "\n",
    "# Nodos principales\n",
    "graph.node('A', 'Método de Demostración Directa', shape='ellipse', style='filled', color='lightblue2')\n",
    "graph.node('B', 'STEAM', shape='doubleoctagon', color='gold')\n",
    "graph.node('C', 'ABPP', shape='box3d', color='coral')\n",
    "\n",
    "# Subnodos\n",
    "graph.node('D', 'Geometría Euclidiana', shape='note', color='plum')\n",
    "graph.node('E', 'Lógica Proposicional', shape='component', color='tan')\n",
    "graph.node('F', 'Python (SymPy/Matplotlib)', shape='hexagon', color='lightgreen')\n",
    "graph.node('G', 'Circuitos Lógicos', shape='cds', color='salmon')\n",
    "\n",
    "# Conexiones\n",
    "graph.edges(['AB', 'AC', 'AD', 'AE', 'AF', 'AG'])\n",
    "graph.edge('D', 'E', label='Axiomas → Teoremas', style='dashed')\n",
    "graph.edge('F', 'G', label='Modelación', color='red:blue')\n",
    "\n",
    "# Renderizar\n",
    "graph.render(view=True, directory= r\"C:/Users/marco/Downloads\")\n",
    "\n"
   ]
  },
  {
   "cell_type": "code",
   "execution_count": null,
   "id": "64c40d53",
   "metadata": {},
   "outputs": [],
   "source": []
  },
  {
   "cell_type": "markdown",
   "id": "50719002",
   "metadata": {},
   "source": [
    "\n",
    "## **4. Contenido de la Clase**  \n"
   ]
  },
  {
   "cell_type": "markdown",
   "id": "56884290",
   "metadata": {},
   "source": [
    "### **4.1. Fundamentos Teóricos**  \n"
   ]
  },
  {
   "cell_type": "markdown",
   "id": "93306e57",
   "metadata": {},
   "source": [
    "- **Demostración Directa:**  \n",
    "  Dado un Implicación $P \\implies Q$, se construye una cadena lógica desde $P$ hasta $Q$ usando axiomas, definiciones y Teoremas.  \n",
    "  Ejemplo: *\"Si un triángulo es isósceles, entonces tiene dos ángulos iguales.\"*  \n"
   ]
  },
  {
   "cell_type": "markdown",
   "id": "bf77085c",
   "metadata": {},
   "source": [
    "\n",
    "- **Herramientas Computacionales:** "
   ]
  },
  {
   "cell_type": "code",
   "execution_count": 8,
   "id": "50e1adb6",
   "metadata": {},
   "outputs": [
    {
     "data": {
      "text/latex": [
       "$\\displaystyle P \\Rightarrow Q$"
      ],
      "text/plain": [
       "Implies(P, Q)"
      ]
     },
     "execution_count": 8,
     "metadata": {},
     "output_type": "execute_result"
    }
   ],
   "source": [
    "from sympy import symbols, Implies, Equivalent\n",
    "P, Q = symbols('P Q') # Definir las variables \n",
    "demostracion = Implies(P, Q)  # P → Q, con notación funcional\n",
    "demostracion\n",
    "\n"
   ]
  },
  {
   "cell_type": "markdown",
   "id": "49c26f1e",
   "metadata": {},
   "source": [
    "\n",
    "### **4.2. Visualización con Python**  \n",
    "**Animación de Teorema de Pitágoras:**   \n",
    "\n",
    "Dame, una animación con ipywidgets de parámetros a, b y c y que me sirva para mostrar que cada vez que $(a,b,c)$ representan una terna pitagórica, entonces en triangulo es rectángulo"
   ]
  },
  {
   "cell_type": "code",
   "execution_count": 2,
   "id": "a3a9738c",
   "metadata": {},
   "outputs": [
    {
     "data": {
      "application/vnd.jupyter.widget-view+json": {
       "model_id": "45c83095994b430d8874c7be54bdf782",
       "version_major": 2,
       "version_minor": 0
      },
      "text/plain": [
       "IntSlider(value=3, description='a:', max=20, min=1)"
      ]
     },
     "metadata": {},
     "output_type": "display_data"
    },
    {
     "data": {
      "application/vnd.jupyter.widget-view+json": {
       "model_id": "cc4a33fb65604ec1a3313514a154cf7d",
       "version_major": 2,
       "version_minor": 0
      },
      "text/plain": [
       "IntSlider(value=4, description='b:', max=20, min=1)"
      ]
     },
     "metadata": {},
     "output_type": "display_data"
    },
    {
     "data": {
      "application/vnd.jupyter.widget-view+json": {
       "model_id": "485dd8e77bca4374a04359af2e9708a7",
       "version_major": 2,
       "version_minor": 0
      },
      "text/plain": [
       "IntSlider(value=5, description='c:', max=20, min=1)"
      ]
     },
     "metadata": {},
     "output_type": "display_data"
    },
    {
     "data": {
      "application/vnd.jupyter.widget-view+json": {
       "model_id": "64f5f40b42524159afeb294c566a151f",
       "version_major": 2,
       "version_minor": 0
      },
      "text/plain": [
       "Output()"
      ]
     },
     "metadata": {},
     "output_type": "display_data"
    }
   ],
   "source": [
    "import numpy as np\n",
    "import ipywidgets as widgets\n",
    "from IPython.display import display, clear_output\n",
    "\n",
    "import matplotlib.pyplot as plt\n",
    "\n",
    "# Configuración para visualización estática\n",
    "%matplotlib inline\n",
    "\n",
    "def verificar_terna_pitagorica(a, b, c):\n",
    "    \"\"\"\n",
    "    Verifica si los valores a, b y c forman una terna pitagórica.\n",
    "    \"\"\"\n",
    "    return a**2 + b**2 == c**2\n",
    "\n",
    "def graficar_triangulo(a, b, c):\n",
    "    \"\"\"\n",
    "    Grafica un triángulo con lados a, b y c si forman una terna pitagórica.\n",
    "    \"\"\"\n",
    "    if not verificar_terna_pitagorica(a, b, c):\n",
    "        print(\"Los valores no forman una terna pitagórica.\")\n",
    "        return\n",
    "    \n",
    "    # Coordenadas del triángulo (rectángulo con ángulo recto en el origen)\n",
    "    x = [0, a, 0, 0]\n",
    "    y = [0, 0, b, 0]\n",
    "    \n",
    "    # Graficar el triángulo\n",
    "    plt.figure(figsize=(6, 6))\n",
    "    plt.plot(x, y, 'bo-', label=f'Triángulo con lados a={a}, b={b}, c={c}')\n",
    "    plt.fill(x, y, color='lightblue', alpha=0.5)\n",
    "    plt.text(a/2, -0.5, f'a={a}', fontsize=12, ha='center')\n",
    "    plt.text(-0.5, b/2, f'b={b}', fontsize=12, va='center', rotation=90)\n",
    "    plt.text(a/2, b/2, f'c={c}', fontsize=12, ha='center', color='red')\n",
    "    plt.xlim(-1, max(a, b, c) + 1)\n",
    "    plt.ylim(-1, max(a, b, c) + 1)\n",
    "    plt.axhline(0, color='black', linewidth=0.5)\n",
    "    plt.axvline(0, color='black', linewidth=0.5)\n",
    "    plt.grid(color='gray', linestyle='--', linewidth=0.5)\n",
    "    plt.gca().set_aspect('equal', adjustable='box')\n",
    "    plt.legend()\n",
    "    plt.show()\n",
    "\n",
    "# Crear widgets interactivos\n",
    "a_slider = widgets.IntSlider(value=3, min=1, max=20, step=1, description='a:')\n",
    "b_slider = widgets.IntSlider(value=4, min=1, max=20, step=1, description='b:')\n",
    "c_slider = widgets.IntSlider(value=5, min=1, max=20, step=1, description='c:')\n",
    "\n",
    "def actualizar_grafico(a, b, c):\n",
    "    clear_output(wait=True)\n",
    "    display(a_slider, b_slider, c_slider)\n",
    "    graficar_triangulo(a, b, c)\n",
    "\n",
    "# Aquí está el cambio importante: guardar y mostrar el objeto interactivo\n",
    "salida_interactiva = widgets.interactive_output(\n",
    "    actualizar_grafico,\n",
    "    {'a': a_slider, 'b': b_slider, 'c': c_slider}\n",
    ")\n",
    "\n",
    "# Mostrar widgets y resultado\n",
    "display(a_slider, b_slider, c_slider, salida_interactiva)\n"
   ]
  },
  {
   "cell_type": "markdown",
   "id": "b3fd2684",
   "metadata": {},
   "source": [
    "\n",
    "---\n",
    "\n",
    "## **5. Canción/Poema**  \n"
   ]
  },
  {
   "cell_type": "markdown",
   "id": "8a017adf",
   "metadata": {},
   "source": [
    "**\"El Poema del Geómetra\"** (Fragmento)  \n",
    "*\"Con regla y compás, trazo mi verdad,*  \n",
    "*un axioma firme, sin incertidumbre ya.*  \n",
    "*Python y lógica, mi nuevo compás,*  \n",
    "*¡Demuestra! ¡No asumas! ¡Que el rigor es paz.\"*  \n",
    "\n",
    "Salomón Urrutia (Puerto Libertador (\"Bijao\"))\n"
   ]
  },
  {
   "cell_type": "markdown",
   "id": "f0382e08",
   "metadata": {},
   "source": [
    "\n",
    "## **6. Historia Epistemológica**  \n",
    "**Cuento Antioqueño:**  \n",
    "*\"¡Ajá! Pues verán, muchachos... allá por el 300 a.C., un grieto llamado Euclides, más terco que un mulo paisa, se empeñó en escribir *Los Elementos*. ¡Y vaya que lo logró! Con sus cinco postulados, armó más lío que un domingo en la plaza de Caucasia... Pero ¡claro! Sin él, hoy no tendríamos WiFi (que usa geometría hiperbólica, ¡eso sí es *arrecho*!).\"*  \n"
   ]
  },
  {
   "cell_type": "markdown",
   "id": "51dda2b0",
   "metadata": {},
   "source": [
    "\n",
    "**Imagen:**  \n",
    "[Euclides](https://upload.wikimedia.org/wikipedia/commons/thumb/7/7f/Euclid.jpg/220px-Euclid.jpg)  \n",
    "\n",
    "---\n"
   ]
  },
  {
   "cell_type": "markdown",
   "id": "41af0a39",
   "metadata": {},
   "source": [
    "\n",
    "## **7. Actividades**  \n",
    "### **7.1. Con Casio 991 LA cw**  \n",
    "- Calcular ángulos en triángulos usando funciones trigonométricas.  \n",
    "- Verificar identidades como $\\sin^2(x) + \\cos^2(x) = 1$.  \n"
   ]
  },
  {
   "cell_type": "markdown",
   "id": "8e8c5ddb",
   "metadata": {},
   "source": [
    "\n",
    "### **7.2. Crocodile Clips**  \n",
    "- Diseñar un circuito que represente $P \\land Q \\implies R$ (ejemplo: \"Si llueve *y* hace frío, entonces llevo sombrilla\"). (Hagálo con circuitos electricos y con circuitos electrónicos) \n",
    "\n",
    "---\n"
   ]
  },
  {
   "cell_type": "markdown",
   "id": "e2059914",
   "metadata": {},
   "source": [
    "\n",
    "## **8. Tareas**  \n",
    "- Implementar en SymPy la demostración de que \"la suma de ángulos internos de un triángulo es 180°\". (Prompt para esta tarea: \"Ayúdame, por favor, para mmplementar en SymPy la demostración de que \"la suma de ángulos internos de un triángulo es 180°\".  \") \n",
    "- \n"
   ]
  },
  {
   "cell_type": "markdown",
   "id": "83ad5d9e",
   "metadata": {},
   "source": [
    "Para demostrar que **\"la suma de los ángulos internos de un triángulo es 180°\"** usando **SymPy**, podemos seguir un enfoque simbólico basado en geometría euclidiana. Aquí te muestro cómo implementarlo paso a paso en un Jupyter Notebook:\n",
    "\n",
    "---\n",
    "\n",
    "### **1. Configuración inicial**\n",
    "Primero, importamos las funciones necesarias de SymPy:\n"
   ]
  },
  {
   "cell_type": "code",
   "execution_count": 16,
   "id": "9e43c599",
   "metadata": {},
   "outputs": [],
   "source": [
    "\n",
    "\n",
    "from sympy import symbols, Eq, solve, degree, pi\n",
    "from sympy.geometry import Triangle, Point\n",
    "\n"
   ]
  },
  {
   "cell_type": "markdown",
   "id": "18deb778",
   "metadata": {},
   "source": [
    "\n",
    "---\n",
    "\n",
    "### **2. Crear un triángulo genérico**\n",
    "Definimos tres puntos en el plano para formar un triángulo:\n"
   ]
  },
  {
   "cell_type": "code",
   "execution_count": 18,
   "id": "a14d3ba3",
   "metadata": {},
   "outputs": [
    {
     "data": {
      "image/svg+xml": [
       "<svg xmlns=\"http://www.w3.org/2000/svg\"\n",
       "            xmlns:xlink=\"http://www.w3.org/1999/xlink\"\n",
       "            width=\"100.0\" height=\"100.0\" viewBox=\"-0.100000000000000 -0.100000000000000 1.20000000000000 1.20000000000000\"\n",
       "            preserveAspectRatio=\"xMinYMin meet\">\n",
       "            <defs>\n",
       "                <marker id=\"markerCircle\" markerWidth=\"8\" markerHeight=\"8\"\n",
       "                    refx=\"5\" refy=\"5\" markerUnits=\"strokeWidth\">\n",
       "                    <circle cx=\"5\" cy=\"5\" r=\"1.5\" style=\"stroke: none; fill:#000000;\"/>\n",
       "                </marker>\n",
       "                <marker id=\"markerArrow\" markerWidth=\"13\" markerHeight=\"13\" refx=\"2\" refy=\"4\"\n",
       "                       orient=\"auto\" markerUnits=\"strokeWidth\">\n",
       "                    <path d=\"M2,2 L2,6 L6,4\" style=\"fill: #000000;\" />\n",
       "                </marker>\n",
       "                <marker id=\"markerReverseArrow\" markerWidth=\"13\" markerHeight=\"13\" refx=\"6\" refy=\"4\"\n",
       "                       orient=\"auto\" markerUnits=\"strokeWidth\">\n",
       "                    <path d=\"M6,2 L6,6 L2,4\" style=\"fill: #000000;\" />\n",
       "                </marker>\n",
       "            </defs><g transform=\"matrix(1,0,0,-1,0,1.00000000000000)\"><path fill-rule=\"evenodd\" fill=\"#66cc99\" stroke=\"#555555\" stroke-width=\"0.0240000000000000\" opacity=\"0.6\" d=\"M 0,0 L 1.00000000000000,0 L 0,1.00000000000000 z\" /></g></svg>"
      ],
      "text/latex": [
       "$\\displaystyle \\operatorname{Triangle}\\left(\\operatorname{Point2D}\\left(0, 0\\right), \\operatorname{Point2D}\\left(1, 0\\right), \\operatorname{Point2D}\\left(0, 1\\right)\\right)$"
      ],
      "text/plain": [
       "Triangle(Point2D(0, 0), Point2D(1, 0), Point2D(0, 1))"
      ]
     },
     "execution_count": 18,
     "metadata": {},
     "output_type": "execute_result"
    }
   ],
   "source": [
    "\n",
    "A = Point(0, 0)\n",
    "B = Point(1, 0)\n",
    "C = Point(0, 1)\n",
    "triangulo = Triangle(A, B, C)\n",
    "\n",
    "triangulo"
   ]
  },
  {
   "cell_type": "markdown",
   "id": "4345e90e",
   "metadata": {},
   "source": [
    "\n",
    "*(En geometría euclidiana, la suma de ángulos no depende de las coordenadas específicas, por lo que este triángulo rectángulo es suficiente para la demostración).*\n",
    "\n",
    "---\n",
    "\n",
    "### **3. Obtener los ángulos internos**\n",
    "SymPy puede calcular los ángulos entre los lados del triángulo:\n"
   ]
  },
  {
   "cell_type": "code",
   "execution_count": 19,
   "id": "2bbffad5",
   "metadata": {},
   "outputs": [
    {
     "name": "stdout",
     "output_type": "stream",
     "text": [
      "Las medidas de los ángulos son:  pi/2 pi/4 pi/4\n"
     ]
    }
   ],
   "source": [
    "\n",
    "\n",
    "angulo_A = triangulo.angles[A]  # Ángulo en el vértice A (en radianes)\n",
    "angulo_B = triangulo.angles[B]  # Ángulo en el vértice B\n",
    "angulo_C = triangulo.angles[C]  # Ángulo en el vértice C\n",
    "print('Las medidas de los ángulos son: ', angulo_A, angulo_B, angulo_C)\n"
   ]
  },
  {
   "cell_type": "markdown",
   "id": "a7a561de",
   "metadata": {},
   "source": [
    "\n",
    "---\n",
    "\n",
    "### **4. Sumar los ángulos y convertir a grados**\n",
    "SymPy trabaja en radianes, así que convertimos la suma a grados para verificar que sea **180°**:\n"
   ]
  },
  {
   "cell_type": "code",
   "execution_count": 20,
   "id": "3e9980ee",
   "metadata": {},
   "outputs": [
    {
     "name": "stdout",
     "output_type": "stream",
     "text": [
      "Suma en radianes: pi\n",
      "Suma en grados: 180.000000000000\n"
     ]
    }
   ],
   "source": [
    "\n",
    "\n",
    "suma_radianes = angulo_A + angulo_B + angulo_C\n",
    "suma_grados = suma_radianes * 180 / pi  # Conversión a grados\n",
    "\n",
    "print(\"Suma en radianes:\", suma_radianes)\n",
    "print(\"Suma en grados:\", suma_grados.evalf())  # Evaluación numérica\n",
    "\n"
   ]
  },
  {
   "cell_type": "markdown",
   "id": "36f1249f",
   "metadata": {},
   "source": [
    "\n",
    "**Salida esperada:**\n",
    "```\n",
    "Suma en radianes: pi\n",
    "Suma en grados: 180.000000000000\n",
    "```\n",
    "\n",
    "---\n"
   ]
  },
  {
   "cell_type": "markdown",
   "id": "825d7555",
   "metadata": {},
   "source": [
    "\n",
    "### **5. Demostración general (sin coordenadas)**\n",
    "Para generalizar, podemos usar símbolos y propiedades geométricas:\n"
   ]
  },
  {
   "cell_type": "code",
   "execution_count": 21,
   "id": "668bc215",
   "metadata": {},
   "outputs": [
    {
     "name": "stdout",
     "output_type": "stream",
     "text": [
      "El ángulo restante debe ser: 50 °\n"
     ]
    }
   ],
   "source": [
    "\n",
    "\n",
    "a, b, c = symbols('a b c', real=True)  # Ángulos del triángulo\n",
    "\n",
    "# Postulado: a + b + c = 180° (en geometría euclidiana)\n",
    "ecuacion = Eq(a + b + c, 180)\n",
    "\n",
    "# Supongamos que conocemos dos ángulos (ej: a=60°, b=70°)\n",
    "solucion = solve(ecuacion.subs({a: 60, b: 70}), c)\n",
    "print(\"El ángulo restante debe ser:\", solucion[0], \"°\")\n",
    "\n"
   ]
  },
  {
   "cell_type": "markdown",
   "id": "b6c774b0",
   "metadata": {},
   "source": [
    "\n",
    "**Salida:**\n",
    "```\n",
    "El ángulo restante debe ser: 50 °\n",
    "```\n"
   ]
  },
  {
   "cell_type": "markdown",
   "id": "134edc27",
   "metadata": {},
   "source": [
    "\n",
    "---\n",
    "\n",
    "### **6. Explicación clave**\n",
    "- **Geometría euclidiana**: En este sistema, la suma de ángulos siempre es **π radianes (180°)** para cualquier triángulo.\n",
    "- **SymPy** automatiza los cálculos simbólicos, pero la demostración rigurosa depende de postulados como el **quinto postulado de Euclides** (paralelas).\n",
    "\n",
    "---\n"
   ]
  },
  {
   "cell_type": "markdown",
   "id": "8fdfe245",
   "metadata": {},
   "source": [
    "\n",
    "### **Nota para el curso de Lógica**\n",
    "Este ejemplo vincula **lógica y geometría** mostrando cómo herramientas computacionales (SymPy) pueden verificar proposiciones matemáticas. Puedes extenderlo para:\n",
    "- Triángulos no euclidianos (suma ≠ 180°).\n",
    "- Demostrar teoremas derivados (ej: ángulo externo).\n"
   ]
  },
  {
   "cell_type": "markdown",
   "id": "340fdf0f",
   "metadata": {},
   "source": [
    "\n",
    "¿Te gustaría adaptar algún detalle para enfatizar aspectos lógicos?"
   ]
  },
  {
   "cell_type": "markdown",
   "id": "3437ee71",
   "metadata": {},
   "source": [
    "## Tarea 2 \n",
    "- Crear un Jupyter Notebook con animaciones de transformaciones geométricas.  \n",
    "\n",
    "---\n"
   ]
  },
  {
   "cell_type": "code",
   "execution_count": null,
   "id": "dd1c18d2",
   "metadata": {},
   "outputs": [],
   "source": []
  },
  {
   "cell_type": "markdown",
   "id": "a6796d4f",
   "metadata": {},
   "source": [
    "\n",
    "## **9. Evaluación**  \n"
   ]
  },
  {
   "cell_type": "markdown",
   "id": "4e1f2b73",
   "metadata": {},
   "source": [
    "**Quiz Ejemplo:**  \n",
    "- *\"En fútbol, si 'toco el balón' (P) y 'estoy en área' (Q), entonces 'es penal' (R). Representa esto en lógica proposicional y simula un circuito en Crocodile.\"*  \n"
   ]
  },
  {
   "cell_type": "markdown",
   "id": "ae06d091",
   "metadata": {},
   "source": [
    "\n",
    "**Parcial:**  \n",
    "- Proyecto: *\"Modelar el Teorema de Tales usando Matplotlib y validar con SymPy.\"*  \n",
    "\n",
    "---\n"
   ]
  },
  {
   "cell_type": "markdown",
   "id": "c6631f26",
   "metadata": {},
   "source": [
    "## Uno de los item del parcial  \n",
    "\n",
    "- Demuestre por método directo que si un número entero no negativo $n$ es par, entonces su cuadrado $n^{2}$ es múltiplo de 4.\n",
    "- [Video de apoyo a la presentación de esta demostración](https://www.youtube.com/watch?v=XwAGvn41gt0)"
   ]
  },
  {
   "cell_type": "markdown",
   "id": "b73f47c1",
   "metadata": {},
   "source": [
    "**Demostración**: \n",
    "|Afirmación |Razón|\n",
    "|-----------|-----|\n",
    "|1. Sea $n$ un número entero no negativo par,|Es la hipótesis dada|\n",
    "|2. entonces $n = 2k$ para algún $k \\in \\mathbb{Z^{+}} \\cup \\{0\\}$.|Definición de número par|\n",
    "|3. Eleva al cuadrado: $n^2 = (2k)^2$.|$a = b \\to a^{2} = b^{2}$|\n",
    "|4. $n^{2} = 4k^{2}$ |Distributividad de la potenciación con respecto a productos|\n",
    "|5. Como $k^{2}$ es entero por la clausuratividad o cerradura de la multiplicación en los enteros, entonces, $n^{2}$ es múltiplo de 4.|Definición de múltiplo de 4|"
   ]
  },
  {
   "cell_type": "markdown",
   "id": "53ea2895",
   "metadata": {},
   "source": [
    "$$\\forall n \\in \\mathbb{N} (n \\quad \\text{par} \\to n^{2} \\quad \\text{es múltiplo de 4})$$"
   ]
  },
  {
   "cell_type": "markdown",
   "id": "2914f847",
   "metadata": {},
   "source": [
    "[Video de apoyo a la lectura de esta prueba]()"
   ]
  },
  {
   "cell_type": "markdown",
   "id": "192fa587",
   "metadata": {},
   "source": [
    "\n",
    "## **10. Retroalimentación**  \n",
    "- Rúbrica de autoevaluación con criterios: *\"Claridad en la demostración\", \"Uso de herramientas STEAMS\"*.  \n",
    "\n",
    "---\n"
   ]
  },
  {
   "cell_type": "markdown",
   "id": "0dcdea7c",
   "metadata": {},
   "source": [
    "\n",
    "## **11. Vocabulario Inglés**  \n",
    "- **Proof/Demostración**, **Axiom/Axioma**, **Theorem/Teorema**, *\"Q.E.D. (Quod Erat Demonstrandum)\"*.  \n",
    "\n",
    "---\n"
   ]
  },
  {
   "cell_type": "markdown",
   "id": "937d34f3",
   "metadata": {},
   "source": [
    "\n",
    "## **12. Apéndice: Habilidades Blandas** "
   ]
  },
  {
   "cell_type": "markdown",
   "id": "33f413c1",
   "metadata": {},
   "source": [
    " \n",
    "- Técnicas para trabajo en equipo: *\"Escucha activa en discusiones de demostraciones\"*.  \n",
    "- Inteligencia Emocional: *\"Manejo de ansiedad en evaluaciones\"*.  \n",
    "\n",
    "---\n"
   ]
  },
  {
   "cell_type": "markdown",
   "id": "310f3006",
   "metadata": {},
   "source": [
    "\n",
    "## **13. Referentes APA**  \n",
    "1. Duval, R. (2006). *A cognitive analysis of problems of comprehension in the learning of mathematics*. Educational Studies in Mathematics, 61(1-2), 103-131.  \n",
    "2. Wing, J. M. (2006). *Computational thinking*. Communications of the ACM, 49(3), 33-35.  \n",
    "... *(lista completa en el diseño extendido)*.  \n",
    "\n",
    "---  \n"
   ]
  },
  {
   "cell_type": "markdown",
   "id": "228edde7",
   "metadata": {},
   "source": [
    "**Nota:** Este diseño integra ABPP, STEAMS y herramientas interactivas para un aprendizaje experimental. ¡Ajusta los paths y URLs según tu entorno!"
   ]
  },
  {
   "cell_type": "markdown",
   "id": "9f486b5f",
   "metadata": {},
   "source": [
    "[Video de presentación de la estructura de clase]()"
   ]
  },
  {
   "cell_type": "markdown",
   "id": "a3e5e6ab",
   "metadata": {},
   "source": [
    "# 20 ejercicios de entrenamiento o adquisición de habilidades obtenido a través de ChatGPT para una formación personalizada y centrada en la habilidad que se quiere lograr con la enseñanza del ejemplo anterior"
   ]
  },
  {
   "cell_type": "markdown",
   "id": "cc539357",
   "metadata": {},
   "source": [
    "Aquí tienes 20 ejercicios diseñados para que los estudiantes de licenciatura en matemáticas puedan ejercitar la capacidad de deducir una tesis a partir de una hipótesis mediante una cadena de transformaciones, similares al ejemplo que proporcionaste.\n"
   ]
  },
  {
   "cell_type": "markdown",
   "id": "c2f5a175",
   "metadata": {},
   "source": [
    "\n",
    "### Ejercicio 1\n",
    "**Hipótesis**: $n$ es un número impar.  \n",
    "**Tesis**: El cuadrado de $n$ es impar.\n"
   ]
  },
  {
   "cell_type": "markdown",
   "id": "95e90d87",
   "metadata": {},
   "source": [
    "\n",
    "### Ejercicio 2\n",
    "**Hipótesis**: $a$ y $b$ son números racionales.  \n",
    "**Tesis**: La suma de $a$ y \\( b \\) es un número racional.\n"
   ]
  },
  {
   "cell_type": "markdown",
   "id": "19a6f2d9",
   "metadata": {},
   "source": [
    "\n",
    "### Ejercicio 3\n",
    "**Hipótesis**: $n$ es divisible por 3.  \n",
    "**Tesis**: El cubo de $n$ es divisible por 27.\n"
   ]
  },
  {
   "cell_type": "markdown",
   "id": "38b5451f",
   "metadata": {},
   "source": [
    "\n",
    "### Ejercicio 4\n",
    "**Hipótesis**: \\( x \\) y \\( y \\) son números reales positivos.  \n",
    "**Tesis**: El producto de $x$ y $y$ es un número real positivo.\n"
   ]
  },
  {
   "cell_type": "markdown",
   "id": "c68e0676",
   "metadata": {},
   "source": [
    "\n",
    "### Ejercicio 5\n",
    "**Hipótesis**: $p$ es un número primo.  \n",
    "**Tesis**: Si $p$ divide al producto de dos números, entonces \\( p \\) divide al menos a uno de ellos.\n"
   ]
  },
  {
   "cell_type": "markdown",
   "id": "40d3ce34",
   "metadata": {},
   "source": [
    "\n",
    "### Ejercicio 6\n",
    "**Hipótesis**: \\( a \\) y \\( b \\) son enteros tales que \\( a = 2k \\) y \\( b = 2m \\).  \n",
    "**Tesis**: La suma \\( a + b \\) es divisible por 2.\n"
   ]
  },
  {
   "cell_type": "markdown",
   "id": "7b75f3c5",
   "metadata": {},
   "source": [
    "\n",
    "### Ejercicio 7\n",
    "**Hipótesis**: $n$ es divisible por 4.  \n",
    "**Tesis**: El cuadrado de $n$ es divisible por 16.\n"
   ]
  },
  {
   "cell_type": "markdown",
   "id": "be61f92e",
   "metadata": {},
   "source": [
    "\n",
    "### Ejercicio 8\n",
    "**Hipótesis**: \\( x \\) es mayor que \\( y \\).  \n",
    "**Tesis**: El cuadrado de \\( x \\) es mayor que el cuadrado de \\( y \\).\n"
   ]
  },
  {
   "cell_type": "markdown",
   "id": "e75458c3",
   "metadata": {},
   "source": [
    "\n",
    "### Ejercicio 9\n",
    "**Hipótesis**: \\( a \\) y \\( b \\) son enteros tales que \\( a = 2p \\) y \\( b = 2q \\).  \n",
    "**Tesis**: El producto \\( ab \\) es divisible por 4.\n"
   ]
  },
  {
   "cell_type": "markdown",
   "id": "88222781",
   "metadata": {},
   "source": [
    "\n",
    "### Ejercicio 10\n",
    "**Hipótesis**: $n$ es un número natural mayor que 1.  \n",
    "**Tesis**: Si $n$ no tiene divisores propios, entonces $n$ es primo.\n"
   ]
  },
  {
   "cell_type": "markdown",
   "id": "001cdd6c",
   "metadata": {},
   "source": [
    "\n",
    "### Ejercicio 11\n",
    "**Hipótesis**: \\( a \\) es un número impar.  \n",
    "**Tesis**: El cubo de \\( a \\) es impar.\n"
   ]
  },
  {
   "cell_type": "markdown",
   "id": "0e867f81",
   "metadata": {},
   "source": [
    "\n",
    "### Ejercicio 12\n",
    "**Hipótesis**: \\( a \\equiv b \\pmod{n} \\).  \n",
    "**Tesis**: Si \\( a^2 \\equiv b^2 \\pmod{n} \\), entonces \\( a \\equiv b \\pmod{n} \\).\n",
    "\n",
    "### Ejercicio 13\n",
    "**Hipótesis**: \\( x \\in \\mathbb{R} \\).  \n",
    "**Tesis**: \\( \\lvert x \\rvert^2 = x^2 \\).\n",
    "\n",
    "### Ejercicio 14\n",
    "**Hipótesis**: \\( x \\) es un número irracional.  \n",
    "**Tesis**: \\( \\frac{1}{x} \\) es irracional.\n",
    "\n",
    "### Ejercicio 15\n",
    "**Hipótesis**: \\( a \\) es un número impar.  \n",
    "**Tesis**: \\( a^2 \\equiv 1 \\pmod{8} \\).\n",
    "\n",
    "### Ejercicio 16\n",
    "**Hipótesis**: Si \\( a \\equiv b \\pmod{n} \\), entonces \\( a + c \\equiv b + c \\pmod{n} \\).  \n",
    "**Tesis**: \\( a^k \\equiv b^k \\pmod{n} \\).\n",
    "\n",
    "### Ejercicio 17\n",
    "**Hipótesis**: \\( x \\in \\mathbb{Q} \\).  \n",
    "**Tesis**: Si \\( x = \\frac{a}{b} \\), entonces \\( x^2 \\) es racional.\n",
    "\n",
    "### Ejercicio 18\n",
    "**Hipótesis**: \\( x \\) y \\( y \\) son números irracionales.  \n",
    "**Tesis**: La suma \\( x + y \\) no necesariamente es irracional.\n",
    "\n",
    "### Ejercicio 19\n",
    "**Hipótesis**: \\( a \\) es múltiplo de 5.  \n",
    "**Tesis**: \\( a^2 \\equiv 0 \\pmod{5} \\).\n",
    "\n",
    "### Ejercicio 20\n",
    "**Hipótesis**: Si \\( f \\) es una función continua en un intervalo cerrado, entonces alcanza un máximo y un mínimo en ese intervalo.  \n",
    "**Tesis**: La función \\( f(x) = x^2 \\) en el intervalo \\( [0, 2] \\) tiene un máximo y un mínimo.\n"
   ]
  },
  {
   "cell_type": "markdown",
   "id": "fd1b4208",
   "metadata": {},
   "source": [
    "\n",
    "Cada ejercicio invita a los estudiantes a aplicar un proceso lógico similar al que mostraste, partiendo de una hipótesis, aplicando reglas matemáticas y propiedades, y llegando a una tesis clara."
   ]
  },
  {
   "cell_type": "markdown",
   "id": "8d41fe58",
   "metadata": {
    "slideshow": {
     "slide_type": "slide"
    }
   },
   "source": [
    "# Horario de clases del profesor Marco\n",
    "\n",
    "* Lunes 8-12: Cálculo Vectorial\n",
    "* Martes 8-12 M: Fundamentos de Aritmética. \n",
    "* Miércoles 8 a 12 M: Fundamentos de la Lógica\n",
    "* Jueves 2 a 6PM: Desarrollo del pensamiento matemático en la infancia. \n",
    "* Viernes 8 - 12 M: Desarrollo del pensamiento matemático en la infancia. \n",
    "* Sábados 8-12 Asesorías "
   ]
  },
  {
   "cell_type": "markdown",
   "id": "ae114e14",
   "metadata": {
    "slideshow": {
     "slide_type": "slide"
    }
   },
   "source": [
    "# Horarios de monitoría y asesoría  \n",
    "\n",
    "Coordinador de los cursos de la Facultad de Educación para regiones:    \n",
    "\n",
    "Andrés Vélez: regioneducacion.fedu@udea.edu.co  \n",
    "Coordinador Regiones  \n",
    "Facultad de Educación  \n",
    "Universidad de Antioquia  "
   ]
  },
  {
   "cell_type": "markdown",
   "id": "b1db4b6c",
   "metadata": {
    "slideshow": {
     "slide_type": "slide"
    }
   },
   "source": [
    "## Monitor Manuel San Juan Serrano\n",
    "\n",
    "Contactar escribiendo al correo: manuel.serrano1@udea.edu.co"
   ]
  },
  {
   "cell_type": "markdown",
   "id": "39559692",
   "metadata": {
    "slideshow": {
     "slide_type": "slide"
    }
   },
   "source": [
    "Martes y jueves de 8 - 12  \n",
    "Miércoles 10 - 12 y de 2 a 4 PM  \n",
    "Sábado: 8 - 12"
   ]
  },
  {
   "cell_type": "markdown",
   "id": "5a190057",
   "metadata": {},
   "source": [
    "## Monitoría virtual   \n",
    "\n",
    "Telefono del monitos en whatsApp: 3043936088  \n",
    "\n",
    "Juan David Cano Castrillón  \n",
    "Estudiante de Pregrado.  \n",
    "juan.canoc1@udea.edu.co  \n",
    "3043936088  \n"
   ]
  },
  {
   "cell_type": "markdown",
   "id": "10bce0d0",
   "metadata": {
    "slideshow": {
     "slide_type": "slide"
    }
   },
   "source": [
    "## Referentes "
   ]
  },
  {
   "cell_type": "markdown",
   "id": "1db3c468",
   "metadata": {
    "slideshow": {
     "slide_type": "slide"
    }
   },
   "source": [
    "* [Jupyter Book de fundamentos_logica](file:///C:/Users/marco/Documentos/docencia/fundamentos_logica/fundamentos_logica_book/_build/html/index.html)\n",
    "\n",
    "* [Decargue Crocodile Clip aquí](https://crocodileclips.net/descargar-crocodile-clips/)\n",
    "\n",
    "* [Grajales Vanegas, L. M., Restrepo Estrada, C. E., Restrepo Ochoa, S. I., & Ruíz De Villalba, F. (2015). Matemáticas I para las ciencias económicas.](https://github.com/marco-canas/fundamentos_de_la_aritmetica/blob/main/referentes/2_grajales_logica/grajales_lina_matemticas.pdf)\n",
    "  \n",
    "* Duval, R. (2004). Semiosis y pensamiento humano: registros semióticos y aprendizajes intelectuales. Universidad del Valle.\n",
    "\n",
    "* [Aylwin, C. U. (2011). Lógica, conjuntos y números. Universidad de los Andes, Consejo de Publicaciones, Colección: Ciencias Básicas, Serie: Matemáticas.](https://github.com/marco-canas/fundamentos_logica/blob/main/referentes/2_uzcategui/uscategui.pdf)\n",
    "  \n",
    "* [Chollet, F. (2021). Deep learning with Python. Simon and Schuster.](https://github.com/marco-canas/didactica_ciencia_datos/blob/main/2_referentes/chollet/Fran%C3%A7ois%20Chollet%20-%20Deep%20Learning%20with%20Python-Manning%20(2018).pdf)  \n",
    "  \n",
    "* [Watson, S., Stewart, J., & Redlin, L. (2009). Precálculo. Matemáticas para el cálculo.](https://github.com/marco-canas/calculo/blob/main/referents/1_precalculo_stewart/stewart_precalculo.pdf)  \n",
    "\n",
    "* [Purcell, E. J., Varberg, D., & Rigdon, S. E. (2007). Cálculo diferencial e integral. Pearson Educación.](https://github.com/marco-canas/calculo/blob/main/referents/purcell/purcell_calculo.pdf)\n",
    "\n",
    "  \n",
    "\n",
    "* [stewart cálculo](https://udeaeduco-my.sharepoint.com/:b:/g/personal/marco_canas_udea_edu_co/EZgXZjAp8QxPqOAim2hs6LcBNPLGjSHf-xwYnUVYkwa04w?e=RZdTCy)  \n",
    "\n",
    "* [larson](https://udeaeduco-my.sharepoint.com/:b:/g/personal/marco_canas_udea_edu_co/ES71ChFeO9ZDhW3TwC5Ijk8BjxUK3Pdqz_fjHxTTFAfIAg?e=VDEjfu)\n",
    "\n",
    "\n",
    "\n",
    "* [Recomendación de la UNESCO sobre ciencia abierta](https://unesdoc.unesco.org/ark:/48223/pf0000379949_spa)\n",
    "\n",
    "* [chatGPT](https://openai.com/blog/chatgpt)  \n",
    "\n",
    "* [Géron, A. (2017). Hands-on machine learning with scikit-learn and tensorflow: Concepts. Tools, and Techniques to build intelligent systems.](https://github.com/marco-canas/didactica_ciencia_datos/blob/main/2_referentes/geron/Hands-On%20Machine%20Learning-3nd_Edition(2022).pdf)  \n",
    "\n",
    "* [McKinney, W. (2012). Python for data analysis: Data wrangling with Pandas, NumPy, and IPython. \" O'Reilly Media, Inc.\".](https://github.com/marco-canas/didactica_ciencia_datos/blob/main/2_referentes/mckinney/Wes_McKinney.pdf)  "
   ]
  },
  {
   "cell_type": "markdown",
   "id": "8e65d6f9",
   "metadata": {},
   "source": [
    "# Como estudiante, encuentro que...   \n",
    "\n",
    "F: Mis Fortalezas son:     \n",
    "O: Mis Oportunidades son:    \n",
    "D: Mis Debilidades son:    \n",
    "A: Lo que Amenazas mi aprendizaje es:  "
   ]
  },
  {
   "cell_type": "markdown",
   "id": "6b9e56a8",
   "metadata": {
    "slideshow": {
     "slide_type": "slide"
    }
   },
   "source": [
    "### [Evaluamos al profesor Marco Cañas Aquí](https://forms.office.com/Pages/ResponsePage.aspx?id=IefhmYRxjkmK_7KtTlPBwkanXIs1i1FEujpsZgO6dXpUREJPV1kxUk1JV1ozTFJIQVNIQjY5WEY3US4u)"
   ]
  },
  {
   "cell_type": "markdown",
   "id": "050b9508",
   "metadata": {},
   "source": [
    "# Aportes de mis estudiantes a la metodología del curso  \n",
    "1. \n",
    "\n",
    "Sus opiniones y aportes son muy importantes para mi. Pues esta es una investigación educativa y un servicio de enseñanza para ustedes. Ustedes son la razón de ser de mi actividad docente. Dios los bendiga. "
   ]
  },
  {
   "cell_type": "markdown",
   "id": "6c4af91f",
   "metadata": {},
   "source": [
    "# Aportes de mis colegas docentes a la metodología que estoy aplicando en mis cursos. "
   ]
  },
  {
   "cell_type": "markdown",
   "id": "071afa04",
   "metadata": {
    "slideshow": {
     "slide_type": "slide"
    }
   },
   "source": [
    "## [Evaluación luego de alcanzar estos objetivos de aprendizaje]()"
   ]
  },
  {
   "cell_type": "markdown",
   "id": "10f43536",
   "metadata": {
    "slideshow": {
     "slide_type": "slide"
    }
   },
   "source": [
    "### Continue su aprendizaje en la siguiente clase a través del siguiente [vínculo]()"
   ]
  },
  {
   "cell_type": "markdown",
   "id": "ba236f4d",
   "metadata": {},
   "source": [
    "### **Actividad de Clase: Expresar Ideas, Dudas y Emociones de Manera Respetuosa y Asertiva**\n"
   ]
  },
  {
   "cell_type": "markdown",
   "id": "33bcd185",
   "metadata": {},
   "source": [
    "\n",
    "**Objetivo:**  \n",
    "Desarrollar habilidades de comunicación efectiva en los estudiantes para que puedan expresar sus ideas, dudas y emociones de forma respetuosa y asertiva.\n",
    "\n",
    "**Duración:**  \n",
    "15-20 minutos\n",
    "\n",
    "---\n"
   ]
  },
  {
   "cell_type": "markdown",
   "id": "f61da648",
   "metadata": {},
   "source": [
    "\n",
    "### **1. Introducción (5 minutos)**  \n",
    "- **Tema:** Introducir a los estudiantes al concepto de la comunicación asertiva, explicando cómo expresar pensamientos y emociones de manera clara y respetuosa sin agredir o ser pasivo.\n",
    "- **Dinámica:** Mostrar dos ejemplos contrastantes: uno de comunicación pasiva/agresiva y otro de comunicación asertiva. Preguntar a los estudiantes cuál creen que es más efectivo y por qué.\n",
    "\n",
    "**Materiales:**  \n",
    "- Pizarra o diapositivas con ejemplos de frases pasivas, agresivas y asertivas.\n",
    "  \n"
   ]
  },
  {
   "cell_type": "markdown",
   "id": "b0ef661c",
   "metadata": {},
   "source": [
    "**Ejemplo:**  \n",
    "- **Pasivo:** “Bueno… no sé si es una buena idea, pero… tal vez podrías intentarlo.”\n",
    "- **Agresivo:** “¡Tu idea es terrible, no va a funcionar!”\n",
    "- **Asertivo:** “Creo que podríamos mejorar esa idea si consideramos otro enfoque.”\n",
    "\n",
    "---\n"
   ]
  },
  {
   "cell_type": "markdown",
   "id": "2c3fa873",
   "metadata": {},
   "source": [
    "\n",
    "### **2. Ejercicio en Parejas (10 minutos)**  \n",
    "- **Instrucciones:** Dividir a los estudiantes en parejas. Darles diferentes situaciones cotidianas en las que deben comunicarse (pedir ayuda, expresar desacuerdo, compartir una idea, etc.). Cada pareja debe crear una breve conversación donde practiquen la comunicación asertiva.\n",
    "  \n"
   ]
  },
  {
   "cell_type": "markdown",
   "id": "abba23a1",
   "metadata": {},
   "source": [
    "**Situaciones propuestas:**\n",
    "  - Expresar desacuerdo con un compañero sobre una tarea de grupo.\n",
    "  - Pedirle ayuda al profesor sobre un concepto difícil.\n",
    "  - Expresar frustración por un malentendido en clase.\n",
    "\n",
    "- **Reglas:** Cada estudiante debe asegurarse de usar lenguaje respetuoso y asertivo para expresar su posición y emociones. Al final, cada pareja debe compartir con la clase un ejemplo de lo que discutieron.\n",
    "\n",
    "\n"
   ]
  },
  {
   "cell_type": "markdown",
   "id": "d5a362e0",
   "metadata": {},
   "source": [
    "\n",
    "### **3. Retroalimentación y Discusión (5 minutos)**  \n",
    "- **Discusión:** Invitar a algunos estudiantes a compartir sus experiencias de la actividad. \n",
    "- **Preguntas:** ¿Cómo se sintieron al intentar ser asertivos? ¿Les resultó difícil? ¿Cómo fue recibido el mensaje?\n",
    "  \n",
    "**Consejo:** Resaltar la importancia de practicar la asertividad como una herramienta para mejorar la comunicación interpersonal y reducir conflictos.\n",
    "\n"
   ]
  },
  {
   "cell_type": "markdown",
   "id": "44b6ab91",
   "metadata": {},
   "source": [
    "\n",
    "\n",
    "### **Cierre**  \n",
    "- Resumir las características de la comunicación asertiva: uso de \"yo\" en lugar de \"tú\" para evitar culpabilizar, tono de voz calmado, y respeto hacia el interlocutor.\n",
    "- **Tarea opcional:** Pedirles que practiquen la comunicación asertiva en sus conversaciones durante la semana y escriban una reflexión breve sobre cómo les fue.\n",
    "\n",
    "**Material adicional:**  \n",
    "- Video corto o recurso digital sobre la importancia de la comunicación asertiva."
   ]
  },
  {
   "cell_type": "markdown",
   "id": "53cc9115",
   "metadata": {
    "slideshow": {
     "slide_type": "slide"
    }
   },
   "source": [
    "## Agradecimientos  \n",
    "\n",
    "Doy gracias a Dios por la vida de mi Hijo Joseph Cañas Osorio y la madurez que ha alcanzado.\n",
    "\n",
    "Y a mi esposa Yasmira por su apoyo, orientación y acompañamiento. "
   ]
  }
 ],
 "metadata": {
  "celltoolbar": "Slideshow",
  "kernelspec": {
   "display_name": ".venv",
   "language": "python",
   "name": "python3"
  },
  "language_info": {
   "codemirror_mode": {
    "name": "ipython",
    "version": 3
   },
   "file_extension": ".py",
   "mimetype": "text/x-python",
   "name": "python",
   "nbconvert_exporter": "python",
   "pygments_lexer": "ipython3",
   "version": "3.12.6"
  },
  "rise": {
   "enable_chalkboard": true,
   "theme": "sky",
   "transition": "zoom"
  }
 },
 "nbformat": 4,
 "nbformat_minor": 5
}
