{
 "cells": [
  {
   "cell_type": "markdown",
   "id": "dc06dec7",
   "metadata": {
    "slideshow": {
     "slide_type": "slide"
    }
   },
   "source": [
    "<table align=\"left\">\n",
    "  <td>\n",
    "    <a href=\"https://colab.research.google.com/github/marco-canas/didactica_ciencia_datos/blob/main/1_curso_machine_learning/1_evaluacion_oral_tarea_quiz_parcial.ipynb\" target=\"_parent\"><img src=\"https://colab.research.google.com/assets/colab-badge.svg\" alt=\"Open In Colab\"/></a>\n",
    "  </td>\n",
    "  <td>\n",
    "    <a target=\"_blank\" href=\"https://kaggle.com/kernels/welcome?src=https://github.com/marco-canas/didactica_ciencia_datos/blob/main/1_curso_machine_learning/1_evaluacion_oral_tarea_quiz_parcial.ipynb\"><img src=\"https://kaggle.com/static/images/open-in-kaggle.svg\" /></a>\n",
    "  </td>\n",
    "</table>"
   ]
  },
  {
   "cell_type": "markdown",
   "id": "e0c5b198",
   "metadata": {
    "slideshow": {
     "slide_type": "slide"
    }
   },
   "source": [
    "### [Video de apoyo a la lectura interactiva y experimental de este cuaderno]()"
   ]
  },
  {
   "cell_type": "markdown",
   "id": "41e82203",
   "metadata": {
    "slideshow": {
     "slide_type": "slide"
    }
   },
   "source": [
    "## [Vínculo al programa del curso:  ]()"
   ]
  },
  {
   "cell_type": "markdown",
   "id": "ca46c23b",
   "metadata": {
    "slideshow": {
     "slide_type": "slide"
    }
   },
   "source": [
    "# Modelo general de clase: [aula invertida](https://www3.gobiernodecanarias.org/medusa/ecoescuela/pedagotic/aprendizaje-invertido-flipped-classroom/)\n"
   ]
  },
  {
   "cell_type": "markdown",
   "id": "7f9be90f",
   "metadata": {
    "slideshow": {
     "slide_type": "slide"
    }
   },
   "source": [
    "# Fomento de la lectura literaria asociada a Ingeniería agropecuaria y licenciatura en Matemáticas y administración de empresas\n",
    "\n",
    "[Hábitos atómicos](https://github.com/marco-canas/habitos_atomicos/blob/main/13_como_dejar_de_postergar_usando_la_regla_de_los_dos_minutos/1_13_como_dejar_de_postergar_usando_la_regla_de_los_dos_minutos.ipynb)"
   ]
  },
  {
   "cell_type": "markdown",
   "id": "96775931",
   "metadata": {
    "slideshow": {
     "slide_type": "slide"
    }
   },
   "source": [
    "# Título de la clase: Realización evaluación oral, de Tareas en cuadernos Jupyter, Quiz o Parcial de selección múltiple o de preguntas cerradas.  \n",
    "\n"
   ]
  },
  {
   "cell_type": "markdown",
   "id": "cf101603",
   "metadata": {},
   "source": [
    "# Prompt para pedir el diseño de evaluación de acuerdo a la metodología de \"Enseñanza basada en proyectos\"  \n",
    "\n",
    "Dame, por favor, un diseño de clase, con el enfoque: STEAMS  y de aprendizaje basado en problemas y proyectos(ABPP); sobre: **\" \"**, siguiendo la estructura:   \n",
    "\n",
    "1. Título de la clase \n",
    "2. Objetivo de aprendizaje e indicadores de logro de estos objetivos. \n",
    "3.  Un mapa conceptual que resuma la clase elaborado en Graphviz de python con nodos y edges de diferentes formas, colores y rellenos y renderizado en la siguiente ubicación: `\"C:/Users/marco/Descargas\"`. No olvides el parámetro `view = True` para el método `render()` de Graphviz. Para este mapa controla las superposiciones de los nodos con: graph [overlap=false]; // Elimina superposiciones (puede aumentar el espacio)\n",
    "graph [overlap=\"scalexy\"]; // Escala el gráfico para evitar overlaps\n",
    "graph [overlap=\"compress\"]; // Comprime el grafo sin overlaps   \n",
    "   \n",
    "4. Contenido de la clase    \n",
    "   \n",
    "5. Incluye una canción o un poema que ayude a interiorizar y fijar los conceptos asociados a esta clase.  \n",
    "   \n",
    "6. Dame elementos históricos y epistemológicos asociados a esta clase, pero contados como un cuento al estilo de un cuentero antioqueño en Colombia. Incluye imágenes de los protagonistas históricos de esta clase.   \n",
    "   \n",
    "7. Actividades de aprendizaje    \n",
    "     * Incluya actividades de aprendizaje utilizando Calculadora **Casio 991 LA cw**\n",
    "     * Incluya también actividades de aprendizaje y modelación de situaciones o problemas reales a través de circuitos lógicos y circuitos digitales o electrónicos utilizando la aplicación portable cocodrilo. [Descarge esta aplicación portable aquí](https://crocodileclips.net/descargar-crocodile-clips/) \n",
    "8. Evaluación incluyendo diez proyectos, un ejemplo de quiz y un ejemplo de parcial\n",
    "9.  Tarea o actividades de ejercitación y fijación\n",
    "10. Diseño de actividad de retroalimentación.  \n",
    "11. Dame un vocabulario y frases del idioma inglés asociadas a esta clase.   \n",
    "12. Incluye apéndice para la clase sobre desarrollo de habilidades para trabajar en equipo y de asertividad y empatía para relacionarnos. También elementos de la inteligencia emocional para presentar pruebas sin temor y sin realizar fraude en ellas.   \n",
    "13. Incluye 10 referentes en didáctica de la matemática que estén de acuerdo a la propuesta didáctica de esta clase. Adiciona a estos referentes a Raymond Duval (Representaciones y cambios de representación para la adquisición de conceptos matemáticos) y a Janete Wing (Desarrollo del pensamiento computacional). Dejame todos estos referentes ordenados de acuerdo a las normas APA. Dejame todos estos referentes ordenados de acuerdo a las normas APA. Incluye las citaciones a estos referentes a medida que vallas diseñando la clase. \n",
    "\n",
    "\n",
    "Pero  que este diseño sea para que el estudiante pueda aprender experimentando en cuadernos Jupyter con funciones de usuario y animaciones y visualizaciones en python. En particular utiliza para el diseño de clase a Numpy, Pandas, SymPy, Matplotlib.pyplot, Seaborn, Plotly, ipywidgets, matplotlib.animation y Jupyter Notebook.  \n",
    "Cuando vallas a utilizar SymPy, ten en cuanta la siguiente configuración: \n",
    "# Corrección y mejora del código\n",
    "from sympy import symbols, Equivalent\n",
    "from sympy.logic.boolalg import truth_table\n",
    "\n",
    "Cada vez que utilices `matplotlib.animacion` no olvides incluir el uso de `IPython. display` para la rederización de estas animaciones a través de Jupyter Notebook. No olvides darme los diseños de clase con las ecuaciones matemáticas delimitadas con signo de dolar $ para que VS Code si me renderize estas expresiones del lenguaje latex. Cuando vallas a utilizar ipywidgets ten en cuenta la siguiente importación inicial para garantizar que la visualización interactiva si se renderize en VS Code: import numpy as np\n",
    "import matplotlib.pyplot as plt\n",
    "import ipywidgets as widgets\n",
    "from IPython.display import display, clear_output\n",
    "from matplotlib.patches import Rectangle\n",
    "\n",
    "# Configuración inicial para visualización estática\n",
    "%matplotlib inline "
   ]
  },
  {
   "cell_type": "markdown",
   "id": "42797498",
   "metadata": {},
   "source": [
    "### **Diseño de Clase: \"La lectura experimental e interactiva con Cuadernos Jupyter y Simuladores como Crocodile Clips vs la lectura pasiva de un PDF\"**\n",
    "\n",
    "---\n",
    "\n",
    "### **1. Título de la clase**\n",
    "\"Explorando la lectura experimental e interactiva: Cuadernos Jupyter y simuladores frente a la lectura pasiva de PDFs\"\n",
    "\n",
    "---\n",
    "\n",
    "### **2. Objetivo de aprendizaje e indicadores de logro**\n",
    "**Objetivo de aprendizaje:**  \n",
    "Los estudiantes comprenderán y experimentarán las diferencias entre la lectura pasiva (PDF) y la lectura interactiva (Cuadernos Jupyter y simuladores como Crocodile Clips), desarrollando habilidades en pensamiento computacional, resolución de problemas y trabajo colaborativo.\n",
    "\n",
    "**Indicadores de logro:**  \n",
    "- El estudiante crea y ejecuta funciones en Python utilizando Cuadernos Jupyter.  \n",
    "- El estudiante compara la eficacia de la lectura interactiva frente a la pasiva mediante un análisis crítico.  \n",
    "- El estudiante modela circuitos lógicos y digitales utilizando Crocodile Clips.  \n",
    "- El estudiante aplica conceptos matemáticos y computacionales en la resolución de problemas reales.  \n",
    "- El estudiante trabaja en equipo de manera asertiva y empática, aplicando principios de inteligencia emocional.\n",
    "\n",
    "---\n",
    "\n",
    "### **3. Mapa conceptual**\n",
    "El mapa conceptual se generará utilizando Graphviz en Python. Aquí está el código para crearlo:\n",
    "\n",
    "```python\n",
    "from graphviz import Digraph\n",
    "\n",
    "# Crear el grafo\n",
    "graph = Digraph('G', filename='C:/Users/marco/Descargas/mapa_conceptual', format='png')\n",
    "graph.attr(overlap='scalexy')  # Evitar superposiciones\n",
    "\n",
    "# Nodos\n",
    "graph.node('A', 'Lectura Experimental e Interactiva', shape='ellipse', color='blue', style='filled', fillcolor='lightblue')\n",
    "graph.node('B', 'Cuadernos Jupyter', shape='box', color='red', style='filled', fillcolor='pink')\n",
    "graph.node('C', 'Simuladores (Crocodile Clips)', shape='box', color='green', style='filled', fillcolor='lightgreen')\n",
    "graph.node('D', 'Lectura Pasiva (PDF)', shape='ellipse', color='orange', style='filled', fillcolor='yellow')\n",
    "graph.node('E', 'Aprendizaje Activo', shape='diamond', color='purple', style='filled', fillcolor='lavender')\n",
    "graph.node('F', 'Resolución de Problemas', shape='diamond', color='brown', style='filled', fillcolor='tan')\n",
    "graph.node('G', 'Pensamiento Computacional', shape='diamond', color='cyan', style='filled', fillcolor='lightcyan')\n",
    "\n",
    "# Edges\n",
    "graph.edge('A', 'B')\n",
    "graph.edge('A', 'C')\n",
    "graph.edge('A', 'D')\n",
    "graph.edge('B', 'E')\n",
    "graph.edge('C', 'E')\n",
    "graph.edge('D', 'E')\n",
    "graph.edge('E', 'F')\n",
    "graph.edge('F', 'G')\n",
    "\n",
    "# Renderizar y mostrar\n",
    "graph.render(view=True)\n",
    "```\n",
    "\n",
    "---\n",
    "\n",
    "### **4. Contenido de la clase**\n",
    "1. **Introducción a la lectura experimental e interactiva:**  \n",
    "   - Diferencias entre lectura pasiva (PDF) y lectura interactiva (Cuadernos Jupyter, simuladores).  \n",
    "   - Ventajas del aprendizaje activo.  \n",
    "\n",
    "2. **Herramientas:**  \n",
    "   - Cuadernos Jupyter: Python, Numpy, Pandas, SymPy, Matplotlib, Seaborn, Plotly, ipywidgets.  \n",
    "   - Simuladores: Crocodile Clips para circuitos lógicos y digitales.  \n",
    "\n",
    "3. **Aplicaciones prácticas:**  \n",
    "   - Resolución de problemas matemáticos y físicos.  \n",
    "   - Modelación de circuitos electrónicos.  \n",
    "\n",
    "4. **Comparación crítica:**  \n",
    "   - Eficacia de la lectura interactiva vs. pasiva.  \n",
    "\n",
    "---\n",
    "\n",
    "### **5. Canción o poema**\n",
    "**Poema:**  \n",
    "\"En Jupyter, el código fluye,  \n",
    "con Python, el saber construye.  \n",
    "De Crocodile, los circuitos nacen,  \n",
    "y en la mente, las ideas se abrazan.  \n",
    "No más PDFs estáticos y fríos,  \n",
    "¡viva el aprendizaje activo y creativo!\"  \n",
    "\n",
    "---\n",
    "\n",
    "### **6. Elementos históricos y epistemológicos**\n",
    "**Cuento al estilo antioqueño:**  \n",
    "\"Érase una vez, en los albores de la computación, un hombre llamado **Guido van Rossum** que, con su lenguaje Python, quiso hacer la programación accesible para todos. Luego, llegaron los **Cuadernos Jupyter**, creados por Fernando Pérez, que permitieron a científicos y educadores mezclar texto y código como si fuera un cuaderno mágico.  \n",
    "\n",
    "Por otro lado, en el mundo de la electrónica, **Crocodile Clips** apareció como un simulador que permitía a los estudiantes jugar con circuitos sin quemar un solo transistor.  \n",
    "\n",
    "Y así, estas herramientas se unieron para transformar la educación, llevando a los estudiantes de la lectura pasiva a la experimentación activa. ¡Ah, qué tiempos aquellos!\"  \n",
    "\n",
    "**Imágenes:**  \n",
    "- Guido van Rossum (creador de Python).  \n",
    "- Fernando Pérez (creador de Jupyter).  \n",
    "\n",
    "---\n",
    "\n",
    "### **7. Actividades de aprendizaje**\n",
    "1. **Actividad con Casio 991 LA cw:**  \n",
    "   - Resolver ecuaciones lineales y graficar funciones.  \n",
    "\n",
    "2. **Actividad con Crocodile Clips:**  \n",
    "   - Diseñar un circuito lógico para una puerta AND y simular su comportamiento.  \n",
    "\n",
    "3. **Actividad con Cuadernos Jupyter:**  \n",
    "   - Crear una animación con `matplotlib.animation` para visualizar el movimiento de un péndulo.  \n",
    "   - Usar `ipywidgets` para crear una interfaz interactiva que permita modificar parámetros de una función matemática.  \n",
    "\n",
    "```python\n",
    "import numpy as np\n",
    "import matplotlib.pyplot as plt\n",
    "from matplotlib.animation import FuncAnimation\n",
    "from IPython.display import HTML\n",
    "\n",
    "# Animación de un péndulo\n",
    "fig, ax = plt.subplots()\n",
    "x_data, y_data = [], []\n",
    "ln, = plt.plot([], [], 'ro')\n",
    "\n",
    "def init():\n",
    "    ax.set_xlim(0, 2*np.pi)\n",
    "    ax.set_ylim(-1, 1)\n",
    "    return ln,\n",
    "\n",
    "def update(frame):\n",
    "    x_data.append(frame)\n",
    "    y_data.append(np.sin(frame))\n",
    "    ln.set_data(x_data, y_data)\n",
    "    return ln,\n",
    "\n",
    "ani = FuncAnimation(fig, update, frames=np.linspace(0, 2*np.pi, 128), init_func=init, blit=True)\n",
    "HTML(ani.to_jshtml())\n",
    "```\n",
    "\n",
    "---\n",
    "\n",
    "### **8. Evaluación**\n",
    "**Proyectos:**  \n",
    "1. Crear un cuaderno Jupyter que resuelva un problema de física usando SymPy.  \n",
    "2. Simular un circuito digital en Crocodile Clips.  \n",
    "\n",
    "**Quiz:**  \n",
    "- Preguntas sobre las ventajas de la lectura interactiva.  \n",
    "\n",
    "**Parcial:**  \n",
    "- Resolver un problema matemático utilizando Python y presentar los resultados en un cuaderno Jupyter.  \n",
    "\n",
    "---\n",
    "\n",
    "### **9. Tarea**\n",
    "- Investigar y comparar dos herramientas de simulación (Crocodile Clips y otra).  \n",
    "- Crear una función en Python que resuelva una ecuación diferencial.  \n",
    "\n",
    "---\n",
    "\n",
    "### **10. Retroalimentación**\n",
    "- Revisión de cuadernos Jupyter con comentarios sobre el código y las visualizaciones.  \n",
    "- Discusión en clase sobre los resultados de las simulaciones.  \n",
    "\n",
    "---\n",
    "\n",
    "### **11. Vocabulario en inglés**\n",
    "- **Interactive learning:** Aprendizaje interactivo.  \n",
    "- **Computational thinking:** Pensamiento computacional.  \n",
    "- **Circuit simulation:** Simulación de circuitos.  \n",
    "- **Data visualization:** Visualización de datos.  \n",
    "- **Problem-solving:** Resolución de problemas.  \n",
    "\n",
    "---\n",
    "\n",
    "### **12. Apéndice**\n",
    "**Habilidades para trabajar en equipo:**  \n",
    "- Comunicación asertiva.  \n",
    "- Escucha activa.  \n",
    "- Distribución de tareas.  \n",
    "\n",
    "**Inteligencia emocional:**  \n",
    "- Manejo del estrés durante evaluaciones.  \n",
    "- Honestidad académica.  \n",
    "\n",
    "---\n",
    "\n",
    "### **13. Referentes en didáctica**\n",
    "1. Duval, R. (2006). *Representaciones y cambios de representación para la adquisición de conceptos matemáticos*.  \n",
    "2. Wing, J. (2006). *Computational thinking*.  \n",
    "3. Polya, G. (1945). *How to Solve It*.  \n",
    "4. Schoenfeld, A. H. (1985). *Mathematical Problem Solving*.  \n",
    "5. Harel, G., & Sowder, L. (2005). *Advanced Mathematical Thinking*.  \n",
    "\n",
    "**Citas APA:**  \n",
    "- Duval, R. (2006). *Representaciones y cambios de representación para la adquisición de conceptos matemáticos*. Educational Studies in Mathematics, 61(1-2), 103-131.  \n",
    "- Wing, J. (2006). *Computational thinking*. Communications of the ACM, 49(3), 33-35.  \n",
    "\n",
    "---\n",
    "\n",
    "Este diseño de clase integra el enfoque STEAM, el aprendizaje basado en problemas y proyectos, y herramientas interactivas para fomentar un aprendizaje significativo y experimental. ¡Espero que sea útil! "
   ]
  },
  {
   "cell_type": "markdown",
   "id": "fb9402bb",
   "metadata": {
    "slideshow": {
     "slide_type": "slide"
    }
   },
   "source": [
    "## Estrategias propuestas para la solución de las dificultades de aprendizaje detectadas"
   ]
  },
  {
   "cell_type": "markdown",
   "id": "2dd3bd5c",
   "metadata": {
    "slideshow": {
     "slide_type": "slide"
    }
   },
   "source": []
  },
  {
   "cell_type": "markdown",
   "id": "c6236d5d",
   "metadata": {},
   "source": [
    "# FODA del grupo y del profesor  \n",
    "\n",
    "* F: Fortalezas\n",
    "* O: Oportunidades\n",
    "* D: Dificultades\n",
    "* A: Amenazas."
   ]
  },
  {
   "cell_type": "markdown",
   "id": "b48f9542",
   "metadata": {},
   "source": [
    "## ¿Cómo se sintió en este espacio de enseñanza y aprendizaje?\n",
    "\n",
    "!Dios te bendiga¡"
   ]
  },
  {
   "cell_type": "markdown",
   "id": "10bce0d0",
   "metadata": {
    "slideshow": {
     "slide_type": "slide"
    }
   },
   "source": [
    "## Referentes "
   ]
  },
  {
   "cell_type": "markdown",
   "id": "d204c917",
   "metadata": {},
   "source": [
    "* [Grajales Vanegas, L. M., Restrepo Estrada, C. E., Restrepo Ochoa, S. I., & Ruíz De Villalba, F. (2015). Matemáticas I para las ciencias económicas.](https://github.com/marco-canas/fundamentos_de_la_aritmetica/blob/main/referentes/2_grajales_logica/grajales_lina_matemticas.pdf)\n",
    "  \n",
    "* Duval, R. (2004). Semiosis y pensamiento humano: registros semióticos y aprendizajes intelectuales. Universidad del Valle.\n",
    "\n",
    "* [Aylwin, C. U. (2011). Lógica, conjuntos y números. Universidad de los Andes, Consejo de Publicaciones, Colección: Ciencias Básicas, Serie: Matemáticas.](https://github.com/marco-canas/fundamentos_logica/blob/main/referentes/2_uzcategui/uscategui.pdf)\n",
    "  \n",
    "* [Chollet, F. (2021). Deep learning with Python. Simon and Schuster.](https://github.com/marco-canas/didactica_ciencia_datos/blob/main/2_referentes/chollet/Fran%C3%A7ois%20Chollet%20-%20Deep%20Learning%20with%20Python-Manning%20(2018).pdf)  \n",
    "  \n",
    "* [Watson, S., Stewart, J., & Redlin, L. (2009). Precálculo. Matemáticas para el cálculo.](https://github.com/marco-canas/calculo/blob/main/referents/1_precalculo_stewart/stewart_precalculo.pdf)  \n",
    "\n",
    "* [Purcell, E. J., Varberg, D., & Rigdon, S. E. (2007). Cálculo diferencial e integral. Pearson Educación.](https://github.com/marco-canas/calculo/blob/main/referents/purcell/purcell_calculo.pdf)\n",
    "\n",
    "  \n",
    "\n",
    "* [stewart cálculo](https://udeaeduco-my.sharepoint.com/:b:/g/personal/marco_canas_udea_edu_co/EZgXZjAp8QxPqOAim2hs6LcBNPLGjSHf-xwYnUVYkwa04w?e=RZdTCy)  \n",
    "\n",
    "* [larson](https://udeaeduco-my.sharepoint.com/:b:/g/personal/marco_canas_udea_edu_co/ES71ChFeO9ZDhW3TwC5Ijk8BjxUK3Pdqz_fjHxTTFAfIAg?e=VDEjfu)\n",
    "\n",
    "\n",
    "\n",
    "* [Recomendación de la UNESCO sobre ciencia abierta](https://unesdoc.unesco.org/ark:/48223/pf0000379949_spa)\n",
    "\n",
    "* [chatGPT](https://openai.com/blog/chatgpt)  \n",
    "\n",
    "* [Géron, A. (2017). Hands-on machine learning with scikit-learn and tensorflow: Concepts. Tools, and Techniques to build intelligent systems.](chrome-extension://efaidnbmnnnibpcajpcglclefindmkaj/http://14.139.161.31/OddSem-0822-1122/Hands-On_Machine_Learning_with_Scikit-Learn-Keras-and-TensorFlow-2nd-Edition-Aurelien-Geron.pdf)   \n"
   ]
  },
  {
   "cell_type": "markdown",
   "id": "6b9e56a8",
   "metadata": {
    "slideshow": {
     "slide_type": "slide"
    }
   },
   "source": [
    "### [Evaluamos al profesor Marco Cañas Aquí](https://forms.office.com/Pages/ResponsePage.aspx?id=IefhmYRxjkmK_7KtTlPBwkanXIs1i1FEujpsZgO6dXpUREJPV1kxUk1JV1ozTFJIQVNIQjY5WEY3US4u)"
   ]
  },
  {
   "cell_type": "markdown",
   "id": "071afa04",
   "metadata": {
    "slideshow": {
     "slide_type": "slide"
    }
   },
   "source": [
    "## [Evaluación luego de alcanzar estos objetivos de aprendizaje]()"
   ]
  },
  {
   "cell_type": "markdown",
   "id": "10f43536",
   "metadata": {
    "slideshow": {
     "slide_type": "slide"
    }
   },
   "source": [
    "### Continue su aprendizaje en la siguiente clase a través del siguiente [vínculo]()"
   ]
  },
  {
   "cell_type": "markdown",
   "id": "af751e30",
   "metadata": {
    "slideshow": {
     "slide_type": "slide"
    }
   },
   "source": [
    "# Conjeturas pedagógicas fruto de la aplicación del modelo de aprendizaje invertido y del enfoque hacia la ciencia de datos con python\n",
    "\n",
    "1. Todo cálculo o resultado debe ser interpretado en una línea markdown del cuaderno Jupyter, inmediatamente después de la enunciación del resultado y después de la presentación de una tabla o gráfico bidimensional, de tal menera que el estudiante explicite la comprensión verbal del resultado y las inferencias o estrategias que este resultado le sugieren.   "
   ]
  }
 ],
 "metadata": {
  "celltoolbar": "Slideshow",
  "kernelspec": {
   "display_name": "Python 3 (ipykernel)",
   "language": "python",
   "name": "python3"
  },
  "language_info": {
   "codemirror_mode": {
    "name": "ipython",
    "version": 3
   },
   "file_extension": ".py",
   "mimetype": "text/x-python",
   "name": "python",
   "nbconvert_exporter": "python",
   "pygments_lexer": "ipython3",
   "version": "3.10.12"
  },
  "rise": {
   "enable_chalkboard": true,
   "theme": "sky",
   "transition": "zoom"
  }
 },
 "nbformat": 4,
 "nbformat_minor": 5
}
