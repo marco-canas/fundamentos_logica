{
 "cells": [
  {
   "cell_type": "markdown",
   "id": "dc06dec7",
   "metadata": {
    "slideshow": {
     "slide_type": "slide"
    }
   },
   "source": [
    "<table align=\"left\">\n",
    "  <td>\n",
    "    <a href=\"https://colab.research.google.com/github/marco-canas/fundamentos_logica/blob/main/referentes/1_grajales_lina/1_logica_matematica_y_teoria_de_conjuntos/1_logica_matematica/10_cuantificadores/1_cuantificadores.ipynb\" target=\"_parent\"><img src=\"https://colab.research.google.com/assets/colab-badge.svg\" alt=\"Open In Colab\"/></a>\n",
    "  </td>\n",
    "  <td>\n",
    "    <a target=\"_blank\" href=\"https://kaggle.com/kernels/welcome?src=https://github.com/marco-canas/fundamentos_logica/blob/main/referentes/1_grajales_lina/1_logica_matematica_y_teoria_de_conjuntos/1_logica_matematica/10_cuantificadores/1_cuantificadores.ipynb\"><img src=\"https://kaggle.com/static/images/open-in-kaggle.svg\" /></a>\n",
    "  </td>\n",
    "</table>"
   ]
  },
  {
   "cell_type": "markdown",
   "id": "e0c5b198",
   "metadata": {
    "slideshow": {
     "slide_type": "slide"
    }
   },
   "source": [
    "### [Video de apoyo a la lectura interactiva y experimental de este cuaderno]()"
   ]
  },
  {
   "cell_type": "markdown",
   "id": "41e82203",
   "metadata": {
    "slideshow": {
     "slide_type": "slide"
    }
   },
   "source": [
    "## [Vínculo al programa del curso:  ]()\n",
    "\n"
   ]
  },
  {
   "cell_type": "markdown",
   "id": "d11ab06d",
   "metadata": {
    "slideshow": {
     "slide_type": "slide"
    }
   },
   "source": [
    "Un reconocimiento a mis estudiantes que han construido conmigo este saber pedagógico:\n",
    "\n",
    "<img src = ''> \n",
    "\n"
   ]
  },
  {
   "cell_type": "markdown",
   "id": "ae9860dc",
   "metadata": {},
   "source": [
    "# Cómo mejorar cada día la propuesta didáctica y pedagógica para enseñanza de la matemática\n"
   ]
  },
  {
   "cell_type": "markdown",
   "id": "1014ce5d",
   "metadata": {},
   "source": [
    "\n",
    "Para estructurar una propuesta pedagógica y didáctica centrada en: \n",
    "*  mostrar la matemática como un conjunto de **lenguajes** que ayudan a la comunicación científica y cotidiana, y \n",
    "* la promoción del inglés, el lenguaje Markdown, el lenguaje Latex, el lenguaje Python en los cuadernos Jupyter, y \n",
    "* adoptar un enfoque pedagógico de aula invertida y una metodología de clase basada en problemas (ABP),  \n",
    "  \n",
    "puedes seguir los siguientes pasos:\n"
   ]
  },
  {
   "cell_type": "markdown",
   "id": "19b90db0",
   "metadata": {},
   "source": [
    "\n",
    "1. **Diagnóstico de necesidades:**\n",
    "   - Realiza un análisis detallado de las necesidades y habilidades de los estudiantes en matemáticas, inglés y tecnología.\n",
    "   - Identifica las áreas de dificultad y las áreas en las que los estudiantes muestran interés.\n"
   ]
  },
  {
   "cell_type": "markdown",
   "id": "4a85e2ae",
   "metadata": {},
   "source": [
    "\n",
    "2. **Definición de objetivos:**\n",
    "   - Establece objetivos claros y alcanzables que integren el aprendizaje de matemáticas, inglés y tecnología.\n",
    "   - Los objetivos deben centrarse en mejorar la comprensión de conceptos matemáticos, desarrollar habilidades en inglés y fomentar la competencia en el uso de herramientas tecnológicas.\n"
   ]
  },
  {
   "cell_type": "markdown",
   "id": "c1174613",
   "metadata": {},
   "source": [
    "\n",
    "3. **Diseño de actividades y recursos:**\n",
    "   - Diseña actividades interactivas y colaborativas que permitan a los estudiantes explorar conceptos matemáticos a través del uso de cuadernos Jupyter, Python y Markdown.\n",
    "   - Incorpora lecturas y ejercicios en inglés relacionados con conceptos matemáticos para fortalecer el vocabulario y la comprensión del idioma.\n",
    "   - Utiliza recursos multimedia, como videos y tutoriales en línea, para apoyar el aprendizaje autónomo de los estudiantes.\n"
   ]
  },
  {
   "cell_type": "markdown",
   "id": "94eb1010",
   "metadata": {},
   "source": [
    "\n",
    "4. **Implementación del enfoque pedagógico de aula invertida:**\n",
    "   - Proporciona a los estudiantes acceso a materiales de aprendizaje antes de la clase, como cuadernos Jupyter con ejercicios y lecturas en inglés.\n",
    "   - Utiliza el tiempo en clase para actividades prácticas y colaborativas, donde los estudiantes puedan aplicar los conceptos aprendidos, resolver problemas y discutir en grupos.\n"
   ]
  },
  {
   "cell_type": "markdown",
   "id": "75dda2d1",
   "metadata": {},
   "source": [
    "\n",
    "5. **Metodología de clase basada en problemas (ABP):**\n",
    "   - Plantea problemas y desafíos relacionados con situaciones reales que requieran el uso de conceptos matemáticos, el inglés y la tecnología para su solución.\n",
    "   - Fomenta la participación activa de los estudiantes en la resolución de problemas, la discusión de estrategias y la presentación de soluciones.\n"
   ]
  },
  {
   "cell_type": "markdown",
   "id": "f5262339",
   "metadata": {},
   "source": [
    "\n",
    "6. **Evaluación y retroalimentación:**\n",
    "   - Implementa un sistema de evaluación formativa que permita monitorear el progreso de los estudiantes de manera continua.\n",
    "   - Proporciona retroalimentación individualizada y oportunidades para la reflexión sobre el aprendizaje y el desarrollo de habilidades.\n"
   ]
  },
  {
   "cell_type": "markdown",
   "id": "7bb4e865",
   "metadata": {},
   "source": [
    "\n",
    "7. **Mejora continua:**\n",
    "   - Recopila retroalimentación de los estudiantes y realiza ajustes en el plan de enseñanza según sea necesario.\n",
    "   - Mantente al tanto de las nuevas tendencias y herramientas en matemáticas, tecnología y enseñanza de idiomas para seguir mejorando la propuesta pedagógica y didáctica.\n"
   ]
  },
  {
   "cell_type": "markdown",
   "id": "4dbe7644",
   "metadata": {},
   "source": [
    "\n",
    "Al seguir estos pasos, podrás estructurar una propuesta pedagógica y didáctica efectiva que integre la enseñanza de matemáticas, inglés y tecnología, y promueva el aprendizaje significativo y el desarrollo de habilidades clave en los estudiantes de la licenciatura en matemáticas."
   ]
  },
  {
   "cell_type": "code",
   "execution_count": 1,
   "id": "7604880f",
   "metadata": {
    "slideshow": {
     "slide_type": "slide"
    }
   },
   "outputs": [
    {
     "name": "stdout",
     "output_type": "stream",
     "text": [
      "Llamando a ROSILLO TEJADA VANESA...\n",
      "Cambios guardados en el archivo CSV.\n",
      "Llamando a QUINONEZ CERVANTES MARIANA...\n"
     ]
    }
   ],
   "source": [
    "import pandas as pd\n",
    "import numpy as np\n",
    "\n",
    "# Cargar la lista de estudiantes desde la URL\n",
    "path = 'Users/marco/Documentos/docencia/groups_list/fundamentos_logica.csv'\n",
    "estudiantes = pd.read_csv(path)\n",
    "estudiantes['Parcial'] = estudiantes['Parcial'].astype(float) # hacer que todos los valores de la columna Parcial seen de tipo float\n",
    "\n",
    "# Convertir la columna 'Nombre' a una lista de Python\n",
    "lista_estudiantes = estudiantes['Nombre'].tolist()\n",
    "\n",
    "# Función para llamar a un estudiante aleatoriamente y registrar su nota de seguimiento\n",
    "def asistencia():\n",
    "    if lista_estudiantes:\n",
    "        estudiante_aleatorio = np.random.choice(lista_estudiantes)\n",
    "        print(f\"Llamando a {estudiante_aleatorio}...\")\n",
    "        asistencia = input(f\"¿Asistió {estudiante_aleatorio}? (s/n): \").strip().lower()\n",
    "        \n",
    "        if asistencia == 's':\n",
    "            # Obtener el índice del estudiante en el DataFrame\n",
    "            indice = estudiantes[estudiantes['Nombre'] == estudiante_aleatorio].index[0]\n",
    "            # Incrementar su valor en la columna 'Parcial'\n",
    "            estudiantes.at[indice, 'Parcial'] += 0.01\n",
    "            print(f\"Actualizado: {estudiante_aleatorio} ahora tiene {estudiantes.at[indice, 'Parcial']} en la columna 'Parcial'.\")\n",
    "        \n",
    "        lista_estudiantes.remove(estudiante_aleatorio)\n",
    "    else:\n",
    "        print(\"Se han llamado a todos los estudiantes del grupo completo.\")\n",
    "\n",
    "# Guardar los cambios en el archivo CSV\n",
    "def guardar_cambios():\n",
    "    estudiantes.to_csv(path, index=False)\n",
    "    print(\"Cambios guardados en el archivo CSV.\")\n",
    "\n",
    "# Ejemplo de uso\n",
    "while lista_estudiantes:\n",
    "    asistencia()\n",
    "    guardar_cambios()\n",
    "\n",
    "\n"
   ]
  },
  {
   "cell_type": "code",
   "execution_count": 8,
   "id": "d60b2bf1",
   "metadata": {},
   "outputs": [
    {
     "name": "stdout",
     "output_type": "stream",
     "text": [
      "Llamando a AYALA MENDOZA MARISOL YACIRA...\n"
     ]
    }
   ],
   "source": [
    "\n",
    "# Llamar a la función para realizar el proceso\n",
    "asistencia()\n"
   ]
  },
  {
   "cell_type": "code",
   "execution_count": 6,
   "id": "f68efca5",
   "metadata": {},
   "outputs": [
    {
     "data": {
      "text/plain": [
       "0.0"
      ]
     },
     "execution_count": 6,
     "metadata": {},
     "output_type": "execute_result"
    }
   ],
   "source": [
    "import math\n",
    "type(math.factorial(101)+213/213)\n",
    "parte_decimal = math.factorial(101)+213/213- math.trunc(math.factorial(101)+213/213)\n",
    "\n",
    "parte_decimal "
   ]
  },
  {
   "cell_type": "code",
   "execution_count": 7,
   "id": "67c0960a",
   "metadata": {},
   "outputs": [
    {
     "name": "stdout",
     "output_type": "stream",
     "text": [
      "Para n=1, (f! + n)/n = 121.0 no es primo.\n",
      "Para n=5, (f! + n)/n = 25.0 no es primo.\n",
      "Para n=6, (f! + n)/n = 21.0 no es primo.\n",
      "Para n=8, (f! + n)/n = 16.0 no es primo.\n",
      "Para n=15, (f! + n)/n = 9.0 no es primo.\n"
     ]
    }
   ],
   "source": [
    "import math\n",
    "\n",
    "def es_primo(num):\n",
    "    \"\"\"Función para verificar si un número es primo.\"\"\"\n",
    "    if num < 2:\n",
    "        return False\n",
    "    for i in range(2, int(math.sqrt(num)) + 1):\n",
    "        if num % i == 0:\n",
    "            return False\n",
    "    return True\n",
    "\n",
    "def verificar_primos(f, limite_n):\n",
    "    \"\"\"Función para iterar sobre n y verificar la condición dada.\"\"\"\n",
    "    f_fact = math.factorial(f)\n",
    "    for n in range(1, limite_n + 1):\n",
    "        resultado = (f_fact + n) / n\n",
    "        if not es_primo(resultado):\n",
    "            print(f\"Para n={n}, (f! + n)/n = {resultado} no es primo.\")\n",
    "\n",
    "# Ejemplo de uso\n",
    "f = 5  # Puedes cambiar este valor por cualquier natural\n",
    "limite_n = 20  # Cambia este límite según lo que necesites\n",
    "verificar_primos(f, limite_n)"
   ]
  },
  {
   "cell_type": "code",
   "execution_count": 11,
   "id": "50100ee1",
   "metadata": {},
   "outputs": [
    {
     "data": {
      "text/plain": [
       "True"
      ]
     },
     "execution_count": 11,
     "metadata": {},
     "output_type": "execute_result"
    }
   ],
   "source": [
    "es_primo(97)"
   ]
  },
  {
   "cell_type": "markdown",
   "id": "4f9d8cf9",
   "metadata": {
    "slideshow": {
     "slide_type": "slide"
    }
   },
   "source": [
    "# Modelo general de clase: [aula invertida](https://www3.gobiernodecanarias.org/medusa/ecoescuela/pedagotic/aprendizaje-invertido-flipped-classroom/)"
   ]
  },
  {
   "cell_type": "markdown",
   "id": "eb6ed03a",
   "metadata": {},
   "source": [
    "![Definamos flipped learning de manera gráfica](https://resources.maneuveringthemiddle.com/wp-content/uploads/2020/07/04212706/1-5.png)"
   ]
  },
  {
   "cell_type": "markdown",
   "id": "8d97dc80",
   "metadata": {
    "slideshow": {
     "slide_type": "slide"
    }
   },
   "source": [
    "## Fomento de la lectura literaria asociada a Ingeniería agropecuaria y licenciatura en Matemáticas\n",
    "\n"
   ]
  },
  {
   "cell_type": "markdown",
   "id": "96775931",
   "metadata": {
    "slideshow": {
     "slide_type": "slide"
    }
   },
   "source": [
    "## Título de la clase:   Lógica de predicados: Cuantificadores\n",
    "\n",
    "[]()"
   ]
  },
  {
   "cell_type": "markdown",
   "id": "1d38dd4e",
   "metadata": {
    "slideshow": {
     "slide_type": "slide"
    }
   },
   "source": [
    "### Objetivo de aprendizaje (Enunciar, de manera corta sencilla y clara para todos los asistentes)\n"
   ]
  },
  {
   "cell_type": "markdown",
   "id": "8020de40",
   "metadata": {},
   "source": [
    "1. Que el profesor en Formación aprenda a interpretar proposiciones cuantificadas\n",
    "2. Aprenda a construir  proposiciones cuantificadas\n",
    "3. Aprenda a determinar el valor de verdad de proposiciones cuantificadas utilizando estrategias como determinar el valor de verdad de la negación de la proposición cuentificada.\n"
   ]
  },
  {
   "cell_type": "markdown",
   "id": "1365025c",
   "metadata": {},
   "source": [
    "1. Conocimiento Teórico de Matemáticas\n",
    "\n",
    "Indicadores:\n",
    "\n",
    "* Comprensión de conceptos fundamentales de la lógica de predicados.\n",
    "* Capacidad para ejemplificar una proposición cuantificada.\n",
    "* Habilidad para determinar el valor de vardad de proposiciones cuantificadas.\n",
    "* Capacidad de leer, escribir e interpretar utilizando la notación y terminología matemática propia de esta clase.\n",
    "* Capacidad para aplicar resultados científicos en problemas.\n"
   ]
  },
  {
   "cell_type": "markdown",
   "id": "97ab69df",
   "metadata": {},
   "source": [
    "\n",
    "2. Habilidad en Programación con Python\n",
    "\n",
    "Indicadores:\n",
    "\n",
    "* Capacidad para escribir y ejecutar scripts básicos en Python.\n",
    "* Comprensión y uso de estructuras de control (condicionales, bucles).\n",
    "* Uso de funciones y módulos en Python.\n",
    "* Manejo de estructuras de datos (listas, diccionarios, tuplas).\n",
    "* Habilidad para depurar y solucionar errores en el código.\n",
    "* Uso de bibliotecas matemáticas como Math, NumPy y SymPy.\n"
   ]
  },
  {
   "cell_type": "markdown",
   "id": "0dd775aa",
   "metadata": {},
   "source": [
    "\n",
    "3. Pensamiento Computacional\n",
    "\n",
    "Indicadores:\n",
    "\n",
    "* Capacidad para descomponer problemas complejos en subproblemas manejables.\n",
    "* Habilidad para diseñar algoritmos eficientes para resolver problemas específicos.\n",
    "* Comprensión de la lógica detrás de las estructuras de control y su aplicación en la programación.\n",
    "* Capacidad para abstraer conceptos matemáticos en soluciones programables.\n",
    "* Habilidad para identificar y aplicar patrones en la resolución de problemas.\n"
   ]
  },
  {
   "cell_type": "markdown",
   "id": "1a57907e",
   "metadata": {},
   "source": [
    "\n",
    "4. Aplicación de Matemáticas en Problemas Reales\n",
    "\n",
    "Indicadores:\n",
    "\n",
    "* Capacidad para modelar situaciones reales utilizando funciones matemáticas.\n",
    "* Habilidad para implementar soluciones matemáticas en código Python para resolver problemas prácticos.\n",
    "* Comprensión de cómo interpretar los resultados obtenidos mediante simulaciones o cálculos computacionales.\n",
    "* Uso de Python para la visualización de datos y resultados matemáticos.\n",
    "* Capacidad para integrar conocimientos matemáticos y de programación en proyectos interdisciplinarios."
   ]
  },
  {
   "cell_type": "markdown",
   "id": "540f0ec1",
   "metadata": {
    "slideshow": {
     "slide_type": "slide"
    }
   },
   "source": [
    "## Cuestionario para realizar labores de memorización, observación y síntesis de la información (Además de diagnóstico)  \n",
    "[Realizar encuesta para participacion de todos los estudiantes para diagnosticar presaberes para la clase: mentimeter](https://www.mentimeter.com/es-ES/education/lectures)\n",
    "\n",
    "1. ¿?\n",
    "2. ¿?\n",
    "3. ¿?\n",
    "4. ¿?\n",
    "5. ¿?"
   ]
  },
  {
   "cell_type": "markdown",
   "id": "8e457ea2",
   "metadata": {},
   "source": [
    "# Definiciones y Resultados científicos a comprender y memorizar \n",
    "\n",
    "[Primera grabación en Vocaroo]()"
   ]
  },
  {
   "cell_type": "markdown",
   "id": "ca7261b1",
   "metadata": {
    "slideshow": {
     "slide_type": "slide"
    }
   },
   "source": [
    "## Establecimiento de prerrequisitos conceptuales para alcanzar el objetivo de aprendizaje trazado.   \n",
    "\n",
    "(Elabore una lista de preguntas al rededor de los conceptos que consideres necesarios para empezar la clase).  \n",
    "\n",
    "1. El teorema de monotonía de la integral definida: \n",
    "\n",
    "$$ f(x) > 0 \\Rightarrow \\int_{a}^{b}  f(x) dx > 0 $$\n",
    "\n",
    "\n",
    "2. \n",
    "3. \n",
    "4. "
   ]
  },
  {
   "cell_type": "markdown",
   "id": "2298e976",
   "metadata": {
    "slideshow": {
     "slide_type": "slide"
    }
   },
   "source": [
    "# Para el diseño de la clase tenga en cuenta algunos problemas de aprendizaje"
   ]
  },
  {
   "cell_type": "markdown",
   "id": "523d3acf",
   "metadata": {
    "slideshow": {
     "slide_type": "slide"
    }
   },
   "source": []
  },
  {
   "cell_type": "markdown",
   "id": "a40a4704",
   "metadata": {
    "slideshow": {
     "slide_type": "slide"
    }
   },
   "source": [
    "## Secuencia conceptual introductoria a la clase"
   ]
  },
  {
   "cell_type": "markdown",
   "id": "8853d874",
   "metadata": {},
   "source": [
    "## El componente histórico y epistemológico"
   ]
  },
  {
   "cell_type": "markdown",
   "id": "e3ffa494",
   "metadata": {},
   "source": [
    "# Vocabulary   \n",
    "\n",
    "1. over size:  larger than normal size-   bigger than usual\n",
    "\n",
    "\n",
    "2. for all:   for every one-   for each one\n",
    "\n",
    "3. any:   any one of a number of things-   any one of several things\n",
    "\n",
    "4.  \n",
    "5.  \n",
    "6.  "
   ]
  },
  {
   "cell_type": "code",
   "execution_count": 22,
   "id": "bc0addfe",
   "metadata": {},
   "outputs": [
    {
     "data": {
      "text/plain": [
       "'\\\\Users\\\\marco\\\\Documentos\\\\docencia\\\\fundamentos_logica\\\\Lógica de predicados.pdf'"
      ]
     },
     "execution_count": 22,
     "metadata": {},
     "output_type": "execute_result"
    }
   ],
   "source": [
    "# mapa conceptual para cada clase\n",
    "from graphviz import Digraph\n",
    "\n",
    "# Crear un nuevo grafo dirigido\n",
    "dot = Digraph()\n",
    "\n",
    "# Añadir nodos y relaciones al grafo\n",
    "main_concept = 'Lógica de predicados'\n",
    "dot.node('A', main_concept)\n",
    "\n",
    "# Nodos secundarios relacionados con cuantificadores\n",
    "dot.node('B', 'Cuantificadores')\n",
    "dot.node('C', 'Cuantificador Universal ∀')\n",
    "dot.node('D', 'Cuantificador Existencial ∃')\n",
    "\n",
    "# Nodos de objetivos de clase\n",
    "dot.node('E', 'Interpretar proposiciones cuantificadas')\n",
    "dot.node('F', 'Construir proposiciones cuantificadas')\n",
    "dot.node('G', 'Determinar valor de verdad')\n",
    "\n",
    "# Nodos para herramientas usadas\n",
    "dot.node('H', 'Jupyter Notebooks')\n",
    "dot.node('I', 'Markdown, LaTeX, Python')\n",
    "\n",
    "# Definir las relaciones entre los nodos\n",
    "dot.edges(['AB', 'BC', 'BD'])\n",
    "dot.edge('B', 'E', label='Objetivo 1')\n",
    "dot.edge('B', 'F', label='Objetivo 2')\n",
    "dot.edge('B', 'G', label='Objetivo 3')\n",
    "dot.edge('A', 'H', label='Herramienta')\n",
    "dot.edge('A', 'I', label='Lenguajes y Tecnologías')\n",
    "\n",
    "# Guardar el grafo como un archivo de imagen\n",
    "dot.render(filename=main_concept, format='png', cleanup=True, \\\n",
    "           directory='/Users/marco/Documentos/docencia/fundamentos_logica/')\n",
    "\n",
    "# Visualizar el grafo\n",
    "dot.view()\n"
   ]
  },
  {
   "cell_type": "markdown",
   "id": "10e55ccf",
   "metadata": {},
   "source": [
    "# Lógica de predicados: Cuantificadores"
   ]
  },
  {
   "cell_type": "markdown",
   "id": "239427f7",
   "metadata": {},
   "source": [
    "Hemos visto que $x + 3 = 7$ no es una proposición sino que es una función proposicional $P(x)$.   \n",
    "\n",
    "$$ P(x): x+3 = 7 $$"
   ]
  },
  {
   "cell_type": "markdown",
   "id": "ea018d2d",
   "metadata": {},
   "source": [
    "Toda función proposicional $P(x)$ se puede convertir es proposición de dos modos:  \n",
    "\n",
    "− Sustituyendo la variable $x$ por una constante de un conjunto referencial ($\\mathbb{N}, \\mathbb{Z}$, etc) o  \n",
    "− Cuantificando esa expresión.  \n",
    "\n",
    "Cuando en el lenguaje ordinario utilizamos las expresiones ningún, todos, algunos, cada, existe al menos, estamos hablando de proposiciones cuantificadas. "
   ]
  },
  {
   "cell_type": "markdown",
   "id": "44df3d5c",
   "metadata": {},
   "source": [
    "Hay dos tipos de cuantificadores:  \n",
    "\n",
    "− Existencial se denota por $\\exists x$ se lee “algún $x$”, “por lo menos un $x$”, “hay un $x$”, “existe al\n",
    "menos un $x$”.  \n",
    "\n",
    "− Universal se denota por $\\forall x$ se lee “todo $x$”, “cualquier $x$”, “para $x$”, “cada $x$”"
   ]
  },
  {
   "cell_type": "markdown",
   "id": "c036b137",
   "metadata": {},
   "source": [
    "Aquí tienes una tabla que relaciona los tipos de cuantificadores con su representación simbólica en lenguaje LaTeX, delimitadas entre signos de dólar:\n",
    "\n",
    "| **Tipo de Cuantificador** | **Descripción**              | **Representación Simbólica (LaTeX)**      |\n",
    "|---------------------------|------------------------------|-------------------------------------------|\n",
    "| Cuantificador universal    | \"Para todo\"                  | $ \\forall x \\in A, P(x) $                 |\n",
    "| Cuantificador existencial  | \"Existe al menos uno\"        | $ \\exists x \\in A, P(x) $                 |\n",
    "| Cuantificador existencial único | \"Existe uno y solo uno\"  | $ \\exists ! x \\in A, P(x) $               |\n",
    "| Cuantificador universal-negado | \"No para todo\"          | $ \\neg \\forall x \\in A, P(x) $            |\n",
    "| Cuantificador existencial-negado | \"No existe ninguno\"    | $ \\neg \\exists x \\in A, P(x) $            |\n",
    "\n",
    "Cada fila de la tabla relaciona un tipo de cuantificador con su respectiva descripción y representación simbólica en LaTeX."
   ]
  },
  {
   "cell_type": "markdown",
   "id": "0b766d90",
   "metadata": {},
   "source": [
    "### Ejemplo 1.13\n",
    "Sea $D = \\{ 1, 2, 3,\\ldots, 10 \\}$ y sea $P(x): x < 7$ una función proposicional.    \n",
    "\n",
    "$P(2): 2 < 7$ es una proposición verdadera.\n",
    "$P(9): 9 > 7$ es una proposición falsa.\n",
    "Todos los elementos de $D$ son menores que 7 es una proposición falsa.\n",
    "Algunos de los elementos de $D$ son menores que 7 es una proposición verdadera.\n",
    "El conjunto solución es $\\{1,2,3,4,5,6\\}$."
   ]
  },
  {
   "cell_type": "markdown",
   "id": "da9c5432",
   "metadata": {},
   "source": [
    "Aquí tienes el lenguaje LaTeX para la negación de proposiciones y de proposiciones cuantificadas usando la ley de De Morgan, junto con ejemplos aplicados a diferentes áreas de matemáticas y scripts en Python para el aprendizaje experiencial.\n"
   ]
  },
  {
   "cell_type": "markdown",
   "id": "67c60a91",
   "metadata": {},
   "source": [
    "\n",
    "### Negación de proposiciones usando la ley de De Morgan\n",
    "\n",
    "La ley de De Morgan establece que:\n",
    "\n",
    "$$ \\neg (P \\land Q) \\equiv (\\neg P) \\lor (\\neg Q) $$  \n",
    "$$ \\neg (P \\lor Q) \\equiv (\\neg P) \\land (\\neg Q) $$\n"
   ]
  },
  {
   "cell_type": "markdown",
   "id": "26d6aa00",
   "metadata": {},
   "source": [
    "\n",
    "### Negación de proposiciones cuantificadas usando la ley de De Morgan\n",
    "\n",
    "Para proposiciones cuantificadas, la negación de un cuantificador se aplica de la siguiente manera:\n",
    "\n",
    "- Negación de un cuantificador universal:\n",
    "  \n",
    "  $$ \\neg (\\forall x \\in A, P(x)) \\equiv \\exists x \\in A, \\neg P(x) $$\n",
    "\n",
    "- Negación de un cuantificador existencial:\n",
    "  \n",
    "  $$ \\neg (\\exists x \\in A, P(x)) \\equiv \\forall x \\in A, \\neg P(x) $$\n"
   ]
  },
  {
   "cell_type": "markdown",
   "id": "f24bd3af",
   "metadata": {},
   "source": [
    "\n",
    "### Ejemplos de aplicación\n",
    "\n",
    "#### 1. **En el conjunto de los números naturales $\\mathbb{N}$**\n",
    "\n",
    "- **Proposición:** \"Todos los números naturales son mayores que 0.\"\n",
    "  \n",
    "  $$ \\forall n \\in \\mathbb{N}, n > 0 $$\n",
    "\n",
    "- **Negación usando la ley de De Morgan:**\n",
    "\n",
    "  $$ \\neg (\\forall n \\in \\mathbb{N}, n > 0) \\equiv \\exists n \\in \\mathbb{N}, n \\leq 0 $$\n",
    "\n",
    "  Esto significa que \"Existe un número natural que no es mayor que 0.\"\n"
   ]
  },
  {
   "cell_type": "markdown",
   "id": "117e3a93",
   "metadata": {},
   "source": [
    "\n",
    "#### 2. **En el conjunto de los números enteros $\\mathbb{Z}$**\n",
    "\n",
    "- **Proposición:** \"Existe un número entero que es mayor que 100.\"\n",
    "  \n",
    "  $$ \\exists z \\in \\mathbb{Z}, z > 100 $$\n",
    "\n",
    "- **Negación usando la ley de De Morgan:**\n",
    "\n",
    "  $$ \\neg (\\exists z \\in \\mathbb{Z}, z > 100) \\equiv \\forall z \\in \\mathbb{Z}, z \\leq 100 $$\n",
    "\n",
    "  Esto significa que \"Todos los números enteros son menores o iguales que 100.\"\n"
   ]
  },
  {
   "cell_type": "markdown",
   "id": "d53ee79a",
   "metadata": {},
   "source": [
    "\n",
    "#### 3. **En el cálculo diferencial**\n",
    "\n",
    "- **Proposición:** \"La derivada de una función es siempre positiva en el intervalo $(a, b)$.\"\n",
    "  \n",
    "  $$ \\forall x \\in (a, b), f'(x) > 0 $$\n",
    "\n",
    "- **Negación usando la ley de De Morgan:**\n",
    "\n",
    "  $$ \\neg (\\forall x \\in (a, b), f'(x) > 0) \\equiv \\exists x \\in (a, b), f'(x) \\leq 0 $$\n",
    "\n",
    "  Esto significa que \"Existe un punto en el intervalo $(a, b)$ donde la derivada es menor o igual que 0.\"\n"
   ]
  },
  {
   "cell_type": "markdown",
   "id": "0dd326dd",
   "metadata": {},
   "source": [
    "\n",
    "#### 4. **En el cálculo integral**\n",
    "\n",
    "- **Proposición:** \"Existe un valor de $x$ donde la integral de $f(t)$ en $[a, x]$ es mayor que 0.\"\n",
    "  \n",
    "  $$ \\exists x \\in [a, b], \\int_a^{x} f(t) dt > 0 $$  \n",
    "  \n",
    "La siguientte animación le da sentido y veracidad a esta proposición cuantificada.   \n",
    "\n",
    "- **Negación usando la ley de De Morgan:**\n",
    "\n",
    "  $$ \\neg (\\exists x \\in [a, b], \\int_a^x f(t) dt > 0) \\equiv \\forall x \\in [a, b], \\int_a^x f(t) dt \\leq 0 $$\n",
    "\n",
    "  Esto significa que \"Para todo $x$ en el intervalo $[a, b]$, la integral es menor o igual que 0.\"\n"
   ]
  },
  {
   "cell_type": "code",
   "execution_count": 25,
   "id": "21a0116a",
   "metadata": {},
   "outputs": [
    {
     "data": {
      "application/vnd.jupyter.widget-view+json": {
       "model_id": "f19c3d539e324c8d9a270f7dcb2a133a",
       "version_major": 2,
       "version_minor": 0
      },
      "text/plain": [
       "interactive(children=(FloatSlider(value=0.0, description='x', max=3.0), Output()), _dom_classes=('widget-inter…"
      ]
     },
     "metadata": {},
     "output_type": "display_data"
    },
    {
     "data": {
      "text/plain": [
       "<function __main__.trazar_region_sombreada(x=0)>"
      ]
     },
     "execution_count": 25,
     "metadata": {},
     "output_type": "execute_result"
    }
   ],
   "source": [
    "# Veamos una animación para ver la existencia de un x tal que la integral hasta este punto sea positiva.  \n",
    "# Esta anuimación es para mostrar que si puede existir al menos un x in [0,3] tal que int_0^x f(t) dt > 0   \n",
    "\n",
    "import numpy as np \n",
    "import matplotlib.pyplot as plt\n",
    "from ipywidgets import interact  \n",
    "\n",
    "def trazar_region_sombreada(x = 0):\n",
    "    plt.figure(figsize = (6,4)) \n",
    "    plt.title(r'Integral hasta $x$ de $f(t) = t-1$')\n",
    "    plt.xlabel('t')\n",
    "    plt.ylabel('f(t)')\n",
    "    plt.axis('equal') \n",
    "    plt.grid(alpha = 0.3)  \n",
    "    paso =  0.1\n",
    "    t = np.arange(0,3+paso, paso)\n",
    "    t_region = np.arange(0,x+paso, paso)\n",
    "    f = lambda t: t-1\n",
    "    F = lambda t: t**2/2 - t\n",
    "    plt.plot(t,f(t))\n",
    "    plt.fill_between(t_region, f(t_region), color = 'red', label = f'Integral en [0,x] = {F(x):.1f}') \n",
    "    plt.axhline(y = 0, color = 'green')\n",
    "    plt.axvline(x = 0, ymin = -1, ymax = 2, color = 'green')\n",
    "    plt.legend()\n",
    "    plt.show()\n",
    "    \n",
    "    \n",
    "interact(trazar_region_sombreada, x = (0,3, 0.1))     "
   ]
  },
  {
   "cell_type": "markdown",
   "id": "e418abbe",
   "metadata": {},
   "source": [
    "\n",
    "### Scripts de Python para un aprendizaje experiencial sobre cuantificadores\n",
    "\n",
    "Para que los estudiantes puedan interactuar con los cuantificadores de manera experiencial, podemos usar Python. A continuación se incluyen scripts que permiten explorar el comportamiento de los cuantificadores.\n",
    "\n",
    "#### 1. **Cuantificador Universal en Python (Todos los elementos de una lista son mayores que un valor)**\n"
   ]
  },
  {
   "cell_type": "code",
   "execution_count": 3,
   "id": "b77ee2fc",
   "metadata": {},
   "outputs": [
    {
     "name": "stdout",
     "output_type": "stream",
     "text": [
      "Todos los números son mayores que 0: True\n"
     ]
    }
   ],
   "source": [
    "# Una función que revisa si una colección de números está por encima de un umbral dado\n",
    "def all_greater_than(lst, threshold):\n",
    "    return all(x > threshold for x in lst)\n",
    "\n",
    "# Ejemplo\n",
    "naturals = [1, 2, 3, 4, 5]\n",
    "threshold = 0\n",
    "print(f\"Todos los números son mayores que {threshold}: {all_greater_than(naturals, threshold)}\")\n",
    "\n"
   ]
  },
  {
   "cell_type": "markdown",
   "id": "f2309fa2",
   "metadata": {},
   "source": [
    "\n",
    "#### 2. **Cuantificador Existencial en Python (Existe al menos un elemento mayor que un valor)**\n"
   ]
  },
  {
   "cell_type": "code",
   "execution_count": 45,
   "id": "e19a5a55",
   "metadata": {},
   "outputs": [
    {
     "name": "stdout",
     "output_type": "stream",
     "text": [
      "Existe un número mayor que 100: False\n"
     ]
    }
   ],
   "source": [
    "\n",
    "def exists_greater_than(lst, threshold):\n",
    "    return any(x > threshold for x in lst)\n",
    "\n",
    "# Ejemplo\n",
    "integers = [-10, 0, 50, 100]\n",
    "threshold = 100\n",
    "print(f\"Existe un número mayor que {threshold}: {exists_greater_than(integers, threshold)}\")\n",
    "\n"
   ]
  },
  {
   "cell_type": "markdown",
   "id": "571bfd35",
   "metadata": {},
   "source": [
    "\n",
    "#### 3. **Aplicación de la ley de De Morgan en Python (Negación de un cuantificador universal)**\n"
   ]
  },
  {
   "cell_type": "code",
   "execution_count": 44,
   "id": "39e2e6e5",
   "metadata": {},
   "outputs": [
    {
     "name": "stdout",
     "output_type": "stream",
     "text": [
      "Negación del cuantificador universal (No todos mayores que 0): False\n"
     ]
    }
   ],
   "source": [
    "\n",
    "def negation_universal(lst, threshold):\n",
    "    return any(x <= threshold for x in lst)\n",
    "\n",
    "# Ejemplo: \"No todos los números son mayores que el umbral\"\n",
    "naturals = [1, 2, 3, 4, 5]\n",
    "threshold = 0\n",
    "print(f\"Negación del cuantificador universal (No todos mayores que {threshold}): {negation_universal(naturals, threshold)}\")\n",
    "\n"
   ]
  },
  {
   "cell_type": "markdown",
   "id": "9cef1a92",
   "metadata": {},
   "source": [
    "\n",
    "#### 4. **Aplicación de la ley de De Morgan en Python (Negación de un cuantificador existencial)**\n"
   ]
  },
  {
   "cell_type": "code",
   "execution_count": 4,
   "id": "103589be",
   "metadata": {},
   "outputs": [
    {
     "name": "stdout",
     "output_type": "stream",
     "text": [
      "Negación del cuantificador existencial (Ningún número mayor que 100): True\n"
     ]
    }
   ],
   "source": [
    "\n",
    "def negation_existential(lst, threshold):\n",
    "    return all(x <= threshold for x in lst)\n",
    "\n",
    "# Ejemplo: \"No existe ningún número mayor que el umbral\"\n",
    "integers = [-10, 0, 50, 100]\n",
    "threshold = 100\n",
    "print(f\"Negación del cuantificador existencial (Ningún número mayor que {threshold}): {negation_existential(integers, threshold)}\")\n",
    "\n"
   ]
  },
  {
   "cell_type": "markdown",
   "id": "5dd779df",
   "metadata": {},
   "source": [
    "\n",
    "Estos ejemplos en Python permiten a los estudiantes practicar cuantificadores y aplicar las leyes de De Morgan de manera interactiva, vinculando la teoría con ejemplos prácticos."
   ]
  },
  {
   "cell_type": "markdown",
   "id": "b300943a",
   "metadata": {},
   "source": [
    "## Ejemplo 1.14  \n",
    "\n",
    "Escriba las siguientes preposiciones en lenguaje lógico o corriente, según el caso. Después niéguelas en ambos lenguajes.  \n",
    "\n",
    "a. Todos los futbolistas son millonarios.  \n",
    "b. Algunos políticos son corruptos.  \n",
    "c. Todos los estudiantes ganaron la materia.  \n",
    "d. Todo número es par o primo.\n",
    "e. $(\\forall x \\in \\mathbb{R})(x < 5)$     \n",
    "f. $(\\exists x \\in \\mathbb{R})(x \\leq 5)$    \n",
    "g. $(\\exists x \\in \\mathbb{R})(x > 2 \\land x^{2} \\neq 3)$   \n",
    "h. $(\\forall x \\in \\mathbb{R})(x > 1 \\rightarrow x = 2)$  \n",
    "i. Si estudio, apruebo.  \n",
    "j. $3 + 4 < 2 ∧ 7$ es impar.    "
   ]
  },
  {
   "cell_type": "markdown",
   "id": "9027885f",
   "metadata": {},
   "source": [
    "### Diseño de Clase: Lógica de Predicados y Cuantificadores con Enfoque en Desarrollo del Pensamiento Algorítmico y Aprendizaje Experiencial usando Python, Pandas, Matplotlib, Plotly, y SymPy\n"
   ]
  },
  {
   "cell_type": "markdown",
   "id": "36e17919",
   "metadata": {},
   "source": [
    "\n",
    "#### **Objetivo General:**\n",
    "Introducir el concepto de **Lógica de Predicados**, centrándose en los **cuantificadores universales y existenciales**, y desarrollar el **pensamiento algorítmico** mediante la implementación de ejemplos y ejercicios interactivos en Python. Los estudiantes aplicarán las herramientas de **Pandas**, **Matplotlib**, **Plotly**, y **SymPy** para resolver problemas relacionados con la lógica de predicados.\n"
   ]
  },
  {
   "cell_type": "markdown",
   "id": "93dc134e",
   "metadata": {},
   "source": [
    "\n",
    "#### **Objetivos Específicos:**\n",
    "1. Comprender los cuantificadores universales y existenciales y su representación simbólica.\n",
    "2. Aplicar las leyes de De Morgan para la negación de proposiciones cuantificadas.\n",
    "3. Desarrollar algoritmos en Python que permitan explorar el comportamiento de los cuantificadores.\n",
    "4. Utilizar **Pandas** para manejar datos y formular predicados sobre conjuntos.\n",
    "5. Representar visualmente los resultados lógicos mediante **Matplotlib** y **Plotly**.\n",
    "6. Verificar proposiciones lógicas y cuantificadores con **SymPy**.\n",
    "\n",
    "---\n"
   ]
  },
  {
   "cell_type": "markdown",
   "id": "caa2e569",
   "metadata": {},
   "source": [
    "\n",
    "#### **Materiales:**\n",
    "- Computadora con **Python** instalado.\n",
    "- Bibliotecas: `Pandas`, `Matplotlib`, `Plotly`, `SymPy`.\n",
    "\n",
    "#### **Duración:**\n",
    "2 horas (1 hora teórica y 1 hora práctica).\n",
    "\n",
    "---\n"
   ]
  },
  {
   "cell_type": "markdown",
   "id": "f7fb4cad",
   "metadata": {},
   "source": [
    "\n",
    "### **1. Introducción al Concepto de Cuantificadores (30 minutos)**\n",
    "\n",
    "**Explicación Teórica:**\n",
    "- **Cuantificador Universal ( $\\forall$):** \"Para todo\" o \"Para cada\" elemento de un conjunto.\n",
    "  \n",
    "  Ejemplo en lenguaje natural: \"Para todo $x \\in \\mathbb{N}$, $x + 1 > x$\".\n",
    "  \n",
    "  LaTeX: $ \\forall x \\in \\mathbb{N}, x + 1 > x $.\n",
    "\n",
    "- **Cuantificador Existencial ($\\exists$ ):** \"Existe al menos uno\" o \"Al menos un elemento\".\n",
    "  \n",
    "  Ejemplo en lenguaje natural: \"Existe $x \\in \\mathbb{Z}$ tal que $ x^2 = 1$\".\n",
    "  \n",
    "  LaTeX: $\\exists x \\in \\mathbb{Z}, x^2 = 1$.\n",
    "\n",
    "- **Ley de De Morgan para cuantificadores**:\n",
    "  \n",
    "  $$\\neg (\\forall x, P(x)) \\equiv \\exists x, \\neg P(x)$$ \n",
    "  $$\\neg (\\exists x, P(x)) \\equiv \\forall x, \\neg P(x)$$\n",
    "\n",
    "---\n"
   ]
  },
  {
   "cell_type": "markdown",
   "id": "fc5b98f6",
   "metadata": {},
   "source": [
    "\n",
    "**Discusión**: Analizamos las expresiones lógicas simbólicas y cómo Python nos ayuda a verificar predicados.\n",
    "\n",
    "---\n",
    "\n",
    "#### **Actividad 2: Manipulación de Datos con Pandas y Cuantificadores (20 minutos)**\n",
    "\n",
    "**Objetivo:** Utilizar conjuntos de datos para aplicar cuantificadores sobre filas de una tabla. Este ejemplo se centrará en predicados sobre el conjunto de los números naturales y enteros.\n"
   ]
  },
  {
   "cell_type": "code",
   "execution_count": 38,
   "id": "5da27e04",
   "metadata": {},
   "outputs": [
    {
     "name": "stdout",
     "output_type": "stream",
     "text": [
      "Todos los números naturales son mayores que 0: True\n",
      "Existe un número entero mayor que 2: True\n"
     ]
    }
   ],
   "source": [
    "import pandas as pd\n",
    "\n",
    "# Crear un DataFrame con números naturales y enteros\n",
    "data = {'Numeros Naturales': [1, 2, 3, 4, 5],\n",
    "        'Numeros Enteros': [-5, 0, 1, 2, 3]}\n",
    "\n",
    "df = pd.DataFrame(data)\n",
    "\n",
    "# Predicado: \"Todos los números naturales son mayores que 0\"\n",
    "todos_mayores_cero = (df['Numeros Naturales'] > 0).all()\n",
    "\n",
    "# Predicado: \"Existe un número entero mayor que 2\"\n",
    "existe_mayor_dos = (df['Numeros Enteros'] > 2).any()\n",
    "\n",
    "print(f\"Todos los números naturales son mayores que 0: {todos_mayores_cero}\")\n",
    "print(f\"Existe un número entero mayor que 2: {existe_mayor_dos}\")\n",
    "\n"
   ]
  },
  {
   "cell_type": "markdown",
   "id": "a352f860",
   "metadata": {},
   "source": [
    "\n",
    "**Discusión:** Los estudiantes verificarán las condiciones lógicas sobre los datos en forma de tablas, aplicando cuantificadores.\n",
    "\n",
    "---\n",
    "\n",
    "#### **Actividad 3: Visualización de Cuantificadores usando Matplotlib (20 minutos)**\n",
    "\n",
    "**Objetivo:** Visualizar predicados y cuantificadores de manera gráfica con **Matplotlib**.\n"
   ]
  },
  {
   "cell_type": "code",
   "execution_count": 39,
   "id": "285afb8f",
   "metadata": {},
   "outputs": [
    {
     "data": {
      "image/png": "[encoded data removed]",
      "text/plain": [
       "<Figure size 640x480 with 1 Axes>"
      ]
     },
     "metadata": {},
     "output_type": "display_data"
    }
   ],
   "source": [
    "import matplotlib.pyplot as plt\n",
    "import numpy as np\n",
    "\n",
    "# Datos: Números naturales y un predicado\n",
    "naturals = np.array([0, 1, 2, 3, 4, 5])\n",
    "predicado = naturals > 0  # Todos mayores que 0\n",
    "\n",
    "plt.bar(naturals, predicado)\n",
    "plt.xlabel('Número Natural')\n",
    "plt.ylabel('Predicado: n > 0')\n",
    "plt.title('Visualización de Predicado: Todos los números naturales son mayores que 0')\n",
    "plt.show()\n",
    "\n"
   ]
  },
  {
   "cell_type": "markdown",
   "id": "fecda0ca",
   "metadata": {},
   "source": [
    "\n",
    "**Discusión:** Los estudiantes observarán visualmente el cumplimiento de un predicado sobre un conjunto numérico.\n",
    "\n",
    "---\n",
    "\n",
    "#### **Actividad 4: Interacción con Cuantificadores y Gráficas usando Plotly (20 minutos)**\n",
    "\n",
    "**Objetivo:** Usar **Plotly** para realizar una visualización interactiva de cuantificadores sobre conjuntos de datos.\n"
   ]
  },
  {
   "cell_type": "code",
   "execution_count": 21,
   "id": "7b08458d",
   "metadata": {},
   "outputs": [
    {
     "data": {
      "application/vnd.plotly.v1+json": {
       "config": {
        "plotlyServerURL": "https://plot.ly"
       },
       "data": [
        {
         "type": "bar",
         "x": [
          1,
          2,
          3,
          4,
          5
         ],
         "y": [
          true,
          true,
          true,
          true,
          true
         ]
        }
       ],
       "layout": {
        "template": {
         "data": {
          "bar": [
           {
            "error_x": {
             "color": "#2a3f5f"
            },
            "error_y": {
             "color": "#2a3f5f"
            },
            "marker": {
             "line": {
              "color": "#E5ECF6",
              "width": 0.5
             },
             "pattern": {
              "fillmode": "overlay",
              "size": 10,
              "solidity": 0.2
             }
            },
            "type": "bar"
           }
          ],
          "barpolar": [
           {
            "marker": {
             "line": {
              "color": "#E5ECF6",
              "width": 0.5
             },
             "pattern": {
              "fillmode": "overlay",
              "size": 10,
              "solidity": 0.2
             }
            },
            "type": "barpolar"
           }
          ],
          "carpet": [
           {
            "aaxis": {
             "endlinecolor": "#2a3f5f",
             "gridcolor": "white",
             "linecolor": "white",
             "minorgridcolor": "white",
             "startlinecolor": "#2a3f5f"
            },
            "baxis": {
             "endlinecolor": "#2a3f5f",
             "gridcolor": "white",
             "linecolor": "white",
             "minorgridcolor": "white",
             "startlinecolor": "#2a3f5f"
            },
            "type": "carpet"
           }
          ],
          "choropleth": [
           {
            "colorbar": {
             "outlinewidth": 0,
             "ticks": ""
            },
            "type": "choropleth"
           }
          ],
          "contour": [
           {
            "colorbar": {
             "outlinewidth": 0,
             "ticks": ""
            },
            "colorscale": [
             [
              0,
              "#0d0887"
             ],
             [
              0.1111111111111111,
              "#46039f"
             ],
             [
              0.2222222222222222,
              "#7201a8"
             ],
             [
              0.3333333333333333,
              "#9c179e"
             ],
             [
              0.4444444444444444,
              "#bd3786"
             ],
             [
              0.5555555555555556,
              "#d8576b"
             ],
             [
              0.6666666666666666,
              "#ed7953"
             ],
             [
              0.7777777777777778,
              "#fb9f3a"
             ],
             [
              0.8888888888888888,
              "#fdca26"
             ],
             [
              1,
              "#f0f921"
             ]
            ],
            "type": "contour"
           }
          ],
          "contourcarpet": [
           {
            "colorbar": {
             "outlinewidth": 0,
             "ticks": ""
            },
            "type": "contourcarpet"
           }
          ],
          "heatmap": [
           {
            "colorbar": {
             "outlinewidth": 0,
             "ticks": ""
            },
            "colorscale": [
             [
              0,
              "#0d0887"
             ],
             [
              0.1111111111111111,
              "#46039f"
             ],
             [
              0.2222222222222222,
              "#7201a8"
             ],
             [
              0.3333333333333333,
              "#9c179e"
             ],
             [
              0.4444444444444444,
              "#bd3786"
             ],
             [
              0.5555555555555556,
              "#d8576b"
             ],
             [
              0.6666666666666666,
              "#ed7953"
             ],
             [
              0.7777777777777778,
              "#fb9f3a"
             ],
             [
              0.8888888888888888,
              "#fdca26"
             ],
             [
              1,
              "#f0f921"
             ]
            ],
            "type": "heatmap"
           }
          ],
          "heatmapgl": [
           {
            "colorbar": {
             "outlinewidth": 0,
             "ticks": ""
            },
            "colorscale": [
             [
              0,
              "#0d0887"
             ],
             [
              0.1111111111111111,
              "#46039f"
             ],
             [
              0.2222222222222222,
              "#7201a8"
             ],
             [
              0.3333333333333333,
              "#9c179e"
             ],
             [
              0.4444444444444444,
              "#bd3786"
             ],
             [
              0.5555555555555556,
              "#d8576b"
             ],
             [
              0.6666666666666666,
              "#ed7953"
             ],
             [
              0.7777777777777778,
              "#fb9f3a"
             ],
             [
              0.8888888888888888,
              "#fdca26"
             ],
             [
              1,
              "#f0f921"
             ]
            ],
            "type": "heatmapgl"
           }
          ],
          "histogram": [
           {
            "marker": {
             "pattern": {
              "fillmode": "overlay",
              "size": 10,
              "solidity": 0.2
             }
            },
            "type": "histogram"
           }
          ],
          "histogram2d": [
           {
            "colorbar": {
             "outlinewidth": 0,
             "ticks": ""
            },
            "colorscale": [
             [
              0,
              "#0d0887"
             ],
             [
              0.1111111111111111,
              "#46039f"
             ],
             [
              0.2222222222222222,
              "#7201a8"
             ],
             [
              0.3333333333333333,
              "#9c179e"
             ],
             [
              0.4444444444444444,
              "#bd3786"
             ],
             [
              0.5555555555555556,
              "#d8576b"
             ],
             [
              0.6666666666666666,
              "#ed7953"
             ],
             [
              0.7777777777777778,
              "#fb9f3a"
             ],
             [
              0.8888888888888888,
              "#fdca26"
             ],
             [
              1,
              "#f0f921"
             ]
            ],
            "type": "histogram2d"
           }
          ],
          "histogram2dcontour": [
           {
            "colorbar": {
             "outlinewidth": 0,
             "ticks": ""
            },
            "colorscale": [
             [
              0,
              "#0d0887"
             ],
             [
              0.1111111111111111,
              "#46039f"
             ],
             [
              0.2222222222222222,
              "#7201a8"
             ],
             [
              0.3333333333333333,
              "#9c179e"
             ],
             [
              0.4444444444444444,
              "#bd3786"
             ],
             [
              0.5555555555555556,
              "#d8576b"
             ],
             [
              0.6666666666666666,
              "#ed7953"
             ],
             [
              0.7777777777777778,
              "#fb9f3a"
             ],
             [
              0.8888888888888888,
              "#fdca26"
             ],
             [
              1,
              "#f0f921"
             ]
            ],
            "type": "histogram2dcontour"
           }
          ],
          "mesh3d": [
           {
            "colorbar": {
             "outlinewidth": 0,
             "ticks": ""
            },
            "type": "mesh3d"
           }
          ],
          "parcoords": [
           {
            "line": {
             "colorbar": {
              "outlinewidth": 0,
              "ticks": ""
             }
            },
            "type": "parcoords"
           }
          ],
          "pie": [
           {
            "automargin": true,
            "type": "pie"
           }
          ],
          "scatter": [
           {
            "fillpattern": {
             "fillmode": "overlay",
             "size": 10,
             "solidity": 0.2
            },
            "type": "scatter"
           }
          ],
          "scatter3d": [
           {
            "line": {
             "colorbar": {
              "outlinewidth": 0,
              "ticks": ""
             }
            },
            "marker": {
             "colorbar": {
              "outlinewidth": 0,
              "ticks": ""
             }
            },
            "type": "scatter3d"
           }
          ],
          "scattercarpet": [
           {
            "marker": {
             "colorbar": {
              "outlinewidth": 0,
              "ticks": ""
             }
            },
            "type": "scattercarpet"
           }
          ],
          "scattergeo": [
           {
            "marker": {
             "colorbar": {
              "outlinewidth": 0,
              "ticks": ""
             }
            },
            "type": "scattergeo"
           }
          ],
          "scattergl": [
           {
            "marker": {
             "colorbar": {
              "outlinewidth": 0,
              "ticks": ""
             }
            },
            "type": "scattergl"
           }
          ],
          "scattermapbox": [
           {
            "marker": {
             "colorbar": {
              "outlinewidth": 0,
              "ticks": ""
             }
            },
            "type": "scattermapbox"
           }
          ],
          "scatterpolar": [
           {
            "marker": {
             "colorbar": {
              "outlinewidth": 0,
              "ticks": ""
             }
            },
            "type": "scatterpolar"
           }
          ],
          "scatterpolargl": [
           {
            "marker": {
             "colorbar": {
              "outlinewidth": 0,
              "ticks": ""
             }
            },
            "type": "scatterpolargl"
           }
          ],
          "scatterternary": [
           {
            "marker": {
             "colorbar": {
              "outlinewidth": 0,
              "ticks": ""
             }
            },
            "type": "scatterternary"
           }
          ],
          "surface": [
           {
            "colorbar": {
             "outlinewidth": 0,
             "ticks": ""
            },
            "colorscale": [
             [
              0,
              "#0d0887"
             ],
             [
              0.1111111111111111,
              "#46039f"
             ],
             [
              0.2222222222222222,
              "#7201a8"
             ],
             [
              0.3333333333333333,
              "#9c179e"
             ],
             [
              0.4444444444444444,
              "#bd3786"
             ],
             [
              0.5555555555555556,
              "#d8576b"
             ],
             [
              0.6666666666666666,
              "#ed7953"
             ],
             [
              0.7777777777777778,
              "#fb9f3a"
             ],
             [
              0.8888888888888888,
              "#fdca26"
             ],
             [
              1,
              "#f0f921"
             ]
            ],
            "type": "surface"
           }
          ],
          "table": [
           {
            "cells": {
             "fill": {
              "color": "#EBF0F8"
             },
             "line": {
              "color": "white"
             }
            },
            "header": {
             "fill": {
              "color": "#C8D4E3"
             },
             "line": {
              "color": "white"
             }
            },
            "type": "table"
           }
          ]
         },
         "layout": {
          "annotationdefaults": {
           "arrowcolor": "#2a3f5f",
           "arrowhead": 0,
           "arrowwidth": 1
          },
          "autotypenumbers": "strict",
          "coloraxis": {
           "colorbar": {
            "outlinewidth": 0,
            "ticks": ""
           }
          },
          "colorscale": {
           "diverging": [
            [
             0,
             "#8e0152"
            ],
            [
             0.1,
             "#c51b7d"
            ],
            [
             0.2,
             "#de77ae"
            ],
            [
             0.3,
             "#f1b6da"
            ],
            [
             0.4,
             "#fde0ef"
            ],
            [
             0.5,
             "#f7f7f7"
            ],
            [
             0.6,
             "#e6f5d0"
            ],
            [
             0.7,
             "#b8e186"
            ],
            [
             0.8,
             "#7fbc41"
            ],
            [
             0.9,
             "#4d9221"
            ],
            [
             1,
             "#276419"
            ]
           ],
           "sequential": [
            [
             0,
             "#0d0887"
            ],
            [
             0.1111111111111111,
             "#46039f"
            ],
            [
             0.2222222222222222,
             "#7201a8"
            ],
            [
             0.3333333333333333,
             "#9c179e"
            ],
            [
             0.4444444444444444,
             "#bd3786"
            ],
            [
             0.5555555555555556,
             "#d8576b"
            ],
            [
             0.6666666666666666,
             "#ed7953"
            ],
            [
             0.7777777777777778,
             "#fb9f3a"
            ],
            [
             0.8888888888888888,
             "#fdca26"
            ],
            [
             1,
             "#f0f921"
            ]
           ],
           "sequentialminus": [
            [
             0,
             "#0d0887"
            ],
            [
             0.1111111111111111,
             "#46039f"
            ],
            [
             0.2222222222222222,
             "#7201a8"
            ],
            [
             0.3333333333333333,
             "#9c179e"
            ],
            [
             0.4444444444444444,
             "#bd3786"
            ],
            [
             0.5555555555555556,
             "#d8576b"
            ],
            [
             0.6666666666666666,
             "#ed7953"
            ],
            [
             0.7777777777777778,
             "#fb9f3a"
            ],
            [
             0.8888888888888888,
             "#fdca26"
            ],
            [
             1,
             "#f0f921"
            ]
           ]
          },
          "colorway": [
           "#636efa",
           "#EF553B",
           "#00cc96",
           "#ab63fa",
           "#FFA15A",
           "#19d3f3",
           "#FF6692",
           "#B6E880",
           "#FF97FF",
           "#FECB52"
          ],
          "font": {
           "color": "#2a3f5f"
          },
          "geo": {
           "bgcolor": "white",
           "lakecolor": "white",
           "landcolor": "#E5ECF6",
           "showlakes": true,
           "showland": true,
           "subunitcolor": "white"
          },
          "hoverlabel": {
           "align": "left"
          },
          "hovermode": "closest",
          "mapbox": {
           "style": "light"
          },
          "paper_bgcolor": "white",
          "plot_bgcolor": "#E5ECF6",
          "polar": {
           "angularaxis": {
            "gridcolor": "white",
            "linecolor": "white",
            "ticks": ""
           },
           "bgcolor": "#E5ECF6",
           "radialaxis": {
            "gridcolor": "white",
            "linecolor": "white",
            "ticks": ""
           }
          },
          "scene": {
           "xaxis": {
            "backgroundcolor": "#E5ECF6",
            "gridcolor": "white",
            "gridwidth": 2,
            "linecolor": "white",
            "showbackground": true,
            "ticks": "",
            "zerolinecolor": "white"
           },
           "yaxis": {
            "backgroundcolor": "#E5ECF6",
            "gridcolor": "white",
            "gridwidth": 2,
            "linecolor": "white",
            "showbackground": true,
            "ticks": "",
            "zerolinecolor": "white"
           },
           "zaxis": {
            "backgroundcolor": "#E5ECF6",
            "gridcolor": "white",
            "gridwidth": 2,
            "linecolor": "white",
            "showbackground": true,
            "ticks": "",
            "zerolinecolor": "white"
           }
          },
          "shapedefaults": {
           "line": {
            "color": "#2a3f5f"
           }
          },
          "ternary": {
           "aaxis": {
            "gridcolor": "white",
            "linecolor": "white",
            "ticks": ""
           },
           "baxis": {
            "gridcolor": "white",
            "linecolor": "white",
            "ticks": ""
           },
           "bgcolor": "#E5ECF6",
           "caxis": {
            "gridcolor": "white",
            "linecolor": "white",
            "ticks": ""
           }
          },
          "title": {
           "x": 0.05
          },
          "xaxis": {
           "automargin": true,
           "gridcolor": "white",
           "linecolor": "white",
           "ticks": "",
           "title": {
            "standoff": 15
           },
           "zerolinecolor": "white",
           "zerolinewidth": 2
          },
          "yaxis": {
           "automargin": true,
           "gridcolor": "white",
           "linecolor": "white",
           "ticks": "",
           "title": {
            "standoff": 15
           },
           "zerolinecolor": "white",
           "zerolinewidth": 2
          }
         }
        },
        "title": {
         "text": "Visualización Interactiva: Cuantificador Universal (n > 0)"
        },
        "xaxis": {
         "title": {
          "text": "Número Natural"
         }
        },
        "yaxis": {
         "title": {
          "text": "Cumple Predicado (n > 0)"
         }
        }
       }
      }
     },
     "metadata": {},
     "output_type": "display_data"
    }
   ],
   "source": [
    "\n",
    "\n",
    "import plotly.graph_objects as go\n",
    "\n",
    "naturals = [1, 2, 3, 4, 5]\n",
    "predicado = [True, True, True, True, True]\n",
    "\n",
    "fig = go.Figure(data=[go.Bar(x=naturals, y=predicado)])\n",
    "\n",
    "fig.update_layout(\n",
    "    title=\"Visualización Interactiva: Cuantificador Universal (n > 0)\",\n",
    "    xaxis_title=\"Número Natural\",\n",
    "    yaxis_title=\"Cumple Predicado (n > 0)\"\n",
    ")\n",
    "\n",
    "fig.show()\n",
    "\n"
   ]
  },
  {
   "cell_type": "markdown",
   "id": "2ed3229f",
   "metadata": {},
   "source": [
    "\n",
    "**Discusión:** Se analizará cómo la interacción mejora el entendimiento visual de los cuantificadores.\n",
    "\n",
    "---\n",
    "\n",
    "#### **Actividad 5: Aplicación de la Ley de De Morgan en Python (10 minutos)**\n",
    "\n",
    "**Objetivo:** Implementar la ley de De Morgan para cuantificadores y verificar su validez con ejemplos.\n"
   ]
  },
  {
   "cell_type": "code",
   "execution_count": 42,
   "id": "9ba9dacf",
   "metadata": {},
   "outputs": [
    {
     "name": "stdout",
     "output_type": "stream",
     "text": [
      "Todos mayores que 0: True\n",
      "Negación (No todos mayores que 0): False\n"
     ]
    }
   ],
   "source": [
    "\n",
    "# Predicado: \"Todos los números son mayores que 0\"\n",
    "todos_mayores_cero = all(n > 0 for n in naturals)\n",
    "\n",
    "# Negación: \"No todos los números son mayores que 0\" (Ley de De Morgan)\n",
    "negacion_universal = any(n <= 0 for n in naturals)\n",
    "\n",
    "print(f\"Todos mayores que 0: {todos_mayores_cero}\")\n",
    "print(f\"Negación (No todos mayores que 0): {negacion_universal}\")\n",
    "\n"
   ]
  },
  {
   "cell_type": "markdown",
   "id": "80ad43ed",
   "metadata": {},
   "source": [
    "\n",
    "---\n",
    "\n",
    "### **3. Evaluación y Reflexión (10 minutos)**\n",
    "\n",
    "- **Preguntas de reflexión:**\n",
    "  1. ¿Qué tipo de problemas podemos resolver usando cuantificadores en Python?\n",
    "  2. ¿Cómo la visualización de los predicados ayuda a entender mejor el concepto de cuantificadores?\n",
    "  3. ¿Cómo las leyes de De Morgan se aplican de manera efectiva en el contexto de algoritmos?\n",
    "\n",
    "---\n"
   ]
  },
  {
   "cell_type": "markdown",
   "id": "d2db2e05",
   "metadata": {},
   "source": [
    "\n",
    "### **Recursos Adicionales:**\n",
    "- Documentación de **SymPy**: https://docs.sympy.org\n",
    "- Documentación de **Pandas**: https://pandas.pydata.org\n",
    "- Documentación de **Matplotlib**: https://matplotlib.org\n",
    "- Documentación de **Plotly**: https://plotly.com\n",
    "\n",
    "---\n",
    "\n",
    "Este diseño de clase fomenta el **aprendizaje experiencial** y el **desarrollo del pensamiento algorítmico** mediante el uso de herramientas interactivas y potentes como **Python, Pandas, Matplotlib, Plotly, y SymPy**."
   ]
  },
  {
   "cell_type": "markdown",
   "id": "6d9d8831",
   "metadata": {},
   "source": [
    "## Práctica de Enseñanza: Cuantificadores usando `any()` y `all()` en Python\n"
   ]
  },
  {
   "cell_type": "markdown",
   "id": "e375b4a3",
   "metadata": {},
   "source": [
    "\n",
    "#### **Objetivo de la Práctica:**\n",
    "En esta práctica, los estudiantes aprenderán a aplicar los cuantificadores universales y existenciales mediante las funciones `any()` y `all()` de la librería estándar de Python. Desarrollarán un entendimiento claro de cómo estas funciones pueden representar lógicamente los cuantificadores en listas y estructuras de datos, y aplicarán este conocimiento a la resolución de problemas.\n"
   ]
  },
  {
   "cell_type": "markdown",
   "id": "d3a121c5",
   "metadata": {},
   "source": [
    "\n",
    "#### **Descripción:**\n",
    "- `all(iterable)`: Retorna `True` si **todos** los elementos del iterable son verdaderos (representa el **cuantificador universal** $ \\forall $).\n",
    "- `any(iterable)`: Retorna `True` si **al menos uno** de los elementos del iterable es verdadero (representa el **cuantificador existencial** $ \\exists $).\n",
    "\n",
    "---\n"
   ]
  },
  {
   "cell_type": "markdown",
   "id": "fd07407a",
   "metadata": {},
   "source": [
    "\n",
    "### **1. Explicación Teórica (15 minutos)**\n",
    "\n",
    "**Cuantificador Universal con `all()`**:\n",
    "- Representa la expresión lógica $\\forall x \\in A, P(x)$.\n",
    "- Ejemplo: \"Todos los números en una lista son mayores que 0\".\n",
    "  \n"
   ]
  },
  {
   "cell_type": "code",
   "execution_count": 12,
   "id": "bb88cb14",
   "metadata": {},
   "outputs": [
    {
     "name": "stdout",
     "output_type": "stream",
     "text": [
      "False\n"
     ]
    }
   ],
   "source": [
    "  \n",
    "numeros = [-1, 2, 3, 4, 5]\n",
    "resultado = all(n > 0 for n in numeros)\n",
    "print(resultado)  # True\n",
    "  \n"
   ]
  },
  {
   "cell_type": "code",
   "execution_count": 15,
   "id": "587e6215",
   "metadata": {},
   "outputs": [
    {
     "data": {
      "text/plain": [
       "[False, True, True, True, True]"
      ]
     },
     "execution_count": 15,
     "metadata": {},
     "output_type": "execute_result"
    }
   ],
   "source": [
    "list((n > 0 for n in numeros))"
   ]
  },
  {
   "cell_type": "markdown",
   "id": "906d52e6",
   "metadata": {},
   "source": [
    "\n",
    "**Cuantificador Existencial con `any()`**:\n",
    "- Representa la expresión lógica $ \\exists x \\in A, P(x) $.\n",
    "- Ejemplo: \"Existe al menos un número en una lista que es mayor que 0\".\n",
    "  \n",
    "  \n"
   ]
  },
  {
   "cell_type": "code",
   "execution_count": 17,
   "id": "f3ee9680",
   "metadata": {},
   "outputs": [
    {
     "name": "stdout",
     "output_type": "stream",
     "text": [
      "False\n"
     ]
    }
   ],
   "source": [
    "numeros = [-1, -2, -3, -1]\n",
    "resultado = any(n > 0 for n in numeros)\n",
    "print(resultado)  # True\n",
    "  \n"
   ]
  },
  {
   "cell_type": "markdown",
   "id": "238c0d10",
   "metadata": {},
   "source": [
    "\n",
    "---\n"
   ]
  },
  {
   "cell_type": "markdown",
   "id": "522714d3",
   "metadata": {},
   "source": [
    "\n",
    "### **2. Actividades Prácticas (30 minutos)**\n",
    "\n",
    "#### **Ejercicio 1: Verificación de Predicados en Listas**\n",
    "\n",
    "**Instrucción:**\n",
    "Implemente las funciones `any()` y `all()` para verificar los siguientes predicados en una lista de números enteros:\n",
    "\n",
    "1. **Todos los números son positivos**.\n",
    "2. **Existe al menos un número impar**.\n",
    "\n",
    "**Código de ejemplo para referencia:**\n"
   ]
  },
  {
   "cell_type": "code",
   "execution_count": 19,
   "id": "ae109adc",
   "metadata": {},
   "outputs": [
    {
     "name": "stdout",
     "output_type": "stream",
     "text": [
      "Todos los números son positivos: False\n"
     ]
    }
   ],
   "source": [
    "numeros = [1, 2, 3, -4, 5]\n",
    "\n",
    "# Todos los números son positivos\n",
    "todos_positivos = all(n > 0 for n in numeros)\n",
    "print(f\"Todos los números son positivos: {todos_positivos}\")\n"
   ]
  },
  {
   "cell_type": "code",
   "execution_count": 20,
   "id": "2a0f4e82",
   "metadata": {},
   "outputs": [
    {
     "name": "stdout",
     "output_type": "stream",
     "text": [
      "Existe al menos un número impar: True\n"
     ]
    }
   ],
   "source": [
    "\n",
    "# Existe al menos un número impar\n",
    "existe_impar = any(n % 2 != 0 for n in numeros)\n",
    "print(f\"Existe al menos un número impar: {existe_impar}\")\n",
    "\n"
   ]
  },
  {
   "cell_type": "markdown",
   "id": "a242043a",
   "metadata": {},
   "source": [
    "\n",
    "---\n",
    "\n",
    "#### **Ejercicio 2: Aplicación a Conjuntos de Datos**\n",
    "\n",
    "**Instrucción:**\n",
    "Dado un conjunto de datos de temperaturas en grados Celsius, verifica los siguientes predicados utilizando `any()` y `all()`:\n",
    "\n",
    "1. **Todas las temperaturas están por debajo de los 40°C**.\n",
    "2. **Existe al menos una temperatura negativa**.\n",
    "\n",
    "**Código de ejemplo para referencia:**\n"
   ]
  },
  {
   "cell_type": "code",
   "execution_count": 26,
   "id": "f2fac2db",
   "metadata": {},
   "outputs": [
    {
     "name": "stdout",
     "output_type": "stream",
     "text": [
      "Todas las temperaturas están por debajo de los 40°C: False\n"
     ]
    }
   ],
   "source": [
    "\n",
    "\n",
    "temperaturas = [0,15, 23, 30, 2, 35, 38]\n",
    "\n",
    "# Todas las temperaturas están por debajo de los 40°C\n",
    "todas_bajo_40 = all(temp < 35 for temp in temperaturas)\n",
    "print(f\"Todas las temperaturas están por debajo de los 40°C: {todas_bajo_40}\")\n"
   ]
  },
  {
   "cell_type": "code",
   "execution_count": 27,
   "id": "d28eb4a7",
   "metadata": {},
   "outputs": [
    {
     "name": "stdout",
     "output_type": "stream",
     "text": [
      "Existe al menos una temperatura negativa: False\n"
     ]
    }
   ],
   "source": [
    "\n",
    "# Existe al menos una temperatura negativa\n",
    "existe_negativa = any(temp < 0 for temp in temperaturas)\n",
    "print(f\"Existe al menos una temperatura negativa: {existe_negativa}\")\n",
    "\n"
   ]
  },
  {
   "cell_type": "markdown",
   "id": "b39ba089",
   "metadata": {},
   "source": [
    "\n",
    "---\n",
    "\n",
    "### **3. Ejercicios de Práctica para los Estudiantes (15 minutos)**\n",
    "\n",
    "#### **Ejercicio 1: Verificación de Primos**\n",
    "\n",
    "Dada una lista de números enteros, implementa un predicado que verifique si:\n",
    "\n",
    "- **Todos los números en la lista son primos**.\n",
    "- **Existe al menos un número primo en la lista**.\n",
    "\n",
    "**Instrucciones:**\n",
    "1. Define una función auxiliar para verificar si un número es primo.\n",
    "2. Aplica `all()` y `any()` para realizar las verificaciones.\n"
   ]
  },
  {
   "cell_type": "code",
   "execution_count": 31,
   "id": "d8710550",
   "metadata": {},
   "outputs": [
    {
     "name": "stdout",
     "output_type": "stream",
     "text": [
      "Todos los números son primos: False\n"
     ]
    }
   ],
   "source": [
    "\n",
    "def es_primo(n):\n",
    "    if n < 2:\n",
    "        return False\n",
    "    for i in range(2, int(n**0.5) + 1):\n",
    "        if n % i == 0:\n",
    "            return False\n",
    "    return True\n",
    "\n",
    "numeros = [1,1,1,1]\n",
    "\n",
    "# Todos los números son primos\n",
    "todos_primos = all(es_primo(n) for n in numeros)\n",
    "print(f\"Todos los números son primos: {todos_primos}\")\n"
   ]
  },
  {
   "cell_type": "code",
   "execution_count": 32,
   "id": "6f2f3ee4",
   "metadata": {},
   "outputs": [
    {
     "name": "stdout",
     "output_type": "stream",
     "text": [
      "Existe al menos un número primo: False\n"
     ]
    }
   ],
   "source": [
    "\n",
    "# Existe al menos un número primo\n",
    "existe_primo = any(es_primo(n) for n in numeros)\n",
    "print(f\"Existe al menos un número primo: {existe_primo}\")\n",
    "\n"
   ]
  },
  {
   "cell_type": "markdown",
   "id": "ec09502e",
   "metadata": {},
   "source": [
    "\n",
    "#### **Ejercicio 2: Alturas de Personas**\n",
    "\n",
    "Dada una lista de alturas en centímetros, implementa un predicado que verifique si:\n",
    "\n",
    "- **Todas las personas miden más de 150 cm**.\n",
    "- **Existe al menos una persona que mide más de 190 cm**.\n"
   ]
  },
  {
   "cell_type": "code",
   "execution_count": 33,
   "id": "7d3f9e42",
   "metadata": {},
   "outputs": [
    {
     "name": "stdout",
     "output_type": "stream",
     "text": [
      "Todos miden más de 150 cm: False\n"
     ]
    }
   ],
   "source": [
    "\n",
    "alturas = [160, 175, 180, 145, 200]\n",
    "\n",
    "# Todos miden más de 150 cm\n",
    "todos_mas_150 = all(altura > 150 for altura in alturas)\n",
    "print(f\"Todos miden más de 150 cm: {todos_mas_150}\")\n"
   ]
  },
  {
   "cell_type": "code",
   "execution_count": 34,
   "id": "3deb8e00",
   "metadata": {},
   "outputs": [
    {
     "name": "stdout",
     "output_type": "stream",
     "text": [
      "Existe al menos una persona que mide más de 190 cm: True\n"
     ]
    }
   ],
   "source": [
    "\n",
    "# Existe al menos una persona que mide más de 190 cm\n",
    "existe_mas_190 = any(altura > 190 for altura in alturas)\n",
    "print(f\"Existe al menos una persona que mide más de 190 cm: {existe_mas_190}\")\n",
    "\n"
   ]
  },
  {
   "cell_type": "markdown",
   "id": "71201c89",
   "metadata": {},
   "source": [
    "\n",
    "---\n",
    "\n",
    "### **4. Reflexión Final (15 minutos)**\n",
    "\n",
    "- **Preguntas de reflexión:**\n",
    "  1. ¿Cómo se puede aplicar `any()` y `all()` a otros contextos de datos o en problemas más complejos?\n",
    "  2. ¿Qué aprendiste sobre el uso de los cuantificadores al implementarlos en Python?\n",
    "  3. ¿Cómo esta representación algorítmica ayuda a desarrollar tu pensamiento lógico y computacional?\n",
    "\n",
    "---\n",
    "\n",
    "### **Conclusión:**\n",
    "Esta práctica permitirá a los estudiantes adquirir una comprensión sólida de los cuantificadores a través de su implementación práctica usando las funciones `any()` y `all()`. Además, desarrollarán el pensamiento algorítmico y aprenderán a formular y verificar predicados en conjuntos de datos."
   ]
  },
  {
   "cell_type": "markdown",
   "id": "4237ecab",
   "metadata": {},
   "source": [
    "[Video de apoyo](https://www.youtube.com/watch?v=RMUEBUDatWA)"
   ]
  },
  {
   "cell_type": "code",
   "execution_count": null,
   "id": "761b8e6d",
   "metadata": {},
   "outputs": [],
   "source": []
  },
  {
   "cell_type": "code",
   "execution_count": null,
   "id": "ec048afb",
   "metadata": {},
   "outputs": [],
   "source": []
  },
  {
   "cell_type": "markdown",
   "id": "64ac8d32",
   "metadata": {},
   "source": [
    "# Ejemplo ilustrativo"
   ]
  },
  {
   "cell_type": "markdown",
   "id": "a3e5e6ab",
   "metadata": {},
   "source": [
    "# 20 ejercicios de entrenamiento o adquisición de habilidades obtenido a través de ChatGPT para una formación personalizada y centrada en la habilidad que se quiere lograr con la enseñanza del ejemplo anterior"
   ]
  },
  {
   "cell_type": "markdown",
   "id": "cc539357",
   "metadata": {},
   "source": [
    "Esta lista de **20 ejercicios** cubre las tres habilidades clave: interpretar proposiciones cuantificadas, construir sus negaciones y determinar el valor de verdad de la proposición original mediante el uso de su negación. Estos ejercicios también se contextualizan en temas de números naturales, números enteros, cálculo diferencial e integral.\n"
   ]
  },
  {
   "cell_type": "markdown",
   "id": "9e5c1e1b",
   "metadata": {},
   "source": [
    "\n",
    "### **Ejercicios sobre números naturales y enteros**\n",
    "\n",
    "1. **Interpretación**: Interpreta verbalmente la proposición simbólica:  \n",
    "   \\[\n",
    "   \\forall n \\in \\mathbb{N}, \\ n+1 > n\n",
    "   \\]  \n",
    "   **Construcción de la negación**: Escribe la negación de esta proposición.  \n",
    "   **Valor de verdad**: Determina si la proposición original y su negación son verdaderas o falsas.\n",
    "\n",
    "2. **Interpretación**: Traduce a lenguaje simbólico:  \n",
    "   \"Para todo número entero, su cuadrado es mayor o igual que cero\".  \n",
    "   **Construcción de la negación**: Niega la proposición.  \n",
    "   **Valor de verdad**: Justifica el valor de verdad usando propiedades de los números enteros.\n",
    "\n",
    "3. **Interpretación**: Interpreta verbalmente:  \n",
    "   \\[\n",
    "   \\exists m \\in \\mathbb{Z}, \\ m^2 = 2\n",
    "   \\]  \n",
    "   **Construcción de la negación**: Escribe la negación de la proposición.  \n",
    "   **Valor de verdad**: Determina el valor de verdad de ambas proposiciones y discútelo.\n",
    "\n",
    "4. **Interpretación**: Traduce al lenguaje simbólico:  \n",
    "   \"Existe un número entero que es divisible por 2 y por 3\".  \n",
    "   **Construcción de la negación**: Escribe la negación.  \n",
    "   **Valor de verdad**: Justifica si la proposición y su negación son verdaderas o falsas.\n",
    "\n",
    "5. **Interpretación**: Interpreta la proposición:  \n",
    "   $$\n",
    "   \\forall x \\in \\mathbb{N}, \\ x^2 - 2x + 1 \\geq 0\n",
    "   $$  \n",
    "   **Construcción de la negación**: Niega la proposición.  \n",
    "   **Valor de verdad**: Determina el valor de verdad usando ejemplos numéricos.\n"
   ]
  },
  {
   "cell_type": "markdown",
   "id": "95856012",
   "metadata": {},
   "source": [
    "\n",
    "### **Ejercicios sobre cálculo diferencial**\n",
    "\n",
    "6. **Interpretación**: Interpreta la siguiente proposición:  \n",
    "   \\[\n",
    "   \\forall f \\in C^1(\\mathbb{R}), \\ f'(x) = 0 \\implies f \\ \\text{es constante}\n",
    "   \\]  \n",
    "   **Construcción de la negación**: Niega la proposición.  \n",
    "   **Valor de verdad**: Justifica el valor de verdad usando un teorema del cálculo diferencial.\n",
    "\n",
    "7. **Interpretación**: Traduce al lenguaje natural:  \n",
    "   \\[\n",
    "   \\exists c \\in \\mathbb{R}, \\ \\text{tal que} \\ f'(c) = 0 \\ \\text{y} \\ f(c) \\ \\text{es un máximo local}\n",
    "   \\]  \n",
    "   **Construcción de la negación**: Escribe la negación.  \n",
    "   **Valor de verdad**: Usa el teorema de Fermat para justificar el valor de verdad.\n",
    "\n",
    "8. **Interpretación**: Traduce al lenguaje simbólico:  \n",
    "   \"Si una función derivable tiene derivada cero en todos los puntos, entonces es constante\".  \n",
    "   **Construcción de la negación**: Niega la proposición.  \n",
    "   **Valor de verdad**: Usa un contraejemplo para justificar.\n",
    "\n",
    "9. **Interpretación**: Traduce al lenguaje simbólico:  \n",
    "   \"Para todo número real, la función exponencial es positiva\".  \n",
    "   **Construcción de la negación**: Escribe la negación.  \n",
    "   **Valor de verdad**: Determina si ambas proposiciones son verdaderas o falsas.\n",
    "\n",
    "10. **Interpretación**: Interpreta verbalmente:  \n",
    "    \\[\n",
    "    \\exists x_0 \\in \\mathbb{R}, \\ f'(x_0) > 0\n",
    "    \\]  \n",
    "    **Construcción de la negación**: Escribe la negación.  \n",
    "    **Valor de verdad**: Usa ejemplos de funciones para justificar el valor de verdad.\n"
   ]
  },
  {
   "cell_type": "markdown",
   "id": "d6d013c2",
   "metadata": {},
   "source": [
    "\n",
    "### **Ejercicios sobre cálculo integral**\n",
    "\n",
    "11. **Interpretación**: Traduce al lenguaje natural:  \n",
    "    \\[\n",
    "    \\forall f \\in C^1([a,b]), \\ \\int_a^b f'(x) dx = f(b) - f(a)\n",
    "    \\]  \n",
    "    **Construcción de la negación**: Niega la proposición.  \n",
    "    **Valor de verdad**: Usa el teorema fundamental del cálculo para justificar el valor de verdad.\n",
    "\n",
    "12. **Interpretación**: Interpreta la siguiente proposición:  \n",
    "    \"Existe una función continua cuya integral definida entre 0 y 1 es 1\".  \n",
    "    **Construcción de la negación**: Escribe la negación.  \n",
    "    **Valor de verdad**: Usa un ejemplo específico para justificar.\n",
    "\n",
    "13. **Interpretación**: Traduce al lenguaje simbólico:  \n",
    "    \"Para todo número \\( x \\) en el intervalo \\( [0, 1] \\), la integral de \\( x^2 \\) entre 0 y \\( x \\) es menor que \\( \\frac{x^3}{3} \\)\".  \n",
    "    **Construcción de la negación**: Niega la proposición.  \n",
    "    **Valor de verdad**: Justifica usando un cálculo integral.\n"
   ]
  },
  {
   "cell_type": "markdown",
   "id": "f277e53d",
   "metadata": {},
   "source": [
    "\n",
    "14. **Interpretación**: Interpreta verbalmente la proposición:  \n",
    "    \\[\n",
    "    \\exists c \\in (a,b), \\ \\int_a^b f(x)dx = (b-a)f(c)\n",
    "    \\]  \n",
    "    **Construcción de la negación**: Escribe la negación.  \n",
    "    **Valor de verdad**: Justifica el valor de verdad usando el teorema del valor medio del cálculo integral.\n",
    "\n",
    "15. **Interpretación**: Traduce al lenguaje natural:  \n",
    "    \"Para todo \\( c \\in [0, 1] \\), la integral de \\( e^{-x^2} \\) entre 0 y 1 es mayor que 0\".  \n",
    "    **Construcción de la negación**: Escribe la negación.  \n",
    "    **Valor de verdad**: Determina si la proposición es verdadera o falsa.\n"
   ]
  },
  {
   "cell_type": "markdown",
   "id": "85c934a6",
   "metadata": {},
   "source": [
    "\n",
    "### **Ejercicios generales sobre cuantificadores**\n",
    "\n",
    "16. **Interpretación**: Traduce al lenguaje simbólico:  \n",
    "    \"Para todo número real, su derivada es mayor o igual a cero implica que la función es no decreciente\".  \n",
    "    **Construcción de la negación**: Niega la proposición.  \n",
    "    **Valor de verdad**: Justifica si la proposición es verdadera o falsa.\n",
    "\n",
    "17. **Interpretación**: Interpreta verbalmente la proposición:  \n",
    "    $$\n",
    "    \\forall x \\in \\mathbb{R}, \\ \\sin^2(x) + \\cos^2(x) = 1\n",
    "    $$  \n",
    "    **Construcción de la negación**: Escribe la negación.  \n",
    "    **Valor de verdad**: Usa una identidad trigonométrica para justificar el valor de verdad.\n"
   ]
  },
  {
   "cell_type": "markdown",
   "id": "53a68ed5",
   "metadata": {},
   "source": [
    "\n",
    "18. **Interpretación**: Traduce al lenguaje natural:  \n",
    "    \\[\n",
    "    \\exists x \\in \\mathbb{R}, \\ \\text{tal que} \\ x^2 + 1 = 0\n",
    "    \\]  \n",
    "    **Construcción de la negación**: Niega la proposición.  \n",
    "    **Valor de verdad**: Determina si la proposición original y su negación son verdaderas o falsas.\n",
    "\n",
    "19. **Interpretación**: Interpreta verbalmente la proposición:  \n",
    "    \\[\n",
    "    \\forall x \\in \\mathbb{N}, \\ \\gcd(x, 1) = 1\n",
    "    \\]  \n",
    "    **Construcción de la negación**: Escribe la negación.  \n",
    "    **Valor de verdad**: Usa la definición del máximo común divisor para justificar el valor de verdad.\n",
    "\n",
    "20. **Interpretación**: Traduce al lenguaje simbólico:  \n",
    "    \"Para todo número natural, si es divisible por 2, entonces es par\".  \n",
    "    **Construcción de la negación**: Niega la proposición.  \n",
    "    **Valor de verdad**: Justifica si la proposición es verdadera o falsa utilizando ejemplos.\n",
    "\n",
    "### Conclusión\n",
    "Estos ejercicios están diseñados para que los estudiantes trabajen tanto con la interpretación como con la construcción y validación de proposiciones cuantificadas, usando temas de matemáticas relevantes para su formación en cálculo y números."
   ]
  },
  {
   "cell_type": "markdown",
   "id": "740f3401",
   "metadata": {
    "slideshow": {
     "slide_type": "slide"
    }
   },
   "source": [
    "# Componente de manejo de calculadora Casio asociado al objetivo de aprendizaje de esta clase  \n",
    "\n",
    "## Pasos para lograr el objetivo de aprendizaje con la experimentación en la calculadora casio 991LA cw  "
   ]
  },
  {
   "cell_type": "markdown",
   "id": "fccb447c",
   "metadata": {
    "slideshow": {
     "slide_type": "slide"
    }
   },
   "source": [
    "# Tareas para realizar en clase"
   ]
  },
  {
   "cell_type": "markdown",
   "id": "742281f4",
   "metadata": {},
   "source": [
    "# No olvide la tarea de realizar la foda para autoevaluarse\n",
    "\n",
    "Fortalezas: F  \n",
    "Oportuniudades O:  \n",
    "Debilidades: D:   \n",
    "Amenazas: A:     "
   ]
  },
  {
   "cell_type": "markdown",
   "id": "8d41fe58",
   "metadata": {
    "slideshow": {
     "slide_type": "slide"
    }
   },
   "source": [
    "# Horario de clases del profesor Marco\n",
    "\n",
    "* Lunes: Cálculo Integral. \n",
    "* Martes Fundamentos de la aritmética.\n",
    "* Miércoles: Fundamentos de la Lógica. \n",
    "\n",
    "\n"
   ]
  },
  {
   "cell_type": "markdown",
   "id": "ae114e14",
   "metadata": {
    "slideshow": {
     "slide_type": "slide"
    }
   },
   "source": [
    "# Horarios de monitoría y asesoría"
   ]
  },
  {
   "cell_type": "markdown",
   "id": "b1db4b6c",
   "metadata": {
    "slideshow": {
     "slide_type": "slide"
    }
   },
   "source": [
    "## Monitor Manuel"
   ]
  },
  {
   "cell_type": "markdown",
   "id": "39559692",
   "metadata": {
    "slideshow": {
     "slide_type": "slide"
    }
   },
   "source": [
    "Martes y jueves de 8 - 12  \n",
    "Miércoles 10 - 12 y de 2 a 4 PM  \n",
    "Sábado: 8 - 12"
   ]
  },
  {
   "cell_type": "markdown",
   "id": "10bce0d0",
   "metadata": {
    "slideshow": {
     "slide_type": "slide"
    }
   },
   "source": [
    "## Referentes "
   ]
  },
  {
   "cell_type": "markdown",
   "id": "1db3c468",
   "metadata": {
    "slideshow": {
     "slide_type": "slide"
    }
   },
   "source": [
    "  \n",
    "* [uzcategui](chrome-extension://efaidnbmnnnibpcajpcglclefindmkaj/https://www.ciencias.ula.ve/matematica/publicaciones/libros/por_profesor/carlos_uzca/LoConNu.pdf) \n",
    "\n",
    "* [Recomendación de la UNESCO sobre ciencia abierta](https://unesdoc.unesco.org/ark:/48223/pf0000379949_spa)\n",
    "\n",
    "* [chatGPT](https://openai.com/blog/chatgpt)  \n",
    "\n",
    "\n"
   ]
  },
  {
   "cell_type": "markdown",
   "id": "6b9e56a8",
   "metadata": {
    "slideshow": {
     "slide_type": "slide"
    }
   },
   "source": [
    "### [Evaluamos al profesor Marco Cañas Aquí](https://forms.office.com/Pages/ResponsePage.aspx?id=IefhmYRxjkmK_7KtTlPBwkanXIs1i1FEujpsZgO6dXpUREJPV1kxUk1JV1ozTFJIQVNIQjY5WEY3US4u)"
   ]
  },
  {
   "cell_type": "markdown",
   "id": "050b9508",
   "metadata": {},
   "source": [
    "# Aportes de mis estudiantes a la metodología del curso    \n",
    "\n",
    "1. Incluir la codificación de manera gradual  y progresiva en el curso, para que los estudiantes puedan ir entendiendo y aplicando este camino a el aprendizaje experiencial. \n",
    "\n",
    "Sus opiniones y aportes son muy importantes para mi. Pues esta es una investigación educativa y un servicio de enseñanza para ustedes. Ustedes son la razón de ser de mi actividad docente. Dios los bendiga. "
   ]
  },
  {
   "cell_type": "markdown",
   "id": "10f43536",
   "metadata": {
    "slideshow": {
     "slide_type": "slide"
    }
   },
   "source": [
    "### Continue su aprendizaje en la siguiente clase a través del siguiente [vínculo]()"
   ]
  },
  {
   "cell_type": "markdown",
   "id": "53cc9115",
   "metadata": {
    "slideshow": {
     "slide_type": "slide"
    }
   },
   "source": [
    "## Agradecimientos  \n",
    "\n",
    "Doy gracias a Dios por la vida de mi Hijo Joseph Cañas Osorio y la madurez que ha alcanzado.\n",
    "\n",
    "Y a mi esposa Yasmira por su apoyo, orientación y acompañamiento. "
   ]
  }
 ],
 "metadata": {
  "celltoolbar": "Slideshow",
  "kernelspec": {
   "display_name": "Python 3",
   "language": "python",
   "name": "python3"
  },
  "language_info": {
   "codemirror_mode": {
    "name": "ipython",
    "version": 3
   },
   "file_extension": ".py",
   "mimetype": "text/x-python",
   "name": "python",
   "nbconvert_exporter": "python",
   "pygments_lexer": "ipython3",
   "version": "3.12.7"
  },
  "rise": {
   "enable_chalkboard": true,
   "theme": "sky",
   "transition": "zoom"
  }
 },
 "nbformat": 4,
 "nbformat_minor": 5
}
