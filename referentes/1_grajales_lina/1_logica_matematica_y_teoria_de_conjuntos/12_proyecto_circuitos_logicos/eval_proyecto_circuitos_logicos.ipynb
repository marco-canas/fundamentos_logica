{
 "cells": [
  {
   "cell_type": "markdown",
   "id": "dc06dec7",
   "metadata": {
    "slideshow": {
     "slide_type": "slide"
    }
   },
   "source": [
    "<table align=\"left\">\n",
    "  <td>\n",
    "    <a href=\"https://colab.research.google.com/github/marco-canas/didactica_ciencia_datos/blob/main/1_curso_machine_learning/1_evaluacion_oral_tarea_quiz_parcial.ipynb\" target=\"_parent\"><img src=\"https://colab.research.google.com/assets/colab-badge.svg\" alt=\"Open In Colab\"/></a>\n",
    "  </td>\n",
    "  <td>\n",
    "    <a target=\"_blank\" href=\"https://kaggle.com/kernels/welcome?src=https://github.com/marco-canas/didactica_ciencia_datos/blob/main/1_curso_machine_learning/1_evaluacion_oral_tarea_quiz_parcial.ipynb\"><img src=\"https://kaggle.com/static/images/open-in-kaggle.svg\" /></a>\n",
    "  </td>\n",
    "</table>"
   ]
  },
  {
   "cell_type": "markdown",
   "id": "e0c5b198",
   "metadata": {
    "slideshow": {
     "slide_type": "slide"
    }
   },
   "source": [
    "### [Video de apoyo a la lectura interactiva y experimental de este cuaderno]()"
   ]
  },
  {
   "cell_type": "markdown",
   "id": "41e82203",
   "metadata": {
    "slideshow": {
     "slide_type": "slide"
    }
   },
   "source": [
    "## [Vínculo al programa del curso:  ]()"
   ]
  },
  {
   "cell_type": "markdown",
   "id": "ca46c23b",
   "metadata": {
    "slideshow": {
     "slide_type": "slide"
    }
   },
   "source": [
    "# Modelo general de clase: [aula invertida](https://www3.gobiernodecanarias.org/medusa/ecoescuela/pedagotic/aprendizaje-invertido-flipped-classroom/)\n"
   ]
  },
  {
   "cell_type": "markdown",
   "id": "7f9be90f",
   "metadata": {
    "slideshow": {
     "slide_type": "slide"
    }
   },
   "source": [
    "# Fomento de la lectura literaria asociada a Ingeniería agropecuaria y licenciatura en Matemáticas y administración de empresas\n",
    "\n",
    "[Hábitos atómicos](https://github.com/marco-canas/habitos_atomicos/blob/main/13_como_dejar_de_postergar_usando_la_regla_de_los_dos_minutos/1_13_como_dejar_de_postergar_usando_la_regla_de_los_dos_minutos.ipynb)"
   ]
  },
  {
   "cell_type": "markdown",
   "id": "96775931",
   "metadata": {
    "slideshow": {
     "slide_type": "slide"
    }
   },
   "source": [
    "# Título de la clase: Realización evaluación oral, de Tareas en cuadernos Jupyter, Quiz o Parcial de selección múltiple o de preguntas cerradas.  \n",
    "\n"
   ]
  },
  {
   "cell_type": "markdown",
   "id": "cf101603",
   "metadata": {},
   "source": [
    "# Prompt para pedir el diseño de evaluación de acuerdo a la metodología de \"Enseñanza basada en proyectos\"  \n",
    "\n",
    "Dame, por favor, una propuesta de evaluación de esta clase bajo la metodología de enseñanza: \"Aprendizaje basado en proyectos\". Pero además incluye una evaluación escrita tipo quiz y una tipo parcial. "
   ]
  },
  {
   "cell_type": "markdown",
   "id": "42797498",
   "metadata": {},
   "source": [
    "Aquí tienes el diseño de clase integrando los requerimientos solicitados:\n",
    "\n",
    "```python\n",
    "# 1. Título de la clase\n",
    "title = \"Logical Circuits in STEAMS: From Theory to Interactive Practice\"\n",
    "\n",
    "# 2. Objetivos e indicadores\n",
    "learning_objectives = {\n",
    "    \"Objetivos\": [\n",
    "        \"Comprender los operadores lógicos mediante modelado físico y digital\",\n",
    "        \"Diseñar circuitos eléctricos análogos a compuertas lógicas\",\n",
    "        \"Aplicar principios STEAMS en solución de problemas reales\"\n",
    "    ],\n",
    "    \"Indicadores\": [\n",
    "        \"Construye 3 circuitos eléctricos análogos a compuertas lógicas\",\n",
    "        \"Simula operadores booleanos con funciones Python personalizadas\",\n",
    "        \"Resuelve problemas usando tablas de verdad en Pandas DataFrame\"\n",
    "    ]\n",
    "}\n",
    "\n",
    "# 3. Mapa conceptual Graphviz (Código para ejecutar en Jupyter)\n",
    "graphviz_code = \"\"\"\n",
    "from graphviz import Digraph\n",
    "\n",
    "dot = Digraph(comment='STEAMS Logic Circuits')\n",
    "dot.attr('node', shape='box3d', style='filled', fillcolor='#E0FFFF')\n",
    "dot.node('A', 'Álgebra Booleana')\n",
    "dot.node('B', 'Circuitos Eléctricos', shape='cylinder', fillcolor='#FFE4E1')\n",
    "dot.node('C', 'Compuertas Lógicas', shape='component', fillcolor='#98FB98')\n",
    "dot.node('D', 'Python\\n(Numpy, SymPy)', shape='ellipse', fillcolor='#F0E68C')\n",
    "dot.node('E', 'Visualización\\n(Matplotlib/Plotly)', shape='tab', fillcolor='#DDA0DD')\n",
    "\n",
    "dot.edges(['AB', 'AC', 'BC'])\n",
    "dot.edge('C', 'D', label='Simulación', color='red')\n",
    "dot.edge('D', 'E', label='Animación', style='dashed')\n",
    "\n",
    "dot.render('C:/Users/marco/Descargas/STEAMS_Logic_Circuits', view=True)\n",
    "\"\"\"\n",
    "\n",
    "# 4. Contenido de clase (Integrado con código Python)\n",
    "class_content = {\n",
    "    \"Teoría\": [\n",
    "        \"Fundamentos álgebra booleana (SymPy: symbols, simplify_logic)\",\n",
    "        \"Analogías entre corriente eléctrica y flujo lógico\",\n",
    "        \"Historia de los circuitos integrados (datos en Pandas)\"\n",
    "    ],\n",
    "    \"Práctica\": [\n",
    "        \"!pip install schemdraw # Instalar en notebook\",\n",
    "        \"Crear funciones lógicas con compuertas (usar Numpy.where)\",\n",
    "        \"Animaciones de flujo eléctrico con matplotlib.animation\"\n",
    "    ]\n",
    "}\n",
    "\n",
    "# 5. Poema didáctico\n",
    "poem = \"\"\"\\\n",
    "Los circuitos hablan en sí y no,\n",
    "AND requiere dos verdades para el sí,\n",
    "OR con uno basta, es más gentil,\n",
    "NOT niega, cambia el camino sutil.\n",
    "\n",
    "Voltaje alto es True, bajo es False,\n",
    "La corriente fluye donde se le aplaque,\n",
    "Con Python modelamos este lenguaje,\n",
    "¡Lógica y código hacen buen mestizaje!\"\"\"\n",
    "```\n",
    "\n",
    "**6. Elementos históricos**:  \n",
    "- 1847: George Boole publica \"Las leyes del pensamiento\" estableciendo álgebra booleana  \n",
    "- 1937: Claude Shannon aplica lógica booleana a circuitos eléctricos en su tesis MIT  \n",
    "- 1947: Invención del transistor en Bell Labs, permitiendo implementación física  \n",
    "- 1960s: Desarrollo de circuitos integrados combinacionales (TTL series 7400)  \n",
    "\n",
    "**7. Actividades con código Python**:\n",
    "```python\n",
    "# Actividad 1: Simulación de compuerta AND con interfaz interactiva\n",
    "import ipywidgets as widgets\n",
    "from IPython.display import display\n",
    "\n",
    "def electrical_and(input1, input2):\n",
    "    return 1 if input1 and input2 else 0\n",
    "\n",
    "input1 = widgets.ToggleButton(description='Switch 1')\n",
    "input2 = widgets.ToggleButton(description='Switch 2')\n",
    "output = widgets.Output()\n",
    "\n",
    "def update_circuit(change):\n",
    "    with output:\n",
    "        print(f\"💡 Lamp state: {electrical_and(input1.value, input2.value)}\")\n",
    "\n",
    "input1.observe(update_circuit, names='value')\n",
    "input2.observe(update_circuit, names='value')\n",
    "display(widgets.VBox([input1, input2, output]))\n",
    "```\n",
    "\n",
    "**8. Evaluación**:  \n",
    "**Proyectos**:  \n",
    "1. Simular sistema de seguridad con 3 sensores usando lógica combinacional  \n",
    "2. Crear visualización interactiva de tabla de verdad con Plotly  \n",
    "3. Modelar calculadora binaria de 4 bits con circuitos lógicos  \n",
    "\n",
    "**Quiz Ejemplo**:  \n",
    "```python\n",
    "quiz = {\n",
    "    \"Pregunta 1\": \"¿Qué compuerta equivale a dos interruptores en serie?\",\n",
    "    \"Pregunta 2\": \"Generar tabla de verdad para XOR usando Pandas\"\n",
    "}\n",
    "```\n",
    "\n",
    "**9. Tarea**:  \n",
    "```python\n",
    "hw = \"\"\"\n",
    "1. Implementar función Python para NAND usando solo operadores básicos\n",
    "2. Crear diagrama circuito eléctrico equivalente a XOR usando SchemDraw\n",
    "3. Analizar dataset histórico de integración transistores/chip (Usar Seaborn)\"\"\"\n",
    "```\n",
    "\n",
    "**10. Retroalimentación**:  \n",
    "Usar widget de calificación por pares con:\n",
    "```python\n",
    "widgets.RadioButtons(options=['Sobresaliente', 'Competente', 'En desarrollo'])\n",
    "```\n",
    "\n",
    "**11. Vocabulario inglés**:  \n",
    "```python\n",
    "english_vocab = {\n",
    "    \"Terms\": [\"Truth Table\", \"Boolean Algebra\", \"Logic Gate\", \"Circuit Diagram\"],\n",
    "    \"Phrases\": [\n",
    "        \"The current flows when both switches are closed (AND logic)\",\n",
    "        \"We can represent logical operations with electrical components\"\n",
    "    ]\n",
    "}\n",
    "```\n",
    "\n",
    "Este diseño integra:  \n",
    "- Experimentación con `ipywidgets` para simulaciones interactivas  \n",
    "- Visualizaciones dinámicas con `Plotly` y animaciones  \n",
    "- Análisis histórico con `Pandas` y `Seaborn`  \n",
    "- Modelado matemático con `SymPy`  \n",
    "- Integración STEAMS mediante conexiones arte-ciencia en visualizaciones  \n",
    "\n",
    "Para implementar:  \n",
    "1. Crear Jupyter Notebook con celdas para cada sección  \n",
    "2. Ejecutar código Graphviz para generar mapa conceptual  \n",
    "3. Usar `%%writefile circuit_simulator.py` para crear módulo reusable  \n",
    "4. Implementar sistema de logging con decoradores para depurar funciones"
   ]
  },
  {
   "cell_type": "markdown",
   "id": "fb9402bb",
   "metadata": {
    "slideshow": {
     "slide_type": "slide"
    }
   },
   "source": [
    "## Estrategias propuestas para la solución de las dificultades de aprendizaje detectadas"
   ]
  },
  {
   "cell_type": "markdown",
   "id": "2dd3bd5c",
   "metadata": {
    "slideshow": {
     "slide_type": "slide"
    }
   },
   "source": []
  },
  {
   "cell_type": "markdown",
   "id": "c6236d5d",
   "metadata": {},
   "source": [
    "# FODA del grupo y del profesor  \n",
    "\n",
    "* F: Fortalezas\n",
    "* O: Oportunidades\n",
    "* D: Dificultades\n",
    "* A: Amenazas."
   ]
  },
  {
   "cell_type": "markdown",
   "id": "b48f9542",
   "metadata": {},
   "source": [
    "## ¿Cómo se sintió en este espacio de enseñanza y aprendizaje?\n",
    "\n",
    "!Dios te bendiga¡"
   ]
  },
  {
   "cell_type": "markdown",
   "id": "10bce0d0",
   "metadata": {
    "slideshow": {
     "slide_type": "slide"
    }
   },
   "source": [
    "## Referentes "
   ]
  },
  {
   "cell_type": "markdown",
   "id": "d204c917",
   "metadata": {},
   "source": [
    "* [Grajales Vanegas, L. M., Restrepo Estrada, C. E., Restrepo Ochoa, S. I., & Ruíz De Villalba, F. (2015). Matemáticas I para las ciencias económicas.](https://github.com/marco-canas/fundamentos_de_la_aritmetica/blob/main/referentes/2_grajales_logica/grajales_lina_matemticas.pdf)\n",
    "  \n",
    "* Duval, R. (2004). Semiosis y pensamiento humano: registros semióticos y aprendizajes intelectuales. Universidad del Valle.\n",
    "\n",
    "* [Aylwin, C. U. (2011). Lógica, conjuntos y números. Universidad de los Andes, Consejo de Publicaciones, Colección: Ciencias Básicas, Serie: Matemáticas.](https://github.com/marco-canas/fundamentos_logica/blob/main/referentes/2_uzcategui/uscategui.pdf)\n",
    "  \n",
    "* [Chollet, F. (2021). Deep learning with Python. Simon and Schuster.](https://github.com/marco-canas/didactica_ciencia_datos/blob/main/2_referentes/chollet/Fran%C3%A7ois%20Chollet%20-%20Deep%20Learning%20with%20Python-Manning%20(2018).pdf)  \n",
    "  \n",
    "* [Watson, S., Stewart, J., & Redlin, L. (2009). Precálculo. Matemáticas para el cálculo.](https://github.com/marco-canas/calculo/blob/main/referents/1_precalculo_stewart/stewart_precalculo.pdf)  \n",
    "\n",
    "* [Purcell, E. J., Varberg, D., & Rigdon, S. E. (2007). Cálculo diferencial e integral. Pearson Educación.](https://github.com/marco-canas/calculo/blob/main/referents/purcell/purcell_calculo.pdf)\n",
    "\n",
    "  \n",
    "\n",
    "* [stewart cálculo](https://udeaeduco-my.sharepoint.com/:b:/g/personal/marco_canas_udea_edu_co/EZgXZjAp8QxPqOAim2hs6LcBNPLGjSHf-xwYnUVYkwa04w?e=RZdTCy)  \n",
    "\n",
    "* [larson](https://udeaeduco-my.sharepoint.com/:b:/g/personal/marco_canas_udea_edu_co/ES71ChFeO9ZDhW3TwC5Ijk8BjxUK3Pdqz_fjHxTTFAfIAg?e=VDEjfu)\n",
    "\n",
    "\n",
    "\n",
    "* [Recomendación de la UNESCO sobre ciencia abierta](https://unesdoc.unesco.org/ark:/48223/pf0000379949_spa)\n",
    "\n",
    "* [chatGPT](https://openai.com/blog/chatgpt)  \n",
    "\n",
    "* [Géron, A. (2017). Hands-on machine learning with scikit-learn and tensorflow: Concepts. Tools, and Techniques to build intelligent systems.](chrome-extension://efaidnbmnnnibpcajpcglclefindmkaj/http://14.139.161.31/OddSem-0822-1122/Hands-On_Machine_Learning_with_Scikit-Learn-Keras-and-TensorFlow-2nd-Edition-Aurelien-Geron.pdf)   \n"
   ]
  },
  {
   "cell_type": "markdown",
   "id": "6b9e56a8",
   "metadata": {
    "slideshow": {
     "slide_type": "slide"
    }
   },
   "source": [
    "### [Evaluamos al profesor Marco Cañas Aquí](https://forms.office.com/Pages/ResponsePage.aspx?id=IefhmYRxjkmK_7KtTlPBwkanXIs1i1FEujpsZgO6dXpUREJPV1kxUk1JV1ozTFJIQVNIQjY5WEY3US4u)"
   ]
  },
  {
   "cell_type": "markdown",
   "id": "071afa04",
   "metadata": {
    "slideshow": {
     "slide_type": "slide"
    }
   },
   "source": [
    "## [Evaluación luego de alcanzar estos objetivos de aprendizaje]()"
   ]
  },
  {
   "cell_type": "markdown",
   "id": "10f43536",
   "metadata": {
    "slideshow": {
     "slide_type": "slide"
    }
   },
   "source": [
    "### Continue su aprendizaje en la siguiente clase a través del siguiente [vínculo]()"
   ]
  },
  {
   "cell_type": "markdown",
   "id": "af751e30",
   "metadata": {
    "slideshow": {
     "slide_type": "slide"
    }
   },
   "source": [
    "# Conjeturas pedagógicas fruto de la aplicación del modelo de aprendizaje invertido y del enfoque hacia la ciencia de datos con python\n",
    "\n",
    "1. Todo cálculo o resultado debe ser interpretado en una línea markdown del cuaderno Jupyter, inmediatamente después de la enunciación del resultado y después de la presentación de una tabla o gráfico bidimensional, de tal menera que el estudiante explicite la comprensión verbal del resultado y las inferencias o estrategias que este resultado le sugieren.   "
   ]
  }
 ],
 "metadata": {
  "celltoolbar": "Slideshow",
  "kernelspec": {
   "display_name": "Python 3 (ipykernel)",
   "language": "python",
   "name": "python3"
  },
  "language_info": {
   "codemirror_mode": {
    "name": "ipython",
    "version": 3
   },
   "file_extension": ".py",
   "mimetype": "text/x-python",
   "name": "python",
   "nbconvert_exporter": "python",
   "pygments_lexer": "ipython3",
   "version": "3.10.12"
  },
  "rise": {
   "enable_chalkboard": true,
   "theme": "sky",
   "transition": "zoom"
  }
 },
 "nbformat": 4,
 "nbformat_minor": 5
}
