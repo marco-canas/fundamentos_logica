{
 "cells": [
  {
   "cell_type": "markdown",
   "id": "dc06dec7",
   "metadata": {
    "slideshow": {
     "slide_type": "slide"
    }
   },
   "source": [
    "<table align=\"left\">\n",
    "  <td>\n",
    "    <a href=\"https://colab.research.google.com/github/marco-canas/fundamentos_logica/blob/main/referentes/1_grajales_lina/1_logica_matematica_y_teoria_de_conjuntos/1_logica_matematica/3_tablas_de_verdad/1_tablas_de_verdad.ipynb\" target=\"_parent\"><img src=\"https://colab.research.google.com/assets/colab-badge.svg\" alt=\"Open In Colab\"/></a>\n",
    "  </td>\n",
    "  <td>\n",
    "    <a target=\"_blank\" href=\"https://kaggle.com/kernels/welcome?src=https://github.com/marco-canas/fundamentos_logica/blob/main/referentes/1_grajales_lina/1_logica_matematica_y_teoria_de_conjuntos/1_logica_matematica/3_tablas_de_verdad/1_tablas_de_verdad.ipynb\"><img src=\"https://kaggle.com/static/images/open-in-kaggle.svg\" /></a>\n",
    "  </td>\n",
    "</table>"
   ]
  },
  {
   "cell_type": "markdown",
   "id": "e0c5b198",
   "metadata": {
    "slideshow": {
     "slide_type": "slide"
    }
   },
   "source": [
    "### [Video de apoyo a la lectura interactiva y experimental de este cuaderno](https://www.youtube.com/watch?v=e0ukFHQdPAY)"
   ]
  },
  {
   "cell_type": "markdown",
   "id": "41e82203",
   "metadata": {
    "slideshow": {
     "slide_type": "slide"
    }
   },
   "source": [
    "## [Vínculo al programa del curso de fundamentos de la Lógica:](https://github.com/marco-canas/fundamentos_logica/blob/main/programa_curso_fundamentos_logica_profesor_marco_canas_caucasia.docx)\n",
    "\n"
   ]
  },
  {
   "cell_type": "markdown",
   "id": "d11ab06d",
   "metadata": {
    "slideshow": {
     "slide_type": "slide"
    }
   },
   "source": [
    "Un reconocimiento a mis estudiantes que han construido conmigo este saber pedagógico:\n",
    "\n",
    "<img src = ''> \n",
    "\n"
   ]
  },
  {
   "cell_type": "code",
   "execution_count": 1,
   "id": "7604880f",
   "metadata": {
    "slideshow": {
     "slide_type": "slide"
    }
   },
   "outputs": [
    {
     "name": "stdout",
     "output_type": "stream",
     "text": [
      "Llamando a ROSILLO TEJADA VANESA...\n",
      "Cambios guardados en el archivo CSV.\n",
      "Llamando a QUINONEZ CERVANTES MARIANA...\n"
     ]
    }
   ],
   "source": [
    "import pandas as pd\n",
    "import numpy as np\n",
    "\n",
    "# Cargar la lista de estudiantes desde la URL\n",
    "path = '/home/marco/Documentos/docencia/groups_list/fundamentos_logica.csv'\n",
    "estudiantes = pd.read_csv(path)\n",
    "estudiantes['Parcial'] = estudiantes['Parcial'].astype(float) # hacer que todos los valores de la columna Parcial seen de tipo float\n",
    "\n",
    "# Convertir la columna 'Nombre' a una lista de Python\n",
    "lista_estudiantes = estudiantes['Nombre'].tolist()\n",
    "\n",
    "# Función para llamar a un estudiante aleatoriamente y registrar su nota de seguimiento\n",
    "def asistencia():\n",
    "    if lista_estudiantes:\n",
    "        estudiante_aleatorio = np.random.choice(lista_estudiantes)\n",
    "        print(f\"Llamando a {estudiante_aleatorio}...\")\n",
    "        asistencia = input(f\"¿Asistió {estudiante_aleatorio}? (s/n): \").strip().lower()\n",
    "        \n",
    "        if asistencia == 's':\n",
    "            # Obtener el índice del estudiante en el DataFrame\n",
    "            indice = estudiantes[estudiantes['Nombre'] == estudiante_aleatorio].index[0]\n",
    "            # Incrementar su valor en la columna 'Parcial'\n",
    "            estudiantes.at[indice, 'Parcial'] += 0.01\n",
    "            print(f\"Actualizado: {estudiante_aleatorio} ahora tiene {estudiantes.at[indice, 'Parcial']} en la columna 'Parcial'.\")\n",
    "        \n",
    "        lista_estudiantes.remove(estudiante_aleatorio)\n",
    "    else:\n",
    "        print(\"Se han llamado a todos los estudiantes del grupo completo.\")\n",
    "\n",
    "# Guardar los cambios en el archivo CSV\n",
    "def guardar_cambios():\n",
    "    estudiantes.to_csv(path, index=False)\n",
    "    print(\"Cambios guardados en el archivo CSV.\")\n",
    "\n",
    "# Ejemplo de uso\n",
    "while lista_estudiantes:\n",
    "    asistencia()\n",
    "    guardar_cambios()\n",
    "\n",
    "\n"
   ]
  },
  {
   "cell_type": "code",
   "execution_count": 8,
   "id": "d60b2bf1",
   "metadata": {},
   "outputs": [
    {
     "name": "stdout",
     "output_type": "stream",
     "text": [
      "Llamando a AYALA MENDOZA MARISOL YACIRA...\n"
     ]
    }
   ],
   "source": [
    "\n",
    "# Llamar a la función para realizar el proceso\n",
    "asistencia()\n"
   ]
  },
  {
   "cell_type": "markdown",
   "id": "4f9d8cf9",
   "metadata": {
    "slideshow": {
     "slide_type": "slide"
    }
   },
   "source": [
    "# Modelo general de clase: [aula invertida](https://www3.gobiernodecanarias.org/medusa/ecoescuela/pedagotic/aprendizaje-invertido-flipped-classroom/)"
   ]
  },
  {
   "cell_type": "markdown",
   "id": "eb6ed03a",
   "metadata": {},
   "source": [
    "![Definamos flipped learning de manera gráfica](https://resources.maneuveringthemiddle.com/wp-content/uploads/2020/07/04212706/1-5.png)"
   ]
  },
  {
   "cell_type": "markdown",
   "id": "8d97dc80",
   "metadata": {
    "slideshow": {
     "slide_type": "slide"
    }
   },
   "source": [
    "## Fomento de la lectura literaria asociada a Ingeniería agropecuaria y licenciatura en Matemáticas\n",
    "\n",
    "[El arte de aprender a negociar](https://github.com/marco-canas/el_arte_de_aprender_a_negociar/blob/main/Fisher-Roger-Obtenga-El-Si-psicologia.pdf)"
   ]
  },
  {
   "cell_type": "markdown",
   "id": "96775931",
   "metadata": {
    "slideshow": {
     "slide_type": "slide"
    }
   },
   "source": [
    "## Título de la clase: Tablas de verdad  \n",
    "\n",
    "[]()"
   ]
  },
  {
   "cell_type": "markdown",
   "id": "1d38dd4e",
   "metadata": {
    "slideshow": {
     "slide_type": "slide"
    }
   },
   "source": [
    "### Objetivo de aprendizaje (Enunciar, de manera corta sencilla y clara para todos los asistentes)  \n",
    "\n",
    " De ahora en adelante, las clase tendran 4 objetivos de clase de acuerdo a las 4 dimensiones de mi práctica pedagógica\n",
    "\n",
    " * Que el estudiante aprenda a verificar valores de verdad de proposiciones compuestas\n",
    " * Que aprende a estructurar su manera de expresarse utilizando el lenguaje de la lógica matemática\n"
   ]
  },
  {
   "cell_type": "markdown",
   "id": "8853d874",
   "metadata": {},
   "source": [
    "## El componente histórico y epistemológico"
   ]
  },
  {
   "cell_type": "markdown",
   "id": "34986bae",
   "metadata": {},
   "source": [
    "La enseñanza de las \"Tablas de Verdad\" en un curso de fundamentos de lógica es fundamental para desarrollar el pensamiento lógico y formal en futuros licenciados de matemáticas. A continuación, te presento elementos históricos y epistemológicos clave asociados a este concepto:\n"
   ]
  },
  {
   "cell_type": "markdown",
   "id": "29eb14dd",
   "metadata": {},
   "source": [
    "\n",
    "### Elementos Históricos\n",
    "\n",
    "1. **Aristóteles y la Lógica Clásica**: La lógica formal tiene sus raíces en los trabajos de Aristóteles (384-322 a.C.), quien es considerado el padre de la lógica. Su obra \"Órganon\" sentó las bases de la lógica silogística, aunque no utilizó tablas de verdad, su desarrollo del razonamiento lógico influyó en la posterior formalización de las tablas de verdad.\n"
   ]
  },
  {
   "cell_type": "markdown",
   "id": "d88a13dc",
   "metadata": {},
   "source": [
    "\n",
    "2. **George Boole y la Lógica Matemática**: En el siglo XIX, George Boole (1815-1864) desarrolló la lógica algebraica, que más tarde se conocería como álgebra de Boole. Su obra \"An Investigation of the Laws of Thought\" (1854) estableció un sistema algebraico para la lógica que permitió la manipulación formal de proposiciones lógicas y allanó el camino para el desarrollo de las tablas de verdad.\n",
    "\n",
    "3. **Frege y la Lógica Proposicional**: Gottlob Frege (1848-1925) fue un pionero en la lógica moderna y la filosofía del lenguaje. Su obra \"Begriffsschrift\" (1879) introdujo una notación formal para expresar proposiciones lógicas y relaciones entre ellas, lo cual es un precursor directo de la lógica proposicional moderna y, por ende, de las tablas de verdad.\n"
   ]
  },
  {
   "cell_type": "markdown",
   "id": "4718f90f",
   "metadata": {},
   "source": [
    "\n",
    "4. **Lukasiewicz y la Formalización de las Tablas de Verdad**: Jan Łukasiewicz (1878-1956) fue un lógico polaco que introdujo la notación polaca inversa y contribuyó significativamente a la formalización de las tablas de verdad en la lógica proposicional. Su trabajo en lógica de muchos valores extendió el concepto de las tablas de verdad más allá del valor bivalente.\n"
   ]
  },
  {
   "cell_type": "markdown",
   "id": "420d4df1",
   "metadata": {},
   "source": [
    "\n",
    "5. **Desarrollo en la Lógica Computacional**: A lo largo del siglo XX, el concepto de tablas de verdad se convirtió en una herramienta central en la lógica computacional y la teoría de la información, influyendo en el diseño de circuitos lógicos y en la programación informática.\n"
   ]
  },
  {
   "cell_type": "markdown",
   "id": "3d7e16de",
   "metadata": {},
   "source": [
    "\n",
    "### Elementos Epistemológicos\n",
    "\n",
    "1. **Formalización del Razonamiento**: Epistemológicamente, las tablas de verdad representan un paso crítico en la formalización del razonamiento lógico. Permiten a los estudiantes estructurar y verificar de manera sistemática la validez de proposiciones lógicas, proporcionando una base tangible para la abstracción matemática.\n",
    "\n",
    "2. **Descomposición de Proposiciones**: Las tablas de verdad permiten la descomposición de proposiciones complejas en sus componentes más simples. Esto facilita la comprensión de cómo se combinan las proposiciones mediante conectores lógicos (como \"y\", \"o\", \"no\", etc.) para formar nuevas proposiciones, y cómo estos conectores afectan la verdad o falsedad de la proposición compuesta.\n"
   ]
  },
  {
   "cell_type": "markdown",
   "id": "bfe4ffae",
   "metadata": {},
   "source": [
    "\n",
    "3. **Bivalencia y Principio de Contradicción**: Las tablas de verdad se basan en la lógica bivalente, donde cada proposición puede ser verdadera o falsa, pero no ambas. Este principio de bivalencia y el principio de no contradicción son pilares epistemológicos de la lógica clásica, proporcionando un marco para la consistencia lógica y el análisis riguroso.\n"
   ]
  },
  {
   "cell_type": "markdown",
   "id": "7456263d",
   "metadata": {},
   "source": [
    "\n",
    "4. **Instrumento Pedagógico**: Desde un punto de vista pedagógico, las tablas de verdad son una herramienta poderosa para enseñar lógica, ya que proporcionan un método visual y sistemático para evaluar la validez de proposiciones y argumentos. Esto facilita el desarrollo del pensamiento crítico y analítico en los estudiantes.\n",
    "\n",
    "5. **Fundamentos para el Aprendizaje Posterior**: El estudio de las tablas de verdad en un curso de fundamentos de lógica prepara a los estudiantes para abordar temas más avanzados en matemáticas y computación, como la teoría de conjuntos, la lógica de predicados, y la lógica computacional. También establece una base sólida para la resolución de problemas y el diseño de algoritmos.\n"
   ]
  },
  {
   "cell_type": "markdown",
   "id": "e3741317",
   "metadata": {},
   "source": [
    "\n",
    "6. **Interconexión con Otras Áreas de la Matemática**: Las tablas de verdad no solo son fundamentales en la lógica, sino que también tienen aplicaciones en álgebra, combinatoria, y teoría de la computación. Esta interconexión refuerza la importancia de la lógica como una herramienta central en las matemáticas.\n"
   ]
  },
  {
   "cell_type": "markdown",
   "id": "829de8e2",
   "metadata": {},
   "source": [
    "\n",
    "### Conclusión\n",
    "\n",
    "Enseñar tablas de verdad en un curso de fundamentos de lógica no solo proporciona a los futuros licenciados en matemáticas una herramienta técnica esencial, sino que también los introduce a una forma de pensar estructurada y rigurosa que es fundamental para la disciplina. Al entender los elementos históricos y epistemológicos, los estudiantes pueden apreciar mejor la profundidad y la importancia de la lógica en las matemáticas y en otras disciplinas científicas."
   ]
  },
  {
   "cell_type": "markdown",
   "id": "e3ffa494",
   "metadata": {},
   "source": [
    "# Vocabulary   \n",
    "\n",
    "1. Not: no  \n",
    "2. Or: o   \n",
    "3. And: y   \n",
    "4. Implies: Implica  \n",
    "5. Biconditional: bicondicional. "
   ]
  },
  {
   "cell_type": "code",
   "execution_count": 4,
   "id": "6ff395c3",
   "metadata": {},
   "outputs": [],
   "source": [
    "# Traducción del inglés al español con python\n",
    "\n",
    "def traducir(texto):\n",
    "    from googletrans import Translator\n",
    "\n",
    "    translator = Translator() # instancia la clase \n",
    "\n",
    "    # Traducir al español\n",
    "    translation = translator.translate(texto, src='en', dest='es')\n",
    "    return translation.text"
   ]
  },
  {
   "cell_type": "code",
   "execution_count": 5,
   "id": "b583f414-ac87-4912-8a86-b338234d83d7",
   "metadata": {},
   "outputs": [
    {
     "data": {
      "text/plain": [
       "'Hola'"
      ]
     },
     "execution_count": 5,
     "metadata": {},
     "output_type": "execute_result"
    }
   ],
   "source": [
    "traducir('Hi')"
   ]
  },
  {
   "cell_type": "code",
   "execution_count": 21,
   "id": "bc0addfe",
   "metadata": {},
   "outputs": [
    {
     "data": {
      "text/plain": [
       "'/home/marco/Documentos/docencia/fundamentos_logica/images/images_of_referents/images_lina_grajales_matematicas_I/1_logica_matematica/Tablas de Verdad.pdf'"
      ]
     },
     "execution_count": 21,
     "metadata": {},
     "output_type": "execute_result"
    }
   ],
   "source": [
    "# mapa conceptual para la clase sobre tablas de verdad\n",
    "from graphviz import Digraph\n",
    "\n",
    "# Crear un nuevo grafo dirigido\n",
    "dot = Digraph()\n",
    "\n",
    "# Definir los conceptos clave de la clase\n",
    "main_concept = 'Tablas de Verdad'\n",
    "concept_b = 'Operadores Lógicos'\n",
    "concept_c = 'Variables Lógicas'\n",
    "concept_d = 'Conjunciones'\n",
    "concept_e = 'Disyunciones'\n",
    "concept_f = 'Implicaciones'\n",
    "concept_g = 'Bicondicionales'\n",
    "concept_h = 'Negaciones'\n",
    "concept_i = 'Estructura de la Tabla de Verdad'\n",
    "concept_j = 'Combinaciones de Valores'\n",
    "\n",
    "# Añadir nodos y relaciones al grafo\n",
    "dot.node('A', main_concept)\n",
    "dot.node('B', concept_b)\n",
    "dot.node('C', concept_c)\n",
    "dot.node('D', concept_d)\n",
    "dot.node('E', concept_e)\n",
    "dot.node('F', concept_f)\n",
    "dot.node('G', concept_g)\n",
    "dot.node('H', concept_h)\n",
    "dot.node('I', concept_i)\n",
    "dot.node('J', concept_j)\n",
    "\n",
    "# Definir las relaciones entre los conceptos\n",
    "dot.edges(['AB'])\n",
    "dot.edges(['AC'])\n",
    "dot.edges(['BD', 'BH'])\n",
    "dot.edges(['BE'])\n",
    "dot.edges(['BF'])\n",
    "dot.edges(['BG'])\n",
    "dot.edges(['CI'])\n",
    "dot.edges(['IJ'])\n",
    "\n",
    "# Guardar el grafo como un archivo de imagen\n",
    "dot.render(filename=main_concept, format='png', cleanup=True, \\\n",
    "           directory='/home/marco/Documentos/docencia/fundamentos_logica/images/images_of_referents/images_lina_grajales_matematicas_I/1_logica_matematica')\n",
    "\n",
    "dot.view()\n"
   ]
  },
  {
   "cell_type": "markdown",
   "id": "742d26e5",
   "metadata": {},
   "source": [
    "# Mi modelo epistemológico y didáctico seguido en esta clase"
   ]
  },
  {
   "cell_type": "markdown",
   "id": "d887cbf6",
   "metadata": {},
   "source": [
    "Enseñar lógica matemática describiendo las tablas de verdad desde su construcción con Python sugiere un enfoque didáctico basado en el **Constructivismo Epistemológico**, complementado con principios del **Enfoque Socio-constructivista** y la **Pedagogía del Aprendizaje Basado en Problemas (ABP)**. Aquí te explico por qué:\n"
   ]
  },
  {
   "cell_type": "markdown",
   "id": "8c34accd",
   "metadata": {},
   "source": [
    "\n",
    "### 1. **Constructivismo Epistemológico**:\n",
    "   - **Descripción**: El constructivismo epistemológico sostiene que el conocimiento no se recibe pasivamente; en cambio, es construido activamente por el estudiante a través de su interacción con el entorno. En este caso, el entorno es el lenguaje Python, que actúa como una herramienta mediadora en la construcción del conocimiento lógico.\n",
    "   - **Justificación**: Al usar Python para construir tablas de verdad, los estudiantes no solo aprenden los principios lógicos de manera abstracta, sino que también los experimentan y verifican activamente. Al programar y ver los resultados, los estudiantes construyen su comprensión de cómo las operaciones lógicas funcionan en diferentes escenarios, lo que refuerza su comprensión de la lógica matemática.\n"
   ]
  },
  {
   "cell_type": "markdown",
   "id": "3dec0e4e",
   "metadata": {},
   "source": [
    "\n",
    "### 2. **Enfoque Socio-constructivista**:\n",
    "   - **Descripción**: Este enfoque se basa en la idea de que el aprendizaje es un proceso social y cultural, donde el conocimiento es co-construido a través de la interacción con otros y con herramientas culturales, como el lenguaje y la tecnología.\n",
    "   - **Justificación**: Utilizar Python en la enseñanza de la lógica introduce a los estudiantes en una comunidad de práctica que utiliza la programación como una herramienta para explorar conceptos matemáticos. Además, la colaboración entre estudiantes al resolver problemas y compartir código refuerza el aprendizaje colectivo, permitiendo que el conocimiento se construya de manera social.\n"
   ]
  },
  {
   "cell_type": "markdown",
   "id": "01838692",
   "metadata": {},
   "source": [
    "\n",
    "### 3. **Pedagogía del Aprendizaje Basado en Problemas (ABP)**:\n",
    "   - **Descripción**: El ABP es una estrategia didáctica en la que los estudiantes aprenden a través de la resolución de problemas relevantes y contextuales, que les permiten aplicar sus conocimientos y habilidades para encontrar soluciones.\n",
    "   - **Justificación**: Al diseñar ejercicios de lógica donde los estudiantes deben programar tablas de verdad en Python, se les presenta un problema práctico que deben resolver. Esto no solo les ayuda a comprender mejor los conceptos teóricos, sino que también les permite desarrollar habilidades prácticas en programación y lógica. El proceso de codificación y depuración del código también refuerza el aprendizaje a través del ensayo y error.\n"
   ]
  },
  {
   "cell_type": "markdown",
   "id": "3cc28059",
   "metadata": {},
   "source": [
    "\n",
    "### Resumen:\n",
    "En este enfoque didáctico, los estudiantes construyen activamente su conocimiento (Constructivismo Epistemológico), colaboran y aprenden en un contexto social y cultural (Socio-constructivismo), y aplican su conocimiento en la resolución de problemas prácticos (ABP). Este modelo fomenta una comprensión profunda y aplicada de la lógica matemática, mientras integra habilidades de programación que son esenciales en el contexto actual."
   ]
  },
  {
   "cell_type": "markdown",
   "id": "10e55ccf",
   "metadata": {},
   "source": [
    "# Tablas de verdad"
   ]
  },
  {
   "cell_type": "markdown",
   "id": "239427f7",
   "metadata": {},
   "source": [
    "Puedes presentar tablas de verdad para conectores lógicos usando Python con la ayuda de bibliotecas como `pandas` y `numpy`. Aquí te dejo un ejemplo sencillo de cómo hacerlo:\n"
   ]
  },
  {
   "cell_type": "markdown",
   "id": "cfb1063b",
   "metadata": {},
   "source": [
    "Se recomienda utilizar métodos, como `pd.concat()` o `DataFrame.loc[]` para agregar filas a un DataFrame. Te sugiero una solución que utiliza `DataFrame.loc[]` para agregar las filas una por una.\n"
   ]
  },
  {
   "cell_type": "code",
   "execution_count": 27,
   "id": "a611126d",
   "metadata": {},
   "outputs": [
    {
     "name": "stdout",
     "output_type": "stream",
     "text": [
      "Tabla de verdad para los conectores lógicos:\n"
     ]
    },
    {
     "data": {
      "text/html": [
       "<div>\n",
       "<style scoped>\n",
       "    .dataframe tbody tr th:only-of-type {\n",
       "        vertical-align: middle;\n",
       "    }\n",
       "\n",
       "    .dataframe tbody tr th {\n",
       "        vertical-align: top;\n",
       "    }\n",
       "\n",
       "    .dataframe thead th {\n",
       "        text-align: right;\n",
       "    }\n",
       "</style>\n",
       "<table border=\"1\" class=\"dataframe\">\n",
       "  <thead>\n",
       "    <tr style=\"text-align: right;\">\n",
       "      <th></th>\n",
       "      <th>p</th>\n",
       "      <th>q</th>\n",
       "      <th>p \\land q</th>\n",
       "      <th>p \\lor q</th>\n",
       "      <th>p \\rightarrow q</th>\n",
       "      <th>p \\leftrightarrow q</th>\n",
       "    </tr>\n",
       "  </thead>\n",
       "  <tbody>\n",
       "    <tr>\n",
       "      <th>0</th>\n",
       "      <td>True</td>\n",
       "      <td>True</td>\n",
       "      <td>True</td>\n",
       "      <td>True</td>\n",
       "      <td>True</td>\n",
       "      <td>True</td>\n",
       "    </tr>\n",
       "    <tr>\n",
       "      <th>1</th>\n",
       "      <td>True</td>\n",
       "      <td>False</td>\n",
       "      <td>False</td>\n",
       "      <td>True</td>\n",
       "      <td>False</td>\n",
       "      <td>False</td>\n",
       "    </tr>\n",
       "    <tr>\n",
       "      <th>2</th>\n",
       "      <td>False</td>\n",
       "      <td>True</td>\n",
       "      <td>False</td>\n",
       "      <td>True</td>\n",
       "      <td>True</td>\n",
       "      <td>False</td>\n",
       "    </tr>\n",
       "    <tr>\n",
       "      <th>3</th>\n",
       "      <td>False</td>\n",
       "      <td>False</td>\n",
       "      <td>False</td>\n",
       "      <td>False</td>\n",
       "      <td>True</td>\n",
       "      <td>True</td>\n",
       "    </tr>\n",
       "  </tbody>\n",
       "</table>\n",
       "</div>"
      ],
      "text/plain": [
       "       p      q p \\land q p \\lor q p \\rightarrow q p \\leftrightarrow q\n",
       "0   True   True      True     True            True                True\n",
       "1   True  False     False     True           False               False\n",
       "2  False   True     False     True            True               False\n",
       "3  False  False     False    False            True                True"
      ]
     },
     "execution_count": 27,
     "metadata": {},
     "output_type": "execute_result"
    }
   ],
   "source": [
    "import pandas as pd\n",
    "\n",
    "\n",
    "# Definir los valores de las variables lógicas\n",
    "valores = [True, False]\n",
    "\n",
    "# Crear un DataFrame vacío para almacenar la tabla de verdad\n",
    "tabla_verdad = pd.DataFrame(columns=[\"p\", \"q\", \"p \\land q\", \"p \\lor q\",\\\n",
    "                                      \"p \\rightarrow q\", \"p \\leftrightarrow q\"])\n",
    "\n",
    "# Llenar el DataFrame con los valores de la tabla de verdad\n",
    "for p in valores:\n",
    "    for q in valores:\n",
    "        fila = {\n",
    "            \"p\": p,\n",
    "            \"q\": q,\n",
    "            \"p \\land q\": p and q,\n",
    "            \"p \\lor q\": p or q,\n",
    "            \"p \\rightarrow q\": not p or q,\n",
    "            \"p \\leftrightarrow q\": p == q\n",
    "        }\n",
    "        tabla_verdad = pd.concat([tabla_verdad, pd.DataFrame([fila])], ignore_index=True)\n",
    "\n",
    "print(\"Tabla de verdad para los conectores lógicos:\")\n",
    "tabla_verdad\n"
   ]
  },
  {
   "cell_type": "markdown",
   "id": "508117c2",
   "metadata": {},
   "source": [
    "\n",
    "Este código hace lo siguiente:\n",
    "\n",
    "1. Define los valores de las variables lógicas (`True`, `False`).\n",
    "2. Crea un DataFrame vacío con las columnas correspondientes a las proposiciones y sus conectores lógicos.\n",
    "3. En el ciclo, para cada combinación de `p` y `q`, se crea un diccionario `fila` con los valores correspondientes a las expresiones lógicas.\n",
    "4. Se agrega la fila al DataFrame `tabla_verdad` utilizando `pd.concat()` con `ignore_index=True` para mantener el índice continuo.\n",
    "5. Finalmente, se imprime la tabla de verdad resultante.\n",
    "\n",
    "Este enfoque es más eficiente y compatible con las versiones más recientes de pandas."
   ]
  },
  {
   "cell_type": "markdown",
   "id": "ec048afb",
   "metadata": {},
   "source": [
    "# Secuencia de Tareas para lograr aprender a construir scrips para tablas de verdad con python  \n"
   ]
  },
  {
   "cell_type": "markdown",
   "id": "976b226b",
   "metadata": {},
   "source": [
    "\n",
    "Para que los estudiantes lleguen a comprender y adquirir la habilidad de codificación necesaria para escribir un código como el que has proporcionado, te sugiero la siguiente secuencia de ejercicios y tareas, organizados en fases progresivas. Esta secuencia se enfoca en desarrollar la comprensión tanto de los conceptos lógicos como de las habilidades de programación en Python.\n"
   ]
  },
  {
   "cell_type": "markdown",
   "id": "1a09df4d",
   "metadata": {},
   "source": [
    "\n",
    "### **Fase 1: Comprensión de Conceptos Lógicos y Tablas de Verdad**\n",
    "1. **Ejercicio 1: Introducción a las Operaciones Lógicas**\n",
    "   - **Objetivo**: Familiarizarse con los operadores lógicos (`AND`, `OR`, `NOT`, `IMPLIES`, `BICONDITIONAL`).\n",
    "   - **Actividad**: Escribir a mano las tablas de verdad de las operaciones lógicas básicas (AND, OR, NOT, →, ↔) para diferentes combinaciones de P y Q.\n"
   ]
  },
  {
   "cell_type": "code",
   "execution_count": 38,
   "id": "8c2e06ad",
   "metadata": {},
   "outputs": [
    {
     "data": {
      "text/plain": [
       "(False, False, True, False, False)"
      ]
     },
     "execution_count": 38,
     "metadata": {},
     "output_type": "execute_result"
    }
   ],
   "source": [
    "from sympy import * \n",
    "from sympy.logic.boolalg import And, Or, Not, Implies, Equivalent \n",
    "\n",
    "p,q = var('p, q')\n",
    "\n",
    "p, q = True, False\n",
    "\n",
    "And(p,q), Not(p), Or(p,q), Implies(p,q), Equivalent(p,q)\n",
    "\n"
   ]
  },
  {
   "cell_type": "markdown",
   "id": "815389cd",
   "metadata": {},
   "source": [
    "\n",
    "2. **Ejercicio 2: Evaluación de Proposiciones Lógicas**\n",
    "   - **Objetivo**: Desarrollar la capacidad para evaluar proposiciones lógicas.\n",
    "   - **Actividad**: Dado un conjunto de proposiciones lógicas, determinar su valor de verdad para todas las combinaciones posibles de P y Q. Ejemplo: `¬P ∨ Q`, `P ∧ ¬Q`.\n"
   ]
  },
  {
   "cell_type": "markdown",
   "id": "2fc42129",
   "metadata": {},
   "source": [
    "\n",
    "### **Fase 2: Introducción a Python y Manipulación de Datos**\n",
    "3. **Ejercicio 3: Introducción a Python**\n",
    "   - **Objetivo**: Familiarizarse con los fundamentos de Python.\n",
    "   - **Actividad**: Escribir un código simple que defina variables y utilice condicionales para evaluar expresiones lógicas. Ejemplo: `p = True; q = False; resultado = p and q`.\n",
    "\n",
    "4. **Ejercicio 4: Estructuras de Control en Python**\n",
    "   - **Objetivo**: Comprender y utilizar ciclos `for` y condicionales en Python.\n",
    "   - **Actividad**: Escribir un código que imprima todas las combinaciones posibles de dos variables booleanas utilizando un ciclo `for`.\n",
    "\n",
    "5. **Ejercicio 5: Introducción a Pandas**\n",
    "   - **Objetivo**: Familiarizarse con el uso de la biblioteca `pandas`.\n",
    "   - **Actividad**: Crear un `DataFrame` simple en `pandas` y agregar manualmente algunos datos (por ejemplo, una tabla con los nombres y edades de los estudiantes).\n",
    "\n",
    "### **Fase 3: Construcción de Tablas de Verdad en Python**\n",
    "6. **Ejercicio 6: Construcción de Tablas de Verdad Simples**\n",
    "   - **Objetivo**: Combinar las habilidades adquiridas en la manipulación de datos y las estructuras de control.\n",
    "   - **Actividad**: Escribir un código que cree una tabla de verdad simple con un `DataFrame` de pandas, pero solo para una operación lógica básica (por ejemplo, `AND`).\n",
    "\n",
    "7. **Ejercicio 7: Uso de Ciclos para Completar Tablas de Verdad**\n",
    "   - **Objetivo**: Automatizar la creación de tablas de verdad usando ciclos.\n",
    "   - **Actividad**: Modificar el código anterior para que genere la tabla de verdad para todas las combinaciones de dos variables utilizando un ciclo `for`.\n",
    "\n",
    "8. **Ejercicio 8: Llenado Dinámico de un DataFrame**\n",
    "   - **Objetivo**: Comprender cómo llenar un `DataFrame` dinámicamente.\n",
    "   - **Actividad**: Escribir un código que agregue filas a un `DataFrame` en un ciclo `for`, donde cada fila representa una combinación diferente de valores de las variables lógicas P y Q.\n",
    "\n",
    "### **Fase 4: Integración de Conocimientos**\n",
    "9. **Ejercicio 9: Crear una Tabla de Verdad Completa**\n",
    "   - **Objetivo**: Integrar todo el conocimiento adquirido para crear una tabla de verdad completa con todas las operaciones lógicas vistas.\n",
    "   - **Actividad**: Escribir un código que construya la tabla de verdad completa (como el código proporcionado al principio), pero con una guía más estructurada.\n",
    "\n",
    "### **Tarea Final**\n",
    "10. **Tarea: Construcción y Análisis de Tablas de Verdad con Python**\n",
    "    - **Objetivo**: Consolidar la comprensión y habilidad de programación en Python aplicadas a la lógica.\n",
    "    - **Instrucción**: Escribe un código que construya la tabla de verdad para tres variables lógicas (P, Q, R) e incluya operadores lógicos más complejos como `XOR`. Adicionalmente, analiza y comenta los resultados obtenidos para cada operador lógico.\n",
    "\n",
    "### **Evaluación Final**\n",
    "- **Proyecto Final**: Los estudiantes deberán crear un script de Python que permita generar tablas de verdad para cualquier número de variables y cualquier combinación de operadores lógicos. Este proyecto debe estar bien documentado y deberá presentarse con un informe que explique la lógica detrás del código y los resultados obtenidos.\n",
    "\n",
    "### **Razonamiento**\n",
    "Esta secuencia de ejercicios está diseñada para llevar al estudiante desde la comprensión básica de las operaciones lógicas hasta la habilidad de programar una tabla de verdad completa en Python. Los ejercicios incrementales aseguran que el estudiante construya su conocimiento de manera estructurada y sólida, permitiendo que al final, puedan escribir un código complejo y funcional como el presentado."
   ]
  },
  {
   "cell_type": "code",
   "execution_count": null,
   "id": "07b663b2",
   "metadata": {},
   "outputs": [],
   "source": []
  },
  {
   "cell_type": "code",
   "execution_count": null,
   "id": "d12496af",
   "metadata": {},
   "outputs": [],
   "source": []
  },
  {
   "cell_type": "code",
   "execution_count": null,
   "id": "8bcd50ee",
   "metadata": {},
   "outputs": [],
   "source": []
  },
  {
   "cell_type": "markdown",
   "id": "64ac8d32",
   "metadata": {},
   "source": [
    "# Ejemplo ilustrativo"
   ]
  },
  {
   "cell_type": "markdown",
   "id": "a3e5e6ab",
   "metadata": {},
   "source": [
    "# 10 ejercicios de entrenamiento o adquisición de habilidades obtenido a través de ChatGPT para una formación personalizada y centrada en la habilidad que se quiere lograr con la enseñanza del ejemplo anterior"
   ]
  },
  {
   "cell_type": "markdown",
   "id": "cc539357",
   "metadata": {},
   "source": []
  },
  {
   "cell_type": "markdown",
   "id": "2f0141c3",
   "metadata": {},
   "source": [
    "## Tareas para realizar antes de la clase  \n",
    "\n",
    "1. Ver los videos respectivos []()\n",
    "2. Memorizar las definiciones []()\n",
    "3. Sintetizar o resumir la información en mapas conceptuales. []()\n",
    "4. Tareas para incentivar el uso de la calculadora Casio Para ingenieros y licenciados. \n",
    "5. Leer los ejemplos resueltos y repricar la manera de hacerlos"
   ]
  },
  {
   "cell_type": "code",
   "execution_count": 39,
   "id": "83d849ab",
   "metadata": {},
   "outputs": [
    {
     "name": "stdout",
     "output_type": "stream",
     "text": [
      "Tarea 1 de lectura de ejemplos y completación de procedimientos: \n",
      "      Si falta de los enunciados de los problemas, no se valora la tarea.\n",
      "      Si falta de la conclusión verbal, no se valora la tarea.\n",
      "       tarea_Lina_Grajales_Matemáticas_I_Página_14_Parte_1.csv\n"
     ]
    },
    {
     "data": {
      "text/html": [
       "<div>\n",
       "<style scoped>\n",
       "    .dataframe tbody tr th:only-of-type {\n",
       "        vertical-align: middle;\n",
       "    }\n",
       "\n",
       "    .dataframe tbody tr th {\n",
       "        vertical-align: top;\n",
       "    }\n",
       "\n",
       "    .dataframe thead th {\n",
       "        text-align: right;\n",
       "    }\n",
       "</style>\n",
       "<table border=\"1\" class=\"dataframe\">\n",
       "  <thead>\n",
       "    <tr style=\"text-align: right;\">\n",
       "      <th></th>\n",
       "      <th>Student</th>\n",
       "      <th>Example1</th>\n",
       "      <th>Example2</th>\n",
       "      <th>Example3</th>\n",
       "      <th>Example4</th>\n",
       "      <th>Example5</th>\n",
       "      <th>Example6</th>\n",
       "      <th>Example7</th>\n",
       "      <th>Example8</th>\n",
       "      <th>Example9</th>\n",
       "      <th>Example10</th>\n",
       "    </tr>\n",
       "  </thead>\n",
       "  <tbody>\n",
       "    <tr>\n",
       "      <th>0</th>\n",
       "      <td>CALY HERRERA ESTEFANIA</td>\n",
       "      <td>4</td>\n",
       "      <td>9</td>\n",
       "      <td>10</td>\n",
       "      <td>11</td>\n",
       "      <td>15</td>\n",
       "      <td>19</td>\n",
       "      <td>20</td>\n",
       "      <td>21</td>\n",
       "      <td>22</td>\n",
       "      <td>24</td>\n",
       "    </tr>\n",
       "    <tr>\n",
       "      <th>1</th>\n",
       "      <td>DORADO PADILLA LEONEL ESTEBAN</td>\n",
       "      <td>2</td>\n",
       "      <td>6</td>\n",
       "      <td>7</td>\n",
       "      <td>15</td>\n",
       "      <td>16</td>\n",
       "      <td>17</td>\n",
       "      <td>18</td>\n",
       "      <td>19</td>\n",
       "      <td>22</td>\n",
       "      <td>27</td>\n",
       "    </tr>\n",
       "    <tr>\n",
       "      <th>2</th>\n",
       "      <td>LONDONO CASTRO FRED IVAN</td>\n",
       "      <td>2</td>\n",
       "      <td>4</td>\n",
       "      <td>8</td>\n",
       "      <td>10</td>\n",
       "      <td>11</td>\n",
       "      <td>14</td>\n",
       "      <td>16</td>\n",
       "      <td>20</td>\n",
       "      <td>25</td>\n",
       "      <td>26</td>\n",
       "    </tr>\n",
       "    <tr>\n",
       "      <th>3</th>\n",
       "      <td>RODRIGUEZ MOSQUERA ANGELA MARIA</td>\n",
       "      <td>10</td>\n",
       "      <td>11</td>\n",
       "      <td>14</td>\n",
       "      <td>15</td>\n",
       "      <td>16</td>\n",
       "      <td>17</td>\n",
       "      <td>18</td>\n",
       "      <td>20</td>\n",
       "      <td>24</td>\n",
       "      <td>27</td>\n",
       "    </tr>\n",
       "    <tr>\n",
       "      <th>4</th>\n",
       "      <td>SAN JUAN SERRANO MANUEL</td>\n",
       "      <td>5</td>\n",
       "      <td>7</td>\n",
       "      <td>9</td>\n",
       "      <td>16</td>\n",
       "      <td>17</td>\n",
       "      <td>19</td>\n",
       "      <td>22</td>\n",
       "      <td>24</td>\n",
       "      <td>25</td>\n",
       "      <td>26</td>\n",
       "    </tr>\n",
       "    <tr>\n",
       "      <th>5</th>\n",
       "      <td>URIBE ARRIETA YEIFRY SEBASTIAN</td>\n",
       "      <td>5</td>\n",
       "      <td>6</td>\n",
       "      <td>9</td>\n",
       "      <td>15</td>\n",
       "      <td>17</td>\n",
       "      <td>18</td>\n",
       "      <td>20</td>\n",
       "      <td>23</td>\n",
       "      <td>24</td>\n",
       "      <td>26</td>\n",
       "    </tr>\n",
       "    <tr>\n",
       "      <th>6</th>\n",
       "      <td>VELASQUEZ LOPEZ MERLIS</td>\n",
       "      <td>4</td>\n",
       "      <td>5</td>\n",
       "      <td>8</td>\n",
       "      <td>9</td>\n",
       "      <td>12</td>\n",
       "      <td>13</td>\n",
       "      <td>19</td>\n",
       "      <td>23</td>\n",
       "      <td>26</td>\n",
       "      <td>27</td>\n",
       "    </tr>\n",
       "  </tbody>\n",
       "</table>\n",
       "</div>"
      ],
      "text/plain": [
       "                           Student  Example1  Example2  Example3  Example4  \\\n",
       "0           CALY HERRERA ESTEFANIA         4         9        10        11   \n",
       "1    DORADO PADILLA LEONEL ESTEBAN         2         6         7        15   \n",
       "2         LONDONO CASTRO FRED IVAN         2         4         8        10   \n",
       "3  RODRIGUEZ MOSQUERA ANGELA MARIA        10        11        14        15   \n",
       "4          SAN JUAN SERRANO MANUEL         5         7         9        16   \n",
       "5   URIBE ARRIETA YEIFRY SEBASTIAN         5         6         9        15   \n",
       "6           VELASQUEZ LOPEZ MERLIS         4         5         8         9   \n",
       "\n",
       "   Example5  Example6  Example7  Example8  Example9  Example10  \n",
       "0        15        19        20        21        22         24  \n",
       "1        16        17        18        19        22         27  \n",
       "2        11        14        16        20        25         26  \n",
       "3        16        17        18        20        24         27  \n",
       "4        17        19        22        24        25         26  \n",
       "5        17        18        20        23        24         26  \n",
       "6        12        13        19        23        26         27  "
      ]
     },
     "execution_count": 39,
     "metadata": {},
     "output_type": "execute_result"
    }
   ],
   "source": [
    "# Tarea 1 de lectura de ejemplos y completación de procedimientos\n",
    "\n",
    "# Consiste en leer y completar un ejemplo de texto guía\n",
    "\n",
    "import pandas as pd\n",
    "import numpy as np\n",
    "import requests\n",
    "np.random.seed(1213)  # establecer semilla aleatoria para hacer los resultados reproducibles\n",
    "\n",
    "\n",
    "\n",
    "grupo_estudiantes = 'fundamentos_logica'\n",
    "nombre_texto_guia = 'Lina_Grajales_Matemáticas_I'\n",
    "pagina_y_seccion = 'Página_14_Parte_1'\n",
    "numero_ejemplos_de_la_seccion = 27\n",
    "numero_de_ejemplos_asignados = 10\n",
    "\n",
    "\n",
    "# Descargar la lista de  estudiantes\n",
    "students_url = \"https://raw.githubusercontent.com/marco-canas/groups_list/main/\" + grupo_estudiantes + \".csv\"\n",
    "examples = list(range(1, numero_ejemplos_de_la_seccion))  \n",
    "\n",
    "students_data = pd.read_csv(students_url)\n",
    "\n",
    "# Crear una lista para almacenar las asignaciones\n",
    "assignments = []\n",
    "\n",
    "# Asignar ejercicios aleatorios a cada estudiante\n",
    "for index, student in students_data.iterrows():\n",
    "    # Seleccionar 5 ejercicios aleatorios sin repetición\n",
    "    random_exercises = np.sort(np.random.choice(examples, numero_de_ejemplos_asignados, \\\n",
    "                                        replace = False)+ 1 )\n",
    "    assignments.append([students_data[\"Nombre\"][index], *random_exercises])  # Agregar asignación a la lista\n",
    "\n",
    "# Crear un DataFrame con las asignaciones\n",
    "columns = [\"Student\"] + [ \"Example\" + str(i+1) for i in range(numero_de_ejemplos_asignados)]\n",
    "assignment_df = pd.DataFrame(assignments, columns=columns)\n",
    "\n",
    "# Guardar el DataFrame en un archivo CSV\n",
    "assignment_csv = \"tarea\" + \"_\" + nombre_texto_guia + \"_\"+ pagina_y_seccion + \".csv\"\n",
    "assignment_df.to_csv(assignment_csv, index=False)\n",
    "\n",
    "print(\"\"\"Tarea 1 de lectura de ejemplos y completación de procedimientos: \n",
    "      Si falta de los enunciados de los problemas, no se valora la tarea.\n",
    "      Si falta de la conclusión verbal, no se valora la tarea.\n",
    "      \"\"\", assignment_csv)\n",
    "assignment_df"
   ]
  },
  {
   "cell_type": "markdown",
   "id": "740f3401",
   "metadata": {
    "slideshow": {
     "slide_type": "slide"
    }
   },
   "source": [
    "# Componente de manejo de calculadora Casio asociado al objetivo de aprendizaje de esta clase  \n",
    "\n",
    "## Pasos para lograr el objetivo de aprendizaje con la experimentación en la calculadora casio 570 "
   ]
  },
  {
   "cell_type": "markdown",
   "id": "fccb447c",
   "metadata": {
    "slideshow": {
     "slide_type": "slide"
    }
   },
   "source": [
    "# Tareas para realizar en clase"
   ]
  },
  {
   "cell_type": "code",
   "execution_count": 40,
   "id": "0f1f0ab2",
   "metadata": {},
   "outputs": [
    {
     "name": "stdout",
     "output_type": "stream",
     "text": [
      "Tarea 2 de solución de problemas:\n",
      "      Si falta de los enunciados de los problemas, no se valora la tarea.\n",
      "      Si falta de la conclusión verbal, no se valora lla tarea.\n",
      "       tarea_Lina_Grajales_Matemáticas_I_Página_44_Parte_1.csv\n"
     ]
    },
    {
     "data": {
      "text/html": [
       "<div>\n",
       "<style scoped>\n",
       "    .dataframe tbody tr th:only-of-type {\n",
       "        vertical-align: middle;\n",
       "    }\n",
       "\n",
       "    .dataframe tbody tr th {\n",
       "        vertical-align: top;\n",
       "    }\n",
       "\n",
       "    .dataframe thead th {\n",
       "        text-align: right;\n",
       "    }\n",
       "</style>\n",
       "<table border=\"1\" class=\"dataframe\">\n",
       "  <thead>\n",
       "    <tr style=\"text-align: right;\">\n",
       "      <th></th>\n",
       "      <th>Student</th>\n",
       "      <th>Exer1</th>\n",
       "      <th>Exer2</th>\n",
       "      <th>Exer3</th>\n",
       "      <th>Exer4</th>\n",
       "      <th>Exer5</th>\n",
       "      <th>Exer6</th>\n",
       "      <th>Exer7</th>\n",
       "      <th>Exer8</th>\n",
       "      <th>Exer9</th>\n",
       "      <th>Exer10</th>\n",
       "    </tr>\n",
       "  </thead>\n",
       "  <tbody>\n",
       "    <tr>\n",
       "      <th>0</th>\n",
       "      <td>CALY HERRERA ESTEFANIA</td>\n",
       "      <td>4</td>\n",
       "      <td>7</td>\n",
       "      <td>11</td>\n",
       "      <td>16</td>\n",
       "      <td>21</td>\n",
       "      <td>23</td>\n",
       "      <td>24</td>\n",
       "      <td>26</td>\n",
       "      <td>27</td>\n",
       "      <td>32</td>\n",
       "    </tr>\n",
       "    <tr>\n",
       "      <th>1</th>\n",
       "      <td>DORADO PADILLA LEONEL ESTEBAN</td>\n",
       "      <td>2</td>\n",
       "      <td>5</td>\n",
       "      <td>9</td>\n",
       "      <td>10</td>\n",
       "      <td>12</td>\n",
       "      <td>13</td>\n",
       "      <td>19</td>\n",
       "      <td>26</td>\n",
       "      <td>28</td>\n",
       "      <td>32</td>\n",
       "    </tr>\n",
       "    <tr>\n",
       "      <th>2</th>\n",
       "      <td>LONDONO CASTRO FRED IVAN</td>\n",
       "      <td>6</td>\n",
       "      <td>8</td>\n",
       "      <td>11</td>\n",
       "      <td>18</td>\n",
       "      <td>19</td>\n",
       "      <td>20</td>\n",
       "      <td>22</td>\n",
       "      <td>27</td>\n",
       "      <td>28</td>\n",
       "      <td>29</td>\n",
       "    </tr>\n",
       "    <tr>\n",
       "      <th>3</th>\n",
       "      <td>RODRIGUEZ MOSQUERA ANGELA MARIA</td>\n",
       "      <td>4</td>\n",
       "      <td>8</td>\n",
       "      <td>12</td>\n",
       "      <td>14</td>\n",
       "      <td>15</td>\n",
       "      <td>16</td>\n",
       "      <td>19</td>\n",
       "      <td>26</td>\n",
       "      <td>29</td>\n",
       "      <td>31</td>\n",
       "    </tr>\n",
       "    <tr>\n",
       "      <th>4</th>\n",
       "      <td>SAN JUAN SERRANO MANUEL</td>\n",
       "      <td>4</td>\n",
       "      <td>10</td>\n",
       "      <td>12</td>\n",
       "      <td>15</td>\n",
       "      <td>16</td>\n",
       "      <td>18</td>\n",
       "      <td>21</td>\n",
       "      <td>23</td>\n",
       "      <td>29</td>\n",
       "      <td>31</td>\n",
       "    </tr>\n",
       "    <tr>\n",
       "      <th>5</th>\n",
       "      <td>URIBE ARRIETA YEIFRY SEBASTIAN</td>\n",
       "      <td>7</td>\n",
       "      <td>10</td>\n",
       "      <td>11</td>\n",
       "      <td>15</td>\n",
       "      <td>21</td>\n",
       "      <td>23</td>\n",
       "      <td>24</td>\n",
       "      <td>28</td>\n",
       "      <td>29</td>\n",
       "      <td>32</td>\n",
       "    </tr>\n",
       "    <tr>\n",
       "      <th>6</th>\n",
       "      <td>VELASQUEZ LOPEZ MERLIS</td>\n",
       "      <td>2</td>\n",
       "      <td>3</td>\n",
       "      <td>5</td>\n",
       "      <td>15</td>\n",
       "      <td>18</td>\n",
       "      <td>19</td>\n",
       "      <td>24</td>\n",
       "      <td>27</td>\n",
       "      <td>28</td>\n",
       "      <td>30</td>\n",
       "    </tr>\n",
       "  </tbody>\n",
       "</table>\n",
       "</div>"
      ],
      "text/plain": [
       "                           Student  Exer1  Exer2  Exer3  Exer4  Exer5  Exer6  \\\n",
       "0           CALY HERRERA ESTEFANIA      4      7     11     16     21     23   \n",
       "1    DORADO PADILLA LEONEL ESTEBAN      2      5      9     10     12     13   \n",
       "2         LONDONO CASTRO FRED IVAN      6      8     11     18     19     20   \n",
       "3  RODRIGUEZ MOSQUERA ANGELA MARIA      4      8     12     14     15     16   \n",
       "4          SAN JUAN SERRANO MANUEL      4     10     12     15     16     18   \n",
       "5   URIBE ARRIETA YEIFRY SEBASTIAN      7     10     11     15     21     23   \n",
       "6           VELASQUEZ LOPEZ MERLIS      2      3      5     15     18     19   \n",
       "\n",
       "   Exer7  Exer8  Exer9  Exer10  \n",
       "0     24     26     27      32  \n",
       "1     19     26     28      32  \n",
       "2     22     27     28      29  \n",
       "3     19     26     29      31  \n",
       "4     21     23     29      31  \n",
       "5     24     28     29      32  \n",
       "6     24     27     28      30  "
      ]
     },
     "execution_count": 40,
     "metadata": {},
     "output_type": "execute_result"
    }
   ],
   "source": [
    "# Tarea 2 de solución de problemas \n",
    "# asignación de ejercicios de un seccion del texto guía\n",
    "\n",
    "# numpy.random.choice() obten la documentación de esta función en: \n",
    "# https://numpy.org/doc/stable/reference/random/generated/numpy.random.choice.html\n",
    "\n",
    "import pandas as pd\n",
    "import numpy as np\n",
    "import requests\n",
    "np.random.seed(424)  # establecer semilla aleatoria para hacer los resultados reproducibles\n",
    "\n",
    "\n",
    "\n",
    "grupo_estudiantes = 'fundamentos_logica'\n",
    "nombre_texto_guia = 'Lina_Grajales_Matemáticas_I'\n",
    "pagina_y_seccion = 'Página_44_Parte_1'\n",
    "numero_ejercicios_taller = 33\n",
    "numero_de_ejercicios_asignados = 10\n",
    "\n",
    "\n",
    "# Descargar la lista de  estudiantes\n",
    "students_url = \"https://raw.githubusercontent.com/marco-canas/groups_list/main/\" + grupo_estudiantes + \".csv\"\n",
    "exercises = list(range(1, numero_ejercicios_taller))  \n",
    "\n",
    "students_data = pd.read_csv(students_url)\n",
    "\n",
    "# Crear una lista para almacenar las asignaciones\n",
    "assignments = []\n",
    "\n",
    "# Asignar ejercicios aleatorios a cada estudiante\n",
    "for index, student in students_data.iterrows():\n",
    "    # Seleccionar 5 ejercicios aleatorios sin repetición\n",
    "    random_exercises = np.sort(np.random.choice(exercises, numero_de_ejercicios_asignados, \\\n",
    "                                                replace = False)+ 1 )\n",
    "    assignments.append([students_data[\"Nombre\"][index], *random_exercises])  # Agregar asignación a la lista\n",
    "\n",
    "# Crear un DataFrame con las asignaciones\n",
    "columns = [\"Student\"] + [ \"Exer\" + str(i+1) for i in range(numero_de_ejercicios_asignados)]\n",
    "assignment_df = pd.DataFrame(assignments, columns=columns)\n",
    "\n",
    "# Guardar el DataFrame en un archivo CSV\n",
    "assignment_csv = \"tarea\" + \"_\" + nombre_texto_guia + \"_\"+ pagina_y_seccion + \".csv\"\n",
    "assignment_df.to_csv(assignment_csv, index=False)\n",
    "\n",
    "print(\"\"\"Tarea 2 de solución de problemas:\n",
    "      Si falta de los enunciados de los problemas, no se valora la tarea.\n",
    "      Si falta de la conclusión verbal, no se valora lla tarea.\n",
    "      \"\"\", assignment_csv)\n",
    "assignment_df"
   ]
  },
  {
   "cell_type": "markdown",
   "id": "d34defb9",
   "metadata": {
    "slideshow": {
     "slide_type": "slide"
    }
   },
   "source": [
    "## Asignación individual de tareas semanales "
   ]
  },
  {
   "cell_type": "code",
   "execution_count": 42,
   "id": "0406f442",
   "metadata": {
    "slideshow": {
     "slide_type": "slide"
    }
   },
   "outputs": [
    {
     "name": "stdout",
     "output_type": "stream",
     "text": [
      "Tarea 3 Solución problemas describiendo y justificando: \n",
      "      Si falta de los enunciados de los problemas, no se valora la tarea.\n",
      "      Si falta de la conclusión no simbpolica, no se valora la tarea.\n",
      "       tarea_Lina_Grajales_Matemáticas_I_para_Ciencias_Económicas_Página_44_Parte_1.csv\n"
     ]
    },
    {
     "data": {
      "text/html": [
       "<div>\n",
       "<style scoped>\n",
       "    .dataframe tbody tr th:only-of-type {\n",
       "        vertical-align: middle;\n",
       "    }\n",
       "\n",
       "    .dataframe tbody tr th {\n",
       "        vertical-align: top;\n",
       "    }\n",
       "\n",
       "    .dataframe thead th {\n",
       "        text-align: right;\n",
       "    }\n",
       "</style>\n",
       "<table border=\"1\" class=\"dataframe\">\n",
       "  <thead>\n",
       "    <tr style=\"text-align: right;\">\n",
       "      <th></th>\n",
       "      <th>Student</th>\n",
       "      <th>Exer1</th>\n",
       "      <th>Exer2</th>\n",
       "      <th>Exer3</th>\n",
       "      <th>Exer4</th>\n",
       "      <th>Exer5</th>\n",
       "      <th>Exer6</th>\n",
       "      <th>Exer7</th>\n",
       "      <th>Exer8</th>\n",
       "      <th>Exer9</th>\n",
       "      <th>Exer10</th>\n",
       "    </tr>\n",
       "  </thead>\n",
       "  <tbody>\n",
       "    <tr>\n",
       "      <th>0</th>\n",
       "      <td>CALY HERRERA ESTEFANIA</td>\n",
       "      <td>7</td>\n",
       "      <td>9</td>\n",
       "      <td>10</td>\n",
       "      <td>14</td>\n",
       "      <td>23</td>\n",
       "      <td>25</td>\n",
       "      <td>26</td>\n",
       "      <td>27</td>\n",
       "      <td>30</td>\n",
       "      <td>32</td>\n",
       "    </tr>\n",
       "    <tr>\n",
       "      <th>1</th>\n",
       "      <td>DORADO PADILLA LEONEL ESTEBAN</td>\n",
       "      <td>4</td>\n",
       "      <td>6</td>\n",
       "      <td>7</td>\n",
       "      <td>9</td>\n",
       "      <td>12</td>\n",
       "      <td>17</td>\n",
       "      <td>21</td>\n",
       "      <td>22</td>\n",
       "      <td>23</td>\n",
       "      <td>27</td>\n",
       "    </tr>\n",
       "    <tr>\n",
       "      <th>2</th>\n",
       "      <td>LONDONO CASTRO FRED IVAN</td>\n",
       "      <td>4</td>\n",
       "      <td>5</td>\n",
       "      <td>7</td>\n",
       "      <td>9</td>\n",
       "      <td>17</td>\n",
       "      <td>19</td>\n",
       "      <td>22</td>\n",
       "      <td>26</td>\n",
       "      <td>29</td>\n",
       "      <td>30</td>\n",
       "    </tr>\n",
       "    <tr>\n",
       "      <th>3</th>\n",
       "      <td>RODRIGUEZ MOSQUERA ANGELA MARIA</td>\n",
       "      <td>2</td>\n",
       "      <td>3</td>\n",
       "      <td>5</td>\n",
       "      <td>9</td>\n",
       "      <td>11</td>\n",
       "      <td>13</td>\n",
       "      <td>17</td>\n",
       "      <td>24</td>\n",
       "      <td>29</td>\n",
       "      <td>32</td>\n",
       "    </tr>\n",
       "    <tr>\n",
       "      <th>4</th>\n",
       "      <td>SAN JUAN SERRANO MANUEL</td>\n",
       "      <td>8</td>\n",
       "      <td>10</td>\n",
       "      <td>12</td>\n",
       "      <td>15</td>\n",
       "      <td>18</td>\n",
       "      <td>22</td>\n",
       "      <td>24</td>\n",
       "      <td>29</td>\n",
       "      <td>30</td>\n",
       "      <td>31</td>\n",
       "    </tr>\n",
       "    <tr>\n",
       "      <th>5</th>\n",
       "      <td>URIBE ARRIETA YEIFRY SEBASTIAN</td>\n",
       "      <td>2</td>\n",
       "      <td>3</td>\n",
       "      <td>6</td>\n",
       "      <td>9</td>\n",
       "      <td>10</td>\n",
       "      <td>11</td>\n",
       "      <td>18</td>\n",
       "      <td>19</td>\n",
       "      <td>28</td>\n",
       "      <td>31</td>\n",
       "    </tr>\n",
       "    <tr>\n",
       "      <th>6</th>\n",
       "      <td>VELASQUEZ LOPEZ MERLIS</td>\n",
       "      <td>4</td>\n",
       "      <td>6</td>\n",
       "      <td>8</td>\n",
       "      <td>11</td>\n",
       "      <td>12</td>\n",
       "      <td>13</td>\n",
       "      <td>18</td>\n",
       "      <td>20</td>\n",
       "      <td>23</td>\n",
       "      <td>26</td>\n",
       "    </tr>\n",
       "  </tbody>\n",
       "</table>\n",
       "</div>"
      ],
      "text/plain": [
       "                           Student  Exer1  Exer2  Exer3  Exer4  Exer5  Exer6  \\\n",
       "0           CALY HERRERA ESTEFANIA      7      9     10     14     23     25   \n",
       "1    DORADO PADILLA LEONEL ESTEBAN      4      6      7      9     12     17   \n",
       "2         LONDONO CASTRO FRED IVAN      4      5      7      9     17     19   \n",
       "3  RODRIGUEZ MOSQUERA ANGELA MARIA      2      3      5      9     11     13   \n",
       "4          SAN JUAN SERRANO MANUEL      8     10     12     15     18     22   \n",
       "5   URIBE ARRIETA YEIFRY SEBASTIAN      2      3      6      9     10     11   \n",
       "6           VELASQUEZ LOPEZ MERLIS      4      6      8     11     12     13   \n",
       "\n",
       "   Exer7  Exer8  Exer9  Exer10  \n",
       "0     26     27     30      32  \n",
       "1     21     22     23      27  \n",
       "2     22     26     29      30  \n",
       "3     17     24     29      32  \n",
       "4     24     29     30      31  \n",
       "5     18     19     28      31  \n",
       "6     18     20     23      26  "
      ]
     },
     "execution_count": 42,
     "metadata": {},
     "output_type": "execute_result"
    }
   ],
   "source": [
    "# Tarea 3 de solución de problemas describiendo procedimientos y justificándolos\n",
    "\n",
    "\n",
    "\n",
    "import pandas as pd\n",
    "import numpy as np\n",
    "import requests\n",
    "np.random.seed(126)  # establecer semilla aleatoria para hacer los resultados reproducibles\n",
    "\n",
    "\n",
    "\n",
    "grupo_estudiantes = 'fundamentos_logica'\n",
    "nombre_texto_guia = 'Lina_Grajales_Matemáticas_I_para_Ciencias_Económicas'\n",
    "pagina_y_seccion = 'Página_44_Parte_1'\n",
    "numero_ejercicios_taller = 33\n",
    "numero_de_ejercicios_asignados = 10\n",
    "\n",
    "\n",
    "# Descargar la lista de  estudiantes\n",
    "students_url = \"https://raw.githubusercontent.com/marco-canas/groups_list/main/\" + grupo_estudiantes + \".csv\"\n",
    "exercises = list(range(1, numero_ejercicios_taller))  \n",
    "\n",
    "students_data = pd.read_csv(students_url)\n",
    "\n",
    "# Crear una lista para almacenar las asignaciones\n",
    "assignments = []\n",
    "\n",
    "# Asignar ejercicios aleatorios a cada estudiante\n",
    "for index, student in students_data.iterrows():\n",
    "    # Seleccionar 5 ejercicios aleatorios sin repetición\n",
    "    random_exercises = np.sort(np.random.choice(exercises, numero_de_ejercicios_asignados,\\\n",
    "                                                 replace = False)+ 1 )\n",
    "    assignments.append([students_data[\"Nombre\"][index], *random_exercises])  # Agregar asignación a la lista\n",
    "\n",
    "# Crear un DataFrame con las asignaciones\n",
    "columns = [\"Student\"] + [ \"Exer\" + str(i+1) for i in range(numero_de_ejercicios_asignados)]\n",
    "assignment_df = pd.DataFrame(assignments, columns=columns)\n",
    "\n",
    "# Guardar el DataFrame en un archivo CSV\n",
    "assignment_csv = \"tarea\" + \"_\" + nombre_texto_guia + \"_\"+ pagina_y_seccion + \".csv\"\n",
    "assignment_df.to_csv(assignment_csv, index=False)\n",
    "\n",
    "print(\"\"\"Tarea 3 Solución problemas describiendo y justificando: \n",
    "      Si falta de los enunciados de los problemas, no se valora la tarea.\n",
    "      Si falta de la conclusión no simbpolica, no se valora la tarea.\n",
    "      \"\"\", assignment_csv)\n",
    "assignment_df"
   ]
  },
  {
   "cell_type": "markdown",
   "id": "742281f4",
   "metadata": {},
   "source": [
    "# No olvide la tarea de realizar la foda para autoevaluarse\n",
    "\n",
    "Fortalezas: F  \n",
    "Oportuniudades O:  \n",
    "Debilidades: D:   \n",
    "Amenazas: A:     "
   ]
  },
  {
   "cell_type": "markdown",
   "id": "8d41fe58",
   "metadata": {
    "slideshow": {
     "slide_type": "slide"
    }
   },
   "source": [
    "# Horario de clases del profesor Marco\n",
    "\n",
    "* Lunes 8-12: Cálculo Vectorial\n",
    "* Martes 8-12 M: Fundamentos de Aritmética. \n",
    "* Miércoles 8 a 12 M: Fundamentos de la Lógica\n",
    "* Jueves 2 a 6PM: Desarrollo del pensamiento matemático en la infancia. \n",
    "* Viernes 8 - 12 M: Desarrollo del pensamiento matemático en la infancia. \n",
    "\n"
   ]
  },
  {
   "cell_type": "markdown",
   "id": "ae114e14",
   "metadata": {
    "slideshow": {
     "slide_type": "slide"
    }
   },
   "source": [
    "# Horarios de monitoría y asesoría"
   ]
  },
  {
   "cell_type": "markdown",
   "id": "b1db4b6c",
   "metadata": {
    "slideshow": {
     "slide_type": "slide"
    }
   },
   "source": [
    "## Monitor Manuel"
   ]
  },
  {
   "cell_type": "markdown",
   "id": "39559692",
   "metadata": {
    "slideshow": {
     "slide_type": "slide"
    }
   },
   "source": [
    "Martes y jueves de 8 - 12  \n",
    "Miércoles 10 - 12 y de 2 a 4 PM  \n",
    "Sábado: 8 - 12"
   ]
  },
  {
   "cell_type": "markdown",
   "id": "95857b46",
   "metadata": {},
   "source": [
    "## Monitoría virtual   \n",
    "\n",
    "Telefono del monitos en whatsApp: 3043936088  \n",
    "\n",
    "Juan David Cano Castrillón  \n",
    "Estudiante de Pregrado.  \n",
    "juan.canoc1@udea.edu.co  \n",
    "3043936088  \n"
   ]
  },
  {
   "cell_type": "markdown",
   "id": "10bce0d0",
   "metadata": {
    "slideshow": {
     "slide_type": "slide"
    }
   },
   "source": [
    "## Referentes "
   ]
  },
  {
   "cell_type": "markdown",
   "id": "1db3c468",
   "metadata": {
    "slideshow": {
     "slide_type": "slide"
    }
   },
   "source": [
    "* [Grajales Vanegas, L. M., Restrepo Estrada, C. E., Restrepo Ochoa, S. I., & Ruíz De Villalba, F. (2015). Matemáticas I para las ciencias económicas.](https://github.com/marco-canas/fundamentos_logica/blob/main/referentes/1_grajales_lina/grajales_lina_math_ciencias_econmicas_logica.pdf)\n",
    "\n",
    "\n",
    "* [Aylwin, C. U. (2011). Lógica, conjuntos y números. Universidad de los Andes, Consejo de Publicaciones, Colección: Ciencias Básicas, Serie: Matemáticas.](https://github.com/marco-canas/fundamentos_logica/blob/main/referentes/2_uzcategui/uscategui.pdf)\n",
    "\n",
    "\n",
    "* [Recomendación de la UNESCO sobre ciencia abierta](https://unesdoc.unesco.org/ark:/48223/pf0000379949_spa)\n",
    "\n",
    "\n",
    "\n",
    "* [chatGPT](https://openai.com/blog/chatgpt)  \n",
    "\n",
    "\n",
    "\n",
    "* [McKinney, W. (2012). Python for data analysis: Data wrangling with Pandas, NumPy, and IPython. \" O'Reilly Media, Inc.\".](https://github.com/marco-canas/didactica_ciencia_datos/blob/main/2_referentes/mckinney/Wes_McKinney.pdf)\n"
   ]
  },
  {
   "cell_type": "markdown",
   "id": "8e65d6f9",
   "metadata": {},
   "source": [
    "# Como estudiante, encuentro que...   \n",
    "\n",
    "F: Mis Fortalezas son:     \n",
    "O: Mis Oportunidades son:    \n",
    "D: Mis Debilidades son:    \n",
    "A: Lo que Amenazas mi aprendizaje es:  "
   ]
  },
  {
   "cell_type": "markdown",
   "id": "6b9e56a8",
   "metadata": {
    "slideshow": {
     "slide_type": "slide"
    }
   },
   "source": [
    "### [Evaluamos al profesor Marco Cañas Aquí](https://forms.office.com/Pages/ResponsePage.aspx?id=IefhmYRxjkmK_7KtTlPBwkanXIs1i1FEujpsZgO6dXpUREJPV1kxUk1JV1ozTFJIQVNIQjY5WEY3US4u)"
   ]
  },
  {
   "cell_type": "markdown",
   "id": "050b9508",
   "metadata": {},
   "source": [
    "# Aportes de mis estudiantes a la metodología del curso  \n",
    "1. \n",
    "\n",
    "Sus opiniones y aportes son muy importantes para mi. Pues esta es una investigación educativa y un servicio de enseñanza para ustedes. Ustedes son la razón de ser de mi actividad docente. Dios los bendiga. "
   ]
  },
  {
   "cell_type": "markdown",
   "id": "10f43536",
   "metadata": {
    "slideshow": {
     "slide_type": "slide"
    }
   },
   "source": [
    "### Continue su aprendizaje en la siguiente clase a través del siguiente [vínculo](https://github.com/marco-canas/fundamentos_logica/blob/main/referentes/1_grajales_lina/1_logica_matematica_y_teoria_de_conjuntos/1_logica_matematica/3_tablas_de_verdad/2_evaluacion_tarea_quiz_parcial_oral_1_tablas_de_verdad.ipynb)"
   ]
  },
  {
   "cell_type": "markdown",
   "id": "53cc9115",
   "metadata": {
    "slideshow": {
     "slide_type": "slide"
    }
   },
   "source": [
    "## Agradecimientos  \n",
    "\n",
    "Doy gracias a Dios por la vida de mi Hijo Joseph Cañas Osorio y la madurez que ha alcanzado.\n",
    "\n",
    "Y a mi esposa Yasmira por su apoyo, orientación y acompañamiento. "
   ]
  }
 ],
 "metadata": {
  "celltoolbar": "Slideshow",
  "kernelspec": {
   "display_name": "Python 3 (ipykernel)",
   "language": "python",
   "name": "python3"
  },
  "language_info": {
   "codemirror_mode": {
    "name": "ipython",
    "version": 3
   },
   "file_extension": ".py",
   "mimetype": "text/x-python",
   "name": "python",
   "nbconvert_exporter": "python",
   "pygments_lexer": "ipython3",
   "version": "3.10.12"
  },
  "rise": {
   "enable_chalkboard": true,
   "theme": "sky",
   "transition": "zoom"
  }
 },
 "nbformat": 4,
 "nbformat_minor": 5
}
