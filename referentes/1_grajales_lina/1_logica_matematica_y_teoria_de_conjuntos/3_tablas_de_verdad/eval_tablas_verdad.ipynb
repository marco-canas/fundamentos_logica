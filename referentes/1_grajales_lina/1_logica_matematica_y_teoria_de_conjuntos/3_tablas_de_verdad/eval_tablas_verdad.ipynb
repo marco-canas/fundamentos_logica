{
 "cells": [
  {
   "cell_type": "markdown",
   "id": "dc06dec7",
   "metadata": {
    "slideshow": {
     "slide_type": "slide"
    }
   },
   "source": [
    "<table align=\"left\">\n",
    "  <td>\n",
    "    <a href=\"https://colab.research.google.com/github/marco-canas/didactica_ciencia_datos/blob/main/1_curso_machine_learning/1_evaluacion_oral_tarea_quiz_parcial.ipynb\" target=\"_parent\"><img src=\"https://colab.research.google.com/assets/colab-badge.svg\" alt=\"Open In Colab\"/></a>\n",
    "  </td>\n",
    "  <td>\n",
    "    <a target=\"_blank\" href=\"https://kaggle.com/kernels/welcome?src=https://github.com/marco-canas/didactica_ciencia_datos/blob/main/1_curso_machine_learning/1_evaluacion_oral_tarea_quiz_parcial.ipynb\"><img src=\"https://kaggle.com/static/images/open-in-kaggle.svg\" /></a>\n",
    "  </td>\n",
    "</table>"
   ]
  },
  {
   "cell_type": "markdown",
   "id": "e0c5b198",
   "metadata": {
    "slideshow": {
     "slide_type": "slide"
    }
   },
   "source": [
    "### [Video de apoyo a la lectura interactiva y experimental de este cuaderno]()"
   ]
  },
  {
   "cell_type": "markdown",
   "id": "41e82203",
   "metadata": {
    "slideshow": {
     "slide_type": "slide"
    }
   },
   "source": [
    "## [Vínculo al programa del curso:  ]()"
   ]
  },
  {
   "cell_type": "markdown",
   "id": "ca46c23b",
   "metadata": {
    "slideshow": {
     "slide_type": "slide"
    }
   },
   "source": [
    "# Modelo general de clase: [aula invertida](https://www3.gobiernodecanarias.org/medusa/ecoescuela/pedagotic/aprendizaje-invertido-flipped-classroom/)\n"
   ]
  },
  {
   "cell_type": "markdown",
   "id": "7f9be90f",
   "metadata": {
    "slideshow": {
     "slide_type": "slide"
    }
   },
   "source": [
    "# Fomento de la lectura literaria asociada a Ingeniería agropecuaria y licenciatura en Matemáticas y administración de empresas\n",
    "\n",
    "[Hábitos atómicos](https://github.com/marco-canas/habitos_atomicos/blob/main/13_como_dejar_de_postergar_usando_la_regla_de_los_dos_minutos/1_13_como_dejar_de_postergar_usando_la_regla_de_los_dos_minutos.ipynb)"
   ]
  },
  {
   "cell_type": "markdown",
   "id": "96775931",
   "metadata": {
    "slideshow": {
     "slide_type": "slide"
    }
   },
   "source": [
    "# Título de la clase: Realización evaluación Tablas de verdad \n"
   ]
  },
  {
   "cell_type": "markdown",
   "id": "cf101603",
   "metadata": {},
   "source": [
    "# Prompt para pedir el diseño de evaluación de acuerdo a la metodología de \"Enseñanza basada en proyectos\"  \n",
    "\n",
    "Dame, por favor, un diseño de clase, con el enfoque: \"Aula Invertida, STEAMS y De aprendizaje basado en problemas y proyectos(ABPP)\" sobre: \" \", siguiendo la estructura:  \n",
    "\n",
    "1. Título de la clase \n",
    "2. Objetivos de aprendizaje que incluyan los indicadores del logro de estos objetivos.\n",
    "3. Un mapa conceptual que resuma la clase elaborado en Graphviz de python con nodos y edges de diferentes formas, colores y rellenos y renderizado en la siguiente ubicación: `\"C:/Users/marco/Descargas\"`. No olvides el parámetro `view = True` ppara el método render() de graphviz. \n",
    "4. Dame elementos históricos y epistemológicos asociados a esta clase, pero contados como un cuento al estilo de un cuentero antioqueño en Colombia. Incluye imágenes de los protagonistas históricos de esta clase. \n",
    "5. Contenido de la clase. Que el contenido parta de una situación real para llegar a una constitución del modelo matemático que represente tal situación real. \n",
    "6. Actividades de aprendizaje\n",
    "7. Incluye una canción o un poema que ayude a interiorizar y fijar los conceptos asociados a esta clase. \n",
    "8. Tarea o actividades de ejercitación y fijación\n",
    "9. Evaluación incluyendo diez proyectos, un ejemplo de quiz (de tres preguntas) y un ejemplo de parcial (de cinco puntos)\n",
    "10. Diseño de actividad de retroalimentación. \n",
    "11. Dame un vocabulario y frases del idioma inglés asociadas a esta clase.   \n",
    "\n",
    "Pero  que este diseño sea para que el estudiante pueda aprender experimentando en cuadernos Jupyter con funciones de usuario y animaciones y visualizaciones en python. En particular utiliza para el diseño de clase a Numpy, Pandas, SymPy, Matplotlib.pyplot, Seaborn, Plotly, ipywidgets, matplotlib.animation y Jupyter Notebook.  Cada vez que utilices `matplotlib.animacion` no olvides incluir el uso de `IPython. display` para la rederización de estas animaciones a través de Jupyter Notebook. No olvides darme los diseños de clase con las ecuaciones matemáticas delimitadas con signo de dolar $ para que VS Code si me renderize estas expresiones del lenguaje latex. Cuando vallas a utilizar ipywidgets ten en cuenta la siguiente importación inicial para garantizar que la visualización interactiva si se renderize en VS Code: import numpy as np\n",
    "import matplotlib.pyplot as plt\n",
    "import ipywidgets as widgets\n",
    "from IPython.display import display, clear_output\n",
    "from matplotlib.patches import Rectangle\n",
    "\n",
    "# Configuración inicial para visualización estática\n",
    "%matplotlib inline "
   ]
  },
  {
   "cell_type": "markdown",
   "id": "42797498",
   "metadata": {},
   "source": [
    "**1. Título de la clase**  \n",
    "**\"STEAM-Powered Truth Tables: Coding Logic with Python\"**  \n",
    "\n",
    "---\n",
    "\n",
    "**2. Objetivo de aprendizaje e indicadores de logro**  \n",
    "**Objetivo:**  \n",
    "*Diseñar e implementar tablas de verdad en Python utilizando herramientas STEAM, resolviendo problemas lógicos mediante ABPP.*  \n",
    "\n",
    "**Indicadores de logro:**  \n",
    "- Crea funciones en Python para generar tablas de verdad con `numpy` y `sympy`.  \n",
    "- Analiza proposiciones compuestas usando conectores lógicos ($\\land, \\lor, \\neg, \\rightarrow$).  \n",
    "- Diseña visualizaciones interactivas con `ipywidgets` y animaciones con `matplotlib.animation`.  \n",
    "- Aplica tablas de verdad en proyectos interdisciplinares (ej: circuitos electrónicos, ética en IA).  \n",
    "\n",
    "---\n",
    "\n",
    "**3. Mapa conceptual**  \n",
    "```python\n",
    "# Instala graphviz si es necesario: !pip install graphviz\n",
    "from graphviz import Digraph\n",
    "\n",
    "dot = Digraph(comment='Tablas de Verdad', format='png')\n",
    "dot.attr('node', shape='box', style='filled', fillcolor='#E6F3FF', color='#2B65EC')\n",
    "dot.node('A', 'Lógica Proposicional')\n",
    "dot.node('B', 'Proposiciones\\n(Atómicas/Compuestas)', shape='ellipse', fillcolor='#FFE4E1')\n",
    "dot.node('C', 'Conectivos Lógicos\\n(AND, OR, NOT, →)', shape='diamond', fillcolor='#90EE90')\n",
    "dot.node('D', 'Tablas de Verdad', shape='parallelogram', fillcolor='#FFD700')\n",
    "dot.node('E', 'Aplicaciones\\n(Circuitos, Algoritmos)', shape='hexagon', fillcolor='#FFA07A')\n",
    "\n",
    "dot.edges(['AB', 'AC', 'AD', 'BD', 'CD', 'DE'])\n",
    "dot.render(directory='C:/Users/marco/Descargas', filename='mapa_tablas_verdad.gv')\n",
    "```\n",
    "![Mapa conceptual](C:/Users/marco/Descargas/mapa_tablas_verdad.gv.png)  \n",
    "\n",
    "---\n",
    "\n",
    "**4. Contenido de la clase**  \n",
    "**a. Conceptos básicos:**  \n",
    "- **Proposición:** Expresión con valor $V$ o $F$ (ej: $p =$ \"Llueve\").  \n",
    "- **Conectivos:**  \n",
    "  - $p \\land q$ (AND): $V$ solo si ambos son $V$.  \n",
    "  - $p \\lor q$ (OR): $F$ solo si ambos son $F$.  \n",
    "  - $\\neg p$ (NOT): Invierte el valor.  \n",
    "  - $p \\rightarrow q$: $F$ solo si $p=V$ y $q=F$.  \n",
    "\n",
    "**b. Tabla de verdad con Python:**  \n",
    "```python\n",
    "import numpy as np\n",
    "import pandas as pd\n",
    "from sympy import symbols, And, Or, Not, Implies\n",
    "\n",
    "p, q = symbols('p q')\n",
    "proposicion = Or(And(p, q), Implies(p, q))\n",
    "\n",
    "def generar_tabla(func):\n",
    "    combinaciones = np.array(np.meshgrid([False, True], [False, True])).T.reshape(-1,2)\n",
    "    df = pd.DataFrame(combinaciones, columns=['p', 'q'])\n",
    "    df['Resultado'] = [func.subs({p: row[0], q: row[1]}) for row in combinaciones]\n",
    "    return df\n",
    "\n",
    "display(generar_tabla(proposicion))\n",
    "```\n",
    "\n",
    "---\n",
    "\n",
    "**5. Canción/Poema**  \n",
    "**\"La Cumbia de los Verdadines\"** (Ritmo de cumbia colombiana):  \n",
    "```\n",
    "Si p es V y q es F, la implicación ¡ay, no es verdad!  \n",
    "El AND es exigente, dos verdades pide él.  \n",
    "OR es más consentidor, con una V, ¡ya está bien!  \n",
    "NOT revuelve la tortilla, lo que es V lo vuelve F.  \n",
    "¡Tablas de verdad, mi gente, resuelven cualquier problemita!  \n",
    "```\n",
    "\n",
    "---\n",
    "\n",
    "**6. Historia epistemológica**  \n",
    "**\"El Misterio de los Símbolos Lógicos\"**  \n",
    "Érase una vez, en el frío norte de Inglaterra, un joven George Boole (imagen: `C:/Users/marco/Descargas/boole.jpg`) que soñaba con convertir el pensamiento en ecuaciones. \"¡Las ideas son como números!\", decía, mientras escribía $x \\cdot y$ para el \"y\" lógico. Años después, un alemán llamado Frege (imagen: `C:/Users/marco/Descargas/frege.jpg`) unió lógica y matemáticas con su *Begriffsschrift*, ¡y el mundo nunca fue igual! Hoy, hasta tu celular usa sus reglas para tomar decisiones... ¿Quién dijo que la lógica no era mágica?  \n",
    "\n",
    "---\n",
    "\n",
    "**7. Actividades de aprendizaje**  \n",
    "**a. Laboratorio interactivo:**  \n",
    "```python\n",
    "from ipywidgets import interact, Dropdown\n",
    "\n",
    "@interact(\n",
    "    p=Dropdown(options=[('Verdadero', True), ('Falso', False)]),\n",
    "    q=Dropdown(options=[('Verdadero', True), ('Falso', False)])\n",
    ")\n",
    "def calcular_conectivos(p, q):\n",
    "    resultado = {\n",
    "        'AND': p and q,\n",
    "        'OR': p or q,\n",
    "        'NOT p': not p,\n",
    "        'p → q': (not p) or q\n",
    "    }\n",
    "    display(pd.DataFrame.from_dict(resultado, orient='index', columns=['Valor']))\n",
    "```\n",
    "\n",
    "**b. Animación de tabla de verdad:**  \n",
    "```python\n",
    "from matplotlib.animation import FuncAnimation\n",
    "from IPython.display import HTML\n",
    "\n",
    "fig, ax = plt.subplots()\n",
    "ax.axis('off')\n",
    "celdas = [ax.text(i, j, '', ha='center', va='center') for i in range(3) for j in range(3)]\n",
    "\n",
    "def init():\n",
    "    for txt in celdas:\n",
    "        txt.set_text('')\n",
    "    return celdas\n",
    "\n",
    "def animate(frame):\n",
    "    valores = [(p, q, p and q) for p in [False, True] for q in [False, True]][frame]\n",
    "    textos = ['p', 'q', 'p ∧ q'] + list(valores)\n",
    "    for i, txt in enumerate(textos):\n",
    "        celdas[i].set_text(str(txt))\n",
    "    return celdas\n",
    "\n",
    "ani = FuncAnimation(fig, animate, frames=4, init_func=init, interval=1000)\n",
    "HTML(ani.to_jshtml())\n",
    "```\n",
    "\n",
    "---\n",
    "\n",
    "**8. Evaluación**  \n",
    "**Proyectos STEAM:**  \n",
    "1. **Ciencias:** Modelar el comportamiento de un ecosistema con reglas lógicas.  \n",
    "2. **Tecnología:** Simular compuertas AND/OR con circuitos en Python.  \n",
    "3. **Arte:** Crear una escultura digital que cambie con combinaciones lógicas.  \n",
    "\n",
    "**Quiz ejemplo:**  \n",
    "```python\n",
    "preguntas = [\n",
    "    {\"pregunta\": \"¿Qué valor tiene ¬(V ∧ F)?\", \"opciones\": [\"V\", \"F\"], \"respuesta\": 0},\n",
    "    {\"pregunta\": \"Si p=V y q=F, ¿p → q es...?\", \"opciones\": [\"V\", \"F\"], \"respuesta\": 1}\n",
    "]\n",
    "```\n",
    "\n",
    "**Examen parcial:**  \n",
    "*Demuestre con una tabla de verdad que $(p \\rightarrow q) \\equiv (\\neg p \\lor q)$.*  \n",
    "\n",
    "---\n",
    "\n",
    "**9. Tarea**  \n",
    "**Ejercicio 1:**  \n",
    "Crea una función en Python que genere tablas de verdad para proposiciones con 3 variables (p, q, r).  \n",
    "\n",
    "**Ejercicio 2:**  \n",
    "Resuelve y visualiza la tabla de verdad para $\\neg(p \\lor q) \\rightarrow (\\neg p \\land \\neg q)$.  \n",
    "\n",
    "---\n",
    "\n",
    "**10. Retroalimentación**  \n",
    "**Actividad \"Debuggeando Lógica\":**  \n",
    "- Los estudiantes intercambian notebooks y encuentran errores en tablas de verdad ajenas usando `sympy.satisfiable`.  \n",
    "- Uso de `ipywidgets` para crear un juego de \"Adivina el conector\" con feedback instantáneo.  \n",
    "\n",
    "---\n",
    "\n",
    "**11. Vocabulario en inglés**  \n",
    "- **Truth value**: Valor de verdad (V/F).  \n",
    "- **Logical connective**: Conector lógico.  \n",
    "- **Tautology**: Tautología ($\\equiv V$).  \n",
    "- **Contradiction**: Contradicción ($\\equiv F$).  \n",
    "- *Phrase*: \"The truth table **shows** all possible combinations: `La tabla de verdad muestra todas las combinaciones posibles`.\""
   ]
  },
  {
   "cell_type": "markdown",
   "id": "fb9402bb",
   "metadata": {
    "slideshow": {
     "slide_type": "slide"
    }
   },
   "source": [
    "## Estrategias propuestas para la solución de las dificultades de aprendizaje detectadas"
   ]
  },
  {
   "cell_type": "markdown",
   "id": "2dd3bd5c",
   "metadata": {
    "slideshow": {
     "slide_type": "slide"
    }
   },
   "source": []
  },
  {
   "cell_type": "markdown",
   "id": "c6236d5d",
   "metadata": {},
   "source": [
    "# FODA del grupo y del profesor  \n",
    "\n",
    "* F: Fortalezas\n",
    "* O: Oportunidades\n",
    "* D: Dificultades\n",
    "* A: Amenazas."
   ]
  },
  {
   "cell_type": "markdown",
   "id": "b48f9542",
   "metadata": {},
   "source": [
    "## ¿Cómo se sintió en este espacio de enseñanza y aprendizaje?\n",
    "\n",
    "!Dios te bendiga¡"
   ]
  },
  {
   "cell_type": "markdown",
   "id": "10bce0d0",
   "metadata": {
    "slideshow": {
     "slide_type": "slide"
    }
   },
   "source": [
    "## Referentes "
   ]
  },
  {
   "cell_type": "markdown",
   "id": "d204c917",
   "metadata": {},
   "source": [
    "* [Grajales Vanegas, L. M., Restrepo Estrada, C. E., Restrepo Ochoa, S. I., & Ruíz De Villalba, F. (2015). Matemáticas I para las ciencias económicas.](https://github.com/marco-canas/fundamentos_de_la_aritmetica/blob/main/referentes/2_grajales_logica/grajales_lina_matemticas.pdf)\n",
    "  \n",
    "* Duval, R. (2004). Semiosis y pensamiento humano: registros semióticos y aprendizajes intelectuales. Universidad del Valle.\n",
    "\n",
    "* [Aylwin, C. U. (2011). Lógica, conjuntos y números. Universidad de los Andes, Consejo de Publicaciones, Colección: Ciencias Básicas, Serie: Matemáticas.](https://github.com/marco-canas/fundamentos_logica/blob/main/referentes/2_uzcategui/uscategui.pdf)\n",
    "  \n",
    "* [Chollet, F. (2021). Deep learning with Python. Simon and Schuster.](https://github.com/marco-canas/didactica_ciencia_datos/blob/main/2_referentes/chollet/Fran%C3%A7ois%20Chollet%20-%20Deep%20Learning%20with%20Python-Manning%20(2018).pdf)  \n",
    "  \n",
    "* [Watson, S., Stewart, J., & Redlin, L. (2009). Precálculo. Matemáticas para el cálculo.](https://github.com/marco-canas/calculo/blob/main/referents/1_precalculo_stewart/stewart_precalculo.pdf)  \n",
    "\n",
    "* [Purcell, E. J., Varberg, D., & Rigdon, S. E. (2007). Cálculo diferencial e integral. Pearson Educación.](https://github.com/marco-canas/calculo/blob/main/referents/purcell/purcell_calculo.pdf)\n",
    "\n",
    "  \n",
    "\n",
    "* [stewart cálculo](https://udeaeduco-my.sharepoint.com/:b:/g/personal/marco_canas_udea_edu_co/EZgXZjAp8QxPqOAim2hs6LcBNPLGjSHf-xwYnUVYkwa04w?e=RZdTCy)  \n",
    "\n",
    "* [larson](https://udeaeduco-my.sharepoint.com/:b:/g/personal/marco_canas_udea_edu_co/ES71ChFeO9ZDhW3TwC5Ijk8BjxUK3Pdqz_fjHxTTFAfIAg?e=VDEjfu)\n",
    "\n",
    "\n",
    "\n",
    "* [Recomendación de la UNESCO sobre ciencia abierta](https://unesdoc.unesco.org/ark:/48223/pf0000379949_spa)\n",
    "\n",
    "* [chatGPT](https://openai.com/blog/chatgpt)  \n",
    "\n",
    "* [Géron, A. (2017). Hands-on machine learning with scikit-learn and tensorflow: Concepts. Tools, and Techniques to build intelligent systems.](chrome-extension://efaidnbmnnnibpcajpcglclefindmkaj/http://14.139.161.31/OddSem-0822-1122/Hands-On_Machine_Learning_with_Scikit-Learn-Keras-and-TensorFlow-2nd-Edition-Aurelien-Geron.pdf)   \n"
   ]
  },
  {
   "cell_type": "markdown",
   "id": "6b9e56a8",
   "metadata": {
    "slideshow": {
     "slide_type": "slide"
    }
   },
   "source": [
    "### [Evaluamos al profesor Marco Cañas Aquí](https://forms.office.com/Pages/ResponsePage.aspx?id=IefhmYRxjkmK_7KtTlPBwkanXIs1i1FEujpsZgO6dXpUREJPV1kxUk1JV1ozTFJIQVNIQjY5WEY3US4u)"
   ]
  },
  {
   "cell_type": "markdown",
   "id": "071afa04",
   "metadata": {
    "slideshow": {
     "slide_type": "slide"
    }
   },
   "source": [
    "## [Evaluación luego de alcanzar estos objetivos de aprendizaje]()"
   ]
  },
  {
   "cell_type": "markdown",
   "id": "10f43536",
   "metadata": {
    "slideshow": {
     "slide_type": "slide"
    }
   },
   "source": [
    "### Continue su aprendizaje en la siguiente clase a través del siguiente [vínculo]()"
   ]
  },
  {
   "cell_type": "markdown",
   "id": "af751e30",
   "metadata": {
    "slideshow": {
     "slide_type": "slide"
    }
   },
   "source": [
    "# Conjeturas pedagógicas fruto de la aplicación del modelo de aprendizaje invertido y del enfoque hacia la ciencia de datos con python\n",
    "\n",
    "1. Todo cálculo o resultado debe ser interpretado en una línea markdown del cuaderno Jupyter, inmediatamente después de la enunciación del resultado y después de la presentación de una tabla o gráfico bidimensional, de tal menera que el estudiante explicite la comprensión verbal del resultado y las inferencias o estrategias que este resultado le sugieren.   "
   ]
  }
 ],
 "metadata": {
  "celltoolbar": "Slideshow",
  "kernelspec": {
   "display_name": "Python 3 (ipykernel)",
   "language": "python",
   "name": "python3"
  },
  "language_info": {
   "codemirror_mode": {
    "name": "ipython",
    "version": 3
   },
   "file_extension": ".py",
   "mimetype": "text/x-python",
   "name": "python",
   "nbconvert_exporter": "python",
   "pygments_lexer": "ipython3",
   "version": "3.10.12"
  },
  "rise": {
   "enable_chalkboard": true,
   "theme": "sky",
   "transition": "zoom"
  }
 },
 "nbformat": 4,
 "nbformat_minor": 5
}
