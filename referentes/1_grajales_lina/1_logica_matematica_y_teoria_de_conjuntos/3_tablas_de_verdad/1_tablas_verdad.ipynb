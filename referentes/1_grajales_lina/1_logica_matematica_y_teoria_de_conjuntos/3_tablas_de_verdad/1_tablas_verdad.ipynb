{
 "cells": [
  {
   "cell_type": "markdown",
   "id": "dc06dec7",
   "metadata": {
    "slideshow": {
     "slide_type": "slide"
    }
   },
   "source": [
    "<table align=\"left\">\n",
    "  <td>\n",
    "    <a href=\"https://colab.research.google.com/github/ageron/handson-ml3/blob/main/tools_numpy.ipynb\" target=\"_parent\"><img src=\"https://colab.research.google.com/assets/colab-badge.svg\" alt=\"Open In Colab\"/></a>\n",
    "  </td>\n",
    "  <td>\n",
    "    <a target=\"_blank\" href=\"https://kaggle.com/kernels/welcome?src=https://github.com/ageron/handson-ml3/blob/main/tools_numpy.ipynb\"><img src=\"https://kaggle.com/static/images/open-in-kaggle.svg\" /></a>\n",
    "  </td>\n",
    "</table>"
   ]
  },
  {
   "cell_type": "markdown",
   "id": "e0c5b198",
   "metadata": {
    "slideshow": {
     "slide_type": "slide"
    }
   },
   "source": [
    "### [Video de apoyo a la lectura interactiva y experimental de este cuaderno]()"
   ]
  },
  {
   "cell_type": "markdown",
   "id": "41e82203",
   "metadata": {
    "slideshow": {
     "slide_type": "slide"
    }
   },
   "source": [
    "### [Vínculo al programa del curso:  ]()\n",
    "\n"
   ]
  },
  {
   "cell_type": "markdown",
   "id": "d11ab06d",
   "metadata": {
    "slideshow": {
     "slide_type": "slide"
    }
   },
   "source": [
    "Un reconocimiento a mis estudiantes que han construido conmigo este saber pedagógico:\n",
    "\n",
    "<img src = ''> \n",
    "\n"
   ]
  },
  {
   "cell_type": "markdown",
   "id": "8a74a56c-0ce6-4ad6-b985-553fd7fb68bb",
   "metadata": {},
   "source": [
    "Reconocimiento a las profesoras destacadas en enseñanza de la matemática en Colombia\n"
   ]
  },
  {
   "cell_type": "code",
   "execution_count": 14,
   "id": "b179a7ed",
   "metadata": {},
   "outputs": [
    {
     "data": {
      "application/vnd.microsoft.datawrangler.viewer.v0+json": {
       "columns": [
        {
         "name": "index",
         "rawType": "int64",
         "type": "integer"
        },
        {
         "name": "Cedula",
         "rawType": "int64",
         "type": "integer"
        },
        {
         "name": "Nombre",
         "rawType": "object",
         "type": "string"
        },
        {
         "name": "Email",
         "rawType": "object",
         "type": "string"
        },
        {
         "name": "Parcial",
         "rawType": "float64",
         "type": "float"
        }
       ],
       "conversionMethod": "pd.DataFrame",
       "ref": "72f6e8ef-db6c-4187-9c96-cb5279ddd2ed",
       "rows": [
        [
         "0",
         "1067281024",
         "ALVAREZ GOEZ DAIRO ESTEBAN",
         "dairo.alvarez1@udea.edu.co",
         "0.0"
        ],
        [
         "1",
         "1041086439",
         "CASTILLO SIERRA SHIRLIS SARAY",
         "shirlis.castillo@udea.edu.co",
         "0.0"
        ],
        [
         "2",
         "1045419649",
         "ESPINOSA ESPINOSA LILIANA ANDREA",
         "lilianaa.espinosa@udea.edu.co",
         "0.0"
        ],
        [
         "3",
         "1040494191",
         "GARCIA PADILLA JHONATAN",
         "jhonatan.garcia1@udea.edu.co",
         "0.0"
        ],
        [
         "4",
         "1038098851",
         "GUERRA OSORIO SIMON",
         "s.guerra@udea.edu.co",
         "0.0"
        ],
        [
         "5",
         "1038131529",
         "HOYOS ARRIETA ELIECER JOSE",
         "jose.hoyos2@udea.edu.co",
         "0.0"
        ],
        [
         "6",
         "1038116007",
         "MARIAGA BALLESTEROS KEILA MELIZA",
         "keila.mariaga@udea.edu.co",
         "0.0"
        ],
        [
         "7",
         "1007112550",
         "MARTINEZ MENDOZA JAIR MIGUEL",
         "jair.mmendoza@udea.edu.co",
         "0.0"
        ],
        [
         "8",
         "1038092575",
         "OSORIO ACEVEDO LUIS MARIO",
         "luismario.osorio@udea.edu.co",
         "0.0"
        ],
        [
         "9",
         "1038130817",
         "PENATE PENA JHON SEBASTIAN",
         "jhon.penate@udea.edu.co",
         "0.0"
        ],
        [
         "10",
         "1019842256",
         "RODELO ZABALA ARIANA",
         "a.rodelo@udea.edu.co",
         "0.0"
        ],
        [
         "11",
         "1042822239",
         "RODRIGUEZ MOSQUERA ANGELA MARIA",
         "maria.rodriguez8@udea.edu.co",
         "0.0"
        ],
        [
         "12",
         "1038436130",
         "ROHENES DE ARCO CAMILO ANDRES",
         "camilo.rohenes@udea.edu.co",
         "0.0"
        ],
        [
         "13",
         "1038436131",
         "ROHENES DE ARCO DIEGO ANDRES",
         "diego.rohenes@udea.edu.co",
         "0.0"
        ],
        [
         "14",
         "1032251887",
         "SIERRA OLIVEROS OMAR DARIO",
         "omar.sierra1@udea.edu.co",
         "0.0"
        ],
        [
         "15",
         "1038646944",
         "SILVA URDA FABIAN",
         "fabian.silva1@udea.edu.co",
         "0.0"
        ],
        [
         "16",
         "1007429411",
         "VILLA CABARCA SANDY JANETH",
         "sandy.villac@udea.edu.co",
         "0.0"
        ]
       ],
       "shape": {
        "columns": 4,
        "rows": 17
       }
      },
      "text/html": [
       "<div>\n",
       "<style scoped>\n",
       "    .dataframe tbody tr th:only-of-type {\n",
       "        vertical-align: middle;\n",
       "    }\n",
       "\n",
       "    .dataframe tbody tr th {\n",
       "        vertical-align: top;\n",
       "    }\n",
       "\n",
       "    .dataframe thead th {\n",
       "        text-align: right;\n",
       "    }\n",
       "</style>\n",
       "<table border=\"1\" class=\"dataframe\">\n",
       "  <thead>\n",
       "    <tr style=\"text-align: right;\">\n",
       "      <th></th>\n",
       "      <th>Cedula</th>\n",
       "      <th>Nombre</th>\n",
       "      <th>Email</th>\n",
       "      <th>Parcial</th>\n",
       "    </tr>\n",
       "  </thead>\n",
       "  <tbody>\n",
       "    <tr>\n",
       "      <th>0</th>\n",
       "      <td>1067281024</td>\n",
       "      <td>ALVAREZ GOEZ DAIRO ESTEBAN</td>\n",
       "      <td>dairo.alvarez1@udea.edu.co</td>\n",
       "      <td>0.0</td>\n",
       "    </tr>\n",
       "    <tr>\n",
       "      <th>1</th>\n",
       "      <td>1041086439</td>\n",
       "      <td>CASTILLO SIERRA SHIRLIS SARAY</td>\n",
       "      <td>shirlis.castillo@udea.edu.co</td>\n",
       "      <td>0.0</td>\n",
       "    </tr>\n",
       "    <tr>\n",
       "      <th>2</th>\n",
       "      <td>1045419649</td>\n",
       "      <td>ESPINOSA ESPINOSA LILIANA ANDREA</td>\n",
       "      <td>lilianaa.espinosa@udea.edu.co</td>\n",
       "      <td>0.0</td>\n",
       "    </tr>\n",
       "    <tr>\n",
       "      <th>3</th>\n",
       "      <td>1040494191</td>\n",
       "      <td>GARCIA PADILLA JHONATAN</td>\n",
       "      <td>jhonatan.garcia1@udea.edu.co</td>\n",
       "      <td>0.0</td>\n",
       "    </tr>\n",
       "    <tr>\n",
       "      <th>4</th>\n",
       "      <td>1038098851</td>\n",
       "      <td>GUERRA OSORIO SIMON</td>\n",
       "      <td>s.guerra@udea.edu.co</td>\n",
       "      <td>0.0</td>\n",
       "    </tr>\n",
       "    <tr>\n",
       "      <th>5</th>\n",
       "      <td>1038131529</td>\n",
       "      <td>HOYOS ARRIETA ELIECER JOSE</td>\n",
       "      <td>jose.hoyos2@udea.edu.co</td>\n",
       "      <td>0.0</td>\n",
       "    </tr>\n",
       "    <tr>\n",
       "      <th>6</th>\n",
       "      <td>1038116007</td>\n",
       "      <td>MARIAGA BALLESTEROS KEILA MELIZA</td>\n",
       "      <td>keila.mariaga@udea.edu.co</td>\n",
       "      <td>0.0</td>\n",
       "    </tr>\n",
       "    <tr>\n",
       "      <th>7</th>\n",
       "      <td>1007112550</td>\n",
       "      <td>MARTINEZ MENDOZA JAIR MIGUEL</td>\n",
       "      <td>jair.mmendoza@udea.edu.co</td>\n",
       "      <td>0.0</td>\n",
       "    </tr>\n",
       "    <tr>\n",
       "      <th>8</th>\n",
       "      <td>1038092575</td>\n",
       "      <td>OSORIO ACEVEDO LUIS MARIO</td>\n",
       "      <td>luismario.osorio@udea.edu.co</td>\n",
       "      <td>0.0</td>\n",
       "    </tr>\n",
       "    <tr>\n",
       "      <th>9</th>\n",
       "      <td>1038130817</td>\n",
       "      <td>PENATE PENA JHON SEBASTIAN</td>\n",
       "      <td>jhon.penate@udea.edu.co</td>\n",
       "      <td>0.0</td>\n",
       "    </tr>\n",
       "    <tr>\n",
       "      <th>10</th>\n",
       "      <td>1019842256</td>\n",
       "      <td>RODELO ZABALA ARIANA</td>\n",
       "      <td>a.rodelo@udea.edu.co</td>\n",
       "      <td>0.0</td>\n",
       "    </tr>\n",
       "    <tr>\n",
       "      <th>11</th>\n",
       "      <td>1042822239</td>\n",
       "      <td>RODRIGUEZ MOSQUERA ANGELA MARIA</td>\n",
       "      <td>maria.rodriguez8@udea.edu.co</td>\n",
       "      <td>0.0</td>\n",
       "    </tr>\n",
       "    <tr>\n",
       "      <th>12</th>\n",
       "      <td>1038436130</td>\n",
       "      <td>ROHENES DE ARCO CAMILO ANDRES</td>\n",
       "      <td>camilo.rohenes@udea.edu.co</td>\n",
       "      <td>0.0</td>\n",
       "    </tr>\n",
       "    <tr>\n",
       "      <th>13</th>\n",
       "      <td>1038436131</td>\n",
       "      <td>ROHENES DE ARCO DIEGO ANDRES</td>\n",
       "      <td>diego.rohenes@udea.edu.co</td>\n",
       "      <td>0.0</td>\n",
       "    </tr>\n",
       "    <tr>\n",
       "      <th>14</th>\n",
       "      <td>1032251887</td>\n",
       "      <td>SIERRA OLIVEROS OMAR DARIO</td>\n",
       "      <td>omar.sierra1@udea.edu.co</td>\n",
       "      <td>0.0</td>\n",
       "    </tr>\n",
       "    <tr>\n",
       "      <th>15</th>\n",
       "      <td>1038646944</td>\n",
       "      <td>SILVA URDA FABIAN</td>\n",
       "      <td>fabian.silva1@udea.edu.co</td>\n",
       "      <td>0.0</td>\n",
       "    </tr>\n",
       "    <tr>\n",
       "      <th>16</th>\n",
       "      <td>1007429411</td>\n",
       "      <td>VILLA CABARCA SANDY JANETH</td>\n",
       "      <td>sandy.villac@udea.edu.co</td>\n",
       "      <td>0.0</td>\n",
       "    </tr>\n",
       "  </tbody>\n",
       "</table>\n",
       "</div>"
      ],
      "text/plain": [
       "        Cedula                            Nombre  \\\n",
       "0   1067281024        ALVAREZ GOEZ DAIRO ESTEBAN   \n",
       "1   1041086439     CASTILLO SIERRA SHIRLIS SARAY   \n",
       "2   1045419649  ESPINOSA ESPINOSA LILIANA ANDREA   \n",
       "3   1040494191           GARCIA PADILLA JHONATAN   \n",
       "4   1038098851               GUERRA OSORIO SIMON   \n",
       "5   1038131529        HOYOS ARRIETA ELIECER JOSE   \n",
       "6   1038116007  MARIAGA BALLESTEROS KEILA MELIZA   \n",
       "7   1007112550      MARTINEZ MENDOZA JAIR MIGUEL   \n",
       "8   1038092575         OSORIO ACEVEDO LUIS MARIO   \n",
       "9   1038130817        PENATE PENA JHON SEBASTIAN   \n",
       "10  1019842256              RODELO ZABALA ARIANA   \n",
       "11  1042822239   RODRIGUEZ MOSQUERA ANGELA MARIA   \n",
       "12  1038436130     ROHENES DE ARCO CAMILO ANDRES   \n",
       "13  1038436131      ROHENES DE ARCO DIEGO ANDRES   \n",
       "14  1032251887        SIERRA OLIVEROS OMAR DARIO   \n",
       "15  1038646944                 SILVA URDA FABIAN   \n",
       "16  1007429411        VILLA CABARCA SANDY JANETH   \n",
       "\n",
       "                            Email  Parcial  \n",
       "0      dairo.alvarez1@udea.edu.co      0.0  \n",
       "1    shirlis.castillo@udea.edu.co      0.0  \n",
       "2   lilianaa.espinosa@udea.edu.co      0.0  \n",
       "3    jhonatan.garcia1@udea.edu.co      0.0  \n",
       "4            s.guerra@udea.edu.co      0.0  \n",
       "5         jose.hoyos2@udea.edu.co      0.0  \n",
       "6       keila.mariaga@udea.edu.co      0.0  \n",
       "7       jair.mmendoza@udea.edu.co      0.0  \n",
       "8    luismario.osorio@udea.edu.co      0.0  \n",
       "9         jhon.penate@udea.edu.co      0.0  \n",
       "10           a.rodelo@udea.edu.co      0.0  \n",
       "11   maria.rodriguez8@udea.edu.co      0.0  \n",
       "12     camilo.rohenes@udea.edu.co      0.0  \n",
       "13      diego.rohenes@udea.edu.co      0.0  \n",
       "14       omar.sierra1@udea.edu.co      0.0  \n",
       "15      fabian.silva1@udea.edu.co      0.0  \n",
       "16       sandy.villac@udea.edu.co      0.0  "
      ]
     },
     "execution_count": 14,
     "metadata": {},
     "output_type": "execute_result"
    }
   ],
   "source": [
    "import pandas as pd\n",
    "import numpy as np\n",
    "\n",
    "# Cargar la lista de estudiantes desde el archivo CSV\n",
    "path = 'C:/Users/marco/Documentos/docencia/groups_list/logica.csv'\n",
    "estudiantes = pd.read_csv(path, sep = ';')\n",
    "estudiantes['Parcial'] = estudiantes['Parcial'].astype(float)  # Asegurar que la columna 'Parcial' es float\n",
    "estudiantes.head(17)"
   ]
  },
  {
   "cell_type": "code",
   "execution_count": 15,
   "id": "adb345dc",
   "metadata": {},
   "outputs": [],
   "source": [
    "estudiantes['Asistencia'] = np.zeros_like(len(estudiantes))\n",
    "estudiantes.to_csv('logica.csv')"
   ]
  },
  {
   "cell_type": "code",
   "execution_count": 16,
   "id": "3268dbba",
   "metadata": {},
   "outputs": [
    {
     "data": {
      "application/vnd.microsoft.datawrangler.viewer.v0+json": {
       "columns": [
        {
         "name": "index",
         "rawType": "int64",
         "type": "integer"
        },
        {
         "name": "Cedula",
         "rawType": "int64",
         "type": "integer"
        },
        {
         "name": "Nombre",
         "rawType": "object",
         "type": "string"
        },
        {
         "name": "Email",
         "rawType": "object",
         "type": "string"
        },
        {
         "name": "Parcial",
         "rawType": "float64",
         "type": "float"
        },
        {
         "name": "Asistencia",
         "rawType": "int64",
         "type": "integer"
        }
       ],
       "conversionMethod": "pd.DataFrame",
       "ref": "c839b825-2194-4f61-937f-148f3f94d605",
       "rows": [
        [
         "0",
         "1067281024",
         "ALVAREZ GOEZ DAIRO ESTEBAN",
         "dairo.alvarez1@udea.edu.co",
         "0.0",
         "0"
        ],
        [
         "1",
         "1041086439",
         "CASTILLO SIERRA SHIRLIS SARAY",
         "shirlis.castillo@udea.edu.co",
         "0.0",
         "0"
        ],
        [
         "2",
         "1045419649",
         "ESPINOSA ESPINOSA LILIANA ANDREA",
         "lilianaa.espinosa@udea.edu.co",
         "0.0",
         "0"
        ],
        [
         "3",
         "1040494191",
         "GARCIA PADILLA JHONATAN",
         "jhonatan.garcia1@udea.edu.co",
         "0.0",
         "0"
        ],
        [
         "4",
         "1038098851",
         "GUERRA OSORIO SIMON",
         "s.guerra@udea.edu.co",
         "0.0",
         "0"
        ]
       ],
       "shape": {
        "columns": 5,
        "rows": 5
       }
      },
      "text/html": [
       "<div>\n",
       "<style scoped>\n",
       "    .dataframe tbody tr th:only-of-type {\n",
       "        vertical-align: middle;\n",
       "    }\n",
       "\n",
       "    .dataframe tbody tr th {\n",
       "        vertical-align: top;\n",
       "    }\n",
       "\n",
       "    .dataframe thead th {\n",
       "        text-align: right;\n",
       "    }\n",
       "</style>\n",
       "<table border=\"1\" class=\"dataframe\">\n",
       "  <thead>\n",
       "    <tr style=\"text-align: right;\">\n",
       "      <th></th>\n",
       "      <th>Cedula</th>\n",
       "      <th>Nombre</th>\n",
       "      <th>Email</th>\n",
       "      <th>Parcial</th>\n",
       "      <th>Asistencia</th>\n",
       "    </tr>\n",
       "  </thead>\n",
       "  <tbody>\n",
       "    <tr>\n",
       "      <th>0</th>\n",
       "      <td>1067281024</td>\n",
       "      <td>ALVAREZ GOEZ DAIRO ESTEBAN</td>\n",
       "      <td>dairo.alvarez1@udea.edu.co</td>\n",
       "      <td>0.0</td>\n",
       "      <td>0</td>\n",
       "    </tr>\n",
       "    <tr>\n",
       "      <th>1</th>\n",
       "      <td>1041086439</td>\n",
       "      <td>CASTILLO SIERRA SHIRLIS SARAY</td>\n",
       "      <td>shirlis.castillo@udea.edu.co</td>\n",
       "      <td>0.0</td>\n",
       "      <td>0</td>\n",
       "    </tr>\n",
       "    <tr>\n",
       "      <th>2</th>\n",
       "      <td>1045419649</td>\n",
       "      <td>ESPINOSA ESPINOSA LILIANA ANDREA</td>\n",
       "      <td>lilianaa.espinosa@udea.edu.co</td>\n",
       "      <td>0.0</td>\n",
       "      <td>0</td>\n",
       "    </tr>\n",
       "    <tr>\n",
       "      <th>3</th>\n",
       "      <td>1040494191</td>\n",
       "      <td>GARCIA PADILLA JHONATAN</td>\n",
       "      <td>jhonatan.garcia1@udea.edu.co</td>\n",
       "      <td>0.0</td>\n",
       "      <td>0</td>\n",
       "    </tr>\n",
       "    <tr>\n",
       "      <th>4</th>\n",
       "      <td>1038098851</td>\n",
       "      <td>GUERRA OSORIO SIMON</td>\n",
       "      <td>s.guerra@udea.edu.co</td>\n",
       "      <td>0.0</td>\n",
       "      <td>0</td>\n",
       "    </tr>\n",
       "  </tbody>\n",
       "</table>\n",
       "</div>"
      ],
      "text/plain": [
       "       Cedula                            Nombre  \\\n",
       "0  1067281024        ALVAREZ GOEZ DAIRO ESTEBAN   \n",
       "1  1041086439     CASTILLO SIERRA SHIRLIS SARAY   \n",
       "2  1045419649  ESPINOSA ESPINOSA LILIANA ANDREA   \n",
       "3  1040494191           GARCIA PADILLA JHONATAN   \n",
       "4  1038098851               GUERRA OSORIO SIMON   \n",
       "\n",
       "                           Email  Parcial  Asistencia  \n",
       "0     dairo.alvarez1@udea.edu.co      0.0           0  \n",
       "1   shirlis.castillo@udea.edu.co      0.0           0  \n",
       "2  lilianaa.espinosa@udea.edu.co      0.0           0  \n",
       "3   jhonatan.garcia1@udea.edu.co      0.0           0  \n",
       "4           s.guerra@udea.edu.co      0.0           0  "
      ]
     },
     "execution_count": 16,
     "metadata": {},
     "output_type": "execute_result"
    }
   ],
   "source": [
    "estudiantes.head() "
   ]
  },
  {
   "cell_type": "code",
   "execution_count": 17,
   "id": "e1dc3e00",
   "metadata": {},
   "outputs": [
    {
     "data": {
      "text/plain": [
       "Index(['Cedula', 'Nombre', 'Email', 'Parcial', 'Asistencia'], dtype='object')"
      ]
     },
     "execution_count": 17,
     "metadata": {},
     "output_type": "execute_result"
    }
   ],
   "source": [
    "estudiantes.keys() "
   ]
  },
  {
   "cell_type": "code",
   "execution_count": 18,
   "id": "7604880f",
   "metadata": {
    "slideshow": {
     "slide_type": "slide"
    }
   },
   "outputs": [
    {
     "name": "stdout",
     "output_type": "stream",
     "text": [
      "Llamando a ALVAREZ GOEZ DAIRO ESTEBAN...\n"
     ]
    },
    {
     "name": "stdout",
     "output_type": "stream",
     "text": [
      "Llamando a ROHENES DE ARCO CAMILO ANDRES...\n",
      "Llamando a ESPINOSA ESPINOSA LILIANA ANDREA...\n",
      "Llamando a MARIAGA BALLESTEROS KEILA MELIZA...\n",
      "Llamando a CASTILLO SIERRA SHIRLIS SARAY...\n",
      "Llamando a SIERRA OLIVEROS OMAR DARIO...\n",
      "Llamando a OSORIO ACEVEDO LUIS MARIO...\n",
      "Llamando a RODELO ZABALA ARIANA...\n",
      "Llamando a HOYOS ARRIETA ELIECER JOSE...\n",
      "Llamando a GARCIA PADILLA JHONATAN...\n",
      "Llamando a PENATE PENA JHON SEBASTIAN...\n",
      "Llamando a GUERRA OSORIO SIMON...\n",
      "Llamando a SILVA URDA FABIAN...\n",
      "Llamando a RODRIGUEZ MOSQUERA ANGELA MARIA...\n",
      "Llamando a MARTINEZ MENDOZA JAIR MIGUEL...\n",
      "Llamando a VILLA CABARCA SANDY JANETH...\n",
      "Llamando a ROHENES DE ARCO DIEGO ANDRES...\n"
     ]
    },
    {
     "ename": "PermissionError",
     "evalue": "[Errno 13] Permission denied: 'C:/Users/marco/Documentos/docencia/groups_list/logica.csv'",
     "output_type": "error",
     "traceback": [
      "\u001b[1;31m---------------------------------------------------------------------------\u001b[0m",
      "\u001b[1;31mPermissionError\u001b[0m                           Traceback (most recent call last)",
      "Cell \u001b[1;32mIn[18], line 47\u001b[0m\n\u001b[0;32m     44\u001b[0m     asistencia()\n\u001b[0;32m     46\u001b[0m \u001b[38;5;66;03m# Guardar los cambios una vez que todos los estudiantes hayan sido llamados\u001b[39;00m\n\u001b[1;32m---> 47\u001b[0m \u001b[43mguardar_cambios\u001b[49m\u001b[43m(\u001b[49m\u001b[43m)\u001b[49m\n",
      "Cell \u001b[1;32mIn[18], line 39\u001b[0m, in \u001b[0;36mguardar_cambios\u001b[1;34m()\u001b[0m\n\u001b[0;32m     38\u001b[0m \u001b[38;5;28;01mdef\u001b[39;00m\u001b[38;5;250m \u001b[39m\u001b[38;5;21mguardar_cambios\u001b[39m():\n\u001b[1;32m---> 39\u001b[0m     \u001b[43mestudiantes\u001b[49m\u001b[38;5;241;43m.\u001b[39;49m\u001b[43mto_csv\u001b[49m\u001b[43m(\u001b[49m\u001b[43mpath\u001b[49m\u001b[43m,\u001b[49m\u001b[43m \u001b[49m\u001b[43mindex\u001b[49m\u001b[38;5;241;43m=\u001b[39;49m\u001b[38;5;28;43;01mFalse\u001b[39;49;00m\u001b[43m)\u001b[49m\n\u001b[0;32m     40\u001b[0m     \u001b[38;5;28mprint\u001b[39m(\u001b[38;5;124m\"\u001b[39m\u001b[38;5;124mCambios guardados en el archivo CSV.\u001b[39m\u001b[38;5;124m\"\u001b[39m)\n",
      "File \u001b[1;32mc:\\Users\\marco\\Documentos\\docencia\\fundamentos_logica\\.venv\\Lib\\site-packages\\pandas\\util\\_decorators.py:333\u001b[0m, in \u001b[0;36mdeprecate_nonkeyword_arguments.<locals>.decorate.<locals>.wrapper\u001b[1;34m(*args, **kwargs)\u001b[0m\n\u001b[0;32m    327\u001b[0m \u001b[38;5;28;01mif\u001b[39;00m \u001b[38;5;28mlen\u001b[39m(args) \u001b[38;5;241m>\u001b[39m num_allow_args:\n\u001b[0;32m    328\u001b[0m     warnings\u001b[38;5;241m.\u001b[39mwarn(\n\u001b[0;32m    329\u001b[0m         msg\u001b[38;5;241m.\u001b[39mformat(arguments\u001b[38;5;241m=\u001b[39m_format_argument_list(allow_args)),\n\u001b[0;32m    330\u001b[0m         \u001b[38;5;167;01mFutureWarning\u001b[39;00m,\n\u001b[0;32m    331\u001b[0m         stacklevel\u001b[38;5;241m=\u001b[39mfind_stack_level(),\n\u001b[0;32m    332\u001b[0m     )\n\u001b[1;32m--> 333\u001b[0m \u001b[38;5;28;01mreturn\u001b[39;00m \u001b[43mfunc\u001b[49m\u001b[43m(\u001b[49m\u001b[38;5;241;43m*\u001b[39;49m\u001b[43margs\u001b[49m\u001b[43m,\u001b[49m\u001b[43m \u001b[49m\u001b[38;5;241;43m*\u001b[39;49m\u001b[38;5;241;43m*\u001b[39;49m\u001b[43mkwargs\u001b[49m\u001b[43m)\u001b[49m\n",
      "File \u001b[1;32mc:\\Users\\marco\\Documentos\\docencia\\fundamentos_logica\\.venv\\Lib\\site-packages\\pandas\\core\\generic.py:3967\u001b[0m, in \u001b[0;36mNDFrame.to_csv\u001b[1;34m(self, path_or_buf, sep, na_rep, float_format, columns, header, index, index_label, mode, encoding, compression, quoting, quotechar, lineterminator, chunksize, date_format, doublequote, escapechar, decimal, errors, storage_options)\u001b[0m\n\u001b[0;32m   3956\u001b[0m df \u001b[38;5;241m=\u001b[39m \u001b[38;5;28mself\u001b[39m \u001b[38;5;28;01mif\u001b[39;00m \u001b[38;5;28misinstance\u001b[39m(\u001b[38;5;28mself\u001b[39m, ABCDataFrame) \u001b[38;5;28;01melse\u001b[39;00m \u001b[38;5;28mself\u001b[39m\u001b[38;5;241m.\u001b[39mto_frame()\n\u001b[0;32m   3958\u001b[0m formatter \u001b[38;5;241m=\u001b[39m DataFrameFormatter(\n\u001b[0;32m   3959\u001b[0m     frame\u001b[38;5;241m=\u001b[39mdf,\n\u001b[0;32m   3960\u001b[0m     header\u001b[38;5;241m=\u001b[39mheader,\n\u001b[1;32m   (...)\u001b[0m\n\u001b[0;32m   3964\u001b[0m     decimal\u001b[38;5;241m=\u001b[39mdecimal,\n\u001b[0;32m   3965\u001b[0m )\n\u001b[1;32m-> 3967\u001b[0m \u001b[38;5;28;01mreturn\u001b[39;00m \u001b[43mDataFrameRenderer\u001b[49m\u001b[43m(\u001b[49m\u001b[43mformatter\u001b[49m\u001b[43m)\u001b[49m\u001b[38;5;241;43m.\u001b[39;49m\u001b[43mto_csv\u001b[49m\u001b[43m(\u001b[49m\n\u001b[0;32m   3968\u001b[0m \u001b[43m    \u001b[49m\u001b[43mpath_or_buf\u001b[49m\u001b[43m,\u001b[49m\n\u001b[0;32m   3969\u001b[0m \u001b[43m    \u001b[49m\u001b[43mlineterminator\u001b[49m\u001b[38;5;241;43m=\u001b[39;49m\u001b[43mlineterminator\u001b[49m\u001b[43m,\u001b[49m\n\u001b[0;32m   3970\u001b[0m \u001b[43m    \u001b[49m\u001b[43msep\u001b[49m\u001b[38;5;241;43m=\u001b[39;49m\u001b[43msep\u001b[49m\u001b[43m,\u001b[49m\n\u001b[0;32m   3971\u001b[0m \u001b[43m    \u001b[49m\u001b[43mencoding\u001b[49m\u001b[38;5;241;43m=\u001b[39;49m\u001b[43mencoding\u001b[49m\u001b[43m,\u001b[49m\n\u001b[0;32m   3972\u001b[0m \u001b[43m    \u001b[49m\u001b[43merrors\u001b[49m\u001b[38;5;241;43m=\u001b[39;49m\u001b[43merrors\u001b[49m\u001b[43m,\u001b[49m\n\u001b[0;32m   3973\u001b[0m \u001b[43m    \u001b[49m\u001b[43mcompression\u001b[49m\u001b[38;5;241;43m=\u001b[39;49m\u001b[43mcompression\u001b[49m\u001b[43m,\u001b[49m\n\u001b[0;32m   3974\u001b[0m \u001b[43m    \u001b[49m\u001b[43mquoting\u001b[49m\u001b[38;5;241;43m=\u001b[39;49m\u001b[43mquoting\u001b[49m\u001b[43m,\u001b[49m\n\u001b[0;32m   3975\u001b[0m \u001b[43m    \u001b[49m\u001b[43mcolumns\u001b[49m\u001b[38;5;241;43m=\u001b[39;49m\u001b[43mcolumns\u001b[49m\u001b[43m,\u001b[49m\n\u001b[0;32m   3976\u001b[0m \u001b[43m    \u001b[49m\u001b[43mindex_label\u001b[49m\u001b[38;5;241;43m=\u001b[39;49m\u001b[43mindex_label\u001b[49m\u001b[43m,\u001b[49m\n\u001b[0;32m   3977\u001b[0m \u001b[43m    \u001b[49m\u001b[43mmode\u001b[49m\u001b[38;5;241;43m=\u001b[39;49m\u001b[43mmode\u001b[49m\u001b[43m,\u001b[49m\n\u001b[0;32m   3978\u001b[0m \u001b[43m    \u001b[49m\u001b[43mchunksize\u001b[49m\u001b[38;5;241;43m=\u001b[39;49m\u001b[43mchunksize\u001b[49m\u001b[43m,\u001b[49m\n\u001b[0;32m   3979\u001b[0m \u001b[43m    \u001b[49m\u001b[43mquotechar\u001b[49m\u001b[38;5;241;43m=\u001b[39;49m\u001b[43mquotechar\u001b[49m\u001b[43m,\u001b[49m\n\u001b[0;32m   3980\u001b[0m \u001b[43m    \u001b[49m\u001b[43mdate_format\u001b[49m\u001b[38;5;241;43m=\u001b[39;49m\u001b[43mdate_format\u001b[49m\u001b[43m,\u001b[49m\n\u001b[0;32m   3981\u001b[0m \u001b[43m    \u001b[49m\u001b[43mdoublequote\u001b[49m\u001b[38;5;241;43m=\u001b[39;49m\u001b[43mdoublequote\u001b[49m\u001b[43m,\u001b[49m\n\u001b[0;32m   3982\u001b[0m \u001b[43m    \u001b[49m\u001b[43mescapechar\u001b[49m\u001b[38;5;241;43m=\u001b[39;49m\u001b[43mescapechar\u001b[49m\u001b[43m,\u001b[49m\n\u001b[0;32m   3983\u001b[0m \u001b[43m    \u001b[49m\u001b[43mstorage_options\u001b[49m\u001b[38;5;241;43m=\u001b[39;49m\u001b[43mstorage_options\u001b[49m\u001b[43m,\u001b[49m\n\u001b[0;32m   3984\u001b[0m \u001b[43m\u001b[49m\u001b[43m)\u001b[49m\n",
      "File \u001b[1;32mc:\\Users\\marco\\Documentos\\docencia\\fundamentos_logica\\.venv\\Lib\\site-packages\\pandas\\io\\formats\\format.py:1014\u001b[0m, in \u001b[0;36mDataFrameRenderer.to_csv\u001b[1;34m(self, path_or_buf, encoding, sep, columns, index_label, mode, compression, quoting, quotechar, lineterminator, chunksize, date_format, doublequote, escapechar, errors, storage_options)\u001b[0m\n\u001b[0;32m    993\u001b[0m     created_buffer \u001b[38;5;241m=\u001b[39m \u001b[38;5;28;01mFalse\u001b[39;00m\n\u001b[0;32m    995\u001b[0m csv_formatter \u001b[38;5;241m=\u001b[39m CSVFormatter(\n\u001b[0;32m    996\u001b[0m     path_or_buf\u001b[38;5;241m=\u001b[39mpath_or_buf,\n\u001b[0;32m    997\u001b[0m     lineterminator\u001b[38;5;241m=\u001b[39mlineterminator,\n\u001b[1;32m   (...)\u001b[0m\n\u001b[0;32m   1012\u001b[0m     formatter\u001b[38;5;241m=\u001b[39m\u001b[38;5;28mself\u001b[39m\u001b[38;5;241m.\u001b[39mfmt,\n\u001b[0;32m   1013\u001b[0m )\n\u001b[1;32m-> 1014\u001b[0m \u001b[43mcsv_formatter\u001b[49m\u001b[38;5;241;43m.\u001b[39;49m\u001b[43msave\u001b[49m\u001b[43m(\u001b[49m\u001b[43m)\u001b[49m\n\u001b[0;32m   1016\u001b[0m \u001b[38;5;28;01mif\u001b[39;00m created_buffer:\n\u001b[0;32m   1017\u001b[0m     \u001b[38;5;28;01massert\u001b[39;00m \u001b[38;5;28misinstance\u001b[39m(path_or_buf, StringIO)\n",
      "File \u001b[1;32mc:\\Users\\marco\\Documentos\\docencia\\fundamentos_logica\\.venv\\Lib\\site-packages\\pandas\\io\\formats\\csvs.py:251\u001b[0m, in \u001b[0;36mCSVFormatter.save\u001b[1;34m(self)\u001b[0m\n\u001b[0;32m    247\u001b[0m \u001b[38;5;250m\u001b[39m\u001b[38;5;124;03m\"\"\"\u001b[39;00m\n\u001b[0;32m    248\u001b[0m \u001b[38;5;124;03mCreate the writer & save.\u001b[39;00m\n\u001b[0;32m    249\u001b[0m \u001b[38;5;124;03m\"\"\"\u001b[39;00m\n\u001b[0;32m    250\u001b[0m \u001b[38;5;66;03m# apply compression and byte/text conversion\u001b[39;00m\n\u001b[1;32m--> 251\u001b[0m \u001b[38;5;28;01mwith\u001b[39;00m \u001b[43mget_handle\u001b[49m\u001b[43m(\u001b[49m\n\u001b[0;32m    252\u001b[0m \u001b[43m    \u001b[49m\u001b[38;5;28;43mself\u001b[39;49m\u001b[38;5;241;43m.\u001b[39;49m\u001b[43mfilepath_or_buffer\u001b[49m\u001b[43m,\u001b[49m\n\u001b[0;32m    253\u001b[0m \u001b[43m    \u001b[49m\u001b[38;5;28;43mself\u001b[39;49m\u001b[38;5;241;43m.\u001b[39;49m\u001b[43mmode\u001b[49m\u001b[43m,\u001b[49m\n\u001b[0;32m    254\u001b[0m \u001b[43m    \u001b[49m\u001b[43mencoding\u001b[49m\u001b[38;5;241;43m=\u001b[39;49m\u001b[38;5;28;43mself\u001b[39;49m\u001b[38;5;241;43m.\u001b[39;49m\u001b[43mencoding\u001b[49m\u001b[43m,\u001b[49m\n\u001b[0;32m    255\u001b[0m \u001b[43m    \u001b[49m\u001b[43merrors\u001b[49m\u001b[38;5;241;43m=\u001b[39;49m\u001b[38;5;28;43mself\u001b[39;49m\u001b[38;5;241;43m.\u001b[39;49m\u001b[43merrors\u001b[49m\u001b[43m,\u001b[49m\n\u001b[0;32m    256\u001b[0m \u001b[43m    \u001b[49m\u001b[43mcompression\u001b[49m\u001b[38;5;241;43m=\u001b[39;49m\u001b[38;5;28;43mself\u001b[39;49m\u001b[38;5;241;43m.\u001b[39;49m\u001b[43mcompression\u001b[49m\u001b[43m,\u001b[49m\n\u001b[0;32m    257\u001b[0m \u001b[43m    \u001b[49m\u001b[43mstorage_options\u001b[49m\u001b[38;5;241;43m=\u001b[39;49m\u001b[38;5;28;43mself\u001b[39;49m\u001b[38;5;241;43m.\u001b[39;49m\u001b[43mstorage_options\u001b[49m\u001b[43m,\u001b[49m\n\u001b[0;32m    258\u001b[0m \u001b[43m\u001b[49m\u001b[43m)\u001b[49m \u001b[38;5;28;01mas\u001b[39;00m handles:\n\u001b[0;32m    259\u001b[0m     \u001b[38;5;66;03m# Note: self.encoding is irrelevant here\u001b[39;00m\n\u001b[0;32m    260\u001b[0m     \u001b[38;5;28mself\u001b[39m\u001b[38;5;241m.\u001b[39mwriter \u001b[38;5;241m=\u001b[39m csvlib\u001b[38;5;241m.\u001b[39mwriter(\n\u001b[0;32m    261\u001b[0m         handles\u001b[38;5;241m.\u001b[39mhandle,\n\u001b[0;32m    262\u001b[0m         lineterminator\u001b[38;5;241m=\u001b[39m\u001b[38;5;28mself\u001b[39m\u001b[38;5;241m.\u001b[39mlineterminator,\n\u001b[1;32m   (...)\u001b[0m\n\u001b[0;32m    267\u001b[0m         quotechar\u001b[38;5;241m=\u001b[39m\u001b[38;5;28mself\u001b[39m\u001b[38;5;241m.\u001b[39mquotechar,\n\u001b[0;32m    268\u001b[0m     )\n\u001b[0;32m    270\u001b[0m     \u001b[38;5;28mself\u001b[39m\u001b[38;5;241m.\u001b[39m_save()\n",
      "File \u001b[1;32mc:\\Users\\marco\\Documentos\\docencia\\fundamentos_logica\\.venv\\Lib\\site-packages\\pandas\\io\\common.py:873\u001b[0m, in \u001b[0;36mget_handle\u001b[1;34m(path_or_buf, mode, encoding, compression, memory_map, is_text, errors, storage_options)\u001b[0m\n\u001b[0;32m    868\u001b[0m \u001b[38;5;28;01melif\u001b[39;00m \u001b[38;5;28misinstance\u001b[39m(handle, \u001b[38;5;28mstr\u001b[39m):\n\u001b[0;32m    869\u001b[0m     \u001b[38;5;66;03m# Check whether the filename is to be opened in binary mode.\u001b[39;00m\n\u001b[0;32m    870\u001b[0m     \u001b[38;5;66;03m# Binary mode does not support 'encoding' and 'newline'.\u001b[39;00m\n\u001b[0;32m    871\u001b[0m     \u001b[38;5;28;01mif\u001b[39;00m ioargs\u001b[38;5;241m.\u001b[39mencoding \u001b[38;5;129;01mand\u001b[39;00m \u001b[38;5;124m\"\u001b[39m\u001b[38;5;124mb\u001b[39m\u001b[38;5;124m\"\u001b[39m \u001b[38;5;129;01mnot\u001b[39;00m \u001b[38;5;129;01min\u001b[39;00m ioargs\u001b[38;5;241m.\u001b[39mmode:\n\u001b[0;32m    872\u001b[0m         \u001b[38;5;66;03m# Encoding\u001b[39;00m\n\u001b[1;32m--> 873\u001b[0m         handle \u001b[38;5;241m=\u001b[39m \u001b[38;5;28;43mopen\u001b[39;49m\u001b[43m(\u001b[49m\n\u001b[0;32m    874\u001b[0m \u001b[43m            \u001b[49m\u001b[43mhandle\u001b[49m\u001b[43m,\u001b[49m\n\u001b[0;32m    875\u001b[0m \u001b[43m            \u001b[49m\u001b[43mioargs\u001b[49m\u001b[38;5;241;43m.\u001b[39;49m\u001b[43mmode\u001b[49m\u001b[43m,\u001b[49m\n\u001b[0;32m    876\u001b[0m \u001b[43m            \u001b[49m\u001b[43mencoding\u001b[49m\u001b[38;5;241;43m=\u001b[39;49m\u001b[43mioargs\u001b[49m\u001b[38;5;241;43m.\u001b[39;49m\u001b[43mencoding\u001b[49m\u001b[43m,\u001b[49m\n\u001b[0;32m    877\u001b[0m \u001b[43m            \u001b[49m\u001b[43merrors\u001b[49m\u001b[38;5;241;43m=\u001b[39;49m\u001b[43merrors\u001b[49m\u001b[43m,\u001b[49m\n\u001b[0;32m    878\u001b[0m \u001b[43m            \u001b[49m\u001b[43mnewline\u001b[49m\u001b[38;5;241;43m=\u001b[39;49m\u001b[38;5;124;43m\"\u001b[39;49m\u001b[38;5;124;43m\"\u001b[39;49m\u001b[43m,\u001b[49m\n\u001b[0;32m    879\u001b[0m \u001b[43m        \u001b[49m\u001b[43m)\u001b[49m\n\u001b[0;32m    880\u001b[0m     \u001b[38;5;28;01melse\u001b[39;00m:\n\u001b[0;32m    881\u001b[0m         \u001b[38;5;66;03m# Binary mode\u001b[39;00m\n\u001b[0;32m    882\u001b[0m         handle \u001b[38;5;241m=\u001b[39m \u001b[38;5;28mopen\u001b[39m(handle, ioargs\u001b[38;5;241m.\u001b[39mmode)\n",
      "\u001b[1;31mPermissionError\u001b[0m: [Errno 13] Permission denied: 'C:/Users/marco/Documentos/docencia/groups_list/logica.csv'"
     ]
    }
   ],
   "source": [
    "import pandas as pd\n",
    "import numpy as np\n",
    "\n",
    "# Cargar la lista de estudiantes desde el archivo CSV\n",
    "# path = 'C:/Users/marco/Documentos/docencia/groups_list/logica.csv'\n",
    "# estudiantes = pd.read_csv(path)\n",
    "# estudiantes['Asistencia'] = estudiantes['Asistencia'].astype(float)  # Asegurar que la columna 'Parcial' es float\n",
    "\n",
    "# Convertir la columna 'Nombre' a una lista de Python\n",
    "lista_estudiantes = estudiantes['Nombre'].tolist()\n",
    "\n",
    "# Función para llamar a un estudiante aleatoriamente y registrar su nota de seguimiento\n",
    "def asistencia():\n",
    "    global lista_estudiantes\n",
    "    if lista_estudiantes:\n",
    "        estudiante_aleatorio = np.random.choice(lista_estudiantes)\n",
    "        print(f\"Llamando a {estudiante_aleatorio}...\")\n",
    "        asistencia = input(f\"¿Asistió {estudiante_aleatorio}? (s/n): \").strip().lower()\n",
    "        \n",
    "        # Validación de entrada\n",
    "        if asistencia == 'n':\n",
    "            # Obtener el índice del estudiante en el DataFrame\n",
    "            indice = estudiantes[estudiantes['Nombre'] == estudiante_aleatorio].index[0]\n",
    "            # Incrementar su valor en la columna 'Parcial'\n",
    "            estudiantes.at[indice, 'Asistencia'] += 4\n",
    "            print(f\"Actualizado: {estudiante_aleatorio} ahora tiene {estudiantes.at[indice, 'Parcial']} en la columna 'Parcial'.\")\n",
    "        \n",
    "        elif asistencia != 's':\n",
    "            print(\"Entrada inválida. Por favor, introduce 's' para sí o 'n' para no.\")\n",
    "            return  # Volver a preguntar para el mismo estudiante si la entrada es inválida\n",
    "        \n",
    "        # Remover al estudiante de la lista para no llamarlo de nuevo\n",
    "        lista_estudiantes.remove(estudiante_aleatorio)\n",
    "    else:\n",
    "        print(\"Se han llamado a todos los estudiantes del grupo completo.\")\n",
    "\n",
    "# Función para guardar cambios al final de la sesión\n",
    "def guardar_cambios():\n",
    "    estudiantes.to_csv(path, index=False)\n",
    "    print(\"Cambios guardados en el archivo CSV.\")\n",
    "\n",
    "# Ejemplo de uso\n",
    "while lista_estudiantes:\n",
    "    asistencia()\n",
    "\n",
    "# Guardar los cambios una vez que todos los estudiantes hayan sido llamados\n",
    "guardar_cambios()\n",
    "\n"
   ]
  },
  {
   "cell_type": "code",
   "execution_count": 19,
   "id": "87bfa29b",
   "metadata": {},
   "outputs": [
    {
     "data": {
      "application/vnd.microsoft.datawrangler.viewer.v0+json": {
       "columns": [
        {
         "name": "index",
         "rawType": "int64",
         "type": "integer"
        },
        {
         "name": "Cedula",
         "rawType": "int64",
         "type": "integer"
        },
        {
         "name": "Nombre",
         "rawType": "object",
         "type": "string"
        },
        {
         "name": "Email",
         "rawType": "object",
         "type": "string"
        },
        {
         "name": "Parcial",
         "rawType": "float64",
         "type": "float"
        },
        {
         "name": "Asistencia",
         "rawType": "int64",
         "type": "integer"
        }
       ],
       "conversionMethod": "pd.DataFrame",
       "ref": "66c7f421-4e49-42dd-b3d8-1c438ffcdff2",
       "rows": [
        [
         "0",
         "1067281024",
         "ALVAREZ GOEZ DAIRO ESTEBAN",
         "dairo.alvarez1@udea.edu.co",
         "0.0",
         "0"
        ],
        [
         "1",
         "1041086439",
         "CASTILLO SIERRA SHIRLIS SARAY",
         "shirlis.castillo@udea.edu.co",
         "0.0",
         "0"
        ],
        [
         "2",
         "1045419649",
         "ESPINOSA ESPINOSA LILIANA ANDREA",
         "lilianaa.espinosa@udea.edu.co",
         "0.0",
         "0"
        ],
        [
         "3",
         "1040494191",
         "GARCIA PADILLA JHONATAN",
         "jhonatan.garcia1@udea.edu.co",
         "0.0",
         "0"
        ],
        [
         "4",
         "1038098851",
         "GUERRA OSORIO SIMON",
         "s.guerra@udea.edu.co",
         "0.0",
         "0"
        ],
        [
         "5",
         "1038131529",
         "HOYOS ARRIETA ELIECER JOSE",
         "jose.hoyos2@udea.edu.co",
         "0.0",
         "0"
        ],
        [
         "6",
         "1038116007",
         "MARIAGA BALLESTEROS KEILA MELIZA",
         "keila.mariaga@udea.edu.co",
         "0.0",
         "0"
        ],
        [
         "7",
         "1007112550",
         "MARTINEZ MENDOZA JAIR MIGUEL",
         "jair.mmendoza@udea.edu.co",
         "0.0",
         "0"
        ],
        [
         "8",
         "1038092575",
         "OSORIO ACEVEDO LUIS MARIO",
         "luismario.osorio@udea.edu.co",
         "0.0",
         "0"
        ],
        [
         "9",
         "1038130817",
         "PENATE PENA JHON SEBASTIAN",
         "jhon.penate@udea.edu.co",
         "0.0",
         "0"
        ],
        [
         "10",
         "1019842256",
         "RODELO ZABALA ARIANA",
         "a.rodelo@udea.edu.co",
         "0.0",
         "0"
        ],
        [
         "11",
         "1042822239",
         "RODRIGUEZ MOSQUERA ANGELA MARIA",
         "maria.rodriguez8@udea.edu.co",
         "0.0",
         "0"
        ],
        [
         "12",
         "1038436130",
         "ROHENES DE ARCO CAMILO ANDRES",
         "camilo.rohenes@udea.edu.co",
         "0.0",
         "0"
        ],
        [
         "13",
         "1038436131",
         "ROHENES DE ARCO DIEGO ANDRES",
         "diego.rohenes@udea.edu.co",
         "0.0",
         "0"
        ],
        [
         "14",
         "1032251887",
         "SIERRA OLIVEROS OMAR DARIO",
         "omar.sierra1@udea.edu.co",
         "0.0",
         "0"
        ],
        [
         "15",
         "1038646944",
         "SILVA URDA FABIAN",
         "fabian.silva1@udea.edu.co",
         "0.0",
         "0"
        ],
        [
         "16",
         "1007429411",
         "VILLA CABARCA SANDY JANETH",
         "sandy.villac@udea.edu.co",
         "0.0",
         "0"
        ]
       ],
       "shape": {
        "columns": 5,
        "rows": 17
       }
      },
      "text/html": [
       "<div>\n",
       "<style scoped>\n",
       "    .dataframe tbody tr th:only-of-type {\n",
       "        vertical-align: middle;\n",
       "    }\n",
       "\n",
       "    .dataframe tbody tr th {\n",
       "        vertical-align: top;\n",
       "    }\n",
       "\n",
       "    .dataframe thead th {\n",
       "        text-align: right;\n",
       "    }\n",
       "</style>\n",
       "<table border=\"1\" class=\"dataframe\">\n",
       "  <thead>\n",
       "    <tr style=\"text-align: right;\">\n",
       "      <th></th>\n",
       "      <th>Cedula</th>\n",
       "      <th>Nombre</th>\n",
       "      <th>Email</th>\n",
       "      <th>Parcial</th>\n",
       "      <th>Asistencia</th>\n",
       "    </tr>\n",
       "  </thead>\n",
       "  <tbody>\n",
       "    <tr>\n",
       "      <th>0</th>\n",
       "      <td>1067281024</td>\n",
       "      <td>ALVAREZ GOEZ DAIRO ESTEBAN</td>\n",
       "      <td>dairo.alvarez1@udea.edu.co</td>\n",
       "      <td>0.0</td>\n",
       "      <td>0</td>\n",
       "    </tr>\n",
       "    <tr>\n",
       "      <th>1</th>\n",
       "      <td>1041086439</td>\n",
       "      <td>CASTILLO SIERRA SHIRLIS SARAY</td>\n",
       "      <td>shirlis.castillo@udea.edu.co</td>\n",
       "      <td>0.0</td>\n",
       "      <td>0</td>\n",
       "    </tr>\n",
       "    <tr>\n",
       "      <th>2</th>\n",
       "      <td>1045419649</td>\n",
       "      <td>ESPINOSA ESPINOSA LILIANA ANDREA</td>\n",
       "      <td>lilianaa.espinosa@udea.edu.co</td>\n",
       "      <td>0.0</td>\n",
       "      <td>0</td>\n",
       "    </tr>\n",
       "    <tr>\n",
       "      <th>3</th>\n",
       "      <td>1040494191</td>\n",
       "      <td>GARCIA PADILLA JHONATAN</td>\n",
       "      <td>jhonatan.garcia1@udea.edu.co</td>\n",
       "      <td>0.0</td>\n",
       "      <td>0</td>\n",
       "    </tr>\n",
       "    <tr>\n",
       "      <th>4</th>\n",
       "      <td>1038098851</td>\n",
       "      <td>GUERRA OSORIO SIMON</td>\n",
       "      <td>s.guerra@udea.edu.co</td>\n",
       "      <td>0.0</td>\n",
       "      <td>0</td>\n",
       "    </tr>\n",
       "    <tr>\n",
       "      <th>5</th>\n",
       "      <td>1038131529</td>\n",
       "      <td>HOYOS ARRIETA ELIECER JOSE</td>\n",
       "      <td>jose.hoyos2@udea.edu.co</td>\n",
       "      <td>0.0</td>\n",
       "      <td>0</td>\n",
       "    </tr>\n",
       "    <tr>\n",
       "      <th>6</th>\n",
       "      <td>1038116007</td>\n",
       "      <td>MARIAGA BALLESTEROS KEILA MELIZA</td>\n",
       "      <td>keila.mariaga@udea.edu.co</td>\n",
       "      <td>0.0</td>\n",
       "      <td>0</td>\n",
       "    </tr>\n",
       "    <tr>\n",
       "      <th>7</th>\n",
       "      <td>1007112550</td>\n",
       "      <td>MARTINEZ MENDOZA JAIR MIGUEL</td>\n",
       "      <td>jair.mmendoza@udea.edu.co</td>\n",
       "      <td>0.0</td>\n",
       "      <td>0</td>\n",
       "    </tr>\n",
       "    <tr>\n",
       "      <th>8</th>\n",
       "      <td>1038092575</td>\n",
       "      <td>OSORIO ACEVEDO LUIS MARIO</td>\n",
       "      <td>luismario.osorio@udea.edu.co</td>\n",
       "      <td>0.0</td>\n",
       "      <td>0</td>\n",
       "    </tr>\n",
       "    <tr>\n",
       "      <th>9</th>\n",
       "      <td>1038130817</td>\n",
       "      <td>PENATE PENA JHON SEBASTIAN</td>\n",
       "      <td>jhon.penate@udea.edu.co</td>\n",
       "      <td>0.0</td>\n",
       "      <td>0</td>\n",
       "    </tr>\n",
       "    <tr>\n",
       "      <th>10</th>\n",
       "      <td>1019842256</td>\n",
       "      <td>RODELO ZABALA ARIANA</td>\n",
       "      <td>a.rodelo@udea.edu.co</td>\n",
       "      <td>0.0</td>\n",
       "      <td>0</td>\n",
       "    </tr>\n",
       "    <tr>\n",
       "      <th>11</th>\n",
       "      <td>1042822239</td>\n",
       "      <td>RODRIGUEZ MOSQUERA ANGELA MARIA</td>\n",
       "      <td>maria.rodriguez8@udea.edu.co</td>\n",
       "      <td>0.0</td>\n",
       "      <td>0</td>\n",
       "    </tr>\n",
       "    <tr>\n",
       "      <th>12</th>\n",
       "      <td>1038436130</td>\n",
       "      <td>ROHENES DE ARCO CAMILO ANDRES</td>\n",
       "      <td>camilo.rohenes@udea.edu.co</td>\n",
       "      <td>0.0</td>\n",
       "      <td>0</td>\n",
       "    </tr>\n",
       "    <tr>\n",
       "      <th>13</th>\n",
       "      <td>1038436131</td>\n",
       "      <td>ROHENES DE ARCO DIEGO ANDRES</td>\n",
       "      <td>diego.rohenes@udea.edu.co</td>\n",
       "      <td>0.0</td>\n",
       "      <td>0</td>\n",
       "    </tr>\n",
       "    <tr>\n",
       "      <th>14</th>\n",
       "      <td>1032251887</td>\n",
       "      <td>SIERRA OLIVEROS OMAR DARIO</td>\n",
       "      <td>omar.sierra1@udea.edu.co</td>\n",
       "      <td>0.0</td>\n",
       "      <td>0</td>\n",
       "    </tr>\n",
       "    <tr>\n",
       "      <th>15</th>\n",
       "      <td>1038646944</td>\n",
       "      <td>SILVA URDA FABIAN</td>\n",
       "      <td>fabian.silva1@udea.edu.co</td>\n",
       "      <td>0.0</td>\n",
       "      <td>0</td>\n",
       "    </tr>\n",
       "    <tr>\n",
       "      <th>16</th>\n",
       "      <td>1007429411</td>\n",
       "      <td>VILLA CABARCA SANDY JANETH</td>\n",
       "      <td>sandy.villac@udea.edu.co</td>\n",
       "      <td>0.0</td>\n",
       "      <td>0</td>\n",
       "    </tr>\n",
       "  </tbody>\n",
       "</table>\n",
       "</div>"
      ],
      "text/plain": [
       "        Cedula                            Nombre  \\\n",
       "0   1067281024        ALVAREZ GOEZ DAIRO ESTEBAN   \n",
       "1   1041086439     CASTILLO SIERRA SHIRLIS SARAY   \n",
       "2   1045419649  ESPINOSA ESPINOSA LILIANA ANDREA   \n",
       "3   1040494191           GARCIA PADILLA JHONATAN   \n",
       "4   1038098851               GUERRA OSORIO SIMON   \n",
       "5   1038131529        HOYOS ARRIETA ELIECER JOSE   \n",
       "6   1038116007  MARIAGA BALLESTEROS KEILA MELIZA   \n",
       "7   1007112550      MARTINEZ MENDOZA JAIR MIGUEL   \n",
       "8   1038092575         OSORIO ACEVEDO LUIS MARIO   \n",
       "9   1038130817        PENATE PENA JHON SEBASTIAN   \n",
       "10  1019842256              RODELO ZABALA ARIANA   \n",
       "11  1042822239   RODRIGUEZ MOSQUERA ANGELA MARIA   \n",
       "12  1038436130     ROHENES DE ARCO CAMILO ANDRES   \n",
       "13  1038436131      ROHENES DE ARCO DIEGO ANDRES   \n",
       "14  1032251887        SIERRA OLIVEROS OMAR DARIO   \n",
       "15  1038646944                 SILVA URDA FABIAN   \n",
       "16  1007429411        VILLA CABARCA SANDY JANETH   \n",
       "\n",
       "                            Email  Parcial  Asistencia  \n",
       "0      dairo.alvarez1@udea.edu.co      0.0           0  \n",
       "1    shirlis.castillo@udea.edu.co      0.0           0  \n",
       "2   lilianaa.espinosa@udea.edu.co      0.0           0  \n",
       "3    jhonatan.garcia1@udea.edu.co      0.0           0  \n",
       "4            s.guerra@udea.edu.co      0.0           0  \n",
       "5         jose.hoyos2@udea.edu.co      0.0           0  \n",
       "6       keila.mariaga@udea.edu.co      0.0           0  \n",
       "7       jair.mmendoza@udea.edu.co      0.0           0  \n",
       "8    luismario.osorio@udea.edu.co      0.0           0  \n",
       "9         jhon.penate@udea.edu.co      0.0           0  \n",
       "10           a.rodelo@udea.edu.co      0.0           0  \n",
       "11   maria.rodriguez8@udea.edu.co      0.0           0  \n",
       "12     camilo.rohenes@udea.edu.co      0.0           0  \n",
       "13      diego.rohenes@udea.edu.co      0.0           0  \n",
       "14       omar.sierra1@udea.edu.co      0.0           0  \n",
       "15      fabian.silva1@udea.edu.co      0.0           0  \n",
       "16       sandy.villac@udea.edu.co      0.0           0  "
      ]
     },
     "execution_count": 19,
     "metadata": {},
     "output_type": "execute_result"
    }
   ],
   "source": [
    "estudiantes.head(17)"
   ]
  },
  {
   "cell_type": "markdown",
   "id": "d7598d0a-d9b7-4ae0-b029-a0ed6ed1130b",
   "metadata": {},
   "source": [
    "\n",
    "# Principios de mi labor docente"
   ]
  },
  {
   "cell_type": "markdown",
   "id": "4f9d8cf9",
   "metadata": {
    "slideshow": {
     "slide_type": "slide"
    }
   },
   "source": [
    "## Modelo general de clase: [aula invertida](https://www3.gobiernodecanarias.org/medusa/ecoescuela/pedagotic/aprendizaje-invertido-flipped-classroom/)"
   ]
  },
  {
   "cell_type": "markdown",
   "id": "eb6ed03a",
   "metadata": {},
   "source": [
    "<img src = 'https://resources.maneuveringthemiddle.com/wp-content/uploads/2020/07/04212706/1-5.png' width = 500>  \n",
    "\n"
   ]
  },
  {
   "cell_type": "markdown",
   "id": "34319cce-a71b-4f64-aab8-b53e521efa40",
   "metadata": {},
   "source": [
    "# Metodología de enseñanza basada en problemas (ABP)\n"
   ]
  },
  {
   "cell_type": "markdown",
   "id": "c4f73d81",
   "metadata": {},
   "source": [
    "\n",
    "<img src = 'https://www.unir.net/wp-content/uploads/2020/07/aprendizaje-problemas2-1-1-1-1.jpeg' width = 500>"
   ]
  },
  {
   "cell_type": "markdown",
   "id": "841a985c-bd9b-4dd3-8e4c-893983980af2",
   "metadata": {},
   "source": [
    "# Desarrollo del pensamiento computacional con Lenguaje R y con archivos R Markdown orientado a la formación en ciencia de datos \n",
    "\n"
   ]
  },
  {
   "cell_type": "markdown",
   "id": "3d0eba94",
   "metadata": {},
   "source": [
    "\n",
    "<img src = 'https://i.ytimg.com/vi/mcG_wcR4e6M/maxresdefault.jpg' width = 200>"
   ]
  },
  {
   "cell_type": "markdown",
   "id": "65aa0404-f7ae-495e-864c-1aec01b4255e",
   "metadata": {},
   "source": [
    "# Principio de fomento a la ciencia abierta, enseñar en el acceso a los datos públicos y el uso de software de código abierto  \n"
   ]
  },
  {
   "cell_type": "markdown",
   "id": "18ae9b87",
   "metadata": {},
   "source": [
    "\n",
    "<img src = 'https://unesdoc.unesco.org/in/rest/Thumb/image?id=p%3A%3Ausmarcdef_0000379949_spa&author=UNESCO&title=Recomendaci%C3%B3n+de+la+UNESCO+sobre+la+Ciencia+Abierta&year=2021&publisher=UNESCO&TypeOfDocument=UnescoPhysicalDocument&mat=PGD&ct=true&size=512&isPhysical=1' width = 200>"
   ]
  },
  {
   "cell_type": "markdown",
   "id": "d9559f85",
   "metadata": {},
   "source": [
    "El enfoque STEAMS en educación preescolar, primaria y secundaria es una extensión del enfoque STEM (Ciencia, Tecnología, Ingeniería y Matemáticas) y su variante STEAM, que incorpora el Arte. "
   ]
  },
  {
   "cell_type": "markdown",
   "id": "72e1cfd2",
   "metadata": {},
   "source": [
    "El acrónimo STEAMS incluye:\n"
   ]
  },
  {
   "cell_type": "markdown",
   "id": "03182fd1",
   "metadata": {},
   "source": [
    "\n",
    "1. **Science (Ciencia):** Fomenta la curiosidad por el mundo natural y el desarrollo de habilidades científicas, como la observación, experimentación y análisis.\n"
   ]
  },
  {
   "cell_type": "markdown",
   "id": "1306d0fa",
   "metadata": {},
   "source": [
    "\n",
    "2. **Technology (Tecnología):** Integra herramientas tecnológicas para potenciar el aprendizaje y la resolución de problemas, promoviendo la alfabetización digital desde edades tempranas.\n"
   ]
  },
  {
   "cell_type": "markdown",
   "id": "3b1a53e8",
   "metadata": {},
   "source": [
    "\n",
    "3. **Engineering (Ingeniería):** Introduce el pensamiento lógico y la resolución de problemas estructurados, fomentando habilidades como el diseño y la construcción de soluciones.\n"
   ]
  },
  {
   "cell_type": "markdown",
   "id": "0196de87",
   "metadata": {},
   "source": [
    "\n",
    "4. **Arts (Arte):** Añade creatividad y pensamiento crítico, permitiendo a los estudiantes expresarse y explorar el aprendizaje a través de formas artísticas (plásticas, música, teatro).\n"
   ]
  },
  {
   "cell_type": "markdown",
   "id": "8bcc485a",
   "metadata": {},
   "source": [
    "\n",
    "5. **Mathematics (Matemáticas):** Refuerza las habilidades numéricas y el razonamiento lógico, fundamentales en la resolución de problemas y comprensión de conceptos abstractos.\n"
   ]
  },
  {
   "cell_type": "markdown",
   "id": "907935f4",
   "metadata": {},
   "source": [
    "\n",
    "6. **Social Sciences (Ciencias Sociales):** Incorpora la comprensión del entorno social, político, cultural y económico, promoviendo el desarrollo de la conciencia crítica sobre el mundo y su historia, además de habilidades de empatía y ciudadanía.\n"
   ]
  },
  {
   "cell_type": "markdown",
   "id": "39967d63",
   "metadata": {},
   "source": [
    "\n",
    "El enfoque STEAMS pretende desarrollar un aprendizaje **interdisciplinario** que integre estas áreas para fomentar un pensamiento más holístico y práctico. "
   ]
  },
  {
   "cell_type": "markdown",
   "id": "5145f077",
   "metadata": {},
   "source": [
    "Se busca que los estudiantes no solo aprendan conocimientos técnicos, sino también cómo aplicarlos creativa y críticamente en situaciones reales, promoviendo habilidades como el trabajo en equipo, la comunicación y la innovación. "
   ]
  },
  {
   "cell_type": "markdown",
   "id": "9d556584",
   "metadata": {},
   "source": [
    "En educación preescolar, primaria, secundaria y superior, se adapta a las diferentes etapas de desarrollo cognitivo y emocional de los estudiantes, promoviendo el aprendizaje activo y contextualizado.  \n"
   ]
  },
  {
   "cell_type": "markdown",
   "id": "0130ec1b",
   "metadata": {},
   "source": [
    "\n",
    "<img src = 'https://www.campuseducacion.com/blog/wp-content/uploads/2023/03/foto01-1.jpg' width = 200>"
   ]
  },
  {
   "cell_type": "markdown",
   "id": "9d15c10d-2c02-4158-9419-b1ed79b4c1ee",
   "metadata": {},
   "source": [
    "# Qué estamos haciendo por la internalización en esta clase y este curso  \n"
   ]
  },
  {
   "cell_type": "markdown",
   "id": "6e4feef2",
   "metadata": {},
   "source": [
    "Estas son mis acciones como docente de matemáticas en la Universidad de Antioquia con miras a la **internacionalización** de mi práctica docente y el desarrollo de competencias internacionales para mis estudiantes, ls cuales he estructurado con el siguiente enfoque:\n"
   ]
  },
  {
   "cell_type": "markdown",
   "id": "964d9de7-53ee-4255-9bcd-d8e6454f2993",
   "metadata": {},
   "source": [
    "### 1. **Visión Global en la Formación Académica**\n"
   ]
  },
  {
   "cell_type": "markdown",
   "id": "d9bdd3e2",
   "metadata": {},
   "source": [
    "   - **Competencias Internacionales**: Asegúrate de que el contenido de tus cursos fomente habilidades que sean reconocidas globalmente. Al educar a los estudiantes en **Python, LaTeX, Markdown y Jupyter Notebooks** y en la **introducción a la ciencia de datos y técnicas de Machine Learning**, estás proporcionando competencias altamente demandadas en los sectores tecnológicos y académicos a nivel internacional.\n"
   ]
  },
  {
   "cell_type": "markdown",
   "id": "39b55206",
   "metadata": {},
   "source": [
    "   - **Relevancia de los Contenidos**: Destaca cómo los temas que enseñas, como el **desarrollo del pensamiento computacional** y la **ciencia de datos**, están alineados con las necesidades globales actuales en diversas industrias, desde la tecnología hasta las ciencias naturales y sociales.\n"
   ]
  },
  {
   "cell_type": "markdown",
   "id": "a054599e",
   "metadata": {},
   "source": [
    "   - **Referencias a Estándares Internacionales**: Puedes vincular tu enseñanza a estándares internacionales de competencias en programación y ciencia de datos (por ejemplo, frameworks del **IEEE, ACM**, y estándares de la **data science** o la **computación en la nube**)."
   ]
  },
  {
   "cell_type": "markdown",
   "id": "0f1d110c-3142-48fe-9e7d-5fbd9e8bb931",
   "metadata": {},
   "source": [
    "### 2. **Innovación Pedagógica con Enfoque Internacional**\n"
   ]
  },
  {
   "cell_type": "markdown",
   "id": "fae6ae34",
   "metadata": {},
   "source": [
    "   - **Aula Invertida y ABP**: Presenta cómo tu enfoque de **aula invertida** y **aprendizaje basado en problemas (ABP)** permite a los estudiantes trabajar de manera autónoma y colaborativa, lo que los prepara para escenarios laborales internacionales que requieren autoaprendizaje y habilidades de resolución de problemas en equipo.\n"
   ]
  },
  {
   "cell_type": "markdown",
   "id": "c83062d9",
   "metadata": {},
   "source": [
    "   - **Uso de Jupyter Notebooks**: El uso de **Jupyter Notebooks** en tus clases no solo facilita la **integración de código, matemáticas y texto**, sino que también es una plataforma utilizada globalmente en ambientes académicos y profesionales, lo que hace a tus estudiantes más competitivos internacionalmente."
   ]
  },
  {
   "cell_type": "markdown",
   "id": "960d52b7-03cd-4eb3-965e-5cdfeb7d9f8e",
   "metadata": {},
   "source": [
    "### 3. **Tecnología y Herramientas de Uso Global**\n"
   ]
  },
  {
   "cell_type": "markdown",
   "id": "4be7269f",
   "metadata": {},
   "source": [
    "   - **Lenguaje Python**: Python es uno de los lenguajes de programación más usados a nivel mundial, tanto en la academia como en la industria. Al formar a tus estudiantes en Python para ciencia de datos y machine learning, los preparas para operar en entornos tecnológicos globales.\n"
   ]
  },
  {
   "cell_type": "markdown",
   "id": "102655af",
   "metadata": {},
   "source": [
    "   - **Herramientas de Ciencia Abierta**: Resalta cómo herramientas como **GitHub**, **Google Colab** y otras plataformas de código abierto están alineadas con el movimiento de **ciencia abierta**, el cual es internacionalmente reconocido y permite que los estudiantes colaboren y compartan proyectos a nivel global."
   ]
  },
  {
   "cell_type": "markdown",
   "id": "3b2ffa32-7a6f-4545-ba7b-c6a69f51109f",
   "metadata": {},
   "source": [
    "### 4. **Investigación y Publicaciones Internacionales**\n"
   ]
  },
  {
   "cell_type": "markdown",
   "id": "bdbf52a5",
   "metadata": {},
   "source": [
    "   - **Promoción de la Investigación**: Detalla cómo promueves que tus estudiantes participen en proyectos de **investigación aplicada**, con posibilidad de publicación en revistas internacionales. Esto contribuye a la reputación internacional de la Universidad de Antioquia.\n"
   ]
  },
  {
   "cell_type": "markdown",
   "id": "ea01fcbc",
   "metadata": {},
   "source": [
    "   - **Colaboraciones Internacionales**: Si has colaborado con investigadores de otras instituciones o universidades en el extranjero, menciona estos proyectos y cómo han enriquecido tu enseñanza y proporcionado a los estudiantes una visión más globalizada."
   ]
  },
  {
   "cell_type": "markdown",
   "id": "5d1e396e-aece-4bf7-9421-32fa7809eaf4",
   "metadata": {},
   "source": [
    "## 5. **Uso del Inglés para la Internacionalización**\n"
   ]
  },
  {
   "cell_type": "markdown",
   "id": "29cabf26",
   "metadata": {},
   "source": [
    "   - **Comunicación Científica en Inglés**: "
   ]
  },
  {
   "cell_type": "markdown",
   "id": "8ec53ff3",
   "metadata": {},
   "source": [
    "Fomentar el aprendizaje del inglés como lengua científica es clave para que tus estudiantes puedan acceder a publicaciones internacionales, conferencias, y material académico que no está disponible en español. "
   ]
  },
  {
   "cell_type": "markdown",
   "id": "7f9cb1c0",
   "metadata": {},
   "source": [
    "Esto es esencial para que adquieran competencias que les permitan desempeñarse en cualquier contexto internacional.\n"
   ]
  },
  {
   "cell_type": "markdown",
   "id": "b831224f",
   "metadata": {},
   "source": [
    "   - **Material Bilingüe**: Al generar material educativo en Python, LaTeX y Markdown, considera ofrecer algunos de estos recursos en inglés, para que los estudiantes se familiaricen con el vocabulario técnico y científico internacional."
   ]
  },
  {
   "cell_type": "markdown",
   "id": "c6a8c3b0-426a-4692-a384-3065aea81c9a",
   "metadata": {},
   "source": [
    "### 6. **Certificaciones y Estándares Internacionales**\n"
   ]
  },
  {
   "cell_type": "markdown",
   "id": "b1f41da5",
   "metadata": {},
   "source": [
    "   - **Participación en Certificaciones Internacionales**: Impulsa que los estudiantes busquen certificaciones internacionales en Python o ciencia de datos (como las ofrecidas por **Coursera, edX,** o **Google**). "
   ]
  },
  {
   "cell_type": "markdown",
   "id": "1e01a798",
   "metadata": {},
   "source": [
    "Estas certificaciones no solo validan sus competencias, sino que también incrementan el reconocimiento de la Universidad de Antioquia en el contexto internacional.\n"
   ]
  },
  {
   "cell_type": "markdown",
   "id": "7cc66317",
   "metadata": {},
   "source": [
    "   - **Alineación con Acreditaciones Internacionales**: Vincula tu trabajo docente con los estándares de acreditación y certificación que garantizan que la universidad siga siendo reconocida internacionalmente. Puedes vincularte con organizaciones internacionales que promuevan la excelencia en la educación y tecnología, como **ABET** para la acreditación en ingeniería y ciencias computacionales."
   ]
  },
  {
   "cell_type": "markdown",
   "id": "65d3d9e1-ea84-43e0-8197-a2a9c9e21594",
   "metadata": {},
   "source": [
    "### 7. **Proyectos Abiertos y Ciencia Reproducible**\n"
   ]
  },
  {
   "cell_type": "markdown",
   "id": "f03f7b20",
   "metadata": {},
   "source": [
    "   - **GitHub y Open Science**: La utilización de **GitHub** para almacenar los proyectos y materiales de enseñanza en repositorios públicos permite que otros investigadores y educadores internacionales puedan revisar y replicar tu trabajo. Esto contribuye a la creación de una red de colaboración científica abierta.\n"
   ]
  },
  {
   "cell_type": "markdown",
   "id": "de186f76",
   "metadata": {},
   "source": [
    "   - **Transparencia y Reproducibilidad**: La ciencia de datos y machine learning están profundamente ligados a la reproducibilidad. Asegura que tus estudiantes desarrollen prácticas de transparencia y documentación en la investigación, que son pilares en la comunidad científica global.\n"
   ]
  },
  {
   "cell_type": "markdown",
   "id": "215cb551",
   "metadata": {},
   "source": [
    "\n",
    "### 8. **Participación en Redes y Conferencias Internacionales**\n",
    "   - **Presentación en Conferencias Internacionales**: Destaca cómo tu participación en conferencias internacionales (como la **ASCOLFA** o eventos sobre educación en matemáticas) contribuye al prestigio de la universidad y permite que tus prácticas sean evaluadas y reconocidas a nivel global.\n"
   ]
  },
  {
   "cell_type": "markdown",
   "id": "cdf46e29",
   "metadata": {},
   "source": [
    "   - **Promoción de Estudiantes en Eventos Internacionales**: Impulsa la participación de tus estudiantes en competiciones internacionales de programación o hackathons, como los organizados por **Google**, **ACM** o **Kaggle**. "
   ]
  },
  {
   "cell_type": "markdown",
   "id": "e3d3c63a",
   "metadata": {},
   "source": [
    "Esto no solo desarrolla sus habilidades, sino que también visibiliza el talento de la Universidad de Antioquia a nivel global.\n",
    "\n",
    "---"
   ]
  },
  {
   "cell_type": "markdown",
   "id": "233294a4-1983-4641-a7ad-866825e02315",
   "metadata": {},
   "source": [
    "Con esta estrategia, presento mis acciones docentes en términos de competencias internacionales, innovación pedagógica, tecnología, investigación y participación en redes globales, asegurando que mi práctica esté alineada con los estándares internacionales y que tus estudiantes estén preparados para competir en contextos internacionales."
   ]
  },
  {
   "cell_type": "markdown",
   "id": "77da458b",
   "metadata": {},
   "source": [
    "### **Metodología de Enseñanza: Aprendizaje Basado en Problemas y Proyectos (ABPP)**\n"
   ]
  },
  {
   "cell_type": "markdown",
   "id": "c943d273",
   "metadata": {},
   "source": [
    "\n",
    "El **Aprendizaje Basado en Problemas y Proyectos (ABPP)** es una metodología educativa que integra los enfoques del **Aprendizaje Basado en Problemas (ABP)** y el **Aprendizaje Basado en Proyectos (PBL, por sus siglas en inglés)**. "
   ]
  },
  {
   "cell_type": "markdown",
   "id": "662c202f",
   "metadata": {},
   "source": [
    "Es especialmente útil para la formación de futuros docentes, ingenieros y administradores, ya que combina el desarrollo de habilidades prácticas con el pensamiento crítico y reflexivo. "
   ]
  },
  {
   "cell_type": "markdown",
   "id": "4c2b3f51",
   "metadata": {},
   "source": [
    "A continuación, se presenta una descripción adaptada a la enseñanza de las matemáticas en educación infantil, Licenciatura en Matemáticas, Ingeniería Agropecuaria y Administración de Empresas:\n",
    "\n",
    "---\n"
   ]
  },
  {
   "cell_type": "markdown",
   "id": "0eeba3f5",
   "metadata": {},
   "source": [
    "\n",
    "### **1. Fundamentos del ABPP**\n"
   ]
  },
  {
   "cell_type": "markdown",
   "id": "43a21c0b",
   "metadata": {},
   "source": [
    "El ABPP se basa en:\n",
    "- **Resolución de Problemas Reales:** Los estudiantes analizan y resuelven problemas auténticos relacionados con su área de formación, fomentando la aplicación práctica del conocimiento.\n",
    "- **Proyectos como Herramientas Integradoras:** Los proyectos permiten desarrollar habilidades interdisciplinarias y ofrecer soluciones concretas a los problemas planteados.\n",
    "- **Aprendizaje Activo:** Los estudiantes son responsables de su aprendizaje y participan activamente en el proceso de investigación, diseño y solución.\n",
    "\n",
    "---\n"
   ]
  },
  {
   "cell_type": "markdown",
   "id": "3728d010",
   "metadata": {},
   "source": [
    "\n",
    "### **2. Aplicación del ABPP en Áreas Específicas**\n",
    "\n",
    "#### **Educación Infantil (Licenciatura en Educación Infantil)**\n",
    "- **Enfoque:** Desarrollo del pensamiento matemático en la infancia desde contextos lúdicos, familiares y culturales.\n",
    "- **Problemas típicos:** \n",
    "  - ¿Cómo enseñar los números naturales mediante actividades prácticas y juegos?\n",
    "  - ¿Qué estrategias pueden emplearse para abordar el concepto de cantidad en edades tempranas?\n"
   ]
  },
  {
   "cell_type": "markdown",
   "id": "507f8ed9",
   "metadata": {},
   "source": [
    "- **Proyectos:** Diseño de secuencias didácticas que usen Python, Jupyter Notebooks y materiales manipulativos para enseñar matemáticas de forma interactiva.\n",
    "- **Competencias desarrolladas:** \n",
    "  - Uso de herramientas tecnológicas para diseñar actividades educativas.\n",
    "  - Comprensión del desarrollo cognitivo infantil y su relación con las matemáticas.\n"
   ]
  },
  {
   "cell_type": "markdown",
   "id": "481f614a",
   "metadata": {},
   "source": [
    "\n",
    "#### **Licenciatura en Matemáticas**\n",
    "- **Enfoque:** Resolución de problemas matemáticos aplicados y profundización teórica en áreas como análisis matemático y modelado.\n"
   ]
  },
  {
   "cell_type": "markdown",
   "id": "4fe27fb8",
   "metadata": {},
   "source": [
    "- **Problemas típicos:**\n",
    "  - ¿Cómo se pueden resolver ecuaciones diferenciales aplicadas a modelos físicos o económicos?\n",
    "  - ¿Cómo modelar fenómenos naturales mediante funciones matemáticas?\n"
   ]
  },
  {
   "cell_type": "markdown",
   "id": "2cc849f0",
   "metadata": {},
   "source": [
    "- **Proyectos:** \n",
    "  - Desarrollo de software educativo para explorar conceptos matemáticos.\n",
    "  - Aplicación de modelado matemático para resolver problemas reales en otras disciplinas.\n",
    "- **Competencias desarrolladas:**\n",
    "  - Dominio de la matemática teórica y aplicada.\n",
    "  - Uso de tecnología para la enseñanza y la investigación.\n"
   ]
  },
  {
   "cell_type": "markdown",
   "id": "83ab236f",
   "metadata": {},
   "source": [
    "\n",
    "#### **Ingeniería Agropecuaria**\n",
    "- **Enfoque:** Modelado matemático y análisis de datos para mejorar la producción agrícola y la gestión de recursos.\n"
   ]
  },
  {
   "cell_type": "markdown",
   "id": "beb9ba0e",
   "metadata": {},
   "source": [
    "- **Problemas típicos:**\n",
    "  - ¿Cómo modelar el crecimiento de cultivos considerando variables climáticas?\n",
    "  - ¿Cómo optimizar el uso del agua en sistemas de riego mediante análisis matemático?\n",
    "- **Proyectos:** \n",
    "  - Desarrollo de modelos predictivos con Python y bibliotecas de aprendizaje automático.\n",
    "  - Implementación de proyectos que combinen matemáticas y ciencias de datos para resolver problemas agrícolas.\n"
   ]
  },
  {
   "cell_type": "markdown",
   "id": "493b23a1",
   "metadata": {},
   "source": [
    "- **Competencias desarrolladas:**\n",
    "  - Integración de matemáticas con tecnologías avanzadas.\n",
    "  - Resolución de problemas agropecuarios mediante análisis y modelado.\n"
   ]
  },
  {
   "cell_type": "markdown",
   "id": "c4519bb3",
   "metadata": {},
   "source": [
    "\n",
    "#### **Administración de Empresas**\n"
   ]
  },
  {
   "cell_type": "markdown",
   "id": "d63225b7",
   "metadata": {},
   "source": [
    "- **Enfoque:** Uso de las matemáticas y la ciencia de datos para la toma de decisiones estratégicas.\n",
    "- **Problemas típicos:**\n",
    "  - ¿Cómo identificar patrones de comportamiento del consumidor usando series de tiempo?\n",
    "  - ¿Qué estrategias matemáticas pueden optimizar la asignación de recursos en una empresa?\n"
   ]
  },
  {
   "cell_type": "markdown",
   "id": "3be2c91b",
   "metadata": {},
   "source": [
    "- **Proyectos:** \n",
    "  - Implementación de modelos de análisis financiero y simulaciones.\n",
    "  - Desarrollo de dashboards interactivos para la gestión de datos empresariales.\n"
   ]
  },
  {
   "cell_type": "markdown",
   "id": "ca29ff50",
   "metadata": {},
   "source": [
    "- **Competencias desarrolladas:**\n",
    "  - Habilidad para interpretar datos matemáticos en contextos de negocio.\n",
    "  - Capacidad para diseñar soluciones basadas en datos.\n",
    "\n",
    "---\n"
   ]
  },
  {
   "cell_type": "markdown",
   "id": "19be58d4",
   "metadata": {},
   "source": [
    "\n",
    "### **3. Beneficios del ABPP**\n"
   ]
  },
  {
   "cell_type": "markdown",
   "id": "585e8739",
   "metadata": {},
   "source": [
    "- **Desarrollo de competencias clave:**\n",
    "  - Pensamiento crítico y creativo.\n",
    "  - Trabajo colaborativo.\n",
    "  - Comunicación efectiva.\n",
    "  - Uso de herramientas tecnológicas avanzadas.\n",
    "- **Adaptación al contexto laboral:** Los estudiantes aprenden a enfrentar desafíos del mundo real y a diseñar soluciones prácticas y aplicables.\n",
    "- **Flexibilidad e interdisciplinariedad:** La metodología se adapta a diversas áreas, fomentando el aprendizaje integrado.\n",
    "\n",
    "---\n"
   ]
  },
  {
   "cell_type": "markdown",
   "id": "e36034c3",
   "metadata": {},
   "source": [
    "\n",
    "### **4. Ejemplo General de Implementación**\n"
   ]
  },
  {
   "cell_type": "markdown",
   "id": "20fadf1c",
   "metadata": {},
   "source": [
    "1. **Identificación del problema:** Se plantea un desafío concreto, como modelar el crecimiento poblacional de una comunidad rural (Ingeniería Agropecuaria) o diseñar una estrategia para enseñar fracciones a niños de 8 años (Educación Infantil).\n",
    "2. **Formación de equipos:** Los estudiantes trabajan en grupos, distribuyendo roles y tareas.\n",
    "3. **Investigación y diseño:** Los estudiantes investigan el problema, proponen soluciones y diseñan un proyecto.\n",
    "4. **Implementación:** Se desarrolla el proyecto, como una herramienta tecnológica o una propuesta pedagógica.\n",
    "5. **Evaluación:** Los estudiantes presentan sus resultados en un informe o una exposición, recibiendo retroalimentación de sus compañeros y docentes.\n",
    "\n",
    "---\n",
    "\n",
    "El ABPP es una metodología versátil que conecta el conocimiento teórico con la práctica, preparando a los estudiantes para los retos de sus profesiones en la enseñanza de la matemática, la ingeniería y la administración."
   ]
  },
  {
   "cell_type": "markdown",
   "id": "8d97dc80",
   "metadata": {
    "slideshow": {
     "slide_type": "slide"
    }
   },
   "source": [
    "## Fomento de la lectura literaria asociada a Ingeniería agropecuaria y licenciatura en Matemáticas\n",
    "\n",
    "[Aprender a obtener el sí sin ceder]()"
   ]
  },
  {
   "cell_type": "markdown",
   "id": "96775931",
   "metadata": {
    "slideshow": {
     "slide_type": "slide"
    }
   },
   "source": [
    "## Título de la clase:   \n",
    "\n",
    "[]()"
   ]
  },
  {
   "cell_type": "code",
   "execution_count": null,
   "id": "bc0addfe",
   "metadata": {},
   "outputs": [
    {
     "data": {
      "text/plain": [
       "'/home/marco/Documentos/docencia/calculo/images/0_reales/ .pdf'"
      ]
     },
     "execution_count": 1,
     "metadata": {},
     "output_type": "execute_result"
    }
   ],
   "source": [
    "# mapa conceptual para cada clase  \n",
    "from graphviz import Digraph\n",
    "\n",
    "# Crear un nuevo grafo dirigido\n",
    "dot = Digraph()\n",
    "\n",
    "# Añadir nodos y relaciones al grafo\n",
    "main_concept = ' '\n",
    "dot.node('A', main_concept)\n",
    "dot.node('B', '')\n",
    "dot.node('C', '')\n",
    "dot.node('D', '')\n",
    "\n",
    "dot.edges(['AB'])\n",
    "\n",
    "\n",
    "# Guardar el grafo como un archivo de imagen\n",
    "dot.render(filename=main_concept, format='png', cleanup=True, \\\n",
    "           directory='C:/Users/marco/Documentos/docencia/')\n",
    "\n",
    "dot.view()\n"
   ]
  },
  {
   "cell_type": "markdown",
   "id": "10e55ccf",
   "metadata": {},
   "source": [
    "# Estructura general para todas las clases\n",
    "\n",
    "Dame, por favor, un diseño de clase, con el enfoque: STEAMS  y de aprendizaje basado en problemas y proyectos(ABPP); sobre: **\"Tablas de Verdad en lógica proposicional\"**, siguiendo la estructura:   \n",
    "\n",
    "1. Título de la clase \n",
    "2. Objetivo de aprendizaje e indicadores de logro de estos objetivos. \n",
    "3. Mapa conceptual elaborado con graphviz de python y de nodos y edges de doversas formas, colores y relleno y renderizado en la unicación: `\"C:/Users/marco/Descargas\"`\n",
    "4. Contenido de la clase: Empieza el contenido con la jerarquía de las operaciones para una proposición compuesta en la que hay paréntesis, corchetes [], llaves {}, negación, disyunción, conjunción, implicación y equivalencia. Incluye ejemplos que muestran la importancia del buen uso de los signos de agrupación al construir o leer una proposición compuesta.  \n",
    "5. Incluye una canción o un poema que ayude a interiorizar y fijar los conceptos asociados a esta clase.\n",
    "6. Dame elementos históricos y epistemológicos asociados a esta clase, pero contados como un cuento al estilo de un cuentero antioqueño en Colombia. Incluye imágenes de los protagonistas históricos de esta clase. \n",
    "7. Actividades de aprendizaje  \n",
    "8. Evaluación incluyendo diez proyectos, un ejemplo de quiz y un ejemplo de parcial\n",
    "9.  Tarea o actividades de ejercitación y fijación\n",
    "10. Diseño de actividad de retroalimentación.  \n",
    "11. Dame un vocabulario y frases del idioma inglés asociadas a esta clase.   \n",
    "\n",
    "\n",
    "\n",
    "Pero  que este diseño sea para que el estudiante pueda aprender experimentando en cuadernos Jupyter con funciones de usuario y animaciones y visualizaciones en python. En particular utiliza para el diseño de clase a Numpy, Pandas, SymPy, Matplotlib.pyplot, Seaborn, Plotly, ipywidgets,,, matplotlib.animation y Jupyter Notebook. Cada vez que utilices `matplotlib.animacion` no olvides incluir el uso de `IPython. display` para la rederización de estas animaciones a través de Jupyter Notebook. No olvides darme los diseños de clase con las ecuaciones matemáticas delimitadas con signo de dolar $ para que VS Code si me renderize estas expresiones del lenguaje latex. Cuando vallas a utilizar ipywidgets ten en cuenta la siguiente importación inicial para garantizar que la visualización interactiva si se renderize en VS Code: import numpy as np\n",
    "import matplotlib.pyplot as plt\n",
    "import ipywidgets as widgets\n",
    "from IPython.display import display, clear_output\n",
    "from matplotlib.patches import Rectangle\n",
    "\n",
    "# Configuración inicial para visualización estática\n",
    "%matplotlib inline "
   ]
  },
  {
   "cell_type": "markdown",
   "id": "6534d4ad",
   "metadata": {},
   "source": [
    "**1. Título de la clase**  \n",
    "**\"STEAM-Powered Truth Tables: Coding Logic with Python\"**  \n",
    "### Tablas de verdad basadas en STEAM: codificación lógica con Python\n",
    "---\n"
   ]
  },
  {
   "cell_type": "markdown",
   "id": "3c44dc92",
   "metadata": {},
   "source": [
    "\n",
    "**2. Objetivo de aprendizaje e indicadores de logro**  \n",
    "**Objetivo:**  \n",
    "*Diseñar e implementar tablas de verdad de manera manuscrita y en Python utilizando herramientas STEAM, resolviendo problemas lógicos mediante ABPP.*  \n",
    "\n",
    "**Indicadores de logro:**  \n",
    "- Crea funciones en Python para generar tablas de verdad con `numpy` y `sympy`.  \n",
    "- Analiza proposiciones compuestas usando conectores lógicos ($\\land, \\lor, \\neg, \\rightarrow, \\leftrightarrow$).  \n",
    "- Diseña visualizaciones interactivas con `ipywidgets` y animaciones con `matplotlib.animation`.  \n",
    "- Aplica tablas de verdad en proyectos interdisciplinares (ej: circuitos electrónicos, ética en IA).  \n",
    "\n",
    "---\n"
   ]
  },
  {
   "cell_type": "code",
   "execution_count": null,
   "id": "7427477a",
   "metadata": {},
   "outputs": [],
   "source": [
    "def save_fig(nombre_archivo_imagen):\n",
    "    import os \n",
    "    import matplotlib.pyplot as plt\n",
    "    ubicacion_para_imagenes = r\"C:/Users/marco/Descargas\"\n",
    "    imagen_path = os.path.join(ubicacion_para_imagenes, nombre_archivo_imagen)\n",
    "    plt.savefig(imagen_path, bbox_inches='tight')"
   ]
  },
  {
   "cell_type": "markdown",
   "id": "827fa9e0",
   "metadata": {},
   "source": [
    "\n",
    "**3. Mapa conceptual**  \n"
   ]
  },
  {
   "cell_type": "code",
   "execution_count": 6,
   "id": "bf5dc0d5",
   "metadata": {},
   "outputs": [
    {
     "data": {
      "text/plain": [
       "'C:\\\\Users\\\\marco\\\\Descargas\\\\mapa_tablas_verdad.gv.png'"
      ]
     },
     "execution_count": 6,
     "metadata": {},
     "output_type": "execute_result"
    }
   ],
   "source": [
    "\n",
    "# Instala graphviz si es necesario: !pip install graphviz\n",
    "from graphviz import Digraph\n",
    "\n",
    "dot = Digraph(comment='Tablas de Verdad', format='png')\n",
    "dot.attr('node', shape='box', style='filled', fillcolor='#E6F3FF', color='#2B65EC')\n",
    "dot.node('A', 'Lógica Proposicional')\n",
    "dot.node('B', 'Proposiciones\\n(Atómicas/Moleculares)', shape='ellipse', fillcolor='#FFE4E1')\n",
    "dot.node('C', r'Conectivos Lógicos\\n(AND, OR, NOT, →, Equivalent)', shape='diamond', fillcolor='#90EE90')\n",
    "dot.node('D', 'Tablas de Verdad', shape='parallelogram', fillcolor='#FFD700')\n",
    "dot.node('E', 'Aplicaciones\\n(Circuitos, Algoritmos)', shape='hexagon', fillcolor='#FFA07A')\n",
    "\n",
    "dot.edges(['AB', 'AC', 'AD', 'BD', 'CD', 'DE'])\n",
    "dot.render(directory='C:/Users/marco/Descargas', filename='mapa_tablas_verdad.gv', view = True)\n"
   ]
  },
  {
   "cell_type": "markdown",
   "id": "bb479311",
   "metadata": {},
   "source": [
    "\n",
    "![Mapa conceptual](C:/Users/marco/Descargas/mapa_tablas_verdad.gv.png)  \n",
    "\n",
    "---\n"
   ]
  },
  {
   "cell_type": "markdown",
   "id": "eddfa16e",
   "metadata": {},
   "source": [
    "\n",
    "**4. Contenido de la clase**  \n",
    "**a. Conceptos básicos:**  \n",
    "- **Proposición:** Expresión con valor $V$ o $F$ (ej: $p =$ \"Llueve\").  \n",
    "- **Conectivos:**  \n",
    "  - $p \\land q$ (AND): $V$ solo si ambos son $V$. (En python la conjunción se denota con & (ampersand)) \n",
    "  - $p \\lor q$ (OR): $F$ solo si ambos son $F$.  (En python la disyunción se denota con una barra vertical)\n",
    "  - $\\neg p$ (NOT): Invierte el valor.  \n",
    "  - $p \\rightarrow q$: $F$ solo si $p=V$ y $q=F$.  (es decir, de la verdad no se puede seguir la falsedad)\n"
   ]
  },
  {
   "cell_type": "markdown",
   "id": "fe9ab692",
   "metadata": {},
   "source": [
    "Aquí tienes un diseño integral para tu clase sobre la jerarquía de operaciones en proposiciones compuestas, adaptado a los enfoques solicitados:\n",
    "\n",
    "---\n",
    "\n",
    "# **Clase: Jerarquía de Operaciones en Proposiciones Compuestas**  \n",
    "**Enfoques**: Aula Invertida + STEAMS + ABPP  \n",
    "**Herramientas**: Jupyter Notebook + Python + LaTeX  \n",
    "\n",
    "---\n",
    "\n",
    "## **1. Objetivos de Aprendizaje**  \n",
    "- Determinar el orden de evaluación de operadores lógicos en expresiones complejas.  \n",
    "- Diseñar proposiciones compuestas usando correctamente signos de agrupación.  \n",
    "- Analizar errores comunes en circuitos lógicos por mal uso de paréntesis.  \n",
    "\n",
    "---\n",
    "\n",
    "## **2. Teoría Interactiva (Markdown + LaTeX)**  \n",
    "```markdown\n",
    "### **Jerarquía de Operaciones** (De mayor a menor prioridad):  \n",
    "1. **Paréntesis `( )`**, Corchetes `[ ]`, Llaves `{ }`  \n",
    "2. **Negación**: $\\neg p$  \n",
    "3. **Conjunción/Disyunción**: $p \\land q$, $p \\lor q$  \n",
    "4. **Implicación**: $p \\to q$  \n",
    "5. **Equivalencia**: $p \\leftrightarrow q$  \n",
    "\n",
    "**Regla Mnemotécnica**:  \n",
    "*\"Primero lo que encierra, luego NO, después Y/O, implica después, equivale al final\"*\n",
    "```\n",
    "\n",
    "---\n",
    "\n",
    "## **3. Ejemplos Interactivos (Python + Widgets)**  \n",
    "### **Caso 1: Importancia de los Paréntesis**  \n",
    "```python\n",
    "import pandas as pd\n",
    "from sympy import symbols, Eq, simplify_logic\n",
    "\n",
    "p, q = symbols('p q')\n",
    "\n",
    "# Expresión sin paréntesis: ¬p ∧ q\n",
    "expr1 = ~p & q  \n",
    "# Expresión con paréntesis: ¬(p ∧ q)\n",
    "expr2 = ~(p & q)  \n",
    "\n",
    "# Generar tabla de verdad comparativa\n",
    "truth_table = pd.DataFrame({\n",
    "    'p': [0,0,1,1],\n",
    "    'q': [0,1,0,1],\n",
    "    '¬p ∧ q': [expr1.subs({p:v, q:w}) for v in [0,0,1,1] for w in [0,1,0,1]],\n",
    "    '¬(p ∧ q)': [expr2.subs({p:v, q:w}) for v in [0,0,1,1] for w in [0,1,0,1]]\n",
    "})\n",
    "display(truth_table)\n",
    "```\n",
    "**Salida**:  \n",
    "| p | q | ¬p ∧ q | ¬(p ∧ q) |  \n",
    "|---|---|--------|----------|  \n",
    "| 0 | 0 |   0    |    1     |  \n",
    "| 0 | 1 |   1    |    1     |  \n",
    "| 1 | 0 |   0    |    1     |  \n",
    "| 1 | 1 |   0    |    0     |  \n",
    "\n",
    "---\n",
    "\n",
    "### **Caso 2: Uso de Múltiples Agrupadores**  \n"
   ]
  },
  {
   "cell_type": "markdown",
   "id": "688ceab2",
   "metadata": {},
   "source": [
    "```latex\n",
    "**Expresión**:  \n",
    "$[ \\{(p \\to \\neg q) \\lor r\\} \\leftrightarrow (s \\land \\neg t) ] \\to \\neg u$\n",
    "\n",
    "**Pasos de Evaluación**:  \n",
    "1. Resolver $\\neg q$ y $\\neg t$  \n",
    "2. Evaluar $(p \\to \\neg q)$  \n",
    "3. Evaluar $\\{(p \\to \\neg q) \\lor r\\}$  \n",
    "4. Evaluar $(s \\land \\neg t)$  \n",
    "5. Resolver $[ \\{(p \\to \\neg q) \\lor r\\} \\leftrightarrow (s \\land \\neg t) ]$  \n",
    "6. Aplicar $\\neg u$  \n",
    "7. Evaluar la implicación final  \n",
    "```\n",
    "\n",
    "---\n"
   ]
  },
  {
   "cell_type": "markdown",
   "id": "7fefda04",
   "metadata": {},
   "source": [
    "\n",
    "## **4. Actividad ABPP/STEAMS**  \n",
    "**Proyecto: Traductor de Expresiones Cotidianas a Lógica Formal**  \n"
   ]
  },
  {
   "cell_type": "markdown",
   "id": "076fb266",
   "metadata": {},
   "source": [
    "```python\n",
    "def translate_expression(sentence):\n",
    "    \"\"\"\n",
    "    Ejemplo de entrada:  \n",
    "    \"Si estudio y no veo series, entonces aprobaré, pero solo si el examen no es difícil\"\n",
    "    \n",
    "    Salida esperada:  \n",
    "    $(ESTUDIO \\land \\neg SERIES) \\to (APROBAR \\leftrightarrow \\neg DIFICIL)$\n",
    "    \"\"\"\n",
    "    # Código usando NLP básico (matcheo de patrones)\n",
    "    pass\n",
    "\n",
    "# Prueba interactiva con ipywidgets:\n",
    "from ipywidgets import Textarea, Button, Output\n",
    "\n",
    "input_text = Textarea(description=\"Frase:\")\n",
    "output_area = Output()\n",
    "btn = Button(description=\"Traducir\")\n",
    "\n",
    "def on_click(b):\n",
    "    with output_area:\n",
    "        print(f\"Expresión lógica:\\n{translate_expression(input_text.value)}\")\n",
    "\n",
    "btn.on_click(on_click)\n",
    "display(input_text, btn, output_area)\n",
    "```\n"
   ]
  },
  {
   "cell_type": "markdown",
   "id": "f44518f1",
   "metadata": {},
   "source": [
    "\n",
    "---\n",
    "\n",
    "## **5. Evaluación con Retroalimentación Automática**  \n",
    "**Quiz (SymPy + Pandas)**:  \n"
   ]
  },
  {
   "cell_type": "code",
   "execution_count": 1,
   "id": "37b16df6",
   "metadata": {},
   "outputs": [
    {
     "ename": "AttributeError",
     "evalue": "module 'sympy.logic.boolalg' has no attribute 'parse_expr'",
     "output_type": "error",
     "traceback": [
      "\u001b[1;31m---------------------------------------------------------------------------\u001b[0m",
      "\u001b[1;31mAttributeError\u001b[0m                            Traceback (most recent call last)",
      "Cell \u001b[1;32mIn[1], line 9\u001b[0m\n\u001b[0;32m      6\u001b[0m     \u001b[38;5;28;01mreturn\u001b[39;00m user_expr \u001b[38;5;241m==\u001b[39m correct_expr\n\u001b[0;32m      8\u001b[0m \u001b[38;5;66;03m# Ejemplo de respuesta estudiante: \"p >> ~q | r & s\"\u001b[39;00m\n\u001b[1;32m----> 9\u001b[0m result \u001b[38;5;241m=\u001b[39m \u001b[43mcheck_hierarchy\u001b[49m\u001b[43m(\u001b[49m\u001b[38;5;124;43m\"\u001b[39;49m\u001b[38;5;124;43mp >> (~q | (r & s))\u001b[39;49m\u001b[38;5;124;43m\"\u001b[39;49m\u001b[43m)\u001b[49m  \u001b[38;5;66;03m# Retorna True/False\u001b[39;00m\n",
      "Cell \u001b[1;32mIn[1], line 4\u001b[0m, in \u001b[0;36mcheck_hierarchy\u001b[1;34m(expr_str)\u001b[0m\n\u001b[0;32m      3\u001b[0m \u001b[38;5;28;01mdef\u001b[39;00m\u001b[38;5;250m \u001b[39m\u001b[38;5;21mcheck_hierarchy\u001b[39m(expr_str):\n\u001b[1;32m----> 4\u001b[0m     user_expr \u001b[38;5;241m=\u001b[39m \u001b[43mboolalg\u001b[49m\u001b[38;5;241;43m.\u001b[39;49m\u001b[43mparse_expr\u001b[49m(expr_str)\n\u001b[0;32m      5\u001b[0m     correct_expr \u001b[38;5;241m=\u001b[39m boolalg\u001b[38;5;241m.\u001b[39mparse_expr(\u001b[38;5;124m\"\u001b[39m\u001b[38;5;124m(p >> ~q) | (r & s)\u001b[39m\u001b[38;5;124m\"\u001b[39m)\n\u001b[0;32m      6\u001b[0m     \u001b[38;5;28;01mreturn\u001b[39;00m user_expr \u001b[38;5;241m==\u001b[39m correct_expr\n",
      "\u001b[1;31mAttributeError\u001b[0m: module 'sympy.logic.boolalg' has no attribute 'parse_expr'"
     ]
    }
   ],
   "source": [
    "from sympy.logic import boolalg\n",
    "\n",
    "def check_hierarchy(expr_str):\n",
    "    user_expr = boolalg.parse_expr(expr_str)\n",
    "    correct_expr = boolalg.parse_expr(\"(p >> ~q) | (r & s)\")\n",
    "    return user_expr == correct_expr\n",
    "\n",
    "# Ejemplo de respuesta estudiante: \"p >> ~q | r & s\"\n",
    "result = check_hierarchy(\"p >> (~q | (r & s))\")  # Retorna True/False\n",
    "\n"
   ]
  },
  {
   "cell_type": "markdown",
   "id": "e3067506",
   "metadata": {},
   "source": [
    "\n",
    "## **6. Recursos de Aula Invertida**  \n",
    "**Pre-Clase (Video + Lectura)**:  \n",
    "- Video: \"Errores de paréntesis en el código del Mars Rover\" (Conexión STEAM)  \n",
    "- Lectura: [PDF] \"La lógica en los contratos legales: ambigüedad por agrupación\"  \n",
    "\n",
    "**En Clase**:  \n",
    "- Discusión en grupos: Analizar fallas técnicas reales por errores de jerarquía lógica.  \n",
    "- Taller: Diseñar un circuito eléctrico análogo a una expresión con múltiples agrupadores.  \n",
    "\n",
    "---\n"
   ]
  },
  {
   "cell_type": "markdown",
   "id": "4c86994d",
   "metadata": {},
   "source": [
    "\n",
    "## **7. Errores Comunes y Soluciones**  \n",
    "| **Error** | **Ejemplo** | **Corrección** |  \n",
    "|-----------|-------------|----------------|  \n",
    "| Negación aplicada parcialmente | $\\neg p \\land q$ vs $\\neg(p \\land q)$ | Usar paréntesis para ámbito explícito |  \n",
    "| Implicación antes de conjunción | $p \\to q \\land r$ | $(p \\to (q \\land r))$ |  \n",
    "| Agrupadores mixtos | $[p \\to {q \\land r}]$ | Usar un tipo consistente: $(p \\to (q \\land r))$ |  \n",
    "\n",
    "---\n"
   ]
  },
  {
   "cell_type": "markdown",
   "id": "a585e288",
   "metadata": {},
   "source": [
    "\n",
    "## **8. Diagrama de Flujo de Prioridades**  \n",
    "```mermaid\n",
    "graph TD\n",
    "    A[Inicio] --> B{¿Hay signos de agrupación?}\n",
    "    B -->|Sí| C[Evaluar lo más anidado]\n",
    "    B -->|No| D[Negaciones]\n",
    "    D --> E[Conjunciones/Disyunciones]\n",
    "    E --> F[Implicaciones]\n",
    "    F --> G[Equivalencias]\n",
    "```\n",
    "\n",
    "**¡Este diseño promueve el aprendizaje activo mediante experimentación directa con código y conexiones multidisciplinares!** 🚀"
   ]
  },
  {
   "cell_type": "markdown",
   "id": "4e71c6d1",
   "metadata": {},
   "source": [
    "\n",
    "**b. Tabla de verdad con Python:**  \n"
   ]
  },
  {
   "cell_type": "code",
   "execution_count": null,
   "id": "bcc36964",
   "metadata": {},
   "outputs": [
    {
     "data": {
      "application/vnd.microsoft.datawrangler.viewer.v0+json": {
       "columns": [
        {
         "name": "index",
         "rawType": "int64",
         "type": "integer"
        },
        {
         "name": "p",
         "rawType": "bool",
         "type": "boolean"
        },
        {
         "name": "q",
         "rawType": "bool",
         "type": "boolean"
        },
        {
         "name": "Resultado Equivalent(p, q)",
         "rawType": "object",
         "type": "unknown"
        }
       ],
       "conversionMethod": "pd.DataFrame",
       "ref": "5795fcab-f37d-43c5-becd-0b35869e60ed",
       "rows": [
        [
         "0",
         "False",
         "False",
         "True"
        ],
        [
         "1",
         "False",
         "True",
         "False"
        ],
        [
         "2",
         "True",
         "False",
         "False"
        ],
        [
         "3",
         "True",
         "True",
         "True"
        ]
       ],
       "shape": {
        "columns": 3,
        "rows": 4
       }
      },
      "text/html": [
       "<div>\n",
       "<style scoped>\n",
       "    .dataframe tbody tr th:only-of-type {\n",
       "        vertical-align: middle;\n",
       "    }\n",
       "\n",
       "    .dataframe tbody tr th {\n",
       "        vertical-align: top;\n",
       "    }\n",
       "\n",
       "    .dataframe thead th {\n",
       "        text-align: right;\n",
       "    }\n",
       "</style>\n",
       "<table border=\"1\" class=\"dataframe\">\n",
       "  <thead>\n",
       "    <tr style=\"text-align: right;\">\n",
       "      <th></th>\n",
       "      <th>p</th>\n",
       "      <th>q</th>\n",
       "      <th>Resultado Equivalent(p, q)</th>\n",
       "    </tr>\n",
       "  </thead>\n",
       "  <tbody>\n",
       "    <tr>\n",
       "      <th>0</th>\n",
       "      <td>False</td>\n",
       "      <td>False</td>\n",
       "      <td>True</td>\n",
       "    </tr>\n",
       "    <tr>\n",
       "      <th>1</th>\n",
       "      <td>False</td>\n",
       "      <td>True</td>\n",
       "      <td>False</td>\n",
       "    </tr>\n",
       "    <tr>\n",
       "      <th>2</th>\n",
       "      <td>True</td>\n",
       "      <td>False</td>\n",
       "      <td>False</td>\n",
       "    </tr>\n",
       "    <tr>\n",
       "      <th>3</th>\n",
       "      <td>True</td>\n",
       "      <td>True</td>\n",
       "      <td>True</td>\n",
       "    </tr>\n",
       "  </tbody>\n",
       "</table>\n",
       "</div>"
      ],
      "text/plain": [
       "       p      q Resultado Equivalent(p, q)\n",
       "0  False  False                       True\n",
       "1  False   True                      False\n",
       "2   True  False                      False\n",
       "3   True   True                       True"
      ]
     },
     "metadata": {},
     "output_type": "display_data"
    }
   ],
   "source": [
    "import numpy as np\n",
    "import pandas as pd\n",
    "from sympy import symbols, And, Or, Not, Implies, Equivalent # Para sympy los conectores lógicos son funciones.\n",
    "\n",
    "p, q = symbols('p q')\n",
    "proposicion = Equivalent(p,q)\n",
    "\n",
    "def generar_tabla(func):\n",
    "    combinaciones = np.array(np.meshgrid([False, True], [False, True])).T.reshape(-1,2)\n",
    "    df = pd.DataFrame(combinaciones, columns=['p', 'q'])\n",
    "    df[f'Resultado {func}'] = [func.subs({p: row[0], q: row[1]}) for row in combinaciones]\n",
    "    return df\n",
    "\n",
    "display(generar_tabla(proposicion))\n",
    "\n"
   ]
  },
  {
   "cell_type": "markdown",
   "id": "95c4f3da",
   "metadata": {},
   "source": [
    "\n",
    "---\n",
    "\n",
    "**5. Canción/Poema**  \n",
    "**\"La Cumbia de los Verdadines\"** (Ritmo de cumbia colombiana):  \n",
    "\n",
    "Si p es V y q es F, la implicación ¡ay, no es verdad!  \n",
    "El AND es exigente, dos verdades pide él.  \n",
    "OR es más consentidor, con una V, ¡ya está bien!  \n",
    "NOT revuelve la tortilla, lo que es V lo vuelve F.  \n",
    "¡Tablas de verdad, mi gente, resuelven cualquier problemita!  \n",
    "\n",
    "\n",
    "---\n"
   ]
  },
  {
   "cell_type": "markdown",
   "id": "fa268674",
   "metadata": {},
   "source": [
    "\n",
    "**6. Historia epistemológica**  \n",
    "**\"El Misterio de los Símbolos Lógicos\"**  \n",
    "Érase una vez, en el frío norte de Inglaterra, un joven George Boole (imagen: `C:/Users/marco/Descargas/boole.jpg`) que soñaba con convertir el pensamiento en ecuaciones. \"¡Las ideas son como números!\", decía, mientras escribía $x \\cdot y$ para el \"y\" lógico. Años después, un alemán llamado Frege (imagen: `C:/Users/marco/Descargas/frege.jpg`) unió lógica y matemáticas con su *Begriffsschrift*, ¡y el mundo nunca fue igual! Hoy, hasta tu celular usa sus reglas para tomar decisiones... ¿Quién dijo que la lógica no era mágica?  \n",
    "\n",
    "---\n"
   ]
  },
  {
   "cell_type": "markdown",
   "id": "a206dc4b",
   "metadata": {},
   "source": [
    "\n",
    "**7. Actividades de aprendizaje**  \n",
    "**a. Laboratorio interactivo:**  \n"
   ]
  },
  {
   "cell_type": "code",
   "execution_count": 16,
   "id": "12d9aa9e",
   "metadata": {},
   "outputs": [
    {
     "data": {
      "application/vnd.microsoft.datawrangler.viewer.v0+json": {
       "columns": [
        {
         "name": "index",
         "rawType": "object",
         "type": "string"
        },
        {
         "name": "Valor",
         "rawType": "bool",
         "type": "boolean"
        }
       ],
       "conversionMethod": "pd.DataFrame",
       "ref": "61f69330-1496-4b32-a038-049e6831af3a",
       "rows": [
        [
         "NOT p",
         "False"
        ],
        [
         "OR",
         "True"
        ],
        [
         "AND",
         "True"
        ],
        [
         "p → q",
         "True"
        ],
        [
         "p <-> q",
         "True"
        ]
       ],
       "shape": {
        "columns": 1,
        "rows": 5
       }
      },
      "text/html": [
       "<div>\n",
       "<style scoped>\n",
       "    .dataframe tbody tr th:only-of-type {\n",
       "        vertical-align: middle;\n",
       "    }\n",
       "\n",
       "    .dataframe tbody tr th {\n",
       "        vertical-align: top;\n",
       "    }\n",
       "\n",
       "    .dataframe thead th {\n",
       "        text-align: right;\n",
       "    }\n",
       "</style>\n",
       "<table border=\"1\" class=\"dataframe\">\n",
       "  <thead>\n",
       "    <tr style=\"text-align: right;\">\n",
       "      <th></th>\n",
       "      <th>Valor</th>\n",
       "    </tr>\n",
       "  </thead>\n",
       "  <tbody>\n",
       "    <tr>\n",
       "      <th>NOT p</th>\n",
       "      <td>False</td>\n",
       "    </tr>\n",
       "    <tr>\n",
       "      <th>OR</th>\n",
       "      <td>True</td>\n",
       "    </tr>\n",
       "    <tr>\n",
       "      <th>AND</th>\n",
       "      <td>True</td>\n",
       "    </tr>\n",
       "    <tr>\n",
       "      <th>p → q</th>\n",
       "      <td>True</td>\n",
       "    </tr>\n",
       "    <tr>\n",
       "      <th>p &lt;-&gt; q</th>\n",
       "      <td>True</td>\n",
       "    </tr>\n",
       "  </tbody>\n",
       "</table>\n",
       "</div>"
      ],
      "text/plain": [
       "         Valor\n",
       "NOT p    False\n",
       "OR        True\n",
       "AND       True\n",
       "p → q     True\n",
       "p <-> q   True"
      ]
     },
     "metadata": {},
     "output_type": "display_data"
    },
    {
     "data": {
      "application/vnd.jupyter.widget-view+json": {
       "model_id": "08a677b5d8dc40ccbde7adb02ceaf56e",
       "version_major": 2,
       "version_minor": 0
      },
      "text/plain": [
       "interactive(children=(Dropdown(description='p', options=(('Verdadero', True), ('Falso', False)), value=True), …"
      ]
     },
     "metadata": {},
     "output_type": "display_data"
    }
   ],
   "source": [
    "\n",
    "from ipywidgets import interact, Dropdown\n",
    "\n",
    "@interact(\n",
    "    p=Dropdown(options=[('Verdadero', True), ('Falso', False)]),\n",
    "    q=Dropdown(options=[('Verdadero', True), ('Falso', False)])\n",
    ")\n",
    "def calcular_conectivos(p, q):\n",
    "    resultado = {\n",
    "        'NOT p': not p,\n",
    "        'OR': p or q,\n",
    "        'AND': p and q,\n",
    "        'p → q': (not p) or q,\n",
    "        'p <-> q': (p and q) or (not p and not q)\n",
    "    }\n",
    "    display(pd.DataFrame.from_dict(resultado, orient='index', columns=['Valor']))\n"
   ]
  },
  {
   "cell_type": "code",
   "execution_count": null,
   "id": "1dcf9f3a",
   "metadata": {},
   "outputs": [],
   "source": [
    "\n",
    "**b. Animación de tabla de verdad:**  \n"
   ]
  },
  {
   "cell_type": "code",
   "execution_count": 18,
   "id": "d625c4a2",
   "metadata": {},
   "outputs": [
    {
     "data": {
      "text/html": [
       "\n",
       "<link rel=\"stylesheet\"\n",
       "href=\"https://maxcdn.bootstrapcdn.com/font-awesome/4.4.0/css/font-awesome.min.css\">\n",
       "<script language=\"javascript\">\n",
       "  function isInternetExplorer() {\n",
       "    ua = navigator.userAgent;\n",
       "    /* MSIE used to detect old browsers and Trident used to newer ones*/\n",
       "    return ua.indexOf(\"MSIE \") > -1 || ua.indexOf(\"Trident/\") > -1;\n",
       "  }\n",
       "\n",
       "  /* Define the Animation class */\n",
       "  function Animation(frames, img_id, slider_id, interval, loop_select_id){\n",
       "    this.img_id = img_id;\n",
       "    this.slider_id = slider_id;\n",
       "    this.loop_select_id = loop_select_id;\n",
       "    this.interval = interval;\n",
       "    this.current_frame = 0;\n",
       "    this.direction = 0;\n",
       "    this.timer = null;\n",
       "    this.frames = new Array(frames.length);\n",
       "\n",
       "    for (var i=0; i<frames.length; i++)\n",
       "    {\n",
       "     this.frames[i] = new Image();\n",
       "     this.frames[i].src = frames[i];\n",
       "    }\n",
       "    var slider = document.getElementById(this.slider_id);\n",
       "    slider.max = this.frames.length - 1;\n",
       "    if (isInternetExplorer()) {\n",
       "        // switch from oninput to onchange because IE <= 11 does not conform\n",
       "        // with W3C specification. It ignores oninput and onchange behaves\n",
       "        // like oninput. In contrast, Microsoft Edge behaves correctly.\n",
       "        slider.setAttribute('onchange', slider.getAttribute('oninput'));\n",
       "        slider.setAttribute('oninput', null);\n",
       "    }\n",
       "    this.set_frame(this.current_frame);\n",
       "  }\n",
       "\n",
       "  Animation.prototype.get_loop_state = function(){\n",
       "    var button_group = document[this.loop_select_id].state;\n",
       "    for (var i = 0; i < button_group.length; i++) {\n",
       "        var button = button_group[i];\n",
       "        if (button.checked) {\n",
       "            return button.value;\n",
       "        }\n",
       "    }\n",
       "    return undefined;\n",
       "  }\n",
       "\n",
       "  Animation.prototype.set_frame = function(frame){\n",
       "    this.current_frame = frame;\n",
       "    document.getElementById(this.img_id).src =\n",
       "            this.frames[this.current_frame].src;\n",
       "    document.getElementById(this.slider_id).value = this.current_frame;\n",
       "  }\n",
       "\n",
       "  Animation.prototype.next_frame = function()\n",
       "  {\n",
       "    this.set_frame(Math.min(this.frames.length - 1, this.current_frame + 1));\n",
       "  }\n",
       "\n",
       "  Animation.prototype.previous_frame = function()\n",
       "  {\n",
       "    this.set_frame(Math.max(0, this.current_frame - 1));\n",
       "  }\n",
       "\n",
       "  Animation.prototype.first_frame = function()\n",
       "  {\n",
       "    this.set_frame(0);\n",
       "  }\n",
       "\n",
       "  Animation.prototype.last_frame = function()\n",
       "  {\n",
       "    this.set_frame(this.frames.length - 1);\n",
       "  }\n",
       "\n",
       "  Animation.prototype.slower = function()\n",
       "  {\n",
       "    this.interval /= 0.7;\n",
       "    if(this.direction > 0){this.play_animation();}\n",
       "    else if(this.direction < 0){this.reverse_animation();}\n",
       "  }\n",
       "\n",
       "  Animation.prototype.faster = function()\n",
       "  {\n",
       "    this.interval *= 0.7;\n",
       "    if(this.direction > 0){this.play_animation();}\n",
       "    else if(this.direction < 0){this.reverse_animation();}\n",
       "  }\n",
       "\n",
       "  Animation.prototype.anim_step_forward = function()\n",
       "  {\n",
       "    this.current_frame += 1;\n",
       "    if(this.current_frame < this.frames.length){\n",
       "      this.set_frame(this.current_frame);\n",
       "    }else{\n",
       "      var loop_state = this.get_loop_state();\n",
       "      if(loop_state == \"loop\"){\n",
       "        this.first_frame();\n",
       "      }else if(loop_state == \"reflect\"){\n",
       "        this.last_frame();\n",
       "        this.reverse_animation();\n",
       "      }else{\n",
       "        this.pause_animation();\n",
       "        this.last_frame();\n",
       "      }\n",
       "    }\n",
       "  }\n",
       "\n",
       "  Animation.prototype.anim_step_reverse = function()\n",
       "  {\n",
       "    this.current_frame -= 1;\n",
       "    if(this.current_frame >= 0){\n",
       "      this.set_frame(this.current_frame);\n",
       "    }else{\n",
       "      var loop_state = this.get_loop_state();\n",
       "      if(loop_state == \"loop\"){\n",
       "        this.last_frame();\n",
       "      }else if(loop_state == \"reflect\"){\n",
       "        this.first_frame();\n",
       "        this.play_animation();\n",
       "      }else{\n",
       "        this.pause_animation();\n",
       "        this.first_frame();\n",
       "      }\n",
       "    }\n",
       "  }\n",
       "\n",
       "  Animation.prototype.pause_animation = function()\n",
       "  {\n",
       "    this.direction = 0;\n",
       "    if (this.timer){\n",
       "      clearInterval(this.timer);\n",
       "      this.timer = null;\n",
       "    }\n",
       "  }\n",
       "\n",
       "  Animation.prototype.play_animation = function()\n",
       "  {\n",
       "    this.pause_animation();\n",
       "    this.direction = 1;\n",
       "    var t = this;\n",
       "    if (!this.timer) this.timer = setInterval(function() {\n",
       "        t.anim_step_forward();\n",
       "    }, this.interval);\n",
       "  }\n",
       "\n",
       "  Animation.prototype.reverse_animation = function()\n",
       "  {\n",
       "    this.pause_animation();\n",
       "    this.direction = -1;\n",
       "    var t = this;\n",
       "    if (!this.timer) this.timer = setInterval(function() {\n",
       "        t.anim_step_reverse();\n",
       "    }, this.interval);\n",
       "  }\n",
       "</script>\n",
       "\n",
       "<style>\n",
       ".animation {\n",
       "    display: inline-block;\n",
       "    text-align: center;\n",
       "}\n",
       "input[type=range].anim-slider {\n",
       "    width: 374px;\n",
       "    margin-left: auto;\n",
       "    margin-right: auto;\n",
       "}\n",
       ".anim-buttons {\n",
       "    margin: 8px 0px;\n",
       "}\n",
       ".anim-buttons button {\n",
       "    padding: 0;\n",
       "    width: 36px;\n",
       "}\n",
       ".anim-state label {\n",
       "    margin-right: 8px;\n",
       "}\n",
       ".anim-state input {\n",
       "    margin: 0;\n",
       "    vertical-align: middle;\n",
       "}\n",
       "</style>\n",
       "\n",
       "<div class=\"animation\">\n",
       "  <img id=\"_anim_imga17923690d5f4c4785fa069c408163aa\">\n",
       "  <div class=\"anim-controls\">\n",
       "    <input id=\"_anim_slidera17923690d5f4c4785fa069c408163aa\" type=\"range\" class=\"anim-slider\"\n",
       "           name=\"points\" min=\"0\" max=\"1\" step=\"1\" value=\"0\"\n",
       "           oninput=\"anima17923690d5f4c4785fa069c408163aa.set_frame(parseInt(this.value));\">\n",
       "    <div class=\"anim-buttons\">\n",
       "      <button title=\"Decrease speed\" aria-label=\"Decrease speed\" onclick=\"anima17923690d5f4c4785fa069c408163aa.slower()\">\n",
       "          <i class=\"fa fa-minus\"></i></button>\n",
       "      <button title=\"First frame\" aria-label=\"First frame\" onclick=\"anima17923690d5f4c4785fa069c408163aa.first_frame()\">\n",
       "        <i class=\"fa fa-fast-backward\"></i></button>\n",
       "      <button title=\"Previous frame\" aria-label=\"Previous frame\" onclick=\"anima17923690d5f4c4785fa069c408163aa.previous_frame()\">\n",
       "          <i class=\"fa fa-step-backward\"></i></button>\n",
       "      <button title=\"Play backwards\" aria-label=\"Play backwards\" onclick=\"anima17923690d5f4c4785fa069c408163aa.reverse_animation()\">\n",
       "          <i class=\"fa fa-play fa-flip-horizontal\"></i></button>\n",
       "      <button title=\"Pause\" aria-label=\"Pause\" onclick=\"anima17923690d5f4c4785fa069c408163aa.pause_animation()\">\n",
       "          <i class=\"fa fa-pause\"></i></button>\n",
       "      <button title=\"Play\" aria-label=\"Play\" onclick=\"anima17923690d5f4c4785fa069c408163aa.play_animation()\">\n",
       "          <i class=\"fa fa-play\"></i></button>\n",
       "      <button title=\"Next frame\" aria-label=\"Next frame\" onclick=\"anima17923690d5f4c4785fa069c408163aa.next_frame()\">\n",
       "          <i class=\"fa fa-step-forward\"></i></button>\n",
       "      <button title=\"Last frame\" aria-label=\"Last frame\" onclick=\"anima17923690d5f4c4785fa069c408163aa.last_frame()\">\n",
       "          <i class=\"fa fa-fast-forward\"></i></button>\n",
       "      <button title=\"Increase speed\" aria-label=\"Increase speed\" onclick=\"anima17923690d5f4c4785fa069c408163aa.faster()\">\n",
       "          <i class=\"fa fa-plus\"></i></button>\n",
       "    </div>\n",
       "    <form title=\"Repetition mode\" aria-label=\"Repetition mode\" action=\"#n\" name=\"_anim_loop_selecta17923690d5f4c4785fa069c408163aa\"\n",
       "          class=\"anim-state\">\n",
       "      <input type=\"radio\" name=\"state\" value=\"once\" id=\"_anim_radio1_a17923690d5f4c4785fa069c408163aa\"\n",
       "             >\n",
       "      <label for=\"_anim_radio1_a17923690d5f4c4785fa069c408163aa\">Once</label>\n",
       "      <input type=\"radio\" name=\"state\" value=\"loop\" id=\"_anim_radio2_a17923690d5f4c4785fa069c408163aa\"\n",
       "             checked>\n",
       "      <label for=\"_anim_radio2_a17923690d5f4c4785fa069c408163aa\">Loop</label>\n",
       "      <input type=\"radio\" name=\"state\" value=\"reflect\" id=\"_anim_radio3_a17923690d5f4c4785fa069c408163aa\"\n",
       "             >\n",
       "      <label for=\"_anim_radio3_a17923690d5f4c4785fa069c408163aa\">Reflect</label>\n",
       "    </form>\n",
       "  </div>\n",
       "</div>\n",
       "\n",
       "\n",
       "<script language=\"javascript\">\n",
       "  /* Instantiate the Animation class. */\n",
       "  /* The IDs given should match those used in the template above. */\n",
       "  (function() {\n",
       "    var img_id = \"_anim_imga17923690d5f4c4785fa069c408163aa\";\n",
       "    var slider_id = \"_anim_slidera17923690d5f4c4785fa069c408163aa\";\n",
       "    var loop_select_id = \"_anim_loop_selecta17923690d5f4c4785fa069c408163aa\";\n",
       "    var frames = new Array(4);\n",
       "    \n",
       "  frames[0] = \"data:image/png;base64,iVBORw0KGgoAAAANSUhEUgAAAoAAAAHgCAYAAAA10dzkAAAAOnRFWHRTb2Z0d2FyZQBNYXRwbG90\\\n",
       "bGliIHZlcnNpb24zLjEwLjAsIGh0dHBzOi8vbWF0cGxvdGxpYi5vcmcvlHJYcgAAAAlwSFlzAAAP\\\n",
       "YQAAD2EBqD+naQAAEBlJREFUeJzt3G3Ij+fjx/EDk7vx00ZZsSfMotxE7eaBu/KA2AMkSaEmJBnW\\\n",
       "hrTikbTITUKtEFqGZA+XRKEZFhrZGNkzi82EuZvr13nWrn4y/drV//+//tc+r1edD77nefpeR/nW\\\n",
       "9b6O4zy+rRoaGhoKAAAxWjf3AAAA+L8lAAEAwghAAIAwAhAAIIwABAAIIwABAMIIQACAMAIQACCM\\\n",
       "AAQACCMAAQDCCEAAgDACEAAgjAAEAAgjAAEAwghAAIAwAhAAIIwABAAIIwABAMIIQACAMAIQACCM\\\n",
       "AAQACCMAAQDCCEAAgDACEAAgjAAEAAgjAAEAwghAAIAwAhAAIIwABAAIIwABAMIIQACAMAIQACCM\\\n",
       "AAQACCMAAQDCCEAAgDACEAAgjAAEAAgjAAEAwghAAIAwAhAAIIwABAAIIwABAMIIQACAMAIQACCM\\\n",
       "AAQACCMAAQDCCEAAgDACEAAgjAAEAAgjAAEAwghAACDG9u3bS9euXUs6AQgAtDgzZ84srVq1eu64\\\n",
       "cuVKcw+tRXipuQcAANAUY8aMKdu2bXvmXPfu3ZttPC2JGcAmuHfvXpk+fXp5+eWXy2uvvVbWrFlT\\\n",
       "Ro4cWRYuXNjcQwOAGO3atSs9evR45li/fn0ZMGBA6dSpU+nVq1eZN29euXv37gvf49y5c2XUqFGl\\\n",
       "c+fOpUuXLmXo0KHl9OnTjdePHTtWhg0bVjp06FC/34IFC+oOaOkEYBN89NFH5ejRo+XgwYPlq6++\\\n",
       "KkeOHCnffvttcw8LAOK1bt26bNiwoVy4cKHs2LGjHD58uHz88ccvvH/atGmlZ8+e5dSpU+XMmTNl\\\n",
       "6dKlpW3btvW1H3/8sZ5lnDRpUjl//nzZs2dPHYTz588vLV2rhoaGhuYeREtS/RXx6quvll27dpXJ\\\n",
       "kyfX53755Zf6wzN79uyybt265h4iAEQ8A1j9Lm7fvn3jubFjx5a9e/c+c9++ffvK3Llzy82bNxs3\\\n",
       "gSxcuLDcvn27fl3N+m3cuLHMmDHjuZ8xa9as0qZNm7J169bGc1UAjhgxop4F/M+f3dJ4BvBvqv4a\\\n",
       "ePToUXn77bcbz73yyivlzTffbNZxAUCaaul28+bNja+rZd9Dhw6VVatWlUuXLpU7d+6UJ0+elAcP\\\n",
       "HpT79++Xjh07PvceixcvrkNv586dZfTo0fXkTu/evRuXh6uZv927dzfeX82bPX36tFy7dq3069ev\\\n",
       "tFSWgAGAFqkKvj59+jQeDx8+LOPHjy8DBw4s+/fvr5d0N23aVN9bTd78lRUrVtTLxePGjauXi/v3\\\n",
       "718OHDjQuOo3Z86ccvbs2cajisLLly83RmJLZQbwb6r+w6tnA06ePFlef/31+tyvv/5afvjhh3pK\\\n",
       "GABoHlXwVbNz1ebM6lnAyhdffPFf/13fvn3rY9GiRWXq1Kn1zuIJEyaUIUOGlIsXL9Zx+U9jBvBv\\\n",
       "qnb+vv/++/VGkOovhe+++65+DuHPDxoA0DyqUHv8+HH9TN/Vq1frZd0tW7a88P7ff/+93tBRbea8\\\n",
       "fv16OX78eL0Z5M+l3SVLlpQTJ07U91Szf9XMX7UB9J+wCcQMYBN8+umn9bTwe++9V28b//DDD8tv\\\n",
       "v/3W3MMCgGiDBg0qa9euLatXry7Lli0rw4cPr58HrL667a+0adOm3Lp1q75+48aN0q1btzJx4sSy\\\n",
       "cuXK+nq1lFx968fy5cvrr4Kpnv+rVgKnTJlSWjq7gP+HVN8DOHjwYLuAAYD/96xbAgCEEYAAAGEs\\\n",
       "AQMAhDEDCAAQRgACAIQRgAAAYQQgAEAYAQgAEEYAAgCEEYAAAGEEIABAGAEIABBGAAIAhBGAAABh\\\n",
       "BCAAQBgBCAAQRgACAIQRgAAAYQQgAEAYAQgAEEYAAgCEEYAAAGEEIABAGAEIABBGAAIAhBGAAABh\\\n",
       "BCAAQBgBCAAQRgACAIQRgAAAYQQgAEAYAQgAEEYAAgCEEYAAAGEEIABAGAEIABBGAAIAhBGAAABh\\\n",
       "BCAAQBgBCAAQRgACAIQRgAAAYQQgAEAYAQgAEEYAAgCEEYAAAGEEIABAGAEIABBGAAIAhBGAAABh\\\n",
       "BCAAQBgBCAAQRgACAIQRgAAAYQQgAEAYAQgAEEYAAgCEEYAAAGEEIABAGAEIABBGAAIAhBGAAABh\\\n",
       "BCAAQBgBCAAQRgACAIQRgAAAYQQgAEAYAQgAEEYAAgCEEYAAAGEEIABAGAEIABBGAAIAhBGAAABh\\\n",
       "BCAAQBgBCAAQRgACAIQRgAAAYQQgAEAYAQgAEEYAAgCEEYAAAGEEIABAGAEIABBGAAIAhBGAAABh\\\n",
       "BCAAQBgBCAAQRgACAIQRgAAAYQQgAEAYAQgAEEYAAgCEEYAAAGEEIABAGAEIABBGAAIAhBGAAABh\\\n",
       "BCAAQBgBCAAQRgACAIQRgAAAYQQgAEAYAQgAEEYAAgCEEYAAAGEEIABAGAEIABBGAAIAhBGAAABh\\\n",
       "BCAAQBgBCAAQRgACAIQRgAAAYQQgAEAYAQgAEEYAAgCEEYAAAGEEIABAGAEIABBGAAIAhBGAAABh\\\n",
       "BCAAQBgBCAAQRgACAIQRgAAAYQQgAEAYAQgAEEYAAgCEEYAAAGEEIABAGAEIABBGAAIAhBGAAABh\\\n",
       "BCAAQBgBCAAQRgACAIQRgAAAYQQgAEAYAQgAEEYAAgCEEYAAAGEEIABAGAEIABBGAAIAhBGAAABh\\\n",
       "BCAAQBgBCAAQRgACAIQRgAAAYQQgAEAYAQgAEEYAAgCEEYAAAGEEIABAGAEIABBGAAIAhBGAAABh\\\n",
       "BCAAQBgBCAAQRgACAIQRgAAAYQQgAEAYAQgAEEYAAgCEEYAAAGEEIABAGAEIABBGAAIAhBGAAABh\\\n",
       "BCAAQBgBCAAQRgACAIQRgAAAYQQgAEAYAQgAEEYAAgCEEYAAAGEEIABAGAEIABBGAAIAhBGAAABh\\\n",
       "BCAAQBgBCAAQRgACAIQRgAAAYQQgAEAYAQgAEEYAAgCEEYAAAGEEIABAGAEIABBGAAIAhBGAAABh\\\n",
       "BCAAQBgBCAAQRgACAIQRgAAAYQQgAEAYAQgAEEYAAgCEEYAAAGEEIABAGAEIABBGAAIAhBGAAABh\\\n",
       "BCAAQBgBCAAQRgACAIQRgAAAYQQgAEAYAQgAEEYAAgCEEYAAAGEEIABAGAEIABBGAAIAhBGAAABh\\\n",
       "BCAAQBgBCAAQRgACAIQRgAAAYQQgAEAYAQgAEEYAAgCEEYAAAGEEIABAGAEIABBGAAIAhBGAAABh\\\n",
       "BCAAQBgBCAAQRgACAIQRgAAAYQQgAEAYAQgAEEYAAgCEEYAAAGEEIABAGAEIABBGAAIAhBGAAABh\\\n",
       "BCAAQBgBCAAQRgACAIQRgAAAYQQgAEAYAQgAEEYAAgCEEYAAAGEEIABAGAEIABBGAAIAhBGAAABh\\\n",
       "BCAAQBgBCAAQRgACAIQRgAAAYQQgAEAYAQgAEEYAAgCEEYAAAGEEIABAGAEIABBGAAIAhBGAAABh\\\n",
       "BCAAQBgBCAAQRgACAIQRgAAAYQQgAEAYAQgAEEYAAgCEEYAAAGEEIABAGAEIABBGAAIAhBGAAABh\\\n",
       "BCAAQBgBCAAQRgACAIQRgAAAYQQgAEAYAQgAEEYAAgCEEYAAAGEEIABAGAEIABBGAAIAhBGAAABh\\\n",
       "BCAAQBgBCAAQRgACAIQRgAAAYQQgAEAYAQgAEEYAAgCEEYAAAGEEIABAGAEIABBGAAIAhBGAAABh\\\n",
       "BCAAQBgBCAAQRgACAIQRgAAAYQQgAEAYAQgAEEYAAgCEEYAAAGEEIABAGAEIABBGAAIAhBGAAABh\\\n",
       "BCAAQBgBCAAQRgACAIQRgAAAYQQgAEAYAQgAEEYAAgCEEYAAAGEEIABAGAEIABBGAAIAhBGAAABh\\\n",
       "BCAAQBgBCAAQRgACAIQRgAAAYQQgAEAYAQgAEEYAAgCEEYAAAGEEIABAGAEIABBGAAIAhBGAAABh\\\n",
       "BCAAQBgBCAAQRgACAIQRgAAAYQQgAEAYAQgAEEYAAgCEEYAAAGEEIABAGAEIABBGAAIAhBGAAABh\\\n",
       "BCAAQBgBCAAQRgACAIQRgAAAYQQgAEAYAQgAEEYAAgCEEYAAQIzt27eXrl27lnQCEABocWbOnFla\\\n",
       "tWr13HHlypXmHlqL8FJzDwAAoCnGjBlTtm3b9sy57t27N9t4WhIzgE0wcuTIMn/+/Pr417/+Vbp1\\\n",
       "61Y++eST0tDQ0NxDA4AY7dq1Kz169HjmWL9+fRkwYEDp1KlT6dWrV5k3b165e/fuC9/j3LlzZdSo\\\n",
       "UaVz586lS5cuZejQoeX06dON148dO1aGDRtWOnToUL/fggULyr1790pLJwCbaMeOHeWll14q33zz\\\n",
       "Tf1hW7t2bfnss8+ae1gAEK1169Zlw4YN5cKFC/Xv6sOHD5ePP/74hfdPmzat9OzZs5w6daqcOXOm\\\n",
       "LF26tLRt27a+9uOPP9azjJMmTSrnz58ve/bsqYOwmgBq6Vo1mLZq0gzgzz//XH+4qucNKtUH5ssv\\\n",
       "vywXL15s7uEBQMQzgLt27Srt27dvPDd27Niyd+/eZ+7bt29fmTt3brl582bjJpCFCxeW27dv16+r\\\n",
       "Wb+NGzeWGTNmPPczZs2aVdq0aVO2bt3aeK4KwBEjRtSzgP/5s1sazwA20TvvvNMYf5V33323rFmz\\\n",
       "pvzxxx/1hwUA+N9VLd1u3ry58XW17Hvo0KGyatWqcunSpXLnzp3y5MmT8uDBg3L//v3SsWPH595j\\\n",
       "8eLFdejt3LmzjB49ukyePLn07t27cXm4mvnbvXt34/3VvNnTp0/LtWvXSr9+/UpLZQkYAGiRquDr\\\n",
       "06dP4/Hw4cMyfvz4MnDgwLJ///56SXfTpk31vY8ePfrL91ixYkW9ojdu3Lh6ubh///7lwIED9bXq\\\n",
       "2cE5c+aUs2fPNh5VFF6+fLkxElsqM4BNdPLkyWdef/311+WNN94w+wcAzaQKvmp2rlqRq54FrHzx\\\n",
       "xRf/9d/17du3PhYtWlSmTp1a7yyeMGFCGTJkSP1oVxWX/zRmAJvop59+qqeNv//++/L555/Xzw98\\\n",
       "8MEHzT0sAIhVhdrjx4/r38lXr16tl3W3bNnywvt///33ekPHkSNHyvXr18vx48frzSB/Lu0uWbKk\\\n",
       "nDhxor6nmv2rZv4OHjz4j9gEYgawiaZPn15/cN5666161q+Kv9mzZzf3sAAg1qBBg+pv5Vi9enVZ\\\n",
       "tmxZGT58eP08YPU7+6+0adOm3Lp1q75+48aN+mvdJk6cWFauXFlfr5aSjx49WpYvX15/FUz1/F+1\\\n",
       "9DtlypTS0tkF3MRdwIMHDy7r1q1r7qEAAPxtloABAMIIQACAMJaAAQDCmAEEAAgjAAEAwghAAIAw\\\n",
       "AhAAIIwABAAIIwABAMIIQACAMAIQACCMAAQACCMAAQDCCEAAgDACEAAgjAAEAAgjAAEAwghAAIAw\\\n",
       "AhAAIIwABAAIIwABAMIIQACAMAIQACCMAAQACCMAAQDCCEAAgDACEAAgjAAEAAgjAAEAwghAAIAw\\\n",
       "AhAAIIwABAAIIwABAMIIQACAMAIQACCMAAQACCMAAQDCCEAAgDACEAAgjAAEAAgjAAEAwghAAIAw\\\n",
       "AhAAIIwABAAIIwABAMIIQACAMAIQACCMAAQAKFn+DcsfrH8aX+ApAAAAAElFTkSuQmCC\\\n",
       "\"\n",
       "  frames[1] = \"data:image/png;base64,iVBORw0KGgoAAAANSUhEUgAAAoAAAAHgCAYAAAA10dzkAAAAOnRFWHRTb2Z0d2FyZQBNYXRwbG90\\\n",
       "bGliIHZlcnNpb24zLjEwLjAsIGh0dHBzOi8vbWF0cGxvdGxpYi5vcmcvlHJYcgAAAAlwSFlzAAAP\\\n",
       "YQAAD2EBqD+naQAAD0ZJREFUeJzt3HmoVeX+x/GvE2am2WAY6R+lFgmlaVRCpU1UdIMGIqJQqaiI\\\n",
       "KG0wSwwrSKIMKyKFoiwjLCMMon8kMjSyCRvRUiP/iaJoQM0hPZe1oEPebvfeDvx+J/28XrDg7L3X\\\n",
       "2ef5Y8F+n+dZz+7R0dHRUQAAxOjZ3QMAAOD/lwAEAAgjAAEAwghAAIAwAhAAIIwABAAIIwABAMII\\\n",
       "QACAMAIQACCMAAQACCMAAQDCCEAAgDACEAAgjAAEAAgjAAEAwghAAIAwAhAAIIwABAAIIwABAMII\\\n",
       "QACAMAIQACCMAAQACCMAAQDCCEAAgDACEAAgjAAEAAgjAAEAwghAAIAwAhAAIIwABAAIIwABAMII\\\n",
       "QACAMAIQACCMAAQACCMAAQDCCEAAgDACEAAgjAAEAAgjAAEAwghAAIAwAhAAIIwABAAIIwABAMII\\\n",
       "QACAMAIQACCMAAQACCMAAQDCCEAAgDACEAAgjAAEAAgjAAEAwghAAGCP1KNHj/94zJ49u7uH+LfV\\\n",
       "u7sHAADQFV9//XXnz4sXL6677rqr1q5d2/ncfvvt1/lzR0dH7dy5s3r3lj4NM4BdsHnz5po0aVJ7\\\n",
       "YR166KE1d+7cmjhxYk2dOrW7hwYAMYYMGdJ57L///u2s32+P16xZUwMGDKjXXnutxo0bV3379q0V\\\n",
       "K1bUlClT6oILLtjtfZrP7+Zz/De7du2qOXPm1OGHH179+vWr0aNH15IlS2pvIoO74Lbbbqvly5fX\\\n",
       "0qVL65BDDqk777yzPvjggxozZkx3Dw0A+J0ZM2bUgw8+WEcccUQdcMAB/9PvzJkzpxYtWlTz58+v\\\n",
       "kSNH1ptvvllXXHFFDR48uCZMmFB7AwH4F23atKmefPLJ9sI444wz2ucWLlxYQ4cO7e6hAQD/4p57\\\n",
       "7qmzzjrrfz5/27Ztdd9999WyZctq/Pjx7XNNPDazhwsWLBCAqdavX1/bt2+vE088sfO5Aw88sI46\\\n",
       "6qhuHRcA8EfHH3/8Xzp/3bp1tWXLlj9EY/PZf9xxx9XeQgACAHut/v377/a4Z8+e7YaQ39uxY8du\\\n",
       "K32NV199tQ477LDdzmvuI9xb2ATyFw0fPrz69OlTq1at6nzuhx9+qM8//7xbxwUA/HfNfXxf/273\\\n",
       "cGP16tWdP48aNaoNvY0bN9aIESN2O4YNG1Z7CzOAf1Gz8/eqq65qN4IcdNBB7SaQmTNntv9RAAB/\\\n",
       "b6effno98MAD9cwzz7T3+DX39H/yySedy7vNzuFbb721pk2b1u4GPvnkk+unn36qlStX1sCBA2vy\\\n",
       "5Mm1NxCAXdBcOM0U8fnnn99eKLfcckt7cQAAf29nn312zZo1q6ZPn15bt26tK6+8sv1qt48//rjz\\\n",
       "nHvvvbedKWx2A2/YsKEGDRpUY8eObb/1Y2/Ro+NfF8Lpkub7g5qvgZk3b153DwUA4D+ybgkAEEYA\\\n",
       "AgCEsQQMABDGDCAAQBgBCAAQRgACAIQRgAAAYQQgAEAYAQgAEEYAAgCEEYAAAGEEIABAGAEIABBG\\\n",
       "AAIAhBGAAABhBCAAQBgBCAAQRgACAIQRgAAAYQQgAEAYAQgAEEYAAgCEEYAAAGEEIABAGAEIABBG\\\n",
       "AAIAhBGAAABhBCAAQBgBCAAQRgACAIQRgAAAYQQgAEAYAQgAEEYAAgCEEYAAAGEEIABAGAEIABBG\\\n",
       "AAIAhBGAAABhBCAAQBgBCAAQRgACAIQRgAAAYQQgAEAYAQgAEEYAAgCEEYAAAGEEIABAGAEIABBG\\\n",
       "AAIAhBGAAABhBCAAQBgBCAAQRgACAIQRgAAAYQQgAEAYAQgAEEYAAgCEEYAAAGEEIABAGAEIABBG\\\n",
       "AAIAhBGAAABhBCAAQBgBCAAQRgACAIQRgAAAYQQgAEAYAQgAEEYAAgCEEYAAAGEEIABAGAEIABBG\\\n",
       "AAIAhBGAAABhBCAAQBgBCAAQRgACAIQRgAAAYQQgAEAYAQgAEEYAAgCEEYAAAGEEIABAGAEIABBG\\\n",
       "AAIAhBGAAABhBCAAQBgBCAAQRgACAIQRgAAAYQQgAEAYAQgAEEYAAgCEEYAAAGEEIABAGAEIABBG\\\n",
       "AAIAhBGAAABhBCAAQBgBCAAQRgACAIQRgAAAYQQgAEAYAQgAEEYAAgCEEYAAAGEEIABAGAEIABBG\\\n",
       "AAIAhBGAAABhBCAAQBgBCAAQRgACAIQRgAAAYQQgAEAYAQgAEEYAAgCEEYAAAGEEIABAGAEIABBG\\\n",
       "AAIAhBGAAABhBCAAQBgBCAAQRgACAIQRgAAAYQQgAEAYAQgAEEYAAgCEEYAAAGEEIABAGAEIABBG\\\n",
       "AAIAhBGAAABhBCAAQBgBCAAQRgACAIQRgAAAYQQgAEAYAQgAEEYAAgCEEYAAAGEEIABAGAEIABBG\\\n",
       "AAIAhBGAAABhBCAAQBgBCAAQRgACAIQRgAAAYQQgAEAYAQgAEEYAAgCEEYAAAGEEIABAGAEIABBG\\\n",
       "AAIAhBGAAABhBCAAQBgBCAAQRgACAIQRgAAAYQQgAEAYAQgAEEYAAgCEEYAAAGEEIABAGAEIABBG\\\n",
       "AAIAhBGAAABhBCAAQBgBCAAQRgACAIQRgAAAYQQgAEAYAQgAEEYAAgCEEYAAAGEEIABAGAEIABBG\\\n",
       "AAIAhBGAAABhBCAAQBgBCAAQRgACAIQRgAAAYQQgAEAYAQgAEEYAAgCEEYAAAGEEIABAGAEIABBG\\\n",
       "AAIAhBGAAABhBCAAQBgBCAAQRgACAIQRgAAAYQQgAEAYAQgAEEYAAgCEEYAAAGEEIABAGAEIABBG\\\n",
       "AAIAhBGAAABhBCAAQBgBCAAQRgACAIQRgAAAYQQgAEAYAQgAEEYAAgCEEYAAAGEEIABAGAEIABBG\\\n",
       "AAIAhBGAAABhBCAAQBgBCAAQRgACAIQRgAAAYQQgAEAYAQgAEEYAAgCEEYAAAGEEIABAGAEIABBG\\\n",
       "AAIAhBGAAABhBCAAQBgBCAAQRgACAIQRgAAAYQQgAEAYAQgAEEYAAgCEEYAAAGEEIABAGAEIABBG\\\n",
       "AAIAhBGAAABhBCAAQBgBCAAQRgACAIQRgAAAYQQgAEAYAQgAEEYAAgCEEYAAAGEEIABAGAEIABBG\\\n",
       "AAIAhBGAAABhBCAAQBgBCAAQRgACAIQRgAAAYQQgAEAYAQgAEEYAAgCEEYAAAGEEIABAGAEIABBG\\\n",
       "AAIAhBGAAABhBCAAQBgBCAAQRgACAIQRgAAAYQQgAEAYAQgAEEYAAgCEEYAAAGEEIABAGAEIABBG\\\n",
       "AAIAhBGAAABhBCAAQBgBCAAQRgACAIQRgAAAYQQgAEAYAQgAEEYAAgCEEYAAAGEEIABAGAEIABBG\\\n",
       "AAIAhBGAAABhBCAAQBgBCAAQRgACAIQRgAAAYQQgAEAYAQgAEEYAAgCEEYAAAGEEIABAGAEIABBG\\\n",
       "AAIAhBGAAABhBCAAQBgBCAAQRgACAIQRgAAAYQQgAEAYAQgAEEYAAgCEEYAAAGEEIABAGAEIABBG\\\n",
       "AAIAhBGAAABhBCAAQBgBCAAQRgACAIQRgAAAYQQgAEAYAQgAEEYAAgCEEYAAAGEEIABAGAEIABBG\\\n",
       "AAIAhBGAAABhBCAAQBgBCAAQRgACAIQRgAAAYQQgAEAYAQgAEEYAAgCEEYAAAGEEIABAGAEIABBG\\\n",
       "AAIAhBGAAABhBCAAQBgBCAAQRgACAIQRgAAAYQQgAEAYAQgAEEYAAgCEEYAAAGEEIABAGAEIABBG\\\n",
       "AAIAhBGAAABhBCAAQBgBCAAQRgACAIQRgAAAYQQgAEAYAQgAEEYAAgAxnn766Ro0aFClE4AAwB5n\\\n",
       "ypQp1aNHjz8c69at6+6h7RF6d/cAAAC64pxzzqmnnnpqt+cGDx7cbePZk5gB7IKJEyfWDTfc0B77\\\n",
       "779/HXzwwTVr1qzq6Ojo7qEBQIy+ffvWkCFDdjsefvjhOuaYY6p///41bNiwuv7662vTpk1/+h4f\\\n",
       "fvhhnXbaaTVgwIAaOHBgjRs3rt57773O11esWFGnnHJK9evXr32/G2+8sTZv3lx7OgHYRQsXLqze\\\n",
       "vXvXO++8015sDz30UD3xxBPdPSwAiNazZ8965JFH6tNPP20/q19//fWaPn36n55/+eWX19ChQ+vd\\\n",
       "d9+t999/v2bMmFF9+vRpX1u/fn07y3jxxRfXRx99VIsXL26DsJkA2tP16DBt1aUZwG+//ba9uJr7\\\n",
       "DRrNBfPKK6/UZ5991t3DA4CIewAXLVpU++yzT+dz5557br344ou7nbdkyZK67rrr6rvvvuvcBDJ1\\\n",
       "6tT68ccf28fNrN+jjz5akydP/sPfuPrqq6tXr161YMGCzueaAJwwYUI7C/j7v72ncQ9gF5100kmd\\\n",
       "8dcYP358zZ07t3bu3NleLADA/61m6fbxxx/vfNws+y5btqzmzJlTa9asqZ9//rl+/fXX2rp1a23Z\\\n",
       "sqX23XffP7zHzTff3Ibes88+W2eeeWZdcsklNXz48M7l4Wbm77nnnus8v5k327VrV3355Zd19NFH\\\n",
       "157KEjAAsEdqgm/EiBGdx7Zt2+of//hHHXvssfXSSy+1S7qPPfZYe+727dv/7XvMnj27XdE777zz\\\n",
       "2uXiUaNG1csvv9y+1tw7eO2119bq1as7jyYKv/jii85I3FOZAeyiVatW7fb47bffrpEjR5r9A4Bu\\\n",
       "0gRfMzvXrMg19wI2Xnjhhf/6e0ceeWR7TJs2rS677LJ2Z/GFF15YY8eObW/tauJyb2MGsIs2btzY\\\n",
       "ThuvXbu2nn/++fb+gZtuuqm7hwUAsZpQ27FjR/uZvGHDhnZZd/78+X96/i+//NJu6HjjjTfqq6++\\\n",
       "qpUrV7abQX5b2r399tvrrbfeas9pZv+amb+lS5fuFZtAzAB20aRJk9oL54QTTmhn/Zr4u+aaa7p7\\\n",
       "WAAQa/To0e23ctx///11xx131KmnntreD9h8Zv87vXr1qu+//759/Ztvvmm/1u2iiy6qu+++u329\\\n",
       "WUpevnx5zZw5s/0qmOb+v2bp99JLL609nV3AXdwFPGbMmJo3b153DwUA4C+zBAwAEEYAAgCEsQQM\\\n",
       "ABDGDCAAQBgBCAAQRgACAIQRgAAAYQQgAEAYAQgAEEYAAgCEEYAAAGEEIABAGAEIABBGAAIAhBGA\\\n",
       "AABhBCAAQBgBCAAQRgACAIQRgAAAYQQgAEAYAQgAEEYAAgCEEYAAAGEEIABAGAEIABBGAAIAhBGA\\\n",
       "AABhBCAAQBgBCAAQRgACAIQRgAAAYQQgAEAYAQgAEEYAAgCEEYAAAGEEIABAGAEIABBGAAIAhBGA\\\n",
       "AABhBCAAQBgBCAAQRgACAIQRgAAAYQQgAEAYAQgAEEYAAgCEEYAAAGEEIABAZfkn0ocn58ULTSIA\\\n",
       "AAAASUVORK5CYII=\\\n",
       "\"\n",
       "  frames[2] = \"data:image/png;base64,iVBORw0KGgoAAAANSUhEUgAAAoAAAAHgCAYAAAA10dzkAAAAOnRFWHRTb2Z0d2FyZQBNYXRwbG90\\\n",
       "bGliIHZlcnNpb24zLjEwLjAsIGh0dHBzOi8vbWF0cGxvdGxpYi5vcmcvlHJYcgAAAAlwSFlzAAAP\\\n",
       "YQAAD2EBqD+naQAAD0ZJREFUeJzt3FuoVWW/x/G/mph5yErBKIWOklCaRgeotCgqKuhARBQqWRoh\\\n",
       "pVZmRWEFSZhlSaRXZdmFZUQXEYREhUaWiZWFlRl1E0EnwzyW62WMvV1sqfZ+lc271N/nAwPnHGus\\\n",
       "uQY4YX7n84xndOvo6OgoAABidO/qEwAA4D9LAAIAhBGAAABhBCAAQBgBCAAQRgACAIQRgAAAYQQg\\\n",
       "AEAYAQgAEEYAAgCEEYAAAGEEIABAGAEIABBGAAIAhBGAAABhBCAAQBgBCAAQRgACAIQRgAAAYQQg\\\n",
       "AEAYAQgAEEYAAgCEEYAAAGEEIABAGAEIABBGAAIAhBGAAABhBCAAQBgBCAAQRgACAIQRgAAAYQQg\\\n",
       "AEAYAQgAEEYAAgCEEYAAAGEEIABAGAEIABBGAAIAhBGAAABhBCAAQBgBCAAQRgACAIQRgAAAYQQg\\\n",
       "AEAYAQgAEEYAAgCEEYAAAGEEIABAGAEIABBGAAIAhBGAAECM5557rgYMGFDpBCAAsN+ZMGFCdevW\\\n",
       "7S/b+vXru/rU9gsHdfUJAADsjYsvvrieffbZ3fYNGjSoy85nf2IEcC/8/vvvNW7cuOrbt28deeSR\\\n",
       "NXfu3Bo7dmxNnTq1q08NAGL06tWrBg8evNv25JNP1sknn1x9+vSpIUOG1K233lqbNm36x9f4+OOP\\\n",
       "67zzzqt+/fpV//79a/To0bVq1arOny9fvrzOOeec6t27d/t6t912W9sB+zsBuBfuuuuueuedd+q1\\\n",
       "116rN998s95+++1avXp1V58WAMTr3r17PfXUU/XZZ5/VokWL6q233qoZM2b84/HXX399HX300fXh\\\n",
       "hx/WRx99VDNnzqyePXu2P/v666/bUcarr766Pvnkk1qyZEkbhFOmTKn9XbeOjo6Orj6J/UnzLeKI\\\n",
       "I46oxYsX1zXXXNPu+/nnn9s3z6RJk2revHldfYoAEHENYPNZfPDBB3fuu+SSS+rll1/e7bilS5fW\\\n",
       "LbfcUj/++GPnIpCpU6fWr7/+2j5vRv3mz59f48eP/8vfuOmmm6pHjx61cOHCzn1NAI4ZM6YdBfyf\\\n",
       "f3t/4xrAPdR8G9i+fXudccYZnfsOP/zwGjZsWJeeFwCkaaZun3nmmc7nzbTvsmXLavbs2bVu3br6\\\n",
       "7bff6o8//qitW7fW5s2b65BDDvnLa0yfPr0NvRdeeKEuuOCCdnDnuOOO65webkb+Xnzxxc7jm3Gz\\\n",
       "nTt31jfffFMnnXRS7a9MAQMA+6Um+I4//vjObdu2bXXZZZfVKaecUq+88ko7pfv000+3xzaDN39n\\\n",
       "1qxZ7XTxpZde2k4XDx8+vF599dXOWb/JkyfXmjVrOrcmCr/66qvOSNxfGQHcQ81/eHNtwMqVK2vo\\\n",
       "0KHtvl9++aW+/PLLdkgYAOgaTfA1o3PN4szmWsDGSy+99H/+3oknnthu06ZNq+uuu65dWXzllVfW\\\n",
       "qFGj6vPPP2/j8kBjBHAPNSt/J06c2C4Eab4prF27tr0OYdcbDQDoGk2o7dixo72mb8OGDe207oIF\\\n",
       "C/7x+C1btrQLOprFnN9++22tWLGiXQyya2r37rvvrvfee689phn9a0b+mgWgB8IiECOAe2HOnDnt\\\n",
       "sPDll1/eLhu/4447auPGjV19WgAQbcSIEfX444/Xo48+Wvfcc0+de+657fWAza3b/k6PHj3qp59+\\\n",
       "an/+ww8/1MCBA+uqq66qBx98sP15M5Xc3PXjvvvua28F01z/18wEXnvttbW/swr4/0lzH8CRI0da\\\n",
       "BQwA7PPMWwIAhBGAAABhTAEDAIQxAggAEEYAAgCEEYAAAGEEIABAGAEIABBGAAIAhBGAAABhBCAA\\\n",
       "QBgBCAAQRgACAIQRgAAAYQQgAEAYAQgAEEYAAgCEEYAAAGEEIABAGAEIABBGAAIAhBGAAABhBCAA\\\n",
       "QBgBCAAQRgACAIQRgAAAYQQgAEAYAQgAEEYAAgCEEYAAAGEEIABAGAEIABBGAAIAhBGAAABhBCAA\\\n",
       "QBgBCAAQRgACAIQRgAAAYQQgAEAYAQgAEEYAAgCEEYAAAGEEIABAGAEIABBGAAIAhBGAAABhBCAA\\\n",
       "QBgBCAAQRgACAIQRgAAAYQQgAEAYAQgAEEYAAgCEEYAAAGEEIABAGAEIABBGAAIAhBGAAABhBCAA\\\n",
       "QBgBCAAQRgACAIQRgAAAYQQgAEAYAQgAEEYAAgCEEYAAAGEEIABAGAEIABBGAAIAhBGAAABhBCAA\\\n",
       "QBgBCAAQRgACAIQRgAAAYQQgAEAYAQgAEEYAAgCEEYAAAGEEIABAGAEIABBGAAIAhBGAAABhBCAA\\\n",
       "QBgBCAAQRgACAIQRgAAAYQQgAEAYAQgAEEYAAgCEEYAAAGEEIABAGAEIABBGAAIAhBGAAABhBCAA\\\n",
       "QBgBCAAQRgACAIQRgAAAYQQgAEAYAQgAEEYAAgCEEYAAAGEEIABAGAEIABBGAAIAhBGAAABhBCAA\\\n",
       "QBgBCAAQRgACAIQRgAAAYQQgAEAYAQgAEEYAAgCEEYAAAGEEIABAGAEIABBGAAIAhBGAAABhBCAA\\\n",
       "QBgBCAAQRgACAIQRgAAAYQQgAEAYAQgAEEYAAgCEEYAAAGEEIABAGAEIABBGAAIAhBGAAABhBCAA\\\n",
       "QBgBCAAQRgACAIQRgAAAYQQgAEAYAQgAEEYAAgCEEYAAAGEEIABAGAEIABBGAAIAhBGAAABhBCAA\\\n",
       "QBgBCAAQRgACAIQRgAAAYQQgAEAYAQgAEEYAAgCEEYAAAGEEIABAGAEIABBGAAIAhBGAAABhBCAA\\\n",
       "QBgBCAAQRgACAIQRgAAAYQQgAEAYAQgAEEYAAgCEEYAAAGEEIABAGAEIABBGAAIAhBGAAABhBCAA\\\n",
       "QBgBCAAQRgACAIQRgAAAYQQgAEAYAQgAEEYAAgCEEYAAAGEEIABAGAEIABBGAAIAhBGAAABhBCAA\\\n",
       "QBgBCAAQRgACAIQRgAAAYQQgAEAYAQgAEEYAAgCEEYAAAGEEIABAGAEIABBGAAIAhBGAAABhBCAA\\\n",
       "QBgBCAAQRgACAIQRgAAAYQQgAEAYAQgAEEYAAgCEEYAAAGEEIABAGAEIABBGAAIAhBGAAABhBCAA\\\n",
       "QBgBCAAQRgACAIQRgAAAYQQgAEAYAQgAEEYAAgCEEYAAAGEEIABAGAEIABBGAAIAhBGAAABhBCAA\\\n",
       "QBgBCAAQRgACAIQRgAAAYQQgAEAYAQgAEEYAAgCEEYAAAGEEIABAGAEIABBGAAIAhBGAAABhBCAA\\\n",
       "QBgBCAAQRgACAIQRgAAAYQQgAEAYAQgAEEYAAgCEEYAAAGEEIABAGAEIABBGAAIAhBGAAABhBCAA\\\n",
       "QBgBCAAQRgACAIQRgAAAYQQgAEAYAQgAEEYAAgCEEYAAAGEEIABAGAEIABBGAAIAhBGAAABhBCAA\\\n",
       "QBgBCAAQRgACAIQRgAAAYQQgAEAYAQgAEEYAAgCEEYAAAGEEIABAGAEIABBGAAIAhBGAAABhBCAA\\\n",
       "QBgBCAAQRgACAIQRgAAAYQQgAEAYAQgAEEYAAgCEEYAAAGEEIABAGAEIABBGAAIAhBGAAABhBCAA\\\n",
       "QBgBCAAQRgACAIQRgAAAYQQgAEAYAQgAEEYAAgCEEYAAAGEEIABAGAEIABBGAAIAhBGAAABhBCAA\\\n",
       "QBgBCAAQRgACAIQRgAAAYQQgAEAYAQgAEEYAAgCEEYAAAGEEIABAGAEIABBGAAIAhBGAAABhBCAA\\\n",
       "QBgBCAAQRgACAIQRgAAAYQQgAEAYAQgAEEYAAgCEEYAAAGEEIABAGAEIABBGAAIAhBGAAABhBCAA\\\n",
       "QBgBCAAQRgACAIQRgAAAYQQgAEAYAQgAEEYAAgCEEYAAAGEEIABAGAEIABBGAAIAhBGAAABhBCAA\\\n",
       "QBgBCAAQRgACAIQRgAAAYQQgAEAYAQgAEEYAAgCEEYAAAGEEIABAGAEIABBGAAIAhBGAAABhBCAA\\\n",
       "QBgBCAAQRgACAIQRgAAAYQQgAEAYAQgAEEYAAgCEEYAAAGEEIABAGAEIABBGAAIAhBGAAABhBCAA\\\n",
       "QBgBCAAQRgACAIQRgAAAYQQgAEAYAQgAEEYAAgCEEYAAAGEEIABAGAEIABBGAAIAhBGAAABhBCAA\\\n",
       "sF/q1q3b/7rNmjWrq09xn3VQV58AAMDe+P777zsfL1mypB544IH64osvOvf17du383FHR0f9+eef\\\n",
       "ddBB0qdhBHAvjB07tqZMmdJuhx56aA0cOLDuv//+9s0FAPxnDB48uHNrPo+bUb9dz9etW1f9+vWr\\\n",
       "N954o0aPHl29evWq5cuX14QJE+qKK67Y7XWmTp3afrbvsnPnzpo9e3Ydc8wx1bt37xoxYkQtXbq0\\\n",
       "DiQyeC8tWrSoJk6cWB988EGtWrWqJk2aVEOHDq2bb765q08NAPhvM2fOrMcee6yOPfbYOuyww/6t\\\n",
       "35k9e3YtXry4FixYUCeccEK9++67dcMNN9SgQYNqzJgxdSAQgHtpyJAh9cQTT7TfNoYNG1affvpp\\\n",
       "+1wAAsC+46GHHqoLL7zw3z5+27Zt9cgjj9SyZcvqrLPOavc18diMHi5cuFAApjvzzDPb+NuleZPM\\\n",
       "nTu3vb6gR48eXXpuAMB/Oe200/bo+PXr19fmzZv/Eo3bt2+vU089tQ4UAhAAOGD16dNnt+fdu3f/\\\n",
       "yzX7O3bs6Hy8adOm9t/XX3+9jjrqqN2Oa64jPFAIwL20cuXK3Z6///777XUCRv8AYN/VXMe3du3a\\\n",
       "3fatWbOmevbs2T4ePnx4G3rffffdATPd+3cE4F5q3hjTp0+vyZMn1+rVq2v+/PntFDAAsO86//zz\\\n",
       "a86cOfX888+3l281iz2aINw1vdusHL7zzjtr2rRp7Wrgs88+uzZu3FgrVqyo/v371/jx4+tAIAD3\\\n",
       "0rhx42rLli11+umnt6N+t99+e7sSGADYd1100UXtrdtmzJhRW7durRtvvLH9TG8Wc+7y8MMPtyOF\\\n",
       "zWrgDRs21IABA2rUqFF177331oGiW4eb1+2x5l5BI0eOrHnz5nX1qQAA7DE3ggYACCMAAQDCmAIG\\\n",
       "AAhjBBAAIIwABAAIIwABAMIIQACAMAIQACCMAAQACCMAAQDCCEAAgDACEAAgjAAEAAgjAAEAwghA\\\n",
       "AIAwAhAAIIwABAAIIwABAMIIQACAMAIQACCMAAQACCMAAQDCCEAAgDACEAAgjAAEAAgjAAEAwghA\\\n",
       "AIAwAhAAIIwABAAIIwABAMIIQACAMAIQACCMAAQACCMAAQDCCEAAgDACEAAgjAAEAAgjAAEAwghA\\\n",
       "AIAwAhAAIIwABAAIIwABAMIIQACAMAIQACCMAAQACCMAAQDCCEAAgDACEACgsvwLgKgsWtNWhucA\\\n",
       "AAAASUVORK5CYII=\\\n",
       "\"\n",
       "  frames[3] = \"data:image/png;base64,iVBORw0KGgoAAAANSUhEUgAAAoAAAAHgCAYAAAA10dzkAAAAOnRFWHRTb2Z0d2FyZQBNYXRwbG90\\\n",
       "bGliIHZlcnNpb24zLjEwLjAsIGh0dHBzOi8vbWF0cGxvdGxpYi5vcmcvlHJYcgAAAAlwSFlzAAAP\\\n",
       "YQAAD2EBqD+naQAADixJREFUeJzt3M+LV/Uex/H3TIqIvyvDMAMtEdz4k0oQFENcBf4BoqJUmyAt\\\n",
       "EzEUUXAWKgltdNFCcSO4aSFu3CQKGSGCLjTMhZtZhmDmD3Qu59w7X5q8dJ1Z9J37fT0ecJjzPZwZ\\\n",
       "PosD3+d8zvmcvqGhoaECACBGf7cHAADAP0sAAgCEEYAAAGEEIABAGAEIABBGAAIAhBGAAABhBCAA\\\n",
       "QBgBCAAQRgACAIQRgAAAYQQgAEAYAQgAEEYAAgCEEYAAAGEEIABAGAEIABBGAAIAhBGAAABhBCAA\\\n",
       "QBgBCAAQRgACAIQRgAAAYQQgAEAYAQgAEEYAAgCEEYAAAGEEIABAGAEIABBGAAIAhBGAAABhBCAA\\\n",
       "QBgBCAAQRgACAIQRgAAAYQQgAEAYAQgAEEYAAgCEEYAAAGEEIABAGAEIABBGAAIAhBGAAABhBCAA\\\n",
       "QBgBCAAQRgACAIQRgAAAYQQgAEAYAQgAEEYAAgCEEYAAAGEEIADwf6mvr+9vtwMHDnR7iOPWhG4P\\\n",
       "AABgLAYHBzv7Z8+erf3799ft27c7x6ZOndrZHxoaqmfPntWECdKnYQZwDH7//ffavHlze2G9+eab\\\n",
       "dezYsVq7dm3t2LGj20MDgBhz5szpbDNmzGhn/YY/37p1q6ZNm1YXLlyoFStW1KRJk+ry5cu1devW\\\n",
       "2rhx44i/03x/N9/jw54/f14DAwM1f/78mjx5ci1ZsqTOnTtXvUQGj8FXX31VP/zwQ33//ff1xhtv\\\n",
       "1N69e+vatWu1dOnSbg8NAPiTPXv21NGjR2vBggU1a9asl/qdgYGBOnPmTJ04caIWLlxYly5dqk2b\\\n",
       "NtXs2bNrzZo11QsE4Cg9ePCgvvvuu/bC+PDDD9tjp06dqrfeeqvbQwMA/uLgwYO1fv36lz7/8ePH\\\n",
       "dfjw4bp48WKtWrWqPdbEYzN7ePLkSQGY6tdff60nT57U+++/3zn26quv1qJFi7o6LgDgRStXrhzV\\\n",
       "+Xfu3KmHDx++EI3Nd/+yZcuqVwhAAKBnTZkyZcTn/v7+dkHInz19+nTEnb7G+fPna+7cuSPOa54j\\\n",
       "7BUWgYzSO++8UxMnTqyrV692jv3222/1yy+/dHVcAMD/1jzHN/in1cON69evd/YXL17cht69e/fq\\\n",
       "3XffHbHNmzeveoUZwFFqVv5u3769XQjy2muvtYtAvv766/Y/CgBgfFu3bl0dOXKkTp8+3T7j1zzT\\\n",
       "f/Pmzc7t3Wbl8K5du2rnzp3tauDVq1fX/fv368qVKzV9+vTasmVL9QIBOAbNhdNMEX/00UfthfLl\\\n",
       "l1+2FwcAML5t2LCh9u3bV7t3765Hjx7Vtm3b2le73bhxo3POoUOH2pnCZjXw3bt3a+bMmbV8+fL2\\\n",
       "rR+9om/orzfCGZPm/UHNa2COHz/e7aEAAPwt9y0BAMIIQACAMG4BAwCEMQMIABBGAAIAhBGAAABh\\\n",
       "BCAAQBgBCAAQRgACAIQRgAAAYQQgAEAYAQgAEEYAAgCEEYAAAGEEIABAGAEIABBGAAIAhBGAAABh\\\n",
       "BCAAQBgBCAAQRgACAIQRgAAAYQQgAEAYAQgAEEYAAgCEEYAAAGEEIABAGAEIABBGAAIAhBGAAABh\\\n",
       "BCAAQBgBCAAQRgACAIQRgAAAYQQgAEAYAQgAEEYAAgCEEYAAAGEEIABAGAEIABBGAAIAhBGAAABh\\\n",
       "BCAAQBgBCAAQRgACAIQRgAAAYQQgAEAYAQgAEEYAAgCEEYAAAGEEIABAGAEIABBGAAIAhBGAAABh\\\n",
       "BCAAQBgBCAAQRgACAIQRgAAAYQQgAEAYAQgAEEYAAgCEEYAAAGEEIABAGAEIABBGAAIAhBGAAABh\\\n",
       "BCAAQBgBCAAQRgACAIQRgAAAYQQgAEAYAQgAEEYAAgCEEYAAAGEEIABAGAEIABBGAAIAhBGAAABh\\\n",
       "BCAAQBgBCAAQRgACAIQRgAAAYQQgAEAYAQgAEEYAAgCEEYAAAGEEIABAGAEIABBGAAIAhBGAAABh\\\n",
       "BCAAQBgBCAAQRgACAIQRgAAAYQQgAEAYAQgAEEYAAgCEEYAAAGEEIABAGAEIABBGAAIAhBGAAABh\\\n",
       "BCAAQBgBCAAQRgACAIQRgAAAYQQgAEAYAQgAEEYAAgCEEYAAAGEEIABAGAEIABBGAAIAhBGAAABh\\\n",
       "BCAAQBgBCAAQRgACAIQRgAAAYQQgAEAYAQgAEEYAAgCEEYAAAGEEIABAGAEIABBGAAIAhBGAAABh\\\n",
       "BCAAQBgBCAAQRgACAIQRgAAAYQQgAEAYAQgAEEYAAgCEEYAAAGEEIABAGAEIABBGAAIAhBGAAABh\\\n",
       "BCAAQBgBCAAQRgACAIQRgAAAYQQgAEAYAQgAEEYAAgCEEYAAAGEEIABAGAEIABBGAAIAhBGAAABh\\\n",
       "BCAAQBgBCAAQRgACAIQRgAAAYQQgAEAYAQgAEEYAAgCEEYAAAGEEIABAGAEIABBGAAIAhBGAAABh\\\n",
       "BCAAQBgBCAAQRgACAIQRgAAAYQQgAEAYAQgAEEYAAgCEEYAAAGEEIABAGAEIABBGAAIAhBGAAABh\\\n",
       "BCAAQBgBCAAQRgACAIQRgAAAYQQgAEAYAQgAEEYAAgCEEYAAAGEEIABAGAEIABBGAAIAhBGAAABh\\\n",
       "BCAAQBgBCAAQRgACAIQRgAAAYQQgAEAYAQgAEEYAAgCEEYAAAGEEIABAGAEIABBGAAIAhBGAAABh\\\n",
       "BCAAQBgBCAAQRgACAIQRgAAAYQQgAEAYAQgAEEYAAgCEEYAAAGEEIABAGAEIABBGAAIAhBGAAABh\\\n",
       "BCAAQBgBCAAQRgACAIQRgAAAYQQgAEAYAQgAEEYAAgCEEYAAAGEEIABAGAEIABBGAAIAhBGAAABh\\\n",
       "BCAAQBgBCAAQRgACAIQRgAAAYQQgAEAYAQgAEEYAAgCEEYAAAGEEIABAGAEIABBGAAIAhBGAAABh\\\n",
       "BCAAQBgBCAAQRgACAIQRgAAAYQQgAEAYAQgAEEYAAgCEEYAAAGEEIABAGAEIABBGAAIAhBGAAABh\\\n",
       "BCAAQBgBCAAQRgACAIQRgAAAYQQgAEAYAQgAEEYAAgCEEYAAAGEEIABAGAEIABBGAAIAhBGAAABh\\\n",
       "BCAAQBgBCAAQRgACAIQRgAAAYQQgAEAYAQgAEEYAAgCEEYAAAGEEIABAGAEIABBGAAIAhBGAAABh\\\n",
       "BCAAQBgBCAAQRgACAIQRgAAAYQQgAEAYAQgAEEYAAgCEEYAAAGEEIABAGAEIABBGAAIAhBGAAABh\\\n",
       "BCAAQBgBCAAQRgACAIQRgAAAYQQgAEAYAQgAEEYAAgCEEYAAAGEEIABAGAEIABBGAAIAhBGAAABh\\\n",
       "BCAAQBgBCAAQRgACAIQRgAAAYQQgAEAYAQgAEEYAAgCEEYAAAGEEIABAGAEIABBGAAIAhBGAAABh\\\n",
       "BCAAQBgBCAAQRgACAIQRgAAAYQQgAEAYAQgAEEYAAgCEEYAAAGEEIABAGAEIABBGAAIAhBGAAABh\\\n",
       "BCAAQBgBCAAQRgACAIQRgAAAYQQgAEAYAQgAEEYAAgCEEYAAAGEEIABAGAEIABBGAAIAhBGAAABh\\\n",
       "BCAAQBgBCAAQRgACAIQRgAAAYQQgAEAYAQgAEEYAAgCEEYAAAGEEIABAGAEIABBGAAIAhBGAAABh\\\n",
       "BCAAQBgBCAAQRgACAIQRgAAAYQQgAEAYAQgAEEYAAgCEEYAAAGEEIABAGAEIABBGAAIAhBGAAABh\\\n",
       "BCAAQBgBCAAQRgACAIQRgAAAYQQgAPB/qa+v72+3AwcOdHuI49aEbg8AAGAsBgcHO/tnz56t/fv3\\\n",
       "1+3btzvHpk6d2tkfGhqqZ8+e1YQJ0qdhBnAM1q5dW5999lm7zZgxo15//fXat29fe3EBAP+MOXPm\\\n",
       "dLbm+7iZ9Rv+fOvWrZo2bVpduHChVqxYUZMmTarLly/X1q1ba+PGjSP+zo4dO9rv9mHPnz+vgYGB\\\n",
       "mj9/fk2ePLmWLFlS586dq14ig8fo1KlTtX379vrpp5/q559/rk8++aTefvvt+vjjj7s9NADgP/bs\\\n",
       "2VNHjx6tBQsW1KxZs17qdwYGBurMmTN14sSJWrhwYV26dKk2bdpUs2fPrjVr1lQvEIBjNG/evPrm\\\n",
       "m2/a/zYWLVpUN27caD8LQAAYPw4ePFjr169/6fMfP35chw8frosXL9aqVavaY008NrOHJ0+eFIDp\\\n",
       "Pvjggzb+hjUXybFjx9rnC1555ZWujg0A+LeVK1eO6vw7d+7Uw4cPX4jGJ0+e1LJly6pXCEAAoGdN\\\n",
       "mTJlxOf+/v4Xntl/+vRpZ//Bgwftz/Pnz9fcuXNHnNc8R9grBOAYXb16dcTnH3/8sX1OwOwfAIxf\\\n",
       "zXN8N2/eHHHs+vXrNXHixHZ/8eLFbejdu3evZ273/jcCcIyaC+OLL76oTz/9tK5du1bffvttewsY\\\n",
       "ABi/1q1bV0eOHKnTp0+3j281iz2aIBy+vdusHN61a1ft3LmzXQ28evXqun//fl25cqWmT59eW7Zs\\\n",
       "qV4gAMdo8+bN9ccff9R7773Xzvp9/vnn7UpgAGD82rBhQ/vqtt27d9ejR49q27Zt7Xd6s5hz2KFD\\\n",
       "h9qZwmY18N27d2vmzJm1fPny2rt3b/WKviEvrxu15l1BS5curePHj3d7KAAAo+ZF0AAAYQQgAEAY\\\n",
       "t4ABAMKYAQQACCMAAQDCCEAAgDACEAAgjAAEAAgjAAEAwghAAIAwAhAAIIwABAAIIwABAMIIQACA\\\n",
       "MAIQACCMAAQACCMAAQDCCEAAgDACEAAgjAAEAAgjAAEAwghAAIAwAhAAIIwABAAIIwABAMIIQACA\\\n",
       "MAIQACCMAAQACCMAAQDCCEAAgDACEAAgjAAEAAgjAAEAwghAAIAwAhAAIIwABAAIIwABAMIIQACA\\\n",
       "MAIQACCMAAQACCMAAQDCCEAAgDACEAAgjAAEAAgjAAEAwghAAIAwAhAAIIwABACoLP8CiBCns4uk\\\n",
       "cOwAAAAASUVORK5CYII=\\\n",
       "\"\n",
       "\n",
       "\n",
       "    /* set a timeout to make sure all the above elements are created before\n",
       "       the object is initialized. */\n",
       "    setTimeout(function() {\n",
       "        anima17923690d5f4c4785fa069c408163aa = new Animation(frames, img_id, slider_id, 1000.0,\n",
       "                                 loop_select_id);\n",
       "    }, 0);\n",
       "  })()\n",
       "</script>\n"
      ],
      "text/plain": [
       "<IPython.core.display.HTML object>"
      ]
     },
     "execution_count": 18,
     "metadata": {},
     "output_type": "execute_result"
    },
    {
     "data": {
      "image/png": "[encoded data removed]",
      "text/plain": [
       "<Figure size 640x480 with 1 Axes>"
      ]
     },
     "metadata": {},
     "output_type": "display_data"
    }
   ],
   "source": [
    "import matplotlib.pyplot as plt \n",
    "from matplotlib.animation import FuncAnimation\n",
    "from IPython.display import HTML\n",
    "\n",
    "fig, ax = plt.subplots()\n",
    "ax.axis('off')\n",
    "celdas = [ax.text(i, j, '', ha='center', va='center') for i in range(3) for j in range(3)]\n",
    "\n",
    "def init():\n",
    "    for txt in celdas:\n",
    "        txt.set_text('')\n",
    "    return celdas\n",
    "\n",
    "def animate(frame):\n",
    "    valores = [(p, q, p and q) for p in [False, True] for q in [False, True]][frame]\n",
    "    textos = ['p', 'q', 'p ∧ q'] + list(valores)\n",
    "    for i, txt in enumerate(textos):\n",
    "        celdas[i].set_text(str(txt))\n",
    "    return celdas\n",
    "\n",
    "ani = FuncAnimation(fig, animate, frames=4, init_func=init, interval=1000)\n",
    "HTML(ani.to_jshtml())\n",
    "\n"
   ]
  },
  {
   "cell_type": "markdown",
   "id": "81e0501a",
   "metadata": {},
   "source": [
    "\n",
    "---\n",
    "\n",
    "**8. Evaluación**  \n",
    "**Proyectos STEAM:**  \n",
    "1. **Ciencias:** Modelar el comportamiento de un ecosistema con reglas lógicas.  \n",
    "2. **Tecnología:** Simular compuertas AND/OR con circuitos en Python.  \n",
    "3. **Arte:** Crear una escultura digital que cambie con combinaciones lógicas.  \n"
   ]
  },
  {
   "cell_type": "markdown",
   "id": "19e4500d",
   "metadata": {},
   "source": [
    "\n",
    "**Quiz ejemplo:**  \n"
   ]
  },
  {
   "cell_type": "code",
   "execution_count": 20,
   "id": "5dde4c29",
   "metadata": {},
   "outputs": [
    {
     "data": {
      "text/plain": [
       "[{'pregunta': '¿Qué valor tiene ¬(V ∧ F)?',\n",
       "  'opciones': ['V', 'F'],\n",
       "  'respuesta': 0},\n",
       " {'pregunta': 'Si p=V y q=F, ¿p → q es...?',\n",
       "  'opciones': ['V', 'F'],\n",
       "  'respuesta': 1}]"
      ]
     },
     "execution_count": 20,
     "metadata": {},
     "output_type": "execute_result"
    }
   ],
   "source": [
    "\n",
    "preguntas = [\n",
    "    {\"pregunta\": \"¿Qué valor tiene ¬(V ∧ F)?\", \"opciones\": [\"V\", \"F\"], \"respuesta\": 0},\n",
    "    {\"pregunta\": \"Si p=V y q=F, ¿p → q es...?\", \"opciones\": [\"V\", \"F\"], \"respuesta\": 1}\n",
    "]\n",
    "preguntas \n"
   ]
  },
  {
   "cell_type": "markdown",
   "id": "de6aa212",
   "metadata": {},
   "source": [
    "\n",
    "**Examen parcial:**  \n",
    "*Demuestre con una tabla de verdad que $(p \\rightarrow q) \\equiv (\\neg p \\lor q)$.*  \n",
    "\n",
    "---\n"
   ]
  },
  {
   "cell_type": "markdown",
   "id": "f0f9a65e",
   "metadata": {},
   "source": [
    "\n",
    "**9. Tarea**  \n",
    "**Ejercicio 1:**  \n",
    "Crea una función en Python que genere tablas de verdad para proposiciones con 3 variables (p, q, r).  \n",
    "\n",
    "**Ejercicio 2:**  \n",
    "Resuelve y visualiza la tabla de verdad para $\\neg(p \\lor q) \\rightarrow (\\neg p \\land \\neg q)$.  \n",
    "\n",
    "---\n"
   ]
  },
  {
   "cell_type": "markdown",
   "id": "e2354cb5",
   "metadata": {},
   "source": [
    "\n",
    "**10. Retroalimentación**  \n",
    "**Actividad \"Debuggeando Lógica\":**  \n",
    "- Los estudiantes intercambian notebooks y encuentran errores en tablas de verdad ajenas usando `sympy.satisfiable`.  \n",
    "- Uso de `ipywidgets` para crear un juego de \"Adivina el conector\" con feedback instantáneo.  \n",
    "\n",
    "---\n"
   ]
  },
  {
   "cell_type": "markdown",
   "id": "649ff820",
   "metadata": {},
   "source": [
    "\n",
    "**11. Vocabulario en inglés**  \n",
    "- **Truth value**: Valor de verdad (V/F).  \n",
    "- **Logical connective**: Conector lógico.  \n",
    "- **Tautology**: Tautología ($\\equiv V$).  \n",
    "- **Contradiction**: Contradicción ($\\equiv F$).  \n",
    "- *Phrase*: \"The truth table **shows** all possible combinations: `La tabla de verdad muestra todas las combinaciones posibles`.\""
   ]
  },
  {
   "cell_type": "markdown",
   "id": "008a714b",
   "metadata": {},
   "source": [
    "[Video de presentación de la estructura de esta clase](https://www.youtube.com/watch?v=lFTMGcveYso)"
   ]
  },
  {
   "cell_type": "markdown",
   "id": "ec7ea943",
   "metadata": {},
   "source": [
    "**1. Título de la clase**  \n",
    "**\"STEAM-Powered Truth Tables: Coding Logic with Python\"**  \n",
    "\n",
    "---\n"
   ]
  },
  {
   "cell_type": "markdown",
   "id": "dabf68f4",
   "metadata": {},
   "source": [
    "\n",
    "**2. Objetivo de aprendizaje e indicadores de logro**  \n",
    "**Objetivo:**  \n",
    "*Diseñar e implementar tablas de verdad en Python utilizando herramientas STEAM, resolviendo problemas lógicos mediante ABPP.*  \n",
    "\n",
    "**Indicadores de logro:**  \n",
    "- Crea funciones en Python para generar tablas de verdad con `numpy` y `sympy`.  \n",
    "- Analiza proposiciones compuestas usando conectores lógicos ($\\land, \\lor, \\neg, \\rightarrow$).  \n",
    "- Diseña visualizaciones interactivas con `ipywidgets` y animaciones con `matplotlib.animation`.  \n",
    "- Aplica tablas de verdad en proyectos interdisciplinares (ej: circuitos electrónicos, ética en IA).  \n",
    "\n",
    "---\n"
   ]
  },
  {
   "cell_type": "markdown",
   "id": "5dc1c9cf",
   "metadata": {},
   "source": [
    "\n",
    "**3. Mapa conceptual**  \n"
   ]
  },
  {
   "cell_type": "code",
   "execution_count": 21,
   "id": "f9af9e45",
   "metadata": {},
   "outputs": [
    {
     "data": {
      "text/plain": [
       "'C:\\\\Users\\\\marco\\\\Descargas\\\\mapa_tablas_verdad.gv.png'"
      ]
     },
     "execution_count": 21,
     "metadata": {},
     "output_type": "execute_result"
    }
   ],
   "source": [
    "# Instala graphviz si es necesario: !pip install graphviz\n",
    "from graphviz import Digraph\n",
    "\n",
    "dot = Digraph(comment='Tablas de Verdad', format='png')\n",
    "dot.attr('node', shape='box', style='filled', fillcolor='#E6F3FF', color='#2B65EC')\n",
    "dot.node('A', 'Lógica Proposicional')\n",
    "dot.node('B', 'Proposiciones\\n(Atómicas/Compuestas)', shape='ellipse', fillcolor='#FFE4E1')\n",
    "dot.node('C', 'Conectivos Lógicos\\n(AND, OR, NOT, →)', shape='diamond', fillcolor='#90EE90')\n",
    "dot.node('D', 'Tablas de Verdad', shape='parallelogram', fillcolor='#FFD700')\n",
    "dot.node('E', 'Aplicaciones\\n(Circuitos, Algoritmos)', shape='hexagon', fillcolor='#FFA07A')\n",
    "\n",
    "dot.edges(['AB', 'AC', 'AD', 'BD', 'CD', 'DE'])\n",
    "dot.render(directory='C:/Users/marco/Descargas', filename='mapa_tablas_verdad.gv', view = True)\n",
    "\n"
   ]
  },
  {
   "cell_type": "markdown",
   "id": "3e33a240",
   "metadata": {},
   "source": [
    "![Mapa conceptual](C:/Users/marco/Descargas/mapa_tablas_verdad.gv.png)  \n",
    "\n",
    "---\n"
   ]
  },
  {
   "cell_type": "markdown",
   "id": "31b277f0",
   "metadata": {},
   "source": [
    "\n",
    "**4. Contenido de la clase**  \n",
    "**a. Conceptos básicos:**  \n",
    "- **Proposición:** Expresión con valor $V$ o $F$ (ej: $p =$ \"Llueve\").  \n",
    "- **Conectivos:**  \n",
    "  - $p \\land q$ (AND): $V$ solo si ambos son $V$.  \n",
    "  - $p \\lor q$ (OR): $F$ solo si ambos son $F$.  \n",
    "  - $\\neg p$ (NOT): Invierte el valor.  \n",
    "  - $p \\rightarrow q$: $F$ solo si $p=V$ y $q=F$.  \n",
    "\n",
    "**b. Tabla de verdad con Python:**  \n"
   ]
  },
  {
   "cell_type": "code",
   "execution_count": null,
   "id": "4f1d997d",
   "metadata": {},
   "outputs": [],
   "source": [
    "\n",
    "import numpy as np\n",
    "import pandas as pd\n",
    "from sympy import symbols, And, Or, Not, Implies\n",
    "\n",
    "p, q = symbols('p q')\n",
    "proposicion = Or(And(p, q), Implies(p, q))\n",
    "\n",
    "def generar_tabla(func):\n",
    "    combinaciones = np.array(np.meshgrid([False, True], [False, True])).T.reshape(-1,2)\n",
    "    df = pd.DataFrame(combinaciones, columns=['p', 'q'])\n",
    "    df['Resultado'] = [func.subs({p: row[0], q: row[1]}) for row in combinaciones]\n",
    "    return df\n",
    "\n",
    "display(generar_tabla(proposicion))\n",
    "\n"
   ]
  },
  {
   "cell_type": "markdown",
   "id": "132f4303",
   "metadata": {},
   "source": [
    "\n",
    "# **5. Canción/Poema**  \n",
    "**\"La Cumbia de los Verdadines\"** (Ritmo de cumbia colombiana):  \n"
   ]
  },
  {
   "cell_type": "markdown",
   "id": "1223669d",
   "metadata": {},
   "source": [
    "\n",
    "Si p es V y q es F, la implicación ¡ay, no es verdad!  \n",
    "El AND es exigente, dos verdades pide él.  \n",
    "OR es más consentidor, con una V, ¡ya está bien!  \n",
    "NOT revuelve la tortilla, lo que es V lo vuelve F.  \n",
    "¡Tablas de verdad, mi gente, resuelven cualquier problemita!  \n",
    "\n",
    "\n",
    "---\n"
   ]
  },
  {
   "cell_type": "markdown",
   "id": "953688c3",
   "metadata": {},
   "source": [
    "\n",
    "**6. Historia epistemológica**  \n",
    "**\"El Misterio de los Símbolos Lógicos\"**  \n",
    "Érase una vez, en el frío norte de Inglaterra, un joven George Boole (imagen: `C:/Users/marco/Descargas/boole.jpg`) que soñaba con convertir el pensamiento en ecuaciones. \"¡Las ideas son como números!\", decía, mientras escribía $x \\cdot y$ para el \"y\" lógico. Años después, un alemán llamado Frege (imagen: `C:/Users/marco/Descargas/frege.jpg`) unió lógica y matemáticas con su *Begriffsschrift*, ¡y el mundo nunca fue igual! Hoy, hasta tu celular usa sus reglas para tomar decisiones... ¿Quién dijo que la lógica no era mágica?  \n",
    "\n",
    "---\n"
   ]
  },
  {
   "cell_type": "markdown",
   "id": "76d37bd5",
   "metadata": {},
   "source": [
    "\n",
    "**7. Actividades de aprendizaje**  \n",
    "**a. Laboratorio interactivo:**  \n"
   ]
  },
  {
   "cell_type": "markdown",
   "id": "6ba01239",
   "metadata": {},
   "source": [
    "```python\n",
    "from ipywidgets import interact, Dropdown\n",
    "\n",
    "@interact(\n",
    "    p=Dropdown(options=[('Verdadero', True), ('Falso', False)]),\n",
    "    q=Dropdown(options=[('Verdadero', True), ('Falso', False)])\n",
    ")\n",
    "def calcular_conectivos(p, q):\n",
    "    resultado = {\n",
    "        'AND': p and q,\n",
    "        'OR': p or q,\n",
    "        'NOT p': not p,\n",
    "        'p → q': (not p) or q\n",
    "    }\n",
    "    display(pd.DataFrame.from_dict(resultado, orient='index', columns=['Valor']))\n",
    "```\n"
   ]
  },
  {
   "cell_type": "markdown",
   "id": "31465cde",
   "metadata": {},
   "source": [
    "\n",
    "**b. Animación de tabla de verdad:**  \n"
   ]
  },
  {
   "cell_type": "markdown",
   "id": "2af10964",
   "metadata": {},
   "source": [
    "```python\n",
    "from matplotlib.animation import FuncAnimation\n",
    "from IPython.display import HTML\n",
    "\n",
    "fig, ax = plt.subplots()\n",
    "ax.axis('off')\n",
    "celdas = [ax.text(i, j, '', ha='center', va='center') for i in range(3) for j in range(3)]\n",
    "\n",
    "def init():\n",
    "    for txt in celdas:\n",
    "        txt.set_text('')\n",
    "    return celdas\n",
    "\n",
    "def animate(frame):\n",
    "    valores = [(p, q, p and q) for p in [False, True] for q in [False, True]][frame]\n",
    "    textos = ['p', 'q', 'p ∧ q'] + list(valores)\n",
    "    for i, txt in enumerate(textos):\n",
    "        celdas[i].set_text(str(txt))\n",
    "    return celdas\n",
    "\n",
    "ani = FuncAnimation(fig, animate, frames=4, init_func=init, interval=1000)\n",
    "HTML(ani.to_jshtml())\n",
    "```\n"
   ]
  },
  {
   "cell_type": "markdown",
   "id": "cbe017f2",
   "metadata": {},
   "source": [
    "\n",
    "---\n",
    "\n",
    "**8. Evaluación**  \n",
    "**Proyectos STEAM:**  \n",
    "1. **Ciencias:** Modelar el comportamiento de un ecosistema con reglas lógicas.  \n",
    "2. **Tecnología:** Simular compuertas AND/OR con circuitos en Python.  \n",
    "3. **Arte:** Crear una escultura digital que cambie con combinaciones lógicas.  \n"
   ]
  },
  {
   "cell_type": "markdown",
   "id": "d0de7eac",
   "metadata": {},
   "source": [
    "\n",
    "**Quiz ejemplo:** "
   ]
  },
  {
   "cell_type": "markdown",
   "id": "484beece",
   "metadata": {},
   "source": [
    " \n",
    "```python\n",
    "preguntas = [\n",
    "    {\"pregunta\": \"¿Qué valor tiene ¬(V ∧ F)?\", \"opciones\": [\"V\", \"F\"], \"respuesta\": 0},\n",
    "    {\"pregunta\": \"Si p=V y q=F, ¿p → q es...?\", \"opciones\": [\"V\", \"F\"], \"respuesta\": 1}\n",
    "]\n",
    "```\n"
   ]
  },
  {
   "cell_type": "markdown",
   "id": "9babec89",
   "metadata": {},
   "source": [
    "\n",
    "**Examen parcial:**  \n",
    "*Demuestre con una tabla de verdad que $(p \\rightarrow q) \\equiv (\\neg p \\lor q)$.*  \n",
    "\n",
    "---\n"
   ]
  },
  {
   "cell_type": "markdown",
   "id": "e205041d",
   "metadata": {},
   "source": [
    "\n",
    "**9. Tarea**  \n",
    "**Ejercicio 1:**  \n",
    "Crea una función en Python que genere tablas de verdad para proposiciones con 3 variables (p, q, r).  \n",
    "\n",
    "**Ejercicio 2:**  \n",
    "Resuelve y visualiza la tabla de verdad para $\\neg(p \\lor q) \\rightarrow (\\neg p \\land \\neg q)$.  \n",
    "\n",
    "---\n"
   ]
  },
  {
   "cell_type": "markdown",
   "id": "04a2ad6b",
   "metadata": {},
   "source": [
    "\n",
    "**10. Retroalimentación**  \n",
    "**Actividad \"Debuggeando Lógica\":**  \n",
    "- Los estudiantes intercambian notebooks y encuentran errores en tablas de verdad ajenas usando `sympy.satisfiable`.  \n",
    "- Uso de `ipywidgets` para crear un juego de \"Adivina el conector\" con feedback instantáneo.  \n",
    "\n",
    "---\n"
   ]
  },
  {
   "cell_type": "markdown",
   "id": "f5b526c3",
   "metadata": {},
   "source": [
    "\n",
    "**11. Vocabulario en inglés**  \n",
    "- **Truth value**: Valor de verdad (V/F).  \n",
    "- **Logical connective**: Conector lógico.  \n",
    "- **Tautology**: Tautología ($\\equiv V$).  \n",
    "- **Contradiction**: Contradicción ($\\equiv F$).  \n",
    "- *Phrase*: \"The truth table **shows** all possible combinations: `La tabla de verdad muestra todas las combinaciones posibles`.\""
   ]
  },
  {
   "cell_type": "markdown",
   "id": "8b8cc316",
   "metadata": {},
   "source": [
    "[Video de apoyo a la presentación de la implementación de esta clase]() "
   ]
  },
  {
   "cell_type": "markdown",
   "id": "239427f7",
   "metadata": {},
   "source": [
    "# ARTÍCULO 1. Definir el calendario académico para los diferentes programas de pregrado de los campus\n",
    "regionalizados, correspondiente al primer periodo académico del año 2025, así:\n",
    "* Oferta 28 de enero de 2025\n",
    "* Matrícula 30 de enero de 2025\n",
    "* Ajustes 03 al 10 de febrero de 2025\n",
    "* Inicio de clases 10 de febrero de 2025\n",
    "* Límite evaluación del 40% 06 de abril de 2025\n",
    "* Terminación de clases 08 de junio de 2025\n",
    "* Exámenes finales 09 al 15 de junio de 2025\n",
    "* Habilitación y validación 16 al 22 de junio de 2025\n",
    "* Terminación oficial 23 de junio de 2025"
   ]
  },
  {
   "cell_type": "markdown",
   "id": "740f3401",
   "metadata": {
    "slideshow": {
     "slide_type": "slide"
    }
   },
   "source": [
    "# Componente de manejo de calculadora Casio asociado al objetivo de aprendizaje de esta clase  \n",
    "\n",
    "## Pasos para lograr el objetivo de aprendizaje con la experimentación en la calculadora Casio 991LA cw  "
   ]
  },
  {
   "cell_type": "markdown",
   "id": "8ba64aed",
   "metadata": {},
   "source": [
    "# Cursos que orienta el profesor Marco Julio Cañas Campillo en 2025  \n",
    "\n",
    "1. Práctica Pedagógica V para Licenciatura en Educación Infantil\n",
    "2. Fundamentos de Lógica para Licenciatura en Matemáticas \n",
    "3. Análisis Numérico para Licenciatura en Matemáticas. \n",
    "4. Cálculo Vectorial para Ingeniería Agropecuaria"
   ]
  },
  {
   "cell_type": "markdown",
   "id": "8d41fe58",
   "metadata": {
    "slideshow": {
     "slide_type": "slide"
    }
   },
   "source": [
    "# Horario de clases del profesor Marco\n",
    "\n",
    "* Lunes 8-12: Cálculo Vectorial\n",
    "* Martes 8-12 M: Fundamentos de Aritmética. \n",
    "* Miércoles 8 a 12 M: Fundamentos de la Lógica\n",
    "* Jueves 2 a 6 PM: Desarrollo del pensamiento matemático en la infancia. \n",
    "* Viernes 8 - 12 M: Desarrollo del pensamiento matemático en la infancia. \n",
    "* Sábados 8-12 Asesorías y espacio para retroalimentación y apoyo al trabajo independiente. "
   ]
  },
  {
   "cell_type": "markdown",
   "id": "ae114e14",
   "metadata": {
    "slideshow": {
     "slide_type": "slide"
    }
   },
   "source": [
    "# Horarios de monitoría y asesoría  \n",
    "\n",
    "Coordinador de los cursos de la Facultad de Educación para regiones:    \n",
    "\n",
    "Andrés Vélez: regioneducacion.fedu@udea.edu.co  \n",
    "Coordinador Regiones  \n",
    "Facultad de Educación  \n",
    "Universidad de Antioquia  "
   ]
  },
  {
   "cell_type": "markdown",
   "id": "b1db4b6c",
   "metadata": {
    "slideshow": {
     "slide_type": "slide"
    }
   },
   "source": [
    "## Monitor Manuel San Juan Serrano\n",
    "\n",
    "Contactar escribiendo al correo: manuel.serrano1@udea.edu.co"
   ]
  },
  {
   "cell_type": "markdown",
   "id": "39559692",
   "metadata": {
    "slideshow": {
     "slide_type": "slide"
    }
   },
   "source": [
    "Martes y jueves de 8 - 12  \n",
    "Miércoles 10 - 12 y de 2 a 4 PM  \n",
    "Sábado: 8 - 12"
   ]
  },
  {
   "cell_type": "markdown",
   "id": "10bce0d0",
   "metadata": {
    "slideshow": {
     "slide_type": "slide"
    }
   },
   "source": [
    "## Referentes "
   ]
  },
  {
   "cell_type": "markdown",
   "id": "1db3c468",
   "metadata": {
    "slideshow": {
     "slide_type": "slide"
    }
   },
   "source": [
    "* [CALCULO I DE UNA VARIABLE Ron Larson-Bruce Edwards. Mc Graw Hill. 9º Edición](https://www.academia.edu/42139251/CALCULO_I_DE_UNA_VARIABLE_Ron_Larson_Bruce_Edwards_Mc_Graw_Hill_9o_Edici%C3%B3n)   \n",
    "  \n",
    "\n",
    "* [Grajales Vanegas, L. M., Restrepo Estrada, C. E., Restrepo Ochoa, S. I., & Ruíz De Villalba, F. (2015). Matemáticas I para las ciencias económicas.](https://bibliotecadigital.udea.edu.co/handle/10495/3010)\n",
    "  \n",
    "* R. Duval y Semiosis y pensamiento humano, 2.ª ed. Cali, Colombia: Programa Editorial Universidad del Valle, 2017. [En línea]. Disponible en: https://programaeditorial.univalle.edu.co/gpd-semiosis-y-pensamiento-humano-9789587655278-63324cdb0f6b3.html\n",
    "\n",
    "* [Aylwin, C. U. (2011). Lógica, conjuntos y números. Universidad de los Andes, Consejo de Publicaciones, Colección: Ciencias Básicas, Serie: Matemáticas.](chrome-extension://efaidnbmnnnibpcajpcglclefindmkaj/https://www.u-cursos.cl/ciencias/2011/1/MC110/1/material_docente/bajar?id_material=574722)\n",
    "  \n",
    "* [Chollet, F. (2021). Deep learning with Python. Simon and Schuster.](chrome-extension://efaidnbmnnnibpcajpcglclefindmkaj/https://tanthiamhuat.wordpress.com/wp-content/uploads/2018/03/deeplearningwithpython.pdf)  \n",
    "  \n",
    "* [Watson, S., Stewart, J., & Redlin, L. (2009). Precálculo. Matemáticas para el cálculo.](https://github.com/marco-canas/calculo/blob/main/referents/1_precalculo_stewart/stewart_precalculo.pdf)  \n",
    "\n",
    "* [Purcell, E. J., Varberg, D., & Rigdon, S. E. (2007). Cálculo diferencial e integral. Pearson Educación.](https://github.com/marco-canas/calculo/blob/main/referents/purcell/purcell_calculo.pdf)\n",
    "\n",
    "  \n",
    "\n",
    "* [stewart cálculo](https://udeaeduco-my.sharepoint.com/:b:/g/personal/marco_canas_udea_edu_co/EZgXZjAp8QxPqOAim2hs6LcBNPLGjSHf-xwYnUVYkwa04w?e=RZdTCy)  \n",
    "\n",
    "\n",
    "\n",
    "\n",
    "\n",
    "* [Recomendación de la UNESCO sobre ciencia abierta](https://unesdoc.unesco.org/ark:/48223/pf0000379949_spa)\n",
    "\n",
    "* [chatGPT](https://openai.com/blog/chatgpt)  \n",
    "\n",
    "* [Géron, A. (2017). Hands-on machine learning with scikit-learn and tensorflow: Concepts. Tools, and Techniques to build intelligent systems.](chrome-extension://efaidnbmnnnibpcajpcglclefindmkaj/http://14.139.161.31/OddSem-0822-1122/Hands-On_Machine_Learning_with_Scikit-Learn-Keras-and-TensorFlow-2nd-Edition-Aurelien-Geron.pdf)   \n"
   ]
  },
  {
   "cell_type": "markdown",
   "id": "df925560",
   "metadata": {},
   "source": [
    "\n",
    "* [McKinney, W. (2012). Python for data analysis: Data wrangling with Pandas, NumPy, and IPython. \" O'Reilly Media, Inc.\".](https://wesmckinney.com/book/) "
   ]
  },
  {
   "cell_type": "markdown",
   "id": "8e65d6f9",
   "metadata": {},
   "source": [
    "# Como estudiante, encuentro que...   \n",
    "\n",
    "F: Mis Fortalezas son:     \n",
    "O: Mis Oportunidades son:    \n",
    "D: Mis Debilidades son:    \n",
    "A: Lo que Amenazas mi aprendizaje es:  "
   ]
  },
  {
   "cell_type": "markdown",
   "id": "6b9e56a8",
   "metadata": {
    "slideshow": {
     "slide_type": "slide"
    }
   },
   "source": [
    "### [Evaluamos al profesor Marco Cañas Aquí](https://forms.office.com/Pages/ResponsePage.aspx?id=IefhmYRxjkmK_7KtTlPBwkanXIs1i1FEujpsZgO6dXpUREJPV1kxUk1JV1ozTFJIQVNIQjY5WEY3US4u)"
   ]
  },
  {
   "cell_type": "markdown",
   "id": "10f43536",
   "metadata": {
    "slideshow": {
     "slide_type": "slide"
    }
   },
   "source": [
    "### Continue su aprendizaje en la siguiente clase a través del siguiente [vínculo]()"
   ]
  },
  {
   "cell_type": "markdown",
   "id": "53cc9115",
   "metadata": {
    "slideshow": {
     "slide_type": "slide"
    }
   },
   "source": [
    "## Agradecimientos  \n",
    "\n",
    "Doy gracias a Dios por la vida de mi Hijo Joseph Cañas Osorio y la madurez que ha alcanzado. Este hijo me enorgullece y me hace falta abrazarlo cada día. \n",
    "\n",
    "Y a mi esposa Yasmira Emperatriz Barboza Mogollón por su apoyo, orientación y acompañamiento. "
   ]
  },
  {
   "cell_type": "markdown",
   "id": "b6ba1c23",
   "metadata": {},
   "source": [
    "# Apéndice sobre calendarios y coordinaciones \n",
    "\n",
    "A continuación le envío el horario de la asignatura Cálculo Vectorial  \n",
    "\n",
    "Días:  \n",
    "Lunes - Hora: 7:00 a 12:00M  \n",
    "Fechas:  \n",
    "Febrero: 10-17-24                                          \n",
    " Marzo: 3-10-17-31                                                  \n",
    "Abril:7-21-28                                                   \n",
    "Mayo:5-12-19  \n",
    "\n",
    "Agradezco su apoyo, y si presenta alguna dificultad puede contactarme.  \n",
    "\n",
    "Cordialmente,  \n",
    "Juan Felipe Rivera Hernández  \n",
    "Contacto: 3106314300  "
   ]
  },
  {
   "cell_type": "markdown",
   "id": "0e66cd7c",
   "metadata": {},
   "source": [
    "# Clase de análisis numérico los Martes de 8 a 12 del medio día. "
   ]
  },
  {
   "cell_type": "markdown",
   "id": "c5ff61b1",
   "metadata": {},
   "source": []
  }
 ],
 "metadata": {
  "celltoolbar": "Slideshow",
  "kernelspec": {
   "display_name": ".venv",
   "language": "python",
   "name": "python3"
  },
  "language_info": {
   "codemirror_mode": {
    "name": "ipython",
    "version": 3
   },
   "file_extension": ".py",
   "mimetype": "text/x-python",
   "name": "python",
   "nbconvert_exporter": "python",
   "pygments_lexer": "ipython3",
   "version": "3.12.6"
  },
  "rise": {
   "enable_chalkboard": true,
   "theme": "sky",
   "transition": "zoom"
  }
 },
 "nbformat": 4,
 "nbformat_minor": 5
}
