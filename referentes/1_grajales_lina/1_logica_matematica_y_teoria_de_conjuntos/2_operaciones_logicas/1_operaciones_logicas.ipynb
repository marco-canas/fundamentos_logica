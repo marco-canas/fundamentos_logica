{
 "cells": [
  {
   "cell_type": "markdown",
   "id": "dc06dec7",
   "metadata": {
    "slideshow": {
     "slide_type": "slide"
    }
   },
   "source": [
    "<table align=\"left\">\n",
    "  <td>\n",
    "    <a href=\"https://colab.research.google.com/github/ageron/handson-ml3/blob/main/tools_numpy.ipynb\" target=\"_parent\"><img src=\"https://colab.research.google.com/assets/colab-badge.svg\" alt=\"Open In Colab\"/></a>\n",
    "  </td>\n",
    "  <td>\n",
    "    <a target=\"_blank\" href=\"https://kaggle.com/kernels/welcome?src=https://github.com/ageron/handson-ml3/blob/main/tools_numpy.ipynb\"><img src=\"https://kaggle.com/static/images/open-in-kaggle.svg\" /></a>\n",
    "  </td>\n",
    "</table>"
   ]
  },
  {
   "cell_type": "markdown",
   "id": "e0c5b198",
   "metadata": {
    "slideshow": {
     "slide_type": "slide"
    }
   },
   "source": [
    "### [Video de apoyo a la lectura interactiva y experimental de este cuaderno]()"
   ]
  },
  {
   "cell_type": "markdown",
   "id": "41e82203",
   "metadata": {
    "slideshow": {
     "slide_type": "slide"
    }
   },
   "source": [
    "### [Vínculo al programa del curso:  ]()\n",
    "\n"
   ]
  },
  {
   "cell_type": "markdown",
   "id": "d11ab06d",
   "metadata": {
    "slideshow": {
     "slide_type": "slide"
    }
   },
   "source": [
    "Un reconocimiento a mis estudiantes que han construido conmigo este saber pedagógico:\n",
    "\n",
    "<img src = ''> \n",
    "\n"
   ]
  },
  {
   "cell_type": "markdown",
   "id": "8a74a56c-0ce6-4ad6-b985-553fd7fb68bb",
   "metadata": {},
   "source": [
    "Reconocimiento a las profesoras destacadas en enseñanza de la matemática en Colombia\n"
   ]
  },
  {
   "cell_type": "code",
   "execution_count": 14,
   "id": "b179a7ed",
   "metadata": {},
   "outputs": [
    {
     "data": {
      "application/vnd.microsoft.datawrangler.viewer.v0+json": {
       "columns": [
        {
         "name": "index",
         "rawType": "int64",
         "type": "integer"
        },
        {
         "name": "Cedula",
         "rawType": "int64",
         "type": "integer"
        },
        {
         "name": "Nombre",
         "rawType": "object",
         "type": "string"
        },
        {
         "name": "Email",
         "rawType": "object",
         "type": "string"
        },
        {
         "name": "Parcial",
         "rawType": "float64",
         "type": "float"
        }
       ],
       "conversionMethod": "pd.DataFrame",
       "ref": "72f6e8ef-db6c-4187-9c96-cb5279ddd2ed",
       "rows": [
        [
         "0",
         "1067281024",
         "ALVAREZ GOEZ DAIRO ESTEBAN",
         "dairo.alvarez1@udea.edu.co",
         "0.0"
        ],
        [
         "1",
         "1041086439",
         "CASTILLO SIERRA SHIRLIS SARAY",
         "shirlis.castillo@udea.edu.co",
         "0.0"
        ],
        [
         "2",
         "1045419649",
         "ESPINOSA ESPINOSA LILIANA ANDREA",
         "lilianaa.espinosa@udea.edu.co",
         "0.0"
        ],
        [
         "3",
         "1040494191",
         "GARCIA PADILLA JHONATAN",
         "jhonatan.garcia1@udea.edu.co",
         "0.0"
        ],
        [
         "4",
         "1038098851",
         "GUERRA OSORIO SIMON",
         "s.guerra@udea.edu.co",
         "0.0"
        ],
        [
         "5",
         "1038131529",
         "HOYOS ARRIETA ELIECER JOSE",
         "jose.hoyos2@udea.edu.co",
         "0.0"
        ],
        [
         "6",
         "1038116007",
         "MARIAGA BALLESTEROS KEILA MELIZA",
         "keila.mariaga@udea.edu.co",
         "0.0"
        ],
        [
         "7",
         "1007112550",
         "MARTINEZ MENDOZA JAIR MIGUEL",
         "jair.mmendoza@udea.edu.co",
         "0.0"
        ],
        [
         "8",
         "1038092575",
         "OSORIO ACEVEDO LUIS MARIO",
         "luismario.osorio@udea.edu.co",
         "0.0"
        ],
        [
         "9",
         "1038130817",
         "PENATE PENA JHON SEBASTIAN",
         "jhon.penate@udea.edu.co",
         "0.0"
        ],
        [
         "10",
         "1019842256",
         "RODELO ZABALA ARIANA",
         "a.rodelo@udea.edu.co",
         "0.0"
        ],
        [
         "11",
         "1042822239",
         "RODRIGUEZ MOSQUERA ANGELA MARIA",
         "maria.rodriguez8@udea.edu.co",
         "0.0"
        ],
        [
         "12",
         "1038436130",
         "ROHENES DE ARCO CAMILO ANDRES",
         "camilo.rohenes@udea.edu.co",
         "0.0"
        ],
        [
         "13",
         "1038436131",
         "ROHENES DE ARCO DIEGO ANDRES",
         "diego.rohenes@udea.edu.co",
         "0.0"
        ],
        [
         "14",
         "1032251887",
         "SIERRA OLIVEROS OMAR DARIO",
         "omar.sierra1@udea.edu.co",
         "0.0"
        ],
        [
         "15",
         "1038646944",
         "SILVA URDA FABIAN",
         "fabian.silva1@udea.edu.co",
         "0.0"
        ],
        [
         "16",
         "1007429411",
         "VILLA CABARCA SANDY JANETH",
         "sandy.villac@udea.edu.co",
         "0.0"
        ]
       ],
       "shape": {
        "columns": 4,
        "rows": 17
       }
      },
      "text/html": [
       "<div>\n",
       "<style scoped>\n",
       "    .dataframe tbody tr th:only-of-type {\n",
       "        vertical-align: middle;\n",
       "    }\n",
       "\n",
       "    .dataframe tbody tr th {\n",
       "        vertical-align: top;\n",
       "    }\n",
       "\n",
       "    .dataframe thead th {\n",
       "        text-align: right;\n",
       "    }\n",
       "</style>\n",
       "<table border=\"1\" class=\"dataframe\">\n",
       "  <thead>\n",
       "    <tr style=\"text-align: right;\">\n",
       "      <th></th>\n",
       "      <th>Cedula</th>\n",
       "      <th>Nombre</th>\n",
       "      <th>Email</th>\n",
       "      <th>Parcial</th>\n",
       "    </tr>\n",
       "  </thead>\n",
       "  <tbody>\n",
       "    <tr>\n",
       "      <th>0</th>\n",
       "      <td>1067281024</td>\n",
       "      <td>ALVAREZ GOEZ DAIRO ESTEBAN</td>\n",
       "      <td>dairo.alvarez1@udea.edu.co</td>\n",
       "      <td>0.0</td>\n",
       "    </tr>\n",
       "    <tr>\n",
       "      <th>1</th>\n",
       "      <td>1041086439</td>\n",
       "      <td>CASTILLO SIERRA SHIRLIS SARAY</td>\n",
       "      <td>shirlis.castillo@udea.edu.co</td>\n",
       "      <td>0.0</td>\n",
       "    </tr>\n",
       "    <tr>\n",
       "      <th>2</th>\n",
       "      <td>1045419649</td>\n",
       "      <td>ESPINOSA ESPINOSA LILIANA ANDREA</td>\n",
       "      <td>lilianaa.espinosa@udea.edu.co</td>\n",
       "      <td>0.0</td>\n",
       "    </tr>\n",
       "    <tr>\n",
       "      <th>3</th>\n",
       "      <td>1040494191</td>\n",
       "      <td>GARCIA PADILLA JHONATAN</td>\n",
       "      <td>jhonatan.garcia1@udea.edu.co</td>\n",
       "      <td>0.0</td>\n",
       "    </tr>\n",
       "    <tr>\n",
       "      <th>4</th>\n",
       "      <td>1038098851</td>\n",
       "      <td>GUERRA OSORIO SIMON</td>\n",
       "      <td>s.guerra@udea.edu.co</td>\n",
       "      <td>0.0</td>\n",
       "    </tr>\n",
       "    <tr>\n",
       "      <th>5</th>\n",
       "      <td>1038131529</td>\n",
       "      <td>HOYOS ARRIETA ELIECER JOSE</td>\n",
       "      <td>jose.hoyos2@udea.edu.co</td>\n",
       "      <td>0.0</td>\n",
       "    </tr>\n",
       "    <tr>\n",
       "      <th>6</th>\n",
       "      <td>1038116007</td>\n",
       "      <td>MARIAGA BALLESTEROS KEILA MELIZA</td>\n",
       "      <td>keila.mariaga@udea.edu.co</td>\n",
       "      <td>0.0</td>\n",
       "    </tr>\n",
       "    <tr>\n",
       "      <th>7</th>\n",
       "      <td>1007112550</td>\n",
       "      <td>MARTINEZ MENDOZA JAIR MIGUEL</td>\n",
       "      <td>jair.mmendoza@udea.edu.co</td>\n",
       "      <td>0.0</td>\n",
       "    </tr>\n",
       "    <tr>\n",
       "      <th>8</th>\n",
       "      <td>1038092575</td>\n",
       "      <td>OSORIO ACEVEDO LUIS MARIO</td>\n",
       "      <td>luismario.osorio@udea.edu.co</td>\n",
       "      <td>0.0</td>\n",
       "    </tr>\n",
       "    <tr>\n",
       "      <th>9</th>\n",
       "      <td>1038130817</td>\n",
       "      <td>PENATE PENA JHON SEBASTIAN</td>\n",
       "      <td>jhon.penate@udea.edu.co</td>\n",
       "      <td>0.0</td>\n",
       "    </tr>\n",
       "    <tr>\n",
       "      <th>10</th>\n",
       "      <td>1019842256</td>\n",
       "      <td>RODELO ZABALA ARIANA</td>\n",
       "      <td>a.rodelo@udea.edu.co</td>\n",
       "      <td>0.0</td>\n",
       "    </tr>\n",
       "    <tr>\n",
       "      <th>11</th>\n",
       "      <td>1042822239</td>\n",
       "      <td>RODRIGUEZ MOSQUERA ANGELA MARIA</td>\n",
       "      <td>maria.rodriguez8@udea.edu.co</td>\n",
       "      <td>0.0</td>\n",
       "    </tr>\n",
       "    <tr>\n",
       "      <th>12</th>\n",
       "      <td>1038436130</td>\n",
       "      <td>ROHENES DE ARCO CAMILO ANDRES</td>\n",
       "      <td>camilo.rohenes@udea.edu.co</td>\n",
       "      <td>0.0</td>\n",
       "    </tr>\n",
       "    <tr>\n",
       "      <th>13</th>\n",
       "      <td>1038436131</td>\n",
       "      <td>ROHENES DE ARCO DIEGO ANDRES</td>\n",
       "      <td>diego.rohenes@udea.edu.co</td>\n",
       "      <td>0.0</td>\n",
       "    </tr>\n",
       "    <tr>\n",
       "      <th>14</th>\n",
       "      <td>1032251887</td>\n",
       "      <td>SIERRA OLIVEROS OMAR DARIO</td>\n",
       "      <td>omar.sierra1@udea.edu.co</td>\n",
       "      <td>0.0</td>\n",
       "    </tr>\n",
       "    <tr>\n",
       "      <th>15</th>\n",
       "      <td>1038646944</td>\n",
       "      <td>SILVA URDA FABIAN</td>\n",
       "      <td>fabian.silva1@udea.edu.co</td>\n",
       "      <td>0.0</td>\n",
       "    </tr>\n",
       "    <tr>\n",
       "      <th>16</th>\n",
       "      <td>1007429411</td>\n",
       "      <td>VILLA CABARCA SANDY JANETH</td>\n",
       "      <td>sandy.villac@udea.edu.co</td>\n",
       "      <td>0.0</td>\n",
       "    </tr>\n",
       "  </tbody>\n",
       "</table>\n",
       "</div>"
      ],
      "text/plain": [
       "        Cedula                            Nombre  \\\n",
       "0   1067281024        ALVAREZ GOEZ DAIRO ESTEBAN   \n",
       "1   1041086439     CASTILLO SIERRA SHIRLIS SARAY   \n",
       "2   1045419649  ESPINOSA ESPINOSA LILIANA ANDREA   \n",
       "3   1040494191           GARCIA PADILLA JHONATAN   \n",
       "4   1038098851               GUERRA OSORIO SIMON   \n",
       "5   1038131529        HOYOS ARRIETA ELIECER JOSE   \n",
       "6   1038116007  MARIAGA BALLESTEROS KEILA MELIZA   \n",
       "7   1007112550      MARTINEZ MENDOZA JAIR MIGUEL   \n",
       "8   1038092575         OSORIO ACEVEDO LUIS MARIO   \n",
       "9   1038130817        PENATE PENA JHON SEBASTIAN   \n",
       "10  1019842256              RODELO ZABALA ARIANA   \n",
       "11  1042822239   RODRIGUEZ MOSQUERA ANGELA MARIA   \n",
       "12  1038436130     ROHENES DE ARCO CAMILO ANDRES   \n",
       "13  1038436131      ROHENES DE ARCO DIEGO ANDRES   \n",
       "14  1032251887        SIERRA OLIVEROS OMAR DARIO   \n",
       "15  1038646944                 SILVA URDA FABIAN   \n",
       "16  1007429411        VILLA CABARCA SANDY JANETH   \n",
       "\n",
       "                            Email  Parcial  \n",
       "0      dairo.alvarez1@udea.edu.co      0.0  \n",
       "1    shirlis.castillo@udea.edu.co      0.0  \n",
       "2   lilianaa.espinosa@udea.edu.co      0.0  \n",
       "3    jhonatan.garcia1@udea.edu.co      0.0  \n",
       "4            s.guerra@udea.edu.co      0.0  \n",
       "5         jose.hoyos2@udea.edu.co      0.0  \n",
       "6       keila.mariaga@udea.edu.co      0.0  \n",
       "7       jair.mmendoza@udea.edu.co      0.0  \n",
       "8    luismario.osorio@udea.edu.co      0.0  \n",
       "9         jhon.penate@udea.edu.co      0.0  \n",
       "10           a.rodelo@udea.edu.co      0.0  \n",
       "11   maria.rodriguez8@udea.edu.co      0.0  \n",
       "12     camilo.rohenes@udea.edu.co      0.0  \n",
       "13      diego.rohenes@udea.edu.co      0.0  \n",
       "14       omar.sierra1@udea.edu.co      0.0  \n",
       "15      fabian.silva1@udea.edu.co      0.0  \n",
       "16       sandy.villac@udea.edu.co      0.0  "
      ]
     },
     "execution_count": 14,
     "metadata": {},
     "output_type": "execute_result"
    }
   ],
   "source": [
    "import pandas as pd\n",
    "import numpy as np\n",
    "\n",
    "# Cargar la lista de estudiantes desde el archivo CSV\n",
    "path = 'C:/Users/marco/Documentos/docencia/groups_list/logica.csv'\n",
    "estudiantes = pd.read_csv(path, sep = ';')\n",
    "estudiantes['Parcial'] = estudiantes['Parcial'].astype(float)  # Asegurar que la columna 'Parcial' es float\n",
    "estudiantes.head(17)"
   ]
  },
  {
   "cell_type": "code",
   "execution_count": 15,
   "id": "adb345dc",
   "metadata": {},
   "outputs": [],
   "source": [
    "estudiantes['Asistencia'] = np.zeros_like(len(estudiantes))\n",
    "estudiantes.to_csv('logica.csv')"
   ]
  },
  {
   "cell_type": "code",
   "execution_count": 16,
   "id": "3268dbba",
   "metadata": {},
   "outputs": [
    {
     "data": {
      "application/vnd.microsoft.datawrangler.viewer.v0+json": {
       "columns": [
        {
         "name": "index",
         "rawType": "int64",
         "type": "integer"
        },
        {
         "name": "Cedula",
         "rawType": "int64",
         "type": "integer"
        },
        {
         "name": "Nombre",
         "rawType": "object",
         "type": "string"
        },
        {
         "name": "Email",
         "rawType": "object",
         "type": "string"
        },
        {
         "name": "Parcial",
         "rawType": "float64",
         "type": "float"
        },
        {
         "name": "Asistencia",
         "rawType": "int64",
         "type": "integer"
        }
       ],
       "conversionMethod": "pd.DataFrame",
       "ref": "c839b825-2194-4f61-937f-148f3f94d605",
       "rows": [
        [
         "0",
         "1067281024",
         "ALVAREZ GOEZ DAIRO ESTEBAN",
         "dairo.alvarez1@udea.edu.co",
         "0.0",
         "0"
        ],
        [
         "1",
         "1041086439",
         "CASTILLO SIERRA SHIRLIS SARAY",
         "shirlis.castillo@udea.edu.co",
         "0.0",
         "0"
        ],
        [
         "2",
         "1045419649",
         "ESPINOSA ESPINOSA LILIANA ANDREA",
         "lilianaa.espinosa@udea.edu.co",
         "0.0",
         "0"
        ],
        [
         "3",
         "1040494191",
         "GARCIA PADILLA JHONATAN",
         "jhonatan.garcia1@udea.edu.co",
         "0.0",
         "0"
        ],
        [
         "4",
         "1038098851",
         "GUERRA OSORIO SIMON",
         "s.guerra@udea.edu.co",
         "0.0",
         "0"
        ]
       ],
       "shape": {
        "columns": 5,
        "rows": 5
       }
      },
      "text/html": [
       "<div>\n",
       "<style scoped>\n",
       "    .dataframe tbody tr th:only-of-type {\n",
       "        vertical-align: middle;\n",
       "    }\n",
       "\n",
       "    .dataframe tbody tr th {\n",
       "        vertical-align: top;\n",
       "    }\n",
       "\n",
       "    .dataframe thead th {\n",
       "        text-align: right;\n",
       "    }\n",
       "</style>\n",
       "<table border=\"1\" class=\"dataframe\">\n",
       "  <thead>\n",
       "    <tr style=\"text-align: right;\">\n",
       "      <th></th>\n",
       "      <th>Cedula</th>\n",
       "      <th>Nombre</th>\n",
       "      <th>Email</th>\n",
       "      <th>Parcial</th>\n",
       "      <th>Asistencia</th>\n",
       "    </tr>\n",
       "  </thead>\n",
       "  <tbody>\n",
       "    <tr>\n",
       "      <th>0</th>\n",
       "      <td>1067281024</td>\n",
       "      <td>ALVAREZ GOEZ DAIRO ESTEBAN</td>\n",
       "      <td>dairo.alvarez1@udea.edu.co</td>\n",
       "      <td>0.0</td>\n",
       "      <td>0</td>\n",
       "    </tr>\n",
       "    <tr>\n",
       "      <th>1</th>\n",
       "      <td>1041086439</td>\n",
       "      <td>CASTILLO SIERRA SHIRLIS SARAY</td>\n",
       "      <td>shirlis.castillo@udea.edu.co</td>\n",
       "      <td>0.0</td>\n",
       "      <td>0</td>\n",
       "    </tr>\n",
       "    <tr>\n",
       "      <th>2</th>\n",
       "      <td>1045419649</td>\n",
       "      <td>ESPINOSA ESPINOSA LILIANA ANDREA</td>\n",
       "      <td>lilianaa.espinosa@udea.edu.co</td>\n",
       "      <td>0.0</td>\n",
       "      <td>0</td>\n",
       "    </tr>\n",
       "    <tr>\n",
       "      <th>3</th>\n",
       "      <td>1040494191</td>\n",
       "      <td>GARCIA PADILLA JHONATAN</td>\n",
       "      <td>jhonatan.garcia1@udea.edu.co</td>\n",
       "      <td>0.0</td>\n",
       "      <td>0</td>\n",
       "    </tr>\n",
       "    <tr>\n",
       "      <th>4</th>\n",
       "      <td>1038098851</td>\n",
       "      <td>GUERRA OSORIO SIMON</td>\n",
       "      <td>s.guerra@udea.edu.co</td>\n",
       "      <td>0.0</td>\n",
       "      <td>0</td>\n",
       "    </tr>\n",
       "  </tbody>\n",
       "</table>\n",
       "</div>"
      ],
      "text/plain": [
       "       Cedula                            Nombre  \\\n",
       "0  1067281024        ALVAREZ GOEZ DAIRO ESTEBAN   \n",
       "1  1041086439     CASTILLO SIERRA SHIRLIS SARAY   \n",
       "2  1045419649  ESPINOSA ESPINOSA LILIANA ANDREA   \n",
       "3  1040494191           GARCIA PADILLA JHONATAN   \n",
       "4  1038098851               GUERRA OSORIO SIMON   \n",
       "\n",
       "                           Email  Parcial  Asistencia  \n",
       "0     dairo.alvarez1@udea.edu.co      0.0           0  \n",
       "1   shirlis.castillo@udea.edu.co      0.0           0  \n",
       "2  lilianaa.espinosa@udea.edu.co      0.0           0  \n",
       "3   jhonatan.garcia1@udea.edu.co      0.0           0  \n",
       "4           s.guerra@udea.edu.co      0.0           0  "
      ]
     },
     "execution_count": 16,
     "metadata": {},
     "output_type": "execute_result"
    }
   ],
   "source": [
    "estudiantes.head() "
   ]
  },
  {
   "cell_type": "code",
   "execution_count": 17,
   "id": "e1dc3e00",
   "metadata": {},
   "outputs": [
    {
     "data": {
      "text/plain": [
       "Index(['Cedula', 'Nombre', 'Email', 'Parcial', 'Asistencia'], dtype='object')"
      ]
     },
     "execution_count": 17,
     "metadata": {},
     "output_type": "execute_result"
    }
   ],
   "source": [
    "estudiantes.keys() "
   ]
  },
  {
   "cell_type": "code",
   "execution_count": 18,
   "id": "7604880f",
   "metadata": {
    "slideshow": {
     "slide_type": "slide"
    }
   },
   "outputs": [
    {
     "name": "stdout",
     "output_type": "stream",
     "text": [
      "Llamando a ALVAREZ GOEZ DAIRO ESTEBAN...\n"
     ]
    },
    {
     "name": "stdout",
     "output_type": "stream",
     "text": [
      "Llamando a ROHENES DE ARCO CAMILO ANDRES...\n",
      "Llamando a ESPINOSA ESPINOSA LILIANA ANDREA...\n",
      "Llamando a MARIAGA BALLESTEROS KEILA MELIZA...\n",
      "Llamando a CASTILLO SIERRA SHIRLIS SARAY...\n",
      "Llamando a SIERRA OLIVEROS OMAR DARIO...\n",
      "Llamando a OSORIO ACEVEDO LUIS MARIO...\n",
      "Llamando a RODELO ZABALA ARIANA...\n",
      "Llamando a HOYOS ARRIETA ELIECER JOSE...\n",
      "Llamando a GARCIA PADILLA JHONATAN...\n",
      "Llamando a PENATE PENA JHON SEBASTIAN...\n",
      "Llamando a GUERRA OSORIO SIMON...\n",
      "Llamando a SILVA URDA FABIAN...\n",
      "Llamando a RODRIGUEZ MOSQUERA ANGELA MARIA...\n",
      "Llamando a MARTINEZ MENDOZA JAIR MIGUEL...\n",
      "Llamando a VILLA CABARCA SANDY JANETH...\n",
      "Llamando a ROHENES DE ARCO DIEGO ANDRES...\n"
     ]
    },
    {
     "ename": "PermissionError",
     "evalue": "[Errno 13] Permission denied: 'C:/Users/marco/Documentos/docencia/groups_list/logica.csv'",
     "output_type": "error",
     "traceback": [
      "\u001b[1;31m---------------------------------------------------------------------------\u001b[0m",
      "\u001b[1;31mPermissionError\u001b[0m                           Traceback (most recent call last)",
      "Cell \u001b[1;32mIn[18], line 47\u001b[0m\n\u001b[0;32m     44\u001b[0m     asistencia()\n\u001b[0;32m     46\u001b[0m \u001b[38;5;66;03m# Guardar los cambios una vez que todos los estudiantes hayan sido llamados\u001b[39;00m\n\u001b[1;32m---> 47\u001b[0m \u001b[43mguardar_cambios\u001b[49m\u001b[43m(\u001b[49m\u001b[43m)\u001b[49m\n",
      "Cell \u001b[1;32mIn[18], line 39\u001b[0m, in \u001b[0;36mguardar_cambios\u001b[1;34m()\u001b[0m\n\u001b[0;32m     38\u001b[0m \u001b[38;5;28;01mdef\u001b[39;00m\u001b[38;5;250m \u001b[39m\u001b[38;5;21mguardar_cambios\u001b[39m():\n\u001b[1;32m---> 39\u001b[0m     \u001b[43mestudiantes\u001b[49m\u001b[38;5;241;43m.\u001b[39;49m\u001b[43mto_csv\u001b[49m\u001b[43m(\u001b[49m\u001b[43mpath\u001b[49m\u001b[43m,\u001b[49m\u001b[43m \u001b[49m\u001b[43mindex\u001b[49m\u001b[38;5;241;43m=\u001b[39;49m\u001b[38;5;28;43;01mFalse\u001b[39;49;00m\u001b[43m)\u001b[49m\n\u001b[0;32m     40\u001b[0m     \u001b[38;5;28mprint\u001b[39m(\u001b[38;5;124m\"\u001b[39m\u001b[38;5;124mCambios guardados en el archivo CSV.\u001b[39m\u001b[38;5;124m\"\u001b[39m)\n",
      "File \u001b[1;32mc:\\Users\\marco\\Documentos\\docencia\\fundamentos_logica\\.venv\\Lib\\site-packages\\pandas\\util\\_decorators.py:333\u001b[0m, in \u001b[0;36mdeprecate_nonkeyword_arguments.<locals>.decorate.<locals>.wrapper\u001b[1;34m(*args, **kwargs)\u001b[0m\n\u001b[0;32m    327\u001b[0m \u001b[38;5;28;01mif\u001b[39;00m \u001b[38;5;28mlen\u001b[39m(args) \u001b[38;5;241m>\u001b[39m num_allow_args:\n\u001b[0;32m    328\u001b[0m     warnings\u001b[38;5;241m.\u001b[39mwarn(\n\u001b[0;32m    329\u001b[0m         msg\u001b[38;5;241m.\u001b[39mformat(arguments\u001b[38;5;241m=\u001b[39m_format_argument_list(allow_args)),\n\u001b[0;32m    330\u001b[0m         \u001b[38;5;167;01mFutureWarning\u001b[39;00m,\n\u001b[0;32m    331\u001b[0m         stacklevel\u001b[38;5;241m=\u001b[39mfind_stack_level(),\n\u001b[0;32m    332\u001b[0m     )\n\u001b[1;32m--> 333\u001b[0m \u001b[38;5;28;01mreturn\u001b[39;00m \u001b[43mfunc\u001b[49m\u001b[43m(\u001b[49m\u001b[38;5;241;43m*\u001b[39;49m\u001b[43margs\u001b[49m\u001b[43m,\u001b[49m\u001b[43m \u001b[49m\u001b[38;5;241;43m*\u001b[39;49m\u001b[38;5;241;43m*\u001b[39;49m\u001b[43mkwargs\u001b[49m\u001b[43m)\u001b[49m\n",
      "File \u001b[1;32mc:\\Users\\marco\\Documentos\\docencia\\fundamentos_logica\\.venv\\Lib\\site-packages\\pandas\\core\\generic.py:3967\u001b[0m, in \u001b[0;36mNDFrame.to_csv\u001b[1;34m(self, path_or_buf, sep, na_rep, float_format, columns, header, index, index_label, mode, encoding, compression, quoting, quotechar, lineterminator, chunksize, date_format, doublequote, escapechar, decimal, errors, storage_options)\u001b[0m\n\u001b[0;32m   3956\u001b[0m df \u001b[38;5;241m=\u001b[39m \u001b[38;5;28mself\u001b[39m \u001b[38;5;28;01mif\u001b[39;00m \u001b[38;5;28misinstance\u001b[39m(\u001b[38;5;28mself\u001b[39m, ABCDataFrame) \u001b[38;5;28;01melse\u001b[39;00m \u001b[38;5;28mself\u001b[39m\u001b[38;5;241m.\u001b[39mto_frame()\n\u001b[0;32m   3958\u001b[0m formatter \u001b[38;5;241m=\u001b[39m DataFrameFormatter(\n\u001b[0;32m   3959\u001b[0m     frame\u001b[38;5;241m=\u001b[39mdf,\n\u001b[0;32m   3960\u001b[0m     header\u001b[38;5;241m=\u001b[39mheader,\n\u001b[1;32m   (...)\u001b[0m\n\u001b[0;32m   3964\u001b[0m     decimal\u001b[38;5;241m=\u001b[39mdecimal,\n\u001b[0;32m   3965\u001b[0m )\n\u001b[1;32m-> 3967\u001b[0m \u001b[38;5;28;01mreturn\u001b[39;00m \u001b[43mDataFrameRenderer\u001b[49m\u001b[43m(\u001b[49m\u001b[43mformatter\u001b[49m\u001b[43m)\u001b[49m\u001b[38;5;241;43m.\u001b[39;49m\u001b[43mto_csv\u001b[49m\u001b[43m(\u001b[49m\n\u001b[0;32m   3968\u001b[0m \u001b[43m    \u001b[49m\u001b[43mpath_or_buf\u001b[49m\u001b[43m,\u001b[49m\n\u001b[0;32m   3969\u001b[0m \u001b[43m    \u001b[49m\u001b[43mlineterminator\u001b[49m\u001b[38;5;241;43m=\u001b[39;49m\u001b[43mlineterminator\u001b[49m\u001b[43m,\u001b[49m\n\u001b[0;32m   3970\u001b[0m \u001b[43m    \u001b[49m\u001b[43msep\u001b[49m\u001b[38;5;241;43m=\u001b[39;49m\u001b[43msep\u001b[49m\u001b[43m,\u001b[49m\n\u001b[0;32m   3971\u001b[0m \u001b[43m    \u001b[49m\u001b[43mencoding\u001b[49m\u001b[38;5;241;43m=\u001b[39;49m\u001b[43mencoding\u001b[49m\u001b[43m,\u001b[49m\n\u001b[0;32m   3972\u001b[0m \u001b[43m    \u001b[49m\u001b[43merrors\u001b[49m\u001b[38;5;241;43m=\u001b[39;49m\u001b[43merrors\u001b[49m\u001b[43m,\u001b[49m\n\u001b[0;32m   3973\u001b[0m \u001b[43m    \u001b[49m\u001b[43mcompression\u001b[49m\u001b[38;5;241;43m=\u001b[39;49m\u001b[43mcompression\u001b[49m\u001b[43m,\u001b[49m\n\u001b[0;32m   3974\u001b[0m \u001b[43m    \u001b[49m\u001b[43mquoting\u001b[49m\u001b[38;5;241;43m=\u001b[39;49m\u001b[43mquoting\u001b[49m\u001b[43m,\u001b[49m\n\u001b[0;32m   3975\u001b[0m \u001b[43m    \u001b[49m\u001b[43mcolumns\u001b[49m\u001b[38;5;241;43m=\u001b[39;49m\u001b[43mcolumns\u001b[49m\u001b[43m,\u001b[49m\n\u001b[0;32m   3976\u001b[0m \u001b[43m    \u001b[49m\u001b[43mindex_label\u001b[49m\u001b[38;5;241;43m=\u001b[39;49m\u001b[43mindex_label\u001b[49m\u001b[43m,\u001b[49m\n\u001b[0;32m   3977\u001b[0m \u001b[43m    \u001b[49m\u001b[43mmode\u001b[49m\u001b[38;5;241;43m=\u001b[39;49m\u001b[43mmode\u001b[49m\u001b[43m,\u001b[49m\n\u001b[0;32m   3978\u001b[0m \u001b[43m    \u001b[49m\u001b[43mchunksize\u001b[49m\u001b[38;5;241;43m=\u001b[39;49m\u001b[43mchunksize\u001b[49m\u001b[43m,\u001b[49m\n\u001b[0;32m   3979\u001b[0m \u001b[43m    \u001b[49m\u001b[43mquotechar\u001b[49m\u001b[38;5;241;43m=\u001b[39;49m\u001b[43mquotechar\u001b[49m\u001b[43m,\u001b[49m\n\u001b[0;32m   3980\u001b[0m \u001b[43m    \u001b[49m\u001b[43mdate_format\u001b[49m\u001b[38;5;241;43m=\u001b[39;49m\u001b[43mdate_format\u001b[49m\u001b[43m,\u001b[49m\n\u001b[0;32m   3981\u001b[0m \u001b[43m    \u001b[49m\u001b[43mdoublequote\u001b[49m\u001b[38;5;241;43m=\u001b[39;49m\u001b[43mdoublequote\u001b[49m\u001b[43m,\u001b[49m\n\u001b[0;32m   3982\u001b[0m \u001b[43m    \u001b[49m\u001b[43mescapechar\u001b[49m\u001b[38;5;241;43m=\u001b[39;49m\u001b[43mescapechar\u001b[49m\u001b[43m,\u001b[49m\n\u001b[0;32m   3983\u001b[0m \u001b[43m    \u001b[49m\u001b[43mstorage_options\u001b[49m\u001b[38;5;241;43m=\u001b[39;49m\u001b[43mstorage_options\u001b[49m\u001b[43m,\u001b[49m\n\u001b[0;32m   3984\u001b[0m \u001b[43m\u001b[49m\u001b[43m)\u001b[49m\n",
      "File \u001b[1;32mc:\\Users\\marco\\Documentos\\docencia\\fundamentos_logica\\.venv\\Lib\\site-packages\\pandas\\io\\formats\\format.py:1014\u001b[0m, in \u001b[0;36mDataFrameRenderer.to_csv\u001b[1;34m(self, path_or_buf, encoding, sep, columns, index_label, mode, compression, quoting, quotechar, lineterminator, chunksize, date_format, doublequote, escapechar, errors, storage_options)\u001b[0m\n\u001b[0;32m    993\u001b[0m     created_buffer \u001b[38;5;241m=\u001b[39m \u001b[38;5;28;01mFalse\u001b[39;00m\n\u001b[0;32m    995\u001b[0m csv_formatter \u001b[38;5;241m=\u001b[39m CSVFormatter(\n\u001b[0;32m    996\u001b[0m     path_or_buf\u001b[38;5;241m=\u001b[39mpath_or_buf,\n\u001b[0;32m    997\u001b[0m     lineterminator\u001b[38;5;241m=\u001b[39mlineterminator,\n\u001b[1;32m   (...)\u001b[0m\n\u001b[0;32m   1012\u001b[0m     formatter\u001b[38;5;241m=\u001b[39m\u001b[38;5;28mself\u001b[39m\u001b[38;5;241m.\u001b[39mfmt,\n\u001b[0;32m   1013\u001b[0m )\n\u001b[1;32m-> 1014\u001b[0m \u001b[43mcsv_formatter\u001b[49m\u001b[38;5;241;43m.\u001b[39;49m\u001b[43msave\u001b[49m\u001b[43m(\u001b[49m\u001b[43m)\u001b[49m\n\u001b[0;32m   1016\u001b[0m \u001b[38;5;28;01mif\u001b[39;00m created_buffer:\n\u001b[0;32m   1017\u001b[0m     \u001b[38;5;28;01massert\u001b[39;00m \u001b[38;5;28misinstance\u001b[39m(path_or_buf, StringIO)\n",
      "File \u001b[1;32mc:\\Users\\marco\\Documentos\\docencia\\fundamentos_logica\\.venv\\Lib\\site-packages\\pandas\\io\\formats\\csvs.py:251\u001b[0m, in \u001b[0;36mCSVFormatter.save\u001b[1;34m(self)\u001b[0m\n\u001b[0;32m    247\u001b[0m \u001b[38;5;250m\u001b[39m\u001b[38;5;124;03m\"\"\"\u001b[39;00m\n\u001b[0;32m    248\u001b[0m \u001b[38;5;124;03mCreate the writer & save.\u001b[39;00m\n\u001b[0;32m    249\u001b[0m \u001b[38;5;124;03m\"\"\"\u001b[39;00m\n\u001b[0;32m    250\u001b[0m \u001b[38;5;66;03m# apply compression and byte/text conversion\u001b[39;00m\n\u001b[1;32m--> 251\u001b[0m \u001b[38;5;28;01mwith\u001b[39;00m \u001b[43mget_handle\u001b[49m\u001b[43m(\u001b[49m\n\u001b[0;32m    252\u001b[0m \u001b[43m    \u001b[49m\u001b[38;5;28;43mself\u001b[39;49m\u001b[38;5;241;43m.\u001b[39;49m\u001b[43mfilepath_or_buffer\u001b[49m\u001b[43m,\u001b[49m\n\u001b[0;32m    253\u001b[0m \u001b[43m    \u001b[49m\u001b[38;5;28;43mself\u001b[39;49m\u001b[38;5;241;43m.\u001b[39;49m\u001b[43mmode\u001b[49m\u001b[43m,\u001b[49m\n\u001b[0;32m    254\u001b[0m \u001b[43m    \u001b[49m\u001b[43mencoding\u001b[49m\u001b[38;5;241;43m=\u001b[39;49m\u001b[38;5;28;43mself\u001b[39;49m\u001b[38;5;241;43m.\u001b[39;49m\u001b[43mencoding\u001b[49m\u001b[43m,\u001b[49m\n\u001b[0;32m    255\u001b[0m \u001b[43m    \u001b[49m\u001b[43merrors\u001b[49m\u001b[38;5;241;43m=\u001b[39;49m\u001b[38;5;28;43mself\u001b[39;49m\u001b[38;5;241;43m.\u001b[39;49m\u001b[43merrors\u001b[49m\u001b[43m,\u001b[49m\n\u001b[0;32m    256\u001b[0m \u001b[43m    \u001b[49m\u001b[43mcompression\u001b[49m\u001b[38;5;241;43m=\u001b[39;49m\u001b[38;5;28;43mself\u001b[39;49m\u001b[38;5;241;43m.\u001b[39;49m\u001b[43mcompression\u001b[49m\u001b[43m,\u001b[49m\n\u001b[0;32m    257\u001b[0m \u001b[43m    \u001b[49m\u001b[43mstorage_options\u001b[49m\u001b[38;5;241;43m=\u001b[39;49m\u001b[38;5;28;43mself\u001b[39;49m\u001b[38;5;241;43m.\u001b[39;49m\u001b[43mstorage_options\u001b[49m\u001b[43m,\u001b[49m\n\u001b[0;32m    258\u001b[0m \u001b[43m\u001b[49m\u001b[43m)\u001b[49m \u001b[38;5;28;01mas\u001b[39;00m handles:\n\u001b[0;32m    259\u001b[0m     \u001b[38;5;66;03m# Note: self.encoding is irrelevant here\u001b[39;00m\n\u001b[0;32m    260\u001b[0m     \u001b[38;5;28mself\u001b[39m\u001b[38;5;241m.\u001b[39mwriter \u001b[38;5;241m=\u001b[39m csvlib\u001b[38;5;241m.\u001b[39mwriter(\n\u001b[0;32m    261\u001b[0m         handles\u001b[38;5;241m.\u001b[39mhandle,\n\u001b[0;32m    262\u001b[0m         lineterminator\u001b[38;5;241m=\u001b[39m\u001b[38;5;28mself\u001b[39m\u001b[38;5;241m.\u001b[39mlineterminator,\n\u001b[1;32m   (...)\u001b[0m\n\u001b[0;32m    267\u001b[0m         quotechar\u001b[38;5;241m=\u001b[39m\u001b[38;5;28mself\u001b[39m\u001b[38;5;241m.\u001b[39mquotechar,\n\u001b[0;32m    268\u001b[0m     )\n\u001b[0;32m    270\u001b[0m     \u001b[38;5;28mself\u001b[39m\u001b[38;5;241m.\u001b[39m_save()\n",
      "File \u001b[1;32mc:\\Users\\marco\\Documentos\\docencia\\fundamentos_logica\\.venv\\Lib\\site-packages\\pandas\\io\\common.py:873\u001b[0m, in \u001b[0;36mget_handle\u001b[1;34m(path_or_buf, mode, encoding, compression, memory_map, is_text, errors, storage_options)\u001b[0m\n\u001b[0;32m    868\u001b[0m \u001b[38;5;28;01melif\u001b[39;00m \u001b[38;5;28misinstance\u001b[39m(handle, \u001b[38;5;28mstr\u001b[39m):\n\u001b[0;32m    869\u001b[0m     \u001b[38;5;66;03m# Check whether the filename is to be opened in binary mode.\u001b[39;00m\n\u001b[0;32m    870\u001b[0m     \u001b[38;5;66;03m# Binary mode does not support 'encoding' and 'newline'.\u001b[39;00m\n\u001b[0;32m    871\u001b[0m     \u001b[38;5;28;01mif\u001b[39;00m ioargs\u001b[38;5;241m.\u001b[39mencoding \u001b[38;5;129;01mand\u001b[39;00m \u001b[38;5;124m\"\u001b[39m\u001b[38;5;124mb\u001b[39m\u001b[38;5;124m\"\u001b[39m \u001b[38;5;129;01mnot\u001b[39;00m \u001b[38;5;129;01min\u001b[39;00m ioargs\u001b[38;5;241m.\u001b[39mmode:\n\u001b[0;32m    872\u001b[0m         \u001b[38;5;66;03m# Encoding\u001b[39;00m\n\u001b[1;32m--> 873\u001b[0m         handle \u001b[38;5;241m=\u001b[39m \u001b[38;5;28;43mopen\u001b[39;49m\u001b[43m(\u001b[49m\n\u001b[0;32m    874\u001b[0m \u001b[43m            \u001b[49m\u001b[43mhandle\u001b[49m\u001b[43m,\u001b[49m\n\u001b[0;32m    875\u001b[0m \u001b[43m            \u001b[49m\u001b[43mioargs\u001b[49m\u001b[38;5;241;43m.\u001b[39;49m\u001b[43mmode\u001b[49m\u001b[43m,\u001b[49m\n\u001b[0;32m    876\u001b[0m \u001b[43m            \u001b[49m\u001b[43mencoding\u001b[49m\u001b[38;5;241;43m=\u001b[39;49m\u001b[43mioargs\u001b[49m\u001b[38;5;241;43m.\u001b[39;49m\u001b[43mencoding\u001b[49m\u001b[43m,\u001b[49m\n\u001b[0;32m    877\u001b[0m \u001b[43m            \u001b[49m\u001b[43merrors\u001b[49m\u001b[38;5;241;43m=\u001b[39;49m\u001b[43merrors\u001b[49m\u001b[43m,\u001b[49m\n\u001b[0;32m    878\u001b[0m \u001b[43m            \u001b[49m\u001b[43mnewline\u001b[49m\u001b[38;5;241;43m=\u001b[39;49m\u001b[38;5;124;43m\"\u001b[39;49m\u001b[38;5;124;43m\"\u001b[39;49m\u001b[43m,\u001b[49m\n\u001b[0;32m    879\u001b[0m \u001b[43m        \u001b[49m\u001b[43m)\u001b[49m\n\u001b[0;32m    880\u001b[0m     \u001b[38;5;28;01melse\u001b[39;00m:\n\u001b[0;32m    881\u001b[0m         \u001b[38;5;66;03m# Binary mode\u001b[39;00m\n\u001b[0;32m    882\u001b[0m         handle \u001b[38;5;241m=\u001b[39m \u001b[38;5;28mopen\u001b[39m(handle, ioargs\u001b[38;5;241m.\u001b[39mmode)\n",
      "\u001b[1;31mPermissionError\u001b[0m: [Errno 13] Permission denied: 'C:/Users/marco/Documentos/docencia/groups_list/logica.csv'"
     ]
    }
   ],
   "source": [
    "import pandas as pd\n",
    "import numpy as np\n",
    "\n",
    "# Cargar la lista de estudiantes desde el archivo CSV\n",
    "# path = 'C:/Users/marco/Documentos/docencia/groups_list/logica.csv'\n",
    "# estudiantes = pd.read_csv(path)\n",
    "# estudiantes['Asistencia'] = estudiantes['Asistencia'].astype(float)  # Asegurar que la columna 'Parcial' es float\n",
    "\n",
    "# Convertir la columna 'Nombre' a una lista de Python\n",
    "lista_estudiantes = estudiantes['Nombre'].tolist()\n",
    "\n",
    "# Función para llamar a un estudiante aleatoriamente y registrar su nota de seguimiento\n",
    "def asistencia():\n",
    "    global lista_estudiantes\n",
    "    if lista_estudiantes:\n",
    "        estudiante_aleatorio = np.random.choice(lista_estudiantes)\n",
    "        print(f\"Llamando a {estudiante_aleatorio}...\")\n",
    "        asistencia = input(f\"¿Asistió {estudiante_aleatorio}? (s/n): \").strip().lower()\n",
    "        \n",
    "        # Validación de entrada\n",
    "        if asistencia == 'n':\n",
    "            # Obtener el índice del estudiante en el DataFrame\n",
    "            indice = estudiantes[estudiantes['Nombre'] == estudiante_aleatorio].index[0]\n",
    "            # Incrementar su valor en la columna 'Parcial'\n",
    "            estudiantes.at[indice, 'Asistencia'] += 4\n",
    "            print(f\"Actualizado: {estudiante_aleatorio} ahora tiene {estudiantes.at[indice, 'Parcial']} en la columna 'Parcial'.\")\n",
    "        \n",
    "        elif asistencia != 's':\n",
    "            print(\"Entrada inválida. Por favor, introduce 's' para sí o 'n' para no.\")\n",
    "            return  # Volver a preguntar para el mismo estudiante si la entrada es inválida\n",
    "        \n",
    "        # Remover al estudiante de la lista para no llamarlo de nuevo\n",
    "        lista_estudiantes.remove(estudiante_aleatorio)\n",
    "    else:\n",
    "        print(\"Se han llamado a todos los estudiantes del grupo completo.\")\n",
    "\n",
    "# Función para guardar cambios al final de la sesión\n",
    "def guardar_cambios():\n",
    "    estudiantes.to_csv(path, index=False)\n",
    "    print(\"Cambios guardados en el archivo CSV.\")\n",
    "\n",
    "# Ejemplo de uso\n",
    "while lista_estudiantes:\n",
    "    asistencia()\n",
    "\n",
    "# Guardar los cambios una vez que todos los estudiantes hayan sido llamados\n",
    "guardar_cambios()\n",
    "\n"
   ]
  },
  {
   "cell_type": "code",
   "execution_count": 19,
   "id": "87bfa29b",
   "metadata": {},
   "outputs": [
    {
     "data": {
      "application/vnd.microsoft.datawrangler.viewer.v0+json": {
       "columns": [
        {
         "name": "index",
         "rawType": "int64",
         "type": "integer"
        },
        {
         "name": "Cedula",
         "rawType": "int64",
         "type": "integer"
        },
        {
         "name": "Nombre",
         "rawType": "object",
         "type": "string"
        },
        {
         "name": "Email",
         "rawType": "object",
         "type": "string"
        },
        {
         "name": "Parcial",
         "rawType": "float64",
         "type": "float"
        },
        {
         "name": "Asistencia",
         "rawType": "int64",
         "type": "integer"
        }
       ],
       "conversionMethod": "pd.DataFrame",
       "ref": "66c7f421-4e49-42dd-b3d8-1c438ffcdff2",
       "rows": [
        [
         "0",
         "1067281024",
         "ALVAREZ GOEZ DAIRO ESTEBAN",
         "dairo.alvarez1@udea.edu.co",
         "0.0",
         "0"
        ],
        [
         "1",
         "1041086439",
         "CASTILLO SIERRA SHIRLIS SARAY",
         "shirlis.castillo@udea.edu.co",
         "0.0",
         "0"
        ],
        [
         "2",
         "1045419649",
         "ESPINOSA ESPINOSA LILIANA ANDREA",
         "lilianaa.espinosa@udea.edu.co",
         "0.0",
         "0"
        ],
        [
         "3",
         "1040494191",
         "GARCIA PADILLA JHONATAN",
         "jhonatan.garcia1@udea.edu.co",
         "0.0",
         "0"
        ],
        [
         "4",
         "1038098851",
         "GUERRA OSORIO SIMON",
         "s.guerra@udea.edu.co",
         "0.0",
         "0"
        ],
        [
         "5",
         "1038131529",
         "HOYOS ARRIETA ELIECER JOSE",
         "jose.hoyos2@udea.edu.co",
         "0.0",
         "0"
        ],
        [
         "6",
         "1038116007",
         "MARIAGA BALLESTEROS KEILA MELIZA",
         "keila.mariaga@udea.edu.co",
         "0.0",
         "0"
        ],
        [
         "7",
         "1007112550",
         "MARTINEZ MENDOZA JAIR MIGUEL",
         "jair.mmendoza@udea.edu.co",
         "0.0",
         "0"
        ],
        [
         "8",
         "1038092575",
         "OSORIO ACEVEDO LUIS MARIO",
         "luismario.osorio@udea.edu.co",
         "0.0",
         "0"
        ],
        [
         "9",
         "1038130817",
         "PENATE PENA JHON SEBASTIAN",
         "jhon.penate@udea.edu.co",
         "0.0",
         "0"
        ],
        [
         "10",
         "1019842256",
         "RODELO ZABALA ARIANA",
         "a.rodelo@udea.edu.co",
         "0.0",
         "0"
        ],
        [
         "11",
         "1042822239",
         "RODRIGUEZ MOSQUERA ANGELA MARIA",
         "maria.rodriguez8@udea.edu.co",
         "0.0",
         "0"
        ],
        [
         "12",
         "1038436130",
         "ROHENES DE ARCO CAMILO ANDRES",
         "camilo.rohenes@udea.edu.co",
         "0.0",
         "0"
        ],
        [
         "13",
         "1038436131",
         "ROHENES DE ARCO DIEGO ANDRES",
         "diego.rohenes@udea.edu.co",
         "0.0",
         "0"
        ],
        [
         "14",
         "1032251887",
         "SIERRA OLIVEROS OMAR DARIO",
         "omar.sierra1@udea.edu.co",
         "0.0",
         "0"
        ],
        [
         "15",
         "1038646944",
         "SILVA URDA FABIAN",
         "fabian.silva1@udea.edu.co",
         "0.0",
         "0"
        ],
        [
         "16",
         "1007429411",
         "VILLA CABARCA SANDY JANETH",
         "sandy.villac@udea.edu.co",
         "0.0",
         "0"
        ]
       ],
       "shape": {
        "columns": 5,
        "rows": 17
       }
      },
      "text/html": [
       "<div>\n",
       "<style scoped>\n",
       "    .dataframe tbody tr th:only-of-type {\n",
       "        vertical-align: middle;\n",
       "    }\n",
       "\n",
       "    .dataframe tbody tr th {\n",
       "        vertical-align: top;\n",
       "    }\n",
       "\n",
       "    .dataframe thead th {\n",
       "        text-align: right;\n",
       "    }\n",
       "</style>\n",
       "<table border=\"1\" class=\"dataframe\">\n",
       "  <thead>\n",
       "    <tr style=\"text-align: right;\">\n",
       "      <th></th>\n",
       "      <th>Cedula</th>\n",
       "      <th>Nombre</th>\n",
       "      <th>Email</th>\n",
       "      <th>Parcial</th>\n",
       "      <th>Asistencia</th>\n",
       "    </tr>\n",
       "  </thead>\n",
       "  <tbody>\n",
       "    <tr>\n",
       "      <th>0</th>\n",
       "      <td>1067281024</td>\n",
       "      <td>ALVAREZ GOEZ DAIRO ESTEBAN</td>\n",
       "      <td>dairo.alvarez1@udea.edu.co</td>\n",
       "      <td>0.0</td>\n",
       "      <td>0</td>\n",
       "    </tr>\n",
       "    <tr>\n",
       "      <th>1</th>\n",
       "      <td>1041086439</td>\n",
       "      <td>CASTILLO SIERRA SHIRLIS SARAY</td>\n",
       "      <td>shirlis.castillo@udea.edu.co</td>\n",
       "      <td>0.0</td>\n",
       "      <td>0</td>\n",
       "    </tr>\n",
       "    <tr>\n",
       "      <th>2</th>\n",
       "      <td>1045419649</td>\n",
       "      <td>ESPINOSA ESPINOSA LILIANA ANDREA</td>\n",
       "      <td>lilianaa.espinosa@udea.edu.co</td>\n",
       "      <td>0.0</td>\n",
       "      <td>0</td>\n",
       "    </tr>\n",
       "    <tr>\n",
       "      <th>3</th>\n",
       "      <td>1040494191</td>\n",
       "      <td>GARCIA PADILLA JHONATAN</td>\n",
       "      <td>jhonatan.garcia1@udea.edu.co</td>\n",
       "      <td>0.0</td>\n",
       "      <td>0</td>\n",
       "    </tr>\n",
       "    <tr>\n",
       "      <th>4</th>\n",
       "      <td>1038098851</td>\n",
       "      <td>GUERRA OSORIO SIMON</td>\n",
       "      <td>s.guerra@udea.edu.co</td>\n",
       "      <td>0.0</td>\n",
       "      <td>0</td>\n",
       "    </tr>\n",
       "    <tr>\n",
       "      <th>5</th>\n",
       "      <td>1038131529</td>\n",
       "      <td>HOYOS ARRIETA ELIECER JOSE</td>\n",
       "      <td>jose.hoyos2@udea.edu.co</td>\n",
       "      <td>0.0</td>\n",
       "      <td>0</td>\n",
       "    </tr>\n",
       "    <tr>\n",
       "      <th>6</th>\n",
       "      <td>1038116007</td>\n",
       "      <td>MARIAGA BALLESTEROS KEILA MELIZA</td>\n",
       "      <td>keila.mariaga@udea.edu.co</td>\n",
       "      <td>0.0</td>\n",
       "      <td>0</td>\n",
       "    </tr>\n",
       "    <tr>\n",
       "      <th>7</th>\n",
       "      <td>1007112550</td>\n",
       "      <td>MARTINEZ MENDOZA JAIR MIGUEL</td>\n",
       "      <td>jair.mmendoza@udea.edu.co</td>\n",
       "      <td>0.0</td>\n",
       "      <td>0</td>\n",
       "    </tr>\n",
       "    <tr>\n",
       "      <th>8</th>\n",
       "      <td>1038092575</td>\n",
       "      <td>OSORIO ACEVEDO LUIS MARIO</td>\n",
       "      <td>luismario.osorio@udea.edu.co</td>\n",
       "      <td>0.0</td>\n",
       "      <td>0</td>\n",
       "    </tr>\n",
       "    <tr>\n",
       "      <th>9</th>\n",
       "      <td>1038130817</td>\n",
       "      <td>PENATE PENA JHON SEBASTIAN</td>\n",
       "      <td>jhon.penate@udea.edu.co</td>\n",
       "      <td>0.0</td>\n",
       "      <td>0</td>\n",
       "    </tr>\n",
       "    <tr>\n",
       "      <th>10</th>\n",
       "      <td>1019842256</td>\n",
       "      <td>RODELO ZABALA ARIANA</td>\n",
       "      <td>a.rodelo@udea.edu.co</td>\n",
       "      <td>0.0</td>\n",
       "      <td>0</td>\n",
       "    </tr>\n",
       "    <tr>\n",
       "      <th>11</th>\n",
       "      <td>1042822239</td>\n",
       "      <td>RODRIGUEZ MOSQUERA ANGELA MARIA</td>\n",
       "      <td>maria.rodriguez8@udea.edu.co</td>\n",
       "      <td>0.0</td>\n",
       "      <td>0</td>\n",
       "    </tr>\n",
       "    <tr>\n",
       "      <th>12</th>\n",
       "      <td>1038436130</td>\n",
       "      <td>ROHENES DE ARCO CAMILO ANDRES</td>\n",
       "      <td>camilo.rohenes@udea.edu.co</td>\n",
       "      <td>0.0</td>\n",
       "      <td>0</td>\n",
       "    </tr>\n",
       "    <tr>\n",
       "      <th>13</th>\n",
       "      <td>1038436131</td>\n",
       "      <td>ROHENES DE ARCO DIEGO ANDRES</td>\n",
       "      <td>diego.rohenes@udea.edu.co</td>\n",
       "      <td>0.0</td>\n",
       "      <td>0</td>\n",
       "    </tr>\n",
       "    <tr>\n",
       "      <th>14</th>\n",
       "      <td>1032251887</td>\n",
       "      <td>SIERRA OLIVEROS OMAR DARIO</td>\n",
       "      <td>omar.sierra1@udea.edu.co</td>\n",
       "      <td>0.0</td>\n",
       "      <td>0</td>\n",
       "    </tr>\n",
       "    <tr>\n",
       "      <th>15</th>\n",
       "      <td>1038646944</td>\n",
       "      <td>SILVA URDA FABIAN</td>\n",
       "      <td>fabian.silva1@udea.edu.co</td>\n",
       "      <td>0.0</td>\n",
       "      <td>0</td>\n",
       "    </tr>\n",
       "    <tr>\n",
       "      <th>16</th>\n",
       "      <td>1007429411</td>\n",
       "      <td>VILLA CABARCA SANDY JANETH</td>\n",
       "      <td>sandy.villac@udea.edu.co</td>\n",
       "      <td>0.0</td>\n",
       "      <td>0</td>\n",
       "    </tr>\n",
       "  </tbody>\n",
       "</table>\n",
       "</div>"
      ],
      "text/plain": [
       "        Cedula                            Nombre  \\\n",
       "0   1067281024        ALVAREZ GOEZ DAIRO ESTEBAN   \n",
       "1   1041086439     CASTILLO SIERRA SHIRLIS SARAY   \n",
       "2   1045419649  ESPINOSA ESPINOSA LILIANA ANDREA   \n",
       "3   1040494191           GARCIA PADILLA JHONATAN   \n",
       "4   1038098851               GUERRA OSORIO SIMON   \n",
       "5   1038131529        HOYOS ARRIETA ELIECER JOSE   \n",
       "6   1038116007  MARIAGA BALLESTEROS KEILA MELIZA   \n",
       "7   1007112550      MARTINEZ MENDOZA JAIR MIGUEL   \n",
       "8   1038092575         OSORIO ACEVEDO LUIS MARIO   \n",
       "9   1038130817        PENATE PENA JHON SEBASTIAN   \n",
       "10  1019842256              RODELO ZABALA ARIANA   \n",
       "11  1042822239   RODRIGUEZ MOSQUERA ANGELA MARIA   \n",
       "12  1038436130     ROHENES DE ARCO CAMILO ANDRES   \n",
       "13  1038436131      ROHENES DE ARCO DIEGO ANDRES   \n",
       "14  1032251887        SIERRA OLIVEROS OMAR DARIO   \n",
       "15  1038646944                 SILVA URDA FABIAN   \n",
       "16  1007429411        VILLA CABARCA SANDY JANETH   \n",
       "\n",
       "                            Email  Parcial  Asistencia  \n",
       "0      dairo.alvarez1@udea.edu.co      0.0           0  \n",
       "1    shirlis.castillo@udea.edu.co      0.0           0  \n",
       "2   lilianaa.espinosa@udea.edu.co      0.0           0  \n",
       "3    jhonatan.garcia1@udea.edu.co      0.0           0  \n",
       "4            s.guerra@udea.edu.co      0.0           0  \n",
       "5         jose.hoyos2@udea.edu.co      0.0           0  \n",
       "6       keila.mariaga@udea.edu.co      0.0           0  \n",
       "7       jair.mmendoza@udea.edu.co      0.0           0  \n",
       "8    luismario.osorio@udea.edu.co      0.0           0  \n",
       "9         jhon.penate@udea.edu.co      0.0           0  \n",
       "10           a.rodelo@udea.edu.co      0.0           0  \n",
       "11   maria.rodriguez8@udea.edu.co      0.0           0  \n",
       "12     camilo.rohenes@udea.edu.co      0.0           0  \n",
       "13      diego.rohenes@udea.edu.co      0.0           0  \n",
       "14       omar.sierra1@udea.edu.co      0.0           0  \n",
       "15      fabian.silva1@udea.edu.co      0.0           0  \n",
       "16       sandy.villac@udea.edu.co      0.0           0  "
      ]
     },
     "execution_count": 19,
     "metadata": {},
     "output_type": "execute_result"
    }
   ],
   "source": [
    "estudiantes.head(17)"
   ]
  },
  {
   "cell_type": "markdown",
   "id": "d7598d0a-d9b7-4ae0-b029-a0ed6ed1130b",
   "metadata": {},
   "source": [
    "\n",
    "# Principios de mi labor docente"
   ]
  },
  {
   "cell_type": "markdown",
   "id": "4f9d8cf9",
   "metadata": {
    "slideshow": {
     "slide_type": "slide"
    }
   },
   "source": [
    "## Modelo general de clase: [aula invertida](https://www3.gobiernodecanarias.org/medusa/ecoescuela/pedagotic/aprendizaje-invertido-flipped-classroom/)"
   ]
  },
  {
   "cell_type": "markdown",
   "id": "eb6ed03a",
   "metadata": {},
   "source": [
    "<img src = 'https://resources.maneuveringthemiddle.com/wp-content/uploads/2020/07/04212706/1-5.png' width = 500>  \n",
    "\n"
   ]
  },
  {
   "cell_type": "markdown",
   "id": "34319cce-a71b-4f64-aab8-b53e521efa40",
   "metadata": {},
   "source": [
    "# Metodología de enseñanza basada en problemas (ABP)\n"
   ]
  },
  {
   "cell_type": "markdown",
   "id": "c4f73d81",
   "metadata": {},
   "source": [
    "\n",
    "<img src = 'https://www.unir.net/wp-content/uploads/2020/07/aprendizaje-problemas2-1-1-1-1.jpeg' width = 500>"
   ]
  },
  {
   "cell_type": "markdown",
   "id": "841a985c-bd9b-4dd3-8e4c-893983980af2",
   "metadata": {},
   "source": [
    "# Desarrollo del pensamiento computacional con Lenguaje R y con archivos R Markdown orientado a la formación en ciencia de datos \n",
    "\n"
   ]
  },
  {
   "cell_type": "markdown",
   "id": "3d0eba94",
   "metadata": {},
   "source": [
    "\n",
    "<img src = 'https://i.ytimg.com/vi/mcG_wcR4e6M/maxresdefault.jpg' width = 200>"
   ]
  },
  {
   "cell_type": "markdown",
   "id": "65aa0404-f7ae-495e-864c-1aec01b4255e",
   "metadata": {},
   "source": [
    "# Principio de fomento a la ciencia abierta, enseñar en el acceso a los datos públicos y el uso de software de código abierto  \n"
   ]
  },
  {
   "cell_type": "markdown",
   "id": "18ae9b87",
   "metadata": {},
   "source": [
    "\n",
    "<img src = 'https://unesdoc.unesco.org/in/rest/Thumb/image?id=p%3A%3Ausmarcdef_0000379949_spa&author=UNESCO&title=Recomendaci%C3%B3n+de+la+UNESCO+sobre+la+Ciencia+Abierta&year=2021&publisher=UNESCO&TypeOfDocument=UnescoPhysicalDocument&mat=PGD&ct=true&size=512&isPhysical=1' width = 200>"
   ]
  },
  {
   "cell_type": "markdown",
   "id": "d9559f85",
   "metadata": {},
   "source": [
    "El enfoque STEAMS en educación preescolar, primaria y secundaria es una extensión del enfoque STEM (Ciencia, Tecnología, Ingeniería y Matemáticas) y su variante STEAM, que incorpora el Arte. "
   ]
  },
  {
   "cell_type": "markdown",
   "id": "72e1cfd2",
   "metadata": {},
   "source": [
    "El acrónimo STEAMS incluye:\n"
   ]
  },
  {
   "cell_type": "markdown",
   "id": "03182fd1",
   "metadata": {},
   "source": [
    "\n",
    "1. **Science (Ciencia):** Fomenta la curiosidad por el mundo natural y el desarrollo de habilidades científicas, como la observación, experimentación y análisis.\n"
   ]
  },
  {
   "cell_type": "markdown",
   "id": "1306d0fa",
   "metadata": {},
   "source": [
    "\n",
    "2. **Technology (Tecnología):** Integra herramientas tecnológicas para potenciar el aprendizaje y la resolución de problemas, promoviendo la alfabetización digital desde edades tempranas.\n"
   ]
  },
  {
   "cell_type": "markdown",
   "id": "3b1a53e8",
   "metadata": {},
   "source": [
    "\n",
    "3. **Engineering (Ingeniería):** Introduce el pensamiento lógico y la resolución de problemas estructurados, fomentando habilidades como el diseño y la construcción de soluciones.\n"
   ]
  },
  {
   "cell_type": "markdown",
   "id": "0196de87",
   "metadata": {},
   "source": [
    "\n",
    "4. **Arts (Arte):** Añade creatividad y pensamiento crítico, permitiendo a los estudiantes expresarse y explorar el aprendizaje a través de formas artísticas (plásticas, música, teatro).\n"
   ]
  },
  {
   "cell_type": "markdown",
   "id": "8bcc485a",
   "metadata": {},
   "source": [
    "\n",
    "5. **Mathematics (Matemáticas):** Refuerza las habilidades numéricas y el razonamiento lógico, fundamentales en la resolución de problemas y comprensión de conceptos abstractos.\n"
   ]
  },
  {
   "cell_type": "markdown",
   "id": "907935f4",
   "metadata": {},
   "source": [
    "\n",
    "6. **Social Sciences (Ciencias Sociales):** Incorpora la comprensión del entorno social, político, cultural y económico, promoviendo el desarrollo de la conciencia crítica sobre el mundo y su historia, además de habilidades de empatía y ciudadanía.\n"
   ]
  },
  {
   "cell_type": "markdown",
   "id": "39967d63",
   "metadata": {},
   "source": [
    "\n",
    "El enfoque STEAMS pretende desarrollar un aprendizaje **interdisciplinario** que integre estas áreas para fomentar un pensamiento más holístico y práctico. "
   ]
  },
  {
   "cell_type": "markdown",
   "id": "5145f077",
   "metadata": {},
   "source": [
    "Se busca que los estudiantes no solo aprendan conocimientos técnicos, sino también cómo aplicarlos creativa y críticamente en situaciones reales, promoviendo habilidades como el trabajo en equipo, la comunicación y la innovación. "
   ]
  },
  {
   "cell_type": "markdown",
   "id": "9d556584",
   "metadata": {},
   "source": [
    "En educación preescolar, primaria, secundaria y superior, se adapta a las diferentes etapas de desarrollo cognitivo y emocional de los estudiantes, promoviendo el aprendizaje activo y contextualizado.  \n"
   ]
  },
  {
   "cell_type": "markdown",
   "id": "0130ec1b",
   "metadata": {},
   "source": [
    "\n",
    "<img src = 'https://www.campuseducacion.com/blog/wp-content/uploads/2023/03/foto01-1.jpg' width = 200>"
   ]
  },
  {
   "cell_type": "markdown",
   "id": "9d15c10d-2c02-4158-9419-b1ed79b4c1ee",
   "metadata": {},
   "source": [
    "# Qué estamos haciendo por la internalización en esta clase y este curso  \n"
   ]
  },
  {
   "cell_type": "markdown",
   "id": "6e4feef2",
   "metadata": {},
   "source": [
    "Estas son mis acciones como docente de matemáticas en la Universidad de Antioquia con miras a la **internacionalización** de mi práctica docente y el desarrollo de competencias internacionales para mis estudiantes, ls cuales he estructurado con el siguiente enfoque:\n"
   ]
  },
  {
   "cell_type": "markdown",
   "id": "964d9de7-53ee-4255-9bcd-d8e6454f2993",
   "metadata": {},
   "source": [
    "### 1. **Visión Global en la Formación Académica**\n"
   ]
  },
  {
   "cell_type": "markdown",
   "id": "d9bdd3e2",
   "metadata": {},
   "source": [
    "   - **Competencias Internacionales**: Asegúrate de que el contenido de tus cursos fomente habilidades que sean reconocidas globalmente. "
   ]
  },
  {
   "cell_type": "markdown",
   "id": "74984bb5",
   "metadata": {},
   "source": [
    "Al educar a los estudiantes en **Python, LaTeX, Markdown y Jupyter Notebooks** y en la **introducción a la ciencia de datos y técnicas de Machine Learning**, estás proporcionando competencias altamente demandadas en los sectores tecnológicos y académicos a nivel internacional.\n"
   ]
  },
  {
   "cell_type": "markdown",
   "id": "39b55206",
   "metadata": {},
   "source": [
    "   - **Relevancia de los Contenidos**: Destaca cómo los temas que enseñas, como el **desarrollo del pensamiento computacional** y la **ciencia de datos**, están alineados con las necesidades globales actuales en diversas industrias, desde la tecnología hasta las ciencias naturales y sociales.\n"
   ]
  },
  {
   "cell_type": "markdown",
   "id": "a054599e",
   "metadata": {},
   "source": [
    "   - **Referencias a Estándares Internacionales**: Puedes vincular tu enseñanza a estándares internacionales de competencias en programación y ciencia de datos (por ejemplo, frameworks del **IEEE, ACM**, y estándares de la **data science** o la **computación en la nube**)."
   ]
  },
  {
   "cell_type": "markdown",
   "id": "0f1d110c-3142-48fe-9e7d-5fbd9e8bb931",
   "metadata": {},
   "source": [
    "### 2. **Innovación Pedagógica con Enfoque Internacional**\n"
   ]
  },
  {
   "cell_type": "markdown",
   "id": "fae6ae34",
   "metadata": {},
   "source": [
    "   - **Aula Invertida y ABP**: Presenta cómo tu enfoque de **aula invertida** y **aprendizaje basado en problemas (ABP)** permite a los estudiantes trabajar de manera autónoma y colaborativa, lo que los prepara para escenarios laborales internacionales que requieren autoaprendizaje y habilidades de resolución de problemas en equipo.\n"
   ]
  },
  {
   "cell_type": "markdown",
   "id": "c83062d9",
   "metadata": {},
   "source": [
    "   - **Uso de Jupyter Notebooks**: El uso de **Jupyter Notebooks** en tus clases no solo facilita la **integración de código, matemáticas y texto**, sino que también es una plataforma utilizada globalmente en ambientes académicos y profesionales, lo que hace a tus estudiantes más competitivos internacionalmente."
   ]
  },
  {
   "cell_type": "markdown",
   "id": "960d52b7-03cd-4eb3-965e-5cdfeb7d9f8e",
   "metadata": {},
   "source": [
    "### 3. **Tecnología y Herramientas de Uso Global**\n"
   ]
  },
  {
   "cell_type": "markdown",
   "id": "4be7269f",
   "metadata": {},
   "source": [
    "   - **Lenguaje Python**: Python es uno de los lenguajes de programación más usados a nivel mundial, tanto en la academia como en la industria. Al formar a tus estudiantes en Python para ciencia de datos y machine learning, los preparas para operar en entornos tecnológicos globales.\n"
   ]
  },
  {
   "cell_type": "markdown",
   "id": "102655af",
   "metadata": {},
   "source": [
    "   - **Herramientas de Ciencia Abierta**: Resalta cómo herramientas como **GitHub**, **Google Colab** y otras plataformas de código abierto están alineadas con el movimiento de **ciencia abierta**, el cual es internacionalmente reconocido y permite que los estudiantes colaboren y compartan proyectos a nivel global."
   ]
  },
  {
   "cell_type": "markdown",
   "id": "3b2ffa32-7a6f-4545-ba7b-c6a69f51109f",
   "metadata": {},
   "source": [
    "### 4. **Investigación y Publicaciones Internacionales**\n"
   ]
  },
  {
   "cell_type": "markdown",
   "id": "bdbf52a5",
   "metadata": {},
   "source": [
    "   - **Promoción de la Investigación**: Detalla cómo promueves que tus estudiantes participen en proyectos de **investigación aplicada**, con posibilidad de publicación en revistas internacionales. Esto contribuye a la reputación internacional de la Universidad de Antioquia.\n"
   ]
  },
  {
   "cell_type": "markdown",
   "id": "ea01fcbc",
   "metadata": {},
   "source": [
    "   - **Colaboraciones Internacionales**: Si has colaborado con investigadores de otras instituciones o universidades en el extranjero, menciona estos proyectos y cómo han enriquecido tu enseñanza y proporcionado a los estudiantes una visión más globalizada."
   ]
  },
  {
   "cell_type": "markdown",
   "id": "5d1e396e-aece-4bf7-9421-32fa7809eaf4",
   "metadata": {},
   "source": [
    "## 5. **Uso del Inglés para la Internacionalización**\n"
   ]
  },
  {
   "cell_type": "markdown",
   "id": "29cabf26",
   "metadata": {},
   "source": [
    "   - **Comunicación Científica en Inglés**: "
   ]
  },
  {
   "cell_type": "markdown",
   "id": "8ec53ff3",
   "metadata": {},
   "source": [
    "Fomentar el aprendizaje del inglés como lengua científica es clave para que tus estudiantes puedan acceder a publicaciones internacionales, conferencias, y material académico que no está disponible en español. Esto es esencial para que adquieran competencias que les permitan desempeñarse en cualquier contexto internacional.\n"
   ]
  },
  {
   "cell_type": "markdown",
   "id": "b831224f",
   "metadata": {},
   "source": [
    "   - **Material Bilingüe**: Al generar material educativo en Python, LaTeX y Markdown, considera ofrecer algunos de estos recursos en inglés, para que los estudiantes se familiaricen con el vocabulario técnico y científico internacional."
   ]
  },
  {
   "cell_type": "markdown",
   "id": "c6a8c3b0-426a-4692-a384-3065aea81c9a",
   "metadata": {},
   "source": [
    "### 6. **Certificaciones y Estándares Internacionales**\n"
   ]
  },
  {
   "cell_type": "markdown",
   "id": "b1f41da5",
   "metadata": {},
   "source": [
    "   - **Participación en Certificaciones Internacionales**: Impulsa que los estudiantes busquen certificaciones internacionales en Python o ciencia de datos (como las ofrecidas por **Coursera, edX,** o **Google**). Estas certificaciones no solo validan sus competencias, sino que también incrementan el reconocimiento de la Universidad de Antioquia en el contexto internacional.\n"
   ]
  },
  {
   "cell_type": "markdown",
   "id": "7cc66317",
   "metadata": {},
   "source": [
    "   - **Alineación con Acreditaciones Internacionales**: Vincula tu trabajo docente con los estándares de acreditación y certificación que garantizan que la universidad siga siendo reconocida internacionalmente. Puedes vincularte con organizaciones internacionales que promuevan la excelencia en la educación y tecnología, como **ABET** para la acreditación en ingeniería y ciencias computacionales."
   ]
  },
  {
   "cell_type": "markdown",
   "id": "65d3d9e1-ea84-43e0-8197-a2a9c9e21594",
   "metadata": {},
   "source": [
    "### 7. **Proyectos Abiertos y Ciencia Reproducible**\n"
   ]
  },
  {
   "cell_type": "markdown",
   "id": "f03f7b20",
   "metadata": {},
   "source": [
    "   - **GitHub y Open Science**: La utilización de **GitHub** para almacenar los proyectos y materiales de enseñanza en repositorios públicos permite que otros investigadores y educadores internacionales puedan revisar y replicar tu trabajo. Esto contribuye a la creación de una red de colaboración científica abierta.\n"
   ]
  },
  {
   "cell_type": "markdown",
   "id": "44fc92f6",
   "metadata": {},
   "source": [
    "   - **Transparencia y Reproducibilidad**: La ciencia de datos y machine learning están profundamente ligados a la reproducibilidad. Asegura que tus estudiantes desarrollen prácticas de transparencia y documentación en la investigación, que son pilares en la comunidad científica global.\n"
   ]
  },
  {
   "cell_type": "markdown",
   "id": "215cb551",
   "metadata": {},
   "source": [
    "\n",
    "### 8. **Participación en Redes y Conferencias Internacionales**\n"
   ]
  },
  {
   "cell_type": "markdown",
   "id": "47828cba",
   "metadata": {},
   "source": [
    "   - **Presentación en Conferencias Internacionales**: Destaca cómo tu participación en conferencias internacionales (como la **ASCOLFA** o eventos sobre educación en matemáticas) contribuye al prestigio de la universidad y permite que tus prácticas sean evaluadas y reconocidas a nivel global.\n"
   ]
  },
  {
   "cell_type": "markdown",
   "id": "cdf46e29",
   "metadata": {},
   "source": [
    "   - **Promoción de Estudiantes en Eventos Internacionales**: Impulsa la participación de tus estudiantes en competiciones internacionales de programación o hackathons, como los organizados por **Google**, **ACM** o **Kaggle**. Esto no solo desarrolla sus habilidades, sino que también visibiliza el talento de la Universidad de Antioquia a nivel global.\n",
    "\n",
    "---"
   ]
  },
  {
   "cell_type": "markdown",
   "id": "233294a4-1983-4641-a7ad-866825e02315",
   "metadata": {},
   "source": [
    "Con esta estrategia, presento mis acciones docentes en términos de competencias internacionales, innovación pedagógica, tecnología, investigación y participación en redes globales, asegurando que mi práctica esté alineada con los estándares internacionales y que tus estudiantes estén preparados para competir en contextos internacionales."
   ]
  },
  {
   "cell_type": "markdown",
   "id": "77da458b",
   "metadata": {},
   "source": [
    "### **Metodología de Enseñanza: Aprendizaje Basado en Problemas y Proyectos (ABPP)**\n"
   ]
  },
  {
   "cell_type": "markdown",
   "id": "c943d273",
   "metadata": {},
   "source": [
    "\n",
    "El **Aprendizaje Basado en Problemas y Proyectos (ABPP)** es una metodología educativa que integra los enfoques del **Aprendizaje Basado en Problemas (ABP)** y el **Aprendizaje Basado en Proyectos (PBL, por sus siglas en inglés)**. "
   ]
  },
  {
   "cell_type": "markdown",
   "id": "662c202f",
   "metadata": {},
   "source": [
    "Es especialmente útil para la formación de futuros docentes, ingenieros y administradores, ya que combina el desarrollo de habilidades prácticas con el pensamiento crítico y reflexivo. "
   ]
  },
  {
   "cell_type": "markdown",
   "id": "2f3535f3",
   "metadata": {},
   "source": [
    "A continuación, se presenta una descripción adaptada a la enseñanza de las matemáticas en educación infantil, Licenciatura en Matemáticas, Ingeniería Agropecuaria y Administración de Empresas:\n",
    "\n",
    "---\n"
   ]
  },
  {
   "cell_type": "markdown",
   "id": "0eeba3f5",
   "metadata": {},
   "source": [
    "\n",
    "### **1. Fundamentos del ABPP**\n"
   ]
  },
  {
   "cell_type": "markdown",
   "id": "43a21c0b",
   "metadata": {},
   "source": [
    "El ABPP se basa en:\n",
    "- **Resolución de Problemas Reales:** Los estudiantes analizan y resuelven problemas auténticos relacionados con su área de formación, fomentando la aplicación práctica del conocimiento.\n"
   ]
  },
  {
   "cell_type": "markdown",
   "id": "a3b3aec8",
   "metadata": {},
   "source": [
    "- **Proyectos como Herramientas Integradoras:** Los proyectos permiten desarrollar habilidades interdisciplinarias y ofrecer soluciones concretas a los problemas planteados.\n"
   ]
  },
  {
   "cell_type": "markdown",
   "id": "c7613fdb",
   "metadata": {},
   "source": [
    "- **Aprendizaje Activo:** Los estudiantes son responsables de su aprendizaje y participan activamente en el proceso de investigación, diseño y solución.\n",
    "\n",
    "---\n"
   ]
  },
  {
   "cell_type": "markdown",
   "id": "3728d010",
   "metadata": {},
   "source": [
    "\n",
    "### **2. Aplicación del ABPP en Áreas Específicas**\n"
   ]
  },
  {
   "cell_type": "markdown",
   "id": "411f3dc8",
   "metadata": {},
   "source": [
    "\n",
    "#### **Educación Infantil (Licenciatura en Educación Infantil)**\n",
    "- **Enfoque:** Desarrollo del pensamiento matemático en la infancia desde contextos lúdicos, familiares y culturales.\n",
    "- **Problemas típicos:** \n",
    "  - ¿Cómo enseñar los números naturales mediante actividades prácticas y juegos?\n",
    "  - ¿Qué estrategias pueden emplearse para abordar el concepto de cantidad en edades tempranas?\n",
    "- **Proyectos:** Diseño de secuencias didácticas que usen Python, Jupyter Notebooks y materiales manipulativos para enseñar matemáticas de forma interactiva.\n",
    "- **Competencias desarrolladas:** \n",
    "  - Uso de herramientas tecnológicas para diseñar actividades educativas.\n",
    "  - Comprensión del desarrollo cognitivo infantil y su relación con las matemáticas.\n"
   ]
  },
  {
   "cell_type": "markdown",
   "id": "481f614a",
   "metadata": {},
   "source": [
    "\n",
    "#### **Licenciatura en Matemáticas**\n",
    "- **Enfoque:** Resolución de problemas matemáticos aplicados y profundización teórica en áreas como análisis matemático y modelado.\n"
   ]
  },
  {
   "cell_type": "markdown",
   "id": "4fe27fb8",
   "metadata": {},
   "source": [
    "- **Problemas típicos:**\n",
    "  - ¿Cómo se pueden resolver ecuaciones diferenciales aplicadas a modelos físicos o económicos?\n",
    "  - ¿Cómo modelar fenómenos naturales mediante funciones matemáticas?\n"
   ]
  },
  {
   "cell_type": "markdown",
   "id": "56002488",
   "metadata": {},
   "source": [
    "- **Proyectos:** \n",
    "  - Desarrollo de software educativo para explorar conceptos matemáticos.\n",
    "  - Aplicación de modelado matemático para resolver problemas reales en otras disciplinas.\n",
    "- **Competencias desarrolladas:**\n",
    "  - Dominio de la matemática teórica y aplicada.\n",
    "  - Uso de tecnología para la enseñanza y la investigación.\n"
   ]
  },
  {
   "cell_type": "markdown",
   "id": "83ab236f",
   "metadata": {},
   "source": [
    "\n",
    "#### **Ingeniería Agropecuaria**\n",
    "- **Enfoque:** Modelado matemático y análisis de datos para mejorar la producción agrícola y la gestión de recursos.\n"
   ]
  },
  {
   "cell_type": "markdown",
   "id": "beb9ba0e",
   "metadata": {},
   "source": [
    "- **Problemas típicos:**\n",
    "  - ¿Cómo modelar el crecimiento de cultivos considerando variables climáticas?\n",
    "  - ¿Cómo optimizar el uso del agua en sistemas de riego mediante análisis matemático?\n",
    "- **Proyectos:** \n",
    "  - Desarrollo de modelos predictivos con Python y bibliotecas de aprendizaje automático.\n",
    "  - Implementación de proyectos que combinen matemáticas y ciencias de datos para resolver problemas agrícolas.\n",
    "- **Competencias desarrolladas:**\n",
    "  - Integración de matemáticas con tecnologías avanzadas.\n",
    "  - Resolución de problemas agropecuarios mediante análisis y modelado.\n"
   ]
  },
  {
   "cell_type": "markdown",
   "id": "c4519bb3",
   "metadata": {},
   "source": [
    "\n",
    "#### **Administración de Empresas**\n"
   ]
  },
  {
   "cell_type": "markdown",
   "id": "d63225b7",
   "metadata": {},
   "source": [
    "- **Enfoque:** Uso de las matemáticas y la ciencia de datos para la toma de decisiones estratégicas.\n",
    "- **Problemas típicos:**\n",
    "  - ¿Cómo identificar patrones de comportamiento del consumidor usando series de tiempo?\n",
    "  - ¿Qué estrategias matemáticas pueden optimizar la asignación de recursos en una empresa?\n"
   ]
  },
  {
   "cell_type": "markdown",
   "id": "48c56234",
   "metadata": {},
   "source": [
    "- **Proyectos:** \n",
    "  - Implementación de modelos de análisis financiero y simulaciones.\n",
    "  - Desarrollo de dashboards interactivos para la gestión de datos empresariales.\n",
    "- **Competencias desarrolladas:**\n",
    "  - Habilidad para interpretar datos matemáticos en contextos de negocio.\n",
    "  - Capacidad para diseñar soluciones basadas en datos.\n",
    "\n",
    "---\n"
   ]
  },
  {
   "cell_type": "markdown",
   "id": "19be58d4",
   "metadata": {},
   "source": [
    "\n",
    "### **3. Beneficios del ABPP**\n"
   ]
  },
  {
   "cell_type": "markdown",
   "id": "585e8739",
   "metadata": {},
   "source": [
    "- **Desarrollo de competencias clave:**\n",
    "  - Pensamiento crítico y creativo.\n",
    "  - Trabajo colaborativo.\n",
    "  - Comunicación efectiva.\n",
    "  - Uso de herramientas tecnológicas avanzadas.\n",
    "- **Adaptación al contexto laboral:** Los estudiantes aprenden a enfrentar desafíos del mundo real y a diseñar soluciones prácticas y aplicables.\n",
    "- **Flexibilidad e interdisciplinariedad:** La metodología se adapta a diversas áreas, fomentando el aprendizaje integrado.\n",
    "\n",
    "---\n"
   ]
  },
  {
   "cell_type": "markdown",
   "id": "e36034c3",
   "metadata": {},
   "source": [
    "\n",
    "### **4. Ejemplo General de Implementación**\n"
   ]
  },
  {
   "cell_type": "markdown",
   "id": "20fadf1c",
   "metadata": {},
   "source": [
    "1. **Identificación del problema:** Se plantea un desafío concreto, como modelar el crecimiento poblacional de una comunidad rural (Ingeniería Agropecuaria) o diseñar una estrategia para enseñar fracciones a niños de 8 años (Educación Infantil).\n",
    "2. **Formación de equipos:** Los estudiantes trabajan en grupos, distribuyendo roles y tareas.\n",
    "3. **Investigación y diseño:** Los estudiantes investigan el problema, proponen soluciones y diseñan un proyecto.\n",
    "4. **Implementación:** Se desarrolla el proyecto, como una herramienta tecnológica o una propuesta pedagógica.\n",
    "5. **Evaluación:** Los estudiantes presentan sus resultados en un informe o una exposición, recibiendo retroalimentación de sus compañeros y docentes.\n",
    "\n",
    "---\n",
    "\n",
    "El ABPP es una metodología versátil que conecta el conocimiento teórico con la práctica, preparando a los estudiantes para los retos de sus profesiones en la enseñanza de la matemática, la ingeniería y la administración."
   ]
  },
  {
   "cell_type": "markdown",
   "id": "8d97dc80",
   "metadata": {
    "slideshow": {
     "slide_type": "slide"
    }
   },
   "source": [
    "## Fomento de la lectura literaria asociada a Ingeniería agropecuaria y licenciatura en Matemáticas\n",
    "\n",
    "[Aprender a obtener el sí sin ceder]()"
   ]
  },
  {
   "cell_type": "markdown",
   "id": "96775931",
   "metadata": {
    "slideshow": {
     "slide_type": "slide"
    }
   },
   "source": [
    "## Título de la clase: Operaciones Lógicas   \n",
    "\n",
    "[]()"
   ]
  },
  {
   "cell_type": "markdown",
   "id": "10e55ccf",
   "metadata": {},
   "source": [
    "# Estructura general para todas las clases\n",
    "\n",
    "Dame, por favor, un diseño de clase, con el enfoque: STEAMS y de Aprendizaje Basado en Problemas y Proyectos(ABPP) sobre: **\"Operaciones Lógicas\"**, siguiendo la estructura: \n",
    "1. Título de la clase \n",
    "2. Objetivos de aprendizaje e indicadores del logro de estos oobjetivos. \n",
    "3. Mapa conceptual elaborado con graphviz de python y de nodos y edges de doversas formas, colores y relleno y renderizado en la unicación: `\"C:\\Users\\marco\\Descargas\"`\n",
    "4. Contenido de la clase  \n",
    "5. Incluye una canción o un poema que ayude a interiorizar y fijar los conceptos asociados a esta clase.\n",
    "6. Dame elementos históricos y epistemológicos asociados a esta clase. \n",
    "7. Actividades de aprendizaje\n",
    "8. Tarea o actividades de ejercitación y fijación  \n",
    "9. Evaluación incluyendo diez proyectos, un ejemplo de quiz y un ejemplo de parcial\n",
    "10. Diseño de actividad de retroalimentación. \n",
    "11. Dame un vocabulario y frases del idioma inglés asociadas a esta clase.     \n",
    "\n",
    "\n",
    "\n",
    "Pero  que este diseño sea para que el estudiante pueda aprender experimentando en cuadernos Jupyter con funciones de usuario y animaciones y visualizaciones en python. En particular utiliza para el diseño de clase a Numpy, Pandas, SymPy, Matplotlib.pyplot, Seaborn, Plotly, ipywidgets,,, matplotlib.animation y Jupyter Notebook."
   ]
  },
  {
   "cell_type": "markdown",
   "id": "b3b1ec6b",
   "metadata": {},
   "source": []
  },
  {
   "cell_type": "markdown",
   "id": "673ed633",
   "metadata": {},
   "source": []
  },
  {
   "cell_type": "markdown",
   "id": "f6e89294",
   "metadata": {},
   "source": []
  },
  {
   "cell_type": "markdown",
   "id": "239427f7",
   "metadata": {},
   "source": [
    "# ARTÍCULO 1. Definir el calendario académico para los diferentes programas de pregrado de los campus\n",
    "regionalizados, correspondiente al primer periodo académico del año 2025, así:\n",
    "* Oferta 28 de enero de 2025\n",
    "* Matrícula 30 de enero de 2025\n",
    "* Ajustes 03 al 10 de febrero de 2025\n",
    "* Inicio de clases 10 de febrero de 2025\n",
    "* Límite evaluación del 40% 06 de abril de 2025\n",
    "* Terminación de clases 08 de junio de 2025\n",
    "* Exámenes finales 09 al 15 de junio de 2025\n",
    "* Habilitación y validación 16 al 22 de junio de 2025\n",
    "* Terminación oficial 23 de junio de 2025"
   ]
  },
  {
   "cell_type": "markdown",
   "id": "ec048afb",
   "metadata": {},
   "source": [
    "# Estructura de la clase   \n",
    "\n",
    "**1. Título de la clase**\n",
    "**\"Operaciones Lógicas: Explorando la Lógica con Python y Jupyter\"**\n",
    "\n",
    "---\n",
    "\n",
    "**2. Objetivos de Aprendizaje e Indicadores de Logro**\n",
    "\n",
    "**Objetivos de Aprendizaje:**\n",
    "- Comprender los principios básicos de las operaciones lógicas.\n",
    "- Explorar la representación de valores lógicos en Python, hojas de cálculo (Excel, Sheet, GeoGebra, WolframAlpha).\n",
    "- Implementar funciones en Python para operar con expresiones lógicas.\n",
    "- Visualizar y animar operaciones lógicas en Jupyter Notebooks.\n",
    "\n",
    "**Indicadores de Logro:**\n",
    "- Identifica correctamente los operadores lógicos: AND, OR, NOT, implies, equivalente.\n",
    "- Implementa operaciones lógicas en Python usando NumPy y SymPy, Excel, GeoGebra, WolframAlpha y en el cuaderno.\n",
    "- Representa visualmente los resultados con Matplotlib y Seaborn.\n",
    "- Desarrolla animaciones que expliquen procesos lógicos con matplotlib.animation (GeoGebra).\n",
    "\n",
    "---\n",
    "\n",
    "**3. Mapa Conceptual**\n",
    "\n",
    "El siguiente código de Python genera el mapa conceptual y lo guarda en `C:\\Users\\marco\\Descargas`:\n"
   ]
  },
  {
   "cell_type": "code",
   "execution_count": 3,
   "id": "c12229fe",
   "metadata": {},
   "outputs": [
    {
     "data": {
      "text/plain": [
       "'C:\\\\Users\\\\marco\\\\Descargas\\\\operaciones_logicas.png'"
      ]
     },
     "execution_count": 3,
     "metadata": {},
     "output_type": "execute_result"
    }
   ],
   "source": [
    "\n",
    "from graphviz import Digraph\n",
    "\n",
    "dot = Digraph(comment='Operaciones Lógicas')\n",
    "\n",
    "dot.node('A', 'Operaciones Lógicas', shape='box', style='filled', fillcolor='lightblue')\n",
    "dot.node('B', 'AND', shape='ellipse', style='filled', fillcolor='lightgreen')\n",
    "dot.node('C', 'OR', shape='ellipse', style='filled', fillcolor='yellow')\n",
    "dot.node('D', 'NOT', shape='ellipse', style='filled', fillcolor='red')\n",
    "dot.node('E', 'Tablas de Verdad', shape='parallelogram', style='filled', fillcolor='lightgray')\n",
    "\n",
    "dot.edge('A', 'B')\n",
    "dot.edge('A', 'C')\n",
    "dot.edge('A', 'D')\n",
    "dot.edge('B', 'E')\n",
    "dot.edge('C', 'E')\n",
    "dot.edge('D', 'E')\n",
    "\n",
    "dot.render('C:\\\\Users\\\\marco\\\\Descargas\\\\operaciones_logicas', format='png', view = True)\n",
    "\n"
   ]
  },
  {
   "cell_type": "markdown",
   "id": "10e4e2f9",
   "metadata": {},
   "source": [
    "\n",
    "---\n",
    "\n",
    "**4. Contenido de la Clase**\n",
    "1. Introducción a las operaciones lógicas.\n",
    "2. Tablas de verdad y su representación.\n",
    "3. Operadores lógicos en Python con NumPy y SymPy, Excel.\n",
    "4. Visualización de las operaciones lógicas.\n",
    "5. Animaciones en Python con matplotlib.animation.\n",
    "6. Aplicaciones de las operaciones lógicas en el mundo real.\n",
    "\n",
    "---\n"
   ]
  },
  {
   "cell_type": "markdown",
   "id": "dc274b48",
   "metadata": {},
   "source": [
    "\n",
    "**5. Cancion o Poema**\n",
    "\n",
    "_(Melodía: \"Estrellita, dónde estás\")_\n",
    "\n",
    "```markdown\n",
    "AND es \"y\", OR es \"o\",\n",
    "NOT invierte, ya lo veo yo.\n",
    "Si los dos son uno, AND será,\n",
    "Si hay un uno, OR dirá.\n",
    "Lógica en Python voy a usar,\n",
    "Para aprender y programar.\n",
    "```\n",
    "\n",
    "---\n",
    "\n",
    "**6. Elementos Históricos y Epistemológicos**\n",
    "- Aristóteles y los inicios de la lógica formal.\n",
    "- George Boole y el álgebra booleana.\n",
    "- Claude Shannon y la aplicación de la lógica a los circuitos digitales.\n",
    "\n",
    "---\n",
    "\n",
    "**7. Actividades de Aprendizaje**\n",
    "- Crear funciones en Python para cada operador lógico.\n",
    "- Generar tablas de verdad automáticamente con Pandas.\n",
    "- Graficar los valores de salida con Seaborn.\n",
    "- Animar la evaluación de expresiones lógicas con matplotlib.animation.\n",
    "\n",
    "---\n",
    "\n",
    "**8. Tarea o Actividades de Ejercitación y Fijación**\n",
    "- Implementar un semáforo lógico en Python.\n",
    "- Simular circuitos digitales con operaciones lógicas.\n",
    "- Resolver ejercicios de lógica proposicional.\n",
    "\n",
    "---\n"
   ]
  },
  {
   "cell_type": "markdown",
   "id": "da561ea5",
   "metadata": {},
   "source": [
    "\n",
    "**9. Evaluación**\n",
    "\n",
    "**Proyectos:**\n",
    "1. Creación de una calculadora de tablas de verdad.\n",
    "2. Implementación de un simulador de circuitos.\n",
    "3. Análisis de datos con operadores lógicos en Pandas.\n",
    "4. Visualización interactiva de compuertas lógicas.\n",
    "5. Desarrollo de una IA básica con operadores lógicos.\n",
    "6. Construcción de reglas lógicas para clasificación de datos.\n",
    "7. Uso de operaciones lógicas en criptografía.\n",
    "8. Modelado de decisiones con álgebra booleana.\n",
    "9. Diseño de un chatbot basado en respuestas lógicas.\n",
    "10. Aplicación de operaciones lógicas en juegos de estrategia.\n"
   ]
  },
  {
   "cell_type": "markdown",
   "id": "d7215107",
   "metadata": {},
   "source": [
    "\n",
    "**Ejemplo de Quiz:**\n",
    "- ¿Cuál es la salida de `True and False`?\n",
    "- ¿Qué operador invierte un valor lógico?\n"
   ]
  },
  {
   "cell_type": "markdown",
   "id": "5c63f2ed",
   "metadata": {},
   "source": [
    "\n",
    "**Ejemplo de Parcial:**\n",
    "- Implementar una función en Python que simule un circuito lógico dado.\n",
    "\n",
    "---\n",
    "\n",
    "**10. Actividad de Retroalimentación**\n",
    "- Retroalimentación interactiva con un Jupyter Notebook que corrija errores de código en vivo.\n",
    "- Comparación de soluciones entre pares.\n",
    "- Reflexión escrita sobre la aplicación de la lógica en la vida diaria.\n",
    "\n",
    "---\n",
    "\n",
    "**11. Vocabulario y Frases en Inglés**\n",
    "\n",
    "| Español       | Inglés        |\n",
    "|--------------|--------------|\n",
    "| Lógica       | Logic        |\n",
    "| AND (Y)      | AND         |\n",
    "| OR (O)       | OR          |\n",
    "| NOT (NO)     | NOT         |\n",
    "| Tabla de Verdad | Truth Table |\n",
    "| Algoritmo    | Algorithm   |\n",
    "| Expresión   | Expression  |\n",
    "\n",
    "**Frases clave:**\n",
    "- \"A logical operation returns a boolean value.\"\n",
    "- \"The NOT operator inverts the value.\"\n",
    "- \"AND returns True if both inputs are True.\"\n",
    "- \"OR returns True if at least one input is True.\"\n",
    "\n",
    "---\n",
    "\n",
    "Este diseño permite a los estudiantes experimentar activamente con operaciones lógicas en Python a través de Jupyter Notebooks, con visualizaciones y animaciones interactivas.\n",
    "\n"
   ]
  },
  {
   "cell_type": "markdown",
   "id": "c804f8d3",
   "metadata": {},
   "source": [
    "# Implementación de la clase  \n",
    "\n",
    "**1. Título de la clase**\n",
    "**\"Operaciones Lógicas: Explorando la Lógica con Python y Jupyter\"**\n",
    "\n",
    "---\n"
   ]
  },
  {
   "cell_type": "markdown",
   "id": "3763d2d1",
   "metadata": {},
   "source": [
    "\n",
    "**2. Objetivos de Aprendizaje e Indicadores de Logro**\n",
    "\n",
    "**Objetivos de Aprendizaje:**\n",
    "- Comprender los principios básicos de las operaciones lógicas.\n",
    "- Explorar la representación de valores lógicos en Python.\n",
    "- Implementar funciones en Python para operar con expresiones lógicas.\n",
    "- Visualizar y animar operaciones lógicas en Jupyter Notebooks.\n",
    "\n",
    "**Indicadores de Logro:**\n",
    "- Identifica correctamente los operadores lógicos: AND, OR, NOT.\n",
    "- Implementa operaciones lógicas en Python usando NumPy y SymPy.\n",
    "- Representa visualmente los resultados con Matplotlib y Seaborn.\n",
    "- Desarrolla animaciones que expliquen procesos lógicos con matplotlib.animation.\n",
    "\n",
    "---\n"
   ]
  },
  {
   "cell_type": "markdown",
   "id": "f8226e88",
   "metadata": {},
   "source": [
    "\n",
    "**3. Mapa Conceptual**\n",
    "\n",
    "El siguiente código de Python genera el mapa conceptual y lo guarda en `C:\\Users\\marco\\Descargas`:\n"
   ]
  },
  {
   "cell_type": "code",
   "execution_count": 10,
   "id": "fef289ab",
   "metadata": {},
   "outputs": [
    {
     "data": {
      "text/plain": [
       "'C:\\\\Users\\\\marco\\\\Descargas\\\\operaciones_logicas.png'"
      ]
     },
     "execution_count": 10,
     "metadata": {},
     "output_type": "execute_result"
    }
   ],
   "source": [
    "\n",
    "from graphviz import Digraph\n",
    "\n",
    "dot = Digraph(comment='Operaciones Lógicas')\n",
    "\n",
    "dot.node('A', 'Operaciones Lógicas', shape='box', style='filled', fillcolor='lightblue')\n",
    "dot.node('B', 'AND', shape='ellipse', style='filled', fillcolor='lightgreen')\n",
    "dot.node('C', 'OR', shape='ellipse', style='filled', fillcolor='yellow')\n",
    "dot.node('D', 'NOT', shape='ellipse', style='filled', fillcolor='red')\n",
    "dot.node('E', 'Tablas de Verdad', shape='parallelogram', style='filled', fillcolor='lightgray')\n",
    "\n",
    "dot.edge('A', 'B')\n",
    "dot.edge('A', 'C')\n",
    "dot.edge('A', 'D')\n",
    "dot.edge('B', 'E')\n",
    "dot.edge('C', 'E')\n",
    "dot.edge('D', 'E')\n",
    "\n",
    "dot.render('C:\\\\Users\\\\marco\\\\Descargas\\\\operaciones_logicas', format='png', view = True)\n",
    "\n"
   ]
  },
  {
   "cell_type": "markdown",
   "id": "d857a0db",
   "metadata": {},
   "source": [
    "\n",
    "---\n"
   ]
  },
  {
   "cell_type": "markdown",
   "id": "665b5f1c",
   "metadata": {},
   "source": [
    "\n",
    "**4. Contenido de la Clase**\n",
    "1. Introducción a las operaciones lógicas.\n",
    "2. Uso de signos de agrupación y prelación de operadores\n",
    "3. Tablas de verdad y su representación.\n",
    "4. Operadores lógicos en Python con NumPy y SymPy, schemdraw.\n",
    "5. Visualización de las operaciones lógicas.\n",
    "6. Animaciones en Python con matplotlib.animation.\n",
    "7. Animaciones con ipywidgets para verificar de manera interactiva que ciertas operaciones lógicas son tautologías. \n",
    "8. Aplicaciones de las operaciones lógicas en el mundo real.\n",
    "\n",
    "---\n"
   ]
  },
  {
   "cell_type": "markdown",
   "id": "7270bb1d",
   "metadata": {},
   "source": [
    "**4. Contenido de la Clase: Operaciones Lógicas**\n"
   ]
  },
  {
   "cell_type": "markdown",
   "id": "dbfb2b46",
   "metadata": {},
   "source": [
    "\n",
    "### 1. Introducción a las operaciones lógicas\n",
    "- Definición de operaciones lógicas.\n",
    "- Conceptos fundamentales: proposiciones, conectores lógicos y valores de verdad.\n",
    "- Aplicaciones en computación y circuitos digitales.\n"
   ]
  },
  {
   "cell_type": "markdown",
   "id": "d8bae6f3",
   "metadata": {},
   "source": [
    "**4. Contenido de la Clase: Operaciones Lógicas**\n",
    "\n",
    "### 1. Introducción a las operaciones lógicas\n",
    "- **Definición de operaciones lógicas:**\n",
    "  - Una operación lógica es un procedimiento que toma una o más proposiciones y devuelve un valor de verdad (Verdadero o Falso).\n",
    "  - Se basan en el álgebra de Boole y son fundamentales en matemáticas y computación.\n",
    "  - Implementación en Python:\n"
   ]
  },
  {
   "cell_type": "code",
   "execution_count": null,
   "id": "c9778dd8",
   "metadata": {},
   "outputs": [
    {
     "name": "stdout",
     "output_type": "stream",
     "text": [
      "False\n"
     ]
    }
   ],
   "source": [
    "def operacion_logica(p, q, operador):\n",
    "    if operador == 'AND':\n",
    "        return p and q\n",
    "    elif operador == 'OR':\n",
    "        return p or q\n",
    "    elif operador == 'NOT':\n",
    "        return not p\n"
   ]
  },
  {
   "cell_type": "code",
   "execution_count": 19,
   "id": "d70e5952",
   "metadata": {},
   "outputs": [
    {
     "data": {
      "text/plain": [
       "False"
      ]
     },
     "execution_count": 19,
     "metadata": {},
     "output_type": "execute_result"
    }
   ],
   "source": [
    "True and False  "
   ]
  },
  {
   "cell_type": "code",
   "execution_count": 17,
   "id": "6aa866aa",
   "metadata": {},
   "outputs": [
    {
     "data": {
      "text/plain": [
       "False"
      ]
     },
     "execution_count": 17,
     "metadata": {},
     "output_type": "execute_result"
    }
   ],
   "source": [
    "operacion_logica(False, False, 'OR')  # Salida: False\n",
    "\n"
   ]
  },
  {
   "cell_type": "markdown",
   "id": "fd586338",
   "metadata": {},
   "source": [
    "\n",
    "- **Conceptos fundamentales: proposiciones, conectores lógicos y valores de verdad**\n",
    "  - **Proposiciones:** Expresiones que pueden ser verdaderas o falsas.\n"
   ]
  },
  {
   "cell_type": "markdown",
   "id": "7c31007b",
   "metadata": {},
   "source": [
    "  - **Conectores lógicos:** Operadores como `AND`, `OR`, `NOT`, `XOR`, `IMPLIES`, `EQUVALENT`, .\n",
    "  - **Valores de verdad:** `True` o `False` en Python.\n"
   ]
  },
  {
   "cell_type": "markdown",
   "id": "c7022b9c",
   "metadata": {},
   "source": [
    "  - Generación de tablas de verdad con Pandas:\n"
   ]
  },
  {
   "cell_type": "code",
   "execution_count": 20,
   "id": "79e1db7d",
   "metadata": {},
   "outputs": [
    {
     "data": {
      "application/vnd.microsoft.datawrangler.viewer.v0+json": {
       "columns": [
        {
         "name": "index",
         "rawType": "int64",
         "type": "integer"
        },
        {
         "name": "p",
         "rawType": "bool",
         "type": "boolean"
        },
        {
         "name": "q",
         "rawType": "bool",
         "type": "boolean"
        },
        {
         "name": "p AND q",
         "rawType": "bool",
         "type": "boolean"
        }
       ],
       "conversionMethod": "pd.DataFrame",
       "ref": "bff83996-b685-4a87-88e0-5dfe4ddb7fff",
       "rows": [
        [
         "0",
         "True",
         "True",
         "True"
        ],
        [
         "1",
         "True",
         "False",
         "False"
        ],
        [
         "2",
         "False",
         "True",
         "False"
        ],
        [
         "3",
         "False",
         "False",
         "False"
        ]
       ],
       "shape": {
        "columns": 3,
        "rows": 4
       }
      },
      "text/html": [
       "<div>\n",
       "<style scoped>\n",
       "    .dataframe tbody tr th:only-of-type {\n",
       "        vertical-align: middle;\n",
       "    }\n",
       "\n",
       "    .dataframe tbody tr th {\n",
       "        vertical-align: top;\n",
       "    }\n",
       "\n",
       "    .dataframe thead th {\n",
       "        text-align: right;\n",
       "    }\n",
       "</style>\n",
       "<table border=\"1\" class=\"dataframe\">\n",
       "  <thead>\n",
       "    <tr style=\"text-align: right;\">\n",
       "      <th></th>\n",
       "      <th>p</th>\n",
       "      <th>q</th>\n",
       "      <th>p AND q</th>\n",
       "    </tr>\n",
       "  </thead>\n",
       "  <tbody>\n",
       "    <tr>\n",
       "      <th>0</th>\n",
       "      <td>True</td>\n",
       "      <td>True</td>\n",
       "      <td>True</td>\n",
       "    </tr>\n",
       "    <tr>\n",
       "      <th>1</th>\n",
       "      <td>True</td>\n",
       "      <td>False</td>\n",
       "      <td>False</td>\n",
       "    </tr>\n",
       "    <tr>\n",
       "      <th>2</th>\n",
       "      <td>False</td>\n",
       "      <td>True</td>\n",
       "      <td>False</td>\n",
       "    </tr>\n",
       "    <tr>\n",
       "      <th>3</th>\n",
       "      <td>False</td>\n",
       "      <td>False</td>\n",
       "      <td>False</td>\n",
       "    </tr>\n",
       "  </tbody>\n",
       "</table>\n",
       "</div>"
      ],
      "text/plain": [
       "       p      q  p AND q\n",
       "0   True   True     True\n",
       "1   True  False    False\n",
       "2  False   True    False\n",
       "3  False  False    False"
      ]
     },
     "execution_count": 20,
     "metadata": {},
     "output_type": "execute_result"
    }
   ],
   "source": [
    "    \n",
    "import pandas as pd\n",
    "p = [True, True, False, False]\n",
    "q = [True, False, True, False]\n",
    "tabla_verdad = pd.DataFrame({'p': p, 'q': q, 'p AND q': [a and b for a, b in zip(p, q)]})\n",
    "tabla_verdad\n",
    "    \n"
   ]
  },
  {
   "cell_type": "code",
   "execution_count": 21,
   "id": "dcc69674",
   "metadata": {},
   "outputs": [
    {
     "data": {
      "application/vnd.microsoft.datawrangler.viewer.v0+json": {
       "columns": [
        {
         "name": "index",
         "rawType": "int64",
         "type": "integer"
        },
        {
         "name": "p",
         "rawType": "bool",
         "type": "boolean"
        },
        {
         "name": "q",
         "rawType": "bool",
         "type": "boolean"
        },
        {
         "name": "p OR q",
         "rawType": "bool",
         "type": "boolean"
        }
       ],
       "conversionMethod": "pd.DataFrame",
       "ref": "7433195c-b1dc-4a24-97cc-ef0efa00cd50",
       "rows": [
        [
         "0",
         "True",
         "True",
         "True"
        ],
        [
         "1",
         "True",
         "False",
         "True"
        ],
        [
         "2",
         "False",
         "True",
         "True"
        ],
        [
         "3",
         "False",
         "False",
         "False"
        ]
       ],
       "shape": {
        "columns": 3,
        "rows": 4
       }
      },
      "text/html": [
       "<div>\n",
       "<style scoped>\n",
       "    .dataframe tbody tr th:only-of-type {\n",
       "        vertical-align: middle;\n",
       "    }\n",
       "\n",
       "    .dataframe tbody tr th {\n",
       "        vertical-align: top;\n",
       "    }\n",
       "\n",
       "    .dataframe thead th {\n",
       "        text-align: right;\n",
       "    }\n",
       "</style>\n",
       "<table border=\"1\" class=\"dataframe\">\n",
       "  <thead>\n",
       "    <tr style=\"text-align: right;\">\n",
       "      <th></th>\n",
       "      <th>p</th>\n",
       "      <th>q</th>\n",
       "      <th>p OR q</th>\n",
       "    </tr>\n",
       "  </thead>\n",
       "  <tbody>\n",
       "    <tr>\n",
       "      <th>0</th>\n",
       "      <td>True</td>\n",
       "      <td>True</td>\n",
       "      <td>True</td>\n",
       "    </tr>\n",
       "    <tr>\n",
       "      <th>1</th>\n",
       "      <td>True</td>\n",
       "      <td>False</td>\n",
       "      <td>True</td>\n",
       "    </tr>\n",
       "    <tr>\n",
       "      <th>2</th>\n",
       "      <td>False</td>\n",
       "      <td>True</td>\n",
       "      <td>True</td>\n",
       "    </tr>\n",
       "    <tr>\n",
       "      <th>3</th>\n",
       "      <td>False</td>\n",
       "      <td>False</td>\n",
       "      <td>False</td>\n",
       "    </tr>\n",
       "  </tbody>\n",
       "</table>\n",
       "</div>"
      ],
      "text/plain": [
       "       p      q  p OR q\n",
       "0   True   True    True\n",
       "1   True  False    True\n",
       "2  False   True    True\n",
       "3  False  False   False"
      ]
     },
     "execution_count": 21,
     "metadata": {},
     "output_type": "execute_result"
    }
   ],
   "source": [
    "import pandas as pd\n",
    "p = [True, True, False, False]\n",
    "q = [True, False, True, False]\n",
    "tabla_verdad_or = pd.DataFrame({'p': p, 'q': q, 'p OR q': [a or b for a, b in zip(p, q)]})\n",
    "tabla_verdad_or"
   ]
  },
  {
   "cell_type": "markdown",
   "id": "a6444e82",
   "metadata": {},
   "source": [
    "\n",
    "- **Aplicaciones en computación y circuitos digitales**\n",
    "  - Uso en diseño de circuitos lógicos y arquitectura de computadoras.\n",
    "  - Implementación de compuertas lógicas con `schemdraw`:\n"
   ]
  },
  {
   "cell_type": "code",
   "execution_count": 22,
   "id": "20319ba6",
   "metadata": {},
   "outputs": [
    {
     "data": {
      "image/png": "[encoded data removed]",
      "image/svg+xml": [
       "<?xml version=\"1.0\" encoding=\"utf-8\" standalone=\"no\"?>\n",
       "<!DOCTYPE svg PUBLIC \"-//W3C//DTD SVG 1.1//EN\"\n",
       "  \"http://www.w3.org/Graphics/SVG/1.1/DTD/svg11.dtd\">\n",
       "<svg xmlns:xlink=\"http://www.w3.org/1999/xlink\" width=\"252.36pt\" height=\"60.16pt\" viewBox=\"0 0 252.36 60.16\" xmlns=\"http://www.w3.org/2000/svg\" version=\"1.1\">\n",
       " <metadata>\n",
       "  <rdf:RDF xmlns:dc=\"http://purl.org/dc/elements/1.1/\" xmlns:cc=\"http://creativecommons.org/ns#\" xmlns:rdf=\"http://www.w3.org/1999/02/22-rdf-syntax-ns#\">\n",
       "   <cc:Work>\n",
       "    <dc:type rdf:resource=\"http://purl.org/dc/dcmitype/StillImage\"/>\n",
       "    <dc:date>2025-02-21T17:04:28.999580</dc:date>\n",
       "    <dc:format>image/svg+xml</dc:format>\n",
       "    <dc:creator>\n",
       "     <cc:Agent>\n",
       "      <dc:title>Matplotlib v3.10.0, https://matplotlib.org/</dc:title>\n",
       "     </cc:Agent>\n",
       "    </dc:creator>\n",
       "   </cc:Work>\n",
       "  </rdf:RDF>\n",
       " </metadata>\n",
       " <defs>\n",
       "  <style type=\"text/css\">*{stroke-linejoin: round; stroke-linecap: butt}</style>\n",
       " </defs>\n",
       " <g id=\"figure_1\">\n",
       "  <g id=\"patch_1\">\n",
       "   <path d=\"M 0 60.16 \n",
       "L 252.36 60.16 \n",
       "L 252.36 0 \n",
       "L 0 0 \n",
       "z\n",
       "\" style=\"fill: #ffffff\"/>\n",
       "  </g>\n",
       "  <g id=\"axes_1\">\n",
       "   <g id=\"patch_2\">\n",
       "    <path d=\"M 205.38 41.8 \n",
       "C 206.525677 41.8 207.624585 41.344818 208.434701 40.534701 \n",
       "C 209.244818 39.724585 209.7 38.625677 209.7 37.48 \n",
       "C 209.7 36.334323 209.244818 35.235415 208.434701 34.425299 \n",
       "C 207.624585 33.615182 206.525677 33.16 205.38 33.16 \n",
       "C 204.234323 33.16 203.135415 33.615182 202.325299 34.425299 \n",
       "C 201.515182 35.235415 201.06 36.334323 201.06 37.48 \n",
       "C 201.06 38.625677 201.515182 39.724585 202.325299 40.534701 \n",
       "C 203.135415 41.344818 204.234323 41.8 205.38 41.8 \n",
       "L 205.38 41.8 \n",
       "z\n",
       "\" clip-path=\"url(#p6fb46b4ccc)\" style=\"fill: none; stroke: #000000; stroke-width: 2; stroke-linejoin: miter\"/>\n",
       "   </g>\n",
       "   <g id=\"line2d_1\">\n",
       "    <path d=\"M 40.68 55.48 \n",
       "L 41.833264 55.443017 \n",
       "L 42.981789 55.33222 \n",
       "L 44.120855 55.148065 \n",
       "L 45.245783 54.891308 \n",
       "L 46.351948 54.563003 \n",
       "L 47.434806 54.164502 \n",
       "L 48.489907 53.69744 \n",
       "L 49.512916 53.163737 \n",
       "L 50.499628 52.565586 \n",
       "L 51.44599 51.905445 \n",
       "L 52.348111 51.186027 \n",
       "L 53.202286 50.410288 \n",
       "L 54.005004 49.581416 \n",
       "L 54.752967 48.702816 \n",
       "L 55.443101 47.7781 \n",
       "L 56.07257 46.811066 \n",
       "L 56.638788 45.805689 \n",
       "L 57.139427 44.7661 \n",
       "L 57.572432 43.696571 \n",
       "L 57.936021 42.601497 \n",
       "L 58.228702 41.485377 \n",
       "L 58.449272 40.352798 \n",
       "L 58.596824 39.208414 \n",
       "L 58.670752 38.056928 \n",
       "L 58.670752 36.903072 \n",
       "L 58.596824 35.751586 \n",
       "L 58.449272 34.607202 \n",
       "L 58.228702 33.474623 \n",
       "L 57.936021 32.358503 \n",
       "L 57.572432 31.263429 \n",
       "L 57.139427 30.1939 \n",
       "L 56.638788 29.154311 \n",
       "L 56.07257 28.148934 \n",
       "L 55.443101 27.1819 \n",
       "L 54.752967 26.257184 \n",
       "L 54.005004 25.378584 \n",
       "L 53.202286 24.549712 \n",
       "L 52.348111 23.773973 \n",
       "L 51.44599 23.054555 \n",
       "L 50.499628 22.394414 \n",
       "L 49.512916 21.796263 \n",
       "L 48.489907 21.26256 \n",
       "L 47.434806 20.795498 \n",
       "L 46.351948 20.396997 \n",
       "L 45.245783 20.068692 \n",
       "L 44.120855 19.811935 \n",
       "L 42.981789 19.62778 \n",
       "L 41.833264 19.516983 \n",
       "L 40.68 19.48 \n",
       "L 40.68 19.48 \n",
       "L 17.28 19.48 \n",
       "L 17.28 37.48 \n",
       "L 17.28 55.48 \n",
       "L 40.68 55.48 \n",
       "\" clip-path=\"url(#p6fb46b4ccc)\" style=\"fill: none; stroke: #000000; stroke-width: 2; stroke-linecap: round\"/>\n",
       "   </g>\n",
       "   <g id=\"line2d_2\">\n",
       "    <path d=\"M 4.68 46.48 \n",
       "L 17.28 46.48 \n",
       "\" clip-path=\"url(#p6fb46b4ccc)\" style=\"fill: none; stroke: #000000; stroke-width: 2; stroke-linecap: round\"/>\n",
       "   </g>\n",
       "   <g id=\"line2d_3\">\n",
       "    <path d=\"M 4.68 28.48 \n",
       "L 17.28 28.48 \n",
       "\" clip-path=\"url(#p6fb46b4ccc)\" style=\"fill: none; stroke: #000000; stroke-width: 2; stroke-linecap: round\"/>\n",
       "   </g>\n",
       "   <g id=\"line2d_4\">\n",
       "    <path d=\"M 58.68 37.48 \n",
       "L 71.28 37.48 \n",
       "\" clip-path=\"url(#p6fb46b4ccc)\" style=\"fill: none; stroke: #000000; stroke-width: 2; stroke-linecap: round\"/>\n",
       "   </g>\n",
       "   <g id=\"line2d_5\">\n",
       "    <path d=\"M 83.88 55.12 \n",
       "L 103.422857 55.053878 \n",
       "L 105.48 54.76 \n",
       "L 107.537143 54.23102 \n",
       "L 109.594286 53.466939 \n",
       "L 111.651429 52.467755 \n",
       "L 113.708571 51.233469 \n",
       "L 115.765714 49.764082 \n",
       "L 117.822857 48.059592 \n",
       "L 120.394286 45.598367 \n",
       "L 122.965714 42.769796 \n",
       "L 125.537143 39.573878 \n",
       "L 127.08 37.48 \n",
       "L 127.08 37.48 \n",
       "L 124.508571 34.063673 \n",
       "L 121.937143 31.014694 \n",
       "L 119.365714 28.333061 \n",
       "L 116.794286 26.018776 \n",
       "L 114.737143 24.431837 \n",
       "L 112.68 23.08 \n",
       "L 110.622857 21.963265 \n",
       "L 108.565714 21.081633 \n",
       "L 106.508571 20.435102 \n",
       "L 104.451429 20.023673 \n",
       "L 102.394286 19.847347 \n",
       "L 101.88 19.84 \n",
       "L 83.88 19.84 \n",
       "L 83.88 19.84 \n",
       "L 85.8672 22 \n",
       "L 87.5952 24.16 \n",
       "L 89.064 26.32 \n",
       "L 90.2736 28.48 \n",
       "L 91.224 30.64 \n",
       "L 91.9152 32.8 \n",
       "L 92.3472 34.96 \n",
       "L 92.52 37.12 \n",
       "L 92.4336 39.28 \n",
       "L 92.088 41.44 \n",
       "L 91.4832 43.6 \n",
       "L 90.6192 45.76 \n",
       "L 89.496 47.92 \n",
       "L 88.1136 50.08 \n",
       "L 86.472 52.24 \n",
       "L 84.5712 54.4 \n",
       "L 83.88 55.12 \n",
       "L 83.88 55.12 \n",
       "\" clip-path=\"url(#p6fb46b4ccc)\" style=\"fill: none; stroke: #000000; stroke-width: 2; stroke-linecap: round\"/>\n",
       "   </g>\n",
       "   <g id=\"line2d_6\">\n",
       "    <path d=\"M 71.28 46.48 \n",
       "L 90.2736 46.48 \n",
       "\" clip-path=\"url(#p6fb46b4ccc)\" style=\"fill: none; stroke: #000000; stroke-width: 2; stroke-linecap: round\"/>\n",
       "   </g>\n",
       "   <g id=\"line2d_7\">\n",
       "    <path d=\"M 71.28 28.48 \n",
       "L 90.2736 28.48 \n",
       "\" clip-path=\"url(#p6fb46b4ccc)\" style=\"fill: none; stroke: #000000; stroke-width: 2; stroke-linecap: round\"/>\n",
       "   </g>\n",
       "   <g id=\"line2d_8\">\n",
       "    <path d=\"M 127.08 37.48 \n",
       "L 139.68 37.48 \n",
       "\" clip-path=\"url(#p6fb46b4ccc)\" style=\"fill: none; stroke: #000000; stroke-width: 2; stroke-linecap: round\"/>\n",
       "   </g>\n",
       "   <g id=\"line2d_9\">\n",
       "    <path d=\"M 139.68 37.48 \n",
       "L 177.66 37.48 \n",
       "M 209.7 37.48 \n",
       "L 247.68 37.48 \n",
       "\" clip-path=\"url(#p6fb46b4ccc)\" style=\"fill: none; stroke: #000000; stroke-width: 2; stroke-linecap: round\"/>\n",
       "   </g>\n",
       "   <g id=\"line2d_10\">\n",
       "    <path d=\"M 177.66 19.48 \n",
       "L 201.06 37.48 \n",
       "L 177.66 55.48 \n",
       "L 177.66 19.48 \n",
       "\" clip-path=\"url(#p6fb46b4ccc)\" style=\"fill: none; stroke: #000000; stroke-width: 2; stroke-linecap: round\"/>\n",
       "   </g>\n",
       "   <g id=\"text_1\">\n",
       "    <!-- AND -->\n",
       "    <g transform=\"translate(22.564688 12.968438) scale(0.14 -0.14)\">\n",
       "     <defs>\n",
       "      <path id=\"DejaVuSans-41\" d=\"M 2188 4044 \n",
       "L 1331 1722 \n",
       "L 3047 1722 \n",
       "L 2188 4044 \n",
       "z\n",
       "M 1831 4666 \n",
       "L 2547 4666 \n",
       "L 4325 0 \n",
       "L 3669 0 \n",
       "L 3244 1197 \n",
       "L 1141 1197 \n",
       "L 716 0 \n",
       "L 50 0 \n",
       "L 1831 4666 \n",
       "z\n",
       "\" transform=\"scale(0.015625)\"/>\n",
       "      <path id=\"DejaVuSans-4e\" d=\"M 628 4666 \n",
       "L 1478 4666 \n",
       "L 3547 763 \n",
       "L 3547 4666 \n",
       "L 4159 4666 \n",
       "L 4159 0 \n",
       "L 3309 0 \n",
       "L 1241 3903 \n",
       "L 1241 0 \n",
       "L 628 0 \n",
       "L 628 4666 \n",
       "z\n",
       "\" transform=\"scale(0.015625)\"/>\n",
       "      <path id=\"DejaVuSans-44\" d=\"M 1259 4147 \n",
       "L 1259 519 \n",
       "L 2022 519 \n",
       "Q 2988 519 3436 956 \n",
       "Q 3884 1394 3884 2338 \n",
       "Q 3884 3275 3436 3711 \n",
       "Q 2988 4147 2022 4147 \n",
       "L 1259 4147 \n",
       "z\n",
       "M 628 4666 \n",
       "L 1925 4666 \n",
       "Q 3281 4666 3915 4102 \n",
       "Q 4550 3538 4550 2338 \n",
       "Q 4550 1131 3912 565 \n",
       "Q 3275 0 1925 0 \n",
       "L 628 0 \n",
       "L 628 4666 \n",
       "z\n",
       "\" transform=\"scale(0.015625)\"/>\n",
       "     </defs>\n",
       "     <use xlink:href=\"#DejaVuSans-41\"/>\n",
       "     <use xlink:href=\"#DejaVuSans-4e\" transform=\"translate(68.408203 0)\"/>\n",
       "     <use xlink:href=\"#DejaVuSans-44\" transform=\"translate(143.212891 0)\"/>\n",
       "    </g>\n",
       "   </g>\n",
       "   <g id=\"text_2\">\n",
       "    <!-- OR -->\n",
       "    <g transform=\"translate(143.28 41.343125) scale(0.14 -0.14)\">\n",
       "     <defs>\n",
       "      <path id=\"DejaVuSans-4f\" d=\"M 2522 4238 \n",
       "Q 1834 4238 1429 3725 \n",
       "Q 1025 3213 1025 2328 \n",
       "Q 1025 1447 1429 934 \n",
       "Q 1834 422 2522 422 \n",
       "Q 3209 422 3611 934 \n",
       "Q 4013 1447 4013 2328 \n",
       "Q 4013 3213 3611 3725 \n",
       "Q 3209 4238 2522 4238 \n",
       "z\n",
       "M 2522 4750 \n",
       "Q 3503 4750 4090 4092 \n",
       "Q 4678 3434 4678 2328 \n",
       "Q 4678 1225 4090 567 \n",
       "Q 3503 -91 2522 -91 \n",
       "Q 1538 -91 948 565 \n",
       "Q 359 1222 359 2328 \n",
       "Q 359 3434 948 4092 \n",
       "Q 1538 4750 2522 4750 \n",
       "z\n",
       "\" transform=\"scale(0.015625)\"/>\n",
       "      <path id=\"DejaVuSans-52\" d=\"M 2841 2188 \n",
       "Q 3044 2119 3236 1894 \n",
       "Q 3428 1669 3622 1275 \n",
       "L 4263 0 \n",
       "L 3584 0 \n",
       "L 2988 1197 \n",
       "Q 2756 1666 2539 1819 \n",
       "Q 2322 1972 1947 1972 \n",
       "L 1259 1972 \n",
       "L 1259 0 \n",
       "L 628 0 \n",
       "L 628 4666 \n",
       "L 2053 4666 \n",
       "Q 2853 4666 3247 4331 \n",
       "Q 3641 3997 3641 3322 \n",
       "Q 3641 2881 3436 2590 \n",
       "Q 3231 2300 2841 2188 \n",
       "z\n",
       "M 1259 4147 \n",
       "L 1259 2491 \n",
       "L 2053 2491 \n",
       "Q 2509 2491 2742 2702 \n",
       "Q 2975 2913 2975 3322 \n",
       "Q 2975 3731 2742 3939 \n",
       "Q 2509 4147 2053 4147 \n",
       "L 1259 4147 \n",
       "z\n",
       "\" transform=\"scale(0.015625)\"/>\n",
       "     </defs>\n",
       "     <use xlink:href=\"#DejaVuSans-4f\"/>\n",
       "     <use xlink:href=\"#DejaVuSans-52\" transform=\"translate(78.710938 0)\"/>\n",
       "    </g>\n",
       "   </g>\n",
       "   <g id=\"text_3\">\n",
       "    <!-- NOT -->\n",
       "    <g transform=\"translate(106.034688 41.343125) scale(0.14 -0.14)\">\n",
       "     <defs>\n",
       "      <path id=\"DejaVuSans-54\" d=\"M -19 4666 \n",
       "L 3928 4666 \n",
       "L 3928 4134 \n",
       "L 2272 4134 \n",
       "L 2272 0 \n",
       "L 1638 0 \n",
       "L 1638 4134 \n",
       "L -19 4134 \n",
       "L -19 4666 \n",
       "z\n",
       "\" transform=\"scale(0.015625)\"/>\n",
       "     </defs>\n",
       "     <use xlink:href=\"#DejaVuSans-4e\"/>\n",
       "     <use xlink:href=\"#DejaVuSans-4f\" transform=\"translate(74.804688 0)\"/>\n",
       "     <use xlink:href=\"#DejaVuSans-54\" transform=\"translate(153.515625 0)\"/>\n",
       "    </g>\n",
       "   </g>\n",
       "  </g>\n",
       " </g>\n",
       " <defs>\n",
       "  <clipPath id=\"p6fb46b4ccc\">\n",
       "   <rect x=\"0\" y=\"0\" width=\"252.36\" height=\"60.16\"/>\n",
       "  </clipPath>\n",
       " </defs>\n",
       "</svg>\n"
      ],
      "text/plain": [
       "<schemdraw.backends.mpl.Figure object at 0x0000017255F26690>"
      ]
     },
     "metadata": {},
     "output_type": "display_data"
    }
   ],
   "source": [
    "import schemdraw\n",
    "import schemdraw.logic as logic\n",
    "with schemdraw.Drawing() as d:\n",
    "    d.add(logic.And().label('AND'))\n",
    "    d.add(logic.Or().label('OR', 'right'))\n",
    "    d.add(logic.Not().label('NOT', 'left'))\n",
    "    d.draw()\n",
    "\n"
   ]
  },
  {
   "cell_type": "markdown",
   "id": "d7abe8b0",
   "metadata": {},
   "source": [
    "  - Aplicaciones en inteligencia artificial y toma de decisiones.\n",
    "  - Resolución de problemas con expresiones lógicas en Jupyter Notebook.\n",
    "\n"
   ]
  },
  {
   "cell_type": "markdown",
   "id": "3f813363",
   "metadata": {},
   "source": [
    "\n",
    "### 2. Uso de signos de agrupación y prelación de operadores\n",
    "- Importancia de la agrupación en expresiones lógicas.\n",
    "- Jerarquía de operadores lógicos.\n",
    "- Uso de paréntesis para evitar ambigüedades.\n",
    "- Ejemplos en Python con `SymPy` y `NumPy`.\n"
   ]
  },
  {
   "cell_type": "markdown",
   "id": "1036dec7",
   "metadata": {},
   "source": [
    "**4. Contenido de la Clase: Operaciones Lógicas**\n",
    "\n",
    "### 1. Introducción a las operaciones lógicas\n",
    "- **Definición de operaciones lógicas:**\n",
    "  - Una operación lógica es un procedimiento que toma una o más proposiciones y devuelve un valor de verdad (Verdadero o Falso).\n",
    "  - Se basan en el álgebra de Boole y son fundamentales en matemáticas y computación.\n",
    "  - Implementación en Python:\n",
    "    ```python\n",
    "    def operacion_logica(p, q, operador):\n",
    "        if operador == 'AND':\n",
    "            return p and q\n",
    "        elif operador == 'OR':\n",
    "            return p or q\n",
    "        elif operador == 'NOT':\n",
    "            return not p\n",
    "    print(operacion_logica(True, False, 'AND'))  # Salida: False\n",
    "    ```\n",
    "\n",
    "- **Conceptos fundamentales: proposiciones, conectores lógicos y valores de verdad**\n",
    "  - **Proposiciones:** Expresiones que pueden ser verdaderas o falsas.\n",
    "  - **Conectores lógicos:** Operadores como `AND`, `OR`, `NOT`, `XOR`.\n",
    "  - **Valores de verdad:** `True` o `False` en Python.\n",
    "  - Generación de tablas de verdad con Pandas:\n",
    "    ```python\n",
    "    import pandas as pd\n",
    "    p = [True, True, False, False]\n",
    "    q = [True, False, True, False]\n",
    "    tabla_verdad = pd.DataFrame({'p': p, 'q': q, 'p AND q': [a and b for a, b in zip(p, q)]})\n",
    "    print(tabla_verdad)\n",
    "    ```\n",
    "\n",
    "- **Aplicaciones en computación y circuitos digitales**\n",
    "  - Uso en diseño de circuitos lógicos y arquitectura de computadoras.\n",
    "  - Implementación de compuertas lógicas con `schemdraw`:\n",
    "    ```python\n",
    "    import schemdraw\n",
    "    import schemdraw.logic as logic\n",
    "    with schemdraw.Drawing() as d:\n",
    "        d.add(logic.And().label('AND'))\n",
    "        d.add(logic.Or().label('OR', 'right'))\n",
    "        d.add(logic.Not().label('NOT', 'left'))\n",
    "        d.draw()\n",
    "    ```\n",
    "  - Aplicaciones en inteligencia artificial y toma de decisiones.\n",
    "  - Resolución de problemas con expresiones lógicas en Jupyter Notebook.\n"
   ]
  },
  {
   "cell_type": "markdown",
   "id": "77847d6d",
   "metadata": {},
   "source": [
    "\n",
    "### 2. Uso de signos de agrupación y prelación de operadores\n",
    "- **Importancia de la agrupación en expresiones lógicas**\n"
   ]
  },
  {
   "cell_type": "markdown",
   "id": "90e5e533",
   "metadata": {},
   "source": [
    "  - El uso adecuado de signos de agrupación evita ambigüedades en evaluaciones lógicas.\n",
    "  - En expresiones complejas, los paréntesis ayudan a definir el orden en que deben evaluarse las operaciones.\n"
   ]
  },
  {
   "cell_type": "markdown",
   "id": "621a749a",
   "metadata": {},
   "source": [
    "\n",
    "- **Jerarquía de operadores lógicos**\n",
    "  - En Python, la prelación de operadores lógicos sigue la siguiente jerarquía:\n",
    "    1. `NOT` (Negación)\n",
    "    2. `AND` (Conjunción)\n",
    "    3. `OR` (Disyunción)\n",
    "  - Ejemplo:\n"
   ]
  },
  {
   "cell_type": "code",
   "execution_count": 24,
   "id": "026f9af3",
   "metadata": {},
   "outputs": [
    {
     "name": "stdout",
     "output_type": "stream",
     "text": [
      "True\n"
     ]
    }
   ],
   "source": [
    "print(True or False and False)  # Salida: True\n"
   ]
  },
  {
   "cell_type": "code",
   "execution_count": 25,
   "id": "4156c7cb",
   "metadata": {},
   "outputs": [
    {
     "name": "stdout",
     "output_type": "stream",
     "text": [
      "False\n"
     ]
    }
   ],
   "source": [
    "print((True or False) and False)  # Salida: False\n",
    "\n"
   ]
  },
  {
   "cell_type": "markdown",
   "id": "f203ed36",
   "metadata": {},
   "source": [
    "\n",
    "### 2. Uso de signos de agrupación y prelación de operadores\n",
    "- **Importancia de la agrupación en expresiones lógicas**\n",
    "  - El uso adecuado de signos de agrupación evita ambigüedades en evaluaciones lógicas.\n",
    "  - En expresiones complejas, los paréntesis ayudan a definir el orden en que deben evaluarse las operaciones.\n",
    "\n",
    "- **Jerarquía de operadores lógicos**\n",
    "  - En Python, la prelación de operadores lógicos sigue la siguiente jerarquía:\n",
    "    1. `NOT` (Negación)\n",
    "    2. `AND` (Conjunción)\n",
    "    3. `OR` (Disyunción)\n",
    "    4. `→` (Implicación, representada en Python como `Implies` en SymPy)\n",
    "    5. `↔` (Equivalencia, representada en Python como `Equivalent` en SymPy)\n",
    "  - Ejemplo:\n"
   ]
  },
  {
   "cell_type": "code",
   "execution_count": 26,
   "id": "9d881c71",
   "metadata": {},
   "outputs": [
    {
     "name": "stdout",
     "output_type": "stream",
     "text": [
      "True\n"
     ]
    }
   ],
   "source": [
    "print(True or False and False)  # Salida: True\n"
   ]
  },
  {
   "cell_type": "code",
   "execution_count": 27,
   "id": "96163903",
   "metadata": {},
   "outputs": [
    {
     "name": "stdout",
     "output_type": "stream",
     "text": [
      "False\n"
     ]
    }
   ],
   "source": [
    "print((True or False) and False)  # Salida: False\n",
    "    "
   ]
  },
  {
   "cell_type": "markdown",
   "id": "85d22ff9",
   "metadata": {},
   "source": [
    "```\n",
    "\n",
    "- **Uso de paréntesis para evitar ambigüedades**\n",
    "  - Al combinar operadores lógicos, el uso de paréntesis permite una interpretación clara:\n"
   ]
  },
  {
   "cell_type": "code",
   "execution_count": 31,
   "id": "77112bee",
   "metadata": {},
   "outputs": [
    {
     "data": {
      "text/plain": [
       "(True, False)"
      ]
     },
     "execution_count": 31,
     "metadata": {},
     "output_type": "execute_result"
    }
   ],
   "source": [
    "p, q, r = True, False, False\n",
    "expresion1 = p or q and r  # Evaluado como p or (q and r)\n",
    "expresion2 = (p or q) and r  # Evaluado con un orden diferente\n",
    "expresion1, expresion2  # Salida: True, True\n",
    "    \n"
   ]
  },
  {
   "cell_type": "markdown",
   "id": "0e4ad916",
   "metadata": {},
   "source": [
    "## El uso de los signos de agrupación es muy importante. "
   ]
  },
  {
   "cell_type": "markdown",
   "id": "f72e5f4e",
   "metadata": {},
   "source": [
    "\n",
    "- **Ejemplos en Python con `SymPy` y `NumPy`**\n",
    "  - Uso de `SymPy` para verificar la equivalencia de expresiones lógicas:\n"
   ]
  },
  {
   "cell_type": "code",
   "execution_count": 32,
   "id": "9e767a44",
   "metadata": {},
   "outputs": [
    {
     "name": "stdout",
     "output_type": "stream",
     "text": [
      "True\n",
      "q | ~p\n",
      "True\n"
     ]
    }
   ],
   "source": [
    "from sympy import symbols, Or, And, Not, Implies, Equivalent, simplify_logic\n",
    "p, q = symbols('p q')\n",
    "expr1 = Or(p, And(q, Not(p))) # p v (q ^ (neg p))\n",
    "expr2 = Or(p, q)\n",
    "expr3 = Implies(p, q)  # Implicación lógica\n",
    "expr4 = Equivalent(expr1, expr2)  # Equivalencia lógica\n",
    "print(simplify_logic(expr1) == simplify_logic(expr2))  # Salida: True\n",
    "print(simplify_logic(expr3))  # Representación simplificada de la implicación\n",
    "print(simplify_logic(expr4))  # Representación simplificada de la equivalencia\n",
    "\n"
   ]
  },
  {
   "cell_type": "markdown",
   "id": "d6b46548",
   "metadata": {},
   "source": [
    "  - Evaluación de expresiones lógicas con `NumPy`:\n"
   ]
  },
  {
   "cell_type": "code",
   "execution_count": 33,
   "id": "16fb65a5",
   "metadata": {},
   "outputs": [
    {
     "name": "stdout",
     "output_type": "stream",
     "text": [
      "[ True False  True]\n"
     ]
    }
   ],
   "source": [
    "import numpy as np\n",
    "a = np.array([True, False, True])\n",
    "b = np.array([False, False, True])\n",
    "print(np.logical_or(a, b))  # Salida: [ True False  True]\n",
    "\n",
    "\n"
   ]
  },
  {
   "cell_type": "markdown",
   "id": "7678e559",
   "metadata": {},
   "source": [
    "\n",
    "- **Uso de paréntesis para evitar ambigüedades**\n",
    "  - Al combinar operadores lógicos, el uso de paréntesis permite una interpretación clara:\n"
   ]
  },
  {
   "cell_type": "code",
   "execution_count": 36,
   "id": "6f365fb4",
   "metadata": {},
   "outputs": [
    {
     "name": "stdout",
     "output_type": "stream",
     "text": [
      "True False\n"
     ]
    }
   ],
   "source": [
    "p, q, r = True, False, False # definición de variables de manera múltiple \n",
    "expresion1 = p or q and r  # Evaluado como p or (q and r)\n",
    "expresion2 = (p or q) and r  # Evaluado con un orden diferente\n",
    "print(expresion1, expresion2)  # Salida: True, True\n",
    "\n"
   ]
  },
  {
   "cell_type": "markdown",
   "id": "f468b743",
   "metadata": {},
   "source": [
    "\n",
    "- **Ejemplos en Python con `SymPy` y `NumPy`**\n",
    "  - Uso de `SymPy` para verificar la equivalencia de expresiones lógicas:\n"
   ]
  },
  {
   "cell_type": "code",
   "execution_count": 38,
   "id": "8ea4f071",
   "metadata": {},
   "outputs": [
    {
     "name": "stdout",
     "output_type": "stream",
     "text": [
      "True\n"
     ]
    }
   ],
   "source": [
    "from sympy import symbols, Or, And, Not, simplify_logic\n",
    "p, q = symbols('p q')\n",
    "expr1 = Or(p, And(q, Not(p)))\n",
    "expr2 = Or(p, q)\n",
    "print(simplify_logic(expr1) == simplify_logic(expr2))  # Salida: True\n",
    "\n"
   ]
  },
  {
   "cell_type": "markdown",
   "id": "cadd830f",
   "metadata": {},
   "source": [
    "  - Evaluación de expresiones lógicas con `NumPy`:\n"
   ]
  },
  {
   "cell_type": "code",
   "execution_count": 40,
   "id": "cc4157c1",
   "metadata": {},
   "outputs": [
    {
     "name": "stdout",
     "output_type": "stream",
     "text": [
      "[ True False  True]\n"
     ]
    }
   ],
   "source": [
    "import numpy as np\n",
    "a = np.array([True, False, True])\n",
    "b = np.array([False, False, True])\n",
    "print(np.logical_or(a, b))  # Salida: [ True False  True]\n",
    "\n",
    "\n"
   ]
  },
  {
   "cell_type": "markdown",
   "id": "fd1dd5ba",
   "metadata": {},
   "source": [
    "[Video de apoyo a la lectura de estas dos partes de la clase sobre operaciones lógicas](https://www.youtube.com/watch?v=r6QgGuPiUL8)"
   ]
  },
  {
   "cell_type": "markdown",
   "id": "b3d4c444",
   "metadata": {},
   "source": [
    "\n",
    "### 3. Tablas de verdad y su representación\n",
    "- Construcción de tablas de verdad para operaciones básicas (AND, OR, NOT, XOR, IMPLIES, EQUIVALENT etc.).\n",
    "- Representación tabular usando `Pandas`.\n",
    "- Implementación de funciones en `Python` para generar tablas de verdad automáticamente.\n"
   ]
  },
  {
   "cell_type": "markdown",
   "id": "3d03635a",
   "metadata": {},
   "source": [
    "## 3. Tablas de Verdad y su Representación\n",
    "\n",
    "En esta sección, exploraremos la construcción de tablas de verdad para las operaciones lógicas básicas y su representación en Python utilizando `Pandas`.\n",
    "\n",
    "### 3.1 Construcción de Tablas de Verdad para Operaciones Básicas\n",
    "\n",
    "Las operaciones lógicas fundamentales que abordaremos son:\n",
    "- **AND (\\land)**: Solo es verdadera si ambas proposiciones son verdaderas.\n",
    "- **OR (\\lor)**: Es verdadera si al menos una de las proposiciones es verdadera.\n",
    "- **NOT (\\neg)**: Invierte el valor de verdad de una proposición.\n",
    "- **XOR**: Es verdadera si solo una de las proposiciones es verdadera, pero no ambas.\n",
    "- **IMPLIES (\\Rightarrow)**: Es falsa solo si la primera proposición es verdadera y la segunda es falsa.\n",
    "- **EQUIVALENT (\\Leftrightarrow)**: Es verdadera si ambas proposiciones tienen el mismo valor de verdad.\n",
    "\n",
    "#### Ejemplo de una Tabla de Verdad\n",
    "Para dos proposiciones, las combinaciones posibles de valores de verdad son:\n",
    "\n",
    "| P | Q | P AND Q | P OR Q | NOT P | P XOR Q | P -> Q | P <-> Q |\n",
    "|---|---|--------|-------|------|--------|------|------|\n",
    "| T | T | T      | T     | F    | F      | T    | T    |\n",
    "| T | F | F      | T     | F    | T      | F    | F    |\n",
    "| F | T | F      | T     | T    | T      | T    | F    |\n",
    "| F | F | F      | F     | T    | F      | T    | T    |\n",
    "\n",
    "### 3.2 Representación Tabular usando `Pandas`\n",
    "Para manejar tablas de verdad de manera programática, utilizamos la biblioteca `Pandas` en Python. A continuación, implementamos una representación tabular de las operaciones lógicas:\n",
    "\n",
    "```python\n",
    "import pandas as pd\n",
    "import itertools\n",
    "\n",
    "def truth_table():\n",
    "    values = list(itertools.product([True, False], repeat=2))\n",
    "    data = []\n",
    "    for P, Q in values:\n",
    "        data.append([P, Q, P and Q, P or Q, not P, P != Q, not P or Q, P == Q])\n",
    "    \n",
    "    columns = [\"P\", \"Q\", \"P AND Q\", \"P OR Q\", \"NOT P\", \"P XOR Q\", \"P -> Q\", \"P <-> Q\"]\n",
    "    df = pd.DataFrame(data, columns=columns)\n",
    "    return df\n",
    "\n",
    "print(truth_table())\n",
    "```\n",
    "\n",
    "### 3.3 Implementación de Funciones en `Python` para Generar Tablas de Verdad Automáticamente\n",
    "Podemos automatizar la generación de tablas de verdad para cualquier expresión lógica definida en Python:\n",
    "\n",
    "```python\n",
    "from sympy import symbols, Not, And, Or, Implies, Equivalent\n",
    "from sympy.logic.boolalg import truth_table\n",
    "\n",
    "def generate_truth_table(expr):\n",
    "    P, Q = symbols('P Q')\n",
    "    table = truth_table(expr, [P, Q])\n",
    "    print(\"| P | Q | {} |\".format(expr))\n",
    "    print(\"|---|---|{}|\".format('-' * (len(str(expr)) + 2)))\n",
    "    for row in table:\n",
    "        print(\"| {} | {} | {} |\".format(row[0], row[1], row[2]))\n",
    "\n",
    "expr = And(symbols('P'), symbols('Q'))\n",
    "generate_truth_table(expr)\n",
    "```\n",
    "\n",
    "Esta implementación permite evaluar cualquier operación lógica en Python y generar automáticamente su tabla de verdad, facilitando la enseñanza y el aprendizaje de la lógica proposicional.\n",
    "\n"
   ]
  },
  {
   "cell_type": "markdown",
   "id": "24955afe",
   "metadata": {},
   "source": [
    "\n",
    "### 4. Operadores lógicos en Python con NumPy, SymPy y schemdraw\n",
    "- Implementación de operadores lógicos con `NumPy` para operaciones vectorizadas.\n",
    "- Uso de `SymPy` para simplificación de expresiones lógicas.\n",
    "- Diagramas lógicos con `schemdraw` para representar circuitos lógicos.\n"
   ]
  },
  {
   "cell_type": "markdown",
   "id": "2e142a55",
   "metadata": {},
   "source": [
    "## 3. Tablas de Verdad y su Representación\n",
    "\n",
    "En esta sección, exploraremos la construcción de tablas de verdad para las operaciones lógicas básicas y su representación en Python utilizando `Pandas`.\n",
    "\n",
    "### 3.1 Construcción de Tablas de Verdad para Operaciones Básicas\n",
    "\n",
    "Las operaciones lógicas fundamentales que abordaremos son:\n",
    "- **AND (\\land)**: Solo es verdadera si ambas proposiciones son verdaderas.\n",
    "- **OR (\\lor)**: Es verdadera si al menos una de las proposiciones es verdadera.\n",
    "- **NOT (\\neg)**: Invierte el valor de verdad de una proposición.\n",
    "- **XOR**: Es verdadera si solo una de las proposiciones es verdadera, pero no ambas.\n",
    "- **IMPLIES (\\Rightarrow)**: Es falsa solo si la primera proposición es verdadera y la segunda es falsa.\n",
    "- **EQUIVALENT (\\Leftrightarrow)**: Es verdadera si ambas proposiciones tienen el mismo valor de verdad.\n",
    "\n",
    "#### Ejemplo de una Tabla de Verdad\n",
    "Para dos proposiciones, las combinaciones posibles de valores de verdad son:\n",
    "\n",
    "| P | Q | P AND Q | P OR Q | NOT P | P XOR Q | P -> Q | P <-> Q |\n",
    "|---|---|--------|-------|------|--------|------|------|\n",
    "| T | T | T      | T     | F    | F      | T    | T    |\n",
    "| T | F | F      | T     | F    | T      | F    | F    |\n",
    "| F | T | F      | T     | T    | T      | T    | F    |\n",
    "| F | F | F      | F     | T    | F      | T    | T    |\n",
    "\n",
    "### 3.2 Representación Tabular usando `Pandas`\n",
    "Para manejar tablas de verdad de manera programática, utilizamos la biblioteca `Pandas` en Python. A continuación, implementamos una representación tabular de las operaciones lógicas:\n",
    "\n",
    "```python\n",
    "import pandas as pd\n",
    "import itertools\n",
    "\n",
    "def truth_table():\n",
    "    values = list(itertools.product([True, False], repeat=2))\n",
    "    data = []\n",
    "    for P, Q in values:\n",
    "        data.append([P, Q, P and Q, P or Q, not P, P != Q, not P or Q, P == Q])\n",
    "    \n",
    "    columns = [\"P\", \"Q\", \"P AND Q\", \"P OR Q\", \"NOT P\", \"P XOR Q\", \"P -> Q\", \"P <-> Q\"]\n",
    "    df = pd.DataFrame(data, columns=columns)\n",
    "    return df\n",
    "\n",
    "print(truth_table())\n",
    "```\n",
    "\n",
    "### 3.3 Implementación de Funciones en `Python` para Generar Tablas de Verdad Automáticamente\n",
    "Podemos automatizar la generación de tablas de verdad para cualquier expresión lógica definida en Python:\n",
    "\n",
    "```python\n",
    "from sympy import symbols, Not, And, Or, Implies, Equivalent\n",
    "from sympy.logic.boolalg import truth_table\n",
    "\n",
    "def generate_truth_table(expr):\n",
    "    P, Q = symbols('P Q')\n",
    "    table = truth_table(expr, [P, Q])\n",
    "    print(\"| P | Q | {} |\".format(expr))\n",
    "    print(\"|---|---|{}|\".format('-' * (len(str(expr)) + 2)))\n",
    "    for row in table:\n",
    "        print(\"| {} | {} | {} |\".format(row[0], row[1], row[2]))\n",
    "\n",
    "expr = And(symbols('P'), symbols('Q'))\n",
    "generate_truth_table(expr)\n",
    "```\n",
    "\n",
    "Esta implementación permite evaluar cualquier operación lógica en Python y generar automáticamente su tabla de verdad, facilitando la enseñanza y el aprendizaje de la lógica proposicional.\n",
    "\n",
    "## 4. Operadores Lógicos en Python con NumPy, SymPy y schemdraw\n",
    "\n",
    "En esta sección, exploraremos cómo implementar operadores lógicos en Python utilizando `NumPy` para operaciones vectorizadas, `SymPy` para la simplificación de expresiones lógicas y `schemdraw` para la representación de circuitos lógicos.\n",
    "\n",
    "### 4.1 Implementación de Operadores Lógicos con `NumPy`\n",
    "`NumPy` permite realizar operaciones lógicas de manera eficiente sobre matrices y arreglos. A continuación, se muestra un ejemplo de cómo utilizar `NumPy` para aplicar operadores lógicos a vectores de datos:\n",
    "\n",
    "```python\n",
    "import numpy as np\n",
    "\n",
    "P = np.array([True, True, False, False])\n",
    "Q = np.array([True, False, True, False])\n",
    "\n",
    "and_result = np.logical_and(P, Q)\n",
    "or_result = np.logical_or(P, Q)\n",
    "not_result = np.logical_not(P)\n",
    "xor_result = np.logical_xor(P, Q)\n",
    "\n",
    "print(\"P AND Q:\", and_result)\n",
    "print(\"P OR Q:\", or_result)\n",
    "print(\"NOT P:\", not_result)\n",
    "print(\"P XOR Q:\", xor_result)\n",
    "```\n",
    "\n",
    "### 4.2 Uso de `SymPy` para Simplificación de Expresiones Lógicas\n",
    "`SymPy` es útil para manipular expresiones lógicas simbólicamente y simplificarlas:\n",
    "\n",
    "```python\n",
    "from sympy import symbols, simplify_logic\n",
    "\n",
    "P, Q = symbols('P Q')\n",
    "expr = (P & ~Q) | (~P & Q)  # Expresión XOR\n",
    "simplified_expr = simplify_logic(expr)\n",
    "\n",
    "print(\"Expresión original:\", expr)\n",
    "print(\"Expresión simplificada:\", simplified_expr)\n",
    "```\n",
    "\n",
    "### 4.3 Diagramas Lógicos con `schemdraw`\n",
    "Para representar circuitos lógicos gráficamente, utilizamos `schemdraw`. A continuación, se muestra un ejemplo de cómo dibujar un circuito lógico simple:\n",
    "\n",
    "```python\n",
    "import schemdraw\n",
    "import schemdraw.logic as logic\n",
    "\n",
    "d = schemdraw.Drawing()\n",
    "and_gate = d.add(logic.And().label('AND'))\n",
    "or_gate = d.add(logic.Or().at(and_gate.E).label('OR'))\n",
    "d.add(logic.Line().at(or_gate.E).length(1))\n",
    "\n",
    "d.draw()\n",
    "```\n",
    "\n",
    "Este código genera un diagrama con una puerta lógica `AND` seguida de una `OR`, permitiendo visualizar el flujo de señales lógicas en un circuito digital.\n",
    "\n",
    "Con estas herramientas, es posible analizar, simplificar y representar gráficamente expresiones lógicas, facilitando el aprendizaje y la aplicación de la lógica proposicional en distintos contextos.\n",
    "\n"
   ]
  },
  {
   "cell_type": "markdown",
   "id": "1b1b533f",
   "metadata": {},
   "source": [
    "\n",
    "### 5. Visualización de las operaciones lógicas\n",
    "- Graficación de valores de verdad usando `Matplotlib` y `Seaborn`.\n",
    "- Representación de expresiones lógicas en el plano cartesiano con `Plotly`.\n"
   ]
  },
  {
   "cell_type": "markdown",
   "id": "3f4ff383",
   "metadata": {},
   "source": []
  },
  {
   "cell_type": "markdown",
   "id": "82a8b209",
   "metadata": {},
   "source": [
    "\n",
    "### 6. Animaciones en Python con `matplotlib.animation`\n",
    "- Creación de animaciones para visualizar la evaluación de proposiciones lógicas.\n",
    "- Uso de `FuncAnimation` de `matplotlib.animation` para demostrar la variación de resultados en tiempo real.\n",
    "- Ejemplos interactivos en Jupyter Notebook.\n"
   ]
  },
  {
   "cell_type": "markdown",
   "id": "aaca4b90",
   "metadata": {},
   "source": [
    "\n",
    "### 7. Animaciones con `ipywidgets` para verificar interactivamente que ciertas operaciones lógicas son tautologías\n",
    "- Uso de `ipywidgets` para crear controles interactivos.\n",
    "- Verificación de tautologías mediante visualización dinámica.\n",
    "- Implementación de funciones de usuario para experimentar con diferentes expresiones.\n"
   ]
  },
  {
   "cell_type": "markdown",
   "id": "2bfb668b",
   "metadata": {},
   "source": [
    "\n",
    "### 8. Aplicaciones de las operaciones lógicas en el mundo real\n",
    "- Uso en diseño de circuitos digitales.\n",
    "- Aplicaciones en inteligencia artificial y aprendizaje automático.\n",
    "- Lógica proposicional en toma de decisiones.\n",
    "- Implementación de ejemplos prácticos con `Python` en Jupyter Notebook.\n",
    "\n"
   ]
  },
  {
   "cell_type": "markdown",
   "id": "c7a08827",
   "metadata": {},
   "source": [
    "# Representaciones de algunos operadores como circuitos lógicos  \n",
    "\n"
   ]
  },
  {
   "cell_type": "code",
   "execution_count": 8,
   "id": "07aec7de",
   "metadata": {},
   "outputs": [
    {
     "data": {
      "image/png": "[encoded data removed]",
      "image/svg+xml": [
       "<?xml version=\"1.0\" encoding=\"utf-8\" standalone=\"no\"?>\n",
       "<!DOCTYPE svg PUBLIC \"-//W3C//DTD SVG 1.1//EN\"\n",
       "  \"http://www.w3.org/Graphics/SVG/1.1/DTD/svg11.dtd\">\n",
       "<svg xmlns:xlink=\"http://www.w3.org/1999/xlink\" width=\"238.866pt\" height=\"102.06pt\" viewBox=\"0 0 238.866 102.06\" xmlns=\"http://www.w3.org/2000/svg\" version=\"1.1\">\n",
       " <metadata>\n",
       "  <rdf:RDF xmlns:dc=\"http://purl.org/dc/elements/1.1/\" xmlns:cc=\"http://creativecommons.org/ns#\" xmlns:rdf=\"http://www.w3.org/1999/02/22-rdf-syntax-ns#\">\n",
       "   <cc:Work>\n",
       "    <dc:type rdf:resource=\"http://purl.org/dc/dcmitype/StillImage\"/>\n",
       "    <dc:date>2025-02-21T16:26:09.265946</dc:date>\n",
       "    <dc:format>image/svg+xml</dc:format>\n",
       "    <dc:creator>\n",
       "     <cc:Agent>\n",
       "      <dc:title>Matplotlib v3.10.0, https://matplotlib.org/</dc:title>\n",
       "     </cc:Agent>\n",
       "    </dc:creator>\n",
       "   </cc:Work>\n",
       "  </rdf:RDF>\n",
       " </metadata>\n",
       " <defs>\n",
       "  <style type=\"text/css\">*{stroke-linejoin: round; stroke-linecap: butt}</style>\n",
       " </defs>\n",
       " <g id=\"figure_1\">\n",
       "  <g id=\"patch_1\">\n",
       "   <path d=\"M 0 102.06 \n",
       "L 238.866 102.06 \n",
       "L 238.866 0 \n",
       "L 0 0 \n",
       "z\n",
       "\" style=\"fill: #ffffff\"/>\n",
       "  </g>\n",
       "  <g id=\"axes_1\">\n",
       "   <g id=\"patch_2\">\n",
       "    <path d=\"M 75.084 27 \n",
       "C 76.229677 27 77.328585 26.544818 78.138701 25.734701 \n",
       "C 78.948818 24.924585 79.404 23.825677 79.404 22.68 \n",
       "C 79.404 21.534323 78.948818 20.435415 78.138701 19.625299 \n",
       "C 77.328585 18.815182 76.229677 18.36 75.084 18.36 \n",
       "C 73.938323 18.36 72.839415 18.815182 72.029299 19.625299 \n",
       "C 71.219182 20.435415 70.764 21.534323 70.764 22.68 \n",
       "C 70.764 23.825677 71.219182 24.924585 72.029299 25.734701 \n",
       "C 72.839415 26.544818 73.938323 27 75.084 27 \n",
       "L 75.084 27 \n",
       "z\n",
       "\" clip-path=\"url(#pd2d4ba54df)\" style=\"fill: none; stroke: #000000; stroke-width: 2; stroke-linejoin: miter\"/>\n",
       "   </g>\n",
       "   <g id=\"line2d_1\">\n",
       "    <path d=\"M 9.384 22.68 \n",
       "L 47.364 22.68 \n",
       "M 79.404 22.68 \n",
       "L 117.384 22.68 \n",
       "\" clip-path=\"url(#pd2d4ba54df)\" style=\"fill: none; stroke: #000000; stroke-width: 2; stroke-linecap: round\"/>\n",
       "   </g>\n",
       "   <g id=\"line2d_2\">\n",
       "    <path d=\"M 47.364 4.68 \n",
       "L 70.764 22.68 \n",
       "L 47.364 40.68 \n",
       "L 47.364 4.68 \n",
       "\" clip-path=\"url(#pd2d4ba54df)\" style=\"fill: none; stroke: #000000; stroke-width: 2; stroke-linecap: round\"/>\n",
       "   </g>\n",
       "   <g id=\"line2d_3\">\n",
       "    <path d=\"M 115.404 40.68 \n",
       "L 116.557264 40.643017 \n",
       "L 117.705789 40.53222 \n",
       "L 118.844855 40.348065 \n",
       "L 119.969783 40.091308 \n",
       "L 121.075948 39.763003 \n",
       "L 122.158806 39.364502 \n",
       "L 123.213907 38.89744 \n",
       "L 124.236916 38.363737 \n",
       "L 125.223628 37.765586 \n",
       "L 126.16999 37.105445 \n",
       "L 127.072111 36.386027 \n",
       "L 127.926286 35.610288 \n",
       "L 128.729004 34.781416 \n",
       "L 129.476967 33.902816 \n",
       "L 130.167101 32.9781 \n",
       "L 130.79657 32.011066 \n",
       "L 131.362788 31.005689 \n",
       "L 131.863427 29.9661 \n",
       "L 132.296432 28.896571 \n",
       "L 132.660021 27.801497 \n",
       "L 132.952702 26.685377 \n",
       "L 133.173272 25.552798 \n",
       "L 133.320824 24.408414 \n",
       "L 133.394752 23.256928 \n",
       "L 133.394752 22.103072 \n",
       "L 133.320824 20.951586 \n",
       "L 133.173272 19.807202 \n",
       "L 132.952702 18.674623 \n",
       "L 132.660021 17.558503 \n",
       "L 132.296432 16.463429 \n",
       "L 131.863427 15.3939 \n",
       "L 131.362788 14.354311 \n",
       "L 130.79657 13.348934 \n",
       "L 130.167101 12.3819 \n",
       "L 129.476967 11.457184 \n",
       "L 128.729004 10.578584 \n",
       "L 127.926286 9.749712 \n",
       "L 127.072111 8.973973 \n",
       "L 126.16999 8.254555 \n",
       "L 125.223628 7.594414 \n",
       "L 124.236916 6.996263 \n",
       "L 123.213907 6.46256 \n",
       "L 122.158806 5.995498 \n",
       "L 121.075948 5.596997 \n",
       "L 119.969783 5.268692 \n",
       "L 118.844855 5.011935 \n",
       "L 117.705789 4.82778 \n",
       "L 116.557264 4.716983 \n",
       "L 115.404 4.68 \n",
       "L 115.404 4.68 \n",
       "L 92.004 4.68 \n",
       "L 92.004 22.68 \n",
       "L 92.004 40.68 \n",
       "L 115.404 40.68 \n",
       "\" clip-path=\"url(#pd2d4ba54df)\" style=\"fill: none; stroke: #000000; stroke-width: 2; stroke-linecap: round\"/>\n",
       "   </g>\n",
       "   <g id=\"line2d_4\">\n",
       "    <path d=\"M 79.404 31.68 \n",
       "L 92.004 31.68 \n",
       "\" clip-path=\"url(#pd2d4ba54df)\" style=\"fill: none; stroke: #000000; stroke-width: 2; stroke-linecap: round\"/>\n",
       "   </g>\n",
       "   <g id=\"line2d_5\">\n",
       "    <path d=\"M 79.404 13.68 \n",
       "L 92.004 13.68 \n",
       "\" clip-path=\"url(#pd2d4ba54df)\" style=\"fill: none; stroke: #000000; stroke-width: 2; stroke-linecap: round\"/>\n",
       "   </g>\n",
       "   <g id=\"line2d_6\">\n",
       "    <path d=\"M 133.404 22.68 \n",
       "L 146.004 22.68 \n",
       "\" clip-path=\"url(#pd2d4ba54df)\" style=\"fill: none; stroke: #000000; stroke-width: 2; stroke-linecap: round\"/>\n",
       "   </g>\n",
       "   <g id=\"line2d_7\">\n",
       "    <path d=\"M 9.384 94.68 \n",
       "L 44.394 63.18 \n",
       "L 79.404 31.68 \n",
       "\" clip-path=\"url(#pd2d4ba54df)\" style=\"fill: none; stroke: #000000; stroke-width: 2; stroke-linecap: round\"/>\n",
       "   </g>\n",
       "   <g id=\"line2d_8\">\n",
       "    <path d=\"M 158.604 40.32 \n",
       "L 178.146857 40.253878 \n",
       "L 180.204 39.96 \n",
       "L 182.261143 39.43102 \n",
       "L 184.318286 38.666939 \n",
       "L 186.375429 37.667755 \n",
       "L 188.432571 36.433469 \n",
       "L 190.489714 34.964082 \n",
       "L 192.546857 33.259592 \n",
       "L 195.118286 30.798367 \n",
       "L 197.689714 27.969796 \n",
       "L 200.261143 24.773878 \n",
       "L 201.804 22.68 \n",
       "L 201.804 22.68 \n",
       "L 199.232571 19.263673 \n",
       "L 196.661143 16.214694 \n",
       "L 194.089714 13.533061 \n",
       "L 191.518286 11.218776 \n",
       "L 189.461143 9.631837 \n",
       "L 187.404 8.28 \n",
       "L 185.346857 7.163265 \n",
       "L 183.289714 6.281633 \n",
       "L 181.232571 5.635102 \n",
       "L 179.175429 5.223673 \n",
       "L 177.118286 5.047347 \n",
       "L 176.604 5.04 \n",
       "L 158.604 5.04 \n",
       "L 158.604 5.04 \n",
       "L 160.5912 7.2 \n",
       "L 162.3192 9.36 \n",
       "L 163.788 11.52 \n",
       "L 164.9976 13.68 \n",
       "L 165.948 15.84 \n",
       "L 166.6392 18 \n",
       "L 167.0712 20.16 \n",
       "L 167.244 22.32 \n",
       "L 167.1576 24.48 \n",
       "L 166.812 26.64 \n",
       "L 166.2072 28.8 \n",
       "L 165.3432 30.96 \n",
       "L 164.22 33.12 \n",
       "L 162.8376 35.28 \n",
       "L 161.196 37.44 \n",
       "L 159.2952 39.6 \n",
       "L 158.604 40.32 \n",
       "L 158.604 40.32 \n",
       "\" clip-path=\"url(#pd2d4ba54df)\" style=\"fill: none; stroke: #000000; stroke-width: 2; stroke-linecap: round\"/>\n",
       "   </g>\n",
       "   <g id=\"line2d_9\">\n",
       "    <path d=\"M 146.004 31.68 \n",
       "L 164.9976 31.68 \n",
       "\" clip-path=\"url(#pd2d4ba54df)\" style=\"fill: none; stroke: #000000; stroke-width: 2; stroke-linecap: round\"/>\n",
       "   </g>\n",
       "   <g id=\"line2d_10\">\n",
       "    <path d=\"M 146.004 13.68 \n",
       "L 164.9976 13.68 \n",
       "\" clip-path=\"url(#pd2d4ba54df)\" style=\"fill: none; stroke: #000000; stroke-width: 2; stroke-linecap: round\"/>\n",
       "   </g>\n",
       "   <g id=\"line2d_11\">\n",
       "    <path d=\"M 201.804 22.68 \n",
       "L 214.404 22.68 \n",
       "\" clip-path=\"url(#pd2d4ba54df)\" style=\"fill: none; stroke: #000000; stroke-width: 2; stroke-linecap: round\"/>\n",
       "   </g>\n",
       "   <g id=\"line2d_12\">\n",
       "    <path d=\"M 9.384 94.68 \n",
       "L 77.694 63.18 \n",
       "L 146.004 31.68 \n",
       "\" clip-path=\"url(#pd2d4ba54df)\" style=\"fill: none; stroke: #000000; stroke-width: 2; stroke-linecap: round\"/>\n",
       "   </g>\n",
       "   <g id=\"patch_3\">\n",
       "    <path d=\"M 9.384 25.38 \n",
       "C 10.100048 25.38 10.786866 25.095511 11.293188 24.589188 \n",
       "C 11.799511 24.082866 12.084 23.396048 12.084 22.68 \n",
       "C 12.084 21.963952 11.799511 21.277134 11.293188 20.770812 \n",
       "C 10.786866 20.264489 10.100048 19.98 9.384 19.98 \n",
       "C 8.667952 19.98 7.981134 20.264489 7.474812 20.770812 \n",
       "C 6.968489 21.277134 6.684 21.963952 6.684 22.68 \n",
       "C 6.684 23.396048 6.968489 24.082866 7.474812 24.589188 \n",
       "C 7.981134 25.095511 8.667952 25.38 9.384 25.38 \n",
       "z\n",
       "\" clip-path=\"url(#pd2d4ba54df)\" style=\"fill: #ffffff; stroke: #000000; stroke-width: 2; stroke-linejoin: miter\"/>\n",
       "   </g>\n",
       "   <g id=\"text_1\">\n",
       "    <!-- A -->\n",
       "    <g transform=\"translate(4.595562 13.468437) scale(0.14 -0.14)\">\n",
       "     <defs>\n",
       "      <path id=\"DejaVuSans-41\" d=\"M 2188 4044 \n",
       "L 1331 1722 \n",
       "L 3047 1722 \n",
       "L 2188 4044 \n",
       "z\n",
       "M 1831 4666 \n",
       "L 2547 4666 \n",
       "L 4325 0 \n",
       "L 3669 0 \n",
       "L 3244 1197 \n",
       "L 1141 1197 \n",
       "L 716 0 \n",
       "L 50 0 \n",
       "L 1831 4666 \n",
       "z\n",
       "\" transform=\"scale(0.015625)\"/>\n",
       "     </defs>\n",
       "     <use xlink:href=\"#DejaVuSans-41\"/>\n",
       "    </g>\n",
       "   </g>\n",
       "   <g id=\"patch_4\">\n",
       "    <path d=\"M 9.384 97.38 \n",
       "C 10.100048 97.38 10.786866 97.095511 11.293188 96.589188 \n",
       "C 11.799511 96.082866 12.084 95.396048 12.084 94.68 \n",
       "C 12.084 93.963952 11.799511 93.277134 11.293188 92.770812 \n",
       "C 10.786866 92.264489 10.100048 91.98 9.384 91.98 \n",
       "C 8.667952 91.98 7.981134 92.264489 7.474812 92.770812 \n",
       "C 6.968489 93.277134 6.684 93.963952 6.684 94.68 \n",
       "C 6.684 95.396048 6.968489 96.082866 7.474812 96.589188 \n",
       "C 7.981134 97.095511 8.667952 97.38 9.384 97.38 \n",
       "z\n",
       "\" clip-path=\"url(#pd2d4ba54df)\" style=\"fill: #ffffff; stroke: #000000; stroke-width: 2; stroke-linejoin: miter\"/>\n",
       "   </g>\n",
       "   <g id=\"text_2\">\n",
       "    <!-- B -->\n",
       "    <g transform=\"translate(4.581344 85.468437) scale(0.14 -0.14)\">\n",
       "     <defs>\n",
       "      <path id=\"DejaVuSans-42\" d=\"M 1259 2228 \n",
       "L 1259 519 \n",
       "L 2272 519 \n",
       "Q 2781 519 3026 730 \n",
       "Q 3272 941 3272 1375 \n",
       "Q 3272 1813 3026 2020 \n",
       "Q 2781 2228 2272 2228 \n",
       "L 1259 2228 \n",
       "z\n",
       "M 1259 4147 \n",
       "L 1259 2741 \n",
       "L 2194 2741 \n",
       "Q 2656 2741 2882 2914 \n",
       "Q 3109 3088 3109 3444 \n",
       "Q 3109 3797 2882 3972 \n",
       "Q 2656 4147 2194 4147 \n",
       "L 1259 4147 \n",
       "z\n",
       "M 628 4666 \n",
       "L 2241 4666 \n",
       "Q 2963 4666 3353 4366 \n",
       "Q 3744 4066 3744 3513 \n",
       "Q 3744 3084 3544 2831 \n",
       "Q 3344 2578 2956 2516 \n",
       "Q 3422 2416 3680 2098 \n",
       "Q 3938 1781 3938 1306 \n",
       "Q 3938 681 3513 340 \n",
       "Q 3088 0 2303 0 \n",
       "L 628 0 \n",
       "L 628 4666 \n",
       "z\n",
       "\" transform=\"scale(0.015625)\"/>\n",
       "     </defs>\n",
       "     <use xlink:href=\"#DejaVuSans-42\"/>\n",
       "    </g>\n",
       "   </g>\n",
       "   <g id=\"patch_5\">\n",
       "    <path d=\"M 214.404 25.38 \n",
       "C 215.120048 25.38 215.806866 25.095511 216.313188 24.589188 \n",
       "C 216.819511 24.082866 217.104 23.396048 217.104 22.68 \n",
       "C 217.104 21.963952 216.819511 21.277134 216.313188 20.770812 \n",
       "C 215.806866 20.264489 215.120048 19.98 214.404 19.98 \n",
       "C 213.687952 19.98 213.001134 20.264489 212.494812 20.770812 \n",
       "C 211.988489 21.277134 211.704 21.963952 211.704 22.68 \n",
       "C 211.704 23.396048 211.988489 24.082866 212.494812 24.589188 \n",
       "C 213.001134 25.095511 213.687952 25.38 214.404 25.38 \n",
       "z\n",
       "\" clip-path=\"url(#pd2d4ba54df)\" style=\"stroke: #000000; stroke-width: 2; stroke-linejoin: miter\"/>\n",
       "   </g>\n",
       "   <g id=\"text_3\">\n",
       "    <!-- Salida -->\n",
       "    <g transform=\"translate(193.047438 13.468437) scale(0.14 -0.14)\">\n",
       "     <defs>\n",
       "      <path id=\"DejaVuSans-53\" d=\"M 3425 4513 \n",
       "L 3425 3897 \n",
       "Q 3066 4069 2747 4153 \n",
       "Q 2428 4238 2131 4238 \n",
       "Q 1616 4238 1336 4038 \n",
       "Q 1056 3838 1056 3469 \n",
       "Q 1056 3159 1242 3001 \n",
       "Q 1428 2844 1947 2747 \n",
       "L 2328 2669 \n",
       "Q 3034 2534 3370 2195 \n",
       "Q 3706 1856 3706 1288 \n",
       "Q 3706 609 3251 259 \n",
       "Q 2797 -91 1919 -91 \n",
       "Q 1588 -91 1214 -16 \n",
       "Q 841 59 441 206 \n",
       "L 441 856 \n",
       "Q 825 641 1194 531 \n",
       "Q 1563 422 1919 422 \n",
       "Q 2459 422 2753 634 \n",
       "Q 3047 847 3047 1241 \n",
       "Q 3047 1584 2836 1778 \n",
       "Q 2625 1972 2144 2069 \n",
       "L 1759 2144 \n",
       "Q 1053 2284 737 2584 \n",
       "Q 422 2884 422 3419 \n",
       "Q 422 4038 858 4394 \n",
       "Q 1294 4750 2059 4750 \n",
       "Q 2388 4750 2728 4690 \n",
       "Q 3069 4631 3425 4513 \n",
       "z\n",
       "\" transform=\"scale(0.015625)\"/>\n",
       "      <path id=\"DejaVuSans-61\" d=\"M 2194 1759 \n",
       "Q 1497 1759 1228 1600 \n",
       "Q 959 1441 959 1056 \n",
       "Q 959 750 1161 570 \n",
       "Q 1363 391 1709 391 \n",
       "Q 2188 391 2477 730 \n",
       "Q 2766 1069 2766 1631 \n",
       "L 2766 1759 \n",
       "L 2194 1759 \n",
       "z\n",
       "M 3341 1997 \n",
       "L 3341 0 \n",
       "L 2766 0 \n",
       "L 2766 531 \n",
       "Q 2569 213 2275 61 \n",
       "Q 1981 -91 1556 -91 \n",
       "Q 1019 -91 701 211 \n",
       "Q 384 513 384 1019 \n",
       "Q 384 1609 779 1909 \n",
       "Q 1175 2209 1959 2209 \n",
       "L 2766 2209 \n",
       "L 2766 2266 \n",
       "Q 2766 2663 2505 2880 \n",
       "Q 2244 3097 1772 3097 \n",
       "Q 1472 3097 1187 3025 \n",
       "Q 903 2953 641 2809 \n",
       "L 641 3341 \n",
       "Q 956 3463 1253 3523 \n",
       "Q 1550 3584 1831 3584 \n",
       "Q 2591 3584 2966 3190 \n",
       "Q 3341 2797 3341 1997 \n",
       "z\n",
       "\" transform=\"scale(0.015625)\"/>\n",
       "      <path id=\"DejaVuSans-6c\" d=\"M 603 4863 \n",
       "L 1178 4863 \n",
       "L 1178 0 \n",
       "L 603 0 \n",
       "L 603 4863 \n",
       "z\n",
       "\" transform=\"scale(0.015625)\"/>\n",
       "      <path id=\"DejaVuSans-69\" d=\"M 603 3500 \n",
       "L 1178 3500 \n",
       "L 1178 0 \n",
       "L 603 0 \n",
       "L 603 3500 \n",
       "z\n",
       "M 603 4863 \n",
       "L 1178 4863 \n",
       "L 1178 4134 \n",
       "L 603 4134 \n",
       "L 603 4863 \n",
       "z\n",
       "\" transform=\"scale(0.015625)\"/>\n",
       "      <path id=\"DejaVuSans-64\" d=\"M 2906 2969 \n",
       "L 2906 4863 \n",
       "L 3481 4863 \n",
       "L 3481 0 \n",
       "L 2906 0 \n",
       "L 2906 525 \n",
       "Q 2725 213 2448 61 \n",
       "Q 2172 -91 1784 -91 \n",
       "Q 1150 -91 751 415 \n",
       "Q 353 922 353 1747 \n",
       "Q 353 2572 751 3078 \n",
       "Q 1150 3584 1784 3584 \n",
       "Q 2172 3584 2448 3432 \n",
       "Q 2725 3281 2906 2969 \n",
       "z\n",
       "M 947 1747 \n",
       "Q 947 1113 1208 752 \n",
       "Q 1469 391 1925 391 \n",
       "Q 2381 391 2643 752 \n",
       "Q 2906 1113 2906 1747 \n",
       "Q 2906 2381 2643 2742 \n",
       "Q 2381 3103 1925 3103 \n",
       "Q 1469 3103 1208 2742 \n",
       "Q 947 2381 947 1747 \n",
       "z\n",
       "\" transform=\"scale(0.015625)\"/>\n",
       "     </defs>\n",
       "     <use xlink:href=\"#DejaVuSans-53\"/>\n",
       "     <use xlink:href=\"#DejaVuSans-61\" transform=\"translate(63.476562 0)\"/>\n",
       "     <use xlink:href=\"#DejaVuSans-6c\" transform=\"translate(124.755859 0)\"/>\n",
       "     <use xlink:href=\"#DejaVuSans-69\" transform=\"translate(152.539062 0)\"/>\n",
       "     <use xlink:href=\"#DejaVuSans-64\" transform=\"translate(180.322266 0)\"/>\n",
       "     <use xlink:href=\"#DejaVuSans-61\" transform=\"translate(243.798828 0)\"/>\n",
       "    </g>\n",
       "   </g>\n",
       "  </g>\n",
       " </g>\n",
       " <defs>\n",
       "  <clipPath id=\"pd2d4ba54df\">\n",
       "   <rect x=\"0\" y=\"0\" width=\"238.866\" height=\"102.06\"/>\n",
       "  </clipPath>\n",
       " </defs>\n",
       "</svg>\n"
      ],
      "text/plain": [
       "<schemdraw.backends.mpl.Figure object at 0x0000017255F266C0>"
      ]
     },
     "execution_count": 8,
     "metadata": {},
     "output_type": "execute_result"
    }
   ],
   "source": [
    "import schemdraw\n",
    "import schemdraw.logic as logic\n",
    "\n",
    "# Crear el diagrama\n",
    "d = schemdraw.Drawing()\n",
    "\n",
    "# Agregar entradas\n",
    "A = d.add(logic.Dot(open=True, label='A'))  # Entrada A\n",
    "B = d.add(logic.Dot(open=True, label='B', xy=[0, -2]))  # Entrada B\n",
    "\n",
    "# Agregar NOT a A\n",
    "n1 = d.add(logic.Not().right().at(A.xy))  # Conectamos NOT a la ubicación de A\n",
    "\n",
    "# Agregar AND con la salida del NOT\n",
    "and1 = d.add(logic.And().right().at(n1.out))  # AND conectado a la salida del NOT\n",
    "\n",
    "# Conectar la entrada B al AND\n",
    "d.add(logic.Line().at(B.xy).to(and1.in2))  # Conectamos B a la segunda entrada del AND\n",
    "\n",
    "# Agregar OR con la salida del AND\n",
    "or1 = d.add(logic.Or().right().at(and1.out))  # OR conectado a la salida del AND\n",
    "\n",
    "# Conectar la entrada B al OR\n",
    "d.add(logic.Line().at(B.xy).to(or1.in2))  # Conectamos B a la segunda entrada del OR\n",
    "\n",
    "# Agregar salida\n",
    "d.add(logic.Dot(label=\"Salida\").right().at(or1.out))\n",
    "\n",
    "# Dibujar circuito\n",
    "d.draw()\n",
    "\n"
   ]
  },
  {
   "cell_type": "markdown",
   "id": "1e7c511f",
   "metadata": {},
   "source": [
    "¡Claro! Vamos a analizar el código paso a paso para que entiendas cómo funciona y cómo puedes modificarlo para representar cualquier operación lógica entre dos proposiciones.  \n",
    "\n",
    "---\n"
   ]
  },
  {
   "cell_type": "markdown",
   "id": "f8ce8925",
   "metadata": {},
   "source": [
    "\n",
    "## **Explicación del Código**\n",
    "Este código usa la librería `schemdraw` y su módulo `schemdraw.logic` para representar circuitos lógicos en Python.  \n"
   ]
  },
  {
   "cell_type": "markdown",
   "id": "bdb33fe6",
   "metadata": {},
   "source": [
    "\n",
    "### **1️⃣ Importar librerías**\n",
    "schem: esquema. "
   ]
  },
  {
   "cell_type": "code",
   "execution_count": 1,
   "id": "597aee09",
   "metadata": {},
   "outputs": [],
   "source": [
    "import schemdraw\n",
    "import schemdraw.logic as logic\n"
   ]
  },
  {
   "cell_type": "markdown",
   "id": "49c75e03",
   "metadata": {},
   "source": [
    "Aquí importamos `schemdraw` y su submódulo `logic`, que contiene las compuertas lógicas (`AND`, `OR`, `NOT`, etc.).\n",
    "\n",
    "---\n"
   ]
  },
  {
   "cell_type": "markdown",
   "id": "d6c2e723",
   "metadata": {},
   "source": [
    "\n",
    "### **2️⃣ Crear el diagrama**\n"
   ]
  },
  {
   "cell_type": "code",
   "execution_count": 2,
   "id": "c79e6aaa",
   "metadata": {},
   "outputs": [],
   "source": [
    "\n",
    "d = schemdraw.Drawing()\n",
    "\n"
   ]
  },
  {
   "cell_type": "markdown",
   "id": "3527af4c",
   "metadata": {},
   "source": [
    "Esto inicializa un lienzo (`d`) donde agregaremos los componentes del circuito.\n",
    "\n",
    "---\n"
   ]
  },
  {
   "cell_type": "markdown",
   "id": "aad71d57",
   "metadata": {},
   "source": [
    "\n",
    "### **3️⃣ Agregar las entradas**\n"
   ]
  },
  {
   "cell_type": "code",
   "execution_count": 3,
   "id": "ee3df0ff",
   "metadata": {},
   "outputs": [],
   "source": [
    "\n",
    "A = d.add(logic.Dot(open=True, label='A'))  # Entrada A\n",
    "B = d.add(logic.Dot(open=True, label='B', xy=[0, -2]))  # Entrada B\n",
    "\n"
   ]
  },
  {
   "cell_type": "markdown",
   "id": "85b77113",
   "metadata": {},
   "source": [
    "Aquí agregamos los puntos de entrada:\n",
    "- `A`: Una entrada en la posición por defecto.\n",
    "- `B`: Otra entrada, colocada más abajo con `xy=[0, -2]`.\n",
    "\n",
    "📌 **Cada `Dot()` representa una variable lógica (una proposición) en el circuito.**\n",
    "\n",
    "---\n"
   ]
  },
  {
   "cell_type": "markdown",
   "id": "52fff856",
   "metadata": {},
   "source": [
    "\n",
    "### **4️⃣ Agregar una compuerta NOT a A**\n"
   ]
  },
  {
   "cell_type": "code",
   "execution_count": 7,
   "id": "0138a06e",
   "metadata": {},
   "outputs": [],
   "source": [
    "\n",
    "n1 = d.add(logic.Not().right().at(A.xy))  # Conectamos NOT a la ubicación de A\n",
    "\n"
   ]
  },
  {
   "cell_type": "markdown",
   "id": "d6298b93",
   "metadata": {},
   "source": [
    "- `logic.Not()` es una compuerta NOT.\n",
    "- `.right()` hace que se dibuje hacia la derecha.\n",
    "- `.at(A.xy)` coloca la compuerta NOT en la posición de `A`.\n",
    "\n",
    "📌 **Esta compuerta invierte el valor lógico de `A` (es decir, calcula ¬A).**\n",
    "\n",
    "---\n"
   ]
  },
  {
   "cell_type": "markdown",
   "id": "764047ad",
   "metadata": {},
   "source": [
    "\n",
    "### **5️⃣ Agregar una compuerta AND**\n"
   ]
  },
  {
   "cell_type": "code",
   "execution_count": 5,
   "id": "41cc6268",
   "metadata": {},
   "outputs": [
    {
     "ename": "NameError",
     "evalue": "name 'n1' is not defined",
     "output_type": "error",
     "traceback": [
      "\u001b[1;31m---------------------------------------------------------------------------\u001b[0m",
      "\u001b[1;31mNameError\u001b[0m                                 Traceback (most recent call last)",
      "Cell \u001b[1;32mIn[5], line 1\u001b[0m\n\u001b[1;32m----> 1\u001b[0m and1 \u001b[38;5;241m=\u001b[39m d\u001b[38;5;241m.\u001b[39madd(logic\u001b[38;5;241m.\u001b[39mAnd()\u001b[38;5;241m.\u001b[39mright()\u001b[38;5;241m.\u001b[39mat(\u001b[43mn1\u001b[49m\u001b[38;5;241m.\u001b[39mout))  \u001b[38;5;66;03m# AND conectado a la salida del NOT\u001b[39;00m\n",
      "\u001b[1;31mNameError\u001b[0m: name 'n1' is not defined"
     ]
    }
   ],
   "source": [
    "and1 = d.add(logic.And().right().at(n1.out))  # AND conectado a la salida del NOT\n",
    "\n"
   ]
  },
  {
   "cell_type": "markdown",
   "id": "4cc258ac",
   "metadata": {},
   "source": [
    "- `logic.And()` es una compuerta AND.\n",
    "- `.at(n1.out)` coloca la compuerta AND en la salida del NOT.\n",
    "- Esto significa que **una de las entradas del AND es ¬A**.\n",
    "\n",
    "📌 **Aquí estamos representando la operación `¬A ∧ B`**.\n",
    "\n",
    "---\n",
    "\n",
    "### **6️⃣ Conectar la entrada B al AND**\n",
    "```python\n",
    "d.add(logic.Line().at(B.xy).to(and1.in2))  # Conectamos B a la segunda entrada del AND\n",
    "```\n",
    "- `logic.Line()` dibuja una línea.\n",
    "- `.at(B.xy)` empieza la línea en la posición de `B`.\n",
    "- `.to(and1.in2)` conecta la línea a la segunda entrada del AND.\n",
    "\n",
    "📌 **Ahora, el AND tiene como entradas `¬A` y `B`, por lo que su salida es `¬A ∧ B`.**\n",
    "\n",
    "---\n",
    "\n",
    "### **7️⃣ Agregar una compuerta OR**\n",
    "```python\n",
    "or1 = d.add(logic.Or().right().at(and1.out))  # OR conectado a la salida del AND\n",
    "```\n",
    "- `logic.Or()` es una compuerta OR.\n",
    "- `.at(and1.out)` coloca la compuerta OR en la salida del AND.\n",
    "\n",
    "📌 **Hasta ahora, estamos calculando `¬A ∧ B`. Ahora agregaremos B al OR.**\n",
    "\n",
    "---\n"
   ]
  },
  {
   "cell_type": "markdown",
   "id": "320cd63b",
   "metadata": {},
   "source": [
    "\n",
    "### **8️⃣ Conectar la entrada B al OR**\n",
    "```python\n",
    "d.add(logic.Line().at(B.xy).to(or1.in2))  # Conectamos B a la segunda entrada del OR\n",
    "```\n",
    "- Esto conecta `B` a la segunda entrada de la compuerta OR.\n",
    "\n",
    "📌 **La salida del OR ahora representa la operación lógica `(¬A ∧ B) ∨ B`.**\n"
   ]
  },
  {
   "cell_type": "markdown",
   "id": "b24fa137",
   "metadata": {},
   "source": [
    "\n",
    "---\n"
   ]
  },
  {
   "cell_type": "markdown",
   "id": "2f83dfff",
   "metadata": {},
   "source": [
    "\n",
    "### **9️⃣ Agregar la salida final**\n",
    "```python\n",
    "d.add(logic.Dot(label=\"Salida\").right().at(or1.out))\n",
    "```\n",
    "- `logic.Dot(label=\"Salida\")` agrega un punto de salida etiquetado como \"Salida\".\n",
    "- `.at(or1.out)` lo coloca en la salida de la compuerta OR.\n",
    "\n",
    "📌 **El circuito completo evalúa `(¬A ∧ B) ∨ B`.**\n",
    "\n",
    "---\n"
   ]
  },
  {
   "cell_type": "markdown",
   "id": "a403be81",
   "metadata": {},
   "source": [
    "\n",
    "## **🔧 Modificando el Código para Cualquier Operación**\n",
    "Ahora que entiendes el código, puedes modificarlo para representar cualquier operación lógica entre `A` y `B`.  \n",
    "\n",
    "### **Ejemplo: Representar `(A ∨ B) ∧ (¬A)`**\n",
    "Si quieres construir un circuito para la operación `(A ∨ B) ∧ (¬A)`, sigue estos pasos:  \n",
    "\n",
    "1. **Agregar OR**:  \n"
   ]
  },
  {
   "cell_type": "markdown",
   "id": "f9bb32e4",
   "metadata": {},
   "source": [
    "   ```python\n",
    "   or1 = d.add(logic.Or().right().at(A.xy))  # OR con entradas A y B\n",
    "   d.add(logic.Line().at(B.xy).to(or1.in2))  # Conectar B a la segunda entrada del OR\n",
    "   ```\n"
   ]
  },
  {
   "cell_type": "markdown",
   "id": "5c7533e8",
   "metadata": {},
   "source": [
    "2. **Agregar NOT a A**:  \n",
    "   ```python\n",
    "   n1 = d.add(logic.Not().right().at(A.xy))  # Negar A\n",
    "   ```\n",
    "3. **Agregar AND**:  \n",
    "   ```python\n",
    "   and1 = d.add(logic.And().right().at(or1.out))  # AND con la salida de OR y NOT A\n",
    "   d.add(logic.Line().at(n1.out).to(and1.in2))  # Conectar NOT A a la segunda entrada del AND\n",
    "   ```\n",
    "4. **Agregar salida**:  \n"
   ]
  },
  {
   "cell_type": "code",
   "execution_count": 1,
   "id": "fbd6d84d",
   "metadata": {},
   "outputs": [
    {
     "ename": "NameError",
     "evalue": "name 'd' is not defined",
     "output_type": "error",
     "traceback": [
      "\u001b[1;31m---------------------------------------------------------------------------\u001b[0m",
      "\u001b[1;31mNameError\u001b[0m                                 Traceback (most recent call last)",
      "Cell \u001b[1;32mIn[1], line 1\u001b[0m\n\u001b[1;32m----> 1\u001b[0m \u001b[43md\u001b[49m\u001b[38;5;241m.\u001b[39madd(logic\u001b[38;5;241m.\u001b[39mDot(label\u001b[38;5;241m=\u001b[39m\u001b[38;5;124m\"\u001b[39m\u001b[38;5;124mSalida\u001b[39m\u001b[38;5;124m\"\u001b[39m)\u001b[38;5;241m.\u001b[39mright()\u001b[38;5;241m.\u001b[39mat(and1\u001b[38;5;241m.\u001b[39mout))\n",
      "\u001b[1;31mNameError\u001b[0m: name 'd' is not defined"
     ]
    }
   ],
   "source": [
    "d.add(logic.Dot(label=\"Salida\").right().at(and1.out))\n",
    "\n"
   ]
  },
  {
   "cell_type": "markdown",
   "id": "89d30f7c",
   "metadata": {},
   "source": [
    "\n",
    "Este circuito representará `(A ∨ B) ∧ (¬A)`.  \n",
    "\n",
    "---\n"
   ]
  },
  {
   "cell_type": "markdown",
   "id": "ac63c983",
   "metadata": {},
   "source": [
    "\n",
    "## **💡 Conclusión**\n",
    "✅ Ahora puedes modificar el código para representar cualquier operación lógica entre dos proposiciones.  \n",
    "✅ Puedes agregar compuertas `AND`, `OR`, `NOT` y combinarlas según la expresión lógica que desees.  \n",
    "✅ `schemdraw.logic` es una herramienta poderosa para visualizar circuitos digitales en clases.  \n",
    "\n",
    "📌 **Si necesitas representar operaciones más complejas o agregar más entradas, dime y te ayudo a estructurarlo.** 🚀"
   ]
  },
  {
   "cell_type": "markdown",
   "id": "eca083c0",
   "metadata": {},
   "source": [
    "\n",
    "**5. Cancion o Poema**\n"
   ]
  },
  {
   "cell_type": "markdown",
   "id": "9d4a0af9",
   "metadata": {},
   "source": [
    "\n",
    "_(Melodía: \"Estrellita, dónde estás\")_\n",
    "\n",
    "```markdown\n",
    "AND es \"y\", OR es \"o\",\n",
    "NOT invierte, ya lo veo yo.\n",
    "Si los dos son uno, AND será,\n",
    "Si hay un uno, OR dirá.\n",
    "Lógica en Python voy a usar,\n",
    "Para aprender y programar.\n",
    "```\n",
    "\n",
    "---\n"
   ]
  },
  {
   "cell_type": "markdown",
   "id": "592f0c28",
   "metadata": {},
   "source": [
    "\n",
    "**6. Elementos Históricos y Epistemológicos**\n",
    "- Aristóteles y los inicios de la lógica formal.\n",
    "- George Boole y el álgebra booleana.\n",
    "- Claude Shannon y la aplicación de la lógica a los circuitos digitales.\n",
    "\n",
    "---\n"
   ]
  },
  {
   "cell_type": "markdown",
   "id": "2402b9b9",
   "metadata": {},
   "source": [
    "\n",
    "**7. Actividades de Aprendizaje**\n",
    "- Crear funciones en Python para cada operador lógico.\n",
    "- Generar tablas de verdad automáticamente con Pandas.\n",
    "- Graficar los valores de salida con Seaborn.\n",
    "- Animar la evaluación de expresiones lógicas con matplotlib.animation.\n",
    "- Diferenciar entre condición suficiente y condición necesaria utilizando bloque lógicos constituyendo relaciones de contención como la siguiente: $A -> B, A -> C, B -> C, A -> C$.  \n",
    "    * Sea $A$ el conjunto de los bloques lógicos que son circulos, \n",
    "  \n",
    "      y sea $B$ el conjunto de los bloques lógicos que sean circulos rojos. Entonces, estar se circulo es necesario para estar en A, pero no es suficiente para estar en B. \n",
    "\n",
    "---\n"
   ]
  },
  {
   "cell_type": "markdown",
   "id": "35a13bd2",
   "metadata": {},
   "source": [
    "\n",
    "**8. Tarea o Actividades de Ejercitación y Fijación**\n",
    "- Implementar un semáforo lógico en Python.\n",
    "- Simular circuitos digitales con operaciones lógicas.\n",
    "- Resolver ejercicios de lógica proposicional.\n",
    "\n",
    "---\n"
   ]
  },
  {
   "cell_type": "markdown",
   "id": "2c5bda22",
   "metadata": {},
   "source": [
    "\n",
    "**9. Evaluación**\n",
    "\n",
    "**Proyectos:**\n",
    "1. Creación de una calculadora de tablas de verdad.\n",
    "2. Implementación de un simulador de circuitos.\n",
    "3. Análisis de datos con operadores lógicos en Pandas.\n",
    "4. Visualización interactiva de compuertas lógicas.\n",
    "5. Desarrollo de una IA básica con operadores lógicos.\n",
    "6. Construcción de reglas lógicas para clasificación de datos.\n",
    "7. Uso de operaciones lógicas en criptografía.\n",
    "8. Modelado de decisiones con álgebra booleana.\n",
    "9. Diseño de un chatbot basado en respuestas lógicas.\n",
    "10. Aplicación de operaciones lógicas en juegos de estrategia.\n"
   ]
  },
  {
   "cell_type": "markdown",
   "id": "afadf9d0",
   "metadata": {},
   "source": [
    "\n",
    "**Ejemplo de Quiz:**\n",
    "- ¿Cuál es la salida de `True and False`?\n",
    "- ¿Qué operador invierte un valor lógico?\n"
   ]
  },
  {
   "cell_type": "markdown",
   "id": "465d3e3f",
   "metadata": {},
   "source": [
    "\n",
    "**Ejemplo de Parcial:**\n",
    "- Implementar una función en Python que simule un circuito lógico dado.\n",
    "\n",
    "---\n"
   ]
  },
  {
   "cell_type": "markdown",
   "id": "8e121fc4",
   "metadata": {},
   "source": [
    "\n",
    "**10. Actividad de Retroalimentación**\n",
    "- Retroalimentación interactiva con un Jupyter Notebook que corrija errores de código en vivo.\n",
    "- Comparación de soluciones entre pares.\n",
    "- Reflexión escrita sobre la aplicación de la lógica en la vida diaria.\n",
    "\n",
    "---\n",
    "\n",
    "**11. Vocabulario y Frases en Inglés**\n",
    "\n",
    "| Español       | Inglés        |\n",
    "|--------------|--------------|\n",
    "| Lógica       | Logic        |\n",
    "| AND (Y)      | AND         |\n",
    "| OR (O)       | OR          |\n",
    "| NOT (NO)     | NOT         |\n",
    "| Tabla de Verdad | Truth Table |\n",
    "| Algoritmo    | Algorithm   |\n",
    "| Expresión   | Expression  |\n",
    "\n",
    "**Frases clave:**\n",
    "- \"A logical operation returns a boolean value.\"\n",
    "- \"The NOT operator inverts the value.\"\n",
    "- \"AND returns True if both inputs are True.\"\n",
    "- \"OR returns True if at least one input is True.\"\n",
    "\n",
    "---\n",
    "\n",
    "Este diseño permite a los estudiantes experimentar activamente con operaciones lógicas en Python a través de Jupyter Notebooks, con visualizaciones y animaciones interactivas.\n",
    "\n"
   ]
  },
  {
   "cell_type": "code",
   "execution_count": null,
   "id": "cc539357",
   "metadata": {},
   "outputs": [],
   "source": []
  },
  {
   "cell_type": "markdown",
   "id": "740f3401",
   "metadata": {
    "slideshow": {
     "slide_type": "slide"
    }
   },
   "source": [
    "# Componente de manejo de calculadora Casio asociado al objetivo de aprendizaje de esta clase  \n",
    "\n",
    "## Pasos para lograr el objetivo de aprendizaje con la experimentación en la calculadora Casio 991LA cw  "
   ]
  },
  {
   "cell_type": "markdown",
   "id": "8ba64aed",
   "metadata": {},
   "source": [
    "# Cursos que orienta el profesor Marco Julio Cañas Campillo en 2025  \n",
    "\n",
    "1. Práctica Pedagógica V para Licenciatura en Educación Infantil\n",
    "2. Fundamentos de Lógica para Licenciatura en Matemáticas \n",
    "3. Análisis Numérico para Licenciatura en Matemáticas. \n",
    "4. Cálculo Vectorial para Ingeniería Agropecuaria"
   ]
  },
  {
   "cell_type": "markdown",
   "id": "8d41fe58",
   "metadata": {
    "slideshow": {
     "slide_type": "slide"
    }
   },
   "source": [
    "# Horario de clases del profesor Marco\n",
    "\n",
    "* Lunes 8-12: Cálculo Vectorial\n",
    "* Martes 8-12 M: Fundamentos de Aritmética. \n",
    "* Miércoles 8 a 12 M: Fundamentos de la Lógica\n",
    "* Jueves 2 a 6 PM: Desarrollo del pensamiento matemático en la infancia. \n",
    "* Viernes 8 - 12 M: Desarrollo del pensamiento matemático en la infancia. \n",
    "* Sábados 8-12 Asesorías y espacio para retroalimentación y apoyo al trabajo independiente. "
   ]
  },
  {
   "cell_type": "markdown",
   "id": "ae114e14",
   "metadata": {
    "slideshow": {
     "slide_type": "slide"
    }
   },
   "source": [
    "# Horarios de monitoría y asesoría  \n",
    "\n",
    "Coordinador de los cursos de la Facultad de Educación para regiones:    \n",
    "\n",
    "Andrés Vélez: regioneducacion.fedu@udea.edu.co  \n",
    "Coordinador Regiones  \n",
    "Facultad de Educación  \n",
    "Universidad de Antioquia  "
   ]
  },
  {
   "cell_type": "markdown",
   "id": "b1db4b6c",
   "metadata": {
    "slideshow": {
     "slide_type": "slide"
    }
   },
   "source": [
    "## Monitor Manuel San Juan Serrano\n",
    "\n",
    "Contactar escribiendo al correo: manuel.serrano1@udea.edu.co"
   ]
  },
  {
   "cell_type": "markdown",
   "id": "39559692",
   "metadata": {
    "slideshow": {
     "slide_type": "slide"
    }
   },
   "source": [
    "Martes y jueves de 8 - 12  \n",
    "Miércoles 10 - 12 y de 2 a 4 PM  \n",
    "Sábado: 8 - 12"
   ]
  },
  {
   "cell_type": "markdown",
   "id": "10bce0d0",
   "metadata": {
    "slideshow": {
     "slide_type": "slide"
    }
   },
   "source": [
    "## Referentes "
   ]
  },
  {
   "cell_type": "markdown",
   "id": "1db3c468",
   "metadata": {
    "slideshow": {
     "slide_type": "slide"
    }
   },
   "source": [
    "* [CALCULO I DE UNA VARIABLE Ron Larson-Bruce Edwards. Mc Graw Hill. 9º Edición](https://www.academia.edu/42139251/CALCULO_I_DE_UNA_VARIABLE_Ron_Larson_Bruce_Edwards_Mc_Graw_Hill_9o_Edici%C3%B3n)   \n",
    "  \n",
    "\n",
    "* [Grajales Vanegas, L. M., Restrepo Estrada, C. E., Restrepo Ochoa, S. I., & Ruíz De Villalba, F. (2015). Matemáticas I para las ciencias económicas.](https://bibliotecadigital.udea.edu.co/handle/10495/3010)\n",
    "  \n",
    "* R. Duval y Semiosis y pensamiento humano, 2.ª ed. Cali, Colombia: Programa Editorial Universidad del Valle, 2017. [En línea]. Disponible en: https://programaeditorial.univalle.edu.co/gpd-semiosis-y-pensamiento-humano-9789587655278-63324cdb0f6b3.html\n",
    "\n",
    "* [Aylwin, C. U. (2011). Lógica, conjuntos y números. Universidad de los Andes, Consejo de Publicaciones, Colección: Ciencias Básicas, Serie: Matemáticas.](chrome-extension://efaidnbmnnnibpcajpcglclefindmkaj/https://www.u-cursos.cl/ciencias/2011/1/MC110/1/material_docente/bajar?id_material=574722)\n",
    "  \n",
    "* [Chollet, F. (2021). Deep learning with Python. Simon and Schuster.](chrome-extension://efaidnbmnnnibpcajpcglclefindmkaj/https://tanthiamhuat.wordpress.com/wp-content/uploads/2018/03/deeplearningwithpython.pdf)  \n",
    "  \n",
    "* [Watson, S., Stewart, J., & Redlin, L. (2009). Precálculo. Matemáticas para el cálculo.](https://github.com/marco-canas/calculo/blob/main/referents/1_precalculo_stewart/stewart_precalculo.pdf)  \n",
    "\n",
    "* [Purcell, E. J., Varberg, D., & Rigdon, S. E. (2007). Cálculo diferencial e integral. Pearson Educación.](https://github.com/marco-canas/calculo/blob/main/referents/purcell/purcell_calculo.pdf)\n",
    "\n",
    "  \n",
    "\n",
    "* [stewart cálculo](https://udeaeduco-my.sharepoint.com/:b:/g/personal/marco_canas_udea_edu_co/EZgXZjAp8QxPqOAim2hs6LcBNPLGjSHf-xwYnUVYkwa04w?e=RZdTCy)  \n",
    "\n",
    "\n",
    "\n",
    "\n",
    "\n",
    "* [Recomendación de la UNESCO sobre ciencia abierta](https://unesdoc.unesco.org/ark:/48223/pf0000379949_spa)\n",
    "\n",
    "* [chatGPT](https://openai.com/blog/chatgpt)  \n",
    "\n",
    "* [Géron, A. (2017). Hands-on machine learning with scikit-learn and tensorflow: Concepts. Tools, and Techniques to build intelligent systems.](chrome-extension://efaidnbmnnnibpcajpcglclefindmkaj/http://14.139.161.31/OddSem-0822-1122/Hands-On_Machine_Learning_with_Scikit-Learn-Keras-and-TensorFlow-2nd-Edition-Aurelien-Geron.pdf)   \n"
   ]
  },
  {
   "cell_type": "markdown",
   "id": "df925560",
   "metadata": {},
   "source": [
    "\n",
    "* [McKinney, W. (2012). Python for data analysis: Data wrangling with Pandas, NumPy, and IPython. \" O'Reilly Media, Inc.\".](https://wesmckinney.com/book/) "
   ]
  },
  {
   "cell_type": "markdown",
   "id": "8e65d6f9",
   "metadata": {},
   "source": [
    "# Como estudiante, encuentro que...   \n",
    "\n",
    "F: Mis Fortalezas son:     \n",
    "O: Mis Oportunidades son:    \n",
    "D: Mis Debilidades son:    \n",
    "A: Lo que Amenazas mi aprendizaje es:  "
   ]
  },
  {
   "cell_type": "markdown",
   "id": "6b9e56a8",
   "metadata": {
    "slideshow": {
     "slide_type": "slide"
    }
   },
   "source": [
    "### [Evaluamos al profesor Marco Cañas Aquí](https://forms.office.com/Pages/ResponsePage.aspx?id=IefhmYRxjkmK_7KtTlPBwkanXIs1i1FEujpsZgO6dXpUREJPV1kxUk1JV1ozTFJIQVNIQjY5WEY3US4u)"
   ]
  },
  {
   "cell_type": "markdown",
   "id": "10f43536",
   "metadata": {
    "slideshow": {
     "slide_type": "slide"
    }
   },
   "source": [
    "### Continue su aprendizaje en la siguiente clase a través del siguiente [vínculo]()"
   ]
  },
  {
   "cell_type": "markdown",
   "id": "53cc9115",
   "metadata": {
    "slideshow": {
     "slide_type": "slide"
    }
   },
   "source": [
    "## Agradecimientos  \n",
    "\n",
    "Doy gracias a Dios por la vida de mi Hijo Joseph Cañas Osorio y la madurez que ha alcanzado. Este hijo me enorgullece y me hace falta abrazarlo cada día. \n",
    "\n",
    "Y a mi esposa Yasmira Emperatriz Barboza Mogollón por su apoyo, orientación y acompañamiento. "
   ]
  },
  {
   "cell_type": "markdown",
   "id": "b6ba1c23",
   "metadata": {},
   "source": [
    "# Apéndice sobre calendarios y coordinaciones \n",
    "\n",
    "A continuación le envío el horario de la asignatura Cálculo Vectorial  \n",
    "\n",
    "Días:  \n",
    "Lunes - Hora: 7:00 a 12:00M  \n",
    "Fechas:  \n",
    "Febrero: 10-17-24                                          \n",
    " Marzo: 3-10-17-31                                                  \n",
    "Abril:7-21-28                                                   \n",
    "Mayo:5-12-19  \n",
    "\n",
    "Agradezco su apoyo, y si presenta alguna dificultad puede contactarme.  \n",
    "\n",
    "Cordialmente,  \n",
    "Juan Felipe Rivera Hernández  \n",
    "Contacto: 3106314300  "
   ]
  },
  {
   "cell_type": "markdown",
   "id": "0e66cd7c",
   "metadata": {},
   "source": [
    "# Clase de análisis numérico los Martes de 8 a 12 del medio día. "
   ]
  },
  {
   "cell_type": "markdown",
   "id": "c5ff61b1",
   "metadata": {},
   "source": []
  }
 ],
 "metadata": {
  "celltoolbar": "Slideshow",
  "kernelspec": {
   "display_name": ".venv",
   "language": "python",
   "name": "python3"
  },
  "language_info": {
   "codemirror_mode": {
    "name": "ipython",
    "version": 3
   },
   "file_extension": ".py",
   "mimetype": "text/x-python",
   "name": "python",
   "nbconvert_exporter": "python",
   "pygments_lexer": "ipython3",
   "version": "3.12.6"
  },
  "rise": {
   "enable_chalkboard": true,
   "theme": "sky",
   "transition": "zoom"
  }
 },
 "nbformat": 4,
 "nbformat_minor": 5
}
