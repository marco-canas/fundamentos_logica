{
 "cells": [
  {
   "cell_type": "markdown",
   "id": "dc06dec7",
   "metadata": {
    "slideshow": {
     "slide_type": "slide"
    }
   },
   "source": [
    "<table align=\"left\">\n",
    "  <td>\n",
    "    <a href=\"https://colab.research.google.com/github/marco-canas/fundamentos_logica/blob/main/referentes/1_grajales_lina/2_inferencias_metodos_demostracion/2_inferencias/1_inferencias.ipynb\" target=\"_parent\"><img src=\"https://colab.research.google.com/assets/colab-badge.svg\" alt=\"Open In Colab\"/></a>\n",
    "  </td>\n",
    "  <td>\n",
    "    <a target=\"_blank\" href=\"https://kaggle.com/kernels/welcome?src=https://github.com/marco-canas/fundamentos_logica/blob/main/referentes/1_grajales_lina/2_inferencias_metodos_demostracion/2_inferencias/1_inferencias.ipynb\"><img src=\"https://kaggle.com/static/images/open-in-kaggle.svg\" /></a>\n",
    "  </td>\n",
    "</table>"
   ]
  },
  {
   "cell_type": "markdown",
   "id": "e0c5b198",
   "metadata": {
    "slideshow": {
     "slide_type": "slide"
    }
   },
   "source": [
    "### [Video de apoyo a la lectura interactiva y experimental de este cuaderno]()"
   ]
  },
  {
   "cell_type": "markdown",
   "id": "41e82203",
   "metadata": {
    "slideshow": {
     "slide_type": "slide"
    }
   },
   "source": [
    "## [Vínculo al programa del curso de Fundamentos de la lógica:](https://github.com/marco-canas/fundamentos_logica/blob/main/programa_curso_fundamentos_logica_profesor_marco_canas_caucasia.docx)\n",
    "\n"
   ]
  },
  {
   "cell_type": "markdown",
   "id": "d11ab06d",
   "metadata": {
    "slideshow": {
     "slide_type": "slide"
    }
   },
   "source": [
    "Un reconocimiento a mis estudiantes que han construido conmigo este saber pedagógico:\n",
    "\n",
    "<img src = ''> \n",
    "\n"
   ]
  },
  {
   "cell_type": "markdown",
   "id": "8a74a56c-0ce6-4ad6-b985-553fd7fb68bb",
   "metadata": {},
   "source": [
    "Reconocimiento a las profesoras destacadas en enseñanza de la matemática en Colombia\n",
    "\n",
    "Aquí tienes algunas mujeres destacadas en Colombia en la enseñanza de la matemática, junto con una breve biografía de cada una:"
   ]
  },
  {
   "cell_type": "code",
   "execution_count": 1,
   "id": "7604880f",
   "metadata": {
    "slideshow": {
     "slide_type": "slide"
    }
   },
   "outputs": [
    {
     "name": "stdout",
     "output_type": "stream",
     "text": [
      "Llamando a CALY HERRERA ESTEFANIA...\n",
      "Cambios guardados en el archivo CSV.\n",
      "Llamando a LONDONO CASTRO FRED IVAN...\n",
      "Cambios guardados en el archivo CSV.\n",
      "Llamando a RODRIGUEZ MOSQUERA ANGELA MARIA...\n",
      "Cambios guardados en el archivo CSV.\n",
      "Llamando a URIBE ARRIETA YEIFRY SEBASTIAN...\n",
      "Cambios guardados en el archivo CSV.\n",
      "Llamando a DORADO PADILLA LEONEL ESTEBAN...\n",
      "Cambios guardados en el archivo CSV.\n",
      "Llamando a SAN JUAN SERRANO MANUEL...\n",
      "Cambios guardados en el archivo CSV.\n",
      "Llamando a VELASQUEZ LOPEZ MERLIS...\n",
      "Cambios guardados en el archivo CSV.\n"
     ]
    }
   ],
   "source": [
    "import pandas as pd\n",
    "import numpy as np\n",
    "\n",
    "# Cargar la lista de estudiantes desde la URL\n",
    "path = 'C:/Users/marco/Documentos/docencia/groups_list/fundamentos_logica.csv'\n",
    "estudiantes = pd.read_csv(path)\n",
    "estudiantes['Parcial'] = estudiantes['Parcial'].astype(float) # hacer que todos los valores de la columna Parcial seen de tipo float\n",
    "\n",
    "# Convertir la columna 'Nombre' a una lista de Python\n",
    "lista_estudiantes = estudiantes['Nombre'].tolist()\n",
    "\n",
    "# Función para llamar a un estudiante aleatoriamente y registrar su nota de seguimiento\n",
    "def asistencia():\n",
    "    if lista_estudiantes:\n",
    "        estudiante_aleatorio = np.random.choice(lista_estudiantes)\n",
    "        print(f\"Llamando a {estudiante_aleatorio}...\")\n",
    "        asistencia = input(f\"¿Asistió {estudiante_aleatorio}? (s/n): \").strip().lower()\n",
    "        \n",
    "        if asistencia == 's':\n",
    "            # Obtener el índice del estudiante en el DataFrame\n",
    "            indice = estudiantes[estudiantes['Nombre'] == estudiante_aleatorio].index[0]\n",
    "            # Incrementar su valor en la columna 'Parcial'\n",
    "            estudiantes.at[indice, 'Parcial'] += 0.1\n",
    "            print(f\"Actualizado: {estudiante_aleatorio} ahora tiene {estudiantes.at[indice, 'Parcial']} en la columna 'Parcial'.\")\n",
    "        \n",
    "        lista_estudiantes.remove(estudiante_aleatorio)\n",
    "    else:\n",
    "        print(\"Se han llamado a todos los estudiantes del grupo completo.\")\n",
    "\n",
    "# Guardar los cambios en el archivo CSV\n",
    "def guardar_cambios():\n",
    "    estudiantes.to_csv(path, index=False)\n",
    "    print(\"Cambios guardados en el archivo CSV.\")\n",
    "\n",
    "# Ejemplo de uso\n",
    "while lista_estudiantes:\n",
    "    asistencia()\n",
    "    guardar_cambios()\n",
    "\n",
    "\n"
   ]
  },
  {
   "cell_type": "markdown",
   "id": "d7598d0a-d9b7-4ae0-b029-a0ed6ed1130b",
   "metadata": {},
   "source": [
    "\n",
    "# Principios de mi labor docente"
   ]
  },
  {
   "cell_type": "markdown",
   "id": "4f9d8cf9",
   "metadata": {
    "slideshow": {
     "slide_type": "slide"
    }
   },
   "source": [
    "## Modelo general de clase: [aula invertida](https://www3.gobiernodecanarias.org/medusa/ecoescuela/pedagotic/aprendizaje-invertido-flipped-classroom/)"
   ]
  },
  {
   "cell_type": "markdown",
   "id": "eb6ed03a",
   "metadata": {},
   "source": [
    "<img src = 'https://resources.maneuveringthemiddle.com/wp-content/uploads/2020/07/04212706/1-5.png' width = 400>  \n",
    "\n"
   ]
  },
  {
   "cell_type": "markdown",
   "id": "34319cce-a71b-4f64-aab8-b53e521efa40",
   "metadata": {},
   "source": [
    "# Metodología de enseñanza basada en problemas (ABP)\n"
   ]
  },
  {
   "cell_type": "markdown",
   "id": "248b1008",
   "metadata": {},
   "source": [
    "\n",
    "<img src = 'https://www.unir.net/wp-content/uploads/2020/07/aprendizaje-problemas2-1-1-1-1.jpeg' width = 300>"
   ]
  },
  {
   "cell_type": "markdown",
   "id": "841a985c-bd9b-4dd3-8e4c-893983980af2",
   "metadata": {},
   "source": [
    "# Desarrollo del pensamiento computacional con python y cuadernos Jupyter  orientado a la formación en ciencia de datos \n",
    "\n"
   ]
  },
  {
   "cell_type": "markdown",
   "id": "df1a1d8b",
   "metadata": {},
   "source": [
    "\n",
    "<img src = 'https://i.ytimg.com/vi/mcG_wcR4e6M/maxresdefault.jpg' width = 300>"
   ]
  },
  {
   "cell_type": "markdown",
   "id": "65aa0404-f7ae-495e-864c-1aec01b4255e",
   "metadata": {},
   "source": [
    "# Principio de fomento a la ciencia abierta, enseñar en el acceso a los datos públicos y el uso de software de código abierto  \n"
   ]
  },
  {
   "cell_type": "markdown",
   "id": "18ae9b87",
   "metadata": {},
   "source": [
    "\n",
    "<img src = 'https://unesdoc.unesco.org/in/rest/Thumb/image?id=p%3A%3Ausmarcdef_0000379949_spa&author=UNESCO&title=Recomendaci%C3%B3n+de+la+UNESCO+sobre+la+Ciencia+Abierta&year=2021&publisher=UNESCO&TypeOfDocument=UnescoPhysicalDocument&mat=PGD&ct=true&size=512&isPhysical=1' width = 200>"
   ]
  },
  {
   "cell_type": "markdown",
   "id": "d9559f85",
   "metadata": {},
   "source": [
    "El enfoque STEAMS en educación preescolar, primaria y secundaria es una extensión del enfoque STEM (Ciencia, Tecnología, Ingeniería y Matemáticas) y su variante STEAM, que incorpora el Arte. El acrónimo STEAMS incluye:\n",
    "\n",
    "1. **Science (Ciencia):** Fomenta la curiosidad por el mundo natural y el desarrollo de habilidades científicas, como la observación, experimentación y análisis.\n"
   ]
  },
  {
   "cell_type": "markdown",
   "id": "19930843",
   "metadata": {},
   "source": [
    "\n",
    "2. **Technology (Tecnología):** Integra herramientas tecnológicas para potenciar el aprendizaje y la resolución de problemas, promoviendo la alfabetización digital desde edades tempranas.\n"
   ]
  },
  {
   "cell_type": "markdown",
   "id": "98506648",
   "metadata": {},
   "source": [
    "\n",
    "3. **Engineering (Ingeniería):** Introduce el pensamiento lógico y la resolución de problemas estructurados, fomentando habilidades como el diseño y la construcción de soluciones.\n"
   ]
  },
  {
   "cell_type": "markdown",
   "id": "3ead381f",
   "metadata": {},
   "source": [
    "\n",
    "4. **Arts (Arte):** Añade creatividad y pensamiento crítico, permitiendo a los estudiantes expresarse y explorar el aprendizaje a través de formas artísticas (plásticas, música, teatro).\n",
    "\n",
    "5. **Mathematics (Matemáticas):** Refuerza las habilidades numéricas y el razonamiento lógico, fundamentales en la resolución de problemas y comprensión de conceptos abstractos.\n",
    "\n",
    "6. **Social Sciences (Ciencias Sociales):** Incorpora la comprensión del entorno social, político, cultural y económico, promoviendo el desarrollo de la conciencia crítica sobre el mundo y su historia, además de habilidades de empatía y ciudadanía.\n"
   ]
  },
  {
   "cell_type": "markdown",
   "id": "39967d63",
   "metadata": {},
   "source": [
    "\n",
    "El enfoque STEAMS pretende desarrollar un aprendizaje **interdisciplinario** que integre estas áreas para fomentar un pensamiento más holístico y práctico. "
   ]
  },
  {
   "cell_type": "markdown",
   "id": "df45fbf9",
   "metadata": {},
   "source": [
    "Se busca que los estudiantes no solo aprendan conocimientos técnicos, sino también cómo aplicarlos creativa y críticamente en situaciones reales, promoviendo habilidades como el trabajo en equipo, la comunicación y la innovación. "
   ]
  },
  {
   "cell_type": "markdown",
   "id": "fac0d066",
   "metadata": {},
   "source": [
    "En educación preescolar, primaria y secundaria, se adapta a las diferentes etapas de desarrollo cognitivo y emocional de los estudiantes, promoviendo el aprendizaje activo y contextualizado.  \n"
   ]
  },
  {
   "cell_type": "markdown",
   "id": "0130ec1b",
   "metadata": {},
   "source": [
    "\n",
    "<img src = 'https://www.campuseducacion.com/blog/wp-content/uploads/2023/03/foto01-1.jpg' width = 400>"
   ]
  },
  {
   "cell_type": "markdown",
   "id": "9d15c10d-2c02-4158-9419-b1ed79b4c1ee",
   "metadata": {},
   "source": [
    "# Qué estamos haciendo por la internalización en esta clase y este curso  \n",
    "\n",
    "Mi servicio docente trabaja por constituir un enfoque de enseñanza caracterizado por: "
   ]
  },
  {
   "cell_type": "markdown",
   "id": "964d9de7-53ee-4255-9bcd-d8e6454f2993",
   "metadata": {},
   "source": [
    "### 1. **Visión Global en la Formación Académica**\n"
   ]
  },
  {
   "cell_type": "markdown",
   "id": "0747f66f",
   "metadata": {},
   "source": [
    "   - **Competencias Internacionales**: Trato de asegurarme que el contenido de mis cursos fomente habilidades que sean reconocidas globalmente. Al educar a los estudiantes en **Python, LaTeX, Markdown y Jupyter Notebooks** y en la **introducción a la ciencia de datos y técnicas de Machine Learning**, estás proporcionando competencias altamente demandadas en los sectores tecnológicos y académicos a nivel internacional.\n"
   ]
  },
  {
   "cell_type": "markdown",
   "id": "aa9ca17f",
   "metadata": {},
   "source": [
    "   - **Relevancia de los Contenidos**: Destaca cómo los temas que enseñas, como el **desarrollo del pensamiento computacional** y la **ciencia de datos**, están alineados con las necesidades globales actuales en diversas industrias, desde la tecnología hasta las ciencias naturales y sociales.\n",
    "   - **Referencias a Estándares Internacionales**: Puedes vincular tu enseñanza a estándares internacionales de competencias en programación y ciencia de datos (por ejemplo, frameworks del **IEEE, ACM**, y estándares de la **data science** o la **computación en la nube**)."
   ]
  },
  {
   "cell_type": "markdown",
   "id": "0f1d110c-3142-48fe-9e7d-5fbd9e8bb931",
   "metadata": {},
   "source": [
    "### 2. **Innovación Pedagógica con Enfoque Internacional**\n",
    "   - **Aula Invertida y ABP**: Presenta cómo tu enfoque de **aula invertida** y **aprendizaje basado en problemas (ABP)** permite a los estudiantes trabajar de manera autónoma y colaborativa, lo que los prepara para escenarios laborales internacionales que requieren autoaprendizaje y habilidades de resolución de problemas en equipo.\n",
    "   - **Uso de Jupyter Notebooks**: El uso de **Jupyter Notebooks** en tus clases no solo facilita la **integración de código, matemáticas y texto**, sino que también es una plataforma utilizada globalmente en ambientes académicos y profesionales, lo que hace a tus estudiantes más competitivos internacionalmente."
   ]
  },
  {
   "cell_type": "markdown",
   "id": "960d52b7-03cd-4eb3-965e-5cdfeb7d9f8e",
   "metadata": {},
   "source": [
    "### 3. **Tecnología y Herramientas de Uso Global**\n",
    "   - **Lenguaje Python**: Python es uno de los lenguajes de programación más usados a nivel mundial, tanto en la academia como en la industria. Al formar a tus estudiantes en Python para ciencia de datos y machine learning, los preparas para operar en entornos tecnológicos globales.\n",
    "   - **Herramientas de Ciencia Abierta**: Resalta cómo herramientas como **GitHub**, **Google Colab** y otras plataformas de código abierto están alineadas con el movimiento de **ciencia abierta**, el cual es internacionalmente reconocido y permite que los estudiantes colaboren y compartan proyectos a nivel global."
   ]
  },
  {
   "cell_type": "markdown",
   "id": "3b2ffa32-7a6f-4545-ba7b-c6a69f51109f",
   "metadata": {},
   "source": [
    "### 4. **Investigación y Publicaciones Internacionales**\n",
    "   - **Promoción de la Investigación**: Detalla cómo promueves que tus estudiantes participen en proyectos de **investigación aplicada**, con posibilidad de publicación en revistas internacionales. Esto contribuye a la reputación internacional de la Universidad de Antioquia.\n",
    "   - **Colaboraciones Internacionales**: Si has colaborado con investigadores de otras instituciones o universidades en el extranjero, menciona estos proyectos y cómo han enriquecido tu enseñanza y proporcionado a los estudiantes una visión más globalizada."
   ]
  },
  {
   "cell_type": "markdown",
   "id": "5d1e396e-aece-4bf7-9421-32fa7809eaf4",
   "metadata": {},
   "source": [
    "### 5. **Uso del Inglés para la Internacionalización**\n",
    "   - **Comunicación Científica en Inglés**: Fomentar el aprendizaje del inglés como lengua científica es clave para que tus estudiantes puedan acceder a publicaciones internacionales, conferencias, y material académico que no está disponible en español. Esto es esencial para que adquieran competencias que les permitan desempeñarse en cualquier contexto internacional.\n",
    "   - **Material Bilingüe**: Al generar material educativo en Python, LaTeX y Markdown, considera ofrecer algunos de estos recursos en inglés, para que los estudiantes se familiaricen con el vocabulario técnico y científico internacional."
   ]
  },
  {
   "cell_type": "markdown",
   "id": "c6a8c3b0-426a-4692-a384-3065aea81c9a",
   "metadata": {},
   "source": [
    "### 6. **Certificaciones y Estándares Internacionales**\n",
    "   - **Participación en Certificaciones Internacionales**: Impulsa que los estudiantes busquen certificaciones internacionales en Python o ciencia de datos (como las ofrecidas por **Coursera, edX,** o **Google**). Estas certificaciones no solo validan sus competencias, sino que también incrementan el reconocimiento de la Universidad de Antioquia en el contexto internacional.\n",
    "   - **Alineación con Acreditaciones Internacionales**: Vincula tu trabajo docente con los estándares de acreditación y certificación que garantizan que la universidad siga siendo reconocida internacionalmente. Puedes vincularte con organizaciones internacionales que promuevan la excelencia en la educación y tecnología, como **ABET** para la acreditación en ingeniería y ciencias computacionales."
   ]
  },
  {
   "cell_type": "markdown",
   "id": "65d3d9e1-ea84-43e0-8197-a2a9c9e21594",
   "metadata": {},
   "source": [
    "### 7. **Proyectos Abiertos y Ciencia Reproducible**\n",
    "   - **GitHub y Open Science**: La utilización de **GitHub** para almacenar los proyectos y materiales de enseñanza en repositorios públicos permite que otros investigadores y educadores internacionales puedan revisar y replicar tu trabajo. Esto contribuye a la creación de una red de colaboración científica abierta.\n",
    "   - **Transparencia y Reproducibilidad**: La ciencia de datos y machine learning están profundamente ligados a la reproducibilidad. Asegura que tus estudiantes desarrollen prácticas de transparencia y documentación en la investigación, que son pilares en la comunidad científica global.\n"
   ]
  },
  {
   "cell_type": "markdown",
   "id": "b723e3f9",
   "metadata": {},
   "source": [
    "\n",
    "### 8. **Participación en Redes y Conferencias Internacionales**\n",
    "   - **Presentación en Conferencias Internacionales**: Quiero destacar mi participación en conferencias internacionales (como la **ASCOLFA**  y otros eventos sobre educación en matemáticas) lo que contribuye al prestigio de la universidad y permite que tus prácticas sean evaluadas y reconocidas a nivel global.\n",
    "   - **Promoción de Estudiantes en Eventos Internacionales**: Impulsa la participación de tus estudiantes en competiciones internacionales de programación o hackathons, como los organizados por **Google**, **ACM** o **Kaggle**. Esto no solo desarrolla sus habilidades, sino que también visibiliza el talento de la Universidad de Antioquia a nivel global.\n",
    "\n",
    "---"
   ]
  },
  {
   "cell_type": "markdown",
   "id": "233294a4-1983-4641-a7ad-866825e02315",
   "metadata": {},
   "source": [
    "Con estas estrategias, presento acciones docentes en términos de competencias internacionales, innovación pedagógica, tecnología, investigación y participación en redes globales, buscando que mi práctica esté alineada con los estándares internacionales y que mis estudiantes estén preparados para competir en contextos internacionales."
   ]
  },
  {
   "cell_type": "markdown",
   "id": "8d97dc80",
   "metadata": {
    "slideshow": {
     "slide_type": "slide"
    }
   },
   "source": [
    "## Fomento al desarrollo de habilidades blandas  \n",
    "\n",
    "[El arte de aprender a negociar](https://github.com/marco-canas/el_arte_de_aprender_a_negociar/blob/main/Fisher-Roger-Obtenga-El-Si-psicologia.pdf)\n",
    "\n"
   ]
  },
  {
   "cell_type": "markdown",
   "id": "96775931",
   "metadata": {
    "slideshow": {
     "slide_type": "slide"
    }
   },
   "source": [
    "## Título de la clase: Reglas de inferencia  \n",
    "\n",
    "[]()"
   ]
  },
  {
   "cell_type": "markdown",
   "id": "1d38dd4e",
   "metadata": {
    "slideshow": {
     "slide_type": "slide"
    }
   },
   "source": [
    "### Objetivo de aprendizaje \n",
    "\n",
    "1. Aprender a expresar inferencias o conclusiones correctas, de acuerdo a las reglas de la lógica. \n"
   ]
  },
  {
   "cell_type": "markdown",
   "id": "c0ed24e8",
   "metadata": {},
   "source": [
    "\n",
    "\n",
    " \n"
   ]
  },
  {
   "cell_type": "markdown",
   "id": "540f0ec1",
   "metadata": {
    "slideshow": {
     "slide_type": "slide"
    }
   },
   "source": [
    "## Cuestionario para realizar labores de memorización, observación y síntesis de la información (Además de diagnóstico)  \n",
    "\n",
    "1. ¿?\n",
    "2. ¿?\n",
    "3. ¿?\n",
    "4. ¿?\n",
    "5. ¿?"
   ]
  },
  {
   "cell_type": "markdown",
   "id": "8e457ea2",
   "metadata": {},
   "source": [
    "# Definiciones y Resultados científicos a comprender y memorizar \n",
    "\n",
    "[Primera grabación en Vocaroo]()"
   ]
  },
  {
   "cell_type": "markdown",
   "id": "ca7261b1",
   "metadata": {
    "slideshow": {
     "slide_type": "slide"
    }
   },
   "source": [
    "## Establecimiento de prerrequisitos conceptuales para alcanzar el objetivo de aprendizaje trazado.   \n",
    "\n",
    "(Elabore una lista de preguntas al rededor de los conceptos que consideres necesarios para empezar la clase).  \n",
    "\n",
    "1. \n",
    "2. \n",
    "3. "
   ]
  },
  {
   "cell_type": "markdown",
   "id": "2298e976",
   "metadata": {
    "slideshow": {
     "slide_type": "slide"
    }
   },
   "source": [
    "# Para el diseño de la clase tenga en cuenta algunos problemas de aprendizaje"
   ]
  },
  {
   "cell_type": "markdown",
   "id": "523d3acf",
   "metadata": {
    "slideshow": {
     "slide_type": "slide"
    }
   },
   "source": []
  },
  {
   "cell_type": "markdown",
   "id": "a40a4704",
   "metadata": {
    "slideshow": {
     "slide_type": "slide"
    }
   },
   "source": [
    "## Secuencia conceptual introductoria a la clase"
   ]
  },
  {
   "cell_type": "markdown",
   "id": "8853d874",
   "metadata": {},
   "source": [
    "## El componente histórico y epistemológico"
   ]
  },
  {
   "cell_type": "markdown",
   "id": "e3ffa494",
   "metadata": {},
   "source": [
    "# Vocabulary   \n",
    "\n",
    "1. \n",
    "2.  \n",
    "3.  \n",
    "4.  \n",
    "5.  "
   ]
  },
  {
   "cell_type": "code",
   "execution_count": 4,
   "id": "6ff395c3",
   "metadata": {},
   "outputs": [],
   "source": [
    "# Traducción del inglés al español con python\n",
    "\n",
    "def traducir(texto):\n",
    "    from googletrans import Translator\n",
    "\n",
    "    translator = Translator() # instancia la clase \n",
    "\n",
    "    # Traducir al español\n",
    "    translation = translator.translate(texto, src='en', dest='es')\n",
    "    return translation.text"
   ]
  },
  {
   "cell_type": "code",
   "execution_count": 5,
   "id": "b583f414-ac87-4912-8a86-b338234d83d7",
   "metadata": {},
   "outputs": [
    {
     "data": {
      "text/plain": [
       "'Hola'"
      ]
     },
     "execution_count": 5,
     "metadata": {},
     "output_type": "execute_result"
    }
   ],
   "source": [
    "traducir('Hi')"
   ]
  },
  {
   "cell_type": "code",
   "execution_count": 2,
   "id": "bc0addfe",
   "metadata": {},
   "outputs": [
    {
     "data": {
      "text/plain": [
       "'C:\\\\Users\\\\marco\\\\Documentos\\\\docencia\\\\fundamentos_logica\\\\images\\\\Reglas de inferencia.pdf'"
      ]
     },
     "execution_count": 2,
     "metadata": {},
     "output_type": "execute_result"
    }
   ],
   "source": [
    "# mapa conceptual para cada clase  \n",
    "from graphviz import Digraph\n",
    "\n",
    "# Crear un nuevo grafo dirigido\n",
    "dot = Digraph()\n",
    "\n",
    "# Añadir nodos y relaciones al grafo\n",
    "main_concept = 'Reglas de inferencia'\n",
    "dot.node('A', main_concept)\n",
    "dot.node('B', 'Modus Ponendo Ponens')\n",
    "dot.node('C', 'Modus Ponendo Tollens')\n",
    "\n",
    "dot.node('D', '')\n",
    "dot.node('E', '')\n",
    "dot.node('F', '')\n",
    "dot.node('G', '')\n",
    "dot.node('H', '')\n",
    "dot.node('I', '')\n",
    "dot.node('J', '')\n",
    "\n",
    "dot.edges(['AB'])\n",
    "dot.edges(['AC'])\n",
    "dot.edges(['CD'])\n",
    "dot.edges(['DJ'])\n",
    "dot.edges(['EF'])\n",
    "dot.edges(['FG'])\n",
    "dot.edges(['GH'])\n",
    "dot.edges(['HI'])\n",
    "dot.edges(['IJ'])\n",
    "\n",
    "# Guardar el grafo como un archivo de imagen\n",
    "dot.render(filename=main_concept, format='png', cleanup=True, \\\n",
    "           directory='C:/Users/marco/Documentos/docencia/fundamentos_logica/images/')\n",
    "\n",
    "dot.view()\n"
   ]
  },
  {
   "cell_type": "markdown",
   "id": "10e55ccf",
   "metadata": {},
   "source": [
    "# Reglas de Inferencia  "
   ]
  },
  {
   "cell_type": "markdown",
   "id": "239427f7",
   "metadata": {},
   "source": [
    "Este es un diseño de clase para enseñar las reglas de inferencia en fundamentos de la lógica matemática. "
   ]
  },
  {
   "cell_type": "markdown",
   "id": "ca990e9c",
   "metadata": {},
   "source": [
    "Este diseño utiliza cuadernos Jupyter y Python, y vincula las reglas de inferencia con demostraciones en geometría euclidiana y argumentos de optimización en cálculo diferencial.\n",
    "\n",
    "---\n"
   ]
  },
  {
   "cell_type": "markdown",
   "id": "b96a3778",
   "metadata": {},
   "source": [
    "\n",
    "### **Título de la Clase:** Reglas de Inferencia y Construcción de Argumentos Válidos\n"
   ]
  },
  {
   "cell_type": "markdown",
   "id": "c61ac59c",
   "metadata": {},
   "source": [
    "\n",
    "### **Objetivo General:**\n",
    "Comprender y aplicar las reglas de inferencia en la construcción de argumentos válidos, desarrollando habilidades para demostrar teoremas en geometría euclidiana y resolver problemas de optimización en cálculo diferencial.\n"
   ]
  },
  {
   "cell_type": "markdown",
   "id": "8c69cea6",
   "metadata": {},
   "source": [
    "\n",
    "### **Objetivos Específicos:**\n",
    "1. Identificar y utilizar las reglas de inferencia (modus ponendo ponens, modus tolendo tollens, silogismo hipotético, simplificación y adición) en la construcción de argumentos válidos.\n",
    "2. Implementar en Python las reglas de inferencia y verificar la validez de argumentos en cuadernos Jupyter.\n",
    "3. Aplicar las reglas de inferencia en demostraciones en geometría y en problemas de optimización.\n"
   ]
  },
  {
   "cell_type": "markdown",
   "id": "811f117a",
   "metadata": {},
   "source": [
    "\n",
    "### **Estructura de la Clase:**\n"
   ]
  },
  {
   "cell_type": "markdown",
   "id": "2d65d74e",
   "metadata": {},
   "source": [
    "\n",
    "1. **Introducción a las Reglas de Inferencia** (15 minutos)\n",
    "   - Definición de argumento válido.\n",
    "   - Importancia de las reglas de inferencia en la lógica y su uso en la construcción de argumentos matemáticos.\n",
    "   - Breve explicación de cada regla:\n",
    "     - **Modus Ponendo Ponens (MPP)**: Si $ p \\to q $ y $ p $, entonces $q$.\n",
    "     - **Modus Tolendo Tollens (MTT)**: Si $p \\to q$ y $\\neg q$, entonces $\\neg p$.\n",
    "     - **Silogismo Hipotético (SH)**: Si $p \\to q$ y $q \\to r$, entonces $p \\to r$.\n",
    "     - **Simplificación (Simp)**: Si \\( p \\land q \\), entonces \\( p \\) (o \\( q \\)).\n",
    "     - **Adición (Add)**: Si \\( p \\), entonces \\( p \\lor q \\).\n"
   ]
  },
  {
   "cell_type": "markdown",
   "id": "cd6c5dfd",
   "metadata": {},
   "source": [
    "Este es el contenido para la introducción a las reglas de inferencia con el uso de expresiones matemáticas delimitadas por el símbolo de dólar, además de una breve explicación de cómo estas reglas pueden aplicarse en la construcción de algoritmos en Python:\n",
    "\n",
    "---\n",
    "\n",
    "### **Introducción a las Reglas de Inferencia**\n",
    "\n",
    "En lógica matemática, un **argumento válido** es una secuencia de proposiciones en la cual una proposición, llamada **conclusión**, se deduce necesariamente de las otras proposiciones, llamadas **premisas**. Para construir argumentos válidos, empleamos **reglas de inferencia**, que nos permiten deducir conclusiones correctas a partir de las premisas dadas. Estas reglas son fundamentales en la demostración matemática y también se aplican en la construcción de algoritmos lógicos en programación.\n"
   ]
  },
  {
   "cell_type": "markdown",
   "id": "bb685c97",
   "metadata": {},
   "source": [
    "\n",
    "Las principales reglas de inferencia que veremos son:\n",
    "\n",
    "1. **Modus Ponendo Ponens (MPP)**  \n",
    "   También llamado **Modus Ponens**, esta regla establece que si tenemos una implicación $p \\to q$ y sabemos que $p$ es verdadera, entonces \\( q \\) también debe ser verdadera.  \n",
    "   - Expresión formal:  \n",
    "     $$\n",
    "     \\text{Si } p \\to q \\text{ y } p, \\text{ entonces } q.\n",
    "     $$\n",
    "   - **Ejemplo en Python**: Podemos crear un algoritmo que determine un valor booleano \\( q \\) si \\( p \\to q \\) y \\( p \\) son verdaderos.\n"
   ]
  },
  {
   "cell_type": "markdown",
   "id": "4dbcf8b6",
   "metadata": {},
   "source": [
    "El *Modus Ponendo Ponens*, también conocido simplemente como *Modus Ponens*, es una forma de razonamiento lógico en la lógica proposicional y es una de las reglas de inferencia más fundamentales. Su nombre proviene del latín y significa \"el modo que afirma afirmando.\"\n",
    "\n",
    "### Estructura del Modus Ponens\n",
    "La estructura del Modus Ponens es la siguiente:\n",
    "\n",
    "1. Si \\( P \\) implica \\( Q \\) (es decir, \\( P \\rightarrow Q \\)),\n",
    "2. Y \\( P \\) es verdadero,\n",
    "3. Entonces, \\( Q \\) debe ser verdadero.\n",
    "\n",
    "En símbolos:\n",
    "- Premisa 1: \\( P \\rightarrow Q \\)\n",
    "- Premisa 2: \\( P \\)\n",
    "- Conclusión: \\( Q \\)\n",
    "\n",
    "### Ejemplo del Modus Ponens\n",
    "Consideremos un ejemplo para entender cómo se aplica en la práctica:\n",
    "\n",
    "- Premisa 1: \"Si está lloviendo, entonces la calle estará mojada.\"\n",
    "- Premisa 2: \"Está lloviendo.\"\n",
    "- Conclusión: \"La calle estará mojada.\"\n",
    "\n",
    "Aquí, si ambas premisas son verdaderas, la conclusión debe ser verdadera. El Modus Ponens, entonces, nos permite hacer inferencias válidas a partir de una implicación y su antecedente.\n",
    "\n",
    "### Importancia en la Lógica y las Matemáticas\n",
    "El Modus Ponens es esencial en razonamientos lógicos y matemáticos, ya que permite derivar conclusiones de enunciados condicionales. Es especialmente útil en pruebas matemáticas y en la programación, donde se establecen implicaciones y, basándonos en el cumplimiento de condiciones específicas, se infieren resultados."
   ]
  },
  {
   "cell_type": "markdown",
   "id": "93ee3650",
   "metadata": {},
   "source": [
    "Aquí tienes algunas aplicaciones del *Modus Ponens* en pruebas matemáticas y en programación usando Python.\n",
    "\n",
    "### 1. Aplicación en Pruebas Matemáticas\n",
    "\n",
    "En una prueba matemática, el Modus Ponens permite hacer inferencias lógicas. Supongamos que queremos probar que un número entero es par si el cuadrado del número es par.\n",
    "\n",
    "#### Teorema:\n",
    "Si \\( n^2 \\) es par, entonces \\( n \\) es par.\n",
    "\n",
    "#### Prueba utilizando Modus Ponens:\n",
    "1. **Premisa**: \\( n^2 \\) es par (es decir, \\( P(n) = \\) \"El cuadrado de \\( n \\) es par\").\n",
    "2. **Implicación**: Si \\( P(n) \\), entonces \\( n \\) es par.\n",
    "3. **Conclusión**: Por Modus Ponens, si \\( n^2 \\) es par, entonces \\( n \\) también debe ser par.\n",
    "\n",
    "**Implementación en Python** para verificar si el cuadrado de un número es par y deducir que el número también debe ser par:\n",
    "\n",
    "```python\n",
    "def es_par(n):\n",
    "    return n % 2 == 0\n",
    "\n",
    "def verificar_paridad_con_modus_ponens(n):\n",
    "    if es_par(n**2):\n",
    "        print(f\"Dado que {n**2} es par, podemos concluir que {n} también es par.\")\n",
    "    else:\n",
    "        print(f\"No se puede concluir que {n} es par.\")\n",
    "\n",
    "# Ejemplo de uso\n",
    "numero = 4\n",
    "verificar_paridad_con_modus_ponens(numero)\n",
    "```\n",
    "\n",
    "Aquí, estamos aplicando la inferencia basada en el teorema: si el cuadrado de \\( n \\) es par, entonces \\( n \\) es par. Probamos esto en el programa verificando si \\( n^2 \\) es par y, si es cierto, deducimos que \\( n \\) también es par.\n",
    "\n",
    "### 2. Aplicación en Programación con Python (Control de Flujo con *Modus Ponens*)\n",
    "\n",
    "El Modus Ponens se usa comúnmente en programación a través de estructuras condicionales (como `if` statements), donde una condición desencadena un resultado basado en una implicación.\n",
    "\n",
    "#### Ejemplo: Verificación de Acceso según Nivel de Permisos\n",
    "\n",
    "Supongamos que en un sistema, solo se permite el acceso a un recurso si el usuario tiene el rol de \"admin\".\n",
    "\n",
    "1. **Premisa**: Si el rol del usuario es \"admin\", entonces tiene acceso.\n",
    "2. **Condición**: El rol del usuario es \"admin\".\n",
    "3. **Conclusión**: Por Modus Ponens, el usuario tiene acceso.\n",
    "\n",
    "**Implementación en Python**:\n",
    "\n",
    "```python\n",
    "def verificar_acceso(rol):\n",
    "    if rol == \"admin\":\n",
    "        print(\"Acceso concedido.\")\n",
    "    else:\n",
    "        print(\"Acceso denegado.\")\n",
    "\n",
    "# Ejemplo de uso\n",
    "rol_usuario = \"admin\"\n",
    "verificar_acceso(rol_usuario)\n",
    "```\n",
    "\n",
    "En este código:\n",
    "- La condición `if rol == \"admin\"` representa el antecedente.\n",
    "- Si el rol es \"admin\", la consecuencia se activa (`print(\"Acceso concedido.\")`), aplicando la lógica del Modus Ponens.\n"
   ]
  },
  {
   "cell_type": "markdown",
   "id": "720f28ec",
   "metadata": {},
   "source": [
    "\n",
    "### 3. Aplicación en Algoritmos Matemáticos: Criba de Eratóstenes\n",
    "\n",
    "En la Criba de Eratóstenes, usamos el Modus Ponens indirectamente para decidir si un número es primo o no: si un número $n$ es múltiplo de un número primo menor, entonces $n$ no es primo.\n"
   ]
  },
  {
   "cell_type": "code",
   "execution_count": 3,
   "id": "e8ce9d5b",
   "metadata": {},
   "outputs": [
    {
     "name": "stdout",
     "output_type": "stream",
     "text": [
      "Números primos hasta 30: [2, 3, 5, 7, 11, 13, 17, 19, 23, 29]\n"
     ]
    }
   ],
   "source": [
    "\n",
    "\n",
    "def criba_eratostenes(limite):\n",
    "    # Inicializar una lista de booleanos que representará si un número es primo\n",
    "    es_primo = [True] * (limite + 1)\n",
    "    p = 2\n",
    "    while p**2 <= limite:\n",
    "        # Si es primo, marquemos sus múltiplos como no primos\n",
    "        if es_primo[p]:\n",
    "            for i in range(p * p, limite + 1, p):\n",
    "                es_primo[i] = False\n",
    "        p += 1\n",
    "    # Los números que siguen marcados como primos son aquellos que no tienen divisores menores\n",
    "    return [p for p in range(2, limite + 1) if es_primo[p]]\n",
    "\n",
    "# Ejemplo de uso\n",
    "limite = 30\n",
    "print(f\"Números primos hasta {limite}: {criba_eratostenes(limite)}\")\n",
    "\n"
   ]
  },
  {
   "cell_type": "markdown",
   "id": "58b5c36c",
   "metadata": {},
   "source": [
    "\n",
    "### Explicación:\n",
    "- La implicación aquí es: \"Si \\( n \\) es múltiplo de un número primo menor, entonces \\( n \\) no es primo.\"\n",
    "- Usando el Modus Ponens, marcamos como no primos aquellos números que cumplen esta condición.\n",
    "- Finalmente, los números que permanecen verdaderos en la lista `es_primo` son los números primos hasta el límite especificado.\n",
    "\n",
    "El Modus Ponens es esencial para definir y aplicar condiciones, probar teoremas, y construir algoritmos efectivos en Python y en lógica matemática."
   ]
  },
  {
   "cell_type": "markdown",
   "id": "3cd23e34",
   "metadata": {},
   "source": [
    "\n",
    "2. **Modus Tolendo Tollens (MTT)**  \n",
    "   Esta regla, también llamada **Modus Tollens**, establece que si $p \\to q$ y $q$ es falso ($\\neg q$), entonces $p$ también debe ser falso.  \n",
    "   - Expresión formal:  \n",
    "     $$\n",
    "     \\text{Si } p \\to q \\text{ y } \\neg q, \\text{ entonces } \\neg p.\n",
    "     $$\n",
    "   - **Ejemplo en Python**: Podemos escribir un bloque de código condicional para inferir la falsedad de $p$ si $q$ es falso, dado $p \\to q$.\n"
   ]
  },
  {
   "cell_type": "markdown",
   "id": "2843db52",
   "metadata": {},
   "source": [
    "\n",
    "3. **Silogismo Hipotético (SH)**  \n",
    "   En esta regla, si tenemos dos implicaciones \\( p \\to q \\) y \\( q \\to r \\), podemos concluir que \\( p \\to r \\).  \n",
    "   - Expresión formal:  \n",
    "     \\[\n",
    "     \\text{Si } p \\to q \\text{ y } q \\to r, \\text{ entonces } p \\to r.\n",
    "     \\]\n",
    "   - **Ejemplo en Python**: Esta regla es útil para encadenar condiciones en un algoritmo; si una condición implica otra, podemos simplificar el flujo lógico del programa.\n",
    "\n",
    "4. **Simplificación (Simp)**  \n",
    "   Si tenemos una conjunción \\( p \\land q \\), podemos deducir que \\( p \\) es verdadera (y lo mismo para \\( q \\)).  \n",
    "   - Expresión formal:  \n",
    "     \\[\n",
    "     \\text{Si } p \\land q, \\text{ entonces } p \\text{ (o } q\\text{)}.\n",
    "     \\]\n",
    "   - **Ejemplo en Python**: En programación, esta regla permite reducir y simplificar condiciones lógicas, evaluando solo una parte de una condición compleja.\n",
    "\n",
    "5. **Adición (Add)**  \n",
    "   Esta regla establece que si \\( p \\) es verdadero, entonces la disyunción \\( p \\lor q \\) también lo es, sin importar el valor de \\( q \\).  \n",
    "   - Expresión formal:  \n",
    "     \\[\n",
    "     \\text{Si } p, \\text{ entonces } p \\lor q.\n",
    "     \\]\n",
    "   - **Ejemplo en Python**: Podemos usar esta regla para optimizar condicionales, evaluando una disyunción si sabemos que una de las condiciones es verdadera.\n",
    "\n",
    "### **Aplicación de las Reglas de Inferencia en la Construcción de Algoritmos**\n",
    "\n",
    "Las reglas de inferencia no solo son herramientas para la demostración lógica, sino que también son aplicables en la lógica computacional. Al diseñar un algoritmo en Python, por ejemplo, podemos emplear estas reglas para definir condiciones de manera precisa y asegurar que nuestro código siga un flujo lógico válido. A continuación, mostramos ejemplos prácticos de cómo estas reglas pueden ser implementadas:\n"
   ]
  },
  {
   "cell_type": "markdown",
   "id": "d7ef6cf7",
   "metadata": {},
   "source": [
    "\n",
    "2. **Implementación en Python** (30 minutos)\n",
    "   - Mostrar cómo usar Python y SymPy para crear una función que verifique la validez de argumentos aplicando estas reglas de inferencia.\n",
    "   - Ejemplos guiados en cuadernos Jupyter:\n",
    "     - Implementar cada regla de inferencia y hacer verificaciones sencillas.\n",
    "     - Ejercicio práctico: Crear un argumento compuesto y verificar su validez aplicando secuencialmente varias reglas de inferencia.\n"
   ]
  },
  {
   "cell_type": "markdown",
   "id": "951ebc85",
   "metadata": {},
   "source": [
    "\n",
    "3. **Aplicación en Geometría Euclidiana** (20 minutos)\n",
    "   - **Demostración de Ejemplo**: Usar las reglas de inferencia en la demostración de un teorema de geometría euclidiana (por ejemplo, demostrar que si dos ángulos de un triángulo son iguales, entonces los lados opuestos a estos ángulos también son iguales).\n",
    "   - Guía paso a paso para que los estudiantes construyan el argumento usando las reglas de inferencia y luego verifiquen cada paso en Python.\n"
   ]
  },
  {
   "cell_type": "markdown",
   "id": "fba01db3",
   "metadata": {},
   "source": [
    "\n",
    "4. **Aplicación en Optimización en Cálculo Diferencial** (20 minutos)\n",
    "   - **Ejercicio de Optimización**: Resolver un problema de optimización utilizando derivadas y reglas de inferencia, como deducir que una función tiene un máximo o mínimo local.\n",
    "   - Aplicar las reglas de inferencia para construir un argumento que demuestre la conclusión del problema (por ejemplo, que un punto crítico es un máximo local si la derivada segunda es negativa).\n",
    "   - Ejercicio guiado en Python para evaluar el argumento completo.\n"
   ]
  },
  {
   "cell_type": "markdown",
   "id": "414d2bde",
   "metadata": {},
   "source": [
    "\n",
    "5. **Actividad en Parejas: Construcción y Validación de Argumentos** (15 minutos)\n",
    "   - Los estudiantes crean sus propios argumentos válidos usando las reglas de inferencia en problemas de geometría y cálculo.\n",
    "   - Verifican los argumentos en Python y comparten sus resultados con otro grupo para revisión y discusión.\n"
   ]
  },
  {
   "cell_type": "markdown",
   "id": "4d0b15c3",
   "metadata": {},
   "source": [
    "\n",
    "6. **Cierre y Reflexión** (10 minutos)\n",
    "   - Discusión en grupo sobre la importancia de construir argumentos válidos en matemáticas y ciencia.\n",
    "   - Reflexión sobre cómo la implementación en Python facilita el aprendizaje y la validación de argumentos.\n",
    "\n",
    "---\n"
   ]
  },
  {
   "cell_type": "markdown",
   "id": "768b7b4b",
   "metadata": {},
   "source": [
    "\n",
    "### **Materiales y Recursos:**\n",
    "- **Cuadernos Jupyter**: Para implementar y verificar argumentos utilizando Python.\n",
    "- **Biblioteca SymPy**: Para manipular proposiciones lógicas y verificar su validez.\n",
    "- **Ejemplos Prácticos en Geometría y Cálculo**: Enunciados de teoremas y problemas de optimización.\n",
    "\n",
    "### **Evaluación:**\n",
    "- Verificación de argumentos en cuadernos Jupyter y aplicación correcta de las reglas de inferencia.\n",
    "- Evaluación de la participación en la actividad en parejas y la discusión final.\n"
   ]
  },
  {
   "cell_type": "markdown",
   "id": "12684937",
   "metadata": {},
   "source": [
    "\n",
    "Este diseño proporciona una estructura sólida para ayudar a los estudiantes a comprender y aplicar las reglas de inferencia de forma práctica y orientada a problemas, aprovechando la tecnología para validar su razonamiento."
   ]
  },
  {
   "cell_type": "code",
   "execution_count": null,
   "id": "ec048afb",
   "metadata": {},
   "outputs": [],
   "source": []
  },
  {
   "cell_type": "markdown",
   "id": "64ac8d32",
   "metadata": {},
   "source": [
    "# Ejemplo ilustrativo"
   ]
  },
  {
   "cell_type": "markdown",
   "id": "a3e5e6ab",
   "metadata": {},
   "source": [
    "# 10 ejercicios de entrenamiento o adquisición de habilidades obtenido a través de ChatGPT para una formación personalizada y centrada en la habilidad que se quiere lograr con la enseñanza del ejemplo anterior"
   ]
  },
  {
   "cell_type": "code",
   "execution_count": null,
   "id": "cc539357",
   "metadata": {},
   "outputs": [],
   "source": []
  },
  {
   "cell_type": "markdown",
   "id": "2f0141c3",
   "metadata": {},
   "source": [
    "## Tareas para realizar antes de la clase  \n",
    "\n",
    "1. Ver los videos respectivos []()\n",
    "2. Memorizar las definiciones []()\n",
    "3. Sintetizar o resumir la información en mapas conceptuales. []()\n",
    "4. Tareas para incentivar el uso de la calculadora Casio Para ingenieros y licenciados. \n",
    "5. Leer los ejemplos resueltos y repricar la manera de hacerlos"
   ]
  },
  {
   "cell_type": "markdown",
   "id": "740f3401",
   "metadata": {
    "slideshow": {
     "slide_type": "slide"
    }
   },
   "source": [
    "# Componente de manejo de calculadora Casio asociado al objetivo de aprendizaje de esta clase  \n",
    "\n",
    "## Pasos para lograr el objetivo de aprendizaje con la experimentación en la calculadora casio 991LA cw  "
   ]
  },
  {
   "cell_type": "markdown",
   "id": "8d41fe58",
   "metadata": {
    "slideshow": {
     "slide_type": "slide"
    }
   },
   "source": [
    "# Horario de clases del profesor Marco\n",
    "\n",
    "* Lunes 8-12: Cálculo Vectorial\n",
    "* Martes 8-12 M: Fundamentos de Aritmética. \n",
    "* Miércoles 8 a 12 M: Fundamentos de la Lógica\n",
    "* Jueves 2 a 6PM: Desarrollo del pensamiento matemático en la infancia. \n",
    "* Viernes 8 - 12 M: Desarrollo del pensamiento matemático en la infancia. \n",
    "* Sábados 8-12 Asesorías "
   ]
  },
  {
   "cell_type": "markdown",
   "id": "ae114e14",
   "metadata": {
    "slideshow": {
     "slide_type": "slide"
    }
   },
   "source": [
    "# Horarios de monitoría y asesoría  \n",
    "\n",
    "Coordinador de los cursos de la Facultad de Educación para regiones:    \n",
    "\n",
    "Andrés Vélez: regioneducacion.fedu@udea.edu.co  \n",
    "Coordinador Regiones  \n",
    "Facultad de Educación  \n",
    "Universidad de Antioquia  "
   ]
  },
  {
   "cell_type": "markdown",
   "id": "b1db4b6c",
   "metadata": {
    "slideshow": {
     "slide_type": "slide"
    }
   },
   "source": [
    "## Monitor Manuel San Juan Serrano\n",
    "\n",
    "Contactar escribiendo al correo: manuel.serrano1@udea.edu.co"
   ]
  },
  {
   "cell_type": "markdown",
   "id": "39559692",
   "metadata": {
    "slideshow": {
     "slide_type": "slide"
    }
   },
   "source": [
    "Martes y jueves de 8 - 12  \n",
    "Miércoles 10 - 12 y de 2 a 4 PM  \n",
    "Sábado: 8 - 12"
   ]
  },
  {
   "cell_type": "markdown",
   "id": "5a190057",
   "metadata": {},
   "source": [
    "## Monitoría virtual   \n",
    "\n",
    "Telefono del monitos en whatsApp: 3043936088  \n",
    "\n",
    "Juan David Cano Castrillón  \n",
    "Estudiante de Pregrado.  \n",
    "juan.canoc1@udea.edu.co  \n",
    "3043936088  \n"
   ]
  },
  {
   "cell_type": "markdown",
   "id": "10bce0d0",
   "metadata": {
    "slideshow": {
     "slide_type": "slide"
    }
   },
   "source": [
    "## Referentes "
   ]
  },
  {
   "cell_type": "markdown",
   "id": "1db3c468",
   "metadata": {
    "slideshow": {
     "slide_type": "slide"
    }
   },
   "source": [
    "* [Grajales Vanegas, L. M., Restrepo Estrada, C. E., Restrepo Ochoa, S. I., & Ruíz De Villalba, F. (2015). Matemáticas I para las ciencias económicas.](https://github.com/marco-canas/fundamentos_de_la_aritmetica/blob/main/referentes/2_grajales_logica/grajales_lina_matemticas.pdf)\n",
    "  \n",
    "* Duval, R. (2004). Semiosis y pensamiento humano: registros semióticos y aprendizajes intelectuales. Universidad del Valle.\n",
    "\n",
    "* [Aylwin, C. U. (2011). Lógica, conjuntos y números. Universidad de los Andes, Consejo de Publicaciones, Colección: Ciencias Básicas, Serie: Matemáticas.](https://github.com/marco-canas/fundamentos_logica/blob/main/referentes/2_uzcategui/uscategui.pdf)\n",
    "  \n",
    "* [Chollet, F. (2021). Deep learning with Python. Simon and Schuster.](https://github.com/marco-canas/didactica_ciencia_datos/blob/main/2_referentes/chollet/Fran%C3%A7ois%20Chollet%20-%20Deep%20Learning%20with%20Python-Manning%20(2018).pdf)  \n",
    "  \n",
    "* [Watson, S., Stewart, J., & Redlin, L. (2009). Precálculo. Matemáticas para el cálculo.](https://github.com/marco-canas/calculo/blob/main/referents/1_precalculo_stewart/stewart_precalculo.pdf)  \n",
    "\n",
    "* [Purcell, E. J., Varberg, D., & Rigdon, S. E. (2007). Cálculo diferencial e integral. Pearson Educación.](https://github.com/marco-canas/calculo/blob/main/referents/purcell/purcell_calculo.pdf)\n",
    "\n",
    "  \n",
    "\n",
    "* [stewart cálculo](https://udeaeduco-my.sharepoint.com/:b:/g/personal/marco_canas_udea_edu_co/EZgXZjAp8QxPqOAim2hs6LcBNPLGjSHf-xwYnUVYkwa04w?e=RZdTCy)  \n",
    "\n",
    "* [larson](https://udeaeduco-my.sharepoint.com/:b:/g/personal/marco_canas_udea_edu_co/ES71ChFeO9ZDhW3TwC5Ijk8BjxUK3Pdqz_fjHxTTFAfIAg?e=VDEjfu)\n",
    "\n",
    "\n",
    "\n",
    "* [Recomendación de la UNESCO sobre ciencia abierta](https://unesdoc.unesco.org/ark:/48223/pf0000379949_spa)\n",
    "\n",
    "* [chatGPT](https://openai.com/blog/chatgpt)  \n",
    "\n",
    "* [Géron, A. (2017). Hands-on machine learning with scikit-learn and tensorflow: Concepts. Tools, and Techniques to build intelligent systems.](https://github.com/marco-canas/didactica_ciencia_datos/blob/main/2_referentes/geron/Hands-On%20Machine%20Learning-3nd_Edition(2022).pdf)  \n",
    "\n",
    "* [McKinney, W. (2012). Python for data analysis: Data wrangling with Pandas, NumPy, and IPython. \" O'Reilly Media, Inc.\".](https://github.com/marco-canas/didactica_ciencia_datos/blob/main/2_referentes/mckinney/Wes_McKinney.pdf)  "
   ]
  },
  {
   "cell_type": "markdown",
   "id": "8e65d6f9",
   "metadata": {},
   "source": [
    "# Como estudiante, encuentro que...   \n",
    "\n",
    "F: Mis Fortalezas son:     \n",
    "O: Mis Oportunidades son:    \n",
    "D: Mis Debilidades son:    \n",
    "A: Lo que Amenazas mi aprendizaje es:  "
   ]
  },
  {
   "cell_type": "markdown",
   "id": "6b9e56a8",
   "metadata": {
    "slideshow": {
     "slide_type": "slide"
    }
   },
   "source": [
    "### [Evaluamos al profesor Marco Cañas Aquí](https://forms.office.com/Pages/ResponsePage.aspx?id=IefhmYRxjkmK_7KtTlPBwkanXIs1i1FEujpsZgO6dXpUREJPV1kxUk1JV1ozTFJIQVNIQjY5WEY3US4u)"
   ]
  },
  {
   "cell_type": "markdown",
   "id": "050b9508",
   "metadata": {},
   "source": [
    "# Aportes de mis estudiantes a la metodología del curso  \n",
    "1. \n",
    "\n",
    "Sus opiniones y aportes son muy importantes para mi. Pues esta es una investigación educativa y un servicio de enseñanza para ustedes. Ustedes son la razón de ser de mi actividad docente. Dios los bendiga. "
   ]
  },
  {
   "cell_type": "markdown",
   "id": "6c4af91f",
   "metadata": {},
   "source": [
    "# Aportes de mis colegas docentes a la metodología que estoy aplicando en mis cursos. "
   ]
  },
  {
   "cell_type": "markdown",
   "id": "071afa04",
   "metadata": {
    "slideshow": {
     "slide_type": "slide"
    }
   },
   "source": [
    "## [Evaluación luego de alcanzar estos objetivos de aprendizaje]()"
   ]
  },
  {
   "cell_type": "markdown",
   "id": "10f43536",
   "metadata": {
    "slideshow": {
     "slide_type": "slide"
    }
   },
   "source": [
    "### Continue su aprendizaje en la siguiente clase a través del siguiente [vínculo]()"
   ]
  },
  {
   "cell_type": "markdown",
   "id": "ba236f4d",
   "metadata": {},
   "source": [
    "### **Actividad de Clase: Expresar Ideas, Dudas y Emociones de Manera Respetuosa y Asertiva**\n"
   ]
  },
  {
   "cell_type": "markdown",
   "id": "33bcd185",
   "metadata": {},
   "source": [
    "\n",
    "**Objetivo:**  \n",
    "Desarrollar habilidades de comunicación efectiva en los estudiantes para que puedan expresar sus ideas, dudas y emociones de forma respetuosa y asertiva.\n",
    "\n",
    "**Duración:**  \n",
    "15-20 minutos\n",
    "\n",
    "---\n"
   ]
  },
  {
   "cell_type": "markdown",
   "id": "f61da648",
   "metadata": {},
   "source": [
    "\n",
    "### **1. Introducción (5 minutos)**  \n",
    "- **Tema:** Introducir a los estudiantes al concepto de la comunicación asertiva, explicando cómo expresar pensamientos y emociones de manera clara y respetuosa sin agredir o ser pasivo.\n",
    "- **Dinámica:** Mostrar dos ejemplos contrastantes: uno de comunicación pasiva/agresiva y otro de comunicación asertiva. Preguntar a los estudiantes cuál creen que es más efectivo y por qué.\n",
    "\n",
    "**Materiales:**  \n",
    "- Pizarra o diapositivas con ejemplos de frases pasivas, agresivas y asertivas.\n",
    "  \n",
    "**Ejemplo:**  \n",
    "- **Pasivo:** “Bueno… no sé si es una buena idea, pero… tal vez podrías intentarlo.”\n",
    "- **Agresivo:** “¡Tu idea es terrible, no va a funcionar!”\n",
    "- **Asertivo:** “Creo que podríamos mejorar esa idea si consideramos otro enfoque.”\n",
    "\n",
    "---\n",
    "\n",
    "### **2. Ejercicio en Parejas (10 minutos)**  \n",
    "- **Instrucciones:** Dividir a los estudiantes en parejas. Darles diferentes situaciones cotidianas en las que deben comunicarse (pedir ayuda, expresar desacuerdo, compartir una idea, etc.). Cada pareja debe crear una breve conversación donde practiquen la comunicación asertiva.\n",
    "  \n",
    "**Situaciones propuestas:**\n",
    "  - Expresar desacuerdo con un compañero sobre una tarea de grupo.\n",
    "  - Pedirle ayuda al profesor sobre un concepto difícil.\n",
    "  - Expresar frustración por un malentendido en clase.\n",
    "\n",
    "- **Reglas:** Cada estudiante debe asegurarse de usar lenguaje respetuoso y asertivo para expresar su posición y emociones. Al final, cada pareja debe compartir con la clase un ejemplo de lo que discutieron.\n",
    "\n",
    "---\n",
    "\n",
    "### **3. Retroalimentación y Discusión (5 minutos)**  \n",
    "- **Discusión:** Invitar a algunos estudiantes a compartir sus experiencias de la actividad. \n",
    "- **Preguntas:** ¿Cómo se sintieron al intentar ser asertivos? ¿Les resultó difícil? ¿Cómo fue recibido el mensaje?\n",
    "  \n",
    "**Consejo:** Resaltar la importancia de practicar la asertividad como una herramienta para mejorar la comunicación interpersonal y reducir conflictos.\n",
    "\n",
    "---\n",
    "\n",
    "### **Cierre**  \n",
    "- Resumir las características de la comunicación asertiva: uso de \"yo\" en lugar de \"tú\" para evitar culpabilizar, tono de voz calmado, y respeto hacia el interlocutor.\n",
    "- **Tarea opcional:** Pedirles que practiquen la comunicación asertiva en sus conversaciones durante la semana y escriban una reflexión breve sobre cómo les fue.\n",
    "\n",
    "**Material adicional:**  \n",
    "- Video corto o recurso digital sobre la importancia de la comunicación asertiva."
   ]
  },
  {
   "cell_type": "markdown",
   "id": "53cc9115",
   "metadata": {
    "slideshow": {
     "slide_type": "slide"
    }
   },
   "source": [
    "## Agradecimientos  \n",
    "\n",
    "Doy gracias a Dios por la vida de mi Hijo Joseph Cañas Osorio y la madurez que ha alcanzado.\n",
    "\n",
    "Y a mi esposa Yasmira por su apoyo, orientación y acompañamiento. "
   ]
  }
 ],
 "metadata": {
  "celltoolbar": "Slideshow",
  "kernelspec": {
   "display_name": "base",
   "language": "python",
   "name": "python3"
  },
  "language_info": {
   "codemirror_mode": {
    "name": "ipython",
    "version": 3
   },
   "file_extension": ".py",
   "mimetype": "text/x-python",
   "name": "python",
   "nbconvert_exporter": "python",
   "pygments_lexer": "ipython3",
   "version": "3.12.4"
  },
  "rise": {
   "enable_chalkboard": true,
   "theme": "sky",
   "transition": "zoom"
  }
 },
 "nbformat": 4,
 "nbformat_minor": 5
}
