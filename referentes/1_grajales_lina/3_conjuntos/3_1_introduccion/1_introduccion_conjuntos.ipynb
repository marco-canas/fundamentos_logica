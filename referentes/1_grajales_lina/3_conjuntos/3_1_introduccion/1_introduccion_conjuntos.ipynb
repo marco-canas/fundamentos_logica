{
 "cells": [
  {
   "cell_type": "markdown",
   "id": "dc06dec7",
   "metadata": {
    "slideshow": {
     "slide_type": "slide"
    }
   },
   "source": [
    "<table align=\"left\">\n",
    "  <td>\n",
    "    <a href=\"https://colab.research.google.com/github/ageron/handson-ml3/blob/main/tools_numpy.ipynb\" target=\"_parent\"><img src=\"https://colab.research.google.com/assets/colab-badge.svg\" alt=\"Open In Colab\"/></a>\n",
    "  </td>\n",
    "  <td>\n",
    "    <a target=\"_blank\" href=\"https://kaggle.com/kernels/welcome?src=https://github.com/ageron/handson-ml3/blob/main/tools_numpy.ipynb\"><img src=\"https://kaggle.com/static/images/open-in-kaggle.svg\" /></a>\n",
    "  </td>\n",
    "</table>"
   ]
  },
  {
   "cell_type": "markdown",
   "id": "e0c5b198",
   "metadata": {
    "slideshow": {
     "slide_type": "slide"
    }
   },
   "source": [
    "### [Video de apoyo a la lectura interactiva y experimental de este cuaderno]()"
   ]
  },
  {
   "cell_type": "markdown",
   "id": "41e82203",
   "metadata": {
    "slideshow": {
     "slide_type": "slide"
    }
   },
   "source": [
    "### [Vínculo al programa del curso:  ]()\n",
    "\n"
   ]
  },
  {
   "cell_type": "markdown",
   "id": "d11ab06d",
   "metadata": {
    "slideshow": {
     "slide_type": "slide"
    }
   },
   "source": [
    "Un reconocimiento a mis estudiantes que han construido conmigo este saber pedagógico:\n",
    "\n",
    "<img src = ''> \n",
    "\n"
   ]
  },
  {
   "cell_type": "markdown",
   "id": "8a74a56c-0ce6-4ad6-b985-553fd7fb68bb",
   "metadata": {},
   "source": [
    "Reconocimiento a las profesoras destacadas en enseñanza de la matemática en Colombia\n"
   ]
  },
  {
   "cell_type": "code",
   "execution_count": null,
   "id": "7604880f",
   "metadata": {
    "slideshow": {
     "slide_type": "slide"
    }
   },
   "outputs": [],
   "source": [
    "import pandas as pd\n",
    "import numpy as np\n",
    "\n",
    "# Cargar la lista de estudiantes desde el archivo CSV\n",
    "path = 'C:/Users/marco/Documentos/docencia/groups_list/logica.csv'\n",
    "estudiantes = pd.read_csv(path)\n",
    "estudiantes['Parcial'] = estudiantes['Parcial'].astype(float)  # Asegurar que la columna 'Parcial' es float\n",
    "\n",
    "# Convertir la columna 'Nombre' a una lista de Python\n",
    "lista_estudiantes = estudiantes['Nombre'].tolist()\n",
    "\n",
    "# Función para llamar a un estudiante aleatoriamente y registrar su nota de seguimiento\n",
    "def asistencia():\n",
    "    global lista_estudiantes\n",
    "    if lista_estudiantes:\n",
    "        estudiante_aleatorio = np.random.choice(lista_estudiantes)\n",
    "        print(f\"Llamando a {estudiante_aleatorio}...\")\n",
    "        asistencia = input(f\"¿Asistió {estudiante_aleatorio}? (s/n): \").strip().lower()\n",
    "        \n",
    "        # Validación de entrada\n",
    "        if asistencia == 's':\n",
    "            # Obtener el índice del estudiante en el DataFrame\n",
    "            indice = estudiantes[estudiantes['Nombre'] == estudiante_aleatorio].index[0]\n",
    "            # Incrementar su valor en la columna 'Parcial'\n",
    "            estudiantes.at[indice, 'Parcial'] += 0.3\n",
    "            print(f\"Actualizado: {estudiante_aleatorio} ahora tiene {estudiantes.at[indice, 'Parcial']} en la columna 'Parcial'.\")\n",
    "        \n",
    "        elif asistencia != 'n':\n",
    "            print(\"Entrada inválida. Por favor, introduce 's' para sí o 'n' para no.\")\n",
    "            return  # Volver a preguntar para el mismo estudiante si la entrada es inválida\n",
    "        \n",
    "        # Remover al estudiante de la lista para no llamarlo de nuevo\n",
    "        lista_estudiantes.remove(estudiante_aleatorio)\n",
    "    else:\n",
    "        print(\"Se han llamado a todos los estudiantes del grupo completo.\")\n",
    "\n",
    "# Función para guardar cambios al final de la sesión\n",
    "def guardar_cambios():\n",
    "    estudiantes.to_csv(path, index=False)\n",
    "    print(\"Cambios guardados en el archivo CSV.\")\n",
    "\n",
    "# Ejemplo de uso\n",
    "while lista_estudiantes:\n",
    "    asistencia()\n",
    "\n",
    "# Guardar los cambios una vez que todos los estudiantes hayan sido llamados\n",
    "guardar_cambios()\n",
    "\n"
   ]
  },
  {
   "cell_type": "markdown",
   "id": "d7598d0a-d9b7-4ae0-b029-a0ed6ed1130b",
   "metadata": {},
   "source": [
    "\n",
    "# Principios de mi labor docente"
   ]
  },
  {
   "cell_type": "markdown",
   "id": "4f9d8cf9",
   "metadata": {
    "slideshow": {
     "slide_type": "slide"
    }
   },
   "source": [
    "## Modelo general de clase: [aula invertida](https://www3.gobiernodecanarias.org/medusa/ecoescuela/pedagotic/aprendizaje-invertido-flipped-classroom/)"
   ]
  },
  {
   "cell_type": "markdown",
   "id": "eb6ed03a",
   "metadata": {},
   "source": [
    "<img src = 'https://resources.maneuveringthemiddle.com/wp-content/uploads/2020/07/04212706/1-5.png' width = 200>  \n",
    "\n"
   ]
  },
  {
   "cell_type": "markdown",
   "id": "34319cce-a71b-4f64-aab8-b53e521efa40",
   "metadata": {},
   "source": [
    "# Metodología de enseñanza basada en problemas (ABP)\n"
   ]
  },
  {
   "cell_type": "markdown",
   "id": "c4f73d81",
   "metadata": {},
   "source": [
    "\n",
    "<img src = 'https://www.unir.net/wp-content/uploads/2020/07/aprendizaje-problemas2-1-1-1-1.jpeg' width = 200>"
   ]
  },
  {
   "cell_type": "markdown",
   "id": "841a985c-bd9b-4dd3-8e4c-893983980af2",
   "metadata": {},
   "source": [
    "# Desarrollo del pensamiento computacional con python y cuadernos Jupyter  orientado a la formación en ciencia de datos \n",
    "\n"
   ]
  },
  {
   "cell_type": "markdown",
   "id": "3d0eba94",
   "metadata": {},
   "source": [
    "\n",
    "<img src = 'https://i.ytimg.com/vi/mcG_wcR4e6M/maxresdefault.jpg' width = 200>"
   ]
  },
  {
   "cell_type": "markdown",
   "id": "65aa0404-f7ae-495e-864c-1aec01b4255e",
   "metadata": {},
   "source": [
    "# Principio de fomento a la ciencia abierta, enseñar en el acceso a los datos públicos y el uso de software de código abierto  \n"
   ]
  },
  {
   "cell_type": "markdown",
   "id": "18ae9b87",
   "metadata": {},
   "source": [
    "\n",
    "<img src = 'https://unesdoc.unesco.org/in/rest/Thumb/image?id=p%3A%3Ausmarcdef_0000379949_spa&author=UNESCO&title=Recomendaci%C3%B3n+de+la+UNESCO+sobre+la+Ciencia+Abierta&year=2021&publisher=UNESCO&TypeOfDocument=UnescoPhysicalDocument&mat=PGD&ct=true&size=512&isPhysical=1' width = 200>"
   ]
  },
  {
   "cell_type": "markdown",
   "id": "d9559f85",
   "metadata": {},
   "source": [
    "El enfoque STEAMS en educación preescolar, primaria y secundaria es una extensión del enfoque STEM (Ciencia, Tecnología, Ingeniería y Matemáticas) y su variante STEAM, que incorpora el Arte. "
   ]
  },
  {
   "cell_type": "markdown",
   "id": "72e1cfd2",
   "metadata": {},
   "source": [
    "El acrónimo STEAMS incluye:\n"
   ]
  },
  {
   "cell_type": "markdown",
   "id": "03182fd1",
   "metadata": {},
   "source": [
    "\n",
    "1. **Science (Ciencia):** Fomenta la curiosidad por el mundo natural y el desarrollo de habilidades científicas, como la observación, experimentación y análisis.\n"
   ]
  },
  {
   "cell_type": "markdown",
   "id": "1306d0fa",
   "metadata": {},
   "source": [
    "\n",
    "2. **Technology (Tecnología):** Integra herramientas tecnológicas para potenciar el aprendizaje y la resolución de problemas, promoviendo la alfabetización digital desde edades tempranas.\n"
   ]
  },
  {
   "cell_type": "markdown",
   "id": "3b1a53e8",
   "metadata": {},
   "source": [
    "\n",
    "3. **Engineering (Ingeniería):** Introduce el pensamiento lógico y la resolución de problemas estructurados, fomentando habilidades como el diseño y la construcción de soluciones.\n"
   ]
  },
  {
   "cell_type": "markdown",
   "id": "0196de87",
   "metadata": {},
   "source": [
    "\n",
    "4. **Arts (Arte):** Añade creatividad y pensamiento crítico, permitiendo a los estudiantes expresarse y explorar el aprendizaje a través de formas artísticas (plásticas, música, teatro).\n"
   ]
  },
  {
   "cell_type": "markdown",
   "id": "8bcc485a",
   "metadata": {},
   "source": [
    "\n",
    "5. **Mathematics (Matemáticas):** Refuerza las habilidades numéricas y el razonamiento lógico, fundamentales en la resolución de problemas y comprensión de conceptos abstractos.\n"
   ]
  },
  {
   "cell_type": "markdown",
   "id": "907935f4",
   "metadata": {},
   "source": [
    "\n",
    "6. **Social Sciences (Ciencias Sociales):** Incorpora la comprensión del entorno social, político, cultural y económico, promoviendo el desarrollo de la conciencia crítica sobre el mundo y su historia, además de habilidades de empatía y ciudadanía.\n"
   ]
  },
  {
   "cell_type": "markdown",
   "id": "39967d63",
   "metadata": {},
   "source": [
    "\n",
    "El enfoque STEAMS pretende desarrollar un aprendizaje **interdisciplinario** que integre estas áreas para fomentar un pensamiento más holístico y práctico. "
   ]
  },
  {
   "cell_type": "markdown",
   "id": "5145f077",
   "metadata": {},
   "source": [
    "Se busca que los estudiantes no solo aprendan conocimientos técnicos, sino también cómo aplicarlos creativa y críticamente en situaciones reales, promoviendo habilidades como el trabajo en equipo, la comunicación y la innovación. "
   ]
  },
  {
   "cell_type": "markdown",
   "id": "9d556584",
   "metadata": {},
   "source": [
    "En educación preescolar, primaria, secundaria y superior, se adapta a las diferentes etapas de desarrollo cognitivo y emocional de los estudiantes, promoviendo el aprendizaje activo y contextualizado.  \n"
   ]
  },
  {
   "cell_type": "markdown",
   "id": "0130ec1b",
   "metadata": {},
   "source": [
    "\n",
    "<img src = 'https://www.campuseducacion.com/blog/wp-content/uploads/2023/03/foto01-1.jpg' width = 200>"
   ]
  },
  {
   "cell_type": "markdown",
   "id": "9d15c10d-2c02-4158-9419-b1ed79b4c1ee",
   "metadata": {},
   "source": [
    "# Qué estamos haciendo por la internalización en esta clase y este curso  \n"
   ]
  },
  {
   "cell_type": "markdown",
   "id": "6e4feef2",
   "metadata": {},
   "source": [
    "Estas son mis acciones como docente de matemáticas en la Universidad de Antioquia con miras a la **internacionalización** de mi práctica docente y el desarrollo de competencias internacionales para mis estudiantes, ls cuales he estructurado con el siguiente enfoque:\n"
   ]
  },
  {
   "cell_type": "markdown",
   "id": "964d9de7-53ee-4255-9bcd-d8e6454f2993",
   "metadata": {},
   "source": [
    "### 1. **Visión Global en la Formación Académica**\n"
   ]
  },
  {
   "cell_type": "markdown",
   "id": "d9bdd3e2",
   "metadata": {},
   "source": [
    "   - **Competencias Internacionales**: Asegúrate de que el contenido de tus cursos fomente habilidades que sean reconocidas globalmente. Al educar a los estudiantes en **Python, LaTeX, Markdown y Jupyter Notebooks** y en la **introducción a la ciencia de datos y técnicas de Machine Learning**, estás proporcionando competencias altamente demandadas en los sectores tecnológicos y académicos a nivel internacional.\n"
   ]
  },
  {
   "cell_type": "markdown",
   "id": "39b55206",
   "metadata": {},
   "source": [
    "   - **Relevancia de los Contenidos**: Destaca cómo los temas que enseñas, como el **desarrollo del pensamiento computacional** y la **ciencia de datos**, están alineados con las necesidades globales actuales en diversas industrias, desde la tecnología hasta las ciencias naturales y sociales.\n"
   ]
  },
  {
   "cell_type": "markdown",
   "id": "a054599e",
   "metadata": {},
   "source": [
    "   - **Referencias a Estándares Internacionales**: Puedes vincular tu enseñanza a estándares internacionales de competencias en programación y ciencia de datos (por ejemplo, frameworks del **IEEE, ACM**, y estándares de la **data science** o la **computación en la nube**)."
   ]
  },
  {
   "cell_type": "markdown",
   "id": "0f1d110c-3142-48fe-9e7d-5fbd9e8bb931",
   "metadata": {},
   "source": [
    "### 2. **Innovación Pedagógica con Enfoque Internacional**\n"
   ]
  },
  {
   "cell_type": "markdown",
   "id": "fae6ae34",
   "metadata": {},
   "source": [
    "   - **Aula Invertida y ABP**: Presenta cómo tu enfoque de **aula invertida** y **aprendizaje basado en problemas (ABP)** permite a los estudiantes trabajar de manera autónoma y colaborativa, lo que los prepara para escenarios laborales internacionales que requieren autoaprendizaje y habilidades de resolución de problemas en equipo.\n"
   ]
  },
  {
   "cell_type": "markdown",
   "id": "c83062d9",
   "metadata": {},
   "source": [
    "   - **Uso de Jupyter Notebooks**: El uso de **Jupyter Notebooks** en tus clases no solo facilita la **integración de código, matemáticas y texto**, sino que también es una plataforma utilizada globalmente en ambientes académicos y profesionales, lo que hace a tus estudiantes más competitivos internacionalmente."
   ]
  },
  {
   "cell_type": "markdown",
   "id": "960d52b7-03cd-4eb3-965e-5cdfeb7d9f8e",
   "metadata": {},
   "source": [
    "### 3. **Tecnología y Herramientas de Uso Global**\n"
   ]
  },
  {
   "cell_type": "markdown",
   "id": "4be7269f",
   "metadata": {},
   "source": [
    "   - **Lenguaje Python**: Python es uno de los lenguajes de programación más usados a nivel mundial, tanto en la academia como en la industria. Al formar a tus estudiantes en Python para ciencia de datos y machine learning, los preparas para operar en entornos tecnológicos globales.\n"
   ]
  },
  {
   "cell_type": "markdown",
   "id": "102655af",
   "metadata": {},
   "source": [
    "   - **Herramientas de Ciencia Abierta**: Resalta cómo herramientas como **GitHub**, **Google Colab** y otras plataformas de código abierto están alineadas con el movimiento de **ciencia abierta**, el cual es internacionalmente reconocido y permite que los estudiantes colaboren y compartan proyectos a nivel global."
   ]
  },
  {
   "cell_type": "markdown",
   "id": "3b2ffa32-7a6f-4545-ba7b-c6a69f51109f",
   "metadata": {},
   "source": [
    "### 4. **Investigación y Publicaciones Internacionales**\n"
   ]
  },
  {
   "cell_type": "markdown",
   "id": "bdbf52a5",
   "metadata": {},
   "source": [
    "   - **Promoción de la Investigación**: Detalla cómo promueves que tus estudiantes participen en proyectos de **investigación aplicada**, con posibilidad de publicación en revistas internacionales. Esto contribuye a la reputación internacional de la Universidad de Antioquia.\n"
   ]
  },
  {
   "cell_type": "markdown",
   "id": "ea01fcbc",
   "metadata": {},
   "source": [
    "   - **Colaboraciones Internacionales**: Si has colaborado con investigadores de otras instituciones o universidades en el extranjero, menciona estos proyectos y cómo han enriquecido tu enseñanza y proporcionado a los estudiantes una visión más globalizada."
   ]
  },
  {
   "cell_type": "markdown",
   "id": "5d1e396e-aece-4bf7-9421-32fa7809eaf4",
   "metadata": {},
   "source": [
    "## 5. **Uso del Inglés para la Internacionalización**\n"
   ]
  },
  {
   "cell_type": "markdown",
   "id": "29cabf26",
   "metadata": {},
   "source": [
    "   - **Comunicación Científica en Inglés**: "
   ]
  },
  {
   "cell_type": "markdown",
   "id": "8ec53ff3",
   "metadata": {},
   "source": [
    "Fomentar el aprendizaje del inglés como lengua científica es clave para que tus estudiantes puedan acceder a publicaciones internacionales, conferencias, y material académico que no está disponible en español. Esto es esencial para que adquieran competencias que les permitan desempeñarse en cualquier contexto internacional.\n"
   ]
  },
  {
   "cell_type": "markdown",
   "id": "b831224f",
   "metadata": {},
   "source": [
    "   - **Material Bilingüe**: Al generar material educativo en Python, LaTeX y Markdown, considera ofrecer algunos de estos recursos en inglés, para que los estudiantes se familiaricen con el vocabulario técnico y científico internacional."
   ]
  },
  {
   "cell_type": "markdown",
   "id": "c6a8c3b0-426a-4692-a384-3065aea81c9a",
   "metadata": {},
   "source": [
    "### 6. **Certificaciones y Estándares Internacionales**\n"
   ]
  },
  {
   "cell_type": "markdown",
   "id": "b1f41da5",
   "metadata": {},
   "source": [
    "   - **Participación en Certificaciones Internacionales**: Impulsa que los estudiantes busquen certificaciones internacionales en Python o ciencia de datos (como las ofrecidas por **Coursera, edX,** o **Google**). Estas certificaciones no solo validan sus competencias, sino que también incrementan el reconocimiento de la Universidad de Antioquia en el contexto internacional.\n"
   ]
  },
  {
   "cell_type": "markdown",
   "id": "7cc66317",
   "metadata": {},
   "source": [
    "   - **Alineación con Acreditaciones Internacionales**: Vincula tu trabajo docente con los estándares de acreditación y certificación que garantizan que la universidad siga siendo reconocida internacionalmente. Puedes vincularte con organizaciones internacionales que promuevan la excelencia en la educación y tecnología, como **ABET** para la acreditación en ingeniería y ciencias computacionales."
   ]
  },
  {
   "cell_type": "markdown",
   "id": "65d3d9e1-ea84-43e0-8197-a2a9c9e21594",
   "metadata": {},
   "source": [
    "### 7. **Proyectos Abiertos y Ciencia Reproducible**\n"
   ]
  },
  {
   "cell_type": "markdown",
   "id": "f03f7b20",
   "metadata": {},
   "source": [
    "   - **GitHub y Open Science**: La utilización de **GitHub** para almacenar los proyectos y materiales de enseñanza en repositorios públicos permite que otros investigadores y educadores internacionales puedan revisar y replicar tu trabajo. Esto contribuye a la creación de una red de colaboración científica abierta.\n"
   ]
  },
  {
   "cell_type": "markdown",
   "id": "8b1ca5f5",
   "metadata": {},
   "source": [
    "   - **Transparencia y Reproducibilidad**: La ciencia de datos y machine learning están profundamente ligados a la reproducibilidad. Asegura que tus estudiantes desarrollen prácticas de transparencia y documentación en la investigación, que son pilares en la comunidad científica global.\n"
   ]
  },
  {
   "cell_type": "markdown",
   "id": "215cb551",
   "metadata": {},
   "source": [
    "\n",
    "### 8. **Participación en Redes y Conferencias Internacionales**\n",
    "   - **Presentación en Conferencias Internacionales**: Destaca cómo tu participación en conferencias internacionales (como la **ASCOLFA** o eventos sobre educación en matemáticas) contribuye al prestigio de la universidad y permite que tus prácticas sean evaluadas y reconocidas a nivel global.\n"
   ]
  },
  {
   "cell_type": "markdown",
   "id": "cdf46e29",
   "metadata": {},
   "source": [
    "   - **Promoción de Estudiantes en Eventos Internacionales**: Impulsa la participación de tus estudiantes en competiciones internacionales de programación o hackathons, como los organizados por **Google**, **ACM** o **Kaggle**. Esto no solo desarrolla sus habilidades, sino que también visibiliza el talento de la Universidad de Antioquia a nivel global.\n",
    "\n",
    "---"
   ]
  },
  {
   "cell_type": "markdown",
   "id": "233294a4-1983-4641-a7ad-866825e02315",
   "metadata": {},
   "source": [
    "Con esta estrategia, presento mis acciones docentes en términos de competencias internacionales, innovación pedagógica, tecnología, investigación y participación en redes globales, asegurando que mi práctica esté alineada con los estándares internacionales y que tus estudiantes estén preparados para competir en contextos internacionales."
   ]
  },
  {
   "cell_type": "markdown",
   "id": "77da458b",
   "metadata": {},
   "source": [
    "### **Metodología de Enseñanza: Aprendizaje Basado en Problemas y Proyectos (ABPP)**\n"
   ]
  },
  {
   "cell_type": "markdown",
   "id": "c943d273",
   "metadata": {},
   "source": [
    "\n",
    "El **Aprendizaje Basado en Problemas y Proyectos (ABPP)** es una metodología educativa que integra los enfoques del **Aprendizaje Basado en Problemas (ABP)** y el **Aprendizaje Basado en Proyectos (PBL, por sus siglas en inglés)**. "
   ]
  },
  {
   "cell_type": "markdown",
   "id": "503fd306",
   "metadata": {},
   "source": [
    "Es especialmente útil para la formación de futuros docentes, ingenieros y administradores, ya que combina el desarrollo de habilidades prácticas con el pensamiento crítico y reflexivo. "
   ]
  },
  {
   "cell_type": "markdown",
   "id": "d1273852",
   "metadata": {},
   "source": [
    "A continuación, se presenta una descripción adaptada a la enseñanza de las matemáticas en educación infantil, Licenciatura en Matemáticas, Ingeniería Agropecuaria y Administración de Empresas:\n",
    "\n",
    "---\n"
   ]
  },
  {
   "cell_type": "markdown",
   "id": "0eeba3f5",
   "metadata": {},
   "source": [
    "\n",
    "### **1. Fundamentos del ABPP**\n",
    "El ABPP se basa en:\n",
    "- **Resolución de Problemas Reales:** Los estudiantes analizan y resuelven problemas auténticos relacionados con su área de formación, fomentando la aplicación práctica del conocimiento.\n",
    "- **Proyectos como Herramientas Integradoras:** Los proyectos permiten desarrollar habilidades interdisciplinarias y ofrecer soluciones concretas a los problemas planteados.\n",
    "- **Aprendizaje Activo:** Los estudiantes son responsables de su aprendizaje y participan activamente en el proceso de investigación, diseño y solución.\n",
    "\n",
    "---\n"
   ]
  },
  {
   "cell_type": "markdown",
   "id": "3728d010",
   "metadata": {},
   "source": [
    "\n",
    "### **2. Aplicación del ABPP en Áreas Específicas**\n",
    "\n",
    "#### **Educación Infantil (Licenciatura en Educación Infantil)**\n",
    "- **Enfoque:** Desarrollo del pensamiento matemático en la infancia desde contextos lúdicos, familiares y culturales.\n",
    "- **Problemas típicos:** \n",
    "  - ¿Cómo enseñar los números naturales mediante actividades prácticas y juegos?\n",
    "  - ¿Qué estrategias pueden emplearse para abordar el concepto de cantidad en edades tempranas?\n",
    "- **Proyectos:** Diseño de secuencias didácticas que usen Python, Jupyter Notebooks y materiales manipulativos para enseñar matemáticas de forma interactiva.\n",
    "- **Competencias desarrolladas:** \n",
    "  - Uso de herramientas tecnológicas para diseñar actividades educativas.\n",
    "  - Comprensión del desarrollo cognitivo infantil y su relación con las matemáticas.\n"
   ]
  },
  {
   "cell_type": "markdown",
   "id": "481f614a",
   "metadata": {},
   "source": [
    "\n",
    "#### **Licenciatura en Matemáticas**\n",
    "- **Enfoque:** Resolución de problemas matemáticos aplicados y profundización teórica en áreas como análisis matemático y modelado.\n",
    "- **Problemas típicos:**\n",
    "  - ¿Cómo se pueden resolver ecuaciones diferenciales aplicadas a modelos físicos o económicos?\n",
    "  - ¿Cómo modelar fenómenos naturales mediante funciones matemáticas?\n",
    "- **Proyectos:** \n",
    "  - Desarrollo de software educativo para explorar conceptos matemáticos.\n",
    "  - Aplicación de modelado matemático para resolver problemas reales en otras disciplinas.\n",
    "- **Competencias desarrolladas:**\n",
    "  - Dominio de la matemática teórica y aplicada.\n",
    "  - Uso de tecnología para la enseñanza y la investigación.\n"
   ]
  },
  {
   "cell_type": "markdown",
   "id": "83ab236f",
   "metadata": {},
   "source": [
    "\n",
    "#### **Ingeniería Agropecuaria**\n",
    "- **Enfoque:** Modelado matemático y análisis de datos para mejorar la producción agrícola y la gestión de recursos.\n",
    "- **Problemas típicos:**\n",
    "  - ¿Cómo modelar el crecimiento de cultivos considerando variables climáticas?\n",
    "  - ¿Cómo optimizar el uso del agua en sistemas de riego mediante análisis matemático?\n",
    "- **Proyectos:** \n",
    "  - Desarrollo de modelos predictivos con Python y bibliotecas de aprendizaje automático.\n",
    "  - Implementación de proyectos que combinen matemáticas y ciencias de datos para resolver problemas agrícolas.\n",
    "- **Competencias desarrolladas:**\n",
    "  - Integración de matemáticas con tecnologías avanzadas.\n",
    "  - Resolución de problemas agropecuarios mediante análisis y modelado.\n"
   ]
  },
  {
   "cell_type": "markdown",
   "id": "c4519bb3",
   "metadata": {},
   "source": [
    "\n",
    "#### **Administración de Empresas**\n"
   ]
  },
  {
   "cell_type": "markdown",
   "id": "7cb5fc0c",
   "metadata": {},
   "source": [
    "- **Enfoque:** Uso de las matemáticas y la ciencia de datos para la toma de decisiones estratégicas.\n",
    "- **Problemas típicos:**\n",
    "  - ¿Cómo identificar patrones de comportamiento del consumidor usando series de tiempo?\n",
    "  - ¿Qué estrategias matemáticas pueden optimizar la asignación de recursos en una empresa?\n"
   ]
  },
  {
   "cell_type": "markdown",
   "id": "6fefee7d",
   "metadata": {},
   "source": [
    "- **Proyectos:** \n"
   ]
  },
  {
   "cell_type": "markdown",
   "id": "f2afac4a",
   "metadata": {},
   "source": [
    "  - Implementación de modelos de análisis financiero y simulaciones.\n",
    "  - Desarrollo de dashboards interactivos para la gestión de datos empresariales.\n",
    "- **Competencias desarrolladas:**\n",
    "  - Habilidad para interpretar datos matemáticos en contextos de negocio.\n",
    "  - Capacidad para diseñar soluciones basadas en datos.\n",
    "\n",
    "---\n"
   ]
  },
  {
   "cell_type": "markdown",
   "id": "19be58d4",
   "metadata": {},
   "source": [
    "\n",
    "### **3. Beneficios del ABPP**\n",
    "- **Desarrollo de competencias clave:**\n",
    "  - Pensamiento crítico y creativo.\n",
    "  - Trabajo colaborativo.\n",
    "  - Comunicación efectiva.\n",
    "  - Uso de herramientas tecnológicas avanzadas.\n",
    "- **Adaptación al contexto laboral:** Los estudiantes aprenden a enfrentar desafíos del mundo real y a diseñar soluciones prácticas y aplicables.\n",
    "- **Flexibilidad e interdisciplinariedad:** La metodología se adapta a diversas áreas, fomentando el aprendizaje integrado.\n",
    "\n",
    "---\n"
   ]
  },
  {
   "cell_type": "markdown",
   "id": "e36034c3",
   "metadata": {},
   "source": [
    "\n",
    "### **4. Ejemplo General de Implementación**\n",
    "1. **Identificación del problema:** Se plantea un desafío concreto, como modelar el crecimiento poblacional de una comunidad rural (Ingeniería Agropecuaria) o diseñar una estrategia para enseñar fracciones a niños de 8 años (Educación Infantil).\n",
    "2. **Formación de equipos:** Los estudiantes trabajan en grupos, distribuyendo roles y tareas.\n",
    "3. **Investigación y diseño:** Los estudiantes investigan el problema, proponen soluciones y diseñan un proyecto.\n",
    "4. **Implementación:** Se desarrolla el proyecto, como una herramienta tecnológica o una propuesta pedagógica.\n",
    "5. **Evaluación:** Los estudiantes presentan sus resultados en un informe o una exposición, recibiendo retroalimentación de sus compañeros y docentes.\n",
    "\n",
    "---\n",
    "\n",
    "El ABPP es una metodología versátil que conecta el conocimiento teórico con la práctica, preparando a los estudiantes para los retos de sus profesiones en la enseñanza de la matemática, la ingeniería y la administración."
   ]
  },
  {
   "cell_type": "markdown",
   "id": "8d97dc80",
   "metadata": {
    "slideshow": {
     "slide_type": "slide"
    }
   },
   "source": [
    "## Fomento de la lectura literaria asociada a Ingeniería agropecuaria y licenciatura en Matemáticas\n",
    "\n",
    "[Aprender a obtener el sí sin ceder]()"
   ]
  },
  {
   "cell_type": "markdown",
   "id": "96775931",
   "metadata": {
    "slideshow": {
     "slide_type": "slide"
    }
   },
   "source": [
    "## Título de la clase: Introducción a la teoría de conjuntos   \n",
    "\n",
    "[]()"
   ]
  },
  {
   "cell_type": "markdown",
   "id": "8853d874",
   "metadata": {},
   "source": [
    "## El componente histórico y epistemológico  \n",
    "\n",
    "Aquí tienes los componentes históricos y epistemológicos para la clase:  \n"
   ]
  },
  {
   "cell_type": "markdown",
   "id": "57bbda16",
   "metadata": {},
   "source": [
    "\n",
    "**Componentes históricos:**  \n",
    "1. **Orígenes filosóficos de la teoría de conjuntos:** Desde la antigüedad, filósofos como Aristóteles establecieron nociones sobre la clasificación de objetos y la pertenencia a categorías, conceptos fundamentales para la teoría de conjuntos."
   ]
  },
  {
   "cell_type": "markdown",
   "id": "de45e7aa",
   "metadata": {},
   "source": [
    "  \n",
    "2. **Georg Cantor y la formalización moderna:** A finales del siglo XIX, Cantor desarrolló la teoría de conjuntos como una rama de la matemática formal, introduciendo conceptos como cardinalidad e infinitos numerables y no numerables. "
   ]
  },
  {
   "cell_type": "markdown",
   "id": "3f824eba",
   "metadata": {},
   "source": [
    " \n",
    "3. **La crisis de los conjuntos y la paradoja de Russell:** En el siglo XX, Bertrand Russell identificó contradicciones en la teoría ingenua de conjuntos, lo que llevó al desarrollo de la teoría axiomática, con enfoques como Zermelo-Fraenkel (ZF) y ZFC (con axioma de elección). "
   ]
  },
  {
   "cell_type": "markdown",
   "id": "a7c00678",
   "metadata": {},
   "source": [
    " \n",
    "4. **Aplicaciones contemporáneas:** Hoy en día, la teoría de conjuntos es la base de la lógica matemática y la teoría de modelos, con aplicaciones en inteligencia artificial, bases de datos y estructuras computacionales.  \n"
   ]
  },
  {
   "cell_type": "markdown",
   "id": "181e4a60",
   "metadata": {},
   "source": [
    "\n",
    "**Componentes epistemológicos:**  \n",
    "1. **Concepto primitivo de conjunto:** La noción de conjunto es considerada una idea intuitiva no definida formalmente, sobre la cual se construye la matemática moderna.  \n"
   ]
  },
  {
   "cell_type": "markdown",
   "id": "9252c011",
   "metadata": {},
   "source": [
    "2. **Construcción del conocimiento matemático:** La teoría de conjuntos proporciona un lenguaje formal para definir estructuras matemáticas, sirviendo de base para disciplinas como el álgebra y el análisis.  \n"
   ]
  },
  {
   "cell_type": "markdown",
   "id": "501deab6",
   "metadata": {},
   "source": [
    "3. **Papel en la computación y la inteligencia artificial:** Los conjuntos se utilizan para representar datos, definir relaciones entre objetos y modelar problemas computacionales.  \n"
   ]
  },
  {
   "cell_type": "markdown",
   "id": "14464a7d",
   "metadata": {},
   "source": [
    "4. **Enseñanza y aprendizaje:** La teoría de conjuntos es una introducción fundamental a la lógica y al pensamiento abstracto, clave en la educación matemática y en la transición hacia la formalización matemática avanzada.  \n"
   ]
  },
  {
   "cell_type": "markdown",
   "id": "d6e81fde",
   "metadata": {},
   "source": [
    "\n",
    "Si quieres que profundice en algún aspecto o lo relacione con el uso de Python en la clase, dime y ajustamos el contenido."
   ]
  },
  {
   "cell_type": "code",
   "execution_count": null,
   "id": "7ec7a6d8",
   "metadata": {},
   "outputs": [],
   "source": [
    "from graphviz import Digraph\n",
    "\n",
    "# Crear un nuevo grafo dirigido\n",
    "dot = Digraph()\n",
    "\n",
    "# Establecer el título del mapa conceptual\n",
    "main_concept = \"Teoría de Conjuntos\"\n",
    "dot.node('A', main_concept, shape='box', style='filled', fillcolor='lightblue')\n",
    "\n",
    "# Nodos principales\n",
    "dot.node('B', 'Definición de Conjunto', shape='ellipse', style='filled', fillcolor='lightyellow')\n",
    "dot.node('C', 'Pertenencia de Elementos', shape='ellipse', style='filled', fillcolor='lightyellow')\n",
    "dot.node('D', 'Representación en Python', shape='ellipse', style='filled', fillcolor='lightyellow')\n",
    "dot.node('E', 'Operaciones con Conjuntos', shape='ellipse', style='filled', fillcolor='lightyellow')\n",
    "\n",
    "# Conectar los nodos principales al tema central\n",
    "dot.edges([('A', 'B'), ('A', 'C'), ('A', 'D'), ('A', 'E')])\n",
    "\n",
    "# Subnodos de \"Definición de Conjunto\"\n",
    "dot.node('B1', 'Ejemplos de Conjuntos', shape='box', style='filled', fillcolor='lightgray')\n",
    "dot.node('B2', r'Notación ($\\\\in$ y $\\\\notin$)', shape='box', style='filled', fillcolor='lightgray')\n",
    "dot.edges([('B', 'B1'), ('B', 'B2')])\n",
    "\n",
    "# Subnodos de \"Pertenencia de Elementos\"\n",
    "dot.node('C1', 'Uso de Listas y Sets en Python', shape='box', style='filled', fillcolor='lightgray')\n",
    "dot.edges([('C', 'C1')])\n",
    "\n",
    "# Subnodos de \"Representación en Python\"\n",
    "dot.node('D1', 'Visualización con Matplotlib y Plotly', shape='box', style='filled', fillcolor='lightgray')\n",
    "dot.node('D2', 'Diagramas de Venn', shape='box', style='filled', fillcolor='lightgray')\n",
    "dot.edges([('D', 'D1'), ('D', 'D2')])\n",
    "\n",
    "# Subnodos de \"Operaciones con Conjuntos\"\n",
    "dot.node('E1', 'Unión, Intersección, Diferencia', shape='box', style='filled', fillcolor='lightgray')\n",
    "dot.node('E2', 'Manipulación de Conjuntos con Python', shape='box', style='filled', fillcolor='lightgray')\n",
    "dot.edges([('E', 'E1'), ('E', 'E2')])\n",
    "\n",
    "# Guardar el grafo como un archivo de imagen\n",
    "dot.render(filename=\"Teoria_Conjuntos\", format='png', cleanup=True,\n",
    "           directory=r\"C:/Users/marco/Documentos/docencia/fundamentos_logica/referentes/1_grajales_lina/3_conjuntos/3_1_introduccion/images\")\n",
    "\n",
    "dot.view()\n"
   ]
  },
  {
   "cell_type": "markdown",
   "id": "10e55ccf",
   "metadata": {},
   "source": [
    "# Estructura general para todas las clases\n",
    "\n",
    "Dame, por favor, un diseño de clase, con el enfoque: de aprendizaje basado en problemas y proyectos(ABPP) sobre: \"Introducción a la Teoría de conjuntos\", siguiendo la estructura:   \n",
    "\n",
    "1. Título de la clase \n",
    "2. Objetivo de aprendizaje\n",
    "3. Contenido de la clase\n",
    "4. Actividades de aprendizaje\n",
    "5. Tarea o actividades de ejercitación y fijación\n",
    "6. Diseño de actividad de retroalimentación.   \n",
    "\n",
    "Pero  que este diseño sea para que el estudiante pueda aprender experimentando en cuadernos Jupyter con funciones de usuario y animaciones y visualizaciones en python (NumPy, Matplotlib, Plotly, ipywidgets, graphviz). \n",
    "\n",
    "El contenido para esta clase, debe tener en cuenta el siguiente Texto: \"3. Teoría de conjuntos\n",
    "3.1 Introducción\n",
    "La palabra “conjunto” será uno de los términos básicos no definidos. En lo que sigue se tratará de\n",
    "aclarar y precisar la idea intuitiva de conjunto de objetos por medio de ejemplos y nociones\n",
    "relacionadas.\n",
    "Los objetos que integran un conjunto se llaman “elementos” de ese conjunto. Para indicar que un\n",
    "objeto 𝑎𝑎𝑎𝑎 es elemento de un conjunto 𝐴𝐴𝐴𝐴 se escribe 𝑎𝑎𝑎𝑎 ∈ 𝐴𝐴𝐴𝐴 que se lee “𝑎𝑎𝑎𝑎 pertenece a 𝐴𝐴𝐴𝐴” o “𝑎𝑎𝑎𝑎 es\n",
    "elemento de 𝐴𝐴𝐴𝐴”. Si por el contrario, el objeto 𝑎𝑎𝑎𝑎 no es elemento del conjunto 𝐴𝐴𝐴𝐴 se escribe 𝑎𝑎𝑎𝑎 ∉ 𝐴𝐴𝐴𝐴,\n",
    "que se lee “𝑎𝑎𝑎𝑎 no pertenece a 𝑎𝑎𝑎𝑎” o “𝑎𝑎𝑎𝑎 no es elemento de 𝐴𝐴𝐴𝐴”.\n",
    "Como se ha visto en el ejemplo anterior, las letras mayúsculas se utilizan para representar\n",
    "conjuntos, mientras que las minúsculas para representar elementos.\n",
    "Ejemplo 3.1\n",
    "El conjunto 𝐴𝐴𝐴𝐴 de todos los habitantes de Medellín (cuyos elementos son todos los habitantes de\n",
    "Medellín y solo ellos).\n",
    "El conjunto ℕ de todos los números naturales.\n",
    "El conjunto 𝐶𝐶𝐶𝐶 cuyos elementos son 10, 12, y 45.\n",
    "El conjunto 𝑆𝑆𝑆𝑆 de todos los números naturales mayores que 54 y menores que 10000.\""
   ]
  },
  {
   "cell_type": "markdown",
   "id": "57d808b4",
   "metadata": {},
   "source": [
    "**1. Título de la clase**\n"
   ]
  },
  {
   "cell_type": "markdown",
   "id": "38679143",
   "metadata": {},
   "source": [
    "\n",
    "**Introducción a la Teoría de Conjuntos mediante Experimentación en Python**\n"
   ]
  },
  {
   "cell_type": "markdown",
   "id": "f96769bc",
   "metadata": {},
   "source": [
    "\n",
    "**2. Objetivo de aprendizaje**\n"
   ]
  },
  {
   "cell_type": "markdown",
   "id": "97152988",
   "metadata": {},
   "source": [
    "\n",
    "El estudiante comprenderá los conceptos básicos de la teoría de conjuntos, incluyendo la definición de conjunto y la pertenencia de elementos, mediante la experimentación en cuadernos Jupyter con funciones de usuario, animaciones y visualizaciones interactivas en Python.\n"
   ]
  },
  {
   "cell_type": "markdown",
   "id": "106e91eb",
   "metadata": {},
   "source": [
    "\n",
    "**3. Contenido de la clase**\n"
   ]
  },
  {
   "cell_type": "markdown",
   "id": "ae9a19f1",
   "metadata": {},
   "source": [
    "\n",
    "- Concepto intuitivo de conjunto y ejemplos\n",
    "- Elementos de un conjunto y notación ($a \\in A$, $a \\notin A$)\n",
    "- Representación de conjuntos en Python con listas y conjuntos\n",
    "- Visualización de conjuntos mediante diagramas de Venn\n",
    "- Generación de conjuntos numéricos con reglas\n",
    "- Introducción a operaciones básicas con conjuntos en Python\n"
   ]
  },
  {
   "cell_type": "markdown",
   "id": "ecdff110",
   "metadata": {},
   "source": [
    "\n",
    "**4. Actividades de aprendizaje**\n"
   ]
  },
  {
   "cell_type": "markdown",
   "id": "a728c64c",
   "metadata": {},
   "source": [
    "\n",
    "1. **Exploración con Python**: El estudiante ejecutará código en Jupyter para definir conjuntos usando estructuras de datos de Python como listas y conjuntos (“set”).\n",
    "   \n"
   ]
  },
  {
   "cell_type": "markdown",
   "id": "59c4c7c0",
   "metadata": {},
   "source": [
    "2. **Funciones de Usuario para Conjuntos**: Se les proporcionará funciones en Python para verificar si un elemento pertenece a un conjunto, permitiendo a los estudiantes modificar y experimentar con ellas.\n",
    "   \n"
   ]
  },
  {
   "cell_type": "markdown",
   "id": "356e16a4",
   "metadata": {},
   "source": [
    "3. **Visualización Interactiva**: Se utilizará `Matplotlib` y `Plotly` para generar diagramas de Venn y visualizar la relación entre conjuntos y sus elementos.\n",
    "  "
   ]
  },
  {
   "cell_type": "markdown",
   "id": "1e5aee7a",
   "metadata": {},
   "source": [
    " \n",
    "4. **Interactividad con `ipywidgets`**: Se implementarán widgets interactivos para que los estudiantes puedan ingresar conjuntos y visualizar sus operaciones básicas (unión, intersección, diferencia).\n"
   ]
  },
  {
   "cell_type": "markdown",
   "id": "5b92f2c5",
   "metadata": {},
   "source": [
    "\n",
    "**5. Tarea o actividades de ejercitación y fijación**\n",
    "\n",
    "1. Implementar una función en Python que determine si un número pertenece a un conjunto dado por una regla (por ejemplo, los números naturales mayores que 54 y menores que 10000).\n",
    "2. Crear una visualización interactiva de un conjunto de tres elementos con `Graphviz`.\n",
    "3. Modificar una función dada para permitir la entrada de conjuntos arbitrarios y verificar la pertenencia de diferentes elementos.\n"
   ]
  },
  {
   "cell_type": "markdown",
   "id": "b2e8b162",
   "metadata": {},
   "source": [
    "\n",
    "**6. Diseño de actividad de retroalimentación**\n",
    "\n",
    "- **Discusión en clase**: Los estudiantes compartirán sus implementaciones y reflexionarán sobre las diferencias en sus enfoques.\n",
    "- **Correcciones guiadas**: Se analizarán ejemplos incorrectos y se discutirá cómo corregirlos.\n",
    "- **Ejercicio de cierre**: Cada estudiante desarrollará un conjunto personalizado y lo representará gráficamente, explicando cómo su implementación en Python refleja los conceptos matemáticos aprendidos.\n",
    "\n"
   ]
  },
  {
   "cell_type": "markdown",
   "id": "58a35f5f",
   "metadata": {},
   "source": [
    "# Implementación de esta clase  \n",
    "\n",
    "**1. Título de la clase**\n",
    "\n",
    "**Introducción a la Teoría de Conjuntos mediante Experimentación en Python**\n",
    "\n",
    "**2. Objetivo de aprendizaje**\n",
    "\n",
    "El estudiante comprenderá los conceptos básicos de la teoría de conjuntos, incluyendo la definición de conjunto y la pertenencia de elementos, mediante la experimentación en cuadernos Jupyter con funciones de usuario, animaciones y visualizaciones interactivas en Python.\n",
    "\n",
    "**3. Contenido de la clase**\n"
   ]
  },
  {
   "cell_type": "markdown",
   "id": "6eea9aed",
   "metadata": {},
   "source": [
    "\n",
    "- Concepto intuitivo de conjunto y ejemplos\n",
    "- Elementos de un conjunto y notación ($a \\in A$, $a \\notin A$)\n",
    "- Representación de conjuntos en Python con listas y conjuntos\n",
    "- Visualización de conjuntos mediante diagramas de Venn\n",
    "- Generación de conjuntos numéricos con reglas\n",
    "- Introducción a operaciones básicas con conjuntos en Python\n"
   ]
  },
  {
   "cell_type": "markdown",
   "id": "a3018c35",
   "metadata": {},
   "source": [
    "Aquí tienes el desarrollo del contenido de la clase:  \n",
    "\n",
    "---\n"
   ]
  },
  {
   "cell_type": "markdown",
   "id": "b3823767",
   "metadata": {},
   "source": [
    "\n",
    "## **1. Concepto intuitivo de conjunto y ejemplos**  \n",
    "Un **conjunto** es una colección bien definida de objetos, llamados **elementos**, que comparten una propiedad común. Se denotan con letras mayúsculas: $ A, B, C, \\ldots $, y sus elementos con letras minúsculas: $ a, b, c, \\ldots $.  \n"
   ]
  },
  {
   "cell_type": "markdown",
   "id": "33cbeabf",
   "metadata": {},
   "source": [
    "\n",
    "Ejemplos:  \n",
    "- $A =  \\{ \\text{todos los habitantes de Medellín} \\}$ \n",
    "- $ B = $ $\\{ vocales del alfabeto español \\}$ $ = \\{a, e, i, o, u\\} $  \n",
    "- $ C =  \\{ \\text{números pares menores que 10} \\}  = \\{2, 4, 6, 8\\} $  \n",
    "- $ D =  \\{\\text{planetas del sistema solar}\\}$  \n",
    "\n",
    "---\n"
   ]
  },
  {
   "cell_type": "markdown",
   "id": "217dbc27",
   "metadata": {},
   "source": [
    "\n",
    "## **2. Elementos de un conjunto y notación**  \n",
    "Si un elemento $a$ pertenece a un conjunto $A$, se escribe:  \n",
    "$$\n",
    "a \\in A\n",
    "$$  \n",
    "Si no pertenece, se escribe:  \n",
    "$$\n",
    "a \\notin A\n",
    "$$  \n"
   ]
  },
  {
   "cell_type": "markdown",
   "id": "0703fa18",
   "metadata": {},
   "source": [
    "\n",
    "Ejemplo:  \n",
    "- Si $ A = \\{1, 2, 3, 4\\}$, entonces $2 \\in A$ y $5 \\notin A$.  \n",
    "- Si $B = \\{\\text{\"rojo\"}, \\text{\"azul\"}, \\text{\"verde\"}\\}$, entonces \"amarillo\" $\\notin B$.  \n",
    "\n",
    "---\n"
   ]
  },
  {
   "cell_type": "markdown",
   "id": "6de17179",
   "metadata": {},
   "source": [
    "\n",
    "## **3. Representación de conjuntos en Python con listas y conjuntos**  \n"
   ]
  },
  {
   "cell_type": "markdown",
   "id": "79929ad6",
   "metadata": {},
   "source": [
    "En Python, los conjuntos pueden representarse con listas (`list`) o con estructuras de conjunto (`set`).  \n",
    "\n",
    "Ejemplo con listas:  \n"
   ]
  },
  {
   "cell_type": "code",
   "execution_count": null,
   "id": "377a57c4",
   "metadata": {},
   "outputs": [],
   "source": [
    "A = [1, 2, 3, 4]  # Lista con elementos del conjunto\n",
    "print(2 in A)  # True, porque 2 está en A\n",
    "print(5 in A)  # False, porque 5 no está en A\n",
    "\n"
   ]
  },
  {
   "cell_type": "markdown",
   "id": "14f64d5e",
   "metadata": {},
   "source": [
    "Ejemplo con `set`:  \n"
   ]
  },
  {
   "cell_type": "code",
   "execution_count": null,
   "id": "1d2c4833",
   "metadata": {},
   "outputs": [],
   "source": [
    "B = {\"rojo\", \"azul\", \"verde\"}\n",
    "print(\"amarillo\" in B)  # False\n",
    "print(\"rojo\" in B)      # True\n",
    "\n"
   ]
  },
  {
   "cell_type": "markdown",
   "id": "a85baab8",
   "metadata": {},
   "source": [
    "Los `set` en Python no permiten elementos duplicados, lo que los hace ideales para representar conjuntos matemáticos.  \n",
    "\n",
    "---\n",
    "\n",
    "## **4. Visualización de conjuntos mediante diagramas de Venn**  \n",
    "Los diagramas de Venn representan gráficamente la relación entre conjuntos. Podemos usar `matplotlib_venn` para generar visualizaciones en Python.  \n",
    "\n",
    "Ejemplo: "
   ]
  },
  {
   "cell_type": "code",
   "execution_count": 1,
   "id": "8f699c2d",
   "metadata": {},
   "outputs": [
    {
     "ename": "ModuleNotFoundError",
     "evalue": "No module named 'matplotlib_venn'",
     "output_type": "error",
     "traceback": [
      "\u001b[1;31m---------------------------------------------------------------------------\u001b[0m",
      "\u001b[1;31mModuleNotFoundError\u001b[0m                       Traceback (most recent call last)",
      "Cell \u001b[1;32mIn[1], line 1\u001b[0m\n\u001b[1;32m----> 1\u001b[0m \u001b[38;5;28;01mfrom\u001b[39;00m \u001b[38;5;21;01mmatplotlib_venn\u001b[39;00m \u001b[38;5;28;01mimport\u001b[39;00m venn2\n\u001b[0;32m      2\u001b[0m \u001b[38;5;28;01mimport\u001b[39;00m \u001b[38;5;21;01mmatplotlib\u001b[39;00m\u001b[38;5;21;01m.\u001b[39;00m\u001b[38;5;21;01mpyplot\u001b[39;00m \u001b[38;5;28;01mas\u001b[39;00m \u001b[38;5;21;01mplt\u001b[39;00m\n\u001b[0;32m      4\u001b[0m \u001b[38;5;66;03m# Definir dos conjuntos\u001b[39;00m\n",
      "\u001b[1;31mModuleNotFoundError\u001b[0m: No module named 'matplotlib_venn'"
     ]
    }
   ],
   "source": [
    "from matplotlib_venn import venn2\n",
    "import matplotlib.pyplot as plt\n",
    "\n",
    "# Definir dos conjuntos\n",
    "A = {1, 2, 3, 4}\n",
    "B = {3, 4, 5, 6}\n",
    "\n",
    "# Crear el diagrama de Venn\n",
    "venn2([A, B], set_labels=(\"A\", \"B\"))\n",
    "plt.title(\"Diagrama de Venn de A y B\")\n",
    "plt.show()\n",
    "\n"
   ]
  },
  {
   "cell_type": "markdown",
   "id": "138ed52c",
   "metadata": {},
   "source": [
    "Esto generará un diagrama donde la intersección de $A$ y $B$ muestra los elementos en común.  \n",
    "\n",
    "---\n"
   ]
  },
  {
   "cell_type": "markdown",
   "id": "7e38b12c",
   "metadata": {},
   "source": [
    "\n",
    "## **5. Generación de conjuntos numéricos con reglas**  \n",
    "Podemos definir conjuntos numéricos mediante reglas en Python con `range` y `set comprehensions`.  \n",
    "\n",
    "Ejemplo:  \n",
    "```python\n",
    "# Conjunto de los números pares entre 10 y 30\n",
    "pares = {x for x in range(10, 31) if x % 2 == 0}\n",
    "print(pares)  # {10, 12, 14, ..., 30}\n",
    "\n",
    "# Conjunto de los cuadrados perfectos menores que 50\n",
    "cuadrados = {x**2 for x in range(1, 8)}\n",
    "print(cuadrados)  # {1, 4, 9, 16, 25, 36, 49}\n",
    "```\n",
    "\n",
    "---\n",
    "\n",
    "## **6. Introducción a operaciones básicas con conjuntos en Python**  \n",
    "Python permite realizar operaciones como unión, intersección y diferencia con `set`.  \n",
    "\n",
    "Ejemplo:  \n",
    "```python\n",
    "A = {1, 2, 3, 4}\n",
    "B = {3, 4, 5, 6}\n",
    "\n",
    "# Unión (elementos en A o B)\n",
    "print(A | B)  # {1, 2, 3, 4, 5, 6}\n",
    "\n",
    "# Intersección (elementos en A y B)\n",
    "print(A & B)  # {3, 4}\n",
    "\n",
    "# Diferencia (elementos en A pero no en B)\n",
    "print(A - B)  # {1, 2}\n",
    "\n",
    "# Diferencia simétrica (elementos en A o B, pero no en ambos)\n",
    "print(A ^ B)  # {1, 2, 5, 6}\n",
    "```\n",
    "\n",
    "---\n",
    "\n",
    "Este contenido proporciona una base sólida para explorar la teoría de conjuntos en Python con visualizaciones y experimentación en Jupyter Notebook. ¿Te gustaría que agregara más ejemplos o actividades interactivas?"
   ]
  },
  {
   "cell_type": "markdown",
   "id": "bf42eab5",
   "metadata": {},
   "source": [
    "\n",
    "**4. Actividades de aprendizaje**\n",
    "\n",
    "1. **Exploración con Python**: El estudiante ejecutará código en Jupyter para definir conjuntos usando estructuras de datos de Python como listas y conjuntos (“set”).\n",
    "   \n",
    "2. **Funciones de Usuario para Conjuntos**: Se les proporcionará funciones en Python para verificar si un elemento pertenece a un conjunto, permitiendo a los estudiantes modificar y experimentar con ellas.\n",
    "   \n",
    "3. **Visualización Interactiva**: Se utilizará `Matplotlib` y `Plotly` para generar diagramas de Venn y visualizar la relación entre conjuntos y sus elementos.\n",
    "   \n",
    "4. **Interactividad con `ipywidgets`**: Se implementarán widgets interactivos para que los estudiantes puedan ingresar conjuntos y visualizar sus operaciones básicas (unión, intersección, diferencia).\n",
    "\n",
    "**5. Tarea o actividades de ejercitación y fijación**\n",
    "\n",
    "1. Implementar una función en Python que determine si un número pertenece a un conjunto dado por una regla (por ejemplo, los números naturales mayores que 54 y menores que 10000).\n",
    "2. Crear una visualización interactiva de un conjunto de tres elementos con `Graphviz`.\n",
    "3. Modificar una función dada para permitir la entrada de conjuntos arbitrarios y verificar la pertenencia de diferentes elementos.\n",
    "\n",
    "**6. Diseño de actividad de retroalimentación**\n",
    "\n",
    "- **Discusión en clase**: Los estudiantes compartirán sus implementaciones y reflexionarán sobre las diferencias en sus enfoques.\n",
    "- **Correcciones guiadas**: Se analizarán ejemplos incorrectos y se discutirá cómo corregirlos.\n",
    "- **Ejercicio de cierre**: Cada estudiante desarrollará un conjunto personalizado y lo representará gráficamente, explicando cómo su implementación en Python refleja los conceptos matemáticos aprendidos.\n",
    "\n"
   ]
  },
  {
   "cell_type": "code",
   "execution_count": null,
   "id": "f641c964",
   "metadata": {},
   "outputs": [],
   "source": []
  },
  {
   "cell_type": "markdown",
   "id": "239427f7",
   "metadata": {},
   "source": [
    "# ARTÍCULO 1. Definir el calendario académico para los diferentes programas de pregrado de los campus\n",
    "regionalizados, correspondiente al primer periodo académico del año 2025, así:\n",
    "* Oferta 28 de enero de 2025\n",
    "* Matrícula 30 de enero de 2025\n",
    "* Ajustes 03 al 10 de febrero de 2025\n",
    "* Inicio de clases 10 de febrero de 2025\n",
    "* Límite evaluación del 40% 06 de abril de 2025\n",
    "* Terminación de clases 08 de junio de 2025\n",
    "* Exámenes finales 09 al 15 de junio de 2025\n",
    "* Habilitación y validación 16 al 22 de junio de 2025\n",
    "* Terminación oficial 23 de junio de 2025"
   ]
  },
  {
   "cell_type": "code",
   "execution_count": null,
   "id": "ec048afb",
   "metadata": {},
   "outputs": [],
   "source": []
  },
  {
   "cell_type": "code",
   "execution_count": null,
   "id": "c804f8d3",
   "metadata": {},
   "outputs": [],
   "source": []
  },
  {
   "cell_type": "code",
   "execution_count": null,
   "id": "cc539357",
   "metadata": {},
   "outputs": [],
   "source": []
  },
  {
   "cell_type": "markdown",
   "id": "740f3401",
   "metadata": {
    "slideshow": {
     "slide_type": "slide"
    }
   },
   "source": [
    "# Componente de manejo de calculadora Casio asociado al objetivo de aprendizaje de esta clase  \n",
    "\n",
    "## Pasos para lograr el objetivo de aprendizaje con la experimentación en la calculadora Casio 991LA cw  "
   ]
  },
  {
   "cell_type": "markdown",
   "id": "8ba64aed",
   "metadata": {},
   "source": [
    "# Cursos que orienta el profesor Marco Julio Cañas Campillo en 2025  \n",
    "\n",
    "1. Práctica Pedagógica V para Licenciatura en Educación Infantil\n",
    "2. Fundamentos de Lógica para Licenciatura en Matemáticas \n",
    "3. Análisis Numérico para Licenciatura en Matemáticas. \n",
    "4. Cálculo Vectorial para Ingeniería Agropecuaria"
   ]
  },
  {
   "cell_type": "markdown",
   "id": "8d41fe58",
   "metadata": {
    "slideshow": {
     "slide_type": "slide"
    }
   },
   "source": [
    "# Horario de clases del profesor Marco\n",
    "\n",
    "* Lunes 8-12: Cálculo Vectorial\n",
    "* Martes 8-12 M: Fundamentos de Aritmética. \n",
    "* Miércoles 8 a 12 M: Fundamentos de la Lógica\n",
    "* Jueves 2 a 6 PM: Desarrollo del pensamiento matemático en la infancia. \n",
    "* Viernes 8 - 12 M: Desarrollo del pensamiento matemático en la infancia. \n",
    "* Sábados 8-12 Asesorías y espacio para retroalimentación y apoyo al trabajo independiente. "
   ]
  },
  {
   "cell_type": "markdown",
   "id": "ae114e14",
   "metadata": {
    "slideshow": {
     "slide_type": "slide"
    }
   },
   "source": [
    "# Horarios de monitoría y asesoría  \n",
    "\n",
    "Coordinador de los cursos de la Facultad de Educación para regiones:    \n",
    "\n",
    "Andrés Vélez: regioneducacion.fedu@udea.edu.co  \n",
    "Coordinador Regiones  \n",
    "Facultad de Educación  \n",
    "Universidad de Antioquia  "
   ]
  },
  {
   "cell_type": "markdown",
   "id": "b1db4b6c",
   "metadata": {
    "slideshow": {
     "slide_type": "slide"
    }
   },
   "source": [
    "## Monitor Manuel San Juan Serrano\n",
    "\n",
    "Contactar escribiendo al correo: manuel.serrano1@udea.edu.co"
   ]
  },
  {
   "cell_type": "markdown",
   "id": "39559692",
   "metadata": {
    "slideshow": {
     "slide_type": "slide"
    }
   },
   "source": [
    "Martes y jueves de 8 - 12  \n",
    "Miércoles 10 - 12 y de 2 a 4 PM  \n",
    "Sábado: 8 - 12"
   ]
  },
  {
   "cell_type": "markdown",
   "id": "10bce0d0",
   "metadata": {
    "slideshow": {
     "slide_type": "slide"
    }
   },
   "source": [
    "## Referentes "
   ]
  },
  {
   "cell_type": "markdown",
   "id": "1db3c468",
   "metadata": {
    "slideshow": {
     "slide_type": "slide"
    }
   },
   "source": [
    "* [Grajales Vanegas, L. M., Restrepo Estrada, C. E., Restrepo Ochoa, S. I., & Ruíz De Villalba, F. (2015). Matemáticas I para las ciencias económicas.](https://bibliotecadigital.udea.edu.co/handle/10495/3010)\n",
    "  \n",
    "* R. Duval y Semiosis y pensamiento humano, 2.ª ed. Cali, Colombia: Programa Editorial Universidad del Valle, 2017. [En línea]. Disponible en: https://programaeditorial.univalle.edu.co/gpd-semiosis-y-pensamiento-humano-9789587655278-63324cdb0f6b3.html\n",
    "\n",
    "* [Aylwin, C. U. (2011). Lógica, conjuntos y números. Universidad de los Andes, Consejo de Publicaciones, Colección: Ciencias Básicas, Serie: Matemáticas.](https://github.com/marco-canas/fundamentos_logica/blob/main/referentes/2_uzcategui/uscategui.pdf)\n",
    "  \n",
    "* [Chollet, F. (2021). Deep learning with Python. Simon and Schuster.](chrome-extension://efaidnbmnnnibpcajpcglclefindmkaj/https://tanthiamhuat.wordpress.com/wp-content/uploads/2018/03/deeplearningwithpython.pdf)  \n",
    "  \n",
    "* [Watson, S., Stewart, J., & Redlin, L. (2009). Precálculo. Matemáticas para el cálculo.](https://github.com/marco-canas/calculo/blob/main/referents/1_precalculo_stewart/stewart_precalculo.pdf)  \n",
    "\n",
    "* [Purcell, E. J., Varberg, D., & Rigdon, S. E. (2007). Cálculo diferencial e integral. Pearson Educación.](https://github.com/marco-canas/calculo/blob/main/referents/purcell/purcell_calculo.pdf)\n",
    "\n",
    "  \n",
    "\n",
    "* [stewart cálculo](https://udeaeduco-my.sharepoint.com/:b:/g/personal/marco_canas_udea_edu_co/EZgXZjAp8QxPqOAim2hs6LcBNPLGjSHf-xwYnUVYkwa04w?e=RZdTCy)  \n",
    "\n",
    "* [larson](https://udeaeduco-my.sharepoint.com/:b:/g/personal/marco_canas_udea_edu_co/ES71ChFeO9ZDhW3TwC5Ijk8BjxUK3Pdqz_fjHxTTFAfIAg?e=VDEjfu)\n",
    "\n",
    "\n",
    "\n",
    "* [Recomendación de la UNESCO sobre ciencia abierta](https://unesdoc.unesco.org/ark:/48223/pf0000379949_spa)\n",
    "\n",
    "* [chatGPT](https://openai.com/blog/chatgpt)  \n",
    "\n",
    "* [Géron, A. (2017). Hands-on machine learning with scikit-learn and tensorflow: Concepts. Tools, and Techniques to build intelligent systems.](chrome-extension://efaidnbmnnnibpcajpcglclefindmkaj/http://14.139.161.31/OddSem-0822-1122/Hands-On_Machine_Learning_with_Scikit-Learn-Keras-and-TensorFlow-2nd-Edition-Aurelien-Geron.pdf)   \n"
   ]
  },
  {
   "cell_type": "markdown",
   "id": "df925560",
   "metadata": {},
   "source": [
    "\n",
    "* [McKinney, W. (2012). Python for data analysis: Data wrangling with Pandas, NumPy, and IPython. \" O'Reilly Media, Inc.\".](https://wesmckinney.com/book/) "
   ]
  },
  {
   "cell_type": "markdown",
   "id": "8e65d6f9",
   "metadata": {},
   "source": [
    "# Como estudiante, encuentro que...   \n",
    "\n",
    "F: Mis Fortalezas son:     \n",
    "O: Mis Oportunidades son:    \n",
    "D: Mis Debilidades son:    \n",
    "A: Lo que Amenazas mi aprendizaje es:  "
   ]
  },
  {
   "cell_type": "markdown",
   "id": "6b9e56a8",
   "metadata": {
    "slideshow": {
     "slide_type": "slide"
    }
   },
   "source": [
    "### [Evaluamos al profesor Marco Cañas Aquí](https://forms.office.com/Pages/ResponsePage.aspx?id=IefhmYRxjkmK_7KtTlPBwkanXIs1i1FEujpsZgO6dXpUREJPV1kxUk1JV1ozTFJIQVNIQjY5WEY3US4u)"
   ]
  },
  {
   "cell_type": "markdown",
   "id": "10f43536",
   "metadata": {
    "slideshow": {
     "slide_type": "slide"
    }
   },
   "source": [
    "### Continue su aprendizaje en la siguiente clase a través del siguiente [vínculo]()"
   ]
  },
  {
   "cell_type": "markdown",
   "id": "53cc9115",
   "metadata": {
    "slideshow": {
     "slide_type": "slide"
    }
   },
   "source": [
    "## Agradecimientos  \n",
    "\n",
    "Doy gracias a Dios por la vida de mi Hijo Joseph Cañas Osorio y la madurez que ha alcanzado. Este hijo me enorgullece y me hace falta abrazarlo cada día. \n",
    "\n",
    "Y a mi esposa Yasmira Emperatriz Barboza Mogollón por su apoyo, orientación y acompañamiento. "
   ]
  },
  {
   "cell_type": "markdown",
   "id": "b6ba1c23",
   "metadata": {},
   "source": [
    "# Apéndice sobre calendarios y coordinaciones \n",
    "\n",
    "A continuación le envío el horario de la asignatura Cálculo Vectorial  \n",
    "\n",
    "Días:  \n",
    "Lunes - Hora: 7:00 a 12:00M  \n",
    "Fechas:  \n",
    "Febrero: 10-17-24                                          \n",
    " Marzo: 3-10-17-31                                                  \n",
    "Abril:7-21-28                                                   \n",
    "Mayo:5-12-19  \n",
    "\n",
    "Agradezco su apoyo, y si presenta alguna dificultad puede contactarme.  \n",
    "\n",
    "Cordialmente,  \n",
    "Juan Felipe Rivera Hernández  \n",
    "Contacto: 3106314300  "
   ]
  },
  {
   "cell_type": "markdown",
   "id": "0e66cd7c",
   "metadata": {},
   "source": []
  }
 ],
 "metadata": {
  "celltoolbar": "Slideshow",
  "kernelspec": {
   "display_name": "base",
   "language": "python",
   "name": "python3"
  },
  "language_info": {
   "codemirror_mode": {
    "name": "ipython",
    "version": 3
   },
   "file_extension": ".py",
   "mimetype": "text/x-python",
   "name": "python",
   "nbconvert_exporter": "python",
   "pygments_lexer": "ipython3",
   "version": "3.12.4"
  },
  "rise": {
   "enable_chalkboard": true,
   "theme": "sky",
   "transition": "zoom"
  }
 },
 "nbformat": 4,
 "nbformat_minor": 5
}
