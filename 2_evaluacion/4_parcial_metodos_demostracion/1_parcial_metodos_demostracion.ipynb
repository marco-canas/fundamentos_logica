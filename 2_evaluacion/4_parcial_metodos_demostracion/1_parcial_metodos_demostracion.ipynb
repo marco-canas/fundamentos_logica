{
 "cells": [
  {
   "cell_type": "markdown",
   "id": "dc06dec7",
   "metadata": {
    "slideshow": {
     "slide_type": "slide"
    }
   },
   "source": [
    "<table align=\"left\">\n",
    "  <td>\n",
    "    <a href=\"https://colab.research.google.com/github/marco-canas/fundamentos_logica/blob/main/2_evaluacion/4_parcial_metodos_demostracion/1_parcial_metodos_demostracion.ipynb\" target=\"_parent\"><img src=\"https://colab.research.google.com/assets/colab-badge.svg\" alt=\"Open In Colab\"/></a>\n",
    "  </td>\n",
    "  <td>\n",
    "    <a target=\"_blank\" href=\"https://kaggle.com/kernels/welcome?src=https://github.com/marco-canas/fundamentos_logica/blob/main/2_evaluacion/4_parcial_metodos_demostracion/1_parcial_metodos_demostracion.ipynb\"><img src=\"https://kaggle.com/static/images/open-in-kaggle.svg\" /></a>\n",
    "  </td>\n",
    "</table>"
   ]
  },
  {
   "cell_type": "markdown",
   "id": "e0c5b198",
   "metadata": {
    "slideshow": {
     "slide_type": "slide"
    }
   },
   "source": [
    "### [Video de apoyo a la lectura interactiva y experimental de este cuaderno]()"
   ]
  },
  {
   "cell_type": "markdown",
   "id": "41e82203",
   "metadata": {
    "slideshow": {
     "slide_type": "slide"
    }
   },
   "source": [
    "### [Vínculo al programa del curso:  ]()\n",
    "\n"
   ]
  },
  {
   "cell_type": "markdown",
   "id": "d11ab06d",
   "metadata": {
    "slideshow": {
     "slide_type": "slide"
    }
   },
   "source": [
    "Un reconocimiento a mis estudiantes que han construido conmigo este saber pedagógico:\n",
    "\n",
    "<img src = ''> \n",
    "\n"
   ]
  },
  {
   "cell_type": "markdown",
   "id": "d7598d0a-d9b7-4ae0-b029-a0ed6ed1130b",
   "metadata": {},
   "source": [
    "\n",
    "# Principios de mi labor docente"
   ]
  },
  {
   "cell_type": "markdown",
   "id": "4f9d8cf9",
   "metadata": {
    "slideshow": {
     "slide_type": "slide"
    }
   },
   "source": [
    "## Modelo general de clase: [aula invertida](https://www3.gobiernodecanarias.org/medusa/ecoescuela/pedagotic/aprendizaje-invertido-flipped-classroom/)"
   ]
  },
  {
   "cell_type": "markdown",
   "id": "eb6ed03a",
   "metadata": {},
   "source": [
    "<img src = 'https://resources.maneuveringthemiddle.com/wp-content/uploads/2020/07/04212706/1-5.png' width = 400>  \n",
    "\n"
   ]
  },
  {
   "cell_type": "markdown",
   "id": "34319cce-a71b-4f64-aab8-b53e521efa40",
   "metadata": {},
   "source": [
    "# Metodología de enseñanza basada en problemas (ABP)\n"
   ]
  },
  {
   "cell_type": "markdown",
   "id": "c4f73d81",
   "metadata": {},
   "source": [
    "\n",
    "<img src = 'https://www.unir.net/wp-content/uploads/2020/07/aprendizaje-problemas2-1-1-1-1.jpeg' width = 300>"
   ]
  },
  {
   "cell_type": "markdown",
   "id": "841a985c-bd9b-4dd3-8e4c-893983980af2",
   "metadata": {},
   "source": [
    "# Desarrollo del pensamiento computacional con python y cuadernos Jupyter  orientado a la formación en ciencia de datos \n",
    "\n"
   ]
  },
  {
   "cell_type": "markdown",
   "id": "3d0eba94",
   "metadata": {},
   "source": [
    "\n",
    "<img src = 'https://i.ytimg.com/vi/mcG_wcR4e6M/maxresdefault.jpg' width = 400>"
   ]
  },
  {
   "cell_type": "markdown",
   "id": "65aa0404-f7ae-495e-864c-1aec01b4255e",
   "metadata": {},
   "source": [
    "# Principio de fomento a la ciencia abierta, enseñar en el acceso a los datos públicos y el uso de software de código abierto  \n"
   ]
  },
  {
   "cell_type": "markdown",
   "id": "18ae9b87",
   "metadata": {},
   "source": [
    "\n",
    "<img src = 'https://unesdoc.unesco.org/in/rest/Thumb/image?id=p%3A%3Ausmarcdef_0000379949_spa&author=UNESCO&title=Recomendaci%C3%B3n+de+la+UNESCO+sobre+la+Ciencia+Abierta&year=2021&publisher=UNESCO&TypeOfDocument=UnescoPhysicalDocument&mat=PGD&ct=true&size=512&isPhysical=1' width = 200>"
   ]
  },
  {
   "cell_type": "markdown",
   "id": "d9559f85",
   "metadata": {},
   "source": [
    "El enfoque STEAMS en educación preescolar, primaria y secundaria es una extensión del enfoque STEM (Ciencia, Tecnología, Ingeniería y Matemáticas) y su variante STEAM, que incorpora el Arte. "
   ]
  },
  {
   "cell_type": "markdown",
   "id": "72e1cfd2",
   "metadata": {},
   "source": [
    "El acrónimo STEAMS incluye:\n"
   ]
  },
  {
   "cell_type": "markdown",
   "id": "03182fd1",
   "metadata": {},
   "source": [
    "\n",
    "1. **Science (Ciencia):** Fomenta la curiosidad por el mundo natural y el desarrollo de habilidades científicas, como la observación, experimentación y análisis.\n"
   ]
  },
  {
   "cell_type": "markdown",
   "id": "1306d0fa",
   "metadata": {},
   "source": [
    "\n",
    "2. **Technology (Tecnología):** Integra herramientas tecnológicas para potenciar el aprendizaje y la resolución de problemas, promoviendo la alfabetización digital desde edades tempranas.\n"
   ]
  },
  {
   "cell_type": "markdown",
   "id": "3b1a53e8",
   "metadata": {},
   "source": [
    "\n",
    "3. **Engineering (Ingeniería):** Introduce el pensamiento lógico y la resolución de problemas estructurados, fomentando habilidades como el diseño y la construcción de soluciones.\n"
   ]
  },
  {
   "cell_type": "markdown",
   "id": "0196de87",
   "metadata": {},
   "source": [
    "\n",
    "4. **Arts (Arte):** Añade creatividad y pensamiento crítico, permitiendo a los estudiantes expresarse y explorar el aprendizaje a través de formas artísticas (plásticas, música, teatro).\n"
   ]
  },
  {
   "cell_type": "markdown",
   "id": "8bcc485a",
   "metadata": {},
   "source": [
    "\n",
    "5. **Mathematics (Matemáticas):** Refuerza las habilidades numéricas y el razonamiento lógico, fundamentales en la resolución de problemas y comprensión de conceptos abstractos.\n"
   ]
  },
  {
   "cell_type": "markdown",
   "id": "907935f4",
   "metadata": {},
   "source": [
    "\n",
    "6. **Social Sciences (Ciencias Sociales):** Incorpora la comprensión del entorno social, político, cultural y económico, promoviendo el desarrollo de la conciencia crítica sobre el mundo y su historia, además de habilidades de empatía y ciudadanía.\n"
   ]
  },
  {
   "cell_type": "markdown",
   "id": "39967d63",
   "metadata": {},
   "source": [
    "\n",
    "El enfoque STEAMS pretende desarrollar un aprendizaje **interdisciplinario** que integre estas áreas para fomentar un pensamiento más holístico y práctico. "
   ]
  },
  {
   "cell_type": "markdown",
   "id": "5145f077",
   "metadata": {},
   "source": [
    "Se busca que los estudiantes no solo aprendan conocimientos técnicos, sino también cómo aplicarlos creativa y críticamente en situaciones reales, promoviendo habilidades como el trabajo en equipo, la comunicación y la innovación. "
   ]
  },
  {
   "cell_type": "markdown",
   "id": "9d556584",
   "metadata": {},
   "source": [
    "En educación preescolar, primaria, secundaria y superior, se adapta a las diferentes etapas de desarrollo cognitivo y emocional de los estudiantes, promoviendo el aprendizaje activo y contextualizado.  \n"
   ]
  },
  {
   "cell_type": "markdown",
   "id": "0130ec1b",
   "metadata": {},
   "source": [
    "\n",
    "<img src = 'https://www.campuseducacion.com/blog/wp-content/uploads/2023/03/foto01-1.jpg' width = 400>"
   ]
  },
  {
   "cell_type": "markdown",
   "id": "9d15c10d-2c02-4158-9419-b1ed79b4c1ee",
   "metadata": {},
   "source": [
    "# Qué estamos haciendo por la internalización en esta clase y este curso  \n"
   ]
  },
  {
   "cell_type": "markdown",
   "id": "6e4feef2",
   "metadata": {},
   "source": [
    "Estas son mis acciones como docente de matemáticas en la Universidad de Antioquia con miras a la **internacionalización** de mi práctica docente y el desarrollo de competencias internacionales para mis estudiantes, ls cuales he estructurado con el siguiente enfoque:\n"
   ]
  },
  {
   "cell_type": "markdown",
   "id": "964d9de7-53ee-4255-9bcd-d8e6454f2993",
   "metadata": {},
   "source": [
    "### 1. **Visión Global en la Formación Académica**\n"
   ]
  },
  {
   "cell_type": "markdown",
   "id": "d9bdd3e2",
   "metadata": {},
   "source": [
    "   - **Competencias Internacionales**: Asegúrate de que el contenido de tus cursos fomente habilidades que sean reconocidas globalmente. Al educar a los estudiantes en **Python, LaTeX, Markdown y Jupyter Notebooks** y en la **introducción a la ciencia de datos y técnicas de Machine Learning**, estás proporcionando competencias altamente demandadas en los sectores tecnológicos y académicos a nivel internacional.\n"
   ]
  },
  {
   "cell_type": "markdown",
   "id": "39b55206",
   "metadata": {},
   "source": [
    "   - **Relevancia de los Contenidos**: Destaca cómo los temas que enseñas, como el **desarrollo del pensamiento computacional** y la **ciencia de datos**, están alineados con las necesidades globales actuales en diversas industrias, desde la tecnología hasta las ciencias naturales y sociales.\n"
   ]
  },
  {
   "cell_type": "markdown",
   "id": "a054599e",
   "metadata": {},
   "source": [
    "   - **Referencias a Estándares Internacionales**: Puedes vincular tu enseñanza a estándares internacionales de competencias en programación y ciencia de datos (por ejemplo, frameworks del **IEEE, ACM**, y estándares de la **data science** o la **computación en la nube**)."
   ]
  },
  {
   "cell_type": "markdown",
   "id": "0f1d110c-3142-48fe-9e7d-5fbd9e8bb931",
   "metadata": {},
   "source": [
    "### 2. **Innovación Pedagógica con Enfoque Internacional**\n"
   ]
  },
  {
   "cell_type": "markdown",
   "id": "fae6ae34",
   "metadata": {},
   "source": [
    "   - **Aula Invertida y ABP**: Presenta cómo tu enfoque de **aula invertida** y **aprendizaje basado en problemas (ABP)** permite a los estudiantes trabajar de manera autónoma y colaborativa, lo que los prepara para escenarios laborales internacionales que requieren autoaprendizaje y habilidades de resolución de problemas en equipo.\n"
   ]
  },
  {
   "cell_type": "markdown",
   "id": "c83062d9",
   "metadata": {},
   "source": [
    "   - **Uso de Jupyter Notebooks**: El uso de **Jupyter Notebooks** en tus clases no solo facilita la **integración de código, matemáticas y texto**, sino que también es una plataforma utilizada globalmente en ambientes académicos y profesionales, lo que hace a tus estudiantes más competitivos internacionalmente."
   ]
  },
  {
   "cell_type": "markdown",
   "id": "960d52b7-03cd-4eb3-965e-5cdfeb7d9f8e",
   "metadata": {},
   "source": [
    "### 3. **Tecnología y Herramientas de Uso Global**\n"
   ]
  },
  {
   "cell_type": "markdown",
   "id": "4be7269f",
   "metadata": {},
   "source": [
    "   - **Lenguaje Python**: Python es uno de los lenguajes de programación más usados a nivel mundial, tanto en la academia como en la industria. Al formar a tus estudiantes en Python para ciencia de datos y machine learning, los preparas para operar en entornos tecnológicos globales.\n"
   ]
  },
  {
   "cell_type": "markdown",
   "id": "102655af",
   "metadata": {},
   "source": [
    "   - **Herramientas de Ciencia Abierta**: Resalta cómo herramientas como **GitHub**, **Google Colab** y otras plataformas de código abierto están alineadas con el movimiento de **ciencia abierta**, el cual es internacionalmente reconocido y permite que los estudiantes colaboren y compartan proyectos a nivel global."
   ]
  },
  {
   "cell_type": "markdown",
   "id": "3b2ffa32-7a6f-4545-ba7b-c6a69f51109f",
   "metadata": {},
   "source": [
    "### 4. **Investigación y Publicaciones Internacionales**\n"
   ]
  },
  {
   "cell_type": "markdown",
   "id": "bdbf52a5",
   "metadata": {},
   "source": [
    "   - **Promoción de la Investigación**: Detalla cómo promueves que tus estudiantes participen en proyectos de **investigación aplicada**, con posibilidad de publicación en revistas internacionales. Esto contribuye a la reputación internacional de la Universidad de Antioquia.\n"
   ]
  },
  {
   "cell_type": "markdown",
   "id": "ea01fcbc",
   "metadata": {},
   "source": [
    "   - **Colaboraciones Internacionales**: Si has colaborado con investigadores de otras instituciones o universidades en el extranjero, menciona estos proyectos y cómo han enriquecido tu enseñanza y proporcionado a los estudiantes una visión más globalizada."
   ]
  },
  {
   "cell_type": "markdown",
   "id": "5d1e396e-aece-4bf7-9421-32fa7809eaf4",
   "metadata": {},
   "source": [
    "### 5. **Uso del Inglés para la Internacionalización**\n",
    "   - **Comunicación Científica en Inglés**: Fomentar el aprendizaje del inglés como lengua científica es clave para que tus estudiantes puedan acceder a publicaciones internacionales, conferencias, y material académico que no está disponible en español. Esto es esencial para que adquieran competencias que les permitan desempeñarse en cualquier contexto internacional.\n",
    "   - **Material Bilingüe**: Al generar material educativo en Python, LaTeX y Markdown, considera ofrecer algunos de estos recursos en inglés, para que los estudiantes se familiaricen con el vocabulario técnico y científico internacional."
   ]
  },
  {
   "cell_type": "markdown",
   "id": "c6a8c3b0-426a-4692-a384-3065aea81c9a",
   "metadata": {},
   "source": [
    "### 6. **Certificaciones y Estándares Internacionales**\n"
   ]
  },
  {
   "cell_type": "markdown",
   "id": "b1f41da5",
   "metadata": {},
   "source": [
    "   - **Participación en Certificaciones Internacionales**: Impulsa que los estudiantes busquen certificaciones internacionales en Python o ciencia de datos (como las ofrecidas por **Coursera, edX,** o **Google**). Estas certificaciones no solo validan sus competencias, sino que también incrementan el reconocimiento de la Universidad de Antioquia en el contexto internacional.\n"
   ]
  },
  {
   "cell_type": "markdown",
   "id": "7cc66317",
   "metadata": {},
   "source": [
    "   - **Alineación con Acreditaciones Internacionales**: Vincula tu trabajo docente con los estándares de acreditación y certificación que garantizan que la universidad siga siendo reconocida internacionalmente. Puedes vincularte con organizaciones internacionales que promuevan la excelencia en la educación y tecnología, como **ABET** para la acreditación en ingeniería y ciencias computacionales."
   ]
  },
  {
   "cell_type": "markdown",
   "id": "65d3d9e1-ea84-43e0-8197-a2a9c9e21594",
   "metadata": {},
   "source": [
    "### 7. **Proyectos Abiertos y Ciencia Reproducible**\n"
   ]
  },
  {
   "cell_type": "markdown",
   "id": "7ddfbaac",
   "metadata": {},
   "source": [
    "   - **GitHub y Open Science**: La utilización de **GitHub** para almacenar los proyectos y materiales de enseñanza en repositorios públicos permite que otros investigadores y educadores internacionales puedan revisar y replicar tu trabajo. Esto contribuye a la creación de una red de colaboración científica abierta.\n"
   ]
  },
  {
   "cell_type": "markdown",
   "id": "f41fbe28",
   "metadata": {},
   "source": [
    "   - **Transparencia y Reproducibilidad**: La ciencia de datos y machine learning están profundamente ligados a la reproducibilidad. Asegura que tus estudiantes desarrollen prácticas de transparencia y documentación en la investigación, que son pilares en la comunidad científica global.\n"
   ]
  },
  {
   "cell_type": "markdown",
   "id": "215cb551",
   "metadata": {},
   "source": [
    "\n",
    "### 8. **Participación en Redes y Conferencias Internacionales**\n",
    "   - **Presentación en Conferencias Internacionales**: Destaca cómo tu participación en conferencias internacionales (como la **ASCOLFA** o eventos sobre educación en matemáticas) contribuye al prestigio de la universidad y permite que tus prácticas sean evaluadas y reconocidas a nivel global.\n"
   ]
  },
  {
   "cell_type": "markdown",
   "id": "cdf46e29",
   "metadata": {},
   "source": [
    "   - **Promoción de Estudiantes en Eventos Internacionales**: Impulsa la participación de tus estudiantes en competiciones internacionales de programación o hackathons, como los organizados por **Google**, **ACM** o **Kaggle**. Esto no solo desarrolla sus habilidades, sino que también visibiliza el talento de la Universidad de Antioquia a nivel global.\n",
    "\n",
    "---"
   ]
  },
  {
   "cell_type": "markdown",
   "id": "233294a4-1983-4641-a7ad-866825e02315",
   "metadata": {},
   "source": [
    "Con esta estrategia, presento mis acciones docentes en términos de competencias internacionales, innovación pedagógica, tecnología, investigación y participación en redes globales, asegurando que mi práctica esté alineada con los estándares internacionales y que mis estudiantes estén preparados para competir en contextos internacionales."
   ]
  },
  {
   "cell_type": "markdown",
   "id": "8d97dc80",
   "metadata": {
    "slideshow": {
     "slide_type": "slide"
    }
   },
   "source": [
    "## Fomento de la lectura literaria asociada a Ingeniería agropecuaria y licenciatura en Matemáticas\n",
    "\n",
    "[Aprender a obtener el sí sin ceder]()"
   ]
  },
  {
   "cell_type": "markdown",
   "id": "96775931",
   "metadata": {
    "slideshow": {
     "slide_type": "slide"
    }
   },
   "source": [
    "## Título de la clase: Parcial sobre métodos de demostración   \n",
    "  \n",
    "\n",
    "[]()"
   ]
  },
  {
   "cell_type": "markdown",
   "id": "8853d874",
   "metadata": {},
   "source": [
    "## El componente histórico y epistemológico"
   ]
  },
  {
   "cell_type": "code",
   "execution_count": 3,
   "id": "bc0addfe",
   "metadata": {},
   "outputs": [
    {
     "data": {
      "text/plain": [
       "'C:\\\\Users\\\\marco\\\\Documentos\\\\docencia\\\\fundamentos_logica\\\\clases\\\\mapa_conceptual_metodos.pdf'"
      ]
     },
     "execution_count": 3,
     "metadata": {},
     "output_type": "execute_result"
    }
   ],
   "source": [
    "from graphviz import Digraph\n",
    "\n",
    "# Crear un nuevo grafo dirigido\n",
    "dot = Digraph()\n",
    "\n",
    "# Nodo principal\n",
    "dot.node('A', 'Métodos de Demostración', shape='ellipse', style='filled', fillcolor='lightblue')\n",
    "\n",
    "# Clasificación principal\n",
    "dot.node('B', 'Deductivos', shape='box', style='filled', fillcolor='lightcoral')\n",
    "dot.node('C', 'Inductivos', shape='box', style='filled', fillcolor='lightgreen')\n",
    "\n",
    "# Subdivisión de métodos deductivos\n",
    "dot.node('D', 'Método Directo', shape='box', style='filled', fillcolor='lightyellow')\n",
    "dot.node('E', 'Métodos Indirectos', shape='box', style='filled', fillcolor='lightyellow')\n",
    "\n",
    "# Métodos indirectos\n",
    "dot.node('F', 'Contrarrecíproco', shape='diamond', style='filled', fillcolor='lightsalmon')\n",
    "dot.node('G', 'Reducción al Absurdo', shape='diamond', style='filled', fillcolor='lightsalmon')\n",
    "dot.node('H', 'Refutación por Contraejemplo', shape='diamond', style='filled', fillcolor='lightsalmon')\n",
    "\n",
    "# Método inductivo\n",
    "dot.node('I', 'Inducción Matemática', shape='parallelogram', style='filled', fillcolor='lightcyan')\n",
    "\n",
    "# Relaciones entre los nodos\n",
    "dot.edges(['AB', 'AC'])          # Relación principal\n",
    "dot.edges(['BD', 'BE'])          # Subdivisión de Deductivos\n",
    "dot.edges(['EF', 'EG', 'EH'])    # Métodos indirectos\n",
    "dot.edge('C', 'I')               # Método inductivo\n",
    "\n",
    "# Guardar el grafo como un archivo de imagen\n",
    "dot.render(filename='mapa_conceptual_metodos', format='png', cleanup=True,\n",
    "           directory='C:/Users/marco/Documentos/docencia/fundamentos_logica/clases')\n",
    "\n",
    "# Visualizar el grafo\n",
    "dot.view()\n",
    "\n"
   ]
  },
  {
   "cell_type": "markdown",
   "id": "10e55ccf",
   "metadata": {},
   "source": [
    "# Estructura general para todas las clases\n",
    "\n",
    "Dame, por favor, un diseño de clase sobre la estructura de datos llamada DataFrame de Pandas en python y su utilización en ciencia de datos con técnicas de machine learning siguiendo la siguiente estructura: \n",
    "1. Título de la clase \n",
    "2. Objetivo de aprendizaje\n",
    "3. Contenido de la clase\n",
    "4. Actividades de aprendizaje\n",
    "5. Tarea o actividades de ejercitación y fijación\n",
    "6. Diseño de actividad de retroalimentación. "
   ]
  },
  {
   "cell_type": "markdown",
   "id": "239427f7",
   "metadata": {},
   "source": [
    "# Parcial sobre métodos de demostración  \n"
   ]
  },
  {
   "cell_type": "markdown",
   "id": "bca6d044",
   "metadata": {},
   "source": [
    "\n",
    "\n",
    "### **Parcial 1**\n",
    "**Punto 1 (Teórico):**  \n",
    "Explique cómo estructurar simbólicamente los siguientes métodos de demostración:  \n",
    "a) Método directo.  \n",
    "b) Método de reducción al absurdo.  \n",
    "c) Método de inducción matemática.\n"
   ]
  },
  {
   "cell_type": "markdown",
   "id": "88b95885",
   "metadata": {},
   "source": [
    "## Punto 5  \n",
    "\n",
    "Sea $(a_{n})$ una progresión geométrica con razón $r$. Demuestre qie si $r = 1$, todos los términos son iguales. Use el método de reducción al absurdo. \n",
    "\n",
    "### Demostración. \n",
    "\n",
    "Supongamos que la negación de la implicación que queremos probar es verdadera. \n",
    "\n",
    "Es decir, suponemos que $r = 1$ y que no todos los términos son iguales.  \n",
    "\n",
    "Debe existir un índice $k \\in \\mathbb{Z}$ tal que $a_{k} \\neq a_{k+1}$.  Y por definición de progresión geométrica, $a_{k+1} = r a_{k}$. Y como $r = 1$, tenemos $a_{k+1} = a_{k}$. Lo que es contradictorio. Y como de algo cierto no se puede seguir algo falso, entonces nuestra suposición inicial debe ser falsa. Por lo tanto, si $r = 1$, entonces todos los términos de la progresión geométrica, deben ser necesariamente iguales.  QED.  \n",
    "\n"
   ]
  },
  {
   "cell_type": "markdown",
   "id": "cccab2a7",
   "metadata": {},
   "source": [
    "\n",
    "**Punto 2:**  \n",
    "* Interprete: \n",
    "* Describa la utilidad del resultado\n",
    "* Verifique y : \n",
    "* Demuestre que \n",
    "\n",
    "*si $a$, $b$, y $c$ son números enteros tales que $a$ divide a $b$ y $b$ divide a $c$, entonces $a$ divide a $c$. Utilice el método directo.*\n"
   ]
  },
  {
   "cell_type": "markdown",
   "id": "04d3a068",
   "metadata": {},
   "source": [
    "### Interpretación:\n",
    "\n",
    "El enunciado plantea una propiedad de la divisibilidad: Si $a$ divide a $b$, y $b$ divide a $c$, entonces necesariamente $a$ divide a $c$. Esto es un resultado básico en la teoría de números y se puede demostrar utilizando la definición formal de divisibilidad.\n"
   ]
  },
  {
   "cell_type": "markdown",
   "id": "5a5da429",
   "metadata": {},
   "source": [
    "\n",
    "**Definición de divisibilidad**: \n",
    "Un número entero $a$ divide a un número entero $b$ (denotado como $a \\mid b$) si existe un entero $k$ tal que $b = k \\cdot a$.\n",
    "\n",
    "---\n"
   ]
  },
  {
   "cell_type": "markdown",
   "id": "b8eebe87",
   "metadata": {},
   "source": [
    "\n",
    "### Descripción de la utilidad:\n",
    "\n",
    "Este resultado es útil porque:\n",
    "1. Permite simplificar problemas relacionados con múltiplos y divisores en matemáticas discretas y teoría de números.\n",
    "2. Es aplicable en criptografía, algoritmos de factorización, y diseño de sistemas numéricos.\n",
    "3. Apoya pruebas en matemáticas basadas en relaciones transitivas.\n",
    "\n",
    "---\n",
    "\n",
    "### Verificación con Python:\n",
    "\n",
    "#### Código:\n",
    "Utilizaremos funciones para implementar esta propiedad y verificarla en un caso específico.\n"
   ]
  },
  {
   "cell_type": "code",
   "execution_count": null,
   "id": "bc847c9b",
   "metadata": {},
   "outputs": [
    {
     "name": "stdout",
     "output_type": "stream",
     "text": [
      "3 divide a 9: True\n",
      "9 divide a 27: True\n",
      "3 divide a 27: True\n"
     ]
    }
   ],
   "source": [
    "\n",
    "def is_divisible(a, b):\n",
    "    \"\"\"\n",
    "    Verifica si 'a' divide a 'b'.\n",
    "    \"\"\"\n",
    "    return b % a == 0\n",
    "\n",
    "def divisibility_transitivity(a, b, c):\n",
    "    \"\"\"\n",
    "    Verifica si 'a' divide a 'c' cuando 'a' divide a 'b' y 'b' divide a 'c'.\n",
    "    \"\"\"\n",
    "    if is_divisible(a, b) and is_divisible(b, c):\n",
    "        return is_divisible(a, c)\n",
    "    return False\n"
   ]
  },
  {
   "cell_type": "code",
   "execution_count": null,
   "id": "b874efb8",
   "metadata": {},
   "outputs": [],
   "source": [
    "\n",
    "# Ejemplo de prueba\n",
    "a, b, c = 3, 9, 27\n",
    "\n",
    "print(f\"{a} divide a {b}: {is_divisible(a, b)}\")\n",
    "print(f\"{b} divide a {c}: {is_divisible(b, c)}\")\n",
    "print(f\"{a} divide a {c}: {divisibility_transitivity(a, b, c)}\")\n",
    "\n"
   ]
  },
  {
   "cell_type": "markdown",
   "id": "c68bd021",
   "metadata": {},
   "source": [
    "\n",
    "---\n",
    "\n",
    "### Demostración directa:\n",
    "\n",
    "#### Suposiciones:\n",
    "1. $a \\mid b$ implica que $b = k_1 \\cdot a$ para algún entero $k_1$.\n",
    "2. $b \\mid c$ implica que $c = k_2 \\cdot b$ para algún entero $k_2$.\n"
   ]
  },
  {
   "cell_type": "markdown",
   "id": "1a582be2",
   "metadata": {},
   "source": [
    "\n",
    "#### Demostración:\n",
    "Sustituyendo $b$ en $c = k_2 \\cdot b$:\n",
    "$$\n",
    "c = k_2 \\cdot (k_1 \\cdot a) = (k_1 \\cdot k_2) \\cdot a.\n",
    "$$\n",
    "\n",
    "Por lo tanto, existe un entero $k = k_1 \\cdot k_2$ tal que $c = k \\cdot a$, lo que demuestra que $a \\mid c$.\n",
    "\n",
    "---\n"
   ]
  },
  {
   "cell_type": "markdown",
   "id": "27c4ca04",
   "metadata": {},
   "source": [
    "\n",
    "### Verificación simbólica en Python:\n",
    "\n",
    "Usando `sympy` podemos realizar una verificación simbólica:\n"
   ]
  },
  {
   "cell_type": "code",
   "execution_count": 2,
   "id": "a6009ce7",
   "metadata": {},
   "outputs": [],
   "source": [
    "from sympy import symbols, Eq, simplify\n",
    "\n",
    "# Definimos los símbolos\n",
    "a, b, c, k1, k2 = symbols('a b c k1 k2', integer=True)\n"
   ]
  },
  {
   "cell_type": "code",
   "execution_count": 5,
   "id": "5f260a29",
   "metadata": {},
   "outputs": [
    {
     "data": {
      "text/latex": [
       "$\\displaystyle b = a k_{1}$"
      ],
      "text/plain": [
       "Eq(b, a*k1)"
      ]
     },
     "execution_count": 5,
     "metadata": {},
     "output_type": "execute_result"
    }
   ],
   "source": [
    "\n",
    "# Relaciones de divisibilidad\n",
    "b_eq = Eq(b, k1 * a)\n",
    "c_eq = Eq(c, k2 * b)\n",
    "\n",
    "b_eq \n",
    "\n"
   ]
  },
  {
   "cell_type": "code",
   "execution_count": 9,
   "id": "c848e836",
   "metadata": {},
   "outputs": [
    {
     "data": {
      "text/latex": [
       "$\\displaystyle c = b k_{2}$"
      ],
      "text/plain": [
       "Eq(c, b*k2)"
      ]
     },
     "execution_count": 9,
     "metadata": {},
     "output_type": "execute_result"
    }
   ],
   "source": [
    "c_eq"
   ]
  },
  {
   "cell_type": "code",
   "execution_count": 11,
   "id": "35f92466",
   "metadata": {},
   "outputs": [
    {
     "data": {
      "text/latex": [
       "$\\displaystyle a k_{1}$"
      ],
      "text/plain": [
       "a*k1"
      ]
     },
     "execution_count": 11,
     "metadata": {},
     "output_type": "execute_result"
    }
   ],
   "source": [
    "b_eq.rhs"
   ]
  },
  {
   "cell_type": "code",
   "execution_count": 13,
   "id": "ced6a22b",
   "metadata": {},
   "outputs": [
    {
     "data": {
      "text/latex": [
       "$\\displaystyle b k_{2}$"
      ],
      "text/plain": [
       "b*k2"
      ]
     },
     "execution_count": 13,
     "metadata": {},
     "output_type": "execute_result"
    }
   ],
   "source": [
    "\n",
    "# Sustituimos b en c\n",
    "\n",
    "c_sub = c_eq.subs({b: b_eq.rhs})\n",
    "simplified_c = simplify(c_sub.rhs)\n",
    "simplified_c "
   ]
  },
  {
   "cell_type": "code",
   "execution_count": 8,
   "id": "a2dd6f33",
   "metadata": {},
   "outputs": [
    {
     "name": "stdout",
     "output_type": "stream",
     "text": [
      "Expresión resultante: b*k2 (es múltiplo de a)\n"
     ]
    }
   ],
   "source": [
    "\n",
    "# Simplificamos para verificar que c es múltiplo de a\n",
    "result = simplify(c_sub.rhs)\n",
    "\n",
    "print(f\"Expresión resultante: {result} (es múltiplo de a)\")\n",
    "\n"
   ]
  },
  {
   "cell_type": "markdown",
   "id": "2cc69ad2",
   "metadata": {},
   "source": [
    "\n",
    "---\n",
    "\n",
    "### Resultados esperados:\n",
    "1. En el caso numérico con \\( a = 3 \\), \\( b = 9 \\), y \\( c = 27 \\), la salida será:\n",
    "   - \\( a \\) divide a \\( b \\): `True`\n",
    "   - \\( b \\) divide a \\( c \\): `True`\n",
    "   - $a$ divide a $c$: `True`\n",
    "2. La comprobación simbólica muestra que $c = k \\cdot a$, lo que confirma la propiedad."
   ]
  },
  {
   "cell_type": "markdown",
   "id": "c92a39ef",
   "metadata": {},
   "source": [
    "\n",
    "**Punto 3:**  \n",
    "Demuestre que la suma de los primeros $n$ términos de una progresión aritmética está dada por  \n",
    "$$\n",
    "S_n = \\frac{n}{2}(a_1 + a_n),\n",
    "$$  \n",
    "donde $a_1$ es el primer término y $a_n$ el último término. Utilice el método de inducción matemática.\n"
   ]
  },
  {
   "cell_type": "code",
   "execution_count": 3,
   "id": "001aa2ef",
   "metadata": {},
   "outputs": [
    {
     "data": {
      "text/plain": [
       "array([  20,   40,   60,   80,  100,  120,  140,  160,  180,  200,  220,\n",
       "        240,  260,  280,  300,  320,  340,  360,  380,  400,  420,  440,\n",
       "        460,  480,  500,  520,  540,  560,  580,  600,  620,  640,  660,\n",
       "        680,  700,  720,  740,  760,  780,  800,  820,  840,  860,  880,\n",
       "        900,  920,  940,  960,  980, 1000, 1020, 1040, 1060, 1080, 1100,\n",
       "       1120, 1140, 1160, 1180, 1200, 1220, 1240, 1260, 1280, 1300, 1320,\n",
       "       1340, 1360, 1380, 1400, 1420, 1440, 1460, 1480, 1500, 1520, 1540,\n",
       "       1560, 1580, 1600, 1620, 1640, 1660, 1680, 1700, 1720, 1740, 1760,\n",
       "       1780, 1800, 1820, 1840, 1860, 1880, 1900, 1920, 1940, 1960, 1980,\n",
       "       2000])"
      ]
     },
     "execution_count": 3,
     "metadata": {},
     "output_type": "execute_result"
    }
   ],
   "source": [
    "import numpy as np \n",
    "\n",
    "np.arange(start = 20, stop = 2000+20 , step = 20 )"
   ]
  },
  {
   "cell_type": "code",
   "execution_count": 1,
   "id": "79e632f6",
   "metadata": {},
   "outputs": [
    {
     "data": {
      "text/plain": [
       "18446744073709551616"
      ]
     },
     "execution_count": 1,
     "metadata": {},
     "output_type": "execute_result"
    }
   ],
   "source": [
    "2**64"
   ]
  },
  {
   "cell_type": "markdown",
   "id": "885bd5cd",
   "metadata": {},
   "source": [
    "\n",
    "**Punto 4:**  \n",
    "Determine si la afirmación \"Para cualquier entero $n > 1$, $n^2 - n + 41$ es primo\" es verdadera o falsa. Justifique usando el método de refutación por contraejemplo.\n"
   ]
  },
  {
   "cell_type": "markdown",
   "id": "866b44bc",
   "metadata": {},
   "source": [
    "Notemos que si $n = 41$, entonces\n",
    "\n",
    "$$ n^{2} - n + 41 = 41^{2} $$\n",
    "\n",
    "el cual es un número entero positivo cuyos divisores son $1, 41$ y $41^{2}$, así, la afirmación \"Para cualquier entero $n > 1$, $n^2 - n + 41$ es primo es una afirmación falsa"
   ]
  },
  {
   "cell_type": "markdown",
   "id": "ff2e43ec",
   "metadata": {},
   "source": [
    "\n",
    "**Punto 5:**  \n",
    "Sea $(a_{n})$ una progresión geométrica definida por $a_n = a_1 \\cdot r^{n-1}$, con $a_1 > 0$ y $r > 0$.  \n",
    "Demuestre que para todo $n$, se cumple que $a_n^2 = a_{n-1} \\cdot a_{n+1}$. Use el método directo.\n",
    "\n",
    "---\n"
   ]
  },
  {
   "cell_type": "markdown",
   "id": "bd99e7de",
   "metadata": {},
   "source": [
    "### Demostración del punto 5:  \n",
    "\n"
   ]
  },
  {
   "cell_type": "markdown",
   "id": "3334c64c",
   "metadata": {},
   "source": [
    "\n",
    "### **Parcial 2**\n",
    "**Punto 1 (Teórico):**  \n",
    "Describa el procedimiento simbólico para estructurar una demostración mediante:  \n",
    "a) Método del contrarrecíproco.  \n",
    "b) Método de refutación por contraejemplo.  \n",
    "c) Método de reducción al absurdo.\n"
   ]
  },
  {
   "cell_type": "markdown",
   "id": "cbbb4674",
   "metadata": {},
   "source": [
    "\n",
    "**Punto 2:**  \n",
    "Demuestre que la suma de dos números impares es un número par. Use el método de reducción al absurdo.\n"
   ]
  },
  {
   "cell_type": "markdown",
   "id": "935bea12",
   "metadata": {},
   "source": [
    "\n",
    "**Punto 3:**  \n",
    "Demuestre que la suma de los primeros $n$ términos de una progresión geométrica está dada por  \n",
    "$$\n",
    "S_n = a_1 \\frac{1-r^n}{1-r}, \\quad r \\neq 1.\n",
    "$$  \n",
    "Utilice el método de inducción matemática.\n"
   ]
  },
  {
   "cell_type": "markdown",
   "id": "d10ed276",
   "metadata": {},
   "source": [
    "\n",
    "**Punto 4:**  \n",
    "Determine si la afirmación \"Para todo número entero $n > 0$, $2^n - 1$ es divisible por 3\" es verdadera. Justifique usando el método que considere adecuado.\n"
   ]
  },
  {
   "cell_type": "markdown",
   "id": "a5251e3b",
   "metadata": {},
   "source": [
    "\n",
    "**Punto 5:**  \n",
    "Demuestre que para una progresión aritmética con diferencia $d$, el término general está dado por  \n",
    "$$\n",
    "a_n = a_1 + (n-1)d.\n",
    "$$  \n",
    "Utilice el método de contrarrecíproco.\n",
    "\n",
    "---\n"
   ]
  },
  {
   "cell_type": "markdown",
   "id": "b7f173ea",
   "metadata": {},
   "source": [
    "\n",
    "### **Parcial 3**\n",
    "**Punto 1 (Teórico):**  \n",
    "Explique cómo estructurar simbólicamente los métodos de:  \n",
    "a) Método directo.  \n",
    "b) Método de reducción al absurdo.  \n",
    "c) Método de inducción matemática.\n"
   ]
  },
  {
   "cell_type": "markdown",
   "id": "ef0a6cd9",
   "metadata": {},
   "source": [
    "\n",
    "**Punto 2:**  \n",
    "Demuestre que la diferencia entre dos cuadrados consecutivos es igual a la suma de los números involucrados. Es decir, demuestre que $n^2 - (n-1)^2 = n + (n-1)$. Use el método directo.\n",
    "\n",
    "**Punto 3:**  \n",
    "Demuestre que la suma de los primeros $n$ números naturales es igual a  \n",
    "$$\n",
    "S_n = \\frac{n(n+1)}{2}.\n",
    "$$  \n",
    "Utilice el método de inducción matemática.\n"
   ]
  },
  {
   "cell_type": "markdown",
   "id": "8132833d",
   "metadata": {},
   "source": [
    "\n",
    "**Punto 4:**  \n",
    "Determine si la afirmación \"En toda progresión geométrica donde la razón es $r = 2$, el quinto término es siempre igual a $2^4 \\cdot a_1$\" es verdadera o falsa. Justifique usando refutación por contraejemplo.\n"
   ]
  },
  {
   "cell_type": "markdown",
   "id": "561eb868",
   "metadata": {},
   "source": [
    "\n",
    "**Punto 5:**  \n",
    "Demuestre que si $a_n = a_1 + (n-1)d$ representa una progresión aritmética, entonces $a_k + a_{n-k+1} = a_1 + a_n$ para $k = 1, 2, \\ldots, n$. Utilice el método directo.\n",
    " \n"
   ]
  },
  {
   "cell_type": "code",
   "execution_count": null,
   "id": "ec048afb",
   "metadata": {},
   "outputs": [],
   "source": []
  },
  {
   "cell_type": "code",
   "execution_count": null,
   "id": "5880ca2e",
   "metadata": {},
   "outputs": [],
   "source": []
  },
  {
   "cell_type": "code",
   "execution_count": null,
   "id": "2413b4df",
   "metadata": {},
   "outputs": [],
   "source": []
  },
  {
   "cell_type": "markdown",
   "id": "10bce0d0",
   "metadata": {
    "slideshow": {
     "slide_type": "slide"
    }
   },
   "source": [
    "## Referentes "
   ]
  },
  {
   "cell_type": "markdown",
   "id": "1db3c468",
   "metadata": {
    "slideshow": {
     "slide_type": "slide"
    }
   },
   "source": [
    "* [Grajales Vanegas, L. M., Restrepo Estrada, C. E., Restrepo Ochoa, S. I., & Ruíz De Villalba, F. (2015). Matemáticas I para las ciencias económicas.](https://github.com/marco-canas/fundamentos_de_la_aritmetica/blob/main/referentes/2_grajales_logica/grajales_lina_matemticas.pdf)\n",
    "  \n",
    "* Duval, R. (2004). Semiosis y pensamiento humano: registros semióticos y aprendizajes intelectuales. Universidad del Valle.\n",
    "\n",
    "* [Aylwin, C. U. (2011). Lógica, conjuntos y números. Universidad de los Andes, Consejo de Publicaciones, Colección: Ciencias Básicas, Serie: Matemáticas.](https://github.com/marco-canas/fundamentos_logica/blob/main/referentes/2_uzcategui/uscategui.pdf)\n",
    "  \n",
    "* [Chollet, F. (2021). Deep learning with Python. Simon and Schuster.](https://github.com/marco-canas/didactica_ciencia_datos/blob/main/2_referentes/chollet/Fran%C3%A7ois%20Chollet%20-%20Deep%20Learning%20with%20Python-Manning%20(2018).pdf)  \n",
    "  \n",
    "* [Watson, S., Stewart, J., & Redlin, L. (2009). Precálculo. Matemáticas para el cálculo.](https://github.com/marco-canas/calculo/blob/main/referents/1_precalculo_stewart/stewart_precalculo.pdf)  \n",
    "\n",
    "* [Purcell, E. J., Varberg, D., & Rigdon, S. E. (2007). Cálculo diferencial e integral. Pearson Educación.](https://github.com/marco-canas/calculo/blob/main/referents/purcell/purcell_calculo.pdf)\n",
    "\n",
    "  \n",
    "\n",
    "* [stewart cálculo](https://udeaeduco-my.sharepoint.com/:b:/g/personal/marco_canas_udea_edu_co/EZgXZjAp8QxPqOAim2hs6LcBNPLGjSHf-xwYnUVYkwa04w?e=RZdTCy)  \n",
    "\n",
    "* [larson](https://udeaeduco-my.sharepoint.com/:b:/g/personal/marco_canas_udea_edu_co/ES71ChFeO9ZDhW3TwC5Ijk8BjxUK3Pdqz_fjHxTTFAfIAg?e=VDEjfu)\n",
    "\n",
    "\n",
    "\n",
    "* [Recomendación de la UNESCO sobre ciencia abierta](https://unesdoc.unesco.org/ark:/48223/pf0000379949_spa)\n",
    "\n",
    "* [chatGPT](https://openai.com/blog/chatgpt)  \n",
    "\n",
    "* [Géron, A. (2017). Hands-on machine learning with scikit-learn and tensorflow: Concepts. Tools, and Techniques to build intelligent systems.](https://github.com/marco-canas/didactica_ciencia_datos/blob/main/2_referentes/geron/Hands-On%20Machine%20Learning-3nd_Edition(2022).pdf)  \n",
    "\n",
    "* [McKinney, W. (2012). Python for data analysis: Data wrangling with Pandas, NumPy, and IPython. \" O'Reilly Media, Inc.\".](https://github.com/marco-canas/didactica_ciencia_datos/blob/main/2_referentes/mckinney/Wes_McKinney.pdf)  "
   ]
  },
  {
   "cell_type": "markdown",
   "id": "8e65d6f9",
   "metadata": {},
   "source": [
    "# Como estudiante, encuentro que...   \n",
    "\n",
    "F: Mis Fortalezas son:     \n",
    "O: Mis Oportunidades son:    \n",
    "D: Mis Debilidades son:    \n",
    "A: Lo que Amenazas mi aprendizaje es:  "
   ]
  },
  {
   "cell_type": "markdown",
   "id": "6b9e56a8",
   "metadata": {
    "slideshow": {
     "slide_type": "slide"
    }
   },
   "source": [
    "### [Evaluamos al profesor Marco Cañas Aquí](https://forms.office.com/Pages/ResponsePage.aspx?id=IefhmYRxjkmK_7KtTlPBwkanXIs1i1FEujpsZgO6dXpUREJPV1kxUk1JV1ozTFJIQVNIQjY5WEY3US4u)"
   ]
  },
  {
   "cell_type": "markdown",
   "id": "10f43536",
   "metadata": {
    "slideshow": {
     "slide_type": "slide"
    }
   },
   "source": [
    "### Continue su aprendizaje en la siguiente clase a través del siguiente [vínculo]()"
   ]
  },
  {
   "cell_type": "markdown",
   "id": "53cc9115",
   "metadata": {
    "slideshow": {
     "slide_type": "slide"
    }
   },
   "source": [
    "## Agradecimientos  \n",
    "\n",
    "Doy gracias a Dios por la vida de mi Hijo Joseph Cañas Osorio y la madurez que ha alcanzado. Este hijo me enorgullece y me hace falta abrazarlo cada día. \n",
    "\n",
    "Y a mi esposa Yasmira Emperatriz Barboza Mogollón por su apoyo, orientación y acompañamiento. "
   ]
  }
 ],
 "metadata": {
  "celltoolbar": "Slideshow",
  "kernelspec": {
   "display_name": "base",
   "language": "python",
   "name": "python3"
  },
  "language_info": {
   "codemirror_mode": {
    "name": "ipython",
    "version": 3
   },
   "file_extension": ".py",
   "mimetype": "text/x-python",
   "name": "python",
   "nbconvert_exporter": "python",
   "pygments_lexer": "ipython3",
   "version": "3.12.4"
  },
  "rise": {
   "enable_chalkboard": true,
   "theme": "sky",
   "transition": "zoom"
  }
 },
 "nbformat": 4,
 "nbformat_minor": 5
}
