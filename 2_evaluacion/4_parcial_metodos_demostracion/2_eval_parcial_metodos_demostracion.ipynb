{
 "cells": [
  {
   "cell_type": "markdown",
   "id": "dc06dec7",
   "metadata": {
    "slideshow": {
     "slide_type": "slide"
    }
   },
   "source": [
    "<table align=\"left\">\n",
    "  <td>\n",
    "    <a href=\"https://colab.research.google.com/github/marco-canas/fundamentos_logica/blob/main/2_evaluacion/4_parcial_metodos_demostracion/2_eval_parcial_metodos_demostracion.ipynb\" target=\"_parent\"><img src=\"https://colab.research.google.com/assets/colab-badge.svg\" alt=\"Open In Colab\"/></a>\n",
    "  </td>\n",
    "  <td>\n",
    "    <a target=\"_blank\" href=\"https://kaggle.com/kernels/welcome?src=https://github.com/marco-canas/fundamentos_logica/blob/main/2_evaluacion/4_parcial_metodos_demostracion/2_eval_parcial_metodos_demostracion.ipynb\"><img src=\"https://kaggle.com/static/images/open-in-kaggle.svg\" /></a>\n",
    "  </td>\n",
    "</table>"
   ]
  },
  {
   "cell_type": "markdown",
   "id": "e0c5b198",
   "metadata": {
    "slideshow": {
     "slide_type": "slide"
    }
   },
   "source": [
    "### [Video de apoyo a la lectura interactiva y experimental de este cuaderno]()"
   ]
  },
  {
   "cell_type": "markdown",
   "id": "41e82203",
   "metadata": {
    "slideshow": {
     "slide_type": "slide"
    }
   },
   "source": [
    "## [Vínculo al programa del curso:  ]()"
   ]
  },
  {
   "cell_type": "markdown",
   "id": "7f9be90f",
   "metadata": {
    "slideshow": {
     "slide_type": "slide"
    }
   },
   "source": [
    "# Fomento de la lectura literaria asociada a Ingeniería agropecuaria y licenciatura en Matemáticas y administración de empresas\n",
    "\n",
    "[Hábitos atómicos](https://github.com/marco-canas/habitos_atomicos/blob/main/13_como_dejar_de_postergar_usando_la_regla_de_los_dos_minutos/1_13_como_dejar_de_postergar_usando_la_regla_de_los_dos_minutos.ipynb)"
   ]
  },
  {
   "cell_type": "markdown",
   "id": "96775931",
   "metadata": {
    "slideshow": {
     "slide_type": "slide"
    }
   },
   "source": [
    "# Retroalimentación a la evaluación sobre métodos de demostración a Licenciatura en matemáticas en el curso de Fundamentos de Lógica. \n"
   ]
  },
  {
   "cell_type": "markdown",
   "id": "7ee3abc5",
   "metadata": {},
   "source": [
    "# Vocabulary \n",
    "\n",
    "1. length: longitud\n",
    "2. width: ancho. \n",
    "3. arange: alinear. \n",
    "\n",
    "[length, width](https://voca.ro/1of14ffdXnZI)"
   ]
  },
  {
   "cell_type": "markdown",
   "id": "af3c0708",
   "metadata": {},
   "source": [
    "# 4. Evaluar con un parcial escrito.\n"
   ]
  },
  {
   "cell_type": "markdown",
   "id": "7c1af820",
   "metadata": {},
   "source": [
    "# Explique cómo estructurar simbólicamente cada uno de los métodos de demostración  \n",
    "\n",
    "1. Método directo: $H \\to T$ \n",
    "2. Métodos indirectos: \n",
    "    - $\\neg T \\to \\neg H$ ya que $H \\to T \\equiv \\neg T \\to \\neg H$. \n",
    "    - Suponer que $H \\land \\neg T$ para llegar a una contradicción y así concluir que $H \\to T$. \n",
    "    - El método del contraejemplo que es una forma de refutación: Con este método buscamos mostrar que ($\\forall x \\in C$ $P(x)$) es falsa, mostrando que existe al menos un $x \\in C$ tal que $\\neg P(x)$ es verdadera. \n",
    "Por otro lado al único método inductivo que tenemos que es el de Inducción matemática. \n",
    "Que consiste en mostrar que $\\forall n \\in A \\subset \\mathbb{N}$ $P(n)$ es verdadero, para lo cual debemos demostrar que $P(1)$  es verdadero y que $p(k)$ verdadero implica $p(k+1)$ también lo es. \n",
    "  "
   ]
  },
  {
   "cell_type": "markdown",
   "id": "10bb10a2",
   "metadata": {},
   "source": [
    "## Retroalimentación a una demostración por inducción matemática"
   ]
  },
  {
   "cell_type": "markdown",
   "id": "5c55508d",
   "metadata": {},
   "source": [
    "# Sea $(a_{n})$ una progresión aritmética de diferencia $d$. Entonces, para cada $n \\in \\mathbb{N}$ $$ a_{n} = a_{1} + (n-1)d $$\n",
    "\n",
    "* Interprete la afirmación. \n",
    "* Verifiquela para un caso particular. \n",
    "* Demuestrela por inducción matemática. "
   ]
  },
  {
   "cell_type": "markdown",
   "id": "ee5f37f9",
   "metadata": {},
   "source": [
    "### Interpretación  \n",
    "\n",
    "Es decir, todos los términos de una prograsión geométrica se pueden determinar como función del primer término, de su posición y de la diferencia $d$ que define a la progresión aritmética. "
   ]
  },
  {
   "cell_type": "markdown",
   "id": "8db79af6",
   "metadata": {},
   "source": [
    "### Verificación en un caso particular \n",
    "\n",
    "Sea $a_{1} = 1 = d$. \n",
    "\n",
    "$$ (a_{n}) = \\{ 1, 2, 3, 4, \\ldots, n  \\} $$\n",
    "\n",
    "$$ a_{10} = 1 + (10-1)1 = 10 $$\n",
    "\n",
    "Entonces, para esta progresión aritmética particular, la afirmación sobre el $n$ - ésimo término es verdadera. "
   ]
  },
  {
   "cell_type": "markdown",
   "id": "4dd196a0",
   "metadata": {},
   "source": [
    "### Demostrar la afirmación por inducción matemática  \n",
    "\n",
    "Sea $(a_{n})$ una progresión aritmética de primer término $a_{1}$ y diferencia $d$, entonces. Entonces $$ a_{n} = a_{1} + (n-1)d $$\n",
    "\n",
    "## Veamos que el paso inductivo se satisface\n",
    "\n",
    "Si $n = 1$: \n",
    "\n",
    "$$ a_{1} = a_{1} + (1-1)d $$\n",
    "\n",
    "Es decir, la fóirmula dada si funciona para generar el primer término de la prograsión aritmética. \n",
    "\n",
    "Supondamos que la fórmula funciona para generar el $k$ - ésimo tpermino de la progresión aritmética y mostremos que esto implica que lla formula también funciona para $k+1$ - ésimo término. \n",
    "\n",
    "$$ a_{k} = a_{1} + (k-1)d $$\n",
    "\n",
    "y como $$ a_{k+1} = a_{k} + d =  a_{1} + (k-1)d + d = a_{1} + (k)d  $$. Así, mostró que suponer que la formula que genera los t´´erminos de la progresión funciona para $n = k$, implica que funciona para $n = k+1$. \n",
    "\n",
    "Lo que significa que la fórmula funciona para todos los términos de la progresión aritmética.. \n",
    "\n",
    "[Obtenga el video de apoyo a esta demostración aquí](https://www.youtube.com/watch?v=PIQKQmn0Lqk)"
   ]
  },
  {
   "cell_type": "markdown",
   "id": "c75fcf42",
   "metadata": {},
   "source": [
    "## Punto del parcial reflexionado"
   ]
  },
  {
   "cell_type": "markdown",
   "id": "33c0998f",
   "metadata": {},
   "source": [
    "# Sea $n$ un número natural mayor que cero, entonces $2^{n} - 1$ es divisible por 3. \n",
    "\n",
    "* Muestre un entero para el que la afirmación es verdadera. \n",
    "* Muestre al menor un entero para el que la afirmación es falsa. \n",
    "  "
   ]
  },
  {
   "cell_type": "markdown",
   "id": "dede7303",
   "metadata": {},
   "source": []
  },
  {
   "cell_type": "markdown",
   "id": "90dd40f3",
   "metadata": {},
   "source": [
    "# Sea $(a_{n})$ una progresión aritmética con primer término $a_{1}$ y diferencia $d$. \n",
    "\n",
    "\n",
    "$$ S_{n} = n \\cdot \\frac{a_{1} + a_{n}}{2} $$\n",
    "\n",
    "* Interprete: La suma de los primeros $n$ términos de una progresión aritmética es igual $n$ veces el promedio entre el primero y el último término.\n",
    "* Verifique:  \n",
    "* Demuestre por inducción matemática.   \n",
    "\n",
    "\n",
    "\n",
    "\n"
   ]
  },
  {
   "cell_type": "markdown",
   "id": "fd879ecc",
   "metadata": {},
   "source": [
    "# Para todo $n > 1$, la diferencia entre $n^{2}$ y $(n - 1)^{2}$ es igual a $2n - 1$.\n",
    "\n",
    "* Interprete: \n",
    "* Verifique \n",
    "* Demuestre por método directo. \n"
   ]
  },
  {
   "cell_type": "markdown",
   "id": "15226c6a",
   "metadata": {},
   "source": [
    "## Demostración  \n",
    "\n",
    "$$ n^{2} - (n-1)^{2} = n^{2} - (n^{2} - 2n + 1) = 2n - 1 $$  \n",
    "\n"
   ]
  },
  {
   "cell_type": "markdown",
   "id": "8295d7a0",
   "metadata": {},
   "source": [
    "# 5. Evaluación oral\n",
    "## 5. Evaluar la capacidad de describir un problema y su solución de manera oral. \n",
    "\n",
    "1. Evaluaremos la capacidad de describir cada uno de los pasos o fases para resolver un problema (Es decir, se pedirá al estudiante que describa la metodología de solución de un problema dado). "
   ]
  },
  {
   "cell_type": "markdown",
   "id": "318cb03f-8c7c-48e6-95a7-7c6b2044b603",
   "metadata": {},
   "source": [
    "# Autoevaluación "
   ]
  },
  {
   "cell_type": "code",
   "execution_count": 1,
   "id": "6ace95c0-9ecc-487b-9cbe-c2974dbcf6f5",
   "metadata": {
    "slideshow": {
     "slide_type": "slide"
    }
   },
   "outputs": [
    {
     "name": "stdout",
     "output_type": "stream",
     "text": [
      "Ingrese su nombre:  marco\n",
      "Describa sus fortalezas:  amable, cariñoso, fiel, deportista\n",
      "Describa las áreas en las que necesita mejorar:  irritabilidad, mi resiliencia\n"
     ]
    },
    {
     "name": "stdout",
     "output_type": "stream",
     "text": [
      "La autoevaluación se ha guardado correctamente.\n"
     ]
    }
   ],
   "source": [
    "import csv\n",
    "\n",
    "def recolectar_datos_autoavaluacion():\n",
    "    # Definir el nombre del archivo CSV\n",
    "    nombre_archivo = 'autoevaluacion_estudiantes.csv'\n",
    "    \n",
    "    # Definir los encabezados para el archivo CSV\n",
    "    encabezados = ['Nombre', 'Fortalezas', 'Áreas de Mejora']\n",
    "    \n",
    "    # Solicitar los datos del estudiante\n",
    "    nombre = input(\"Ingrese su nombre: \")\n",
    "    fortalezas = input(\"Describa sus fortalezas: \")\n",
    "    areas_mejora = input(\"Describa las áreas en las que necesita mejorar: \")\n",
    "    \n",
    "    # Crear una lista con los datos del estudiante\n",
    "    datos = [nombre, fortalezas, areas_mejora]\n",
    "    \n",
    "    # Abrir el archivo CSV para agregar los datos\n",
    "    with open(nombre_archivo, mode='a', newline='') as archivo_csv:\n",
    "        escritor_csv = csv.writer(archivo_csv)\n",
    "        \n",
    "        # Verificar si el archivo está vacío para escribir los encabezados\n",
    "        archivo_csv.seek(0, 2)  # Mover el cursor al final del archivo\n",
    "        if archivo_csv.tell() == 0:  # Verificar si el archivo está vacío\n",
    "            escritor_csv.writerow(encabezados)\n",
    "        \n",
    "        # Escribir los datos en el archivo CSV\n",
    "        escritor_csv.writerow(datos)\n",
    "    \n",
    "    print(\"La autoevaluación se ha guardado correctamente.\")\n",
    "\n",
    "# Ejecutar la función para recolectar datos\n",
    "recolectar_datos_autoavaluacion()\n"
   ]
  },
  {
   "cell_type": "markdown",
   "id": "fb9402bb",
   "metadata": {
    "slideshow": {
     "slide_type": "slide"
    }
   },
   "source": [
    "## Estrategias propuestas para la solución de las dificultades de aprendizaje detectadas"
   ]
  },
  {
   "cell_type": "markdown",
   "id": "2dd3bd5c",
   "metadata": {
    "slideshow": {
     "slide_type": "slide"
    }
   },
   "source": []
  },
  {
   "cell_type": "markdown",
   "id": "c6236d5d",
   "metadata": {},
   "source": [
    "# FODA del grupo y del profesor  \n",
    "\n",
    "* F: Fortalezas\n",
    "* O: Oportunidades\n",
    "* D: Dificultades\n",
    "* A: Amenazas."
   ]
  },
  {
   "cell_type": "markdown",
   "id": "b48f9542",
   "metadata": {},
   "source": [
    "## ¿Cómo se sintió en este espacio de enseñanza y aprendizaje?\n",
    "\n",
    "!Dios te bendiga¡"
   ]
  },
  {
   "cell_type": "markdown",
   "id": "10bce0d0",
   "metadata": {
    "slideshow": {
     "slide_type": "slide"
    }
   },
   "source": [
    "## Referentes "
   ]
  },
  {
   "cell_type": "markdown",
   "id": "1db3c468",
   "metadata": {
    "slideshow": {
     "slide_type": "slide"
    }
   },
   "source": [
    "* [Grajales Vanegas, L. M., Restrepo Estrada, C. E., Restrepo Ochoa, S. I., & Ruíz De Villalba, F. (2015). Matemáticas I para las ciencias económicas.](https://github.com/marco-canas/fundamentos_de_la_aritmetica/blob/main/referentes/2_grajales_logica/grajales_lina_matemticas.pdf)\n",
    "  \n",
    "* Duval, R. (2004). Semiosis y pensamiento humano: registros semióticos y aprendizajes intelectuales. Universidad del Valle.\n",
    "\n",
    "* [Aylwin, C. U. (2011). Lógica, conjuntos y números. Universidad de los Andes, Consejo de Publicaciones, Colección: Ciencias Básicas, Serie: Matemáticas.](https://github.com/marco-canas/fundamentos_logica/blob/main/referentes/2_uzcategui/uscategui.pdf)\n",
    "  \n",
    "* [Chollet, F. (2021). Deep learning with Python. Simon and Schuster.](https://github.com/marco-canas/didactica_ciencia_datos/blob/main/2_referentes/chollet/Fran%C3%A7ois%20Chollet%20-%20Deep%20Learning%20with%20Python-Manning%20(2018).pdf)  \n",
    "  \n",
    "* [Watson, S., Stewart, J., & Redlin, L. (2009). Precálculo. Matemáticas para el cálculo.](https://github.com/marco-canas/calculo/blob/main/referents/1_precalculo_stewart/stewart_precalculo.pdf)  \n",
    "\n",
    "* [Purcell, E. J., Varberg, D., & Rigdon, S. E. (2007). Cálculo diferencial e integral. Pearson Educación.](https://github.com/marco-canas/calculo/blob/main/referents/purcell/purcell_calculo.pdf)\n",
    "\n",
    "  \n",
    "\n",
    "* [stewart cálculo](https://udeaeduco-my.sharepoint.com/:b:/g/personal/marco_canas_udea_edu_co/EZgXZjAp8QxPqOAim2hs6LcBNPLGjSHf-xwYnUVYkwa04w?e=RZdTCy)  \n",
    "\n",
    "* [larson](https://udeaeduco-my.sharepoint.com/:b:/g/personal/marco_canas_udea_edu_co/ES71ChFeO9ZDhW3TwC5Ijk8BjxUK3Pdqz_fjHxTTFAfIAg?e=VDEjfu)\n",
    "\n",
    "\n",
    "\n",
    "* [Recomendación de la UNESCO sobre ciencia abierta](https://unesdoc.unesco.org/ark:/48223/pf0000379949_spa)\n",
    "\n",
    "* [chatGPT](https://openai.com/blog/chatgpt)  \n",
    "\n",
    "* [Géron, A. (2017). Hands-on machine learning with scikit-learn and tensorflow: Concepts. Tools, and Techniques to build intelligent systems.](https://github.com/marco-canas/didactica_ciencia_datos/blob/main/2_referentes/geron/Hands-On%20Machine%20Learning-3nd_Edition(2022).pdf)  \n",
    "\n",
    "* [McKinney, W. (2012). Python for data analysis: Data wrangling with Pandas, NumPy, and IPython. \" O'Reilly Media, Inc.\".](https://github.com/marco-canas/didactica_ciencia_datos/blob/main/2_referentes/mckinney/Wes_McKinney.pdf)  "
   ]
  },
  {
   "cell_type": "markdown",
   "id": "6b9e56a8",
   "metadata": {
    "slideshow": {
     "slide_type": "slide"
    }
   },
   "source": [
    "### [Evaluamos al profesor Marco Cañas Aquí](https://forms.office.com/Pages/ResponsePage.aspx?id=IefhmYRxjkmK_7KtTlPBwkanXIs1i1FEujpsZgO6dXpUREJPV1kxUk1JV1ozTFJIQVNIQjY5WEY3US4u)"
   ]
  },
  {
   "cell_type": "markdown",
   "id": "071afa04",
   "metadata": {
    "slideshow": {
     "slide_type": "slide"
    }
   },
   "source": [
    "## [Evaluación luego de alcanzar estos objetivos de aprendizaje]()"
   ]
  },
  {
   "cell_type": "markdown",
   "id": "10f43536",
   "metadata": {
    "slideshow": {
     "slide_type": "slide"
    }
   },
   "source": [
    "### Continue su aprendizaje en la siguiente clase a través del siguiente [vínculo]()"
   ]
  },
  {
   "cell_type": "markdown",
   "id": "af751e30",
   "metadata": {
    "slideshow": {
     "slide_type": "slide"
    }
   },
   "source": [
    "# Conjeturas pedagógicas fruto de la aplicación del modelo de aprendizaje invertido y del enfoque hacia la ciencia de datos con python\n",
    "\n",
    "1. Todo cálculo o resultado debe ser interpretado en una línea markdown del cuaderno Jupyter, inmediatamente después de la enunciación del resultado y después de la presentación de una tabla o gráfico bidimensional, de tal menera que el estudiante explicite la comprensión verbal del resultado y las inferencias o estrategias que este resultado le sugieren.   "
   ]
  }
 ],
 "metadata": {
  "celltoolbar": "Slideshow",
  "kernelspec": {
   "display_name": "Python 3 (ipykernel)",
   "language": "python",
   "name": "python3"
  },
  "language_info": {
   "codemirror_mode": {
    "name": "ipython",
    "version": 3
   },
   "file_extension": ".py",
   "mimetype": "text/x-python",
   "name": "python",
   "nbconvert_exporter": "python",
   "pygments_lexer": "ipython3",
   "version": "3.10.12"
  },
  "rise": {
   "enable_chalkboard": true,
   "theme": "sky",
   "transition": "zoom"
  }
 },
 "nbformat": 4,
 "nbformat_minor": 5
}
