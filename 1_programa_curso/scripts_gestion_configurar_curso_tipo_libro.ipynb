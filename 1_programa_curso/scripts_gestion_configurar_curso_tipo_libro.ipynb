{
 "cells": [
  {
   "cell_type": "markdown",
   "metadata": {},
   "source": [
    "# [Gestione la configuración del curso como tipo Libro Jupyter utilizando esta información](https://jupyterbook.org/en/stable/start/create.html)"
   ]
  },
  {
   "cell_type": "markdown",
   "metadata": {},
   "source": []
  }
 ],
 "metadata": {
  "language_info": {
   "name": "python"
  }
 },
 "nbformat": 4,
 "nbformat_minor": 2
}
