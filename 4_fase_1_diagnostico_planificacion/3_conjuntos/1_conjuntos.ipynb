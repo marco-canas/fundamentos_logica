{
 "cells": [
  {
   "cell_type": "markdown",
   "id": "dc06dec7",
   "metadata": {
    "slideshow": {
     "slide_type": "slide"
    }
   },
   "source": [
    "<table align=\"left\">\n",
    "  <td>\n",
    "    <a href=\"https://colab.research.google.com/github/marco-canas/fundamentos_logica/blob/main/4_fase_1_diagnostico_planificacion/3_conjuntos/3_1_introduccion/1_introduccion_conjuntos.ipynb\" target=\"_parent\"><img src=\"https://colab.research.google.com/assets/colab-badge.svg\" alt=\"Open In Colab\"/></a>\n",
    "  </td>\n",
    "  <td>\n",
    "    <a target=\"_blank\" href=\"https://kaggle.com/kernels/welcome?src=https://github.com/marco-canas/fundamentos_logica/blob/main/4_fase_1_diagnostico_planificacion/3_conjuntos/3_1_introduccion/1_introduccion_conjuntos.ipynb\"><img src=\"https://kaggle.com/static/images/open-in-kaggle.svg\" /></a>\n",
    "  </td>\n",
    "</table>"
   ]
  },
  {
   "cell_type": "markdown",
   "id": "e0c5b198",
   "metadata": {
    "slideshow": {
     "slide_type": "slide"
    }
   },
   "source": [
    "### [Video de apoyo a la lectura interactiva y experimental de este cuaderno]()"
   ]
  },
  {
   "cell_type": "markdown",
   "id": "41e82203",
   "metadata": {
    "slideshow": {
     "slide_type": "slide"
    }
   },
   "source": [
    "### [Vínculo al programa del curso:  ]()\n",
    "\n"
   ]
  },
  {
   "cell_type": "markdown",
   "id": "d11ab06d",
   "metadata": {
    "slideshow": {
     "slide_type": "slide"
    }
   },
   "source": [
    "Un reconocimiento a mis estudiantes que han construido conmigo este saber pedagógico:\n",
    "\n",
    "<img src = ''> \n",
    "\n"
   ]
  },
  {
   "cell_type": "markdown",
   "id": "8a74a56c-0ce6-4ad6-b985-553fd7fb68bb",
   "metadata": {},
   "source": [
    "Reconocimiento a las profesoras destacadas en enseñanza de la matemática en Colombia\n"
   ]
  },
  {
   "cell_type": "code",
   "execution_count": 2,
   "id": "7604880f",
   "metadata": {
    "slideshow": {
     "slide_type": "slide"
    }
   },
   "outputs": [
    {
     "data": {
      "application/vnd.microsoft.datawrangler.viewer.v0+json": {
       "columns": [
        {
         "name": "index",
         "rawType": "int64",
         "type": "integer"
        },
        {
         "name": "Cedula",
         "rawType": "int64",
         "type": "integer"
        },
        {
         "name": "Nombre",
         "rawType": "object",
         "type": "string"
        },
        {
         "name": "Email",
         "rawType": "object",
         "type": "string"
        },
        {
         "name": "parcial_1",
         "rawType": "float64",
         "type": "float"
        },
        {
         "name": "parcial_2",
         "rawType": "float64",
         "type": "float"
        }
       ],
       "ref": "ad440e90-57cb-4591-9ac2-40e25177258d",
       "rows": [
        [
         "0",
         "1067281024",
         "ALVAREZ GOEZ DAIRO ESTEBAN",
         "dairo.alvarez1@udea.edu.co",
         null,
         "0.5"
        ],
        [
         "1",
         "1041086439",
         "CASTILLO SIERRA SHIRLIS SARAY",
         "shirlis.castillo@udea.edu.co",
         null,
         "3.5"
        ],
        [
         "2",
         "1045419649",
         "ESPINOSA ESPINOSA LILIANA ANDREA",
         "lilianaa.espinosa@udea.edu.co",
         "5.0",
         "1.5"
        ],
        [
         "3",
         "1040494191",
         "GARCIA PADILLA JHONATAN",
         "jhonatan.garcia1@udea.edu.co",
         null,
         "4.0"
        ],
        [
         "4",
         "1038098851",
         "GUERRA OSORIO SIMON",
         "s.guerra@udea.edu.co",
         "3.0",
         "0.5"
        ],
        [
         "5",
         "1038131529",
         "HOYOS ARRIETA ELIECER JOSE",
         "jose.hoyos2@udea.edu.co",
         "5.0",
         "5.0"
        ],
        [
         "6",
         "1038116007",
         "MARIAGA BALLESTEROS KEILA MELIZA",
         "keila.mariaga@udea.edu.co",
         null,
         "0.0"
        ],
        [
         "7",
         "3667402",
         "MARIN MARTINEZ FRANCISCO JAVIER",
         "fjavier.marin@udea.edu.co",
         "1.0",
         "0.0"
        ],
        [
         "8",
         "1007112550",
         "MARTINEZ MENDOZA JAIR MIGUEL",
         "jair.mmendoza@udea.edu.co",
         null,
         "0.3"
        ],
        [
         "9",
         "1038092575",
         "OSORIO ACEVEDO LUIS MARIO",
         "luismario.osorio@udea.edu.co",
         null,
         "1.3"
        ],
        [
         "10",
         "1038130817",
         "PENATE PENA JHON SEBASTIAN",
         "jhon.penate@udea.edu.co",
         "5.0",
         "1.5"
        ],
        [
         "11",
         "1040494087",
         "POLANCO LUCAS FABIER GABRIEL",
         "fabier.polanco@udea.edu.co",
         "0.6",
         "4.6"
        ],
        [
         "12",
         "1019842256",
         "RODELO ZABALA ARIANA",
         "a.rodelo@udea.edu.co",
         "3.0",
         "3.9"
        ],
        [
         "13",
         "1042822239",
         "RODRIGUEZ MOSQUERA ANGELA MARIA",
         "maria.rodriguez8@udea.edu.co",
         null,
         "4.2"
        ],
        [
         "14",
         "1038436130",
         "ROHENES DE ARCO CAMILO ANDRES",
         "camilo.rohenes@udea.edu.co",
         null,
         "0.3"
        ],
        [
         "15",
         "1038436131",
         "ROHENES DE ARCO DIEGO ANDRES",
         "diego.rohenes@udea.edu.co",
         null,
         "3.4"
        ],
        [
         "16",
         "1032251887",
         "SIERRA OLIVEROS OMAR DARIO",
         "omar.sierra1@udea.edu.co",
         null,
         "3.5"
        ],
        [
         "17",
         "1038646944",
         "SILVA URDA FABIAN",
         "fabian.silva1@udea.edu.co",
         "2.5",
         "2.8"
        ],
        [
         "18",
         "1007429411",
         "VILLA CABARCA SANDY JANETH",
         "sandy.villac@udea.edu.co",
         null,
         "4.7"
        ]
       ],
       "shape": {
        "columns": 5,
        "rows": 19
       }
      },
      "text/html": [
       "<div>\n",
       "<style scoped>\n",
       "    .dataframe tbody tr th:only-of-type {\n",
       "        vertical-align: middle;\n",
       "    }\n",
       "\n",
       "    .dataframe tbody tr th {\n",
       "        vertical-align: top;\n",
       "    }\n",
       "\n",
       "    .dataframe thead th {\n",
       "        text-align: right;\n",
       "    }\n",
       "</style>\n",
       "<table border=\"1\" class=\"dataframe\">\n",
       "  <thead>\n",
       "    <tr style=\"text-align: right;\">\n",
       "      <th></th>\n",
       "      <th>Cedula</th>\n",
       "      <th>Nombre</th>\n",
       "      <th>Email</th>\n",
       "      <th>parcial_1</th>\n",
       "      <th>parcial_2</th>\n",
       "    </tr>\n",
       "  </thead>\n",
       "  <tbody>\n",
       "    <tr>\n",
       "      <th>0</th>\n",
       "      <td>1067281024</td>\n",
       "      <td>ALVAREZ GOEZ DAIRO ESTEBAN</td>\n",
       "      <td>dairo.alvarez1@udea.edu.co</td>\n",
       "      <td>NaN</td>\n",
       "      <td>0.5</td>\n",
       "    </tr>\n",
       "    <tr>\n",
       "      <th>1</th>\n",
       "      <td>1041086439</td>\n",
       "      <td>CASTILLO SIERRA SHIRLIS SARAY</td>\n",
       "      <td>shirlis.castillo@udea.edu.co</td>\n",
       "      <td>NaN</td>\n",
       "      <td>3.5</td>\n",
       "    </tr>\n",
       "    <tr>\n",
       "      <th>2</th>\n",
       "      <td>1045419649</td>\n",
       "      <td>ESPINOSA ESPINOSA LILIANA ANDREA</td>\n",
       "      <td>lilianaa.espinosa@udea.edu.co</td>\n",
       "      <td>5.0</td>\n",
       "      <td>1.5</td>\n",
       "    </tr>\n",
       "    <tr>\n",
       "      <th>3</th>\n",
       "      <td>1040494191</td>\n",
       "      <td>GARCIA PADILLA JHONATAN</td>\n",
       "      <td>jhonatan.garcia1@udea.edu.co</td>\n",
       "      <td>NaN</td>\n",
       "      <td>4.0</td>\n",
       "    </tr>\n",
       "    <tr>\n",
       "      <th>4</th>\n",
       "      <td>1038098851</td>\n",
       "      <td>GUERRA OSORIO SIMON</td>\n",
       "      <td>s.guerra@udea.edu.co</td>\n",
       "      <td>3.0</td>\n",
       "      <td>0.5</td>\n",
       "    </tr>\n",
       "    <tr>\n",
       "      <th>5</th>\n",
       "      <td>1038131529</td>\n",
       "      <td>HOYOS ARRIETA ELIECER JOSE</td>\n",
       "      <td>jose.hoyos2@udea.edu.co</td>\n",
       "      <td>5.0</td>\n",
       "      <td>5.0</td>\n",
       "    </tr>\n",
       "    <tr>\n",
       "      <th>6</th>\n",
       "      <td>1038116007</td>\n",
       "      <td>MARIAGA BALLESTEROS KEILA MELIZA</td>\n",
       "      <td>keila.mariaga@udea.edu.co</td>\n",
       "      <td>NaN</td>\n",
       "      <td>0.0</td>\n",
       "    </tr>\n",
       "    <tr>\n",
       "      <th>7</th>\n",
       "      <td>3667402</td>\n",
       "      <td>MARIN MARTINEZ FRANCISCO JAVIER</td>\n",
       "      <td>fjavier.marin@udea.edu.co</td>\n",
       "      <td>1.0</td>\n",
       "      <td>0.0</td>\n",
       "    </tr>\n",
       "    <tr>\n",
       "      <th>8</th>\n",
       "      <td>1007112550</td>\n",
       "      <td>MARTINEZ MENDOZA JAIR MIGUEL</td>\n",
       "      <td>jair.mmendoza@udea.edu.co</td>\n",
       "      <td>NaN</td>\n",
       "      <td>0.3</td>\n",
       "    </tr>\n",
       "    <tr>\n",
       "      <th>9</th>\n",
       "      <td>1038092575</td>\n",
       "      <td>OSORIO ACEVEDO LUIS MARIO</td>\n",
       "      <td>luismario.osorio@udea.edu.co</td>\n",
       "      <td>NaN</td>\n",
       "      <td>1.3</td>\n",
       "    </tr>\n",
       "    <tr>\n",
       "      <th>10</th>\n",
       "      <td>1038130817</td>\n",
       "      <td>PENATE PENA JHON SEBASTIAN</td>\n",
       "      <td>jhon.penate@udea.edu.co</td>\n",
       "      <td>5.0</td>\n",
       "      <td>1.5</td>\n",
       "    </tr>\n",
       "    <tr>\n",
       "      <th>11</th>\n",
       "      <td>1040494087</td>\n",
       "      <td>POLANCO LUCAS FABIER GABRIEL</td>\n",
       "      <td>fabier.polanco@udea.edu.co</td>\n",
       "      <td>0.6</td>\n",
       "      <td>4.6</td>\n",
       "    </tr>\n",
       "    <tr>\n",
       "      <th>12</th>\n",
       "      <td>1019842256</td>\n",
       "      <td>RODELO ZABALA ARIANA</td>\n",
       "      <td>a.rodelo@udea.edu.co</td>\n",
       "      <td>3.0</td>\n",
       "      <td>3.9</td>\n",
       "    </tr>\n",
       "    <tr>\n",
       "      <th>13</th>\n",
       "      <td>1042822239</td>\n",
       "      <td>RODRIGUEZ MOSQUERA ANGELA MARIA</td>\n",
       "      <td>maria.rodriguez8@udea.edu.co</td>\n",
       "      <td>NaN</td>\n",
       "      <td>4.2</td>\n",
       "    </tr>\n",
       "    <tr>\n",
       "      <th>14</th>\n",
       "      <td>1038436130</td>\n",
       "      <td>ROHENES DE ARCO CAMILO ANDRES</td>\n",
       "      <td>camilo.rohenes@udea.edu.co</td>\n",
       "      <td>NaN</td>\n",
       "      <td>0.3</td>\n",
       "    </tr>\n",
       "    <tr>\n",
       "      <th>15</th>\n",
       "      <td>1038436131</td>\n",
       "      <td>ROHENES DE ARCO DIEGO ANDRES</td>\n",
       "      <td>diego.rohenes@udea.edu.co</td>\n",
       "      <td>NaN</td>\n",
       "      <td>3.4</td>\n",
       "    </tr>\n",
       "    <tr>\n",
       "      <th>16</th>\n",
       "      <td>1032251887</td>\n",
       "      <td>SIERRA OLIVEROS OMAR DARIO</td>\n",
       "      <td>omar.sierra1@udea.edu.co</td>\n",
       "      <td>NaN</td>\n",
       "      <td>3.5</td>\n",
       "    </tr>\n",
       "    <tr>\n",
       "      <th>17</th>\n",
       "      <td>1038646944</td>\n",
       "      <td>SILVA URDA FABIAN</td>\n",
       "      <td>fabian.silva1@udea.edu.co</td>\n",
       "      <td>2.5</td>\n",
       "      <td>2.8</td>\n",
       "    </tr>\n",
       "    <tr>\n",
       "      <th>18</th>\n",
       "      <td>1007429411</td>\n",
       "      <td>VILLA CABARCA SANDY JANETH</td>\n",
       "      <td>sandy.villac@udea.edu.co</td>\n",
       "      <td>NaN</td>\n",
       "      <td>4.7</td>\n",
       "    </tr>\n",
       "  </tbody>\n",
       "</table>\n",
       "</div>"
      ],
      "text/plain": [
       "        Cedula                            Nombre  \\\n",
       "0   1067281024        ALVAREZ GOEZ DAIRO ESTEBAN   \n",
       "1   1041086439     CASTILLO SIERRA SHIRLIS SARAY   \n",
       "2   1045419649  ESPINOSA ESPINOSA LILIANA ANDREA   \n",
       "3   1040494191           GARCIA PADILLA JHONATAN   \n",
       "4   1038098851               GUERRA OSORIO SIMON   \n",
       "5   1038131529        HOYOS ARRIETA ELIECER JOSE   \n",
       "6   1038116007  MARIAGA BALLESTEROS KEILA MELIZA   \n",
       "7      3667402   MARIN MARTINEZ FRANCISCO JAVIER   \n",
       "8   1007112550      MARTINEZ MENDOZA JAIR MIGUEL   \n",
       "9   1038092575         OSORIO ACEVEDO LUIS MARIO   \n",
       "10  1038130817        PENATE PENA JHON SEBASTIAN   \n",
       "11  1040494087      POLANCO LUCAS FABIER GABRIEL   \n",
       "12  1019842256              RODELO ZABALA ARIANA   \n",
       "13  1042822239   RODRIGUEZ MOSQUERA ANGELA MARIA   \n",
       "14  1038436130     ROHENES DE ARCO CAMILO ANDRES   \n",
       "15  1038436131      ROHENES DE ARCO DIEGO ANDRES   \n",
       "16  1032251887        SIERRA OLIVEROS OMAR DARIO   \n",
       "17  1038646944                 SILVA URDA FABIAN   \n",
       "18  1007429411        VILLA CABARCA SANDY JANETH   \n",
       "\n",
       "                            Email  parcial_1  parcial_2  \n",
       "0      dairo.alvarez1@udea.edu.co        NaN        0.5  \n",
       "1    shirlis.castillo@udea.edu.co        NaN        3.5  \n",
       "2   lilianaa.espinosa@udea.edu.co        5.0        1.5  \n",
       "3    jhonatan.garcia1@udea.edu.co        NaN        4.0  \n",
       "4            s.guerra@udea.edu.co        3.0        0.5  \n",
       "5         jose.hoyos2@udea.edu.co        5.0        5.0  \n",
       "6       keila.mariaga@udea.edu.co        NaN        0.0  \n",
       "7       fjavier.marin@udea.edu.co        1.0        0.0  \n",
       "8       jair.mmendoza@udea.edu.co        NaN        0.3  \n",
       "9    luismario.osorio@udea.edu.co        NaN        1.3  \n",
       "10        jhon.penate@udea.edu.co        5.0        1.5  \n",
       "11     fabier.polanco@udea.edu.co        0.6        4.6  \n",
       "12           a.rodelo@udea.edu.co        3.0        3.9  \n",
       "13   maria.rodriguez8@udea.edu.co        NaN        4.2  \n",
       "14     camilo.rohenes@udea.edu.co        NaN        0.3  \n",
       "15      diego.rohenes@udea.edu.co        NaN        3.4  \n",
       "16       omar.sierra1@udea.edu.co        NaN        3.5  \n",
       "17      fabian.silva1@udea.edu.co        2.5        2.8  \n",
       "18       sandy.villac@udea.edu.co        NaN        4.7  "
      ]
     },
     "execution_count": 2,
     "metadata": {},
     "output_type": "execute_result"
    }
   ],
   "source": [
    "import pandas as pd\n",
    "import numpy as np\n",
    "\n",
    "# Cargar la lista de estudiantes desde el archivo CSV\n",
    "path = 'C:/Users/marco/Documentos/docencia/groups_list/logica.xlsx'\n",
    "df = pd.read_excel(path)\n",
    "df"
   ]
  },
  {
   "cell_type": "markdown",
   "id": "d7598d0a-d9b7-4ae0-b029-a0ed6ed1130b",
   "metadata": {},
   "source": [
    "\n",
    "# Principios de mi labor docente"
   ]
  },
  {
   "cell_type": "markdown",
   "id": "4f9d8cf9",
   "metadata": {
    "slideshow": {
     "slide_type": "slide"
    }
   },
   "source": [
    "## Modelo general de clase: [aula invertida](https://www3.gobiernodecanarias.org/medusa/ecoescuela/pedagotic/aprendizaje-invertido-flipped-classroom/)"
   ]
  },
  {
   "cell_type": "markdown",
   "id": "eb6ed03a",
   "metadata": {},
   "source": [
    "<img src = 'https://resources.maneuveringthemiddle.com/wp-content/uploads/2020/07/04212706/1-5.png' width = 200>  \n",
    "\n"
   ]
  },
  {
   "cell_type": "markdown",
   "id": "34319cce-a71b-4f64-aab8-b53e521efa40",
   "metadata": {},
   "source": [
    "# Metodología de enseñanza basada en problemas (ABP)\n"
   ]
  },
  {
   "cell_type": "markdown",
   "id": "c4f73d81",
   "metadata": {},
   "source": [
    "\n",
    "<img src = 'https://www.unir.net/wp-content/uploads/2020/07/aprendizaje-problemas2-1-1-1-1.jpeg' width = 200>"
   ]
  },
  {
   "cell_type": "markdown",
   "id": "841a985c-bd9b-4dd3-8e4c-893983980af2",
   "metadata": {},
   "source": [
    "# Desarrollo del pensamiento computacional con python y cuadernos Jupyter  orientado a la formación en ciencia de datos \n",
    "\n"
   ]
  },
  {
   "cell_type": "markdown",
   "id": "3d0eba94",
   "metadata": {},
   "source": [
    "\n",
    "<img src = 'https://i.ytimg.com/vi/mcG_wcR4e6M/maxresdefault.jpg' width = 200>"
   ]
  },
  {
   "cell_type": "markdown",
   "id": "65aa0404-f7ae-495e-864c-1aec01b4255e",
   "metadata": {},
   "source": [
    "# Principio de fomento a la ciencia abierta, enseñar en el acceso a los datos públicos y el uso de software de código abierto  \n"
   ]
  },
  {
   "cell_type": "markdown",
   "id": "18ae9b87",
   "metadata": {},
   "source": [
    "\n",
    "<img src = 'https://unesdoc.unesco.org/in/rest/Thumb/image?id=p%3A%3Ausmarcdef_0000379949_spa&author=UNESCO&title=Recomendaci%C3%B3n+de+la+UNESCO+sobre+la+Ciencia+Abierta&year=2021&publisher=UNESCO&TypeOfDocument=UnescoPhysicalDocument&mat=PGD&ct=true&size=512&isPhysical=1' width = 200>"
   ]
  },
  {
   "cell_type": "markdown",
   "id": "d9559f85",
   "metadata": {},
   "source": [
    "El enfoque STEAMS en educación preescolar, primaria y secundaria es una extensión del enfoque STEM (Ciencia, Tecnología, Ingeniería y Matemáticas) y su variante STEAM, que incorpora el Arte. "
   ]
  },
  {
   "cell_type": "markdown",
   "id": "72e1cfd2",
   "metadata": {},
   "source": [
    "El acrónimo STEAMS incluye:\n"
   ]
  },
  {
   "cell_type": "markdown",
   "id": "03182fd1",
   "metadata": {},
   "source": [
    "\n",
    "1. **Science (Ciencia):** Fomenta la curiosidad por el mundo natural y el desarrollo de habilidades científicas, como la observación, experimentación y análisis.\n"
   ]
  },
  {
   "cell_type": "markdown",
   "id": "1306d0fa",
   "metadata": {},
   "source": [
    "\n",
    "2. **Technology (Tecnología):** Integra herramientas tecnológicas para potenciar el aprendizaje y la resolución de problemas, promoviendo la alfabetización digital desde edades tempranas.\n"
   ]
  },
  {
   "cell_type": "markdown",
   "id": "3b1a53e8",
   "metadata": {},
   "source": [
    "\n",
    "3. **Engineering (Ingeniería):** Introduce el pensamiento lógico y la resolución de problemas estructurados, fomentando habilidades como el diseño y la construcción de soluciones.\n"
   ]
  },
  {
   "cell_type": "markdown",
   "id": "0196de87",
   "metadata": {},
   "source": [
    "\n",
    "4. **Arts (Arte):** Añade creatividad y pensamiento crítico, permitiendo a los estudiantes expresarse y explorar el aprendizaje a través de formas artísticas (plásticas, música, teatro).\n"
   ]
  },
  {
   "cell_type": "markdown",
   "id": "8bcc485a",
   "metadata": {},
   "source": [
    "\n",
    "5. **Mathematics (Matemáticas):** Refuerza las habilidades numéricas y el razonamiento lógico, fundamentales en la resolución de problemas y comprensión de conceptos abstractos.\n"
   ]
  },
  {
   "cell_type": "markdown",
   "id": "907935f4",
   "metadata": {},
   "source": [
    "\n",
    "6. **Social Sciences (Ciencias Sociales):** Incorpora la comprensión del entorno social, político, cultural y económico, promoviendo el desarrollo de la conciencia crítica sobre el mundo y su historia, además de habilidades de empatía y ciudadanía.\n"
   ]
  },
  {
   "cell_type": "markdown",
   "id": "39967d63",
   "metadata": {},
   "source": [
    "\n",
    "El enfoque STEAMS pretende desarrollar un aprendizaje **interdisciplinario** que integre estas áreas para fomentar un pensamiento más holístico y práctico. "
   ]
  },
  {
   "cell_type": "markdown",
   "id": "5145f077",
   "metadata": {},
   "source": [
    "Se busca que los estudiantes no solo aprendan conocimientos técnicos, sino también cómo aplicarlos creativa y críticamente en situaciones reales, promoviendo habilidades como el trabajo en equipo, la comunicación y la innovación. "
   ]
  },
  {
   "cell_type": "markdown",
   "id": "9d556584",
   "metadata": {},
   "source": [
    "En educación preescolar, primaria, secundaria y superior, se adapta a las diferentes etapas de desarrollo cognitivo y emocional de los estudiantes, promoviendo el aprendizaje activo y contextualizado.  \n"
   ]
  },
  {
   "cell_type": "markdown",
   "id": "0130ec1b",
   "metadata": {},
   "source": [
    "\n",
    "<img src = 'https://www.campuseducacion.com/blog/wp-content/uploads/2023/03/foto01-1.jpg' width = 200>"
   ]
  },
  {
   "cell_type": "markdown",
   "id": "9d15c10d-2c02-4158-9419-b1ed79b4c1ee",
   "metadata": {},
   "source": [
    "# Qué estamos haciendo por la internalización en esta clase y este curso  \n"
   ]
  },
  {
   "cell_type": "markdown",
   "id": "6e4feef2",
   "metadata": {},
   "source": [
    "Estas son mis acciones como docente de matemáticas en la Universidad de Antioquia con miras a la **internacionalización** de mi práctica docente y el desarrollo de competencias internacionales para mis estudiantes, ls cuales he estructurado con el siguiente enfoque:\n"
   ]
  },
  {
   "cell_type": "markdown",
   "id": "964d9de7-53ee-4255-9bcd-d8e6454f2993",
   "metadata": {},
   "source": [
    "### 1. **Visión Global en la Formación Académica**\n"
   ]
  },
  {
   "cell_type": "markdown",
   "id": "d9bdd3e2",
   "metadata": {},
   "source": [
    "   - **Competencias Internacionales**: Asegúrate de que el contenido de tus cursos fomente habilidades que sean reconocidas globalmente. Al educar a los estudiantes en **Python, LaTeX, Markdown y Jupyter Notebooks** y en la **introducción a la ciencia de datos y técnicas de Machine Learning**, estás proporcionando competencias altamente demandadas en los sectores tecnológicos y académicos a nivel internacional.\n"
   ]
  },
  {
   "cell_type": "markdown",
   "id": "39b55206",
   "metadata": {},
   "source": [
    "   - **Relevancia de los Contenidos**: Destaca cómo los temas que enseñas, como el **desarrollo del pensamiento computacional** y la **ciencia de datos**, están alineados con las necesidades globales actuales en diversas industrias, desde la tecnología hasta las ciencias naturales y sociales.\n"
   ]
  },
  {
   "cell_type": "markdown",
   "id": "a054599e",
   "metadata": {},
   "source": [
    "   - **Referencias a Estándares Internacionales**: Puedes vincular tu enseñanza a estándares internacionales de competencias en programación y ciencia de datos (por ejemplo, frameworks del **IEEE, ACM**, y estándares de la **data science** o la **computación en la nube**)."
   ]
  },
  {
   "cell_type": "markdown",
   "id": "0f1d110c-3142-48fe-9e7d-5fbd9e8bb931",
   "metadata": {},
   "source": [
    "### 2. **Innovación Pedagógica con Enfoque Internacional**\n"
   ]
  },
  {
   "cell_type": "markdown",
   "id": "96775931",
   "metadata": {
    "slideshow": {
     "slide_type": "slide"
    }
   },
   "source": [
    "## Título de la clase: Introducción a la teoría de conjuntos   \n",
    "\n",
    "[]()"
   ]
  },
  {
   "cell_type": "markdown",
   "id": "d81a0909",
   "metadata": {},
   "source": [
    "Dame, por favor, un diseño de clase, con el enfoques: STEAMS  y de aprendizaje basado en problemas y proyectos(ABPP); y de Teoría de Registros de Representación de Duval; sobre: **\"Teoría de conjuntos\"**, siguiendo la estructura:   \n",
    "\n",
    "1. Título de la clase   \n",
    "   \n",
    "2. Objetivo de aprendizaje e indicadores de logro de estos objetivos.   \n",
    "   Diseña la clase incluyendo objetivos de educación matemática basada en el pensamiento crítico.   \n",
    "\n",
    "3.  Un mapa conceptual que resuma la clase elaborado en Graphviz de Python con nodos y edges de diferentes formas, colores y rellenos y renderizado en la siguiente ubicación: `\"C:/Users/marco/Downloads\"`. No olvides el parámetro `view = True` para el método `render()` de Graphviz. Para este mapa controla las superposiciones de los nodos con: graph [overlap=false]; // Elimina superposiciones (puede aumentar el espacio)\n",
    "graph [overlap=\"scalexy\"]; // Escala el gráfico para evitar overlaps\n",
    "graph [overlap=\"compress\"]; // Comprime el grafo sin overlaps   \n",
    "   \n",
    "4. Contenido de la clase    \n",
    "   \n",
    "5. Incluye una canción o un poema que ayude a interiorizar y fijar los conceptos asociados a esta clase.  \n",
    "   \n",
    "6. Dame elementos históricos y epistemológicos asociados a esta clase, pero contados como un cuento al estilo de un cuentero antioqueño en Colombia. Incluye imágenes de los protagonistas históricos de esta clase.   \n",
    "   \n",
    "7. Actividades de aprendizaje    \n",
    "     * Incluya actividades de aprendizaje utilizando Calculadora **Casio 991 LA cw**\n",
    "     * Incluya también actividades de aprendizaje y modelación de situaciones o problemas reales a través de circuitos lógicos y circuitos digitales o electrónicos utilizando la aplicación portable cocodrilo. [Descargue esta aplicación portable aquí](https://crocodileclips.net/descargar-crocodile-clips/) \n",
    "     * Incluye actividades de aprendizaje utilizando lenguaje Python y Jupyter Notebook.   \n",
    "\n",
    "8. Incluye una canción o un poema que ayude a interiorizar y fijar los conceptos asociados a esta clase.  \n",
    "     "
   ]
  },
  {
   "cell_type": "markdown",
   "id": "536011ed",
   "metadata": {},
   "source": [
    "  \n",
    "9.  Tarea o actividades de ejercitación y fijación.  \n",
    "    * Diseña las tareas de tal manera que en cada ejercicio se realicen las siguientes cuatro preguntas:  \n",
    "        - ¿Por qué esta expresión representa el problema?\n",
    "        - ¿Qué pasaría si cambiamos este valor?\n",
    "        - ¿Hay otra manera de resolverlo?\n",
    "        - ¿Cómo justificas que tu resultado es razonable?  \n"
   ]
  },
  {
   "cell_type": "markdown",
   "id": "1efa31f7",
   "metadata": {},
   "source": [
    "    \n",
    "10.  Evaluación incluyendo diez proyectos, un ejemplo de quiz y un ejemplo de parcial.  \n",
    "     * Diseña el quiz con preguntas, donde se pida al estudiante el mostrar la aplicación de las expresiones lógicas en contextos: \n",
    "       - Deportivos\n",
    "       - Cotidianos\n",
    "       - Matemáticas en teoría de números \n",
    "       - Matemáticas en geometría euclidiana\n",
    "       - Matemática en Cálculo Diferencial.\n",
    "       - Económicos. \n",
    "     * Actividad de desarrollo de habilidades metacognitivas para hacernos consientes de nuestro propio proceso de aprendizaje y de la importancia de la evaluación continua.\n"
   ]
  },
  {
   "cell_type": "markdown",
   "id": "7a7fdfa9",
   "metadata": {},
   "source": [
    "# Proyecto 1  Introducción a la teoría de conjuntos con python\n"
   ]
  },
  {
   "cell_type": "markdown",
   "id": "74671a00",
   "metadata": {},
   "source": [
    "\n",
    "# **Proyecto de Aula: Introducción a la Teoría de Conjuntos con Python**  \n",
    "\n",
    "## **1. Datos Generales**  \n",
    "- **Asignatura:** Fundamentos de Lógica  \n",
    "- **Nivel:** Licenciatura en Matemáticas  \n",
    "- **Tema:** Introducción a la Teoría de Conjuntos con Python  \n",
    "- **Modalidad:** Video explicativo (20 minutos)  \n",
    "- **Herramienta Principal:** Python (Lenguaje de programación)  \n",
    "\n",
    "---\n"
   ]
  },
  {
   "cell_type": "markdown",
   "id": "1934804b",
   "metadata": {},
   "source": [
    "\n",
    "## **2. Objetivos del Proyecto**  \n",
    "\n",
    "### **Objetivo General**  \n",
    "Introducir los conceptos básicos de la teoría de conjuntos utilizando Python como herramienta de visualización y aplicación.  \n"
   ]
  },
  {
   "cell_type": "markdown",
   "id": "357a70c3",
   "metadata": {},
   "source": [
    "\n",
    "### **Objetivos Específicos**  \n",
    "1. Presentar los fundamentos de la teoría de conjuntos (definición, operaciones, propiedades).  \n",
    "2. Mostrar cómo implementar conjuntos y sus operaciones en Python.  \n",
    "3. Ilustrar ejemplos prácticos de aplicación en matemáticas.  \n",
    "4. Fomentar el uso de herramientas computacionales en el aprendizaje de conceptos abstractos.  \n",
    "\n",
    "---\n"
   ]
  },
  {
   "cell_type": "markdown",
   "id": "f2ef0cb0",
   "metadata": {},
   "source": [
    "\n",
    "## **3. Estructura del Video (20 minutos)**  \n",
    "\n",
    "| **Sección**            | **Duración** | **Contenido** |\n",
    "|------------------------|-------------|---------------|\n",
    "| **Introducción**       | 2 min       | Presentación del tema, motivación y objetivos. |\n",
    "| **Conceptos Básicos**  | 5 min       | Definición de conjunto, elementos, notación, conjuntos finitos e infinitos. |\n",
    "| **Operaciones con Conjuntos** | 6 min | Unión, intersección, diferencia, complemento y conjunto potencia. |\n",
    "| **Implementación en Python** | 5 min | Uso de `set()`, operaciones con conjuntos, ejemplos de código. |\n",
    "| **Aplicación y Cierre** | 2 min | Ejemplo integrador y conclusiones. |\n",
    "\n",
    "---\n"
   ]
  },
  {
   "cell_type": "markdown",
   "id": "6ae7740b",
   "metadata": {},
   "source": [
    "\n",
    "## **4. Desarrollo del Contenido**  \n",
    "\n",
    "### **A. Introducción (2 min)**  \n",
    "- Explicar la importancia de la teoría de conjuntos en matemáticas.  \n",
    "- Mostrar cómo Python puede ayudar a visualizar y manipular conjuntos.  \n"
   ]
  },
  {
   "cell_type": "markdown",
   "id": "15866689",
   "metadata": {},
   "source": [
    "\n",
    "### **B. Conceptos Básicos (5 min)**  \n",
    "- **Definición:** Un conjunto es una colección de elementos distintos.  \n",
    "- **Notación:** `A = {1, 2, 3}` (en Python: `A = {1, 2, 3}`).  \n",
    "- **Tipos de conjuntos:**  \n",
    "  - Finitos: `B = {a, b, c}`  \n",
    "  - Infinitos: `Números naturales (ℕ)`  \n"
   ]
  },
  {
   "cell_type": "code",
   "execution_count": 1,
   "id": "bf375543",
   "metadata": {},
   "outputs": [],
   "source": [
    "A = {1, 2, 3}"
   ]
  },
  {
   "cell_type": "code",
   "execution_count": 2,
   "id": "37ce5dfa",
   "metadata": {},
   "outputs": [
    {
     "data": {
      "text/plain": [
       "{1, 2, 3}"
      ]
     },
     "execution_count": 2,
     "metadata": {},
     "output_type": "execute_result"
    }
   ],
   "source": [
    "A "
   ]
  },
  {
   "cell_type": "code",
   "execution_count": 3,
   "id": "b23533c2",
   "metadata": {},
   "outputs": [
    {
     "data": {
      "text/plain": [
       "set"
      ]
     },
     "execution_count": 3,
     "metadata": {},
     "output_type": "execute_result"
    }
   ],
   "source": [
    "type(A)"
   ]
  },
  {
   "cell_type": "markdown",
   "id": "fddfd461",
   "metadata": {},
   "source": [
    "\n",
    "### **C. Operaciones con Conjuntos (6 min)**  \n",
    "1. **Unión (`A ∪ B`)** → `A.union(B)` o `A | B`  \n",
    "2. **Intersección (`A ∩ B`)** → `A.intersection(B)` o `A & B`  \n",
    "3. **Diferencia (`A - B`)** → `A.difference(B)` o `A - B`  \n",
    "4. **Complemento** (depende del universo definido).  \n",
    "5. **Conjunto Potencia** (todos los subconjuntos posibles).  \n"
   ]
  },
  {
   "cell_type": "code",
   "execution_count": 10,
   "id": "9248896f",
   "metadata": {},
   "outputs": [],
   "source": [
    "B = {1, 4, 5, 6, 2}"
   ]
  },
  {
   "cell_type": "code",
   "execution_count": 5,
   "id": "401e62b5",
   "metadata": {},
   "outputs": [
    {
     "data": {
      "text/plain": [
       "{1, 2, 3}"
      ]
     },
     "execution_count": 5,
     "metadata": {},
     "output_type": "execute_result"
    }
   ],
   "source": [
    "A "
   ]
  },
  {
   "cell_type": "code",
   "execution_count": 8,
   "id": "c3d3fb0b",
   "metadata": {},
   "outputs": [
    {
     "data": {
      "text/plain": [
       "{1, 2, 3, 4, 5, 6}"
      ]
     },
     "execution_count": 8,
     "metadata": {},
     "output_type": "execute_result"
    }
   ],
   "source": [
    "A.union(B)"
   ]
  },
  {
   "cell_type": "code",
   "execution_count": 11,
   "id": "15b7674f",
   "metadata": {},
   "outputs": [
    {
     "data": {
      "text/plain": [
       "{1, 2}"
      ]
     },
     "execution_count": 11,
     "metadata": {},
     "output_type": "execute_result"
    }
   ],
   "source": [
    "A.intersection(B)"
   ]
  },
  {
   "cell_type": "code",
   "execution_count": 12,
   "id": "f267d5f9",
   "metadata": {},
   "outputs": [
    {
     "data": {
      "text/plain": [
       "{3}"
      ]
     },
     "execution_count": 12,
     "metadata": {},
     "output_type": "execute_result"
    }
   ],
   "source": [
    "A.difference(B)"
   ]
  },
  {
   "cell_type": "markdown",
   "id": "5a5526cc",
   "metadata": {},
   "source": [
    "\n",
    "### **D. Implementación en Python (5 min)**  \n",
    "- Creación de conjuntos: "
   ]
  },
  {
   "cell_type": "code",
   "execution_count": 4,
   "id": "512cc34a",
   "metadata": {},
   "outputs": [],
   "source": [
    " \n",
    "A = {1, 2, 3, 4}\n",
    "B = {3, 4, 5, 6}\n",
    " "
   ]
  },
  {
   "cell_type": "markdown",
   "id": "88c704bf",
   "metadata": {},
   "source": [
    " \n",
    "- Operaciones básicas:  \n"
   ]
  },
  {
   "cell_type": "code",
   "execution_count": null,
   "id": "b155b342",
   "metadata": {},
   "outputs": [
    {
     "ename": "IndentationError",
     "evalue": "unexpected indent (2627241705.py, line 4)",
     "output_type": "error",
     "traceback": [
      "  \u001b[36mCell\u001b[39m\u001b[36m \u001b[39m\u001b[32mIn[5]\u001b[39m\u001b[32m, line 4\u001b[39m\n\u001b[31m    \u001b[39m\u001b[31m```\u001b[39m\n    ^\n\u001b[31mIndentationError\u001b[39m\u001b[31m:\u001b[39m unexpected indent\n"
     ]
    }
   ],
   "source": [
    "print(\"Unión:\", A | B)  \n",
    "print(\"Intersección:\", A & B)  \n",
    "print(\"Diferencia A-B:\", A - B)  \n",
    "   "
   ]
  },
  {
   "cell_type": "markdown",
   "id": "b47a7e0e",
   "metadata": {},
   "source": [
    " \n",
    "- Verificación de subconjuntos:  \n"
   ]
  },
  {
   "cell_type": "code",
   "execution_count": 3,
   "id": "9191652e",
   "metadata": {},
   "outputs": [
    {
     "ename": "NameError",
     "evalue": "name 'A' is not defined",
     "output_type": "error",
     "traceback": [
      "\u001b[31m---------------------------------------------------------------------------\u001b[39m",
      "\u001b[31mNameError\u001b[39m                                 Traceback (most recent call last)",
      "\u001b[36mCell\u001b[39m\u001b[36m \u001b[39m\u001b[32mIn[3]\u001b[39m\u001b[32m, line 2\u001b[39m\n\u001b[32m      1\u001b[39m C = {\u001b[32m1\u001b[39m, \u001b[32m2\u001b[39m}\n\u001b[32m----> \u001b[39m\u001b[32m2\u001b[39m \u001b[38;5;28mprint\u001b[39m(\u001b[33m\"\u001b[39m\u001b[33m¿C es subconjunto de A?\u001b[39m\u001b[33m\"\u001b[39m, C.issubset(\u001b[43mA\u001b[49m))  \n",
      "\u001b[31mNameError\u001b[39m: name 'A' is not defined"
     ]
    }
   ],
   "source": [
    "C = {1, 2}\n",
    "print(\"¿C es subconjunto de A?\", C.issubset(A))  \n",
    "  \n"
   ]
  },
  {
   "cell_type": "markdown",
   "id": "2c91c30d",
   "metadata": {},
   "source": [
    "\n",
    "### **E. Aplicación y Cierre (2 min)**  \n",
    "- Ejemplo práctico:  \n",
    "  *\"Dados dos conjuntos de estudiantes que aprobaron Álgebra y Cálculo, encontrar quiénes aprobaron ambas materias.\"*  \n",
    "- Reflexión sobre la utilidad de Python en matemáticas.  \n"
   ]
  },
  {
   "cell_type": "markdown",
   "id": "35cc4beb",
   "metadata": {},
   "source": [
    "\n",
    "\n",
    "## **5. Evaluación (Opcional)**  \n",
    "- **Actividad posterior al video:**  \n",
    "  - Plantear ejercicios para resolver con Python.  \n",
    "  - Cuestionario de preguntas sobre teoría y código.  \n",
    "\n",
    "---\n",
    "\n",
    "## **6. Recursos Necesarios**  \n",
    "- **Software:** Python (con Jupyter Notebook o IDE).  \n",
    "- **Bibliografía:**  \n",
    "  - Halmos, P. R. (1960). *Naive Set Theory*.  \n",
    "  - Documentación oficial de Python: [sets in Python](https://docs.python.org/3/tutorial/datastructures.html#sets).  \n",
    "\n"
   ]
  },
  {
   "cell_type": "markdown",
   "id": "089d3993",
   "metadata": {},
   "source": [
    "\n",
    "\n",
    "## **7. Conclusión**  \n",
    "Este proyecto busca integrar herramientas computacionales en el aprendizaje de la teoría de conjuntos, facilitando la comprensión mediante ejemplos interactivos.  \n"
   ]
  },
  {
   "cell_type": "markdown",
   "id": "d80bb47a",
   "metadata": {},
   "source": [
    "# **Proyecto de Aula: Introducción a la Teoría de Conjuntos con LaTeX**  \n",
    "\n",
    "## **1. Datos Generales**  \n",
    "- **Asignatura:** Fundamentos de Lógica  \n",
    "- **Nivel:** Licenciatura en Matemáticas  \n",
    "- **Tema:** Introducción a la Teoría de Conjuntos usando LaTeX  \n",
    "- **Modalidad:** Video explicativo (20 minutos)  \n",
    "- **Herramienta Principal:** LaTeX (para escritura matemática profesional)  \n",
    "\n"
   ]
  },
  {
   "cell_type": "markdown",
   "id": "1198da61",
   "metadata": {},
   "source": [
    "\n",
    "\n",
    "## **2. Objetivos del Proyecto**  \n",
    "\n",
    "### **Objetivo General**  \n",
    "Introducir los conceptos básicos de la teoría de conjuntos utilizando LaTeX para su representación formal y visualización clara.  \n",
    "\n",
    "### **Objetivos Específicos**  \n",
    "1. Presentar los fundamentos de la teoría de conjuntos (definiciones, operaciones, propiedades).  \n",
    "2. Enseñar cómo escribir notación de conjuntos en LaTeX de manera correcta y elegante.  \n",
    "3. Mostrar ejemplos de diagramas de Venn y otras representaciones gráficas en LaTeX.  \n",
    "4. Fomentar el uso de herramientas profesionales para la escritura matemática.  \n",
    "\n",
    "---\n",
    "\n",
    "## **3. Estructura del Video (20 minutos)**  \n",
    "\n",
    "| **Sección**               | **Duración** | **Contenido** |\n",
    "|---------------------------|-------------|---------------|\n",
    "| **Introducción**          | 2 min       | Presentación del tema, motivación y objetivos. |\n",
    "| **Conceptos Básicos**     | 5 min       | Definición de conjunto, notación matemática, tipos de conjuntos (finitos, infinitos, vacío). |\n",
    "| **Operaciones con Conjuntos** | 6 min    | Unión, intersección, diferencia, complemento, producto cartesiano (con ejemplos en LaTeX). |\n",
    "| **Representación en LaTeX** | 5 min    | Sintaxis básica, paquetes útiles (`amsmath`, `tikz` para diagramas), ejemplos prácticos. |\n",
    "| **Aplicación y Cierre**   | 2 min       | Ejemplo integrador (demostración de propiedades) y conclusiones. |\n",
    "\n",
    "---\n",
    "\n",
    "## **4. Desarrollo del Contenido**  \n",
    "\n",
    "### **A. Introducción (2 min)**  \n",
    "- Importancia de la teoría de conjuntos en matemáticas.  \n",
    "- Ventajas de usar LaTeX para escribir matemáticas con claridad y precisión.  \n",
    "\n",
    "### **B. Conceptos Básicos (5 min)**  \n",
    "- **Definición:** Un conjunto es una colección de objetos distintos.  \n",
    "- **Notación en LaTeX:**  \n",
    "  ```latex\n",
    "  A = \\{1, 2, 3\\}\n",
    "  \\mathbb{N} = \\{1, 2, 3, \\dots\\} % Conjunto de números naturales\n",
    "  \\emptyset % Conjunto vacío\n",
    "  ```  \n",
    "- **Tipos de conjuntos:**  \n",
    "  - Finitos: \\( A = \\{a, b, c\\} \\)  \n",
    "  - Infinitos: \\( \\mathbb{Z} = \\{\\dots, -2, -1, 0, 1, 2, \\dots\\} \\)  \n",
    "\n",
    "### **C. Operaciones con Conjuntos (6 min)**  \n",
    "1. **Unión (\\( A \\cup B \\))**  \n",
    "   ```latex\n",
    "   A \\cup B = \\{x \\mid x \\in A \\text{ o } x \\in B\\}\n",
    "   ```  \n",
    "2. **Intersección (\\( A \\cap B \\))**  \n",
    "   ```latex\n",
    "   A \\cap B = \\{x \\mid x \\in A \\text{ y } x \\in B\\}\n",
    "   ```  \n",
    "3. **Diferencia (\\( A \\setminus B \\))**  \n",
    "   ```latex\n",
    "   A \\setminus B = \\{x \\mid x \\in A \\text{ y } x \\notin B\\}\n",
    "   ```  \n",
    "4. **Complemento (\\( A^c \\))**  \n",
    "   ```latex\n",
    "   A^c = \\{x \\mid x \\notin A\\}\n",
    "   ```  \n",
    "5. **Producto Cartesiano (\\( A \\times B \\))**  \n",
    "   ```latex\n",
    "   A \\times B = \\{(a,b) \\mid a \\in A, b \\in B\\}\n",
    "   ```  \n"
   ]
  },
  {
   "cell_type": "markdown",
   "id": "8ca68aa5",
   "metadata": {},
   "source": [
    "\n",
    "### **D. Representación en LaTeX (5 min)**  \n",
    "- **Paquetes esenciales:**  \n",
    "  ```latex\n",
    "  \\usepackage{amsmath, amssymb} % Símbolos matemáticos\n",
    "  \\usepackage{tikz} % Para diagramas\n",
    "  ```  \n",
    "- **Diagramas de Venn:**  \n",
    "  ```latex\n",
    "  \\begin{tikzpicture}\n",
    "      \\draw (0,0) circle (1) node {$A$};\n",
    "      \\draw (1.5,0) circle (1) node {$B$};\n",
    "      \\node at (0.75,0) {$A \\cap B$};\n",
    "  \\end{tikzpicture}\n",
    "  ```  \n",
    "- **Conjuntos especiales:**  \n",
    "  ```latex\n",
    "  \\mathbb{N}, \\mathbb{Z}, \\mathbb{Q}, \\mathbb{R}, \\mathbb{C} % Números naturales, enteros, etc.\n",
    "  ```  \n"
   ]
  },
  {
   "cell_type": "markdown",
   "id": "5eeef985",
   "metadata": {},
   "source": [
    "\n",
    "### **E. Aplicación y Cierre (2 min)**  \n",
    "- **Ejemplo:** Demostrar que \\( (A \\cup B)^c = A^c \\cap B^c \\) (Leyes de De Morgan).  \n",
    "- **Conclusión:** LaTeX permite una escritura rigurosa y profesional de la teoría de conjuntos.  \n",
    "\n"
   ]
  },
  {
   "cell_type": "markdown",
   "id": "248b161d",
   "metadata": {},
   "source": [
    "\n",
    "\n",
    "## **5. Evaluación (Opcional)**  \n",
    "- **Actividad posterior al video:**  \n",
    "  - Ejercicios para practicar la escritura en LaTeX.  \n",
    "  - Cuestionario sobre notación y propiedades de conjuntos.  \n",
    "\n"
   ]
  },
  {
   "cell_type": "markdown",
   "id": "94821d01",
   "metadata": {},
   "source": [
    "\n",
    "\n",
    "## **6. Recursos Necesarios**  \n",
    "- **Software:** Editor LaTeX (Overleaf, TeXstudio, etc.).  \n",
    "- **Bibliografía:**  \n",
    "  - Grätzer, G. (2007). *Math into LaTeX*.  \n",
    "  - Documentación de `amsmath` y `tikz`.  \n",
    "\n",
    "---\n",
    "\n",
    "## **7. Conclusión**  \n",
    "Este proyecto integra la teoría de conjuntos con herramientas profesionales de escritura matemática, facilitando su aprendizaje formal.  \n",
    "\n",
    "**¿Necesitas algún ajuste o más ejemplos en LaTeX?** 😊"
   ]
  },
  {
   "cell_type": "markdown",
   "id": "9c193767",
   "metadata": {},
   "source": [
    "# Tarea de ejercitación en el uso de la notación de conjuntos en cuanto a las relaciones de pertenencia, inclusión e igualdad \n"
   ]
  },
  {
   "cell_type": "markdown",
   "id": "e6983bb2",
   "metadata": {},
   "source": [
    "\n",
    "Aquí tienes **30 ejercicios** sobre relaciones de **pertenencia (∈)**, **inclusión (⊆)** e **igualdad (=)** en teoría de conjuntos, organizados por nivel de dificultad. Incluyen desde problemas básicos hasta aplicaciones más avanzadas.  \n",
    "\n"
   ]
  },
  {
   "cell_type": "markdown",
   "id": "8f35c533",
   "metadata": {},
   "source": [
    "\n",
    "\n",
    "### **Ejercicios sobre Pertenencia (∈)**  \n",
    "**Nivel Básico**  \n",
    "1. Dado $ A = \\{1, \\{2\\}, 3\\} $, indica si las siguientes afirmaciones son verdaderas o falsas:  \n",
    "   a) $ 1 \\in A $  \n",
    "   b) $ \\{2\\} \\in A $  \n",
    "   c) $ 2 \\in A $  \n"
   ]
  },
  {
   "cell_type": "markdown",
   "id": "6dc7f118",
   "metadata": {},
   "source": [
    "\n",
    "2. Sea $B = \\{\\emptyset, \\{\\emptyset\\}\\}$. Determina:  \n",
    "   a) $ \\emptyset \\in B $  \n",
    "   b) $ \\{\\emptyset\\} \\in B $  \n",
    "   c) $\\{\\{\\emptyset\\}\\} \\in B$  \n"
   ]
  },
  {
   "cell_type": "markdown",
   "id": "9586676d",
   "metadata": {},
   "source": [
    "\n",
    "3. Si $ C = \\{x \\mid x \\text{ es un número primo menor que 10}\\}$, verifica:  \n",
    "   a) $5 \\in C$  \n",
    "   b) $ 4 \\in C$  \n"
   ]
  },
  {
   "cell_type": "markdown",
   "id": "d6eaf838",
   "metadata": {},
   "source": [
    "\n",
    "**Nivel Intermedio**  \n",
    "4. Dado $D = \\{a, \\{b, c\\}, \\{\\{d\\}\\}\\}$, ¿cuáles de estos elementos pertenecen a $D$?  \n",
    "   a) $a$  \n",
    "   b) $\\{b, c\\}$  \n",
    "   c) $\\{\\{d\\}\\}$  \n",
    "   d) $d$  \n"
   ]
  },
  {
   "cell_type": "markdown",
   "id": "e484f7ac",
   "metadata": {},
   "source": [
    "\n",
    "5. Sea $E = \\{\\{1, 2\\}, \\{3\\}\\}$. Explica por qué $1 \\notin E$ pero $\\{1, 2\\} \\in E$.  \n",
    "\n"
   ]
  },
  {
   "cell_type": "markdown",
   "id": "14a228f8",
   "metadata": {},
   "source": [
    "\n",
    "\n",
    "### **Ejercicios sobre Inclusión (⊆)**  \n",
    "**Nivel Básico**  \n",
    "6. Dados \\( A = \\{1, 2\\} \\) y \\( B = \\{1, 2, 3\\} \\), comprueba si:  \n",
    "   a) \\( A \\subseteq B \\)  \n",
    "   b) \\( B \\subseteq A \\)  \n"
   ]
  },
  {
   "cell_type": "markdown",
   "id": "4c5b58f4",
   "metadata": {},
   "source": [
    "\n",
    "7. Sea \\( C = \\{\\emptyset\\} \\). ¿Es cierto que \\( \\emptyset \\subseteq C \\)? ¿Y que \\( \\emptyset \\in C \\)?  \n",
    "\n",
    "8. Si \\( D = \\{x \\mid x \\text{ es par}\\} \\) y \\( E = \\{2, 4, 6\\} \\), prueba que \\( E \\subseteq D \\).  \n",
    "\n",
    "**Nivel Intermedio**  \n",
    "9. Dado \\( F = \\{1, \\{2\\}\\} \\), determina todos los subconjuntos de \\( F \\) (su **conjunto potencia**).  \n",
    "\n",
    "10. Sean \\( A = \\{1, 2\\} \\) y \\( B = \\{1, \\{2\\}\\} \\). Explica por qué \\( A \\not\\subseteq B \\) a pesar de que \\( 1 \\in B \\).  \n",
    "\n",
    "11. Demuestra que para cualquier conjunto \\( A \\), \\( \\emptyset \\subseteq A \\).  \n",
    "\n"
   ]
  },
  {
   "cell_type": "markdown",
   "id": "1d98ff64",
   "metadata": {},
   "source": [
    "\n",
    "\n",
    "### **Ejercicios sobre Igualdad (=)**  \n",
    "**Nivel Básico**  \n",
    "12. Determina si \\( \\{a, b\\} = \\{b, a\\} \\). Justifica.  \n",
    "\n",
    "13. ¿Son iguales \\( \\{1, 2, 3\\} \\) y \\( \\{3, 2, 1, 2\\} \\)?  \n",
    "\n",
    "14. Dados \\( A = \\{x \\mid x^2 = 4\\} \\) y \\( B = \\{-2, 2\\} \\), prueba que \\( A = B \\).  \n",
    "\n",
    "**Nivel Intermedio**  \n",
    "15. Sean \\( C = \\{\\emptyset\\} \\) y \\( D = \\{\\{\\emptyset\\}\\} \\). ¿Es \\( C = D \\)? Explica.  \n",
    "\n",
    "16. Si \\( A = \\{1, 2\\} \\) y \\( B = \\{1, 2, \\{1, 2\\}\\} \\), ¿por qué \\( A \\neq B \\)?  \n",
    "\n",
    "17. Demuestra que \\( A = B \\) si y solo si \\( A \\subseteq B \\) y \\( B \\subseteq A \\).  \n",
    "\n"
   ]
  },
  {
   "cell_type": "markdown",
   "id": "72637702",
   "metadata": {},
   "source": [
    "\n",
    "\n",
    "### **Ejercicios Combinados**  \n",
    "18. Dado \\( S = \\{\\emptyset, \\{\\emptyset\\}\\} \\), indica si son verdaderas:  \n",
    "   a) \\( \\emptyset \\in S \\)  \n",
    "   b) \\( \\emptyset \\subseteq S \\)  \n",
    "   c) \\( \\{\\emptyset\\} \\subseteq S \\)  \n",
    "\n",
    "19. Sean \\( A = \\{1, 2\\} \\), \\( B = \\{1, 2, 3\\} \\), \\( C = \\{3\\} \\). Verifica:  \n",
    "   a) \\( A \\subseteq B \\)  \n",
    "   b) \\( C \\subseteq B \\)  \n",
    "   c) \\( A \\not\\subseteq C \\)  \n",
    "\n",
    "20. Si \\( P = \\{\\{1\\}, \\{2\\}\\} \\) y \\( Q = \\{\\{1, 2\\}\\} \\), ¿existe algún elemento común entre \\( P \\) y \\( Q \\)?  \n",
    "\n"
   ]
  },
  {
   "cell_type": "markdown",
   "id": "5621801f",
   "metadata": {},
   "source": [
    "\n",
    "\n",
    "### **Ejercicios de Aplicación y Demostración**  \n",
    "21. **Propiedad transitiva**: Si \\( A \\subseteq B \\) y \\( B \\subseteq C \\), demuestra que \\( A \\subseteq C \\).  \n",
    "\n",
    "22. **Unión e inclusión**: Prueba que para cualquier conjunto \\( A \\) y \\( B \\), \\( A \\subseteq A \\cup B \\).  \n",
    "\n",
    "23. **Igualdad con complementos**: Si \\( A \\cup B = U \\) (universo) y \\( A \\cap B = \\emptyset \\), demuestra que \\( B = A^c \\).  \n",
    "\n",
    "24. **Conjunto potencia**: Dado \\( A = \\{a, b\\} \\), lista todos los elementos de \\( \\mathcal{P}(A) \\) (su conjunto potencia).  \n",
    "\n",
    "25. **Cardinalidad**: Si \\( A \\) tiene \\( n \\) elementos, ¿cuántos subconjuntos tiene \\( A \\)?  \n",
    "\n"
   ]
  },
  {
   "cell_type": "markdown",
   "id": "8cd7d657",
   "metadata": {},
   "source": [
    "\n",
    "\n",
    "### **Ejercicios Avanzados**  \n",
    "26. **Paradoja de Russell**: Explica por qué no existe el \"conjunto de todos los conjuntos\".  \n",
    "\n",
    "27. **Producto cartesiano**: Si \\( A = \\{1\\} \\) y \\( B = \\{a, b\\} \\), escribe \\( A \\times B \\) y verifica si \\( (1, a) \\in A \\times B \\).  \n",
    "\n",
    "28. **Familia de conjuntos**: Dada la familia \\( \\mathcal{F} = \\{\\{1\\}, \\{2, 3\\}\\} \\), ¿es \\( \\bigcup \\mathcal{F} = \\{1, 2, 3\\} \\)?  \n",
    "\n",
    "29. **Diferencias simétricas**: Define \\( A \\Delta B = (A \\setminus B) \\cup (B \\setminus A) \\). Si \\( A = \\{1, 2\\} \\) y \\( B = \\{2, 3\\} \\), calcula \\( A \\Delta B \\).  \n",
    "\n",
    "30. **Generalización**: Demuestra que \\( A = B \\) si y solo si para todo conjunto \\( X \\), \\( (X \\subseteq A) \\Leftrightarrow (X \\subseteq B) \\).  \n",
    "\n"
   ]
  },
  {
   "cell_type": "markdown",
   "id": "1ffaac5f",
   "metadata": {},
   "source": [
    "\n",
    "\n",
    "### **Soluciones Breves**  \n",
    "*(Algunos ejemplos)*:  \n",
    "1. a) **Verdadero** (1 es elemento de \\( A \\)).  \n",
    "2. a) **Verdadero** (\\(\\emptyset\\) es elemento de \\( B \\)).  \n",
    "7. **Sí** (\\(\\emptyset\\) es subconjunto de todo conjunto).  \n",
    "14. **Sí** (ambos conjuntos contienen \\(-2\\) y \\(2\\)).  \n",
    "24. $\\mathcal{P}(A) = \\{\\emptyset, \\{a\\}, \\{b\\}, \\{a, b\\}\\}$.  \n",
    "\n"
   ]
  },
  {
   "cell_type": "markdown",
   "id": "36680eb2",
   "metadata": {},
   "source": [
    "\n",
    "\n",
    "**Nota:** Estos ejercicios cubren desde conceptos introductorios hasta propiedades formales. "
   ]
  },
  {
   "cell_type": "markdown",
   "id": "7a4f54b1",
   "metadata": {},
   "source": [
    "\n",
    "11.  Diseño de actividad de retroalimentación.  \n",
    "      \n"
   ]
  },
  {
   "cell_type": "markdown",
   "id": "dc4e43cc",
   "metadata": {},
   "source": [
    "12.  Dame un vocabulario y frases del idioma inglés asociadas a esta clase.   \n",
    "  "
   ]
  },
  {
   "cell_type": "markdown",
   "id": "cbee6503",
   "metadata": {},
   "source": [
    "  \n",
    "13.  Incluye apéndice para la clase sobre desarrollo de habilidades para trabajar en equipo y de asertividad y empatía para relacionarnos. También elementos de la inteligencia emocional para presentar pruebas sin temor y desarrollar habilidades metacognitivas.   \n",
    "  "
   ]
  },
  {
   "cell_type": "markdown",
   "id": "f55bf66e",
   "metadata": {},
   "source": [
    "    \n",
    "14. Incluye 10 referentes en didáctica de la matemática que estén de acuerdo a la propuesta didáctica de esta clase. Adiciona a estos referentes a Raymond Duval (Representaciones y cambios de representación para la adquisición de conceptos matemáticos) y a Jeannette Wing (Desarrollo del pensamiento computacional). Déjame todos estos referentes ordenados de acuerdo a las normas APA. Déjame todos estos referentes ordenados de acuerdo a las normas APA. Incluye las citaciones a estos referentes a medida que vallas diseñando la clase. \n",
    "\n",
    "\n",
    "Pero  que este diseño sea para que el estudiante pueda aprender experimentando en cuadernos Jupyter con funciones de usuario y animaciones y visualizaciones en Python. En particular utiliza para el diseño de clase a NumPy, Pandas, SymPy, Matplotlib.pyplot, Seaborn, Plotly, ipywidgets, matplotlib.animation y Jupyter Notebook.  \n",
    "Cuando vallas a utilizar SymPy, ten en cuanta la siguiente configuración: \n",
    "# Corrección y mejora del código\n",
    "from sympy import symbols, Equivalent\n",
    "from sympy.logic.boolalg import truth_table\n",
    "\n",
    "Cada vez que utilices `matplotlib.animacion` no olvides incluir el uso de `IPython. display` para la renderización de estas animaciones a través de Jupyter Notebook. No olvides darme los diseños de clase con las ecuaciones matemáticas delimitadas con signo de dólar $ para que VS Code si me renderice estas expresiones del lenguaje latex. Cuando vallas a utilizar ipywidgets ten en cuenta la siguiente importación inicial para garantizar que la visualización interactiva si se renderice en VS Code:                                                      \n",
    "import numpy as np\n",
    "import matplotlib.pyplot as plt\n",
    "import ipywidgets as widgets\n",
    "from IPython.display import display, clear_output\n",
    "from matplotlib.patches import Rectangle\n",
    "\n",
    "# Configuración inicial para visualización estática\n",
    "%matplotlib inline "
   ]
  },
  {
   "cell_type": "markdown",
   "id": "c8e12c3e",
   "metadata": {},
   "source": [
    "# Diseño de Clase: Teoría de Conjuntos con Enfoque STEAMS y ABPP\n"
   ]
  },
  {
   "cell_type": "markdown",
   "id": "a473781f",
   "metadata": {},
   "source": [
    "\n",
    "## 1. Título de la clase\n",
    "**\"Explorando el Universo de los Conjuntos: De la Abstracción a la Aplicación en el Mundo Real\"**\n",
    "\n",
    "## 2. Objetivos de aprendizaje e indicadores de logro\n"
   ]
  },
  {
   "cell_type": "markdown",
   "id": "4d746f80",
   "metadata": {},
   "source": [
    "\n",
    "### Objetivos:\n",
    "- Comprender los fundamentos de la teoría de conjuntos y sus representaciones múltiples (Duval)\n",
    "- Aplicar conceptos de conjuntos en la resolución de problemas reales (ABPP)\n",
    "- Desarrollar pensamiento computacional mediante visualizaciones interactivas (Wing)\n",
    "- Fomentar la interdisciplinariedad a través del enfoque STEAMS\n"
   ]
  },
  {
   "cell_type": "markdown",
   "id": "a751c4d9",
   "metadata": {},
   "source": [
    "\n",
    "### Indicadores de logro:\n",
    "- Representa conjuntos mediante diagramas de Venn, notación matemática y estructuras de datos en Python\n",
    "- Resuelve problemas de intersección, unión y diferencia de conjuntos utilizando diferentes registros\n",
    "- Modela situaciones reales usando teoría de conjuntos y circuitos lógicos\n",
    "- Crea visualizaciones interactivas que ilustren operaciones entre conjuntos\n"
   ]
  },
  {
   "cell_type": "markdown",
   "id": "0c0506bf",
   "metadata": {},
   "source": [
    "\n",
    "### Objetivos de pensamiento crítico:\n",
    "- Analizar la relación entre teoría de conjuntos y estructuras lógicas\n",
    "- Evaluar la pertinencia de diferentes representaciones para distintos problemas\n",
    "- Justificar la elección de métodos de solución basados en criterios matemáticos\n"
   ]
  },
  {
   "cell_type": "markdown",
   "id": "eb139d76",
   "metadata": {},
   "source": [
    "\n",
    "## 3. Mapa Conceptual (Graphviz)\n"
   ]
  },
  {
   "cell_type": "code",
   "execution_count": 6,
   "id": "bcc96f9c",
   "metadata": {},
   "outputs": [
    {
     "data": {
      "text/plain": [
       "'C:\\\\Users\\\\marco\\\\Downloads\\\\TeoriaConjuntos.gv.png'"
      ]
     },
     "execution_count": 6,
     "metadata": {},
     "output_type": "execute_result"
    }
   ],
   "source": [
    "\n",
    "from graphviz import Digraph\n",
    "\n",
    "# Creación del mapa conceptual\n",
    "graph = Digraph('TeoriaConjuntos', filename='C:/Users/marco/Downloads/TeoriaConjuntos.gv', format='png')\n",
    "graph.attr(overlap='scalexy', rankdir='TB', splines='true')\n",
    "\n",
    "# Configuración general\n",
    "graph.attr('node', shape='ellipse', style='filled', color='lightblue2')\n",
    "graph.attr('edge', color='gray50')\n",
    "\n",
    "# Nodos principales\n",
    "graph.node('TC', 'Teoría de Conjuntos', shape='doubleoctagon', color='dodgerblue', fillcolor='lightblue1')\n",
    "graph.node('DEF', 'Definiciones\\n• Conjunto\\n• Elemento\\n• Pertenencia', shape='box3d', fillcolor='lightyellow')\n",
    "graph.node('OPE', 'Operaciones\\n• Unión\\n• Intersección\\n• Diferencia\\n• Complemento', shape='parallelogram', fillcolor='lavender')\n",
    "graph.node('REP', 'Representaciones\\n• Notación\\n• Diagramas\\n• Python\\n• Circuitos', shape='component', fillcolor='mistyrose')\n",
    "graph.node('APL', 'Aplicaciones\\n• Lógica\\n• Bases de datos\\n• Probabilidad\\n• Electrónica', shape='folder', fillcolor='palegreen')\n",
    "\n",
    "# Conexiones\n",
    "graph.edge('TC', 'DEF')\n",
    "graph.edge('TC', 'OPE')\n",
    "graph.edge('TC', 'REP')\n",
    "graph.edge('TC', 'APL')\n",
    "\n",
    "# Subnodos\n",
    "with graph.subgraph(name='cluster_rep') as c:\n",
    "    c.attr(color='blue', label='Registros de Representación (Duval)')\n",
    "    c.node('NOT', 'Notación Matemática\\nA = {x | x ∈ ℕ, x < 5}', shape='note')\n",
    "    c.node('DIA', 'Diagramas de Venn', shape='egg')\n",
    "    c.node('PYT', 'Estructuras Python\\nset(), frozenset()', shape='cylinder')\n",
    "    c.node('CIR', 'Circuitos Lógicos', shape='rect')\n",
    "    c.edges([('REP', 'NOT'), ('REP', 'DIA'), ('REP', 'PYT'), ('REP', 'CIR')])\n",
    "\n",
    "# Renderizar\n",
    "graph.render(view=True)\n",
    "\n"
   ]
  },
  {
   "cell_type": "markdown",
   "id": "7feb9e70",
   "metadata": {},
   "source": [
    "\n",
    "## 4. Contenido de la clase\n",
    "\n",
    "### 4.1 Fundamentos de Teoría de Conjuntos\n",
    "- **Conceptos básicos**: $A = \\{x | x \\text{ es par}\\}$, $B = \\{1, 2, 3\\}$\n",
    "- **Operaciones**:\n",
    "  - Unión: $A \\cup B = \\{x | x \\in A \\lor x \\in B\\}$\n",
    "  - Intersección: $A \\cap B = \\{x | x \\in A \\land x \\in B\\}$\n",
    "  - Diferencia: $A \\setminus B = \\{x | x \\in A \\land x \\notin B\\}$\n"
   ]
  },
  {
   "cell_type": "markdown",
   "id": "f6a4d189",
   "metadata": {},
   "source": [
    "\n",
    "### 4.2 Representaciones Múltiples (Duval)\n"
   ]
  },
  {
   "cell_type": "code",
   "execution_count": 1,
   "id": "62e0adc2",
   "metadata": {},
   "outputs": [
    {
     "ename": "ModuleNotFoundError",
     "evalue": "No module named 'matplotlib_venn'",
     "output_type": "error",
     "traceback": [
      "\u001b[31m---------------------------------------------------------------------------\u001b[39m",
      "\u001b[31mModuleNotFoundError\u001b[39m                       Traceback (most recent call last)",
      "\u001b[36mCell\u001b[39m\u001b[36m \u001b[39m\u001b[32mIn[1]\u001b[39m\u001b[32m, line 2\u001b[39m\n\u001b[32m      1\u001b[39m \u001b[38;5;28;01mimport\u001b[39;00m\u001b[38;5;250m \u001b[39m\u001b[34;01mmatplotlib\u001b[39;00m\u001b[34;01m.\u001b[39;00m\u001b[34;01mpyplot\u001b[39;00m\u001b[38;5;250m \u001b[39m\u001b[38;5;28;01mas\u001b[39;00m\u001b[38;5;250m \u001b[39m\u001b[34;01mplt\u001b[39;00m\n\u001b[32m----> \u001b[39m\u001b[32m2\u001b[39m \u001b[38;5;28;01mfrom\u001b[39;00m\u001b[38;5;250m \u001b[39m\u001b[34;01mmatplotlib_venn\u001b[39;00m\u001b[38;5;250m \u001b[39m\u001b[38;5;28;01mimport\u001b[39;00m venn2\n\u001b[32m      4\u001b[39m \u001b[38;5;66;03m# Visualización con Matplotlib\u001b[39;00m\n\u001b[32m      5\u001b[39m fig, ax = plt.subplots(figsize=(\u001b[32m8\u001b[39m,\u001b[32m6\u001b[39m))\n",
      "\u001b[31mModuleNotFoundError\u001b[39m: No module named 'matplotlib_venn'"
     ]
    }
   ],
   "source": [
    "\n",
    "import matplotlib.pyplot as plt\n",
    "from matplotlib_venn import venn2\n",
    "\n",
    "# Visualización con Matplotlib\n",
    "fig, ax = plt.subplots(figsize=(8,6))\n",
    "venn2(subsets=(3, 2, 1), set_labels=('A', 'B'))\n",
    "ax.set_title('Diagrama de Venn: A ∩ B')\n",
    "plt.show()\n",
    "\n"
   ]
  },
  {
   "cell_type": "markdown",
   "id": "6c209312",
   "metadata": {},
   "source": [
    "\n",
    "### 4.3 Aplicaciones Interdisciplinares (STEAMS)\n",
    "- **Ciencia**: Clasificación de especies\n",
    "- **Tecnología**: Bases de datos relacionales\n",
    "- **Ingeniería**: Diseño de circuitos lógicos\n",
    "- **Artes**: Teoría del color\n",
    "- **Matemáticas**: Probabilidad\n",
    "- **Sociedad**: Organización demográfica\n"
   ]
  },
  {
   "cell_type": "markdown",
   "id": "54e35e4f",
   "metadata": {},
   "source": [
    "\n",
    "## 5. Canción/Poema de Aprendizaje\n",
    "\n",
    "**\"El Son de los Conjuntos\"** (Adaptación de son cubano)\n",
    "\n",
    "```\n",
    "En el universo de las matemáticas,\n",
    "los conjuntos son como familias,\n",
    "unión es abrazo, intersección mirada,\n",
    "diferencia lo que nos separa.\n",
    "\n",
    "¡Ay, conjunto vacío! Tan solo estás,\n",
    "pero eres base de toda verdad,\n",
    "con complemento te llenas de luz,\n",
    "como el sol que brilla en Cartagena.\n",
    "```\n"
   ]
  },
  {
   "cell_type": "markdown",
   "id": "b0cf46a8",
   "metadata": {},
   "source": [
    "\n",
    "## 6. Historia Epistemológica (Estilo Cuentero Antioqueño)\n",
    "\n",
    "*\"¡A ver, muchachos! Agárrense de las mechas que les voy a contar la historia de cómo don Georg Cantor, un alemán con más berraquera que un arriero antioqueño, se le midió a domar el infinito...\"*\n",
    "\n",
    "![Georg Cantor](https://upload.wikimedia.org/wikipedia/commons/thumb/5/55/Georg_Cantor_%281845-1918%29.jpg/220px-Georg_Cantor_%281845-1918%29.jpg)\n",
    "\n",
    "*\"Resulta que este señor, en los años 1870, andaba como loco con los números y dijo: '¡Esto de los conjuntos es más bueno que un sancocho pa' resolver problemas!'. Y así fue como nació la teoría que hoy nos tiene aquí...\"*\n",
    "\n",
    "*\"Pero no crean que fue fácil, ¡qué va! Los matemáticos de la época le dijeron que eso era pura 'paja mental'. Hasta el mismo Poincaré, que era como el profesor Jirafales de las matemáticas, dijo que las ideas de Cantor eran una 'enfermedad'...\"*\n",
    "\n",
    "*\"Pero miren cómo es la vida, hoy hasta los computadores funcionan con esa teoría. ¡Eso es tener visión, como la de nuestros cafeteros cuando sembraron el primer grano!\"*\n",
    "\n",
    "## 7. Actividades de Aprendizaje\n",
    "\n",
    "### 7.1 Con Calculadora Casio 991 LA cw\n",
    "- **Actividad**: Calcular cardinalidad de conjuntos definidos por condiciones\n",
    "  - $\\{x \\in \\mathbb{N} | x < 100 \\land \\text{es primo}\\}$\n",
    "  - Usar función `PRIME` para verificación\n",
    "\n",
    "### 7.2 Con Crocodile Clips (Circuitos Lógicos)\n",
    "- Modelar operaciones de conjuntos como compuertas lógicas:\n",
    "  - Unión = OR\n",
    "  - Intersección = AND\n",
    "  - Complemento = NOT\n",
    "\n",
    "### 7.3 Con Python en Jupyter Notebook\n",
    "```python\n",
    "import ipywidgets as widgets\n",
    "from IPython.display import display\n",
    "import matplotlib.pyplot as plt\n",
    "from matplotlib_venn import venn2, venn3\n",
    "\n",
    "# Interactivo con ipywidgets\n",
    "def operaciones_conjuntos(operacion, mostrar_tabla):\n",
    "    A = {1, 2, 3, 4}\n",
    "    B = {3, 4, 5, 6}\n",
    "    \n",
    "    fig, ax = plt.subplots(figsize=(8, 6))\n",
    "    \n",
    "    if operacion == 'Unión':\n",
    "        resultado = A | B\n",
    "        venn2([A, B], set_labels=('A', 'B'), ax=ax)\n",
    "    elif operacion == 'Intersección':\n",
    "        resultado = A & B\n",
    "        venn2([A, B], set_labels=('A', 'B'), ax=ax)\n",
    "    elif operacion == 'Diferencia':\n",
    "        resultado = A - B\n",
    "        venn2([A, B], set_labels=('A', 'B'), ax=ax)\n",
    "    \n",
    "    ax.set_title(f'A {operacion} B = {resultado}')\n",
    "    plt.show()\n",
    "    \n",
    "    if mostrar_tabla:\n",
    "        from pandas import DataFrame\n",
    "        elementos = sorted(A.union(B))\n",
    "        tabla = DataFrame({\n",
    "            'Elemento': elementos,\n",
    "            'En A': [e in A for e in elementos],\n",
    "            'En B': [e in B for e in elementos],\n",
    "            f'En A {operacion} B': [e in resultado for e in elementos]\n",
    "        })\n",
    "        display(tabla)\n",
    "\n",
    "widgets.interact(operaciones_conjuntos,\n",
    "                 operacion=['Unión', 'Intersección', 'Diferencia'],\n",
    "                 mostrar_tabla=False)\n",
    "```\n",
    "\n",
    "## 8. Tareas de Ejercitación\n",
    "\n",
    "**Problema 1**: Dados $A = \\{x \\in \\mathbb{N} | x \\text{ es múltiplo de 3}, x < 20\\}$ y $B = \\{x \\in \\mathbb{N} | x \\text{ es par}, x < 15\\}$\n",
    "\n",
    "1. Representa ambos conjuntos en notación por extensión\n",
    "2. Calcula $A \\cup B$, $A \\cap B$, $A \\setminus B$\n",
    "3. Representa las operaciones con diagramas de Venn usando Python\n",
    "\n",
    "**Preguntas críticas**:\n",
    "- ¿Por qué la unión de A y B incluye elementos que no están en ambos conjuntos?\n",
    "- ¿Qué pasaría si cambiamos la condición de A a \"x es múltiplo de 5\"?\n",
    "- ¿Hay otra manera de representar estos conjuntos sin usar comprensión?\n",
    "- ¿Cómo verificas que tu solución es correcta?\n",
    "\n",
    "## 9. Evaluación\n",
    "\n",
    "### Proyectos:\n",
    "1. Modelar un sistema de recomendación usando operaciones de conjuntos\n",
    "2. Diseñar circuitos lógicos para operaciones entre conjuntos\n",
    "3. Crear visualización interactiva de álgebra de conjuntos\n",
    "4. Aplicar teoría de conjuntos a clasificación de datos reales\n",
    "5. Analizar obras artísticas desde la perspectiva de conjuntos\n",
    "\n",
    "### Quiz Ejemplo:\n",
    "**Pregunta 1 (Contexto deportivo)**:\n",
    "En un torneo, 120 jugadores practican fútbol, 75 practican baloncesto y 30 practican ambos. Representa esta situación con diagramas de Venn y calcula:\n",
    "- ¿Cuántos practican solo fútbol?\n",
    "- ¿Cuántos practican al menos un deporte?\n",
    "\n",
    "**Pregunta 2 (Contexto económico)**:\n",
    "Un estudio de mercado encontró que:\n",
    "- 60% usa producto A\n",
    "- 50% usa producto B\n",
    "- 30% usa ambos\n",
    "¿Qué porcentaje no usa ninguno de los dos productos?\n",
    "\n",
    "## 10. Vocabulario en Inglés\n",
    "\n",
    "- **Set**: Conjunto\n",
    "- **Element**: Elemento\n",
    "- **Union**: Unión\n",
    "- **Intersection**: Intersección\n",
    "- **Subset**: Subconjunto\n",
    "- **Empty set**: Conjunto vacío\n",
    "- **Cardinality**: Cardinalidad\n",
    "- **Venn diagram**: Diagrama de Venn\n",
    "- **Set comprehension**: Notación por comprensión\n",
    "- **Power set**: Conjunto potencia\n",
    "\n",
    "## 11. Referentes en Didáctica (APA)\n",
    "\n",
    "1. Duval, R. (2006). A cognitive analysis of problems of comprehension in a learning of mathematics. Educational Studies in Mathematics, 61(1-2), 103-131.\n",
    "\n",
    "2. Wing, J. M. (2006). Computational thinking. Communications of the ACM, 49(3), 33-35.\n",
    "\n",
    "3. Polya, G. (1945). How to solve it. Princeton University Press.\n",
    "\n",
    "4. Schoenfeld, A. H. (1985). Mathematical Problem Solving. Academic Press.\n",
    "\n",
    "5. National Research Council. (2000). How People Learn: Brain, Mind, Experience, and School. National Academies Press.\n",
    "\n",
    "6. Boaler, J. (2016). Mathematical Mindsets: Unleashing Students' Potential through Creative Math, Inspiring Messages and Innovative Teaching. Jossey-Bass.\n",
    "\n",
    "7. Hiebert, J., & Carpenter, T. P. (1992). Learning and teaching with understanding. Handbook of research on mathematics teaching and learning, 65-97.\n",
    "\n",
    "8. Lesh, R., & Doerr, H. M. (2003). Beyond constructivism: Models and modeling perspectives on mathematics problem solving, learning, and teaching. Routledge.\n",
    "\n",
    "9. Kaput, J. J. (1992). Technology and mathematics education. Handbook of research on mathematics teaching and learning, 515-556.\n",
    "\n",
    "10. Gravemeijer, K. (1999). How emergent models may foster the constitution of formal mathematics. Mathematical Thinking and Learning, 1(2), 155-177.\n",
    "\n",
    "## 12. Apéndice: Habilidades Blandas\n",
    "\n",
    "**Trabajo en Equipo**:\n",
    "- Asignación de roles claros (coordinador, verificador, documentador)\n",
    "- Protocolos para resolución de conflictos\n",
    "- Retroalimentación constructiva usando técnica \"sandwich\"\n",
    "\n",
    "**Inteligencia Emocional**:\n",
    "- Técnicas de respiración para manejo de ansiedad ante evaluaciones\n",
    "- Diario metacognitivo: \"Hoy aprendí...\", \"Todavía tengo dudas sobre...\"\n",
    "- Visualización de éxito antes de pruebas\n",
    "\n",
    "**Ejercicio Metacognitivo**:\n",
    "```python\n",
    "def reflexion_aprendizaje():\n",
    "    preguntas = [\n",
    "        \"¿Qué concepto me resultó más difícil hoy?\",\n",
    "        \"¿Cómo relaciono esto con lo que ya sabía?\",\n",
    "        \"¿En qué situaciones cotidianas podría aplicar esto?\",\n",
    "        \"¿Qué estrategia me funcionó mejor para entender?\"\n",
    "    ]\n",
    "    \n",
    "    for i, pregunta in enumerate(preguntas, 1):\n",
    "        respuesta = input(f\"{i}. {pregunta}\\nRespuesta: \")\n",
    "        print()\n",
    "    \n",
    "    print(\"¡Reflexión completa! Revisa tus respuestas periódicamente.\")\n",
    "\n",
    "reflexion_aprendizaje()\n",
    "```\n",
    "\n",
    "Este diseño integra los enfoques solicitados, utilizando herramientas tecnológicas para crear experiencias de aprendizaje activo y significativo, mientras desarrolla tanto habilidades matemáticas como competencias transversales."
   ]
  },
  {
   "cell_type": "markdown",
   "id": "8853d874",
   "metadata": {},
   "source": [
    "## El componente histórico y epistemológico  \n",
    "\n",
    "Aquí tienes los componentes históricos y epistemológicos para la clase:  \n"
   ]
  },
  {
   "cell_type": "markdown",
   "id": "57bbda16",
   "metadata": {},
   "source": [
    "\n",
    "**Componentes históricos:**  \n",
    "1. **Orígenes filosóficos de la teoría de conjuntos:** Desde la antigüedad, filósofos como Aristóteles establecieron nociones sobre la clasificación de objetos y la pertenencia a categorías, conceptos fundamentales para la teoría de conjuntos."
   ]
  },
  {
   "cell_type": "markdown",
   "id": "de45e7aa",
   "metadata": {},
   "source": [
    "  \n",
    "2. **Georg Cantor y la formalización moderna:** A finales del siglo XIX, Cantor desarrolló la teoría de conjuntos como una rama de la matemática formal, introduciendo conceptos como cardinalidad e infinitos numerables y no numerables. "
   ]
  },
  {
   "cell_type": "markdown",
   "id": "3f824eba",
   "metadata": {},
   "source": [
    " \n",
    "3. **La crisis de los conjuntos y la paradoja de Russell:** En el siglo XX, Bertrand Russell identificó contradicciones en la teoría ingenua de conjuntos, lo que llevó al desarrollo de la teoría axiomática, con enfoques como Zermelo-Fraenkel (ZF) y ZFC (con axioma de elección). "
   ]
  },
  {
   "cell_type": "markdown",
   "id": "a7c00678",
   "metadata": {},
   "source": [
    " \n",
    "4. **Aplicaciones contemporáneas:** Hoy en día, la teoría de conjuntos es la base de la lógica matemática y la teoría de modelos, con aplicaciones en inteligencia artificial, bases de datos y estructuras computacionales.  \n"
   ]
  },
  {
   "cell_type": "markdown",
   "id": "181e4a60",
   "metadata": {},
   "source": [
    "\n",
    "**Componentes epistemológicos:**  \n",
    "1. **Concepto primitivo de conjunto:** La noción de conjunto es considerada una idea intuitiva no definida formalmente, sobre la cual se construye la matemática moderna.  \n"
   ]
  },
  {
   "cell_type": "markdown",
   "id": "9252c011",
   "metadata": {},
   "source": [
    "2. **Construcción del conocimiento matemático:** La teoría de conjuntos proporciona un lenguaje formal para definir estructuras matemáticas, sirviendo de base para disciplinas como el álgebra y el análisis.  \n"
   ]
  },
  {
   "cell_type": "markdown",
   "id": "501deab6",
   "metadata": {},
   "source": [
    "3. **Papel en la computación y la inteligencia artificial:** Los conjuntos se utilizan para representar datos, definir relaciones entre objetos y modelar problemas computacionales.  \n"
   ]
  },
  {
   "cell_type": "markdown",
   "id": "14464a7d",
   "metadata": {},
   "source": [
    "4. **Enseñanza y aprendizaje:** La teoría de conjuntos es una introducción fundamental a la lógica y al pensamiento abstracto, clave en la educación matemática y en la transición hacia la formalización matemática avanzada.  \n"
   ]
  },
  {
   "cell_type": "markdown",
   "id": "d6e81fde",
   "metadata": {},
   "source": [
    "\n",
    "Si quieres que profundice en algún aspecto o lo relacione con el uso de Python en la clase, dime y ajustamos el contenido."
   ]
  },
  {
   "cell_type": "code",
   "execution_count": null,
   "id": "7ec7a6d8",
   "metadata": {},
   "outputs": [],
   "source": [
    "from graphviz import Digraph\n",
    "\n",
    "# Crear un nuevo grafo dirigido\n",
    "dot = Digraph()\n",
    "\n",
    "# Establecer el título del mapa conceptual\n",
    "main_concept = \"Teoría de Conjuntos\"\n",
    "dot.node('A', main_concept, shape='box', style='filled', fillcolor='lightblue')\n",
    "\n",
    "# Nodos principales\n",
    "dot.node('B', 'Definición de Conjunto', shape='ellipse', style='filled', fillcolor='lightyellow')\n",
    "dot.node('C', 'Pertenencia de Elementos', shape='ellipse', style='filled', fillcolor='lightyellow')\n",
    "dot.node('D', 'Representación en Python', shape='ellipse', style='filled', fillcolor='lightyellow')\n",
    "dot.node('E', 'Operaciones con Conjuntos', shape='ellipse', style='filled', fillcolor='lightyellow')\n",
    "\n",
    "# Conectar los nodos principales al tema central\n",
    "dot.edges([('A', 'B'), ('A', 'C'), ('A', 'D'), ('A', 'E')])\n",
    "\n",
    "# Subnodos de \"Definición de Conjunto\"\n",
    "dot.node('B1', 'Ejemplos de Conjuntos', shape='box', style='filled', fillcolor='lightgray')\n",
    "dot.node('B2', r'Notación ($\\\\in$ y $\\\\notin$)', shape='box', style='filled', fillcolor='lightgray')\n",
    "dot.edges([('B', 'B1'), ('B', 'B2')])\n",
    "\n",
    "# Subnodos de \"Pertenencia de Elementos\"\n",
    "dot.node('C1', 'Uso de Listas y Sets en Python', shape='box', style='filled', fillcolor='lightgray')\n",
    "dot.edges([('C', 'C1')])\n",
    "\n",
    "# Subnodos de \"Representación en Python\"\n",
    "dot.node('D1', 'Visualización con Matplotlib y Plotly', shape='box', style='filled', fillcolor='lightgray')\n",
    "dot.node('D2', 'Diagramas de Venn', shape='box', style='filled', fillcolor='lightgray')\n",
    "dot.edges([('D', 'D1'), ('D', 'D2')])\n",
    "\n",
    "# Subnodos de \"Operaciones con Conjuntos\"\n",
    "dot.node('E1', 'Unión, Intersección, Diferencia', shape='box', style='filled', fillcolor='lightgray')\n",
    "dot.node('E2', 'Manipulación de Conjuntos con Python', shape='box', style='filled', fillcolor='lightgray')\n",
    "dot.edges([('E', 'E1'), ('E', 'E2')])\n",
    "\n",
    "# Guardar el grafo como un archivo de imagen\n",
    "dot.render(filename=\"Teoria_Conjuntos\", format='png', cleanup=True,\n",
    "           directory=r\"C:/Users/marco/Documentos/docencia/fundamentos_logica/referentes/1_grajales_lina/3_conjuntos/3_1_introduccion/images\")\n",
    "\n",
    "dot.view()\n"
   ]
  },
  {
   "cell_type": "markdown",
   "id": "356f1151",
   "metadata": {},
   "source": [
    "## 3.1 Introducción  \n",
    "La palabra “conjunto” será uno de los términos básicos no definidos. En lo que sigue se tratará de aclarar y precisar la idea intuitiva de conjunto de objetos por medio de ejemplos y nociones relacionadas.\n"
   ]
  },
  {
   "cell_type": "markdown",
   "id": "f42952c8",
   "metadata": {},
   "source": [
    "Los objetos que integran un conjunto se llaman “elementos” de ese conjunto. "
   ]
  },
  {
   "cell_type": "markdown",
   "id": "7aefed57",
   "metadata": {},
   "source": [
    "Para indicar que un objeto $a$ es elemento de un conjunto $A$ se escribe $a \\in A$ que se lee “𝑎 pertenece a 𝐴” o “𝑎 es  elemento de 𝐴”. "
   ]
  },
  {
   "cell_type": "markdown",
   "id": "ada979d2",
   "metadata": {},
   "source": [
    "Si por el contrario, el objeto $𝑎$ no es elemento del conjunto $𝐴$ se escribe $𝑎 \\notin 𝐴$, que se lee “𝑎 no pertenece a A” o “𝑎 no es elemento de 𝐴”.\n"
   ]
  },
  {
   "cell_type": "markdown",
   "id": "3cb8fa6e",
   "metadata": {},
   "source": [
    "Como se ha visto en el ejemplo anterior, las letras mayúsculas se utilizan para representar conjuntos, mientras que las minúsculas para representar elementos.\n"
   ]
  },
  {
   "cell_type": "markdown",
   "id": "6189d175",
   "metadata": {},
   "source": [
    "## Ejemplo 3.1  \n",
    "\n",
    "El conjunto $A$ de todos los habitantes de Medellín (cuyos elementos son todos los habitantes de Medellín y solo ellos).  \n",
    "El conjunto $\\mathbb{N}$ de todos los números naturales.  \n",
    "El conjunto $C$ cuyos elementos son 10, 12, y 45. \n",
    "El conjunto $S$ de todos los números naturales mayores que 54 y menores que 10000.\"  "
   ]
  },
  {
   "cell_type": "markdown",
   "id": "57d808b4",
   "metadata": {},
   "source": [
    "**1. Título de la clase**\n"
   ]
  },
  {
   "cell_type": "markdown",
   "id": "38679143",
   "metadata": {},
   "source": [
    "\n",
    "**Introducción a la Teoría de Conjuntos mediante Experimentación en Python**\n"
   ]
  },
  {
   "cell_type": "markdown",
   "id": "f96769bc",
   "metadata": {},
   "source": [
    "\n",
    "**2. Objetivo de aprendizaje**\n"
   ]
  },
  {
   "cell_type": "markdown",
   "id": "97152988",
   "metadata": {},
   "source": [
    "\n",
    "El estudiante comprenderá los conceptos básicos de la teoría de conjuntos, incluyendo la definición de conjunto y la pertenencia de elementos, mediante la experimentación en cuadernos Jupyter con funciones de usuario, animaciones y visualizaciones interactivas en Python.\n"
   ]
  },
  {
   "cell_type": "markdown",
   "id": "106e91eb",
   "metadata": {},
   "source": [
    "\n",
    "**3. Contenido de la clase**\n"
   ]
  },
  {
   "cell_type": "markdown",
   "id": "ae9a19f1",
   "metadata": {},
   "source": [
    "\n",
    "- Concepto intuitivo de conjunto y ejemplos\n",
    "- Elementos de un conjunto y notación ($a \\in A$, $a \\notin A$)\n",
    "- Representación de conjuntos en Python con listas y conjuntos\n",
    "- Visualización de conjuntos mediante diagramas de Venn\n",
    "- Generación de conjuntos numéricos con reglas\n",
    "- Introducción a operaciones básicas con conjuntos en Python\n"
   ]
  },
  {
   "cell_type": "markdown",
   "id": "ecdff110",
   "metadata": {},
   "source": [
    "\n",
    "**4. Actividades de aprendizaje**\n"
   ]
  },
  {
   "cell_type": "markdown",
   "id": "a728c64c",
   "metadata": {},
   "source": [
    "\n",
    "1. **Exploración con Python**: El estudiante ejecutará código en Jupyter para definir conjuntos usando estructuras de datos de Python como listas y conjuntos (“set”).\n",
    "   \n"
   ]
  },
  {
   "cell_type": "markdown",
   "id": "59c4c7c0",
   "metadata": {},
   "source": [
    "2. **Funciones de Usuario para Conjuntos**: Se les proporcionará funciones en Python para verificar si un elemento pertenece a un conjunto, permitiendo a los estudiantes modificar y experimentar con ellas.\n",
    "   \n"
   ]
  },
  {
   "cell_type": "markdown",
   "id": "356e16a4",
   "metadata": {},
   "source": [
    "3. **Visualización Interactiva**: Se utilizará `Matplotlib` y `Plotly` para generar diagramas de Venn y visualizar la relación entre conjuntos y sus elementos.\n",
    "  "
   ]
  },
  {
   "cell_type": "markdown",
   "id": "1e5aee7a",
   "metadata": {},
   "source": [
    " \n",
    "4. **Interactividad con `ipywidgets`**: Se implementarán widgets interactivos para que los estudiantes puedan ingresar conjuntos y visualizar sus operaciones básicas (unión, intersección, diferencia).\n"
   ]
  },
  {
   "cell_type": "markdown",
   "id": "5b92f2c5",
   "metadata": {},
   "source": [
    "\n",
    "**5. Tarea o actividades de ejercitación y fijación**\n",
    "\n",
    "1. Implementar una función en Python que determine si un número pertenece a un conjunto dado por una regla (por ejemplo, los números naturales mayores que 54 y menores que 10000).\n",
    "2. Crear una visualización interactiva de un conjunto de tres elementos con `Graphviz`.\n",
    "3. Modificar una función dada para permitir la entrada de conjuntos arbitrarios y verificar la pertenencia de diferentes elementos.\n"
   ]
  },
  {
   "cell_type": "markdown",
   "id": "b2e8b162",
   "metadata": {},
   "source": [
    "\n",
    "**6. Diseño de actividad de retroalimentación**\n",
    "\n",
    "- **Discusión en clase**: Los estudiantes compartirán sus implementaciones y reflexionarán sobre las diferencias en sus enfoques.\n",
    "- **Correcciones guiadas**: Se analizarán ejemplos incorrectos y se discutirá cómo corregirlos.\n",
    "- **Ejercicio de cierre**: Cada estudiante desarrollará un conjunto personalizado y lo representará gráficamente, explicando cómo su implementación en Python refleja los conceptos matemáticos aprendidos.\n",
    "\n"
   ]
  },
  {
   "cell_type": "markdown",
   "id": "138ed52c",
   "metadata": {},
   "source": [
    "Esto generará un diagrama donde la intersección de $A$ y $B$ muestra los elementos en común.  \n",
    "\n",
    "---\n"
   ]
  },
  {
   "cell_type": "markdown",
   "id": "81319f42",
   "metadata": {},
   "source": [
    "# Complemento con python"
   ]
  },
  {
   "cell_type": "markdown",
   "id": "f6818c01",
   "metadata": {},
   "source": [
    "# Propiedades de las operaciones de conjuntos con python"
   ]
  },
  {
   "cell_type": "markdown",
   "id": "3ef67941",
   "metadata": {},
   "source": [
    "En Python, puedes realizar operaciones de **diferencia simétrica** y **complemento de conjuntos** utilizando las funcionalidades nativas de los conjuntos (`set`). Aquí te explico cómo hacerlo:\n",
    "\n"
   ]
  },
  {
   "cell_type": "markdown",
   "id": "c1bd368b",
   "metadata": {},
   "source": [
    "\n",
    "\n",
    "## 📌 **1. Diferencia Simétrica (A Δ B)**\n"
   ]
  },
  {
   "cell_type": "markdown",
   "id": "0a62f8d1",
   "metadata": {},
   "source": [
    "La **diferencia simétrica** entre dos conjuntos `A` y `B` es el conjunto de elementos que están en `A` o en `B`, pero no en ambos.  \n"
   ]
  },
  {
   "cell_type": "markdown",
   "id": "f6f454ff",
   "metadata": {},
   "source": [
    "\n",
    "### **Métodos en Python:**\n",
    "1. **Operador `^`**  \n",
    "2. **Método `.symmetric_difference()`**  \n",
    "\n",
    "### **Ejemplo:**\n"
   ]
  },
  {
   "cell_type": "code",
   "execution_count": 2,
   "id": "59910746",
   "metadata": {},
   "outputs": [],
   "source": [
    "A = {1, 2, 3, 4}\n",
    "B = {3, 4, 5, 6}\n"
   ]
  },
  {
   "cell_type": "code",
   "execution_count": 3,
   "id": "09403d48",
   "metadata": {},
   "outputs": [
    {
     "name": "stdout",
     "output_type": "stream",
     "text": [
      "Diferencia simétrica (^): {1, 2, 5, 6}\n"
     ]
    }
   ],
   "source": [
    "\n",
    "# Opción 1: Usando el operador ^\n",
    "diferencia_simetrica = A ^ B\n",
    "print(\"Diferencia simétrica (^):\", diferencia_simetrica)  # {1, 2, 5, 6}\n"
   ]
  },
  {
   "cell_type": "code",
   "execution_count": 4,
   "id": "e2beac2b",
   "metadata": {},
   "outputs": [
    {
     "name": "stdout",
     "output_type": "stream",
     "text": [
      "Diferencia simétrica (método): {1, 2, 5, 6}\n"
     ]
    }
   ],
   "source": [
    "\n",
    "# Opción 2: Usando symmetric_difference()\n",
    "diferencia_simetrica = A.symmetric_difference(B)\n",
    "print(\"Diferencia simétrica (método):\", diferencia_simetrica)  # {1, 2, 5, 6}\n",
    "\n"
   ]
  },
  {
   "cell_type": "markdown",
   "id": "5be7a874",
   "metadata": {},
   "source": [
    "\n",
    "## 📌 **2. Complemento de un Conjunto (Aᶜ)**\n",
    "El **complemento** de un conjunto `A` respecto a un **universo `U`** es el conjunto de elementos que están en `U` pero no en `A`.  \n"
   ]
  },
  {
   "cell_type": "markdown",
   "id": "b8023d8f",
   "metadata": {},
   "source": [
    "\n",
    "### **Método en Python:**\n",
    "- **Diferencia: `U - A`**  \n",
    "- **Método `.difference()`**  \n"
   ]
  },
  {
   "cell_type": "markdown",
   "id": "e26b671d",
   "metadata": {},
   "source": [
    "\n",
    "### **Ejemplo:**\n"
   ]
  },
  {
   "cell_type": "code",
   "execution_count": 5,
   "id": "06fa9547",
   "metadata": {},
   "outputs": [
    {
     "name": "stdout",
     "output_type": "stream",
     "text": [
      "Complemento de A (-): {1, 3, 5, 7, 9}\n",
      "Complemento de A (método): {1, 3, 5, 7, 9}\n"
     ]
    }
   ],
   "source": [
    "U = {1, 2, 3, 4, 5, 6, 7, 8, 9, 10}\n",
    "A = {2, 4, 6, 8, 10}\n",
    "\n",
    "# Opción 1: Usando el operador -\n",
    "complemento_A = U - A\n",
    "print(\"Complemento de A (-):\", complemento_A)  # {1, 3, 5, 7, 9}\n",
    "\n",
    "# Opción 2: Usando difference()\n",
    "complemento_A = U.difference(A)\n",
    "print(\"Complemento de A (método):\", complemento_A)  # {1, 3, 5, 7, 9}\n",
    "\n"
   ]
  },
  {
   "cell_type": "markdown",
   "id": "9c66e9cd",
   "metadata": {},
   "source": [
    "\n",
    "---\n",
    "\n",
    "## 📌 **Resumen de operaciones con conjuntos en Python**\n",
    "| Operación               | Sintaxis Python       | Ejemplo                     |\n",
    "|-------------------------|----------------------|----------------------------|\n",
    "| **Unión** (A ∪ B)       | `A | B`              | `{1, 2, 3} | {3, 4} → {1, 2, 3, 4}` |\n",
    "| **Intersección** (A ∩ B) | `A & B`              | `{1, 2, 3} & {3, 4} → {3}` |\n",
    "| **Diferencia** (A - B)   | `A - B`              | `{1, 2, 3} - {3, 4} → {1, 2}` |\n",
    "| **Diferencia simétrica** (A Δ B) | `A ^ B` | `{1, 2, 3} ^ {3, 4} → {1, 2, 4}` |\n",
    "| **Complemento** (Aᶜ)     | `U - A`              | `U = {1, 2, 3, 4}, A = {2, 4} → U - A = {1, 3}` |\n",
    "\n"
   ]
  },
  {
   "cell_type": "markdown",
   "id": "4c5ee9fa",
   "metadata": {},
   "source": [
    "\n",
    "\n",
    "### **Aplicación en diagramas de Venn**\n"
   ]
  },
  {
   "cell_type": "markdown",
   "id": "26f682b7",
   "metadata": {},
   "source": [
    "Si quieres visualizar estas operaciones con `matplotlib-venn`, puedes hacerlo así:\n"
   ]
  },
  {
   "cell_type": "code",
   "execution_count": 8,
   "id": "ffa4f185",
   "metadata": {},
   "outputs": [
    {
     "data": {
      "image/png": "[encoded data removed]",
      "text/plain": [
       "<Figure size 640x480 with 1 Axes>"
      ]
     },
     "metadata": {},
     "output_type": "display_data"
    }
   ],
   "source": [
    "from matplotlib_venn import venn2\n",
    "import matplotlib.pyplot as plt\n",
    "\n",
    "A = {1, 2, 3, 4}\n",
    "B = {3, 4, 5, 6}\n",
    "\n",
    "# Función para formatear las etiquetas mostrando los elementos\n",
    "def format_set_items(subset):\n",
    "    elements = []\n",
    "    # Encontrar los elementos en la intersección o diferencia según el subset\n",
    "    if subset == len(A - B):\n",
    "        elements = A - B\n",
    "    elif subset == len(B - A):\n",
    "        elements = B - A\n",
    "    elif subset == len(A & B):\n",
    "        elements = A & B\n",
    "    return '\\n'.join(map(str, elements)) if elements else ''\n",
    "\n",
    "# Crear el diagrama de Venn\n",
    "venn2([A, B], \n",
    "      set_labels=('A', 'B'), \n",
    "      subset_label_formatter=format_set_items)\n",
    "\n",
    "plt.title(\"A Δ B (Diferencia simétrica)\")\n",
    "plt.show()\n"
   ]
  },
  {
   "cell_type": "markdown",
   "id": "0629d2f4",
   "metadata": {},
   "source": [
    "Esto mostrará las zonas que pertenecen a `A` o `B`, pero no a ambos.\n",
    "\n",
    "---\n",
    "\n",
    "### **Conclusión**\n",
    "- **Diferencia simétrica** → `A ^ B` o `A.symmetric_difference(B)`  \n",
    "- **Complemento** → `U - A` (requiere definir un universo `U`)  \n",
    "\n",
    "¿Necesitas algún otro ejemplo o explicación adicional? 😊"
   ]
  },
  {
   "cell_type": "markdown",
   "id": "239427f7",
   "metadata": {},
   "source": [
    "# ARTÍCULO 1. Definir el calendario académico para los diferentes programas de pregrado de los campus\n",
    "regionalizados, correspondiente al primer periodo académico del año 2025, así:\n",
    "\n",
    "* Terminación de clases 08 de junio de 2025\n",
    "* Exámenes finales 09 al 15 de junio de 2025\n",
    "* Habilitación y validación 16 al 22 de junio de 2025\n",
    "* Terminación oficial 23 de junio de 2025"
   ]
  },
  {
   "cell_type": "code",
   "execution_count": null,
   "id": "ec048afb",
   "metadata": {},
   "outputs": [],
   "source": []
  },
  {
   "cell_type": "code",
   "execution_count": null,
   "id": "c804f8d3",
   "metadata": {},
   "outputs": [],
   "source": []
  },
  {
   "cell_type": "code",
   "execution_count": null,
   "id": "cc539357",
   "metadata": {},
   "outputs": [],
   "source": []
  },
  {
   "cell_type": "markdown",
   "id": "740f3401",
   "metadata": {
    "slideshow": {
     "slide_type": "slide"
    }
   },
   "source": [
    "# Componente de manejo de calculadora Casio asociado al objetivo de aprendizaje de esta clase  \n",
    "\n",
    "## Pasos para lograr el objetivo de aprendizaje con la experimentación en la calculadora Casio 991LA cw  "
   ]
  },
  {
   "cell_type": "markdown",
   "id": "8ba64aed",
   "metadata": {},
   "source": [
    "# Cursos que orienta el profesor Marco Julio Cañas Campillo en 2025  \n",
    "\n",
    "1. Práctica Pedagógica V para Licenciatura en Educación Infantil\n",
    "2. Fundamentos de Lógica para Licenciatura en Matemáticas \n",
    "3. Análisis Numérico para Licenciatura en Matemáticas. \n",
    "4. Cálculo Vectorial para Ingeniería Agropecuaria"
   ]
  },
  {
   "cell_type": "markdown",
   "id": "8d41fe58",
   "metadata": {
    "slideshow": {
     "slide_type": "slide"
    }
   },
   "source": [
    "# Horario de clases del profesor Marco\n",
    "\n",
    "* Lunes 8-12: Cálculo Vectorial\n",
    "* Martes 8-12 M: Fundamentos de Aritmética. \n",
    "* Miércoles 8 a 12 M: Fundamentos de la Lógica\n",
    "* Jueves 2 a 6 PM: Desarrollo del pensamiento matemático en la infancia. \n",
    "* Viernes 8 - 12 M: Desarrollo del pensamiento matemático en la infancia. \n",
    "* Sábados 8-12 Asesorías y espacio para retroalimentación y apoyo al trabajo independiente. "
   ]
  },
  {
   "cell_type": "markdown",
   "id": "ae114e14",
   "metadata": {
    "slideshow": {
     "slide_type": "slide"
    }
   },
   "source": [
    "# Horarios de monitoría y asesoría  \n",
    "\n",
    "Coordinador de los cursos de la Facultad de Educación para regiones:    \n",
    "\n",
    "Andrés Vélez: regioneducacion.fedu@udea.edu.co  \n",
    "Coordinador Regiones  \n",
    "Facultad de Educación  \n",
    "Universidad de Antioquia  "
   ]
  },
  {
   "cell_type": "markdown",
   "id": "b1db4b6c",
   "metadata": {
    "slideshow": {
     "slide_type": "slide"
    }
   },
   "source": [
    "## Monitor Manuel San Juan Serrano\n",
    "\n",
    "Contactar escribiendo al correo: manuel.serrano1@udea.edu.co"
   ]
  },
  {
   "cell_type": "markdown",
   "id": "39559692",
   "metadata": {
    "slideshow": {
     "slide_type": "slide"
    }
   },
   "source": [
    "Martes y jueves de 8 - 12  \n",
    "Miércoles 10 - 12 y de 2 a 4 PM  \n",
    "Sábado: 8 - 12"
   ]
  },
  {
   "cell_type": "markdown",
   "id": "10bce0d0",
   "metadata": {
    "slideshow": {
     "slide_type": "slide"
    }
   },
   "source": [
    "## Referentes "
   ]
  },
  {
   "cell_type": "markdown",
   "id": "1db3c468",
   "metadata": {
    "slideshow": {
     "slide_type": "slide"
    }
   },
   "source": [
    "* [Grajales Vanegas, L. M., Restrepo Estrada, C. E., Restrepo Ochoa, S. I., & Ruíz De Villalba, F. (2015). Matemáticas I para las ciencias económicas.](https://bibliotecadigital.udea.edu.co/handle/10495/3010)\n",
    "  \n",
    "* R. Duval y Semiosis y pensamiento humano, 2.ª ed. Cali, Colombia: Programa Editorial Universidad del Valle, 2017. [En línea]. Disponible en: https://programaeditorial.univalle.edu.co/gpd-semiosis-y-pensamiento-humano-9789587655278-63324cdb0f6b3.html\n",
    "\n",
    "* [Aylwin, C. U. (2011). Lógica, conjuntos y números. Universidad de los Andes, Consejo de Publicaciones, Colección: Ciencias Básicas, Serie: Matemáticas.](https://github.com/marco-canas/fundamentos_logica/blob/main/referentes/2_uzcategui/uscategui.pdf)\n",
    "  \n",
    "* [Chollet, F. (2021). Deep learning with Python. Simon and Schuster.](chrome-extension://efaidnbmnnnibpcajpcglclefindmkaj/https://tanthiamhuat.wordpress.com/wp-content/uploads/2018/03/deeplearningwithpython.pdf)  \n",
    "  \n",
    "* [Watson, S., Stewart, J., & Redlin, L. (2009). Precálculo. Matemáticas para el cálculo.](https://github.com/marco-canas/calculo/blob/main/referents/1_precalculo_stewart/stewart_precalculo.pdf)  \n",
    "\n",
    "* [Purcell, E. J., Varberg, D., & Rigdon, S. E. (2007). Cálculo diferencial e integral. Pearson Educación.](https://github.com/marco-canas/calculo/blob/main/referents/purcell/purcell_calculo.pdf)\n",
    "\n",
    "  \n",
    "\n",
    "* [stewart cálculo](https://udeaeduco-my.sharepoint.com/:b:/g/personal/marco_canas_udea_edu_co/EZgXZjAp8QxPqOAim2hs6LcBNPLGjSHf-xwYnUVYkwa04w?e=RZdTCy)  \n",
    "\n",
    "* [larson](https://udeaeduco-my.sharepoint.com/:b:/g/personal/marco_canas_udea_edu_co/ES71ChFeO9ZDhW3TwC5Ijk8BjxUK3Pdqz_fjHxTTFAfIAg?e=VDEjfu)\n",
    "\n",
    "\n",
    "\n",
    "* [Recomendación de la UNESCO sobre ciencia abierta](https://unesdoc.unesco.org/ark:/48223/pf0000379949_spa)\n",
    "\n",
    "* [chatGPT](https://openai.com/blog/chatgpt)  \n",
    "\n",
    "* [Géron, A. (2017). Hands-on machine learning with scikit-learn and tensorflow: Concepts. Tools, and Techniques to build intelligent systems.](chrome-extension://efaidnbmnnnibpcajpcglclefindmkaj/http://14.139.161.31/OddSem-0822-1122/Hands-On_Machine_Learning_with_Scikit-Learn-Keras-and-TensorFlow-2nd-Edition-Aurelien-Geron.pdf)   \n"
   ]
  },
  {
   "cell_type": "markdown",
   "id": "df925560",
   "metadata": {},
   "source": [
    "\n",
    "* [McKinney, W. (2012). Python for data analysis: Data wrangling with Pandas, NumPy, and IPython. \" O'Reilly Media, Inc.\".](https://wesmckinney.com/book/) "
   ]
  },
  {
   "cell_type": "markdown",
   "id": "8e65d6f9",
   "metadata": {},
   "source": [
    "# Como estudiante, encuentro que...   \n",
    "\n",
    "F: Mis Fortalezas son:     \n",
    "O: Mis Oportunidades son:    \n",
    "D: Mis Debilidades son:    \n",
    "A: Lo que Amenazas mi aprendizaje es:  "
   ]
  },
  {
   "cell_type": "markdown",
   "id": "6b9e56a8",
   "metadata": {
    "slideshow": {
     "slide_type": "slide"
    }
   },
   "source": [
    "### [Evaluamos al profesor Marco Cañas Aquí](https://forms.office.com/Pages/ResponsePage.aspx?id=IefhmYRxjkmK_7KtTlPBwkanXIs1i1FEujpsZgO6dXpUREJPV1kxUk1JV1ozTFJIQVNIQjY5WEY3US4u)"
   ]
  },
  {
   "cell_type": "markdown",
   "id": "10f43536",
   "metadata": {
    "slideshow": {
     "slide_type": "slide"
    }
   },
   "source": [
    "### Continue su aprendizaje en la siguiente clase a través del siguiente [vínculo]()"
   ]
  },
  {
   "cell_type": "markdown",
   "id": "53cc9115",
   "metadata": {
    "slideshow": {
     "slide_type": "slide"
    }
   },
   "source": [
    "## Agradecimientos  \n",
    "\n",
    "Doy gracias a Dios por la vida de mi Hijo Joseph Cañas Osorio y la madurez que ha alcanzado. Este hijo me enorgullece y me hace falta abrazarlo cada día. \n",
    "\n",
    "Y a mi esposa Yasmira Emperatriz Barboza Mogollón por su apoyo, orientación y acompañamiento. "
   ]
  },
  {
   "cell_type": "markdown",
   "id": "b6ba1c23",
   "metadata": {},
   "source": [
    "# Apéndice sobre calendarios y coordinaciones \n",
    "\n",
    "A continuación le envío el horario de la asignatura Cálculo Vectorial  \n",
    "\n",
    "Días:  \n",
    "Lunes - Hora: 7:00 a 12:00M  \n",
    "Fechas:  \n",
    "Febrero: 10-17-24                                          \n",
    " Marzo: 3-10-17-31                                                  \n",
    "Abril:7-21-28                                                   \n",
    "Mayo:5-12-19  \n",
    "\n",
    "Agradezco su apoyo, y si presenta alguna dificultad puede contactarme.  \n",
    "\n",
    "Cordialmente,  \n",
    "Juan Felipe Rivera Hernández  \n",
    "Contacto: 3106314300  "
   ]
  },
  {
   "cell_type": "markdown",
   "id": "0e66cd7c",
   "metadata": {},
   "source": []
  },
  {
   "cell_type": "code",
   "execution_count": 2,
   "id": "5a2b1ec5",
   "metadata": {},
   "outputs": [
    {
     "data": {
      "image/png": "[encoded data removed]",
      "text/plain": [
       "<Figure size 640x480 with 1 Axes>"
      ]
     },
     "metadata": {},
     "output_type": "display_data"
    }
   ],
   "source": [
    "# Diagramas de Venn con python\n",
    "\n",
    "import matplotlib.pyplot as plt\n",
    "from matplotlib_venn import venn2\n",
    "\n",
    "# Datos de los conjuntos\n",
    "set1 = {1, 2, 3, 4}\n",
    "set2 = {3, 4, 5, 6}\n",
    "\n",
    "# Crear diagrama de Venn\n",
    "venn2([set1, set2], set_labels=('Conjunto A', 'Conjunto B'))\n",
    "\n",
    "plt.title(\"Diagrama de Venn de 2 conjuntos\")\n",
    "plt.show()"
   ]
  },
  {
   "cell_type": "code",
   "execution_count": 11,
   "id": "298ef81a",
   "metadata": {},
   "outputs": [],
   "source": [
    "A = {1,2,3,4}\n",
    "B = set([x for x in range(1, 5)])"
   ]
  },
  {
   "cell_type": "code",
   "execution_count": 12,
   "id": "c1ceaa06",
   "metadata": {},
   "outputs": [
    {
     "data": {
      "text/plain": [
       "{1, 2, 3, 4}"
      ]
     },
     "execution_count": 12,
     "metadata": {},
     "output_type": "execute_result"
    }
   ],
   "source": [
    "B "
   ]
  },
  {
   "cell_type": "markdown",
   "id": "cfcc4c1c",
   "metadata": {},
   "source": []
  }
 ],
 "metadata": {
  "celltoolbar": "Slideshow",
  "kernelspec": {
   "display_name": ".venv",
   "language": "python",
   "name": "python3"
  },
  "language_info": {
   "codemirror_mode": {
    "name": "ipython",
    "version": 3
   },
   "file_extension": ".py",
   "mimetype": "text/x-python",
   "name": "python",
   "nbconvert_exporter": "python",
   "pygments_lexer": "ipython3",
   "version": "3.12.6"
  },
  "rise": {
   "enable_chalkboard": true,
   "theme": "sky",
   "transition": "zoom"
  }
 },
 "nbformat": 4,
 "nbformat_minor": 5
}
