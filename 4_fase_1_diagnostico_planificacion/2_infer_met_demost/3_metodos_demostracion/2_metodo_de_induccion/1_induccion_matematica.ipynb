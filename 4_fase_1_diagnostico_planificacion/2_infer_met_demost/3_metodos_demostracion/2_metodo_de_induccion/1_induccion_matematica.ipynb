{
 "cells": [
  {
   "cell_type": "markdown",
   "id": "dc06dec7",
   "metadata": {
    "slideshow": {
     "slide_type": "slide"
    }
   },
   "source": [
    "<table align=\"left\">\n",
    "  <td>\n",
    "    <a href=\"https://colab.research.google.com/github/marco-canas/fundamentos_logica/blob/main/4_clases/2_infer_met_demost/3_metodos_demostracion/2_metodo_de_induccion/1_induccion_matematica.ipynb\" target=\"_parent\"><img src=\"https://colab.research.google.com/assets/colab-badge.svg\" alt=\"Open In Colab\"/></a>\n",
    "  </td>\n",
    "  <td>\n",
    "    <a target=\"_blank\" href=\"https://kaggle.com/kernels/welcome?src=https://github.com/marco-canas/fundamentos_logica/blob/main/4_clases/2_infer_met_demost/3_metodos_demostracion/2_metodo_de_induccion/1_induccion_matematica.ipynb\"><img src=\"https://kaggle.com/static/images/open-in-kaggle.svg\" /></a>\n",
    "  </td>\n",
    "</table>"
   ]
  },
  {
   "cell_type": "markdown",
   "id": "e0c5b198",
   "metadata": {
    "slideshow": {
     "slide_type": "slide"
    }
   },
   "source": [
    "### [Video de apoyo a la lectura interactiva y experimental de este cuaderno]()"
   ]
  },
  {
   "cell_type": "markdown",
   "id": "41e82203",
   "metadata": {
    "slideshow": {
     "slide_type": "slide"
    }
   },
   "source": [
    "## [Vínculo al programa del curso:  ]()\n",
    "\n"
   ]
  },
  {
   "cell_type": "code",
   "execution_count": 1,
   "id": "7604880f",
   "metadata": {
    "slideshow": {
     "slide_type": "slide"
    }
   },
   "outputs": [
    {
     "data": {
      "application/vnd.microsoft.datawrangler.viewer.v0+json": {
       "columns": [
        {
         "name": "index",
         "rawType": "int64",
         "type": "integer"
        },
        {
         "name": "Cedula",
         "rawType": "int64",
         "type": "integer"
        },
        {
         "name": "Nombre",
         "rawType": "object",
         "type": "string"
        },
        {
         "name": "Email",
         "rawType": "object",
         "type": "string"
        },
        {
         "name": "quiz_1",
         "rawType": "float64",
         "type": "float"
        },
        {
         "name": "taller_clase",
         "rawType": "float64",
         "type": "float"
        },
        {
         "name": "Proyecto_1",
         "rawType": "float64",
         "type": "float"
        },
        {
         "name": "proyecto_2",
         "rawType": "float64",
         "type": "float"
        },
        {
         "name": "google_colab_operadores logicos",
         "rawType": "float64",
         "type": "float"
        },
        {
         "name": "parcial_1",
         "rawType": "float64",
         "type": "float"
        }
       ],
       "conversionMethod": "pd.DataFrame",
       "ref": "80fffb04-f03e-407b-a0ae-b5ccf560a5c3",
       "rows": [
        [
         "0",
         "1067281024",
         "ALVAREZ GOEZ DAIRO ESTEBAN",
         "dairo.alvarez1@udea.edu.co",
         null,
         "5.0",
         null,
         null,
         null,
         null
        ],
        [
         "1",
         "1041086439",
         "CASTILLO SIERRA SHIRLIS SARAY",
         "shirlis.castillo@udea.edu.co",
         "5.0",
         "4.0",
         "5.0",
         null,
         null,
         null
        ],
        [
         "2",
         "1045419649",
         "ESPINOSA ESPINOSA LILIANA ANDREA",
         "lilianaa.espinosa@udea.edu.co",
         "4.5",
         "5.0",
         "5.0",
         null,
         null,
         "5.0"
        ],
        [
         "3",
         "1040494191",
         "GARCIA PADILLA JHONATAN",
         "jhonatan.garcia1@udea.edu.co",
         "5.0",
         "5.0",
         null,
         null,
         null,
         null
        ],
        [
         "4",
         "1038098851",
         "GUERRA OSORIO SIMON",
         "s.guerra@udea.edu.co",
         "5.0",
         "5.0",
         null,
         null,
         null,
         "3.0"
        ]
       ],
       "shape": {
        "columns": 9,
        "rows": 5
       }
      },
      "text/html": [
       "<div>\n",
       "<style scoped>\n",
       "    .dataframe tbody tr th:only-of-type {\n",
       "        vertical-align: middle;\n",
       "    }\n",
       "\n",
       "    .dataframe tbody tr th {\n",
       "        vertical-align: top;\n",
       "    }\n",
       "\n",
       "    .dataframe thead th {\n",
       "        text-align: right;\n",
       "    }\n",
       "</style>\n",
       "<table border=\"1\" class=\"dataframe\">\n",
       "  <thead>\n",
       "    <tr style=\"text-align: right;\">\n",
       "      <th></th>\n",
       "      <th>Cedula</th>\n",
       "      <th>Nombre</th>\n",
       "      <th>Email</th>\n",
       "      <th>quiz_1</th>\n",
       "      <th>taller_clase</th>\n",
       "      <th>Proyecto_1</th>\n",
       "      <th>proyecto_2</th>\n",
       "      <th>google_colab_operadores logicos</th>\n",
       "      <th>parcial_1</th>\n",
       "    </tr>\n",
       "  </thead>\n",
       "  <tbody>\n",
       "    <tr>\n",
       "      <th>0</th>\n",
       "      <td>1067281024</td>\n",
       "      <td>ALVAREZ GOEZ DAIRO ESTEBAN</td>\n",
       "      <td>dairo.alvarez1@udea.edu.co</td>\n",
       "      <td>NaN</td>\n",
       "      <td>5.0</td>\n",
       "      <td>NaN</td>\n",
       "      <td>NaN</td>\n",
       "      <td>NaN</td>\n",
       "      <td>NaN</td>\n",
       "    </tr>\n",
       "    <tr>\n",
       "      <th>1</th>\n",
       "      <td>1041086439</td>\n",
       "      <td>CASTILLO SIERRA SHIRLIS SARAY</td>\n",
       "      <td>shirlis.castillo@udea.edu.co</td>\n",
       "      <td>5.0</td>\n",
       "      <td>4.0</td>\n",
       "      <td>5.0</td>\n",
       "      <td>NaN</td>\n",
       "      <td>NaN</td>\n",
       "      <td>NaN</td>\n",
       "    </tr>\n",
       "    <tr>\n",
       "      <th>2</th>\n",
       "      <td>1045419649</td>\n",
       "      <td>ESPINOSA ESPINOSA LILIANA ANDREA</td>\n",
       "      <td>lilianaa.espinosa@udea.edu.co</td>\n",
       "      <td>4.5</td>\n",
       "      <td>5.0</td>\n",
       "      <td>5.0</td>\n",
       "      <td>NaN</td>\n",
       "      <td>NaN</td>\n",
       "      <td>5.0</td>\n",
       "    </tr>\n",
       "    <tr>\n",
       "      <th>3</th>\n",
       "      <td>1040494191</td>\n",
       "      <td>GARCIA PADILLA JHONATAN</td>\n",
       "      <td>jhonatan.garcia1@udea.edu.co</td>\n",
       "      <td>5.0</td>\n",
       "      <td>5.0</td>\n",
       "      <td>NaN</td>\n",
       "      <td>NaN</td>\n",
       "      <td>NaN</td>\n",
       "      <td>NaN</td>\n",
       "    </tr>\n",
       "    <tr>\n",
       "      <th>4</th>\n",
       "      <td>1038098851</td>\n",
       "      <td>GUERRA OSORIO SIMON</td>\n",
       "      <td>s.guerra@udea.edu.co</td>\n",
       "      <td>5.0</td>\n",
       "      <td>5.0</td>\n",
       "      <td>NaN</td>\n",
       "      <td>NaN</td>\n",
       "      <td>NaN</td>\n",
       "      <td>3.0</td>\n",
       "    </tr>\n",
       "  </tbody>\n",
       "</table>\n",
       "</div>"
      ],
      "text/plain": [
       "       Cedula                            Nombre  \\\n",
       "0  1067281024        ALVAREZ GOEZ DAIRO ESTEBAN   \n",
       "1  1041086439     CASTILLO SIERRA SHIRLIS SARAY   \n",
       "2  1045419649  ESPINOSA ESPINOSA LILIANA ANDREA   \n",
       "3  1040494191           GARCIA PADILLA JHONATAN   \n",
       "4  1038098851               GUERRA OSORIO SIMON   \n",
       "\n",
       "                           Email  quiz_1  taller_clase  Proyecto_1  \\\n",
       "0     dairo.alvarez1@udea.edu.co     NaN           5.0         NaN   \n",
       "1   shirlis.castillo@udea.edu.co     5.0           4.0         5.0   \n",
       "2  lilianaa.espinosa@udea.edu.co     4.5           5.0         5.0   \n",
       "3   jhonatan.garcia1@udea.edu.co     5.0           5.0         NaN   \n",
       "4           s.guerra@udea.edu.co     5.0           5.0         NaN   \n",
       "\n",
       "   proyecto_2  google_colab_operadores logicos  parcial_1  \n",
       "0         NaN                              NaN        NaN  \n",
       "1         NaN                              NaN        NaN  \n",
       "2         NaN                              NaN        5.0  \n",
       "3         NaN                              NaN        NaN  \n",
       "4         NaN                              NaN        3.0  "
      ]
     },
     "execution_count": 1,
     "metadata": {},
     "output_type": "execute_result"
    }
   ],
   "source": [
    "import pandas as pd\n",
    "import numpy as np\n",
    "\n",
    "# Cargar la lista de estudiantes desde la URL\n",
    "path = r\"C:/Users/marco/Documentos/docencia/groups_list/logica.xlsx\"\n",
    "df = pd.read_excel(path)\n",
    "df.head() \n"
   ]
  },
  {
   "cell_type": "markdown",
   "id": "d7598d0a-d9b7-4ae0-b029-a0ed6ed1130b",
   "metadata": {},
   "source": [
    "\n",
    "# Principios de mi labor docente"
   ]
  },
  {
   "cell_type": "markdown",
   "id": "4f9d8cf9",
   "metadata": {
    "slideshow": {
     "slide_type": "slide"
    }
   },
   "source": [
    "# Modelo general de clase: [aula invertida](https://www3.gobiernodecanarias.org/medusa/ecoescuela/pedagotic/aprendizaje-invertido-flipped-classroom/)"
   ]
  },
  {
   "cell_type": "markdown",
   "id": "eb6ed03a",
   "metadata": {},
   "source": [
    "<img src = 'https://resources.maneuveringthemiddle.com/wp-content/uploads/2020/07/04212706/1-5.png' width = 400>  \n",
    "\n"
   ]
  },
  {
   "cell_type": "markdown",
   "id": "34319cce-a71b-4f64-aab8-b53e521efa40",
   "metadata": {},
   "source": [
    "# Metodología de Aprendizaje Basado en Problemas y Proyectos (ABPP)\n"
   ]
  },
  {
   "cell_type": "markdown",
   "id": "feadd1ee",
   "metadata": {},
   "source": [
    "\n",
    "<img src = 'https://www.unir.net/wp-content/uploads/2020/07/aprendizaje-problemas2-1-1-1-1.jpeg' width = 400>"
   ]
  },
  {
   "cell_type": "markdown",
   "id": "841a985c-bd9b-4dd3-8e4c-893983980af2",
   "metadata": {},
   "source": [
    "# Desarrollo del pensamiento computacional con python y cuadernos Jupyter  orientado a la formación en ciencia de datos \n"
   ]
  },
  {
   "cell_type": "markdown",
   "id": "bc8a4e08",
   "metadata": {},
   "source": [
    "\n",
    "\n",
    "<img src = 'https://i.ytimg.com/vi/mcG_wcR4e6M/maxresdefault.jpg' width = 200>"
   ]
  },
  {
   "cell_type": "markdown",
   "id": "65aa0404-f7ae-495e-864c-1aec01b4255e",
   "metadata": {},
   "source": [
    "# Principio de fomento a la ciencia abierta, enseñar en el acceso a los datos públicos y el uso de software de código abierto  \n"
   ]
  },
  {
   "cell_type": "markdown",
   "id": "18ae9b87",
   "metadata": {},
   "source": [
    "\n",
    "<img src = 'https://unesdoc.unesco.org/in/rest/Thumb/image?id=p%3A%3Ausmarcdef_0000379949_spa&author=UNESCO&title=Recomendaci%C3%B3n+de+la+UNESCO+sobre+la+Ciencia+Abierta&year=2021&publisher=UNESCO&TypeOfDocument=UnescoPhysicalDocument&mat=PGD&ct=true&size=512&isPhysical=1' width = 300>"
   ]
  },
  {
   "cell_type": "markdown",
   "id": "d9559f85",
   "metadata": {},
   "source": [
    "El enfoque STEAMS en educación preescolar, primaria y secundaria es una extensión del enfoque STEM (Ciencia, Tecnología, Ingeniería y Matemáticas) y su variante STEAM, que incorpora el Arte. El acrónimo STEAMS incluye:\n",
    "\n",
    "1. **Science (Ciencia):** Fomenta la curiosidad por el mundo natural y el desarrollo de habilidades científicas, como la observación, experimentación y análisis.\n",
    "\n",
    "2. **Technology (Tecnología):** Integra herramientas tecnológicas para potenciar el aprendizaje y la resolución de problemas, promoviendo la alfabetización digital desde edades tempranas.\n",
    "\n",
    "3. **Engineering (Ingeniería):** Introduce el pensamiento lógico y la resolución de problemas estructurados, fomentando habilidades como el diseño y la construcción de soluciones.\n",
    "\n",
    "4. **Arts (Arte):** Añade creatividad y pensamiento crítico, permitiendo a los estudiantes expresarse y explorar el aprendizaje a través de formas artísticas (plásticas, música, teatro).\n",
    "\n",
    "5. **Mathematics (Matemáticas):** Refuerza las habilidades numéricas y el razonamiento lógico, fundamentales en la resolución de problemas y comprensión de conceptos abstractos.\n",
    "\n",
    "6. **Social Sciences (Ciencias Sociales):** Incorpora la comprensión del entorno social, político, cultural y económico, promoviendo el desarrollo de la conciencia crítica sobre el mundo y su historia, además de habilidades de empatía y ciudadanía.\n"
   ]
  },
  {
   "cell_type": "markdown",
   "id": "39967d63",
   "metadata": {},
   "source": [
    "\n",
    "El enfoque STEAMS pretende desarrollar un aprendizaje **interdisciplinario** que integre estas áreas para fomentar un pensamiento más holístico y práctico. Se busca que los estudiantes no solo aprendan conocimientos técnicos, sino también cómo aplicarlos creativa y críticamente en situaciones reales, promoviendo habilidades como el trabajo en equipo, la comunicación y la innovación. En educación preescolar, primaria y secundaria, se adapta a las diferentes etapas de desarrollo cognitivo y emocional de los estudiantes, promoviendo el aprendizaje activo y contextualizado.  \n"
   ]
  },
  {
   "cell_type": "markdown",
   "id": "0130ec1b",
   "metadata": {},
   "source": [
    "\n",
    "<img src = 'https://www.campuseducacion.com/blog/wp-content/uploads/2023/03/foto01-1.jpg' width = 400>"
   ]
  },
  {
   "cell_type": "markdown",
   "id": "d3363251",
   "metadata": {},
   "source": [
    "# Y el enfoque TRRS de Duval "
   ]
  },
  {
   "cell_type": "markdown",
   "id": "96775931",
   "metadata": {
    "slideshow": {
     "slide_type": "slide"
    }
   },
   "source": [
    "## Título de la clase: Inducción matemática para Licenciatura en matemáticas   \n",
    "\n",
    "[]()"
   ]
  },
  {
   "cell_type": "markdown",
   "id": "78425292",
   "metadata": {},
   "source": [
    "Dame, por favor, un diseño de clase, con el enfoques: STEAMS  y de aprendizaje basado en problemas y proyectos(ABPP); y de Teoría de Registros de Representación de Duval; sobre: **\"El método de demostración por inducción matemática y sus aplicaciones a teoría de números\"**, siguiendo la estructura:   \n",
    "\n",
    "1. Título de la clase   \n",
    "   \n",
    "2. Objetivo de aprendizaje e indicadores de logro de estos objetivos.   \n",
    "   Diseña la clase incluyendo objetivos de educación matemática basada en el pensamiento crítico.   \n",
    "\n",
    "3.  Un mapa conceptual que resuma la clase elaborado en Graphviz de Python con nodos y edges de diferentes formas, colores y rellenos y renderizado en la siguiente ubicación: `\"C:/Users/marco/Downloads\"`. No olvides el parámetro `view = True` para el método `render()` de Graphviz. Para este mapa controla las superposiciones de los nodos con: graph [overlap=false]; // Elimina superposiciones (puede aumentar el espacio)\n",
    "graph [overlap=\"scalexy\"]; // Escala el gráfico para evitar overlaps\n",
    "graph [overlap=\"compress\"]; // Comprime el grafo sin overlaps   \n",
    "   \n",
    "4. Contenido de la clase    \n",
    "   \n",
    "5. Incluye una canción o un poema que ayude a interiorizar y fijar los conceptos asociados a esta clase.  \n",
    "   \n",
    "6. Dame elementos históricos y epistemológicos asociados a esta clase, pero contados como un cuento al estilo de un cuentero antioqueño en Colombia. Incluye imágenes de los protagonistas históricos de esta clase.   \n",
    "   \n",
    "7. Actividades de aprendizaje    \n",
    "     * Incluya actividades de aprendizaje utilizando Calculadora **Casio 991 LA cw**\n",
    "     * Incluya también actividades de aprendizaje y modelación de situaciones o problemas reales a través de circuitos lógicos y circuitos digitales o electrónicos utilizando la aplicación portable cocodrilo. [Descargue esta aplicación portable aquí](https://crocodileclips.net/descargar-crocodile-clips/) \n",
    "     * Incluye actividades de aprendizaje utilizando lenguaje Python y Jupyter Notebook.   \n",
    "\n",
    "8. Incluye una canción o un poema que ayude a interiorizar y fijar los conceptos asociados a esta clase.  \n",
    "       \n",
    "9.  Tarea o actividades de ejercitación y fijación.  \n",
    "    * Diseña las tareas de tal manera que en cada ejercicio se realicen las siguientes cuatro preguntas:  \n",
    "        - ¿Por qué esta expresión representa el problema?\n",
    "        - ¿Qué pasaría si cambiamos este valor?\n",
    "        - ¿Hay otra manera de resolverlo?\n",
    "        - ¿Cómo justificas que tu resultado es razonable?  \n",
    "    \n",
    "10.  Evaluación incluyendo diez proyectos, un ejemplo de quiz y un ejemplo de parcial.  \n",
    "     * Diseña el quiz con preguntas, donde se pida al estudiante el mostrar la aplicación de las expresiones lógicas en contextos: \n",
    "       - Deportivos\n",
    "       - Cotidianos\n",
    "       - Matemáticas en teoría de números \n",
    "       - Matemáticas en geometría euclidiana\n",
    "       - Matemática en Cálculo Diferencial.\n",
    "       - Económicos. \n",
    "     * Actividad de desarrollo de habilidades metacognitivas para hacernos consientes de nuestro propio proceso de aprendizaje y de la importancia de la evaluación continua.\n",
    "\n",
    "11.  Diseño de actividad de retroalimentación.  \n",
    "      \n",
    "12.  Dame un vocabulario y frases del idioma inglés asociadas a esta clase.   \n",
    "    \n",
    "13.  Incluye apéndice para la clase sobre desarrollo de habilidades para trabajar en equipo y de asertividad y empatía para relacionarnos. También elementos de la inteligencia emocional para presentar pruebas sin temor y desarrollar habilidades metacognitivas.   \n",
    "      \n",
    "14. Incluye 10 referentes en didáctica de la matemática que estén de acuerdo a la propuesta didáctica de esta clase. Adiciona a estos referentes a Raymond Duval (Representaciones y cambios de representación para la adquisición de conceptos matemáticos) y a Jeannette Wing (Desarrollo del pensamiento computacional). Déjame todos estos referentes ordenados de acuerdo a las normas APA. Déjame todos estos referentes ordenados de acuerdo a las normas APA. Incluye las citaciones a estos referentes a medida que vallas diseñando la clase. \n",
    "\n",
    "\n",
    "Pero  que este diseño sea para que el estudiante pueda aprender experimentando en cuadernos Jupyter con funciones de usuario y animaciones y visualizaciones en Python. En particular utiliza para el diseño de clase a NumPy, Pandas, SymPy, Matplotlib.pyplot, Seaborn, Plotly, ipywidgets, matplotlib.animation y Jupyter Notebook.  \n",
    "Cuando vallas a utilizar SymPy, ten en cuanta la siguiente configuración: \n",
    "# Corrección y mejora del código\n",
    "from sympy import symbols, Equivalent\n",
    "from sympy.logic.boolalg import truth_table\n",
    "\n",
    "Cada vez que utilices `matplotlib.animacion` no olvides incluir el uso de `IPython. display` para la renderización de estas animaciones a través de Jupyter Notebook. No olvides darme los diseños de clase con las ecuaciones matemáticas delimitadas con signo de dólar $ para que VS Code si me renderice estas expresiones del lenguaje latex. Cuando vallas a utilizar ipywidgets ten en cuenta la siguiente importación inicial para garantizar que la visualización interactiva si se renderice en VS Code:                                                      \n",
    "import numpy as np\n",
    "import matplotlib.pyplot as plt\n",
    "import ipywidgets as widgets\n",
    "from IPython.display import display, clear_output\n",
    "from matplotlib.patches import Rectangle\n",
    "\n",
    "# Configuración inicial para visualización estática\n",
    "%matplotlib inline "
   ]
  },
  {
   "cell_type": "markdown",
   "id": "d013b1e3",
   "metadata": {},
   "source": [
    "# Diseño de Clase: \"El Método de Demostración por Inducción Matemática y sus Aplicaciones a Teoría de Números\"\n"
   ]
  },
  {
   "cell_type": "markdown",
   "id": "97c087f0",
   "metadata": {},
   "source": [
    "\n",
    "# **\"Inducción Matemática: De los Números a los Circuitos - Un Viaje STEAM\"**\n"
   ]
  },
  {
   "cell_type": "markdown",
   "id": "560c6004",
   "metadata": {},
   "source": [
    "\n",
    "## 2. Objetivos de Aprendizaje e Indicadores de Logro\n"
   ]
  },
  {
   "cell_type": "markdown",
   "id": "a2f84285",
   "metadata": {},
   "source": [
    "\n",
    "### Objetivos:\n",
    "- Comprender el principio de inducción matemática como herramienta de demostración en teoría de números\n",
    "- Aplicar el método de inducción a problemas computacionales y circuitos lógicos\n",
    "- Desarrollar representaciones múltiples (simbólicas, numéricas, gráficas) de problemas inductivos\n",
    "- Conectar la inducción matemática con aplicaciones en ciencia, tecnología e ingeniería\n"
   ]
  },
  {
   "cell_type": "markdown",
   "id": "aeb4c18c",
   "metadata": {},
   "source": [
    "\n",
    "### Indicadores de Logro:\n",
    "- Formula correctamente proposiciones inductivas ($P(n)$)\n",
    "- Construye demostraciones por inducción completa e incompleta\n",
    "- Modela problemas de conteo y recursión usando Python\n",
    "- Diseña circuitos lógicos que implementan procesos inductivos\n",
    "- Evalúa críticamente demostraciones por inducción\n"
   ]
  },
  {
   "cell_type": "markdown",
   "id": "9e7eb6d2",
   "metadata": {},
   "source": [
    "\n",
    "### Objetivos de Pensamiento Crítico:\n",
    "- Diferenciar entre verificar y demostrar. \n",
    "- Diferenciar entre elemento particular y elemento particular arbitrario. \n",
    "- Identificar patrones y generalizaciones\n",
    "- Evaluar la validez de argumentos inductivos\n",
    "- Contrastar diferentes representaciones de un mismo problema\n",
    "- Cuestionar supuestos en demostraciones matemáticas\n"
   ]
  },
  {
   "cell_type": "markdown",
   "id": "37ac3908",
   "metadata": {},
   "source": [
    "\n",
    "## 3. Mapa Conceptual (Graphviz)\n"
   ]
  },
  {
   "cell_type": "code",
   "execution_count": 1,
   "id": "d6e6408f",
   "metadata": {},
   "outputs": [
    {
     "data": {
      "text/plain": [
       "'C:\\\\Users\\\\marco\\\\Downloads\\\\induccion_matematica.png'"
      ]
     },
     "execution_count": 1,
     "metadata": {},
     "output_type": "execute_result"
    }
   ],
   "source": [
    "from graphviz import Digraph\n",
    "\n",
    "# Crear el grafo\n",
    "dot = Digraph(comment='Inducción Matemática', \n",
    "              graph_attr={'overlap': 'scalexy', 'splines': 'true', 'fontsize': '20'})\n",
    "dot.attr(rankdir='TB')  # Top to Bottom\n",
    "\n",
    "# Nodos principales\n",
    "dot.node('A', 'Inducción Matemática', shape='doubleoctagon', style='filled', fillcolor='#FFD700')\n",
    "dot.node('B', 'Principio del Buen Orden', shape='ellipse', style='filled', fillcolor='#FFA07A')\n",
    "dot.node('C', 'Base Inductiva', shape='box', style='filled', fillcolor='#98FB98')\n",
    "dot.node('D', 'Hipótesis Inductiva', shape='box', style='filled', fillcolor='#ADD8E6')\n",
    "dot.node('E', 'Paso Inductivo', shape='box', style='filled', fillcolor='#FFB6C1')\n",
    "dot.node('F', 'Aplicaciones', shape='doubleoctagon', style='filled', fillcolor='#FFD700')\n",
    "dot.node('G', 'Teoría de Números', shape='ellipse', style='filled', fillcolor='#E6E6FA')\n",
    "dot.node('H', 'Circuitos Lógicos', shape='ellipse', style='filled', fillcolor='#E6E6FA')\n",
    "dot.node('I', 'Algoritmos Recursivos', shape='ellipse', style='filled', fillcolor='#E6E6FA')\n",
    "dot.node('J', 'Representaciones', shape='doubleoctagon', style='filled', fillcolor='#FFD700')\n",
    "dot.node('K', 'Simbólica', shape='ellipse', style='filled', fillcolor='#F0E68C')\n",
    "dot.node('L', 'Numérica', shape='ellipse', style='filled', fillcolor='#F0E68C')\n",
    "dot.node('M', 'Gráfica', shape='ellipse', style='filled', fillcolor='#F0E68C')\n",
    "dot.node('N', 'Computacional', shape='ellipse', style='filled', fillcolor='#F0E68C')\n",
    "\n",
    "# Conexiones\n",
    "dot.edges(['AB', 'AC', 'AD', 'AE', 'AF'])\n",
    "dot.edges(['FG', 'FH', 'FI'])\n",
    "dot.edges(['FJ', 'JK', 'JL', 'JM', 'JN'])\n",
    "\n",
    "# Guardar y renderizar\n",
    "dot.render('C:/Users/marco/Downloads/induccion_matematica', view=True, format='png')\n",
    "\n"
   ]
  },
  {
   "cell_type": "markdown",
   "id": "3195a805",
   "metadata": {},
   "source": [
    "\n",
    "## 4. Contenido de la Clase [Tomar contenido también de Susanna página 251 del PDF de Matemáticas discretas con aplicaciones](chrome-extension://efaidnbmnnnibpcajpcglclefindmkaj/https://bibliotecavirtual8denovpinas.wordpress.com/wp-content/uploads/2020/08/matematicas-discretas-con-aplicaciones-epp-4ta-edicion-2.pdf)\n"
   ]
  },
  {
   "cell_type": "markdown",
   "id": "3d749f2d",
   "metadata": {},
   "source": [
    "\n",
    "### 4.1 Fundamentos de Inducción Matemática\n"
   ]
  },
  {
   "cell_type": "markdown",
   "id": "3943bb97",
   "metadata": {},
   "source": [
    "- **Principio del Buen Orden**: Todo conjunto no vacío de números naturales tiene un elemento mínimo\n",
    "- **Estructura de una demostración por inducción**:\n",
    "  1. **Base Inductiva**: Probar $P(1) (\\text{o}\\  P(n_{0}))$\n",
    "  2. **Hipótesis Inductiva**: Asumir $P(k)$ válido\n",
    "  3. **Paso Inductivo**: Probar $P(k) ⇒ P(k+1)$\n"
   ]
  },
  {
   "cell_type": "markdown",
   "id": "14539681",
   "metadata": {},
   "source": [
    "\n",
    "### 4.2 Representaciones Múltiples (Duval)\n",
    "- **Simbólica**: $\\sum_{i=1}^n i = \\frac{n(n+1)}{2}$\n",
    "- **Numérica**: Tablas de valores para $n = 1,2,3,...$\n",
    "- **Gráfica**: Diagramas de puntos o barras\n",
    "- **Computacional**: Implementación recursiva en Python\n"
   ]
  },
  {
   "cell_type": "markdown",
   "id": "ee96e076",
   "metadata": {},
   "source": [
    "Estas son las representaciones para la suma de los primeros $n$ enteros, utilizando pandas, matplotlib y una función recursiva en Python:\n"
   ]
  },
  {
   "cell_type": "markdown",
   "id": "0b185d7b",
   "metadata": {},
   "source": [
    "\n",
    "### 1. Representación Numérica (Tabla de valores con pandas)\n"
   ]
  },
  {
   "cell_type": "code",
   "execution_count": 2,
   "id": "c0a64fc0",
   "metadata": {},
   "outputs": [
    {
     "data": {
      "application/vnd.microsoft.datawrangler.viewer.v0+json": {
       "columns": [
        {
         "name": "index",
         "rawType": "int64",
         "type": "integer"
        },
        {
         "name": "n",
         "rawType": "int64",
         "type": "integer"
        },
        {
         "name": "Suma Real",
         "rawType": "int64",
         "type": "integer"
        },
        {
         "name": "Fórmula",
         "rawType": "int64",
         "type": "integer"
        }
       ],
       "conversionMethod": "pd.DataFrame",
       "ref": "af9946ae-a139-44b2-8408-a97f0ead496d",
       "rows": [
        [
         "0",
         "1",
         "1",
         "1"
        ],
        [
         "1",
         "2",
         "3",
         "3"
        ],
        [
         "2",
         "3",
         "6",
         "6"
        ],
        [
         "3",
         "4",
         "10",
         "10"
        ],
        [
         "4",
         "5",
         "15",
         "15"
        ],
        [
         "5",
         "6",
         "21",
         "21"
        ],
        [
         "6",
         "7",
         "28",
         "28"
        ],
        [
         "7",
         "8",
         "36",
         "36"
        ],
        [
         "8",
         "9",
         "45",
         "45"
        ],
        [
         "9",
         "10",
         "55",
         "55"
        ]
       ],
       "shape": {
        "columns": 3,
        "rows": 10
       }
      },
      "text/html": [
       "<div>\n",
       "<style scoped>\n",
       "    .dataframe tbody tr th:only-of-type {\n",
       "        vertical-align: middle;\n",
       "    }\n",
       "\n",
       "    .dataframe tbody tr th {\n",
       "        vertical-align: top;\n",
       "    }\n",
       "\n",
       "    .dataframe thead th {\n",
       "        text-align: right;\n",
       "    }\n",
       "</style>\n",
       "<table border=\"1\" class=\"dataframe\">\n",
       "  <thead>\n",
       "    <tr style=\"text-align: right;\">\n",
       "      <th></th>\n",
       "      <th>n</th>\n",
       "      <th>Suma Real</th>\n",
       "      <th>Fórmula</th>\n",
       "    </tr>\n",
       "  </thead>\n",
       "  <tbody>\n",
       "    <tr>\n",
       "      <th>0</th>\n",
       "      <td>1</td>\n",
       "      <td>1</td>\n",
       "      <td>1</td>\n",
       "    </tr>\n",
       "    <tr>\n",
       "      <th>1</th>\n",
       "      <td>2</td>\n",
       "      <td>3</td>\n",
       "      <td>3</td>\n",
       "    </tr>\n",
       "    <tr>\n",
       "      <th>2</th>\n",
       "      <td>3</td>\n",
       "      <td>6</td>\n",
       "      <td>6</td>\n",
       "    </tr>\n",
       "    <tr>\n",
       "      <th>3</th>\n",
       "      <td>4</td>\n",
       "      <td>10</td>\n",
       "      <td>10</td>\n",
       "    </tr>\n",
       "    <tr>\n",
       "      <th>4</th>\n",
       "      <td>5</td>\n",
       "      <td>15</td>\n",
       "      <td>15</td>\n",
       "    </tr>\n",
       "    <tr>\n",
       "      <th>5</th>\n",
       "      <td>6</td>\n",
       "      <td>21</td>\n",
       "      <td>21</td>\n",
       "    </tr>\n",
       "    <tr>\n",
       "      <th>6</th>\n",
       "      <td>7</td>\n",
       "      <td>28</td>\n",
       "      <td>28</td>\n",
       "    </tr>\n",
       "    <tr>\n",
       "      <th>7</th>\n",
       "      <td>8</td>\n",
       "      <td>36</td>\n",
       "      <td>36</td>\n",
       "    </tr>\n",
       "    <tr>\n",
       "      <th>8</th>\n",
       "      <td>9</td>\n",
       "      <td>45</td>\n",
       "      <td>45</td>\n",
       "    </tr>\n",
       "    <tr>\n",
       "      <th>9</th>\n",
       "      <td>10</td>\n",
       "      <td>55</td>\n",
       "      <td>55</td>\n",
       "    </tr>\n",
       "  </tbody>\n",
       "</table>\n",
       "</div>"
      ],
      "text/plain": [
       "    n  Suma Real  Fórmula\n",
       "0   1          1        1\n",
       "1   2          3        3\n",
       "2   3          6        6\n",
       "3   4         10       10\n",
       "4   5         15       15\n",
       "5   6         21       21\n",
       "6   7         28       28\n",
       "7   8         36       36\n",
       "8   9         45       45\n",
       "9  10         55       55"
      ]
     },
     "execution_count": 2,
     "metadata": {},
     "output_type": "execute_result"
    }
   ],
   "source": [
    "\n",
    "import pandas as pd\n",
    "\n",
    "# Crear tabla de valores para n = 1 a 10\n",
    "data = {'n': range(1, 11),\n",
    "        'Suma Real': [sum(range(1, n+1)) for n in range(1, 11)],\n",
    "        'Fórmula': [n*(n+1)//2 for n in range(1, 11)]}\n",
    "\n",
    "df = pd.DataFrame(data)\n",
    "df\n",
    "\n"
   ]
  },
  {
   "cell_type": "markdown",
   "id": "d5734d36",
   "metadata": {},
   "source": [
    "\n",
    "### 2. Representación Gráfica (Diagrama de barras con matplotlib)\n"
   ]
  },
  {
   "cell_type": "code",
   "execution_count": 3,
   "id": "6838e9fa",
   "metadata": {},
   "outputs": [
    {
     "data": {
      "image/png": "[encoded data removed]",
      "text/plain": [
       "<Figure size 640x480 with 1 Axes>"
      ]
     },
     "metadata": {},
     "output_type": "display_data"
    }
   ],
   "source": [
    "import matplotlib.pyplot as plt\n",
    "\n",
    "n_values = df['n']\n",
    "suma_real = df['Suma Real']\n",
    "\n",
    "plt.bar(n_values, suma_real, color='skyblue')\n",
    "plt.xlabel('n')\n",
    "plt.ylabel('Suma total')\n",
    "plt.title('Suma de los primeros n enteros')\n",
    "plt.xticks(n_values)\n",
    "plt.grid(axis='y', linestyle='--', alpha=0.7)\n",
    "plt.show()\n",
    "\n"
   ]
  },
  {
   "cell_type": "markdown",
   "id": "f505eeda",
   "metadata": {},
   "source": [
    "\n",
    "### 3. Implementación Recursiva (Función de usuario)\n"
   ]
  },
  {
   "cell_type": "code",
   "execution_count": 5,
   "id": "17e8a329",
   "metadata": {},
   "outputs": [],
   "source": [
    "def suma_recursiva(n):\n",
    "    if n == 1:\n",
    "        return 1\n",
    "    else:\n",
    "        return n + suma_recursiva(n-1)\n"
   ]
  },
  {
   "cell_type": "code",
   "execution_count": 11,
   "id": "ddbf7bbb",
   "metadata": {},
   "outputs": [
    {
     "name": "stdout",
     "output_type": "stream",
     "text": [
      "CPU times: total: 0 ns\n",
      "Wall time: 0 ns\n"
     ]
    },
    {
     "data": {
      "text/plain": [
       "5050"
      ]
     },
     "execution_count": 11,
     "metadata": {},
     "output_type": "execute_result"
    }
   ],
   "source": [
    "%%time\n",
    "# Ejemplo de uso\n",
    "suma_recursiva(100)  # Output: 15 (1+2+3+4+5)\n",
    "\n"
   ]
  },
  {
   "cell_type": "markdown",
   "id": "f74ff625",
   "metadata": {},
   "source": [
    "\n",
    "### Versión completa integrada:\n"
   ]
  },
  {
   "cell_type": "code",
   "execution_count": 12,
   "id": "cb198562",
   "metadata": {},
   "outputs": [
    {
     "name": "stdout",
     "output_type": "stream",
     "text": [
      "Tabla Comparativa:\n",
      "    n  Suma Iterativa  Fórmula  Suma Recursiva\n",
      "0   1               1        1               1\n",
      "1   2               3        3               3\n",
      "2   3               6        6               6\n",
      "3   4              10       10              10\n",
      "4   5              15       15              15\n",
      "5   6              21       21              21\n",
      "6   7              28       28              28\n",
      "7   8              36       36              36\n",
      "8   9              45       45              45\n",
      "9  10              55       55              55\n"
     ]
    },
    {
     "data": {
      "image/png": "[encoded data removed]",
      "text/plain": [
       "<Figure size 1000x500 with 1 Axes>"
      ]
     },
     "metadata": {},
     "output_type": "display_data"
    }
   ],
   "source": [
    "import pandas as pd\n",
    "import matplotlib.pyplot as plt\n",
    "\n",
    "# Función recursiva\n",
    "def suma_recursiva(n):\n",
    "    return 1 if n == 1 else n + suma_recursiva(n-1)\n",
    "\n",
    "# Crear tabla\n",
    "n_max = 10\n",
    "data = {\n",
    "    'n': range(1, n_max+1),\n",
    "    'Suma Iterativa': [sum(range(1, n+1)) for n in range(1, n_max+1)],\n",
    "    'Fórmula': [n*(n+1)//2 for n in range(1, n_max+1)],\n",
    "    'Suma Recursiva': [suma_recursiva(n) for n in range(1, n_max+1)]\n",
    "}\n",
    "\n",
    "df = pd.DataFrame(data)\n",
    "\n",
    "# Mostrar tabla\n",
    "print(\"Tabla Comparativa:\")\n",
    "print(df)\n",
    "\n",
    "# Gráfico\n",
    "plt.figure(figsize=(10, 5))\n",
    "plt.bar(df['n'], df['Suma Recursiva'], color='lightgreen', label='Suma Recursiva')\n",
    "plt.plot(df['n'], df['Fórmula'], 'ro-', label='Fórmula n(n+1)/2')\n",
    "plt.xlabel('Valor de n')\n",
    "plt.ylabel('Suma total')\n",
    "plt.title('Comparación de Métodos para Sumar 1+2+...+n')\n",
    "plt.legend()\n",
    "plt.grid(True)\n",
    "plt.xticks(df['n'])\n",
    "plt.show()\n",
    "\n"
   ]
  },
  {
   "cell_type": "markdown",
   "id": "8ea4b4c8",
   "metadata": {},
   "source": [
    "\n",
    "Este código:\n",
    "1. Genera una tabla comparando tres métodos (iterativo, fórmula y recursivo)\n",
    "2. Muestra un gráfico de barras para la versión recursiva con la fórmula superpuesta\n",
    "3. Incluye la implementación recursiva como función independiente\n",
    "\n",
    "La fórmula matemática $\\frac{n(n+1)}{2}$ coincide perfectamente con todos los métodos computacionales, verificando su validez."
   ]
  },
  {
   "cell_type": "markdown",
   "id": "6f2a1b2f",
   "metadata": {},
   "source": [
    "\n",
    "### 4.3 Aplicaciones en Teoría de Números\n",
    "- Divisibilidad: $n^3 - n$ es divisible por $6 \\ \\forall \\ n \\in \\mathbb{N}$\n",
    "- Desigualdades: $2^n > n^2$ para $n \\geq 5$\n",
    "- Identidades: Suma de los primeros $n$ impares es $n^2$\n"
   ]
  },
  {
   "cell_type": "markdown",
   "id": "cca7f52c",
   "metadata": {},
   "source": [
    "\n",
    "## 5. Poema de Inducción Matemática\n",
    "\n",
    "**\"El Soneto Inductivo\"**  \n",
    "*(Para memorizar el método de inducción)*  \n",
    "\n",
    "*Primero la base has de probar,*  \n",
    "*que para el uno se cumple P.*  \n",
    "*Luego supón que para k es verdad,*  \n",
    "*(esa es tu hipótesis, no la olvidés).*  \n",
    "\n",
    "*Si logras entonces demostrar,*  \n",
    "*que para k+1 también se da,*  \n",
    "*habrás probado, sin lugar a dudar,*  \n",
    "*que para todo n, P es verdad.*  \n",
    "\n",
    "*Así la inducción funciona bien,*  \n",
    "*como dominó que al caer,*  \n",
    "*un trás otro van sin parar,*  \n",
    "\n",
    "*desde el inicio hasta el infinito,*  \n",
    "*en un bello proceso inductivo,*  \n",
    "*que demuestra todo lo que hay que probar.*  \n"
   ]
  },
  {
   "cell_type": "markdown",
   "id": "c007a8da",
   "metadata": {},
   "source": [
    "\n",
    "## 6. Historia y Epistemología (Cuento Antioqueño)\n",
    "\n",
    "**\"El Tío Pascal y los Niños Curiosos\"**\n",
    "\n",
    "*¡Ay, quién lo mandaría a don Blaise Pascal!* - decía el tío Pepe mientras acomodaba su sombrero aguadeño - *Resulta que allá por el siglo XVII, este francés tan listo se puso a jugar con unos números y unos triángulos, y de pronto ¡pum! le salió eso que hoy llamamos inducción matemática.*\n",
    "\n",
    "*Pero no crean que fue él solo - continuaba, mientras mostraba una imagen de Pascal - ahí andaban también los árabes con Al-Karaji y después el italiano Maurolico, que era un cura muy sabio, haciendo sus pruebas por \"descenso de infinito\".*\n",
    "\n",
    "*Y miren esta foto del señor Peano - sacaba un retrato amarillento - que vino después a ponerle los axiomas bonitos a los números naturales, con eso del \"cero es natural\" y \"todo número tiene un sucesor\".*\n",
    "\n",
    "*Lo más chistoso es que los griegos, tan echados pa'lante, casi la descubren con Euclides y su algoritmo, pero no, se quedaron en las ganas. ¡Qué cosas!*\n",
    "\n",
    "*Así que cuando ustedes hagan sus tareas de inducción, recuerden que están siguiendo los pasos de estos señores que se la pasaban pensando en cómo demostrar cosas para todos los números sin tener que probar uno por uno, porque ¡caramba! eso sería como querer contar todos los granos de arena de la playa.*\n"
   ]
  },
  {
   "cell_type": "markdown",
   "id": "5a3e21e4",
   "metadata": {},
   "source": [
    "\n",
    "## 7. Actividades de Aprendizaje\n"
   ]
  },
  {
   "cell_type": "markdown",
   "id": "1f780c86",
   "metadata": {},
   "source": [
    "\n",
    "### 7.1 Con Calculadora Casio 991 LA cw\n",
    "- **Actividad 1**: Verificar pequeñas instancias de proposiciones inductivas\n",
    "  - Calcular $\\sum_{i=1}^k i$ para $k=1$ a 10 y comparar con $\\frac{k(k+1)}{2}$\n",
    "  - Usar la función TABLE para generar valores y buscar patrones\n"
   ]
  },
  {
   "cell_type": "markdown",
   "id": "8e21bf9f",
   "metadata": {},
   "source": [
    "\n",
    "### 7.2 Con Crocodile Clips (Circuitos Lógicos)\n",
    "- **Actividad 2**: Diseñar un circuito que implemente un contador recursivo\n",
    "  - Usar flip-flops para representar el paso inductivo\n",
    "  - Visualizar cómo el estado actual ($P(k)$) lleva al siguiente ($P(k+1)$)\n"
   ]
  },
  {
   "cell_type": "markdown",
   "id": "a5718297",
   "metadata": {},
   "source": [
    "\n",
    "### 7.3 Con Python y Jupyter Notebook\n"
   ]
  },
  {
   "cell_type": "code",
   "execution_count": 13,
   "id": "a6a2e713",
   "metadata": {},
   "outputs": [
    {
     "name": "stderr",
     "output_type": "stream",
     "text": [
      "<>:27: SyntaxWarning: invalid escape sequence '\\s'\n",
      "<>:55: SyntaxWarning: invalid escape sequence '\\s'\n",
      "<>:27: SyntaxWarning: invalid escape sequence '\\s'\n",
      "<>:55: SyntaxWarning: invalid escape sequence '\\s'\n",
      "C:\\Users\\marco\\AppData\\Local\\Temp\\ipykernel_1820\\3078145851.py:27: SyntaxWarning: invalid escape sequence '\\s'\n",
      "  ax.set_title('Inducción Matemática: $\\sum_{i=1}^n i = \\\\frac{n(n+1)}{2}$')\n",
      "C:\\Users\\marco\\AppData\\Local\\Temp\\ipykernel_1820\\3078145851.py:55: SyntaxWarning: invalid escape sequence '\\s'\n",
      "  print(\"Demostración de $\\sum_{i=1}^n i = \\\\frac{n(n+1)}{2}$\")\n"
     ]
    },
    {
     "data": {
      "application/vnd.jupyter.widget-view+json": {
       "model_id": "c8aa88345dd04137a622d4701691ec39",
       "version_major": 2,
       "version_minor": 0
      },
      "text/plain": [
       "interactive(children=(IntSlider(value=5, description='n_max', max=20, min=1), Output()), _dom_classes=('widget…"
      ]
     },
     "metadata": {},
     "output_type": "display_data"
    },
    {
     "name": "stdout",
     "output_type": "stream",
     "text": [
      "Demostración de $\\sum_{i=1}^n i = \\frac{n(n+1)}{2}$\n",
      "Base Inductiva (n=1): True\n"
     ]
    },
    {
     "name": "stderr",
     "output_type": "stream",
     "text": [
      "C:\\Users\\marco\\AppData\\Local\\Temp\\ipykernel_1820\\3078145851.py:27: SyntaxWarning: invalid escape sequence '\\s'\n",
      "  ax.set_title('Inducción Matemática: $\\sum_{i=1}^n i = \\\\frac{n(n+1)}{2}$')\n",
      "C:\\Users\\marco\\AppData\\Local\\Temp\\ipykernel_1820\\3078145851.py:55: SyntaxWarning: invalid escape sequence '\\s'\n",
      "  print(\"Demostración de $\\sum_{i=1}^n i = \\\\frac{n(n+1)}{2}$\")\n"
     ]
    },
    {
     "ename": "TypeError",
     "evalue": "unsupported operand type(s) for -: 'Equality' and 'Equality'",
     "output_type": "error",
     "traceback": [
      "\u001b[31m---------------------------------------------------------------------------\u001b[39m",
      "\u001b[31mTypeError\u001b[39m                                 Traceback (most recent call last)",
      "\u001b[36mCell\u001b[39m\u001b[36m \u001b[39m\u001b[32mIn[13]\u001b[39m\u001b[32m, line 58\u001b[39m\n\u001b[32m     56\u001b[39m suma = summation(i, (i, \u001b[32m1\u001b[39m, n))\n\u001b[32m     57\u001b[39m formula = n*(n+\u001b[32m1\u001b[39m)/\u001b[32m2\u001b[39m\n\u001b[32m---> \u001b[39m\u001b[32m58\u001b[39m \u001b[43mdemostrar_induccion\u001b[49m\u001b[43m(\u001b[49m\u001b[43mEq\u001b[49m\u001b[43m(\u001b[49m\u001b[43msuma\u001b[49m\u001b[43m,\u001b[49m\u001b[43m \u001b[49m\u001b[43mformula\u001b[49m\u001b[43m)\u001b[49m\u001b[43m,\u001b[49m\u001b[43m \u001b[49m\u001b[43mn\u001b[49m\u001b[43m)\u001b[49m\n",
      "\u001b[36mCell\u001b[39m\u001b[36m \u001b[39m\u001b[32mIn[13]\u001b[39m\u001b[32m, line 43\u001b[39m, in \u001b[36mdemostrar_induccion\u001b[39m\u001b[34m(expr, var)\u001b[39m\n\u001b[32m     41\u001b[39m hipotesis = expr.subs(var, k)\n\u001b[32m     42\u001b[39m paso = expr.subs(var, k+\u001b[32m1\u001b[39m)\n\u001b[32m---> \u001b[39m\u001b[32m43\u001b[39m diferencia = simplify(\u001b[43mpaso\u001b[49m\u001b[43m \u001b[49m\u001b[43m-\u001b[49m\u001b[43m \u001b[49m\u001b[43mhipotesis\u001b[49m)\n\u001b[32m     45\u001b[39m \u001b[38;5;28mprint\u001b[39m(\u001b[33mf\u001b[39m\u001b[33m\"\u001b[39m\u001b[38;5;130;01m\\n\u001b[39;00m\u001b[33mHipótesis Inductiva (n=k): \u001b[39m\u001b[38;5;132;01m{\u001b[39;00mhipotesis\u001b[38;5;132;01m}\u001b[39;00m\u001b[33m\"\u001b[39m)\n\u001b[32m     46\u001b[39m \u001b[38;5;28mprint\u001b[39m(\u001b[33mf\u001b[39m\u001b[33m\"\u001b[39m\u001b[38;5;130;01m\\n\u001b[39;00m\u001b[33mPaso Inductivo (n=k+1): \u001b[39m\u001b[38;5;132;01m{\u001b[39;00mpaso\u001b[38;5;132;01m}\u001b[39;00m\u001b[33m\"\u001b[39m)\n",
      "\u001b[31mTypeError\u001b[39m: unsupported operand type(s) for -: 'Equality' and 'Equality'"
     ]
    }
   ],
   "source": [
    "import numpy as np    # cálculo numérico\n",
    "import matplotlib.pyplot as plt # visualizar \n",
    "from matplotlib.animation import FuncAnimation\n",
    "from IPython.display import HTML\n",
    "import sympy as sp\n",
    "from sympy import symbols, Eq, Function, summation, simplify\n",
    "from ipywidgets import interact, IntSlider\n",
    "\n",
    "# Configuración SymPy\n",
    "n, k = symbols('n k', integer=True, positive=True)\n",
    "i = symbols('i', integer=True)\n",
    "\n",
    "# Visualización interactiva de inducción\n",
    "def plot_induction(n_max):\n",
    "    fig, ax = plt.subplots(figsize=(10, 6))\n",
    "    \n",
    "    x_vals = np.arange(1, n_max+1)\n",
    "    sum_vals = np.cumsum(x_vals)\n",
    "    formula_vals = x_vals * (x_vals + 1) / 2\n",
    "    \n",
    "    ax.plot(x_vals, sum_vals, 'bo-', label='Suma acumulada')\n",
    "    ax.plot(x_vals, formula_vals, 'r--', label='n(n+1)/2')\n",
    "    \n",
    "    for n in x_vals:\n",
    "        ax.text(n, sum_vals[n-1], f'P({n})', ha='center', va='bottom')\n",
    "    \n",
    "    ax.set_title('Inducción Matemática: $\\sum_{i=1}^n i = \\\\frac{n(n+1)}{2}$')\n",
    "    ax.set_xlabel('n')\n",
    "    ax.legend()\n",
    "    plt.grid()\n",
    "    plt.show()\n",
    "\n",
    "# Widget interactivo\n",
    "interact(plot_induction, n_max=IntSlider(min=1, max=20, step=1, value=5))\n",
    "\n",
    "# Demostración automática con SymPy\n",
    "def demostrar_induccion(expr, var):\n",
    "    base = expr.subs(var, 1)\n",
    "    print(f\"Base Inductiva (n=1): {base}\")\n",
    "    \n",
    "    hipotesis = expr.subs(var, k)\n",
    "    paso = expr.subs(var, k+1)\n",
    "    diferencia = simplify(paso - hipotesis)\n",
    "    \n",
    "    print(f\"\\nHipótesis Inductiva (n=k): {hipotesis}\")\n",
    "    print(f\"\\nPaso Inductivo (n=k+1): {paso}\")\n",
    "    print(f\"Diferencia: {diferencia}\")\n",
    "    \n",
    "    if diferencia == k+1:\n",
    "        print(\"\\n¡Se cumple el paso inductivo!\")\n",
    "    else:\n",
    "        print(\"\\nRevisar el paso inductivo\")\n",
    "\n",
    "# Ejemplo de uso\n",
    "print(\"Demostración de $\\sum_{i=1}^n i = \\\\frac{n(n+1)}{2}$\")\n",
    "suma = summation(i, (i, 1, n))\n",
    "formula = n*(n+1)/2\n",
    "demostrar_induccion(Eq(suma, formula), n)\n",
    "\n"
   ]
  },
  {
   "cell_type": "code",
   "execution_count": 14,
   "id": "91885dfc",
   "metadata": {},
   "outputs": [
    {
     "name": "stdout",
     "output_type": "stream",
     "text": [
      "CPU times: total: 15.6 ms\n",
      "Wall time: 26 ms\n"
     ]
    },
    {
     "data": {
      "text/plain": [
       "np.int64(50000005000000)"
      ]
     },
     "execution_count": 14,
     "metadata": {},
     "output_type": "execute_result"
    }
   ],
   "source": [
    "%%time \n",
    "import numpy as np \n",
    "n = 10_000_000\n",
    "numeros  = np.arange(1, n+1)\n",
    "suma = np.sum(numeros)\n",
    "suma "
   ]
  },
  {
   "cell_type": "code",
   "execution_count": 14,
   "id": "a2a65d9b",
   "metadata": {},
   "outputs": [
    {
     "name": "stdout",
     "output_type": "stream",
     "text": [
      "CPU times: total: 0 ns\n",
      "Wall time: 0 ns\n"
     ]
    },
    {
     "data": {
      "text/plain": [
       "50000005000000.0"
      ]
     },
     "execution_count": 14,
     "metadata": {},
     "output_type": "execute_result"
    }
   ],
   "source": [
    "%%time\n",
    "n*(n+1)/2"
   ]
  },
  {
   "cell_type": "markdown",
   "id": "4db83d50",
   "metadata": {},
   "source": [
    "\n",
    "## 8. Canción de Inducción Matemática\n",
    "\n",
    "**\"La Cumbia Inductiva\"**  \n",
    "*(Para bailar y aprender)*  \n",
    "\n",
    "*(Estribillo)*  \n",
    "*Uno, dos, tres, la base ya verifiqué,*  \n",
    "*supongo que es cierto para k,*  \n",
    "*si para k+1 también se da,*  \n",
    "*¡entonces para todo n va!*  \n",
    "\n",
    "*(Verso 1)*  \n",
    "*Cuando Gauss era pequeño,*  \n",
    "*sumó números con esmero,*  \n",
    "*de uno hasta cien encontró,*  \n",
    "*que era igual a cincuenta por ciento uno,*  \n",
    "*¡oh sí!*  \n",
    "\n",
    "*(Verso 2)*  \n",
    "*Los dominós van cayendo,*  \n",
    "*uno tras otro sin parar,*  \n",
    "*como el paso inductivo,*  \n",
    "*que va demostrando sin cesar.*  \n",
    "\n",
    "*(Estribillo)*  \n",
    "*Uno, dos, tres, la base ya verifiqué...*  \n"
   ]
  },
  {
   "cell_type": "markdown",
   "id": "d6500b86",
   "metadata": {},
   "source": [
    "\n",
    "## 9. Tareas y Ejercicios\n",
    "\n",
    "### Ejercicio 1: Suma de Cuadrados\n",
    "Demuestra por inducción que $\\sum_{i=1}^n i^2 = \\frac{n(n+1)(2n+1)}{6}$\n",
    "\n",
    "**Preguntas críticas:**\n",
    "\n",
    "2. ¿Qué pasaría si cambiamos el exponente a 3?\n",
    "3. ¿Hay otra manera de resolverlo (ej. por combinatoria)?\n",
    "4. ¿Cómo justificas que tu resultado es razonable?\n"
   ]
  },
  {
   "cell_type": "markdown",
   "id": "ad4c410e",
   "metadata": {},
   "source": [
    "\n",
    "### Ejercicio 2: Desigualdad Inductiva\n",
    "Demuestra que $3^n > n^2$ para todo $n \\geq 1$\n",
    "\n",
    "**Preguntas críticas:**\n",
    "\n",
    "1. ¿Qué pasa si cambiamos la desigualdad a $2^n > n^3$?\n",
    "\n"
   ]
  },
  {
   "cell_type": "markdown",
   "id": "c4801344",
   "metadata": {},
   "source": [
    "\n",
    "## 10. Evaluación\n",
    "\n",
    "### Proyectos STEAM:\n",
    "1. Modelar el crecimiento de una población bacteriana usando inducción\n",
    "2. Diseñar un circuito secuencial que implemente una sucesión recursiva\n",
    "3. Crear una animación en Python que visualice el proceso inductivo\n",
    "4. Analizar una conjetura matemática y verificar casos particulares\n",
    "5. Relacionar la inducción con pruebas en programación funcional\n",
    "6. Investigar aplicaciones de inducción en criptografía\n",
    "7. Diseñar un juego educativo sobre inducción matemática\n",
    "8. Comparar inducción matemática con razonamiento inductivo en ciencia\n",
    "9. Aplicar inducción al análisis de algoritmos recursivos\n",
    "10. Crear un podcast sobre la historia de la inducción matemática\n"
   ]
  },
  {
   "cell_type": "markdown",
   "id": "7a451ef6",
   "metadata": {},
   "source": [
    "\n",
    "### Quiz Ejemplo:\n",
    "**Pregunta 1 (Deportes):**  \n",
    "En un torneo de tenis con $2^n$ jugadores, ¿cuántos partidos se necesitan para determinar un campeón? Demuestra tu respuesta por inducción.\n"
   ]
  },
  {
   "cell_type": "markdown",
   "id": "3decc4d3",
   "metadata": {},
   "source": [
    "\n",
    "**Pregunta 2 (Economía):**  \n",
    "Si una inversión crece un 5% anual, demuestra por inducción que después de $n$ años el valor será $P(1.05)^n$.\n"
   ]
  },
  {
   "cell_type": "markdown",
   "id": "3d81c194",
   "metadata": {},
   "source": [
    "Parcial 1 sobre métodos de demostración\n",
    "\n",
    "1.\tMétodo directo: Demuestre que la suma de dos números naturales pares es par. Empiece por enunciar de manera implicativa y simbólica, el teorema dado. \n",
    "2.\tMétodo del contrarrecíproco: Demuestre que, si el cuadrado de un número es impar, entonces el número es impar. \n",
    "•\tEmpiece enunciando simbólicamente y de manera implicativa, el teorema dado. \n",
    "•\tEnuncie el contrarrecíproco de la implicación anterior sin utilizar la palabra “no”\n",
    "3.\tMétodo de reducción al absurdo: Demuestre que, si el cuadrado de un número es impar, entonces el número es impar. \n",
    "•\tEmpiece enunciado de manera simbólica y de manera implicativa, el teorema dado. \n",
    "•\tEnuncie la negación de la implicación anterior utilizando la forma alternativa del condicional. \n",
    "\n",
    "4.\tMétodo de inducción matemática: demuestre que la suma de los primeros $n$ impares es igual al cuadrado de $n$. \n",
    "•\tEmpiece enunciando el teorema de manera simbólica y utilizando cuantificadores. \n",
    "5.\tDescriba simbólica y verbalmente los cuatro métodos de demostración vistos.  Y describa la utilidad de cada uno de estos métodos. \n",
    "\n",
    "\n",
    "\n",
    "\n",
    "\n",
    "\n",
    "\n",
    "\n",
    "\n",
    "\n",
    "Parcial 2 sobre métodos de demostración\n",
    "\n",
    "6.\tMétodo directo: Demuestre que la suma de dos números naturales impares es par. Empiece por enunciar de manera implicativa y simbólica, el teorema dado. \n",
    "7.\tMétodo del contrarrecíproco: Demuestre que, si el cuadrado de un número es par, entonces el número es par. \n",
    "•\tEmpiece enunciando simbólicamente y de manera implicativa, el teorema dado. \n",
    "•\tEnuncie el contrarrecíproco de la implicación anterior sin utilizar la palabra “no”\n",
    "8.\tMétodo de reducción al absurdo: Demuestre que, si el cuadrado de un número es par, entonces el número es par. \n",
    "•\tEmpiece enunciado de manera simbólica y de manera implicativa, el teorema dado. \n",
    "•\tEnuncie la negación de la implicación anterior utilizando la forma alternativa del condicional. \n",
    "\n",
    "9.\tMétodo de inducción matemática: demuestre que la suma de los primeros $n$ naturales es igual al semiproducto del número de sumando y el siguiente de este. \n",
    "•\tEmpiece enunciando el teorema de manera simbólica y utilizando cuantificadores. \n",
    "•\tIdentifique a la función proposicional P(n) para este teorema. \n",
    "10.\tDescriba simbólica y verbalmente los cuatro métodos de demostración vistos.  Y describa la utilidad de cada uno de estos métodos. \n",
    "\n",
    "\n",
    "\n",
    "\n",
    "\n",
    "\n",
    "Parcial 3 sobre métodos de demostración\n",
    "\n",
    "11.\tMétodo directo: Demuestre que el producto de dos números naturales pares es par. Empiece por enunciar de manera implicativa y simbólica, el teorema dado. \n",
    "12.\tMétodo del contrarrecíproco: Demuestre que, si el cuadrado de un número es impar, entonces el número es impar. \n",
    "•\tEmpiece enunciando simbólicamente y de manera implicativa, el teorema dado. \n",
    "•\tEnuncie el contrarrecíproco de la implicación anterior sin utilizar la palabra “no”\n",
    "13.\tMétodo de reducción al absurdo: Demuestre que, si el cuadrado de un número es impar, entonces el número es impar. \n",
    "•\tEmpiece enunciado de manera simbólica y de manera implicativa, el teorema dado. \n",
    "•\tEnuncie la negación de la implicación anterior utilizando la forma alternativa del condicional. \n",
    "\n",
    "14.\tMétodo de inducción matemática: demuestre que la suma de los primeros $n$ cuadrados es igual a n(n+1)(2n+1)/6. \n",
    "•\tEmpiece enunciando el teorema de manera simbólica y utilizando cuantificadores. \n",
    "•\tIdentifique a la función proposicional P(n) para este teorema. \n",
    "15.\tDescriba simbólica y verbalmente los cuatro métodos de demostración vistos.  Y describa la utilidad de cada uno de estos métodos. \n",
    "\n",
    "\n",
    "\n",
    "\n",
    "\n",
    "\n",
    "\n",
    "\n",
    "Parcial 4 sobre métodos de demostración\n",
    "\n",
    "16.\tMétodo directo: Demuestre que el producto de dos números naturales impares es impar. Empiece por enunciar de manera implicativa y simbólica, el teorema dado. \n",
    "17.\tMétodo del contrarrecíproco: Demuestre que, si el cuadrado de un número es impar, entonces el número es impar. \n",
    "•\tEmpiece enunciando simbólicamente y de manera implicativa, el teorema dado. \n",
    "•\tEnuncie el contrarrecíproco de la implicación anterior sin utilizar la palabra “no”\n",
    "18.\tMétodo de reducción al absurdo: Demuestre que, si el cuadrado de un número es impar, entonces el número es impar. \n",
    "•\tEmpiece enunciado de manera simbólica y de manera implicativa, el teorema dado. \n",
    "•\tEnuncie la negación de la implicación anterior utilizando la forma alternativa del condicional. \n",
    "\n",
    "19.\tMétodo de inducción matemática: demuestre que la suma de los primeros $n$ cubos es igual a [n(n+1)/2]^2. \n",
    "•\tEmpiece enunciando el teorema de manera simbólica y utilizando cuantificadores. \n",
    "•\tIdentifique a la función proposicional P(n) para este teorema. \n",
    "20.\tDescriba simbólica y verbalmente los cuatro métodos de demostración vistos.  Y describa la utilidad de cada uno de estos métodos. \n",
    "\n",
    "\n",
    "\n",
    "\n",
    "\n",
    "\n",
    "\n",
    "\n",
    "Parcial 5 sobre métodos de demostración\n",
    "\n",
    "21.\tMétodo directo: Demuestre que la diferencia de dos números naturales impares es par. Empiece por enunciar de manera implicativa y simbólica, el teorema dado. \n",
    "22.\tMétodo del contrarrecíproco: Demuestre que, si el cuadrado de un número es impar, entonces el número es impar. \n",
    "•\tEmpiece enunciando simbólicamente y de manera implicativa, el teorema dado. \n",
    "•\tEnuncie el contrarrecíproco de la implicación anterior sin utilizar la palabra “no”\n",
    "23.\tMétodo de reducción al absurdo: Demuestre que, si el cuadrado de un número es impar, entonces el número es impar. \n",
    "•\tEmpiece enunciado de manera simbólica y de manera implicativa, el teorema dado. \n",
    "•\tEnuncie la negación de la implicación anterior utilizando la forma alternativa del condicional. \n",
    "\n",
    "24.\tMétodo de inducción matemática: Demuestre que para todo entero n >= 1,                                 2 + 4 + 6 +…+ 2n = n^2+ n.Empiece enunciando el teorema de manera simbólica y utilizando cuantificadores. \n",
    "•\tIdentifique a la función proposicional P(n) para este teorema. \n",
    "25.\tDescriba simbólica y verbalmente los cuatro métodos de demostración vistos.  Y describa la utilidad de cada uno de estos métodos. \n",
    "\n"
   ]
  },
  {
   "cell_type": "markdown",
   "id": "9c9c9f40",
   "metadata": {},
   "source": [
    "\n",
    "\n",
    "# 11. Actividad de Retroalimentación"
   ]
  },
  {
   "cell_type": "code",
   "execution_count": null,
   "id": "a68f6830",
   "metadata": {},
   "outputs": [],
   "source": []
  },
  {
   "cell_type": "markdown",
   "id": "b2d90ce5",
   "metadata": {},
   "source": [
    "\n",
    "### Parcial Ejemplo:\n",
    "**Problema 1:**  \n",
    "Demuestra que cualquier número natural $n \\geq 2$ puede escribirse como producto de primos.\n"
   ]
  },
  {
   "cell_type": "markdown",
   "id": "ce9778fb",
   "metadata": {},
   "source": [
    "\n",
    "Aquí tienes **10 problemas de demostración por inducción matemática** en **teoría de números**, enfocados en **igualdades**:\n",
    "\n",
    "---\n",
    "\n",
    "### **1. Suma de los primeros \\( n \\) enteros**  \n",
    "Demostrar que:  \n",
    "$$\n",
    "\\sum_{i=1}^n i = \\frac{n(n+1)}{2}, \\quad \\forall n \\in \\mathbb{N}.\n",
    "$$\n",
    "\n",
    "\n",
    "\n",
    "### **2. Suma de los primeros $ n$ cuadrados**  \n",
    "Demostrar que:  \n",
    "$$\n",
    "\\sum_{i=1}^n i^2 = \\frac{n(n+1)(2n+1)}{6}, \\quad \\forall n \\in \\mathbb{N}.\n",
    "$$\n",
    "\n",
    "\n",
    "\n",
    "### **3. Suma de los primeros \\( n \\) cubos**  \n",
    "Demostrar que:  \n",
    "$$\n",
    "\\sum_{i=1}^n i^3 = \\left( \\frac{n(n+1)}{2} \\right)^2, \\quad \\forall n \\in \\mathbb{N}.\n",
    "$$\n",
    "\n",
    "\n",
    "\n",
    "### **4. Suma de una progresión geométrica**  \n",
    "Demostrar que para \\( r \\neq 1 \\):  \n",
    "$$\n",
    "\\sum_{i=0}^n r^i = \\frac{r^{n+1} - 1}{r - 1}, \\quad \\forall n \\in \\mathbb{N}_0.\n",
    "$$\n",
    "\n"
   ]
  },
  {
   "cell_type": "markdown",
   "id": "9b6bf236",
   "metadata": {},
   "source": [
    "\n",
    "\n",
    "### **5. Fórmula para números triangulares**  \n",
    "Demostrar que el \\( n \\)-ésimo número triangular $T_n$ cumple:  \n",
    "$$\n",
    "T_n = \\frac{n(n+1)}{2}, \\quad \\forall n \\in \\mathbb{N}.\n",
    "$$\n",
    "\n",
    "siendo que por definición de número triangular:\n",
    "\n",
    "$$ T_{n} = 1+2+3+ \\cdots + n = \\sum_{i = 1}^{n} i $$\n",
    "\n",
    "\n",
    "### **Números Triangulares: Definición, Propiedades y Aplicaciones**\n",
    "\n",
    "Los **números triangulares** son una familia de números enteros que representan **triángulos equiláteros discretos** (arreglos de puntos en forma de triángulo). Son fundamentales en la **teoría de números** y la **combinatoria**, y aparecen en problemas de disposición geométrica, sumatorias y hasta en la vida cotidiana (como en el juego de bolos o el apilamiento de naranjas).\n",
    "\n",
    "\n",
    "\n",
    "## **1. Definición y Fórmula**\n",
    "El $n$-ésimo número triangular \\( T_n \\) cuenta la cantidad de puntos necesarios para formar un triángulo con \\( n \\) filas.  \n",
    "- **Ejemplo visual**:\n",
    "  - \\( T_1 = 1 \\):  \n",
    "    ```\n",
    "    •\n",
    "    ```\n",
    "  - $ T_3 = 6$:  \n",
    "    ```\n",
    "      •\n",
    "    • •\n",
    "    • • •\n",
    "    ```\n",
    "- **Fórmula cerrada**:  \n",
    "  $$\n",
    "  T_n = \\sum_{i=1}^n i = \\frac{n(n+1)}{2}.\n",
    "  $$  \n",
    "  *Ejemplo*: $T_4 = 1 + 2 + 3 + 4 = 10$.\n",
    "\n"
   ]
  },
  {
   "cell_type": "markdown",
   "id": "7b9e1067",
   "metadata": {},
   "source": [
    "\n",
    "\n",
    "## **2. Demostración por Inducción**\n",
    "**Teorema**: $T_n = \\frac{n(n+1)}{2}$ para todo $n \\in \\mathbb{N}$.  \n",
    "\n",
    "- **Base inductiva**:  \n",
    "  Para $n = 1$:  \n",
    "$$\n",
    "  T_1 = 1 = \\frac{1 \\cdot 2}{2}. \\quad \\text{(Verdadero)}\n",
    "$$  \n",
    "\n",
    "- **Paso inductivo**:  \n",
    "  Suponemos que $T_k = \\frac{k(k+1)}{2}$ (hipótesis inductiva).  \n",
    "  Para $n = k + 1$:  \n",
    "  $$\n",
    "  T_{k+1} = T_k + (k + 1) = \\frac{k(k+1)}{2} + (k + 1) = \\frac{(k+1)(k+2)}{2}.\n",
    "  $$  \n",
    "  **Conclusión**: La fórmula vale para $n = k + 1$.  \n",
    "\n"
   ]
  },
  {
   "cell_type": "markdown",
   "id": "e3c13202",
   "metadata": {},
   "source": [
    "\n",
    "\n",
    "## **3. Propiedades Matemáticas**\n",
    "1. **Relación con combinaciones**:  \n",
    "$$\n",
    "T_n = \\binom{n+1}{2}, \\quad \\text{donde } \\binom{n}{k} \\text{ es un coeficiente binomial.}\n",
    "$$\n",
    "   *Interpretación*: Número de maneras de elegir 2 objetos de \\( n + 1 \\).\n",
    "\n",
    "2. **Suma de dos consecutivos**:  \n",
    "$$\n",
    "T_{n-1} + T_n = n^2. \\quad \\text{(Ejemplo: } T_3 + T_4 = 6 + 10 = 16 = 4^2\\text{)}\n",
    "$$\n",
    "\n",
    "3. **Números triangulares cuadrados**:  \n",
    "   Algunos \\( T_n \\) también son cuadrados perfectos, como \\( T_8 = 36 = 6^2 \\).\n",
    "\n",
    "4. **Generación de números perfectos**:  \n",
    "   Si \\( 2^p - 1 \\) es primo (primo de Mersenne), entonces \\( T_{2^{p-1}} \\) es un número perfecto par.\n",
    "\n",
    "---\n",
    "\n",
    "## **4. Aplicaciones**\n",
    "- **Geometría**: Empaquetamiento de esferas (como en cristalografía).  \n",
    "- **Combinatoria**: Cuentan el número de aristas en grafos completos \\( K_n \\).  \n",
    "- **Optimización**: Modelan costos en problemas de logística con estructuras jerárquicas.  \n",
    "- **Cultura popular**: Los 10 bolos en un juego de bowling se organizan como \\( T_4 = 10 \\).\n",
    "\n",
    "---\n",
    "\n",
    "## **5. Curiosidades**\n",
    "- **Gauss y la suma rápida**: La anécdota de que Gauss (a los 7 años) sumó \\( 1 + 2 + \\dots + 100 = T_{100} = 5050 \\) usando la fórmula.  \n",
    "- **En la naturaleza**: Los panales de abejas o ciertas estructuras moleculares siguen patrones triangulares.  \n",
    "\n",
    "---\n",
    "\n",
    "### **Ejercicio Propuesto**\n",
    "Demuestra que todo número natural $n$ puede escribirse como suma de a lo más 3 números triangulares (Teorema de Gauss, 1796).  \n",
    "*Pista*: Usa inducción y la propiedad \\( 8T_n + 1 = (2n + 1)^2 \\).\n",
    "\n",
    "¿Te gustaría profundizar en alguna propiedad o aplicación en específico?"
   ]
  },
  {
   "cell_type": "markdown",
   "id": "d17cdc8a",
   "metadata": {},
   "source": [
    "\n",
    "\n",
    "### **6. Suma de números impares**  \n",
    "Demostrar que:  \n",
    "$$\n",
    "\\sum_{i=1}^n (2i - 1) = n^2, \\quad \\forall n \\in \\mathbb{N}.\n",
    "$$\n",
    "\n"
   ]
  },
  {
   "cell_type": "markdown",
   "id": "a19faeac",
   "metadata": {},
   "source": [
    "\n",
    "\n",
    "### **7. Suma alternante de cuadrados**  \n",
    "Demostrar que:  \n",
    "$$\n",
    "\\sum_{i=1}^n (-1)^{i+1} i^2 = (-1)^{n+1} \\frac{n(n+1)}{2}, \\quad \\forall n \\in \\mathbb{N}.\n",
    "$$\n",
    "\n"
   ]
  },
  {
   "cell_type": "markdown",
   "id": "52db493b",
   "metadata": {},
   "source": [
    "\n",
    "\n",
    "### **8. Fórmula para la suma de productos consecutivos**  \n",
    "Demostrar que:  \n",
    "$$\n",
    "\\sum_{i=1}^n i(i+1) = \\frac{n(n+1)(n+2)}{3}, \\quad \\forall n \\in \\mathbb{N}.\n",
    "$$\n",
    "\n"
   ]
  },
  {
   "cell_type": "markdown",
   "id": "03e1d5ca",
   "metadata": {},
   "source": [
    "\n",
    "\n",
    "### **9. Suma de términos de la forma $i \\cdot 2^i$**  \n",
    "Demostrar que:  \n",
    "$$\n",
    "\\sum_{i=1}^n i \\cdot 2^i = 2^{n+1}(n - 1) + 2, \\quad \\forall n \\in \\mathbb{N}.\n",
    "$$\n",
    "\n",
    "\n"
   ]
  },
  {
   "cell_type": "markdown",
   "id": "c3f29ea6",
   "metadata": {},
   "source": [
    "\n",
    "\n",
    "### **Notas importantes**:\n",
    "- Todos estos problemas se resuelven aplicando **inducción matemática** (base inductiva + paso inductivo).  \n",
    "- En algunos casos (como el **Problema 4**), el caso base puede comenzar en \\( n = 0 \\).  \n",
    "- El **Problema 10** involucra teoría de números (suma de divisores).  \n",
    "\n",
    "¿Te gustaría que desarrolle alguna de estas demostraciones en detalle?\n",
    "\n"
   ]
  },
  {
   "cell_type": "markdown",
   "id": "b4cd52d2",
   "metadata": {},
   "source": [
    "# Otros ejemplos de parcial sobre métodos de demostración  \n",
    "\n",
    "Este es un ejemplo de **parcial sobre métodos de demostración** :\n",
    "\n",
    "---\n",
    "\n",
    "### **Examen Parcial: Métodos de Demostración**  \n",
    "**Nombre:** ________________________________________  \n",
    "**Fecha:** ___________  \n",
    "\n",
    "#### **1. Método Directo (5 puntos)**  \n",
    "**a)** Escribe la estructura lógica del método directo de demostración.  \n",
    "**b)** Demuestra, usando el método directo, el siguiente enunciado en el ámbito de la **teoría de números**:  \n",
    "*\"Si $n$ es un entero par, entonces $n^2$ es par.\"*  \n",
    "\n",
    "\n",
    "\n",
    "#### **2. Contrarrecíproco (5 puntos)**  \n",
    "**a)** Escribe la estructura lógica del método del contrarrecíproco.  \n",
    "**b)** Usa el contrarrecíproco para demostrar el siguiente enunciado en el ámbito de la **geometría euclidiana**:  \n",
    "*\"Si un cuatrilátero tiene ángulos consecutivos suplementarios, entonces es un paralelogramo.\"*  \n",
    "\n",
    "\n",
    "\n",
    "#### **3. Reducción al Absurdo (5 puntos)**  \n",
    "**a)** Explica en qué consiste el método de reducción al absurdo y cuál es su estructura lógica.  \n",
    "**b)** Usa reducción al absurdo para demostrar el siguiente enunciado en el ámbito de la **teoría de números**:  \n",
    "*\"No existe un número racional $\\frac{p}{q}$ (con $p, q$ coprimos) tal que $\\left(\\frac{p}{q}\\right)^2 = 2$.\"*  \n",
    "\n",
    "\n",
    "\n",
    "#### **4. Inducción Matemática (5 puntos)**  \n",
    "**a)** Describe los pasos del método de inducción matemática.  \n",
    "**b)** Demuestra por inducción el siguiente enunciado en el ámbito de la **teoría de números**:  \n",
    "*\"Para todo $n \\in \\mathbb{N}$, se cumple que $1 + 3 + 5 + \\dots + (2n-1) = n^2$.\"*  \n",
    "\n",
    "\n",
    "\n",
    "### **Pautas de Evaluación:**  \n",
    "- **Claridad en la estructura lógica** (2 puntos por ítem).  \n",
    "- **Correcta aplicación del método** (3 puntos por ítem).  \n",
    "\n",
    "**Total: 20 puntos.**  \n",
    "\n",
    "\n",
    "\n",
    "Este examen evalúa tanto el conocimiento teórico de los métodos como su aplicación en contextos clásicos (teoría de números y geometría euclidiana). ¿Necesitas alguna adaptación o más ejemplos de enunciados?"
   ]
  },
  {
   "cell_type": "markdown",
   "id": "2915cb46",
   "metadata": {},
   "source": [
    "\n",
    "## 11. Retroalimentación\n",
    "\n",
    "**Estrategias:**\n",
    "- Rúbricas con criterios claros para demostraciones inductivas\n",
    "- Sesiones de \"pensamiento en voz alta\" donde estudiantes explican su razonamiento\n",
    "- Talleres de corrección entre pares con guías de revisión\n",
    "- Uso de códigos QR que vinculan a explicaciones multimedia\n",
    "- Diarios de aprendizaje donde registran dificultades y logros\n"
   ]
  },
  {
   "cell_type": "markdown",
   "id": "dad39f45",
   "metadata": {},
   "source": [
    "\n",
    "## 12. Vocabulario en Inglés\n",
    "\n",
    "**Términos clave:**\n",
    "- Mathematical induction / Inducción matemática\n",
    "- Base case / Caso base\n",
    "- Inductive hypothesis / Hipótesis inductiva\n",
    "- Inductive step / Paso inductivo\n",
    "- Recursion / Recursión\n",
    "- Peano axioms / Axiomas de Peano\n",
    "- Proof / Demostración\n",
    "- Proposition / Proposición\n",
    "- Natural numbers / Números naturales\n",
    "- Divisibility / Divisibilidad\n",
    "\n",
    "**Frases útiles:**\n",
    "- \"Let's verify the base case\" / Verifiquemos el caso base\n",
    "- \"Assume the statement holds for some k\" / Asumamos que se cumple para algún k\n",
    "- \"We need to show it holds for k+1\" / Debemos mostrar que se cumple para k+1\n",
    "- \"By the principle of mathematical induction...\" / Por el principio de inducción matemática...\n",
    "- \"The inductive step bridges the assumption to the next case\" / El paso inductivo conecta la suposición al siguiente caso\n"
   ]
  },
  {
   "cell_type": "markdown",
   "id": "6618096d",
   "metadata": {},
   "source": [
    "\n",
    "## 13. Apéndice: Habilidades Blandas\n",
    "\n",
    "**Trabajo en Equipo:**\n",
    "- Técnicas de roles rotativos en grupos (coordinador, verificador, relator)\n",
    "- Protocolos para discusiones matemáticas (ej. \"Tres antes de mí\")\n",
    "- Rúbricas de autoevaluación de contribuciones grupales\n",
    "\n",
    "**Inteligencia Emocional:**\n",
    "- Técnicas de respiración para manejo de ansiedad ante pruebas\n",
    "- Diario de errores y aprendizajes\n",
    "- Protocolo \"Pregunta, no ataque\" para discusiones técnicas\n",
    "\n",
    "**Metacognición:**\n",
    "- Plantillas de reflexión post-clase:\n",
    "  - ¿Qué estrategias funcionaron para mí?\n",
    "  - ¿Qué conceptos aún no entiendo completamente?\n",
    "  - ¿Cómo relaciono esto con otros conocimientos?\n"
   ]
  },
  {
   "cell_type": "markdown",
   "id": "247ec6f7",
   "metadata": {},
   "source": [
    "\n",
    "## 14. Referentes en Didáctica (APA)\n",
    "\n",
    "1. Duval, R. (2006). Un tema crucial en la educación matemática: La habilidad para cambiar el registro de representación. *La Gaceta de la RSME, 9*(1), 143-168.\n",
    "\n",
    "2. Wing, J. M. (2006). Computational thinking. *Communications of the ACM, 49*(3), 33-35. https://doi.org/10.1145/1118178.1118215\n",
    "\n",
    "3. Polya, G. (1957). *How to solve it* (2nd ed.). Princeton University Press.\n",
    "\n",
    "4. Schoenfeld, A. H. (1985). *Mathematical problem solving*. Academic Press.\n",
    "\n",
    "5. Harel, G., & Sowder, L. (2007). Toward comprehensive perspectives on the learning and teaching of proof. In F. K. Lester (Ed.), *Second handbook of research on mathematics teaching and learning* (pp. 805-842). Information Age Publishing.\n",
    "\n",
    "6. Mason, J., Burton, L., & Stacey, K. (2010). *Thinking mathematically* (2nd ed.). Pearson.\n",
    "\n",
    "7. Zazkis, R., & Liljedahl, P. (2004). Understanding primes: The role of representation. *Journal for Research in Mathematics Education, 35*(3), 164-186.\n",
    "\n",
    "8. Tall, D. (2013). *How humans learn to think mathematically: Exploring the three worlds of mathematics*. Cambridge University Press.\n",
    "\n",
    "9. Boaler, J. (2016). *Mathematical mindsets: Unleashing students' potential through creative math, inspiring messages and innovative teaching*. Jossey-Bass.\n",
    "\n",
    "10. Sfard, A. (2008). Thinking as communicating: Human development, the growth of discourses, and mathematizing. Cambridge University Press.\n",
    "\n",
    "11. Artigue, M. (2002). Learning mathematics in a CAS environment: The genesis of a reflection about instrumentation and the dialectics between technical and conceptual work. *International Journal of Computers for Mathematical Learning, 7*(3), 245-274."
   ]
  },
  {
   "cell_type": "markdown",
   "id": "64ac8d32",
   "metadata": {},
   "source": [
    "# Ejemplo ilustrativo"
   ]
  },
  {
   "cell_type": "markdown",
   "id": "a3e5e6ab",
   "metadata": {},
   "source": [
    "# 10 ejercicios de entrenamiento o adquisición de habilidades obtenido a través de ChatGPT para una formación personalizada y centrada en la habilidad que se quiere lograr con la enseñanza del ejemplo anterior"
   ]
  },
  {
   "cell_type": "code",
   "execution_count": null,
   "id": "cc539357",
   "metadata": {},
   "outputs": [],
   "source": []
  },
  {
   "cell_type": "markdown",
   "id": "8d41fe58",
   "metadata": {
    "slideshow": {
     "slide_type": "slide"
    }
   },
   "source": [
    "# Horario de clases del profesor Marco\n",
    "\n",
    "* Lunes 8-12: Cálculo Vectorial\n",
    "* Martes 8-12 M: Fundamentos de Aritmética. \n",
    "* Miércoles 8 a 12 M: Fundamentos de la Lógica\n",
    "* Jueves 2 a 6PM: Desarrollo del pensamiento matemático en la infancia. \n",
    "* Viernes 8 - 12 M: Desarrollo del pensamiento matemático en la infancia. \n",
    "* Sábados 8-12 Asesorías "
   ]
  },
  {
   "cell_type": "markdown",
   "id": "ae114e14",
   "metadata": {
    "slideshow": {
     "slide_type": "slide"
    }
   },
   "source": [
    "# Horarios de monitoría y asesoría  \n",
    "\n",
    "Coordinador de los cursos de la Facultad de Educación para regiones:    \n",
    "\n",
    "Andrés Vélez: regioneducacion.fedu@udea.edu.co  \n",
    "Coordinador Regiones  \n",
    "Facultad de Educación  \n",
    "Universidad de Antioquia  "
   ]
  },
  {
   "cell_type": "markdown",
   "id": "b1db4b6c",
   "metadata": {
    "slideshow": {
     "slide_type": "slide"
    }
   },
   "source": [
    "## Monitor Manuel San Juan Serrano\n",
    "\n",
    "Contactar escribiendo al correo: manuel.serrano1@udea.edu.co"
   ]
  },
  {
   "cell_type": "markdown",
   "id": "39559692",
   "metadata": {
    "slideshow": {
     "slide_type": "slide"
    }
   },
   "source": [
    "Martes y jueves de 8 - 12  \n",
    "Miércoles 10 - 12 y de 2 a 4 PM  \n",
    "Sábado: 8 - 12"
   ]
  },
  {
   "cell_type": "markdown",
   "id": "5a190057",
   "metadata": {},
   "source": [
    "## Monitoría virtual   \n",
    "\n",
    "Telefono del monitos en whatsApp: 3043936088  \n",
    "\n",
    "Juan David Cano Castrillón  \n",
    "Estudiante de Pregrado.  \n",
    "juan.canoc1@udea.edu.co  \n",
    "3043936088  \n"
   ]
  },
  {
   "cell_type": "markdown",
   "id": "10bce0d0",
   "metadata": {
    "slideshow": {
     "slide_type": "slide"
    }
   },
   "source": [
    "## Referentes "
   ]
  },
  {
   "cell_type": "markdown",
   "id": "1db3c468",
   "metadata": {
    "slideshow": {
     "slide_type": "slide"
    }
   },
   "source": [
    "* [Grajales Vanegas, L. M., Restrepo Estrada, C. E., Restrepo Ochoa, S. I., & Ruíz De Villalba, F. (2015). Matemáticas I para las ciencias económicas.](https://github.com/marco-canas/fundamentos_de_la_aritmetica/blob/main/referentes/2_grajales_logica/grajales_lina_matemticas.pdf)\n",
    "  \n",
    "* Duval, R. (2004). Semiosis y pensamiento humano: registros semióticos y aprendizajes intelectuales. Universidad del Valle.\n",
    "\n",
    "* [Aylwin, C. U. (2011). Lógica, conjuntos y números. Universidad de los Andes, Consejo de Publicaciones, Colección: Ciencias Básicas, Serie: Matemáticas.](https://github.com/marco-canas/fundamentos_logica/blob/main/referentes/2_uzcategui/uscategui.pdf)\n",
    "  \n",
    "* [Chollet, F. (2021). Deep learning with Python. Simon and Schuster.](https://github.com/marco-canas/didactica_ciencia_datos/blob/main/2_referentes/chollet/Fran%C3%A7ois%20Chollet%20-%20Deep%20Learning%20with%20Python-Manning%20(2018).pdf)  \n",
    "  \n",
    "* [Watson, S., Stewart, J., & Redlin, L. (2009). Precálculo. Matemáticas para el cálculo.](https://github.com/marco-canas/calculo/blob/main/referents/1_precalculo_stewart/stewart_precalculo.pdf)  \n",
    "\n",
    "* [Purcell, E. J., Varberg, D., & Rigdon, S. E. (2007). Cálculo diferencial e integral. Pearson Educación.](https://github.com/marco-canas/calculo/blob/main/referents/purcell/purcell_calculo.pdf)\n",
    "\n",
    "  \n",
    "\n",
    "* [stewart cálculo](https://udeaeduco-my.sharepoint.com/:b:/g/personal/marco_canas_udea_edu_co/EZgXZjAp8QxPqOAim2hs6LcBNPLGjSHf-xwYnUVYkwa04w?e=RZdTCy)  \n",
    "\n",
    "* [larson](https://udeaeduco-my.sharepoint.com/:b:/g/personal/marco_canas_udea_edu_co/ES71ChFeO9ZDhW3TwC5Ijk8BjxUK3Pdqz_fjHxTTFAfIAg?e=VDEjfu)\n",
    "\n",
    "\n",
    "\n",
    "* [Recomendación de la UNESCO sobre ciencia abierta](https://unesdoc.unesco.org/ark:/48223/pf0000379949_spa)\n",
    "\n",
    "* [chatGPT](https://openai.com/blog/chatgpt)  \n",
    "\n",
    "* [Géron, A. (2017). Hands-on machine learning with scikit-learn and tensorflow: Concepts. Tools, and Techniques to build intelligent systems.](https://github.com/marco-canas/didactica_ciencia_datos/blob/main/2_referentes/geron/Hands-On%20Machine%20Learning-3nd_Edition(2022).pdf)  \n",
    "\n",
    "* [McKinney, W. (2012). Python for data analysis: Data wrangling with Pandas, NumPy, and IPython. \" O'Reilly Media, Inc.\".](https://github.com/marco-canas/didactica_ciencia_datos/blob/main/2_referentes/mckinney/Wes_McKinney.pdf)  "
   ]
  },
  {
   "cell_type": "markdown",
   "id": "8e65d6f9",
   "metadata": {},
   "source": [
    "# Como estudiante, encuentro que...   \n",
    "\n",
    "F: Mis Fortalezas son:     \n",
    "O: Mis Oportunidades son:    \n",
    "D: Mis Debilidades son:    \n",
    "A: Lo que Amenazas mi aprendizaje es:  "
   ]
  },
  {
   "cell_type": "markdown",
   "id": "6b9e56a8",
   "metadata": {
    "slideshow": {
     "slide_type": "slide"
    }
   },
   "source": [
    "### [Evaluamos al profesor Marco Cañas Aquí](https://forms.office.com/Pages/ResponsePage.aspx?id=IefhmYRxjkmK_7KtTlPBwkanXIs1i1FEujpsZgO6dXpUREJPV1kxUk1JV1ozTFJIQVNIQjY5WEY3US4u)"
   ]
  },
  {
   "cell_type": "markdown",
   "id": "050b9508",
   "metadata": {},
   "source": [
    "# Aportes de mis estudiantes a la metodología del curso  \n",
    "1. \n",
    "\n",
    "Sus opiniones y aportes son muy importantes para mi. Pues esta es una investigación educativa y un servicio de enseñanza para ustedes. Ustedes son la razón de ser de mi actividad docente. Dios los bendiga. "
   ]
  },
  {
   "cell_type": "markdown",
   "id": "6c4af91f",
   "metadata": {},
   "source": [
    "# Aportes de mis colegas docentes a la metodología que estoy aplicando en mis cursos. "
   ]
  },
  {
   "cell_type": "markdown",
   "id": "071afa04",
   "metadata": {
    "slideshow": {
     "slide_type": "slide"
    }
   },
   "source": [
    "## [Evaluación luego de alcanzar estos objetivos de aprendizaje]()"
   ]
  },
  {
   "cell_type": "markdown",
   "id": "10f43536",
   "metadata": {
    "slideshow": {
     "slide_type": "slide"
    }
   },
   "source": [
    "### Continue su aprendizaje en la siguiente clase a través del siguiente [vínculo]()"
   ]
  },
  {
   "cell_type": "markdown",
   "id": "ba236f4d",
   "metadata": {},
   "source": [
    "### **Actividad de Clase: Expresar Ideas, Dudas y Emociones de Manera Respetuosa y Asertiva**\n"
   ]
  },
  {
   "cell_type": "markdown",
   "id": "33bcd185",
   "metadata": {},
   "source": [
    "\n",
    "**Objetivo:**  \n",
    "Desarrollar habilidades de comunicación efectiva en los estudiantes para que puedan expresar sus ideas, dudas y emociones de forma respetuosa y asertiva.\n",
    "\n",
    "**Duración:**  \n",
    "15-20 minutos\n",
    "\n",
    "---\n"
   ]
  },
  {
   "cell_type": "markdown",
   "id": "f61da648",
   "metadata": {},
   "source": [
    "\n",
    "### **1. Introducción (5 minutos)**  \n",
    "- **Tema:** Introducir a los estudiantes al concepto de la comunicación asertiva, explicando cómo expresar pensamientos y emociones de manera clara y respetuosa sin agredir o ser pasivo.\n",
    "- **Dinámica:** Mostrar dos ejemplos contrastantes: uno de comunicación pasiva/agresiva y otro de comunicación asertiva. Preguntar a los estudiantes cuál creen que es más efectivo y por qué.\n",
    "\n",
    "**Materiales:**  \n",
    "- Pizarra o diapositivas con ejemplos de frases pasivas, agresivas y asertivas.\n",
    "  \n",
    "**Ejemplo:**  \n",
    "- **Pasivo:** “Bueno… no sé si es una buena idea, pero… tal vez podrías intentarlo.”\n",
    "- **Agresivo:** “¡Tu idea es terrible, no va a funcionar!”\n",
    "- **Asertivo:** “Creo que podríamos mejorar esa idea si consideramos otro enfoque.”\n",
    "\n",
    "---\n",
    "\n",
    "### **2. Ejercicio en Parejas (10 minutos)**  \n",
    "- **Instrucciones:** Dividir a los estudiantes en parejas. Darles diferentes situaciones cotidianas en las que deben comunicarse (pedir ayuda, expresar desacuerdo, compartir una idea, etc.). Cada pareja debe crear una breve conversación donde practiquen la comunicación asertiva.\n",
    "  \n",
    "**Situaciones propuestas:**\n",
    "  - Expresar desacuerdo con un compañero sobre una tarea de grupo.\n",
    "  - Pedirle ayuda al profesor sobre un concepto difícil.\n",
    "  - Expresar frustración por un malentendido en clase.\n",
    "\n",
    "- **Reglas:** Cada estudiante debe asegurarse de usar lenguaje respetuoso y asertivo para expresar su posición y emociones. Al final, cada pareja debe compartir con la clase un ejemplo de lo que discutieron.\n",
    "\n",
    "---\n",
    "\n",
    "### **3. Retroalimentación y Discusión (5 minutos)**  \n",
    "- **Discusión:** Invitar a algunos estudiantes a compartir sus experiencias de la actividad. \n",
    "- **Preguntas:** ¿Cómo se sintieron al intentar ser asertivos? ¿Les resultó difícil? ¿Cómo fue recibido el mensaje?\n",
    "  \n",
    "**Consejo:** Resaltar la importancia de practicar la asertividad como una herramienta para mejorar la comunicación interpersonal y reducir conflictos.\n",
    "\n",
    "---\n",
    "\n",
    "### **Cierre**  \n",
    "- Resumir las características de la comunicación asertiva: uso de \"yo\" en lugar de \"tú\" para evitar culpabilizar, tono de voz calmado, y respeto hacia el interlocutor.\n",
    "- **Tarea opcional:** Pedirles que practiquen la comunicación asertiva en sus conversaciones durante la semana y escriban una reflexión breve sobre cómo les fue.\n",
    "\n",
    "**Material adicional:**  \n",
    "- Video corto o recurso digital sobre la importancia de la comunicación asertiva."
   ]
  },
  {
   "cell_type": "markdown",
   "id": "53cc9115",
   "metadata": {
    "slideshow": {
     "slide_type": "slide"
    }
   },
   "source": [
    "## Agradecimientos  \n",
    "\n",
    "Doy gracias a Dios por la vida de mi Hijo Joseph Cañas Osorio y la madurez que ha alcanzado.\n",
    "\n",
    "Y a mi esposa Yasmira por su apoyo, orientación y acompañamiento. "
   ]
  }
 ],
 "metadata": {
  "celltoolbar": "Slideshow",
  "kernelspec": {
   "display_name": ".venv",
   "language": "python",
   "name": "python3"
  },
  "language_info": {
   "codemirror_mode": {
    "name": "ipython",
    "version": 3
   },
   "file_extension": ".py",
   "mimetype": "text/x-python",
   "name": "python",
   "nbconvert_exporter": "python",
   "pygments_lexer": "ipython3",
   "version": "3.12.6"
  },
  "rise": {
   "enable_chalkboard": true,
   "theme": "sky",
   "transition": "zoom"
  }
 },
 "nbformat": 4,
 "nbformat_minor": 5
}
