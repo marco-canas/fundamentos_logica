{
 "cells": [
  {
   "cell_type": "markdown",
   "metadata": {},
   "source": [
    "# [Gestione la configuración del curso como tipo Libro Jupyter utilizando esta información](https://jupyterbook.org/en/stable/start/create.html)"
   ]
  },
  {
   "cell_type": "markdown",
   "metadata": {},
   "source": []
  },
  {
   "cell_type": "markdown",
   "metadata": {},
   "source": [
    "# Gestión de la estructura de la evaluación  "
   ]
  },
  {
   "cell_type": "markdown",
   "metadata": {},
   "source": [
    "### Tabla en Markdown (Estructura de Evaluación)\n"
   ]
  },
  {
   "cell_type": "markdown",
   "metadata": {},
   "source": [
    "\n",
    "| #  | Ponderación | Descripción                                                                 |\n",
    "|----|-------------|-----------------------------------------------------------------------------|\n",
    "| 1  | 5           | quiz 1                                                                      |\n",
    "| 2  | 2           | taller de clase                                                             |\n",
    "| 3  | 5           | quiz 3                                                                      |\n",
    "| 4  | 5           | portafolio de aprendizaje                                                   |\n",
    "| 5  | 10          | parcial 1                                                                   |\n",
    "| 6  | 10          | parcial 2                                                                   |\n",
    "| 7  | 10          | parcial 3                                                                   |\n",
    "| 8  | 10          | parcial 4                                                                   |\n",
    "| 9  | 10          | proyecto 1 recurso TIC y concreto y videos hasta 28 marzo                   |\n",
    "| 10 | 10          | proyect2RrecursoTICconcretoVideos hasta 15 deAbril                          |\n",
    "| 11 | 10          | proyect3recursoTICconcretoVideos hasta 30 deAbril                           |\n",
    "| 12 | 10          | proyect4recursoTICconcretoVideos hasta 30 deMayo                            |\n",
    "| 13 | 2           | taller de clase                                                             |\n",
    "| 14 | 1           | taller de clase                                                             |\n",
    "\n"
   ]
  },
  {
   "cell_type": "markdown",
   "metadata": {},
   "source": [
    "\n",
    "---\n",
    "\n",
    "### Código Python para Convertir Markdown a Tabla en .docx\n"
   ]
  },
  {
   "cell_type": "code",
   "execution_count": 1,
   "metadata": {},
   "outputs": [
    {
     "name": "stdout",
     "output_type": "stream",
     "text": [
      "¡Tabla exportada a 'evaluaciones_fundamentos_logica.docx'!\n"
     ]
    }
   ],
   "source": [
    "\n",
    "\n",
    "from docx import Document\n",
    "from docx.shared import Pt\n",
    "import pandas as pd\n",
    "\n",
    "# Datos de la tabla (extraídos del Markdown)\n",
    "data = {\n",
    "    \"#\": [1, 2, 3, 4, 5, 6, 7, 8, 9, 10, 11, 12, 13, 14],\n",
    "    \"Ponderación\": [5, 2, 5, 5, 10, 10, 10, 10, 10, 10, 10, 10, 2, 1],\n",
    "    \"Descripción\": [\n",
    "        \"quiz 1\",\n",
    "        \"taller de clase\",\n",
    "        \"quiz 3\",\n",
    "        \"portafolio de aprendizaje\",\n",
    "        \"parcial 1\",\n",
    "        \"parcial 2\",\n",
    "        \"parcial 3\",\n",
    "        \"parcial 4\",\n",
    "        \"proyecto 1 recurso TIC y concreto y videos hasta 28 marzo\",\n",
    "        \"proyect2RrecursoTICconcretoVideos hasta 15 deAbril\",\n",
    "        \"proyect3recursoTICconcretoVideos hasta 30 deAbril\",\n",
    "        \"proyect4recursoTICconcretoVideos hasta 30 deMayo\",\n",
    "        \"taller de clase\",\n",
    "        \"taller de clase\"\n",
    "    ]\n",
    "}\n",
    "\n",
    "# Crear un documento Word\n",
    "doc = Document()\n",
    "\n",
    "# Añadir título\n",
    "doc.add_heading('Estructura de Evaluación - Fundamentos de Lógica', level=1)\n",
    "\n",
    "# Crear tabla en Word\n",
    "table = doc.add_table(rows=1, cols=3)\n",
    "table.style = 'Table Grid'\n",
    "\n",
    "# Encabezados\n",
    "hdr_cells = table.rows[0].cells\n",
    "hdr_cells[0].text = '#'\n",
    "hdr_cells[1].text = 'Ponderación'\n",
    "hdr_cells[2].text = 'Descripción'\n",
    "\n",
    "# Añadir datos\n",
    "for idx, (num, peso, desc) in enumerate(zip(data[\"#\"], data[\"Ponderación\"], data[\"Descripción\"]), start=1):\n",
    "    row_cells = table.add_row().cells\n",
    "    row_cells[0].text = str(num)\n",
    "    row_cells[1].text = str(peso)\n",
    "    row_cells[2].text = desc\n",
    "\n",
    "# Ajustar estilo de fuente\n",
    "for row in table.rows:\n",
    "    for cell in row.cells:\n",
    "        for paragraph in cell.paragraphs:\n",
    "            for run in paragraph.runs:\n",
    "                run.font.size = Pt(10)\n",
    "\n",
    "# Guardar documento\n",
    "doc.save('evaluaciones_fundamentos_logica.docx')\n",
    "\n",
    "print(\"¡Tabla exportada a 'evaluaciones_fundamentos_logica.docx'!\")\n",
    "\n"
   ]
  },
  {
   "cell_type": "markdown",
   "metadata": {},
   "source": [
    "\n",
    "---\n",
    "\n",
    "### Notas:\n",
    "1. **Librerías necesarias**:  \n",
    "   - Instala `python-docx` con:  \n",
    "     ```bash\n",
    "     pip install python-docx\n",
    "     ```\n",
    "2. **Resultado**:  \n",
    "   - El script genera un archivo Word (`evaluaciones_fundamentos_logica.docx`) con la tabla estructurada y estilizada.  \n",
    "3. **Personalización**:  \n",
    "   - Modifica `font.size` o añade más estilos (negrita, color) según necesites.  \n",
    "\n",
    "¡Listo para usar! 📄✨"
   ]
  }
 ],
 "metadata": {
  "kernelspec": {
   "display_name": ".venv",
   "language": "python",
   "name": "python3"
  },
  "language_info": {
   "codemirror_mode": {
    "name": "ipython",
    "version": 3
   },
   "file_extension": ".py",
   "mimetype": "text/x-python",
   "name": "python",
   "nbconvert_exporter": "python",
   "pygments_lexer": "ipython3",
   "version": "3.12.6"
  }
 },
 "nbformat": 4,
 "nbformat_minor": 2
}
