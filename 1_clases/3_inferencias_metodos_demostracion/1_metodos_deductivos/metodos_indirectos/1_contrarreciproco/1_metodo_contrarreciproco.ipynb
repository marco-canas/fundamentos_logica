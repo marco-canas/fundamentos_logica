{
 "cells": [
  {
   "cell_type": "markdown",
   "id": "dc06dec7",
   "metadata": {
    "slideshow": {
     "slide_type": "slide"
    }
   },
   "source": [
    "<table align=\"left\">\n",
    "  <td>\n",
    "    <a href=\"https://colab.research.google.com/github/ageron/handson-ml3/blob/main/tools_numpy.ipynb\" target=\"_parent\"><img src=\"https://colab.research.google.com/assets/colab-badge.svg\" alt=\"Open In Colab\"/></a>\n",
    "  </td>\n",
    "  <td>\n",
    "    <a target=\"_blank\" href=\"https://kaggle.com/kernels/welcome?src=https://github.com/ageron/handson-ml3/blob/main/tools_numpy.ipynb\"><img src=\"https://kaggle.com/static/images/open-in-kaggle.svg\" /></a>\n",
    "  </td>\n",
    "</table>"
   ]
  },
  {
   "cell_type": "markdown",
   "id": "e0c5b198",
   "metadata": {
    "slideshow": {
     "slide_type": "slide"
    }
   },
   "source": [
    "### [Video de apoyo a la lectura interactiva y experimental de este cuaderno]()"
   ]
  },
  {
   "cell_type": "markdown",
   "id": "41e82203",
   "metadata": {
    "slideshow": {
     "slide_type": "slide"
    }
   },
   "source": [
    "### [Vínculo al programa del curso:  ]()\n",
    "\n"
   ]
  },
  {
   "cell_type": "markdown",
   "id": "d11ab06d",
   "metadata": {
    "slideshow": {
     "slide_type": "slide"
    }
   },
   "source": [
    "Un reconocimiento a mis estudiantes que han construido conmigo este saber pedagógico:\n",
    "\n",
    "<img src = 'https://github.com/marco-canas/fundamentos_logica/blob/main/images/fundamento_logica_2024_octubre_cafeteria.jpeg?raw=true'> \n",
    "\n"
   ]
  },
  {
   "cell_type": "markdown",
   "id": "8a74a56c-0ce6-4ad6-b985-553fd7fb68bb",
   "metadata": {},
   "source": [
    "Reconocimiento a las profesoras destacadas en enseñanza de la matemática en Colombia\n"
   ]
  },
  {
   "cell_type": "code",
   "execution_count": null,
   "id": "7604880f",
   "metadata": {
    "slideshow": {
     "slide_type": "slide"
    }
   },
   "outputs": [
    {
     "name": "stdout",
     "output_type": "stream",
     "text": [
      "Llamando a ROSILLO TEJADA VANESA...\n",
      "Cambios guardados en el archivo CSV.\n",
      "Llamando a QUINONEZ CERVANTES MARIANA...\n"
     ]
    }
   ],
   "source": [
    "import pandas as pd\n",
    "import numpy as np\n",
    "\n",
    "# Cargar la lista de estudiantes desde el archivo CSV\n",
    "path = 'C:/Users/marco/Documentos/docencia/groups_list/fundamentos_logica.csv'\n",
    "estudiantes = pd.read_csv(path)\n",
    "estudiantes['Parcial'] = estudiantes['Parcial'].astype(float)  # Asegurar que la columna 'Parcial' es float\n",
    "\n",
    "# Convertir la columna 'Nombre' a una lista de Python\n",
    "lista_estudiantes = estudiantes['Nombre'].tolist()\n",
    "\n",
    "# Función para llamar a un estudiante aleatoriamente y registrar su nota de seguimiento\n",
    "def asistencia():\n",
    "    global lista_estudiantes\n",
    "    if lista_estudiantes:\n",
    "        estudiante_aleatorio = np.random.choice(lista_estudiantes)\n",
    "        print(f\"Llamando a {estudiante_aleatorio}...\")\n",
    "        asistencia = input(f\"¿Asistió {estudiante_aleatorio}? (s/n): \").strip().lower()\n",
    "        \n",
    "        # Validación de entrada\n",
    "        if asistencia == 's':\n",
    "            # Obtener el índice del estudiante en el DataFrame\n",
    "            indice = estudiantes[estudiantes['Nombre'] == estudiante_aleatorio].index[0]\n",
    "            # Incrementar su valor en la columna 'Parcial'\n",
    "            estudiantes.at[indice, 'Parcial'] += 0.3\n",
    "            print(f\"Actualizado: {estudiante_aleatorio} ahora tiene {estudiantes.at[indice, 'Parcial']} en la columna 'Parcial'.\")\n",
    "        \n",
    "        elif asistencia != 'n':\n",
    "            print(\"Entrada inválida. Por favor, introduce 's' para sí o 'n' para no.\")\n",
    "            return  # Volver a preguntar para el mismo estudiante si la entrada es inválida\n",
    "        \n",
    "        # Remover al estudiante de la lista para no llamarlo de nuevo\n",
    "        lista_estudiantes.remove(estudiante_aleatorio)\n",
    "    else:\n",
    "        print(\"Se han llamado a todos los estudiantes del grupo completo.\")\n",
    "\n",
    "# Función para guardar cambios al final de la sesión\n",
    "def guardar_cambios():\n",
    "    estudiantes.to_csv(path, index=False)\n",
    "    print(\"Cambios guardados en el archivo CSV.\")\n",
    "\n",
    "# Ejemplo de uso\n",
    "while lista_estudiantes:\n",
    "    asistencia()\n",
    "\n",
    "# Guardar los cambios una vez que todos los estudiantes hayan sido llamados\n",
    "guardar_cambios()\n",
    "\n"
   ]
  },
  {
   "cell_type": "markdown",
   "id": "d7598d0a-d9b7-4ae0-b029-a0ed6ed1130b",
   "metadata": {},
   "source": [
    "\n",
    "# Principios de mi labor docente"
   ]
  },
  {
   "cell_type": "markdown",
   "id": "4f9d8cf9",
   "metadata": {
    "slideshow": {
     "slide_type": "slide"
    }
   },
   "source": [
    "## Modelo general de clase: [aula invertida](https://www3.gobiernodecanarias.org/medusa/ecoescuela/pedagotic/aprendizaje-invertido-flipped-classroom/)"
   ]
  },
  {
   "cell_type": "markdown",
   "id": "eb6ed03a",
   "metadata": {},
   "source": [
    "<img src = 'https://resources.maneuveringthemiddle.com/wp-content/uploads/2020/07/04212706/1-5.png' width = 400>  \n",
    "\n"
   ]
  },
  {
   "cell_type": "markdown",
   "id": "34319cce-a71b-4f64-aab8-b53e521efa40",
   "metadata": {},
   "source": [
    "# Metodología de enseñanza basada en problemas (ABP)\n"
   ]
  },
  {
   "cell_type": "markdown",
   "id": "c4f73d81",
   "metadata": {},
   "source": [
    "\n",
    "<img src = 'https://www.unir.net/wp-content/uploads/2020/07/aprendizaje-problemas2-1-1-1-1.jpeg' width = 300>"
   ]
  },
  {
   "cell_type": "markdown",
   "id": "841a985c-bd9b-4dd3-8e4c-893983980af2",
   "metadata": {},
   "source": [
    "# Desarrollo del pensamiento computacional con python y cuadernos Jupyter  orientado a la formación en ciencia de datos \n",
    "\n"
   ]
  },
  {
   "cell_type": "markdown",
   "id": "3d0eba94",
   "metadata": {},
   "source": [
    "\n",
    "<img src = 'https://i.ytimg.com/vi/mcG_wcR4e6M/maxresdefault.jpg' width = 400>"
   ]
  },
  {
   "cell_type": "markdown",
   "id": "65aa0404-f7ae-495e-864c-1aec01b4255e",
   "metadata": {},
   "source": [
    "# Principio de fomento a la ciencia abierta, enseñar en el acceso a los datos públicos y el uso de software de código abierto  \n"
   ]
  },
  {
   "cell_type": "markdown",
   "id": "18ae9b87",
   "metadata": {},
   "source": [
    "\n",
    "<img src = 'https://unesdoc.unesco.org/in/rest/Thumb/image?id=p%3A%3Ausmarcdef_0000379949_spa&author=UNESCO&title=Recomendaci%C3%B3n+de+la+UNESCO+sobre+la+Ciencia+Abierta&year=2021&publisher=UNESCO&TypeOfDocument=UnescoPhysicalDocument&mat=PGD&ct=true&size=512&isPhysical=1' width = 200>"
   ]
  },
  {
   "cell_type": "markdown",
   "id": "d9559f85",
   "metadata": {},
   "source": [
    "El enfoque STEAMS en educación preescolar, primaria y secundaria es una extensión del enfoque STEM (Ciencia, Tecnología, Ingeniería y Matemáticas) y su variante STEAM, que incorpora el Arte. "
   ]
  },
  {
   "cell_type": "markdown",
   "id": "72e1cfd2",
   "metadata": {},
   "source": [
    "El acrónimo STEAMS incluye:\n"
   ]
  },
  {
   "cell_type": "markdown",
   "id": "03182fd1",
   "metadata": {},
   "source": [
    "\n",
    "1. **Science (Ciencia):** Fomenta la curiosidad por el mundo natural y el desarrollo de habilidades científicas, como la observación, experimentación y análisis.\n"
   ]
  },
  {
   "cell_type": "markdown",
   "id": "1306d0fa",
   "metadata": {},
   "source": [
    "\n",
    "2. **Technology (Tecnología):** Integra herramientas tecnológicas para potenciar el aprendizaje y la resolución de problemas, promoviendo la alfabetización digital desde edades tempranas.\n"
   ]
  },
  {
   "cell_type": "markdown",
   "id": "3b1a53e8",
   "metadata": {},
   "source": [
    "\n",
    "3. **Engineering (Ingeniería):** Introduce el pensamiento lógico y la resolución de problemas estructurados, fomentando habilidades como el diseño y la construcción de soluciones.\n"
   ]
  },
  {
   "cell_type": "markdown",
   "id": "0196de87",
   "metadata": {},
   "source": [
    "\n",
    "4. **Arts (Arte):** Añade creatividad y pensamiento crítico, permitiendo a los estudiantes expresarse y explorar el aprendizaje a través de formas artísticas (plásticas, música, teatro).\n"
   ]
  },
  {
   "cell_type": "markdown",
   "id": "8bcc485a",
   "metadata": {},
   "source": [
    "\n",
    "5. **Mathematics (Matemáticas):** Refuerza las habilidades numéricas y el razonamiento lógico, fundamentales en la resolución de problemas y comprensión de conceptos abstractos.\n"
   ]
  },
  {
   "cell_type": "markdown",
   "id": "907935f4",
   "metadata": {},
   "source": [
    "\n",
    "6. **Social Sciences (Ciencias Sociales):** Incorpora la comprensión del entorno social, político, cultural y económico, promoviendo el desarrollo de la conciencia crítica sobre el mundo y su historia, además de habilidades de empatía y ciudadanía.\n"
   ]
  },
  {
   "cell_type": "markdown",
   "id": "39967d63",
   "metadata": {},
   "source": [
    "\n",
    "El enfoque STEAMS pretende desarrollar un aprendizaje **interdisciplinario** que integre estas áreas para fomentar un pensamiento más holístico y práctico. "
   ]
  },
  {
   "cell_type": "markdown",
   "id": "5145f077",
   "metadata": {},
   "source": [
    "Se busca que los estudiantes no solo aprendan conocimientos técnicos, sino también cómo aplicarlos creativa y críticamente en situaciones reales, promoviendo habilidades como el trabajo en equipo, la comunicación y la innovación. "
   ]
  },
  {
   "cell_type": "markdown",
   "id": "9d556584",
   "metadata": {},
   "source": [
    "En educación preescolar, primaria, secundaria y superior, se adapta a las diferentes etapas de desarrollo cognitivo y emocional de los estudiantes, promoviendo el aprendizaje activo y contextualizado.  \n"
   ]
  },
  {
   "cell_type": "markdown",
   "id": "0130ec1b",
   "metadata": {},
   "source": [
    "\n",
    "<img src = 'https://www.campuseducacion.com/blog/wp-content/uploads/2023/03/foto01-1.jpg' width = 400>"
   ]
  },
  {
   "cell_type": "markdown",
   "id": "9d15c10d-2c02-4158-9419-b1ed79b4c1ee",
   "metadata": {},
   "source": [
    "# Qué estamos haciendo por la internalización en esta clase y este curso  \n",
    "\n",
    "Para presentar tus acciones como docente de matemáticas en la Universidad de Antioquia con miras a la **internacionalización** de tu práctica docente y el desarrollo de competencias internacionales en tus estudiantes, te sugiero estructurar tu enfoque en los siguientes aspectos clave:"
   ]
  },
  {
   "cell_type": "markdown",
   "id": "964d9de7-53ee-4255-9bcd-d8e6454f2993",
   "metadata": {},
   "source": [
    "### 1. **Visión Global en la Formación Académica**\n"
   ]
  },
  {
   "cell_type": "markdown",
   "id": "d9bdd3e2",
   "metadata": {},
   "source": [
    "   - **Competencias Internacionales**: Asegúrate de que el contenido de tus cursos fomente habilidades que sean reconocidas globalmente. Al educar a los estudiantes en **Python, LaTeX, Markdown y Jupyter Notebooks** y en la **introducción a la ciencia de datos y técnicas de Machine Learning**, estás proporcionando competencias altamente demandadas en los sectores tecnológicos y académicos a nivel internacional.\n"
   ]
  },
  {
   "cell_type": "markdown",
   "id": "39b55206",
   "metadata": {},
   "source": [
    "   - **Relevancia de los Contenidos**: Destaca cómo los temas que enseñas, como el **desarrollo del pensamiento computacional** y la **ciencia de datos**, están alineados con las necesidades globales actuales en diversas industrias, desde la tecnología hasta las ciencias naturales y sociales.\n"
   ]
  },
  {
   "cell_type": "markdown",
   "id": "a054599e",
   "metadata": {},
   "source": [
    "   - **Referencias a Estándares Internacionales**: Puedes vincular tu enseñanza a estándares internacionales de competencias en programación y ciencia de datos (por ejemplo, frameworks del **IEEE, ACM**, y estándares de la **data science** o la **computación en la nube**)."
   ]
  },
  {
   "cell_type": "markdown",
   "id": "0f1d110c-3142-48fe-9e7d-5fbd9e8bb931",
   "metadata": {},
   "source": [
    "### 2. **Innovación Pedagógica con Enfoque Internacional**\n"
   ]
  },
  {
   "cell_type": "markdown",
   "id": "fae6ae34",
   "metadata": {},
   "source": [
    "   - **Aula Invertida y ABP**: Presenta cómo tu enfoque de **aula invertida** y **aprendizaje basado en problemas (ABP)** permite a los estudiantes trabajar de manera autónoma y colaborativa, lo que los prepara para escenarios laborales internacionales que requieren autoaprendizaje y habilidades de resolución de problemas en equipo.\n"
   ]
  },
  {
   "cell_type": "markdown",
   "id": "c83062d9",
   "metadata": {},
   "source": [
    "   - **Uso de Jupyter Notebooks**: El uso de **Jupyter Notebooks** en tus clases no solo facilita la **integración de código, matemáticas y texto**, sino que también es una plataforma utilizada globalmente en ambientes académicos y profesionales, lo que hace a tus estudiantes más competitivos internacionalmente."
   ]
  },
  {
   "cell_type": "markdown",
   "id": "960d52b7-03cd-4eb3-965e-5cdfeb7d9f8e",
   "metadata": {},
   "source": [
    "### 3. **Tecnología y Herramientas de Uso Global**\n",
    "   - **Lenguaje Python**: Python es uno de los lenguajes de programación más usados a nivel mundial, tanto en la academia como en la industria. Al formar a tus estudiantes en Python para ciencia de datos y machine learning, los preparas para operar en entornos tecnológicos globales.\n",
    "   - **Herramientas de Ciencia Abierta**: Resalta cómo herramientas como **GitHub**, **Google Colab** y otras plataformas de código abierto están alineadas con el movimiento de **ciencia abierta**, el cual es internacionalmente reconocido y permite que los estudiantes colaboren y compartan proyectos a nivel global."
   ]
  },
  {
   "cell_type": "markdown",
   "id": "3b2ffa32-7a6f-4545-ba7b-c6a69f51109f",
   "metadata": {},
   "source": [
    "### 4. **Investigación y Publicaciones Internacionales**\n"
   ]
  },
  {
   "cell_type": "markdown",
   "id": "bdbf52a5",
   "metadata": {},
   "source": [
    "   - **Promoción de la Investigación**: Detalla cómo promueves que tus estudiantes participen en proyectos de **investigación aplicada**, con posibilidad de publicación en revistas internacionales. Esto contribuye a la reputación internacional de la Universidad de Antioquia.\n"
   ]
  },
  {
   "cell_type": "markdown",
   "id": "ea01fcbc",
   "metadata": {},
   "source": [
    "   - **Colaboraciones Internacionales**: Si has colaborado con investigadores de otras instituciones o universidades en el extranjero, menciona estos proyectos y cómo han enriquecido tu enseñanza y proporcionado a los estudiantes una visión más globalizada."
   ]
  },
  {
   "cell_type": "markdown",
   "id": "5d1e396e-aece-4bf7-9421-32fa7809eaf4",
   "metadata": {},
   "source": [
    "### 5. **Uso del Inglés para la Internacionalización**\n"
   ]
  },
  {
   "cell_type": "markdown",
   "id": "3f8df1e0",
   "metadata": {},
   "source": [
    "   - **Comunicación Científica en Inglés**: Fomentar el aprendizaje del inglés como lengua científica es clave para que tus estudiantes puedan acceder a publicaciones internacionales, conferencias, y material académico que no está disponible en español. Esto es esencial para que adquieran competencias que les permitan desempeñarse en cualquier contexto internacional.\n"
   ]
  },
  {
   "cell_type": "markdown",
   "id": "e0ec18cb",
   "metadata": {},
   "source": [
    "   - **Material Bilingüe**: Al generar material educativo en Python, LaTeX y Markdown, considera ofrecer algunos de estos recursos en inglés, para que los estudiantes se familiaricen con el vocabulario técnico y científico internacional."
   ]
  },
  {
   "cell_type": "markdown",
   "id": "c6a8c3b0-426a-4692-a384-3065aea81c9a",
   "metadata": {},
   "source": [
    "### 6. **Certificaciones y Estándares Internacionales**\n",
    "   - **Participación en Certificaciones Internacionales**: Impulsa que los estudiantes busquen certificaciones internacionales en Python o ciencia de datos (como las ofrecidas por **Coursera, edX,** o **Google**). Estas certificaciones no solo validan sus competencias, sino que también incrementan el reconocimiento de la Universidad de Antioquia en el contexto internacional.\n",
    "   - **Alineación con Acreditaciones Internacionales**: Vincula tu trabajo docente con los estándares de acreditación y certificación que garantizan que la universidad siga siendo reconocida internacionalmente. Puedes vincularte con organizaciones internacionales que promuevan la excelencia en la educación y tecnología, como **ABET** para la acreditación en ingeniería y ciencias computacionales."
   ]
  },
  {
   "cell_type": "markdown",
   "id": "65d3d9e1-ea84-43e0-8197-a2a9c9e21594",
   "metadata": {},
   "source": [
    "### 7. **Proyectos Abiertos y Ciencia Reproducible**\n",
    "   - **GitHub y Open Science**: La utilización de **GitHub** para almacenar los proyectos y materiales de enseñanza en repositorios públicos permite que otros investigadores y educadores internacionales puedan revisar y replicar tu trabajo. Esto contribuye a la creación de una red de colaboración científica abierta.\n",
    "   - **Transparencia y Reproducibilidad**: La ciencia de datos y machine learning están profundamente ligados a la reproducibilidad. Asegura que tus estudiantes desarrollen prácticas de transparencia y documentación en la investigación, que son pilares en la comunidad científica global.\n"
   ]
  },
  {
   "cell_type": "markdown",
   "id": "215cb551",
   "metadata": {},
   "source": [
    "\n",
    "### 8. **Participación en Redes y Conferencias Internacionales**\n",
    "   - **Presentación en Conferencias Internacionales**: Destaca cómo tu participación en conferencias internacionales (como la **ASCOLFA** o eventos sobre educación en matemáticas) contribuye al prestigio de la universidad y permite que tus prácticas sean evaluadas y reconocidas a nivel global.\n"
   ]
  },
  {
   "cell_type": "markdown",
   "id": "1c1fdd52",
   "metadata": {},
   "source": [
    "   - **Promoción de Estudiantes en Eventos Internacionales**: Impulsa la participación de tus estudiantes en competiciones internacionales de programación o hackathons, como los organizados por **Google**, **ACM** o **Kaggle**. Esto no solo desarrolla sus habilidades, sino que también visibiliza el talento de la Universidad de Antioquia a nivel global.\n",
    "\n",
    "---"
   ]
  },
  {
   "cell_type": "markdown",
   "id": "233294a4-1983-4641-a7ad-866825e02315",
   "metadata": {},
   "source": [
    "Con esta estrategia, presento mis acciones docentes en términos de competencias internacionales, innovación pedagógica, tecnología, investigación y participación en redes globales, asegurando que tu práctica esté alineada con los estándares internacionales y que tus estudiantes estén preparados para competir en contextos internacionales."
   ]
  },
  {
   "cell_type": "markdown",
   "id": "8d97dc80",
   "metadata": {
    "slideshow": {
     "slide_type": "slide"
    }
   },
   "source": [
    "## Fomento de la lectura literaria asociada a Ingeniería agropecuaria y licenciatura en Matemáticas\n",
    "\n",
    "[Aprender a obtener el sí sin ceder]()"
   ]
  },
  {
   "cell_type": "markdown",
   "id": "540f0ec1",
   "metadata": {
    "slideshow": {
     "slide_type": "slide"
    }
   },
   "source": [
    "## Cuestionario para realizar labores de memorización, observación y síntesis de la información (Además de diagnóstico)  \n",
    "\n",
    "1. ¿Qué?\n",
    "2. ¿Cómo?\n",
    "3. ¿Dónde?\n",
    "4. ¿Cuándo?\n",
    "5. ¿Por qué? "
   ]
  },
  {
   "cell_type": "markdown",
   "id": "8e457ea2",
   "metadata": {},
   "source": [
    "# Definiciones y Resultados científicos a comprender y memorizar \n",
    "\n",
    "[Primera grabación en Vocaroo]()"
   ]
  },
  {
   "cell_type": "markdown",
   "id": "ca7261b1",
   "metadata": {
    "slideshow": {
     "slide_type": "slide"
    }
   },
   "source": [
    "## Establecimiento de prerrequisitos conceptuales para alcanzar el objetivo de aprendizaje trazado.   \n",
    "\n",
    "(Elabore una lista de preguntas al rededor de los conceptos que consideres necesarios para empezar la clase).  \n",
    "\n",
    "1. \n",
    "2. \n",
    "3. "
   ]
  },
  {
   "cell_type": "markdown",
   "id": "2298e976",
   "metadata": {
    "slideshow": {
     "slide_type": "slide"
    }
   },
   "source": [
    "# Para el diseño de la clase tenga en cuenta algunos problemas de aprendizaje"
   ]
  },
  {
   "cell_type": "markdown",
   "id": "523d3acf",
   "metadata": {
    "slideshow": {
     "slide_type": "slide"
    }
   },
   "source": []
  },
  {
   "cell_type": "markdown",
   "id": "a40a4704",
   "metadata": {
    "slideshow": {
     "slide_type": "slide"
    }
   },
   "source": [
    "## Secuencia conceptual introductoria a la clase"
   ]
  },
  {
   "cell_type": "markdown",
   "id": "8853d874",
   "metadata": {},
   "source": [
    "## El componente histórico y epistemológico"
   ]
  },
  {
   "cell_type": "markdown",
   "id": "e3ffa494",
   "metadata": {},
   "source": [
    "# Vocabulary   \n",
    "\n",
    "1. \n",
    "2.  \n",
    "3.  \n",
    "4.  \n",
    "5.  "
   ]
  },
  {
   "cell_type": "code",
   "execution_count": 4,
   "id": "6ff395c3",
   "metadata": {},
   "outputs": [],
   "source": [
    "# Traducción del inglés al español con python\n",
    "\n",
    "def traducir(texto):\n",
    "    from googletrans import Translator\n",
    "\n",
    "    translator = Translator() # instancia la clase \n",
    "\n",
    "    # Traducir al español\n",
    "    translation = translator.translate(texto, src='en', dest='es')\n",
    "    return translation.text"
   ]
  },
  {
   "cell_type": "code",
   "execution_count": 5,
   "id": "b583f414-ac87-4912-8a86-b338234d83d7",
   "metadata": {},
   "outputs": [
    {
     "data": {
      "text/plain": [
       "'Hola'"
      ]
     },
     "execution_count": 5,
     "metadata": {},
     "output_type": "execute_result"
    }
   ],
   "source": [
    "traducir('Hi')"
   ]
  },
  {
   "cell_type": "code",
   "execution_count": 1,
   "id": "bc0addfe",
   "metadata": {},
   "outputs": [
    {
     "data": {
      "text/plain": [
       "'C:\\\\Users\\\\marco\\\\Documentos\\\\docencia\\\\fundamentos_logica\\\\Métodos de demostración.pdf'"
      ]
     },
     "execution_count": 1,
     "metadata": {},
     "output_type": "execute_result"
    }
   ],
   "source": [
    "# mapa conceptual para cada clase  \n",
    "from graphviz import Digraph\n",
    "\n",
    "# Crear un nuevo grafo dirigido\n",
    "dot = Digraph()\n",
    "\n",
    "# Añadir nodos y relaciones al grafo\n",
    "main_concept = 'Métodos de demostración'\n",
    "dot.node('A', main_concept)\n",
    "dot.node('B', '')\n",
    "dot.node('C', '')\n",
    "dot.node('D', '')\n",
    "\n",
    "dot.edges(['AB'])\n",
    "\n",
    "\n",
    "# Guardar el grafo como un archivo de imagen\n",
    "dot.render(filename=main_concept, format='png', cleanup=True, \\\n",
    "           directory='C:/Users/marco/Documentos/docencia/fundamentos_logica')\n",
    "\n",
    "dot.view()\n"
   ]
  },
  {
   "cell_type": "markdown",
   "id": "193b9bc4",
   "metadata": {},
   "source": [
    "# Motivación a la clase  "
   ]
  },
  {
   "cell_type": "markdown",
   "id": "10e55ccf",
   "metadata": {},
   "source": [
    "# Primer método de demostración indirecta: Método del Contrarrecíproco"
   ]
  },
  {
   "cell_type": "markdown",
   "id": "239427f7",
   "metadata": {},
   "source": [
    "# Comparemos dos implicaciones que se demuestren una por método directo y la otra por método indirecto.\n",
    "\n",
    "**Un número natural es par si y solo si su cuadrado también**"
   ]
  },
  {
   "cell_type": "markdown",
   "id": "e50e9d75",
   "metadata": {},
   "source": [
    "## Demostración de la implicación de izquierda a derecha: \n",
    "\n",
    "**Si un número natural $n$ es par, entonces $n^{2}$ es par**  \n",
    "\n",
    "### Hipótesis: $n$ es par.\n",
    "### Tesis: $n^{2}$ es par\n",
    "\n",
    "#### Demostración por método directo y modelo afirmacióin razón  \n",
    "|Afirmación|Razón|  \n",
    "|----------|-----|\n",
    "|1. $n$ es par.|Hipótesis| \n",
    "|2. $\\exists k \\in \\mathbb{N}$ tal que $n = 2k$.|Definición de número par|\n",
    "|3. $n^{2} = (2k)^{2}$.|igualdad de cuadrados de números iguales|\n",
    "|4. $n^{2} = 4k^{2}$.|distribitividad de la potenciación para productos|\n",
    "|5. $n^{2} = 2(2k^{2})$.|factorización de 4 y asociatividad de la multiplicación y cerradura de la multiplicación en $\\mathbb{N}$| \n",
    "|6. $n^{2}$ es par.|definición de número par| \n",
    "\n"
   ]
  },
  {
   "cell_type": "markdown",
   "id": "9dab7568",
   "metadata": {},
   "source": [
    "## Demostración de la implicación de derecha a izquierda, es decir, demostración del recíproco de la implicación anterior: \n",
    "\n",
    "**Si un número natural $n^{2}$ es par, entonces $n$ es par**  \n",
    "\n",
    "Es difícil inferir desde la paridad de un número a la paridad de su raíiz. \n",
    "\n",
    "### Hipótesis: $n^{2}$ es par.\n",
    "### Tesis: $n$ es par\n",
    "\n",
    "\n",
    "\n",
    "#### Demostración por método directo y modelo afirmacióin razón    \n",
    "\n",
    "|Afirmación|Razón|  \n",
    "|----------|-----|\n",
    "|1. $n$ es impar.|Hipótesis| \n",
    "|2. $\\exists k \\in \\mathbb{N}$ tal que $n = 2k+1$.|Definición de número par|\n",
    "|3. $n^{2} = (2k+1)^{2}$.|igualdad de cuadrados de números iguales|\n",
    "|4.$n^{2} = (2k)^{2} + 4k + 1$| Distributividad de la multiplicación con respecto a la suma en $\\mathbb{N}$|\n",
    "|4. $n^{2} = 4k^{2} + 4k + 1$.| distribitividad de la potenciación para productos|\n",
    "|5. $n^{2} = 2(2k^{2}) + 2(2k) + 1$.|factorización de 4 y asociatividad de la multiplicación y cerradura de la multiplicación en $\\mathbb{N}$| \n",
    "|6. $n^{2} = 2(2k^{2} + 2k) + 1$|Distributividad de la multiplicación con respecto a la suma en $\\mathbb{N}$|\n",
    "|6. $n^{2}$ es impar.|definición de número impar| \n",
    "\n",
    "\n",
    "Por tanto, $n$ impar implica $n^{2}$ impar. Por lo tanto, $n^{2}$ par implica que $n$ es par.   \n",
    "\n",
    "\n"
   ]
  },
  {
   "cell_type": "markdown",
   "id": "d2798a4f",
   "metadata": {},
   "source": [
    "Dame, por favor, un diseño de clase sobre: \"El método indirecto de demostración llamado método del contrarrecíproco\":\n",
    "Diseña la clase utilizando ejemplos y tareas de aplicación del método en Cálculo diferencial, cálculo integral, geometría vectorial y álgebra lineal, estadística para ciencia de datos, geometría eucluidiana y teoría de números y siguiendo la siguiente estructura.   \n",
    "  \n",
    "1. Título de la clase \n",
    "2. Objetivo de aprendizaje\n",
    "3. Contenido de la clase\n",
    "4. Actividades de aprendizaje\n",
    "5. Tarea o actividades de ejercitación y fijación\n",
    "6. Diseño de actividad de retroalimentación. "
   ]
  },
  {
   "cell_type": "markdown",
   "id": "ec048afb",
   "metadata": {},
   "source": [
    "Aquí tienes un diseño de clase completo sobre el **Método del Contrarrecíproco** o **Método Indirecto de Demostración por Contrarrecíproco**, enfocado en ejemplos y aplicaciones en diversas áreas de las matemáticas y la estadística. Este método, esencial en la lógica matemática, ayuda a entender y resolver problemas de manera indirecta, convirtiendo afirmaciones complejas en demostraciones más accesibles.\n",
    "\n",
    "---\n",
    "\n",
    "### 1. Título de la clase\n",
    "\n",
    "**El Método Indirecto de Demostración: Método del Contrarrecíproco**\n",
    "\n",
    "---\n"
   ]
  },
  {
   "cell_type": "markdown",
   "id": "d8861645",
   "metadata": {},
   "source": [
    "\n",
    "### 2. Objetivo de aprendizaje\n",
    "\n",
    "Al finalizar la clase, el estudiante será capaz de aplicar el método del contrarrecíproco en la demostración de proposiciones matemáticas, comprendiendo su utilidad y su aplicación en Cálculo Diferencial e Integral, Geometría Vectorial, Álgebra Lineal, Estadística para Ciencia de Datos, Geometría Euclidiana y Teoría de Números.\n",
    "\n",
    "---\n"
   ]
  },
  {
   "cell_type": "markdown",
   "id": "bf0b09db",
   "metadata": {},
   "source": [
    "\n",
    "### 3. Contenido de la clase\n",
    "\n",
    "1. **Introducción al Método del Contrarrecíproco**\n",
    "   - Definición del contrarrecíproco: Para demostrar \"Si $ P \\Rightarrow Q $\", se prueba \"Si $ \\neg Q \\Rightarrow \\neg P $\".\n",
    "   - Comparación con otros métodos de demostración indirecta (como la reducción al absurdo).\n",
    "   - Ejemplos sencillos para ilustrar el concepto.\n"
   ]
  },
  {
   "cell_type": "markdown",
   "id": "606e39dd",
   "metadata": {},
   "source": [
    "Aquí tienes el desarrollo de la **Introducción al Método del Contrarrecíproco** para la clase:\n",
    "\n",
    "---\n"
   ]
  },
  {
   "cell_type": "markdown",
   "id": "b86ea5db",
   "metadata": {},
   "source": [
    "\n",
    "### 3. Contenido de la clase\n",
    "\n",
    "#### 1. **Introducción al Método del Contrarrecíproco**\n"
   ]
  },
  {
   "cell_type": "markdown",
   "id": "19ede179",
   "metadata": {},
   "source": [
    "\n",
    "**Definición del Método del Contrarrecíproco:**\n",
    "\n",
    "El **Método del Contrarrecíproco** es un método de demostración indirecta en el que se prueba la veracidad de una proposición $P \\Rightarrow Q$ demostrando que su contrarrecíproco es verdadero. \n"
   ]
  },
  {
   "cell_type": "markdown",
   "id": "e18534df",
   "metadata": {},
   "source": [
    "\n",
    "- Recordemos que la **implicación** $P \\Rightarrow Q$ significa que si se cumple $P$, entonces también debe cumplirse $Q$.\n",
    "- El **contrarrecíproco** de $P \\Rightarrow Q$ es la proposición $\\neg Q \\Rightarrow \\neg P$, que se lee como: \"Si $Q$ es falso, entonces $P$ también debe ser falso.\"\n"
   ]
  },
  {
   "cell_type": "markdown",
   "id": "195e011c",
   "metadata": {},
   "source": [
    "\n",
    "**Ejemplo de aplicación de contrarrecíproco:**\n"
   ]
  },
  {
   "cell_type": "markdown",
   "id": "42658b4d",
   "metadata": {},
   "source": [
    "\n",
    "Si queremos demostrar una proposición como \"Si un número entero es divisible por 6, entonces es divisible por 3\", en lugar de demostrarla directamente, podemos usar su contrarrecíproco: \"Si un número entero no es divisible por 3, entonces no es divisible por 6\".\n"
   ]
  },
  {
   "cell_type": "markdown",
   "id": "97027fd6",
   "metadata": {},
   "source": [
    "\n",
    "**Razón de uso:** \n",
    "\n",
    "El método del contrarrecíproco es útil porque en algunos casos puede ser más sencillo probar que $\\neg Q \\Rightarrow \\neg P$ en lugar de probar directamente que $P \\Rightarrow Q$. Esto ocurre cuando el camino lógico inverso entre los elementos $Q$ y $P$ resulta más evidente o directo.\n",
    "\n",
    "---\n"
   ]
  },
  {
   "cell_type": "markdown",
   "id": "04e709c7",
   "metadata": {},
   "source": [
    "\n",
    "**Comparación con otros métodos de demostración indirecta:**\n"
   ]
  },
  {
   "cell_type": "markdown",
   "id": "47e4406f",
   "metadata": {},
   "source": [
    "\n",
    "1. **Reducción al Absurdo**:\n",
    "   - En la **reducción al absurdo**, para demostrar $P \\Rightarrow Q$, suponemos que $P$ es verdadero y \\( Q \\) es falso. A partir de esta suposición, intentamos derivar una contradicción.\n",
    "   - Aunque ambos métodos son indirectos, el **contrarrecíproco** no busca generar contradicciones sino probar la veracidad de una implicación inversa.\n",
    "   - **Ejemplo de Reducción al Absurdo**: Demostrar que $\\sqrt{2}$ no es racional. Supongamos lo contrario (que es racional) y llegamos a una contradicción.\n"
   ]
  },
  {
   "cell_type": "markdown",
   "id": "c4031c74",
   "metadata": {},
   "source": [
    "\n",
    "2. **Demostración Directa**:\n",
    "   - En una **demostración directa** probamos $P \\Rightarrow Q$ partiendo de $P$ y usando pasos lógicos que llevan a $Q$.\n",
    "   - A diferencia del método directo, el método del contrarrecíproco requiere demostrar una afirmación equivalente pero enfocada en los contrarios $\\neg Q$ y $\\neg P$.\n"
   ]
  },
  {
   "cell_type": "markdown",
   "id": "9908df73",
   "metadata": {},
   "source": [
    "\n",
    "**Ejemplos Sencillos para Ilustrar el Método del Contrarrecíproco:**\n",
    "\n",
    "1. **Ejemplo en Teoría de Números:**\n",
    "   - Proposición: \"Si un número entero es par, entonces es divisible por 2.\"\n",
    "   - Contrarrecíproco: \"Si un número entero no es divisible por 2, entonces no es par.\"\n",
    "   - Este contrarrecíproco es más sencillo de probar porque sabemos que un número no divisible por 2 es impar.\n"
   ]
  },
  {
   "cell_type": "markdown",
   "id": "720fa6be",
   "metadata": {},
   "source": [
    "\n",
    "2. **Ejemplo en Geometría:**\n",
    "   - Proposición: \"Si un cuadrado tiene todos sus lados iguales, entonces es un rombo.\"\n",
    "   - Contrarrecíproco: \"Si una figura no es un rombo, entonces no puede tener todos sus lados iguales.\"\n",
    "   - En este caso, el contrarrecíproco puede ser más intuitivo porque sabemos que al menos uno de los lados debe ser desigual para que no sea un rombo.\n"
   ]
  },
  {
   "cell_type": "markdown",
   "id": "496f2aaf",
   "metadata": {},
   "source": [
    "\n",
    "3. **Ejemplo en Cálculo Diferencial:**\n",
    "   - Proposición: \"Si una función es derivable en un punto, entonces es continua en ese punto.\"\n",
    "   - Contrarrecíproco: \"Si una función no es continua en un punto, entonces no es derivable en ese punto.\"\n",
    "   - Este contrarrecíproco puede ser útil en pruebas analíticas de funciones discontinuas, ya que es más sencillo verificar la no-derivabilidad si la función no es continua.\n",
    "\n",
    "---\n"
   ]
  },
  {
   "cell_type": "markdown",
   "id": "cd3def74",
   "metadata": {},
   "source": [
    "\n",
    "**Conclusión:**\n"
   ]
  },
  {
   "cell_type": "markdown",
   "id": "2dfeb4f1",
   "metadata": {},
   "source": [
    "\n",
    "El método del contrarrecíproco es una herramienta poderosa en matemáticas y lógica que facilita algunas demostraciones complejas al enfocarse en el camino lógico inverso entre las proposiciones. "
   ]
  },
  {
   "cell_type": "markdown",
   "id": "b621fbd8",
   "metadata": {},
   "source": [
    "Este método es especialmente útil cuando el camino de $Q$ hacia $P$ es más sencillo de probar que el camino de $P$ hacia $Q$, y se utiliza ampliamente en cálculo, álgebra, geometría, y teoría de números."
   ]
  },
  {
   "cell_type": "markdown",
   "id": "c4aa0cb1",
   "metadata": {},
   "source": [
    "[Video hasta aquí]() "
   ]
  },
  {
   "cell_type": "markdown",
   "id": "ae871219",
   "metadata": {},
   "source": [
    "\n",
    "2. **Aplicaciones del Método del Contrarrecíproco en Diferentes Áreas Matemáticas**\n",
    "   - **Cálculo Diferencial**: Uso del contrarrecíproco para demostrar propiedades de derivadas y límites.\n",
    "   - **Cálculo Integral**: Aplicación en la verificación de integrabilidad y en demostraciones de propiedades de integrales definidas.\n",
    "   - **Geometría Vectorial y Álgebra Lineal**: Empleo para demostrar propiedades de ortogonalidad y dependencia/independencia lineal.\n",
    "   - **Estadística para Ciencia de Datos**: Aplicación en demostraciones sobre probabilidades condicionales y propiedades de distribuciones.\n",
    "   - **Geometría Euclidiana**: Uso en pruebas de propiedades de figuras geométricas y teoremas fundamentales.\n",
    "   - **Teoría de Números**: Aplicación en la demostración de divisibilidad y propiedades de números primos.\n",
    "\n",
    "---\n"
   ]
  },
  {
   "cell_type": "markdown",
   "id": "5c86adcd",
   "metadata": {},
   "source": [
    "Aquí tienes el desarrollo para la sección **Aplicaciones del Método del Contrarrecíproco en Diferentes Áreas Matemáticas**:\n",
    "\n",
    "---\n"
   ]
  },
  {
   "cell_type": "markdown",
   "id": "30ccd58d",
   "metadata": {},
   "source": [
    "\n",
    "### 2. **Aplicaciones del Método del Contrarrecíproco en Diferentes Áreas Matemáticas**\n",
    "\n",
    "El método del contrarrecíproco es una herramienta versátil que puede facilitar la demostración de teoremas y propiedades en diversas áreas matemáticas. A continuación, se exploran ejemplos de cómo este método puede ser aplicado en distintas ramas.\n",
    "\n",
    "---\n"
   ]
  },
  {
   "cell_type": "markdown",
   "id": "2e86002d",
   "metadata": {},
   "source": [
    "\n",
    "#### **Cálculo Diferencial**: Uso del contrarrecíproco para demostrar propiedades de derivadas y límites.\n",
    "\n",
    "- **Ejemplo 1: Derivabilidad implica continuidad**  \n",
    "  Proposición: \"Si una función es derivable en un punto, entonces es continua en ese punto.\"  \n",
    "  Contrarrecíproco: \"Si una función no es continua en un punto, entonces no es derivable en ese punto.\"  \n",
    "  *Aplicación:* Este contrarrecíproco es útil para identificar puntos donde una función no puede tener derivada. Si se demuestra que la función es discontinua en cierto punto, podemos concluir que la derivada no existe en ese punto.\n",
    "\n",
    "- **Ejemplo 2: Límites laterales**  \n",
    "  Proposición: \"Si el límite de una función existe en un punto, entonces los límites laterales son iguales.\"  \n",
    "  Contrarrecíproco: \"Si los límites laterales no son iguales en un punto, entonces el límite de la función no existe en ese punto.\"  \n",
    "  *Aplicación:* Esta demostración es útil para funciones con puntos de discontinuidad y puede aplicarse en la verificación de límites de funciones definidas por tramos.\n",
    "\n",
    "---\n"
   ]
  },
  {
   "cell_type": "markdown",
   "id": "df1917d5",
   "metadata": {},
   "source": [
    "\n",
    "#### **Cálculo Integral**: Aplicación en la verificación de integrabilidad y en demostraciones de propiedades de integrales definidas.\n",
    "\n",
    "- **Ejemplo 1: Integrabilidad de una función continua en un intervalo cerrado**  \n",
    "  Proposición: \"Si una función es continua en un intervalo cerrado \\([a, b]\\), entonces es integrable en \\([a, b]\\).\"  \n",
    "  Contrarrecíproco: \"Si una función no es integrable en un intervalo \\([a, b]\\), entonces no es continua en \\([a, b]\\).\"  \n",
    "  *Aplicación:* Este contrarrecíproco facilita el proceso de identificación de funciones no integrables mediante el análisis de su continuidad, útil en el estudio de propiedades de funciones.\n",
    "\n",
    "- **Ejemplo 2: Propiedades de integrales de funciones simétricas**  \n",
    "  Proposición: \"Si una función \\( f \\) es impar en un intervalo simétrico alrededor del origen, entonces su integral definida en dicho intervalo es cero.\"  \n",
    "  Contrarrecíproco: \"Si la integral definida de \\( f \\) en un intervalo simétrico alrededor del origen no es cero, entonces \\( f \\) no es impar.\"  \n",
    "  *Aplicación:* Este contrarrecíproco permite verificar que una función que produce una integral no nula en un intervalo simétrico alrededor del origen no cumple con la propiedad de imparidad.\n",
    "\n",
    "---\n"
   ]
  },
  {
   "cell_type": "markdown",
   "id": "c408598c",
   "metadata": {},
   "source": [
    "\n",
    "#### **Geometría Vectorial y Álgebra Lineal**: Empleo para demostrar propiedades de ortogonalidad y dependencia/independencia lineal.\n",
    "\n",
    "- **Ejemplo 1: Ortogonalidad y perpendicularidad**  \n",
    "  Proposición: \"Si dos vectores son ortogonales, entonces su producto escalar es cero.\"  \n",
    "  Contrarrecíproco: \"Si el producto escalar de dos vectores no es cero, entonces no son ortogonales.\"  \n",
    "  *Aplicación:* Este contrarrecíproco es útil para descartar ortogonalidad entre vectores cuando el producto escalar no es cero, una propiedad comúnmente empleada en el análisis de sistemas vectoriales.\n",
    "\n",
    "- **Ejemplo 2: Independencia lineal**  \n",
    "  Proposición: \"Si un conjunto de vectores es linealmente independiente, entonces no existe una combinación lineal no trivial de los vectores que sea igual al vector cero.\"  \n",
    "  Contrarrecíproco: \"Si existe una combinación lineal no trivial de los vectores que es igual al vector cero, entonces los vectores son linealmente dependientes.\"  \n",
    "  *Aplicación:* Este enfoque es útil en la teoría de espacios vectoriales, donde el análisis de dependencias puede ayudar a reducir problemas complejos.\n",
    "\n",
    "---\n"
   ]
  },
  {
   "cell_type": "markdown",
   "id": "042b1501",
   "metadata": {},
   "source": [
    "\n",
    "#### **Estadística para Ciencia de Datos**: Aplicación en demostraciones sobre probabilidades condicionales y propiedades de distribuciones.\n",
    "\n",
    "- **Ejemplo 1: Probabilidades condicionales**  \n",
    "  Proposición: \"Si dos eventos son independientes, la probabilidad condicional de uno dado el otro es igual a su probabilidad marginal.\"  \n",
    "  Contrarrecíproco: \"Si la probabilidad condicional de un evento dado el otro no es igual a su probabilidad marginal, entonces los eventos no son independientes.\"  \n",
    "  *Aplicación:* Este contrarrecíproco permite simplificar el análisis de independencia de eventos en estudios de datos y estadísticas.\n",
    "\n",
    "- **Ejemplo 2: Propiedad de distribuciones normales**  \n",
    "  Proposición: \"Si una variable aleatoria tiene una distribución normal estándar, entonces su media es cero y su desviación estándar es uno.\"  \n",
    "  Contrarrecíproco: \"Si una variable aleatoria no tiene media cero o desviación estándar uno, entonces no es una variable de distribución normal estándar.\"  \n",
    "  *Aplicación:* Este contrarrecíproco permite identificar distribuciones que no cumplen con la normalidad estándar, ayudando a filtrar datos en análisis exploratorios.\n",
    "\n",
    "---\n"
   ]
  },
  {
   "cell_type": "markdown",
   "id": "93b943f2",
   "metadata": {},
   "source": [
    "\n",
    "#### **Geometría Euclidiana**: Uso en pruebas de propiedades de figuras geométricas y teoremas fundamentales.\n",
    "\n",
    "- **Ejemplo 1: Propiedad de los triángulos equiláteros**  \n",
    "  Proposición: \"Si un triángulo es equilátero, entonces todos sus ángulos son iguales a 60 grados.\"  \n",
    "  Contrarrecíproco: \"Si los ángulos de un triángulo no son todos iguales a 60 grados, entonces el triángulo no es equilátero.\"  \n",
    "  *Aplicación:* Este enfoque es útil en la clasificación de triángulos y permite descartar la equilateridad de un triángulo cuando sus ángulos no son iguales a 60 grados.\n",
    "\n",
    "- **Ejemplo 2: Paralelismo de líneas**  \n",
    "  Proposición: \"Si dos líneas son paralelas, entonces nunca se intersecan en el plano.\"  \n",
    "  Contrarrecíproco: \"Si dos líneas se intersecan en el plano, entonces no son paralelas.\"  \n",
    "  *Aplicación:* El contrarrecíproco ayuda a analizar relaciones de paralelismo en estudios de geometría, especialmente en la configuración de figuras geométricas complejas.\n",
    "\n",
    "---\n",
    "\n",
    "#### **Teoría de Números**: Aplicación en la demostración de divisibilidad y propiedades de números primos.\n",
    "\n",
    "- **Ejemplo 1: Divisibilidad**  \n",
    "  Proposición: \"Si un número es divisible por 4, entonces es par.\"  \n",
    "  Contrarrecíproco: \"Si un número no es par, entonces no es divisible por 4.\"  \n",
    "  *Aplicación:* Este contrarrecíproco permite descartar la divisibilidad de números por 4 al verificar su paridad, lo cual es útil en algoritmos que requieren divisiones precisas.\n",
    "\n",
    "- **Ejemplo 2: Propiedades de los números primos**  \n",
    "  Proposición: \"Si un número entero mayor que 1 es primo, entonces no tiene divisores distintos de 1 y de sí mismo.\"  \n",
    "  Contrarrecíproco: \"Si un número entero mayor que 1 tiene divisores distintos de 1 y de sí mismo, entonces no es primo.\"  \n",
    "  *Aplicación:* Este contrarrecíproco se usa en pruebas de primalidad, facilitando la exclusión de números compuestos en la teoría de números.\n",
    "\n",
    "---\n",
    "\n",
    "**Conclusión:** Estas aplicaciones del método del contrarrecíproco demuestran su efectividad en áreas clave de las matemáticas. Probar proposiciones mediante sus contrarrecíprocos ayuda a reducir la complejidad de muchas demostraciones y a identificar propiedades fundamentales en distintas ramas matemáticas."
   ]
  },
  {
   "cell_type": "markdown",
   "id": "aaac9127",
   "metadata": {},
   "source": [
    "[Video hasta aquí]()"
   ]
  },
  {
   "cell_type": "markdown",
   "id": "d0944cf3",
   "metadata": {},
   "source": [
    "\n",
    "### 4. Actividades de aprendizaje\n",
    "\n",
    "1. **Análisis de Ejemplos Guiados en Diferentes Áreas**\n",
    "   - El docente presentará ejemplos de cada área matemática, explicando cómo se aplica el método del contrarrecíproco para simplificar la demostración de una proposición.\n",
    "   - Ejemplo en Cálculo Diferencial: Demostrar que si una función es derivable, entonces es continua, usando el contrarrecíproco.\n",
    "   - Ejemplo en Álgebra Lineal: Demostrar que si dos vectores son ortogonales, su producto punto es cero.\n",
    "\n",
    "2. **Demostración Colaborativa en Grupos**\n",
    "   - Los estudiantes se agrupan y, a partir de ejemplos dados, deben usar el contrarrecíproco para probar una afirmación relacionada en alguna de las áreas vistas.\n",
    "   - Cada grupo elige un ejemplo de una asignatura diferente (Cálculo, Geometría, Álgebra) y presenta su proceso de razonamiento al resto de la clase.\n",
    "\n",
    "3. **Discusión Dirigida: Ventajas del Método del Contrarrecíproco**\n",
    "   - Reflexión grupal sobre cuándo el contrarrecíproco puede ser más sencillo o conveniente que una demostración directa.\n",
    "   - Análisis de casos en los que el método del contrarrecíproco no aplica o no es útil.\n",
    "\n",
    "---\n"
   ]
  },
  {
   "cell_type": "markdown",
   "id": "acc4dff1",
   "metadata": {},
   "source": [
    "Aquí tienes el desarrollo para la sección **Actividades de aprendizaje** de la clase:\n",
    "\n",
    "---\n"
   ]
  },
  {
   "cell_type": "markdown",
   "id": "eec87dd2",
   "metadata": {},
   "source": [
    "\n",
    "### 4. **Actividades de aprendizaje**\n",
    "\n",
    "Esta sección propone actividades para que los estudiantes puedan aplicar y analizar el método del contrarrecíproco en distintos contextos matemáticos, promoviendo la comprensión activa y colaborativa del método.\n",
    "\n",
    "---\n"
   ]
  },
  {
   "cell_type": "markdown",
   "id": "3b14c872",
   "metadata": {},
   "source": [
    "\n",
    "#### 1. **Análisis de Ejemplos Guiados en Diferentes Áreas**\n",
    "\n",
    "   - **Descripción:** El docente introduce ejemplos concretos en cada área matemática y guía a los estudiantes en la aplicación del método del contrarrecíproco. En cada caso, se explica el proceso paso a paso, resaltando cómo el contrarrecíproco simplifica o facilita la demostración de una proposición.\n",
    "   \n",
    "   - **Ejemplo en Cálculo Diferencial:**  \n",
    "     **Proposición:** \"Si una función es derivable en un punto, entonces es continua en ese punto.\"  \n",
    "     **Enfoque:** Utilizar el contrarrecíproco: \"Si una función no es continua en un punto, entonces no es derivable en ese punto.\"  \n",
    "     **Proceso:**  \n",
    "       - Se examina un ejemplo de una función con discontinuidad en un punto (como una función a tramos) y se verifica la no existencia de la derivada.\n",
    "       - Se explica cómo la demostración mediante el contrarrecíproco simplifica el razonamiento al enfocarse en la discontinuidad como criterio para descartar la derivabilidad.\n",
    "\n",
    "   - **Ejemplo en Álgebra Lineal:**  \n",
    "     **Proposición:** \"Si dos vectores son ortogonales, su producto punto es cero.\"  \n",
    "     **Enfoque:** Usar el contrarrecíproco: \"Si el producto punto de dos vectores no es cero, entonces los vectores no son ortogonales.\"  \n",
    "     **Proceso:**  \n",
    "       - El docente presenta dos vectores en el plano y calcula su producto punto. Se analiza el resultado para observar si los vectores son o no ortogonales.\n",
    "       - El contrarrecíproco facilita la demostración al enfocarse en el producto punto como evidencia de la no ortogonalidad, simplificando el análisis.\n",
    "\n",
    "---\n"
   ]
  },
  {
   "cell_type": "markdown",
   "id": "7d5a7535",
   "metadata": {},
   "source": [
    "\n",
    "#### 2. **Demostración Colaborativa en Grupos**\n",
    "\n",
    "   - **Descripción:** Los estudiantes trabajan en equipos y eligen un ejemplo en una asignatura específica (como cálculo, geometría, o álgebra). A partir de la proposición seleccionada, utilizan el método del contrarrecíproco para demostrar una afirmación o propiedad, y luego comparten sus resultados y razonamientos con la clase.\n",
    "   \n",
    "   - **Instrucciones para los estudiantes:**\n",
    "     - Formar grupos de 3 a 4 personas.\n",
    "     - Cada grupo elige una proposición en su área asignada (por ejemplo, en geometría, demostrar que si un triángulo es equilátero, todos sus ángulos son iguales a 60 grados).\n",
    "     - Aplicar el método del contrarrecíproco para demostrar la proposición y documentar los pasos seguidos en la demostración.\n",
    "     - Presentar el razonamiento ante la clase, explicando cómo el contrarrecíproco ayudó a simplificar la demostración.\n",
    "   \n",
    "   - **Propósitos:** \n",
    "     - Fomentar el trabajo en equipo y la discusión de ideas matemáticas.\n",
    "     - Permitir que los estudiantes experimenten el proceso de demostración y compartan sus enfoques con sus compañeros.\n",
    "     - Profundizar en el entendimiento del contrarrecíproco y observar su aplicabilidad en distintos problemas matemáticos.\n",
    "\n",
    "---\n"
   ]
  },
  {
   "cell_type": "markdown",
   "id": "42f0a2f1",
   "metadata": {},
   "source": [
    "\n",
    "#### 3. **Discusión Dirigida: Ventajas del Método del Contrarrecíproco**\n",
    "\n",
    "   - **Descripción:** Esta actividad se enfoca en una reflexión grupal sobre el método del contrarrecíproco, identificando sus ventajas en comparación con otros métodos de demostración y discutiendo situaciones en las que podría no ser el método más apropiado.\n",
    "   \n",
    "   - **Temas para discusión:**\n",
    "     - **Casos de simplicidad del contrarrecíproco:** Situaciones en las que el contrarrecíproco ofrece una manera más directa de probar una proposición, como en problemas de exclusión (por ejemplo, descartando la derivabilidad de funciones discontinuas).\n",
    "     - **Comparación con el método de reducción al absurdo:** Discusión sobre cuándo puede ser conveniente elegir uno u otro método en función de la naturaleza de la proposición.\n",
    "     - **Limitaciones del contrarrecíproco:** Situaciones en las que el contrarrecíproco no es útil o aplicable, como en demostraciones que requieren una construcción directa o un análisis constructivo de una propiedad matemática.\n",
    "\n",
    "   - **Propósito:** \n",
    "     - Fomentar un pensamiento crítico sobre los métodos de demostración indirecta.\n",
    "     - Ayudar a los estudiantes a elegir adecuadamente el método de demostración más efectivo en función del problema planteado.\n",
    "     - Profundizar la comprensión de las aplicaciones del contrarrecíproco, mejorando la habilidad para razonar de manera lógica y estratégica.\n",
    "\n",
    "--- \n",
    "\n",
    "Estas actividades están diseñadas para consolidar el aprendizaje del método del contrarrecíproco, fomentando la participación activa, el pensamiento crítico y el aprendizaje colaborativo en diferentes contextos matemáticos."
   ]
  },
  {
   "cell_type": "markdown",
   "id": "001eb1e4",
   "metadata": {},
   "source": [
    "[Video hasta aquí]()"
   ]
  },
  {
   "cell_type": "markdown",
   "id": "458435f7",
   "metadata": {},
   "source": [
    "\n",
    "### 5. Tarea o actividades de ejercitación y fijación\n",
    "\n",
    "1. **Ejercicios Aplicados por Área**\n",
    "   - **Cálculo Diferencial**: Demuestra que si una función $f(x)$ es diferenciable, entonces $f(x)$ es continua.\n",
    "   - **Cálculo Integral**: Usa el método del contrarrecíproco para probar que si una función es integrable en un intervalo, entonces el área bajo la curva es finita.\n",
    "   - **Geometría Vectorial**: Demuestra, usando el contrarrecíproco, que si el producto punto de dos vectores es cero, entonces los vectores son ortogonales.\n",
    "   - **Estadística para Ciencia de Datos**: Aplica el método del contrarrecíproco para demostrar que si dos eventos son independientes, la probabilidad condicional de uno dado el otro es igual a su probabilidad marginal.\n",
    "   - **Geometría Euclidiana**: Demuestra que si un triángulo es equilátero, entonces todos sus ángulos internos son iguales.\n",
    "   - **Teoría de Números**: Demuestra que si un número entero es divisible por 6, entonces es divisible por 2 y por 3.\n",
    "\n",
    "2. **Problemas de Síntesis**\n",
    "   - Proponer una situación problema donde se debe decidir si el contrarrecíproco es una buena estrategia de demostración y justificar su elección.\n",
    "   - Investigar y resolver un problema donde se requiera combinar el método del contrarrecíproco con otros métodos de demostración indirecta.\n",
    "\n",
    "---\n"
   ]
  },
  {
   "cell_type": "markdown",
   "id": "9b75f793",
   "metadata": {},
   "source": []
  },
  {
   "cell_type": "markdown",
   "id": "61f7c7e9",
   "metadata": {},
   "source": [
    "[Video hasta aquí]()"
   ]
  },
  {
   "cell_type": "markdown",
   "id": "9d3185d1",
   "metadata": {},
   "source": [
    "\n",
    "### 6. Diseño de actividad de retroalimentación\n",
    "\n",
    "1. **Discusión y Resolución en Clase**\n",
    "   - Al inicio de la siguiente clase, se revisarán los ejercicios de tarea. Cada grupo de estudiantes comparte su solución y su experiencia con el método.\n",
    "   - Se fomenta que los estudiantes discutan qué les pareció sencillo o difícil, compartiendo sus dudas y aclaraciones sobre el uso del contrarrecíproco en cada área.\n",
    "\n",
    "2. **Evaluación por Pares**\n",
    "   - Los estudiantes evalúan los ejercicios de sus compañeros usando una rúbrica simple que incluya criterios como: corrección de la lógica, claridad en el uso del contrarrecíproco y justificación en el proceso de razonamiento.\n",
    "\n",
    "3. **Reflexión Escrita**\n",
    "   - Como cierre de la actividad, cada estudiante realiza una reflexión breve sobre cómo y cuándo usaría el método del contrarrecíproco en problemas futuros y cuál fue su aprendizaje más significativo en esta clase.\n",
    "\n",
    "4. **Revisión del Docente**\n",
    "   - El docente revisa las reflexiones y, en caso de identificar conceptos erróneos, organiza una sesión de refuerzo en la siguiente clase, retomando los conceptos claves y aclarando las dudas pendientes.\n"
   ]
  },
  {
   "cell_type": "markdown",
   "id": "dc9952fa",
   "metadata": {},
   "source": [
    "\n",
    "---\n",
    "\n",
    "Este diseño de clase combina teoría, práctica colaborativa y reflexión, permitiendo a los estudiantes comprender y aplicar el método del contrarrecíproco en diversas áreas de las matemáticas y la estadística, mientras desarrollan habilidades críticas de demostración y razonamiento lógico."
   ]
  },
  {
   "cell_type": "markdown",
   "id": "b05c5f34",
   "metadata": {},
   "source": [
    "# Tarea\n",
    "\n",
    "Aquí tienes una colección de ejercicios en los que los estudiantes pueden aplicar tanto el método directo como el método del contrarrecíproco para comparar el nivel de dificultad de cada enfoque. Los problemas se centran en propiedades fundamentales de geometría euclidiana y teoría de números, proporcionando una oportunidad para reflexionar sobre cuándo cada método puede resultar más conveniente.\n",
    "\n",
    "---\n",
    "\n",
    "### Ejercicios de Geometría Euclidiana y Teoría de Números\n",
    "\n",
    "1. **Teorema de los Ángulos en un Triángulo**\n",
    "   - Demostrar: \"Si un triángulo es equilátero, entonces todos sus ángulos miden 60 grados.\"\n",
    "   - Método directo: Probar la igualdad de los ángulos a partir de la definición de triángulo equilátero.\n",
    "   - Método del contrarrecíproco: \"Si algún ángulo no es de 60 grados, entonces el triángulo no es equilátero.\"\n"
   ]
  },
  {
   "cell_type": "markdown",
   "id": "21264e0b",
   "metadata": {},
   "source": [
    "\n",
    "2. **Paridad de la Suma de Números Pares**\n",
    "   - Demostrar: \"La suma de dos números pares es par.\"\n",
    "   - Método directo: Expresar los números como \\(2a\\) y \\(2b\\) y sumar.\n",
    "   - Método del contrarrecíproco: \"Si la suma de dos números no es par, entonces al menos uno de los números no es par.\"\n",
    "\n",
    "3. **Divisibilidad en Teoría de Números**\n",
    "   - Demostrar: \"Si un número es divisible por 6, entonces es divisible por 2 y por 3.\"\n",
    "   - Método directo: Definir un número divisible por 6 como \\(6k\\) y descomponer.\n",
    "   - Método del contrarrecíproco: \"Si un número no es divisible por 2 o no es divisible por 3, entonces no es divisible por 6.\"\n",
    "\n",
    "4. **Propiedad de la Recta Mediana en un Triángulo Isósceles**\n",
    "   - Demostrar: \"En un triángulo isósceles, la mediana a la base es también una altura.\"\n",
    "   - Método directo: Usar simetría y congruencia de los ángulos.\n",
    "   - Método del contrarrecíproco: \"Si la mediana a la base no es perpendicular a la base, entonces el triángulo no es isósceles.\"\n",
    "\n",
    "5. **Suma de Ángulos en un Cuadrilátero Convexo**\n",
    "   - Demostrar: \"La suma de los ángulos interiores de un cuadrilátero convexo es 360 grados.\"\n",
    "   - Método directo: Dividir el cuadrilátero en dos triángulos y sumar los ángulos.\n",
    "   - Método del contrarrecíproco: \"Si la suma de los ángulos no es 360 grados, entonces no es un cuadrilátero convexo.\"\n",
    "\n",
    "6. **Propiedad del Producto de Números Primos**\n",
    "   - Demostrar: \"Si \\( p \\) y \\( q \\) son números primos y \\( p \\neq q \\), entonces \\( p \\cdot q \\) no es un cuadrado perfecto.\"\n",
    "   - Método directo: Analizar la factorización de \\( p \\cdot q \\) y el concepto de cuadrado perfecto.\n",
    "   - Método del contrarrecíproco: \"Si \\( p \\cdot q \\) es un cuadrado perfecto, entonces \\( p \\) y \\( q \\) no son números primos diferentes.\"\n",
    "\n",
    "7. **Teorema del Triángulo Rectángulo y su Altura**\n",
    "   - Demostrar: \"Si un triángulo es rectángulo, entonces la altura al lado de la hipotenusa genera dos triángulos semejantes al original.\"\n",
    "   - Método directo: Aplicar el criterio de semejanza.\n",
    "   - Método del contrarrecíproco: \"Si la altura al lado de la hipotenusa no genera dos triángulos semejantes, entonces el triángulo no es rectángulo.\"\n",
    "\n",
    "8. **Paridad de Productos en Teoría de Números**\n",
    "   - Demostrar: \"El producto de un número par y un número impar es par.\"\n",
    "   - Método directo: Representar los números y multiplicar.\n",
    "   - Método del contrarrecíproco: \"Si el producto de dos números no es par, entonces uno de los factores no es par.\"\n"
   ]
  },
  {
   "cell_type": "markdown",
   "id": "6c7aaa7f",
   "metadata": {},
   "source": [
    "\n",
    "9. **Rectas Paralelas y Ángulos Alternos Internos**\n",
    "   - Demostrar: \"Si dos rectas son paralelas, los ángulos alternos internos formados por una transversal son iguales.\"\n",
    "   - Método directo: Aplicar el postulado de las paralelas de Euclides.\n",
    "   - Método del contrarrecíproco: \"Si los ángulos alternos internos no son iguales, entonces las rectas no son paralelas.\"\n"
   ]
  },
  {
   "cell_type": "markdown",
   "id": "102b5e56",
   "metadata": {},
   "source": [
    "\n",
    "10. **Propiedad de los Divisores y la Divisibilidad**\n",
    "    - Demostrar: \"Si un número es divisible por 4, entonces su cuadrado es divisible por 16.\"\n",
    "    - Método directo: Representar el número como \\(4k\\) y elevar al cuadrado.\n",
    "    - Método del contrarrecíproco: \"Si el cuadrado de un número no es divisible por 16, entonces el número no es divisible por 4.\"\n",
    "\n",
    "---\n",
    "\n",
    "Estos ejercicios permiten que los estudiantes desarrollen habilidades para elegir adecuadamente entre métodos de demostración y para comprender cómo el contrarrecíproco puede simplificar o facilitar el análisis de ciertas proposiciones."
   ]
  },
  {
   "cell_type": "code",
   "execution_count": null,
   "id": "59a5b970",
   "metadata": {},
   "outputs": [],
   "source": []
  },
  {
   "cell_type": "code",
   "execution_count": null,
   "id": "11daadee",
   "metadata": {},
   "outputs": [],
   "source": []
  },
  {
   "cell_type": "markdown",
   "id": "64ac8d32",
   "metadata": {},
   "source": [
    "# Ejemplo ilustrativo"
   ]
  },
  {
   "cell_type": "markdown",
   "id": "a3e5e6ab",
   "metadata": {},
   "source": [
    "# 10 ejercicios de entrenamiento o adquisición de habilidades obtenido a través de ChatGPT para una formación personalizada y centrada en la habilidad que se quiere lograr con la enseñanza del ejemplo anterior"
   ]
  },
  {
   "cell_type": "code",
   "execution_count": null,
   "id": "cc539357",
   "metadata": {},
   "outputs": [],
   "source": []
  },
  {
   "cell_type": "markdown",
   "id": "2f0141c3",
   "metadata": {},
   "source": [
    "## Tareas para realizar antes de la clase  \n",
    "\n",
    "1. Ver los videos respectivos []()\n",
    "2. Memorizar las definiciones []()\n",
    "3. Sintetizar o resumir la información en mapas conceptuales. []()\n",
    "4. Tareas para incentivar el uso de la calculadora Casio 991LA cw Para ingenieros, licenciados y administradores.  \n",
    "5. Leer los ejemplos resueltos y replicar la manera de hacerlos"
   ]
  },
  {
   "cell_type": "code",
   "execution_count": 1,
   "id": "83d849ab",
   "metadata": {},
   "outputs": [],
   "source": [
    "# Tarea 1 de lectura de ejemplos y completación de procedimientos\n",
    "# asignación de tarea para realizar antes de clase\n",
    "# Consiste en leer y completar un ejemplo de texto guía\n",
    "# Esta tarea es para realizar solo de manera manuscrita en su cuaderno de clase. \n",
    "# La otra opción de presentación es elaborada en cuadernos Jupyter (En este caso solo debe realizar la cuarta parte de los ejercicios asignados)\n",
    "# \n",
    "def asignador_de_tareas(nombre_tarea, ubicacion_tarea):\n",
    "    import pandas as pd\n",
    "    import numpy as np\n",
    "    import requests\n",
    "    np.random.seed(1213)  # establecer semilla aleatoria para hacer los resultados reproducibles\n",
    "\n",
    "    def asignar_tarea(nombre_tarea, grupo_estudiantes, nombre_texto_guia, pag_seccion, numero_ejemplos_seccion, numero_ejemplos_asignados):\n",
    "        students_path = \"/home/marco/Documentos/docencia/groups_list/\" + grupo_estudiantes + \".csv\"\n",
    "        examples = list(range(1, numero_ejemplos_de_la_seccion))  \n",
    "        students_data = pd.read_csv(students_path)\n",
    "        # Crear una lista para almacenar las asignaciones\n",
    "        assignments = []\n",
    "\n",
    "        # Asignar ejercicios aleatorios a cada estudiante\n",
    "        for index, student in students_data.iterrows():\n",
    "            # Seleccionar 5 ejercicios aleatorios sin repetición\n",
    "            random_exercises = np.sort(np.random.choice(examples, numero_de_ejemplos_asignados, \\\n",
    "                                                replace = False)+ 1)\n",
    "            assignments.append([students_data[\"Nombre\"][index], *random_exercises])  # Agregar asignación a la lista\n",
    "\n",
    "    # Crear un DataFrame con las asignaciones\n",
    "        columns = [\"Student\"] + [ \"Example\" + str(i+1) for i in range(numero_de_ejemplos_asignados)]\n",
    "        assignment_df = pd.DataFrame(assignments, columns=columns)\n",
    "\n",
    "    # Guardar el DataFrame en un archivo CSV\n",
    "        assignment_csv = nombre_tarea + \"_\" + nombre_texto_guia + \"_\"+ pagina_y_seccion + \".csv\"\n",
    "        assignment_df.to_csv(assignment_csv, index=False)\n",
    "\n",
    "        print(\"\"\"Tarea 1 de lectura de ejemplos y completación de procedimientos: \n",
    "     Si faltan los enunciados de los problemas, no se valora la tarea\n",
    "    Si faltan de la conclusión verbales, no se valora la tarea.\n",
    "    Esta tarea se valora solo si la presenta de manera manuscrita en su cuaderno de clase.  \n",
    "      \"\"\", assignment_csv)\n",
    "        return assignment_df"
   ]
  },
  {
   "cell_type": "markdown",
   "id": "740f3401",
   "metadata": {
    "slideshow": {
     "slide_type": "slide"
    }
   },
   "source": [
    "# Componente de manejo de calculadora Casio asociado al objetivo de aprendizaje de esta clase  \n",
    "\n",
    "## Pasos para lograr el objetivo de aprendizaje con la experimentación en la calculadora Casio 991LA cw  "
   ]
  },
  {
   "cell_type": "code",
   "execution_count": 2,
   "id": "0f1f0ab2",
   "metadata": {},
   "outputs": [
    {
     "ename": "NameError",
     "evalue": "name 'nombre_tarea' is not defined",
     "output_type": "error",
     "traceback": [
      "\u001b[1;31m---------------------------------------------------------------------------\u001b[0m",
      "\u001b[1;31mNameError\u001b[0m                                 Traceback (most recent call last)",
      "Cell \u001b[1;32mIn[2], line 1\u001b[0m\n\u001b[1;32m----> 1\u001b[0m asignador_de_tareas(\u001b[43mnombre_tarea\u001b[49m, ubicacion_tarea)\n",
      "\u001b[1;31mNameError\u001b[0m: name 'nombre_tarea' is not defined"
     ]
    }
   ],
   "source": [
    "asignador_de_tareas(nombre_tarea, ubicacion_tarea)\n",
    "\n"
   ]
  },
  {
   "cell_type": "code",
   "execution_count": null,
   "id": "0406f442",
   "metadata": {
    "slideshow": {
     "slide_type": "slide"
    }
   },
   "outputs": [
    {
     "name": "stdout",
     "output_type": "stream",
     "text": [
      "Tarea 3 Solución problemas describiendo y justificando verbalmente: \n",
      "      Si faltan los enunciados de los problemas, no se valora la tarea\n",
      "      Si faltan de la conclusión verbales, no se valora la tarea \n",
      "      Esta tarea se valora solo si la presenta de manera manuscrita en su cuaderno de clase  \n",
      "       tarea_Purcell_Página_202_Sección_3.8.csv\n"
     ]
    },
    {
     "data": {
      "text/html": [
       "<div>\n",
       "<style scoped>\n",
       "    .dataframe tbody tr th:only-of-type {\n",
       "        vertical-align: middle;\n",
       "    }\n",
       "\n",
       "    .dataframe tbody tr th {\n",
       "        vertical-align: top;\n",
       "    }\n",
       "\n",
       "    .dataframe thead th {\n",
       "        text-align: right;\n",
       "    }\n",
       "</style>\n",
       "<table border=\"1\" class=\"dataframe\">\n",
       "  <thead>\n",
       "    <tr style=\"text-align: right;\">\n",
       "      <th></th>\n",
       "      <th>Student</th>\n",
       "      <th>Exer1</th>\n",
       "      <th>Exer2</th>\n",
       "      <th>Exer3</th>\n",
       "      <th>Exer4</th>\n",
       "      <th>Exer5</th>\n",
       "      <th>Exer6</th>\n",
       "      <th>Exer7</th>\n",
       "      <th>Exer8</th>\n",
       "      <th>Exer9</th>\n",
       "      <th>Exer10</th>\n",
       "    </tr>\n",
       "  </thead>\n",
       "  <tbody>\n",
       "    <tr>\n",
       "      <th>0</th>\n",
       "      <td>AMARIS FERNANDEZ SEBASTIAN CAMILO</td>\n",
       "      <td>4</td>\n",
       "      <td>7</td>\n",
       "      <td>9</td>\n",
       "      <td>17</td>\n",
       "      <td>21</td>\n",
       "      <td>30</td>\n",
       "      <td>39</td>\n",
       "      <td>44</td>\n",
       "      <td>51</td>\n",
       "      <td>54</td>\n",
       "    </tr>\n",
       "    <tr>\n",
       "      <th>1</th>\n",
       "      <td>ARENAS HERAZO GABRIEL ENRIQUE</td>\n",
       "      <td>2</td>\n",
       "      <td>5</td>\n",
       "      <td>11</td>\n",
       "      <td>17</td>\n",
       "      <td>26</td>\n",
       "      <td>28</td>\n",
       "      <td>32</td>\n",
       "      <td>40</td>\n",
       "      <td>46</td>\n",
       "      <td>50</td>\n",
       "    </tr>\n",
       "    <tr>\n",
       "      <th>2</th>\n",
       "      <td>AYALA MENDOZA MARISOL YACIRA</td>\n",
       "      <td>10</td>\n",
       "      <td>18</td>\n",
       "      <td>21</td>\n",
       "      <td>37</td>\n",
       "      <td>39</td>\n",
       "      <td>45</td>\n",
       "      <td>46</td>\n",
       "      <td>47</td>\n",
       "      <td>51</td>\n",
       "      <td>52</td>\n",
       "    </tr>\n",
       "    <tr>\n",
       "      <th>3</th>\n",
       "      <td>BERTEL RODELO MICHELL SMIT</td>\n",
       "      <td>4</td>\n",
       "      <td>8</td>\n",
       "      <td>20</td>\n",
       "      <td>26</td>\n",
       "      <td>28</td>\n",
       "      <td>33</td>\n",
       "      <td>40</td>\n",
       "      <td>41</td>\n",
       "      <td>42</td>\n",
       "      <td>47</td>\n",
       "    </tr>\n",
       "    <tr>\n",
       "      <th>4</th>\n",
       "      <td>BULA VERGARA MARIA PAULA</td>\n",
       "      <td>12</td>\n",
       "      <td>13</td>\n",
       "      <td>20</td>\n",
       "      <td>23</td>\n",
       "      <td>25</td>\n",
       "      <td>27</td>\n",
       "      <td>29</td>\n",
       "      <td>30</td>\n",
       "      <td>34</td>\n",
       "      <td>48</td>\n",
       "    </tr>\n",
       "    <tr>\n",
       "      <th>5</th>\n",
       "      <td>CANTILLO ENSUCHO DANIEL</td>\n",
       "      <td>2</td>\n",
       "      <td>4</td>\n",
       "      <td>5</td>\n",
       "      <td>7</td>\n",
       "      <td>15</td>\n",
       "      <td>25</td>\n",
       "      <td>27</td>\n",
       "      <td>33</td>\n",
       "      <td>46</td>\n",
       "      <td>51</td>\n",
       "    </tr>\n",
       "    <tr>\n",
       "      <th>6</th>\n",
       "      <td>CERVANTES DURAN ANGELICA</td>\n",
       "      <td>2</td>\n",
       "      <td>4</td>\n",
       "      <td>5</td>\n",
       "      <td>14</td>\n",
       "      <td>17</td>\n",
       "      <td>19</td>\n",
       "      <td>22</td>\n",
       "      <td>24</td>\n",
       "      <td>34</td>\n",
       "      <td>52</td>\n",
       "    </tr>\n",
       "    <tr>\n",
       "      <th>7</th>\n",
       "      <td>GUERRA NORIEGA YONATHAN</td>\n",
       "      <td>3</td>\n",
       "      <td>20</td>\n",
       "      <td>24</td>\n",
       "      <td>26</td>\n",
       "      <td>28</td>\n",
       "      <td>35</td>\n",
       "      <td>39</td>\n",
       "      <td>48</td>\n",
       "      <td>49</td>\n",
       "      <td>53</td>\n",
       "    </tr>\n",
       "    <tr>\n",
       "      <th>8</th>\n",
       "      <td>HINCAPIE CASTRO JOHAN SEBASTIAN</td>\n",
       "      <td>10</td>\n",
       "      <td>17</td>\n",
       "      <td>27</td>\n",
       "      <td>28</td>\n",
       "      <td>29</td>\n",
       "      <td>32</td>\n",
       "      <td>36</td>\n",
       "      <td>44</td>\n",
       "      <td>48</td>\n",
       "      <td>54</td>\n",
       "    </tr>\n",
       "    <tr>\n",
       "      <th>9</th>\n",
       "      <td>HUMANEZ SANCHEZ CAMILO</td>\n",
       "      <td>3</td>\n",
       "      <td>16</td>\n",
       "      <td>19</td>\n",
       "      <td>24</td>\n",
       "      <td>33</td>\n",
       "      <td>41</td>\n",
       "      <td>43</td>\n",
       "      <td>44</td>\n",
       "      <td>47</td>\n",
       "      <td>49</td>\n",
       "    </tr>\n",
       "    <tr>\n",
       "      <th>10</th>\n",
       "      <td>IBAÑEZ MORENO FRANCISCO LUIS</td>\n",
       "      <td>3</td>\n",
       "      <td>8</td>\n",
       "      <td>13</td>\n",
       "      <td>16</td>\n",
       "      <td>21</td>\n",
       "      <td>27</td>\n",
       "      <td>28</td>\n",
       "      <td>31</td>\n",
       "      <td>42</td>\n",
       "      <td>43</td>\n",
       "    </tr>\n",
       "    <tr>\n",
       "      <th>11</th>\n",
       "      <td>MASS MIRANDA RIVALDO JOSE</td>\n",
       "      <td>2</td>\n",
       "      <td>3</td>\n",
       "      <td>12</td>\n",
       "      <td>13</td>\n",
       "      <td>23</td>\n",
       "      <td>24</td>\n",
       "      <td>31</td>\n",
       "      <td>35</td>\n",
       "      <td>46</td>\n",
       "      <td>52</td>\n",
       "    </tr>\n",
       "    <tr>\n",
       "      <th>12</th>\n",
       "      <td>MIRANDA MARTINEZ CARLOS ANDRES</td>\n",
       "      <td>10</td>\n",
       "      <td>12</td>\n",
       "      <td>21</td>\n",
       "      <td>24</td>\n",
       "      <td>25</td>\n",
       "      <td>26</td>\n",
       "      <td>27</td>\n",
       "      <td>29</td>\n",
       "      <td>39</td>\n",
       "      <td>50</td>\n",
       "    </tr>\n",
       "    <tr>\n",
       "      <th>13</th>\n",
       "      <td>MONTERROSA SOTO ABRIL</td>\n",
       "      <td>10</td>\n",
       "      <td>14</td>\n",
       "      <td>16</td>\n",
       "      <td>18</td>\n",
       "      <td>28</td>\n",
       "      <td>30</td>\n",
       "      <td>35</td>\n",
       "      <td>36</td>\n",
       "      <td>42</td>\n",
       "      <td>50</td>\n",
       "    </tr>\n",
       "    <tr>\n",
       "      <th>14</th>\n",
       "      <td>NORIEGA JIMENEZ GABRIELA</td>\n",
       "      <td>4</td>\n",
       "      <td>13</td>\n",
       "      <td>14</td>\n",
       "      <td>16</td>\n",
       "      <td>19</td>\n",
       "      <td>22</td>\n",
       "      <td>36</td>\n",
       "      <td>37</td>\n",
       "      <td>46</td>\n",
       "      <td>51</td>\n",
       "    </tr>\n",
       "    <tr>\n",
       "      <th>15</th>\n",
       "      <td>PEREZ REYES IVAN DARIO</td>\n",
       "      <td>17</td>\n",
       "      <td>19</td>\n",
       "      <td>23</td>\n",
       "      <td>26</td>\n",
       "      <td>30</td>\n",
       "      <td>33</td>\n",
       "      <td>34</td>\n",
       "      <td>40</td>\n",
       "      <td>46</td>\n",
       "      <td>53</td>\n",
       "    </tr>\n",
       "    <tr>\n",
       "      <th>16</th>\n",
       "      <td>PEREZ THERAN ERLINDA</td>\n",
       "      <td>3</td>\n",
       "      <td>6</td>\n",
       "      <td>19</td>\n",
       "      <td>21</td>\n",
       "      <td>25</td>\n",
       "      <td>30</td>\n",
       "      <td>32</td>\n",
       "      <td>39</td>\n",
       "      <td>42</td>\n",
       "      <td>45</td>\n",
       "    </tr>\n",
       "    <tr>\n",
       "      <th>17</th>\n",
       "      <td>PINEDA ROMERO YOSMERI</td>\n",
       "      <td>2</td>\n",
       "      <td>30</td>\n",
       "      <td>31</td>\n",
       "      <td>32</td>\n",
       "      <td>35</td>\n",
       "      <td>36</td>\n",
       "      <td>37</td>\n",
       "      <td>42</td>\n",
       "      <td>47</td>\n",
       "      <td>50</td>\n",
       "    </tr>\n",
       "    <tr>\n",
       "      <th>18</th>\n",
       "      <td>QUINONEZ CERVANTES MARIANA</td>\n",
       "      <td>5</td>\n",
       "      <td>6</td>\n",
       "      <td>8</td>\n",
       "      <td>13</td>\n",
       "      <td>15</td>\n",
       "      <td>32</td>\n",
       "      <td>33</td>\n",
       "      <td>42</td>\n",
       "      <td>46</td>\n",
       "      <td>49</td>\n",
       "    </tr>\n",
       "    <tr>\n",
       "      <th>19</th>\n",
       "      <td>RAMOS PEREZ YANINE</td>\n",
       "      <td>11</td>\n",
       "      <td>20</td>\n",
       "      <td>21</td>\n",
       "      <td>28</td>\n",
       "      <td>29</td>\n",
       "      <td>37</td>\n",
       "      <td>39</td>\n",
       "      <td>44</td>\n",
       "      <td>46</td>\n",
       "      <td>52</td>\n",
       "    </tr>\n",
       "    <tr>\n",
       "      <th>20</th>\n",
       "      <td>RIVAS HOYOS ESTEFANIA</td>\n",
       "      <td>7</td>\n",
       "      <td>10</td>\n",
       "      <td>12</td>\n",
       "      <td>14</td>\n",
       "      <td>17</td>\n",
       "      <td>25</td>\n",
       "      <td>28</td>\n",
       "      <td>30</td>\n",
       "      <td>37</td>\n",
       "      <td>48</td>\n",
       "    </tr>\n",
       "    <tr>\n",
       "      <th>21</th>\n",
       "      <td>ROSILLO TEJADA VANESA</td>\n",
       "      <td>12</td>\n",
       "      <td>22</td>\n",
       "      <td>23</td>\n",
       "      <td>27</td>\n",
       "      <td>28</td>\n",
       "      <td>30</td>\n",
       "      <td>34</td>\n",
       "      <td>36</td>\n",
       "      <td>40</td>\n",
       "      <td>44</td>\n",
       "    </tr>\n",
       "    <tr>\n",
       "      <th>22</th>\n",
       "      <td>SANCHEZ PADILLA SILVESTRE</td>\n",
       "      <td>4</td>\n",
       "      <td>7</td>\n",
       "      <td>15</td>\n",
       "      <td>22</td>\n",
       "      <td>32</td>\n",
       "      <td>34</td>\n",
       "      <td>38</td>\n",
       "      <td>43</td>\n",
       "      <td>48</td>\n",
       "      <td>53</td>\n",
       "    </tr>\n",
       "    <tr>\n",
       "      <th>23</th>\n",
       "      <td>SILVA ROYERO MAILY CRISTINA</td>\n",
       "      <td>4</td>\n",
       "      <td>5</td>\n",
       "      <td>12</td>\n",
       "      <td>13</td>\n",
       "      <td>20</td>\n",
       "      <td>25</td>\n",
       "      <td>30</td>\n",
       "      <td>35</td>\n",
       "      <td>42</td>\n",
       "      <td>54</td>\n",
       "    </tr>\n",
       "    <tr>\n",
       "      <th>24</th>\n",
       "      <td>USUGA GEORGE JHON ESTIVEN</td>\n",
       "      <td>5</td>\n",
       "      <td>7</td>\n",
       "      <td>8</td>\n",
       "      <td>10</td>\n",
       "      <td>22</td>\n",
       "      <td>37</td>\n",
       "      <td>39</td>\n",
       "      <td>42</td>\n",
       "      <td>44</td>\n",
       "      <td>51</td>\n",
       "    </tr>\n",
       "  </tbody>\n",
       "</table>\n",
       "</div>"
      ],
      "text/plain": [
       "                              Student  Exer1  Exer2  Exer3  Exer4  Exer5  \\\n",
       "0   AMARIS FERNANDEZ SEBASTIAN CAMILO      4      7      9     17     21   \n",
       "1       ARENAS HERAZO GABRIEL ENRIQUE      2      5     11     17     26   \n",
       "2        AYALA MENDOZA MARISOL YACIRA     10     18     21     37     39   \n",
       "3          BERTEL RODELO MICHELL SMIT      4      8     20     26     28   \n",
       "4            BULA VERGARA MARIA PAULA     12     13     20     23     25   \n",
       "5             CANTILLO ENSUCHO DANIEL      2      4      5      7     15   \n",
       "6            CERVANTES DURAN ANGELICA      2      4      5     14     17   \n",
       "7             GUERRA NORIEGA YONATHAN      3     20     24     26     28   \n",
       "8     HINCAPIE CASTRO JOHAN SEBASTIAN     10     17     27     28     29   \n",
       "9              HUMANEZ SANCHEZ CAMILO      3     16     19     24     33   \n",
       "10       IBAÑEZ MORENO FRANCISCO LUIS      3      8     13     16     21   \n",
       "11          MASS MIRANDA RIVALDO JOSE      2      3     12     13     23   \n",
       "12     MIRANDA MARTINEZ CARLOS ANDRES     10     12     21     24     25   \n",
       "13              MONTERROSA SOTO ABRIL     10     14     16     18     28   \n",
       "14           NORIEGA JIMENEZ GABRIELA      4     13     14     16     19   \n",
       "15             PEREZ REYES IVAN DARIO     17     19     23     26     30   \n",
       "16               PEREZ THERAN ERLINDA      3      6     19     21     25   \n",
       "17              PINEDA ROMERO YOSMERI      2     30     31     32     35   \n",
       "18         QUINONEZ CERVANTES MARIANA      5      6      8     13     15   \n",
       "19                 RAMOS PEREZ YANINE     11     20     21     28     29   \n",
       "20              RIVAS HOYOS ESTEFANIA      7     10     12     14     17   \n",
       "21              ROSILLO TEJADA VANESA     12     22     23     27     28   \n",
       "22          SANCHEZ PADILLA SILVESTRE      4      7     15     22     32   \n",
       "23        SILVA ROYERO MAILY CRISTINA      4      5     12     13     20   \n",
       "24          USUGA GEORGE JHON ESTIVEN      5      7      8     10     22   \n",
       "\n",
       "    Exer6  Exer7  Exer8  Exer9  Exer10  \n",
       "0      30     39     44     51      54  \n",
       "1      28     32     40     46      50  \n",
       "2      45     46     47     51      52  \n",
       "3      33     40     41     42      47  \n",
       "4      27     29     30     34      48  \n",
       "5      25     27     33     46      51  \n",
       "6      19     22     24     34      52  \n",
       "7      35     39     48     49      53  \n",
       "8      32     36     44     48      54  \n",
       "9      41     43     44     47      49  \n",
       "10     27     28     31     42      43  \n",
       "11     24     31     35     46      52  \n",
       "12     26     27     29     39      50  \n",
       "13     30     35     36     42      50  \n",
       "14     22     36     37     46      51  \n",
       "15     33     34     40     46      53  \n",
       "16     30     32     39     42      45  \n",
       "17     36     37     42     47      50  \n",
       "18     32     33     42     46      49  \n",
       "19     37     39     44     46      52  \n",
       "20     25     28     30     37      48  \n",
       "21     30     34     36     40      44  \n",
       "22     34     38     43     48      53  \n",
       "23     25     30     35     42      54  \n",
       "24     37     39     42     44      51  "
      ]
     },
     "execution_count": 5,
     "metadata": {},
     "output_type": "execute_result"
    }
   ],
   "source": [
    "asignador_de_tareas(nombre_tarea, ubicacion_tarea):\n",
    "\n",
    "\n",
    "\n"
   ]
  },
  {
   "cell_type": "markdown",
   "id": "8d41fe58",
   "metadata": {
    "slideshow": {
     "slide_type": "slide"
    }
   },
   "source": [
    "# Horario de clases del profesor Marco\n",
    "\n",
    "* Lunes 8-12: Cálculo Vectorial\n",
    "* Martes 8-12 M: Fundamentos de Aritmética. \n",
    "* Miércoles 8 a 12 M: Fundamentos de la Lógica\n",
    "* Jueves 2 a 6 PM: Desarrollo del pensamiento matemático en la infancia. \n",
    "* Viernes 8 - 12 M: Desarrollo del pensamiento matemático en la infancia. \n",
    "* Sábados 8-12 Asesorías y espacio para retroalimentación y apoyo al trabajo independiente. "
   ]
  },
  {
   "cell_type": "markdown",
   "id": "ae114e14",
   "metadata": {
    "slideshow": {
     "slide_type": "slide"
    }
   },
   "source": [
    "# Horarios de monitoría y asesoría  \n",
    "\n",
    "Coordinador de los cursos de la Facultad de Educación para regiones:    \n",
    "\n",
    "Andrés Vélez: regioneducacion.fedu@udea.edu.co  \n",
    "Coordinador Regiones  \n",
    "Facultad de Educación  \n",
    "Universidad de Antioquia  "
   ]
  },
  {
   "cell_type": "markdown",
   "id": "b1db4b6c",
   "metadata": {
    "slideshow": {
     "slide_type": "slide"
    }
   },
   "source": [
    "## Monitor Manuel San Juan Serrano\n",
    "\n",
    "Contactar escribiendo al correo: manuel.serrano1@udea.edu.co"
   ]
  },
  {
   "cell_type": "markdown",
   "id": "39559692",
   "metadata": {
    "slideshow": {
     "slide_type": "slide"
    }
   },
   "source": [
    "Martes y jueves de 8 - 12  \n",
    "Miércoles 10 - 12 y de 2 a 4 PM  \n",
    "Sábado: 8 - 12"
   ]
  },
  {
   "cell_type": "markdown",
   "id": "5a190057",
   "metadata": {},
   "source": [
    "## Monitoría virtual   \n",
    "\n",
    "Telefono del monitos en whatsApp: 3043936088  \n",
    "\n",
    "Juan David Cano Castrillón  \n",
    "Estudiante de Pregrado.  \n",
    "juan.canoc1@udea.edu.co  \n",
    "3043936088  \n"
   ]
  },
  {
   "cell_type": "markdown",
   "id": "10bce0d0",
   "metadata": {
    "slideshow": {
     "slide_type": "slide"
    }
   },
   "source": [
    "## Referentes "
   ]
  },
  {
   "cell_type": "markdown",
   "id": "1db3c468",
   "metadata": {
    "slideshow": {
     "slide_type": "slide"
    }
   },
   "source": [
    "* [Grajales Vanegas, L. M., Restrepo Estrada, C. E., Restrepo Ochoa, S. I., & Ruíz De Villalba, F. (2015). Matemáticas I para las ciencias económicas.](https://github.com/marco-canas/fundamentos_de_la_aritmetica/blob/main/referentes/2_grajales_logica/grajales_lina_matemticas.pdf)\n",
    "  \n",
    "* Duval, R. (2004). Semiosis y pensamiento humano: registros semióticos y aprendizajes intelectuales. Universidad del Valle.\n",
    "\n",
    "* [Aylwin, C. U. (2011). Lógica, conjuntos y números. Universidad de los Andes, Consejo de Publicaciones, Colección: Ciencias Básicas, Serie: Matemáticas.](https://github.com/marco-canas/fundamentos_logica/blob/main/referentes/2_uzcategui/uscategui.pdf)\n",
    "  \n",
    "* [Chollet, F. (2021). Deep learning with Python. Simon and Schuster.](https://github.com/marco-canas/didactica_ciencia_datos/blob/main/2_referentes/chollet/Fran%C3%A7ois%20Chollet%20-%20Deep%20Learning%20with%20Python-Manning%20(2018).pdf)  \n",
    "  \n",
    "* [Watson, S., Stewart, J., & Redlin, L. (2009). Precálculo. Matemáticas para el cálculo.](https://github.com/marco-canas/calculo/blob/main/referents/1_precalculo_stewart/stewart_precalculo.pdf)  \n",
    "\n",
    "* [Purcell, E. J., Varberg, D., & Rigdon, S. E. (2007). Cálculo diferencial e integral. Pearson Educación.](https://github.com/marco-canas/calculo/blob/main/referents/purcell/purcell_calculo.pdf)\n",
    "\n",
    "  \n",
    "\n",
    "* [stewart cálculo](https://udeaeduco-my.sharepoint.com/:b:/g/personal/marco_canas_udea_edu_co/EZgXZjAp8QxPqOAim2hs6LcBNPLGjSHf-xwYnUVYkwa04w?e=RZdTCy)  \n",
    "\n",
    "* [larson](https://udeaeduco-my.sharepoint.com/:b:/g/personal/marco_canas_udea_edu_co/ES71ChFeO9ZDhW3TwC5Ijk8BjxUK3Pdqz_fjHxTTFAfIAg?e=VDEjfu)\n",
    "\n",
    "\n",
    "\n",
    "* [Recomendación de la UNESCO sobre ciencia abierta](https://unesdoc.unesco.org/ark:/48223/pf0000379949_spa)\n",
    "\n",
    "* [chatGPT](https://openai.com/blog/chatgpt)  \n",
    "\n",
    "* [Géron, A. (2017). Hands-on machine learning with scikit-learn and tensorflow: Concepts. Tools, and Techniques to build intelligent systems.](https://github.com/marco-canas/didactica_ciencia_datos/blob/main/2_referentes/geron/Hands-On%20Machine%20Learning-3nd_Edition(2022).pdf)  \n",
    "\n",
    "* [McKinney, W. (2012). Python for data analysis: Data wrangling with Pandas, NumPy, and IPython. \" O'Reilly Media, Inc.\".](https://github.com/marco-canas/didactica_ciencia_datos/blob/main/2_referentes/mckinney/Wes_McKinney.pdf)  "
   ]
  },
  {
   "cell_type": "markdown",
   "id": "8e65d6f9",
   "metadata": {},
   "source": [
    "# Como estudiante, encuentro que...   \n",
    "\n",
    "F: Mis Fortalezas son:     \n",
    "O: Mis Oportunidades son:    \n",
    "D: Mis Debilidades son:    \n",
    "A: Lo que Amenazas mi aprendizaje es:  "
   ]
  },
  {
   "cell_type": "markdown",
   "id": "6b9e56a8",
   "metadata": {
    "slideshow": {
     "slide_type": "slide"
    }
   },
   "source": [
    "### [Evaluamos al profesor Marco Cañas Aquí](https://forms.office.com/Pages/ResponsePage.aspx?id=IefhmYRxjkmK_7KtTlPBwkanXIs1i1FEujpsZgO6dXpUREJPV1kxUk1JV1ozTFJIQVNIQjY5WEY3US4u)"
   ]
  },
  {
   "cell_type": "markdown",
   "id": "10f43536",
   "metadata": {
    "slideshow": {
     "slide_type": "slide"
    }
   },
   "source": [
    "### Continue su aprendizaje en la siguiente clase a través del siguiente [vínculo]()"
   ]
  },
  {
   "cell_type": "markdown",
   "id": "ba236f4d",
   "metadata": {},
   "source": [
    "### **Actividad de Clase: Expresar Ideas, Dudas y Emociones de Manera Respetuosa y Asertiva**\n"
   ]
  },
  {
   "cell_type": "markdown",
   "id": "33bcd185",
   "metadata": {},
   "source": [
    "\n",
    "**Objetivo:**  \n",
    "Desarrollar habilidades de comunicación efectiva en los estudiantes para que puedan expresar sus ideas, dudas y emociones de forma respetuosa y asertiva.\n"
   ]
  },
  {
   "cell_type": "markdown",
   "id": "701a6b0c",
   "metadata": {},
   "source": [
    "\n",
    "**Duración:**  \n",
    "15-20 minutos\n",
    "\n",
    "---\n"
   ]
  },
  {
   "cell_type": "markdown",
   "id": "f61da648",
   "metadata": {},
   "source": [
    "\n",
    "### **1. Introducción (5 minutos)**  \n",
    "- **Tema:** Introducir a los estudiantes al concepto de la comunicación asertiva, explicando cómo expresar pensamientos y emociones de manera clara y respetuosa sin agredir o ser pasivo.\n",
    "- **Dinámica:** Mostrar dos ejemplos contrastantes: uno de comunicación pasiva/agresiva y otro de comunicación asertiva. Preguntar a los estudiantes cuál creen que es más efectivo y por qué.\n"
   ]
  },
  {
   "cell_type": "markdown",
   "id": "fb5fcc8d",
   "metadata": {},
   "source": [
    "\n",
    "**Materiales:**  \n",
    "- Pizarra o diapositivas con ejemplos de frases pasivas, agresivas y asertivas.\n",
    "  \n",
    "**Ejemplo:**  \n",
    "- **Pasivo:** “Bueno… no sé si es una buena idea, pero… tal vez podrías intentarlo.”\n",
    "- **Agresivo:** “¡Tu idea es terrible, no va a funcionar!”\n",
    "- **Asertivo:** “Creo que podríamos mejorar esa idea si consideramos otro enfoque.”\n",
    "\n",
    "---\n"
   ]
  },
  {
   "cell_type": "markdown",
   "id": "b5445d5e",
   "metadata": {},
   "source": [
    "\n",
    "### **2. Ejercicio en Parejas (10 minutos)**  \n",
    "- **Instrucciones:** Dividir a los estudiantes en parejas. Darles diferentes situaciones cotidianas en las que deben comunicarse (pedir ayuda, expresar desacuerdo, compartir una idea, etc.). Cada pareja debe crear una breve conversación donde practiquen la comunicación asertiva.\n",
    "  \n",
    "**Situaciones propuestas:**\n",
    "  - Expresar desacuerdo con un compañero sobre una tarea de grupo.\n",
    "  - Pedirle ayuda al profesor sobre un concepto difícil.\n",
    "  - Expresar frustración por un malentendido en clase.\n",
    "\n",
    "- **Reglas:** Cada estudiante debe asegurarse de usar lenguaje respetuoso y asertivo para expresar su posición y emociones. Al final, cada pareja debe compartir con la clase un ejemplo de lo que discutieron.\n",
    "\n",
    "---\n"
   ]
  },
  {
   "cell_type": "markdown",
   "id": "9bcd1b30",
   "metadata": {},
   "source": [
    "\n",
    "### **3. Retroalimentación y Discusión (5 minutos)**  \n",
    "- **Discusión:** Invitar a algunos estudiantes a compartir sus experiencias de la actividad. \n",
    "- **Preguntas:** ¿Cómo se sintieron al intentar ser asertivos? ¿Les resultó difícil? ¿Cómo fue recibido el mensaje?\n",
    "  \n",
    "**Consejo:** Resaltar la importancia de practicar la asertividad como una herramienta para mejorar la comunicación interpersonal y reducir conflictos.\n",
    "\n",
    "---\n"
   ]
  },
  {
   "cell_type": "markdown",
   "id": "512fe655",
   "metadata": {},
   "source": [
    "\n",
    "### **Cierre**  \n",
    "- Resumir las características de la comunicación asertiva: uso de \"yo\" en lugar de \"tú\" para evitar culpabilizar, tono de voz calmado, y respeto hacia el interlocutor.\n",
    "- **Tarea opcional:** Pedirles que practiquen la comunicación asertiva en sus conversaciones durante la semana y escriban una reflexión breve sobre cómo les fue.\n"
   ]
  },
  {
   "cell_type": "markdown",
   "id": "42b177d7",
   "metadata": {},
   "source": [
    "\n",
    "**Material adicional:**  \n",
    "- Video corto o recurso digital sobre la importancia de la comunicación asertiva."
   ]
  },
  {
   "cell_type": "markdown",
   "id": "53cc9115",
   "metadata": {
    "slideshow": {
     "slide_type": "slide"
    }
   },
   "source": [
    "## Agradecimientos  \n",
    "\n",
    "Doy gracias a Dios por la vida de mi Hijo Joseph Cañas Osorio y la madurez que ha alcanzado. Este hijo me enorgullece y me hace falta abrazarlo cada día. \n",
    "\n",
    "Y a mi esposa Yasmira Emperatriz Barboza Mogollón por su apoyo, orientación y acompañamiento. "
   ]
  },
  {
   "cell_type": "markdown",
   "id": "88f7dbda",
   "metadata": {},
   "source": []
  }
 ],
 "metadata": {
  "celltoolbar": "Slideshow",
  "kernelspec": {
   "display_name": "base",
   "language": "python",
   "name": "python3"
  },
  "language_info": {
   "codemirror_mode": {
    "name": "ipython",
    "version": 3
   },
   "file_extension": ".py",
   "mimetype": "text/x-python",
   "name": "python",
   "nbconvert_exporter": "python",
   "pygments_lexer": "ipython3",
   "version": "3.12.4"
  },
  "rise": {
   "enable_chalkboard": true,
   "theme": "sky",
   "transition": "zoom"
  }
 },
 "nbformat": 4,
 "nbformat_minor": 5
}
