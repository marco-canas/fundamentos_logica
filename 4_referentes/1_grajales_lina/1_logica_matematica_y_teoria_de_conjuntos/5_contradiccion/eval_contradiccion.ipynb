{
 "cells": [
  {
   "cell_type": "markdown",
   "id": "dc06dec7",
   "metadata": {
    "slideshow": {
     "slide_type": "slide"
    }
   },
   "source": [
    "<table align=\"left\">\n",
    "  <td>\n",
    "    <a href=\"https://colab.research.google.com/github/marco-canas/didactica_ciencia_datos/blob/main/1_curso_machine_learning/1_evaluacion_oral_tarea_quiz_parcial.ipynb\" target=\"_parent\"><img src=\"https://colab.research.google.com/assets/colab-badge.svg\" alt=\"Open In Colab\"/></a>\n",
    "  </td>\n",
    "  <td>\n",
    "    <a target=\"_blank\" href=\"https://kaggle.com/kernels/welcome?src=https://github.com/marco-canas/didactica_ciencia_datos/blob/main/1_curso_machine_learning/1_evaluacion_oral_tarea_quiz_parcial.ipynb\"><img src=\"https://kaggle.com/static/images/open-in-kaggle.svg\" /></a>\n",
    "  </td>\n",
    "</table>"
   ]
  },
  {
   "cell_type": "markdown",
   "id": "e0c5b198",
   "metadata": {
    "slideshow": {
     "slide_type": "slide"
    }
   },
   "source": [
    "### [Video de apoyo a la lectura interactiva y experimental de este cuaderno]()"
   ]
  },
  {
   "cell_type": "markdown",
   "id": "41e82203",
   "metadata": {
    "slideshow": {
     "slide_type": "slide"
    }
   },
   "source": [
    "## [Vínculo al programa del curso:  ]()"
   ]
  },
  {
   "cell_type": "markdown",
   "id": "ca46c23b",
   "metadata": {
    "slideshow": {
     "slide_type": "slide"
    }
   },
   "source": [
    "# Modelo general de clase: [aula invertida](https://www3.gobiernodecanarias.org/medusa/ecoescuela/pedagotic/aprendizaje-invertido-flipped-classroom/)\n"
   ]
  },
  {
   "cell_type": "markdown",
   "id": "7f9be90f",
   "metadata": {
    "slideshow": {
     "slide_type": "slide"
    }
   },
   "source": [
    "# Fomento de la lectura literaria asociada a Ingeniería agropecuaria y licenciatura en Matemáticas y administración de empresas\n",
    "\n",
    "[Hábitos atómicos](https://github.com/marco-canas/habitos_atomicos/blob/main/13_como_dejar_de_postergar_usando_la_regla_de_los_dos_minutos/1_13_como_dejar_de_postergar_usando_la_regla_de_los_dos_minutos.ipynb)"
   ]
  },
  {
   "cell_type": "markdown",
   "id": "96775931",
   "metadata": {
    "slideshow": {
     "slide_type": "slide"
    }
   },
   "source": [
    "# Título de la clase: Realización evaluación oral, de Tareas en cuadernos Jupyter, Quiz o Parcial de selección múltiple o de preguntas cerradas.  \n",
    "\n"
   ]
  },
  {
   "cell_type": "markdown",
   "id": "cf101603",
   "metadata": {},
   "source": [
    "# Prompt para pedir el diseño de evaluación de acuerdo a la metodología de \"Enseñanza basada en proyectos\"  \n",
    "\n",
    "Dame, por favor, un diseño de clase, con el enfoque: STEAMS  y de aprendizaje basado en problemas y proyectos(ABPP); sobre: **\" \"**, siguiendo la estructura:   \n",
    "\n",
    "1. Título de la clase \n",
    "2. Objetivo de aprendizaje e indicadores de logro de estos objetivos. \n",
    "3.  Un mapa conceptual que resuma la clase elaborado en Graphviz de python con nodos y edges de diferentes formas, colores y rellenos y renderizado en la siguiente ubicación: `\"C:/Users/marco/Descargas\"`. No olvides el parámetro `view = True` para el método `render()` de Graphviz. Para este mapa controla las superposiciones de los nodos con: graph [overlap=false]; // Elimina superposiciones (puede aumentar el espacio)\n",
    "graph [overlap=\"scalexy\"]; // Escala el gráfico para evitar overlaps\n",
    "graph [overlap=\"compress\"]; // Comprime el grafo sin overlaps   \n",
    "   \n",
    "4. Contenido de la clase    \n",
    "   \n",
    "5. Incluye una canción o un poema que ayude a interiorizar y fijar los conceptos asociados a esta clase.  \n",
    "   \n",
    "6. Dame elementos históricos y epistemológicos asociados a esta clase, pero contados como un cuento al estilo de un cuentero antioqueño en Colombia. Incluye imágenes de los protagonistas históricos de esta clase.   \n",
    "   \n",
    "7. Actividades de aprendizaje    \n",
    "     * Incluya actividades de aprendizaje utilizando Calculadora **Casio 991 LA cw**\n",
    "     * Incluya también actividades de aprendizaje y modelación de situaciones o problemas reales a través de circuitos lógicos y circuitos digitales o electrónicos utilizando la aplicación portable cocodrilo. [Descarge esta aplicación portable aquí](https://crocodileclips.net/descargar-crocodile-clips/) \n",
    "8. Evaluación incluyendo diez proyectos, un ejemplo de quiz y un ejemplo de parcial\n",
    "9.  Tarea o actividades de ejercitación y fijación\n",
    "10. Diseño de actividad de retroalimentación.  \n",
    "11. Dame un vocabulario y frases del idioma inglés asociadas a esta clase.   \n",
    "12. Incluye apéndice para la clase sobre desarrollo de habilidades para trabajar en equipo y de asertividad y empatía para relacionarnos. También elementos de la inteligencia emocional para presentar pruebas sin temor y sin realizar fraude en ellas.   \n",
    "13. Incluye 10 referentes en didáctica de la matemática que estén de acuerdo a la propuesta didáctica de esta clase. Adiciona a estos referentes a Raymond Duval (Representaciones y cambios de representación para la adquisición de conceptos matemáticos) y a Janete Wing (Desarrollo del pensamiento computacional). Dejame todos estos referentes ordenados de acuerdo a las normas APA. Dejame todos estos referentes ordenados de acuerdo a las normas APA. Incluye las citaciones a estos referentes a medida que vallas diseñando la clase. \n",
    "\n",
    "\n",
    "Pero  que este diseño sea para que el estudiante pueda aprender experimentando en cuadernos Jupyter con funciones de usuario y animaciones y visualizaciones en python. En particular utiliza para el diseño de clase a Numpy, Pandas, SymPy, Matplotlib.pyplot, Seaborn, Plotly, ipywidgets, matplotlib.animation y Jupyter Notebook.  \n",
    "Cuando vallas a utilizar SymPy, ten en cuanta la siguiente configuración: \n",
    "# Corrección y mejora del código\n",
    "from sympy import symbols, Equivalent\n",
    "from sympy.logic.boolalg import truth_table\n",
    "\n",
    "Cada vez que utilices `matplotlib.animacion` no olvides incluir el uso de `IPython. display` para la rederización de estas animaciones a través de Jupyter Notebook. No olvides darme los diseños de clase con las ecuaciones matemáticas delimitadas con signo de dolar $ para que VS Code si me renderize estas expresiones del lenguaje latex. Cuando vallas a utilizar ipywidgets ten en cuenta la siguiente importación inicial para garantizar que la visualización interactiva si se renderize en VS Code: import numpy as np\n",
    "import matplotlib.pyplot as plt\n",
    "import ipywidgets as widgets\n",
    "from IPython.display import display, clear_output\n",
    "from matplotlib.patches import Rectangle\n",
    "\n",
    "# Configuración inicial para visualización estática\n",
    "%matplotlib inline "
   ]
  },
  {
   "cell_type": "markdown",
   "id": "42797498",
   "metadata": {},
   "source": [
    "```markdown\n",
    "# Diseño de Clase: \"Lógica en Acción: Detectando Falacias con Tablas de Verdad\"\n",
    "\n",
    "---\n",
    "\n",
    "## 1. Título de la Clase  \n",
    "**\"STEAMbusters: Cazando Falacias Lógicas con Tablas de Verdad y Python\"**\n",
    "\n",
    "---\n",
    "\n",
    "## 2. Objetivos e Indicadores de Logro  \n",
    "**Objetivo:**  \n",
    "Construir proposiciones compuestas con tablas de verdad totalmente falsas ($\\bot$), identificando falacias comunes mediante modelación computacional y aplicaciones electrónicas.  \n",
    "\n",
    "**Indicadores:**  \n",
    "- Construye tablas de verdad para $\\neg (p \\to q) \\equiv (\\neg p \\to \\neg q)$ usando SymPy.  \n",
    "- Diseña circuitos lógicos en Crocodile Clips que reflejen proposiciones inválidas.  \n",
    "- Identifica falacias en anuncios publicitarios usando matrices de Pandas.  \n",
    "- Crea animaciones en Matplotlib para visualizar equivalencias lógicas.  \n",
    "\n",
    "---\n",
    "\n",
    "## 3. Mapa Conceptual (Graphviz)  \n",
    "```python\n",
    "from graphviz import Digraph\n",
    "\n",
    "dot = Digraph(comment='Lógica Proposicional', engine='neato')\n",
    "dot.attr(graph=[  # Configuración anti-overlap\n",
    "    'overlap=false', \n",
    "    'splines=true', \n",
    "    'pad=0.5'\n",
    "])\n",
    "\n",
    "# Nodos\n",
    "dot.node('A', 'Proposiciones Compuestas', shape='ellipse', color='blue', style='filled', fillcolor='#E6F3FF')\n",
    "dot.node('B', 'Tabla de Verdad', shape='box', color='red', style='filled', fillcolor='#FFE6E6')\n",
    "dot.node('C', 'Falacias Lógicas', shape='diamond', color='green', style='filled', fillcolor='#E6FFE6')\n",
    "dot.node('D', 'STEAM', shape='octagon', color='purple', style='filled', fillcolor='#F0E6FF')\n",
    "dot.node('E', 'Circuitos Lógicos', shape='component', color='orange')\n",
    "\n",
    "# Edges\n",
    "dot.edge('A', 'B', label='Genera')\n",
    "dot.edge('B', 'C', label='Identifica')\n",
    "dot.edge('C', 'D', label='Aplica en')\n",
    "dot.edge('D', 'E', label='Modela con')\n",
    "\n",
    "# Guardar y renderizar\n",
    "dot.render(directory='C:/Users/marco/Descargas/Mapa_Logica', view=True)\n",
    "```\n",
    "\n",
    "---\n",
    "\n",
    "## 4. Contenido de la Clase  \n",
    "**Situación Real:**  \n",
    "\"*¡Si no compras nuestro producto, nunca serás feliz!*\" ➔ Falacia: $\\neg (p \\to q) \\equiv (\\neg p \\to \\neg q)$.  \n",
    "\n",
    "**Modelo Matemático:**  \n",
    "1. Definir $p$: \"Compras el producto\", $q$: \"Eres feliz\".  \n",
    "2. Mostrar con SymPy que $\\neg (p \\to q) \\not\\equiv (\\neg p \\to \\neg q)$:  \n",
    "```python\n",
    "p, q = symbols('p q')\n",
    "falacia = Equivalent(~Implies(p, q), Implies(~p, ~q))\n",
    "print(truth_table(falacia))  # Tabla con valores mixtos (no todos False)\n",
    "```\n",
    "\n",
    "---\n",
    "\n",
    "## 5. Canción/Poema  \n",
    "**Ritmo Lógico** (Melodía: *\"Despacito\"*)  \n",
    "```\n",
    "Si niegas implicación,  \n",
    "¡No cambies la dirección!  \n",
    "¬(p → q) no es ¬p → ¬q,  \n",
    "¡Usa SymPy y lo verás tú!  \n",
    "```\n",
    "\n",
    "---\n",
    "\n",
    "## 6. Historia Epistemológica (Cuento Antioqueño)  \n",
    "*\"¡Ajá pues, mijitos! En el 1854, un inglés llamado George Boole se puso a jugar con 'verdad' y 'mentira' como si fueran café y aguardiente. ¡Y así nació el álgebra que hoy usamos en los circuitos de las calculadoras Casio! (Imagen: Boole con sombrero vueltiao)*  \n",
    "\n",
    "![George Boole](https://upload.wikimedia.org/wikipedia/commons/6/6c/George_Boole.jpg)\n",
    "\n",
    "---\n",
    "\n",
    "## 7. Actividades de Aprendizaje  \n",
    "**a) Con Casio 991 LA cw:**  \n",
    "- Ingresar `(¬A ⇒ ¬B) ⇒ (A ⇒ B)` y verificar valores.  \n",
    "\n",
    "**b) Crocodile Clips:**  \n",
    "- Construir circuito para $\\neg (p \\to q)$ y comparar con $(\\neg p \\to \\neg q)$.  \n",
    "\n",
    "**c) Jupyter Notebook:**  \n",
    "```python\n",
    "# Animación de equivalencias\n",
    "from matplotlib.animation import FuncAnimation\n",
    "\n",
    "fig, ax = plt.subplots()\n",
    "x = np.linspace(0, 2*np.pi, 100)\n",
    "line, = ax.plot(x, np.sin(x))\n",
    "\n",
    "def animate(i):\n",
    "    line.set_ydata(np.sin(x + i/10))  # Metáfora de oscilación lógica\n",
    "    return line,\n",
    "\n",
    "ani = FuncAnimation(fig, animate, frames=100, interval=50)\n",
    "from IPython.display import HTML\n",
    "HTML(ani.to_jshtml())\n",
    "```\n",
    "\n",
    "---\n",
    "\n",
    "## 8. Evaluación  \n",
    "**Proyectos:**  \n",
    "1. Analizar 10 memes políticos usando tablas de verdad.  \n",
    "2. Diseñar un circuito que active una alarma si se detecta $\\bot$.  \n",
    "\n",
    "**Quiz Ejemplo:**  \n",
    "\"Demuestre que $(p \\land \\neg p)$ es una contradicción usando SymPy.\"  \n",
    "\n",
    "**Parcial:**  \n",
    "Resolver: $\\neg (p \\leftrightarrow q) \\equiv (\\neg p \\leftrightarrow \\neg q)$ (Spoiler: ¡Falso! 😉)\n",
    "\n",
    "---\n",
    "\n",
    "## 9. Tareas  \n",
    "- Ejercicio en Pandas: Crear DataFrame con todas las combinaciones de $p, q, r$ y aplicar operaciones lógicas.  \n",
    "\n",
    "---\n",
    "\n",
    "## 10. Retroalimentación  \n",
    "**Taller Interactivo:**  \n",
    "```python\n",
    "def check_falacia(p, q):\n",
    "    return not (not p or q) == (not p or not q)\n",
    "\n",
    "widgets.interact(check_falacia, p=FalseTrue, q=FalseTrue)  # Widget deslizante\n",
    "```\n",
    "\n",
    "---\n",
    "\n",
    "## 11. Vocabulario Inglés  \n",
    "- **Truth Table**: Tabla de verdad  \n",
    "- **Logical Fallacy**: Falacia lógica  \n",
    "- **Contradiction**: Contradicción  \n",
    "\n",
    "---\n",
    "\n",
    "## 12. Apéndice: Habilidades Blandas  \n",
    "- **Trabajo en Equipo:** Asignar roles en proyectos (Ej: \"Tú manejas SymPy, yo Crocodile\").  \n",
    "- **Inteligencia Emocional:** Dinámica \"Confiesa tu error lógico favorito\" para normalizar el fracaso.  \n",
    "\n",
    "---\n",
    "\n",
    "## 13. Referentes en Didáctica  \n",
    "1. Duval, R. (1999). *Representación y aprendizaje de conceptos matemáticos*.  \n",
    "2. Wing, J. (2006). *Computational Thinking*.  \n",
    "3. Aylwin, C. U. (2011). *Lógica, conjuntos y números*.  \n",
    "```python\n",
    "# Ejemplo de cita en código:\n",
    "\"\"\"\n",
    "Como señala Duval (1999), \"el cambio de representación es clave para la comprensión\" (p. 45).\n",
    "\"\"\"\n",
    "```\n",
    "\n",
    "---\n",
    "\n",
    "**Nota:** Todos los gráficos y animaciones se renderizan en Jupyter con `%matplotlib inline` y `IPython.display`. ¡Manos a la lógica! 🚀\n",
    "```"
   ]
  },
  {
   "cell_type": "markdown",
   "id": "fb9402bb",
   "metadata": {
    "slideshow": {
     "slide_type": "slide"
    }
   },
   "source": [
    "## Estrategias propuestas para la solución de las dificultades de aprendizaje detectadas"
   ]
  },
  {
   "cell_type": "markdown",
   "id": "2dd3bd5c",
   "metadata": {
    "slideshow": {
     "slide_type": "slide"
    }
   },
   "source": []
  },
  {
   "cell_type": "markdown",
   "id": "c6236d5d",
   "metadata": {},
   "source": [
    "# FODA del grupo y del profesor  \n",
    "\n",
    "* F: Fortalezas\n",
    "* O: Oportunidades\n",
    "* D: Dificultades\n",
    "* A: Amenazas."
   ]
  },
  {
   "cell_type": "markdown",
   "id": "b48f9542",
   "metadata": {},
   "source": [
    "## ¿Cómo se sintió en este espacio de enseñanza y aprendizaje?\n",
    "\n",
    "!Dios te bendiga¡"
   ]
  },
  {
   "cell_type": "markdown",
   "id": "10bce0d0",
   "metadata": {
    "slideshow": {
     "slide_type": "slide"
    }
   },
   "source": [
    "## Referentes "
   ]
  },
  {
   "cell_type": "markdown",
   "id": "d204c917",
   "metadata": {},
   "source": [
    "* [Grajales Vanegas, L. M., Restrepo Estrada, C. E., Restrepo Ochoa, S. I., & Ruíz De Villalba, F. (2015). Matemáticas I para las ciencias económicas.](https://github.com/marco-canas/fundamentos_de_la_aritmetica/blob/main/referentes/2_grajales_logica/grajales_lina_matemticas.pdf)\n",
    "  \n",
    "* Duval, R. (2004). Semiosis y pensamiento humano: registros semióticos y aprendizajes intelectuales. Universidad del Valle.\n",
    "\n",
    "* [Aylwin, C. U. (2011). Lógica, conjuntos y números. Universidad de los Andes, Consejo de Publicaciones, Colección: Ciencias Básicas, Serie: Matemáticas.](https://github.com/marco-canas/fundamentos_logica/blob/main/referentes/2_uzcategui/uscategui.pdf)\n",
    "  \n",
    "* [Chollet, F. (2021). Deep learning with Python. Simon and Schuster.](https://github.com/marco-canas/didactica_ciencia_datos/blob/main/2_referentes/chollet/Fran%C3%A7ois%20Chollet%20-%20Deep%20Learning%20with%20Python-Manning%20(2018).pdf)  \n",
    "  \n",
    "* [Watson, S., Stewart, J., & Redlin, L. (2009). Precálculo. Matemáticas para el cálculo.](https://github.com/marco-canas/calculo/blob/main/referents/1_precalculo_stewart/stewart_precalculo.pdf)  \n",
    "\n",
    "* [Purcell, E. J., Varberg, D., & Rigdon, S. E. (2007). Cálculo diferencial e integral. Pearson Educación.](https://github.com/marco-canas/calculo/blob/main/referents/purcell/purcell_calculo.pdf)\n",
    "\n",
    "  \n",
    "\n",
    "* [stewart cálculo](https://udeaeduco-my.sharepoint.com/:b:/g/personal/marco_canas_udea_edu_co/EZgXZjAp8QxPqOAim2hs6LcBNPLGjSHf-xwYnUVYkwa04w?e=RZdTCy)  \n",
    "\n",
    "* [larson](https://udeaeduco-my.sharepoint.com/:b:/g/personal/marco_canas_udea_edu_co/ES71ChFeO9ZDhW3TwC5Ijk8BjxUK3Pdqz_fjHxTTFAfIAg?e=VDEjfu)\n",
    "\n",
    "\n",
    "\n",
    "* [Recomendación de la UNESCO sobre ciencia abierta](https://unesdoc.unesco.org/ark:/48223/pf0000379949_spa)\n",
    "\n",
    "* [chatGPT](https://openai.com/blog/chatgpt)  \n",
    "\n",
    "* [Géron, A. (2017). Hands-on machine learning with scikit-learn and tensorflow: Concepts. Tools, and Techniques to build intelligent systems.](chrome-extension://efaidnbmnnnibpcajpcglclefindmkaj/http://14.139.161.31/OddSem-0822-1122/Hands-On_Machine_Learning_with_Scikit-Learn-Keras-and-TensorFlow-2nd-Edition-Aurelien-Geron.pdf)   \n"
   ]
  },
  {
   "cell_type": "markdown",
   "id": "6b9e56a8",
   "metadata": {
    "slideshow": {
     "slide_type": "slide"
    }
   },
   "source": [
    "### [Evaluamos al profesor Marco Cañas Aquí](https://forms.office.com/Pages/ResponsePage.aspx?id=IefhmYRxjkmK_7KtTlPBwkanXIs1i1FEujpsZgO6dXpUREJPV1kxUk1JV1ozTFJIQVNIQjY5WEY3US4u)"
   ]
  },
  {
   "cell_type": "markdown",
   "id": "071afa04",
   "metadata": {
    "slideshow": {
     "slide_type": "slide"
    }
   },
   "source": [
    "## [Evaluación luego de alcanzar estos objetivos de aprendizaje]()"
   ]
  },
  {
   "cell_type": "markdown",
   "id": "10f43536",
   "metadata": {
    "slideshow": {
     "slide_type": "slide"
    }
   },
   "source": [
    "### Continue su aprendizaje en la siguiente clase a través del siguiente [vínculo]()"
   ]
  },
  {
   "cell_type": "markdown",
   "id": "af751e30",
   "metadata": {
    "slideshow": {
     "slide_type": "slide"
    }
   },
   "source": [
    "# Conjeturas pedagógicas fruto de la aplicación del modelo de aprendizaje invertido y del enfoque hacia la ciencia de datos con python\n",
    "\n",
    "1. Todo cálculo o resultado debe ser interpretado en una línea markdown del cuaderno Jupyter, inmediatamente después de la enunciación del resultado y después de la presentación de una tabla o gráfico bidimensional, de tal menera que el estudiante explicite la comprensión verbal del resultado y las inferencias o estrategias que este resultado le sugieren.   "
   ]
  }
 ],
 "metadata": {
  "celltoolbar": "Slideshow",
  "kernelspec": {
   "display_name": "Python 3 (ipykernel)",
   "language": "python",
   "name": "python3"
  },
  "language_info": {
   "codemirror_mode": {
    "name": "ipython",
    "version": 3
   },
   "file_extension": ".py",
   "mimetype": "text/x-python",
   "name": "python",
   "nbconvert_exporter": "python",
   "pygments_lexer": "ipython3",
   "version": "3.10.12"
  },
  "rise": {
   "enable_chalkboard": true,
   "theme": "sky",
   "transition": "zoom"
  }
 },
 "nbformat": 4,
 "nbformat_minor": 5
}
